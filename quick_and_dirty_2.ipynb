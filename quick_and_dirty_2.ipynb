{
 "cells": [
  {
   "cell_type": "code",
   "execution_count": 5,
   "metadata": {},
   "outputs": [
    {
     "name": "stdout",
     "output_type": "stream",
     "text": [
      "{'if_build_IO': False, 'dateTest': ['2018.03.09', '2018.03.12', '2018.03.13', '2018.03.14', '2018.03.15', '2018.03.16', '2018.03.19', '2018.03.20', '2018.03.21', '2018.03.22', '2018.03.23', '2018.03.26', '2018.03.27', '2018.03.28', '2018.03.29', '2018.03.30', '2018.04.02', '2018.04.03', '2018.04.04', '2018.04.05', '2018.04.06', '2018.04.09', '2018.04.10', '2018.04.11', '2018.04.12', '2018.04.13', '2018.04.16', '2018.04.17', '2018.04.18', '2018.04.19', '2018.04.20', '2018.04.23', '2018.04.24', '2018.04.25', '2018.04.26', '2018.04.27', '2018.04.30', '2018.05.01', '2018.05.02', '2018.05.03', '2018.05.04', '2018.05.07', '2018.05.08', '2018.05.09', '2018.05.10', '2018.05.11', '2018.05.14', '2018.05.15', '2018.05.16', '2018.05.17', '2018.05.18', '2018.05.21', '2018.05.22', '2018.05.23', '2018.05.24', '2018.05.25', '2018.05.28', '2018.05.29', '2018.05.30', '2018.05.31', '2018.06.01', '2018.06.04', '2018.06.05', '2018.06.06', '2018.06.07', '2018.06.08', '2018.06.11', '2018.06.12', '2018.06.13', '2018.06.14', '2018.06.15', '2018.06.18', '2018.06.19', '2018.06.20', '2018.06.21', '2018.06.22', '2018.06.25', '2018.06.26', '2018.06.27', '2018.06.28', '2018.06.29', '2018.07.02', '2018.07.03', '2018.07.04', '2018.07.05', '2018.07.06', '2018.07.09', '2018.07.10', '2018.07.11', '2018.07.12', '2018.07.13', '2018.07.30', '2018.07.31', '2018.08.01', '2018.08.02', '2018.08.03', '2018.08.06', '2018.08.07', '2018.08.08', '2018.08.09', '2018.08.10', '2018.08.13', '2018.08.14', '2018.08.15', '2018.08.16', '2018.08.17', '2018.08.20', '2018.08.21', '2018.08.22', '2018.08.23', '2018.08.24', '2018.08.27', '2018.08.28', '2018.08.29', '2018.08.30', '2018.08.31', '2018.09.03', '2018.09.04', '2018.09.05', '2018.09.06', '2018.09.07', '2018.09.10', '2018.09.11', '2018.09.12', '2018.09.13', '2018.09.14', '2018.09.17', '2018.09.18', '2018.09.19', '2018.09.20', '2018.09.21', '2018.09.24', '2018.09.25', '2018.09.26', '2018.09.27'], 'assets': [1], 'keep_prob_dropout': 0.9, 'miniBatchSize': 32, 'IDresults': '100286T', 'size_output_layer': 5, 'endAt': 6, 'startFrom': 6, 'lB': 1300, 'load_features_from': 'tsresh', 'hdf5_directory': 'D:/SDC/py/HDF5/', 'size_hidden_layer': 200, 'L': 3, 'lR0': 0.0002, 'save_journal': True, 'config_name': 'C0286T', 'movingWindow': 100, 'nEventsPerStat': 1000, 'channels': [0], 'save_stats': True, 'num_epochs': 1, 'commonY': 3, 'IDweights': '000286', 'max_var': 10, 'IO_directory': '../RNN/IO/', 'outputGain': 0.6}\n"
     ]
    },
    {
     "data": {
      "text/plain": [
       "True"
      ]
     },
     "execution_count": 5,
     "metadata": {},
     "output_type": "execute_result"
    }
   ],
   "source": [
    "from config import print_config, modify_config\n",
    "print_config('C0286T')"
   ]
  },
  {
   "cell_type": "code",
   "execution_count": 6,
   "metadata": {},
   "outputs": [
    {
     "name": "stdout",
     "output_type": "stream",
     "text": [
      "Config file ../config/C0286T.config saved\n"
     ]
    },
    {
     "data": {
      "text/plain": [
       "True"
      ]
     },
     "execution_count": 6,
     "metadata": {},
     "output_type": "execute_result"
    }
   ],
   "source": [
    "modify_config('C0286T','if_build_IO',True)\n"
   ]
  },
  {
   "cell_type": "code",
   "execution_count": 7,
   "metadata": {},
   "outputs": [
    {
     "name": "stdout",
     "output_type": "stream",
     "text": [
      "And the next number is... 23!\n",
      "And the next number is... 10!\n",
      "And the next number is... 13!\n",
      "And the next number is... 27!\n",
      "And the next number is... 5!\n",
      "And the next number is... 3!\n",
      "And the next number is... 11!\n",
      "1\n",
      "1\n",
      "2\n",
      "3\n",
      "5\n",
      "8\n",
      "13\n",
      "21\n",
      "34\n",
      "55\n"
     ]
    }
   ],
   "source": [
    "import random\n",
    "\n",
    "def lottery():\n",
    "    # returns 6 numbers between 1 and 40\n",
    "    for i in range(6):\n",
    "        yield random.randint(1, 40)\n",
    "\n",
    "    # returns a 7th number between 1 and 15\n",
    "    yield random.randint(1,15)\n",
    "\n",
    "\n",
    "genFun=lottery()\n",
    "for random_number in genFun:\n",
    "       print(\"And the next number is... %d!\" %(random_number))\n",
    "\n",
    "\n",
    "def fib():\n",
    "    a=1\n",
    "    b=1\n",
    "    while 1:\n",
    "        yield a\n",
    "        a,b=b,a+b\n",
    "\n",
    "counter = 0\n",
    "for n in fib():\n",
    "    print(n)\n",
    "    counter += 1\n",
    "    if counter == 10:\n",
    "        break"
   ]
  },
  {
   "cell_type": "code",
   "execution_count": 34,
   "metadata": {},
   "outputs": [
    {
     "name": "stdout",
     "output_type": "stream",
     "text": [
      "181116151310_100288Nov09E11T4W01.p\n",
      "15.94456071493555\n"
     ]
    },
    {
     "data": {
      "image/png": "[encoded data removed]",
      "text/plain": [
       "<Figure size 432x288 with 1 Axes>"
      ]
     },
     "metadata": {},
     "output_type": "display_data"
    }
   ],
   "source": [
    "import numpy as np\n",
    "import re\n",
    "import os\n",
    "import pickle\n",
    "import matplotlib\n",
    "import matplotlib.pyplot as plt\n",
    "import datetime as dt\n",
    "%matplotlib inline\n",
    "\n",
    "numberNetwors = 1\n",
    "list_IDresults = ['100288Nov09']#\n",
    "list_IDgre = ['100288Nov09']\n",
    "list_name = ['89_13']\n",
    "list_epoch_gre = [11]\n",
    "list_epoch_journal = [11]\n",
    "list_use_GRE = [True]\n",
    "list_weights = [np.array([0,1])]\n",
    "list_w_str = [\"01\"]\n",
    "list_t_index = [4]\n",
    "list_lb_mc_op = [.6]\n",
    "list_lb_md_op = [.8]\n",
    "list_lb_mc_ext = [.5]\n",
    "list_lb_md_ext = [.6]\n",
    "list_ub_mc_op = [1]\n",
    "list_ub_md_op = [1]\n",
    "list_ub_mc_ext = [1]\n",
    "list_ub_md_ext = [1]\n",
    "list_thr_sl = [1000]\n",
    "list_thr_tp = [1000]\n",
    "list_fix_spread = [False]\n",
    "list_fixed_spread_pips = [4]\n",
    "list_max_lots_per_pos = [.1]\n",
    "list_flexible_lot_ratio = [False]\n",
    "list_if_dir_change_close = [False]\n",
    "list_if_dir_change_extend = [False]\n",
    "\n",
    "directory = \"../RNN/resultsLive/simulate/trader/\"\n",
    "results_file_name = '_'.join([list_IDresults[i]+'E'+str(list_epoch_gre[i])+'T'+\n",
    "                         str(list_t_index[i])+'W'+list_w_str[i]\n",
    "                         for i in range(numberNetwors)])\n",
    "\n",
    "files_list = []\n",
    "# get files list, and beginning and end current dates\n",
    "files_list_all = sorted(os.listdir(directory))    \n",
    "first_file = 1\n",
    "for filename in files_list_all:            \n",
    "    m = re.search(results_file_name+'.p$',filename)\n",
    "    if m!=None:\n",
    "        print(filename)\n",
    "        results=pickle.load( open( directory+filename, 'rb' ))\n",
    "        list_dates = [dt.datetime.strptime(date, '%Y.%m.%d %H:%M:%S') for date in results['dts']]\n",
    "        dates = matplotlib.dates.date2num(list_dates)\n",
    "        plt.plot_date(list_dates, np.cumsum(results['ROIs'][:-1]),fmt='-')\n",
    "        plt.gcf().autofmt_xdate()\n",
    "        print(np.cumsum(results['ROIs'][:-1])[-1])"
   ]
  },
  {
   "cell_type": "code",
   "execution_count": 17,
   "metadata": {},
   "outputs": [
    {
     "name": "stdout",
     "output_type": "stream",
     "text": [
      "[datetime.datetime(2018, 9, 1, 0, 0), datetime.datetime(2018, 9, 1, 0, 1), datetime.datetime(2018, 9, 1, 0, 2)]\n"
     ]
    },
    {
     "data": {
      "text/plain": [
       "[<matplotlib.lines.Line2D at 0x23c3a0b6588>]"
      ]
     },
     "execution_count": 17,
     "metadata": {},
     "output_type": "execute_result"
    },
    {
     "data": {
      "image/png": "[encoded data removed]",
      "text/plain": [
       "<Figure size 432x288 with 1 Axes>"
      ]
     },
     "metadata": {},
     "output_type": "display_data"
    }
   ],
   "source": [
    "import matplotlib\n",
    "import matplotlib.pyplot as plt\n",
    "import datetime as dt\n",
    "%matplotlib inline\n",
    "#dt.datetime.strftime(,'%y%m%d%H%M%S')\n",
    "list_strdates = ['2018.09.01 00:00:00','2018.09.01 00:01:00','2018.09.01 00:02:00']\n",
    "list_dates = [dt.datetime.strptime(date, '%Y.%m.%d %H:%M:%S') for date in list_strdates]\n",
    "#dts = dt.datetime.strptime(list_dates,'%Y.%m.%d %H:%M:%S')\n",
    "print(list_dates)\n",
    "dates = matplotlib.dates.date2num(list_dates)\n",
    "plt.plot_date(dates, [0,1,2])"
   ]
  },
  {
   "cell_type": "code",
   "execution_count": 5,
   "metadata": {},
   "outputs": [],
   "source": [
    "?matplotlib.dates.date2num"
   ]
  },
  {
   "cell_type": "code",
   "execution_count": null,
   "metadata": {},
   "outputs": [],
   "source": []
  }
 ],
 "metadata": {
  "kernelspec": {
   "display_name": "Python 3",
   "language": "python",
   "name": "python3"
  },
  "language_info": {
   "codemirror_mode": {
    "name": "ipython",
    "version": 3
   },
   "file_extension": ".py",
   "mimetype": "text/x-python",
   "name": "python",
   "nbconvert_exporter": "python",
   "pygments_lexer": "ipython3",
   "version": "3.5.5"
  }
 },
 "nbformat": 4,
 "nbformat_minor": 2
}
