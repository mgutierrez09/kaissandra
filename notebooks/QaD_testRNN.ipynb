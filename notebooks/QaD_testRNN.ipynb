{
 "cells": [
  {
   "cell_type": "code",
   "execution_count": 1,
   "metadata": {},
   "outputs": [
    {
     "name": "stdout",
     "output_type": "stream",
     "text": [
      "C:\\Users\\mgutierrez\\root\\Projects\\SDC\\py\\kaissandra\\ added to python path\n"
     ]
    }
   ],
   "source": [
    "import sys\n",
    "import os\n",
    "\n",
    "this_path = os.getcwd()\n",
    "path = '\\\\'.join(this_path.split('\\\\')[:-1])+'\\\\'\n",
    "if path not in sys.path:\n",
    "    sys.path.insert(0, path)\n",
    "    print(path+\" added to python path\")\n",
    "else:\n",
    "    print(path+\" already in python path\")\n",
    "\n",
    "%load_ext autoreload\n",
    "%autoreload 2"
   ]
  },
  {
   "cell_type": "code",
   "execution_count": 2,
   "metadata": {},
   "outputs": [
    {
     "name": "stderr",
     "output_type": "stream",
     "text": [
      "C:\\ProgramData\\Anaconda3\\envs\\py35\\lib\\site-packages\\h5py\\__init__.py:36: FutureWarning: Conversion of the second argument of issubdtype from `float` to `np.floating` is deprecated. In future, it will be treated as `np.float64 == np.dtype(float).type`.\n",
      "  from ._conv import register_converters as _register_converters\n"
     ]
    },
    {
     "name": "stdout",
     "output_type": "stream",
     "text": [
      "Config file ../../config/C0520BS.config loaded from disk\n",
      "IDresults: 100520BSNFR\n",
      "INFO:tensorflow:Restoring parameters from ../../RNN/weights/000520/000008/000008\n",
      "Parameters loaded. Epoch 8\n",
      "Epoch 8 of 34. Getting output...\n"
     ]
    },
    {
     "name": "stderr",
     "output_type": "stream",
     "text": [
      "100%|████████████████████████████████████████████████████████████████████████████████████████████████████████████████████████████████████████| 23/23 [02:11<00:00,  5.87s/it]\n"
     ]
    },
    {
     "name": "stdout",
     "output_type": "stream",
     "text": [
      "Getting results\n",
      "Epoch 8, J_train = 6.518413309077909, J_test = 6.342222690582275\n"
     ]
    },
    {
     "name": "stderr",
     "output_type": "stream",
     "text": [
      "0it [00:00, ?it/s]\n",
      "C:\\ProgramData\\Anaconda3\\envs\\py35\\lib\\site-packages\\numpy\\core\\fromnumeric.py:3194: RuntimeWarning: Degrees of freedom <= 0 for slice\n",
      "  **kwargs)\n",
      "C:\\ProgramData\\Anaconda3\\envs\\py35\\lib\\site-packages\\numpy\\core\\_methods.py:105: RuntimeWarning: invalid value encountered in true_divide\n",
      "  arrmean, rcount, out=arrmean, casting='unsafe', subok=False)\n",
      "C:\\ProgramData\\Anaconda3\\envs\\py35\\lib\\site-packages\\numpy\\core\\_methods.py:127: RuntimeWarning: invalid value encountered in double_scalars\n",
      "  ret = ret.dtype.type(ret / rcount)\n"
     ]
    },
    {
     "name": "stdout",
     "output_type": "stream",
     "text": [
      "Epoch = 8. Time index = 0. Threshold MC = 0.5. Threshold MD = 0.5\n",
      "J_test = 6.342222690582275, J_train = 6.518413309077909, Accuracy=0.5461591161740804\n",
      "RD = 266522 NZ = 513873 NZA = 980652 pNZ = 44.734% pNZA = 85.368% AD = 51.87% ADA = 27.18% NO = 1 GSP = 0.00% NSP = 0.00%\n",
      "SI2 = -0.55 SI = -0.55 eGROI = 0.00% eROI = 0.00% eROI2 = 0.00% eROI3 = 0.00% mSpread = 0.0000%\n"
     ]
    },
    {
     "name": "stderr",
     "output_type": "stream",
     "text": [
      "100%|██████████████████████████████████████████████████████████████████████████████████████████████████████████████████████████████████| 1328/1328 [00:00<00:00, 2234.06it/s]\n"
     ]
    },
    {
     "name": "stdout",
     "output_type": "stream",
     "text": [
      "Epoch = 8. Time index = 0. Threshold MC = 0.5. Threshold MD = 0.6\n",
      "RD = 4694 NZ = 7230 NZA = 15328 pNZ = 0.629% pNZA = 1.334% AD = 64.92% ADA = 30.62% NO = 665 GSP = 61.95% NSP = 38.20%\n",
      "SI2 = -32.75 SI = -111.75 eGROI = 10.56% eROI = -13.78% eROI2 = -2.74% eROI3 = -9.39% mSpread = 0.0366%\n"
     ]
    },
    {
     "name": "stderr",
     "output_type": "stream",
     "text": [
      "0it [00:00, ?it/s]\n"
     ]
    },
    {
     "name": "stdout",
     "output_type": "stream",
     "text": [
      "Epoch = 8. Time index = 0. Threshold MC = 0.5. Threshold MD = 0.7\n",
      "RD = 342 NZ = 397 NZA = 734 pNZ = 0.035% pNZA = 0.064% AD = 86.15% ADA = 46.59% NO = 1 GSP = 0.00% NSP = 0.00%\n",
      "SI2 = -0.55 SI = -0.55 eGROI = 0.00% eROI = 0.00% eROI2 = 0.00% eROI3 = 0.00% mSpread = 0.0000%\n"
     ]
    },
    {
     "name": "stderr",
     "output_type": "stream",
     "text": [
      "0it [00:00, ?it/s]\n"
     ]
    },
    {
     "name": "stdout",
     "output_type": "stream",
     "text": [
      "Epoch = 8. Time index = 0. Threshold MC = 0.5. Threshold MD = 0.8\n",
      "RD = 0 NZ = 0 NZA = 0 pNZ = 0.000% pNZA = 0.000% AD = 0.00% ADA = 0.00% NO = 1 GSP = 0.00% NSP = 0.00%\n",
      "SI2 = -0.55 SI = -0.55 eGROI = 0.00% eROI = 0.00% eROI2 = 0.00% eROI3 = 0.00% mSpread = 0.0000%\n"
     ]
    },
    {
     "name": "stderr",
     "output_type": "stream",
     "text": [
      "0it [00:00, ?it/s]\n"
     ]
    },
    {
     "name": "stdout",
     "output_type": "stream",
     "text": [
      "Epoch = 8. Time index = 0. Threshold MC = 0.5. Threshold MD = 0.9\n",
      "RD = 0 NZ = 0 NZA = 0 pNZ = 0.000% pNZA = 0.000% AD = 0.00% ADA = 0.00% NO = 1 GSP = 0.00% NSP = 0.00%\n",
      "SI2 = -0.55 SI = -0.55 eGROI = 0.00% eROI = 0.00% eROI2 = 0.00% eROI3 = 0.00% mSpread = 0.0000%\n",
      "\n"
     ]
    },
    {
     "name": "stderr",
     "output_type": "stream",
     "text": [
      "0it [00:00, ?it/s]\n"
     ]
    },
    {
     "name": "stdout",
     "output_type": "stream",
     "text": [
      "Epoch = 8. Time index = 0. Threshold MC = 0.6. Threshold MD = 0.5\n",
      "RD = 95099 NZ = 180477 NZA = 296884 pNZ = 15.711% pNZA = 25.844% AD = 52.69% ADA = 32.03% NO = 1 GSP = 0.00% NSP = 0.00%\n",
      "SI2 = -0.55 SI = -0.55 eGROI = 0.00% eROI = 0.00% eROI2 = 0.00% eROI3 = 0.00% mSpread = 0.0000%\n"
     ]
    },
    {
     "name": "stderr",
     "output_type": "stream",
     "text": [
      "100%|████████████████████████████████████████████████████████████████████████████████████████████████████████████████████████████████████| 430/430 [00:00<00:00, 1986.80it/s]\n"
     ]
    },
    {
     "name": "stdout",
     "output_type": "stream",
     "text": [
      "Epoch = 8. Time index = 0. Threshold MC = 0.6. Threshold MD = 0.6\n",
      "RD = 1847 NZ = 2698 NZA = 4548 pNZ = 0.235% pNZA = 0.396% AD = 68.46% ADA = 40.61% NO = 287 GSP = 62.02% NSP = 41.11%\n",
      "SI2 = -20.85 SI = -39.85 eGROI = 3.88% eROI = -5.92% eROI2 = -1.86% eROI3 = -4.73% mSpread = 0.0341%\n"
     ]
    },
    {
     "name": "stderr",
     "output_type": "stream",
     "text": [
      "0it [00:00, ?it/s]\n"
     ]
    },
    {
     "name": "stdout",
     "output_type": "stream",
     "text": [
      "Epoch = 8. Time index = 0. Threshold MC = 0.6. Threshold MD = 0.7\n",
      "RD = 207 NZ = 232 NZA = 377 pNZ = 0.020% pNZA = 0.033% AD = 89.22% ADA = 54.91% NO = 1 GSP = 0.00% NSP = 0.00%\n",
      "SI2 = -0.55 SI = -0.55 eGROI = 0.00% eROI = 0.00% eROI2 = 0.00% eROI3 = 0.00% mSpread = 0.0000%\n"
     ]
    },
    {
     "name": "stderr",
     "output_type": "stream",
     "text": [
      "0it [00:00, ?it/s]\n"
     ]
    },
    {
     "name": "stdout",
     "output_type": "stream",
     "text": [
      "Epoch = 8. Time index = 0. Threshold MC = 0.6. Threshold MD = 0.8\n",
      "RD = 0 NZ = 0 NZA = 0 pNZ = 0.000% pNZA = 0.000% AD = 0.00% ADA = 0.00% NO = 1 GSP = 0.00% NSP = 0.00%\n",
      "SI2 = -0.55 SI = -0.55 eGROI = 0.00% eROI = 0.00% eROI2 = 0.00% eROI3 = 0.00% mSpread = 0.0000%\n"
     ]
    },
    {
     "name": "stderr",
     "output_type": "stream",
     "text": [
      "0it [00:00, ?it/s]\n"
     ]
    },
    {
     "name": "stdout",
     "output_type": "stream",
     "text": [
      "Epoch = 8. Time index = 0. Threshold MC = 0.6. Threshold MD = 0.9\n",
      "RD = 0 NZ = 0 NZA = 0 pNZ = 0.000% pNZA = 0.000% AD = 0.00% ADA = 0.00% NO = 1 GSP = 0.00% NSP = 0.00%\n",
      "SI2 = -0.55 SI = -0.55 eGROI = 0.00% eROI = 0.00% eROI2 = 0.00% eROI3 = 0.00% mSpread = 0.0000%\n",
      "\n"
     ]
    },
    {
     "name": "stderr",
     "output_type": "stream",
     "text": [
      "100%|██████████████████████████████████████████████████████████████████████████████████████████████████████████████████████████████████| 9953/9953 [00:03<00:00, 3297.83it/s]\n"
     ]
    },
    {
     "name": "stdout",
     "output_type": "stream",
     "text": [
      "Epoch = 8. Time index = 0. Threshold MC = 0.7. Threshold MD = 0.5\n",
      "RD = 7396 NZ = 13768 NZA = 19216 pNZ = 1.199% pNZA = 1.673% AD = 53.72% ADA = 38.49% NO = 2375 GSP = 54.32% NSP = 45.98%\n",
      "SI2 = -212.25 SI = -214.25 eGROI = 3.10% eROI = -42.15% eROI2 = -44.40% eROI3 = -68.15% mSpread = 0.0191%\n"
     ]
    },
    {
     "name": "stderr",
     "output_type": "stream",
     "text": [
      "100%|██████████████████████████████████████████████████████████████████████████████████████████████████████████████████████████████████████| 12/12 [00:00<00:00, 1203.10it/s]\n"
     ]
    },
    {
     "name": "stdout",
     "output_type": "stream",
     "text": [
      "Epoch = 8. Time index = 0. Threshold MC = 0.7. Threshold MD = 0.6\n",
      "RD = 269 NZ = 392 NZA = 521 pNZ = 0.034% pNZA = 0.045% AD = 68.62% ADA = 51.63% NO = 13 GSP = 69.23% NSP = 53.85%\n",
      "SI2 = -1.15 SI = -0.15 eGROI = 0.73% eROI = 0.36% eROI2 = 0.47% eROI3 = 0.34% mSpread = 0.0286%\n"
     ]
    },
    {
     "name": "stderr",
     "output_type": "stream",
     "text": [
      "0it [00:00, ?it/s]\n"
     ]
    },
    {
     "name": "stdout",
     "output_type": "stream",
     "text": [
      "Epoch = 8. Time index = 0. Threshold MC = 0.7. Threshold MD = 0.7\n",
      "RD = 43 NZ = 46 NZA = 56 pNZ = 0.004% pNZA = 0.005% AD = 93.48% ADA = 76.79% NO = 1 GSP = 0.00% NSP = 0.00%\n",
      "SI2 = -0.55 SI = -0.55 eGROI = 0.00% eROI = 0.00% eROI2 = 0.00% eROI3 = 0.00% mSpread = 0.0000%\n"
     ]
    },
    {
     "name": "stderr",
     "output_type": "stream",
     "text": [
      "0it [00:00, ?it/s]\n"
     ]
    },
    {
     "name": "stdout",
     "output_type": "stream",
     "text": [
      "Epoch = 8. Time index = 0. Threshold MC = 0.7. Threshold MD = 0.8\n",
      "RD = 0 NZ = 0 NZA = 0 pNZ = 0.000% pNZA = 0.000% AD = 0.00% ADA = 0.00% NO = 1 GSP = 0.00% NSP = 0.00%\n",
      "SI2 = -0.55 SI = -0.55 eGROI = 0.00% eROI = 0.00% eROI2 = 0.00% eROI3 = 0.00% mSpread = 0.0000%\n"
     ]
    },
    {
     "name": "stderr",
     "output_type": "stream",
     "text": [
      "0it [00:00, ?it/s]\n"
     ]
    },
    {
     "name": "stdout",
     "output_type": "stream",
     "text": [
      "Epoch = 8. Time index = 0. Threshold MC = 0.7. Threshold MD = 0.9\n",
      "RD = 0 NZ = 0 NZA = 0 pNZ = 0.000% pNZA = 0.000% AD = 0.00% ADA = 0.00% NO = 1 GSP = 0.00% NSP = 0.00%\n",
      "SI2 = -0.55 SI = -0.55 eGROI = 0.00% eROI = 0.00% eROI2 = 0.00% eROI3 = 0.00% mSpread = 0.0000%\n",
      "\n"
     ]
    },
    {
     "name": "stderr",
     "output_type": "stream",
     "text": [
      "100%|██████████████████████████████████████████████████████████████████████████████████████████████████████████████████████████████████████| 97/97 [00:00<00:00, 1409.51it/s]\n"
     ]
    },
    {
     "name": "stdout",
     "output_type": "stream",
     "text": [
      "Epoch = 8. Time index = 0. Threshold MC = 0.8. Threshold MD = 0.5\n",
      "RD = 96 NZ = 164 NZA = 202 pNZ = 0.014% pNZA = 0.018% AD = 58.54% ADA = 47.52% NO = 85 GSP = 62.35% NSP = 51.76%\n",
      "SI2 = -1.75 SI = -2.75 eGROI = 3.76% eROI = 2.25% eROI2 = 2.06% eROI3 = 1.21% mSpread = 0.0178%\n"
     ]
    },
    {
     "name": "stderr",
     "output_type": "stream",
     "text": [
      "0it [00:00, ?it/s]\n"
     ]
    },
    {
     "name": "stdout",
     "output_type": "stream",
     "text": [
      "Epoch = 8. Time index = 0. Threshold MC = 0.8. Threshold MD = 0.6\n",
      "RD = 7 NZ = 12 NZA = 13 pNZ = 0.001% pNZA = 0.001% AD = 58.33% ADA = 53.85% NO = 1 GSP = 0.00% NSP = 0.00%\n",
      "SI2 = -0.55 SI = -0.55 eGROI = 0.00% eROI = 0.00% eROI2 = 0.00% eROI3 = 0.00% mSpread = 0.0000%\n"
     ]
    },
    {
     "name": "stderr",
     "output_type": "stream",
     "text": [
      "0it [00:00, ?it/s]\n"
     ]
    },
    {
     "name": "stdout",
     "output_type": "stream",
     "text": [
      "Epoch = 8. Time index = 0. Threshold MC = 0.8. Threshold MD = 0.7\n",
      "RD = 0 NZ = 0 NZA = 0 pNZ = 0.000% pNZA = 0.000% AD = 0.00% ADA = 0.00% NO = 1 GSP = 0.00% NSP = 0.00%\n",
      "SI2 = -0.55 SI = -0.55 eGROI = 0.00% eROI = 0.00% eROI2 = 0.00% eROI3 = 0.00% mSpread = 0.0000%\n"
     ]
    },
    {
     "name": "stderr",
     "output_type": "stream",
     "text": [
      "0it [00:00, ?it/s]\n"
     ]
    },
    {
     "name": "stdout",
     "output_type": "stream",
     "text": [
      "Epoch = 8. Time index = 0. Threshold MC = 0.8. Threshold MD = 0.8\n",
      "RD = 0 NZ = 0 NZA = 0 pNZ = 0.000% pNZA = 0.000% AD = 0.00% ADA = 0.00% NO = 1 GSP = 0.00% NSP = 0.00%\n",
      "SI2 = -0.55 SI = -0.55 eGROI = 0.00% eROI = 0.00% eROI2 = 0.00% eROI3 = 0.00% mSpread = 0.0000%\n"
     ]
    },
    {
     "name": "stderr",
     "output_type": "stream",
     "text": [
      "0it [00:00, ?it/s]\n"
     ]
    },
    {
     "name": "stdout",
     "output_type": "stream",
     "text": [
      "Epoch = 8. Time index = 0. Threshold MC = 0.8. Threshold MD = 0.9\n",
      "RD = 0 NZ = 0 NZA = 0 pNZ = 0.000% pNZA = 0.000% AD = 0.00% ADA = 0.00% NO = 1 GSP = 0.00% NSP = 0.00%\n",
      "SI2 = -0.55 SI = -0.55 eGROI = 0.00% eROI = 0.00% eROI2 = 0.00% eROI3 = 0.00% mSpread = 0.0000%\n",
      "\n"
     ]
    },
    {
     "name": "stderr",
     "output_type": "stream",
     "text": [
      "0it [00:00, ?it/s]\n"
     ]
    },
    {
     "name": "stdout",
     "output_type": "stream",
     "text": [
      "Epoch = 8. Time index = 0. Threshold MC = 0.9. Threshold MD = 0.5\n",
      "RD = 0 NZ = 0 NZA = 0 pNZ = 0.000% pNZA = 0.000% AD = 0.00% ADA = 0.00% NO = 1 GSP = 0.00% NSP = 0.00%\n",
      "SI2 = -0.55 SI = -0.55 eGROI = 0.00% eROI = 0.00% eROI2 = 0.00% eROI3 = 0.00% mSpread = 0.0000%\n"
     ]
    },
    {
     "name": "stderr",
     "output_type": "stream",
     "text": [
      "0it [00:00, ?it/s]\n"
     ]
    },
    {
     "name": "stdout",
     "output_type": "stream",
     "text": [
      "Epoch = 8. Time index = 0. Threshold MC = 0.9. Threshold MD = 0.6\n",
      "RD = 0 NZ = 0 NZA = 0 pNZ = 0.000% pNZA = 0.000% AD = 0.00% ADA = 0.00% NO = 1 GSP = 0.00% NSP = 0.00%\n",
      "SI2 = -0.55 SI = -0.55 eGROI = 0.00% eROI = 0.00% eROI2 = 0.00% eROI3 = 0.00% mSpread = 0.0000%\n"
     ]
    },
    {
     "name": "stderr",
     "output_type": "stream",
     "text": [
      "0it [00:00, ?it/s]\n"
     ]
    },
    {
     "name": "stdout",
     "output_type": "stream",
     "text": [
      "Epoch = 8. Time index = 0. Threshold MC = 0.9. Threshold MD = 0.7\n",
      "RD = 0 NZ = 0 NZA = 0 pNZ = 0.000% pNZA = 0.000% AD = 0.00% ADA = 0.00% NO = 1 GSP = 0.00% NSP = 0.00%\n",
      "SI2 = -0.55 SI = -0.55 eGROI = 0.00% eROI = 0.00% eROI2 = 0.00% eROI3 = 0.00% mSpread = 0.0000%\n"
     ]
    },
    {
     "name": "stderr",
     "output_type": "stream",
     "text": [
      "0it [00:00, ?it/s]\n"
     ]
    },
    {
     "name": "stdout",
     "output_type": "stream",
     "text": [
      "Epoch = 8. Time index = 0. Threshold MC = 0.9. Threshold MD = 0.8\n",
      "RD = 0 NZ = 0 NZA = 0 pNZ = 0.000% pNZA = 0.000% AD = 0.00% ADA = 0.00% NO = 1 GSP = 0.00% NSP = 0.00%\n",
      "SI2 = -0.55 SI = -0.55 eGROI = 0.00% eROI = 0.00% eROI2 = 0.00% eROI3 = 0.00% mSpread = 0.0000%\n"
     ]
    },
    {
     "name": "stderr",
     "output_type": "stream",
     "text": [
      "0it [00:00, ?it/s]\n"
     ]
    },
    {
     "name": "stdout",
     "output_type": "stream",
     "text": [
      "Epoch = 8. Time index = 0. Threshold MC = 0.9. Threshold MD = 0.9\n",
      "RD = 0 NZ = 0 NZA = 0 pNZ = 0.000% pNZA = 0.000% AD = 0.00% ADA = 0.00% NO = 1 GSP = 0.00% NSP = 0.00%\n",
      "SI2 = -0.55 SI = -0.55 eGROI = 0.00% eROI = 0.00% eROI2 = 0.00% eROI3 = 0.00% mSpread = 0.0000%\n",
      "\n"
     ]
    },
    {
     "name": "stderr",
     "output_type": "stream",
     "text": [
      "0it [00:00, ?it/s]\n"
     ]
    },
    {
     "name": "stdout",
     "output_type": "stream",
     "text": [
      "Epoch = 8. Time index = 1. Threshold MC = 0.5. Threshold MD = 0.5\n",
      "J_test = 6.342222690582275, J_train = 6.518413309077909, Accuracy=0.5315856687324209\n",
      "RD = 278851 NZ = 536507 NZA = 1042662 pNZ = 46.704% pNZA = 90.766% AD = 51.98% ADA = 26.74% NO = 1 GSP = 0.00% NSP = 0.00%\n",
      "SI2 = -0.55 SI = -0.55 eGROI = 0.00% eROI = 0.00% eROI2 = 0.00% eROI3 = 0.00% mSpread = 0.0000%\n"
     ]
    },
    {
     "name": "stderr",
     "output_type": "stream",
     "text": [
      "100%|██████████████████████████████████████████████████████████████████████████████████████████████████████████████████████████████████| 5416/5416 [00:01<00:00, 3285.10it/s]\n"
     ]
    },
    {
     "name": "stdout",
     "output_type": "stream",
     "text": [
      "Epoch = 8. Time index = 1. Threshold MC = 0.5. Threshold MD = 0.6\n",
      "RD = 5241 NZ = 7722 NZA = 17462 pNZ = 0.672% pNZA = 1.520% AD = 67.87% ADA = 30.01% NO = 1573 GSP = 63.13% NSP = 39.99%\n",
      "SI2 = -64.15 SI = -236.15 eGROI = 24.39% eROI = -30.17% eROI2 = -7.07% eROI3 = -22.80% mSpread = 0.0347%\n"
     ]
    },
    {
     "name": "stderr",
     "output_type": "stream",
     "text": [
      "0it [00:00, ?it/s]\n"
     ]
    },
    {
     "name": "stdout",
     "output_type": "stream",
     "text": [
      "Epoch = 8. Time index = 1. Threshold MC = 0.5. Threshold MD = 0.7\n",
      "RD = 722 NZ = 865 NZA = 1822 pNZ = 0.075% pNZA = 0.159% AD = 83.47% ADA = 39.63% NO = 1 GSP = 0.00% NSP = 0.00%\n",
      "SI2 = -0.55 SI = -0.55 eGROI = 0.00% eROI = 0.00% eROI2 = 0.00% eROI3 = 0.00% mSpread = 0.0000%\n"
     ]
    },
    {
     "name": "stderr",
     "output_type": "stream",
     "text": [
      "0it [00:00, ?it/s]\n"
     ]
    },
    {
     "name": "stdout",
     "output_type": "stream",
     "text": [
      "Epoch = 8. Time index = 1. Threshold MC = 0.5. Threshold MD = 0.8\n",
      "RD = 113 NZ = 129 NZA = 234 pNZ = 0.011% pNZA = 0.020% AD = 87.60% ADA = 48.29% NO = 1 GSP = 0.00% NSP = 0.00%\n",
      "SI2 = -0.55 SI = -0.55 eGROI = 0.00% eROI = 0.00% eROI2 = 0.00% eROI3 = 0.00% mSpread = 0.0000%\n"
     ]
    },
    {
     "name": "stderr",
     "output_type": "stream",
     "text": [
      "0it [00:00, ?it/s]\n"
     ]
    },
    {
     "name": "stdout",
     "output_type": "stream",
     "text": [
      "Epoch = 8. Time index = 1. Threshold MC = 0.5. Threshold MD = 0.9\n",
      "RD = 0 NZ = 0 NZA = 0 pNZ = 0.000% pNZA = 0.000% AD = 0.00% ADA = 0.00% NO = 1 GSP = 0.00% NSP = 0.00%\n",
      "SI2 = -0.55 SI = -0.55 eGROI = 0.00% eROI = 0.00% eROI2 = 0.00% eROI3 = 0.00% mSpread = 0.0000%\n",
      "\n"
     ]
    },
    {
     "name": "stderr",
     "output_type": "stream",
     "text": [
      "0it [00:00, ?it/s]\n"
     ]
    },
    {
     "name": "stdout",
     "output_type": "stream",
     "text": [
      "Epoch = 8. Time index = 1. Threshold MC = 0.6. Threshold MD = 0.5\n",
      "RD = 87417 NZ = 164721 NZA = 270267 pNZ = 14.339% pNZA = 23.527% AD = 53.07% ADA = 32.34% NO = 1 GSP = 0.00% NSP = 0.00%\n",
      "SI2 = -0.55 SI = -0.55 eGROI = 0.00% eROI = 0.00% eROI2 = 0.00% eROI3 = 0.00% mSpread = 0.0000%\n"
     ]
    },
    {
     "name": "stderr",
     "output_type": "stream",
     "text": [
      "100%|██████████████████████████████████████████████████████████████████████████████████████████████████████████████████████████████████| 1396/1396 [00:00<00:00, 3138.28it/s]\n"
     ]
    },
    {
     "name": "stdout",
     "output_type": "stream",
     "text": [
      "Epoch = 8. Time index = 1. Threshold MC = 0.6. Threshold MD = 0.6\n",
      "RD = 2087 NZ = 3006 NZA = 5308 pNZ = 0.262% pNZA = 0.462% AD = 69.43% ADA = 39.32% NO = 589 GSP = 62.65% NSP = 43.80%\n",
      "SI2 = -18.95 SI = -65.95 eGROI = 8.97% eROI = -10.53% eROI2 = -2.81% eROI3 = -8.70% mSpread = 0.0331%\n"
     ]
    },
    {
     "name": "stderr",
     "output_type": "stream",
     "text": [
      "0it [00:00, ?it/s]\n"
     ]
    },
    {
     "name": "stdout",
     "output_type": "stream",
     "text": [
      "Epoch = 8. Time index = 1. Threshold MC = 0.6. Threshold MD = 0.7\n",
      "RD = 485 NZ = 569 NZA = 981 pNZ = 0.050% pNZA = 0.085% AD = 85.24% ADA = 49.44% NO = 1 GSP = 0.00% NSP = 0.00%\n",
      "SI2 = -0.55 SI = -0.55 eGROI = 0.00% eROI = 0.00% eROI2 = 0.00% eROI3 = 0.00% mSpread = 0.0000%\n"
     ]
    },
    {
     "name": "stderr",
     "output_type": "stream",
     "text": [
      "0it [00:00, ?it/s]\n"
     ]
    },
    {
     "name": "stdout",
     "output_type": "stream",
     "text": [
      "Epoch = 8. Time index = 1. Threshold MC = 0.6. Threshold MD = 0.8\n",
      "RD = 96 NZ = 109 NZA = 177 pNZ = 0.009% pNZA = 0.015% AD = 88.07% ADA = 54.24% NO = 1 GSP = 0.00% NSP = 0.00%\n",
      "SI2 = -0.55 SI = -0.55 eGROI = 0.00% eROI = 0.00% eROI2 = 0.00% eROI3 = 0.00% mSpread = 0.0000%\n"
     ]
    },
    {
     "name": "stderr",
     "output_type": "stream",
     "text": [
      "0it [00:00, ?it/s]\n"
     ]
    },
    {
     "name": "stdout",
     "output_type": "stream",
     "text": [
      "Epoch = 8. Time index = 1. Threshold MC = 0.6. Threshold MD = 0.9\n",
      "RD = 0 NZ = 0 NZA = 0 pNZ = 0.000% pNZA = 0.000% AD = 0.00% ADA = 0.00% NO = 1 GSP = 0.00% NSP = 0.00%\n",
      "SI2 = -0.55 SI = -0.55 eGROI = 0.00% eROI = 0.00% eROI2 = 0.00% eROI3 = 0.00% mSpread = 0.0000%\n",
      "\n"
     ]
    },
    {
     "name": "stderr",
     "output_type": "stream",
     "text": [
      "100%|██████████████████████████████████████████████████████████████████████████████████████████████████████████████████████████████████| 8525/8525 [00:03<00:00, 2534.84it/s]\n"
     ]
    },
    {
     "name": "stdout",
     "output_type": "stream",
     "text": [
      "Epoch = 8. Time index = 1. Threshold MC = 0.7. Threshold MD = 0.5\n",
      "RD = 5925 NZ = 10752 NZA = 14805 pNZ = 0.936% pNZA = 1.289% AD = 55.11% ADA = 40.02% NO = 1790 GSP = 53.35% NSP = 46.15%\n",
      "SI2 = -145.50 SI = -158.50 eGROI = -3.09% eROI = -37.21% eROI2 = -38.89% eROI3 = -56.79% mSpread = 0.0191%\n"
     ]
    },
    {
     "name": "stderr",
     "output_type": "stream",
     "text": [
      "100%|██████████████████████████████████████████████████████████████████████████████████████████████████████████████████████████████████████| 17/17 [00:00<00:00, 1311.06it/s]\n"
     ]
    },
    {
     "name": "stdout",
     "output_type": "stream",
     "text": [
      "Epoch = 8. Time index = 1. Threshold MC = 0.7. Threshold MD = 0.6\n",
      "RD = 376 NZ = 523 NZA = 703 pNZ = 0.046% pNZA = 0.061% AD = 71.89% ADA = 53.49% NO = 17 GSP = 58.82% NSP = 35.29%\n",
      "SI2 = -2.35 SI = -3.35 eGROI = 0.28% eROI = -0.29% eROI2 = -0.06% eROI3 = -0.23% mSpread = 0.0336%\n"
     ]
    },
    {
     "name": "stderr",
     "output_type": "stream",
     "text": [
      "0it [00:00, ?it/s]\n"
     ]
    },
    {
     "name": "stdout",
     "output_type": "stream",
     "text": [
      "Epoch = 8. Time index = 1. Threshold MC = 0.7. Threshold MD = 0.7\n",
      "RD = 167 NZ = 189 NZA = 240 pNZ = 0.016% pNZA = 0.021% AD = 88.36% ADA = 69.58% NO = 1 GSP = 0.00% NSP = 0.00%\n",
      "SI2 = -0.55 SI = -0.55 eGROI = 0.00% eROI = 0.00% eROI2 = 0.00% eROI3 = 0.00% mSpread = 0.0000%\n"
     ]
    },
    {
     "name": "stderr",
     "output_type": "stream",
     "text": [
      "0it [00:00, ?it/s]\n"
     ]
    },
    {
     "name": "stdout",
     "output_type": "stream",
     "text": [
      "Epoch = 8. Time index = 1. Threshold MC = 0.7. Threshold MD = 0.8\n",
      "RD = 47 NZ = 48 NZA = 63 pNZ = 0.004% pNZA = 0.005% AD = 97.92% ADA = 74.60% NO = 1 GSP = 0.00% NSP = 0.00%\n",
      "SI2 = -0.55 SI = -0.55 eGROI = 0.00% eROI = 0.00% eROI2 = 0.00% eROI3 = 0.00% mSpread = 0.0000%\n"
     ]
    },
    {
     "name": "stderr",
     "output_type": "stream",
     "text": [
      "0it [00:00, ?it/s]\n"
     ]
    },
    {
     "name": "stdout",
     "output_type": "stream",
     "text": [
      "Epoch = 8. Time index = 1. Threshold MC = 0.7. Threshold MD = 0.9\n",
      "RD = 0 NZ = 0 NZA = 0 pNZ = 0.000% pNZA = 0.000% AD = 0.00% ADA = 0.00% NO = 1 GSP = 0.00% NSP = 0.00%\n",
      "SI2 = -0.55 SI = -0.55 eGROI = 0.00% eROI = 0.00% eROI2 = 0.00% eROI3 = 0.00% mSpread = 0.0000%\n",
      "\n"
     ]
    },
    {
     "name": "stderr",
     "output_type": "stream",
     "text": [
      "100%|████████████████████████████████████████████████████████████████████████████████████████████████████████████████████████████████████| 302/302 [00:00<00:00, 2422.39it/s]\n"
     ]
    },
    {
     "name": "stdout",
     "output_type": "stream",
     "text": [
      "Epoch = 8. Time index = 1. Threshold MC = 0.8. Threshold MD = 0.5\n",
      "RD = 239 NZ = 384 NZA = 480 pNZ = 0.033% pNZA = 0.042% AD = 62.24% ADA = 49.79% NO = 202 GSP = 57.43% NSP = 50.50%\n",
      "SI2 = -8.10 SI = -9.10 eGROI = 5.19% eROI = 1.27% eROI2 = 1.15% eROI3 = -0.87% mSpread = 0.0194%\n"
     ]
    },
    {
     "name": "stderr",
     "output_type": "stream",
     "text": [
      "0it [00:00, ?it/s]\n"
     ]
    },
    {
     "name": "stdout",
     "output_type": "stream",
     "text": [
      "Epoch = 8. Time index = 1. Threshold MC = 0.8. Threshold MD = 0.6\n",
      "RD = 42 NZ = 59 NZA = 75 pNZ = 0.005% pNZA = 0.007% AD = 71.19% ADA = 56.00% NO = 1 GSP = 0.00% NSP = 0.00%\n",
      "SI2 = -0.55 SI = -0.55 eGROI = 0.00% eROI = 0.00% eROI2 = 0.00% eROI3 = 0.00% mSpread = 0.0000%\n"
     ]
    },
    {
     "name": "stderr",
     "output_type": "stream",
     "text": [
      "0it [00:00, ?it/s]\n"
     ]
    },
    {
     "name": "stdout",
     "output_type": "stream",
     "text": [
      "Epoch = 8. Time index = 1. Threshold MC = 0.8. Threshold MD = 0.7\n",
      "RD = 20 NZ = 24 NZA = 27 pNZ = 0.002% pNZA = 0.002% AD = 83.33% ADA = 74.07% NO = 1 GSP = 0.00% NSP = 0.00%\n",
      "SI2 = -0.55 SI = -0.55 eGROI = 0.00% eROI = 0.00% eROI2 = 0.00% eROI3 = 0.00% mSpread = 0.0000%\n"
     ]
    },
    {
     "name": "stderr",
     "output_type": "stream",
     "text": [
      "0it [00:00, ?it/s]\n"
     ]
    },
    {
     "name": "stdout",
     "output_type": "stream",
     "text": [
      "Epoch = 8. Time index = 1. Threshold MC = 0.8. Threshold MD = 0.8\n",
      "RD = 1 NZ = 1 NZA = 1 pNZ = 0.000% pNZA = 0.000% AD = 100.00% ADA = 100.00% NO = 1 GSP = 0.00% NSP = 0.00%\n",
      "SI2 = -0.55 SI = -0.55 eGROI = 0.00% eROI = 0.00% eROI2 = 0.00% eROI3 = 0.00% mSpread = 0.0000%\n"
     ]
    },
    {
     "name": "stderr",
     "output_type": "stream",
     "text": [
      "0it [00:00, ?it/s]\n"
     ]
    },
    {
     "name": "stdout",
     "output_type": "stream",
     "text": [
      "Epoch = 8. Time index = 1. Threshold MC = 0.8. Threshold MD = 0.9\n",
      "RD = 0 NZ = 0 NZA = 0 pNZ = 0.000% pNZA = 0.000% AD = 0.00% ADA = 0.00% NO = 1 GSP = 0.00% NSP = 0.00%\n",
      "SI2 = -0.55 SI = -0.55 eGROI = 0.00% eROI = 0.00% eROI2 = 0.00% eROI3 = 0.00% mSpread = 0.0000%\n",
      "\n"
     ]
    },
    {
     "name": "stderr",
     "output_type": "stream",
     "text": [
      "0it [00:00, ?it/s]\n"
     ]
    },
    {
     "name": "stdout",
     "output_type": "stream",
     "text": [
      "Epoch = 8. Time index = 1. Threshold MC = 0.9. Threshold MD = 0.5\n",
      "RD = 0 NZ = 0 NZA = 0 pNZ = 0.000% pNZA = 0.000% AD = 0.00% ADA = 0.00% NO = 1 GSP = 0.00% NSP = 0.00%\n",
      "SI2 = -0.55 SI = -0.55 eGROI = 0.00% eROI = 0.00% eROI2 = 0.00% eROI3 = 0.00% mSpread = 0.0000%\n"
     ]
    },
    {
     "name": "stderr",
     "output_type": "stream",
     "text": [
      "0it [00:00, ?it/s]\n"
     ]
    },
    {
     "name": "stdout",
     "output_type": "stream",
     "text": [
      "Epoch = 8. Time index = 1. Threshold MC = 0.9. Threshold MD = 0.6\n",
      "RD = 0 NZ = 0 NZA = 0 pNZ = 0.000% pNZA = 0.000% AD = 0.00% ADA = 0.00% NO = 1 GSP = 0.00% NSP = 0.00%\n",
      "SI2 = -0.55 SI = -0.55 eGROI = 0.00% eROI = 0.00% eROI2 = 0.00% eROI3 = 0.00% mSpread = 0.0000%\n"
     ]
    },
    {
     "name": "stderr",
     "output_type": "stream",
     "text": [
      "0it [00:00, ?it/s]\n"
     ]
    },
    {
     "name": "stdout",
     "output_type": "stream",
     "text": [
      "Epoch = 8. Time index = 1. Threshold MC = 0.9. Threshold MD = 0.7\n",
      "RD = 0 NZ = 0 NZA = 0 pNZ = 0.000% pNZA = 0.000% AD = 0.00% ADA = 0.00% NO = 1 GSP = 0.00% NSP = 0.00%\n",
      "SI2 = -0.55 SI = -0.55 eGROI = 0.00% eROI = 0.00% eROI2 = 0.00% eROI3 = 0.00% mSpread = 0.0000%\n"
     ]
    },
    {
     "name": "stderr",
     "output_type": "stream",
     "text": [
      "0it [00:00, ?it/s]\n"
     ]
    },
    {
     "name": "stdout",
     "output_type": "stream",
     "text": [
      "Epoch = 8. Time index = 1. Threshold MC = 0.9. Threshold MD = 0.8\n",
      "RD = 0 NZ = 0 NZA = 0 pNZ = 0.000% pNZA = 0.000% AD = 0.00% ADA = 0.00% NO = 1 GSP = 0.00% NSP = 0.00%\n",
      "SI2 = -0.55 SI = -0.55 eGROI = 0.00% eROI = 0.00% eROI2 = 0.00% eROI3 = 0.00% mSpread = 0.0000%\n"
     ]
    },
    {
     "name": "stderr",
     "output_type": "stream",
     "text": [
      "0it [00:00, ?it/s]\n"
     ]
    },
    {
     "name": "stdout",
     "output_type": "stream",
     "text": [
      "Epoch = 8. Time index = 1. Threshold MC = 0.9. Threshold MD = 0.9\n",
      "RD = 0 NZ = 0 NZA = 0 pNZ = 0.000% pNZA = 0.000% AD = 0.00% ADA = 0.00% NO = 1 GSP = 0.00% NSP = 0.00%\n",
      "SI2 = -0.55 SI = -0.55 eGROI = 0.00% eROI = 0.00% eROI2 = 0.00% eROI3 = 0.00% mSpread = 0.0000%\n",
      "\n"
     ]
    },
    {
     "name": "stderr",
     "output_type": "stream",
     "text": [
      "0it [00:00, ?it/s]\n"
     ]
    },
    {
     "name": "stdout",
     "output_type": "stream",
     "text": [
      "Epoch = 8. Time index = 2. Threshold MC = 0.5. Threshold MD = 0.5\n",
      "J_test = 6.342222690582275, J_train = 6.518413309077909, Accuracy=0.5339056160134688\n",
      "RD = 277076 NZ = 532973 NZA = 1032929 pNZ = 46.397% pNZA = 89.919% AD = 51.99% ADA = 26.82% NO = 1 GSP = 0.00% NSP = 0.00%\n",
      "SI2 = -0.55 SI = -0.55 eGROI = 0.00% eROI = 0.00% eROI2 = 0.00% eROI3 = 0.00% mSpread = 0.0000%\n"
     ]
    },
    {
     "name": "stderr",
     "output_type": "stream",
     "text": [
      "100%|██████████████████████████████████████████████████████████████████████████████████████████████████████████████████████████████████| 9105/9105 [00:03<00:00, 2957.24it/s]\n"
     ]
    },
    {
     "name": "stdout",
     "output_type": "stream",
     "text": [
      "Epoch = 8. Time index = 2. Threshold MC = 0.5. Threshold MD = 0.6\n",
      "RD = 5931 NZ = 8605 NZA = 19540 pNZ = 0.749% pNZA = 1.701% AD = 68.93% ADA = 30.35% NO = 2068 GSP = 61.75% NSP = 39.56%\n",
      "SI2 = -106.40 SI = -319.40 eGROI = 27.34% eROI = -43.30% eROI2 = -14.02% eROI3 = -34.70% mSpread = 0.0342%\n"
     ]
    },
    {
     "name": "stderr",
     "output_type": "stream",
     "text": [
      "0it [00:00, ?it/s]\n"
     ]
    },
    {
     "name": "stdout",
     "output_type": "stream",
     "text": [
      "Epoch = 8. Time index = 2. Threshold MC = 0.5. Threshold MD = 0.7\n",
      "RD = 822 NZ = 986 NZA = 2141 pNZ = 0.086% pNZA = 0.186% AD = 83.37% ADA = 38.39% NO = 1 GSP = 0.00% NSP = 0.00%\n",
      "SI2 = -0.55 SI = -0.55 eGROI = 0.00% eROI = 0.00% eROI2 = 0.00% eROI3 = 0.00% mSpread = 0.0000%\n"
     ]
    },
    {
     "name": "stderr",
     "output_type": "stream",
     "text": [
      "0it [00:00, ?it/s]\n"
     ]
    },
    {
     "name": "stdout",
     "output_type": "stream",
     "text": [
      "Epoch = 8. Time index = 2. Threshold MC = 0.5. Threshold MD = 0.8\n",
      "RD = 150 NZ = 169 NZA = 296 pNZ = 0.015% pNZA = 0.026% AD = 88.76% ADA = 50.68% NO = 1 GSP = 0.00% NSP = 0.00%\n",
      "SI2 = -0.55 SI = -0.55 eGROI = 0.00% eROI = 0.00% eROI2 = 0.00% eROI3 = 0.00% mSpread = 0.0000%\n"
     ]
    },
    {
     "name": "stderr",
     "output_type": "stream",
     "text": [
      "0it [00:00, ?it/s]\n"
     ]
    },
    {
     "name": "stdout",
     "output_type": "stream",
     "text": [
      "Epoch = 8. Time index = 2. Threshold MC = 0.5. Threshold MD = 0.9\n",
      "RD = 0 NZ = 0 NZA = 0 pNZ = 0.000% pNZA = 0.000% AD = 0.00% ADA = 0.00% NO = 1 GSP = 0.00% NSP = 0.00%\n",
      "SI2 = -0.55 SI = -0.55 eGROI = 0.00% eROI = 0.00% eROI2 = 0.00% eROI3 = 0.00% mSpread = 0.0000%\n",
      "\n"
     ]
    },
    {
     "name": "stderr",
     "output_type": "stream",
     "text": [
      "0it [00:00, ?it/s]\n"
     ]
    },
    {
     "name": "stdout",
     "output_type": "stream",
     "text": [
      "Epoch = 8. Time index = 2. Threshold MC = 0.6. Threshold MD = 0.5\n",
      "RD = 84716 NZ = 158910 NZA = 261029 pNZ = 13.834% pNZA = 22.723% AD = 53.31% ADA = 32.45% NO = 1 GSP = 0.00% NSP = 0.00%\n",
      "SI2 = -0.55 SI = -0.55 eGROI = 0.00% eROI = 0.00% eROI2 = 0.00% eROI3 = 0.00% mSpread = 0.0000%\n"
     ]
    },
    {
     "name": "stderr",
     "output_type": "stream",
     "text": [
      "100%|██████████████████████████████████████████████████████████████████████████████████████████████████████████████████████████████████| 3212/3212 [00:00<00:00, 3259.58it/s]\n"
     ]
    },
    {
     "name": "stdout",
     "output_type": "stream",
     "text": [
      "Epoch = 8. Time index = 2. Threshold MC = 0.6. Threshold MD = 0.6\n",
      "RD = 2542 NZ = 3671 NZA = 6853 pNZ = 0.320% pNZA = 0.597% AD = 69.25% ADA = 37.09% NO = 1027 GSP = 62.71% NSP = 43.04%\n",
      "SI2 = -36.85 SI = -122.85 eGROI = 15.53% eROI = -18.23% eROI2 = -5.01% eROI3 = -15.28% mSpread = 0.0329%\n"
     ]
    },
    {
     "name": "stderr",
     "output_type": "stream",
     "text": [
      "0it [00:00, ?it/s]\n"
     ]
    },
    {
     "name": "stdout",
     "output_type": "stream",
     "text": [
      "Epoch = 8. Time index = 2. Threshold MC = 0.6. Threshold MD = 0.7\n",
      "RD = 531 NZ = 627 NZA = 1097 pNZ = 0.055% pNZA = 0.095% AD = 84.69% ADA = 48.40% NO = 1 GSP = 0.00% NSP = 0.00%\n",
      "SI2 = -0.55 SI = -0.55 eGROI = 0.00% eROI = 0.00% eROI2 = 0.00% eROI3 = 0.00% mSpread = 0.0000%\n"
     ]
    },
    {
     "name": "stderr",
     "output_type": "stream",
     "text": [
      "0it [00:00, ?it/s]\n"
     ]
    },
    {
     "name": "stdout",
     "output_type": "stream",
     "text": [
      "Epoch = 8. Time index = 2. Threshold MC = 0.6. Threshold MD = 0.8\n",
      "RD = 135 NZ = 150 NZA = 239 pNZ = 0.013% pNZA = 0.021% AD = 90.00% ADA = 56.49% NO = 1 GSP = 0.00% NSP = 0.00%\n",
      "SI2 = -0.55 SI = -0.55 eGROI = 0.00% eROI = 0.00% eROI2 = 0.00% eROI3 = 0.00% mSpread = 0.0000%\n"
     ]
    },
    {
     "name": "stderr",
     "output_type": "stream",
     "text": [
      "0it [00:00, ?it/s]\n"
     ]
    },
    {
     "name": "stdout",
     "output_type": "stream",
     "text": [
      "Epoch = 8. Time index = 2. Threshold MC = 0.6. Threshold MD = 0.9\n",
      "RD = 0 NZ = 0 NZA = 0 pNZ = 0.000% pNZA = 0.000% AD = 0.00% ADA = 0.00% NO = 1 GSP = 0.00% NSP = 0.00%\n",
      "SI2 = -0.55 SI = -0.55 eGROI = 0.00% eROI = 0.00% eROI2 = 0.00% eROI3 = 0.00% mSpread = 0.0000%\n",
      "\n"
     ]
    },
    {
     "name": "stderr",
     "output_type": "stream",
     "text": [
      "100%|██████████████████████████████████████████████████████████████████████████████████████████████████████████████████████████████████| 8178/8178 [00:02<00:00, 3552.67it/s]\n"
     ]
    },
    {
     "name": "stdout",
     "output_type": "stream",
     "text": [
      "Epoch = 8. Time index = 2. Threshold MC = 0.7. Threshold MD = 0.5\n",
      "RD = 5331 NZ = 9706 NZA = 13297 pNZ = 0.845% pNZA = 1.158% AD = 54.92% ADA = 40.09% NO = 1718 GSP = 53.43% NSP = 46.04%\n",
      "SI2 = -143.90 SI = -153.90 eGROI = 1.80% eROI = -30.95% eROI2 = -32.56% eROI3 = -49.74% mSpread = 0.0191%\n"
     ]
    },
    {
     "name": "stderr",
     "output_type": "stream",
     "text": [
      "100%|██████████████████████████████████████████████████████████████████████████████████████████████████████████████████████████████████████| 28/28 [00:00<00:00, 1559.59it/s]\n"
     ]
    },
    {
     "name": "stdout",
     "output_type": "stream",
     "text": [
      "Epoch = 8. Time index = 2. Threshold MC = 0.7. Threshold MD = 0.6\n",
      "RD = 437 NZ = 594 NZA = 812 pNZ = 0.052% pNZA = 0.071% AD = 73.57% ADA = 53.82% NO = 27 GSP = 70.37% NSP = 44.44%\n",
      "SI2 = 1.15 SI = -2.85 eGROI = 1.17% eROI = 0.36% eROI2 = 0.63% eROI3 = 0.36% mSpread = 0.0300%\n"
     ]
    },
    {
     "name": "stderr",
     "output_type": "stream",
     "text": [
      "0it [00:00, ?it/s]\n"
     ]
    },
    {
     "name": "stdout",
     "output_type": "stream",
     "text": [
      "Epoch = 8. Time index = 2. Threshold MC = 0.7. Threshold MD = 0.7\n",
      "RD = 198 NZ = 226 NZA = 297 pNZ = 0.020% pNZA = 0.026% AD = 87.61% ADA = 66.67% NO = 1 GSP = 0.00% NSP = 0.00%\n",
      "SI2 = -0.55 SI = -0.55 eGROI = 0.00% eROI = 0.00% eROI2 = 0.00% eROI3 = 0.00% mSpread = 0.0000%\n"
     ]
    },
    {
     "name": "stderr",
     "output_type": "stream",
     "text": [
      "0it [00:00, ?it/s]\n"
     ]
    },
    {
     "name": "stdout",
     "output_type": "stream",
     "text": [
      "Epoch = 8. Time index = 2. Threshold MC = 0.7. Threshold MD = 0.8\n",
      "RD = 83 NZ = 89 NZA = 123 pNZ = 0.008% pNZA = 0.011% AD = 93.26% ADA = 67.48% NO = 1 GSP = 0.00% NSP = 0.00%\n",
      "SI2 = -0.55 SI = -0.55 eGROI = 0.00% eROI = 0.00% eROI2 = 0.00% eROI3 = 0.00% mSpread = 0.0000%\n"
     ]
    },
    {
     "name": "stderr",
     "output_type": "stream",
     "text": [
      "0it [00:00, ?it/s]\n"
     ]
    },
    {
     "name": "stdout",
     "output_type": "stream",
     "text": [
      "Epoch = 8. Time index = 2. Threshold MC = 0.7. Threshold MD = 0.9\n",
      "RD = 0 NZ = 0 NZA = 0 pNZ = 0.000% pNZA = 0.000% AD = 0.00% ADA = 0.00% NO = 1 GSP = 0.00% NSP = 0.00%\n",
      "SI2 = -0.55 SI = -0.55 eGROI = 0.00% eROI = 0.00% eROI2 = 0.00% eROI3 = 0.00% mSpread = 0.0000%\n",
      "\n"
     ]
    },
    {
     "name": "stderr",
     "output_type": "stream",
     "text": [
      "100%|████████████████████████████████████████████████████████████████████████████████████████████████████████████████████████████████████| 303/303 [00:00<00:00, 1972.72it/s]\n"
     ]
    },
    {
     "name": "stdout",
     "output_type": "stream",
     "text": [
      "Epoch = 8. Time index = 2. Threshold MC = 0.8. Threshold MD = 0.5\n",
      "RD = 251 NZ = 389 NZA = 495 pNZ = 0.034% pNZA = 0.043% AD = 64.52% ADA = 50.71% NO = 177 GSP = 58.76% NSP = 53.11%\n",
      "SI2 = -4.35 SI = -3.35 eGROI = 5.49% eROI = 2.09% eROI2 = 1.95% eROI3 = 0.18% mSpread = 0.0192%\n"
     ]
    },
    {
     "name": "stderr",
     "output_type": "stream",
     "text": [
      "0it [00:00, ?it/s]\n"
     ]
    },
    {
     "name": "stdout",
     "output_type": "stream",
     "text": [
      "Epoch = 8. Time index = 2. Threshold MC = 0.8. Threshold MD = 0.6\n",
      "RD = 64 NZ = 83 NZA = 104 pNZ = 0.007% pNZA = 0.009% AD = 77.11% ADA = 61.54% NO = 1 GSP = 100.00% NSP = 100.00%\n",
      "SI2 = -0.55 SI = 0.45 eGROI = 0.10% eROI = 0.05% eROI2 = 0.08% eROI3 = 0.07% mSpread = 0.0516%\n"
     ]
    },
    {
     "name": "stderr",
     "output_type": "stream",
     "text": [
      "0it [00:00, ?it/s]\n"
     ]
    },
    {
     "name": "stdout",
     "output_type": "stream",
     "text": [
      "Epoch = 8. Time index = 2. Threshold MC = 0.8. Threshold MD = 0.7\n",
      "RD = 38 NZ = 45 NZA = 54 pNZ = 0.004% pNZA = 0.005% AD = 84.44% ADA = 70.37% NO = 1 GSP = 0.00% NSP = 0.00%\n",
      "SI2 = -0.55 SI = -0.55 eGROI = 0.00% eROI = 0.00% eROI2 = 0.00% eROI3 = 0.00% mSpread = 0.0000%\n"
     ]
    },
    {
     "name": "stderr",
     "output_type": "stream",
     "text": [
      "0it [00:00, ?it/s]\n"
     ]
    },
    {
     "name": "stdout",
     "output_type": "stream",
     "text": [
      "Epoch = 8. Time index = 2. Threshold MC = 0.8. Threshold MD = 0.8\n",
      "RD = 16 NZ = 17 NZA = 19 pNZ = 0.001% pNZA = 0.002% AD = 94.12% ADA = 84.21% NO = 1 GSP = 0.00% NSP = 0.00%\n",
      "SI2 = -0.55 SI = -0.55 eGROI = 0.00% eROI = 0.00% eROI2 = 0.00% eROI3 = 0.00% mSpread = 0.0000%\n"
     ]
    },
    {
     "name": "stderr",
     "output_type": "stream",
     "text": [
      "0it [00:00, ?it/s]\n"
     ]
    },
    {
     "name": "stdout",
     "output_type": "stream",
     "text": [
      "Epoch = 8. Time index = 2. Threshold MC = 0.8. Threshold MD = 0.9\n",
      "RD = 0 NZ = 0 NZA = 0 pNZ = 0.000% pNZA = 0.000% AD = 0.00% ADA = 0.00% NO = 1 GSP = 0.00% NSP = 0.00%\n",
      "SI2 = -0.55 SI = -0.55 eGROI = 0.00% eROI = 0.00% eROI2 = 0.00% eROI3 = 0.00% mSpread = 0.0000%\n",
      "\n"
     ]
    },
    {
     "name": "stderr",
     "output_type": "stream",
     "text": [
      "0it [00:00, ?it/s]\n"
     ]
    },
    {
     "name": "stdout",
     "output_type": "stream",
     "text": [
      "Epoch = 8. Time index = 2. Threshold MC = 0.9. Threshold MD = 0.5\n",
      "RD = 0 NZ = 0 NZA = 0 pNZ = 0.000% pNZA = 0.000% AD = 0.00% ADA = 0.00% NO = 1 GSP = 0.00% NSP = 0.00%\n",
      "SI2 = -0.55 SI = -0.55 eGROI = 0.00% eROI = 0.00% eROI2 = 0.00% eROI3 = 0.00% mSpread = 0.0000%\n"
     ]
    },
    {
     "name": "stderr",
     "output_type": "stream",
     "text": [
      "0it [00:00, ?it/s]\n"
     ]
    },
    {
     "name": "stdout",
     "output_type": "stream",
     "text": [
      "Epoch = 8. Time index = 2. Threshold MC = 0.9. Threshold MD = 0.6\n",
      "RD = 0 NZ = 0 NZA = 0 pNZ = 0.000% pNZA = 0.000% AD = 0.00% ADA = 0.00% NO = 1 GSP = 0.00% NSP = 0.00%\n",
      "SI2 = -0.55 SI = -0.55 eGROI = 0.00% eROI = 0.00% eROI2 = 0.00% eROI3 = 0.00% mSpread = 0.0000%\n"
     ]
    },
    {
     "name": "stderr",
     "output_type": "stream",
     "text": [
      "0it [00:00, ?it/s]\n"
     ]
    },
    {
     "name": "stdout",
     "output_type": "stream",
     "text": [
      "Epoch = 8. Time index = 2. Threshold MC = 0.9. Threshold MD = 0.7\n",
      "RD = 0 NZ = 0 NZA = 0 pNZ = 0.000% pNZA = 0.000% AD = 0.00% ADA = 0.00% NO = 1 GSP = 0.00% NSP = 0.00%\n",
      "SI2 = -0.55 SI = -0.55 eGROI = 0.00% eROI = 0.00% eROI2 = 0.00% eROI3 = 0.00% mSpread = 0.0000%\n"
     ]
    },
    {
     "name": "stderr",
     "output_type": "stream",
     "text": [
      "0it [00:00, ?it/s]\n"
     ]
    },
    {
     "name": "stdout",
     "output_type": "stream",
     "text": [
      "Epoch = 8. Time index = 2. Threshold MC = 0.9. Threshold MD = 0.8\n",
      "RD = 0 NZ = 0 NZA = 0 pNZ = 0.000% pNZA = 0.000% AD = 0.00% ADA = 0.00% NO = 1 GSP = 0.00% NSP = 0.00%\n",
      "SI2 = -0.55 SI = -0.55 eGROI = 0.00% eROI = 0.00% eROI2 = 0.00% eROI3 = 0.00% mSpread = 0.0000%\n"
     ]
    },
    {
     "name": "stderr",
     "output_type": "stream",
     "text": [
      "0it [00:00, ?it/s]\n"
     ]
    },
    {
     "name": "stdout",
     "output_type": "stream",
     "text": [
      "Epoch = 8. Time index = 2. Threshold MC = 0.9. Threshold MD = 0.9\n",
      "RD = 0 NZ = 0 NZA = 0 pNZ = 0.000% pNZA = 0.000% AD = 0.00% ADA = 0.00% NO = 1 GSP = 0.00% NSP = 0.00%\n",
      "SI2 = -0.55 SI = -0.55 eGROI = 0.00% eROI = 0.00% eROI2 = 0.00% eROI3 = 0.00% mSpread = 0.0000%\n",
      "\n"
     ]
    },
    {
     "name": "stderr",
     "output_type": "stream",
     "text": [
      "0it [00:00, ?it/s]\n"
     ]
    },
    {
     "name": "stdout",
     "output_type": "stream",
     "text": [
      "Epoch = 8. Time index = 3. Threshold MC = 0.5. Threshold MD = 0.5\n",
      "J_test = 6.342222690582275, J_train = 6.518413309077909, Accuracy=0.5337175827629224\n",
      "RD = 277110 NZ = 532215 NZA = 1031629 pNZ = 46.331% pNZA = 89.806% AD = 52.07% ADA = 26.86% NO = 1 GSP = 0.00% NSP = 0.00%\n",
      "SI2 = -0.55 SI = -0.55 eGROI = 0.00% eROI = 0.00% eROI2 = 0.00% eROI3 = 0.00% mSpread = 0.0000%\n"
     ]
    },
    {
     "name": "stderr",
     "output_type": "stream",
     "text": [
      "100%|████████████████████████████████████████████████████████████████████████████████████████████████████████████████████████████████| 11430/11430 [00:03<00:00, 3439.42it/s]\n"
     ]
    },
    {
     "name": "stdout",
     "output_type": "stream",
     "text": [
      "Epoch = 8. Time index = 3. Threshold MC = 0.5. Threshold MD = 0.6\n",
      "RD = 6558 NZ = 9562 NZA = 21925 pNZ = 0.832% pNZA = 1.909% AD = 68.58% ADA = 29.91% NO = 2266 GSP = 61.34% NSP = 39.85%\n",
      "SI2 = -137.30 SI = -343.30 eGROI = 27.10% eROI = -50.78% eROI2 = -18.22% eROI3 = -40.88% mSpread = 0.0344%\n"
     ]
    },
    {
     "name": "stderr",
     "output_type": "stream",
     "text": [
      "0it [00:00, ?it/s]\n"
     ]
    },
    {
     "name": "stdout",
     "output_type": "stream",
     "text": [
      "Epoch = 8. Time index = 3. Threshold MC = 0.5. Threshold MD = 0.7\n",
      "RD = 948 NZ = 1156 NZA = 2567 pNZ = 0.101% pNZA = 0.223% AD = 82.01% ADA = 36.93% NO = 1 GSP = 0.00% NSP = 0.00%\n",
      "SI2 = -0.55 SI = -0.55 eGROI = 0.00% eROI = 0.00% eROI2 = 0.00% eROI3 = 0.00% mSpread = 0.0000%\n"
     ]
    },
    {
     "name": "stderr",
     "output_type": "stream",
     "text": [
      "0it [00:00, ?it/s]\n"
     ]
    },
    {
     "name": "stdout",
     "output_type": "stream",
     "text": [
      "Epoch = 8. Time index = 3. Threshold MC = 0.5. Threshold MD = 0.8\n",
      "RD = 151 NZ = 167 NZA = 289 pNZ = 0.015% pNZA = 0.025% AD = 90.42% ADA = 52.25% NO = 1 GSP = 0.00% NSP = 0.00%\n",
      "SI2 = -0.55 SI = -0.55 eGROI = 0.00% eROI = 0.00% eROI2 = 0.00% eROI3 = 0.00% mSpread = 0.0000%\n"
     ]
    },
    {
     "name": "stderr",
     "output_type": "stream",
     "text": [
      "0it [00:00, ?it/s]\n"
     ]
    },
    {
     "name": "stdout",
     "output_type": "stream",
     "text": [
      "Epoch = 8. Time index = 3. Threshold MC = 0.5. Threshold MD = 0.9\n",
      "RD = 0 NZ = 0 NZA = 0 pNZ = 0.000% pNZA = 0.000% AD = 0.00% ADA = 0.00% NO = 1 GSP = 0.00% NSP = 0.00%\n",
      "SI2 = -0.55 SI = -0.55 eGROI = 0.00% eROI = 0.00% eROI2 = 0.00% eROI3 = 0.00% mSpread = 0.0000%\n",
      "\n"
     ]
    },
    {
     "name": "stderr",
     "output_type": "stream",
     "text": [
      "0it [00:00, ?it/s]\n"
     ]
    },
    {
     "name": "stdout",
     "output_type": "stream",
     "text": [
      "Epoch = 8. Time index = 3. Threshold MC = 0.6. Threshold MD = 0.5\n",
      "RD = 85040 NZ = 159612 NZA = 263516 pNZ = 13.895% pNZA = 22.940% AD = 53.28% ADA = 32.27% NO = 1 GSP = 0.00% NSP = 0.00%\n",
      "SI2 = -0.55 SI = -0.55 eGROI = 0.00% eROI = 0.00% eROI2 = 0.00% eROI3 = 0.00% mSpread = 0.0000%\n"
     ]
    },
    {
     "name": "stderr",
     "output_type": "stream",
     "text": [
      "100%|██████████████████████████████████████████████████████████████████████████████████████████████████████████████████████████████████| 4593/4593 [00:01<00:00, 3224.87it/s]\n"
     ]
    },
    {
     "name": "stdout",
     "output_type": "stream",
     "text": [
      "Epoch = 8. Time index = 3. Threshold MC = 0.6. Threshold MD = 0.6\n",
      "RD = 2935 NZ = 4273 NZA = 8093 pNZ = 0.372% pNZA = 0.705% AD = 68.69% ADA = 36.27% NO = 1225 GSP = 61.88% NSP = 41.80%\n",
      "SI2 = -56.75 SI = -161.75 eGROI = 15.91% eROI = -25.63% eROI2 = -8.59% eROI3 = -20.84% mSpread = 0.0339%\n"
     ]
    },
    {
     "name": "stderr",
     "output_type": "stream",
     "text": [
      "0it [00:00, ?it/s]\n"
     ]
    },
    {
     "name": "stdout",
     "output_type": "stream",
     "text": [
      "Epoch = 8. Time index = 3. Threshold MC = 0.6. Threshold MD = 0.7\n",
      "RD = 552 NZ = 663 NZA = 1140 pNZ = 0.058% pNZA = 0.099% AD = 83.26% ADA = 48.42% NO = 1 GSP = 0.00% NSP = 0.00%\n",
      "SI2 = -0.55 SI = -0.55 eGROI = 0.00% eROI = 0.00% eROI2 = 0.00% eROI3 = 0.00% mSpread = 0.0000%\n"
     ]
    },
    {
     "name": "stderr",
     "output_type": "stream",
     "text": [
      "0it [00:00, ?it/s]\n"
     ]
    },
    {
     "name": "stdout",
     "output_type": "stream",
     "text": [
      "Epoch = 8. Time index = 3. Threshold MC = 0.6. Threshold MD = 0.8\n",
      "RD = 132 NZ = 144 NZA = 223 pNZ = 0.013% pNZA = 0.019% AD = 91.67% ADA = 59.19% NO = 1 GSP = 0.00% NSP = 0.00%\n",
      "SI2 = -0.55 SI = -0.55 eGROI = 0.00% eROI = 0.00% eROI2 = 0.00% eROI3 = 0.00% mSpread = 0.0000%\n"
     ]
    },
    {
     "name": "stderr",
     "output_type": "stream",
     "text": [
      "0it [00:00, ?it/s]\n"
     ]
    },
    {
     "name": "stdout",
     "output_type": "stream",
     "text": [
      "Epoch = 8. Time index = 3. Threshold MC = 0.6. Threshold MD = 0.9\n",
      "RD = 0 NZ = 0 NZA = 0 pNZ = 0.000% pNZA = 0.000% AD = 0.00% ADA = 0.00% NO = 1 GSP = 0.00% NSP = 0.00%\n",
      "SI2 = -0.55 SI = -0.55 eGROI = 0.00% eROI = 0.00% eROI2 = 0.00% eROI3 = 0.00% mSpread = 0.0000%\n",
      "\n"
     ]
    },
    {
     "name": "stderr",
     "output_type": "stream",
     "text": [
      "100%|██████████████████████████████████████████████████████████████████████████████████████████████████████████████████████████████████| 7657/7657 [00:02<00:00, 3442.69it/s]\n"
     ]
    },
    {
     "name": "stdout",
     "output_type": "stream",
     "text": [
      "Epoch = 8. Time index = 3. Threshold MC = 0.7. Threshold MD = 0.5\n",
      "RD = 4906 NZ = 8962 NZA = 12246 pNZ = 0.780% pNZA = 1.066% AD = 54.74% ADA = 40.06% NO = 1519 GSP = 52.80% NSP = 46.02%\n",
      "SI2 = -130.45 SI = -136.45 eGROI = -0.21% eROI = -29.84% eROI2 = -30.59% eROI3 = -45.78% mSpread = 0.0195%\n"
     ]
    },
    {
     "name": "stderr",
     "output_type": "stream",
     "text": [
      "100%|██████████████████████████████████████████████████████████████████████████████████████████████████████████████████████████████████████| 36/36 [00:00<00:00, 1388.20it/s]\n"
     ]
    },
    {
     "name": "stdout",
     "output_type": "stream",
     "text": [
      "Epoch = 8. Time index = 3. Threshold MC = 0.7. Threshold MD = 0.6\n",
      "RD = 454 NZ = 611 NZA = 828 pNZ = 0.053% pNZA = 0.072% AD = 74.30% ADA = 54.83% NO = 32 GSP = 68.75% NSP = 50.00%\n",
      "SI2 = 0.40 SI = -1.60 eGROI = 1.40% eROI = 0.30% eROI2 = 0.76% eROI3 = 0.44% mSpread = 0.0341%\n"
     ]
    },
    {
     "name": "stderr",
     "output_type": "stream",
     "text": [
      "0it [00:00, ?it/s]\n"
     ]
    },
    {
     "name": "stdout",
     "output_type": "stream",
     "text": [
      "Epoch = 8. Time index = 3. Threshold MC = 0.7. Threshold MD = 0.7\n",
      "RD = 198 NZ = 228 NZA = 306 pNZ = 0.020% pNZA = 0.027% AD = 86.84% ADA = 64.71% NO = 1 GSP = 0.00% NSP = 0.00%\n",
      "SI2 = -0.55 SI = -0.55 eGROI = 0.00% eROI = 0.00% eROI2 = 0.00% eROI3 = 0.00% mSpread = 0.0000%\n"
     ]
    },
    {
     "name": "stderr",
     "output_type": "stream",
     "text": [
      "0it [00:00, ?it/s]\n"
     ]
    },
    {
     "name": "stdout",
     "output_type": "stream",
     "text": [
      "Epoch = 8. Time index = 3. Threshold MC = 0.7. Threshold MD = 0.8\n",
      "RD = 86 NZ = 94 NZA = 125 pNZ = 0.008% pNZA = 0.011% AD = 91.49% ADA = 68.80% NO = 1 GSP = 0.00% NSP = 0.00%\n",
      "SI2 = -0.55 SI = -0.55 eGROI = 0.00% eROI = 0.00% eROI2 = 0.00% eROI3 = 0.00% mSpread = 0.0000%\n"
     ]
    },
    {
     "name": "stderr",
     "output_type": "stream",
     "text": [
      "0it [00:00, ?it/s]\n"
     ]
    },
    {
     "name": "stdout",
     "output_type": "stream",
     "text": [
      "Epoch = 8. Time index = 3. Threshold MC = 0.7. Threshold MD = 0.9\n",
      "RD = 0 NZ = 0 NZA = 0 pNZ = 0.000% pNZA = 0.000% AD = 0.00% ADA = 0.00% NO = 1 GSP = 0.00% NSP = 0.00%\n",
      "SI2 = -0.55 SI = -0.55 eGROI = 0.00% eROI = 0.00% eROI2 = 0.00% eROI3 = 0.00% mSpread = 0.0000%\n",
      "\n"
     ]
    },
    {
     "name": "stderr",
     "output_type": "stream",
     "text": [
      "100%|████████████████████████████████████████████████████████████████████████████████████████████████████████████████████████████████████| 228/228 [00:00<00:00, 2511.22it/s]\n"
     ]
    },
    {
     "name": "stdout",
     "output_type": "stream",
     "text": [
      "Epoch = 8. Time index = 3. Threshold MC = 0.8. Threshold MD = 0.5\n",
      "RD = 203 NZ = 311 NZA = 398 pNZ = 0.027% pNZA = 0.035% AD = 65.27% ADA = 51.01% NO = 141 GSP = 62.41% NSP = 58.16%\n",
      "SI2 = 4.45 SI = 4.45 eGROI = 5.98% eROI = 3.37% eROI2 = 3.16% eROI3 = 1.75% mSpread = 0.0185%\n"
     ]
    },
    {
     "name": "stderr",
     "output_type": "stream",
     "text": [
      "0it [00:00, ?it/s]\n"
     ]
    },
    {
     "name": "stdout",
     "output_type": "stream",
     "text": [
      "Epoch = 8. Time index = 3. Threshold MC = 0.8. Threshold MD = 0.6\n",
      "RD = 64 NZ = 82 NZA = 107 pNZ = 0.007% pNZA = 0.009% AD = 78.05% ADA = 59.81% NO = 1 GSP = 100.00% NSP = 100.00%\n",
      "SI2 = -0.55 SI = 0.45 eGROI = 0.10% eROI = 0.05% eROI2 = 0.08% eROI3 = 0.07% mSpread = 0.0516%\n"
     ]
    },
    {
     "name": "stderr",
     "output_type": "stream",
     "text": [
      "0it [00:00, ?it/s]\n"
     ]
    },
    {
     "name": "stdout",
     "output_type": "stream",
     "text": [
      "Epoch = 8. Time index = 3. Threshold MC = 0.8. Threshold MD = 0.7\n",
      "RD = 38 NZ = 46 NZA = 59 pNZ = 0.004% pNZA = 0.005% AD = 82.61% ADA = 64.41% NO = 1 GSP = 0.00% NSP = 0.00%\n",
      "SI2 = -0.55 SI = -0.55 eGROI = 0.00% eROI = 0.00% eROI2 = 0.00% eROI3 = 0.00% mSpread = 0.0000%\n"
     ]
    },
    {
     "name": "stderr",
     "output_type": "stream",
     "text": [
      "0it [00:00, ?it/s]\n"
     ]
    },
    {
     "name": "stdout",
     "output_type": "stream",
     "text": [
      "Epoch = 8. Time index = 3. Threshold MC = 0.8. Threshold MD = 0.8\n",
      "RD = 19 NZ = 22 NZA = 25 pNZ = 0.002% pNZA = 0.002% AD = 86.36% ADA = 76.00% NO = 1 GSP = 0.00% NSP = 0.00%\n",
      "SI2 = -0.55 SI = -0.55 eGROI = 0.00% eROI = 0.00% eROI2 = 0.00% eROI3 = 0.00% mSpread = 0.0000%\n"
     ]
    },
    {
     "name": "stderr",
     "output_type": "stream",
     "text": [
      "0it [00:00, ?it/s]\n"
     ]
    },
    {
     "name": "stdout",
     "output_type": "stream",
     "text": [
      "Epoch = 8. Time index = 3. Threshold MC = 0.8. Threshold MD = 0.9\n",
      "RD = 0 NZ = 0 NZA = 0 pNZ = 0.000% pNZA = 0.000% AD = 0.00% ADA = 0.00% NO = 1 GSP = 0.00% NSP = 0.00%\n",
      "SI2 = -0.55 SI = -0.55 eGROI = 0.00% eROI = 0.00% eROI2 = 0.00% eROI3 = 0.00% mSpread = 0.0000%\n",
      "\n"
     ]
    },
    {
     "name": "stderr",
     "output_type": "stream",
     "text": [
      "0it [00:00, ?it/s]\n"
     ]
    },
    {
     "name": "stdout",
     "output_type": "stream",
     "text": [
      "Epoch = 8. Time index = 3. Threshold MC = 0.9. Threshold MD = 0.5\n",
      "RD = 0 NZ = 0 NZA = 0 pNZ = 0.000% pNZA = 0.000% AD = 0.00% ADA = 0.00% NO = 1 GSP = 0.00% NSP = 0.00%\n",
      "SI2 = -0.55 SI = -0.55 eGROI = 0.00% eROI = 0.00% eROI2 = 0.00% eROI3 = 0.00% mSpread = 0.0000%\n"
     ]
    },
    {
     "name": "stderr",
     "output_type": "stream",
     "text": [
      "0it [00:00, ?it/s]\n"
     ]
    },
    {
     "name": "stdout",
     "output_type": "stream",
     "text": [
      "Epoch = 8. Time index = 3. Threshold MC = 0.9. Threshold MD = 0.6\n",
      "RD = 0 NZ = 0 NZA = 0 pNZ = 0.000% pNZA = 0.000% AD = 0.00% ADA = 0.00% NO = 1 GSP = 0.00% NSP = 0.00%\n",
      "SI2 = -0.55 SI = -0.55 eGROI = 0.00% eROI = 0.00% eROI2 = 0.00% eROI3 = 0.00% mSpread = 0.0000%\n"
     ]
    },
    {
     "name": "stderr",
     "output_type": "stream",
     "text": [
      "0it [00:00, ?it/s]\n"
     ]
    },
    {
     "name": "stdout",
     "output_type": "stream",
     "text": [
      "Epoch = 8. Time index = 3. Threshold MC = 0.9. Threshold MD = 0.7\n",
      "RD = 0 NZ = 0 NZA = 0 pNZ = 0.000% pNZA = 0.000% AD = 0.00% ADA = 0.00% NO = 1 GSP = 0.00% NSP = 0.00%\n",
      "SI2 = -0.55 SI = -0.55 eGROI = 0.00% eROI = 0.00% eROI2 = 0.00% eROI3 = 0.00% mSpread = 0.0000%\n"
     ]
    },
    {
     "name": "stderr",
     "output_type": "stream",
     "text": [
      "0it [00:00, ?it/s]\n"
     ]
    },
    {
     "name": "stdout",
     "output_type": "stream",
     "text": [
      "Epoch = 8. Time index = 3. Threshold MC = 0.9. Threshold MD = 0.8\n",
      "RD = 0 NZ = 0 NZA = 0 pNZ = 0.000% pNZA = 0.000% AD = 0.00% ADA = 0.00% NO = 1 GSP = 0.00% NSP = 0.00%\n",
      "SI2 = -0.55 SI = -0.55 eGROI = 0.00% eROI = 0.00% eROI2 = 0.00% eROI3 = 0.00% mSpread = 0.0000%\n"
     ]
    },
    {
     "name": "stderr",
     "output_type": "stream",
     "text": [
      "0it [00:00, ?it/s]\n"
     ]
    },
    {
     "name": "stdout",
     "output_type": "stream",
     "text": [
      "Epoch = 8. Time index = 3. Threshold MC = 0.9. Threshold MD = 0.9\n",
      "RD = 0 NZ = 0 NZA = 0 pNZ = 0.000% pNZA = 0.000% AD = 0.00% ADA = 0.00% NO = 1 GSP = 0.00% NSP = 0.00%\n",
      "SI2 = -0.55 SI = -0.55 eGROI = 0.00% eROI = 0.00% eROI2 = 0.00% eROI3 = 0.00% mSpread = 0.0000%\n",
      "\n",
      "Best eGROI = 27.34 t_index 2 thr_mc 0.5 thr_md 0.6 epoch 8 in 2068\n",
      "Best eROI = 3.37 t_index 3 thr_mc 0.8 thr_md 0.5 epoch 8 in 141\n",
      "Best eROI.5 = 17.00 t_index 2 thr_mc 0.5 thr_md 0.6 epoch 8 in 2068\n",
      "Best eROI1 = 8.66 t_index 1 thr_mc 0.5 thr_md 0.6 epoch 8 in 1573\n",
      "Best eROI1.5 = 3.86 t_index 3 thr_mc 0.8 thr_md 0.5 epoch 8 in 141\n",
      "Best eROI2 = 3.16 t_index 3 thr_mc 0.8 thr_md 0.5 epoch 8 in 141\n",
      "Best eROI3 = 1.75 t_index 3 thr_mc 0.8 thr_md 0.5 epoch 8 in 141\n",
      "Best eROI4 = 0.36 t_index 0 thr_mc 0.8 thr_md 0.5 epoch 8 in 85\n",
      "Best eROI5 = 0.08 t_index 0 thr_mc 0.7 thr_md 0.6 epoch 8 in 13\n",
      "Best SI = 4.45 t_index 3 thr_mc 0.8 thr_md 0.5 epoch 8 in 141\n",
      "Best SI.5 = 92.60 t_index 2 thr_mc 0.5 thr_md 0.6 epoch 8 in 2068\n",
      "Best SI1 = 33.85 t_index 1 thr_mc 0.5 thr_md 0.6 epoch 8 in 1573\n",
      "Best SI1.5 = 4.45 t_index 3 thr_mc 0.8 thr_md 0.5 epoch 8 in 141\n",
      "Best SI2 = 4.45 t_index 3 thr_mc 0.8 thr_md 0.5 epoch 8 in 141\n",
      "Best SI3 = 0.45 t_index 3 thr_mc 0.8 thr_md 0.5 epoch 8 in 141\n",
      "Best SI4 = -0.55 t_index 0 thr_mc 0.5 thr_md 0.5 epoch 8 in 1\n",
      "Best SI5 = -0.55 t_index 0 thr_mc 0.5 thr_md 0.5 epoch 8 in 1\n",
      "\n",
      "The very best:\n",
      "Best eGROI = 27.34 t_index 2 thr_mc 0.5 thr_md 0.6 epoch 8 in 2068\n",
      "Best eROI = 3.37 t_index 3 thr_mc 0.8 thr_md 0.5 epoch 8 in 141\n",
      "Best eROI.5 = 17.00 t_index 2 thr_mc 0.5 thr_md 0.6 epoch 8 in 2068\n",
      "Best eROI1 = 8.66 t_index 1 thr_mc 0.5 thr_md 0.6 epoch 8 in 1573\n",
      "Best eROI1.5 = 3.86 t_index 3 thr_mc 0.8 thr_md 0.5 epoch 8 in 141\n",
      "Best eROI2 = 3.16 t_index 3 thr_mc 0.8 thr_md 0.5 epoch 8 in 141\n",
      "Best eROI3 = 1.75 t_index 3 thr_mc 0.8 thr_md 0.5 epoch 8 in 141\n",
      "Best eROI4 = 0.36 t_index 0 thr_mc 0.8 thr_md 0.5 epoch 8 in 85\n",
      "Best eROI5 = 0.08 t_index 0 thr_mc 0.7 thr_md 0.6 epoch 8 in 13\n",
      "Best SI = 4.45 t_index 3 thr_mc 0.8 thr_md 0.5 epoch 8 in 141\n",
      "Best SI.5 = 92.60 t_index 2 thr_mc 0.5 thr_md 0.6 epoch 8 in 2068\n",
      "Best SI1 = 33.85 t_index 1 thr_mc 0.5 thr_md 0.6 epoch 8 in 1573\n",
      "Best SI1.5 = 4.45 t_index 3 thr_mc 0.8 thr_md 0.5 epoch 8 in 141\n",
      "Best SI2 = 4.45 t_index 3 thr_mc 0.8 thr_md 0.5 epoch 8 in 141\n",
      "Best SI3 = 0.45 t_index 3 thr_mc 0.8 thr_md 0.5 epoch 8 in 141\n",
      "Best SI4 = -0.55 t_index 0 thr_mc 0.5 thr_md 0.5 epoch 8 in 1\n",
      "Best SI5 = -0.55 t_index 0 thr_mc 0.5 thr_md 0.5 epoch 8 in 1\n",
      "Time=89.76 secs\n",
      "INFO:tensorflow:Restoring parameters from ../../RNN/weights/000520/000009/000009\n",
      "Parameters loaded. Epoch 9\n",
      "Epoch 9 of 34. Getting output...\n"
     ]
    },
    {
     "name": "stderr",
     "output_type": "stream",
     "text": [
      "100%|████████████████████████████████████████████████████████████████████████████████████████████████████████████████████████████████████████| 23/23 [02:04<00:00,  5.55s/it]\n"
     ]
    },
    {
     "name": "stdout",
     "output_type": "stream",
     "text": [
      "Getting results\n",
      "Epoch 9, J_train = 6.516086029274329, J_test = 6.340968712516453\n"
     ]
    },
    {
     "name": "stderr",
     "output_type": "stream",
     "text": [
      "0it [00:00, ?it/s]\n"
     ]
    },
    {
     "name": "stdout",
     "output_type": "stream",
     "text": [
      "Epoch = 9. Time index = 0. Threshold MC = 0.5. Threshold MD = 0.5\n",
      "J_test = 6.340968712516453, J_train = 6.516086029274329, Accuracy=0.5461538930282319\n",
      "RD = 266232 NZ = 512975 NZA = 978863 pNZ = 44.656% pNZA = 85.212% AD = 51.90% ADA = 27.20% NO = 1 GSP = 0.00% NSP = 0.00%\n",
      "SI2 = -0.55 SI = -0.55 eGROI = 0.00% eROI = 0.00% eROI2 = 0.00% eROI3 = 0.00% mSpread = 0.0000%\n"
     ]
    },
    {
     "name": "stderr",
     "output_type": "stream",
     "text": [
      "100%|██████████████████████████████████████████████████████████████████████████████████████████████████████████████████████████████████| 2722/2722 [00:01<00:00, 2667.84it/s]\n"
     ]
    },
    {
     "name": "stdout",
     "output_type": "stream",
     "text": [
      "Epoch = 9. Time index = 0. Threshold MC = 0.5. Threshold MD = 0.6\n",
      "RD = 5743 NZ = 8869 NZA = 19019 pNZ = 0.772% pNZA = 1.656% AD = 64.75% ADA = 30.20% NO = 1052 GSP = 63.02% NSP = 40.78%\n",
      "SI2 = -33.60 SI = -149.60 eGROI = 17.23% eROI = -19.94% eROI2 = -3.81% eROI3 = -14.33% mSpread = 0.0353%\n"
     ]
    },
    {
     "name": "stderr",
     "output_type": "stream",
     "text": [
      "0it [00:00, ?it/s]\n"
     ]
    },
    {
     "name": "stdout",
     "output_type": "stream",
     "text": [
      "Epoch = 9. Time index = 0. Threshold MC = 0.5. Threshold MD = 0.7\n",
      "RD = 456 NZ = 537 NZA = 1004 pNZ = 0.047% pNZA = 0.087% AD = 84.92% ADA = 45.42% NO = 1 GSP = 0.00% NSP = 0.00%\n",
      "SI2 = -0.55 SI = -0.55 eGROI = 0.00% eROI = 0.00% eROI2 = 0.00% eROI3 = 0.00% mSpread = 0.0000%\n"
     ]
    },
    {
     "name": "stderr",
     "output_type": "stream",
     "text": [
      "0it [00:00, ?it/s]\n"
     ]
    },
    {
     "name": "stdout",
     "output_type": "stream",
     "text": [
      "Epoch = 9. Time index = 0. Threshold MC = 0.5. Threshold MD = 0.8\n",
      "RD = 0 NZ = 0 NZA = 0 pNZ = 0.000% pNZA = 0.000% AD = 0.00% ADA = 0.00% NO = 1 GSP = 0.00% NSP = 0.00%\n",
      "SI2 = -0.55 SI = -0.55 eGROI = 0.00% eROI = 0.00% eROI2 = 0.00% eROI3 = 0.00% mSpread = 0.0000%\n"
     ]
    },
    {
     "name": "stderr",
     "output_type": "stream",
     "text": [
      "0it [00:00, ?it/s]\n"
     ]
    },
    {
     "name": "stdout",
     "output_type": "stream",
     "text": [
      "Epoch = 9. Time index = 0. Threshold MC = 0.5. Threshold MD = 0.9\n",
      "RD = 0 NZ = 0 NZA = 0 pNZ = 0.000% pNZA = 0.000% AD = 0.00% ADA = 0.00% NO = 1 GSP = 0.00% NSP = 0.00%\n",
      "SI2 = -0.55 SI = -0.55 eGROI = 0.00% eROI = 0.00% eROI2 = 0.00% eROI3 = 0.00% mSpread = 0.0000%\n",
      "\n"
     ]
    },
    {
     "name": "stderr",
     "output_type": "stream",
     "text": [
      "0it [00:00, ?it/s]\n"
     ]
    },
    {
     "name": "stdout",
     "output_type": "stream",
     "text": [
      "Epoch = 9. Time index = 0. Threshold MC = 0.6. Threshold MD = 0.5\n",
      "RD = 93866 NZ = 178148 NZA = 292997 pNZ = 15.508% pNZA = 25.506% AD = 52.69% ADA = 32.04% NO = 1 GSP = 0.00% NSP = 0.00%\n",
      "SI2 = -0.55 SI = -0.55 eGROI = 0.00% eROI = 0.00% eROI2 = 0.00% eROI3 = 0.00% mSpread = 0.0000%\n"
     ]
    },
    {
     "name": "stderr",
     "output_type": "stream",
     "text": [
      "100%|████████████████████████████████████████████████████████████████████████████████████████████████████████████████████████████████████| 881/881 [00:00<00:00, 2822.14it/s]\n"
     ]
    },
    {
     "name": "stdout",
     "output_type": "stream",
     "text": [
      "Epoch = 9. Time index = 0. Threshold MC = 0.6. Threshold MD = 0.6\n",
      "RD = 2305 NZ = 3439 NZA = 5906 pNZ = 0.299% pNZA = 0.514% AD = 67.03% ADA = 39.03% NO = 462 GSP = 60.61% NSP = 42.86%\n",
      "SI2 = -25.10 SI = -56.10 eGROI = 6.85% eROI = -8.48% eROI2 = -2.39% eROI3 = -7.01% mSpread = 0.0332%\n"
     ]
    },
    {
     "name": "stderr",
     "output_type": "stream",
     "text": [
      "0it [00:00, ?it/s]\n"
     ]
    },
    {
     "name": "stdout",
     "output_type": "stream",
     "text": [
      "Epoch = 9. Time index = 0. Threshold MC = 0.6. Threshold MD = 0.7\n",
      "RD = 292 NZ = 329 NZA = 523 pNZ = 0.029% pNZA = 0.046% AD = 88.75% ADA = 55.83% NO = 1 GSP = 0.00% NSP = 0.00%\n",
      "SI2 = -0.55 SI = -0.55 eGROI = 0.00% eROI = 0.00% eROI2 = 0.00% eROI3 = 0.00% mSpread = 0.0000%\n"
     ]
    },
    {
     "name": "stderr",
     "output_type": "stream",
     "text": [
      "0it [00:00, ?it/s]\n"
     ]
    },
    {
     "name": "stdout",
     "output_type": "stream",
     "text": [
      "Epoch = 9. Time index = 0. Threshold MC = 0.6. Threshold MD = 0.8\n",
      "RD = 0 NZ = 0 NZA = 0 pNZ = 0.000% pNZA = 0.000% AD = 0.00% ADA = 0.00% NO = 1 GSP = 0.00% NSP = 0.00%\n",
      "SI2 = -0.55 SI = -0.55 eGROI = 0.00% eROI = 0.00% eROI2 = 0.00% eROI3 = 0.00% mSpread = 0.0000%\n"
     ]
    },
    {
     "name": "stderr",
     "output_type": "stream",
     "text": [
      "0it [00:00, ?it/s]\n"
     ]
    },
    {
     "name": "stdout",
     "output_type": "stream",
     "text": [
      "Epoch = 9. Time index = 0. Threshold MC = 0.6. Threshold MD = 0.9\n",
      "RD = 0 NZ = 0 NZA = 0 pNZ = 0.000% pNZA = 0.000% AD = 0.00% ADA = 0.00% NO = 1 GSP = 0.00% NSP = 0.00%\n",
      "SI2 = -0.55 SI = -0.55 eGROI = 0.00% eROI = 0.00% eROI2 = 0.00% eROI3 = 0.00% mSpread = 0.0000%\n",
      "\n"
     ]
    },
    {
     "name": "stderr",
     "output_type": "stream",
     "text": [
      "100%|████████████████████████████████████████████████████████████████████████████████████████████████████████████████████████████████| 10453/10453 [00:02<00:00, 3604.07it/s]\n"
     ]
    },
    {
     "name": "stdout",
     "output_type": "stream",
     "text": [
      "Epoch = 9. Time index = 0. Threshold MC = 0.7. Threshold MD = 0.5\n",
      "RD = 7661 NZ = 14197 NZA = 19818 pNZ = 1.236% pNZA = 1.725% AD = 53.96% ADA = 38.66% NO = 2394 GSP = 54.59% NSP = 46.45%\n",
      "SI2 = -204.70 SI = -204.70 eGROI = 5.54% eROI = -40.14% eROI2 = -42.34% eROI3 = -66.28% mSpread = 0.0191%\n"
     ]
    },
    {
     "name": "stderr",
     "output_type": "stream",
     "text": [
      "100%|██████████████████████████████████████████████████████████████████████████████████████████████████████████████████████████████████████| 41/41 [00:00<00:00, 2055.32it/s]\n"
     ]
    },
    {
     "name": "stdout",
     "output_type": "stream",
     "text": [
      "Epoch = 9. Time index = 0. Threshold MC = 0.7. Threshold MD = 0.6\n",
      "RD = 336 NZ = 495 NZA = 672 pNZ = 0.043% pNZA = 0.058% AD = 67.88% ADA = 50.00% NO = 40 GSP = 70.00% NSP = 52.50%\n",
      "SI2 = 1.00 SI = -1.00 eGROI = 1.02% eROI = -0.11% eROI2 = 0.22% eROI3 = -0.18% mSpread = 0.0283%\n"
     ]
    },
    {
     "name": "stderr",
     "output_type": "stream",
     "text": [
      "0it [00:00, ?it/s]\n"
     ]
    },
    {
     "name": "stdout",
     "output_type": "stream",
     "text": [
      "Epoch = 9. Time index = 0. Threshold MC = 0.7. Threshold MD = 0.7\n",
      "RD = 66 NZ = 71 NZA = 88 pNZ = 0.006% pNZA = 0.008% AD = 92.96% ADA = 75.00% NO = 1 GSP = 0.00% NSP = 0.00%\n",
      "SI2 = -0.55 SI = -0.55 eGROI = 0.00% eROI = 0.00% eROI2 = 0.00% eROI3 = 0.00% mSpread = 0.0000%\n"
     ]
    },
    {
     "name": "stderr",
     "output_type": "stream",
     "text": [
      "0it [00:00, ?it/s]\n"
     ]
    },
    {
     "name": "stdout",
     "output_type": "stream",
     "text": [
      "Epoch = 9. Time index = 0. Threshold MC = 0.7. Threshold MD = 0.8\n",
      "RD = 0 NZ = 0 NZA = 0 pNZ = 0.000% pNZA = 0.000% AD = 0.00% ADA = 0.00% NO = 1 GSP = 0.00% NSP = 0.00%\n",
      "SI2 = -0.55 SI = -0.55 eGROI = 0.00% eROI = 0.00% eROI2 = 0.00% eROI3 = 0.00% mSpread = 0.0000%\n"
     ]
    },
    {
     "name": "stderr",
     "output_type": "stream",
     "text": [
      "0it [00:00, ?it/s]\n"
     ]
    },
    {
     "name": "stdout",
     "output_type": "stream",
     "text": [
      "Epoch = 9. Time index = 0. Threshold MC = 0.7. Threshold MD = 0.9\n",
      "RD = 0 NZ = 0 NZA = 0 pNZ = 0.000% pNZA = 0.000% AD = 0.00% ADA = 0.00% NO = 1 GSP = 0.00% NSP = 0.00%\n",
      "SI2 = -0.55 SI = -0.55 eGROI = 0.00% eROI = 0.00% eROI2 = 0.00% eROI3 = 0.00% mSpread = 0.0000%\n",
      "\n"
     ]
    },
    {
     "name": "stderr",
     "output_type": "stream",
     "text": [
      "100%|████████████████████████████████████████████████████████████████████████████████████████████████████████████████████████████████████| 154/154 [00:00<00:00, 2304.60it/s]\n"
     ]
    },
    {
     "name": "stdout",
     "output_type": "stream",
     "text": [
      "Epoch = 9. Time index = 0. Threshold MC = 0.8. Threshold MD = 0.5\n",
      "RD = 149 NZ = 251 NZA = 313 pNZ = 0.022% pNZA = 0.027% AD = 59.36% ADA = 47.60% NO = 133 GSP = 63.91% NSP = 56.39%\n",
      "SI2 = 1.85 SI = 1.85 eGROI = 5.68% eROI = 3.25% eROI2 = 3.02% eROI3 = 1.69% mSpread = 0.0183%\n"
     ]
    },
    {
     "name": "stderr",
     "output_type": "stream",
     "text": [
      "0it [00:00, ?it/s]\n"
     ]
    },
    {
     "name": "stdout",
     "output_type": "stream",
     "text": [
      "Epoch = 9. Time index = 0. Threshold MC = 0.8. Threshold MD = 0.6\n",
      "RD = 12 NZ = 23 NZA = 30 pNZ = 0.002% pNZA = 0.003% AD = 52.17% ADA = 40.00% NO = 1 GSP = 0.00% NSP = 0.00%\n",
      "SI2 = -0.55 SI = -0.55 eGROI = 0.00% eROI = 0.00% eROI2 = 0.00% eROI3 = 0.00% mSpread = 0.0000%\n"
     ]
    },
    {
     "name": "stderr",
     "output_type": "stream",
     "text": [
      "0it [00:00, ?it/s]\n"
     ]
    },
    {
     "name": "stdout",
     "output_type": "stream",
     "text": [
      "Epoch = 9. Time index = 0. Threshold MC = 0.8. Threshold MD = 0.7\n",
      "RD = 0 NZ = 0 NZA = 0 pNZ = 0.000% pNZA = 0.000% AD = 0.00% ADA = 0.00% NO = 1 GSP = 0.00% NSP = 0.00%\n",
      "SI2 = -0.55 SI = -0.55 eGROI = 0.00% eROI = 0.00% eROI2 = 0.00% eROI3 = 0.00% mSpread = 0.0000%\n"
     ]
    },
    {
     "name": "stderr",
     "output_type": "stream",
     "text": [
      "0it [00:00, ?it/s]\n"
     ]
    },
    {
     "name": "stdout",
     "output_type": "stream",
     "text": [
      "Epoch = 9. Time index = 0. Threshold MC = 0.8. Threshold MD = 0.8\n",
      "RD = 0 NZ = 0 NZA = 0 pNZ = 0.000% pNZA = 0.000% AD = 0.00% ADA = 0.00% NO = 1 GSP = 0.00% NSP = 0.00%\n",
      "SI2 = -0.55 SI = -0.55 eGROI = 0.00% eROI = 0.00% eROI2 = 0.00% eROI3 = 0.00% mSpread = 0.0000%\n"
     ]
    },
    {
     "name": "stderr",
     "output_type": "stream",
     "text": [
      "0it [00:00, ?it/s]\n"
     ]
    },
    {
     "name": "stdout",
     "output_type": "stream",
     "text": [
      "Epoch = 9. Time index = 0. Threshold MC = 0.8. Threshold MD = 0.9\n",
      "RD = 0 NZ = 0 NZA = 0 pNZ = 0.000% pNZA = 0.000% AD = 0.00% ADA = 0.00% NO = 1 GSP = 0.00% NSP = 0.00%\n",
      "SI2 = -0.55 SI = -0.55 eGROI = 0.00% eROI = 0.00% eROI2 = 0.00% eROI3 = 0.00% mSpread = 0.0000%\n",
      "\n"
     ]
    },
    {
     "name": "stderr",
     "output_type": "stream",
     "text": [
      "0it [00:00, ?it/s]\n"
     ]
    },
    {
     "name": "stdout",
     "output_type": "stream",
     "text": [
      "Epoch = 9. Time index = 0. Threshold MC = 0.9. Threshold MD = 0.5\n",
      "RD = 0 NZ = 0 NZA = 0 pNZ = 0.000% pNZA = 0.000% AD = 0.00% ADA = 0.00% NO = 1 GSP = 0.00% NSP = 0.00%\n",
      "SI2 = -0.55 SI = -0.55 eGROI = 0.00% eROI = 0.00% eROI2 = 0.00% eROI3 = 0.00% mSpread = 0.0000%\n"
     ]
    },
    {
     "name": "stderr",
     "output_type": "stream",
     "text": [
      "0it [00:00, ?it/s]\n"
     ]
    },
    {
     "name": "stdout",
     "output_type": "stream",
     "text": [
      "Epoch = 9. Time index = 0. Threshold MC = 0.9. Threshold MD = 0.6\n",
      "RD = 0 NZ = 0 NZA = 0 pNZ = 0.000% pNZA = 0.000% AD = 0.00% ADA = 0.00% NO = 1 GSP = 0.00% NSP = 0.00%\n",
      "SI2 = -0.55 SI = -0.55 eGROI = 0.00% eROI = 0.00% eROI2 = 0.00% eROI3 = 0.00% mSpread = 0.0000%\n"
     ]
    },
    {
     "name": "stderr",
     "output_type": "stream",
     "text": [
      "0it [00:00, ?it/s]\n"
     ]
    },
    {
     "name": "stdout",
     "output_type": "stream",
     "text": [
      "Epoch = 9. Time index = 0. Threshold MC = 0.9. Threshold MD = 0.7\n",
      "RD = 0 NZ = 0 NZA = 0 pNZ = 0.000% pNZA = 0.000% AD = 0.00% ADA = 0.00% NO = 1 GSP = 0.00% NSP = 0.00%\n",
      "SI2 = -0.55 SI = -0.55 eGROI = 0.00% eROI = 0.00% eROI2 = 0.00% eROI3 = 0.00% mSpread = 0.0000%\n"
     ]
    },
    {
     "name": "stderr",
     "output_type": "stream",
     "text": [
      "0it [00:00, ?it/s]\n"
     ]
    },
    {
     "name": "stdout",
     "output_type": "stream",
     "text": [
      "Epoch = 9. Time index = 0. Threshold MC = 0.9. Threshold MD = 0.8\n",
      "RD = 0 NZ = 0 NZA = 0 pNZ = 0.000% pNZA = 0.000% AD = 0.00% ADA = 0.00% NO = 1 GSP = 0.00% NSP = 0.00%\n",
      "SI2 = -0.55 SI = -0.55 eGROI = 0.00% eROI = 0.00% eROI2 = 0.00% eROI3 = 0.00% mSpread = 0.0000%\n"
     ]
    },
    {
     "name": "stderr",
     "output_type": "stream",
     "text": [
      "0it [00:00, ?it/s]\n"
     ]
    },
    {
     "name": "stdout",
     "output_type": "stream",
     "text": [
      "Epoch = 9. Time index = 0. Threshold MC = 0.9. Threshold MD = 0.9\n",
      "RD = 0 NZ = 0 NZA = 0 pNZ = 0.000% pNZA = 0.000% AD = 0.00% ADA = 0.00% NO = 1 GSP = 0.00% NSP = 0.00%\n",
      "SI2 = -0.55 SI = -0.55 eGROI = 0.00% eROI = 0.00% eROI2 = 0.00% eROI3 = 0.00% mSpread = 0.0000%\n",
      "\n"
     ]
    },
    {
     "name": "stderr",
     "output_type": "stream",
     "text": [
      "0it [00:00, ?it/s]\n"
     ]
    },
    {
     "name": "stdout",
     "output_type": "stream",
     "text": [
      "Epoch = 9. Time index = 1. Threshold MC = 0.5. Threshold MD = 0.5\n",
      "J_test = 6.340968712516453, J_train = 6.516086029274329, Accuracy=0.5329776371010496\n",
      "RD = 277609 NZ = 533831 NZA = 1035710 pNZ = 46.471% pNZA = 90.161% AD = 52.00% ADA = 26.80% NO = 1 GSP = 0.00% NSP = 0.00%\n",
      "SI2 = -0.55 SI = -0.55 eGROI = 0.00% eROI = 0.00% eROI2 = 0.00% eROI3 = 0.00% mSpread = 0.0000%\n"
     ]
    },
    {
     "name": "stderr",
     "output_type": "stream",
     "text": [
      "100%|██████████████████████████████████████████████████████████████████████████████████████████████████████████████████████████████████| 7340/7340 [00:02<00:00, 3369.69it/s]\n"
     ]
    },
    {
     "name": "stdout",
     "output_type": "stream",
     "text": [
      "Epoch = 9. Time index = 1. Threshold MC = 0.5. Threshold MD = 0.6\n",
      "RD = 6084 NZ = 8939 NZA = 20029 pNZ = 0.778% pNZA = 1.744% AD = 68.06% ADA = 30.38% NO = 1836 GSP = 63.40% NSP = 41.01%\n",
      "SI2 = -64.80 SI = -256.80 eGROI = 27.57% eROI = -35.60% eROI2 = -9.15% eROI3 = -27.51% mSpread = 0.0344%\n"
     ]
    },
    {
     "name": "stderr",
     "output_type": "stream",
     "text": [
      "0it [00:00, ?it/s]\n"
     ]
    },
    {
     "name": "stdout",
     "output_type": "stream",
     "text": [
      "Epoch = 9. Time index = 1. Threshold MC = 0.5. Threshold MD = 0.7\n",
      "RD = 822 NZ = 993 NZA = 2078 pNZ = 0.086% pNZA = 0.181% AD = 82.78% ADA = 39.56% NO = 1 GSP = 0.00% NSP = 0.00%\n",
      "SI2 = -0.55 SI = -0.55 eGROI = 0.00% eROI = 0.00% eROI2 = 0.00% eROI3 = 0.00% mSpread = 0.0000%\n"
     ]
    },
    {
     "name": "stderr",
     "output_type": "stream",
     "text": [
      "0it [00:00, ?it/s]\n"
     ]
    },
    {
     "name": "stdout",
     "output_type": "stream",
     "text": [
      "Epoch = 9. Time index = 1. Threshold MC = 0.5. Threshold MD = 0.8\n",
      "RD = 139 NZ = 156 NZA = 277 pNZ = 0.014% pNZA = 0.024% AD = 89.10% ADA = 50.18% NO = 1 GSP = 0.00% NSP = 0.00%\n",
      "SI2 = -0.55 SI = -0.55 eGROI = 0.00% eROI = 0.00% eROI2 = 0.00% eROI3 = 0.00% mSpread = 0.0000%\n"
     ]
    },
    {
     "name": "stderr",
     "output_type": "stream",
     "text": [
      "0it [00:00, ?it/s]\n"
     ]
    },
    {
     "name": "stdout",
     "output_type": "stream",
     "text": [
      "Epoch = 9. Time index = 1. Threshold MC = 0.5. Threshold MD = 0.9\n",
      "RD = 0 NZ = 0 NZA = 0 pNZ = 0.000% pNZA = 0.000% AD = 0.00% ADA = 0.00% NO = 1 GSP = 0.00% NSP = 0.00%\n",
      "SI2 = -0.55 SI = -0.55 eGROI = 0.00% eROI = 0.00% eROI2 = 0.00% eROI3 = 0.00% mSpread = 0.0000%\n",
      "\n"
     ]
    },
    {
     "name": "stderr",
     "output_type": "stream",
     "text": [
      "0it [00:00, ?it/s]\n"
     ]
    },
    {
     "name": "stdout",
     "output_type": "stream",
     "text": [
      "Epoch = 9. Time index = 1. Threshold MC = 0.6. Threshold MD = 0.5\n",
      "RD = 87134 NZ = 163924 NZA = 269306 pNZ = 14.270% pNZA = 23.444% AD = 53.16% ADA = 32.36% NO = 1 GSP = 0.00% NSP = 0.00%\n",
      "SI2 = -0.55 SI = -0.55 eGROI = 0.00% eROI = 0.00% eROI2 = 0.00% eROI3 = 0.00% mSpread = 0.0000%\n"
     ]
    },
    {
     "name": "stderr",
     "output_type": "stream",
     "text": [
      "100%|██████████████████████████████████████████████████████████████████████████████████████████████████████████████████████████████████| 2244/2244 [00:00<00:00, 2910.65it/s]\n"
     ]
    },
    {
     "name": "stdout",
     "output_type": "stream",
     "text": [
      "Epoch = 9. Time index = 1. Threshold MC = 0.6. Threshold MD = 0.6\n",
      "RD = 2437 NZ = 3549 NZA = 6299 pNZ = 0.309% pNZA = 0.548% AD = 68.67% ADA = 38.69% NO = 801 GSP = 64.67% NSP = 45.07%\n",
      "SI2 = -17.55 SI = -79.55 eGROI = 12.94% eROI = -13.37% eROI2 = -3.08% eROI3 = -11.09% mSpread = 0.0328%\n"
     ]
    },
    {
     "name": "stderr",
     "output_type": "stream",
     "text": [
      "0it [00:00, ?it/s]\n"
     ]
    },
    {
     "name": "stdout",
     "output_type": "stream",
     "text": [
      "Epoch = 9. Time index = 1. Threshold MC = 0.6. Threshold MD = 0.7\n",
      "RD = 535 NZ = 634 NZA = 1069 pNZ = 0.055% pNZA = 0.093% AD = 84.38% ADA = 50.05% NO = 1 GSP = 0.00% NSP = 0.00%\n",
      "SI2 = -0.55 SI = -0.55 eGROI = 0.00% eROI = 0.00% eROI2 = 0.00% eROI3 = 0.00% mSpread = 0.0000%\n"
     ]
    },
    {
     "name": "stderr",
     "output_type": "stream",
     "text": [
      "0it [00:00, ?it/s]\n"
     ]
    },
    {
     "name": "stdout",
     "output_type": "stream",
     "text": [
      "Epoch = 9. Time index = 1. Threshold MC = 0.6. Threshold MD = 0.8\n",
      "RD = 117 NZ = 131 NZA = 206 pNZ = 0.011% pNZA = 0.018% AD = 89.31% ADA = 56.80% NO = 1 GSP = 0.00% NSP = 0.00%\n",
      "SI2 = -0.55 SI = -0.55 eGROI = 0.00% eROI = 0.00% eROI2 = 0.00% eROI3 = 0.00% mSpread = 0.0000%\n"
     ]
    },
    {
     "name": "stderr",
     "output_type": "stream",
     "text": [
      "0it [00:00, ?it/s]\n"
     ]
    },
    {
     "name": "stdout",
     "output_type": "stream",
     "text": [
      "Epoch = 9. Time index = 1. Threshold MC = 0.6. Threshold MD = 0.9\n",
      "RD = 0 NZ = 0 NZA = 0 pNZ = 0.000% pNZA = 0.000% AD = 0.00% ADA = 0.00% NO = 1 GSP = 0.00% NSP = 0.00%\n",
      "SI2 = -0.55 SI = -0.55 eGROI = 0.00% eROI = 0.00% eROI2 = 0.00% eROI3 = 0.00% mSpread = 0.0000%\n",
      "\n"
     ]
    },
    {
     "name": "stderr",
     "output_type": "stream",
     "text": [
      "100%|██████████████████████████████████████████████████████████████████████████████████████████████████████████████████████████████████| 8763/8763 [00:02<00:00, 3354.13it/s]\n"
     ]
    },
    {
     "name": "stdout",
     "output_type": "stream",
     "text": [
      "Epoch = 9. Time index = 1. Threshold MC = 0.7. Threshold MD = 0.5\n",
      "RD = 5996 NZ = 10858 NZA = 14947 pNZ = 0.945% pNZA = 1.301% AD = 55.22% ADA = 40.12% NO = 1816 GSP = 53.52% NSP = 46.26%\n",
      "SI2 = -143.80 SI = -158.80 eGROI = -0.06% eROI = -35.30% eROI2 = -36.38% eROI3 = -54.54% mSpread = 0.0194%\n"
     ]
    },
    {
     "name": "stderr",
     "output_type": "stream",
     "text": [
      "100%|██████████████████████████████████████████████████████████████████████████████████████████████████████████████████████████████████████| 62/62 [00:00<00:00, 2220.57it/s]\n"
     ]
    },
    {
     "name": "stdout",
     "output_type": "stream",
     "text": [
      "Epoch = 9. Time index = 1. Threshold MC = 0.7. Threshold MD = 0.6\n",
      "RD = 440 NZ = 615 NZA = 828 pNZ = 0.054% pNZA = 0.072% AD = 71.54% ADA = 53.14% NO = 58 GSP = 65.52% NSP = 48.28%\n",
      "SI2 = -1.90 SI = -3.90 eGROI = 1.21% eROI = -0.57% eROI2 = 0.05% eROI3 = -0.53% mSpread = 0.0306%\n"
     ]
    },
    {
     "name": "stderr",
     "output_type": "stream",
     "text": [
      "0it [00:00, ?it/s]\n"
     ]
    },
    {
     "name": "stdout",
     "output_type": "stream",
     "text": [
      "Epoch = 9. Time index = 1. Threshold MC = 0.7. Threshold MD = 0.7\n",
      "RD = 182 NZ = 212 NZA = 272 pNZ = 0.018% pNZA = 0.024% AD = 85.85% ADA = 66.91% NO = 1 GSP = 0.00% NSP = 0.00%\n",
      "SI2 = -0.55 SI = -0.55 eGROI = 0.00% eROI = 0.00% eROI2 = 0.00% eROI3 = 0.00% mSpread = 0.0000%\n"
     ]
    },
    {
     "name": "stderr",
     "output_type": "stream",
     "text": [
      "0it [00:00, ?it/s]\n"
     ]
    },
    {
     "name": "stdout",
     "output_type": "stream",
     "text": [
      "Epoch = 9. Time index = 1. Threshold MC = 0.7. Threshold MD = 0.8\n",
      "RD = 64 NZ = 67 NZA = 88 pNZ = 0.006% pNZA = 0.008% AD = 95.52% ADA = 72.73% NO = 1 GSP = 0.00% NSP = 0.00%\n",
      "SI2 = -0.55 SI = -0.55 eGROI = 0.00% eROI = 0.00% eROI2 = 0.00% eROI3 = 0.00% mSpread = 0.0000%\n"
     ]
    },
    {
     "name": "stderr",
     "output_type": "stream",
     "text": [
      "0it [00:00, ?it/s]\n"
     ]
    },
    {
     "name": "stdout",
     "output_type": "stream",
     "text": [
      "Epoch = 9. Time index = 1. Threshold MC = 0.7. Threshold MD = 0.9\n",
      "RD = 0 NZ = 0 NZA = 0 pNZ = 0.000% pNZA = 0.000% AD = 0.00% ADA = 0.00% NO = 1 GSP = 0.00% NSP = 0.00%\n",
      "SI2 = -0.55 SI = -0.55 eGROI = 0.00% eROI = 0.00% eROI2 = 0.00% eROI3 = 0.00% mSpread = 0.0000%\n",
      "\n"
     ]
    },
    {
     "name": "stderr",
     "output_type": "stream",
     "text": [
      "100%|████████████████████████████████████████████████████████████████████████████████████████████████████████████████████████████████████| 324/324 [00:00<00:00, 1510.96it/s]\n"
     ]
    },
    {
     "name": "stdout",
     "output_type": "stream",
     "text": [
      "Epoch = 9. Time index = 1. Threshold MC = 0.8. Threshold MD = 0.5\n",
      "RD = 250 NZ = 410 NZA = 514 pNZ = 0.036% pNZA = 0.045% AD = 60.98% ADA = 48.64% NO = 216 GSP = 56.02% NSP = 49.54%\n",
      "SI2 = -11.80 SI = -11.80 eGROI = 4.29% eROI = 0.12% eROI2 = -0.03% eROI3 = -2.19% mSpread = 0.0193%\n"
     ]
    },
    {
     "name": "stderr",
     "output_type": "stream",
     "text": [
      "0it [00:00, ?it/s]\n"
     ]
    },
    {
     "name": "stdout",
     "output_type": "stream",
     "text": [
      "Epoch = 9. Time index = 1. Threshold MC = 0.8. Threshold MD = 0.6\n",
      "RD = 49 NZ = 68 NZA = 84 pNZ = 0.006% pNZA = 0.007% AD = 72.06% ADA = 58.33% NO = 1 GSP = 100.00% NSP = 100.00%\n",
      "SI2 = -0.55 SI = 0.45 eGROI = 0.10% eROI = 0.05% eROI2 = 0.08% eROI3 = 0.07% mSpread = 0.0516%\n"
     ]
    },
    {
     "name": "stderr",
     "output_type": "stream",
     "text": [
      "0it [00:00, ?it/s]\n"
     ]
    },
    {
     "name": "stdout",
     "output_type": "stream",
     "text": [
      "Epoch = 9. Time index = 1. Threshold MC = 0.8. Threshold MD = 0.7\n",
      "RD = 22 NZ = 28 NZA = 34 pNZ = 0.002% pNZA = 0.003% AD = 78.57% ADA = 64.71% NO = 1 GSP = 0.00% NSP = 0.00%\n",
      "SI2 = -0.55 SI = -0.55 eGROI = 0.00% eROI = 0.00% eROI2 = 0.00% eROI3 = 0.00% mSpread = 0.0000%\n"
     ]
    },
    {
     "name": "stderr",
     "output_type": "stream",
     "text": [
      "0it [00:00, ?it/s]\n"
     ]
    },
    {
     "name": "stdout",
     "output_type": "stream",
     "text": [
      "Epoch = 9. Time index = 1. Threshold MC = 0.8. Threshold MD = 0.8\n",
      "RD = 2 NZ = 2 NZA = 2 pNZ = 0.000% pNZA = 0.000% AD = 100.00% ADA = 100.00% NO = 1 GSP = 0.00% NSP = 0.00%\n",
      "SI2 = -0.55 SI = -0.55 eGROI = 0.00% eROI = 0.00% eROI2 = 0.00% eROI3 = 0.00% mSpread = 0.0000%\n"
     ]
    },
    {
     "name": "stderr",
     "output_type": "stream",
     "text": [
      "0it [00:00, ?it/s]\n"
     ]
    },
    {
     "name": "stdout",
     "output_type": "stream",
     "text": [
      "Epoch = 9. Time index = 1. Threshold MC = 0.8. Threshold MD = 0.9\n",
      "RD = 0 NZ = 0 NZA = 0 pNZ = 0.000% pNZA = 0.000% AD = 0.00% ADA = 0.00% NO = 1 GSP = 0.00% NSP = 0.00%\n",
      "SI2 = -0.55 SI = -0.55 eGROI = 0.00% eROI = 0.00% eROI2 = 0.00% eROI3 = 0.00% mSpread = 0.0000%\n",
      "\n"
     ]
    },
    {
     "name": "stderr",
     "output_type": "stream",
     "text": [
      "0it [00:00, ?it/s]\n"
     ]
    },
    {
     "name": "stdout",
     "output_type": "stream",
     "text": [
      "Epoch = 9. Time index = 1. Threshold MC = 0.9. Threshold MD = 0.5\n",
      "RD = 0 NZ = 0 NZA = 0 pNZ = 0.000% pNZA = 0.000% AD = 0.00% ADA = 0.00% NO = 1 GSP = 0.00% NSP = 0.00%\n",
      "SI2 = -0.55 SI = -0.55 eGROI = 0.00% eROI = 0.00% eROI2 = 0.00% eROI3 = 0.00% mSpread = 0.0000%\n"
     ]
    },
    {
     "name": "stderr",
     "output_type": "stream",
     "text": [
      "0it [00:00, ?it/s]\n"
     ]
    },
    {
     "name": "stdout",
     "output_type": "stream",
     "text": [
      "Epoch = 9. Time index = 1. Threshold MC = 0.9. Threshold MD = 0.6\n",
      "RD = 0 NZ = 0 NZA = 0 pNZ = 0.000% pNZA = 0.000% AD = 0.00% ADA = 0.00% NO = 1 GSP = 0.00% NSP = 0.00%\n",
      "SI2 = -0.55 SI = -0.55 eGROI = 0.00% eROI = 0.00% eROI2 = 0.00% eROI3 = 0.00% mSpread = 0.0000%\n"
     ]
    },
    {
     "name": "stderr",
     "output_type": "stream",
     "text": [
      "0it [00:00, ?it/s]\n"
     ]
    },
    {
     "name": "stdout",
     "output_type": "stream",
     "text": [
      "Epoch = 9. Time index = 1. Threshold MC = 0.9. Threshold MD = 0.7\n",
      "RD = 0 NZ = 0 NZA = 0 pNZ = 0.000% pNZA = 0.000% AD = 0.00% ADA = 0.00% NO = 1 GSP = 0.00% NSP = 0.00%\n",
      "SI2 = -0.55 SI = -0.55 eGROI = 0.00% eROI = 0.00% eROI2 = 0.00% eROI3 = 0.00% mSpread = 0.0000%\n"
     ]
    },
    {
     "name": "stderr",
     "output_type": "stream",
     "text": [
      "0it [00:00, ?it/s]\n"
     ]
    },
    {
     "name": "stdout",
     "output_type": "stream",
     "text": [
      "Epoch = 9. Time index = 1. Threshold MC = 0.9. Threshold MD = 0.8\n",
      "RD = 0 NZ = 0 NZA = 0 pNZ = 0.000% pNZA = 0.000% AD = 0.00% ADA = 0.00% NO = 1 GSP = 0.00% NSP = 0.00%\n",
      "SI2 = -0.55 SI = -0.55 eGROI = 0.00% eROI = 0.00% eROI2 = 0.00% eROI3 = 0.00% mSpread = 0.0000%\n"
     ]
    },
    {
     "name": "stderr",
     "output_type": "stream",
     "text": [
      "0it [00:00, ?it/s]\n"
     ]
    },
    {
     "name": "stdout",
     "output_type": "stream",
     "text": [
      "Epoch = 9. Time index = 1. Threshold MC = 0.9. Threshold MD = 0.9\n",
      "RD = 0 NZ = 0 NZA = 0 pNZ = 0.000% pNZA = 0.000% AD = 0.00% ADA = 0.00% NO = 1 GSP = 0.00% NSP = 0.00%\n",
      "SI2 = -0.55 SI = -0.55 eGROI = 0.00% eROI = 0.00% eROI2 = 0.00% eROI3 = 0.00% mSpread = 0.0000%\n",
      "\n"
     ]
    },
    {
     "name": "stderr",
     "output_type": "stream",
     "text": [
      "0it [00:00, ?it/s]\n"
     ]
    },
    {
     "name": "stdout",
     "output_type": "stream",
     "text": [
      "Epoch = 9. Time index = 2. Threshold MC = 0.5. Threshold MD = 0.5\n",
      "J_test = 6.340968712516453, J_train = 6.516086029274329, Accuracy=0.5352131435242131\n",
      "RD = 275540 NZ = 529499 NZA = 1024479 pNZ = 46.094% pNZA = 89.183% AD = 52.04% ADA = 26.90% NO = 1 GSP = 0.00% NSP = 0.00%\n",
      "SI2 = -0.55 SI = -0.55 eGROI = 0.00% eROI = 0.00% eROI2 = 0.00% eROI3 = 0.00% mSpread = 0.0000%\n"
     ]
    },
    {
     "name": "stderr",
     "output_type": "stream",
     "text": [
      "100%|████████████████████████████████████████████████████████████████████████████████████████████████████████████████████████████████| 10629/10629 [00:03<00:00, 3374.63it/s]\n"
     ]
    },
    {
     "name": "stdout",
     "output_type": "stream",
     "text": [
      "Epoch = 9. Time index = 2. Threshold MC = 0.5. Threshold MD = 0.6\n",
      "RD = 6677 NZ = 9693 NZA = 21664 pNZ = 0.844% pNZA = 1.886% AD = 68.88% ADA = 30.82% NO = 2254 GSP = 62.24% NSP = 40.77%\n",
      "SI2 = -108.70 SI = -320.70 eGROI = 31.64% eROI = -45.30% eROI2 = -13.44% eROI3 = -35.98% mSpread = 0.0341%\n"
     ]
    },
    {
     "name": "stderr",
     "output_type": "stream",
     "text": [
      "0it [00:00, ?it/s]\n"
     ]
    },
    {
     "name": "stdout",
     "output_type": "stream",
     "text": [
      "Epoch = 9. Time index = 2. Threshold MC = 0.5. Threshold MD = 0.7\n",
      "RD = 920 NZ = 1108 NZA = 2415 pNZ = 0.096% pNZA = 0.210% AD = 83.03% ADA = 38.10% NO = 1 GSP = 0.00% NSP = 0.00%\n",
      "SI2 = -0.55 SI = -0.55 eGROI = 0.00% eROI = 0.00% eROI2 = 0.00% eROI3 = 0.00% mSpread = 0.0000%\n"
     ]
    },
    {
     "name": "stderr",
     "output_type": "stream",
     "text": [
      "0it [00:00, ?it/s]\n"
     ]
    },
    {
     "name": "stdout",
     "output_type": "stream",
     "text": [
      "Epoch = 9. Time index = 2. Threshold MC = 0.5. Threshold MD = 0.8\n",
      "RD = 165 NZ = 183 NZA = 309 pNZ = 0.016% pNZA = 0.027% AD = 90.16% ADA = 53.40% NO = 1 GSP = 0.00% NSP = 0.00%\n",
      "SI2 = -0.55 SI = -0.55 eGROI = 0.00% eROI = 0.00% eROI2 = 0.00% eROI3 = 0.00% mSpread = 0.0000%\n"
     ]
    },
    {
     "name": "stderr",
     "output_type": "stream",
     "text": [
      "0it [00:00, ?it/s]\n"
     ]
    },
    {
     "name": "stdout",
     "output_type": "stream",
     "text": [
      "Epoch = 9. Time index = 2. Threshold MC = 0.5. Threshold MD = 0.9\n",
      "RD = 0 NZ = 0 NZA = 0 pNZ = 0.000% pNZA = 0.000% AD = 0.00% ADA = 0.00% NO = 1 GSP = 0.00% NSP = 0.00%\n",
      "SI2 = -0.55 SI = -0.55 eGROI = 0.00% eROI = 0.00% eROI2 = 0.00% eROI3 = 0.00% mSpread = 0.0000%\n",
      "\n"
     ]
    },
    {
     "name": "stderr",
     "output_type": "stream",
     "text": [
      "0it [00:00, ?it/s]\n"
     ]
    },
    {
     "name": "stdout",
     "output_type": "stream",
     "text": [
      "Epoch = 9. Time index = 2. Threshold MC = 0.6. Threshold MD = 0.5\n",
      "RD = 85165 NZ = 159830 NZA = 263207 pNZ = 13.914% pNZA = 22.913% AD = 53.28% ADA = 32.36% NO = 1 GSP = 0.00% NSP = 0.00%\n",
      "SI2 = -0.55 SI = -0.55 eGROI = 0.00% eROI = 0.00% eROI2 = 0.00% eROI3 = 0.00% mSpread = 0.0000%\n"
     ]
    },
    {
     "name": "stderr",
     "output_type": "stream",
     "text": [
      "100%|██████████████████████████████████████████████████████████████████████████████████████████████████████████████████████████████████| 4511/4511 [00:01<00:00, 3105.54it/s]\n"
     ]
    },
    {
     "name": "stdout",
     "output_type": "stream",
     "text": [
      "Epoch = 9. Time index = 2. Threshold MC = 0.6. Threshold MD = 0.6\n",
      "RD = 3045 NZ = 4431 NZA = 8216 pNZ = 0.386% pNZA = 0.715% AD = 68.72% ADA = 37.06% NO = 1268 GSP = 62.15% NSP = 43.61%\n",
      "SI2 = -47.40 SI = -144.40 eGROI = 19.47% eROI = -21.95% eROI2 = -5.89% eROI3 = -18.57% mSpread = 0.0327%\n"
     ]
    },
    {
     "name": "stderr",
     "output_type": "stream",
     "text": [
      "0it [00:00, ?it/s]\n"
     ]
    },
    {
     "name": "stdout",
     "output_type": "stream",
     "text": [
      "Epoch = 9. Time index = 2. Threshold MC = 0.6. Threshold MD = 0.7\n",
      "RD = 550 NZ = 659 NZA = 1121 pNZ = 0.057% pNZA = 0.098% AD = 83.46% ADA = 49.06% NO = 1 GSP = 0.00% NSP = 0.00%\n",
      "SI2 = -0.55 SI = -0.55 eGROI = 0.00% eROI = 0.00% eROI2 = 0.00% eROI3 = 0.00% mSpread = 0.0000%\n"
     ]
    },
    {
     "name": "stderr",
     "output_type": "stream",
     "text": [
      "0it [00:00, ?it/s]\n"
     ]
    },
    {
     "name": "stdout",
     "output_type": "stream",
     "text": [
      "Epoch = 9. Time index = 2. Threshold MC = 0.6. Threshold MD = 0.8\n",
      "RD = 144 NZ = 156 NZA = 234 pNZ = 0.014% pNZA = 0.020% AD = 92.31% ADA = 61.54% NO = 1 GSP = 0.00% NSP = 0.00%\n",
      "SI2 = -0.55 SI = -0.55 eGROI = 0.00% eROI = 0.00% eROI2 = 0.00% eROI3 = 0.00% mSpread = 0.0000%\n"
     ]
    },
    {
     "name": "stderr",
     "output_type": "stream",
     "text": [
      "0it [00:00, ?it/s]\n"
     ]
    },
    {
     "name": "stdout",
     "output_type": "stream",
     "text": [
      "Epoch = 9. Time index = 2. Threshold MC = 0.6. Threshold MD = 0.9\n",
      "RD = 0 NZ = 0 NZA = 0 pNZ = 0.000% pNZA = 0.000% AD = 0.00% ADA = 0.00% NO = 1 GSP = 0.00% NSP = 0.00%\n",
      "SI2 = -0.55 SI = -0.55 eGROI = 0.00% eROI = 0.00% eROI2 = 0.00% eROI3 = 0.00% mSpread = 0.0000%\n",
      "\n"
     ]
    },
    {
     "name": "stderr",
     "output_type": "stream",
     "text": [
      "100%|██████████████████████████████████████████████████████████████████████████████████████████████████████████████████████████████████| 8306/8306 [00:03<00:00, 2174.40it/s]\n"
     ]
    },
    {
     "name": "stdout",
     "output_type": "stream",
     "text": [
      "Epoch = 9. Time index = 2. Threshold MC = 0.7. Threshold MD = 0.5\n",
      "RD = 5334 NZ = 9692 NZA = 13295 pNZ = 0.844% pNZA = 1.157% AD = 55.04% ADA = 40.12% NO = 1730 GSP = 53.06% NSP = 45.84%\n",
      "SI2 = -147.50 SI = -158.50 eGROI = -0.42% eROI = -33.81% eROI2 = -35.02% eROI3 = -52.32% mSpread = 0.0193%\n"
     ]
    },
    {
     "name": "stderr",
     "output_type": "stream",
     "text": [
      "100%|████████████████████████████████████████████████████████████████████████████████████████████████████████████████████████████████████| 152/152 [00:00<00:00, 1539.42it/s]\n"
     ]
    },
    {
     "name": "stdout",
     "output_type": "stream",
     "text": [
      "Epoch = 9. Time index = 2. Threshold MC = 0.7. Threshold MD = 0.6\n",
      "RD = 497 NZ = 686 NZA = 940 pNZ = 0.060% pNZA = 0.082% AD = 72.45% ADA = 52.87% NO = 105 GSP = 64.76% NSP = 46.67%\n",
      "SI2 = -2.75 SI = -8.75 eGROI = 2.00% eROI = -1.08% eROI2 = -0.10% eROI3 = -1.15% mSpread = 0.0293%\n"
     ]
    },
    {
     "name": "stderr",
     "output_type": "stream",
     "text": [
      "0it [00:00, ?it/s]\n"
     ]
    },
    {
     "name": "stdout",
     "output_type": "stream",
     "text": [
      "Epoch = 9. Time index = 2. Threshold MC = 0.7. Threshold MD = 0.7\n",
      "RD = 207 NZ = 241 NZA = 323 pNZ = 0.021% pNZA = 0.028% AD = 85.89% ADA = 64.09% NO = 1 GSP = 0.00% NSP = 0.00%\n",
      "SI2 = -0.55 SI = -0.55 eGROI = 0.00% eROI = 0.00% eROI2 = 0.00% eROI3 = 0.00% mSpread = 0.0000%\n"
     ]
    },
    {
     "name": "stderr",
     "output_type": "stream",
     "text": [
      "0it [00:00, ?it/s]\n"
     ]
    },
    {
     "name": "stdout",
     "output_type": "stream",
     "text": [
      "Epoch = 9. Time index = 2. Threshold MC = 0.7. Threshold MD = 0.8\n",
      "RD = 91 NZ = 97 NZA = 128 pNZ = 0.008% pNZA = 0.011% AD = 93.81% ADA = 71.09% NO = 1 GSP = 0.00% NSP = 0.00%\n",
      "SI2 = -0.55 SI = -0.55 eGROI = 0.00% eROI = 0.00% eROI2 = 0.00% eROI3 = 0.00% mSpread = 0.0000%\n"
     ]
    },
    {
     "name": "stderr",
     "output_type": "stream",
     "text": [
      "0it [00:00, ?it/s]\n"
     ]
    },
    {
     "name": "stdout",
     "output_type": "stream",
     "text": [
      "Epoch = 9. Time index = 2. Threshold MC = 0.7. Threshold MD = 0.9\n",
      "RD = 0 NZ = 0 NZA = 0 pNZ = 0.000% pNZA = 0.000% AD = 0.00% ADA = 0.00% NO = 1 GSP = 0.00% NSP = 0.00%\n",
      "SI2 = -0.55 SI = -0.55 eGROI = 0.00% eROI = 0.00% eROI2 = 0.00% eROI3 = 0.00% mSpread = 0.0000%\n",
      "\n"
     ]
    },
    {
     "name": "stderr",
     "output_type": "stream",
     "text": [
      "100%|████████████████████████████████████████████████████████████████████████████████████████████████████████████████████████████████████| 338/338 [00:00<00:00, 2118.11it/s]\n"
     ]
    },
    {
     "name": "stdout",
     "output_type": "stream",
     "text": [
      "Epoch = 9. Time index = 2. Threshold MC = 0.8. Threshold MD = 0.5\n",
      "RD = 268 NZ = 421 NZA = 535 pNZ = 0.037% pNZA = 0.047% AD = 63.66% ADA = 50.09% NO = 205 GSP = 58.05% NSP = 52.68%\n",
      "SI2 = -4.75 SI = -4.75 eGROI = 4.49% eROI = 0.62% eROI2 = 0.39% eROI3 = -1.66% mSpread = 0.0189%\n"
     ]
    },
    {
     "name": "stderr",
     "output_type": "stream",
     "text": [
      "0it [00:00, ?it/s]\n"
     ]
    },
    {
     "name": "stdout",
     "output_type": "stream",
     "text": [
      "Epoch = 9. Time index = 2. Threshold MC = 0.8. Threshold MD = 0.6\n",
      "RD = 65 NZ = 82 NZA = 105 pNZ = 0.007% pNZA = 0.009% AD = 79.27% ADA = 61.90% NO = 1 GSP = 100.00% NSP = 100.00%\n",
      "SI2 = -0.55 SI = 0.45 eGROI = 0.10% eROI = 0.05% eROI2 = 0.08% eROI3 = 0.07% mSpread = 0.0516%\n"
     ]
    },
    {
     "name": "stderr",
     "output_type": "stream",
     "text": [
      "0it [00:00, ?it/s]\n"
     ]
    },
    {
     "name": "stdout",
     "output_type": "stream",
     "text": [
      "Epoch = 9. Time index = 2. Threshold MC = 0.8. Threshold MD = 0.7\n",
      "RD = 39 NZ = 47 NZA = 63 pNZ = 0.004% pNZA = 0.005% AD = 82.98% ADA = 61.90% NO = 1 GSP = 0.00% NSP = 0.00%\n",
      "SI2 = -0.55 SI = -0.55 eGROI = 0.00% eROI = 0.00% eROI2 = 0.00% eROI3 = 0.00% mSpread = 0.0000%\n"
     ]
    },
    {
     "name": "stderr",
     "output_type": "stream",
     "text": [
      "0it [00:00, ?it/s]\n"
     ]
    },
    {
     "name": "stdout",
     "output_type": "stream",
     "text": [
      "Epoch = 9. Time index = 2. Threshold MC = 0.8. Threshold MD = 0.8\n",
      "RD = 21 NZ = 23 NZA = 27 pNZ = 0.002% pNZA = 0.002% AD = 91.30% ADA = 77.78% NO = 1 GSP = 0.00% NSP = 0.00%\n",
      "SI2 = -0.55 SI = -0.55 eGROI = 0.00% eROI = 0.00% eROI2 = 0.00% eROI3 = 0.00% mSpread = 0.0000%\n"
     ]
    },
    {
     "name": "stderr",
     "output_type": "stream",
     "text": [
      "0it [00:00, ?it/s]\n"
     ]
    },
    {
     "name": "stdout",
     "output_type": "stream",
     "text": [
      "Epoch = 9. Time index = 2. Threshold MC = 0.8. Threshold MD = 0.9\n",
      "RD = 0 NZ = 0 NZA = 0 pNZ = 0.000% pNZA = 0.000% AD = 0.00% ADA = 0.00% NO = 1 GSP = 0.00% NSP = 0.00%\n",
      "SI2 = -0.55 SI = -0.55 eGROI = 0.00% eROI = 0.00% eROI2 = 0.00% eROI3 = 0.00% mSpread = 0.0000%\n",
      "\n"
     ]
    },
    {
     "name": "stderr",
     "output_type": "stream",
     "text": [
      "0it [00:00, ?it/s]\n"
     ]
    },
    {
     "name": "stdout",
     "output_type": "stream",
     "text": [
      "Epoch = 9. Time index = 2. Threshold MC = 0.9. Threshold MD = 0.5\n",
      "RD = 0 NZ = 0 NZA = 0 pNZ = 0.000% pNZA = 0.000% AD = 0.00% ADA = 0.00% NO = 1 GSP = 0.00% NSP = 0.00%\n",
      "SI2 = -0.55 SI = -0.55 eGROI = 0.00% eROI = 0.00% eROI2 = 0.00% eROI3 = 0.00% mSpread = 0.0000%\n"
     ]
    },
    {
     "name": "stderr",
     "output_type": "stream",
     "text": [
      "0it [00:00, ?it/s]\n"
     ]
    },
    {
     "name": "stdout",
     "output_type": "stream",
     "text": [
      "Epoch = 9. Time index = 2. Threshold MC = 0.9. Threshold MD = 0.6\n",
      "RD = 0 NZ = 0 NZA = 0 pNZ = 0.000% pNZA = 0.000% AD = 0.00% ADA = 0.00% NO = 1 GSP = 0.00% NSP = 0.00%\n",
      "SI2 = -0.55 SI = -0.55 eGROI = 0.00% eROI = 0.00% eROI2 = 0.00% eROI3 = 0.00% mSpread = 0.0000%\n"
     ]
    },
    {
     "name": "stderr",
     "output_type": "stream",
     "text": [
      "0it [00:00, ?it/s]\n"
     ]
    },
    {
     "name": "stdout",
     "output_type": "stream",
     "text": [
      "Epoch = 9. Time index = 2. Threshold MC = 0.9. Threshold MD = 0.7\n",
      "RD = 0 NZ = 0 NZA = 0 pNZ = 0.000% pNZA = 0.000% AD = 0.00% ADA = 0.00% NO = 1 GSP = 0.00% NSP = 0.00%\n",
      "SI2 = -0.55 SI = -0.55 eGROI = 0.00% eROI = 0.00% eROI2 = 0.00% eROI3 = 0.00% mSpread = 0.0000%\n"
     ]
    },
    {
     "name": "stderr",
     "output_type": "stream",
     "text": [
      "0it [00:00, ?it/s]\n"
     ]
    },
    {
     "name": "stdout",
     "output_type": "stream",
     "text": [
      "Epoch = 9. Time index = 2. Threshold MC = 0.9. Threshold MD = 0.8\n",
      "RD = 0 NZ = 0 NZA = 0 pNZ = 0.000% pNZA = 0.000% AD = 0.00% ADA = 0.00% NO = 1 GSP = 0.00% NSP = 0.00%\n",
      "SI2 = -0.55 SI = -0.55 eGROI = 0.00% eROI = 0.00% eROI2 = 0.00% eROI3 = 0.00% mSpread = 0.0000%\n"
     ]
    },
    {
     "name": "stderr",
     "output_type": "stream",
     "text": [
      "0it [00:00, ?it/s]\n"
     ]
    },
    {
     "name": "stdout",
     "output_type": "stream",
     "text": [
      "Epoch = 9. Time index = 2. Threshold MC = 0.9. Threshold MD = 0.9\n",
      "RD = 0 NZ = 0 NZA = 0 pNZ = 0.000% pNZA = 0.000% AD = 0.00% ADA = 0.00% NO = 1 GSP = 0.00% NSP = 0.00%\n",
      "SI2 = -0.55 SI = -0.55 eGROI = 0.00% eROI = 0.00% eROI2 = 0.00% eROI3 = 0.00% mSpread = 0.0000%\n",
      "\n"
     ]
    },
    {
     "name": "stderr",
     "output_type": "stream",
     "text": [
      "0it [00:00, ?it/s]\n"
     ]
    },
    {
     "name": "stdout",
     "output_type": "stream",
     "text": [
      "Epoch = 9. Time index = 3. Threshold MC = 0.5. Threshold MD = 0.5\n",
      "J_test = 6.340968712516453, J_train = 6.516086029274329, Accuracy=0.5351034574613944\n",
      "RD = 275207 NZ = 528425 NZA = 1022457 pNZ = 46.001% pNZA = 89.007% AD = 52.08% ADA = 26.92% NO = 1 GSP = 0.00% NSP = 0.00%\n",
      "SI2 = -0.55 SI = -0.55 eGROI = 0.00% eROI = 0.00% eROI2 = 0.00% eROI3 = 0.00% mSpread = 0.0000%\n"
     ]
    },
    {
     "name": "stderr",
     "output_type": "stream",
     "text": [
      "100%|████████████████████████████████████████████████████████████████████████████████████████████████████████████████████████████████| 12474/12474 [00:04<00:00, 2865.94it/s]\n"
     ]
    },
    {
     "name": "stdout",
     "output_type": "stream",
     "text": [
      "Epoch = 9. Time index = 3. Threshold MC = 0.5. Threshold MD = 0.6\n",
      "RD = 7104 NZ = 10363 NZA = 23442 pNZ = 0.902% pNZA = 2.041% AD = 68.55% ADA = 30.30% NO = 2398 GSP = 61.51% NSP = 39.91%\n",
      "SI2 = -151.90 SI = -361.90 eGROI = 31.59% eROI = -50.35% eROI2 = -16.37% eROI3 = -40.35% mSpread = 0.0342%\n"
     ]
    },
    {
     "name": "stderr",
     "output_type": "stream",
     "text": [
      "100%|████████████████████████████████████████████████████████████████████████████████████████████████████████████████████████████████████████| 6/6 [00:00<00:00, 1002.82it/s]\n"
     ]
    },
    {
     "name": "stdout",
     "output_type": "stream",
     "text": [
      "Epoch = 9. Time index = 3. Threshold MC = 0.5. Threshold MD = 0.7\n",
      "RD = 1027 NZ = 1249 NZA = 2805 pNZ = 0.109% pNZA = 0.244% AD = 82.23% ADA = 36.61% NO = 7 GSP = 71.43% NSP = 14.29%\n",
      "SI2 = -0.85 SI = -2.85 eGROI = 0.14% eROI = -0.13% eROI2 = 0.00% eROI3 = -0.07% mSpread = 0.0386%\n"
     ]
    },
    {
     "name": "stderr",
     "output_type": "stream",
     "text": [
      "0it [00:00, ?it/s]\n"
     ]
    },
    {
     "name": "stdout",
     "output_type": "stream",
     "text": [
      "Epoch = 9. Time index = 3. Threshold MC = 0.5. Threshold MD = 0.8\n",
      "RD = 144 NZ = 159 NZA = 277 pNZ = 0.014% pNZA = 0.024% AD = 90.57% ADA = 51.99% NO = 1 GSP = 0.00% NSP = 0.00%\n",
      "SI2 = -0.55 SI = -0.55 eGROI = 0.00% eROI = 0.00% eROI2 = 0.00% eROI3 = 0.00% mSpread = 0.0000%\n"
     ]
    },
    {
     "name": "stderr",
     "output_type": "stream",
     "text": [
      "0it [00:00, ?it/s]\n"
     ]
    },
    {
     "name": "stdout",
     "output_type": "stream",
     "text": [
      "Epoch = 9. Time index = 3. Threshold MC = 0.5. Threshold MD = 0.9\n",
      "RD = 0 NZ = 0 NZA = 0 pNZ = 0.000% pNZA = 0.000% AD = 0.00% ADA = 0.00% NO = 1 GSP = 0.00% NSP = 0.00%\n",
      "SI2 = -0.55 SI = -0.55 eGROI = 0.00% eROI = 0.00% eROI2 = 0.00% eROI3 = 0.00% mSpread = 0.0000%\n",
      "\n"
     ]
    },
    {
     "name": "stderr",
     "output_type": "stream",
     "text": [
      "0it [00:00, ?it/s]\n"
     ]
    },
    {
     "name": "stdout",
     "output_type": "stream",
     "text": [
      "Epoch = 9. Time index = 3. Threshold MC = 0.6. Threshold MD = 0.5\n",
      "RD = 86068 NZ = 161930 NZA = 268184 pNZ = 14.096% pNZA = 23.346% AD = 53.15% ADA = 32.09% NO = 1 GSP = 0.00% NSP = 0.00%\n",
      "SI2 = -0.55 SI = -0.55 eGROI = 0.00% eROI = 0.00% eROI2 = 0.00% eROI3 = 0.00% mSpread = 0.0000%\n"
     ]
    },
    {
     "name": "stderr",
     "output_type": "stream",
     "text": [
      "100%|██████████████████████████████████████████████████████████████████████████████████████████████████████████████████████████████████| 6073/6073 [00:01<00:00, 3556.69it/s]\n"
     ]
    },
    {
     "name": "stdout",
     "output_type": "stream",
     "text": [
      "Epoch = 9. Time index = 3. Threshold MC = 0.6. Threshold MD = 0.6\n",
      "RD = 3457 NZ = 5027 NZA = 9633 pNZ = 0.438% pNZA = 0.839% AD = 68.77% ADA = 35.89% NO = 1477 GSP = 62.09% NSP = 42.18%\n",
      "SI2 = -69.35 SI = -189.35 eGROI = 22.63% eROI = -27.49% eROI2 = -6.91% eROI3 = -21.68% mSpread = 0.0339%\n"
     ]
    },
    {
     "name": "stderr",
     "output_type": "stream",
     "text": [
      "0it [00:00, ?it/s]\n"
     ]
    },
    {
     "name": "stdout",
     "output_type": "stream",
     "text": [
      "Epoch = 9. Time index = 3. Threshold MC = 0.6. Threshold MD = 0.7\n",
      "RD = 561 NZ = 674 NZA = 1141 pNZ = 0.059% pNZA = 0.099% AD = 83.23% ADA = 49.17% NO = 1 GSP = 100.00% NSP = 0.00%\n",
      "SI2 = -0.55 SI = -0.55 eGROI = 0.01% eROI = -0.02% eROI2 = -0.01% eROI3 = -0.02% mSpread = 0.0317%\n"
     ]
    },
    {
     "name": "stderr",
     "output_type": "stream",
     "text": [
      "0it [00:00, ?it/s]\n"
     ]
    },
    {
     "name": "stdout",
     "output_type": "stream",
     "text": [
      "Epoch = 9. Time index = 3. Threshold MC = 0.6. Threshold MD = 0.8\n",
      "RD = 126 NZ = 135 NZA = 194 pNZ = 0.012% pNZA = 0.017% AD = 93.33% ADA = 64.95% NO = 1 GSP = 0.00% NSP = 0.00%\n",
      "SI2 = -0.55 SI = -0.55 eGROI = 0.00% eROI = 0.00% eROI2 = 0.00% eROI3 = 0.00% mSpread = 0.0000%\n"
     ]
    },
    {
     "name": "stderr",
     "output_type": "stream",
     "text": [
      "0it [00:00, ?it/s]\n"
     ]
    },
    {
     "name": "stdout",
     "output_type": "stream",
     "text": [
      "Epoch = 9. Time index = 3. Threshold MC = 0.6. Threshold MD = 0.9\n",
      "RD = 0 NZ = 0 NZA = 0 pNZ = 0.000% pNZA = 0.000% AD = 0.00% ADA = 0.00% NO = 1 GSP = 0.00% NSP = 0.00%\n",
      "SI2 = -0.55 SI = -0.55 eGROI = 0.00% eROI = 0.00% eROI2 = 0.00% eROI3 = 0.00% mSpread = 0.0000%\n",
      "\n"
     ]
    },
    {
     "name": "stderr",
     "output_type": "stream",
     "text": [
      "100%|██████████████████████████████████████████████████████████████████████████████████████████████████████████████████████████████████| 7975/7975 [00:02<00:00, 3829.53it/s]\n"
     ]
    },
    {
     "name": "stdout",
     "output_type": "stream",
     "text": [
      "Epoch = 9. Time index = 3. Threshold MC = 0.7. Threshold MD = 0.5\n",
      "RD = 4978 NZ = 9031 NZA = 12359 pNZ = 0.786% pNZA = 1.076% AD = 55.12% ADA = 40.28% NO = 1565 GSP = 53.29% NSP = 46.77%\n",
      "SI2 = -123.75 SI = -128.75 eGROI = 3.88% eROI = -26.85% eROI2 = -27.42% eROI3 = -43.07% mSpread = 0.0196%\n"
     ]
    },
    {
     "name": "stderr",
     "output_type": "stream",
     "text": [
      "100%|████████████████████████████████████████████████████████████████████████████████████████████████████████████████████████████████████| 199/199 [00:00<00:00, 2891.75it/s]\n"
     ]
    },
    {
     "name": "stdout",
     "output_type": "stream",
     "text": [
      "Epoch = 9. Time index = 3. Threshold MC = 0.7. Threshold MD = 0.6\n",
      "RD = 495 NZ = 671 NZA = 928 pNZ = 0.058% pNZA = 0.081% AD = 73.77% ADA = 53.34% NO = 115 GSP = 63.48% NSP = 47.83%\n",
      "SI2 = -4.25 SI = -8.25 eGROI = 2.68% eROI = -0.37% eROI2 = 0.38% eROI3 = -0.77% mSpread = 0.0265%\n"
     ]
    },
    {
     "name": "stderr",
     "output_type": "stream",
     "text": [
      "0it [00:00, ?it/s]\n"
     ]
    },
    {
     "name": "stdout",
     "output_type": "stream",
     "text": [
      "Epoch = 9. Time index = 3. Threshold MC = 0.7. Threshold MD = 0.7\n",
      "RD = 194 NZ = 221 NZA = 294 pNZ = 0.019% pNZA = 0.026% AD = 87.78% ADA = 65.99% NO = 1 GSP = 0.00% NSP = 0.00%\n",
      "SI2 = -0.55 SI = -0.55 eGROI = 0.00% eROI = 0.00% eROI2 = 0.00% eROI3 = 0.00% mSpread = 0.0000%\n"
     ]
    },
    {
     "name": "stderr",
     "output_type": "stream",
     "text": [
      "0it [00:00, ?it/s]\n"
     ]
    },
    {
     "name": "stdout",
     "output_type": "stream",
     "text": [
      "Epoch = 9. Time index = 3. Threshold MC = 0.7. Threshold MD = 0.8\n",
      "RD = 88 NZ = 92 NZA = 114 pNZ = 0.008% pNZA = 0.010% AD = 95.65% ADA = 77.19% NO = 1 GSP = 0.00% NSP = 0.00%\n",
      "SI2 = -0.55 SI = -0.55 eGROI = 0.00% eROI = 0.00% eROI2 = 0.00% eROI3 = 0.00% mSpread = 0.0000%\n"
     ]
    },
    {
     "name": "stderr",
     "output_type": "stream",
     "text": [
      "0it [00:00, ?it/s]\n"
     ]
    },
    {
     "name": "stdout",
     "output_type": "stream",
     "text": [
      "Epoch = 9. Time index = 3. Threshold MC = 0.7. Threshold MD = 0.9\n",
      "RD = 0 NZ = 0 NZA = 0 pNZ = 0.000% pNZA = 0.000% AD = 0.00% ADA = 0.00% NO = 1 GSP = 0.00% NSP = 0.00%\n",
      "SI2 = -0.55 SI = -0.55 eGROI = 0.00% eROI = 0.00% eROI2 = 0.00% eROI3 = 0.00% mSpread = 0.0000%\n",
      "\n"
     ]
    },
    {
     "name": "stderr",
     "output_type": "stream",
     "text": [
      "100%|████████████████████████████████████████████████████████████████████████████████████████████████████████████████████████████████████| 300/300 [00:00<00:00, 2005.28it/s]\n"
     ]
    },
    {
     "name": "stdout",
     "output_type": "stream",
     "text": [
      "Epoch = 9. Time index = 3. Threshold MC = 0.8. Threshold MD = 0.5\n",
      "RD = 223 NZ = 365 NZA = 466 pNZ = 0.032% pNZA = 0.041% AD = 61.10% ADA = 47.85% NO = 190 GSP = 58.95% NSP = 53.16%\n",
      "SI2 = -4.50 SI = -3.50 eGROI = 3.73% eROI = 0.22% eROI2 = -0.07% eROI3 = -1.97% mSpread = 0.0185%\n"
     ]
    },
    {
     "name": "stderr",
     "output_type": "stream",
     "text": [
      "100%|█████████████████████████████████████████████████████████████████████████████████████████████████████████████████████████████████████████| 1/1 [00:00<00:00, 501.71it/s]\n"
     ]
    },
    {
     "name": "stdout",
     "output_type": "stream",
     "text": [
      "Epoch = 9. Time index = 3. Threshold MC = 0.8. Threshold MD = 0.6\n",
      "RD = 61 NZ = 76 NZA = 102 pNZ = 0.007% pNZA = 0.009% AD = 80.26% ADA = 59.80% NO = 2 GSP = 50.00% NSP = 50.00%\n",
      "SI2 = -1.10 SI = -0.10 eGROI = 0.10% eROI = 0.03% eROI2 = 0.06% eROI3 = 0.04% mSpread = 0.0322%\n"
     ]
    },
    {
     "name": "stderr",
     "output_type": "stream",
     "text": [
      "0it [00:00, ?it/s]\n"
     ]
    },
    {
     "name": "stdout",
     "output_type": "stream",
     "text": [
      "Epoch = 9. Time index = 3. Threshold MC = 0.8. Threshold MD = 0.7\n",
      "RD = 35 NZ = 43 NZA = 59 pNZ = 0.004% pNZA = 0.005% AD = 81.40% ADA = 59.32% NO = 1 GSP = 0.00% NSP = 0.00%\n",
      "SI2 = -0.55 SI = -0.55 eGROI = 0.00% eROI = 0.00% eROI2 = 0.00% eROI3 = 0.00% mSpread = 0.0000%\n"
     ]
    },
    {
     "name": "stderr",
     "output_type": "stream",
     "text": [
      "0it [00:00, ?it/s]\n"
     ]
    },
    {
     "name": "stdout",
     "output_type": "stream",
     "text": [
      "Epoch = 9. Time index = 3. Threshold MC = 0.8. Threshold MD = 0.8\n",
      "RD = 20 NZ = 22 NZA = 25 pNZ = 0.002% pNZA = 0.002% AD = 90.91% ADA = 80.00% NO = 1 GSP = 0.00% NSP = 0.00%\n",
      "SI2 = -0.55 SI = -0.55 eGROI = 0.00% eROI = 0.00% eROI2 = 0.00% eROI3 = 0.00% mSpread = 0.0000%\n"
     ]
    },
    {
     "name": "stderr",
     "output_type": "stream",
     "text": [
      "0it [00:00, ?it/s]\n"
     ]
    },
    {
     "name": "stdout",
     "output_type": "stream",
     "text": [
      "Epoch = 9. Time index = 3. Threshold MC = 0.8. Threshold MD = 0.9\n",
      "RD = 0 NZ = 0 NZA = 0 pNZ = 0.000% pNZA = 0.000% AD = 0.00% ADA = 0.00% NO = 1 GSP = 0.00% NSP = 0.00%\n",
      "SI2 = -0.55 SI = -0.55 eGROI = 0.00% eROI = 0.00% eROI2 = 0.00% eROI3 = 0.00% mSpread = 0.0000%\n",
      "\n"
     ]
    },
    {
     "name": "stderr",
     "output_type": "stream",
     "text": [
      "0it [00:00, ?it/s]\n"
     ]
    },
    {
     "name": "stdout",
     "output_type": "stream",
     "text": [
      "Epoch = 9. Time index = 3. Threshold MC = 0.9. Threshold MD = 0.5\n",
      "RD = 0 NZ = 0 NZA = 0 pNZ = 0.000% pNZA = 0.000% AD = 0.00% ADA = 0.00% NO = 1 GSP = 0.00% NSP = 0.00%\n",
      "SI2 = -0.55 SI = -0.55 eGROI = 0.00% eROI = 0.00% eROI2 = 0.00% eROI3 = 0.00% mSpread = 0.0000%\n"
     ]
    },
    {
     "name": "stderr",
     "output_type": "stream",
     "text": [
      "0it [00:00, ?it/s]\n"
     ]
    },
    {
     "name": "stdout",
     "output_type": "stream",
     "text": [
      "Epoch = 9. Time index = 3. Threshold MC = 0.9. Threshold MD = 0.6\n",
      "RD = 0 NZ = 0 NZA = 0 pNZ = 0.000% pNZA = 0.000% AD = 0.00% ADA = 0.00% NO = 1 GSP = 0.00% NSP = 0.00%\n",
      "SI2 = -0.55 SI = -0.55 eGROI = 0.00% eROI = 0.00% eROI2 = 0.00% eROI3 = 0.00% mSpread = 0.0000%\n"
     ]
    },
    {
     "name": "stderr",
     "output_type": "stream",
     "text": [
      "0it [00:00, ?it/s]\n"
     ]
    },
    {
     "name": "stdout",
     "output_type": "stream",
     "text": [
      "Epoch = 9. Time index = 3. Threshold MC = 0.9. Threshold MD = 0.7\n",
      "RD = 0 NZ = 0 NZA = 0 pNZ = 0.000% pNZA = 0.000% AD = 0.00% ADA = 0.00% NO = 1 GSP = 0.00% NSP = 0.00%\n",
      "SI2 = -0.55 SI = -0.55 eGROI = 0.00% eROI = 0.00% eROI2 = 0.00% eROI3 = 0.00% mSpread = 0.0000%\n"
     ]
    },
    {
     "name": "stderr",
     "output_type": "stream",
     "text": [
      "0it [00:00, ?it/s]\n"
     ]
    },
    {
     "name": "stdout",
     "output_type": "stream",
     "text": [
      "Epoch = 9. Time index = 3. Threshold MC = 0.9. Threshold MD = 0.8\n",
      "RD = 0 NZ = 0 NZA = 0 pNZ = 0.000% pNZA = 0.000% AD = 0.00% ADA = 0.00% NO = 1 GSP = 0.00% NSP = 0.00%\n",
      "SI2 = -0.55 SI = -0.55 eGROI = 0.00% eROI = 0.00% eROI2 = 0.00% eROI3 = 0.00% mSpread = 0.0000%\n"
     ]
    },
    {
     "name": "stderr",
     "output_type": "stream",
     "text": [
      "0it [00:00, ?it/s]\n"
     ]
    },
    {
     "name": "stdout",
     "output_type": "stream",
     "text": [
      "Epoch = 9. Time index = 3. Threshold MC = 0.9. Threshold MD = 0.9\n",
      "RD = 0 NZ = 0 NZA = 0 pNZ = 0.000% pNZA = 0.000% AD = 0.00% ADA = 0.00% NO = 1 GSP = 0.00% NSP = 0.00%\n",
      "SI2 = -0.55 SI = -0.55 eGROI = 0.00% eROI = 0.00% eROI2 = 0.00% eROI3 = 0.00% mSpread = 0.0000%\n",
      "\n",
      "Best eGROI = 31.64 t_index 2 thr_mc 0.5 thr_md 0.6 epoch 9 in 2254\n",
      "Best eROI = 3.25 t_index 0 thr_mc 0.8 thr_md 0.5 epoch 9 in 133\n",
      "Best eROI.5 = 20.37 t_index 2 thr_mc 0.5 thr_md 0.6 epoch 9 in 2254\n",
      "Best eROI1 = 9.21 t_index 1 thr_mc 0.5 thr_md 0.6 epoch 9 in 1836\n",
      "Best eROI1.5 = 3.69 t_index 0 thr_mc 0.8 thr_md 0.5 epoch 9 in 133\n",
      "Best eROI2 = 3.02 t_index 0 thr_mc 0.8 thr_md 0.5 epoch 9 in 133\n",
      "Best eROI3 = 1.69 t_index 0 thr_mc 0.8 thr_md 0.5 epoch 9 in 133\n",
      "Best eROI4 = 0.36 t_index 0 thr_mc 0.8 thr_md 0.5 epoch 9 in 133\n",
      "Best eROI5 = 0.05 t_index 1 thr_mc 0.8 thr_md 0.6 epoch 9 in 1\n",
      "Best SI = 1.85 t_index 0 thr_mc 0.8 thr_md 0.5 epoch 9 in 133\n",
      "Best SI.5 = 110.20 t_index 1 thr_mc 0.5 thr_md 0.6 epoch 9 in 1836\n",
      "Best SI1 = 49.20 t_index 1 thr_mc 0.5 thr_md 0.6 epoch 9 in 1836\n",
      "Best SI1.5 = 4.00 t_index 0 thr_mc 0.7 thr_md 0.6 epoch 9 in 40\n",
      "Best SI2 = 1.85 t_index 0 thr_mc 0.8 thr_md 0.5 epoch 9 in 133\n",
      "Best SI3 = -0.15 t_index 0 thr_mc 0.8 thr_md 0.5 epoch 9 in 133\n",
      "Best SI4 = -0.55 t_index 0 thr_mc 0.5 thr_md 0.5 epoch 9 in 1\n",
      "Best SI5 = -0.55 t_index 0 thr_mc 0.5 thr_md 0.5 epoch 9 in 1\n",
      "\n",
      "The very best:\n",
      "Best eGROI = 31.64 t_index 2 thr_mc 0.5 thr_md 0.6 epoch 9 in 2254\n",
      "Best eROI = 3.37 t_index 3 thr_mc 0.8 thr_md 0.5 epoch 8 in 141\n",
      "Best eROI.5 = 20.37 t_index 2 thr_mc 0.5 thr_md 0.6 epoch 9 in 2254\n",
      "Best eROI1 = 9.21 t_index 1 thr_mc 0.5 thr_md 0.6 epoch 9 in 1836\n",
      "Best eROI1.5 = 3.86 t_index 3 thr_mc 0.8 thr_md 0.5 epoch 8 in 141\n",
      "Best eROI2 = 3.16 t_index 3 thr_mc 0.8 thr_md 0.5 epoch 8 in 141\n",
      "Best eROI3 = 1.75 t_index 3 thr_mc 0.8 thr_md 0.5 epoch 8 in 141\n",
      "Best eROI4 = 0.36 t_index 0 thr_mc 0.8 thr_md 0.5 epoch 8 in 85\n",
      "Best eROI5 = 0.08 t_index 0 thr_mc 0.7 thr_md 0.6 epoch 8 in 13\n",
      "Best SI = 4.45 t_index 3 thr_mc 0.8 thr_md 0.5 epoch 8 in 141\n",
      "Best SI.5 = 110.20 t_index 1 thr_mc 0.5 thr_md 0.6 epoch 9 in 1836\n",
      "Best SI1 = 49.20 t_index 1 thr_mc 0.5 thr_md 0.6 epoch 9 in 1836\n",
      "Best SI1.5 = 4.45 t_index 3 thr_mc 0.8 thr_md 0.5 epoch 8 in 141\n",
      "Best SI2 = 4.45 t_index 3 thr_mc 0.8 thr_md 0.5 epoch 8 in 141\n",
      "Best SI3 = 0.45 t_index 3 thr_mc 0.8 thr_md 0.5 epoch 8 in 141\n",
      "Best SI4 = -0.55 t_index 0 thr_mc 0.5 thr_md 0.5 epoch 8 in 1\n",
      "Best SI5 = -0.55 t_index 0 thr_mc 0.5 thr_md 0.5 epoch 8 in 1\n",
      "Time=94.31 secs\n",
      "INFO:tensorflow:Restoring parameters from ../../RNN/weights/000520/000010/000010\n",
      "Parameters loaded. Epoch 10\n",
      "Epoch 10 of 34. Getting output...\n"
     ]
    },
    {
     "name": "stderr",
     "output_type": "stream",
     "text": [
      "100%|████████████████████████████████████████████████████████████████████████████████████████████████████████████████████████████████████████| 23/23 [02:03<00:00,  5.32s/it]\n"
     ]
    },
    {
     "name": "stdout",
     "output_type": "stream",
     "text": [
      "Getting results\n",
      "Epoch 10, J_train = 6.513980578474613, J_test = 6.339808546978494\n"
     ]
    },
    {
     "name": "stderr",
     "output_type": "stream",
     "text": [
      "0it [00:00, ?it/s]\n"
     ]
    },
    {
     "name": "stdout",
     "output_type": "stream",
     "text": [
      "Epoch = 10. Time index = 0. Threshold MC = 0.5. Threshold MD = 0.5\n",
      "J_test = 6.339808546978494, J_train = 6.513980578474613, Accuracy=0.5460859921322013\n",
      "RD = 265971 NZ = 512089 NZA = 977169 pNZ = 44.579% pNZA = 85.065% AD = 51.94% ADA = 27.22% NO = 1 GSP = 0.00% NSP = 0.00%\n",
      "SI2 = -0.55 SI = -0.55 eGROI = 0.00% eROI = 0.00% eROI2 = 0.00% eROI3 = 0.00% mSpread = 0.0000%\n"
     ]
    },
    {
     "name": "stderr",
     "output_type": "stream",
     "text": [
      "100%|██████████████████████████████████████████████████████████████████████████████████████████████████████████████████████████████████| 4111/4111 [00:01<00:00, 2620.70it/s]\n"
     ]
    },
    {
     "name": "stdout",
     "output_type": "stream",
     "text": [
      "Epoch = 10. Time index = 0. Threshold MC = 0.5. Threshold MD = 0.6\n",
      "RD = 6523 NZ = 10091 NZA = 21902 pNZ = 0.878% pNZA = 1.907% AD = 64.64% ADA = 29.78% NO = 1353 GSP = 64.38% NSP = 41.83%\n",
      "SI2 = -27.15 SI = -178.15 eGROI = 22.14% eROI = -25.49% eROI2 = -4.92% eROI3 = -18.45% mSpread = 0.0352%\n"
     ]
    },
    {
     "name": "stderr",
     "output_type": "stream",
     "text": [
      "0it [00:00, ?it/s]\n"
     ]
    },
    {
     "name": "stdout",
     "output_type": "stream",
     "text": [
      "Epoch = 10. Time index = 0. Threshold MC = 0.5. Threshold MD = 0.7\n",
      "RD = 565 NZ = 677 NZA = 1276 pNZ = 0.059% pNZA = 0.111% AD = 83.46% ADA = 44.28% NO = 1 GSP = 0.00% NSP = 0.00%\n",
      "SI2 = -0.55 SI = -0.55 eGROI = 0.00% eROI = 0.00% eROI2 = 0.00% eROI3 = 0.00% mSpread = 0.0000%\n"
     ]
    },
    {
     "name": "stderr",
     "output_type": "stream",
     "text": [
      "0it [00:00, ?it/s]\n"
     ]
    },
    {
     "name": "stdout",
     "output_type": "stream",
     "text": [
      "Epoch = 10. Time index = 0. Threshold MC = 0.5. Threshold MD = 0.8\n",
      "RD = 0 NZ = 0 NZA = 2 pNZ = 0.000% pNZA = 0.000% AD = 0.00% ADA = 0.00% NO = 1 GSP = 0.00% NSP = 0.00%\n",
      "SI2 = -0.55 SI = -0.55 eGROI = 0.00% eROI = 0.00% eROI2 = 0.00% eROI3 = 0.00% mSpread = 0.0000%\n"
     ]
    },
    {
     "name": "stderr",
     "output_type": "stream",
     "text": [
      "0it [00:00, ?it/s]\n"
     ]
    },
    {
     "name": "stdout",
     "output_type": "stream",
     "text": [
      "Epoch = 10. Time index = 0. Threshold MC = 0.5. Threshold MD = 0.9\n",
      "RD = 0 NZ = 0 NZA = 0 pNZ = 0.000% pNZA = 0.000% AD = 0.00% ADA = 0.00% NO = 1 GSP = 0.00% NSP = 0.00%\n",
      "SI2 = -0.55 SI = -0.55 eGROI = 0.00% eROI = 0.00% eROI2 = 0.00% eROI3 = 0.00% mSpread = 0.0000%\n",
      "\n"
     ]
    },
    {
     "name": "stderr",
     "output_type": "stream",
     "text": [
      "0it [00:00, ?it/s]\n"
     ]
    },
    {
     "name": "stdout",
     "output_type": "stream",
     "text": [
      "Epoch = 10. Time index = 0. Threshold MC = 0.6. Threshold MD = 0.5\n",
      "RD = 92914 NZ = 176025 NZA = 289487 pNZ = 15.323% pNZA = 25.201% AD = 52.78% ADA = 32.10% NO = 1 GSP = 0.00% NSP = 0.00%\n",
      "SI2 = -0.55 SI = -0.55 eGROI = 0.00% eROI = 0.00% eROI2 = 0.00% eROI3 = 0.00% mSpread = 0.0000%\n"
     ]
    },
    {
     "name": "stderr",
     "output_type": "stream",
     "text": [
      "100%|██████████████████████████████████████████████████████████████████████████████████████████████████████████████████████████████████| 1346/1346 [00:00<00:00, 1816.36it/s]\n"
     ]
    },
    {
     "name": "stdout",
     "output_type": "stream",
     "text": [
      "Epoch = 10. Time index = 0. Threshold MC = 0.6. Threshold MD = 0.6\n",
      "RD = 2667 NZ = 3977 NZA = 6987 pNZ = 0.346% pNZA = 0.608% AD = 67.06% ADA = 38.17% NO = 615 GSP = 62.60% NSP = 44.72%\n",
      "SI2 = -23.25 SI = -63.25 eGROI = 9.70% eROI = -10.42% eROI2 = -2.60% eROI3 = -8.75% mSpread = 0.0327%\n"
     ]
    },
    {
     "name": "stderr",
     "output_type": "stream",
     "text": [
      "0it [00:00, ?it/s]\n"
     ]
    },
    {
     "name": "stdout",
     "output_type": "stream",
     "text": [
      "Epoch = 10. Time index = 0. Threshold MC = 0.6. Threshold MD = 0.7\n",
      "RD = 361 NZ = 418 NZA = 667 pNZ = 0.036% pNZA = 0.058% AD = 86.36% ADA = 54.12% NO = 1 GSP = 0.00% NSP = 0.00%\n",
      "SI2 = -0.55 SI = -0.55 eGROI = 0.00% eROI = 0.00% eROI2 = 0.00% eROI3 = 0.00% mSpread = 0.0000%\n"
     ]
    },
    {
     "name": "stderr",
     "output_type": "stream",
     "text": [
      "0it [00:00, ?it/s]\n"
     ]
    },
    {
     "name": "stdout",
     "output_type": "stream",
     "text": [
      "Epoch = 10. Time index = 0. Threshold MC = 0.6. Threshold MD = 0.8\n",
      "RD = 0 NZ = 0 NZA = 1 pNZ = 0.000% pNZA = 0.000% AD = 0.00% ADA = 0.00% NO = 1 GSP = 0.00% NSP = 0.00%\n",
      "SI2 = -0.55 SI = -0.55 eGROI = 0.00% eROI = 0.00% eROI2 = 0.00% eROI3 = 0.00% mSpread = 0.0000%\n"
     ]
    },
    {
     "name": "stderr",
     "output_type": "stream",
     "text": [
      "0it [00:00, ?it/s]\n"
     ]
    },
    {
     "name": "stdout",
     "output_type": "stream",
     "text": [
      "Epoch = 10. Time index = 0. Threshold MC = 0.6. Threshold MD = 0.9\n",
      "RD = 0 NZ = 0 NZA = 0 pNZ = 0.000% pNZA = 0.000% AD = 0.00% ADA = 0.00% NO = 1 GSP = 0.00% NSP = 0.00%\n",
      "SI2 = -0.55 SI = -0.55 eGROI = 0.00% eROI = 0.00% eROI2 = 0.00% eROI3 = 0.00% mSpread = 0.0000%\n",
      "\n"
     ]
    },
    {
     "name": "stderr",
     "output_type": "stream",
     "text": [
      "100%|████████████████████████████████████████████████████████████████████████████████████████████████████████████████████████████████| 10880/10880 [00:03<00:00, 2893.57it/s]\n"
     ]
    },
    {
     "name": "stdout",
     "output_type": "stream",
     "text": [
      "Epoch = 10. Time index = 0. Threshold MC = 0.7. Threshold MD = 0.5\n",
      "RD = 7917 NZ = 14656 NZA = 20454 pNZ = 1.276% pNZA = 1.781% AD = 54.02% ADA = 38.71% NO = 2414 GSP = 54.31% NSP = 46.52%\n",
      "SI2 = -198.70 SI = -204.70 eGROI = 5.31% eROI = -40.68% eROI2 = -42.97% eROI3 = -67.11% mSpread = 0.0191%\n"
     ]
    },
    {
     "name": "stderr",
     "output_type": "stream",
     "text": [
      "100%|██████████████████████████████████████████████████████████████████████████████████████████████████████████████████████████████████████| 87/87 [00:00<00:00, 1429.98it/s]\n"
     ]
    },
    {
     "name": "stdout",
     "output_type": "stream",
     "text": [
      "Epoch = 10. Time index = 0. Threshold MC = 0.7. Threshold MD = 0.6\n",
      "RD = 411 NZ = 605 NZA = 822 pNZ = 0.053% pNZA = 0.072% AD = 67.93% ADA = 50.00% NO = 80 GSP = 68.75% NSP = 55.00%\n",
      "SI2 = 2.00 SI = 0.00 eGROI = 0.96% eROI = -1.21% eROI2 = -0.64% eROI3 = -1.44% mSpread = 0.0272%\n"
     ]
    },
    {
     "name": "stderr",
     "output_type": "stream",
     "text": [
      "0it [00:00, ?it/s]\n"
     ]
    },
    {
     "name": "stdout",
     "output_type": "stream",
     "text": [
      "Epoch = 10. Time index = 0. Threshold MC = 0.7. Threshold MD = 0.7\n",
      "RD = 83 NZ = 97 NZA = 119 pNZ = 0.008% pNZA = 0.010% AD = 85.57% ADA = 69.75% NO = 1 GSP = 0.00% NSP = 0.00%\n",
      "SI2 = -0.55 SI = -0.55 eGROI = 0.00% eROI = 0.00% eROI2 = 0.00% eROI3 = 0.00% mSpread = 0.0000%\n"
     ]
    },
    {
     "name": "stderr",
     "output_type": "stream",
     "text": [
      "0it [00:00, ?it/s]\n"
     ]
    },
    {
     "name": "stdout",
     "output_type": "stream",
     "text": [
      "Epoch = 10. Time index = 0. Threshold MC = 0.7. Threshold MD = 0.8\n",
      "RD = 0 NZ = 0 NZA = 0 pNZ = 0.000% pNZA = 0.000% AD = 0.00% ADA = 0.00% NO = 1 GSP = 0.00% NSP = 0.00%\n",
      "SI2 = -0.55 SI = -0.55 eGROI = 0.00% eROI = 0.00% eROI2 = 0.00% eROI3 = 0.00% mSpread = 0.0000%\n"
     ]
    },
    {
     "name": "stderr",
     "output_type": "stream",
     "text": [
      "0it [00:00, ?it/s]\n"
     ]
    },
    {
     "name": "stdout",
     "output_type": "stream",
     "text": [
      "Epoch = 10. Time index = 0. Threshold MC = 0.7. Threshold MD = 0.9\n",
      "RD = 0 NZ = 0 NZA = 0 pNZ = 0.000% pNZA = 0.000% AD = 0.00% ADA = 0.00% NO = 1 GSP = 0.00% NSP = 0.00%\n",
      "SI2 = -0.55 SI = -0.55 eGROI = 0.00% eROI = 0.00% eROI2 = 0.00% eROI3 = 0.00% mSpread = 0.0000%\n",
      "\n"
     ]
    },
    {
     "name": "stderr",
     "output_type": "stream",
     "text": [
      "100%|████████████████████████████████████████████████████████████████████████████████████████████████████████████████████████████████████| 224/224 [00:00<00:00, 1507.38it/s]\n"
     ]
    },
    {
     "name": "stdout",
     "output_type": "stream",
     "text": [
      "Epoch = 10. Time index = 0. Threshold MC = 0.8. Threshold MD = 0.5\n",
      "RD = 197 NZ = 340 NZA = 421 pNZ = 0.030% pNZA = 0.037% AD = 57.94% ADA = 46.79% NO = 178 GSP = 57.30% NSP = 51.12%\n",
      "SI2 = -5.90 SI = -6.90 eGROI = 4.85% eROI = 1.53% eROI2 = 1.29% eROI3 = -0.49% mSpread = 0.0186%\n"
     ]
    },
    {
     "name": "stderr",
     "output_type": "stream",
     "text": [
      "0it [00:00, ?it/s]\n"
     ]
    },
    {
     "name": "stdout",
     "output_type": "stream",
     "text": [
      "Epoch = 10. Time index = 0. Threshold MC = 0.8. Threshold MD = 0.6\n",
      "RD = 21 NZ = 34 NZA = 44 pNZ = 0.003% pNZA = 0.004% AD = 61.76% ADA = 47.73% NO = 1 GSP = 0.00% NSP = 0.00%\n",
      "SI2 = -0.55 SI = -0.55 eGROI = 0.00% eROI = 0.00% eROI2 = 0.00% eROI3 = 0.00% mSpread = 0.0000%\n"
     ]
    },
    {
     "name": "stderr",
     "output_type": "stream",
     "text": [
      "0it [00:00, ?it/s]\n"
     ]
    },
    {
     "name": "stdout",
     "output_type": "stream",
     "text": [
      "Epoch = 10. Time index = 0. Threshold MC = 0.8. Threshold MD = 0.7\n",
      "RD = 0 NZ = 0 NZA = 0 pNZ = 0.000% pNZA = 0.000% AD = 0.00% ADA = 0.00% NO = 1 GSP = 0.00% NSP = 0.00%\n",
      "SI2 = -0.55 SI = -0.55 eGROI = 0.00% eROI = 0.00% eROI2 = 0.00% eROI3 = 0.00% mSpread = 0.0000%\n"
     ]
    },
    {
     "name": "stderr",
     "output_type": "stream",
     "text": [
      "0it [00:00, ?it/s]\n"
     ]
    },
    {
     "name": "stdout",
     "output_type": "stream",
     "text": [
      "Epoch = 10. Time index = 0. Threshold MC = 0.8. Threshold MD = 0.8\n",
      "RD = 0 NZ = 0 NZA = 0 pNZ = 0.000% pNZA = 0.000% AD = 0.00% ADA = 0.00% NO = 1 GSP = 0.00% NSP = 0.00%\n",
      "SI2 = -0.55 SI = -0.55 eGROI = 0.00% eROI = 0.00% eROI2 = 0.00% eROI3 = 0.00% mSpread = 0.0000%\n"
     ]
    },
    {
     "name": "stderr",
     "output_type": "stream",
     "text": [
      "0it [00:00, ?it/s]\n"
     ]
    },
    {
     "name": "stdout",
     "output_type": "stream",
     "text": [
      "Epoch = 10. Time index = 0. Threshold MC = 0.8. Threshold MD = 0.9\n",
      "RD = 0 NZ = 0 NZA = 0 pNZ = 0.000% pNZA = 0.000% AD = 0.00% ADA = 0.00% NO = 1 GSP = 0.00% NSP = 0.00%\n",
      "SI2 = -0.55 SI = -0.55 eGROI = 0.00% eROI = 0.00% eROI2 = 0.00% eROI3 = 0.00% mSpread = 0.0000%\n",
      "\n"
     ]
    },
    {
     "name": "stderr",
     "output_type": "stream",
     "text": [
      "0it [00:00, ?it/s]\n"
     ]
    },
    {
     "name": "stdout",
     "output_type": "stream",
     "text": [
      "Epoch = 10. Time index = 0. Threshold MC = 0.9. Threshold MD = 0.5\n",
      "RD = 0 NZ = 0 NZA = 0 pNZ = 0.000% pNZA = 0.000% AD = 0.00% ADA = 0.00% NO = 1 GSP = 0.00% NSP = 0.00%\n",
      "SI2 = -0.55 SI = -0.55 eGROI = 0.00% eROI = 0.00% eROI2 = 0.00% eROI3 = 0.00% mSpread = 0.0000%\n"
     ]
    },
    {
     "name": "stderr",
     "output_type": "stream",
     "text": [
      "0it [00:00, ?it/s]\n"
     ]
    },
    {
     "name": "stdout",
     "output_type": "stream",
     "text": [
      "Epoch = 10. Time index = 0. Threshold MC = 0.9. Threshold MD = 0.6\n",
      "RD = 0 NZ = 0 NZA = 0 pNZ = 0.000% pNZA = 0.000% AD = 0.00% ADA = 0.00% NO = 1 GSP = 0.00% NSP = 0.00%\n",
      "SI2 = -0.55 SI = -0.55 eGROI = 0.00% eROI = 0.00% eROI2 = 0.00% eROI3 = 0.00% mSpread = 0.0000%\n"
     ]
    },
    {
     "name": "stderr",
     "output_type": "stream",
     "text": [
      "0it [00:00, ?it/s]\n"
     ]
    },
    {
     "name": "stdout",
     "output_type": "stream",
     "text": [
      "Epoch = 10. Time index = 0. Threshold MC = 0.9. Threshold MD = 0.7\n",
      "RD = 0 NZ = 0 NZA = 0 pNZ = 0.000% pNZA = 0.000% AD = 0.00% ADA = 0.00% NO = 1 GSP = 0.00% NSP = 0.00%\n",
      "SI2 = -0.55 SI = -0.55 eGROI = 0.00% eROI = 0.00% eROI2 = 0.00% eROI3 = 0.00% mSpread = 0.0000%\n"
     ]
    },
    {
     "name": "stderr",
     "output_type": "stream",
     "text": [
      "0it [00:00, ?it/s]\n"
     ]
    },
    {
     "name": "stdout",
     "output_type": "stream",
     "text": [
      "Epoch = 10. Time index = 0. Threshold MC = 0.9. Threshold MD = 0.8\n",
      "RD = 0 NZ = 0 NZA = 0 pNZ = 0.000% pNZA = 0.000% AD = 0.00% ADA = 0.00% NO = 1 GSP = 0.00% NSP = 0.00%\n",
      "SI2 = -0.55 SI = -0.55 eGROI = 0.00% eROI = 0.00% eROI2 = 0.00% eROI3 = 0.00% mSpread = 0.0000%\n"
     ]
    },
    {
     "name": "stderr",
     "output_type": "stream",
     "text": [
      "0it [00:00, ?it/s]\n"
     ]
    },
    {
     "name": "stdout",
     "output_type": "stream",
     "text": [
      "Epoch = 10. Time index = 0. Threshold MC = 0.9. Threshold MD = 0.9\n",
      "RD = 0 NZ = 0 NZA = 0 pNZ = 0.000% pNZA = 0.000% AD = 0.00% ADA = 0.00% NO = 1 GSP = 0.00% NSP = 0.00%\n",
      "SI2 = -0.55 SI = -0.55 eGROI = 0.00% eROI = 0.00% eROI2 = 0.00% eROI3 = 0.00% mSpread = 0.0000%\n",
      "\n"
     ]
    },
    {
     "name": "stderr",
     "output_type": "stream",
     "text": [
      "0it [00:00, ?it/s]\n"
     ]
    },
    {
     "name": "stdout",
     "output_type": "stream",
     "text": [
      "Epoch = 10. Time index = 1. Threshold MC = 0.5. Threshold MD = 0.5\n",
      "J_test = 6.339808546978494, J_train = 6.513980578474613, Accuracy=0.5345680850119219\n",
      "RD = 276122 NZ = 530872 NZA = 1027966 pNZ = 46.214% pNZA = 89.487% AD = 52.01% ADA = 26.86% NO = 1 GSP = 0.00% NSP = 0.00%\n",
      "SI2 = -0.55 SI = -0.55 eGROI = 0.00% eROI = 0.00% eROI2 = 0.00% eROI3 = 0.00% mSpread = 0.0000%\n"
     ]
    },
    {
     "name": "stderr",
     "output_type": "stream",
     "text": [
      "100%|██████████████████████████████████████████████████████████████████████████████████████████████████████████████████████████████████| 8778/8778 [00:02<00:00, 2971.38it/s]\n"
     ]
    },
    {
     "name": "stdout",
     "output_type": "stream",
     "text": [
      "Epoch = 10. Time index = 1. Threshold MC = 0.5. Threshold MD = 0.6\n",
      "RD = 6579 NZ = 9672 NZA = 21526 pNZ = 0.842% pNZA = 1.874% AD = 68.02% ADA = 30.56% NO = 2031 GSP = 62.43% NSP = 41.56%\n",
      "SI2 = -75.05 SI = -273.05 eGROI = 32.36% eROI = -36.83% eROI2 = -8.26% eROI3 = -28.57% mSpread = 0.0341%\n"
     ]
    },
    {
     "name": "stderr",
     "output_type": "stream",
     "text": [
      "100%|████████████████████████████████████████████████████████████████████████████████████████████████████████████████████████████████████████| 1/1 [00:00<00:00, 1002.46it/s]\n"
     ]
    },
    {
     "name": "stdout",
     "output_type": "stream",
     "text": [
      "Epoch = 10. Time index = 1. Threshold MC = 0.5. Threshold MD = 0.7\n",
      "RD = 878 NZ = 1066 NZA = 2215 pNZ = 0.093% pNZA = 0.193% AD = 82.36% ADA = 39.64% NO = 1 GSP = 100.00% NSP = 100.00%\n",
      "SI2 = -0.55 SI = 0.45 eGROI = 0.03% eROI = 0.00% eROI2 = 0.01% eROI3 = 0.00% mSpread = 0.0322%\n"
     ]
    },
    {
     "name": "stderr",
     "output_type": "stream",
     "text": [
      "0it [00:00, ?it/s]\n"
     ]
    },
    {
     "name": "stdout",
     "output_type": "stream",
     "text": [
      "Epoch = 10. Time index = 1. Threshold MC = 0.5. Threshold MD = 0.8\n",
      "RD = 168 NZ = 185 NZA = 320 pNZ = 0.016% pNZA = 0.028% AD = 90.81% ADA = 52.50% NO = 1 GSP = 0.00% NSP = 0.00%\n",
      "SI2 = -0.55 SI = -0.55 eGROI = 0.00% eROI = 0.00% eROI2 = 0.00% eROI3 = 0.00% mSpread = 0.0000%\n"
     ]
    },
    {
     "name": "stderr",
     "output_type": "stream",
     "text": [
      "0it [00:00, ?it/s]\n"
     ]
    },
    {
     "name": "stdout",
     "output_type": "stream",
     "text": [
      "Epoch = 10. Time index = 1. Threshold MC = 0.5. Threshold MD = 0.9\n",
      "RD = 0 NZ = 0 NZA = 0 pNZ = 0.000% pNZA = 0.000% AD = 0.00% ADA = 0.00% NO = 1 GSP = 0.00% NSP = 0.00%\n",
      "SI2 = -0.55 SI = -0.55 eGROI = 0.00% eROI = 0.00% eROI2 = 0.00% eROI3 = 0.00% mSpread = 0.0000%\n",
      "\n"
     ]
    },
    {
     "name": "stderr",
     "output_type": "stream",
     "text": [
      "0it [00:00, ?it/s]\n"
     ]
    },
    {
     "name": "stdout",
     "output_type": "stream",
     "text": [
      "Epoch = 10. Time index = 1. Threshold MC = 0.6. Threshold MD = 0.5\n",
      "RD = 87065 NZ = 163648 NZA = 269195 pNZ = 14.246% pNZA = 23.434% AD = 53.20% ADA = 32.34% NO = 1 GSP = 0.00% NSP = 0.00%\n",
      "SI2 = -0.55 SI = -0.55 eGROI = 0.00% eROI = 0.00% eROI2 = 0.00% eROI3 = 0.00% mSpread = 0.0000%\n"
     ]
    },
    {
     "name": "stderr",
     "output_type": "stream",
     "text": [
      "100%|██████████████████████████████████████████████████████████████████████████████████████████████████████████████████████████████████| 3047/3047 [00:00<00:00, 3146.33it/s]\n"
     ]
    },
    {
     "name": "stdout",
     "output_type": "stream",
     "text": [
      "Epoch = 10. Time index = 1. Threshold MC = 0.6. Threshold MD = 0.6\n",
      "RD = 2706 NZ = 3952 NZA = 7107 pNZ = 0.344% pNZA = 0.619% AD = 68.47% ADA = 38.08% NO = 1004 GSP = 63.35% NSP = 44.02%\n",
      "SI2 = -33.20 SI = -110.20 eGROI = 17.14% eROI = -15.78% eROI2 = -2.94% eROI3 = -12.98% mSpread = 0.0328%\n"
     ]
    },
    {
     "name": "stderr",
     "output_type": "stream",
     "text": [
      "0it [00:00, ?it/s]\n"
     ]
    },
    {
     "name": "stdout",
     "output_type": "stream",
     "text": [
      "Epoch = 10. Time index = 1. Threshold MC = 0.6. Threshold MD = 0.7\n",
      "RD = 545 NZ = 645 NZA = 1070 pNZ = 0.056% pNZA = 0.093% AD = 84.50% ADA = 50.93% NO = 1 GSP = 0.00% NSP = 0.00%\n",
      "SI2 = -0.55 SI = -0.55 eGROI = 0.00% eROI = 0.00% eROI2 = 0.00% eROI3 = 0.00% mSpread = 0.0000%\n"
     ]
    },
    {
     "name": "stderr",
     "output_type": "stream",
     "text": [
      "0it [00:00, ?it/s]\n"
     ]
    },
    {
     "name": "stdout",
     "output_type": "stream",
     "text": [
      "Epoch = 10. Time index = 1. Threshold MC = 0.6. Threshold MD = 0.8\n",
      "RD = 135 NZ = 149 NZA = 228 pNZ = 0.013% pNZA = 0.020% AD = 90.60% ADA = 59.21% NO = 1 GSP = 0.00% NSP = 0.00%\n",
      "SI2 = -0.55 SI = -0.55 eGROI = 0.00% eROI = 0.00% eROI2 = 0.00% eROI3 = 0.00% mSpread = 0.0000%\n"
     ]
    },
    {
     "name": "stderr",
     "output_type": "stream",
     "text": [
      "0it [00:00, ?it/s]\n"
     ]
    },
    {
     "name": "stdout",
     "output_type": "stream",
     "text": [
      "Epoch = 10. Time index = 1. Threshold MC = 0.6. Threshold MD = 0.9\n",
      "RD = 0 NZ = 0 NZA = 0 pNZ = 0.000% pNZA = 0.000% AD = 0.00% ADA = 0.00% NO = 1 GSP = 0.00% NSP = 0.00%\n",
      "SI2 = -0.55 SI = -0.55 eGROI = 0.00% eROI = 0.00% eROI2 = 0.00% eROI3 = 0.00% mSpread = 0.0000%\n",
      "\n"
     ]
    },
    {
     "name": "stderr",
     "output_type": "stream",
     "text": [
      "100%|██████████████████████████████████████████████████████████████████████████████████████████████████████████████████████████████████| 8910/8910 [00:02<00:00, 3600.80it/s]\n"
     ]
    },
    {
     "name": "stdout",
     "output_type": "stream",
     "text": [
      "Epoch = 10. Time index = 1. Threshold MC = 0.7. Threshold MD = 0.5\n",
      "RD = 5984 NZ = 10821 NZA = 14932 pNZ = 0.942% pNZA = 1.300% AD = 55.30% ADA = 40.08% NO = 1810 GSP = 53.48% NSP = 45.97%\n",
      "SI2 = -148.50 SI = -163.50 eGROI = -1.22% eROI = -36.73% eROI2 = -37.42% eROI3 = -55.52% mSpread = 0.0196%\n"
     ]
    },
    {
     "name": "stderr",
     "output_type": "stream",
     "text": [
      "100%|████████████████████████████████████████████████████████████████████████████████████████████████████████████████████████████████████| 169/169 [00:00<00:00, 1841.90it/s]\n"
     ]
    },
    {
     "name": "stdout",
     "output_type": "stream",
     "text": [
      "Epoch = 10. Time index = 1. Threshold MC = 0.7. Threshold MD = 0.6\n",
      "RD = 493 NZ = 698 NZA = 951 pNZ = 0.061% pNZA = 0.083% AD = 70.63% ADA = 51.84% NO = 120 GSP = 65.83% NSP = 49.17%\n",
      "SI2 = -2.00 SI = -7.00 eGROI = 3.49% eROI = 0.10% eROI2 = 1.09% eROI3 = -0.11% mSpread = 0.0283%\n"
     ]
    },
    {
     "name": "stderr",
     "output_type": "stream",
     "text": [
      "0it [00:00, ?it/s]\n"
     ]
    },
    {
     "name": "stdout",
     "output_type": "stream",
     "text": [
      "Epoch = 10. Time index = 1. Threshold MC = 0.7. Threshold MD = 0.7\n",
      "RD = 193 NZ = 222 NZA = 285 pNZ = 0.019% pNZA = 0.025% AD = 86.94% ADA = 67.72% NO = 1 GSP = 0.00% NSP = 0.00%\n",
      "SI2 = -0.55 SI = -0.55 eGROI = 0.00% eROI = 0.00% eROI2 = 0.00% eROI3 = 0.00% mSpread = 0.0000%\n"
     ]
    },
    {
     "name": "stderr",
     "output_type": "stream",
     "text": [
      "0it [00:00, ?it/s]\n"
     ]
    },
    {
     "name": "stdout",
     "output_type": "stream",
     "text": [
      "Epoch = 10. Time index = 1. Threshold MC = 0.7. Threshold MD = 0.8\n",
      "RD = 75 NZ = 78 NZA = 101 pNZ = 0.007% pNZA = 0.009% AD = 96.15% ADA = 74.26% NO = 1 GSP = 0.00% NSP = 0.00%\n",
      "SI2 = -0.55 SI = -0.55 eGROI = 0.00% eROI = 0.00% eROI2 = 0.00% eROI3 = 0.00% mSpread = 0.0000%\n"
     ]
    },
    {
     "name": "stderr",
     "output_type": "stream",
     "text": [
      "0it [00:00, ?it/s]\n"
     ]
    },
    {
     "name": "stdout",
     "output_type": "stream",
     "text": [
      "Epoch = 10. Time index = 1. Threshold MC = 0.7. Threshold MD = 0.9\n",
      "RD = 0 NZ = 0 NZA = 0 pNZ = 0.000% pNZA = 0.000% AD = 0.00% ADA = 0.00% NO = 1 GSP = 0.00% NSP = 0.00%\n",
      "SI2 = -0.55 SI = -0.55 eGROI = 0.00% eROI = 0.00% eROI2 = 0.00% eROI3 = 0.00% mSpread = 0.0000%\n",
      "\n"
     ]
    },
    {
     "name": "stderr",
     "output_type": "stream",
     "text": [
      "100%|████████████████████████████████████████████████████████████████████████████████████████████████████████████████████████████████████| 344/344 [00:00<00:00, 2065.33it/s]\n"
     ]
    },
    {
     "name": "stdout",
     "output_type": "stream",
     "text": [
      "Epoch = 10. Time index = 1. Threshold MC = 0.8. Threshold MD = 0.5\n",
      "RD = 267 NZ = 432 NZA = 545 pNZ = 0.038% pNZA = 0.047% AD = 61.81% ADA = 48.99% NO = 220 GSP = 58.18% NSP = 51.82%\n",
      "SI2 = -7.00 SI = -7.00 eGROI = 5.75% eROI = 1.59% eROI2 = 1.35% eROI3 = -0.85% mSpread = 0.0189%\n"
     ]
    },
    {
     "name": "stderr",
     "output_type": "stream",
     "text": [
      "100%|█████████████████████████████████████████████████████████████████████████████████████████████████████████████████████████████████████████| 1/1 [00:00<00:00, 501.35it/s]\n"
     ]
    },
    {
     "name": "stdout",
     "output_type": "stream",
     "text": [
      "Epoch = 10. Time index = 1. Threshold MC = 0.8. Threshold MD = 0.6\n",
      "RD = 53 NZ = 72 NZA = 90 pNZ = 0.006% pNZA = 0.008% AD = 73.61% ADA = 58.89% NO = 2 GSP = 50.00% NSP = 50.00%\n",
      "SI2 = -1.10 SI = -0.10 eGROI = 0.10% eROI = 0.03% eROI2 = 0.06% eROI3 = 0.04% mSpread = 0.0322%\n"
     ]
    },
    {
     "name": "stderr",
     "output_type": "stream",
     "text": [
      "0it [00:00, ?it/s]\n"
     ]
    },
    {
     "name": "stdout",
     "output_type": "stream",
     "text": [
      "Epoch = 10. Time index = 1. Threshold MC = 0.8. Threshold MD = 0.7\n",
      "RD = 24 NZ = 30 NZA = 40 pNZ = 0.003% pNZA = 0.003% AD = 80.00% ADA = 60.00% NO = 1 GSP = 0.00% NSP = 0.00%\n",
      "SI2 = -0.55 SI = -0.55 eGROI = 0.00% eROI = 0.00% eROI2 = 0.00% eROI3 = 0.00% mSpread = 0.0000%\n"
     ]
    },
    {
     "name": "stderr",
     "output_type": "stream",
     "text": [
      "0it [00:00, ?it/s]\n"
     ]
    },
    {
     "name": "stdout",
     "output_type": "stream",
     "text": [
      "Epoch = 10. Time index = 1. Threshold MC = 0.8. Threshold MD = 0.8\n",
      "RD = 5 NZ = 5 NZA = 7 pNZ = 0.000% pNZA = 0.001% AD = 100.00% ADA = 71.43% NO = 1 GSP = 0.00% NSP = 0.00%\n",
      "SI2 = -0.55 SI = -0.55 eGROI = 0.00% eROI = 0.00% eROI2 = 0.00% eROI3 = 0.00% mSpread = 0.0000%\n"
     ]
    },
    {
     "name": "stderr",
     "output_type": "stream",
     "text": [
      "0it [00:00, ?it/s]\n"
     ]
    },
    {
     "name": "stdout",
     "output_type": "stream",
     "text": [
      "Epoch = 10. Time index = 1. Threshold MC = 0.8. Threshold MD = 0.9\n",
      "RD = 0 NZ = 0 NZA = 0 pNZ = 0.000% pNZA = 0.000% AD = 0.00% ADA = 0.00% NO = 1 GSP = 0.00% NSP = 0.00%\n",
      "SI2 = -0.55 SI = -0.55 eGROI = 0.00% eROI = 0.00% eROI2 = 0.00% eROI3 = 0.00% mSpread = 0.0000%\n",
      "\n"
     ]
    },
    {
     "name": "stderr",
     "output_type": "stream",
     "text": [
      "0it [00:00, ?it/s]\n"
     ]
    },
    {
     "name": "stdout",
     "output_type": "stream",
     "text": [
      "Epoch = 10. Time index = 1. Threshold MC = 0.9. Threshold MD = 0.5\n",
      "RD = 0 NZ = 0 NZA = 0 pNZ = 0.000% pNZA = 0.000% AD = 0.00% ADA = 0.00% NO = 1 GSP = 0.00% NSP = 0.00%\n",
      "SI2 = -0.55 SI = -0.55 eGROI = 0.00% eROI = 0.00% eROI2 = 0.00% eROI3 = 0.00% mSpread = 0.0000%\n"
     ]
    },
    {
     "name": "stderr",
     "output_type": "stream",
     "text": [
      "0it [00:00, ?it/s]\n"
     ]
    },
    {
     "name": "stdout",
     "output_type": "stream",
     "text": [
      "Epoch = 10. Time index = 1. Threshold MC = 0.9. Threshold MD = 0.6\n",
      "RD = 0 NZ = 0 NZA = 0 pNZ = 0.000% pNZA = 0.000% AD = 0.00% ADA = 0.00% NO = 1 GSP = 0.00% NSP = 0.00%\n",
      "SI2 = -0.55 SI = -0.55 eGROI = 0.00% eROI = 0.00% eROI2 = 0.00% eROI3 = 0.00% mSpread = 0.0000%\n"
     ]
    },
    {
     "name": "stderr",
     "output_type": "stream",
     "text": [
      "0it [00:00, ?it/s]\n"
     ]
    },
    {
     "name": "stdout",
     "output_type": "stream",
     "text": [
      "Epoch = 10. Time index = 1. Threshold MC = 0.9. Threshold MD = 0.7\n",
      "RD = 0 NZ = 0 NZA = 0 pNZ = 0.000% pNZA = 0.000% AD = 0.00% ADA = 0.00% NO = 1 GSP = 0.00% NSP = 0.00%\n",
      "SI2 = -0.55 SI = -0.55 eGROI = 0.00% eROI = 0.00% eROI2 = 0.00% eROI3 = 0.00% mSpread = 0.0000%\n"
     ]
    },
    {
     "name": "stderr",
     "output_type": "stream",
     "text": [
      "0it [00:00, ?it/s]\n"
     ]
    },
    {
     "name": "stdout",
     "output_type": "stream",
     "text": [
      "Epoch = 10. Time index = 1. Threshold MC = 0.9. Threshold MD = 0.8\n",
      "RD = 0 NZ = 0 NZA = 0 pNZ = 0.000% pNZA = 0.000% AD = 0.00% ADA = 0.00% NO = 1 GSP = 0.00% NSP = 0.00%\n",
      "SI2 = -0.55 SI = -0.55 eGROI = 0.00% eROI = 0.00% eROI2 = 0.00% eROI3 = 0.00% mSpread = 0.0000%\n"
     ]
    },
    {
     "name": "stderr",
     "output_type": "stream",
     "text": [
      "0it [00:00, ?it/s]\n"
     ]
    },
    {
     "name": "stdout",
     "output_type": "stream",
     "text": [
      "Epoch = 10. Time index = 1. Threshold MC = 0.9. Threshold MD = 0.9\n",
      "RD = 0 NZ = 0 NZA = 0 pNZ = 0.000% pNZA = 0.000% AD = 0.00% ADA = 0.00% NO = 1 GSP = 0.00% NSP = 0.00%\n",
      "SI2 = -0.55 SI = -0.55 eGROI = 0.00% eROI = 0.00% eROI2 = 0.00% eROI3 = 0.00% mSpread = 0.0000%\n",
      "\n"
     ]
    },
    {
     "name": "stderr",
     "output_type": "stream",
     "text": [
      "0it [00:00, ?it/s]\n"
     ]
    },
    {
     "name": "stdout",
     "output_type": "stream",
     "text": [
      "Epoch = 10. Time index = 2. Threshold MC = 0.5. Threshold MD = 0.5\n",
      "J_test = 6.339808546978494, J_train = 6.513980578474613, Accuracy=0.536840153456025\n",
      "RD = 273821 NZ = 526093 NZA = 1015797 pNZ = 45.798% pNZA = 88.428% AD = 52.05% ADA = 26.96% NO = 1 GSP = 0.00% NSP = 0.00%\n",
      "SI2 = -0.55 SI = -0.55 eGROI = 0.00% eROI = 0.00% eROI2 = 0.00% eROI3 = 0.00% mSpread = 0.0000%\n"
     ]
    },
    {
     "name": "stderr",
     "output_type": "stream",
     "text": [
      "100%|████████████████████████████████████████████████████████████████████████████████████████████████████████████████████████████████| 11449/11449 [00:03<00:00, 3252.85it/s]\n"
     ]
    },
    {
     "name": "stdout",
     "output_type": "stream",
     "text": [
      "Epoch = 10. Time index = 2. Threshold MC = 0.5. Threshold MD = 0.6\n",
      "RD = 7156 NZ = 10433 NZA = 23046 pNZ = 0.908% pNZA = 2.006% AD = 68.59% ADA = 31.05% NO = 2354 GSP = 62.57% NSP = 41.25%\n",
      "SI2 = -105.70 SI = -323.70 eGROI = 35.53% eROI = -43.60% eROI2 = -11.55% eROI3 = -35.09% mSpread = 0.0336%\n"
     ]
    },
    {
     "name": "stderr",
     "output_type": "stream",
     "text": [
      "100%|██████████████████████████████████████████████████████████████████████████████████████████████████████████████████████████████████████| 17/17 [00:00<00:00, 1549.40it/s]\n"
     ]
    },
    {
     "name": "stdout",
     "output_type": "stream",
     "text": [
      "Epoch = 10. Time index = 2. Threshold MC = 0.5. Threshold MD = 0.7\n",
      "RD = 998 NZ = 1211 NZA = 2635 pNZ = 0.105% pNZA = 0.229% AD = 82.41% ADA = 37.87% NO = 12 GSP = 75.00% NSP = 16.67%\n",
      "SI2 = 0.40 SI = -4.60 eGROI = 0.35% eROI = -0.16% eROI2 = 0.11% eROI3 = -0.01% mSpread = 0.0430%\n"
     ]
    },
    {
     "name": "stderr",
     "output_type": "stream",
     "text": [
      "0it [00:00, ?it/s]\n"
     ]
    },
    {
     "name": "stdout",
     "output_type": "stream",
     "text": [
      "Epoch = 10. Time index = 2. Threshold MC = 0.5. Threshold MD = 0.8\n",
      "RD = 172 NZ = 190 NZA = 335 pNZ = 0.017% pNZA = 0.029% AD = 90.53% ADA = 51.34% NO = 1 GSP = 0.00% NSP = 0.00%\n",
      "SI2 = -0.55 SI = -0.55 eGROI = 0.00% eROI = 0.00% eROI2 = 0.00% eROI3 = 0.00% mSpread = 0.0000%\n"
     ]
    },
    {
     "name": "stderr",
     "output_type": "stream",
     "text": [
      "0it [00:00, ?it/s]\n"
     ]
    },
    {
     "name": "stdout",
     "output_type": "stream",
     "text": [
      "Epoch = 10. Time index = 2. Threshold MC = 0.5. Threshold MD = 0.9\n",
      "RD = 0 NZ = 0 NZA = 0 pNZ = 0.000% pNZA = 0.000% AD = 0.00% ADA = 0.00% NO = 1 GSP = 0.00% NSP = 0.00%\n",
      "SI2 = -0.55 SI = -0.55 eGROI = 0.00% eROI = 0.00% eROI2 = 0.00% eROI3 = 0.00% mSpread = 0.0000%\n",
      "\n"
     ]
    },
    {
     "name": "stderr",
     "output_type": "stream",
     "text": [
      "0it [00:00, ?it/s]\n"
     ]
    },
    {
     "name": "stdout",
     "output_type": "stream",
     "text": [
      "Epoch = 10. Time index = 2. Threshold MC = 0.6. Threshold MD = 0.5\n",
      "RD = 85509 NZ = 160669 NZA = 265184 pNZ = 13.987% pNZA = 23.085% AD = 53.22% ADA = 32.25% NO = 1 GSP = 0.00% NSP = 0.00%\n",
      "SI2 = -0.55 SI = -0.55 eGROI = 0.00% eROI = 0.00% eROI2 = 0.00% eROI3 = 0.00% mSpread = 0.0000%\n"
     ]
    },
    {
     "name": "stderr",
     "output_type": "stream",
     "text": [
      "100%|██████████████████████████████████████████████████████████████████████████████████████████████████████████████████████████████████| 5646/5646 [00:02<00:00, 2052.55it/s]\n"
     ]
    },
    {
     "name": "stdout",
     "output_type": "stream",
     "text": [
      "Epoch = 10. Time index = 2. Threshold MC = 0.6. Threshold MD = 0.6\n",
      "RD = 3464 NZ = 5077 NZA = 9449 pNZ = 0.442% pNZA = 0.823% AD = 68.23% ADA = 36.66% NO = 1481 GSP = 62.46% NSP = 43.42%\n",
      "SI2 = -58.55 SI = -171.55 eGROI = 25.97% eROI = -22.92% eROI2 = -3.65% eROI3 = -18.46% mSpread = 0.0330%\n"
     ]
    },
    {
     "name": "stderr",
     "output_type": "stream",
     "text": [
      "0it [00:00, ?it/s]\n"
     ]
    },
    {
     "name": "stdout",
     "output_type": "stream",
     "text": [
      "Epoch = 10. Time index = 2. Threshold MC = 0.6. Threshold MD = 0.7\n",
      "RD = 559 NZ = 678 NZA = 1142 pNZ = 0.059% pNZA = 0.099% AD = 82.45% ADA = 48.95% NO = 1 GSP = 100.00% NSP = 0.00%\n",
      "SI2 = -0.55 SI = -0.55 eGROI = 0.08% eROI = -0.00% eROI2 = 0.06% eROI3 = 0.05% mSpread = 0.0790%\n"
     ]
    },
    {
     "name": "stderr",
     "output_type": "stream",
     "text": [
      "0it [00:00, ?it/s]\n"
     ]
    },
    {
     "name": "stdout",
     "output_type": "stream",
     "text": [
      "Epoch = 10. Time index = 2. Threshold MC = 0.6. Threshold MD = 0.8\n",
      "RD = 138 NZ = 149 NZA = 230 pNZ = 0.013% pNZA = 0.020% AD = 92.62% ADA = 60.00% NO = 1 GSP = 0.00% NSP = 0.00%\n",
      "SI2 = -0.55 SI = -0.55 eGROI = 0.00% eROI = 0.00% eROI2 = 0.00% eROI3 = 0.00% mSpread = 0.0000%\n"
     ]
    },
    {
     "name": "stderr",
     "output_type": "stream",
     "text": [
      "0it [00:00, ?it/s]\n"
     ]
    },
    {
     "name": "stdout",
     "output_type": "stream",
     "text": [
      "Epoch = 10. Time index = 2. Threshold MC = 0.6. Threshold MD = 0.9\n",
      "RD = 0 NZ = 0 NZA = 0 pNZ = 0.000% pNZA = 0.000% AD = 0.00% ADA = 0.00% NO = 1 GSP = 0.00% NSP = 0.00%\n",
      "SI2 = -0.55 SI = -0.55 eGROI = 0.00% eROI = 0.00% eROI2 = 0.00% eROI3 = 0.00% mSpread = 0.0000%\n",
      "\n"
     ]
    },
    {
     "name": "stderr",
     "output_type": "stream",
     "text": [
      "100%|██████████████████████████████████████████████████████████████████████████████████████████████████████████████████████████████████| 8373/8373 [00:03<00:00, 2687.31it/s]\n"
     ]
    },
    {
     "name": "stdout",
     "output_type": "stream",
     "text": [
      "Epoch = 10. Time index = 2. Threshold MC = 0.7. Threshold MD = 0.5\n",
      "RD = 5356 NZ = 9677 NZA = 13287 pNZ = 0.842% pNZA = 1.157% AD = 55.35% ADA = 40.31% NO = 1726 GSP = 53.42% NSP = 46.00%\n",
      "SI2 = -143.30 SI = -155.30 eGROI = 1.32% eROI = -32.45% eROI2 = -33.20% eROI3 = -50.46% mSpread = 0.0196%\n"
     ]
    },
    {
     "name": "stderr",
     "output_type": "stream",
     "text": [
      "100%|████████████████████████████████████████████████████████████████████████████████████████████████████████████████████████████████████| 426/426 [00:00<00:00, 2236.28it/s]\n"
     ]
    },
    {
     "name": "stdout",
     "output_type": "stream",
     "text": [
      "Epoch = 10. Time index = 2. Threshold MC = 0.7. Threshold MD = 0.6\n",
      "RD = 614 NZ = 870 NZA = 1206 pNZ = 0.076% pNZA = 0.105% AD = 70.57% ADA = 50.91% NO = 229 GSP = 66.81% NSP = 51.53%\n",
      "SI2 = -2.95 SI = -7.95 eGROI = 5.93% eROI = 0.06% eROI2 = 1.35% eROI3 = -0.94% mSpread = 0.0256%\n"
     ]
    },
    {
     "name": "stderr",
     "output_type": "stream",
     "text": [
      "0it [00:00, ?it/s]\n"
     ]
    },
    {
     "name": "stdout",
     "output_type": "stream",
     "text": [
      "Epoch = 10. Time index = 2. Threshold MC = 0.7. Threshold MD = 0.7\n",
      "RD = 211 NZ = 247 NZA = 325 pNZ = 0.022% pNZA = 0.028% AD = 85.43% ADA = 64.92% NO = 1 GSP = 0.00% NSP = 0.00%\n",
      "SI2 = -0.55 SI = -0.55 eGROI = 0.00% eROI = 0.00% eROI2 = 0.00% eROI3 = 0.00% mSpread = 0.0000%\n"
     ]
    },
    {
     "name": "stderr",
     "output_type": "stream",
     "text": [
      "0it [00:00, ?it/s]\n"
     ]
    },
    {
     "name": "stdout",
     "output_type": "stream",
     "text": [
      "Epoch = 10. Time index = 2. Threshold MC = 0.7. Threshold MD = 0.8\n",
      "RD = 91 NZ = 99 NZA = 126 pNZ = 0.009% pNZA = 0.011% AD = 91.92% ADA = 72.22% NO = 1 GSP = 0.00% NSP = 0.00%\n",
      "SI2 = -0.55 SI = -0.55 eGROI = 0.00% eROI = 0.00% eROI2 = 0.00% eROI3 = 0.00% mSpread = 0.0000%\n"
     ]
    },
    {
     "name": "stderr",
     "output_type": "stream",
     "text": [
      "0it [00:00, ?it/s]\n"
     ]
    },
    {
     "name": "stdout",
     "output_type": "stream",
     "text": [
      "Epoch = 10. Time index = 2. Threshold MC = 0.7. Threshold MD = 0.9\n",
      "RD = 0 NZ = 0 NZA = 0 pNZ = 0.000% pNZA = 0.000% AD = 0.00% ADA = 0.00% NO = 1 GSP = 0.00% NSP = 0.00%\n",
      "SI2 = -0.55 SI = -0.55 eGROI = 0.00% eROI = 0.00% eROI2 = 0.00% eROI3 = 0.00% mSpread = 0.0000%\n",
      "\n"
     ]
    },
    {
     "name": "stderr",
     "output_type": "stream",
     "text": [
      "100%|████████████████████████████████████████████████████████████████████████████████████████████████████████████████████████████████████| 378/378 [00:00<00:00, 2543.63it/s]\n"
     ]
    },
    {
     "name": "stdout",
     "output_type": "stream",
     "text": [
      "Epoch = 10. Time index = 2. Threshold MC = 0.8. Threshold MD = 0.5\n",
      "RD = 281 NZ = 456 NZA = 577 pNZ = 0.040% pNZA = 0.050% AD = 61.62% ADA = 48.70% NO = 230 GSP = 58.26% NSP = 51.30%\n",
      "SI2 = -6.50 SI = -8.50 eGROI = 4.39% eROI = 0.03% eROI2 = -0.21% eROI3 = -2.51% mSpread = 0.0189%\n"
     ]
    },
    {
     "name": "stderr",
     "output_type": "stream",
     "text": [
      "100%|████████████████████████████████████████████████████████████████████████████████████████████████████████████████████████████████████████| 6/6 [00:00<00:00, 1203.19it/s]\n"
     ]
    },
    {
     "name": "stdout",
     "output_type": "stream",
     "text": [
      "Epoch = 10. Time index = 2. Threshold MC = 0.8. Threshold MD = 0.6\n",
      "RD = 66 NZ = 82 NZA = 108 pNZ = 0.007% pNZA = 0.009% AD = 80.49% ADA = 61.11% NO = 7 GSP = 71.43% NSP = 57.14%\n",
      "SI2 = 0.15 SI = 0.15 eGROI = 0.12% eROI = -0.08% eROI2 = -0.02% eROI3 = -0.09% mSpread = 0.0277%\n"
     ]
    },
    {
     "name": "stderr",
     "output_type": "stream",
     "text": [
      "0it [00:00, ?it/s]\n"
     ]
    },
    {
     "name": "stdout",
     "output_type": "stream",
     "text": [
      "Epoch = 10. Time index = 2. Threshold MC = 0.8. Threshold MD = 0.7\n",
      "RD = 35 NZ = 43 NZA = 59 pNZ = 0.004% pNZA = 0.005% AD = 81.40% ADA = 59.32% NO = 1 GSP = 0.00% NSP = 0.00%\n",
      "SI2 = -0.55 SI = -0.55 eGROI = 0.00% eROI = 0.00% eROI2 = 0.00% eROI3 = 0.00% mSpread = 0.0000%\n"
     ]
    },
    {
     "name": "stderr",
     "output_type": "stream",
     "text": [
      "0it [00:00, ?it/s]\n"
     ]
    },
    {
     "name": "stdout",
     "output_type": "stream",
     "text": [
      "Epoch = 10. Time index = 2. Threshold MC = 0.8. Threshold MD = 0.8\n",
      "RD = 19 NZ = 22 NZA = 26 pNZ = 0.002% pNZA = 0.002% AD = 86.36% ADA = 73.08% NO = 1 GSP = 0.00% NSP = 0.00%\n",
      "SI2 = -0.55 SI = -0.55 eGROI = 0.00% eROI = 0.00% eROI2 = 0.00% eROI3 = 0.00% mSpread = 0.0000%\n"
     ]
    },
    {
     "name": "stderr",
     "output_type": "stream",
     "text": [
      "0it [00:00, ?it/s]\n"
     ]
    },
    {
     "name": "stdout",
     "output_type": "stream",
     "text": [
      "Epoch = 10. Time index = 2. Threshold MC = 0.8. Threshold MD = 0.9\n",
      "RD = 0 NZ = 0 NZA = 0 pNZ = 0.000% pNZA = 0.000% AD = 0.00% ADA = 0.00% NO = 1 GSP = 0.00% NSP = 0.00%\n",
      "SI2 = -0.55 SI = -0.55 eGROI = 0.00% eROI = 0.00% eROI2 = 0.00% eROI3 = 0.00% mSpread = 0.0000%\n",
      "\n"
     ]
    },
    {
     "name": "stderr",
     "output_type": "stream",
     "text": [
      "0it [00:00, ?it/s]\n"
     ]
    },
    {
     "name": "stdout",
     "output_type": "stream",
     "text": [
      "Epoch = 10. Time index = 2. Threshold MC = 0.9. Threshold MD = 0.5\n",
      "RD = 0 NZ = 0 NZA = 0 pNZ = 0.000% pNZA = 0.000% AD = 0.00% ADA = 0.00% NO = 1 GSP = 0.00% NSP = 0.00%\n",
      "SI2 = -0.55 SI = -0.55 eGROI = 0.00% eROI = 0.00% eROI2 = 0.00% eROI3 = 0.00% mSpread = 0.0000%\n"
     ]
    },
    {
     "name": "stderr",
     "output_type": "stream",
     "text": [
      "0it [00:00, ?it/s]\n"
     ]
    },
    {
     "name": "stdout",
     "output_type": "stream",
     "text": [
      "Epoch = 10. Time index = 2. Threshold MC = 0.9. Threshold MD = 0.6\n",
      "RD = 0 NZ = 0 NZA = 0 pNZ = 0.000% pNZA = 0.000% AD = 0.00% ADA = 0.00% NO = 1 GSP = 0.00% NSP = 0.00%\n",
      "SI2 = -0.55 SI = -0.55 eGROI = 0.00% eROI = 0.00% eROI2 = 0.00% eROI3 = 0.00% mSpread = 0.0000%\n"
     ]
    },
    {
     "name": "stderr",
     "output_type": "stream",
     "text": [
      "0it [00:00, ?it/s]\n"
     ]
    },
    {
     "name": "stdout",
     "output_type": "stream",
     "text": [
      "Epoch = 10. Time index = 2. Threshold MC = 0.9. Threshold MD = 0.7\n",
      "RD = 0 NZ = 0 NZA = 0 pNZ = 0.000% pNZA = 0.000% AD = 0.00% ADA = 0.00% NO = 1 GSP = 0.00% NSP = 0.00%\n",
      "SI2 = -0.55 SI = -0.55 eGROI = 0.00% eROI = 0.00% eROI2 = 0.00% eROI3 = 0.00% mSpread = 0.0000%\n"
     ]
    },
    {
     "name": "stderr",
     "output_type": "stream",
     "text": [
      "0it [00:00, ?it/s]\n"
     ]
    },
    {
     "name": "stdout",
     "output_type": "stream",
     "text": [
      "Epoch = 10. Time index = 2. Threshold MC = 0.9. Threshold MD = 0.8\n",
      "RD = 0 NZ = 0 NZA = 0 pNZ = 0.000% pNZA = 0.000% AD = 0.00% ADA = 0.00% NO = 1 GSP = 0.00% NSP = 0.00%\n",
      "SI2 = -0.55 SI = -0.55 eGROI = 0.00% eROI = 0.00% eROI2 = 0.00% eROI3 = 0.00% mSpread = 0.0000%\n"
     ]
    },
    {
     "name": "stderr",
     "output_type": "stream",
     "text": [
      "0it [00:00, ?it/s]\n"
     ]
    },
    {
     "name": "stdout",
     "output_type": "stream",
     "text": [
      "Epoch = 10. Time index = 2. Threshold MC = 0.9. Threshold MD = 0.9\n",
      "RD = 0 NZ = 0 NZA = 0 pNZ = 0.000% pNZA = 0.000% AD = 0.00% ADA = 0.00% NO = 1 GSP = 0.00% NSP = 0.00%\n",
      "SI2 = -0.55 SI = -0.55 eGROI = 0.00% eROI = 0.00% eROI2 = 0.00% eROI3 = 0.00% mSpread = 0.0000%\n",
      "\n"
     ]
    },
    {
     "name": "stderr",
     "output_type": "stream",
     "text": [
      "0it [00:00, ?it/s]\n"
     ]
    },
    {
     "name": "stdout",
     "output_type": "stream",
     "text": [
      "Epoch = 10. Time index = 3. Threshold MC = 0.5. Threshold MD = 0.5\n",
      "J_test = 6.339808546978494, J_train = 6.513980578474613, Accuracy=0.5363439546004163\n",
      "RD = 273471 NZ = 524866 NZA = 1013914 pNZ = 45.691% pNZA = 88.264% AD = 52.10% ADA = 26.97% NO = 1 GSP = 0.00% NSP = 0.00%\n",
      "SI2 = -0.55 SI = -0.55 eGROI = 0.00% eROI = 0.00% eROI2 = 0.00% eROI3 = 0.00% mSpread = 0.0000%\n"
     ]
    },
    {
     "name": "stderr",
     "output_type": "stream",
     "text": [
      "100%|████████████████████████████████████████████████████████████████████████████████████████████████████████████████████████████████| 12821/12821 [00:05<00:00, 2498.53it/s]\n"
     ]
    },
    {
     "name": "stdout",
     "output_type": "stream",
     "text": [
      "Epoch = 10. Time index = 3. Threshold MC = 0.5. Threshold MD = 0.6\n",
      "RD = 7505 NZ = 10987 NZA = 24464 pNZ = 0.956% pNZA = 2.130% AD = 68.31% ADA = 30.68% NO = 2459 GSP = 62.30% NSP = 40.83%\n",
      "SI2 = -129.45 SI = -348.45 eGROI = 36.92% eROI = -45.07% eROI2 = -12.26% eROI3 = -36.85% mSpread = 0.0333%\n"
     ]
    },
    {
     "name": "stderr",
     "output_type": "stream",
     "text": [
      "100%|██████████████████████████████████████████████████████████████████████████████████████████████████████████████████████████████████████| 52/52 [00:00<00:00, 1629.27it/s]\n"
     ]
    },
    {
     "name": "stdout",
     "output_type": "stream",
     "text": [
      "Epoch = 10. Time index = 3. Threshold MC = 0.5. Threshold MD = 0.7\n",
      "RD = 1131 NZ = 1383 NZA = 3128 pNZ = 0.120% pNZA = 0.272% AD = 81.78% ADA = 36.16% NO = 41 GSP = 80.49% NSP = 31.71%\n",
      "SI2 = 2.45 SI = -9.55 eGROI = 1.18% eROI = -0.56% eROI2 = 0.36% eROI3 = -0.05% mSpread = 0.0425%\n"
     ]
    },
    {
     "name": "stderr",
     "output_type": "stream",
     "text": [
      "0it [00:00, ?it/s]\n"
     ]
    },
    {
     "name": "stdout",
     "output_type": "stream",
     "text": [
      "Epoch = 10. Time index = 3. Threshold MC = 0.5. Threshold MD = 0.8\n",
      "RD = 140 NZ = 156 NZA = 279 pNZ = 0.014% pNZA = 0.024% AD = 89.74% ADA = 50.18% NO = 1 GSP = 0.00% NSP = 0.00%\n",
      "SI2 = -0.55 SI = -0.55 eGROI = 0.00% eROI = 0.00% eROI2 = 0.00% eROI3 = 0.00% mSpread = 0.0000%\n"
     ]
    },
    {
     "name": "stderr",
     "output_type": "stream",
     "text": [
      "0it [00:00, ?it/s]\n"
     ]
    },
    {
     "name": "stdout",
     "output_type": "stream",
     "text": [
      "Epoch = 10. Time index = 3. Threshold MC = 0.5. Threshold MD = 0.9\n",
      "RD = 0 NZ = 0 NZA = 0 pNZ = 0.000% pNZA = 0.000% AD = 0.00% ADA = 0.00% NO = 1 GSP = 0.00% NSP = 0.00%\n",
      "SI2 = -0.55 SI = -0.55 eGROI = 0.00% eROI = 0.00% eROI2 = 0.00% eROI3 = 0.00% mSpread = 0.0000%\n",
      "\n"
     ]
    },
    {
     "name": "stderr",
     "output_type": "stream",
     "text": [
      "0it [00:00, ?it/s]\n"
     ]
    },
    {
     "name": "stdout",
     "output_type": "stream",
     "text": [
      "Epoch = 10. Time index = 3. Threshold MC = 0.6. Threshold MD = 0.5\n",
      "RD = 86816 NZ = 163444 NZA = 271372 pNZ = 14.228% pNZA = 23.624% AD = 53.12% ADA = 31.99% NO = 1 GSP = 0.00% NSP = 0.00%\n",
      "SI2 = -0.55 SI = -0.55 eGROI = 0.00% eROI = 0.00% eROI2 = 0.00% eROI3 = 0.00% mSpread = 0.0000%\n"
     ]
    },
    {
     "name": "stderr",
     "output_type": "stream",
     "text": [
      "100%|██████████████████████████████████████████████████████████████████████████████████████████████████████████████████████████████████| 7352/7352 [00:02<00:00, 3493.58it/s]\n"
     ]
    },
    {
     "name": "stdout",
     "output_type": "stream",
     "text": [
      "Epoch = 10. Time index = 3. Threshold MC = 0.6. Threshold MD = 0.6\n",
      "RD = 3961 NZ = 5757 NZA = 11001 pNZ = 0.501% pNZA = 0.958% AD = 68.80% ADA = 36.01% NO = 1710 GSP = 62.69% NSP = 42.75%\n",
      "SI2 = -60.50 SI = -209.50 eGROI = 30.09% eROI = -27.53% eROI2 = -4.11% eROI3 = -21.21% mSpread = 0.0337%\n"
     ]
    },
    {
     "name": "stderr",
     "output_type": "stream",
     "text": [
      "100%|████████████████████████████████████████████████████████████████████████████████████████████████████████████████████████████████████████| 6/6 [00:00<00:00, 1503.78it/s]\n"
     ]
    },
    {
     "name": "stdout",
     "output_type": "stream",
     "text": [
      "Epoch = 10. Time index = 3. Threshold MC = 0.6. Threshold MD = 0.7\n",
      "RD = 569 NZ = 685 NZA = 1151 pNZ = 0.060% pNZA = 0.100% AD = 83.07% ADA = 49.44% NO = 7 GSP = 100.00% NSP = 28.57%\n",
      "SI2 = -0.85 SI = -1.85 eGROI = 0.34% eROI = -0.01% eROI2 = 0.20% eROI3 = 0.13% mSpread = 0.0500%\n"
     ]
    },
    {
     "name": "stderr",
     "output_type": "stream",
     "text": [
      "0it [00:00, ?it/s]\n"
     ]
    },
    {
     "name": "stdout",
     "output_type": "stream",
     "text": [
      "Epoch = 10. Time index = 3. Threshold MC = 0.6. Threshold MD = 0.8\n",
      "RD = 116 NZ = 124 NZA = 179 pNZ = 0.011% pNZA = 0.016% AD = 93.55% ADA = 64.80% NO = 1 GSP = 0.00% NSP = 0.00%\n",
      "SI2 = -0.55 SI = -0.55 eGROI = 0.00% eROI = 0.00% eROI2 = 0.00% eROI3 = 0.00% mSpread = 0.0000%\n"
     ]
    },
    {
     "name": "stderr",
     "output_type": "stream",
     "text": [
      "0it [00:00, ?it/s]\n"
     ]
    },
    {
     "name": "stdout",
     "output_type": "stream",
     "text": [
      "Epoch = 10. Time index = 3. Threshold MC = 0.6. Threshold MD = 0.9\n",
      "RD = 0 NZ = 0 NZA = 0 pNZ = 0.000% pNZA = 0.000% AD = 0.00% ADA = 0.00% NO = 1 GSP = 0.00% NSP = 0.00%\n",
      "SI2 = -0.55 SI = -0.55 eGROI = 0.00% eROI = 0.00% eROI2 = 0.00% eROI3 = 0.00% mSpread = 0.0000%\n",
      "\n"
     ]
    },
    {
     "name": "stderr",
     "output_type": "stream",
     "text": [
      "100%|██████████████████████████████████████████████████████████████████████████████████████████████████████████████████████████████████| 8197/8197 [00:02<00:00, 2886.79it/s]\n"
     ]
    },
    {
     "name": "stdout",
     "output_type": "stream",
     "text": [
      "Epoch = 10. Time index = 3. Threshold MC = 0.7. Threshold MD = 0.5\n",
      "RD = 4992 NZ = 9090 NZA = 12436 pNZ = 0.791% pNZA = 1.083% AD = 54.92% ADA = 40.14% NO = 1594 GSP = 52.89% NSP = 46.11%\n",
      "SI2 = -131.70 SI = -141.70 eGROI = 3.74% eROI = -28.24% eROI2 = -28.14% eROI3 = -44.08% mSpread = 0.0201%\n"
     ]
    },
    {
     "name": "stderr",
     "output_type": "stream",
     "text": [
      "100%|████████████████████████████████████████████████████████████████████████████████████████████████████████████████████████████████████| 528/528 [00:00<00:00, 2406.34it/s]\n"
     ]
    },
    {
     "name": "stdout",
     "output_type": "stream",
     "text": [
      "Epoch = 10. Time index = 3. Threshold MC = 0.7. Threshold MD = 0.6\n",
      "RD = 626 NZ = 870 NZA = 1216 pNZ = 0.076% pNZA = 0.106% AD = 71.95% ADA = 51.48% NO = 246 GSP = 63.41% NSP = 47.97%\n",
      "SI2 = -10.30 SI = -17.30 eGROI = 5.59% eROI = -0.66% eROI2 = 0.67% eROI3 = -1.79% mSpread = 0.0254%\n"
     ]
    },
    {
     "name": "stderr",
     "output_type": "stream",
     "text": [
      "0it [00:00, ?it/s]\n"
     ]
    },
    {
     "name": "stdout",
     "output_type": "stream",
     "text": [
      "Epoch = 10. Time index = 3. Threshold MC = 0.7. Threshold MD = 0.7\n",
      "RD = 196 NZ = 226 NZA = 294 pNZ = 0.020% pNZA = 0.026% AD = 86.73% ADA = 66.67% NO = 1 GSP = 0.00% NSP = 0.00%\n",
      "SI2 = -0.55 SI = -0.55 eGROI = 0.00% eROI = 0.00% eROI2 = 0.00% eROI3 = 0.00% mSpread = 0.0000%\n"
     ]
    },
    {
     "name": "stderr",
     "output_type": "stream",
     "text": [
      "0it [00:00, ?it/s]\n"
     ]
    },
    {
     "name": "stdout",
     "output_type": "stream",
     "text": [
      "Epoch = 10. Time index = 3. Threshold MC = 0.7. Threshold MD = 0.8\n",
      "RD = 81 NZ = 86 NZA = 104 pNZ = 0.007% pNZA = 0.009% AD = 94.19% ADA = 77.88% NO = 1 GSP = 0.00% NSP = 0.00%\n",
      "SI2 = -0.55 SI = -0.55 eGROI = 0.00% eROI = 0.00% eROI2 = 0.00% eROI3 = 0.00% mSpread = 0.0000%\n"
     ]
    },
    {
     "name": "stderr",
     "output_type": "stream",
     "text": [
      "0it [00:00, ?it/s]\n"
     ]
    },
    {
     "name": "stdout",
     "output_type": "stream",
     "text": [
      "Epoch = 10. Time index = 3. Threshold MC = 0.7. Threshold MD = 0.9\n",
      "RD = 0 NZ = 0 NZA = 0 pNZ = 0.000% pNZA = 0.000% AD = 0.00% ADA = 0.00% NO = 1 GSP = 0.00% NSP = 0.00%\n",
      "SI2 = -0.55 SI = -0.55 eGROI = 0.00% eROI = 0.00% eROI2 = 0.00% eROI3 = 0.00% mSpread = 0.0000%\n",
      "\n"
     ]
    },
    {
     "name": "stderr",
     "output_type": "stream",
     "text": [
      "100%|████████████████████████████████████████████████████████████████████████████████████████████████████████████████████████████████████| 359/359 [00:00<00:00, 1475.20it/s]\n"
     ]
    },
    {
     "name": "stdout",
     "output_type": "stream",
     "text": [
      "Epoch = 10. Time index = 3. Threshold MC = 0.8. Threshold MD = 0.5\n",
      "RD = 242 NZ = 409 NZA = 523 pNZ = 0.036% pNZA = 0.046% AD = 59.17% ADA = 46.27% NO = 228 GSP = 56.14% NSP = 49.56%\n",
      "SI2 = -11.40 SI = -12.40 eGROI = 3.17% eROI = -1.10% eROI2 = -1.39% eROI3 = -3.67% mSpread = 0.0187%\n"
     ]
    },
    {
     "name": "stderr",
     "output_type": "stream",
     "text": [
      "100%|██████████████████████████████████████████████████████████████████████████████████████████████████████████████████████████████████████| 16/16 [00:00<00:00, 1233.71it/s]\n"
     ]
    },
    {
     "name": "stdout",
     "output_type": "stream",
     "text": [
      "Epoch = 10. Time index = 3. Threshold MC = 0.8. Threshold MD = 0.6\n",
      "RD = 67 NZ = 81 NZA = 108 pNZ = 0.007% pNZA = 0.009% AD = 82.72% ADA = 62.04% NO = 14 GSP = 85.71% NSP = 71.43%\n",
      "SI2 = 3.30 SI = 2.30 eGROI = 1.06% eROI = 0.71% eROI2 = 0.78% eROI3 = 0.64% mSpread = 0.0253%\n"
     ]
    },
    {
     "name": "stderr",
     "output_type": "stream",
     "text": [
      "0it [00:00, ?it/s]\n"
     ]
    },
    {
     "name": "stdout",
     "output_type": "stream",
     "text": [
      "Epoch = 10. Time index = 3. Threshold MC = 0.8. Threshold MD = 0.7\n",
      "RD = 30 NZ = 38 NZA = 53 pNZ = 0.003% pNZA = 0.005% AD = 78.95% ADA = 56.60% NO = 1 GSP = 0.00% NSP = 0.00%\n",
      "SI2 = -0.55 SI = -0.55 eGROI = 0.00% eROI = 0.00% eROI2 = 0.00% eROI3 = 0.00% mSpread = 0.0000%\n"
     ]
    },
    {
     "name": "stderr",
     "output_type": "stream",
     "text": [
      "0it [00:00, ?it/s]\n"
     ]
    },
    {
     "name": "stdout",
     "output_type": "stream",
     "text": [
      "Epoch = 10. Time index = 3. Threshold MC = 0.8. Threshold MD = 0.8\n",
      "RD = 14 NZ = 17 NZA = 19 pNZ = 0.001% pNZA = 0.002% AD = 82.35% ADA = 73.68% NO = 1 GSP = 0.00% NSP = 0.00%\n",
      "SI2 = -0.55 SI = -0.55 eGROI = 0.00% eROI = 0.00% eROI2 = 0.00% eROI3 = 0.00% mSpread = 0.0000%\n"
     ]
    },
    {
     "name": "stderr",
     "output_type": "stream",
     "text": [
      "0it [00:00, ?it/s]\n"
     ]
    },
    {
     "name": "stdout",
     "output_type": "stream",
     "text": [
      "Epoch = 10. Time index = 3. Threshold MC = 0.8. Threshold MD = 0.9\n",
      "RD = 0 NZ = 0 NZA = 0 pNZ = 0.000% pNZA = 0.000% AD = 0.00% ADA = 0.00% NO = 1 GSP = 0.00% NSP = 0.00%\n",
      "SI2 = -0.55 SI = -0.55 eGROI = 0.00% eROI = 0.00% eROI2 = 0.00% eROI3 = 0.00% mSpread = 0.0000%\n",
      "\n"
     ]
    },
    {
     "name": "stderr",
     "output_type": "stream",
     "text": [
      "0it [00:00, ?it/s]\n"
     ]
    },
    {
     "name": "stdout",
     "output_type": "stream",
     "text": [
      "Epoch = 10. Time index = 3. Threshold MC = 0.9. Threshold MD = 0.5\n",
      "RD = 0 NZ = 0 NZA = 0 pNZ = 0.000% pNZA = 0.000% AD = 0.00% ADA = 0.00% NO = 1 GSP = 0.00% NSP = 0.00%\n",
      "SI2 = -0.55 SI = -0.55 eGROI = 0.00% eROI = 0.00% eROI2 = 0.00% eROI3 = 0.00% mSpread = 0.0000%\n"
     ]
    },
    {
     "name": "stderr",
     "output_type": "stream",
     "text": [
      "0it [00:00, ?it/s]\n"
     ]
    },
    {
     "name": "stdout",
     "output_type": "stream",
     "text": [
      "Epoch = 10. Time index = 3. Threshold MC = 0.9. Threshold MD = 0.6\n",
      "RD = 0 NZ = 0 NZA = 0 pNZ = 0.000% pNZA = 0.000% AD = 0.00% ADA = 0.00% NO = 1 GSP = 0.00% NSP = 0.00%\n",
      "SI2 = -0.55 SI = -0.55 eGROI = 0.00% eROI = 0.00% eROI2 = 0.00% eROI3 = 0.00% mSpread = 0.0000%\n"
     ]
    },
    {
     "name": "stderr",
     "output_type": "stream",
     "text": [
      "0it [00:00, ?it/s]\n"
     ]
    },
    {
     "name": "stdout",
     "output_type": "stream",
     "text": [
      "Epoch = 10. Time index = 3. Threshold MC = 0.9. Threshold MD = 0.7\n",
      "RD = 0 NZ = 0 NZA = 0 pNZ = 0.000% pNZA = 0.000% AD = 0.00% ADA = 0.00% NO = 1 GSP = 0.00% NSP = 0.00%\n",
      "SI2 = -0.55 SI = -0.55 eGROI = 0.00% eROI = 0.00% eROI2 = 0.00% eROI3 = 0.00% mSpread = 0.0000%\n"
     ]
    },
    {
     "name": "stderr",
     "output_type": "stream",
     "text": [
      "0it [00:00, ?it/s]\n"
     ]
    },
    {
     "name": "stdout",
     "output_type": "stream",
     "text": [
      "Epoch = 10. Time index = 3. Threshold MC = 0.9. Threshold MD = 0.8\n",
      "RD = 0 NZ = 0 NZA = 0 pNZ = 0.000% pNZA = 0.000% AD = 0.00% ADA = 0.00% NO = 1 GSP = 0.00% NSP = 0.00%\n",
      "SI2 = -0.55 SI = -0.55 eGROI = 0.00% eROI = 0.00% eROI2 = 0.00% eROI3 = 0.00% mSpread = 0.0000%\n"
     ]
    },
    {
     "name": "stderr",
     "output_type": "stream",
     "text": [
      "0it [00:00, ?it/s]\n"
     ]
    },
    {
     "name": "stdout",
     "output_type": "stream",
     "text": [
      "Epoch = 10. Time index = 3. Threshold MC = 0.9. Threshold MD = 0.9\n",
      "RD = 0 NZ = 0 NZA = 0 pNZ = 0.000% pNZA = 0.000% AD = 0.00% ADA = 0.00% NO = 1 GSP = 0.00% NSP = 0.00%\n",
      "SI2 = -0.55 SI = -0.55 eGROI = 0.00% eROI = 0.00% eROI2 = 0.00% eROI3 = 0.00% mSpread = 0.0000%\n",
      "\n",
      "Best eGROI = 36.92 t_index 3 thr_mc 0.5 thr_md 0.6 epoch 10 in 2459\n",
      "Best eROI = 1.59 t_index 1 thr_mc 0.8 thr_md 0.5 epoch 10 in 220\n",
      "Best eROI.5 = 24.63 t_index 3 thr_mc 0.5 thr_md 0.6 epoch 10 in 2459\n",
      "Best eROI1 = 12.99 t_index 3 thr_mc 0.6 thr_md 0.6 epoch 10 in 1710\n",
      "Best eROI1.5 = 4.44 t_index 3 thr_mc 0.6 thr_md 0.6 epoch 10 in 1710\n",
      "Best eROI2 = 1.35 t_index 1 thr_mc 0.8 thr_md 0.5 epoch 10 in 220\n",
      "Best eROI3 = 0.64 t_index 3 thr_mc 0.8 thr_md 0.6 epoch 10 in 14\n",
      "Best eROI4 = 0.50 t_index 3 thr_mc 0.8 thr_md 0.6 epoch 10 in 14\n",
      "Best eROI5 = 0.36 t_index 3 thr_mc 0.8 thr_md 0.6 epoch 10 in 14\n",
      "Best SI = 2.30 t_index 3 thr_mc 0.8 thr_md 0.6 epoch 10 in 14\n",
      "Best SI.5 = 111.55 t_index 3 thr_mc 0.5 thr_md 0.6 epoch 10 in 2459\n",
      "Best SI1 = 54.85 t_index 0 thr_mc 0.5 thr_md 0.6 epoch 10 in 1353\n",
      "Best SI1.5 = 11.85 t_index 0 thr_mc 0.5 thr_md 0.6 epoch 10 in 1353\n",
      "Best SI2 = 3.30 t_index 3 thr_mc 0.8 thr_md 0.6 epoch 10 in 14\n",
      "Best SI3 = 1.30 t_index 3 thr_mc 0.8 thr_md 0.6 epoch 10 in 14\n",
      "Best SI4 = -0.55 t_index 0 thr_mc 0.5 thr_md 0.5 epoch 10 in 1\n",
      "Best SI5 = -0.55 t_index 0 thr_mc 0.5 thr_md 0.5 epoch 10 in 1\n",
      "\n",
      "The very best:\n",
      "Best eGROI = 36.92 t_index 3 thr_mc 0.5 thr_md 0.6 epoch 10 in 2459\n",
      "Best eROI = 3.37 t_index 3 thr_mc 0.8 thr_md 0.5 epoch 8 in 141\n",
      "Best eROI.5 = 24.63 t_index 3 thr_mc 0.5 thr_md 0.6 epoch 10 in 2459\n",
      "Best eROI1 = 12.99 t_index 3 thr_mc 0.6 thr_md 0.6 epoch 10 in 1710\n",
      "Best eROI1.5 = 4.44 t_index 3 thr_mc 0.6 thr_md 0.6 epoch 10 in 1710\n",
      "Best eROI2 = 3.16 t_index 3 thr_mc 0.8 thr_md 0.5 epoch 8 in 141\n",
      "Best eROI3 = 1.75 t_index 3 thr_mc 0.8 thr_md 0.5 epoch 8 in 141\n",
      "Best eROI4 = 0.50 t_index 3 thr_mc 0.8 thr_md 0.6 epoch 10 in 14\n",
      "Best eROI5 = 0.36 t_index 3 thr_mc 0.8 thr_md 0.6 epoch 10 in 14\n",
      "Best SI = 4.45 t_index 3 thr_mc 0.8 thr_md 0.5 epoch 8 in 141\n",
      "Best SI.5 = 111.55 t_index 3 thr_mc 0.5 thr_md 0.6 epoch 10 in 2459\n",
      "Best SI1 = 54.85 t_index 0 thr_mc 0.5 thr_md 0.6 epoch 10 in 1353\n",
      "Best SI1.5 = 11.85 t_index 0 thr_mc 0.5 thr_md 0.6 epoch 10 in 1353\n",
      "Best SI2 = 4.45 t_index 3 thr_mc 0.8 thr_md 0.5 epoch 8 in 141\n",
      "Best SI3 = 1.30 t_index 3 thr_mc 0.8 thr_md 0.6 epoch 10 in 14\n",
      "Best SI4 = -0.55 t_index 0 thr_mc 0.5 thr_md 0.5 epoch 8 in 1\n",
      "Best SI5 = -0.55 t_index 0 thr_mc 0.5 thr_md 0.5 epoch 8 in 1\n",
      "Time=103.66 secs\n",
      "INFO:tensorflow:Restoring parameters from ../../RNN/weights/000520/000011/000011\n",
      "Parameters loaded. Epoch 11\n",
      "Epoch 11 of 34. Getting output...\n"
     ]
    },
    {
     "name": "stderr",
     "output_type": "stream",
     "text": [
      "100%|████████████████████████████████████████████████████████████████████████████████████████████████████████████████████████████████████████| 23/23 [02:16<00:00,  5.85s/it]\n"
     ]
    },
    {
     "name": "stdout",
     "output_type": "stream",
     "text": [
      "Getting results\n",
      "Epoch 11, J_train = 6.512098640212275, J_test = 6.338664013406505\n"
     ]
    },
    {
     "name": "stderr",
     "output_type": "stream",
     "text": [
      "0it [00:00, ?it/s]\n"
     ]
    },
    {
     "name": "stdout",
     "output_type": "stream",
     "text": [
      "Epoch = 11. Time index = 0. Threshold MC = 0.5. Threshold MD = 0.5\n",
      "J_test = 6.338664013406505, J_train = 6.512098640212275, Accuracy=0.5461208131045248\n",
      "RD = 265515 NZ = 511407 NZA = 975765 pNZ = 44.519% pNZA = 84.943% AD = 51.92% ADA = 27.21% NO = 1 GSP = 0.00% NSP = 0.00%\n",
      "SI2 = -0.55 SI = -0.55 eGROI = 0.00% eROI = 0.00% eROI2 = 0.00% eROI3 = 0.00% mSpread = 0.0000%\n"
     ]
    },
    {
     "name": "stderr",
     "output_type": "stream",
     "text": [
      "100%|██████████████████████████████████████████████████████████████████████████████████████████████████████████████████████████████████| 5287/5287 [00:01<00:00, 3411.20it/s]\n"
     ]
    },
    {
     "name": "stdout",
     "output_type": "stream",
     "text": [
      "Epoch = 11. Time index = 0. Threshold MC = 0.5. Threshold MD = 0.6\n",
      "RD = 7155 NZ = 11004 NZA = 24057 pNZ = 0.958% pNZA = 2.094% AD = 65.02% ADA = 29.74% NO = 1563 GSP = 63.72% NSP = 42.99%\n",
      "SI2 = -32.65 SI = -187.65 eGROI = 24.47% eROI = -28.53% eROI2 = -6.79% eROI3 = -22.42% mSpread = 0.0339%\n"
     ]
    },
    {
     "name": "stderr",
     "output_type": "stream",
     "text": [
      "0it [00:00, ?it/s]\n"
     ]
    },
    {
     "name": "stdout",
     "output_type": "stream",
     "text": [
      "Epoch = 11. Time index = 0. Threshold MC = 0.5. Threshold MD = 0.7\n",
      "RD = 654 NZ = 782 NZA = 1517 pNZ = 0.068% pNZA = 0.132% AD = 83.63% ADA = 43.11% NO = 1 GSP = 0.00% NSP = 0.00%\n",
      "SI2 = -0.55 SI = -0.55 eGROI = 0.00% eROI = 0.00% eROI2 = 0.00% eROI3 = 0.00% mSpread = 0.0000%\n"
     ]
    },
    {
     "name": "stderr",
     "output_type": "stream",
     "text": [
      "0it [00:00, ?it/s]\n"
     ]
    },
    {
     "name": "stdout",
     "output_type": "stream",
     "text": [
      "Epoch = 11. Time index = 0. Threshold MC = 0.5. Threshold MD = 0.8\n",
      "RD = 10 NZ = 10 NZA = 16 pNZ = 0.001% pNZA = 0.001% AD = 100.00% ADA = 62.50% NO = 1 GSP = 0.00% NSP = 0.00%\n",
      "SI2 = -0.55 SI = -0.55 eGROI = 0.00% eROI = 0.00% eROI2 = 0.00% eROI3 = 0.00% mSpread = 0.0000%\n"
     ]
    },
    {
     "name": "stderr",
     "output_type": "stream",
     "text": [
      "0it [00:00, ?it/s]\n"
     ]
    },
    {
     "name": "stdout",
     "output_type": "stream",
     "text": [
      "Epoch = 11. Time index = 0. Threshold MC = 0.5. Threshold MD = 0.9\n",
      "RD = 0 NZ = 0 NZA = 0 pNZ = 0.000% pNZA = 0.000% AD = 0.00% ADA = 0.00% NO = 1 GSP = 0.00% NSP = 0.00%\n",
      "SI2 = -0.55 SI = -0.55 eGROI = 0.00% eROI = 0.00% eROI2 = 0.00% eROI3 = 0.00% mSpread = 0.0000%\n",
      "\n"
     ]
    },
    {
     "name": "stderr",
     "output_type": "stream",
     "text": [
      "0it [00:00, ?it/s]\n"
     ]
    },
    {
     "name": "stdout",
     "output_type": "stream",
     "text": [
      "Epoch = 11. Time index = 0. Threshold MC = 0.6. Threshold MD = 0.5\n",
      "RD = 91967 NZ = 174173 NZA = 286611 pNZ = 15.162% pNZA = 24.950% AD = 52.80% ADA = 32.09% NO = 1 GSP = 0.00% NSP = 0.00%\n",
      "SI2 = -0.55 SI = -0.55 eGROI = 0.00% eROI = 0.00% eROI2 = 0.00% eROI3 = 0.00% mSpread = 0.0000%\n"
     ]
    },
    {
     "name": "stderr",
     "output_type": "stream",
     "text": [
      "100%|██████████████████████████████████████████████████████████████████████████████████████████████████████████████████████████████████| 1802/1802 [00:00<00:00, 3255.43it/s]\n"
     ]
    },
    {
     "name": "stdout",
     "output_type": "stream",
     "text": [
      "Epoch = 11. Time index = 0. Threshold MC = 0.6. Threshold MD = 0.6\n",
      "RD = 2963 NZ = 4419 NZA = 7818 pNZ = 0.385% pNZA = 0.681% AD = 67.05% ADA = 37.90% NO = 746 GSP = 62.60% NSP = 45.71%\n",
      "SI2 = -26.30 SI = -69.30 eGROI = 11.59% eROI = -11.92% eROI2 = -3.33% eROI3 = -10.79% mSpread = 0.0315%\n"
     ]
    },
    {
     "name": "stderr",
     "output_type": "stream",
     "text": [
      "0it [00:00, ?it/s]\n"
     ]
    },
    {
     "name": "stdout",
     "output_type": "stream",
     "text": [
      "Epoch = 11. Time index = 0. Threshold MC = 0.6. Threshold MD = 0.7\n",
      "RD = 408 NZ = 475 NZA = 771 pNZ = 0.041% pNZA = 0.067% AD = 85.89% ADA = 52.92% NO = 1 GSP = 0.00% NSP = 0.00%\n",
      "SI2 = -0.55 SI = -0.55 eGROI = 0.00% eROI = 0.00% eROI2 = 0.00% eROI3 = 0.00% mSpread = 0.0000%\n"
     ]
    },
    {
     "name": "stderr",
     "output_type": "stream",
     "text": [
      "0it [00:00, ?it/s]\n"
     ]
    },
    {
     "name": "stdout",
     "output_type": "stream",
     "text": [
      "Epoch = 11. Time index = 0. Threshold MC = 0.6. Threshold MD = 0.8\n",
      "RD = 8 NZ = 8 NZA = 12 pNZ = 0.001% pNZA = 0.001% AD = 100.00% ADA = 66.67% NO = 1 GSP = 0.00% NSP = 0.00%\n",
      "SI2 = -0.55 SI = -0.55 eGROI = 0.00% eROI = 0.00% eROI2 = 0.00% eROI3 = 0.00% mSpread = 0.0000%\n"
     ]
    },
    {
     "name": "stderr",
     "output_type": "stream",
     "text": [
      "0it [00:00, ?it/s]\n"
     ]
    },
    {
     "name": "stdout",
     "output_type": "stream",
     "text": [
      "Epoch = 11. Time index = 0. Threshold MC = 0.6. Threshold MD = 0.9\n",
      "RD = 0 NZ = 0 NZA = 0 pNZ = 0.000% pNZA = 0.000% AD = 0.00% ADA = 0.00% NO = 1 GSP = 0.00% NSP = 0.00%\n",
      "SI2 = -0.55 SI = -0.55 eGROI = 0.00% eROI = 0.00% eROI2 = 0.00% eROI3 = 0.00% mSpread = 0.0000%\n",
      "\n"
     ]
    },
    {
     "name": "stderr",
     "output_type": "stream",
     "text": [
      "100%|████████████████████████████████████████████████████████████████████████████████████████████████████████████████████████████████| 11198/11198 [00:04<00:00, 2520.80it/s]\n"
     ]
    },
    {
     "name": "stdout",
     "output_type": "stream",
     "text": [
      "Epoch = 11. Time index = 0. Threshold MC = 0.7. Threshold MD = 0.5\n",
      "RD = 8112 NZ = 15011 NZA = 20974 pNZ = 1.307% pNZA = 1.826% AD = 54.04% ADA = 38.68% NO = 2423 GSP = 54.11% NSP = 46.60%\n",
      "SI2 = -199.65 SI = -203.65 eGROI = 6.88% eROI = -39.54% eROI2 = -41.58% eROI3 = -65.81% mSpread = 0.0192%\n"
     ]
    },
    {
     "name": "stderr",
     "output_type": "stream",
     "text": [
      "100%|████████████████████████████████████████████████████████████████████████████████████████████████████████████████████████████████████| 190/190 [00:00<00:00, 1114.05it/s]\n"
     ]
    },
    {
     "name": "stdout",
     "output_type": "stream",
     "text": [
      "Epoch = 11. Time index = 0. Threshold MC = 0.7. Threshold MD = 0.6\n",
      "RD = 485 NZ = 730 NZA = 1002 pNZ = 0.064% pNZA = 0.087% AD = 66.44% ADA = 48.40% NO = 141 GSP = 63.83% NSP = 50.35%\n",
      "SI2 = -4.55 SI = -6.55 eGROI = 1.59% eROI = -1.80% eROI2 = -1.23% eROI3 = -2.64% mSpread = 0.0241%\n"
     ]
    },
    {
     "name": "stderr",
     "output_type": "stream",
     "text": [
      "0it [00:00, ?it/s]\n"
     ]
    },
    {
     "name": "stdout",
     "output_type": "stream",
     "text": [
      "Epoch = 11. Time index = 0. Threshold MC = 0.7. Threshold MD = 0.7\n",
      "RD = 91 NZ = 106 NZA = 130 pNZ = 0.009% pNZA = 0.011% AD = 85.85% ADA = 70.00% NO = 1 GSP = 0.00% NSP = 0.00%\n",
      "SI2 = -0.55 SI = -0.55 eGROI = 0.00% eROI = 0.00% eROI2 = 0.00% eROI3 = 0.00% mSpread = 0.0000%\n"
     ]
    },
    {
     "name": "stderr",
     "output_type": "stream",
     "text": [
      "0it [00:00, ?it/s]\n"
     ]
    },
    {
     "name": "stdout",
     "output_type": "stream",
     "text": [
      "Epoch = 11. Time index = 0. Threshold MC = 0.7. Threshold MD = 0.8\n",
      "RD = 1 NZ = 1 NZA = 1 pNZ = 0.000% pNZA = 0.000% AD = 100.00% ADA = 100.00% NO = 1 GSP = 0.00% NSP = 0.00%\n",
      "SI2 = -0.55 SI = -0.55 eGROI = 0.00% eROI = 0.00% eROI2 = 0.00% eROI3 = 0.00% mSpread = 0.0000%\n"
     ]
    },
    {
     "name": "stderr",
     "output_type": "stream",
     "text": [
      "0it [00:00, ?it/s]\n"
     ]
    },
    {
     "name": "stdout",
     "output_type": "stream",
     "text": [
      "Epoch = 11. Time index = 0. Threshold MC = 0.7. Threshold MD = 0.9\n",
      "RD = 0 NZ = 0 NZA = 0 pNZ = 0.000% pNZA = 0.000% AD = 0.00% ADA = 0.00% NO = 1 GSP = 0.00% NSP = 0.00%\n",
      "SI2 = -0.55 SI = -0.55 eGROI = 0.00% eROI = 0.00% eROI2 = 0.00% eROI3 = 0.00% mSpread = 0.0000%\n",
      "\n"
     ]
    },
    {
     "name": "stderr",
     "output_type": "stream",
     "text": [
      "100%|████████████████████████████████████████████████████████████████████████████████████████████████████████████████████████████████████| 282/282 [00:00<00:00, 1097.97it/s]\n"
     ]
    },
    {
     "name": "stdout",
     "output_type": "stream",
     "text": [
      "Epoch = 11. Time index = 0. Threshold MC = 0.8. Threshold MD = 0.5\n",
      "RD = 238 NZ = 416 NZA = 523 pNZ = 0.036% pNZA = 0.046% AD = 57.21% ADA = 45.51% NO = 206 GSP = 55.34% NSP = 50.00%\n",
      "SI2 = -9.30 SI = -10.30 eGROI = 4.99% eROI = 1.11% eROI2 = 0.87% eROI3 = -1.19% mSpread = 0.0188%\n"
     ]
    },
    {
     "name": "stderr",
     "output_type": "stream",
     "text": [
      "100%|█████████████████████████████████████████████████████████████████████████████████████████████████████████████████████████████████████████| 1/1 [00:00<00:00, 501.35it/s]\n"
     ]
    },
    {
     "name": "stdout",
     "output_type": "stream",
     "text": [
      "Epoch = 11. Time index = 0. Threshold MC = 0.8. Threshold MD = 0.6\n",
      "RD = 25 NZ = 44 NZA = 59 pNZ = 0.004% pNZA = 0.005% AD = 56.82% ADA = 42.37% NO = 2 GSP = 100.00% NSP = 100.00%\n",
      "SI2 = -0.10 SI = 0.90 eGROI = 0.18% eROI = 0.12% eROI2 = 0.14% eROI3 = 0.12% mSpread = 0.0301%\n"
     ]
    },
    {
     "name": "stderr",
     "output_type": "stream",
     "text": [
      "0it [00:00, ?it/s]\n"
     ]
    },
    {
     "name": "stdout",
     "output_type": "stream",
     "text": [
      "Epoch = 11. Time index = 0. Threshold MC = 0.8. Threshold MD = 0.7\n",
      "RD = 4 NZ = 5 NZA = 6 pNZ = 0.000% pNZA = 0.001% AD = 80.00% ADA = 66.67% NO = 1 GSP = 0.00% NSP = 0.00%\n",
      "SI2 = -0.55 SI = -0.55 eGROI = 0.00% eROI = 0.00% eROI2 = 0.00% eROI3 = 0.00% mSpread = 0.0000%\n"
     ]
    },
    {
     "name": "stderr",
     "output_type": "stream",
     "text": [
      "0it [00:00, ?it/s]\n"
     ]
    },
    {
     "name": "stdout",
     "output_type": "stream",
     "text": [
      "Epoch = 11. Time index = 0. Threshold MC = 0.8. Threshold MD = 0.8\n",
      "RD = 0 NZ = 0 NZA = 0 pNZ = 0.000% pNZA = 0.000% AD = 0.00% ADA = 0.00% NO = 1 GSP = 0.00% NSP = 0.00%\n",
      "SI2 = -0.55 SI = -0.55 eGROI = 0.00% eROI = 0.00% eROI2 = 0.00% eROI3 = 0.00% mSpread = 0.0000%\n"
     ]
    },
    {
     "name": "stderr",
     "output_type": "stream",
     "text": [
      "0it [00:00, ?it/s]\n"
     ]
    },
    {
     "name": "stdout",
     "output_type": "stream",
     "text": [
      "Epoch = 11. Time index = 0. Threshold MC = 0.8. Threshold MD = 0.9\n",
      "RD = 0 NZ = 0 NZA = 0 pNZ = 0.000% pNZA = 0.000% AD = 0.00% ADA = 0.00% NO = 1 GSP = 0.00% NSP = 0.00%\n",
      "SI2 = -0.55 SI = -0.55 eGROI = 0.00% eROI = 0.00% eROI2 = 0.00% eROI3 = 0.00% mSpread = 0.0000%\n",
      "\n"
     ]
    },
    {
     "name": "stderr",
     "output_type": "stream",
     "text": [
      "0it [00:00, ?it/s]\n"
     ]
    },
    {
     "name": "stdout",
     "output_type": "stream",
     "text": [
      "Epoch = 11. Time index = 0. Threshold MC = 0.9. Threshold MD = 0.5\n",
      "RD = 0 NZ = 0 NZA = 0 pNZ = 0.000% pNZA = 0.000% AD = 0.00% ADA = 0.00% NO = 1 GSP = 0.00% NSP = 0.00%\n",
      "SI2 = -0.55 SI = -0.55 eGROI = 0.00% eROI = 0.00% eROI2 = 0.00% eROI3 = 0.00% mSpread = 0.0000%\n"
     ]
    },
    {
     "name": "stderr",
     "output_type": "stream",
     "text": [
      "0it [00:00, ?it/s]\n"
     ]
    },
    {
     "name": "stdout",
     "output_type": "stream",
     "text": [
      "Epoch = 11. Time index = 0. Threshold MC = 0.9. Threshold MD = 0.6\n",
      "RD = 0 NZ = 0 NZA = 0 pNZ = 0.000% pNZA = 0.000% AD = 0.00% ADA = 0.00% NO = 1 GSP = 0.00% NSP = 0.00%\n",
      "SI2 = -0.55 SI = -0.55 eGROI = 0.00% eROI = 0.00% eROI2 = 0.00% eROI3 = 0.00% mSpread = 0.0000%\n"
     ]
    },
    {
     "name": "stderr",
     "output_type": "stream",
     "text": [
      "0it [00:00, ?it/s]\n"
     ]
    },
    {
     "name": "stdout",
     "output_type": "stream",
     "text": [
      "Epoch = 11. Time index = 0. Threshold MC = 0.9. Threshold MD = 0.7\n",
      "RD = 0 NZ = 0 NZA = 0 pNZ = 0.000% pNZA = 0.000% AD = 0.00% ADA = 0.00% NO = 1 GSP = 0.00% NSP = 0.00%\n",
      "SI2 = -0.55 SI = -0.55 eGROI = 0.00% eROI = 0.00% eROI2 = 0.00% eROI3 = 0.00% mSpread = 0.0000%\n"
     ]
    },
    {
     "name": "stderr",
     "output_type": "stream",
     "text": [
      "0it [00:00, ?it/s]\n"
     ]
    },
    {
     "name": "stdout",
     "output_type": "stream",
     "text": [
      "Epoch = 11. Time index = 0. Threshold MC = 0.9. Threshold MD = 0.8\n",
      "RD = 0 NZ = 0 NZA = 0 pNZ = 0.000% pNZA = 0.000% AD = 0.00% ADA = 0.00% NO = 1 GSP = 0.00% NSP = 0.00%\n",
      "SI2 = -0.55 SI = -0.55 eGROI = 0.00% eROI = 0.00% eROI2 = 0.00% eROI3 = 0.00% mSpread = 0.0000%\n"
     ]
    },
    {
     "name": "stderr",
     "output_type": "stream",
     "text": [
      "0it [00:00, ?it/s]\n"
     ]
    },
    {
     "name": "stdout",
     "output_type": "stream",
     "text": [
      "Epoch = 11. Time index = 0. Threshold MC = 0.9. Threshold MD = 0.9\n",
      "RD = 0 NZ = 0 NZA = 0 pNZ = 0.000% pNZA = 0.000% AD = 0.00% ADA = 0.00% NO = 1 GSP = 0.00% NSP = 0.00%\n",
      "SI2 = -0.55 SI = -0.55 eGROI = 0.00% eROI = 0.00% eROI2 = 0.00% eROI3 = 0.00% mSpread = 0.0000%\n",
      "\n"
     ]
    },
    {
     "name": "stderr",
     "output_type": "stream",
     "text": [
      "0it [00:00, ?it/s]\n"
     ]
    },
    {
     "name": "stdout",
     "output_type": "stream",
     "text": [
      "Epoch = 11. Time index = 1. Threshold MC = 0.5. Threshold MD = 0.5\n",
      "J_test = 6.338664013406505, J_train = 6.512098640212275, Accuracy=0.5360514584328995\n",
      "RD = 274447 NZ = 527677 NZA = 1019872 pNZ = 45.936% pNZA = 88.782% AD = 52.01% ADA = 26.91% NO = 1 GSP = 0.00% NSP = 0.00%\n",
      "SI2 = -0.55 SI = -0.55 eGROI = 0.00% eROI = 0.00% eROI2 = 0.00% eROI3 = 0.00% mSpread = 0.0000%\n"
     ]
    },
    {
     "name": "stderr",
     "output_type": "stream",
     "text": [
      "100%|██████████████████████████████████████████████████████████████████████████████████████████████████████████████████████████████████| 9846/9846 [00:03<00:00, 3242.95it/s]\n"
     ]
    },
    {
     "name": "stdout",
     "output_type": "stream",
     "text": [
      "Epoch = 11. Time index = 1. Threshold MC = 0.5. Threshold MD = 0.6\n",
      "RD = 6900 NZ = 10171 NZA = 22297 pNZ = 0.885% pNZA = 1.941% AD = 67.84% ADA = 30.95% NO = 2156 GSP = 61.83% NSP = 41.33%\n",
      "SI2 = -102.80 SI = -294.80 eGROI = 31.76% eROI = -40.79% eROI2 = -11.36% eROI3 = -32.92% mSpread = 0.0336%\n"
     ]
    },
    {
     "name": "stderr",
     "output_type": "stream",
     "text": [
      "100%|██████████████████████████████████████████████████████████████████████████████████████████████████████████████████████████████████████| 20/20 [00:00<00:00, 2005.26it/s]\n"
     ]
    },
    {
     "name": "stdout",
     "output_type": "stream",
     "text": [
      "Epoch = 11. Time index = 1. Threshold MC = 0.5. Threshold MD = 0.7\n",
      "RD = 932 NZ = 1136 NZA = 2345 pNZ = 0.099% pNZA = 0.204% AD = 82.04% ADA = 39.74% NO = 16 GSP = 87.50% NSP = 37.50%\n",
      "SI2 = 3.20 SI = -2.80 eGROI = 0.61% eROI = -0.11% eROI2 = 0.29% eROI3 = 0.13% mSpread = 0.0449%\n"
     ]
    },
    {
     "name": "stderr",
     "output_type": "stream",
     "text": [
      "0it [00:00, ?it/s]\n"
     ]
    },
    {
     "name": "stdout",
     "output_type": "stream",
     "text": [
      "Epoch = 11. Time index = 1. Threshold MC = 0.5. Threshold MD = 0.8\n",
      "RD = 191 NZ = 211 NZA = 356 pNZ = 0.018% pNZA = 0.031% AD = 90.52% ADA = 53.65% NO = 1 GSP = 0.00% NSP = 0.00%\n",
      "SI2 = -0.55 SI = -0.55 eGROI = 0.00% eROI = 0.00% eROI2 = 0.00% eROI3 = 0.00% mSpread = 0.0000%\n"
     ]
    },
    {
     "name": "stderr",
     "output_type": "stream",
     "text": [
      "0it [00:00, ?it/s]\n"
     ]
    },
    {
     "name": "stdout",
     "output_type": "stream",
     "text": [
      "Epoch = 11. Time index = 1. Threshold MC = 0.5. Threshold MD = 0.9\n",
      "RD = 0 NZ = 0 NZA = 0 pNZ = 0.000% pNZA = 0.000% AD = 0.00% ADA = 0.00% NO = 1 GSP = 0.00% NSP = 0.00%\n",
      "SI2 = -0.55 SI = -0.55 eGROI = 0.00% eROI = 0.00% eROI2 = 0.00% eROI3 = 0.00% mSpread = 0.0000%\n",
      "\n"
     ]
    },
    {
     "name": "stderr",
     "output_type": "stream",
     "text": [
      "0it [00:00, ?it/s]\n"
     ]
    },
    {
     "name": "stdout",
     "output_type": "stream",
     "text": [
      "Epoch = 11. Time index = 1. Threshold MC = 0.6. Threshold MD = 0.5\n",
      "RD = 87364 NZ = 164206 NZA = 270625 pNZ = 14.295% pNZA = 23.559% AD = 53.20% ADA = 32.28% NO = 1 GSP = 0.00% NSP = 0.00%\n",
      "SI2 = -0.55 SI = -0.55 eGROI = 0.00% eROI = 0.00% eROI2 = 0.00% eROI3 = 0.00% mSpread = 0.0000%\n"
     ]
    },
    {
     "name": "stderr",
     "output_type": "stream",
     "text": [
      "100%|██████████████████████████████████████████████████████████████████████████████████████████████████████████████████████████████████| 3907/3907 [00:01<00:00, 2959.57it/s]\n"
     ]
    },
    {
     "name": "stdout",
     "output_type": "stream",
     "text": [
      "Epoch = 11. Time index = 1. Threshold MC = 0.6. Threshold MD = 0.6\n",
      "RD = 3004 NZ = 4426 NZA = 7963 pNZ = 0.385% pNZA = 0.693% AD = 67.87% ADA = 37.72% NO = 1158 GSP = 62.35% NSP = 43.96%\n",
      "SI2 = -39.90 SI = -127.90 eGROI = 17.35% eROI = -19.98% eROI2 = -5.81% eROI3 = -17.39% mSpread = 0.0322%\n"
     ]
    },
    {
     "name": "stderr",
     "output_type": "stream",
     "text": [
      "100%|█████████████████████████████████████████████████████████████████████████████████████████████████████████████████████████████████████████| 5/5 [00:00<00:00, 835.52it/s]\n"
     ]
    },
    {
     "name": "stdout",
     "output_type": "stream",
     "text": [
      "Epoch = 11. Time index = 1. Threshold MC = 0.6. Threshold MD = 0.7\n",
      "RD = 557 NZ = 666 NZA = 1109 pNZ = 0.058% pNZA = 0.097% AD = 83.63% ADA = 50.23% NO = 6 GSP = 100.00% NSP = 50.00%\n",
      "SI2 = 1.70 SI = -0.30 eGROI = 0.28% eROI = 0.00% eROI2 = 0.16% eROI3 = 0.10% mSpread = 0.0471%\n"
     ]
    },
    {
     "name": "stderr",
     "output_type": "stream",
     "text": [
      "0it [00:00, ?it/s]\n"
     ]
    },
    {
     "name": "stdout",
     "output_type": "stream",
     "text": [
      "Epoch = 11. Time index = 1. Threshold MC = 0.6. Threshold MD = 0.8\n",
      "RD = 152 NZ = 167 NZA = 251 pNZ = 0.015% pNZA = 0.022% AD = 91.02% ADA = 60.56% NO = 1 GSP = 0.00% NSP = 0.00%\n",
      "SI2 = -0.55 SI = -0.55 eGROI = 0.00% eROI = 0.00% eROI2 = 0.00% eROI3 = 0.00% mSpread = 0.0000%\n"
     ]
    },
    {
     "name": "stderr",
     "output_type": "stream",
     "text": [
      "0it [00:00, ?it/s]\n"
     ]
    },
    {
     "name": "stdout",
     "output_type": "stream",
     "text": [
      "Epoch = 11. Time index = 1. Threshold MC = 0.6. Threshold MD = 0.9\n",
      "RD = 0 NZ = 0 NZA = 0 pNZ = 0.000% pNZA = 0.000% AD = 0.00% ADA = 0.00% NO = 1 GSP = 0.00% NSP = 0.00%\n",
      "SI2 = -0.55 SI = -0.55 eGROI = 0.00% eROI = 0.00% eROI2 = 0.00% eROI3 = 0.00% mSpread = 0.0000%\n",
      "\n"
     ]
    },
    {
     "name": "stderr",
     "output_type": "stream",
     "text": [
      "100%|██████████████████████████████████████████████████████████████████████████████████████████████████████████████████████████████████| 9004/9004 [00:02<00:00, 3336.17it/s]\n"
     ]
    },
    {
     "name": "stdout",
     "output_type": "stream",
     "text": [
      "Epoch = 11. Time index = 1. Threshold MC = 0.7. Threshold MD = 0.5\n",
      "RD = 6007 NZ = 10845 NZA = 14959 pNZ = 0.944% pNZA = 1.302% AD = 55.39% ADA = 40.16% NO = 1812 GSP = 53.20% NSP = 45.70%\n",
      "SI2 = -155.60 SI = -168.60 eGROI = -0.19% eROI = -35.92% eROI2 = -36.43% eROI3 = -54.55% mSpread = 0.0197%\n"
     ]
    },
    {
     "name": "stderr",
     "output_type": "stream",
     "text": [
      "100%|████████████████████████████████████████████████████████████████████████████████████████████████████████████████████████████████████| 361/361 [00:00<00:00, 2418.94it/s]\n"
     ]
    },
    {
     "name": "stdout",
     "output_type": "stream",
     "text": [
      "Epoch = 11. Time index = 1. Threshold MC = 0.7. Threshold MD = 0.6\n",
      "RD = 575 NZ = 836 NZA = 1152 pNZ = 0.073% pNZA = 0.100% AD = 68.78% ADA = 49.91% NO = 205 GSP = 64.39% NSP = 48.29%\n",
      "SI2 = -5.75 SI = -13.75 eGROI = 3.98% eROI = -1.24% eROI2 = -0.12% eROI3 = -2.17% mSpread = 0.0255%\n"
     ]
    },
    {
     "name": "stderr",
     "output_type": "stream",
     "text": [
      "0it [00:00, ?it/s]\n"
     ]
    },
    {
     "name": "stdout",
     "output_type": "stream",
     "text": [
      "Epoch = 11. Time index = 1. Threshold MC = 0.7. Threshold MD = 0.7\n",
      "RD = 198 NZ = 229 NZA = 296 pNZ = 0.020% pNZA = 0.026% AD = 86.46% ADA = 66.89% NO = 1 GSP = 0.00% NSP = 0.00%\n",
      "SI2 = -0.55 SI = -0.55 eGROI = 0.00% eROI = 0.00% eROI2 = 0.00% eROI3 = 0.00% mSpread = 0.0000%\n"
     ]
    },
    {
     "name": "stderr",
     "output_type": "stream",
     "text": [
      "0it [00:00, ?it/s]\n"
     ]
    },
    {
     "name": "stdout",
     "output_type": "stream",
     "text": [
      "Epoch = 11. Time index = 1. Threshold MC = 0.7. Threshold MD = 0.8\n",
      "RD = 87 NZ = 92 NZA = 117 pNZ = 0.008% pNZA = 0.010% AD = 94.57% ADA = 74.36% NO = 1 GSP = 0.00% NSP = 0.00%\n",
      "SI2 = -0.55 SI = -0.55 eGROI = 0.00% eROI = 0.00% eROI2 = 0.00% eROI3 = 0.00% mSpread = 0.0000%\n"
     ]
    },
    {
     "name": "stderr",
     "output_type": "stream",
     "text": [
      "0it [00:00, ?it/s]\n"
     ]
    },
    {
     "name": "stdout",
     "output_type": "stream",
     "text": [
      "Epoch = 11. Time index = 1. Threshold MC = 0.7. Threshold MD = 0.9\n",
      "RD = 0 NZ = 0 NZA = 0 pNZ = 0.000% pNZA = 0.000% AD = 0.00% ADA = 0.00% NO = 1 GSP = 0.00% NSP = 0.00%\n",
      "SI2 = -0.55 SI = -0.55 eGROI = 0.00% eROI = 0.00% eROI2 = 0.00% eROI3 = 0.00% mSpread = 0.0000%\n",
      "\n"
     ]
    },
    {
     "name": "stderr",
     "output_type": "stream",
     "text": [
      "100%|████████████████████████████████████████████████████████████████████████████████████████████████████████████████████████████████████| 361/361 [00:00<00:00, 2531.17it/s]\n"
     ]
    },
    {
     "name": "stdout",
     "output_type": "stream",
     "text": [
      "Epoch = 11. Time index = 1. Threshold MC = 0.8. Threshold MD = 0.5\n",
      "RD = 278 NZ = 450 NZA = 567 pNZ = 0.039% pNZA = 0.049% AD = 61.78% ADA = 49.03% NO = 228 GSP = 58.33% NSP = 52.19%\n",
      "SI2 = -6.40 SI = -6.40 eGROI = 5.76% eROI = 1.45% eROI2 = 1.20% eROI3 = -1.08% mSpread = 0.0189%\n"
     ]
    },
    {
     "name": "stderr",
     "output_type": "stream",
     "text": [
      "100%|████████████████████████████████████████████████████████████████████████████████████████████████████████████████████████████████████████| 6/6 [00:00<00:00, 1203.76it/s]\n"
     ]
    },
    {
     "name": "stdout",
     "output_type": "stream",
     "text": [
      "Epoch = 11. Time index = 1. Threshold MC = 0.8. Threshold MD = 0.6\n",
      "RD = 54 NZ = 74 NZA = 95 pNZ = 0.006% pNZA = 0.008% AD = 72.97% ADA = 56.84% NO = 7 GSP = 71.43% NSP = 57.14%\n",
      "SI2 = 0.15 SI = 0.15 eGROI = 0.27% eROI = 0.07% eROI2 = 0.13% eROI3 = 0.06% mSpread = 0.0291%\n"
     ]
    },
    {
     "name": "stderr",
     "output_type": "stream",
     "text": [
      "0it [00:00, ?it/s]\n"
     ]
    },
    {
     "name": "stdout",
     "output_type": "stream",
     "text": [
      "Epoch = 11. Time index = 1. Threshold MC = 0.8. Threshold MD = 0.7\n",
      "RD = 24 NZ = 30 NZA = 41 pNZ = 0.003% pNZA = 0.004% AD = 80.00% ADA = 58.54% NO = 1 GSP = 0.00% NSP = 0.00%\n",
      "SI2 = -0.55 SI = -0.55 eGROI = 0.00% eROI = 0.00% eROI2 = 0.00% eROI3 = 0.00% mSpread = 0.0000%\n"
     ]
    },
    {
     "name": "stderr",
     "output_type": "stream",
     "text": [
      "0it [00:00, ?it/s]\n"
     ]
    },
    {
     "name": "stdout",
     "output_type": "stream",
     "text": [
      "Epoch = 11. Time index = 1. Threshold MC = 0.8. Threshold MD = 0.8\n",
      "RD = 9 NZ = 11 NZA = 13 pNZ = 0.001% pNZA = 0.001% AD = 81.82% ADA = 69.23% NO = 1 GSP = 0.00% NSP = 0.00%\n",
      "SI2 = -0.55 SI = -0.55 eGROI = 0.00% eROI = 0.00% eROI2 = 0.00% eROI3 = 0.00% mSpread = 0.0000%\n"
     ]
    },
    {
     "name": "stderr",
     "output_type": "stream",
     "text": [
      "0it [00:00, ?it/s]\n"
     ]
    },
    {
     "name": "stdout",
     "output_type": "stream",
     "text": [
      "Epoch = 11. Time index = 1. Threshold MC = 0.8. Threshold MD = 0.9\n",
      "RD = 0 NZ = 0 NZA = 0 pNZ = 0.000% pNZA = 0.000% AD = 0.00% ADA = 0.00% NO = 1 GSP = 0.00% NSP = 0.00%\n",
      "SI2 = -0.55 SI = -0.55 eGROI = 0.00% eROI = 0.00% eROI2 = 0.00% eROI3 = 0.00% mSpread = 0.0000%\n",
      "\n"
     ]
    },
    {
     "name": "stderr",
     "output_type": "stream",
     "text": [
      "0it [00:00, ?it/s]\n"
     ]
    },
    {
     "name": "stdout",
     "output_type": "stream",
     "text": [
      "Epoch = 11. Time index = 1. Threshold MC = 0.9. Threshold MD = 0.5\n",
      "RD = 0 NZ = 0 NZA = 0 pNZ = 0.000% pNZA = 0.000% AD = 0.00% ADA = 0.00% NO = 1 GSP = 0.00% NSP = 0.00%\n",
      "SI2 = -0.55 SI = -0.55 eGROI = 0.00% eROI = 0.00% eROI2 = 0.00% eROI3 = 0.00% mSpread = 0.0000%\n"
     ]
    },
    {
     "name": "stderr",
     "output_type": "stream",
     "text": [
      "0it [00:00, ?it/s]\n"
     ]
    },
    {
     "name": "stdout",
     "output_type": "stream",
     "text": [
      "Epoch = 11. Time index = 1. Threshold MC = 0.9. Threshold MD = 0.6\n",
      "RD = 0 NZ = 0 NZA = 0 pNZ = 0.000% pNZA = 0.000% AD = 0.00% ADA = 0.00% NO = 1 GSP = 0.00% NSP = 0.00%\n",
      "SI2 = -0.55 SI = -0.55 eGROI = 0.00% eROI = 0.00% eROI2 = 0.00% eROI3 = 0.00% mSpread = 0.0000%\n"
     ]
    },
    {
     "name": "stderr",
     "output_type": "stream",
     "text": [
      "0it [00:00, ?it/s]\n"
     ]
    },
    {
     "name": "stdout",
     "output_type": "stream",
     "text": [
      "Epoch = 11. Time index = 1. Threshold MC = 0.9. Threshold MD = 0.7\n",
      "RD = 0 NZ = 0 NZA = 0 pNZ = 0.000% pNZA = 0.000% AD = 0.00% ADA = 0.00% NO = 1 GSP = 0.00% NSP = 0.00%\n",
      "SI2 = -0.55 SI = -0.55 eGROI = 0.00% eROI = 0.00% eROI2 = 0.00% eROI3 = 0.00% mSpread = 0.0000%\n"
     ]
    },
    {
     "name": "stderr",
     "output_type": "stream",
     "text": [
      "0it [00:00, ?it/s]\n"
     ]
    },
    {
     "name": "stdout",
     "output_type": "stream",
     "text": [
      "Epoch = 11. Time index = 1. Threshold MC = 0.9. Threshold MD = 0.8\n",
      "RD = 0 NZ = 0 NZA = 0 pNZ = 0.000% pNZA = 0.000% AD = 0.00% ADA = 0.00% NO = 1 GSP = 0.00% NSP = 0.00%\n",
      "SI2 = -0.55 SI = -0.55 eGROI = 0.00% eROI = 0.00% eROI2 = 0.00% eROI3 = 0.00% mSpread = 0.0000%\n"
     ]
    },
    {
     "name": "stderr",
     "output_type": "stream",
     "text": [
      "0it [00:00, ?it/s]\n"
     ]
    },
    {
     "name": "stdout",
     "output_type": "stream",
     "text": [
      "Epoch = 11. Time index = 1. Threshold MC = 0.9. Threshold MD = 0.9\n",
      "RD = 0 NZ = 0 NZA = 0 pNZ = 0.000% pNZA = 0.000% AD = 0.00% ADA = 0.00% NO = 1 GSP = 0.00% NSP = 0.00%\n",
      "SI2 = -0.55 SI = -0.55 eGROI = 0.00% eROI = 0.00% eROI2 = 0.00% eROI3 = 0.00% mSpread = 0.0000%\n",
      "\n"
     ]
    },
    {
     "name": "stderr",
     "output_type": "stream",
     "text": [
      "0it [00:00, ?it/s]\n"
     ]
    },
    {
     "name": "stdout",
     "output_type": "stream",
     "text": [
      "Epoch = 11. Time index = 2. Threshold MC = 0.5. Threshold MD = 0.5\n",
      "J_test = 6.338664013406505, J_train = 6.512098640212275, Accuracy=0.5380675927304256\n",
      "RD = 272265 NZ = 523231 NZA = 1008664 pNZ = 45.549% pNZA = 87.807% AD = 52.04% ADA = 26.99% NO = 1 GSP = 0.00% NSP = 0.00%\n",
      "SI2 = -0.55 SI = -0.55 eGROI = 0.00% eROI = 0.00% eROI2 = 0.00% eROI3 = 0.00% mSpread = 0.0000%\n"
     ]
    },
    {
     "name": "stderr",
     "output_type": "stream",
     "text": [
      "100%|████████████████████████████████████████████████████████████████████████████████████████████████████████████████████████████████| 11787/11787 [00:03<00:00, 3022.29it/s]\n"
     ]
    },
    {
     "name": "stdout",
     "output_type": "stream",
     "text": [
      "Epoch = 11. Time index = 2. Threshold MC = 0.5. Threshold MD = 0.6\n",
      "RD = 7555 NZ = 11063 NZA = 24096 pNZ = 0.963% pNZA = 2.098% AD = 68.29% ADA = 31.35% NO = 2379 GSP = 62.51% NSP = 41.99%\n",
      "SI2 = -104.45 SI = -309.45 eGROI = 38.77% eROI = -40.10% eROI2 = -8.81% eROI3 = -32.60% mSpread = 0.0332%\n"
     ]
    },
    {
     "name": "stderr",
     "output_type": "stream",
     "text": [
      "100%|██████████████████████████████████████████████████████████████████████████████████████████████████████████████████████████████████████| 72/72 [00:00<00:00, 1919.30it/s]\n"
     ]
    },
    {
     "name": "stdout",
     "output_type": "stream",
     "text": [
      "Epoch = 11. Time index = 2. Threshold MC = 0.5. Threshold MD = 0.7\n",
      "RD = 1112 NZ = 1353 NZA = 2950 pNZ = 0.118% pNZA = 0.257% AD = 82.19% ADA = 37.69% NO = 49 GSP = 71.43% NSP = 28.57%\n",
      "SI2 = -1.95 SI = -12.95 eGROI = 0.60% eROI = -1.31% eROI2 = -0.38% eROI3 = -0.87% mSpread = 0.0389%\n"
     ]
    },
    {
     "name": "stderr",
     "output_type": "stream",
     "text": [
      "0it [00:00, ?it/s]\n"
     ]
    },
    {
     "name": "stdout",
     "output_type": "stream",
     "text": [
      "Epoch = 11. Time index = 2. Threshold MC = 0.5. Threshold MD = 0.8\n",
      "RD = 198 NZ = 217 NZA = 384 pNZ = 0.019% pNZA = 0.033% AD = 91.24% ADA = 51.56% NO = 1 GSP = 0.00% NSP = 0.00%\n",
      "SI2 = -0.55 SI = -0.55 eGROI = 0.00% eROI = 0.00% eROI2 = 0.00% eROI3 = 0.00% mSpread = 0.0000%\n"
     ]
    },
    {
     "name": "stderr",
     "output_type": "stream",
     "text": [
      "0it [00:00, ?it/s]\n"
     ]
    },
    {
     "name": "stdout",
     "output_type": "stream",
     "text": [
      "Epoch = 11. Time index = 2. Threshold MC = 0.5. Threshold MD = 0.9\n",
      "RD = 0 NZ = 0 NZA = 0 pNZ = 0.000% pNZA = 0.000% AD = 0.00% ADA = 0.00% NO = 1 GSP = 0.00% NSP = 0.00%\n",
      "SI2 = -0.55 SI = -0.55 eGROI = 0.00% eROI = 0.00% eROI2 = 0.00% eROI3 = 0.00% mSpread = 0.0000%\n",
      "\n"
     ]
    },
    {
     "name": "stderr",
     "output_type": "stream",
     "text": [
      "0it [00:00, ?it/s]\n"
     ]
    },
    {
     "name": "stdout",
     "output_type": "stream",
     "text": [
      "Epoch = 11. Time index = 2. Threshold MC = 0.6. Threshold MD = 0.5\n",
      "RD = 85874 NZ = 161569 NZA = 267112 pNZ = 14.065% pNZA = 23.253% AD = 53.15% ADA = 32.15% NO = 1 GSP = 0.00% NSP = 0.00%\n",
      "SI2 = -0.55 SI = -0.55 eGROI = 0.00% eROI = 0.00% eROI2 = 0.00% eROI3 = 0.00% mSpread = 0.0000%\n"
     ]
    },
    {
     "name": "stderr",
     "output_type": "stream",
     "text": [
      "100%|██████████████████████████████████████████████████████████████████████████████████████████████████████████████████████████████████| 6464/6464 [00:02<00:00, 3123.14it/s]\n"
     ]
    },
    {
     "name": "stdout",
     "output_type": "stream",
     "text": [
      "Epoch = 11. Time index = 2. Threshold MC = 0.6. Threshold MD = 0.6\n",
      "RD = 3817 NZ = 5609 NZA = 10367 pNZ = 0.488% pNZA = 0.902% AD = 68.05% ADA = 36.82% NO = 1622 GSP = 62.52% NSP = 42.54%\n",
      "SI2 = -69.10 SI = -202.10 eGROI = 27.65% eROI = -25.01% eROI2 = -4.79% eROI3 = -21.01% mSpread = 0.0325%\n"
     ]
    },
    {
     "name": "stderr",
     "output_type": "stream",
     "text": [
      "100%|██████████████████████████████████████████████████████████████████████████████████████████████████████████████████████████████████████| 34/34 [00:00<00:00, 1794.17it/s]\n"
     ]
    },
    {
     "name": "stdout",
     "output_type": "stream",
     "text": [
      "Epoch = 11. Time index = 2. Threshold MC = 0.6. Threshold MD = 0.7\n",
      "RD = 588 NZ = 719 NZA = 1208 pNZ = 0.063% pNZA = 0.105% AD = 81.78% ADA = 48.68% NO = 26 GSP = 80.77% NSP = 34.62%\n",
      "SI2 = -0.30 SI = -5.30 eGROI = 0.53% eROI = -0.39% eROI2 = 0.01% eROI3 = -0.25% mSpread = 0.0352%\n"
     ]
    },
    {
     "name": "stderr",
     "output_type": "stream",
     "text": [
      "0it [00:00, ?it/s]\n"
     ]
    },
    {
     "name": "stdout",
     "output_type": "stream",
     "text": [
      "Epoch = 11. Time index = 2. Threshold MC = 0.6. Threshold MD = 0.8\n",
      "RD = 155 NZ = 166 NZA = 246 pNZ = 0.014% pNZA = 0.021% AD = 93.37% ADA = 63.01% NO = 1 GSP = 0.00% NSP = 0.00%\n",
      "SI2 = -0.55 SI = -0.55 eGROI = 0.00% eROI = 0.00% eROI2 = 0.00% eROI3 = 0.00% mSpread = 0.0000%\n"
     ]
    },
    {
     "name": "stderr",
     "output_type": "stream",
     "text": [
      "0it [00:00, ?it/s]\n"
     ]
    },
    {
     "name": "stdout",
     "output_type": "stream",
     "text": [
      "Epoch = 11. Time index = 2. Threshold MC = 0.6. Threshold MD = 0.9\n",
      "RD = 0 NZ = 0 NZA = 0 pNZ = 0.000% pNZA = 0.000% AD = 0.00% ADA = 0.00% NO = 1 GSP = 0.00% NSP = 0.00%\n",
      "SI2 = -0.55 SI = -0.55 eGROI = 0.00% eROI = 0.00% eROI2 = 0.00% eROI3 = 0.00% mSpread = 0.0000%\n",
      "\n"
     ]
    },
    {
     "name": "stderr",
     "output_type": "stream",
     "text": [
      "100%|██████████████████████████████████████████████████████████████████████████████████████████████████████████████████████████████████| 8449/8449 [00:02<00:00, 3151.78it/s]\n"
     ]
    },
    {
     "name": "stdout",
     "output_type": "stream",
     "text": [
      "Epoch = 11. Time index = 2. Threshold MC = 0.7. Threshold MD = 0.5\n",
      "RD = 5370 NZ = 9666 NZA = 13264 pNZ = 0.841% pNZA = 1.155% AD = 55.56% ADA = 40.49% NO = 1721 GSP = 53.52% NSP = 46.02%\n",
      "SI2 = -136.55 SI = -154.55 eGROI = 1.75% eROI = -32.27% eROI2 = -32.67% eROI3 = -49.88% mSpread = 0.0198%\n"
     ]
    },
    {
     "name": "stderr",
     "output_type": "stream",
     "text": [
      "100%|████████████████████████████████████████████████████████████████████████████████████████████████████████████████████████████████████| 733/733 [00:00<00:00, 2275.36it/s]\n"
     ]
    },
    {
     "name": "stdout",
     "output_type": "stream",
     "text": [
      "Epoch = 11. Time index = 2. Threshold MC = 0.7. Threshold MD = 0.6\n",
      "RD = 763 NZ = 1091 NZA = 1520 pNZ = 0.095% pNZA = 0.132% AD = 69.94% ADA = 50.20% NO = 324 GSP = 65.12% NSP = 50.93%\n",
      "SI2 = -1.20 SI = -13.20 eGROI = 8.20% eROI = 0.23% eROI2 = 1.72% eROI3 = -1.52% mSpread = 0.0246%\n"
     ]
    },
    {
     "name": "stderr",
     "output_type": "stream",
     "text": [
      "0it [00:00, ?it/s]\n"
     ]
    },
    {
     "name": "stdout",
     "output_type": "stream",
     "text": [
      "Epoch = 11. Time index = 2. Threshold MC = 0.7. Threshold MD = 0.7\n",
      "RD = 220 NZ = 257 NZA = 333 pNZ = 0.022% pNZA = 0.029% AD = 85.60% ADA = 66.07% NO = 1 GSP = 0.00% NSP = 0.00%\n",
      "SI2 = -0.55 SI = -0.55 eGROI = 0.00% eROI = 0.00% eROI2 = 0.00% eROI3 = 0.00% mSpread = 0.0000%\n"
     ]
    },
    {
     "name": "stderr",
     "output_type": "stream",
     "text": [
      "0it [00:00, ?it/s]\n"
     ]
    },
    {
     "name": "stdout",
     "output_type": "stream",
     "text": [
      "Epoch = 11. Time index = 2. Threshold MC = 0.7. Threshold MD = 0.8\n",
      "RD = 99 NZ = 107 NZA = 134 pNZ = 0.009% pNZA = 0.012% AD = 92.52% ADA = 73.88% NO = 1 GSP = 0.00% NSP = 0.00%\n",
      "SI2 = -0.55 SI = -0.55 eGROI = 0.00% eROI = 0.00% eROI2 = 0.00% eROI3 = 0.00% mSpread = 0.0000%\n"
     ]
    },
    {
     "name": "stderr",
     "output_type": "stream",
     "text": [
      "0it [00:00, ?it/s]\n"
     ]
    },
    {
     "name": "stdout",
     "output_type": "stream",
     "text": [
      "Epoch = 11. Time index = 2. Threshold MC = 0.7. Threshold MD = 0.9\n",
      "RD = 0 NZ = 0 NZA = 0 pNZ = 0.000% pNZA = 0.000% AD = 0.00% ADA = 0.00% NO = 1 GSP = 0.00% NSP = 0.00%\n",
      "SI2 = -0.55 SI = -0.55 eGROI = 0.00% eROI = 0.00% eROI2 = 0.00% eROI3 = 0.00% mSpread = 0.0000%\n",
      "\n"
     ]
    },
    {
     "name": "stderr",
     "output_type": "stream",
     "text": [
      "100%|████████████████████████████████████████████████████████████████████████████████████████████████████████████████████████████████████| 425/425 [00:00<00:00, 2242.77it/s]\n"
     ]
    },
    {
     "name": "stdout",
     "output_type": "stream",
     "text": [
      "Epoch = 11. Time index = 2. Threshold MC = 0.8. Threshold MD = 0.5\n",
      "RD = 303 NZ = 498 NZA = 632 pNZ = 0.043% pNZA = 0.055% AD = 60.84% ADA = 47.94% NO = 262 GSP = 58.40% NSP = 51.91%\n",
      "SI2 = -7.10 SI = -8.10 eGROI = 5.49% eROI = 0.43% eROI2 = 0.25% eROI3 = -2.37% mSpread = 0.0193%\n"
     ]
    },
    {
     "name": "stderr",
     "output_type": "stream",
     "text": [
      "100%|██████████████████████████████████████████████████████████████████████████████████████████████████████████████████████████████████████| 26/26 [00:00<00:00, 1303.51it/s]\n"
     ]
    },
    {
     "name": "stdout",
     "output_type": "stream",
     "text": [
      "Epoch = 11. Time index = 2. Threshold MC = 0.8. Threshold MD = 0.6\n",
      "RD = 83 NZ = 103 NZA = 132 pNZ = 0.009% pNZA = 0.011% AD = 80.58% ADA = 62.88% NO = 22 GSP = 72.73% NSP = 59.09%\n",
      "SI2 = 1.90 SI = 0.90 eGROI = 1.09% eROI = 0.57% eROI2 = 0.65% eROI3 = 0.43% mSpread = 0.0234%\n"
     ]
    },
    {
     "name": "stderr",
     "output_type": "stream",
     "text": [
      "0it [00:00, ?it/s]\n"
     ]
    },
    {
     "name": "stdout",
     "output_type": "stream",
     "text": [
      "Epoch = 11. Time index = 2. Threshold MC = 0.8. Threshold MD = 0.7\n",
      "RD = 36 NZ = 44 NZA = 60 pNZ = 0.004% pNZA = 0.005% AD = 81.82% ADA = 60.00% NO = 1 GSP = 0.00% NSP = 0.00%\n",
      "SI2 = -0.55 SI = -0.55 eGROI = 0.00% eROI = 0.00% eROI2 = 0.00% eROI3 = 0.00% mSpread = 0.0000%\n"
     ]
    },
    {
     "name": "stderr",
     "output_type": "stream",
     "text": [
      "0it [00:00, ?it/s]\n"
     ]
    },
    {
     "name": "stdout",
     "output_type": "stream",
     "text": [
      "Epoch = 11. Time index = 2. Threshold MC = 0.8. Threshold MD = 0.8\n",
      "RD = 20 NZ = 23 NZA = 27 pNZ = 0.002% pNZA = 0.002% AD = 86.96% ADA = 74.07% NO = 1 GSP = 0.00% NSP = 0.00%\n",
      "SI2 = -0.55 SI = -0.55 eGROI = 0.00% eROI = 0.00% eROI2 = 0.00% eROI3 = 0.00% mSpread = 0.0000%\n"
     ]
    },
    {
     "name": "stderr",
     "output_type": "stream",
     "text": [
      "0it [00:00, ?it/s]\n"
     ]
    },
    {
     "name": "stdout",
     "output_type": "stream",
     "text": [
      "Epoch = 11. Time index = 2. Threshold MC = 0.8. Threshold MD = 0.9\n",
      "RD = 0 NZ = 0 NZA = 0 pNZ = 0.000% pNZA = 0.000% AD = 0.00% ADA = 0.00% NO = 1 GSP = 0.00% NSP = 0.00%\n",
      "SI2 = -0.55 SI = -0.55 eGROI = 0.00% eROI = 0.00% eROI2 = 0.00% eROI3 = 0.00% mSpread = 0.0000%\n",
      "\n"
     ]
    },
    {
     "name": "stderr",
     "output_type": "stream",
     "text": [
      "0it [00:00, ?it/s]\n"
     ]
    },
    {
     "name": "stdout",
     "output_type": "stream",
     "text": [
      "Epoch = 11. Time index = 2. Threshold MC = 0.9. Threshold MD = 0.5\n",
      "RD = 0 NZ = 0 NZA = 0 pNZ = 0.000% pNZA = 0.000% AD = 0.00% ADA = 0.00% NO = 1 GSP = 0.00% NSP = 0.00%\n",
      "SI2 = -0.55 SI = -0.55 eGROI = 0.00% eROI = 0.00% eROI2 = 0.00% eROI3 = 0.00% mSpread = 0.0000%\n"
     ]
    },
    {
     "name": "stderr",
     "output_type": "stream",
     "text": [
      "0it [00:00, ?it/s]\n"
     ]
    },
    {
     "name": "stdout",
     "output_type": "stream",
     "text": [
      "Epoch = 11. Time index = 2. Threshold MC = 0.9. Threshold MD = 0.6\n",
      "RD = 0 NZ = 0 NZA = 0 pNZ = 0.000% pNZA = 0.000% AD = 0.00% ADA = 0.00% NO = 1 GSP = 0.00% NSP = 0.00%\n",
      "SI2 = -0.55 SI = -0.55 eGROI = 0.00% eROI = 0.00% eROI2 = 0.00% eROI3 = 0.00% mSpread = 0.0000%\n"
     ]
    },
    {
     "name": "stderr",
     "output_type": "stream",
     "text": [
      "0it [00:00, ?it/s]\n"
     ]
    },
    {
     "name": "stdout",
     "output_type": "stream",
     "text": [
      "Epoch = 11. Time index = 2. Threshold MC = 0.9. Threshold MD = 0.7\n",
      "RD = 0 NZ = 0 NZA = 0 pNZ = 0.000% pNZA = 0.000% AD = 0.00% ADA = 0.00% NO = 1 GSP = 0.00% NSP = 0.00%\n",
      "SI2 = -0.55 SI = -0.55 eGROI = 0.00% eROI = 0.00% eROI2 = 0.00% eROI3 = 0.00% mSpread = 0.0000%\n"
     ]
    },
    {
     "name": "stderr",
     "output_type": "stream",
     "text": [
      "0it [00:00, ?it/s]\n"
     ]
    },
    {
     "name": "stdout",
     "output_type": "stream",
     "text": [
      "Epoch = 11. Time index = 2. Threshold MC = 0.9. Threshold MD = 0.8\n",
      "RD = 0 NZ = 0 NZA = 0 pNZ = 0.000% pNZA = 0.000% AD = 0.00% ADA = 0.00% NO = 1 GSP = 0.00% NSP = 0.00%\n",
      "SI2 = -0.55 SI = -0.55 eGROI = 0.00% eROI = 0.00% eROI2 = 0.00% eROI3 = 0.00% mSpread = 0.0000%\n"
     ]
    },
    {
     "name": "stderr",
     "output_type": "stream",
     "text": [
      "0it [00:00, ?it/s]\n"
     ]
    },
    {
     "name": "stdout",
     "output_type": "stream",
     "text": [
      "Epoch = 11. Time index = 2. Threshold MC = 0.9. Threshold MD = 0.9\n",
      "RD = 0 NZ = 0 NZA = 0 pNZ = 0.000% pNZA = 0.000% AD = 0.00% ADA = 0.00% NO = 1 GSP = 0.00% NSP = 0.00%\n",
      "SI2 = -0.55 SI = -0.55 eGROI = 0.00% eROI = 0.00% eROI2 = 0.00% eROI3 = 0.00% mSpread = 0.0000%\n",
      "\n"
     ]
    },
    {
     "name": "stderr",
     "output_type": "stream",
     "text": [
      "0it [00:00, ?it/s]\n"
     ]
    },
    {
     "name": "stdout",
     "output_type": "stream",
     "text": [
      "Epoch = 11. Time index = 3. Threshold MC = 0.5. Threshold MD = 0.5\n",
      "J_test = 6.338664013406505, J_train = 6.512098640212275, Accuracy=0.5373990300618159\n",
      "RD = 271945 NZ = 521824 NZA = 1006617 pNZ = 45.426% pNZA = 87.628% AD = 52.11% ADA = 27.02% NO = 1 GSP = 0.00% NSP = 0.00%\n",
      "SI2 = -0.55 SI = -0.55 eGROI = 0.00% eROI = 0.00% eROI2 = 0.00% eROI3 = 0.00% mSpread = 0.0000%\n"
     ]
    },
    {
     "name": "stderr",
     "output_type": "stream",
     "text": [
      "100%|████████████████████████████████████████████████████████████████████████████████████████████████████████████████████████████████| 12598/12598 [00:05<00:00, 2435.55it/s]\n"
     ]
    },
    {
     "name": "stdout",
     "output_type": "stream",
     "text": [
      "Epoch = 11. Time index = 3. Threshold MC = 0.5. Threshold MD = 0.6\n",
      "RD = 7850 NZ = 11493 NZA = 25121 pNZ = 1.000% pNZA = 2.187% AD = 68.30% ADA = 31.25% NO = 2434 GSP = 62.41% NSP = 41.74%\n",
      "SI2 = -95.70 SI = -322.70 eGROI = 39.51% eROI = -40.93% eROI2 = -9.17% eROI3 = -33.51% mSpread = 0.0330%\n"
     ]
    },
    {
     "name": "stderr",
     "output_type": "stream",
     "text": [
      "100%|████████████████████████████████████████████████████████████████████████████████████████████████████████████████████████████████████| 157/157 [00:00<00:00, 1414.83it/s]\n"
     ]
    },
    {
     "name": "stdout",
     "output_type": "stream",
     "text": [
      "Epoch = 11. Time index = 3. Threshold MC = 0.5. Threshold MD = 0.7\n",
      "RD = 1259 NZ = 1548 NZA = 3527 pNZ = 0.135% pNZA = 0.307% AD = 81.33% ADA = 35.70% NO = 95 GSP = 65.26% NSP = 28.42%\n",
      "SI2 = -12.25 SI = -25.25 eGROI = 1.42% eROI = -2.34% eROI2 = -0.48% eROI3 = -1.43% mSpread = 0.0397%\n"
     ]
    },
    {
     "name": "stderr",
     "output_type": "stream",
     "text": [
      "0it [00:00, ?it/s]\n"
     ]
    },
    {
     "name": "stdout",
     "output_type": "stream",
     "text": [
      "Epoch = 11. Time index = 3. Threshold MC = 0.5. Threshold MD = 0.8\n",
      "RD = 154 NZ = 173 NZA = 326 pNZ = 0.015% pNZA = 0.028% AD = 89.02% ADA = 47.24% NO = 1 GSP = 0.00% NSP = 0.00%\n",
      "SI2 = -0.55 SI = -0.55 eGROI = 0.00% eROI = 0.00% eROI2 = 0.00% eROI3 = 0.00% mSpread = 0.0000%\n"
     ]
    },
    {
     "name": "stderr",
     "output_type": "stream",
     "text": [
      "0it [00:00, ?it/s]\n"
     ]
    },
    {
     "name": "stdout",
     "output_type": "stream",
     "text": [
      "Epoch = 11. Time index = 3. Threshold MC = 0.5. Threshold MD = 0.9\n",
      "RD = 0 NZ = 0 NZA = 0 pNZ = 0.000% pNZA = 0.000% AD = 0.00% ADA = 0.00% NO = 1 GSP = 0.00% NSP = 0.00%\n",
      "SI2 = -0.55 SI = -0.55 eGROI = 0.00% eROI = 0.00% eROI2 = 0.00% eROI3 = 0.00% mSpread = 0.0000%\n",
      "\n"
     ]
    },
    {
     "name": "stderr",
     "output_type": "stream",
     "text": [
      "0it [00:00, ?it/s]\n"
     ]
    },
    {
     "name": "stdout",
     "output_type": "stream",
     "text": [
      "Epoch = 11. Time index = 3. Threshold MC = 0.6. Threshold MD = 0.5\n",
      "RD = 87032 NZ = 164103 NZA = 272905 pNZ = 14.286% pNZA = 23.757% AD = 53.03% ADA = 31.89% NO = 1 GSP = 0.00% NSP = 0.00%\n",
      "SI2 = -0.55 SI = -0.55 eGROI = 0.00% eROI = 0.00% eROI2 = 0.00% eROI3 = 0.00% mSpread = 0.0000%\n"
     ]
    },
    {
     "name": "stderr",
     "output_type": "stream",
     "text": [
      "100%|██████████████████████████████████████████████████████████████████████████████████████████████████████████████████████████████████| 8048/8048 [00:03<00:00, 2161.57it/s]\n"
     ]
    },
    {
     "name": "stdout",
     "output_type": "stream",
     "text": [
      "Epoch = 11. Time index = 3. Threshold MC = 0.6. Threshold MD = 0.6\n",
      "RD = 4307 NZ = 6258 NZA = 11830 pNZ = 0.545% pNZA = 1.030% AD = 68.82% ADA = 36.41% NO = 1839 GSP = 63.24% NSP = 43.45%\n",
      "SI2 = -48.45 SI = -212.45 eGROI = 33.38% eROI = -28.06% eROI2 = -3.40% eROI3 = -21.79% mSpread = 0.0334%\n"
     ]
    },
    {
     "name": "stderr",
     "output_type": "stream",
     "text": [
      "100%|██████████████████████████████████████████████████████████████████████████████████████████████████████████████████████████████████████| 98/98 [00:00<00:00, 1610.82it/s]\n"
     ]
    },
    {
     "name": "stdout",
     "output_type": "stream",
     "text": [
      "Epoch = 11. Time index = 3. Threshold MC = 0.6. Threshold MD = 0.7\n",
      "RD = 591 NZ = 724 NZA = 1263 pNZ = 0.063% pNZA = 0.110% AD = 81.63% ADA = 46.79% NO = 62 GSP = 66.13% NSP = 27.42%\n",
      "SI2 = -7.10 SI = -17.10 eGROI = 1.40% eROI = -1.11% eROI2 = 0.16% eROI3 = -0.46% mSpread = 0.0406%\n"
     ]
    },
    {
     "name": "stderr",
     "output_type": "stream",
     "text": [
      "0it [00:00, ?it/s]\n"
     ]
    },
    {
     "name": "stdout",
     "output_type": "stream",
     "text": [
      "Epoch = 11. Time index = 3. Threshold MC = 0.6. Threshold MD = 0.8\n",
      "RD = 115 NZ = 124 NZA = 179 pNZ = 0.011% pNZA = 0.016% AD = 92.74% ADA = 64.25% NO = 1 GSP = 0.00% NSP = 0.00%\n",
      "SI2 = -0.55 SI = -0.55 eGROI = 0.00% eROI = 0.00% eROI2 = 0.00% eROI3 = 0.00% mSpread = 0.0000%\n"
     ]
    },
    {
     "name": "stderr",
     "output_type": "stream",
     "text": [
      "0it [00:00, ?it/s]\n"
     ]
    },
    {
     "name": "stdout",
     "output_type": "stream",
     "text": [
      "Epoch = 11. Time index = 3. Threshold MC = 0.6. Threshold MD = 0.9\n",
      "RD = 0 NZ = 0 NZA = 0 pNZ = 0.000% pNZA = 0.000% AD = 0.00% ADA = 0.00% NO = 1 GSP = 0.00% NSP = 0.00%\n",
      "SI2 = -0.55 SI = -0.55 eGROI = 0.00% eROI = 0.00% eROI2 = 0.00% eROI3 = 0.00% mSpread = 0.0000%\n",
      "\n"
     ]
    },
    {
     "name": "stderr",
     "output_type": "stream",
     "text": [
      "100%|██████████████████████████████████████████████████████████████████████████████████████████████████████████████████████████████████| 8319/8319 [00:02<00:00, 3096.29it/s]\n"
     ]
    },
    {
     "name": "stdout",
     "output_type": "stream",
     "text": [
      "Epoch = 11. Time index = 3. Threshold MC = 0.7. Threshold MD = 0.5\n",
      "RD = 5026 NZ = 9117 NZA = 12512 pNZ = 0.794% pNZA = 1.089% AD = 55.13% ADA = 40.17% NO = 1625 GSP = 53.72% NSP = 46.40%\n",
      "SI2 = -128.75 SI = -139.75 eGROI = 6.24% eROI = -26.95% eROI2 = -26.26% eROI3 = -42.51% mSpread = 0.0204%\n"
     ]
    },
    {
     "name": "stderr",
     "output_type": "stream",
     "text": [
      "100%|████████████████████████████████████████████████████████████████████████████████████████████████████████████████████████████████████| 857/857 [00:00<00:00, 2279.23it/s]\n"
     ]
    },
    {
     "name": "stdout",
     "output_type": "stream",
     "text": [
      "Epoch = 11. Time index = 3. Threshold MC = 0.7. Threshold MD = 0.6\n",
      "RD = 759 NZ = 1086 NZA = 1543 pNZ = 0.095% pNZA = 0.134% AD = 69.89% ADA = 49.19% NO = 339 GSP = 63.72% NSP = 51.03%\n",
      "SI2 = -5.45 SI = -13.45 eGROI = 8.09% eROI = -0.39% eROI2 = 1.31% eROI3 = -2.08% mSpread = 0.0250%\n"
     ]
    },
    {
     "name": "stderr",
     "output_type": "stream",
     "text": [
      "0it [00:00, ?it/s]\n"
     ]
    },
    {
     "name": "stdout",
     "output_type": "stream",
     "text": [
      "Epoch = 11. Time index = 3. Threshold MC = 0.7. Threshold MD = 0.7\n",
      "RD = 204 NZ = 234 NZA = 307 pNZ = 0.020% pNZA = 0.027% AD = 87.18% ADA = 66.45% NO = 1 GSP = 0.00% NSP = 0.00%\n",
      "SI2 = -0.55 SI = -0.55 eGROI = 0.00% eROI = 0.00% eROI2 = 0.00% eROI3 = 0.00% mSpread = 0.0000%\n"
     ]
    },
    {
     "name": "stderr",
     "output_type": "stream",
     "text": [
      "0it [00:00, ?it/s]\n"
     ]
    },
    {
     "name": "stdout",
     "output_type": "stream",
     "text": [
      "Epoch = 11. Time index = 3. Threshold MC = 0.7. Threshold MD = 0.8\n",
      "RD = 79 NZ = 84 NZA = 100 pNZ = 0.007% pNZA = 0.009% AD = 94.05% ADA = 79.00% NO = 1 GSP = 0.00% NSP = 0.00%\n",
      "SI2 = -0.55 SI = -0.55 eGROI = 0.00% eROI = 0.00% eROI2 = 0.00% eROI3 = 0.00% mSpread = 0.0000%\n"
     ]
    },
    {
     "name": "stderr",
     "output_type": "stream",
     "text": [
      "0it [00:00, ?it/s]\n"
     ]
    },
    {
     "name": "stdout",
     "output_type": "stream",
     "text": [
      "Epoch = 11. Time index = 3. Threshold MC = 0.7. Threshold MD = 0.9\n",
      "RD = 0 NZ = 0 NZA = 0 pNZ = 0.000% pNZA = 0.000% AD = 0.00% ADA = 0.00% NO = 1 GSP = 0.00% NSP = 0.00%\n",
      "SI2 = -0.55 SI = -0.55 eGROI = 0.00% eROI = 0.00% eROI2 = 0.00% eROI3 = 0.00% mSpread = 0.0000%\n",
      "\n"
     ]
    },
    {
     "name": "stderr",
     "output_type": "stream",
     "text": [
      "100%|████████████████████████████████████████████████████████████████████████████████████████████████████████████████████████████████████| 390/390 [00:00<00:00, 1386.62it/s]\n"
     ]
    },
    {
     "name": "stdout",
     "output_type": "stream",
     "text": [
      "Epoch = 11. Time index = 3. Threshold MC = 0.8. Threshold MD = 0.5\n",
      "RD = 251 NZ = 427 NZA = 552 pNZ = 0.037% pNZA = 0.048% AD = 58.78% ADA = 45.47% NO = 249 GSP = 56.22% NSP = 50.20%\n",
      "SI2 = -11.95 SI = -11.95 eGROI = 4.17% eROI = -0.61% eROI2 = -0.81% eROI3 = -3.30% mSpread = 0.0192%\n"
     ]
    },
    {
     "name": "stderr",
     "output_type": "stream",
     "text": [
      "100%|██████████████████████████████████████████████████████████████████████████████████████████████████████████████████████████████████████| 32/32 [00:00<00:00, 1232.29it/s]\n"
     ]
    },
    {
     "name": "stdout",
     "output_type": "stream",
     "text": [
      "Epoch = 11. Time index = 3. Threshold MC = 0.8. Threshold MD = 0.6\n",
      "RD = 77 NZ = 93 NZA = 121 pNZ = 0.008% pNZA = 0.011% AD = 82.80% ADA = 63.64% NO = 26 GSP = 65.38% NSP = 61.54%\n",
      "SI2 = 1.70 SI = 1.70 eGROI = 1.16% eROI = 0.57% eROI2 = 0.64% eROI3 = 0.38% mSpread = 0.0226%\n"
     ]
    },
    {
     "name": "stderr",
     "output_type": "stream",
     "text": [
      "0it [00:00, ?it/s]\n"
     ]
    },
    {
     "name": "stdout",
     "output_type": "stream",
     "text": [
      "Epoch = 11. Time index = 3. Threshold MC = 0.8. Threshold MD = 0.7\n",
      "RD = 30 NZ = 37 NZA = 51 pNZ = 0.003% pNZA = 0.004% AD = 81.08% ADA = 58.82% NO = 1 GSP = 0.00% NSP = 0.00%\n",
      "SI2 = -0.55 SI = -0.55 eGROI = 0.00% eROI = 0.00% eROI2 = 0.00% eROI3 = 0.00% mSpread = 0.0000%\n"
     ]
    },
    {
     "name": "stderr",
     "output_type": "stream",
     "text": [
      "0it [00:00, ?it/s]\n"
     ]
    },
    {
     "name": "stdout",
     "output_type": "stream",
     "text": [
      "Epoch = 11. Time index = 3. Threshold MC = 0.8. Threshold MD = 0.8\n",
      "RD = 14 NZ = 17 NZA = 18 pNZ = 0.001% pNZA = 0.002% AD = 82.35% ADA = 77.78% NO = 1 GSP = 0.00% NSP = 0.00%\n",
      "SI2 = -0.55 SI = -0.55 eGROI = 0.00% eROI = 0.00% eROI2 = 0.00% eROI3 = 0.00% mSpread = 0.0000%\n"
     ]
    },
    {
     "name": "stderr",
     "output_type": "stream",
     "text": [
      "0it [00:00, ?it/s]\n"
     ]
    },
    {
     "name": "stdout",
     "output_type": "stream",
     "text": [
      "Epoch = 11. Time index = 3. Threshold MC = 0.8. Threshold MD = 0.9\n",
      "RD = 0 NZ = 0 NZA = 0 pNZ = 0.000% pNZA = 0.000% AD = 0.00% ADA = 0.00% NO = 1 GSP = 0.00% NSP = 0.00%\n",
      "SI2 = -0.55 SI = -0.55 eGROI = 0.00% eROI = 0.00% eROI2 = 0.00% eROI3 = 0.00% mSpread = 0.0000%\n",
      "\n"
     ]
    },
    {
     "name": "stderr",
     "output_type": "stream",
     "text": [
      "0it [00:00, ?it/s]\n"
     ]
    },
    {
     "name": "stdout",
     "output_type": "stream",
     "text": [
      "Epoch = 11. Time index = 3. Threshold MC = 0.9. Threshold MD = 0.5\n",
      "RD = 0 NZ = 0 NZA = 0 pNZ = 0.000% pNZA = 0.000% AD = 0.00% ADA = 0.00% NO = 1 GSP = 0.00% NSP = 0.00%\n",
      "SI2 = -0.55 SI = -0.55 eGROI = 0.00% eROI = 0.00% eROI2 = 0.00% eROI3 = 0.00% mSpread = 0.0000%\n"
     ]
    },
    {
     "name": "stderr",
     "output_type": "stream",
     "text": [
      "0it [00:00, ?it/s]\n"
     ]
    },
    {
     "name": "stdout",
     "output_type": "stream",
     "text": [
      "Epoch = 11. Time index = 3. Threshold MC = 0.9. Threshold MD = 0.6\n",
      "RD = 0 NZ = 0 NZA = 0 pNZ = 0.000% pNZA = 0.000% AD = 0.00% ADA = 0.00% NO = 1 GSP = 0.00% NSP = 0.00%\n",
      "SI2 = -0.55 SI = -0.55 eGROI = 0.00% eROI = 0.00% eROI2 = 0.00% eROI3 = 0.00% mSpread = 0.0000%\n"
     ]
    },
    {
     "name": "stderr",
     "output_type": "stream",
     "text": [
      "0it [00:00, ?it/s]\n"
     ]
    },
    {
     "name": "stdout",
     "output_type": "stream",
     "text": [
      "Epoch = 11. Time index = 3. Threshold MC = 0.9. Threshold MD = 0.7\n",
      "RD = 0 NZ = 0 NZA = 0 pNZ = 0.000% pNZA = 0.000% AD = 0.00% ADA = 0.00% NO = 1 GSP = 0.00% NSP = 0.00%\n",
      "SI2 = -0.55 SI = -0.55 eGROI = 0.00% eROI = 0.00% eROI2 = 0.00% eROI3 = 0.00% mSpread = 0.0000%\n"
     ]
    },
    {
     "name": "stderr",
     "output_type": "stream",
     "text": [
      "0it [00:00, ?it/s]\n"
     ]
    },
    {
     "name": "stdout",
     "output_type": "stream",
     "text": [
      "Epoch = 11. Time index = 3. Threshold MC = 0.9. Threshold MD = 0.8\n",
      "RD = 0 NZ = 0 NZA = 0 pNZ = 0.000% pNZA = 0.000% AD = 0.00% ADA = 0.00% NO = 1 GSP = 0.00% NSP = 0.00%\n",
      "SI2 = -0.55 SI = -0.55 eGROI = 0.00% eROI = 0.00% eROI2 = 0.00% eROI3 = 0.00% mSpread = 0.0000%\n"
     ]
    },
    {
     "name": "stderr",
     "output_type": "stream",
     "text": [
      "0it [00:00, ?it/s]\n"
     ]
    },
    {
     "name": "stdout",
     "output_type": "stream",
     "text": [
      "Epoch = 11. Time index = 3. Threshold MC = 0.9. Threshold MD = 0.9\n",
      "RD = 0 NZ = 0 NZA = 0 pNZ = 0.000% pNZA = 0.000% AD = 0.00% ADA = 0.00% NO = 1 GSP = 0.00% NSP = 0.00%\n",
      "SI2 = -0.55 SI = -0.55 eGROI = 0.00% eROI = 0.00% eROI2 = 0.00% eROI3 = 0.00% mSpread = 0.0000%\n",
      "\n",
      "Best eGROI = 39.51 t_index 3 thr_mc 0.5 thr_md 0.6 epoch 11 in 2434\n",
      "Best eROI = 1.45 t_index 1 thr_mc 0.8 thr_md 0.5 epoch 11 in 228\n",
      "Best eROI.5 = 27.34 t_index 3 thr_mc 0.5 thr_md 0.6 epoch 11 in 2434\n",
      "Best eROI1 = 15.17 t_index 3 thr_mc 0.5 thr_md 0.6 epoch 11 in 2434\n",
      "Best eROI1.5 = 5.80 t_index 3 thr_mc 0.6 thr_md 0.6 epoch 11 in 1839\n",
      "Best eROI2 = 1.72 t_index 2 thr_mc 0.7 thr_md 0.6 epoch 11 in 324\n",
      "Best eROI3 = 0.43 t_index 2 thr_mc 0.8 thr_md 0.6 epoch 11 in 22\n",
      "Best eROI4 = 0.21 t_index 2 thr_mc 0.8 thr_md 0.6 epoch 11 in 22\n",
      "Best eROI5 = 0.08 t_index 0 thr_mc 0.8 thr_md 0.6 epoch 11 in 2\n",
      "Best SI = 1.70 t_index 3 thr_mc 0.8 thr_md 0.6 epoch 11 in 26\n",
      "Best SI.5 = 119.30 t_index 3 thr_mc 0.5 thr_md 0.6 epoch 11 in 2434\n",
      "Best SI1 = 57.35 t_index 0 thr_mc 0.5 thr_md 0.6 epoch 11 in 1563\n",
      "Best SI1.5 = 8.35 t_index 0 thr_mc 0.5 thr_md 0.6 epoch 11 in 1563\n",
      "Best SI2 = 3.20 t_index 1 thr_mc 0.5 thr_md 0.7 epoch 11 in 16\n",
      "Best SI3 = 0.70 t_index 1 thr_mc 0.6 thr_md 0.7 epoch 11 in 6\n",
      "Best SI4 = -0.10 t_index 0 thr_mc 0.8 thr_md 0.6 epoch 11 in 2\n",
      "Best SI5 = -0.10 t_index 0 thr_mc 0.8 thr_md 0.6 epoch 11 in 2\n",
      "\n",
      "The very best:\n",
      "Best eGROI = 39.51 t_index 3 thr_mc 0.5 thr_md 0.6 epoch 11 in 2434\n",
      "Best eROI = 3.37 t_index 3 thr_mc 0.8 thr_md 0.5 epoch 8 in 141\n",
      "Best eROI.5 = 27.34 t_index 3 thr_mc 0.5 thr_md 0.6 epoch 11 in 2434\n",
      "Best eROI1 = 15.17 t_index 3 thr_mc 0.5 thr_md 0.6 epoch 11 in 2434\n",
      "Best eROI1.5 = 5.80 t_index 3 thr_mc 0.6 thr_md 0.6 epoch 11 in 1839\n",
      "Best eROI2 = 3.16 t_index 3 thr_mc 0.8 thr_md 0.5 epoch 8 in 141\n",
      "Best eROI3 = 1.75 t_index 3 thr_mc 0.8 thr_md 0.5 epoch 8 in 141\n",
      "Best eROI4 = 0.50 t_index 3 thr_mc 0.8 thr_md 0.6 epoch 10 in 14\n",
      "Best eROI5 = 0.36 t_index 3 thr_mc 0.8 thr_md 0.6 epoch 10 in 14\n",
      "Best SI = 4.45 t_index 3 thr_mc 0.8 thr_md 0.5 epoch 8 in 141\n",
      "Best SI.5 = 119.30 t_index 3 thr_mc 0.5 thr_md 0.6 epoch 11 in 2434\n",
      "Best SI1 = 57.35 t_index 0 thr_mc 0.5 thr_md 0.6 epoch 11 in 1563\n",
      "Best SI1.5 = 11.85 t_index 0 thr_mc 0.5 thr_md 0.6 epoch 10 in 1353\n",
      "Best SI2 = 4.45 t_index 3 thr_mc 0.8 thr_md 0.5 epoch 8 in 141\n",
      "Best SI3 = 1.30 t_index 3 thr_mc 0.8 thr_md 0.6 epoch 10 in 14\n",
      "Best SI4 = -0.10 t_index 0 thr_mc 0.8 thr_md 0.6 epoch 11 in 2\n",
      "Best SI5 = -0.10 t_index 0 thr_mc 0.8 thr_md 0.6 epoch 11 in 2\n",
      "Time=108.09 secs\n",
      "INFO:tensorflow:Restoring parameters from ../../RNN/weights/000520/000012/000012\n",
      "Parameters loaded. Epoch 12\n",
      "Epoch 12 of 34. Getting output...\n"
     ]
    },
    {
     "name": "stderr",
     "output_type": "stream",
     "text": [
      "100%|████████████████████████████████████████████████████████████████████████████████████████████████████████████████████████████████████████| 23/23 [02:21<00:00,  6.40s/it]\n"
     ]
    },
    {
     "name": "stdout",
     "output_type": "stream",
     "text": [
      "Getting results\n",
      "Epoch 12, J_train = 6.510409559700013, J_test = 6.337478347446607\n"
     ]
    },
    {
     "name": "stderr",
     "output_type": "stream",
     "text": [
      "0it [00:00, ?it/s]\n"
     ]
    },
    {
     "name": "stdout",
     "output_type": "stream",
     "text": [
      "Epoch = 12. Time index = 0. Threshold MC = 0.5. Threshold MD = 0.5\n",
      "J_test = 6.337478347446607, J_train = 6.510409559700013, Accuracy=0.5460154796632464\n",
      "RD = 265535 NZ = 510900 NZA = 974872 pNZ = 44.475% pNZA = 84.865% AD = 51.97% ADA = 27.24% NO = 1 GSP = 0.00% NSP = 0.00%\n",
      "SI2 = -0.55 SI = -0.55 eGROI = 0.00% eROI = 0.00% eROI2 = 0.00% eROI3 = 0.00% mSpread = 0.0000%\n"
     ]
    },
    {
     "name": "stderr",
     "output_type": "stream",
     "text": [
      "100%|██████████████████████████████████████████████████████████████████████████████████████████████████████████████████████████████████| 6267/6267 [00:02<00:00, 2401.57it/s]\n"
     ]
    },
    {
     "name": "stdout",
     "output_type": "stream",
     "text": [
      "Epoch = 12. Time index = 0. Threshold MC = 0.5. Threshold MD = 0.6\n",
      "RD = 7594 NZ = 11668 NZA = 25593 pNZ = 1.016% pNZA = 2.228% AD = 65.08% ADA = 29.67% NO = 1716 GSP = 62.35% NSP = 42.31%\n",
      "SI2 = -50.80 SI = -217.80 eGROI = 26.40% eROI = -31.15% eROI2 = -7.92% eROI3 = -25.08% mSpread = 0.0335%\n"
     ]
    },
    {
     "name": "stderr",
     "output_type": "stream",
     "text": [
      "100%|█████████████████████████████████████████████████████████████████████████████████████████████████████████████████████████████████████████| 1/1 [00:00<00:00, 333.78it/s]\n"
     ]
    },
    {
     "name": "stdout",
     "output_type": "stream",
     "text": [
      "Epoch = 12. Time index = 0. Threshold MC = 0.5. Threshold MD = 0.7\n",
      "RD = 726 NZ = 877 NZA = 1735 pNZ = 0.076% pNZA = 0.151% AD = 82.78% ADA = 41.84% NO = 2 GSP = 100.00% NSP = 50.00%\n",
      "SI2 = -0.10 SI = -0.10 eGROI = 0.12% eROI = 0.01% eROI2 = 0.08% eROI3 = 0.06% mSpread = 0.0524%\n"
     ]
    },
    {
     "name": "stderr",
     "output_type": "stream",
     "text": [
      "0it [00:00, ?it/s]\n"
     ]
    },
    {
     "name": "stdout",
     "output_type": "stream",
     "text": [
      "Epoch = 12. Time index = 0. Threshold MC = 0.5. Threshold MD = 0.8\n",
      "RD = 24 NZ = 25 NZA = 38 pNZ = 0.002% pNZA = 0.003% AD = 96.00% ADA = 63.16% NO = 1 GSP = 0.00% NSP = 0.00%\n",
      "SI2 = -0.55 SI = -0.55 eGROI = 0.00% eROI = 0.00% eROI2 = 0.00% eROI3 = 0.00% mSpread = 0.0000%\n"
     ]
    },
    {
     "name": "stderr",
     "output_type": "stream",
     "text": [
      "0it [00:00, ?it/s]\n"
     ]
    },
    {
     "name": "stdout",
     "output_type": "stream",
     "text": [
      "Epoch = 12. Time index = 0. Threshold MC = 0.5. Threshold MD = 0.9\n",
      "RD = 0 NZ = 0 NZA = 0 pNZ = 0.000% pNZA = 0.000% AD = 0.00% ADA = 0.00% NO = 1 GSP = 0.00% NSP = 0.00%\n",
      "SI2 = -0.55 SI = -0.55 eGROI = 0.00% eROI = 0.00% eROI2 = 0.00% eROI3 = 0.00% mSpread = 0.0000%\n",
      "\n"
     ]
    },
    {
     "name": "stderr",
     "output_type": "stream",
     "text": [
      "0it [00:00, ?it/s]\n"
     ]
    },
    {
     "name": "stdout",
     "output_type": "stream",
     "text": [
      "Epoch = 12. Time index = 0. Threshold MC = 0.6. Threshold MD = 0.5\n",
      "RD = 91063 NZ = 172170 NZA = 283363 pNZ = 14.988% pNZA = 24.667% AD = 52.89% ADA = 32.14% NO = 1 GSP = 0.00% NSP = 0.00%\n",
      "SI2 = -0.55 SI = -0.55 eGROI = 0.00% eROI = 0.00% eROI2 = 0.00% eROI3 = 0.00% mSpread = 0.0000%\n"
     ]
    },
    {
     "name": "stderr",
     "output_type": "stream",
     "text": [
      "100%|██████████████████████████████████████████████████████████████████████████████████████████████████████████████████████████████████| 2236/2236 [00:01<00:00, 1952.09it/s]\n"
     ]
    },
    {
     "name": "stdout",
     "output_type": "stream",
     "text": [
      "Epoch = 12. Time index = 0. Threshold MC = 0.6. Threshold MD = 0.6\n",
      "RD = 3158 NZ = 4742 NZA = 8385 pNZ = 0.413% pNZA = 0.730% AD = 66.60% ADA = 37.66% NO = 861 GSP = 62.72% NSP = 46.11%\n",
      "SI2 = -34.55 SI = -76.55 eGROI = 13.59% eROI = -12.95% eROI2 = -3.63% eROI3 = -12.24% mSpread = 0.0308%\n"
     ]
    },
    {
     "name": "stderr",
     "output_type": "stream",
     "text": [
      "0it [00:00, ?it/s]\n"
     ]
    },
    {
     "name": "stdout",
     "output_type": "stream",
     "text": [
      "Epoch = 12. Time index = 0. Threshold MC = 0.6. Threshold MD = 0.7\n",
      "RD = 445 NZ = 525 NZA = 846 pNZ = 0.046% pNZA = 0.074% AD = 84.76% ADA = 52.60% NO = 1 GSP = 0.00% NSP = 0.00%\n",
      "SI2 = -0.55 SI = -0.55 eGROI = 0.00% eROI = 0.00% eROI2 = 0.00% eROI3 = 0.00% mSpread = 0.0000%\n"
     ]
    },
    {
     "name": "stderr",
     "output_type": "stream",
     "text": [
      "0it [00:00, ?it/s]\n"
     ]
    },
    {
     "name": "stdout",
     "output_type": "stream",
     "text": [
      "Epoch = 12. Time index = 0. Threshold MC = 0.6. Threshold MD = 0.8\n",
      "RD = 17 NZ = 18 NZA = 26 pNZ = 0.002% pNZA = 0.002% AD = 94.44% ADA = 65.38% NO = 1 GSP = 0.00% NSP = 0.00%\n",
      "SI2 = -0.55 SI = -0.55 eGROI = 0.00% eROI = 0.00% eROI2 = 0.00% eROI3 = 0.00% mSpread = 0.0000%\n"
     ]
    },
    {
     "name": "stderr",
     "output_type": "stream",
     "text": [
      "0it [00:00, ?it/s]\n"
     ]
    },
    {
     "name": "stdout",
     "output_type": "stream",
     "text": [
      "Epoch = 12. Time index = 0. Threshold MC = 0.6. Threshold MD = 0.9\n",
      "RD = 0 NZ = 0 NZA = 0 pNZ = 0.000% pNZA = 0.000% AD = 0.00% ADA = 0.00% NO = 1 GSP = 0.00% NSP = 0.00%\n",
      "SI2 = -0.55 SI = -0.55 eGROI = 0.00% eROI = 0.00% eROI2 = 0.00% eROI3 = 0.00% mSpread = 0.0000%\n",
      "\n"
     ]
    },
    {
     "name": "stderr",
     "output_type": "stream",
     "text": [
      "100%|████████████████████████████████████████████████████████████████████████████████████████████████████████████████████████████████| 11466/11466 [00:06<00:00, 1838.28it/s]\n"
     ]
    },
    {
     "name": "stdout",
     "output_type": "stream",
     "text": [
      "Epoch = 12. Time index = 0. Threshold MC = 0.7. Threshold MD = 0.5\n",
      "RD = 8253 NZ = 15310 NZA = 21386 pNZ = 1.333% pNZA = 1.862% AD = 53.91% ADA = 38.59% NO = 2410 GSP = 53.20% NSP = 45.85%\n",
      "SI2 = -216.50 SI = -220.50 eGROI = 3.72% eROI = -42.64% eROI2 = -44.48% eROI3 = -68.58% mSpread = 0.0192%\n"
     ]
    },
    {
     "name": "stderr",
     "output_type": "stream",
     "text": [
      "100%|████████████████████████████████████████████████████████████████████████████████████████████████████████████████████████████████████| 327/327 [00:00<00:00, 1450.73it/s]\n"
     ]
    },
    {
     "name": "stdout",
     "output_type": "stream",
     "text": [
      "Epoch = 12. Time index = 0. Threshold MC = 0.7. Threshold MD = 0.6\n",
      "RD = 556 NZ = 850 NZA = 1168 pNZ = 0.074% pNZA = 0.102% AD = 65.41% ADA = 47.60% NO = 201 GSP = 60.70% NSP = 49.75%\n",
      "SI2 = -8.55 SI = -10.55 eGROI = 1.75% eROI = -2.68% eROI2 = -2.27% eROI3 = -4.28% mSpread = 0.0220%\n"
     ]
    },
    {
     "name": "stderr",
     "output_type": "stream",
     "text": [
      "0it [00:00, ?it/s]\n"
     ]
    },
    {
     "name": "stdout",
     "output_type": "stream",
     "text": [
      "Epoch = 12. Time index = 0. Threshold MC = 0.7. Threshold MD = 0.7\n",
      "RD = 102 NZ = 121 NZA = 150 pNZ = 0.011% pNZA = 0.013% AD = 84.30% ADA = 68.00% NO = 1 GSP = 0.00% NSP = 0.00%\n",
      "SI2 = -0.55 SI = -0.55 eGROI = 0.00% eROI = 0.00% eROI2 = 0.00% eROI3 = 0.00% mSpread = 0.0000%\n"
     ]
    },
    {
     "name": "stderr",
     "output_type": "stream",
     "text": [
      "0it [00:00, ?it/s]\n"
     ]
    },
    {
     "name": "stdout",
     "output_type": "stream",
     "text": [
      "Epoch = 12. Time index = 0. Threshold MC = 0.7. Threshold MD = 0.8\n",
      "RD = 4 NZ = 4 NZA = 4 pNZ = 0.000% pNZA = 0.000% AD = 100.00% ADA = 100.00% NO = 1 GSP = 0.00% NSP = 0.00%\n",
      "SI2 = -0.55 SI = -0.55 eGROI = 0.00% eROI = 0.00% eROI2 = 0.00% eROI3 = 0.00% mSpread = 0.0000%\n"
     ]
    },
    {
     "name": "stderr",
     "output_type": "stream",
     "text": [
      "0it [00:00, ?it/s]\n"
     ]
    },
    {
     "name": "stdout",
     "output_type": "stream",
     "text": [
      "Epoch = 12. Time index = 0. Threshold MC = 0.7. Threshold MD = 0.9\n",
      "RD = 0 NZ = 0 NZA = 0 pNZ = 0.000% pNZA = 0.000% AD = 0.00% ADA = 0.00% NO = 1 GSP = 0.00% NSP = 0.00%\n",
      "SI2 = -0.55 SI = -0.55 eGROI = 0.00% eROI = 0.00% eROI2 = 0.00% eROI3 = 0.00% mSpread = 0.0000%\n",
      "\n"
     ]
    },
    {
     "name": "stderr",
     "output_type": "stream",
     "text": [
      "100%|████████████████████████████████████████████████████████████████████████████████████████████████████████████████████████████████████| 346/346 [00:00<00:00, 1485.19it/s]\n"
     ]
    },
    {
     "name": "stdout",
     "output_type": "stream",
     "text": [
      "Epoch = 12. Time index = 0. Threshold MC = 0.8. Threshold MD = 0.5\n",
      "RD = 289 NZ = 493 NZA = 620 pNZ = 0.043% pNZA = 0.054% AD = 58.62% ADA = 46.61% NO = 230 GSP = 57.83% NSP = 52.61%\n",
      "SI2 = -4.50 SI = -5.50 eGROI = 6.33% eROI = 2.01% eROI2 = 1.73% eROI3 = -0.57% mSpread = 0.0188%\n"
     ]
    },
    {
     "name": "stderr",
     "output_type": "stream",
     "text": [
      "100%|█████████████████████████████████████████████████████████████████████████████████████████████████████████████████████████████████████████| 3/3 [00:00<00:00, 601.59it/s]\n"
     ]
    },
    {
     "name": "stdout",
     "output_type": "stream",
     "text": [
      "Epoch = 12. Time index = 0. Threshold MC = 0.8. Threshold MD = 0.6\n",
      "RD = 34 NZ = 53 NZA = 71 pNZ = 0.005% pNZA = 0.006% AD = 64.15% ADA = 47.89% NO = 4 GSP = 75.00% NSP = 75.00%\n",
      "SI2 = -0.20 SI = 0.80 eGROI = 0.28% eROI = 0.15% eROI2 = 0.20% eROI3 = 0.16% mSpread = 0.0311%\n"
     ]
    },
    {
     "name": "stderr",
     "output_type": "stream",
     "text": [
      "0it [00:00, ?it/s]\n"
     ]
    },
    {
     "name": "stdout",
     "output_type": "stream",
     "text": [
      "Epoch = 12. Time index = 0. Threshold MC = 0.8. Threshold MD = 0.7\n",
      "RD = 6 NZ = 9 NZA = 10 pNZ = 0.001% pNZA = 0.001% AD = 66.67% ADA = 60.00% NO = 1 GSP = 0.00% NSP = 0.00%\n",
      "SI2 = -0.55 SI = -0.55 eGROI = 0.00% eROI = 0.00% eROI2 = 0.00% eROI3 = 0.00% mSpread = 0.0000%\n"
     ]
    },
    {
     "name": "stderr",
     "output_type": "stream",
     "text": [
      "0it [00:00, ?it/s]\n"
     ]
    },
    {
     "name": "stdout",
     "output_type": "stream",
     "text": [
      "Epoch = 12. Time index = 0. Threshold MC = 0.8. Threshold MD = 0.8\n",
      "RD = 0 NZ = 0 NZA = 0 pNZ = 0.000% pNZA = 0.000% AD = 0.00% ADA = 0.00% NO = 1 GSP = 0.00% NSP = 0.00%\n",
      "SI2 = -0.55 SI = -0.55 eGROI = 0.00% eROI = 0.00% eROI2 = 0.00% eROI3 = 0.00% mSpread = 0.0000%\n"
     ]
    },
    {
     "name": "stderr",
     "output_type": "stream",
     "text": [
      "0it [00:00, ?it/s]\n"
     ]
    },
    {
     "name": "stdout",
     "output_type": "stream",
     "text": [
      "Epoch = 12. Time index = 0. Threshold MC = 0.8. Threshold MD = 0.9\n",
      "RD = 0 NZ = 0 NZA = 0 pNZ = 0.000% pNZA = 0.000% AD = 0.00% ADA = 0.00% NO = 1 GSP = 0.00% NSP = 0.00%\n",
      "SI2 = -0.55 SI = -0.55 eGROI = 0.00% eROI = 0.00% eROI2 = 0.00% eROI3 = 0.00% mSpread = 0.0000%\n",
      "\n"
     ]
    },
    {
     "name": "stderr",
     "output_type": "stream",
     "text": [
      "0it [00:00, ?it/s]\n"
     ]
    },
    {
     "name": "stdout",
     "output_type": "stream",
     "text": [
      "Epoch = 12. Time index = 0. Threshold MC = 0.9. Threshold MD = 0.5\n",
      "RD = 0 NZ = 0 NZA = 0 pNZ = 0.000% pNZA = 0.000% AD = 0.00% ADA = 0.00% NO = 1 GSP = 0.00% NSP = 0.00%\n",
      "SI2 = -0.55 SI = -0.55 eGROI = 0.00% eROI = 0.00% eROI2 = 0.00% eROI3 = 0.00% mSpread = 0.0000%\n"
     ]
    },
    {
     "name": "stderr",
     "output_type": "stream",
     "text": [
      "0it [00:00, ?it/s]\n"
     ]
    },
    {
     "name": "stdout",
     "output_type": "stream",
     "text": [
      "Epoch = 12. Time index = 0. Threshold MC = 0.9. Threshold MD = 0.6\n",
      "RD = 0 NZ = 0 NZA = 0 pNZ = 0.000% pNZA = 0.000% AD = 0.00% ADA = 0.00% NO = 1 GSP = 0.00% NSP = 0.00%\n",
      "SI2 = -0.55 SI = -0.55 eGROI = 0.00% eROI = 0.00% eROI2 = 0.00% eROI3 = 0.00% mSpread = 0.0000%\n"
     ]
    },
    {
     "name": "stderr",
     "output_type": "stream",
     "text": [
      "0it [00:00, ?it/s]\n"
     ]
    },
    {
     "name": "stdout",
     "output_type": "stream",
     "text": [
      "Epoch = 12. Time index = 0. Threshold MC = 0.9. Threshold MD = 0.7\n",
      "RD = 0 NZ = 0 NZA = 0 pNZ = 0.000% pNZA = 0.000% AD = 0.00% ADA = 0.00% NO = 1 GSP = 0.00% NSP = 0.00%\n",
      "SI2 = -0.55 SI = -0.55 eGROI = 0.00% eROI = 0.00% eROI2 = 0.00% eROI3 = 0.00% mSpread = 0.0000%\n"
     ]
    },
    {
     "name": "stderr",
     "output_type": "stream",
     "text": [
      "0it [00:00, ?it/s]\n"
     ]
    },
    {
     "name": "stdout",
     "output_type": "stream",
     "text": [
      "Epoch = 12. Time index = 0. Threshold MC = 0.9. Threshold MD = 0.8\n",
      "RD = 0 NZ = 0 NZA = 0 pNZ = 0.000% pNZA = 0.000% AD = 0.00% ADA = 0.00% NO = 1 GSP = 0.00% NSP = 0.00%\n",
      "SI2 = -0.55 SI = -0.55 eGROI = 0.00% eROI = 0.00% eROI2 = 0.00% eROI3 = 0.00% mSpread = 0.0000%\n"
     ]
    },
    {
     "name": "stderr",
     "output_type": "stream",
     "text": [
      "0it [00:00, ?it/s]\n"
     ]
    },
    {
     "name": "stdout",
     "output_type": "stream",
     "text": [
      "Epoch = 12. Time index = 0. Threshold MC = 0.9. Threshold MD = 0.9\n",
      "RD = 0 NZ = 0 NZA = 0 pNZ = 0.000% pNZA = 0.000% AD = 0.00% ADA = 0.00% NO = 1 GSP = 0.00% NSP = 0.00%\n",
      "SI2 = -0.55 SI = -0.55 eGROI = 0.00% eROI = 0.00% eROI2 = 0.00% eROI3 = 0.00% mSpread = 0.0000%\n",
      "\n"
     ]
    },
    {
     "name": "stderr",
     "output_type": "stream",
     "text": [
      "0it [00:00, ?it/s]\n"
     ]
    },
    {
     "name": "stdout",
     "output_type": "stream",
     "text": [
      "Epoch = 12. Time index = 1. Threshold MC = 0.5. Threshold MD = 0.5\n",
      "J_test = 6.337478347446607, J_train = 6.510409559700013, Accuracy=0.5375478897184985\n",
      "RD = 273066 NZ = 524959 NZA = 1012718 pNZ = 45.699% pNZA = 88.160% AD = 52.02% ADA = 26.96% NO = 1 GSP = 0.00% NSP = 0.00%\n",
      "SI2 = -0.55 SI = -0.55 eGROI = 0.00% eROI = 0.00% eROI2 = 0.00% eROI3 = 0.00% mSpread = 0.0000%\n"
     ]
    },
    {
     "name": "stderr",
     "output_type": "stream",
     "text": [
      "100%|████████████████████████████████████████████████████████████████████████████████████████████████████████████████████████████████| 10660/10660 [00:04<00:00, 2141.79it/s]\n"
     ]
    },
    {
     "name": "stdout",
     "output_type": "stream",
     "text": [
      "Epoch = 12. Time index = 1. Threshold MC = 0.5. Threshold MD = 0.6\n",
      "RD = 7203 NZ = 10633 NZA = 22970 pNZ = 0.926% pNZA = 2.000% AD = 67.74% ADA = 31.36% NO = 2241 GSP = 61.80% NSP = 41.68%\n",
      "SI2 = -97.55 SI = -298.55 eGROI = 34.84% eROI = -39.58% eROI2 = -9.98% eROI3 = -32.39% mSpread = 0.0332%\n"
     ]
    },
    {
     "name": "stderr",
     "output_type": "stream",
     "text": [
      "100%|██████████████████████████████████████████████████████████████████████████████████████████████████████████████████████████████████████| 77/77 [00:00<00:00, 1400.78it/s]\n"
     ]
    },
    {
     "name": "stdout",
     "output_type": "stream",
     "text": [
      "Epoch = 12. Time index = 1. Threshold MC = 0.5. Threshold MD = 0.7\n",
      "RD = 996 NZ = 1211 NZA = 2474 pNZ = 0.105% pNZA = 0.215% AD = 82.25% ADA = 40.26% NO = 51 GSP = 80.39% NSP = 29.41%\n",
      "SI2 = 1.95 SI = -13.05 eGROI = 1.52% eROI = -0.71% eROI2 = 0.50% eROI3 = -0.01% mSpread = 0.0437%\n"
     ]
    },
    {
     "name": "stderr",
     "output_type": "stream",
     "text": [
      "0it [00:00, ?it/s]\n"
     ]
    },
    {
     "name": "stdout",
     "output_type": "stream",
     "text": [
      "Epoch = 12. Time index = 1. Threshold MC = 0.5. Threshold MD = 0.8\n",
      "RD = 204 NZ = 224 NZA = 388 pNZ = 0.019% pNZA = 0.034% AD = 91.07% ADA = 52.58% NO = 1 GSP = 0.00% NSP = 0.00%\n",
      "SI2 = -0.55 SI = -0.55 eGROI = 0.00% eROI = 0.00% eROI2 = 0.00% eROI3 = 0.00% mSpread = 0.0000%\n"
     ]
    },
    {
     "name": "stderr",
     "output_type": "stream",
     "text": [
      "0it [00:00, ?it/s]\n"
     ]
    },
    {
     "name": "stdout",
     "output_type": "stream",
     "text": [
      "Epoch = 12. Time index = 1. Threshold MC = 0.5. Threshold MD = 0.9\n",
      "RD = 0 NZ = 0 NZA = 0 pNZ = 0.000% pNZA = 0.000% AD = 0.00% ADA = 0.00% NO = 1 GSP = 0.00% NSP = 0.00%\n",
      "SI2 = -0.55 SI = -0.55 eGROI = 0.00% eROI = 0.00% eROI2 = 0.00% eROI3 = 0.00% mSpread = 0.0000%\n",
      "\n"
     ]
    },
    {
     "name": "stderr",
     "output_type": "stream",
     "text": [
      "0it [00:00, ?it/s]\n"
     ]
    },
    {
     "name": "stdout",
     "output_type": "stream",
     "text": [
      "Epoch = 12. Time index = 1. Threshold MC = 0.6. Threshold MD = 0.5\n",
      "RD = 87472 NZ = 164645 NZA = 271772 pNZ = 14.333% pNZA = 23.658% AD = 53.13% ADA = 32.19% NO = 1 GSP = 0.00% NSP = 0.00%\n",
      "SI2 = -0.55 SI = -0.55 eGROI = 0.00% eROI = 0.00% eROI2 = 0.00% eROI3 = 0.00% mSpread = 0.0000%\n"
     ]
    },
    {
     "name": "stderr",
     "output_type": "stream",
     "text": [
      "100%|██████████████████████████████████████████████████████████████████████████████████████████████████████████████████████████████████| 4676/4676 [00:02<00:00, 1993.86it/s]\n"
     ]
    },
    {
     "name": "stdout",
     "output_type": "stream",
     "text": [
      "Epoch = 12. Time index = 1. Threshold MC = 0.6. Threshold MD = 0.6\n",
      "RD = 3290 NZ = 4853 NZA = 8694 pNZ = 0.422% pNZA = 0.757% AD = 67.79% ADA = 37.84% NO = 1280 GSP = 62.66% NSP = 44.38%\n",
      "SI2 = -33.00 SI = -136.00 eGROI = 21.37% eROI = -19.60% eROI2 = -4.23% eROI3 = -17.03% mSpread = 0.0320%\n"
     ]
    },
    {
     "name": "stderr",
     "output_type": "stream",
     "text": [
      "100%|███████████████████████████████████████████████████████████████████████████████████████████████████████████████████████████████████████| 38/38 [00:00<00:00, 884.01it/s]\n"
     ]
    },
    {
     "name": "stdout",
     "output_type": "stream",
     "text": [
      "Epoch = 12. Time index = 1. Threshold MC = 0.6. Threshold MD = 0.7\n",
      "RD = 575 NZ = 684 NZA = 1133 pNZ = 0.060% pNZA = 0.099% AD = 84.06% ADA = 50.75% NO = 25 GSP = 88.00% NSP = 32.00%\n",
      "SI2 = 3.25 SI = -5.75 eGROI = 0.86% eROI = -0.24% eROI2 = 0.36% eROI3 = 0.11% mSpread = 0.0439%\n"
     ]
    },
    {
     "name": "stderr",
     "output_type": "stream",
     "text": [
      "0it [00:00, ?it/s]\n"
     ]
    },
    {
     "name": "stdout",
     "output_type": "stream",
     "text": [
      "Epoch = 12. Time index = 1. Threshold MC = 0.6. Threshold MD = 0.8\n",
      "RD = 160 NZ = 174 NZA = 267 pNZ = 0.015% pNZA = 0.023% AD = 91.95% ADA = 59.93% NO = 1 GSP = 0.00% NSP = 0.00%\n",
      "SI2 = -0.55 SI = -0.55 eGROI = 0.00% eROI = 0.00% eROI2 = 0.00% eROI3 = 0.00% mSpread = 0.0000%\n"
     ]
    },
    {
     "name": "stderr",
     "output_type": "stream",
     "text": [
      "0it [00:00, ?it/s]\n"
     ]
    },
    {
     "name": "stdout",
     "output_type": "stream",
     "text": [
      "Epoch = 12. Time index = 1. Threshold MC = 0.6. Threshold MD = 0.9\n",
      "RD = 0 NZ = 0 NZA = 0 pNZ = 0.000% pNZA = 0.000% AD = 0.00% ADA = 0.00% NO = 1 GSP = 0.00% NSP = 0.00%\n",
      "SI2 = -0.55 SI = -0.55 eGROI = 0.00% eROI = 0.00% eROI2 = 0.00% eROI3 = 0.00% mSpread = 0.0000%\n",
      "\n"
     ]
    },
    {
     "name": "stderr",
     "output_type": "stream",
     "text": [
      "100%|██████████████████████████████████████████████████████████████████████████████████████████████████████████████████████████████████| 9028/9028 [00:04<00:00, 2146.38it/s]\n"
     ]
    },
    {
     "name": "stdout",
     "output_type": "stream",
     "text": [
      "Epoch = 12. Time index = 1. Threshold MC = 0.7. Threshold MD = 0.5\n",
      "RD = 5982 NZ = 10793 NZA = 14863 pNZ = 0.940% pNZA = 1.294% AD = 55.42% ADA = 40.25% NO = 1809 GSP = 53.84% NSP = 46.38%\n",
      "SI2 = -142.95 SI = -155.95 eGROI = 2.42% eROI = -33.19% eROI2 = -33.76% eROI3 = -51.85% mSpread = 0.0197%\n"
     ]
    },
    {
     "name": "stderr",
     "output_type": "stream",
     "text": [
      "100%|████████████████████████████████████████████████████████████████████████████████████████████████████████████████████████████████████| 580/580 [00:00<00:00, 1871.98it/s]\n"
     ]
    },
    {
     "name": "stdout",
     "output_type": "stream",
     "text": [
      "Epoch = 12. Time index = 1. Threshold MC = 0.7. Threshold MD = 0.6\n",
      "RD = 680 NZ = 996 NZA = 1377 pNZ = 0.087% pNZA = 0.120% AD = 68.27% ADA = 49.38% NO = 276 GSP = 63.04% NSP = 50.00%\n",
      "SI2 = -4.80 SI = -13.80 eGROI = 5.61% eROI = -1.19% eROI2 = 0.09% eROI3 = -2.67% mSpread = 0.0247%\n"
     ]
    },
    {
     "name": "stderr",
     "output_type": "stream",
     "text": [
      "0it [00:00, ?it/s]\n"
     ]
    },
    {
     "name": "stdout",
     "output_type": "stream",
     "text": [
      "Epoch = 12. Time index = 1. Threshold MC = 0.7. Threshold MD = 0.7\n",
      "RD = 203 NZ = 237 NZA = 304 pNZ = 0.021% pNZA = 0.026% AD = 85.65% ADA = 66.78% NO = 1 GSP = 0.00% NSP = 0.00%\n",
      "SI2 = -0.55 SI = -0.55 eGROI = 0.00% eROI = 0.00% eROI2 = 0.00% eROI3 = 0.00% mSpread = 0.0000%\n"
     ]
    },
    {
     "name": "stderr",
     "output_type": "stream",
     "text": [
      "0it [00:00, ?it/s]\n"
     ]
    },
    {
     "name": "stdout",
     "output_type": "stream",
     "text": [
      "Epoch = 12. Time index = 1. Threshold MC = 0.7. Threshold MD = 0.8\n",
      "RD = 90 NZ = 95 NZA = 121 pNZ = 0.008% pNZA = 0.011% AD = 94.74% ADA = 74.38% NO = 1 GSP = 0.00% NSP = 0.00%\n",
      "SI2 = -0.55 SI = -0.55 eGROI = 0.00% eROI = 0.00% eROI2 = 0.00% eROI3 = 0.00% mSpread = 0.0000%\n"
     ]
    },
    {
     "name": "stderr",
     "output_type": "stream",
     "text": [
      "0it [00:00, ?it/s]\n"
     ]
    },
    {
     "name": "stdout",
     "output_type": "stream",
     "text": [
      "Epoch = 12. Time index = 1. Threshold MC = 0.7. Threshold MD = 0.9\n",
      "RD = 0 NZ = 0 NZA = 0 pNZ = 0.000% pNZA = 0.000% AD = 0.00% ADA = 0.00% NO = 1 GSP = 0.00% NSP = 0.00%\n",
      "SI2 = -0.55 SI = -0.55 eGROI = 0.00% eROI = 0.00% eROI2 = 0.00% eROI3 = 0.00% mSpread = 0.0000%\n",
      "\n"
     ]
    },
    {
     "name": "stderr",
     "output_type": "stream",
     "text": [
      "100%|████████████████████████████████████████████████████████████████████████████████████████████████████████████████████████████████████| 388/388 [00:00<00:00, 1684.11it/s]\n"
     ]
    },
    {
     "name": "stdout",
     "output_type": "stream",
     "text": [
      "Epoch = 12. Time index = 1. Threshold MC = 0.8. Threshold MD = 0.5\n",
      "RD = 286 NZ = 473 NZA = 594 pNZ = 0.041% pNZA = 0.052% AD = 60.47% ADA = 48.15% NO = 238 GSP = 59.66% NSP = 52.94%\n",
      "SI2 = -5.90 SI = -4.90 eGROI = 6.76% eROI = 2.18% eROI2 = 2.00% eROI3 = -0.38% mSpread = 0.0192%\n"
     ]
    },
    {
     "name": "stderr",
     "output_type": "stream",
     "text": [
      "100%|██████████████████████████████████████████████████████████████████████████████████████████████████████████████████████████████████████| 14/14 [00:00<00:00, 2006.64it/s]\n"
     ]
    },
    {
     "name": "stdout",
     "output_type": "stream",
     "text": [
      "Epoch = 12. Time index = 1. Threshold MC = 0.8. Threshold MD = 0.6\n",
      "RD = 61 NZ = 84 NZA = 108 pNZ = 0.007% pNZA = 0.009% AD = 72.62% ADA = 56.48% NO = 13 GSP = 84.62% NSP = 69.23%\n",
      "SI2 = 1.85 SI = 1.85 eGROI = 0.74% eROI = 0.44% eROI2 = 0.48% eROI3 = 0.35% mSpread = 0.0234%\n"
     ]
    },
    {
     "name": "stderr",
     "output_type": "stream",
     "text": [
      "0it [00:00, ?it/s]\n"
     ]
    },
    {
     "name": "stdout",
     "output_type": "stream",
     "text": [
      "Epoch = 12. Time index = 1. Threshold MC = 0.8. Threshold MD = 0.7\n",
      "RD = 26 NZ = 32 NZA = 43 pNZ = 0.003% pNZA = 0.004% AD = 81.25% ADA = 60.47% NO = 1 GSP = 0.00% NSP = 0.00%\n",
      "SI2 = -0.55 SI = -0.55 eGROI = 0.00% eROI = 0.00% eROI2 = 0.00% eROI3 = 0.00% mSpread = 0.0000%\n"
     ]
    },
    {
     "name": "stderr",
     "output_type": "stream",
     "text": [
      "0it [00:00, ?it/s]\n"
     ]
    },
    {
     "name": "stdout",
     "output_type": "stream",
     "text": [
      "Epoch = 12. Time index = 1. Threshold MC = 0.8. Threshold MD = 0.8\n",
      "RD = 9 NZ = 11 NZA = 13 pNZ = 0.001% pNZA = 0.001% AD = 81.82% ADA = 69.23% NO = 1 GSP = 0.00% NSP = 0.00%\n",
      "SI2 = -0.55 SI = -0.55 eGROI = 0.00% eROI = 0.00% eROI2 = 0.00% eROI3 = 0.00% mSpread = 0.0000%\n"
     ]
    },
    {
     "name": "stderr",
     "output_type": "stream",
     "text": [
      "0it [00:00, ?it/s]\n"
     ]
    },
    {
     "name": "stdout",
     "output_type": "stream",
     "text": [
      "Epoch = 12. Time index = 1. Threshold MC = 0.8. Threshold MD = 0.9\n",
      "RD = 0 NZ = 0 NZA = 0 pNZ = 0.000% pNZA = 0.000% AD = 0.00% ADA = 0.00% NO = 1 GSP = 0.00% NSP = 0.00%\n",
      "SI2 = -0.55 SI = -0.55 eGROI = 0.00% eROI = 0.00% eROI2 = 0.00% eROI3 = 0.00% mSpread = 0.0000%\n",
      "\n"
     ]
    },
    {
     "name": "stderr",
     "output_type": "stream",
     "text": [
      "0it [00:00, ?it/s]\n"
     ]
    },
    {
     "name": "stdout",
     "output_type": "stream",
     "text": [
      "Epoch = 12. Time index = 1. Threshold MC = 0.9. Threshold MD = 0.5\n",
      "RD = 0 NZ = 0 NZA = 0 pNZ = 0.000% pNZA = 0.000% AD = 0.00% ADA = 0.00% NO = 1 GSP = 0.00% NSP = 0.00%\n",
      "SI2 = -0.55 SI = -0.55 eGROI = 0.00% eROI = 0.00% eROI2 = 0.00% eROI3 = 0.00% mSpread = 0.0000%\n"
     ]
    },
    {
     "name": "stderr",
     "output_type": "stream",
     "text": [
      "0it [00:00, ?it/s]\n"
     ]
    },
    {
     "name": "stdout",
     "output_type": "stream",
     "text": [
      "Epoch = 12. Time index = 1. Threshold MC = 0.9. Threshold MD = 0.6\n",
      "RD = 0 NZ = 0 NZA = 0 pNZ = 0.000% pNZA = 0.000% AD = 0.00% ADA = 0.00% NO = 1 GSP = 0.00% NSP = 0.00%\n",
      "SI2 = -0.55 SI = -0.55 eGROI = 0.00% eROI = 0.00% eROI2 = 0.00% eROI3 = 0.00% mSpread = 0.0000%\n"
     ]
    },
    {
     "name": "stderr",
     "output_type": "stream",
     "text": [
      "0it [00:00, ?it/s]\n"
     ]
    },
    {
     "name": "stdout",
     "output_type": "stream",
     "text": [
      "Epoch = 12. Time index = 1. Threshold MC = 0.9. Threshold MD = 0.7\n",
      "RD = 0 NZ = 0 NZA = 0 pNZ = 0.000% pNZA = 0.000% AD = 0.00% ADA = 0.00% NO = 1 GSP = 0.00% NSP = 0.00%\n",
      "SI2 = -0.55 SI = -0.55 eGROI = 0.00% eROI = 0.00% eROI2 = 0.00% eROI3 = 0.00% mSpread = 0.0000%\n"
     ]
    },
    {
     "name": "stderr",
     "output_type": "stream",
     "text": [
      "0it [00:00, ?it/s]\n"
     ]
    },
    {
     "name": "stdout",
     "output_type": "stream",
     "text": [
      "Epoch = 12. Time index = 1. Threshold MC = 0.9. Threshold MD = 0.8\n",
      "RD = 0 NZ = 0 NZA = 0 pNZ = 0.000% pNZA = 0.000% AD = 0.00% ADA = 0.00% NO = 1 GSP = 0.00% NSP = 0.00%\n",
      "SI2 = -0.55 SI = -0.55 eGROI = 0.00% eROI = 0.00% eROI2 = 0.00% eROI3 = 0.00% mSpread = 0.0000%\n"
     ]
    },
    {
     "name": "stderr",
     "output_type": "stream",
     "text": [
      "0it [00:00, ?it/s]\n"
     ]
    },
    {
     "name": "stdout",
     "output_type": "stream",
     "text": [
      "Epoch = 12. Time index = 1. Threshold MC = 0.9. Threshold MD = 0.9\n",
      "RD = 0 NZ = 0 NZA = 0 pNZ = 0.000% pNZA = 0.000% AD = 0.00% ADA = 0.00% NO = 1 GSP = 0.00% NSP = 0.00%\n",
      "SI2 = -0.55 SI = -0.55 eGROI = 0.00% eROI = 0.00% eROI2 = 0.00% eROI3 = 0.00% mSpread = 0.0000%\n",
      "\n"
     ]
    },
    {
     "name": "stderr",
     "output_type": "stream",
     "text": [
      "0it [00:00, ?it/s]\n"
     ]
    },
    {
     "name": "stdout",
     "output_type": "stream",
     "text": [
      "Epoch = 12. Time index = 2. Threshold MC = 0.5. Threshold MD = 0.5\n",
      "J_test = 6.337478347446607, J_train = 6.510409559700013, Accuracy=0.5391278913376738\n",
      "RD = 271037 NZ = 520760 NZA = 1002504 pNZ = 45.333% pNZA = 87.270% AD = 52.05% ADA = 27.04% NO = 1 GSP = 0.00% NSP = 0.00%\n",
      "SI2 = -0.55 SI = -0.55 eGROI = 0.00% eROI = 0.00% eROI2 = 0.00% eROI3 = 0.00% mSpread = 0.0000%\n"
     ]
    },
    {
     "name": "stderr",
     "output_type": "stream",
     "text": [
      "100%|████████████████████████████████████████████████████████████████████████████████████████████████████████████████████████████████| 11913/11913 [00:04<00:00, 2447.16it/s]\n"
     ]
    },
    {
     "name": "stdout",
     "output_type": "stream",
     "text": [
      "Epoch = 12. Time index = 2. Threshold MC = 0.5. Threshold MD = 0.6\n",
      "RD = 7895 NZ = 11570 NZA = 24984 pNZ = 1.007% pNZA = 2.175% AD = 68.24% ADA = 31.60% NO = 2387 GSP = 62.51% NSP = 41.98%\n",
      "SI2 = -107.85 SI = -310.85 eGROI = 37.99% eROI = -40.54% eROI2 = -9.75% eROI3 = -33.62% mSpread = 0.0329%\n"
     ]
    },
    {
     "name": "stderr",
     "output_type": "stream",
     "text": [
      "100%|████████████████████████████████████████████████████████████████████████████████████████████████████████████████████████████████████| 184/184 [00:00<00:00, 1882.53it/s]\n"
     ]
    },
    {
     "name": "stdout",
     "output_type": "stream",
     "text": [
      "Epoch = 12. Time index = 2. Threshold MC = 0.5. Threshold MD = 0.7\n",
      "RD = 1248 NZ = 1536 NZA = 3344 pNZ = 0.134% pNZA = 0.291% AD = 81.25% ADA = 37.32% NO = 110 GSP = 70.00% NSP = 37.27%\n",
      "SI2 = 0.50 SI = -19.50 eGROI = 2.04% eROI = -2.28% eROI2 = -0.16% eROI3 = -1.26% mSpread = 0.0393%\n"
     ]
    },
    {
     "name": "stderr",
     "output_type": "stream",
     "text": [
      "0it [00:00, ?it/s]\n"
     ]
    },
    {
     "name": "stdout",
     "output_type": "stream",
     "text": [
      "Epoch = 12. Time index = 2. Threshold MC = 0.5. Threshold MD = 0.8\n",
      "RD = 214 NZ = 238 NZA = 434 pNZ = 0.021% pNZA = 0.038% AD = 89.92% ADA = 49.31% NO = 1 GSP = 0.00% NSP = 0.00%\n",
      "SI2 = -0.55 SI = -0.55 eGROI = 0.00% eROI = 0.00% eROI2 = 0.00% eROI3 = 0.00% mSpread = 0.0000%\n"
     ]
    },
    {
     "name": "stderr",
     "output_type": "stream",
     "text": [
      "0it [00:00, ?it/s]\n"
     ]
    },
    {
     "name": "stdout",
     "output_type": "stream",
     "text": [
      "Epoch = 12. Time index = 2. Threshold MC = 0.5. Threshold MD = 0.9\n",
      "RD = 0 NZ = 0 NZA = 0 pNZ = 0.000% pNZA = 0.000% AD = 0.00% ADA = 0.00% NO = 1 GSP = 0.00% NSP = 0.00%\n",
      "SI2 = -0.55 SI = -0.55 eGROI = 0.00% eROI = 0.00% eROI2 = 0.00% eROI3 = 0.00% mSpread = 0.0000%\n",
      "\n"
     ]
    },
    {
     "name": "stderr",
     "output_type": "stream",
     "text": [
      "0it [00:00, ?it/s]\n"
     ]
    },
    {
     "name": "stdout",
     "output_type": "stream",
     "text": [
      "Epoch = 12. Time index = 2. Threshold MC = 0.6. Threshold MD = 0.5\n",
      "RD = 86020 NZ = 161863 NZA = 267944 pNZ = 14.091% pNZA = 23.325% AD = 53.14% ADA = 32.10% NO = 1 GSP = 0.00% NSP = 0.00%\n",
      "SI2 = -0.55 SI = -0.55 eGROI = 0.00% eROI = 0.00% eROI2 = 0.00% eROI3 = 0.00% mSpread = 0.0000%\n"
     ]
    },
    {
     "name": "stderr",
     "output_type": "stream",
     "text": [
      "100%|██████████████████████████████████████████████████████████████████████████████████████████████████████████████████████████████████| 7106/7106 [00:02<00:00, 3101.80it/s]\n"
     ]
    },
    {
     "name": "stdout",
     "output_type": "stream",
     "text": [
      "Epoch = 12. Time index = 2. Threshold MC = 0.6. Threshold MD = 0.6\n",
      "RD = 4127 NZ = 6053 NZA = 11118 pNZ = 0.527% pNZA = 0.968% AD = 68.18% ADA = 37.12% NO = 1713 GSP = 62.81% NSP = 42.85%\n",
      "SI2 = -63.15 SI = -208.15 eGROI = 28.21% eROI = -27.62% eROI2 = -6.05% eROI3 = -23.18% mSpread = 0.0326%\n"
     ]
    },
    {
     "name": "stderr",
     "output_type": "stream",
     "text": [
      "100%|████████████████████████████████████████████████████████████████████████████████████████████████████████████████████████████████████| 136/136 [00:00<00:00, 2572.79it/s]\n"
     ]
    },
    {
     "name": "stdout",
     "output_type": "stream",
     "text": [
      "Epoch = 12. Time index = 2. Threshold MC = 0.6. Threshold MD = 0.7\n",
      "RD = 650 NZ = 797 NZA = 1357 pNZ = 0.069% pNZA = 0.118% AD = 81.56% ADA = 47.90% NO = 80 GSP = 68.75% NSP = 42.50%\n",
      "SI2 = 2.00 SI = -10.00 eGROI = 1.94% eROI = -1.29% eROI2 = 0.34% eROI3 = -0.46% mSpread = 0.0404%\n"
     ]
    },
    {
     "name": "stderr",
     "output_type": "stream",
     "text": [
      "0it [00:00, ?it/s]\n"
     ]
    },
    {
     "name": "stdout",
     "output_type": "stream",
     "text": [
      "Epoch = 12. Time index = 2. Threshold MC = 0.6. Threshold MD = 0.8\n",
      "RD = 163 NZ = 176 NZA = 259 pNZ = 0.015% pNZA = 0.023% AD = 92.61% ADA = 62.93% NO = 1 GSP = 0.00% NSP = 0.00%\n",
      "SI2 = -0.55 SI = -0.55 eGROI = 0.00% eROI = 0.00% eROI2 = 0.00% eROI3 = 0.00% mSpread = 0.0000%\n"
     ]
    },
    {
     "name": "stderr",
     "output_type": "stream",
     "text": [
      "0it [00:00, ?it/s]\n"
     ]
    },
    {
     "name": "stdout",
     "output_type": "stream",
     "text": [
      "Epoch = 12. Time index = 2. Threshold MC = 0.6. Threshold MD = 0.9\n",
      "RD = 0 NZ = 0 NZA = 0 pNZ = 0.000% pNZA = 0.000% AD = 0.00% ADA = 0.00% NO = 1 GSP = 0.00% NSP = 0.00%\n",
      "SI2 = -0.55 SI = -0.55 eGROI = 0.00% eROI = 0.00% eROI2 = 0.00% eROI3 = 0.00% mSpread = 0.0000%\n",
      "\n"
     ]
    },
    {
     "name": "stderr",
     "output_type": "stream",
     "text": [
      "100%|██████████████████████████████████████████████████████████████████████████████████████████████████████████████████████████████████| 8524/8524 [00:02<00:00, 3485.56it/s]\n"
     ]
    },
    {
     "name": "stdout",
     "output_type": "stream",
     "text": [
      "Epoch = 12. Time index = 2. Threshold MC = 0.7. Threshold MD = 0.5\n",
      "RD = 5387 NZ = 9661 NZA = 13300 pNZ = 0.841% pNZA = 1.158% AD = 55.76% ADA = 40.50% NO = 1759 GSP = 54.75% NSP = 46.96%\n",
      "SI2 = -120.45 SI = -141.45 eGROI = 6.46% eROI = -29.26% eROI2 = -28.72% eROI3 = -46.31% mSpread = 0.0203%\n"
     ]
    },
    {
     "name": "stderr",
     "output_type": "stream",
     "text": [
      "100%|██████████████████████████████████████████████████████████████████████████████████████████████████████████████████████████████████| 1038/1038 [00:00<00:00, 2939.98it/s]\n"
     ]
    },
    {
     "name": "stdout",
     "output_type": "stream",
     "text": [
      "Epoch = 12. Time index = 2. Threshold MC = 0.7. Threshold MD = 0.6\n",
      "RD = 892 NZ = 1302 NZA = 1830 pNZ = 0.113% pNZA = 0.159% AD = 68.51% ADA = 48.74% NO = 416 GSP = 65.62% NSP = 52.88%\n",
      "SI2 = 5.20 SI = -8.80 eGROI = 8.95% eROI = -1.54% eROI2 = 0.63% eROI3 = -3.53% mSpread = 0.0252%\n"
     ]
    },
    {
     "name": "stderr",
     "output_type": "stream",
     "text": [
      "100%|████████████████████████████████████████████████████████████████████████████████████████████████████████████████████████████████████████| 1/1 [00:00<00:00, 1002.70it/s]\n"
     ]
    },
    {
     "name": "stdout",
     "output_type": "stream",
     "text": [
      "Epoch = 12. Time index = 2. Threshold MC = 0.7. Threshold MD = 0.7\n",
      "RD = 227 NZ = 264 NZA = 346 pNZ = 0.023% pNZA = 0.030% AD = 85.98% ADA = 65.61% NO = 2 GSP = 50.00% NSP = 50.00%\n",
      "SI2 = -0.10 SI = -0.10 eGROI = 0.04% eROI = -0.05% eROI2 = -0.00% eROI3 = -0.02% mSpread = 0.0445%\n"
     ]
    },
    {
     "name": "stderr",
     "output_type": "stream",
     "text": [
      "0it [00:00, ?it/s]\n"
     ]
    },
    {
     "name": "stdout",
     "output_type": "stream",
     "text": [
      "Epoch = 12. Time index = 2. Threshold MC = 0.7. Threshold MD = 0.8\n",
      "RD = 100 NZ = 108 NZA = 135 pNZ = 0.009% pNZA = 0.012% AD = 92.59% ADA = 74.07% NO = 1 GSP = 0.00% NSP = 0.00%\n",
      "SI2 = -0.55 SI = -0.55 eGROI = 0.00% eROI = 0.00% eROI2 = 0.00% eROI3 = 0.00% mSpread = 0.0000%\n"
     ]
    },
    {
     "name": "stderr",
     "output_type": "stream",
     "text": [
      "0it [00:00, ?it/s]\n"
     ]
    },
    {
     "name": "stdout",
     "output_type": "stream",
     "text": [
      "Epoch = 12. Time index = 2. Threshold MC = 0.7. Threshold MD = 0.9\n",
      "RD = 0 NZ = 0 NZA = 0 pNZ = 0.000% pNZA = 0.000% AD = 0.00% ADA = 0.00% NO = 1 GSP = 0.00% NSP = 0.00%\n",
      "SI2 = -0.55 SI = -0.55 eGROI = 0.00% eROI = 0.00% eROI2 = 0.00% eROI3 = 0.00% mSpread = 0.0000%\n",
      "\n"
     ]
    },
    {
     "name": "stderr",
     "output_type": "stream",
     "text": [
      "100%|████████████████████████████████████████████████████████████████████████████████████████████████████████████████████████████████████| 455/455 [00:00<00:00, 2606.89it/s]\n"
     ]
    },
    {
     "name": "stdout",
     "output_type": "stream",
     "text": [
      "Epoch = 12. Time index = 2. Threshold MC = 0.8. Threshold MD = 0.5\n",
      "RD = 311 NZ = 516 NZA = 654 pNZ = 0.045% pNZA = 0.057% AD = 60.27% ADA = 47.55% NO = 275 GSP = 57.09% NSP = 50.55%\n",
      "SI2 = -11.25 SI = -12.25 eGROI = 5.89% eROI = 0.47% eROI2 = 0.39% eROI3 = -2.36% mSpread = 0.0197%\n"
     ]
    },
    {
     "name": "stderr",
     "output_type": "stream",
     "text": [
      "100%|██████████████████████████████████████████████████████████████████████████████████████████████████████████████████████████████████████| 40/40 [00:00<00:00, 2359.17it/s]\n"
     ]
    },
    {
     "name": "stdout",
     "output_type": "stream",
     "text": [
      "Epoch = 12. Time index = 2. Threshold MC = 0.8. Threshold MD = 0.6\n",
      "RD = 90 NZ = 114 NZA = 146 pNZ = 0.010% pNZA = 0.013% AD = 78.95% ADA = 61.64% NO = 33 GSP = 69.70% NSP = 57.58%\n",
      "SI2 = 2.85 SI = 0.85 eGROI = 1.32% eROI = 0.53% eROI2 = 0.66% eROI3 = 0.33% mSpread = 0.0239%\n"
     ]
    },
    {
     "name": "stderr",
     "output_type": "stream",
     "text": [
      "0it [00:00, ?it/s]\n"
     ]
    },
    {
     "name": "stdout",
     "output_type": "stream",
     "text": [
      "Epoch = 12. Time index = 2. Threshold MC = 0.8. Threshold MD = 0.7\n",
      "RD = 37 NZ = 45 NZA = 61 pNZ = 0.004% pNZA = 0.005% AD = 82.22% ADA = 60.66% NO = 1 GSP = 0.00% NSP = 0.00%\n",
      "SI2 = -0.55 SI = -0.55 eGROI = 0.00% eROI = 0.00% eROI2 = 0.00% eROI3 = 0.00% mSpread = 0.0000%\n"
     ]
    },
    {
     "name": "stderr",
     "output_type": "stream",
     "text": [
      "0it [00:00, ?it/s]\n"
     ]
    },
    {
     "name": "stdout",
     "output_type": "stream",
     "text": [
      "Epoch = 12. Time index = 2. Threshold MC = 0.8. Threshold MD = 0.8\n",
      "RD = 19 NZ = 23 NZA = 26 pNZ = 0.002% pNZA = 0.002% AD = 82.61% ADA = 73.08% NO = 1 GSP = 0.00% NSP = 0.00%\n",
      "SI2 = -0.55 SI = -0.55 eGROI = 0.00% eROI = 0.00% eROI2 = 0.00% eROI3 = 0.00% mSpread = 0.0000%\n"
     ]
    },
    {
     "name": "stderr",
     "output_type": "stream",
     "text": [
      "0it [00:00, ?it/s]\n"
     ]
    },
    {
     "name": "stdout",
     "output_type": "stream",
     "text": [
      "Epoch = 12. Time index = 2. Threshold MC = 0.8. Threshold MD = 0.9\n",
      "RD = 0 NZ = 0 NZA = 0 pNZ = 0.000% pNZA = 0.000% AD = 0.00% ADA = 0.00% NO = 1 GSP = 0.00% NSP = 0.00%\n",
      "SI2 = -0.55 SI = -0.55 eGROI = 0.00% eROI = 0.00% eROI2 = 0.00% eROI3 = 0.00% mSpread = 0.0000%\n",
      "\n"
     ]
    },
    {
     "name": "stderr",
     "output_type": "stream",
     "text": [
      "0it [00:00, ?it/s]\n"
     ]
    },
    {
     "name": "stdout",
     "output_type": "stream",
     "text": [
      "Epoch = 12. Time index = 2. Threshold MC = 0.9. Threshold MD = 0.5\n",
      "RD = 0 NZ = 0 NZA = 0 pNZ = 0.000% pNZA = 0.000% AD = 0.00% ADA = 0.00% NO = 1 GSP = 0.00% NSP = 0.00%\n",
      "SI2 = -0.55 SI = -0.55 eGROI = 0.00% eROI = 0.00% eROI2 = 0.00% eROI3 = 0.00% mSpread = 0.0000%\n"
     ]
    },
    {
     "name": "stderr",
     "output_type": "stream",
     "text": [
      "0it [00:00, ?it/s]\n"
     ]
    },
    {
     "name": "stdout",
     "output_type": "stream",
     "text": [
      "Epoch = 12. Time index = 2. Threshold MC = 0.9. Threshold MD = 0.6\n",
      "RD = 0 NZ = 0 NZA = 0 pNZ = 0.000% pNZA = 0.000% AD = 0.00% ADA = 0.00% NO = 1 GSP = 0.00% NSP = 0.00%\n",
      "SI2 = -0.55 SI = -0.55 eGROI = 0.00% eROI = 0.00% eROI2 = 0.00% eROI3 = 0.00% mSpread = 0.0000%\n"
     ]
    },
    {
     "name": "stderr",
     "output_type": "stream",
     "text": [
      "0it [00:00, ?it/s]\n"
     ]
    },
    {
     "name": "stdout",
     "output_type": "stream",
     "text": [
      "Epoch = 12. Time index = 2. Threshold MC = 0.9. Threshold MD = 0.7\n",
      "RD = 0 NZ = 0 NZA = 0 pNZ = 0.000% pNZA = 0.000% AD = 0.00% ADA = 0.00% NO = 1 GSP = 0.00% NSP = 0.00%\n",
      "SI2 = -0.55 SI = -0.55 eGROI = 0.00% eROI = 0.00% eROI2 = 0.00% eROI3 = 0.00% mSpread = 0.0000%\n"
     ]
    },
    {
     "name": "stderr",
     "output_type": "stream",
     "text": [
      "0it [00:00, ?it/s]\n"
     ]
    },
    {
     "name": "stdout",
     "output_type": "stream",
     "text": [
      "Epoch = 12. Time index = 2. Threshold MC = 0.9. Threshold MD = 0.8\n",
      "RD = 0 NZ = 0 NZA = 0 pNZ = 0.000% pNZA = 0.000% AD = 0.00% ADA = 0.00% NO = 1 GSP = 0.00% NSP = 0.00%\n",
      "SI2 = -0.55 SI = -0.55 eGROI = 0.00% eROI = 0.00% eROI2 = 0.00% eROI3 = 0.00% mSpread = 0.0000%\n"
     ]
    },
    {
     "name": "stderr",
     "output_type": "stream",
     "text": [
      "0it [00:00, ?it/s]\n"
     ]
    },
    {
     "name": "stdout",
     "output_type": "stream",
     "text": [
      "Epoch = 12. Time index = 2. Threshold MC = 0.9. Threshold MD = 0.9\n",
      "RD = 0 NZ = 0 NZA = 0 pNZ = 0.000% pNZA = 0.000% AD = 0.00% ADA = 0.00% NO = 1 GSP = 0.00% NSP = 0.00%\n",
      "SI2 = -0.55 SI = -0.55 eGROI = 0.00% eROI = 0.00% eROI2 = 0.00% eROI3 = 0.00% mSpread = 0.0000%\n",
      "\n"
     ]
    },
    {
     "name": "stderr",
     "output_type": "stream",
     "text": [
      "0it [00:00, ?it/s]\n"
     ]
    },
    {
     "name": "stdout",
     "output_type": "stream",
     "text": [
      "Epoch = 12. Time index = 3. Threshold MC = 0.5. Threshold MD = 0.5\n",
      "J_test = 6.337478347446607, J_train = 6.510409559700013, Accuracy=0.5384549760475237\n",
      "RD = 270739 NZ = 519372 NZA = 1000501 pNZ = 45.213% pNZA = 87.096% AD = 52.13% ADA = 27.06% NO = 1 GSP = 0.00% NSP = 0.00%\n",
      "SI2 = -0.55 SI = -0.55 eGROI = 0.00% eROI = 0.00% eROI2 = 0.00% eROI3 = 0.00% mSpread = 0.0000%\n"
     ]
    },
    {
     "name": "stderr",
     "output_type": "stream",
     "text": [
      "100%|████████████████████████████████████████████████████████████████████████████████████████████████████████████████████████████████| 12353/12353 [00:03<00:00, 3354.75it/s]\n"
     ]
    },
    {
     "name": "stdout",
     "output_type": "stream",
     "text": [
      "Epoch = 12. Time index = 3. Threshold MC = 0.5. Threshold MD = 0.6\n",
      "RD = 8129 NZ = 11932 NZA = 25779 pNZ = 1.039% pNZA = 2.244% AD = 68.13% ADA = 31.53% NO = 2426 GSP = 62.49% NSP = 42.13%\n",
      "SI2 = -88.30 SI = -312.30 eGROI = 39.89% eROI = -39.17% eROI2 = -8.63% eROI3 = -32.89% mSpread = 0.0326%\n"
     ]
    },
    {
     "name": "stderr",
     "output_type": "stream",
     "text": [
      "100%|████████████████████████████████████████████████████████████████████████████████████████████████████████████████████████████████████| 299/299 [00:00<00:00, 2288.50it/s]\n"
     ]
    },
    {
     "name": "stdout",
     "output_type": "stream",
     "text": [
      "Epoch = 12. Time index = 3. Threshold MC = 0.5. Threshold MD = 0.7\n",
      "RD = 1421 NZ = 1781 NZA = 4063 pNZ = 0.155% pNZA = 0.354% AD = 79.79% ADA = 34.97% NO = 166 GSP = 62.65% NSP = 31.93%\n",
      "SI2 = -12.30 SI = -38.30 eGROI = 1.67% eROI = -5.07% eROI2 = -1.65% eROI3 = -3.31% mSpread = 0.0407%\n"
     ]
    },
    {
     "name": "stderr",
     "output_type": "stream",
     "text": [
      "0it [00:00, ?it/s]\n"
     ]
    },
    {
     "name": "stdout",
     "output_type": "stream",
     "text": [
      "Epoch = 12. Time index = 3. Threshold MC = 0.5. Threshold MD = 0.8\n",
      "RD = 171 NZ = 192 NZA = 388 pNZ = 0.017% pNZA = 0.034% AD = 89.06% ADA = 44.07% NO = 1 GSP = 0.00% NSP = 0.00%\n",
      "SI2 = -0.55 SI = -0.55 eGROI = 0.00% eROI = 0.00% eROI2 = 0.00% eROI3 = 0.00% mSpread = 0.0000%\n"
     ]
    },
    {
     "name": "stderr",
     "output_type": "stream",
     "text": [
      "0it [00:00, ?it/s]\n"
     ]
    },
    {
     "name": "stdout",
     "output_type": "stream",
     "text": [
      "Epoch = 12. Time index = 3. Threshold MC = 0.5. Threshold MD = 0.9\n",
      "RD = 0 NZ = 0 NZA = 0 pNZ = 0.000% pNZA = 0.000% AD = 0.00% ADA = 0.00% NO = 1 GSP = 0.00% NSP = 0.00%\n",
      "SI2 = -0.55 SI = -0.55 eGROI = 0.00% eROI = 0.00% eROI2 = 0.00% eROI3 = 0.00% mSpread = 0.0000%\n",
      "\n"
     ]
    },
    {
     "name": "stderr",
     "output_type": "stream",
     "text": [
      "0it [00:00, ?it/s]\n"
     ]
    },
    {
     "name": "stdout",
     "output_type": "stream",
     "text": [
      "Epoch = 12. Time index = 3. Threshold MC = 0.6. Threshold MD = 0.5\n",
      "RD = 87024 NZ = 164257 NZA = 273322 pNZ = 14.299% pNZA = 23.793% AD = 52.98% ADA = 31.84% NO = 1 GSP = 0.00% NSP = 0.00%\n",
      "SI2 = -0.55 SI = -0.55 eGROI = 0.00% eROI = 0.00% eROI2 = 0.00% eROI3 = 0.00% mSpread = 0.0000%\n"
     ]
    },
    {
     "name": "stderr",
     "output_type": "stream",
     "text": [
      "100%|██████████████████████████████████████████████████████████████████████████████████████████████████████████████████████████████████| 8414/8414 [00:02<00:00, 4007.75it/s]\n"
     ]
    },
    {
     "name": "stdout",
     "output_type": "stream",
     "text": [
      "Epoch = 12. Time index = 3. Threshold MC = 0.6. Threshold MD = 0.6\n",
      "RD = 4527 NZ = 6631 NZA = 12382 pNZ = 0.577% pNZA = 1.078% AD = 68.27% ADA = 36.56% NO = 1922 GSP = 63.32% NSP = 42.92%\n",
      "SI2 = -54.10 SI = -232.10 eGROI = 32.77% eROI = -30.85% eROI2 = -5.67% eROI3 = -24.89% mSpread = 0.0331%\n"
     ]
    },
    {
     "name": "stderr",
     "output_type": "stream",
     "text": [
      "100%|████████████████████████████████████████████████████████████████████████████████████████████████████████████████████████████████████| 242/242 [00:00<00:00, 2854.58it/s]\n"
     ]
    },
    {
     "name": "stdout",
     "output_type": "stream",
     "text": [
      "Epoch = 12. Time index = 3. Threshold MC = 0.6. Threshold MD = 0.7\n",
      "RD = 654 NZ = 818 NZA = 1460 pNZ = 0.071% pNZA = 0.127% AD = 79.95% ADA = 44.79% NO = 131 GSP = 60.31% NSP = 32.06%\n",
      "SI2 = -11.05 SI = -30.05 eGROI = 1.23% eROI = -4.18% eROI2 = -1.39% eROI3 = -2.70% mSpread = 0.0413%\n"
     ]
    },
    {
     "name": "stderr",
     "output_type": "stream",
     "text": [
      "0it [00:00, ?it/s]\n"
     ]
    },
    {
     "name": "stdout",
     "output_type": "stream",
     "text": [
      "Epoch = 12. Time index = 3. Threshold MC = 0.6. Threshold MD = 0.8\n",
      "RD = 119 NZ = 128 NZA = 190 pNZ = 0.011% pNZA = 0.017% AD = 92.97% ADA = 62.63% NO = 1 GSP = 0.00% NSP = 0.00%\n",
      "SI2 = -0.55 SI = -0.55 eGROI = 0.00% eROI = 0.00% eROI2 = 0.00% eROI3 = 0.00% mSpread = 0.0000%\n"
     ]
    },
    {
     "name": "stderr",
     "output_type": "stream",
     "text": [
      "0it [00:00, ?it/s]\n"
     ]
    },
    {
     "name": "stdout",
     "output_type": "stream",
     "text": [
      "Epoch = 12. Time index = 3. Threshold MC = 0.6. Threshold MD = 0.9\n",
      "RD = 0 NZ = 0 NZA = 0 pNZ = 0.000% pNZA = 0.000% AD = 0.00% ADA = 0.00% NO = 1 GSP = 0.00% NSP = 0.00%\n",
      "SI2 = -0.55 SI = -0.55 eGROI = 0.00% eROI = 0.00% eROI2 = 0.00% eROI3 = 0.00% mSpread = 0.0000%\n",
      "\n"
     ]
    },
    {
     "name": "stderr",
     "output_type": "stream",
     "text": [
      "100%|██████████████████████████████████████████████████████████████████████████████████████████████████████████████████████████████████| 8470/8470 [00:02<00:00, 3960.96it/s]\n"
     ]
    },
    {
     "name": "stdout",
     "output_type": "stream",
     "text": [
      "Epoch = 12. Time index = 3. Threshold MC = 0.7. Threshold MD = 0.5\n",
      "RD = 5090 NZ = 9168 NZA = 12648 pNZ = 0.798% pNZA = 1.101% AD = 55.52% ADA = 40.24% NO = 1673 GSP = 54.27% NSP = 47.22%\n",
      "SI2 = -114.15 SI = -130.15 eGROI = 7.74% eROI = -27.16% eROI2 = -25.72% eROI3 = -42.45% mSpread = 0.0209%\n"
     ]
    },
    {
     "name": "stderr",
     "output_type": "stream",
     "text": [
      "100%|██████████████████████████████████████████████████████████████████████████████████████████████████████████████████████████████████| 1211/1211 [00:00<00:00, 3539.66it/s]\n"
     ]
    },
    {
     "name": "stdout",
     "output_type": "stream",
     "text": [
      "Epoch = 12. Time index = 3. Threshold MC = 0.7. Threshold MD = 0.6\n",
      "RD = 919 NZ = 1337 NZA = 1936 pNZ = 0.116% pNZA = 0.169% AD = 68.74% ADA = 47.47% NO = 444 GSP = 63.74% NSP = 51.58%\n",
      "SI2 = -4.20 SI = -15.20 eGROI = 8.37% eROI = -2.90% eROI2 = -0.51% eROI3 = -4.95% mSpread = 0.0254%\n"
     ]
    },
    {
     "name": "stderr",
     "output_type": "stream",
     "text": [
      "100%|██████████████████████████████████████████████████████████████████████████████████████████████████████████████████████████████████████| 12/12 [00:00<00:00, 2005.17it/s]\n"
     ]
    },
    {
     "name": "stdout",
     "output_type": "stream",
     "text": [
      "Epoch = 12. Time index = 3. Threshold MC = 0.7. Threshold MD = 0.7\n",
      "RD = 220 NZ = 256 NZA = 350 pNZ = 0.022% pNZA = 0.030% AD = 85.94% ADA = 62.86% NO = 10 GSP = 60.00% NSP = 40.00%\n",
      "SI2 = 0.50 SI = -1.50 eGROI = -0.16% eROI = -0.66% eROI2 = -0.36% eROI3 = -0.46% mSpread = 0.0505%\n"
     ]
    },
    {
     "name": "stderr",
     "output_type": "stream",
     "text": [
      "0it [00:00, ?it/s]\n"
     ]
    },
    {
     "name": "stdout",
     "output_type": "stream",
     "text": [
      "Epoch = 12. Time index = 3. Threshold MC = 0.7. Threshold MD = 0.8\n",
      "RD = 80 NZ = 85 NZA = 100 pNZ = 0.007% pNZA = 0.009% AD = 94.12% ADA = 80.00% NO = 1 GSP = 0.00% NSP = 0.00%\n",
      "SI2 = -0.55 SI = -0.55 eGROI = 0.00% eROI = 0.00% eROI2 = 0.00% eROI3 = 0.00% mSpread = 0.0000%\n"
     ]
    },
    {
     "name": "stderr",
     "output_type": "stream",
     "text": [
      "0it [00:00, ?it/s]\n"
     ]
    },
    {
     "name": "stdout",
     "output_type": "stream",
     "text": [
      "Epoch = 12. Time index = 3. Threshold MC = 0.7. Threshold MD = 0.9\n",
      "RD = 0 NZ = 0 NZA = 0 pNZ = 0.000% pNZA = 0.000% AD = 0.00% ADA = 0.00% NO = 1 GSP = 0.00% NSP = 0.00%\n",
      "SI2 = -0.55 SI = -0.55 eGROI = 0.00% eROI = 0.00% eROI2 = 0.00% eROI3 = 0.00% mSpread = 0.0000%\n",
      "\n"
     ]
    },
    {
     "name": "stderr",
     "output_type": "stream",
     "text": [
      "100%|████████████████████████████████████████████████████████████████████████████████████████████████████████████████████████████████████| 425/425 [00:00<00:00, 2785.17it/s]\n"
     ]
    },
    {
     "name": "stdout",
     "output_type": "stream",
     "text": [
      "Epoch = 12. Time index = 3. Threshold MC = 0.8. Threshold MD = 0.5\n",
      "RD = 271 NZ = 459 NZA = 588 pNZ = 0.040% pNZA = 0.051% AD = 59.04% ADA = 46.09% NO = 269 GSP = 57.62% NSP = 50.93%\n",
      "SI2 = -9.95 SI = -10.95 eGROI = 5.85% eROI = 0.52% eROI2 = 0.47% eROI3 = -2.22% mSpread = 0.0198%\n"
     ]
    },
    {
     "name": "stderr",
     "output_type": "stream",
     "text": [
      "100%|██████████████████████████████████████████████████████████████████████████████████████████████████████████████████████████████████████| 51/51 [00:00<00:00, 2324.45it/s]\n"
     ]
    },
    {
     "name": "stdout",
     "output_type": "stream",
     "text": [
      "Epoch = 12. Time index = 3. Threshold MC = 0.8. Threshold MD = 0.6\n",
      "RD = 89 NZ = 110 NZA = 141 pNZ = 0.010% pNZA = 0.012% AD = 80.91% ADA = 63.12% NO = 40 GSP = 70.00% NSP = 60.00%\n",
      "SI2 = 4.00 SI = 2.00 eGROI = 1.27% eROI = 0.34% eROI2 = 0.47% eROI3 = 0.07% mSpread = 0.0233%\n"
     ]
    },
    {
     "name": "stderr",
     "output_type": "stream",
     "text": [
      "0it [00:00, ?it/s]\n"
     ]
    },
    {
     "name": "stdout",
     "output_type": "stream",
     "text": [
      "Epoch = 12. Time index = 3. Threshold MC = 0.8. Threshold MD = 0.7\n",
      "RD = 31 NZ = 38 NZA = 51 pNZ = 0.003% pNZA = 0.004% AD = 81.58% ADA = 60.78% NO = 1 GSP = 0.00% NSP = 0.00%\n",
      "SI2 = -0.55 SI = -0.55 eGROI = 0.00% eROI = 0.00% eROI2 = 0.00% eROI3 = 0.00% mSpread = 0.0000%\n"
     ]
    },
    {
     "name": "stderr",
     "output_type": "stream",
     "text": [
      "0it [00:00, ?it/s]\n"
     ]
    },
    {
     "name": "stdout",
     "output_type": "stream",
     "text": [
      "Epoch = 12. Time index = 3. Threshold MC = 0.8. Threshold MD = 0.8\n",
      "RD = 12 NZ = 15 NZA = 16 pNZ = 0.001% pNZA = 0.001% AD = 80.00% ADA = 75.00% NO = 1 GSP = 0.00% NSP = 0.00%\n",
      "SI2 = -0.55 SI = -0.55 eGROI = 0.00% eROI = 0.00% eROI2 = 0.00% eROI3 = 0.00% mSpread = 0.0000%\n"
     ]
    },
    {
     "name": "stderr",
     "output_type": "stream",
     "text": [
      "0it [00:00, ?it/s]\n"
     ]
    },
    {
     "name": "stdout",
     "output_type": "stream",
     "text": [
      "Epoch = 12. Time index = 3. Threshold MC = 0.8. Threshold MD = 0.9\n",
      "RD = 0 NZ = 0 NZA = 0 pNZ = 0.000% pNZA = 0.000% AD = 0.00% ADA = 0.00% NO = 1 GSP = 0.00% NSP = 0.00%\n",
      "SI2 = -0.55 SI = -0.55 eGROI = 0.00% eROI = 0.00% eROI2 = 0.00% eROI3 = 0.00% mSpread = 0.0000%\n",
      "\n"
     ]
    },
    {
     "name": "stderr",
     "output_type": "stream",
     "text": [
      "0it [00:00, ?it/s]\n"
     ]
    },
    {
     "name": "stdout",
     "output_type": "stream",
     "text": [
      "Epoch = 12. Time index = 3. Threshold MC = 0.9. Threshold MD = 0.5\n",
      "RD = 0 NZ = 0 NZA = 0 pNZ = 0.000% pNZA = 0.000% AD = 0.00% ADA = 0.00% NO = 1 GSP = 0.00% NSP = 0.00%\n",
      "SI2 = -0.55 SI = -0.55 eGROI = 0.00% eROI = 0.00% eROI2 = 0.00% eROI3 = 0.00% mSpread = 0.0000%\n"
     ]
    },
    {
     "name": "stderr",
     "output_type": "stream",
     "text": [
      "0it [00:00, ?it/s]\n"
     ]
    },
    {
     "name": "stdout",
     "output_type": "stream",
     "text": [
      "Epoch = 12. Time index = 3. Threshold MC = 0.9. Threshold MD = 0.6\n",
      "RD = 0 NZ = 0 NZA = 0 pNZ = 0.000% pNZA = 0.000% AD = 0.00% ADA = 0.00% NO = 1 GSP = 0.00% NSP = 0.00%\n",
      "SI2 = -0.55 SI = -0.55 eGROI = 0.00% eROI = 0.00% eROI2 = 0.00% eROI3 = 0.00% mSpread = 0.0000%\n"
     ]
    },
    {
     "name": "stderr",
     "output_type": "stream",
     "text": [
      "0it [00:00, ?it/s]\n"
     ]
    },
    {
     "name": "stdout",
     "output_type": "stream",
     "text": [
      "Epoch = 12. Time index = 3. Threshold MC = 0.9. Threshold MD = 0.7\n",
      "RD = 0 NZ = 0 NZA = 0 pNZ = 0.000% pNZA = 0.000% AD = 0.00% ADA = 0.00% NO = 1 GSP = 0.00% NSP = 0.00%\n",
      "SI2 = -0.55 SI = -0.55 eGROI = 0.00% eROI = 0.00% eROI2 = 0.00% eROI3 = 0.00% mSpread = 0.0000%\n"
     ]
    },
    {
     "name": "stderr",
     "output_type": "stream",
     "text": [
      "0it [00:00, ?it/s]\n"
     ]
    },
    {
     "name": "stdout",
     "output_type": "stream",
     "text": [
      "Epoch = 12. Time index = 3. Threshold MC = 0.9. Threshold MD = 0.8\n",
      "RD = 0 NZ = 0 NZA = 0 pNZ = 0.000% pNZA = 0.000% AD = 0.00% ADA = 0.00% NO = 1 GSP = 0.00% NSP = 0.00%\n",
      "SI2 = -0.55 SI = -0.55 eGROI = 0.00% eROI = 0.00% eROI2 = 0.00% eROI3 = 0.00% mSpread = 0.0000%\n"
     ]
    },
    {
     "name": "stderr",
     "output_type": "stream",
     "text": [
      "0it [00:00, ?it/s]\n"
     ]
    },
    {
     "name": "stdout",
     "output_type": "stream",
     "text": [
      "Epoch = 12. Time index = 3. Threshold MC = 0.9. Threshold MD = 0.9\n",
      "RD = 0 NZ = 0 NZA = 0 pNZ = 0.000% pNZA = 0.000% AD = 0.00% ADA = 0.00% NO = 1 GSP = 0.00% NSP = 0.00%\n",
      "SI2 = -0.55 SI = -0.55 eGROI = 0.00% eROI = 0.00% eROI2 = 0.00% eROI3 = 0.00% mSpread = 0.0000%\n",
      "\n",
      "Best eGROI = 39.89 t_index 3 thr_mc 0.5 thr_md 0.6 epoch 12 in 2426\n",
      "Best eROI = 2.18 t_index 1 thr_mc 0.8 thr_md 0.5 epoch 12 in 238\n",
      "Best eROI.5 = 27.76 t_index 3 thr_mc 0.5 thr_md 0.6 epoch 12 in 2426\n",
      "Best eROI1 = 15.63 t_index 3 thr_mc 0.5 thr_md 0.6 epoch 12 in 2426\n",
      "Best eROI1.5 = 3.94 t_index 3 thr_mc 0.6 thr_md 0.6 epoch 12 in 1922\n",
      "Best eROI2 = 2.00 t_index 1 thr_mc 0.8 thr_md 0.5 epoch 12 in 238\n",
      "Best eROI3 = 0.35 t_index 1 thr_mc 0.8 thr_md 0.6 epoch 12 in 13\n",
      "Best eROI4 = 0.22 t_index 1 thr_mc 0.8 thr_md 0.6 epoch 12 in 13\n",
      "Best eROI5 = 0.09 t_index 1 thr_mc 0.8 thr_md 0.6 epoch 12 in 13\n",
      "Best SI = 2.00 t_index 3 thr_mc 0.8 thr_md 0.6 epoch 12 in 40\n",
      "Best SI.5 = 128.70 t_index 3 thr_mc 0.5 thr_md 0.6 epoch 12 in 2426\n",
      "Best SI1 = 59.90 t_index 3 thr_mc 0.6 thr_md 0.6 epoch 12 in 1922\n",
      "Best SI1.5 = 14.20 t_index 2 thr_mc 0.7 thr_md 0.6 epoch 12 in 416\n",
      "Best SI2 = 5.20 t_index 2 thr_mc 0.7 thr_md 0.6 epoch 12 in 416\n",
      "Best SI3 = 3.00 t_index 3 thr_mc 0.8 thr_md 0.6 epoch 12 in 40\n",
      "Best SI4 = 1.00 t_index 3 thr_mc 0.8 thr_md 0.6 epoch 12 in 40\n",
      "Best SI5 = -0.10 t_index 2 thr_mc 0.7 thr_md 0.7 epoch 12 in 2\n",
      "\n",
      "The very best:\n",
      "Best eGROI = 39.89 t_index 3 thr_mc 0.5 thr_md 0.6 epoch 12 in 2426\n",
      "Best eROI = 3.37 t_index 3 thr_mc 0.8 thr_md 0.5 epoch 8 in 141\n",
      "Best eROI.5 = 27.76 t_index 3 thr_mc 0.5 thr_md 0.6 epoch 12 in 2426\n",
      "Best eROI1 = 15.63 t_index 3 thr_mc 0.5 thr_md 0.6 epoch 12 in 2426\n",
      "Best eROI1.5 = 5.80 t_index 3 thr_mc 0.6 thr_md 0.6 epoch 11 in 1839\n",
      "Best eROI2 = 3.16 t_index 3 thr_mc 0.8 thr_md 0.5 epoch 8 in 141\n",
      "Best eROI3 = 1.75 t_index 3 thr_mc 0.8 thr_md 0.5 epoch 8 in 141\n",
      "Best eROI4 = 0.50 t_index 3 thr_mc 0.8 thr_md 0.6 epoch 10 in 14\n",
      "Best eROI5 = 0.36 t_index 3 thr_mc 0.8 thr_md 0.6 epoch 10 in 14\n",
      "Best SI = 4.45 t_index 3 thr_mc 0.8 thr_md 0.5 epoch 8 in 141\n",
      "Best SI.5 = 128.70 t_index 3 thr_mc 0.5 thr_md 0.6 epoch 12 in 2426\n",
      "Best SI1 = 59.90 t_index 3 thr_mc 0.6 thr_md 0.6 epoch 12 in 1922\n",
      "Best SI1.5 = 14.20 t_index 2 thr_mc 0.7 thr_md 0.6 epoch 12 in 416\n",
      "Best SI2 = 5.20 t_index 2 thr_mc 0.7 thr_md 0.6 epoch 12 in 416\n",
      "Best SI3 = 3.00 t_index 3 thr_mc 0.8 thr_md 0.6 epoch 12 in 40\n",
      "Best SI4 = 1.00 t_index 3 thr_mc 0.8 thr_md 0.6 epoch 12 in 40\n",
      "Best SI5 = -0.10 t_index 0 thr_mc 0.8 thr_md 0.6 epoch 11 in 2\n",
      "Time=116.29 secs\n",
      "INFO:tensorflow:Restoring parameters from ../../RNN/weights/000520/000013/000013\n",
      "Parameters loaded. Epoch 13\n",
      "Epoch 13 of 34. Getting output...\n"
     ]
    },
    {
     "name": "stderr",
     "output_type": "stream",
     "text": [
      "100%|████████████████████████████████████████████████████████████████████████████████████████████████████████████████████████████████████████| 23/23 [01:54<00:00,  4.99s/it]\n"
     ]
    },
    {
     "name": "stdout",
     "output_type": "stream",
     "text": [
      "Getting results\n",
      "Epoch 13, J_train = 6.508872317743987, J_test = 6.336282377657683\n"
     ]
    },
    {
     "name": "stderr",
     "output_type": "stream",
     "text": [
      "0it [00:00, ?it/s]\n"
     ]
    },
    {
     "name": "stdout",
     "output_type": "stream",
     "text": [
      "Epoch = 13. Time index = 0. Threshold MC = 0.5. Threshold MD = 0.5\n",
      "J_test = 6.336282377657683, J_train = 6.508872317743987, Accuracy=0.5460128680903221\n",
      "RD = 265391 NZ = 510509 NZA = 974093 pNZ = 44.441% pNZA = 84.797% AD = 51.99% ADA = 27.24% NO = 1 GSP = 0.00% NSP = 0.00%\n",
      "SI2 = -0.55 SI = -0.55 eGROI = 0.00% eROI = 0.00% eROI2 = 0.00% eROI3 = 0.00% mSpread = 0.0000%\n"
     ]
    },
    {
     "name": "stderr",
     "output_type": "stream",
     "text": [
      "100%|██████████████████████████████████████████████████████████████████████████████████████████████████████████████████████████████████| 7085/7085 [00:03<00:00, 2310.93it/s]\n"
     ]
    },
    {
     "name": "stdout",
     "output_type": "stream",
     "text": [
      "Epoch = 13. Time index = 0. Threshold MC = 0.5. Threshold MD = 0.6\n",
      "RD = 7927 NZ = 12167 NZA = 26763 pNZ = 1.059% pNZA = 2.330% AD = 65.15% ADA = 29.62% NO = 1816 GSP = 62.83% NSP = 42.07%\n",
      "SI2 = -61.80 SI = -234.80 eGROI = 26.88% eROI = -33.69% eROI2 = -9.44% eROI3 = -27.60% mSpread = 0.0334%\n"
     ]
    },
    {
     "name": "stderr",
     "output_type": "stream",
     "text": [
      "100%|████████████████████████████████████████████████████████████████████████████████████████████████████████████████████████████████████████| 9/9 [00:00<00:00, 1289.19it/s]\n"
     ]
    },
    {
     "name": "stdout",
     "output_type": "stream",
     "text": [
      "Epoch = 13. Time index = 0. Threshold MC = 0.5. Threshold MD = 0.7\n",
      "RD = 786 NZ = 952 NZA = 1924 pNZ = 0.083% pNZA = 0.167% AD = 82.56% ADA = 40.85% NO = 9 GSP = 100.00% NSP = 66.67%\n",
      "SI2 = 2.05 SI = 1.05 eGROI = 0.52% eROI = 0.11% eROI2 = 0.34% eROI3 = 0.25% mSpread = 0.0456%\n"
     ]
    },
    {
     "name": "stderr",
     "output_type": "stream",
     "text": [
      "0it [00:00, ?it/s]\n"
     ]
    },
    {
     "name": "stdout",
     "output_type": "stream",
     "text": [
      "Epoch = 13. Time index = 0. Threshold MC = 0.5. Threshold MD = 0.8\n",
      "RD = 32 NZ = 33 NZA = 51 pNZ = 0.003% pNZA = 0.004% AD = 96.97% ADA = 62.75% NO = 1 GSP = 0.00% NSP = 0.00%\n",
      "SI2 = -0.55 SI = -0.55 eGROI = 0.00% eROI = 0.00% eROI2 = 0.00% eROI3 = 0.00% mSpread = 0.0000%\n"
     ]
    },
    {
     "name": "stderr",
     "output_type": "stream",
     "text": [
      "0it [00:00, ?it/s]\n"
     ]
    },
    {
     "name": "stdout",
     "output_type": "stream",
     "text": [
      "Epoch = 13. Time index = 0. Threshold MC = 0.5. Threshold MD = 0.9\n",
      "RD = 0 NZ = 0 NZA = 0 pNZ = 0.000% pNZA = 0.000% AD = 0.00% ADA = 0.00% NO = 1 GSP = 0.00% NSP = 0.00%\n",
      "SI2 = -0.55 SI = -0.55 eGROI = 0.00% eROI = 0.00% eROI2 = 0.00% eROI3 = 0.00% mSpread = 0.0000%\n",
      "\n"
     ]
    },
    {
     "name": "stderr",
     "output_type": "stream",
     "text": [
      "0it [00:00, ?it/s]\n"
     ]
    },
    {
     "name": "stdout",
     "output_type": "stream",
     "text": [
      "Epoch = 13. Time index = 0. Threshold MC = 0.6. Threshold MD = 0.5\n",
      "RD = 90101 NZ = 170254 NZA = 280239 pNZ = 14.821% pNZA = 24.395% AD = 52.92% ADA = 32.15% NO = 1 GSP = 0.00% NSP = 0.00%\n",
      "SI2 = -0.55 SI = -0.55 eGROI = 0.00% eROI = 0.00% eROI2 = 0.00% eROI3 = 0.00% mSpread = 0.0000%\n"
     ]
    },
    {
     "name": "stderr",
     "output_type": "stream",
     "text": [
      "100%|██████████████████████████████████████████████████████████████████████████████████████████████████████████████████████████████████| 2675/2675 [00:01<00:00, 2302.24it/s]\n"
     ]
    },
    {
     "name": "stdout",
     "output_type": "stream",
     "text": [
      "Epoch = 13. Time index = 0. Threshold MC = 0.6. Threshold MD = 0.6\n",
      "RD = 3293 NZ = 4965 NZA = 8757 pNZ = 0.432% pNZA = 0.762% AD = 66.32% ADA = 37.60% NO = 942 GSP = 63.38% NSP = 45.65%\n",
      "SI2 = -34.10 SI = -88.10 eGROI = 15.10% eROI = -13.64% eROI2 = -3.74% eROI3 = -13.16% mSpread = 0.0305%\n"
     ]
    },
    {
     "name": "stderr",
     "output_type": "stream",
     "text": [
      "100%|█████████████████████████████████████████████████████████████████████████████████████████████████████████████████████████████████████████| 3/3 [00:00<00:00, 752.12it/s]\n"
     ]
    },
    {
     "name": "stdout",
     "output_type": "stream",
     "text": [
      "Epoch = 13. Time index = 0. Threshold MC = 0.6. Threshold MD = 0.7\n",
      "RD = 461 NZ = 542 NZA = 863 pNZ = 0.047% pNZA = 0.075% AD = 85.06% ADA = 53.42% NO = 4 GSP = 100.00% NSP = 100.00%\n",
      "SI2 = 0.80 SI = 1.80 eGROI = 0.25% eROI = 0.09% eROI2 = 0.17% eROI3 = 0.13% mSpread = 0.0396%\n"
     ]
    },
    {
     "name": "stderr",
     "output_type": "stream",
     "text": [
      "0it [00:00, ?it/s]\n"
     ]
    },
    {
     "name": "stdout",
     "output_type": "stream",
     "text": [
      "Epoch = 13. Time index = 0. Threshold MC = 0.6. Threshold MD = 0.8\n",
      "RD = 22 NZ = 23 NZA = 34 pNZ = 0.002% pNZA = 0.003% AD = 95.65% ADA = 64.71% NO = 1 GSP = 0.00% NSP = 0.00%\n",
      "SI2 = -0.55 SI = -0.55 eGROI = 0.00% eROI = 0.00% eROI2 = 0.00% eROI3 = 0.00% mSpread = 0.0000%\n"
     ]
    },
    {
     "name": "stderr",
     "output_type": "stream",
     "text": [
      "0it [00:00, ?it/s]\n"
     ]
    },
    {
     "name": "stdout",
     "output_type": "stream",
     "text": [
      "Epoch = 13. Time index = 0. Threshold MC = 0.6. Threshold MD = 0.9\n",
      "RD = 0 NZ = 0 NZA = 0 pNZ = 0.000% pNZA = 0.000% AD = 0.00% ADA = 0.00% NO = 1 GSP = 0.00% NSP = 0.00%\n",
      "SI2 = -0.55 SI = -0.55 eGROI = 0.00% eROI = 0.00% eROI2 = 0.00% eROI3 = 0.00% mSpread = 0.0000%\n",
      "\n"
     ]
    },
    {
     "name": "stderr",
     "output_type": "stream",
     "text": [
      "100%|████████████████████████████████████████████████████████████████████████████████████████████████████████████████████████████████| 11707/11707 [00:03<00:00, 3663.57it/s]\n"
     ]
    },
    {
     "name": "stdout",
     "output_type": "stream",
     "text": [
      "Epoch = 13. Time index = 0. Threshold MC = 0.7. Threshold MD = 0.5\n",
      "RD = 8386 NZ = 15538 NZA = 21732 pNZ = 1.353% pNZA = 1.892% AD = 53.97% ADA = 38.59% NO = 2420 GSP = 52.98% NSP = 45.62%\n",
      "SI2 = -218.00 SI = -227.00 eGROI = 3.03% eROI = -43.80% eROI2 = -45.37% eROI3 = -69.57% mSpread = 0.0194%\n"
     ]
    },
    {
     "name": "stderr",
     "output_type": "stream",
     "text": [
      "100%|████████████████████████████████████████████████████████████████████████████████████████████████████████████████████████████████████| 481/481 [00:00<00:00, 2664.04it/s]\n"
     ]
    },
    {
     "name": "stdout",
     "output_type": "stream",
     "text": [
      "Epoch = 13. Time index = 0. Threshold MC = 0.7. Threshold MD = 0.6\n",
      "RD = 642 NZ = 983 NZA = 1354 pNZ = 0.086% pNZA = 0.118% AD = 65.31% ADA = 47.42% NO = 266 GSP = 61.65% NSP = 50.75%\n",
      "SI2 = -8.30 SI = -11.30 eGROI = 3.49% eROI = -2.33% eROI2 = -1.83% eROI3 = -4.49% mSpread = 0.0219%\n"
     ]
    },
    {
     "name": "stderr",
     "output_type": "stream",
     "text": [
      "0it [00:00, ?it/s]\n"
     ]
    },
    {
     "name": "stdout",
     "output_type": "stream",
     "text": [
      "Epoch = 13. Time index = 0. Threshold MC = 0.7. Threshold MD = 0.7\n",
      "RD = 104 NZ = 124 NZA = 152 pNZ = 0.011% pNZA = 0.013% AD = 83.87% ADA = 68.42% NO = 1 GSP = 0.00% NSP = 0.00%\n",
      "SI2 = -0.55 SI = -0.55 eGROI = 0.00% eROI = 0.00% eROI2 = 0.00% eROI3 = 0.00% mSpread = 0.0000%\n"
     ]
    },
    {
     "name": "stderr",
     "output_type": "stream",
     "text": [
      "0it [00:00, ?it/s]\n"
     ]
    },
    {
     "name": "stdout",
     "output_type": "stream",
     "text": [
      "Epoch = 13. Time index = 0. Threshold MC = 0.7. Threshold MD = 0.8\n",
      "RD = 4 NZ = 4 NZA = 4 pNZ = 0.000% pNZA = 0.000% AD = 100.00% ADA = 100.00% NO = 1 GSP = 0.00% NSP = 0.00%\n",
      "SI2 = -0.55 SI = -0.55 eGROI = 0.00% eROI = 0.00% eROI2 = 0.00% eROI3 = 0.00% mSpread = 0.0000%\n"
     ]
    },
    {
     "name": "stderr",
     "output_type": "stream",
     "text": [
      "0it [00:00, ?it/s]\n"
     ]
    },
    {
     "name": "stdout",
     "output_type": "stream",
     "text": [
      "Epoch = 13. Time index = 0. Threshold MC = 0.7. Threshold MD = 0.9\n",
      "RD = 0 NZ = 0 NZA = 0 pNZ = 0.000% pNZA = 0.000% AD = 0.00% ADA = 0.00% NO = 1 GSP = 0.00% NSP = 0.00%\n",
      "SI2 = -0.55 SI = -0.55 eGROI = 0.00% eROI = 0.00% eROI2 = 0.00% eROI3 = 0.00% mSpread = 0.0000%\n",
      "\n"
     ]
    },
    {
     "name": "stderr",
     "output_type": "stream",
     "text": [
      "100%|████████████████████████████████████████████████████████████████████████████████████████████████████████████████████████████████████| 402/402 [00:00<00:00, 2535.04it/s]\n"
     ]
    },
    {
     "name": "stdout",
     "output_type": "stream",
     "text": [
      "Epoch = 13. Time index = 0. Threshold MC = 0.8. Threshold MD = 0.5\n",
      "RD = 326 NZ = 566 NZA = 708 pNZ = 0.049% pNZA = 0.062% AD = 57.60% ADA = 46.05% NO = 253 GSP = 54.94% NSP = 51.38%\n",
      "SI2 = -8.15 SI = -9.15 eGROI = 5.25% eROI = 0.59% eROI2 = 0.19% eROI3 = -2.34% mSpread = 0.0184%\n"
     ]
    },
    {
     "name": "stderr",
     "output_type": "stream",
     "text": [
      "100%|████████████████████████████████████████████████████████████████████████████████████████████████████████████████████████████████████████| 8/8 [00:00<00:00, 1604.02it/s]\n"
     ]
    },
    {
     "name": "stdout",
     "output_type": "stream",
     "text": [
      "Epoch = 13. Time index = 0. Threshold MC = 0.8. Threshold MD = 0.6\n",
      "RD = 42 NZ = 63 NZA = 85 pNZ = 0.005% pNZA = 0.007% AD = 66.67% ADA = 49.41% NO = 9 GSP = 55.56% NSP = 55.56%\n",
      "SI2 = -0.95 SI = 0.05 eGROI = 0.33% eROI = 0.12% eROI2 = 0.15% eROI3 = 0.06% mSpread = 0.0228%\n"
     ]
    },
    {
     "name": "stderr",
     "output_type": "stream",
     "text": [
      "0it [00:00, ?it/s]\n"
     ]
    },
    {
     "name": "stdout",
     "output_type": "stream",
     "text": [
      "Epoch = 13. Time index = 0. Threshold MC = 0.8. Threshold MD = 0.7\n",
      "RD = 8 NZ = 11 NZA = 12 pNZ = 0.001% pNZA = 0.001% AD = 72.73% ADA = 66.67% NO = 1 GSP = 0.00% NSP = 0.00%\n",
      "SI2 = -0.55 SI = -0.55 eGROI = 0.00% eROI = 0.00% eROI2 = 0.00% eROI3 = 0.00% mSpread = 0.0000%\n"
     ]
    },
    {
     "name": "stderr",
     "output_type": "stream",
     "text": [
      "0it [00:00, ?it/s]\n"
     ]
    },
    {
     "name": "stdout",
     "output_type": "stream",
     "text": [
      "Epoch = 13. Time index = 0. Threshold MC = 0.8. Threshold MD = 0.8\n",
      "RD = 0 NZ = 0 NZA = 0 pNZ = 0.000% pNZA = 0.000% AD = 0.00% ADA = 0.00% NO = 1 GSP = 0.00% NSP = 0.00%\n",
      "SI2 = -0.55 SI = -0.55 eGROI = 0.00% eROI = 0.00% eROI2 = 0.00% eROI3 = 0.00% mSpread = 0.0000%\n"
     ]
    },
    {
     "name": "stderr",
     "output_type": "stream",
     "text": [
      "0it [00:00, ?it/s]\n"
     ]
    },
    {
     "name": "stdout",
     "output_type": "stream",
     "text": [
      "Epoch = 13. Time index = 0. Threshold MC = 0.8. Threshold MD = 0.9\n",
      "RD = 0 NZ = 0 NZA = 0 pNZ = 0.000% pNZA = 0.000% AD = 0.00% ADA = 0.00% NO = 1 GSP = 0.00% NSP = 0.00%\n",
      "SI2 = -0.55 SI = -0.55 eGROI = 0.00% eROI = 0.00% eROI2 = 0.00% eROI3 = 0.00% mSpread = 0.0000%\n",
      "\n"
     ]
    },
    {
     "name": "stderr",
     "output_type": "stream",
     "text": [
      "0it [00:00, ?it/s]\n"
     ]
    },
    {
     "name": "stdout",
     "output_type": "stream",
     "text": [
      "Epoch = 13. Time index = 0. Threshold MC = 0.9. Threshold MD = 0.5\n",
      "RD = 0 NZ = 0 NZA = 0 pNZ = 0.000% pNZA = 0.000% AD = 0.00% ADA = 0.00% NO = 1 GSP = 0.00% NSP = 0.00%\n",
      "SI2 = -0.55 SI = -0.55 eGROI = 0.00% eROI = 0.00% eROI2 = 0.00% eROI3 = 0.00% mSpread = 0.0000%\n"
     ]
    },
    {
     "name": "stderr",
     "output_type": "stream",
     "text": [
      "0it [00:00, ?it/s]\n"
     ]
    },
    {
     "name": "stdout",
     "output_type": "stream",
     "text": [
      "Epoch = 13. Time index = 0. Threshold MC = 0.9. Threshold MD = 0.6\n",
      "RD = 0 NZ = 0 NZA = 0 pNZ = 0.000% pNZA = 0.000% AD = 0.00% ADA = 0.00% NO = 1 GSP = 0.00% NSP = 0.00%\n",
      "SI2 = -0.55 SI = -0.55 eGROI = 0.00% eROI = 0.00% eROI2 = 0.00% eROI3 = 0.00% mSpread = 0.0000%\n"
     ]
    },
    {
     "name": "stderr",
     "output_type": "stream",
     "text": [
      "0it [00:00, ?it/s]\n"
     ]
    },
    {
     "name": "stdout",
     "output_type": "stream",
     "text": [
      "Epoch = 13. Time index = 0. Threshold MC = 0.9. Threshold MD = 0.7\n",
      "RD = 0 NZ = 0 NZA = 0 pNZ = 0.000% pNZA = 0.000% AD = 0.00% ADA = 0.00% NO = 1 GSP = 0.00% NSP = 0.00%\n",
      "SI2 = -0.55 SI = -0.55 eGROI = 0.00% eROI = 0.00% eROI2 = 0.00% eROI3 = 0.00% mSpread = 0.0000%\n"
     ]
    },
    {
     "name": "stderr",
     "output_type": "stream",
     "text": [
      "0it [00:00, ?it/s]\n"
     ]
    },
    {
     "name": "stdout",
     "output_type": "stream",
     "text": [
      "Epoch = 13. Time index = 0. Threshold MC = 0.9. Threshold MD = 0.8\n",
      "RD = 0 NZ = 0 NZA = 0 pNZ = 0.000% pNZA = 0.000% AD = 0.00% ADA = 0.00% NO = 1 GSP = 0.00% NSP = 0.00%\n",
      "SI2 = -0.55 SI = -0.55 eGROI = 0.00% eROI = 0.00% eROI2 = 0.00% eROI3 = 0.00% mSpread = 0.0000%\n"
     ]
    },
    {
     "name": "stderr",
     "output_type": "stream",
     "text": [
      "0it [00:00, ?it/s]\n"
     ]
    },
    {
     "name": "stdout",
     "output_type": "stream",
     "text": [
      "Epoch = 13. Time index = 0. Threshold MC = 0.9. Threshold MD = 0.9\n",
      "RD = 0 NZ = 0 NZA = 0 pNZ = 0.000% pNZA = 0.000% AD = 0.00% ADA = 0.00% NO = 1 GSP = 0.00% NSP = 0.00%\n",
      "SI2 = -0.55 SI = -0.55 eGROI = 0.00% eROI = 0.00% eROI2 = 0.00% eROI3 = 0.00% mSpread = 0.0000%\n",
      "\n"
     ]
    },
    {
     "name": "stderr",
     "output_type": "stream",
     "text": [
      "0it [00:00, ?it/s]\n"
     ]
    },
    {
     "name": "stdout",
     "output_type": "stream",
     "text": [
      "Epoch = 13. Time index = 1. Threshold MC = 0.5. Threshold MD = 0.5\n",
      "J_test = 6.336282377657683, J_train = 6.508872317743987, Accuracy=0.5387509543122727\n",
      "RD = 271658 NZ = 522507 NZA = 1006431 pNZ = 45.486% pNZA = 87.612% AD = 51.99% ADA = 26.99% NO = 1 GSP = 0.00% NSP = 0.00%\n",
      "SI2 = -0.55 SI = -0.55 eGROI = 0.00% eROI = 0.00% eROI2 = 0.00% eROI3 = 0.00% mSpread = 0.0000%\n"
     ]
    },
    {
     "name": "stderr",
     "output_type": "stream",
     "text": [
      "100%|████████████████████████████████████████████████████████████████████████████████████████████████████████████████████████████████| 11217/11217 [00:03<00:00, 3149.02it/s]\n"
     ]
    },
    {
     "name": "stdout",
     "output_type": "stream",
     "text": [
      "Epoch = 13. Time index = 1. Threshold MC = 0.5. Threshold MD = 0.6\n",
      "RD = 7425 NZ = 10999 NZA = 23658 pNZ = 0.957% pNZA = 2.059% AD = 67.51% ADA = 31.38% NO = 2283 GSP = 62.24% NSP = 42.01%\n",
      "SI2 = -95.65 SI = -296.65 eGROI = 36.68% eROI = -39.07% eROI2 = -8.98% eROI3 = -31.81% mSpread = 0.0332%\n"
     ]
    },
    {
     "name": "stderr",
     "output_type": "stream",
     "text": [
      "100%|████████████████████████████████████████████████████████████████████████████████████████████████████████████████████████████████████| 204/204 [00:00<00:00, 2199.40it/s]\n"
     ]
    },
    {
     "name": "stdout",
     "output_type": "stream",
     "text": [
      "Epoch = 13. Time index = 1. Threshold MC = 0.5. Threshold MD = 0.7\n",
      "RD = 1064 NZ = 1316 NZA = 2701 pNZ = 0.115% pNZA = 0.235% AD = 80.85% ADA = 39.39% NO = 120 GSP = 68.33% NSP = 32.50%\n",
      "SI2 = -6.00 SI = -27.00 eGROI = 2.26% eROI = -2.52% eROI2 = -0.14% eROI3 = -1.34% mSpread = 0.0399%\n"
     ]
    },
    {
     "name": "stderr",
     "output_type": "stream",
     "text": [
      "0it [00:00, ?it/s]\n"
     ]
    },
    {
     "name": "stdout",
     "output_type": "stream",
     "text": [
      "Epoch = 13. Time index = 1. Threshold MC = 0.5. Threshold MD = 0.8\n",
      "RD = 222 NZ = 244 NZA = 417 pNZ = 0.021% pNZA = 0.036% AD = 90.98% ADA = 53.24% NO = 1 GSP = 0.00% NSP = 0.00%\n",
      "SI2 = -0.55 SI = -0.55 eGROI = 0.00% eROI = 0.00% eROI2 = 0.00% eROI3 = 0.00% mSpread = 0.0000%\n"
     ]
    },
    {
     "name": "stderr",
     "output_type": "stream",
     "text": [
      "0it [00:00, ?it/s]\n"
     ]
    },
    {
     "name": "stdout",
     "output_type": "stream",
     "text": [
      "Epoch = 13. Time index = 1. Threshold MC = 0.5. Threshold MD = 0.9\n",
      "RD = 1 NZ = 1 NZA = 1 pNZ = 0.000% pNZA = 0.000% AD = 100.00% ADA = 100.00% NO = 1 GSP = 0.00% NSP = 0.00%\n",
      "SI2 = -0.55 SI = -0.55 eGROI = 0.00% eROI = 0.00% eROI2 = 0.00% eROI3 = 0.00% mSpread = 0.0000%\n",
      "\n"
     ]
    },
    {
     "name": "stderr",
     "output_type": "stream",
     "text": [
      "0it [00:00, ?it/s]\n"
     ]
    },
    {
     "name": "stdout",
     "output_type": "stream",
     "text": [
      "Epoch = 13. Time index = 1. Threshold MC = 0.6. Threshold MD = 0.5\n",
      "RD = 87447 NZ = 164747 NZA = 272090 pNZ = 14.342% pNZA = 23.686% AD = 53.08% ADA = 32.14% NO = 1 GSP = 0.00% NSP = 0.00%\n",
      "SI2 = -0.55 SI = -0.55 eGROI = 0.00% eROI = 0.00% eROI2 = 0.00% eROI3 = 0.00% mSpread = 0.0000%\n"
     ]
    },
    {
     "name": "stderr",
     "output_type": "stream",
     "text": [
      "100%|██████████████████████████████████████████████████████████████████████████████████████████████████████████████████████████████████| 5394/5394 [00:01<00:00, 3248.23it/s]\n"
     ]
    },
    {
     "name": "stdout",
     "output_type": "stream",
     "text": [
      "Epoch = 13. Time index = 1. Threshold MC = 0.6. Threshold MD = 0.6\n",
      "RD = 3560 NZ = 5243 NZA = 9415 pNZ = 0.456% pNZA = 0.820% AD = 67.90% ADA = 37.81% NO = 1401 GSP = 62.24% NSP = 44.25%\n",
      "SI2 = -43.55 SI = -150.55 eGROI = 24.02% eROI = -20.56% eROI2 = -4.00% eROI3 = -18.01% mSpread = 0.0318%\n"
     ]
    },
    {
     "name": "stderr",
     "output_type": "stream",
     "text": [
      "100%|████████████████████████████████████████████████████████████████████████████████████████████████████████████████████████████████████| 135/135 [00:00<00:00, 2082.46it/s]\n"
     ]
    },
    {
     "name": "stdout",
     "output_type": "stream",
     "text": [
      "Epoch = 13. Time index = 1. Threshold MC = 0.6. Threshold MD = 0.7\n",
      "RD = 605 NZ = 733 NZA = 1238 pNZ = 0.064% pNZA = 0.108% AD = 82.54% ADA = 48.87% NO = 86 GSP = 67.44% NSP = 31.40%\n",
      "SI2 = -7.30 SI = -20.30 eGROI = 1.69% eROI = -1.67% eROI2 = -0.03% eROI3 = -0.89% mSpread = 0.0390%\n"
     ]
    },
    {
     "name": "stderr",
     "output_type": "stream",
     "text": [
      "0it [00:00, ?it/s]\n"
     ]
    },
    {
     "name": "stdout",
     "output_type": "stream",
     "text": [
      "Epoch = 13. Time index = 1. Threshold MC = 0.6. Threshold MD = 0.8\n",
      "RD = 174 NZ = 188 NZA = 282 pNZ = 0.016% pNZA = 0.025% AD = 92.55% ADA = 61.70% NO = 1 GSP = 0.00% NSP = 0.00%\n",
      "SI2 = -0.55 SI = -0.55 eGROI = 0.00% eROI = 0.00% eROI2 = 0.00% eROI3 = 0.00% mSpread = 0.0000%\n"
     ]
    },
    {
     "name": "stderr",
     "output_type": "stream",
     "text": [
      "0it [00:00, ?it/s]\n"
     ]
    },
    {
     "name": "stdout",
     "output_type": "stream",
     "text": [
      "Epoch = 13. Time index = 1. Threshold MC = 0.6. Threshold MD = 0.9\n",
      "RD = 1 NZ = 1 NZA = 1 pNZ = 0.000% pNZA = 0.000% AD = 100.00% ADA = 100.00% NO = 1 GSP = 0.00% NSP = 0.00%\n",
      "SI2 = -0.55 SI = -0.55 eGROI = 0.00% eROI = 0.00% eROI2 = 0.00% eROI3 = 0.00% mSpread = 0.0000%\n",
      "\n"
     ]
    },
    {
     "name": "stderr",
     "output_type": "stream",
     "text": [
      "100%|██████████████████████████████████████████████████████████████████████████████████████████████████████████████████████████████████| 9084/9084 [00:02<00:00, 3622.95it/s]\n"
     ]
    },
    {
     "name": "stdout",
     "output_type": "stream",
     "text": [
      "Epoch = 13. Time index = 1. Threshold MC = 0.7. Threshold MD = 0.5\n",
      "RD = 5977 NZ = 10762 NZA = 14812 pNZ = 0.937% pNZA = 1.289% AD = 55.54% ADA = 40.35% NO = 1816 GSP = 54.30% NSP = 47.30%\n",
      "SI2 = -128.80 SI = -139.80 eGROI = 6.18% eROI = -29.92% eROI2 = -30.14% eROI3 = -48.30% mSpread = 0.0199%\n"
     ]
    },
    {
     "name": "stderr",
     "output_type": "stream",
     "text": [
      "100%|████████████████████████████████████████████████████████████████████████████████████████████████████████████████████████████████████| 790/790 [00:00<00:00, 2838.73it/s]\n"
     ]
    },
    {
     "name": "stdout",
     "output_type": "stream",
     "text": [
      "Epoch = 13. Time index = 1. Threshold MC = 0.7. Threshold MD = 0.6\n",
      "RD = 791 NZ = 1151 NZA = 1594 pNZ = 0.100% pNZA = 0.139% AD = 68.72% ADA = 49.62% NO = 342 GSP = 66.08% NSP = 54.68%\n",
      "SI2 = 6.90 SI = -1.10 eGROI = 8.96% eROI = 0.66% eROI2 = 2.12% eROI3 = -1.30% mSpread = 0.0243%\n"
     ]
    },
    {
     "name": "stderr",
     "output_type": "stream",
     "text": [
      "0it [00:00, ?it/s]\n"
     ]
    },
    {
     "name": "stdout",
     "output_type": "stream",
     "text": [
      "Epoch = 13. Time index = 1. Threshold MC = 0.7. Threshold MD = 0.7\n",
      "RD = 204 NZ = 242 NZA = 309 pNZ = 0.021% pNZA = 0.027% AD = 84.30% ADA = 66.02% NO = 1 GSP = 0.00% NSP = 0.00%\n",
      "SI2 = -0.55 SI = -0.55 eGROI = -0.04% eROI = -0.10% eROI2 = -0.06% eROI3 = -0.07% mSpread = 0.0682%\n"
     ]
    },
    {
     "name": "stderr",
     "output_type": "stream",
     "text": [
      "0it [00:00, ?it/s]\n"
     ]
    },
    {
     "name": "stdout",
     "output_type": "stream",
     "text": [
      "Epoch = 13. Time index = 1. Threshold MC = 0.7. Threshold MD = 0.8\n",
      "RD = 93 NZ = 99 NZA = 125 pNZ = 0.009% pNZA = 0.011% AD = 93.94% ADA = 74.40% NO = 1 GSP = 0.00% NSP = 0.00%\n",
      "SI2 = -0.55 SI = -0.55 eGROI = 0.00% eROI = 0.00% eROI2 = 0.00% eROI3 = 0.00% mSpread = 0.0000%\n"
     ]
    },
    {
     "name": "stderr",
     "output_type": "stream",
     "text": [
      "0it [00:00, ?it/s]\n"
     ]
    },
    {
     "name": "stdout",
     "output_type": "stream",
     "text": [
      "Epoch = 13. Time index = 1. Threshold MC = 0.7. Threshold MD = 0.9\n",
      "RD = 1 NZ = 1 NZA = 1 pNZ = 0.000% pNZA = 0.000% AD = 100.00% ADA = 100.00% NO = 1 GSP = 0.00% NSP = 0.00%\n",
      "SI2 = -0.55 SI = -0.55 eGROI = 0.00% eROI = 0.00% eROI2 = 0.00% eROI3 = 0.00% mSpread = 0.0000%\n",
      "\n"
     ]
    },
    {
     "name": "stderr",
     "output_type": "stream",
     "text": [
      "100%|████████████████████████████████████████████████████████████████████████████████████████████████████████████████████████████████████| 401/401 [00:00<00:00, 2610.80it/s]\n"
     ]
    },
    {
     "name": "stdout",
     "output_type": "stream",
     "text": [
      "Epoch = 13. Time index = 1. Threshold MC = 0.8. Threshold MD = 0.5\n",
      "RD = 292 NZ = 485 NZA = 609 pNZ = 0.042% pNZA = 0.053% AD = 60.21% ADA = 47.95% NO = 239 GSP = 61.09% NSP = 53.97%\n",
      "SI2 = -2.45 SI = -2.45 eGROI = 7.39% eROI = 2.86% eROI2 = 2.61% eROI3 = 0.22% mSpread = 0.0190%\n"
     ]
    },
    {
     "name": "stderr",
     "output_type": "stream",
     "text": [
      "100%|██████████████████████████████████████████████████████████████████████████████████████████████████████████████████████████████████████| 21/21 [00:00<00:00, 1403.47it/s]\n"
     ]
    },
    {
     "name": "stdout",
     "output_type": "stream",
     "text": [
      "Epoch = 13. Time index = 1. Threshold MC = 0.8. Threshold MD = 0.6\n",
      "RD = 71 NZ = 95 NZA = 120 pNZ = 0.008% pNZA = 0.010% AD = 74.74% ADA = 59.17% NO = 17 GSP = 70.59% NSP = 58.82%\n",
      "SI2 = 0.65 SI = 0.65 eGROI = 0.77% eROI = 0.39% eROI2 = 0.43% eROI3 = 0.26% mSpread = 0.0219%\n"
     ]
    },
    {
     "name": "stderr",
     "output_type": "stream",
     "text": [
      "0it [00:00, ?it/s]\n"
     ]
    },
    {
     "name": "stdout",
     "output_type": "stream",
     "text": [
      "Epoch = 13. Time index = 1. Threshold MC = 0.8. Threshold MD = 0.7\n",
      "RD = 30 NZ = 38 NZA = 48 pNZ = 0.003% pNZA = 0.004% AD = 78.95% ADA = 62.50% NO = 1 GSP = 0.00% NSP = 0.00%\n",
      "SI2 = -0.55 SI = -0.55 eGROI = 0.00% eROI = 0.00% eROI2 = 0.00% eROI3 = 0.00% mSpread = 0.0000%\n"
     ]
    },
    {
     "name": "stderr",
     "output_type": "stream",
     "text": [
      "0it [00:00, ?it/s]\n"
     ]
    },
    {
     "name": "stdout",
     "output_type": "stream",
     "text": [
      "Epoch = 13. Time index = 1. Threshold MC = 0.8. Threshold MD = 0.8\n",
      "RD = 11 NZ = 13 NZA = 15 pNZ = 0.001% pNZA = 0.001% AD = 84.62% ADA = 73.33% NO = 1 GSP = 0.00% NSP = 0.00%\n",
      "SI2 = -0.55 SI = -0.55 eGROI = 0.00% eROI = 0.00% eROI2 = 0.00% eROI3 = 0.00% mSpread = 0.0000%\n"
     ]
    },
    {
     "name": "stderr",
     "output_type": "stream",
     "text": [
      "0it [00:00, ?it/s]\n"
     ]
    },
    {
     "name": "stdout",
     "output_type": "stream",
     "text": [
      "Epoch = 13. Time index = 1. Threshold MC = 0.8. Threshold MD = 0.9\n",
      "RD = 0 NZ = 0 NZA = 0 pNZ = 0.000% pNZA = 0.000% AD = 0.00% ADA = 0.00% NO = 1 GSP = 0.00% NSP = 0.00%\n",
      "SI2 = -0.55 SI = -0.55 eGROI = 0.00% eROI = 0.00% eROI2 = 0.00% eROI3 = 0.00% mSpread = 0.0000%\n",
      "\n"
     ]
    },
    {
     "name": "stderr",
     "output_type": "stream",
     "text": [
      "0it [00:00, ?it/s]\n"
     ]
    },
    {
     "name": "stdout",
     "output_type": "stream",
     "text": [
      "Epoch = 13. Time index = 1. Threshold MC = 0.9. Threshold MD = 0.5\n",
      "RD = 0 NZ = 0 NZA = 0 pNZ = 0.000% pNZA = 0.000% AD = 0.00% ADA = 0.00% NO = 1 GSP = 0.00% NSP = 0.00%\n",
      "SI2 = -0.55 SI = -0.55 eGROI = 0.00% eROI = 0.00% eROI2 = 0.00% eROI3 = 0.00% mSpread = 0.0000%\n"
     ]
    },
    {
     "name": "stderr",
     "output_type": "stream",
     "text": [
      "0it [00:00, ?it/s]\n"
     ]
    },
    {
     "name": "stdout",
     "output_type": "stream",
     "text": [
      "Epoch = 13. Time index = 1. Threshold MC = 0.9. Threshold MD = 0.6\n",
      "RD = 0 NZ = 0 NZA = 0 pNZ = 0.000% pNZA = 0.000% AD = 0.00% ADA = 0.00% NO = 1 GSP = 0.00% NSP = 0.00%\n",
      "SI2 = -0.55 SI = -0.55 eGROI = 0.00% eROI = 0.00% eROI2 = 0.00% eROI3 = 0.00% mSpread = 0.0000%\n"
     ]
    },
    {
     "name": "stderr",
     "output_type": "stream",
     "text": [
      "0it [00:00, ?it/s]\n"
     ]
    },
    {
     "name": "stdout",
     "output_type": "stream",
     "text": [
      "Epoch = 13. Time index = 1. Threshold MC = 0.9. Threshold MD = 0.7\n",
      "RD = 0 NZ = 0 NZA = 0 pNZ = 0.000% pNZA = 0.000% AD = 0.00% ADA = 0.00% NO = 1 GSP = 0.00% NSP = 0.00%\n",
      "SI2 = -0.55 SI = -0.55 eGROI = 0.00% eROI = 0.00% eROI2 = 0.00% eROI3 = 0.00% mSpread = 0.0000%\n"
     ]
    },
    {
     "name": "stderr",
     "output_type": "stream",
     "text": [
      "0it [00:00, ?it/s]\n"
     ]
    },
    {
     "name": "stdout",
     "output_type": "stream",
     "text": [
      "Epoch = 13. Time index = 1. Threshold MC = 0.9. Threshold MD = 0.8\n",
      "RD = 0 NZ = 0 NZA = 0 pNZ = 0.000% pNZA = 0.000% AD = 0.00% ADA = 0.00% NO = 1 GSP = 0.00% NSP = 0.00%\n",
      "SI2 = -0.55 SI = -0.55 eGROI = 0.00% eROI = 0.00% eROI2 = 0.00% eROI3 = 0.00% mSpread = 0.0000%\n"
     ]
    },
    {
     "name": "stderr",
     "output_type": "stream",
     "text": [
      "0it [00:00, ?it/s]\n"
     ]
    },
    {
     "name": "stdout",
     "output_type": "stream",
     "text": [
      "Epoch = 13. Time index = 1. Threshold MC = 0.9. Threshold MD = 0.9\n",
      "RD = 0 NZ = 0 NZA = 0 pNZ = 0.000% pNZA = 0.000% AD = 0.00% ADA = 0.00% NO = 1 GSP = 0.00% NSP = 0.00%\n",
      "SI2 = -0.55 SI = -0.55 eGROI = 0.00% eROI = 0.00% eROI2 = 0.00% eROI3 = 0.00% mSpread = 0.0000%\n",
      "\n"
     ]
    },
    {
     "name": "stderr",
     "output_type": "stream",
     "text": [
      "0it [00:00, ?it/s]\n"
     ]
    },
    {
     "name": "stdout",
     "output_type": "stream",
     "text": [
      "Epoch = 13. Time index = 2. Threshold MC = 0.5. Threshold MD = 0.5\n",
      "J_test = 6.336282377657683, J_train = 6.508872317743987, Accuracy=0.5401533689725986\n",
      "RD = 270056 NZ = 518695 NZA = 997196 pNZ = 45.154% pNZA = 86.808% AD = 52.06% ADA = 27.08% NO = 1 GSP = 0.00% NSP = 0.00%\n",
      "SI2 = -0.55 SI = -0.55 eGROI = 0.00% eROI = 0.00% eROI2 = 0.00% eROI3 = 0.00% mSpread = 0.0000%\n"
     ]
    },
    {
     "name": "stderr",
     "output_type": "stream",
     "text": [
      "100%|████████████████████████████████████████████████████████████████████████████████████████████████████████████████████████████████| 12125/12125 [00:04<00:00, 2779.42it/s]\n"
     ]
    },
    {
     "name": "stdout",
     "output_type": "stream",
     "text": [
      "Epoch = 13. Time index = 2. Threshold MC = 0.5. Threshold MD = 0.6\n",
      "RD = 8309 NZ = 12200 NZA = 26036 pNZ = 1.062% pNZA = 2.266% AD = 68.11% ADA = 31.91% NO = 2388 GSP = 61.77% NSP = 42.46%\n",
      "SI2 = -105.40 SI = -299.40 eGROI = 39.50% eROI = -37.88% eROI2 = -8.26% eROI3 = -32.14% mSpread = 0.0324%\n"
     ]
    },
    {
     "name": "stderr",
     "output_type": "stream",
     "text": [
      "100%|████████████████████████████████████████████████████████████████████████████████████████████████████████████████████████████████████| 350/350 [00:00<00:00, 2599.49it/s]\n"
     ]
    },
    {
     "name": "stdout",
     "output_type": "stream",
     "text": [
      "Epoch = 13. Time index = 2. Threshold MC = 0.5. Threshold MD = 0.7\n",
      "RD = 1378 NZ = 1733 NZA = 3808 pNZ = 0.151% pNZA = 0.331% AD = 79.52% ADA = 36.19% NO = 178 GSP = 65.17% NSP = 34.83%\n",
      "SI2 = -11.90 SI = -35.90 eGROI = 2.20% eROI = -4.70% eROI2 = -1.36% eROI3 = -3.14% mSpread = 0.0388%\n"
     ]
    },
    {
     "name": "stderr",
     "output_type": "stream",
     "text": [
      "0it [00:00, ?it/s]\n"
     ]
    },
    {
     "name": "stdout",
     "output_type": "stream",
     "text": [
      "Epoch = 13. Time index = 2. Threshold MC = 0.5. Threshold MD = 0.8\n",
      "RD = 235 NZ = 259 NZA = 489 pNZ = 0.023% pNZA = 0.043% AD = 90.73% ADA = 48.06% NO = 1 GSP = 0.00% NSP = 0.00%\n",
      "SI2 = -0.55 SI = -0.55 eGROI = 0.00% eROI = 0.00% eROI2 = 0.00% eROI3 = 0.00% mSpread = 0.0000%\n"
     ]
    },
    {
     "name": "stderr",
     "output_type": "stream",
     "text": [
      "0it [00:00, ?it/s]\n"
     ]
    },
    {
     "name": "stdout",
     "output_type": "stream",
     "text": [
      "Epoch = 13. Time index = 2. Threshold MC = 0.5. Threshold MD = 0.9\n",
      "RD = 0 NZ = 0 NZA = 0 pNZ = 0.000% pNZA = 0.000% AD = 0.00% ADA = 0.00% NO = 1 GSP = 0.00% NSP = 0.00%\n",
      "SI2 = -0.55 SI = -0.55 eGROI = 0.00% eROI = 0.00% eROI2 = 0.00% eROI3 = 0.00% mSpread = 0.0000%\n",
      "\n"
     ]
    },
    {
     "name": "stderr",
     "output_type": "stream",
     "text": [
      "0it [00:00, ?it/s]\n"
     ]
    },
    {
     "name": "stdout",
     "output_type": "stream",
     "text": [
      "Epoch = 13. Time index = 2. Threshold MC = 0.6. Threshold MD = 0.5\n",
      "RD = 86062 NZ = 162064 NZA = 268416 pNZ = 14.108% pNZA = 23.366% AD = 53.10% ADA = 32.06% NO = 1 GSP = 0.00% NSP = 0.00%\n",
      "SI2 = -0.55 SI = -0.55 eGROI = 0.00% eROI = 0.00% eROI2 = 0.00% eROI3 = 0.00% mSpread = 0.0000%\n"
     ]
    },
    {
     "name": "stderr",
     "output_type": "stream",
     "text": [
      "100%|██████████████████████████████████████████████████████████████████████████████████████████████████████████████████████████████████| 7661/7661 [00:02<00:00, 2700.89it/s]\n"
     ]
    },
    {
     "name": "stdout",
     "output_type": "stream",
     "text": [
      "Epoch = 13. Time index = 2. Threshold MC = 0.6. Threshold MD = 0.6\n",
      "RD = 4421 NZ = 6491 NZA = 11826 pNZ = 0.565% pNZA = 1.029% AD = 68.11% ADA = 37.38% NO = 1783 GSP = 62.14% NSP = 43.07%\n",
      "SI2 = -67.65 SI = -212.65 eGROI = 30.27% eROI = -27.41% eROI2 = -5.39% eROI3 = -23.22% mSpread = 0.0323%\n"
     ]
    },
    {
     "name": "stderr",
     "output_type": "stream",
     "text": [
      "100%|████████████████████████████████████████████████████████████████████████████████████████████████████████████████████████████████████| 297/297 [00:00<00:00, 1933.68it/s]\n"
     ]
    },
    {
     "name": "stdout",
     "output_type": "stream",
     "text": [
      "Epoch = 13. Time index = 2. Threshold MC = 0.6. Threshold MD = 0.7\n",
      "RD = 693 NZ = 870 NZA = 1549 pNZ = 0.076% pNZA = 0.135% AD = 79.66% ADA = 44.74% NO = 149 GSP = 62.42% NSP = 36.91%\n",
      "SI2 = -10.95 SI = -26.95 eGROI = 2.05% eROI = -3.78% eROI2 = -0.93% eROI3 = -2.42% mSpread = 0.0391%\n"
     ]
    },
    {
     "name": "stderr",
     "output_type": "stream",
     "text": [
      "0it [00:00, ?it/s]\n"
     ]
    },
    {
     "name": "stdout",
     "output_type": "stream",
     "text": [
      "Epoch = 13. Time index = 2. Threshold MC = 0.6. Threshold MD = 0.8\n",
      "RD = 175 NZ = 188 NZA = 278 pNZ = 0.016% pNZA = 0.024% AD = 93.09% ADA = 62.95% NO = 1 GSP = 0.00% NSP = 0.00%\n",
      "SI2 = -0.55 SI = -0.55 eGROI = 0.00% eROI = 0.00% eROI2 = 0.00% eROI3 = 0.00% mSpread = 0.0000%\n"
     ]
    },
    {
     "name": "stderr",
     "output_type": "stream",
     "text": [
      "0it [00:00, ?it/s]\n"
     ]
    },
    {
     "name": "stdout",
     "output_type": "stream",
     "text": [
      "Epoch = 13. Time index = 2. Threshold MC = 0.6. Threshold MD = 0.9\n",
      "RD = 0 NZ = 0 NZA = 0 pNZ = 0.000% pNZA = 0.000% AD = 0.00% ADA = 0.00% NO = 1 GSP = 0.00% NSP = 0.00%\n",
      "SI2 = -0.55 SI = -0.55 eGROI = 0.00% eROI = 0.00% eROI2 = 0.00% eROI3 = 0.00% mSpread = 0.0000%\n",
      "\n"
     ]
    },
    {
     "name": "stderr",
     "output_type": "stream",
     "text": [
      "100%|██████████████████████████████████████████████████████████████████████████████████████████████████████████████████████████████████| 8614/8614 [00:02<00:00, 3740.52it/s]\n"
     ]
    },
    {
     "name": "stdout",
     "output_type": "stream",
     "text": [
      "Epoch = 13. Time index = 2. Threshold MC = 0.7. Threshold MD = 0.5\n",
      "RD = 5462 NZ = 9729 NZA = 13423 pNZ = 0.847% pNZA = 1.169% AD = 56.14% ADA = 40.69% NO = 1773 GSP = 54.54% NSP = 46.08%\n",
      "SI2 = -135.15 SI = -158.15 eGROI = 7.92% eROI = -29.07% eROI2 = -27.54% eROI3 = -45.27% mSpread = 0.0209%\n"
     ]
    },
    {
     "name": "stderr",
     "output_type": "stream",
     "text": [
      "100%|██████████████████████████████████████████████████████████████████████████████████████████████████████████████████████████████████| 1318/1318 [00:00<00:00, 3254.89it/s]\n"
     ]
    },
    {
     "name": "stdout",
     "output_type": "stream",
     "text": [
      "Epoch = 13. Time index = 2. Threshold MC = 0.7. Threshold MD = 0.6\n",
      "RD = 1026 NZ = 1517 NZA = 2125 pNZ = 0.132% pNZA = 0.185% AD = 67.63% ADA = 48.28% NO = 476 GSP = 64.29% NSP = 51.47%\n",
      "SI2 = 0.20 SI = -16.80 eGROI = 10.49% eROI = -1.85% eROI2 = 0.97% eROI3 = -3.79% mSpread = 0.0259%\n"
     ]
    },
    {
     "name": "stderr",
     "output_type": "stream",
     "text": [
      "100%|██████████████████████████████████████████████████████████████████████████████████████████████████████████████████████████████████████| 18/18 [00:00<00:00, 1641.07it/s]\n"
     ]
    },
    {
     "name": "stdout",
     "output_type": "stream",
     "text": [
      "Epoch = 13. Time index = 2. Threshold MC = 0.7. Threshold MD = 0.7\n",
      "RD = 231 NZ = 276 NZA = 371 pNZ = 0.024% pNZA = 0.032% AD = 83.70% ADA = 62.26% NO = 16 GSP = 37.50% NSP = 18.75%\n",
      "SI2 = -3.80 SI = -5.80 eGROI = -0.28% eROI = -0.93% eROI2 = -0.60% eROI3 = -0.76% mSpread = 0.0409%\n"
     ]
    },
    {
     "name": "stderr",
     "output_type": "stream",
     "text": [
      "0it [00:00, ?it/s]\n"
     ]
    },
    {
     "name": "stdout",
     "output_type": "stream",
     "text": [
      "Epoch = 13. Time index = 2. Threshold MC = 0.7. Threshold MD = 0.8\n",
      "RD = 107 NZ = 115 NZA = 140 pNZ = 0.010% pNZA = 0.012% AD = 93.04% ADA = 76.43% NO = 1 GSP = 0.00% NSP = 0.00%\n",
      "SI2 = -0.55 SI = -0.55 eGROI = 0.00% eROI = 0.00% eROI2 = 0.00% eROI3 = 0.00% mSpread = 0.0000%\n"
     ]
    },
    {
     "name": "stderr",
     "output_type": "stream",
     "text": [
      "0it [00:00, ?it/s]\n"
     ]
    },
    {
     "name": "stdout",
     "output_type": "stream",
     "text": [
      "Epoch = 13. Time index = 2. Threshold MC = 0.7. Threshold MD = 0.9\n",
      "RD = 0 NZ = 0 NZA = 0 pNZ = 0.000% pNZA = 0.000% AD = 0.00% ADA = 0.00% NO = 1 GSP = 0.00% NSP = 0.00%\n",
      "SI2 = -0.55 SI = -0.55 eGROI = 0.00% eROI = 0.00% eROI2 = 0.00% eROI3 = 0.00% mSpread = 0.0000%\n",
      "\n"
     ]
    },
    {
     "name": "stderr",
     "output_type": "stream",
     "text": [
      "100%|████████████████████████████████████████████████████████████████████████████████████████████████████████████████████████████████████| 471/471 [00:00<00:00, 2969.53it/s]\n"
     ]
    },
    {
     "name": "stdout",
     "output_type": "stream",
     "text": [
      "Epoch = 13. Time index = 2. Threshold MC = 0.8. Threshold MD = 0.5\n",
      "RD = 322 NZ = 531 NZA = 670 pNZ = 0.046% pNZA = 0.058% AD = 60.64% ADA = 48.06% NO = 279 GSP = 57.35% NSP = 50.90%\n",
      "SI2 = -10.45 SI = -11.45 eGROI = 5.87% eROI = 0.31% eROI2 = 0.29% eROI3 = -2.50% mSpread = 0.0199%\n"
     ]
    },
    {
     "name": "stderr",
     "output_type": "stream",
     "text": [
      "100%|██████████████████████████████████████████████████████████████████████████████████████████████████████████████████████████████████████| 57/57 [00:00<00:00, 1680.80it/s]\n"
     ]
    },
    {
     "name": "stdout",
     "output_type": "stream",
     "text": [
      "Epoch = 13. Time index = 2. Threshold MC = 0.8. Threshold MD = 0.6\n",
      "RD = 102 NZ = 129 NZA = 165 pNZ = 0.011% pNZA = 0.014% AD = 79.07% ADA = 61.82% NO = 47 GSP = 72.34% NSP = 61.70%\n",
      "SI2 = 5.15 SI = 3.15 eGROI = 1.87% eROI = 0.85% eROI2 = 0.93% eROI3 = 0.46% mSpread = 0.0217%\n"
     ]
    },
    {
     "name": "stderr",
     "output_type": "stream",
     "text": [
      "0it [00:00, ?it/s]\n"
     ]
    },
    {
     "name": "stdout",
     "output_type": "stream",
     "text": [
      "Epoch = 13. Time index = 2. Threshold MC = 0.8. Threshold MD = 0.7\n",
      "RD = 39 NZ = 45 NZA = 59 pNZ = 0.004% pNZA = 0.005% AD = 86.67% ADA = 66.10% NO = 1 GSP = 0.00% NSP = 0.00%\n",
      "SI2 = -0.55 SI = -0.55 eGROI = 0.00% eROI = 0.00% eROI2 = 0.00% eROI3 = 0.00% mSpread = 0.0000%\n"
     ]
    },
    {
     "name": "stderr",
     "output_type": "stream",
     "text": [
      "0it [00:00, ?it/s]\n"
     ]
    },
    {
     "name": "stdout",
     "output_type": "stream",
     "text": [
      "Epoch = 13. Time index = 2. Threshold MC = 0.8. Threshold MD = 0.8\n",
      "RD = 18 NZ = 22 NZA = 24 pNZ = 0.002% pNZA = 0.002% AD = 81.82% ADA = 75.00% NO = 1 GSP = 0.00% NSP = 0.00%\n",
      "SI2 = -0.55 SI = -0.55 eGROI = 0.00% eROI = 0.00% eROI2 = 0.00% eROI3 = 0.00% mSpread = 0.0000%\n"
     ]
    },
    {
     "name": "stderr",
     "output_type": "stream",
     "text": [
      "0it [00:00, ?it/s]\n"
     ]
    },
    {
     "name": "stdout",
     "output_type": "stream",
     "text": [
      "Epoch = 13. Time index = 2. Threshold MC = 0.8. Threshold MD = 0.9\n",
      "RD = 0 NZ = 0 NZA = 0 pNZ = 0.000% pNZA = 0.000% AD = 0.00% ADA = 0.00% NO = 1 GSP = 0.00% NSP = 0.00%\n",
      "SI2 = -0.55 SI = -0.55 eGROI = 0.00% eROI = 0.00% eROI2 = 0.00% eROI3 = 0.00% mSpread = 0.0000%\n",
      "\n"
     ]
    },
    {
     "name": "stderr",
     "output_type": "stream",
     "text": [
      "0it [00:00, ?it/s]\n"
     ]
    },
    {
     "name": "stdout",
     "output_type": "stream",
     "text": [
      "Epoch = 13. Time index = 2. Threshold MC = 0.9. Threshold MD = 0.5\n",
      "RD = 0 NZ = 0 NZA = 0 pNZ = 0.000% pNZA = 0.000% AD = 0.00% ADA = 0.00% NO = 1 GSP = 0.00% NSP = 0.00%\n",
      "SI2 = -0.55 SI = -0.55 eGROI = 0.00% eROI = 0.00% eROI2 = 0.00% eROI3 = 0.00% mSpread = 0.0000%\n"
     ]
    },
    {
     "name": "stderr",
     "output_type": "stream",
     "text": [
      "0it [00:00, ?it/s]\n"
     ]
    },
    {
     "name": "stdout",
     "output_type": "stream",
     "text": [
      "Epoch = 13. Time index = 2. Threshold MC = 0.9. Threshold MD = 0.6\n",
      "RD = 0 NZ = 0 NZA = 0 pNZ = 0.000% pNZA = 0.000% AD = 0.00% ADA = 0.00% NO = 1 GSP = 0.00% NSP = 0.00%\n",
      "SI2 = -0.55 SI = -0.55 eGROI = 0.00% eROI = 0.00% eROI2 = 0.00% eROI3 = 0.00% mSpread = 0.0000%\n"
     ]
    },
    {
     "name": "stderr",
     "output_type": "stream",
     "text": [
      "0it [00:00, ?it/s]\n"
     ]
    },
    {
     "name": "stdout",
     "output_type": "stream",
     "text": [
      "Epoch = 13. Time index = 2. Threshold MC = 0.9. Threshold MD = 0.7\n",
      "RD = 0 NZ = 0 NZA = 0 pNZ = 0.000% pNZA = 0.000% AD = 0.00% ADA = 0.00% NO = 1 GSP = 0.00% NSP = 0.00%\n",
      "SI2 = -0.55 SI = -0.55 eGROI = 0.00% eROI = 0.00% eROI2 = 0.00% eROI3 = 0.00% mSpread = 0.0000%\n"
     ]
    },
    {
     "name": "stderr",
     "output_type": "stream",
     "text": [
      "0it [00:00, ?it/s]\n"
     ]
    },
    {
     "name": "stdout",
     "output_type": "stream",
     "text": [
      "Epoch = 13. Time index = 2. Threshold MC = 0.9. Threshold MD = 0.8\n",
      "RD = 0 NZ = 0 NZA = 0 pNZ = 0.000% pNZA = 0.000% AD = 0.00% ADA = 0.00% NO = 1 GSP = 0.00% NSP = 0.00%\n",
      "SI2 = -0.55 SI = -0.55 eGROI = 0.00% eROI = 0.00% eROI2 = 0.00% eROI3 = 0.00% mSpread = 0.0000%\n"
     ]
    },
    {
     "name": "stderr",
     "output_type": "stream",
     "text": [
      "0it [00:00, ?it/s]\n"
     ]
    },
    {
     "name": "stdout",
     "output_type": "stream",
     "text": [
      "Epoch = 13. Time index = 2. Threshold MC = 0.9. Threshold MD = 0.9\n",
      "RD = 0 NZ = 0 NZA = 0 pNZ = 0.000% pNZA = 0.000% AD = 0.00% ADA = 0.00% NO = 1 GSP = 0.00% NSP = 0.00%\n",
      "SI2 = -0.55 SI = -0.55 eGROI = 0.00% eROI = 0.00% eROI2 = 0.00% eROI3 = 0.00% mSpread = 0.0000%\n",
      "\n"
     ]
    },
    {
     "name": "stderr",
     "output_type": "stream",
     "text": [
      "0it [00:00, ?it/s]\n"
     ]
    },
    {
     "name": "stdout",
     "output_type": "stream",
     "text": [
      "Epoch = 13. Time index = 3. Threshold MC = 0.5. Threshold MD = 0.5\n",
      "J_test = 6.336282377657683, J_train = 6.508872317743987, Accuracy=0.5395631534917165\n",
      "RD = 269509 NZ = 517277 NZA = 995038 pNZ = 45.030% pNZA = 86.620% AD = 52.10% ADA = 27.09% NO = 1 GSP = 0.00% NSP = 0.00%\n",
      "SI2 = -0.55 SI = -0.55 eGROI = 0.00% eROI = 0.00% eROI2 = 0.00% eROI3 = 0.00% mSpread = 0.0000%\n"
     ]
    },
    {
     "name": "stderr",
     "output_type": "stream",
     "text": [
      "100%|████████████████████████████████████████████████████████████████████████████████████████████████████████████████████████████████| 12272/12272 [00:03<00:00, 3395.30it/s]\n"
     ]
    },
    {
     "name": "stdout",
     "output_type": "stream",
     "text": [
      "Epoch = 13. Time index = 3. Threshold MC = 0.5. Threshold MD = 0.6\n",
      "RD = 8460 NZ = 12505 NZA = 26697 pNZ = 1.089% pNZA = 2.324% AD = 67.65% ADA = 31.69% NO = 2434 GSP = 61.79% NSP = 42.65%\n",
      "SI2 = -90.70 SI = -300.70 eGROI = 39.67% eROI = -39.14% eROI2 = -9.01% eROI3 = -33.35% mSpread = 0.0324%\n"
     ]
    },
    {
     "name": "stderr",
     "output_type": "stream",
     "text": [
      "100%|████████████████████████████████████████████████████████████████████████████████████████████████████████████████████████████████████| 486/486 [00:00<00:00, 2537.99it/s]\n"
     ]
    },
    {
     "name": "stdout",
     "output_type": "stream",
     "text": [
      "Epoch = 13. Time index = 3. Threshold MC = 0.5. Threshold MD = 0.7\n",
      "RD = 1563 NZ = 1976 NZA = 4527 pNZ = 0.172% pNZA = 0.394% AD = 79.10% ADA = 34.53% NO = 237 GSP = 63.29% NSP = 34.60%\n",
      "SI2 = -20.35 SI = -48.35 eGROI = 2.56% eROI = -7.05% eROI2 = -2.18% eROI3 = -4.55% mSpread = 0.0406%\n"
     ]
    },
    {
     "name": "stderr",
     "output_type": "stream",
     "text": [
      "0it [00:00, ?it/s]\n"
     ]
    },
    {
     "name": "stdout",
     "output_type": "stream",
     "text": [
      "Epoch = 13. Time index = 3. Threshold MC = 0.5. Threshold MD = 0.8\n",
      "RD = 185 NZ = 207 NZA = 465 pNZ = 0.018% pNZA = 0.040% AD = 89.37% ADA = 39.78% NO = 1 GSP = 0.00% NSP = 0.00%\n",
      "SI2 = -0.55 SI = -0.55 eGROI = 0.00% eROI = 0.00% eROI2 = 0.00% eROI3 = 0.00% mSpread = 0.0000%\n"
     ]
    },
    {
     "name": "stderr",
     "output_type": "stream",
     "text": [
      "0it [00:00, ?it/s]\n"
     ]
    },
    {
     "name": "stdout",
     "output_type": "stream",
     "text": [
      "Epoch = 13. Time index = 3. Threshold MC = 0.5. Threshold MD = 0.9\n",
      "RD = 0 NZ = 0 NZA = 0 pNZ = 0.000% pNZA = 0.000% AD = 0.00% ADA = 0.00% NO = 1 GSP = 0.00% NSP = 0.00%\n",
      "SI2 = -0.55 SI = -0.55 eGROI = 0.00% eROI = 0.00% eROI2 = 0.00% eROI3 = 0.00% mSpread = 0.0000%\n",
      "\n"
     ]
    },
    {
     "name": "stderr",
     "output_type": "stream",
     "text": [
      "0it [00:00, ?it/s]\n"
     ]
    },
    {
     "name": "stdout",
     "output_type": "stream",
     "text": [
      "Epoch = 13. Time index = 3. Threshold MC = 0.6. Threshold MD = 0.5\n",
      "RD = 87020 NZ = 164256 NZA = 273381 pNZ = 14.299% pNZA = 23.798% AD = 52.98% ADA = 31.83% NO = 1 GSP = 0.00% NSP = 0.00%\n",
      "SI2 = -0.55 SI = -0.55 eGROI = 0.00% eROI = 0.00% eROI2 = 0.00% eROI3 = 0.00% mSpread = 0.0000%\n"
     ]
    },
    {
     "name": "stderr",
     "output_type": "stream",
     "text": [
      "100%|██████████████████████████████████████████████████████████████████████████████████████████████████████████████████████████████████| 8713/8713 [00:03<00:00, 2601.59it/s]\n"
     ]
    },
    {
     "name": "stdout",
     "output_type": "stream",
     "text": [
      "Epoch = 13. Time index = 3. Threshold MC = 0.6. Threshold MD = 0.6\n",
      "RD = 4755 NZ = 7020 NZA = 12930 pNZ = 0.611% pNZA = 1.126% AD = 67.74% ADA = 36.77% NO = 1962 GSP = 62.39% NSP = 43.07%\n",
      "SI2 = -60.10 SI = -234.10 eGROI = 32.93% eROI = -31.27% eROI2 = -6.31% eROI3 = -25.93% mSpread = 0.0327%\n"
     ]
    },
    {
     "name": "stderr",
     "output_type": "stream",
     "text": [
      "100%|████████████████████████████████████████████████████████████████████████████████████████████████████████████████████████████████████| 426/426 [00:00<00:00, 2083.57it/s]\n"
     ]
    },
    {
     "name": "stdout",
     "output_type": "stream",
     "text": [
      "Epoch = 13. Time index = 3. Threshold MC = 0.6. Threshold MD = 0.7\n",
      "RD = 718 NZ = 915 NZA = 1682 pNZ = 0.080% pNZA = 0.146% AD = 78.47% ADA = 42.69% NO = 204 GSP = 60.78% NSP = 33.82%\n",
      "SI2 = -18.20 SI = -43.20 eGROI = 1.79% eROI = -6.62% eROI2 = -2.29% eROI3 = -4.33% mSpread = 0.0412%\n"
     ]
    },
    {
     "name": "stderr",
     "output_type": "stream",
     "text": [
      "0it [00:00, ?it/s]\n"
     ]
    },
    {
     "name": "stdout",
     "output_type": "stream",
     "text": [
      "Epoch = 13. Time index = 3. Threshold MC = 0.6. Threshold MD = 0.8\n",
      "RD = 121 NZ = 130 NZA = 202 pNZ = 0.011% pNZA = 0.018% AD = 93.08% ADA = 59.90% NO = 1 GSP = 0.00% NSP = 0.00%\n",
      "SI2 = -0.55 SI = -0.55 eGROI = 0.00% eROI = 0.00% eROI2 = 0.00% eROI3 = 0.00% mSpread = 0.0000%\n"
     ]
    },
    {
     "name": "stderr",
     "output_type": "stream",
     "text": [
      "0it [00:00, ?it/s]\n"
     ]
    },
    {
     "name": "stdout",
     "output_type": "stream",
     "text": [
      "Epoch = 13. Time index = 3. Threshold MC = 0.6. Threshold MD = 0.9\n",
      "RD = 0 NZ = 0 NZA = 0 pNZ = 0.000% pNZA = 0.000% AD = 0.00% ADA = 0.00% NO = 1 GSP = 0.00% NSP = 0.00%\n",
      "SI2 = -0.55 SI = -0.55 eGROI = 0.00% eROI = 0.00% eROI2 = 0.00% eROI3 = 0.00% mSpread = 0.0000%\n",
      "\n"
     ]
    },
    {
     "name": "stderr",
     "output_type": "stream",
     "text": [
      "100%|██████████████████████████████████████████████████████████████████████████████████████████████████████████████████████████████████| 8599/8599 [00:03<00:00, 2852.07it/s]\n"
     ]
    },
    {
     "name": "stdout",
     "output_type": "stream",
     "text": [
      "Epoch = 13. Time index = 3. Threshold MC = 0.7. Threshold MD = 0.5\n",
      "RD = 5192 NZ = 9306 NZA = 12873 pNZ = 0.810% pNZA = 1.121% AD = 55.79% ADA = 40.33% NO = 1711 GSP = 55.00% NSP = 47.34%\n",
      "SI2 = -116.05 SI = -131.05 eGROI = 9.29% eROI = -27.09% eROI2 = -24.93% eROI3 = -42.04% mSpread = 0.0213%\n"
     ]
    },
    {
     "name": "stderr",
     "output_type": "stream",
     "text": [
      "100%|██████████████████████████████████████████████████████████████████████████████████████████████████████████████████████████████████| 1521/1521 [00:00<00:00, 2487.81it/s]\n"
     ]
    },
    {
     "name": "stdout",
     "output_type": "stream",
     "text": [
      "Epoch = 13. Time index = 3. Threshold MC = 0.7. Threshold MD = 0.6\n",
      "RD = 1065 NZ = 1578 NZA = 2288 pNZ = 0.137% pNZA = 0.199% AD = 67.49% ADA = 46.55% NO = 524 GSP = 62.98% NSP = 50.76%\n",
      "SI2 = -7.20 SI = -22.20 eGROI = 10.42% eROI = -3.10% eROI2 = -0.06% eROI3 = -5.30% mSpread = 0.0258%\n"
     ]
    },
    {
     "name": "stderr",
     "output_type": "stream",
     "text": [
      "100%|██████████████████████████████████████████████████████████████████████████████████████████████████████████████████████████████████████| 63/63 [00:00<00:00, 1503.95it/s]\n"
     ]
    },
    {
     "name": "stdout",
     "output_type": "stream",
     "text": [
      "Epoch = 13. Time index = 3. Threshold MC = 0.7. Threshold MD = 0.7\n",
      "RD = 236 NZ = 287 NZA = 413 pNZ = 0.025% pNZA = 0.036% AD = 82.23% ADA = 57.14% NO = 42 GSP = 42.86% NSP = 30.95%\n",
      "SI2 = -8.10 SI = -10.10 eGROI = -0.39% eROI = -1.92% eROI2 = -1.23% eROI3 = -1.65% mSpread = 0.0364%\n"
     ]
    },
    {
     "name": "stderr",
     "output_type": "stream",
     "text": [
      "0it [00:00, ?it/s]\n"
     ]
    },
    {
     "name": "stdout",
     "output_type": "stream",
     "text": [
      "Epoch = 13. Time index = 3. Threshold MC = 0.7. Threshold MD = 0.8\n",
      "RD = 77 NZ = 82 NZA = 99 pNZ = 0.007% pNZA = 0.009% AD = 93.90% ADA = 77.78% NO = 1 GSP = 0.00% NSP = 0.00%\n",
      "SI2 = -0.55 SI = -0.55 eGROI = 0.00% eROI = 0.00% eROI2 = 0.00% eROI3 = 0.00% mSpread = 0.0000%\n"
     ]
    },
    {
     "name": "stderr",
     "output_type": "stream",
     "text": [
      "0it [00:00, ?it/s]\n"
     ]
    },
    {
     "name": "stdout",
     "output_type": "stream",
     "text": [
      "Epoch = 13. Time index = 3. Threshold MC = 0.7. Threshold MD = 0.9\n",
      "RD = 0 NZ = 0 NZA = 0 pNZ = 0.000% pNZA = 0.000% AD = 0.00% ADA = 0.00% NO = 1 GSP = 0.00% NSP = 0.00%\n",
      "SI2 = -0.55 SI = -0.55 eGROI = 0.00% eROI = 0.00% eROI2 = 0.00% eROI3 = 0.00% mSpread = 0.0000%\n",
      "\n"
     ]
    },
    {
     "name": "stderr",
     "output_type": "stream",
     "text": [
      "100%|████████████████████████████████████████████████████████████████████████████████████████████████████████████████████████████████████| 439/439 [00:00<00:00, 1673.65it/s]\n"
     ]
    },
    {
     "name": "stdout",
     "output_type": "stream",
     "text": [
      "Epoch = 13. Time index = 3. Threshold MC = 0.8. Threshold MD = 0.5\n",
      "RD = 280 NZ = 474 NZA = 602 pNZ = 0.041% pNZA = 0.052% AD = 59.07% ADA = 46.51% NO = 274 GSP = 57.66% NSP = 51.46%\n",
      "SI2 = -8.70 SI = -9.70 eGROI = 6.68% eROI = 1.15% eROI2 = 1.20% eROI3 = -1.54% mSpread = 0.0202%\n"
     ]
    },
    {
     "name": "stderr",
     "output_type": "stream",
     "text": [
      "100%|██████████████████████████████████████████████████████████████████████████████████████████████████████████████████████████████████████| 65/65 [00:00<00:00, 1448.35it/s]\n"
     ]
    },
    {
     "name": "stdout",
     "output_type": "stream",
     "text": [
      "Epoch = 13. Time index = 3. Threshold MC = 0.8. Threshold MD = 0.6\n",
      "RD = 96 NZ = 120 NZA = 152 pNZ = 0.010% pNZA = 0.013% AD = 80.00% ADA = 63.16% NO = 51 GSP = 68.63% NSP = 62.75%\n",
      "SI2 = 5.95 SI = 3.95 eGROI = 1.94% eROI = 0.77% eROI2 = 0.92% eROI3 = 0.41% mSpread = 0.0230%\n"
     ]
    },
    {
     "name": "stderr",
     "output_type": "stream",
     "text": [
      "0it [00:00, ?it/s]\n"
     ]
    },
    {
     "name": "stdout",
     "output_type": "stream",
     "text": [
      "Epoch = 13. Time index = 3. Threshold MC = 0.8. Threshold MD = 0.7\n",
      "RD = 32 NZ = 39 NZA = 51 pNZ = 0.003% pNZA = 0.004% AD = 82.05% ADA = 62.75% NO = 1 GSP = 0.00% NSP = 0.00%\n",
      "SI2 = -0.55 SI = -0.55 eGROI = 0.00% eROI = 0.00% eROI2 = 0.00% eROI3 = 0.00% mSpread = 0.0000%\n"
     ]
    },
    {
     "name": "stderr",
     "output_type": "stream",
     "text": [
      "0it [00:00, ?it/s]\n"
     ]
    },
    {
     "name": "stdout",
     "output_type": "stream",
     "text": [
      "Epoch = 13. Time index = 3. Threshold MC = 0.8. Threshold MD = 0.8\n",
      "RD = 10 NZ = 12 NZA = 13 pNZ = 0.001% pNZA = 0.001% AD = 83.33% ADA = 76.92% NO = 1 GSP = 0.00% NSP = 0.00%\n",
      "SI2 = -0.55 SI = -0.55 eGROI = 0.00% eROI = 0.00% eROI2 = 0.00% eROI3 = 0.00% mSpread = 0.0000%\n"
     ]
    },
    {
     "name": "stderr",
     "output_type": "stream",
     "text": [
      "0it [00:00, ?it/s]\n"
     ]
    },
    {
     "name": "stdout",
     "output_type": "stream",
     "text": [
      "Epoch = 13. Time index = 3. Threshold MC = 0.8. Threshold MD = 0.9\n",
      "RD = 0 NZ = 0 NZA = 0 pNZ = 0.000% pNZA = 0.000% AD = 0.00% ADA = 0.00% NO = 1 GSP = 0.00% NSP = 0.00%\n",
      "SI2 = -0.55 SI = -0.55 eGROI = 0.00% eROI = 0.00% eROI2 = 0.00% eROI3 = 0.00% mSpread = 0.0000%\n",
      "\n"
     ]
    },
    {
     "name": "stderr",
     "output_type": "stream",
     "text": [
      "0it [00:00, ?it/s]\n"
     ]
    },
    {
     "name": "stdout",
     "output_type": "stream",
     "text": [
      "Epoch = 13. Time index = 3. Threshold MC = 0.9. Threshold MD = 0.5\n",
      "RD = 0 NZ = 0 NZA = 0 pNZ = 0.000% pNZA = 0.000% AD = 0.00% ADA = 0.00% NO = 1 GSP = 0.00% NSP = 0.00%\n",
      "SI2 = -0.55 SI = -0.55 eGROI = 0.00% eROI = 0.00% eROI2 = 0.00% eROI3 = 0.00% mSpread = 0.0000%\n"
     ]
    },
    {
     "name": "stderr",
     "output_type": "stream",
     "text": [
      "0it [00:00, ?it/s]\n"
     ]
    },
    {
     "name": "stdout",
     "output_type": "stream",
     "text": [
      "Epoch = 13. Time index = 3. Threshold MC = 0.9. Threshold MD = 0.6\n",
      "RD = 0 NZ = 0 NZA = 0 pNZ = 0.000% pNZA = 0.000% AD = 0.00% ADA = 0.00% NO = 1 GSP = 0.00% NSP = 0.00%\n",
      "SI2 = -0.55 SI = -0.55 eGROI = 0.00% eROI = 0.00% eROI2 = 0.00% eROI3 = 0.00% mSpread = 0.0000%\n"
     ]
    },
    {
     "name": "stderr",
     "output_type": "stream",
     "text": [
      "0it [00:00, ?it/s]\n"
     ]
    },
    {
     "name": "stdout",
     "output_type": "stream",
     "text": [
      "Epoch = 13. Time index = 3. Threshold MC = 0.9. Threshold MD = 0.7\n",
      "RD = 0 NZ = 0 NZA = 0 pNZ = 0.000% pNZA = 0.000% AD = 0.00% ADA = 0.00% NO = 1 GSP = 0.00% NSP = 0.00%\n",
      "SI2 = -0.55 SI = -0.55 eGROI = 0.00% eROI = 0.00% eROI2 = 0.00% eROI3 = 0.00% mSpread = 0.0000%\n"
     ]
    },
    {
     "name": "stderr",
     "output_type": "stream",
     "text": [
      "0it [00:00, ?it/s]\n"
     ]
    },
    {
     "name": "stdout",
     "output_type": "stream",
     "text": [
      "Epoch = 13. Time index = 3. Threshold MC = 0.9. Threshold MD = 0.8\n",
      "RD = 0 NZ = 0 NZA = 0 pNZ = 0.000% pNZA = 0.000% AD = 0.00% ADA = 0.00% NO = 1 GSP = 0.00% NSP = 0.00%\n",
      "SI2 = -0.55 SI = -0.55 eGROI = 0.00% eROI = 0.00% eROI2 = 0.00% eROI3 = 0.00% mSpread = 0.0000%\n"
     ]
    },
    {
     "name": "stderr",
     "output_type": "stream",
     "text": [
      "0it [00:00, ?it/s]\n"
     ]
    },
    {
     "name": "stdout",
     "output_type": "stream",
     "text": [
      "Epoch = 13. Time index = 3. Threshold MC = 0.9. Threshold MD = 0.9\n",
      "RD = 0 NZ = 0 NZA = 0 pNZ = 0.000% pNZA = 0.000% AD = 0.00% ADA = 0.00% NO = 1 GSP = 0.00% NSP = 0.00%\n",
      "SI2 = -0.55 SI = -0.55 eGROI = 0.00% eROI = 0.00% eROI2 = 0.00% eROI3 = 0.00% mSpread = 0.0000%\n",
      "\n",
      "Best eGROI = 39.67 t_index 3 thr_mc 0.5 thr_md 0.6 epoch 13 in 2434\n",
      "Best eROI = 2.86 t_index 1 thr_mc 0.8 thr_md 0.5 epoch 13 in 239\n",
      "Best eROI.5 = 27.56 t_index 2 thr_mc 0.5 thr_md 0.6 epoch 13 in 2388\n",
      "Best eROI1 = 15.62 t_index 2 thr_mc 0.5 thr_md 0.6 epoch 13 in 2388\n",
      "Best eROI1.5 = 3.83 t_index 1 thr_mc 0.7 thr_md 0.6 epoch 13 in 342\n",
      "Best eROI2 = 2.61 t_index 1 thr_mc 0.8 thr_md 0.5 epoch 13 in 239\n",
      "Best eROI3 = 0.46 t_index 2 thr_mc 0.8 thr_md 0.6 epoch 13 in 47\n",
      "Best eROI4 = 0.16 t_index 0 thr_mc 0.5 thr_md 0.7 epoch 13 in 9\n",
      "Best eROI5 = 0.07 t_index 0 thr_mc 0.5 thr_md 0.7 epoch 13 in 9\n",
      "Best SI = 3.95 t_index 3 thr_mc 0.8 thr_md 0.6 epoch 13 in 51\n",
      "Best SI.5 = 112.30 t_index 3 thr_mc 0.5 thr_md 0.6 epoch 13 in 2434\n",
      "Best SI1 = 53.90 t_index 3 thr_mc 0.6 thr_md 0.6 epoch 13 in 1962\n",
      "Best SI1.5 = 16.90 t_index 1 thr_mc 0.7 thr_md 0.6 epoch 13 in 342\n",
      "Best SI2 = 6.90 t_index 1 thr_mc 0.7 thr_md 0.6 epoch 13 in 342\n",
      "Best SI3 = 4.95 t_index 3 thr_mc 0.8 thr_md 0.6 epoch 13 in 51\n",
      "Best SI4 = 1.95 t_index 3 thr_mc 0.8 thr_md 0.6 epoch 13 in 51\n",
      "Best SI5 = 1.05 t_index 0 thr_mc 0.5 thr_md 0.7 epoch 13 in 9\n",
      "\n",
      "The very best:\n",
      "Best eGROI = 39.89 t_index 3 thr_mc 0.5 thr_md 0.6 epoch 12 in 2426\n",
      "Best eROI = 3.37 t_index 3 thr_mc 0.8 thr_md 0.5 epoch 8 in 141\n",
      "Best eROI.5 = 27.76 t_index 3 thr_mc 0.5 thr_md 0.6 epoch 12 in 2426\n",
      "Best eROI1 = 15.63 t_index 3 thr_mc 0.5 thr_md 0.6 epoch 12 in 2426\n",
      "Best eROI1.5 = 5.80 t_index 3 thr_mc 0.6 thr_md 0.6 epoch 11 in 1839\n",
      "Best eROI2 = 3.16 t_index 3 thr_mc 0.8 thr_md 0.5 epoch 8 in 141\n",
      "Best eROI3 = 1.75 t_index 3 thr_mc 0.8 thr_md 0.5 epoch 8 in 141\n",
      "Best eROI4 = 0.50 t_index 3 thr_mc 0.8 thr_md 0.6 epoch 10 in 14\n",
      "Best eROI5 = 0.36 t_index 3 thr_mc 0.8 thr_md 0.6 epoch 10 in 14\n",
      "Best SI = 4.45 t_index 3 thr_mc 0.8 thr_md 0.5 epoch 8 in 141\n",
      "Best SI.5 = 128.70 t_index 3 thr_mc 0.5 thr_md 0.6 epoch 12 in 2426\n",
      "Best SI1 = 59.90 t_index 3 thr_mc 0.6 thr_md 0.6 epoch 12 in 1922\n",
      "Best SI1.5 = 16.90 t_index 1 thr_mc 0.7 thr_md 0.6 epoch 13 in 342\n",
      "Best SI2 = 6.90 t_index 1 thr_mc 0.7 thr_md 0.6 epoch 13 in 342\n",
      "Best SI3 = 4.95 t_index 3 thr_mc 0.8 thr_md 0.6 epoch 13 in 51\n",
      "Best SI4 = 1.95 t_index 3 thr_mc 0.8 thr_md 0.6 epoch 13 in 51\n",
      "Best SI5 = 1.05 t_index 0 thr_mc 0.5 thr_md 0.7 epoch 13 in 9\n",
      "Time=106.44 secs\n",
      "INFO:tensorflow:Restoring parameters from ../../RNN/weights/000520/000014/000014\n",
      "Parameters loaded. Epoch 14\n",
      "Epoch 14 of 34. Getting output...\n"
     ]
    },
    {
     "name": "stderr",
     "output_type": "stream",
     "text": [
      "100%|████████████████████████████████████████████████████████████████████████████████████████████████████████████████████████████████████████| 23/23 [01:37<00:00,  4.37s/it]\n"
     ]
    },
    {
     "name": "stdout",
     "output_type": "stream",
     "text": [
      "Getting results\n",
      "Epoch 14, J_train = 6.507438530756279, J_test = 6.3351023508154825\n"
     ]
    },
    {
     "name": "stderr",
     "output_type": "stream",
     "text": [
      "0it [00:00, ?it/s]\n"
     ]
    },
    {
     "name": "stdout",
     "output_type": "stream",
     "text": [
      "Epoch = 14. Time index = 0. Threshold MC = 0.5. Threshold MD = 0.5\n",
      "J_test = 6.3351023508154825, J_train = 6.507438530756279, Accuracy=0.5463253863169248\n",
      "RD = 265119 NZ = 509956 NZA = 972628 pNZ = 44.393% pNZA = 84.670% AD = 51.99% ADA = 27.26% NO = 1 GSP = 0.00% NSP = 0.00%\n",
      "SI2 = -0.55 SI = -0.55 eGROI = 0.00% eROI = 0.00% eROI2 = 0.00% eROI3 = 0.00% mSpread = 0.0000%\n"
     ]
    },
    {
     "name": "stderr",
     "output_type": "stream",
     "text": [
      "100%|██████████████████████████████████████████████████████████████████████████████████████████████████████████████████████████████████| 7871/7871 [00:01<00:00, 4758.66it/s]\n"
     ]
    },
    {
     "name": "stdout",
     "output_type": "stream",
     "text": [
      "Epoch = 14. Time index = 0. Threshold MC = 0.5. Threshold MD = 0.6\n",
      "RD = 8260 NZ = 12615 NZA = 27679 pNZ = 1.098% pNZA = 2.410% AD = 65.48% ADA = 29.84% NO = 1933 GSP = 63.37% NSP = 42.21%\n",
      "SI2 = -52.15 SI = -247.15 eGROI = 29.96% eROI = -34.26% eROI2 = -8.70% eROI3 = -28.03% mSpread = 0.0332%\n"
     ]
    },
    {
     "name": "stderr",
     "output_type": "stream",
     "text": [
      "100%|██████████████████████████████████████████████████████████████████████████████████████████████████████████████████████████████████████| 28/28 [00:00<00:00, 1871.83it/s]\n"
     ]
    },
    {
     "name": "stdout",
     "output_type": "stream",
     "text": [
      "Epoch = 14. Time index = 0. Threshold MC = 0.5. Threshold MD = 0.7\n",
      "RD = 844 NZ = 1027 NZA = 2121 pNZ = 0.089% pNZA = 0.185% AD = 82.18% ADA = 39.79% NO = 20 GSP = 90.00% NSP = 45.00%\n",
      "SI2 = 4.00 SI = -2.00 eGROI = 0.83% eROI = 0.01% eROI2 = 0.43% eROI3 = 0.23% mSpread = 0.0413%\n"
     ]
    },
    {
     "name": "stderr",
     "output_type": "stream",
     "text": [
      "0it [00:00, ?it/s]\n"
     ]
    },
    {
     "name": "stdout",
     "output_type": "stream",
     "text": [
      "Epoch = 14. Time index = 0. Threshold MC = 0.5. Threshold MD = 0.8\n",
      "RD = 44 NZ = 47 NZA = 71 pNZ = 0.004% pNZA = 0.006% AD = 93.62% ADA = 61.97% NO = 1 GSP = 0.00% NSP = 0.00%\n",
      "SI2 = -0.55 SI = -0.55 eGROI = 0.00% eROI = 0.00% eROI2 = 0.00% eROI3 = 0.00% mSpread = 0.0000%\n"
     ]
    },
    {
     "name": "stderr",
     "output_type": "stream",
     "text": [
      "0it [00:00, ?it/s]\n"
     ]
    },
    {
     "name": "stdout",
     "output_type": "stream",
     "text": [
      "Epoch = 14. Time index = 0. Threshold MC = 0.5. Threshold MD = 0.9\n",
      "RD = 0 NZ = 0 NZA = 0 pNZ = 0.000% pNZA = 0.000% AD = 0.00% ADA = 0.00% NO = 1 GSP = 0.00% NSP = 0.00%\n",
      "SI2 = -0.55 SI = -0.55 eGROI = 0.00% eROI = 0.00% eROI2 = 0.00% eROI3 = 0.00% mSpread = 0.0000%\n",
      "\n"
     ]
    },
    {
     "name": "stderr",
     "output_type": "stream",
     "text": [
      "0it [00:00, ?it/s]\n"
     ]
    },
    {
     "name": "stdout",
     "output_type": "stream",
     "text": [
      "Epoch = 14. Time index = 0. Threshold MC = 0.6. Threshold MD = 0.5\n",
      "RD = 89356 NZ = 168597 NZA = 277294 pNZ = 14.677% pNZA = 24.139% AD = 53.00% ADA = 32.22% NO = 1 GSP = 0.00% NSP = 0.00%\n",
      "SI2 = -0.55 SI = -0.55 eGROI = 0.00% eROI = 0.00% eROI2 = 0.00% eROI3 = 0.00% mSpread = 0.0000%\n"
     ]
    },
    {
     "name": "stderr",
     "output_type": "stream",
     "text": [
      "100%|██████████████████████████████████████████████████████████████████████████████████████████████████████████████████████████████████| 3163/3163 [00:00<00:00, 4338.45it/s]\n"
     ]
    },
    {
     "name": "stdout",
     "output_type": "stream",
     "text": [
      "Epoch = 14. Time index = 0. Threshold MC = 0.6. Threshold MD = 0.6\n",
      "RD = 3427 NZ = 5171 NZA = 9080 pNZ = 0.450% pNZA = 0.790% AD = 66.27% ADA = 37.74% NO = 1047 GSP = 63.61% NSP = 45.75%\n",
      "SI2 = -36.85 SI = -96.85 eGROI = 17.41% eROI = -14.14% eROI2 = -3.53% eROI3 = -14.00% mSpread = 0.0301%\n"
     ]
    },
    {
     "name": "stderr",
     "output_type": "stream",
     "text": [
      "100%|██████████████████████████████████████████████████████████████████████████████████████████████████████████████████████████████████████| 11/11 [00:00<00:00, 1378.84it/s]\n"
     ]
    },
    {
     "name": "stdout",
     "output_type": "stream",
     "text": [
      "Epoch = 14. Time index = 0. Threshold MC = 0.6. Threshold MD = 0.7\n",
      "RD = 474 NZ = 558 NZA = 894 pNZ = 0.049% pNZA = 0.078% AD = 84.95% ADA = 53.02% NO = 9 GSP = 88.89% NSP = 55.56%\n",
      "SI2 = 0.05 SI = 0.05 eGROI = 0.34% eROI = 0.03% eROI2 = 0.16% eROI3 = 0.07% mSpread = 0.0352%\n"
     ]
    },
    {
     "name": "stderr",
     "output_type": "stream",
     "text": [
      "0it [00:00, ?it/s]\n"
     ]
    },
    {
     "name": "stdout",
     "output_type": "stream",
     "text": [
      "Epoch = 14. Time index = 0. Threshold MC = 0.6. Threshold MD = 0.8\n",
      "RD = 33 NZ = 35 NZA = 48 pNZ = 0.003% pNZA = 0.004% AD = 94.29% ADA = 68.75% NO = 1 GSP = 0.00% NSP = 0.00%\n",
      "SI2 = -0.55 SI = -0.55 eGROI = 0.00% eROI = 0.00% eROI2 = 0.00% eROI3 = 0.00% mSpread = 0.0000%\n"
     ]
    },
    {
     "name": "stderr",
     "output_type": "stream",
     "text": [
      "0it [00:00, ?it/s]\n"
     ]
    },
    {
     "name": "stdout",
     "output_type": "stream",
     "text": [
      "Epoch = 14. Time index = 0. Threshold MC = 0.6. Threshold MD = 0.9\n",
      "RD = 0 NZ = 0 NZA = 0 pNZ = 0.000% pNZA = 0.000% AD = 0.00% ADA = 0.00% NO = 1 GSP = 0.00% NSP = 0.00%\n",
      "SI2 = -0.55 SI = -0.55 eGROI = 0.00% eROI = 0.00% eROI2 = 0.00% eROI3 = 0.00% mSpread = 0.0000%\n",
      "\n"
     ]
    },
    {
     "name": "stderr",
     "output_type": "stream",
     "text": [
      "100%|████████████████████████████████████████████████████████████████████████████████████████████████████████████████████████████████| 11921/11921 [00:02<00:00, 5216.56it/s]\n"
     ]
    },
    {
     "name": "stdout",
     "output_type": "stream",
     "text": [
      "Epoch = 14. Time index = 0. Threshold MC = 0.7. Threshold MD = 0.5\n",
      "RD = 8488 NZ = 15707 NZA = 22013 pNZ = 1.367% pNZA = 1.916% AD = 54.04% ADA = 38.56% NO = 2423 GSP = 53.12% NSP = 45.69%\n",
      "SI2 = -211.65 SI = -225.65 eGROI = 5.53% eROI = -41.30% eROI2 = -42.93% eROI3 = -67.16% mSpread = 0.0193%\n"
     ]
    },
    {
     "name": "stderr",
     "output_type": "stream",
     "text": [
      "100%|████████████████████████████████████████████████████████████████████████████████████████████████████████████████████████████████████| 628/628 [00:00<00:00, 3478.85it/s]\n"
     ]
    },
    {
     "name": "stdout",
     "output_type": "stream",
     "text": [
      "Epoch = 14. Time index = 0. Threshold MC = 0.7. Threshold MD = 0.6\n",
      "RD = 735 NZ = 1111 NZA = 1538 pNZ = 0.097% pNZA = 0.134% AD = 66.16% ADA = 47.79% NO = 319 GSP = 60.82% NSP = 51.41%\n",
      "SI2 = -7.45 SI = -11.45 eGROI = 4.16% eROI = -2.82% eROI2 = -2.22% eROI3 = -5.41% mSpread = 0.0219%\n"
     ]
    },
    {
     "name": "stderr",
     "output_type": "stream",
     "text": [
      "0it [00:00, ?it/s]\n"
     ]
    },
    {
     "name": "stdout",
     "output_type": "stream",
     "text": [
      "Epoch = 14. Time index = 0. Threshold MC = 0.7. Threshold MD = 0.7\n",
      "RD = 105 NZ = 127 NZA = 159 pNZ = 0.011% pNZA = 0.014% AD = 82.68% ADA = 66.04% NO = 1 GSP = 0.00% NSP = 0.00%\n",
      "SI2 = -0.55 SI = -0.55 eGROI = 0.00% eROI = 0.00% eROI2 = 0.00% eROI3 = 0.00% mSpread = 0.0000%\n"
     ]
    },
    {
     "name": "stderr",
     "output_type": "stream",
     "text": [
      "0it [00:00, ?it/s]\n"
     ]
    },
    {
     "name": "stdout",
     "output_type": "stream",
     "text": [
      "Epoch = 14. Time index = 0. Threshold MC = 0.7. Threshold MD = 0.8\n",
      "RD = 8 NZ = 8 NZA = 10 pNZ = 0.001% pNZA = 0.001% AD = 100.00% ADA = 80.00% NO = 1 GSP = 0.00% NSP = 0.00%\n",
      "SI2 = -0.55 SI = -0.55 eGROI = 0.00% eROI = 0.00% eROI2 = 0.00% eROI3 = 0.00% mSpread = 0.0000%\n"
     ]
    },
    {
     "name": "stderr",
     "output_type": "stream",
     "text": [
      "0it [00:00, ?it/s]\n"
     ]
    },
    {
     "name": "stdout",
     "output_type": "stream",
     "text": [
      "Epoch = 14. Time index = 0. Threshold MC = 0.7. Threshold MD = 0.9\n",
      "RD = 0 NZ = 0 NZA = 0 pNZ = 0.000% pNZA = 0.000% AD = 0.00% ADA = 0.00% NO = 1 GSP = 0.00% NSP = 0.00%\n",
      "SI2 = -0.55 SI = -0.55 eGROI = 0.00% eROI = 0.00% eROI2 = 0.00% eROI3 = 0.00% mSpread = 0.0000%\n",
      "\n"
     ]
    },
    {
     "name": "stderr",
     "output_type": "stream",
     "text": [
      "100%|████████████████████████████████████████████████████████████████████████████████████████████████████████████████████████████████████| 471/471 [00:00<00:00, 2879.63it/s]\n"
     ]
    },
    {
     "name": "stdout",
     "output_type": "stream",
     "text": [
      "Epoch = 14. Time index = 0. Threshold MC = 0.8. Threshold MD = 0.5\n",
      "RD = 358 NZ = 623 NZA = 785 pNZ = 0.054% pNZA = 0.068% AD = 57.46% ADA = 45.61% NO = 278 GSP = 55.40% NSP = 50.36%\n",
      "SI2 = -13.90 SI = -12.90 eGROI = 5.48% eROI = 0.23% eROI2 = -0.08% eROI3 = -2.86% mSpread = 0.0189%\n"
     ]
    },
    {
     "name": "stderr",
     "output_type": "stream",
     "text": [
      "100%|██████████████████████████████████████████████████████████████████████████████████████████████████████████████████████████████████████| 19/19 [00:00<00:00, 1361.88it/s]\n"
     ]
    },
    {
     "name": "stdout",
     "output_type": "stream",
     "text": [
      "Epoch = 14. Time index = 0. Threshold MC = 0.8. Threshold MD = 0.6\n",
      "RD = 54 NZ = 79 NZA = 104 pNZ = 0.007% pNZA = 0.009% AD = 68.35% ADA = 51.92% NO = 19 GSP = 68.42% NSP = 63.16%\n",
      "SI2 = 2.55 SI = 1.55 eGROI = 0.31% eROI = -0.15% eROI2 = -0.07% eROI3 = -0.26% mSpread = 0.0246%\n"
     ]
    },
    {
     "name": "stderr",
     "output_type": "stream",
     "text": [
      "0it [00:00, ?it/s]\n"
     ]
    },
    {
     "name": "stdout",
     "output_type": "stream",
     "text": [
      "Epoch = 14. Time index = 0. Threshold MC = 0.8. Threshold MD = 0.7\n",
      "RD = 9 NZ = 12 NZA = 14 pNZ = 0.001% pNZA = 0.001% AD = 75.00% ADA = 64.29% NO = 1 GSP = 0.00% NSP = 0.00%\n",
      "SI2 = -0.55 SI = -0.55 eGROI = 0.00% eROI = 0.00% eROI2 = 0.00% eROI3 = 0.00% mSpread = 0.0000%\n"
     ]
    },
    {
     "name": "stderr",
     "output_type": "stream",
     "text": [
      "0it [00:00, ?it/s]\n"
     ]
    },
    {
     "name": "stdout",
     "output_type": "stream",
     "text": [
      "Epoch = 14. Time index = 0. Threshold MC = 0.8. Threshold MD = 0.8\n",
      "RD = 0 NZ = 0 NZA = 0 pNZ = 0.000% pNZA = 0.000% AD = 0.00% ADA = 0.00% NO = 1 GSP = 0.00% NSP = 0.00%\n",
      "SI2 = -0.55 SI = -0.55 eGROI = 0.00% eROI = 0.00% eROI2 = 0.00% eROI3 = 0.00% mSpread = 0.0000%\n"
     ]
    },
    {
     "name": "stderr",
     "output_type": "stream",
     "text": [
      "0it [00:00, ?it/s]\n"
     ]
    },
    {
     "name": "stdout",
     "output_type": "stream",
     "text": [
      "Epoch = 14. Time index = 0. Threshold MC = 0.8. Threshold MD = 0.9\n",
      "RD = 0 NZ = 0 NZA = 0 pNZ = 0.000% pNZA = 0.000% AD = 0.00% ADA = 0.00% NO = 1 GSP = 0.00% NSP = 0.00%\n",
      "SI2 = -0.55 SI = -0.55 eGROI = 0.00% eROI = 0.00% eROI2 = 0.00% eROI3 = 0.00% mSpread = 0.0000%\n",
      "\n"
     ]
    },
    {
     "name": "stderr",
     "output_type": "stream",
     "text": [
      "0it [00:00, ?it/s]\n"
     ]
    },
    {
     "name": "stdout",
     "output_type": "stream",
     "text": [
      "Epoch = 14. Time index = 0. Threshold MC = 0.9. Threshold MD = 0.5\n",
      "RD = 0 NZ = 0 NZA = 0 pNZ = 0.000% pNZA = 0.000% AD = 0.00% ADA = 0.00% NO = 1 GSP = 0.00% NSP = 0.00%\n",
      "SI2 = -0.55 SI = -0.55 eGROI = 0.00% eROI = 0.00% eROI2 = 0.00% eROI3 = 0.00% mSpread = 0.0000%\n"
     ]
    },
    {
     "name": "stderr",
     "output_type": "stream",
     "text": [
      "0it [00:00, ?it/s]\n"
     ]
    },
    {
     "name": "stdout",
     "output_type": "stream",
     "text": [
      "Epoch = 14. Time index = 0. Threshold MC = 0.9. Threshold MD = 0.6\n",
      "RD = 0 NZ = 0 NZA = 0 pNZ = 0.000% pNZA = 0.000% AD = 0.00% ADA = 0.00% NO = 1 GSP = 0.00% NSP = 0.00%\n",
      "SI2 = -0.55 SI = -0.55 eGROI = 0.00% eROI = 0.00% eROI2 = 0.00% eROI3 = 0.00% mSpread = 0.0000%\n"
     ]
    },
    {
     "name": "stderr",
     "output_type": "stream",
     "text": [
      "0it [00:00, ?it/s]\n"
     ]
    },
    {
     "name": "stdout",
     "output_type": "stream",
     "text": [
      "Epoch = 14. Time index = 0. Threshold MC = 0.9. Threshold MD = 0.7\n",
      "RD = 0 NZ = 0 NZA = 0 pNZ = 0.000% pNZA = 0.000% AD = 0.00% ADA = 0.00% NO = 1 GSP = 0.00% NSP = 0.00%\n",
      "SI2 = -0.55 SI = -0.55 eGROI = 0.00% eROI = 0.00% eROI2 = 0.00% eROI3 = 0.00% mSpread = 0.0000%\n"
     ]
    },
    {
     "name": "stderr",
     "output_type": "stream",
     "text": [
      "0it [00:00, ?it/s]\n"
     ]
    },
    {
     "name": "stdout",
     "output_type": "stream",
     "text": [
      "Epoch = 14. Time index = 0. Threshold MC = 0.9. Threshold MD = 0.8\n",
      "RD = 0 NZ = 0 NZA = 0 pNZ = 0.000% pNZA = 0.000% AD = 0.00% ADA = 0.00% NO = 1 GSP = 0.00% NSP = 0.00%\n",
      "SI2 = -0.55 SI = -0.55 eGROI = 0.00% eROI = 0.00% eROI2 = 0.00% eROI3 = 0.00% mSpread = 0.0000%\n"
     ]
    },
    {
     "name": "stderr",
     "output_type": "stream",
     "text": [
      "0it [00:00, ?it/s]\n"
     ]
    },
    {
     "name": "stdout",
     "output_type": "stream",
     "text": [
      "Epoch = 14. Time index = 0. Threshold MC = 0.9. Threshold MD = 0.9\n",
      "RD = 0 NZ = 0 NZA = 0 pNZ = 0.000% pNZA = 0.000% AD = 0.00% ADA = 0.00% NO = 1 GSP = 0.00% NSP = 0.00%\n",
      "SI2 = -0.55 SI = -0.55 eGROI = 0.00% eROI = 0.00% eROI2 = 0.00% eROI3 = 0.00% mSpread = 0.0000%\n",
      "\n"
     ]
    },
    {
     "name": "stderr",
     "output_type": "stream",
     "text": [
      "0it [00:00, ?it/s]\n"
     ]
    },
    {
     "name": "stdout",
     "output_type": "stream",
     "text": [
      "Epoch = 14. Time index = 1. Threshold MC = 0.5. Threshold MD = 0.5\n",
      "J_test = 6.3351023508154825, J_train = 6.507438530756279, Accuracy=0.5397694677527327\n",
      "RD = 270570 NZ = 520327 NZA = 1000901 pNZ = 45.296% pNZA = 87.131% AD = 52.00% ADA = 27.03% NO = 1 GSP = 0.00% NSP = 0.00%\n",
      "SI2 = -0.55 SI = -0.55 eGROI = 0.00% eROI = 0.00% eROI2 = 0.00% eROI3 = 0.00% mSpread = 0.0000%\n"
     ]
    },
    {
     "name": "stderr",
     "output_type": "stream",
     "text": [
      "100%|████████████████████████████████████████████████████████████████████████████████████████████████████████████████████████████████| 11780/11780 [00:02<00:00, 4254.73it/s]\n"
     ]
    },
    {
     "name": "stdout",
     "output_type": "stream",
     "text": [
      "Epoch = 14. Time index = 1. Threshold MC = 0.5. Threshold MD = 0.6\n",
      "RD = 7796 NZ = 11554 NZA = 24654 pNZ = 1.006% pNZA = 2.146% AD = 67.47% ADA = 31.62% NO = 2312 GSP = 61.68% NSP = 41.70%\n",
      "SI2 = -108.60 SI = -307.60 eGROI = 33.53% eROI = -42.41% eROI2 = -12.71% eROI3 = -35.83% mSpread = 0.0328%\n"
     ]
    },
    {
     "name": "stderr",
     "output_type": "stream",
     "text": [
      "100%|████████████████████████████████████████████████████████████████████████████████████████████████████████████████████████████████████| 369/369 [00:00<00:00, 2868.10it/s]\n"
     ]
    },
    {
     "name": "stdout",
     "output_type": "stream",
     "text": [
      "Epoch = 14. Time index = 1. Threshold MC = 0.5. Threshold MD = 0.7\n",
      "RD = 1163 NZ = 1462 NZA = 3031 pNZ = 0.127% pNZA = 0.264% AD = 79.55% ADA = 38.37% NO = 180 GSP = 63.89% NSP = 34.44%\n",
      "SI2 = -11.00 SI = -37.00 eGROI = 2.30% eROI = -4.55% eROI2 = -1.30% eROI3 = -3.10% mSpread = 0.0381%\n"
     ]
    },
    {
     "name": "stderr",
     "output_type": "stream",
     "text": [
      "0it [00:00, ?it/s]\n"
     ]
    },
    {
     "name": "stdout",
     "output_type": "stream",
     "text": [
      "Epoch = 14. Time index = 1. Threshold MC = 0.5. Threshold MD = 0.8\n",
      "RD = 239 NZ = 261 NZA = 448 pNZ = 0.023% pNZA = 0.039% AD = 91.57% ADA = 53.35% NO = 1 GSP = 0.00% NSP = 0.00%\n",
      "SI2 = -0.55 SI = -0.55 eGROI = 0.00% eROI = 0.00% eROI2 = 0.00% eROI3 = 0.00% mSpread = 0.0000%\n"
     ]
    },
    {
     "name": "stderr",
     "output_type": "stream",
     "text": [
      "0it [00:00, ?it/s]\n"
     ]
    },
    {
     "name": "stdout",
     "output_type": "stream",
     "text": [
      "Epoch = 14. Time index = 1. Threshold MC = 0.5. Threshold MD = 0.9\n",
      "RD = 1 NZ = 1 NZA = 1 pNZ = 0.000% pNZA = 0.000% AD = 100.00% ADA = 100.00% NO = 1 GSP = 0.00% NSP = 0.00%\n",
      "SI2 = -0.55 SI = -0.55 eGROI = 0.00% eROI = 0.00% eROI2 = 0.00% eROI3 = 0.00% mSpread = 0.0000%\n",
      "\n"
     ]
    },
    {
     "name": "stderr",
     "output_type": "stream",
     "text": [
      "0it [00:00, ?it/s]\n"
     ]
    },
    {
     "name": "stdout",
     "output_type": "stream",
     "text": [
      "Epoch = 14. Time index = 1. Threshold MC = 0.6. Threshold MD = 0.5\n",
      "RD = 87266 NZ = 164474 NZA = 271850 pNZ = 14.318% pNZA = 23.665% AD = 53.06% ADA = 32.10% NO = 1 GSP = 0.00% NSP = 0.00%\n",
      "SI2 = -0.55 SI = -0.55 eGROI = 0.00% eROI = 0.00% eROI2 = 0.00% eROI3 = 0.00% mSpread = 0.0000%\n"
     ]
    },
    {
     "name": "stderr",
     "output_type": "stream",
     "text": [
      "100%|██████████████████████████████████████████████████████████████████████████████████████████████████████████████████████████████████| 6071/6071 [00:01<00:00, 4680.08it/s]\n"
     ]
    },
    {
     "name": "stdout",
     "output_type": "stream",
     "text": [
      "Epoch = 14. Time index = 1. Threshold MC = 0.6. Threshold MD = 0.6\n",
      "RD = 3823 NZ = 5653 NZA = 10125 pNZ = 0.492% pNZA = 0.881% AD = 67.63% ADA = 37.76% NO = 1470 GSP = 61.56% NSP = 43.40%\n",
      "SI2 = -57.50 SI = -170.50 eGROI = 21.74% eROI = -24.30% eROI2 = -7.66% eROI3 = -22.36% mSpread = 0.0313%\n"
     ]
    },
    {
     "name": "stderr",
     "output_type": "stream",
     "text": [
      "100%|████████████████████████████████████████████████████████████████████████████████████████████████████████████████████████████████████| 275/275 [00:00<00:00, 3574.64it/s]\n"
     ]
    },
    {
     "name": "stdout",
     "output_type": "stream",
     "text": [
      "Epoch = 14. Time index = 1. Threshold MC = 0.6. Threshold MD = 0.7\n",
      "RD = 654 NZ = 810 NZA = 1411 pNZ = 0.071% pNZA = 0.123% AD = 80.74% ADA = 46.35% NO = 139 GSP = 63.31% NSP = 33.81%\n",
      "SI2 = -10.45 SI = -29.45 eGROI = 1.91% eROI = -3.24% eROI2 = -0.87% eROI3 = -2.26% mSpread = 0.0370%\n"
     ]
    },
    {
     "name": "stderr",
     "output_type": "stream",
     "text": [
      "0it [00:00, ?it/s]\n"
     ]
    },
    {
     "name": "stdout",
     "output_type": "stream",
     "text": [
      "Epoch = 14. Time index = 1. Threshold MC = 0.6. Threshold MD = 0.8\n",
      "RD = 184 NZ = 198 NZA = 297 pNZ = 0.017% pNZA = 0.026% AD = 92.93% ADA = 61.95% NO = 1 GSP = 0.00% NSP = 0.00%\n",
      "SI2 = -0.55 SI = -0.55 eGROI = 0.00% eROI = 0.00% eROI2 = 0.00% eROI3 = 0.00% mSpread = 0.0000%\n"
     ]
    },
    {
     "name": "stderr",
     "output_type": "stream",
     "text": [
      "0it [00:00, ?it/s]\n"
     ]
    },
    {
     "name": "stdout",
     "output_type": "stream",
     "text": [
      "Epoch = 14. Time index = 1. Threshold MC = 0.6. Threshold MD = 0.9\n",
      "RD = 1 NZ = 1 NZA = 1 pNZ = 0.000% pNZA = 0.000% AD = 100.00% ADA = 100.00% NO = 1 GSP = 0.00% NSP = 0.00%\n",
      "SI2 = -0.55 SI = -0.55 eGROI = 0.00% eROI = 0.00% eROI2 = 0.00% eROI3 = 0.00% mSpread = 0.0000%\n",
      "\n"
     ]
    },
    {
     "name": "stderr",
     "output_type": "stream",
     "text": [
      "100%|██████████████████████████████████████████████████████████████████████████████████████████████████████████████████████████████████| 9098/9098 [00:01<00:00, 5599.86it/s]\n"
     ]
    },
    {
     "name": "stdout",
     "output_type": "stream",
     "text": [
      "Epoch = 14. Time index = 1. Threshold MC = 0.7. Threshold MD = 0.5\n",
      "RD = 5943 NZ = 10722 NZA = 14749 pNZ = 0.933% pNZA = 1.284% AD = 55.43% ADA = 40.29% NO = 1793 GSP = 53.99% NSP = 46.96%\n",
      "SI2 = -125.15 SI = -144.15 eGROI = 4.96% eROI = -30.93% eROI2 = -30.90% eROI3 = -48.83% mSpread = 0.0200%\n"
     ]
    },
    {
     "name": "stderr",
     "output_type": "stream",
     "text": [
      "100%|████████████████████████████████████████████████████████████████████████████████████████████████████████████████████████████████████| 991/991 [00:00<00:00, 3114.86it/s]\n"
     ]
    },
    {
     "name": "stdout",
     "output_type": "stream",
     "text": [
      "Epoch = 14. Time index = 1. Threshold MC = 0.7. Threshold MD = 0.6\n",
      "RD = 874 NZ = 1300 NZA = 1800 pNZ = 0.113% pNZA = 0.157% AD = 67.23% ADA = 48.56% NO = 389 GSP = 64.01% NSP = 52.96%\n",
      "SI2 = -0.95 SI = -7.95 eGROI = 7.59% eROI = -1.70% eROI2 = -0.19% eROI3 = -4.08% mSpread = 0.0239%\n"
     ]
    },
    {
     "name": "stderr",
     "output_type": "stream",
     "text": [
      "100%|████████████████████████████████████████████████████████████████████████████████████████████████████████████████████████████████████████| 5/5 [00:00<00:00, 1256.61it/s]\n"
     ]
    },
    {
     "name": "stdout",
     "output_type": "stream",
     "text": [
      "Epoch = 14. Time index = 1. Threshold MC = 0.7. Threshold MD = 0.7\n",
      "RD = 204 NZ = 246 NZA = 321 pNZ = 0.021% pNZA = 0.028% AD = 82.93% ADA = 63.55% NO = 4 GSP = 25.00% NSP = 25.00%\n",
      "SI2 = -1.20 SI = -1.20 eGROI = -0.05% eROI = -0.21% eROI2 = -0.13% eROI3 = -0.17% mSpread = 0.0406%\n"
     ]
    },
    {
     "name": "stderr",
     "output_type": "stream",
     "text": [
      "0it [00:00, ?it/s]\n"
     ]
    },
    {
     "name": "stdout",
     "output_type": "stream",
     "text": [
      "Epoch = 14. Time index = 1. Threshold MC = 0.7. Threshold MD = 0.8\n",
      "RD = 99 NZ = 105 NZA = 131 pNZ = 0.009% pNZA = 0.011% AD = 94.29% ADA = 75.57% NO = 1 GSP = 0.00% NSP = 0.00%\n",
      "SI2 = -0.55 SI = -0.55 eGROI = 0.00% eROI = 0.00% eROI2 = 0.00% eROI3 = 0.00% mSpread = 0.0000%\n"
     ]
    },
    {
     "name": "stderr",
     "output_type": "stream",
     "text": [
      "0it [00:00, ?it/s]\n"
     ]
    },
    {
     "name": "stdout",
     "output_type": "stream",
     "text": [
      "Epoch = 14. Time index = 1. Threshold MC = 0.7. Threshold MD = 0.9\n",
      "RD = 1 NZ = 1 NZA = 1 pNZ = 0.000% pNZA = 0.000% AD = 100.00% ADA = 100.00% NO = 1 GSP = 0.00% NSP = 0.00%\n",
      "SI2 = -0.55 SI = -0.55 eGROI = 0.00% eROI = 0.00% eROI2 = 0.00% eROI3 = 0.00% mSpread = 0.0000%\n",
      "\n"
     ]
    },
    {
     "name": "stderr",
     "output_type": "stream",
     "text": [
      "100%|████████████████████████████████████████████████████████████████████████████████████████████████████████████████████████████████████| 424/424 [00:00<00:00, 2796.92it/s]\n"
     ]
    },
    {
     "name": "stdout",
     "output_type": "stream",
     "text": [
      "Epoch = 14. Time index = 1. Threshold MC = 0.8. Threshold MD = 0.5\n",
      "RD = 296 NZ = 498 NZA = 624 pNZ = 0.043% pNZA = 0.054% AD = 59.44% ADA = 47.44% NO = 250 GSP = 60.40% NSP = 54.40%\n",
      "SI2 = -2.50 SI = -1.50 eGROI = 7.41% eROI = 2.65% eROI2 = 2.41% eROI3 = -0.09% mSpread = 0.0190%\n"
     ]
    },
    {
     "name": "stderr",
     "output_type": "stream",
     "text": [
      "100%|██████████████████████████████████████████████████████████████████████████████████████████████████████████████████████████████████████| 33/33 [00:00<00:00, 1838.63it/s]\n"
     ]
    },
    {
     "name": "stdout",
     "output_type": "stream",
     "text": [
      "Epoch = 14. Time index = 1. Threshold MC = 0.8. Threshold MD = 0.6\n",
      "RD = 76 NZ = 104 NZA = 131 pNZ = 0.009% pNZA = 0.011% AD = 73.08% ADA = 58.02% NO = 27 GSP = 70.37% NSP = 62.96%\n",
      "SI2 = 3.15 SI = 2.15 eGROI = 1.22% eROI = 0.64% eROI2 = 0.68% eROI3 = 0.41% mSpread = 0.0213%\n"
     ]
    },
    {
     "name": "stderr",
     "output_type": "stream",
     "text": [
      "0it [00:00, ?it/s]\n"
     ]
    },
    {
     "name": "stdout",
     "output_type": "stream",
     "text": [
      "Epoch = 14. Time index = 1. Threshold MC = 0.8. Threshold MD = 0.7\n",
      "RD = 29 NZ = 37 NZA = 48 pNZ = 0.003% pNZA = 0.004% AD = 78.38% ADA = 60.42% NO = 1 GSP = 0.00% NSP = 0.00%\n",
      "SI2 = -0.55 SI = -0.55 eGROI = 0.00% eROI = 0.00% eROI2 = 0.00% eROI3 = 0.00% mSpread = 0.0000%\n"
     ]
    },
    {
     "name": "stderr",
     "output_type": "stream",
     "text": [
      "0it [00:00, ?it/s]\n"
     ]
    },
    {
     "name": "stdout",
     "output_type": "stream",
     "text": [
      "Epoch = 14. Time index = 1. Threshold MC = 0.8. Threshold MD = 0.8\n",
      "RD = 13 NZ = 15 NZA = 17 pNZ = 0.001% pNZA = 0.001% AD = 86.67% ADA = 76.47% NO = 1 GSP = 0.00% NSP = 0.00%\n",
      "SI2 = -0.55 SI = -0.55 eGROI = 0.00% eROI = 0.00% eROI2 = 0.00% eROI3 = 0.00% mSpread = 0.0000%\n"
     ]
    },
    {
     "name": "stderr",
     "output_type": "stream",
     "text": [
      "0it [00:00, ?it/s]\n"
     ]
    },
    {
     "name": "stdout",
     "output_type": "stream",
     "text": [
      "Epoch = 14. Time index = 1. Threshold MC = 0.8. Threshold MD = 0.9\n",
      "RD = 0 NZ = 0 NZA = 0 pNZ = 0.000% pNZA = 0.000% AD = 0.00% ADA = 0.00% NO = 1 GSP = 0.00% NSP = 0.00%\n",
      "SI2 = -0.55 SI = -0.55 eGROI = 0.00% eROI = 0.00% eROI2 = 0.00% eROI3 = 0.00% mSpread = 0.0000%\n",
      "\n"
     ]
    },
    {
     "name": "stderr",
     "output_type": "stream",
     "text": [
      "0it [00:00, ?it/s]\n"
     ]
    },
    {
     "name": "stdout",
     "output_type": "stream",
     "text": [
      "Epoch = 14. Time index = 1. Threshold MC = 0.9. Threshold MD = 0.5\n",
      "RD = 0 NZ = 0 NZA = 0 pNZ = 0.000% pNZA = 0.000% AD = 0.00% ADA = 0.00% NO = 1 GSP = 0.00% NSP = 0.00%\n",
      "SI2 = -0.55 SI = -0.55 eGROI = 0.00% eROI = 0.00% eROI2 = 0.00% eROI3 = 0.00% mSpread = 0.0000%\n"
     ]
    },
    {
     "name": "stderr",
     "output_type": "stream",
     "text": [
      "0it [00:00, ?it/s]\n"
     ]
    },
    {
     "name": "stdout",
     "output_type": "stream",
     "text": [
      "Epoch = 14. Time index = 1. Threshold MC = 0.9. Threshold MD = 0.6\n",
      "RD = 0 NZ = 0 NZA = 0 pNZ = 0.000% pNZA = 0.000% AD = 0.00% ADA = 0.00% NO = 1 GSP = 0.00% NSP = 0.00%\n",
      "SI2 = -0.55 SI = -0.55 eGROI = 0.00% eROI = 0.00% eROI2 = 0.00% eROI3 = 0.00% mSpread = 0.0000%\n"
     ]
    },
    {
     "name": "stderr",
     "output_type": "stream",
     "text": [
      "0it [00:00, ?it/s]\n"
     ]
    },
    {
     "name": "stdout",
     "output_type": "stream",
     "text": [
      "Epoch = 14. Time index = 1. Threshold MC = 0.9. Threshold MD = 0.7\n",
      "RD = 0 NZ = 0 NZA = 0 pNZ = 0.000% pNZA = 0.000% AD = 0.00% ADA = 0.00% NO = 1 GSP = 0.00% NSP = 0.00%\n",
      "SI2 = -0.55 SI = -0.55 eGROI = 0.00% eROI = 0.00% eROI2 = 0.00% eROI3 = 0.00% mSpread = 0.0000%\n"
     ]
    },
    {
     "name": "stderr",
     "output_type": "stream",
     "text": [
      "0it [00:00, ?it/s]\n"
     ]
    },
    {
     "name": "stdout",
     "output_type": "stream",
     "text": [
      "Epoch = 14. Time index = 1. Threshold MC = 0.9. Threshold MD = 0.8\n",
      "RD = 0 NZ = 0 NZA = 0 pNZ = 0.000% pNZA = 0.000% AD = 0.00% ADA = 0.00% NO = 1 GSP = 0.00% NSP = 0.00%\n",
      "SI2 = -0.55 SI = -0.55 eGROI = 0.00% eROI = 0.00% eROI2 = 0.00% eROI3 = 0.00% mSpread = 0.0000%\n"
     ]
    },
    {
     "name": "stderr",
     "output_type": "stream",
     "text": [
      "0it [00:00, ?it/s]\n"
     ]
    },
    {
     "name": "stdout",
     "output_type": "stream",
     "text": [
      "Epoch = 14. Time index = 1. Threshold MC = 0.9. Threshold MD = 0.9\n",
      "RD = 0 NZ = 0 NZA = 0 pNZ = 0.000% pNZA = 0.000% AD = 0.00% ADA = 0.00% NO = 1 GSP = 0.00% NSP = 0.00%\n",
      "SI2 = -0.55 SI = -0.55 eGROI = 0.00% eROI = 0.00% eROI2 = 0.00% eROI3 = 0.00% mSpread = 0.0000%\n",
      "\n"
     ]
    },
    {
     "name": "stderr",
     "output_type": "stream",
     "text": [
      "0it [00:00, ?it/s]\n"
     ]
    },
    {
     "name": "stdout",
     "output_type": "stream",
     "text": [
      "Epoch = 14. Time index = 2. Threshold MC = 0.5. Threshold MD = 0.5\n",
      "J_test = 6.3351023508154825, J_train = 6.507438530756279, Accuracy=0.5411065930899521\n",
      "RD = 268954 NZ = 516674 NZA = 992059 pNZ = 44.978% pNZA = 86.361% AD = 52.05% ADA = 27.11% NO = 1 GSP = 0.00% NSP = 0.00%\n",
      "SI2 = -0.55 SI = -0.55 eGROI = 0.00% eROI = 0.00% eROI2 = 0.00% eROI3 = 0.00% mSpread = 0.0000%\n"
     ]
    },
    {
     "name": "stderr",
     "output_type": "stream",
     "text": [
      "100%|████████████████████████████████████████████████████████████████████████████████████████████████████████████████████████████████| 12398/12398 [00:02<00:00, 4320.80it/s]\n"
     ]
    },
    {
     "name": "stdout",
     "output_type": "stream",
     "text": [
      "Epoch = 14. Time index = 2. Threshold MC = 0.5. Threshold MD = 0.6\n",
      "RD = 8693 NZ = 12889 NZA = 27233 pNZ = 1.122% pNZA = 2.371% AD = 67.45% ADA = 31.92% NO = 2428 GSP = 61.04% NSP = 41.93%\n",
      "SI2 = -114.40 SI = -317.40 eGROI = 36.44% eROI = -41.51% eROI2 = -12.12% eROI3 = -36.40% mSpread = 0.0321%\n"
     ]
    },
    {
     "name": "stderr",
     "output_type": "stream",
     "text": [
      "100%|████████████████████████████████████████████████████████████████████████████████████████████████████████████████████████████████████| 554/554 [00:00<00:00, 3068.89it/s]\n"
     ]
    },
    {
     "name": "stdout",
     "output_type": "stream",
     "text": [
      "Epoch = 14. Time index = 2. Threshold MC = 0.5. Threshold MD = 0.7\n",
      "RD = 1507 NZ = 1941 NZA = 4288 pNZ = 0.169% pNZA = 0.373% AD = 77.64% ADA = 35.14% NO = 251 GSP = 63.35% NSP = 35.06%\n",
      "SI2 = -17.05 SI = -50.05 eGROI = 2.86% eROI = -6.92% eROI2 = -2.16% eROI3 = -4.67% mSpread = 0.0390%\n"
     ]
    },
    {
     "name": "stderr",
     "output_type": "stream",
     "text": [
      "0it [00:00, ?it/s]\n"
     ]
    },
    {
     "name": "stdout",
     "output_type": "stream",
     "text": [
      "Epoch = 14. Time index = 2. Threshold MC = 0.5. Threshold MD = 0.8\n",
      "RD = 251 NZ = 279 NZA = 535 pNZ = 0.024% pNZA = 0.047% AD = 89.96% ADA = 46.92% NO = 1 GSP = 0.00% NSP = 0.00%\n",
      "SI2 = -0.55 SI = -0.55 eGROI = 0.00% eROI = 0.00% eROI2 = 0.00% eROI3 = 0.00% mSpread = 0.0000%\n"
     ]
    },
    {
     "name": "stderr",
     "output_type": "stream",
     "text": [
      "0it [00:00, ?it/s]\n"
     ]
    },
    {
     "name": "stdout",
     "output_type": "stream",
     "text": [
      "Epoch = 14. Time index = 2. Threshold MC = 0.5. Threshold MD = 0.9\n",
      "RD = 0 NZ = 0 NZA = 0 pNZ = 0.000% pNZA = 0.000% AD = 0.00% ADA = 0.00% NO = 1 GSP = 0.00% NSP = 0.00%\n",
      "SI2 = -0.55 SI = -0.55 eGROI = 0.00% eROI = 0.00% eROI2 = 0.00% eROI3 = 0.00% mSpread = 0.0000%\n",
      "\n"
     ]
    },
    {
     "name": "stderr",
     "output_type": "stream",
     "text": [
      "0it [00:00, ?it/s]\n"
     ]
    },
    {
     "name": "stdout",
     "output_type": "stream",
     "text": [
      "Epoch = 14. Time index = 2. Threshold MC = 0.6. Threshold MD = 0.5\n",
      "RD = 86072 NZ = 162187 NZA = 268608 pNZ = 14.119% pNZA = 23.383% AD = 53.07% ADA = 32.04% NO = 1 GSP = 0.00% NSP = 0.00%\n",
      "SI2 = -0.55 SI = -0.55 eGROI = 0.00% eROI = 0.00% eROI2 = 0.00% eROI3 = 0.00% mSpread = 0.0000%\n"
     ]
    },
    {
     "name": "stderr",
     "output_type": "stream",
     "text": [
      "100%|██████████████████████████████████████████████████████████████████████████████████████████████████████████████████████████████████| 8110/8110 [00:01<00:00, 5328.78it/s]\n"
     ]
    },
    {
     "name": "stdout",
     "output_type": "stream",
     "text": [
      "Epoch = 14. Time index = 2. Threshold MC = 0.6. Threshold MD = 0.6\n",
      "RD = 4664 NZ = 6912 NZA = 12498 pNZ = 0.602% pNZA = 1.088% AD = 67.48% ADA = 37.32% NO = 1848 GSP = 61.58% NSP = 42.91%\n",
      "SI2 = -74.40 SI = -223.40 eGROI = 27.76% eROI = -31.21% eROI2 = -9.20% eROI3 = -27.68% mSpread = 0.0319%\n"
     ]
    },
    {
     "name": "stderr",
     "output_type": "stream",
     "text": [
      "100%|████████████████████████████████████████████████████████████████████████████████████████████████████████████████████████████████████| 494/494 [00:00<00:00, 3926.08it/s]\n"
     ]
    },
    {
     "name": "stdout",
     "output_type": "stream",
     "text": [
      "Epoch = 14. Time index = 2. Threshold MC = 0.6. Threshold MD = 0.7\n",
      "RD = 751 NZ = 964 NZA = 1783 pNZ = 0.084% pNZA = 0.155% AD = 77.90% ADA = 42.12% NO = 223 GSP = 60.99% NSP = 35.87%\n",
      "SI2 = -16.65 SI = -42.65 eGROI = 2.70% eROI = -5.98% eROI2 = -1.76% eROI3 = -3.99% mSpread = 0.0390%\n"
     ]
    },
    {
     "name": "stderr",
     "output_type": "stream",
     "text": [
      "0it [00:00, ?it/s]\n"
     ]
    },
    {
     "name": "stdout",
     "output_type": "stream",
     "text": [
      "Epoch = 14. Time index = 2. Threshold MC = 0.6. Threshold MD = 0.8\n",
      "RD = 181 NZ = 195 NZA = 293 pNZ = 0.017% pNZA = 0.026% AD = 92.82% ADA = 61.77% NO = 1 GSP = 0.00% NSP = 0.00%\n",
      "SI2 = -0.55 SI = -0.55 eGROI = 0.00% eROI = 0.00% eROI2 = 0.00% eROI3 = 0.00% mSpread = 0.0000%\n"
     ]
    },
    {
     "name": "stderr",
     "output_type": "stream",
     "text": [
      "0it [00:00, ?it/s]\n"
     ]
    },
    {
     "name": "stdout",
     "output_type": "stream",
     "text": [
      "Epoch = 14. Time index = 2. Threshold MC = 0.6. Threshold MD = 0.9\n",
      "RD = 0 NZ = 0 NZA = 0 pNZ = 0.000% pNZA = 0.000% AD = 0.00% ADA = 0.00% NO = 1 GSP = 0.00% NSP = 0.00%\n",
      "SI2 = -0.55 SI = -0.55 eGROI = 0.00% eROI = 0.00% eROI2 = 0.00% eROI3 = 0.00% mSpread = 0.0000%\n",
      "\n"
     ]
    },
    {
     "name": "stderr",
     "output_type": "stream",
     "text": [
      "100%|██████████████████████████████████████████████████████████████████████████████████████████████████████████████████████████████████| 8764/8764 [00:01<00:00, 5193.30it/s]\n"
     ]
    },
    {
     "name": "stdout",
     "output_type": "stream",
     "text": [
      "Epoch = 14. Time index = 2. Threshold MC = 0.7. Threshold MD = 0.5\n",
      "RD = 5530 NZ = 9854 NZA = 13593 pNZ = 0.858% pNZA = 1.183% AD = 56.12% ADA = 40.68% NO = 1796 GSP = 54.68% NSP = 46.44%\n",
      "SI2 = -130.80 SI = -153.80 eGROI = 10.10% eROI = -27.52% eROI2 = -25.82% eROI3 = -43.78% mSpread = 0.0209%\n"
     ]
    },
    {
     "name": "stderr",
     "output_type": "stream",
     "text": [
      "100%|██████████████████████████████████████████████████████████████████████████████████████████████████████████████████████████████████| 1566/1566 [00:00<00:00, 2979.44it/s]\n"
     ]
    },
    {
     "name": "stdout",
     "output_type": "stream",
     "text": [
      "Epoch = 14. Time index = 2. Threshold MC = 0.7. Threshold MD = 0.6\n",
      "RD = 1131 NZ = 1700 NZA = 2402 pNZ = 0.148% pNZA = 0.209% AD = 66.53% ADA = 47.09% NO = 547 GSP = 62.34% NSP = 51.01%\n",
      "SI2 = -3.85 SI = -21.85 eGROI = 9.78% eROI = -4.04% eROI2 = -1.16% eROI3 = -6.63% mSpread = 0.0253%\n"
     ]
    },
    {
     "name": "stderr",
     "output_type": "stream",
     "text": [
      "100%|██████████████████████████████████████████████████████████████████████████████████████████████████████████████████████████████████████| 55/55 [00:00<00:00, 2625.74it/s]\n"
     ]
    },
    {
     "name": "stdout",
     "output_type": "stream",
     "text": [
      "Epoch = 14. Time index = 2. Threshold MC = 0.7. Threshold MD = 0.7\n",
      "RD = 243 NZ = 304 NZA = 421 pNZ = 0.026% pNZA = 0.037% AD = 79.93% ADA = 57.72% NO = 40 GSP = 45.00% NSP = 30.00%\n",
      "SI2 = -7.00 SI = -10.00 eGROI = 0.21% eROI = -1.28% eROI2 = -0.59% eROI3 = -0.99% mSpread = 0.0371%\n"
     ]
    },
    {
     "name": "stderr",
     "output_type": "stream",
     "text": [
      "0it [00:00, ?it/s]\n"
     ]
    },
    {
     "name": "stdout",
     "output_type": "stream",
     "text": [
      "Epoch = 14. Time index = 2. Threshold MC = 0.7. Threshold MD = 0.8\n",
      "RD = 110 NZ = 118 NZA = 143 pNZ = 0.010% pNZA = 0.012% AD = 93.22% ADA = 76.92% NO = 1 GSP = 0.00% NSP = 0.00%\n",
      "SI2 = -0.55 SI = -0.55 eGROI = 0.00% eROI = 0.00% eROI2 = 0.00% eROI3 = 0.00% mSpread = 0.0000%\n"
     ]
    },
    {
     "name": "stderr",
     "output_type": "stream",
     "text": [
      "0it [00:00, ?it/s]\n"
     ]
    },
    {
     "name": "stdout",
     "output_type": "stream",
     "text": [
      "Epoch = 14. Time index = 2. Threshold MC = 0.7. Threshold MD = 0.9\n",
      "RD = 0 NZ = 0 NZA = 0 pNZ = 0.000% pNZA = 0.000% AD = 0.00% ADA = 0.00% NO = 1 GSP = 0.00% NSP = 0.00%\n",
      "SI2 = -0.55 SI = -0.55 eGROI = 0.00% eROI = 0.00% eROI2 = 0.00% eROI3 = 0.00% mSpread = 0.0000%\n",
      "\n"
     ]
    },
    {
     "name": "stderr",
     "output_type": "stream",
     "text": [
      "100%|████████████████████████████████████████████████████████████████████████████████████████████████████████████████████████████████████| 486/486 [00:00<00:00, 3026.67it/s]\n"
     ]
    },
    {
     "name": "stdout",
     "output_type": "stream",
     "text": [
      "Epoch = 14. Time index = 2. Threshold MC = 0.8. Threshold MD = 0.5\n",
      "RD = 331 NZ = 549 NZA = 687 pNZ = 0.048% pNZA = 0.060% AD = 60.29% ADA = 48.18% NO = 288 GSP = 56.25% NSP = 50.69%\n",
      "SI2 = -11.40 SI = -12.40 eGROI = 6.87% eROI = 1.06% eROI2 = 1.11% eROI3 = -1.77% mSpread = 0.0202%\n"
     ]
    },
    {
     "name": "stderr",
     "output_type": "stream",
     "text": [
      "100%|██████████████████████████████████████████████████████████████████████████████████████████████████████████████████████████████████████| 73/73 [00:00<00:00, 2443.08it/s]\n"
     ]
    },
    {
     "name": "stdout",
     "output_type": "stream",
     "text": [
      "Epoch = 14. Time index = 2. Threshold MC = 0.8. Threshold MD = 0.6\n",
      "RD = 109 NZ = 141 NZA = 179 pNZ = 0.012% pNZA = 0.016% AD = 77.30% ADA = 60.89% NO = 57 GSP = 66.67% NSP = 61.40%\n",
      "SI2 = 5.65 SI = 3.65 eGROI = 2.04% eROI = 0.80% eROI2 = 0.90% eROI3 = 0.33% mSpread = 0.0218%\n"
     ]
    },
    {
     "name": "stderr",
     "output_type": "stream",
     "text": [
      "0it [00:00, ?it/s]\n"
     ]
    },
    {
     "name": "stdout",
     "output_type": "stream",
     "text": [
      "Epoch = 14. Time index = 2. Threshold MC = 0.8. Threshold MD = 0.7\n",
      "RD = 38 NZ = 44 NZA = 58 pNZ = 0.004% pNZA = 0.005% AD = 86.36% ADA = 65.52% NO = 1 GSP = 0.00% NSP = 0.00%\n",
      "SI2 = -0.55 SI = -0.55 eGROI = 0.00% eROI = 0.00% eROI2 = 0.00% eROI3 = 0.00% mSpread = 0.0000%\n"
     ]
    },
    {
     "name": "stderr",
     "output_type": "stream",
     "text": [
      "0it [00:00, ?it/s]\n"
     ]
    },
    {
     "name": "stdout",
     "output_type": "stream",
     "text": [
      "Epoch = 14. Time index = 2. Threshold MC = 0.8. Threshold MD = 0.8\n",
      "RD = 17 NZ = 21 NZA = 23 pNZ = 0.002% pNZA = 0.002% AD = 80.95% ADA = 73.91% NO = 1 GSP = 0.00% NSP = 0.00%\n",
      "SI2 = -0.55 SI = -0.55 eGROI = 0.00% eROI = 0.00% eROI2 = 0.00% eROI3 = 0.00% mSpread = 0.0000%\n"
     ]
    },
    {
     "name": "stderr",
     "output_type": "stream",
     "text": [
      "0it [00:00, ?it/s]\n"
     ]
    },
    {
     "name": "stdout",
     "output_type": "stream",
     "text": [
      "Epoch = 14. Time index = 2. Threshold MC = 0.8. Threshold MD = 0.9\n",
      "RD = 0 NZ = 0 NZA = 0 pNZ = 0.000% pNZA = 0.000% AD = 0.00% ADA = 0.00% NO = 1 GSP = 0.00% NSP = 0.00%\n",
      "SI2 = -0.55 SI = -0.55 eGROI = 0.00% eROI = 0.00% eROI2 = 0.00% eROI3 = 0.00% mSpread = 0.0000%\n",
      "\n"
     ]
    },
    {
     "name": "stderr",
     "output_type": "stream",
     "text": [
      "0it [00:00, ?it/s]\n"
     ]
    },
    {
     "name": "stdout",
     "output_type": "stream",
     "text": [
      "Epoch = 14. Time index = 2. Threshold MC = 0.9. Threshold MD = 0.5\n",
      "RD = 0 NZ = 0 NZA = 0 pNZ = 0.000% pNZA = 0.000% AD = 0.00% ADA = 0.00% NO = 1 GSP = 0.00% NSP = 0.00%\n",
      "SI2 = -0.55 SI = -0.55 eGROI = 0.00% eROI = 0.00% eROI2 = 0.00% eROI3 = 0.00% mSpread = 0.0000%\n"
     ]
    },
    {
     "name": "stderr",
     "output_type": "stream",
     "text": [
      "0it [00:00, ?it/s]\n"
     ]
    },
    {
     "name": "stdout",
     "output_type": "stream",
     "text": [
      "Epoch = 14. Time index = 2. Threshold MC = 0.9. Threshold MD = 0.6\n",
      "RD = 0 NZ = 0 NZA = 0 pNZ = 0.000% pNZA = 0.000% AD = 0.00% ADA = 0.00% NO = 1 GSP = 0.00% NSP = 0.00%\n",
      "SI2 = -0.55 SI = -0.55 eGROI = 0.00% eROI = 0.00% eROI2 = 0.00% eROI3 = 0.00% mSpread = 0.0000%\n"
     ]
    },
    {
     "name": "stderr",
     "output_type": "stream",
     "text": [
      "0it [00:00, ?it/s]\n"
     ]
    },
    {
     "name": "stdout",
     "output_type": "stream",
     "text": [
      "Epoch = 14. Time index = 2. Threshold MC = 0.9. Threshold MD = 0.7\n",
      "RD = 0 NZ = 0 NZA = 0 pNZ = 0.000% pNZA = 0.000% AD = 0.00% ADA = 0.00% NO = 1 GSP = 0.00% NSP = 0.00%\n",
      "SI2 = -0.55 SI = -0.55 eGROI = 0.00% eROI = 0.00% eROI2 = 0.00% eROI3 = 0.00% mSpread = 0.0000%\n"
     ]
    },
    {
     "name": "stderr",
     "output_type": "stream",
     "text": [
      "0it [00:00, ?it/s]\n"
     ]
    },
    {
     "name": "stdout",
     "output_type": "stream",
     "text": [
      "Epoch = 14. Time index = 2. Threshold MC = 0.9. Threshold MD = 0.8\n",
      "RD = 0 NZ = 0 NZA = 0 pNZ = 0.000% pNZA = 0.000% AD = 0.00% ADA = 0.00% NO = 1 GSP = 0.00% NSP = 0.00%\n",
      "SI2 = -0.55 SI = -0.55 eGROI = 0.00% eROI = 0.00% eROI2 = 0.00% eROI3 = 0.00% mSpread = 0.0000%\n"
     ]
    },
    {
     "name": "stderr",
     "output_type": "stream",
     "text": [
      "0it [00:00, ?it/s]\n"
     ]
    },
    {
     "name": "stdout",
     "output_type": "stream",
     "text": [
      "Epoch = 14. Time index = 2. Threshold MC = 0.9. Threshold MD = 0.9\n",
      "RD = 0 NZ = 0 NZA = 0 pNZ = 0.000% pNZA = 0.000% AD = 0.00% ADA = 0.00% NO = 1 GSP = 0.00% NSP = 0.00%\n",
      "SI2 = -0.55 SI = -0.55 eGROI = 0.00% eROI = 0.00% eROI2 = 0.00% eROI3 = 0.00% mSpread = 0.0000%\n",
      "\n"
     ]
    },
    {
     "name": "stderr",
     "output_type": "stream",
     "text": [
      "0it [00:00, ?it/s]\n"
     ]
    },
    {
     "name": "stdout",
     "output_type": "stream",
     "text": [
      "Epoch = 14. Time index = 3. Threshold MC = 0.5. Threshold MD = 0.5\n",
      "J_test = 6.3351023508154825, J_train = 6.507438530756279, Accuracy=0.5405912426995656\n",
      "RD = 268410 NZ = 515281 NZA = 989865 pNZ = 44.856% pNZA = 86.170% AD = 52.09% ADA = 27.12% NO = 1 GSP = 0.00% NSP = 0.00%\n",
      "SI2 = -0.55 SI = -0.55 eGROI = 0.00% eROI = 0.00% eROI2 = 0.00% eROI3 = 0.00% mSpread = 0.0000%\n"
     ]
    },
    {
     "name": "stderr",
     "output_type": "stream",
     "text": [
      "100%|████████████████████████████████████████████████████████████████████████████████████████████████████████████████████████████████| 12457/12457 [00:03<00:00, 4107.18it/s]\n"
     ]
    },
    {
     "name": "stdout",
     "output_type": "stream",
     "text": [
      "Epoch = 14. Time index = 3. Threshold MC = 0.5. Threshold MD = 0.6\n",
      "RD = 8830 NZ = 13192 NZA = 27774 pNZ = 1.148% pNZA = 2.418% AD = 66.93% ADA = 31.79% NO = 2466 GSP = 61.03% NSP = 41.48%\n",
      "SI2 = -116.30 SI = -333.30 eGROI = 36.03% eROI = -42.31% eROI2 = -13.29% eROI3 = -37.95% mSpread = 0.0318%\n"
     ]
    },
    {
     "name": "stderr",
     "output_type": "stream",
     "text": [
      "100%|████████████████████████████████████████████████████████████████████████████████████████████████████████████████████████████████████| 693/693 [00:00<00:00, 3231.81it/s]\n"
     ]
    },
    {
     "name": "stdout",
     "output_type": "stream",
     "text": [
      "Epoch = 14. Time index = 3. Threshold MC = 0.5. Threshold MD = 0.7\n",
      "RD = 1680 NZ = 2155 NZA = 4881 pNZ = 0.188% pNZA = 0.425% AD = 77.96% ADA = 34.42% NO = 295 GSP = 65.08% NSP = 39.32%\n",
      "SI2 = -12.25 SI = -46.25 eGROI = 4.34% eROI = -7.26% eROI2 = -1.56% eROI3 = -4.51% mSpread = 0.0393%\n"
     ]
    },
    {
     "name": "stderr",
     "output_type": "stream",
     "text": [
      "0it [00:00, ?it/s]\n"
     ]
    },
    {
     "name": "stdout",
     "output_type": "stream",
     "text": [
      "Epoch = 14. Time index = 3. Threshold MC = 0.5. Threshold MD = 0.8\n",
      "RD = 210 NZ = 238 NZA = 541 pNZ = 0.021% pNZA = 0.047% AD = 88.24% ADA = 38.82% NO = 1 GSP = 0.00% NSP = 0.00%\n",
      "SI2 = -0.55 SI = -0.55 eGROI = 0.00% eROI = 0.00% eROI2 = 0.00% eROI3 = 0.00% mSpread = 0.0000%\n"
     ]
    },
    {
     "name": "stderr",
     "output_type": "stream",
     "text": [
      "0it [00:00, ?it/s]\n"
     ]
    },
    {
     "name": "stdout",
     "output_type": "stream",
     "text": [
      "Epoch = 14. Time index = 3. Threshold MC = 0.5. Threshold MD = 0.9\n",
      "RD = 0 NZ = 0 NZA = 0 pNZ = 0.000% pNZA = 0.000% AD = 0.00% ADA = 0.00% NO = 1 GSP = 0.00% NSP = 0.00%\n",
      "SI2 = -0.55 SI = -0.55 eGROI = 0.00% eROI = 0.00% eROI2 = 0.00% eROI3 = 0.00% mSpread = 0.0000%\n",
      "\n"
     ]
    },
    {
     "name": "stderr",
     "output_type": "stream",
     "text": [
      "0it [00:00, ?it/s]\n"
     ]
    },
    {
     "name": "stdout",
     "output_type": "stream",
     "text": [
      "Epoch = 14. Time index = 3. Threshold MC = 0.6. Threshold MD = 0.5\n",
      "RD = 86947 NZ = 164040 NZA = 273033 pNZ = 14.280% pNZA = 23.768% AD = 53.00% ADA = 31.84% NO = 1 GSP = 0.00% NSP = 0.00%\n",
      "SI2 = -0.55 SI = -0.55 eGROI = 0.00% eROI = 0.00% eROI2 = 0.00% eROI3 = 0.00% mSpread = 0.0000%\n"
     ]
    },
    {
     "name": "stderr",
     "output_type": "stream",
     "text": [
      "100%|██████████████████████████████████████████████████████████████████████████████████████████████████████████████████████████████████| 9003/9003 [00:02<00:00, 4233.63it/s]\n"
     ]
    },
    {
     "name": "stdout",
     "output_type": "stream",
     "text": [
      "Epoch = 14. Time index = 3. Threshold MC = 0.6. Threshold MD = 0.6\n",
      "RD = 4981 NZ = 7414 NZA = 13514 pNZ = 0.645% pNZA = 1.176% AD = 67.18% ADA = 36.86% NO = 2011 GSP = 61.96% NSP = 42.67%\n",
      "SI2 = -73.05 SI = -248.05 eGROI = 31.38% eROI = -32.55% eROI2 = -8.84% eROI3 = -28.95% mSpread = 0.0318%\n"
     ]
    },
    {
     "name": "stderr",
     "output_type": "stream",
     "text": [
      "100%|████████████████████████████████████████████████████████████████████████████████████████████████████████████████████████████████████| 628/628 [00:00<00:00, 3296.71it/s]\n"
     ]
    },
    {
     "name": "stdout",
     "output_type": "stream",
     "text": [
      "Epoch = 14. Time index = 3. Threshold MC = 0.6. Threshold MD = 0.7\n",
      "RD = 792 NZ = 1028 NZA = 1920 pNZ = 0.089% pNZA = 0.167% AD = 77.04% ADA = 41.25% NO = 262 GSP = 63.36% NSP = 39.31%\n",
      "SI2 = -14.10 SI = -41.10 eGROI = 3.63% eROI = -6.55% eROI2 = -1.61% eROI3 = -4.23% mSpread = 0.0389%\n"
     ]
    },
    {
     "name": "stderr",
     "output_type": "stream",
     "text": [
      "0it [00:00, ?it/s]\n"
     ]
    },
    {
     "name": "stdout",
     "output_type": "stream",
     "text": [
      "Epoch = 14. Time index = 3. Threshold MC = 0.6. Threshold MD = 0.8\n",
      "RD = 130 NZ = 141 NZA = 225 pNZ = 0.012% pNZA = 0.020% AD = 92.20% ADA = 57.78% NO = 1 GSP = 0.00% NSP = 0.00%\n",
      "SI2 = -0.55 SI = -0.55 eGROI = 0.00% eROI = 0.00% eROI2 = 0.00% eROI3 = 0.00% mSpread = 0.0000%\n"
     ]
    },
    {
     "name": "stderr",
     "output_type": "stream",
     "text": [
      "0it [00:00, ?it/s]\n"
     ]
    },
    {
     "name": "stdout",
     "output_type": "stream",
     "text": [
      "Epoch = 14. Time index = 3. Threshold MC = 0.6. Threshold MD = 0.9\n",
      "RD = 0 NZ = 0 NZA = 0 pNZ = 0.000% pNZA = 0.000% AD = 0.00% ADA = 0.00% NO = 1 GSP = 0.00% NSP = 0.00%\n",
      "SI2 = -0.55 SI = -0.55 eGROI = 0.00% eROI = 0.00% eROI2 = 0.00% eROI3 = 0.00% mSpread = 0.0000%\n",
      "\n"
     ]
    },
    {
     "name": "stderr",
     "output_type": "stream",
     "text": [
      "100%|██████████████████████████████████████████████████████████████████████████████████████████████████████████████████████████████████| 8763/8763 [00:01<00:00, 5639.46it/s]\n"
     ]
    },
    {
     "name": "stdout",
     "output_type": "stream",
     "text": [
      "Epoch = 14. Time index = 3. Threshold MC = 0.7. Threshold MD = 0.5\n",
      "RD = 5282 NZ = 9430 NZA = 13093 pNZ = 0.821% pNZA = 1.140% AD = 56.01% ADA = 40.34% NO = 1739 GSP = 55.55% NSP = 47.56%\n",
      "SI2 = -108.45 SI = -129.45 eGROI = 10.02% eROI = -27.38% eROI2 = -24.76% eROI3 = -42.15% mSpread = 0.0215%\n"
     ]
    },
    {
     "name": "stderr",
     "output_type": "stream",
     "text": [
      "100%|██████████████████████████████████████████████████████████████████████████████████████████████████████████████████████████████████| 1783/1783 [00:00<00:00, 4525.90it/s]\n"
     ]
    },
    {
     "name": "stdout",
     "output_type": "stream",
     "text": [
      "Epoch = 14. Time index = 3. Threshold MC = 0.7. Threshold MD = 0.6\n",
      "RD = 1164 NZ = 1758 NZA = 2569 pNZ = 0.153% pNZA = 0.224% AD = 66.21% ADA = 45.31% NO = 587 GSP = 63.20% NSP = 50.09%\n",
      "SI2 = -5.85 SI = -28.85 eGROI = 10.15% eROI = -4.78% eROI2 = -1.59% eROI3 = -7.46% mSpread = 0.0254%\n"
     ]
    },
    {
     "name": "stderr",
     "output_type": "stream",
     "text": [
      "100%|████████████████████████████████████████████████████████████████████████████████████████████████████████████████████████████████████| 125/125 [00:00<00:00, 2410.24it/s]\n"
     ]
    },
    {
     "name": "stdout",
     "output_type": "stream",
     "text": [
      "Epoch = 14. Time index = 3. Threshold MC = 0.7. Threshold MD = 0.7\n",
      "RD = 258 NZ = 323 NZA = 480 pNZ = 0.028% pNZA = 0.042% AD = 79.88% ADA = 53.75% NO = 60 GSP = 55.00% NSP = 36.67%\n",
      "SI2 = -6.00 SI = -11.00 eGROI = 0.79% eROI = -1.35% eROI2 = -0.41% eROI3 = -1.01% mSpread = 0.0358%\n"
     ]
    },
    {
     "name": "stderr",
     "output_type": "stream",
     "text": [
      "0it [00:00, ?it/s]\n"
     ]
    },
    {
     "name": "stdout",
     "output_type": "stream",
     "text": [
      "Epoch = 14. Time index = 3. Threshold MC = 0.7. Threshold MD = 0.8\n",
      "RD = 79 NZ = 85 NZA = 103 pNZ = 0.007% pNZA = 0.009% AD = 92.94% ADA = 76.70% NO = 1 GSP = 0.00% NSP = 0.00%\n",
      "SI2 = -0.55 SI = -0.55 eGROI = 0.00% eROI = 0.00% eROI2 = 0.00% eROI3 = 0.00% mSpread = 0.0000%\n"
     ]
    },
    {
     "name": "stderr",
     "output_type": "stream",
     "text": [
      "0it [00:00, ?it/s]\n"
     ]
    },
    {
     "name": "stdout",
     "output_type": "stream",
     "text": [
      "Epoch = 14. Time index = 3. Threshold MC = 0.7. Threshold MD = 0.9\n",
      "RD = 0 NZ = 0 NZA = 0 pNZ = 0.000% pNZA = 0.000% AD = 0.00% ADA = 0.00% NO = 1 GSP = 0.00% NSP = 0.00%\n",
      "SI2 = -0.55 SI = -0.55 eGROI = 0.00% eROI = 0.00% eROI2 = 0.00% eROI3 = 0.00% mSpread = 0.0000%\n",
      "\n"
     ]
    },
    {
     "name": "stderr",
     "output_type": "stream",
     "text": [
      "100%|████████████████████████████████████████████████████████████████████████████████████████████████████████████████████████████████████| 474/474 [00:00<00:00, 3832.22it/s]\n"
     ]
    },
    {
     "name": "stdout",
     "output_type": "stream",
     "text": [
      "Epoch = 14. Time index = 3. Threshold MC = 0.8. Threshold MD = 0.5\n",
      "RD = 295 NZ = 502 NZA = 633 pNZ = 0.044% pNZA = 0.055% AD = 58.76% ADA = 46.60% NO = 297 GSP = 55.56% NSP = 49.16%\n",
      "SI2 = -15.35 SI = -17.35 eGROI = 5.12% eROI = -0.94% eROI2 = -0.82% eROI3 = -3.79% mSpread = 0.0204%\n"
     ]
    },
    {
     "name": "stderr",
     "output_type": "stream",
     "text": [
      "100%|██████████████████████████████████████████████████████████████████████████████████████████████████████████████████████████████████████| 86/86 [00:00<00:00, 2781.65it/s]\n"
     ]
    },
    {
     "name": "stdout",
     "output_type": "stream",
     "text": [
      "Epoch = 14. Time index = 3. Threshold MC = 0.8. Threshold MD = 0.6\n",
      "RD = 99 NZ = 130 NZA = 169 pNZ = 0.011% pNZA = 0.015% AD = 76.15% ADA = 58.58% NO = 65 GSP = 63.08% NSP = 53.85%\n",
      "SI2 = 2.25 SI = -0.75 eGROI = 1.69% eROI = 0.17% eROI2 = 0.39% eROI3 = -0.26% mSpread = 0.0234%\n"
     ]
    },
    {
     "name": "stderr",
     "output_type": "stream",
     "text": [
      "0it [00:00, ?it/s]\n"
     ]
    },
    {
     "name": "stdout",
     "output_type": "stream",
     "text": [
      "Epoch = 14. Time index = 3. Threshold MC = 0.8. Threshold MD = 0.7\n",
      "RD = 29 NZ = 35 NZA = 45 pNZ = 0.003% pNZA = 0.004% AD = 82.86% ADA = 64.44% NO = 1 GSP = 0.00% NSP = 0.00%\n",
      "SI2 = -0.55 SI = -0.55 eGROI = 0.00% eROI = 0.00% eROI2 = 0.00% eROI3 = 0.00% mSpread = 0.0000%\n"
     ]
    },
    {
     "name": "stderr",
     "output_type": "stream",
     "text": [
      "0it [00:00, ?it/s]\n"
     ]
    },
    {
     "name": "stdout",
     "output_type": "stream",
     "text": [
      "Epoch = 14. Time index = 3. Threshold MC = 0.8. Threshold MD = 0.8\n",
      "RD = 11 NZ = 14 NZA = 15 pNZ = 0.001% pNZA = 0.001% AD = 78.57% ADA = 73.33% NO = 1 GSP = 0.00% NSP = 0.00%\n",
      "SI2 = -0.55 SI = -0.55 eGROI = 0.00% eROI = 0.00% eROI2 = 0.00% eROI3 = 0.00% mSpread = 0.0000%\n"
     ]
    },
    {
     "name": "stderr",
     "output_type": "stream",
     "text": [
      "0it [00:00, ?it/s]\n"
     ]
    },
    {
     "name": "stdout",
     "output_type": "stream",
     "text": [
      "Epoch = 14. Time index = 3. Threshold MC = 0.8. Threshold MD = 0.9\n",
      "RD = 0 NZ = 0 NZA = 0 pNZ = 0.000% pNZA = 0.000% AD = 0.00% ADA = 0.00% NO = 1 GSP = 0.00% NSP = 0.00%\n",
      "SI2 = -0.55 SI = -0.55 eGROI = 0.00% eROI = 0.00% eROI2 = 0.00% eROI3 = 0.00% mSpread = 0.0000%\n",
      "\n"
     ]
    },
    {
     "name": "stderr",
     "output_type": "stream",
     "text": [
      "0it [00:00, ?it/s]\n"
     ]
    },
    {
     "name": "stdout",
     "output_type": "stream",
     "text": [
      "Epoch = 14. Time index = 3. Threshold MC = 0.9. Threshold MD = 0.5\n",
      "RD = 0 NZ = 0 NZA = 0 pNZ = 0.000% pNZA = 0.000% AD = 0.00% ADA = 0.00% NO = 1 GSP = 0.00% NSP = 0.00%\n",
      "SI2 = -0.55 SI = -0.55 eGROI = 0.00% eROI = 0.00% eROI2 = 0.00% eROI3 = 0.00% mSpread = 0.0000%\n"
     ]
    },
    {
     "name": "stderr",
     "output_type": "stream",
     "text": [
      "0it [00:00, ?it/s]\n"
     ]
    },
    {
     "name": "stdout",
     "output_type": "stream",
     "text": [
      "Epoch = 14. Time index = 3. Threshold MC = 0.9. Threshold MD = 0.6\n",
      "RD = 0 NZ = 0 NZA = 0 pNZ = 0.000% pNZA = 0.000% AD = 0.00% ADA = 0.00% NO = 1 GSP = 0.00% NSP = 0.00%\n",
      "SI2 = -0.55 SI = -0.55 eGROI = 0.00% eROI = 0.00% eROI2 = 0.00% eROI3 = 0.00% mSpread = 0.0000%\n"
     ]
    },
    {
     "name": "stderr",
     "output_type": "stream",
     "text": [
      "0it [00:00, ?it/s]\n"
     ]
    },
    {
     "name": "stdout",
     "output_type": "stream",
     "text": [
      "Epoch = 14. Time index = 3. Threshold MC = 0.9. Threshold MD = 0.7\n",
      "RD = 0 NZ = 0 NZA = 0 pNZ = 0.000% pNZA = 0.000% AD = 0.00% ADA = 0.00% NO = 1 GSP = 0.00% NSP = 0.00%\n",
      "SI2 = -0.55 SI = -0.55 eGROI = 0.00% eROI = 0.00% eROI2 = 0.00% eROI3 = 0.00% mSpread = 0.0000%\n"
     ]
    },
    {
     "name": "stderr",
     "output_type": "stream",
     "text": [
      "0it [00:00, ?it/s]\n"
     ]
    },
    {
     "name": "stdout",
     "output_type": "stream",
     "text": [
      "Epoch = 14. Time index = 3. Threshold MC = 0.9. Threshold MD = 0.8\n",
      "RD = 0 NZ = 0 NZA = 0 pNZ = 0.000% pNZA = 0.000% AD = 0.00% ADA = 0.00% NO = 1 GSP = 0.00% NSP = 0.00%\n",
      "SI2 = -0.55 SI = -0.55 eGROI = 0.00% eROI = 0.00% eROI2 = 0.00% eROI3 = 0.00% mSpread = 0.0000%\n"
     ]
    },
    {
     "name": "stderr",
     "output_type": "stream",
     "text": [
      "0it [00:00, ?it/s]\n"
     ]
    },
    {
     "name": "stdout",
     "output_type": "stream",
     "text": [
      "Epoch = 14. Time index = 3. Threshold MC = 0.9. Threshold MD = 0.9\n",
      "RD = 0 NZ = 0 NZA = 0 pNZ = 0.000% pNZA = 0.000% AD = 0.00% ADA = 0.00% NO = 1 GSP = 0.00% NSP = 0.00%\n",
      "SI2 = -0.55 SI = -0.55 eGROI = 0.00% eROI = 0.00% eROI2 = 0.00% eROI3 = 0.00% mSpread = 0.0000%\n",
      "\n",
      "Best eGROI = 36.44 t_index 2 thr_mc 0.5 thr_md 0.6 epoch 14 in 2428\n",
      "Best eROI = 2.65 t_index 1 thr_mc 0.8 thr_md 0.5 epoch 14 in 250\n",
      "Best eROI.5 = 24.30 t_index 2 thr_mc 0.5 thr_md 0.6 epoch 14 in 2428\n",
      "Best eROI1 = 12.16 t_index 2 thr_mc 0.5 thr_md 0.6 epoch 14 in 2428\n",
      "Best eROI1.5 = 3.66 t_index 1 thr_mc 0.8 thr_md 0.5 epoch 14 in 250\n",
      "Best eROI2 = 2.41 t_index 1 thr_mc 0.8 thr_md 0.5 epoch 14 in 250\n",
      "Best eROI3 = 0.41 t_index 1 thr_mc 0.8 thr_md 0.6 epoch 14 in 27\n",
      "Best eROI4 = 0.14 t_index 1 thr_mc 0.8 thr_md 0.6 epoch 14 in 27\n",
      "Best eROI5 = 0.00 t_index 0 thr_mc 0.5 thr_md 0.5 epoch 14 in 1\n",
      "Best SI = 3.65 t_index 2 thr_mc 0.8 thr_md 0.6 epoch 14 in 57\n",
      "Best SI.5 = 115.85 t_index 0 thr_mc 0.5 thr_md 0.6 epoch 14 in 1933\n",
      "Best SI1 = 73.85 t_index 0 thr_mc 0.5 thr_md 0.6 epoch 14 in 1933\n",
      "Best SI1.5 = 15.85 t_index 0 thr_mc 0.5 thr_md 0.6 epoch 14 in 1933\n",
      "Best SI2 = 5.65 t_index 2 thr_mc 0.8 thr_md 0.6 epoch 14 in 57\n",
      "Best SI3 = 3.65 t_index 2 thr_mc 0.8 thr_md 0.6 epoch 14 in 57\n",
      "Best SI4 = 0.15 t_index 1 thr_mc 0.8 thr_md 0.6 epoch 14 in 27\n",
      "Best SI5 = -0.55 t_index 0 thr_mc 0.5 thr_md 0.5 epoch 14 in 1\n",
      "\n",
      "The very best:\n",
      "Best eGROI = 39.89 t_index 3 thr_mc 0.5 thr_md 0.6 epoch 12 in 2426\n",
      "Best eROI = 3.37 t_index 3 thr_mc 0.8 thr_md 0.5 epoch 8 in 141\n",
      "Best eROI.5 = 27.76 t_index 3 thr_mc 0.5 thr_md 0.6 epoch 12 in 2426\n",
      "Best eROI1 = 15.63 t_index 3 thr_mc 0.5 thr_md 0.6 epoch 12 in 2426\n",
      "Best eROI1.5 = 5.80 t_index 3 thr_mc 0.6 thr_md 0.6 epoch 11 in 1839\n",
      "Best eROI2 = 3.16 t_index 3 thr_mc 0.8 thr_md 0.5 epoch 8 in 141\n",
      "Best eROI3 = 1.75 t_index 3 thr_mc 0.8 thr_md 0.5 epoch 8 in 141\n",
      "Best eROI4 = 0.50 t_index 3 thr_mc 0.8 thr_md 0.6 epoch 10 in 14\n",
      "Best eROI5 = 0.36 t_index 3 thr_mc 0.8 thr_md 0.6 epoch 10 in 14\n",
      "Best SI = 4.45 t_index 3 thr_mc 0.8 thr_md 0.5 epoch 8 in 141\n",
      "Best SI.5 = 128.70 t_index 3 thr_mc 0.5 thr_md 0.6 epoch 12 in 2426\n",
      "Best SI1 = 73.85 t_index 0 thr_mc 0.5 thr_md 0.6 epoch 14 in 1933\n",
      "Best SI1.5 = 16.90 t_index 1 thr_mc 0.7 thr_md 0.6 epoch 13 in 342\n",
      "Best SI2 = 6.90 t_index 1 thr_mc 0.7 thr_md 0.6 epoch 13 in 342\n",
      "Best SI3 = 4.95 t_index 3 thr_mc 0.8 thr_md 0.6 epoch 13 in 51\n",
      "Best SI4 = 1.95 t_index 3 thr_mc 0.8 thr_md 0.6 epoch 13 in 51\n",
      "Best SI5 = 1.05 t_index 0 thr_mc 0.5 thr_md 0.7 epoch 13 in 9\n",
      "Time=81.08 secs\n",
      "INFO:tensorflow:Restoring parameters from ../../RNN/weights/000520/000015/000015\n",
      "Parameters loaded. Epoch 15\n",
      "Epoch 15 of 34. Getting output...\n"
     ]
    },
    {
     "name": "stderr",
     "output_type": "stream",
     "text": [
      "100%|████████████████████████████████████████████████████████████████████████████████████████████████████████████████████████████████████████| 23/23 [01:35<00:00,  4.57s/it]\n"
     ]
    },
    {
     "name": "stdout",
     "output_type": "stream",
     "text": [
      "Getting results\n",
      "Epoch 15, J_train = 6.506073481864599, J_test = 6.333975169969642\n"
     ]
    },
    {
     "name": "stderr",
     "output_type": "stream",
     "text": [
      "0it [00:00, ?it/s]\n"
     ]
    },
    {
     "name": "stdout",
     "output_type": "stream",
     "text": [
      "Epoch = 15. Time index = 0. Threshold MC = 0.5. Threshold MD = 0.5\n",
      "J_test = 6.333975169969642, J_train = 6.506073481864599, Accuracy=0.5466439982136841\n",
      "RD = 264812 NZ = 509084 NZA = 970519 pNZ = 44.317% pNZA = 84.486% AD = 52.02% ADA = 27.29% NO = 1 GSP = 0.00% NSP = 0.00%\n",
      "SI2 = -0.55 SI = -0.55 eGROI = 0.00% eROI = 0.00% eROI2 = 0.00% eROI3 = 0.00% mSpread = 0.0000%\n"
     ]
    },
    {
     "name": "stderr",
     "output_type": "stream",
     "text": [
      "100%|██████████████████████████████████████████████████████████████████████████████████████████████████████████████████████████████████| 8582/8582 [00:02<00:00, 3749.37it/s]\n"
     ]
    },
    {
     "name": "stdout",
     "output_type": "stream",
     "text": [
      "Epoch = 15. Time index = 0. Threshold MC = 0.5. Threshold MD = 0.6\n",
      "RD = 8519 NZ = 12987 NZA = 28354 pNZ = 1.131% pNZA = 2.468% AD = 65.60% ADA = 30.05% NO = 2025 GSP = 63.16% NSP = 42.72%\n",
      "SI2 = -56.75 SI = -248.75 eGROI = 32.28% eROI = -34.04% eROI2 = -8.22% eROI3 = -28.47% mSpread = 0.0328%\n"
     ]
    },
    {
     "name": "stderr",
     "output_type": "stream",
     "text": [
      "100%|██████████████████████████████████████████████████████████████████████████████████████████████████████████████████████████████████████| 67/67 [00:00<00:00, 1975.89it/s]\n"
     ]
    },
    {
     "name": "stdout",
     "output_type": "stream",
     "text": [
      "Epoch = 15. Time index = 0. Threshold MC = 0.5. Threshold MD = 0.7\n",
      "RD = 892 NZ = 1097 NZA = 2252 pNZ = 0.095% pNZA = 0.196% AD = 81.31% ADA = 39.61% NO = 51 GSP = 66.67% NSP = 33.33%\n",
      "SI2 = -0.05 SI = -11.05 eGROI = 0.56% eROI = -1.40% eROI2 = -0.46% eROI3 = -0.97% mSpread = 0.0384%\n"
     ]
    },
    {
     "name": "stderr",
     "output_type": "stream",
     "text": [
      "0it [00:00, ?it/s]\n"
     ]
    },
    {
     "name": "stdout",
     "output_type": "stream",
     "text": [
      "Epoch = 15. Time index = 0. Threshold MC = 0.5. Threshold MD = 0.8\n",
      "RD = 57 NZ = 62 NZA = 93 pNZ = 0.005% pNZA = 0.008% AD = 91.94% ADA = 61.29% NO = 1 GSP = 0.00% NSP = 0.00%\n",
      "SI2 = -0.55 SI = -0.55 eGROI = 0.00% eROI = 0.00% eROI2 = 0.00% eROI3 = 0.00% mSpread = 0.0000%\n"
     ]
    },
    {
     "name": "stderr",
     "output_type": "stream",
     "text": [
      "0it [00:00, ?it/s]\n"
     ]
    },
    {
     "name": "stdout",
     "output_type": "stream",
     "text": [
      "Epoch = 15. Time index = 0. Threshold MC = 0.5. Threshold MD = 0.9\n",
      "RD = 0 NZ = 0 NZA = 0 pNZ = 0.000% pNZA = 0.000% AD = 0.00% ADA = 0.00% NO = 1 GSP = 0.00% NSP = 0.00%\n",
      "SI2 = -0.55 SI = -0.55 eGROI = 0.00% eROI = 0.00% eROI2 = 0.00% eROI3 = 0.00% mSpread = 0.0000%\n",
      "\n"
     ]
    },
    {
     "name": "stderr",
     "output_type": "stream",
     "text": [
      "0it [00:00, ?it/s]\n"
     ]
    },
    {
     "name": "stdout",
     "output_type": "stream",
     "text": [
      "Epoch = 15. Time index = 0. Threshold MC = 0.6. Threshold MD = 0.5\n",
      "RD = 88592 NZ = 167132 NZA = 274976 pNZ = 14.549% pNZA = 23.937% AD = 53.01% ADA = 32.22% NO = 1 GSP = 0.00% NSP = 0.00%\n",
      "SI2 = -0.55 SI = -0.55 eGROI = 0.00% eROI = 0.00% eROI2 = 0.00% eROI3 = 0.00% mSpread = 0.0000%\n"
     ]
    },
    {
     "name": "stderr",
     "output_type": "stream",
     "text": [
      "100%|██████████████████████████████████████████████████████████████████████████████████████████████████████████████████████████████████| 3644/3644 [00:01<00:00, 3519.92it/s]\n"
     ]
    },
    {
     "name": "stdout",
     "output_type": "stream",
     "text": [
      "Epoch = 15. Time index = 0. Threshold MC = 0.6. Threshold MD = 0.6\n",
      "RD = 3558 NZ = 5390 NZA = 9420 pNZ = 0.469% pNZA = 0.820% AD = 66.01% ADA = 37.77% NO = 1140 GSP = 63.51% NSP = 45.61%\n",
      "SI2 = -35.00 SI = -107.00 eGROI = 20.13% eROI = -14.00% eROI2 = -2.67% eROI3 = -14.07% mSpread = 0.0299%\n"
     ]
    },
    {
     "name": "stderr",
     "output_type": "stream",
     "text": [
      "100%|██████████████████████████████████████████████████████████████████████████████████████████████████████████████████████████████████████| 32/32 [00:00<00:00, 2005.28it/s]\n"
     ]
    },
    {
     "name": "stdout",
     "output_type": "stream",
     "text": [
      "Epoch = 15. Time index = 0. Threshold MC = 0.6. Threshold MD = 0.7\n",
      "RD = 482 NZ = 571 NZA = 912 pNZ = 0.050% pNZA = 0.079% AD = 84.41% ADA = 52.85% NO = 27 GSP = 66.67% NSP = 40.74%\n",
      "SI2 = -1.85 SI = -3.85 eGROI = -0.06% eROI = -0.96% eROI2 = -0.60% eROI3 = -0.87% mSpread = 0.0332%\n"
     ]
    },
    {
     "name": "stderr",
     "output_type": "stream",
     "text": [
      "0it [00:00, ?it/s]\n"
     ]
    },
    {
     "name": "stdout",
     "output_type": "stream",
     "text": [
      "Epoch = 15. Time index = 0. Threshold MC = 0.6. Threshold MD = 0.8\n",
      "RD = 41 NZ = 44 NZA = 59 pNZ = 0.004% pNZA = 0.005% AD = 93.18% ADA = 69.49% NO = 1 GSP = 0.00% NSP = 0.00%\n",
      "SI2 = -0.55 SI = -0.55 eGROI = 0.00% eROI = 0.00% eROI2 = 0.00% eROI3 = 0.00% mSpread = 0.0000%\n"
     ]
    },
    {
     "name": "stderr",
     "output_type": "stream",
     "text": [
      "0it [00:00, ?it/s]\n"
     ]
    },
    {
     "name": "stdout",
     "output_type": "stream",
     "text": [
      "Epoch = 15. Time index = 0. Threshold MC = 0.6. Threshold MD = 0.9\n",
      "RD = 0 NZ = 0 NZA = 0 pNZ = 0.000% pNZA = 0.000% AD = 0.00% ADA = 0.00% NO = 1 GSP = 0.00% NSP = 0.00%\n",
      "SI2 = -0.55 SI = -0.55 eGROI = 0.00% eROI = 0.00% eROI2 = 0.00% eROI3 = 0.00% mSpread = 0.0000%\n",
      "\n"
     ]
    },
    {
     "name": "stderr",
     "output_type": "stream",
     "text": [
      "100%|████████████████████████████████████████████████████████████████████████████████████████████████████████████████████████████████| 12138/12138 [00:03<00:00, 3745.84it/s]\n"
     ]
    },
    {
     "name": "stdout",
     "output_type": "stream",
     "text": [
      "Epoch = 15. Time index = 0. Threshold MC = 0.7. Threshold MD = 0.5\n",
      "RD = 8606 NZ = 15857 NZA = 22252 pNZ = 1.380% pNZA = 1.937% AD = 54.27% ADA = 38.68% NO = 2469 GSP = 53.34% NSP = 45.85%\n",
      "SI2 = -210.95 SI = -225.95 eGROI = 8.71% eROI = -39.37% eROI2 = -40.67% eROI3 = -65.36% mSpread = 0.0195%\n"
     ]
    },
    {
     "name": "stderr",
     "output_type": "stream",
     "text": [
      "100%|████████████████████████████████████████████████████████████████████████████████████████████████████████████████████████████████████| 801/801 [00:00<00:00, 3065.39it/s]\n"
     ]
    },
    {
     "name": "stdout",
     "output_type": "stream",
     "text": [
      "Epoch = 15. Time index = 0. Threshold MC = 0.7. Threshold MD = 0.6\n",
      "RD = 823 NZ = 1245 NZA = 1754 pNZ = 0.108% pNZA = 0.153% AD = 66.10% ADA = 46.92% NO = 384 GSP = 62.24% NSP = 51.82%\n",
      "SI2 = -5.20 SI = -12.20 eGROI = 6.71% eROI = -1.92% eROI2 = -0.97% eROI3 = -4.81% mSpread = 0.0225%\n"
     ]
    },
    {
     "name": "stderr",
     "output_type": "stream",
     "text": [
      "0it [00:00, ?it/s]\n"
     ]
    },
    {
     "name": "stdout",
     "output_type": "stream",
     "text": [
      "Epoch = 15. Time index = 0. Threshold MC = 0.7. Threshold MD = 0.7\n",
      "RD = 105 NZ = 127 NZA = 158 pNZ = 0.011% pNZA = 0.014% AD = 82.68% ADA = 66.46% NO = 1 GSP = 0.00% NSP = 0.00%\n",
      "SI2 = -0.55 SI = -0.55 eGROI = 0.00% eROI = 0.00% eROI2 = 0.00% eROI3 = 0.00% mSpread = 0.0000%\n"
     ]
    },
    {
     "name": "stderr",
     "output_type": "stream",
     "text": [
      "0it [00:00, ?it/s]\n"
     ]
    },
    {
     "name": "stdout",
     "output_type": "stream",
     "text": [
      "Epoch = 15. Time index = 0. Threshold MC = 0.7. Threshold MD = 0.8\n",
      "RD = 12 NZ = 12 NZA = 15 pNZ = 0.001% pNZA = 0.001% AD = 100.00% ADA = 80.00% NO = 1 GSP = 0.00% NSP = 0.00%\n",
      "SI2 = -0.55 SI = -0.55 eGROI = 0.00% eROI = 0.00% eROI2 = 0.00% eROI3 = 0.00% mSpread = 0.0000%\n"
     ]
    },
    {
     "name": "stderr",
     "output_type": "stream",
     "text": [
      "0it [00:00, ?it/s]\n"
     ]
    },
    {
     "name": "stdout",
     "output_type": "stream",
     "text": [
      "Epoch = 15. Time index = 0. Threshold MC = 0.7. Threshold MD = 0.9\n",
      "RD = 0 NZ = 0 NZA = 0 pNZ = 0.000% pNZA = 0.000% AD = 0.00% ADA = 0.00% NO = 1 GSP = 0.00% NSP = 0.00%\n",
      "SI2 = -0.55 SI = -0.55 eGROI = 0.00% eROI = 0.00% eROI2 = 0.00% eROI3 = 0.00% mSpread = 0.0000%\n",
      "\n"
     ]
    },
    {
     "name": "stderr",
     "output_type": "stream",
     "text": [
      "100%|████████████████████████████████████████████████████████████████████████████████████████████████████████████████████████████████████| 512/512 [00:00<00:00, 3747.12it/s]\n"
     ]
    },
    {
     "name": "stdout",
     "output_type": "stream",
     "text": [
      "Epoch = 15. Time index = 0. Threshold MC = 0.8. Threshold MD = 0.5\n",
      "RD = 389 NZ = 657 NZA = 825 pNZ = 0.057% pNZA = 0.072% AD = 59.21% ADA = 47.15% NO = 291 GSP = 55.67% NSP = 51.55%\n",
      "SI2 = -11.05 SI = -10.05 eGROI = 6.65% eROI = 1.09% eROI2 = 0.83% eROI3 = -2.08% mSpread = 0.0191%\n"
     ]
    },
    {
     "name": "stderr",
     "output_type": "stream",
     "text": [
      "100%|██████████████████████████████████████████████████████████████████████████████████████████████████████████████████████████████████████| 32/32 [00:00<00:00, 1887.41it/s]\n"
     ]
    },
    {
     "name": "stdout",
     "output_type": "stream",
     "text": [
      "Epoch = 15. Time index = 0. Threshold MC = 0.8. Threshold MD = 0.6\n",
      "RD = 64 NZ = 90 NZA = 122 pNZ = 0.008% pNZA = 0.011% AD = 71.11% ADA = 52.46% NO = 31 GSP = 70.97% NSP = 64.52%\n",
      "SI2 = 3.95 SI = 2.95 eGROI = 1.49% eROI = 0.72% eROI2 = 0.87% eROI3 = 0.56% mSpread = 0.0248%\n"
     ]
    },
    {
     "name": "stderr",
     "output_type": "stream",
     "text": [
      "0it [00:00, ?it/s]\n"
     ]
    },
    {
     "name": "stdout",
     "output_type": "stream",
     "text": [
      "Epoch = 15. Time index = 0. Threshold MC = 0.8. Threshold MD = 0.7\n",
      "RD = 8 NZ = 11 NZA = 13 pNZ = 0.001% pNZA = 0.001% AD = 72.73% ADA = 61.54% NO = 1 GSP = 0.00% NSP = 0.00%\n",
      "SI2 = -0.55 SI = -0.55 eGROI = 0.00% eROI = 0.00% eROI2 = 0.00% eROI3 = 0.00% mSpread = 0.0000%\n"
     ]
    },
    {
     "name": "stderr",
     "output_type": "stream",
     "text": [
      "0it [00:00, ?it/s]\n"
     ]
    },
    {
     "name": "stdout",
     "output_type": "stream",
     "text": [
      "Epoch = 15. Time index = 0. Threshold MC = 0.8. Threshold MD = 0.8\n",
      "RD = 0 NZ = 0 NZA = 0 pNZ = 0.000% pNZA = 0.000% AD = 0.00% ADA = 0.00% NO = 1 GSP = 0.00% NSP = 0.00%\n",
      "SI2 = -0.55 SI = -0.55 eGROI = 0.00% eROI = 0.00% eROI2 = 0.00% eROI3 = 0.00% mSpread = 0.0000%\n"
     ]
    },
    {
     "name": "stderr",
     "output_type": "stream",
     "text": [
      "0it [00:00, ?it/s]\n"
     ]
    },
    {
     "name": "stdout",
     "output_type": "stream",
     "text": [
      "Epoch = 15. Time index = 0. Threshold MC = 0.8. Threshold MD = 0.9\n",
      "RD = 0 NZ = 0 NZA = 0 pNZ = 0.000% pNZA = 0.000% AD = 0.00% ADA = 0.00% NO = 1 GSP = 0.00% NSP = 0.00%\n",
      "SI2 = -0.55 SI = -0.55 eGROI = 0.00% eROI = 0.00% eROI2 = 0.00% eROI3 = 0.00% mSpread = 0.0000%\n",
      "\n"
     ]
    },
    {
     "name": "stderr",
     "output_type": "stream",
     "text": [
      "0it [00:00, ?it/s]\n"
     ]
    },
    {
     "name": "stdout",
     "output_type": "stream",
     "text": [
      "Epoch = 15. Time index = 0. Threshold MC = 0.9. Threshold MD = 0.5\n",
      "RD = 0 NZ = 0 NZA = 0 pNZ = 0.000% pNZA = 0.000% AD = 0.00% ADA = 0.00% NO = 1 GSP = 0.00% NSP = 0.00%\n",
      "SI2 = -0.55 SI = -0.55 eGROI = 0.00% eROI = 0.00% eROI2 = 0.00% eROI3 = 0.00% mSpread = 0.0000%\n"
     ]
    },
    {
     "name": "stderr",
     "output_type": "stream",
     "text": [
      "0it [00:00, ?it/s]\n"
     ]
    },
    {
     "name": "stdout",
     "output_type": "stream",
     "text": [
      "Epoch = 15. Time index = 0. Threshold MC = 0.9. Threshold MD = 0.6\n",
      "RD = 0 NZ = 0 NZA = 0 pNZ = 0.000% pNZA = 0.000% AD = 0.00% ADA = 0.00% NO = 1 GSP = 0.00% NSP = 0.00%\n",
      "SI2 = -0.55 SI = -0.55 eGROI = 0.00% eROI = 0.00% eROI2 = 0.00% eROI3 = 0.00% mSpread = 0.0000%\n"
     ]
    },
    {
     "name": "stderr",
     "output_type": "stream",
     "text": [
      "0it [00:00, ?it/s]\n"
     ]
    },
    {
     "name": "stdout",
     "output_type": "stream",
     "text": [
      "Epoch = 15. Time index = 0. Threshold MC = 0.9. Threshold MD = 0.7\n",
      "RD = 0 NZ = 0 NZA = 0 pNZ = 0.000% pNZA = 0.000% AD = 0.00% ADA = 0.00% NO = 1 GSP = 0.00% NSP = 0.00%\n",
      "SI2 = -0.55 SI = -0.55 eGROI = 0.00% eROI = 0.00% eROI2 = 0.00% eROI3 = 0.00% mSpread = 0.0000%\n"
     ]
    },
    {
     "name": "stderr",
     "output_type": "stream",
     "text": [
      "0it [00:00, ?it/s]\n"
     ]
    },
    {
     "name": "stdout",
     "output_type": "stream",
     "text": [
      "Epoch = 15. Time index = 0. Threshold MC = 0.9. Threshold MD = 0.8\n",
      "RD = 0 NZ = 0 NZA = 0 pNZ = 0.000% pNZA = 0.000% AD = 0.00% ADA = 0.00% NO = 1 GSP = 0.00% NSP = 0.00%\n",
      "SI2 = -0.55 SI = -0.55 eGROI = 0.00% eROI = 0.00% eROI2 = 0.00% eROI3 = 0.00% mSpread = 0.0000%\n"
     ]
    },
    {
     "name": "stderr",
     "output_type": "stream",
     "text": [
      "0it [00:00, ?it/s]\n"
     ]
    },
    {
     "name": "stdout",
     "output_type": "stream",
     "text": [
      "Epoch = 15. Time index = 0. Threshold MC = 0.9. Threshold MD = 0.9\n",
      "RD = 0 NZ = 0 NZA = 0 pNZ = 0.000% pNZA = 0.000% AD = 0.00% ADA = 0.00% NO = 1 GSP = 0.00% NSP = 0.00%\n",
      "SI2 = -0.55 SI = -0.55 eGROI = 0.00% eROI = 0.00% eROI2 = 0.00% eROI3 = 0.00% mSpread = 0.0000%\n",
      "\n"
     ]
    },
    {
     "name": "stderr",
     "output_type": "stream",
     "text": [
      "0it [00:00, ?it/s]\n"
     ]
    },
    {
     "name": "stdout",
     "output_type": "stream",
     "text": [
      "Epoch = 15. Time index = 1. Threshold MC = 0.5. Threshold MD = 0.5\n",
      "J_test = 6.333975169969642, J_train = 6.506073481864599, Accuracy=0.5408463063218345\n",
      "RD = 269509 NZ = 518351 NZA = 995712 pNZ = 45.124% pNZA = 86.679% AD = 51.99% ADA = 27.07% NO = 1 GSP = 0.00% NSP = 0.00%\n",
      "SI2 = -0.55 SI = -0.55 eGROI = 0.00% eROI = 0.00% eROI2 = 0.00% eROI3 = 0.00% mSpread = 0.0000%\n"
     ]
    },
    {
     "name": "stderr",
     "output_type": "stream",
     "text": [
      "100%|████████████████████████████████████████████████████████████████████████████████████████████████████████████████████████████████| 12200/12200 [00:02<00:00, 4254.70it/s]\n"
     ]
    },
    {
     "name": "stdout",
     "output_type": "stream",
     "text": [
      "Epoch = 15. Time index = 1. Threshold MC = 0.5. Threshold MD = 0.6\n",
      "RD = 8131 NZ = 12083 NZA = 25695 pNZ = 1.052% pNZA = 2.237% AD = 67.29% ADA = 31.64% NO = 2386 GSP = 61.99% NSP = 42.04%\n",
      "SI2 = -102.30 SI = -309.30 eGROI = 35.77% eROI = -41.01% eROI2 = -11.95% eROI3 = -35.81% mSpread = 0.0322%\n"
     ]
    },
    {
     "name": "stderr",
     "output_type": "stream",
     "text": [
      "100%|████████████████████████████████████████████████████████████████████████████████████████████████████████████████████████████████████| 557/557 [00:00<00:00, 4017.85it/s]\n"
     ]
    },
    {
     "name": "stdout",
     "output_type": "stream",
     "text": [
      "Epoch = 15. Time index = 1. Threshold MC = 0.5. Threshold MD = 0.7\n",
      "RD = 1273 NZ = 1623 NZA = 3382 pNZ = 0.141% pNZA = 0.294% AD = 78.43% ADA = 37.64% NO = 246 GSP = 66.26% NSP = 37.80%\n",
      "SI2 = -7.30 SI = -42.30 eGROI = 4.57% eROI = -5.08% eROI2 = -0.35% eROI3 = -2.81% mSpread = 0.0392%\n"
     ]
    },
    {
     "name": "stderr",
     "output_type": "stream",
     "text": [
      "0it [00:00, ?it/s]\n"
     ]
    },
    {
     "name": "stdout",
     "output_type": "stream",
     "text": [
      "Epoch = 15. Time index = 1. Threshold MC = 0.5. Threshold MD = 0.8\n",
      "RD = 264 NZ = 290 NZA = 487 pNZ = 0.025% pNZA = 0.042% AD = 91.03% ADA = 54.21% NO = 1 GSP = 0.00% NSP = 0.00%\n",
      "SI2 = -0.55 SI = -0.55 eGROI = 0.00% eROI = 0.00% eROI2 = 0.00% eROI3 = 0.00% mSpread = 0.0000%\n"
     ]
    },
    {
     "name": "stderr",
     "output_type": "stream",
     "text": [
      "0it [00:00, ?it/s]\n"
     ]
    },
    {
     "name": "stdout",
     "output_type": "stream",
     "text": [
      "Epoch = 15. Time index = 1. Threshold MC = 0.5. Threshold MD = 0.9\n",
      "RD = 1 NZ = 1 NZA = 1 pNZ = 0.000% pNZA = 0.000% AD = 100.00% ADA = 100.00% NO = 1 GSP = 0.00% NSP = 0.00%\n",
      "SI2 = -0.55 SI = -0.55 eGROI = 0.00% eROI = 0.00% eROI2 = 0.00% eROI3 = 0.00% mSpread = 0.0000%\n",
      "\n"
     ]
    },
    {
     "name": "stderr",
     "output_type": "stream",
     "text": [
      "0it [00:00, ?it/s]\n"
     ]
    },
    {
     "name": "stdout",
     "output_type": "stream",
     "text": [
      "Epoch = 15. Time index = 1. Threshold MC = 0.6. Threshold MD = 0.5\n",
      "RD = 86950 NZ = 164093 NZA = 271126 pNZ = 14.285% pNZA = 23.602% AD = 52.99% ADA = 32.07% NO = 1 GSP = 0.00% NSP = 0.00%\n",
      "SI2 = -0.55 SI = -0.55 eGROI = 0.00% eROI = 0.00% eROI2 = 0.00% eROI3 = 0.00% mSpread = 0.0000%\n"
     ]
    },
    {
     "name": "stderr",
     "output_type": "stream",
     "text": [
      "100%|██████████████████████████████████████████████████████████████████████████████████████████████████████████████████████████████████| 6622/6622 [00:01<00:00, 4834.83it/s]\n"
     ]
    },
    {
     "name": "stdout",
     "output_type": "stream",
     "text": [
      "Epoch = 15. Time index = 1. Threshold MC = 0.6. Threshold MD = 0.6\n",
      "RD = 4036 NZ = 5997 NZA = 10715 pNZ = 0.522% pNZA = 0.933% AD = 67.30% ADA = 37.67% NO = 1596 GSP = 62.16% NSP = 42.98%\n",
      "SI2 = -70.80 SI = -191.80 eGROI = 23.76% eROI = -25.04% eROI2 = -8.16% eROI3 = -24.12% mSpread = 0.0306%\n"
     ]
    },
    {
     "name": "stderr",
     "output_type": "stream",
     "text": [
      "100%|████████████████████████████████████████████████████████████████████████████████████████████████████████████████████████████████████| 448/448 [00:00<00:00, 3940.28it/s]\n"
     ]
    },
    {
     "name": "stdout",
     "output_type": "stream",
     "text": [
      "Epoch = 15. Time index = 1. Threshold MC = 0.6. Threshold MD = 0.7\n",
      "RD = 710 NZ = 891 NZA = 1595 pNZ = 0.078% pNZA = 0.139% AD = 79.69% ADA = 44.51% NO = 197 GSP = 66.50% NSP = 36.55%\n",
      "SI2 = -11.35 SI = -36.35 eGROI = 3.71% eROI = -3.93% eROI2 = -0.23% eROI3 = -2.20% mSpread = 0.0388%\n"
     ]
    },
    {
     "name": "stderr",
     "output_type": "stream",
     "text": [
      "0it [00:00, ?it/s]\n"
     ]
    },
    {
     "name": "stdout",
     "output_type": "stream",
     "text": [
      "Epoch = 15. Time index = 1. Threshold MC = 0.6. Threshold MD = 0.8\n",
      "RD = 202 NZ = 219 NZA = 325 pNZ = 0.019% pNZA = 0.028% AD = 92.24% ADA = 62.15% NO = 1 GSP = 0.00% NSP = 0.00%\n",
      "SI2 = -0.55 SI = -0.55 eGROI = 0.00% eROI = 0.00% eROI2 = 0.00% eROI3 = 0.00% mSpread = 0.0000%\n"
     ]
    },
    {
     "name": "stderr",
     "output_type": "stream",
     "text": [
      "0it [00:00, ?it/s]\n"
     ]
    },
    {
     "name": "stdout",
     "output_type": "stream",
     "text": [
      "Epoch = 15. Time index = 1. Threshold MC = 0.6. Threshold MD = 0.9\n",
      "RD = 1 NZ = 1 NZA = 1 pNZ = 0.000% pNZA = 0.000% AD = 100.00% ADA = 100.00% NO = 1 GSP = 0.00% NSP = 0.00%\n",
      "SI2 = -0.55 SI = -0.55 eGROI = 0.00% eROI = 0.00% eROI2 = 0.00% eROI3 = 0.00% mSpread = 0.0000%\n",
      "\n"
     ]
    },
    {
     "name": "stderr",
     "output_type": "stream",
     "text": [
      "100%|██████████████████████████████████████████████████████████████████████████████████████████████████████████████████████████████████| 9145/9145 [00:01<00:00, 5105.39it/s]\n"
     ]
    },
    {
     "name": "stdout",
     "output_type": "stream",
     "text": [
      "Epoch = 15. Time index = 1. Threshold MC = 0.7. Threshold MD = 0.5\n",
      "RD = 5937 NZ = 10695 NZA = 14736 pNZ = 0.931% pNZA = 1.283% AD = 55.51% ADA = 40.29% NO = 1792 GSP = 54.24% NSP = 46.99%\n",
      "SI2 = -119.60 SI = -143.60 eGROI = 6.70% eROI = -29.32% eROI2 = -29.14% eROI3 = -47.06% mSpread = 0.0201%\n"
     ]
    },
    {
     "name": "stderr",
     "output_type": "stream",
     "text": [
      "100%|██████████████████████████████████████████████████████████████████████████████████████████████████████████████████████████████████| 1180/1180 [00:00<00:00, 3390.01it/s]\n"
     ]
    },
    {
     "name": "stdout",
     "output_type": "stream",
     "text": [
      "Epoch = 15. Time index = 1. Threshold MC = 0.7. Threshold MD = 0.6\n",
      "RD = 934 NZ = 1416 NZA = 1987 pNZ = 0.123% pNZA = 0.173% AD = 65.96% ADA = 47.01% NO = 453 GSP = 64.46% NSP = 52.98%\n",
      "SI2 = -1.15 SI = -9.15 eGROI = 8.46% eROI = -2.19% eROI2 = -0.60% eROI3 = -5.13% mSpread = 0.0235%\n"
     ]
    },
    {
     "name": "stderr",
     "output_type": "stream",
     "text": [
      "100%|██████████████████████████████████████████████████████████████████████████████████████████████████████████████████████████████████████| 13/13 [00:00<00:00, 1700.64it/s]\n"
     ]
    },
    {
     "name": "stdout",
     "output_type": "stream",
     "text": [
      "Epoch = 15. Time index = 1. Threshold MC = 0.7. Threshold MD = 0.7\n",
      "RD = 209 NZ = 254 NZA = 333 pNZ = 0.022% pNZA = 0.029% AD = 82.28% ADA = 62.76% NO = 12 GSP = 50.00% NSP = 41.67%\n",
      "SI2 = -2.60 SI = -1.60 eGROI = 0.25% eROI = -0.13% eROI2 = 0.01% eROI3 = -0.11% mSpread = 0.0314%\n"
     ]
    },
    {
     "name": "stderr",
     "output_type": "stream",
     "text": [
      "0it [00:00, ?it/s]\n"
     ]
    },
    {
     "name": "stdout",
     "output_type": "stream",
     "text": [
      "Epoch = 15. Time index = 1. Threshold MC = 0.7. Threshold MD = 0.8\n",
      "RD = 106 NZ = 115 NZA = 142 pNZ = 0.010% pNZA = 0.012% AD = 92.17% ADA = 74.65% NO = 1 GSP = 0.00% NSP = 0.00%\n",
      "SI2 = -0.55 SI = -0.55 eGROI = 0.00% eROI = 0.00% eROI2 = 0.00% eROI3 = 0.00% mSpread = 0.0000%\n"
     ]
    },
    {
     "name": "stderr",
     "output_type": "stream",
     "text": [
      "0it [00:00, ?it/s]\n"
     ]
    },
    {
     "name": "stdout",
     "output_type": "stream",
     "text": [
      "Epoch = 15. Time index = 1. Threshold MC = 0.7. Threshold MD = 0.9\n",
      "RD = 1 NZ = 1 NZA = 1 pNZ = 0.000% pNZA = 0.000% AD = 100.00% ADA = 100.00% NO = 1 GSP = 0.00% NSP = 0.00%\n",
      "SI2 = -0.55 SI = -0.55 eGROI = 0.00% eROI = 0.00% eROI2 = 0.00% eROI3 = 0.00% mSpread = 0.0000%\n",
      "\n"
     ]
    },
    {
     "name": "stderr",
     "output_type": "stream",
     "text": [
      "100%|████████████████████████████████████████████████████████████████████████████████████████████████████████████████████████████████████| 444/444 [00:00<00:00, 3506.49it/s]\n"
     ]
    },
    {
     "name": "stdout",
     "output_type": "stream",
     "text": [
      "Epoch = 15. Time index = 1. Threshold MC = 0.8. Threshold MD = 0.5\n",
      "RD = 302 NZ = 505 NZA = 634 pNZ = 0.044% pNZA = 0.055% AD = 59.80% ADA = 47.63% NO = 254 GSP = 59.06% NSP = 53.54%\n",
      "SI2 = -4.70 SI = -3.70 eGROI = 6.80% eROI = 1.90% eROI2 = 1.72% eROI3 = -0.82% mSpread = 0.0193%\n"
     ]
    },
    {
     "name": "stderr",
     "output_type": "stream",
     "text": [
      "100%|██████████████████████████████████████████████████████████████████████████████████████████████████████████████████████████████████████| 47/47 [00:00<00:00, 2769.96it/s]\n"
     ]
    },
    {
     "name": "stdout",
     "output_type": "stream",
     "text": [
      "Epoch = 15. Time index = 1. Threshold MC = 0.8. Threshold MD = 0.6\n",
      "RD = 81 NZ = 111 NZA = 143 pNZ = 0.010% pNZA = 0.012% AD = 72.97% ADA = 56.64% NO = 41 GSP = 65.85% NSP = 58.54%\n",
      "SI2 = 2.45 SI = 1.45 eGROI = 1.23% eROI = 0.30% eROI2 = 0.41% eROI3 = 0.00% mSpread = 0.0228%\n"
     ]
    },
    {
     "name": "stderr",
     "output_type": "stream",
     "text": [
      "0it [00:00, ?it/s]\n"
     ]
    },
    {
     "name": "stdout",
     "output_type": "stream",
     "text": [
      "Epoch = 15. Time index = 1. Threshold MC = 0.8. Threshold MD = 0.7\n",
      "RD = 29 NZ = 35 NZA = 45 pNZ = 0.003% pNZA = 0.004% AD = 82.86% ADA = 64.44% NO = 1 GSP = 0.00% NSP = 0.00%\n",
      "SI2 = -0.55 SI = -0.55 eGROI = 0.00% eROI = 0.00% eROI2 = 0.00% eROI3 = 0.00% mSpread = 0.0000%\n"
     ]
    },
    {
     "name": "stderr",
     "output_type": "stream",
     "text": [
      "0it [00:00, ?it/s]\n"
     ]
    },
    {
     "name": "stdout",
     "output_type": "stream",
     "text": [
      "Epoch = 15. Time index = 1. Threshold MC = 0.8. Threshold MD = 0.8\n",
      "RD = 14 NZ = 18 NZA = 19 pNZ = 0.002% pNZA = 0.002% AD = 77.78% ADA = 73.68% NO = 1 GSP = 0.00% NSP = 0.00%\n",
      "SI2 = -0.55 SI = -0.55 eGROI = 0.00% eROI = 0.00% eROI2 = 0.00% eROI3 = 0.00% mSpread = 0.0000%\n"
     ]
    },
    {
     "name": "stderr",
     "output_type": "stream",
     "text": [
      "0it [00:00, ?it/s]\n"
     ]
    },
    {
     "name": "stdout",
     "output_type": "stream",
     "text": [
      "Epoch = 15. Time index = 1. Threshold MC = 0.8. Threshold MD = 0.9\n",
      "RD = 0 NZ = 0 NZA = 0 pNZ = 0.000% pNZA = 0.000% AD = 0.00% ADA = 0.00% NO = 1 GSP = 0.00% NSP = 0.00%\n",
      "SI2 = -0.55 SI = -0.55 eGROI = 0.00% eROI = 0.00% eROI2 = 0.00% eROI3 = 0.00% mSpread = 0.0000%\n",
      "\n"
     ]
    },
    {
     "name": "stderr",
     "output_type": "stream",
     "text": [
      "0it [00:00, ?it/s]\n"
     ]
    },
    {
     "name": "stdout",
     "output_type": "stream",
     "text": [
      "Epoch = 15. Time index = 1. Threshold MC = 0.9. Threshold MD = 0.5\n",
      "RD = 0 NZ = 0 NZA = 0 pNZ = 0.000% pNZA = 0.000% AD = 0.00% ADA = 0.00% NO = 1 GSP = 0.00% NSP = 0.00%\n",
      "SI2 = -0.55 SI = -0.55 eGROI = 0.00% eROI = 0.00% eROI2 = 0.00% eROI3 = 0.00% mSpread = 0.0000%\n"
     ]
    },
    {
     "name": "stderr",
     "output_type": "stream",
     "text": [
      "0it [00:00, ?it/s]\n"
     ]
    },
    {
     "name": "stdout",
     "output_type": "stream",
     "text": [
      "Epoch = 15. Time index = 1. Threshold MC = 0.9. Threshold MD = 0.6\n",
      "RD = 0 NZ = 0 NZA = 0 pNZ = 0.000% pNZA = 0.000% AD = 0.00% ADA = 0.00% NO = 1 GSP = 0.00% NSP = 0.00%\n",
      "SI2 = -0.55 SI = -0.55 eGROI = 0.00% eROI = 0.00% eROI2 = 0.00% eROI3 = 0.00% mSpread = 0.0000%\n"
     ]
    },
    {
     "name": "stderr",
     "output_type": "stream",
     "text": [
      "0it [00:00, ?it/s]\n"
     ]
    },
    {
     "name": "stdout",
     "output_type": "stream",
     "text": [
      "Epoch = 15. Time index = 1. Threshold MC = 0.9. Threshold MD = 0.7\n",
      "RD = 0 NZ = 0 NZA = 0 pNZ = 0.000% pNZA = 0.000% AD = 0.00% ADA = 0.00% NO = 1 GSP = 0.00% NSP = 0.00%\n",
      "SI2 = -0.55 SI = -0.55 eGROI = 0.00% eROI = 0.00% eROI2 = 0.00% eROI3 = 0.00% mSpread = 0.0000%\n"
     ]
    },
    {
     "name": "stderr",
     "output_type": "stream",
     "text": [
      "0it [00:00, ?it/s]\n"
     ]
    },
    {
     "name": "stdout",
     "output_type": "stream",
     "text": [
      "Epoch = 15. Time index = 1. Threshold MC = 0.9. Threshold MD = 0.8\n",
      "RD = 0 NZ = 0 NZA = 0 pNZ = 0.000% pNZA = 0.000% AD = 0.00% ADA = 0.00% NO = 1 GSP = 0.00% NSP = 0.00%\n",
      "SI2 = -0.55 SI = -0.55 eGROI = 0.00% eROI = 0.00% eROI2 = 0.00% eROI3 = 0.00% mSpread = 0.0000%\n"
     ]
    },
    {
     "name": "stderr",
     "output_type": "stream",
     "text": [
      "0it [00:00, ?it/s]\n"
     ]
    },
    {
     "name": "stdout",
     "output_type": "stream",
     "text": [
      "Epoch = 15. Time index = 1. Threshold MC = 0.9. Threshold MD = 0.9\n",
      "RD = 0 NZ = 0 NZA = 0 pNZ = 0.000% pNZA = 0.000% AD = 0.00% ADA = 0.00% NO = 1 GSP = 0.00% NSP = 0.00%\n",
      "SI2 = -0.55 SI = -0.55 eGROI = 0.00% eROI = 0.00% eROI2 = 0.00% eROI3 = 0.00% mSpread = 0.0000%\n",
      "\n"
     ]
    },
    {
     "name": "stderr",
     "output_type": "stream",
     "text": [
      "0it [00:00, ?it/s]\n"
     ]
    },
    {
     "name": "stdout",
     "output_type": "stream",
     "text": [
      "Epoch = 15. Time index = 2. Threshold MC = 0.5. Threshold MD = 0.5\n",
      "J_test = 6.333975169969642, J_train = 6.506073481864599, Accuracy=0.5419214038423201\n",
      "RD = 267960 NZ = 514621 NZA = 987017 pNZ = 44.799% pNZA = 85.922% AD = 52.07% ADA = 27.15% NO = 1 GSP = 0.00% NSP = 0.00%\n",
      "SI2 = -0.55 SI = -0.55 eGROI = 0.00% eROI = 0.00% eROI2 = 0.00% eROI3 = 0.00% mSpread = 0.0000%\n"
     ]
    },
    {
     "name": "stderr",
     "output_type": "stream",
     "text": [
      "100%|████████████████████████████████████████████████████████████████████████████████████████████████████████████████████████████████| 12784/12784 [00:02<00:00, 5139.44it/s]\n"
     ]
    },
    {
     "name": "stdout",
     "output_type": "stream",
     "text": [
      "Epoch = 15. Time index = 2. Threshold MC = 0.5. Threshold MD = 0.6\n",
      "RD = 9150 NZ = 13635 NZA = 28631 pNZ = 1.187% pNZA = 2.492% AD = 67.11% ADA = 31.96% NO = 2496 GSP = 60.98% NSP = 42.39%\n",
      "SI2 = -108.80 SI = -314.80 eGROI = 37.88% eROI = -40.58% eROI2 = -12.04% eROI3 = -37.00% mSpread = 0.0314%\n"
     ]
    },
    {
     "name": "stderr",
     "output_type": "stream",
     "text": [
      "100%|████████████████████████████████████████████████████████████████████████████████████████████████████████████████████████████████████| 759/759 [00:00<00:00, 4503.07it/s]\n"
     ]
    },
    {
     "name": "stdout",
     "output_type": "stream",
     "text": [
      "Epoch = 15. Time index = 2. Threshold MC = 0.5. Threshold MD = 0.7\n",
      "RD = 1654 NZ = 2136 NZA = 4718 pNZ = 0.186% pNZA = 0.411% AD = 77.43% ADA = 35.06% NO = 299 GSP = 67.56% NSP = 38.13%\n",
      "SI2 = -9.45 SI = -50.45 eGROI = 4.80% eROI = -6.75% eROI2 = -1.18% eROI3 = -4.17% mSpread = 0.0386%\n"
     ]
    },
    {
     "name": "stderr",
     "output_type": "stream",
     "text": [
      "0it [00:00, ?it/s]\n"
     ]
    },
    {
     "name": "stdout",
     "output_type": "stream",
     "text": [
      "Epoch = 15. Time index = 2. Threshold MC = 0.5. Threshold MD = 0.8\n",
      "RD = 268 NZ = 297 NZA = 588 pNZ = 0.026% pNZA = 0.051% AD = 90.24% ADA = 45.58% NO = 1 GSP = 0.00% NSP = 0.00%\n",
      "SI2 = -0.55 SI = -0.55 eGROI = 0.00% eROI = 0.00% eROI2 = 0.00% eROI3 = 0.00% mSpread = 0.0000%\n"
     ]
    },
    {
     "name": "stderr",
     "output_type": "stream",
     "text": [
      "0it [00:00, ?it/s]\n"
     ]
    },
    {
     "name": "stdout",
     "output_type": "stream",
     "text": [
      "Epoch = 15. Time index = 2. Threshold MC = 0.5. Threshold MD = 0.9\n",
      "RD = 0 NZ = 0 NZA = 0 pNZ = 0.000% pNZA = 0.000% AD = 0.00% ADA = 0.00% NO = 1 GSP = 0.00% NSP = 0.00%\n",
      "SI2 = -0.55 SI = -0.55 eGROI = 0.00% eROI = 0.00% eROI2 = 0.00% eROI3 = 0.00% mSpread = 0.0000%\n",
      "\n"
     ]
    },
    {
     "name": "stderr",
     "output_type": "stream",
     "text": [
      "0it [00:00, ?it/s]\n"
     ]
    },
    {
     "name": "stdout",
     "output_type": "stream",
     "text": [
      "Epoch = 15. Time index = 2. Threshold MC = 0.6. Threshold MD = 0.5\n",
      "RD = 86171 NZ = 162289 NZA = 268934 pNZ = 14.128% pNZA = 23.411% AD = 53.10% ADA = 32.04% NO = 1 GSP = 0.00% NSP = 0.00%\n",
      "SI2 = -0.55 SI = -0.55 eGROI = 0.00% eROI = 0.00% eROI2 = 0.00% eROI3 = 0.00% mSpread = 0.0000%\n"
     ]
    },
    {
     "name": "stderr",
     "output_type": "stream",
     "text": [
      "100%|██████████████████████████████████████████████████████████████████████████████████████████████████████████████████████████████████| 8615/8615 [00:01<00:00, 5341.78it/s]\n"
     ]
    },
    {
     "name": "stdout",
     "output_type": "stream",
     "text": [
      "Epoch = 15. Time index = 2. Threshold MC = 0.6. Threshold MD = 0.6\n",
      "RD = 4949 NZ = 7371 NZA = 13252 pNZ = 0.642% pNZA = 1.154% AD = 67.14% ADA = 37.35% NO = 1941 GSP = 61.67% NSP = 43.28%\n",
      "SI2 = -74.55 SI = -227.55 eGROI = 29.94% eROI = -30.63% eROI2 = -8.88% eROI3 = -28.29% mSpread = 0.0312%\n"
     ]
    },
    {
     "name": "stderr",
     "output_type": "stream",
     "text": [
      "100%|████████████████████████████████████████████████████████████████████████████████████████████████████████████████████████████████████| 694/694 [00:00<00:00, 3887.41it/s]\n"
     ]
    },
    {
     "name": "stdout",
     "output_type": "stream",
     "text": [
      "Epoch = 15. Time index = 2. Threshold MC = 0.6. Threshold MD = 0.7\n",
      "RD = 838 NZ = 1089 NZA = 2023 pNZ = 0.095% pNZA = 0.176% AD = 76.95% ADA = 41.42% NO = 270 GSP = 66.30% NSP = 39.63%\n",
      "SI2 = -9.50 SI = -41.50 eGROI = 4.55% eROI = -5.79% eROI2 = -0.85% eROI3 = -3.55% mSpread = 0.0383%\n"
     ]
    },
    {
     "name": "stderr",
     "output_type": "stream",
     "text": [
      "0it [00:00, ?it/s]\n"
     ]
    },
    {
     "name": "stdout",
     "output_type": "stream",
     "text": [
      "Epoch = 15. Time index = 2. Threshold MC = 0.6. Threshold MD = 0.8\n",
      "RD = 185 NZ = 200 NZA = 305 pNZ = 0.017% pNZA = 0.027% AD = 92.50% ADA = 60.66% NO = 1 GSP = 0.00% NSP = 0.00%\n",
      "SI2 = -0.55 SI = -0.55 eGROI = 0.00% eROI = 0.00% eROI2 = 0.00% eROI3 = 0.00% mSpread = 0.0000%\n"
     ]
    },
    {
     "name": "stderr",
     "output_type": "stream",
     "text": [
      "0it [00:00, ?it/s]\n"
     ]
    },
    {
     "name": "stdout",
     "output_type": "stream",
     "text": [
      "Epoch = 15. Time index = 2. Threshold MC = 0.6. Threshold MD = 0.9\n",
      "RD = 0 NZ = 0 NZA = 0 pNZ = 0.000% pNZA = 0.000% AD = 0.00% ADA = 0.00% NO = 1 GSP = 0.00% NSP = 0.00%\n",
      "SI2 = -0.55 SI = -0.55 eGROI = 0.00% eROI = 0.00% eROI2 = 0.00% eROI3 = 0.00% mSpread = 0.0000%\n",
      "\n"
     ]
    },
    {
     "name": "stderr",
     "output_type": "stream",
     "text": [
      "100%|██████████████████████████████████████████████████████████████████████████████████████████████████████████████████████████████████| 8917/8917 [00:01<00:00, 4594.39it/s]\n"
     ]
    },
    {
     "name": "stdout",
     "output_type": "stream",
     "text": [
      "Epoch = 15. Time index = 2. Threshold MC = 0.7. Threshold MD = 0.5\n",
      "RD = 5614 NZ = 9975 NZA = 13777 pNZ = 0.868% pNZA = 1.199% AD = 56.28% ADA = 40.75% NO = 1820 GSP = 54.45% NSP = 45.99%\n",
      "SI2 = -139.00 SI = -164.00 eGROI = 9.40% eROI = -29.05% eROI2 = -27.00% eROI3 = -45.20% mSpread = 0.0211%\n"
     ]
    },
    {
     "name": "stderr",
     "output_type": "stream",
     "text": [
      "100%|██████████████████████████████████████████████████████████████████████████████████████████████████████████████████████████████████| 1811/1811 [00:00<00:00, 4765.89it/s]\n"
     ]
    },
    {
     "name": "stdout",
     "output_type": "stream",
     "text": [
      "Epoch = 15. Time index = 2. Threshold MC = 0.7. Threshold MD = 0.6\n",
      "RD = 1236 NZ = 1866 NZA = 2654 pNZ = 0.162% pNZA = 0.231% AD = 66.24% ADA = 46.57% NO = 623 GSP = 63.08% NSP = 50.24%\n",
      "SI2 = -4.65 SI = -29.65 eGROI = 12.02% eROI = -3.45% eROI2 = -0.44% eROI3 = -6.67% mSpread = 0.0248%\n"
     ]
    },
    {
     "name": "stderr",
     "output_type": "stream",
     "text": [
      "100%|██████████████████████████████████████████████████████████████████████████████████████████████████████████████████████████████████████| 87/87 [00:00<00:00, 3117.00it/s]\n"
     ]
    },
    {
     "name": "stdout",
     "output_type": "stream",
     "text": [
      "Epoch = 15. Time index = 2. Threshold MC = 0.7. Threshold MD = 0.7\n",
      "RD = 263 NZ = 334 NZA = 462 pNZ = 0.029% pNZA = 0.040% AD = 78.74% ADA = 56.93% NO = 52 GSP = 57.69% NSP = 34.62%\n",
      "SI2 = -4.60 SI = -10.60 eGROI = 0.86% eROI = -1.11% eROI2 = -0.18% eROI3 = -0.70% mSpread = 0.0379%\n"
     ]
    },
    {
     "name": "stderr",
     "output_type": "stream",
     "text": [
      "0it [00:00, ?it/s]\n"
     ]
    },
    {
     "name": "stdout",
     "output_type": "stream",
     "text": [
      "Epoch = 15. Time index = 2. Threshold MC = 0.7. Threshold MD = 0.8\n",
      "RD = 108 NZ = 116 NZA = 141 pNZ = 0.010% pNZA = 0.012% AD = 93.10% ADA = 76.60% NO = 1 GSP = 0.00% NSP = 0.00%\n",
      "SI2 = -0.55 SI = -0.55 eGROI = 0.00% eROI = 0.00% eROI2 = 0.00% eROI3 = 0.00% mSpread = 0.0000%\n"
     ]
    },
    {
     "name": "stderr",
     "output_type": "stream",
     "text": [
      "0it [00:00, ?it/s]\n"
     ]
    },
    {
     "name": "stdout",
     "output_type": "stream",
     "text": [
      "Epoch = 15. Time index = 2. Threshold MC = 0.7. Threshold MD = 0.9\n",
      "RD = 0 NZ = 0 NZA = 0 pNZ = 0.000% pNZA = 0.000% AD = 0.00% ADA = 0.00% NO = 1 GSP = 0.00% NSP = 0.00%\n",
      "SI2 = -0.55 SI = -0.55 eGROI = 0.00% eROI = 0.00% eROI2 = 0.00% eROI3 = 0.00% mSpread = 0.0000%\n",
      "\n"
     ]
    },
    {
     "name": "stderr",
     "output_type": "stream",
     "text": [
      "100%|████████████████████████████████████████████████████████████████████████████████████████████████████████████████████████████████████| 524/524 [00:00<00:00, 3752.80it/s]\n"
     ]
    },
    {
     "name": "stdout",
     "output_type": "stream",
     "text": [
      "Epoch = 15. Time index = 2. Threshold MC = 0.8. Threshold MD = 0.5\n",
      "RD = 354 NZ = 584 NZA = 726 pNZ = 0.051% pNZA = 0.063% AD = 60.62% ADA = 48.76% NO = 305 GSP = 56.39% NSP = 51.48%\n",
      "SI2 = -9.75 SI = -10.75 eGROI = 7.18% eROI = 1.00% eROI2 = 1.08% eROI3 = -1.97% mSpread = 0.0203%\n"
     ]
    },
    {
     "name": "stderr",
     "output_type": "stream",
     "text": [
      "100%|██████████████████████████████████████████████████████████████████████████████████████████████████████████████████████████████████████| 99/99 [00:00<00:00, 2363.54it/s]\n"
     ]
    },
    {
     "name": "stdout",
     "output_type": "stream",
     "text": [
      "Epoch = 15. Time index = 2. Threshold MC = 0.8. Threshold MD = 0.6\n",
      "RD = 124 NZ = 164 NZA = 204 pNZ = 0.014% pNZA = 0.018% AD = 75.61% ADA = 60.78% NO = 71 GSP = 61.97% NSP = 57.75%\n",
      "SI2 = 3.95 SI = 1.95 eGROI = 2.50% eROI = 0.98% eROI2 = 1.08% eROI3 = 0.37% mSpread = 0.0213%\n"
     ]
    },
    {
     "name": "stderr",
     "output_type": "stream",
     "text": [
      "0it [00:00, ?it/s]\n"
     ]
    },
    {
     "name": "stdout",
     "output_type": "stream",
     "text": [
      "Epoch = 15. Time index = 2. Threshold MC = 0.8. Threshold MD = 0.7\n",
      "RD = 40 NZ = 46 NZA = 58 pNZ = 0.004% pNZA = 0.005% AD = 86.96% ADA = 68.97% NO = 1 GSP = 0.00% NSP = 0.00%\n",
      "SI2 = -0.55 SI = -0.55 eGROI = 0.00% eROI = 0.00% eROI2 = 0.00% eROI3 = 0.00% mSpread = 0.0000%\n"
     ]
    },
    {
     "name": "stderr",
     "output_type": "stream",
     "text": [
      "0it [00:00, ?it/s]\n"
     ]
    },
    {
     "name": "stdout",
     "output_type": "stream",
     "text": [
      "Epoch = 15. Time index = 2. Threshold MC = 0.8. Threshold MD = 0.8\n",
      "RD = 18 NZ = 22 NZA = 23 pNZ = 0.002% pNZA = 0.002% AD = 81.82% ADA = 78.26% NO = 1 GSP = 0.00% NSP = 0.00%\n",
      "SI2 = -0.55 SI = -0.55 eGROI = 0.00% eROI = 0.00% eROI2 = 0.00% eROI3 = 0.00% mSpread = 0.0000%\n"
     ]
    },
    {
     "name": "stderr",
     "output_type": "stream",
     "text": [
      "0it [00:00, ?it/s]\n"
     ]
    },
    {
     "name": "stdout",
     "output_type": "stream",
     "text": [
      "Epoch = 15. Time index = 2. Threshold MC = 0.8. Threshold MD = 0.9\n",
      "RD = 0 NZ = 0 NZA = 0 pNZ = 0.000% pNZA = 0.000% AD = 0.00% ADA = 0.00% NO = 1 GSP = 0.00% NSP = 0.00%\n",
      "SI2 = -0.55 SI = -0.55 eGROI = 0.00% eROI = 0.00% eROI2 = 0.00% eROI3 = 0.00% mSpread = 0.0000%\n",
      "\n"
     ]
    },
    {
     "name": "stderr",
     "output_type": "stream",
     "text": [
      "0it [00:00, ?it/s]\n"
     ]
    },
    {
     "name": "stdout",
     "output_type": "stream",
     "text": [
      "Epoch = 15. Time index = 2. Threshold MC = 0.9. Threshold MD = 0.5\n",
      "RD = 0 NZ = 0 NZA = 0 pNZ = 0.000% pNZA = 0.000% AD = 0.00% ADA = 0.00% NO = 1 GSP = 0.00% NSP = 0.00%\n",
      "SI2 = -0.55 SI = -0.55 eGROI = 0.00% eROI = 0.00% eROI2 = 0.00% eROI3 = 0.00% mSpread = 0.0000%\n"
     ]
    },
    {
     "name": "stderr",
     "output_type": "stream",
     "text": [
      "0it [00:00, ?it/s]\n"
     ]
    },
    {
     "name": "stdout",
     "output_type": "stream",
     "text": [
      "Epoch = 15. Time index = 2. Threshold MC = 0.9. Threshold MD = 0.6\n",
      "RD = 0 NZ = 0 NZA = 0 pNZ = 0.000% pNZA = 0.000% AD = 0.00% ADA = 0.00% NO = 1 GSP = 0.00% NSP = 0.00%\n",
      "SI2 = -0.55 SI = -0.55 eGROI = 0.00% eROI = 0.00% eROI2 = 0.00% eROI3 = 0.00% mSpread = 0.0000%\n"
     ]
    },
    {
     "name": "stderr",
     "output_type": "stream",
     "text": [
      "0it [00:00, ?it/s]\n"
     ]
    },
    {
     "name": "stdout",
     "output_type": "stream",
     "text": [
      "Epoch = 15. Time index = 2. Threshold MC = 0.9. Threshold MD = 0.7\n",
      "RD = 0 NZ = 0 NZA = 0 pNZ = 0.000% pNZA = 0.000% AD = 0.00% ADA = 0.00% NO = 1 GSP = 0.00% NSP = 0.00%\n",
      "SI2 = -0.55 SI = -0.55 eGROI = 0.00% eROI = 0.00% eROI2 = 0.00% eROI3 = 0.00% mSpread = 0.0000%\n"
     ]
    },
    {
     "name": "stderr",
     "output_type": "stream",
     "text": [
      "0it [00:00, ?it/s]\n"
     ]
    },
    {
     "name": "stdout",
     "output_type": "stream",
     "text": [
      "Epoch = 15. Time index = 2. Threshold MC = 0.9. Threshold MD = 0.8\n",
      "RD = 0 NZ = 0 NZA = 0 pNZ = 0.000% pNZA = 0.000% AD = 0.00% ADA = 0.00% NO = 1 GSP = 0.00% NSP = 0.00%\n",
      "SI2 = -0.55 SI = -0.55 eGROI = 0.00% eROI = 0.00% eROI2 = 0.00% eROI3 = 0.00% mSpread = 0.0000%\n"
     ]
    },
    {
     "name": "stderr",
     "output_type": "stream",
     "text": [
      "0it [00:00, ?it/s]\n"
     ]
    },
    {
     "name": "stdout",
     "output_type": "stream",
     "text": [
      "Epoch = 15. Time index = 2. Threshold MC = 0.9. Threshold MD = 0.9\n",
      "RD = 0 NZ = 0 NZA = 0 pNZ = 0.000% pNZA = 0.000% AD = 0.00% ADA = 0.00% NO = 1 GSP = 0.00% NSP = 0.00%\n",
      "SI2 = -0.55 SI = -0.55 eGROI = 0.00% eROI = 0.00% eROI2 = 0.00% eROI3 = 0.00% mSpread = 0.0000%\n",
      "\n"
     ]
    },
    {
     "name": "stderr",
     "output_type": "stream",
     "text": [
      "0it [00:00, ?it/s]\n"
     ]
    },
    {
     "name": "stdout",
     "output_type": "stream",
     "text": [
      "Epoch = 15. Time index = 3. Threshold MC = 0.5. Threshold MD = 0.5\n",
      "J_test = 6.333975169969642, J_train = 6.506073481864599, Accuracy=0.5415862519837072\n",
      "RD = 267373 NZ = 513305 NZA = 984770 pNZ = 44.684% pNZA = 85.727% AD = 52.09% ADA = 27.15% NO = 1 GSP = 0.00% NSP = 0.00%\n",
      "SI2 = -0.55 SI = -0.55 eGROI = 0.00% eROI = 0.00% eROI2 = 0.00% eROI3 = 0.00% mSpread = 0.0000%\n"
     ]
    },
    {
     "name": "stderr",
     "output_type": "stream",
     "text": [
      "100%|████████████████████████████████████████████████████████████████████████████████████████████████████████████████████████████████| 12873/12873 [00:02<00:00, 5464.52it/s]\n"
     ]
    },
    {
     "name": "stdout",
     "output_type": "stream",
     "text": [
      "Epoch = 15. Time index = 3. Threshold MC = 0.5. Threshold MD = 0.6\n",
      "RD = 9260 NZ = 13936 NZA = 29056 pNZ = 1.213% pNZA = 2.529% AD = 66.45% ADA = 31.87% NO = 2549 GSP = 60.53% NSP = 41.78%\n",
      "SI2 = -122.95 SI = -336.95 eGROI = 38.55% eROI = -40.91% eROI2 = -12.43% eROI3 = -37.92% mSpread = 0.0312%\n"
     ]
    },
    {
     "name": "stderr",
     "output_type": "stream",
     "text": [
      "100%|████████████████████████████████████████████████████████████████████████████████████████████████████████████████████████████████████| 920/920 [00:00<00:00, 3908.67it/s]\n"
     ]
    },
    {
     "name": "stdout",
     "output_type": "stream",
     "text": [
      "Epoch = 15. Time index = 3. Threshold MC = 0.5. Threshold MD = 0.7\n",
      "RD = 1779 NZ = 2313 NZA = 5156 pNZ = 0.201% pNZA = 0.449% AD = 76.91% ADA = 34.50% NO = 350 GSP = 65.14% NSP = 38.86%\n",
      "SI2 = -14.50 SI = -56.50 eGROI = 4.94% eROI = -8.86% eROI2 = -2.06% eROI3 = -5.56% mSpread = 0.0394%\n"
     ]
    },
    {
     "name": "stderr",
     "output_type": "stream",
     "text": [
      "0it [00:00, ?it/s]\n"
     ]
    },
    {
     "name": "stdout",
     "output_type": "stream",
     "text": [
      "Epoch = 15. Time index = 3. Threshold MC = 0.5. Threshold MD = 0.8\n",
      "RD = 224 NZ = 253 NZA = 586 pNZ = 0.022% pNZA = 0.051% AD = 88.54% ADA = 38.23% NO = 1 GSP = 0.00% NSP = 0.00%\n",
      "SI2 = -0.55 SI = -0.55 eGROI = 0.00% eROI = 0.00% eROI2 = 0.00% eROI3 = 0.00% mSpread = 0.0000%\n"
     ]
    },
    {
     "name": "stderr",
     "output_type": "stream",
     "text": [
      "0it [00:00, ?it/s]\n"
     ]
    },
    {
     "name": "stdout",
     "output_type": "stream",
     "text": [
      "Epoch = 15. Time index = 3. Threshold MC = 0.5. Threshold MD = 0.9\n",
      "RD = 1 NZ = 1 NZA = 1 pNZ = 0.000% pNZA = 0.000% AD = 100.00% ADA = 100.00% NO = 1 GSP = 0.00% NSP = 0.00%\n",
      "SI2 = -0.55 SI = -0.55 eGROI = 0.00% eROI = 0.00% eROI2 = 0.00% eROI3 = 0.00% mSpread = 0.0000%\n",
      "\n"
     ]
    },
    {
     "name": "stderr",
     "output_type": "stream",
     "text": [
      "0it [00:00, ?it/s]\n"
     ]
    },
    {
     "name": "stdout",
     "output_type": "stream",
     "text": [
      "Epoch = 15. Time index = 3. Threshold MC = 0.6. Threshold MD = 0.5\n",
      "RD = 86907 NZ = 163901 NZA = 272761 pNZ = 14.268% pNZA = 23.745% AD = 53.02% ADA = 31.86% NO = 1 GSP = 0.00% NSP = 0.00%\n",
      "SI2 = -0.55 SI = -0.55 eGROI = 0.00% eROI = 0.00% eROI2 = 0.00% eROI3 = 0.00% mSpread = 0.0000%\n"
     ]
    },
    {
     "name": "stderr",
     "output_type": "stream",
     "text": [
      "100%|██████████████████████████████████████████████████████████████████████████████████████████████████████████████████████████████████| 9384/9384 [00:01<00:00, 5486.26it/s]\n"
     ]
    },
    {
     "name": "stdout",
     "output_type": "stream",
     "text": [
      "Epoch = 15. Time index = 3. Threshold MC = 0.6. Threshold MD = 0.6\n",
      "RD = 5267 NZ = 7889 NZA = 14253 pNZ = 0.687% pNZA = 1.241% AD = 66.76% ADA = 36.95% NO = 2093 GSP = 61.68% NSP = 43.24%\n",
      "SI2 = -83.15 SI = -246.15 eGROI = 33.95% eROI = -30.97% eROI2 = -7.91% eROI3 = -28.84% mSpread = 0.0310%\n"
     ]
    },
    {
     "name": "stderr",
     "output_type": "stream",
     "text": [
      "100%|████████████████████████████████████████████████████████████████████████████████████████████████████████████████████████████████████| 842/842 [00:00<00:00, 4020.18it/s]\n"
     ]
    },
    {
     "name": "stdout",
     "output_type": "stream",
     "text": [
      "Epoch = 15. Time index = 3. Threshold MC = 0.6. Threshold MD = 0.7\n",
      "RD = 865 NZ = 1147 NZA = 2168 pNZ = 0.100% pNZA = 0.189% AD = 75.41% ADA = 39.90% NO = 316 GSP = 63.29% NSP = 37.97%\n",
      "SI2 = -17.80 SI = -53.80 eGROI = 4.09% eROI = -8.28% eROI2 = -2.23% eROI3 = -5.39% mSpread = 0.0392%\n"
     ]
    },
    {
     "name": "stderr",
     "output_type": "stream",
     "text": [
      "0it [00:00, ?it/s]\n"
     ]
    },
    {
     "name": "stdout",
     "output_type": "stream",
     "text": [
      "Epoch = 15. Time index = 3. Threshold MC = 0.6. Threshold MD = 0.8\n",
      "RD = 129 NZ = 141 NZA = 231 pNZ = 0.012% pNZA = 0.020% AD = 91.49% ADA = 55.84% NO = 1 GSP = 0.00% NSP = 0.00%\n",
      "SI2 = -0.55 SI = -0.55 eGROI = 0.00% eROI = 0.00% eROI2 = 0.00% eROI3 = 0.00% mSpread = 0.0000%\n"
     ]
    },
    {
     "name": "stderr",
     "output_type": "stream",
     "text": [
      "0it [00:00, ?it/s]\n"
     ]
    },
    {
     "name": "stdout",
     "output_type": "stream",
     "text": [
      "Epoch = 15. Time index = 3. Threshold MC = 0.6. Threshold MD = 0.9\n",
      "RD = 1 NZ = 1 NZA = 1 pNZ = 0.000% pNZA = 0.000% AD = 100.00% ADA = 100.00% NO = 1 GSP = 0.00% NSP = 0.00%\n",
      "SI2 = -0.55 SI = -0.55 eGROI = 0.00% eROI = 0.00% eROI2 = 0.00% eROI3 = 0.00% mSpread = 0.0000%\n",
      "\n"
     ]
    },
    {
     "name": "stderr",
     "output_type": "stream",
     "text": [
      "100%|██████████████████████████████████████████████████████████████████████████████████████████████████████████████████████████████████| 8985/8985 [00:01<00:00, 5004.72it/s]\n"
     ]
    },
    {
     "name": "stdout",
     "output_type": "stream",
     "text": [
      "Epoch = 15. Time index = 3. Threshold MC = 0.7. Threshold MD = 0.5\n",
      "RD = 5405 NZ = 9622 NZA = 13390 pNZ = 0.838% pNZA = 1.166% AD = 56.17% ADA = 40.37% NO = 1774 GSP = 55.86% NSP = 47.52%\n",
      "SI2 = -104.70 SI = -132.70 eGROI = 11.54% eROI = -27.19% eROI2 = -23.94% eROI3 = -41.68% mSpread = 0.0218%\n"
     ]
    },
    {
     "name": "stderr",
     "output_type": "stream",
     "text": [
      "100%|██████████████████████████████████████████████████████████████████████████████████████████████████████████████████████████████████| 2062/2062 [00:00<00:00, 3608.17it/s]\n"
     ]
    },
    {
     "name": "stdout",
     "output_type": "stream",
     "text": [
      "Epoch = 15. Time index = 3. Threshold MC = 0.7. Threshold MD = 0.6\n",
      "RD = 1292 NZ = 1960 NZA = 2864 pNZ = 0.171% pNZA = 0.249% AD = 65.92% ADA = 45.11% NO = 659 GSP = 63.13% NSP = 50.38%\n",
      "SI2 = -6.45 SI = -30.45 eGROI = 12.76% eROI = -4.17% eROI2 = -0.42% eROI3 = -7.01% mSpread = 0.0257%\n"
     ]
    },
    {
     "name": "stderr",
     "output_type": "stream",
     "text": [
      "100%|████████████████████████████████████████████████████████████████████████████████████████████████████████████████████████████████████| 162/162 [00:00<00:00, 4057.74it/s]\n"
     ]
    },
    {
     "name": "stdout",
     "output_type": "stream",
     "text": [
      "Epoch = 15. Time index = 3. Threshold MC = 0.7. Threshold MD = 0.7\n",
      "RD = 268 NZ = 346 NZA = 522 pNZ = 0.030% pNZA = 0.045% AD = 77.46% ADA = 51.34% NO = 82 GSP = 58.54% NSP = 35.37%\n",
      "SI2 = -6.10 SI = -16.10 eGROI = 0.67% eROI = -2.46% eROI2 = -0.97% eROI3 = -1.79% mSpread = 0.0382%\n"
     ]
    },
    {
     "name": "stderr",
     "output_type": "stream",
     "text": [
      "0it [00:00, ?it/s]\n"
     ]
    },
    {
     "name": "stdout",
     "output_type": "stream",
     "text": [
      "Epoch = 15. Time index = 3. Threshold MC = 0.7. Threshold MD = 0.8\n",
      "RD = 78 NZ = 84 NZA = 102 pNZ = 0.007% pNZA = 0.009% AD = 92.86% ADA = 76.47% NO = 1 GSP = 0.00% NSP = 0.00%\n",
      "SI2 = -0.55 SI = -0.55 eGROI = 0.00% eROI = 0.00% eROI2 = 0.00% eROI3 = 0.00% mSpread = 0.0000%\n"
     ]
    },
    {
     "name": "stderr",
     "output_type": "stream",
     "text": [
      "0it [00:00, ?it/s]\n"
     ]
    },
    {
     "name": "stdout",
     "output_type": "stream",
     "text": [
      "Epoch = 15. Time index = 3. Threshold MC = 0.7. Threshold MD = 0.9\n",
      "RD = 0 NZ = 0 NZA = 0 pNZ = 0.000% pNZA = 0.000% AD = 0.00% ADA = 0.00% NO = 1 GSP = 0.00% NSP = 0.00%\n",
      "SI2 = -0.55 SI = -0.55 eGROI = 0.00% eROI = 0.00% eROI2 = 0.00% eROI3 = 0.00% mSpread = 0.0000%\n",
      "\n"
     ]
    },
    {
     "name": "stderr",
     "output_type": "stream",
     "text": [
      "100%|████████████████████████████████████████████████████████████████████████████████████████████████████████████████████████████████████| 505/505 [00:00<00:00, 4150.54it/s]\n"
     ]
    },
    {
     "name": "stdout",
     "output_type": "stream",
     "text": [
      "Epoch = 15. Time index = 3. Threshold MC = 0.8. Threshold MD = 0.5\n",
      "RD = 313 NZ = 527 NZA = 662 pNZ = 0.046% pNZA = 0.058% AD = 59.39% ADA = 47.28% NO = 302 GSP = 56.29% NSP = 50.00%\n",
      "SI2 = -15.10 SI = -15.10 eGROI = 5.51% eROI = -0.70% eROI2 = -0.53% eROI3 = -3.55% mSpread = 0.0206%\n"
     ]
    },
    {
     "name": "stderr",
     "output_type": "stream",
     "text": [
      "100%|████████████████████████████████████████████████████████████████████████████████████████████████████████████████████████████████████| 112/112 [00:00<00:00, 2880.05it/s]\n"
     ]
    },
    {
     "name": "stdout",
     "output_type": "stream",
     "text": [
      "Epoch = 15. Time index = 3. Threshold MC = 0.8. Threshold MD = 0.6\n",
      "RD = 108 NZ = 150 NZA = 195 pNZ = 0.013% pNZA = 0.017% AD = 72.00% ADA = 55.38% NO = 81 GSP = 58.02% NSP = 50.62%\n",
      "SI2 = -0.55 SI = -3.55 eGROI = 1.90% eROI = 0.06% eROI2 = 0.28% eROI3 = -0.53% mSpread = 0.0227%\n"
     ]
    },
    {
     "name": "stderr",
     "output_type": "stream",
     "text": [
      "0it [00:00, ?it/s]\n"
     ]
    },
    {
     "name": "stdout",
     "output_type": "stream",
     "text": [
      "Epoch = 15. Time index = 3. Threshold MC = 0.8. Threshold MD = 0.7\n",
      "RD = 30 NZ = 35 NZA = 46 pNZ = 0.003% pNZA = 0.004% AD = 85.71% ADA = 65.22% NO = 1 GSP = 0.00% NSP = 0.00%\n",
      "SI2 = -0.55 SI = -0.55 eGROI = 0.00% eROI = 0.00% eROI2 = 0.00% eROI3 = 0.00% mSpread = 0.0000%\n"
     ]
    },
    {
     "name": "stderr",
     "output_type": "stream",
     "text": [
      "0it [00:00, ?it/s]\n"
     ]
    },
    {
     "name": "stdout",
     "output_type": "stream",
     "text": [
      "Epoch = 15. Time index = 3. Threshold MC = 0.8. Threshold MD = 0.8\n",
      "RD = 11 NZ = 14 NZA = 15 pNZ = 0.001% pNZA = 0.001% AD = 78.57% ADA = 73.33% NO = 1 GSP = 0.00% NSP = 0.00%\n",
      "SI2 = -0.55 SI = -0.55 eGROI = 0.00% eROI = 0.00% eROI2 = 0.00% eROI3 = 0.00% mSpread = 0.0000%\n"
     ]
    },
    {
     "name": "stderr",
     "output_type": "stream",
     "text": [
      "0it [00:00, ?it/s]\n"
     ]
    },
    {
     "name": "stdout",
     "output_type": "stream",
     "text": [
      "Epoch = 15. Time index = 3. Threshold MC = 0.8. Threshold MD = 0.9\n",
      "RD = 0 NZ = 0 NZA = 0 pNZ = 0.000% pNZA = 0.000% AD = 0.00% ADA = 0.00% NO = 1 GSP = 0.00% NSP = 0.00%\n",
      "SI2 = -0.55 SI = -0.55 eGROI = 0.00% eROI = 0.00% eROI2 = 0.00% eROI3 = 0.00% mSpread = 0.0000%\n",
      "\n"
     ]
    },
    {
     "name": "stderr",
     "output_type": "stream",
     "text": [
      "0it [00:00, ?it/s]\n"
     ]
    },
    {
     "name": "stdout",
     "output_type": "stream",
     "text": [
      "Epoch = 15. Time index = 3. Threshold MC = 0.9. Threshold MD = 0.5\n",
      "RD = 0 NZ = 0 NZA = 0 pNZ = 0.000% pNZA = 0.000% AD = 0.00% ADA = 0.00% NO = 1 GSP = 0.00% NSP = 0.00%\n",
      "SI2 = -0.55 SI = -0.55 eGROI = 0.00% eROI = 0.00% eROI2 = 0.00% eROI3 = 0.00% mSpread = 0.0000%\n"
     ]
    },
    {
     "name": "stderr",
     "output_type": "stream",
     "text": [
      "0it [00:00, ?it/s]\n"
     ]
    },
    {
     "name": "stdout",
     "output_type": "stream",
     "text": [
      "Epoch = 15. Time index = 3. Threshold MC = 0.9. Threshold MD = 0.6\n",
      "RD = 0 NZ = 0 NZA = 0 pNZ = 0.000% pNZA = 0.000% AD = 0.00% ADA = 0.00% NO = 1 GSP = 0.00% NSP = 0.00%\n",
      "SI2 = -0.55 SI = -0.55 eGROI = 0.00% eROI = 0.00% eROI2 = 0.00% eROI3 = 0.00% mSpread = 0.0000%\n"
     ]
    },
    {
     "name": "stderr",
     "output_type": "stream",
     "text": [
      "0it [00:00, ?it/s]\n"
     ]
    },
    {
     "name": "stdout",
     "output_type": "stream",
     "text": [
      "Epoch = 15. Time index = 3. Threshold MC = 0.9. Threshold MD = 0.7\n",
      "RD = 0 NZ = 0 NZA = 0 pNZ = 0.000% pNZA = 0.000% AD = 0.00% ADA = 0.00% NO = 1 GSP = 0.00% NSP = 0.00%\n",
      "SI2 = -0.55 SI = -0.55 eGROI = 0.00% eROI = 0.00% eROI2 = 0.00% eROI3 = 0.00% mSpread = 0.0000%\n"
     ]
    },
    {
     "name": "stderr",
     "output_type": "stream",
     "text": [
      "0it [00:00, ?it/s]\n"
     ]
    },
    {
     "name": "stdout",
     "output_type": "stream",
     "text": [
      "Epoch = 15. Time index = 3. Threshold MC = 0.9. Threshold MD = 0.8\n",
      "RD = 0 NZ = 0 NZA = 0 pNZ = 0.000% pNZA = 0.000% AD = 0.00% ADA = 0.00% NO = 1 GSP = 0.00% NSP = 0.00%\n",
      "SI2 = -0.55 SI = -0.55 eGROI = 0.00% eROI = 0.00% eROI2 = 0.00% eROI3 = 0.00% mSpread = 0.0000%\n"
     ]
    },
    {
     "name": "stderr",
     "output_type": "stream",
     "text": [
      "0it [00:00, ?it/s]\n"
     ]
    },
    {
     "name": "stdout",
     "output_type": "stream",
     "text": [
      "Epoch = 15. Time index = 3. Threshold MC = 0.9. Threshold MD = 0.9\n",
      "RD = 0 NZ = 0 NZA = 0 pNZ = 0.000% pNZA = 0.000% AD = 0.00% ADA = 0.00% NO = 1 GSP = 0.00% NSP = 0.00%\n",
      "SI2 = -0.55 SI = -0.55 eGROI = 0.00% eROI = 0.00% eROI2 = 0.00% eROI3 = 0.00% mSpread = 0.0000%\n",
      "\n",
      "Best eGROI = 38.55 t_index 3 thr_mc 0.5 thr_md 0.6 epoch 15 in 2549\n",
      "Best eROI = 1.90 t_index 1 thr_mc 0.8 thr_md 0.5 epoch 15 in 254\n",
      "Best eROI.5 = 25.80 t_index 3 thr_mc 0.5 thr_md 0.6 epoch 15 in 2549\n",
      "Best eROI1 = 13.06 t_index 3 thr_mc 0.5 thr_md 0.6 epoch 15 in 2549\n",
      "Best eROI1.5 = 3.03 t_index 0 thr_mc 0.6 thr_md 0.6 epoch 15 in 1140\n",
      "Best eROI2 = 1.72 t_index 1 thr_mc 0.8 thr_md 0.5 epoch 15 in 254\n",
      "Best eROI3 = 0.56 t_index 0 thr_mc 0.8 thr_md 0.6 epoch 15 in 31\n",
      "Best eROI4 = 0.25 t_index 0 thr_mc 0.8 thr_md 0.6 epoch 15 in 31\n",
      "Best eROI5 = 0.00 t_index 0 thr_mc 0.5 thr_md 0.5 epoch 15 in 1\n",
      "Best SI = 2.95 t_index 0 thr_mc 0.8 thr_md 0.6 epoch 15 in 31\n",
      "Best SI.5 = 117.25 t_index 0 thr_mc 0.5 thr_md 0.6 epoch 15 in 2025\n",
      "Best SI1 = 70.25 t_index 0 thr_mc 0.5 thr_md 0.6 epoch 15 in 2025\n",
      "Best SI1.5 = 12.25 t_index 0 thr_mc 0.5 thr_md 0.6 epoch 15 in 2025\n",
      "Best SI2 = 3.95 t_index 0 thr_mc 0.8 thr_md 0.6 epoch 15 in 31\n",
      "Best SI3 = 2.95 t_index 0 thr_mc 0.8 thr_md 0.6 epoch 15 in 31\n",
      "Best SI4 = -0.55 t_index 0 thr_mc 0.5 thr_md 0.5 epoch 15 in 1\n",
      "Best SI5 = -0.55 t_index 0 thr_mc 0.5 thr_md 0.5 epoch 15 in 1\n",
      "\n",
      "The very best:\n",
      "Best eGROI = 39.89 t_index 3 thr_mc 0.5 thr_md 0.6 epoch 12 in 2426\n",
      "Best eROI = 3.37 t_index 3 thr_mc 0.8 thr_md 0.5 epoch 8 in 141\n",
      "Best eROI.5 = 27.76 t_index 3 thr_mc 0.5 thr_md 0.6 epoch 12 in 2426\n",
      "Best eROI1 = 15.63 t_index 3 thr_mc 0.5 thr_md 0.6 epoch 12 in 2426\n",
      "Best eROI1.5 = 5.80 t_index 3 thr_mc 0.6 thr_md 0.6 epoch 11 in 1839\n",
      "Best eROI2 = 3.16 t_index 3 thr_mc 0.8 thr_md 0.5 epoch 8 in 141\n",
      "Best eROI3 = 1.75 t_index 3 thr_mc 0.8 thr_md 0.5 epoch 8 in 141\n",
      "Best eROI4 = 0.50 t_index 3 thr_mc 0.8 thr_md 0.6 epoch 10 in 14\n",
      "Best eROI5 = 0.36 t_index 3 thr_mc 0.8 thr_md 0.6 epoch 10 in 14\n",
      "Best SI = 4.45 t_index 3 thr_mc 0.8 thr_md 0.5 epoch 8 in 141\n",
      "Best SI.5 = 128.70 t_index 3 thr_mc 0.5 thr_md 0.6 epoch 12 in 2426\n",
      "Best SI1 = 73.85 t_index 0 thr_mc 0.5 thr_md 0.6 epoch 14 in 1933\n",
      "Best SI1.5 = 16.90 t_index 1 thr_mc 0.7 thr_md 0.6 epoch 13 in 342\n",
      "Best SI2 = 6.90 t_index 1 thr_mc 0.7 thr_md 0.6 epoch 13 in 342\n",
      "Best SI3 = 4.95 t_index 3 thr_mc 0.8 thr_md 0.6 epoch 13 in 51\n",
      "Best SI4 = 1.95 t_index 3 thr_mc 0.8 thr_md 0.6 epoch 13 in 51\n",
      "Best SI5 = 1.05 t_index 0 thr_mc 0.5 thr_md 0.7 epoch 13 in 9\n",
      "Time=82.51 secs\n",
      "INFO:tensorflow:Restoring parameters from ../../RNN/weights/000520/000016/000016\n",
      "Parameters loaded. Epoch 16\n",
      "Epoch 16 of 34. Getting output...\n"
     ]
    },
    {
     "name": "stderr",
     "output_type": "stream",
     "text": [
      "100%|████████████████████████████████████████████████████████████████████████████████████████████████████████████████████████████████████████| 23/23 [01:36<00:00,  4.27s/it]\n"
     ]
    },
    {
     "name": "stdout",
     "output_type": "stream",
     "text": [
      "Getting results\n",
      "Epoch 16, J_train = 6.504766844190278, J_test = 6.332911263341489\n"
     ]
    },
    {
     "name": "stderr",
     "output_type": "stream",
     "text": [
      "0it [00:00, ?it/s]\n"
     ]
    },
    {
     "name": "stdout",
     "output_type": "stream",
     "text": [
      "Epoch = 16. Time index = 0. Threshold MC = 0.5. Threshold MD = 0.5\n",
      "J_test = 6.332911263341489, J_train = 6.504766844190278, Accuracy=0.5474692552577491\n",
      "RD = 264218 NZ = 508046 NZA = 967494 pNZ = 44.227% pNZA = 84.223% AD = 52.01% ADA = 27.31% NO = 1 GSP = 0.00% NSP = 0.00%\n",
      "SI2 = -0.55 SI = -0.55 eGROI = 0.00% eROI = 0.00% eROI2 = 0.00% eROI3 = 0.00% mSpread = 0.0000%\n"
     ]
    },
    {
     "name": "stderr",
     "output_type": "stream",
     "text": [
      "100%|██████████████████████████████████████████████████████████████████████████████████████████████████████████████████████████████████| 9258/9258 [00:01<00:00, 5145.58it/s]\n"
     ]
    },
    {
     "name": "stdout",
     "output_type": "stream",
     "text": [
      "Epoch = 16. Time index = 0. Threshold MC = 0.5. Threshold MD = 0.6\n",
      "RD = 8704 NZ = 13254 NZA = 28459 pNZ = 1.154% pNZA = 2.477% AD = 65.67% ADA = 30.58% NO = 2117 GSP = 62.73% NSP = 42.09%\n",
      "SI2 = -77.35 SI = -273.35 eGROI = 33.09% eROI = -35.97% eROI2 = -9.25% eROI3 = -30.42% mSpread = 0.0326%\n"
     ]
    },
    {
     "name": "stderr",
     "output_type": "stream",
     "text": [
      "100%|████████████████████████████████████████████████████████████████████████████████████████████████████████████████████████████████████| 142/142 [00:00<00:00, 2686.62it/s]\n"
     ]
    },
    {
     "name": "stdout",
     "output_type": "stream",
     "text": [
      "Epoch = 16. Time index = 0. Threshold MC = 0.5. Threshold MD = 0.7\n",
      "RD = 971 NZ = 1195 NZA = 2415 pNZ = 0.104% pNZA = 0.210% AD = 81.26% ADA = 40.21% NO = 101 GSP = 69.31% NSP = 30.69%\n",
      "SI2 = -4.55 SI = -24.55 eGROI = 2.20% eROI = -1.64% eROI2 = 0.18% eROI3 = -0.83% mSpread = 0.0381%\n"
     ]
    },
    {
     "name": "stderr",
     "output_type": "stream",
     "text": [
      "0it [00:00, ?it/s]\n"
     ]
    },
    {
     "name": "stdout",
     "output_type": "stream",
     "text": [
      "Epoch = 16. Time index = 0. Threshold MC = 0.5. Threshold MD = 0.8\n",
      "RD = 77 NZ = 82 NZA = 127 pNZ = 0.007% pNZA = 0.011% AD = 93.90% ADA = 60.63% NO = 1 GSP = 0.00% NSP = 0.00%\n",
      "SI2 = -0.55 SI = -0.55 eGROI = 0.00% eROI = 0.00% eROI2 = 0.00% eROI3 = 0.00% mSpread = 0.0000%\n"
     ]
    },
    {
     "name": "stderr",
     "output_type": "stream",
     "text": [
      "0it [00:00, ?it/s]\n"
     ]
    },
    {
     "name": "stdout",
     "output_type": "stream",
     "text": [
      "Epoch = 16. Time index = 0. Threshold MC = 0.5. Threshold MD = 0.9\n",
      "RD = 0 NZ = 0 NZA = 0 pNZ = 0.000% pNZA = 0.000% AD = 0.00% ADA = 0.00% NO = 1 GSP = 0.00% NSP = 0.00%\n",
      "SI2 = -0.55 SI = -0.55 eGROI = 0.00% eROI = 0.00% eROI2 = 0.00% eROI3 = 0.00% mSpread = 0.0000%\n",
      "\n"
     ]
    },
    {
     "name": "stderr",
     "output_type": "stream",
     "text": [
      "0it [00:00, ?it/s]\n"
     ]
    },
    {
     "name": "stdout",
     "output_type": "stream",
     "text": [
      "Epoch = 16. Time index = 0. Threshold MC = 0.6. Threshold MD = 0.5\n",
      "RD = 87858 NZ = 165901 NZA = 272945 pNZ = 14.442% pNZA = 23.761% AD = 52.96% ADA = 32.19% NO = 1 GSP = 0.00% NSP = 0.00%\n",
      "SI2 = -0.55 SI = -0.55 eGROI = 0.00% eROI = 0.00% eROI2 = 0.00% eROI3 = 0.00% mSpread = 0.0000%\n"
     ]
    },
    {
     "name": "stderr",
     "output_type": "stream",
     "text": [
      "100%|██████████████████████████████████████████████████████████████████████████████████████████████████████████████████████████████████| 4124/4124 [00:00<00:00, 4940.14it/s]\n"
     ]
    },
    {
     "name": "stdout",
     "output_type": "stream",
     "text": [
      "Epoch = 16. Time index = 0. Threshold MC = 0.6. Threshold MD = 0.6\n",
      "RD = 3704 NZ = 5609 NZA = 9745 pNZ = 0.488% pNZA = 0.848% AD = 66.04% ADA = 38.01% NO = 1240 GSP = 63.39% NSP = 45.48%\n",
      "SI2 = -41.00 SI = -118.00 eGROI = 20.41% eROI = -16.13% eROI2 = -4.39% eROI3 = -16.79% mSpread = 0.0295%\n"
     ]
    },
    {
     "name": "stderr",
     "output_type": "stream",
     "text": [
      "100%|██████████████████████████████████████████████████████████████████████████████████████████████████████████████████████████████████████| 77/77 [00:00<00:00, 3085.87it/s]\n"
     ]
    },
    {
     "name": "stdout",
     "output_type": "stream",
     "text": [
      "Epoch = 16. Time index = 0. Threshold MC = 0.6. Threshold MD = 0.7\n",
      "RD = 501 NZ = 596 NZA = 965 pNZ = 0.052% pNZA = 0.084% AD = 84.06% ADA = 51.92% NO = 59 GSP = 67.80% NSP = 32.20%\n",
      "SI2 = -4.45 SI = -13.45 eGROI = 0.30% eROI = -1.88% eROI2 = -0.88% eROI3 = -1.47% mSpread = 0.0370%\n"
     ]
    },
    {
     "name": "stderr",
     "output_type": "stream",
     "text": [
      "0it [00:00, ?it/s]\n"
     ]
    },
    {
     "name": "stdout",
     "output_type": "stream",
     "text": [
      "Epoch = 16. Time index = 0. Threshold MC = 0.6. Threshold MD = 0.8\n",
      "RD = 56 NZ = 59 NZA = 81 pNZ = 0.005% pNZA = 0.007% AD = 94.92% ADA = 69.14% NO = 1 GSP = 0.00% NSP = 0.00%\n",
      "SI2 = -0.55 SI = -0.55 eGROI = 0.00% eROI = 0.00% eROI2 = 0.00% eROI3 = 0.00% mSpread = 0.0000%\n"
     ]
    },
    {
     "name": "stderr",
     "output_type": "stream",
     "text": [
      "0it [00:00, ?it/s]\n"
     ]
    },
    {
     "name": "stdout",
     "output_type": "stream",
     "text": [
      "Epoch = 16. Time index = 0. Threshold MC = 0.6. Threshold MD = 0.9\n",
      "RD = 0 NZ = 0 NZA = 0 pNZ = 0.000% pNZA = 0.000% AD = 0.00% ADA = 0.00% NO = 1 GSP = 0.00% NSP = 0.00%\n",
      "SI2 = -0.55 SI = -0.55 eGROI = 0.00% eROI = 0.00% eROI2 = 0.00% eROI3 = 0.00% mSpread = 0.0000%\n",
      "\n"
     ]
    },
    {
     "name": "stderr",
     "output_type": "stream",
     "text": [
      "100%|████████████████████████████████████████████████████████████████████████████████████████████████████████████████████████████████| 12397/12397 [00:02<00:00, 5289.86it/s]\n"
     ]
    },
    {
     "name": "stdout",
     "output_type": "stream",
     "text": [
      "Epoch = 16. Time index = 0. Threshold MC = 0.7. Threshold MD = 0.5\n",
      "RD = 8701 NZ = 16016 NZA = 22522 pNZ = 1.394% pNZA = 1.961% AD = 54.33% ADA = 38.63% NO = 2481 GSP = 53.37% NSP = 45.87%\n",
      "SI2 = -208.55 SI = -226.55 eGROI = 8.98% eROI = -39.35% eROI2 = -40.64% eROI3 = -65.45% mSpread = 0.0195%\n"
     ]
    },
    {
     "name": "stderr",
     "output_type": "stream",
     "text": [
      "100%|████████████████████████████████████████████████████████████████████████████████████████████████████████████████████████████████████| 966/966 [00:00<00:00, 4248.12it/s]\n"
     ]
    },
    {
     "name": "stdout",
     "output_type": "stream",
     "text": [
      "Epoch = 16. Time index = 0. Threshold MC = 0.7. Threshold MD = 0.6\n",
      "RD = 929 NZ = 1399 NZA = 1972 pNZ = 0.122% pNZA = 0.172% AD = 66.40% ADA = 47.11% NO = 433 GSP = 61.43% NSP = 52.19%\n",
      "SI2 = -5.15 SI = -12.15 eGROI = 7.26% eROI = -2.18% eROI2 = -1.40% eROI3 = -5.73% mSpread = 0.0218%\n"
     ]
    },
    {
     "name": "stderr",
     "output_type": "stream",
     "text": [
      "0it [00:00, ?it/s]\n"
     ]
    },
    {
     "name": "stdout",
     "output_type": "stream",
     "text": [
      "Epoch = 16. Time index = 0. Threshold MC = 0.7. Threshold MD = 0.7\n",
      "RD = 113 NZ = 136 NZA = 174 pNZ = 0.012% pNZA = 0.015% AD = 83.09% ADA = 64.94% NO = 1 GSP = 0.00% NSP = 0.00%\n",
      "SI2 = -0.55 SI = -0.55 eGROI = 0.00% eROI = 0.00% eROI2 = 0.00% eROI3 = 0.00% mSpread = 0.0000%\n"
     ]
    },
    {
     "name": "stderr",
     "output_type": "stream",
     "text": [
      "0it [00:00, ?it/s]\n"
     ]
    },
    {
     "name": "stdout",
     "output_type": "stream",
     "text": [
      "Epoch = 16. Time index = 0. Threshold MC = 0.7. Threshold MD = 0.8\n",
      "RD = 18 NZ = 18 NZA = 22 pNZ = 0.002% pNZA = 0.002% AD = 100.00% ADA = 81.82% NO = 1 GSP = 0.00% NSP = 0.00%\n",
      "SI2 = -0.55 SI = -0.55 eGROI = 0.00% eROI = 0.00% eROI2 = 0.00% eROI3 = 0.00% mSpread = 0.0000%\n"
     ]
    },
    {
     "name": "stderr",
     "output_type": "stream",
     "text": [
      "0it [00:00, ?it/s]\n"
     ]
    },
    {
     "name": "stdout",
     "output_type": "stream",
     "text": [
      "Epoch = 16. Time index = 0. Threshold MC = 0.7. Threshold MD = 0.9\n",
      "RD = 0 NZ = 0 NZA = 0 pNZ = 0.000% pNZA = 0.000% AD = 0.00% ADA = 0.00% NO = 1 GSP = 0.00% NSP = 0.00%\n",
      "SI2 = -0.55 SI = -0.55 eGROI = 0.00% eROI = 0.00% eROI2 = 0.00% eROI3 = 0.00% mSpread = 0.0000%\n",
      "\n"
     ]
    },
    {
     "name": "stderr",
     "output_type": "stream",
     "text": [
      "100%|████████████████████████████████████████████████████████████████████████████████████████████████████████████████████████████████████| 559/559 [00:00<00:00, 4032.28it/s]\n"
     ]
    },
    {
     "name": "stdout",
     "output_type": "stream",
     "text": [
      "Epoch = 16. Time index = 0. Threshold MC = 0.8. Threshold MD = 0.5\n",
      "RD = 413 NZ = 696 NZA = 878 pNZ = 0.061% pNZA = 0.076% AD = 59.34% ADA = 47.04% NO = 300 GSP = 56.33% NSP = 53.00%\n",
      "SI2 = -8.00 SI = -6.00 eGROI = 6.72% eROI = 1.03% eROI2 = 0.72% eROI3 = -2.28% mSpread = 0.0189%\n"
     ]
    },
    {
     "name": "stderr",
     "output_type": "stream",
     "text": [
      "100%|██████████████████████████████████████████████████████████████████████████████████████████████████████████████████████████████████████| 52/52 [00:00<00:00, 2171.22it/s]\n"
     ]
    },
    {
     "name": "stdout",
     "output_type": "stream",
     "text": [
      "Epoch = 16. Time index = 0. Threshold MC = 0.8. Threshold MD = 0.6\n",
      "RD = 75 NZ = 108 NZA = 146 pNZ = 0.009% pNZA = 0.013% AD = 69.44% ADA = 51.37% NO = 49 GSP = 65.31% NSP = 61.22%\n",
      "SI2 = 4.05 SI = 3.05 eGROI = 1.71% eROI = 0.60% eROI2 = 0.73% eROI3 = 0.24% mSpread = 0.0225%\n"
     ]
    },
    {
     "name": "stderr",
     "output_type": "stream",
     "text": [
      "0it [00:00, ?it/s]\n"
     ]
    },
    {
     "name": "stdout",
     "output_type": "stream",
     "text": [
      "Epoch = 16. Time index = 0. Threshold MC = 0.8. Threshold MD = 0.7\n",
      "RD = 11 NZ = 13 NZA = 16 pNZ = 0.001% pNZA = 0.001% AD = 84.62% ADA = 68.75% NO = 1 GSP = 0.00% NSP = 0.00%\n",
      "SI2 = -0.55 SI = -0.55 eGROI = 0.00% eROI = 0.00% eROI2 = 0.00% eROI3 = 0.00% mSpread = 0.0000%\n"
     ]
    },
    {
     "name": "stderr",
     "output_type": "stream",
     "text": [
      "0it [00:00, ?it/s]\n"
     ]
    },
    {
     "name": "stdout",
     "output_type": "stream",
     "text": [
      "Epoch = 16. Time index = 0. Threshold MC = 0.8. Threshold MD = 0.8\n",
      "RD = 0 NZ = 0 NZA = 0 pNZ = 0.000% pNZA = 0.000% AD = 0.00% ADA = 0.00% NO = 1 GSP = 0.00% NSP = 0.00%\n",
      "SI2 = -0.55 SI = -0.55 eGROI = 0.00% eROI = 0.00% eROI2 = 0.00% eROI3 = 0.00% mSpread = 0.0000%\n"
     ]
    },
    {
     "name": "stderr",
     "output_type": "stream",
     "text": [
      "0it [00:00, ?it/s]\n"
     ]
    },
    {
     "name": "stdout",
     "output_type": "stream",
     "text": [
      "Epoch = 16. Time index = 0. Threshold MC = 0.8. Threshold MD = 0.9\n",
      "RD = 0 NZ = 0 NZA = 0 pNZ = 0.000% pNZA = 0.000% AD = 0.00% ADA = 0.00% NO = 1 GSP = 0.00% NSP = 0.00%\n",
      "SI2 = -0.55 SI = -0.55 eGROI = 0.00% eROI = 0.00% eROI2 = 0.00% eROI3 = 0.00% mSpread = 0.0000%\n",
      "\n"
     ]
    },
    {
     "name": "stderr",
     "output_type": "stream",
     "text": [
      "0it [00:00, ?it/s]\n"
     ]
    },
    {
     "name": "stdout",
     "output_type": "stream",
     "text": [
      "Epoch = 16. Time index = 0. Threshold MC = 0.9. Threshold MD = 0.5\n",
      "RD = 0 NZ = 0 NZA = 0 pNZ = 0.000% pNZA = 0.000% AD = 0.00% ADA = 0.00% NO = 1 GSP = 0.00% NSP = 0.00%\n",
      "SI2 = -0.55 SI = -0.55 eGROI = 0.00% eROI = 0.00% eROI2 = 0.00% eROI3 = 0.00% mSpread = 0.0000%\n"
     ]
    },
    {
     "name": "stderr",
     "output_type": "stream",
     "text": [
      "0it [00:00, ?it/s]\n"
     ]
    },
    {
     "name": "stdout",
     "output_type": "stream",
     "text": [
      "Epoch = 16. Time index = 0. Threshold MC = 0.9. Threshold MD = 0.6\n",
      "RD = 0 NZ = 0 NZA = 0 pNZ = 0.000% pNZA = 0.000% AD = 0.00% ADA = 0.00% NO = 1 GSP = 0.00% NSP = 0.00%\n",
      "SI2 = -0.55 SI = -0.55 eGROI = 0.00% eROI = 0.00% eROI2 = 0.00% eROI3 = 0.00% mSpread = 0.0000%\n"
     ]
    },
    {
     "name": "stderr",
     "output_type": "stream",
     "text": [
      "0it [00:00, ?it/s]\n"
     ]
    },
    {
     "name": "stdout",
     "output_type": "stream",
     "text": [
      "Epoch = 16. Time index = 0. Threshold MC = 0.9. Threshold MD = 0.7\n",
      "RD = 0 NZ = 0 NZA = 0 pNZ = 0.000% pNZA = 0.000% AD = 0.00% ADA = 0.00% NO = 1 GSP = 0.00% NSP = 0.00%\n",
      "SI2 = -0.55 SI = -0.55 eGROI = 0.00% eROI = 0.00% eROI2 = 0.00% eROI3 = 0.00% mSpread = 0.0000%\n"
     ]
    },
    {
     "name": "stderr",
     "output_type": "stream",
     "text": [
      "0it [00:00, ?it/s]\n"
     ]
    },
    {
     "name": "stdout",
     "output_type": "stream",
     "text": [
      "Epoch = 16. Time index = 0. Threshold MC = 0.9. Threshold MD = 0.8\n",
      "RD = 0 NZ = 0 NZA = 0 pNZ = 0.000% pNZA = 0.000% AD = 0.00% ADA = 0.00% NO = 1 GSP = 0.00% NSP = 0.00%\n",
      "SI2 = -0.55 SI = -0.55 eGROI = 0.00% eROI = 0.00% eROI2 = 0.00% eROI3 = 0.00% mSpread = 0.0000%\n"
     ]
    },
    {
     "name": "stderr",
     "output_type": "stream",
     "text": [
      "0it [00:00, ?it/s]\n"
     ]
    },
    {
     "name": "stdout",
     "output_type": "stream",
     "text": [
      "Epoch = 16. Time index = 0. Threshold MC = 0.9. Threshold MD = 0.9\n",
      "RD = 0 NZ = 0 NZA = 0 pNZ = 0.000% pNZA = 0.000% AD = 0.00% ADA = 0.00% NO = 1 GSP = 0.00% NSP = 0.00%\n",
      "SI2 = -0.55 SI = -0.55 eGROI = 0.00% eROI = 0.00% eROI2 = 0.00% eROI3 = 0.00% mSpread = 0.0000%\n",
      "\n"
     ]
    },
    {
     "name": "stderr",
     "output_type": "stream",
     "text": [
      "0it [00:00, ?it/s]\n"
     ]
    },
    {
     "name": "stdout",
     "output_type": "stream",
     "text": [
      "Epoch = 16. Time index = 1. Threshold MC = 0.5. Threshold MD = 0.5\n",
      "J_test = 6.332911263341489, J_train = 6.504766844190278, Accuracy=0.5417664505154809\n",
      "RD = 268391 NZ = 516353 NZA = 990659 pNZ = 44.950% pNZA = 86.239% AD = 51.98% ADA = 27.09% NO = 1 GSP = 0.00% NSP = 0.00%\n",
      "SI2 = -0.55 SI = -0.55 eGROI = 0.00% eROI = 0.00% eROI2 = 0.00% eROI3 = 0.00% mSpread = 0.0000%\n"
     ]
    },
    {
     "name": "stderr",
     "output_type": "stream",
     "text": [
      "100%|████████████████████████████████████████████████████████████████████████████████████████████████████████████████████████████████| 12638/12638 [00:02<00:00, 4792.28it/s]\n"
     ]
    },
    {
     "name": "stdout",
     "output_type": "stream",
     "text": [
      "Epoch = 16. Time index = 1. Threshold MC = 0.5. Threshold MD = 0.6\n",
      "RD = 8547 NZ = 12743 NZA = 26997 pNZ = 1.109% pNZA = 2.350% AD = 67.07% ADA = 31.66% NO = 2450 GSP = 62.20% NSP = 42.41%\n",
      "SI2 = -98.50 SI = -308.50 eGROI = 37.16% eROI = -40.68% eROI2 = -11.84% eROI3 = -36.34% mSpread = 0.0318%\n"
     ]
    },
    {
     "name": "stderr",
     "output_type": "stream",
     "text": [
      "100%|████████████████████████████████████████████████████████████████████████████████████████████████████████████████████████████████████| 766/766 [00:00<00:00, 3878.96it/s]\n"
     ]
    },
    {
     "name": "stdout",
     "output_type": "stream",
     "text": [
      "Epoch = 16. Time index = 1. Threshold MC = 0.5. Threshold MD = 0.7\n",
      "RD = 1409 NZ = 1817 NZA = 3848 pNZ = 0.158% pNZA = 0.335% AD = 77.55% ADA = 36.62% NO = 293 GSP = 66.21% NSP = 38.57%\n",
      "SI2 = -12.15 SI = -48.15 eGROI = 4.48% eROI = -6.74% eROI2 = -1.38% eROI3 = -4.31% mSpread = 0.0383%\n"
     ]
    },
    {
     "name": "stderr",
     "output_type": "stream",
     "text": [
      "0it [00:00, ?it/s]\n"
     ]
    },
    {
     "name": "stdout",
     "output_type": "stream",
     "text": [
      "Epoch = 16. Time index = 1. Threshold MC = 0.5. Threshold MD = 0.8\n",
      "RD = 279 NZ = 305 NZA = 520 pNZ = 0.027% pNZA = 0.045% AD = 91.48% ADA = 53.65% NO = 1 GSP = 0.00% NSP = 0.00%\n",
      "SI2 = -0.55 SI = -0.55 eGROI = 0.00% eROI = 0.00% eROI2 = 0.00% eROI3 = 0.00% mSpread = 0.0000%\n"
     ]
    },
    {
     "name": "stderr",
     "output_type": "stream",
     "text": [
      "0it [00:00, ?it/s]\n"
     ]
    },
    {
     "name": "stdout",
     "output_type": "stream",
     "text": [
      "Epoch = 16. Time index = 1. Threshold MC = 0.5. Threshold MD = 0.9\n",
      "RD = 0 NZ = 0 NZA = 0 pNZ = 0.000% pNZA = 0.000% AD = 0.00% ADA = 0.00% NO = 1 GSP = 0.00% NSP = 0.00%\n",
      "SI2 = -0.55 SI = -0.55 eGROI = 0.00% eROI = 0.00% eROI2 = 0.00% eROI3 = 0.00% mSpread = 0.0000%\n",
      "\n"
     ]
    },
    {
     "name": "stderr",
     "output_type": "stream",
     "text": [
      "0it [00:00, ?it/s]\n"
     ]
    },
    {
     "name": "stdout",
     "output_type": "stream",
     "text": [
      "Epoch = 16. Time index = 1. Threshold MC = 0.6. Threshold MD = 0.5\n",
      "RD = 86638 NZ = 163663 NZA = 270513 pNZ = 14.247% pNZA = 23.549% AD = 52.94% ADA = 32.03% NO = 1 GSP = 0.00% NSP = 0.00%\n",
      "SI2 = -0.55 SI = -0.55 eGROI = 0.00% eROI = 0.00% eROI2 = 0.00% eROI3 = 0.00% mSpread = 0.0000%\n"
     ]
    },
    {
     "name": "stderr",
     "output_type": "stream",
     "text": [
      "100%|██████████████████████████████████████████████████████████████████████████████████████████████████████████████████████████████████| 7131/7131 [00:01<00:00, 3777.06it/s]\n"
     ]
    },
    {
     "name": "stdout",
     "output_type": "stream",
     "text": [
      "Epoch = 16. Time index = 1. Threshold MC = 0.6. Threshold MD = 0.6\n",
      "RD = 4311 NZ = 6396 NZA = 11378 pNZ = 0.557% pNZA = 0.990% AD = 67.40% ADA = 37.89% NO = 1682 GSP = 62.60% NSP = 44.23%\n",
      "SI2 = -64.10 SI = -181.10 eGROI = 25.40% eROI = -25.17% eROI2 = -8.24% eROI3 = -25.06% mSpread = 0.0301%\n"
     ]
    },
    {
     "name": "stderr",
     "output_type": "stream",
     "text": [
      "100%|████████████████████████████████████████████████████████████████████████████████████████████████████████████████████████████████████| 646/646 [00:00<00:00, 3427.08it/s]\n"
     ]
    },
    {
     "name": "stdout",
     "output_type": "stream",
     "text": [
      "Epoch = 16. Time index = 1. Threshold MC = 0.6. Threshold MD = 0.7\n",
      "RD = 795 NZ = 1014 NZA = 1845 pNZ = 0.088% pNZA = 0.161% AD = 78.40% ADA = 43.09% NO = 241 GSP = 66.39% NSP = 39.00%\n",
      "SI2 = -12.55 SI = -38.55 eGROI = 3.86% eROI = -5.18% eROI2 = -0.96% eROI3 = -3.37% mSpread = 0.0375%\n"
     ]
    },
    {
     "name": "stderr",
     "output_type": "stream",
     "text": [
      "0it [00:00, ?it/s]\n"
     ]
    },
    {
     "name": "stdout",
     "output_type": "stream",
     "text": [
      "Epoch = 16. Time index = 1. Threshold MC = 0.6. Threshold MD = 0.8\n",
      "RD = 211 NZ = 229 NZA = 344 pNZ = 0.020% pNZA = 0.030% AD = 92.14% ADA = 61.34% NO = 1 GSP = 0.00% NSP = 0.00%\n",
      "SI2 = -0.55 SI = -0.55 eGROI = 0.00% eROI = 0.00% eROI2 = 0.00% eROI3 = 0.00% mSpread = 0.0000%\n"
     ]
    },
    {
     "name": "stderr",
     "output_type": "stream",
     "text": [
      "0it [00:00, ?it/s]\n"
     ]
    },
    {
     "name": "stdout",
     "output_type": "stream",
     "text": [
      "Epoch = 16. Time index = 1. Threshold MC = 0.6. Threshold MD = 0.9\n",
      "RD = 0 NZ = 0 NZA = 0 pNZ = 0.000% pNZA = 0.000% AD = 0.00% ADA = 0.00% NO = 1 GSP = 0.00% NSP = 0.00%\n",
      "SI2 = -0.55 SI = -0.55 eGROI = 0.00% eROI = 0.00% eROI2 = 0.00% eROI3 = 0.00% mSpread = 0.0000%\n",
      "\n"
     ]
    },
    {
     "name": "stderr",
     "output_type": "stream",
     "text": [
      "100%|██████████████████████████████████████████████████████████████████████████████████████████████████████████████████████████████████| 9187/9187 [00:02<00:00, 4270.50it/s]\n"
     ]
    },
    {
     "name": "stdout",
     "output_type": "stream",
     "text": [
      "Epoch = 16. Time index = 1. Threshold MC = 0.7. Threshold MD = 0.5\n",
      "RD = 5937 NZ = 10685 NZA = 14745 pNZ = 0.930% pNZA = 1.284% AD = 55.56% ADA = 40.26% NO = 1784 GSP = 54.60% NSP = 47.25%\n",
      "SI2 = -121.20 SI = -138.20 eGROI = 8.29% eROI = -27.30% eROI2 = -27.39% eROI3 = -45.23% mSpread = 0.0200%\n"
     ]
    },
    {
     "name": "stderr",
     "output_type": "stream",
     "text": [
      "100%|██████████████████████████████████████████████████████████████████████████████████████████████████████████████████████████████████| 1374/1374 [00:00<00:00, 4764.54it/s]\n"
     ]
    },
    {
     "name": "stdout",
     "output_type": "stream",
     "text": [
      "Epoch = 16. Time index = 1. Threshold MC = 0.7. Threshold MD = 0.6\n",
      "RD = 1040 NZ = 1578 NZA = 2205 pNZ = 0.137% pNZA = 0.192% AD = 65.91% ADA = 47.17% NO = 497 GSP = 64.59% NSP = 53.52%\n",
      "SI2 = 3.65 SI = -7.35 eGROI = 9.44% eROI = -1.98% eROI2 = -0.50% eROI3 = -5.47% mSpread = 0.0230%\n"
     ]
    },
    {
     "name": "stderr",
     "output_type": "stream",
     "text": [
      "100%|██████████████████████████████████████████████████████████████████████████████████████████████████████████████████████████████████████| 30/30 [00:00<00:00, 1769.40it/s]\n"
     ]
    },
    {
     "name": "stdout",
     "output_type": "stream",
     "text": [
      "Epoch = 16. Time index = 1. Threshold MC = 0.7. Threshold MD = 0.7\n",
      "RD = 224 NZ = 274 NZA = 359 pNZ = 0.024% pNZA = 0.031% AD = 81.75% ADA = 62.40% NO = 22 GSP = 68.18% NSP = 40.91%\n",
      "SI2 = -0.10 SI = -3.10 eGROI = 0.58% eROI = -0.32% eROI2 = 0.14% eROI3 = -0.08% mSpread = 0.0410%\n"
     ]
    },
    {
     "name": "stderr",
     "output_type": "stream",
     "text": [
      "0it [00:00, ?it/s]\n"
     ]
    },
    {
     "name": "stdout",
     "output_type": "stream",
     "text": [
      "Epoch = 16. Time index = 1. Threshold MC = 0.7. Threshold MD = 0.8\n",
      "RD = 116 NZ = 125 NZA = 153 pNZ = 0.011% pNZA = 0.013% AD = 92.80% ADA = 75.82% NO = 1 GSP = 0.00% NSP = 0.00%\n",
      "SI2 = -0.55 SI = -0.55 eGROI = 0.00% eROI = 0.00% eROI2 = 0.00% eROI3 = 0.00% mSpread = 0.0000%\n"
     ]
    },
    {
     "name": "stderr",
     "output_type": "stream",
     "text": [
      "0it [00:00, ?it/s]\n"
     ]
    },
    {
     "name": "stdout",
     "output_type": "stream",
     "text": [
      "Epoch = 16. Time index = 1. Threshold MC = 0.7. Threshold MD = 0.9\n",
      "RD = 0 NZ = 0 NZA = 0 pNZ = 0.000% pNZA = 0.000% AD = 0.00% ADA = 0.00% NO = 1 GSP = 0.00% NSP = 0.00%\n",
      "SI2 = -0.55 SI = -0.55 eGROI = 0.00% eROI = 0.00% eROI2 = 0.00% eROI3 = 0.00% mSpread = 0.0000%\n",
      "\n"
     ]
    },
    {
     "name": "stderr",
     "output_type": "stream",
     "text": [
      "100%|████████████████████████████████████████████████████████████████████████████████████████████████████████████████████████████████████| 472/472 [00:00<00:00, 3531.78it/s]\n"
     ]
    },
    {
     "name": "stdout",
     "output_type": "stream",
     "text": [
      "Epoch = 16. Time index = 1. Threshold MC = 0.8. Threshold MD = 0.5\n",
      "RD = 317 NZ = 521 NZA = 657 pNZ = 0.045% pNZA = 0.057% AD = 60.84% ADA = 48.25% NO = 267 GSP = 58.43% NSP = 53.56%\n",
      "SI2 = -4.85 SI = -3.85 eGROI = 7.51% eROI = 2.35% eROI2 = 2.17% eROI3 = -0.50% mSpread = 0.0193%\n"
     ]
    },
    {
     "name": "stderr",
     "output_type": "stream",
     "text": [
      "100%|██████████████████████████████████████████████████████████████████████████████████████████████████████████████████████████████████████| 77/77 [00:00<00:00, 2859.43it/s]\n"
     ]
    },
    {
     "name": "stdout",
     "output_type": "stream",
     "text": [
      "Epoch = 16. Time index = 1. Threshold MC = 0.8. Threshold MD = 0.6\n",
      "RD = 96 NZ = 132 NZA = 174 pNZ = 0.011% pNZA = 0.015% AD = 72.73% ADA = 55.17% NO = 60 GSP = 63.33% NSP = 56.67%\n",
      "SI2 = 2.00 SI = 1.00 eGROI = 1.37% eROI = 0.17% eROI2 = 0.17% eROI3 = -0.43% mSpread = 0.0200%\n"
     ]
    },
    {
     "name": "stderr",
     "output_type": "stream",
     "text": [
      "0it [00:00, ?it/s]\n"
     ]
    },
    {
     "name": "stdout",
     "output_type": "stream",
     "text": [
      "Epoch = 16. Time index = 1. Threshold MC = 0.8. Threshold MD = 0.7\n",
      "RD = 30 NZ = 36 NZA = 46 pNZ = 0.003% pNZA = 0.004% AD = 83.33% ADA = 65.22% NO = 1 GSP = 0.00% NSP = 0.00%\n",
      "SI2 = -0.55 SI = -0.55 eGROI = 0.00% eROI = 0.00% eROI2 = 0.00% eROI3 = 0.00% mSpread = 0.0000%\n"
     ]
    },
    {
     "name": "stderr",
     "output_type": "stream",
     "text": [
      "0it [00:00, ?it/s]\n"
     ]
    },
    {
     "name": "stdout",
     "output_type": "stream",
     "text": [
      "Epoch = 16. Time index = 1. Threshold MC = 0.8. Threshold MD = 0.8\n",
      "RD = 16 NZ = 20 NZA = 21 pNZ = 0.002% pNZA = 0.002% AD = 80.00% ADA = 76.19% NO = 1 GSP = 0.00% NSP = 0.00%\n",
      "SI2 = -0.55 SI = -0.55 eGROI = 0.00% eROI = 0.00% eROI2 = 0.00% eROI3 = 0.00% mSpread = 0.0000%\n"
     ]
    },
    {
     "name": "stderr",
     "output_type": "stream",
     "text": [
      "0it [00:00, ?it/s]\n"
     ]
    },
    {
     "name": "stdout",
     "output_type": "stream",
     "text": [
      "Epoch = 16. Time index = 1. Threshold MC = 0.8. Threshold MD = 0.9\n",
      "RD = 0 NZ = 0 NZA = 0 pNZ = 0.000% pNZA = 0.000% AD = 0.00% ADA = 0.00% NO = 1 GSP = 0.00% NSP = 0.00%\n",
      "SI2 = -0.55 SI = -0.55 eGROI = 0.00% eROI = 0.00% eROI2 = 0.00% eROI3 = 0.00% mSpread = 0.0000%\n",
      "\n"
     ]
    },
    {
     "name": "stderr",
     "output_type": "stream",
     "text": [
      "0it [00:00, ?it/s]\n"
     ]
    },
    {
     "name": "stdout",
     "output_type": "stream",
     "text": [
      "Epoch = 16. Time index = 1. Threshold MC = 0.9. Threshold MD = 0.5\n",
      "RD = 0 NZ = 0 NZA = 0 pNZ = 0.000% pNZA = 0.000% AD = 0.00% ADA = 0.00% NO = 1 GSP = 0.00% NSP = 0.00%\n",
      "SI2 = -0.55 SI = -0.55 eGROI = 0.00% eROI = 0.00% eROI2 = 0.00% eROI3 = 0.00% mSpread = 0.0000%\n"
     ]
    },
    {
     "name": "stderr",
     "output_type": "stream",
     "text": [
      "0it [00:00, ?it/s]\n"
     ]
    },
    {
     "name": "stdout",
     "output_type": "stream",
     "text": [
      "Epoch = 16. Time index = 1. Threshold MC = 0.9. Threshold MD = 0.6\n",
      "RD = 0 NZ = 0 NZA = 0 pNZ = 0.000% pNZA = 0.000% AD = 0.00% ADA = 0.00% NO = 1 GSP = 0.00% NSP = 0.00%\n",
      "SI2 = -0.55 SI = -0.55 eGROI = 0.00% eROI = 0.00% eROI2 = 0.00% eROI3 = 0.00% mSpread = 0.0000%\n"
     ]
    },
    {
     "name": "stderr",
     "output_type": "stream",
     "text": [
      "0it [00:00, ?it/s]\n"
     ]
    },
    {
     "name": "stdout",
     "output_type": "stream",
     "text": [
      "Epoch = 16. Time index = 1. Threshold MC = 0.9. Threshold MD = 0.7\n",
      "RD = 0 NZ = 0 NZA = 0 pNZ = 0.000% pNZA = 0.000% AD = 0.00% ADA = 0.00% NO = 1 GSP = 0.00% NSP = 0.00%\n",
      "SI2 = -0.55 SI = -0.55 eGROI = 0.00% eROI = 0.00% eROI2 = 0.00% eROI3 = 0.00% mSpread = 0.0000%\n"
     ]
    },
    {
     "name": "stderr",
     "output_type": "stream",
     "text": [
      "0it [00:00, ?it/s]\n"
     ]
    },
    {
     "name": "stdout",
     "output_type": "stream",
     "text": [
      "Epoch = 16. Time index = 1. Threshold MC = 0.9. Threshold MD = 0.8\n",
      "RD = 0 NZ = 0 NZA = 0 pNZ = 0.000% pNZA = 0.000% AD = 0.00% ADA = 0.00% NO = 1 GSP = 0.00% NSP = 0.00%\n",
      "SI2 = -0.55 SI = -0.55 eGROI = 0.00% eROI = 0.00% eROI2 = 0.00% eROI3 = 0.00% mSpread = 0.0000%\n"
     ]
    },
    {
     "name": "stderr",
     "output_type": "stream",
     "text": [
      "0it [00:00, ?it/s]\n"
     ]
    },
    {
     "name": "stdout",
     "output_type": "stream",
     "text": [
      "Epoch = 16. Time index = 1. Threshold MC = 0.9. Threshold MD = 0.9\n",
      "RD = 0 NZ = 0 NZA = 0 pNZ = 0.000% pNZA = 0.000% AD = 0.00% ADA = 0.00% NO = 1 GSP = 0.00% NSP = 0.00%\n",
      "SI2 = -0.55 SI = -0.55 eGROI = 0.00% eROI = 0.00% eROI2 = 0.00% eROI3 = 0.00% mSpread = 0.0000%\n",
      "\n"
     ]
    },
    {
     "name": "stderr",
     "output_type": "stream",
     "text": [
      "0it [00:00, ?it/s]\n"
     ]
    },
    {
     "name": "stdout",
     "output_type": "stream",
     "text": [
      "Epoch = 16. Time index = 2. Threshold MC = 0.5. Threshold MD = 0.5\n",
      "J_test = 6.332911263341489, J_train = 6.504766844190278, Accuracy=0.5427205451571426\n",
      "RD = 267082 NZ = 512760 NZA = 982377 pNZ = 44.637% pNZA = 85.518% AD = 52.09% ADA = 27.19% NO = 1 GSP = 0.00% NSP = 0.00%\n",
      "SI2 = -0.55 SI = -0.55 eGROI = 0.00% eROI = 0.00% eROI2 = 0.00% eROI3 = 0.00% mSpread = 0.0000%\n"
     ]
    },
    {
     "name": "stderr",
     "output_type": "stream",
     "text": [
      "100%|████████████████████████████████████████████████████████████████████████████████████████████████████████████████████████████████| 13256/13256 [00:03<00:00, 3600.00it/s]\n"
     ]
    },
    {
     "name": "stdout",
     "output_type": "stream",
     "text": [
      "Epoch = 16. Time index = 2. Threshold MC = 0.5. Threshold MD = 0.6\n",
      "RD = 9629 NZ = 14459 NZA = 30221 pNZ = 1.259% pNZA = 2.631% AD = 66.60% ADA = 31.86% NO = 2585 GSP = 61.12% NSP = 43.17%\n",
      "SI2 = -102.75 SI = -305.75 eGROI = 40.42% eROI = -39.13% eROI2 = -11.28% eROI3 = -37.13% mSpread = 0.0308%\n"
     ]
    },
    {
     "name": "stderr",
     "output_type": "stream",
     "text": [
      "100%|██████████████████████████████████████████████████████████████████████████████████████████████████████████████████████████████████| 1002/1002 [00:00<00:00, 3081.80it/s]\n"
     ]
    },
    {
     "name": "stdout",
     "output_type": "stream",
     "text": [
      "Epoch = 16. Time index = 2. Threshold MC = 0.5. Threshold MD = 0.7\n",
      "RD = 1819 NZ = 2372 NZA = 5211 pNZ = 0.206% pNZA = 0.454% AD = 76.69% ADA = 34.91% NO = 351 GSP = 66.38% NSP = 38.75%\n",
      "SI2 = -7.05 SI = -57.05 eGROI = 5.86% eROI = -7.90% eROI2 = -1.16% eROI3 = -4.67% mSpread = 0.0392%\n"
     ]
    },
    {
     "name": "stderr",
     "output_type": "stream",
     "text": [
      "0it [00:00, ?it/s]\n"
     ]
    },
    {
     "name": "stdout",
     "output_type": "stream",
     "text": [
      "Epoch = 16. Time index = 2. Threshold MC = 0.5. Threshold MD = 0.8\n",
      "RD = 285 NZ = 317 NZA = 641 pNZ = 0.028% pNZA = 0.056% AD = 89.91% ADA = 44.46% NO = 1 GSP = 0.00% NSP = 0.00%\n",
      "SI2 = -0.55 SI = -0.55 eGROI = 0.00% eROI = 0.00% eROI2 = 0.00% eROI3 = 0.00% mSpread = 0.0000%\n"
     ]
    },
    {
     "name": "stderr",
     "output_type": "stream",
     "text": [
      "0it [00:00, ?it/s]\n"
     ]
    },
    {
     "name": "stdout",
     "output_type": "stream",
     "text": [
      "Epoch = 16. Time index = 2. Threshold MC = 0.5. Threshold MD = 0.9\n",
      "RD = 1 NZ = 1 NZA = 1 pNZ = 0.000% pNZA = 0.000% AD = 100.00% ADA = 100.00% NO = 1 GSP = 0.00% NSP = 0.00%\n",
      "SI2 = -0.55 SI = -0.55 eGROI = 0.00% eROI = 0.00% eROI2 = 0.00% eROI3 = 0.00% mSpread = 0.0000%\n",
      "\n"
     ]
    },
    {
     "name": "stderr",
     "output_type": "stream",
     "text": [
      "0it [00:00, ?it/s]\n"
     ]
    },
    {
     "name": "stdout",
     "output_type": "stream",
     "text": [
      "Epoch = 16. Time index = 2. Threshold MC = 0.6. Threshold MD = 0.5\n",
      "RD = 86293 NZ = 162442 NZA = 269192 pNZ = 14.141% pNZA = 23.434% AD = 53.12% ADA = 32.06% NO = 1 GSP = 0.00% NSP = 0.00%\n",
      "SI2 = -0.55 SI = -0.55 eGROI = 0.00% eROI = 0.00% eROI2 = 0.00% eROI3 = 0.00% mSpread = 0.0000%\n"
     ]
    },
    {
     "name": "stderr",
     "output_type": "stream",
     "text": [
      "100%|██████████████████████████████████████████████████████████████████████████████████████████████████████████████████████████████████| 9141/9141 [00:02<00:00, 3393.30it/s]\n"
     ]
    },
    {
     "name": "stdout",
     "output_type": "stream",
     "text": [
      "Epoch = 16. Time index = 2. Threshold MC = 0.6. Threshold MD = 0.6\n",
      "RD = 5271 NZ = 7890 NZA = 14085 pNZ = 0.687% pNZA = 1.226% AD = 66.81% ADA = 37.42% NO = 2045 GSP = 61.76% NSP = 44.11%\n",
      "SI2 = -63.75 SI = -222.75 eGROI = 31.98% eROI = -29.94% eROI2 = -8.92% eROI3 = -29.37% mSpread = 0.0303%\n"
     ]
    },
    {
     "name": "stderr",
     "output_type": "stream",
     "text": [
      "100%|████████████████████████████████████████████████████████████████████████████████████████████████████████████████████████████████████| 925/925 [00:00<00:00, 2953.69it/s]\n"
     ]
    },
    {
     "name": "stdout",
     "output_type": "stream",
     "text": [
      "Epoch = 16. Time index = 2. Threshold MC = 0.6. Threshold MD = 0.7\n",
      "RD = 946 NZ = 1242 NZA = 2313 pNZ = 0.108% pNZA = 0.201% AD = 76.17% ADA = 40.90% NO = 321 GSP = 65.11% NSP = 38.94%\n",
      "SI2 = -9.55 SI = -51.55 eGROI = 5.30% eROI = -7.07% eROI2 = -1.12% eROI3 = -4.33% mSpread = 0.0385%\n"
     ]
    },
    {
     "name": "stderr",
     "output_type": "stream",
     "text": [
      "0it [00:00, ?it/s]\n"
     ]
    },
    {
     "name": "stdout",
     "output_type": "stream",
     "text": [
      "Epoch = 16. Time index = 2. Threshold MC = 0.6. Threshold MD = 0.8\n",
      "RD = 198 NZ = 214 NZA = 331 pNZ = 0.019% pNZA = 0.029% AD = 92.52% ADA = 59.82% NO = 1 GSP = 0.00% NSP = 0.00%\n",
      "SI2 = -0.55 SI = -0.55 eGROI = 0.00% eROI = 0.00% eROI2 = 0.00% eROI3 = 0.00% mSpread = 0.0000%\n"
     ]
    },
    {
     "name": "stderr",
     "output_type": "stream",
     "text": [
      "0it [00:00, ?it/s]\n"
     ]
    },
    {
     "name": "stdout",
     "output_type": "stream",
     "text": [
      "Epoch = 16. Time index = 2. Threshold MC = 0.6. Threshold MD = 0.9\n",
      "RD = 1 NZ = 1 NZA = 1 pNZ = 0.000% pNZA = 0.000% AD = 100.00% ADA = 100.00% NO = 1 GSP = 0.00% NSP = 0.00%\n",
      "SI2 = -0.55 SI = -0.55 eGROI = 0.00% eROI = 0.00% eROI2 = 0.00% eROI3 = 0.00% mSpread = 0.0000%\n",
      "\n"
     ]
    },
    {
     "name": "stderr",
     "output_type": "stream",
     "text": [
      "100%|██████████████████████████████████████████████████████████████████████████████████████████████████████████████████████████████████| 9125/9125 [00:01<00:00, 4776.91it/s]\n"
     ]
    },
    {
     "name": "stdout",
     "output_type": "stream",
     "text": [
      "Epoch = 16. Time index = 2. Threshold MC = 0.7. Threshold MD = 0.5\n",
      "RD = 5698 NZ = 10139 NZA = 14018 pNZ = 0.883% pNZA = 1.220% AD = 56.20% ADA = 40.65% NO = 1862 GSP = 54.46% NSP = 45.76%\n",
      "SI2 = -139.10 SI = -172.10 eGROI = 10.46% eROI = -29.51% eROI2 = -26.78% eROI3 = -45.40% mSpread = 0.0215%\n"
     ]
    },
    {
     "name": "stderr",
     "output_type": "stream",
     "text": [
      "100%|██████████████████████████████████████████████████████████████████████████████████████████████████████████████████████████████████| 2068/2068 [00:00<00:00, 4138.49it/s]\n"
     ]
    },
    {
     "name": "stdout",
     "output_type": "stream",
     "text": [
      "Epoch = 16. Time index = 2. Threshold MC = 0.7. Threshold MD = 0.6\n",
      "RD = 1361 NZ = 2066 NZA = 2933 pNZ = 0.180% pNZA = 0.255% AD = 65.88% ADA = 46.40% NO = 686 GSP = 63.27% NSP = 51.60%\n",
      "SI2 = 3.70 SI = -23.30 eGROI = 13.34% eROI = -3.38% eROI2 = -0.38% eROI3 = -7.24% mSpread = 0.0244%\n"
     ]
    },
    {
     "name": "stderr",
     "output_type": "stream",
     "text": [
      "100%|████████████████████████████████████████████████████████████████████████████████████████████████████████████████████████████████████| 118/118 [00:00<00:00, 2630.03it/s]\n"
     ]
    },
    {
     "name": "stdout",
     "output_type": "stream",
     "text": [
      "Epoch = 16. Time index = 2. Threshold MC = 0.7. Threshold MD = 0.7\n",
      "RD = 270 NZ = 354 NZA = 498 pNZ = 0.031% pNZA = 0.043% AD = 76.27% ADA = 54.22% NO = 72 GSP = 56.94% NSP = 33.33%\n",
      "SI2 = -5.60 SI = -15.60 eGROI = 0.06% eROI = -2.54% eROI2 = -1.38% eROI3 = -2.10% mSpread = 0.0362%\n"
     ]
    },
    {
     "name": "stderr",
     "output_type": "stream",
     "text": [
      "0it [00:00, ?it/s]\n"
     ]
    },
    {
     "name": "stdout",
     "output_type": "stream",
     "text": [
      "Epoch = 16. Time index = 2. Threshold MC = 0.7. Threshold MD = 0.8\n",
      "RD = 107 NZ = 116 NZA = 146 pNZ = 0.010% pNZA = 0.013% AD = 92.24% ADA = 73.29% NO = 1 GSP = 0.00% NSP = 0.00%\n",
      "SI2 = -0.55 SI = -0.55 eGROI = 0.00% eROI = 0.00% eROI2 = 0.00% eROI3 = 0.00% mSpread = 0.0000%\n"
     ]
    },
    {
     "name": "stderr",
     "output_type": "stream",
     "text": [
      "0it [00:00, ?it/s]\n"
     ]
    },
    {
     "name": "stdout",
     "output_type": "stream",
     "text": [
      "Epoch = 16. Time index = 2. Threshold MC = 0.7. Threshold MD = 0.9\n",
      "RD = 1 NZ = 1 NZA = 1 pNZ = 0.000% pNZA = 0.000% AD = 100.00% ADA = 100.00% NO = 1 GSP = 0.00% NSP = 0.00%\n",
      "SI2 = -0.55 SI = -0.55 eGROI = 0.00% eROI = 0.00% eROI2 = 0.00% eROI3 = 0.00% mSpread = 0.0000%\n",
      "\n"
     ]
    },
    {
     "name": "stderr",
     "output_type": "stream",
     "text": [
      "100%|████████████████████████████████████████████████████████████████████████████████████████████████████████████████████████████████████| 563/563 [00:00<00:00, 2675.35it/s]\n"
     ]
    },
    {
     "name": "stdout",
     "output_type": "stream",
     "text": [
      "Epoch = 16. Time index = 2. Threshold MC = 0.8. Threshold MD = 0.5\n",
      "RD = 366 NZ = 607 NZA = 759 pNZ = 0.053% pNZA = 0.066% AD = 60.30% ADA = 48.22% NO = 323 GSP = 55.42% NSP = 50.46%\n",
      "SI2 = -13.65 SI = -14.65 eGROI = 6.56% eROI = -0.03% eROI2 = 0.10% eROI3 = -3.13% mSpread = 0.0204%\n"
     ]
    },
    {
     "name": "stderr",
     "output_type": "stream",
     "text": [
      "100%|████████████████████████████████████████████████████████████████████████████████████████████████████████████████████████████████████| 131/131 [00:00<00:00, 2525.92it/s]\n"
     ]
    },
    {
     "name": "stdout",
     "output_type": "stream",
     "text": [
      "Epoch = 16. Time index = 2. Threshold MC = 0.8. Threshold MD = 0.6\n",
      "RD = 132 NZ = 185 NZA = 233 pNZ = 0.016% pNZA = 0.020% AD = 71.35% ADA = 56.65% NO = 85 GSP = 58.82% NSP = 55.29%\n",
      "SI2 = 2.25 SI = 0.25 eGROI = 2.81% eROI = 1.08% eROI2 = 1.11% eROI3 = 0.26% mSpread = 0.0204%\n"
     ]
    },
    {
     "name": "stderr",
     "output_type": "stream",
     "text": [
      "0it [00:00, ?it/s]\n"
     ]
    },
    {
     "name": "stdout",
     "output_type": "stream",
     "text": [
      "Epoch = 16. Time index = 2. Threshold MC = 0.8. Threshold MD = 0.7\n",
      "RD = 39 NZ = 46 NZA = 58 pNZ = 0.004% pNZA = 0.005% AD = 84.78% ADA = 67.24% NO = 1 GSP = 0.00% NSP = 0.00%\n",
      "SI2 = -0.55 SI = -0.55 eGROI = 0.00% eROI = 0.00% eROI2 = 0.00% eROI3 = 0.00% mSpread = 0.0000%\n"
     ]
    },
    {
     "name": "stderr",
     "output_type": "stream",
     "text": [
      "0it [00:00, ?it/s]\n"
     ]
    },
    {
     "name": "stdout",
     "output_type": "stream",
     "text": [
      "Epoch = 16. Time index = 2. Threshold MC = 0.8. Threshold MD = 0.8\n",
      "RD = 16 NZ = 20 NZA = 24 pNZ = 0.002% pNZA = 0.002% AD = 80.00% ADA = 66.67% NO = 1 GSP = 0.00% NSP = 0.00%\n",
      "SI2 = -0.55 SI = -0.55 eGROI = 0.00% eROI = 0.00% eROI2 = 0.00% eROI3 = 0.00% mSpread = 0.0000%\n"
     ]
    },
    {
     "name": "stderr",
     "output_type": "stream",
     "text": [
      "0it [00:00, ?it/s]\n"
     ]
    },
    {
     "name": "stdout",
     "output_type": "stream",
     "text": [
      "Epoch = 16. Time index = 2. Threshold MC = 0.8. Threshold MD = 0.9\n",
      "RD = 0 NZ = 0 NZA = 0 pNZ = 0.000% pNZA = 0.000% AD = 0.00% ADA = 0.00% NO = 1 GSP = 0.00% NSP = 0.00%\n",
      "SI2 = -0.55 SI = -0.55 eGROI = 0.00% eROI = 0.00% eROI2 = 0.00% eROI3 = 0.00% mSpread = 0.0000%\n",
      "\n"
     ]
    },
    {
     "name": "stderr",
     "output_type": "stream",
     "text": [
      "0it [00:00, ?it/s]\n"
     ]
    },
    {
     "name": "stdout",
     "output_type": "stream",
     "text": [
      "Epoch = 16. Time index = 2. Threshold MC = 0.9. Threshold MD = 0.5\n",
      "RD = 0 NZ = 0 NZA = 0 pNZ = 0.000% pNZA = 0.000% AD = 0.00% ADA = 0.00% NO = 1 GSP = 0.00% NSP = 0.00%\n",
      "SI2 = -0.55 SI = -0.55 eGROI = 0.00% eROI = 0.00% eROI2 = 0.00% eROI3 = 0.00% mSpread = 0.0000%\n"
     ]
    },
    {
     "name": "stderr",
     "output_type": "stream",
     "text": [
      "0it [00:00, ?it/s]\n"
     ]
    },
    {
     "name": "stdout",
     "output_type": "stream",
     "text": [
      "Epoch = 16. Time index = 2. Threshold MC = 0.9. Threshold MD = 0.6\n",
      "RD = 0 NZ = 0 NZA = 0 pNZ = 0.000% pNZA = 0.000% AD = 0.00% ADA = 0.00% NO = 1 GSP = 0.00% NSP = 0.00%\n",
      "SI2 = -0.55 SI = -0.55 eGROI = 0.00% eROI = 0.00% eROI2 = 0.00% eROI3 = 0.00% mSpread = 0.0000%\n"
     ]
    },
    {
     "name": "stderr",
     "output_type": "stream",
     "text": [
      "0it [00:00, ?it/s]\n"
     ]
    },
    {
     "name": "stdout",
     "output_type": "stream",
     "text": [
      "Epoch = 16. Time index = 2. Threshold MC = 0.9. Threshold MD = 0.7\n",
      "RD = 0 NZ = 0 NZA = 0 pNZ = 0.000% pNZA = 0.000% AD = 0.00% ADA = 0.00% NO = 1 GSP = 0.00% NSP = 0.00%\n",
      "SI2 = -0.55 SI = -0.55 eGROI = 0.00% eROI = 0.00% eROI2 = 0.00% eROI3 = 0.00% mSpread = 0.0000%\n"
     ]
    },
    {
     "name": "stderr",
     "output_type": "stream",
     "text": [
      "0it [00:00, ?it/s]\n"
     ]
    },
    {
     "name": "stdout",
     "output_type": "stream",
     "text": [
      "Epoch = 16. Time index = 2. Threshold MC = 0.9. Threshold MD = 0.8\n",
      "RD = 0 NZ = 0 NZA = 0 pNZ = 0.000% pNZA = 0.000% AD = 0.00% ADA = 0.00% NO = 1 GSP = 0.00% NSP = 0.00%\n",
      "SI2 = -0.55 SI = -0.55 eGROI = 0.00% eROI = 0.00% eROI2 = 0.00% eROI3 = 0.00% mSpread = 0.0000%\n"
     ]
    },
    {
     "name": "stderr",
     "output_type": "stream",
     "text": [
      "0it [00:00, ?it/s]\n"
     ]
    },
    {
     "name": "stdout",
     "output_type": "stream",
     "text": [
      "Epoch = 16. Time index = 2. Threshold MC = 0.9. Threshold MD = 0.9\n",
      "RD = 0 NZ = 0 NZA = 0 pNZ = 0.000% pNZA = 0.000% AD = 0.00% ADA = 0.00% NO = 1 GSP = 0.00% NSP = 0.00%\n",
      "SI2 = -0.55 SI = -0.55 eGROI = 0.00% eROI = 0.00% eROI2 = 0.00% eROI3 = 0.00% mSpread = 0.0000%\n",
      "\n"
     ]
    },
    {
     "name": "stderr",
     "output_type": "stream",
     "text": [
      "0it [00:00, ?it/s]\n"
     ]
    },
    {
     "name": "stdout",
     "output_type": "stream",
     "text": [
      "Epoch = 16. Time index = 3. Threshold MC = 0.5. Threshold MD = 0.5\n",
      "J_test = 6.332911263341489, J_train = 6.504766844190278, Accuracy=0.5423549249477468\n",
      "RD = 266435 NZ = 511352 NZA = 979981 pNZ = 44.514% pNZA = 85.310% AD = 52.10% ADA = 27.19% NO = 1 GSP = 0.00% NSP = 0.00%\n",
      "SI2 = -0.55 SI = -0.55 eGROI = 0.00% eROI = 0.00% eROI2 = 0.00% eROI3 = 0.00% mSpread = 0.0000%\n"
     ]
    },
    {
     "name": "stderr",
     "output_type": "stream",
     "text": [
      "100%|████████████████████████████████████████████████████████████████████████████████████████████████████████████████████████████████| 13434/13434 [00:02<00:00, 4831.77it/s]\n"
     ]
    },
    {
     "name": "stdout",
     "output_type": "stream",
     "text": [
      "Epoch = 16. Time index = 3. Threshold MC = 0.5. Threshold MD = 0.6\n",
      "RD = 9790 NZ = 14810 NZA = 30588 pNZ = 1.289% pNZA = 2.663% AD = 66.10% ADA = 32.01% NO = 2648 GSP = 60.61% NSP = 43.05%\n",
      "SI2 = -108.40 SI = -316.40 eGROI = 38.80% eROI = -42.22% eROI2 = -14.16% eROI3 = -40.64% mSpread = 0.0306%\n"
     ]
    },
    {
     "name": "stderr",
     "output_type": "stream",
     "text": [
      "100%|██████████████████████████████████████████████████████████████████████████████████████████████████████████████████████████████████| 1119/1119 [00:00<00:00, 3679.13it/s]\n"
     ]
    },
    {
     "name": "stdout",
     "output_type": "stream",
     "text": [
      "Epoch = 16. Time index = 3. Threshold MC = 0.5. Threshold MD = 0.7\n",
      "RD = 1865 NZ = 2440 NZA = 5366 pNZ = 0.212% pNZA = 0.467% AD = 76.43% ADA = 34.76% NO = 393 GSP = 67.68% NSP = 40.20%\n",
      "SI2 = -7.15 SI = -58.15 eGROI = 6.56% eROI = -8.73% eROI2 = -1.30% eROI3 = -5.23% mSpread = 0.0389%\n"
     ]
    },
    {
     "name": "stderr",
     "output_type": "stream",
     "text": [
      "0it [00:00, ?it/s]\n"
     ]
    },
    {
     "name": "stdout",
     "output_type": "stream",
     "text": [
      "Epoch = 16. Time index = 3. Threshold MC = 0.5. Threshold MD = 0.8\n",
      "RD = 233 NZ = 266 NZA = 607 pNZ = 0.023% pNZA = 0.053% AD = 87.59% ADA = 38.39% NO = 1 GSP = 0.00% NSP = 0.00%\n",
      "SI2 = -0.55 SI = -0.55 eGROI = 0.00% eROI = 0.00% eROI2 = 0.00% eROI3 = 0.00% mSpread = 0.0000%\n"
     ]
    },
    {
     "name": "stderr",
     "output_type": "stream",
     "text": [
      "0it [00:00, ?it/s]\n"
     ]
    },
    {
     "name": "stdout",
     "output_type": "stream",
     "text": [
      "Epoch = 16. Time index = 3. Threshold MC = 0.5. Threshold MD = 0.9\n",
      "RD = 1 NZ = 1 NZA = 1 pNZ = 0.000% pNZA = 0.000% AD = 100.00% ADA = 100.00% NO = 1 GSP = 0.00% NSP = 0.00%\n",
      "SI2 = -0.55 SI = -0.55 eGROI = 0.00% eROI = 0.00% eROI2 = 0.00% eROI3 = 0.00% mSpread = 0.0000%\n",
      "\n"
     ]
    },
    {
     "name": "stderr",
     "output_type": "stream",
     "text": [
      "0it [00:00, ?it/s]\n"
     ]
    },
    {
     "name": "stdout",
     "output_type": "stream",
     "text": [
      "Epoch = 16. Time index = 3. Threshold MC = 0.6. Threshold MD = 0.5\n",
      "RD = 86913 NZ = 163752 NZA = 272600 pNZ = 14.255% pNZA = 23.730% AD = 53.08% ADA = 31.88% NO = 1 GSP = 0.00% NSP = 0.00%\n",
      "SI2 = -0.55 SI = -0.55 eGROI = 0.00% eROI = 0.00% eROI2 = 0.00% eROI3 = 0.00% mSpread = 0.0000%\n"
     ]
    },
    {
     "name": "stderr",
     "output_type": "stream",
     "text": [
      "100%|██████████████████████████████████████████████████████████████████████████████████████████████████████████████████████████████████| 9866/9866 [00:01<00:00, 5041.92it/s]\n"
     ]
    },
    {
     "name": "stdout",
     "output_type": "stream",
     "text": [
      "Epoch = 16. Time index = 3. Threshold MC = 0.6. Threshold MD = 0.6\n",
      "RD = 5641 NZ = 8484 NZA = 15133 pNZ = 0.739% pNZA = 1.317% AD = 66.49% ADA = 37.28% NO = 2188 GSP = 61.84% NSP = 44.24%\n",
      "SI2 = -72.40 SI = -235.40 eGROI = 34.33% eROI = -31.87% eROI2 = -9.43% eROI3 = -31.31% mSpread = 0.0303%\n"
     ]
    },
    {
     "name": "stderr",
     "output_type": "stream",
     "text": [
      "100%|██████████████████████████████████████████████████████████████████████████████████████████████████████████████████████████████████| 1029/1029 [00:00<00:00, 4194.66it/s]\n"
     ]
    },
    {
     "name": "stdout",
     "output_type": "stream",
     "text": [
      "Epoch = 16. Time index = 3. Threshold MC = 0.6. Threshold MD = 0.7\n",
      "RD = 965 NZ = 1274 NZA = 2403 pNZ = 0.111% pNZA = 0.209% AD = 75.75% ADA = 40.16% NO = 356 GSP = 65.45% NSP = 39.89%\n",
      "SI2 = -11.80 SI = -53.80 eGROI = 5.51% eROI = -8.17% eROI2 = -1.61% eROI3 = -5.17% mSpread = 0.0384%\n"
     ]
    },
    {
     "name": "stderr",
     "output_type": "stream",
     "text": [
      "0it [00:00, ?it/s]\n"
     ]
    },
    {
     "name": "stdout",
     "output_type": "stream",
     "text": [
      "Epoch = 16. Time index = 3. Threshold MC = 0.6. Threshold MD = 0.8\n",
      "RD = 130 NZ = 143 NZA = 244 pNZ = 0.012% pNZA = 0.021% AD = 90.91% ADA = 53.28% NO = 1 GSP = 0.00% NSP = 0.00%\n",
      "SI2 = -0.55 SI = -0.55 eGROI = 0.00% eROI = 0.00% eROI2 = 0.00% eROI3 = 0.00% mSpread = 0.0000%\n"
     ]
    },
    {
     "name": "stderr",
     "output_type": "stream",
     "text": [
      "0it [00:00, ?it/s]\n"
     ]
    },
    {
     "name": "stdout",
     "output_type": "stream",
     "text": [
      "Epoch = 16. Time index = 3. Threshold MC = 0.6. Threshold MD = 0.9\n",
      "RD = 1 NZ = 1 NZA = 1 pNZ = 0.000% pNZA = 0.000% AD = 100.00% ADA = 100.00% NO = 1 GSP = 0.00% NSP = 0.00%\n",
      "SI2 = -0.55 SI = -0.55 eGROI = 0.00% eROI = 0.00% eROI2 = 0.00% eROI3 = 0.00% mSpread = 0.0000%\n",
      "\n"
     ]
    },
    {
     "name": "stderr",
     "output_type": "stream",
     "text": [
      "100%|██████████████████████████████████████████████████████████████████████████████████████████████████████████████████████████████████| 9204/9204 [00:01<00:00, 5178.72it/s]\n"
     ]
    },
    {
     "name": "stdout",
     "output_type": "stream",
     "text": [
      "Epoch = 16. Time index = 3. Threshold MC = 0.7. Threshold MD = 0.5\n",
      "RD = 5580 NZ = 9883 NZA = 13759 pNZ = 0.860% pNZA = 1.198% AD = 56.46% ADA = 40.56% NO = 1821 GSP = 56.12% NSP = 47.72%\n",
      "SI2 = -99.55 SI = -132.55 eGROI = 14.70% eROI = -25.32% eROI2 = -21.72% eROI3 = -39.93% mSpread = 0.0220%\n"
     ]
    },
    {
     "name": "stderr",
     "output_type": "stream",
     "text": [
      "100%|██████████████████████████████████████████████████████████████████████████████████████████████████████████████████████████████████| 2344/2344 [00:00<00:00, 4059.11it/s]\n"
     ]
    },
    {
     "name": "stdout",
     "output_type": "stream",
     "text": [
      "Epoch = 16. Time index = 3. Threshold MC = 0.7. Threshold MD = 0.6\n",
      "RD = 1439 NZ = 2194 NZA = 3172 pNZ = 0.191% pNZA = 0.276% AD = 65.59% ADA = 45.37% NO = 725 GSP = 62.90% NSP = 51.31%\n",
      "SI2 = 0.25 SI = -26.75 eGROI = 13.60% eROI = -4.70% eROI2 = -0.90% eROI3 = -8.15% mSpread = 0.0252%\n"
     ]
    },
    {
     "name": "stderr",
     "output_type": "stream",
     "text": [
      "100%|████████████████████████████████████████████████████████████████████████████████████████████████████████████████████████████████████| 189/189 [00:00<00:00, 3947.06it/s]\n"
     ]
    },
    {
     "name": "stdout",
     "output_type": "stream",
     "text": [
      "Epoch = 16. Time index = 3. Threshold MC = 0.7. Threshold MD = 0.7\n",
      "RD = 287 NZ = 380 NZA = 563 pNZ = 0.033% pNZA = 0.049% AD = 75.53% ADA = 50.98% NO = 99 GSP = 59.60% NSP = 40.40%\n",
      "SI2 = -5.45 SI = -14.45 eGROI = 0.32% eROI = -3.54% eROI2 = -1.66% eROI3 = -2.65% mSpread = 0.0390%\n"
     ]
    },
    {
     "name": "stderr",
     "output_type": "stream",
     "text": [
      "0it [00:00, ?it/s]\n"
     ]
    },
    {
     "name": "stdout",
     "output_type": "stream",
     "text": [
      "Epoch = 16. Time index = 3. Threshold MC = 0.7. Threshold MD = 0.8\n",
      "RD = 78 NZ = 84 NZA = 102 pNZ = 0.007% pNZA = 0.009% AD = 92.86% ADA = 76.47% NO = 1 GSP = 0.00% NSP = 0.00%\n",
      "SI2 = -0.55 SI = -0.55 eGROI = 0.00% eROI = 0.00% eROI2 = 0.00% eROI3 = 0.00% mSpread = 0.0000%\n"
     ]
    },
    {
     "name": "stderr",
     "output_type": "stream",
     "text": [
      "0it [00:00, ?it/s]\n"
     ]
    },
    {
     "name": "stdout",
     "output_type": "stream",
     "text": [
      "Epoch = 16. Time index = 3. Threshold MC = 0.7. Threshold MD = 0.9\n",
      "RD = 0 NZ = 0 NZA = 0 pNZ = 0.000% pNZA = 0.000% AD = 0.00% ADA = 0.00% NO = 1 GSP = 0.00% NSP = 0.00%\n",
      "SI2 = -0.55 SI = -0.55 eGROI = 0.00% eROI = 0.00% eROI2 = 0.00% eROI3 = 0.00% mSpread = 0.0000%\n",
      "\n"
     ]
    },
    {
     "name": "stderr",
     "output_type": "stream",
     "text": [
      "100%|████████████████████████████████████████████████████████████████████████████████████████████████████████████████████████████████████| 547/547 [00:00<00:00, 3889.76it/s]\n"
     ]
    },
    {
     "name": "stdout",
     "output_type": "stream",
     "text": [
      "Epoch = 16. Time index = 3. Threshold MC = 0.8. Threshold MD = 0.5\n",
      "RD = 336 NZ = 553 NZA = 699 pNZ = 0.048% pNZA = 0.061% AD = 60.76% ADA = 48.07% NO = 324 GSP = 56.48% NSP = 50.62%\n",
      "SI2 = -13.20 SI = -14.20 eGROI = 6.91% eROI = 0.15% eROI2 = 0.43% eROI3 = -2.81% mSpread = 0.0209%\n"
     ]
    },
    {
     "name": "stderr",
     "output_type": "stream",
     "text": [
      "100%|████████████████████████████████████████████████████████████████████████████████████████████████████████████████████████████████████| 144/144 [00:00<00:00, 3521.44it/s]\n"
     ]
    },
    {
     "name": "stdout",
     "output_type": "stream",
     "text": [
      "Epoch = 16. Time index = 3. Threshold MC = 0.8. Threshold MD = 0.6\n",
      "RD = 122 NZ = 173 NZA = 224 pNZ = 0.015% pNZA = 0.019% AD = 70.52% ADA = 54.46% NO = 98 GSP = 59.18% NSP = 52.04%\n",
      "SI2 = 1.10 SI = -2.90 eGROI = 2.19% eROI = 0.01% eROI2 = 0.23% eROI3 = -0.75% mSpread = 0.0222%\n"
     ]
    },
    {
     "name": "stderr",
     "output_type": "stream",
     "text": [
      "100%|████████████████████████████████████████████████████████████████████████████████████████████████████████████████████████████████████████| 1/1 [00:00<00:00, 1002.70it/s]\n"
     ]
    },
    {
     "name": "stdout",
     "output_type": "stream",
     "text": [
      "Epoch = 16. Time index = 3. Threshold MC = 0.8. Threshold MD = 0.7\n",
      "RD = 32 NZ = 36 NZA = 49 pNZ = 0.003% pNZA = 0.004% AD = 88.89% ADA = 65.31% NO = 2 GSP = 50.00% NSP = 50.00%\n",
      "SI2 = -0.10 SI = -0.10 eGROI = 0.15% eROI = 0.08% eROI2 = 0.11% eROI3 = 0.09% mSpread = 0.0378%\n"
     ]
    },
    {
     "name": "stderr",
     "output_type": "stream",
     "text": [
      "0it [00:00, ?it/s]\n"
     ]
    },
    {
     "name": "stdout",
     "output_type": "stream",
     "text": [
      "Epoch = 16. Time index = 3. Threshold MC = 0.8. Threshold MD = 0.8\n",
      "RD = 11 NZ = 14 NZA = 15 pNZ = 0.001% pNZA = 0.001% AD = 78.57% ADA = 73.33% NO = 1 GSP = 0.00% NSP = 0.00%\n",
      "SI2 = -0.55 SI = -0.55 eGROI = 0.00% eROI = 0.00% eROI2 = 0.00% eROI3 = 0.00% mSpread = 0.0000%\n"
     ]
    },
    {
     "name": "stderr",
     "output_type": "stream",
     "text": [
      "0it [00:00, ?it/s]\n"
     ]
    },
    {
     "name": "stdout",
     "output_type": "stream",
     "text": [
      "Epoch = 16. Time index = 3. Threshold MC = 0.8. Threshold MD = 0.9\n",
      "RD = 0 NZ = 0 NZA = 0 pNZ = 0.000% pNZA = 0.000% AD = 0.00% ADA = 0.00% NO = 1 GSP = 0.00% NSP = 0.00%\n",
      "SI2 = -0.55 SI = -0.55 eGROI = 0.00% eROI = 0.00% eROI2 = 0.00% eROI3 = 0.00% mSpread = 0.0000%\n",
      "\n"
     ]
    },
    {
     "name": "stderr",
     "output_type": "stream",
     "text": [
      "0it [00:00, ?it/s]\n"
     ]
    },
    {
     "name": "stdout",
     "output_type": "stream",
     "text": [
      "Epoch = 16. Time index = 3. Threshold MC = 0.9. Threshold MD = 0.5\n",
      "RD = 0 NZ = 0 NZA = 0 pNZ = 0.000% pNZA = 0.000% AD = 0.00% ADA = 0.00% NO = 1 GSP = 0.00% NSP = 0.00%\n",
      "SI2 = -0.55 SI = -0.55 eGROI = 0.00% eROI = 0.00% eROI2 = 0.00% eROI3 = 0.00% mSpread = 0.0000%\n"
     ]
    },
    {
     "name": "stderr",
     "output_type": "stream",
     "text": [
      "0it [00:00, ?it/s]\n"
     ]
    },
    {
     "name": "stdout",
     "output_type": "stream",
     "text": [
      "Epoch = 16. Time index = 3. Threshold MC = 0.9. Threshold MD = 0.6\n",
      "RD = 0 NZ = 0 NZA = 0 pNZ = 0.000% pNZA = 0.000% AD = 0.00% ADA = 0.00% NO = 1 GSP = 0.00% NSP = 0.00%\n",
      "SI2 = -0.55 SI = -0.55 eGROI = 0.00% eROI = 0.00% eROI2 = 0.00% eROI3 = 0.00% mSpread = 0.0000%\n"
     ]
    },
    {
     "name": "stderr",
     "output_type": "stream",
     "text": [
      "0it [00:00, ?it/s]\n"
     ]
    },
    {
     "name": "stdout",
     "output_type": "stream",
     "text": [
      "Epoch = 16. Time index = 3. Threshold MC = 0.9. Threshold MD = 0.7\n",
      "RD = 0 NZ = 0 NZA = 0 pNZ = 0.000% pNZA = 0.000% AD = 0.00% ADA = 0.00% NO = 1 GSP = 0.00% NSP = 0.00%\n",
      "SI2 = -0.55 SI = -0.55 eGROI = 0.00% eROI = 0.00% eROI2 = 0.00% eROI3 = 0.00% mSpread = 0.0000%\n"
     ]
    },
    {
     "name": "stderr",
     "output_type": "stream",
     "text": [
      "0it [00:00, ?it/s]\n"
     ]
    },
    {
     "name": "stdout",
     "output_type": "stream",
     "text": [
      "Epoch = 16. Time index = 3. Threshold MC = 0.9. Threshold MD = 0.8\n",
      "RD = 0 NZ = 0 NZA = 0 pNZ = 0.000% pNZA = 0.000% AD = 0.00% ADA = 0.00% NO = 1 GSP = 0.00% NSP = 0.00%\n",
      "SI2 = -0.55 SI = -0.55 eGROI = 0.00% eROI = 0.00% eROI2 = 0.00% eROI3 = 0.00% mSpread = 0.0000%\n"
     ]
    },
    {
     "name": "stderr",
     "output_type": "stream",
     "text": [
      "0it [00:00, ?it/s]\n"
     ]
    },
    {
     "name": "stdout",
     "output_type": "stream",
     "text": [
      "Epoch = 16. Time index = 3. Threshold MC = 0.9. Threshold MD = 0.9\n",
      "RD = 0 NZ = 0 NZA = 0 pNZ = 0.000% pNZA = 0.000% AD = 0.00% ADA = 0.00% NO = 1 GSP = 0.00% NSP = 0.00%\n",
      "SI2 = -0.55 SI = -0.55 eGROI = 0.00% eROI = 0.00% eROI2 = 0.00% eROI3 = 0.00% mSpread = 0.0000%\n",
      "\n",
      "Best eGROI = 40.42 t_index 2 thr_mc 0.5 thr_md 0.6 epoch 16 in 2585\n",
      "Best eROI = 2.35 t_index 1 thr_mc 0.8 thr_md 0.5 epoch 16 in 267\n",
      "Best eROI.5 = 27.50 t_index 2 thr_mc 0.5 thr_md 0.6 epoch 16 in 2585\n",
      "Best eROI1 = 14.57 t_index 2 thr_mc 0.5 thr_md 0.6 epoch 16 in 2585\n",
      "Best eROI1.5 = 3.50 t_index 1 thr_mc 0.8 thr_md 0.5 epoch 16 in 267\n",
      "Best eROI2 = 2.17 t_index 1 thr_mc 0.8 thr_md 0.5 epoch 16 in 267\n",
      "Best eROI3 = 0.26 t_index 2 thr_mc 0.8 thr_md 0.6 epoch 16 in 85\n",
      "Best eROI4 = 0.07 t_index 3 thr_mc 0.8 thr_md 0.7 epoch 16 in 2\n",
      "Best eROI5 = 0.05 t_index 3 thr_mc 0.8 thr_md 0.7 epoch 16 in 2\n",
      "Best SI = 3.05 t_index 0 thr_mc 0.8 thr_md 0.6 epoch 16 in 49\n",
      "Best SI.5 = 111.50 t_index 1 thr_mc 0.5 thr_md 0.6 epoch 16 in 2450\n",
      "Best SI1 = 56.65 t_index 0 thr_mc 0.5 thr_md 0.6 epoch 16 in 2117\n",
      "Best SI1.5 = 15.65 t_index 1 thr_mc 0.7 thr_md 0.6 epoch 16 in 497\n",
      "Best SI2 = 4.05 t_index 0 thr_mc 0.8 thr_md 0.6 epoch 16 in 49\n",
      "Best SI3 = 2.05 t_index 0 thr_mc 0.8 thr_md 0.6 epoch 16 in 49\n",
      "Best SI4 = -0.10 t_index 3 thr_mc 0.8 thr_md 0.7 epoch 16 in 2\n",
      "Best SI5 = -0.10 t_index 3 thr_mc 0.8 thr_md 0.7 epoch 16 in 2\n",
      "\n",
      "The very best:\n",
      "Best eGROI = 40.42 t_index 2 thr_mc 0.5 thr_md 0.6 epoch 16 in 2585\n",
      "Best eROI = 3.37 t_index 3 thr_mc 0.8 thr_md 0.5 epoch 8 in 141\n",
      "Best eROI.5 = 27.76 t_index 3 thr_mc 0.5 thr_md 0.6 epoch 12 in 2426\n",
      "Best eROI1 = 15.63 t_index 3 thr_mc 0.5 thr_md 0.6 epoch 12 in 2426\n",
      "Best eROI1.5 = 5.80 t_index 3 thr_mc 0.6 thr_md 0.6 epoch 11 in 1839\n",
      "Best eROI2 = 3.16 t_index 3 thr_mc 0.8 thr_md 0.5 epoch 8 in 141\n",
      "Best eROI3 = 1.75 t_index 3 thr_mc 0.8 thr_md 0.5 epoch 8 in 141\n",
      "Best eROI4 = 0.50 t_index 3 thr_mc 0.8 thr_md 0.6 epoch 10 in 14\n",
      "Best eROI5 = 0.36 t_index 3 thr_mc 0.8 thr_md 0.6 epoch 10 in 14\n",
      "Best SI = 4.45 t_index 3 thr_mc 0.8 thr_md 0.5 epoch 8 in 141\n",
      "Best SI.5 = 128.70 t_index 3 thr_mc 0.5 thr_md 0.6 epoch 12 in 2426\n",
      "Best SI1 = 73.85 t_index 0 thr_mc 0.5 thr_md 0.6 epoch 14 in 1933\n",
      "Best SI1.5 = 16.90 t_index 1 thr_mc 0.7 thr_md 0.6 epoch 13 in 342\n",
      "Best SI2 = 6.90 t_index 1 thr_mc 0.7 thr_md 0.6 epoch 13 in 342\n",
      "Best SI3 = 4.95 t_index 3 thr_mc 0.8 thr_md 0.6 epoch 13 in 51\n",
      "Best SI4 = 1.95 t_index 3 thr_mc 0.8 thr_md 0.6 epoch 13 in 51\n",
      "Best SI5 = 1.05 t_index 0 thr_mc 0.5 thr_md 0.7 epoch 13 in 9\n",
      "Time=88.20 secs\n",
      "INFO:tensorflow:Restoring parameters from ../../RNN/weights/000520/000017/000017\n",
      "Parameters loaded. Epoch 17\n",
      "Epoch 17 of 34. Getting output...\n"
     ]
    },
    {
     "name": "stderr",
     "output_type": "stream",
     "text": [
      "100%|████████████████████████████████████████████████████████████████████████████████████████████████████████████████████████████████████████| 23/23 [01:32<00:00,  4.07s/it]\n"
     ]
    },
    {
     "name": "stdout",
     "output_type": "stream",
     "text": [
      "Getting results\n",
      "Epoch 17, J_train = 6.503521188520186, J_test = 6.331930948340374\n"
     ]
    },
    {
     "name": "stderr",
     "output_type": "stream",
     "text": [
      "0it [00:00, ?it/s]\n"
     ]
    },
    {
     "name": "stdout",
     "output_type": "stream",
     "text": [
      "Epoch = 17. Time index = 0. Threshold MC = 0.5. Threshold MD = 0.5\n",
      "J_test = 6.331930948340374, J_train = 6.503521188520186, Accuracy=0.5481299832075861\n",
      "RD = 263630 NZ = 506657 NZA = 963957 pNZ = 44.106% pNZA = 83.915% AD = 52.03% ADA = 27.35% NO = 1 GSP = 0.00% NSP = 0.00%\n",
      "SI2 = -0.55 SI = -0.55 eGROI = 0.00% eROI = 0.00% eROI2 = 0.00% eROI3 = 0.00% mSpread = 0.0000%\n"
     ]
    },
    {
     "name": "stderr",
     "output_type": "stream",
     "text": [
      "100%|██████████████████████████████████████████████████████████████████████████████████████████████████████████████████████████████████| 9797/9797 [00:01<00:00, 5241.69it/s]\n"
     ]
    },
    {
     "name": "stdout",
     "output_type": "stream",
     "text": [
      "Epoch = 17. Time index = 0. Threshold MC = 0.5. Threshold MD = 0.6\n",
      "RD = 8742 NZ = 13359 NZA = 28276 pNZ = 1.163% pNZA = 2.461% AD = 65.44% ADA = 30.92% NO = 2198 GSP = 63.19% NSP = 42.99%\n",
      "SI2 = -74.90 SI = -263.90 eGROI = 35.37% eROI = -35.15% eROI2 = -8.59% eROI3 = -30.57% mSpread = 0.0321%\n"
     ]
    },
    {
     "name": "stderr",
     "output_type": "stream",
     "text": [
      "100%|████████████████████████████████████████████████████████████████████████████████████████████████████████████████████████████████████| 209/209 [00:00<00:00, 2721.95it/s]\n"
     ]
    },
    {
     "name": "stdout",
     "output_type": "stream",
     "text": [
      "Epoch = 17. Time index = 0. Threshold MC = 0.5. Threshold MD = 0.7\n",
      "RD = 1003 NZ = 1255 NZA = 2503 pNZ = 0.109% pNZA = 0.218% AD = 79.92% ADA = 40.07% NO = 132 GSP = 68.94% NSP = 31.06%\n",
      "SI2 = -5.60 SI = -31.60 eGROI = 2.82% eROI = -2.36% eROI2 = 0.18% eROI3 = -1.14% mSpread = 0.0392%\n"
     ]
    },
    {
     "name": "stderr",
     "output_type": "stream",
     "text": [
      "0it [00:00, ?it/s]\n"
     ]
    },
    {
     "name": "stdout",
     "output_type": "stream",
     "text": [
      "Epoch = 17. Time index = 0. Threshold MC = 0.5. Threshold MD = 0.8\n",
      "RD = 84 NZ = 89 NZA = 146 pNZ = 0.008% pNZA = 0.013% AD = 94.38% ADA = 57.53% NO = 1 GSP = 0.00% NSP = 0.00%\n",
      "SI2 = -0.55 SI = -0.55 eGROI = 0.00% eROI = 0.00% eROI2 = 0.00% eROI3 = 0.00% mSpread = 0.0000%\n"
     ]
    },
    {
     "name": "stderr",
     "output_type": "stream",
     "text": [
      "0it [00:00, ?it/s]\n"
     ]
    },
    {
     "name": "stdout",
     "output_type": "stream",
     "text": [
      "Epoch = 17. Time index = 0. Threshold MC = 0.5. Threshold MD = 0.9\n",
      "RD = 0 NZ = 0 NZA = 0 pNZ = 0.000% pNZA = 0.000% AD = 0.00% ADA = 0.00% NO = 1 GSP = 0.00% NSP = 0.00%\n",
      "SI2 = -0.55 SI = -0.55 eGROI = 0.00% eROI = 0.00% eROI2 = 0.00% eROI3 = 0.00% mSpread = 0.0000%\n",
      "\n"
     ]
    },
    {
     "name": "stderr",
     "output_type": "stream",
     "text": [
      "0it [00:00, ?it/s]\n"
     ]
    },
    {
     "name": "stdout",
     "output_type": "stream",
     "text": [
      "Epoch = 17. Time index = 0. Threshold MC = 0.6. Threshold MD = 0.5\n",
      "RD = 87497 NZ = 165043 NZA = 271668 pNZ = 14.367% pNZA = 23.649% AD = 53.01% ADA = 32.21% NO = 1 GSP = 0.00% NSP = 0.00%\n",
      "SI2 = -0.55 SI = -0.55 eGROI = 0.00% eROI = 0.00% eROI2 = 0.00% eROI3 = 0.00% mSpread = 0.0000%\n"
     ]
    },
    {
     "name": "stderr",
     "output_type": "stream",
     "text": [
      "100%|██████████████████████████████████████████████████████████████████████████████████████████████████████████████████████████████████| 4576/4576 [00:00<00:00, 5249.62it/s]\n"
     ]
    },
    {
     "name": "stdout",
     "output_type": "stream",
     "text": [
      "Epoch = 17. Time index = 0. Threshold MC = 0.6. Threshold MD = 0.6\n",
      "RD = 3841 NZ = 5826 NZA = 10082 pNZ = 0.507% pNZA = 0.878% AD = 65.93% ADA = 38.10% NO = 1325 GSP = 64.60% NSP = 46.72%\n",
      "SI2 = -33.75 SI = -109.75 eGROI = 22.48% eROI = -15.80% eROI2 = -4.02% eROI3 = -17.27% mSpread = 0.0289%\n"
     ]
    },
    {
     "name": "stderr",
     "output_type": "stream",
     "text": [
      "100%|████████████████████████████████████████████████████████████████████████████████████████████████████████████████████████████████████| 120/120 [00:00<00:00, 3760.02it/s]\n"
     ]
    },
    {
     "name": "stdout",
     "output_type": "stream",
     "text": [
      "Epoch = 17. Time index = 0. Threshold MC = 0.6. Threshold MD = 0.7\n",
      "RD = 516 NZ = 620 NZA = 1019 pNZ = 0.054% pNZA = 0.089% AD = 83.23% ADA = 50.64% NO = 79 GSP = 67.09% NSP = 34.18%\n",
      "SI2 = -2.45 SI = -16.45 eGROI = 1.54% eROI = -1.62% eROI2 = -0.04% eROI3 = -0.83% mSpread = 0.0400%\n"
     ]
    },
    {
     "name": "stderr",
     "output_type": "stream",
     "text": [
      "0it [00:00, ?it/s]\n"
     ]
    },
    {
     "name": "stdout",
     "output_type": "stream",
     "text": [
      "Epoch = 17. Time index = 0. Threshold MC = 0.6. Threshold MD = 0.8\n",
      "RD = 61 NZ = 63 NZA = 87 pNZ = 0.005% pNZA = 0.008% AD = 96.83% ADA = 70.11% NO = 1 GSP = 0.00% NSP = 0.00%\n",
      "SI2 = -0.55 SI = -0.55 eGROI = 0.00% eROI = 0.00% eROI2 = 0.00% eROI3 = 0.00% mSpread = 0.0000%\n"
     ]
    },
    {
     "name": "stderr",
     "output_type": "stream",
     "text": [
      "0it [00:00, ?it/s]\n"
     ]
    },
    {
     "name": "stdout",
     "output_type": "stream",
     "text": [
      "Epoch = 17. Time index = 0. Threshold MC = 0.6. Threshold MD = 0.9\n",
      "RD = 0 NZ = 0 NZA = 0 pNZ = 0.000% pNZA = 0.000% AD = 0.00% ADA = 0.00% NO = 1 GSP = 0.00% NSP = 0.00%\n",
      "SI2 = -0.55 SI = -0.55 eGROI = 0.00% eROI = 0.00% eROI2 = 0.00% eROI3 = 0.00% mSpread = 0.0000%\n",
      "\n"
     ]
    },
    {
     "name": "stderr",
     "output_type": "stream",
     "text": [
      "100%|████████████████████████████████████████████████████████████████████████████████████████████████████████████████████████████████| 12643/12643 [00:02<00:00, 4686.68it/s]\n"
     ]
    },
    {
     "name": "stdout",
     "output_type": "stream",
     "text": [
      "Epoch = 17. Time index = 0. Threshold MC = 0.7. Threshold MD = 0.5\n",
      "RD = 8833 NZ = 16187 NZA = 22780 pNZ = 1.409% pNZA = 1.983% AD = 54.57% ADA = 38.78% NO = 2509 GSP = 53.17% NSP = 45.72%\n",
      "SI2 = -214.95 SI = -232.95 eGROI = 9.29% eROI = -39.54% eROI2 = -40.89% eROI3 = -65.98% mSpread = 0.0195%\n"
     ]
    },
    {
     "name": "stderr",
     "output_type": "stream",
     "text": [
      "100%|██████████████████████████████████████████████████████████████████████████████████████████████████████████████████████████████████| 1117/1117 [00:00<00:00, 4194.65it/s]\n"
     ]
    },
    {
     "name": "stdout",
     "output_type": "stream",
     "text": [
      "Epoch = 17. Time index = 0. Threshold MC = 0.7. Threshold MD = 0.6\n",
      "RD = 1026 NZ = 1537 NZA = 2163 pNZ = 0.134% pNZA = 0.188% AD = 66.75% ADA = 47.43% NO = 480 GSP = 63.33% NSP = 52.92%\n",
      "SI2 = -2.00 SI = -10.00 eGROI = 7.95% eROI = -2.36% eROI2 = -1.65% eROI3 = -6.45% mSpread = 0.0215%\n"
     ]
    },
    {
     "name": "stderr",
     "output_type": "stream",
     "text": [
      "0it [00:00, ?it/s]\n"
     ]
    },
    {
     "name": "stdout",
     "output_type": "stream",
     "text": [
      "Epoch = 17. Time index = 0. Threshold MC = 0.7. Threshold MD = 0.7\n",
      "RD = 117 NZ = 143 NZA = 182 pNZ = 0.012% pNZA = 0.016% AD = 81.82% ADA = 64.29% NO = 1 GSP = 0.00% NSP = 0.00%\n",
      "SI2 = -0.55 SI = -0.55 eGROI = -0.18% eROI = -0.27% eROI2 = -0.20% eROI3 = -0.21% mSpread = 0.0855%\n"
     ]
    },
    {
     "name": "stderr",
     "output_type": "stream",
     "text": [
      "0it [00:00, ?it/s]\n"
     ]
    },
    {
     "name": "stdout",
     "output_type": "stream",
     "text": [
      "Epoch = 17. Time index = 0. Threshold MC = 0.7. Threshold MD = 0.8\n",
      "RD = 21 NZ = 21 NZA = 25 pNZ = 0.002% pNZA = 0.002% AD = 100.00% ADA = 84.00% NO = 1 GSP = 0.00% NSP = 0.00%\n",
      "SI2 = -0.55 SI = -0.55 eGROI = 0.00% eROI = 0.00% eROI2 = 0.00% eROI3 = 0.00% mSpread = 0.0000%\n"
     ]
    },
    {
     "name": "stderr",
     "output_type": "stream",
     "text": [
      "0it [00:00, ?it/s]\n"
     ]
    },
    {
     "name": "stdout",
     "output_type": "stream",
     "text": [
      "Epoch = 17. Time index = 0. Threshold MC = 0.7. Threshold MD = 0.9\n",
      "RD = 0 NZ = 0 NZA = 0 pNZ = 0.000% pNZA = 0.000% AD = 0.00% ADA = 0.00% NO = 1 GSP = 0.00% NSP = 0.00%\n",
      "SI2 = -0.55 SI = -0.55 eGROI = 0.00% eROI = 0.00% eROI2 = 0.00% eROI3 = 0.00% mSpread = 0.0000%\n",
      "\n"
     ]
    },
    {
     "name": "stderr",
     "output_type": "stream",
     "text": [
      "100%|████████████████████████████████████████████████████████████████████████████████████████████████████████████████████████████████████| 595/595 [00:00<00:00, 3899.07it/s]\n"
     ]
    },
    {
     "name": "stdout",
     "output_type": "stream",
     "text": [
      "Epoch = 17. Time index = 0. Threshold MC = 0.8. Threshold MD = 0.5\n",
      "RD = 441 NZ = 730 NZA = 918 pNZ = 0.064% pNZA = 0.080% AD = 60.41% ADA = 48.04% NO = 311 GSP = 55.31% NSP = 51.77%\n",
      "SI2 = -11.05 SI = -10.05 eGROI = 6.22% eROI = 0.36% eROI2 = 0.00% eROI3 = -3.11% mSpread = 0.0189%\n"
     ]
    },
    {
     "name": "stderr",
     "output_type": "stream",
     "text": [
      "100%|██████████████████████████████████████████████████████████████████████████████████████████████████████████████████████████████████████| 62/62 [00:00<00:00, 2960.19it/s]\n"
     ]
    },
    {
     "name": "stdout",
     "output_type": "stream",
     "text": [
      "Epoch = 17. Time index = 0. Threshold MC = 0.8. Threshold MD = 0.6\n",
      "RD = 85 NZ = 118 NZA = 158 pNZ = 0.010% pNZA = 0.014% AD = 72.03% ADA = 53.80% NO = 56 GSP = 67.86% NSP = 60.71%\n",
      "SI2 = 3.20 SI = 3.20 eGROI = 2.55% eROI = 1.43% eROI2 = 1.43% eROI3 = 0.87% mSpread = 0.0201%\n"
     ]
    },
    {
     "name": "stderr",
     "output_type": "stream",
     "text": [
      "0it [00:00, ?it/s]\n"
     ]
    },
    {
     "name": "stdout",
     "output_type": "stream",
     "text": [
      "Epoch = 17. Time index = 0. Threshold MC = 0.8. Threshold MD = 0.7\n",
      "RD = 13 NZ = 15 NZA = 18 pNZ = 0.001% pNZA = 0.002% AD = 86.67% ADA = 72.22% NO = 1 GSP = 0.00% NSP = 0.00%\n",
      "SI2 = -0.55 SI = -0.55 eGROI = 0.00% eROI = 0.00% eROI2 = 0.00% eROI3 = 0.00% mSpread = 0.0000%\n"
     ]
    },
    {
     "name": "stderr",
     "output_type": "stream",
     "text": [
      "0it [00:00, ?it/s]\n"
     ]
    },
    {
     "name": "stdout",
     "output_type": "stream",
     "text": [
      "Epoch = 17. Time index = 0. Threshold MC = 0.8. Threshold MD = 0.8\n",
      "RD = 0 NZ = 0 NZA = 0 pNZ = 0.000% pNZA = 0.000% AD = 0.00% ADA = 0.00% NO = 1 GSP = 0.00% NSP = 0.00%\n",
      "SI2 = -0.55 SI = -0.55 eGROI = 0.00% eROI = 0.00% eROI2 = 0.00% eROI3 = 0.00% mSpread = 0.0000%\n"
     ]
    },
    {
     "name": "stderr",
     "output_type": "stream",
     "text": [
      "0it [00:00, ?it/s]\n"
     ]
    },
    {
     "name": "stdout",
     "output_type": "stream",
     "text": [
      "Epoch = 17. Time index = 0. Threshold MC = 0.8. Threshold MD = 0.9\n",
      "RD = 0 NZ = 0 NZA = 0 pNZ = 0.000% pNZA = 0.000% AD = 0.00% ADA = 0.00% NO = 1 GSP = 0.00% NSP = 0.00%\n",
      "SI2 = -0.55 SI = -0.55 eGROI = 0.00% eROI = 0.00% eROI2 = 0.00% eROI3 = 0.00% mSpread = 0.0000%\n",
      "\n"
     ]
    },
    {
     "name": "stderr",
     "output_type": "stream",
     "text": [
      "0it [00:00, ?it/s]\n"
     ]
    },
    {
     "name": "stdout",
     "output_type": "stream",
     "text": [
      "Epoch = 17. Time index = 0. Threshold MC = 0.9. Threshold MD = 0.5\n",
      "RD = 0 NZ = 0 NZA = 0 pNZ = 0.000% pNZA = 0.000% AD = 0.00% ADA = 0.00% NO = 1 GSP = 0.00% NSP = 0.00%\n",
      "SI2 = -0.55 SI = -0.55 eGROI = 0.00% eROI = 0.00% eROI2 = 0.00% eROI3 = 0.00% mSpread = 0.0000%\n"
     ]
    },
    {
     "name": "stderr",
     "output_type": "stream",
     "text": [
      "0it [00:00, ?it/s]\n"
     ]
    },
    {
     "name": "stdout",
     "output_type": "stream",
     "text": [
      "Epoch = 17. Time index = 0. Threshold MC = 0.9. Threshold MD = 0.6\n",
      "RD = 0 NZ = 0 NZA = 0 pNZ = 0.000% pNZA = 0.000% AD = 0.00% ADA = 0.00% NO = 1 GSP = 0.00% NSP = 0.00%\n",
      "SI2 = -0.55 SI = -0.55 eGROI = 0.00% eROI = 0.00% eROI2 = 0.00% eROI3 = 0.00% mSpread = 0.0000%\n"
     ]
    },
    {
     "name": "stderr",
     "output_type": "stream",
     "text": [
      "0it [00:00, ?it/s]\n"
     ]
    },
    {
     "name": "stdout",
     "output_type": "stream",
     "text": [
      "Epoch = 17. Time index = 0. Threshold MC = 0.9. Threshold MD = 0.7\n",
      "RD = 0 NZ = 0 NZA = 0 pNZ = 0.000% pNZA = 0.000% AD = 0.00% ADA = 0.00% NO = 1 GSP = 0.00% NSP = 0.00%\n",
      "SI2 = -0.55 SI = -0.55 eGROI = 0.00% eROI = 0.00% eROI2 = 0.00% eROI3 = 0.00% mSpread = 0.0000%\n"
     ]
    },
    {
     "name": "stderr",
     "output_type": "stream",
     "text": [
      "0it [00:00, ?it/s]\n"
     ]
    },
    {
     "name": "stdout",
     "output_type": "stream",
     "text": [
      "Epoch = 17. Time index = 0. Threshold MC = 0.9. Threshold MD = 0.8\n",
      "RD = 0 NZ = 0 NZA = 0 pNZ = 0.000% pNZA = 0.000% AD = 0.00% ADA = 0.00% NO = 1 GSP = 0.00% NSP = 0.00%\n",
      "SI2 = -0.55 SI = -0.55 eGROI = 0.00% eROI = 0.00% eROI2 = 0.00% eROI3 = 0.00% mSpread = 0.0000%\n"
     ]
    },
    {
     "name": "stderr",
     "output_type": "stream",
     "text": [
      "0it [00:00, ?it/s]\n"
     ]
    },
    {
     "name": "stdout",
     "output_type": "stream",
     "text": [
      "Epoch = 17. Time index = 0. Threshold MC = 0.9. Threshold MD = 0.9\n",
      "RD = 0 NZ = 0 NZA = 0 pNZ = 0.000% pNZA = 0.000% AD = 0.00% ADA = 0.00% NO = 1 GSP = 0.00% NSP = 0.00%\n",
      "SI2 = -0.55 SI = -0.55 eGROI = 0.00% eROI = 0.00% eROI2 = 0.00% eROI3 = 0.00% mSpread = 0.0000%\n",
      "\n"
     ]
    },
    {
     "name": "stderr",
     "output_type": "stream",
     "text": [
      "0it [00:00, ?it/s]\n"
     ]
    },
    {
     "name": "stdout",
     "output_type": "stream",
     "text": [
      "Epoch = 17. Time index = 1. Threshold MC = 0.5. Threshold MD = 0.5\n",
      "J_test = 6.331930948340374, J_train = 6.503521188520186, Accuracy=0.5426012833269349\n",
      "RD = 267363 NZ = 514331 NZA = 985656 pNZ = 44.774% pNZA = 85.804% AD = 51.98% ADA = 27.13% NO = 1 GSP = 0.00% NSP = 0.00%\n",
      "SI2 = -0.55 SI = -0.55 eGROI = 0.00% eROI = 0.00% eROI2 = 0.00% eROI3 = 0.00% mSpread = 0.0000%\n"
     ]
    },
    {
     "name": "stderr",
     "output_type": "stream",
     "text": [
      "100%|████████████████████████████████████████████████████████████████████████████████████████████████████████████████████████████████| 13123/13123 [00:02<00:00, 5394.62it/s]\n"
     ]
    },
    {
     "name": "stdout",
     "output_type": "stream",
     "text": [
      "Epoch = 17. Time index = 1. Threshold MC = 0.5. Threshold MD = 0.6\n",
      "RD = 8966 NZ = 13435 NZA = 28333 pNZ = 1.170% pNZA = 2.466% AD = 66.74% ADA = 31.65% NO = 2519 GSP = 62.64% NSP = 42.83%\n",
      "SI2 = -96.45 SI = -306.45 eGROI = 39.80% eROI = -39.15% eROI2 = -10.58% eROI3 = -35.77% mSpread = 0.0313%\n"
     ]
    },
    {
     "name": "stderr",
     "output_type": "stream",
     "text": [
      "100%|████████████████████████████████████████████████████████████████████████████████████████████████████████████████████████████████████| 983/983 [00:00<00:00, 4761.39it/s]\n"
     ]
    },
    {
     "name": "stdout",
     "output_type": "stream",
     "text": [
      "Epoch = 17. Time index = 1. Threshold MC = 0.5. Threshold MD = 0.7\n",
      "RD = 1544 NZ = 2015 NZA = 4264 pNZ = 0.175% pNZA = 0.371% AD = 76.63% ADA = 36.21% NO = 336 GSP = 67.86% NSP = 37.50%\n",
      "SI2 = -6.80 SI = -58.80 eGROI = 5.26% eROI = -7.58% eROI2 = -1.46% eROI3 = -4.82% mSpread = 0.0382%\n"
     ]
    },
    {
     "name": "stderr",
     "output_type": "stream",
     "text": [
      "0it [00:00, ?it/s]\n"
     ]
    },
    {
     "name": "stdout",
     "output_type": "stream",
     "text": [
      "Epoch = 17. Time index = 1. Threshold MC = 0.5. Threshold MD = 0.8\n",
      "RD = 300 NZ = 326 NZA = 557 pNZ = 0.028% pNZA = 0.048% AD = 92.02% ADA = 53.86% NO = 1 GSP = 0.00% NSP = 0.00%\n",
      "SI2 = -0.55 SI = -0.55 eGROI = 0.00% eROI = 0.00% eROI2 = 0.00% eROI3 = 0.00% mSpread = 0.0000%\n"
     ]
    },
    {
     "name": "stderr",
     "output_type": "stream",
     "text": [
      "0it [00:00, ?it/s]\n"
     ]
    },
    {
     "name": "stdout",
     "output_type": "stream",
     "text": [
      "Epoch = 17. Time index = 1. Threshold MC = 0.5. Threshold MD = 0.9\n",
      "RD = 1 NZ = 1 NZA = 1 pNZ = 0.000% pNZA = 0.000% AD = 100.00% ADA = 100.00% NO = 1 GSP = 0.00% NSP = 0.00%\n",
      "SI2 = -0.55 SI = -0.55 eGROI = 0.00% eROI = 0.00% eROI2 = 0.00% eROI3 = 0.00% mSpread = 0.0000%\n",
      "\n"
     ]
    },
    {
     "name": "stderr",
     "output_type": "stream",
     "text": [
      "0it [00:00, ?it/s]\n"
     ]
    },
    {
     "name": "stdout",
     "output_type": "stream",
     "text": [
      "Epoch = 17. Time index = 1. Threshold MC = 0.6. Threshold MD = 0.5\n",
      "RD = 86494 NZ = 163365 NZA = 270069 pNZ = 14.221% pNZA = 23.510% AD = 52.95% ADA = 32.03% NO = 1 GSP = 0.00% NSP = 0.00%\n",
      "SI2 = -0.55 SI = -0.55 eGROI = 0.00% eROI = 0.00% eROI2 = 0.00% eROI3 = 0.00% mSpread = 0.0000%\n"
     ]
    },
    {
     "name": "stderr",
     "output_type": "stream",
     "text": [
      "100%|██████████████████████████████████████████████████████████████████████████████████████████████████████████████████████████████████| 7633/7633 [00:01<00:00, 4741.72it/s]\n"
     ]
    },
    {
     "name": "stdout",
     "output_type": "stream",
     "text": [
      "Epoch = 17. Time index = 1. Threshold MC = 0.6. Threshold MD = 0.6\n",
      "RD = 4586 NZ = 6836 NZA = 12063 pNZ = 0.595% pNZA = 1.050% AD = 67.09% ADA = 38.02% NO = 1768 GSP = 62.78% NSP = 44.91%\n",
      "SI2 = -63.40 SI = -178.40 eGROI = 26.60% eROI = -25.16% eROI2 = -8.76% eROI3 = -26.44% mSpread = 0.0293%\n"
     ]
    },
    {
     "name": "stderr",
     "output_type": "stream",
     "text": [
      "100%|████████████████████████████████████████████████████████████████████████████████████████████████████████████████████████████████████| 839/839 [00:00<00:00, 4103.60it/s]\n"
     ]
    },
    {
     "name": "stdout",
     "output_type": "stream",
     "text": [
      "Epoch = 17. Time index = 1. Threshold MC = 0.6. Threshold MD = 0.7\n",
      "RD = 882 NZ = 1138 NZA = 2080 pNZ = 0.099% pNZA = 0.181% AD = 77.50% ADA = 42.40% NO = 280 GSP = 67.86% NSP = 38.57%\n",
      "SI2 = -10.00 SI = -46.00 eGROI = 4.63% eROI = -5.79% eROI2 = -0.97% eROI3 = -3.77% mSpread = 0.0372%\n"
     ]
    },
    {
     "name": "stderr",
     "output_type": "stream",
     "text": [
      "0it [00:00, ?it/s]\n"
     ]
    },
    {
     "name": "stdout",
     "output_type": "stream",
     "text": [
      "Epoch = 17. Time index = 1. Threshold MC = 0.6. Threshold MD = 0.8\n",
      "RD = 225 NZ = 243 NZA = 363 pNZ = 0.021% pNZA = 0.032% AD = 92.59% ADA = 61.98% NO = 1 GSP = 0.00% NSP = 0.00%\n",
      "SI2 = -0.55 SI = -0.55 eGROI = 0.00% eROI = 0.00% eROI2 = 0.00% eROI3 = 0.00% mSpread = 0.0000%\n"
     ]
    },
    {
     "name": "stderr",
     "output_type": "stream",
     "text": [
      "0it [00:00, ?it/s]\n"
     ]
    },
    {
     "name": "stdout",
     "output_type": "stream",
     "text": [
      "Epoch = 17. Time index = 1. Threshold MC = 0.6. Threshold MD = 0.9\n",
      "RD = 1 NZ = 1 NZA = 1 pNZ = 0.000% pNZA = 0.000% AD = 100.00% ADA = 100.00% NO = 1 GSP = 0.00% NSP = 0.00%\n",
      "SI2 = -0.55 SI = -0.55 eGROI = 0.00% eROI = 0.00% eROI2 = 0.00% eROI3 = 0.00% mSpread = 0.0000%\n",
      "\n"
     ]
    },
    {
     "name": "stderr",
     "output_type": "stream",
     "text": [
      "100%|██████████████████████████████████████████████████████████████████████████████████████████████████████████████████████████████████| 9304/9304 [00:01<00:00, 4713.78it/s]\n"
     ]
    },
    {
     "name": "stdout",
     "output_type": "stream",
     "text": [
      "Epoch = 17. Time index = 1. Threshold MC = 0.7. Threshold MD = 0.5\n",
      "RD = 5966 NZ = 10726 NZA = 14824 pNZ = 0.934% pNZA = 1.290% AD = 55.62% ADA = 40.25% NO = 1826 GSP = 54.65% NSP = 46.82%\n",
      "SI2 = -127.30 SI = -149.30 eGROI = 10.78% eROI = -26.17% eROI2 = -25.74% eROI3 = -44.00% mSpread = 0.0202%\n"
     ]
    },
    {
     "name": "stderr",
     "output_type": "stream",
     "text": [
      "100%|██████████████████████████████████████████████████████████████████████████████████████████████████████████████████████████████████| 1574/1574 [00:00<00:00, 4495.71it/s]\n"
     ]
    },
    {
     "name": "stdout",
     "output_type": "stream",
     "text": [
      "Epoch = 17. Time index = 1. Threshold MC = 0.7. Threshold MD = 0.6\n",
      "RD = 1136 NZ = 1728 NZA = 2423 pNZ = 0.150% pNZA = 0.211% AD = 65.74% ADA = 46.88% NO = 548 GSP = 63.32% NSP = 52.55%\n",
      "SI2 = -4.40 SI = -13.40 eGROI = 10.11% eROI = -2.41% eROI2 = -0.85% eROI3 = -6.33% mSpread = 0.0228%\n"
     ]
    },
    {
     "name": "stderr",
     "output_type": "stream",
     "text": [
      "100%|██████████████████████████████████████████████████████████████████████████████████████████████████████████████████████████████████████| 49/49 [00:00<00:00, 2731.25it/s]\n"
     ]
    },
    {
     "name": "stdout",
     "output_type": "stream",
     "text": [
      "Epoch = 17. Time index = 1. Threshold MC = 0.7. Threshold MD = 0.7\n",
      "RD = 236 NZ = 292 NZA = 390 pNZ = 0.025% pNZA = 0.034% AD = 80.82% ADA = 60.51% NO = 34 GSP = 64.71% NSP = 38.24%\n",
      "SI2 = -0.70 SI = -5.70 eGROI = 0.14% eROI = -1.12% eROI2 = -0.54% eROI3 = -0.88% mSpread = 0.0368%\n"
     ]
    },
    {
     "name": "stderr",
     "output_type": "stream",
     "text": [
      "0it [00:00, ?it/s]\n"
     ]
    },
    {
     "name": "stdout",
     "output_type": "stream",
     "text": [
      "Epoch = 17. Time index = 1. Threshold MC = 0.7. Threshold MD = 0.8\n",
      "RD = 122 NZ = 131 NZA = 161 pNZ = 0.011% pNZA = 0.014% AD = 93.13% ADA = 75.78% NO = 1 GSP = 0.00% NSP = 0.00%\n",
      "SI2 = -0.55 SI = -0.55 eGROI = 0.00% eROI = 0.00% eROI2 = 0.00% eROI3 = 0.00% mSpread = 0.0000%\n"
     ]
    },
    {
     "name": "stderr",
     "output_type": "stream",
     "text": [
      "0it [00:00, ?it/s]\n"
     ]
    },
    {
     "name": "stdout",
     "output_type": "stream",
     "text": [
      "Epoch = 17. Time index = 1. Threshold MC = 0.7. Threshold MD = 0.9\n",
      "RD = 1 NZ = 1 NZA = 1 pNZ = 0.000% pNZA = 0.000% AD = 100.00% ADA = 100.00% NO = 1 GSP = 0.00% NSP = 0.00%\n",
      "SI2 = -0.55 SI = -0.55 eGROI = 0.00% eROI = 0.00% eROI2 = 0.00% eROI3 = 0.00% mSpread = 0.0000%\n",
      "\n"
     ]
    },
    {
     "name": "stderr",
     "output_type": "stream",
     "text": [
      "100%|████████████████████████████████████████████████████████████████████████████████████████████████████████████████████████████████████| 499/499 [00:00<00:00, 3403.61it/s]\n"
     ]
    },
    {
     "name": "stdout",
     "output_type": "stream",
     "text": [
      "Epoch = 17. Time index = 1. Threshold MC = 0.8. Threshold MD = 0.5\n",
      "RD = 328 NZ = 538 NZA = 679 pNZ = 0.047% pNZA = 0.059% AD = 60.97% ADA = 48.31% NO = 278 GSP = 56.47% NSP = 52.16%\n",
      "SI2 = -8.90 SI = -7.90 eGROI = 5.53% eROI = 0.17% eROI2 = -0.03% eROI3 = -2.81% mSpread = 0.0193%\n"
     ]
    },
    {
     "name": "stderr",
     "output_type": "stream",
     "text": [
      "100%|██████████████████████████████████████████████████████████████████████████████████████████████████████████████████████████████████████| 91/91 [00:00<00:00, 1862.10it/s]\n"
     ]
    },
    {
     "name": "stdout",
     "output_type": "stream",
     "text": [
      "Epoch = 17. Time index = 1. Threshold MC = 0.8. Threshold MD = 0.6\n",
      "RD = 102 NZ = 142 NZA = 185 pNZ = 0.012% pNZA = 0.016% AD = 71.83% ADA = 55.14% NO = 69 GSP = 59.42% NSP = 55.07%\n",
      "SI2 = 1.05 SI = 0.05 eGROI = 0.96% eROI = -0.42% eROI2 = -0.42% eROI3 = -1.11% mSpread = 0.0201%\n"
     ]
    },
    {
     "name": "stderr",
     "output_type": "stream",
     "text": [
      "0it [00:00, ?it/s]\n"
     ]
    },
    {
     "name": "stdout",
     "output_type": "stream",
     "text": [
      "Epoch = 17. Time index = 1. Threshold MC = 0.8. Threshold MD = 0.7\n",
      "RD = 31 NZ = 37 NZA = 47 pNZ = 0.003% pNZA = 0.004% AD = 83.78% ADA = 65.96% NO = 1 GSP = 0.00% NSP = 0.00%\n",
      "SI2 = -0.55 SI = -0.55 eGROI = 0.00% eROI = 0.00% eROI2 = 0.00% eROI3 = 0.00% mSpread = 0.0000%\n"
     ]
    },
    {
     "name": "stderr",
     "output_type": "stream",
     "text": [
      "0it [00:00, ?it/s]\n"
     ]
    },
    {
     "name": "stdout",
     "output_type": "stream",
     "text": [
      "Epoch = 17. Time index = 1. Threshold MC = 0.8. Threshold MD = 0.8\n",
      "RD = 16 NZ = 20 NZA = 21 pNZ = 0.002% pNZA = 0.002% AD = 80.00% ADA = 76.19% NO = 1 GSP = 0.00% NSP = 0.00%\n",
      "SI2 = -0.55 SI = -0.55 eGROI = 0.00% eROI = 0.00% eROI2 = 0.00% eROI3 = 0.00% mSpread = 0.0000%\n"
     ]
    },
    {
     "name": "stderr",
     "output_type": "stream",
     "text": [
      "0it [00:00, ?it/s]\n"
     ]
    },
    {
     "name": "stdout",
     "output_type": "stream",
     "text": [
      "Epoch = 17. Time index = 1. Threshold MC = 0.8. Threshold MD = 0.9\n",
      "RD = 0 NZ = 0 NZA = 0 pNZ = 0.000% pNZA = 0.000% AD = 0.00% ADA = 0.00% NO = 1 GSP = 0.00% NSP = 0.00%\n",
      "SI2 = -0.55 SI = -0.55 eGROI = 0.00% eROI = 0.00% eROI2 = 0.00% eROI3 = 0.00% mSpread = 0.0000%\n",
      "\n"
     ]
    },
    {
     "name": "stderr",
     "output_type": "stream",
     "text": [
      "0it [00:00, ?it/s]\n"
     ]
    },
    {
     "name": "stdout",
     "output_type": "stream",
     "text": [
      "Epoch = 17. Time index = 1. Threshold MC = 0.9. Threshold MD = 0.5\n",
      "RD = 0 NZ = 0 NZA = 0 pNZ = 0.000% pNZA = 0.000% AD = 0.00% ADA = 0.00% NO = 1 GSP = 0.00% NSP = 0.00%\n",
      "SI2 = -0.55 SI = -0.55 eGROI = 0.00% eROI = 0.00% eROI2 = 0.00% eROI3 = 0.00% mSpread = 0.0000%\n"
     ]
    },
    {
     "name": "stderr",
     "output_type": "stream",
     "text": [
      "0it [00:00, ?it/s]\n"
     ]
    },
    {
     "name": "stdout",
     "output_type": "stream",
     "text": [
      "Epoch = 17. Time index = 1. Threshold MC = 0.9. Threshold MD = 0.6\n",
      "RD = 0 NZ = 0 NZA = 0 pNZ = 0.000% pNZA = 0.000% AD = 0.00% ADA = 0.00% NO = 1 GSP = 0.00% NSP = 0.00%\n",
      "SI2 = -0.55 SI = -0.55 eGROI = 0.00% eROI = 0.00% eROI2 = 0.00% eROI3 = 0.00% mSpread = 0.0000%\n"
     ]
    },
    {
     "name": "stderr",
     "output_type": "stream",
     "text": [
      "0it [00:00, ?it/s]\n"
     ]
    },
    {
     "name": "stdout",
     "output_type": "stream",
     "text": [
      "Epoch = 17. Time index = 1. Threshold MC = 0.9. Threshold MD = 0.7\n",
      "RD = 0 NZ = 0 NZA = 0 pNZ = 0.000% pNZA = 0.000% AD = 0.00% ADA = 0.00% NO = 1 GSP = 0.00% NSP = 0.00%\n",
      "SI2 = -0.55 SI = -0.55 eGROI = 0.00% eROI = 0.00% eROI2 = 0.00% eROI3 = 0.00% mSpread = 0.0000%\n"
     ]
    },
    {
     "name": "stderr",
     "output_type": "stream",
     "text": [
      "0it [00:00, ?it/s]\n"
     ]
    },
    {
     "name": "stdout",
     "output_type": "stream",
     "text": [
      "Epoch = 17. Time index = 1. Threshold MC = 0.9. Threshold MD = 0.8\n",
      "RD = 0 NZ = 0 NZA = 0 pNZ = 0.000% pNZA = 0.000% AD = 0.00% ADA = 0.00% NO = 1 GSP = 0.00% NSP = 0.00%\n",
      "SI2 = -0.55 SI = -0.55 eGROI = 0.00% eROI = 0.00% eROI2 = 0.00% eROI3 = 0.00% mSpread = 0.0000%\n"
     ]
    },
    {
     "name": "stderr",
     "output_type": "stream",
     "text": [
      "0it [00:00, ?it/s]\n"
     ]
    },
    {
     "name": "stdout",
     "output_type": "stream",
     "text": [
      "Epoch = 17. Time index = 1. Threshold MC = 0.9. Threshold MD = 0.9\n",
      "RD = 0 NZ = 0 NZA = 0 pNZ = 0.000% pNZA = 0.000% AD = 0.00% ADA = 0.00% NO = 1 GSP = 0.00% NSP = 0.00%\n",
      "SI2 = -0.55 SI = -0.55 eGROI = 0.00% eROI = 0.00% eROI2 = 0.00% eROI3 = 0.00% mSpread = 0.0000%\n",
      "\n"
     ]
    },
    {
     "name": "stderr",
     "output_type": "stream",
     "text": [
      "0it [00:00, ?it/s]\n"
     ]
    },
    {
     "name": "stdout",
     "output_type": "stream",
     "text": [
      "Epoch = 17. Time index = 2. Threshold MC = 0.5. Threshold MD = 0.5\n",
      "J_test = 6.331930948340374, J_train = 6.503521188520186, Accuracy=0.5434308929925404\n",
      "RD = 266261 NZ = 511142 NZA = 978325 pNZ = 44.496% pNZA = 85.166% AD = 52.09% ADA = 27.22% NO = 1 GSP = 0.00% NSP = 0.00%\n",
      "SI2 = -0.55 SI = -0.55 eGROI = 0.00% eROI = 0.00% eROI2 = 0.00% eROI3 = 0.00% mSpread = 0.0000%\n"
     ]
    },
    {
     "name": "stderr",
     "output_type": "stream",
     "text": [
      "100%|████████████████████████████████████████████████████████████████████████████████████████████████████████████████████████████████| 13837/13837 [00:02<00:00, 5520.81it/s]\n"
     ]
    },
    {
     "name": "stdout",
     "output_type": "stream",
     "text": [
      "Epoch = 17. Time index = 2. Threshold MC = 0.5. Threshold MD = 0.6\n",
      "RD = 10204 NZ = 15465 NZA = 32087 pNZ = 1.346% pNZA = 2.793% AD = 65.98% ADA = 31.80% NO = 2658 GSP = 61.36% NSP = 43.91%\n",
      "SI2 = -89.90 SI = -294.90 eGROI = 41.01% eROI = -39.57% eROI2 = -12.15% eROI3 = -38.73% mSpread = 0.0303%\n"
     ]
    },
    {
     "name": "stderr",
     "output_type": "stream",
     "text": [
      "100%|██████████████████████████████████████████████████████████████████████████████████████████████████████████████████████████████████| 1246/1246 [00:00<00:00, 5162.47it/s]\n"
     ]
    },
    {
     "name": "stdout",
     "output_type": "stream",
     "text": [
      "Epoch = 17. Time index = 2. Threshold MC = 0.5. Threshold MD = 0.7\n",
      "RD = 1954 NZ = 2563 NZA = 5691 pNZ = 0.223% pNZA = 0.495% AD = 76.24% ADA = 34.33% NO = 390 GSP = 67.44% NSP = 41.54%\n",
      "SI2 = 1.50 SI = -52.50 eGROI = 7.21% eROI = -7.93% eROI2 = -0.59% eROI3 = -4.49% mSpread = 0.0388%\n"
     ]
    },
    {
     "name": "stderr",
     "output_type": "stream",
     "text": [
      "0it [00:00, ?it/s]\n"
     ]
    },
    {
     "name": "stdout",
     "output_type": "stream",
     "text": [
      "Epoch = 17. Time index = 2. Threshold MC = 0.5. Threshold MD = 0.8\n",
      "RD = 315 NZ = 353 NZA = 714 pNZ = 0.031% pNZA = 0.062% AD = 89.24% ADA = 44.12% NO = 1 GSP = 0.00% NSP = 0.00%\n",
      "SI2 = -0.55 SI = -0.55 eGROI = 0.00% eROI = 0.00% eROI2 = 0.00% eROI3 = 0.00% mSpread = 0.0000%\n"
     ]
    },
    {
     "name": "stderr",
     "output_type": "stream",
     "text": [
      "0it [00:00, ?it/s]\n"
     ]
    },
    {
     "name": "stdout",
     "output_type": "stream",
     "text": [
      "Epoch = 17. Time index = 2. Threshold MC = 0.5. Threshold MD = 0.9\n",
      "RD = 4 NZ = 4 NZA = 4 pNZ = 0.000% pNZA = 0.000% AD = 100.00% ADA = 100.00% NO = 1 GSP = 0.00% NSP = 0.00%\n",
      "SI2 = -0.55 SI = -0.55 eGROI = 0.00% eROI = 0.00% eROI2 = 0.00% eROI3 = 0.00% mSpread = 0.0000%\n",
      "\n"
     ]
    },
    {
     "name": "stderr",
     "output_type": "stream",
     "text": [
      "0it [00:00, ?it/s]\n"
     ]
    },
    {
     "name": "stdout",
     "output_type": "stream",
     "text": [
      "Epoch = 17. Time index = 2. Threshold MC = 0.6. Threshold MD = 0.5\n",
      "RD = 86314 NZ = 162420 NZA = 269272 pNZ = 14.139% pNZA = 23.441% AD = 53.14% ADA = 32.05% NO = 1 GSP = 0.00% NSP = 0.00%\n",
      "SI2 = -0.55 SI = -0.55 eGROI = 0.00% eROI = 0.00% eROI2 = 0.00% eROI3 = 0.00% mSpread = 0.0000%\n"
     ]
    },
    {
     "name": "stderr",
     "output_type": "stream",
     "text": [
      "100%|██████████████████████████████████████████████████████████████████████████████████████████████████████████████████████████████████| 9686/9686 [00:01<00:00, 5139.00it/s]\n"
     ]
    },
    {
     "name": "stdout",
     "output_type": "stream",
     "text": [
      "Epoch = 17. Time index = 2. Threshold MC = 0.6. Threshold MD = 0.6\n",
      "RD = 5653 NZ = 8493 NZA = 15059 pNZ = 0.739% pNZA = 1.311% AD = 66.56% ADA = 37.54% NO = 2126 GSP = 62.04% NSP = 45.39%\n",
      "SI2 = -52.30 SI = -204.30 eGROI = 32.21% eROI = -30.72% eROI2 = -10.31% eROI3 = -31.57% mSpread = 0.0296%\n"
     ]
    },
    {
     "name": "stderr",
     "output_type": "stream",
     "text": [
      "100%|██████████████████████████████████████████████████████████████████████████████████████████████████████████████████████████████████| 1142/1142 [00:00<00:00, 4119.10it/s]\n"
     ]
    },
    {
     "name": "stdout",
     "output_type": "stream",
     "text": [
      "Epoch = 17. Time index = 2. Threshold MC = 0.6. Threshold MD = 0.7\n",
      "RD = 1035 NZ = 1362 NZA = 2581 pNZ = 0.119% pNZA = 0.225% AD = 75.99% ADA = 40.10% NO = 356 GSP = 66.29% NSP = 41.29%\n",
      "SI2 = -0.80 SI = -48.80 eGROI = 6.38% eROI = -7.18% eROI2 = -0.74% eROI3 = -4.30% mSpread = 0.0381%\n"
     ]
    },
    {
     "name": "stderr",
     "output_type": "stream",
     "text": [
      "0it [00:00, ?it/s]\n"
     ]
    },
    {
     "name": "stdout",
     "output_type": "stream",
     "text": [
      "Epoch = 17. Time index = 2. Threshold MC = 0.6. Threshold MD = 0.8\n",
      "RD = 209 NZ = 229 NZA = 356 pNZ = 0.020% pNZA = 0.031% AD = 91.27% ADA = 58.71% NO = 1 GSP = 0.00% NSP = 0.00%\n",
      "SI2 = -0.55 SI = -0.55 eGROI = 0.00% eROI = 0.00% eROI2 = 0.00% eROI3 = 0.00% mSpread = 0.0000%\n"
     ]
    },
    {
     "name": "stderr",
     "output_type": "stream",
     "text": [
      "0it [00:00, ?it/s]\n"
     ]
    },
    {
     "name": "stdout",
     "output_type": "stream",
     "text": [
      "Epoch = 17. Time index = 2. Threshold MC = 0.6. Threshold MD = 0.9\n",
      "RD = 4 NZ = 4 NZA = 4 pNZ = 0.000% pNZA = 0.000% AD = 100.00% ADA = 100.00% NO = 1 GSP = 0.00% NSP = 0.00%\n",
      "SI2 = -0.55 SI = -0.55 eGROI = 0.00% eROI = 0.00% eROI2 = 0.00% eROI3 = 0.00% mSpread = 0.0000%\n",
      "\n"
     ]
    },
    {
     "name": "stderr",
     "output_type": "stream",
     "text": [
      "100%|██████████████████████████████████████████████████████████████████████████████████████████████████████████████████████████████████| 9357/9357 [00:02<00:00, 4574.20it/s]\n"
     ]
    },
    {
     "name": "stdout",
     "output_type": "stream",
     "text": [
      "Epoch = 17. Time index = 2. Threshold MC = 0.7. Threshold MD = 0.5\n",
      "RD = 5799 NZ = 10323 NZA = 14296 pNZ = 0.899% pNZA = 1.245% AD = 56.18% ADA = 40.56% NO = 1905 GSP = 54.38% NSP = 45.56%\n",
      "SI2 = -140.75 SI = -179.75 eGROI = 12.91% eROI = -27.68% eROI2 = -25.19% eROI3 = -44.24% mSpread = 0.0213%\n"
     ]
    },
    {
     "name": "stderr",
     "output_type": "stream",
     "text": [
      "100%|██████████████████████████████████████████████████████████████████████████████████████████████████████████████████████████████████| 2316/2316 [00:00<00:00, 4364.67it/s]\n"
     ]
    },
    {
     "name": "stdout",
     "output_type": "stream",
     "text": [
      "Epoch = 17. Time index = 2. Threshold MC = 0.7. Threshold MD = 0.6\n",
      "RD = 1488 NZ = 2259 NZA = 3201 pNZ = 0.197% pNZA = 0.279% AD = 65.87% ADA = 46.49% NO = 733 GSP = 62.76% NSP = 51.43%\n",
      "SI2 = 3.85 SI = -26.15 eGROI = 13.08% eROI = -4.44% eROI2 = -1.58% eROI3 = -8.91% mSpread = 0.0239%\n"
     ]
    },
    {
     "name": "stderr",
     "output_type": "stream",
     "text": [
      "100%|████████████████████████████████████████████████████████████████████████████████████████████████████████████████████████████████████| 146/146 [00:00<00:00, 3488.78it/s]\n"
     ]
    },
    {
     "name": "stdout",
     "output_type": "stream",
     "text": [
      "Epoch = 17. Time index = 2. Threshold MC = 0.7. Threshold MD = 0.7\n",
      "RD = 280 NZ = 373 NZA = 536 pNZ = 0.032% pNZA = 0.047% AD = 75.07% ADA = 52.24% NO = 83 GSP = 54.22% NSP = 33.73%\n",
      "SI2 = -8.65 SI = -17.65 eGROI = -0.06% eROI = -2.84% eROI2 = -1.72% eROI3 = -2.55% mSpread = 0.0335%\n"
     ]
    },
    {
     "name": "stderr",
     "output_type": "stream",
     "text": [
      "0it [00:00, ?it/s]\n"
     ]
    },
    {
     "name": "stdout",
     "output_type": "stream",
     "text": [
      "Epoch = 17. Time index = 2. Threshold MC = 0.7. Threshold MD = 0.8\n",
      "RD = 111 NZ = 122 NZA = 152 pNZ = 0.011% pNZA = 0.013% AD = 90.98% ADA = 73.03% NO = 1 GSP = 0.00% NSP = 0.00%\n",
      "SI2 = -0.55 SI = -0.55 eGROI = 0.00% eROI = 0.00% eROI2 = 0.00% eROI3 = 0.00% mSpread = 0.0000%\n"
     ]
    },
    {
     "name": "stderr",
     "output_type": "stream",
     "text": [
      "0it [00:00, ?it/s]\n"
     ]
    },
    {
     "name": "stdout",
     "output_type": "stream",
     "text": [
      "Epoch = 17. Time index = 2. Threshold MC = 0.7. Threshold MD = 0.9\n",
      "RD = 3 NZ = 3 NZA = 3 pNZ = 0.000% pNZA = 0.000% AD = 100.00% ADA = 100.00% NO = 1 GSP = 0.00% NSP = 0.00%\n",
      "SI2 = -0.55 SI = -0.55 eGROI = 0.00% eROI = 0.00% eROI2 = 0.00% eROI3 = 0.00% mSpread = 0.0000%\n",
      "\n"
     ]
    },
    {
     "name": "stderr",
     "output_type": "stream",
     "text": [
      "100%|████████████████████████████████████████████████████████████████████████████████████████████████████████████████████████████████████| 618/618 [00:00<00:00, 3349.57it/s]\n"
     ]
    },
    {
     "name": "stdout",
     "output_type": "stream",
     "text": [
      "Epoch = 17. Time index = 2. Threshold MC = 0.8. Threshold MD = 0.5\n",
      "RD = 390 NZ = 643 NZA = 812 pNZ = 0.056% pNZA = 0.071% AD = 60.65% ADA = 48.03% NO = 347 GSP = 55.33% NSP = 50.72%\n",
      "SI2 = -13.85 SI = -14.85 eGROI = 6.32% eROI = -0.93% eROI2 = -0.62% eROI3 = -4.09% mSpread = 0.0209%\n"
     ]
    },
    {
     "name": "stderr",
     "output_type": "stream",
     "text": [
      "100%|████████████████████████████████████████████████████████████████████████████████████████████████████████████████████████████████████| 166/166 [00:00<00:00, 3200.85it/s]\n"
     ]
    },
    {
     "name": "stdout",
     "output_type": "stream",
     "text": [
      "Epoch = 17. Time index = 2. Threshold MC = 0.8. Threshold MD = 0.6\n",
      "RD = 145 NZ = 208 NZA = 269 pNZ = 0.018% pNZA = 0.023% AD = 69.71% ADA = 53.90% NO = 106 GSP = 58.49% NSP = 53.77%\n",
      "SI2 = 0.70 SI = -1.30 eGROI = 2.69% eROI = 0.45% eROI2 = 0.57% eROI3 = -0.49% mSpread = 0.0211%\n"
     ]
    },
    {
     "name": "stderr",
     "output_type": "stream",
     "text": [
      "0it [00:00, ?it/s]\n"
     ]
    },
    {
     "name": "stdout",
     "output_type": "stream",
     "text": [
      "Epoch = 17. Time index = 2. Threshold MC = 0.8. Threshold MD = 0.7\n",
      "RD = 38 NZ = 46 NZA = 59 pNZ = 0.004% pNZA = 0.005% AD = 82.61% ADA = 64.41% NO = 1 GSP = 0.00% NSP = 0.00%\n",
      "SI2 = -0.55 SI = -0.55 eGROI = 0.00% eROI = 0.00% eROI2 = 0.00% eROI3 = 0.00% mSpread = 0.0000%\n"
     ]
    },
    {
     "name": "stderr",
     "output_type": "stream",
     "text": [
      "0it [00:00, ?it/s]\n"
     ]
    },
    {
     "name": "stdout",
     "output_type": "stream",
     "text": [
      "Epoch = 17. Time index = 2. Threshold MC = 0.8. Threshold MD = 0.8\n",
      "RD = 16 NZ = 20 NZA = 24 pNZ = 0.002% pNZA = 0.002% AD = 80.00% ADA = 66.67% NO = 1 GSP = 0.00% NSP = 0.00%\n",
      "SI2 = -0.55 SI = -0.55 eGROI = 0.00% eROI = 0.00% eROI2 = 0.00% eROI3 = 0.00% mSpread = 0.0000%\n"
     ]
    },
    {
     "name": "stderr",
     "output_type": "stream",
     "text": [
      "0it [00:00, ?it/s]\n"
     ]
    },
    {
     "name": "stdout",
     "output_type": "stream",
     "text": [
      "Epoch = 17. Time index = 2. Threshold MC = 0.8. Threshold MD = 0.9\n",
      "RD = 1 NZ = 1 NZA = 1 pNZ = 0.000% pNZA = 0.000% AD = 100.00% ADA = 100.00% NO = 1 GSP = 0.00% NSP = 0.00%\n",
      "SI2 = -0.55 SI = -0.55 eGROI = 0.00% eROI = 0.00% eROI2 = 0.00% eROI3 = 0.00% mSpread = 0.0000%\n",
      "\n"
     ]
    },
    {
     "name": "stderr",
     "output_type": "stream",
     "text": [
      "0it [00:00, ?it/s]\n"
     ]
    },
    {
     "name": "stdout",
     "output_type": "stream",
     "text": [
      "Epoch = 17. Time index = 2. Threshold MC = 0.9. Threshold MD = 0.5\n",
      "RD = 0 NZ = 0 NZA = 0 pNZ = 0.000% pNZA = 0.000% AD = 0.00% ADA = 0.00% NO = 1 GSP = 0.00% NSP = 0.00%\n",
      "SI2 = -0.55 SI = -0.55 eGROI = 0.00% eROI = 0.00% eROI2 = 0.00% eROI3 = 0.00% mSpread = 0.0000%\n"
     ]
    },
    {
     "name": "stderr",
     "output_type": "stream",
     "text": [
      "0it [00:00, ?it/s]\n"
     ]
    },
    {
     "name": "stdout",
     "output_type": "stream",
     "text": [
      "Epoch = 17. Time index = 2. Threshold MC = 0.9. Threshold MD = 0.6\n",
      "RD = 0 NZ = 0 NZA = 0 pNZ = 0.000% pNZA = 0.000% AD = 0.00% ADA = 0.00% NO = 1 GSP = 0.00% NSP = 0.00%\n",
      "SI2 = -0.55 SI = -0.55 eGROI = 0.00% eROI = 0.00% eROI2 = 0.00% eROI3 = 0.00% mSpread = 0.0000%\n"
     ]
    },
    {
     "name": "stderr",
     "output_type": "stream",
     "text": [
      "0it [00:00, ?it/s]\n"
     ]
    },
    {
     "name": "stdout",
     "output_type": "stream",
     "text": [
      "Epoch = 17. Time index = 2. Threshold MC = 0.9. Threshold MD = 0.7\n",
      "RD = 0 NZ = 0 NZA = 0 pNZ = 0.000% pNZA = 0.000% AD = 0.00% ADA = 0.00% NO = 1 GSP = 0.00% NSP = 0.00%\n",
      "SI2 = -0.55 SI = -0.55 eGROI = 0.00% eROI = 0.00% eROI2 = 0.00% eROI3 = 0.00% mSpread = 0.0000%\n"
     ]
    },
    {
     "name": "stderr",
     "output_type": "stream",
     "text": [
      "0it [00:00, ?it/s]\n"
     ]
    },
    {
     "name": "stdout",
     "output_type": "stream",
     "text": [
      "Epoch = 17. Time index = 2. Threshold MC = 0.9. Threshold MD = 0.8\n",
      "RD = 0 NZ = 0 NZA = 0 pNZ = 0.000% pNZA = 0.000% AD = 0.00% ADA = 0.00% NO = 1 GSP = 0.00% NSP = 0.00%\n",
      "SI2 = -0.55 SI = -0.55 eGROI = 0.00% eROI = 0.00% eROI2 = 0.00% eROI3 = 0.00% mSpread = 0.0000%\n"
     ]
    },
    {
     "name": "stderr",
     "output_type": "stream",
     "text": [
      "0it [00:00, ?it/s]\n"
     ]
    },
    {
     "name": "stdout",
     "output_type": "stream",
     "text": [
      "Epoch = 17. Time index = 2. Threshold MC = 0.9. Threshold MD = 0.9\n",
      "RD = 0 NZ = 0 NZA = 0 pNZ = 0.000% pNZA = 0.000% AD = 0.00% ADA = 0.00% NO = 1 GSP = 0.00% NSP = 0.00%\n",
      "SI2 = -0.55 SI = -0.55 eGROI = 0.00% eROI = 0.00% eROI2 = 0.00% eROI3 = 0.00% mSpread = 0.0000%\n",
      "\n"
     ]
    },
    {
     "name": "stderr",
     "output_type": "stream",
     "text": [
      "0it [00:00, ?it/s]\n"
     ]
    },
    {
     "name": "stdout",
     "output_type": "stream",
     "text": [
      "Epoch = 17. Time index = 3. Threshold MC = 0.5. Threshold MD = 0.5\n",
      "J_test = 6.331930948340374, J_train = 6.503521188520186, Accuracy=0.5431784409431957\n",
      "RD = 265584 NZ = 509631 NZA = 975592 pNZ = 44.365% pNZA = 84.928% AD = 52.11% ADA = 27.22% NO = 1 GSP = 0.00% NSP = 0.00%\n",
      "SI2 = -0.55 SI = -0.55 eGROI = 0.00% eROI = 0.00% eROI2 = 0.00% eROI3 = 0.00% mSpread = 0.0000%\n"
     ]
    },
    {
     "name": "stderr",
     "output_type": "stream",
     "text": [
      "100%|████████████████████████████████████████████████████████████████████████████████████████████████████████████████████████████████| 14114/14114 [00:03<00:00, 4691.02it/s]\n"
     ]
    },
    {
     "name": "stdout",
     "output_type": "stream",
     "text": [
      "Epoch = 17. Time index = 3. Threshold MC = 0.5. Threshold MD = 0.6\n",
      "RD = 10367 NZ = 15826 NZA = 32360 pNZ = 1.378% pNZA = 2.817% AD = 65.51% ADA = 32.04% NO = 2753 GSP = 60.66% NSP = 43.88%\n",
      "SI2 = -117.15 SI = -306.15 eGROI = 40.24% eROI = -42.53% eROI2 = -14.82% eROI3 = -42.35% mSpread = 0.0301%\n"
     ]
    },
    {
     "name": "stderr",
     "output_type": "stream",
     "text": [
      "100%|██████████████████████████████████████████████████████████████████████████████████████████████████████████████████████████████████| 1360/1360 [00:00<00:00, 3655.82it/s]\n"
     ]
    },
    {
     "name": "stdout",
     "output_type": "stream",
     "text": [
      "Epoch = 17. Time index = 3. Threshold MC = 0.5. Threshold MD = 0.7\n",
      "RD = 1961 NZ = 2591 NZA = 5626 pNZ = 0.226% pNZA = 0.490% AD = 75.69% ADA = 34.86% NO = 428 GSP = 68.69% NSP = 42.06%\n",
      "SI2 = -5.40 SI = -55.40 eGROI = 7.84% eROI = -8.72% eROI2 = -0.72% eROI3 = -5.00% mSpread = 0.0387%\n"
     ]
    },
    {
     "name": "stderr",
     "output_type": "stream",
     "text": [
      "0it [00:00, ?it/s]\n"
     ]
    },
    {
     "name": "stdout",
     "output_type": "stream",
     "text": [
      "Epoch = 17. Time index = 3. Threshold MC = 0.5. Threshold MD = 0.8\n",
      "RD = 266 NZ = 303 NZA = 664 pNZ = 0.026% pNZA = 0.058% AD = 87.79% ADA = 40.06% NO = 1 GSP = 0.00% NSP = 0.00%\n",
      "SI2 = -0.55 SI = -0.55 eGROI = 0.00% eROI = 0.00% eROI2 = 0.00% eROI3 = 0.00% mSpread = 0.0000%\n"
     ]
    },
    {
     "name": "stderr",
     "output_type": "stream",
     "text": [
      "0it [00:00, ?it/s]\n"
     ]
    },
    {
     "name": "stdout",
     "output_type": "stream",
     "text": [
      "Epoch = 17. Time index = 3. Threshold MC = 0.5. Threshold MD = 0.9\n",
      "RD = 1 NZ = 1 NZA = 2 pNZ = 0.000% pNZA = 0.000% AD = 100.00% ADA = 50.00% NO = 1 GSP = 0.00% NSP = 0.00%\n",
      "SI2 = -0.55 SI = -0.55 eGROI = 0.00% eROI = 0.00% eROI2 = 0.00% eROI3 = 0.00% mSpread = 0.0000%\n",
      "\n"
     ]
    },
    {
     "name": "stderr",
     "output_type": "stream",
     "text": [
      "0it [00:00, ?it/s]\n"
     ]
    },
    {
     "name": "stdout",
     "output_type": "stream",
     "text": [
      "Epoch = 17. Time index = 3. Threshold MC = 0.6. Threshold MD = 0.5\n",
      "RD = 86737 NZ = 163501 NZA = 272220 pNZ = 14.233% pNZA = 23.697% AD = 53.05% ADA = 31.86% NO = 1 GSP = 0.00% NSP = 0.00%\n",
      "SI2 = -0.55 SI = -0.55 eGROI = 0.00% eROI = 0.00% eROI2 = 0.00% eROI3 = 0.00% mSpread = 0.0000%\n"
     ]
    },
    {
     "name": "stderr",
     "output_type": "stream",
     "text": [
      "100%|████████████████████████████████████████████████████████████████████████████████████████████████████████████████████████████████| 10385/10385 [00:02<00:00, 4936.10it/s]\n"
     ]
    },
    {
     "name": "stdout",
     "output_type": "stream",
     "text": [
      "Epoch = 17. Time index = 3. Threshold MC = 0.6. Threshold MD = 0.6\n",
      "RD = 6018 NZ = 9118 NZA = 16121 pNZ = 0.794% pNZA = 1.403% AD = 66.00% ADA = 37.33% NO = 2282 GSP = 61.52% NSP = 45.31%\n",
      "SI2 = -71.10 SI = -221.10 eGROI = 35.47% eROI = -32.06% eROI2 = -10.17% eROI3 = -32.99% mSpread = 0.0296%\n"
     ]
    },
    {
     "name": "stderr",
     "output_type": "stream",
     "text": [
      "100%|██████████████████████████████████████████████████████████████████████████████████████████████████████████████████████████████████| 1241/1241 [00:00<00:00, 4079.68it/s]\n"
     ]
    },
    {
     "name": "stdout",
     "output_type": "stream",
     "text": [
      "Epoch = 17. Time index = 3. Threshold MC = 0.6. Threshold MD = 0.7\n",
      "RD = 1057 NZ = 1419 NZA = 2664 pNZ = 0.124% pNZA = 0.232% AD = 74.49% ADA = 39.68% NO = 388 GSP = 66.75% NSP = 42.78%\n",
      "SI2 = -6.40 SI = -47.40 eGROI = 7.19% eROI = -7.62% eROI2 = -0.57% eROI3 = -4.45% mSpread = 0.0382%\n"
     ]
    },
    {
     "name": "stderr",
     "output_type": "stream",
     "text": [
      "0it [00:00, ?it/s]\n"
     ]
    },
    {
     "name": "stdout",
     "output_type": "stream",
     "text": [
      "Epoch = 17. Time index = 3. Threshold MC = 0.6. Threshold MD = 0.8\n",
      "RD = 141 NZ = 155 NZA = 263 pNZ = 0.013% pNZA = 0.023% AD = 90.97% ADA = 53.61% NO = 1 GSP = 0.00% NSP = 0.00%\n",
      "SI2 = -0.55 SI = -0.55 eGROI = 0.00% eROI = 0.00% eROI2 = 0.00% eROI3 = 0.00% mSpread = 0.0000%\n"
     ]
    },
    {
     "name": "stderr",
     "output_type": "stream",
     "text": [
      "0it [00:00, ?it/s]\n"
     ]
    },
    {
     "name": "stdout",
     "output_type": "stream",
     "text": [
      "Epoch = 17. Time index = 3. Threshold MC = 0.6. Threshold MD = 0.9\n",
      "RD = 1 NZ = 1 NZA = 1 pNZ = 0.000% pNZA = 0.000% AD = 100.00% ADA = 100.00% NO = 1 GSP = 0.00% NSP = 0.00%\n",
      "SI2 = -0.55 SI = -0.55 eGROI = 0.00% eROI = 0.00% eROI2 = 0.00% eROI3 = 0.00% mSpread = 0.0000%\n",
      "\n"
     ]
    },
    {
     "name": "stderr",
     "output_type": "stream",
     "text": [
      "100%|██████████████████████████████████████████████████████████████████████████████████████████████████████████████████████████████████| 9367/9367 [00:01<00:00, 4946.11it/s]\n"
     ]
    },
    {
     "name": "stdout",
     "output_type": "stream",
     "text": [
      "Epoch = 17. Time index = 3. Threshold MC = 0.7. Threshold MD = 0.5\n",
      "RD = 5671 NZ = 10090 NZA = 14058 pNZ = 0.878% pNZA = 1.224% AD = 56.20% ADA = 40.34% NO = 1851 GSP = 56.29% NSP = 47.81%\n",
      "SI2 = -98.05 SI = -133.05 eGROI = 15.49% eROI = -24.76% eROI2 = -21.53% eROI3 = -40.04% mSpread = 0.0217%\n"
     ]
    },
    {
     "name": "stderr",
     "output_type": "stream",
     "text": [
      "100%|██████████████████████████████████████████████████████████████████████████████████████████████████████████████████████████████████| 2558/2558 [00:00<00:00, 4731.74it/s]\n"
     ]
    },
    {
     "name": "stdout",
     "output_type": "stream",
     "text": [
      "Epoch = 17. Time index = 3. Threshold MC = 0.7. Threshold MD = 0.6\n",
      "RD = 1537 NZ = 2352 NZA = 3407 pNZ = 0.205% pNZA = 0.297% AD = 65.35% ADA = 45.11% NO = 775 GSP = 63.61% NSP = 52.00%\n",
      "SI2 = 6.75 SI = -23.25 eGROI = 14.45% eROI = -4.45% eROI2 = -1.05% eROI3 = -8.80% mSpread = 0.0244%\n"
     ]
    },
    {
     "name": "stderr",
     "output_type": "stream",
     "text": [
      "100%|████████████████████████████████████████████████████████████████████████████████████████████████████████████████████████████████████| 204/204 [00:00<00:00, 3409.13it/s]\n"
     ]
    },
    {
     "name": "stdout",
     "output_type": "stream",
     "text": [
      "Epoch = 17. Time index = 3. Threshold MC = 0.7. Threshold MD = 0.7\n",
      "RD = 294 NZ = 395 NZA = 588 pNZ = 0.034% pNZA = 0.051% AD = 74.43% ADA = 50.00% NO = 101 GSP = 60.40% NSP = 42.57%\n",
      "SI2 = -3.55 SI = -12.55 eGROI = 0.73% eROI = -2.86% eROI2 = -1.29% eROI3 = -2.30% mSpread = 0.0355%\n"
     ]
    },
    {
     "name": "stderr",
     "output_type": "stream",
     "text": [
      "0it [00:00, ?it/s]\n"
     ]
    },
    {
     "name": "stdout",
     "output_type": "stream",
     "text": [
      "Epoch = 17. Time index = 3. Threshold MC = 0.7. Threshold MD = 0.8\n",
      "RD = 84 NZ = 91 NZA = 110 pNZ = 0.008% pNZA = 0.010% AD = 92.31% ADA = 76.36% NO = 1 GSP = 0.00% NSP = 0.00%\n",
      "SI2 = -0.55 SI = -0.55 eGROI = 0.00% eROI = 0.00% eROI2 = 0.00% eROI3 = 0.00% mSpread = 0.0000%\n"
     ]
    },
    {
     "name": "stderr",
     "output_type": "stream",
     "text": [
      "0it [00:00, ?it/s]\n"
     ]
    },
    {
     "name": "stdout",
     "output_type": "stream",
     "text": [
      "Epoch = 17. Time index = 3. Threshold MC = 0.7. Threshold MD = 0.9\n",
      "RD = 0 NZ = 0 NZA = 0 pNZ = 0.000% pNZA = 0.000% AD = 0.00% ADA = 0.00% NO = 1 GSP = 0.00% NSP = 0.00%\n",
      "SI2 = -0.55 SI = -0.55 eGROI = 0.00% eROI = 0.00% eROI2 = 0.00% eROI3 = 0.00% mSpread = 0.0000%\n",
      "\n"
     ]
    },
    {
     "name": "stderr",
     "output_type": "stream",
     "text": [
      "100%|████████████████████████████████████████████████████████████████████████████████████████████████████████████████████████████████████| 571/571 [00:00<00:00, 3974.75it/s]\n"
     ]
    },
    {
     "name": "stdout",
     "output_type": "stream",
     "text": [
      "Epoch = 17. Time index = 3. Threshold MC = 0.8. Threshold MD = 0.5\n",
      "RD = 346 NZ = 566 NZA = 722 pNZ = 0.049% pNZA = 0.063% AD = 61.13% ADA = 47.92% NO = 335 GSP = 57.01% NSP = 51.34%\n",
      "SI2 = -10.25 SI = -12.25 eGROI = 7.84% eROI = 0.74% eROI2 = 1.14% eROI3 = -2.21% mSpread = 0.0212%\n"
     ]
    },
    {
     "name": "stderr",
     "output_type": "stream",
     "text": [
      "100%|████████████████████████████████████████████████████████████████████████████████████████████████████████████████████████████████████| 171/171 [00:00<00:00, 3235.08it/s]\n"
     ]
    },
    {
     "name": "stdout",
     "output_type": "stream",
     "text": [
      "Epoch = 17. Time index = 3. Threshold MC = 0.8. Threshold MD = 0.6\n",
      "RD = 137 NZ = 194 NZA = 252 pNZ = 0.017% pNZA = 0.022% AD = 70.62% ADA = 54.37% NO = 111 GSP = 63.06% NSP = 56.76%\n",
      "SI2 = 5.95 SI = 1.95 eGROI = 4.04% eROI = 1.53% eROI2 = 1.82% eROI3 = 0.71% mSpread = 0.0227%\n"
     ]
    },
    {
     "name": "stderr",
     "output_type": "stream",
     "text": [
      "100%|████████████████████████████████████████████████████████████████████████████████████████████████████████████████████████████████████████| 2/2 [00:00<00:00, 2005.40it/s]\n"
     ]
    },
    {
     "name": "stdout",
     "output_type": "stream",
     "text": [
      "Epoch = 17. Time index = 3. Threshold MC = 0.8. Threshold MD = 0.7\n",
      "RD = 33 NZ = 38 NZA = 53 pNZ = 0.003% pNZA = 0.005% AD = 86.84% ADA = 62.26% NO = 3 GSP = 33.33% NSP = 33.33%\n",
      "SI2 = -0.65 SI = -0.65 eGROI = 0.13% eROI = -0.02% eROI2 = 0.07% eROI3 = 0.04% mSpread = 0.0500%\n"
     ]
    },
    {
     "name": "stderr",
     "output_type": "stream",
     "text": [
      "0it [00:00, ?it/s]\n"
     ]
    },
    {
     "name": "stdout",
     "output_type": "stream",
     "text": [
      "Epoch = 17. Time index = 3. Threshold MC = 0.8. Threshold MD = 0.8\n",
      "RD = 13 NZ = 16 NZA = 17 pNZ = 0.001% pNZA = 0.001% AD = 81.25% ADA = 76.47% NO = 1 GSP = 0.00% NSP = 0.00%\n",
      "SI2 = -0.55 SI = -0.55 eGROI = 0.00% eROI = 0.00% eROI2 = 0.00% eROI3 = 0.00% mSpread = 0.0000%\n"
     ]
    },
    {
     "name": "stderr",
     "output_type": "stream",
     "text": [
      "0it [00:00, ?it/s]\n"
     ]
    },
    {
     "name": "stdout",
     "output_type": "stream",
     "text": [
      "Epoch = 17. Time index = 3. Threshold MC = 0.8. Threshold MD = 0.9\n",
      "RD = 0 NZ = 0 NZA = 0 pNZ = 0.000% pNZA = 0.000% AD = 0.00% ADA = 0.00% NO = 1 GSP = 0.00% NSP = 0.00%\n",
      "SI2 = -0.55 SI = -0.55 eGROI = 0.00% eROI = 0.00% eROI2 = 0.00% eROI3 = 0.00% mSpread = 0.0000%\n",
      "\n"
     ]
    },
    {
     "name": "stderr",
     "output_type": "stream",
     "text": [
      "0it [00:00, ?it/s]\n"
     ]
    },
    {
     "name": "stdout",
     "output_type": "stream",
     "text": [
      "Epoch = 17. Time index = 3. Threshold MC = 0.9. Threshold MD = 0.5\n",
      "RD = 0 NZ = 0 NZA = 0 pNZ = 0.000% pNZA = 0.000% AD = 0.00% ADA = 0.00% NO = 1 GSP = 0.00% NSP = 0.00%\n",
      "SI2 = -0.55 SI = -0.55 eGROI = 0.00% eROI = 0.00% eROI2 = 0.00% eROI3 = 0.00% mSpread = 0.0000%\n"
     ]
    },
    {
     "name": "stderr",
     "output_type": "stream",
     "text": [
      "0it [00:00, ?it/s]\n"
     ]
    },
    {
     "name": "stdout",
     "output_type": "stream",
     "text": [
      "Epoch = 17. Time index = 3. Threshold MC = 0.9. Threshold MD = 0.6\n",
      "RD = 0 NZ = 0 NZA = 0 pNZ = 0.000% pNZA = 0.000% AD = 0.00% ADA = 0.00% NO = 1 GSP = 0.00% NSP = 0.00%\n",
      "SI2 = -0.55 SI = -0.55 eGROI = 0.00% eROI = 0.00% eROI2 = 0.00% eROI3 = 0.00% mSpread = 0.0000%\n"
     ]
    },
    {
     "name": "stderr",
     "output_type": "stream",
     "text": [
      "0it [00:00, ?it/s]\n"
     ]
    },
    {
     "name": "stdout",
     "output_type": "stream",
     "text": [
      "Epoch = 17. Time index = 3. Threshold MC = 0.9. Threshold MD = 0.7\n",
      "RD = 0 NZ = 0 NZA = 0 pNZ = 0.000% pNZA = 0.000% AD = 0.00% ADA = 0.00% NO = 1 GSP = 0.00% NSP = 0.00%\n",
      "SI2 = -0.55 SI = -0.55 eGROI = 0.00% eROI = 0.00% eROI2 = 0.00% eROI3 = 0.00% mSpread = 0.0000%\n"
     ]
    },
    {
     "name": "stderr",
     "output_type": "stream",
     "text": [
      "0it [00:00, ?it/s]\n"
     ]
    },
    {
     "name": "stdout",
     "output_type": "stream",
     "text": [
      "Epoch = 17. Time index = 3. Threshold MC = 0.9. Threshold MD = 0.8\n",
      "RD = 0 NZ = 0 NZA = 0 pNZ = 0.000% pNZA = 0.000% AD = 0.00% ADA = 0.00% NO = 1 GSP = 0.00% NSP = 0.00%\n",
      "SI2 = -0.55 SI = -0.55 eGROI = 0.00% eROI = 0.00% eROI2 = 0.00% eROI3 = 0.00% mSpread = 0.0000%\n"
     ]
    },
    {
     "name": "stderr",
     "output_type": "stream",
     "text": [
      "0it [00:00, ?it/s]\n"
     ]
    },
    {
     "name": "stdout",
     "output_type": "stream",
     "text": [
      "Epoch = 17. Time index = 3. Threshold MC = 0.9. Threshold MD = 0.9\n",
      "RD = 0 NZ = 0 NZA = 0 pNZ = 0.000% pNZA = 0.000% AD = 0.00% ADA = 0.00% NO = 1 GSP = 0.00% NSP = 0.00%\n",
      "SI2 = -0.55 SI = -0.55 eGROI = 0.00% eROI = 0.00% eROI2 = 0.00% eROI3 = 0.00% mSpread = 0.0000%\n",
      "\n",
      "Best eGROI = 41.01 t_index 2 thr_mc 0.5 thr_md 0.6 epoch 17 in 2658\n",
      "Best eROI = 1.53 t_index 3 thr_mc 0.8 thr_md 0.6 epoch 17 in 111\n",
      "Best eROI.5 = 27.72 t_index 2 thr_mc 0.5 thr_md 0.6 epoch 17 in 2658\n",
      "Best eROI1 = 14.61 t_index 1 thr_mc 0.5 thr_md 0.6 epoch 17 in 2519\n",
      "Best eROI1.5 = 2.83 t_index 3 thr_mc 0.7 thr_md 0.6 epoch 17 in 775\n",
      "Best eROI2 = 1.82 t_index 3 thr_mc 0.8 thr_md 0.6 epoch 17 in 111\n",
      "Best eROI3 = 0.87 t_index 0 thr_mc 0.8 thr_md 0.6 epoch 17 in 56\n",
      "Best eROI4 = 0.31 t_index 0 thr_mc 0.8 thr_md 0.6 epoch 17 in 56\n",
      "Best eROI5 = 0.00 t_index 0 thr_mc 0.5 thr_md 0.5 epoch 17 in 1\n",
      "Best SI = 3.20 t_index 0 thr_mc 0.8 thr_md 0.6 epoch 17 in 56\n",
      "Best SI.5 = 125.10 t_index 0 thr_mc 0.5 thr_md 0.6 epoch 17 in 2198\n",
      "Best SI1 = 68.10 t_index 0 thr_mc 0.5 thr_md 0.6 epoch 17 in 2198\n",
      "Best SI1.5 = 19.75 t_index 3 thr_mc 0.7 thr_md 0.6 epoch 17 in 775\n",
      "Best SI2 = 6.75 t_index 3 thr_mc 0.7 thr_md 0.6 epoch 17 in 775\n",
      "Best SI3 = 2.95 t_index 3 thr_mc 0.8 thr_md 0.6 epoch 17 in 111\n",
      "Best SI4 = -0.55 t_index 0 thr_mc 0.5 thr_md 0.5 epoch 17 in 1\n",
      "Best SI5 = -0.55 t_index 0 thr_mc 0.5 thr_md 0.5 epoch 17 in 1\n",
      "\n",
      "The very best:\n",
      "Best eGROI = 41.01 t_index 2 thr_mc 0.5 thr_md 0.6 epoch 17 in 2658\n",
      "Best eROI = 3.37 t_index 3 thr_mc 0.8 thr_md 0.5 epoch 8 in 141\n",
      "Best eROI.5 = 27.76 t_index 3 thr_mc 0.5 thr_md 0.6 epoch 12 in 2426\n",
      "Best eROI1 = 15.63 t_index 3 thr_mc 0.5 thr_md 0.6 epoch 12 in 2426\n",
      "Best eROI1.5 = 5.80 t_index 3 thr_mc 0.6 thr_md 0.6 epoch 11 in 1839\n",
      "Best eROI2 = 3.16 t_index 3 thr_mc 0.8 thr_md 0.5 epoch 8 in 141\n",
      "Best eROI3 = 1.75 t_index 3 thr_mc 0.8 thr_md 0.5 epoch 8 in 141\n",
      "Best eROI4 = 0.50 t_index 3 thr_mc 0.8 thr_md 0.6 epoch 10 in 14\n",
      "Best eROI5 = 0.36 t_index 3 thr_mc 0.8 thr_md 0.6 epoch 10 in 14\n",
      "Best SI = 4.45 t_index 3 thr_mc 0.8 thr_md 0.5 epoch 8 in 141\n",
      "Best SI.5 = 128.70 t_index 3 thr_mc 0.5 thr_md 0.6 epoch 12 in 2426\n",
      "Best SI1 = 73.85 t_index 0 thr_mc 0.5 thr_md 0.6 epoch 14 in 1933\n",
      "Best SI1.5 = 19.75 t_index 3 thr_mc 0.7 thr_md 0.6 epoch 17 in 775\n",
      "Best SI2 = 6.90 t_index 1 thr_mc 0.7 thr_md 0.6 epoch 13 in 342\n",
      "Best SI3 = 4.95 t_index 3 thr_mc 0.8 thr_md 0.6 epoch 13 in 51\n",
      "Best SI4 = 1.95 t_index 3 thr_mc 0.8 thr_md 0.6 epoch 13 in 51\n",
      "Best SI5 = 1.05 t_index 0 thr_mc 0.5 thr_md 0.7 epoch 13 in 9\n",
      "Time=85.37 secs\n",
      "INFO:tensorflow:Restoring parameters from ../../RNN/weights/000520/000018/000018\n",
      "Parameters loaded. Epoch 18\n",
      "Epoch 18 of 34. Getting output...\n"
     ]
    },
    {
     "name": "stderr",
     "output_type": "stream",
     "text": [
      "100%|████████████████████████████████████████████████████████████████████████████████████████████████████████████████████████████████████████| 23/23 [01:42<00:00,  4.68s/it]\n"
     ]
    },
    {
     "name": "stdout",
     "output_type": "stream",
     "text": [
      "Getting results\n",
      "Epoch 18, J_train = 6.5023347055767715, J_test = 6.331060990043309\n"
     ]
    },
    {
     "name": "stderr",
     "output_type": "stream",
     "text": [
      "0it [00:00, ?it/s]\n"
     ]
    },
    {
     "name": "stdout",
     "output_type": "stream",
     "text": [
      "Epoch = 18. Time index = 0. Threshold MC = 0.5. Threshold MD = 0.5\n",
      "J_test = 6.331060990043309, J_train = 6.5023347055767715, Accuracy=0.549014435904601\n",
      "RD = 262992 NZ = 505375 NZA = 960378 pNZ = 43.994% pNZA = 83.603% AD = 52.04% ADA = 27.38% NO = 1 GSP = 0.00% NSP = 0.00%\n",
      "SI2 = -0.55 SI = -0.55 eGROI = 0.00% eROI = 0.00% eROI2 = 0.00% eROI3 = 0.00% mSpread = 0.0000%\n"
     ]
    },
    {
     "name": "stderr",
     "output_type": "stream",
     "text": [
      "100%|████████████████████████████████████████████████████████████████████████████████████████████████████████████████████████████████| 10338/10338 [00:02<00:00, 5006.59it/s]\n"
     ]
    },
    {
     "name": "stdout",
     "output_type": "stream",
     "text": [
      "Epoch = 18. Time index = 0. Threshold MC = 0.5. Threshold MD = 0.6\n",
      "RD = 8731 NZ = 13415 NZA = 28039 pNZ = 1.168% pNZA = 2.441% AD = 65.08% ADA = 31.14% NO = 2283 GSP = 62.20% NSP = 42.84%\n",
      "SI2 = -91.65 SI = -277.65 eGROI = 32.51% eROI = -39.48% eROI2 = -13.15% eROI3 = -35.98% mSpread = 0.0315%\n"
     ]
    },
    {
     "name": "stderr",
     "output_type": "stream",
     "text": [
      "100%|████████████████████████████████████████████████████████████████████████████████████████████████████████████████████████████████████| 286/286 [00:00<00:00, 2867.64it/s]\n"
     ]
    },
    {
     "name": "stdout",
     "output_type": "stream",
     "text": [
      "Epoch = 18. Time index = 0. Threshold MC = 0.5. Threshold MD = 0.7\n",
      "RD = 1039 NZ = 1303 NZA = 2583 pNZ = 0.113% pNZA = 0.225% AD = 79.74% ADA = 40.22% NO = 168 GSP = 70.24% NSP = 35.12%\n",
      "SI2 = -4.40 SI = -33.40 eGROI = 3.37% eROI = -2.92% eROI2 = 0.01% eROI3 = -1.67% mSpread = 0.0374%\n"
     ]
    },
    {
     "name": "stderr",
     "output_type": "stream",
     "text": [
      "0it [00:00, ?it/s]\n"
     ]
    },
    {
     "name": "stdout",
     "output_type": "stream",
     "text": [
      "Epoch = 18. Time index = 0. Threshold MC = 0.5. Threshold MD = 0.8\n",
      "RD = 98 NZ = 103 NZA = 167 pNZ = 0.009% pNZA = 0.015% AD = 95.15% ADA = 58.68% NO = 1 GSP = 0.00% NSP = 0.00%\n",
      "SI2 = -0.55 SI = -0.55 eGROI = 0.00% eROI = 0.00% eROI2 = 0.00% eROI3 = 0.00% mSpread = 0.0000%\n"
     ]
    },
    {
     "name": "stderr",
     "output_type": "stream",
     "text": [
      "0it [00:00, ?it/s]\n"
     ]
    },
    {
     "name": "stdout",
     "output_type": "stream",
     "text": [
      "Epoch = 18. Time index = 0. Threshold MC = 0.5. Threshold MD = 0.9\n",
      "RD = 0 NZ = 0 NZA = 0 pNZ = 0.000% pNZA = 0.000% AD = 0.00% ADA = 0.00% NO = 1 GSP = 0.00% NSP = 0.00%\n",
      "SI2 = -0.55 SI = -0.55 eGROI = 0.00% eROI = 0.00% eROI2 = 0.00% eROI3 = 0.00% mSpread = 0.0000%\n",
      "\n"
     ]
    },
    {
     "name": "stderr",
     "output_type": "stream",
     "text": [
      "0it [00:00, ?it/s]\n"
     ]
    },
    {
     "name": "stdout",
     "output_type": "stream",
     "text": [
      "Epoch = 18. Time index = 0. Threshold MC = 0.6. Threshold MD = 0.5\n",
      "RD = 87214 NZ = 164386 NZA = 270540 pNZ = 14.310% pNZA = 23.551% AD = 53.05% ADA = 32.24% NO = 1 GSP = 0.00% NSP = 0.00%\n",
      "SI2 = -0.55 SI = -0.55 eGROI = 0.00% eROI = 0.00% eROI2 = 0.00% eROI3 = 0.00% mSpread = 0.0000%\n"
     ]
    },
    {
     "name": "stderr",
     "output_type": "stream",
     "text": [
      "100%|██████████████████████████████████████████████████████████████████████████████████████████████████████████████████████████████████| 4997/4997 [00:01<00:00, 4708.93it/s]\n"
     ]
    },
    {
     "name": "stdout",
     "output_type": "stream",
     "text": [
      "Epoch = 18. Time index = 0. Threshold MC = 0.6. Threshold MD = 0.6\n",
      "RD = 3950 NZ = 6044 NZA = 10400 pNZ = 0.526% pNZA = 0.905% AD = 65.35% ADA = 37.98% NO = 1403 GSP = 63.36% NSP = 47.04%\n",
      "SI2 = -39.65 SI = -111.65 eGROI = 20.11% eROI = -19.66% eROI2 = -7.95% eROI3 = -21.98% mSpread = 0.0283%\n"
     ]
    },
    {
     "name": "stderr",
     "output_type": "stream",
     "text": [
      "100%|████████████████████████████████████████████████████████████████████████████████████████████████████████████████████████████████████| 180/180 [00:00<00:00, 3470.80it/s]\n"
     ]
    },
    {
     "name": "stdout",
     "output_type": "stream",
     "text": [
      "Epoch = 18. Time index = 0. Threshold MC = 0.6. Threshold MD = 0.7\n",
      "RD = 540 NZ = 653 NZA = 1097 pNZ = 0.057% pNZA = 0.095% AD = 82.70% ADA = 49.23% NO = 105 GSP = 67.62% NSP = 37.14%\n",
      "SI2 = -0.75 SI = -18.75 eGROI = 1.97% eROI = -2.05% eROI2 = -0.13% eROI3 = -1.18% mSpread = 0.0383%\n"
     ]
    },
    {
     "name": "stderr",
     "output_type": "stream",
     "text": [
      "0it [00:00, ?it/s]\n"
     ]
    },
    {
     "name": "stdout",
     "output_type": "stream",
     "text": [
      "Epoch = 18. Time index = 0. Threshold MC = 0.6. Threshold MD = 0.8\n",
      "RD = 71 NZ = 73 NZA = 102 pNZ = 0.006% pNZA = 0.009% AD = 97.26% ADA = 69.61% NO = 1 GSP = 0.00% NSP = 0.00%\n",
      "SI2 = -0.55 SI = -0.55 eGROI = 0.00% eROI = 0.00% eROI2 = 0.00% eROI3 = 0.00% mSpread = 0.0000%\n"
     ]
    },
    {
     "name": "stderr",
     "output_type": "stream",
     "text": [
      "0it [00:00, ?it/s]\n"
     ]
    },
    {
     "name": "stdout",
     "output_type": "stream",
     "text": [
      "Epoch = 18. Time index = 0. Threshold MC = 0.6. Threshold MD = 0.9\n",
      "RD = 0 NZ = 0 NZA = 0 pNZ = 0.000% pNZA = 0.000% AD = 0.00% ADA = 0.00% NO = 1 GSP = 0.00% NSP = 0.00%\n",
      "SI2 = -0.55 SI = -0.55 eGROI = 0.00% eROI = 0.00% eROI2 = 0.00% eROI3 = 0.00% mSpread = 0.0000%\n",
      "\n"
     ]
    },
    {
     "name": "stderr",
     "output_type": "stream",
     "text": [
      "100%|████████████████████████████████████████████████████████████████████████████████████████████████████████████████████████████████| 12883/12883 [00:02<00:00, 4449.63it/s]\n"
     ]
    },
    {
     "name": "stdout",
     "output_type": "stream",
     "text": [
      "Epoch = 18. Time index = 0. Threshold MC = 0.7. Threshold MD = 0.5\n",
      "RD = 8937 NZ = 16361 NZA = 23026 pNZ = 1.424% pNZA = 2.004% AD = 54.62% ADA = 38.81% NO = 2532 GSP = 52.80% NSP = 45.38%\n",
      "SI2 = -224.60 SI = -243.60 eGROI = 10.17% eROI = -39.13% eROI2 = -40.47% eROI3 = -65.79% mSpread = 0.0195%\n"
     ]
    },
    {
     "name": "stderr",
     "output_type": "stream",
     "text": [
      "100%|██████████████████████████████████████████████████████████████████████████████████████████████████████████████████████████████████| 1297/1297 [00:00<00:00, 3905.26it/s]\n"
     ]
    },
    {
     "name": "stdout",
     "output_type": "stream",
     "text": [
      "Epoch = 18. Time index = 0. Threshold MC = 0.7. Threshold MD = 0.6\n",
      "RD = 1125 NZ = 1708 NZA = 2393 pNZ = 0.149% pNZA = 0.208% AD = 65.87% ADA = 47.01% NO = 527 GSP = 61.48% NSP = 52.18%\n",
      "SI2 = -5.85 SI = -14.85 eGROI = 6.51% eROI = -4.68% eROI2 = -4.03% eROI3 = -9.30% mSpread = 0.0212%\n"
     ]
    },
    {
     "name": "stderr",
     "output_type": "stream",
     "text": [
      "100%|████████████████████████████████████████████████████████████████████████████████████████████████████████████████████████████████████████| 2/2 [00:00<00:00, 1002.58it/s]\n"
     ]
    },
    {
     "name": "stdout",
     "output_type": "stream",
     "text": [
      "Epoch = 18. Time index = 0. Threshold MC = 0.7. Threshold MD = 0.7\n",
      "RD = 125 NZ = 153 NZA = 200 pNZ = 0.013% pNZA = 0.017% AD = 81.70% ADA = 62.50% NO = 2 GSP = 50.00% NSP = 50.00%\n",
      "SI2 = -1.10 SI = -0.10 eGROI = -0.15% eROI = -0.25% eROI2 = -0.19% eROI3 = -0.21% mSpread = 0.0480%\n"
     ]
    },
    {
     "name": "stderr",
     "output_type": "stream",
     "text": [
      "0it [00:00, ?it/s]\n"
     ]
    },
    {
     "name": "stdout",
     "output_type": "stream",
     "text": [
      "Epoch = 18. Time index = 0. Threshold MC = 0.7. Threshold MD = 0.8\n",
      "RD = 23 NZ = 23 NZA = 28 pNZ = 0.002% pNZA = 0.002% AD = 100.00% ADA = 82.14% NO = 1 GSP = 0.00% NSP = 0.00%\n",
      "SI2 = -0.55 SI = -0.55 eGROI = 0.00% eROI = 0.00% eROI2 = 0.00% eROI3 = 0.00% mSpread = 0.0000%\n"
     ]
    },
    {
     "name": "stderr",
     "output_type": "stream",
     "text": [
      "0it [00:00, ?it/s]\n"
     ]
    },
    {
     "name": "stdout",
     "output_type": "stream",
     "text": [
      "Epoch = 18. Time index = 0. Threshold MC = 0.7. Threshold MD = 0.9\n",
      "RD = 0 NZ = 0 NZA = 0 pNZ = 0.000% pNZA = 0.000% AD = 0.00% ADA = 0.00% NO = 1 GSP = 0.00% NSP = 0.00%\n",
      "SI2 = -0.55 SI = -0.55 eGROI = 0.00% eROI = 0.00% eROI2 = 0.00% eROI3 = 0.00% mSpread = 0.0000%\n",
      "\n"
     ]
    },
    {
     "name": "stderr",
     "output_type": "stream",
     "text": [
      "100%|████████████████████████████████████████████████████████████████████████████████████████████████████████████████████████████████████| 620/620 [00:00<00:00, 3909.79it/s]\n"
     ]
    },
    {
     "name": "stdout",
     "output_type": "stream",
     "text": [
      "Epoch = 18. Time index = 0. Threshold MC = 0.8. Threshold MD = 0.5\n",
      "RD = 451 NZ = 749 NZA = 941 pNZ = 0.065% pNZA = 0.082% AD = 60.21% ADA = 47.93% NO = 323 GSP = 55.42% NSP = 52.32%\n",
      "SI2 = -10.65 SI = -8.65 eGROI = 7.40% eROI = 1.33% eROI2 = 0.94% eROI3 = -2.29% mSpread = 0.0188%\n"
     ]
    },
    {
     "name": "stderr",
     "output_type": "stream",
     "text": [
      "100%|██████████████████████████████████████████████████████████████████████████████████████████████████████████████████████████████████████| 80/80 [00:00<00:00, 2506.72it/s]\n"
     ]
    },
    {
     "name": "stdout",
     "output_type": "stream",
     "text": [
      "Epoch = 18. Time index = 0. Threshold MC = 0.8. Threshold MD = 0.6\n",
      "RD = 96 NZ = 135 NZA = 179 pNZ = 0.012% pNZA = 0.016% AD = 71.11% ADA = 53.63% NO = 71 GSP = 64.79% NSP = 60.56%\n",
      "SI2 = 3.95 SI = 3.95 eGROI = 2.61% eROI = 1.26% eROI2 = 1.19% eROI3 = 0.48% mSpread = 0.0190%\n"
     ]
    },
    {
     "name": "stderr",
     "output_type": "stream",
     "text": [
      "0it [00:00, ?it/s]\n"
     ]
    },
    {
     "name": "stdout",
     "output_type": "stream",
     "text": [
      "Epoch = 18. Time index = 0. Threshold MC = 0.8. Threshold MD = 0.7\n",
      "RD = 14 NZ = 16 NZA = 20 pNZ = 0.001% pNZA = 0.002% AD = 87.50% ADA = 70.00% NO = 1 GSP = 0.00% NSP = 0.00%\n",
      "SI2 = -0.55 SI = -0.55 eGROI = 0.00% eROI = 0.00% eROI2 = 0.00% eROI3 = 0.00% mSpread = 0.0000%\n"
     ]
    },
    {
     "name": "stderr",
     "output_type": "stream",
     "text": [
      "0it [00:00, ?it/s]\n"
     ]
    },
    {
     "name": "stdout",
     "output_type": "stream",
     "text": [
      "Epoch = 18. Time index = 0. Threshold MC = 0.8. Threshold MD = 0.8\n",
      "RD = 0 NZ = 0 NZA = 0 pNZ = 0.000% pNZA = 0.000% AD = 0.00% ADA = 0.00% NO = 1 GSP = 0.00% NSP = 0.00%\n",
      "SI2 = -0.55 SI = -0.55 eGROI = 0.00% eROI = 0.00% eROI2 = 0.00% eROI3 = 0.00% mSpread = 0.0000%\n"
     ]
    },
    {
     "name": "stderr",
     "output_type": "stream",
     "text": [
      "0it [00:00, ?it/s]\n"
     ]
    },
    {
     "name": "stdout",
     "output_type": "stream",
     "text": [
      "Epoch = 18. Time index = 0. Threshold MC = 0.8. Threshold MD = 0.9\n",
      "RD = 0 NZ = 0 NZA = 0 pNZ = 0.000% pNZA = 0.000% AD = 0.00% ADA = 0.00% NO = 1 GSP = 0.00% NSP = 0.00%\n",
      "SI2 = -0.55 SI = -0.55 eGROI = 0.00% eROI = 0.00% eROI2 = 0.00% eROI3 = 0.00% mSpread = 0.0000%\n",
      "\n"
     ]
    },
    {
     "name": "stderr",
     "output_type": "stream",
     "text": [
      "0it [00:00, ?it/s]\n"
     ]
    },
    {
     "name": "stdout",
     "output_type": "stream",
     "text": [
      "Epoch = 18. Time index = 0. Threshold MC = 0.9. Threshold MD = 0.5\n",
      "RD = 0 NZ = 0 NZA = 0 pNZ = 0.000% pNZA = 0.000% AD = 0.00% ADA = 0.00% NO = 1 GSP = 0.00% NSP = 0.00%\n",
      "SI2 = -0.55 SI = -0.55 eGROI = 0.00% eROI = 0.00% eROI2 = 0.00% eROI3 = 0.00% mSpread = 0.0000%\n"
     ]
    },
    {
     "name": "stderr",
     "output_type": "stream",
     "text": [
      "0it [00:00, ?it/s]\n"
     ]
    },
    {
     "name": "stdout",
     "output_type": "stream",
     "text": [
      "Epoch = 18. Time index = 0. Threshold MC = 0.9. Threshold MD = 0.6\n",
      "RD = 0 NZ = 0 NZA = 0 pNZ = 0.000% pNZA = 0.000% AD = 0.00% ADA = 0.00% NO = 1 GSP = 0.00% NSP = 0.00%\n",
      "SI2 = -0.55 SI = -0.55 eGROI = 0.00% eROI = 0.00% eROI2 = 0.00% eROI3 = 0.00% mSpread = 0.0000%\n"
     ]
    },
    {
     "name": "stderr",
     "output_type": "stream",
     "text": [
      "0it [00:00, ?it/s]\n"
     ]
    },
    {
     "name": "stdout",
     "output_type": "stream",
     "text": [
      "Epoch = 18. Time index = 0. Threshold MC = 0.9. Threshold MD = 0.7\n",
      "RD = 0 NZ = 0 NZA = 0 pNZ = 0.000% pNZA = 0.000% AD = 0.00% ADA = 0.00% NO = 1 GSP = 0.00% NSP = 0.00%\n",
      "SI2 = -0.55 SI = -0.55 eGROI = 0.00% eROI = 0.00% eROI2 = 0.00% eROI3 = 0.00% mSpread = 0.0000%\n"
     ]
    },
    {
     "name": "stderr",
     "output_type": "stream",
     "text": [
      "0it [00:00, ?it/s]\n"
     ]
    },
    {
     "name": "stdout",
     "output_type": "stream",
     "text": [
      "Epoch = 18. Time index = 0. Threshold MC = 0.9. Threshold MD = 0.8\n",
      "RD = 0 NZ = 0 NZA = 0 pNZ = 0.000% pNZA = 0.000% AD = 0.00% ADA = 0.00% NO = 1 GSP = 0.00% NSP = 0.00%\n",
      "SI2 = -0.55 SI = -0.55 eGROI = 0.00% eROI = 0.00% eROI2 = 0.00% eROI3 = 0.00% mSpread = 0.0000%\n"
     ]
    },
    {
     "name": "stderr",
     "output_type": "stream",
     "text": [
      "0it [00:00, ?it/s]\n"
     ]
    },
    {
     "name": "stdout",
     "output_type": "stream",
     "text": [
      "Epoch = 18. Time index = 0. Threshold MC = 0.9. Threshold MD = 0.9\n",
      "RD = 0 NZ = 0 NZA = 0 pNZ = 0.000% pNZA = 0.000% AD = 0.00% ADA = 0.00% NO = 1 GSP = 0.00% NSP = 0.00%\n",
      "SI2 = -0.55 SI = -0.55 eGROI = 0.00% eROI = 0.00% eROI2 = 0.00% eROI3 = 0.00% mSpread = 0.0000%\n",
      "\n"
     ]
    },
    {
     "name": "stderr",
     "output_type": "stream",
     "text": [
      "0it [00:00, ?it/s]\n"
     ]
    },
    {
     "name": "stdout",
     "output_type": "stream",
     "text": [
      "Epoch = 18. Time index = 1. Threshold MC = 0.5. Threshold MD = 0.5\n",
      "J_test = 6.331060990043309, J_train = 6.5023347055767715, Accuracy=0.543578882124915\n",
      "RD = 266380 NZ = 512392 NZA = 980655 pNZ = 44.605% pNZA = 85.368% AD = 51.99% ADA = 27.16% NO = 1 GSP = 0.00% NSP = 0.00%\n",
      "SI2 = -0.55 SI = -0.55 eGROI = 0.00% eROI = 0.00% eROI2 = 0.00% eROI3 = 0.00% mSpread = 0.0000%\n"
     ]
    },
    {
     "name": "stderr",
     "output_type": "stream",
     "text": [
      "100%|████████████████████████████████████████████████████████████████████████████████████████████████████████████████████████████████| 13672/13672 [00:02<00:00, 4825.16it/s]\n"
     ]
    },
    {
     "name": "stdout",
     "output_type": "stream",
     "text": [
      "Epoch = 18. Time index = 1. Threshold MC = 0.5. Threshold MD = 0.6\n",
      "RD = 9407 NZ = 14177 NZA = 29740 pNZ = 1.234% pNZA = 2.589% AD = 66.35% ADA = 31.63% NO = 2626 GSP = 62.53% NSP = 43.22%\n",
      "SI2 = -97.30 SI = -309.30 eGROI = 42.12% eROI = -38.89% eROI2 = -10.40% eROI3 = -36.66% mSpread = 0.0309%\n"
     ]
    },
    {
     "name": "stderr",
     "output_type": "stream",
     "text": [
      "100%|██████████████████████████████████████████████████████████████████████████████████████████████████████████████████████████████████| 1199/1199 [00:00<00:00, 4606.06it/s]\n"
     ]
    },
    {
     "name": "stdout",
     "output_type": "stream",
     "text": [
      "Epoch = 18. Time index = 1. Threshold MC = 0.5. Threshold MD = 0.7\n",
      "RD = 1662 NZ = 2190 NZA = 4665 pNZ = 0.191% pNZA = 0.406% AD = 75.89% ADA = 35.63% NO = 372 GSP = 66.40% NSP = 38.98%\n",
      "SI2 = -6.60 SI = -59.60 eGROI = 5.83% eROI = -8.47% eROI2 = -1.61% eROI3 = -5.33% mSpread = 0.0384%\n"
     ]
    },
    {
     "name": "stderr",
     "output_type": "stream",
     "text": [
      "0it [00:00, ?it/s]\n"
     ]
    },
    {
     "name": "stdout",
     "output_type": "stream",
     "text": [
      "Epoch = 18. Time index = 1. Threshold MC = 0.5. Threshold MD = 0.8\n",
      "RD = 305 NZ = 333 NZA = 569 pNZ = 0.029% pNZA = 0.050% AD = 91.59% ADA = 53.60% NO = 1 GSP = 0.00% NSP = 0.00%\n",
      "SI2 = -0.55 SI = -0.55 eGROI = 0.00% eROI = 0.00% eROI2 = 0.00% eROI3 = 0.00% mSpread = 0.0000%\n"
     ]
    },
    {
     "name": "stderr",
     "output_type": "stream",
     "text": [
      "0it [00:00, ?it/s]\n"
     ]
    },
    {
     "name": "stdout",
     "output_type": "stream",
     "text": [
      "Epoch = 18. Time index = 1. Threshold MC = 0.5. Threshold MD = 0.9\n",
      "RD = 1 NZ = 1 NZA = 2 pNZ = 0.000% pNZA = 0.000% AD = 100.00% ADA = 50.00% NO = 1 GSP = 0.00% NSP = 0.00%\n",
      "SI2 = -0.55 SI = -0.55 eGROI = 0.00% eROI = 0.00% eROI2 = 0.00% eROI3 = 0.00% mSpread = 0.0000%\n",
      "\n"
     ]
    },
    {
     "name": "stderr",
     "output_type": "stream",
     "text": [
      "0it [00:00, ?it/s]\n"
     ]
    },
    {
     "name": "stdout",
     "output_type": "stream",
     "text": [
      "Epoch = 18. Time index = 1. Threshold MC = 0.6. Threshold MD = 0.5\n",
      "RD = 86299 NZ = 162976 NZA = 269500 pNZ = 14.187% pNZA = 23.461% AD = 52.95% ADA = 32.02% NO = 1 GSP = 0.00% NSP = 0.00%\n",
      "SI2 = -0.55 SI = -0.55 eGROI = 0.00% eROI = 0.00% eROI2 = 0.00% eROI3 = 0.00% mSpread = 0.0000%\n"
     ]
    },
    {
     "name": "stderr",
     "output_type": "stream",
     "text": [
      "100%|██████████████████████████████████████████████████████████████████████████████████████████████████████████████████████████████████| 8197/8197 [00:01<00:00, 5005.37it/s]\n"
     ]
    },
    {
     "name": "stdout",
     "output_type": "stream",
     "text": [
      "Epoch = 18. Time index = 1. Threshold MC = 0.6. Threshold MD = 0.6\n",
      "RD = 4901 NZ = 7331 NZA = 12835 pNZ = 0.638% pNZA = 1.117% AD = 66.85% ADA = 38.18% NO = 1896 GSP = 62.71% NSP = 45.73%\n",
      "SI2 = -58.80 SI = -175.80 eGROI = 29.94% eROI = -24.46% eROI2 = -7.98% eROI3 = -26.94% mSpread = 0.0287%\n"
     ]
    },
    {
     "name": "stderr",
     "output_type": "stream",
     "text": [
      "100%|██████████████████████████████████████████████████████████████████████████████████████████████████████████████████████████████████| 1035/1035 [00:00<00:00, 4815.93it/s]\n"
     ]
    },
    {
     "name": "stdout",
     "output_type": "stream",
     "text": [
      "Epoch = 18. Time index = 1. Threshold MC = 0.6. Threshold MD = 0.7\n",
      "RD = 966 NZ = 1265 NZA = 2315 pNZ = 0.110% pNZA = 0.202% AD = 76.36% ADA = 41.73% NO = 315 GSP = 66.98% NSP = 40.32%\n",
      "SI2 = -10.25 SI = -46.25 eGROI = 5.32% eROI = -6.53% eROI2 = -0.98% eROI3 = -4.13% mSpread = 0.0376%\n"
     ]
    },
    {
     "name": "stderr",
     "output_type": "stream",
     "text": [
      "0it [00:00, ?it/s]\n"
     ]
    },
    {
     "name": "stdout",
     "output_type": "stream",
     "text": [
      "Epoch = 18. Time index = 1. Threshold MC = 0.6. Threshold MD = 0.8\n",
      "RD = 230 NZ = 248 NZA = 370 pNZ = 0.022% pNZA = 0.032% AD = 92.74% ADA = 62.16% NO = 1 GSP = 0.00% NSP = 0.00%\n",
      "SI2 = -0.55 SI = -0.55 eGROI = 0.00% eROI = 0.00% eROI2 = 0.00% eROI3 = 0.00% mSpread = 0.0000%\n"
     ]
    },
    {
     "name": "stderr",
     "output_type": "stream",
     "text": [
      "0it [00:00, ?it/s]\n"
     ]
    },
    {
     "name": "stdout",
     "output_type": "stream",
     "text": [
      "Epoch = 18. Time index = 1. Threshold MC = 0.6. Threshold MD = 0.9\n",
      "RD = 1 NZ = 1 NZA = 2 pNZ = 0.000% pNZA = 0.000% AD = 100.00% ADA = 50.00% NO = 1 GSP = 0.00% NSP = 0.00%\n",
      "SI2 = -0.55 SI = -0.55 eGROI = 0.00% eROI = 0.00% eROI2 = 0.00% eROI3 = 0.00% mSpread = 0.0000%\n",
      "\n"
     ]
    },
    {
     "name": "stderr",
     "output_type": "stream",
     "text": [
      "100%|██████████████████████████████████████████████████████████████████████████████████████████████████████████████████████████████████| 9406/9406 [00:02<00:00, 3783.00it/s]\n"
     ]
    },
    {
     "name": "stdout",
     "output_type": "stream",
     "text": [
      "Epoch = 18. Time index = 1. Threshold MC = 0.7. Threshold MD = 0.5\n",
      "RD = 6010 NZ = 10770 NZA = 14886 pNZ = 0.938% pNZA = 1.296% AD = 55.80% ADA = 40.37% NO = 1861 GSP = 54.97% NSP = 46.80%\n",
      "SI2 = -130.55 SI = -152.55 eGROI = 12.99% eROI = -25.11% eROI2 = -24.23% eROI3 = -42.84% mSpread = 0.0205%\n"
     ]
    },
    {
     "name": "stderr",
     "output_type": "stream",
     "text": [
      "100%|██████████████████████████████████████████████████████████████████████████████████████████████████████████████████████████████████| 1792/1792 [00:00<00:00, 3448.69it/s]\n"
     ]
    },
    {
     "name": "stdout",
     "output_type": "stream",
     "text": [
      "Epoch = 18. Time index = 1. Threshold MC = 0.7. Threshold MD = 0.6\n",
      "RD = 1242 NZ = 1904 NZA = 2665 pNZ = 0.166% pNZA = 0.232% AD = 65.23% ADA = 46.60% NO = 608 GSP = 62.99% NSP = 52.47%\n",
      "SI2 = -3.40 SI = -15.40 eGROI = 10.84% eROI = -2.99% eROI2 = -1.32% eROI3 = -7.40% mSpread = 0.0228%\n"
     ]
    },
    {
     "name": "stderr",
     "output_type": "stream",
     "text": [
      "100%|██████████████████████████████████████████████████████████████████████████████████████████████████████████████████████████████████████| 65/65 [00:00<00:00, 2833.46it/s]\n"
     ]
    },
    {
     "name": "stdout",
     "output_type": "stream",
     "text": [
      "Epoch = 18. Time index = 1. Threshold MC = 0.7. Threshold MD = 0.7\n",
      "RD = 245 NZ = 312 NZA = 420 pNZ = 0.027% pNZA = 0.037% AD = 78.53% ADA = 58.33% NO = 41 GSP = 56.10% NSP = 34.15%\n",
      "SI2 = -4.55 SI = -8.55 eGROI = -0.31% eROI = -1.76% eROI2 = -1.13% eROI3 = -1.54% mSpread = 0.0354%\n"
     ]
    },
    {
     "name": "stderr",
     "output_type": "stream",
     "text": [
      "0it [00:00, ?it/s]\n"
     ]
    },
    {
     "name": "stdout",
     "output_type": "stream",
     "text": [
      "Epoch = 18. Time index = 1. Threshold MC = 0.7. Threshold MD = 0.8\n",
      "RD = 126 NZ = 136 NZA = 164 pNZ = 0.012% pNZA = 0.014% AD = 92.65% ADA = 76.83% NO = 1 GSP = 0.00% NSP = 0.00%\n",
      "SI2 = -0.55 SI = -0.55 eGROI = 0.00% eROI = 0.00% eROI2 = 0.00% eROI3 = 0.00% mSpread = 0.0000%\n"
     ]
    },
    {
     "name": "stderr",
     "output_type": "stream",
     "text": [
      "0it [00:00, ?it/s]\n"
     ]
    },
    {
     "name": "stdout",
     "output_type": "stream",
     "text": [
      "Epoch = 18. Time index = 1. Threshold MC = 0.7. Threshold MD = 0.9\n",
      "RD = 1 NZ = 1 NZA = 2 pNZ = 0.000% pNZA = 0.000% AD = 100.00% ADA = 50.00% NO = 1 GSP = 0.00% NSP = 0.00%\n",
      "SI2 = -0.55 SI = -0.55 eGROI = 0.00% eROI = 0.00% eROI2 = 0.00% eROI3 = 0.00% mSpread = 0.0000%\n",
      "\n"
     ]
    },
    {
     "name": "stderr",
     "output_type": "stream",
     "text": [
      "100%|████████████████████████████████████████████████████████████████████████████████████████████████████████████████████████████████████| 525/525 [00:00<00:00, 3190.30it/s]\n"
     ]
    },
    {
     "name": "stdout",
     "output_type": "stream",
     "text": [
      "Epoch = 18. Time index = 1. Threshold MC = 0.8. Threshold MD = 0.5\n",
      "RD = 336 NZ = 561 NZA = 709 pNZ = 0.049% pNZA = 0.062% AD = 59.89% ADA = 47.39% NO = 292 GSP = 54.45% NSP = 50.00%\n",
      "SI2 = -13.60 SI = -14.60 eGROI = 4.63% eROI = -1.06% eROI2 = -1.21% eROI3 = -4.13% mSpread = 0.0195%\n"
     ]
    },
    {
     "name": "stderr",
     "output_type": "stream",
     "text": [
      "100%|████████████████████████████████████████████████████████████████████████████████████████████████████████████████████████████████████| 116/116 [00:00<00:00, 3524.40it/s]\n"
     ]
    },
    {
     "name": "stdout",
     "output_type": "stream",
     "text": [
      "Epoch = 18. Time index = 1. Threshold MC = 0.8. Threshold MD = 0.6\n",
      "RD = 116 NZ = 165 NZA = 214 pNZ = 0.014% pNZA = 0.019% AD = 70.30% ADA = 54.21% NO = 86 GSP = 58.14% NSP = 54.65%\n",
      "SI2 = 0.70 SI = -0.30 eGROI = 2.30% eROI = 0.66% eROI2 = 0.58% eROI3 = -0.28% mSpread = 0.0190%\n"
     ]
    },
    {
     "name": "stderr",
     "output_type": "stream",
     "text": [
      "0it [00:00, ?it/s]\n"
     ]
    },
    {
     "name": "stdout",
     "output_type": "stream",
     "text": [
      "Epoch = 18. Time index = 1. Threshold MC = 0.8. Threshold MD = 0.7\n",
      "RD = 32 NZ = 39 NZA = 49 pNZ = 0.003% pNZA = 0.004% AD = 82.05% ADA = 65.31% NO = 1 GSP = 0.00% NSP = 0.00%\n",
      "SI2 = -0.55 SI = -0.55 eGROI = 0.00% eROI = 0.00% eROI2 = 0.00% eROI3 = 0.00% mSpread = 0.0000%\n"
     ]
    },
    {
     "name": "stderr",
     "output_type": "stream",
     "text": [
      "0it [00:00, ?it/s]\n"
     ]
    },
    {
     "name": "stdout",
     "output_type": "stream",
     "text": [
      "Epoch = 18. Time index = 1. Threshold MC = 0.8. Threshold MD = 0.8\n",
      "RD = 17 NZ = 21 NZA = 22 pNZ = 0.002% pNZA = 0.002% AD = 80.95% ADA = 77.27% NO = 1 GSP = 0.00% NSP = 0.00%\n",
      "SI2 = -0.55 SI = -0.55 eGROI = 0.00% eROI = 0.00% eROI2 = 0.00% eROI3 = 0.00% mSpread = 0.0000%\n"
     ]
    },
    {
     "name": "stderr",
     "output_type": "stream",
     "text": [
      "0it [00:00, ?it/s]\n"
     ]
    },
    {
     "name": "stdout",
     "output_type": "stream",
     "text": [
      "Epoch = 18. Time index = 1. Threshold MC = 0.8. Threshold MD = 0.9\n",
      "RD = 0 NZ = 0 NZA = 0 pNZ = 0.000% pNZA = 0.000% AD = 0.00% ADA = 0.00% NO = 1 GSP = 0.00% NSP = 0.00%\n",
      "SI2 = -0.55 SI = -0.55 eGROI = 0.00% eROI = 0.00% eROI2 = 0.00% eROI3 = 0.00% mSpread = 0.0000%\n",
      "\n"
     ]
    },
    {
     "name": "stderr",
     "output_type": "stream",
     "text": [
      "0it [00:00, ?it/s]\n"
     ]
    },
    {
     "name": "stdout",
     "output_type": "stream",
     "text": [
      "Epoch = 18. Time index = 1. Threshold MC = 0.9. Threshold MD = 0.5\n",
      "RD = 0 NZ = 0 NZA = 0 pNZ = 0.000% pNZA = 0.000% AD = 0.00% ADA = 0.00% NO = 1 GSP = 0.00% NSP = 0.00%\n",
      "SI2 = -0.55 SI = -0.55 eGROI = 0.00% eROI = 0.00% eROI2 = 0.00% eROI3 = 0.00% mSpread = 0.0000%\n"
     ]
    },
    {
     "name": "stderr",
     "output_type": "stream",
     "text": [
      "0it [00:00, ?it/s]\n"
     ]
    },
    {
     "name": "stdout",
     "output_type": "stream",
     "text": [
      "Epoch = 18. Time index = 1. Threshold MC = 0.9. Threshold MD = 0.6\n",
      "RD = 0 NZ = 0 NZA = 0 pNZ = 0.000% pNZA = 0.000% AD = 0.00% ADA = 0.00% NO = 1 GSP = 0.00% NSP = 0.00%\n",
      "SI2 = -0.55 SI = -0.55 eGROI = 0.00% eROI = 0.00% eROI2 = 0.00% eROI3 = 0.00% mSpread = 0.0000%\n"
     ]
    },
    {
     "name": "stderr",
     "output_type": "stream",
     "text": [
      "0it [00:00, ?it/s]\n"
     ]
    },
    {
     "name": "stdout",
     "output_type": "stream",
     "text": [
      "Epoch = 18. Time index = 1. Threshold MC = 0.9. Threshold MD = 0.7\n",
      "RD = 0 NZ = 0 NZA = 0 pNZ = 0.000% pNZA = 0.000% AD = 0.00% ADA = 0.00% NO = 1 GSP = 0.00% NSP = 0.00%\n",
      "SI2 = -0.55 SI = -0.55 eGROI = 0.00% eROI = 0.00% eROI2 = 0.00% eROI3 = 0.00% mSpread = 0.0000%\n"
     ]
    },
    {
     "name": "stderr",
     "output_type": "stream",
     "text": [
      "0it [00:00, ?it/s]\n"
     ]
    },
    {
     "name": "stdout",
     "output_type": "stream",
     "text": [
      "Epoch = 18. Time index = 1. Threshold MC = 0.9. Threshold MD = 0.8\n",
      "RD = 0 NZ = 0 NZA = 0 pNZ = 0.000% pNZA = 0.000% AD = 0.00% ADA = 0.00% NO = 1 GSP = 0.00% NSP = 0.00%\n",
      "SI2 = -0.55 SI = -0.55 eGROI = 0.00% eROI = 0.00% eROI2 = 0.00% eROI3 = 0.00% mSpread = 0.0000%\n"
     ]
    },
    {
     "name": "stderr",
     "output_type": "stream",
     "text": [
      "0it [00:00, ?it/s]\n"
     ]
    },
    {
     "name": "stdout",
     "output_type": "stream",
     "text": [
      "Epoch = 18. Time index = 1. Threshold MC = 0.9. Threshold MD = 0.9\n",
      "RD = 0 NZ = 0 NZA = 0 pNZ = 0.000% pNZA = 0.000% AD = 0.00% ADA = 0.00% NO = 1 GSP = 0.00% NSP = 0.00%\n",
      "SI2 = -0.55 SI = -0.55 eGROI = 0.00% eROI = 0.00% eROI2 = 0.00% eROI3 = 0.00% mSpread = 0.0000%\n",
      "\n"
     ]
    },
    {
     "name": "stderr",
     "output_type": "stream",
     "text": [
      "0it [00:00, ?it/s]\n"
     ]
    },
    {
     "name": "stdout",
     "output_type": "stream",
     "text": [
      "Epoch = 18. Time index = 2. Threshold MC = 0.5. Threshold MD = 0.5\n",
      "J_test = 6.331060990043309, J_train = 6.5023347055767715, Accuracy=0.5440707283589834\n",
      "RD = 265325 NZ = 509585 NZA = 974476 pNZ = 44.361% pNZA = 84.831% AD = 52.07% ADA = 27.23% NO = 1 GSP = 0.00% NSP = 0.00%\n",
      "SI2 = -0.55 SI = -0.55 eGROI = 0.00% eROI = 0.00% eROI2 = 0.00% eROI3 = 0.00% mSpread = 0.0000%\n"
     ]
    },
    {
     "name": "stderr",
     "output_type": "stream",
     "text": [
      "100%|████████████████████████████████████████████████████████████████████████████████████████████████████████████████████████████████| 14522/14522 [00:02<00:00, 5773.36it/s]\n"
     ]
    },
    {
     "name": "stdout",
     "output_type": "stream",
     "text": [
      "Epoch = 18. Time index = 2. Threshold MC = 0.5. Threshold MD = 0.6\n",
      "RD = 10764 NZ = 16484 NZA = 34086 pNZ = 1.435% pNZA = 2.967% AD = 65.30% ADA = 31.58% NO = 2768 GSP = 61.42% NSP = 43.97%\n",
      "SI2 = -110.40 SI = -305.40 eGROI = 43.05% eROI = -39.59% eROI2 = -12.31% eROI3 = -39.99% mSpread = 0.0299%\n"
     ]
    },
    {
     "name": "stderr",
     "output_type": "stream",
     "text": [
      "100%|██████████████████████████████████████████████████████████████████████████████████████████████████████████████████████████████████| 1468/1468 [00:00<00:00, 4939.04it/s]\n"
     ]
    },
    {
     "name": "stdout",
     "output_type": "stream",
     "text": [
      "Epoch = 18. Time index = 2. Threshold MC = 0.5. Threshold MD = 0.7\n",
      "RD = 2103 NZ = 2777 NZA = 6160 pNZ = 0.242% pNZA = 0.536% AD = 75.73% ADA = 34.14% NO = 419 GSP = 67.54% NSP = 43.44%\n",
      "SI2 = -5.45 SI = -48.45 eGROI = 7.88% eROI = -8.26% eROI2 = -0.50% eROI3 = -4.69% mSpread = 0.0385%\n"
     ]
    },
    {
     "name": "stderr",
     "output_type": "stream",
     "text": [
      "0it [00:00, ?it/s]\n"
     ]
    },
    {
     "name": "stdout",
     "output_type": "stream",
     "text": [
      "Epoch = 18. Time index = 2. Threshold MC = 0.5. Threshold MD = 0.8\n",
      "RD = 331 NZ = 374 NZA = 773 pNZ = 0.033% pNZA = 0.067% AD = 88.50% ADA = 42.82% NO = 1 GSP = 0.00% NSP = 0.00%\n",
      "SI2 = -0.55 SI = -0.55 eGROI = 0.00% eROI = 0.00% eROI2 = 0.00% eROI3 = 0.00% mSpread = 0.0000%\n"
     ]
    },
    {
     "name": "stderr",
     "output_type": "stream",
     "text": [
      "0it [00:00, ?it/s]\n"
     ]
    },
    {
     "name": "stdout",
     "output_type": "stream",
     "text": [
      "Epoch = 18. Time index = 2. Threshold MC = 0.5. Threshold MD = 0.9\n",
      "RD = 4 NZ = 4 NZA = 4 pNZ = 0.000% pNZA = 0.000% AD = 100.00% ADA = 100.00% NO = 1 GSP = 0.00% NSP = 0.00%\n",
      "SI2 = -0.55 SI = -0.55 eGROI = 0.00% eROI = 0.00% eROI2 = 0.00% eROI3 = 0.00% mSpread = 0.0000%\n",
      "\n"
     ]
    },
    {
     "name": "stderr",
     "output_type": "stream",
     "text": [
      "0it [00:00, ?it/s]\n"
     ]
    },
    {
     "name": "stdout",
     "output_type": "stream",
     "text": [
      "Epoch = 18. Time index = 2. Threshold MC = 0.6. Threshold MD = 0.5\n",
      "RD = 86247 NZ = 162316 NZA = 269198 pNZ = 14.130% pNZA = 23.434% AD = 53.14% ADA = 32.04% NO = 1 GSP = 0.00% NSP = 0.00%\n",
      "SI2 = -0.55 SI = -0.55 eGROI = 0.00% eROI = 0.00% eROI2 = 0.00% eROI3 = 0.00% mSpread = 0.0000%\n"
     ]
    },
    {
     "name": "stderr",
     "output_type": "stream",
     "text": [
      "100%|████████████████████████████████████████████████████████████████████████████████████████████████████████████████████████████████| 10287/10287 [00:01<00:00, 5587.28it/s]\n"
     ]
    },
    {
     "name": "stdout",
     "output_type": "stream",
     "text": [
      "Epoch = 18. Time index = 2. Threshold MC = 0.6. Threshold MD = 0.6\n",
      "RD = 6058 NZ = 9151 NZA = 16140 pNZ = 0.797% pNZA = 1.405% AD = 66.20% ADA = 37.53% NO = 2233 GSP = 62.20% NSP = 45.77%\n",
      "SI2 = -65.15 SI = -206.15 eGROI = 34.39% eROI = -30.16% eROI2 = -10.27% eROI3 = -32.60% mSpread = 0.0289%\n"
     ]
    },
    {
     "name": "stderr",
     "output_type": "stream",
     "text": [
      "100%|██████████████████████████████████████████████████████████████████████████████████████████████████████████████████████████████████| 1335/1335 [00:00<00:00, 4831.54it/s]\n"
     ]
    },
    {
     "name": "stdout",
     "output_type": "stream",
     "text": [
      "Epoch = 18. Time index = 2. Threshold MC = 0.6. Threshold MD = 0.7\n",
      "RD = 1133 NZ = 1496 NZA = 2846 pNZ = 0.130% pNZA = 0.248% AD = 75.74% ADA = 39.81% NO = 380 GSP = 66.58% NSP = 43.42%\n",
      "SI2 = -7.00 SI = -44.00 eGROI = 6.89% eROI = -7.35% eROI2 = -0.71% eROI3 = -4.51% mSpread = 0.0375%\n"
     ]
    },
    {
     "name": "stderr",
     "output_type": "stream",
     "text": [
      "0it [00:00, ?it/s]\n"
     ]
    },
    {
     "name": "stdout",
     "output_type": "stream",
     "text": [
      "Epoch = 18. Time index = 2. Threshold MC = 0.6. Threshold MD = 0.8\n",
      "RD = 216 NZ = 238 NZA = 377 pNZ = 0.021% pNZA = 0.033% AD = 90.76% ADA = 57.29% NO = 1 GSP = 0.00% NSP = 0.00%\n",
      "SI2 = -0.55 SI = -0.55 eGROI = 0.00% eROI = 0.00% eROI2 = 0.00% eROI3 = 0.00% mSpread = 0.0000%\n"
     ]
    },
    {
     "name": "stderr",
     "output_type": "stream",
     "text": [
      "0it [00:00, ?it/s]\n"
     ]
    },
    {
     "name": "stdout",
     "output_type": "stream",
     "text": [
      "Epoch = 18. Time index = 2. Threshold MC = 0.6. Threshold MD = 0.9\n",
      "RD = 4 NZ = 4 NZA = 4 pNZ = 0.000% pNZA = 0.000% AD = 100.00% ADA = 100.00% NO = 1 GSP = 0.00% NSP = 0.00%\n",
      "SI2 = -0.55 SI = -0.55 eGROI = 0.00% eROI = 0.00% eROI2 = 0.00% eROI3 = 0.00% mSpread = 0.0000%\n",
      "\n"
     ]
    },
    {
     "name": "stderr",
     "output_type": "stream",
     "text": [
      "100%|██████████████████████████████████████████████████████████████████████████████████████████████████████████████████████████████████| 9563/9563 [00:01<00:00, 5721.03it/s]\n"
     ]
    },
    {
     "name": "stdout",
     "output_type": "stream",
     "text": [
      "Epoch = 18. Time index = 2. Threshold MC = 0.7. Threshold MD = 0.5\n",
      "RD = 5881 NZ = 10465 NZA = 14516 pNZ = 0.911% pNZA = 1.264% AD = 56.20% ADA = 40.51% NO = 1932 GSP = 54.71% NSP = 45.70%\n",
      "SI2 = -142.60 SI = -179.60 eGROI = 12.57% eROI = -28.53% eROI2 = -26.07% eROI3 = -45.39% mSpread = 0.0213%\n"
     ]
    },
    {
     "name": "stderr",
     "output_type": "stream",
     "text": [
      "100%|██████████████████████████████████████████████████████████████████████████████████████████████████████████████████████████████████| 2532/2532 [00:00<00:00, 5067.33it/s]\n"
     ]
    },
    {
     "name": "stdout",
     "output_type": "stream",
     "text": [
      "Epoch = 18. Time index = 2. Threshold MC = 0.7. Threshold MD = 0.6\n",
      "RD = 1577 NZ = 2418 NZA = 3438 pNZ = 0.210% pNZA = 0.299% AD = 65.22% ADA = 45.87% NO = 779 GSP = 62.00% NSP = 51.22%\n",
      "SI2 = -1.45 SI = -29.45 eGROI = 12.23% eROI = -5.94% eROI2 = -3.35% eROI3 = -11.14% mSpread = 0.0233%\n"
     ]
    },
    {
     "name": "stderr",
     "output_type": "stream",
     "text": [
      "100%|████████████████████████████████████████████████████████████████████████████████████████████████████████████████████████████████████| 162/162 [00:00<00:00, 3009.00it/s]\n"
     ]
    },
    {
     "name": "stdout",
     "output_type": "stream",
     "text": [
      "Epoch = 18. Time index = 2. Threshold MC = 0.7. Threshold MD = 0.7\n",
      "RD = 293 NZ = 390 NZA = 567 pNZ = 0.034% pNZA = 0.049% AD = 75.13% ADA = 51.68% NO = 87 GSP = 56.32% NSP = 36.78%\n",
      "SI2 = -8.85 SI = -15.85 eGROI = 0.25% eROI = -2.65% eROI2 = -1.49% eROI3 = -2.36% mSpread = 0.0333%\n"
     ]
    },
    {
     "name": "stderr",
     "output_type": "stream",
     "text": [
      "0it [00:00, ?it/s]\n"
     ]
    },
    {
     "name": "stdout",
     "output_type": "stream",
     "text": [
      "Epoch = 18. Time index = 2. Threshold MC = 0.7. Threshold MD = 0.8\n",
      "RD = 112 NZ = 124 NZA = 156 pNZ = 0.011% pNZA = 0.014% AD = 90.32% ADA = 71.79% NO = 1 GSP = 0.00% NSP = 0.00%\n",
      "SI2 = -0.55 SI = -0.55 eGROI = 0.00% eROI = 0.00% eROI2 = 0.00% eROI3 = 0.00% mSpread = 0.0000%\n"
     ]
    },
    {
     "name": "stderr",
     "output_type": "stream",
     "text": [
      "0it [00:00, ?it/s]\n"
     ]
    },
    {
     "name": "stdout",
     "output_type": "stream",
     "text": [
      "Epoch = 18. Time index = 2. Threshold MC = 0.7. Threshold MD = 0.9\n",
      "RD = 3 NZ = 3 NZA = 3 pNZ = 0.000% pNZA = 0.000% AD = 100.00% ADA = 100.00% NO = 1 GSP = 0.00% NSP = 0.00%\n",
      "SI2 = -0.55 SI = -0.55 eGROI = 0.00% eROI = 0.00% eROI2 = 0.00% eROI3 = 0.00% mSpread = 0.0000%\n",
      "\n"
     ]
    },
    {
     "name": "stderr",
     "output_type": "stream",
     "text": [
      "100%|████████████████████████████████████████████████████████████████████████████████████████████████████████████████████████████████████| 661/661 [00:00<00:00, 3525.30it/s]\n"
     ]
    },
    {
     "name": "stdout",
     "output_type": "stream",
     "text": [
      "Epoch = 18. Time index = 2. Threshold MC = 0.8. Threshold MD = 0.5\n",
      "RD = 394 NZ = 669 NZA = 842 pNZ = 0.058% pNZA = 0.073% AD = 58.89% ADA = 46.79% NO = 361 GSP = 55.68% NSP = 51.25%\n",
      "SI2 = -13.55 SI = -13.55 eGROI = 7.04% eROI = -0.52% eROI2 = -0.18% eROI3 = -3.79% mSpread = 0.0210%\n"
     ]
    },
    {
     "name": "stderr",
     "output_type": "stream",
     "text": [
      "100%|████████████████████████████████████████████████████████████████████████████████████████████████████████████████████████████████████| 203/203 [00:00<00:00, 3130.42it/s]\n"
     ]
    },
    {
     "name": "stdout",
     "output_type": "stream",
     "text": [
      "Epoch = 18. Time index = 2. Threshold MC = 0.8. Threshold MD = 0.6\n",
      "RD = 162 NZ = 238 NZA = 299 pNZ = 0.021% pNZA = 0.026% AD = 68.07% ADA = 54.18% NO = 121 GSP = 61.98% NSP = 57.02%\n",
      "SI2 = 4.45 SI = 2.45 eGROI = 3.22% eROI = 0.68% eROI2 = 0.80% eROI3 = -0.41% mSpread = 0.0210%\n"
     ]
    },
    {
     "name": "stderr",
     "output_type": "stream",
     "text": [
      "0it [00:00, ?it/s]\n"
     ]
    },
    {
     "name": "stdout",
     "output_type": "stream",
     "text": [
      "Epoch = 18. Time index = 2. Threshold MC = 0.8. Threshold MD = 0.7\n",
      "RD = 37 NZ = 46 NZA = 59 pNZ = 0.004% pNZA = 0.005% AD = 80.43% ADA = 62.71% NO = 1 GSP = 100.00% NSP = 100.00%\n",
      "SI2 = -0.55 SI = 0.45 eGROI = 0.19% eROI = 0.13% eROI2 = 0.17% eROI3 = 0.16% mSpread = 0.0555%\n"
     ]
    },
    {
     "name": "stderr",
     "output_type": "stream",
     "text": [
      "0it [00:00, ?it/s]\n"
     ]
    },
    {
     "name": "stdout",
     "output_type": "stream",
     "text": [
      "Epoch = 18. Time index = 2. Threshold MC = 0.8. Threshold MD = 0.8\n",
      "RD = 17 NZ = 21 NZA = 25 pNZ = 0.002% pNZA = 0.002% AD = 80.95% ADA = 68.00% NO = 1 GSP = 0.00% NSP = 0.00%\n",
      "SI2 = -0.55 SI = -0.55 eGROI = 0.00% eROI = 0.00% eROI2 = 0.00% eROI3 = 0.00% mSpread = 0.0000%\n"
     ]
    },
    {
     "name": "stderr",
     "output_type": "stream",
     "text": [
      "0it [00:00, ?it/s]\n"
     ]
    },
    {
     "name": "stdout",
     "output_type": "stream",
     "text": [
      "Epoch = 18. Time index = 2. Threshold MC = 0.8. Threshold MD = 0.9\n",
      "RD = 1 NZ = 1 NZA = 1 pNZ = 0.000% pNZA = 0.000% AD = 100.00% ADA = 100.00% NO = 1 GSP = 0.00% NSP = 0.00%\n",
      "SI2 = -0.55 SI = -0.55 eGROI = 0.00% eROI = 0.00% eROI2 = 0.00% eROI3 = 0.00% mSpread = 0.0000%\n",
      "\n"
     ]
    },
    {
     "name": "stderr",
     "output_type": "stream",
     "text": [
      "0it [00:00, ?it/s]\n"
     ]
    },
    {
     "name": "stdout",
     "output_type": "stream",
     "text": [
      "Epoch = 18. Time index = 2. Threshold MC = 0.9. Threshold MD = 0.5\n",
      "RD = 0 NZ = 0 NZA = 0 pNZ = 0.000% pNZA = 0.000% AD = 0.00% ADA = 0.00% NO = 1 GSP = 0.00% NSP = 0.00%\n",
      "SI2 = -0.55 SI = -0.55 eGROI = 0.00% eROI = 0.00% eROI2 = 0.00% eROI3 = 0.00% mSpread = 0.0000%\n"
     ]
    },
    {
     "name": "stderr",
     "output_type": "stream",
     "text": [
      "0it [00:00, ?it/s]\n"
     ]
    },
    {
     "name": "stdout",
     "output_type": "stream",
     "text": [
      "Epoch = 18. Time index = 2. Threshold MC = 0.9. Threshold MD = 0.6\n",
      "RD = 0 NZ = 0 NZA = 0 pNZ = 0.000% pNZA = 0.000% AD = 0.00% ADA = 0.00% NO = 1 GSP = 0.00% NSP = 0.00%\n",
      "SI2 = -0.55 SI = -0.55 eGROI = 0.00% eROI = 0.00% eROI2 = 0.00% eROI3 = 0.00% mSpread = 0.0000%\n"
     ]
    },
    {
     "name": "stderr",
     "output_type": "stream",
     "text": [
      "0it [00:00, ?it/s]\n"
     ]
    },
    {
     "name": "stdout",
     "output_type": "stream",
     "text": [
      "Epoch = 18. Time index = 2. Threshold MC = 0.9. Threshold MD = 0.7\n",
      "RD = 0 NZ = 0 NZA = 0 pNZ = 0.000% pNZA = 0.000% AD = 0.00% ADA = 0.00% NO = 1 GSP = 0.00% NSP = 0.00%\n",
      "SI2 = -0.55 SI = -0.55 eGROI = 0.00% eROI = 0.00% eROI2 = 0.00% eROI3 = 0.00% mSpread = 0.0000%\n"
     ]
    },
    {
     "name": "stderr",
     "output_type": "stream",
     "text": [
      "0it [00:00, ?it/s]\n"
     ]
    },
    {
     "name": "stdout",
     "output_type": "stream",
     "text": [
      "Epoch = 18. Time index = 2. Threshold MC = 0.9. Threshold MD = 0.8\n",
      "RD = 0 NZ = 0 NZA = 0 pNZ = 0.000% pNZA = 0.000% AD = 0.00% ADA = 0.00% NO = 1 GSP = 0.00% NSP = 0.00%\n",
      "SI2 = -0.55 SI = -0.55 eGROI = 0.00% eROI = 0.00% eROI2 = 0.00% eROI3 = 0.00% mSpread = 0.0000%\n"
     ]
    },
    {
     "name": "stderr",
     "output_type": "stream",
     "text": [
      "0it [00:00, ?it/s]\n"
     ]
    },
    {
     "name": "stdout",
     "output_type": "stream",
     "text": [
      "Epoch = 18. Time index = 2. Threshold MC = 0.9. Threshold MD = 0.9\n",
      "RD = 0 NZ = 0 NZA = 0 pNZ = 0.000% pNZA = 0.000% AD = 0.00% ADA = 0.00% NO = 1 GSP = 0.00% NSP = 0.00%\n",
      "SI2 = -0.55 SI = -0.55 eGROI = 0.00% eROI = 0.00% eROI2 = 0.00% eROI3 = 0.00% mSpread = 0.0000%\n",
      "\n"
     ]
    },
    {
     "name": "stderr",
     "output_type": "stream",
     "text": [
      "0it [00:00, ?it/s]\n"
     ]
    },
    {
     "name": "stdout",
     "output_type": "stream",
     "text": [
      "Epoch = 18. Time index = 3. Threshold MC = 0.5. Threshold MD = 0.5\n",
      "J_test = 6.331060990043309, J_train = 6.5023347055767715, Accuracy=0.5438200173582547\n",
      "RD = 264643 NZ = 508116 NZA = 971826 pNZ = 44.233% pNZA = 84.600% AD = 52.08% ADA = 27.23% NO = 1 GSP = 0.00% NSP = 0.00%\n",
      "SI2 = -0.55 SI = -0.55 eGROI = 0.00% eROI = 0.00% eROI2 = 0.00% eROI3 = 0.00% mSpread = 0.0000%\n"
     ]
    },
    {
     "name": "stderr",
     "output_type": "stream",
     "text": [
      "100%|████████████████████████████████████████████████████████████████████████████████████████████████████████████████████████████████| 14965/14965 [00:02<00:00, 5259.31it/s]\n"
     ]
    },
    {
     "name": "stdout",
     "output_type": "stream",
     "text": [
      "Epoch = 18. Time index = 3. Threshold MC = 0.5. Threshold MD = 0.6\n",
      "RD = 10981 NZ = 16986 NZA = 34466 pNZ = 1.479% pNZA = 3.000% AD = 64.65% ADA = 31.86% NO = 2874 GSP = 60.58% NSP = 44.08%\n",
      "SI2 = -128.70 SI = -313.70 eGROI = 40.82% eROI = -44.06% eROI2 = -16.66% eROI3 = -45.40% mSpread = 0.0295%\n"
     ]
    },
    {
     "name": "stderr",
     "output_type": "stream",
     "text": [
      "100%|██████████████████████████████████████████████████████████████████████████████████████████████████████████████████████████████████| 1596/1596 [00:00<00:00, 4893.71it/s]\n"
     ]
    },
    {
     "name": "stdout",
     "output_type": "stream",
     "text": [
      "Epoch = 18. Time index = 3. Threshold MC = 0.5. Threshold MD = 0.7\n",
      "RD = 2064 NZ = 2746 NZA = 5944 pNZ = 0.239% pNZA = 0.517% AD = 75.16% ADA = 34.72% NO = 459 GSP = 67.76% NSP = 41.39%\n",
      "SI2 = -7.45 SI = -62.45 eGROI = 7.93% eROI = -9.55% eROI2 = -1.25% eROI3 = -5.84% mSpread = 0.0381%\n"
     ]
    },
    {
     "name": "stderr",
     "output_type": "stream",
     "text": [
      "0it [00:00, ?it/s]\n"
     ]
    },
    {
     "name": "stdout",
     "output_type": "stream",
     "text": [
      "Epoch = 18. Time index = 3. Threshold MC = 0.5. Threshold MD = 0.8\n",
      "RD = 296 NZ = 334 NZA = 720 pNZ = 0.029% pNZA = 0.063% AD = 88.62% ADA = 41.11% NO = 1 GSP = 0.00% NSP = 0.00%\n",
      "SI2 = -0.55 SI = -0.55 eGROI = -0.07% eROI = -0.10% eROI2 = -0.09% eROI3 = -0.10% mSpread = 0.0293%\n"
     ]
    },
    {
     "name": "stderr",
     "output_type": "stream",
     "text": [
      "0it [00:00, ?it/s]\n"
     ]
    },
    {
     "name": "stdout",
     "output_type": "stream",
     "text": [
      "Epoch = 18. Time index = 3. Threshold MC = 0.5. Threshold MD = 0.9\n",
      "RD = 2 NZ = 2 NZA = 3 pNZ = 0.000% pNZA = 0.000% AD = 100.00% ADA = 66.67% NO = 1 GSP = 0.00% NSP = 0.00%\n",
      "SI2 = -0.55 SI = -0.55 eGROI = 0.00% eROI = 0.00% eROI2 = 0.00% eROI3 = 0.00% mSpread = 0.0000%\n",
      "\n"
     ]
    },
    {
     "name": "stderr",
     "output_type": "stream",
     "text": [
      "0it [00:00, ?it/s]\n"
     ]
    },
    {
     "name": "stdout",
     "output_type": "stream",
     "text": [
      "Epoch = 18. Time index = 3. Threshold MC = 0.6. Threshold MD = 0.5\n",
      "RD = 86471 NZ = 163056 NZA = 271482 pNZ = 14.194% pNZA = 23.633% AD = 53.03% ADA = 31.85% NO = 1 GSP = 0.00% NSP = 0.00%\n",
      "SI2 = -0.55 SI = -0.55 eGROI = 0.00% eROI = 0.00% eROI2 = 0.00% eROI3 = 0.00% mSpread = 0.0000%\n"
     ]
    },
    {
     "name": "stderr",
     "output_type": "stream",
     "text": [
      "100%|████████████████████████████████████████████████████████████████████████████████████████████████████████████████████████████████| 11034/11034 [00:02<00:00, 4795.56it/s]\n"
     ]
    },
    {
     "name": "stdout",
     "output_type": "stream",
     "text": [
      "Epoch = 18. Time index = 3. Threshold MC = 0.6. Threshold MD = 0.6\n",
      "RD = 6432 NZ = 9825 NZA = 17287 pNZ = 0.855% pNZA = 1.505% AD = 65.47% ADA = 37.21% NO = 2379 GSP = 61.03% NSP = 45.31%\n",
      "SI2 = -84.45 SI = -230.45 eGROI = 35.35% eROI = -33.55% eROI2 = -12.23% eROI3 = -36.02% mSpread = 0.0290%\n"
     ]
    },
    {
     "name": "stderr",
     "output_type": "stream",
     "text": [
      "100%|██████████████████████████████████████████████████████████████████████████████████████████████████████████████████████████████████| 1439/1439 [00:00<00:00, 4907.59it/s]\n"
     ]
    },
    {
     "name": "stdout",
     "output_type": "stream",
     "text": [
      "Epoch = 18. Time index = 3. Threshold MC = 0.6. Threshold MD = 0.7\n",
      "RD = 1147 NZ = 1553 NZA = 2932 pNZ = 0.135% pNZA = 0.255% AD = 73.86% ADA = 39.12% NO = 414 GSP = 66.43% NSP = 42.03%\n",
      "SI2 = -6.70 SI = -53.70 eGROI = 7.04% eROI = -8.71% eROI2 = -1.24% eROI3 = -5.38% mSpread = 0.0381%\n"
     ]
    },
    {
     "name": "stderr",
     "output_type": "stream",
     "text": [
      "0it [00:00, ?it/s]\n"
     ]
    },
    {
     "name": "stdout",
     "output_type": "stream",
     "text": [
      "Epoch = 18. Time index = 3. Threshold MC = 0.6. Threshold MD = 0.8\n",
      "RD = 155 NZ = 173 NZA = 287 pNZ = 0.015% pNZA = 0.025% AD = 89.60% ADA = 54.01% NO = 1 GSP = 0.00% NSP = 0.00%\n",
      "SI2 = -0.55 SI = -0.55 eGROI = -0.07% eROI = -0.10% eROI2 = -0.09% eROI3 = -0.10% mSpread = 0.0293%\n"
     ]
    },
    {
     "name": "stderr",
     "output_type": "stream",
     "text": [
      "0it [00:00, ?it/s]\n"
     ]
    },
    {
     "name": "stdout",
     "output_type": "stream",
     "text": [
      "Epoch = 18. Time index = 3. Threshold MC = 0.6. Threshold MD = 0.9\n",
      "RD = 2 NZ = 2 NZA = 2 pNZ = 0.000% pNZA = 0.000% AD = 100.00% ADA = 100.00% NO = 1 GSP = 0.00% NSP = 0.00%\n",
      "SI2 = -0.55 SI = -0.55 eGROI = 0.00% eROI = 0.00% eROI2 = 0.00% eROI3 = 0.00% mSpread = 0.0000%\n",
      "\n"
     ]
    },
    {
     "name": "stderr",
     "output_type": "stream",
     "text": [
      "100%|██████████████████████████████████████████████████████████████████████████████████████████████████████████████████████████████████| 9619/9619 [00:01<00:00, 5527.03it/s]\n"
     ]
    },
    {
     "name": "stdout",
     "output_type": "stream",
     "text": [
      "Epoch = 18. Time index = 3. Threshold MC = 0.7. Threshold MD = 0.5\n",
      "RD = 5804 NZ = 10309 NZA = 14401 pNZ = 0.897% pNZA = 1.254% AD = 56.30% ADA = 40.30% NO = 1904 GSP = 55.51% NSP = 47.43%\n",
      "SI2 = -110.20 SI = -144.20 eGROI = 16.16% eROI = -25.32% eROI2 = -21.92% eROI3 = -40.96% mSpread = 0.0218%\n"
     ]
    },
    {
     "name": "stderr",
     "output_type": "stream",
     "text": [
      "100%|██████████████████████████████████████████████████████████████████████████████████████████████████████████████████████████████████| 2831/2831 [00:00<00:00, 5285.52it/s]\n"
     ]
    },
    {
     "name": "stdout",
     "output_type": "stream",
     "text": [
      "Epoch = 18. Time index = 3. Threshold MC = 0.7. Threshold MD = 0.6\n",
      "RD = 1672 NZ = 2574 NZA = 3703 pNZ = 0.224% pNZA = 0.322% AD = 64.96% ADA = 45.15% NO = 820 GSP = 62.93% NSP = 52.07%\n",
      "SI2 = 1.00 SI = -24.00 eGROI = 15.69% eROI = -4.19% eROI2 = -0.71% eROI3 = -8.91% mSpread = 0.0242%\n"
     ]
    },
    {
     "name": "stderr",
     "output_type": "stream",
     "text": [
      "100%|████████████████████████████████████████████████████████████████████████████████████████████████████████████████████████████████████| 223/223 [00:00<00:00, 3852.42it/s]\n"
     ]
    },
    {
     "name": "stdout",
     "output_type": "stream",
     "text": [
      "Epoch = 18. Time index = 3. Threshold MC = 0.7. Threshold MD = 0.7\n",
      "RD = 312 NZ = 417 NZA = 624 pNZ = 0.036% pNZA = 0.054% AD = 74.82% ADA = 50.00% NO = 110 GSP = 63.64% NSP = 41.82%\n",
      "SI2 = -3.50 SI = -14.50 eGROI = 1.20% eROI = -2.60% eROI2 = -1.00% eROI3 = -2.10% mSpread = 0.0345%\n"
     ]
    },
    {
     "name": "stderr",
     "output_type": "stream",
     "text": [
      "0it [00:00, ?it/s]\n"
     ]
    },
    {
     "name": "stdout",
     "output_type": "stream",
     "text": [
      "Epoch = 18. Time index = 3. Threshold MC = 0.7. Threshold MD = 0.8\n",
      "RD = 89 NZ = 96 NZA = 115 pNZ = 0.008% pNZA = 0.010% AD = 92.71% ADA = 77.39% NO = 1 GSP = 0.00% NSP = 0.00%\n",
      "SI2 = -0.55 SI = -0.55 eGROI = 0.00% eROI = 0.00% eROI2 = 0.00% eROI3 = 0.00% mSpread = 0.0000%\n"
     ]
    },
    {
     "name": "stderr",
     "output_type": "stream",
     "text": [
      "0it [00:00, ?it/s]\n"
     ]
    },
    {
     "name": "stdout",
     "output_type": "stream",
     "text": [
      "Epoch = 18. Time index = 3. Threshold MC = 0.7. Threshold MD = 0.9\n",
      "RD = 2 NZ = 2 NZA = 2 pNZ = 0.000% pNZA = 0.000% AD = 100.00% ADA = 100.00% NO = 1 GSP = 0.00% NSP = 0.00%\n",
      "SI2 = -0.55 SI = -0.55 eGROI = 0.00% eROI = 0.00% eROI2 = 0.00% eROI3 = 0.00% mSpread = 0.0000%\n",
      "\n"
     ]
    },
    {
     "name": "stderr",
     "output_type": "stream",
     "text": [
      "100%|████████████████████████████████████████████████████████████████████████████████████████████████████████████████████████████████████| 612/612 [00:00<00:00, 3719.21it/s]\n"
     ]
    },
    {
     "name": "stdout",
     "output_type": "stream",
     "text": [
      "Epoch = 18. Time index = 3. Threshold MC = 0.8. Threshold MD = 0.5\n",
      "RD = 363 NZ = 598 NZA = 756 pNZ = 0.052% pNZA = 0.066% AD = 60.70% ADA = 48.02% NO = 347 GSP = 57.35% NSP = 51.59%\n",
      "SI2 = -7.85 SI = -11.85 eGROI = 8.34% eROI = 0.83% eROI2 = 1.40% eROI3 = -2.07% mSpread = 0.0216%\n"
     ]
    },
    {
     "name": "stderr",
     "output_type": "stream",
     "text": [
      "100%|████████████████████████████████████████████████████████████████████████████████████████████████████████████████████████████████████| 206/206 [00:00<00:00, 2717.78it/s]\n"
     ]
    },
    {
     "name": "stdout",
     "output_type": "stream",
     "text": [
      "Epoch = 18. Time index = 3. Threshold MC = 0.8. Threshold MD = 0.6\n",
      "RD = 155 NZ = 226 NZA = 285 pNZ = 0.020% pNZA = 0.025% AD = 68.58% ADA = 54.39% NO = 129 GSP = 64.34% NSP = 58.14%\n",
      "SI2 = 9.05 SI = 4.05 eGROI = 4.92% eROI = 1.95% eROI2 = 2.34% eROI3 = 1.05% mSpread = 0.0230%\n"
     ]
    },
    {
     "name": "stderr",
     "output_type": "stream",
     "text": [
      "100%|████████████████████████████████████████████████████████████████████████████████████████████████████████████████████████████████████████| 4/4 [00:00<00:00, 2003.73it/s]\n"
     ]
    },
    {
     "name": "stdout",
     "output_type": "stream",
     "text": [
      "Epoch = 18. Time index = 3. Threshold MC = 0.8. Threshold MD = 0.7\n",
      "RD = 33 NZ = 38 NZA = 54 pNZ = 0.003% pNZA = 0.005% AD = 86.84% ADA = 61.11% NO = 4 GSP = 50.00% NSP = 25.00%\n",
      "SI2 = -1.20 SI = -1.20 eGROI = 0.17% eROI = -0.06% eROI2 = 0.09% eROI3 = 0.05% mSpread = 0.0592%\n"
     ]
    },
    {
     "name": "stderr",
     "output_type": "stream",
     "text": [
      "0it [00:00, ?it/s]\n"
     ]
    },
    {
     "name": "stdout",
     "output_type": "stream",
     "text": [
      "Epoch = 18. Time index = 3. Threshold MC = 0.8. Threshold MD = 0.8\n",
      "RD = 16 NZ = 19 NZA = 21 pNZ = 0.002% pNZA = 0.002% AD = 84.21% ADA = 76.19% NO = 1 GSP = 0.00% NSP = 0.00%\n",
      "SI2 = -0.55 SI = -0.55 eGROI = 0.00% eROI = 0.00% eROI2 = 0.00% eROI3 = 0.00% mSpread = 0.0000%\n"
     ]
    },
    {
     "name": "stderr",
     "output_type": "stream",
     "text": [
      "0it [00:00, ?it/s]\n"
     ]
    },
    {
     "name": "stdout",
     "output_type": "stream",
     "text": [
      "Epoch = 18. Time index = 3. Threshold MC = 0.8. Threshold MD = 0.9\n",
      "RD = 1 NZ = 1 NZA = 1 pNZ = 0.000% pNZA = 0.000% AD = 100.00% ADA = 100.00% NO = 1 GSP = 0.00% NSP = 0.00%\n",
      "SI2 = -0.55 SI = -0.55 eGROI = 0.00% eROI = 0.00% eROI2 = 0.00% eROI3 = 0.00% mSpread = 0.0000%\n",
      "\n"
     ]
    },
    {
     "name": "stderr",
     "output_type": "stream",
     "text": [
      "0it [00:00, ?it/s]\n"
     ]
    },
    {
     "name": "stdout",
     "output_type": "stream",
     "text": [
      "Epoch = 18. Time index = 3. Threshold MC = 0.9. Threshold MD = 0.5\n",
      "RD = 0 NZ = 0 NZA = 0 pNZ = 0.000% pNZA = 0.000% AD = 0.00% ADA = 0.00% NO = 1 GSP = 0.00% NSP = 0.00%\n",
      "SI2 = -0.55 SI = -0.55 eGROI = 0.00% eROI = 0.00% eROI2 = 0.00% eROI3 = 0.00% mSpread = 0.0000%\n"
     ]
    },
    {
     "name": "stderr",
     "output_type": "stream",
     "text": [
      "0it [00:00, ?it/s]\n"
     ]
    },
    {
     "name": "stdout",
     "output_type": "stream",
     "text": [
      "Epoch = 18. Time index = 3. Threshold MC = 0.9. Threshold MD = 0.6\n",
      "RD = 0 NZ = 0 NZA = 0 pNZ = 0.000% pNZA = 0.000% AD = 0.00% ADA = 0.00% NO = 1 GSP = 0.00% NSP = 0.00%\n",
      "SI2 = -0.55 SI = -0.55 eGROI = 0.00% eROI = 0.00% eROI2 = 0.00% eROI3 = 0.00% mSpread = 0.0000%\n"
     ]
    },
    {
     "name": "stderr",
     "output_type": "stream",
     "text": [
      "0it [00:00, ?it/s]\n"
     ]
    },
    {
     "name": "stdout",
     "output_type": "stream",
     "text": [
      "Epoch = 18. Time index = 3. Threshold MC = 0.9. Threshold MD = 0.7\n",
      "RD = 0 NZ = 0 NZA = 0 pNZ = 0.000% pNZA = 0.000% AD = 0.00% ADA = 0.00% NO = 1 GSP = 0.00% NSP = 0.00%\n",
      "SI2 = -0.55 SI = -0.55 eGROI = 0.00% eROI = 0.00% eROI2 = 0.00% eROI3 = 0.00% mSpread = 0.0000%\n"
     ]
    },
    {
     "name": "stderr",
     "output_type": "stream",
     "text": [
      "0it [00:00, ?it/s]\n"
     ]
    },
    {
     "name": "stdout",
     "output_type": "stream",
     "text": [
      "Epoch = 18. Time index = 3. Threshold MC = 0.9. Threshold MD = 0.8\n",
      "RD = 0 NZ = 0 NZA = 0 pNZ = 0.000% pNZA = 0.000% AD = 0.00% ADA = 0.00% NO = 1 GSP = 0.00% NSP = 0.00%\n",
      "SI2 = -0.55 SI = -0.55 eGROI = 0.00% eROI = 0.00% eROI2 = 0.00% eROI3 = 0.00% mSpread = 0.0000%\n"
     ]
    },
    {
     "name": "stderr",
     "output_type": "stream",
     "text": [
      "0it [00:00, ?it/s]\n"
     ]
    },
    {
     "name": "stdout",
     "output_type": "stream",
     "text": [
      "Epoch = 18. Time index = 3. Threshold MC = 0.9. Threshold MD = 0.9\n",
      "RD = 0 NZ = 0 NZA = 0 pNZ = 0.000% pNZA = 0.000% AD = 0.00% ADA = 0.00% NO = 1 GSP = 0.00% NSP = 0.00%\n",
      "SI2 = -0.55 SI = -0.55 eGROI = 0.00% eROI = 0.00% eROI2 = 0.00% eROI3 = 0.00% mSpread = 0.0000%\n",
      "\n",
      "Best eGROI = 43.05 t_index 2 thr_mc 0.5 thr_md 0.6 epoch 18 in 2768\n",
      "Best eROI = 1.95 t_index 3 thr_mc 0.8 thr_md 0.6 epoch 18 in 129\n",
      "Best eROI.5 = 29.21 t_index 2 thr_mc 0.5 thr_md 0.6 epoch 18 in 2768\n",
      "Best eROI1 = 15.86 t_index 1 thr_mc 0.5 thr_md 0.6 epoch 18 in 2626\n",
      "Best eROI1.5 = 3.39 t_index 3 thr_mc 0.7 thr_md 0.6 epoch 18 in 820\n",
      "Best eROI2 = 2.34 t_index 3 thr_mc 0.8 thr_md 0.6 epoch 18 in 129\n",
      "Best eROI3 = 1.05 t_index 3 thr_mc 0.8 thr_md 0.6 epoch 18 in 129\n",
      "Best eROI4 = 0.15 t_index 2 thr_mc 0.8 thr_md 0.7 epoch 18 in 1\n",
      "Best eROI5 = 0.14 t_index 2 thr_mc 0.8 thr_md 0.7 epoch 18 in 1\n",
      "Best SI = 4.05 t_index 3 thr_mc 0.8 thr_md 0.6 epoch 18 in 129\n",
      "Best SI.5 = 131.70 t_index 1 thr_mc 0.5 thr_md 0.6 epoch 18 in 2626\n",
      "Best SI1 = 55.85 t_index 2 thr_mc 0.6 thr_md 0.6 epoch 18 in 2233\n",
      "Best SI1.5 = 18.00 t_index 3 thr_mc 0.7 thr_md 0.6 epoch 18 in 820\n",
      "Best SI2 = 9.05 t_index 3 thr_mc 0.8 thr_md 0.6 epoch 18 in 129\n",
      "Best SI3 = 5.05 t_index 3 thr_mc 0.8 thr_md 0.6 epoch 18 in 129\n",
      "Best SI4 = 0.05 t_index 3 thr_mc 0.8 thr_md 0.6 epoch 18 in 129\n",
      "Best SI5 = -0.55 t_index 0 thr_mc 0.5 thr_md 0.5 epoch 18 in 1\n",
      "\n",
      "The very best:\n",
      "Best eGROI = 43.05 t_index 2 thr_mc 0.5 thr_md 0.6 epoch 18 in 2768\n",
      "Best eROI = 3.37 t_index 3 thr_mc 0.8 thr_md 0.5 epoch 8 in 141\n",
      "Best eROI.5 = 29.21 t_index 2 thr_mc 0.5 thr_md 0.6 epoch 18 in 2768\n",
      "Best eROI1 = 15.86 t_index 1 thr_mc 0.5 thr_md 0.6 epoch 18 in 2626\n",
      "Best eROI1.5 = 5.80 t_index 3 thr_mc 0.6 thr_md 0.6 epoch 11 in 1839\n",
      "Best eROI2 = 3.16 t_index 3 thr_mc 0.8 thr_md 0.5 epoch 8 in 141\n",
      "Best eROI3 = 1.75 t_index 3 thr_mc 0.8 thr_md 0.5 epoch 8 in 141\n",
      "Best eROI4 = 0.50 t_index 3 thr_mc 0.8 thr_md 0.6 epoch 10 in 14\n",
      "Best eROI5 = 0.36 t_index 3 thr_mc 0.8 thr_md 0.6 epoch 10 in 14\n",
      "Best SI = 4.45 t_index 3 thr_mc 0.8 thr_md 0.5 epoch 8 in 141\n",
      "Best SI.5 = 131.70 t_index 1 thr_mc 0.5 thr_md 0.6 epoch 18 in 2626\n",
      "Best SI1 = 73.85 t_index 0 thr_mc 0.5 thr_md 0.6 epoch 14 in 1933\n",
      "Best SI1.5 = 19.75 t_index 3 thr_mc 0.7 thr_md 0.6 epoch 17 in 775\n",
      "Best SI2 = 9.05 t_index 3 thr_mc 0.8 thr_md 0.6 epoch 18 in 129\n",
      "Best SI3 = 5.05 t_index 3 thr_mc 0.8 thr_md 0.6 epoch 18 in 129\n",
      "Best SI4 = 1.95 t_index 3 thr_mc 0.8 thr_md 0.6 epoch 13 in 51\n",
      "Best SI5 = 1.05 t_index 0 thr_mc 0.5 thr_md 0.7 epoch 13 in 9\n",
      "Time=85.71 secs\n",
      "INFO:tensorflow:Restoring parameters from ../../RNN/weights/000520/000019/000019\n",
      "Parameters loaded. Epoch 19\n",
      "Epoch 19 of 34. Getting output...\n"
     ]
    },
    {
     "name": "stderr",
     "output_type": "stream",
     "text": [
      "100%|████████████████████████████████████████████████████████████████████████████████████████████████████████████████████████████████████████| 23/23 [01:38<00:00,  4.25s/it]\n"
     ]
    },
    {
     "name": "stdout",
     "output_type": "stream",
     "text": [
      "Getting results\n",
      "Epoch 19, J_train = 6.501199959101328, J_test = 6.3302751002104385\n"
     ]
    },
    {
     "name": "stderr",
     "output_type": "stream",
     "text": [
      "0it [00:00, ?it/s]\n"
     ]
    },
    {
     "name": "stdout",
     "output_type": "stream",
     "text": [
      "Epoch = 19. Time index = 0. Threshold MC = 0.5. Threshold MD = 0.5\n",
      "J_test = 6.3302751002104385, J_train = 6.501199959101328, Accuracy=0.5498022604034184\n",
      "RD = 262266 NZ = 504089 NZA = 956901 pNZ = 43.882% pNZA = 83.301% AD = 52.03% ADA = 27.41% NO = 1 GSP = 0.00% NSP = 0.00%\n",
      "SI2 = -0.55 SI = -0.55 eGROI = 0.00% eROI = 0.00% eROI2 = 0.00% eROI3 = 0.00% mSpread = 0.0000%\n"
     ]
    },
    {
     "name": "stderr",
     "output_type": "stream",
     "text": [
      "100%|████████████████████████████████████████████████████████████████████████████████████████████████████████████████████████████████| 10774/10774 [00:02<00:00, 4908.08it/s]\n"
     ]
    },
    {
     "name": "stdout",
     "output_type": "stream",
     "text": [
      "Epoch = 19. Time index = 0. Threshold MC = 0.5. Threshold MD = 0.6\n",
      "RD = 8806 NZ = 13521 NZA = 27856 pNZ = 1.177% pNZA = 2.425% AD = 65.13% ADA = 31.61% NO = 2356 GSP = 62.69% NSP = 43.51%\n",
      "SI2 = -81.80 SI = -270.80 eGROI = 34.73% eROI = -38.67% eROI2 = -12.39% eROI3 = -35.95% mSpread = 0.0312%\n"
     ]
    },
    {
     "name": "stderr",
     "output_type": "stream",
     "text": [
      "100%|████████████████████████████████████████████████████████████████████████████████████████████████████████████████████████████████████| 379/379 [00:00<00:00, 3689.37it/s]\n"
     ]
    },
    {
     "name": "stdout",
     "output_type": "stream",
     "text": [
      "Epoch = 19. Time index = 0. Threshold MC = 0.5. Threshold MD = 0.7\n",
      "RD = 1087 NZ = 1368 NZA = 2710 pNZ = 0.119% pNZA = 0.236% AD = 79.46% ADA = 40.11% NO = 194 GSP = 67.53% NSP = 36.08%\n",
      "SI2 = -7.70 SI = -36.70 eGROI = 3.35% eROI = -4.12% eROI2 = -0.53% eROI3 = -2.47% mSpread = 0.0385%\n"
     ]
    },
    {
     "name": "stderr",
     "output_type": "stream",
     "text": [
      "0it [00:00, ?it/s]\n"
     ]
    },
    {
     "name": "stdout",
     "output_type": "stream",
     "text": [
      "Epoch = 19. Time index = 0. Threshold MC = 0.5. Threshold MD = 0.8\n",
      "RD = 120 NZ = 126 NZA = 202 pNZ = 0.011% pNZA = 0.018% AD = 95.24% ADA = 59.41% NO = 1 GSP = 0.00% NSP = 0.00%\n",
      "SI2 = -0.55 SI = -0.55 eGROI = 0.00% eROI = 0.00% eROI2 = 0.00% eROI3 = 0.00% mSpread = 0.0000%\n"
     ]
    },
    {
     "name": "stderr",
     "output_type": "stream",
     "text": [
      "0it [00:00, ?it/s]\n"
     ]
    },
    {
     "name": "stdout",
     "output_type": "stream",
     "text": [
      "Epoch = 19. Time index = 0. Threshold MC = 0.5. Threshold MD = 0.9\n",
      "RD = 0 NZ = 0 NZA = 0 pNZ = 0.000% pNZA = 0.000% AD = 0.00% ADA = 0.00% NO = 1 GSP = 0.00% NSP = 0.00%\n",
      "SI2 = -0.55 SI = -0.55 eGROI = 0.00% eROI = 0.00% eROI2 = 0.00% eROI3 = 0.00% mSpread = 0.0000%\n",
      "\n"
     ]
    },
    {
     "name": "stderr",
     "output_type": "stream",
     "text": [
      "0it [00:00, ?it/s]\n"
     ]
    },
    {
     "name": "stdout",
     "output_type": "stream",
     "text": [
      "Epoch = 19. Time index = 0. Threshold MC = 0.6. Threshold MD = 0.5\n",
      "RD = 86875 NZ = 163798 NZA = 269503 pNZ = 14.259% pNZA = 23.461% AD = 53.04% ADA = 32.24% NO = 1 GSP = 0.00% NSP = 0.00%\n",
      "SI2 = -0.55 SI = -0.55 eGROI = 0.00% eROI = 0.00% eROI2 = 0.00% eROI3 = 0.00% mSpread = 0.0000%\n"
     ]
    },
    {
     "name": "stderr",
     "output_type": "stream",
     "text": [
      "100%|██████████████████████████████████████████████████████████████████████████████████████████████████████████████████████████████████| 5338/5338 [00:01<00:00, 3949.97it/s]\n"
     ]
    },
    {
     "name": "stdout",
     "output_type": "stream",
     "text": [
      "Epoch = 19. Time index = 0. Threshold MC = 0.6. Threshold MD = 0.6\n",
      "RD = 4106 NZ = 6289 NZA = 10720 pNZ = 0.547% pNZA = 0.933% AD = 65.29% ADA = 38.30% NO = 1474 GSP = 63.64% NSP = 48.03%\n",
      "SI2 = -34.70 SI = -102.70 eGROI = 22.08% eROI = -19.17% eROI2 = -7.40% eROI3 = -22.14% mSpread = 0.0280%\n"
     ]
    },
    {
     "name": "stderr",
     "output_type": "stream",
     "text": [
      "100%|████████████████████████████████████████████████████████████████████████████████████████████████████████████████████████████████████| 255/255 [00:00<00:00, 3277.28it/s]\n"
     ]
    },
    {
     "name": "stdout",
     "output_type": "stream",
     "text": [
      "Epoch = 19. Time index = 0. Threshold MC = 0.6. Threshold MD = 0.7\n",
      "RD = 572 NZ = 709 NZA = 1200 pNZ = 0.062% pNZA = 0.104% AD = 80.68% ADA = 47.67% NO = 122 GSP = 63.11% NSP = 37.70%\n",
      "SI2 = -4.10 SI = -21.10 eGROI = 1.48% eROI = -3.17% eROI2 = -0.96% eROI3 = -2.18% mSpread = 0.0381%\n"
     ]
    },
    {
     "name": "stderr",
     "output_type": "stream",
     "text": [
      "0it [00:00, ?it/s]\n"
     ]
    },
    {
     "name": "stdout",
     "output_type": "stream",
     "text": [
      "Epoch = 19. Time index = 0. Threshold MC = 0.6. Threshold MD = 0.8\n",
      "RD = 88 NZ = 91 NZA = 125 pNZ = 0.008% pNZA = 0.011% AD = 96.70% ADA = 70.40% NO = 1 GSP = 0.00% NSP = 0.00%\n",
      "SI2 = -0.55 SI = -0.55 eGROI = 0.00% eROI = 0.00% eROI2 = 0.00% eROI3 = 0.00% mSpread = 0.0000%\n"
     ]
    },
    {
     "name": "stderr",
     "output_type": "stream",
     "text": [
      "0it [00:00, ?it/s]\n"
     ]
    },
    {
     "name": "stdout",
     "output_type": "stream",
     "text": [
      "Epoch = 19. Time index = 0. Threshold MC = 0.6. Threshold MD = 0.9\n",
      "RD = 0 NZ = 0 NZA = 0 pNZ = 0.000% pNZA = 0.000% AD = 0.00% ADA = 0.00% NO = 1 GSP = 0.00% NSP = 0.00%\n",
      "SI2 = -0.55 SI = -0.55 eGROI = 0.00% eROI = 0.00% eROI2 = 0.00% eROI3 = 0.00% mSpread = 0.0000%\n",
      "\n"
     ]
    },
    {
     "name": "stderr",
     "output_type": "stream",
     "text": [
      "100%|████████████████████████████████████████████████████████████████████████████████████████████████████████████████████████████████| 13060/13060 [00:02<00:00, 4939.49it/s]\n"
     ]
    },
    {
     "name": "stdout",
     "output_type": "stream",
     "text": [
      "Epoch = 19. Time index = 0. Threshold MC = 0.7. Threshold MD = 0.5\n",
      "RD = 9012 NZ = 16467 NZA = 23176 pNZ = 1.433% pNZA = 2.018% AD = 54.73% ADA = 38.89% NO = 2549 GSP = 52.77% NSP = 45.19%\n",
      "SI2 = -230.95 SI = -249.95 eGROI = 10.46% eROI = -39.32% eROI2 = -40.52% eROI3 = -66.01% mSpread = 0.0195%\n"
     ]
    },
    {
     "name": "stderr",
     "output_type": "stream",
     "text": [
      "100%|██████████████████████████████████████████████████████████████████████████████████████████████████████████████████████████████████| 1478/1478 [00:00<00:00, 3983.58it/s]\n"
     ]
    },
    {
     "name": "stdout",
     "output_type": "stream",
     "text": [
      "Epoch = 19. Time index = 0. Threshold MC = 0.7. Threshold MD = 0.6\n",
      "RD = 1246 NZ = 1893 NZA = 2636 pNZ = 0.165% pNZA = 0.229% AD = 65.82% ADA = 47.27% NO = 588 GSP = 62.07% NSP = 53.06%\n",
      "SI2 = -3.40 SI = -11.40 eGROI = 7.65% eROI = -4.97% eROI2 = -4.11% eROI3 = -9.99% mSpread = 0.0214%\n"
     ]
    },
    {
     "name": "stderr",
     "output_type": "stream",
     "text": [
      "100%|█████████████████████████████████████████████████████████████████████████████████████████████████████████████████████████████████████████| 2/2 [00:00<00:00, 998.76it/s]\n"
     ]
    },
    {
     "name": "stdout",
     "output_type": "stream",
     "text": [
      "Epoch = 19. Time index = 0. Threshold MC = 0.7. Threshold MD = 0.7\n",
      "RD = 136 NZ = 168 NZA = 222 pNZ = 0.015% pNZA = 0.019% AD = 80.95% ADA = 61.26% NO = 2 GSP = 50.00% NSP = 50.00%\n",
      "SI2 = -1.10 SI = -0.10 eGROI = -0.15% eROI = -0.25% eROI2 = -0.19% eROI3 = -0.21% mSpread = 0.0480%\n"
     ]
    },
    {
     "name": "stderr",
     "output_type": "stream",
     "text": [
      "0it [00:00, ?it/s]\n"
     ]
    },
    {
     "name": "stdout",
     "output_type": "stream",
     "text": [
      "Epoch = 19. Time index = 0. Threshold MC = 0.7. Threshold MD = 0.8\n",
      "RD = 30 NZ = 30 NZA = 35 pNZ = 0.003% pNZA = 0.003% AD = 100.00% ADA = 85.71% NO = 1 GSP = 0.00% NSP = 0.00%\n",
      "SI2 = -0.55 SI = -0.55 eGROI = 0.00% eROI = 0.00% eROI2 = 0.00% eROI3 = 0.00% mSpread = 0.0000%\n"
     ]
    },
    {
     "name": "stderr",
     "output_type": "stream",
     "text": [
      "0it [00:00, ?it/s]\n"
     ]
    },
    {
     "name": "stdout",
     "output_type": "stream",
     "text": [
      "Epoch = 19. Time index = 0. Threshold MC = 0.7. Threshold MD = 0.9\n",
      "RD = 0 NZ = 0 NZA = 0 pNZ = 0.000% pNZA = 0.000% AD = 0.00% ADA = 0.00% NO = 1 GSP = 0.00% NSP = 0.00%\n",
      "SI2 = -0.55 SI = -0.55 eGROI = 0.00% eROI = 0.00% eROI2 = 0.00% eROI3 = 0.00% mSpread = 0.0000%\n",
      "\n"
     ]
    },
    {
     "name": "stderr",
     "output_type": "stream",
     "text": [
      "100%|████████████████████████████████████████████████████████████████████████████████████████████████████████████████████████████████████| 654/654 [00:00<00:00, 2465.19it/s]\n"
     ]
    },
    {
     "name": "stdout",
     "output_type": "stream",
     "text": [
      "Epoch = 19. Time index = 0. Threshold MC = 0.8. Threshold MD = 0.5\n",
      "RD = 471 NZ = 772 NZA = 969 pNZ = 0.067% pNZA = 0.084% AD = 61.01% ADA = 48.61% NO = 332 GSP = 55.72% NSP = 52.11%\n",
      "SI2 = -10.60 SI = -9.60 eGROI = 7.65% eROI = 1.30% eROI2 = 1.01% eROI3 = -2.31% mSpread = 0.0191%\n"
     ]
    },
    {
     "name": "stderr",
     "output_type": "stream",
     "text": [
      "100%|████████████████████████████████████████████████████████████████████████████████████████████████████████████████████████████████████| 102/102 [00:00<00:00, 1649.56it/s]\n"
     ]
    },
    {
     "name": "stdout",
     "output_type": "stream",
     "text": [
      "Epoch = 19. Time index = 0. Threshold MC = 0.8. Threshold MD = 0.6\n",
      "RD = 108 NZ = 157 NZA = 206 pNZ = 0.014% pNZA = 0.018% AD = 68.79% ADA = 52.43% NO = 89 GSP = 65.17% NSP = 60.67%\n",
      "SI2 = 5.05 SI = 5.05 eGROI = 2.70% eROI = 1.00% eROI2 = 0.92% eROI3 = 0.03% mSpread = 0.0191%\n"
     ]
    },
    {
     "name": "stderr",
     "output_type": "stream",
     "text": [
      "0it [00:00, ?it/s]\n"
     ]
    },
    {
     "name": "stdout",
     "output_type": "stream",
     "text": [
      "Epoch = 19. Time index = 0. Threshold MC = 0.8. Threshold MD = 0.7\n",
      "RD = 13 NZ = 15 NZA = 19 pNZ = 0.001% pNZA = 0.002% AD = 86.67% ADA = 68.42% NO = 1 GSP = 0.00% NSP = 0.00%\n",
      "SI2 = -0.55 SI = -0.55 eGROI = 0.00% eROI = 0.00% eROI2 = 0.00% eROI3 = 0.00% mSpread = 0.0000%\n"
     ]
    },
    {
     "name": "stderr",
     "output_type": "stream",
     "text": [
      "0it [00:00, ?it/s]\n"
     ]
    },
    {
     "name": "stdout",
     "output_type": "stream",
     "text": [
      "Epoch = 19. Time index = 0. Threshold MC = 0.8. Threshold MD = 0.8\n",
      "RD = 0 NZ = 0 NZA = 0 pNZ = 0.000% pNZA = 0.000% AD = 0.00% ADA = 0.00% NO = 1 GSP = 0.00% NSP = 0.00%\n",
      "SI2 = -0.55 SI = -0.55 eGROI = 0.00% eROI = 0.00% eROI2 = 0.00% eROI3 = 0.00% mSpread = 0.0000%\n"
     ]
    },
    {
     "name": "stderr",
     "output_type": "stream",
     "text": [
      "0it [00:00, ?it/s]\n"
     ]
    },
    {
     "name": "stdout",
     "output_type": "stream",
     "text": [
      "Epoch = 19. Time index = 0. Threshold MC = 0.8. Threshold MD = 0.9\n",
      "RD = 0 NZ = 0 NZA = 0 pNZ = 0.000% pNZA = 0.000% AD = 0.00% ADA = 0.00% NO = 1 GSP = 0.00% NSP = 0.00%\n",
      "SI2 = -0.55 SI = -0.55 eGROI = 0.00% eROI = 0.00% eROI2 = 0.00% eROI3 = 0.00% mSpread = 0.0000%\n",
      "\n"
     ]
    },
    {
     "name": "stderr",
     "output_type": "stream",
     "text": [
      "0it [00:00, ?it/s]\n"
     ]
    },
    {
     "name": "stdout",
     "output_type": "stream",
     "text": [
      "Epoch = 19. Time index = 0. Threshold MC = 0.9. Threshold MD = 0.5\n",
      "RD = 0 NZ = 0 NZA = 0 pNZ = 0.000% pNZA = 0.000% AD = 0.00% ADA = 0.00% NO = 1 GSP = 0.00% NSP = 0.00%\n",
      "SI2 = -0.55 SI = -0.55 eGROI = 0.00% eROI = 0.00% eROI2 = 0.00% eROI3 = 0.00% mSpread = 0.0000%\n"
     ]
    },
    {
     "name": "stderr",
     "output_type": "stream",
     "text": [
      "0it [00:00, ?it/s]\n"
     ]
    },
    {
     "name": "stdout",
     "output_type": "stream",
     "text": [
      "Epoch = 19. Time index = 0. Threshold MC = 0.9. Threshold MD = 0.6\n",
      "RD = 0 NZ = 0 NZA = 0 pNZ = 0.000% pNZA = 0.000% AD = 0.00% ADA = 0.00% NO = 1 GSP = 0.00% NSP = 0.00%\n",
      "SI2 = -0.55 SI = -0.55 eGROI = 0.00% eROI = 0.00% eROI2 = 0.00% eROI3 = 0.00% mSpread = 0.0000%\n"
     ]
    },
    {
     "name": "stderr",
     "output_type": "stream",
     "text": [
      "0it [00:00, ?it/s]\n"
     ]
    },
    {
     "name": "stdout",
     "output_type": "stream",
     "text": [
      "Epoch = 19. Time index = 0. Threshold MC = 0.9. Threshold MD = 0.7\n",
      "RD = 0 NZ = 0 NZA = 0 pNZ = 0.000% pNZA = 0.000% AD = 0.00% ADA = 0.00% NO = 1 GSP = 0.00% NSP = 0.00%\n",
      "SI2 = -0.55 SI = -0.55 eGROI = 0.00% eROI = 0.00% eROI2 = 0.00% eROI3 = 0.00% mSpread = 0.0000%\n"
     ]
    },
    {
     "name": "stderr",
     "output_type": "stream",
     "text": [
      "0it [00:00, ?it/s]\n"
     ]
    },
    {
     "name": "stdout",
     "output_type": "stream",
     "text": [
      "Epoch = 19. Time index = 0. Threshold MC = 0.9. Threshold MD = 0.8\n",
      "RD = 0 NZ = 0 NZA = 0 pNZ = 0.000% pNZA = 0.000% AD = 0.00% ADA = 0.00% NO = 1 GSP = 0.00% NSP = 0.00%\n",
      "SI2 = -0.55 SI = -0.55 eGROI = 0.00% eROI = 0.00% eROI2 = 0.00% eROI3 = 0.00% mSpread = 0.0000%\n"
     ]
    },
    {
     "name": "stderr",
     "output_type": "stream",
     "text": [
      "0it [00:00, ?it/s]\n"
     ]
    },
    {
     "name": "stdout",
     "output_type": "stream",
     "text": [
      "Epoch = 19. Time index = 0. Threshold MC = 0.9. Threshold MD = 0.9\n",
      "RD = 0 NZ = 0 NZA = 0 pNZ = 0.000% pNZA = 0.000% AD = 0.00% ADA = 0.00% NO = 1 GSP = 0.00% NSP = 0.00%\n",
      "SI2 = -0.55 SI = -0.55 eGROI = 0.00% eROI = 0.00% eROI2 = 0.00% eROI3 = 0.00% mSpread = 0.0000%\n",
      "\n"
     ]
    },
    {
     "name": "stderr",
     "output_type": "stream",
     "text": [
      "0it [00:00, ?it/s]\n"
     ]
    },
    {
     "name": "stdout",
     "output_type": "stream",
     "text": [
      "Epoch = 19. Time index = 1. Threshold MC = 0.5. Threshold MD = 0.5\n",
      "J_test = 6.3302751002104385, J_train = 6.501199959101328, Accuracy=0.5443492961375707\n",
      "RD = 265383 NZ = 510504 NZA = 975994 pNZ = 44.441% pNZA = 84.963% AD = 51.98% ADA = 27.19% NO = 1 GSP = 0.00% NSP = 0.00%\n",
      "SI2 = -0.55 SI = -0.55 eGROI = 0.00% eROI = 0.00% eROI2 = 0.00% eROI3 = 0.00% mSpread = 0.0000%\n"
     ]
    },
    {
     "name": "stderr",
     "output_type": "stream",
     "text": [
      "100%|████████████████████████████████████████████████████████████████████████████████████████████████████████████████████████████████| 14266/14266 [00:02<00:00, 5233.81it/s]\n"
     ]
    },
    {
     "name": "stdout",
     "output_type": "stream",
     "text": [
      "Epoch = 19. Time index = 1. Threshold MC = 0.5. Threshold MD = 0.6\n",
      "RD = 9867 NZ = 14984 NZA = 31282 pNZ = 1.304% pNZA = 2.723% AD = 65.85% ADA = 31.54% NO = 2713 GSP = 62.26% NSP = 43.42%\n",
      "SI2 = -108.15 SI = -314.15 eGROI = 42.42% eROI = -39.87% eROI2 = -11.84% eROI3 = -38.97% mSpread = 0.0303%\n"
     ]
    },
    {
     "name": "stderr",
     "output_type": "stream",
     "text": [
      "100%|██████████████████████████████████████████████████████████████████████████████████████████████████████████████████████████████████| 1407/1407 [00:00<00:00, 4949.33it/s]\n"
     ]
    },
    {
     "name": "stdout",
     "output_type": "stream",
     "text": [
      "Epoch = 19. Time index = 1. Threshold MC = 0.5. Threshold MD = 0.7\n",
      "RD = 1784 NZ = 2359 NZA = 5047 pNZ = 0.205% pNZA = 0.439% AD = 75.63% ADA = 35.35% NO = 402 GSP = 66.42% NSP = 41.29%\n",
      "SI2 = -2.10 SI = -55.10 eGROI = 6.59% eROI = -8.32% eROI2 = -1.45% eROI3 = -5.47% mSpread = 0.0371%\n"
     ]
    },
    {
     "name": "stderr",
     "output_type": "stream",
     "text": [
      "0it [00:00, ?it/s]\n"
     ]
    },
    {
     "name": "stdout",
     "output_type": "stream",
     "text": [
      "Epoch = 19. Time index = 1. Threshold MC = 0.5. Threshold MD = 0.8\n",
      "RD = 322 NZ = 353 NZA = 604 pNZ = 0.031% pNZA = 0.053% AD = 91.22% ADA = 53.31% NO = 1 GSP = 0.00% NSP = 0.00%\n",
      "SI2 = -0.55 SI = -0.55 eGROI = 0.00% eROI = 0.00% eROI2 = 0.00% eROI3 = 0.00% mSpread = 0.0000%\n"
     ]
    },
    {
     "name": "stderr",
     "output_type": "stream",
     "text": [
      "0it [00:00, ?it/s]\n"
     ]
    },
    {
     "name": "stdout",
     "output_type": "stream",
     "text": [
      "Epoch = 19. Time index = 1. Threshold MC = 0.5. Threshold MD = 0.9\n",
      "RD = 4 NZ = 4 NZA = 5 pNZ = 0.000% pNZA = 0.000% AD = 100.00% ADA = 80.00% NO = 1 GSP = 0.00% NSP = 0.00%\n",
      "SI2 = -0.55 SI = -0.55 eGROI = 0.00% eROI = 0.00% eROI2 = 0.00% eROI3 = 0.00% mSpread = 0.0000%\n",
      "\n"
     ]
    },
    {
     "name": "stderr",
     "output_type": "stream",
     "text": [
      "0it [00:00, ?it/s]\n"
     ]
    },
    {
     "name": "stdout",
     "output_type": "stream",
     "text": [
      "Epoch = 19. Time index = 1. Threshold MC = 0.6. Threshold MD = 0.5\n",
      "RD = 86099 NZ = 162608 NZA = 268913 pNZ = 14.155% pNZA = 23.410% AD = 52.95% ADA = 32.02% NO = 1 GSP = 0.00% NSP = 0.00%\n",
      "SI2 = -0.55 SI = -0.55 eGROI = 0.00% eROI = 0.00% eROI2 = 0.00% eROI3 = 0.00% mSpread = 0.0000%\n"
     ]
    },
    {
     "name": "stderr",
     "output_type": "stream",
     "text": [
      "100%|██████████████████████████████████████████████████████████████████████████████████████████████████████████████████████████████████| 8721/8721 [00:01<00:00, 5125.57it/s]\n"
     ]
    },
    {
     "name": "stdout",
     "output_type": "stream",
     "text": [
      "Epoch = 19. Time index = 1. Threshold MC = 0.6. Threshold MD = 0.6\n",
      "RD = 5189 NZ = 7805 NZA = 13591 pNZ = 0.679% pNZA = 1.183% AD = 66.48% ADA = 38.18% NO = 1995 GSP = 62.16% NSP = 45.76%\n",
      "SI2 = -68.25 SI = -184.25 eGROI = 29.74% eROI = -26.43% eROI2 = -10.16% eROI3 = -30.11% mSpread = 0.0282%\n"
     ]
    },
    {
     "name": "stderr",
     "output_type": "stream",
     "text": [
      "100%|██████████████████████████████████████████████████████████████████████████████████████████████████████████████████████████████████| 1207/1207 [00:00<00:00, 3817.70it/s]\n"
     ]
    },
    {
     "name": "stdout",
     "output_type": "stream",
     "text": [
      "Epoch = 19. Time index = 1. Threshold MC = 0.6. Threshold MD = 0.7\n",
      "RD = 1021 NZ = 1344 NZA = 2513 pNZ = 0.117% pNZA = 0.219% AD = 75.97% ADA = 40.63% NO = 340 GSP = 67.06% NSP = 42.35%\n",
      "SI2 = -7.00 SI = -43.00 eGROI = 5.69% eROI = -6.61% eROI2 = -1.11% eROI3 = -4.51% mSpread = 0.0362%\n"
     ]
    },
    {
     "name": "stderr",
     "output_type": "stream",
     "text": [
      "0it [00:00, ?it/s]\n"
     ]
    },
    {
     "name": "stdout",
     "output_type": "stream",
     "text": [
      "Epoch = 19. Time index = 1. Threshold MC = 0.6. Threshold MD = 0.8\n",
      "RD = 239 NZ = 259 NZA = 388 pNZ = 0.023% pNZA = 0.034% AD = 92.28% ADA = 61.60% NO = 1 GSP = 0.00% NSP = 0.00%\n",
      "SI2 = -0.55 SI = -0.55 eGROI = 0.00% eROI = 0.00% eROI2 = 0.00% eROI3 = 0.00% mSpread = 0.0000%\n"
     ]
    },
    {
     "name": "stderr",
     "output_type": "stream",
     "text": [
      "0it [00:00, ?it/s]\n"
     ]
    },
    {
     "name": "stdout",
     "output_type": "stream",
     "text": [
      "Epoch = 19. Time index = 1. Threshold MC = 0.6. Threshold MD = 0.9\n",
      "RD = 4 NZ = 4 NZA = 5 pNZ = 0.000% pNZA = 0.000% AD = 100.00% ADA = 80.00% NO = 1 GSP = 0.00% NSP = 0.00%\n",
      "SI2 = -0.55 SI = -0.55 eGROI = 0.00% eROI = 0.00% eROI2 = 0.00% eROI3 = 0.00% mSpread = 0.0000%\n",
      "\n"
     ]
    },
    {
     "name": "stderr",
     "output_type": "stream",
     "text": [
      "100%|██████████████████████████████████████████████████████████████████████████████████████████████████████████████████████████████████| 9541/9541 [00:01<00:00, 5262.05it/s]\n"
     ]
    },
    {
     "name": "stdout",
     "output_type": "stream",
     "text": [
      "Epoch = 19. Time index = 1. Threshold MC = 0.7. Threshold MD = 0.5\n",
      "RD = 6039 NZ = 10806 NZA = 14946 pNZ = 0.941% pNZA = 1.301% AD = 55.89% ADA = 40.41% NO = 1883 GSP = 55.18% NSP = 46.95%\n",
      "SI2 = -135.65 SI = -151.65 eGROI = 13.75% eROI = -24.93% eROI2 = -23.91% eROI3 = -42.74% mSpread = 0.0205%\n"
     ]
    },
    {
     "name": "stderr",
     "output_type": "stream",
     "text": [
      "100%|██████████████████████████████████████████████████████████████████████████████████████████████████████████████████████████████████| 2030/2030 [00:00<00:00, 3033.39it/s]\n"
     ]
    },
    {
     "name": "stdout",
     "output_type": "stream",
     "text": [
      "Epoch = 19. Time index = 1. Threshold MC = 0.7. Threshold MD = 0.6\n",
      "RD = 1362 NZ = 2085 NZA = 2927 pNZ = 0.182% pNZA = 0.255% AD = 65.32% ADA = 46.53% NO = 663 GSP = 63.95% NSP = 53.39%\n",
      "SI2 = 1.35 SI = -10.65 eGROI = 11.47% eROI = -3.60% eROI2 = -1.79% eROI3 = -8.42% mSpread = 0.0227%\n"
     ]
    },
    {
     "name": "stderr",
     "output_type": "stream",
     "text": [
      "100%|██████████████████████████████████████████████████████████████████████████████████████████████████████████████████████████████████████| 91/91 [00:00<00:00, 3649.77it/s]\n"
     ]
    },
    {
     "name": "stdout",
     "output_type": "stream",
     "text": [
      "Epoch = 19. Time index = 1. Threshold MC = 0.7. Threshold MD = 0.7\n",
      "RD = 266 NZ = 339 NZA = 464 pNZ = 0.030% pNZA = 0.040% AD = 78.47% ADA = 57.33% NO = 55 GSP = 61.82% NSP = 38.18%\n",
      "SI2 = -4.25 SI = -9.25 eGROI = 0.01% eROI = -1.83% eROI2 = -1.09% eROI3 = -1.64% mSpread = 0.0334%\n"
     ]
    },
    {
     "name": "stderr",
     "output_type": "stream",
     "text": [
      "0it [00:00, ?it/s]\n"
     ]
    },
    {
     "name": "stdout",
     "output_type": "stream",
     "text": [
      "Epoch = 19. Time index = 1. Threshold MC = 0.7. Threshold MD = 0.8\n",
      "RD = 128 NZ = 140 NZA = 171 pNZ = 0.012% pNZA = 0.015% AD = 91.43% ADA = 74.85% NO = 1 GSP = 0.00% NSP = 0.00%\n",
      "SI2 = -0.55 SI = -0.55 eGROI = 0.00% eROI = 0.00% eROI2 = 0.00% eROI3 = 0.00% mSpread = 0.0000%\n"
     ]
    },
    {
     "name": "stderr",
     "output_type": "stream",
     "text": [
      "0it [00:00, ?it/s]\n"
     ]
    },
    {
     "name": "stdout",
     "output_type": "stream",
     "text": [
      "Epoch = 19. Time index = 1. Threshold MC = 0.7. Threshold MD = 0.9\n",
      "RD = 4 NZ = 4 NZA = 5 pNZ = 0.000% pNZA = 0.000% AD = 100.00% ADA = 80.00% NO = 1 GSP = 0.00% NSP = 0.00%\n",
      "SI2 = -0.55 SI = -0.55 eGROI = 0.00% eROI = 0.00% eROI2 = 0.00% eROI3 = 0.00% mSpread = 0.0000%\n",
      "\n"
     ]
    },
    {
     "name": "stderr",
     "output_type": "stream",
     "text": [
      "100%|████████████████████████████████████████████████████████████████████████████████████████████████████████████████████████████████████| 558/558 [00:00<00:00, 3609.59it/s]\n"
     ]
    },
    {
     "name": "stdout",
     "output_type": "stream",
     "text": [
      "Epoch = 19. Time index = 1. Threshold MC = 0.8. Threshold MD = 0.5\n",
      "RD = 340 NZ = 583 NZA = 737 pNZ = 0.051% pNZA = 0.064% AD = 58.32% ADA = 46.13% NO = 304 GSP = 54.61% NSP = 49.67%\n",
      "SI2 = -15.20 SI = -16.20 eGROI = 4.40% eROI = -1.52% eROI2 = -1.68% eROI3 = -4.72% mSpread = 0.0195%\n"
     ]
    },
    {
     "name": "stderr",
     "output_type": "stream",
     "text": [
      "100%|████████████████████████████████████████████████████████████████████████████████████████████████████████████████████████████████████| 149/149 [00:00<00:00, 2074.97it/s]\n"
     ]
    },
    {
     "name": "stdout",
     "output_type": "stream",
     "text": [
      "Epoch = 19. Time index = 1. Threshold MC = 0.8. Threshold MD = 0.6\n",
      "RD = 131 NZ = 191 NZA = 248 pNZ = 0.017% pNZA = 0.022% AD = 68.59% ADA = 52.82% NO = 101 GSP = 59.41% NSP = 56.44%\n",
      "SI2 = 1.45 SI = 1.45 eGROI = 2.85% eROI = 1.00% eROI2 = 0.83% eROI3 = -0.18% mSpread = 0.0183%\n"
     ]
    },
    {
     "name": "stderr",
     "output_type": "stream",
     "text": [
      "0it [00:00, ?it/s]\n"
     ]
    },
    {
     "name": "stdout",
     "output_type": "stream",
     "text": [
      "Epoch = 19. Time index = 1. Threshold MC = 0.8. Threshold MD = 0.7\n",
      "RD = 34 NZ = 41 NZA = 52 pNZ = 0.004% pNZA = 0.005% AD = 82.93% ADA = 65.38% NO = 1 GSP = 0.00% NSP = 0.00%\n",
      "SI2 = -0.55 SI = -0.55 eGROI = 0.00% eROI = 0.00% eROI2 = 0.00% eROI3 = 0.00% mSpread = 0.0000%\n"
     ]
    },
    {
     "name": "stderr",
     "output_type": "stream",
     "text": [
      "0it [00:00, ?it/s]\n"
     ]
    },
    {
     "name": "stdout",
     "output_type": "stream",
     "text": [
      "Epoch = 19. Time index = 1. Threshold MC = 0.8. Threshold MD = 0.8\n",
      "RD = 17 NZ = 21 NZA = 23 pNZ = 0.002% pNZA = 0.002% AD = 80.95% ADA = 73.91% NO = 1 GSP = 0.00% NSP = 0.00%\n",
      "SI2 = -0.55 SI = -0.55 eGROI = 0.00% eROI = 0.00% eROI2 = 0.00% eROI3 = 0.00% mSpread = 0.0000%\n"
     ]
    },
    {
     "name": "stderr",
     "output_type": "stream",
     "text": [
      "0it [00:00, ?it/s]\n"
     ]
    },
    {
     "name": "stdout",
     "output_type": "stream",
     "text": [
      "Epoch = 19. Time index = 1. Threshold MC = 0.8. Threshold MD = 0.9\n",
      "RD = 1 NZ = 1 NZA = 1 pNZ = 0.000% pNZA = 0.000% AD = 100.00% ADA = 100.00% NO = 1 GSP = 0.00% NSP = 0.00%\n",
      "SI2 = -0.55 SI = -0.55 eGROI = 0.00% eROI = 0.00% eROI2 = 0.00% eROI3 = 0.00% mSpread = 0.0000%\n",
      "\n"
     ]
    },
    {
     "name": "stderr",
     "output_type": "stream",
     "text": [
      "0it [00:00, ?it/s]\n"
     ]
    },
    {
     "name": "stdout",
     "output_type": "stream",
     "text": [
      "Epoch = 19. Time index = 1. Threshold MC = 0.9. Threshold MD = 0.5\n",
      "RD = 0 NZ = 0 NZA = 0 pNZ = 0.000% pNZA = 0.000% AD = 0.00% ADA = 0.00% NO = 1 GSP = 0.00% NSP = 0.00%\n",
      "SI2 = -0.55 SI = -0.55 eGROI = 0.00% eROI = 0.00% eROI2 = 0.00% eROI3 = 0.00% mSpread = 0.0000%\n"
     ]
    },
    {
     "name": "stderr",
     "output_type": "stream",
     "text": [
      "0it [00:00, ?it/s]\n"
     ]
    },
    {
     "name": "stdout",
     "output_type": "stream",
     "text": [
      "Epoch = 19. Time index = 1. Threshold MC = 0.9. Threshold MD = 0.6\n",
      "RD = 0 NZ = 0 NZA = 0 pNZ = 0.000% pNZA = 0.000% AD = 0.00% ADA = 0.00% NO = 1 GSP = 0.00% NSP = 0.00%\n",
      "SI2 = -0.55 SI = -0.55 eGROI = 0.00% eROI = 0.00% eROI2 = 0.00% eROI3 = 0.00% mSpread = 0.0000%\n"
     ]
    },
    {
     "name": "stderr",
     "output_type": "stream",
     "text": [
      "0it [00:00, ?it/s]\n"
     ]
    },
    {
     "name": "stdout",
     "output_type": "stream",
     "text": [
      "Epoch = 19. Time index = 1. Threshold MC = 0.9. Threshold MD = 0.7\n",
      "RD = 0 NZ = 0 NZA = 0 pNZ = 0.000% pNZA = 0.000% AD = 0.00% ADA = 0.00% NO = 1 GSP = 0.00% NSP = 0.00%\n",
      "SI2 = -0.55 SI = -0.55 eGROI = 0.00% eROI = 0.00% eROI2 = 0.00% eROI3 = 0.00% mSpread = 0.0000%\n"
     ]
    },
    {
     "name": "stderr",
     "output_type": "stream",
     "text": [
      "0it [00:00, ?it/s]\n"
     ]
    },
    {
     "name": "stdout",
     "output_type": "stream",
     "text": [
      "Epoch = 19. Time index = 1. Threshold MC = 0.9. Threshold MD = 0.8\n",
      "RD = 0 NZ = 0 NZA = 0 pNZ = 0.000% pNZA = 0.000% AD = 0.00% ADA = 0.00% NO = 1 GSP = 0.00% NSP = 0.00%\n",
      "SI2 = -0.55 SI = -0.55 eGROI = 0.00% eROI = 0.00% eROI2 = 0.00% eROI3 = 0.00% mSpread = 0.0000%\n"
     ]
    },
    {
     "name": "stderr",
     "output_type": "stream",
     "text": [
      "0it [00:00, ?it/s]\n"
     ]
    },
    {
     "name": "stdout",
     "output_type": "stream",
     "text": [
      "Epoch = 19. Time index = 1. Threshold MC = 0.9. Threshold MD = 0.9\n",
      "RD = 0 NZ = 0 NZA = 0 pNZ = 0.000% pNZA = 0.000% AD = 0.00% ADA = 0.00% NO = 1 GSP = 0.00% NSP = 0.00%\n",
      "SI2 = -0.55 SI = -0.55 eGROI = 0.00% eROI = 0.00% eROI2 = 0.00% eROI3 = 0.00% mSpread = 0.0000%\n",
      "\n"
     ]
    },
    {
     "name": "stderr",
     "output_type": "stream",
     "text": [
      "0it [00:00, ?it/s]\n"
     ]
    },
    {
     "name": "stdout",
     "output_type": "stream",
     "text": [
      "Epoch = 19. Time index = 2. Threshold MC = 0.5. Threshold MD = 0.5\n",
      "J_test = 6.3302751002104385, J_train = 6.501199959101328, Accuracy=0.5447984866805429\n",
      "RD = 264510 NZ = 508193 NZA = 970855 pNZ = 44.239% pNZA = 84.515% AD = 52.05% ADA = 27.25% NO = 1 GSP = 0.00% NSP = 0.00%\n",
      "SI2 = -0.55 SI = -0.55 eGROI = 0.00% eROI = 0.00% eROI2 = 0.00% eROI3 = 0.00% mSpread = 0.0000%\n"
     ]
    },
    {
     "name": "stderr",
     "output_type": "stream",
     "text": [
      "100%|████████████████████████████████████████████████████████████████████████████████████████████████████████████████████████████████| 15292/15292 [00:03<00:00, 3894.52it/s]\n"
     ]
    },
    {
     "name": "stdout",
     "output_type": "stream",
     "text": [
      "Epoch = 19. Time index = 2. Threshold MC = 0.5. Threshold MD = 0.6\n",
      "RD = 11405 NZ = 17638 NZA = 36226 pNZ = 1.535% pNZA = 3.154% AD = 64.66% ADA = 31.48% NO = 2895 GSP = 61.17% NSP = 43.87%\n",
      "SI2 = -127.25 SI = -322.25 eGROI = 44.24% eROI = -40.81% eROI2 = -13.66% eROI3 = -42.61% mSpread = 0.0294%\n"
     ]
    },
    {
     "name": "stderr",
     "output_type": "stream",
     "text": [
      "100%|██████████████████████████████████████████████████████████████████████████████████████████████████████████████████████████████████| 1746/1746 [00:00<00:00, 3218.11it/s]\n"
     ]
    },
    {
     "name": "stdout",
     "output_type": "stream",
     "text": [
      "Epoch = 19. Time index = 2. Threshold MC = 0.5. Threshold MD = 0.7\n",
      "RD = 2281 NZ = 3030 NZA = 6691 pNZ = 0.264% pNZA = 0.582% AD = 75.28% ADA = 34.09% NO = 464 GSP = 68.10% NSP = 43.53%\n",
      "SI2 = -7.20 SI = -53.20 eGROI = 9.07% eROI = -8.26% eROI2 = -0.21% eROI3 = -4.85% mSpread = 0.0373%\n"
     ]
    },
    {
     "name": "stderr",
     "output_type": "stream",
     "text": [
      "0it [00:00, ?it/s]\n"
     ]
    },
    {
     "name": "stdout",
     "output_type": "stream",
     "text": [
      "Epoch = 19. Time index = 2. Threshold MC = 0.5. Threshold MD = 0.8\n",
      "RD = 368 NZ = 421 NZA = 869 pNZ = 0.037% pNZA = 0.076% AD = 87.41% ADA = 42.35% NO = 1 GSP = 0.00% NSP = 0.00%\n",
      "SI2 = -0.55 SI = -0.55 eGROI = 0.00% eROI = 0.00% eROI2 = 0.00% eROI3 = 0.00% mSpread = 0.0000%\n"
     ]
    },
    {
     "name": "stderr",
     "output_type": "stream",
     "text": [
      "0it [00:00, ?it/s]\n"
     ]
    },
    {
     "name": "stdout",
     "output_type": "stream",
     "text": [
      "Epoch = 19. Time index = 2. Threshold MC = 0.5. Threshold MD = 0.9\n",
      "RD = 4 NZ = 4 NZA = 4 pNZ = 0.000% pNZA = 0.000% AD = 100.00% ADA = 100.00% NO = 1 GSP = 0.00% NSP = 0.00%\n",
      "SI2 = -0.55 SI = -0.55 eGROI = 0.00% eROI = 0.00% eROI2 = 0.00% eROI3 = 0.00% mSpread = 0.0000%\n",
      "\n"
     ]
    },
    {
     "name": "stderr",
     "output_type": "stream",
     "text": [
      "0it [00:00, ?it/s]\n"
     ]
    },
    {
     "name": "stdout",
     "output_type": "stream",
     "text": [
      "Epoch = 19. Time index = 2. Threshold MC = 0.6. Threshold MD = 0.5\n",
      "RD = 86057 NZ = 162217 NZA = 269047 pNZ = 14.121% pNZA = 23.421% AD = 53.05% ADA = 31.99% NO = 1 GSP = 0.00% NSP = 0.00%\n",
      "SI2 = -0.55 SI = -0.55 eGROI = 0.00% eROI = 0.00% eROI2 = 0.00% eROI3 = 0.00% mSpread = 0.0000%\n"
     ]
    },
    {
     "name": "stderr",
     "output_type": "stream",
     "text": [
      "100%|████████████████████████████████████████████████████████████████████████████████████████████████████████████████████████████████| 10925/10925 [00:04<00:00, 2632.56it/s]\n"
     ]
    },
    {
     "name": "stdout",
     "output_type": "stream",
     "text": [
      "Epoch = 19. Time index = 2. Threshold MC = 0.6. Threshold MD = 0.6\n",
      "RD = 6489 NZ = 9885 NZA = 17368 pNZ = 0.861% pNZA = 1.512% AD = 65.64% ADA = 37.36% NO = 2354 GSP = 62.06% NSP = 45.75%\n",
      "SI2 = -73.70 SI = -217.70 eGROI = 35.91% eROI = -30.91% eROI2 = -11.17% eROI3 = -34.71% mSpread = 0.0284%\n"
     ]
    },
    {
     "name": "stderr",
     "output_type": "stream",
     "text": [
      "100%|██████████████████████████████████████████████████████████████████████████████████████████████████████████████████████████████████| 1579/1579 [00:00<00:00, 2852.62it/s]\n"
     ]
    },
    {
     "name": "stdout",
     "output_type": "stream",
     "text": [
      "Epoch = 19. Time index = 2. Threshold MC = 0.6. Threshold MD = 0.7\n",
      "RD = 1251 NZ = 1667 NZA = 3196 pNZ = 0.145% pNZA = 0.278% AD = 75.04% ADA = 39.14% NO = 414 GSP = 67.39% NSP = 44.20%\n",
      "SI2 = -8.70 SI = -44.70 eGROI = 7.94% eROI = -7.20% eROI2 = -0.34% eROI3 = -4.48% mSpread = 0.0366%\n"
     ]
    },
    {
     "name": "stderr",
     "output_type": "stream",
     "text": [
      "0it [00:00, ?it/s]\n"
     ]
    },
    {
     "name": "stdout",
     "output_type": "stream",
     "text": [
      "Epoch = 19. Time index = 2. Threshold MC = 0.6. Threshold MD = 0.8\n",
      "RD = 231 NZ = 255 NZA = 401 pNZ = 0.022% pNZA = 0.035% AD = 90.59% ADA = 57.61% NO = 1 GSP = 0.00% NSP = 0.00%\n",
      "SI2 = -0.55 SI = -0.55 eGROI = 0.00% eROI = 0.00% eROI2 = 0.00% eROI3 = 0.00% mSpread = 0.0000%\n"
     ]
    },
    {
     "name": "stderr",
     "output_type": "stream",
     "text": [
      "0it [00:00, ?it/s]\n"
     ]
    },
    {
     "name": "stdout",
     "output_type": "stream",
     "text": [
      "Epoch = 19. Time index = 2. Threshold MC = 0.6. Threshold MD = 0.9\n",
      "RD = 4 NZ = 4 NZA = 4 pNZ = 0.000% pNZA = 0.000% AD = 100.00% ADA = 100.00% NO = 1 GSP = 0.00% NSP = 0.00%\n",
      "SI2 = -0.55 SI = -0.55 eGROI = 0.00% eROI = 0.00% eROI2 = 0.00% eROI3 = 0.00% mSpread = 0.0000%\n",
      "\n"
     ]
    },
    {
     "name": "stderr",
     "output_type": "stream",
     "text": [
      "100%|██████████████████████████████████████████████████████████████████████████████████████████████████████████████████████████████████| 9810/9810 [00:02<00:00, 3276.49it/s]\n"
     ]
    },
    {
     "name": "stdout",
     "output_type": "stream",
     "text": [
      "Epoch = 19. Time index = 2. Threshold MC = 0.7. Threshold MD = 0.5\n",
      "RD = 5959 NZ = 10622 NZA = 14769 pNZ = 0.925% pNZA = 1.286% AD = 56.10% ADA = 40.35% NO = 1963 GSP = 54.15% NSP = 45.70%\n",
      "SI2 = -142.65 SI = -182.65 eGROI = 11.92% eROI = -29.81% eROI2 = -27.34% eROI3 = -46.97% mSpread = 0.0213%\n"
     ]
    },
    {
     "name": "stderr",
     "output_type": "stream",
     "text": [
      "100%|██████████████████████████████████████████████████████████████████████████████████████████████████████████████████████████████████| 2754/2754 [00:00<00:00, 3824.56it/s]\n"
     ]
    },
    {
     "name": "stdout",
     "output_type": "stream",
     "text": [
      "Epoch = 19. Time index = 2. Threshold MC = 0.7. Threshold MD = 0.6\n",
      "RD = 1689 NZ = 2596 NZA = 3693 pNZ = 0.226% pNZA = 0.321% AD = 65.06% ADA = 45.74% NO = 816 GSP = 62.62% NSP = 51.96%\n",
      "SI2 = 1.20 SI = -24.80 eGROI = 13.06% eROI = -5.75% eROI2 = -3.26% eROI3 = -11.42% mSpread = 0.0230%\n"
     ]
    },
    {
     "name": "stderr",
     "output_type": "stream",
     "text": [
      "100%|████████████████████████████████████████████████████████████████████████████████████████████████████████████████████████████████████| 201/201 [00:00<00:00, 2239.30it/s]\n"
     ]
    },
    {
     "name": "stdout",
     "output_type": "stream",
     "text": [
      "Epoch = 19. Time index = 2. Threshold MC = 0.7. Threshold MD = 0.7\n",
      "RD = 322 NZ = 430 NZA = 628 pNZ = 0.037% pNZA = 0.055% AD = 74.88% ADA = 51.27% NO = 99 GSP = 57.58% NSP = 36.36%\n",
      "SI2 = -9.45 SI = -18.45 eGROI = 0.42% eROI = -2.65% eROI2 = -1.56% eROI3 = -2.55% mSpread = 0.0310%\n"
     ]
    },
    {
     "name": "stderr",
     "output_type": "stream",
     "text": [
      "0it [00:00, ?it/s]\n"
     ]
    },
    {
     "name": "stdout",
     "output_type": "stream",
     "text": [
      "Epoch = 19. Time index = 2. Threshold MC = 0.7. Threshold MD = 0.8\n",
      "RD = 114 NZ = 127 NZA = 162 pNZ = 0.011% pNZA = 0.014% AD = 89.76% ADA = 70.37% NO = 1 GSP = 0.00% NSP = 0.00%\n",
      "SI2 = -0.55 SI = -0.55 eGROI = 0.00% eROI = 0.00% eROI2 = 0.00% eROI3 = 0.00% mSpread = 0.0000%\n"
     ]
    },
    {
     "name": "stderr",
     "output_type": "stream",
     "text": [
      "0it [00:00, ?it/s]\n"
     ]
    },
    {
     "name": "stdout",
     "output_type": "stream",
     "text": [
      "Epoch = 19. Time index = 2. Threshold MC = 0.7. Threshold MD = 0.9\n",
      "RD = 3 NZ = 3 NZA = 3 pNZ = 0.000% pNZA = 0.000% AD = 100.00% ADA = 100.00% NO = 1 GSP = 0.00% NSP = 0.00%\n",
      "SI2 = -0.55 SI = -0.55 eGROI = 0.00% eROI = 0.00% eROI2 = 0.00% eROI3 = 0.00% mSpread = 0.0000%\n",
      "\n"
     ]
    },
    {
     "name": "stderr",
     "output_type": "stream",
     "text": [
      "100%|████████████████████████████████████████████████████████████████████████████████████████████████████████████████████████████████████| 700/700 [00:00<00:00, 3457.46it/s]\n"
     ]
    },
    {
     "name": "stdout",
     "output_type": "stream",
     "text": [
      "Epoch = 19. Time index = 2. Threshold MC = 0.8. Threshold MD = 0.5\n",
      "RD = 407 NZ = 691 NZA = 874 pNZ = 0.060% pNZA = 0.076% AD = 58.90% ADA = 46.57% NO = 374 GSP = 55.35% NSP = 50.53%\n",
      "SI2 = -13.70 SI = -16.70 eGROI = 7.48% eROI = -0.59% eROI2 = 0.00% eROI3 = -3.74% mSpread = 0.0216%\n"
     ]
    },
    {
     "name": "stderr",
     "output_type": "stream",
     "text": [
      "100%|████████████████████████████████████████████████████████████████████████████████████████████████████████████████████████████████████| 251/251 [00:00<00:00, 2735.54it/s]\n"
     ]
    },
    {
     "name": "stdout",
     "output_type": "stream",
     "text": [
      "Epoch = 19. Time index = 2. Threshold MC = 0.8. Threshold MD = 0.6\n",
      "RD = 182 NZ = 277 NZA = 348 pNZ = 0.024% pNZA = 0.030% AD = 65.70% ADA = 52.30% NO = 144 GSP = 61.81% NSP = 57.64%\n",
      "SI2 = 6.80 SI = 3.80 eGROI = 3.81% eROI = 0.71% eROI2 = 0.93% eROI3 = -0.51% mSpread = 0.0215%\n"
     ]
    },
    {
     "name": "stderr",
     "output_type": "stream",
     "text": [
      "0it [00:00, ?it/s]\n"
     ]
    },
    {
     "name": "stdout",
     "output_type": "stream",
     "text": [
      "Epoch = 19. Time index = 2. Threshold MC = 0.8. Threshold MD = 0.7\n",
      "RD = 39 NZ = 49 NZA = 65 pNZ = 0.004% pNZA = 0.006% AD = 79.59% ADA = 60.00% NO = 1 GSP = 100.00% NSP = 100.00%\n",
      "SI2 = -0.55 SI = 0.45 eGROI = 0.19% eROI = 0.13% eROI2 = 0.17% eROI3 = 0.16% mSpread = 0.0555%\n"
     ]
    },
    {
     "name": "stderr",
     "output_type": "stream",
     "text": [
      "0it [00:00, ?it/s]\n"
     ]
    },
    {
     "name": "stdout",
     "output_type": "stream",
     "text": [
      "Epoch = 19. Time index = 2. Threshold MC = 0.8. Threshold MD = 0.8\n",
      "RD = 18 NZ = 22 NZA = 26 pNZ = 0.002% pNZA = 0.002% AD = 81.82% ADA = 69.23% NO = 1 GSP = 0.00% NSP = 0.00%\n",
      "SI2 = -0.55 SI = -0.55 eGROI = 0.00% eROI = 0.00% eROI2 = 0.00% eROI3 = 0.00% mSpread = 0.0000%\n"
     ]
    },
    {
     "name": "stderr",
     "output_type": "stream",
     "text": [
      "0it [00:00, ?it/s]\n"
     ]
    },
    {
     "name": "stdout",
     "output_type": "stream",
     "text": [
      "Epoch = 19. Time index = 2. Threshold MC = 0.8. Threshold MD = 0.9\n",
      "RD = 1 NZ = 1 NZA = 1 pNZ = 0.000% pNZA = 0.000% AD = 100.00% ADA = 100.00% NO = 1 GSP = 0.00% NSP = 0.00%\n",
      "SI2 = -0.55 SI = -0.55 eGROI = 0.00% eROI = 0.00% eROI2 = 0.00% eROI3 = 0.00% mSpread = 0.0000%\n",
      "\n"
     ]
    },
    {
     "name": "stderr",
     "output_type": "stream",
     "text": [
      "0it [00:00, ?it/s]\n"
     ]
    },
    {
     "name": "stdout",
     "output_type": "stream",
     "text": [
      "Epoch = 19. Time index = 2. Threshold MC = 0.9. Threshold MD = 0.5\n",
      "RD = 0 NZ = 0 NZA = 0 pNZ = 0.000% pNZA = 0.000% AD = 0.00% ADA = 0.00% NO = 1 GSP = 0.00% NSP = 0.00%\n",
      "SI2 = -0.55 SI = -0.55 eGROI = 0.00% eROI = 0.00% eROI2 = 0.00% eROI3 = 0.00% mSpread = 0.0000%\n"
     ]
    },
    {
     "name": "stderr",
     "output_type": "stream",
     "text": [
      "0it [00:00, ?it/s]\n"
     ]
    },
    {
     "name": "stdout",
     "output_type": "stream",
     "text": [
      "Epoch = 19. Time index = 2. Threshold MC = 0.9. Threshold MD = 0.6\n",
      "RD = 0 NZ = 0 NZA = 0 pNZ = 0.000% pNZA = 0.000% AD = 0.00% ADA = 0.00% NO = 1 GSP = 0.00% NSP = 0.00%\n",
      "SI2 = -0.55 SI = -0.55 eGROI = 0.00% eROI = 0.00% eROI2 = 0.00% eROI3 = 0.00% mSpread = 0.0000%\n"
     ]
    },
    {
     "name": "stderr",
     "output_type": "stream",
     "text": [
      "0it [00:00, ?it/s]\n"
     ]
    },
    {
     "name": "stdout",
     "output_type": "stream",
     "text": [
      "Epoch = 19. Time index = 2. Threshold MC = 0.9. Threshold MD = 0.7\n",
      "RD = 0 NZ = 0 NZA = 0 pNZ = 0.000% pNZA = 0.000% AD = 0.00% ADA = 0.00% NO = 1 GSP = 0.00% NSP = 0.00%\n",
      "SI2 = -0.55 SI = -0.55 eGROI = 0.00% eROI = 0.00% eROI2 = 0.00% eROI3 = 0.00% mSpread = 0.0000%\n"
     ]
    },
    {
     "name": "stderr",
     "output_type": "stream",
     "text": [
      "0it [00:00, ?it/s]\n"
     ]
    },
    {
     "name": "stdout",
     "output_type": "stream",
     "text": [
      "Epoch = 19. Time index = 2. Threshold MC = 0.9. Threshold MD = 0.8\n",
      "RD = 0 NZ = 0 NZA = 0 pNZ = 0.000% pNZA = 0.000% AD = 0.00% ADA = 0.00% NO = 1 GSP = 0.00% NSP = 0.00%\n",
      "SI2 = -0.55 SI = -0.55 eGROI = 0.00% eROI = 0.00% eROI2 = 0.00% eROI3 = 0.00% mSpread = 0.0000%\n"
     ]
    },
    {
     "name": "stderr",
     "output_type": "stream",
     "text": [
      "0it [00:00, ?it/s]\n"
     ]
    },
    {
     "name": "stdout",
     "output_type": "stream",
     "text": [
      "Epoch = 19. Time index = 2. Threshold MC = 0.9. Threshold MD = 0.9\n",
      "RD = 0 NZ = 0 NZA = 0 pNZ = 0.000% pNZA = 0.000% AD = 0.00% ADA = 0.00% NO = 1 GSP = 0.00% NSP = 0.00%\n",
      "SI2 = -0.55 SI = -0.55 eGROI = 0.00% eROI = 0.00% eROI2 = 0.00% eROI3 = 0.00% mSpread = 0.0000%\n",
      "\n"
     ]
    },
    {
     "name": "stderr",
     "output_type": "stream",
     "text": [
      "0it [00:00, ?it/s]\n"
     ]
    },
    {
     "name": "stdout",
     "output_type": "stream",
     "text": [
      "Epoch = 19. Time index = 3. Threshold MC = 0.5. Threshold MD = 0.5\n",
      "J_test = 6.3302751002104385, J_train = 6.501199959101328, Accuracy=0.5444885800268644\n",
      "RD = 263941 NZ = 506815 NZA = 968456 pNZ = 44.119% pNZA = 84.306% AD = 52.08% ADA = 27.25% NO = 1 GSP = 0.00% NSP = 0.00%\n",
      "SI2 = -0.55 SI = -0.55 eGROI = 0.00% eROI = 0.00% eROI2 = 0.00% eROI3 = 0.00% mSpread = 0.0000%\n"
     ]
    },
    {
     "name": "stderr",
     "output_type": "stream",
     "text": [
      "100%|████████████████████████████████████████████████████████████████████████████████████████████████████████████████████████████████| 15869/15869 [00:03<00:00, 4157.58it/s]\n"
     ]
    },
    {
     "name": "stdout",
     "output_type": "stream",
     "text": [
      "Epoch = 19. Time index = 3. Threshold MC = 0.5. Threshold MD = 0.6\n",
      "RD = 11582 NZ = 18194 NZA = 36661 pNZ = 1.584% pNZA = 3.191% AD = 63.66% ADA = 31.59% NO = 3014 GSP = 59.92% NSP = 44.06%\n",
      "SI2 = -145.70 SI = -329.70 eGROI = 42.12% eROI = -45.00% eROI2 = -18.16% eROI3 = -48.30% mSpread = 0.0289%\n"
     ]
    },
    {
     "name": "stderr",
     "output_type": "stream",
     "text": [
      "100%|██████████████████████████████████████████████████████████████████████████████████████████████████████████████████████████████████| 1837/1837 [00:00<00:00, 4686.75it/s]\n"
     ]
    },
    {
     "name": "stdout",
     "output_type": "stream",
     "text": [
      "Epoch = 19. Time index = 3. Threshold MC = 0.5. Threshold MD = 0.7\n",
      "RD = 2192 NZ = 2922 NZA = 6266 pNZ = 0.254% pNZA = 0.545% AD = 75.02% ADA = 34.98% NO = 488 GSP = 67.21% NSP = 40.78%\n",
      "SI2 = -8.40 SI = -69.40 eGROI = 8.34% eROI = -9.94% eROI2 = -1.42% eROI3 = -6.30% mSpread = 0.0375%\n"
     ]
    },
    {
     "name": "stderr",
     "output_type": "stream",
     "text": [
      "100%|██████████████████████████████████████████████████████████████████████████████████████████████████████████████████████████████████████| 45/45 [00:00<00:00, 4101.79it/s]\n"
     ]
    },
    {
     "name": "stdout",
     "output_type": "stream",
     "text": [
      "Epoch = 19. Time index = 3. Threshold MC = 0.5. Threshold MD = 0.8\n",
      "RD = 321 NZ = 370 NZA = 820 pNZ = 0.032% pNZA = 0.071% AD = 86.76% ADA = 39.15% NO = 17 GSP = 41.18% NSP = 23.53%\n",
      "SI2 = -4.35 SI = -5.35 eGROI = 0.01% eROI = -0.67% eROI2 = -0.33% eROI3 = -0.50% mSpread = 0.0404%\n"
     ]
    },
    {
     "name": "stderr",
     "output_type": "stream",
     "text": [
      "0it [00:00, ?it/s]\n"
     ]
    },
    {
     "name": "stdout",
     "output_type": "stream",
     "text": [
      "Epoch = 19. Time index = 3. Threshold MC = 0.5. Threshold MD = 0.9\n",
      "RD = 3 NZ = 3 NZA = 4 pNZ = 0.000% pNZA = 0.000% AD = 100.00% ADA = 75.00% NO = 1 GSP = 0.00% NSP = 0.00%\n",
      "SI2 = -0.55 SI = -0.55 eGROI = 0.00% eROI = 0.00% eROI2 = 0.00% eROI3 = 0.00% mSpread = 0.0000%\n",
      "\n"
     ]
    },
    {
     "name": "stderr",
     "output_type": "stream",
     "text": [
      "0it [00:00, ?it/s]\n"
     ]
    },
    {
     "name": "stdout",
     "output_type": "stream",
     "text": [
      "Epoch = 19. Time index = 3. Threshold MC = 0.6. Threshold MD = 0.5\n",
      "RD = 86280 NZ = 162659 NZA = 270674 pNZ = 14.160% pNZA = 23.563% AD = 53.04% ADA = 31.88% NO = 1 GSP = 0.00% NSP = 0.00%\n",
      "SI2 = -0.55 SI = -0.55 eGROI = 0.00% eROI = 0.00% eROI2 = 0.00% eROI3 = 0.00% mSpread = 0.0000%\n"
     ]
    },
    {
     "name": "stderr",
     "output_type": "stream",
     "text": [
      "100%|████████████████████████████████████████████████████████████████████████████████████████████████████████████████████████████████| 11696/11696 [00:02<00:00, 4728.62it/s]\n"
     ]
    },
    {
     "name": "stdout",
     "output_type": "stream",
     "text": [
      "Epoch = 19. Time index = 3. Threshold MC = 0.6. Threshold MD = 0.6\n",
      "RD = 6847 NZ = 10570 NZA = 18536 pNZ = 0.920% pNZA = 1.614% AD = 64.78% ADA = 36.94% NO = 2491 GSP = 61.18% NSP = 45.93%\n",
      "SI2 = -84.05 SI = -226.05 eGROI = 37.53% eROI = -33.00% eROI2 = -12.29% eROI3 = -37.20% mSpread = 0.0283%\n"
     ]
    },
    {
     "name": "stderr",
     "output_type": "stream",
     "text": [
      "100%|██████████████████████████████████████████████████████████████████████████████████████████████████████████████████████████████████| 1629/1629 [00:00<00:00, 4575.14it/s]\n"
     ]
    },
    {
     "name": "stdout",
     "output_type": "stream",
     "text": [
      "Epoch = 19. Time index = 3. Threshold MC = 0.6. Threshold MD = 0.7\n",
      "RD = 1265 NZ = 1715 NZA = 3218 pNZ = 0.149% pNZA = 0.280% AD = 73.76% ADA = 39.31% NO = 442 GSP = 66.29% NSP = 42.53%\n",
      "SI2 = -7.10 SI = -55.10 eGROI = 7.72% eROI = -8.42% eROI2 = -1.12% eROI3 = -5.54% mSpread = 0.0365%\n"
     ]
    },
    {
     "name": "stderr",
     "output_type": "stream",
     "text": [
      "100%|██████████████████████████████████████████████████████████████████████████████████████████████████████████████████████████████████████| 45/45 [00:00<00:00, 2939.84it/s]\n"
     ]
    },
    {
     "name": "stdout",
     "output_type": "stream",
     "text": [
      "Epoch = 19. Time index = 3. Threshold MC = 0.6. Threshold MD = 0.8\n",
      "RD = 176 NZ = 204 NZA = 358 pNZ = 0.018% pNZA = 0.031% AD = 86.27% ADA = 49.16% NO = 17 GSP = 41.18% NSP = 23.53%\n",
      "SI2 = -4.35 SI = -5.35 eGROI = 0.01% eROI = -0.67% eROI2 = -0.33% eROI3 = -0.50% mSpread = 0.0404%\n"
     ]
    },
    {
     "name": "stderr",
     "output_type": "stream",
     "text": [
      "0it [00:00, ?it/s]\n"
     ]
    },
    {
     "name": "stdout",
     "output_type": "stream",
     "text": [
      "Epoch = 19. Time index = 3. Threshold MC = 0.6. Threshold MD = 0.9\n",
      "RD = 3 NZ = 3 NZA = 3 pNZ = 0.000% pNZA = 0.000% AD = 100.00% ADA = 100.00% NO = 1 GSP = 0.00% NSP = 0.00%\n",
      "SI2 = -0.55 SI = -0.55 eGROI = 0.00% eROI = 0.00% eROI2 = 0.00% eROI3 = 0.00% mSpread = 0.0000%\n",
      "\n"
     ]
    },
    {
     "name": "stderr",
     "output_type": "stream",
     "text": [
      "100%|██████████████████████████████████████████████████████████████████████████████████████████████████████████████████████████████████| 9885/9885 [00:02<00:00, 3759.94it/s]\n"
     ]
    },
    {
     "name": "stdout",
     "output_type": "stream",
     "text": [
      "Epoch = 19. Time index = 3. Threshold MC = 0.7. Threshold MD = 0.5\n",
      "RD = 5924 NZ = 10525 NZA = 14731 pNZ = 0.916% pNZA = 1.282% AD = 56.29% ADA = 40.21% NO = 1949 GSP = 55.11% NSP = 46.74%\n",
      "SI2 = -125.95 SI = -160.95 eGROI = 17.21% eROI = -25.08% eROI2 = -21.77% eROI3 = -41.26% mSpread = 0.0217%\n"
     ]
    },
    {
     "name": "stderr",
     "output_type": "stream",
     "text": [
      "100%|██████████████████████████████████████████████████████████████████████████████████████████████████████████████████████████████████| 3064/3064 [00:00<00:00, 4465.36it/s]\n"
     ]
    },
    {
     "name": "stdout",
     "output_type": "stream",
     "text": [
      "Epoch = 19. Time index = 3. Threshold MC = 0.7. Threshold MD = 0.6\n",
      "RD = 1759 NZ = 2740 NZA = 3955 pNZ = 0.239% pNZA = 0.344% AD = 64.20% ADA = 44.48% NO = 859 GSP = 62.28% NSP = 50.99%\n",
      "SI2 = -8.45 SI = -34.45 eGROI = 15.84% eROI = -4.72% eROI2 = -1.34% eROI3 = -9.93% mSpread = 0.0239%\n"
     ]
    },
    {
     "name": "stderr",
     "output_type": "stream",
     "text": [
      "100%|████████████████████████████████████████████████████████████████████████████████████████████████████████████████████████████████████| 253/253 [00:00<00:00, 4158.57it/s]\n"
     ]
    },
    {
     "name": "stdout",
     "output_type": "stream",
     "text": [
      "Epoch = 19. Time index = 3. Threshold MC = 0.7. Threshold MD = 0.7\n",
      "RD = 341 NZ = 465 NZA = 676 pNZ = 0.040% pNZA = 0.059% AD = 73.33% ADA = 50.44% NO = 119 GSP = 62.18% NSP = 41.18%\n",
      "SI2 = -3.45 SI = -16.45 eGROI = 1.25% eROI = -2.74% eROI2 = -1.13% eROI3 = -2.32% mSpread = 0.0335%\n"
     ]
    },
    {
     "name": "stderr",
     "output_type": "stream",
     "text": [
      "100%|████████████████████████████████████████████████████████████████████████████████████████████████████████████████████████████████████████| 5/5 [00:00<00:00, 1253.98it/s]\n"
     ]
    },
    {
     "name": "stdout",
     "output_type": "stream",
     "text": [
      "Epoch = 19. Time index = 3. Threshold MC = 0.7. Threshold MD = 0.8\n",
      "RD = 91 NZ = 101 NZA = 127 pNZ = 0.009% pNZA = 0.011% AD = 90.10% ADA = 71.65% NO = 4 GSP = 75.00% NSP = 0.00%\n",
      "SI2 = -0.20 SI = -2.20 eGROI = 0.21% eROI = -0.07% eROI2 = 0.13% eROI3 = 0.09% mSpread = 0.0704%\n"
     ]
    },
    {
     "name": "stderr",
     "output_type": "stream",
     "text": [
      "0it [00:00, ?it/s]\n"
     ]
    },
    {
     "name": "stdout",
     "output_type": "stream",
     "text": [
      "Epoch = 19. Time index = 3. Threshold MC = 0.7. Threshold MD = 0.9\n",
      "RD = 3 NZ = 3 NZA = 3 pNZ = 0.000% pNZA = 0.000% AD = 100.00% ADA = 100.00% NO = 1 GSP = 0.00% NSP = 0.00%\n",
      "SI2 = -0.55 SI = -0.55 eGROI = 0.00% eROI = 0.00% eROI2 = 0.00% eROI3 = 0.00% mSpread = 0.0000%\n",
      "\n"
     ]
    },
    {
     "name": "stderr",
     "output_type": "stream",
     "text": [
      "100%|████████████████████████████████████████████████████████████████████████████████████████████████████████████████████████████████████| 648/648 [00:00<00:00, 3914.01it/s]\n"
     ]
    },
    {
     "name": "stdout",
     "output_type": "stream",
     "text": [
      "Epoch = 19. Time index = 3. Threshold MC = 0.8. Threshold MD = 0.5\n",
      "RD = 384 NZ = 633 NZA = 795 pNZ = 0.055% pNZA = 0.069% AD = 60.66% ADA = 48.30% NO = 365 GSP = 57.26% NSP = 50.96%\n",
      "SI2 = -10.75 SI = -14.75 eGROI = 8.57% eROI = 0.56% eROI2 = 1.27% eROI3 = -2.38% mSpread = 0.0220%\n"
     ]
    },
    {
     "name": "stderr",
     "output_type": "stream",
     "text": [
      "100%|████████████████████████████████████████████████████████████████████████████████████████████████████████████████████████████████████| 236/236 [00:00<00:00, 3286.04it/s]\n"
     ]
    },
    {
     "name": "stdout",
     "output_type": "stream",
     "text": [
      "Epoch = 19. Time index = 3. Threshold MC = 0.8. Threshold MD = 0.6\n",
      "RD = 169 NZ = 251 NZA = 314 pNZ = 0.022% pNZA = 0.027% AD = 67.33% ADA = 53.82% NO = 148 GSP = 62.84% NSP = 56.08%\n",
      "SI2 = 6.60 SI = 1.60 eGROI = 4.68% eROI = 1.20% eROI2 = 1.72% eROI3 = 0.24% mSpread = 0.0235%\n"
     ]
    },
    {
     "name": "stderr",
     "output_type": "stream",
     "text": [
      "100%|████████████████████████████████████████████████████████████████████████████████████████████████████████████████████████████████████████| 4/4 [00:00<00:00, 1336.94it/s]\n"
     ]
    },
    {
     "name": "stdout",
     "output_type": "stream",
     "text": [
      "Epoch = 19. Time index = 3. Threshold MC = 0.8. Threshold MD = 0.7\n",
      "RD = 35 NZ = 41 NZA = 56 pNZ = 0.004% pNZA = 0.005% AD = 85.37% ADA = 62.50% NO = 5 GSP = 80.00% NSP = 40.00%\n",
      "SI2 = -0.75 SI = -0.75 eGROI = 0.29% eROI = 0.00% eROI2 = 0.19% eROI3 = 0.14% mSpread = 0.0571%\n"
     ]
    },
    {
     "name": "stderr",
     "output_type": "stream",
     "text": [
      "0it [00:00, ?it/s]\n"
     ]
    },
    {
     "name": "stdout",
     "output_type": "stream",
     "text": [
      "Epoch = 19. Time index = 3. Threshold MC = 0.8. Threshold MD = 0.8\n",
      "RD = 14 NZ = 17 NZA = 22 pNZ = 0.001% pNZA = 0.002% AD = 82.35% ADA = 63.64% NO = 1 GSP = 0.00% NSP = 0.00%\n",
      "SI2 = -0.55 SI = -0.55 eGROI = 0.00% eROI = 0.00% eROI2 = 0.00% eROI3 = 0.00% mSpread = 0.0000%\n"
     ]
    },
    {
     "name": "stderr",
     "output_type": "stream",
     "text": [
      "0it [00:00, ?it/s]\n"
     ]
    },
    {
     "name": "stdout",
     "output_type": "stream",
     "text": [
      "Epoch = 19. Time index = 3. Threshold MC = 0.8. Threshold MD = 0.9\n",
      "RD = 1 NZ = 1 NZA = 1 pNZ = 0.000% pNZA = 0.000% AD = 100.00% ADA = 100.00% NO = 1 GSP = 0.00% NSP = 0.00%\n",
      "SI2 = -0.55 SI = -0.55 eGROI = 0.00% eROI = 0.00% eROI2 = 0.00% eROI3 = 0.00% mSpread = 0.0000%\n",
      "\n"
     ]
    },
    {
     "name": "stderr",
     "output_type": "stream",
     "text": [
      "0it [00:00, ?it/s]\n"
     ]
    },
    {
     "name": "stdout",
     "output_type": "stream",
     "text": [
      "Epoch = 19. Time index = 3. Threshold MC = 0.9. Threshold MD = 0.5\n",
      "RD = 0 NZ = 0 NZA = 0 pNZ = 0.000% pNZA = 0.000% AD = 0.00% ADA = 0.00% NO = 1 GSP = 0.00% NSP = 0.00%\n",
      "SI2 = -0.55 SI = -0.55 eGROI = 0.00% eROI = 0.00% eROI2 = 0.00% eROI3 = 0.00% mSpread = 0.0000%\n"
     ]
    },
    {
     "name": "stderr",
     "output_type": "stream",
     "text": [
      "0it [00:00, ?it/s]\n"
     ]
    },
    {
     "name": "stdout",
     "output_type": "stream",
     "text": [
      "Epoch = 19. Time index = 3. Threshold MC = 0.9. Threshold MD = 0.6\n",
      "RD = 0 NZ = 0 NZA = 0 pNZ = 0.000% pNZA = 0.000% AD = 0.00% ADA = 0.00% NO = 1 GSP = 0.00% NSP = 0.00%\n",
      "SI2 = -0.55 SI = -0.55 eGROI = 0.00% eROI = 0.00% eROI2 = 0.00% eROI3 = 0.00% mSpread = 0.0000%\n"
     ]
    },
    {
     "name": "stderr",
     "output_type": "stream",
     "text": [
      "0it [00:00, ?it/s]\n"
     ]
    },
    {
     "name": "stdout",
     "output_type": "stream",
     "text": [
      "Epoch = 19. Time index = 3. Threshold MC = 0.9. Threshold MD = 0.7\n",
      "RD = 0 NZ = 0 NZA = 0 pNZ = 0.000% pNZA = 0.000% AD = 0.00% ADA = 0.00% NO = 1 GSP = 0.00% NSP = 0.00%\n",
      "SI2 = -0.55 SI = -0.55 eGROI = 0.00% eROI = 0.00% eROI2 = 0.00% eROI3 = 0.00% mSpread = 0.0000%\n"
     ]
    },
    {
     "name": "stderr",
     "output_type": "stream",
     "text": [
      "0it [00:00, ?it/s]\n"
     ]
    },
    {
     "name": "stdout",
     "output_type": "stream",
     "text": [
      "Epoch = 19. Time index = 3. Threshold MC = 0.9. Threshold MD = 0.8\n",
      "RD = 0 NZ = 0 NZA = 0 pNZ = 0.000% pNZA = 0.000% AD = 0.00% ADA = 0.00% NO = 1 GSP = 0.00% NSP = 0.00%\n",
      "SI2 = -0.55 SI = -0.55 eGROI = 0.00% eROI = 0.00% eROI2 = 0.00% eROI3 = 0.00% mSpread = 0.0000%\n"
     ]
    },
    {
     "name": "stderr",
     "output_type": "stream",
     "text": [
      "0it [00:00, ?it/s]\n"
     ]
    },
    {
     "name": "stdout",
     "output_type": "stream",
     "text": [
      "Epoch = 19. Time index = 3. Threshold MC = 0.9. Threshold MD = 0.9\n",
      "RD = 0 NZ = 0 NZA = 0 pNZ = 0.000% pNZA = 0.000% AD = 0.00% ADA = 0.00% NO = 1 GSP = 0.00% NSP = 0.00%\n",
      "SI2 = -0.55 SI = -0.55 eGROI = 0.00% eROI = 0.00% eROI2 = 0.00% eROI3 = 0.00% mSpread = 0.0000%\n",
      "\n",
      "Best eGROI = 44.24 t_index 2 thr_mc 0.5 thr_md 0.6 epoch 19 in 2895\n",
      "Best eROI = 1.30 t_index 0 thr_mc 0.8 thr_md 0.5 epoch 19 in 332\n",
      "Best eROI.5 = 29.77 t_index 2 thr_mc 0.5 thr_md 0.6 epoch 19 in 2895\n",
      "Best eROI1 = 15.29 t_index 1 thr_mc 0.5 thr_md 0.6 epoch 19 in 2713\n",
      "Best eROI1.5 = 3.10 t_index 3 thr_mc 0.8 thr_md 0.5 epoch 19 in 365\n",
      "Best eROI2 = 1.72 t_index 3 thr_mc 0.8 thr_md 0.6 epoch 19 in 148\n",
      "Best eROI3 = 0.24 t_index 3 thr_mc 0.8 thr_md 0.6 epoch 19 in 148\n",
      "Best eROI4 = 0.15 t_index 2 thr_mc 0.8 thr_md 0.7 epoch 19 in 1\n",
      "Best eROI5 = 0.14 t_index 2 thr_mc 0.8 thr_md 0.7 epoch 19 in 1\n",
      "Best SI = 5.05 t_index 0 thr_mc 0.8 thr_md 0.6 epoch 19 in 89\n",
      "Best SI.5 = 124.85 t_index 1 thr_mc 0.5 thr_md 0.6 epoch 19 in 2713\n",
      "Best SI1 = 64.20 t_index 0 thr_mc 0.5 thr_md 0.6 epoch 19 in 2356\n",
      "Best SI1.5 = 14.60 t_index 0 thr_mc 0.7 thr_md 0.6 epoch 19 in 588\n",
      "Best SI2 = 6.80 t_index 2 thr_mc 0.8 thr_md 0.6 epoch 19 in 144\n",
      "Best SI3 = 4.80 t_index 2 thr_mc 0.8 thr_md 0.6 epoch 19 in 144\n",
      "Best SI4 = -0.20 t_index 2 thr_mc 0.8 thr_md 0.6 epoch 19 in 144\n",
      "Best SI5 = -0.55 t_index 0 thr_mc 0.5 thr_md 0.5 epoch 19 in 1\n",
      "\n",
      "The very best:\n",
      "Best eGROI = 44.24 t_index 2 thr_mc 0.5 thr_md 0.6 epoch 19 in 2895\n",
      "Best eROI = 3.37 t_index 3 thr_mc 0.8 thr_md 0.5 epoch 8 in 141\n",
      "Best eROI.5 = 29.77 t_index 2 thr_mc 0.5 thr_md 0.6 epoch 19 in 2895\n",
      "Best eROI1 = 15.86 t_index 1 thr_mc 0.5 thr_md 0.6 epoch 18 in 2626\n",
      "Best eROI1.5 = 5.80 t_index 3 thr_mc 0.6 thr_md 0.6 epoch 11 in 1839\n",
      "Best eROI2 = 3.16 t_index 3 thr_mc 0.8 thr_md 0.5 epoch 8 in 141\n",
      "Best eROI3 = 1.75 t_index 3 thr_mc 0.8 thr_md 0.5 epoch 8 in 141\n",
      "Best eROI4 = 0.50 t_index 3 thr_mc 0.8 thr_md 0.6 epoch 10 in 14\n",
      "Best eROI5 = 0.36 t_index 3 thr_mc 0.8 thr_md 0.6 epoch 10 in 14\n",
      "Best SI = 5.05 t_index 0 thr_mc 0.8 thr_md 0.6 epoch 19 in 89\n",
      "Best SI.5 = 131.70 t_index 1 thr_mc 0.5 thr_md 0.6 epoch 18 in 2626\n",
      "Best SI1 = 73.85 t_index 0 thr_mc 0.5 thr_md 0.6 epoch 14 in 1933\n",
      "Best SI1.5 = 19.75 t_index 3 thr_mc 0.7 thr_md 0.6 epoch 17 in 775\n",
      "Best SI2 = 9.05 t_index 3 thr_mc 0.8 thr_md 0.6 epoch 18 in 129\n",
      "Best SI3 = 5.05 t_index 3 thr_mc 0.8 thr_md 0.6 epoch 18 in 129\n",
      "Best SI4 = 1.95 t_index 3 thr_mc 0.8 thr_md 0.6 epoch 13 in 51\n",
      "Best SI5 = 1.05 t_index 0 thr_mc 0.5 thr_md 0.7 epoch 13 in 9\n",
      "Time=96.39 secs\n",
      "INFO:tensorflow:Restoring parameters from ../../RNN/weights/000520/000020/000020\n",
      "Parameters loaded. Epoch 20\n",
      "Epoch 20 of 34. Getting output...\n"
     ]
    },
    {
     "name": "stderr",
     "output_type": "stream",
     "text": [
      "100%|████████████████████████████████████████████████████████████████████████████████████████████████████████████████████████████████████████| 23/23 [01:41<00:00,  4.73s/it]\n"
     ]
    },
    {
     "name": "stdout",
     "output_type": "stream",
     "text": [
      "Getting results\n",
      "Epoch 20, J_train = 6.500109694373853, J_test = 6.329522588978643\n"
     ]
    },
    {
     "name": "stderr",
     "output_type": "stream",
     "text": [
      "0it [00:00, ?it/s]\n"
     ]
    },
    {
     "name": "stdout",
     "output_type": "stream",
     "text": [
      "Epoch = 20. Time index = 0. Threshold MC = 0.5. Threshold MD = 0.5\n",
      "J_test = 6.329522588978643, J_train = 6.500109694373853, Accuracy=0.550378547495371\n",
      "RD = 261566 NZ = 502716 NZA = 953492 pNZ = 43.763% pNZA = 83.004% AD = 52.03% ADA = 27.43% NO = 1 GSP = 0.00% NSP = 0.00%\n",
      "SI2 = -0.55 SI = -0.55 eGROI = 0.00% eROI = 0.00% eROI2 = 0.00% eROI3 = 0.00% mSpread = 0.0000%\n"
     ]
    },
    {
     "name": "stderr",
     "output_type": "stream",
     "text": [
      "100%|████████████████████████████████████████████████████████████████████████████████████████████████████████████████████████████████| 11166/11166 [00:02<00:00, 4352.86it/s]\n"
     ]
    },
    {
     "name": "stdout",
     "output_type": "stream",
     "text": [
      "Epoch = 20. Time index = 0. Threshold MC = 0.5. Threshold MD = 0.6\n",
      "RD = 8865 NZ = 13606 NZA = 27766 pNZ = 1.184% pNZA = 2.417% AD = 65.16% ADA = 31.93% NO = 2413 GSP = 62.83% NSP = 44.14%\n",
      "SI2 = -80.15 SI = -262.15 eGROI = 37.23% eROI = -37.16% eROI2 = -11.03% eROI3 = -35.16% mSpread = 0.0308%\n"
     ]
    },
    {
     "name": "stderr",
     "output_type": "stream",
     "text": [
      "100%|████████████████████████████████████████████████████████████████████████████████████████████████████████████████████████████████████| 475/475 [00:00<00:00, 3502.00it/s]\n"
     ]
    },
    {
     "name": "stdout",
     "output_type": "stream",
     "text": [
      "Epoch = 20. Time index = 0. Threshold MC = 0.5. Threshold MD = 0.7\n",
      "RD = 1109 NZ = 1410 NZA = 2798 pNZ = 0.123% pNZA = 0.244% AD = 78.65% ADA = 39.64% NO = 218 GSP = 65.14% NSP = 36.70%\n",
      "SI2 = -10.90 SI = -39.90 eGROI = 3.07% eROI = -5.22% eROI2 = -1.29% eROI3 = -3.47% mSpread = 0.0380%\n"
     ]
    },
    {
     "name": "stderr",
     "output_type": "stream",
     "text": [
      "0it [00:00, ?it/s]\n"
     ]
    },
    {
     "name": "stdout",
     "output_type": "stream",
     "text": [
      "Epoch = 20. Time index = 0. Threshold MC = 0.5. Threshold MD = 0.8\n",
      "RD = 134 NZ = 140 NZA = 224 pNZ = 0.012% pNZA = 0.019% AD = 95.71% ADA = 59.82% NO = 1 GSP = 0.00% NSP = 0.00%\n",
      "SI2 = -0.55 SI = -0.55 eGROI = 0.00% eROI = 0.00% eROI2 = 0.00% eROI3 = 0.00% mSpread = 0.0000%\n"
     ]
    },
    {
     "name": "stderr",
     "output_type": "stream",
     "text": [
      "0it [00:00, ?it/s]\n"
     ]
    },
    {
     "name": "stdout",
     "output_type": "stream",
     "text": [
      "Epoch = 20. Time index = 0. Threshold MC = 0.5. Threshold MD = 0.9\n",
      "RD = 0 NZ = 0 NZA = 0 pNZ = 0.000% pNZA = 0.000% AD = 0.00% ADA = 0.00% NO = 1 GSP = 0.00% NSP = 0.00%\n",
      "SI2 = -0.55 SI = -0.55 eGROI = 0.00% eROI = 0.00% eROI2 = 0.00% eROI3 = 0.00% mSpread = 0.0000%\n",
      "\n"
     ]
    },
    {
     "name": "stderr",
     "output_type": "stream",
     "text": [
      "0it [00:00, ?it/s]\n"
     ]
    },
    {
     "name": "stdout",
     "output_type": "stream",
     "text": [
      "Epoch = 20. Time index = 0. Threshold MC = 0.6. Threshold MD = 0.5\n",
      "RD = 86662 NZ = 163414 NZA = 268800 pNZ = 14.226% pNZA = 23.400% AD = 53.03% ADA = 32.24% NO = 1 GSP = 0.00% NSP = 0.00%\n",
      "SI2 = -0.55 SI = -0.55 eGROI = 0.00% eROI = 0.00% eROI2 = 0.00% eROI3 = 0.00% mSpread = 0.0000%\n"
     ]
    },
    {
     "name": "stderr",
     "output_type": "stream",
     "text": [
      "100%|██████████████████████████████████████████████████████████████████████████████████████████████████████████████████████████████████| 5627/5627 [00:01<00:00, 3859.09it/s]\n"
     ]
    },
    {
     "name": "stdout",
     "output_type": "stream",
     "text": [
      "Epoch = 20. Time index = 0. Threshold MC = 0.6. Threshold MD = 0.6\n",
      "RD = 4222 NZ = 6483 NZA = 10990 pNZ = 0.564% pNZA = 0.957% AD = 65.12% ADA = 38.42% NO = 1527 GSP = 63.72% NSP = 48.46%\n",
      "SI2 = -27.85 SI = -99.85 eGROI = 24.45% eROI = -17.55% eROI2 = -6.09% eROI3 = -21.36% mSpread = 0.0275%\n"
     ]
    },
    {
     "name": "stderr",
     "output_type": "stream",
     "text": [
      "100%|████████████████████████████████████████████████████████████████████████████████████████████████████████████████████████████████████| 326/326 [00:00<00:00, 4417.32it/s]\n"
     ]
    },
    {
     "name": "stdout",
     "output_type": "stream",
     "text": [
      "Epoch = 20. Time index = 0. Threshold MC = 0.6. Threshold MD = 0.7\n",
      "RD = 596 NZ = 754 NZA = 1286 pNZ = 0.066% pNZA = 0.112% AD = 79.05% ADA = 46.35% NO = 139 GSP = 59.71% NSP = 37.41%\n",
      "SI2 = -7.45 SI = -24.45 eGROI = 1.15% eROI = -4.03% eROI2 = -1.63% eROI3 = -3.02% mSpread = 0.0373%\n"
     ]
    },
    {
     "name": "stderr",
     "output_type": "stream",
     "text": [
      "0it [00:00, ?it/s]\n"
     ]
    },
    {
     "name": "stdout",
     "output_type": "stream",
     "text": [
      "Epoch = 20. Time index = 0. Threshold MC = 0.6. Threshold MD = 0.8\n",
      "RD = 102 NZ = 105 NZA = 145 pNZ = 0.009% pNZA = 0.013% AD = 97.14% ADA = 70.34% NO = 1 GSP = 0.00% NSP = 0.00%\n",
      "SI2 = -0.55 SI = -0.55 eGROI = 0.00% eROI = 0.00% eROI2 = 0.00% eROI3 = 0.00% mSpread = 0.0000%\n"
     ]
    },
    {
     "name": "stderr",
     "output_type": "stream",
     "text": [
      "0it [00:00, ?it/s]\n"
     ]
    },
    {
     "name": "stdout",
     "output_type": "stream",
     "text": [
      "Epoch = 20. Time index = 0. Threshold MC = 0.6. Threshold MD = 0.9\n",
      "RD = 0 NZ = 0 NZA = 0 pNZ = 0.000% pNZA = 0.000% AD = 0.00% ADA = 0.00% NO = 1 GSP = 0.00% NSP = 0.00%\n",
      "SI2 = -0.55 SI = -0.55 eGROI = 0.00% eROI = 0.00% eROI2 = 0.00% eROI3 = 0.00% mSpread = 0.0000%\n",
      "\n"
     ]
    },
    {
     "name": "stderr",
     "output_type": "stream",
     "text": [
      "100%|████████████████████████████████████████████████████████████████████████████████████████████████████████████████████████████████| 13213/13213 [00:02<00:00, 4826.30it/s]\n"
     ]
    },
    {
     "name": "stdout",
     "output_type": "stream",
     "text": [
      "Epoch = 20. Time index = 0. Threshold MC = 0.7. Threshold MD = 0.5\n",
      "RD = 9063 NZ = 16534 NZA = 23256 pNZ = 1.439% pNZA = 2.024% AD = 54.81% ADA = 38.97% NO = 2555 GSP = 52.88% NSP = 45.01%\n",
      "SI2 = -234.25 SI = -255.25 eGROI = 8.61% eROI = -41.72% eROI2 = -42.49% eROI3 = -68.04% mSpread = 0.0197%\n"
     ]
    },
    {
     "name": "stderr",
     "output_type": "stream",
     "text": [
      "100%|██████████████████████████████████████████████████████████████████████████████████████████████████████████████████████████████████| 1610/1610 [00:00<00:00, 3314.75it/s]\n"
     ]
    },
    {
     "name": "stdout",
     "output_type": "stream",
     "text": [
      "Epoch = 20. Time index = 0. Threshold MC = 0.7. Threshold MD = 0.6\n",
      "RD = 1326 NZ = 2025 NZA = 2803 pNZ = 0.176% pNZA = 0.244% AD = 65.48% ADA = 47.31% NO = 619 GSP = 62.04% NSP = 53.63%\n",
      "SI2 = -1.45 SI = -8.45 eGROI = 8.98% eROI = -4.23% eROI2 = -3.40% eROI3 = -9.59% mSpread = 0.0213%\n"
     ]
    },
    {
     "name": "stderr",
     "output_type": "stream",
     "text": [
      "100%|████████████████████████████████████████████████████████████████████████████████████████████████████████████████████████████████████████| 7/7 [00:00<00:00, 1752.22it/s]\n"
     ]
    },
    {
     "name": "stdout",
     "output_type": "stream",
     "text": [
      "Epoch = 20. Time index = 0. Threshold MC = 0.7. Threshold MD = 0.7\n",
      "RD = 143 NZ = 181 NZA = 239 pNZ = 0.016% pNZA = 0.021% AD = 79.01% ADA = 59.83% NO = 5 GSP = 40.00% NSP = 20.00%\n",
      "SI2 = -1.75 SI = -1.75 eGROI = -0.76% eROI = -0.86% eROI2 = -0.86% eROI3 = -0.91% mSpread = 0.0198%\n"
     ]
    },
    {
     "name": "stderr",
     "output_type": "stream",
     "text": [
      "0it [00:00, ?it/s]\n"
     ]
    },
    {
     "name": "stdout",
     "output_type": "stream",
     "text": [
      "Epoch = 20. Time index = 0. Threshold MC = 0.7. Threshold MD = 0.8\n",
      "RD = 37 NZ = 37 NZA = 43 pNZ = 0.003% pNZA = 0.004% AD = 100.00% ADA = 86.05% NO = 1 GSP = 0.00% NSP = 0.00%\n",
      "SI2 = -0.55 SI = -0.55 eGROI = 0.00% eROI = 0.00% eROI2 = 0.00% eROI3 = 0.00% mSpread = 0.0000%\n"
     ]
    },
    {
     "name": "stderr",
     "output_type": "stream",
     "text": [
      "0it [00:00, ?it/s]\n"
     ]
    },
    {
     "name": "stdout",
     "output_type": "stream",
     "text": [
      "Epoch = 20. Time index = 0. Threshold MC = 0.7. Threshold MD = 0.9\n",
      "RD = 0 NZ = 0 NZA = 0 pNZ = 0.000% pNZA = 0.000% AD = 0.00% ADA = 0.00% NO = 1 GSP = 0.00% NSP = 0.00%\n",
      "SI2 = -0.55 SI = -0.55 eGROI = 0.00% eROI = 0.00% eROI2 = 0.00% eROI3 = 0.00% mSpread = 0.0000%\n",
      "\n"
     ]
    },
    {
     "name": "stderr",
     "output_type": "stream",
     "text": [
      "100%|████████████████████████████████████████████████████████████████████████████████████████████████████████████████████████████████████| 674/674 [00:00<00:00, 3430.44it/s]\n"
     ]
    },
    {
     "name": "stdout",
     "output_type": "stream",
     "text": [
      "Epoch = 20. Time index = 0. Threshold MC = 0.8. Threshold MD = 0.5\n",
      "RD = 477 NZ = 782 NZA = 981 pNZ = 0.068% pNZA = 0.085% AD = 61.00% ADA = 48.62% NO = 336 GSP = 55.06% NSP = 51.19%\n",
      "SI2 = -12.80 SI = -12.80 eGROI = 7.60% eROI = 1.23% eROI2 = 0.88% eROI3 = -2.48% mSpread = 0.0190%\n"
     ]
    },
    {
     "name": "stderr",
     "output_type": "stream",
     "text": [
      "100%|████████████████████████████████████████████████████████████████████████████████████████████████████████████████████████████████████| 119/119 [00:00<00:00, 2841.98it/s]\n"
     ]
    },
    {
     "name": "stdout",
     "output_type": "stream",
     "text": [
      "Epoch = 20. Time index = 0. Threshold MC = 0.8. Threshold MD = 0.6\n",
      "RD = 118 NZ = 176 NZA = 226 pNZ = 0.015% pNZA = 0.020% AD = 67.05% ADA = 52.21% NO = 99 GSP = 63.64% NSP = 60.61%\n",
      "SI2 = 5.55 SI = 5.55 eGROI = 3.41% eROI = 1.54% eROI2 = 1.43% eROI3 = 0.44% mSpread = 0.0190%\n"
     ]
    },
    {
     "name": "stderr",
     "output_type": "stream",
     "text": [
      "0it [00:00, ?it/s]\n"
     ]
    },
    {
     "name": "stdout",
     "output_type": "stream",
     "text": [
      "Epoch = 20. Time index = 0. Threshold MC = 0.8. Threshold MD = 0.7\n",
      "RD = 12 NZ = 17 NZA = 21 pNZ = 0.001% pNZA = 0.002% AD = 70.59% ADA = 57.14% NO = 1 GSP = 0.00% NSP = 0.00%\n",
      "SI2 = -0.55 SI = -0.55 eGROI = 0.00% eROI = 0.00% eROI2 = 0.00% eROI3 = 0.00% mSpread = 0.0000%\n"
     ]
    },
    {
     "name": "stderr",
     "output_type": "stream",
     "text": [
      "0it [00:00, ?it/s]\n"
     ]
    },
    {
     "name": "stdout",
     "output_type": "stream",
     "text": [
      "Epoch = 20. Time index = 0. Threshold MC = 0.8. Threshold MD = 0.8\n",
      "RD = 0 NZ = 0 NZA = 0 pNZ = 0.000% pNZA = 0.000% AD = 0.00% ADA = 0.00% NO = 1 GSP = 0.00% NSP = 0.00%\n",
      "SI2 = -0.55 SI = -0.55 eGROI = 0.00% eROI = 0.00% eROI2 = 0.00% eROI3 = 0.00% mSpread = 0.0000%\n"
     ]
    },
    {
     "name": "stderr",
     "output_type": "stream",
     "text": [
      "0it [00:00, ?it/s]\n"
     ]
    },
    {
     "name": "stdout",
     "output_type": "stream",
     "text": [
      "Epoch = 20. Time index = 0. Threshold MC = 0.8. Threshold MD = 0.9\n",
      "RD = 0 NZ = 0 NZA = 0 pNZ = 0.000% pNZA = 0.000% AD = 0.00% ADA = 0.00% NO = 1 GSP = 0.00% NSP = 0.00%\n",
      "SI2 = -0.55 SI = -0.55 eGROI = 0.00% eROI = 0.00% eROI2 = 0.00% eROI3 = 0.00% mSpread = 0.0000%\n",
      "\n"
     ]
    },
    {
     "name": "stderr",
     "output_type": "stream",
     "text": [
      "0it [00:00, ?it/s]\n"
     ]
    },
    {
     "name": "stdout",
     "output_type": "stream",
     "text": [
      "Epoch = 20. Time index = 0. Threshold MC = 0.9. Threshold MD = 0.5\n",
      "RD = 0 NZ = 0 NZA = 0 pNZ = 0.000% pNZA = 0.000% AD = 0.00% ADA = 0.00% NO = 1 GSP = 0.00% NSP = 0.00%\n",
      "SI2 = -0.55 SI = -0.55 eGROI = 0.00% eROI = 0.00% eROI2 = 0.00% eROI3 = 0.00% mSpread = 0.0000%\n"
     ]
    },
    {
     "name": "stderr",
     "output_type": "stream",
     "text": [
      "0it [00:00, ?it/s]\n"
     ]
    },
    {
     "name": "stdout",
     "output_type": "stream",
     "text": [
      "Epoch = 20. Time index = 0. Threshold MC = 0.9. Threshold MD = 0.6\n",
      "RD = 0 NZ = 0 NZA = 0 pNZ = 0.000% pNZA = 0.000% AD = 0.00% ADA = 0.00% NO = 1 GSP = 0.00% NSP = 0.00%\n",
      "SI2 = -0.55 SI = -0.55 eGROI = 0.00% eROI = 0.00% eROI2 = 0.00% eROI3 = 0.00% mSpread = 0.0000%\n"
     ]
    },
    {
     "name": "stderr",
     "output_type": "stream",
     "text": [
      "0it [00:00, ?it/s]\n"
     ]
    },
    {
     "name": "stdout",
     "output_type": "stream",
     "text": [
      "Epoch = 20. Time index = 0. Threshold MC = 0.9. Threshold MD = 0.7\n",
      "RD = 0 NZ = 0 NZA = 0 pNZ = 0.000% pNZA = 0.000% AD = 0.00% ADA = 0.00% NO = 1 GSP = 0.00% NSP = 0.00%\n",
      "SI2 = -0.55 SI = -0.55 eGROI = 0.00% eROI = 0.00% eROI2 = 0.00% eROI3 = 0.00% mSpread = 0.0000%\n"
     ]
    },
    {
     "name": "stderr",
     "output_type": "stream",
     "text": [
      "0it [00:00, ?it/s]\n"
     ]
    },
    {
     "name": "stdout",
     "output_type": "stream",
     "text": [
      "Epoch = 20. Time index = 0. Threshold MC = 0.9. Threshold MD = 0.8\n",
      "RD = 0 NZ = 0 NZA = 0 pNZ = 0.000% pNZA = 0.000% AD = 0.00% ADA = 0.00% NO = 1 GSP = 0.00% NSP = 0.00%\n",
      "SI2 = -0.55 SI = -0.55 eGROI = 0.00% eROI = 0.00% eROI2 = 0.00% eROI3 = 0.00% mSpread = 0.0000%\n"
     ]
    },
    {
     "name": "stderr",
     "output_type": "stream",
     "text": [
      "0it [00:00, ?it/s]\n"
     ]
    },
    {
     "name": "stdout",
     "output_type": "stream",
     "text": [
      "Epoch = 20. Time index = 0. Threshold MC = 0.9. Threshold MD = 0.9\n",
      "RD = 0 NZ = 0 NZA = 0 pNZ = 0.000% pNZA = 0.000% AD = 0.00% ADA = 0.00% NO = 1 GSP = 0.00% NSP = 0.00%\n",
      "SI2 = -0.55 SI = -0.55 eGROI = 0.00% eROI = 0.00% eROI2 = 0.00% eROI3 = 0.00% mSpread = 0.0000%\n",
      "\n"
     ]
    },
    {
     "name": "stderr",
     "output_type": "stream",
     "text": [
      "0it [00:00, ?it/s]\n"
     ]
    },
    {
     "name": "stdout",
     "output_type": "stream",
     "text": [
      "Epoch = 20. Time index = 1. Threshold MC = 0.5. Threshold MD = 0.5\n",
      "J_test = 6.329522588978643, J_train = 6.500109694373853, Accuracy=0.5450718313132816\n",
      "RD = 264514 NZ = 508855 NZA = 971866 pNZ = 44.297% pNZA = 84.603% AD = 51.98% ADA = 27.22% NO = 1 GSP = 0.00% NSP = 0.00%\n",
      "SI2 = -0.55 SI = -0.55 eGROI = 0.00% eROI = 0.00% eROI2 = 0.00% eROI3 = 0.00% mSpread = 0.0000%\n"
     ]
    },
    {
     "name": "stderr",
     "output_type": "stream",
     "text": [
      "100%|████████████████████████████████████████████████████████████████████████████████████████████████████████████████████████████████| 14873/14873 [00:02<00:00, 5482.57it/s]\n"
     ]
    },
    {
     "name": "stdout",
     "output_type": "stream",
     "text": [
      "Epoch = 20. Time index = 1. Threshold MC = 0.5. Threshold MD = 0.6\n",
      "RD = 10381 NZ = 15872 NZA = 32979 pNZ = 1.382% pNZA = 2.871% AD = 65.40% ADA = 31.48% NO = 2830 GSP = 62.30% NSP = 43.78%\n",
      "SI2 = -117.50 SI = -317.50 eGROI = 45.04% eROI = -39.38% eROI2 = -11.56% eROI3 = -39.86% mSpread = 0.0298%\n"
     ]
    },
    {
     "name": "stderr",
     "output_type": "stream",
     "text": [
      "100%|██████████████████████████████████████████████████████████████████████████████████████████████████████████████████████████████████| 1580/1580 [00:00<00:00, 3667.14it/s]\n"
     ]
    },
    {
     "name": "stdout",
     "output_type": "stream",
     "text": [
      "Epoch = 20. Time index = 1. Threshold MC = 0.5. Threshold MD = 0.7\n",
      "RD = 1912 NZ = 2535 NZA = 5413 pNZ = 0.221% pNZA = 0.471% AD = 75.42% ADA = 35.32% NO = 421 GSP = 67.22% NSP = 41.81%\n",
      "SI2 = -6.55 SI = -55.55 eGROI = 7.27% eROI = -8.38% eROI2 = -1.15% eROI3 = -5.36% mSpread = 0.0372%\n"
     ]
    },
    {
     "name": "stderr",
     "output_type": "stream",
     "text": [
      "0it [00:00, ?it/s]\n"
     ]
    },
    {
     "name": "stdout",
     "output_type": "stream",
     "text": [
      "Epoch = 20. Time index = 1. Threshold MC = 0.5. Threshold MD = 0.8\n",
      "RD = 326 NZ = 359 NZA = 635 pNZ = 0.031% pNZA = 0.055% AD = 90.81% ADA = 51.34% NO = 1 GSP = 0.00% NSP = 0.00%\n",
      "SI2 = -0.55 SI = -0.55 eGROI = 0.00% eROI = 0.00% eROI2 = 0.00% eROI3 = 0.00% mSpread = 0.0000%\n"
     ]
    },
    {
     "name": "stderr",
     "output_type": "stream",
     "text": [
      "0it [00:00, ?it/s]\n"
     ]
    },
    {
     "name": "stdout",
     "output_type": "stream",
     "text": [
      "Epoch = 20. Time index = 1. Threshold MC = 0.5. Threshold MD = 0.9\n",
      "RD = 7 NZ = 7 NZA = 10 pNZ = 0.001% pNZA = 0.001% AD = 100.00% ADA = 70.00% NO = 1 GSP = 0.00% NSP = 0.00%\n",
      "SI2 = -0.55 SI = -0.55 eGROI = 0.00% eROI = 0.00% eROI2 = 0.00% eROI3 = 0.00% mSpread = 0.0000%\n",
      "\n"
     ]
    },
    {
     "name": "stderr",
     "output_type": "stream",
     "text": [
      "0it [00:00, ?it/s]\n"
     ]
    },
    {
     "name": "stdout",
     "output_type": "stream",
     "text": [
      "Epoch = 20. Time index = 1. Threshold MC = 0.6. Threshold MD = 0.5\n",
      "RD = 85871 NZ = 162282 NZA = 268370 pNZ = 14.127% pNZA = 23.362% AD = 52.91% ADA = 32.00% NO = 1 GSP = 0.00% NSP = 0.00%\n",
      "SI2 = -0.55 SI = -0.55 eGROI = 0.00% eROI = 0.00% eROI2 = 0.00% eROI3 = 0.00% mSpread = 0.0000%\n"
     ]
    },
    {
     "name": "stderr",
     "output_type": "stream",
     "text": [
      "100%|██████████████████████████████████████████████████████████████████████████████████████████████████████████████████████████████████| 9253/9253 [00:01<00:00, 5177.13it/s]\n"
     ]
    },
    {
     "name": "stdout",
     "output_type": "stream",
     "text": [
      "Epoch = 20. Time index = 1. Threshold MC = 0.6. Threshold MD = 0.6\n",
      "RD = 5509 NZ = 8358 NZA = 14491 pNZ = 0.728% pNZA = 1.261% AD = 65.91% ADA = 38.02% NO = 2108 GSP = 62.33% NSP = 46.44%\n",
      "SI2 = -71.40 SI = -180.40 eGROI = 33.29% eROI = -24.86% eROI2 = -8.87% eROI3 = -29.95% mSpread = 0.0276%\n"
     ]
    },
    {
     "name": "stderr",
     "output_type": "stream",
     "text": [
      "100%|██████████████████████████████████████████████████████████████████████████████████████████████████████████████████████████████████| 1333/1333 [00:00<00:00, 4722.83it/s]\n"
     ]
    },
    {
     "name": "stdout",
     "output_type": "stream",
     "text": [
      "Epoch = 20. Time index = 1. Threshold MC = 0.6. Threshold MD = 0.7\n",
      "RD = 1097 NZ = 1452 NZA = 2702 pNZ = 0.126% pNZA = 0.235% AD = 75.55% ADA = 40.60% NO = 356 GSP = 67.42% NSP = 42.70%\n",
      "SI2 = -5.80 SI = -43.80 eGROI = 6.42% eROI = -6.44% eROI2 = -0.70% eROI3 = -4.26% mSpread = 0.0361%\n"
     ]
    },
    {
     "name": "stderr",
     "output_type": "stream",
     "text": [
      "0it [00:00, ?it/s]\n"
     ]
    },
    {
     "name": "stdout",
     "output_type": "stream",
     "text": [
      "Epoch = 20. Time index = 1. Threshold MC = 0.6. Threshold MD = 0.8\n",
      "RD = 240 NZ = 260 NZA = 401 pNZ = 0.023% pNZA = 0.035% AD = 92.31% ADA = 59.85% NO = 1 GSP = 0.00% NSP = 0.00%\n",
      "SI2 = -0.55 SI = -0.55 eGROI = 0.00% eROI = 0.00% eROI2 = 0.00% eROI3 = 0.00% mSpread = 0.0000%\n"
     ]
    },
    {
     "name": "stderr",
     "output_type": "stream",
     "text": [
      "0it [00:00, ?it/s]\n"
     ]
    },
    {
     "name": "stdout",
     "output_type": "stream",
     "text": [
      "Epoch = 20. Time index = 1. Threshold MC = 0.6. Threshold MD = 0.9\n",
      "RD = 7 NZ = 7 NZA = 10 pNZ = 0.001% pNZA = 0.001% AD = 100.00% ADA = 70.00% NO = 1 GSP = 0.00% NSP = 0.00%\n",
      "SI2 = -0.55 SI = -0.55 eGROI = 0.00% eROI = 0.00% eROI2 = 0.00% eROI3 = 0.00% mSpread = 0.0000%\n",
      "\n"
     ]
    },
    {
     "name": "stderr",
     "output_type": "stream",
     "text": [
      "100%|██████████████████████████████████████████████████████████████████████████████████████████████████████████████████████████████████| 9644/9644 [00:01<00:00, 5263.80it/s]\n"
     ]
    },
    {
     "name": "stdout",
     "output_type": "stream",
     "text": [
      "Epoch = 20. Time index = 1. Threshold MC = 0.7. Threshold MD = 0.5\n",
      "RD = 6076 NZ = 10856 NZA = 15011 pNZ = 0.945% pNZA = 1.307% AD = 55.97% ADA = 40.48% NO = 1905 GSP = 54.80% NSP = 46.77%\n",
      "SI2 = -137.75 SI = -156.75 eGROI = 14.48% eROI = -24.74% eROI2 = -23.62% eROI3 = -42.67% mSpread = 0.0206%\n"
     ]
    },
    {
     "name": "stderr",
     "output_type": "stream",
     "text": [
      "100%|██████████████████████████████████████████████████████████████████████████████████████████████████████████████████████████████████| 2227/2227 [00:00<00:00, 4412.54it/s]\n"
     ]
    },
    {
     "name": "stdout",
     "output_type": "stream",
     "text": [
      "Epoch = 20. Time index = 1. Threshold MC = 0.7. Threshold MD = 0.6\n",
      "RD = 1451 NZ = 2246 NZA = 3166 pNZ = 0.196% pNZA = 0.276% AD = 64.60% ADA = 45.83% NO = 710 GSP = 63.10% NSP = 52.96%\n",
      "SI2 = 2.50 SI = -14.50 eGROI = 12.48% eROI = -3.47% eROI2 = -1.72% eROI3 = -8.82% mSpread = 0.0225%\n"
     ]
    },
    {
     "name": "stderr",
     "output_type": "stream",
     "text": [
      "100%|████████████████████████████████████████████████████████████████████████████████████████████████████████████████████████████████████| 108/108 [00:00<00:00, 3185.03it/s]\n"
     ]
    },
    {
     "name": "stdout",
     "output_type": "stream",
     "text": [
      "Epoch = 20. Time index = 1. Threshold MC = 0.7. Threshold MD = 0.7\n",
      "RD = 283 NZ = 361 NZA = 501 pNZ = 0.031% pNZA = 0.044% AD = 78.39% ADA = 56.49% NO = 63 GSP = 58.73% NSP = 41.27%\n",
      "SI2 = -4.65 SI = -8.65 eGROI = 0.23% eROI = -1.69% eROI2 = -1.03% eROI3 = -1.66% mSpread = 0.0306%\n"
     ]
    },
    {
     "name": "stderr",
     "output_type": "stream",
     "text": [
      "0it [00:00, ?it/s]\n"
     ]
    },
    {
     "name": "stdout",
     "output_type": "stream",
     "text": [
      "Epoch = 20. Time index = 1. Threshold MC = 0.7. Threshold MD = 0.8\n",
      "RD = 130 NZ = 142 NZA = 175 pNZ = 0.012% pNZA = 0.015% AD = 91.55% ADA = 74.29% NO = 1 GSP = 0.00% NSP = 0.00%\n",
      "SI2 = -0.55 SI = -0.55 eGROI = 0.00% eROI = 0.00% eROI2 = 0.00% eROI3 = 0.00% mSpread = 0.0000%\n"
     ]
    },
    {
     "name": "stderr",
     "output_type": "stream",
     "text": [
      "0it [00:00, ?it/s]\n"
     ]
    },
    {
     "name": "stdout",
     "output_type": "stream",
     "text": [
      "Epoch = 20. Time index = 1. Threshold MC = 0.7. Threshold MD = 0.9\n",
      "RD = 6 NZ = 6 NZA = 8 pNZ = 0.001% pNZA = 0.001% AD = 100.00% ADA = 75.00% NO = 1 GSP = 0.00% NSP = 0.00%\n",
      "SI2 = -0.55 SI = -0.55 eGROI = 0.00% eROI = 0.00% eROI2 = 0.00% eROI3 = 0.00% mSpread = 0.0000%\n",
      "\n"
     ]
    },
    {
     "name": "stderr",
     "output_type": "stream",
     "text": [
      "100%|████████████████████████████████████████████████████████████████████████████████████████████████████████████████████████████████████| 584/584 [00:00<00:00, 3290.05it/s]\n"
     ]
    },
    {
     "name": "stdout",
     "output_type": "stream",
     "text": [
      "Epoch = 20. Time index = 1. Threshold MC = 0.8. Threshold MD = 0.5\n",
      "RD = 344 NZ = 606 NZA = 763 pNZ = 0.053% pNZA = 0.066% AD = 56.77% ADA = 45.09% NO = 317 GSP = 53.94% NSP = 48.58%\n",
      "SI2 = -18.35 SI = -20.35 eGROI = 3.69% eROI = -2.60% eROI2 = -2.65% eROI3 = -5.82% mSpread = 0.0198%\n"
     ]
    },
    {
     "name": "stderr",
     "output_type": "stream",
     "text": [
      "100%|████████████████████████████████████████████████████████████████████████████████████████████████████████████████████████████████████| 178/178 [00:00<00:00, 3499.99it/s]\n"
     ]
    },
    {
     "name": "stdout",
     "output_type": "stream",
     "text": [
      "Epoch = 20. Time index = 1. Threshold MC = 0.8. Threshold MD = 0.6\n",
      "RD = 149 NZ = 217 NZA = 279 pNZ = 0.019% pNZA = 0.024% AD = 68.66% ADA = 53.41% NO = 120 GSP = 62.50% NSP = 57.50%\n",
      "SI2 = 3.00 SI = 3.00 eGROI = 3.75% eROI = 1.37% eROI2 = 1.35% eROI3 = 0.15% mSpread = 0.0198%\n"
     ]
    },
    {
     "name": "stderr",
     "output_type": "stream",
     "text": [
      "0it [00:00, ?it/s]\n"
     ]
    },
    {
     "name": "stdout",
     "output_type": "stream",
     "text": [
      "Epoch = 20. Time index = 1. Threshold MC = 0.8. Threshold MD = 0.7\n",
      "RD = 38 NZ = 45 NZA = 56 pNZ = 0.004% pNZA = 0.005% AD = 84.44% ADA = 67.86% NO = 1 GSP = 0.00% NSP = 0.00%\n",
      "SI2 = -0.55 SI = -0.55 eGROI = 0.00% eROI = 0.00% eROI2 = 0.00% eROI3 = 0.00% mSpread = 0.0000%\n"
     ]
    },
    {
     "name": "stderr",
     "output_type": "stream",
     "text": [
      "0it [00:00, ?it/s]\n"
     ]
    },
    {
     "name": "stdout",
     "output_type": "stream",
     "text": [
      "Epoch = 20. Time index = 1. Threshold MC = 0.8. Threshold MD = 0.8\n",
      "RD = 19 NZ = 23 NZA = 26 pNZ = 0.002% pNZA = 0.002% AD = 82.61% ADA = 73.08% NO = 1 GSP = 0.00% NSP = 0.00%\n",
      "SI2 = -0.55 SI = -0.55 eGROI = 0.00% eROI = 0.00% eROI2 = 0.00% eROI3 = 0.00% mSpread = 0.0000%\n"
     ]
    },
    {
     "name": "stderr",
     "output_type": "stream",
     "text": [
      "0it [00:00, ?it/s]\n"
     ]
    },
    {
     "name": "stdout",
     "output_type": "stream",
     "text": [
      "Epoch = 20. Time index = 1. Threshold MC = 0.8. Threshold MD = 0.9\n",
      "RD = 1 NZ = 1 NZA = 2 pNZ = 0.000% pNZA = 0.000% AD = 100.00% ADA = 50.00% NO = 1 GSP = 0.00% NSP = 0.00%\n",
      "SI2 = -0.55 SI = -0.55 eGROI = 0.00% eROI = 0.00% eROI2 = 0.00% eROI3 = 0.00% mSpread = 0.0000%\n",
      "\n"
     ]
    },
    {
     "name": "stderr",
     "output_type": "stream",
     "text": [
      "0it [00:00, ?it/s]\n"
     ]
    },
    {
     "name": "stdout",
     "output_type": "stream",
     "text": [
      "Epoch = 20. Time index = 1. Threshold MC = 0.9. Threshold MD = 0.5\n",
      "RD = 0 NZ = 0 NZA = 0 pNZ = 0.000% pNZA = 0.000% AD = 0.00% ADA = 0.00% NO = 1 GSP = 0.00% NSP = 0.00%\n",
      "SI2 = -0.55 SI = -0.55 eGROI = 0.00% eROI = 0.00% eROI2 = 0.00% eROI3 = 0.00% mSpread = 0.0000%\n"
     ]
    },
    {
     "name": "stderr",
     "output_type": "stream",
     "text": [
      "0it [00:00, ?it/s]\n"
     ]
    },
    {
     "name": "stdout",
     "output_type": "stream",
     "text": [
      "Epoch = 20. Time index = 1. Threshold MC = 0.9. Threshold MD = 0.6\n",
      "RD = 0 NZ = 0 NZA = 0 pNZ = 0.000% pNZA = 0.000% AD = 0.00% ADA = 0.00% NO = 1 GSP = 0.00% NSP = 0.00%\n",
      "SI2 = -0.55 SI = -0.55 eGROI = 0.00% eROI = 0.00% eROI2 = 0.00% eROI3 = 0.00% mSpread = 0.0000%\n"
     ]
    },
    {
     "name": "stderr",
     "output_type": "stream",
     "text": [
      "0it [00:00, ?it/s]\n"
     ]
    },
    {
     "name": "stdout",
     "output_type": "stream",
     "text": [
      "Epoch = 20. Time index = 1. Threshold MC = 0.9. Threshold MD = 0.7\n",
      "RD = 0 NZ = 0 NZA = 0 pNZ = 0.000% pNZA = 0.000% AD = 0.00% ADA = 0.00% NO = 1 GSP = 0.00% NSP = 0.00%\n",
      "SI2 = -0.55 SI = -0.55 eGROI = 0.00% eROI = 0.00% eROI2 = 0.00% eROI3 = 0.00% mSpread = 0.0000%\n"
     ]
    },
    {
     "name": "stderr",
     "output_type": "stream",
     "text": [
      "0it [00:00, ?it/s]\n"
     ]
    },
    {
     "name": "stdout",
     "output_type": "stream",
     "text": [
      "Epoch = 20. Time index = 1. Threshold MC = 0.9. Threshold MD = 0.8\n",
      "RD = 0 NZ = 0 NZA = 0 pNZ = 0.000% pNZA = 0.000% AD = 0.00% ADA = 0.00% NO = 1 GSP = 0.00% NSP = 0.00%\n",
      "SI2 = -0.55 SI = -0.55 eGROI = 0.00% eROI = 0.00% eROI2 = 0.00% eROI3 = 0.00% mSpread = 0.0000%\n"
     ]
    },
    {
     "name": "stderr",
     "output_type": "stream",
     "text": [
      "0it [00:00, ?it/s]\n"
     ]
    },
    {
     "name": "stdout",
     "output_type": "stream",
     "text": [
      "Epoch = 20. Time index = 1. Threshold MC = 0.9. Threshold MD = 0.9\n",
      "RD = 0 NZ = 0 NZA = 0 pNZ = 0.000% pNZA = 0.000% AD = 0.00% ADA = 0.00% NO = 1 GSP = 0.00% NSP = 0.00%\n",
      "SI2 = -0.55 SI = -0.55 eGROI = 0.00% eROI = 0.00% eROI2 = 0.00% eROI3 = 0.00% mSpread = 0.0000%\n",
      "\n"
     ]
    },
    {
     "name": "stderr",
     "output_type": "stream",
     "text": [
      "0it [00:00, ?it/s]\n"
     ]
    },
    {
     "name": "stdout",
     "output_type": "stream",
     "text": [
      "Epoch = 20. Time index = 2. Threshold MC = 0.5. Threshold MD = 0.5\n",
      "J_test = 6.329522588978643, J_train = 6.500109694373853, Accuracy=0.5452276551644291\n",
      "RD = 263683 NZ = 506678 NZA = 967333 pNZ = 44.108% pNZA = 84.209% AD = 52.04% ADA = 27.26% NO = 1 GSP = 0.00% NSP = 0.00%\n",
      "SI2 = -0.55 SI = -0.55 eGROI = 0.00% eROI = 0.00% eROI2 = 0.00% eROI3 = 0.00% mSpread = 0.0000%\n"
     ]
    },
    {
     "name": "stderr",
     "output_type": "stream",
     "text": [
      "100%|████████████████████████████████████████████████████████████████████████████████████████████████████████████████████████████████| 16159/16159 [00:03<00:00, 5202.96it/s]\n"
     ]
    },
    {
     "name": "stdout",
     "output_type": "stream",
     "text": [
      "Epoch = 20. Time index = 2. Threshold MC = 0.5. Threshold MD = 0.6\n",
      "RD = 12058 NZ = 18820 NZA = 38477 pNZ = 1.638% pNZA = 3.350% AD = 64.07% ADA = 31.34% NO = 3056 GSP = 60.67% NSP = 44.04%\n",
      "SI2 = -144.80 SI = -334.80 eGROI = 46.33% eROI = -42.09% eROI2 = -14.79% eROI3 = -45.35% mSpread = 0.0289%\n"
     ]
    },
    {
     "name": "stderr",
     "output_type": "stream",
     "text": [
      "100%|██████████████████████████████████████████████████████████████████████████████████████████████████████████████████████████████████| 1964/1964 [00:00<00:00, 4465.36it/s]\n"
     ]
    },
    {
     "name": "stdout",
     "output_type": "stream",
     "text": [
      "Epoch = 20. Time index = 2. Threshold MC = 0.5. Threshold MD = 0.7\n",
      "RD = 2428 NZ = 3246 NZA = 7127 pNZ = 0.283% pNZA = 0.620% AD = 74.80% ADA = 34.07% NO = 490 GSP = 67.76% NSP = 42.04%\n",
      "SI2 = -6.50 SI = -63.50 eGROI = 8.50% eROI = -9.61% eROI2 = -1.30% eROI3 = -6.20% mSpread = 0.0369%\n"
     ]
    },
    {
     "name": "stderr",
     "output_type": "stream",
     "text": [
      "100%|████████████████████████████████████████████████████████████████████████████████████████████████████████████████████████████████████████| 9/9 [00:00<00:00, 1804.52it/s]\n"
     ]
    },
    {
     "name": "stdout",
     "output_type": "stream",
     "text": [
      "Epoch = 20. Time index = 2. Threshold MC = 0.5. Threshold MD = 0.8\n",
      "RD = 409 NZ = 470 NZA = 982 pNZ = 0.041% pNZA = 0.085% AD = 87.02% ADA = 41.65% NO = 7 GSP = 85.71% NSP = 42.86%\n",
      "SI2 = -2.85 SI = -0.85 eGROI = 0.15% eROI = -0.15% eROI2 = 0.01% eROI3 = -0.06% mSpread = 0.0433%\n"
     ]
    },
    {
     "name": "stderr",
     "output_type": "stream",
     "text": [
      "0it [00:00, ?it/s]\n"
     ]
    },
    {
     "name": "stdout",
     "output_type": "stream",
     "text": [
      "Epoch = 20. Time index = 2. Threshold MC = 0.5. Threshold MD = 0.9\n",
      "RD = 4 NZ = 4 NZA = 6 pNZ = 0.000% pNZA = 0.001% AD = 100.00% ADA = 66.67% NO = 1 GSP = 0.00% NSP = 0.00%\n",
      "SI2 = -0.55 SI = -0.55 eGROI = 0.00% eROI = 0.00% eROI2 = 0.00% eROI3 = 0.00% mSpread = 0.0000%\n",
      "\n"
     ]
    },
    {
     "name": "stderr",
     "output_type": "stream",
     "text": [
      "0it [00:00, ?it/s]\n"
     ]
    },
    {
     "name": "stdout",
     "output_type": "stream",
     "text": [
      "Epoch = 20. Time index = 2. Threshold MC = 0.6. Threshold MD = 0.5\n",
      "RD = 85881 NZ = 161953 NZA = 268635 pNZ = 14.098% pNZA = 23.385% AD = 53.03% ADA = 31.97% NO = 1 GSP = 0.00% NSP = 0.00%\n",
      "SI2 = -0.55 SI = -0.55 eGROI = 0.00% eROI = 0.00% eROI2 = 0.00% eROI3 = 0.00% mSpread = 0.0000%\n"
     ]
    },
    {
     "name": "stderr",
     "output_type": "stream",
     "text": [
      "100%|████████████████████████████████████████████████████████████████████████████████████████████████████████████████████████████████| 11568/11568 [00:02<00:00, 4885.77it/s]\n"
     ]
    },
    {
     "name": "stdout",
     "output_type": "stream",
     "text": [
      "Epoch = 20. Time index = 2. Threshold MC = 0.6. Threshold MD = 0.6\n",
      "RD = 6899 NZ = 10609 NZA = 18608 pNZ = 0.924% pNZA = 1.620% AD = 65.03% ADA = 37.08% NO = 2482 GSP = 61.16% NSP = 45.81%\n",
      "SI2 = -94.10 SI = -228.10 eGROI = 36.68% eROI = -31.98% eROI2 = -12.96% eROI3 = -37.78% mSpread = 0.0277%\n"
     ]
    },
    {
     "name": "stderr",
     "output_type": "stream",
     "text": [
      "100%|██████████████████████████████████████████████████████████████████████████████████████████████████████████████████████████████████| 1751/1751 [00:00<00:00, 4596.01it/s]\n"
     ]
    },
    {
     "name": "stdout",
     "output_type": "stream",
     "text": [
      "Epoch = 20. Time index = 2. Threshold MC = 0.6. Threshold MD = 0.7\n",
      "RD = 1362 NZ = 1833 NZA = 3472 pNZ = 0.160% pNZA = 0.302% AD = 74.30% ADA = 39.23% NO = 437 GSP = 67.05% NSP = 42.79%\n",
      "SI2 = -6.35 SI = -53.35 eGROI = 7.47% eROI = -8.30% eROI2 = -1.27% eROI3 = -5.64% mSpread = 0.0361%\n"
     ]
    },
    {
     "name": "stderr",
     "output_type": "stream",
     "text": [
      "100%|████████████████████████████████████████████████████████████████████████████████████████████████████████████████████████████████████████| 9/9 [00:00<00:00, 2256.75it/s]\n"
     ]
    },
    {
     "name": "stdout",
     "output_type": "stream",
     "text": [
      "Epoch = 20. Time index = 2. Threshold MC = 0.6. Threshold MD = 0.8\n",
      "RD = 249 NZ = 278 NZA = 442 pNZ = 0.024% pNZA = 0.038% AD = 89.57% ADA = 56.33% NO = 7 GSP = 85.71% NSP = 42.86%\n",
      "SI2 = -2.85 SI = -0.85 eGROI = 0.15% eROI = -0.15% eROI2 = 0.01% eROI3 = -0.06% mSpread = 0.0433%\n"
     ]
    },
    {
     "name": "stderr",
     "output_type": "stream",
     "text": [
      "0it [00:00, ?it/s]\n"
     ]
    },
    {
     "name": "stdout",
     "output_type": "stream",
     "text": [
      "Epoch = 20. Time index = 2. Threshold MC = 0.6. Threshold MD = 0.9\n",
      "RD = 4 NZ = 4 NZA = 6 pNZ = 0.000% pNZA = 0.001% AD = 100.00% ADA = 66.67% NO = 1 GSP = 0.00% NSP = 0.00%\n",
      "SI2 = -0.55 SI = -0.55 eGROI = 0.00% eROI = 0.00% eROI2 = 0.00% eROI3 = 0.00% mSpread = 0.0000%\n",
      "\n"
     ]
    },
    {
     "name": "stderr",
     "output_type": "stream",
     "text": [
      "100%|████████████████████████████████████████████████████████████████████████████████████████████████████████████████████████████████| 10001/10001 [00:02<00:00, 4562.19it/s]\n"
     ]
    },
    {
     "name": "stdout",
     "output_type": "stream",
     "text": [
      "Epoch = 20. Time index = 2. Threshold MC = 0.7. Threshold MD = 0.5\n",
      "RD = 6050 NZ = 10786 NZA = 14990 pNZ = 0.939% pNZA = 1.305% AD = 56.09% ADA = 40.36% NO = 1988 GSP = 54.18% NSP = 45.82%\n",
      "SI2 = -145.40 SI = -182.40 eGROI = 10.48% eROI = -31.70% eROI2 = -29.28% eROI3 = -49.16% mSpread = 0.0212%\n"
     ]
    },
    {
     "name": "stderr",
     "output_type": "stream",
     "text": [
      "100%|██████████████████████████████████████████████████████████████████████████████████████████████████████████████████████████████████| 2989/2989 [00:00<00:00, 4139.44it/s]\n"
     ]
    },
    {
     "name": "stdout",
     "output_type": "stream",
     "text": [
      "Epoch = 20. Time index = 2. Threshold MC = 0.7. Threshold MD = 0.6\n",
      "RD = 1788 NZ = 2778 NZA = 3955 pNZ = 0.242% pNZA = 0.344% AD = 64.36% ADA = 45.21% NO = 855 GSP = 61.75% NSP = 50.88%\n",
      "SI2 = -7.25 SI = -35.25 eGROI = 12.90% eROI = -6.75% eROI2 = -4.20% eROI3 = -12.75% mSpread = 0.0230%\n"
     ]
    },
    {
     "name": "stderr",
     "output_type": "stream",
     "text": [
      "100%|████████████████████████████████████████████████████████████████████████████████████████████████████████████████████████████████████| 228/228 [00:00<00:00, 1905.05it/s]\n"
     ]
    },
    {
     "name": "stdout",
     "output_type": "stream",
     "text": [
      "Epoch = 20. Time index = 2. Threshold MC = 0.7. Threshold MD = 0.7\n",
      "RD = 344 NZ = 469 NZA = 675 pNZ = 0.041% pNZA = 0.059% AD = 73.35% ADA = 50.96% NO = 110 GSP = 61.82% NSP = 40.00%\n",
      "SI2 = -3.50 SI = -16.50 eGROI = 0.73% eROI = -2.65% eROI2 = -1.47% eROI3 = -2.57% mSpread = 0.0308%\n"
     ]
    },
    {
     "name": "stderr",
     "output_type": "stream",
     "text": [
      "0it [00:00, ?it/s]\n"
     ]
    },
    {
     "name": "stdout",
     "output_type": "stream",
     "text": [
      "Epoch = 20. Time index = 2. Threshold MC = 0.7. Threshold MD = 0.8\n",
      "RD = 119 NZ = 132 NZA = 171 pNZ = 0.011% pNZA = 0.015% AD = 90.15% ADA = 69.59% NO = 1 GSP = 100.00% NSP = 0.00%\n",
      "SI2 = -0.55 SI = -0.55 eGROI = 0.14% eROI = -0.00% eROI2 = 0.12% eROI3 = 0.11% mSpread = 0.1397%\n"
     ]
    },
    {
     "name": "stderr",
     "output_type": "stream",
     "text": [
      "0it [00:00, ?it/s]\n"
     ]
    },
    {
     "name": "stdout",
     "output_type": "stream",
     "text": [
      "Epoch = 20. Time index = 2. Threshold MC = 0.7. Threshold MD = 0.9\n",
      "RD = 3 NZ = 3 NZA = 4 pNZ = 0.000% pNZA = 0.000% AD = 100.00% ADA = 75.00% NO = 1 GSP = 0.00% NSP = 0.00%\n",
      "SI2 = -0.55 SI = -0.55 eGROI = 0.00% eROI = 0.00% eROI2 = 0.00% eROI3 = 0.00% mSpread = 0.0000%\n",
      "\n"
     ]
    },
    {
     "name": "stderr",
     "output_type": "stream",
     "text": [
      "100%|████████████████████████████████████████████████████████████████████████████████████████████████████████████████████████████████████| 725/725 [00:00<00:00, 3884.35it/s]\n"
     ]
    },
    {
     "name": "stdout",
     "output_type": "stream",
     "text": [
      "Epoch = 20. Time index = 2. Threshold MC = 0.8. Threshold MD = 0.5\n",
      "RD = 419 NZ = 706 NZA = 895 pNZ = 0.061% pNZA = 0.078% AD = 59.35% ADA = 46.82% NO = 380 GSP = 54.74% NSP = 49.47%\n",
      "SI2 = -18.00 SI = -21.00 eGROI = 6.51% eROI = -1.77% eROI2 = -1.09% eROI3 = -4.89% mSpread = 0.0218%\n"
     ]
    },
    {
     "name": "stderr",
     "output_type": "stream",
     "text": [
      "100%|████████████████████████████████████████████████████████████████████████████████████████████████████████████████████████████████████| 290/290 [00:00<00:00, 3681.21it/s]\n"
     ]
    },
    {
     "name": "stdout",
     "output_type": "stream",
     "text": [
      "Epoch = 20. Time index = 2. Threshold MC = 0.8. Threshold MD = 0.6\n",
      "RD = 195 NZ = 304 NZA = 385 pNZ = 0.026% pNZA = 0.034% AD = 64.14% ADA = 50.65% NO = 161 GSP = 59.63% NSP = 54.04%\n",
      "SI2 = 1.45 SI = -1.55 eGROI = 2.84% eROI = -0.64% eROI2 = -0.38% eROI3 = -1.99% mSpread = 0.0217%\n"
     ]
    },
    {
     "name": "stderr",
     "output_type": "stream",
     "text": [
      "100%|████████████████████████████████████████████████████████████████████████████████████████████████████████████████████████████████████████| 4/4 [00:00<00:00, 1352.02it/s]\n"
     ]
    },
    {
     "name": "stdout",
     "output_type": "stream",
     "text": [
      "Epoch = 20. Time index = 2. Threshold MC = 0.8. Threshold MD = 0.7\n",
      "RD = 43 NZ = 53 NZA = 70 pNZ = 0.005% pNZA = 0.006% AD = 81.13% ADA = 61.43% NO = 4 GSP = 100.00% NSP = 50.00%\n",
      "SI2 = 0.80 SI = -0.20 eGROI = 0.35% eROI = 0.16% eROI2 = 0.27% eROI3 = 0.23% mSpread = 0.0480%\n"
     ]
    },
    {
     "name": "stderr",
     "output_type": "stream",
     "text": [
      "0it [00:00, ?it/s]\n"
     ]
    },
    {
     "name": "stdout",
     "output_type": "stream",
     "text": [
      "Epoch = 20. Time index = 2. Threshold MC = 0.8. Threshold MD = 0.8\n",
      "RD = 19 NZ = 23 NZA = 29 pNZ = 0.002% pNZA = 0.003% AD = 82.61% ADA = 65.52% NO = 1 GSP = 0.00% NSP = 0.00%\n",
      "SI2 = -0.55 SI = -0.55 eGROI = 0.00% eROI = 0.00% eROI2 = 0.00% eROI3 = 0.00% mSpread = 0.0000%\n"
     ]
    },
    {
     "name": "stderr",
     "output_type": "stream",
     "text": [
      "0it [00:00, ?it/s]\n"
     ]
    },
    {
     "name": "stdout",
     "output_type": "stream",
     "text": [
      "Epoch = 20. Time index = 2. Threshold MC = 0.8. Threshold MD = 0.9\n",
      "RD = 1 NZ = 1 NZA = 1 pNZ = 0.000% pNZA = 0.000% AD = 100.00% ADA = 100.00% NO = 1 GSP = 0.00% NSP = 0.00%\n",
      "SI2 = -0.55 SI = -0.55 eGROI = 0.00% eROI = 0.00% eROI2 = 0.00% eROI3 = 0.00% mSpread = 0.0000%\n",
      "\n"
     ]
    },
    {
     "name": "stderr",
     "output_type": "stream",
     "text": [
      "0it [00:00, ?it/s]\n"
     ]
    },
    {
     "name": "stdout",
     "output_type": "stream",
     "text": [
      "Epoch = 20. Time index = 2. Threshold MC = 0.9. Threshold MD = 0.5\n",
      "RD = 0 NZ = 0 NZA = 0 pNZ = 0.000% pNZA = 0.000% AD = 0.00% ADA = 0.00% NO = 1 GSP = 0.00% NSP = 0.00%\n",
      "SI2 = -0.55 SI = -0.55 eGROI = 0.00% eROI = 0.00% eROI2 = 0.00% eROI3 = 0.00% mSpread = 0.0000%\n"
     ]
    },
    {
     "name": "stderr",
     "output_type": "stream",
     "text": [
      "0it [00:00, ?it/s]\n"
     ]
    },
    {
     "name": "stdout",
     "output_type": "stream",
     "text": [
      "Epoch = 20. Time index = 2. Threshold MC = 0.9. Threshold MD = 0.6\n",
      "RD = 0 NZ = 0 NZA = 0 pNZ = 0.000% pNZA = 0.000% AD = 0.00% ADA = 0.00% NO = 1 GSP = 0.00% NSP = 0.00%\n",
      "SI2 = -0.55 SI = -0.55 eGROI = 0.00% eROI = 0.00% eROI2 = 0.00% eROI3 = 0.00% mSpread = 0.0000%\n"
     ]
    },
    {
     "name": "stderr",
     "output_type": "stream",
     "text": [
      "0it [00:00, ?it/s]\n"
     ]
    },
    {
     "name": "stdout",
     "output_type": "stream",
     "text": [
      "Epoch = 20. Time index = 2. Threshold MC = 0.9. Threshold MD = 0.7\n",
      "RD = 0 NZ = 0 NZA = 0 pNZ = 0.000% pNZA = 0.000% AD = 0.00% ADA = 0.00% NO = 1 GSP = 0.00% NSP = 0.00%\n",
      "SI2 = -0.55 SI = -0.55 eGROI = 0.00% eROI = 0.00% eROI2 = 0.00% eROI3 = 0.00% mSpread = 0.0000%\n"
     ]
    },
    {
     "name": "stderr",
     "output_type": "stream",
     "text": [
      "0it [00:00, ?it/s]\n"
     ]
    },
    {
     "name": "stdout",
     "output_type": "stream",
     "text": [
      "Epoch = 20. Time index = 2. Threshold MC = 0.9. Threshold MD = 0.8\n",
      "RD = 0 NZ = 0 NZA = 0 pNZ = 0.000% pNZA = 0.000% AD = 0.00% ADA = 0.00% NO = 1 GSP = 0.00% NSP = 0.00%\n",
      "SI2 = -0.55 SI = -0.55 eGROI = 0.00% eROI = 0.00% eROI2 = 0.00% eROI3 = 0.00% mSpread = 0.0000%\n"
     ]
    },
    {
     "name": "stderr",
     "output_type": "stream",
     "text": [
      "0it [00:00, ?it/s]\n"
     ]
    },
    {
     "name": "stdout",
     "output_type": "stream",
     "text": [
      "Epoch = 20. Time index = 2. Threshold MC = 0.9. Threshold MD = 0.9\n",
      "RD = 0 NZ = 0 NZA = 0 pNZ = 0.000% pNZA = 0.000% AD = 0.00% ADA = 0.00% NO = 1 GSP = 0.00% NSP = 0.00%\n",
      "SI2 = -0.55 SI = -0.55 eGROI = 0.00% eROI = 0.00% eROI2 = 0.00% eROI3 = 0.00% mSpread = 0.0000%\n",
      "\n"
     ]
    },
    {
     "name": "stderr",
     "output_type": "stream",
     "text": [
      "0it [00:00, ?it/s]\n"
     ]
    },
    {
     "name": "stdout",
     "output_type": "stream",
     "text": [
      "Epoch = 20. Time index = 3. Threshold MC = 0.5. Threshold MD = 0.5\n",
      "J_test = 6.329522588978643, J_train = 6.500109694373853, Accuracy=0.5449194895593668\n",
      "RD = 263187 NZ = 505609 NZA = 965549 pNZ = 44.014% pNZA = 84.053% AD = 52.05% ADA = 27.26% NO = 1 GSP = 0.00% NSP = 0.00%\n",
      "SI2 = -0.55 SI = -0.55 eGROI = 0.00% eROI = 0.00% eROI2 = 0.00% eROI3 = 0.00% mSpread = 0.0000%\n"
     ]
    },
    {
     "name": "stderr",
     "output_type": "stream",
     "text": [
      "100%|████████████████████████████████████████████████████████████████████████████████████████████████████████████████████████████████| 16883/16883 [00:03<00:00, 4850.41it/s]\n"
     ]
    },
    {
     "name": "stdout",
     "output_type": "stream",
     "text": [
      "Epoch = 20. Time index = 3. Threshold MC = 0.5. Threshold MD = 0.6\n",
      "RD = 12311 NZ = 19449 NZA = 39041 pNZ = 1.693% pNZA = 3.399% AD = 63.30% ADA = 31.53% NO = 3188 GSP = 60.04% NSP = 44.32%\n",
      "SI2 = -155.40 SI = -340.40 eGROI = 45.25% eROI = -44.42% eROI2 = -18.51% eROI3 = -50.39% mSpread = 0.0281%\n"
     ]
    },
    {
     "name": "stderr",
     "output_type": "stream",
     "text": [
      "100%|██████████████████████████████████████████████████████████████████████████████████████████████████████████████████████████████████| 2035/2035 [00:00<00:00, 4445.06it/s]\n"
     ]
    },
    {
     "name": "stdout",
     "output_type": "stream",
     "text": [
      "Epoch = 20. Time index = 3. Threshold MC = 0.5. Threshold MD = 0.7\n",
      "RD = 2287 NZ = 3082 NZA = 6585 pNZ = 0.268% pNZA = 0.573% AD = 74.21% ADA = 34.73% NO = 514 GSP = 67.90% NSP = 41.44%\n",
      "SI2 = -4.70 SI = -69.70 eGROI = 9.12% eROI = -9.81% eROI2 = -1.16% eROI3 = -6.30% mSpread = 0.0368%\n"
     ]
    },
    {
     "name": "stderr",
     "output_type": "stream",
     "text": [
      "100%|████████████████████████████████████████████████████████████████████████████████████████████████████████████████████████████████████| 109/109 [00:00<00:00, 4550.99it/s]\n"
     ]
    },
    {
     "name": "stdout",
     "output_type": "stream",
     "text": [
      "Epoch = 20. Time index = 3. Threshold MC = 0.5. Threshold MD = 0.8\n",
      "RD = 364 NZ = 430 NZA = 946 pNZ = 0.037% pNZA = 0.082% AD = 84.65% ADA = 38.48% NO = 34 GSP = 47.06% NSP = 35.29%\n",
      "SI2 = -4.70 SI = -6.70 eGROI = -0.17% eROI = -1.48% eROI2 = -0.85% eROI3 = -1.19% mSpread = 0.0386%\n"
     ]
    },
    {
     "name": "stderr",
     "output_type": "stream",
     "text": [
      "0it [00:00, ?it/s]\n"
     ]
    },
    {
     "name": "stdout",
     "output_type": "stream",
     "text": [
      "Epoch = 20. Time index = 3. Threshold MC = 0.5. Threshold MD = 0.9\n",
      "RD = 3 NZ = 3 NZA = 5 pNZ = 0.000% pNZA = 0.000% AD = 100.00% ADA = 60.00% NO = 1 GSP = 0.00% NSP = 0.00%\n",
      "SI2 = -0.55 SI = -0.55 eGROI = 0.00% eROI = 0.00% eROI2 = 0.00% eROI3 = 0.00% mSpread = 0.0000%\n",
      "\n"
     ]
    },
    {
     "name": "stderr",
     "output_type": "stream",
     "text": [
      "0it [00:00, ?it/s]\n"
     ]
    },
    {
     "name": "stdout",
     "output_type": "stream",
     "text": [
      "Epoch = 20. Time index = 3. Threshold MC = 0.6. Threshold MD = 0.5\n",
      "RD = 86018 NZ = 162161 NZA = 269738 pNZ = 14.117% pNZA = 23.481% AD = 53.04% ADA = 31.89% NO = 1 GSP = 0.00% NSP = 0.00%\n",
      "SI2 = -0.55 SI = -0.55 eGROI = 0.00% eROI = 0.00% eROI2 = 0.00% eROI3 = 0.00% mSpread = 0.0000%\n"
     ]
    },
    {
     "name": "stderr",
     "output_type": "stream",
     "text": [
      "100%|████████████████████████████████████████████████████████████████████████████████████████████████████████████████████████████████| 12396/12396 [00:02<00:00, 5015.74it/s]\n"
     ]
    },
    {
     "name": "stdout",
     "output_type": "stream",
     "text": [
      "Epoch = 20. Time index = 3. Threshold MC = 0.6. Threshold MD = 0.6\n",
      "RD = 7277 NZ = 11318 NZA = 19855 pNZ = 0.985% pNZA = 1.728% AD = 64.30% ADA = 36.65% NO = 2611 GSP = 60.90% NSP = 45.88%\n",
      "SI2 = -94.05 SI = -238.05 eGROI = 39.31% eROI = -32.99% eROI2 = -12.91% eROI3 = -39.02% mSpread = 0.0277%\n"
     ]
    },
    {
     "name": "stderr",
     "output_type": "stream",
     "text": [
      "100%|██████████████████████████████████████████████████████████████████████████████████████████████████████████████████████████████████| 1776/1776 [00:00<00:00, 4786.53it/s]\n"
     ]
    },
    {
     "name": "stdout",
     "output_type": "stream",
     "text": [
      "Epoch = 20. Time index = 3. Threshold MC = 0.6. Threshold MD = 0.7\n",
      "RD = 1356 NZ = 1850 NZA = 3482 pNZ = 0.161% pNZA = 0.303% AD = 73.30% ADA = 38.94% NO = 458 GSP = 67.47% NSP = 43.01%\n",
      "SI2 = 0.10 SI = -54.90 eGROI = 8.22% eROI = -8.19% eROI2 = -0.94% eROI3 = -5.52% mSpread = 0.0358%\n"
     ]
    },
    {
     "name": "stderr",
     "output_type": "stream",
     "text": [
      "100%|████████████████████████████████████████████████████████████████████████████████████████████████████████████████████████████████████| 108/108 [00:00<00:00, 2849.66it/s]\n"
     ]
    },
    {
     "name": "stdout",
     "output_type": "stream",
     "text": [
      "Epoch = 20. Time index = 3. Threshold MC = 0.6. Threshold MD = 0.8\n",
      "RD = 207 NZ = 249 NZA = 457 pNZ = 0.022% pNZA = 0.040% AD = 83.13% ADA = 45.30% NO = 33 GSP = 45.45% NSP = 33.33%\n",
      "SI2 = -5.15 SI = -7.15 eGROI = -0.23% eROI = -1.49% eROI2 = -0.89% eROI3 = -1.22% mSpread = 0.0382%\n"
     ]
    },
    {
     "name": "stderr",
     "output_type": "stream",
     "text": [
      "0it [00:00, ?it/s]\n"
     ]
    },
    {
     "name": "stdout",
     "output_type": "stream",
     "text": [
      "Epoch = 20. Time index = 3. Threshold MC = 0.6. Threshold MD = 0.9\n",
      "RD = 3 NZ = 3 NZA = 4 pNZ = 0.000% pNZA = 0.000% AD = 100.00% ADA = 75.00% NO = 1 GSP = 0.00% NSP = 0.00%\n",
      "SI2 = -0.55 SI = -0.55 eGROI = 0.00% eROI = 0.00% eROI2 = 0.00% eROI3 = 0.00% mSpread = 0.0000%\n",
      "\n"
     ]
    },
    {
     "name": "stderr",
     "output_type": "stream",
     "text": [
      "100%|████████████████████████████████████████████████████████████████████████████████████████████████████████████████████████████████| 10094/10094 [00:01<00:00, 5067.95it/s]\n"
     ]
    },
    {
     "name": "stdout",
     "output_type": "stream",
     "text": [
      "Epoch = 20. Time index = 3. Threshold MC = 0.7. Threshold MD = 0.5\n",
      "RD = 6006 NZ = 10700 NZA = 14996 pNZ = 0.931% pNZA = 1.305% AD = 56.13% ADA = 40.05% NO = 1975 GSP = 54.48% NSP = 45.97%\n",
      "SI2 = -141.25 SI = -178.25 eGROI = 15.43% eROI = -27.43% eROI2 = -24.07% eROI3 = -43.82% mSpread = 0.0217%\n"
     ]
    },
    {
     "name": "stderr",
     "output_type": "stream",
     "text": [
      "100%|██████████████████████████████████████████████████████████████████████████████████████████████████████████████████████████████████| 3249/3249 [00:00<00:00, 4898.72it/s]\n"
     ]
    },
    {
     "name": "stdout",
     "output_type": "stream",
     "text": [
      "Epoch = 20. Time index = 3. Threshold MC = 0.7. Threshold MD = 0.6\n",
      "RD = 1850 NZ = 2887 NZA = 4172 pNZ = 0.251% pNZA = 0.363% AD = 64.08% ADA = 44.34% NO = 891 GSP = 62.74% NSP = 51.07%\n",
      "SI2 = -10.05 SI = -35.05 eGROI = 16.91% eROI = -4.01% eROI2 = -0.91% eROI3 = -9.82% mSpread = 0.0235%\n"
     ]
    },
    {
     "name": "stderr",
     "output_type": "stream",
     "text": [
      "100%|████████████████████████████████████████████████████████████████████████████████████████████████████████████████████████████████████| 289/289 [00:00<00:00, 3668.26it/s]\n"
     ]
    },
    {
     "name": "stdout",
     "output_type": "stream",
     "text": [
      "Epoch = 20. Time index = 3. Threshold MC = 0.7. Threshold MD = 0.7\n",
      "RD = 358 NZ = 492 NZA = 724 pNZ = 0.043% pNZA = 0.063% AD = 72.76% ADA = 49.45% NO = 130 GSP = 64.62% NSP = 44.62%\n",
      "SI2 = -6.50 SI = -13.50 eGROI = 0.74% eROI = -3.24% eROI2 = -1.86% eROI3 = -3.16% mSpread = 0.0306%\n"
     ]
    },
    {
     "name": "stderr",
     "output_type": "stream",
     "text": [
      "100%|██████████████████████████████████████████████████████████████████████████████████████████████████████████████████████████████████████| 12/12 [00:00<00:00, 2406.49it/s]\n"
     ]
    },
    {
     "name": "stdout",
     "output_type": "stream",
     "text": [
      "Epoch = 20. Time index = 3. Threshold MC = 0.7. Threshold MD = 0.8\n",
      "RD = 95 NZ = 108 NZA = 139 pNZ = 0.009% pNZA = 0.012% AD = 87.96% ADA = 68.35% NO = 9 GSP = 66.67% NSP = 44.44%\n",
      "SI2 = -0.95 SI = -0.95 eGROI = 0.53% eROI = 0.11% eROI2 = 0.35% eROI3 = 0.26% mSpread = 0.0463%\n"
     ]
    },
    {
     "name": "stderr",
     "output_type": "stream",
     "text": [
      "0it [00:00, ?it/s]\n"
     ]
    },
    {
     "name": "stdout",
     "output_type": "stream",
     "text": [
      "Epoch = 20. Time index = 3. Threshold MC = 0.7. Threshold MD = 0.9\n",
      "RD = 3 NZ = 3 NZA = 3 pNZ = 0.000% pNZA = 0.000% AD = 100.00% ADA = 100.00% NO = 1 GSP = 0.00% NSP = 0.00%\n",
      "SI2 = -0.55 SI = -0.55 eGROI = 0.00% eROI = 0.00% eROI2 = 0.00% eROI3 = 0.00% mSpread = 0.0000%\n",
      "\n"
     ]
    },
    {
     "name": "stderr",
     "output_type": "stream",
     "text": [
      "100%|████████████████████████████████████████████████████████████████████████████████████████████████████████████████████████████████████| 668/668 [00:00<00:00, 3894.04it/s]\n"
     ]
    },
    {
     "name": "stdout",
     "output_type": "stream",
     "text": [
      "Epoch = 20. Time index = 3. Threshold MC = 0.8. Threshold MD = 0.5\n",
      "RD = 393 NZ = 643 NZA = 811 pNZ = 0.056% pNZA = 0.071% AD = 61.12% ADA = 48.46% NO = 374 GSP = 55.88% NSP = 49.47%\n",
      "SI2 = -17.70 SI = -20.70 eGROI = 6.52% eROI = -1.76% eROI2 = -0.96% eROI3 = -4.70% mSpread = 0.0222%\n"
     ]
    },
    {
     "name": "stderr",
     "output_type": "stream",
     "text": [
      "100%|████████████████████████████████████████████████████████████████████████████████████████████████████████████████████████████████████| 267/267 [00:00<00:00, 2788.76it/s]\n"
     ]
    },
    {
     "name": "stdout",
     "output_type": "stream",
     "text": [
      "Epoch = 20. Time index = 3. Threshold MC = 0.8. Threshold MD = 0.6\n",
      "RD = 180 NZ = 268 NZA = 341 pNZ = 0.023% pNZA = 0.030% AD = 67.16% ADA = 52.79% NO = 162 GSP = 62.96% NSP = 56.17%\n",
      "SI2 = 5.90 SI = 1.90 eGROI = 4.74% eROI = 0.80% eROI2 = 1.50% eROI3 = -0.12% mSpread = 0.0243%\n"
     ]
    },
    {
     "name": "stderr",
     "output_type": "stream",
     "text": [
      "100%|██████████████████████████████████████████████████████████████████████████████████████████████████████████████████████████████████████| 13/13 [00:00<00:00, 2603.66it/s]\n"
     ]
    },
    {
     "name": "stdout",
     "output_type": "stream",
     "text": [
      "Epoch = 20. Time index = 3. Threshold MC = 0.8. Threshold MD = 0.7\n",
      "RD = 39 NZ = 46 NZA = 63 pNZ = 0.004% pNZA = 0.005% AD = 84.78% ADA = 61.90% NO = 11 GSP = 81.82% NSP = 63.64%\n",
      "SI2 = 0.95 SI = 0.95 eGROI = 0.42% eROI = 0.06% eROI2 = 0.20% eROI3 = 0.09% mSpread = 0.0324%\n"
     ]
    },
    {
     "name": "stderr",
     "output_type": "stream",
     "text": [
      "0it [00:00, ?it/s]\n"
     ]
    },
    {
     "name": "stdout",
     "output_type": "stream",
     "text": [
      "Epoch = 20. Time index = 3. Threshold MC = 0.8. Threshold MD = 0.8\n",
      "RD = 16 NZ = 18 NZA = 22 pNZ = 0.002% pNZA = 0.002% AD = 88.89% ADA = 72.73% NO = 1 GSP = 0.00% NSP = 0.00%\n",
      "SI2 = -0.55 SI = -0.55 eGROI = 0.00% eROI = 0.00% eROI2 = 0.00% eROI3 = 0.00% mSpread = 0.0000%\n"
     ]
    },
    {
     "name": "stderr",
     "output_type": "stream",
     "text": [
      "0it [00:00, ?it/s]\n"
     ]
    },
    {
     "name": "stdout",
     "output_type": "stream",
     "text": [
      "Epoch = 20. Time index = 3. Threshold MC = 0.8. Threshold MD = 0.9\n",
      "RD = 1 NZ = 1 NZA = 1 pNZ = 0.000% pNZA = 0.000% AD = 100.00% ADA = 100.00% NO = 1 GSP = 0.00% NSP = 0.00%\n",
      "SI2 = -0.55 SI = -0.55 eGROI = 0.00% eROI = 0.00% eROI2 = 0.00% eROI3 = 0.00% mSpread = 0.0000%\n",
      "\n"
     ]
    },
    {
     "name": "stderr",
     "output_type": "stream",
     "text": [
      "0it [00:00, ?it/s]\n"
     ]
    },
    {
     "name": "stdout",
     "output_type": "stream",
     "text": [
      "Epoch = 20. Time index = 3. Threshold MC = 0.9. Threshold MD = 0.5\n",
      "RD = 0 NZ = 0 NZA = 0 pNZ = 0.000% pNZA = 0.000% AD = 0.00% ADA = 0.00% NO = 1 GSP = 0.00% NSP = 0.00%\n",
      "SI2 = -0.55 SI = -0.55 eGROI = 0.00% eROI = 0.00% eROI2 = 0.00% eROI3 = 0.00% mSpread = 0.0000%\n"
     ]
    },
    {
     "name": "stderr",
     "output_type": "stream",
     "text": [
      "0it [00:00, ?it/s]\n"
     ]
    },
    {
     "name": "stdout",
     "output_type": "stream",
     "text": [
      "Epoch = 20. Time index = 3. Threshold MC = 0.9. Threshold MD = 0.6\n",
      "RD = 0 NZ = 0 NZA = 0 pNZ = 0.000% pNZA = 0.000% AD = 0.00% ADA = 0.00% NO = 1 GSP = 0.00% NSP = 0.00%\n",
      "SI2 = -0.55 SI = -0.55 eGROI = 0.00% eROI = 0.00% eROI2 = 0.00% eROI3 = 0.00% mSpread = 0.0000%\n"
     ]
    },
    {
     "name": "stderr",
     "output_type": "stream",
     "text": [
      "0it [00:00, ?it/s]\n"
     ]
    },
    {
     "name": "stdout",
     "output_type": "stream",
     "text": [
      "Epoch = 20. Time index = 3. Threshold MC = 0.9. Threshold MD = 0.7\n",
      "RD = 0 NZ = 0 NZA = 0 pNZ = 0.000% pNZA = 0.000% AD = 0.00% ADA = 0.00% NO = 1 GSP = 0.00% NSP = 0.00%\n",
      "SI2 = -0.55 SI = -0.55 eGROI = 0.00% eROI = 0.00% eROI2 = 0.00% eROI3 = 0.00% mSpread = 0.0000%\n"
     ]
    },
    {
     "name": "stderr",
     "output_type": "stream",
     "text": [
      "0it [00:00, ?it/s]\n"
     ]
    },
    {
     "name": "stdout",
     "output_type": "stream",
     "text": [
      "Epoch = 20. Time index = 3. Threshold MC = 0.9. Threshold MD = 0.8\n",
      "RD = 0 NZ = 0 NZA = 0 pNZ = 0.000% pNZA = 0.000% AD = 0.00% ADA = 0.00% NO = 1 GSP = 0.00% NSP = 0.00%\n",
      "SI2 = -0.55 SI = -0.55 eGROI = 0.00% eROI = 0.00% eROI2 = 0.00% eROI3 = 0.00% mSpread = 0.0000%\n"
     ]
    },
    {
     "name": "stderr",
     "output_type": "stream",
     "text": [
      "0it [00:00, ?it/s]\n"
     ]
    },
    {
     "name": "stdout",
     "output_type": "stream",
     "text": [
      "Epoch = 20. Time index = 3. Threshold MC = 0.9. Threshold MD = 0.9\n",
      "RD = 0 NZ = 0 NZA = 0 pNZ = 0.000% pNZA = 0.000% AD = 0.00% ADA = 0.00% NO = 1 GSP = 0.00% NSP = 0.00%\n",
      "SI2 = -0.55 SI = -0.55 eGROI = 0.00% eROI = 0.00% eROI2 = 0.00% eROI3 = 0.00% mSpread = 0.0000%\n",
      "\n",
      "Best eGROI = 46.33 t_index 2 thr_mc 0.5 thr_md 0.6 epoch 20 in 3056\n",
      "Best eROI = 1.54 t_index 0 thr_mc 0.8 thr_md 0.6 epoch 20 in 99\n",
      "Best eROI.5 = 31.05 t_index 2 thr_mc 0.5 thr_md 0.6 epoch 20 in 3056\n",
      "Best eROI1 = 16.74 t_index 1 thr_mc 0.5 thr_md 0.6 epoch 20 in 2830\n",
      "Best eROI1.5 = 3.55 t_index 3 thr_mc 0.7 thr_md 0.6 epoch 20 in 891\n",
      "Best eROI2 = 1.50 t_index 3 thr_mc 0.8 thr_md 0.6 epoch 20 in 162\n",
      "Best eROI3 = 0.44 t_index 0 thr_mc 0.8 thr_md 0.6 epoch 20 in 99\n",
      "Best eROI4 = 0.19 t_index 2 thr_mc 0.8 thr_md 0.7 epoch 20 in 4\n",
      "Best eROI5 = 0.15 t_index 2 thr_mc 0.8 thr_md 0.7 epoch 20 in 4\n",
      "Best SI = 5.55 t_index 0 thr_mc 0.8 thr_md 0.6 epoch 20 in 99\n",
      "Best SI.5 = 135.50 t_index 1 thr_mc 0.5 thr_md 0.6 epoch 20 in 2830\n",
      "Best SI1 = 71.85 t_index 0 thr_mc 0.5 thr_md 0.6 epoch 20 in 2413\n",
      "Best SI1.5 = 19.15 t_index 0 thr_mc 0.6 thr_md 0.6 epoch 20 in 1527\n",
      "Best SI2 = 5.90 t_index 3 thr_mc 0.8 thr_md 0.6 epoch 20 in 162\n",
      "Best SI3 = 3.55 t_index 0 thr_mc 0.8 thr_md 0.6 epoch 20 in 99\n",
      "Best SI4 = -0.20 t_index 2 thr_mc 0.8 thr_md 0.7 epoch 20 in 4\n",
      "Best SI5 = -0.20 t_index 2 thr_mc 0.8 thr_md 0.7 epoch 20 in 4\n",
      "\n",
      "The very best:\n",
      "Best eGROI = 46.33 t_index 2 thr_mc 0.5 thr_md 0.6 epoch 20 in 3056\n",
      "Best eROI = 3.37 t_index 3 thr_mc 0.8 thr_md 0.5 epoch 8 in 141\n",
      "Best eROI.5 = 31.05 t_index 2 thr_mc 0.5 thr_md 0.6 epoch 20 in 3056\n",
      "Best eROI1 = 16.74 t_index 1 thr_mc 0.5 thr_md 0.6 epoch 20 in 2830\n",
      "Best eROI1.5 = 5.80 t_index 3 thr_mc 0.6 thr_md 0.6 epoch 11 in 1839\n",
      "Best eROI2 = 3.16 t_index 3 thr_mc 0.8 thr_md 0.5 epoch 8 in 141\n",
      "Best eROI3 = 1.75 t_index 3 thr_mc 0.8 thr_md 0.5 epoch 8 in 141\n",
      "Best eROI4 = 0.50 t_index 3 thr_mc 0.8 thr_md 0.6 epoch 10 in 14\n",
      "Best eROI5 = 0.36 t_index 3 thr_mc 0.8 thr_md 0.6 epoch 10 in 14\n",
      "Best SI = 5.55 t_index 0 thr_mc 0.8 thr_md 0.6 epoch 20 in 99\n",
      "Best SI.5 = 135.50 t_index 1 thr_mc 0.5 thr_md 0.6 epoch 20 in 2830\n",
      "Best SI1 = 73.85 t_index 0 thr_mc 0.5 thr_md 0.6 epoch 14 in 1933\n",
      "Best SI1.5 = 19.75 t_index 3 thr_mc 0.7 thr_md 0.6 epoch 17 in 775\n",
      "Best SI2 = 9.05 t_index 3 thr_mc 0.8 thr_md 0.6 epoch 18 in 129\n",
      "Best SI3 = 5.05 t_index 3 thr_mc 0.8 thr_md 0.6 epoch 18 in 129\n",
      "Best SI4 = 1.95 t_index 3 thr_mc 0.8 thr_md 0.6 epoch 13 in 51\n",
      "Best SI5 = 1.05 t_index 0 thr_mc 0.5 thr_md 0.7 epoch 13 in 9\n",
      "Time=88.91 secs\n",
      "INFO:tensorflow:Restoring parameters from ../../RNN/weights/000520/000021/000021\n",
      "Parameters loaded. Epoch 21\n",
      "Epoch 21 of 34. Getting output...\n"
     ]
    },
    {
     "name": "stderr",
     "output_type": "stream",
     "text": [
      "100%|████████████████████████████████████████████████████████████████████████████████████████████████████████████████████████████████████████| 23/23 [01:39<00:00,  4.28s/it]\n"
     ]
    },
    {
     "name": "stdout",
     "output_type": "stream",
     "text": [
      "Getting results\n",
      "Epoch 21, J_train = 6.4990515103579245, J_test = 6.328816621199898\n"
     ]
    },
    {
     "name": "stderr",
     "output_type": "stream",
     "text": [
      "0it [00:00, ?it/s]\n"
     ]
    },
    {
     "name": "stdout",
     "output_type": "stream",
     "text": [
      "Epoch = 21. Time index = 0. Threshold MC = 0.5. Threshold MD = 0.5\n",
      "J_test = 6.328816621199898, J_train = 6.4990515103579245, Accuracy=0.5510497217369049\n",
      "RD = 260882 NZ = 501514 NZA = 950317 pNZ = 43.658% pNZA = 82.727% AD = 52.02% ADA = 27.45% NO = 1 GSP = 0.00% NSP = 0.00%\n",
      "SI2 = -0.55 SI = -0.55 eGROI = 0.00% eROI = 0.00% eROI2 = 0.00% eROI3 = 0.00% mSpread = 0.0000%\n"
     ]
    },
    {
     "name": "stderr",
     "output_type": "stream",
     "text": [
      "100%|████████████████████████████████████████████████████████████████████████████████████████████████████████████████████████████████| 11563/11563 [00:02<00:00, 5425.27it/s]\n"
     ]
    },
    {
     "name": "stdout",
     "output_type": "stream",
     "text": [
      "Epoch = 21. Time index = 0. Threshold MC = 0.5. Threshold MD = 0.6\n",
      "RD = 8882 NZ = 13697 NZA = 27801 pNZ = 1.192% pNZA = 2.420% AD = 64.85% ADA = 31.95% NO = 2485 GSP = 62.78% NSP = 44.47%\n",
      "SI2 = -81.75 SI = -261.75 eGROI = 37.86% eROI = -37.95% eROI2 = -11.84% eROI3 = -36.69% mSpread = 0.0305%\n"
     ]
    },
    {
     "name": "stderr",
     "output_type": "stream",
     "text": [
      "100%|████████████████████████████████████████████████████████████████████████████████████████████████████████████████████████████████████| 568/568 [00:00<00:00, 4250.15it/s]\n"
     ]
    },
    {
     "name": "stdout",
     "output_type": "stream",
     "text": [
      "Epoch = 21. Time index = 0. Threshold MC = 0.5. Threshold MD = 0.7\n",
      "RD = 1151 NZ = 1467 NZA = 2917 pNZ = 0.128% pNZA = 0.254% AD = 78.46% ADA = 39.46% NO = 242 GSP = 67.36% NSP = 37.19%\n",
      "SI2 = -7.10 SI = -43.10 eGROI = 3.88% eROI = -5.28% eROI2 = -0.96% eROI3 = -3.38% mSpread = 0.0379%\n"
     ]
    },
    {
     "name": "stderr",
     "output_type": "stream",
     "text": [
      "0it [00:00, ?it/s]\n"
     ]
    },
    {
     "name": "stdout",
     "output_type": "stream",
     "text": [
      "Epoch = 21. Time index = 0. Threshold MC = 0.5. Threshold MD = 0.8\n",
      "RD = 148 NZ = 156 NZA = 251 pNZ = 0.014% pNZA = 0.022% AD = 94.87% ADA = 58.96% NO = 1 GSP = 0.00% NSP = 0.00%\n",
      "SI2 = -0.55 SI = -0.55 eGROI = 0.00% eROI = 0.00% eROI2 = 0.00% eROI3 = 0.00% mSpread = 0.0000%\n"
     ]
    },
    {
     "name": "stderr",
     "output_type": "stream",
     "text": [
      "0it [00:00, ?it/s]\n"
     ]
    },
    {
     "name": "stdout",
     "output_type": "stream",
     "text": [
      "Epoch = 21. Time index = 0. Threshold MC = 0.5. Threshold MD = 0.9\n",
      "RD = 0 NZ = 0 NZA = 0 pNZ = 0.000% pNZA = 0.000% AD = 0.00% ADA = 0.00% NO = 1 GSP = 0.00% NSP = 0.00%\n",
      "SI2 = -0.55 SI = -0.55 eGROI = 0.00% eROI = 0.00% eROI2 = 0.00% eROI3 = 0.00% mSpread = 0.0000%\n",
      "\n"
     ]
    },
    {
     "name": "stderr",
     "output_type": "stream",
     "text": [
      "0it [00:00, ?it/s]\n"
     ]
    },
    {
     "name": "stdout",
     "output_type": "stream",
     "text": [
      "Epoch = 21. Time index = 0. Threshold MC = 0.6. Threshold MD = 0.5\n",
      "RD = 86459 NZ = 163177 NZA = 268300 pNZ = 14.205% pNZA = 23.356% AD = 52.98% ADA = 32.22% NO = 1 GSP = 0.00% NSP = 0.00%\n",
      "SI2 = -0.55 SI = -0.55 eGROI = 0.00% eROI = 0.00% eROI2 = 0.00% eROI3 = 0.00% mSpread = 0.0000%\n"
     ]
    },
    {
     "name": "stderr",
     "output_type": "stream",
     "text": [
      "100%|██████████████████████████████████████████████████████████████████████████████████████████████████████████████████████████████████| 5939/5939 [00:01<00:00, 5076.51it/s]\n"
     ]
    },
    {
     "name": "stdout",
     "output_type": "stream",
     "text": [
      "Epoch = 21. Time index = 0. Threshold MC = 0.6. Threshold MD = 0.6\n",
      "RD = 4340 NZ = 6696 NZA = 11263 pNZ = 0.583% pNZA = 0.980% AD = 64.81% ADA = 38.53% NO = 1591 GSP = 63.86% NSP = 49.40%\n",
      "SI2 = -18.05 SI = -89.05 eGROI = 25.63% eROI = -17.71% eROI2 = -6.19% eROI3 = -22.10% mSpread = 0.0272%\n"
     ]
    },
    {
     "name": "stderr",
     "output_type": "stream",
     "text": [
      "100%|████████████████████████████████████████████████████████████████████████████████████████████████████████████████████████████████████| 393/393 [00:00<00:00, 3615.11it/s]\n"
     ]
    },
    {
     "name": "stdout",
     "output_type": "stream",
     "text": [
      "Epoch = 21. Time index = 0. Threshold MC = 0.6. Threshold MD = 0.7\n",
      "RD = 620 NZ = 784 NZA = 1368 pNZ = 0.068% pNZA = 0.119% AD = 79.08% ADA = 45.32% NO = 156 GSP = 61.54% NSP = 39.10%\n",
      "SI2 = -3.80 SI = -24.80 eGROI = 1.70% eROI = -4.00% eROI2 = -1.42% eROI3 = -2.98% mSpread = 0.0365%\n"
     ]
    },
    {
     "name": "stderr",
     "output_type": "stream",
     "text": [
      "0it [00:00, ?it/s]\n"
     ]
    },
    {
     "name": "stdout",
     "output_type": "stream",
     "text": [
      "Epoch = 21. Time index = 0. Threshold MC = 0.6. Threshold MD = 0.8\n",
      "RD = 108 NZ = 111 NZA = 156 pNZ = 0.010% pNZA = 0.014% AD = 97.30% ADA = 69.23% NO = 1 GSP = 0.00% NSP = 0.00%\n",
      "SI2 = -0.55 SI = -0.55 eGROI = 0.00% eROI = 0.00% eROI2 = 0.00% eROI3 = 0.00% mSpread = 0.0000%\n"
     ]
    },
    {
     "name": "stderr",
     "output_type": "stream",
     "text": [
      "0it [00:00, ?it/s]\n"
     ]
    },
    {
     "name": "stdout",
     "output_type": "stream",
     "text": [
      "Epoch = 21. Time index = 0. Threshold MC = 0.6. Threshold MD = 0.9\n",
      "RD = 0 NZ = 0 NZA = 0 pNZ = 0.000% pNZA = 0.000% AD = 0.00% ADA = 0.00% NO = 1 GSP = 0.00% NSP = 0.00%\n",
      "SI2 = -0.55 SI = -0.55 eGROI = 0.00% eROI = 0.00% eROI2 = 0.00% eROI3 = 0.00% mSpread = 0.0000%\n",
      "\n"
     ]
    },
    {
     "name": "stderr",
     "output_type": "stream",
     "text": [
      "100%|████████████████████████████████████████████████████████████████████████████████████████████████████████████████████████████████| 13354/13354 [00:02<00:00, 5307.08it/s]\n"
     ]
    },
    {
     "name": "stdout",
     "output_type": "stream",
     "text": [
      "Epoch = 21. Time index = 0. Threshold MC = 0.7. Threshold MD = 0.5\n",
      "RD = 9089 NZ = 16565 NZA = 23276 pNZ = 1.442% pNZA = 2.026% AD = 54.87% ADA = 39.05% NO = 2554 GSP = 53.37% NSP = 45.26%\n",
      "SI2 = -223.70 SI = -248.70 eGROI = 10.68% eROI = -39.59% eROI2 = -40.40% eROI3 = -65.94% mSpread = 0.0197%\n"
     ]
    },
    {
     "name": "stderr",
     "output_type": "stream",
     "text": [
      "100%|██████████████████████████████████████████████████████████████████████████████████████████████████████████████████████████████████| 1753/1753 [00:00<00:00, 4663.11it/s]\n"
     ]
    },
    {
     "name": "stdout",
     "output_type": "stream",
     "text": [
      "Epoch = 21. Time index = 0. Threshold MC = 0.7. Threshold MD = 0.6\n",
      "RD = 1405 NZ = 2154 NZA = 2980 pNZ = 0.188% pNZA = 0.259% AD = 65.23% ADA = 47.15% NO = 653 GSP = 63.09% NSP = 55.44%\n",
      "SI2 = 8.85 SI = 2.85 eGROI = 10.26% eROI = -3.52% eROI2 = -2.80% eROI3 = -9.33% mSpread = 0.0211%\n"
     ]
    },
    {
     "name": "stderr",
     "output_type": "stream",
     "text": [
      "100%|████████████████████████████████████████████████████████████████████████████████████████████████████████████████████████████████████████| 8/8 [00:00<00:00, 1336.78it/s]\n"
     ]
    },
    {
     "name": "stdout",
     "output_type": "stream",
     "text": [
      "Epoch = 21. Time index = 0. Threshold MC = 0.7. Threshold MD = 0.7\n",
      "RD = 149 NZ = 187 NZA = 249 pNZ = 0.016% pNZA = 0.022% AD = 79.68% ADA = 59.84% NO = 7 GSP = 28.57% NSP = 14.29%\n",
      "SI2 = -2.85 SI = -2.85 eGROI = -0.79% eROI = -0.91% eROI2 = -0.93% eROI3 = -1.00% mSpread = 0.0183%\n"
     ]
    },
    {
     "name": "stderr",
     "output_type": "stream",
     "text": [
      "0it [00:00, ?it/s]\n"
     ]
    },
    {
     "name": "stdout",
     "output_type": "stream",
     "text": [
      "Epoch = 21. Time index = 0. Threshold MC = 0.7. Threshold MD = 0.8\n",
      "RD = 39 NZ = 39 NZA = 46 pNZ = 0.003% pNZA = 0.004% AD = 100.00% ADA = 84.78% NO = 1 GSP = 0.00% NSP = 0.00%\n",
      "SI2 = -0.55 SI = -0.55 eGROI = 0.00% eROI = 0.00% eROI2 = 0.00% eROI3 = 0.00% mSpread = 0.0000%\n"
     ]
    },
    {
     "name": "stderr",
     "output_type": "stream",
     "text": [
      "0it [00:00, ?it/s]\n"
     ]
    },
    {
     "name": "stdout",
     "output_type": "stream",
     "text": [
      "Epoch = 21. Time index = 0. Threshold MC = 0.7. Threshold MD = 0.9\n",
      "RD = 0 NZ = 0 NZA = 0 pNZ = 0.000% pNZA = 0.000% AD = 0.00% ADA = 0.00% NO = 1 GSP = 0.00% NSP = 0.00%\n",
      "SI2 = -0.55 SI = -0.55 eGROI = 0.00% eROI = 0.00% eROI2 = 0.00% eROI3 = 0.00% mSpread = 0.0000%\n",
      "\n"
     ]
    },
    {
     "name": "stderr",
     "output_type": "stream",
     "text": [
      "100%|████████████████████████████████████████████████████████████████████████████████████████████████████████████████████████████████████| 675/675 [00:00<00:00, 3759.98it/s]\n"
     ]
    },
    {
     "name": "stdout",
     "output_type": "stream",
     "text": [
      "Epoch = 21. Time index = 0. Threshold MC = 0.8. Threshold MD = 0.5\n",
      "RD = 474 NZ = 777 NZA = 976 pNZ = 0.068% pNZA = 0.085% AD = 61.00% ADA = 48.57% NO = 334 GSP = 54.79% NSP = 51.50%\n",
      "SI2 = -13.70 SI = -11.70 eGROI = 7.93% eROI = 1.60% eROI2 = 1.25% eROI3 = -2.09% mSpread = 0.0189%\n"
     ]
    },
    {
     "name": "stderr",
     "output_type": "stream",
     "text": [
      "100%|████████████████████████████████████████████████████████████████████████████████████████████████████████████████████████████████████| 128/128 [00:00<00:00, 3208.53it/s]\n"
     ]
    },
    {
     "name": "stdout",
     "output_type": "stream",
     "text": [
      "Epoch = 21. Time index = 0. Threshold MC = 0.8. Threshold MD = 0.6\n",
      "RD = 121 NZ = 182 NZA = 233 pNZ = 0.016% pNZA = 0.020% AD = 66.48% ADA = 51.93% NO = 101 GSP = 62.38% NSP = 59.41%\n",
      "SI2 = 4.45 SI = 4.45 eGROI = 3.19% eROI = 1.28% eROI2 = 1.17% eROI3 = 0.16% mSpread = 0.0189%\n"
     ]
    },
    {
     "name": "stderr",
     "output_type": "stream",
     "text": [
      "0it [00:00, ?it/s]\n"
     ]
    },
    {
     "name": "stdout",
     "output_type": "stream",
     "text": [
      "Epoch = 21. Time index = 0. Threshold MC = 0.8. Threshold MD = 0.7\n",
      "RD = 14 NZ = 19 NZA = 23 pNZ = 0.002% pNZA = 0.002% AD = 73.68% ADA = 60.87% NO = 1 GSP = 0.00% NSP = 0.00%\n",
      "SI2 = -0.55 SI = -0.55 eGROI = 0.00% eROI = 0.00% eROI2 = 0.00% eROI3 = 0.00% mSpread = 0.0000%\n"
     ]
    },
    {
     "name": "stderr",
     "output_type": "stream",
     "text": [
      "0it [00:00, ?it/s]\n"
     ]
    },
    {
     "name": "stdout",
     "output_type": "stream",
     "text": [
      "Epoch = 21. Time index = 0. Threshold MC = 0.8. Threshold MD = 0.8\n",
      "RD = 0 NZ = 0 NZA = 0 pNZ = 0.000% pNZA = 0.000% AD = 0.00% ADA = 0.00% NO = 1 GSP = 0.00% NSP = 0.00%\n",
      "SI2 = -0.55 SI = -0.55 eGROI = 0.00% eROI = 0.00% eROI2 = 0.00% eROI3 = 0.00% mSpread = 0.0000%\n"
     ]
    },
    {
     "name": "stderr",
     "output_type": "stream",
     "text": [
      "0it [00:00, ?it/s]\n"
     ]
    },
    {
     "name": "stdout",
     "output_type": "stream",
     "text": [
      "Epoch = 21. Time index = 0. Threshold MC = 0.8. Threshold MD = 0.9\n",
      "RD = 0 NZ = 0 NZA = 0 pNZ = 0.000% pNZA = 0.000% AD = 0.00% ADA = 0.00% NO = 1 GSP = 0.00% NSP = 0.00%\n",
      "SI2 = -0.55 SI = -0.55 eGROI = 0.00% eROI = 0.00% eROI2 = 0.00% eROI3 = 0.00% mSpread = 0.0000%\n",
      "\n"
     ]
    },
    {
     "name": "stderr",
     "output_type": "stream",
     "text": [
      "0it [00:00, ?it/s]\n"
     ]
    },
    {
     "name": "stdout",
     "output_type": "stream",
     "text": [
      "Epoch = 21. Time index = 0. Threshold MC = 0.9. Threshold MD = 0.5\n",
      "RD = 0 NZ = 0 NZA = 0 pNZ = 0.000% pNZA = 0.000% AD = 0.00% ADA = 0.00% NO = 1 GSP = 0.00% NSP = 0.00%\n",
      "SI2 = -0.55 SI = -0.55 eGROI = 0.00% eROI = 0.00% eROI2 = 0.00% eROI3 = 0.00% mSpread = 0.0000%\n"
     ]
    },
    {
     "name": "stderr",
     "output_type": "stream",
     "text": [
      "0it [00:00, ?it/s]\n"
     ]
    },
    {
     "name": "stdout",
     "output_type": "stream",
     "text": [
      "Epoch = 21. Time index = 0. Threshold MC = 0.9. Threshold MD = 0.6\n",
      "RD = 0 NZ = 0 NZA = 0 pNZ = 0.000% pNZA = 0.000% AD = 0.00% ADA = 0.00% NO = 1 GSP = 0.00% NSP = 0.00%\n",
      "SI2 = -0.55 SI = -0.55 eGROI = 0.00% eROI = 0.00% eROI2 = 0.00% eROI3 = 0.00% mSpread = 0.0000%\n"
     ]
    },
    {
     "name": "stderr",
     "output_type": "stream",
     "text": [
      "0it [00:00, ?it/s]\n"
     ]
    },
    {
     "name": "stdout",
     "output_type": "stream",
     "text": [
      "Epoch = 21. Time index = 0. Threshold MC = 0.9. Threshold MD = 0.7\n",
      "RD = 0 NZ = 0 NZA = 0 pNZ = 0.000% pNZA = 0.000% AD = 0.00% ADA = 0.00% NO = 1 GSP = 0.00% NSP = 0.00%\n",
      "SI2 = -0.55 SI = -0.55 eGROI = 0.00% eROI = 0.00% eROI2 = 0.00% eROI3 = 0.00% mSpread = 0.0000%\n"
     ]
    },
    {
     "name": "stderr",
     "output_type": "stream",
     "text": [
      "0it [00:00, ?it/s]\n"
     ]
    },
    {
     "name": "stdout",
     "output_type": "stream",
     "text": [
      "Epoch = 21. Time index = 0. Threshold MC = 0.9. Threshold MD = 0.8\n",
      "RD = 0 NZ = 0 NZA = 0 pNZ = 0.000% pNZA = 0.000% AD = 0.00% ADA = 0.00% NO = 1 GSP = 0.00% NSP = 0.00%\n",
      "SI2 = -0.55 SI = -0.55 eGROI = 0.00% eROI = 0.00% eROI2 = 0.00% eROI3 = 0.00% mSpread = 0.0000%\n"
     ]
    },
    {
     "name": "stderr",
     "output_type": "stream",
     "text": [
      "0it [00:00, ?it/s]\n"
     ]
    },
    {
     "name": "stdout",
     "output_type": "stream",
     "text": [
      "Epoch = 21. Time index = 0. Threshold MC = 0.9. Threshold MD = 0.9\n",
      "RD = 0 NZ = 0 NZA = 0 pNZ = 0.000% pNZA = 0.000% AD = 0.00% ADA = 0.00% NO = 1 GSP = 0.00% NSP = 0.00%\n",
      "SI2 = -0.55 SI = -0.55 eGROI = 0.00% eROI = 0.00% eROI2 = 0.00% eROI3 = 0.00% mSpread = 0.0000%\n",
      "\n"
     ]
    },
    {
     "name": "stderr",
     "output_type": "stream",
     "text": [
      "0it [00:00, ?it/s]\n"
     ]
    },
    {
     "name": "stdout",
     "output_type": "stream",
     "text": [
      "Epoch = 21. Time index = 1. Threshold MC = 0.5. Threshold MD = 0.5\n",
      "J_test = 6.328816621199898, J_train = 6.4990515103579245, Accuracy=0.5457473581763561\n",
      "RD = 263726 NZ = 507269 NZA = 967918 pNZ = 44.159% pNZA = 84.260% AD = 51.99% ADA = 27.25% NO = 1 GSP = 0.00% NSP = 0.00%\n",
      "SI2 = -0.55 SI = -0.55 eGROI = 0.00% eROI = 0.00% eROI2 = 0.00% eROI3 = 0.00% mSpread = 0.0000%\n"
     ]
    },
    {
     "name": "stderr",
     "output_type": "stream",
     "text": [
      "100%|████████████████████████████████████████████████████████████████████████████████████████████████████████████████████████████████| 15439/15439 [00:02<00:00, 5719.35it/s]\n"
     ]
    },
    {
     "name": "stdout",
     "output_type": "stream",
     "text": [
      "Epoch = 21. Time index = 1. Threshold MC = 0.5. Threshold MD = 0.6\n",
      "RD = 10939 NZ = 16802 NZA = 34714 pNZ = 1.463% pNZA = 3.022% AD = 65.11% ADA = 31.51% NO = 2918 GSP = 61.51% NSP = 43.59%\n",
      "SI2 = -133.90 SI = -332.90 eGROI = 44.70% eROI = -40.98% eROI2 = -13.66% eROI3 = -42.84% mSpread = 0.0294%\n"
     ]
    },
    {
     "name": "stderr",
     "output_type": "stream",
     "text": [
      "100%|██████████████████████████████████████████████████████████████████████████████████████████████████████████████████████████████████| 1750/1750 [00:00<00:00, 5041.60it/s]\n"
     ]
    },
    {
     "name": "stdout",
     "output_type": "stream",
     "text": [
      "Epoch = 21. Time index = 1. Threshold MC = 0.5. Threshold MD = 0.7\n",
      "RD = 2046 NZ = 2717 NZA = 5791 pNZ = 0.237% pNZA = 0.504% AD = 75.30% ADA = 35.33% NO = 444 GSP = 68.24% NSP = 43.02%\n",
      "SI2 = -3.20 SI = -53.20 eGROI = 8.59% eROI = -8.04% eROI2 = -0.29% eROI3 = -4.73% mSpread = 0.0375%\n"
     ]
    },
    {
     "name": "stderr",
     "output_type": "stream",
     "text": [
      "0it [00:00, ?it/s]\n"
     ]
    },
    {
     "name": "stdout",
     "output_type": "stream",
     "text": [
      "Epoch = 21. Time index = 1. Threshold MC = 0.5. Threshold MD = 0.8\n",
      "RD = 343 NZ = 379 NZA = 663 pNZ = 0.033% pNZA = 0.058% AD = 90.50% ADA = 51.73% NO = 1 GSP = 0.00% NSP = 0.00%\n",
      "SI2 = -0.55 SI = -0.55 eGROI = 0.00% eROI = 0.00% eROI2 = 0.00% eROI3 = 0.00% mSpread = 0.0000%\n"
     ]
    },
    {
     "name": "stderr",
     "output_type": "stream",
     "text": [
      "0it [00:00, ?it/s]\n"
     ]
    },
    {
     "name": "stdout",
     "output_type": "stream",
     "text": [
      "Epoch = 21. Time index = 1. Threshold MC = 0.5. Threshold MD = 0.9\n",
      "RD = 9 NZ = 9 NZA = 14 pNZ = 0.001% pNZA = 0.001% AD = 100.00% ADA = 64.29% NO = 1 GSP = 0.00% NSP = 0.00%\n",
      "SI2 = -0.55 SI = -0.55 eGROI = 0.00% eROI = 0.00% eROI2 = 0.00% eROI3 = 0.00% mSpread = 0.0000%\n",
      "\n"
     ]
    },
    {
     "name": "stderr",
     "output_type": "stream",
     "text": [
      "0it [00:00, ?it/s]\n"
     ]
    },
    {
     "name": "stdout",
     "output_type": "stream",
     "text": [
      "Epoch = 21. Time index = 1. Threshold MC = 0.6. Threshold MD = 0.5\n",
      "RD = 85810 NZ = 162073 NZA = 267971 pNZ = 14.109% pNZA = 23.328% AD = 52.95% ADA = 32.02% NO = 1 GSP = 0.00% NSP = 0.00%\n",
      "SI2 = -0.55 SI = -0.55 eGROI = 0.00% eROI = 0.00% eROI2 = 0.00% eROI3 = 0.00% mSpread = 0.0000%\n"
     ]
    },
    {
     "name": "stderr",
     "output_type": "stream",
     "text": [
      "100%|██████████████████████████████████████████████████████████████████████████████████████████████████████████████████████████████████| 9762/9762 [00:02<00:00, 4414.98it/s]\n"
     ]
    },
    {
     "name": "stdout",
     "output_type": "stream",
     "text": [
      "Epoch = 21. Time index = 1. Threshold MC = 0.6. Threshold MD = 0.6\n",
      "RD = 5840 NZ = 8884 NZA = 15361 pNZ = 0.773% pNZA = 1.337% AD = 65.74% ADA = 38.02% NO = 2204 GSP = 61.57% NSP = 46.10%\n",
      "SI2 = -86.20 SI = -196.20 eGROI = 33.78% eROI = -25.95% eROI2 = -10.30% eROI3 = -32.34% mSpread = 0.0271%\n"
     ]
    },
    {
     "name": "stderr",
     "output_type": "stream",
     "text": [
      "100%|██████████████████████████████████████████████████████████████████████████████████████████████████████████████████████████████████| 1450/1450 [00:00<00:00, 4830.11it/s]\n"
     ]
    },
    {
     "name": "stdout",
     "output_type": "stream",
     "text": [
      "Epoch = 21. Time index = 1. Threshold MC = 0.6. Threshold MD = 0.7\n",
      "RD = 1164 NZ = 1541 NZA = 2867 pNZ = 0.134% pNZA = 0.250% AD = 75.54% ADA = 40.60% NO = 373 GSP = 68.90% NSP = 44.24%\n",
      "SI2 = -2.15 SI = -40.15 eGROI = 7.72% eROI = -5.64% eROI2 = 0.26% eROI3 = -3.47% mSpread = 0.0358%\n"
     ]
    },
    {
     "name": "stderr",
     "output_type": "stream",
     "text": [
      "0it [00:00, ?it/s]\n"
     ]
    },
    {
     "name": "stdout",
     "output_type": "stream",
     "text": [
      "Epoch = 21. Time index = 1. Threshold MC = 0.6. Threshold MD = 0.8\n",
      "RD = 247 NZ = 267 NZA = 414 pNZ = 0.023% pNZA = 0.036% AD = 92.51% ADA = 59.66% NO = 1 GSP = 0.00% NSP = 0.00%\n",
      "SI2 = -0.55 SI = -0.55 eGROI = 0.00% eROI = 0.00% eROI2 = 0.00% eROI3 = 0.00% mSpread = 0.0000%\n"
     ]
    },
    {
     "name": "stderr",
     "output_type": "stream",
     "text": [
      "0it [00:00, ?it/s]\n"
     ]
    },
    {
     "name": "stdout",
     "output_type": "stream",
     "text": [
      "Epoch = 21. Time index = 1. Threshold MC = 0.6. Threshold MD = 0.9\n",
      "RD = 9 NZ = 9 NZA = 13 pNZ = 0.001% pNZA = 0.001% AD = 100.00% ADA = 69.23% NO = 1 GSP = 0.00% NSP = 0.00%\n",
      "SI2 = -0.55 SI = -0.55 eGROI = 0.00% eROI = 0.00% eROI2 = 0.00% eROI3 = 0.00% mSpread = 0.0000%\n",
      "\n"
     ]
    },
    {
     "name": "stderr",
     "output_type": "stream",
     "text": [
      "100%|██████████████████████████████████████████████████████████████████████████████████████████████████████████████████████████████████| 9724/9724 [00:01<00:00, 5506.78it/s]\n"
     ]
    },
    {
     "name": "stdout",
     "output_type": "stream",
     "text": [
      "Epoch = 21. Time index = 1. Threshold MC = 0.7. Threshold MD = 0.5\n",
      "RD = 6114 NZ = 10884 NZA = 15069 pNZ = 0.947% pNZA = 1.312% AD = 56.17% ADA = 40.57% NO = 1923 GSP = 55.02% NSP = 47.63%\n",
      "SI2 = -124.65 SI = -141.65 eGROI = 15.25% eROI = -24.48% eROI2 = -23.21% eROI3 = -42.44% mSpread = 0.0207%\n"
     ]
    },
    {
     "name": "stderr",
     "output_type": "stream",
     "text": [
      "100%|██████████████████████████████████████████████████████████████████████████████████████████████████████████████████████████████████| 2411/2411 [00:00<00:00, 5001.42it/s]\n"
     ]
    },
    {
     "name": "stdout",
     "output_type": "stream",
     "text": [
      "Epoch = 21. Time index = 1. Threshold MC = 0.7. Threshold MD = 0.6\n",
      "RD = 1543 NZ = 2394 NZA = 3384 pNZ = 0.208% pNZA = 0.295% AD = 64.45% ADA = 45.60% NO = 752 GSP = 62.37% NSP = 52.26%\n",
      "SI2 = -4.60 SI = -20.60 eGROI = 12.23% eROI = -4.57% eROI2 = -2.81% eROI3 = -10.33% mSpread = 0.0223%\n"
     ]
    },
    {
     "name": "stderr",
     "output_type": "stream",
     "text": [
      "100%|████████████████████████████████████████████████████████████████████████████████████████████████████████████████████████████████████| 128/128 [00:00<00:00, 3666.95it/s]\n"
     ]
    },
    {
     "name": "stdout",
     "output_type": "stream",
     "text": [
      "Epoch = 21. Time index = 1. Threshold MC = 0.7. Threshold MD = 0.7\n",
      "RD = 302 NZ = 389 NZA = 535 pNZ = 0.034% pNZA = 0.047% AD = 77.63% ADA = 56.45% NO = 69 GSP = 63.77% NSP = 47.83%\n",
      "SI2 = -1.95 SI = -4.95 eGROI = 0.84% eROI = -1.34% eROI2 = -0.54% eROI3 = -1.23% mSpread = 0.0316%\n"
     ]
    },
    {
     "name": "stderr",
     "output_type": "stream",
     "text": [
      "0it [00:00, ?it/s]\n"
     ]
    },
    {
     "name": "stdout",
     "output_type": "stream",
     "text": [
      "Epoch = 21. Time index = 1. Threshold MC = 0.7. Threshold MD = 0.8\n",
      "RD = 132 NZ = 144 NZA = 181 pNZ = 0.013% pNZA = 0.016% AD = 91.67% ADA = 72.93% NO = 1 GSP = 0.00% NSP = 0.00%\n",
      "SI2 = -0.55 SI = -0.55 eGROI = 0.00% eROI = 0.00% eROI2 = 0.00% eROI3 = 0.00% mSpread = 0.0000%\n"
     ]
    },
    {
     "name": "stderr",
     "output_type": "stream",
     "text": [
      "0it [00:00, ?it/s]\n"
     ]
    },
    {
     "name": "stdout",
     "output_type": "stream",
     "text": [
      "Epoch = 21. Time index = 1. Threshold MC = 0.7. Threshold MD = 0.9\n",
      "RD = 7 NZ = 7 NZA = 9 pNZ = 0.001% pNZA = 0.001% AD = 100.00% ADA = 77.78% NO = 1 GSP = 0.00% NSP = 0.00%\n",
      "SI2 = -0.55 SI = -0.55 eGROI = 0.00% eROI = 0.00% eROI2 = 0.00% eROI3 = 0.00% mSpread = 0.0000%\n",
      "\n"
     ]
    },
    {
     "name": "stderr",
     "output_type": "stream",
     "text": [
      "100%|████████████████████████████████████████████████████████████████████████████████████████████████████████████████████████████████████| 620/620 [00:00<00:00, 4036.62it/s]\n"
     ]
    },
    {
     "name": "stdout",
     "output_type": "stream",
     "text": [
      "Epoch = 21. Time index = 1. Threshold MC = 0.8. Threshold MD = 0.5\n",
      "RD = 355 NZ = 630 NZA = 792 pNZ = 0.055% pNZA = 0.069% AD = 56.35% ADA = 44.82% NO = 333 GSP = 54.35% NSP = 49.25%\n",
      "SI2 = -18.15 SI = -19.15 eGROI = 3.73% eROI = -2.84% eROI2 = -2.93% eROI3 = -6.26% mSpread = 0.0197%\n"
     ]
    },
    {
     "name": "stderr",
     "output_type": "stream",
     "text": [
      "100%|████████████████████████████████████████████████████████████████████████████████████████████████████████████████████████████████████| 211/211 [00:00<00:00, 2898.42it/s]\n"
     ]
    },
    {
     "name": "stdout",
     "output_type": "stream",
     "text": [
      "Epoch = 21. Time index = 1. Threshold MC = 0.8. Threshold MD = 0.6\n",
      "RD = 164 NZ = 239 NZA = 307 pNZ = 0.021% pNZA = 0.027% AD = 68.62% ADA = 53.42% NO = 135 GSP = 64.44% NSP = 58.52%\n",
      "SI2 = 4.75 SI = 4.75 eGROI = 4.19% eROI = 1.54% eROI2 = 1.49% eROI3 = 0.14% mSpread = 0.0197%\n"
     ]
    },
    {
     "name": "stderr",
     "output_type": "stream",
     "text": [
      "100%|████████████████████████████████████████████████████████████████████████████████████████████████████████████████████████████████████████| 1/1 [00:00<00:00, 1001.27it/s]\n"
     ]
    },
    {
     "name": "stdout",
     "output_type": "stream",
     "text": [
      "Epoch = 21. Time index = 1. Threshold MC = 0.8. Threshold MD = 0.7\n",
      "RD = 37 NZ = 46 NZA = 59 pNZ = 0.004% pNZA = 0.005% AD = 80.43% ADA = 62.71% NO = 2 GSP = 100.00% NSP = 100.00%\n",
      "SI2 = -0.10 SI = 0.90 eGROI = 0.18% eROI = 0.13% eROI2 = 0.14% eROI3 = 0.12% mSpread = 0.0253%\n"
     ]
    },
    {
     "name": "stderr",
     "output_type": "stream",
     "text": [
      "0it [00:00, ?it/s]\n"
     ]
    },
    {
     "name": "stdout",
     "output_type": "stream",
     "text": [
      "Epoch = 21. Time index = 1. Threshold MC = 0.8. Threshold MD = 0.8\n",
      "RD = 19 NZ = 23 NZA = 27 pNZ = 0.002% pNZA = 0.002% AD = 82.61% ADA = 70.37% NO = 1 GSP = 0.00% NSP = 0.00%\n",
      "SI2 = -0.55 SI = -0.55 eGROI = 0.00% eROI = 0.00% eROI2 = 0.00% eROI3 = 0.00% mSpread = 0.0000%\n"
     ]
    },
    {
     "name": "stderr",
     "output_type": "stream",
     "text": [
      "0it [00:00, ?it/s]\n"
     ]
    },
    {
     "name": "stdout",
     "output_type": "stream",
     "text": [
      "Epoch = 21. Time index = 1. Threshold MC = 0.8. Threshold MD = 0.9\n",
      "RD = 1 NZ = 1 NZA = 2 pNZ = 0.000% pNZA = 0.000% AD = 100.00% ADA = 50.00% NO = 1 GSP = 0.00% NSP = 0.00%\n",
      "SI2 = -0.55 SI = -0.55 eGROI = 0.00% eROI = 0.00% eROI2 = 0.00% eROI3 = 0.00% mSpread = 0.0000%\n",
      "\n"
     ]
    },
    {
     "name": "stderr",
     "output_type": "stream",
     "text": [
      "0it [00:00, ?it/s]\n"
     ]
    },
    {
     "name": "stdout",
     "output_type": "stream",
     "text": [
      "Epoch = 21. Time index = 1. Threshold MC = 0.9. Threshold MD = 0.5\n",
      "RD = 0 NZ = 0 NZA = 0 pNZ = 0.000% pNZA = 0.000% AD = 0.00% ADA = 0.00% NO = 1 GSP = 0.00% NSP = 0.00%\n",
      "SI2 = -0.55 SI = -0.55 eGROI = 0.00% eROI = 0.00% eROI2 = 0.00% eROI3 = 0.00% mSpread = 0.0000%\n"
     ]
    },
    {
     "name": "stderr",
     "output_type": "stream",
     "text": [
      "0it [00:00, ?it/s]\n"
     ]
    },
    {
     "name": "stdout",
     "output_type": "stream",
     "text": [
      "Epoch = 21. Time index = 1. Threshold MC = 0.9. Threshold MD = 0.6\n",
      "RD = 0 NZ = 0 NZA = 0 pNZ = 0.000% pNZA = 0.000% AD = 0.00% ADA = 0.00% NO = 1 GSP = 0.00% NSP = 0.00%\n",
      "SI2 = -0.55 SI = -0.55 eGROI = 0.00% eROI = 0.00% eROI2 = 0.00% eROI3 = 0.00% mSpread = 0.0000%\n"
     ]
    },
    {
     "name": "stderr",
     "output_type": "stream",
     "text": [
      "0it [00:00, ?it/s]\n"
     ]
    },
    {
     "name": "stdout",
     "output_type": "stream",
     "text": [
      "Epoch = 21. Time index = 1. Threshold MC = 0.9. Threshold MD = 0.7\n",
      "RD = 0 NZ = 0 NZA = 0 pNZ = 0.000% pNZA = 0.000% AD = 0.00% ADA = 0.00% NO = 1 GSP = 0.00% NSP = 0.00%\n",
      "SI2 = -0.55 SI = -0.55 eGROI = 0.00% eROI = 0.00% eROI2 = 0.00% eROI3 = 0.00% mSpread = 0.0000%\n"
     ]
    },
    {
     "name": "stderr",
     "output_type": "stream",
     "text": [
      "0it [00:00, ?it/s]\n"
     ]
    },
    {
     "name": "stdout",
     "output_type": "stream",
     "text": [
      "Epoch = 21. Time index = 1. Threshold MC = 0.9. Threshold MD = 0.8\n",
      "RD = 0 NZ = 0 NZA = 0 pNZ = 0.000% pNZA = 0.000% AD = 0.00% ADA = 0.00% NO = 1 GSP = 0.00% NSP = 0.00%\n",
      "SI2 = -0.55 SI = -0.55 eGROI = 0.00% eROI = 0.00% eROI2 = 0.00% eROI3 = 0.00% mSpread = 0.0000%\n"
     ]
    },
    {
     "name": "stderr",
     "output_type": "stream",
     "text": [
      "0it [00:00, ?it/s]\n"
     ]
    },
    {
     "name": "stdout",
     "output_type": "stream",
     "text": [
      "Epoch = 21. Time index = 1. Threshold MC = 0.9. Threshold MD = 0.9\n",
      "RD = 0 NZ = 0 NZA = 0 pNZ = 0.000% pNZA = 0.000% AD = 0.00% ADA = 0.00% NO = 1 GSP = 0.00% NSP = 0.00%\n",
      "SI2 = -0.55 SI = -0.55 eGROI = 0.00% eROI = 0.00% eROI2 = 0.00% eROI3 = 0.00% mSpread = 0.0000%\n",
      "\n"
     ]
    },
    {
     "name": "stderr",
     "output_type": "stream",
     "text": [
      "0it [00:00, ?it/s]\n"
     ]
    },
    {
     "name": "stdout",
     "output_type": "stream",
     "text": [
      "Epoch = 21. Time index = 2. Threshold MC = 0.5. Threshold MD = 0.5\n",
      "J_test = 6.328816621199898, J_train = 6.4990515103579245, Accuracy=0.5458265758883918\n",
      "RD = 262916 NZ = 505314 NZA = 963917 pNZ = 43.989% pNZA = 83.911% AD = 52.03% ADA = 27.28% NO = 1 GSP = 0.00% NSP = 0.00%\n",
      "SI2 = -0.55 SI = -0.55 eGROI = 0.00% eROI = 0.00% eROI2 = 0.00% eROI3 = 0.00% mSpread = 0.0000%\n"
     ]
    },
    {
     "name": "stderr",
     "output_type": "stream",
     "text": [
      "100%|████████████████████████████████████████████████████████████████████████████████████████████████████████████████████████████████| 17079/17079 [00:03<00:00, 4461.83it/s]\n"
     ]
    },
    {
     "name": "stdout",
     "output_type": "stream",
     "text": [
      "Epoch = 21. Time index = 2. Threshold MC = 0.5. Threshold MD = 0.6\n",
      "RD = 12697 NZ = 20015 NZA = 40874 pNZ = 1.742% pNZA = 3.558% AD = 63.44% ADA = 31.06% NO = 3226 GSP = 60.51% NSP = 44.73%\n",
      "SI2 = -138.30 SI = -331.30 eGROI = 51.99% eROI = -39.60% eROI2 = -12.53% eROI3 = -44.79% mSpread = 0.0284%\n"
     ]
    },
    {
     "name": "stderr",
     "output_type": "stream",
     "text": [
      "100%|██████████████████████████████████████████████████████████████████████████████████████████████████████████████████████████████████| 2176/2176 [00:00<00:00, 4416.58it/s]\n"
     ]
    },
    {
     "name": "stdout",
     "output_type": "stream",
     "text": [
      "Epoch = 21. Time index = 2. Threshold MC = 0.5. Threshold MD = 0.7\n",
      "RD = 2576 NZ = 3473 NZA = 7606 pNZ = 0.302% pNZA = 0.662% AD = 74.17% ADA = 33.87% NO = 518 GSP = 66.80% NSP = 41.70%\n",
      "SI2 = -9.90 SI = -68.90 eGROI = 8.74% eROI = -10.19% eROI2 = -1.62% eROI3 = -6.80% mSpread = 0.0366%\n"
     ]
    },
    {
     "name": "stderr",
     "output_type": "stream",
     "text": [
      "100%|██████████████████████████████████████████████████████████████████████████████████████████████████████████████████████████████████████| 74/74 [00:00<00:00, 3372.25it/s]\n"
     ]
    },
    {
     "name": "stdout",
     "output_type": "stream",
     "text": [
      "Epoch = 21. Time index = 2. Threshold MC = 0.5. Threshold MD = 0.8\n",
      "RD = 446 NZ = 522 NZA = 1123 pNZ = 0.045% pNZA = 0.098% AD = 85.44% ADA = 39.72% NO = 24 GSP = 50.00% NSP = 37.50%\n",
      "SI2 = -2.20 SI = -4.20 eGROI = 0.37% eROI = -0.53% eROI2 = -0.11% eROI3 = -0.35% mSpread = 0.0374%\n"
     ]
    },
    {
     "name": "stderr",
     "output_type": "stream",
     "text": [
      "0it [00:00, ?it/s]\n"
     ]
    },
    {
     "name": "stdout",
     "output_type": "stream",
     "text": [
      "Epoch = 21. Time index = 2. Threshold MC = 0.5. Threshold MD = 0.9\n",
      "RD = 4 NZ = 4 NZA = 8 pNZ = 0.000% pNZA = 0.001% AD = 100.00% ADA = 50.00% NO = 1 GSP = 0.00% NSP = 0.00%\n",
      "SI2 = -0.55 SI = -0.55 eGROI = 0.00% eROI = 0.00% eROI2 = 0.00% eROI3 = 0.00% mSpread = 0.0000%\n",
      "\n"
     ]
    },
    {
     "name": "stderr",
     "output_type": "stream",
     "text": [
      "0it [00:00, ?it/s]\n"
     ]
    },
    {
     "name": "stdout",
     "output_type": "stream",
     "text": [
      "Epoch = 21. Time index = 2. Threshold MC = 0.6. Threshold MD = 0.5\n",
      "RD = 85728 NZ = 161631 NZA = 268093 pNZ = 14.070% pNZA = 23.338% AD = 53.04% ADA = 31.98% NO = 1 GSP = 0.00% NSP = 0.00%\n",
      "SI2 = -0.55 SI = -0.55 eGROI = 0.00% eROI = 0.00% eROI2 = 0.00% eROI3 = 0.00% mSpread = 0.0000%\n"
     ]
    },
    {
     "name": "stderr",
     "output_type": "stream",
     "text": [
      "100%|████████████████████████████████████████████████████████████████████████████████████████████████████████████████████████████████| 12231/12231 [00:02<00:00, 4449.16it/s]\n"
     ]
    },
    {
     "name": "stdout",
     "output_type": "stream",
     "text": [
      "Epoch = 21. Time index = 2. Threshold MC = 0.6. Threshold MD = 0.6\n",
      "RD = 7298 NZ = 11329 NZA = 19911 pNZ = 0.986% pNZA = 1.733% AD = 64.42% ADA = 36.65% NO = 2616 GSP = 61.24% NSP = 46.14%\n",
      "SI2 = -90.80 SI = -231.80 eGROI = 41.80% eROI = -29.61% eROI2 = -10.52% eROI3 = -36.68% mSpread = 0.0273%\n"
     ]
    },
    {
     "name": "stderr",
     "output_type": "stream",
     "text": [
      "100%|██████████████████████████████████████████████████████████████████████████████████████████████████████████████████████████████████| 1898/1898 [00:00<00:00, 4652.96it/s]\n"
     ]
    },
    {
     "name": "stdout",
     "output_type": "stream",
     "text": [
      "Epoch = 21. Time index = 2. Threshold MC = 0.6. Threshold MD = 0.7\n",
      "RD = 1470 NZ = 1992 NZA = 3757 pNZ = 0.173% pNZA = 0.327% AD = 73.80% ADA = 39.13% NO = 458 GSP = 66.16% NSP = 42.58%\n",
      "SI2 = -4.90 SI = -56.90 eGROI = 7.87% eROI = -8.57% eROI2 = -1.29% eROI3 = -5.87% mSpread = 0.0359%\n"
     ]
    },
    {
     "name": "stderr",
     "output_type": "stream",
     "text": [
      "100%|██████████████████████████████████████████████████████████████████████████████████████████████████████████████████████████████████████| 74/74 [00:00<00:00, 3709.87it/s]\n"
     ]
    },
    {
     "name": "stdout",
     "output_type": "stream",
     "text": [
      "Epoch = 21. Time index = 2. Threshold MC = 0.6. Threshold MD = 0.8\n",
      "RD = 276 NZ = 315 NZA = 535 pNZ = 0.027% pNZA = 0.047% AD = 87.62% ADA = 51.59% NO = 24 GSP = 50.00% NSP = 37.50%\n",
      "SI2 = -2.20 SI = -4.20 eGROI = 0.37% eROI = -0.53% eROI2 = -0.11% eROI3 = -0.35% mSpread = 0.0374%\n"
     ]
    },
    {
     "name": "stderr",
     "output_type": "stream",
     "text": [
      "0it [00:00, ?it/s]\n"
     ]
    },
    {
     "name": "stdout",
     "output_type": "stream",
     "text": [
      "Epoch = 21. Time index = 2. Threshold MC = 0.6. Threshold MD = 0.9\n",
      "RD = 4 NZ = 4 NZA = 8 pNZ = 0.000% pNZA = 0.001% AD = 100.00% ADA = 50.00% NO = 1 GSP = 0.00% NSP = 0.00%\n",
      "SI2 = -0.55 SI = -0.55 eGROI = 0.00% eROI = 0.00% eROI2 = 0.00% eROI3 = 0.00% mSpread = 0.0000%\n",
      "\n"
     ]
    },
    {
     "name": "stderr",
     "output_type": "stream",
     "text": [
      "100%|████████████████████████████████████████████████████████████████████████████████████████████████████████████████████████████████| 10202/10202 [00:02<00:00, 4564.56it/s]\n"
     ]
    },
    {
     "name": "stdout",
     "output_type": "stream",
     "text": [
      "Epoch = 21. Time index = 2. Threshold MC = 0.7. Threshold MD = 0.5\n",
      "RD = 6121 NZ = 10928 NZA = 15217 pNZ = 0.951% pNZA = 1.325% AD = 56.01% ADA = 40.22% NO = 2028 GSP = 53.35% NSP = 45.32%\n",
      "SI2 = -158.40 SI = -196.40 eGROI = 10.08% eROI = -32.85% eROI2 = -30.48% eROI3 = -50.76% mSpread = 0.0212%\n"
     ]
    },
    {
     "name": "stderr",
     "output_type": "stream",
     "text": [
      "100%|██████████████████████████████████████████████████████████████████████████████████████████████████████████████████████████████████| 3195/3195 [00:01<00:00, 2862.83it/s]\n"
     ]
    },
    {
     "name": "stdout",
     "output_type": "stream",
     "text": [
      "Epoch = 21. Time index = 2. Threshold MC = 0.7. Threshold MD = 0.6\n",
      "RD = 1878 NZ = 2920 NZA = 4183 pNZ = 0.254% pNZA = 0.364% AD = 64.32% ADA = 44.90% NO = 893 GSP = 61.59% NSP = 51.96%\n",
      "SI2 = -8.15 SI = -27.15 eGROI = 13.85% eROI = -6.29% eROI2 = -4.01% eROI3 = -12.94% mSpread = 0.0226%\n"
     ]
    },
    {
     "name": "stderr",
     "output_type": "stream",
     "text": [
      "100%|████████████████████████████████████████████████████████████████████████████████████████████████████████████████████████████████████| 282/282 [00:00<00:00, 2594.12it/s]\n"
     ]
    },
    {
     "name": "stdout",
     "output_type": "stream",
     "text": [
      "Epoch = 21. Time index = 2. Threshold MC = 0.7. Threshold MD = 0.7\n",
      "RD = 379 NZ = 517 NZA = 752 pNZ = 0.045% pNZA = 0.065% AD = 73.31% ADA = 50.40% NO = 130 GSP = 61.54% NSP = 40.77%\n",
      "SI2 = -6.50 SI = -18.50 eGROI = 0.96% eROI = -2.90% eROI2 = -1.64% eROI3 = -2.94% mSpread = 0.0297%\n"
     ]
    },
    {
     "name": "stderr",
     "output_type": "stream",
     "text": [
      "100%|████████████████████████████████████████████████████████████████████████████████████████████████████████████████████████████████████████| 8/8 [00:00<00:00, 2004.69it/s]\n"
     ]
    },
    {
     "name": "stdout",
     "output_type": "stream",
     "text": [
      "Epoch = 21. Time index = 2. Threshold MC = 0.7. Threshold MD = 0.8\n",
      "RD = 134 NZ = 148 NZA = 192 pNZ = 0.013% pNZA = 0.017% AD = 90.54% ADA = 69.79% NO = 6 GSP = 83.33% NSP = 33.33%\n",
      "SI2 = 0.70 SI = -1.30 eGROI = 0.42% eROI = 0.06% eROI2 = 0.30% eROI3 = 0.24% mSpread = 0.0598%\n"
     ]
    },
    {
     "name": "stderr",
     "output_type": "stream",
     "text": [
      "0it [00:00, ?it/s]\n"
     ]
    },
    {
     "name": "stdout",
     "output_type": "stream",
     "text": [
      "Epoch = 21. Time index = 2. Threshold MC = 0.7. Threshold MD = 0.9\n",
      "RD = 4 NZ = 4 NZA = 7 pNZ = 0.000% pNZA = 0.001% AD = 100.00% ADA = 57.14% NO = 1 GSP = 0.00% NSP = 0.00%\n",
      "SI2 = -0.55 SI = -0.55 eGROI = 0.00% eROI = 0.00% eROI2 = 0.00% eROI3 = 0.00% mSpread = 0.0000%\n",
      "\n"
     ]
    },
    {
     "name": "stderr",
     "output_type": "stream",
     "text": [
      "100%|████████████████████████████████████████████████████████████████████████████████████████████████████████████████████████████████████| 749/749 [00:00<00:00, 3871.09it/s]\n"
     ]
    },
    {
     "name": "stdout",
     "output_type": "stream",
     "text": [
      "Epoch = 21. Time index = 2. Threshold MC = 0.8. Threshold MD = 0.5\n",
      "RD = 427 NZ = 723 NZA = 915 pNZ = 0.063% pNZA = 0.080% AD = 59.06% ADA = 46.67% NO = 387 GSP = 55.30% NSP = 49.61%\n",
      "SI2 = -17.85 SI = -20.85 eGROI = 6.99% eROI = -1.36% eROI2 = -0.75% eROI3 = -4.62% mSpread = 0.0216%\n"
     ]
    },
    {
     "name": "stderr",
     "output_type": "stream",
     "text": [
      "100%|████████████████████████████████████████████████████████████████████████████████████████████████████████████████████████████████████| 317/317 [00:00<00:00, 2011.69it/s]\n"
     ]
    },
    {
     "name": "stdout",
     "output_type": "stream",
     "text": [
      "Epoch = 21. Time index = 2. Threshold MC = 0.8. Threshold MD = 0.6\n",
      "RD = 215 NZ = 330 NZA = 416 pNZ = 0.029% pNZA = 0.036% AD = 65.15% ADA = 51.68% NO = 170 GSP = 61.76% NSP = 56.47%\n",
      "SI2 = 4.50 SI = 2.50 eGROI = 3.77% eROI = 0.05% eROI2 = 0.37% eROI3 = -1.33% mSpread = 0.0219%\n"
     ]
    },
    {
     "name": "stderr",
     "output_type": "stream",
     "text": [
      "100%|██████████████████████████████████████████████████████████████████████████████████████████████████████████████████████████████████████| 10/10 [00:00<00:00, 2507.66it/s]\n"
     ]
    },
    {
     "name": "stdout",
     "output_type": "stream",
     "text": [
      "Epoch = 21. Time index = 2. Threshold MC = 0.8. Threshold MD = 0.7\n",
      "RD = 50 NZ = 64 NZA = 83 pNZ = 0.006% pNZA = 0.007% AD = 78.12% ADA = 60.24% NO = 7 GSP = 85.71% NSP = 57.14%\n",
      "SI2 = 1.15 SI = 0.15 eGROI = 0.72% eROI = 0.47% eROI2 = 0.58% eROI3 = 0.51% mSpread = 0.0346%\n"
     ]
    },
    {
     "name": "stderr",
     "output_type": "stream",
     "text": [
      "0it [00:00, ?it/s]\n"
     ]
    },
    {
     "name": "stdout",
     "output_type": "stream",
     "text": [
      "Epoch = 21. Time index = 2. Threshold MC = 0.8. Threshold MD = 0.8\n",
      "RD = 24 NZ = 28 NZA = 35 pNZ = 0.002% pNZA = 0.003% AD = 85.71% ADA = 68.57% NO = 1 GSP = 0.00% NSP = 0.00%\n",
      "SI2 = -0.55 SI = -0.55 eGROI = 0.00% eROI = 0.00% eROI2 = 0.00% eROI3 = 0.00% mSpread = 0.0000%\n"
     ]
    },
    {
     "name": "stderr",
     "output_type": "stream",
     "text": [
      "0it [00:00, ?it/s]\n"
     ]
    },
    {
     "name": "stdout",
     "output_type": "stream",
     "text": [
      "Epoch = 21. Time index = 2. Threshold MC = 0.8. Threshold MD = 0.9\n",
      "RD = 1 NZ = 1 NZA = 3 pNZ = 0.000% pNZA = 0.000% AD = 100.00% ADA = 33.33% NO = 1 GSP = 0.00% NSP = 0.00%\n",
      "SI2 = -0.55 SI = -0.55 eGROI = 0.00% eROI = 0.00% eROI2 = 0.00% eROI3 = 0.00% mSpread = 0.0000%\n",
      "\n"
     ]
    },
    {
     "name": "stderr",
     "output_type": "stream",
     "text": [
      "0it [00:00, ?it/s]\n"
     ]
    },
    {
     "name": "stdout",
     "output_type": "stream",
     "text": [
      "Epoch = 21. Time index = 2. Threshold MC = 0.9. Threshold MD = 0.5\n",
      "RD = 0 NZ = 0 NZA = 0 pNZ = 0.000% pNZA = 0.000% AD = 0.00% ADA = 0.00% NO = 1 GSP = 0.00% NSP = 0.00%\n",
      "SI2 = -0.55 SI = -0.55 eGROI = 0.00% eROI = 0.00% eROI2 = 0.00% eROI3 = 0.00% mSpread = 0.0000%\n"
     ]
    },
    {
     "name": "stderr",
     "output_type": "stream",
     "text": [
      "0it [00:00, ?it/s]\n"
     ]
    },
    {
     "name": "stdout",
     "output_type": "stream",
     "text": [
      "Epoch = 21. Time index = 2. Threshold MC = 0.9. Threshold MD = 0.6\n",
      "RD = 0 NZ = 0 NZA = 0 pNZ = 0.000% pNZA = 0.000% AD = 0.00% ADA = 0.00% NO = 1 GSP = 0.00% NSP = 0.00%\n",
      "SI2 = -0.55 SI = -0.55 eGROI = 0.00% eROI = 0.00% eROI2 = 0.00% eROI3 = 0.00% mSpread = 0.0000%\n"
     ]
    },
    {
     "name": "stderr",
     "output_type": "stream",
     "text": [
      "0it [00:00, ?it/s]\n"
     ]
    },
    {
     "name": "stdout",
     "output_type": "stream",
     "text": [
      "Epoch = 21. Time index = 2. Threshold MC = 0.9. Threshold MD = 0.7\n",
      "RD = 0 NZ = 0 NZA = 0 pNZ = 0.000% pNZA = 0.000% AD = 0.00% ADA = 0.00% NO = 1 GSP = 0.00% NSP = 0.00%\n",
      "SI2 = -0.55 SI = -0.55 eGROI = 0.00% eROI = 0.00% eROI2 = 0.00% eROI3 = 0.00% mSpread = 0.0000%\n"
     ]
    },
    {
     "name": "stderr",
     "output_type": "stream",
     "text": [
      "0it [00:00, ?it/s]\n"
     ]
    },
    {
     "name": "stdout",
     "output_type": "stream",
     "text": [
      "Epoch = 21. Time index = 2. Threshold MC = 0.9. Threshold MD = 0.8\n",
      "RD = 0 NZ = 0 NZA = 0 pNZ = 0.000% pNZA = 0.000% AD = 0.00% ADA = 0.00% NO = 1 GSP = 0.00% NSP = 0.00%\n",
      "SI2 = -0.55 SI = -0.55 eGROI = 0.00% eROI = 0.00% eROI2 = 0.00% eROI3 = 0.00% mSpread = 0.0000%\n"
     ]
    },
    {
     "name": "stderr",
     "output_type": "stream",
     "text": [
      "0it [00:00, ?it/s]\n"
     ]
    },
    {
     "name": "stdout",
     "output_type": "stream",
     "text": [
      "Epoch = 21. Time index = 2. Threshold MC = 0.9. Threshold MD = 0.9\n",
      "RD = 0 NZ = 0 NZA = 0 pNZ = 0.000% pNZA = 0.000% AD = 0.00% ADA = 0.00% NO = 1 GSP = 0.00% NSP = 0.00%\n",
      "SI2 = -0.55 SI = -0.55 eGROI = 0.00% eROI = 0.00% eROI2 = 0.00% eROI3 = 0.00% mSpread = 0.0000%\n",
      "\n"
     ]
    },
    {
     "name": "stderr",
     "output_type": "stream",
     "text": [
      "0it [00:00, ?it/s]\n"
     ]
    },
    {
     "name": "stdout",
     "output_type": "stream",
     "text": [
      "Epoch = 21. Time index = 3. Threshold MC = 0.5. Threshold MD = 0.5\n",
      "J_test = 6.328816621199898, J_train = 6.4990515103579245, Accuracy=0.5453739032481874\n",
      "RD = 262388 NZ = 504520 NZA = 962848 pNZ = 43.920% pNZA = 83.818% AD = 52.01% ADA = 27.25% NO = 1 GSP = 0.00% NSP = 0.00%\n",
      "SI2 = -0.55 SI = -0.55 eGROI = 0.00% eROI = 0.00% eROI2 = 0.00% eROI3 = 0.00% mSpread = 0.0000%\n"
     ]
    },
    {
     "name": "stderr",
     "output_type": "stream",
     "text": [
      "100%|████████████████████████████████████████████████████████████████████████████████████████████████████████████████████████████████| 17853/17853 [00:03<00:00, 5250.90it/s]\n"
     ]
    },
    {
     "name": "stdout",
     "output_type": "stream",
     "text": [
      "Epoch = 21. Time index = 3. Threshold MC = 0.5. Threshold MD = 0.6\n",
      "RD = 12966 NZ = 20700 NZA = 41531 pNZ = 1.802% pNZA = 3.615% AD = 62.64% ADA = 31.22% NO = 3361 GSP = 59.68% NSP = 44.00%\n",
      "SI2 = -181.55 SI = -369.55 eGROI = 47.14% eROI = -46.02% eROI2 = -20.08% eROI3 = -53.69% mSpread = 0.0277%\n"
     ]
    },
    {
     "name": "stderr",
     "output_type": "stream",
     "text": [
      "100%|██████████████████████████████████████████████████████████████████████████████████████████████████████████████████████████████████| 2265/2265 [00:00<00:00, 4894.47it/s]\n"
     ]
    },
    {
     "name": "stdout",
     "output_type": "stream",
     "text": [
      "Epoch = 21. Time index = 3. Threshold MC = 0.5. Threshold MD = 0.7\n",
      "RD = 2427 NZ = 3291 NZA = 6986 pNZ = 0.286% pNZA = 0.608% AD = 73.75% ADA = 34.74% NO = 549 GSP = 67.76% NSP = 42.08%\n",
      "SI2 = -3.95 SI = -70.95 eGROI = 10.57% eROI = -9.41% eROI2 = -0.41% eROI3 = -5.90% mSpread = 0.0364%\n"
     ]
    },
    {
     "name": "stderr",
     "output_type": "stream",
     "text": [
      "100%|████████████████████████████████████████████████████████████████████████████████████████████████████████████████████████████████████| 181/181 [00:00<00:00, 3129.07it/s]\n"
     ]
    },
    {
     "name": "stdout",
     "output_type": "stream",
     "text": [
      "Epoch = 21. Time index = 3. Threshold MC = 0.5. Threshold MD = 0.8\n",
      "RD = 421 NZ = 506 NZA = 1094 pNZ = 0.044% pNZA = 0.095% AD = 83.20% ADA = 38.48% NO = 62 GSP = 53.23% NSP = 37.10%\n",
      "SI2 = -5.10 SI = -11.10 eGROI = 0.50% eROI = -1.86% eROI2 = -0.74% eROI3 = -1.36% mSpread = 0.0379%\n"
     ]
    },
    {
     "name": "stderr",
     "output_type": "stream",
     "text": [
      "0it [00:00, ?it/s]\n"
     ]
    },
    {
     "name": "stdout",
     "output_type": "stream",
     "text": [
      "Epoch = 21. Time index = 3. Threshold MC = 0.5. Threshold MD = 0.9\n",
      "RD = 4 NZ = 4 NZA = 6 pNZ = 0.000% pNZA = 0.001% AD = 100.00% ADA = 66.67% NO = 1 GSP = 0.00% NSP = 0.00%\n",
      "SI2 = -0.55 SI = -0.55 eGROI = 0.00% eROI = 0.00% eROI2 = 0.00% eROI3 = 0.00% mSpread = 0.0000%\n",
      "\n"
     ]
    },
    {
     "name": "stderr",
     "output_type": "stream",
     "text": [
      "0it [00:00, ?it/s]\n"
     ]
    },
    {
     "name": "stdout",
     "output_type": "stream",
     "text": [
      "Epoch = 21. Time index = 3. Threshold MC = 0.6. Threshold MD = 0.5\n",
      "RD = 85805 NZ = 161696 NZA = 268902 pNZ = 14.076% pNZA = 23.409% AD = 53.07% ADA = 31.91% NO = 1 GSP = 0.00% NSP = 0.00%\n",
      "SI2 = -0.55 SI = -0.55 eGROI = 0.00% eROI = 0.00% eROI2 = 0.00% eROI3 = 0.00% mSpread = 0.0000%\n"
     ]
    },
    {
     "name": "stderr",
     "output_type": "stream",
     "text": [
      "100%|████████████████████████████████████████████████████████████████████████████████████████████████████████████████████████████████| 13045/13045 [00:02<00:00, 5310.43it/s]\n"
     ]
    },
    {
     "name": "stdout",
     "output_type": "stream",
     "text": [
      "Epoch = 21. Time index = 3. Threshold MC = 0.6. Threshold MD = 0.6\n",
      "RD = 7683 NZ = 12049 NZA = 21209 pNZ = 1.049% pNZA = 1.846% AD = 63.76% ADA = 36.23% NO = 2737 GSP = 60.36% NSP = 45.27%\n",
      "SI2 = -118.35 SI = -266.35 eGROI = 39.10% eROI = -35.21% eROI2 = -15.64% eROI3 = -43.01% mSpread = 0.0272%\n"
     ]
    },
    {
     "name": "stderr",
     "output_type": "stream",
     "text": [
      "100%|██████████████████████████████████████████████████████████████████████████████████████████████████████████████████████████████████| 1951/1951 [00:00<00:00, 4376.29it/s]\n"
     ]
    },
    {
     "name": "stdout",
     "output_type": "stream",
     "text": [
      "Epoch = 21. Time index = 3. Threshold MC = 0.6. Threshold MD = 0.7\n",
      "RD = 1475 NZ = 2011 NZA = 3794 pNZ = 0.175% pNZA = 0.330% AD = 73.35% ADA = 38.88% NO = 484 GSP = 67.77% NSP = 43.39%\n",
      "SI2 = 0.80 SI = -56.20 eGROI = 9.32% eROI = -7.69% eROI2 = -0.36% eROI3 = -5.20% mSpread = 0.0351%\n"
     ]
    },
    {
     "name": "stderr",
     "output_type": "stream",
     "text": [
      "100%|████████████████████████████████████████████████████████████████████████████████████████████████████████████████████████████████████| 180/180 [00:00<00:00, 3682.80it/s]\n"
     ]
    },
    {
     "name": "stdout",
     "output_type": "stream",
     "text": [
      "Epoch = 21. Time index = 3. Threshold MC = 0.6. Threshold MD = 0.8\n",
      "RD = 248 NZ = 304 NZA = 565 pNZ = 0.026% pNZA = 0.049% AD = 81.58% ADA = 43.89% NO = 61 GSP = 52.46% NSP = 36.07%\n",
      "SI2 = -5.55 SI = -11.55 eGROI = 0.44% eROI = -1.86% eROI2 = -0.78% eROI3 = -1.39% mSpread = 0.0377%\n"
     ]
    },
    {
     "name": "stderr",
     "output_type": "stream",
     "text": [
      "0it [00:00, ?it/s]\n"
     ]
    },
    {
     "name": "stdout",
     "output_type": "stream",
     "text": [
      "Epoch = 21. Time index = 3. Threshold MC = 0.6. Threshold MD = 0.9\n",
      "RD = 4 NZ = 4 NZA = 5 pNZ = 0.000% pNZA = 0.000% AD = 100.00% ADA = 80.00% NO = 1 GSP = 0.00% NSP = 0.00%\n",
      "SI2 = -0.55 SI = -0.55 eGROI = 0.00% eROI = 0.00% eROI2 = 0.00% eROI3 = 0.00% mSpread = 0.0000%\n",
      "\n"
     ]
    },
    {
     "name": "stderr",
     "output_type": "stream",
     "text": [
      "100%|████████████████████████████████████████████████████████████████████████████████████████████████████████████████████████████████| 10256/10256 [00:02<00:00, 4590.77it/s]\n"
     ]
    },
    {
     "name": "stdout",
     "output_type": "stream",
     "text": [
      "Epoch = 21. Time index = 3. Threshold MC = 0.7. Threshold MD = 0.5\n",
      "RD = 6088 NZ = 10841 NZA = 15219 pNZ = 0.944% pNZA = 1.325% AD = 56.16% ADA = 40.00% NO = 1998 GSP = 54.05% NSP = 45.90%\n",
      "SI2 = -151.90 SI = -181.90 eGROI = 13.28% eROI = -30.12% eROI2 = -26.68% eROI3 = -46.66% mSpread = 0.0217%\n"
     ]
    },
    {
     "name": "stderr",
     "output_type": "stream",
     "text": [
      "100%|██████████████████████████████████████████████████████████████████████████████████████████████████████████████████████████████████| 3425/3425 [00:00<00:00, 4789.57it/s]\n"
     ]
    },
    {
     "name": "stdout",
     "output_type": "stream",
     "text": [
      "Epoch = 21. Time index = 3. Threshold MC = 0.7. Threshold MD = 0.6\n",
      "RD = 1941 NZ = 3039 NZA = 4400 pNZ = 0.265% pNZA = 0.383% AD = 63.87% ADA = 44.11% NO = 913 GSP = 61.56% NSP = 50.71%\n",
      "SI2 = -13.15 SI = -39.15 eGROI = 17.08% eROI = -4.18% eROI2 = -1.18% eROI3 = -10.31% mSpread = 0.0233%\n"
     ]
    },
    {
     "name": "stderr",
     "output_type": "stream",
     "text": [
      "100%|████████████████████████████████████████████████████████████████████████████████████████████████████████████████████████████████████| 355/355 [00:00<00:00, 3746.64it/s]\n"
     ]
    },
    {
     "name": "stdout",
     "output_type": "stream",
     "text": [
      "Epoch = 21. Time index = 3. Threshold MC = 0.7. Threshold MD = 0.7\n",
      "RD = 405 NZ = 555 NZA = 821 pNZ = 0.048% pNZA = 0.071% AD = 72.97% ADA = 49.33% NO = 155 GSP = 67.10% NSP = 49.03%\n",
      "SI2 = -2.25 SI = -9.25 eGROI = 2.46% eROI = -2.20% eROI2 = -0.64% eROI3 = -2.19% mSpread = 0.0300%\n"
     ]
    },
    {
     "name": "stderr",
     "output_type": "stream",
     "text": [
      "100%|██████████████████████████████████████████████████████████████████████████████████████████████████████████████████████████████████████| 20/20 [00:00<00:00, 1671.10it/s]\n"
     ]
    },
    {
     "name": "stdout",
     "output_type": "stream",
     "text": [
      "Epoch = 21. Time index = 3. Threshold MC = 0.7. Threshold MD = 0.8\n",
      "RD = 102 NZ = 115 NZA = 157 pNZ = 0.010% pNZA = 0.014% AD = 88.70% ADA = 64.97% NO = 17 GSP = 52.94% NSP = 29.41%\n",
      "SI2 = -3.35 SI = -4.35 eGROI = 0.55% eROI = -0.10% eROI2 = 0.21% eROI3 = 0.04% mSpread = 0.0384%\n"
     ]
    },
    {
     "name": "stderr",
     "output_type": "stream",
     "text": [
      "0it [00:00, ?it/s]\n"
     ]
    },
    {
     "name": "stdout",
     "output_type": "stream",
     "text": [
      "Epoch = 21. Time index = 3. Threshold MC = 0.7. Threshold MD = 0.9\n",
      "RD = 4 NZ = 4 NZA = 4 pNZ = 0.000% pNZA = 0.000% AD = 100.00% ADA = 100.00% NO = 1 GSP = 0.00% NSP = 0.00%\n",
      "SI2 = -0.55 SI = -0.55 eGROI = 0.00% eROI = 0.00% eROI2 = 0.00% eROI3 = 0.00% mSpread = 0.0000%\n",
      "\n"
     ]
    },
    {
     "name": "stderr",
     "output_type": "stream",
     "text": [
      "100%|████████████████████████████████████████████████████████████████████████████████████████████████████████████████████████████████████| 695/695 [00:00<00:00, 2990.78it/s]\n"
     ]
    },
    {
     "name": "stdout",
     "output_type": "stream",
     "text": [
      "Epoch = 21. Time index = 3. Threshold MC = 0.8. Threshold MD = 0.5\n",
      "RD = 404 NZ = 670 NZA = 842 pNZ = 0.058% pNZA = 0.073% AD = 60.30% ADA = 47.98% NO = 380 GSP = 56.05% NSP = 49.74%\n",
      "SI2 = -17.00 SI = -20.00 eGROI = 6.70% eROI = -1.65% eROI2 = -0.90% eROI3 = -4.70% mSpread = 0.0220%\n"
     ]
    },
    {
     "name": "stderr",
     "output_type": "stream",
     "text": [
      "100%|████████████████████████████████████████████████████████████████████████████████████████████████████████████████████████████████████| 289/289 [00:00<00:00, 3184.36it/s]\n"
     ]
    },
    {
     "name": "stdout",
     "output_type": "stream",
     "text": [
      "Epoch = 21. Time index = 3. Threshold MC = 0.8. Threshold MD = 0.6\n",
      "RD = 192 NZ = 293 NZA = 368 pNZ = 0.026% pNZA = 0.032% AD = 65.53% ADA = 52.17% NO = 169 GSP = 62.13% NSP = 55.62%\n",
      "SI2 = 5.05 SI = 1.05 eGROI = 4.33% eROI = 0.26% eROI2 = 0.95% eROI3 = -0.74% mSpread = 0.0241%\n"
     ]
    },
    {
     "name": "stderr",
     "output_type": "stream",
     "text": [
      "100%|██████████████████████████████████████████████████████████████████████████████████████████████████████████████████████████████████████| 20/20 [00:00<00:00, 1671.10it/s]\n"
     ]
    },
    {
     "name": "stdout",
     "output_type": "stream",
     "text": [
      "Epoch = 21. Time index = 3. Threshold MC = 0.8. Threshold MD = 0.7\n",
      "RD = 46 NZ = 53 NZA = 72 pNZ = 0.005% pNZA = 0.006% AD = 86.79% ADA = 63.89% NO = 15 GSP = 80.00% NSP = 60.00%\n",
      "SI2 = 0.75 SI = 0.75 eGROI = 1.08% eROI = 0.60% eROI2 = 0.78% eROI3 = 0.63% mSpread = 0.0318%\n"
     ]
    },
    {
     "name": "stderr",
     "output_type": "stream",
     "text": [
      "0it [00:00, ?it/s]\n"
     ]
    },
    {
     "name": "stdout",
     "output_type": "stream",
     "text": [
      "Epoch = 21. Time index = 3. Threshold MC = 0.8. Threshold MD = 0.8\n",
      "RD = 19 NZ = 21 NZA = 25 pNZ = 0.002% pNZA = 0.002% AD = 90.48% ADA = 76.00% NO = 1 GSP = 0.00% NSP = 0.00%\n",
      "SI2 = -0.55 SI = -0.55 eGROI = 0.00% eROI = 0.00% eROI2 = 0.00% eROI3 = 0.00% mSpread = 0.0000%\n"
     ]
    },
    {
     "name": "stderr",
     "output_type": "stream",
     "text": [
      "0it [00:00, ?it/s]\n"
     ]
    },
    {
     "name": "stdout",
     "output_type": "stream",
     "text": [
      "Epoch = 21. Time index = 3. Threshold MC = 0.8. Threshold MD = 0.9\n",
      "RD = 2 NZ = 2 NZA = 2 pNZ = 0.000% pNZA = 0.000% AD = 100.00% ADA = 100.00% NO = 1 GSP = 0.00% NSP = 0.00%\n",
      "SI2 = -0.55 SI = -0.55 eGROI = 0.00% eROI = 0.00% eROI2 = 0.00% eROI3 = 0.00% mSpread = 0.0000%\n",
      "\n"
     ]
    },
    {
     "name": "stderr",
     "output_type": "stream",
     "text": [
      "0it [00:00, ?it/s]\n"
     ]
    },
    {
     "name": "stdout",
     "output_type": "stream",
     "text": [
      "Epoch = 21. Time index = 3. Threshold MC = 0.9. Threshold MD = 0.5\n",
      "RD = 0 NZ = 0 NZA = 0 pNZ = 0.000% pNZA = 0.000% AD = 0.00% ADA = 0.00% NO = 1 GSP = 0.00% NSP = 0.00%\n",
      "SI2 = -0.55 SI = -0.55 eGROI = 0.00% eROI = 0.00% eROI2 = 0.00% eROI3 = 0.00% mSpread = 0.0000%\n"
     ]
    },
    {
     "name": "stderr",
     "output_type": "stream",
     "text": [
      "0it [00:00, ?it/s]\n"
     ]
    },
    {
     "name": "stdout",
     "output_type": "stream",
     "text": [
      "Epoch = 21. Time index = 3. Threshold MC = 0.9. Threshold MD = 0.6\n",
      "RD = 0 NZ = 0 NZA = 0 pNZ = 0.000% pNZA = 0.000% AD = 0.00% ADA = 0.00% NO = 1 GSP = 0.00% NSP = 0.00%\n",
      "SI2 = -0.55 SI = -0.55 eGROI = 0.00% eROI = 0.00% eROI2 = 0.00% eROI3 = 0.00% mSpread = 0.0000%\n"
     ]
    },
    {
     "name": "stderr",
     "output_type": "stream",
     "text": [
      "0it [00:00, ?it/s]\n"
     ]
    },
    {
     "name": "stdout",
     "output_type": "stream",
     "text": [
      "Epoch = 21. Time index = 3. Threshold MC = 0.9. Threshold MD = 0.7\n",
      "RD = 0 NZ = 0 NZA = 0 pNZ = 0.000% pNZA = 0.000% AD = 0.00% ADA = 0.00% NO = 1 GSP = 0.00% NSP = 0.00%\n",
      "SI2 = -0.55 SI = -0.55 eGROI = 0.00% eROI = 0.00% eROI2 = 0.00% eROI3 = 0.00% mSpread = 0.0000%\n"
     ]
    },
    {
     "name": "stderr",
     "output_type": "stream",
     "text": [
      "0it [00:00, ?it/s]\n"
     ]
    },
    {
     "name": "stdout",
     "output_type": "stream",
     "text": [
      "Epoch = 21. Time index = 3. Threshold MC = 0.9. Threshold MD = 0.8\n",
      "RD = 0 NZ = 0 NZA = 0 pNZ = 0.000% pNZA = 0.000% AD = 0.00% ADA = 0.00% NO = 1 GSP = 0.00% NSP = 0.00%\n",
      "SI2 = -0.55 SI = -0.55 eGROI = 0.00% eROI = 0.00% eROI2 = 0.00% eROI3 = 0.00% mSpread = 0.0000%\n"
     ]
    },
    {
     "name": "stderr",
     "output_type": "stream",
     "text": [
      "0it [00:00, ?it/s]\n"
     ]
    },
    {
     "name": "stdout",
     "output_type": "stream",
     "text": [
      "Epoch = 21. Time index = 3. Threshold MC = 0.9. Threshold MD = 0.9\n",
      "RD = 0 NZ = 0 NZA = 0 pNZ = 0.000% pNZA = 0.000% AD = 0.00% ADA = 0.00% NO = 1 GSP = 0.00% NSP = 0.00%\n",
      "SI2 = -0.55 SI = -0.55 eGROI = 0.00% eROI = 0.00% eROI2 = 0.00% eROI3 = 0.00% mSpread = 0.0000%\n",
      "\n",
      "Best eGROI = 51.99 t_index 2 thr_mc 0.5 thr_md 0.6 epoch 21 in 3226\n",
      "Best eROI = 1.60 t_index 0 thr_mc 0.8 thr_md 0.5 epoch 21 in 334\n",
      "Best eROI.5 = 35.86 t_index 2 thr_mc 0.5 thr_md 0.6 epoch 21 in 3226\n",
      "Best eROI1 = 19.73 t_index 2 thr_mc 0.5 thr_md 0.6 epoch 21 in 3226\n",
      "Best eROI1.5 = 3.60 t_index 2 thr_mc 0.5 thr_md 0.6 epoch 21 in 3226\n",
      "Best eROI2 = 1.49 t_index 1 thr_mc 0.8 thr_md 0.6 epoch 21 in 135\n",
      "Best eROI3 = 0.63 t_index 3 thr_mc 0.8 thr_md 0.7 epoch 21 in 15\n",
      "Best eROI4 = 0.48 t_index 3 thr_mc 0.8 thr_md 0.7 epoch 21 in 15\n",
      "Best eROI5 = 0.37 t_index 2 thr_mc 0.8 thr_md 0.7 epoch 21 in 7\n",
      "Best SI = 4.75 t_index 1 thr_mc 0.8 thr_md 0.6 epoch 21 in 135\n",
      "Best SI.5 = 128.25 t_index 0 thr_mc 0.5 thr_md 0.6 epoch 21 in 2485\n",
      "Best SI1 = 71.95 t_index 0 thr_mc 0.6 thr_md 0.6 epoch 21 in 1591\n",
      "Best SI1.5 = 29.95 t_index 0 thr_mc 0.6 thr_md 0.6 epoch 21 in 1591\n",
      "Best SI2 = 8.85 t_index 0 thr_mc 0.7 thr_md 0.6 epoch 21 in 653\n",
      "Best SI3 = 2.75 t_index 1 thr_mc 0.8 thr_md 0.6 epoch 21 in 135\n",
      "Best SI4 = 0.15 t_index 2 thr_mc 0.8 thr_md 0.7 epoch 21 in 7\n",
      "Best SI5 = 0.15 t_index 2 thr_mc 0.8 thr_md 0.7 epoch 21 in 7\n",
      "\n",
      "The very best:\n",
      "Best eGROI = 51.99 t_index 2 thr_mc 0.5 thr_md 0.6 epoch 21 in 3226\n",
      "Best eROI = 3.37 t_index 3 thr_mc 0.8 thr_md 0.5 epoch 8 in 141\n",
      "Best eROI.5 = 35.86 t_index 2 thr_mc 0.5 thr_md 0.6 epoch 21 in 3226\n",
      "Best eROI1 = 19.73 t_index 2 thr_mc 0.5 thr_md 0.6 epoch 21 in 3226\n",
      "Best eROI1.5 = 5.80 t_index 3 thr_mc 0.6 thr_md 0.6 epoch 11 in 1839\n",
      "Best eROI2 = 3.16 t_index 3 thr_mc 0.8 thr_md 0.5 epoch 8 in 141\n",
      "Best eROI3 = 1.75 t_index 3 thr_mc 0.8 thr_md 0.5 epoch 8 in 141\n",
      "Best eROI4 = 0.50 t_index 3 thr_mc 0.8 thr_md 0.6 epoch 10 in 14\n",
      "Best eROI5 = 0.37 t_index 2 thr_mc 0.8 thr_md 0.7 epoch 21 in 7\n",
      "Best SI = 5.55 t_index 0 thr_mc 0.8 thr_md 0.6 epoch 20 in 99\n",
      "Best SI.5 = 135.50 t_index 1 thr_mc 0.5 thr_md 0.6 epoch 20 in 2830\n",
      "Best SI1 = 73.85 t_index 0 thr_mc 0.5 thr_md 0.6 epoch 14 in 1933\n",
      "Best SI1.5 = 29.95 t_index 0 thr_mc 0.6 thr_md 0.6 epoch 21 in 1591\n",
      "Best SI2 = 9.05 t_index 3 thr_mc 0.8 thr_md 0.6 epoch 18 in 129\n",
      "Best SI3 = 5.05 t_index 3 thr_mc 0.8 thr_md 0.6 epoch 18 in 129\n",
      "Best SI4 = 1.95 t_index 3 thr_mc 0.8 thr_md 0.6 epoch 13 in 51\n",
      "Best SI5 = 1.05 t_index 0 thr_mc 0.5 thr_md 0.7 epoch 13 in 9\n",
      "Time=89.67 secs\n",
      "INFO:tensorflow:Restoring parameters from ../../RNN/weights/000520/000022/000022\n",
      "Parameters loaded. Epoch 22\n",
      "Epoch 22 of 34. Getting output...\n"
     ]
    },
    {
     "name": "stderr",
     "output_type": "stream",
     "text": [
      "100%|████████████████████████████████████████████████████████████████████████████████████████████████████████████████████████████████████████| 23/23 [01:33<00:00,  3.93s/it]\n"
     ]
    },
    {
     "name": "stdout",
     "output_type": "stream",
     "text": [
      "Getting results\n",
      "Epoch 22, J_train = 6.498013822746235, J_test = 6.328172787376072\n"
     ]
    },
    {
     "name": "stderr",
     "output_type": "stream",
     "text": [
      "0it [00:00, ?it/s]\n"
     ]
    },
    {
     "name": "stdout",
     "output_type": "stream",
     "text": [
      "Epoch = 22. Time index = 0. Threshold MC = 0.5. Threshold MD = 0.5\n",
      "J_test = 6.328172787376072, J_train = 6.498013822746235, Accuracy=0.5516825929088831\n",
      "RD = 260165 NZ = 500371 NZA = 947304 pNZ = 43.559% pNZA = 82.465% AD = 51.99% ADA = 27.46% NO = 1 GSP = 0.00% NSP = 0.00%\n",
      "SI2 = -0.55 SI = -0.55 eGROI = 0.00% eROI = 0.00% eROI2 = 0.00% eROI3 = 0.00% mSpread = 0.0000%\n"
     ]
    },
    {
     "name": "stderr",
     "output_type": "stream",
     "text": [
      "100%|████████████████████████████████████████████████████████████████████████████████████████████████████████████████████████████████| 11893/11893 [00:02<00:00, 5679.90it/s]\n"
     ]
    },
    {
     "name": "stdout",
     "output_type": "stream",
     "text": [
      "Epoch = 22. Time index = 0. Threshold MC = 0.5. Threshold MD = 0.6\n",
      "RD = 8918 NZ = 13794 NZA = 27871 pNZ = 1.201% pNZA = 2.426% AD = 64.65% ADA = 32.00% NO = 2547 GSP = 62.70% NSP = 44.92%\n",
      "SI2 = -78.85 SI = -256.85 eGROI = 41.01% eROI = -35.93% eROI2 = -9.93% eROI3 = -35.40% mSpread = 0.0302%\n"
     ]
    },
    {
     "name": "stderr",
     "output_type": "stream",
     "text": [
      "100%|████████████████████████████████████████████████████████████████████████████████████████████████████████████████████████████████████| 669/669 [00:00<00:00, 3876.03it/s]\n"
     ]
    },
    {
     "name": "stdout",
     "output_type": "stream",
     "text": [
      "Epoch = 22. Time index = 0. Threshold MC = 0.5. Threshold MD = 0.7\n",
      "RD = 1193 NZ = 1535 NZA = 3056 pNZ = 0.134% pNZA = 0.266% AD = 77.72% ADA = 39.04% NO = 264 GSP = 68.56% NSP = 39.02%\n",
      "SI2 = -4.20 SI = -42.20 eGROI = 4.88% eROI = -5.06% eROI2 = -0.40% eROI3 = -3.04% mSpread = 0.0377%\n"
     ]
    },
    {
     "name": "stderr",
     "output_type": "stream",
     "text": [
      "0it [00:00, ?it/s]\n"
     ]
    },
    {
     "name": "stdout",
     "output_type": "stream",
     "text": [
      "Epoch = 22. Time index = 0. Threshold MC = 0.5. Threshold MD = 0.8\n",
      "RD = 163 NZ = 171 NZA = 281 pNZ = 0.015% pNZA = 0.024% AD = 95.32% ADA = 58.01% NO = 1 GSP = 0.00% NSP = 0.00%\n",
      "SI2 = -0.55 SI = -0.55 eGROI = 0.00% eROI = 0.00% eROI2 = 0.00% eROI3 = 0.00% mSpread = 0.0000%\n"
     ]
    },
    {
     "name": "stderr",
     "output_type": "stream",
     "text": [
      "0it [00:00, ?it/s]\n"
     ]
    },
    {
     "name": "stdout",
     "output_type": "stream",
     "text": [
      "Epoch = 22. Time index = 0. Threshold MC = 0.5. Threshold MD = 0.9\n",
      "RD = 0 NZ = 0 NZA = 0 pNZ = 0.000% pNZA = 0.000% AD = 0.00% ADA = 0.00% NO = 1 GSP = 0.00% NSP = 0.00%\n",
      "SI2 = -0.55 SI = -0.55 eGROI = 0.00% eROI = 0.00% eROI2 = 0.00% eROI3 = 0.00% mSpread = 0.0000%\n",
      "\n"
     ]
    },
    {
     "name": "stderr",
     "output_type": "stream",
     "text": [
      "0it [00:00, ?it/s]\n"
     ]
    },
    {
     "name": "stdout",
     "output_type": "stream",
     "text": [
      "Epoch = 22. Time index = 0. Threshold MC = 0.6. Threshold MD = 0.5\n",
      "RD = 86329 NZ = 163018 NZA = 267914 pNZ = 14.191% pNZA = 23.323% AD = 52.96% ADA = 32.22% NO = 1 GSP = 0.00% NSP = 0.00%\n",
      "SI2 = -0.55 SI = -0.55 eGROI = 0.00% eROI = 0.00% eROI2 = 0.00% eROI3 = 0.00% mSpread = 0.0000%\n"
     ]
    },
    {
     "name": "stderr",
     "output_type": "stream",
     "text": [
      "100%|██████████████████████████████████████████████████████████████████████████████████████████████████████████████████████████████████| 6219/6219 [00:01<00:00, 4190.57it/s]\n"
     ]
    },
    {
     "name": "stdout",
     "output_type": "stream",
     "text": [
      "Epoch = 22. Time index = 0. Threshold MC = 0.6. Threshold MD = 0.6\n",
      "RD = 4441 NZ = 6863 NZA = 11521 pNZ = 0.597% pNZA = 1.003% AD = 64.71% ADA = 38.55% NO = 1655 GSP = 63.81% NSP = 49.61%\n",
      "SI2 = -17.25 SI = -89.25 eGROI = 28.05% eROI = -16.50% eROI2 = -5.05% eROI3 = -21.60% mSpread = 0.0269%\n"
     ]
    },
    {
     "name": "stderr",
     "output_type": "stream",
     "text": [
      "100%|████████████████████████████████████████████████████████████████████████████████████████████████████████████████████████████████████| 466/466 [00:00<00:00, 3737.97it/s]\n"
     ]
    },
    {
     "name": "stdout",
     "output_type": "stream",
     "text": [
      "Epoch = 22. Time index = 0. Threshold MC = 0.6. Threshold MD = 0.7\n",
      "RD = 650 NZ = 834 NZA = 1467 pNZ = 0.073% pNZA = 0.128% AD = 77.94% ADA = 44.31% NO = 171 GSP = 63.16% NSP = 40.35%\n",
      "SI2 = -5.05 SI = -25.05 eGROI = 2.34% eROI = -3.76% eROI2 = -1.08% eROI3 = -2.79% mSpread = 0.0357%\n"
     ]
    },
    {
     "name": "stderr",
     "output_type": "stream",
     "text": [
      "0it [00:00, ?it/s]\n"
     ]
    },
    {
     "name": "stdout",
     "output_type": "stream",
     "text": [
      "Epoch = 22. Time index = 0. Threshold MC = 0.6. Threshold MD = 0.8\n",
      "RD = 115 NZ = 118 NZA = 165 pNZ = 0.010% pNZA = 0.014% AD = 97.46% ADA = 69.70% NO = 1 GSP = 0.00% NSP = 0.00%\n",
      "SI2 = -0.55 SI = -0.55 eGROI = 0.00% eROI = 0.00% eROI2 = 0.00% eROI3 = 0.00% mSpread = 0.0000%\n"
     ]
    },
    {
     "name": "stderr",
     "output_type": "stream",
     "text": [
      "0it [00:00, ?it/s]\n"
     ]
    },
    {
     "name": "stdout",
     "output_type": "stream",
     "text": [
      "Epoch = 22. Time index = 0. Threshold MC = 0.6. Threshold MD = 0.9\n",
      "RD = 0 NZ = 0 NZA = 0 pNZ = 0.000% pNZA = 0.000% AD = 0.00% ADA = 0.00% NO = 1 GSP = 0.00% NSP = 0.00%\n",
      "SI2 = -0.55 SI = -0.55 eGROI = 0.00% eROI = 0.00% eROI2 = 0.00% eROI3 = 0.00% mSpread = 0.0000%\n",
      "\n"
     ]
    },
    {
     "name": "stderr",
     "output_type": "stream",
     "text": [
      "100%|████████████████████████████████████████████████████████████████████████████████████████████████████████████████████████████████| 13438/13438 [00:02<00:00, 5233.16it/s]\n"
     ]
    },
    {
     "name": "stdout",
     "output_type": "stream",
     "text": [
      "Epoch = 22. Time index = 0. Threshold MC = 0.7. Threshold MD = 0.5\n",
      "RD = 9094 NZ = 16576 NZA = 23276 pNZ = 1.443% pNZA = 2.026% AD = 54.86% ADA = 39.07% NO = 2551 GSP = 53.35% NSP = 45.47%\n",
      "SI2 = -221.05 SI = -243.05 eGROI = 10.89% eROI = -39.51% eROI2 = -40.13% eROI3 = -65.64% mSpread = 0.0198%\n"
     ]
    },
    {
     "name": "stderr",
     "output_type": "stream",
     "text": [
      "100%|██████████████████████████████████████████████████████████████████████████████████████████████████████████████████████████████████| 1865/1865 [00:00<00:00, 4462.92it/s]\n"
     ]
    },
    {
     "name": "stdout",
     "output_type": "stream",
     "text": [
      "Epoch = 22. Time index = 0. Threshold MC = 0.7. Threshold MD = 0.6\n",
      "RD = 1455 NZ = 2249 NZA = 3104 pNZ = 0.196% pNZA = 0.270% AD = 64.70% ADA = 46.88% NO = 686 GSP = 62.54% NSP = 54.81%\n",
      "SI2 = 6.70 SI = -1.30 eGROI = 10.58% eROI = -3.81% eROI2 = -3.14% eROI3 = -10.00% mSpread = 0.0210%\n"
     ]
    },
    {
     "name": "stderr",
     "output_type": "stream",
     "text": [
      "100%|██████████████████████████████████████████████████████████████████████████████████████████████████████████████████████████████████████| 13/13 [00:00<00:00, 2169.15it/s]\n"
     ]
    },
    {
     "name": "stdout",
     "output_type": "stream",
     "text": [
      "Epoch = 22. Time index = 0. Threshold MC = 0.7. Threshold MD = 0.7\n",
      "RD = 158 NZ = 204 NZA = 269 pNZ = 0.018% pNZA = 0.023% AD = 77.45% ADA = 58.74% NO = 11 GSP = 45.45% NSP = 27.27%\n",
      "SI2 = -3.05 SI = -3.05 eGROI = -0.65% eROI = -0.94% eROI2 = -0.87% eROI3 = -0.98% mSpread = 0.0270%\n"
     ]
    },
    {
     "name": "stderr",
     "output_type": "stream",
     "text": [
      "0it [00:00, ?it/s]\n"
     ]
    },
    {
     "name": "stdout",
     "output_type": "stream",
     "text": [
      "Epoch = 22. Time index = 0. Threshold MC = 0.7. Threshold MD = 0.8\n",
      "RD = 44 NZ = 44 NZA = 51 pNZ = 0.004% pNZA = 0.004% AD = 100.00% ADA = 86.27% NO = 1 GSP = 0.00% NSP = 0.00%\n",
      "SI2 = -0.55 SI = -0.55 eGROI = 0.00% eROI = 0.00% eROI2 = 0.00% eROI3 = 0.00% mSpread = 0.0000%\n"
     ]
    },
    {
     "name": "stderr",
     "output_type": "stream",
     "text": [
      "0it [00:00, ?it/s]\n"
     ]
    },
    {
     "name": "stdout",
     "output_type": "stream",
     "text": [
      "Epoch = 22. Time index = 0. Threshold MC = 0.7. Threshold MD = 0.9\n",
      "RD = 0 NZ = 0 NZA = 0 pNZ = 0.000% pNZA = 0.000% AD = 0.00% ADA = 0.00% NO = 1 GSP = 0.00% NSP = 0.00%\n",
      "SI2 = -0.55 SI = -0.55 eGROI = 0.00% eROI = 0.00% eROI2 = 0.00% eROI3 = 0.00% mSpread = 0.0000%\n",
      "\n"
     ]
    },
    {
     "name": "stderr",
     "output_type": "stream",
     "text": [
      "100%|████████████████████████████████████████████████████████████████████████████████████████████████████████████████████████████████████| 679/679 [00:00<00:00, 3602.18it/s]\n"
     ]
    },
    {
     "name": "stdout",
     "output_type": "stream",
     "text": [
      "Epoch = 22. Time index = 0. Threshold MC = 0.8. Threshold MD = 0.5\n",
      "RD = 475 NZ = 773 NZA = 974 pNZ = 0.067% pNZA = 0.085% AD = 61.45% ADA = 48.77% NO = 336 GSP = 55.36% NSP = 52.38%\n",
      "SI2 = -10.80 SI = -8.80 eGROI = 8.08% eROI = 1.77% eROI2 = 1.36% eROI3 = -2.00% mSpread = 0.0188%\n"
     ]
    },
    {
     "name": "stderr",
     "output_type": "stream",
     "text": [
      "100%|████████████████████████████████████████████████████████████████████████████████████████████████████████████████████████████████████| 146/146 [00:00<00:00, 2762.09it/s]\n"
     ]
    },
    {
     "name": "stdout",
     "output_type": "stream",
     "text": [
      "Epoch = 22. Time index = 0. Threshold MC = 0.8. Threshold MD = 0.6\n",
      "RD = 129 NZ = 196 NZA = 251 pNZ = 0.017% pNZA = 0.022% AD = 65.82% ADA = 51.39% NO = 113 GSP = 62.83% NSP = 60.18%\n",
      "SI2 = 5.85 SI = 5.85 eGROI = 3.93% eROI = 1.85% eROI2 = 1.67% eROI3 = 0.54% mSpread = 0.0184%\n"
     ]
    },
    {
     "name": "stderr",
     "output_type": "stream",
     "text": [
      "0it [00:00, ?it/s]\n"
     ]
    },
    {
     "name": "stdout",
     "output_type": "stream",
     "text": [
      "Epoch = 22. Time index = 0. Threshold MC = 0.8. Threshold MD = 0.7\n",
      "RD = 16 NZ = 23 NZA = 27 pNZ = 0.002% pNZA = 0.002% AD = 69.57% ADA = 59.26% NO = 1 GSP = 0.00% NSP = 0.00%\n",
      "SI2 = -0.55 SI = -0.55 eGROI = 0.00% eROI = 0.00% eROI2 = 0.00% eROI3 = 0.00% mSpread = 0.0000%\n"
     ]
    },
    {
     "name": "stderr",
     "output_type": "stream",
     "text": [
      "0it [00:00, ?it/s]\n"
     ]
    },
    {
     "name": "stdout",
     "output_type": "stream",
     "text": [
      "Epoch = 22. Time index = 0. Threshold MC = 0.8. Threshold MD = 0.8\n",
      "RD = 1 NZ = 1 NZA = 1 pNZ = 0.000% pNZA = 0.000% AD = 100.00% ADA = 100.00% NO = 1 GSP = 0.00% NSP = 0.00%\n",
      "SI2 = -0.55 SI = -0.55 eGROI = 0.00% eROI = 0.00% eROI2 = 0.00% eROI3 = 0.00% mSpread = 0.0000%\n"
     ]
    },
    {
     "name": "stderr",
     "output_type": "stream",
     "text": [
      "0it [00:00, ?it/s]\n"
     ]
    },
    {
     "name": "stdout",
     "output_type": "stream",
     "text": [
      "Epoch = 22. Time index = 0. Threshold MC = 0.8. Threshold MD = 0.9\n",
      "RD = 0 NZ = 0 NZA = 0 pNZ = 0.000% pNZA = 0.000% AD = 0.00% ADA = 0.00% NO = 1 GSP = 0.00% NSP = 0.00%\n",
      "SI2 = -0.55 SI = -0.55 eGROI = 0.00% eROI = 0.00% eROI2 = 0.00% eROI3 = 0.00% mSpread = 0.0000%\n",
      "\n"
     ]
    },
    {
     "name": "stderr",
     "output_type": "stream",
     "text": [
      "0it [00:00, ?it/s]\n"
     ]
    },
    {
     "name": "stdout",
     "output_type": "stream",
     "text": [
      "Epoch = 22. Time index = 0. Threshold MC = 0.9. Threshold MD = 0.5\n",
      "RD = 0 NZ = 0 NZA = 0 pNZ = 0.000% pNZA = 0.000% AD = 0.00% ADA = 0.00% NO = 1 GSP = 0.00% NSP = 0.00%\n",
      "SI2 = -0.55 SI = -0.55 eGROI = 0.00% eROI = 0.00% eROI2 = 0.00% eROI3 = 0.00% mSpread = 0.0000%\n"
     ]
    },
    {
     "name": "stderr",
     "output_type": "stream",
     "text": [
      "0it [00:00, ?it/s]\n"
     ]
    },
    {
     "name": "stdout",
     "output_type": "stream",
     "text": [
      "Epoch = 22. Time index = 0. Threshold MC = 0.9. Threshold MD = 0.6\n",
      "RD = 0 NZ = 0 NZA = 0 pNZ = 0.000% pNZA = 0.000% AD = 0.00% ADA = 0.00% NO = 1 GSP = 0.00% NSP = 0.00%\n",
      "SI2 = -0.55 SI = -0.55 eGROI = 0.00% eROI = 0.00% eROI2 = 0.00% eROI3 = 0.00% mSpread = 0.0000%\n"
     ]
    },
    {
     "name": "stderr",
     "output_type": "stream",
     "text": [
      "0it [00:00, ?it/s]\n"
     ]
    },
    {
     "name": "stdout",
     "output_type": "stream",
     "text": [
      "Epoch = 22. Time index = 0. Threshold MC = 0.9. Threshold MD = 0.7\n",
      "RD = 0 NZ = 0 NZA = 0 pNZ = 0.000% pNZA = 0.000% AD = 0.00% ADA = 0.00% NO = 1 GSP = 0.00% NSP = 0.00%\n",
      "SI2 = -0.55 SI = -0.55 eGROI = 0.00% eROI = 0.00% eROI2 = 0.00% eROI3 = 0.00% mSpread = 0.0000%\n"
     ]
    },
    {
     "name": "stderr",
     "output_type": "stream",
     "text": [
      "0it [00:00, ?it/s]\n"
     ]
    },
    {
     "name": "stdout",
     "output_type": "stream",
     "text": [
      "Epoch = 22. Time index = 0. Threshold MC = 0.9. Threshold MD = 0.8\n",
      "RD = 0 NZ = 0 NZA = 0 pNZ = 0.000% pNZA = 0.000% AD = 0.00% ADA = 0.00% NO = 1 GSP = 0.00% NSP = 0.00%\n",
      "SI2 = -0.55 SI = -0.55 eGROI = 0.00% eROI = 0.00% eROI2 = 0.00% eROI3 = 0.00% mSpread = 0.0000%\n"
     ]
    },
    {
     "name": "stderr",
     "output_type": "stream",
     "text": [
      "0it [00:00, ?it/s]\n"
     ]
    },
    {
     "name": "stdout",
     "output_type": "stream",
     "text": [
      "Epoch = 22. Time index = 0. Threshold MC = 0.9. Threshold MD = 0.9\n",
      "RD = 0 NZ = 0 NZA = 0 pNZ = 0.000% pNZA = 0.000% AD = 0.00% ADA = 0.00% NO = 1 GSP = 0.00% NSP = 0.00%\n",
      "SI2 = -0.55 SI = -0.55 eGROI = 0.00% eROI = 0.00% eROI2 = 0.00% eROI3 = 0.00% mSpread = 0.0000%\n",
      "\n"
     ]
    },
    {
     "name": "stderr",
     "output_type": "stream",
     "text": [
      "0it [00:00, ?it/s]\n"
     ]
    },
    {
     "name": "stdout",
     "output_type": "stream",
     "text": [
      "Epoch = 22. Time index = 1. Threshold MC = 0.5. Threshold MD = 0.5\n",
      "J_test = 6.328172787376072, J_train = 6.498013822746235, Accuracy=0.5464933975083853\n",
      "RD = 262982 NZ = 505861 NZA = 964245 pNZ = 44.036% pNZA = 83.940% AD = 51.99% ADA = 27.27% NO = 1 GSP = 0.00% NSP = 0.00%\n",
      "SI2 = -0.55 SI = -0.55 eGROI = 0.00% eROI = 0.00% eROI2 = 0.00% eROI3 = 0.00% mSpread = 0.0000%\n"
     ]
    },
    {
     "name": "stderr",
     "output_type": "stream",
     "text": [
      "100%|████████████████████████████████████████████████████████████████████████████████████████████████████████████████████████████████| 16032/16032 [00:03<00:00, 5122.64it/s]\n"
     ]
    },
    {
     "name": "stdout",
     "output_type": "stream",
     "text": [
      "Epoch = 22. Time index = 1. Threshold MC = 0.5. Threshold MD = 0.6\n",
      "RD = 11470 NZ = 17737 NZA = 36545 pNZ = 1.544% pNZA = 3.181% AD = 64.67% ADA = 31.39% NO = 3061 GSP = 61.16% NSP = 44.10%\n",
      "SI2 = -149.55 SI = -333.55 eGROI = 47.11% eROI = -41.08% eROI2 = -14.11% eROI3 = -44.72% mSpread = 0.0288%\n"
     ]
    },
    {
     "name": "stderr",
     "output_type": "stream",
     "text": [
      "100%|██████████████████████████████████████████████████████████████████████████████████████████████████████████████████████████████████| 1914/1914 [00:01<00:00, 1526.73it/s]\n"
     ]
    },
    {
     "name": "stdout",
     "output_type": "stream",
     "text": [
      "Epoch = 22. Time index = 1. Threshold MC = 0.5. Threshold MD = 0.7\n",
      "RD = 2167 NZ = 2891 NZA = 6166 pNZ = 0.252% pNZA = 0.537% AD = 74.96% ADA = 35.14% NO = 467 GSP = 67.67% NSP = 41.97%\n",
      "SI2 = -4.85 SI = -60.85 eGROI = 8.63% eROI = -8.85% eROI2 = -0.71% eROI3 = -5.38% mSpread = 0.0374%\n"
     ]
    },
    {
     "name": "stderr",
     "output_type": "stream",
     "text": [
      "100%|████████████████████████████████████████████████████████████████████████████████████████████████████████████████████████████████████████| 2/2 [00:00<00:00, 1003.42it/s]\n"
     ]
    },
    {
     "name": "stdout",
     "output_type": "stream",
     "text": [
      "Epoch = 22. Time index = 1. Threshold MC = 0.5. Threshold MD = 0.8\n",
      "RD = 364 NZ = 404 NZA = 710 pNZ = 0.035% pNZA = 0.062% AD = 90.10% ADA = 51.27% NO = 2 GSP = 100.00% NSP = 50.00%\n",
      "SI2 = -0.10 SI = -0.10 eGROI = 0.16% eROI = 0.02% eROI2 = 0.12% eROI3 = 0.10% mSpread = 0.0698%\n"
     ]
    },
    {
     "name": "stderr",
     "output_type": "stream",
     "text": [
      "0it [00:00, ?it/s]\n"
     ]
    },
    {
     "name": "stdout",
     "output_type": "stream",
     "text": [
      "Epoch = 22. Time index = 1. Threshold MC = 0.5. Threshold MD = 0.9\n",
      "RD = 9 NZ = 9 NZA = 14 pNZ = 0.001% pNZA = 0.001% AD = 100.00% ADA = 64.29% NO = 1 GSP = 0.00% NSP = 0.00%\n",
      "SI2 = -0.55 SI = -0.55 eGROI = 0.00% eROI = 0.00% eROI2 = 0.00% eROI3 = 0.00% mSpread = 0.0000%\n",
      "\n"
     ]
    },
    {
     "name": "stderr",
     "output_type": "stream",
     "text": [
      "0it [00:00, ?it/s]\n"
     ]
    },
    {
     "name": "stdout",
     "output_type": "stream",
     "text": [
      "Epoch = 22. Time index = 1. Threshold MC = 0.6. Threshold MD = 0.5\n",
      "RD = 85680 NZ = 161773 NZA = 267491 pNZ = 14.083% pNZA = 23.286% AD = 52.96% ADA = 32.03% NO = 1 GSP = 0.00% NSP = 0.00%\n",
      "SI2 = -0.55 SI = -0.55 eGROI = 0.00% eROI = 0.00% eROI2 = 0.00% eROI3 = 0.00% mSpread = 0.0000%\n"
     ]
    },
    {
     "name": "stderr",
     "output_type": "stream",
     "text": [
      "100%|████████████████████████████████████████████████████████████████████████████████████████████████████████████████████████████████| 10248/10248 [00:02<00:00, 4973.33it/s]\n"
     ]
    },
    {
     "name": "stdout",
     "output_type": "stream",
     "text": [
      "Epoch = 22. Time index = 1. Threshold MC = 0.6. Threshold MD = 0.6\n",
      "RD = 6195 NZ = 9450 NZA = 16293 pNZ = 0.823% pNZA = 1.418% AD = 65.56% ADA = 38.02% NO = 2326 GSP = 61.39% NSP = 46.69%\n",
      "SI2 = -100.30 SI = -193.30 eGROI = 36.03% eROI = -25.78% eROI2 = -10.49% eROI3 = -33.75% mSpread = 0.0266%\n"
     ]
    },
    {
     "name": "stderr",
     "output_type": "stream",
     "text": [
      "100%|██████████████████████████████████████████████████████████████████████████████████████████████████████████████████████████████████| 1540/1540 [00:00<00:00, 4207.81it/s]\n"
     ]
    },
    {
     "name": "stdout",
     "output_type": "stream",
     "text": [
      "Epoch = 22. Time index = 1. Threshold MC = 0.6. Threshold MD = 0.7\n",
      "RD = 1230 NZ = 1636 NZA = 3029 pNZ = 0.142% pNZA = 0.264% AD = 75.18% ADA = 40.61% NO = 389 GSP = 67.10% NSP = 43.70%\n",
      "SI2 = -6.95 SI = -43.95 eGROI = 7.60% eROI = -6.31% eROI2 = -0.18% eROI3 = -4.07% mSpread = 0.0357%\n"
     ]
    },
    {
     "name": "stderr",
     "output_type": "stream",
     "text": [
      "100%|████████████████████████████████████████████████████████████████████████████████████████████████████████████████████████████████████████| 2/2 [00:00<00:00, 1002.46it/s]\n"
     ]
    },
    {
     "name": "stdout",
     "output_type": "stream",
     "text": [
      "Epoch = 22. Time index = 1. Threshold MC = 0.6. Threshold MD = 0.8\n",
      "RD = 260 NZ = 283 NZA = 435 pNZ = 0.025% pNZA = 0.038% AD = 91.87% ADA = 59.77% NO = 2 GSP = 100.00% NSP = 50.00%\n",
      "SI2 = -0.10 SI = -0.10 eGROI = 0.16% eROI = 0.02% eROI2 = 0.12% eROI3 = 0.10% mSpread = 0.0698%\n"
     ]
    },
    {
     "name": "stderr",
     "output_type": "stream",
     "text": [
      "0it [00:00, ?it/s]\n"
     ]
    },
    {
     "name": "stdout",
     "output_type": "stream",
     "text": [
      "Epoch = 22. Time index = 1. Threshold MC = 0.6. Threshold MD = 0.9\n",
      "RD = 9 NZ = 9 NZA = 13 pNZ = 0.001% pNZA = 0.001% AD = 100.00% ADA = 69.23% NO = 1 GSP = 0.00% NSP = 0.00%\n",
      "SI2 = -0.55 SI = -0.55 eGROI = 0.00% eROI = 0.00% eROI2 = 0.00% eROI3 = 0.00% mSpread = 0.0000%\n",
      "\n"
     ]
    },
    {
     "name": "stderr",
     "output_type": "stream",
     "text": [
      "100%|██████████████████████████████████████████████████████████████████████████████████████████████████████████████████████████████████| 9835/9835 [00:01<00:00, 5198.22it/s]\n"
     ]
    },
    {
     "name": "stdout",
     "output_type": "stream",
     "text": [
      "Epoch = 22. Time index = 1. Threshold MC = 0.7. Threshold MD = 0.5\n",
      "RD = 6141 NZ = 10944 NZA = 15161 pNZ = 0.953% pNZA = 1.320% AD = 56.11% ADA = 40.51% NO = 1959 GSP = 54.47% NSP = 47.22%\n",
      "SI2 = -134.45 SI = -152.45 eGROI = 14.49% eROI = -25.75% eROI2 = -24.69% eROI3 = -44.28% mSpread = 0.0205%\n"
     ]
    },
    {
     "name": "stderr",
     "output_type": "stream",
     "text": [
      "100%|██████████████████████████████████████████████████████████████████████████████████████████████████████████████████████████████████| 2592/2592 [00:00<00:00, 3497.86it/s]\n"
     ]
    },
    {
     "name": "stdout",
     "output_type": "stream",
     "text": [
      "Epoch = 22. Time index = 1. Threshold MC = 0.7. Threshold MD = 0.6\n",
      "RD = 1647 NZ = 2549 NZA = 3607 pNZ = 0.222% pNZA = 0.314% AD = 64.61% ADA = 45.66% NO = 787 GSP = 62.52% NSP = 52.48%\n",
      "SI2 = -6.85 SI = -19.85 eGROI = 13.12% eROI = -4.28% eROI2 = -2.62% eROI3 = -10.49% mSpread = 0.0221%\n"
     ]
    },
    {
     "name": "stderr",
     "output_type": "stream",
     "text": [
      "100%|████████████████████████████████████████████████████████████████████████████████████████████████████████████████████████████████████| 161/161 [00:00<00:00, 2306.11it/s]\n"
     ]
    },
    {
     "name": "stdout",
     "output_type": "stream",
     "text": [
      "Epoch = 22. Time index = 1. Threshold MC = 0.7. Threshold MD = 0.7\n",
      "RD = 333 NZ = 431 NZA = 590 pNZ = 0.038% pNZA = 0.051% AD = 77.26% ADA = 56.44% NO = 78 GSP = 61.54% NSP = 47.44%\n",
      "SI2 = -2.90 SI = -5.90 eGROI = 0.51% eROI = -1.87% eROI2 = -1.05% eROI3 = -1.83% mSpread = 0.0305%\n"
     ]
    },
    {
     "name": "stderr",
     "output_type": "stream",
     "text": [
      "0it [00:00, ?it/s]\n"
     ]
    },
    {
     "name": "stdout",
     "output_type": "stream",
     "text": [
      "Epoch = 22. Time index = 1. Threshold MC = 0.7. Threshold MD = 0.8\n",
      "RD = 138 NZ = 150 NZA = 190 pNZ = 0.013% pNZA = 0.017% AD = 92.00% ADA = 72.63% NO = 1 GSP = 0.00% NSP = 0.00%\n",
      "SI2 = -0.55 SI = -0.55 eGROI = 0.00% eROI = 0.00% eROI2 = 0.00% eROI3 = 0.00% mSpread = 0.0000%\n"
     ]
    },
    {
     "name": "stderr",
     "output_type": "stream",
     "text": [
      "0it [00:00, ?it/s]\n"
     ]
    },
    {
     "name": "stdout",
     "output_type": "stream",
     "text": [
      "Epoch = 22. Time index = 1. Threshold MC = 0.7. Threshold MD = 0.9\n",
      "RD = 7 NZ = 7 NZA = 9 pNZ = 0.001% pNZA = 0.001% AD = 100.00% ADA = 77.78% NO = 1 GSP = 0.00% NSP = 0.00%\n",
      "SI2 = -0.55 SI = -0.55 eGROI = 0.00% eROI = 0.00% eROI2 = 0.00% eROI3 = 0.00% mSpread = 0.0000%\n",
      "\n"
     ]
    },
    {
     "name": "stderr",
     "output_type": "stream",
     "text": [
      "100%|████████████████████████████████████████████████████████████████████████████████████████████████████████████████████████████████████| 638/638 [00:00<00:00, 3593.84it/s]\n"
     ]
    },
    {
     "name": "stdout",
     "output_type": "stream",
     "text": [
      "Epoch = 22. Time index = 1. Threshold MC = 0.8. Threshold MD = 0.5\n",
      "RD = 370 NZ = 644 NZA = 816 pNZ = 0.056% pNZA = 0.071% AD = 57.45% ADA = 45.34% NO = 341 GSP = 54.84% NSP = 49.56%\n",
      "SI2 = -16.55 SI = -18.55 eGROI = 3.86% eROI = -2.99% eROI2 = -2.96% eROI3 = -6.37% mSpread = 0.0201%\n"
     ]
    },
    {
     "name": "stderr",
     "output_type": "stream",
     "text": [
      "100%|████████████████████████████████████████████████████████████████████████████████████████████████████████████████████████████████████| 241/241 [00:00<00:00, 2013.74it/s]\n"
     ]
    },
    {
     "name": "stdout",
     "output_type": "stream",
     "text": [
      "Epoch = 22. Time index = 1. Threshold MC = 0.8. Threshold MD = 0.6\n",
      "RD = 181 NZ = 268 NZA = 345 pNZ = 0.023% pNZA = 0.030% AD = 67.54% ADA = 52.46% NO = 147 GSP = 63.95% NSP = 57.82%\n",
      "SI2 = 4.15 SI = 4.15 eGROI = 4.30% eROI = 1.45% eROI2 = 1.36% eROI3 = -0.11% mSpread = 0.0194%\n"
     ]
    },
    {
     "name": "stderr",
     "output_type": "stream",
     "text": [
      "100%|████████████████████████████████████████████████████████████████████████████████████████████████████████████████████████████████████████| 4/4 [00:00<00:00, 1977.05it/s]\n"
     ]
    },
    {
     "name": "stdout",
     "output_type": "stream",
     "text": [
      "Epoch = 22. Time index = 1. Threshold MC = 0.8. Threshold MD = 0.7\n",
      "RD = 44 NZ = 56 NZA = 72 pNZ = 0.005% pNZA = 0.006% AD = 78.57% ADA = 61.11% NO = 2 GSP = 50.00% NSP = 0.00%\n",
      "SI2 = -0.10 SI = -1.10 eGROI = -0.08% eROI = -0.13% eROI2 = -0.12% eROI3 = -0.14% mSpread = 0.0244%\n"
     ]
    },
    {
     "name": "stderr",
     "output_type": "stream",
     "text": [
      "0it [00:00, ?it/s]\n"
     ]
    },
    {
     "name": "stdout",
     "output_type": "stream",
     "text": [
      "Epoch = 22. Time index = 1. Threshold MC = 0.8. Threshold MD = 0.8\n",
      "RD = 25 NZ = 29 NZA = 34 pNZ = 0.003% pNZA = 0.003% AD = 86.21% ADA = 73.53% NO = 1 GSP = 0.00% NSP = 0.00%\n",
      "SI2 = -0.55 SI = -0.55 eGROI = 0.00% eROI = 0.00% eROI2 = 0.00% eROI3 = 0.00% mSpread = 0.0000%\n"
     ]
    },
    {
     "name": "stderr",
     "output_type": "stream",
     "text": [
      "0it [00:00, ?it/s]\n"
     ]
    },
    {
     "name": "stdout",
     "output_type": "stream",
     "text": [
      "Epoch = 22. Time index = 1. Threshold MC = 0.8. Threshold MD = 0.9\n",
      "RD = 2 NZ = 2 NZA = 4 pNZ = 0.000% pNZA = 0.000% AD = 100.00% ADA = 50.00% NO = 1 GSP = 0.00% NSP = 0.00%\n",
      "SI2 = -0.55 SI = -0.55 eGROI = 0.00% eROI = 0.00% eROI2 = 0.00% eROI3 = 0.00% mSpread = 0.0000%\n",
      "\n"
     ]
    },
    {
     "name": "stderr",
     "output_type": "stream",
     "text": [
      "0it [00:00, ?it/s]\n"
     ]
    },
    {
     "name": "stdout",
     "output_type": "stream",
     "text": [
      "Epoch = 22. Time index = 1. Threshold MC = 0.9. Threshold MD = 0.5\n",
      "RD = 0 NZ = 0 NZA = 0 pNZ = 0.000% pNZA = 0.000% AD = 0.00% ADA = 0.00% NO = 1 GSP = 0.00% NSP = 0.00%\n",
      "SI2 = -0.55 SI = -0.55 eGROI = 0.00% eROI = 0.00% eROI2 = 0.00% eROI3 = 0.00% mSpread = 0.0000%\n"
     ]
    },
    {
     "name": "stderr",
     "output_type": "stream",
     "text": [
      "0it [00:00, ?it/s]\n"
     ]
    },
    {
     "name": "stdout",
     "output_type": "stream",
     "text": [
      "Epoch = 22. Time index = 1. Threshold MC = 0.9. Threshold MD = 0.6\n",
      "RD = 0 NZ = 0 NZA = 0 pNZ = 0.000% pNZA = 0.000% AD = 0.00% ADA = 0.00% NO = 1 GSP = 0.00% NSP = 0.00%\n",
      "SI2 = -0.55 SI = -0.55 eGROI = 0.00% eROI = 0.00% eROI2 = 0.00% eROI3 = 0.00% mSpread = 0.0000%\n"
     ]
    },
    {
     "name": "stderr",
     "output_type": "stream",
     "text": [
      "0it [00:00, ?it/s]\n"
     ]
    },
    {
     "name": "stdout",
     "output_type": "stream",
     "text": [
      "Epoch = 22. Time index = 1. Threshold MC = 0.9. Threshold MD = 0.7\n",
      "RD = 0 NZ = 0 NZA = 0 pNZ = 0.000% pNZA = 0.000% AD = 0.00% ADA = 0.00% NO = 1 GSP = 0.00% NSP = 0.00%\n",
      "SI2 = -0.55 SI = -0.55 eGROI = 0.00% eROI = 0.00% eROI2 = 0.00% eROI3 = 0.00% mSpread = 0.0000%\n"
     ]
    },
    {
     "name": "stderr",
     "output_type": "stream",
     "text": [
      "0it [00:00, ?it/s]\n"
     ]
    },
    {
     "name": "stdout",
     "output_type": "stream",
     "text": [
      "Epoch = 22. Time index = 1. Threshold MC = 0.9. Threshold MD = 0.8\n",
      "RD = 0 NZ = 0 NZA = 0 pNZ = 0.000% pNZA = 0.000% AD = 0.00% ADA = 0.00% NO = 1 GSP = 0.00% NSP = 0.00%\n",
      "SI2 = -0.55 SI = -0.55 eGROI = 0.00% eROI = 0.00% eROI2 = 0.00% eROI3 = 0.00% mSpread = 0.0000%\n"
     ]
    },
    {
     "name": "stderr",
     "output_type": "stream",
     "text": [
      "0it [00:00, ?it/s]\n"
     ]
    },
    {
     "name": "stdout",
     "output_type": "stream",
     "text": [
      "Epoch = 22. Time index = 1. Threshold MC = 0.9. Threshold MD = 0.9\n",
      "RD = 0 NZ = 0 NZA = 0 pNZ = 0.000% pNZA = 0.000% AD = 0.00% ADA = 0.00% NO = 1 GSP = 0.00% NSP = 0.00%\n",
      "SI2 = -0.55 SI = -0.55 eGROI = 0.00% eROI = 0.00% eROI2 = 0.00% eROI3 = 0.00% mSpread = 0.0000%\n",
      "\n"
     ]
    },
    {
     "name": "stderr",
     "output_type": "stream",
     "text": [
      "0it [00:00, ?it/s]\n"
     ]
    },
    {
     "name": "stdout",
     "output_type": "stream",
     "text": [
      "Epoch = 22. Time index = 2. Threshold MC = 0.5. Threshold MD = 0.5\n",
      "J_test = 6.328172787376072, J_train = 6.498013822746235, Accuracy=0.5464759870222236\n",
      "RD = 262174 NZ = 504100 NZA = 960743 pNZ = 43.883% pNZA = 83.635% AD = 52.01% ADA = 27.29% NO = 1 GSP = 0.00% NSP = 0.00%\n",
      "SI2 = -0.55 SI = -0.55 eGROI = 0.00% eROI = 0.00% eROI2 = 0.00% eROI3 = 0.00% mSpread = 0.0000%\n"
     ]
    },
    {
     "name": "stderr",
     "output_type": "stream",
     "text": [
      "100%|████████████████████████████████████████████████████████████████████████████████████████████████████████████████████████████████| 18052/18052 [00:03<00:00, 5401.44it/s]\n"
     ]
    },
    {
     "name": "stdout",
     "output_type": "stream",
     "text": [
      "Epoch = 22. Time index = 2. Threshold MC = 0.5. Threshold MD = 0.6\n",
      "RD = 13379 NZ = 21280 NZA = 43378 pNZ = 1.852% pNZA = 3.776% AD = 62.87% ADA = 30.84% NO = 3421 GSP = 59.78% NSP = 44.29%\n",
      "SI2 = -171.55 SI = -366.55 eGROI = 54.74% eROI = -41.30% eROI2 = -13.68% eROI3 = -47.89% mSpread = 0.0281%\n"
     ]
    },
    {
     "name": "stderr",
     "output_type": "stream",
     "text": [
      "100%|██████████████████████████████████████████████████████████████████████████████████████████████████████████████████████████████████| 2336/2336 [00:00<00:00, 4617.76it/s]\n"
     ]
    },
    {
     "name": "stdout",
     "output_type": "stream",
     "text": [
      "Epoch = 22. Time index = 2. Threshold MC = 0.5. Threshold MD = 0.7\n",
      "RD = 2722 NZ = 3686 NZA = 8016 pNZ = 0.321% pNZA = 0.698% AD = 73.85% ADA = 33.96% NO = 556 GSP = 67.09% NSP = 42.45%\n",
      "SI2 = -3.80 SI = -69.80 eGROI = 10.82% eROI = -9.38% eROI2 = -0.30% eROI3 = -5.86% mSpread = 0.0363%\n"
     ]
    },
    {
     "name": "stderr",
     "output_type": "stream",
     "text": [
      "100%|████████████████████████████████████████████████████████████████████████████████████████████████████████████████████████████████████| 127/127 [00:00<00:00, 4107.62it/s]\n"
     ]
    },
    {
     "name": "stdout",
     "output_type": "stream",
     "text": [
      "Epoch = 22. Time index = 2. Threshold MC = 0.5. Threshold MD = 0.8\n",
      "RD = 496 NZ = 591 NZA = 1262 pNZ = 0.051% pNZA = 0.110% AD = 83.93% ADA = 39.30% NO = 39 GSP = 48.72% NSP = 33.33%\n",
      "SI2 = -4.45 SI = -8.45 eGROI = -0.33% eROI = -1.88% eROI2 = -1.11% eROI3 = -1.50% mSpread = 0.0398%\n"
     ]
    },
    {
     "name": "stderr",
     "output_type": "stream",
     "text": [
      "0it [00:00, ?it/s]\n"
     ]
    },
    {
     "name": "stdout",
     "output_type": "stream",
     "text": [
      "Epoch = 22. Time index = 2. Threshold MC = 0.5. Threshold MD = 0.9\n",
      "RD = 8 NZ = 8 NZA = 14 pNZ = 0.001% pNZA = 0.001% AD = 100.00% ADA = 57.14% NO = 1 GSP = 0.00% NSP = 0.00%\n",
      "SI2 = -0.55 SI = -0.55 eGROI = 0.00% eROI = 0.00% eROI2 = 0.00% eROI3 = 0.00% mSpread = 0.0000%\n",
      "\n"
     ]
    },
    {
     "name": "stderr",
     "output_type": "stream",
     "text": [
      "0it [00:00, ?it/s]\n"
     ]
    },
    {
     "name": "stdout",
     "output_type": "stream",
     "text": [
      "Epoch = 22. Time index = 2. Threshold MC = 0.6. Threshold MD = 0.5\n",
      "RD = 85636 NZ = 161333 NZA = 267541 pNZ = 14.044% pNZA = 23.290% AD = 53.08% ADA = 32.01% NO = 1 GSP = 0.00% NSP = 0.00%\n",
      "SI2 = -0.55 SI = -0.55 eGROI = 0.00% eROI = 0.00% eROI2 = 0.00% eROI3 = 0.00% mSpread = 0.0000%\n"
     ]
    },
    {
     "name": "stderr",
     "output_type": "stream",
     "text": [
      "100%|████████████████████████████████████████████████████████████████████████████████████████████████████████████████████████████████| 12880/12880 [00:02<00:00, 4602.40it/s]\n"
     ]
    },
    {
     "name": "stdout",
     "output_type": "stream",
     "text": [
      "Epoch = 22. Time index = 2. Threshold MC = 0.6. Threshold MD = 0.6\n",
      "RD = 7740 NZ = 12119 NZA = 21227 pNZ = 1.055% pNZA = 1.848% AD = 63.87% ADA = 36.46% NO = 2753 GSP = 60.41% NSP = 45.59%\n",
      "SI2 = -126.15 SI = -259.15 eGROI = 43.20% eROI = -31.04% eROI2 = -11.86% eROI3 = -39.39% mSpread = 0.0270%\n"
     ]
    },
    {
     "name": "stderr",
     "output_type": "stream",
     "text": [
      "100%|██████████████████████████████████████████████████████████████████████████████████████████████████████████████████████████████████| 1998/1998 [00:00<00:00, 5149.64it/s]\n"
     ]
    },
    {
     "name": "stdout",
     "output_type": "stream",
     "text": [
      "Epoch = 22. Time index = 2. Threshold MC = 0.6. Threshold MD = 0.7\n",
      "RD = 1575 NZ = 2141 NZA = 3995 pNZ = 0.186% pNZA = 0.348% AD = 73.56% ADA = 39.42% NO = 489 GSP = 67.28% NSP = 43.76%\n",
      "SI2 = 4.05 SI = -54.95 eGROI = 10.14% eROI = -7.55% eROI2 = 0.36% eROI3 = -4.53% mSpread = 0.0362%\n"
     ]
    },
    {
     "name": "stderr",
     "output_type": "stream",
     "text": [
      "100%|████████████████████████████████████████████████████████████████████████████████████████████████████████████████████████████████████| 126/126 [00:00<00:00, 3324.54it/s]\n"
     ]
    },
    {
     "name": "stdout",
     "output_type": "stream",
     "text": [
      "Epoch = 22. Time index = 2. Threshold MC = 0.6. Threshold MD = 0.8\n",
      "RD = 305 NZ = 360 NZA = 620 pNZ = 0.031% pNZA = 0.054% AD = 84.72% ADA = 49.19% NO = 39 GSP = 48.72% NSP = 33.33%\n",
      "SI2 = -4.45 SI = -8.45 eGROI = -0.31% eROI = -1.86% eROI2 = -1.09% eROI3 = -1.48% mSpread = 0.0398%\n"
     ]
    },
    {
     "name": "stderr",
     "output_type": "stream",
     "text": [
      "0it [00:00, ?it/s]\n"
     ]
    },
    {
     "name": "stdout",
     "output_type": "stream",
     "text": [
      "Epoch = 22. Time index = 2. Threshold MC = 0.6. Threshold MD = 0.9\n",
      "RD = 8 NZ = 8 NZA = 13 pNZ = 0.001% pNZA = 0.001% AD = 100.00% ADA = 61.54% NO = 1 GSP = 0.00% NSP = 0.00%\n",
      "SI2 = -0.55 SI = -0.55 eGROI = 0.00% eROI = 0.00% eROI2 = 0.00% eROI3 = 0.00% mSpread = 0.0000%\n",
      "\n"
     ]
    },
    {
     "name": "stderr",
     "output_type": "stream",
     "text": [
      "100%|████████████████████████████████████████████████████████████████████████████████████████████████████████████████████████████████| 10393/10393 [00:01<00:00, 5490.24it/s]\n"
     ]
    },
    {
     "name": "stdout",
     "output_type": "stream",
     "text": [
      "Epoch = 22. Time index = 2. Threshold MC = 0.7. Threshold MD = 0.5\n",
      "RD = 6209 NZ = 11057 NZA = 15415 pNZ = 0.963% pNZA = 1.342% AD = 56.15% ADA = 40.28% NO = 2040 GSP = 53.58% NSP = 45.54%\n",
      "SI2 = -155.00 SI = -193.00 eGROI = 11.41% eROI = -32.04% eROI2 = -29.39% eROI3 = -49.79% mSpread = 0.0213%\n"
     ]
    },
    {
     "name": "stderr",
     "output_type": "stream",
     "text": [
      "100%|██████████████████████████████████████████████████████████████████████████████████████████████████████████████████████████████████| 3389/3389 [00:00<00:00, 5301.16it/s]\n"
     ]
    },
    {
     "name": "stdout",
     "output_type": "stream",
     "text": [
      "Epoch = 22. Time index = 2. Threshold MC = 0.7. Threshold MD = 0.6\n",
      "RD = 1969 NZ = 3074 NZA = 4411 pNZ = 0.268% pNZA = 0.384% AD = 64.05% ADA = 44.64% NO = 928 GSP = 60.88% NSP = 51.29%\n",
      "SI2 = -12.40 SI = -34.40 eGROI = 14.08% eROI = -6.89% eROI2 = -4.48% eROI3 = -13.76% mSpread = 0.0226%\n"
     ]
    },
    {
     "name": "stderr",
     "output_type": "stream",
     "text": [
      "100%|████████████████████████████████████████████████████████████████████████████████████████████████████████████████████████████████████| 331/331 [00:00<00:00, 3687.62it/s]\n"
     ]
    },
    {
     "name": "stdout",
     "output_type": "stream",
     "text": [
      "Epoch = 22. Time index = 2. Threshold MC = 0.7. Threshold MD = 0.7\n",
      "RD = 420 NZ = 575 NZA = 821 pNZ = 0.050% pNZA = 0.071% AD = 73.04% ADA = 51.16% NO = 145 GSP = 62.76% NSP = 46.21%\n",
      "SI2 = -2.75 SI = -12.75 eGROI = 2.39% eROI = -1.77% eROI2 = -0.51% eROI3 = -1.96% mSpread = 0.0287%\n"
     ]
    },
    {
     "name": "stderr",
     "output_type": "stream",
     "text": [
      "100%|██████████████████████████████████████████████████████████████████████████████████████████████████████████████████████████████████████| 14/14 [00:00<00:00, 1559.35it/s]\n"
     ]
    },
    {
     "name": "stdout",
     "output_type": "stream",
     "text": [
      "Epoch = 22. Time index = 2. Threshold MC = 0.7. Threshold MD = 0.8\n",
      "RD = 142 NZ = 161 NZA = 209 pNZ = 0.014% pNZA = 0.018% AD = 88.20% ADA = 67.94% NO = 9 GSP = 66.67% NSP = 33.33%\n",
      "SI2 = 0.05 SI = -1.95 eGROI = 0.44% eROI = 0.01% eROI2 = 0.26% eROI3 = 0.17% mSpread = 0.0476%\n"
     ]
    },
    {
     "name": "stderr",
     "output_type": "stream",
     "text": [
      "0it [00:00, ?it/s]\n"
     ]
    },
    {
     "name": "stdout",
     "output_type": "stream",
     "text": [
      "Epoch = 22. Time index = 2. Threshold MC = 0.7. Threshold MD = 0.9\n",
      "RD = 8 NZ = 8 NZA = 11 pNZ = 0.001% pNZA = 0.001% AD = 100.00% ADA = 72.73% NO = 1 GSP = 0.00% NSP = 0.00%\n",
      "SI2 = -0.55 SI = -0.55 eGROI = 0.00% eROI = 0.00% eROI2 = 0.00% eROI3 = 0.00% mSpread = 0.0000%\n",
      "\n"
     ]
    },
    {
     "name": "stderr",
     "output_type": "stream",
     "text": [
      "100%|████████████████████████████████████████████████████████████████████████████████████████████████████████████████████████████████████| 768/768 [00:00<00:00, 3773.91it/s]\n"
     ]
    },
    {
     "name": "stdout",
     "output_type": "stream",
     "text": [
      "Epoch = 22. Time index = 2. Threshold MC = 0.8. Threshold MD = 0.5\n",
      "RD = 441 NZ = 742 NZA = 941 pNZ = 0.065% pNZA = 0.082% AD = 59.43% ADA = 46.87% NO = 394 GSP = 56.60% NSP = 50.25%\n",
      "SI2 = -14.70 SI = -18.70 eGROI = 7.22% eROI = -1.27% eROI2 = -0.66% eROI3 = -4.60% mSpread = 0.0216%\n"
     ]
    },
    {
     "name": "stderr",
     "output_type": "stream",
     "text": [
      "100%|████████████████████████████████████████████████████████████████████████████████████████████████████████████████████████████████████| 345/345 [00:00<00:00, 2982.14it/s]\n"
     ]
    },
    {
     "name": "stdout",
     "output_type": "stream",
     "text": [
      "Epoch = 22. Time index = 2. Threshold MC = 0.8. Threshold MD = 0.6\n",
      "RD = 233 NZ = 349 NZA = 446 pNZ = 0.030% pNZA = 0.039% AD = 66.76% ADA = 52.24% NO = 181 GSP = 63.54% NSP = 56.91%\n",
      "SI2 = 7.45 SI = 3.45 eGROI = 4.52% eROI = 0.56% eROI2 = 0.90% eROI3 = -0.91% mSpread = 0.0219%\n"
     ]
    },
    {
     "name": "stderr",
     "output_type": "stream",
     "text": [
      "100%|██████████████████████████████████████████████████████████████████████████████████████████████████████████████████████████████████████| 20/20 [00:00<00:00, 2005.17it/s]\n"
     ]
    },
    {
     "name": "stdout",
     "output_type": "stream",
     "text": [
      "Epoch = 22. Time index = 2. Threshold MC = 0.8. Threshold MD = 0.7\n",
      "RD = 59 NZ = 75 NZA = 96 pNZ = 0.007% pNZA = 0.008% AD = 78.67% ADA = 61.46% NO = 14 GSP = 78.57% NSP = 57.14%\n",
      "SI2 = 2.30 SI = 0.30 eGROI = 0.97% eROI = 0.55% eROI2 = 0.69% eROI3 = 0.55% mSpread = 0.0296%\n"
     ]
    },
    {
     "name": "stderr",
     "output_type": "stream",
     "text": [
      "0it [00:00, ?it/s]\n"
     ]
    },
    {
     "name": "stdout",
     "output_type": "stream",
     "text": [
      "Epoch = 22. Time index = 2. Threshold MC = 0.8. Threshold MD = 0.8\n",
      "RD = 29 NZ = 34 NZA = 41 pNZ = 0.003% pNZA = 0.004% AD = 85.29% ADA = 70.73% NO = 1 GSP = 0.00% NSP = 0.00%\n",
      "SI2 = -0.55 SI = -0.55 eGROI = 0.00% eROI = 0.00% eROI2 = 0.00% eROI3 = 0.00% mSpread = 0.0000%\n"
     ]
    },
    {
     "name": "stderr",
     "output_type": "stream",
     "text": [
      "0it [00:00, ?it/s]\n"
     ]
    },
    {
     "name": "stdout",
     "output_type": "stream",
     "text": [
      "Epoch = 22. Time index = 2. Threshold MC = 0.8. Threshold MD = 0.9\n",
      "RD = 4 NZ = 4 NZA = 6 pNZ = 0.000% pNZA = 0.001% AD = 100.00% ADA = 66.67% NO = 1 GSP = 0.00% NSP = 0.00%\n",
      "SI2 = -0.55 SI = -0.55 eGROI = 0.00% eROI = 0.00% eROI2 = 0.00% eROI3 = 0.00% mSpread = 0.0000%\n",
      "\n"
     ]
    },
    {
     "name": "stderr",
     "output_type": "stream",
     "text": [
      "0it [00:00, ?it/s]\n"
     ]
    },
    {
     "name": "stdout",
     "output_type": "stream",
     "text": [
      "Epoch = 22. Time index = 2. Threshold MC = 0.9. Threshold MD = 0.5\n",
      "RD = 0 NZ = 0 NZA = 0 pNZ = 0.000% pNZA = 0.000% AD = 0.00% ADA = 0.00% NO = 1 GSP = 0.00% NSP = 0.00%\n",
      "SI2 = -0.55 SI = -0.55 eGROI = 0.00% eROI = 0.00% eROI2 = 0.00% eROI3 = 0.00% mSpread = 0.0000%\n"
     ]
    },
    {
     "name": "stderr",
     "output_type": "stream",
     "text": [
      "0it [00:00, ?it/s]\n"
     ]
    },
    {
     "name": "stdout",
     "output_type": "stream",
     "text": [
      "Epoch = 22. Time index = 2. Threshold MC = 0.9. Threshold MD = 0.6\n",
      "RD = 0 NZ = 0 NZA = 0 pNZ = 0.000% pNZA = 0.000% AD = 0.00% ADA = 0.00% NO = 1 GSP = 0.00% NSP = 0.00%\n",
      "SI2 = -0.55 SI = -0.55 eGROI = 0.00% eROI = 0.00% eROI2 = 0.00% eROI3 = 0.00% mSpread = 0.0000%\n"
     ]
    },
    {
     "name": "stderr",
     "output_type": "stream",
     "text": [
      "0it [00:00, ?it/s]\n"
     ]
    },
    {
     "name": "stdout",
     "output_type": "stream",
     "text": [
      "Epoch = 22. Time index = 2. Threshold MC = 0.9. Threshold MD = 0.7\n",
      "RD = 0 NZ = 0 NZA = 0 pNZ = 0.000% pNZA = 0.000% AD = 0.00% ADA = 0.00% NO = 1 GSP = 0.00% NSP = 0.00%\n",
      "SI2 = -0.55 SI = -0.55 eGROI = 0.00% eROI = 0.00% eROI2 = 0.00% eROI3 = 0.00% mSpread = 0.0000%\n"
     ]
    },
    {
     "name": "stderr",
     "output_type": "stream",
     "text": [
      "0it [00:00, ?it/s]\n"
     ]
    },
    {
     "name": "stdout",
     "output_type": "stream",
     "text": [
      "Epoch = 22. Time index = 2. Threshold MC = 0.9. Threshold MD = 0.8\n",
      "RD = 0 NZ = 0 NZA = 0 pNZ = 0.000% pNZA = 0.000% AD = 0.00% ADA = 0.00% NO = 1 GSP = 0.00% NSP = 0.00%\n",
      "SI2 = -0.55 SI = -0.55 eGROI = 0.00% eROI = 0.00% eROI2 = 0.00% eROI3 = 0.00% mSpread = 0.0000%\n"
     ]
    },
    {
     "name": "stderr",
     "output_type": "stream",
     "text": [
      "0it [00:00, ?it/s]\n"
     ]
    },
    {
     "name": "stdout",
     "output_type": "stream",
     "text": [
      "Epoch = 22. Time index = 2. Threshold MC = 0.9. Threshold MD = 0.9\n",
      "RD = 0 NZ = 0 NZA = 0 pNZ = 0.000% pNZA = 0.000% AD = 0.00% ADA = 0.00% NO = 1 GSP = 0.00% NSP = 0.00%\n",
      "SI2 = -0.55 SI = -0.55 eGROI = 0.00% eROI = 0.00% eROI2 = 0.00% eROI3 = 0.00% mSpread = 0.0000%\n",
      "\n"
     ]
    },
    {
     "name": "stderr",
     "output_type": "stream",
     "text": [
      "0it [00:00, ?it/s]\n"
     ]
    },
    {
     "name": "stdout",
     "output_type": "stream",
     "text": [
      "Epoch = 22. Time index = 3. Threshold MC = 0.5. Threshold MD = 0.5\n",
      "J_test = 6.328172787376072, J_train = 6.498013822746235, Accuracy=0.5459266861838217\n",
      "RD = 261613 NZ = 503461 NZA = 960096 pNZ = 43.828% pNZA = 83.579% AD = 51.96% ADA = 27.25% NO = 1 GSP = 0.00% NSP = 0.00%\n",
      "SI2 = -0.55 SI = -0.55 eGROI = 0.00% eROI = 0.00% eROI2 = 0.00% eROI3 = 0.00% mSpread = 0.0000%\n"
     ]
    },
    {
     "name": "stderr",
     "output_type": "stream",
     "text": [
      "100%|████████████████████████████████████████████████████████████████████████████████████████████████████████████████████████████████| 18816/18816 [00:03<00:00, 5299.47it/s]\n"
     ]
    },
    {
     "name": "stdout",
     "output_type": "stream",
     "text": [
      "Epoch = 22. Time index = 3. Threshold MC = 0.5. Threshold MD = 0.6\n",
      "RD = 13667 NZ = 22094 NZA = 44196 pNZ = 1.923% pNZA = 3.847% AD = 61.86% ADA = 30.92% NO = 3544 GSP = 58.92% NSP = 43.51%\n",
      "SI2 = -205.20 SI = -407.20 eGROI = 45.28% eROI = -51.25% eROI2 = -25.60% eROI3 = -61.04% mSpread = 0.0272%\n"
     ]
    },
    {
     "name": "stderr",
     "output_type": "stream",
     "text": [
      "100%|██████████████████████████████████████████████████████████████████████████████████████████████████████████████████████████████████| 2479/2479 [00:00<00:00, 4163.56it/s]\n"
     ]
    },
    {
     "name": "stdout",
     "output_type": "stream",
     "text": [
      "Epoch = 22. Time index = 3. Threshold MC = 0.5. Threshold MD = 0.7\n",
      "RD = 2584 NZ = 3526 NZA = 7422 pNZ = 0.307% pNZA = 0.646% AD = 73.28% ADA = 34.82% NO = 588 GSP = 67.52% NSP = 42.18%\n",
      "SI2 = -5.40 SI = -75.40 eGROI = 10.48% eROI = -10.67% eROI2 = -1.28% eROI3 = -7.16% mSpread = 0.0360%\n"
     ]
    },
    {
     "name": "stderr",
     "output_type": "stream",
     "text": [
      "100%|████████████████████████████████████████████████████████████████████████████████████████████████████████████████████████████████████| 262/262 [00:00<00:00, 2410.03it/s]\n"
     ]
    },
    {
     "name": "stdout",
     "output_type": "stream",
     "text": [
      "Epoch = 22. Time index = 3. Threshold MC = 0.5. Threshold MD = 0.8\n",
      "RD = 503 NZ = 614 NZA = 1289 pNZ = 0.053% pNZA = 0.112% AD = 81.92% ADA = 39.02% NO = 87 GSP = 57.47% NSP = 37.93%\n",
      "SI2 = -1.85 SI = -14.85 eGROI = 0.90% eROI = -2.57% eROI2 = -0.84% eROI3 = -1.71% mSpread = 0.0399%\n"
     ]
    },
    {
     "name": "stderr",
     "output_type": "stream",
     "text": [
      "0it [00:00, ?it/s]\n"
     ]
    },
    {
     "name": "stdout",
     "output_type": "stream",
     "text": [
      "Epoch = 22. Time index = 3. Threshold MC = 0.5. Threshold MD = 0.9\n",
      "RD = 4 NZ = 4 NZA = 8 pNZ = 0.000% pNZA = 0.001% AD = 100.00% ADA = 50.00% NO = 1 GSP = 0.00% NSP = 0.00%\n",
      "SI2 = -0.55 SI = -0.55 eGROI = 0.00% eROI = 0.00% eROI2 = 0.00% eROI3 = 0.00% mSpread = 0.0000%\n",
      "\n"
     ]
    },
    {
     "name": "stderr",
     "output_type": "stream",
     "text": [
      "0it [00:00, ?it/s]\n"
     ]
    },
    {
     "name": "stdout",
     "output_type": "stream",
     "text": [
      "Epoch = 22. Time index = 3. Threshold MC = 0.6. Threshold MD = 0.5\n",
      "RD = 85451 NZ = 161069 NZA = 267795 pNZ = 14.021% pNZA = 23.312% AD = 53.05% ADA = 31.91% NO = 1 GSP = 0.00% NSP = 0.00%\n",
      "SI2 = -0.55 SI = -0.55 eGROI = 0.00% eROI = 0.00% eROI2 = 0.00% eROI3 = 0.00% mSpread = 0.0000%\n"
     ]
    },
    {
     "name": "stderr",
     "output_type": "stream",
     "text": [
      "100%|████████████████████████████████████████████████████████████████████████████████████████████████████████████████████████████████| 13624/13624 [00:02<00:00, 4996.42it/s]\n"
     ]
    },
    {
     "name": "stdout",
     "output_type": "stream",
     "text": [
      "Epoch = 22. Time index = 3. Threshold MC = 0.6. Threshold MD = 0.6\n",
      "RD = 8074 NZ = 12830 NZA = 22516 pNZ = 1.117% pNZA = 1.960% AD = 62.93% ADA = 35.86% NO = 2850 GSP = 59.16% NSP = 44.67%\n",
      "SI2 = -145.50 SI = -294.50 eGROI = 36.52% eROI = -39.40% eROI2 = -20.48% eROI3 = -48.98% mSpread = 0.0266%\n"
     ]
    },
    {
     "name": "stderr",
     "output_type": "stream",
     "text": [
      "100%|██████████████████████████████████████████████████████████████████████████████████████████████████████████████████████████████████| 2089/2089 [00:00<00:00, 4904.85it/s]\n"
     ]
    },
    {
     "name": "stdout",
     "output_type": "stream",
     "text": [
      "Epoch = 22. Time index = 3. Threshold MC = 0.6. Threshold MD = 0.7\n",
      "RD = 1577 NZ = 2179 NZA = 4083 pNZ = 0.190% pNZA = 0.355% AD = 72.37% ADA = 38.62% NO = 511 GSP = 67.51% NSP = 44.23%\n",
      "SI2 = 3.95 SI = -55.05 eGROI = 8.76% eROI = -9.04% eROI2 = -1.46% eROI3 = -6.57% mSpread = 0.0348%\n"
     ]
    },
    {
     "name": "stderr",
     "output_type": "stream",
     "text": [
      "100%|████████████████████████████████████████████████████████████████████████████████████████████████████████████████████████████████████| 261/261 [00:00<00:00, 3230.89it/s]\n"
     ]
    },
    {
     "name": "stdout",
     "output_type": "stream",
     "text": [
      "Epoch = 22. Time index = 3. Threshold MC = 0.6. Threshold MD = 0.8\n",
      "RD = 311 NZ = 390 NZA = 718 pNZ = 0.034% pNZA = 0.063% AD = 79.74% ADA = 43.31% NO = 86 GSP = 56.98% NSP = 37.21%\n",
      "SI2 = -2.30 SI = -15.30 eGROI = 0.84% eROI = -2.57% eROI2 = -0.88% eROI3 = -1.74% mSpread = 0.0397%\n"
     ]
    },
    {
     "name": "stderr",
     "output_type": "stream",
     "text": [
      "0it [00:00, ?it/s]\n"
     ]
    },
    {
     "name": "stdout",
     "output_type": "stream",
     "text": [
      "Epoch = 22. Time index = 3. Threshold MC = 0.6. Threshold MD = 0.9\n",
      "RD = 4 NZ = 4 NZA = 7 pNZ = 0.000% pNZA = 0.001% AD = 100.00% ADA = 57.14% NO = 1 GSP = 0.00% NSP = 0.00%\n",
      "SI2 = -0.55 SI = -0.55 eGROI = 0.00% eROI = 0.00% eROI2 = 0.00% eROI3 = 0.00% mSpread = 0.0000%\n",
      "\n"
     ]
    },
    {
     "name": "stderr",
     "output_type": "stream",
     "text": [
      "100%|████████████████████████████████████████████████████████████████████████████████████████████████████████████████████████████████| 10393/10393 [00:02<00:00, 4482.03it/s]\n"
     ]
    },
    {
     "name": "stdout",
     "output_type": "stream",
     "text": [
      "Epoch = 22. Time index = 3. Threshold MC = 0.7. Threshold MD = 0.5\n",
      "RD = 6153 NZ = 10967 NZA = 15394 pNZ = 0.955% pNZA = 1.340% AD = 56.10% ADA = 39.97% NO = 2000 GSP = 54.50% NSP = 46.15%\n",
      "SI2 = -145.00 SI = -177.00 eGROI = 13.17% eROI = -30.06% eROI2 = -26.83% eROI3 = -46.83% mSpread = 0.0216%\n"
     ]
    },
    {
     "name": "stderr",
     "output_type": "stream",
     "text": [
      "100%|██████████████████████████████████████████████████████████████████████████████████████████████████████████████████████████████████| 3610/3610 [00:00<00:00, 5268.45it/s]\n"
     ]
    },
    {
     "name": "stdout",
     "output_type": "stream",
     "text": [
      "Epoch = 22. Time index = 3. Threshold MC = 0.7. Threshold MD = 0.6\n",
      "RD = 2035 NZ = 3208 NZA = 4628 pNZ = 0.279% pNZA = 0.403% AD = 63.44% ADA = 43.97% NO = 942 GSP = 60.62% NSP = 49.79%\n",
      "SI2 = -24.10 SI = -49.10 eGROI = 14.48% eROI = -7.15% eROI2 = -4.36% eROI3 = -13.78% mSpread = 0.0230%\n"
     ]
    },
    {
     "name": "stderr",
     "output_type": "stream",
     "text": [
      "100%|████████████████████████████████████████████████████████████████████████████████████████████████████████████████████████████████████| 430/430 [00:00<00:00, 3241.74it/s]\n"
     ]
    },
    {
     "name": "stdout",
     "output_type": "stream",
     "text": [
      "Epoch = 22. Time index = 3. Threshold MC = 0.7. Threshold MD = 0.7\n",
      "RD = 443 NZ = 628 NZA = 911 pNZ = 0.055% pNZA = 0.079% AD = 70.54% ADA = 48.63% NO = 173 GSP = 65.90% NSP = 47.40%\n",
      "SI2 = -4.15 SI = -13.15 eGROI = 1.89% eROI = -3.02% eROI2 = -1.57% eROI3 = -3.30% mSpread = 0.0284%\n"
     ]
    },
    {
     "name": "stderr",
     "output_type": "stream",
     "text": [
      "100%|██████████████████████████████████████████████████████████████████████████████████████████████████████████████████████████████████████| 38/38 [00:00<00:00, 2728.75it/s]\n"
     ]
    },
    {
     "name": "stdout",
     "output_type": "stream",
     "text": [
      "Epoch = 22. Time index = 3. Threshold MC = 0.7. Threshold MD = 0.8\n",
      "RD = 124 NZ = 146 NZA = 196 pNZ = 0.013% pNZA = 0.017% AD = 84.93% ADA = 63.27% NO = 26 GSP = 65.38% NSP = 38.46%\n",
      "SI2 = -1.30 SI = -4.30 eGROI = 0.19% eROI = -0.94% eROI2 = -0.33% eROI3 = -0.59% mSpread = 0.0435%\n"
     ]
    },
    {
     "name": "stderr",
     "output_type": "stream",
     "text": [
      "0it [00:00, ?it/s]\n"
     ]
    },
    {
     "name": "stdout",
     "output_type": "stream",
     "text": [
      "Epoch = 22. Time index = 3. Threshold MC = 0.7. Threshold MD = 0.9\n",
      "RD = 4 NZ = 4 NZA = 6 pNZ = 0.000% pNZA = 0.001% AD = 100.00% ADA = 66.67% NO = 1 GSP = 0.00% NSP = 0.00%\n",
      "SI2 = -0.55 SI = -0.55 eGROI = 0.00% eROI = 0.00% eROI2 = 0.00% eROI3 = 0.00% mSpread = 0.0000%\n",
      "\n"
     ]
    },
    {
     "name": "stderr",
     "output_type": "stream",
     "text": [
      "100%|████████████████████████████████████████████████████████████████████████████████████████████████████████████████████████████████████| 711/711 [00:00<00:00, 4144.92it/s]\n"
     ]
    },
    {
     "name": "stdout",
     "output_type": "stream",
     "text": [
      "Epoch = 22. Time index = 3. Threshold MC = 0.8. Threshold MD = 0.5\n",
      "RD = 410 NZ = 686 NZA = 863 pNZ = 0.060% pNZA = 0.075% AD = 59.77% ADA = 47.51% NO = 382 GSP = 55.76% NSP = 49.21%\n",
      "SI2 = -21.10 SI = -22.10 eGROI = 6.17% eROI = -2.16% eROI2 = -1.47% eROI3 = -5.29% mSpread = 0.0218%\n"
     ]
    },
    {
     "name": "stderr",
     "output_type": "stream",
     "text": [
      "100%|████████████████████████████████████████████████████████████████████████████████████████████████████████████████████████████████████| 315/315 [00:00<00:00, 2897.64it/s]\n"
     ]
    },
    {
     "name": "stdout",
     "output_type": "stream",
     "text": [
      "Epoch = 22. Time index = 3. Threshold MC = 0.8. Threshold MD = 0.6\n",
      "RD = 206 NZ = 316 NZA = 396 pNZ = 0.028% pNZA = 0.034% AD = 65.19% ADA = 52.02% NO = 179 GSP = 62.01% NSP = 56.42%\n",
      "SI2 = 4.55 SI = 2.55 eGROI = 3.84% eROI = -0.43% eROI2 = 0.26% eROI3 = -1.53% mSpread = 0.0238%\n"
     ]
    },
    {
     "name": "stderr",
     "output_type": "stream",
     "text": [
      "100%|██████████████████████████████████████████████████████████████████████████████████████████████████████████████████████████████████████| 37/37 [00:00<00:00, 2060.92it/s]\n"
     ]
    },
    {
     "name": "stdout",
     "output_type": "stream",
     "text": [
      "Epoch = 22. Time index = 3. Threshold MC = 0.8. Threshold MD = 0.7\n",
      "RD = 56 NZ = 69 NZA = 94 pNZ = 0.006% pNZA = 0.008% AD = 81.16% ADA = 59.57% NO = 26 GSP = 65.38% NSP = 46.15%\n",
      "SI2 = -1.30 SI = -2.30 eGROI = 0.33% eROI = -0.46% eROI2 = -0.19% eROI3 = -0.45% mSpread = 0.0308%\n"
     ]
    },
    {
     "name": "stderr",
     "output_type": "stream",
     "text": [
      "0it [00:00, ?it/s]\n"
     ]
    },
    {
     "name": "stdout",
     "output_type": "stream",
     "text": [
      "Epoch = 22. Time index = 3. Threshold MC = 0.8. Threshold MD = 0.8\n",
      "RD = 25 NZ = 28 NZA = 34 pNZ = 0.002% pNZA = 0.003% AD = 89.29% ADA = 73.53% NO = 1 GSP = 0.00% NSP = 0.00%\n",
      "SI2 = -0.55 SI = -0.55 eGROI = 0.00% eROI = 0.00% eROI2 = 0.00% eROI3 = 0.00% mSpread = 0.0000%\n"
     ]
    },
    {
     "name": "stderr",
     "output_type": "stream",
     "text": [
      "0it [00:00, ?it/s]\n"
     ]
    },
    {
     "name": "stdout",
     "output_type": "stream",
     "text": [
      "Epoch = 22. Time index = 3. Threshold MC = 0.8. Threshold MD = 0.9\n",
      "RD = 2 NZ = 2 NZA = 2 pNZ = 0.000% pNZA = 0.000% AD = 100.00% ADA = 100.00% NO = 1 GSP = 0.00% NSP = 0.00%\n",
      "SI2 = -0.55 SI = -0.55 eGROI = 0.00% eROI = 0.00% eROI2 = 0.00% eROI3 = 0.00% mSpread = 0.0000%\n",
      "\n"
     ]
    },
    {
     "name": "stderr",
     "output_type": "stream",
     "text": [
      "0it [00:00, ?it/s]\n"
     ]
    },
    {
     "name": "stdout",
     "output_type": "stream",
     "text": [
      "Epoch = 22. Time index = 3. Threshold MC = 0.9. Threshold MD = 0.5\n",
      "RD = 0 NZ = 0 NZA = 0 pNZ = 0.000% pNZA = 0.000% AD = 0.00% ADA = 0.00% NO = 1 GSP = 0.00% NSP = 0.00%\n",
      "SI2 = -0.55 SI = -0.55 eGROI = 0.00% eROI = 0.00% eROI2 = 0.00% eROI3 = 0.00% mSpread = 0.0000%\n"
     ]
    },
    {
     "name": "stderr",
     "output_type": "stream",
     "text": [
      "0it [00:00, ?it/s]\n"
     ]
    },
    {
     "name": "stdout",
     "output_type": "stream",
     "text": [
      "Epoch = 22. Time index = 3. Threshold MC = 0.9. Threshold MD = 0.6\n",
      "RD = 0 NZ = 0 NZA = 0 pNZ = 0.000% pNZA = 0.000% AD = 0.00% ADA = 0.00% NO = 1 GSP = 0.00% NSP = 0.00%\n",
      "SI2 = -0.55 SI = -0.55 eGROI = 0.00% eROI = 0.00% eROI2 = 0.00% eROI3 = 0.00% mSpread = 0.0000%\n"
     ]
    },
    {
     "name": "stderr",
     "output_type": "stream",
     "text": [
      "0it [00:00, ?it/s]\n"
     ]
    },
    {
     "name": "stdout",
     "output_type": "stream",
     "text": [
      "Epoch = 22. Time index = 3. Threshold MC = 0.9. Threshold MD = 0.7\n",
      "RD = 0 NZ = 0 NZA = 0 pNZ = 0.000% pNZA = 0.000% AD = 0.00% ADA = 0.00% NO = 1 GSP = 0.00% NSP = 0.00%\n",
      "SI2 = -0.55 SI = -0.55 eGROI = 0.00% eROI = 0.00% eROI2 = 0.00% eROI3 = 0.00% mSpread = 0.0000%\n"
     ]
    },
    {
     "name": "stderr",
     "output_type": "stream",
     "text": [
      "0it [00:00, ?it/s]\n"
     ]
    },
    {
     "name": "stdout",
     "output_type": "stream",
     "text": [
      "Epoch = 22. Time index = 3. Threshold MC = 0.9. Threshold MD = 0.8\n",
      "RD = 0 NZ = 0 NZA = 0 pNZ = 0.000% pNZA = 0.000% AD = 0.00% ADA = 0.00% NO = 1 GSP = 0.00% NSP = 0.00%\n",
      "SI2 = -0.55 SI = -0.55 eGROI = 0.00% eROI = 0.00% eROI2 = 0.00% eROI3 = 0.00% mSpread = 0.0000%\n"
     ]
    },
    {
     "name": "stderr",
     "output_type": "stream",
     "text": [
      "0it [00:00, ?it/s]\n"
     ]
    },
    {
     "name": "stdout",
     "output_type": "stream",
     "text": [
      "Epoch = 22. Time index = 3. Threshold MC = 0.9. Threshold MD = 0.9\n",
      "RD = 0 NZ = 0 NZA = 0 pNZ = 0.000% pNZA = 0.000% AD = 0.00% ADA = 0.00% NO = 1 GSP = 0.00% NSP = 0.00%\n",
      "SI2 = -0.55 SI = -0.55 eGROI = 0.00% eROI = 0.00% eROI2 = 0.00% eROI3 = 0.00% mSpread = 0.0000%\n",
      "\n",
      "Best eGROI = 54.74 t_index 2 thr_mc 0.5 thr_md 0.6 epoch 22 in 3421\n",
      "Best eROI = 1.85 t_index 0 thr_mc 0.8 thr_md 0.6 epoch 22 in 113\n",
      "Best eROI.5 = 37.64 t_index 2 thr_mc 0.5 thr_md 0.6 epoch 22 in 3421\n",
      "Best eROI1 = 20.53 t_index 2 thr_mc 0.5 thr_md 0.6 epoch 22 in 3421\n",
      "Best eROI1.5 = 3.43 t_index 2 thr_mc 0.5 thr_md 0.6 epoch 22 in 3421\n",
      "Best eROI2 = 1.67 t_index 0 thr_mc 0.8 thr_md 0.6 epoch 22 in 113\n",
      "Best eROI3 = 0.55 t_index 2 thr_mc 0.8 thr_md 0.7 epoch 22 in 14\n",
      "Best eROI4 = 0.41 t_index 2 thr_mc 0.8 thr_md 0.7 epoch 22 in 14\n",
      "Best eROI5 = 0.27 t_index 2 thr_mc 0.8 thr_md 0.7 epoch 22 in 14\n",
      "Best SI = 5.85 t_index 0 thr_mc 0.8 thr_md 0.6 epoch 22 in 113\n",
      "Best SI.5 = 134.15 t_index 0 thr_mc 0.5 thr_md 0.6 epoch 22 in 2547\n",
      "Best SI1 = 71.75 t_index 0 thr_mc 0.6 thr_md 0.6 epoch 22 in 1655\n",
      "Best SI1.5 = 30.75 t_index 0 thr_mc 0.6 thr_md 0.6 epoch 22 in 1655\n",
      "Best SI2 = 7.45 t_index 2 thr_mc 0.8 thr_md 0.6 epoch 22 in 181\n",
      "Best SI3 = 3.85 t_index 0 thr_mc 0.8 thr_md 0.6 epoch 22 in 113\n",
      "Best SI4 = 0.85 t_index 0 thr_mc 0.8 thr_md 0.6 epoch 22 in 113\n",
      "Best SI5 = 0.30 t_index 2 thr_mc 0.8 thr_md 0.7 epoch 22 in 14\n",
      "\n",
      "The very best:\n",
      "Best eGROI = 54.74 t_index 2 thr_mc 0.5 thr_md 0.6 epoch 22 in 3421\n",
      "Best eROI = 3.37 t_index 3 thr_mc 0.8 thr_md 0.5 epoch 8 in 141\n",
      "Best eROI.5 = 37.64 t_index 2 thr_mc 0.5 thr_md 0.6 epoch 22 in 3421\n",
      "Best eROI1 = 20.53 t_index 2 thr_mc 0.5 thr_md 0.6 epoch 22 in 3421\n",
      "Best eROI1.5 = 5.80 t_index 3 thr_mc 0.6 thr_md 0.6 epoch 11 in 1839\n",
      "Best eROI2 = 3.16 t_index 3 thr_mc 0.8 thr_md 0.5 epoch 8 in 141\n",
      "Best eROI3 = 1.75 t_index 3 thr_mc 0.8 thr_md 0.5 epoch 8 in 141\n",
      "Best eROI4 = 0.50 t_index 3 thr_mc 0.8 thr_md 0.6 epoch 10 in 14\n",
      "Best eROI5 = 0.37 t_index 2 thr_mc 0.8 thr_md 0.7 epoch 21 in 7\n",
      "Best SI = 5.85 t_index 0 thr_mc 0.8 thr_md 0.6 epoch 22 in 113\n",
      "Best SI.5 = 135.50 t_index 1 thr_mc 0.5 thr_md 0.6 epoch 20 in 2830\n",
      "Best SI1 = 73.85 t_index 0 thr_mc 0.5 thr_md 0.6 epoch 14 in 1933\n",
      "Best SI1.5 = 30.75 t_index 0 thr_mc 0.6 thr_md 0.6 epoch 22 in 1655\n",
      "Best SI2 = 9.05 t_index 3 thr_mc 0.8 thr_md 0.6 epoch 18 in 129\n",
      "Best SI3 = 5.05 t_index 3 thr_mc 0.8 thr_md 0.6 epoch 18 in 129\n",
      "Best SI4 = 1.95 t_index 3 thr_mc 0.8 thr_md 0.6 epoch 13 in 51\n",
      "Best SI5 = 1.05 t_index 0 thr_mc 0.5 thr_md 0.7 epoch 13 in 9\n",
      "Time=92.09 secs\n",
      "INFO:tensorflow:Restoring parameters from ../../RNN/weights/000520/000023/000023\n",
      "Parameters loaded. Epoch 23\n",
      "Epoch 23 of 34. Getting output...\n"
     ]
    },
    {
     "name": "stderr",
     "output_type": "stream",
     "text": [
      "100%|████████████████████████████████████████████████████████████████████████████████████████████████████████████████████████████████████████| 23/23 [01:43<00:00,  6.19s/it]\n"
     ]
    },
    {
     "name": "stdout",
     "output_type": "stream",
     "text": [
      "Getting results\n",
      "Epoch 23, J_train = 6.4969879377429125, J_test = 6.327603651129681\n"
     ]
    },
    {
     "name": "stderr",
     "output_type": "stream",
     "text": [
      "0it [00:00, ?it/s]\n"
     ]
    },
    {
     "name": "stdout",
     "output_type": "stream",
     "text": [
      "Epoch = 23. Time index = 0. Threshold MC = 0.5. Threshold MD = 0.5\n",
      "J_test = 6.327603651129681, J_train = 6.4969879377429125, Accuracy=0.5522588800008357\n",
      "RD = 259550 NZ = 499164 NZA = 944228 pNZ = 43.453% pNZA = 82.197% AD = 52.00% ADA = 27.49% NO = 1 GSP = 0.00% NSP = 0.00%\n",
      "SI2 = -0.55 SI = -0.55 eGROI = 0.00% eROI = 0.00% eROI2 = 0.00% eROI3 = 0.00% mSpread = 0.0000%\n"
     ]
    },
    {
     "name": "stderr",
     "output_type": "stream",
     "text": [
      "100%|████████████████████████████████████████████████████████████████████████████████████████████████████████████████████████████████| 12195/12195 [00:06<00:00, 1947.67it/s]\n"
     ]
    },
    {
     "name": "stdout",
     "output_type": "stream",
     "text": [
      "Epoch = 23. Time index = 0. Threshold MC = 0.5. Threshold MD = 0.6\n",
      "RD = 8965 NZ = 13921 NZA = 28012 pNZ = 1.212% pNZA = 2.439% AD = 64.40% ADA = 32.00% NO = 2567 GSP = 62.64% NSP = 44.60%\n",
      "SI2 = -79.85 SI = -266.85 eGROI = 40.55% eROI = -37.21% eROI2 = -10.79% eROI3 = -36.46% mSpread = 0.0303%\n"
     ]
    },
    {
     "name": "stderr",
     "output_type": "stream",
     "text": [
      "100%|████████████████████████████████████████████████████████████████████████████████████████████████████████████████████████████████████| 764/764 [00:00<00:00, 1522.93it/s]\n"
     ]
    },
    {
     "name": "stdout",
     "output_type": "stream",
     "text": [
      "Epoch = 23. Time index = 0. Threshold MC = 0.5. Threshold MD = 0.7\n",
      "RD = 1243 NZ = 1609 NZA = 3201 pNZ = 0.140% pNZA = 0.279% AD = 77.25% ADA = 38.83% NO = 282 GSP = 66.67% NSP = 41.13%\n",
      "SI2 = -9.10 SI = -39.10 eGROI = 4.71% eROI = -5.55% eROI2 = -0.93% eROI3 = -3.75% mSpread = 0.0364%\n"
     ]
    },
    {
     "name": "stderr",
     "output_type": "stream",
     "text": [
      "0it [00:00, ?it/s]\n"
     ]
    },
    {
     "name": "stdout",
     "output_type": "stream",
     "text": [
      "Epoch = 23. Time index = 0. Threshold MC = 0.5. Threshold MD = 0.8\n",
      "RD = 175 NZ = 186 NZA = 307 pNZ = 0.016% pNZA = 0.027% AD = 94.09% ADA = 57.00% NO = 1 GSP = 0.00% NSP = 0.00%\n",
      "SI2 = -0.55 SI = -0.55 eGROI = 0.00% eROI = 0.00% eROI2 = 0.00% eROI3 = 0.00% mSpread = 0.0000%\n"
     ]
    },
    {
     "name": "stderr",
     "output_type": "stream",
     "text": [
      "0it [00:00, ?it/s]\n"
     ]
    },
    {
     "name": "stdout",
     "output_type": "stream",
     "text": [
      "Epoch = 23. Time index = 0. Threshold MC = 0.5. Threshold MD = 0.9\n",
      "RD = 0 NZ = 0 NZA = 0 pNZ = 0.000% pNZA = 0.000% AD = 0.00% ADA = 0.00% NO = 1 GSP = 0.00% NSP = 0.00%\n",
      "SI2 = -0.55 SI = -0.55 eGROI = 0.00% eROI = 0.00% eROI2 = 0.00% eROI3 = 0.00% mSpread = 0.0000%\n",
      "\n"
     ]
    },
    {
     "name": "stderr",
     "output_type": "stream",
     "text": [
      "0it [00:00, ?it/s]\n"
     ]
    },
    {
     "name": "stdout",
     "output_type": "stream",
     "text": [
      "Epoch = 23. Time index = 0. Threshold MC = 0.6. Threshold MD = 0.5\n",
      "RD = 86189 NZ = 162914 NZA = 267722 pNZ = 14.182% pNZA = 23.306% AD = 52.90% ADA = 32.19% NO = 1 GSP = 0.00% NSP = 0.00%\n",
      "SI2 = -0.55 SI = -0.55 eGROI = 0.00% eROI = 0.00% eROI2 = 0.00% eROI3 = 0.00% mSpread = 0.0000%\n"
     ]
    },
    {
     "name": "stderr",
     "output_type": "stream",
     "text": [
      "100%|██████████████████████████████████████████████████████████████████████████████████████████████████████████████████████████████████| 6439/6439 [00:04<00:00, 1528.81it/s]\n"
     ]
    },
    {
     "name": "stdout",
     "output_type": "stream",
     "text": [
      "Epoch = 23. Time index = 0. Threshold MC = 0.6. Threshold MD = 0.6\n",
      "RD = 4512 NZ = 7016 NZA = 11737 pNZ = 0.611% pNZA = 1.022% AD = 64.31% ADA = 38.44% NO = 1676 GSP = 63.84% NSP = 49.40%\n",
      "SI2 = -17.80 SI = -93.80 eGROI = 28.11% eROI = -16.94% eROI2 = -5.41% eROI3 = -22.17% mSpread = 0.0269%\n"
     ]
    },
    {
     "name": "stderr",
     "output_type": "stream",
     "text": [
      "100%|████████████████████████████████████████████████████████████████████████████████████████████████████████████████████████████████████| 529/529 [00:00<00:00, 1756.32it/s]\n"
     ]
    },
    {
     "name": "stdout",
     "output_type": "stream",
     "text": [
      "Epoch = 23. Time index = 0. Threshold MC = 0.6. Threshold MD = 0.7\n",
      "RD = 690 NZ = 896 NZA = 1579 pNZ = 0.078% pNZA = 0.137% AD = 77.01% ADA = 43.70% NO = 181 GSP = 61.88% NSP = 40.33%\n",
      "SI2 = -7.55 SI = -26.55 eGROI = 2.08% eROI = -4.26% eROI2 = -1.54% eROI3 = -3.35% mSpread = 0.0350%\n"
     ]
    },
    {
     "name": "stderr",
     "output_type": "stream",
     "text": [
      "0it [00:00, ?it/s]\n"
     ]
    },
    {
     "name": "stdout",
     "output_type": "stream",
     "text": [
      "Epoch = 23. Time index = 0. Threshold MC = 0.6. Threshold MD = 0.8\n",
      "RD = 124 NZ = 129 NZA = 179 pNZ = 0.011% pNZA = 0.016% AD = 96.12% ADA = 69.27% NO = 1 GSP = 0.00% NSP = 0.00%\n",
      "SI2 = -0.55 SI = -0.55 eGROI = 0.00% eROI = 0.00% eROI2 = 0.00% eROI3 = 0.00% mSpread = 0.0000%\n"
     ]
    },
    {
     "name": "stderr",
     "output_type": "stream",
     "text": [
      "0it [00:00, ?it/s]\n"
     ]
    },
    {
     "name": "stdout",
     "output_type": "stream",
     "text": [
      "Epoch = 23. Time index = 0. Threshold MC = 0.6. Threshold MD = 0.9\n",
      "RD = 0 NZ = 0 NZA = 0 pNZ = 0.000% pNZA = 0.000% AD = 0.00% ADA = 0.00% NO = 1 GSP = 0.00% NSP = 0.00%\n",
      "SI2 = -0.55 SI = -0.55 eGROI = 0.00% eROI = 0.00% eROI2 = 0.00% eROI3 = 0.00% mSpread = 0.0000%\n",
      "\n"
     ]
    },
    {
     "name": "stderr",
     "output_type": "stream",
     "text": [
      "100%|████████████████████████████████████████████████████████████████████████████████████████████████████████████████████████████████| 13546/13546 [00:06<00:00, 1979.61it/s]\n"
     ]
    },
    {
     "name": "stdout",
     "output_type": "stream",
     "text": [
      "Epoch = 23. Time index = 0. Threshold MC = 0.7. Threshold MD = 0.5\n",
      "RD = 9097 NZ = 16561 NZA = 23289 pNZ = 1.442% pNZA = 2.027% AD = 54.93% ADA = 39.06% NO = 2539 GSP = 53.41% NSP = 45.49%\n",
      "SI2 = -219.45 SI = -241.45 eGROI = 10.14% eROI = -40.19% eROI2 = -40.64% eROI3 = -66.03% mSpread = 0.0198%\n"
     ]
    },
    {
     "name": "stderr",
     "output_type": "stream",
     "text": [
      "100%|██████████████████████████████████████████████████████████████████████████████████████████████████████████████████████████████████| 1964/1964 [00:01<00:00, 1320.74it/s]\n"
     ]
    },
    {
     "name": "stdout",
     "output_type": "stream",
     "text": [
      "Epoch = 23. Time index = 0. Threshold MC = 0.7. Threshold MD = 0.6\n",
      "RD = 1503 NZ = 2329 NZA = 3219 pNZ = 0.203% pNZA = 0.280% AD = 64.53% ADA = 46.69% NO = 698 GSP = 63.47% NSP = 54.87%\n",
      "SI2 = 10.10 SI = -0.90 eGROI = 11.93% eROI = -2.75% eROI2 = -2.03% eROI3 = -9.01% mSpread = 0.0210%\n"
     ]
    },
    {
     "name": "stderr",
     "output_type": "stream",
     "text": [
      "100%|███████████████████████████████████████████████████████████████████████████████████████████████████████████████████████████████████████| 18/18 [00:00<00:00, 859.47it/s]\n"
     ]
    },
    {
     "name": "stdout",
     "output_type": "stream",
     "text": [
      "Epoch = 23. Time index = 0. Threshold MC = 0.7. Threshold MD = 0.7\n",
      "RD = 172 NZ = 225 NZA = 296 pNZ = 0.020% pNZA = 0.026% AD = 76.44% ADA = 58.11% NO = 15 GSP = 46.67% NSP = 33.33%\n",
      "SI2 = -3.25 SI = -3.25 eGROI = -0.79% eROI = -1.23% eROI2 = -1.09% eROI3 = -1.24% mSpread = 0.0292%\n"
     ]
    },
    {
     "name": "stderr",
     "output_type": "stream",
     "text": [
      "0it [00:00, ?it/s]\n"
     ]
    },
    {
     "name": "stdout",
     "output_type": "stream",
     "text": [
      "Epoch = 23. Time index = 0. Threshold MC = 0.7. Threshold MD = 0.8\n",
      "RD = 47 NZ = 49 NZA = 57 pNZ = 0.004% pNZA = 0.005% AD = 95.92% ADA = 82.46% NO = 1 GSP = 0.00% NSP = 0.00%\n",
      "SI2 = -0.55 SI = -0.55 eGROI = 0.00% eROI = 0.00% eROI2 = 0.00% eROI3 = 0.00% mSpread = 0.0000%\n"
     ]
    },
    {
     "name": "stderr",
     "output_type": "stream",
     "text": [
      "0it [00:00, ?it/s]\n"
     ]
    },
    {
     "name": "stdout",
     "output_type": "stream",
     "text": [
      "Epoch = 23. Time index = 0. Threshold MC = 0.7. Threshold MD = 0.9\n",
      "RD = 0 NZ = 0 NZA = 0 pNZ = 0.000% pNZA = 0.000% AD = 0.00% ADA = 0.00% NO = 1 GSP = 0.00% NSP = 0.00%\n",
      "SI2 = -0.55 SI = -0.55 eGROI = 0.00% eROI = 0.00% eROI2 = 0.00% eROI3 = 0.00% mSpread = 0.0000%\n",
      "\n"
     ]
    },
    {
     "name": "stderr",
     "output_type": "stream",
     "text": [
      "100%|████████████████████████████████████████████████████████████████████████████████████████████████████████████████████████████████████| 672/672 [00:00<00:00, 1651.45it/s]\n"
     ]
    },
    {
     "name": "stdout",
     "output_type": "stream",
     "text": [
      "Epoch = 23. Time index = 0. Threshold MC = 0.8. Threshold MD = 0.5\n",
      "RD = 475 NZ = 772 NZA = 972 pNZ = 0.067% pNZA = 0.085% AD = 61.53% ADA = 48.87% NO = 330 GSP = 54.85% NSP = 51.82%\n",
      "SI2 = -12.50 SI = -10.50 eGROI = 7.79% eROI = 1.56% eROI2 = 1.19% eROI3 = -2.11% mSpread = 0.0189%\n"
     ]
    },
    {
     "name": "stderr",
     "output_type": "stream",
     "text": [
      "100%|█████████████████████████████████████████████████████████████████████████████████████████████████████████████████████████████████████| 160/160 [00:00<00:00, 938.17it/s]\n"
     ]
    },
    {
     "name": "stdout",
     "output_type": "stream",
     "text": [
      "Epoch = 23. Time index = 0. Threshold MC = 0.8. Threshold MD = 0.6\n",
      "RD = 136 NZ = 208 NZA = 268 pNZ = 0.018% pNZA = 0.023% AD = 65.38% ADA = 50.75% NO = 121 GSP = 61.98% NSP = 58.68%\n",
      "SI2 = 4.45 SI = 4.45 eGROI = 3.58% eROI = 1.36% eROI2 = 1.16% eROI3 = -0.05% mSpread = 0.0184%\n"
     ]
    },
    {
     "name": "stderr",
     "output_type": "stream",
     "text": [
      "0it [00:00, ?it/s]\n"
     ]
    },
    {
     "name": "stdout",
     "output_type": "stream",
     "text": [
      "Epoch = 23. Time index = 0. Threshold MC = 0.8. Threshold MD = 0.7\n",
      "RD = 21 NZ = 32 NZA = 38 pNZ = 0.003% pNZA = 0.003% AD = 65.62% ADA = 55.26% NO = 1 GSP = 0.00% NSP = 0.00%\n",
      "SI2 = -0.55 SI = -0.55 eGROI = 0.00% eROI = 0.00% eROI2 = 0.00% eROI3 = 0.00% mSpread = 0.0000%\n"
     ]
    },
    {
     "name": "stderr",
     "output_type": "stream",
     "text": [
      "0it [00:00, ?it/s]\n"
     ]
    },
    {
     "name": "stdout",
     "output_type": "stream",
     "text": [
      "Epoch = 23. Time index = 0. Threshold MC = 0.8. Threshold MD = 0.8\n",
      "RD = 2 NZ = 2 NZA = 2 pNZ = 0.000% pNZA = 0.000% AD = 100.00% ADA = 100.00% NO = 1 GSP = 0.00% NSP = 0.00%\n",
      "SI2 = -0.55 SI = -0.55 eGROI = 0.00% eROI = 0.00% eROI2 = 0.00% eROI3 = 0.00% mSpread = 0.0000%\n"
     ]
    },
    {
     "name": "stderr",
     "output_type": "stream",
     "text": [
      "0it [00:00, ?it/s]\n"
     ]
    },
    {
     "name": "stdout",
     "output_type": "stream",
     "text": [
      "Epoch = 23. Time index = 0. Threshold MC = 0.8. Threshold MD = 0.9\n",
      "RD = 0 NZ = 0 NZA = 0 pNZ = 0.000% pNZA = 0.000% AD = 0.00% ADA = 0.00% NO = 1 GSP = 0.00% NSP = 0.00%\n",
      "SI2 = -0.55 SI = -0.55 eGROI = 0.00% eROI = 0.00% eROI2 = 0.00% eROI3 = 0.00% mSpread = 0.0000%\n",
      "\n"
     ]
    },
    {
     "name": "stderr",
     "output_type": "stream",
     "text": [
      "0it [00:00, ?it/s]\n"
     ]
    },
    {
     "name": "stdout",
     "output_type": "stream",
     "text": [
      "Epoch = 23. Time index = 0. Threshold MC = 0.9. Threshold MD = 0.5\n",
      "RD = 0 NZ = 0 NZA = 0 pNZ = 0.000% pNZA = 0.000% AD = 0.00% ADA = 0.00% NO = 1 GSP = 0.00% NSP = 0.00%\n",
      "SI2 = -0.55 SI = -0.55 eGROI = 0.00% eROI = 0.00% eROI2 = 0.00% eROI3 = 0.00% mSpread = 0.0000%\n"
     ]
    },
    {
     "name": "stderr",
     "output_type": "stream",
     "text": [
      "0it [00:00, ?it/s]\n"
     ]
    },
    {
     "name": "stdout",
     "output_type": "stream",
     "text": [
      "Epoch = 23. Time index = 0. Threshold MC = 0.9. Threshold MD = 0.6\n",
      "RD = 0 NZ = 0 NZA = 0 pNZ = 0.000% pNZA = 0.000% AD = 0.00% ADA = 0.00% NO = 1 GSP = 0.00% NSP = 0.00%\n",
      "SI2 = -0.55 SI = -0.55 eGROI = 0.00% eROI = 0.00% eROI2 = 0.00% eROI3 = 0.00% mSpread = 0.0000%\n"
     ]
    },
    {
     "name": "stderr",
     "output_type": "stream",
     "text": [
      "0it [00:00, ?it/s]\n"
     ]
    },
    {
     "name": "stdout",
     "output_type": "stream",
     "text": [
      "Epoch = 23. Time index = 0. Threshold MC = 0.9. Threshold MD = 0.7\n",
      "RD = 0 NZ = 0 NZA = 0 pNZ = 0.000% pNZA = 0.000% AD = 0.00% ADA = 0.00% NO = 1 GSP = 0.00% NSP = 0.00%\n",
      "SI2 = -0.55 SI = -0.55 eGROI = 0.00% eROI = 0.00% eROI2 = 0.00% eROI3 = 0.00% mSpread = 0.0000%\n"
     ]
    },
    {
     "name": "stderr",
     "output_type": "stream",
     "text": [
      "0it [00:00, ?it/s]\n"
     ]
    },
    {
     "name": "stdout",
     "output_type": "stream",
     "text": [
      "Epoch = 23. Time index = 0. Threshold MC = 0.9. Threshold MD = 0.8\n",
      "RD = 0 NZ = 0 NZA = 0 pNZ = 0.000% pNZA = 0.000% AD = 0.00% ADA = 0.00% NO = 1 GSP = 0.00% NSP = 0.00%\n",
      "SI2 = -0.55 SI = -0.55 eGROI = 0.00% eROI = 0.00% eROI2 = 0.00% eROI3 = 0.00% mSpread = 0.0000%\n"
     ]
    },
    {
     "name": "stderr",
     "output_type": "stream",
     "text": [
      "0it [00:00, ?it/s]\n"
     ]
    },
    {
     "name": "stdout",
     "output_type": "stream",
     "text": [
      "Epoch = 23. Time index = 0. Threshold MC = 0.9. Threshold MD = 0.9\n",
      "RD = 0 NZ = 0 NZA = 0 pNZ = 0.000% pNZA = 0.000% AD = 0.00% ADA = 0.00% NO = 1 GSP = 0.00% NSP = 0.00%\n",
      "SI2 = -0.55 SI = -0.55 eGROI = 0.00% eROI = 0.00% eROI2 = 0.00% eROI3 = 0.00% mSpread = 0.0000%\n",
      "\n"
     ]
    },
    {
     "name": "stderr",
     "output_type": "stream",
     "text": [
      "0it [00:00, ?it/s]\n"
     ]
    },
    {
     "name": "stdout",
     "output_type": "stream",
     "text": [
      "Epoch = 23. Time index = 1. Threshold MC = 0.5. Threshold MD = 0.5\n",
      "J_test = 6.327603651129681, J_train = 6.4969879377429125, Accuracy=0.5471027645240452\n",
      "RD = 262181 NZ = 504431 NZA = 960684 pNZ = 43.912% pNZA = 83.630% AD = 51.98% ADA = 27.29% NO = 1 GSP = 0.00% NSP = 0.00%\n",
      "SI2 = -0.55 SI = -0.55 eGROI = 0.00% eROI = 0.00% eROI2 = 0.00% eROI3 = 0.00% mSpread = 0.0000%\n"
     ]
    },
    {
     "name": "stderr",
     "output_type": "stream",
     "text": [
      "100%|████████████████████████████████████████████████████████████████████████████████████████████████████████████████████████████████| 16695/16695 [00:08<00:00, 1950.99it/s]\n"
     ]
    },
    {
     "name": "stdout",
     "output_type": "stream",
     "text": [
      "Epoch = 23. Time index = 1. Threshold MC = 0.5. Threshold MD = 0.6\n",
      "RD = 12044 NZ = 18775 NZA = 38666 pNZ = 1.634% pNZA = 3.366% AD = 64.15% ADA = 31.15% NO = 3202 GSP = 60.84% NSP = 44.10%\n",
      "SI2 = -172.10 SI = -349.10 eGROI = 49.02% eROI = -41.60% eROI2 = -15.02% eROI3 = -47.04% mSpread = 0.0283%\n"
     ]
    },
    {
     "name": "stderr",
     "output_type": "stream",
     "text": [
      "100%|██████████████████████████████████████████████████████████████████████████████████████████████████████████████████████████████████| 2071/2071 [00:01<00:00, 1508.00it/s]\n"
     ]
    },
    {
     "name": "stdout",
     "output_type": "stream",
     "text": [
      "Epoch = 23. Time index = 1. Threshold MC = 0.5. Threshold MD = 0.7\n",
      "RD = 2307 NZ = 3091 NZA = 6563 pNZ = 0.269% pNZA = 0.571% AD = 74.64% ADA = 35.15% NO = 483 GSP = 66.67% NSP = 42.44%\n",
      "SI2 = -5.65 SI = -60.65 eGROI = 8.98% eROI = -9.11% eROI2 = -0.68% eROI3 = -5.51% mSpread = 0.0375%\n"
     ]
    },
    {
     "name": "stderr",
     "output_type": "stream",
     "text": [
      "100%|████████████████████████████████████████████████████████████████████████████████████████████████████████████████████████████████████████| 8/8 [00:00<00:00, 1604.40it/s]\n"
     ]
    },
    {
     "name": "stdout",
     "output_type": "stream",
     "text": [
      "Epoch = 23. Time index = 1. Threshold MC = 0.5. Threshold MD = 0.8\n",
      "RD = 385 NZ = 433 NZA = 782 pNZ = 0.038% pNZA = 0.068% AD = 88.91% ADA = 49.23% NO = 5 GSP = 80.00% NSP = 60.00%\n",
      "SI2 = 0.25 SI = 0.25 eGROI = 0.26% eROI = 0.03% eROI2 = 0.16% eROI3 = 0.11% mSpread = 0.0460%\n"
     ]
    },
    {
     "name": "stderr",
     "output_type": "stream",
     "text": [
      "0it [00:00, ?it/s]\n"
     ]
    },
    {
     "name": "stdout",
     "output_type": "stream",
     "text": [
      "Epoch = 23. Time index = 1. Threshold MC = 0.5. Threshold MD = 0.9\n",
      "RD = 11 NZ = 11 NZA = 17 pNZ = 0.001% pNZA = 0.001% AD = 100.00% ADA = 64.71% NO = 1 GSP = 0.00% NSP = 0.00%\n",
      "SI2 = -0.55 SI = -0.55 eGROI = 0.00% eROI = 0.00% eROI2 = 0.00% eROI3 = 0.00% mSpread = 0.0000%\n",
      "\n"
     ]
    },
    {
     "name": "stderr",
     "output_type": "stream",
     "text": [
      "0it [00:00, ?it/s]\n"
     ]
    },
    {
     "name": "stdout",
     "output_type": "stream",
     "text": [
      "Epoch = 23. Time index = 1. Threshold MC = 0.6. Threshold MD = 0.5\n",
      "RD = 85512 NZ = 161482 NZA = 267142 pNZ = 14.057% pNZA = 23.255% AD = 52.95% ADA = 32.01% NO = 1 GSP = 0.00% NSP = 0.00%\n",
      "SI2 = -0.55 SI = -0.55 eGROI = 0.00% eROI = 0.00% eROI2 = 0.00% eROI3 = 0.00% mSpread = 0.0000%\n"
     ]
    },
    {
     "name": "stderr",
     "output_type": "stream",
     "text": [
      "100%|████████████████████████████████████████████████████████████████████████████████████████████████████████████████████████████████| 10778/10778 [00:05<00:00, 1888.63it/s]\n"
     ]
    },
    {
     "name": "stdout",
     "output_type": "stream",
     "text": [
      "Epoch = 23. Time index = 1. Threshold MC = 0.6. Threshold MD = 0.6\n",
      "RD = 6524 NZ = 10010 NZA = 17305 pNZ = 0.871% pNZA = 1.506% AD = 65.17% ADA = 37.70% NO = 2450 GSP = 61.31% NSP = 46.86%\n",
      "SI2 = -110.50 SI = -199.50 eGROI = 39.06% eROI = -25.24% eROI2 = -9.94% eROI3 = -34.44% mSpread = 0.0262%\n"
     ]
    },
    {
     "name": "stderr",
     "output_type": "stream",
     "text": [
      "100%|██████████████████████████████████████████████████████████████████████████████████████████████████████████████████████████████████| 1636/1636 [00:00<00:00, 2738.50it/s]\n"
     ]
    },
    {
     "name": "stdout",
     "output_type": "stream",
     "text": [
      "Epoch = 23. Time index = 1. Threshold MC = 0.6. Threshold MD = 0.7\n",
      "RD = 1294 NZ = 1730 NZA = 3174 pNZ = 0.151% pNZA = 0.276% AD = 74.80% ADA = 40.77% NO = 403 GSP = 66.75% NSP = 43.67%\n",
      "SI2 = -10.65 SI = -45.65 eGROI = 7.97% eROI = -6.41% eROI2 = -0.09% eROI3 = -4.12% mSpread = 0.0357%\n"
     ]
    },
    {
     "name": "stderr",
     "output_type": "stream",
     "text": [
      "100%|████████████████████████████████████████████████████████████████████████████████████████████████████████████████████████████████████████| 8/8 [00:00<00:00, 2005.28it/s]\n"
     ]
    },
    {
     "name": "stdout",
     "output_type": "stream",
     "text": [
      "Epoch = 23. Time index = 1. Threshold MC = 0.6. Threshold MD = 0.8\n",
      "RD = 271 NZ = 299 NZA = 469 pNZ = 0.026% pNZA = 0.041% AD = 90.64% ADA = 57.78% NO = 5 GSP = 80.00% NSP = 60.00%\n",
      "SI2 = 0.25 SI = 0.25 eGROI = 0.26% eROI = 0.03% eROI2 = 0.16% eROI3 = 0.11% mSpread = 0.0460%\n"
     ]
    },
    {
     "name": "stderr",
     "output_type": "stream",
     "text": [
      "0it [00:00, ?it/s]\n"
     ]
    },
    {
     "name": "stdout",
     "output_type": "stream",
     "text": [
      "Epoch = 23. Time index = 1. Threshold MC = 0.6. Threshold MD = 0.9\n",
      "RD = 11 NZ = 11 NZA = 16 pNZ = 0.001% pNZA = 0.001% AD = 100.00% ADA = 68.75% NO = 1 GSP = 0.00% NSP = 0.00%\n",
      "SI2 = -0.55 SI = -0.55 eGROI = 0.00% eROI = 0.00% eROI2 = 0.00% eROI3 = 0.00% mSpread = 0.0000%\n",
      "\n"
     ]
    },
    {
     "name": "stderr",
     "output_type": "stream",
     "text": [
      "100%|██████████████████████████████████████████████████████████████████████████████████████████████████████████████████████████████████| 9871/9871 [00:04<00:00, 2033.14it/s]\n"
     ]
    },
    {
     "name": "stdout",
     "output_type": "stream",
     "text": [
      "Epoch = 23. Time index = 1. Threshold MC = 0.7. Threshold MD = 0.5\n",
      "RD = 6148 NZ = 10982 NZA = 15202 pNZ = 0.956% pNZA = 1.323% AD = 55.98% ADA = 40.44% NO = 1967 GSP = 54.65% NSP = 47.79%\n",
      "SI2 = -125.85 SI = -141.85 eGROI = 16.65% eROI = -23.82% eROI2 = -22.69% eROI3 = -42.36% mSpread = 0.0206%\n"
     ]
    },
    {
     "name": "stderr",
     "output_type": "stream",
     "text": [
      "100%|██████████████████████████████████████████████████████████████████████████████████████████████████████████████████████████████████| 2748/2748 [00:01<00:00, 1895.00it/s]\n"
     ]
    },
    {
     "name": "stdout",
     "output_type": "stream",
     "text": [
      "Epoch = 23. Time index = 1. Threshold MC = 0.7. Threshold MD = 0.6\n",
      "RD = 1742 NZ = 2696 NZA = 3803 pNZ = 0.235% pNZA = 0.331% AD = 64.61% ADA = 45.81% NO = 826 GSP = 62.47% NSP = 53.27%\n",
      "SI2 = -5.30 SI = -14.30 eGROI = 14.67% eROI = -3.47% eROI2 = -1.85% eROI3 = -10.11% mSpread = 0.0220%\n"
     ]
    },
    {
     "name": "stderr",
     "output_type": "stream",
     "text": [
      "100%|████████████████████████████████████████████████████████████████████████████████████████████████████████████████████████████████████| 208/208 [00:00<00:00, 1797.92it/s]\n"
     ]
    },
    {
     "name": "stdout",
     "output_type": "stream",
     "text": [
      "Epoch = 23. Time index = 1. Threshold MC = 0.7. Threshold MD = 0.7\n",
      "RD = 357 NZ = 470 NZA = 644 pNZ = 0.041% pNZA = 0.056% AD = 75.96% ADA = 55.43% NO = 91 GSP = 60.44% NSP = 47.25%\n",
      "SI2 = -5.05 SI = -7.05 eGROI = 0.92% eROI = -1.76% eROI2 = -0.90% eROI3 = -1.81% mSpread = 0.0295%\n"
     ]
    },
    {
     "name": "stderr",
     "output_type": "stream",
     "text": [
      "0it [00:00, ?it/s]\n"
     ]
    },
    {
     "name": "stdout",
     "output_type": "stream",
     "text": [
      "Epoch = 23. Time index = 1. Threshold MC = 0.7. Threshold MD = 0.8\n",
      "RD = 144 NZ = 159 NZA = 202 pNZ = 0.014% pNZA = 0.018% AD = 90.57% ADA = 71.29% NO = 1 GSP = 0.00% NSP = 0.00%\n",
      "SI2 = -0.55 SI = -0.55 eGROI = 0.00% eROI = 0.00% eROI2 = 0.00% eROI3 = 0.00% mSpread = 0.0000%\n"
     ]
    },
    {
     "name": "stderr",
     "output_type": "stream",
     "text": [
      "0it [00:00, ?it/s]\n"
     ]
    },
    {
     "name": "stdout",
     "output_type": "stream",
     "text": [
      "Epoch = 23. Time index = 1. Threshold MC = 0.7. Threshold MD = 0.9\n",
      "RD = 9 NZ = 9 NZA = 11 pNZ = 0.001% pNZA = 0.001% AD = 100.00% ADA = 81.82% NO = 1 GSP = 0.00% NSP = 0.00%\n",
      "SI2 = -0.55 SI = -0.55 eGROI = 0.00% eROI = 0.00% eROI2 = 0.00% eROI3 = 0.00% mSpread = 0.0000%\n",
      "\n"
     ]
    },
    {
     "name": "stderr",
     "output_type": "stream",
     "text": [
      "100%|████████████████████████████████████████████████████████████████████████████████████████████████████████████████████████████████████| 657/657 [00:00<00:00, 1202.10it/s]\n"
     ]
    },
    {
     "name": "stdout",
     "output_type": "stream",
     "text": [
      "Epoch = 23. Time index = 1. Threshold MC = 0.8. Threshold MD = 0.5\n",
      "RD = 378 NZ = 663 NZA = 838 pNZ = 0.058% pNZA = 0.073% AD = 57.01% ADA = 45.11% NO = 354 GSP = 54.24% NSP = 48.59%\n",
      "SI2 = -20.70 SI = -22.70 eGROI = 3.57% eROI = -3.47% eROI2 = -3.51% eROI3 = -7.05% mSpread = 0.0199%\n"
     ]
    },
    {
     "name": "stderr",
     "output_type": "stream",
     "text": [
      "100%|████████████████████████████████████████████████████████████████████████████████████████████████████████████████████████████████████| 283/283 [00:00<00:00, 1984.30it/s]\n"
     ]
    },
    {
     "name": "stdout",
     "output_type": "stream",
     "text": [
      "Epoch = 23. Time index = 1. Threshold MC = 0.8. Threshold MD = 0.6\n",
      "RD = 208 NZ = 310 NZA = 392 pNZ = 0.027% pNZA = 0.034% AD = 67.10% ADA = 53.06% NO = 164 GSP = 63.41% NSP = 57.93%\n",
      "SI2 = 4.80 SI = 4.80 eGROI = 4.86% eROI = 1.72% eROI2 = 1.58% eROI3 = -0.06% mSpread = 0.0192%\n"
     ]
    },
    {
     "name": "stderr",
     "output_type": "stream",
     "text": [
      "100%|██████████████████████████████████████████████████████████████████████████████████████████████████████████████████████████████████████| 13/13 [00:00<00:00, 1862.16it/s]\n"
     ]
    },
    {
     "name": "stdout",
     "output_type": "stream",
     "text": [
      "Epoch = 23. Time index = 1. Threshold MC = 0.8. Threshold MD = 0.7\n",
      "RD = 56 NZ = 69 NZA = 87 pNZ = 0.006% pNZA = 0.008% AD = 81.16% ADA = 64.37% NO = 7 GSP = 42.86% NSP = 42.86%\n",
      "SI2 = -1.85 SI = -0.85 eGROI = 0.34% eROI = 0.19% eROI2 = 0.20% eROI3 = 0.13% mSpread = 0.0209%\n"
     ]
    },
    {
     "name": "stderr",
     "output_type": "stream",
     "text": [
      "0it [00:00, ?it/s]\n"
     ]
    },
    {
     "name": "stdout",
     "output_type": "stream",
     "text": [
      "Epoch = 23. Time index = 1. Threshold MC = 0.8. Threshold MD = 0.8\n",
      "RD = 32 NZ = 36 NZA = 42 pNZ = 0.003% pNZA = 0.004% AD = 88.89% ADA = 76.19% NO = 1 GSP = 0.00% NSP = 0.00%\n",
      "SI2 = -0.55 SI = -0.55 eGROI = 0.00% eROI = 0.00% eROI2 = 0.00% eROI3 = 0.00% mSpread = 0.0000%\n"
     ]
    },
    {
     "name": "stderr",
     "output_type": "stream",
     "text": [
      "0it [00:00, ?it/s]\n"
     ]
    },
    {
     "name": "stdout",
     "output_type": "stream",
     "text": [
      "Epoch = 23. Time index = 1. Threshold MC = 0.8. Threshold MD = 0.9\n",
      "RD = 4 NZ = 4 NZA = 6 pNZ = 0.000% pNZA = 0.001% AD = 100.00% ADA = 66.67% NO = 1 GSP = 0.00% NSP = 0.00%\n",
      "SI2 = -0.55 SI = -0.55 eGROI = 0.00% eROI = 0.00% eROI2 = 0.00% eROI3 = 0.00% mSpread = 0.0000%\n",
      "\n"
     ]
    },
    {
     "name": "stderr",
     "output_type": "stream",
     "text": [
      "0it [00:00, ?it/s]\n"
     ]
    },
    {
     "name": "stdout",
     "output_type": "stream",
     "text": [
      "Epoch = 23. Time index = 1. Threshold MC = 0.9. Threshold MD = 0.5\n",
      "RD = 0 NZ = 0 NZA = 0 pNZ = 0.000% pNZA = 0.000% AD = 0.00% ADA = 0.00% NO = 1 GSP = 0.00% NSP = 0.00%\n",
      "SI2 = -0.55 SI = -0.55 eGROI = 0.00% eROI = 0.00% eROI2 = 0.00% eROI3 = 0.00% mSpread = 0.0000%\n"
     ]
    },
    {
     "name": "stderr",
     "output_type": "stream",
     "text": [
      "0it [00:00, ?it/s]\n"
     ]
    },
    {
     "name": "stdout",
     "output_type": "stream",
     "text": [
      "Epoch = 23. Time index = 1. Threshold MC = 0.9. Threshold MD = 0.6\n",
      "RD = 0 NZ = 0 NZA = 0 pNZ = 0.000% pNZA = 0.000% AD = 0.00% ADA = 0.00% NO = 1 GSP = 0.00% NSP = 0.00%\n",
      "SI2 = -0.55 SI = -0.55 eGROI = 0.00% eROI = 0.00% eROI2 = 0.00% eROI3 = 0.00% mSpread = 0.0000%\n"
     ]
    },
    {
     "name": "stderr",
     "output_type": "stream",
     "text": [
      "0it [00:00, ?it/s]\n"
     ]
    },
    {
     "name": "stdout",
     "output_type": "stream",
     "text": [
      "Epoch = 23. Time index = 1. Threshold MC = 0.9. Threshold MD = 0.7\n",
      "RD = 0 NZ = 0 NZA = 0 pNZ = 0.000% pNZA = 0.000% AD = 0.00% ADA = 0.00% NO = 1 GSP = 0.00% NSP = 0.00%\n",
      "SI2 = -0.55 SI = -0.55 eGROI = 0.00% eROI = 0.00% eROI2 = 0.00% eROI3 = 0.00% mSpread = 0.0000%\n"
     ]
    },
    {
     "name": "stderr",
     "output_type": "stream",
     "text": [
      "0it [00:00, ?it/s]\n"
     ]
    },
    {
     "name": "stdout",
     "output_type": "stream",
     "text": [
      "Epoch = 23. Time index = 1. Threshold MC = 0.9. Threshold MD = 0.8\n",
      "RD = 0 NZ = 0 NZA = 0 pNZ = 0.000% pNZA = 0.000% AD = 0.00% ADA = 0.00% NO = 1 GSP = 0.00% NSP = 0.00%\n",
      "SI2 = -0.55 SI = -0.55 eGROI = 0.00% eROI = 0.00% eROI2 = 0.00% eROI3 = 0.00% mSpread = 0.0000%\n"
     ]
    },
    {
     "name": "stderr",
     "output_type": "stream",
     "text": [
      "0it [00:00, ?it/s]\n"
     ]
    },
    {
     "name": "stdout",
     "output_type": "stream",
     "text": [
      "Epoch = 23. Time index = 1. Threshold MC = 0.9. Threshold MD = 0.9\n",
      "RD = 0 NZ = 0 NZA = 0 pNZ = 0.000% pNZA = 0.000% AD = 0.00% ADA = 0.00% NO = 1 GSP = 0.00% NSP = 0.00%\n",
      "SI2 = -0.55 SI = -0.55 eGROI = 0.00% eROI = 0.00% eROI2 = 0.00% eROI3 = 0.00% mSpread = 0.0000%\n",
      "\n"
     ]
    },
    {
     "name": "stderr",
     "output_type": "stream",
     "text": [
      "0it [00:00, ?it/s]\n"
     ]
    },
    {
     "name": "stdout",
     "output_type": "stream",
     "text": [
      "Epoch = 23. Time index = 2. Threshold MC = 0.5. Threshold MD = 0.5\n",
      "J_test = 6.327603651129681, J_train = 6.4969879377429125, Accuracy=0.5470766487948027\n",
      "RD = 261500 NZ = 502862 NZA = 957577 pNZ = 43.775% pNZA = 83.359% AD = 52.00% ADA = 27.31% NO = 1 GSP = 0.00% NSP = 0.00%\n",
      "SI2 = -0.55 SI = -0.55 eGROI = 0.00% eROI = 0.00% eROI2 = 0.00% eROI3 = 0.00% mSpread = 0.0000%\n"
     ]
    },
    {
     "name": "stderr",
     "output_type": "stream",
     "text": [
      "100%|████████████████████████████████████████████████████████████████████████████████████████████████████████████████████████████████| 19034/19034 [00:09<00:00, 1924.83it/s]\n"
     ]
    },
    {
     "name": "stdout",
     "output_type": "stream",
     "text": [
      "Epoch = 23. Time index = 2. Threshold MC = 0.5. Threshold MD = 0.6\n",
      "RD = 14035 NZ = 22510 NZA = 45904 pNZ = 1.960% pNZA = 3.996% AD = 62.35% ADA = 30.57% NO = 3590 GSP = 59.89% NSP = 45.01%\n",
      "SI2 = -172.50 SI = -358.50 eGROI = 56.25% eROI = -42.00% eROI2 = -15.55% eROI3 = -51.45% mSpread = 0.0274%\n"
     ]
    },
    {
     "name": "stderr",
     "output_type": "stream",
     "text": [
      "100%|██████████████████████████████████████████████████████████████████████████████████████████████████████████████████████████████████| 2534/2534 [00:00<00:00, 3573.49it/s]\n"
     ]
    },
    {
     "name": "stdout",
     "output_type": "stream",
     "text": [
      "Epoch = 23. Time index = 2. Threshold MC = 0.5. Threshold MD = 0.7\n",
      "RD = 2870 NZ = 3894 NZA = 8404 pNZ = 0.339% pNZA = 0.732% AD = 73.70% ADA = 34.15% NO = 583 GSP = 67.07% NSP = 42.20%\n",
      "SI2 = -3.65 SI = -74.65 eGROI = 11.19% eROI = -9.76% eROI2 = -0.47% eROI3 = -6.30% mSpread = 0.0359%\n"
     ]
    },
    {
     "name": "stderr",
     "output_type": "stream",
     "text": [
      "100%|████████████████████████████████████████████████████████████████████████████████████████████████████████████████████████████████████| 182/182 [00:00<00:00, 2339.55it/s]\n"
     ]
    },
    {
     "name": "stdout",
     "output_type": "stream",
     "text": [
      "Epoch = 23. Time index = 2. Threshold MC = 0.5. Threshold MD = 0.8\n",
      "RD = 552 NZ = 668 NZA = 1419 pNZ = 0.058% pNZA = 0.124% AD = 82.63% ADA = 38.90% NO = 58 GSP = 51.72% NSP = 37.93%\n",
      "SI2 = -3.90 SI = -9.90 eGROI = 0.52% eROI = -1.87% eROI2 = -0.64% eROI3 = -1.22% mSpread = 0.0413%\n"
     ]
    },
    {
     "name": "stderr",
     "output_type": "stream",
     "text": [
      "0it [00:00, ?it/s]\n"
     ]
    },
    {
     "name": "stdout",
     "output_type": "stream",
     "text": [
      "Epoch = 23. Time index = 2. Threshold MC = 0.5. Threshold MD = 0.9\n",
      "RD = 10 NZ = 10 NZA = 19 pNZ = 0.001% pNZA = 0.002% AD = 100.00% ADA = 52.63% NO = 1 GSP = 0.00% NSP = 0.00%\n",
      "SI2 = -0.55 SI = -0.55 eGROI = 0.00% eROI = 0.00% eROI2 = 0.00% eROI3 = 0.00% mSpread = 0.0000%\n",
      "\n"
     ]
    },
    {
     "name": "stderr",
     "output_type": "stream",
     "text": [
      "0it [00:00, ?it/s]\n"
     ]
    },
    {
     "name": "stdout",
     "output_type": "stream",
     "text": [
      "Epoch = 23. Time index = 2. Threshold MC = 0.6. Threshold MD = 0.5\n",
      "RD = 85510 NZ = 161086 NZA = 267027 pNZ = 14.023% pNZA = 23.245% AD = 53.08% ADA = 32.02% NO = 1 GSP = 0.00% NSP = 0.00%\n",
      "SI2 = -0.55 SI = -0.55 eGROI = 0.00% eROI = 0.00% eROI2 = 0.00% eROI3 = 0.00% mSpread = 0.0000%\n"
     ]
    },
    {
     "name": "stderr",
     "output_type": "stream",
     "text": [
      "100%|████████████████████████████████████████████████████████████████████████████████████████████████████████████████████████████████| 13530/13530 [00:04<00:00, 3084.60it/s]\n"
     ]
    },
    {
     "name": "stdout",
     "output_type": "stream",
     "text": [
      "Epoch = 23. Time index = 2. Threshold MC = 0.6. Threshold MD = 0.6\n",
      "RD = 8111 NZ = 12834 NZA = 22565 pNZ = 1.117% pNZA = 1.964% AD = 63.20% ADA = 35.95% NO = 2870 GSP = 60.56% NSP = 46.38%\n",
      "SI2 = -125.50 SI = -247.50 eGROI = 44.91% eROI = -30.66% eROI2 = -12.49% eROI3 = -41.19% mSpread = 0.0263%\n"
     ]
    },
    {
     "name": "stderr",
     "output_type": "stream",
     "text": [
      "100%|██████████████████████████████████████████████████████████████████████████████████████████████████████████████████████████████████| 2130/2130 [00:00<00:00, 3663.26it/s]\n"
     ]
    },
    {
     "name": "stdout",
     "output_type": "stream",
     "text": [
      "Epoch = 23. Time index = 2. Threshold MC = 0.6. Threshold MD = 0.7\n",
      "RD = 1691 NZ = 2304 NZA = 4296 pNZ = 0.201% pNZA = 0.374% AD = 73.39% ADA = 39.36% NO = 510 GSP = 68.04% NSP = 44.51%\n",
      "SI2 = 7.50 SI = -53.50 eGROI = 10.49% eROI = -7.51% eROI2 = 0.29% eROI3 = -4.81% mSpread = 0.0353%\n"
     ]
    },
    {
     "name": "stderr",
     "output_type": "stream",
     "text": [
      "100%|████████████████████████████████████████████████████████████████████████████████████████████████████████████████████████████████████| 180/180 [00:00<00:00, 2284.57it/s]\n"
     ]
    },
    {
     "name": "stdout",
     "output_type": "stream",
     "text": [
      "Epoch = 23. Time index = 2. Threshold MC = 0.6. Threshold MD = 0.8\n",
      "RD = 339 NZ = 409 NZA = 723 pNZ = 0.036% pNZA = 0.063% AD = 82.89% ADA = 46.89% NO = 57 GSP = 50.88% NSP = 36.84%\n",
      "SI2 = -4.35 SI = -10.35 eGROI = 0.49% eROI = -1.86% eROI2 = -0.65% eROI3 = -1.22% mSpread = 0.0412%\n"
     ]
    },
    {
     "name": "stderr",
     "output_type": "stream",
     "text": [
      "0it [00:00, ?it/s]\n"
     ]
    },
    {
     "name": "stdout",
     "output_type": "stream",
     "text": [
      "Epoch = 23. Time index = 2. Threshold MC = 0.6. Threshold MD = 0.9\n",
      "RD = 10 NZ = 10 NZA = 16 pNZ = 0.001% pNZA = 0.001% AD = 100.00% ADA = 62.50% NO = 1 GSP = 0.00% NSP = 0.00%\n",
      "SI2 = -0.55 SI = -0.55 eGROI = 0.00% eROI = 0.00% eROI2 = 0.00% eROI3 = 0.00% mSpread = 0.0000%\n",
      "\n"
     ]
    },
    {
     "name": "stderr",
     "output_type": "stream",
     "text": [
      "100%|████████████████████████████████████████████████████████████████████████████████████████████████████████████████████████████████| 10510/10510 [00:03<00:00, 3333.76it/s]\n"
     ]
    },
    {
     "name": "stdout",
     "output_type": "stream",
     "text": [
      "Epoch = 23. Time index = 2. Threshold MC = 0.7. Threshold MD = 0.5\n",
      "RD = 6289 NZ = 11173 NZA = 15572 pNZ = 0.973% pNZA = 1.356% AD = 56.29% ADA = 40.39% NO = 2058 GSP = 53.64% NSP = 45.72%\n",
      "SI2 = -157.90 SI = -190.90 eGROI = 12.06% eROI = -31.92% eROI2 = -29.10% eROI3 = -49.68% mSpread = 0.0214%\n"
     ]
    },
    {
     "name": "stderr",
     "output_type": "stream",
     "text": [
      "100%|██████████████████████████████████████████████████████████████████████████████████████████████████████████████████████████████████| 3538/3538 [00:01<00:00, 2616.09it/s]\n"
     ]
    },
    {
     "name": "stdout",
     "output_type": "stream",
     "text": [
      "Epoch = 23. Time index = 2. Threshold MC = 0.7. Threshold MD = 0.6\n",
      "RD = 2039 NZ = 3191 NZA = 4589 pNZ = 0.278% pNZA = 0.399% AD = 63.90% ADA = 44.43% NO = 950 GSP = 61.68% NSP = 51.89%\n",
      "SI2 = -14.50 SI = -29.50 eGROI = 15.21% eROI = -6.14% eROI2 = -3.79% eROI3 = -13.29% mSpread = 0.0225%\n"
     ]
    },
    {
     "name": "stderr",
     "output_type": "stream",
     "text": [
      "100%|████████████████████████████████████████████████████████████████████████████████████████████████████████████████████████████████████| 399/399 [00:00<00:00, 2062.18it/s]\n"
     ]
    },
    {
     "name": "stdout",
     "output_type": "stream",
     "text": [
      "Epoch = 23. Time index = 2. Threshold MC = 0.7. Threshold MD = 0.7\n",
      "RD = 460 NZ = 631 NZA = 906 pNZ = 0.055% pNZA = 0.079% AD = 72.90% ADA = 50.77% NO = 162 GSP = 60.49% NSP = 46.30%\n",
      "SI2 = -6.10 SI = -14.10 eGROI = 2.40% eROI = -2.11% eROI2 = -0.84% eROI3 = -2.46% mSpread = 0.0278%\n"
     ]
    },
    {
     "name": "stderr",
     "output_type": "stream",
     "text": [
      "100%|██████████████████████████████████████████████████████████████████████████████████████████████████████████████████████████████████████| 18/18 [00:00<00:00, 1640.71it/s]\n"
     ]
    },
    {
     "name": "stdout",
     "output_type": "stream",
     "text": [
      "Epoch = 23. Time index = 2. Threshold MC = 0.7. Threshold MD = 0.8\n",
      "RD = 151 NZ = 170 NZA = 222 pNZ = 0.015% pNZA = 0.019% AD = 88.82% ADA = 68.02% NO = 14 GSP = 57.14% NSP = 35.71%\n",
      "SI2 = -1.70 SI = -2.70 eGROI = 0.52% eROI = 0.00% eROI2 = 0.24% eROI3 = 0.10% mSpread = 0.0373%\n"
     ]
    },
    {
     "name": "stderr",
     "output_type": "stream",
     "text": [
      "0it [00:00, ?it/s]\n"
     ]
    },
    {
     "name": "stdout",
     "output_type": "stream",
     "text": [
      "Epoch = 23. Time index = 2. Threshold MC = 0.7. Threshold MD = 0.9\n",
      "RD = 10 NZ = 10 NZA = 13 pNZ = 0.001% pNZA = 0.001% AD = 100.00% ADA = 76.92% NO = 1 GSP = 0.00% NSP = 0.00%\n",
      "SI2 = -0.55 SI = -0.55 eGROI = 0.00% eROI = 0.00% eROI2 = 0.00% eROI3 = 0.00% mSpread = 0.0000%\n",
      "\n"
     ]
    },
    {
     "name": "stderr",
     "output_type": "stream",
     "text": [
      "100%|████████████████████████████████████████████████████████████████████████████████████████████████████████████████████████████████████| 780/780 [00:00<00:00, 1907.53it/s]\n"
     ]
    },
    {
     "name": "stdout",
     "output_type": "stream",
     "text": [
      "Epoch = 23. Time index = 2. Threshold MC = 0.8. Threshold MD = 0.5\n",
      "RD = 448 NZ = 754 NZA = 956 pNZ = 0.066% pNZA = 0.083% AD = 59.42% ADA = 46.86% NO = 399 GSP = 57.14% NSP = 50.88%\n",
      "SI2 = -13.45 SI = -16.45 eGROI = 7.75% eROI = -0.74% eROI2 = -0.23% eROI3 = -4.22% mSpread = 0.0213%\n"
     ]
    },
    {
     "name": "stderr",
     "output_type": "stream",
     "text": [
      "100%|████████████████████████████████████████████████████████████████████████████████████████████████████████████████████████████████████| 366/366 [00:00<00:00, 1616.63it/s]\n"
     ]
    },
    {
     "name": "stdout",
     "output_type": "stream",
     "text": [
      "Epoch = 23. Time index = 2. Threshold MC = 0.8. Threshold MD = 0.6\n",
      "RD = 248 NZ = 370 NZA = 472 pNZ = 0.032% pNZA = 0.041% AD = 67.03% ADA = 52.54% NO = 190 GSP = 64.74% NSP = 57.89%\n",
      "SI2 = 9.50 SI = 5.50 eGROI = 5.24% eROI = 1.10% eROI2 = 1.44% eROI3 = -0.46% mSpread = 0.0218%\n"
     ]
    },
    {
     "name": "stderr",
     "output_type": "stream",
     "text": [
      "100%|██████████████████████████████████████████████████████████████████████████████████████████████████████████████████████████████████████| 34/34 [00:00<00:00, 1549.45it/s]\n"
     ]
    },
    {
     "name": "stdout",
     "output_type": "stream",
     "text": [
      "Epoch = 23. Time index = 2. Threshold MC = 0.8. Threshold MD = 0.7\n",
      "RD = 68 NZ = 88 NZA = 113 pNZ = 0.008% pNZA = 0.010% AD = 77.27% ADA = 60.18% NO = 20 GSP = 60.00% NSP = 50.00%\n",
      "SI2 = 0.00 SI = -1.00 eGROI = 1.13% eROI = 0.59% eROI2 = 0.73% eROI3 = 0.53% mSpread = 0.0266%\n"
     ]
    },
    {
     "name": "stderr",
     "output_type": "stream",
     "text": [
      "0it [00:00, ?it/s]\n"
     ]
    },
    {
     "name": "stdout",
     "output_type": "stream",
     "text": [
      "Epoch = 23. Time index = 2. Threshold MC = 0.8. Threshold MD = 0.8\n",
      "RD = 33 NZ = 38 NZA = 45 pNZ = 0.003% pNZA = 0.004% AD = 86.84% ADA = 73.33% NO = 1 GSP = 0.00% NSP = 0.00%\n",
      "SI2 = -0.55 SI = -0.55 eGROI = 0.00% eROI = 0.00% eROI2 = 0.00% eROI3 = 0.00% mSpread = 0.0000%\n"
     ]
    },
    {
     "name": "stderr",
     "output_type": "stream",
     "text": [
      "0it [00:00, ?it/s]\n"
     ]
    },
    {
     "name": "stdout",
     "output_type": "stream",
     "text": [
      "Epoch = 23. Time index = 2. Threshold MC = 0.8. Threshold MD = 0.9\n",
      "RD = 5 NZ = 5 NZA = 7 pNZ = 0.000% pNZA = 0.001% AD = 100.00% ADA = 71.43% NO = 1 GSP = 0.00% NSP = 0.00%\n",
      "SI2 = -0.55 SI = -0.55 eGROI = 0.00% eROI = 0.00% eROI2 = 0.00% eROI3 = 0.00% mSpread = 0.0000%\n",
      "\n"
     ]
    },
    {
     "name": "stderr",
     "output_type": "stream",
     "text": [
      "0it [00:00, ?it/s]\n"
     ]
    },
    {
     "name": "stdout",
     "output_type": "stream",
     "text": [
      "Epoch = 23. Time index = 2. Threshold MC = 0.9. Threshold MD = 0.5\n",
      "RD = 0 NZ = 0 NZA = 0 pNZ = 0.000% pNZA = 0.000% AD = 0.00% ADA = 0.00% NO = 1 GSP = 0.00% NSP = 0.00%\n",
      "SI2 = -0.55 SI = -0.55 eGROI = 0.00% eROI = 0.00% eROI2 = 0.00% eROI3 = 0.00% mSpread = 0.0000%\n"
     ]
    },
    {
     "name": "stderr",
     "output_type": "stream",
     "text": [
      "0it [00:00, ?it/s]\n"
     ]
    },
    {
     "name": "stdout",
     "output_type": "stream",
     "text": [
      "Epoch = 23. Time index = 2. Threshold MC = 0.9. Threshold MD = 0.6\n",
      "RD = 0 NZ = 0 NZA = 0 pNZ = 0.000% pNZA = 0.000% AD = 0.00% ADA = 0.00% NO = 1 GSP = 0.00% NSP = 0.00%\n",
      "SI2 = -0.55 SI = -0.55 eGROI = 0.00% eROI = 0.00% eROI2 = 0.00% eROI3 = 0.00% mSpread = 0.0000%\n"
     ]
    },
    {
     "name": "stderr",
     "output_type": "stream",
     "text": [
      "0it [00:00, ?it/s]\n"
     ]
    },
    {
     "name": "stdout",
     "output_type": "stream",
     "text": [
      "Epoch = 23. Time index = 2. Threshold MC = 0.9. Threshold MD = 0.7\n",
      "RD = 0 NZ = 0 NZA = 0 pNZ = 0.000% pNZA = 0.000% AD = 0.00% ADA = 0.00% NO = 1 GSP = 0.00% NSP = 0.00%\n",
      "SI2 = -0.55 SI = -0.55 eGROI = 0.00% eROI = 0.00% eROI2 = 0.00% eROI3 = 0.00% mSpread = 0.0000%\n"
     ]
    },
    {
     "name": "stderr",
     "output_type": "stream",
     "text": [
      "0it [00:00, ?it/s]\n"
     ]
    },
    {
     "name": "stdout",
     "output_type": "stream",
     "text": [
      "Epoch = 23. Time index = 2. Threshold MC = 0.9. Threshold MD = 0.8\n",
      "RD = 0 NZ = 0 NZA = 0 pNZ = 0.000% pNZA = 0.000% AD = 0.00% ADA = 0.00% NO = 1 GSP = 0.00% NSP = 0.00%\n",
      "SI2 = -0.55 SI = -0.55 eGROI = 0.00% eROI = 0.00% eROI2 = 0.00% eROI3 = 0.00% mSpread = 0.0000%\n"
     ]
    },
    {
     "name": "stderr",
     "output_type": "stream",
     "text": [
      "0it [00:00, ?it/s]\n"
     ]
    },
    {
     "name": "stdout",
     "output_type": "stream",
     "text": [
      "Epoch = 23. Time index = 2. Threshold MC = 0.9. Threshold MD = 0.9\n",
      "RD = 0 NZ = 0 NZA = 0 pNZ = 0.000% pNZA = 0.000% AD = 0.00% ADA = 0.00% NO = 1 GSP = 0.00% NSP = 0.00%\n",
      "SI2 = -0.55 SI = -0.55 eGROI = 0.00% eROI = 0.00% eROI2 = 0.00% eROI3 = 0.00% mSpread = 0.0000%\n",
      "\n"
     ]
    },
    {
     "name": "stderr",
     "output_type": "stream",
     "text": [
      "0it [00:00, ?it/s]\n"
     ]
    },
    {
     "name": "stdout",
     "output_type": "stream",
     "text": [
      "Epoch = 23. Time index = 3. Threshold MC = 0.5. Threshold MD = 0.5\n",
      "J_test = 6.327603651129681, J_train = 6.4969879377429125, Accuracy=0.546378488299718\n",
      "RD = 260932 NZ = 502329 NZA = 957313 pNZ = 43.729% pNZA = 83.336% AD = 51.94% ADA = 27.26% NO = 1 GSP = 0.00% NSP = 0.00%\n",
      "SI2 = -0.55 SI = -0.55 eGROI = 0.00% eROI = 0.00% eROI2 = 0.00% eROI3 = 0.00% mSpread = 0.0000%\n"
     ]
    },
    {
     "name": "stderr",
     "output_type": "stream",
     "text": [
      "100%|████████████████████████████████████████████████████████████████████████████████████████████████████████████████████████████████| 19882/19882 [00:05<00:00, 3721.30it/s]\n"
     ]
    },
    {
     "name": "stdout",
     "output_type": "stream",
     "text": [
      "Epoch = 23. Time index = 3. Threshold MC = 0.5. Threshold MD = 0.6\n",
      "RD = 14441 NZ = 23507 NZA = 47029 pNZ = 2.046% pNZA = 4.094% AD = 61.43% ADA = 30.71% NO = 3749 GSP = 59.22% NSP = 44.07%\n",
      "SI2 = -200.95 SI = -409.95 eGROI = 51.41% eROI = -48.79% eROI2 = -23.57% eROI3 = -61.06% mSpread = 0.0267%\n"
     ]
    },
    {
     "name": "stderr",
     "output_type": "stream",
     "text": [
      "100%|██████████████████████████████████████████████████████████████████████████████████████████████████████████████████████████████████| 2684/2684 [00:00<00:00, 3626.90it/s]\n"
     ]
    },
    {
     "name": "stdout",
     "output_type": "stream",
     "text": [
      "Epoch = 23. Time index = 3. Threshold MC = 0.5. Threshold MD = 0.7\n",
      "RD = 2739 NZ = 3772 NZA = 7865 pNZ = 0.328% pNZA = 0.685% AD = 72.61% ADA = 34.83% NO = 624 GSP = 67.47% NSP = 41.99%\n",
      "SI2 = -5.20 SI = -81.20 eGROI = 10.84% eROI = -11.27% eROI2 = -1.64% eROI3 = -7.88% mSpread = 0.0354%\n"
     ]
    },
    {
     "name": "stderr",
     "output_type": "stream",
     "text": [
      "100%|████████████████████████████████████████████████████████████████████████████████████████████████████████████████████████████████████| 338/338 [00:00<00:00, 2606.97it/s]\n"
     ]
    },
    {
     "name": "stdout",
     "output_type": "stream",
     "text": [
      "Epoch = 23. Time index = 3. Threshold MC = 0.5. Threshold MD = 0.8\n",
      "RD = 574 NZ = 702 NZA = 1475 pNZ = 0.061% pNZA = 0.128% AD = 81.77% ADA = 38.92% NO = 110 GSP = 62.73% NSP = 43.64%\n",
      "SI2 = 1.50 SI = -12.50 eGROI = 1.91% eROI = -2.43% eROI2 = -0.29% eROI3 = -1.39% mSpread = 0.0394%\n"
     ]
    },
    {
     "name": "stderr",
     "output_type": "stream",
     "text": [
      "0it [00:00, ?it/s]\n"
     ]
    },
    {
     "name": "stdout",
     "output_type": "stream",
     "text": [
      "Epoch = 23. Time index = 3. Threshold MC = 0.5. Threshold MD = 0.9\n",
      "RD = 8 NZ = 8 NZA = 12 pNZ = 0.001% pNZA = 0.001% AD = 100.00% ADA = 66.67% NO = 1 GSP = 0.00% NSP = 0.00%\n",
      "SI2 = -0.55 SI = -0.55 eGROI = 0.00% eROI = 0.00% eROI2 = 0.00% eROI3 = 0.00% mSpread = 0.0000%\n",
      "\n"
     ]
    },
    {
     "name": "stderr",
     "output_type": "stream",
     "text": [
      "0it [00:00, ?it/s]\n"
     ]
    },
    {
     "name": "stdout",
     "output_type": "stream",
     "text": [
      "Epoch = 23. Time index = 3. Threshold MC = 0.6. Threshold MD = 0.5\n",
      "RD = 85108 NZ = 160585 NZA = 266871 pNZ = 13.979% pNZA = 23.232% AD = 53.00% ADA = 31.89% NO = 1 GSP = 0.00% NSP = 0.00%\n",
      "SI2 = -0.55 SI = -0.55 eGROI = 0.00% eROI = 0.00% eROI2 = 0.00% eROI3 = 0.00% mSpread = 0.0000%\n"
     ]
    },
    {
     "name": "stderr",
     "output_type": "stream",
     "text": [
      "100%|████████████████████████████████████████████████████████████████████████████████████████████████████████████████████████████████| 14198/14198 [00:05<00:00, 2743.47it/s]\n"
     ]
    },
    {
     "name": "stdout",
     "output_type": "stream",
     "text": [
      "Epoch = 23. Time index = 3. Threshold MC = 0.6. Threshold MD = 0.6\n",
      "RD = 8486 NZ = 13569 NZA = 23824 pNZ = 1.181% pNZA = 2.074% AD = 62.54% ADA = 35.62% NO = 2950 GSP = 59.29% NSP = 45.22%\n",
      "SI2 = -147.50 SI = -288.50 eGROI = 41.36% eROI = -35.54% eROI2 = -17.64% eROI3 = -47.14% mSpread = 0.0261%\n"
     ]
    },
    {
     "name": "stderr",
     "output_type": "stream",
     "text": [
      "100%|██████████████████████████████████████████████████████████████████████████████████████████████████████████████████████████████████| 2227/2227 [00:00<00:00, 3327.78it/s]\n"
     ]
    },
    {
     "name": "stdout",
     "output_type": "stream",
     "text": [
      "Epoch = 23. Time index = 3. Threshold MC = 0.6. Threshold MD = 0.7\n",
      "RD = 1698 NZ = 2370 NZA = 4417 pNZ = 0.206% pNZA = 0.385% AD = 71.65% ADA = 38.44% NO = 538 GSP = 67.29% NSP = 44.24%\n",
      "SI2 = 4.10 SI = -57.90 eGROI = 9.20% eROI = -9.32% eROI2 = -1.56% eROI3 = -6.94% mSpread = 0.0344%\n"
     ]
    },
    {
     "name": "stderr",
     "output_type": "stream",
     "text": [
      "100%|████████████████████████████████████████████████████████████████████████████████████████████████████████████████████████████████████| 335/335 [00:00<00:00, 2469.81it/s]\n"
     ]
    },
    {
     "name": "stdout",
     "output_type": "stream",
     "text": [
      "Epoch = 23. Time index = 3. Threshold MC = 0.6. Threshold MD = 0.8\n",
      "RD = 371 NZ = 463 NZA = 861 pNZ = 0.040% pNZA = 0.075% AD = 80.13% ADA = 43.09% NO = 108 GSP = 62.96% NSP = 42.59%\n",
      "SI2 = 1.60 SI = -13.40 eGROI = 1.99% eROI = -2.30% eROI2 = -0.17% eROI3 = -1.25% mSpread = 0.0397%\n"
     ]
    },
    {
     "name": "stderr",
     "output_type": "stream",
     "text": [
      "0it [00:00, ?it/s]\n"
     ]
    },
    {
     "name": "stdout",
     "output_type": "stream",
     "text": [
      "Epoch = 23. Time index = 3. Threshold MC = 0.6. Threshold MD = 0.9\n",
      "RD = 8 NZ = 8 NZA = 11 pNZ = 0.001% pNZA = 0.001% AD = 100.00% ADA = 72.73% NO = 1 GSP = 0.00% NSP = 0.00%\n",
      "SI2 = -0.55 SI = -0.55 eGROI = 0.00% eROI = 0.00% eROI2 = 0.00% eROI3 = 0.00% mSpread = 0.0000%\n",
      "\n"
     ]
    },
    {
     "name": "stderr",
     "output_type": "stream",
     "text": [
      "100%|████████████████████████████████████████████████████████████████████████████████████████████████████████████████████████████████| 10546/10546 [00:02<00:00, 3859.17it/s]\n"
     ]
    },
    {
     "name": "stdout",
     "output_type": "stream",
     "text": [
      "Epoch = 23. Time index = 3. Threshold MC = 0.7. Threshold MD = 0.5\n",
      "RD = 6218 NZ = 11093 NZA = 15594 pNZ = 0.966% pNZA = 1.357% AD = 56.05% ADA = 39.87% NO = 2029 GSP = 54.66% NSP = 46.48%\n",
      "SI2 = -149.95 SI = -172.95 eGROI = 13.65% eROI = -29.90% eROI2 = -26.93% eROI3 = -47.22% mSpread = 0.0215%\n"
     ]
    },
    {
     "name": "stderr",
     "output_type": "stream",
     "text": [
      "100%|██████████████████████████████████████████████████████████████████████████████████████████████████████████████████████████████████| 3792/3792 [00:01<00:00, 2751.17it/s]\n"
     ]
    },
    {
     "name": "stdout",
     "output_type": "stream",
     "text": [
      "Epoch = 23. Time index = 3. Threshold MC = 0.7. Threshold MD = 0.6\n",
      "RD = 2112 NZ = 3356 NZA = 4845 pNZ = 0.292% pNZA = 0.422% AD = 62.93% ADA = 43.59% NO = 972 GSP = 61.21% NSP = 50.31%\n",
      "SI2 = -24.60 SI = -45.60 eGROI = 15.59% eROI = -6.36% eROI2 = -3.85% eROI3 = -13.57% mSpread = 0.0226%\n"
     ]
    },
    {
     "name": "stderr",
     "output_type": "stream",
     "text": [
      "100%|████████████████████████████████████████████████████████████████████████████████████████████████████████████████████████████████████| 510/510 [00:00<00:00, 2233.02it/s]\n"
     ]
    },
    {
     "name": "stdout",
     "output_type": "stream",
     "text": [
      "Epoch = 23. Time index = 3. Threshold MC = 0.7. Threshold MD = 0.7\n",
      "RD = 491 NZ = 708 NZA = 1014 pNZ = 0.062% pNZA = 0.088% AD = 69.35% ADA = 48.42% NO = 194 GSP = 63.40% NSP = 47.94%\n",
      "SI2 = -6.70 SI = -13.70 eGROI = 1.66% eROI = -3.59% eROI2 = -2.22% eROI3 = -4.16% mSpread = 0.0271%\n"
     ]
    },
    {
     "name": "stderr",
     "output_type": "stream",
     "text": [
      "100%|██████████████████████████████████████████████████████████████████████████████████████████████████████████████████████████████████████| 50/50 [00:00<00:00, 1728.88it/s]\n"
     ]
    },
    {
     "name": "stdout",
     "output_type": "stream",
     "text": [
      "Epoch = 23. Time index = 3. Threshold MC = 0.7. Threshold MD = 0.8\n",
      "RD = 138 NZ = 162 NZA = 222 pNZ = 0.014% pNZA = 0.019% AD = 85.19% ADA = 62.16% NO = 26 GSP = 69.23% NSP = 50.00%\n",
      "SI2 = 1.70 SI = -1.30 eGROI = 0.16% eROI = -0.92% eROI2 = -0.36% eROI3 = -0.62% mSpread = 0.0418%\n"
     ]
    },
    {
     "name": "stderr",
     "output_type": "stream",
     "text": [
      "0it [00:00, ?it/s]\n"
     ]
    },
    {
     "name": "stdout",
     "output_type": "stream",
     "text": [
      "Epoch = 23. Time index = 3. Threshold MC = 0.7. Threshold MD = 0.9\n",
      "RD = 7 NZ = 7 NZA = 9 pNZ = 0.001% pNZA = 0.001% AD = 100.00% ADA = 77.78% NO = 1 GSP = 0.00% NSP = 0.00%\n",
      "SI2 = -0.55 SI = -0.55 eGROI = 0.00% eROI = 0.00% eROI2 = 0.00% eROI3 = 0.00% mSpread = 0.0000%\n",
      "\n"
     ]
    },
    {
     "name": "stderr",
     "output_type": "stream",
     "text": [
      "100%|████████████████████████████████████████████████████████████████████████████████████████████████████████████████████████████████████| 727/727 [00:00<00:00, 1986.20it/s]\n"
     ]
    },
    {
     "name": "stdout",
     "output_type": "stream",
     "text": [
      "Epoch = 23. Time index = 3. Threshold MC = 0.8. Threshold MD = 0.5\n",
      "RD = 412 NZ = 697 NZA = 883 pNZ = 0.061% pNZA = 0.077% AD = 59.11% ADA = 46.66% NO = 380 GSP = 55.53% NSP = 49.21%\n",
      "SI2 = -20.00 SI = -22.00 eGROI = 6.53% eROI = -1.66% eROI2 = -1.07% eROI3 = -4.87% mSpread = 0.0215%\n"
     ]
    },
    {
     "name": "stderr",
     "output_type": "stream",
     "text": [
      "100%|████████████████████████████████████████████████████████████████████████████████████████████████████████████████████████████████████| 347/347 [00:00<00:00, 1870.62it/s]\n"
     ]
    },
    {
     "name": "stdout",
     "output_type": "stream",
     "text": [
      "Epoch = 23. Time index = 3. Threshold MC = 0.8. Threshold MD = 0.6\n",
      "RD = 217 NZ = 338 NZA = 428 pNZ = 0.029% pNZA = 0.037% AD = 64.20% ADA = 50.70% NO = 190 GSP = 60.53% NSP = 55.79%\n",
      "SI2 = 2.50 SI = 1.50 eGROI = 4.07% eROI = -0.40% eROI2 = 0.27% eROI3 = -1.63% mSpread = 0.0235%\n"
     ]
    },
    {
     "name": "stderr",
     "output_type": "stream",
     "text": [
      "100%|██████████████████████████████████████████████████████████████████████████████████████████████████████████████████████████████████████| 44/44 [00:00<00:00, 1838.27it/s]\n"
     ]
    },
    {
     "name": "stdout",
     "output_type": "stream",
     "text": [
      "Epoch = 23. Time index = 3. Threshold MC = 0.8. Threshold MD = 0.7\n",
      "RD = 59 NZ = 78 NZA = 105 pNZ = 0.007% pNZA = 0.009% AD = 75.64% ADA = 56.19% NO = 27 GSP = 59.26% NSP = 44.44%\n",
      "SI2 = -1.85 SI = -2.85 eGROI = 0.11% eROI = -0.72% eROI2 = -0.43% eROI3 = -0.70% mSpread = 0.0310%\n"
     ]
    },
    {
     "name": "stderr",
     "output_type": "stream",
     "text": [
      "0it [00:00, ?it/s]\n"
     ]
    },
    {
     "name": "stdout",
     "output_type": "stream",
     "text": [
      "Epoch = 23. Time index = 3. Threshold MC = 0.8. Threshold MD = 0.8\n",
      "RD = 29 NZ = 32 NZA = 39 pNZ = 0.003% pNZA = 0.003% AD = 90.62% ADA = 74.36% NO = 1 GSP = 0.00% NSP = 0.00%\n",
      "SI2 = -0.55 SI = -0.55 eGROI = 0.00% eROI = 0.00% eROI2 = 0.00% eROI3 = 0.00% mSpread = 0.0000%\n"
     ]
    },
    {
     "name": "stderr",
     "output_type": "stream",
     "text": [
      "0it [00:00, ?it/s]\n"
     ]
    },
    {
     "name": "stdout",
     "output_type": "stream",
     "text": [
      "Epoch = 23. Time index = 3. Threshold MC = 0.8. Threshold MD = 0.9\n",
      "RD = 3 NZ = 3 NZA = 3 pNZ = 0.000% pNZA = 0.000% AD = 100.00% ADA = 100.00% NO = 1 GSP = 0.00% NSP = 0.00%\n",
      "SI2 = -0.55 SI = -0.55 eGROI = 0.00% eROI = 0.00% eROI2 = 0.00% eROI3 = 0.00% mSpread = 0.0000%\n",
      "\n"
     ]
    },
    {
     "name": "stderr",
     "output_type": "stream",
     "text": [
      "0it [00:00, ?it/s]\n"
     ]
    },
    {
     "name": "stdout",
     "output_type": "stream",
     "text": [
      "Epoch = 23. Time index = 3. Threshold MC = 0.9. Threshold MD = 0.5\n",
      "RD = 0 NZ = 0 NZA = 0 pNZ = 0.000% pNZA = 0.000% AD = 0.00% ADA = 0.00% NO = 1 GSP = 0.00% NSP = 0.00%\n",
      "SI2 = -0.55 SI = -0.55 eGROI = 0.00% eROI = 0.00% eROI2 = 0.00% eROI3 = 0.00% mSpread = 0.0000%\n"
     ]
    },
    {
     "name": "stderr",
     "output_type": "stream",
     "text": [
      "0it [00:00, ?it/s]\n"
     ]
    },
    {
     "name": "stdout",
     "output_type": "stream",
     "text": [
      "Epoch = 23. Time index = 3. Threshold MC = 0.9. Threshold MD = 0.6\n",
      "RD = 0 NZ = 0 NZA = 0 pNZ = 0.000% pNZA = 0.000% AD = 0.00% ADA = 0.00% NO = 1 GSP = 0.00% NSP = 0.00%\n",
      "SI2 = -0.55 SI = -0.55 eGROI = 0.00% eROI = 0.00% eROI2 = 0.00% eROI3 = 0.00% mSpread = 0.0000%\n"
     ]
    },
    {
     "name": "stderr",
     "output_type": "stream",
     "text": [
      "0it [00:00, ?it/s]\n"
     ]
    },
    {
     "name": "stdout",
     "output_type": "stream",
     "text": [
      "Epoch = 23. Time index = 3. Threshold MC = 0.9. Threshold MD = 0.7\n",
      "RD = 0 NZ = 0 NZA = 0 pNZ = 0.000% pNZA = 0.000% AD = 0.00% ADA = 0.00% NO = 1 GSP = 0.00% NSP = 0.00%\n",
      "SI2 = -0.55 SI = -0.55 eGROI = 0.00% eROI = 0.00% eROI2 = 0.00% eROI3 = 0.00% mSpread = 0.0000%\n"
     ]
    },
    {
     "name": "stderr",
     "output_type": "stream",
     "text": [
      "0it [00:00, ?it/s]\n"
     ]
    },
    {
     "name": "stdout",
     "output_type": "stream",
     "text": [
      "Epoch = 23. Time index = 3. Threshold MC = 0.9. Threshold MD = 0.8\n",
      "RD = 0 NZ = 0 NZA = 0 pNZ = 0.000% pNZA = 0.000% AD = 0.00% ADA = 0.00% NO = 1 GSP = 0.00% NSP = 0.00%\n",
      "SI2 = -0.55 SI = -0.55 eGROI = 0.00% eROI = 0.00% eROI2 = 0.00% eROI3 = 0.00% mSpread = 0.0000%\n"
     ]
    },
    {
     "name": "stderr",
     "output_type": "stream",
     "text": [
      "0it [00:00, ?it/s]\n"
     ]
    },
    {
     "name": "stdout",
     "output_type": "stream",
     "text": [
      "Epoch = 23. Time index = 3. Threshold MC = 0.9. Threshold MD = 0.9\n",
      "RD = 0 NZ = 0 NZA = 0 pNZ = 0.000% pNZA = 0.000% AD = 0.00% ADA = 0.00% NO = 1 GSP = 0.00% NSP = 0.00%\n",
      "SI2 = -0.55 SI = -0.55 eGROI = 0.00% eROI = 0.00% eROI2 = 0.00% eROI3 = 0.00% mSpread = 0.0000%\n",
      "\n",
      "Best eGROI = 56.25 t_index 2 thr_mc 0.5 thr_md 0.6 epoch 23 in 3590\n",
      "Best eROI = 1.72 t_index 1 thr_mc 0.8 thr_md 0.6 epoch 23 in 164\n",
      "Best eROI.5 = 38.30 t_index 2 thr_mc 0.5 thr_md 0.6 epoch 23 in 3590\n",
      "Best eROI1 = 20.35 t_index 2 thr_mc 0.5 thr_md 0.6 epoch 23 in 3590\n",
      "Best eROI1.5 = 2.97 t_index 0 thr_mc 0.6 thr_md 0.6 epoch 23 in 1676\n",
      "Best eROI2 = 1.58 t_index 1 thr_mc 0.8 thr_md 0.6 epoch 23 in 164\n",
      "Best eROI3 = 0.53 t_index 2 thr_mc 0.8 thr_md 0.7 epoch 23 in 20\n",
      "Best eROI4 = 0.33 t_index 2 thr_mc 0.8 thr_md 0.7 epoch 23 in 20\n",
      "Best eROI5 = 0.13 t_index 2 thr_mc 0.8 thr_md 0.7 epoch 23 in 20\n",
      "Best SI = 5.50 t_index 2 thr_mc 0.8 thr_md 0.6 epoch 23 in 190\n",
      "Best SI.5 = 135.15 t_index 0 thr_mc 0.5 thr_md 0.6 epoch 23 in 2567\n",
      "Best SI1 = 70.20 t_index 0 thr_mc 0.6 thr_md 0.6 epoch 23 in 1676\n",
      "Best SI1.5 = 30.20 t_index 0 thr_mc 0.6 thr_md 0.6 epoch 23 in 1676\n",
      "Best SI2 = 10.10 t_index 0 thr_mc 0.7 thr_md 0.6 epoch 23 in 698\n",
      "Best SI3 = 5.50 t_index 2 thr_mc 0.8 thr_md 0.6 epoch 23 in 190\n",
      "Best SI4 = 0.25 t_index 1 thr_mc 0.5 thr_md 0.8 epoch 23 in 5\n",
      "Best SI5 = -0.55 t_index 0 thr_mc 0.5 thr_md 0.5 epoch 23 in 1\n",
      "\n",
      "The very best:\n",
      "Best eGROI = 56.25 t_index 2 thr_mc 0.5 thr_md 0.6 epoch 23 in 3590\n",
      "Best eROI = 3.37 t_index 3 thr_mc 0.8 thr_md 0.5 epoch 8 in 141\n",
      "Best eROI.5 = 38.30 t_index 2 thr_mc 0.5 thr_md 0.6 epoch 23 in 3590\n",
      "Best eROI1 = 20.53 t_index 2 thr_mc 0.5 thr_md 0.6 epoch 22 in 3421\n",
      "Best eROI1.5 = 5.80 t_index 3 thr_mc 0.6 thr_md 0.6 epoch 11 in 1839\n",
      "Best eROI2 = 3.16 t_index 3 thr_mc 0.8 thr_md 0.5 epoch 8 in 141\n",
      "Best eROI3 = 1.75 t_index 3 thr_mc 0.8 thr_md 0.5 epoch 8 in 141\n",
      "Best eROI4 = 0.50 t_index 3 thr_mc 0.8 thr_md 0.6 epoch 10 in 14\n",
      "Best eROI5 = 0.37 t_index 2 thr_mc 0.8 thr_md 0.7 epoch 21 in 7\n",
      "Best SI = 5.85 t_index 0 thr_mc 0.8 thr_md 0.6 epoch 22 in 113\n",
      "Best SI.5 = 135.50 t_index 1 thr_mc 0.5 thr_md 0.6 epoch 20 in 2830\n",
      "Best SI1 = 73.85 t_index 0 thr_mc 0.5 thr_md 0.6 epoch 14 in 1933\n",
      "Best SI1.5 = 30.75 t_index 0 thr_mc 0.6 thr_md 0.6 epoch 22 in 1655\n",
      "Best SI2 = 10.10 t_index 0 thr_mc 0.7 thr_md 0.6 epoch 23 in 698\n",
      "Best SI3 = 5.50 t_index 2 thr_mc 0.8 thr_md 0.6 epoch 23 in 190\n",
      "Best SI4 = 1.95 t_index 3 thr_mc 0.8 thr_md 0.6 epoch 13 in 51\n",
      "Best SI5 = 1.05 t_index 0 thr_mc 0.5 thr_md 0.7 epoch 13 in 9\n",
      "Time=180.81 secs\n",
      "INFO:tensorflow:Restoring parameters from ../../RNN/weights/000520/000024/000024\n",
      "Parameters loaded. Epoch 24\n",
      "Epoch 24 of 34. Getting output...\n"
     ]
    },
    {
     "name": "stderr",
     "output_type": "stream",
     "text": [
      " 70%|██████████████████████████████████████████████████████████████████████████████████████████████▌                                         | 16/23 [01:19<00:35,  5.10s/it]"
     ]
    },
    {
     "ename": "KeyboardInterrupt",
     "evalue": "",
     "output_type": "error",
     "traceback": [
      "\u001b[1;31m---------------------------------------------------------------------------\u001b[0m",
      "\u001b[1;31mKeyboardInterrupt\u001b[0m                         Traceback (most recent call last)",
      "\u001b[1;32m<ipython-input-2-252d3bc72e9c>\u001b[0m in \u001b[0;36m<module>\u001b[1;34m()\u001b[0m\n\u001b[0;32m     16\u001b[0m \u001b[1;31m#config['cost_name'] = '000318TI02'\u001b[0m\u001b[1;33m\u001b[0m\u001b[1;33m\u001b[0m\u001b[0m\n\u001b[0;32m     17\u001b[0m \u001b[1;33m\u001b[0m\u001b[0m\n\u001b[1;32m---> 18\u001b[1;33m \u001b[0mtest_RNN\u001b[0m\u001b[1;33m(\u001b[0m\u001b[0mconfig\u001b[0m\u001b[1;33m)\u001b[0m\u001b[1;33m\u001b[0m\u001b[0m\n\u001b[0m",
      "\u001b[1;32m~\\root\\Projects\\SDC\\py\\kaissandra\\kaissandra\\testRNN.py\u001b[0m in \u001b[0;36mtest_RNN\u001b[1;34m(*ins)\u001b[0m\n\u001b[0;32m    360\u001b[0m         \u001b[1;31m# run test RNN\u001b[0m\u001b[1;33m\u001b[0m\u001b[1;33m\u001b[0m\u001b[0m\n\u001b[0;32m    361\u001b[0m         \u001b[0mprint\u001b[0m\u001b[1;33m(\u001b[0m\u001b[1;34m\"IDresults: \"\u001b[0m\u001b[1;33m+\u001b[0m\u001b[0mIDresults\u001b[0m\u001b[1;33m)\u001b[0m\u001b[1;33m\u001b[0m\u001b[0m\n\u001b[1;32m--> 362\u001b[1;33m         \u001b[0mmodel\u001b[0m\u001b[1;33m.\u001b[0m\u001b[0mtest2\u001b[0m\u001b[1;33m(\u001b[0m\u001b[0msess\u001b[0m\u001b[1;33m,\u001b[0m \u001b[0mconfig\u001b[0m\u001b[1;33m,\u001b[0m \u001b[0malloc\u001b[0m\u001b[1;33m,\u001b[0m \u001b[0mfilename_IO\u001b[0m\u001b[1;33m,\u001b[0m \u001b[0mDTA\u001b[0m\u001b[1;33m=\u001b[0m\u001b[0mDTA\u001b[0m\u001b[1;33m)\u001b[0m\u001b[1;33m\u001b[0m\u001b[0m\n\u001b[0m\u001b[0;32m    363\u001b[0m         \u001b[1;31m# TEMP: GRE calculation not implemented in test2 yet. Use old test\u001b[0m\u001b[1;33m\u001b[0m\u001b[1;33m\u001b[0m\u001b[0m\n\u001b[0;32m    364\u001b[0m \u001b[1;31m#        if save_journal:\u001b[0m\u001b[1;33m\u001b[0m\u001b[1;33m\u001b[0m\u001b[0m\n",
      "\u001b[1;32m~\\root\\Projects\\SDC\\py\\kaissandra\\kaissandra\\RNN.py\u001b[0m in \u001b[0;36mtest2\u001b[1;34m(self, sess, config, alloc, filename_IO, startFrom, data_format, DTA, from_var)\u001b[0m\n\u001b[0;32m    423\u001b[0m                     \u001b[0mself\u001b[0m\u001b[1;33m.\u001b[0m\u001b[0m_dropout\u001b[0m\u001b[1;33m:\u001b[0m \u001b[1;36m1.0\u001b[0m\u001b[1;33m\u001b[0m\u001b[0m\n\u001b[0;32m    424\u001b[0m                 }\n\u001b[1;32m--> 425\u001b[1;33m                 \u001b[0mJ_test\u001b[0m\u001b[1;33m,\u001b[0m \u001b[0msmo\u001b[0m \u001b[1;33m=\u001b[0m \u001b[0mself\u001b[0m\u001b[1;33m.\u001b[0m\u001b[0m_sess\u001b[0m\u001b[1;33m.\u001b[0m\u001b[0mrun\u001b[0m\u001b[1;33m(\u001b[0m\u001b[1;33m[\u001b[0m\u001b[0mself\u001b[0m\u001b[1;33m.\u001b[0m\u001b[0m_error\u001b[0m\u001b[1;33m,\u001b[0m\u001b[0mself\u001b[0m\u001b[1;33m.\u001b[0m\u001b[0m_pred\u001b[0m\u001b[1;33m]\u001b[0m\u001b[1;33m,\u001b[0m \u001b[0mtest_data_feed\u001b[0m\u001b[1;33m)\u001b[0m\u001b[1;33m\u001b[0m\u001b[0m\n\u001b[0m\u001b[0;32m    426\u001b[0m                 \u001b[0mt_J_test\u001b[0m \u001b[1;33m+=\u001b[0m \u001b[0mJ_test\u001b[0m\u001b[1;33m\u001b[0m\u001b[0m\n\u001b[0;32m    427\u001b[0m                 \u001b[0msoftMaxOut\u001b[0m \u001b[1;33m=\u001b[0m \u001b[0mnp\u001b[0m\u001b[1;33m.\u001b[0m\u001b[0mappend\u001b[0m\u001b[1;33m(\u001b[0m\u001b[0msoftMaxOut\u001b[0m\u001b[1;33m,\u001b[0m\u001b[0msmo\u001b[0m\u001b[1;33m,\u001b[0m\u001b[0maxis\u001b[0m\u001b[1;33m=\u001b[0m\u001b[1;36m0\u001b[0m\u001b[1;33m)\u001b[0m\u001b[1;33m\u001b[0m\u001b[0m\n",
      "\u001b[1;32mC:\\ProgramData\\Anaconda3\\envs\\py35\\lib\\site-packages\\tensorflow\\python\\client\\session.py\u001b[0m in \u001b[0;36mrun\u001b[1;34m(self, fetches, feed_dict, options, run_metadata)\u001b[0m\n\u001b[0;32m    927\u001b[0m     \u001b[1;32mtry\u001b[0m\u001b[1;33m:\u001b[0m\u001b[1;33m\u001b[0m\u001b[0m\n\u001b[0;32m    928\u001b[0m       result = self._run(None, fetches, feed_dict, options_ptr,\n\u001b[1;32m--> 929\u001b[1;33m                          run_metadata_ptr)\n\u001b[0m\u001b[0;32m    930\u001b[0m       \u001b[1;32mif\u001b[0m \u001b[0mrun_metadata\u001b[0m\u001b[1;33m:\u001b[0m\u001b[1;33m\u001b[0m\u001b[0m\n\u001b[0;32m    931\u001b[0m         \u001b[0mproto_data\u001b[0m \u001b[1;33m=\u001b[0m \u001b[0mtf_session\u001b[0m\u001b[1;33m.\u001b[0m\u001b[0mTF_GetBuffer\u001b[0m\u001b[1;33m(\u001b[0m\u001b[0mrun_metadata_ptr\u001b[0m\u001b[1;33m)\u001b[0m\u001b[1;33m\u001b[0m\u001b[0m\n",
      "\u001b[1;32mC:\\ProgramData\\Anaconda3\\envs\\py35\\lib\\site-packages\\tensorflow\\python\\client\\session.py\u001b[0m in \u001b[0;36m_run\u001b[1;34m(self, handle, fetches, feed_dict, options, run_metadata)\u001b[0m\n\u001b[0;32m   1150\u001b[0m     \u001b[1;32mif\u001b[0m \u001b[0mfinal_fetches\u001b[0m \u001b[1;32mor\u001b[0m \u001b[0mfinal_targets\u001b[0m \u001b[1;32mor\u001b[0m \u001b[1;33m(\u001b[0m\u001b[0mhandle\u001b[0m \u001b[1;32mand\u001b[0m \u001b[0mfeed_dict_tensor\u001b[0m\u001b[1;33m)\u001b[0m\u001b[1;33m:\u001b[0m\u001b[1;33m\u001b[0m\u001b[0m\n\u001b[0;32m   1151\u001b[0m       results = self._do_run(handle, final_targets, final_fetches,\n\u001b[1;32m-> 1152\u001b[1;33m                              feed_dict_tensor, options, run_metadata)\n\u001b[0m\u001b[0;32m   1153\u001b[0m     \u001b[1;32melse\u001b[0m\u001b[1;33m:\u001b[0m\u001b[1;33m\u001b[0m\u001b[0m\n\u001b[0;32m   1154\u001b[0m       \u001b[0mresults\u001b[0m \u001b[1;33m=\u001b[0m \u001b[1;33m[\u001b[0m\u001b[1;33m]\u001b[0m\u001b[1;33m\u001b[0m\u001b[0m\n",
      "\u001b[1;32mC:\\ProgramData\\Anaconda3\\envs\\py35\\lib\\site-packages\\tensorflow\\python\\client\\session.py\u001b[0m in \u001b[0;36m_do_run\u001b[1;34m(self, handle, target_list, fetch_list, feed_dict, options, run_metadata)\u001b[0m\n\u001b[0;32m   1326\u001b[0m     \u001b[1;32mif\u001b[0m \u001b[0mhandle\u001b[0m \u001b[1;32mis\u001b[0m \u001b[1;32mNone\u001b[0m\u001b[1;33m:\u001b[0m\u001b[1;33m\u001b[0m\u001b[0m\n\u001b[0;32m   1327\u001b[0m       return self._do_call(_run_fn, feeds, fetches, targets, options,\n\u001b[1;32m-> 1328\u001b[1;33m                            run_metadata)\n\u001b[0m\u001b[0;32m   1329\u001b[0m     \u001b[1;32melse\u001b[0m\u001b[1;33m:\u001b[0m\u001b[1;33m\u001b[0m\u001b[0m\n\u001b[0;32m   1330\u001b[0m       \u001b[1;32mreturn\u001b[0m \u001b[0mself\u001b[0m\u001b[1;33m.\u001b[0m\u001b[0m_do_call\u001b[0m\u001b[1;33m(\u001b[0m\u001b[0m_prun_fn\u001b[0m\u001b[1;33m,\u001b[0m \u001b[0mhandle\u001b[0m\u001b[1;33m,\u001b[0m \u001b[0mfeeds\u001b[0m\u001b[1;33m,\u001b[0m \u001b[0mfetches\u001b[0m\u001b[1;33m)\u001b[0m\u001b[1;33m\u001b[0m\u001b[0m\n",
      "\u001b[1;32mC:\\ProgramData\\Anaconda3\\envs\\py35\\lib\\site-packages\\tensorflow\\python\\client\\session.py\u001b[0m in \u001b[0;36m_do_call\u001b[1;34m(self, fn, *args)\u001b[0m\n\u001b[0;32m   1332\u001b[0m   \u001b[1;32mdef\u001b[0m \u001b[0m_do_call\u001b[0m\u001b[1;33m(\u001b[0m\u001b[0mself\u001b[0m\u001b[1;33m,\u001b[0m \u001b[0mfn\u001b[0m\u001b[1;33m,\u001b[0m \u001b[1;33m*\u001b[0m\u001b[0margs\u001b[0m\u001b[1;33m)\u001b[0m\u001b[1;33m:\u001b[0m\u001b[1;33m\u001b[0m\u001b[0m\n\u001b[0;32m   1333\u001b[0m     \u001b[1;32mtry\u001b[0m\u001b[1;33m:\u001b[0m\u001b[1;33m\u001b[0m\u001b[0m\n\u001b[1;32m-> 1334\u001b[1;33m       \u001b[1;32mreturn\u001b[0m \u001b[0mfn\u001b[0m\u001b[1;33m(\u001b[0m\u001b[1;33m*\u001b[0m\u001b[0margs\u001b[0m\u001b[1;33m)\u001b[0m\u001b[1;33m\u001b[0m\u001b[0m\n\u001b[0m\u001b[0;32m   1335\u001b[0m     \u001b[1;32mexcept\u001b[0m \u001b[0merrors\u001b[0m\u001b[1;33m.\u001b[0m\u001b[0mOpError\u001b[0m \u001b[1;32mas\u001b[0m \u001b[0me\u001b[0m\u001b[1;33m:\u001b[0m\u001b[1;33m\u001b[0m\u001b[0m\n\u001b[0;32m   1336\u001b[0m       \u001b[0mmessage\u001b[0m \u001b[1;33m=\u001b[0m \u001b[0mcompat\u001b[0m\u001b[1;33m.\u001b[0m\u001b[0mas_text\u001b[0m\u001b[1;33m(\u001b[0m\u001b[0me\u001b[0m\u001b[1;33m.\u001b[0m\u001b[0mmessage\u001b[0m\u001b[1;33m)\u001b[0m\u001b[1;33m\u001b[0m\u001b[0m\n",
      "\u001b[1;32mC:\\ProgramData\\Anaconda3\\envs\\py35\\lib\\site-packages\\tensorflow\\python\\client\\session.py\u001b[0m in \u001b[0;36m_run_fn\u001b[1;34m(feed_dict, fetch_list, target_list, options, run_metadata)\u001b[0m\n\u001b[0;32m   1317\u001b[0m       \u001b[0mself\u001b[0m\u001b[1;33m.\u001b[0m\u001b[0m_extend_graph\u001b[0m\u001b[1;33m(\u001b[0m\u001b[1;33m)\u001b[0m\u001b[1;33m\u001b[0m\u001b[0m\n\u001b[0;32m   1318\u001b[0m       return self._call_tf_sessionrun(\n\u001b[1;32m-> 1319\u001b[1;33m           options, feed_dict, fetch_list, target_list, run_metadata)\n\u001b[0m\u001b[0;32m   1320\u001b[0m \u001b[1;33m\u001b[0m\u001b[0m\n\u001b[0;32m   1321\u001b[0m     \u001b[1;32mdef\u001b[0m \u001b[0m_prun_fn\u001b[0m\u001b[1;33m(\u001b[0m\u001b[0mhandle\u001b[0m\u001b[1;33m,\u001b[0m \u001b[0mfeed_dict\u001b[0m\u001b[1;33m,\u001b[0m \u001b[0mfetch_list\u001b[0m\u001b[1;33m)\u001b[0m\u001b[1;33m:\u001b[0m\u001b[1;33m\u001b[0m\u001b[0m\n",
      "\u001b[1;32mC:\\ProgramData\\Anaconda3\\envs\\py35\\lib\\site-packages\\tensorflow\\python\\client\\session.py\u001b[0m in \u001b[0;36m_call_tf_sessionrun\u001b[1;34m(self, options, feed_dict, fetch_list, target_list, run_metadata)\u001b[0m\n\u001b[0;32m   1405\u001b[0m     return tf_session.TF_SessionRun_wrapper(\n\u001b[0;32m   1406\u001b[0m         \u001b[0mself\u001b[0m\u001b[1;33m.\u001b[0m\u001b[0m_session\u001b[0m\u001b[1;33m,\u001b[0m \u001b[0moptions\u001b[0m\u001b[1;33m,\u001b[0m \u001b[0mfeed_dict\u001b[0m\u001b[1;33m,\u001b[0m \u001b[0mfetch_list\u001b[0m\u001b[1;33m,\u001b[0m \u001b[0mtarget_list\u001b[0m\u001b[1;33m,\u001b[0m\u001b[1;33m\u001b[0m\u001b[0m\n\u001b[1;32m-> 1407\u001b[1;33m         run_metadata)\n\u001b[0m\u001b[0;32m   1408\u001b[0m \u001b[1;33m\u001b[0m\u001b[0m\n\u001b[0;32m   1409\u001b[0m   \u001b[1;32mdef\u001b[0m \u001b[0m_call_tf_sessionprun\u001b[0m\u001b[1;33m(\u001b[0m\u001b[0mself\u001b[0m\u001b[1;33m,\u001b[0m \u001b[0mhandle\u001b[0m\u001b[1;33m,\u001b[0m \u001b[0mfeed_dict\u001b[0m\u001b[1;33m,\u001b[0m \u001b[0mfetch_list\u001b[0m\u001b[1;33m)\u001b[0m\u001b[1;33m:\u001b[0m\u001b[1;33m\u001b[0m\u001b[0m\n",
      "\u001b[1;31mKeyboardInterrupt\u001b[0m: "
     ]
    }
   ],
   "source": [
    "# edit config without saving for test purposes\n",
    "from kaissandra.testRNN import test_RNN\n",
    "from kaissandra.config import *\n",
    "config=retrieve_config('C0520BS')\n",
    "#config['config_name'] = 'C0520BSNFR'\n",
    "#config['IDweights'] = '000520'\n",
    "config['IDresults'] = '100520BSNFR'\n",
    "config['save_journal'] = False\n",
    "config['startFrom'] = 8\n",
    "config['endAt']= -1\n",
    "resolution = 10\n",
    "config['resolution'] = resolution\n",
    "config['thresholds_mc'] = [.5+i/resolution for i in range(int(resolution/2))]\n",
    "config['thresholds_md'] = [.5+i/resolution for i in range(int(resolution/2))]\n",
    "\n",
    "#config['cost_name'] = '000318TI02'\n",
    "\n",
    "test_RNN(config)"
   ]
  },
  {
   "cell_type": "code",
   "execution_count": null,
   "metadata": {},
   "outputs": [],
   "source": [
    "import pandas as pd\n",
    "\n",
    "\n",
    "results_dir  = '../../RNN/results/'\n",
    "ext = '.csv'\n",
    "list_results_names = ['100350NROI']\n",
    "list_epochs = [13]\n",
    "list_tis = [2]\n",
    "list_mcs = [.6]\n",
    "list_mds = [.6]\n",
    "Journal = pd.DataFrame()\n",
    "for l,name in enumerate(list_results_names):\n",
    "    journal_filename = results_dir+name+'/journal/J_E'+str(list_epochs[l])+'TI'+str(list_tis[l])+'MC'+str(list_mcs[l])+'MD'+str(list_mds[l])+ext\n",
    "    new_journal = pd.read_csv(journal_filename,sep='\\t')\n",
    "    #if list_results_names[l]=='100350NROI':\n",
    "    #    new_journal = new_journal[new_journal['Bet']<0]\n",
    "    Journal = Journal.append(new_journal).sort_values(by=['Asset','DTi']).reset_index().drop(labels='level_0',axis=1)\n",
    "    print(journal_filename)"
   ]
  },
  {
   "cell_type": "code",
   "execution_count": null,
   "metadata": {},
   "outputs": [],
   "source": [
    "from kaissandra.results2 import get_extended_results\n",
    "\n",
    "# filter journal\n",
    "#pip_limit = 0.02\n",
    "#pos_under_2p = positions['espread']<pip_limit\n",
    "print(\"shape\")\n",
    "print(Journal.shape[0])\n",
    "print(journal_filename)\n",
    "n_days = 33*5+1\n",
    "pos_dirname = '../../RNN/results/MERGED/positions/'\n",
    "pos_filename = '_'.join([entry for entry in list_results_names])\n",
    "positions_summary, log = get_extended_results(Journal,\n",
    "                                    5,\n",
    "                                    n_days,\n",
    "                                   get_positions=True,pos_dirname=pos_dirname,\n",
    "                                   pos_filename=pos_filename+'.csv')\n",
    "positions_summary\n"
   ]
  },
  {
   "cell_type": "code",
   "execution_count": null,
   "metadata": {},
   "outputs": [],
   "source": [
    "positions = pd.read_csv(pos_dirname+pos_filename+'.csv',sep='\\t')\n",
    "#print(positions)\n",
    "pip_limit = 0.025\n",
    "pos_under_2p = positions['espread']<pip_limit\n",
    "#positions['DTo'] = positions[\"Do\"] + positions[\"To\"]\n",
    "pos_under_thr = positions[pos_under_2p]#.sort_values(by=['DTo'])\n",
    "per_under_2p = 100*sum(pos_under_2p)/positions.shape[0]\n",
    "tgsr = 100*sum(positions['GROI']>0)/positions.shape[0]\n",
    "gsr = 100*sum(pos_under_thr['GROI']>0)/sum(pos_under_2p)\n",
    "tsr = 100*sum(positions['ROI']>0)/positions.shape[0]\n",
    "sr = 100*sum(positions[pos_under_2p]['ROI']>0)/sum(pos_under_2p)\n",
    "mean_spread = positions[pos_under_2p]['spread'].mean()\n",
    "print(\"total mean GROI\")\n",
    "print(positions['GROI'].mean())\n",
    "print(\"mean GROI of selected\")\n",
    "print(positions[pos_under_2p]['GROI'].mean())\n",
    "print(\"mean_spread of selected\")\n",
    "print(mean_spread)\n",
    "print(\"Number of pos under \"+str(pip_limit))\n",
    "print(positions[pos_under_2p].shape[0])\n",
    "print(\"per under pip_limit\")\n",
    "print(per_under_2p)\n",
    "print(\"total gross success rate\")\n",
    "print(tgsr)\n",
    "print(\"gross success rate\")\n",
    "print(gsr)\n",
    "print(\"total success rate\")\n",
    "print(tsr)\n",
    "print(\"success rate\")\n",
    "print(sr)\n",
    "print(\"GROI for positions under \"+str(pip_limit))\n",
    "print(positions[pos_under_2p]['GROI'].sum())\n",
    "print(\"ROI for positions under \"+str(pip_limit))\n",
    "print(positions[pos_under_2p]['ROI'].sum())\n",
    "print(\"positions['GROI'].sum()-pip_limit*positions['GROI'].shape[0]\")\n",
    "print(positions['GROI'].sum()-pip_limit*positions['GROI'].shape[0])\n",
    "print(\"# Assets\")\n",
    "print(positions['Asset'][pos_under_2p].unique().shape[0])\n",
    "pos_under_thr.to_csv(pos_dirname+pos_filename+str(100*pip_limit)+'pFilt.csv', index=False, sep='\\t')"
   ]
  },
  {
   "cell_type": "code",
   "execution_count": null,
   "metadata": {},
   "outputs": [],
   "source": [
    "import matplotlib.pyplot as plt\n",
    "\n",
    "plt.figure(0)\n",
    "bins = [i/100 for i in range(-100,100,2)]\n",
    "histG = plt.hist(pos_under_thr['GROI'], bins=bins)\n",
    "histR = plt.hist(pos_under_thr['ROI'], bins=bins)\n",
    "plt.grid()\n",
    "\n",
    "#pos_under_thr.index = range(pos_under_thr.shape[0])\n",
    "plt.figure(1)\n",
    "plt.plot(range(pos_under_thr.shape[0]),pos_under_thr['GROI'].cumsum())\n",
    "plt.plot(range(pos_under_thr.shape[0]),pos_under_thr['ROI'].cumsum())\n",
    "plt.grid()\n",
    "\n",
    "plt.figure(2)\n",
    "#print(pos_under_thr['ROI'])\n",
    "print(positions[pos_under_2p]['GROI'].shape)\n",
    "cumG = plt.plot(positions['GROI'].cumsum())#, bins=bins\n",
    "cumR = plt.plot(positions['ROI'].cumsum())\n",
    "plt.grid()"
   ]
  }
 ],
 "metadata": {
  "kernelspec": {
   "display_name": "Python 3",
   "language": "python",
   "name": "python3"
  },
  "language_info": {
   "codemirror_mode": {
    "name": "ipython",
    "version": 3
   },
   "file_extension": ".py",
   "mimetype": "text/x-python",
   "name": "python",
   "nbconvert_exporter": "python",
   "pygments_lexer": "ipython3",
   "version": "3.5.5"
  }
 },
 "nbformat": 4,
 "nbformat_minor": 2
}
