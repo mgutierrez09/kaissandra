{
 "cells": [
  {
   "cell_type": "code",
   "execution_count": 2,
   "metadata": {},
   "outputs": [
    {
     "name": "stdout",
     "output_type": "stream",
     "text": [
      "C:\\Users\\mgutierrez\\root\\Projects\\SDC\\py\\kaissandra\\ added to python path\n"
     ]
    }
   ],
   "source": [
    "import sys\n",
    "import os\n",
    "\n",
    "this_path = os.getcwd()\n",
    "path = '\\\\'.join(this_path.split('\\\\')[:-1])+'\\\\'\n",
    "if path not in sys.path:\n",
    "    sys.path.insert(0, path)\n",
    "    print(path+\" added to python path\")\n",
    "else:\n",
    "    print(path+\" already in python path\")\n",
    "\n",
    "%load_ext autoreload\n",
    "%autoreload 2"
   ]
  },
  {
   "cell_type": "code",
   "execution_count": null,
   "metadata": {},
   "outputs": [],
   "source": [
    "# Train/Test RNN\n",
    "import h5py\n",
    "import numpy as np\n",
    "import pickle\n",
    "from inputs import Data, load_separators, _build_bin_output, build_IO_from_var, build_DTA_from_var\n",
    "from RNN import modelRNN\n",
    "from features import get_init_end_dates, get_group_name\n",
    "\n",
    "dateTest = ([                                                       '2018.03.09',\n",
    "                '2018.03.12','2018.03.13','2018.03.14','2018.03.15','2018.03.16',\n",
    "                '2018.03.19','2018.03.20','2018.03.21','2018.03.22','2018.03.23',\n",
    "                '2018.03.26','2018.03.27','2018.03.28','2018.03.29','2018.03.30',\n",
    "                '2018.04.02','2018.04.03','2018.04.04','2018.04.05','2018.04.06',\n",
    "                '2018.04.09','2018.04.10','2018.04.11','2018.04.12','2018.04.13',\n",
    "                '2018.04.16','2018.04.17','2018.04.18','2018.04.19','2018.04.20',\n",
    "                '2018.04.23','2018.04.24','2018.04.25','2018.04.26','2018.04.27',\n",
    "                '2018.04.30','2018.05.01','2018.05.02','2018.05.03','2018.05.04',\n",
    "                '2018.05.07','2018.05.08','2018.05.09','2018.05.10','2018.05.11',\n",
    "                '2018.05.14','2018.05.15','2018.05.16','2018.05.17','2018.05.18',\n",
    "                '2018.05.21','2018.05.22','2018.05.23','2018.05.24','2018.05.25',\n",
    "                '2018.05.28','2018.05.29','2018.05.30','2018.05.31','2018.06.01',\n",
    "                '2018.06.04','2018.06.05','2018.06.06','2018.06.07','2018.06.08',\n",
    "                '2018.06.11','2018.06.12','2018.06.13','2018.06.14','2018.06.15',\n",
    "                '2018.06.18','2018.06.19','2018.06.20','2018.06.21','2018.06.22',\n",
    "                '2018.06.25','2018.06.26','2018.06.27','2018.06.28','2018.06.29',\n",
    "                '2018.07.02','2018.07.03','2018.07.04','2018.07.05','2018.07.06',\n",
    "                '2018.07.09','2018.07.10','2018.07.11','2018.07.12','2018.07.13',\n",
    "                '2018.07.30','2018.07.31','2018.08.01','2018.08.02','2018.08.03',\n",
    "                '2018.08.06','2018.08.07','2018.08.08','2018.08.09','2018.08.10']+\n",
    "               ['2018.08.13','2018.08.14','2018.08.15','2018.08.16','2018.08.17',\n",
    "                '2018.08.20','2018.08.21','2018.08.22','2018.08.23','2018.08.24',\n",
    "                '2018.08.27','2018.08.28','2018.08.29','2018.08.30','2018.08.31',\n",
    "                '2018.09.03','2018.09.04','2018.09.05','2018.09.06','2018.09.07',\n",
    "                '2018.09.10','2018.09.11','2018.09.12','2018.09.13','2018.09.14',\n",
    "                '2018.09.17','2018.09.18','2018.09.19','2018.09.20','2018.09.21',\n",
    "                '2018.09.24','2018.09.25','2018.09.26','2018.09.27']+['2018.09.28',\n",
    "                '2018.10.01','2018.10.02','2018.10.03','2018.10.04','2018.10.05',\n",
    "                '2018.10.08','2018.10.09','2018.10.10','2018.10.11','2018.10.12',\n",
    "                '2018.10.15','2018.10.16','2018.10.17','2018.10.18','2018.10.19',\n",
    "                '2018.10.22','2018.10.23','2018.10.24','2018.10.25','2018.10.26',\n",
    "                '2018.10.29','2018.10.30','2018.10.31','2018.11.01','2018.11.02',\n",
    "                '2018.11.05','2018.11.06','2018.11.07','2018.11.08','2018.11.09'])\n",
    "\n",
    "data=Data(movingWindow=100,\n",
    "          nEventsPerStat=1000,\n",
    "          lB=1300, \n",
    "          dateTest=dateTest,\n",
    "          assets=[1,2,3,4,7,8,10,11,12,13,14,15,16,17,19,27,28,29,30,31,32],\n",
    "          channels=[0],\n",
    "          max_var=10,\n",
    "          feature_keys_manual=[],\n",
    "          feature_keys_tsfresh=[],#[i for i in range(37,48)]+[49,50]+[i for i in range(52,68)],\n",
    "          var_feat_keys=[i for i in range(68,93)])\n",
    "\n",
    "model=modelRNN(data,\n",
    "               size_hidden_layer=100,\n",
    "               L=3,\n",
    "               size_output_layer=5,\n",
    "               keep_prob_dropout=1,\n",
    "               miniBatchSize=32,\n",
    "               outputGain=.6,\n",
    "               commonY=3,\n",
    "               lR0=0.0001,\n",
    "               num_epochs=20)\n",
    "\n",
    "tOt = 'tr' # tr->train te->test\n",
    "if tOt == 'tr':\n",
    "    calculate_roi = False\n",
    "else:\n",
    "    calculate_roi = True\n",
    "if_build_IO = False\n",
    "from_stats_file = False\n",
    "\n",
    "IDweights = '000400'\n",
    "IDresults = '100400'\n",
    "IO_results_name = IDresults\n",
    "hdf5_directory = 'D:/SDC/py/HDF5/'\n",
    "feats_var_directory = hdf5_directory+'feats_var/'\n",
    "IO_directory = '../RNN/IO/'\n",
    "if tOt=='tr':\n",
    "    filename_IO = IO_directory+'IO_'+IDweights+'.hdf5'\n",
    "else:\n",
    "    filename_IO = IO_directory+'IO_'+IO_results_name+'.hdf5'\n",
    "separators_directory = hdf5_directory+'separators/'\n",
    "\n",
    "# if IO structures have to be built \n",
    "if if_build_IO:\n",
    "    # init dictionary containing IO structures\n",
    "    IO = {}\n",
    "    # open IO file for writting\n",
    "    f_IO = h5py.File(filename_IO,'w')\n",
    "    # init IO data sets\n",
    "    X = f_IO.create_dataset('X',\n",
    "                            (0, model.seq_len, model.nFeatures), \n",
    "                            maxshape=(None,model.seq_len, model.nFeatures), \n",
    "                            dtype=float)\n",
    "    Y = f_IO.create_dataset('Y',\n",
    "                            (0,model.seq_len,model.commonY+model.size_output_layer),\n",
    "                            maxshape=(None,model.seq_len,model.commonY+\n",
    "                            model.size_output_layer),\n",
    "                            dtype=float)\n",
    "    if calculate_roi:\n",
    "        D = f_IO.create_dataset('D', (0,2),\n",
    "                                    maxshape=(None,2),dtype='S19')\n",
    "        B = f_IO.create_dataset('B', (0,2),\n",
    "                                    maxshape=(None,2),dtype=float)\n",
    "        A = f_IO.create_dataset('A', (0,2),\n",
    "                                    maxshape=(None,2),dtype=float)\n",
    "        IO['D'] = D\n",
    "        IO['B'] = B\n",
    "        IO['A'] = A\n",
    "    # attributes to track asset-IO belonging\n",
    "    ass_IO_ass = np.zeros((len(data.assets))).astype(int)\n",
    "    # structure that tracks the number of samples per level\n",
    "    totalSampsPerLevel = np.zeros((model.size_output_layer))\n",
    "    # save IO structures in dictionary\n",
    "    IO['X'] = X\n",
    "    IO['Y'] = Y\n",
    "    IO['pointer'] = 0\n",
    "    \n",
    "for ass_idx, ass in enumerate(data.assets):\n",
    "    thisAsset = data.AllAssets[str(ass)]\n",
    "    print(str(ass)+\" \"+thisAsset)\n",
    "    #thisAsset = 'EURUSD'\n",
    "    # load separators\n",
    "    separators = load_separators(data, \n",
    "                                 thisAsset, \n",
    "                                 separators_directory, \n",
    "                                 tOt='tr', \n",
    "                                 from_txt=1)\n",
    "    aloc = 2**20\n",
    "    # index asset\n",
    "    #ass_idx = 0\n",
    "\n",
    "    filename_features = (feats_var_directory+thisAsset+'_feats_var_mW'+str(data.movingWindow)+'_nE'+\n",
    "                                str(data.nEventsPerStat)+'.hdf5')\n",
    "    file_features = h5py.File(filename_features,'r')\n",
    "    filename_returns = (feats_var_directory+thisAsset+'_rets_var_mW'+str(data.movingWindow)+'_nE'+\n",
    "                                str(data.nEventsPerStat)+'.hdf5')\n",
    "    file_returns = h5py.File(filename_returns,'r')\n",
    "    filename_symbols = (feats_var_directory+thisAsset+'_symbols_mW'+str(data.movingWindow)+'_nE'+\n",
    "                                str(data.nEventsPerStat)+'.hdf5')\n",
    "    file_symbols = h5py.File(filename_symbols,'r')\n",
    "    filename_stats = (feats_var_directory+thisAsset+'_stats_mW'+str(data.movingWindow)+'_nE'+\n",
    "                                    str(data.nEventsPerStat)+'.p')\n",
    "    # init or load total stats\n",
    "    if not from_stats_file:\n",
    "        stats = {}\n",
    "        # load stats in\n",
    "        stats[\"means_in\"] = file_features[thisAsset].attrs.get(\"means_in\")\n",
    "        stats[\"stds_in\"] = file_features[thisAsset].attrs.get(\"stds_in\")\n",
    "        stats[\"m_in\"] = file_features[thisAsset].attrs.get(\"m_in\")\n",
    "        # load stats out\n",
    "        stats[\"means_out\"] = file_returns[thisAsset].attrs.get(\"means_out\")\n",
    "        stats[\"stds_out\"] = file_returns[thisAsset].attrs.get(\"stds_out\")\n",
    "        stats[\"m_out\"] = file_returns[thisAsset].attrs.get(\"m_out\")\n",
    "    elif from_stats_file:\n",
    "        stats = pickle.load( open( filename_stats, \"rb\" ))\n",
    "    print(stats)\n",
    "\n",
    "    nExS = data.nEventsPerStat\n",
    "    mW = data.movingWindow\n",
    "    if if_build_IO:\n",
    "        for s in range(0,len(separators)-1,2):#\n",
    "            print(\"\\ts {0:d} of {1:d}\".format(int(s/2),int(len(separators)/2-1))+\n",
    "                  \". From \"+separators.DateTime.iloc[s]+\" to \"+\n",
    "                  separators.DateTime.iloc[s+1])\n",
    "\n",
    "            # number of events within this separator chunk\n",
    "            nE = separators.index[s+1]-separators.index[s]+1\n",
    "            # get first day after separator\n",
    "            day_s = separators.DateTime.iloc[s][0:10]\n",
    "            # check if number of events is not enough to build two features and one return\n",
    "            if nE-nExS>=2*nExS:\n",
    "                if (tOt == 'tr' and (day_s not in data.dateTest and day_s<=data.dateTest[-1])) or \\\n",
    "                    (tOt == 'te' and (day_s in data.dateTest and day_s<=data.dateTest[-1])):\n",
    "                    # init and end dates\n",
    "                    init_date, end_date = get_init_end_dates(separators, s)\n",
    "                    #print(\"init_date\")\n",
    "                    #print(init_date)\n",
    "                    #print(\"end_date\")\n",
    "                    #print(end_date)\n",
    "                    # get group name\n",
    "                    group_name = get_group_name(thisAsset, init_date, end_date)\n",
    "                    #print(\"group_name\")\n",
    "                    #print(group_name)\n",
    "                    # load features\n",
    "                    if group_name in file_features:\n",
    "                        features = file_features[group_name][\"features\"]\n",
    "                    else:\n",
    "                        raise ValueError(group_name+\" not in \"+filename_features)\n",
    "                    #print(\"features\")\n",
    "                    #print(features)\n",
    "                    # load returns\n",
    "                    if group_name in file_returns:\n",
    "                        returns = file_returns[group_name][\"returns\"]\n",
    "                    else:\n",
    "                        raise ValueError(group_name+\" not in \"+filename_features)\n",
    "                    #print(returns)\n",
    "                    # load Symbols if calculate_roi is true\n",
    "                    #TODO: Implement Symbol loading for test\n",
    "                    if calculate_roi:\n",
    "                        DT = file_symbols[group_name][\"DT\"]\n",
    "                        B = file_symbols[group_name][\"B\"]\n",
    "                        A = file_symbols[group_name][\"A\"]\n",
    "                        # build dict w. symbols\n",
    "                        symbols = {'DT':DT,\n",
    "                                  'B':B,\n",
    "                                  'A':A}\n",
    "                    else:\n",
    "                        symbols = {}\n",
    "                    # build IO\n",
    "                    IO, totalSampsPerLevel = build_IO_from_var_notebook(data, model, stats, IO, totalSampsPerLevel, \n",
    "                                                                        features, returns, symbols, calculate_roi)\n",
    "                    print(totalSampsPerLevel)\n",
    "                else:\n",
    "                    print(\"\\tNot in the set. Skipped.\")\n",
    "\n",
    "            else:\n",
    "                print(\"\\ts {0:d} of {1:d}. Not enough entries. Skipped.\".format(\n",
    "                    int(s/2),int(len(separators)/2-1)))\n",
    "        # end of for s in range(0,len(separators)-1,2):\n",
    "    if if_build_IO:\n",
    "        ass_IO_ass[ass_idx] = IO['pointer']\n",
    "        #print(\"\\tTime for \"+thisAsset+\":\"+str(np.floor(time.time()-tic))+\"s\"+\n",
    "        #          \". Total time:\"+str(np.floor(time.time()-ticTotal))+\"s\")\n",
    "# end of for ass_idx, ass in enumerate(data.assets):\n",
    "if if_build_IO:\n",
    "    print(\"Samples to RNN: \"+str(max(ass_IO_ass))+\".\\nPercent per level:\"+\n",
    "            str(totalSampsPerLevel/max(ass_IO_ass)))\n",
    "    f_IO.attrs.create('ass_IO_ass', ass_IO_ass, dtype=int)\n",
    "    \n",
    "    \n",
    "    if calculate_roi:\n",
    "        print(\"Building DTA...\")\n",
    "        DTA = build_DTA_from_var(data, IO['D'], IO['B'], IO['A'], ass_IO_ass)\n",
    "        pickle.dump( DTA, open( \"../RNN/IO/DTA\"+\"_\"+IO_results_name+\".p\", \"wb\" ))\n",
    "        f_IO.attrs.create('ass_IO_ass', ass_IO_ass, dtype=int)\n",
    "        \n",
    "    f_IO.close()\n",
    "else:\n",
    "    if calculate_roi:\n",
    "        DTA = pickle.load( open( \"../RNN/IO/DTA\"+\"_\"+IO_results_name+\".p\", \"rb\" ))\n",
    "    # get ass_IO_ass from disk\n",
    "    f_IO = h5py.File(filename_IO,'r')\n",
    "    ass_IO_ass = f_IO.attrs.get(\"ass_IO_ass\")\n",
    "    f_IO.close()\n",
    "m_t = max(ass_IO_ass)\n",
    "print(\"DONE\")"
   ]
  },
  {
   "cell_type": "code",
   "execution_count": 8,
   "metadata": {},
   "outputs": [
    {
     "data": {
      "text/plain": [
       "733966"
      ]
     },
     "execution_count": 8,
     "metadata": {},
     "output_type": "execute_result"
    }
   ],
   "source": [
    "m_t"
   ]
  },
  {
   "cell_type": "code",
   "execution_count": null,
   "metadata": {},
   "outputs": [],
   "source": [
    "# Train\n",
    "import tensorflow as tf\n",
    "# reset graph\n",
    "alloc = 2**20\n",
    "tf.reset_default_graph()\n",
    "# start session\n",
    "with tf.Session() as sess:    \n",
    "    model.train(sess, int(np.ceil(m_t/aloc)), ID=IDweights, IDIO=IDweights, \n",
    "                data_format='hdf5', filename_IO=filename_IO, aloc=alloc)"
   ]
  },
  {
   "cell_type": "code",
   "execution_count": null,
   "metadata": {},
   "outputs": [],
   "source": [
    "# Test\n",
    "import tensorflow as tf\n",
    "\n",
    "alloc = 200000\n",
    "save_journal = False\n",
    "startFrom = -1\n",
    "endAt = -1\n",
    "# reset graph\n",
    "tf.reset_default_graph()\n",
    "# start session\n",
    "with tf.Session() as sess:\n",
    "    # run test RNN\n",
    "    print(\"IDresults: \"+IDresults)\n",
    "    # TEMP: GRE calculation not implemented in test2 yet. Use old test\n",
    "    if save_journal:\n",
    "        model.test(sess, data, IDresults, IDweights, \n",
    "                    alloc, 'test', startFrom=startFrom,\n",
    "                    IDIO=IO_results_name, data_format='hdf5', DTA=DTA, \n",
    "                    save_journal=save_journal, endAt=endAt)\n",
    "    else:\n",
    "        model.test2(sess, data, IDresults, IDweights, \n",
    "                    alloc, 'test', startFrom=startFrom,\n",
    "                    IDIO=IO_results_name, data_format='hdf5', DTA=DTA, \n",
    "                    save_journal=save_journal, endAt=endAt, from_var=True)\n",
    "print(\"DONE\")"
   ]
  },
  {
   "cell_type": "code",
   "execution_count": 1,
   "metadata": {},
   "outputs": [],
   "source": [
    "# Function Build IO from var\n",
    "def build_IO_from_var_notebook(data, model, stats, IO, totalSampsPerLevel, features, returns, symbols, calculate_roi):\n",
    "    # total number of possible channels\n",
    "    nExS = data.nEventsPerStat\n",
    "    mW = data.movingWindow\n",
    "    nChannels = int(nExS/mW)\n",
    "    # sequence length\n",
    "    seq_len = model.seq_len#int((data.lB-data.nEventsPerStat)/data.movingWindow)\n",
    "    # samples allocation per batch\n",
    "    aloc = 2**20\n",
    "    # extract means and stats\n",
    "    means_in = stats['means_in']\n",
    "    stds_in = stats['stds_in']\n",
    "    #m_in = stats['m_in']\n",
    "    stds_out = stats['stds_out']\n",
    "    #m_out = stats['m_out']\n",
    "    #print(\"m_in\")\n",
    "    #print(m_in)\n",
    "    #print(\"m_out\")\n",
    "    #print(m_out)\n",
    "    # add dateTimes, bids and asks if are included in file\n",
    "    if calculate_roi:\n",
    "        dts = symbols['DT']\n",
    "        bids = symbols['B']\n",
    "        asks = symbols['A']\n",
    "\n",
    "        D = IO['D']\n",
    "        B = IO['B']\n",
    "        A = IO['A']\n",
    "\n",
    "    # extract IO structures\n",
    "    X = IO['X']\n",
    "    Y = IO['Y']\n",
    "    #I = IO['I']\n",
    "    pointer = IO['pointer']\n",
    "\n",
    "    feats_var_normed = np.minimum(np.maximum((features-means_in)/\\\n",
    "                         stds_in,-data.max_var),data.max_var)\n",
    "    # get some scalars\n",
    "    nSamps = feats_var_normed.shape[0]\n",
    "    print(\"features.shape\")\n",
    "    print(features.shape)\n",
    "    print(\"nSamps\")\n",
    "    print(nSamps)\n",
    "    samp_remaining = nSamps-2*nChannels-seq_len+1\n",
    "    print(\"samp_remaining\")\n",
    "    print(samp_remaining)\n",
    "    print(\"returns.shape\")\n",
    "    print(returns.shape)\n",
    "    chunks = int(np.ceil(samp_remaining/aloc))\n",
    "    # init counter of samps processed\n",
    "    offset = 0\n",
    "    # loop over chunks\n",
    "    for i in range(chunks):\n",
    "        # this batch length\n",
    "        batch = np.min([samp_remaining, aloc])\n",
    "        # create support numpy vectors to speed up iterations\n",
    "        v_support = feats_var_normed[offset:offset+batch+seq_len, :]\n",
    "        # get init and end indexes for returns\n",
    "        init_idx_rets = nChannels+offset+seq_len-1\n",
    "        print(\"init_idx_rets\")\n",
    "        print(init_idx_rets)\n",
    "        end_idx_rets = nChannels+offset+batch+seq_len-1#+2*seq_len-1\n",
    "        print(\"end_idx_rets\")\n",
    "        print(end_idx_rets)\n",
    "        r_support = returns[init_idx_rets:end_idx_rets, data.lookAheadIndex]\n",
    "        print(\"r_support.shape\")\n",
    "        print(r_support.shape)\n",
    "        assert(r_support.shape[0]==end_idx_rets-init_idx_rets)\n",
    "        # we only take here the entry time index, and later at DTA building the \n",
    "        # exit time index is derived from the entry time and the number of events to\n",
    "        # look ahead\n",
    "        if calculate_roi:\n",
    "            dt_support = dts[init_idx_rets:end_idx_rets, [0,data.lookAheadIndex+1]]\n",
    "            b_support = bids[init_idx_rets:end_idx_rets, [0,data.lookAheadIndex+1]]\n",
    "            a_support = asks[init_idx_rets:end_idx_rets, [0,data.lookAheadIndex+1]]\n",
    "        # update remaining samps to proceed\n",
    "        samp_remaining = samp_remaining-batch\n",
    "        # init formatted input and output\n",
    "        X_i = np.zeros((batch, seq_len, features.shape[1]))\n",
    "        # real-valued output\n",
    "        O_i = np.zeros((batch, seq_len, 1))    \n",
    "        if calculate_roi:\n",
    "            # last dimension is to incorporate in and out symbols\n",
    "            D_i = np.chararray((batch, 2),itemsize=19)\n",
    "            B_i = np.zeros((batch, 2))\n",
    "            A_i = np.zeros((batch, 2))\n",
    "\n",
    "        for nI in range(batch):\n",
    "            # get input\n",
    "            v_s_s = v_support[nI:nI+seq_len, :]\n",
    "            X_i[nI,:,:] = v_s_s[::-1,:]#v_support[nI:nI+seq_len, :]            \n",
    "            # due to substraction of features for variation, output gets the \n",
    "            # feature one entry later\n",
    "            O_i[nI,:,0] = r_support[nI]\n",
    "            if calculate_roi:\n",
    "                D_i[nI,:] = dt_support[nI,:]\n",
    "                B_i[nI,:] = b_support[nI,:]\n",
    "                A_i[nI,:] = a_support[nI,:]\n",
    "\n",
    "        # normalize output\n",
    "        O_i = O_i/stds_out[data.lookAheadIndex]\n",
    "        # update counters\n",
    "        offset = offset+batch\n",
    "        # get decimal and binary outputs\n",
    "        Y_i, y_dec = _build_bin_output(model, O_i, batch)\n",
    "        # get samples per level\n",
    "        for l in range(model.size_output_layer):\n",
    "            totalSampsPerLevel[l] = totalSampsPerLevel[l]+np.sum(y_dec[:,-1,0]==l)\n",
    "        # resize IO structures\n",
    "        X.resize((pointer+batch, seq_len,features.shape[1]))\n",
    "        Y.resize((pointer+batch, seq_len,model.commonY+model.size_output_layer))\n",
    "        # update IO structures\n",
    "        X[pointer:pointer+batch,:,:] = X_i\n",
    "        Y[pointer:pointer+batch,:,:] = Y_i\n",
    "        if calculate_roi:\n",
    "            # resize\n",
    "            D.resize((pointer+batch, 2))\n",
    "            B.resize((pointer+batch, 2))\n",
    "            A.resize((pointer+batch, 2))\n",
    "            # update\n",
    "            D[pointer:pointer+batch,:] = D_i\n",
    "            B[pointer:pointer+batch,:] = B_i\n",
    "            A[pointer:pointer+batch,:] = A_i\n",
    "    #        save_as_matfile('X_h_n_'+str(int(s/2)),'X_h_n'+str(int(s/2)),X_i)\n",
    "    #        save_as_matfile('O_h_n_'+str(int(s/2)),'O_h_n'+str(int(s/2)),O_i)\n",
    "\n",
    "        # uodate pointer\n",
    "        pointer += batch\n",
    "    # end of for i in range(chunks):\n",
    "    # update dictionary\n",
    "    IO['X'] = X\n",
    "    IO['Y'] = Y\n",
    "    IO['pointer'] = pointer\n",
    "    if calculate_roi:\n",
    "        IO['D'] = D\n",
    "        IO['B'] = B\n",
    "        IO['A'] = A\n",
    "    \n",
    "    return IO, totalSampsPerLevel\n",
    "    "
   ]
  },
  {
   "cell_type": "code",
   "execution_count": null,
   "metadata": {},
   "outputs": [],
   "source": [
    "# Snippet Build IO from var\n",
    "\n",
    "# total number of possible channels\n",
    "nChannels = int(nExS/mW)\n",
    "# sequence length\n",
    "seq_len = model.seq_len#int((data.lB-data.nEventsPerStat)/data.movingWindow)\n",
    "# samples allocation per batch\n",
    "aloc = 2**20\n",
    "# extract means and stats\n",
    "means_in = stats['means_in']\n",
    "stds_in = stats['stds_in']\n",
    "m_in = stats['m_in']\n",
    "stds_out = stats['stds_out']\n",
    "m_out = stats['m_out']\n",
    "#print(\"m_in\")\n",
    "#print(m_in)\n",
    "#print(\"m_out\")\n",
    "#print(m_out)\n",
    "# add dateTimes, bids and asks if are included in file\n",
    "all_info = 0\n",
    "if calculate_roi:\n",
    "    all_info = 1\n",
    "    dts = symbols['DT']\n",
    "    bids = symbols['B']\n",
    "    asks = symbols['A']\n",
    "        \n",
    "    D = IO['D']\n",
    "    B = IO['B']\n",
    "    A = IO['A']\n",
    "\n",
    "# extract IO structures\n",
    "X = IO['X']\n",
    "Y = IO['Y']\n",
    "#I = IO['I']\n",
    "pointer = IO['pointer']\n",
    "\n",
    "feats_var_normed = np.minimum(np.maximum((features-means_in)/\\\n",
    "                     stds_in,-data.max_var),data.max_var)\n",
    "# get some scalars\n",
    "nSamps = feats_var_normed.shape[0]\n",
    "samp_remaining = nSamps-nChannels-seq_len-1\n",
    "print(\"samp_remaining\")\n",
    "print(samp_remaining)\n",
    "chunks = int(np.ceil(samp_remaining/aloc))\n",
    "# init counter of samps processed\n",
    "offset = 0\n",
    "# loop over chunks\n",
    "for i in range(chunks):\n",
    "    # this batch length\n",
    "    batch = np.min([samp_remaining,aloc])\n",
    "    print(\"batch\")\n",
    "    print(batch)\n",
    "    # create support numpy vectors to speed up iterations\n",
    "    v_support = feats_var_normed[offset:offset+batch+seq_len, :]\n",
    "    # get init and end indexes for returns\n",
    "    init_idx_rets = nChannels+offset+seq_len-1\n",
    "    end_idx_rets = nChannels+offset+batch+2*seq_len-1\n",
    "    r_support = returns[init_idx_rets:end_idx_rets, data.lookAheadIndex]\n",
    "    print(\"returns.shape\")\n",
    "    print(returns.shape)\n",
    "    print(\"nChannels+offset+2\")\n",
    "    print(nChannels+offset+2)\n",
    "    print(\"nChannels+offset+batch+seq_len+2\")\n",
    "    print(nChannels+offset+batch+seq_len+2)\n",
    "    print(\"r_support.shape\")\n",
    "    print(r_support.shape)\n",
    "    print(\"nChannels+offset+batch+seq_len+2-(nChannels+offset+2)\")\n",
    "    print(nChannels+offset+batch+seq_len+2-(nChannels+offset+2))\n",
    "    print(\"returns[-1,data.lookAheadIndex]\")\n",
    "    print(returns[-1,data.lookAheadIndex])\n",
    "    print(\"r_support[-1]\")\n",
    "    print(r_support[-1])\n",
    "    # we only take here the entry time index, and later at DTA building the \n",
    "    # exit time index is derived from the entry time and the number of events to\n",
    "    # look ahead\n",
    "    if calculate_roi:\n",
    "        dt_support = dts[init_idx_rets:end_idx_rets, [0,data.lookAheadIndex+1]]\n",
    "        b_support = bids[init_idx_rets:end_idx_rets, [0,data.lookAheadIndex+1]]\n",
    "        a_support = asks[init_idx_rets:end_idx_rets, [0,data.lookAheadIndex+1]]\n",
    "    # update remaining samps to proceed\n",
    "    samp_remaining = samp_remaining-batch\n",
    "    # init formatted input and output\n",
    "    X_i = np.zeros((batch, seq_len, features.shape[1]))\n",
    "    # real-valued output\n",
    "    O_i = np.zeros((batch, seq_len, 1))    \n",
    "    if calculate_roi:\n",
    "        # last dimension is to incorporate in and out symbols\n",
    "        D_i = np.chararray((batch, 2),itemsize=19)\n",
    "        B_i = np.zeros((batch, 2))\n",
    "        A_i = np.zeros((batch, 2))\n",
    "    \n",
    "    for nI in range(batch):\n",
    "        # get input\n",
    "        v_s_s = v_support[nI:nI+seq_len, :]\n",
    "        X_i[nI,:,:] = v_s_s[::-1,:]#v_support[nI:nI+seq_len, :]            \n",
    "        # due to substraction of features for variation, output gets the \n",
    "        # feature one entry later\n",
    "        O_i[nI,:,0] = r_support[nI]\n",
    "        if calculate_roi:\n",
    "            D_i[nI,:] = dt_support[nI,:]\n",
    "            B_i[nI,:] = b_support[nI,:]\n",
    "            A_i[nI,:] = a_support[nI,:]\n",
    "    \n",
    "    # normalize output\n",
    "    print(\"stds_out.shape\")\n",
    "    print(stds_out.shape)\n",
    "    O_i = O_i/stds_out[data.lookAheadIndex]\n",
    "    # update counters\n",
    "    offset = offset+batch\n",
    "    # get decimal and binary outputs\n",
    "    Y_i, y_dec = _build_bin_output(model, O_i, batch)\n",
    "    # get samples per level\n",
    "    for l in range(model.size_output_layer):\n",
    "        totalSampsPerLevel[l] = totalSampsPerLevel[l]+np.sum(y_dec[:,-1,0]==l)\n",
    "    # resize IO structures\n",
    "    X.resize((pointer+batch, seq_len,features.shape[1]))\n",
    "    Y.resize((pointer+batch, seq_len,model.commonY+model.size_output_layer))\n",
    "    # update IO structures\n",
    "    X[pointer:pointer+batch,:,:] = X_i\n",
    "    Y[pointer:pointer+batch,:,:] = Y_i\n",
    "    if calculate_roi:\n",
    "        # resize\n",
    "        D.resize((pointer+batch, 2))\n",
    "        B.resize((pointer+batch, 2))\n",
    "        A.resize((pointer+batch, 2))\n",
    "        # update\n",
    "        D[pointer:pointer+batch,:] = D_i\n",
    "        B[pointer:pointer+batch,:] = B_i\n",
    "        A[pointer:pointer+batch,:] = A_i\n",
    "#        save_as_matfile('X_h_n_'+str(int(s/2)),'X_h_n'+str(int(s/2)),X_i)\n",
    "#        save_as_matfile('O_h_n_'+str(int(s/2)),'O_h_n'+str(int(s/2)),O_i)\n",
    "        \n",
    "    # uodate pointer\n",
    "    pointer += batch\n",
    "# end of for i in range(chunks):\n",
    "# update dictionary\n",
    "IO['X'] = X\n",
    "IO['Y'] = Y\n",
    "IO['pointer'] = pointer\n",
    "if calculate_roi:\n",
    "    IO['D'] = D\n",
    "    IO['B'] = B\n",
    "    IO['A'] = A\n",
    "print(\"totalSampsPerLevel\")\n",
    "print(totalSampsPerLevel)\n",
    "\n",
    "if if_build_IO:\n",
    "    ass_IO_ass[ass_idx] = IO['pointer']\n",
    "    #print(\"\\tTime for \"+thisAsset+\":\"+str(np.floor(time.time()-tic))+\"s\"+\n",
    "    #          \". Total time:\"+str(np.floor(time.time()-ticTotal))+\"s\")\n",
    "# end of assets loop?\n",
    "if if_build_IO:\n",
    "    f_IO.attrs.create('ass_IO_ass', ass_IO_ass, dtype=int)\n",
    "    f_IO.close()\n",
    "else:\n",
    "    # get ass_IO_ass from disk\n",
    "    f_IO = h5py.File(filename_IO,'r')\n",
    "    ass_IO_ass = f_IO.attrs.get(\"ass_IO_ass\")\n",
    "    f_IO.close()\n",
    "m_t = IO['pointer']\n",
    "print(\"m_t\")\n",
    "print(m_t)\n",
    "print(\"IO['pointer']\")\n",
    "print(IO['pointer'])"
   ]
  },
  {
   "cell_type": "code",
   "execution_count": 5,
   "metadata": {},
   "outputs": [],
   "source": [
    "f_IO.close()"
   ]
  },
  {
   "cell_type": "code",
   "execution_count": 6,
   "metadata": {},
   "outputs": [
    {
     "data": {
      "text/plain": [
       "(42319, 3, 1)"
      ]
     },
     "execution_count": 6,
     "metadata": {},
     "output_type": "execute_result"
    }
   ],
   "source": [
    "O_i.shape"
   ]
  },
  {
   "cell_type": "code",
   "execution_count": 20,
   "metadata": {},
   "outputs": [],
   "source": [
    "\n"
   ]
  },
  {
   "cell_type": "code",
   "execution_count": 19,
   "metadata": {},
   "outputs": [
    {
     "name": "stdout",
     "output_type": "stream",
     "text": [
      "The autoreload extension is already loaded. To reload it, use:\n",
      "  %reload_ext autoreload\n"
     ]
    }
   ],
   "source": [
    "# Test\n"
   ]
  },
  {
   "cell_type": "code",
   "execution_count": 18,
   "metadata": {},
   "outputs": [],
   "source": []
  },
  {
   "cell_type": "code",
   "execution_count": 4,
   "metadata": {},
   "outputs": [
    {
     "name": "stdout",
     "output_type": "stream",
     "text": [
      "WARNING! Arguments not taken into consideration\n",
      "Config file ../config/C0400.config exists. Loaded from disk\n"
     ]
    }
   ],
   "source": [
    "from config import configuration\n",
    "# define config structure\n",
    "entries = {'config_name':'C0400',\n",
    "          \n",
    "          'movingWindow':100,\n",
    "          'nEventsPerStat':1000,\n",
    "          'lB':1300,\n",
    "          'feature_keys_manual':[],\n",
    "          'feature_keys_tsfresh':[],\n",
    "           'var_feat_keys':[i for i in range(68,93)],\n",
    "          \n",
    "          'if_build_IO':False,\n",
    "          'from_stats_file':False,\n",
    "          'IDweights':'000400',\n",
    "          'inverse_load':True,\n",
    "          \n",
    "          'IDresults':'100400',\n",
    "          'startFrom':-1,\n",
    "          'endAt':-1,\n",
    "          'save_journal':False}\n",
    "\n",
    "config = configuration(entries)"
   ]
  },
  {
   "cell_type": "code",
   "execution_count": null,
   "metadata": {},
   "outputs": [],
   "source": []
  },
  {
   "cell_type": "code",
   "execution_count": null,
   "metadata": {},
   "outputs": [],
   "source": [
    "build_and_test(config)"
   ]
  },
  {
   "cell_type": "code",
   "execution_count": 16,
   "metadata": {},
   "outputs": [
    {
     "name": "stderr",
     "output_type": "stream",
     "text": [
      "[autoreload of inputs failed: Traceback (most recent call last):\n",
      "  File \"C:\\ProgramData\\Anaconda3\\envs\\py35\\lib\\site-packages\\IPython\\extensions\\autoreload.py\", line 245, in check\n",
      "    superreload(m, reload, self.old_objects)\n",
      "  File \"C:\\ProgramData\\Anaconda3\\envs\\py35\\lib\\site-packages\\IPython\\extensions\\autoreload.py\", line 384, in superreload\n",
      "    update_generic(old_obj, new_obj)\n",
      "  File \"C:\\ProgramData\\Anaconda3\\envs\\py35\\lib\\site-packages\\IPython\\extensions\\autoreload.py\", line 323, in update_generic\n",
      "    update(a, b)\n",
      "  File \"C:\\ProgramData\\Anaconda3\\envs\\py35\\lib\\site-packages\\IPython\\extensions\\autoreload.py\", line 278, in update_class\n",
      "    if old_obj == new_obj:\n",
      "ValueError: The truth value of an array with more than one element is ambiguous. Use a.any() or a.all()\n",
      "]\n"
     ]
    },
    {
     "name": "stdout",
     "output_type": "stream",
     "text": [
      "Config file ../config/C0400.config saved\n",
      "Config file ../config/C0400.config loaded from disk\n"
     ]
    }
   ],
   "source": [
    "from config import modify_config\n",
    "\n",
    "modify_config(config['config_name'],'if_build_IO',False)\n",
    "config = retrieve_config(config['config_name'])"
   ]
  },
  {
   "cell_type": "code",
   "execution_count": null,
   "metadata": {},
   "outputs": [],
   "source": [
    "build_and_train(config)"
   ]
  },
  {
   "cell_type": "code",
   "execution_count": 26,
   "metadata": {},
   "outputs": [
    {
     "data": {
      "text/html": [
       "<div>\n",
       "<style scoped>\n",
       "    .dataframe tbody tr th:only-of-type {\n",
       "        vertical-align: middle;\n",
       "    }\n",
       "\n",
       "    .dataframe tbody tr th {\n",
       "        vertical-align: top;\n",
       "    }\n",
       "\n",
       "    .dataframe thead th {\n",
       "        text-align: right;\n",
       "    }\n",
       "</style>\n",
       "<table border=\"1\" class=\"dataframe\">\n",
       "  <thead>\n",
       "    <tr style=\"text-align: right;\">\n",
       "      <th></th>\n",
       "      <th>Asset</th>\n",
       "      <th>Di</th>\n",
       "      <th>Ti</th>\n",
       "      <th>Do</th>\n",
       "      <th>To</th>\n",
       "      <th>GROI</th>\n",
       "      <th>ROI</th>\n",
       "      <th>spread</th>\n",
       "      <th>ext</th>\n",
       "    </tr>\n",
       "  </thead>\n",
       "  <tbody>\n",
       "    <tr>\n",
       "      <th>0</th>\n",
       "      <td>AUDCAD</td>\n",
       "      <td>2018.03.19</td>\n",
       "      <td>00:57:38</td>\n",
       "      <td>2018.03.19</td>\n",
       "      <td>01:36:09</td>\n",
       "      <td>0.0337</td>\n",
       "      <td>0.0079</td>\n",
       "      <td>0.0257</td>\n",
       "      <td>0</td>\n",
       "    </tr>\n",
       "    <tr>\n",
       "      <th>1</th>\n",
       "      <td>AUDCAD</td>\n",
       "      <td>2018.03.20</td>\n",
       "      <td>02:51:09</td>\n",
       "      <td>2018.03.20</td>\n",
       "      <td>03:11:27</td>\n",
       "      <td>0.0407</td>\n",
       "      <td>0.0179</td>\n",
       "      <td>0.0228</td>\n",
       "      <td>0</td>\n",
       "    </tr>\n",
       "    <tr>\n",
       "      <th>2</th>\n",
       "      <td>AUDCAD</td>\n",
       "      <td>2018.03.22</td>\n",
       "      <td>00:59:23</td>\n",
       "      <td>2018.03.22</td>\n",
       "      <td>01:30:28</td>\n",
       "      <td>0.0929</td>\n",
       "      <td>0.0679</td>\n",
       "      <td>0.0250</td>\n",
       "      <td>0</td>\n",
       "    </tr>\n",
       "    <tr>\n",
       "      <th>3</th>\n",
       "      <td>AUDCAD</td>\n",
       "      <td>2018.03.22</td>\n",
       "      <td>02:30:14</td>\n",
       "      <td>2018.03.22</td>\n",
       "      <td>02:42:32</td>\n",
       "      <td>-0.1387</td>\n",
       "      <td>-0.1636</td>\n",
       "      <td>0.0249</td>\n",
       "      <td>0</td>\n",
       "    </tr>\n",
       "    <tr>\n",
       "      <th>4</th>\n",
       "      <td>AUDCAD</td>\n",
       "      <td>2018.03.23</td>\n",
       "      <td>01:00:56</td>\n",
       "      <td>2018.03.23</td>\n",
       "      <td>01:13:22</td>\n",
       "      <td>-0.0392</td>\n",
       "      <td>-0.0643</td>\n",
       "      <td>0.0251</td>\n",
       "      <td>0</td>\n",
       "    </tr>\n",
       "    <tr>\n",
       "      <th>5</th>\n",
       "      <td>AUDCAD</td>\n",
       "      <td>2018.03.26</td>\n",
       "      <td>00:13:48</td>\n",
       "      <td>2018.03.26</td>\n",
       "      <td>01:01:16</td>\n",
       "      <td>0.0413</td>\n",
       "      <td>0.0111</td>\n",
       "      <td>0.0302</td>\n",
       "      <td>0</td>\n",
       "    </tr>\n",
       "    <tr>\n",
       "      <th>6</th>\n",
       "      <td>AUDCAD</td>\n",
       "      <td>2018.03.28</td>\n",
       "      <td>23:43:57</td>\n",
       "      <td>2018.03.29</td>\n",
       "      <td>01:00:00</td>\n",
       "      <td>0.0808</td>\n",
       "      <td>0.0262</td>\n",
       "      <td>0.0546</td>\n",
       "      <td>3</td>\n",
       "    </tr>\n",
       "    <tr>\n",
       "      <th>7</th>\n",
       "      <td>AUDCAD</td>\n",
       "      <td>2018.03.30</td>\n",
       "      <td>02:16:01</td>\n",
       "      <td>2018.03.30</td>\n",
       "      <td>02:26:22</td>\n",
       "      <td>0.0718</td>\n",
       "      <td>-0.0071</td>\n",
       "      <td>0.0789</td>\n",
       "      <td>0</td>\n",
       "    </tr>\n",
       "    <tr>\n",
       "      <th>8</th>\n",
       "      <td>AUDCAD</td>\n",
       "      <td>2018.03.30</td>\n",
       "      <td>23:53:50</td>\n",
       "      <td>2018.04.02</td>\n",
       "      <td>01:53:14</td>\n",
       "      <td>0.0505</td>\n",
       "      <td>0.0212</td>\n",
       "      <td>0.0293</td>\n",
       "      <td>1</td>\n",
       "    </tr>\n",
       "    <tr>\n",
       "      <th>9</th>\n",
       "      <td>AUDCAD</td>\n",
       "      <td>2018.04.03</td>\n",
       "      <td>00:14:29</td>\n",
       "      <td>2018.04.03</td>\n",
       "      <td>00:38:47</td>\n",
       "      <td>0.0253</td>\n",
       "      <td>-0.0162</td>\n",
       "      <td>0.0415</td>\n",
       "      <td>1</td>\n",
       "    </tr>\n",
       "    <tr>\n",
       "      <th>10</th>\n",
       "      <td>AUDCAD</td>\n",
       "      <td>2018.04.05</td>\n",
       "      <td>00:08:52</td>\n",
       "      <td>2018.04.05</td>\n",
       "      <td>00:27:33</td>\n",
       "      <td>0.0843</td>\n",
       "      <td>0.0183</td>\n",
       "      <td>0.0660</td>\n",
       "      <td>2</td>\n",
       "    </tr>\n",
       "    <tr>\n",
       "      <th>11</th>\n",
       "      <td>AUDCAD</td>\n",
       "      <td>2018.04.05</td>\n",
       "      <td>00:53:15</td>\n",
       "      <td>2018.04.05</td>\n",
       "      <td>01:03:06</td>\n",
       "      <td>0.0244</td>\n",
       "      <td>-0.0061</td>\n",
       "      <td>0.0305</td>\n",
       "      <td>0</td>\n",
       "    </tr>\n",
       "    <tr>\n",
       "      <th>12</th>\n",
       "      <td>AUDCAD</td>\n",
       "      <td>2018.04.06</td>\n",
       "      <td>00:05:32</td>\n",
       "      <td>2018.04.06</td>\n",
       "      <td>00:37:16</td>\n",
       "      <td>0.0460</td>\n",
       "      <td>0.0133</td>\n",
       "      <td>0.0327</td>\n",
       "      <td>0</td>\n",
       "    </tr>\n",
       "    <tr>\n",
       "      <th>13</th>\n",
       "      <td>AUDCAD</td>\n",
       "      <td>2018.04.09</td>\n",
       "      <td>00:33:45</td>\n",
       "      <td>2018.04.09</td>\n",
       "      <td>01:06:08</td>\n",
       "      <td>0.0337</td>\n",
       "      <td>0.0102</td>\n",
       "      <td>0.0235</td>\n",
       "      <td>1</td>\n",
       "    </tr>\n",
       "    <tr>\n",
       "      <th>14</th>\n",
       "      <td>AUDCAD</td>\n",
       "      <td>2018.04.12</td>\n",
       "      <td>00:06:02</td>\n",
       "      <td>2018.04.12</td>\n",
       "      <td>00:29:32</td>\n",
       "      <td>0.1149</td>\n",
       "      <td>0.0410</td>\n",
       "      <td>0.0739</td>\n",
       "      <td>0</td>\n",
       "    </tr>\n",
       "    <tr>\n",
       "      <th>15</th>\n",
       "      <td>AUDCAD</td>\n",
       "      <td>2018.04.13</td>\n",
       "      <td>00:09:27</td>\n",
       "      <td>2018.04.13</td>\n",
       "      <td>00:52:06</td>\n",
       "      <td>0.0338</td>\n",
       "      <td>-0.0533</td>\n",
       "      <td>0.0871</td>\n",
       "      <td>1</td>\n",
       "    </tr>\n",
       "    <tr>\n",
       "      <th>16</th>\n",
       "      <td>AUDCAD</td>\n",
       "      <td>2018.04.16</td>\n",
       "      <td>00:06:47</td>\n",
       "      <td>2018.04.16</td>\n",
       "      <td>01:05:37</td>\n",
       "      <td>0.0327</td>\n",
       "      <td>-0.0296</td>\n",
       "      <td>0.0624</td>\n",
       "      <td>1</td>\n",
       "    </tr>\n",
       "    <tr>\n",
       "      <th>17</th>\n",
       "      <td>AUDCAD</td>\n",
       "      <td>2018.04.17</td>\n",
       "      <td>00:10:28</td>\n",
       "      <td>2018.04.17</td>\n",
       "      <td>01:00:16</td>\n",
       "      <td>0.0471</td>\n",
       "      <td>0.0143</td>\n",
       "      <td>0.0327</td>\n",
       "      <td>0</td>\n",
       "    </tr>\n",
       "    <tr>\n",
       "      <th>18</th>\n",
       "      <td>AUDCAD</td>\n",
       "      <td>2018.04.18</td>\n",
       "      <td>00:41:06</td>\n",
       "      <td>2018.04.18</td>\n",
       "      <td>01:29:19</td>\n",
       "      <td>0.0616</td>\n",
       "      <td>0.0339</td>\n",
       "      <td>0.0277</td>\n",
       "      <td>0</td>\n",
       "    </tr>\n",
       "    <tr>\n",
       "      <th>19</th>\n",
       "      <td>AUDCAD</td>\n",
       "      <td>2018.04.20</td>\n",
       "      <td>23:43:42</td>\n",
       "      <td>2018.04.23</td>\n",
       "      <td>00:21:39</td>\n",
       "      <td>-0.0470</td>\n",
       "      <td>-0.2003</td>\n",
       "      <td>0.1533</td>\n",
       "      <td>1</td>\n",
       "    </tr>\n",
       "    <tr>\n",
       "      <th>20</th>\n",
       "      <td>AUDCAD</td>\n",
       "      <td>2018.04.24</td>\n",
       "      <td>00:13:51</td>\n",
       "      <td>2018.04.24</td>\n",
       "      <td>00:52:30</td>\n",
       "      <td>0.0123</td>\n",
       "      <td>-0.0297</td>\n",
       "      <td>0.0420</td>\n",
       "      <td>0</td>\n",
       "    </tr>\n",
       "    <tr>\n",
       "      <th>21</th>\n",
       "      <td>AUDCAD</td>\n",
       "      <td>2018.04.25</td>\n",
       "      <td>00:29:51</td>\n",
       "      <td>2018.04.25</td>\n",
       "      <td>00:53:25</td>\n",
       "      <td>0.0236</td>\n",
       "      <td>-0.0308</td>\n",
       "      <td>0.0544</td>\n",
       "      <td>0</td>\n",
       "    </tr>\n",
       "    <tr>\n",
       "      <th>22</th>\n",
       "      <td>AUDCAD</td>\n",
       "      <td>2018.04.26</td>\n",
       "      <td>00:05:31</td>\n",
       "      <td>2018.04.26</td>\n",
       "      <td>00:41:49</td>\n",
       "      <td>0.0402</td>\n",
       "      <td>-0.0062</td>\n",
       "      <td>0.0463</td>\n",
       "      <td>1</td>\n",
       "    </tr>\n",
       "    <tr>\n",
       "      <th>23</th>\n",
       "      <td>AUDCAD</td>\n",
       "      <td>2018.04.27</td>\n",
       "      <td>00:31:53</td>\n",
       "      <td>2018.04.27</td>\n",
       "      <td>01:17:43</td>\n",
       "      <td>0.0813</td>\n",
       "      <td>0.0556</td>\n",
       "      <td>0.0257</td>\n",
       "      <td>0</td>\n",
       "    </tr>\n",
       "    <tr>\n",
       "      <th>24</th>\n",
       "      <td>AUDCAD</td>\n",
       "      <td>2018.04.30</td>\n",
       "      <td>00:54:23</td>\n",
       "      <td>2018.04.30</td>\n",
       "      <td>01:07:44</td>\n",
       "      <td>0.0411</td>\n",
       "      <td>-0.0062</td>\n",
       "      <td>0.0473</td>\n",
       "      <td>0</td>\n",
       "    </tr>\n",
       "    <tr>\n",
       "      <th>25</th>\n",
       "      <td>AUDCAD</td>\n",
       "      <td>2018.05.03</td>\n",
       "      <td>00:05:48</td>\n",
       "      <td>2018.05.03</td>\n",
       "      <td>00:59:34</td>\n",
       "      <td>0.0280</td>\n",
       "      <td>-0.0176</td>\n",
       "      <td>0.0456</td>\n",
       "      <td>2</td>\n",
       "    </tr>\n",
       "    <tr>\n",
       "      <th>26</th>\n",
       "      <td>AUDCAD</td>\n",
       "      <td>2018.05.03</td>\n",
       "      <td>02:17:37</td>\n",
       "      <td>2018.05.03</td>\n",
       "      <td>02:58:46</td>\n",
       "      <td>0.0207</td>\n",
       "      <td>-0.0031</td>\n",
       "      <td>0.0239</td>\n",
       "      <td>0</td>\n",
       "    </tr>\n",
       "    <tr>\n",
       "      <th>27</th>\n",
       "      <td>AUDCAD</td>\n",
       "      <td>2018.05.04</td>\n",
       "      <td>00:08:30</td>\n",
       "      <td>2018.05.04</td>\n",
       "      <td>00:29:44</td>\n",
       "      <td>0.0455</td>\n",
       "      <td>0.0000</td>\n",
       "      <td>0.0455</td>\n",
       "      <td>0</td>\n",
       "    </tr>\n",
       "    <tr>\n",
       "      <th>28</th>\n",
       "      <td>AUDCAD</td>\n",
       "      <td>2018.05.08</td>\n",
       "      <td>00:08:32</td>\n",
       "      <td>2018.05.08</td>\n",
       "      <td>00:29:55</td>\n",
       "      <td>-0.0010</td>\n",
       "      <td>-0.0413</td>\n",
       "      <td>0.0403</td>\n",
       "      <td>1</td>\n",
       "    </tr>\n",
       "    <tr>\n",
       "      <th>29</th>\n",
       "      <td>AUDCAD</td>\n",
       "      <td>2018.05.14</td>\n",
       "      <td>01:00:05</td>\n",
       "      <td>2018.05.14</td>\n",
       "      <td>01:39:24</td>\n",
       "      <td>0.0021</td>\n",
       "      <td>-0.0259</td>\n",
       "      <td>0.0280</td>\n",
       "      <td>0</td>\n",
       "    </tr>\n",
       "    <tr>\n",
       "      <th>...</th>\n",
       "      <td>...</td>\n",
       "      <td>...</td>\n",
       "      <td>...</td>\n",
       "      <td>...</td>\n",
       "      <td>...</td>\n",
       "      <td>...</td>\n",
       "      <td>...</td>\n",
       "      <td>...</td>\n",
       "      <td>...</td>\n",
       "    </tr>\n",
       "    <tr>\n",
       "      <th>1681</th>\n",
       "      <td>NZDUSD</td>\n",
       "      <td>2018.08.15</td>\n",
       "      <td>23:38:24</td>\n",
       "      <td>2018.08.15</td>\n",
       "      <td>23:57:56</td>\n",
       "      <td>0.0518</td>\n",
       "      <td>0.0152</td>\n",
       "      <td>0.0365</td>\n",
       "      <td>0</td>\n",
       "    </tr>\n",
       "    <tr>\n",
       "      <th>1682</th>\n",
       "      <td>NZDUSD</td>\n",
       "      <td>2018.08.17</td>\n",
       "      <td>01:04:05</td>\n",
       "      <td>2018.08.17</td>\n",
       "      <td>01:36:55</td>\n",
       "      <td>0.0349</td>\n",
       "      <td>-0.0015</td>\n",
       "      <td>0.0365</td>\n",
       "      <td>0</td>\n",
       "    </tr>\n",
       "    <tr>\n",
       "      <th>1683</th>\n",
       "      <td>NZDUSD</td>\n",
       "      <td>2018.08.17</td>\n",
       "      <td>23:55:06</td>\n",
       "      <td>2018.08.20</td>\n",
       "      <td>00:40:04</td>\n",
       "      <td>0.0513</td>\n",
       "      <td>-0.0030</td>\n",
       "      <td>0.0543</td>\n",
       "      <td>1</td>\n",
       "    </tr>\n",
       "    <tr>\n",
       "      <th>1684</th>\n",
       "      <td>NZDUSD</td>\n",
       "      <td>2018.08.21</td>\n",
       "      <td>23:48:39</td>\n",
       "      <td>2018.08.22</td>\n",
       "      <td>00:21:52</td>\n",
       "      <td>0.1180</td>\n",
       "      <td>0.0045</td>\n",
       "      <td>0.1135</td>\n",
       "      <td>0</td>\n",
       "    </tr>\n",
       "    <tr>\n",
       "      <th>1685</th>\n",
       "      <td>NZDUSD</td>\n",
       "      <td>2018.08.23</td>\n",
       "      <td>00:25:00</td>\n",
       "      <td>2018.08.23</td>\n",
       "      <td>01:43:02</td>\n",
       "      <td>0.0837</td>\n",
       "      <td>0.0508</td>\n",
       "      <td>0.0329</td>\n",
       "      <td>1</td>\n",
       "    </tr>\n",
       "    <tr>\n",
       "      <th>1686</th>\n",
       "      <td>NZDUSD</td>\n",
       "      <td>2018.08.29</td>\n",
       "      <td>00:08:42</td>\n",
       "      <td>2018.08.29</td>\n",
       "      <td>00:53:20</td>\n",
       "      <td>0.0388</td>\n",
       "      <td>-0.0045</td>\n",
       "      <td>0.0433</td>\n",
       "      <td>2</td>\n",
       "    </tr>\n",
       "    <tr>\n",
       "      <th>1687</th>\n",
       "      <td>NZDUSD</td>\n",
       "      <td>2018.09.05</td>\n",
       "      <td>00:10:14</td>\n",
       "      <td>2018.09.05</td>\n",
       "      <td>00:17:51</td>\n",
       "      <td>0.0565</td>\n",
       "      <td>-0.0397</td>\n",
       "      <td>0.0962</td>\n",
       "      <td>0</td>\n",
       "    </tr>\n",
       "    <tr>\n",
       "      <th>1688</th>\n",
       "      <td>NZDUSD</td>\n",
       "      <td>2018.09.14</td>\n",
       "      <td>00:09:13</td>\n",
       "      <td>2018.09.14</td>\n",
       "      <td>00:53:36</td>\n",
       "      <td>0.1586</td>\n",
       "      <td>0.0794</td>\n",
       "      <td>0.0792</td>\n",
       "      <td>2</td>\n",
       "    </tr>\n",
       "    <tr>\n",
       "      <th>1689</th>\n",
       "      <td>NZDUSD</td>\n",
       "      <td>2018.09.18</td>\n",
       "      <td>00:08:32</td>\n",
       "      <td>2018.09.18</td>\n",
       "      <td>01:02:10</td>\n",
       "      <td>0.1994</td>\n",
       "      <td>0.1583</td>\n",
       "      <td>0.0411</td>\n",
       "      <td>1</td>\n",
       "    </tr>\n",
       "    <tr>\n",
       "      <th>1690</th>\n",
       "      <td>NZDUSD</td>\n",
       "      <td>2018.09.18</td>\n",
       "      <td>23:40:24</td>\n",
       "      <td>2018.09.19</td>\n",
       "      <td>01:20:38</td>\n",
       "      <td>-0.0790</td>\n",
       "      <td>-0.1124</td>\n",
       "      <td>0.0334</td>\n",
       "      <td>0</td>\n",
       "    </tr>\n",
       "    <tr>\n",
       "      <th>1691</th>\n",
       "      <td>NZDUSD</td>\n",
       "      <td>2018.09.19</td>\n",
       "      <td>01:45:18</td>\n",
       "      <td>2018.09.19</td>\n",
       "      <td>02:21:37</td>\n",
       "      <td>0.0380</td>\n",
       "      <td>0.0046</td>\n",
       "      <td>0.0334</td>\n",
       "      <td>0</td>\n",
       "    </tr>\n",
       "    <tr>\n",
       "      <th>1692</th>\n",
       "      <td>NZDUSD</td>\n",
       "      <td>2018.09.20</td>\n",
       "      <td>00:21:35</td>\n",
       "      <td>2018.09.20</td>\n",
       "      <td>01:19:24</td>\n",
       "      <td>-0.1467</td>\n",
       "      <td>-0.1800</td>\n",
       "      <td>0.0333</td>\n",
       "      <td>2</td>\n",
       "    </tr>\n",
       "    <tr>\n",
       "      <th>1693</th>\n",
       "      <td>NZDUSD</td>\n",
       "      <td>2018.09.21</td>\n",
       "      <td>00:31:12</td>\n",
       "      <td>2018.09.21</td>\n",
       "      <td>01:04:28</td>\n",
       "      <td>0.0898</td>\n",
       "      <td>0.0569</td>\n",
       "      <td>0.0329</td>\n",
       "      <td>1</td>\n",
       "    </tr>\n",
       "    <tr>\n",
       "      <th>1694</th>\n",
       "      <td>NZDUSD</td>\n",
       "      <td>2018.09.24</td>\n",
       "      <td>00:07:58</td>\n",
       "      <td>2018.09.24</td>\n",
       "      <td>01:20:09</td>\n",
       "      <td>0.0120</td>\n",
       "      <td>-0.0195</td>\n",
       "      <td>0.0315</td>\n",
       "      <td>1</td>\n",
       "    </tr>\n",
       "    <tr>\n",
       "      <th>1695</th>\n",
       "      <td>NZDUSD</td>\n",
       "      <td>2018.09.26</td>\n",
       "      <td>00:48:10</td>\n",
       "      <td>2018.09.26</td>\n",
       "      <td>02:06:52</td>\n",
       "      <td>-0.0738</td>\n",
       "      <td>-0.1069</td>\n",
       "      <td>0.0331</td>\n",
       "      <td>0</td>\n",
       "    </tr>\n",
       "    <tr>\n",
       "      <th>1696</th>\n",
       "      <td>NZDUSD</td>\n",
       "      <td>2018.09.27</td>\n",
       "      <td>00:36:55</td>\n",
       "      <td>2018.09.27</td>\n",
       "      <td>01:17:58</td>\n",
       "      <td>0.0135</td>\n",
       "      <td>-0.0165</td>\n",
       "      <td>0.0300</td>\n",
       "      <td>0</td>\n",
       "    </tr>\n",
       "    <tr>\n",
       "      <th>1697</th>\n",
       "      <td>NZDUSD</td>\n",
       "      <td>2018.09.28</td>\n",
       "      <td>00:37:25</td>\n",
       "      <td>2018.09.28</td>\n",
       "      <td>01:41:53</td>\n",
       "      <td>-0.0439</td>\n",
       "      <td>-0.0938</td>\n",
       "      <td>0.0499</td>\n",
       "      <td>0</td>\n",
       "    </tr>\n",
       "    <tr>\n",
       "      <th>1698</th>\n",
       "      <td>NZDUSD</td>\n",
       "      <td>2018.10.01</td>\n",
       "      <td>00:22:18</td>\n",
       "      <td>2018.10.01</td>\n",
       "      <td>02:01:01</td>\n",
       "      <td>0.1239</td>\n",
       "      <td>0.0665</td>\n",
       "      <td>0.0575</td>\n",
       "      <td>4</td>\n",
       "    </tr>\n",
       "    <tr>\n",
       "      <th>1699</th>\n",
       "      <td>NZDUSD</td>\n",
       "      <td>2018.10.02</td>\n",
       "      <td>00:08:26</td>\n",
       "      <td>2018.10.02</td>\n",
       "      <td>01:25:28</td>\n",
       "      <td>-0.2103</td>\n",
       "      <td>-0.2648</td>\n",
       "      <td>0.0545</td>\n",
       "      <td>3</td>\n",
       "    </tr>\n",
       "    <tr>\n",
       "      <th>1700</th>\n",
       "      <td>NZDUSD</td>\n",
       "      <td>2018.10.03</td>\n",
       "      <td>00:22:46</td>\n",
       "      <td>2018.10.03</td>\n",
       "      <td>02:08:00</td>\n",
       "      <td>-0.0304</td>\n",
       "      <td>-0.0850</td>\n",
       "      <td>0.0546</td>\n",
       "      <td>5</td>\n",
       "    </tr>\n",
       "    <tr>\n",
       "      <th>1701</th>\n",
       "      <td>NZDUSD</td>\n",
       "      <td>2018.10.09</td>\n",
       "      <td>00:20:40</td>\n",
       "      <td>2018.10.09</td>\n",
       "      <td>01:26:05</td>\n",
       "      <td>0.0589</td>\n",
       "      <td>0.0093</td>\n",
       "      <td>0.0496</td>\n",
       "      <td>1</td>\n",
       "    </tr>\n",
       "    <tr>\n",
       "      <th>1702</th>\n",
       "      <td>NZDUSD</td>\n",
       "      <td>2018.10.09</td>\n",
       "      <td>22:58:27</td>\n",
       "      <td>2018.10.10</td>\n",
       "      <td>01:30:54</td>\n",
       "      <td>-0.1577</td>\n",
       "      <td>-0.2040</td>\n",
       "      <td>0.0464</td>\n",
       "      <td>3</td>\n",
       "    </tr>\n",
       "    <tr>\n",
       "      <th>1703</th>\n",
       "      <td>NZDUSD</td>\n",
       "      <td>2018.10.10</td>\n",
       "      <td>23:51:28</td>\n",
       "      <td>2018.10.11</td>\n",
       "      <td>00:35:16</td>\n",
       "      <td>0.0714</td>\n",
       "      <td>0.0124</td>\n",
       "      <td>0.0589</td>\n",
       "      <td>0</td>\n",
       "    </tr>\n",
       "    <tr>\n",
       "      <th>1704</th>\n",
       "      <td>NZDUSD</td>\n",
       "      <td>2018.10.11</td>\n",
       "      <td>23:49:00</td>\n",
       "      <td>2018.10.12</td>\n",
       "      <td>00:45:16</td>\n",
       "      <td>0.0092</td>\n",
       "      <td>-0.0490</td>\n",
       "      <td>0.0582</td>\n",
       "      <td>1</td>\n",
       "    </tr>\n",
       "    <tr>\n",
       "      <th>1705</th>\n",
       "      <td>NZDUSD</td>\n",
       "      <td>2018.10.12</td>\n",
       "      <td>23:54:20</td>\n",
       "      <td>2018.10.15</td>\n",
       "      <td>01:35:50</td>\n",
       "      <td>0.1460</td>\n",
       "      <td>0.0937</td>\n",
       "      <td>0.0523</td>\n",
       "      <td>1</td>\n",
       "    </tr>\n",
       "    <tr>\n",
       "      <th>1706</th>\n",
       "      <td>NZDUSD</td>\n",
       "      <td>2018.10.16</td>\n",
       "      <td>00:44:29</td>\n",
       "      <td>2018.10.16</td>\n",
       "      <td>00:57:35</td>\n",
       "      <td>0.7122</td>\n",
       "      <td>0.6602</td>\n",
       "      <td>0.0520</td>\n",
       "      <td>0</td>\n",
       "    </tr>\n",
       "    <tr>\n",
       "      <th>1707</th>\n",
       "      <td>NZDUSD</td>\n",
       "      <td>2018.10.17</td>\n",
       "      <td>00:10:17</td>\n",
       "      <td>2018.10.17</td>\n",
       "      <td>02:00:17</td>\n",
       "      <td>0.0152</td>\n",
       "      <td>-0.0365</td>\n",
       "      <td>0.0517</td>\n",
       "      <td>1</td>\n",
       "    </tr>\n",
       "    <tr>\n",
       "      <th>1708</th>\n",
       "      <td>NZDUSD</td>\n",
       "      <td>2018.10.23</td>\n",
       "      <td>23:59:57</td>\n",
       "      <td>2018.10.24</td>\n",
       "      <td>02:06:00</td>\n",
       "      <td>0.0107</td>\n",
       "      <td>-0.0428</td>\n",
       "      <td>0.0535</td>\n",
       "      <td>3</td>\n",
       "    </tr>\n",
       "    <tr>\n",
       "      <th>1709</th>\n",
       "      <td>NZDUSD</td>\n",
       "      <td>2018.10.31</td>\n",
       "      <td>00:51:35</td>\n",
       "      <td>2018.10.31</td>\n",
       "      <td>01:52:30</td>\n",
       "      <td>0.1114</td>\n",
       "      <td>0.0626</td>\n",
       "      <td>0.0488</td>\n",
       "      <td>0</td>\n",
       "    </tr>\n",
       "    <tr>\n",
       "      <th>1710</th>\n",
       "      <td>NZDUSD</td>\n",
       "      <td>2018.11.05</td>\n",
       "      <td>00:05:33</td>\n",
       "      <td>2018.11.05</td>\n",
       "      <td>00:31:11</td>\n",
       "      <td>0.1658</td>\n",
       "      <td>0.1175</td>\n",
       "      <td>0.0482</td>\n",
       "      <td>3</td>\n",
       "    </tr>\n",
       "  </tbody>\n",
       "</table>\n",
       "<p>1711 rows × 9 columns</p>\n",
       "</div>"
      ],
      "text/plain": [
       "       Asset          Di        Ti          Do        To    GROI     ROI  \\\n",
       "0     AUDCAD  2018.03.19  00:57:38  2018.03.19  01:36:09  0.0337  0.0079   \n",
       "1     AUDCAD  2018.03.20  02:51:09  2018.03.20  03:11:27  0.0407  0.0179   \n",
       "2     AUDCAD  2018.03.22  00:59:23  2018.03.22  01:30:28  0.0929  0.0679   \n",
       "3     AUDCAD  2018.03.22  02:30:14  2018.03.22  02:42:32 -0.1387 -0.1636   \n",
       "4     AUDCAD  2018.03.23  01:00:56  2018.03.23  01:13:22 -0.0392 -0.0643   \n",
       "5     AUDCAD  2018.03.26  00:13:48  2018.03.26  01:01:16  0.0413  0.0111   \n",
       "6     AUDCAD  2018.03.28  23:43:57  2018.03.29  01:00:00  0.0808  0.0262   \n",
       "7     AUDCAD  2018.03.30  02:16:01  2018.03.30  02:26:22  0.0718 -0.0071   \n",
       "8     AUDCAD  2018.03.30  23:53:50  2018.04.02  01:53:14  0.0505  0.0212   \n",
       "9     AUDCAD  2018.04.03  00:14:29  2018.04.03  00:38:47  0.0253 -0.0162   \n",
       "10    AUDCAD  2018.04.05  00:08:52  2018.04.05  00:27:33  0.0843  0.0183   \n",
       "11    AUDCAD  2018.04.05  00:53:15  2018.04.05  01:03:06  0.0244 -0.0061   \n",
       "12    AUDCAD  2018.04.06  00:05:32  2018.04.06  00:37:16  0.0460  0.0133   \n",
       "13    AUDCAD  2018.04.09  00:33:45  2018.04.09  01:06:08  0.0337  0.0102   \n",
       "14    AUDCAD  2018.04.12  00:06:02  2018.04.12  00:29:32  0.1149  0.0410   \n",
       "15    AUDCAD  2018.04.13  00:09:27  2018.04.13  00:52:06  0.0338 -0.0533   \n",
       "16    AUDCAD  2018.04.16  00:06:47  2018.04.16  01:05:37  0.0327 -0.0296   \n",
       "17    AUDCAD  2018.04.17  00:10:28  2018.04.17  01:00:16  0.0471  0.0143   \n",
       "18    AUDCAD  2018.04.18  00:41:06  2018.04.18  01:29:19  0.0616  0.0339   \n",
       "19    AUDCAD  2018.04.20  23:43:42  2018.04.23  00:21:39 -0.0470 -0.2003   \n",
       "20    AUDCAD  2018.04.24  00:13:51  2018.04.24  00:52:30  0.0123 -0.0297   \n",
       "21    AUDCAD  2018.04.25  00:29:51  2018.04.25  00:53:25  0.0236 -0.0308   \n",
       "22    AUDCAD  2018.04.26  00:05:31  2018.04.26  00:41:49  0.0402 -0.0062   \n",
       "23    AUDCAD  2018.04.27  00:31:53  2018.04.27  01:17:43  0.0813  0.0556   \n",
       "24    AUDCAD  2018.04.30  00:54:23  2018.04.30  01:07:44  0.0411 -0.0062   \n",
       "25    AUDCAD  2018.05.03  00:05:48  2018.05.03  00:59:34  0.0280 -0.0176   \n",
       "26    AUDCAD  2018.05.03  02:17:37  2018.05.03  02:58:46  0.0207 -0.0031   \n",
       "27    AUDCAD  2018.05.04  00:08:30  2018.05.04  00:29:44  0.0455  0.0000   \n",
       "28    AUDCAD  2018.05.08  00:08:32  2018.05.08  00:29:55 -0.0010 -0.0413   \n",
       "29    AUDCAD  2018.05.14  01:00:05  2018.05.14  01:39:24  0.0021 -0.0259   \n",
       "...      ...         ...       ...         ...       ...     ...     ...   \n",
       "1681  NZDUSD  2018.08.15  23:38:24  2018.08.15  23:57:56  0.0518  0.0152   \n",
       "1682  NZDUSD  2018.08.17  01:04:05  2018.08.17  01:36:55  0.0349 -0.0015   \n",
       "1683  NZDUSD  2018.08.17  23:55:06  2018.08.20  00:40:04  0.0513 -0.0030   \n",
       "1684  NZDUSD  2018.08.21  23:48:39  2018.08.22  00:21:52  0.1180  0.0045   \n",
       "1685  NZDUSD  2018.08.23  00:25:00  2018.08.23  01:43:02  0.0837  0.0508   \n",
       "1686  NZDUSD  2018.08.29  00:08:42  2018.08.29  00:53:20  0.0388 -0.0045   \n",
       "1687  NZDUSD  2018.09.05  00:10:14  2018.09.05  00:17:51  0.0565 -0.0397   \n",
       "1688  NZDUSD  2018.09.14  00:09:13  2018.09.14  00:53:36  0.1586  0.0794   \n",
       "1689  NZDUSD  2018.09.18  00:08:32  2018.09.18  01:02:10  0.1994  0.1583   \n",
       "1690  NZDUSD  2018.09.18  23:40:24  2018.09.19  01:20:38 -0.0790 -0.1124   \n",
       "1691  NZDUSD  2018.09.19  01:45:18  2018.09.19  02:21:37  0.0380  0.0046   \n",
       "1692  NZDUSD  2018.09.20  00:21:35  2018.09.20  01:19:24 -0.1467 -0.1800   \n",
       "1693  NZDUSD  2018.09.21  00:31:12  2018.09.21  01:04:28  0.0898  0.0569   \n",
       "1694  NZDUSD  2018.09.24  00:07:58  2018.09.24  01:20:09  0.0120 -0.0195   \n",
       "1695  NZDUSD  2018.09.26  00:48:10  2018.09.26  02:06:52 -0.0738 -0.1069   \n",
       "1696  NZDUSD  2018.09.27  00:36:55  2018.09.27  01:17:58  0.0135 -0.0165   \n",
       "1697  NZDUSD  2018.09.28  00:37:25  2018.09.28  01:41:53 -0.0439 -0.0938   \n",
       "1698  NZDUSD  2018.10.01  00:22:18  2018.10.01  02:01:01  0.1239  0.0665   \n",
       "1699  NZDUSD  2018.10.02  00:08:26  2018.10.02  01:25:28 -0.2103 -0.2648   \n",
       "1700  NZDUSD  2018.10.03  00:22:46  2018.10.03  02:08:00 -0.0304 -0.0850   \n",
       "1701  NZDUSD  2018.10.09  00:20:40  2018.10.09  01:26:05  0.0589  0.0093   \n",
       "1702  NZDUSD  2018.10.09  22:58:27  2018.10.10  01:30:54 -0.1577 -0.2040   \n",
       "1703  NZDUSD  2018.10.10  23:51:28  2018.10.11  00:35:16  0.0714  0.0124   \n",
       "1704  NZDUSD  2018.10.11  23:49:00  2018.10.12  00:45:16  0.0092 -0.0490   \n",
       "1705  NZDUSD  2018.10.12  23:54:20  2018.10.15  01:35:50  0.1460  0.0937   \n",
       "1706  NZDUSD  2018.10.16  00:44:29  2018.10.16  00:57:35  0.7122  0.6602   \n",
       "1707  NZDUSD  2018.10.17  00:10:17  2018.10.17  02:00:17  0.0152 -0.0365   \n",
       "1708  NZDUSD  2018.10.23  23:59:57  2018.10.24  02:06:00  0.0107 -0.0428   \n",
       "1709  NZDUSD  2018.10.31  00:51:35  2018.10.31  01:52:30  0.1114  0.0626   \n",
       "1710  NZDUSD  2018.11.05  00:05:33  2018.11.05  00:31:11  0.1658  0.1175   \n",
       "\n",
       "      spread  ext  \n",
       "0     0.0257    0  \n",
       "1     0.0228    0  \n",
       "2     0.0250    0  \n",
       "3     0.0249    0  \n",
       "4     0.0251    0  \n",
       "5     0.0302    0  \n",
       "6     0.0546    3  \n",
       "7     0.0789    0  \n",
       "8     0.0293    1  \n",
       "9     0.0415    1  \n",
       "10    0.0660    2  \n",
       "11    0.0305    0  \n",
       "12    0.0327    0  \n",
       "13    0.0235    1  \n",
       "14    0.0739    0  \n",
       "15    0.0871    1  \n",
       "16    0.0624    1  \n",
       "17    0.0327    0  \n",
       "18    0.0277    0  \n",
       "19    0.1533    1  \n",
       "20    0.0420    0  \n",
       "21    0.0544    0  \n",
       "22    0.0463    1  \n",
       "23    0.0257    0  \n",
       "24    0.0473    0  \n",
       "25    0.0456    2  \n",
       "26    0.0239    0  \n",
       "27    0.0455    0  \n",
       "28    0.0403    1  \n",
       "29    0.0280    0  \n",
       "...      ...  ...  \n",
       "1681  0.0365    0  \n",
       "1682  0.0365    0  \n",
       "1683  0.0543    1  \n",
       "1684  0.1135    0  \n",
       "1685  0.0329    1  \n",
       "1686  0.0433    2  \n",
       "1687  0.0962    0  \n",
       "1688  0.0792    2  \n",
       "1689  0.0411    1  \n",
       "1690  0.0334    0  \n",
       "1691  0.0334    0  \n",
       "1692  0.0333    2  \n",
       "1693  0.0329    1  \n",
       "1694  0.0315    1  \n",
       "1695  0.0331    0  \n",
       "1696  0.0300    0  \n",
       "1697  0.0499    0  \n",
       "1698  0.0575    4  \n",
       "1699  0.0545    3  \n",
       "1700  0.0546    5  \n",
       "1701  0.0496    1  \n",
       "1702  0.0464    3  \n",
       "1703  0.0589    0  \n",
       "1704  0.0582    1  \n",
       "1705  0.0523    1  \n",
       "1706  0.0520    0  \n",
       "1707  0.0517    1  \n",
       "1708  0.0535    3  \n",
       "1709  0.0488    0  \n",
       "1710  0.0482    3  \n",
       "\n",
       "[1711 rows x 9 columns]"
      ]
     },
     "execution_count": 26,
     "metadata": {},
     "output_type": "execute_result"
    }
   ],
   "source": [
    "import pandas as pd\n",
    "positions = pd.read_csv('../../RNN/results/100318R20/positions/P_E29TI0MC0.5MD0.75.csv',sep='\\t')\n",
    "#positions = pd.read_csv('../../RNN/results/100318INVO/positions/P_E15TI1MC0.7MD0.7.csv',sep='\\t')\n",
    "positions"
   ]
  },
  {
   "cell_type": "code",
   "execution_count": 90,
   "metadata": {},
   "outputs": [
    {
     "name": "stdout",
     "output_type": "stream",
     "text": [
      "34\n",
      "1.9871420222092344\n",
      "82.46639392168322\n",
      "61.76470588235294\n",
      "37.697253068381066\n",
      "52.94117647058823\n",
      "0.06059999999999997\n",
      "25.48230000000001\n",
      "['EURCAD' 'EURCHF' 'EURGBP' 'EURUSD' 'GBPUSD' 'USDCAD' 'USDCHF' 'USDJPY'\n",
      " 'EURJPY' 'GBPJPY']\n"
     ]
    }
   ],
   "source": [
    "positions = pd.read_csv('../../RNN/results/100318R20/positions/P_E29TI0MC0.5MD0.75.csv',sep='\\t')\n",
    "pos_under_2p = positions['spread']<0.01\n",
    "per_under_2p = 100*sum(pos_under_2p)/positions.shape[0]\n",
    "tgsr = 100*sum(positions['GROI']>0)/positions.shape[0]\n",
    "gsr = 100*sum(positions[pos_under_2p]['GROI']>0)/sum(pos_under_2p)\n",
    "tsr = 100*sum(positions['ROI']>0)/positions.shape[0]\n",
    "sr = 100*sum(positions[pos_under_2p]['ROI']>0)/sum(pos_under_2p)\n",
    "print(positions[pos_under_2p].shape[0])\n",
    "print(per_under_2p)\n",
    "print(tgsr)\n",
    "print(gsr)\n",
    "print(tsr)\n",
    "print(sr)\n",
    "print(positions[pos_under_2p]['ROI'].sum())\n",
    "print(positions['GROI'].sum()-0.02*positions['GROI'].shape[0])\n",
    "print(positions['Asset'][pos_under_2p].unique())"
   ]
  },
  {
   "cell_type": "code",
   "execution_count": 89,
   "metadata": {},
   "outputs": [
    {
     "name": "stderr",
     "output_type": "stream",
     "text": [
      "C:\\ProgramData\\Anaconda3\\envs\\py35\\lib\\site-packages\\h5py\\__init__.py:36: FutureWarning: Conversion of the second argument of issubdtype from `float` to `np.floating` is deprecated. In future, it will be treated as `np.float64 == np.dtype(float).type`.\n",
      "  from ._conv import register_converters as _register_converters\n"
     ]
    },
    {
     "name": "stdout",
     "output_type": "stream",
     "text": [
      "Config file ../../config/C0327INVO.config loaded from disk\n",
      "IDresults: 100327R20\n",
      "INFO:tensorflow:Restoring parameters from ../../RNN/weights/000327INVO/000009/000009\n",
      "Parameters loaded. Epoch 9\n",
      "Epoch 9 of 9. Getting output...\n"
     ]
    },
    {
     "name": "stderr",
     "output_type": "stream",
     "text": [
      "100%|██████████████████████████████████████████████████████████████████████████████████| 35/35 [03:43<00:00,  5.75s/it]\n"
     ]
    },
    {
     "name": "stdout",
     "output_type": "stream",
     "text": [
      "Getting results\n",
      "Epoch 9, J_train = 6.471134484857639, J_test = 6.279867172241211\n"
     ]
    },
    {
     "name": "stderr",
     "output_type": "stream",
     "text": [
      "0it [00:00, ?it/s]\n",
      "C:\\ProgramData\\Anaconda3\\envs\\py35\\lib\\site-packages\\numpy\\core\\fromnumeric.py:3194: RuntimeWarning: Degrees of freedom <= 0 for slice\n",
      "  **kwargs)\n",
      "C:\\ProgramData\\Anaconda3\\envs\\py35\\lib\\site-packages\\numpy\\core\\_methods.py:105: RuntimeWarning: invalid value encountered in true_divide\n",
      "  arrmean, rcount, out=arrmean, casting='unsafe', subok=False)\n",
      "C:\\ProgramData\\Anaconda3\\envs\\py35\\lib\\site-packages\\numpy\\core\\_methods.py:127: RuntimeWarning: invalid value encountered in double_scalars\n",
      "  ret = ret.dtype.type(ret / rcount)\n"
     ]
    },
    {
     "name": "stdout",
     "output_type": "stream",
     "text": [
      "Epoch = 9. Time index = 0. Threshold MC = 0.5. Threshold MD = 0.5\n",
      "J_test = 6.279867172241211, J_train = 6.471134484857639, Accuracy=0.5410604425240708\n",
      "RD = 397005 NZ = 762211 NZA = 1473208 pNZ = 44.159% pNZA = 85.351% AD = 52.09% ADA = 26.95% NO = 1 GSP = 0.00% NSP = 0.00%\n",
      "SI2 = -0.55 SI = -0.55 eGROI = 0.00% eROI = 0.00% eROI2 = 0.00% eROI3 = 0.00% mSpread = 0.0000%\n"
     ]
    },
    {
     "name": "stderr",
     "output_type": "stream",
     "text": [
      "100%|████████████████████████████████████████████████████████████████████████| 138844/138844 [00:32<00:00, 4274.73it/s]\n"
     ]
    },
    {
     "name": "stdout",
     "output_type": "stream",
     "text": [
      "Epoch = 9. Time index = 0. Threshold MC = 0.5. Threshold MD = 0.55\n",
      "RD = 44280 NZ = 75030 NZA = 138845 pNZ = 4.347% pNZA = 8.044% AD = 59.02% ADA = 31.89% NO = 23717 GSP = 57.22% NSP = 42.88%\n",
      "SI2 = -2493.35 SI = -2875.35 eGROI = 102.83% eROI = -421.93% eROI2 = -371.51% eROI3 = -608.68% mSpread = 0.0221%\n"
     ]
    },
    {
     "name": "stderr",
     "output_type": "stream",
     "text": [
      "100%|██████████████████████████████████████████████████████████████████████████| 32279/32279 [00:07<00:00, 4545.26it/s]\n"
     ]
    },
    {
     "name": "stdout",
     "output_type": "stream",
     "text": [
      "Epoch = 9. Time index = 0. Threshold MC = 0.5. Threshold MD = 0.6\n",
      "RD = 11309 NZ = 16300 NZA = 32280 pNZ = 0.944% pNZA = 1.870% AD = 69.38% ADA = 35.03% NO = 6128 GSP = 57.00% NSP = 37.73%\n",
      "SI2 = -717.40 SI = -1058.40 eGROI = 42.12% eROI = -128.36% eROI2 = -80.44% eROI3 = -141.72% mSpread = 0.0278%\n"
     ]
    },
    {
     "name": "stderr",
     "output_type": "stream",
     "text": [
      "100%|██████████████████████████████████████████████████████████████████████████| 12091/12091 [00:03<00:00, 3303.33it/s]\n"
     ]
    },
    {
     "name": "stdout",
     "output_type": "stream",
     "text": [
      "Epoch = 9. Time index = 0. Threshold MC = 0.5. Threshold MD = 0.65\n",
      "RD = 4799 NZ = 6200 NZA = 12092 pNZ = 0.359% pNZA = 0.701% AD = 77.40% ADA = 39.69% NO = 3448 GSP = 56.12% NSP = 31.61%\n",
      "SI2 = -519.40 SI = -806.40 eGROI = 15.43% eROI = -96.97% eROI2 = -53.53% eROI3 = -88.01% mSpread = 0.0326%\n"
     ]
    },
    {
     "name": "stderr",
     "output_type": "stream",
     "text": [
      "100%|████████████████████████████████████████████████████████████████████████████| 4360/4360 [00:01<00:00, 2947.82it/s]\n"
     ]
    },
    {
     "name": "stdout",
     "output_type": "stream",
     "text": [
      "Epoch = 9. Time index = 0. Threshold MC = 0.5. Threshold MD = 0.7\n",
      "RD = 1988 NZ = 2337 NZA = 4361 pNZ = 0.135% pNZA = 0.253% AD = 85.07% ADA = 45.59% NO = 1931 GSP = 53.13% NSP = 27.50%\n",
      "SI2 = -365.05 SI = -531.05 eGROI = 3.06% eROI = -65.72% eROI2 = -35.56% eROI3 = -54.87% mSpread = 0.0356%\n"
     ]
    },
    {
     "name": "stderr",
     "output_type": "stream",
     "text": [
      "100%|████████████████████████████████████████████████████████████████████████████| 1777/1777 [00:00<00:00, 2437.40it/s]\n"
     ]
    },
    {
     "name": "stdout",
     "output_type": "stream",
     "text": [
      "Epoch = 9. Time index = 0. Threshold MC = 0.5. Threshold MD = 0.75\n",
      "RD = 904 NZ = 1002 NZA = 1778 pNZ = 0.058% pNZA = 0.103% AD = 90.22% ADA = 50.84% NO = 1026 GSP = 49.90% NSP = 23.39%\n",
      "SI2 = -236.30 SI = -324.30 eGROI = 0.73% eROI = -38.93% eROI2 = -19.79% eROI3 = -30.05% mSpread = 0.0386%\n"
     ]
    },
    {
     "name": "stderr",
     "output_type": "stream",
     "text": [
      "100%|██████████████████████████████████████████████████████████████████████████████| 521/521 [00:00<00:00, 1963.87it/s]\n"
     ]
    },
    {
     "name": "stdout",
     "output_type": "stream",
     "text": [
      "Epoch = 9. Time index = 0. Threshold MC = 0.5. Threshold MD = 0.8\n",
      "RD = 293 NZ = 309 NZA = 522 pNZ = 0.018% pNZA = 0.030% AD = 94.82% ADA = 56.13% NO = 398 GSP = 50.75% NSP = 22.36%\n",
      "SI2 = -102.90 SI = -129.90 eGROI = 0.56% eROI = -15.74% eROI2 = -7.40% eROI3 = -11.38% mSpread = 0.0410%\n"
     ]
    },
    {
     "name": "stderr",
     "output_type": "stream",
     "text": [
      "100%|████████████████████████████████████████████████████████████████████████████████| 16/16 [00:00<00:00, 1604.36it/s]\n"
     ]
    },
    {
     "name": "stdout",
     "output_type": "stream",
     "text": [
      "Epoch = 9. Time index = 0. Threshold MC = 0.5. Threshold MD = 0.85\n",
      "RD = 13 NZ = 13 NZA = 17 pNZ = 0.001% pNZA = 0.001% AD = 100.00% ADA = 76.47% NO = 16 GSP = 75.00% NSP = 31.25%\n",
      "SI2 = -1.80 SI = -3.80 eGROI = 0.37% eROI = -0.23% eROI2 = 0.05% eROI3 = -0.11% mSpread = 0.0374%\n"
     ]
    },
    {
     "name": "stderr",
     "output_type": "stream",
     "text": [
      "0it [00:00, ?it/s]\n"
     ]
    },
    {
     "name": "stdout",
     "output_type": "stream",
     "text": [
      "Epoch = 9. Time index = 0. Threshold MC = 0.5. Threshold MD = 0.9\n",
      "RD = 0 NZ = 0 NZA = 0 pNZ = 0.000% pNZA = 0.000% AD = 0.00% ADA = 0.00% NO = 1 GSP = 0.00% NSP = 0.00%\n",
      "SI2 = -0.55 SI = -0.55 eGROI = 0.00% eROI = 0.00% eROI2 = 0.00% eROI3 = 0.00% mSpread = 0.0000%\n"
     ]
    },
    {
     "name": "stderr",
     "output_type": "stream",
     "text": [
      "0it [00:00, ?it/s]\n"
     ]
    },
    {
     "name": "stdout",
     "output_type": "stream",
     "text": [
      "Epoch = 9. Time index = 0. Threshold MC = 0.5. Threshold MD = 0.95\n",
      "RD = 0 NZ = 0 NZA = 0 pNZ = 0.000% pNZA = 0.000% AD = 0.00% ADA = 0.00% NO = 1 GSP = 0.00% NSP = 0.00%\n",
      "SI2 = -0.55 SI = -0.55 eGROI = 0.00% eROI = 0.00% eROI2 = 0.00% eROI3 = 0.00% mSpread = 0.0000%\n",
      "\n"
     ]
    },
    {
     "name": "stderr",
     "output_type": "stream",
     "text": [
      "0it [00:00, ?it/s]\n"
     ]
    },
    {
     "name": "stdout",
     "output_type": "stream",
     "text": [
      "Epoch = 9. Time index = 0. Threshold MC = 0.55. Threshold MD = 0.5\n",
      "RD = 294402 NZ = 561892 NZA = 1018972 pNZ = 32.554% pNZA = 59.035% AD = 52.39% ADA = 28.89% NO = 1 GSP = 0.00% NSP = 0.00%\n",
      "SI2 = -0.55 SI = -0.55 eGROI = 0.00% eROI = 0.00% eROI2 = 0.00% eROI3 = 0.00% mSpread = 0.0000%\n"
     ]
    },
    {
     "name": "stderr",
     "output_type": "stream",
     "text": [
      "100%|████████████████████████████████████████████████████████████████████████| 103499/103499 [00:29<00:00, 3550.52it/s]\n"
     ]
    },
    {
     "name": "stdout",
     "output_type": "stream",
     "text": [
      "Epoch = 9. Time index = 0. Threshold MC = 0.55. Threshold MD = 0.55\n",
      "RD = 35487 NZ = 59897 NZA = 103500 pNZ = 3.470% pNZA = 5.996% AD = 59.25% ADA = 34.29% NO = 20505 GSP = 57.17% NSP = 43.40%\n",
      "SI2 = -2026.75 SI = -2378.75 eGROI = 92.53% eROI = -367.28% eROI2 = -317.57% eROI3 = -522.62% mSpread = 0.0224%\n"
     ]
    },
    {
     "name": "stderr",
     "output_type": "stream",
     "text": [
      "100%|██████████████████████████████████████████████████████████████████████████| 24207/24207 [00:08<00:00, 2800.45it/s]\n"
     ]
    },
    {
     "name": "stdout",
     "output_type": "stream",
     "text": [
      "Epoch = 9. Time index = 0. Threshold MC = 0.55. Threshold MD = 0.6\n",
      "RD = 9096 NZ = 13105 NZA = 24208 pNZ = 0.759% pNZA = 1.403% AD = 69.41% ADA = 37.57% NO = 5344 GSP = 57.39% NSP = 37.41%\n",
      "SI2 = -581.20 SI = -940.20 eGROI = 37.38% eROI = -116.46% eROI2 = -69.50% eROI3 = -122.94% mSpread = 0.0288%\n"
     ]
    },
    {
     "name": "stderr",
     "output_type": "stream",
     "text": [
      "100%|████████████████████████████████████████████████████████████████████████████| 9118/9118 [00:03<00:00, 2576.75it/s]\n"
     ]
    },
    {
     "name": "stdout",
     "output_type": "stream",
     "text": [
      "Epoch = 9. Time index = 0. Threshold MC = 0.55. Threshold MD = 0.65\n",
      "RD = 3861 NZ = 4986 NZA = 9119 pNZ = 0.289% pNZA = 0.528% AD = 77.44% ADA = 42.34% NO = 2898 GSP = 57.35% NSP = 31.99%\n",
      "SI2 = -402.90 SI = -666.90 eGROI = 17.90% eROI = -81.53% eROI2 = -40.06% eROI3 = -69.04% mSpread = 0.0343%\n"
     ]
    },
    {
     "name": "stderr",
     "output_type": "stream",
     "text": [
      "100%|████████████████████████████████████████████████████████████████████████████| 3154/3154 [00:01<00:00, 2361.76it/s]\n"
     ]
    },
    {
     "name": "stdout",
     "output_type": "stream",
     "text": [
      "Epoch = 9. Time index = 0. Threshold MC = 0.55. Threshold MD = 0.7\n",
      "RD = 1565 NZ = 1835 NZA = 3155 pNZ = 0.106% pNZA = 0.183% AD = 85.29% ADA = 49.60% NO = 1542 GSP = 55.25% NSP = 28.66%\n",
      "SI2 = -255.10 SI = -406.10 eGROI = 5.70% eROI = -51.79% eROI2 = -25.14% eROI3 = -40.56% mSpread = 0.0373%\n"
     ]
    },
    {
     "name": "stderr",
     "output_type": "stream",
     "text": [
      "100%|████████████████████████████████████████████████████████████████████████████| 1315/1315 [00:00<00:00, 2277.22it/s]\n"
     ]
    },
    {
     "name": "stdout",
     "output_type": "stream",
     "text": [
      "Epoch = 9. Time index = 0. Threshold MC = 0.55. Threshold MD = 0.75\n",
      "RD = 742 NZ = 819 NZA = 1316 pNZ = 0.047% pNZA = 0.076% AD = 90.60% ADA = 56.38% NO = 805 GSP = 51.06% NSP = 25.09%\n",
      "SI2 = -175.75 SI = -240.75 eGROI = 1.41% eROI = -30.31% eROI2 = -14.69% eROI3 = -22.74% mSpread = 0.0394%\n"
     ]
    },
    {
     "name": "stderr",
     "output_type": "stream",
     "text": [
      "100%|██████████████████████████████████████████████████████████████████████████████| 416/416 [00:00<00:00, 1967.49it/s]\n"
     ]
    },
    {
     "name": "stdout",
     "output_type": "stream",
     "text": [
      "Epoch = 9. Time index = 0. Threshold MC = 0.55. Threshold MD = 0.8\n",
      "RD = 253 NZ = 265 NZA = 417 pNZ = 0.015% pNZA = 0.024% AD = 95.47% ADA = 60.67% NO = 327 GSP = 53.82% NSP = 23.24%\n",
      "SI2 = -74.85 SI = -103.85 eGROI = 1.55% eROI = -11.92% eROI2 = -4.99% eROI3 = -8.26% mSpread = 0.0412%\n"
     ]
    },
    {
     "name": "stderr",
     "output_type": "stream",
     "text": [
      "100%|████████████████████████████████████████████████████████████████████████████████| 15/15 [00:00<00:00, 1503.33it/s]\n"
     ]
    },
    {
     "name": "stdout",
     "output_type": "stream",
     "text": [
      "Epoch = 9. Time index = 0. Threshold MC = 0.55. Threshold MD = 0.85\n",
      "RD = 13 NZ = 13 NZA = 16 pNZ = 0.001% pNZA = 0.001% AD = 100.00% ADA = 81.25% NO = 16 GSP = 75.00% NSP = 31.25%\n",
      "SI2 = -1.80 SI = -3.80 eGROI = 0.38% eROI = -0.22% eROI2 = 0.06% eROI3 = -0.10% mSpread = 0.0374%\n"
     ]
    },
    {
     "name": "stderr",
     "output_type": "stream",
     "text": [
      "0it [00:00, ?it/s]\n"
     ]
    },
    {
     "name": "stdout",
     "output_type": "stream",
     "text": [
      "Epoch = 9. Time index = 0. Threshold MC = 0.55. Threshold MD = 0.9\n",
      "RD = 0 NZ = 0 NZA = 0 pNZ = 0.000% pNZA = 0.000% AD = 0.00% ADA = 0.00% NO = 1 GSP = 0.00% NSP = 0.00%\n",
      "SI2 = -0.55 SI = -0.55 eGROI = 0.00% eROI = 0.00% eROI2 = 0.00% eROI3 = 0.00% mSpread = 0.0000%\n"
     ]
    },
    {
     "name": "stderr",
     "output_type": "stream",
     "text": [
      "0it [00:00, ?it/s]\n"
     ]
    },
    {
     "name": "stdout",
     "output_type": "stream",
     "text": [
      "Epoch = 9. Time index = 0. Threshold MC = 0.55. Threshold MD = 0.95\n",
      "RD = 0 NZ = 0 NZA = 0 pNZ = 0.000% pNZA = 0.000% AD = 0.00% ADA = 0.00% NO = 1 GSP = 0.00% NSP = 0.00%\n",
      "SI2 = -0.55 SI = -0.55 eGROI = 0.00% eROI = 0.00% eROI2 = 0.00% eROI3 = 0.00% mSpread = 0.0000%\n",
      "\n"
     ]
    },
    {
     "name": "stderr",
     "output_type": "stream",
     "text": [
      "0it [00:00, ?it/s]\n"
     ]
    },
    {
     "name": "stdout",
     "output_type": "stream",
     "text": [
      "Epoch = 9. Time index = 0. Threshold MC = 0.6. Threshold MD = 0.5\n",
      "RD = 121454 NZ = 227015 NZA = 373328 pNZ = 13.152% pNZA = 21.629% AD = 53.50% ADA = 32.53% NO = 1 GSP = 0.00% NSP = 0.00%\n",
      "SI2 = -0.55 SI = -0.55 eGROI = 0.00% eROI = 0.00% eROI2 = 0.00% eROI3 = 0.00% mSpread = 0.0000%\n"
     ]
    },
    {
     "name": "stderr",
     "output_type": "stream",
     "text": [
      "100%|██████████████████████████████████████████████████████████████████████████| 68003/68003 [00:18<00:00, 3671.14it/s]\n"
     ]
    },
    {
     "name": "stdout",
     "output_type": "stream",
     "text": [
      "Epoch = 9. Time index = 0. Threshold MC = 0.6. Threshold MD = 0.55\n",
      "RD = 25000 NZ = 41940 NZA = 68004 pNZ = 2.430% pNZA = 3.940% AD = 59.61% ADA = 36.76% NO = 14524 GSP = 57.24% NSP = 44.20%\n",
      "SI2 = -1265.20 SI = -1569.20 eGROI = 71.86% eROI = -258.70% eROI2 = -218.62% eROI3 = -363.86% mSpread = 0.0228%\n"
     ]
    },
    {
     "name": "stderr",
     "output_type": "stream",
     "text": [
      "100%|██████████████████████████████████████████████████████████████████████████| 16853/16853 [00:04<00:00, 3797.31it/s]\n"
     ]
    },
    {
     "name": "stdout",
     "output_type": "stream",
     "text": [
      "Epoch = 9. Time index = 0. Threshold MC = 0.6. Threshold MD = 0.6\n",
      "RD = 6745 NZ = 9759 NZA = 16854 pNZ = 0.565% pNZA = 0.976% AD = 69.12% ADA = 40.02% NO = 4317 GSP = 58.05% NSP = 39.01%\n",
      "SI2 = -403.35 SI = -690.35 eGROI = 36.75% eROI = -90.94% eROI2 = -49.59% eROI3 = -92.76% mSpread = 0.0296%\n"
     ]
    },
    {
     "name": "stderr",
     "output_type": "stream",
     "text": [
      "100%|████████████████████████████████████████████████████████████████████████████| 6480/6480 [00:02<00:00, 2393.10it/s]\n"
     ]
    },
    {
     "name": "stdout",
     "output_type": "stream",
     "text": [
      "Epoch = 9. Time index = 0. Threshold MC = 0.6. Threshold MD = 0.65\n",
      "RD = 2913 NZ = 3715 NZA = 6481 pNZ = 0.215% pNZA = 0.375% AD = 78.41% ADA = 44.95% NO = 2308 GSP = 59.58% NSP = 34.19%\n",
      "SI2 = -226.40 SI = -480.40 eGROI = 22.10% eROI = -60.17% eROI2 = -24.06% eROI3 = -47.14% mSpread = 0.0356%\n"
     ]
    },
    {
     "name": "stderr",
     "output_type": "stream",
     "text": [
      "100%|████████████████████████████████████████████████████████████████████████████| 2196/2196 [00:00<00:00, 3286.14it/s]\n"
     ]
    },
    {
     "name": "stdout",
     "output_type": "stream",
     "text": [
      "Epoch = 9. Time index = 0. Threshold MC = 0.6. Threshold MD = 0.7\n",
      "RD = 1164 NZ = 1348 NZA = 2197 pNZ = 0.078% pNZA = 0.127% AD = 86.35% ADA = 52.98% NO = 1192 GSP = 56.96% NSP = 30.29%\n",
      "SI2 = -164.60 SI = -294.60 eGROI = 6.81% eROI = -39.52% eROI2 = -17.03% eROI3 = -28.95% mSpread = 0.0389%\n"
     ]
    },
    {
     "name": "stderr",
     "output_type": "stream",
     "text": [
      "100%|██████████████████████████████████████████████████████████████████████████████| 885/885 [00:00<00:00, 2738.75it/s]\n"
     ]
    },
    {
     "name": "stdout",
     "output_type": "stream",
     "text": [
      "Epoch = 9. Time index = 0. Threshold MC = 0.6. Threshold MD = 0.75\n",
      "RD = 546 NZ = 592 NZA = 886 pNZ = 0.034% pNZA = 0.051% AD = 92.23% ADA = 61.63% NO = 600 GSP = 52.33% NSP = 26.17%\n",
      "SI2 = -122.00 SI = -173.00 eGROI = 1.32% eROI = -23.27% eROI2 = -10.68% eROI3 = -16.68% mSpread = 0.0410%\n"
     ]
    },
    {
     "name": "stderr",
     "output_type": "stream",
     "text": [
      "100%|██████████████████████████████████████████████████████████████████████████████| 311/311 [00:00<00:00, 2555.30it/s]\n"
     ]
    },
    {
     "name": "stdout",
     "output_type": "stream",
     "text": [
      "Epoch = 9. Time index = 0. Threshold MC = 0.6. Threshold MD = 0.8\n",
      "RD = 200 NZ = 208 NZA = 312 pNZ = 0.012% pNZA = 0.018% AD = 96.15% ADA = 64.10% NO = 255 GSP = 56.86% NSP = 25.49%\n",
      "SI2 = -53.25 SI = -75.25 eGROI = 2.11% eROI = -8.59% eROI2 = -2.99% eROI3 = -5.54% mSpread = 0.0419%\n"
     ]
    },
    {
     "name": "stderr",
     "output_type": "stream",
     "text": [
      "100%|████████████████████████████████████████████████████████████████████████████████| 14/14 [00:00<00:00, 1276.11it/s]\n"
     ]
    },
    {
     "name": "stdout",
     "output_type": "stream",
     "text": [
      "Epoch = 9. Time index = 0. Threshold MC = 0.6. Threshold MD = 0.85\n",
      "RD = 12 NZ = 12 NZA = 15 pNZ = 0.001% pNZA = 0.001% AD = 100.00% ADA = 80.00% NO = 15 GSP = 73.33% NSP = 26.67%\n",
      "SI2 = -2.25 SI = -4.25 eGROI = 0.32% eROI = -0.26% eROI2 = 0.02% eROI3 = -0.13% mSpread = 0.0385%\n"
     ]
    },
    {
     "name": "stderr",
     "output_type": "stream",
     "text": [
      "0it [00:00, ?it/s]\n"
     ]
    },
    {
     "name": "stdout",
     "output_type": "stream",
     "text": [
      "Epoch = 9. Time index = 0. Threshold MC = 0.6. Threshold MD = 0.9\n",
      "RD = 0 NZ = 0 NZA = 0 pNZ = 0.000% pNZA = 0.000% AD = 0.00% ADA = 0.00% NO = 1 GSP = 0.00% NSP = 0.00%\n",
      "SI2 = -0.55 SI = -0.55 eGROI = 0.00% eROI = 0.00% eROI2 = 0.00% eROI3 = 0.00% mSpread = 0.0000%\n"
     ]
    },
    {
     "name": "stderr",
     "output_type": "stream",
     "text": [
      "0it [00:00, ?it/s]\n"
     ]
    },
    {
     "name": "stdout",
     "output_type": "stream",
     "text": [
      "Epoch = 9. Time index = 0. Threshold MC = 0.6. Threshold MD = 0.95\n",
      "RD = 0 NZ = 0 NZA = 0 pNZ = 0.000% pNZA = 0.000% AD = 0.00% ADA = 0.00% NO = 1 GSP = 0.00% NSP = 0.00%\n",
      "SI2 = -0.55 SI = -0.55 eGROI = 0.00% eROI = 0.00% eROI2 = 0.00% eROI3 = 0.00% mSpread = 0.0000%\n",
      "\n"
     ]
    },
    {
     "name": "stderr",
     "output_type": "stream",
     "text": [
      "100%|██████████████████████████████████████████████████████████████████████████| 94644/94644 [00:19<00:00, 4914.03it/s]\n"
     ]
    },
    {
     "name": "stdout",
     "output_type": "stream",
     "text": [
      "Epoch = 9. Time index = 0. Threshold MC = 0.65. Threshold MD = 0.5\n",
      "RD = 34541 NZ = 62809 NZA = 94645 pNZ = 3.639% pNZA = 5.483% AD = 54.99% ADA = 36.50% NO = 10005 GSP = 56.63% NSP = 44.35%\n",
      "SI2 = -893.75 SI = -1065.75 eGROI = 67.20% eROI = -161.54% eROI2 = -132.90% eROI3 = -232.95% mSpread = 0.0229%\n"
     ]
    },
    {
     "name": "stderr",
     "output_type": "stream",
     "text": [
      "100%|██████████████████████████████████████████████████████████████████████████| 36122/36122 [00:08<00:00, 4383.18it/s]\n"
     ]
    },
    {
     "name": "stdout",
     "output_type": "stream",
     "text": [
      "Epoch = 9. Time index = 0. Threshold MC = 0.65. Threshold MD = 0.55\n",
      "RD = 14145 NZ = 23686 NZA = 36123 pNZ = 1.372% pNZA = 2.093% AD = 59.72% ADA = 39.16% NO = 8132 GSP = 57.44% NSP = 44.71%\n",
      "SI2 = -658.60 SI = -836.60 eGROI = 36.04% eROI = -153.29% eROI2 = -126.60% eROI3 = -207.92% mSpread = 0.0233%\n"
     ]
    },
    {
     "name": "stderr",
     "output_type": "stream",
     "text": [
      "100%|██████████████████████████████████████████████████████████████████████████| 10318/10318 [00:02<00:00, 3730.85it/s]\n"
     ]
    },
    {
     "name": "stdout",
     "output_type": "stream",
     "text": [
      "Epoch = 9. Time index = 0. Threshold MC = 0.65. Threshold MD = 0.6\n",
      "RD = 4373 NZ = 6431 NZA = 10319 pNZ = 0.373% pNZA = 0.598% AD = 68.00% ADA = 42.38% NO = 3176 GSP = 58.00% NSP = 40.11%\n",
      "SI2 = -284.80 SI = -472.80 eGROI = 26.60% eROI = -66.73% eROI2 = -36.92% eROI3 = -68.68% mSpread = 0.0294%\n"
     ]
    },
    {
     "name": "stderr",
     "output_type": "stream",
     "text": [
      "100%|████████████████████████████████████████████████████████████████████████████| 3848/3848 [00:01<00:00, 3147.03it/s]\n"
     ]
    },
    {
     "name": "stdout",
     "output_type": "stream",
     "text": [
      "Epoch = 9. Time index = 0. Threshold MC = 0.65. Threshold MD = 0.65\n",
      "RD = 1807 NZ = 2314 NZA = 3849 pNZ = 0.134% pNZA = 0.223% AD = 78.09% ADA = 46.95% NO = 1564 GSP = 60.23% NSP = 35.61%\n",
      "SI2 = -138.20 SI = -303.20 eGROI = 16.40% eROI = -40.35% eROI2 = -14.88% eROI3 = -30.52% mSpread = 0.0363%\n"
     ]
    },
    {
     "name": "stderr",
     "output_type": "stream",
     "text": [
      "100%|████████████████████████████████████████████████████████████████████████████| 1343/1343 [00:00<00:00, 2370.73it/s]\n"
     ]
    },
    {
     "name": "stdout",
     "output_type": "stream",
     "text": [
      "Epoch = 9. Time index = 0. Threshold MC = 0.65. Threshold MD = 0.7\n",
      "RD = 750 NZ = 873 NZA = 1344 pNZ = 0.051% pNZA = 0.078% AD = 85.91% ADA = 55.80% NO = 798 GSP = 58.27% NSP = 30.45%\n",
      "SI2 = -97.90 SI = -195.90 eGROI = 6.06% eROI = -26.28% eROI2 = -9.90% eROI3 = -17.88% mSpread = 0.0405%\n"
     ]
    },
    {
     "name": "stderr",
     "output_type": "stream",
     "text": [
      "100%|██████████████████████████████████████████████████████████████████████████████| 573/573 [00:00<00:00, 1511.91it/s]\n"
     ]
    },
    {
     "name": "stdout",
     "output_type": "stream",
     "text": [
      "Epoch = 9. Time index = 0. Threshold MC = 0.65. Threshold MD = 0.75\n",
      "RD = 371 NZ = 401 NZA = 574 pNZ = 0.023% pNZA = 0.033% AD = 92.52% ADA = 64.63% NO = 419 GSP = 52.27% NSP = 25.30%\n",
      "SI2 = -79.45 SI = -124.45 eGROI = 1.06% eROI = -16.78% eROI2 = -7.32% eROI3 = -11.51% mSpread = 0.0426%\n"
     ]
    },
    {
     "name": "stderr",
     "output_type": "stream",
     "text": [
      "100%|██████████████████████████████████████████████████████████████████████████████| 202/202 [00:00<00:00, 1478.47it/s]\n"
     ]
    },
    {
     "name": "stdout",
     "output_type": "stream",
     "text": [
      "Epoch = 9. Time index = 0. Threshold MC = 0.65. Threshold MD = 0.8\n",
      "RD = 137 NZ = 143 NZA = 203 pNZ = 0.008% pNZA = 0.012% AD = 95.80% ADA = 67.49% NO = 174 GSP = 56.32% NSP = 25.29%\n",
      "SI2 = -30.70 SI = -51.70 eGROI = 1.60% eROI = -6.18% eROI2 = -1.88% eROI3 = -3.62% mSpread = 0.0447%\n"
     ]
    },
    {
     "name": "stderr",
     "output_type": "stream",
     "text": [
      "100%|█████████████████████████████████████████████████████████████████████████████████| 13/13 [00:00<00:00, 724.14it/s]\n"
     ]
    },
    {
     "name": "stdout",
     "output_type": "stream",
     "text": [
      "Epoch = 9. Time index = 0. Threshold MC = 0.65. Threshold MD = 0.85\n",
      "RD = 11 NZ = 11 NZA = 14 pNZ = 0.001% pNZA = 0.001% AD = 100.00% ADA = 78.57% NO = 14 GSP = 71.43% NSP = 28.57%\n",
      "SI2 = -2.70 SI = -3.70 eGROI = 0.28% eROI = -0.26% eROI2 = -0.00% eROI3 = -0.14% mSpread = 0.0381%\n"
     ]
    },
    {
     "name": "stderr",
     "output_type": "stream",
     "text": [
      "0it [00:00, ?it/s]\n"
     ]
    },
    {
     "name": "stdout",
     "output_type": "stream",
     "text": [
      "Epoch = 9. Time index = 0. Threshold MC = 0.65. Threshold MD = 0.9\n",
      "RD = 0 NZ = 0 NZA = 0 pNZ = 0.000% pNZA = 0.000% AD = 0.00% ADA = 0.00% NO = 1 GSP = 0.00% NSP = 0.00%\n",
      "SI2 = -0.55 SI = -0.55 eGROI = 0.00% eROI = 0.00% eROI2 = 0.00% eROI3 = 0.00% mSpread = 0.0000%\n"
     ]
    },
    {
     "name": "stderr",
     "output_type": "stream",
     "text": [
      "0it [00:00, ?it/s]\n"
     ]
    },
    {
     "name": "stdout",
     "output_type": "stream",
     "text": [
      "Epoch = 9. Time index = 0. Threshold MC = 0.65. Threshold MD = 0.95\n",
      "RD = 0 NZ = 0 NZA = 0 pNZ = 0.000% pNZA = 0.000% AD = 0.00% ADA = 0.00% NO = 1 GSP = 0.00% NSP = 0.00%\n",
      "SI2 = -0.55 SI = -0.55 eGROI = 0.00% eROI = 0.00% eROI2 = 0.00% eROI3 = 0.00% mSpread = 0.0000%\n",
      "\n"
     ]
    },
    {
     "name": "stderr",
     "output_type": "stream",
     "text": [
      "100%|██████████████████████████████████████████████████████████████████████████| 24836/24836 [00:07<00:00, 3252.63it/s]\n"
     ]
    },
    {
     "name": "stdout",
     "output_type": "stream",
     "text": [
      "Epoch = 9. Time index = 0. Threshold MC = 0.7. Threshold MD = 0.5\n",
      "RD = 9883 NZ = 17716 NZA = 24837 pNZ = 1.026% pNZA = 1.439% AD = 55.79% ADA = 39.79% NO = 4320 GSP = 55.23% NSP = 44.63%\n",
      "SI2 = -357.00 SI = -448.00 eGROI = 14.64% eROI = -86.23% eROI2 = -71.76% eROI3 = -114.96% mSpread = 0.0234%\n"
     ]
    },
    {
     "name": "stderr",
     "output_type": "stream",
     "text": [
      "100%|██████████████████████████████████████████████████████████████████████████| 15070/15070 [00:04<00:00, 3393.92it/s]\n"
     ]
    },
    {
     "name": "stdout",
     "output_type": "stream",
     "text": [
      "Epoch = 9. Time index = 0. Threshold MC = 0.7. Threshold MD = 0.55\n",
      "RD = 6279 NZ = 10706 NZA = 15071 pNZ = 0.620% pNZA = 0.873% AD = 58.65% ADA = 41.66% NO = 3934 GSP = 54.83% NSP = 43.72%\n",
      "SI2 = -348.70 SI = -443.70 eGROI = 6.25% eROI = -86.39% eROI2 = -72.43% eROI3 = -111.77% mSpread = 0.0235%\n"
     ]
    },
    {
     "name": "stderr",
     "output_type": "stream",
     "text": [
      "100%|████████████████████████████████████████████████████████████████████████████| 5073/5073 [00:01<00:00, 3092.11it/s]\n"
     ]
    },
    {
     "name": "stdout",
     "output_type": "stream",
     "text": [
      "Epoch = 9. Time index = 0. Threshold MC = 0.7. Threshold MD = 0.6\n",
      "RD = 2342 NZ = 3540 NZA = 5074 pNZ = 0.205% pNZA = 0.294% AD = 66.16% ADA = 46.16% NO = 1972 GSP = 56.44% NSP = 43.00%\n",
      "SI2 = -142.60 SI = -236.60 eGROI = 17.14% eROI = -38.37% eROI2 = -22.30% eROI3 = -42.02% mSpread = 0.0281%\n"
     ]
    },
    {
     "name": "stderr",
     "output_type": "stream",
     "text": [
      "100%|████████████████████████████████████████████████████████████████████████████| 1589/1589 [00:00<00:00, 2004.05it/s]\n"
     ]
    },
    {
     "name": "stdout",
     "output_type": "stream",
     "text": [
      "Epoch = 9. Time index = 0. Threshold MC = 0.7. Threshold MD = 0.65\n",
      "RD = 844 NZ = 1095 NZA = 1590 pNZ = 0.063% pNZA = 0.092% AD = 77.08% ADA = 53.08% NO = 889 GSP = 56.58% NSP = 37.12%\n",
      "SI2 = -71.95 SI = -158.95 eGROI = 6.82% eROI = -24.98% eROI2 = -10.96% eROI3 = -19.85% mSpread = 0.0358%\n"
     ]
    },
    {
     "name": "stderr",
     "output_type": "stream",
     "text": [
      "100%|██████████████████████████████████████████████████████████████████████████████| 638/638 [00:00<00:00, 2301.00it/s]\n"
     ]
    },
    {
     "name": "stdout",
     "output_type": "stream",
     "text": [
      "Epoch = 9. Time index = 0. Threshold MC = 0.7. Threshold MD = 0.7\n",
      "RD = 379 NZ = 439 NZA = 639 pNZ = 0.025% pNZA = 0.037% AD = 86.33% ADA = 59.31% NO = 462 GSP = 52.60% NSP = 30.95%\n",
      "SI2 = -64.10 SI = -111.10 eGROI = 0.26% eROI = -18.76% eROI2 = -8.98% eROI3 = -13.60% mSpread = 0.0412%\n"
     ]
    },
    {
     "name": "stderr",
     "output_type": "stream",
     "text": [
      "100%|██████████████████████████████████████████████████████████████████████████████| 343/343 [00:00<00:00, 2233.21it/s]\n"
     ]
    },
    {
     "name": "stdout",
     "output_type": "stream",
     "text": [
      "Epoch = 9. Time index = 0. Threshold MC = 0.7. Threshold MD = 0.75\n",
      "RD = 224 NZ = 242 NZA = 344 pNZ = 0.014% pNZA = 0.020% AD = 92.56% ADA = 65.12% NO = 275 GSP = 50.55% NSP = 26.18%\n",
      "SI2 = -52.25 SI = -79.25 eGROI = 0.63% eROI = -11.64% eROI2 = -4.87% eROI3 = -7.62% mSpread = 0.0446%\n"
     ]
    },
    {
     "name": "stderr",
     "output_type": "stream",
     "text": [
      "100%|██████████████████████████████████████████████████████████████████████████████| 112/112 [00:00<00:00, 1538.34it/s]\n"
     ]
    },
    {
     "name": "stdout",
     "output_type": "stream",
     "text": [
      "Epoch = 9. Time index = 0. Threshold MC = 0.7. Threshold MD = 0.8\n",
      "RD = 86 NZ = 87 NZA = 113 pNZ = 0.005% pNZA = 0.007% AD = 98.85% ADA = 76.11% NO = 104 GSP = 52.88% NSP = 22.12%\n",
      "SI2 = -22.20 SI = -34.20 eGROI = 0.65% eROI = -4.38% eROI2 = -1.43% eROI3 = -2.47% mSpread = 0.0484%\n"
     ]
    },
    {
     "name": "stderr",
     "output_type": "stream",
     "text": [
      "100%|██████████████████████████████████████████████████████████████████████████████████| 7/7 [00:00<00:00, 1754.20it/s]\n"
     ]
    },
    {
     "name": "stdout",
     "output_type": "stream",
     "text": [
      "Epoch = 9. Time index = 0. Threshold MC = 0.7. Threshold MD = 0.85\n",
      "RD = 7 NZ = 7 NZA = 8 pNZ = 0.000% pNZA = 0.000% AD = 100.00% ADA = 87.50% NO = 8 GSP = 75.00% NSP = 37.50%\n",
      "SI2 = -1.40 SI = -1.40 eGROI = 0.21% eROI = -0.10% eROI2 = 0.05% eROI3 = -0.03% mSpread = 0.0380%\n"
     ]
    },
    {
     "name": "stderr",
     "output_type": "stream",
     "text": [
      "0it [00:00, ?it/s]\n"
     ]
    },
    {
     "name": "stdout",
     "output_type": "stream",
     "text": [
      "Epoch = 9. Time index = 0. Threshold MC = 0.7. Threshold MD = 0.9\n",
      "RD = 0 NZ = 0 NZA = 0 pNZ = 0.000% pNZA = 0.000% AD = 0.00% ADA = 0.00% NO = 1 GSP = 0.00% NSP = 0.00%\n",
      "SI2 = -0.55 SI = -0.55 eGROI = 0.00% eROI = 0.00% eROI2 = 0.00% eROI3 = 0.00% mSpread = 0.0000%\n"
     ]
    },
    {
     "name": "stderr",
     "output_type": "stream",
     "text": [
      "0it [00:00, ?it/s]\n"
     ]
    },
    {
     "name": "stdout",
     "output_type": "stream",
     "text": [
      "Epoch = 9. Time index = 0. Threshold MC = 0.7. Threshold MD = 0.95\n",
      "RD = 0 NZ = 0 NZA = 0 pNZ = 0.000% pNZA = 0.000% AD = 0.00% ADA = 0.00% NO = 1 GSP = 0.00% NSP = 0.00%\n",
      "SI2 = -0.55 SI = -0.55 eGROI = 0.00% eROI = 0.00% eROI2 = 0.00% eROI3 = 0.00% mSpread = 0.0000%\n",
      "\n"
     ]
    },
    {
     "name": "stderr",
     "output_type": "stream",
     "text": [
      "100%|████████████████████████████████████████████████████████████████████████████| 6895/6895 [00:01<00:00, 3582.06it/s]\n"
     ]
    },
    {
     "name": "stdout",
     "output_type": "stream",
     "text": [
      "Epoch = 9. Time index = 0. Threshold MC = 0.75. Threshold MD = 0.5\n",
      "RD = 2918 NZ = 5222 NZA = 6896 pNZ = 0.303% pNZA = 0.400% AD = 55.88% ADA = 42.31% NO = 1949 GSP = 54.08% NSP = 44.07%\n",
      "SI2 = -161.95 SI = -212.95 eGROI = 0.45% eROI = -46.79% eROI2 = -38.53% eROI3 = -58.02% mSpread = 0.0242%\n"
     ]
    },
    {
     "name": "stderr",
     "output_type": "stream",
     "text": [
      "100%|████████████████████████████████████████████████████████████████████████████| 4878/4878 [00:01<00:00, 3318.18it/s]\n"
     ]
    },
    {
     "name": "stdout",
     "output_type": "stream",
     "text": [
      "Epoch = 9. Time index = 0. Threshold MC = 0.75. Threshold MD = 0.55\n",
      "RD = 2115 NZ = 3693 NZA = 4879 pNZ = 0.214% pNZA = 0.283% AD = 57.27% ADA = 43.35% NO = 1734 GSP = 53.17% NSP = 42.62%\n",
      "SI2 = -165.70 SI = -214.70 eGROI = -6.21% eROI = -49.02% eROI2 = -40.89% eROI3 = -58.23% mSpread = 0.0247%\n"
     ]
    },
    {
     "name": "stderr",
     "output_type": "stream",
     "text": [
      "100%|████████████████████████████████████████████████████████████████████████████| 2325/2325 [00:00<00:00, 2717.01it/s]\n"
     ]
    },
    {
     "name": "stdout",
     "output_type": "stream",
     "text": [
      "Epoch = 9. Time index = 0. Threshold MC = 0.75. Threshold MD = 0.6\n",
      "RD = 1093 NZ = 1736 NZA = 2326 pNZ = 0.101% pNZA = 0.135% AD = 62.96% ADA = 46.99% NO = 1030 GSP = 56.31% NSP = 44.76%\n",
      "SI2 = -65.50 SI = -105.50 eGROI = 5.50% eROI = -23.05% eROI2 = -15.10% eROI3 = -25.40% mSpread = 0.0277%\n"
     ]
    },
    {
     "name": "stderr",
     "output_type": "stream",
     "text": [
      "100%|██████████████████████████████████████████████████████████████████████████████| 703/703 [00:00<00:00, 2381.33it/s]\n"
     ]
    },
    {
     "name": "stdout",
     "output_type": "stream",
     "text": [
      "Epoch = 9. Time index = 0. Threshold MC = 0.75. Threshold MD = 0.65\n",
      "RD = 399 NZ = 529 NZA = 704 pNZ = 0.031% pNZA = 0.041% AD = 75.43% ADA = 56.68% NO = 457 GSP = 56.89% NSP = 42.67%\n",
      "SI2 = -34.35 SI = -56.35 eGROI = 3.00% eROI = -12.07% eROI2 = -6.14% eROI3 = -10.71% mSpread = 0.0330%\n"
     ]
    },
    {
     "name": "stderr",
     "output_type": "stream",
     "text": [
      "100%|██████████████████████████████████████████████████████████████████████████████| 280/280 [00:00<00:00, 2320.21it/s]\n"
     ]
    },
    {
     "name": "stdout",
     "output_type": "stream",
     "text": [
      "Epoch = 9. Time index = 0. Threshold MC = 0.75. Threshold MD = 0.7\n",
      "RD = 179 NZ = 208 NZA = 281 pNZ = 0.012% pNZA = 0.016% AD = 86.06% ADA = 63.70% NO = 230 GSP = 50.43% NSP = 31.30%\n",
      "SI2 = -33.50 SI = -54.50 eGROI = -1.45% eROI = -10.83% eROI2 = -6.05% eROI3 = -8.35% mSpread = 0.0408%\n"
     ]
    },
    {
     "name": "stderr",
     "output_type": "stream",
     "text": [
      "100%|██████████████████████████████████████████████████████████████████████████████| 157/157 [00:00<00:00, 1418.19it/s]\n"
     ]
    },
    {
     "name": "stdout",
     "output_type": "stream",
     "text": [
      "Epoch = 9. Time index = 0. Threshold MC = 0.75. Threshold MD = 0.75\n",
      "RD = 110 NZ = 119 NZA = 158 pNZ = 0.007% pNZA = 0.009% AD = 92.44% ADA = 69.62% NO = 141 GSP = 50.35% NSP = 28.37%\n",
      "SI2 = -23.55 SI = -37.55 eGROI = -0.64% eROI = -7.36% eROI2 = -3.46% eROI3 = -4.87% mSpread = 0.0477%\n"
     ]
    },
    {
     "name": "stderr",
     "output_type": "stream",
     "text": [
      "100%|████████████████████████████████████████████████████████████████████████████████| 45/45 [00:00<00:00, 1367.22it/s]\n"
     ]
    },
    {
     "name": "stdout",
     "output_type": "stream",
     "text": [
      "Epoch = 9. Time index = 0. Threshold MC = 0.75. Threshold MD = 0.8\n",
      "RD = 37 NZ = 38 NZA = 46 pNZ = 0.002% pNZA = 0.003% AD = 97.37% ADA = 80.43% NO = 45 GSP = 62.22% NSP = 28.89%\n",
      "SI2 = -5.75 SI = -11.75 eGROI = 0.53% eROI = -1.69% eROI2 = -0.37% eROI3 = -0.82% mSpread = 0.0494%\n"
     ]
    },
    {
     "name": "stderr",
     "output_type": "stream",
     "text": [
      "100%|██████████████████████████████████████████████████████████████████████████████████| 3/3 [00:00<00:00, 1002.14it/s]\n"
     ]
    },
    {
     "name": "stdout",
     "output_type": "stream",
     "text": [
      "Epoch = 9. Time index = 0. Threshold MC = 0.75. Threshold MD = 0.85\n",
      "RD = 4 NZ = 4 NZA = 4 pNZ = 0.000% pNZA = 0.000% AD = 100.00% ADA = 100.00% NO = 4 GSP = 100.00% NSP = 50.00%\n",
      "SI2 = -0.20 SI = -0.20 eGROI = 0.24% eROI = 0.03% eROI2 = 0.16% eROI3 = 0.12% mSpread = 0.0509%\n"
     ]
    },
    {
     "name": "stderr",
     "output_type": "stream",
     "text": [
      "0it [00:00, ?it/s]\n"
     ]
    },
    {
     "name": "stdout",
     "output_type": "stream",
     "text": [
      "Epoch = 9. Time index = 0. Threshold MC = 0.75. Threshold MD = 0.9\n",
      "RD = 0 NZ = 0 NZA = 0 pNZ = 0.000% pNZA = 0.000% AD = 0.00% ADA = 0.00% NO = 1 GSP = 0.00% NSP = 0.00%\n",
      "SI2 = -0.55 SI = -0.55 eGROI = 0.00% eROI = 0.00% eROI2 = 0.00% eROI3 = 0.00% mSpread = 0.0000%\n"
     ]
    },
    {
     "name": "stderr",
     "output_type": "stream",
     "text": [
      "0it [00:00, ?it/s]\n"
     ]
    },
    {
     "name": "stdout",
     "output_type": "stream",
     "text": [
      "Epoch = 9. Time index = 0. Threshold MC = 0.75. Threshold MD = 0.95\n",
      "RD = 0 NZ = 0 NZA = 0 pNZ = 0.000% pNZA = 0.000% AD = 0.00% ADA = 0.00% NO = 1 GSP = 0.00% NSP = 0.00%\n",
      "SI2 = -0.55 SI = -0.55 eGROI = 0.00% eROI = 0.00% eROI2 = 0.00% eROI3 = 0.00% mSpread = 0.0000%\n",
      "\n"
     ]
    },
    {
     "name": "stderr",
     "output_type": "stream",
     "text": [
      "100%|████████████████████████████████████████████████████████████████████████████| 1924/1924 [00:00<00:00, 3767.82it/s]\n"
     ]
    },
    {
     "name": "stdout",
     "output_type": "stream",
     "text": [
      "Epoch = 9. Time index = 0. Threshold MC = 0.8. Threshold MD = 0.5\n",
      "RD = 864 NZ = 1522 NZA = 1925 pNZ = 0.088% pNZA = 0.112% AD = 56.77% ADA = 44.88% NO = 898 GSP = 52.67% NSP = 44.10%\n",
      "SI2 = -85.90 SI = -97.90 eGROI = -1.57% eROI = -23.78% eROI2 = -19.53% eROI3 = -28.51% mSpread = 0.0247%\n"
     ]
    },
    {
     "name": "stderr",
     "output_type": "stream",
     "text": [
      "100%|████████████████████████████████████████████████████████████████████████████| 1365/1365 [00:00<00:00, 3160.82it/s]\n"
     ]
    },
    {
     "name": "stdout",
     "output_type": "stream",
     "text": [
      "Epoch = 9. Time index = 0. Threshold MC = 0.8. Threshold MD = 0.55\n",
      "RD = 604 NZ = 1072 NZA = 1366 pNZ = 0.062% pNZA = 0.079% AD = 56.34% ADA = 44.22% NO = 738 GSP = 51.08% NSP = 42.55%\n",
      "SI2 = -80.90 SI = -91.90 eGROI = -4.41% eROI = -23.32% eROI2 = -19.17% eROI3 = -26.55% mSpread = 0.0256%\n"
     ]
    },
    {
     "name": "stderr",
     "output_type": "stream",
     "text": [
      "100%|██████████████████████████████████████████████████████████████████████████████| 827/827 [00:00<00:00, 2869.22it/s]\n"
     ]
    },
    {
     "name": "stdout",
     "output_type": "stream",
     "text": [
      "Epoch = 9. Time index = 0. Threshold MC = 0.8. Threshold MD = 0.6\n",
      "RD = 379 NZ = 648 NZA = 828 pNZ = 0.038% pNZA = 0.048% AD = 58.49% ADA = 45.77% NO = 487 GSP = 51.13% NSP = 41.27%\n",
      "SI2 = -53.85 SI = -66.85 eGROI = -1.94% eROI = -15.15% eROI2 = -11.68% eROI3 = -16.55% mSpread = 0.0271%\n"
     ]
    },
    {
     "name": "stderr",
     "output_type": "stream",
     "text": [
      "100%|██████████████████████████████████████████████████████████████████████████████| 311/311 [00:00<00:00, 2642.59it/s]\n"
     ]
    },
    {
     "name": "stdout",
     "output_type": "stream",
     "text": [
      "Epoch = 9. Time index = 0. Threshold MC = 0.8. Threshold MD = 0.65\n",
      "RD = 170 NZ = 244 NZA = 312 pNZ = 0.014% pNZA = 0.018% AD = 69.67% ADA = 54.49% NO = 228 GSP = 55.70% NSP = 42.11%\n",
      "SI2 = -21.40 SI = -29.40 eGROI = 1.06% eROI = -6.32% eROI2 = -3.50% eROI3 = -5.78% mSpread = 0.0324%\n"
     ]
    },
    {
     "name": "stderr",
     "output_type": "stream",
     "text": [
      "100%|██████████████████████████████████████████████████████████████████████████████| 111/111 [00:00<00:00, 1589.95it/s]\n"
     ]
    },
    {
     "name": "stdout",
     "output_type": "stream",
     "text": [
      "Epoch = 9. Time index = 0. Threshold MC = 0.8. Threshold MD = 0.7\n",
      "RD = 72 NZ = 83 NZA = 112 pNZ = 0.005% pNZA = 0.006% AD = 86.75% ADA = 64.29% NO = 97 GSP = 53.61% NSP = 34.02%\n",
      "SI2 = -13.35 SI = -20.35 eGROI = -0.46% eROI = -4.99% eROI2 = -2.40% eROI3 = -3.37% mSpread = 0.0467%\n"
     ]
    },
    {
     "name": "stderr",
     "output_type": "stream",
     "text": [
      "100%|████████████████████████████████████████████████████████████████████████████████| 60/60 [00:00<00:00, 1583.15it/s]\n"
     ]
    },
    {
     "name": "stdout",
     "output_type": "stream",
     "text": [
      "Epoch = 9. Time index = 0. Threshold MC = 0.8. Threshold MD = 0.75\n",
      "RD = 40 NZ = 45 NZA = 61 pNZ = 0.003% pNZA = 0.004% AD = 88.89% ADA = 65.57% NO = 58 GSP = 48.28% NSP = 29.31%\n",
      "SI2 = -10.90 SI = -14.90 eGROI = -0.62% eROI = -4.07% eROI2 = -1.78% eROI3 = -2.36% mSpread = 0.0595%\n"
     ]
    },
    {
     "name": "stderr",
     "output_type": "stream",
     "text": [
      "100%|█████████████████████████████████████████████████████████████████████████████████| 12/12 [00:00<00:00, 859.42it/s]\n"
     ]
    },
    {
     "name": "stdout",
     "output_type": "stream",
     "text": [
      "Epoch = 9. Time index = 0. Threshold MC = 0.8. Threshold MD = 0.8\n",
      "RD = 9 NZ = 9 NZA = 13 pNZ = 0.001% pNZA = 0.001% AD = 100.00% ADA = 69.23% NO = 13 GSP = 38.46% NSP = 23.08%\n",
      "SI2 = -3.15 SI = -4.15 eGROI = 0.06% eROI = -0.87% eROI2 = -0.20% eROI3 = -0.33% mSpread = 0.0710%\n"
     ]
    },
    {
     "name": "stderr",
     "output_type": "stream",
     "text": [
      "0it [00:00, ?it/s]\n"
     ]
    },
    {
     "name": "stdout",
     "output_type": "stream",
     "text": [
      "Epoch = 9. Time index = 0. Threshold MC = 0.8. Threshold MD = 0.85\n",
      "RD = 1 NZ = 1 NZA = 1 pNZ = 0.000% pNZA = 0.000% AD = 100.00% ADA = 100.00% NO = 1 GSP = 100.00% NSP = 100.00%\n",
      "SI2 = -0.55 SI = 0.45 eGROI = 0.07% eROI = 0.01% eROI2 = 0.05% eROI3 = 0.04% mSpread = 0.0573%\n"
     ]
    },
    {
     "name": "stderr",
     "output_type": "stream",
     "text": [
      "0it [00:00, ?it/s]\n"
     ]
    },
    {
     "name": "stdout",
     "output_type": "stream",
     "text": [
      "Epoch = 9. Time index = 0. Threshold MC = 0.8. Threshold MD = 0.9\n",
      "RD = 0 NZ = 0 NZA = 0 pNZ = 0.000% pNZA = 0.000% AD = 0.00% ADA = 0.00% NO = 1 GSP = 0.00% NSP = 0.00%\n",
      "SI2 = -0.55 SI = -0.55 eGROI = 0.00% eROI = 0.00% eROI2 = 0.00% eROI3 = 0.00% mSpread = 0.0000%\n"
     ]
    },
    {
     "name": "stderr",
     "output_type": "stream",
     "text": [
      "0it [00:00, ?it/s]\n"
     ]
    },
    {
     "name": "stdout",
     "output_type": "stream",
     "text": [
      "Epoch = 9. Time index = 0. Threshold MC = 0.8. Threshold MD = 0.95\n",
      "RD = 0 NZ = 0 NZA = 0 pNZ = 0.000% pNZA = 0.000% AD = 0.00% ADA = 0.00% NO = 1 GSP = 0.00% NSP = 0.00%\n",
      "SI2 = -0.55 SI = -0.55 eGROI = 0.00% eROI = 0.00% eROI2 = 0.00% eROI3 = 0.00% mSpread = 0.0000%\n",
      "\n"
     ]
    },
    {
     "name": "stderr",
     "output_type": "stream",
     "text": [
      "100%|██████████████████████████████████████████████████████████████████████████████| 431/431 [00:00<00:00, 2619.07it/s]\n"
     ]
    },
    {
     "name": "stdout",
     "output_type": "stream",
     "text": [
      "Epoch = 9. Time index = 0. Threshold MC = 0.85. Threshold MD = 0.5\n",
      "RD = 198 NZ = 351 NZA = 432 pNZ = 0.020% pNZA = 0.025% AD = 56.41% ADA = 45.83% NO = 324 GSP = 53.40% NSP = 47.53%\n",
      "SI2 = -25.20 SI = -24.20 eGROI = 3.96% eROI = -4.03% eROI2 = -2.52% eROI3 = -5.76% mSpread = 0.0246%\n"
     ]
    },
    {
     "name": "stderr",
     "output_type": "stream",
     "text": [
      "100%|██████████████████████████████████████████████████████████████████████████████| 253/253 [00:00<00:00, 1981.85it/s]\n"
     ]
    },
    {
     "name": "stdout",
     "output_type": "stream",
     "text": [
      "Epoch = 9. Time index = 0. Threshold MC = 0.85. Threshold MD = 0.55\n",
      "RD = 110 NZ = 200 NZA = 254 pNZ = 0.012% pNZA = 0.015% AD = 55.00% ADA = 43.31% NO = 205 GSP = 49.27% NSP = 43.90%\n",
      "SI2 = -23.75 SI = -22.75 eGROI = 2.20% eROI = -3.10% eROI2 = -1.90% eROI3 = -3.95% mSpread = 0.0258%\n"
     ]
    },
    {
     "name": "stderr",
     "output_type": "stream",
     "text": [
      "100%|██████████████████████████████████████████████████████████████████████████████| 179/179 [00:00<00:00, 1972.29it/s]\n"
     ]
    },
    {
     "name": "stdout",
     "output_type": "stream",
     "text": [
      "Epoch = 9. Time index = 0. Threshold MC = 0.85. Threshold MD = 0.6\n",
      "RD = 79 NZ = 144 NZA = 180 pNZ = 0.008% pNZA = 0.010% AD = 54.86% ADA = 43.89% NO = 152 GSP = 51.97% NSP = 44.08%\n",
      "SI2 = -15.60 SI = -16.60 eGROI = 1.09% eROI = -3.07% eROI2 = -1.95% eROI3 = -3.47% mSpread = 0.0273%\n"
     ]
    },
    {
     "name": "stderr",
     "output_type": "stream",
     "text": [
      "100%|████████████████████████████████████████████████████████████████████████████████| 74/74 [00:00<00:00, 1159.37it/s]\n"
     ]
    },
    {
     "name": "stdout",
     "output_type": "stream",
     "text": [
      "Epoch = 9. Time index = 0. Threshold MC = 0.85. Threshold MD = 0.65\n",
      "RD = 30 NZ = 57 NZA = 75 pNZ = 0.003% pNZA = 0.004% AD = 52.63% ADA = 40.00% NO = 67 GSP = 52.24% NSP = 41.79%\n",
      "SI2 = -6.85 SI = -8.85 eGROI = -0.16% eROI = -2.08% eROI2 = -1.50% eROI3 = -2.17% mSpread = 0.0287%\n"
     ]
    },
    {
     "name": "stderr",
     "output_type": "stream",
     "text": [
      "100%|████████████████████████████████████████████████████████████████████████████████| 14/14 [00:00<00:00, 1079.77it/s]\n"
     ]
    },
    {
     "name": "stdout",
     "output_type": "stream",
     "text": [
      "Epoch = 9. Time index = 0. Threshold MC = 0.85. Threshold MD = 0.7\n",
      "RD = 6 NZ = 9 NZA = 15 pNZ = 0.001% pNZA = 0.001% AD = 66.67% ADA = 40.00% NO = 15 GSP = 40.00% NSP = 20.00%\n",
      "SI2 = -4.25 SI = -5.25 eGROI = -0.37% eROI = -1.10% eROI2 = -0.67% eROI3 = -0.82% mSpread = 0.0486%\n"
     ]
    },
    {
     "name": "stderr",
     "output_type": "stream",
     "text": [
      "100%|██████████████████████████████████████████████████████████████████████████████████| 7/7 [00:00<00:00, 1002.60it/s]\n"
     ]
    },
    {
     "name": "stdout",
     "output_type": "stream",
     "text": [
      "Epoch = 9. Time index = 0. Threshold MC = 0.85. Threshold MD = 0.75\n",
      "RD = 4 NZ = 5 NZA = 8 pNZ = 0.000% pNZA = 0.000% AD = 80.00% ADA = 50.00% NO = 8 GSP = 37.50% NSP = 25.00%\n",
      "SI2 = -3.40 SI = -2.40 eGROI = -0.16% eROI = -0.68% eROI2 = -0.32% eROI3 = -0.40% mSpread = 0.0642%\n"
     ]
    },
    {
     "name": "stderr",
     "output_type": "stream",
     "text": [
      "0it [00:00, ?it/s]\n"
     ]
    },
    {
     "name": "stdout",
     "output_type": "stream",
     "text": [
      "Epoch = 9. Time index = 0. Threshold MC = 0.85. Threshold MD = 0.8\n",
      "RD = 1 NZ = 1 NZA = 1 pNZ = 0.000% pNZA = 0.000% AD = 100.00% ADA = 100.00% NO = 1 GSP = 0.00% NSP = 0.00%\n",
      "SI2 = -0.55 SI = -0.55 eGROI = -0.01% eROI = -0.16% eROI2 = -0.03% eROI3 = -0.04% mSpread = 0.1584%\n"
     ]
    },
    {
     "name": "stderr",
     "output_type": "stream",
     "text": [
      "0it [00:00, ?it/s]\n"
     ]
    },
    {
     "name": "stdout",
     "output_type": "stream",
     "text": [
      "Epoch = 9. Time index = 0. Threshold MC = 0.85. Threshold MD = 0.85\n",
      "RD = 0 NZ = 0 NZA = 0 pNZ = 0.000% pNZA = 0.000% AD = 0.00% ADA = 0.00% NO = 1 GSP = 0.00% NSP = 0.00%\n",
      "SI2 = -0.55 SI = -0.55 eGROI = 0.00% eROI = 0.00% eROI2 = 0.00% eROI3 = 0.00% mSpread = 0.0000%\n"
     ]
    },
    {
     "name": "stderr",
     "output_type": "stream",
     "text": [
      "0it [00:00, ?it/s]\n"
     ]
    },
    {
     "name": "stdout",
     "output_type": "stream",
     "text": [
      "Epoch = 9. Time index = 0. Threshold MC = 0.85. Threshold MD = 0.9\n",
      "RD = 0 NZ = 0 NZA = 0 pNZ = 0.000% pNZA = 0.000% AD = 0.00% ADA = 0.00% NO = 1 GSP = 0.00% NSP = 0.00%\n",
      "SI2 = -0.55 SI = -0.55 eGROI = 0.00% eROI = 0.00% eROI2 = 0.00% eROI3 = 0.00% mSpread = 0.0000%\n"
     ]
    },
    {
     "name": "stderr",
     "output_type": "stream",
     "text": [
      "0it [00:00, ?it/s]\n"
     ]
    },
    {
     "name": "stdout",
     "output_type": "stream",
     "text": [
      "Epoch = 9. Time index = 0. Threshold MC = 0.85. Threshold MD = 0.95\n",
      "RD = 0 NZ = 0 NZA = 0 pNZ = 0.000% pNZA = 0.000% AD = 0.00% ADA = 0.00% NO = 1 GSP = 0.00% NSP = 0.00%\n",
      "SI2 = -0.55 SI = -0.55 eGROI = 0.00% eROI = 0.00% eROI2 = 0.00% eROI3 = 0.00% mSpread = 0.0000%\n",
      "\n"
     ]
    },
    {
     "name": "stderr",
     "output_type": "stream",
     "text": [
      "100%|████████████████████████████████████████████████████████████████████████████████| 21/21 [00:00<00:00, 1238.60it/s]\n"
     ]
    },
    {
     "name": "stdout",
     "output_type": "stream",
     "text": [
      "Epoch = 9. Time index = 0. Threshold MC = 0.9. Threshold MD = 0.5\n",
      "RD = 12 NZ = 18 NZA = 22 pNZ = 0.001% pNZA = 0.001% AD = 66.67% ADA = 54.55% NO = 22 GSP = 50.00% NSP = 45.45%\n",
      "SI2 = -2.10 SI = -2.10 eGROI = -0.07% eROI = -0.56% eROI2 = -0.51% eROI3 = -0.73% mSpread = 0.0220%\n"
     ]
    },
    {
     "name": "stderr",
     "output_type": "stream",
     "text": [
      "100%|███████████████████████████████████████████████████████████████████████████████████| 1/1 [00:00<00:00, 334.10it/s]\n"
     ]
    },
    {
     "name": "stdout",
     "output_type": "stream",
     "text": [
      "Epoch = 9. Time index = 0. Threshold MC = 0.9. Threshold MD = 0.55\n",
      "RD = 1 NZ = 2 NZA = 2 pNZ = 0.000% pNZA = 0.000% AD = 50.00% ADA = 50.00% NO = 2 GSP = 50.00% NSP = 50.00%\n",
      "SI2 = -0.10 SI = -0.10 eGROI = 0.12% eROI = 0.09% eROI2 = 0.08% eROI3 = 0.06% mSpread = 0.0153%\n"
     ]
    },
    {
     "name": "stderr",
     "output_type": "stream",
     "text": [
      "0it [00:00, ?it/s]\n"
     ]
    },
    {
     "name": "stdout",
     "output_type": "stream",
     "text": [
      "Epoch = 9. Time index = 0. Threshold MC = 0.9. Threshold MD = 0.6\n",
      "RD = 0 NZ = 0 NZA = 0 pNZ = 0.000% pNZA = 0.000% AD = 0.00% ADA = 0.00% NO = 1 GSP = 0.00% NSP = 0.00%\n",
      "SI2 = -0.55 SI = -0.55 eGROI = 0.00% eROI = 0.00% eROI2 = 0.00% eROI3 = 0.00% mSpread = 0.0000%\n"
     ]
    },
    {
     "name": "stderr",
     "output_type": "stream",
     "text": [
      "0it [00:00, ?it/s]\n"
     ]
    },
    {
     "name": "stdout",
     "output_type": "stream",
     "text": [
      "Epoch = 9. Time index = 0. Threshold MC = 0.9. Threshold MD = 0.65\n",
      "RD = 0 NZ = 0 NZA = 0 pNZ = 0.000% pNZA = 0.000% AD = 0.00% ADA = 0.00% NO = 1 GSP = 0.00% NSP = 0.00%\n",
      "SI2 = -0.55 SI = -0.55 eGROI = 0.00% eROI = 0.00% eROI2 = 0.00% eROI3 = 0.00% mSpread = 0.0000%\n"
     ]
    },
    {
     "name": "stderr",
     "output_type": "stream",
     "text": [
      "0it [00:00, ?it/s]\n"
     ]
    },
    {
     "name": "stdout",
     "output_type": "stream",
     "text": [
      "Epoch = 9. Time index = 0. Threshold MC = 0.9. Threshold MD = 0.7\n",
      "RD = 0 NZ = 0 NZA = 0 pNZ = 0.000% pNZA = 0.000% AD = 0.00% ADA = 0.00% NO = 1 GSP = 0.00% NSP = 0.00%\n",
      "SI2 = -0.55 SI = -0.55 eGROI = 0.00% eROI = 0.00% eROI2 = 0.00% eROI3 = 0.00% mSpread = 0.0000%\n"
     ]
    },
    {
     "name": "stderr",
     "output_type": "stream",
     "text": [
      "0it [00:00, ?it/s]\n"
     ]
    },
    {
     "name": "stdout",
     "output_type": "stream",
     "text": [
      "Epoch = 9. Time index = 0. Threshold MC = 0.9. Threshold MD = 0.75\n",
      "RD = 0 NZ = 0 NZA = 0 pNZ = 0.000% pNZA = 0.000% AD = 0.00% ADA = 0.00% NO = 1 GSP = 0.00% NSP = 0.00%\n",
      "SI2 = -0.55 SI = -0.55 eGROI = 0.00% eROI = 0.00% eROI2 = 0.00% eROI3 = 0.00% mSpread = 0.0000%\n"
     ]
    },
    {
     "name": "stderr",
     "output_type": "stream",
     "text": [
      "0it [00:00, ?it/s]\n"
     ]
    },
    {
     "name": "stdout",
     "output_type": "stream",
     "text": [
      "Epoch = 9. Time index = 0. Threshold MC = 0.9. Threshold MD = 0.8\n",
      "RD = 0 NZ = 0 NZA = 0 pNZ = 0.000% pNZA = 0.000% AD = 0.00% ADA = 0.00% NO = 1 GSP = 0.00% NSP = 0.00%\n",
      "SI2 = -0.55 SI = -0.55 eGROI = 0.00% eROI = 0.00% eROI2 = 0.00% eROI3 = 0.00% mSpread = 0.0000%\n"
     ]
    },
    {
     "name": "stderr",
     "output_type": "stream",
     "text": [
      "0it [00:00, ?it/s]\n"
     ]
    },
    {
     "name": "stdout",
     "output_type": "stream",
     "text": [
      "Epoch = 9. Time index = 0. Threshold MC = 0.9. Threshold MD = 0.85\n",
      "RD = 0 NZ = 0 NZA = 0 pNZ = 0.000% pNZA = 0.000% AD = 0.00% ADA = 0.00% NO = 1 GSP = 0.00% NSP = 0.00%\n",
      "SI2 = -0.55 SI = -0.55 eGROI = 0.00% eROI = 0.00% eROI2 = 0.00% eROI3 = 0.00% mSpread = 0.0000%\n"
     ]
    },
    {
     "name": "stderr",
     "output_type": "stream",
     "text": [
      "0it [00:00, ?it/s]\n"
     ]
    },
    {
     "name": "stdout",
     "output_type": "stream",
     "text": [
      "Epoch = 9. Time index = 0. Threshold MC = 0.9. Threshold MD = 0.9\n",
      "RD = 0 NZ = 0 NZA = 0 pNZ = 0.000% pNZA = 0.000% AD = 0.00% ADA = 0.00% NO = 1 GSP = 0.00% NSP = 0.00%\n",
      "SI2 = -0.55 SI = -0.55 eGROI = 0.00% eROI = 0.00% eROI2 = 0.00% eROI3 = 0.00% mSpread = 0.0000%\n"
     ]
    },
    {
     "name": "stderr",
     "output_type": "stream",
     "text": [
      "0it [00:00, ?it/s]\n"
     ]
    },
    {
     "name": "stdout",
     "output_type": "stream",
     "text": [
      "Epoch = 9. Time index = 0. Threshold MC = 0.9. Threshold MD = 0.95\n",
      "RD = 0 NZ = 0 NZA = 0 pNZ = 0.000% pNZA = 0.000% AD = 0.00% ADA = 0.00% NO = 1 GSP = 0.00% NSP = 0.00%\n",
      "SI2 = -0.55 SI = -0.55 eGROI = 0.00% eROI = 0.00% eROI2 = 0.00% eROI3 = 0.00% mSpread = 0.0000%\n",
      "\n"
     ]
    },
    {
     "name": "stderr",
     "output_type": "stream",
     "text": [
      "0it [00:00, ?it/s]\n"
     ]
    },
    {
     "name": "stdout",
     "output_type": "stream",
     "text": [
      "Epoch = 9. Time index = 0. Threshold MC = 0.95. Threshold MD = 0.5\n",
      "RD = 0 NZ = 0 NZA = 0 pNZ = 0.000% pNZA = 0.000% AD = 0.00% ADA = 0.00% NO = 1 GSP = 0.00% NSP = 0.00%\n",
      "SI2 = -0.55 SI = -0.55 eGROI = 0.00% eROI = 0.00% eROI2 = 0.00% eROI3 = 0.00% mSpread = 0.0000%\n"
     ]
    },
    {
     "name": "stderr",
     "output_type": "stream",
     "text": [
      "0it [00:00, ?it/s]\n"
     ]
    },
    {
     "name": "stdout",
     "output_type": "stream",
     "text": [
      "Epoch = 9. Time index = 0. Threshold MC = 0.95. Threshold MD = 0.55\n",
      "RD = 0 NZ = 0 NZA = 0 pNZ = 0.000% pNZA = 0.000% AD = 0.00% ADA = 0.00% NO = 1 GSP = 0.00% NSP = 0.00%\n",
      "SI2 = -0.55 SI = -0.55 eGROI = 0.00% eROI = 0.00% eROI2 = 0.00% eROI3 = 0.00% mSpread = 0.0000%\n"
     ]
    },
    {
     "name": "stderr",
     "output_type": "stream",
     "text": [
      "0it [00:00, ?it/s]\n"
     ]
    },
    {
     "name": "stdout",
     "output_type": "stream",
     "text": [
      "Epoch = 9. Time index = 0. Threshold MC = 0.95. Threshold MD = 0.6\n",
      "RD = 0 NZ = 0 NZA = 0 pNZ = 0.000% pNZA = 0.000% AD = 0.00% ADA = 0.00% NO = 1 GSP = 0.00% NSP = 0.00%\n",
      "SI2 = -0.55 SI = -0.55 eGROI = 0.00% eROI = 0.00% eROI2 = 0.00% eROI3 = 0.00% mSpread = 0.0000%\n"
     ]
    },
    {
     "name": "stderr",
     "output_type": "stream",
     "text": [
      "0it [00:00, ?it/s]\n"
     ]
    },
    {
     "name": "stdout",
     "output_type": "stream",
     "text": [
      "Epoch = 9. Time index = 0. Threshold MC = 0.95. Threshold MD = 0.65\n",
      "RD = 0 NZ = 0 NZA = 0 pNZ = 0.000% pNZA = 0.000% AD = 0.00% ADA = 0.00% NO = 1 GSP = 0.00% NSP = 0.00%\n",
      "SI2 = -0.55 SI = -0.55 eGROI = 0.00% eROI = 0.00% eROI2 = 0.00% eROI3 = 0.00% mSpread = 0.0000%\n"
     ]
    },
    {
     "name": "stderr",
     "output_type": "stream",
     "text": [
      "0it [00:00, ?it/s]\n"
     ]
    },
    {
     "name": "stdout",
     "output_type": "stream",
     "text": [
      "Epoch = 9. Time index = 0. Threshold MC = 0.95. Threshold MD = 0.7\n",
      "RD = 0 NZ = 0 NZA = 0 pNZ = 0.000% pNZA = 0.000% AD = 0.00% ADA = 0.00% NO = 1 GSP = 0.00% NSP = 0.00%\n",
      "SI2 = -0.55 SI = -0.55 eGROI = 0.00% eROI = 0.00% eROI2 = 0.00% eROI3 = 0.00% mSpread = 0.0000%\n"
     ]
    },
    {
     "name": "stderr",
     "output_type": "stream",
     "text": [
      "0it [00:00, ?it/s]\n"
     ]
    },
    {
     "name": "stdout",
     "output_type": "stream",
     "text": [
      "Epoch = 9. Time index = 0. Threshold MC = 0.95. Threshold MD = 0.75\n",
      "RD = 0 NZ = 0 NZA = 0 pNZ = 0.000% pNZA = 0.000% AD = 0.00% ADA = 0.00% NO = 1 GSP = 0.00% NSP = 0.00%\n",
      "SI2 = -0.55 SI = -0.55 eGROI = 0.00% eROI = 0.00% eROI2 = 0.00% eROI3 = 0.00% mSpread = 0.0000%\n"
     ]
    },
    {
     "name": "stderr",
     "output_type": "stream",
     "text": [
      "0it [00:00, ?it/s]\n"
     ]
    },
    {
     "name": "stdout",
     "output_type": "stream",
     "text": [
      "Epoch = 9. Time index = 0. Threshold MC = 0.95. Threshold MD = 0.8\n",
      "RD = 0 NZ = 0 NZA = 0 pNZ = 0.000% pNZA = 0.000% AD = 0.00% ADA = 0.00% NO = 1 GSP = 0.00% NSP = 0.00%\n",
      "SI2 = -0.55 SI = -0.55 eGROI = 0.00% eROI = 0.00% eROI2 = 0.00% eROI3 = 0.00% mSpread = 0.0000%\n"
     ]
    },
    {
     "name": "stderr",
     "output_type": "stream",
     "text": [
      "0it [00:00, ?it/s]\n"
     ]
    },
    {
     "name": "stdout",
     "output_type": "stream",
     "text": [
      "Epoch = 9. Time index = 0. Threshold MC = 0.95. Threshold MD = 0.85\n",
      "RD = 0 NZ = 0 NZA = 0 pNZ = 0.000% pNZA = 0.000% AD = 0.00% ADA = 0.00% NO = 1 GSP = 0.00% NSP = 0.00%\n",
      "SI2 = -0.55 SI = -0.55 eGROI = 0.00% eROI = 0.00% eROI2 = 0.00% eROI3 = 0.00% mSpread = 0.0000%\n"
     ]
    },
    {
     "name": "stderr",
     "output_type": "stream",
     "text": [
      "0it [00:00, ?it/s]\n"
     ]
    },
    {
     "name": "stdout",
     "output_type": "stream",
     "text": [
      "Epoch = 9. Time index = 0. Threshold MC = 0.95. Threshold MD = 0.9\n",
      "RD = 0 NZ = 0 NZA = 0 pNZ = 0.000% pNZA = 0.000% AD = 0.00% ADA = 0.00% NO = 1 GSP = 0.00% NSP = 0.00%\n",
      "SI2 = -0.55 SI = -0.55 eGROI = 0.00% eROI = 0.00% eROI2 = 0.00% eROI3 = 0.00% mSpread = 0.0000%\n"
     ]
    },
    {
     "name": "stderr",
     "output_type": "stream",
     "text": [
      "0it [00:00, ?it/s]\n"
     ]
    },
    {
     "name": "stdout",
     "output_type": "stream",
     "text": [
      "Epoch = 9. Time index = 0. Threshold MC = 0.95. Threshold MD = 0.95\n",
      "RD = 0 NZ = 0 NZA = 0 pNZ = 0.000% pNZA = 0.000% AD = 0.00% ADA = 0.00% NO = 1 GSP = 0.00% NSP = 0.00%\n",
      "SI2 = -0.55 SI = -0.55 eGROI = 0.00% eROI = 0.00% eROI2 = 0.00% eROI3 = 0.00% mSpread = 0.0000%\n",
      "\n"
     ]
    },
    {
     "name": "stderr",
     "output_type": "stream",
     "text": [
      "0it [00:00, ?it/s]\n"
     ]
    },
    {
     "name": "stdout",
     "output_type": "stream",
     "text": [
      "Epoch = 9. Time index = 1. Threshold MC = 0.5. Threshold MD = 0.5\n",
      "J_test = 6.279867172241211, J_train = 6.471134484857639, Accuracy=0.5403414611254695\n",
      "RD = 397532 NZ = 763638 NZA = 1477304 pNZ = 44.242% pNZA = 85.589% AD = 52.06% ADA = 26.91% NO = 1 GSP = 0.00% NSP = 0.00%\n",
      "SI2 = -0.55 SI = -0.55 eGROI = 0.00% eROI = 0.00% eROI2 = 0.00% eROI3 = 0.00% mSpread = 0.0000%\n"
     ]
    },
    {
     "name": "stderr",
     "output_type": "stream",
     "text": [
      "100%|████████████████████████████████████████████████████████████████████████| 143852/143852 [00:34<00:00, 4137.20it/s]\n"
     ]
    },
    {
     "name": "stdout",
     "output_type": "stream",
     "text": [
      "Epoch = 9. Time index = 1. Threshold MC = 0.5. Threshold MD = 0.55\n",
      "RD = 45189 NZ = 76301 NZA = 143853 pNZ = 4.421% pNZA = 8.334% AD = 59.22% ADA = 31.41% NO = 21125 GSP = 56.82% NSP = 42.91%\n",
      "SI2 = -2215.75 SI = -2553.75 eGROI = 97.32% eROI = -370.68% eROI2 = -325.18% eROI3 = -536.43% mSpread = 0.0222%\n"
     ]
    },
    {
     "name": "stderr",
     "output_type": "stream",
     "text": [
      "100%|██████████████████████████████████████████████████████████████████████████| 36910/36910 [00:08<00:00, 4186.45it/s]\n"
     ]
    },
    {
     "name": "stdout",
     "output_type": "stream",
     "text": [
      "Epoch = 9. Time index = 1. Threshold MC = 0.5. Threshold MD = 0.6\n",
      "RD = 12650 NZ = 18410 NZA = 36911 pNZ = 1.067% pNZA = 2.138% AD = 68.71% ADA = 34.27% NO = 6554 GSP = 56.33% NSP = 38.18%\n",
      "SI2 = -811.70 SI = -1102.70 eGROI = 40.05% eROI = -132.88% eROI2 = -91.03% eROI3 = -156.57% mSpread = 0.0264%\n"
     ]
    },
    {
     "name": "stderr",
     "output_type": "stream",
     "text": [
      "100%|██████████████████████████████████████████████████████████████████████████| 12954/12954 [00:03<00:00, 3939.50it/s]\n"
     ]
    },
    {
     "name": "stdout",
     "output_type": "stream",
     "text": [
      "Epoch = 9. Time index = 1. Threshold MC = 0.5. Threshold MD = 0.65\n",
      "RD = 4970 NZ = 6422 NZA = 12955 pNZ = 0.372% pNZA = 0.751% AD = 77.39% ADA = 38.36% NO = 3519 GSP = 55.64% NSP = 31.60%\n",
      "SI2 = -555.45 SI = -823.45 eGROI = 17.20% eROI = -94.60% eROI2 = -53.18% eROI3 = -88.37% mSpread = 0.0318%\n"
     ]
    },
    {
     "name": "stderr",
     "output_type": "stream",
     "text": [
      "100%|████████████████████████████████████████████████████████████████████████████| 3750/3750 [00:01<00:00, 2705.04it/s]\n"
     ]
    },
    {
     "name": "stdout",
     "output_type": "stream",
     "text": [
      "Epoch = 9. Time index = 1. Threshold MC = 0.5. Threshold MD = 0.7\n",
      "RD = 1712 NZ = 2001 NZA = 3751 pNZ = 0.116% pNZA = 0.217% AD = 85.56% ADA = 45.64% NO = 1821 GSP = 53.87% NSP = 27.79%\n",
      "SI2 = -327.55 SI = -495.55 eGROI = 11.00% eROI = -55.79% eROI2 = -25.42% eROI3 = -43.63% mSpread = 0.0367%\n"
     ]
    },
    {
     "name": "stderr",
     "output_type": "stream",
     "text": [
      "100%|████████████████████████████████████████████████████████████████████████████| 1109/1109 [00:00<00:00, 2059.18it/s]\n"
     ]
    },
    {
     "name": "stdout",
     "output_type": "stream",
     "text": [
      "Epoch = 9. Time index = 1. Threshold MC = 0.5. Threshold MD = 0.75\n",
      "RD = 586 NZ = 642 NZA = 1110 pNZ = 0.037% pNZA = 0.064% AD = 91.28% ADA = 52.79% NO = 794 GSP = 49.50% NSP = 22.80%\n",
      "SI2 = -188.70 SI = -255.70 eGROI = 0.02% eROI = -33.72% eROI2 = -15.86% eROI3 = -23.80% mSpread = 0.0425%\n"
     ]
    },
    {
     "name": "stderr",
     "output_type": "stream",
     "text": [
      "100%|██████████████████████████████████████████████████████████████████████████████| 312/312 [00:00<00:00, 2031.38it/s]\n"
     ]
    },
    {
     "name": "stdout",
     "output_type": "stream",
     "text": [
      "Epoch = 9. Time index = 1. Threshold MC = 0.5. Threshold MD = 0.8\n",
      "RD = 194 NZ = 202 NZA = 313 pNZ = 0.012% pNZA = 0.018% AD = 96.04% ADA = 61.98% NO = 285 GSP = 49.12% NSP = 18.95%\n",
      "SI2 = -72.75 SI = -102.75 eGROI = -1.27% eROI = -15.29% eROI2 = -6.97% eROI3 = -9.82% mSpread = 0.0492%\n"
     ]
    },
    {
     "name": "stderr",
     "output_type": "stream",
     "text": [
      "100%|████████████████████████████████████████████████████████████████████████████████| 63/63 [00:00<00:00, 1263.42it/s]\n"
     ]
    },
    {
     "name": "stdout",
     "output_type": "stream",
     "text": [
      "Epoch = 9. Time index = 1. Threshold MC = 0.5. Threshold MD = 0.85\n",
      "RD = 45 NZ = 47 NZA = 64 pNZ = 0.003% pNZA = 0.004% AD = 95.74% ADA = 70.31% NO = 64 GSP = 46.88% NSP = 14.06%\n",
      "SI2 = -16.20 SI = -26.20 eGROI = 0.30% eROI = -3.36% eROI2 = -0.98% eROI3 = -1.62% mSpread = 0.0572%\n"
     ]
    },
    {
     "name": "stderr",
     "output_type": "stream",
     "text": [
      "100%|███████████████████████████████████████████████████████████████████████████████████| 1/1 [00:00<00:00, 501.41it/s]\n"
     ]
    },
    {
     "name": "stdout",
     "output_type": "stream",
     "text": [
      "Epoch = 9. Time index = 1. Threshold MC = 0.5. Threshold MD = 0.9\n",
      "RD = 2 NZ = 2 NZA = 2 pNZ = 0.000% pNZA = 0.000% AD = 100.00% ADA = 100.00% NO = 2 GSP = 100.00% NSP = 50.00%\n",
      "SI2 = -0.10 SI = -0.10 eGROI = 0.16% eROI = 0.04% eROI2 = 0.12% eROI3 = 0.10% mSpread = 0.0586%\n"
     ]
    },
    {
     "name": "stderr",
     "output_type": "stream",
     "text": [
      "0it [00:00, ?it/s]\n"
     ]
    },
    {
     "name": "stdout",
     "output_type": "stream",
     "text": [
      "Epoch = 9. Time index = 1. Threshold MC = 0.5. Threshold MD = 0.95\n",
      "RD = 0 NZ = 0 NZA = 0 pNZ = 0.000% pNZA = 0.000% AD = 0.00% ADA = 0.00% NO = 1 GSP = 0.00% NSP = 0.00%\n",
      "SI2 = -0.55 SI = -0.55 eGROI = 0.00% eROI = 0.00% eROI2 = 0.00% eROI3 = 0.00% mSpread = 0.0000%\n",
      "\n"
     ]
    },
    {
     "name": "stderr",
     "output_type": "stream",
     "text": [
      "0it [00:00, ?it/s]\n"
     ]
    },
    {
     "name": "stdout",
     "output_type": "stream",
     "text": [
      "Epoch = 9. Time index = 1. Threshold MC = 0.55. Threshold MD = 0.5\n",
      "RD = 288949 NZ = 551816 NZA = 998304 pNZ = 31.970% pNZA = 57.837% AD = 52.36% ADA = 28.94% NO = 1 GSP = 0.00% NSP = 0.00%\n",
      "SI2 = -0.55 SI = -0.55 eGROI = 0.00% eROI = 0.00% eROI2 = 0.00% eROI3 = 0.00% mSpread = 0.0000%\n"
     ]
    },
    {
     "name": "stderr",
     "output_type": "stream",
     "text": [
      "100%|████████████████████████████████████████████████████████████████████████| 102389/102389 [00:28<00:00, 3622.38it/s]\n"
     ]
    },
    {
     "name": "stdout",
     "output_type": "stream",
     "text": [
      "Epoch = 9. Time index = 1. Threshold MC = 0.55. Threshold MD = 0.55\n",
      "RD = 35040 NZ = 58852 NZA = 102390 pNZ = 3.410% pNZA = 5.932% AD = 59.54% ADA = 34.22% NO = 18044 GSP = 57.50% NSP = 43.67%\n",
      "SI2 = -1667.20 SI = -2045.20 eGROI = 101.94% eROI = -306.11% eROI2 = -258.94% eROI3 = -439.38% mSpread = 0.0226%\n"
     ]
    },
    {
     "name": "stderr",
     "output_type": "stream",
     "text": [
      "100%|██████████████████████████████████████████████████████████████████████████| 27029/27029 [00:05<00:00, 4697.70it/s]\n"
     ]
    },
    {
     "name": "stdout",
     "output_type": "stream",
     "text": [
      "Epoch = 9. Time index = 1. Threshold MC = 0.55. Threshold MD = 0.6\n",
      "RD = 10168 NZ = 14743 NZA = 27030 pNZ = 0.854% pNZA = 1.566% AD = 68.97% ADA = 37.62% NO = 5738 GSP = 57.77% NSP = 38.60%\n",
      "SI2 = -600.90 SI = -940.90 eGROI = 42.89% eROI = -117.21% eROI2 = -71.87% eROI3 = -129.25% mSpread = 0.0279%\n"
     ]
    },
    {
     "name": "stderr",
     "output_type": "stream",
     "text": [
      "100%|████████████████████████████████████████████████████████████████████████████| 9421/9421 [00:02<00:00, 3950.69it/s]\n"
     ]
    },
    {
     "name": "stdout",
     "output_type": "stream",
     "text": [
      "Epoch = 9. Time index = 1. Threshold MC = 0.55. Threshold MD = 0.65\n",
      "RD = 4007 NZ = 5143 NZA = 9422 pNZ = 0.298% pNZA = 0.546% AD = 77.91% ADA = 42.53% NO = 2910 GSP = 57.42% NSP = 31.99%\n",
      "SI2 = -394.50 SI = -669.50 eGROI = 19.97% eROI = -78.46% eROI2 = -38.23% eROI3 = -67.33% mSpread = 0.0338%\n"
     ]
    },
    {
     "name": "stderr",
     "output_type": "stream",
     "text": [
      "100%|████████████████████████████████████████████████████████████████████████████| 2715/2715 [00:00<00:00, 2789.18it/s]\n"
     ]
    },
    {
     "name": "stdout",
     "output_type": "stream",
     "text": [
      "Epoch = 9. Time index = 1. Threshold MC = 0.55. Threshold MD = 0.7\n",
      "RD = 1391 NZ = 1610 NZA = 2716 pNZ = 0.093% pNZA = 0.157% AD = 86.40% ADA = 51.22% NO = 1456 GSP = 54.53% NSP = 28.57%\n",
      "SI2 = -234.80 SI = -384.80 eGROI = 12.74% eROI = -42.04% eROI2 = -16.38% eROI3 = -30.94% mSpread = 0.0376%\n"
     ]
    },
    {
     "name": "stderr",
     "output_type": "stream",
     "text": [
      "100%|██████████████████████████████████████████████████████████████████████████████| 875/875 [00:00<00:00, 1835.42it/s]\n"
     ]
    },
    {
     "name": "stdout",
     "output_type": "stream",
     "text": [
      "Epoch = 9. Time index = 1. Threshold MC = 0.55. Threshold MD = 0.75\n",
      "RD = 507 NZ = 551 NZA = 876 pNZ = 0.032% pNZA = 0.051% AD = 92.01% ADA = 57.88% NO = 664 GSP = 52.56% NSP = 23.80%\n",
      "SI2 = -146.20 SI = -207.20 eGROI = 1.85% eROI = -26.47% eROI2 = -11.43% eROI3 = -18.07% mSpread = 0.0427%\n"
     ]
    },
    {
     "name": "stderr",
     "output_type": "stream",
     "text": [
      "100%|██████████████████████████████████████████████████████████████████████████████| 281/281 [00:00<00:00, 1514.78it/s]\n"
     ]
    },
    {
     "name": "stdout",
     "output_type": "stream",
     "text": [
      "Epoch = 9. Time index = 1. Threshold MC = 0.55. Threshold MD = 0.8\n",
      "RD = 182 NZ = 190 NZA = 282 pNZ = 0.011% pNZA = 0.016% AD = 95.79% ADA = 64.54% NO = 258 GSP = 51.16% NSP = 20.16%\n",
      "SI2 = -60.90 SI = -89.90 eGROI = -0.72% eROI = -13.45% eROI2 = -5.88% eROI3 = -8.46% mSpread = 0.0493%\n"
     ]
    },
    {
     "name": "stderr",
     "output_type": "stream",
     "text": [
      "100%|█████████████████████████████████████████████████████████████████████████████████| 62/62 [00:00<00:00, 971.32it/s]\n"
     ]
    },
    {
     "name": "stdout",
     "output_type": "stream",
     "text": [
      "Epoch = 9. Time index = 1. Threshold MC = 0.55. Threshold MD = 0.85\n",
      "RD = 45 NZ = 47 NZA = 63 pNZ = 0.003% pNZA = 0.004% AD = 95.74% ADA = 71.43% NO = 63 GSP = 47.62% NSP = 14.29%\n",
      "SI2 = -15.65 SI = -25.65 eGROI = 0.30% eROI = -3.31% eROI2 = -0.96% eROI3 = -1.59% mSpread = 0.0573%\n"
     ]
    },
    {
     "name": "stderr",
     "output_type": "stream",
     "text": [
      "100%|██████████████████████████████████████████████████████████████████████████████████| 1/1 [00:00<00:00, 1000.79it/s]\n"
     ]
    },
    {
     "name": "stdout",
     "output_type": "stream",
     "text": [
      "Epoch = 9. Time index = 1. Threshold MC = 0.55. Threshold MD = 0.9\n",
      "RD = 2 NZ = 2 NZA = 2 pNZ = 0.000% pNZA = 0.000% AD = 100.00% ADA = 100.00% NO = 2 GSP = 100.00% NSP = 50.00%\n",
      "SI2 = -0.10 SI = -0.10 eGROI = 0.16% eROI = 0.04% eROI2 = 0.12% eROI3 = 0.10% mSpread = 0.0586%\n"
     ]
    },
    {
     "name": "stderr",
     "output_type": "stream",
     "text": [
      "0it [00:00, ?it/s]\n"
     ]
    },
    {
     "name": "stdout",
     "output_type": "stream",
     "text": [
      "Epoch = 9. Time index = 1. Threshold MC = 0.55. Threshold MD = 0.95\n",
      "RD = 0 NZ = 0 NZA = 0 pNZ = 0.000% pNZA = 0.000% AD = 0.00% ADA = 0.00% NO = 1 GSP = 0.00% NSP = 0.00%\n",
      "SI2 = -0.55 SI = -0.55 eGROI = 0.00% eROI = 0.00% eROI2 = 0.00% eROI3 = 0.00% mSpread = 0.0000%\n",
      "\n"
     ]
    },
    {
     "name": "stderr",
     "output_type": "stream",
     "text": [
      "0it [00:00, ?it/s]\n"
     ]
    },
    {
     "name": "stdout",
     "output_type": "stream",
     "text": [
      "Epoch = 9. Time index = 1. Threshold MC = 0.6. Threshold MD = 0.5\n",
      "RD = 117229 NZ = 218878 NZA = 360659 pNZ = 12.681% pNZA = 20.895% AD = 53.56% ADA = 32.50% NO = 1 GSP = 0.00% NSP = 0.00%\n",
      "SI2 = -0.55 SI = -0.55 eGROI = 0.00% eROI = 0.00% eROI2 = 0.00% eROI3 = 0.00% mSpread = 0.0000%\n"
     ]
    },
    {
     "name": "stderr",
     "output_type": "stream",
     "text": [
      "100%|██████████████████████████████████████████████████████████████████████████| 63728/63728 [00:16<00:00, 3806.10it/s]\n"
     ]
    },
    {
     "name": "stdout",
     "output_type": "stream",
     "text": [
      "Epoch = 9. Time index = 1. Threshold MC = 0.6. Threshold MD = 0.55\n",
      "RD = 23644 NZ = 39160 NZA = 63729 pNZ = 2.269% pNZA = 3.692% AD = 60.38% ADA = 37.10% NO = 12458 GSP = 58.01% NSP = 44.42%\n",
      "SI2 = -1015.90 SI = -1317.90 eGROI = 88.68% eROI = -200.52% eROI2 = -160.48% eROI3 = -285.06% mSpread = 0.0232%\n"
     ]
    },
    {
     "name": "stderr",
     "output_type": "stream",
     "text": [
      "100%|██████████████████████████████████████████████████████████████████████████| 18686/18686 [00:05<00:00, 3505.29it/s]\n"
     ]
    },
    {
     "name": "stdout",
     "output_type": "stream",
     "text": [
      "Epoch = 9. Time index = 1. Threshold MC = 0.6. Threshold MD = 0.6\n",
      "RD = 7513 NZ = 10879 NZA = 18687 pNZ = 0.630% pNZA = 1.083% AD = 69.06% ADA = 40.20% NO = 4503 GSP = 59.40% NSP = 40.44%\n",
      "SI2 = -379.65 SI = -655.65 eGROI = 42.50% eROI = -88.62% eROI2 = -47.56% eROI3 = -92.59% mSpread = 0.0291%\n"
     ]
    },
    {
     "name": "stderr",
     "output_type": "stream",
     "text": [
      "100%|████████████████████████████████████████████████████████████████████████████| 6679/6679 [00:01<00:00, 3560.23it/s]\n"
     ]
    },
    {
     "name": "stdout",
     "output_type": "stream",
     "text": [
      "Epoch = 9. Time index = 1. Threshold MC = 0.6. Threshold MD = 0.65\n",
      "RD = 2975 NZ = 3803 NZA = 6680 pNZ = 0.220% pNZA = 0.387% AD = 78.23% ADA = 44.54% NO = 2267 GSP = 60.17% NSP = 33.88%\n",
      "SI2 = -227.85 SI = -478.85 eGROI = 23.34% eROI = -57.31% eROI2 = -22.00% eROI3 = -44.67% mSpread = 0.0356%\n"
     ]
    },
    {
     "name": "stderr",
     "output_type": "stream",
     "text": [
      "100%|████████████████████████████████████████████████████████████████████████████| 1912/1912 [00:00<00:00, 2700.15it/s]\n"
     ]
    },
    {
     "name": "stdout",
     "output_type": "stream",
     "text": [
      "Epoch = 9. Time index = 1. Threshold MC = 0.6. Threshold MD = 0.7\n",
      "RD = 1037 NZ = 1202 NZA = 1913 pNZ = 0.070% pNZA = 0.111% AD = 86.27% ADA = 54.21% NO = 1087 GSP = 56.58% NSP = 29.99%\n",
      "SI2 = -155.85 SI = -271.85 eGROI = 11.32% eROI = -31.50% eROI2 = -10.42% eROI3 = -21.29% mSpread = 0.0394%\n"
     ]
    },
    {
     "name": "stderr",
     "output_type": "stream",
     "text": [
      "100%|██████████████████████████████████████████████████████████████████████████████| 645/645 [00:00<00:00, 2683.54it/s]\n"
     ]
    },
    {
     "name": "stdout",
     "output_type": "stream",
     "text": [
      "Epoch = 9. Time index = 1. Threshold MC = 0.6. Threshold MD = 0.75\n",
      "RD = 395 NZ = 429 NZA = 646 pNZ = 0.025% pNZA = 0.037% AD = 92.07% ADA = 61.15% NO = 509 GSP = 52.85% NSP = 24.95%\n",
      "SI2 = -102.95 SI = -152.95 eGROI = 2.14% eROI = -20.02% eROI2 = -8.04% eROI3 = -13.13% mSpread = 0.0436%\n"
     ]
    },
    {
     "name": "stderr",
     "output_type": "stream",
     "text": [
      "100%|██████████████████████████████████████████████████████████████████████████████| 235/235 [00:00<00:00, 2244.03it/s]\n"
     ]
    },
    {
     "name": "stdout",
     "output_type": "stream",
     "text": [
      "Epoch = 9. Time index = 1. Threshold MC = 0.6. Threshold MD = 0.8\n",
      "RD = 158 NZ = 165 NZA = 236 pNZ = 0.010% pNZA = 0.014% AD = 95.76% ADA = 66.95% NO = 223 GSP = 50.67% NSP = 19.28%\n",
      "SI2 = -54.65 SI = -79.65 eGROI = -0.67% eROI = -11.71% eROI2 = -5.13% eROI3 = -7.36% mSpread = 0.0495%\n"
     ]
    },
    {
     "name": "stderr",
     "output_type": "stream",
     "text": [
      "100%|████████████████████████████████████████████████████████████████████████████████| 57/57 [00:00<00:00, 1215.88it/s]\n"
     ]
    },
    {
     "name": "stdout",
     "output_type": "stream",
     "text": [
      "Epoch = 9. Time index = 1. Threshold MC = 0.6. Threshold MD = 0.85\n",
      "RD = 42 NZ = 44 NZA = 58 pNZ = 0.003% pNZA = 0.003% AD = 95.45% ADA = 72.41% NO = 58 GSP = 46.55% NSP = 13.79%\n",
      "SI2 = -14.90 SI = -23.90 eGROI = 0.27% eROI = -3.01% eROI2 = -0.89% eROI3 = -1.47% mSpread = 0.0567%\n"
     ]
    },
    {
     "name": "stderr",
     "output_type": "stream",
     "text": [
      "100%|███████████████████████████████████████████████████████████████████████████████████| 1/1 [00:00<00:00, 334.21it/s]\n"
     ]
    },
    {
     "name": "stdout",
     "output_type": "stream",
     "text": [
      "Epoch = 9. Time index = 1. Threshold MC = 0.6. Threshold MD = 0.9\n",
      "RD = 2 NZ = 2 NZA = 2 pNZ = 0.000% pNZA = 0.000% AD = 100.00% ADA = 100.00% NO = 2 GSP = 100.00% NSP = 50.00%\n",
      "SI2 = -0.10 SI = -0.10 eGROI = 0.16% eROI = 0.04% eROI2 = 0.12% eROI3 = 0.10% mSpread = 0.0586%\n"
     ]
    },
    {
     "name": "stderr",
     "output_type": "stream",
     "text": [
      "0it [00:00, ?it/s]\n"
     ]
    },
    {
     "name": "stdout",
     "output_type": "stream",
     "text": [
      "Epoch = 9. Time index = 1. Threshold MC = 0.6. Threshold MD = 0.95\n",
      "RD = 0 NZ = 0 NZA = 0 pNZ = 0.000% pNZA = 0.000% AD = 0.00% ADA = 0.00% NO = 1 GSP = 0.00% NSP = 0.00%\n",
      "SI2 = -0.55 SI = -0.55 eGROI = 0.00% eROI = 0.00% eROI2 = 0.00% eROI3 = 0.00% mSpread = 0.0000%\n",
      "\n"
     ]
    },
    {
     "name": "stderr",
     "output_type": "stream",
     "text": [
      "100%|██████████████████████████████████████████████████████████████████████████| 87064/87064 [00:17<00:00, 5083.30it/s]\n"
     ]
    },
    {
     "name": "stdout",
     "output_type": "stream",
     "text": [
      "Epoch = 9. Time index = 1. Threshold MC = 0.65. Threshold MD = 0.5\n",
      "RD = 32092 NZ = 57993 NZA = 87065 pNZ = 3.360% pNZA = 5.044% AD = 55.34% ADA = 36.86% NO = 8897 GSP = 56.40% NSP = 44.00%\n",
      "SI2 = -786.35 SI = -978.35 eGROI = 37.71% eROI = -166.60% eROI2 = -140.23% eROI3 = -229.20% mSpread = 0.0230%\n"
     ]
    },
    {
     "name": "stderr",
     "output_type": "stream",
     "text": [
      "100%|██████████████████████████████████████████████████████████████████████████| 32281/32281 [00:08<00:00, 4019.43it/s]\n"
     ]
    },
    {
     "name": "stdout",
     "output_type": "stream",
     "text": [
      "Epoch = 9. Time index = 1. Threshold MC = 0.65. Threshold MD = 0.55\n",
      "RD = 12809 NZ = 21119 NZA = 32282 pNZ = 1.224% pNZA = 1.870% AD = 60.65% ADA = 39.68% NO = 6824 GSP = 58.12% NSP = 43.99%\n",
      "SI2 = -531.20 SI = -751.20 eGROI = 49.95% eROI = -113.02% eROI2 = -86.53% eROI3 = -154.77% mSpread = 0.0239%\n"
     ]
    },
    {
     "name": "stderr",
     "output_type": "stream",
     "text": [
      "100%|██████████████████████████████████████████████████████████████████████████| 11449/11449 [00:02<00:00, 4381.54it/s]\n"
     ]
    },
    {
     "name": "stdout",
     "output_type": "stream",
     "text": [
      "Epoch = 9. Time index = 1. Threshold MC = 0.65. Threshold MD = 0.6\n",
      "RD = 4879 NZ = 7135 NZA = 11450 pNZ = 0.413% pNZA = 0.663% AD = 68.38% ADA = 42.61% NO = 3165 GSP = 59.05% NSP = 41.58%\n",
      "SI2 = -225.75 SI = -424.75 eGROI = 35.92% eROI = -57.25% eROI2 = -27.38% eROI3 = -59.03% mSpread = 0.0294%\n"
     ]
    },
    {
     "name": "stderr",
     "output_type": "stream",
     "text": [
      "100%|████████████████████████████████████████████████████████████████████████████| 4236/4236 [00:01<00:00, 3853.99it/s]\n"
     ]
    },
    {
     "name": "stdout",
     "output_type": "stream",
     "text": [
      "Epoch = 9. Time index = 1. Threshold MC = 0.65. Threshold MD = 0.65\n",
      "RD = 1927 NZ = 2492 NZA = 4237 pNZ = 0.144% pNZA = 0.245% AD = 77.33% ADA = 45.48% NO = 1566 GSP = 60.54% NSP = 35.38%\n",
      "SI2 = -139.30 SI = -307.30 eGROI = 20.08% eROI = -36.83% eROI2 = -11.24% eROI3 = -26.90% mSpread = 0.0363%\n"
     ]
    },
    {
     "name": "stderr",
     "output_type": "stream",
     "text": [
      "100%|████████████████████████████████████████████████████████████████████████████| 1288/1288 [00:00<00:00, 3328.44it/s]\n"
     ]
    },
    {
     "name": "stdout",
     "output_type": "stream",
     "text": [
      "Epoch = 9. Time index = 1. Threshold MC = 0.65. Threshold MD = 0.7\n",
      "RD = 739 NZ = 855 NZA = 1289 pNZ = 0.050% pNZA = 0.075% AD = 86.43% ADA = 57.33% NO = 760 GSP = 58.82% NSP = 32.63%\n",
      "SI2 = -79.00 SI = -170.00 eGROI = 11.45% eROI = -19.36% eROI2 = -3.75% eROI3 = -11.35% mSpread = 0.0405%\n"
     ]
    },
    {
     "name": "stderr",
     "output_type": "stream",
     "text": [
      "100%|██████████████████████████████████████████████████████████████████████████████| 463/463 [00:00<00:00, 2994.32it/s]\n"
     ]
    },
    {
     "name": "stdout",
     "output_type": "stream",
     "text": [
      "Epoch = 9. Time index = 1. Threshold MC = 0.65. Threshold MD = 0.75\n",
      "RD = 307 NZ = 331 NZA = 464 pNZ = 0.019% pNZA = 0.027% AD = 92.75% ADA = 66.16% NO = 381 GSP = 54.33% NSP = 27.03%\n",
      "SI2 = -65.55 SI = -106.55 eGROI = 2.50% eROI = -14.51% eROI2 = -5.12% eROI3 = -8.93% mSpread = 0.0446%\n"
     ]
    },
    {
     "name": "stderr",
     "output_type": "stream",
     "text": [
      "100%|██████████████████████████████████████████████████████████████████████████████| 186/186 [00:00<00:00, 2486.63it/s]\n"
     ]
    },
    {
     "name": "stdout",
     "output_type": "stream",
     "text": [
      "Epoch = 9. Time index = 1. Threshold MC = 0.65. Threshold MD = 0.8\n",
      "RD = 132 NZ = 136 NZA = 187 pNZ = 0.008% pNZA = 0.011% AD = 97.06% ADA = 70.59% NO = 177 GSP = 51.41% NSP = 20.34%\n",
      "SI2 = -39.35 SI = -61.35 eGROI = -0.36% eROI = -9.30% eROI2 = -3.90% eROI3 = -5.67% mSpread = 0.0505%\n"
     ]
    },
    {
     "name": "stderr",
     "output_type": "stream",
     "text": [
      "100%|████████████████████████████████████████████████████████████████████████████████| 52/52 [00:00<00:00, 1336.88it/s]\n"
     ]
    },
    {
     "name": "stdout",
     "output_type": "stream",
     "text": [
      "Epoch = 9. Time index = 1. Threshold MC = 0.65. Threshold MD = 0.85\n",
      "RD = 39 NZ = 41 NZA = 53 pNZ = 0.002% pNZA = 0.003% AD = 95.12% ADA = 73.58% NO = 53 GSP = 43.40% NSP = 13.21%\n",
      "SI2 = -15.15 SI = -22.15 eGROI = 0.10% eROI = -2.93% eROI2 = -0.96% eROI3 = -1.49% mSpread = 0.0572%\n"
     ]
    },
    {
     "name": "stderr",
     "output_type": "stream",
     "text": [
      "100%|███████████████████████████████████████████████████████████████████████████████████| 1/1 [00:00<00:00, 501.95it/s]\n"
     ]
    },
    {
     "name": "stdout",
     "output_type": "stream",
     "text": [
      "Epoch = 9. Time index = 1. Threshold MC = 0.65. Threshold MD = 0.9\n",
      "RD = 2 NZ = 2 NZA = 2 pNZ = 0.000% pNZA = 0.000% AD = 100.00% ADA = 100.00% NO = 2 GSP = 100.00% NSP = 50.00%\n",
      "SI2 = -0.10 SI = -0.10 eGROI = 0.16% eROI = 0.04% eROI2 = 0.12% eROI3 = 0.10% mSpread = 0.0586%\n"
     ]
    },
    {
     "name": "stderr",
     "output_type": "stream",
     "text": [
      "0it [00:00, ?it/s]\n"
     ]
    },
    {
     "name": "stdout",
     "output_type": "stream",
     "text": [
      "Epoch = 9. Time index = 1. Threshold MC = 0.65. Threshold MD = 0.95\n",
      "RD = 0 NZ = 0 NZA = 0 pNZ = 0.000% pNZA = 0.000% AD = 0.00% ADA = 0.00% NO = 1 GSP = 0.00% NSP = 0.00%\n",
      "SI2 = -0.55 SI = -0.55 eGROI = 0.00% eROI = 0.00% eROI2 = 0.00% eROI3 = 0.00% mSpread = 0.0000%\n",
      "\n"
     ]
    },
    {
     "name": "stderr",
     "output_type": "stream",
     "text": [
      "100%|██████████████████████████████████████████████████████████████████████████| 23411/23411 [00:04<00:00, 5211.49it/s]\n"
     ]
    },
    {
     "name": "stdout",
     "output_type": "stream",
     "text": [
      "Epoch = 9. Time index = 1. Threshold MC = 0.7. Threshold MD = 0.5\n",
      "RD = 9413 NZ = 16767 NZA = 23412 pNZ = 0.971% pNZA = 1.356% AD = 56.14% ADA = 40.21% NO = 3916 GSP = 54.42% NSP = 43.51%\n",
      "SI2 = -381.80 SI = -449.80 eGROI = 3.17% eROI = -88.82% eROI2 = -75.15% eROI3 = -114.31% mSpread = 0.0235%\n"
     ]
    },
    {
     "name": "stderr",
     "output_type": "stream",
     "text": [
      "100%|██████████████████████████████████████████████████████████████████████████| 13293/13293 [00:02<00:00, 4589.67it/s]\n"
     ]
    },
    {
     "name": "stdout",
     "output_type": "stream",
     "text": [
      "Epoch = 9. Time index = 1. Threshold MC = 0.7. Threshold MD = 0.55\n",
      "RD = 5642 NZ = 9498 NZA = 13294 pNZ = 0.550% pNZA = 0.770% AD = 59.40% ADA = 42.44% NO = 3352 GSP = 55.73% NSP = 44.42%\n",
      "SI2 = -277.60 SI = -354.60 eGROI = 16.09% eROI = -64.69% eROI2 = -50.95% eROI3 = -84.47% mSpread = 0.0241%\n"
     ]
    },
    {
     "name": "stderr",
     "output_type": "stream",
     "text": [
      "100%|████████████████████████████████████████████████████████████████████████████| 5036/5036 [00:01<00:00, 3108.73it/s]\n"
     ]
    },
    {
     "name": "stdout",
     "output_type": "stream",
     "text": [
      "Epoch = 9. Time index = 1. Threshold MC = 0.7. Threshold MD = 0.6\n",
      "RD = 2358 NZ = 3518 NZA = 5037 pNZ = 0.204% pNZA = 0.292% AD = 67.03% ADA = 46.81% NO = 1808 GSP = 58.68% NSP = 44.63%\n",
      "SI2 = -100.40 SI = -187.40 eGROI = 24.10% eROI = -27.67% eROI2 = -12.06% eROI3 = -30.14% mSpread = 0.0286%\n"
     ]
    },
    {
     "name": "stderr",
     "output_type": "stream",
     "text": [
      "100%|████████████████████████████████████████████████████████████████████████████| 1747/1747 [00:00<00:00, 3641.70it/s]\n"
     ]
    },
    {
     "name": "stdout",
     "output_type": "stream",
     "text": [
      "Epoch = 9. Time index = 1. Threshold MC = 0.7. Threshold MD = 0.65\n",
      "RD = 903 NZ = 1191 NZA = 1748 pNZ = 0.069% pNZA = 0.101% AD = 75.82% ADA = 51.66% NO = 866 GSP = 57.85% NSP = 38.57%\n",
      "SI2 = -71.30 SI = -142.30 eGROI = 12.08% eROI = -19.41% eROI2 = -5.24% eROI3 = -13.90% mSpread = 0.0364%\n"
     ]
    },
    {
     "name": "stderr",
     "output_type": "stream",
     "text": [
      "100%|██████████████████████████████████████████████████████████████████████████████| 625/625 [00:00<00:00, 3040.03it/s]\n"
     ]
    },
    {
     "name": "stdout",
     "output_type": "stream",
     "text": [
      "Epoch = 9. Time index = 1. Threshold MC = 0.7. Threshold MD = 0.7\n",
      "RD = 388 NZ = 447 NZA = 626 pNZ = 0.026% pNZA = 0.036% AD = 86.80% ADA = 61.98% NO = 419 GSP = 54.89% NSP = 34.13%\n",
      "SI2 = -47.45 SI = -87.45 eGROI = 4.48% eROI = -12.58% eROI2 = -3.90% eROI3 = -8.09% mSpread = 0.0407%\n"
     ]
    },
    {
     "name": "stderr",
     "output_type": "stream",
     "text": [
      "100%|██████████████████████████████████████████████████████████████████████████████| 291/291 [00:00<00:00, 2634.47it/s]\n"
     ]
    },
    {
     "name": "stdout",
     "output_type": "stream",
     "text": [
      "Epoch = 9. Time index = 1. Threshold MC = 0.7. Threshold MD = 0.75\n",
      "RD = 200 NZ = 215 NZA = 292 pNZ = 0.012% pNZA = 0.017% AD = 93.02% ADA = 68.49% NO = 243 GSP = 52.67% NSP = 28.40%\n",
      "SI2 = -38.65 SI = -64.65 eGROI = 1.51% eROI = -9.92% eROI2 = -3.35% eROI3 = -5.78% mSpread = 0.0470%\n"
     ]
    },
    {
     "name": "stderr",
     "output_type": "stream",
     "text": [
      "100%|██████████████████████████████████████████████████████████████████████████████| 133/133 [00:00<00:00, 2424.64it/s]\n"
     ]
    },
    {
     "name": "stdout",
     "output_type": "stream",
     "text": [
      "Epoch = 9. Time index = 1. Threshold MC = 0.7. Threshold MD = 0.8\n",
      "RD = 101 NZ = 103 NZA = 134 pNZ = 0.006% pNZA = 0.008% AD = 98.06% ADA = 75.37% NO = 128 GSP = 50.78% NSP = 20.31%\n",
      "SI2 = -27.40 SI = -44.40 eGROI = -0.33% eROI = -6.93% eROI2 = -2.89% eROI3 = -4.17% mSpread = 0.0516%\n"
     ]
    },
    {
     "name": "stderr",
     "output_type": "stream",
     "text": [
      "100%|████████████████████████████████████████████████████████████████████████████████| 41/41 [00:00<00:00, 1417.66it/s]\n"
     ]
    },
    {
     "name": "stdout",
     "output_type": "stream",
     "text": [
      "Epoch = 9. Time index = 1. Threshold MC = 0.7. Threshold MD = 0.85\n",
      "RD = 34 NZ = 35 NZA = 42 pNZ = 0.002% pNZA = 0.002% AD = 97.14% ADA = 80.95% NO = 42 GSP = 45.24% NSP = 14.29%\n",
      "SI2 = -11.10 SI = -17.10 eGROI = 0.14% eROI = -2.26% eROI2 = -0.70% eROI3 = -1.12% mSpread = 0.0572%\n"
     ]
    },
    {
     "name": "stderr",
     "output_type": "stream",
     "text": [
      "100%|██████████████████████████████████████████████████████████████████████████████████| 1/1 [00:00<00:00, 1020.26it/s]\n"
     ]
    },
    {
     "name": "stdout",
     "output_type": "stream",
     "text": [
      "Epoch = 9. Time index = 1. Threshold MC = 0.7. Threshold MD = 0.9\n",
      "RD = 2 NZ = 2 NZA = 2 pNZ = 0.000% pNZA = 0.000% AD = 100.00% ADA = 100.00% NO = 2 GSP = 100.00% NSP = 50.00%\n",
      "SI2 = -0.10 SI = -0.10 eGROI = 0.16% eROI = 0.04% eROI2 = 0.12% eROI3 = 0.10% mSpread = 0.0586%\n"
     ]
    },
    {
     "name": "stderr",
     "output_type": "stream",
     "text": [
      "0it [00:00, ?it/s]\n"
     ]
    },
    {
     "name": "stdout",
     "output_type": "stream",
     "text": [
      "Epoch = 9. Time index = 1. Threshold MC = 0.7. Threshold MD = 0.95\n",
      "RD = 0 NZ = 0 NZA = 0 pNZ = 0.000% pNZA = 0.000% AD = 0.00% ADA = 0.00% NO = 1 GSP = 0.00% NSP = 0.00%\n",
      "SI2 = -0.55 SI = -0.55 eGROI = 0.00% eROI = 0.00% eROI2 = 0.00% eROI3 = 0.00% mSpread = 0.0000%\n",
      "\n"
     ]
    },
    {
     "name": "stderr",
     "output_type": "stream",
     "text": [
      "100%|████████████████████████████████████████████████████████████████████████████| 6295/6295 [00:01<00:00, 4720.86it/s]\n"
     ]
    },
    {
     "name": "stdout",
     "output_type": "stream",
     "text": [
      "Epoch = 9. Time index = 1. Threshold MC = 0.75. Threshold MD = 0.5\n",
      "RD = 2683 NZ = 4816 NZA = 6296 pNZ = 0.279% pNZA = 0.365% AD = 55.71% ADA = 42.61% NO = 1733 GSP = 51.47% NSP = 41.43%\n",
      "SI2 = -188.15 SI = -235.15 eGROI = -13.15% eROI = -55.13% eROI2 = -47.81% eROI3 = -65.14% mSpread = 0.0242%\n"
     ]
    },
    {
     "name": "stderr",
     "output_type": "stream",
     "text": [
      "100%|████████████████████████████████████████████████████████████████████████████| 4579/4579 [00:01<00:00, 4141.89it/s]\n"
     ]
    },
    {
     "name": "stdout",
     "output_type": "stream",
     "text": [
      "Epoch = 9. Time index = 1. Threshold MC = 0.75. Threshold MD = 0.55\n",
      "RD = 1995 NZ = 3495 NZA = 4580 pNZ = 0.202% pNZA = 0.265% AD = 57.08% ADA = 43.56% NO = 1509 GSP = 53.02% NSP = 42.81%\n",
      "SI2 = -140.95 SI = -183.95 eGROI = -2.84% eROI = -40.60% eROI2 = -33.02% eROI3 = -48.11% mSpread = 0.0250%\n"
     ]
    },
    {
     "name": "stderr",
     "output_type": "stream",
     "text": [
      "100%|████████████████████████████████████████████████████████████████████████████| 2160/2160 [00:00<00:00, 3979.39it/s]\n"
     ]
    },
    {
     "name": "stdout",
     "output_type": "stream",
     "text": [
      "Epoch = 9. Time index = 1. Threshold MC = 0.75. Threshold MD = 0.6\n",
      "RD = 1023 NZ = 1650 NZA = 2161 pNZ = 0.096% pNZA = 0.125% AD = 62.00% ADA = 47.34% NO = 887 GSP = 57.27% NSP = 45.89%\n",
      "SI2 = -51.85 SI = -80.85 eGROI = 8.05% eROI = -16.50% eROI2 = -9.69% eROI3 = -18.56% mSpread = 0.0277%\n"
     ]
    },
    {
     "name": "stderr",
     "output_type": "stream",
     "text": [
      "100%|██████████████████████████████████████████████████████████████████████████████| 823/823 [00:00<00:00, 3666.86it/s]\n"
     ]
    },
    {
     "name": "stdout",
     "output_type": "stream",
     "text": [
      "Epoch = 9. Time index = 1. Threshold MC = 0.75. Threshold MD = 0.65\n",
      "RD = 448 NZ = 623 NZA = 824 pNZ = 0.036% pNZA = 0.048% AD = 71.91% ADA = 54.37% NO = 464 GSP = 56.90% NSP = 41.38%\n",
      "SI2 = -42.20 SI = -63.20 eGROI = 4.51% eROI = -10.26% eROI2 = -4.77% eROI3 = -9.41% mSpread = 0.0318%\n"
     ]
    },
    {
     "name": "stderr",
     "output_type": "stream",
     "text": [
      "100%|██████████████████████████████████████████████████████████████████████████████| 321/321 [00:00<00:00, 2298.97it/s]\n"
     ]
    },
    {
     "name": "stdout",
     "output_type": "stream",
     "text": [
      "Epoch = 9. Time index = 1. Threshold MC = 0.75. Threshold MD = 0.7\n",
      "RD = 213 NZ = 248 NZA = 322 pNZ = 0.014% pNZA = 0.019% AD = 85.89% ADA = 66.15% NO = 240 GSP = 57.92% NSP = 40.42%\n",
      "SI2 = -16.00 SI = -35.00 eGROI = 2.82% eROI = -6.55% eROI2 = -1.98% eROI3 = -4.38% mSpread = 0.0391%\n"
     ]
    },
    {
     "name": "stderr",
     "output_type": "stream",
     "text": [
      "100%|██████████████████████████████████████████████████████████████████████████████| 154/154 [00:00<00:00, 1930.14it/s]\n"
     ]
    },
    {
     "name": "stdout",
     "output_type": "stream",
     "text": [
      "Epoch = 9. Time index = 1. Threshold MC = 0.75. Threshold MD = 0.75\n",
      "RD = 110 NZ = 122 NZA = 155 pNZ = 0.007% pNZA = 0.009% AD = 90.16% ADA = 70.97% NO = 140 GSP = 56.43% NSP = 33.57%\n",
      "SI2 = -15.00 SI = -30.00 eGROI = 0.51% eROI = -6.21% eROI2 = -2.29% eROI3 = -3.69% mSpread = 0.0480%\n"
     ]
    },
    {
     "name": "stderr",
     "output_type": "stream",
     "text": [
      "100%|████████████████████████████████████████████████████████████████████████████████| 71/71 [00:00<00:00, 1924.07it/s]\n"
     ]
    },
    {
     "name": "stdout",
     "output_type": "stream",
     "text": [
      "Epoch = 9. Time index = 1. Threshold MC = 0.75. Threshold MD = 0.8\n",
      "RD = 55 NZ = 57 NZA = 72 pNZ = 0.003% pNZA = 0.004% AD = 96.49% ADA = 76.39% NO = 71 GSP = 53.52% NSP = 22.54%\n",
      "SI2 = -13.05 SI = -23.05 eGROI = -0.36% eROI = -4.11% eROI2 = -1.78% eROI3 = -2.49% mSpread = 0.0527%\n"
     ]
    },
    {
     "name": "stderr",
     "output_type": "stream",
     "text": [
      "100%|████████████████████████████████████████████████████████████████████████████████| 21/21 [00:00<00:00, 2102.61it/s]\n"
     ]
    },
    {
     "name": "stdout",
     "output_type": "stream",
     "text": [
      "Epoch = 9. Time index = 1. Threshold MC = 0.75. Threshold MD = 0.85\n",
      "RD = 17 NZ = 18 NZA = 22 pNZ = 0.001% pNZA = 0.001% AD = 94.44% ADA = 77.27% NO = 22 GSP = 50.00% NSP = 13.64%\n",
      "SI2 = -5.10 SI = -9.10 eGROI = 0.09% eROI = -1.32% eROI2 = -0.35% eROI3 = -0.57% mSpread = 0.0639%\n"
     ]
    },
    {
     "name": "stderr",
     "output_type": "stream",
     "text": [
      "100%|███████████████████████████████████████████████████████████████████████████████████| 1/1 [00:00<00:00, 501.29it/s]\n"
     ]
    },
    {
     "name": "stdout",
     "output_type": "stream",
     "text": [
      "Epoch = 9. Time index = 1. Threshold MC = 0.75. Threshold MD = 0.9\n",
      "RD = 2 NZ = 2 NZA = 2 pNZ = 0.000% pNZA = 0.000% AD = 100.00% ADA = 100.00% NO = 2 GSP = 100.00% NSP = 50.00%\n",
      "SI2 = -0.10 SI = -0.10 eGROI = 0.16% eROI = 0.04% eROI2 = 0.12% eROI3 = 0.10% mSpread = 0.0586%\n"
     ]
    },
    {
     "name": "stderr",
     "output_type": "stream",
     "text": [
      "0it [00:00, ?it/s]\n"
     ]
    },
    {
     "name": "stdout",
     "output_type": "stream",
     "text": [
      "Epoch = 9. Time index = 1. Threshold MC = 0.75. Threshold MD = 0.95\n",
      "RD = 0 NZ = 0 NZA = 0 pNZ = 0.000% pNZA = 0.000% AD = 0.00% ADA = 0.00% NO = 1 GSP = 0.00% NSP = 0.00%\n",
      "SI2 = -0.55 SI = -0.55 eGROI = 0.00% eROI = 0.00% eROI2 = 0.00% eROI3 = 0.00% mSpread = 0.0000%\n",
      "\n"
     ]
    },
    {
     "name": "stderr",
     "output_type": "stream",
     "text": [
      "100%|████████████████████████████████████████████████████████████████████████████| 1561/1561 [00:00<00:00, 2743.09it/s]\n"
     ]
    },
    {
     "name": "stdout",
     "output_type": "stream",
     "text": [
      "Epoch = 9. Time index = 1. Threshold MC = 0.8. Threshold MD = 0.5\n",
      "RD = 679 NZ = 1238 NZA = 1562 pNZ = 0.072% pNZA = 0.090% AD = 54.85% ADA = 43.47% NO = 750 GSP = 50.67% NSP = 42.80%\n",
      "SI2 = -81.50 SI = -91.50 eGROI = -3.26% eROI = -21.88% eROI2 = -18.26% eROI3 = -25.76% mSpread = 0.0248%\n"
     ]
    },
    {
     "name": "stderr",
     "output_type": "stream",
     "text": [
      "100%|████████████████████████████████████████████████████████████████████████████| 1239/1239 [00:00<00:00, 3169.14it/s]\n"
     ]
    },
    {
     "name": "stdout",
     "output_type": "stream",
     "text": [
      "Epoch = 9. Time index = 1. Threshold MC = 0.8. Threshold MD = 0.55\n",
      "RD = 550 NZ = 980 NZA = 1240 pNZ = 0.057% pNZA = 0.072% AD = 56.12% ADA = 44.35% NO = 632 GSP = 51.58% NSP = 42.56%\n",
      "SI2 = -68.60 SI = -78.60 eGROI = -1.57% eROI = -17.77% eROI2 = -14.21% eROI3 = -20.53% mSpread = 0.0256%\n"
     ]
    },
    {
     "name": "stderr",
     "output_type": "stream",
     "text": [
      "100%|██████████████████████████████████████████████████████████████████████████████| 832/832 [00:00<00:00, 3505.02it/s]\n"
     ]
    },
    {
     "name": "stdout",
     "output_type": "stream",
     "text": [
      "Epoch = 9. Time index = 1. Threshold MC = 0.8. Threshold MD = 0.6\n",
      "RD = 381 NZ = 653 NZA = 833 pNZ = 0.038% pNZA = 0.048% AD = 58.35% ADA = 45.74% NO = 459 GSP = 51.20% NSP = 41.83%\n",
      "SI2 = -50.45 SI = -60.45 eGROI = 1.69% eROI = -10.79% eROI2 = -7.49% eROI3 = -12.08% mSpread = 0.0272%\n"
     ]
    },
    {
     "name": "stderr",
     "output_type": "stream",
     "text": [
      "100%|██████████████████████████████████████████████████████████████████████████████| 374/374 [00:00<00:00, 3232.71it/s]\n"
     ]
    },
    {
     "name": "stdout",
     "output_type": "stream",
     "text": [
      "Epoch = 9. Time index = 1. Threshold MC = 0.8. Threshold MD = 0.65\n",
      "RD = 200 NZ = 291 NZA = 375 pNZ = 0.017% pNZA = 0.022% AD = 68.73% ADA = 53.33% NO = 237 GSP = 57.81% NSP = 43.88%\n",
      "SI2 = -16.35 SI = -26.35 eGROI = 2.97% eROI = -4.32% eROI2 = -1.77% eROI3 = -4.14% mSpread = 0.0307%\n"
     ]
    },
    {
     "name": "stderr",
     "output_type": "stream",
     "text": [
      "100%|██████████████████████████████████████████████████████████████████████████████| 171/171 [00:00<00:00, 2637.79it/s]\n"
     ]
    },
    {
     "name": "stdout",
     "output_type": "stream",
     "text": [
      "Epoch = 9. Time index = 1. Threshold MC = 0.8. Threshold MD = 0.7\n",
      "RD = 108 NZ = 129 NZA = 172 pNZ = 0.007% pNZA = 0.010% AD = 83.72% ADA = 62.79% NO = 131 GSP = 62.60% NSP = 47.33%\n",
      "SI2 = -4.05 SI = -10.05 eGROI = 2.77% eROI = -2.07% eROI2 = 0.15% eROI3 = -1.16% mSpread = 0.0369%\n"
     ]
    },
    {
     "name": "stderr",
     "output_type": "stream",
     "text": [
      "100%|████████████████████████████████████████████████████████████████████████████████| 77/77 [00:00<00:00, 1715.69it/s]\n"
     ]
    },
    {
     "name": "stdout",
     "output_type": "stream",
     "text": [
      "Epoch = 9. Time index = 1. Threshold MC = 0.8. Threshold MD = 0.75\n",
      "RD = 51 NZ = 58 NZA = 78 pNZ = 0.003% pNZA = 0.005% AD = 87.93% ADA = 65.38% NO = 72 GSP = 56.94% NSP = 41.67%\n",
      "SI2 = -7.60 SI = -9.60 eGROI = 0.57% eROI = -3.03% eROI2 = -0.87% eROI3 = -1.59% mSpread = 0.0500%\n"
     ]
    },
    {
     "name": "stderr",
     "output_type": "stream",
     "text": [
      "100%|████████████████████████████████████████████████████████████████████████████████| 32/32 [00:00<00:00, 2005.43it/s]\n"
     ]
    },
    {
     "name": "stdout",
     "output_type": "stream",
     "text": [
      "Epoch = 9. Time index = 1. Threshold MC = 0.8. Threshold MD = 0.8\n",
      "RD = 23 NZ = 24 NZA = 33 pNZ = 0.001% pNZA = 0.002% AD = 95.83% ADA = 69.70% NO = 33 GSP = 54.55% NSP = 33.33%\n",
      "SI2 = -6.15 SI = -7.15 eGROI = -0.00% eROI = -2.12% eROI2 = -0.66% eROI3 = -0.99% mSpread = 0.0641%\n"
     ]
    },
    {
     "name": "stderr",
     "output_type": "stream",
     "text": [
      "100%|██████████████████████████████████████████████████████████████████████████████████| 6/6 [00:00<00:00, 1204.39it/s]\n"
     ]
    },
    {
     "name": "stdout",
     "output_type": "stream",
     "text": [
      "Epoch = 9. Time index = 1. Threshold MC = 0.8. Threshold MD = 0.85\n",
      "RD = 5 NZ = 5 NZA = 7 pNZ = 0.000% pNZA = 0.000% AD = 100.00% ADA = 71.43% NO = 7 GSP = 57.14% NSP = 42.86%\n",
      "SI2 = -1.85 SI = -0.85 eGROI = 0.26% eROI = -0.24% eROI2 = 0.12% eROI3 = 0.05% mSpread = 0.0711%\n"
     ]
    },
    {
     "name": "stderr",
     "output_type": "stream",
     "text": [
      "0it [00:00, ?it/s]\n"
     ]
    },
    {
     "name": "stdout",
     "output_type": "stream",
     "text": [
      "Epoch = 9. Time index = 1. Threshold MC = 0.8. Threshold MD = 0.9\n",
      "RD = 1 NZ = 1 NZA = 1 pNZ = 0.000% pNZA = 0.000% AD = 100.00% ADA = 100.00% NO = 1 GSP = 100.00% NSP = 100.00%\n",
      "SI2 = -0.55 SI = 0.45 eGROI = 0.11% eROI = 0.06% eROI2 = 0.09% eROI3 = 0.08% mSpread = 0.0557%\n"
     ]
    },
    {
     "name": "stderr",
     "output_type": "stream",
     "text": [
      "0it [00:00, ?it/s]\n"
     ]
    },
    {
     "name": "stdout",
     "output_type": "stream",
     "text": [
      "Epoch = 9. Time index = 1. Threshold MC = 0.8. Threshold MD = 0.95\n",
      "RD = 0 NZ = 0 NZA = 0 pNZ = 0.000% pNZA = 0.000% AD = 0.00% ADA = 0.00% NO = 1 GSP = 0.00% NSP = 0.00%\n",
      "SI2 = -0.55 SI = -0.55 eGROI = 0.00% eROI = 0.00% eROI2 = 0.00% eROI3 = 0.00% mSpread = 0.0000%\n",
      "\n"
     ]
    },
    {
     "name": "stderr",
     "output_type": "stream",
     "text": [
      "100%|██████████████████████████████████████████████████████████████████████████████| 342/342 [00:00<00:00, 2198.17it/s]\n"
     ]
    },
    {
     "name": "stdout",
     "output_type": "stream",
     "text": [
      "Epoch = 9. Time index = 1. Threshold MC = 0.85. Threshold MD = 0.5\n",
      "RD = 162 NZ = 283 NZA = 343 pNZ = 0.016% pNZA = 0.020% AD = 57.24% ADA = 47.23% NO = 263 GSP = 52.47% NSP = 46.77%\n",
      "SI2 = -18.65 SI = -21.65 eGROI = 1.65% eROI = -4.59% eROI2 = -3.61% eROI3 = -6.24% mSpread = 0.0237%\n"
     ]
    },
    {
     "name": "stderr",
     "output_type": "stream",
     "text": [
      "100%|██████████████████████████████████████████████████████████████████████████████| 259/259 [00:00<00:00, 1828.83it/s]\n"
     ]
    },
    {
     "name": "stdout",
     "output_type": "stream",
     "text": [
      "Epoch = 9. Time index = 1. Threshold MC = 0.85. Threshold MD = 0.55\n",
      "RD = 123 NZ = 209 NZA = 260 pNZ = 0.012% pNZA = 0.015% AD = 58.85% ADA = 47.31% NO = 204 GSP = 54.41% NSP = 48.04%\n",
      "SI2 = -13.20 SI = -14.20 eGROI = 2.37% eROI = -2.62% eROI2 = -1.71% eROI3 = -3.75% mSpread = 0.0244%\n"
     ]
    },
    {
     "name": "stderr",
     "output_type": "stream",
     "text": [
      "100%|██████████████████████████████████████████████████████████████████████████████| 186/186 [00:00<00:00, 2486.65it/s]\n"
     ]
    },
    {
     "name": "stdout",
     "output_type": "stream",
     "text": [
      "Epoch = 9. Time index = 1. Threshold MC = 0.85. Threshold MD = 0.6\n",
      "RD = 95 NZ = 153 NZA = 187 pNZ = 0.009% pNZA = 0.011% AD = 62.09% ADA = 50.80% NO = 146 GSP = 57.53% NSP = 51.37%\n",
      "SI2 = -4.30 SI = -5.30 eGROI = 4.02% eROI = 0.41% eROI2 = 1.10% eROI3 = -0.36% mSpread = 0.0247%\n"
     ]
    },
    {
     "name": "stderr",
     "output_type": "stream",
     "text": [
      "100%|██████████████████████████████████████████████████████████████████████████████| 115/115 [00:00<00:00, 2809.36it/s]\n"
     ]
    },
    {
     "name": "stdout",
     "output_type": "stream",
     "text": [
      "Epoch = 9. Time index = 1. Threshold MC = 0.85. Threshold MD = 0.65\n",
      "RD = 62 NZ = 95 NZA = 116 pNZ = 0.006% pNZA = 0.007% AD = 65.26% ADA = 53.45% NO = 92 GSP = 63.04% NSP = 54.35%\n",
      "SI2 = 2.40 SI = -0.60 eGROI = 2.21% eROI = -0.25% eROI2 = 0.37% eROI3 = -0.55% mSpread = 0.0267%\n"
     ]
    },
    {
     "name": "stderr",
     "output_type": "stream",
     "text": [
      "100%|████████████████████████████████████████████████████████████████████████████████| 56/56 [00:00<00:00, 1811.21it/s]\n"
     ]
    },
    {
     "name": "stdout",
     "output_type": "stream",
     "text": [
      "Epoch = 9. Time index = 1. Threshold MC = 0.85. Threshold MD = 0.7\n",
      "RD = 35 NZ = 44 NZA = 57 pNZ = 0.003% pNZA = 0.003% AD = 79.55% ADA = 61.40% NO = 48 GSP = 70.83% NSP = 60.42%\n",
      "SI2 = 3.60 SI = 2.60 eGROI = 1.78% eROI = 0.21% eROI2 = 0.82% eROI3 = 0.34% mSpread = 0.0326%\n"
     ]
    },
    {
     "name": "stderr",
     "output_type": "stream",
     "text": [
      "100%|████████████████████████████████████████████████████████████████████████████████| 23/23 [00:00<00:00, 1537.62it/s]\n"
     ]
    },
    {
     "name": "stdout",
     "output_type": "stream",
     "text": [
      "Epoch = 9. Time index = 1. Threshold MC = 0.85. Threshold MD = 0.75\n",
      "RD = 12 NZ = 16 NZA = 24 pNZ = 0.001% pNZA = 0.001% AD = 75.00% ADA = 50.00% NO = 24 GSP = 58.33% NSP = 41.67%\n",
      "SI2 = -3.20 SI = -3.20 eGROI = -0.29% eROI = -1.37% eROI2 = -0.77% eROI3 = -1.01% mSpread = 0.0451%\n"
     ]
    },
    {
     "name": "stderr",
     "output_type": "stream",
     "text": [
      "100%|██████████████████████████████████████████████████████████████████████████████████| 6/6 [00:00<00:00, 1505.31it/s]\n"
     ]
    },
    {
     "name": "stdout",
     "output_type": "stream",
     "text": [
      "Epoch = 9. Time index = 1. Threshold MC = 0.85. Threshold MD = 0.8\n",
      "RD = 5 NZ = 6 NZA = 7 pNZ = 0.000% pNZA = 0.000% AD = 83.33% ADA = 71.43% NO = 7 GSP = 57.14% NSP = 14.29%\n",
      "SI2 = -0.85 SI = -2.85 eGROI = -0.41% eROI = -1.03% eROI2 = -0.55% eROI3 = -0.62% mSpread = 0.0892%\n"
     ]
    },
    {
     "name": "stderr",
     "output_type": "stream",
     "text": [
      "0it [00:00, ?it/s]\n"
     ]
    },
    {
     "name": "stdout",
     "output_type": "stream",
     "text": [
      "Epoch = 9. Time index = 1. Threshold MC = 0.85. Threshold MD = 0.85\n",
      "RD = 0 NZ = 0 NZA = 0 pNZ = 0.000% pNZA = 0.000% AD = 0.00% ADA = 0.00% NO = 1 GSP = 0.00% NSP = 0.00%\n",
      "SI2 = -0.55 SI = -0.55 eGROI = 0.00% eROI = 0.00% eROI2 = 0.00% eROI3 = 0.00% mSpread = 0.0000%\n"
     ]
    },
    {
     "name": "stderr",
     "output_type": "stream",
     "text": [
      "0it [00:00, ?it/s]\n"
     ]
    },
    {
     "name": "stdout",
     "output_type": "stream",
     "text": [
      "Epoch = 9. Time index = 1. Threshold MC = 0.85. Threshold MD = 0.9\n",
      "RD = 0 NZ = 0 NZA = 0 pNZ = 0.000% pNZA = 0.000% AD = 0.00% ADA = 0.00% NO = 1 GSP = 0.00% NSP = 0.00%\n",
      "SI2 = -0.55 SI = -0.55 eGROI = 0.00% eROI = 0.00% eROI2 = 0.00% eROI3 = 0.00% mSpread = 0.0000%\n"
     ]
    },
    {
     "name": "stderr",
     "output_type": "stream",
     "text": [
      "0it [00:00, ?it/s]\n"
     ]
    },
    {
     "name": "stdout",
     "output_type": "stream",
     "text": [
      "Epoch = 9. Time index = 1. Threshold MC = 0.85. Threshold MD = 0.95\n",
      "RD = 0 NZ = 0 NZA = 0 pNZ = 0.000% pNZA = 0.000% AD = 0.00% ADA = 0.00% NO = 1 GSP = 0.00% NSP = 0.00%\n",
      "SI2 = -0.55 SI = -0.55 eGROI = 0.00% eROI = 0.00% eROI2 = 0.00% eROI3 = 0.00% mSpread = 0.0000%\n",
      "\n"
     ]
    },
    {
     "name": "stderr",
     "output_type": "stream",
     "text": [
      "100%|████████████████████████████████████████████████████████████████████████████████| 28/28 [00:00<00:00, 1002.77it/s]\n"
     ]
    },
    {
     "name": "stdout",
     "output_type": "stream",
     "text": [
      "Epoch = 9. Time index = 1. Threshold MC = 0.9. Threshold MD = 0.5\n",
      "RD = 12 NZ = 23 NZA = 29 pNZ = 0.001% pNZA = 0.002% AD = 52.17% ADA = 41.38% NO = 29 GSP = 41.38% NSP = 41.38%\n",
      "SI2 = -3.95 SI = -3.95 eGROI = -0.84% eROI = -1.37% eROI2 = -1.42% eROI3 = -1.71% mSpread = 0.0182%\n"
     ]
    },
    {
     "name": "stderr",
     "output_type": "stream",
     "text": [
      "100%|████████████████████████████████████████████████████████████████████████████████| 18/18 [00:00<00:00, 1288.79it/s]\n"
     ]
    },
    {
     "name": "stdout",
     "output_type": "stream",
     "text": [
      "Epoch = 9. Time index = 1. Threshold MC = 0.9. Threshold MD = 0.55\n",
      "RD = 8 NZ = 16 NZA = 19 pNZ = 0.001% pNZA = 0.001% AD = 50.00% ADA = 42.11% NO = 19 GSP = 42.11% NSP = 42.11%\n",
      "SI2 = -2.45 SI = -2.45 eGROI = -0.65% eROI = -0.99% eROI2 = -1.03% eROI3 = -1.22% mSpread = 0.0175%\n"
     ]
    },
    {
     "name": "stderr",
     "output_type": "stream",
     "text": [
      "100%|██████████████████████████████████████████████████████████████████████████████████| 3/3 [00:00<00:00, 1503.87it/s]\n"
     ]
    },
    {
     "name": "stdout",
     "output_type": "stream",
     "text": [
      "Epoch = 9. Time index = 1. Threshold MC = 0.9. Threshold MD = 0.6\n",
      "RD = 1 NZ = 3 NZA = 4 pNZ = 0.000% pNZA = 0.000% AD = 33.33% ADA = 25.00% NO = 4 GSP = 25.00% NSP = 25.00%\n",
      "SI2 = -1.20 SI = -1.20 eGROI = -0.04% eROI = -0.09% eROI2 = -0.12% eROI3 = -0.16% mSpread = 0.0123%\n"
     ]
    },
    {
     "name": "stderr",
     "output_type": "stream",
     "text": [
      "0it [00:00, ?it/s]\n"
     ]
    },
    {
     "name": "stdout",
     "output_type": "stream",
     "text": [
      "Epoch = 9. Time index = 1. Threshold MC = 0.9. Threshold MD = 0.65\n",
      "RD = 0 NZ = 1 NZA = 1 pNZ = 0.000% pNZA = 0.000% AD = 0.00% ADA = 0.00% NO = 1 GSP = 0.00% NSP = 0.00%\n",
      "SI2 = -0.55 SI = -0.55 eGROI = -0.07% eROI = -0.08% eROI2 = -0.09% eROI3 = -0.10% mSpread = 0.0089%\n"
     ]
    },
    {
     "name": "stderr",
     "output_type": "stream",
     "text": [
      "0it [00:00, ?it/s]\n"
     ]
    },
    {
     "name": "stdout",
     "output_type": "stream",
     "text": [
      "Epoch = 9. Time index = 1. Threshold MC = 0.9. Threshold MD = 0.7\n",
      "RD = 0 NZ = 1 NZA = 1 pNZ = 0.000% pNZA = 0.000% AD = 0.00% ADA = 0.00% NO = 1 GSP = 0.00% NSP = 0.00%\n",
      "SI2 = -0.55 SI = -0.55 eGROI = -0.07% eROI = -0.08% eROI2 = -0.09% eROI3 = -0.10% mSpread = 0.0089%\n"
     ]
    },
    {
     "name": "stderr",
     "output_type": "stream",
     "text": [
      "0it [00:00, ?it/s]\n"
     ]
    },
    {
     "name": "stdout",
     "output_type": "stream",
     "text": [
      "Epoch = 9. Time index = 1. Threshold MC = 0.9. Threshold MD = 0.75\n",
      "RD = 0 NZ = 0 NZA = 0 pNZ = 0.000% pNZA = 0.000% AD = 0.00% ADA = 0.00% NO = 1 GSP = 0.00% NSP = 0.00%\n",
      "SI2 = -0.55 SI = -0.55 eGROI = 0.00% eROI = 0.00% eROI2 = 0.00% eROI3 = 0.00% mSpread = 0.0000%\n"
     ]
    },
    {
     "name": "stderr",
     "output_type": "stream",
     "text": [
      "0it [00:00, ?it/s]\n"
     ]
    },
    {
     "name": "stdout",
     "output_type": "stream",
     "text": [
      "Epoch = 9. Time index = 1. Threshold MC = 0.9. Threshold MD = 0.8\n",
      "RD = 0 NZ = 0 NZA = 0 pNZ = 0.000% pNZA = 0.000% AD = 0.00% ADA = 0.00% NO = 1 GSP = 0.00% NSP = 0.00%\n",
      "SI2 = -0.55 SI = -0.55 eGROI = 0.00% eROI = 0.00% eROI2 = 0.00% eROI3 = 0.00% mSpread = 0.0000%\n"
     ]
    },
    {
     "name": "stderr",
     "output_type": "stream",
     "text": [
      "0it [00:00, ?it/s]\n"
     ]
    },
    {
     "name": "stdout",
     "output_type": "stream",
     "text": [
      "Epoch = 9. Time index = 1. Threshold MC = 0.9. Threshold MD = 0.85\n",
      "RD = 0 NZ = 0 NZA = 0 pNZ = 0.000% pNZA = 0.000% AD = 0.00% ADA = 0.00% NO = 1 GSP = 0.00% NSP = 0.00%\n",
      "SI2 = -0.55 SI = -0.55 eGROI = 0.00% eROI = 0.00% eROI2 = 0.00% eROI3 = 0.00% mSpread = 0.0000%\n"
     ]
    },
    {
     "name": "stderr",
     "output_type": "stream",
     "text": [
      "0it [00:00, ?it/s]\n"
     ]
    },
    {
     "name": "stdout",
     "output_type": "stream",
     "text": [
      "Epoch = 9. Time index = 1. Threshold MC = 0.9. Threshold MD = 0.9\n",
      "RD = 0 NZ = 0 NZA = 0 pNZ = 0.000% pNZA = 0.000% AD = 0.00% ADA = 0.00% NO = 1 GSP = 0.00% NSP = 0.00%\n",
      "SI2 = -0.55 SI = -0.55 eGROI = 0.00% eROI = 0.00% eROI2 = 0.00% eROI3 = 0.00% mSpread = 0.0000%\n"
     ]
    },
    {
     "name": "stderr",
     "output_type": "stream",
     "text": [
      "0it [00:00, ?it/s]\n"
     ]
    },
    {
     "name": "stdout",
     "output_type": "stream",
     "text": [
      "Epoch = 9. Time index = 1. Threshold MC = 0.9. Threshold MD = 0.95\n",
      "RD = 0 NZ = 0 NZA = 0 pNZ = 0.000% pNZA = 0.000% AD = 0.00% ADA = 0.00% NO = 1 GSP = 0.00% NSP = 0.00%\n",
      "SI2 = -0.55 SI = -0.55 eGROI = 0.00% eROI = 0.00% eROI2 = 0.00% eROI3 = 0.00% mSpread = 0.0000%\n",
      "\n"
     ]
    },
    {
     "name": "stderr",
     "output_type": "stream",
     "text": [
      "0it [00:00, ?it/s]\n"
     ]
    },
    {
     "name": "stdout",
     "output_type": "stream",
     "text": [
      "Epoch = 9. Time index = 1. Threshold MC = 0.95. Threshold MD = 0.5\n",
      "RD = 0 NZ = 0 NZA = 0 pNZ = 0.000% pNZA = 0.000% AD = 0.00% ADA = 0.00% NO = 1 GSP = 0.00% NSP = 0.00%\n",
      "SI2 = -0.55 SI = -0.55 eGROI = 0.00% eROI = 0.00% eROI2 = 0.00% eROI3 = 0.00% mSpread = 0.0000%\n"
     ]
    },
    {
     "name": "stderr",
     "output_type": "stream",
     "text": [
      "0it [00:00, ?it/s]\n"
     ]
    },
    {
     "name": "stdout",
     "output_type": "stream",
     "text": [
      "Epoch = 9. Time index = 1. Threshold MC = 0.95. Threshold MD = 0.55\n",
      "RD = 0 NZ = 0 NZA = 0 pNZ = 0.000% pNZA = 0.000% AD = 0.00% ADA = 0.00% NO = 1 GSP = 0.00% NSP = 0.00%\n",
      "SI2 = -0.55 SI = -0.55 eGROI = 0.00% eROI = 0.00% eROI2 = 0.00% eROI3 = 0.00% mSpread = 0.0000%\n"
     ]
    },
    {
     "name": "stderr",
     "output_type": "stream",
     "text": [
      "0it [00:00, ?it/s]\n"
     ]
    },
    {
     "name": "stdout",
     "output_type": "stream",
     "text": [
      "Epoch = 9. Time index = 1. Threshold MC = 0.95. Threshold MD = 0.6\n",
      "RD = 0 NZ = 0 NZA = 0 pNZ = 0.000% pNZA = 0.000% AD = 0.00% ADA = 0.00% NO = 1 GSP = 0.00% NSP = 0.00%\n",
      "SI2 = -0.55 SI = -0.55 eGROI = 0.00% eROI = 0.00% eROI2 = 0.00% eROI3 = 0.00% mSpread = 0.0000%\n"
     ]
    },
    {
     "name": "stderr",
     "output_type": "stream",
     "text": [
      "0it [00:00, ?it/s]\n"
     ]
    },
    {
     "name": "stdout",
     "output_type": "stream",
     "text": [
      "Epoch = 9. Time index = 1. Threshold MC = 0.95. Threshold MD = 0.65\n",
      "RD = 0 NZ = 0 NZA = 0 pNZ = 0.000% pNZA = 0.000% AD = 0.00% ADA = 0.00% NO = 1 GSP = 0.00% NSP = 0.00%\n",
      "SI2 = -0.55 SI = -0.55 eGROI = 0.00% eROI = 0.00% eROI2 = 0.00% eROI3 = 0.00% mSpread = 0.0000%\n"
     ]
    },
    {
     "name": "stderr",
     "output_type": "stream",
     "text": [
      "0it [00:00, ?it/s]\n"
     ]
    },
    {
     "name": "stdout",
     "output_type": "stream",
     "text": [
      "Epoch = 9. Time index = 1. Threshold MC = 0.95. Threshold MD = 0.7\n",
      "RD = 0 NZ = 0 NZA = 0 pNZ = 0.000% pNZA = 0.000% AD = 0.00% ADA = 0.00% NO = 1 GSP = 0.00% NSP = 0.00%\n",
      "SI2 = -0.55 SI = -0.55 eGROI = 0.00% eROI = 0.00% eROI2 = 0.00% eROI3 = 0.00% mSpread = 0.0000%\n"
     ]
    },
    {
     "name": "stderr",
     "output_type": "stream",
     "text": [
      "0it [00:00, ?it/s]\n"
     ]
    },
    {
     "name": "stdout",
     "output_type": "stream",
     "text": [
      "Epoch = 9. Time index = 1. Threshold MC = 0.95. Threshold MD = 0.75\n",
      "RD = 0 NZ = 0 NZA = 0 pNZ = 0.000% pNZA = 0.000% AD = 0.00% ADA = 0.00% NO = 1 GSP = 0.00% NSP = 0.00%\n",
      "SI2 = -0.55 SI = -0.55 eGROI = 0.00% eROI = 0.00% eROI2 = 0.00% eROI3 = 0.00% mSpread = 0.0000%\n"
     ]
    },
    {
     "name": "stderr",
     "output_type": "stream",
     "text": [
      "0it [00:00, ?it/s]\n"
     ]
    },
    {
     "name": "stdout",
     "output_type": "stream",
     "text": [
      "Epoch = 9. Time index = 1. Threshold MC = 0.95. Threshold MD = 0.8\n",
      "RD = 0 NZ = 0 NZA = 0 pNZ = 0.000% pNZA = 0.000% AD = 0.00% ADA = 0.00% NO = 1 GSP = 0.00% NSP = 0.00%\n",
      "SI2 = -0.55 SI = -0.55 eGROI = 0.00% eROI = 0.00% eROI2 = 0.00% eROI3 = 0.00% mSpread = 0.0000%\n"
     ]
    },
    {
     "name": "stderr",
     "output_type": "stream",
     "text": [
      "0it [00:00, ?it/s]\n"
     ]
    },
    {
     "name": "stdout",
     "output_type": "stream",
     "text": [
      "Epoch = 9. Time index = 1. Threshold MC = 0.95. Threshold MD = 0.85\n",
      "RD = 0 NZ = 0 NZA = 0 pNZ = 0.000% pNZA = 0.000% AD = 0.00% ADA = 0.00% NO = 1 GSP = 0.00% NSP = 0.00%\n",
      "SI2 = -0.55 SI = -0.55 eGROI = 0.00% eROI = 0.00% eROI2 = 0.00% eROI3 = 0.00% mSpread = 0.0000%\n"
     ]
    },
    {
     "name": "stderr",
     "output_type": "stream",
     "text": [
      "0it [00:00, ?it/s]\n"
     ]
    },
    {
     "name": "stdout",
     "output_type": "stream",
     "text": [
      "Epoch = 9. Time index = 1. Threshold MC = 0.95. Threshold MD = 0.9\n",
      "RD = 0 NZ = 0 NZA = 0 pNZ = 0.000% pNZA = 0.000% AD = 0.00% ADA = 0.00% NO = 1 GSP = 0.00% NSP = 0.00%\n",
      "SI2 = -0.55 SI = -0.55 eGROI = 0.00% eROI = 0.00% eROI2 = 0.00% eROI3 = 0.00% mSpread = 0.0000%\n"
     ]
    },
    {
     "name": "stderr",
     "output_type": "stream",
     "text": [
      "0it [00:00, ?it/s]\n"
     ]
    },
    {
     "name": "stdout",
     "output_type": "stream",
     "text": [
      "Epoch = 9. Time index = 1. Threshold MC = 0.95. Threshold MD = 0.95\n",
      "RD = 0 NZ = 0 NZA = 0 pNZ = 0.000% pNZA = 0.000% AD = 0.00% ADA = 0.00% NO = 1 GSP = 0.00% NSP = 0.00%\n",
      "SI2 = -0.55 SI = -0.55 eGROI = 0.00% eROI = 0.00% eROI2 = 0.00% eROI3 = 0.00% mSpread = 0.0000%\n",
      "\n"
     ]
    },
    {
     "name": "stderr",
     "output_type": "stream",
     "text": [
      "0it [00:00, ?it/s]\n"
     ]
    },
    {
     "name": "stdout",
     "output_type": "stream",
     "text": [
      "Epoch = 9. Time index = 2. Threshold MC = 0.5. Threshold MD = 0.5\n",
      "J_test = 6.279867172241211, J_train = 6.471134484857639, Accuracy=0.5383421018937425\n",
      "RD = 400135 NZ = 767520 NZA = 1488518 pNZ = 44.467% pNZA = 86.238% AD = 52.13% ADA = 26.88% NO = 1 GSP = 0.00% NSP = 0.00%\n",
      "SI2 = -0.55 SI = -0.55 eGROI = 0.00% eROI = 0.00% eROI2 = 0.00% eROI3 = 0.00% mSpread = 0.0000%\n"
     ]
    },
    {
     "name": "stderr",
     "output_type": "stream",
     "text": [
      "100%|████████████████████████████████████████████████████████████████████████| 157761/157761 [00:31<00:00, 5022.66it/s]\n"
     ]
    },
    {
     "name": "stdout",
     "output_type": "stream",
     "text": [
      "Epoch = 9. Time index = 2. Threshold MC = 0.5. Threshold MD = 0.55\n",
      "RD = 48156 NZ = 81661 NZA = 157762 pNZ = 4.731% pNZA = 9.140% AD = 58.97% ADA = 30.52% NO = 20141 GSP = 56.36% NSP = 43.01%\n",
      "SI2 = -2119.55 SI = -2415.55 eGROI = 88.25% eROI = -356.13% eROI2 = -314.57% eROI3 = -515.98% mSpread = 0.0221%\n"
     ]
    },
    {
     "name": "stderr",
     "output_type": "stream",
     "text": [
      "100%|██████████████████████████████████████████████████████████████████████████| 42912/42912 [00:09<00:00, 4515.32it/s]\n"
     ]
    },
    {
     "name": "stdout",
     "output_type": "stream",
     "text": [
      "Epoch = 9. Time index = 2. Threshold MC = 0.5. Threshold MD = 0.6\n",
      "RD = 14303 NZ = 21088 NZA = 42913 pNZ = 1.222% pNZA = 2.486% AD = 67.83% ADA = 33.33% NO = 6958 GSP = 56.15% NSP = 38.65%\n",
      "SI2 = -858.90 SI = -1137.90 eGROI = 39.60% eROI = -136.69% eROI2 = -99.56% eROI3 = -169.14% mSpread = 0.0253%\n"
     ]
    },
    {
     "name": "stderr",
     "output_type": "stream",
     "text": [
      "100%|██████████████████████████████████████████████████████████████████████████| 13392/13392 [00:04<00:00, 3070.34it/s]\n"
     ]
    },
    {
     "name": "stdout",
     "output_type": "stream",
     "text": [
      "Epoch = 9. Time index = 2. Threshold MC = 0.5. Threshold MD = 0.65\n",
      "RD = 5015 NZ = 6532 NZA = 13393 pNZ = 0.378% pNZA = 0.776% AD = 76.78% ADA = 37.44% NO = 3534 GSP = 54.39% NSP = 31.92%\n",
      "SI2 = -599.70 SI = -815.70 eGROI = 18.40% eROI = -91.21% eROI2 = -52.28% eROI3 = -87.62% mSpread = 0.0310%\n"
     ]
    },
    {
     "name": "stderr",
     "output_type": "stream",
     "text": [
      "100%|████████████████████████████████████████████████████████████████████████████| 3659/3659 [00:01<00:00, 3586.29it/s]\n"
     ]
    },
    {
     "name": "stdout",
     "output_type": "stream",
     "text": [
      "Epoch = 9. Time index = 2. Threshold MC = 0.5. Threshold MD = 0.7\n",
      "RD = 1653 NZ = 1950 NZA = 3660 pNZ = 0.113% pNZA = 0.212% AD = 84.77% ADA = 45.16% NO = 1747 GSP = 53.29% NSP = 26.50%\n",
      "SI2 = -347.85 SI = -497.85 eGROI = 9.07% eROI = -54.71% eROI2 = -25.87% eROI3 = -43.34% mSpread = 0.0365%\n"
     ]
    },
    {
     "name": "stderr",
     "output_type": "stream",
     "text": [
      "100%|██████████████████████████████████████████████████████████████████████████████| 989/989 [00:00<00:00, 2762.22it/s]\n"
     ]
    },
    {
     "name": "stdout",
     "output_type": "stream",
     "text": [
      "Epoch = 9. Time index = 2. Threshold MC = 0.5. Threshold MD = 0.75\n",
      "RD = 535 NZ = 586 NZA = 990 pNZ = 0.034% pNZA = 0.057% AD = 91.30% ADA = 54.04% NO = 702 GSP = 50.57% NSP = 22.36%\n",
      "SI2 = -164.10 SI = -229.10 eGROI = 0.33% eROI = -29.82% eROI2 = -13.71% eROI3 = -20.73% mSpread = 0.0429%\n"
     ]
    },
    {
     "name": "stderr",
     "output_type": "stream",
     "text": [
      "100%|██████████████████████████████████████████████████████████████████████████████| 253/253 [00:00<00:00, 2562.38it/s]\n"
     ]
    },
    {
     "name": "stdout",
     "output_type": "stream",
     "text": [
      "Epoch = 9. Time index = 2. Threshold MC = 0.5. Threshold MD = 0.8\n",
      "RD = 159 NZ = 164 NZA = 254 pNZ = 0.010% pNZA = 0.015% AD = 96.95% ADA = 62.60% NO = 232 GSP = 47.84% NSP = 19.40%\n",
      "SI2 = -59.60 SI = -82.60 eGROI = -0.08% eROI = -11.53% eROI2 = -4.72% eROI3 = -7.04% mSpread = 0.0493%\n"
     ]
    },
    {
     "name": "stderr",
     "output_type": "stream",
     "text": [
      "100%|████████████████████████████████████████████████████████████████████████████████| 33/33 [00:00<00:00, 1838.36it/s]\n"
     ]
    },
    {
     "name": "stdout",
     "output_type": "stream",
     "text": [
      "Epoch = 9. Time index = 2. Threshold MC = 0.5. Threshold MD = 0.85\n",
      "RD = 28 NZ = 28 NZA = 34 pNZ = 0.002% pNZA = 0.002% AD = 100.00% ADA = 82.35% NO = 34 GSP = 52.94% NSP = 17.65%\n",
      "SI2 = -8.70 SI = -12.70 eGROI = 0.45% eROI = -1.62% eROI2 = -0.23% eROI3 = -0.57% mSpread = 0.0610%\n"
     ]
    },
    {
     "name": "stderr",
     "output_type": "stream",
     "text": [
      "0it [00:00, ?it/s]\n"
     ]
    },
    {
     "name": "stdout",
     "output_type": "stream",
     "text": [
      "Epoch = 9. Time index = 2. Threshold MC = 0.5. Threshold MD = 0.9\n",
      "RD = 0 NZ = 0 NZA = 0 pNZ = 0.000% pNZA = 0.000% AD = 0.00% ADA = 0.00% NO = 1 GSP = 0.00% NSP = 0.00%\n",
      "SI2 = -0.55 SI = -0.55 eGROI = 0.00% eROI = 0.00% eROI2 = 0.00% eROI3 = 0.00% mSpread = 0.0000%\n"
     ]
    },
    {
     "name": "stderr",
     "output_type": "stream",
     "text": [
      "0it [00:00, ?it/s]\n"
     ]
    },
    {
     "name": "stdout",
     "output_type": "stream",
     "text": [
      "Epoch = 9. Time index = 2. Threshold MC = 0.5. Threshold MD = 0.95\n",
      "RD = 0 NZ = 0 NZA = 0 pNZ = 0.000% pNZA = 0.000% AD = 0.00% ADA = 0.00% NO = 1 GSP = 0.00% NSP = 0.00%\n",
      "SI2 = -0.55 SI = -0.55 eGROI = 0.00% eROI = 0.00% eROI2 = 0.00% eROI3 = 0.00% mSpread = 0.0000%\n",
      "\n"
     ]
    },
    {
     "name": "stderr",
     "output_type": "stream",
     "text": [
      "0it [00:00, ?it/s]\n"
     ]
    },
    {
     "name": "stdout",
     "output_type": "stream",
     "text": [
      "Epoch = 9. Time index = 2. Threshold MC = 0.55. Threshold MD = 0.5\n",
      "RD = 288066 NZ = 549107 NZA = 993500 pNZ = 31.813% pNZA = 57.559% AD = 52.46% ADA = 29.00% NO = 1 GSP = 0.00% NSP = 0.00%\n",
      "SI2 = -0.55 SI = -0.55 eGROI = 0.00% eROI = 0.00% eROI2 = 0.00% eROI3 = 0.00% mSpread = 0.0000%\n"
     ]
    },
    {
     "name": "stderr",
     "output_type": "stream",
     "text": [
      "100%|████████████████████████████████████████████████████████████████████████| 109258/109258 [00:21<00:00, 5111.89it/s]\n"
     ]
    },
    {
     "name": "stdout",
     "output_type": "stream",
     "text": [
      "Epoch = 9. Time index = 2. Threshold MC = 0.55. Threshold MD = 0.55\n",
      "RD = 36702 NZ = 61817 NZA = 109259 pNZ = 3.581% pNZA = 6.330% AD = 59.37% ADA = 33.59% NO = 17301 GSP = 57.17% NSP = 43.59%\n",
      "SI2 = -1642.55 SI = -1974.55 eGROI = 98.20% eROI = -295.36% eROI2 = -247.82% eROI3 = -420.83% mSpread = 0.0227%\n"
     ]
    },
    {
     "name": "stderr",
     "output_type": "stream",
     "text": [
      "100%|██████████████████████████████████████████████████████████████████████████| 31741/31741 [00:06<00:00, 5075.86it/s]\n"
     ]
    },
    {
     "name": "stdout",
     "output_type": "stream",
     "text": [
      "Epoch = 9. Time index = 2. Threshold MC = 0.55. Threshold MD = 0.6\n",
      "RD = 11736 NZ = 17284 NZA = 31742 pNZ = 1.001% pNZA = 1.839% AD = 67.90% ADA = 36.97% NO = 6284 GSP = 57.46% NSP = 39.08%\n",
      "SI2 = -636.20 SI = -1000.20 eGROI = 46.37% eROI = -123.25% eROI2 = -79.31% eROI3 = -142.15% mSpread = 0.0270%\n"
     ]
    },
    {
     "name": "stderr",
     "output_type": "stream",
     "text": [
      "100%|████████████████████████████████████████████████████████████████████████████| 9808/9808 [00:02<00:00, 4107.83it/s]\n"
     ]
    },
    {
     "name": "stdout",
     "output_type": "stream",
     "text": [
      "Epoch = 9. Time index = 2. Threshold MC = 0.55. Threshold MD = 0.65\n",
      "RD = 4105 NZ = 5358 NZA = 9809 pNZ = 0.310% pNZA = 0.568% AD = 76.61% ADA = 41.85% NO = 2970 GSP = 57.24% NSP = 32.76%\n",
      "SI2 = -404.50 SI = -660.50 eGROI = 22.40% eROI = -75.88% eROI2 = -37.00% eROI3 = -66.70% mSpread = 0.0331%\n"
     ]
    },
    {
     "name": "stderr",
     "output_type": "stream",
     "text": [
      "100%|████████████████████████████████████████████████████████████████████████████| 2664/2664 [00:00<00:00, 3778.08it/s]\n"
     ]
    },
    {
     "name": "stdout",
     "output_type": "stream",
     "text": [
      "Epoch = 9. Time index = 2. Threshold MC = 0.55. Threshold MD = 0.7\n",
      "RD = 1357 NZ = 1592 NZA = 2665 pNZ = 0.092% pNZA = 0.154% AD = 85.24% ADA = 50.92% NO = 1404 GSP = 54.84% NSP = 28.06%\n",
      "SI2 = -240.20 SI = -378.20 eGROI = 11.32% eROI = -41.54% eROI2 = -16.76% eROI3 = -30.80% mSpread = 0.0377%\n"
     ]
    },
    {
     "name": "stderr",
     "output_type": "stream",
     "text": [
      "100%|██████████████████████████████████████████████████████████████████████████████| 791/791 [00:00<00:00, 3122.47it/s]\n"
     ]
    },
    {
     "name": "stdout",
     "output_type": "stream",
     "text": [
      "Epoch = 9. Time index = 2. Threshold MC = 0.55. Threshold MD = 0.75\n",
      "RD = 463 NZ = 506 NZA = 792 pNZ = 0.029% pNZA = 0.046% AD = 91.50% ADA = 58.46% NO = 586 GSP = 53.41% NSP = 23.55%\n",
      "SI2 = -127.30 SI = -184.30 eGROI = 1.58% eROI = -23.64% eROI2 = -10.14% eROI3 = -16.00% mSpread = 0.0430%\n"
     ]
    },
    {
     "name": "stderr",
     "output_type": "stream",
     "text": [
      "100%|██████████████████████████████████████████████████████████████████████████████| 219/219 [00:00<00:00, 2645.59it/s]\n"
     ]
    },
    {
     "name": "stdout",
     "output_type": "stream",
     "text": [
      "Epoch = 9. Time index = 2. Threshold MC = 0.55. Threshold MD = 0.8\n",
      "RD = 144 NZ = 149 NZA = 220 pNZ = 0.009% pNZA = 0.013% AD = 96.64% ADA = 65.45% NO = 202 GSP = 50.00% NSP = 20.30%\n",
      "SI2 = -50.10 SI = -70.10 eGROI = 0.44% eROI = -9.67% eROI2 = -3.60% eROI3 = -5.62% mSpread = 0.0500%\n"
     ]
    },
    {
     "name": "stderr",
     "output_type": "stream",
     "text": [
      "100%|████████████████████████████████████████████████████████████████████████████████| 33/33 [00:00<00:00, 2205.91it/s]\n"
     ]
    },
    {
     "name": "stdout",
     "output_type": "stream",
     "text": [
      "Epoch = 9. Time index = 2. Threshold MC = 0.55. Threshold MD = 0.85\n",
      "RD = 28 NZ = 28 NZA = 34 pNZ = 0.002% pNZA = 0.002% AD = 100.00% ADA = 82.35% NO = 34 GSP = 52.94% NSP = 17.65%\n",
      "SI2 = -8.70 SI = -12.70 eGROI = 0.45% eROI = -1.62% eROI2 = -0.23% eROI3 = -0.57% mSpread = 0.0610%\n"
     ]
    },
    {
     "name": "stderr",
     "output_type": "stream",
     "text": [
      "0it [00:00, ?it/s]\n"
     ]
    },
    {
     "name": "stdout",
     "output_type": "stream",
     "text": [
      "Epoch = 9. Time index = 2. Threshold MC = 0.55. Threshold MD = 0.9\n",
      "RD = 0 NZ = 0 NZA = 0 pNZ = 0.000% pNZA = 0.000% AD = 0.00% ADA = 0.00% NO = 1 GSP = 0.00% NSP = 0.00%\n",
      "SI2 = -0.55 SI = -0.55 eGROI = 0.00% eROI = 0.00% eROI2 = 0.00% eROI3 = 0.00% mSpread = 0.0000%\n"
     ]
    },
    {
     "name": "stderr",
     "output_type": "stream",
     "text": [
      "0it [00:00, ?it/s]\n"
     ]
    },
    {
     "name": "stdout",
     "output_type": "stream",
     "text": [
      "Epoch = 9. Time index = 2. Threshold MC = 0.55. Threshold MD = 0.95\n",
      "RD = 0 NZ = 0 NZA = 0 pNZ = 0.000% pNZA = 0.000% AD = 0.00% ADA = 0.00% NO = 1 GSP = 0.00% NSP = 0.00%\n",
      "SI2 = -0.55 SI = -0.55 eGROI = 0.00% eROI = 0.00% eROI2 = 0.00% eROI3 = 0.00% mSpread = 0.0000%\n",
      "\n"
     ]
    },
    {
     "name": "stderr",
     "output_type": "stream",
     "text": [
      "0it [00:00, ?it/s]\n"
     ]
    },
    {
     "name": "stdout",
     "output_type": "stream",
     "text": [
      "Epoch = 9. Time index = 2. Threshold MC = 0.6. Threshold MD = 0.5\n",
      "RD = 117548 NZ = 219223 NZA = 362516 pNZ = 12.701% pNZA = 21.003% AD = 53.62% ADA = 32.43% NO = 1 GSP = 0.00% NSP = 0.00%\n",
      "SI2 = -0.55 SI = -0.55 eGROI = 0.00% eROI = 0.00% eROI2 = 0.00% eROI3 = 0.00% mSpread = 0.0000%\n"
     ]
    },
    {
     "name": "stderr",
     "output_type": "stream",
     "text": [
      "100%|██████████████████████████████████████████████████████████████████████████| 64711/64711 [00:15<00:00, 4290.01it/s]\n"
     ]
    },
    {
     "name": "stdout",
     "output_type": "stream",
     "text": [
      "Epoch = 9. Time index = 2. Threshold MC = 0.6. Threshold MD = 0.55\n",
      "RD = 23763 NZ = 39406 NZA = 64712 pNZ = 2.283% pNZA = 3.749% AD = 60.30% ADA = 36.72% NO = 11528 GSP = 57.67% NSP = 43.87%\n",
      "SI2 = -936.40 SI = -1283.40 eGROI = 85.57% eROI = -186.01% eROI2 = -144.99% eROI3 = -260.27% mSpread = 0.0236%\n"
     ]
    },
    {
     "name": "stderr",
     "output_type": "stream",
     "text": [
      "100%|██████████████████████████████████████████████████████████████████████████| 21200/21200 [00:05<00:00, 4114.08it/s]\n"
     ]
    },
    {
     "name": "stdout",
     "output_type": "stream",
     "text": [
      "Epoch = 9. Time index = 2. Threshold MC = 0.6. Threshold MD = 0.6\n",
      "RD = 8397 NZ = 12347 NZA = 21201 pNZ = 0.715% pNZA = 1.228% AD = 68.01% ADA = 39.61% NO = 4692 GSP = 59.23% NSP = 41.01%\n",
      "SI2 = -363.60 SI = -656.60 eGROI = 48.63% eROI = -85.34% eROI2 = -45.21% eROI3 = -92.13% mSpread = 0.0286%\n"
     ]
    },
    {
     "name": "stderr",
     "output_type": "stream",
     "text": [
      "100%|████████████████████████████████████████████████████████████████████████████| 6908/6908 [00:02<00:00, 2658.49it/s]\n"
     ]
    },
    {
     "name": "stdout",
     "output_type": "stream",
     "text": [
      "Epoch = 9. Time index = 2. Threshold MC = 0.6. Threshold MD = 0.65\n",
      "RD = 3021 NZ = 3966 NZA = 6909 pNZ = 0.230% pNZA = 0.400% AD = 76.17% ADA = 43.73% NO = 2211 GSP = 59.93% NSP = 35.19%\n",
      "SI2 = -215.05 SI = -438.05 eGROI = 25.74% eROI = -51.50% eROI2 = -18.48% eROI3 = -40.59% mSpread = 0.0349%\n"
     ]
    },
    {
     "name": "stderr",
     "output_type": "stream",
     "text": [
      "100%|████████████████████████████████████████████████████████████████████████████| 1880/1880 [00:00<00:00, 1915.67it/s]\n"
     ]
    },
    {
     "name": "stdout",
     "output_type": "stream",
     "text": [
      "Epoch = 9. Time index = 2. Threshold MC = 0.6. Threshold MD = 0.7\n",
      "RD = 1013 NZ = 1203 NZA = 1881 pNZ = 0.070% pNZA = 0.109% AD = 84.21% ADA = 53.85% NO = 1011 GSP = 56.97% NSP = 30.76%\n",
      "SI2 = -142.05 SI = -245.05 eGROI = 10.68% eROI = -28.90% eROI2 = -9.54% eROI3 = -19.65% mSpread = 0.0391%\n"
     ]
    },
    {
     "name": "stderr",
     "output_type": "stream",
     "text": [
      "100%|██████████████████████████████████████████████████████████████████████████████| 571/571 [00:00<00:00, 1954.01it/s]\n"
     ]
    },
    {
     "name": "stdout",
     "output_type": "stream",
     "text": [
      "Epoch = 9. Time index = 2. Threshold MC = 0.6. Threshold MD = 0.75\n",
      "RD = 357 NZ = 388 NZA = 572 pNZ = 0.022% pNZA = 0.033% AD = 92.01% ADA = 62.41% NO = 440 GSP = 54.32% NSP = 24.77%\n",
      "SI2 = -87.00 SI = -133.00 eGROI = 1.66% eROI = -17.96% eROI2 = -7.14% eROI3 = -11.54% mSpread = 0.0446%\n"
     ]
    },
    {
     "name": "stderr",
     "output_type": "stream",
     "text": [
      "100%|██████████████████████████████████████████████████████████████████████████████| 179/179 [00:00<00:00, 1495.54it/s]\n"
     ]
    },
    {
     "name": "stdout",
     "output_type": "stream",
     "text": [
      "Epoch = 9. Time index = 2. Threshold MC = 0.6. Threshold MD = 0.8\n",
      "RD = 123 NZ = 127 NZA = 180 pNZ = 0.007% pNZA = 0.010% AD = 96.85% ADA = 68.33% NO = 171 GSP = 48.54% NSP = 19.88%\n",
      "SI2 = -42.05 SI = -60.05 eGROI = 0.26% eROI = -8.40% eROI2 = -3.16% eROI3 = -4.87% mSpread = 0.0506%\n"
     ]
    },
    {
     "name": "stderr",
     "output_type": "stream",
     "text": [
      "100%|████████████████████████████████████████████████████████████████████████████████| 32/32 [00:00<00:00, 1145.91it/s]\n"
     ]
    },
    {
     "name": "stdout",
     "output_type": "stream",
     "text": [
      "Epoch = 9. Time index = 2. Threshold MC = 0.6. Threshold MD = 0.85\n",
      "RD = 27 NZ = 27 NZA = 33 pNZ = 0.002% pNZA = 0.002% AD = 100.00% ADA = 81.82% NO = 33 GSP = 51.52% NSP = 15.15%\n",
      "SI2 = -9.15 SI = -13.15 eGROI = 0.39% eROI = -1.67% eROI2 = -0.27% eROI3 = -0.60% mSpread = 0.0622%\n"
     ]
    },
    {
     "name": "stderr",
     "output_type": "stream",
     "text": [
      "0it [00:00, ?it/s]\n"
     ]
    },
    {
     "name": "stdout",
     "output_type": "stream",
     "text": [
      "Epoch = 9. Time index = 2. Threshold MC = 0.6. Threshold MD = 0.9\n",
      "RD = 0 NZ = 0 NZA = 0 pNZ = 0.000% pNZA = 0.000% AD = 0.00% ADA = 0.00% NO = 1 GSP = 0.00% NSP = 0.00%\n",
      "SI2 = -0.55 SI = -0.55 eGROI = 0.00% eROI = 0.00% eROI2 = 0.00% eROI3 = 0.00% mSpread = 0.0000%\n"
     ]
    },
    {
     "name": "stderr",
     "output_type": "stream",
     "text": [
      "0it [00:00, ?it/s]\n"
     ]
    },
    {
     "name": "stdout",
     "output_type": "stream",
     "text": [
      "Epoch = 9. Time index = 2. Threshold MC = 0.6. Threshold MD = 0.95\n",
      "RD = 0 NZ = 0 NZA = 0 pNZ = 0.000% pNZA = 0.000% AD = 0.00% ADA = 0.00% NO = 1 GSP = 0.00% NSP = 0.00%\n",
      "SI2 = -0.55 SI = -0.55 eGROI = 0.00% eROI = 0.00% eROI2 = 0.00% eROI3 = 0.00% mSpread = 0.0000%\n",
      "\n"
     ]
    },
    {
     "name": "stderr",
     "output_type": "stream",
     "text": [
      "100%|██████████████████████████████████████████████████████████████████████████| 89237/89237 [00:14<00:00, 6201.11it/s]\n"
     ]
    },
    {
     "name": "stdout",
     "output_type": "stream",
     "text": [
      "Epoch = 9. Time index = 2. Threshold MC = 0.65. Threshold MD = 0.5\n",
      "RD = 32640 NZ = 59012 NZA = 89238 pNZ = 3.419% pNZA = 5.170% AD = 55.31% ADA = 36.58% NO = 8623 GSP = 55.61% NSP = 43.45%\n",
      "SI2 = -818.65 SI = -995.65 eGROI = 34.15% eROI = -164.04% eROI2 = -138.31% eROI3 = -224.54% mSpread = 0.0230%\n"
     ]
    },
    {
     "name": "stderr",
     "output_type": "stream",
     "text": [
      "100%|██████████████████████████████████████████████████████████████████████████| 32902/32902 [00:07<00:00, 4340.11it/s]\n"
     ]
    },
    {
     "name": "stdout",
     "output_type": "stream",
     "text": [
      "Epoch = 9. Time index = 2. Threshold MC = 0.65. Threshold MD = 0.55\n",
      "RD = 12878 NZ = 21301 NZA = 32903 pNZ = 1.234% pNZA = 1.906% AD = 60.46% ADA = 39.14% NO = 6392 GSP = 57.46% NSP = 43.90%\n",
      "SI2 = -510.60 SI = -709.60 eGROI = 44.56% eROI = -110.17% eROI2 = -83.28% eROI3 = -147.20% mSpread = 0.0242%\n"
     ]
    },
    {
     "name": "stderr",
     "output_type": "stream",
     "text": [
      "100%|██████████████████████████████████████████████████████████████████████████| 12601/12601 [00:03<00:00, 3753.59it/s]\n"
     ]
    },
    {
     "name": "stdout",
     "output_type": "stream",
     "text": [
      "Epoch = 9. Time index = 2. Threshold MC = 0.65. Threshold MD = 0.6\n",
      "RD = 5300 NZ = 7782 NZA = 12602 pNZ = 0.451% pNZA = 0.730% AD = 68.11% ADA = 42.06% NO = 3115 GSP = 59.58% NSP = 41.73%\n",
      "SI2 = -203.25 SI = -413.25 eGROI = 39.42% eROI = -51.77% eROI2 = -22.88% eROI3 = -54.03% mSpread = 0.0293%\n"
     ]
    },
    {
     "name": "stderr",
     "output_type": "stream",
     "text": [
      "100%|████████████████████████████████████████████████████████████████████████████| 4572/4572 [00:01<00:00, 3601.09it/s]\n"
     ]
    },
    {
     "name": "stdout",
     "output_type": "stream",
     "text": [
      "Epoch = 9. Time index = 2. Threshold MC = 0.65. Threshold MD = 0.65\n",
      "RD = 2043 NZ = 2720 NZA = 4573 pNZ = 0.158% pNZA = 0.265% AD = 75.11% ADA = 44.68% NO = 1560 GSP = 61.15% NSP = 36.67%\n",
      "SI2 = -131.00 SI = -286.00 eGROI = 22.77% eROI = -32.48% eROI2 = -8.43% eROI3 = -24.03% mSpread = 0.0354%\n"
     ]
    },
    {
     "name": "stderr",
     "output_type": "stream",
     "text": [
      "100%|████████████████████████████████████████████████████████████████████████████| 1329/1329 [00:00<00:00, 2793.49it/s]\n"
     ]
    },
    {
     "name": "stdout",
     "output_type": "stream",
     "text": [
      "Epoch = 9. Time index = 2. Threshold MC = 0.65. Threshold MD = 0.7\n",
      "RD = 753 NZ = 903 NZA = 1330 pNZ = 0.052% pNZA = 0.077% AD = 83.39% ADA = 56.62% NO = 713 GSP = 58.63% NSP = 32.82%\n",
      "SI2 = -73.15 SI = -158.15 eGROI = 10.37% eROI = -17.91% eROI2 = -3.89% eROI3 = -11.02% mSpread = 0.0397%\n"
     ]
    },
    {
     "name": "stderr",
     "output_type": "stream",
     "text": [
      "100%|██████████████████████████████████████████████████████████████████████████████| 410/410 [00:00<00:00, 2854.05it/s]\n"
     ]
    },
    {
     "name": "stdout",
     "output_type": "stream",
     "text": [
      "Epoch = 9. Time index = 2. Threshold MC = 0.65. Threshold MD = 0.75\n",
      "RD = 280 NZ = 303 NZA = 411 pNZ = 0.018% pNZA = 0.024% AD = 92.41% ADA = 68.13% NO = 323 GSP = 54.80% NSP = 28.17%\n",
      "SI2 = -52.65 SI = -86.65 eGROI = 1.96% eROI = -12.46% eROI2 = -4.50% eROI3 = -7.73% mSpread = 0.0447%\n"
     ]
    },
    {
     "name": "stderr",
     "output_type": "stream",
     "text": [
      "100%|██████████████████████████████████████████████████████████████████████████████| 139/139 [00:00<00:00, 1991.03it/s]\n"
     ]
    },
    {
     "name": "stdout",
     "output_type": "stream",
     "text": [
      "Epoch = 9. Time index = 2. Threshold MC = 0.65. Threshold MD = 0.8\n",
      "RD = 106 NZ = 109 NZA = 140 pNZ = 0.006% pNZA = 0.008% AD = 97.25% ADA = 75.71% NO = 134 GSP = 50.00% NSP = 23.13%\n",
      "SI2 = -27.70 SI = -42.70 eGROI = 0.65% eROI = -6.22% eROI2 = -2.03% eROI3 = -3.37% mSpread = 0.0512%\n"
     ]
    },
    {
     "name": "stderr",
     "output_type": "stream",
     "text": [
      "100%|████████████████████████████████████████████████████████████████████████████████| 28/28 [00:00<00:00, 1336.91it/s]\n"
     ]
    },
    {
     "name": "stdout",
     "output_type": "stream",
     "text": [
      "Epoch = 9. Time index = 2. Threshold MC = 0.65. Threshold MD = 0.85\n",
      "RD = 24 NZ = 24 NZA = 29 pNZ = 0.001% pNZA = 0.002% AD = 100.00% ADA = 82.76% NO = 29 GSP = 44.83% NSP = 13.79%\n",
      "SI2 = -8.95 SI = -11.95 eGROI = 0.26% eROI = -1.55% eROI2 = -0.32% eROI3 = -0.61% mSpread = 0.0622%\n"
     ]
    },
    {
     "name": "stderr",
     "output_type": "stream",
     "text": [
      "0it [00:00, ?it/s]\n"
     ]
    },
    {
     "name": "stdout",
     "output_type": "stream",
     "text": [
      "Epoch = 9. Time index = 2. Threshold MC = 0.65. Threshold MD = 0.9\n",
      "RD = 0 NZ = 0 NZA = 0 pNZ = 0.000% pNZA = 0.000% AD = 0.00% ADA = 0.00% NO = 1 GSP = 0.00% NSP = 0.00%\n",
      "SI2 = -0.55 SI = -0.55 eGROI = 0.00% eROI = 0.00% eROI2 = 0.00% eROI3 = 0.00% mSpread = 0.0000%\n"
     ]
    },
    {
     "name": "stderr",
     "output_type": "stream",
     "text": [
      "0it [00:00, ?it/s]\n"
     ]
    },
    {
     "name": "stdout",
     "output_type": "stream",
     "text": [
      "Epoch = 9. Time index = 2. Threshold MC = 0.65. Threshold MD = 0.95\n",
      "RD = 0 NZ = 0 NZA = 0 pNZ = 0.000% pNZA = 0.000% AD = 0.00% ADA = 0.00% NO = 1 GSP = 0.00% NSP = 0.00%\n",
      "SI2 = -0.55 SI = -0.55 eGROI = 0.00% eROI = 0.00% eROI2 = 0.00% eROI3 = 0.00% mSpread = 0.0000%\n",
      "\n"
     ]
    },
    {
     "name": "stderr",
     "output_type": "stream",
     "text": [
      "100%|██████████████████████████████████████████████████████████████████████████| 25402/25402 [00:04<00:00, 5430.65it/s]\n"
     ]
    },
    {
     "name": "stdout",
     "output_type": "stream",
     "text": [
      "Epoch = 9. Time index = 2. Threshold MC = 0.7. Threshold MD = 0.5\n",
      "RD = 10188 NZ = 18060 NZA = 25403 pNZ = 1.046% pNZA = 1.472% AD = 56.41% ADA = 40.11% NO = 3997 GSP = 55.84% NSP = 44.41%\n",
      "SI2 = -329.35 SI = -423.35 eGROI = 14.96% eROI = -79.44% eROI2 = -64.98% eROI3 = -104.95% mSpread = 0.0236%\n"
     ]
    },
    {
     "name": "stderr",
     "output_type": "stream",
     "text": [
      "100%|██████████████████████████████████████████████████████████████████████████| 14335/14335 [00:03<00:00, 4143.33it/s]\n"
     ]
    },
    {
     "name": "stdout",
     "output_type": "stream",
     "text": [
      "Epoch = 9. Time index = 2. Threshold MC = 0.7. Threshold MD = 0.55\n",
      "RD = 6007 NZ = 10124 NZA = 14336 pNZ = 0.587% pNZA = 0.831% AD = 59.33% ADA = 41.90% NO = 3381 GSP = 56.37% NSP = 44.10%\n",
      "SI2 = -263.55 SI = -368.55 eGROI = 17.04% eROI = -65.22% eROI2 = -50.58% eROI3 = -84.39% mSpread = 0.0243%\n"
     ]
    },
    {
     "name": "stderr",
     "output_type": "stream",
     "text": [
      "100%|████████████████████████████████████████████████████████████████████████████| 5577/5577 [00:01<00:00, 3902.10it/s]\n"
     ]
    },
    {
     "name": "stdout",
     "output_type": "stream",
     "text": [
      "Epoch = 9. Time index = 2. Threshold MC = 0.7. Threshold MD = 0.6\n",
      "RD = 2593 NZ = 3801 NZA = 5578 pNZ = 0.220% pNZA = 0.323% AD = 68.22% ADA = 46.49% NO = 1822 GSP = 59.66% NSP = 44.51%\n",
      "SI2 = -88.10 SI = -191.10 eGROI = 27.20% eROI = -25.76% eROI2 = -9.24% eROI3 = -27.46% mSpread = 0.0291%\n"
     ]
    },
    {
     "name": "stderr",
     "output_type": "stream",
     "text": [
      "100%|████████████████████████████████████████████████████████████████████████████| 2105/2105 [00:00<00:00, 3901.01it/s]\n"
     ]
    },
    {
     "name": "stdout",
     "output_type": "stream",
     "text": [
      "Epoch = 9. Time index = 2. Threshold MC = 0.7. Threshold MD = 0.65\n",
      "RD = 1058 NZ = 1423 NZA = 2106 pNZ = 0.082% pNZA = 0.122% AD = 74.35% ADA = 50.24% NO = 927 GSP = 60.73% NSP = 39.59%\n",
      "SI2 = -66.85 SI = -142.85 eGROI = 16.55% eROI = -15.46% eROI2 = -1.99% eROI3 = -11.26% mSpread = 0.0345%\n"
     ]
    },
    {
     "name": "stderr",
     "output_type": "stream",
     "text": [
      "100%|██████████████████████████████████████████████████████████████████████████████| 709/709 [00:00<00:00, 2548.35it/s]\n"
     ]
    },
    {
     "name": "stdout",
     "output_type": "stream",
     "text": [
      "Epoch = 9. Time index = 2. Threshold MC = 0.7. Threshold MD = 0.7\n",
      "RD = 429 NZ = 520 NZA = 710 pNZ = 0.030% pNZA = 0.041% AD = 82.50% ADA = 60.42% NO = 420 GSP = 56.90% NSP = 34.52%\n",
      "SI2 = -48.00 SI = -86.00 eGROI = 4.90% eROI = -11.52% eROI2 = -3.50% eROI3 = -7.70% mSpread = 0.0391%\n"
     ]
    },
    {
     "name": "stderr",
     "output_type": "stream",
     "text": [
      "100%|██████████████████████████████████████████████████████████████████████████████| 288/288 [00:00<00:00, 1793.61it/s]\n"
     ]
    },
    {
     "name": "stdout",
     "output_type": "stream",
     "text": [
      "Epoch = 9. Time index = 2. Threshold MC = 0.7. Threshold MD = 0.75\n",
      "RD = 199 NZ = 215 NZA = 289 pNZ = 0.012% pNZA = 0.017% AD = 92.56% ADA = 68.86% NO = 227 GSP = 54.63% NSP = 28.63%\n",
      "SI2 = -35.85 SI = -59.85 eGROI = 1.37% eROI = -8.95% eROI2 = -3.17% eROI3 = -5.44% mSpread = 0.0455%\n"
     ]
    },
    {
     "name": "stderr",
     "output_type": "stream",
     "text": [
      "100%|██████████████████████████████████████████████████████████████████████████████| 106/106 [00:00<00:00, 1312.14it/s]\n"
     ]
    },
    {
     "name": "stdout",
     "output_type": "stream",
     "text": [
      "Epoch = 9. Time index = 2. Threshold MC = 0.7. Threshold MD = 0.8\n",
      "RD = 87 NZ = 89 NZA = 107 pNZ = 0.005% pNZA = 0.006% AD = 97.75% ADA = 81.31% NO = 102 GSP = 50.98% NSP = 23.53%\n",
      "SI2 = -21.10 SI = -32.10 eGROI = 0.58% eROI = -4.56% eROI2 = -1.46% eROI3 = -2.48% mSpread = 0.0504%\n"
     ]
    },
    {
     "name": "stderr",
     "output_type": "stream",
     "text": [
      "100%|████████████████████████████████████████████████████████████████████████████████| 26/26 [00:00<00:00, 1241.46it/s]\n"
     ]
    },
    {
     "name": "stdout",
     "output_type": "stream",
     "text": [
      "Epoch = 9. Time index = 2. Threshold MC = 0.7. Threshold MD = 0.85\n",
      "RD = 23 NZ = 23 NZA = 27 pNZ = 0.001% pNZA = 0.002% AD = 100.00% ADA = 85.19% NO = 27 GSP = 44.44% NSP = 14.81%\n",
      "SI2 = -7.85 SI = -10.85 eGROI = 0.28% eROI = -1.45% eROI2 = -0.26% eROI3 = -0.53% mSpread = 0.0640%\n"
     ]
    },
    {
     "name": "stderr",
     "output_type": "stream",
     "text": [
      "0it [00:00, ?it/s]\n"
     ]
    },
    {
     "name": "stdout",
     "output_type": "stream",
     "text": [
      "Epoch = 9. Time index = 2. Threshold MC = 0.7. Threshold MD = 0.9\n",
      "RD = 0 NZ = 0 NZA = 0 pNZ = 0.000% pNZA = 0.000% AD = 0.00% ADA = 0.00% NO = 1 GSP = 0.00% NSP = 0.00%\n",
      "SI2 = -0.55 SI = -0.55 eGROI = 0.00% eROI = 0.00% eROI2 = 0.00% eROI3 = 0.00% mSpread = 0.0000%\n"
     ]
    },
    {
     "name": "stderr",
     "output_type": "stream",
     "text": [
      "0it [00:00, ?it/s]\n"
     ]
    },
    {
     "name": "stdout",
     "output_type": "stream",
     "text": [
      "Epoch = 9. Time index = 2. Threshold MC = 0.7. Threshold MD = 0.95\n",
      "RD = 0 NZ = 0 NZA = 0 pNZ = 0.000% pNZA = 0.000% AD = 0.00% ADA = 0.00% NO = 1 GSP = 0.00% NSP = 0.00%\n",
      "SI2 = -0.55 SI = -0.55 eGROI = 0.00% eROI = 0.00% eROI2 = 0.00% eROI3 = 0.00% mSpread = 0.0000%\n",
      "\n"
     ]
    },
    {
     "name": "stderr",
     "output_type": "stream",
     "text": [
      "100%|████████████████████████████████████████████████████████████████████████████| 7035/7035 [00:01<00:00, 3566.10it/s]\n"
     ]
    },
    {
     "name": "stdout",
     "output_type": "stream",
     "text": [
      "Epoch = 9. Time index = 2. Threshold MC = 0.75. Threshold MD = 0.5\n",
      "RD = 2979 NZ = 5350 NZA = 7036 pNZ = 0.310% pNZA = 0.408% AD = 55.68% ADA = 42.34% NO = 1742 GSP = 53.44% NSP = 43.92%\n",
      "SI2 = -162.10 SI = -193.10 eGROI = 0.04% eROI = -41.32% eROI2 = -34.80% eROI3 = -52.22% mSpread = 0.0237%\n"
     ]
    },
    {
     "name": "stderr",
     "output_type": "stream",
     "text": [
      "100%|████████████████████████████████████████████████████████████████████████████| 5145/5145 [00:01<00:00, 3077.99it/s]\n"
     ]
    },
    {
     "name": "stdout",
     "output_type": "stream",
     "text": [
      "Epoch = 9. Time index = 2. Threshold MC = 0.75. Threshold MD = 0.55\n",
      "RD = 2194 NZ = 3888 NZA = 5146 pNZ = 0.225% pNZA = 0.298% AD = 56.43% ADA = 42.64% NO = 1509 GSP = 52.68% NSP = 43.47%\n",
      "SI2 = -138.95 SI = -173.95 eGROI = -0.48% eROI = -37.28% eROI2 = -30.66% eROI3 = -45.75% mSpread = 0.0244%\n"
     ]
    },
    {
     "name": "stderr",
     "output_type": "stream",
     "text": [
      "100%|████████████████████████████████████████████████████████████████████████████| 2215/2215 [00:00<00:00, 2408.79it/s]\n"
     ]
    },
    {
     "name": "stdout",
     "output_type": "stream",
     "text": [
      "Epoch = 9. Time index = 2. Threshold MC = 0.75. Threshold MD = 0.6\n",
      "RD = 1042 NZ = 1661 NZA = 2216 pNZ = 0.096% pNZA = 0.128% AD = 62.73% ADA = 47.02% NO = 840 GSP = 58.33% NSP = 45.48%\n",
      "SI2 = -49.00 SI = -80.00 eGROI = 8.88% eROI = -14.27% eROI2 = -7.92% eROI3 = -16.32% mSpread = 0.0276%\n"
     ]
    },
    {
     "name": "stderr",
     "output_type": "stream",
     "text": [
      "100%|██████████████████████████████████████████████████████████████████████████████| 964/964 [00:00<00:00, 2096.68it/s]\n"
     ]
    },
    {
     "name": "stdout",
     "output_type": "stream",
     "text": [
      "Epoch = 9. Time index = 2. Threshold MC = 0.75. Threshold MD = 0.65\n",
      "RD = 513 NZ = 735 NZA = 965 pNZ = 0.043% pNZA = 0.056% AD = 69.80% ADA = 53.16% NO = 452 GSP = 61.06% NSP = 45.58%\n",
      "SI2 = -24.60 SI = -42.60 eGROI = 8.89% eROI = -4.99% eROI2 = -0.15% eROI3 = -4.67% mSpread = 0.0307%\n"
     ]
    },
    {
     "name": "stderr",
     "output_type": "stream",
     "text": [
      "100%|██████████████████████████████████████████████████████████████████████████████| 387/387 [00:00<00:00, 2132.04it/s]\n"
     ]
    },
    {
     "name": "stdout",
     "output_type": "stream",
     "text": [
      "Epoch = 9. Time index = 2. Threshold MC = 0.75. Threshold MD = 0.7\n",
      "RD = 235 NZ = 299 NZA = 388 pNZ = 0.017% pNZA = 0.022% AD = 78.60% ADA = 60.57% NO = 240 GSP = 60.00% NSP = 41.25%\n",
      "SI2 = -14.00 SI = -33.00 eGROI = 3.69% eROI = -5.10% eROI2 = -1.11% eROI3 = -3.51% mSpread = 0.0366%\n"
     ]
    },
    {
     "name": "stderr",
     "output_type": "stream",
     "text": [
      "100%|██████████████████████████████████████████████████████████████████████████████| 150/150 [00:00<00:00, 1432.38it/s]\n"
     ]
    },
    {
     "name": "stdout",
     "output_type": "stream",
     "text": [
      "Epoch = 9. Time index = 2. Threshold MC = 0.75. Threshold MD = 0.75\n",
      "RD = 104 NZ = 116 NZA = 151 pNZ = 0.007% pNZA = 0.009% AD = 89.66% ADA = 68.87% NO = 122 GSP = 59.84% NSP = 34.43%\n",
      "SI2 = -11.10 SI = -25.10 eGROI = 1.29% eROI = -4.33% eROI2 = -1.15% eROI3 = -2.37% mSpread = 0.0461%\n"
     ]
    },
    {
     "name": "stderr",
     "output_type": "stream",
     "text": [
      "100%|████████████████████████████████████████████████████████████████████████████████| 55/55 [00:00<00:00, 1198.81it/s]\n"
     ]
    },
    {
     "name": "stdout",
     "output_type": "stream",
     "text": [
      "Epoch = 9. Time index = 2. Threshold MC = 0.75. Threshold MD = 0.8\n",
      "RD = 45 NZ = 47 NZA = 56 pNZ = 0.003% pNZA = 0.003% AD = 95.74% ADA = 80.36% NO = 56 GSP = 51.79% NSP = 23.21%\n",
      "SI2 = -10.80 SI = -17.80 eGROI = 0.21% eROI = -3.01% eROI2 = -0.91% eROI3 = -1.47% mSpread = 0.0576%\n"
     ]
    },
    {
     "name": "stderr",
     "output_type": "stream",
     "text": [
      "100%|█████████████████████████████████████████████████████████████████████████████████| 15/15 [00:00<00:00, 939.68it/s]\n"
     ]
    },
    {
     "name": "stdout",
     "output_type": "stream",
     "text": [
      "Epoch = 9. Time index = 2. Threshold MC = 0.75. Threshold MD = 0.85\n",
      "RD = 13 NZ = 13 NZA = 16 pNZ = 0.001% pNZA = 0.001% AD = 100.00% ADA = 81.25% NO = 16 GSP = 56.25% NSP = 18.75%\n",
      "SI2 = -2.80 SI = -5.80 eGROI = 0.35% eROI = -0.82% eROI2 = 0.03% eROI3 = -0.13% mSpread = 0.0730%\n"
     ]
    },
    {
     "name": "stderr",
     "output_type": "stream",
     "text": [
      "0it [00:00, ?it/s]\n"
     ]
    },
    {
     "name": "stdout",
     "output_type": "stream",
     "text": [
      "Epoch = 9. Time index = 2. Threshold MC = 0.75. Threshold MD = 0.9\n",
      "RD = 0 NZ = 0 NZA = 0 pNZ = 0.000% pNZA = 0.000% AD = 0.00% ADA = 0.00% NO = 1 GSP = 0.00% NSP = 0.00%\n",
      "SI2 = -0.55 SI = -0.55 eGROI = 0.00% eROI = 0.00% eROI2 = 0.00% eROI3 = 0.00% mSpread = 0.0000%\n"
     ]
    },
    {
     "name": "stderr",
     "output_type": "stream",
     "text": [
      "0it [00:00, ?it/s]\n"
     ]
    },
    {
     "name": "stdout",
     "output_type": "stream",
     "text": [
      "Epoch = 9. Time index = 2. Threshold MC = 0.75. Threshold MD = 0.95\n",
      "RD = 0 NZ = 0 NZA = 0 pNZ = 0.000% pNZA = 0.000% AD = 0.00% ADA = 0.00% NO = 1 GSP = 0.00% NSP = 0.00%\n",
      "SI2 = -0.55 SI = -0.55 eGROI = 0.00% eROI = 0.00% eROI2 = 0.00% eROI3 = 0.00% mSpread = 0.0000%\n",
      "\n"
     ]
    },
    {
     "name": "stderr",
     "output_type": "stream",
     "text": [
      "100%|████████████████████████████████████████████████████████████████████████████| 1490/1490 [00:00<00:00, 2862.02it/s]\n"
     ]
    },
    {
     "name": "stdout",
     "output_type": "stream",
     "text": [
      "Epoch = 9. Time index = 2. Threshold MC = 0.8. Threshold MD = 0.5\n",
      "RD = 663 NZ = 1182 NZA = 1491 pNZ = 0.068% pNZA = 0.086% AD = 56.09% ADA = 44.47% NO = 677 GSP = 51.55% NSP = 43.57%\n",
      "SI2 = -68.35 SI = -77.35 eGROI = 1.78% eROI = -15.39% eROI2 = -11.76% eROI3 = -18.53% mSpread = 0.0254%\n"
     ]
    },
    {
     "name": "stderr",
     "output_type": "stream",
     "text": [
      "100%|████████████████████████████████████████████████████████████████████████████| 1203/1203 [00:00<00:00, 2355.88it/s]\n"
     ]
    },
    {
     "name": "stdout",
     "output_type": "stream",
     "text": [
      "Epoch = 9. Time index = 2. Threshold MC = 0.8. Threshold MD = 0.55\n",
      "RD = 537 NZ = 951 NZA = 1204 pNZ = 0.055% pNZA = 0.070% AD = 56.47% ADA = 44.60% NO = 577 GSP = 51.47% NSP = 42.11%\n",
      "SI2 = -63.35 SI = -74.35 eGROI = 0.16% eROI = -14.81% eROI2 = -11.38% eROI3 = -17.15% mSpread = 0.0259%\n"
     ]
    },
    {
     "name": "stderr",
     "output_type": "stream",
     "text": [
      "100%|██████████████████████████████████████████████████████████████████████████████| 767/767 [00:00<00:00, 2902.07it/s]\n"
     ]
    },
    {
     "name": "stdout",
     "output_type": "stream",
     "text": [
      "Epoch = 9. Time index = 2. Threshold MC = 0.8. Threshold MD = 0.6\n",
      "RD = 369 NZ = 600 NZA = 768 pNZ = 0.035% pNZA = 0.044% AD = 61.50% ADA = 48.05% NO = 410 GSP = 53.90% NSP = 44.15%\n",
      "SI2 = -32.50 SI = -44.50 eGROI = 3.34% eROI = -8.31% eROI2 = -4.86% eROI3 = -8.96% mSpread = 0.0284%\n"
     ]
    },
    {
     "name": "stderr",
     "output_type": "stream",
     "text": [
      "100%|██████████████████████████████████████████████████████████████████████████████| 365/365 [00:00<00:00, 1936.36it/s]\n"
     ]
    },
    {
     "name": "stdout",
     "output_type": "stream",
     "text": [
      "Epoch = 9. Time index = 2. Threshold MC = 0.8. Threshold MD = 0.65\n",
      "RD = 195 NZ = 288 NZA = 366 pNZ = 0.017% pNZA = 0.021% AD = 67.71% ADA = 53.28% NO = 216 GSP = 56.48% NSP = 45.83%\n",
      "SI2 = -12.80 SI = -19.80 eGROI = 3.69% eROI = -3.18% eROI2 = -0.63% eROI3 = -2.79% mSpread = 0.0318%\n"
     ]
    },
    {
     "name": "stderr",
     "output_type": "stream",
     "text": [
      "100%|██████████████████████████████████████████████████████████████████████████████| 192/192 [00:00<00:00, 1565.14it/s]\n"
     ]
    },
    {
     "name": "stdout",
     "output_type": "stream",
     "text": [
      "Epoch = 9. Time index = 2. Threshold MC = 0.8. Threshold MD = 0.7\n",
      "RD = 114 NZ = 147 NZA = 193 pNZ = 0.009% pNZA = 0.011% AD = 77.55% ADA = 59.07% NO = 134 GSP = 61.94% NSP = 47.01%\n",
      "SI2 = -4.70 SI = -10.70 eGROI = 3.21% eROI = -1.87% eROI2 = 0.53% eROI3 = -0.81% mSpread = 0.0379%\n"
     ]
    },
    {
     "name": "stderr",
     "output_type": "stream",
     "text": [
      "100%|████████████████████████████████████████████████████████████████████████████████| 77/77 [00:00<00:00, 1403.73it/s]\n"
     ]
    },
    {
     "name": "stdout",
     "output_type": "stream",
     "text": [
      "Epoch = 9. Time index = 2. Threshold MC = 0.8. Threshold MD = 0.75\n",
      "RD = 55 NZ = 60 NZA = 78 pNZ = 0.003% pNZA = 0.005% AD = 91.67% ADA = 70.51% NO = 66 GSP = 63.64% NSP = 45.45%\n",
      "SI2 = -3.30 SI = -6.30 eGROI = 1.52% eROI = -1.85% eROI2 = 0.20% eROI3 = -0.46% mSpread = 0.0510%\n"
     ]
    },
    {
     "name": "stderr",
     "output_type": "stream",
     "text": [
      "100%|████████████████████████████████████████████████████████████████████████████████| 28/28 [00:00<00:00, 1220.74it/s]\n"
     ]
    },
    {
     "name": "stdout",
     "output_type": "stream",
     "text": [
      "Epoch = 9. Time index = 2. Threshold MC = 0.8. Threshold MD = 0.8\n",
      "RD = 21 NZ = 21 NZA = 29 pNZ = 0.001% pNZA = 0.002% AD = 100.00% ADA = 72.41% NO = 29 GSP = 51.72% NSP = 31.03%\n",
      "SI2 = -4.95 SI = -6.95 eGROI = 0.24% eROI = -1.89% eROI2 = -0.34% eROI3 = -0.63% mSpread = 0.0734%\n"
     ]
    },
    {
     "name": "stderr",
     "output_type": "stream",
     "text": [
      "100%|███████████████████████████████████████████████████████████████████████████████████| 7/7 [00:00<00:00, 779.86it/s]\n"
     ]
    },
    {
     "name": "stdout",
     "output_type": "stream",
     "text": [
      "Epoch = 9. Time index = 2. Threshold MC = 0.8. Threshold MD = 0.85\n",
      "RD = 5 NZ = 5 NZA = 8 pNZ = 0.000% pNZA = 0.000% AD = 100.00% ADA = 62.50% NO = 8 GSP = 50.00% NSP = 25.00%\n",
      "SI2 = -2.40 SI = -2.40 eGROI = 0.21% eROI = -0.51% eROI2 = 0.05% eROI3 = -0.03% mSpread = 0.0904%\n"
     ]
    },
    {
     "name": "stderr",
     "output_type": "stream",
     "text": [
      "0it [00:00, ?it/s]\n"
     ]
    },
    {
     "name": "stdout",
     "output_type": "stream",
     "text": [
      "Epoch = 9. Time index = 2. Threshold MC = 0.8. Threshold MD = 0.9\n",
      "RD = 0 NZ = 0 NZA = 0 pNZ = 0.000% pNZA = 0.000% AD = 0.00% ADA = 0.00% NO = 1 GSP = 0.00% NSP = 0.00%\n",
      "SI2 = -0.55 SI = -0.55 eGROI = 0.00% eROI = 0.00% eROI2 = 0.00% eROI3 = 0.00% mSpread = 0.0000%\n"
     ]
    },
    {
     "name": "stderr",
     "output_type": "stream",
     "text": [
      "0it [00:00, ?it/s]\n"
     ]
    },
    {
     "name": "stdout",
     "output_type": "stream",
     "text": [
      "Epoch = 9. Time index = 2. Threshold MC = 0.8. Threshold MD = 0.95\n",
      "RD = 0 NZ = 0 NZA = 0 pNZ = 0.000% pNZA = 0.000% AD = 0.00% ADA = 0.00% NO = 1 GSP = 0.00% NSP = 0.00%\n",
      "SI2 = -0.55 SI = -0.55 eGROI = 0.00% eROI = 0.00% eROI2 = 0.00% eROI3 = 0.00% mSpread = 0.0000%\n",
      "\n"
     ]
    },
    {
     "name": "stderr",
     "output_type": "stream",
     "text": [
      "100%|██████████████████████████████████████████████████████████████████████████████| 211/211 [00:00<00:00, 1940.96it/s]\n"
     ]
    },
    {
     "name": "stdout",
     "output_type": "stream",
     "text": [
      "Epoch = 9. Time index = 2. Threshold MC = 0.85. Threshold MD = 0.5\n",
      "RD = 110 NZ = 174 NZA = 212 pNZ = 0.010% pNZA = 0.012% AD = 63.22% ADA = 51.89% NO = 168 GSP = 55.36% NSP = 50.60%\n",
      "SI2 = -7.40 SI = -7.40 eGROI = 4.19% eROI = 0.55% eROI2 = 0.83% eROI3 = -0.85% mSpread = 0.0217%\n"
     ]
    },
    {
     "name": "stderr",
     "output_type": "stream",
     "text": [
      "100%|██████████████████████████████████████████████████████████████████████████████| 177/177 [00:00<00:00, 1658.66it/s]\n"
     ]
    },
    {
     "name": "stdout",
     "output_type": "stream",
     "text": [
      "Epoch = 9. Time index = 2. Threshold MC = 0.85. Threshold MD = 0.55\n",
      "RD = 91 NZ = 145 NZA = 178 pNZ = 0.008% pNZA = 0.010% AD = 62.76% ADA = 51.12% NO = 143 GSP = 55.94% NSP = 50.35%\n",
      "SI2 = -6.65 SI = -6.65 eGROI = 3.03% eROI = -0.19% eROI2 = 0.17% eROI3 = -1.26% mSpread = 0.0225%\n"
     ]
    },
    {
     "name": "stderr",
     "output_type": "stream",
     "text": [
      "100%|██████████████████████████████████████████████████████████████████████████████| 141/141 [00:00<00:00, 1321.26it/s]\n"
     ]
    },
    {
     "name": "stdout",
     "output_type": "stream",
     "text": [
      "Epoch = 9. Time index = 2. Threshold MC = 0.85. Threshold MD = 0.6\n",
      "RD = 79 NZ = 115 NZA = 142 pNZ = 0.007% pNZA = 0.008% AD = 68.70% ADA = 55.63% NO = 115 GSP = 64.35% NSP = 57.39%\n",
      "SI2 = 2.75 SI = 2.75 eGROI = 4.26% eROI = 1.77% eROI2 = 1.96% eROI3 = 0.81% mSpread = 0.0217%\n"
     ]
    },
    {
     "name": "stderr",
     "output_type": "stream",
     "text": [
      "100%|████████████████████████████████████████████████████████████████████████████████| 85/85 [00:00<00:00, 1253.27it/s]\n"
     ]
    },
    {
     "name": "stdout",
     "output_type": "stream",
     "text": [
      "Epoch = 9. Time index = 2. Threshold MC = 0.85. Threshold MD = 0.65\n",
      "RD = 51 NZ = 71 NZA = 86 pNZ = 0.004% pNZA = 0.005% AD = 71.83% ADA = 59.30% NO = 68 GSP = 67.65% NSP = 61.76%\n",
      "SI2 = 4.60 SI = 4.60 eGROI = 2.63% eROI = 1.13% eROI2 = 1.27% eROI3 = 0.59% mSpread = 0.0221%\n"
     ]
    },
    {
     "name": "stderr",
     "output_type": "stream",
     "text": [
      "100%|████████████████████████████████████████████████████████████████████████████████| 61/61 [00:00<00:00, 1359.15it/s]\n"
     ]
    },
    {
     "name": "stdout",
     "output_type": "stream",
     "text": [
      "Epoch = 9. Time index = 2. Threshold MC = 0.85. Threshold MD = 0.7\n",
      "RD = 40 NZ = 49 NZA = 62 pNZ = 0.003% pNZA = 0.004% AD = 81.63% ADA = 64.52% NO = 50 GSP = 74.00% NSP = 66.00%\n",
      "SI2 = 4.50 SI = 5.50 eGROI = 2.56% eROI = 1.38% eROI2 = 1.56% eROI3 = 1.06% mSpread = 0.0236%\n"
     ]
    },
    {
     "name": "stderr",
     "output_type": "stream",
     "text": [
      "100%|████████████████████████████████████████████████████████████████████████████████| 25/25 [00:00<00:00, 1392.68it/s]\n"
     ]
    },
    {
     "name": "stdout",
     "output_type": "stream",
     "text": [
      "Epoch = 9. Time index = 2. Threshold MC = 0.85. Threshold MD = 0.75\n",
      "RD = 18 NZ = 19 NZA = 26 pNZ = 0.001% pNZA = 0.002% AD = 94.74% ADA = 69.23% NO = 23 GSP = 78.26% NSP = 65.22%\n",
      "SI2 = 1.35 SI = 2.35 eGROI = 1.18% eROI = 0.42% eROI2 = 0.72% eROI3 = 0.49% mSpread = 0.0330%\n"
     ]
    },
    {
     "name": "stderr",
     "output_type": "stream",
     "text": [
      "100%|███████████████████████████████████████████████████████████████████████████████████| 4/4 [00:00<00:00, 668.44it/s]\n"
     ]
    },
    {
     "name": "stdout",
     "output_type": "stream",
     "text": [
      "Epoch = 9. Time index = 2. Threshold MC = 0.85. Threshold MD = 0.8\n",
      "RD = 4 NZ = 4 NZA = 5 pNZ = 0.000% pNZA = 0.000% AD = 100.00% ADA = 80.00% NO = 5 GSP = 60.00% NSP = 20.00%\n",
      "SI2 = -1.75 SI = -1.75 eGROI = -0.00% eROI = -0.40% eROI2 = -0.10% eROI3 = -0.15% mSpread = 0.0792%\n"
     ]
    },
    {
     "name": "stderr",
     "output_type": "stream",
     "text": [
      "0it [00:00, ?it/s]\n"
     ]
    },
    {
     "name": "stdout",
     "output_type": "stream",
     "text": [
      "Epoch = 9. Time index = 2. Threshold MC = 0.85. Threshold MD = 0.85\n",
      "RD = 1 NZ = 1 NZA = 1 pNZ = 0.000% pNZA = 0.000% AD = 100.00% ADA = 100.00% NO = 1 GSP = 0.00% NSP = 0.00%\n",
      "SI2 = -0.55 SI = -0.55 eGROI = -0.01% eROI = -0.16% eROI2 = -0.03% eROI3 = -0.04% mSpread = 0.1584%\n"
     ]
    },
    {
     "name": "stderr",
     "output_type": "stream",
     "text": [
      "0it [00:00, ?it/s]\n"
     ]
    },
    {
     "name": "stdout",
     "output_type": "stream",
     "text": [
      "Epoch = 9. Time index = 2. Threshold MC = 0.85. Threshold MD = 0.9\n",
      "RD = 0 NZ = 0 NZA = 0 pNZ = 0.000% pNZA = 0.000% AD = 0.00% ADA = 0.00% NO = 1 GSP = 0.00% NSP = 0.00%\n",
      "SI2 = -0.55 SI = -0.55 eGROI = 0.00% eROI = 0.00% eROI2 = 0.00% eROI3 = 0.00% mSpread = 0.0000%\n"
     ]
    },
    {
     "name": "stderr",
     "output_type": "stream",
     "text": [
      "0it [00:00, ?it/s]\n"
     ]
    },
    {
     "name": "stdout",
     "output_type": "stream",
     "text": [
      "Epoch = 9. Time index = 2. Threshold MC = 0.85. Threshold MD = 0.95\n",
      "RD = 0 NZ = 0 NZA = 0 pNZ = 0.000% pNZA = 0.000% AD = 0.00% ADA = 0.00% NO = 1 GSP = 0.00% NSP = 0.00%\n",
      "SI2 = -0.55 SI = -0.55 eGROI = 0.00% eROI = 0.00% eROI2 = 0.00% eROI3 = 0.00% mSpread = 0.0000%\n",
      "\n"
     ]
    },
    {
     "name": "stderr",
     "output_type": "stream",
     "text": [
      "100%|██████████████████████████████████████████████████████████████████████████████████| 9/9 [00:00<00:00, 1289.32it/s]\n"
     ]
    },
    {
     "name": "stdout",
     "output_type": "stream",
     "text": [
      "Epoch = 9. Time index = 2. Threshold MC = 0.9. Threshold MD = 0.5\n",
      "RD = 5 NZ = 8 NZA = 10 pNZ = 0.000% pNZA = 0.001% AD = 62.50% ADA = 50.00% NO = 10 GSP = 50.00% NSP = 50.00%\n",
      "SI2 = -0.50 SI = -0.50 eGROI = 0.08% eROI = -0.11% eROI2 = -0.12% eROI3 = -0.22% mSpread = 0.0186%\n"
     ]
    },
    {
     "name": "stderr",
     "output_type": "stream",
     "text": [
      "100%|███████████████████████████████████████████████████████████████████████████████████| 6/6 [00:00<00:00, 859.46it/s]\n"
     ]
    },
    {
     "name": "stdout",
     "output_type": "stream",
     "text": [
      "Epoch = 9. Time index = 2. Threshold MC = 0.9. Threshold MD = 0.55\n",
      "RD = 2 NZ = 5 NZA = 7 pNZ = 0.000% pNZA = 0.000% AD = 40.00% ADA = 28.57% NO = 7 GSP = 28.57% NSP = 28.57%\n",
      "SI2 = -1.85 SI = -1.85 eGROI = -0.70% eROI = -0.83% eROI2 = -0.84% eROI3 = -0.91% mSpread = 0.0184%\n"
     ]
    },
    {
     "name": "stderr",
     "output_type": "stream",
     "text": [
      "100%|██████████████████████████████████████████████████████████████████████████████████| 4/4 [00:00<00:00, 1337.47it/s]\n"
     ]
    },
    {
     "name": "stdout",
     "output_type": "stream",
     "text": [
      "Epoch = 9. Time index = 2. Threshold MC = 0.9. Threshold MD = 0.6\n",
      "RD = 1 NZ = 4 NZA = 5 pNZ = 0.000% pNZA = 0.000% AD = 25.00% ADA = 20.00% NO = 5 GSP = 20.00% NSP = 20.00%\n",
      "SI2 = -1.75 SI = -1.75 eGROI = -0.78% eROI = -0.86% eROI2 = -0.88% eROI3 = -0.93% mSpread = 0.0171%\n"
     ]
    },
    {
     "name": "stderr",
     "output_type": "stream",
     "text": [
      "100%|██████████████████████████████████████████████████████████████████████████████████| 1/1 [00:00<00:00, 1002.22it/s]\n"
     ]
    },
    {
     "name": "stdout",
     "output_type": "stream",
     "text": [
      "Epoch = 9. Time index = 2. Threshold MC = 0.9. Threshold MD = 0.65\n",
      "RD = 1 NZ = 2 NZA = 2 pNZ = 0.000% pNZA = 0.000% AD = 50.00% ADA = 50.00% NO = 2 GSP = 50.00% NSP = 50.00%\n",
      "SI2 = -0.10 SI = -0.10 eGROI = 0.08% eROI = 0.06% eROI2 = 0.04% eROI3 = 0.02% mSpread = 0.0109%\n"
     ]
    },
    {
     "name": "stderr",
     "output_type": "stream",
     "text": [
      "0it [00:00, ?it/s]\n"
     ]
    },
    {
     "name": "stdout",
     "output_type": "stream",
     "text": [
      "Epoch = 9. Time index = 2. Threshold MC = 0.9. Threshold MD = 0.7\n",
      "RD = 0 NZ = 0 NZA = 0 pNZ = 0.000% pNZA = 0.000% AD = 0.00% ADA = 0.00% NO = 1 GSP = 0.00% NSP = 0.00%\n",
      "SI2 = -0.55 SI = -0.55 eGROI = 0.00% eROI = 0.00% eROI2 = 0.00% eROI3 = 0.00% mSpread = 0.0000%\n"
     ]
    },
    {
     "name": "stderr",
     "output_type": "stream",
     "text": [
      "0it [00:00, ?it/s]\n"
     ]
    },
    {
     "name": "stdout",
     "output_type": "stream",
     "text": [
      "Epoch = 9. Time index = 2. Threshold MC = 0.9. Threshold MD = 0.75\n",
      "RD = 0 NZ = 0 NZA = 0 pNZ = 0.000% pNZA = 0.000% AD = 0.00% ADA = 0.00% NO = 1 GSP = 0.00% NSP = 0.00%\n",
      "SI2 = -0.55 SI = -0.55 eGROI = 0.00% eROI = 0.00% eROI2 = 0.00% eROI3 = 0.00% mSpread = 0.0000%\n"
     ]
    },
    {
     "name": "stderr",
     "output_type": "stream",
     "text": [
      "0it [00:00, ?it/s]\n"
     ]
    },
    {
     "name": "stdout",
     "output_type": "stream",
     "text": [
      "Epoch = 9. Time index = 2. Threshold MC = 0.9. Threshold MD = 0.8\n",
      "RD = 0 NZ = 0 NZA = 0 pNZ = 0.000% pNZA = 0.000% AD = 0.00% ADA = 0.00% NO = 1 GSP = 0.00% NSP = 0.00%\n",
      "SI2 = -0.55 SI = -0.55 eGROI = 0.00% eROI = 0.00% eROI2 = 0.00% eROI3 = 0.00% mSpread = 0.0000%\n"
     ]
    },
    {
     "name": "stderr",
     "output_type": "stream",
     "text": [
      "0it [00:00, ?it/s]\n"
     ]
    },
    {
     "name": "stdout",
     "output_type": "stream",
     "text": [
      "Epoch = 9. Time index = 2. Threshold MC = 0.9. Threshold MD = 0.85\n",
      "RD = 0 NZ = 0 NZA = 0 pNZ = 0.000% pNZA = 0.000% AD = 0.00% ADA = 0.00% NO = 1 GSP = 0.00% NSP = 0.00%\n",
      "SI2 = -0.55 SI = -0.55 eGROI = 0.00% eROI = 0.00% eROI2 = 0.00% eROI3 = 0.00% mSpread = 0.0000%\n"
     ]
    },
    {
     "name": "stderr",
     "output_type": "stream",
     "text": [
      "0it [00:00, ?it/s]\n"
     ]
    },
    {
     "name": "stdout",
     "output_type": "stream",
     "text": [
      "Epoch = 9. Time index = 2. Threshold MC = 0.9. Threshold MD = 0.9\n",
      "RD = 0 NZ = 0 NZA = 0 pNZ = 0.000% pNZA = 0.000% AD = 0.00% ADA = 0.00% NO = 1 GSP = 0.00% NSP = 0.00%\n",
      "SI2 = -0.55 SI = -0.55 eGROI = 0.00% eROI = 0.00% eROI2 = 0.00% eROI3 = 0.00% mSpread = 0.0000%\n"
     ]
    },
    {
     "name": "stderr",
     "output_type": "stream",
     "text": [
      "0it [00:00, ?it/s]\n"
     ]
    },
    {
     "name": "stdout",
     "output_type": "stream",
     "text": [
      "Epoch = 9. Time index = 2. Threshold MC = 0.9. Threshold MD = 0.95\n",
      "RD = 0 NZ = 0 NZA = 0 pNZ = 0.000% pNZA = 0.000% AD = 0.00% ADA = 0.00% NO = 1 GSP = 0.00% NSP = 0.00%\n",
      "SI2 = -0.55 SI = -0.55 eGROI = 0.00% eROI = 0.00% eROI2 = 0.00% eROI3 = 0.00% mSpread = 0.0000%\n",
      "\n"
     ]
    },
    {
     "name": "stderr",
     "output_type": "stream",
     "text": [
      "0it [00:00, ?it/s]\n"
     ]
    },
    {
     "name": "stdout",
     "output_type": "stream",
     "text": [
      "Epoch = 9. Time index = 2. Threshold MC = 0.95. Threshold MD = 0.5\n",
      "RD = 0 NZ = 0 NZA = 0 pNZ = 0.000% pNZA = 0.000% AD = 0.00% ADA = 0.00% NO = 1 GSP = 0.00% NSP = 0.00%\n",
      "SI2 = -0.55 SI = -0.55 eGROI = 0.00% eROI = 0.00% eROI2 = 0.00% eROI3 = 0.00% mSpread = 0.0000%\n"
     ]
    },
    {
     "name": "stderr",
     "output_type": "stream",
     "text": [
      "0it [00:00, ?it/s]\n"
     ]
    },
    {
     "name": "stdout",
     "output_type": "stream",
     "text": [
      "Epoch = 9. Time index = 2. Threshold MC = 0.95. Threshold MD = 0.55\n",
      "RD = 0 NZ = 0 NZA = 0 pNZ = 0.000% pNZA = 0.000% AD = 0.00% ADA = 0.00% NO = 1 GSP = 0.00% NSP = 0.00%\n",
      "SI2 = -0.55 SI = -0.55 eGROI = 0.00% eROI = 0.00% eROI2 = 0.00% eROI3 = 0.00% mSpread = 0.0000%\n"
     ]
    },
    {
     "name": "stderr",
     "output_type": "stream",
     "text": [
      "0it [00:00, ?it/s]\n"
     ]
    },
    {
     "name": "stdout",
     "output_type": "stream",
     "text": [
      "Epoch = 9. Time index = 2. Threshold MC = 0.95. Threshold MD = 0.6\n",
      "RD = 0 NZ = 0 NZA = 0 pNZ = 0.000% pNZA = 0.000% AD = 0.00% ADA = 0.00% NO = 1 GSP = 0.00% NSP = 0.00%\n",
      "SI2 = -0.55 SI = -0.55 eGROI = 0.00% eROI = 0.00% eROI2 = 0.00% eROI3 = 0.00% mSpread = 0.0000%\n"
     ]
    },
    {
     "name": "stderr",
     "output_type": "stream",
     "text": [
      "0it [00:00, ?it/s]\n"
     ]
    },
    {
     "name": "stdout",
     "output_type": "stream",
     "text": [
      "Epoch = 9. Time index = 2. Threshold MC = 0.95. Threshold MD = 0.65\n",
      "RD = 0 NZ = 0 NZA = 0 pNZ = 0.000% pNZA = 0.000% AD = 0.00% ADA = 0.00% NO = 1 GSP = 0.00% NSP = 0.00%\n",
      "SI2 = -0.55 SI = -0.55 eGROI = 0.00% eROI = 0.00% eROI2 = 0.00% eROI3 = 0.00% mSpread = 0.0000%\n"
     ]
    },
    {
     "name": "stderr",
     "output_type": "stream",
     "text": [
      "0it [00:00, ?it/s]\n"
     ]
    },
    {
     "name": "stdout",
     "output_type": "stream",
     "text": [
      "Epoch = 9. Time index = 2. Threshold MC = 0.95. Threshold MD = 0.7\n",
      "RD = 0 NZ = 0 NZA = 0 pNZ = 0.000% pNZA = 0.000% AD = 0.00% ADA = 0.00% NO = 1 GSP = 0.00% NSP = 0.00%\n",
      "SI2 = -0.55 SI = -0.55 eGROI = 0.00% eROI = 0.00% eROI2 = 0.00% eROI3 = 0.00% mSpread = 0.0000%\n"
     ]
    },
    {
     "name": "stderr",
     "output_type": "stream",
     "text": [
      "0it [00:00, ?it/s]\n"
     ]
    },
    {
     "name": "stdout",
     "output_type": "stream",
     "text": [
      "Epoch = 9. Time index = 2. Threshold MC = 0.95. Threshold MD = 0.75\n",
      "RD = 0 NZ = 0 NZA = 0 pNZ = 0.000% pNZA = 0.000% AD = 0.00% ADA = 0.00% NO = 1 GSP = 0.00% NSP = 0.00%\n",
      "SI2 = -0.55 SI = -0.55 eGROI = 0.00% eROI = 0.00% eROI2 = 0.00% eROI3 = 0.00% mSpread = 0.0000%\n"
     ]
    },
    {
     "name": "stderr",
     "output_type": "stream",
     "text": [
      "0it [00:00, ?it/s]\n"
     ]
    },
    {
     "name": "stdout",
     "output_type": "stream",
     "text": [
      "Epoch = 9. Time index = 2. Threshold MC = 0.95. Threshold MD = 0.8\n",
      "RD = 0 NZ = 0 NZA = 0 pNZ = 0.000% pNZA = 0.000% AD = 0.00% ADA = 0.00% NO = 1 GSP = 0.00% NSP = 0.00%\n",
      "SI2 = -0.55 SI = -0.55 eGROI = 0.00% eROI = 0.00% eROI2 = 0.00% eROI3 = 0.00% mSpread = 0.0000%\n"
     ]
    },
    {
     "name": "stderr",
     "output_type": "stream",
     "text": [
      "0it [00:00, ?it/s]\n"
     ]
    },
    {
     "name": "stdout",
     "output_type": "stream",
     "text": [
      "Epoch = 9. Time index = 2. Threshold MC = 0.95. Threshold MD = 0.85\n",
      "RD = 0 NZ = 0 NZA = 0 pNZ = 0.000% pNZA = 0.000% AD = 0.00% ADA = 0.00% NO = 1 GSP = 0.00% NSP = 0.00%\n",
      "SI2 = -0.55 SI = -0.55 eGROI = 0.00% eROI = 0.00% eROI2 = 0.00% eROI3 = 0.00% mSpread = 0.0000%\n"
     ]
    },
    {
     "name": "stderr",
     "output_type": "stream",
     "text": [
      "0it [00:00, ?it/s]\n"
     ]
    },
    {
     "name": "stdout",
     "output_type": "stream",
     "text": [
      "Epoch = 9. Time index = 2. Threshold MC = 0.95. Threshold MD = 0.9\n",
      "RD = 0 NZ = 0 NZA = 0 pNZ = 0.000% pNZA = 0.000% AD = 0.00% ADA = 0.00% NO = 1 GSP = 0.00% NSP = 0.00%\n",
      "SI2 = -0.55 SI = -0.55 eGROI = 0.00% eROI = 0.00% eROI2 = 0.00% eROI3 = 0.00% mSpread = 0.0000%\n"
     ]
    },
    {
     "name": "stderr",
     "output_type": "stream",
     "text": [
      "0it [00:00, ?it/s]\n"
     ]
    },
    {
     "name": "stdout",
     "output_type": "stream",
     "text": [
      "Epoch = 9. Time index = 2. Threshold MC = 0.95. Threshold MD = 0.95\n",
      "RD = 0 NZ = 0 NZA = 0 pNZ = 0.000% pNZA = 0.000% AD = 0.00% ADA = 0.00% NO = 1 GSP = 0.00% NSP = 0.00%\n",
      "SI2 = -0.55 SI = -0.55 eGROI = 0.00% eROI = 0.00% eROI2 = 0.00% eROI3 = 0.00% mSpread = 0.0000%\n",
      "\n"
     ]
    },
    {
     "name": "stderr",
     "output_type": "stream",
     "text": [
      "0it [00:00, ?it/s]\n"
     ]
    },
    {
     "name": "stdout",
     "output_type": "stream",
     "text": [
      "Epoch = 9. Time index = 3. Threshold MC = 0.5. Threshold MD = 0.5\n",
      "J_test = 6.279867172241211, J_train = 6.471134484857639, Accuracy=0.536214704878703\n",
      "RD = 402911 NZ = 773049 NZA = 1503248 pNZ = 44.787% pNZA = 87.092% AD = 52.12% ADA = 26.80% NO = 1 GSP = 0.00% NSP = 0.00%\n",
      "SI2 = -0.55 SI = -0.55 eGROI = 0.00% eROI = 0.00% eROI2 = 0.00% eROI3 = 0.00% mSpread = 0.0000%\n"
     ]
    },
    {
     "name": "stderr",
     "output_type": "stream",
     "text": [
      "100%|████████████████████████████████████████████████████████████████████████| 166734/166734 [00:29<00:00, 5612.33it/s]\n"
     ]
    },
    {
     "name": "stdout",
     "output_type": "stream",
     "text": [
      "Epoch = 9. Time index = 3. Threshold MC = 0.5. Threshold MD = 0.55\n",
      "RD = 49920 NZ = 84823 NZA = 166735 pNZ = 4.914% pNZA = 9.660% AD = 58.85% ADA = 29.94% NO = 19828 GSP = 56.14% NSP = 42.69%\n",
      "SI2 = -2117.40 SI = -2440.40 eGROI = 86.15% eROI = -350.83% eROI2 = -310.41% eROI3 = -508.69% mSpread = 0.0220%\n"
     ]
    },
    {
     "name": "stderr",
     "output_type": "stream",
     "text": [
      "100%|██████████████████████████████████████████████████████████████████████████| 44954/44954 [00:08<00:00, 5374.72it/s]\n"
     ]
    },
    {
     "name": "stdout",
     "output_type": "stream",
     "text": [
      "Epoch = 9. Time index = 3. Threshold MC = 0.5. Threshold MD = 0.6\n",
      "RD = 14655 NZ = 21668 NZA = 44955 pNZ = 1.255% pNZA = 2.604% AD = 67.63% ADA = 32.60% NO = 6903 GSP = 55.60% NSP = 38.19%\n",
      "SI2 = -909.65 SI = -1160.65 eGROI = 31.77% eROI = -141.67% eROI2 = -106.29% eROI3 = -175.32% mSpread = 0.0251%\n"
     ]
    },
    {
     "name": "stderr",
     "output_type": "stream",
     "text": [
      "100%|██████████████████████████████████████████████████████████████████████████| 13244/13244 [00:03<00:00, 4282.21it/s]\n"
     ]
    },
    {
     "name": "stdout",
     "output_type": "stream",
     "text": [
      "Epoch = 9. Time index = 3. Threshold MC = 0.5. Threshold MD = 0.65\n",
      "RD = 4816 NZ = 6295 NZA = 13245 pNZ = 0.365% pNZA = 0.767% AD = 76.51% ADA = 36.36% NO = 3486 GSP = 54.68% NSP = 32.59%\n",
      "SI2 = -581.30 SI = -781.30 eGROI = 21.71% eROI = -86.12% eROI2 = -48.01% eROI3 = -82.87% mSpread = 0.0309%\n"
     ]
    },
    {
     "name": "stderr",
     "output_type": "stream",
     "text": [
      "100%|████████████████████████████████████████████████████████████████████████████| 3483/3483 [00:00<00:00, 3799.24it/s]\n"
     ]
    },
    {
     "name": "stdout",
     "output_type": "stream",
     "text": [
      "Epoch = 9. Time index = 3. Threshold MC = 0.5. Threshold MD = 0.7\n",
      "RD = 1555 NZ = 1853 NZA = 3484 pNZ = 0.107% pNZA = 0.202% AD = 83.92% ADA = 44.63% NO = 1658 GSP = 53.44% NSP = 26.78%\n",
      "SI2 = -321.90 SI = -467.90 eGROI = 9.14% eROI = -52.24% eROI2 = -24.02% eROI3 = -40.60% mSpread = 0.0370%\n"
     ]
    },
    {
     "name": "stderr",
     "output_type": "stream",
     "text": [
      "100%|██████████████████████████████████████████████████████████████████████████████| 897/897 [00:00<00:00, 3177.65it/s]\n"
     ]
    },
    {
     "name": "stdout",
     "output_type": "stream",
     "text": [
      "Epoch = 9. Time index = 3. Threshold MC = 0.5. Threshold MD = 0.75\n",
      "RD = 485 NZ = 535 NZA = 898 pNZ = 0.031% pNZA = 0.052% AD = 90.65% ADA = 54.01% NO = 661 GSP = 51.13% NSP = 23.75%\n",
      "SI2 = -150.55 SI = -206.55 eGROI = 0.73% eROI = -28.13% eROI2 = -12.49% eROI3 = -19.10% mSpread = 0.0437%\n"
     ]
    },
    {
     "name": "stderr",
     "output_type": "stream",
     "text": [
      "100%|██████████████████████████████████████████████████████████████████████████████| 207/207 [00:00<00:00, 2412.48it/s]\n"
     ]
    },
    {
     "name": "stdout",
     "output_type": "stream",
     "text": [
      "Epoch = 9. Time index = 3. Threshold MC = 0.5. Threshold MD = 0.8\n",
      "RD = 126 NZ = 131 NZA = 208 pNZ = 0.008% pNZA = 0.012% AD = 96.18% ADA = 60.58% NO = 194 GSP = 47.42% NSP = 18.04%\n",
      "SI2 = -51.70 SI = -71.70 eGROI = -0.05% eROI = -10.09% eROI2 = -3.93% eROI3 = -5.87% mSpread = 0.0518%\n"
     ]
    },
    {
     "name": "stderr",
     "output_type": "stream",
     "text": [
      "100%|████████████████████████████████████████████████████████████████████████████████| 19/19 [00:00<00:00, 2380.85it/s]\n"
     ]
    },
    {
     "name": "stdout",
     "output_type": "stream",
     "text": [
      "Epoch = 9. Time index = 3. Threshold MC = 0.5. Threshold MD = 0.85\n",
      "RD = 15 NZ = 15 NZA = 20 pNZ = 0.001% pNZA = 0.001% AD = 100.00% ADA = 75.00% NO = 20 GSP = 55.00% NSP = 30.00%\n",
      "SI2 = -2.00 SI = -5.00 eGROI = 0.38% eROI = -0.85% eROI2 = -0.02% eROI3 = -0.22% mSpread = 0.0612%\n"
     ]
    },
    {
     "name": "stderr",
     "output_type": "stream",
     "text": [
      "0it [00:00, ?it/s]\n"
     ]
    },
    {
     "name": "stdout",
     "output_type": "stream",
     "text": [
      "Epoch = 9. Time index = 3. Threshold MC = 0.5. Threshold MD = 0.9\n",
      "RD = 0 NZ = 0 NZA = 0 pNZ = 0.000% pNZA = 0.000% AD = 0.00% ADA = 0.00% NO = 1 GSP = 0.00% NSP = 0.00%\n",
      "SI2 = -0.55 SI = -0.55 eGROI = 0.00% eROI = 0.00% eROI2 = 0.00% eROI3 = 0.00% mSpread = 0.0000%\n"
     ]
    },
    {
     "name": "stderr",
     "output_type": "stream",
     "text": [
      "0it [00:00, ?it/s]\n"
     ]
    },
    {
     "name": "stdout",
     "output_type": "stream",
     "text": [
      "Epoch = 9. Time index = 3. Threshold MC = 0.5. Threshold MD = 0.95\n",
      "RD = 0 NZ = 0 NZA = 0 pNZ = 0.000% pNZA = 0.000% AD = 0.00% ADA = 0.00% NO = 1 GSP = 0.00% NSP = 0.00%\n",
      "SI2 = -0.55 SI = -0.55 eGROI = 0.00% eROI = 0.00% eROI2 = 0.00% eROI3 = 0.00% mSpread = 0.0000%\n",
      "\n"
     ]
    },
    {
     "name": "stderr",
     "output_type": "stream",
     "text": [
      "0it [00:00, ?it/s]\n"
     ]
    },
    {
     "name": "stdout",
     "output_type": "stream",
     "text": [
      "Epoch = 9. Time index = 3. Threshold MC = 0.55. Threshold MD = 0.5\n",
      "RD = 291397 NZ = 555801 NZA = 1006213 pNZ = 32.201% pNZA = 58.296% AD = 52.43% ADA = 28.96% NO = 1 GSP = 0.00% NSP = 0.00%\n",
      "SI2 = -0.55 SI = -0.55 eGROI = 0.00% eROI = 0.00% eROI2 = 0.00% eROI3 = 0.00% mSpread = 0.0000%\n"
     ]
    },
    {
     "name": "stderr",
     "output_type": "stream",
     "text": [
      "100%|████████████████████████████████████████████████████████████████████████| 114148/114148 [00:22<00:00, 5157.61it/s]\n"
     ]
    },
    {
     "name": "stdout",
     "output_type": "stream",
     "text": [
      "Epoch = 9. Time index = 3. Threshold MC = 0.55. Threshold MD = 0.55\n",
      "RD = 37885 NZ = 63860 NZA = 114149 pNZ = 3.700% pNZA = 6.613% AD = 59.33% ADA = 33.19% NO = 17169 GSP = 56.77% NSP = 43.32%\n",
      "SI2 = -1698.95 SI = -2004.95 eGROI = 100.35% eROI = -288.35% eROI2 = -243.03% eROI3 = -414.72% mSpread = 0.0226%\n"
     ]
    },
    {
     "name": "stderr",
     "output_type": "stream",
     "text": [
      "100%|██████████████████████████████████████████████████████████████████████████| 32573/32573 [00:07<00:00, 4439.90it/s]\n"
     ]
    },
    {
     "name": "stdout",
     "output_type": "stream",
     "text": [
      "Epoch = 9. Time index = 3. Threshold MC = 0.55. Threshold MD = 0.6\n",
      "RD = 11841 NZ = 17576 NZA = 32574 pNZ = 1.018% pNZA = 1.887% AD = 67.37% ADA = 36.35% NO = 6239 GSP = 57.33% NSP = 38.71%\n",
      "SI2 = -675.45 SI = -1016.45 eGROI = 41.72% eROI = -125.30% eROI2 = -83.06% eROI3 = -145.45% mSpread = 0.0268%\n"
     ]
    },
    {
     "name": "stderr",
     "output_type": "stream",
     "text": [
      "100%|████████████████████████████████████████████████████████████████████████████| 9177/9177 [00:02<00:00, 4109.63it/s]\n"
     ]
    },
    {
     "name": "stdout",
     "output_type": "stream",
     "text": [
      "Epoch = 9. Time index = 3. Threshold MC = 0.55. Threshold MD = 0.65\n",
      "RD = 3792 NZ = 4991 NZA = 9178 pNZ = 0.289% pNZA = 0.532% AD = 75.98% ADA = 41.32% NO = 2838 GSP = 57.93% NSP = 33.54%\n",
      "SI2 = -371.90 SI = -608.90 eGROI = 24.98% eROI = -68.89% eROI2 = -31.78% eROI3 = -60.16% mSpread = 0.0331%\n"
     ]
    },
    {
     "name": "stderr",
     "output_type": "stream",
     "text": [
      "100%|████████████████████████████████████████████████████████████████████████████| 2417/2417 [00:00<00:00, 3522.45it/s]\n"
     ]
    },
    {
     "name": "stdout",
     "output_type": "stream",
     "text": [
      "Epoch = 9. Time index = 3. Threshold MC = 0.55. Threshold MD = 0.7\n",
      "RD = 1230 NZ = 1461 NZA = 2418 pNZ = 0.085% pNZA = 0.140% AD = 84.19% ADA = 50.87% NO = 1268 GSP = 55.76% NSP = 28.31%\n",
      "SI2 = -215.40 SI = -338.40 eGROI = 11.92% eROI = -36.97% eROI2 = -13.44% eROI3 = -26.12% mSpread = 0.0386%\n"
     ]
    },
    {
     "name": "stderr",
     "output_type": "stream",
     "text": [
      "100%|██████████████████████████████████████████████████████████████████████████████| 692/692 [00:00<00:00, 2274.90it/s]\n"
     ]
    },
    {
     "name": "stdout",
     "output_type": "stream",
     "text": [
      "Epoch = 9. Time index = 3. Threshold MC = 0.55. Threshold MD = 0.75\n",
      "RD = 407 NZ = 445 NZA = 693 pNZ = 0.026% pNZA = 0.040% AD = 91.46% ADA = 58.73% NO = 533 GSP = 52.72% NSP = 25.14%\n",
      "SI2 = -111.15 SI = -159.15 eGROI = 1.77% eROI = -21.74% eROI2 = -8.89% eROI3 = -14.22% mSpread = 0.0441%\n"
     ]
    },
    {
     "name": "stderr",
     "output_type": "stream",
     "text": [
      "100%|██████████████████████████████████████████████████████████████████████████████| 179/179 [00:00<00:00, 2111.52it/s]\n"
     ]
    },
    {
     "name": "stdout",
     "output_type": "stream",
     "text": [
      "Epoch = 9. Time index = 3. Threshold MC = 0.55. Threshold MD = 0.8\n",
      "RD = 115 NZ = 120 NZA = 180 pNZ = 0.007% pNZA = 0.010% AD = 95.83% ADA = 63.89% NO = 170 GSP = 48.82% NSP = 18.82%\n",
      "SI2 = -42.50 SI = -61.50 eGROI = 0.15% eROI = -8.65% eROI2 = -3.25% eROI3 = -4.95% mSpread = 0.0517%\n"
     ]
    },
    {
     "name": "stderr",
     "output_type": "stream",
     "text": [
      "100%|████████████████████████████████████████████████████████████████████████████████| 18/18 [00:00<00:00, 2005.46it/s]\n"
     ]
    },
    {
     "name": "stdout",
     "output_type": "stream",
     "text": [
      "Epoch = 9. Time index = 3. Threshold MC = 0.55. Threshold MD = 0.85\n",
      "RD = 14 NZ = 14 NZA = 19 pNZ = 0.001% pNZA = 0.001% AD = 100.00% ADA = 73.68% NO = 19 GSP = 52.63% NSP = 26.32%\n",
      "SI2 = -2.45 SI = -5.45 eGROI = 0.31% eROI = -0.89% eROI2 = -0.07% eROI3 = -0.26% mSpread = 0.0633%\n"
     ]
    },
    {
     "name": "stderr",
     "output_type": "stream",
     "text": [
      "0it [00:00, ?it/s]\n"
     ]
    },
    {
     "name": "stdout",
     "output_type": "stream",
     "text": [
      "Epoch = 9. Time index = 3. Threshold MC = 0.55. Threshold MD = 0.9\n",
      "RD = 0 NZ = 0 NZA = 0 pNZ = 0.000% pNZA = 0.000% AD = 0.00% ADA = 0.00% NO = 1 GSP = 0.00% NSP = 0.00%\n",
      "SI2 = -0.55 SI = -0.55 eGROI = 0.00% eROI = 0.00% eROI2 = 0.00% eROI3 = 0.00% mSpread = 0.0000%\n"
     ]
    },
    {
     "name": "stderr",
     "output_type": "stream",
     "text": [
      "0it [00:00, ?it/s]\n"
     ]
    },
    {
     "name": "stdout",
     "output_type": "stream",
     "text": [
      "Epoch = 9. Time index = 3. Threshold MC = 0.55. Threshold MD = 0.95\n",
      "RD = 0 NZ = 0 NZA = 0 pNZ = 0.000% pNZA = 0.000% AD = 0.00% ADA = 0.00% NO = 1 GSP = 0.00% NSP = 0.00%\n",
      "SI2 = -0.55 SI = -0.55 eGROI = 0.00% eROI = 0.00% eROI2 = 0.00% eROI3 = 0.00% mSpread = 0.0000%\n",
      "\n"
     ]
    },
    {
     "name": "stderr",
     "output_type": "stream",
     "text": [
      "0it [00:00, ?it/s]\n"
     ]
    },
    {
     "name": "stdout",
     "output_type": "stream",
     "text": [
      "Epoch = 9. Time index = 3. Threshold MC = 0.6. Threshold MD = 0.5\n",
      "RD = 119867 NZ = 223926 NZA = 370783 pNZ = 12.973% pNZA = 21.482% AD = 53.53% ADA = 32.33% NO = 1 GSP = 0.00% NSP = 0.00%\n",
      "SI2 = -0.55 SI = -0.55 eGROI = 0.00% eROI = 0.00% eROI2 = 0.00% eROI3 = 0.00% mSpread = 0.0000%\n"
     ]
    },
    {
     "name": "stderr",
     "output_type": "stream",
     "text": [
      "100%|██████████████████████████████████████████████████████████████████████████| 64585/64585 [00:13<00:00, 4661.13it/s]\n"
     ]
    },
    {
     "name": "stdout",
     "output_type": "stream",
     "text": [
      "Epoch = 9. Time index = 3. Threshold MC = 0.6. Threshold MD = 0.55\n",
      "RD = 23633 NZ = 39179 NZA = 64586 pNZ = 2.270% pNZA = 3.742% AD = 60.32% ADA = 36.59% NO = 11187 GSP = 57.67% NSP = 43.83%\n",
      "SI2 = -912.85 SI = -1249.85 eGROI = 90.59% eROI = -174.17% eROI2 = -133.15% eROI3 = -245.02% mSpread = 0.0237%\n"
     ]
    },
    {
     "name": "stderr",
     "output_type": "stream",
     "text": [
      "100%|██████████████████████████████████████████████████████████████████████████| 20493/20493 [00:04<00:00, 4586.50it/s]\n"
     ]
    },
    {
     "name": "stdout",
     "output_type": "stream",
     "text": [
      "Epoch = 9. Time index = 3. Threshold MC = 0.6. Threshold MD = 0.6\n",
      "RD = 8062 NZ = 11938 NZA = 20494 pNZ = 0.692% pNZA = 1.187% AD = 67.53% ADA = 39.34% NO = 4457 GSP = 59.21% NSP = 40.70%\n",
      "SI2 = -379.35 SI = -637.35 eGROI = 45.20% eROI = -83.22% eROI2 = -43.94% eROI3 = -88.51% mSpread = 0.0288%\n"
     ]
    },
    {
     "name": "stderr",
     "output_type": "stream",
     "text": [
      "100%|████████████████████████████████████████████████████████████████████████████| 6220/6220 [00:01<00:00, 3905.20it/s]\n"
     ]
    },
    {
     "name": "stdout",
     "output_type": "stream",
     "text": [
      "Epoch = 9. Time index = 3. Threshold MC = 0.6. Threshold MD = 0.65\n",
      "RD = 2703 NZ = 3590 NZA = 6221 pNZ = 0.208% pNZA = 0.360% AD = 75.29% ADA = 43.45% NO = 2013 GSP = 59.46% NSP = 35.37%\n",
      "SI2 = -195.15 SI = -395.15 eGROI = 26.55% eROI = -44.13% eROI2 = -13.71% eROI3 = -33.84% mSpread = 0.0351%\n"
     ]
    },
    {
     "name": "stderr",
     "output_type": "stream",
     "text": [
      "100%|████████████████████████████████████████████████████████████████████████████| 1652/1652 [00:00<00:00, 3346.08it/s]\n"
     ]
    },
    {
     "name": "stdout",
     "output_type": "stream",
     "text": [
      "Epoch = 9. Time index = 3. Threshold MC = 0.6. Threshold MD = 0.7\n",
      "RD = 891 NZ = 1076 NZA = 1653 pNZ = 0.062% pNZA = 0.096% AD = 82.81% ADA = 53.90% NO = 864 GSP = 57.75% NSP = 30.44%\n",
      "SI2 = -121.20 SI = -212.20 eGROI = 9.83% eROI = -24.66% eROI2 = -7.45% eROI3 = -16.09% mSpread = 0.0399%\n"
     ]
    },
    {
     "name": "stderr",
     "output_type": "stream",
     "text": [
      "100%|██████████████████████████████████████████████████████████████████████████████| 476/476 [00:00<00:00, 3001.72it/s]\n"
     ]
    },
    {
     "name": "stdout",
     "output_type": "stream",
     "text": [
      "Epoch = 9. Time index = 3. Threshold MC = 0.6. Threshold MD = 0.75\n",
      "RD = 308 NZ = 336 NZA = 477 pNZ = 0.019% pNZA = 0.028% AD = 91.67% ADA = 64.57% NO = 378 GSP = 53.17% NSP = 26.46%\n",
      "SI2 = -67.90 SI = -107.90 eGROI = 1.65% eROI = -15.33% eROI2 = -5.91% eROI3 = -9.69% mSpread = 0.0449%\n"
     ]
    },
    {
     "name": "stderr",
     "output_type": "stream",
     "text": [
      "100%|██████████████████████████████████████████████████████████████████████████████| 135/135 [00:00<00:00, 1650.73it/s]\n"
     ]
    },
    {
     "name": "stdout",
     "output_type": "stream",
     "text": [
      "Epoch = 9. Time index = 3. Threshold MC = 0.6. Threshold MD = 0.8\n",
      "RD = 95 NZ = 98 NZA = 136 pNZ = 0.006% pNZA = 0.008% AD = 96.94% ADA = 69.85% NO = 130 GSP = 50.00% NSP = 20.77%\n",
      "SI2 = -29.50 SI = -44.50 eGROI = 0.33% eROI = -6.46% eROI2 = -2.27% eROI3 = -3.57% mSpread = 0.0522%\n"
     ]
    },
    {
     "name": "stderr",
     "output_type": "stream",
     "text": [
      "100%|████████████████████████████████████████████████████████████████████████████████| 17/17 [00:00<00:00, 1704.19it/s]\n"
     ]
    },
    {
     "name": "stdout",
     "output_type": "stream",
     "text": [
      "Epoch = 9. Time index = 3. Threshold MC = 0.6. Threshold MD = 0.85\n",
      "RD = 14 NZ = 14 NZA = 18 pNZ = 0.001% pNZA = 0.001% AD = 100.00% ADA = 77.78% NO = 18 GSP = 55.56% NSP = 27.78%\n",
      "SI2 = -1.90 SI = -4.90 eGROI = 0.35% eROI = -0.81% eROI2 = -0.01% eROI3 = -0.19% mSpread = 0.0645%\n"
     ]
    },
    {
     "name": "stderr",
     "output_type": "stream",
     "text": [
      "0it [00:00, ?it/s]\n"
     ]
    },
    {
     "name": "stdout",
     "output_type": "stream",
     "text": [
      "Epoch = 9. Time index = 3. Threshold MC = 0.6. Threshold MD = 0.9\n",
      "RD = 0 NZ = 0 NZA = 0 pNZ = 0.000% pNZA = 0.000% AD = 0.00% ADA = 0.00% NO = 1 GSP = 0.00% NSP = 0.00%\n",
      "SI2 = -0.55 SI = -0.55 eGROI = 0.00% eROI = 0.00% eROI2 = 0.00% eROI3 = 0.00% mSpread = 0.0000%\n"
     ]
    },
    {
     "name": "stderr",
     "output_type": "stream",
     "text": [
      "0it [00:00, ?it/s]\n"
     ]
    },
    {
     "name": "stdout",
     "output_type": "stream",
     "text": [
      "Epoch = 9. Time index = 3. Threshold MC = 0.6. Threshold MD = 0.95\n",
      "RD = 0 NZ = 0 NZA = 0 pNZ = 0.000% pNZA = 0.000% AD = 0.00% ADA = 0.00% NO = 1 GSP = 0.00% NSP = 0.00%\n",
      "SI2 = -0.55 SI = -0.55 eGROI = 0.00% eROI = 0.00% eROI2 = 0.00% eROI3 = 0.00% mSpread = 0.0000%\n",
      "\n"
     ]
    },
    {
     "name": "stderr",
     "output_type": "stream",
     "text": [
      "100%|██████████████████████████████████████████████████████████████████████████| 90543/90543 [00:17<00:00, 5206.90it/s]\n"
     ]
    },
    {
     "name": "stdout",
     "output_type": "stream",
     "text": [
      "Epoch = 9. Time index = 3. Threshold MC = 0.65. Threshold MD = 0.5\n",
      "RD = 32919 NZ = 59726 NZA = 90544 pNZ = 3.460% pNZA = 5.246% AD = 55.12% ADA = 36.36% NO = 8418 GSP = 56.07% NSP = 43.78%\n",
      "SI2 = -749.90 SI = -944.90 eGROI = 40.65% eROI = -153.01% eROI2 = -127.71% eROI3 = -211.89% mSpread = 0.0230%\n"
     ]
    },
    {
     "name": "stderr",
     "output_type": "stream",
     "text": [
      "100%|██████████████████████████████████████████████████████████████████████████| 32139/32139 [00:06<00:00, 4990.66it/s]\n"
     ]
    },
    {
     "name": "stdout",
     "output_type": "stream",
     "text": [
      "Epoch = 9. Time index = 3. Threshold MC = 0.65. Threshold MD = 0.55\n",
      "RD = 12585 NZ = 20818 NZA = 32140 pNZ = 1.206% pNZA = 1.862% AD = 60.45% ADA = 39.16% NO = 6080 GSP = 57.15% NSP = 43.62%\n",
      "SI2 = -482.00 SI = -692.00 eGROI = 48.37% eROI = -98.56% eROI2 = -73.23% eROI3 = -134.03% mSpread = 0.0242%\n"
     ]
    },
    {
     "name": "stderr",
     "output_type": "stream",
     "text": [
      "100%|██████████████████████████████████████████████████████████████████████████| 11731/11731 [00:02<00:00, 4580.33it/s]\n"
     ]
    },
    {
     "name": "stdout",
     "output_type": "stream",
     "text": [
      "Epoch = 9. Time index = 3. Threshold MC = 0.65. Threshold MD = 0.6\n",
      "RD = 4931 NZ = 7249 NZA = 11732 pNZ = 0.420% pNZA = 0.680% AD = 68.02% ADA = 42.03% NO = 2847 GSP = 59.96% NSP = 41.90%\n",
      "SI2 = -188.85 SI = -372.85 eGROI = 36.81% eROI = -47.48% eROI2 = -20.13% eROI3 = -48.60% mSpread = 0.0296%\n"
     ]
    },
    {
     "name": "stderr",
     "output_type": "stream",
     "text": [
      "100%|████████████████████████████████████████████████████████████████████████████| 4078/4078 [00:00<00:00, 4289.75it/s]\n"
     ]
    },
    {
     "name": "stdout",
     "output_type": "stream",
     "text": [
      "Epoch = 9. Time index = 3. Threshold MC = 0.65. Threshold MD = 0.65\n",
      "RD = 1818 NZ = 2451 NZA = 4079 pNZ = 0.142% pNZA = 0.236% AD = 74.17% ADA = 44.57% NO = 1418 GSP = 60.44% NSP = 37.94%\n",
      "SI2 = -104.90 SI = -241.90 eGROI = 23.11% eROI = -27.08% eROI2 = -5.25% eROI3 = -19.43% mSpread = 0.0354%\n"
     ]
    },
    {
     "name": "stderr",
     "output_type": "stream",
     "text": [
      "100%|████████████████████████████████████████████████████████████████████████████| 1188/1188 [00:00<00:00, 3046.46it/s]\n"
     ]
    },
    {
     "name": "stdout",
     "output_type": "stream",
     "text": [
      "Epoch = 9. Time index = 3. Threshold MC = 0.65. Threshold MD = 0.7\n",
      "RD = 684 NZ = 832 NZA = 1189 pNZ = 0.048% pNZA = 0.069% AD = 82.21% ADA = 57.53% NO = 629 GSP = 58.19% NSP = 33.23%\n",
      "SI2 = -62.95 SI = -136.95 eGROI = 8.81% eROI = -16.59% eROI2 = -3.77% eROI3 = -10.06% mSpread = 0.0404%\n"
     ]
    },
    {
     "name": "stderr",
     "output_type": "stream",
     "text": [
      "100%|██████████████████████████████████████████████████████████████████████████████| 352/352 [00:00<00:00, 2450.99it/s]\n"
     ]
    },
    {
     "name": "stdout",
     "output_type": "stream",
     "text": [
      "Epoch = 9. Time index = 3. Threshold MC = 0.65. Threshold MD = 0.75\n",
      "RD = 248 NZ = 268 NZA = 353 pNZ = 0.016% pNZA = 0.020% AD = 92.54% ADA = 70.25% NO = 278 GSP = 56.12% NSP = 30.22%\n",
      "SI2 = -35.90 SI = -68.90 eGROI = 2.21% eROI = -10.54% eROI2 = -3.35% eROI3 = -6.13% mSpread = 0.0459%\n"
     ]
    },
    {
     "name": "stderr",
     "output_type": "stream",
     "text": [
      "100%|██████████████████████████████████████████████████████████████████████████████| 105/105 [00:00<00:00, 1815.09it/s]\n"
     ]
    },
    {
     "name": "stdout",
     "output_type": "stream",
     "text": [
      "Epoch = 9. Time index = 3. Threshold MC = 0.65. Threshold MD = 0.8\n",
      "RD = 81 NZ = 83 NZA = 106 pNZ = 0.005% pNZA = 0.006% AD = 97.59% ADA = 76.42% NO = 103 GSP = 50.49% NSP = 22.33%\n",
      "SI2 = -21.65 SI = -33.65 eGROI = 0.47% eROI = -5.09% eROI2 = -1.59% eROI3 = -2.62% mSpread = 0.0540%\n"
     ]
    },
    {
     "name": "stderr",
     "output_type": "stream",
     "text": [
      "100%|████████████████████████████████████████████████████████████████████████████████| 15/15 [00:00<00:00, 1670.51it/s]\n"
     ]
    },
    {
     "name": "stdout",
     "output_type": "stream",
     "text": [
      "Epoch = 9. Time index = 3. Threshold MC = 0.65. Threshold MD = 0.85\n",
      "RD = 12 NZ = 12 NZA = 16 pNZ = 0.001% pNZA = 0.001% AD = 100.00% ADA = 75.00% NO = 16 GSP = 50.00% NSP = 25.00%\n",
      "SI2 = -2.80 SI = -4.80 eGROI = 0.24% eROI = -0.84% eROI2 = -0.08% eROI3 = -0.24% mSpread = 0.0672%\n"
     ]
    },
    {
     "name": "stderr",
     "output_type": "stream",
     "text": [
      "0it [00:00, ?it/s]\n"
     ]
    },
    {
     "name": "stdout",
     "output_type": "stream",
     "text": [
      "Epoch = 9. Time index = 3. Threshold MC = 0.65. Threshold MD = 0.9\n",
      "RD = 0 NZ = 0 NZA = 0 pNZ = 0.000% pNZA = 0.000% AD = 0.00% ADA = 0.00% NO = 1 GSP = 0.00% NSP = 0.00%\n",
      "SI2 = -0.55 SI = -0.55 eGROI = 0.00% eROI = 0.00% eROI2 = 0.00% eROI3 = 0.00% mSpread = 0.0000%\n"
     ]
    },
    {
     "name": "stderr",
     "output_type": "stream",
     "text": [
      "0it [00:00, ?it/s]\n"
     ]
    },
    {
     "name": "stdout",
     "output_type": "stream",
     "text": [
      "Epoch = 9. Time index = 3. Threshold MC = 0.65. Threshold MD = 0.95\n",
      "RD = 0 NZ = 0 NZA = 0 pNZ = 0.000% pNZA = 0.000% AD = 0.00% ADA = 0.00% NO = 1 GSP = 0.00% NSP = 0.00%\n",
      "SI2 = -0.55 SI = -0.55 eGROI = 0.00% eROI = 0.00% eROI2 = 0.00% eROI3 = 0.00% mSpread = 0.0000%\n",
      "\n"
     ]
    },
    {
     "name": "stderr",
     "output_type": "stream",
     "text": [
      "100%|██████████████████████████████████████████████████████████████████████████| 26030/26030 [00:04<00:00, 5235.25it/s]\n"
     ]
    },
    {
     "name": "stdout",
     "output_type": "stream",
     "text": [
      "Epoch = 9. Time index = 3. Threshold MC = 0.7. Threshold MD = 0.5\n",
      "RD = 10303 NZ = 18463 NZA = 26031 pNZ = 1.070% pNZA = 1.508% AD = 55.80% ADA = 39.58% NO = 3897 GSP = 55.86% NSP = 44.93%\n",
      "SI2 = -298.35 SI = -392.35 eGROI = 18.00% eROI = -72.38% eROI2 = -59.94% eROI3 = -98.91% mSpread = 0.0232%\n"
     ]
    },
    {
     "name": "stderr",
     "output_type": "stream",
     "text": [
      "100%|██████████████████████████████████████████████████████████████████████████| 14279/14279 [00:03<00:00, 4252.88it/s]\n"
     ]
    },
    {
     "name": "stdout",
     "output_type": "stream",
     "text": [
      "Epoch = 9. Time index = 3. Threshold MC = 0.7. Threshold MD = 0.55\n",
      "RD = 5960 NZ = 10072 NZA = 14280 pNZ = 0.584% pNZA = 0.827% AD = 59.17% ADA = 41.74% NO = 3217 GSP = 56.48% NSP = 44.89%\n",
      "SI2 = -233.35 SI = -325.35 eGROI = 23.26% eROI = -53.53% eROI2 = -41.08% eROI3 = -73.25% mSpread = 0.0239%\n"
     ]
    },
    {
     "name": "stderr",
     "output_type": "stream",
     "text": [
      "100%|████████████████████████████████████████████████████████████████████████████| 4993/4993 [00:01<00:00, 4066.50it/s]\n"
     ]
    },
    {
     "name": "stdout",
     "output_type": "stream",
     "text": [
      "Epoch = 9. Time index = 3. Threshold MC = 0.7. Threshold MD = 0.6\n",
      "RD = 2342 NZ = 3393 NZA = 4994 pNZ = 0.197% pNZA = 0.289% AD = 69.02% ADA = 46.90% NO = 1582 GSP = 61.50% NSP = 45.26%\n",
      "SI2 = -51.10 SI = -154.10 eGROI = 26.66% eROI = -19.80% eROI2 = -4.98% eROI3 = -20.80% mSpread = 0.0294%\n"
     ]
    },
    {
     "name": "stderr",
     "output_type": "stream",
     "text": [
      "100%|████████████████████████████████████████████████████████████████████████████| 1853/1853 [00:00<00:00, 3276.79it/s]\n"
     ]
    },
    {
     "name": "stdout",
     "output_type": "stream",
     "text": [
      "Epoch = 9. Time index = 3. Threshold MC = 0.7. Threshold MD = 0.65\n",
      "RD = 915 NZ = 1250 NZA = 1854 pNZ = 0.072% pNZA = 0.107% AD = 73.20% ADA = 49.35% NO = 784 GSP = 60.84% NSP = 40.82%\n",
      "SI2 = -49.20 SI = -111.20 eGROI = 15.07% eROI = -12.08% eROI2 = -0.61% eROI3 = -8.45% mSpread = 0.0346%\n"
     ]
    },
    {
     "name": "stderr",
     "output_type": "stream",
     "text": [
      "100%|██████████████████████████████████████████████████████████████████████████████| 659/659 [00:00<00:00, 3271.08it/s]\n"
     ]
    },
    {
     "name": "stdout",
     "output_type": "stream",
     "text": [
      "Epoch = 9. Time index = 3. Threshold MC = 0.7. Threshold MD = 0.7\n",
      "RD = 390 NZ = 487 NZA = 660 pNZ = 0.028% pNZA = 0.038% AD = 80.08% ADA = 59.09% NO = 357 GSP = 57.14% NSP = 34.45%\n",
      "SI2 = -38.35 SI = -73.35 eGROI = 3.91% eROI = -9.96% eROI2 = -3.23% eROI3 = -6.80% mSpread = 0.0389%\n"
     ]
    },
    {
     "name": "stderr",
     "output_type": "stream",
     "text": [
      "100%|██████████████████████████████████████████████████████████████████████████████| 242/242 [00:00<00:00, 2378.99it/s]\n"
     ]
    },
    {
     "name": "stdout",
     "output_type": "stream",
     "text": [
      "Epoch = 9. Time index = 3. Threshold MC = 0.7. Threshold MD = 0.75\n",
      "RD = 168 NZ = 184 NZA = 243 pNZ = 0.011% pNZA = 0.014% AD = 91.30% ADA = 69.14% NO = 186 GSP = 59.14% NSP = 31.18%\n",
      "SI2 = -18.30 SI = -44.30 eGROI = 1.47% eROI = -7.14% eROI2 = -2.25% eROI3 = -4.11% mSpread = 0.0463%\n"
     ]
    },
    {
     "name": "stderr",
     "output_type": "stream",
     "text": [
      "100%|████████████████████████████████████████████████████████████████████████████████| 71/71 [00:00<00:00, 1825.34it/s]\n"
     ]
    },
    {
     "name": "stdout",
     "output_type": "stream",
     "text": [
      "Epoch = 9. Time index = 3. Threshold MC = 0.7. Threshold MD = 0.8\n",
      "RD = 57 NZ = 59 NZA = 72 pNZ = 0.003% pNZA = 0.004% AD = 96.61% ADA = 79.17% NO = 69 GSP = 53.62% NSP = 26.09%\n",
      "SI2 = -11.95 SI = -19.95 eGROI = 0.34% eROI = -3.50% eROI2 = -1.04% eROI3 = -1.73% mSpread = 0.0556%\n"
     ]
    },
    {
     "name": "stderr",
     "output_type": "stream",
     "text": [
      "100%|████████████████████████████████████████████████████████████████████████████████| 15/15 [00:00<00:00, 1503.77it/s]\n"
     ]
    },
    {
     "name": "stdout",
     "output_type": "stream",
     "text": [
      "Epoch = 9. Time index = 3. Threshold MC = 0.7. Threshold MD = 0.85\n",
      "RD = 12 NZ = 12 NZA = 16 pNZ = 0.001% pNZA = 0.001% AD = 100.00% ADA = 75.00% NO = 16 GSP = 50.00% NSP = 25.00%\n",
      "SI2 = -2.80 SI = -4.80 eGROI = 0.24% eROI = -0.84% eROI2 = -0.08% eROI3 = -0.24% mSpread = 0.0672%\n"
     ]
    },
    {
     "name": "stderr",
     "output_type": "stream",
     "text": [
      "0it [00:00, ?it/s]\n"
     ]
    },
    {
     "name": "stdout",
     "output_type": "stream",
     "text": [
      "Epoch = 9. Time index = 3. Threshold MC = 0.7. Threshold MD = 0.9\n",
      "RD = 0 NZ = 0 NZA = 0 pNZ = 0.000% pNZA = 0.000% AD = 0.00% ADA = 0.00% NO = 1 GSP = 0.00% NSP = 0.00%\n",
      "SI2 = -0.55 SI = -0.55 eGROI = 0.00% eROI = 0.00% eROI2 = 0.00% eROI3 = 0.00% mSpread = 0.0000%\n"
     ]
    },
    {
     "name": "stderr",
     "output_type": "stream",
     "text": [
      "0it [00:00, ?it/s]\n"
     ]
    },
    {
     "name": "stdout",
     "output_type": "stream",
     "text": [
      "Epoch = 9. Time index = 3. Threshold MC = 0.7. Threshold MD = 0.95\n",
      "RD = 0 NZ = 0 NZA = 0 pNZ = 0.000% pNZA = 0.000% AD = 0.00% ADA = 0.00% NO = 1 GSP = 0.00% NSP = 0.00%\n",
      "SI2 = -0.55 SI = -0.55 eGROI = 0.00% eROI = 0.00% eROI2 = 0.00% eROI3 = 0.00% mSpread = 0.0000%\n",
      "\n"
     ]
    },
    {
     "name": "stderr",
     "output_type": "stream",
     "text": [
      "100%|████████████████████████████████████████████████████████████████████████████| 7024/7024 [00:01<00:00, 4633.38it/s]\n"
     ]
    },
    {
     "name": "stdout",
     "output_type": "stream",
     "text": [
      "Epoch = 9. Time index = 3. Threshold MC = 0.75. Threshold MD = 0.5\n",
      "RD = 2937 NZ = 5328 NZA = 7025 pNZ = 0.309% pNZA = 0.407% AD = 55.12% ADA = 41.81% NO = 1646 GSP = 53.83% NSP = 44.59%\n",
      "SI2 = -136.30 SI = -171.30 eGROI = 7.78% eROI = -30.50% eROI2 = -25.14% eROI3 = -41.60% mSpread = 0.0233%\n"
     ]
    },
    {
     "name": "stderr",
     "output_type": "stream",
     "text": [
      "100%|████████████████████████████████████████████████████████████████████████████| 5106/5106 [00:01<00:00, 4709.87it/s]\n"
     ]
    },
    {
     "name": "stdout",
     "output_type": "stream",
     "text": [
      "Epoch = 9. Time index = 3. Threshold MC = 0.75. Threshold MD = 0.55\n",
      "RD = 2174 NZ = 3855 NZA = 5107 pNZ = 0.223% pNZA = 0.296% AD = 56.39% ADA = 42.57% NO = 1415 GSP = 54.35% NSP = 44.38%\n",
      "SI2 = -116.25 SI = -150.25 eGROI = 7.30% eROI = -26.23% eROI2 = -21.00% eROI3 = -35.15% mSpread = 0.0237%\n"
     ]
    },
    {
     "name": "stderr",
     "output_type": "stream",
     "text": [
      "100%|████████████████████████████████████████████████████████████████████████████| 1872/1872 [00:00<00:00, 4107.21it/s]\n"
     ]
    },
    {
     "name": "stdout",
     "output_type": "stream",
     "text": [
      "Epoch = 9. Time index = 3. Threshold MC = 0.75. Threshold MD = 0.6\n",
      "RD = 896 NZ = 1394 NZA = 1873 pNZ = 0.081% pNZA = 0.109% AD = 64.28% ADA = 47.84% NO = 697 GSP = 61.41% NSP = 46.63%\n",
      "SI2 = -21.35 SI = -58.35 eGROI = 10.24% eROI = -9.46% eROI2 = -3.70% eROI3 = -10.67% mSpread = 0.0283%\n"
     ]
    },
    {
     "name": "stderr",
     "output_type": "stream",
     "text": [
      "100%|██████████████████████████████████████████████████████████████████████████████| 862/862 [00:00<00:00, 2788.06it/s]\n"
     ]
    },
    {
     "name": "stdout",
     "output_type": "stream",
     "text": [
      "Epoch = 9. Time index = 3. Threshold MC = 0.75. Threshold MD = 0.65\n",
      "RD = 442 NZ = 638 NZA = 863 pNZ = 0.037% pNZA = 0.050% AD = 69.28% ADA = 51.22% NO = 386 GSP = 63.99% NSP = 47.67%\n",
      "SI2 = -9.30 SI = -28.30 eGROI = 9.69% eROI = -2.12% eROI2 = 1.97% eROI3 = -1.89% mSpread = 0.0306%\n"
     ]
    },
    {
     "name": "stderr",
     "output_type": "stream",
     "text": [
      "100%|██████████████████████████████████████████████████████████████████████████████| 389/389 [00:00<00:00, 3171.09it/s]\n"
     ]
    },
    {
     "name": "stdout",
     "output_type": "stream",
     "text": [
      "Epoch = 9. Time index = 3. Threshold MC = 0.75. Threshold MD = 0.7\n",
      "RD = 228 NZ = 297 NZA = 390 pNZ = 0.017% pNZA = 0.023% AD = 76.77% ADA = 58.46% NO = 220 GSP = 63.64% NSP = 43.64%\n",
      "SI2 = -9.00 SI = -25.00 eGROI = 4.20% eROI = -3.66% eROI2 = -0.20% eROI3 = -2.40% mSpread = 0.0358%\n"
     ]
    },
    {
     "name": "stderr",
     "output_type": "stream",
     "text": [
      "100%|██████████████████████████████████████████████████████████████████████████████| 139/139 [00:00<00:00, 2732.70it/s]\n"
     ]
    },
    {
     "name": "stdout",
     "output_type": "stream",
     "text": [
      "Epoch = 9. Time index = 3. Threshold MC = 0.75. Threshold MD = 0.75\n",
      "RD = 94 NZ = 105 NZA = 140 pNZ = 0.006% pNZA = 0.008% AD = 89.52% ADA = 67.14% NO = 104 GSP = 64.42% NSP = 41.35%\n",
      "SI2 = -4.20 SI = -14.20 eGROI = 1.59% eROI = -3.02% eROI2 = -0.49% eROI3 = -1.53% mSpread = 0.0443%\n"
     ]
    },
    {
     "name": "stderr",
     "output_type": "stream",
     "text": [
      "100%|████████████████████████████████████████████████████████████████████████████████| 39/39 [00:00<00:00, 1303.47it/s]\n"
     ]
    },
    {
     "name": "stdout",
     "output_type": "stream",
     "text": [
      "Epoch = 9. Time index = 3. Threshold MC = 0.75. Threshold MD = 0.8\n",
      "RD = 32 NZ = 33 NZA = 40 pNZ = 0.002% pNZA = 0.002% AD = 96.97% ADA = 80.00% NO = 40 GSP = 57.50% NSP = 32.50%\n",
      "SI2 = -6.00 SI = -9.00 eGROI = 0.45% eROI = -1.91% eROI2 = -0.35% eROI3 = -0.75% mSpread = 0.0591%\n"
     ]
    },
    {
     "name": "stderr",
     "output_type": "stream",
     "text": [
      "100%|████████████████████████████████████████████████████████████████████████████████| 12/12 [00:00<00:00, 1002.78it/s]\n"
     ]
    },
    {
     "name": "stdout",
     "output_type": "stream",
     "text": [
      "Epoch = 9. Time index = 3. Threshold MC = 0.75. Threshold MD = 0.85\n",
      "RD = 10 NZ = 10 NZA = 13 pNZ = 0.001% pNZA = 0.001% AD = 100.00% ADA = 76.92% NO = 13 GSP = 53.85% NSP = 30.77%\n",
      "SI2 = -2.15 SI = -3.15 eGROI = 0.29% eROI = -0.54% eROI2 = 0.03% eROI3 = -0.10% mSpread = 0.0634%\n"
     ]
    },
    {
     "name": "stderr",
     "output_type": "stream",
     "text": [
      "0it [00:00, ?it/s]\n"
     ]
    },
    {
     "name": "stdout",
     "output_type": "stream",
     "text": [
      "Epoch = 9. Time index = 3. Threshold MC = 0.75. Threshold MD = 0.9\n",
      "RD = 0 NZ = 0 NZA = 0 pNZ = 0.000% pNZA = 0.000% AD = 0.00% ADA = 0.00% NO = 1 GSP = 0.00% NSP = 0.00%\n",
      "SI2 = -0.55 SI = -0.55 eGROI = 0.00% eROI = 0.00% eROI2 = 0.00% eROI3 = 0.00% mSpread = 0.0000%\n"
     ]
    },
    {
     "name": "stderr",
     "output_type": "stream",
     "text": [
      "0it [00:00, ?it/s]\n"
     ]
    },
    {
     "name": "stdout",
     "output_type": "stream",
     "text": [
      "Epoch = 9. Time index = 3. Threshold MC = 0.75. Threshold MD = 0.95\n",
      "RD = 0 NZ = 0 NZA = 0 pNZ = 0.000% pNZA = 0.000% AD = 0.00% ADA = 0.00% NO = 1 GSP = 0.00% NSP = 0.00%\n",
      "SI2 = -0.55 SI = -0.55 eGROI = 0.00% eROI = 0.00% eROI2 = 0.00% eROI3 = 0.00% mSpread = 0.0000%\n",
      "\n"
     ]
    },
    {
     "name": "stderr",
     "output_type": "stream",
     "text": [
      "100%|████████████████████████████████████████████████████████████████████████████| 1283/1283 [00:00<00:00, 3448.86it/s]\n"
     ]
    },
    {
     "name": "stdout",
     "output_type": "stream",
     "text": [
      "Epoch = 9. Time index = 3. Threshold MC = 0.8. Threshold MD = 0.5\n",
      "RD = 582 NZ = 1027 NZA = 1284 pNZ = 0.059% pNZA = 0.074% AD = 56.67% ADA = 45.33% NO = 546 GSP = 52.38% NSP = 45.05%\n",
      "SI2 = -47.30 SI = -54.30 eGROI = 5.26% eROI = -8.12% eROI2 = -5.66% eROI3 = -11.12% mSpread = 0.0245%\n"
     ]
    },
    {
     "name": "stderr",
     "output_type": "stream",
     "text": [
      "100%|████████████████████████████████████████████████████████████████████████████| 1051/1051 [00:00<00:00, 3164.58it/s]\n"
     ]
    },
    {
     "name": "stdout",
     "output_type": "stream",
     "text": [
      "Epoch = 9. Time index = 3. Threshold MC = 0.8. Threshold MD = 0.55\n",
      "RD = 480 NZ = 840 NZA = 1052 pNZ = 0.049% pNZA = 0.061% AD = 57.14% ADA = 45.63% NO = 472 GSP = 53.39% NSP = 44.92%\n",
      "SI2 = -39.60 SI = -47.60 eGROI = 7.03% eROI = -4.75% eROI2 = -2.41% eROI3 = -7.13% mSpread = 0.0250%\n"
     ]
    },
    {
     "name": "stderr",
     "output_type": "stream",
     "text": [
      "100%|██████████████████████████████████████████████████████████████████████████████| 584/584 [00:00<00:00, 2698.42it/s]\n"
     ]
    },
    {
     "name": "stdout",
     "output_type": "stream",
     "text": [
      "Epoch = 9. Time index = 3. Threshold MC = 0.8. Threshold MD = 0.6\n",
      "RD = 291 NZ = 461 NZA = 585 pNZ = 0.027% pNZA = 0.034% AD = 63.12% ADA = 49.74% NO = 305 GSP = 56.72% NSP = 47.87%\n",
      "SI2 = -12.75 SI = -21.75 eGROI = 5.87% eROI = -2.65% eROI2 = -0.23% eROI3 = -3.28% mSpread = 0.0279%\n"
     ]
    },
    {
     "name": "stderr",
     "output_type": "stream",
     "text": [
      "100%|██████████████████████████████████████████████████████████████████████████████| 281/281 [00:00<00:00, 1853.58it/s]\n"
     ]
    },
    {
     "name": "stdout",
     "output_type": "stream",
     "text": [
      "Epoch = 9. Time index = 3. Threshold MC = 0.8. Threshold MD = 0.65\n",
      "RD = 156 NZ = 219 NZA = 282 pNZ = 0.013% pNZA = 0.016% AD = 71.23% ADA = 55.32% NO = 172 GSP = 63.37% NSP = 54.65%\n",
      "SI2 = 5.40 SI = -0.60 eGROI = 5.72% eROI = 0.16% eROI2 = 2.28% eROI3 = 0.56% mSpread = 0.0323%\n"
     ]
    },
    {
     "name": "stderr",
     "output_type": "stream",
     "text": [
      "100%|██████████████████████████████████████████████████████████████████████████████| 156/156 [00:00<00:00, 2843.93it/s]\n"
     ]
    },
    {
     "name": "stdout",
     "output_type": "stream",
     "text": [
      "Epoch = 9. Time index = 3. Threshold MC = 0.8. Threshold MD = 0.7\n",
      "RD = 95 NZ = 118 NZA = 157 pNZ = 0.007% pNZA = 0.009% AD = 80.51% ADA = 60.51% NO = 106 GSP = 65.09% NSP = 54.72%\n",
      "SI2 = 3.70 SI = -0.30 eGROI = 3.62% eROI = -0.32% eROI2 = 1.50% eROI3 = 0.44% mSpread = 0.0372%\n"
     ]
    },
    {
     "name": "stderr",
     "output_type": "stream",
     "text": [
      "100%|████████████████████████████████████████████████████████████████████████████████| 62/62 [00:00<00:00, 1828.38it/s]\n"
     ]
    },
    {
     "name": "stdout",
     "output_type": "stream",
     "text": [
      "Epoch = 9. Time index = 3. Threshold MC = 0.8. Threshold MD = 0.75\n",
      "RD = 44 NZ = 49 NZA = 63 pNZ = 0.003% pNZA = 0.004% AD = 89.80% ADA = 69.84% NO = 51 GSP = 68.63% NSP = 54.90%\n",
      "SI2 = 0.95 SI = -0.05 eGROI = 1.43% eROI = -1.08% eROI2 = 0.41% eROI3 = -0.10% mSpread = 0.0492%\n"
     ]
    },
    {
     "name": "stderr",
     "output_type": "stream",
     "text": [
      "100%|████████████████████████████████████████████████████████████████████████████████| 17/17 [00:00<00:00, 1894.04it/s]\n"
     ]
    },
    {
     "name": "stdout",
     "output_type": "stream",
     "text": [
      "Epoch = 9. Time index = 3. Threshold MC = 0.8. Threshold MD = 0.8\n",
      "RD = 13 NZ = 13 NZA = 18 pNZ = 0.001% pNZA = 0.001% AD = 100.00% ADA = 72.22% NO = 18 GSP = 50.00% NSP = 33.33%\n",
      "SI2 = -3.90 SI = -3.90 eGROI = 0.11% eROI = -1.29% eROI2 = -0.25% eROI3 = -0.43% mSpread = 0.0775%\n"
     ]
    },
    {
     "name": "stderr",
     "output_type": "stream",
     "text": [
      "100%|███████████████████████████████████████████████████████████████████████████████████| 6/6 [00:00<00:00, 752.07it/s]\n"
     ]
    },
    {
     "name": "stdout",
     "output_type": "stream",
     "text": [
      "Epoch = 9. Time index = 3. Threshold MC = 0.8. Threshold MD = 0.85\n",
      "RD = 4 NZ = 4 NZA = 7 pNZ = 0.000% pNZA = 0.000% AD = 100.00% ADA = 57.14% NO = 7 GSP = 42.86% NSP = 28.57%\n",
      "SI2 = -0.85 SI = -1.85 eGROI = 0.14% eROI = -0.46% eROI2 = -0.00% eROI3 = -0.07% mSpread = 0.0860%\n"
     ]
    },
    {
     "name": "stderr",
     "output_type": "stream",
     "text": [
      "0it [00:00, ?it/s]\n"
     ]
    },
    {
     "name": "stdout",
     "output_type": "stream",
     "text": [
      "Epoch = 9. Time index = 3. Threshold MC = 0.8. Threshold MD = 0.9\n",
      "RD = 0 NZ = 0 NZA = 0 pNZ = 0.000% pNZA = 0.000% AD = 0.00% ADA = 0.00% NO = 1 GSP = 0.00% NSP = 0.00%\n",
      "SI2 = -0.55 SI = -0.55 eGROI = 0.00% eROI = 0.00% eROI2 = 0.00% eROI3 = 0.00% mSpread = 0.0000%\n"
     ]
    },
    {
     "name": "stderr",
     "output_type": "stream",
     "text": [
      "0it [00:00, ?it/s]\n"
     ]
    },
    {
     "name": "stdout",
     "output_type": "stream",
     "text": [
      "Epoch = 9. Time index = 3. Threshold MC = 0.8. Threshold MD = 0.95\n",
      "RD = 0 NZ = 0 NZA = 0 pNZ = 0.000% pNZA = 0.000% AD = 0.00% ADA = 0.00% NO = 1 GSP = 0.00% NSP = 0.00%\n",
      "SI2 = -0.55 SI = -0.55 eGROI = 0.00% eROI = 0.00% eROI2 = 0.00% eROI3 = 0.00% mSpread = 0.0000%\n",
      "\n"
     ]
    },
    {
     "name": "stderr",
     "output_type": "stream",
     "text": [
      "100%|██████████████████████████████████████████████████████████████████████████████| 139/139 [00:00<00:00, 1255.59it/s]\n"
     ]
    },
    {
     "name": "stdout",
     "output_type": "stream",
     "text": [
      "Epoch = 9. Time index = 3. Threshold MC = 0.85. Threshold MD = 0.5\n",
      "RD = 75 NZ = 111 NZA = 140 pNZ = 0.006% pNZA = 0.008% AD = 67.57% ADA = 53.57% NO = 109 GSP = 59.63% NSP = 53.21%\n",
      "SI2 = -0.95 SI = -1.95 eGROI = 4.22% eROI = 1.83% eROI2 = 2.04% eROI3 = 0.95% mSpread = 0.0220%\n"
     ]
    },
    {
     "name": "stderr",
     "output_type": "stream",
     "text": [
      "100%|██████████████████████████████████████████████████████████████████████████████| 127/127 [00:00<00:00, 1399.33it/s]\n"
     ]
    },
    {
     "name": "stdout",
     "output_type": "stream",
     "text": [
      "Epoch = 9. Time index = 3. Threshold MC = 0.85. Threshold MD = 0.55\n",
      "RD = 69 NZ = 102 NZA = 128 pNZ = 0.006% pNZA = 0.007% AD = 67.65% ADA = 53.91% NO = 101 GSP = 58.42% NSP = 52.48%\n",
      "SI2 = -1.55 SI = -2.55 eGROI = 3.47% eROI = 1.24% eROI2 = 1.45% eROI3 = 0.44% mSpread = 0.0222%\n"
     ]
    },
    {
     "name": "stderr",
     "output_type": "stream",
     "text": [
      "100%|██████████████████████████████████████████████████████████████████████████████| 108/108 [00:00<00:00, 2082.50it/s]\n"
     ]
    },
    {
     "name": "stdout",
     "output_type": "stream",
     "text": [
      "Epoch = 9. Time index = 3. Threshold MC = 0.85. Threshold MD = 0.6\n",
      "RD = 61 NZ = 87 NZA = 109 pNZ = 0.005% pNZA = 0.006% AD = 70.11% ADA = 55.96% NO = 85 GSP = 62.35% NSP = 55.29%\n",
      "SI2 = 1.25 SI = 0.25 eGROI = 3.29% eROI = 1.33% eROI2 = 1.59% eROI3 = 0.74% mSpread = 0.0230%\n"
     ]
    },
    {
     "name": "stderr",
     "output_type": "stream",
     "text": [
      "100%|████████████████████████████████████████████████████████████████████████████████| 72/72 [00:00<00:00, 1504.06it/s]\n"
     ]
    },
    {
     "name": "stdout",
     "output_type": "stream",
     "text": [
      "Epoch = 9. Time index = 3. Threshold MC = 0.85. Threshold MD = 0.65\n",
      "RD = 42 NZ = 58 NZA = 73 pNZ = 0.003% pNZA = 0.004% AD = 72.41% ADA = 57.53% NO = 61 GSP = 63.93% NSP = 55.74%\n",
      "SI2 = 0.45 SI = 0.45 eGROI = 2.04% eROI = 0.48% eROI2 = 0.82% eROI3 = 0.21% mSpread = 0.0255%\n"
     ]
    },
    {
     "name": "stderr",
     "output_type": "stream",
     "text": [
      "100%|████████████████████████████████████████████████████████████████████████████████| 49/49 [00:00<00:00, 1535.35it/s]\n"
     ]
    },
    {
     "name": "stdout",
     "output_type": "stream",
     "text": [
      "Epoch = 9. Time index = 3. Threshold MC = 0.85. Threshold MD = 0.7\n",
      "RD = 31 NZ = 38 NZA = 50 pNZ = 0.002% pNZA = 0.003% AD = 81.58% ADA = 62.00% NO = 41 GSP = 70.73% NSP = 60.98%\n",
      "SI2 = 2.45 SI = 2.45 eGROI = 1.88% eROI = 0.86% eROI2 = 1.06% eROI3 = 0.65% mSpread = 0.0247%\n"
     ]
    },
    {
     "name": "stderr",
     "output_type": "stream",
     "text": [
      "100%|████████████████████████████████████████████████████████████████████████████████| 18/18 [00:00<00:00, 2255.34it/s]\n"
     ]
    },
    {
     "name": "stdout",
     "output_type": "stream",
     "text": [
      "Epoch = 9. Time index = 3. Threshold MC = 0.85. Threshold MD = 0.75\n",
      "RD = 13 NZ = 14 NZA = 19 pNZ = 0.001% pNZA = 0.001% AD = 92.86% ADA = 68.42% NO = 18 GSP = 83.33% NSP = 66.67%\n",
      "SI2 = 1.10 SI = 2.10 eGROI = 0.81% eROI = 0.22% eROI2 = 0.45% eROI3 = 0.27% mSpread = 0.0327%\n"
     ]
    },
    {
     "name": "stderr",
     "output_type": "stream",
     "text": [
      "100%|██████████████████████████████████████████████████████████████████████████████████| 4/4 [00:00<00:00, 1005.89it/s]\n"
     ]
    },
    {
     "name": "stdout",
     "output_type": "stream",
     "text": [
      "Epoch = 9. Time index = 3. Threshold MC = 0.85. Threshold MD = 0.8\n",
      "RD = 5 NZ = 5 NZA = 5 pNZ = 0.000% pNZA = 0.000% AD = 100.00% ADA = 100.00% NO = 5 GSP = 80.00% NSP = 40.00%\n",
      "SI2 = -0.75 SI = -0.75 eGROI = 0.14% eROI = -0.21% eROI2 = 0.04% eROI3 = -0.01% mSpread = 0.0700%\n"
     ]
    },
    {
     "name": "stderr",
     "output_type": "stream",
     "text": [
      "100%|███████████████████████████████████████████████████████████████████████████████████| 1/1 [00:00<00:00, 501.53it/s]\n"
     ]
    },
    {
     "name": "stdout",
     "output_type": "stream",
     "text": [
      "Epoch = 9. Time index = 3. Threshold MC = 0.85. Threshold MD = 0.85\n",
      "RD = 2 NZ = 2 NZA = 2 pNZ = 0.000% pNZA = 0.000% AD = 100.00% ADA = 100.00% NO = 2 GSP = 50.00% NSP = 50.00%\n",
      "SI2 = -1.10 SI = -0.10 eGROI = 0.06% eROI = -0.15% eROI2 = 0.02% eROI3 = -0.00% mSpread = 0.1027%\n"
     ]
    },
    {
     "name": "stderr",
     "output_type": "stream",
     "text": [
      "0it [00:00, ?it/s]\n"
     ]
    },
    {
     "name": "stdout",
     "output_type": "stream",
     "text": [
      "Epoch = 9. Time index = 3. Threshold MC = 0.85. Threshold MD = 0.9\n",
      "RD = 0 NZ = 0 NZA = 0 pNZ = 0.000% pNZA = 0.000% AD = 0.00% ADA = 0.00% NO = 1 GSP = 0.00% NSP = 0.00%\n",
      "SI2 = -0.55 SI = -0.55 eGROI = 0.00% eROI = 0.00% eROI2 = 0.00% eROI3 = 0.00% mSpread = 0.0000%\n"
     ]
    },
    {
     "name": "stderr",
     "output_type": "stream",
     "text": [
      "0it [00:00, ?it/s]\n"
     ]
    },
    {
     "name": "stdout",
     "output_type": "stream",
     "text": [
      "Epoch = 9. Time index = 3. Threshold MC = 0.85. Threshold MD = 0.95\n",
      "RD = 0 NZ = 0 NZA = 0 pNZ = 0.000% pNZA = 0.000% AD = 0.00% ADA = 0.00% NO = 1 GSP = 0.00% NSP = 0.00%\n",
      "SI2 = -0.55 SI = -0.55 eGROI = 0.00% eROI = 0.00% eROI2 = 0.00% eROI3 = 0.00% mSpread = 0.0000%\n",
      "\n"
     ]
    },
    {
     "name": "stderr",
     "output_type": "stream",
     "text": [
      "100%|███████████████████████████████████████████████████████████████████████████████████| 2/2 [00:00<00:00, 501.35it/s]\n"
     ]
    },
    {
     "name": "stdout",
     "output_type": "stream",
     "text": [
      "Epoch = 9. Time index = 3. Threshold MC = 0.9. Threshold MD = 0.5\n",
      "RD = 3 NZ = 3 NZA = 3 pNZ = 0.000% pNZA = 0.000% AD = 100.00% ADA = 100.00% NO = 3 GSP = 100.00% NSP = 100.00%\n",
      "SI2 = 0.35 SI = 1.35 eGROI = 0.62% eROI = 0.57% eROI2 = 0.56% eROI3 = 0.53% mSpread = 0.0156%\n"
     ]
    },
    {
     "name": "stderr",
     "output_type": "stream",
     "text": [
      "100%|███████████████████████████████████████████████████████████████████████████████████| 1/1 [00:00<00:00, 501.11it/s]\n"
     ]
    },
    {
     "name": "stdout",
     "output_type": "stream",
     "text": [
      "Epoch = 9. Time index = 3. Threshold MC = 0.9. Threshold MD = 0.55\n",
      "RD = 2 NZ = 2 NZA = 2 pNZ = 0.000% pNZA = 0.000% AD = 100.00% ADA = 100.00% NO = 2 GSP = 100.00% NSP = 100.00%\n",
      "SI2 = -0.10 SI = 0.90 eGROI = 0.31% eROI = 0.28% eROI2 = 0.27% eROI3 = 0.25% mSpread = 0.0150%\n"
     ]
    },
    {
     "name": "stderr",
     "output_type": "stream",
     "text": [
      "0it [00:00, ?it/s]\n"
     ]
    },
    {
     "name": "stdout",
     "output_type": "stream",
     "text": [
      "Epoch = 9. Time index = 3. Threshold MC = 0.9. Threshold MD = 0.6\n",
      "RD = 1 NZ = 1 NZA = 1 pNZ = 0.000% pNZA = 0.000% AD = 100.00% ADA = 100.00% NO = 1 GSP = 100.00% NSP = 100.00%\n",
      "SI2 = -0.55 SI = 0.45 eGROI = 0.15% eROI = 0.15% eROI2 = 0.13% eROI3 = 0.12% mSpread = 0.0069%\n"
     ]
    },
    {
     "name": "stderr",
     "output_type": "stream",
     "text": [
      "0it [00:00, ?it/s]\n"
     ]
    },
    {
     "name": "stdout",
     "output_type": "stream",
     "text": [
      "Epoch = 9. Time index = 3. Threshold MC = 0.9. Threshold MD = 0.65\n",
      "RD = 1 NZ = 1 NZA = 1 pNZ = 0.000% pNZA = 0.000% AD = 100.00% ADA = 100.00% NO = 1 GSP = 100.00% NSP = 100.00%\n",
      "SI2 = -0.55 SI = 0.45 eGROI = 0.15% eROI = 0.15% eROI2 = 0.13% eROI3 = 0.12% mSpread = 0.0069%\n"
     ]
    },
    {
     "name": "stderr",
     "output_type": "stream",
     "text": [
      "0it [00:00, ?it/s]\n"
     ]
    },
    {
     "name": "stdout",
     "output_type": "stream",
     "text": [
      "Epoch = 9. Time index = 3. Threshold MC = 0.9. Threshold MD = 0.7\n",
      "RD = 1 NZ = 1 NZA = 1 pNZ = 0.000% pNZA = 0.000% AD = 100.00% ADA = 100.00% NO = 1 GSP = 100.00% NSP = 100.00%\n",
      "SI2 = -0.55 SI = 0.45 eGROI = 0.15% eROI = 0.15% eROI2 = 0.13% eROI3 = 0.12% mSpread = 0.0069%\n"
     ]
    },
    {
     "name": "stderr",
     "output_type": "stream",
     "text": [
      "0it [00:00, ?it/s]\n"
     ]
    },
    {
     "name": "stdout",
     "output_type": "stream",
     "text": [
      "Epoch = 9. Time index = 3. Threshold MC = 0.9. Threshold MD = 0.75\n",
      "RD = 0 NZ = 0 NZA = 0 pNZ = 0.000% pNZA = 0.000% AD = 0.00% ADA = 0.00% NO = 1 GSP = 0.00% NSP = 0.00%\n",
      "SI2 = -0.55 SI = -0.55 eGROI = 0.00% eROI = 0.00% eROI2 = 0.00% eROI3 = 0.00% mSpread = 0.0000%\n"
     ]
    },
    {
     "name": "stderr",
     "output_type": "stream",
     "text": [
      "0it [00:00, ?it/s]\n"
     ]
    },
    {
     "name": "stdout",
     "output_type": "stream",
     "text": [
      "Epoch = 9. Time index = 3. Threshold MC = 0.9. Threshold MD = 0.8\n",
      "RD = 0 NZ = 0 NZA = 0 pNZ = 0.000% pNZA = 0.000% AD = 0.00% ADA = 0.00% NO = 1 GSP = 0.00% NSP = 0.00%\n",
      "SI2 = -0.55 SI = -0.55 eGROI = 0.00% eROI = 0.00% eROI2 = 0.00% eROI3 = 0.00% mSpread = 0.0000%\n"
     ]
    },
    {
     "name": "stderr",
     "output_type": "stream",
     "text": [
      "0it [00:00, ?it/s]\n"
     ]
    },
    {
     "name": "stdout",
     "output_type": "stream",
     "text": [
      "Epoch = 9. Time index = 3. Threshold MC = 0.9. Threshold MD = 0.85\n",
      "RD = 0 NZ = 0 NZA = 0 pNZ = 0.000% pNZA = 0.000% AD = 0.00% ADA = 0.00% NO = 1 GSP = 0.00% NSP = 0.00%\n",
      "SI2 = -0.55 SI = -0.55 eGROI = 0.00% eROI = 0.00% eROI2 = 0.00% eROI3 = 0.00% mSpread = 0.0000%\n"
     ]
    },
    {
     "name": "stderr",
     "output_type": "stream",
     "text": [
      "0it [00:00, ?it/s]\n"
     ]
    },
    {
     "name": "stdout",
     "output_type": "stream",
     "text": [
      "Epoch = 9. Time index = 3. Threshold MC = 0.9. Threshold MD = 0.9\n",
      "RD = 0 NZ = 0 NZA = 0 pNZ = 0.000% pNZA = 0.000% AD = 0.00% ADA = 0.00% NO = 1 GSP = 0.00% NSP = 0.00%\n",
      "SI2 = -0.55 SI = -0.55 eGROI = 0.00% eROI = 0.00% eROI2 = 0.00% eROI3 = 0.00% mSpread = 0.0000%\n"
     ]
    },
    {
     "name": "stderr",
     "output_type": "stream",
     "text": [
      "0it [00:00, ?it/s]\n"
     ]
    },
    {
     "name": "stdout",
     "output_type": "stream",
     "text": [
      "Epoch = 9. Time index = 3. Threshold MC = 0.9. Threshold MD = 0.95\n",
      "RD = 0 NZ = 0 NZA = 0 pNZ = 0.000% pNZA = 0.000% AD = 0.00% ADA = 0.00% NO = 1 GSP = 0.00% NSP = 0.00%\n",
      "SI2 = -0.55 SI = -0.55 eGROI = 0.00% eROI = 0.00% eROI2 = 0.00% eROI3 = 0.00% mSpread = 0.0000%\n",
      "\n"
     ]
    },
    {
     "name": "stderr",
     "output_type": "stream",
     "text": [
      "0it [00:00, ?it/s]\n"
     ]
    },
    {
     "name": "stdout",
     "output_type": "stream",
     "text": [
      "Epoch = 9. Time index = 3. Threshold MC = 0.95. Threshold MD = 0.5\n",
      "RD = 0 NZ = 0 NZA = 0 pNZ = 0.000% pNZA = 0.000% AD = 0.00% ADA = 0.00% NO = 1 GSP = 0.00% NSP = 0.00%\n",
      "SI2 = -0.55 SI = -0.55 eGROI = 0.00% eROI = 0.00% eROI2 = 0.00% eROI3 = 0.00% mSpread = 0.0000%\n"
     ]
    },
    {
     "name": "stderr",
     "output_type": "stream",
     "text": [
      "0it [00:00, ?it/s]\n"
     ]
    },
    {
     "name": "stdout",
     "output_type": "stream",
     "text": [
      "Epoch = 9. Time index = 3. Threshold MC = 0.95. Threshold MD = 0.55\n",
      "RD = 0 NZ = 0 NZA = 0 pNZ = 0.000% pNZA = 0.000% AD = 0.00% ADA = 0.00% NO = 1 GSP = 0.00% NSP = 0.00%\n",
      "SI2 = -0.55 SI = -0.55 eGROI = 0.00% eROI = 0.00% eROI2 = 0.00% eROI3 = 0.00% mSpread = 0.0000%\n"
     ]
    },
    {
     "name": "stderr",
     "output_type": "stream",
     "text": [
      "0it [00:00, ?it/s]\n"
     ]
    },
    {
     "name": "stdout",
     "output_type": "stream",
     "text": [
      "Epoch = 9. Time index = 3. Threshold MC = 0.95. Threshold MD = 0.6\n",
      "RD = 0 NZ = 0 NZA = 0 pNZ = 0.000% pNZA = 0.000% AD = 0.00% ADA = 0.00% NO = 1 GSP = 0.00% NSP = 0.00%\n",
      "SI2 = -0.55 SI = -0.55 eGROI = 0.00% eROI = 0.00% eROI2 = 0.00% eROI3 = 0.00% mSpread = 0.0000%\n"
     ]
    },
    {
     "name": "stderr",
     "output_type": "stream",
     "text": [
      "0it [00:00, ?it/s]\n"
     ]
    },
    {
     "name": "stdout",
     "output_type": "stream",
     "text": [
      "Epoch = 9. Time index = 3. Threshold MC = 0.95. Threshold MD = 0.65\n",
      "RD = 0 NZ = 0 NZA = 0 pNZ = 0.000% pNZA = 0.000% AD = 0.00% ADA = 0.00% NO = 1 GSP = 0.00% NSP = 0.00%\n",
      "SI2 = -0.55 SI = -0.55 eGROI = 0.00% eROI = 0.00% eROI2 = 0.00% eROI3 = 0.00% mSpread = 0.0000%\n"
     ]
    },
    {
     "name": "stderr",
     "output_type": "stream",
     "text": [
      "0it [00:00, ?it/s]\n"
     ]
    },
    {
     "name": "stdout",
     "output_type": "stream",
     "text": [
      "Epoch = 9. Time index = 3. Threshold MC = 0.95. Threshold MD = 0.7\n",
      "RD = 0 NZ = 0 NZA = 0 pNZ = 0.000% pNZA = 0.000% AD = 0.00% ADA = 0.00% NO = 1 GSP = 0.00% NSP = 0.00%\n",
      "SI2 = -0.55 SI = -0.55 eGROI = 0.00% eROI = 0.00% eROI2 = 0.00% eROI3 = 0.00% mSpread = 0.0000%\n"
     ]
    },
    {
     "name": "stderr",
     "output_type": "stream",
     "text": [
      "0it [00:00, ?it/s]\n"
     ]
    },
    {
     "name": "stdout",
     "output_type": "stream",
     "text": [
      "Epoch = 9. Time index = 3. Threshold MC = 0.95. Threshold MD = 0.75\n",
      "RD = 0 NZ = 0 NZA = 0 pNZ = 0.000% pNZA = 0.000% AD = 0.00% ADA = 0.00% NO = 1 GSP = 0.00% NSP = 0.00%\n",
      "SI2 = -0.55 SI = -0.55 eGROI = 0.00% eROI = 0.00% eROI2 = 0.00% eROI3 = 0.00% mSpread = 0.0000%\n"
     ]
    },
    {
     "name": "stderr",
     "output_type": "stream",
     "text": [
      "0it [00:00, ?it/s]\n"
     ]
    },
    {
     "name": "stdout",
     "output_type": "stream",
     "text": [
      "Epoch = 9. Time index = 3. Threshold MC = 0.95. Threshold MD = 0.8\n",
      "RD = 0 NZ = 0 NZA = 0 pNZ = 0.000% pNZA = 0.000% AD = 0.00% ADA = 0.00% NO = 1 GSP = 0.00% NSP = 0.00%\n",
      "SI2 = -0.55 SI = -0.55 eGROI = 0.00% eROI = 0.00% eROI2 = 0.00% eROI3 = 0.00% mSpread = 0.0000%\n"
     ]
    },
    {
     "name": "stderr",
     "output_type": "stream",
     "text": [
      "0it [00:00, ?it/s]\n"
     ]
    },
    {
     "name": "stdout",
     "output_type": "stream",
     "text": [
      "Epoch = 9. Time index = 3. Threshold MC = 0.95. Threshold MD = 0.85\n",
      "RD = 0 NZ = 0 NZA = 0 pNZ = 0.000% pNZA = 0.000% AD = 0.00% ADA = 0.00% NO = 1 GSP = 0.00% NSP = 0.00%\n",
      "SI2 = -0.55 SI = -0.55 eGROI = 0.00% eROI = 0.00% eROI2 = 0.00% eROI3 = 0.00% mSpread = 0.0000%\n"
     ]
    },
    {
     "name": "stderr",
     "output_type": "stream",
     "text": [
      "0it [00:00, ?it/s]\n"
     ]
    },
    {
     "name": "stdout",
     "output_type": "stream",
     "text": [
      "Epoch = 9. Time index = 3. Threshold MC = 0.95. Threshold MD = 0.9\n",
      "RD = 0 NZ = 0 NZA = 0 pNZ = 0.000% pNZA = 0.000% AD = 0.00% ADA = 0.00% NO = 1 GSP = 0.00% NSP = 0.00%\n",
      "SI2 = -0.55 SI = -0.55 eGROI = 0.00% eROI = 0.00% eROI2 = 0.00% eROI3 = 0.00% mSpread = 0.0000%\n"
     ]
    },
    {
     "name": "stderr",
     "output_type": "stream",
     "text": [
      "0it [00:00, ?it/s]\n"
     ]
    },
    {
     "name": "stdout",
     "output_type": "stream",
     "text": [
      "Epoch = 9. Time index = 3. Threshold MC = 0.95. Threshold MD = 0.95\n",
      "RD = 0 NZ = 0 NZA = 0 pNZ = 0.000% pNZA = 0.000% AD = 0.00% ADA = 0.00% NO = 1 GSP = 0.00% NSP = 0.00%\n",
      "SI2 = -0.55 SI = -0.55 eGROI = 0.00% eROI = 0.00% eROI2 = 0.00% eROI3 = 0.00% mSpread = 0.0000%\n",
      "\n",
      "Best eGROI = 124.21 t_index 3 thr_mc 0.55 thr_md 0.55 epoch 9\n",
      "Best eROI = 6.37 t_index 3 thr_mc 0.75 thr_md 0.65 epoch 9\n",
      "Best eROI.5 = 64.16 t_index 3 thr_mc 0.5 thr_md 0.65 epoch 9\n",
      "Best eROI1 = 46.73 t_index 3 thr_mc 0.5 thr_md 0.65 epoch 9\n",
      "Best eROI2 = 28.32 t_index 1 thr_mc 0.55 thr_md 0.7 epoch 9\n",
      "Best eROI3 = 13.76 t_index 1 thr_mc 0.55 thr_md 0.7 epoch 9\n",
      "Best eROI4 = 6.62 t_index 1 thr_mc 0.65 thr_md 0.75 epoch 9\n",
      "Best eROI5 = 3.36 t_index 1 thr_mc 0.7 thr_md 0.75 epoch 9\n",
      "Best SI = 33.10 t_index 3 thr_mc 0.65 thr_md 0.75 epoch 9\n",
      "Best SI.5 = 383.70 t_index 3 thr_mc 0.5 thr_md 0.65 epoch 9\n",
      "Best SI1 = 316.45 t_index 1 thr_mc 0.5 thr_md 0.7 epoch 9\n",
      "Best SI2 = 173.20 t_index 1 thr_mc 0.55 thr_md 0.7 epoch 9\n",
      "Best SI3 = 62.00 t_index 0 thr_mc 0.6 thr_md 0.75 epoch 9\n",
      "Best SI4 = 32.10 t_index 3 thr_mc 0.65 thr_md 0.75 epoch 9\n",
      "Best SI5 = 13.00 t_index 1 thr_mc 0.75 thr_md 0.7 epoch 9\n",
      "Time=1170.93 secs\n",
      "\n",
      "The very best:\n",
      "Best eGROI = 124.21 t_index 3 thr_mc 0.55 thr_md 0.55 epoch 9\n",
      "Best eROI = 6.37 t_index 3 thr_mc 0.75 thr_md 0.65 epoch 9\n",
      "Best eROI.5 = 64.16 t_index 3 thr_mc 0.5 thr_md 0.65 epoch 9\n",
      "Best eROI1 = 46.73 t_index 3 thr_mc 0.5 thr_md 0.65 epoch 9\n",
      "Best eROI2 = 28.32 t_index 1 thr_mc 0.55 thr_md 0.7 epoch 9\n",
      "Best eROI3 = 13.76 t_index 1 thr_mc 0.55 thr_md 0.7 epoch 9\n",
      "Best eROI4 = 6.62 t_index 1 thr_mc 0.65 thr_md 0.75 epoch 9\n",
      "Best eROI5 = 3.36 t_index 1 thr_mc 0.7 thr_md 0.75 epoch 9\n",
      "Best SI = 33.10 t_index 3 thr_mc 0.65 thr_md 0.75 epoch 9\n",
      "Best SI.5 = 383.70 t_index 3 thr_mc 0.5 thr_md 0.65 epoch 9\n",
      "Best SI1 = 316.45 t_index 1 thr_mc 0.5 thr_md 0.7 epoch 9\n",
      "Best SI2 = 173.20 t_index 1 thr_mc 0.55 thr_md 0.7 epoch 9\n",
      "Best SI3 = 62.00 t_index 0 thr_mc 0.6 thr_md 0.75 epoch 9\n",
      "Best SI4 = 32.10 t_index 3 thr_mc 0.65 thr_md 0.75 epoch 9\n",
      "Best SI5 = 13.00 t_index 1 thr_mc 0.75 thr_md 0.7 epoch 9\n",
      "Total time for testing: 23.66221939722697 mins.\n",
      "\n"
     ]
    }
   ],
   "source": [
    "# edit config without saving for test purposes\n",
    "from kaissandra.testRNN import test_RNN\n",
    "from kaissandra.config import *\n",
    "config=retrieve_config('C0327INVO')\n",
    "config['IDresults']='100327R20'\n",
    "config['save_journal']=True\n",
    "config['startFrom']=9\n",
    "config['endAt']=9\n",
    "resolution = 20\n",
    "config['resolution'] = resolution\n",
    "config['thresholds_mc'] = [.5+i/resolution for i in range(int(resolution/2))]\n",
    "config['thresholds_md'] = [.5+i/resolution for i in range(int(resolution/2))]\n",
    "\n",
    "test_RNN(config)"
   ]
  },
  {
   "cell_type": "code",
   "execution_count": null,
   "metadata": {},
   "outputs": [],
   "source": [
    "configuration({'config_name':'C0318TEST_ONLY_TI0','num_epochs':100,'inverse_load':True,'lB':1300,'miniBatchSize':256,'outputGain':1,'IO_results_name':'C0318INVO'})"
   ]
  },
  {
   "cell_type": "code",
   "execution_count": 141,
   "metadata": {},
   "outputs": [
    {
     "name": "stdout",
     "output_type": "stream",
     "text": [
      "../../RNN/results/100318INVO/journal/J_E15TI1MC0.7MD0.7.csv\n",
      "../../RNN/results/100318R20/journal/J_E29TI0MC0.5MD0.75.csv\n"
     ]
    }
   ],
   "source": [
    "import pandas as pd\n",
    "from kaissandra.results2 import get_extended_results\n",
    "\n",
    "list_results_names = ['100318INVO']+['100318R20']\n",
    "results_dir  = '../../RNN/results/'\n",
    "ext = '.csv'\n",
    "list_epochs = [15]+[29]\n",
    "list_tis = [1]+[0]\n",
    "list_mcs = [.7]+[.5]\n",
    "list_mds = [.7]+[.75]\n",
    "Journal = pd.DataFrame()\n",
    "for l,name in enumerate(list_results_names):\n",
    "    journal_filename = results_dir+name+'/journal/J_E'+str(list_epochs[l])+'TI'+str(list_tis[l])+'MC'+str(list_mcs[l])+'MD'+str(list_mds[l])+ext\n",
    "    Journal = Journal.append(pd.read_csv(journal_filename,sep='\\t')).sort_values(by=['Asset','DTi']).reset_index().drop(labels='level_0',axis=1)\n",
    "    print(journal_filename)\n",
    "#res_ext, log = get_extended_results(Journal,\n",
    "#                                    5,\n",
    "#                                    n_days, resultsDir, IDresults,\n",
    "#                                    epoch, t_index, thr_mc, thr_md,\n",
    "#                                    get_positions=False,pNZA=1)"
   ]
  },
  {
   "cell_type": "code",
   "execution_count": 80,
   "metadata": {},
   "outputs": [
    {
     "name": "stdout",
     "output_type": "stream",
     "text": [
      "../../RNN/results/100327R20/journal/J_E9TI1MC0.5MD0.7.csv\n"
     ]
    }
   ],
   "source": [
    "import pandas as pd\n",
    "from kaissandra.results2 import get_extended_results\n",
    "\n",
    "results_dir  = '../../RNN/results/'\n",
    "ext = '.csv'\n",
    "list_results_names = ['100327R20']#+['100327R20']#['100326R20']+\n",
    "list_epochs = [9]#+[9]#[51]+#[9]+\n",
    "list_tis = [1]#+[1]#+[1]+\n",
    "list_mcs = [.5]#+[.5]#[.5]#+\n",
    "list_mds = [.7]#+[.7]#[.8]#+\n",
    "Journal = pd.DataFrame()\n",
    "for l,name in enumerate(list_results_names):\n",
    "    journal_filename = results_dir+name+'/journal/J_E'+str(list_epochs[l])+'TI'+str(list_tis[l])+'MC'+str(list_mcs[l])+'MD'+str(list_mds[l])+ext\n",
    "    Journal = Journal.append(pd.read_csv(journal_filename,sep='\\t')).sort_values(by=['Asset','DTi']).reset_index().drop(labels='level_0',axis=1)\n",
    "    print(journal_filename)\n",
    "#res_ext, log = get_extended_results(Journal,\n",
    "#                                    5,\n",
    "#                                    n_days, resultsDir, IDresults,\n",
    "#                                    epoch, t_index, thr_mc, thr_md,\n",
    "#                                    get_positions=False,pNZA=1)"
   ]
  },
  {
   "cell_type": "code",
   "execution_count": 145,
   "metadata": {},
   "outputs": [
    {
     "name": "stdout",
     "output_type": "stream",
     "text": [
      "shape\n",
      "3751\n"
     ]
    },
    {
     "name": "stderr",
     "output_type": "stream",
     "text": [
      "100%|████████████████████████████████████████████████████████████████████████████| 3750/3750 [00:00<00:00, 3760.01it/s]\n"
     ]
    },
    {
     "name": "stdout",
     "output_type": "stream",
     "text": [
      "count_dif_dir\n",
      "550\n"
     ]
    },
    {
     "data": {
      "text/plain": [
       "{'GSP': 11.367380560131796,\n",
       " 'NO': 1821,\n",
       " 'NOl1': 1672.0,\n",
       " 'NOl2': 149.0,\n",
       " 'NSP': 6.534870950027457,\n",
       " 'NSP.5': 10.653487095002747,\n",
       " 'NSP1': 10.159253157605711,\n",
       " 'NSP2': 8.786381109280615,\n",
       " 'NSP3': 7.468423942888523,\n",
       " 'NSP4': 5.7111477210323995,\n",
       " 'NSP5': 4.99725425590335,\n",
       " 'SI': -882.5500000000001,\n",
       " 'SI.5': -807.5500000000001,\n",
       " 'SI1': -816.5500000000002,\n",
       " 'SI2': -841.5500000000001,\n",
       " 'SI3': -865.5500000000001,\n",
       " 'SI4': -897.5500000000001,\n",
       " 'SI5': -910.5500000000001,\n",
       " 'eGROI': 8.199046244859325,\n",
       " 'eGl1': 5.802589359562008,\n",
       " 'eGl2': 2.3964568852973165,\n",
       " 'eROI': -2.862251351497281,\n",
       " 'eROI.5': -0.9059537551406319,\n",
       " 'eROI1': -10.01095375514096,\n",
       " 'eROI2': -28.220953755140847,\n",
       " 'eROI3': -46.43095375514209,\n",
       " 'eROI4': -64.64095375514015,\n",
       " 'eROI5': -82.85095375513689,\n",
       " 'eRl1': -4.176119711183863,\n",
       " 'eRl2': 1.3138683596865812,\n",
       " 'mSpread': 0.006074298515297417,\n",
       " 'sharpe': -1.7700466209054584}"
      ]
     },
     "execution_count": 145,
     "metadata": {},
     "output_type": "execute_result"
    }
   ],
   "source": [
    "print(\"shape\")\n",
    "print(Journal.shape[0])\n",
    "#print(Journal)\n",
    "n_days = 33*5+1\n",
    "pos_dirname = '../../RNN/results/MERGED/positions/'\n",
    "pos_filename = '_'.join([entry for entry in list_results_names])+'.csv'\n",
    "res_ext, log = get_extended_results(Journal,\n",
    "                                    5,\n",
    "                                    n_days,\n",
    "                                   get_positions=True,pos_dirname=pos_dirname,\n",
    "                                   pos_filename=pos_filename)\n",
    "res_ext\n"
   ]
  },
  {
   "cell_type": "code",
   "execution_count": 128,
   "metadata": {},
   "outputs": [
    {
     "data": {
      "text/plain": [
       "0.8407468423942889"
      ]
     },
     "execution_count": 128,
     "metadata": {},
     "output_type": "execute_result"
    }
   ],
   "source": [
    "(981+550)/1821"
   ]
  },
  {
   "cell_type": "code",
   "execution_count": 131,
   "metadata": {},
   "outputs": [
    {
     "name": "stdout",
     "output_type": "stream",
     "text": [
      "mean GROI\n",
      "0.03504689730917066\n",
      "mean_spread\n",
      "2.282341977309561\n",
      "Number of pos under 0.04\n",
      "1234\n",
      "per under pip_limit\n",
      "67.76496430532674\n",
      "total gross success rate\n",
      "78.85777045579351\n",
      "gross success rate\n",
      "79.57860615883307\n",
      "total success rate\n",
      "48.98407468423943\n",
      "success rate\n",
      "60.85899513776337\n",
      "GROI for positions under 0.04\n",
      "46.12610000000001\n",
      "ROI for positions under 0.04\n",
      "17.9623\n",
      "positions['GROI'].sum()-pip_limit*positions['GROI'].shape[0]\n",
      "-9.019599999999997\n",
      "# Assets\n",
      "21\n"
     ]
    }
   ],
   "source": [
    "positions = pd.read_csv(pos_dirname+pos_filename,sep='\\t')\n",
    "#print(positions)\n",
    "pip_limit = 0.04\n",
    "pos_under_2p = positions['spread']<pip_limit\n",
    "per_under_2p = 100*sum(pos_under_2p)/positions.shape[0]\n",
    "tgsr = 100*sum(positions['GROI']>0)/positions.shape[0]\n",
    "gsr = 100*sum(positions[pos_under_2p]['GROI']>0)/sum(pos_under_2p)\n",
    "tsr = 100*sum(positions['ROI']>0)/positions.shape[0]\n",
    "sr = 100*sum(positions[pos_under_2p]['ROI']>0)/sum(pos_under_2p)\n",
    "mean_spread = 100*positions[pos_under_2p]['spread'].mean()\n",
    "print(\"mean GROI\")\n",
    "print(positions['GROI'].mean())\n",
    "print(\"mean_spread\")\n",
    "print(mean_spread)\n",
    "print(\"Number of pos under \"+str(pip_limit))\n",
    "print(positions[pos_under_2p].shape[0])\n",
    "print(\"per under pip_limit\")\n",
    "print(per_under_2p)\n",
    "print(\"total gross success rate\")\n",
    "print(tgsr)\n",
    "print(\"gross success rate\")\n",
    "print(gsr)\n",
    "print(\"total success rate\")\n",
    "print(tsr)\n",
    "print(\"success rate\")\n",
    "print(sr)\n",
    "print(\"GROI for positions under \"+str(pip_limit))\n",
    "print(positions[pos_under_2p]['GROI'].sum())\n",
    "print(\"ROI for positions under \"+str(pip_limit))\n",
    "print(positions[pos_under_2p]['ROI'].sum())\n",
    "print(\"positions['GROI'].sum()-pip_limit*positions['GROI'].shape[0]\")\n",
    "print(positions['GROI'].sum()-pip_limit*positions['GROI'].shape[0])\n",
    "print(\"# Assets\")\n",
    "print(positions['Asset'][pos_under_2p].unique().shape[0])"
   ]
  },
  {
   "cell_type": "code",
   "execution_count": 87,
   "metadata": {},
   "outputs": [
    {
     "name": "stdout",
     "output_type": "stream",
     "text": [
      "1      -0.0602\n",
      "3       0.0566\n",
      "5       0.0576\n",
      "6      -0.0525\n",
      "8      -0.0173\n",
      "9       0.0857\n",
      "11     -0.0194\n",
      "12     -0.0543\n",
      "13     -0.0184\n",
      "15     -0.0419\n",
      "16     -0.0543\n",
      "20     -0.0186\n",
      "21     -0.1775\n",
      "22     -0.0382\n",
      "23     -0.0489\n",
      "24      0.0249\n",
      "25      0.0187\n",
      "27      0.0208\n",
      "28      0.1247\n",
      "29     -0.1144\n",
      "30      0.0195\n",
      "31     -0.0316\n",
      "33      0.0184\n",
      "34     -0.0897\n",
      "35      0.0133\n",
      "36     -0.0485\n",
      "38     -0.0429\n",
      "39     -0.0275\n",
      "40     -0.0928\n",
      "41      0.0153\n",
      "         ...  \n",
      "1788    0.0253\n",
      "1791   -0.0081\n",
      "1792   -0.2050\n",
      "1793   -0.0027\n",
      "1794   -0.0180\n",
      "1795   -0.0144\n",
      "1796   -0.1498\n",
      "1797   -0.0662\n",
      "1798    0.0136\n",
      "1799    0.0136\n",
      "1800   -0.0009\n",
      "1801    0.0322\n",
      "1803    0.0108\n",
      "1804    0.0657\n",
      "1805    0.0081\n",
      "1806    0.0214\n",
      "1807    0.0000\n",
      "1808    0.0268\n",
      "1809    0.0018\n",
      "1810   -0.0178\n",
      "1811    0.0133\n",
      "1812    0.0000\n",
      "1813    0.0177\n",
      "1814   -0.0870\n",
      "1815    0.0114\n",
      "1816    0.0176\n",
      "1817    0.0035\n",
      "1818    0.0000\n",
      "1819    0.0230\n",
      "1820    0.0247\n",
      "Name: ROI, Length: 1234, dtype: float64\n",
      "(1821,)\n"
     ]
    },
    {
     "data": {
      "image/png": "[encoded data removed]",
      "text/plain": [
       "<Figure size 432x288 with 1 Axes>"
      ]
     },
     "metadata": {},
     "output_type": "display_data"
    },
    {
     "data": {
      "image/png": "[encoded data removed]",
      "text/plain": [
       "<Figure size 432x288 with 1 Axes>"
      ]
     },
     "metadata": {},
     "output_type": "display_data"
    }
   ],
   "source": [
    "import matplotlib.pyplot as plt\n",
    "\n",
    "plt.figure(0)\n",
    "bins = [i/100 for i in range(-50,50)]\n",
    "histG = plt.hist(positions[pos_under_2p]['GROI'], bins=bins)\n",
    "histR = plt.hist(positions[pos_under_2p]['ROI'], bins=bins)\n",
    "plt.grid()\n",
    "\n",
    "pos_under_thr = positions[pos_under_2p]\n",
    "#pos_under_thr.index = range(pos_under_thr.shape[0])\n",
    "plt.figure(1)\n",
    "plt.plot(pos_under_thr['GROI'].cumsum())\n",
    "plt.plot(pos_under_thr['ROI'].cumsum())\n",
    "plt.grid()\n",
    "\n",
    "#plt.figure(2)\n",
    "print(pos_under_thr['ROI'])\n",
    "print(positions['GROI'].shape)\n",
    "cumG = plt.plot(positions['GROI'].cumsum())#, bins=bins\n",
    "cumR = plt.plot(positions['ROI'].cumsum())"
   ]
  },
  {
   "cell_type": "code",
   "execution_count": 88,
   "metadata": {},
   "outputs": [
    {
     "name": "stdout",
     "output_type": "stream",
     "text": [
      "Di\n",
      "10    0.0486\n",
      "11   -0.9671\n",
      "12   -0.4274\n",
      "13    0.1411\n",
      "14   -0.7410\n",
      "15   -1.4512\n",
      "16   -0.1664\n",
      "17   -0.5035\n",
      "18   -0.4264\n",
      "19   -0.6718\n",
      "20   -0.7685\n",
      "21   -0.3158\n",
      "22   -0.3616\n",
      "23   -0.4756\n",
      "24    0.0223\n",
      "25   -1.7248\n",
      "26   -1.0246\n",
      "27   -0.8950\n",
      "28    0.1050\n",
      "31   -0.4747\n",
      "32   -0.5380\n",
      "33   -0.1127\n",
      "34   -1.0603\n",
      "35   -1.0886\n",
      "36   -2.0557\n",
      "37   -0.2720\n",
      "38   -0.4421\n",
      "39   -0.4600\n",
      "40   -0.2627\n",
      "41   -0.8606\n",
      "42   -0.2974\n",
      "43   -1.0045\n",
      "44   -0.4514\n",
      "45   -0.0174\n",
      "Name: ROI, dtype: float64\n",
      "Di\n",
      "10    0.1209\n",
      "11   -0.3255\n",
      "12    0.0689\n",
      "13    0.8630\n",
      "14   -0.0396\n",
      "15   -0.4412\n",
      "16    0.5124\n",
      "17    0.2353\n",
      "18    0.4645\n",
      "19    0.3067\n",
      "20    0.4264\n",
      "21    0.3674\n",
      "22    0.4424\n",
      "23    0.3688\n",
      "24    0.7648\n",
      "25   -0.5953\n",
      "26   -0.2343\n",
      "27   -0.1654\n",
      "28    0.8094\n",
      "31    0.3193\n",
      "32    0.3637\n",
      "33    0.5536\n",
      "34   -0.0282\n",
      "35   -0.1990\n",
      "36   -0.8839\n",
      "37    0.9138\n",
      "38    0.6230\n",
      "39    0.4748\n",
      "40    0.5901\n",
      "41    0.0485\n",
      "42    0.7417\n",
      "43   -0.1769\n",
      "44    0.1813\n",
      "45    0.6917\n",
      "Name: GROI, dtype: float64\n",
      "Di\n",
      "10     3\n",
      "11    26\n",
      "12    20\n",
      "13    31\n",
      "14    28\n",
      "15    39\n",
      "16    31\n",
      "17    32\n",
      "18    34\n",
      "19    39\n",
      "20    47\n",
      "21    28\n",
      "22    39\n",
      "23    53\n",
      "24    35\n",
      "25    61\n",
      "26    53\n",
      "27    40\n",
      "28    34\n",
      "31    29\n",
      "32    37\n",
      "33    28\n",
      "34    39\n",
      "35    35\n",
      "36    44\n",
      "37    48\n",
      "38    43\n",
      "39    38\n",
      "40    40\n",
      "41    39\n",
      "42    44\n",
      "43    35\n",
      "44    28\n",
      "45    34\n",
      "Name: ROI, dtype: int64\n",
      "10\n",
      "446    -0.0157\n",
      "1105    0.0286\n",
      "1613    0.0357\n",
      "11\n",
      "118    -0.0334\n",
      "342     0.0121\n",
      "343     0.0153\n",
      "558    -0.0376\n",
      "559    -0.0829\n",
      "652    -0.0485\n",
      "736    -0.0861\n",
      "817    -0.2452\n",
      "818    -0.0834\n",
      "819     0.0154\n",
      "820     0.0384\n",
      "940    -0.0016\n",
      "941     0.0315\n",
      "986    -0.0816\n",
      "988    -0.0102\n",
      "989    -0.0168\n",
      "1106   -0.0442\n",
      "1224    0.0106\n",
      "1225   -0.0543\n",
      "1530   -0.0741\n",
      "1531   -0.1703\n",
      "1532    0.0755\n",
      "1614    0.0100\n",
      "1672   -0.0620\n",
      "1673   -0.0635\n",
      "1764    0.0198\n",
      "12\n",
      "120    -0.0777\n",
      "344    -0.0031\n",
      "345    -0.0844\n",
      "447    -0.0820\n",
      "737    -0.0161\n",
      "821    -0.1533\n",
      "822     0.1872\n",
      "990    -0.0560\n",
      "991     0.0502\n",
      "992     0.0382\n",
      "1226   -0.0502\n",
      "1227   -0.0112\n",
      "1360   -0.0426\n",
      "1449    0.0361\n",
      "1450    0.0298\n",
      "1533   -0.0442\n",
      "1674    0.0714\n",
      "1675   -0.0399\n",
      "1676   -0.1919\n",
      "1765    0.0123\n",
      "13\n",
      "1      -0.0602\n",
      "3       0.0566\n",
      "5       0.0576\n",
      "6      -0.0525\n",
      "121     0.1849\n",
      "346    -0.0393\n",
      "348    -0.0362\n",
      "349    -0.0699\n",
      "449    -0.0019\n",
      "560    -0.0393\n",
      "653    -0.0652\n",
      "654    -0.0446\n",
      "655    -0.0456\n",
      "738     0.1894\n",
      "823    -0.0275\n",
      "824    -0.1148\n",
      "942     0.0032\n",
      "993     0.0060\n",
      "1361    0.1589\n",
      "1362    0.0379\n",
      "1534    0.0939\n",
      "1553    0.0953\n",
      "1615   -0.0799\n",
      "1616   -0.0093\n",
      "1617    0.0163\n",
      "1618    0.0054\n",
      "1619    0.0039\n",
      "1677   -0.0370\n",
      "1678   -0.0804\n",
      "1679   -0.0296\n",
      "1766    0.0650\n",
      "14\n",
      "8      -0.0173\n",
      "351    -0.0402\n",
      "452    -0.0768\n",
      "453    -0.0277\n",
      "563    -0.0017\n",
      "657    -0.0445\n",
      "658    -0.0195\n",
      "739    -0.0283\n",
      "740    -0.0053\n",
      "826     0.0006\n",
      "827    -0.0315\n",
      "828    -0.0748\n",
      "943    -0.0690\n",
      "995     0.0691\n",
      "1111   -0.0403\n",
      "1113   -0.1034\n",
      "1236   -0.0569\n",
      "1237   -0.0615\n",
      "1363    0.1409\n",
      "1365    0.0087\n",
      "1451    0.0014\n",
      "1535    0.0630\n",
      "1620    0.0008\n",
      "1621   -0.0101\n",
      "1681   -0.0605\n",
      "1682   -0.0458\n",
      "1683   -0.1422\n",
      "1767   -0.0682\n",
      "15\n",
      "9       0.0857\n",
      "11     -0.0194\n",
      "12     -0.0543\n",
      "352    -0.0713\n",
      "353    -0.0487\n",
      "354    -0.0765\n",
      "356    -0.1688\n",
      "454    -0.0179\n",
      "456     0.0019\n",
      "457    -0.0379\n",
      "459    -0.0026\n",
      "564    -0.0603\n",
      "565    -0.0509\n",
      "566    -0.0279\n",
      "567    -0.0598\n",
      "659    -0.0975\n",
      "661    -0.0092\n",
      "741    -0.0350\n",
      "742    -0.0121\n",
      "743    -0.0544\n",
      "829    -0.0841\n",
      "830    -0.0280\n",
      "831    -0.0821\n",
      "832    -0.1034\n",
      "944    -0.1148\n",
      "997    -0.0583\n",
      "998    -0.0219\n",
      "999    -0.0561\n",
      "1114    0.0539\n",
      "1116   -0.0661\n",
      "1452    0.0185\n",
      "1536    0.0030\n",
      "1537    0.0150\n",
      "1555   -0.0399\n",
      "1556    0.0557\n",
      "1622   -0.0476\n",
      "1684    0.0396\n",
      "1685   -0.0533\n",
      "1686   -0.0644\n",
      "16\n",
      "13     -0.0184\n",
      "357    -0.0257\n",
      "460    -0.0470\n",
      "461    -0.0230\n",
      "462    -0.0205\n",
      "568     0.0227\n",
      "569    -0.0525\n",
      "662    -0.0416\n",
      "663    -0.0116\n",
      "664    -0.0503\n",
      "833     0.0626\n",
      "834    -0.0660\n",
      "836     0.0385\n",
      "837    -0.0065\n",
      "945     0.0154\n",
      "946     0.0437\n",
      "1001   -0.0033\n",
      "1117    0.0206\n",
      "1118   -0.0557\n",
      "1453   -0.0688\n",
      "1454    0.0028\n",
      "1538   -0.1733\n",
      "1539    0.1367\n",
      "1540   -0.0520\n",
      "1557    0.1120\n",
      "1623    0.0468\n",
      "1624   -0.0325\n",
      "1625   -0.0111\n",
      "1687    0.1112\n",
      "1688   -0.0052\n",
      "1689   -0.0144\n",
      "17\n",
      "15     -0.0419\n",
      "16     -0.0543\n",
      "127    -0.0109\n",
      "359     0.0031\n",
      "360    -0.0031\n",
      "463    -0.0147\n",
      "464    -0.0610\n",
      "465     0.0636\n",
      "571    -0.0410\n",
      "572    -0.0644\n",
      "665    -0.0171\n",
      "666    -0.0504\n",
      "746    -0.0300\n",
      "747    -0.0511\n",
      "838     0.0112\n",
      "839     0.0337\n",
      "840     0.0122\n",
      "947    -0.0065\n",
      "1003   -0.0169\n",
      "1004   -0.0407\n",
      "1120   -0.0251\n",
      "1121    0.0335\n",
      "1122   -0.0184\n",
      "1367   -0.0322\n",
      "1455   -0.0179\n",
      "1456   -0.0093\n",
      "1457    0.0309\n",
      "1541   -0.1670\n",
      "1542    0.0639\n",
      "1543    0.0439\n",
      "1558   -0.0225\n",
      "1626   -0.0031\n",
      "18\n",
      "20     -0.0186\n",
      "129    -0.0036\n",
      "361     0.0094\n",
      "363    -0.0288\n",
      "364    -0.0402\n",
      "466    -0.0703\n",
      "467    -0.0045\n",
      "468    -0.0149\n",
      "573    -0.0509\n",
      "574    -0.0150\n",
      "575    -0.0259\n",
      "576    -0.0702\n",
      "577     0.0268\n",
      "667    -0.0340\n",
      "668     0.0340\n",
      "748     0.0439\n",
      "749    -0.0038\n",
      "841    -0.0151\n",
      "842     0.0292\n",
      "843     0.0181\n",
      "844    -0.0369\n",
      "845    -0.0522\n",
      "1007    0.0153\n",
      "1008   -0.0599\n",
      "1009    0.0390\n",
      "1123   -0.0646\n",
      "1124   -0.0063\n",
      "1458   -0.0283\n",
      "1459    0.0584\n",
      "1544    0.0287\n",
      "1545    0.0328\n",
      "1546    0.0106\n",
      "1691   -0.0545\n",
      "1692   -0.0741\n",
      "19\n",
      "21     -0.1775\n",
      "22     -0.0382\n",
      "23     -0.0489\n",
      "130    -0.0464\n",
      "365     0.0340\n",
      "366     0.0195\n",
      "368    -0.0126\n",
      "469    -0.0358\n",
      "470    -0.0079\n",
      "578    -0.0518\n",
      "579    -0.0503\n",
      "580    -0.0627\n",
      "669    -0.0284\n",
      "750    -0.0230\n",
      "751     0.0278\n",
      "752    -0.0454\n",
      "846    -0.0876\n",
      "847    -0.0070\n",
      "848     0.1055\n",
      "849     0.0351\n",
      "948    -0.0393\n",
      "1010    0.0127\n",
      "1125    0.0248\n",
      "1255   -0.0169\n",
      "1369   -0.0264\n",
      "1547    0.0890\n",
      "1548    0.0556\n",
      "1549    0.1290\n",
      "1559    0.0328\n",
      "1627   -0.0187\n",
      "1628   -0.0381\n",
      "1693   -0.0830\n",
      "1694   -0.0090\n",
      "1695   -0.0559\n",
      "1696   -0.0378\n",
      "1697   -0.1086\n",
      "1768   -0.0100\n",
      "1769   -0.0183\n",
      "1770   -0.0521\n",
      "20\n",
      "24      0.0249\n",
      "25      0.0187\n",
      "27      0.0208\n",
      "28      0.1247\n",
      "133    -0.0916\n",
      "369    -0.0429\n",
      "370    -0.0643\n",
      "371    -0.0662\n",
      "372     0.0389\n",
      "471    -0.0321\n",
      "472     0.0007\n",
      "473    -0.0550\n",
      "581    -0.0285\n",
      "582    -0.1189\n",
      "583    -0.0355\n",
      "584    -0.0795\n",
      "670    -0.0091\n",
      "671    -0.0318\n",
      "673    -0.0137\n",
      "674    -0.0115\n",
      "753     0.0406\n",
      "754    -0.0269\n",
      "850     0.0181\n",
      "851    -0.0325\n",
      "852    -0.0122\n",
      "853     0.0380\n",
      "854     0.0338\n",
      "949     0.0243\n",
      "950     0.0302\n",
      "1012   -0.0084\n",
      "1013   -0.0261\n",
      "1015   -0.0161\n",
      "1126   -0.0265\n",
      "1128   -0.0144\n",
      "1370   -0.0088\n",
      "1560    0.0761\n",
      "1561    0.0174\n",
      "1629   -0.0970\n",
      "1630   -0.0148\n",
      "1631   -0.0435\n",
      "1632   -0.0618\n",
      "1698   -0.0630\n",
      "1699   -0.0480\n",
      "1700   -0.0210\n",
      "1701   -0.0639\n",
      "1702   -0.0709\n",
      "1771    0.0607\n",
      "21\n",
      "29     -0.1144\n",
      "30      0.0195\n",
      "373    -0.1290\n",
      "374    -0.0174\n",
      "475    -0.0633\n",
      "476     0.0510\n",
      "585    -0.0573\n",
      "586    -0.0843\n",
      "675     0.0103\n",
      "676     0.0046\n",
      "755    -0.0336\n",
      "756    -0.0061\n",
      "757     0.0078\n",
      "855     0.2874\n",
      "856    -0.1006\n",
      "951    -0.0527\n",
      "952     0.2764\n",
      "1016   -0.0452\n",
      "1129   -0.0225\n",
      "1133   -0.0580\n",
      "1461   -0.0253\n",
      "1463    0.0172\n",
      "1550   -0.0449\n",
      "1551    0.0920\n",
      "1633    0.0645\n",
      "1704   -0.0653\n",
      "1705   -0.1008\n",
      "1772   -0.1258\n",
      "22\n",
      "31     -0.0316\n",
      "33      0.0184\n",
      "34     -0.0897\n",
      "206    -0.1976\n",
      "269     0.0896\n",
      "377    -0.0240\n",
      "378     0.0226\n",
      "478    -0.0086\n",
      "479     0.0433\n",
      "481     0.0079\n",
      "588     0.1171\n",
      "760     0.0590\n",
      "859    -0.0681\n",
      "861    -0.0204\n",
      "862     0.0642\n",
      "863     0.0371\n",
      "953     0.0198\n",
      "954     0.0139\n",
      "955     0.0369\n",
      "1019   -0.0289\n",
      "1137   -0.0990\n",
      "1138   -0.0610\n",
      "1375   -0.0937\n",
      "1377    0.0574\n",
      "1465   -0.0489\n",
      "1552   -0.0608\n",
      "1562   -0.0493\n",
      "1563   -0.0143\n",
      "1634    0.0301\n",
      "1635   -0.0315\n",
      "1636    0.0807\n",
      "1637    0.0502\n",
      "1638   -0.1189\n",
      "1706   -0.0976\n",
      "1707   -0.0586\n",
      "1708    0.0416\n",
      "1709    0.0445\n",
      "1773   -0.0375\n",
      "1774    0.0441\n",
      "23\n",
      "35      0.0133\n",
      "36     -0.0485\n",
      "138     0.0253\n",
      "139     0.0607\n",
      "141     0.0225\n",
      "270    -0.0090\n",
      "379    -0.0275\n",
      "380    -0.0611\n",
      "381     0.0339\n",
      "482    -0.0582\n",
      "483    -0.0733\n",
      "484    -0.1099\n",
      "485     0.4517\n",
      "589    -0.0851\n",
      "590     0.0843\n",
      "592    -0.0198\n",
      "681    -0.0319\n",
      "682     0.0549\n",
      "761     0.0384\n",
      "762    -0.0187\n",
      "763    -0.0148\n",
      "865    -0.0851\n",
      "866     0.0167\n",
      "867     0.0643\n",
      "956    -0.0222\n",
      "957     0.0017\n",
      "1022   -0.0723\n",
      "1024    0.0023\n",
      "1139   -0.0843\n",
      "1140   -0.0186\n",
      "1141   -0.0150\n",
      "1142   -0.2066\n",
      "1143   -0.0459\n",
      "1274   -0.0627\n",
      "1276    0.0363\n",
      "1379    0.0103\n",
      "1380   -0.1189\n",
      "1467   -0.0786\n",
      "1468   -0.0500\n",
      "1469    0.0000\n",
      "1564   -0.0759\n",
      "1639   -0.0486\n",
      "1640   -0.0882\n",
      "1641    0.1112\n",
      "1642    0.0224\n",
      "1710   -0.0091\n",
      "1711   -0.0872\n",
      "1712    0.0439\n",
      "1713    0.1418\n",
      "1775    0.0037\n",
      "1776    0.0273\n",
      "1777   -0.0273\n",
      "1778    0.0118\n",
      "24\n",
      "38     -0.0429\n",
      "143     0.0813\n",
      "145    -0.0231\n",
      "276    -0.0063\n",
      "383     0.0064\n",
      "384    -0.0398\n",
      "486     0.0137\n",
      "487     0.0046\n",
      "488    -0.0327\n",
      "764    -0.0062\n",
      "765    -0.0401\n",
      "869     0.0412\n",
      "870     0.0808\n",
      "958     0.0130\n",
      "1025    0.0102\n",
      "1027    0.0000\n",
      "1028   -0.0006\n",
      "1029   -0.0963\n",
      "1144   -0.0466\n",
      "1145    0.0225\n",
      "1146    0.0610\n",
      "1277   -0.0182\n",
      "1278   -0.0629\n",
      "1382    0.0340\n",
      "1383   -0.0469\n",
      "1384    0.0334\n",
      "1565    0.1124\n",
      "1566   -0.0402\n",
      "1714    0.0132\n",
      "1715    0.1055\n",
      "1716   -0.1086\n",
      "1779   -0.0311\n",
      "1780   -0.0136\n",
      "1781    0.0127\n",
      "1782    0.0325\n",
      "25\n",
      "39     -0.0275\n",
      "40     -0.0928\n",
      "41      0.0153\n",
      "42     -0.0509\n",
      "43      0.1473\n",
      "146     0.0012\n",
      "277     0.0423\n",
      "278    -0.1523\n",
      "282     0.0494\n",
      "385    -0.0834\n",
      "386    -0.0307\n",
      "387    -0.0827\n",
      "388     0.0032\n",
      "389     0.0657\n",
      "490     0.0006\n",
      "491     0.0019\n",
      "492    -0.0162\n",
      "493     0.0849\n",
      "595    -0.1327\n",
      "596    -0.1282\n",
      "597    -0.1033\n",
      "685     0.0034\n",
      "686    -0.0421\n",
      "687     0.0308\n",
      "766    -0.0047\n",
      "767    -0.0093\n",
      "768    -0.1480\n",
      "769    -0.0485\n",
      "770    -0.0313\n",
      "872    -0.0310\n",
      "873    -0.1297\n",
      "874    -0.0308\n",
      "875     0.1156\n",
      "959     0.0155\n",
      "960    -0.0173\n",
      "961    -0.0733\n",
      "1031   -0.0185\n",
      "1032    0.0684\n",
      "1033    0.0498\n",
      "1034   -0.0189\n",
      "1148    0.0160\n",
      "1149   -0.0177\n",
      "1150   -0.0154\n",
      "1280   -0.0409\n",
      "1281    0.0129\n",
      "1282   -0.0412\n",
      "1283   -0.1385\n",
      "1387   -0.0034\n",
      "1388   -0.2535\n",
      "1472    0.0061\n",
      "1473   -0.0833\n",
      "1474   -0.0008\n",
      "1567   -0.0014\n",
      "1568   -0.3380\n",
      "1569   -0.1172\n",
      "1570    0.0160\n",
      "1643    0.1057\n",
      "1717   -0.0412\n",
      "1718   -0.0010\n",
      "1783    0.0090\n",
      "1784    0.0118\n",
      "26\n",
      "44     -0.0293\n",
      "45      0.0355\n",
      "46     -0.0705\n",
      "47     -0.1292\n",
      "148    -0.0159\n",
      "149     0.1019\n",
      "150    -0.0025\n",
      "151    -0.0640\n",
      "284    -0.0280\n",
      "285     0.0773\n",
      "390    -0.0272\n",
      "391    -0.0019\n",
      "393    -0.0464\n",
      "494     0.0252\n",
      "495    -0.0109\n",
      "496     0.0168\n",
      "497     0.0797\n",
      "498    -0.0293\n",
      "499    -0.0448\n",
      "500    -0.0519\n",
      "599    -0.0797\n",
      "601    -0.0849\n",
      "688    -0.0430\n",
      "771     0.0328\n",
      "772    -0.0070\n",
      "773     0.0179\n",
      "774     0.0124\n",
      "876    -0.0506\n",
      "877     0.0259\n",
      "879     0.0053\n",
      "962     0.1539\n",
      "963     0.0850\n",
      "1037   -0.0843\n",
      "1038   -0.0839\n",
      "1151   -0.0396\n",
      "1152   -0.0954\n",
      "1153    0.1119\n",
      "1154   -0.0421\n",
      "1285   -0.0343\n",
      "1286   -0.0458\n",
      "1289   -0.0252\n",
      "1391   -0.0494\n",
      "1392   -0.1118\n",
      "1395   -0.0021\n",
      "1476   -0.0069\n",
      "1571   -0.0841\n",
      "1572   -0.0088\n",
      "1644   -0.0794\n",
      "1719    0.0061\n",
      "1720   -0.1722\n",
      "1785    0.0300\n",
      "1786   -0.0182\n",
      "1787   -0.0417\n",
      "27\n",
      "49     -0.0527\n",
      "50      0.0402\n",
      "51     -0.0196\n",
      "52     -0.0340\n",
      "287     0.0063\n",
      "395    -0.0057\n",
      "396    -0.0196\n",
      "397     0.0335\n",
      "502    -0.1061\n",
      "503     0.0430\n",
      "603    -0.1062\n",
      "604    -0.0912\n",
      "689    -0.0102\n",
      "776    -0.1620\n",
      "777     0.0101\n",
      "965     0.0172\n",
      "1042    0.0078\n",
      "1045   -0.1304\n",
      "1047   -0.0246\n",
      "1157   -0.0444\n",
      "1158   -0.0023\n",
      "1160   -0.0500\n",
      "1161   -0.0017\n",
      "1295   -0.0328\n",
      "1296   -0.1313\n",
      "1299   -0.0160\n",
      "1398   -0.0192\n",
      "1477   -0.0068\n",
      "1479    0.0129\n",
      "1480   -0.0152\n",
      "1482    0.0393\n",
      "1573    0.0414\n",
      "1574    0.1207\n",
      "1645    0.0410\n",
      "1646    0.0221\n",
      "1722   -0.1197\n",
      "1723   -0.1400\n",
      "1724   -0.0060\n",
      "1788    0.0253\n",
      "1791   -0.0081\n",
      "28\n",
      "54     -0.0451\n",
      "55     -0.0678\n",
      "398     0.0228\n",
      "399     0.0108\n",
      "505     0.0065\n",
      "506     0.0513\n",
      "507    -0.0072\n",
      "608    -0.1390\n",
      "691     0.0192\n",
      "692    -0.0034\n",
      "780     0.0424\n",
      "781     0.3716\n",
      "883    -0.0826\n",
      "884     0.0874\n",
      "885     0.0075\n",
      "1048   -0.0608\n",
      "1049    0.0186\n",
      "1051    0.0000\n",
      "1162   -0.0821\n",
      "1164    0.0006\n",
      "1300   -0.0995\n",
      "1302   -0.0431\n",
      "1303    0.0371\n",
      "1400    0.3518\n",
      "1401   -0.0081\n",
      "1483    0.0023\n",
      "1484    0.0060\n",
      "1485   -0.1265\n",
      "1577    0.0192\n",
      "1647    0.0153\n",
      "1648    0.1831\n",
      "1727   -0.0839\n",
      "1729   -0.0944\n",
      "1792   -0.2050\n",
      "31\n",
      "57      0.0083\n",
      "58      0.0445\n",
      "156     0.0389\n",
      "208    -0.1024\n",
      "400     0.0127\n",
      "401    -0.0253\n",
      "402    -0.0013\n",
      "609    -0.0121\n",
      "693    -0.0438\n",
      "694    -0.0135\n",
      "695    -0.0101\n",
      "696    -0.0461\n",
      "783    -0.0092\n",
      "887     0.0279\n",
      "966    -0.0257\n",
      "1053   -0.1021\n",
      "1165    0.0012\n",
      "1166   -0.0018\n",
      "1402   -0.0131\n",
      "1403   -0.0171\n",
      "1404    0.0048\n",
      "1486   -0.0008\n",
      "1487   -0.0328\n",
      "1578    0.0322\n",
      "1579   -0.0646\n",
      "1580   -0.0401\n",
      "1730   -0.0675\n",
      "1731   -0.0131\n",
      "1793   -0.0027\n",
      "32\n",
      "59     -0.0541\n",
      "157    -0.0328\n",
      "158     0.0159\n",
      "404    -0.0838\n",
      "405     0.0076\n",
      "406     0.0288\n",
      "508     0.0060\n",
      "509    -0.0767\n",
      "610    -0.1086\n",
      "611    -0.0433\n",
      "613    -0.0563\n",
      "614    -0.0463\n",
      "697    -0.0302\n",
      "698     0.0100\n",
      "785    -0.0155\n",
      "786     0.0202\n",
      "787    -0.0186\n",
      "788     0.2269\n",
      "888    -0.0006\n",
      "889    -0.0598\n",
      "890     0.0814\n",
      "891    -0.1081\n",
      "967    -0.0198\n",
      "1054    0.0205\n",
      "1057    0.0196\n",
      "1167    0.1367\n",
      "1168   -0.0368\n",
      "1405   -0.0159\n",
      "1488   -0.0543\n",
      "1581   -0.0534\n",
      "1582   -0.0594\n",
      "1649   -0.0438\n",
      "1732    0.0583\n",
      "1733   -0.0973\n",
      "1735   -0.0221\n",
      "1794   -0.0180\n",
      "1795   -0.0144\n",
      "33\n",
      "61     -0.0366\n",
      "407    -0.0274\n",
      "409    -0.0581\n",
      "510    -0.0287\n",
      "511    -0.0791\n",
      "512    -0.0228\n",
      "514    -0.0555\n",
      "615    -0.0247\n",
      "616    -0.0222\n",
      "617    -0.0665\n",
      "700     0.0381\n",
      "789     0.0643\n",
      "790     0.0080\n",
      "791    -0.0119\n",
      "792    -0.0237\n",
      "892     0.0081\n",
      "895     0.0081\n",
      "968     0.0421\n",
      "969    -0.0247\n",
      "1407   -0.0517\n",
      "1489    0.0110\n",
      "1491   -0.0291\n",
      "1583    0.0000\n",
      "1584    0.1449\n",
      "1650    0.0761\n",
      "1651    0.0182\n",
      "1736   -0.0473\n",
      "1737    0.0784\n",
      "34\n",
      "62     -0.0618\n",
      "63     -0.0460\n",
      "64     -0.1332\n",
      "67      0.0199\n",
      "160     0.0210\n",
      "411     0.0626\n",
      "412    -0.0388\n",
      "414    -0.0709\n",
      "515    -0.0208\n",
      "516    -0.0340\n",
      "517    -0.0252\n",
      "519    -0.0119\n",
      "520     0.0364\n",
      "618    -0.1061\n",
      "619    -0.0333\n",
      "620    -0.0676\n",
      "703    -0.0189\n",
      "705    -0.0255\n",
      "898     0.0323\n",
      "899     0.1075\n",
      "1060   -0.0103\n",
      "1061   -0.0447\n",
      "1064   -0.0407\n",
      "1172   -0.0330\n",
      "1173   -0.0006\n",
      "1175   -0.0077\n",
      "1176   -0.0340\n",
      "1177   -0.0805\n",
      "1411   -0.0397\n",
      "1413    0.0161\n",
      "1493   -0.0758\n",
      "1585   -0.0149\n",
      "1652   -0.0276\n",
      "1738   -0.0629\n",
      "1796   -0.1498\n",
      "1797   -0.0662\n",
      "1798    0.0136\n",
      "1799    0.0136\n",
      "1800   -0.0009\n",
      "35\n",
      "68     -0.0367\n",
      "214     0.0314\n",
      "415    -0.0346\n",
      "416    -0.0368\n",
      "417    -0.0666\n",
      "521    -0.0040\n",
      "522    -0.0357\n",
      "523    -0.0304\n",
      "621    -0.0227\n",
      "622    -0.0420\n",
      "623    -0.2138\n",
      "706    -0.0201\n",
      "793     0.0200\n",
      "794     0.0061\n",
      "900    -0.0120\n",
      "901    -0.0367\n",
      "970    -0.0223\n",
      "1065    0.0354\n",
      "1066   -0.0960\n",
      "1178   -0.0473\n",
      "1179   -0.1217\n",
      "1180   -0.0006\n",
      "1181   -0.0155\n",
      "1414    0.0340\n",
      "1415   -0.0305\n",
      "1495    0.0031\n",
      "1496    0.0138\n",
      "1497   -0.0100\n",
      "1587   -0.0447\n",
      "1588   -0.1501\n",
      "1653   -0.0062\n",
      "1654   -0.0285\n",
      "1739    0.0215\n",
      "1740   -0.1206\n",
      "1801    0.0322\n",
      "36\n",
      "71     -0.0894\n",
      "72     -0.1302\n",
      "73     -0.0950\n",
      "74     -0.0717\n",
      "75     -0.0063\n",
      "168     0.0435\n",
      "217    -0.2581\n",
      "418     0.0112\n",
      "525     0.0197\n",
      "526     0.0085\n",
      "624    -0.0924\n",
      "625    -0.0753\n",
      "626    -0.0610\n",
      "707    -0.0233\n",
      "708    -0.0503\n",
      "795    -0.0202\n",
      "798     0.0170\n",
      "902    -0.0451\n",
      "903    -0.0335\n",
      "905    -0.0617\n",
      "906    -0.0266\n",
      "907    -0.0533\n",
      "971    -0.0017\n",
      "972     0.0009\n",
      "973     0.0104\n",
      "1069   -0.1215\n",
      "1070   -0.0189\n",
      "1186   -0.0914\n",
      "1187    0.0976\n",
      "1326   -0.0814\n",
      "1327   -0.1024\n",
      "1416    0.0676\n",
      "1417   -0.0699\n",
      "1418   -0.0377\n",
      "1419   -0.0700\n",
      "1498    0.0108\n",
      "1499   -0.2178\n",
      "1589    0.0167\n",
      "1590    0.0333\n",
      "1591   -0.1744\n",
      "1741   -0.0299\n",
      "1743   -0.0708\n",
      "1744   -0.1225\n",
      "1803    0.0108\n",
      "37\n",
      "76      0.1154\n",
      "77     -0.0641\n",
      "79      0.0258\n",
      "80      0.0514\n",
      "81     -0.0214\n",
      "170     0.0938\n",
      "172    -0.0075\n",
      "218    -0.0189\n",
      "419    -0.0423\n",
      "527     0.0546\n",
      "528    -0.0341\n",
      "529     0.0007\n",
      "531    -0.0066\n",
      "627     0.0161\n",
      "628     0.0027\n",
      "629     0.0009\n",
      "630    -0.0354\n",
      "709     0.0641\n",
      "710    -0.0146\n",
      "799     0.0179\n",
      "800    -0.0241\n",
      "908     0.0305\n",
      "909    -0.0247\n",
      "910    -0.0028\n",
      "974     0.0145\n",
      "1071   -0.0302\n",
      "1072   -0.0420\n",
      "1188   -0.0501\n",
      "1189   -0.0424\n",
      "1190   -0.0528\n",
      "1421    0.0104\n",
      "1422   -0.0880\n",
      "1424   -0.0599\n",
      "1425   -0.1228\n",
      "1426   -0.0723\n",
      "1427   -0.0204\n",
      "1500   -0.0622\n",
      "1501   -0.0746\n",
      "1502   -0.0383\n",
      "1592   -0.0245\n",
      "1593    0.1369\n",
      "1745   -0.0206\n",
      "1746    0.0679\n",
      "1804    0.0657\n",
      "1805    0.0081\n",
      "1806    0.0214\n",
      "1807    0.0000\n",
      "1808    0.0268\n",
      "38\n",
      "82     -0.1404\n",
      "83     -0.0267\n",
      "84     -0.1176\n",
      "86     -0.1009\n",
      "87      0.0340\n",
      "173    -0.1170\n",
      "174    -0.0357\n",
      "176     0.1795\n",
      "421    -0.0289\n",
      "532    -0.0243\n",
      "631     0.0036\n",
      "711    -0.0764\n",
      "712     0.0529\n",
      "713    -0.0822\n",
      "802    -0.0355\n",
      "803     0.0893\n",
      "912     0.0997\n",
      "913    -0.1037\n",
      "914    -0.0750\n",
      "916    -0.0432\n",
      "975     0.0437\n",
      "976    -0.0009\n",
      "977     0.0111\n",
      "1074   -0.0311\n",
      "1077    0.1582\n",
      "1191   -0.0035\n",
      "1193    0.0012\n",
      "1332   -0.1438\n",
      "1428   -0.0048\n",
      "1429   -0.0162\n",
      "1430   -0.0719\n",
      "1503    0.0213\n",
      "1504   -0.0623\n",
      "1505   -0.0228\n",
      "1506    0.0060\n",
      "1594   -0.0855\n",
      "1595    0.0365\n",
      "1596    0.3296\n",
      "1597    0.0299\n",
      "1747   -0.0589\n",
      "1748   -0.0134\n",
      "1809    0.0018\n",
      "1810   -0.0178\n",
      "39\n",
      "88      0.0245\n",
      "89     -0.0373\n",
      "90     -0.0734\n",
      "91      0.1742\n",
      "92      0.0804\n",
      "179     0.1060\n",
      "423     0.0092\n",
      "425    -0.0254\n",
      "533    -0.0204\n",
      "534    -0.0302\n",
      "535    -0.0603\n",
      "536     0.1530\n",
      "537    -0.0870\n",
      "714    -0.0245\n",
      "716    -0.0775\n",
      "804    -0.0258\n",
      "918     0.0147\n",
      "919    -0.1706\n",
      "920    -0.1173\n",
      "1080   -0.0562\n",
      "1081    0.0061\n",
      "1194   -0.0107\n",
      "1195    0.0353\n",
      "1198   -0.0926\n",
      "1432   -0.0162\n",
      "1434   -0.0641\n",
      "1507   -0.0488\n",
      "1509   -0.0531\n",
      "1598    0.0509\n",
      "1599    0.0196\n",
      "1655   -0.0039\n",
      "1656    0.0517\n",
      "1657   -0.0291\n",
      "1749   -0.0052\n",
      "1811    0.0133\n",
      "1812    0.0000\n",
      "1813    0.0177\n",
      "1814   -0.0870\n",
      "40\n",
      "181     0.0012\n",
      "182    -0.0111\n",
      "324    -0.1104\n",
      "326     0.1230\n",
      "426     0.0230\n",
      "427    -0.0192\n",
      "428    -0.0461\n",
      "538     0.0155\n",
      "539     0.0874\n",
      "635    -0.0140\n",
      "636     0.1178\n",
      "717    -0.0707\n",
      "718     0.0023\n",
      "719    -0.0067\n",
      "720     0.0575\n",
      "721    -0.0237\n",
      "806     0.0000\n",
      "807     0.0030\n",
      "978    -0.0551\n",
      "979     0.0601\n",
      "1082   -0.0543\n",
      "1083   -0.0172\n",
      "1084   -0.0918\n",
      "1199   -0.0603\n",
      "1200    0.2042\n",
      "1201   -0.0018\n",
      "1202   -0.0434\n",
      "1203   -0.0238\n",
      "1342   -0.0125\n",
      "1436   -0.0278\n",
      "1437   -0.0468\n",
      "1439   -0.0512\n",
      "1510    0.0100\n",
      "1511   -0.1203\n",
      "1512    0.0023\n",
      "1658   -0.1260\n",
      "1659    0.0311\n",
      "1750    0.0041\n",
      "1815    0.0114\n",
      "1816    0.0176\n",
      "41\n",
      "223     0.0337\n",
      "329    -0.0711\n",
      "330    -0.0759\n",
      "429    -0.0496\n",
      "430     0.0684\n",
      "431    -0.0568\n",
      "432     0.0624\n",
      "433     0.0092\n",
      "540     0.0275\n",
      "541    -0.0698\n",
      "542     0.0444\n",
      "637    -0.0263\n",
      "638    -0.0237\n",
      "722    -0.0774\n",
      "723     0.0389\n",
      "724     0.0263\n",
      "725    -0.0605\n",
      "809     0.0208\n",
      "927    -0.1745\n",
      "980     0.0573\n",
      "981     0.0035\n",
      "1085   -0.0022\n",
      "1086    0.0730\n",
      "1087   -0.0281\n",
      "1088    0.1182\n",
      "1089   -0.1221\n",
      "1204    0.0418\n",
      "1205   -0.0901\n",
      "1206    0.0517\n",
      "1207   -0.4685\n",
      "1346   -0.0675\n",
      "1441   -0.0310\n",
      "1513   -0.0008\n",
      "1514    0.0091\n",
      "1515    0.0568\n",
      "1516   -0.0091\n",
      "1660   -0.0617\n",
      "1751   -0.0404\n",
      "1817    0.0035\n",
      "42\n",
      "184    -0.0852\n",
      "331     0.0239\n",
      "332    -0.0512\n",
      "333    -0.0397\n",
      "434    -0.0720\n",
      "435    -0.0074\n",
      "436     0.0229\n",
      "543     0.0705\n",
      "545    -0.0060\n",
      "639     0.0218\n",
      "640    -0.0324\n",
      "641    -0.0453\n",
      "642    -0.0096\n",
      "643     0.0079\n",
      "726    -0.0420\n",
      "727    -0.0443\n",
      "728     0.0125\n",
      "810    -0.0201\n",
      "811    -0.0286\n",
      "812    -0.0366\n",
      "982     0.0208\n",
      "1090   -0.1063\n",
      "1091   -0.0840\n",
      "1092   -0.0666\n",
      "1093    0.1552\n",
      "1094    0.1936\n",
      "1209   -0.0492\n",
      "1210   -0.0591\n",
      "1211   -0.0346\n",
      "1212    0.2754\n",
      "1349   -0.0577\n",
      "1350   -0.0605\n",
      "1442    0.0511\n",
      "1443   -0.0082\n",
      "1444    0.0047\n",
      "1517   -0.0389\n",
      "1518    0.0342\n",
      "1519   -0.0326\n",
      "1520   -0.0328\n",
      "1661    0.0100\n",
      "1662   -0.0237\n",
      "1752   -0.0081\n",
      "1753   -0.0192\n",
      "1818    0.0000\n",
      "43\n",
      "226    -0.1094\n",
      "335    -0.0132\n",
      "336    -0.0097\n",
      "337    -0.0800\n",
      "437    -0.0173\n",
      "438     0.0513\n",
      "439     0.0117\n",
      "440    -0.0470\n",
      "546    -0.0060\n",
      "547    -0.0202\n",
      "645    -0.0630\n",
      "646    -0.0762\n",
      "647    -0.1107\n",
      "729    -0.0418\n",
      "730    -0.0136\n",
      "731    -0.0554\n",
      "1096    0.0213\n",
      "1097    0.0246\n",
      "1213   -0.0666\n",
      "1214   -0.0506\n",
      "1215    0.0141\n",
      "1216   -0.0328\n",
      "1353   -0.0573\n",
      "1354    0.0579\n",
      "1445   -0.0486\n",
      "1446   -0.0582\n",
      "1522   -0.0170\n",
      "1523   -0.0277\n",
      "1524   -0.0163\n",
      "1525    0.0344\n",
      "1526    0.0211\n",
      "1755   -0.0642\n",
      "1756    0.0261\n",
      "1757   -0.0882\n",
      "1758   -0.0760\n",
      "44\n",
      "338    -0.1434\n",
      "339    -0.2238\n",
      "441    -0.0565\n",
      "442     0.0543\n",
      "548     0.0100\n",
      "549    -0.0174\n",
      "550     0.0175\n",
      "551     0.0860\n",
      "552    -0.0435\n",
      "732    -0.0101\n",
      "814    -0.1112\n",
      "983    -0.0492\n",
      "984    -0.0324\n",
      "1098   -0.0260\n",
      "1099   -0.0083\n",
      "1100   -0.0438\n",
      "1217    0.0220\n",
      "1218   -0.0684\n",
      "1219    0.0024\n",
      "1220    0.0411\n",
      "1355   -0.0642\n",
      "1527    0.2462\n",
      "1663   -0.0922\n",
      "1664    0.0328\n",
      "1665    0.0616\n",
      "1759   -0.0080\n",
      "1760   -0.0159\n",
      "1761   -0.0110\n",
      "45\n",
      "341    -0.0239\n",
      "444    -0.0038\n",
      "445    -0.0184\n",
      "554    -0.0402\n",
      "555     0.0201\n",
      "556    -0.0147\n",
      "649     0.0297\n",
      "650    -0.0402\n",
      "651    -0.0140\n",
      "733    -0.0274\n",
      "734    -0.0355\n",
      "735    -0.0218\n",
      "815    -0.0109\n",
      "985    -0.0079\n",
      "1101    0.1360\n",
      "1102   -0.0839\n",
      "1104   -0.1338\n",
      "1222    0.0244\n",
      "1223   -0.0262\n",
      "1356    0.1038\n",
      "1358    0.0319\n",
      "1447    0.1029\n",
      "1528   -0.1140\n",
      "1529    0.0382\n",
      "1666    0.0145\n",
      "1667    0.0343\n",
      "1668   -0.0053\n",
      "1669    0.0602\n",
      "1670   -0.0061\n",
      "1671    0.0418\n",
      "1762   -0.0529\n",
      "1763   -0.0220\n",
      "1819    0.0230\n",
      "1820    0.0247\n"
     ]
    },
    {
     "data": {
      "image/png": "[encoded data removed]",
      "text/plain": [
       "<Figure size 432x288 with 1 Axes>"
      ]
     },
     "metadata": {},
     "output_type": "display_data"
    },
    {
     "data": {
      "image/png": "[encoded data removed]",
      "text/plain": [
       "<Figure size 432x288 with 1 Axes>"
      ]
     },
     "metadata": {},
     "output_type": "display_data"
    }
   ],
   "source": [
    "#positions\n",
    "#grouped = pos_format.groupby(['asset'])\n",
    "weekly_group = positions[pos_under_2p].groupby([pd.to_datetime(positions[pos_under_2p]['Di']).dt.strftime('%W')])['ROI']\n",
    "weekly_sum = weekly_group.sum()\n",
    "weekly_count = weekly_group.count()\n",
    "#weekly_sum.cumsum()\n",
    "plt.figure(0)\n",
    "plt.plot(weekly_sum.cumsum())\n",
    "plt.grid()\n",
    "print(weekly_sum)\n",
    "print(positions[pos_under_2p].groupby([pd.to_datetime(positions[pos_under_2p]['Di']).dt.strftime('%W')])['GROI'].sum())\n",
    "print(weekly_count)\n",
    "plt.figure(1)\n",
    "plt.grid()\n",
    "plt.hist(weekly_count, bins=range(0,max(weekly_count),5))\n",
    "\n",
    "#for name, group in weekly_group:\n",
    "#    print(name)\n",
    "#    print(group.to_string())\n",
    "#pd.to_datetime(positions['Di']).dt.strftime('%W')\n",
    "#pd.to_datetime(positions['Di'])#.groupby('Name').resample('W-Mon', on='Date').sum().reset_index().sort_values(by='Date')"
   ]
  },
  {
   "cell_type": "code",
   "execution_count": 212,
   "metadata": {},
   "outputs": [
    {
     "data": {
      "text/plain": [
       "-5.5287999999999995"
      ]
     },
     "execution_count": 212,
     "metadata": {},
     "output_type": "execute_result"
    }
   ],
   "source": [
    "positions[positions['ROI']<-.2]['ROI'].sum()"
   ]
  },
  {
   "cell_type": "code",
   "execution_count": 91,
   "metadata": {},
   "outputs": [
    {
     "data": {
      "text/plain": [
       "-0.5216"
      ]
     },
     "execution_count": 91,
     "metadata": {},
     "output_type": "execute_result"
    }
   ],
   "source": [
    "positions['GROI'].min()"
   ]
  },
  {
   "cell_type": "code",
   "execution_count": 144,
   "metadata": {},
   "outputs": [
    {
     "name": "stdout",
     "output_type": "stream",
     "text": [
      "0.035496947809999325\n"
     ]
    },
    {
     "data": {
      "text/plain": [
       "[<matplotlib.lines.Line2D at 0x1d66e347dd8>]"
      ]
     },
     "execution_count": 144,
     "metadata": {},
     "output_type": "execute_result"
    },
    {
     "data": {
      "image/png": "[encoded data removed]",
      "text/plain": [
       "<Figure size 432x288 with 1 Axes>"
      ]
     },
     "metadata": {},
     "output_type": "display_data"
    }
   ],
   "source": [
    "abs_B = (positions['Bo']-positions['Ao'])\n",
    "abs_A = (positions['Bi']-positions['Ai'])\n",
    "dif = 100*abs(abs_A-abs_B)/positions['Ai']\n",
    "print(np.mean(dif))\n",
    "plt.plot(dif)"
   ]
  },
  {
   "cell_type": "code",
   "execution_count": null,
   "metadata": {},
   "outputs": [],
   "source": []
  }
 ],
 "metadata": {
  "kernelspec": {
   "display_name": "Python 3",
   "language": "python",
   "name": "python3"
  },
  "language_info": {
   "codemirror_mode": {
    "name": "ipython",
    "version": 3
   },
   "file_extension": ".py",
   "mimetype": "text/x-python",
   "name": "python",
   "nbconvert_exporter": "python",
   "pygments_lexer": "ipython3",
   "version": "3.5.5"
  }
 },
 "nbformat": 4,
 "nbformat_minor": 2
}
