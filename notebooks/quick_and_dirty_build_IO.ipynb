{
 "cells": [
  {
   "cell_type": "code",
   "execution_count": 2,
   "metadata": {},
   "outputs": [
    {
     "name": "stdout",
     "output_type": "stream",
     "text": [
      "C:\\Users\\mgutierrez\\root\\Projects\\SDC\\py\\kaissandra\\ added to python path\n"
     ]
    }
   ],
   "source": [
    "import sys\n",
    "import os\n",
    "\n",
    "this_path = os.getcwd()\n",
    "path = '\\\\'.join(this_path.split('\\\\')[:-1])+'\\\\'\n",
    "if path not in sys.path:\n",
    "    sys.path.insert(0, path)\n",
    "    print(path+\" added to python path\")\n",
    "else:\n",
    "    print(path+\" already in python path\")\n",
    "\n",
    "%load_ext autoreload\n",
    "%autoreload 2"
   ]
  },
  {
   "cell_type": "code",
   "execution_count": null,
   "metadata": {},
   "outputs": [],
   "source": [
    "# Train/Test RNN\n",
    "import h5py\n",
    "import numpy as np\n",
    "import pickle\n",
    "from inputs import Data, load_separators, _build_bin_output, build_IO_from_var, build_DTA_from_var\n",
    "from RNN import modelRNN\n",
    "from features import get_init_end_dates, get_group_name\n",
    "\n",
    "dateTest = ([                                                       '2018.03.09',\n",
    "                '2018.03.12','2018.03.13','2018.03.14','2018.03.15','2018.03.16',\n",
    "                '2018.03.19','2018.03.20','2018.03.21','2018.03.22','2018.03.23',\n",
    "                '2018.03.26','2018.03.27','2018.03.28','2018.03.29','2018.03.30',\n",
    "                '2018.04.02','2018.04.03','2018.04.04','2018.04.05','2018.04.06',\n",
    "                '2018.04.09','2018.04.10','2018.04.11','2018.04.12','2018.04.13',\n",
    "                '2018.04.16','2018.04.17','2018.04.18','2018.04.19','2018.04.20',\n",
    "                '2018.04.23','2018.04.24','2018.04.25','2018.04.26','2018.04.27',\n",
    "                '2018.04.30','2018.05.01','2018.05.02','2018.05.03','2018.05.04',\n",
    "                '2018.05.07','2018.05.08','2018.05.09','2018.05.10','2018.05.11',\n",
    "                '2018.05.14','2018.05.15','2018.05.16','2018.05.17','2018.05.18',\n",
    "                '2018.05.21','2018.05.22','2018.05.23','2018.05.24','2018.05.25',\n",
    "                '2018.05.28','2018.05.29','2018.05.30','2018.05.31','2018.06.01',\n",
    "                '2018.06.04','2018.06.05','2018.06.06','2018.06.07','2018.06.08',\n",
    "                '2018.06.11','2018.06.12','2018.06.13','2018.06.14','2018.06.15',\n",
    "                '2018.06.18','2018.06.19','2018.06.20','2018.06.21','2018.06.22',\n",
    "                '2018.06.25','2018.06.26','2018.06.27','2018.06.28','2018.06.29',\n",
    "                '2018.07.02','2018.07.03','2018.07.04','2018.07.05','2018.07.06',\n",
    "                '2018.07.09','2018.07.10','2018.07.11','2018.07.12','2018.07.13',\n",
    "                '2018.07.30','2018.07.31','2018.08.01','2018.08.02','2018.08.03',\n",
    "                '2018.08.06','2018.08.07','2018.08.08','2018.08.09','2018.08.10']+\n",
    "               ['2018.08.13','2018.08.14','2018.08.15','2018.08.16','2018.08.17',\n",
    "                '2018.08.20','2018.08.21','2018.08.22','2018.08.23','2018.08.24',\n",
    "                '2018.08.27','2018.08.28','2018.08.29','2018.08.30','2018.08.31',\n",
    "                '2018.09.03','2018.09.04','2018.09.05','2018.09.06','2018.09.07',\n",
    "                '2018.09.10','2018.09.11','2018.09.12','2018.09.13','2018.09.14',\n",
    "                '2018.09.17','2018.09.18','2018.09.19','2018.09.20','2018.09.21',\n",
    "                '2018.09.24','2018.09.25','2018.09.26','2018.09.27']+['2018.09.28',\n",
    "                '2018.10.01','2018.10.02','2018.10.03','2018.10.04','2018.10.05',\n",
    "                '2018.10.08','2018.10.09','2018.10.10','2018.10.11','2018.10.12',\n",
    "                '2018.10.15','2018.10.16','2018.10.17','2018.10.18','2018.10.19',\n",
    "                '2018.10.22','2018.10.23','2018.10.24','2018.10.25','2018.10.26',\n",
    "                '2018.10.29','2018.10.30','2018.10.31','2018.11.01','2018.11.02',\n",
    "                '2018.11.05','2018.11.06','2018.11.07','2018.11.08','2018.11.09'])\n",
    "\n",
    "data=Data(movingWindow=100,\n",
    "          nEventsPerStat=1000,\n",
    "          lB=1300, \n",
    "          dateTest=dateTest,\n",
    "          assets=[1,2,3,4,7,8,10,11,12,13,14,15,16,17,19,27,28,29,30,31,32],\n",
    "          channels=[0],\n",
    "          max_var=10,\n",
    "          feature_keys_manual=[],\n",
    "          feature_keys_tsfresh=[],#[i for i in range(37,48)]+[49,50]+[i for i in range(52,68)],\n",
    "          var_feat_keys=[i for i in range(68,93)])\n",
    "\n",
    "model=modelRNN(data,\n",
    "               size_hidden_layer=100,\n",
    "               L=3,\n",
    "               size_output_layer=5,\n",
    "               keep_prob_dropout=1,\n",
    "               miniBatchSize=32,\n",
    "               outputGain=.6,\n",
    "               commonY=3,\n",
    "               lR0=0.0001,\n",
    "               num_epochs=20)\n",
    "\n",
    "tOt = 'tr' # tr->train te->test\n",
    "if tOt == 'tr':\n",
    "    calculate_roi = False\n",
    "else:\n",
    "    calculate_roi = True\n",
    "if_build_IO = False\n",
    "from_stats_file = False\n",
    "\n",
    "IDweights = '000400'\n",
    "IDresults = '100400'\n",
    "IO_results_name = IDresults\n",
    "hdf5_directory = 'D:/SDC/py/HDF5/'\n",
    "feats_var_directory = hdf5_directory+'feats_var/'\n",
    "IO_directory = '../RNN/IO/'\n",
    "if tOt=='tr':\n",
    "    filename_IO = IO_directory+'IO_'+IDweights+'.hdf5'\n",
    "else:\n",
    "    filename_IO = IO_directory+'IO_'+IO_results_name+'.hdf5'\n",
    "separators_directory = hdf5_directory+'separators/'\n",
    "\n",
    "# if IO structures have to be built \n",
    "if if_build_IO:\n",
    "    # init dictionary containing IO structures\n",
    "    IO = {}\n",
    "    # open IO file for writting\n",
    "    f_IO = h5py.File(filename_IO,'w')\n",
    "    # init IO data sets\n",
    "    X = f_IO.create_dataset('X',\n",
    "                            (0, model.seq_len, model.nFeatures), \n",
    "                            maxshape=(None,model.seq_len, model.nFeatures), \n",
    "                            dtype=float)\n",
    "    Y = f_IO.create_dataset('Y',\n",
    "                            (0,model.seq_len,model.commonY+model.size_output_layer),\n",
    "                            maxshape=(None,model.seq_len,model.commonY+\n",
    "                            model.size_output_layer),\n",
    "                            dtype=float)\n",
    "    if calculate_roi:\n",
    "        D = f_IO.create_dataset('D', (0,2),\n",
    "                                    maxshape=(None,2),dtype='S19')\n",
    "        B = f_IO.create_dataset('B', (0,2),\n",
    "                                    maxshape=(None,2),dtype=float)\n",
    "        A = f_IO.create_dataset('A', (0,2),\n",
    "                                    maxshape=(None,2),dtype=float)\n",
    "        IO['D'] = D\n",
    "        IO['B'] = B\n",
    "        IO['A'] = A\n",
    "    # attributes to track asset-IO belonging\n",
    "    ass_IO_ass = np.zeros((len(data.assets))).astype(int)\n",
    "    # structure that tracks the number of samples per level\n",
    "    totalSampsPerLevel = np.zeros((model.size_output_layer))\n",
    "    # save IO structures in dictionary\n",
    "    IO['X'] = X\n",
    "    IO['Y'] = Y\n",
    "    IO['pointer'] = 0\n",
    "    \n",
    "for ass_idx, ass in enumerate(data.assets):\n",
    "    thisAsset = data.AllAssets[str(ass)]\n",
    "    print(str(ass)+\" \"+thisAsset)\n",
    "    #thisAsset = 'EURUSD'\n",
    "    # load separators\n",
    "    separators = load_separators(data, \n",
    "                                 thisAsset, \n",
    "                                 separators_directory, \n",
    "                                 tOt='tr', \n",
    "                                 from_txt=1)\n",
    "    aloc = 2**20\n",
    "    # index asset\n",
    "    #ass_idx = 0\n",
    "\n",
    "    filename_features = (feats_var_directory+thisAsset+'_feats_var_mW'+str(data.movingWindow)+'_nE'+\n",
    "                                str(data.nEventsPerStat)+'.hdf5')\n",
    "    file_features = h5py.File(filename_features,'r')\n",
    "    filename_returns = (feats_var_directory+thisAsset+'_rets_var_mW'+str(data.movingWindow)+'_nE'+\n",
    "                                str(data.nEventsPerStat)+'.hdf5')\n",
    "    file_returns = h5py.File(filename_returns,'r')\n",
    "    filename_symbols = (feats_var_directory+thisAsset+'_symbols_mW'+str(data.movingWindow)+'_nE'+\n",
    "                                str(data.nEventsPerStat)+'.hdf5')\n",
    "    file_symbols = h5py.File(filename_symbols,'r')\n",
    "    filename_stats = (feats_var_directory+thisAsset+'_stats_mW'+str(data.movingWindow)+'_nE'+\n",
    "                                    str(data.nEventsPerStat)+'.p')\n",
    "    # init or load total stats\n",
    "    if not from_stats_file:\n",
    "        stats = {}\n",
    "        # load stats in\n",
    "        stats[\"means_in\"] = file_features[thisAsset].attrs.get(\"means_in\")\n",
    "        stats[\"stds_in\"] = file_features[thisAsset].attrs.get(\"stds_in\")\n",
    "        stats[\"m_in\"] = file_features[thisAsset].attrs.get(\"m_in\")\n",
    "        # load stats out\n",
    "        stats[\"means_out\"] = file_returns[thisAsset].attrs.get(\"means_out\")\n",
    "        stats[\"stds_out\"] = file_returns[thisAsset].attrs.get(\"stds_out\")\n",
    "        stats[\"m_out\"] = file_returns[thisAsset].attrs.get(\"m_out\")\n",
    "    elif from_stats_file:\n",
    "        stats = pickle.load( open( filename_stats, \"rb\" ))\n",
    "    print(stats)\n",
    "\n",
    "    nExS = data.nEventsPerStat\n",
    "    mW = data.movingWindow\n",
    "    if if_build_IO:\n",
    "        for s in range(0,len(separators)-1,2):#\n",
    "            print(\"\\ts {0:d} of {1:d}\".format(int(s/2),int(len(separators)/2-1))+\n",
    "                  \". From \"+separators.DateTime.iloc[s]+\" to \"+\n",
    "                  separators.DateTime.iloc[s+1])\n",
    "\n",
    "            # number of events within this separator chunk\n",
    "            nE = separators.index[s+1]-separators.index[s]+1\n",
    "            # get first day after separator\n",
    "            day_s = separators.DateTime.iloc[s][0:10]\n",
    "            # check if number of events is not enough to build two features and one return\n",
    "            if nE-nExS>=2*nExS:\n",
    "                if (tOt == 'tr' and (day_s not in data.dateTest and day_s<=data.dateTest[-1])) or \\\n",
    "                    (tOt == 'te' and (day_s in data.dateTest and day_s<=data.dateTest[-1])):\n",
    "                    # init and end dates\n",
    "                    init_date, end_date = get_init_end_dates(separators, s)\n",
    "                    #print(\"init_date\")\n",
    "                    #print(init_date)\n",
    "                    #print(\"end_date\")\n",
    "                    #print(end_date)\n",
    "                    # get group name\n",
    "                    group_name = get_group_name(thisAsset, init_date, end_date)\n",
    "                    #print(\"group_name\")\n",
    "                    #print(group_name)\n",
    "                    # load features\n",
    "                    if group_name in file_features:\n",
    "                        features = file_features[group_name][\"features\"]\n",
    "                    else:\n",
    "                        raise ValueError(group_name+\" not in \"+filename_features)\n",
    "                    #print(\"features\")\n",
    "                    #print(features)\n",
    "                    # load returns\n",
    "                    if group_name in file_returns:\n",
    "                        returns = file_returns[group_name][\"returns\"]\n",
    "                    else:\n",
    "                        raise ValueError(group_name+\" not in \"+filename_features)\n",
    "                    #print(returns)\n",
    "                    # load Symbols if calculate_roi is true\n",
    "                    #TODO: Implement Symbol loading for test\n",
    "                    if calculate_roi:\n",
    "                        DT = file_symbols[group_name][\"DT\"]\n",
    "                        B = file_symbols[group_name][\"B\"]\n",
    "                        A = file_symbols[group_name][\"A\"]\n",
    "                        # build dict w. symbols\n",
    "                        symbols = {'DT':DT,\n",
    "                                  'B':B,\n",
    "                                  'A':A}\n",
    "                    else:\n",
    "                        symbols = {}\n",
    "                    # build IO\n",
    "                    IO, totalSampsPerLevel = build_IO_from_var_notebook(data, model, stats, IO, totalSampsPerLevel, \n",
    "                                                                        features, returns, symbols, calculate_roi)\n",
    "                    print(totalSampsPerLevel)\n",
    "                else:\n",
    "                    print(\"\\tNot in the set. Skipped.\")\n",
    "\n",
    "            else:\n",
    "                print(\"\\ts {0:d} of {1:d}. Not enough entries. Skipped.\".format(\n",
    "                    int(s/2),int(len(separators)/2-1)))\n",
    "        # end of for s in range(0,len(separators)-1,2):\n",
    "    if if_build_IO:\n",
    "        ass_IO_ass[ass_idx] = IO['pointer']\n",
    "        #print(\"\\tTime for \"+thisAsset+\":\"+str(np.floor(time.time()-tic))+\"s\"+\n",
    "        #          \". Total time:\"+str(np.floor(time.time()-ticTotal))+\"s\")\n",
    "# end of for ass_idx, ass in enumerate(data.assets):\n",
    "if if_build_IO:\n",
    "    print(\"Samples to RNN: \"+str(max(ass_IO_ass))+\".\\nPercent per level:\"+\n",
    "            str(totalSampsPerLevel/max(ass_IO_ass)))\n",
    "    f_IO.attrs.create('ass_IO_ass', ass_IO_ass, dtype=int)\n",
    "    \n",
    "    \n",
    "    if calculate_roi:\n",
    "        print(\"Building DTA...\")\n",
    "        DTA = build_DTA_from_var(data, IO['D'], IO['B'], IO['A'], ass_IO_ass)\n",
    "        pickle.dump( DTA, open( \"../RNN/IO/DTA\"+\"_\"+IO_results_name+\".p\", \"wb\" ))\n",
    "        f_IO.attrs.create('ass_IO_ass', ass_IO_ass, dtype=int)\n",
    "        \n",
    "    f_IO.close()\n",
    "else:\n",
    "    if calculate_roi:\n",
    "        DTA = pickle.load( open( \"../RNN/IO/DTA\"+\"_\"+IO_results_name+\".p\", \"rb\" ))\n",
    "    # get ass_IO_ass from disk\n",
    "    f_IO = h5py.File(filename_IO,'r')\n",
    "    ass_IO_ass = f_IO.attrs.get(\"ass_IO_ass\")\n",
    "    f_IO.close()\n",
    "m_t = max(ass_IO_ass)\n",
    "print(\"DONE\")"
   ]
  },
  {
   "cell_type": "code",
   "execution_count": 8,
   "metadata": {},
   "outputs": [
    {
     "data": {
      "text/plain": [
       "733966"
      ]
     },
     "execution_count": 8,
     "metadata": {},
     "output_type": "execute_result"
    }
   ],
   "source": [
    "m_t"
   ]
  },
  {
   "cell_type": "code",
   "execution_count": null,
   "metadata": {},
   "outputs": [],
   "source": [
    "# Train\n",
    "import tensorflow as tf\n",
    "# reset graph\n",
    "alloc = 2**20\n",
    "tf.reset_default_graph()\n",
    "# start session\n",
    "with tf.Session() as sess:    \n",
    "    model.train(sess, int(np.ceil(m_t/aloc)), ID=IDweights, IDIO=IDweights, \n",
    "                data_format='hdf5', filename_IO=filename_IO, aloc=alloc)"
   ]
  },
  {
   "cell_type": "code",
   "execution_count": null,
   "metadata": {},
   "outputs": [],
   "source": [
    "# Test\n",
    "import tensorflow as tf\n",
    "\n",
    "alloc = 200000\n",
    "save_journal = False\n",
    "startFrom = -1\n",
    "endAt = -1\n",
    "# reset graph\n",
    "tf.reset_default_graph()\n",
    "# start session\n",
    "with tf.Session() as sess:\n",
    "    # run test RNN\n",
    "    print(\"IDresults: \"+IDresults)\n",
    "    # TEMP: GRE calculation not implemented in test2 yet. Use old test\n",
    "    if save_journal:\n",
    "        model.test(sess, data, IDresults, IDweights, \n",
    "                    alloc, 'test', startFrom=startFrom,\n",
    "                    IDIO=IO_results_name, data_format='hdf5', DTA=DTA, \n",
    "                    save_journal=save_journal, endAt=endAt)\n",
    "    else:\n",
    "        model.test2(sess, data, IDresults, IDweights, \n",
    "                    alloc, 'test', startFrom=startFrom,\n",
    "                    IDIO=IO_results_name, data_format='hdf5', DTA=DTA, \n",
    "                    save_journal=save_journal, endAt=endAt, from_var=True)\n",
    "print(\"DONE\")"
   ]
  },
  {
   "cell_type": "code",
   "execution_count": 1,
   "metadata": {},
   "outputs": [],
   "source": [
    "# Function Build IO from var\n",
    "def build_IO_from_var_notebook(data, model, stats, IO, totalSampsPerLevel, features, returns, symbols, calculate_roi):\n",
    "    # total number of possible channels\n",
    "    nExS = data.nEventsPerStat\n",
    "    mW = data.movingWindow\n",
    "    nChannels = int(nExS/mW)\n",
    "    # sequence length\n",
    "    seq_len = model.seq_len#int((data.lB-data.nEventsPerStat)/data.movingWindow)\n",
    "    # samples allocation per batch\n",
    "    aloc = 2**20\n",
    "    # extract means and stats\n",
    "    means_in = stats['means_in']\n",
    "    stds_in = stats['stds_in']\n",
    "    #m_in = stats['m_in']\n",
    "    stds_out = stats['stds_out']\n",
    "    #m_out = stats['m_out']\n",
    "    #print(\"m_in\")\n",
    "    #print(m_in)\n",
    "    #print(\"m_out\")\n",
    "    #print(m_out)\n",
    "    # add dateTimes, bids and asks if are included in file\n",
    "    if calculate_roi:\n",
    "        dts = symbols['DT']\n",
    "        bids = symbols['B']\n",
    "        asks = symbols['A']\n",
    "\n",
    "        D = IO['D']\n",
    "        B = IO['B']\n",
    "        A = IO['A']\n",
    "\n",
    "    # extract IO structures\n",
    "    X = IO['X']\n",
    "    Y = IO['Y']\n",
    "    #I = IO['I']\n",
    "    pointer = IO['pointer']\n",
    "\n",
    "    feats_var_normed = np.minimum(np.maximum((features-means_in)/\\\n",
    "                         stds_in,-data.max_var),data.max_var)\n",
    "    # get some scalars\n",
    "    nSamps = feats_var_normed.shape[0]\n",
    "    print(\"features.shape\")\n",
    "    print(features.shape)\n",
    "    print(\"nSamps\")\n",
    "    print(nSamps)\n",
    "    samp_remaining = nSamps-2*nChannels-seq_len+1\n",
    "    print(\"samp_remaining\")\n",
    "    print(samp_remaining)\n",
    "    print(\"returns.shape\")\n",
    "    print(returns.shape)\n",
    "    chunks = int(np.ceil(samp_remaining/aloc))\n",
    "    # init counter of samps processed\n",
    "    offset = 0\n",
    "    # loop over chunks\n",
    "    for i in range(chunks):\n",
    "        # this batch length\n",
    "        batch = np.min([samp_remaining, aloc])\n",
    "        # create support numpy vectors to speed up iterations\n",
    "        v_support = feats_var_normed[offset:offset+batch+seq_len, :]\n",
    "        # get init and end indexes for returns\n",
    "        init_idx_rets = nChannels+offset+seq_len-1\n",
    "        print(\"init_idx_rets\")\n",
    "        print(init_idx_rets)\n",
    "        end_idx_rets = nChannels+offset+batch+seq_len-1#+2*seq_len-1\n",
    "        print(\"end_idx_rets\")\n",
    "        print(end_idx_rets)\n",
    "        r_support = returns[init_idx_rets:end_idx_rets, data.lookAheadIndex]\n",
    "        print(\"r_support.shape\")\n",
    "        print(r_support.shape)\n",
    "        assert(r_support.shape[0]==end_idx_rets-init_idx_rets)\n",
    "        # we only take here the entry time index, and later at DTA building the \n",
    "        # exit time index is derived from the entry time and the number of events to\n",
    "        # look ahead\n",
    "        if calculate_roi:\n",
    "            dt_support = dts[init_idx_rets:end_idx_rets, [0,data.lookAheadIndex+1]]\n",
    "            b_support = bids[init_idx_rets:end_idx_rets, [0,data.lookAheadIndex+1]]\n",
    "            a_support = asks[init_idx_rets:end_idx_rets, [0,data.lookAheadIndex+1]]\n",
    "        # update remaining samps to proceed\n",
    "        samp_remaining = samp_remaining-batch\n",
    "        # init formatted input and output\n",
    "        X_i = np.zeros((batch, seq_len, features.shape[1]))\n",
    "        # real-valued output\n",
    "        O_i = np.zeros((batch, seq_len, 1))    \n",
    "        if calculate_roi:\n",
    "            # last dimension is to incorporate in and out symbols\n",
    "            D_i = np.chararray((batch, 2),itemsize=19)\n",
    "            B_i = np.zeros((batch, 2))\n",
    "            A_i = np.zeros((batch, 2))\n",
    "\n",
    "        for nI in range(batch):\n",
    "            # get input\n",
    "            v_s_s = v_support[nI:nI+seq_len, :]\n",
    "            X_i[nI,:,:] = v_s_s[::-1,:]#v_support[nI:nI+seq_len, :]            \n",
    "            # due to substraction of features for variation, output gets the \n",
    "            # feature one entry later\n",
    "            O_i[nI,:,0] = r_support[nI]\n",
    "            if calculate_roi:\n",
    "                D_i[nI,:] = dt_support[nI,:]\n",
    "                B_i[nI,:] = b_support[nI,:]\n",
    "                A_i[nI,:] = a_support[nI,:]\n",
    "\n",
    "        # normalize output\n",
    "        O_i = O_i/stds_out[data.lookAheadIndex]\n",
    "        # update counters\n",
    "        offset = offset+batch\n",
    "        # get decimal and binary outputs\n",
    "        Y_i, y_dec = _build_bin_output(model, O_i, batch)\n",
    "        # get samples per level\n",
    "        for l in range(model.size_output_layer):\n",
    "            totalSampsPerLevel[l] = totalSampsPerLevel[l]+np.sum(y_dec[:,-1,0]==l)\n",
    "        # resize IO structures\n",
    "        X.resize((pointer+batch, seq_len,features.shape[1]))\n",
    "        Y.resize((pointer+batch, seq_len,model.commonY+model.size_output_layer))\n",
    "        # update IO structures\n",
    "        X[pointer:pointer+batch,:,:] = X_i\n",
    "        Y[pointer:pointer+batch,:,:] = Y_i\n",
    "        if calculate_roi:\n",
    "            # resize\n",
    "            D.resize((pointer+batch, 2))\n",
    "            B.resize((pointer+batch, 2))\n",
    "            A.resize((pointer+batch, 2))\n",
    "            # update\n",
    "            D[pointer:pointer+batch,:] = D_i\n",
    "            B[pointer:pointer+batch,:] = B_i\n",
    "            A[pointer:pointer+batch,:] = A_i\n",
    "    #        save_as_matfile('X_h_n_'+str(int(s/2)),'X_h_n'+str(int(s/2)),X_i)\n",
    "    #        save_as_matfile('O_h_n_'+str(int(s/2)),'O_h_n'+str(int(s/2)),O_i)\n",
    "\n",
    "        # uodate pointer\n",
    "        pointer += batch\n",
    "    # end of for i in range(chunks):\n",
    "    # update dictionary\n",
    "    IO['X'] = X\n",
    "    IO['Y'] = Y\n",
    "    IO['pointer'] = pointer\n",
    "    if calculate_roi:\n",
    "        IO['D'] = D\n",
    "        IO['B'] = B\n",
    "        IO['A'] = A\n",
    "    \n",
    "    return IO, totalSampsPerLevel\n",
    "    "
   ]
  },
  {
   "cell_type": "code",
   "execution_count": null,
   "metadata": {},
   "outputs": [],
   "source": [
    "# Snippet Build IO from var\n",
    "\n",
    "# total number of possible channels\n",
    "nChannels = int(nExS/mW)\n",
    "# sequence length\n",
    "seq_len = model.seq_len#int((data.lB-data.nEventsPerStat)/data.movingWindow)\n",
    "# samples allocation per batch\n",
    "aloc = 2**20\n",
    "# extract means and stats\n",
    "means_in = stats['means_in']\n",
    "stds_in = stats['stds_in']\n",
    "m_in = stats['m_in']\n",
    "stds_out = stats['stds_out']\n",
    "m_out = stats['m_out']\n",
    "#print(\"m_in\")\n",
    "#print(m_in)\n",
    "#print(\"m_out\")\n",
    "#print(m_out)\n",
    "# add dateTimes, bids and asks if are included in file\n",
    "all_info = 0\n",
    "if calculate_roi:\n",
    "    all_info = 1\n",
    "    dts = symbols['DT']\n",
    "    bids = symbols['B']\n",
    "    asks = symbols['A']\n",
    "        \n",
    "    D = IO['D']\n",
    "    B = IO['B']\n",
    "    A = IO['A']\n",
    "\n",
    "# extract IO structures\n",
    "X = IO['X']\n",
    "Y = IO['Y']\n",
    "#I = IO['I']\n",
    "pointer = IO['pointer']\n",
    "\n",
    "feats_var_normed = np.minimum(np.maximum((features-means_in)/\\\n",
    "                     stds_in,-data.max_var),data.max_var)\n",
    "# get some scalars\n",
    "nSamps = feats_var_normed.shape[0]\n",
    "samp_remaining = nSamps-nChannels-seq_len-1\n",
    "print(\"samp_remaining\")\n",
    "print(samp_remaining)\n",
    "chunks = int(np.ceil(samp_remaining/aloc))\n",
    "# init counter of samps processed\n",
    "offset = 0\n",
    "# loop over chunks\n",
    "for i in range(chunks):\n",
    "    # this batch length\n",
    "    batch = np.min([samp_remaining,aloc])\n",
    "    print(\"batch\")\n",
    "    print(batch)\n",
    "    # create support numpy vectors to speed up iterations\n",
    "    v_support = feats_var_normed[offset:offset+batch+seq_len, :]\n",
    "    # get init and end indexes for returns\n",
    "    init_idx_rets = nChannels+offset+seq_len-1\n",
    "    end_idx_rets = nChannels+offset+batch+2*seq_len-1\n",
    "    r_support = returns[init_idx_rets:end_idx_rets, data.lookAheadIndex]\n",
    "    print(\"returns.shape\")\n",
    "    print(returns.shape)\n",
    "    print(\"nChannels+offset+2\")\n",
    "    print(nChannels+offset+2)\n",
    "    print(\"nChannels+offset+batch+seq_len+2\")\n",
    "    print(nChannels+offset+batch+seq_len+2)\n",
    "    print(\"r_support.shape\")\n",
    "    print(r_support.shape)\n",
    "    print(\"nChannels+offset+batch+seq_len+2-(nChannels+offset+2)\")\n",
    "    print(nChannels+offset+batch+seq_len+2-(nChannels+offset+2))\n",
    "    print(\"returns[-1,data.lookAheadIndex]\")\n",
    "    print(returns[-1,data.lookAheadIndex])\n",
    "    print(\"r_support[-1]\")\n",
    "    print(r_support[-1])\n",
    "    # we only take here the entry time index, and later at DTA building the \n",
    "    # exit time index is derived from the entry time and the number of events to\n",
    "    # look ahead\n",
    "    if calculate_roi:\n",
    "        dt_support = dts[init_idx_rets:end_idx_rets, [0,data.lookAheadIndex+1]]\n",
    "        b_support = bids[init_idx_rets:end_idx_rets, [0,data.lookAheadIndex+1]]\n",
    "        a_support = asks[init_idx_rets:end_idx_rets, [0,data.lookAheadIndex+1]]\n",
    "    # update remaining samps to proceed\n",
    "    samp_remaining = samp_remaining-batch\n",
    "    # init formatted input and output\n",
    "    X_i = np.zeros((batch, seq_len, features.shape[1]))\n",
    "    # real-valued output\n",
    "    O_i = np.zeros((batch, seq_len, 1))    \n",
    "    if calculate_roi:\n",
    "        # last dimension is to incorporate in and out symbols\n",
    "        D_i = np.chararray((batch, 2),itemsize=19)\n",
    "        B_i = np.zeros((batch, 2))\n",
    "        A_i = np.zeros((batch, 2))\n",
    "    \n",
    "    for nI in range(batch):\n",
    "        # get input\n",
    "        v_s_s = v_support[nI:nI+seq_len, :]\n",
    "        X_i[nI,:,:] = v_s_s[::-1,:]#v_support[nI:nI+seq_len, :]            \n",
    "        # due to substraction of features for variation, output gets the \n",
    "        # feature one entry later\n",
    "        O_i[nI,:,0] = r_support[nI]\n",
    "        if calculate_roi:\n",
    "            D_i[nI,:] = dt_support[nI,:]\n",
    "            B_i[nI,:] = b_support[nI,:]\n",
    "            A_i[nI,:] = a_support[nI,:]\n",
    "    \n",
    "    # normalize output\n",
    "    print(\"stds_out.shape\")\n",
    "    print(stds_out.shape)\n",
    "    O_i = O_i/stds_out[data.lookAheadIndex]\n",
    "    # update counters\n",
    "    offset = offset+batch\n",
    "    # get decimal and binary outputs\n",
    "    Y_i, y_dec = _build_bin_output(model, O_i, batch)\n",
    "    # get samples per level\n",
    "    for l in range(model.size_output_layer):\n",
    "        totalSampsPerLevel[l] = totalSampsPerLevel[l]+np.sum(y_dec[:,-1,0]==l)\n",
    "    # resize IO structures\n",
    "    X.resize((pointer+batch, seq_len,features.shape[1]))\n",
    "    Y.resize((pointer+batch, seq_len,model.commonY+model.size_output_layer))\n",
    "    # update IO structures\n",
    "    X[pointer:pointer+batch,:,:] = X_i\n",
    "    Y[pointer:pointer+batch,:,:] = Y_i\n",
    "    if calculate_roi:\n",
    "        # resize\n",
    "        D.resize((pointer+batch, 2))\n",
    "        B.resize((pointer+batch, 2))\n",
    "        A.resize((pointer+batch, 2))\n",
    "        # update\n",
    "        D[pointer:pointer+batch,:] = D_i\n",
    "        B[pointer:pointer+batch,:] = B_i\n",
    "        A[pointer:pointer+batch,:] = A_i\n",
    "#        save_as_matfile('X_h_n_'+str(int(s/2)),'X_h_n'+str(int(s/2)),X_i)\n",
    "#        save_as_matfile('O_h_n_'+str(int(s/2)),'O_h_n'+str(int(s/2)),O_i)\n",
    "        \n",
    "    # uodate pointer\n",
    "    pointer += batch\n",
    "# end of for i in range(chunks):\n",
    "# update dictionary\n",
    "IO['X'] = X\n",
    "IO['Y'] = Y\n",
    "IO['pointer'] = pointer\n",
    "if calculate_roi:\n",
    "    IO['D'] = D\n",
    "    IO['B'] = B\n",
    "    IO['A'] = A\n",
    "print(\"totalSampsPerLevel\")\n",
    "print(totalSampsPerLevel)\n",
    "\n",
    "if if_build_IO:\n",
    "    ass_IO_ass[ass_idx] = IO['pointer']\n",
    "    #print(\"\\tTime for \"+thisAsset+\":\"+str(np.floor(time.time()-tic))+\"s\"+\n",
    "    #          \". Total time:\"+str(np.floor(time.time()-ticTotal))+\"s\")\n",
    "# end of assets loop?\n",
    "if if_build_IO:\n",
    "    f_IO.attrs.create('ass_IO_ass', ass_IO_ass, dtype=int)\n",
    "    f_IO.close()\n",
    "else:\n",
    "    # get ass_IO_ass from disk\n",
    "    f_IO = h5py.File(filename_IO,'r')\n",
    "    ass_IO_ass = f_IO.attrs.get(\"ass_IO_ass\")\n",
    "    f_IO.close()\n",
    "m_t = IO['pointer']\n",
    "print(\"m_t\")\n",
    "print(m_t)\n",
    "print(\"IO['pointer']\")\n",
    "print(IO['pointer'])"
   ]
  },
  {
   "cell_type": "code",
   "execution_count": 5,
   "metadata": {},
   "outputs": [],
   "source": [
    "f_IO.close()"
   ]
  },
  {
   "cell_type": "code",
   "execution_count": 6,
   "metadata": {},
   "outputs": [
    {
     "data": {
      "text/plain": [
       "(42319, 3, 1)"
      ]
     },
     "execution_count": 6,
     "metadata": {},
     "output_type": "execute_result"
    }
   ],
   "source": [
    "O_i.shape"
   ]
  },
  {
   "cell_type": "code",
   "execution_count": 20,
   "metadata": {},
   "outputs": [],
   "source": [
    "\n"
   ]
  },
  {
   "cell_type": "code",
   "execution_count": 19,
   "metadata": {},
   "outputs": [
    {
     "name": "stdout",
     "output_type": "stream",
     "text": [
      "The autoreload extension is already loaded. To reload it, use:\n",
      "  %reload_ext autoreload\n"
     ]
    }
   ],
   "source": [
    "# Test\n"
   ]
  },
  {
   "cell_type": "code",
   "execution_count": 18,
   "metadata": {},
   "outputs": [],
   "source": []
  },
  {
   "cell_type": "code",
   "execution_count": 4,
   "metadata": {},
   "outputs": [
    {
     "name": "stdout",
     "output_type": "stream",
     "text": [
      "WARNING! Arguments not taken into consideration\n",
      "Config file ../config/C0400.config exists. Loaded from disk\n"
     ]
    }
   ],
   "source": [
    "from config import configuration\n",
    "# define config structure\n",
    "entries = {'config_name':'C0400',\n",
    "          \n",
    "          'movingWindow':100,\n",
    "          'nEventsPerStat':1000,\n",
    "          'lB':1300,\n",
    "          'feature_keys_manual':[],\n",
    "          'feature_keys_tsfresh':[],\n",
    "           'var_feat_keys':[i for i in range(68,93)],\n",
    "          \n",
    "          'if_build_IO':False,\n",
    "          'from_stats_file':False,\n",
    "          'IDweights':'000400',\n",
    "          'inverse_load':True,\n",
    "          \n",
    "          'IDresults':'100400',\n",
    "          'startFrom':-1,\n",
    "          'endAt':-1,\n",
    "          'save_journal':False}\n",
    "\n",
    "config = configuration(entries)"
   ]
  },
  {
   "cell_type": "code",
   "execution_count": null,
   "metadata": {},
   "outputs": [],
   "source": []
  },
  {
   "cell_type": "code",
   "execution_count": null,
   "metadata": {},
   "outputs": [],
   "source": [
    "build_and_test(config)"
   ]
  },
  {
   "cell_type": "code",
   "execution_count": 16,
   "metadata": {},
   "outputs": [
    {
     "name": "stderr",
     "output_type": "stream",
     "text": [
      "[autoreload of inputs failed: Traceback (most recent call last):\n",
      "  File \"C:\\ProgramData\\Anaconda3\\envs\\py35\\lib\\site-packages\\IPython\\extensions\\autoreload.py\", line 245, in check\n",
      "    superreload(m, reload, self.old_objects)\n",
      "  File \"C:\\ProgramData\\Anaconda3\\envs\\py35\\lib\\site-packages\\IPython\\extensions\\autoreload.py\", line 384, in superreload\n",
      "    update_generic(old_obj, new_obj)\n",
      "  File \"C:\\ProgramData\\Anaconda3\\envs\\py35\\lib\\site-packages\\IPython\\extensions\\autoreload.py\", line 323, in update_generic\n",
      "    update(a, b)\n",
      "  File \"C:\\ProgramData\\Anaconda3\\envs\\py35\\lib\\site-packages\\IPython\\extensions\\autoreload.py\", line 278, in update_class\n",
      "    if old_obj == new_obj:\n",
      "ValueError: The truth value of an array with more than one element is ambiguous. Use a.any() or a.all()\n",
      "]\n"
     ]
    },
    {
     "name": "stdout",
     "output_type": "stream",
     "text": [
      "Config file ../config/C0400.config saved\n",
      "Config file ../config/C0400.config loaded from disk\n"
     ]
    }
   ],
   "source": [
    "from config import modify_config\n",
    "\n",
    "modify_config(config['config_name'],'if_build_IO',False)\n",
    "config = retrieve_config(config['config_name'])"
   ]
  },
  {
   "cell_type": "code",
   "execution_count": null,
   "metadata": {},
   "outputs": [],
   "source": [
    "build_and_train(config)"
   ]
  },
  {
   "cell_type": "code",
   "execution_count": 26,
   "metadata": {},
   "outputs": [
    {
     "data": {
      "text/html": [
       "<div>\n",
       "<style scoped>\n",
       "    .dataframe tbody tr th:only-of-type {\n",
       "        vertical-align: middle;\n",
       "    }\n",
       "\n",
       "    .dataframe tbody tr th {\n",
       "        vertical-align: top;\n",
       "    }\n",
       "\n",
       "    .dataframe thead th {\n",
       "        text-align: right;\n",
       "    }\n",
       "</style>\n",
       "<table border=\"1\" class=\"dataframe\">\n",
       "  <thead>\n",
       "    <tr style=\"text-align: right;\">\n",
       "      <th></th>\n",
       "      <th>Asset</th>\n",
       "      <th>Di</th>\n",
       "      <th>Ti</th>\n",
       "      <th>Do</th>\n",
       "      <th>To</th>\n",
       "      <th>GROI</th>\n",
       "      <th>ROI</th>\n",
       "      <th>spread</th>\n",
       "      <th>ext</th>\n",
       "    </tr>\n",
       "  </thead>\n",
       "  <tbody>\n",
       "    <tr>\n",
       "      <th>0</th>\n",
       "      <td>AUDCAD</td>\n",
       "      <td>2018.03.19</td>\n",
       "      <td>00:57:38</td>\n",
       "      <td>2018.03.19</td>\n",
       "      <td>01:36:09</td>\n",
       "      <td>0.0337</td>\n",
       "      <td>0.0079</td>\n",
       "      <td>0.0257</td>\n",
       "      <td>0</td>\n",
       "    </tr>\n",
       "    <tr>\n",
       "      <th>1</th>\n",
       "      <td>AUDCAD</td>\n",
       "      <td>2018.03.20</td>\n",
       "      <td>02:51:09</td>\n",
       "      <td>2018.03.20</td>\n",
       "      <td>03:11:27</td>\n",
       "      <td>0.0407</td>\n",
       "      <td>0.0179</td>\n",
       "      <td>0.0228</td>\n",
       "      <td>0</td>\n",
       "    </tr>\n",
       "    <tr>\n",
       "      <th>2</th>\n",
       "      <td>AUDCAD</td>\n",
       "      <td>2018.03.22</td>\n",
       "      <td>00:59:23</td>\n",
       "      <td>2018.03.22</td>\n",
       "      <td>01:30:28</td>\n",
       "      <td>0.0929</td>\n",
       "      <td>0.0679</td>\n",
       "      <td>0.0250</td>\n",
       "      <td>0</td>\n",
       "    </tr>\n",
       "    <tr>\n",
       "      <th>3</th>\n",
       "      <td>AUDCAD</td>\n",
       "      <td>2018.03.22</td>\n",
       "      <td>02:30:14</td>\n",
       "      <td>2018.03.22</td>\n",
       "      <td>02:42:32</td>\n",
       "      <td>-0.1387</td>\n",
       "      <td>-0.1636</td>\n",
       "      <td>0.0249</td>\n",
       "      <td>0</td>\n",
       "    </tr>\n",
       "    <tr>\n",
       "      <th>4</th>\n",
       "      <td>AUDCAD</td>\n",
       "      <td>2018.03.23</td>\n",
       "      <td>01:00:56</td>\n",
       "      <td>2018.03.23</td>\n",
       "      <td>01:13:22</td>\n",
       "      <td>-0.0392</td>\n",
       "      <td>-0.0643</td>\n",
       "      <td>0.0251</td>\n",
       "      <td>0</td>\n",
       "    </tr>\n",
       "    <tr>\n",
       "      <th>5</th>\n",
       "      <td>AUDCAD</td>\n",
       "      <td>2018.03.26</td>\n",
       "      <td>00:13:48</td>\n",
       "      <td>2018.03.26</td>\n",
       "      <td>01:01:16</td>\n",
       "      <td>0.0413</td>\n",
       "      <td>0.0111</td>\n",
       "      <td>0.0302</td>\n",
       "      <td>0</td>\n",
       "    </tr>\n",
       "    <tr>\n",
       "      <th>6</th>\n",
       "      <td>AUDCAD</td>\n",
       "      <td>2018.03.28</td>\n",
       "      <td>23:43:57</td>\n",
       "      <td>2018.03.29</td>\n",
       "      <td>01:00:00</td>\n",
       "      <td>0.0808</td>\n",
       "      <td>0.0262</td>\n",
       "      <td>0.0546</td>\n",
       "      <td>3</td>\n",
       "    </tr>\n",
       "    <tr>\n",
       "      <th>7</th>\n",
       "      <td>AUDCAD</td>\n",
       "      <td>2018.03.30</td>\n",
       "      <td>02:16:01</td>\n",
       "      <td>2018.03.30</td>\n",
       "      <td>02:26:22</td>\n",
       "      <td>0.0718</td>\n",
       "      <td>-0.0071</td>\n",
       "      <td>0.0789</td>\n",
       "      <td>0</td>\n",
       "    </tr>\n",
       "    <tr>\n",
       "      <th>8</th>\n",
       "      <td>AUDCAD</td>\n",
       "      <td>2018.03.30</td>\n",
       "      <td>23:53:50</td>\n",
       "      <td>2018.04.02</td>\n",
       "      <td>01:53:14</td>\n",
       "      <td>0.0505</td>\n",
       "      <td>0.0212</td>\n",
       "      <td>0.0293</td>\n",
       "      <td>1</td>\n",
       "    </tr>\n",
       "    <tr>\n",
       "      <th>9</th>\n",
       "      <td>AUDCAD</td>\n",
       "      <td>2018.04.03</td>\n",
       "      <td>00:14:29</td>\n",
       "      <td>2018.04.03</td>\n",
       "      <td>00:38:47</td>\n",
       "      <td>0.0253</td>\n",
       "      <td>-0.0162</td>\n",
       "      <td>0.0415</td>\n",
       "      <td>1</td>\n",
       "    </tr>\n",
       "    <tr>\n",
       "      <th>10</th>\n",
       "      <td>AUDCAD</td>\n",
       "      <td>2018.04.05</td>\n",
       "      <td>00:08:52</td>\n",
       "      <td>2018.04.05</td>\n",
       "      <td>00:27:33</td>\n",
       "      <td>0.0843</td>\n",
       "      <td>0.0183</td>\n",
       "      <td>0.0660</td>\n",
       "      <td>2</td>\n",
       "    </tr>\n",
       "    <tr>\n",
       "      <th>11</th>\n",
       "      <td>AUDCAD</td>\n",
       "      <td>2018.04.05</td>\n",
       "      <td>00:53:15</td>\n",
       "      <td>2018.04.05</td>\n",
       "      <td>01:03:06</td>\n",
       "      <td>0.0244</td>\n",
       "      <td>-0.0061</td>\n",
       "      <td>0.0305</td>\n",
       "      <td>0</td>\n",
       "    </tr>\n",
       "    <tr>\n",
       "      <th>12</th>\n",
       "      <td>AUDCAD</td>\n",
       "      <td>2018.04.06</td>\n",
       "      <td>00:05:32</td>\n",
       "      <td>2018.04.06</td>\n",
       "      <td>00:37:16</td>\n",
       "      <td>0.0460</td>\n",
       "      <td>0.0133</td>\n",
       "      <td>0.0327</td>\n",
       "      <td>0</td>\n",
       "    </tr>\n",
       "    <tr>\n",
       "      <th>13</th>\n",
       "      <td>AUDCAD</td>\n",
       "      <td>2018.04.09</td>\n",
       "      <td>00:33:45</td>\n",
       "      <td>2018.04.09</td>\n",
       "      <td>01:06:08</td>\n",
       "      <td>0.0337</td>\n",
       "      <td>0.0102</td>\n",
       "      <td>0.0235</td>\n",
       "      <td>1</td>\n",
       "    </tr>\n",
       "    <tr>\n",
       "      <th>14</th>\n",
       "      <td>AUDCAD</td>\n",
       "      <td>2018.04.12</td>\n",
       "      <td>00:06:02</td>\n",
       "      <td>2018.04.12</td>\n",
       "      <td>00:29:32</td>\n",
       "      <td>0.1149</td>\n",
       "      <td>0.0410</td>\n",
       "      <td>0.0739</td>\n",
       "      <td>0</td>\n",
       "    </tr>\n",
       "    <tr>\n",
       "      <th>15</th>\n",
       "      <td>AUDCAD</td>\n",
       "      <td>2018.04.13</td>\n",
       "      <td>00:09:27</td>\n",
       "      <td>2018.04.13</td>\n",
       "      <td>00:52:06</td>\n",
       "      <td>0.0338</td>\n",
       "      <td>-0.0533</td>\n",
       "      <td>0.0871</td>\n",
       "      <td>1</td>\n",
       "    </tr>\n",
       "    <tr>\n",
       "      <th>16</th>\n",
       "      <td>AUDCAD</td>\n",
       "      <td>2018.04.16</td>\n",
       "      <td>00:06:47</td>\n",
       "      <td>2018.04.16</td>\n",
       "      <td>01:05:37</td>\n",
       "      <td>0.0327</td>\n",
       "      <td>-0.0296</td>\n",
       "      <td>0.0624</td>\n",
       "      <td>1</td>\n",
       "    </tr>\n",
       "    <tr>\n",
       "      <th>17</th>\n",
       "      <td>AUDCAD</td>\n",
       "      <td>2018.04.17</td>\n",
       "      <td>00:10:28</td>\n",
       "      <td>2018.04.17</td>\n",
       "      <td>01:00:16</td>\n",
       "      <td>0.0471</td>\n",
       "      <td>0.0143</td>\n",
       "      <td>0.0327</td>\n",
       "      <td>0</td>\n",
       "    </tr>\n",
       "    <tr>\n",
       "      <th>18</th>\n",
       "      <td>AUDCAD</td>\n",
       "      <td>2018.04.18</td>\n",
       "      <td>00:41:06</td>\n",
       "      <td>2018.04.18</td>\n",
       "      <td>01:29:19</td>\n",
       "      <td>0.0616</td>\n",
       "      <td>0.0339</td>\n",
       "      <td>0.0277</td>\n",
       "      <td>0</td>\n",
       "    </tr>\n",
       "    <tr>\n",
       "      <th>19</th>\n",
       "      <td>AUDCAD</td>\n",
       "      <td>2018.04.20</td>\n",
       "      <td>23:43:42</td>\n",
       "      <td>2018.04.23</td>\n",
       "      <td>00:21:39</td>\n",
       "      <td>-0.0470</td>\n",
       "      <td>-0.2003</td>\n",
       "      <td>0.1533</td>\n",
       "      <td>1</td>\n",
       "    </tr>\n",
       "    <tr>\n",
       "      <th>20</th>\n",
       "      <td>AUDCAD</td>\n",
       "      <td>2018.04.24</td>\n",
       "      <td>00:13:51</td>\n",
       "      <td>2018.04.24</td>\n",
       "      <td>00:52:30</td>\n",
       "      <td>0.0123</td>\n",
       "      <td>-0.0297</td>\n",
       "      <td>0.0420</td>\n",
       "      <td>0</td>\n",
       "    </tr>\n",
       "    <tr>\n",
       "      <th>21</th>\n",
       "      <td>AUDCAD</td>\n",
       "      <td>2018.04.25</td>\n",
       "      <td>00:29:51</td>\n",
       "      <td>2018.04.25</td>\n",
       "      <td>00:53:25</td>\n",
       "      <td>0.0236</td>\n",
       "      <td>-0.0308</td>\n",
       "      <td>0.0544</td>\n",
       "      <td>0</td>\n",
       "    </tr>\n",
       "    <tr>\n",
       "      <th>22</th>\n",
       "      <td>AUDCAD</td>\n",
       "      <td>2018.04.26</td>\n",
       "      <td>00:05:31</td>\n",
       "      <td>2018.04.26</td>\n",
       "      <td>00:41:49</td>\n",
       "      <td>0.0402</td>\n",
       "      <td>-0.0062</td>\n",
       "      <td>0.0463</td>\n",
       "      <td>1</td>\n",
       "    </tr>\n",
       "    <tr>\n",
       "      <th>23</th>\n",
       "      <td>AUDCAD</td>\n",
       "      <td>2018.04.27</td>\n",
       "      <td>00:31:53</td>\n",
       "      <td>2018.04.27</td>\n",
       "      <td>01:17:43</td>\n",
       "      <td>0.0813</td>\n",
       "      <td>0.0556</td>\n",
       "      <td>0.0257</td>\n",
       "      <td>0</td>\n",
       "    </tr>\n",
       "    <tr>\n",
       "      <th>24</th>\n",
       "      <td>AUDCAD</td>\n",
       "      <td>2018.04.30</td>\n",
       "      <td>00:54:23</td>\n",
       "      <td>2018.04.30</td>\n",
       "      <td>01:07:44</td>\n",
       "      <td>0.0411</td>\n",
       "      <td>-0.0062</td>\n",
       "      <td>0.0473</td>\n",
       "      <td>0</td>\n",
       "    </tr>\n",
       "    <tr>\n",
       "      <th>25</th>\n",
       "      <td>AUDCAD</td>\n",
       "      <td>2018.05.03</td>\n",
       "      <td>00:05:48</td>\n",
       "      <td>2018.05.03</td>\n",
       "      <td>00:59:34</td>\n",
       "      <td>0.0280</td>\n",
       "      <td>-0.0176</td>\n",
       "      <td>0.0456</td>\n",
       "      <td>2</td>\n",
       "    </tr>\n",
       "    <tr>\n",
       "      <th>26</th>\n",
       "      <td>AUDCAD</td>\n",
       "      <td>2018.05.03</td>\n",
       "      <td>02:17:37</td>\n",
       "      <td>2018.05.03</td>\n",
       "      <td>02:58:46</td>\n",
       "      <td>0.0207</td>\n",
       "      <td>-0.0031</td>\n",
       "      <td>0.0239</td>\n",
       "      <td>0</td>\n",
       "    </tr>\n",
       "    <tr>\n",
       "      <th>27</th>\n",
       "      <td>AUDCAD</td>\n",
       "      <td>2018.05.04</td>\n",
       "      <td>00:08:30</td>\n",
       "      <td>2018.05.04</td>\n",
       "      <td>00:29:44</td>\n",
       "      <td>0.0455</td>\n",
       "      <td>0.0000</td>\n",
       "      <td>0.0455</td>\n",
       "      <td>0</td>\n",
       "    </tr>\n",
       "    <tr>\n",
       "      <th>28</th>\n",
       "      <td>AUDCAD</td>\n",
       "      <td>2018.05.08</td>\n",
       "      <td>00:08:32</td>\n",
       "      <td>2018.05.08</td>\n",
       "      <td>00:29:55</td>\n",
       "      <td>-0.0010</td>\n",
       "      <td>-0.0413</td>\n",
       "      <td>0.0403</td>\n",
       "      <td>1</td>\n",
       "    </tr>\n",
       "    <tr>\n",
       "      <th>29</th>\n",
       "      <td>AUDCAD</td>\n",
       "      <td>2018.05.14</td>\n",
       "      <td>01:00:05</td>\n",
       "      <td>2018.05.14</td>\n",
       "      <td>01:39:24</td>\n",
       "      <td>0.0021</td>\n",
       "      <td>-0.0259</td>\n",
       "      <td>0.0280</td>\n",
       "      <td>0</td>\n",
       "    </tr>\n",
       "    <tr>\n",
       "      <th>...</th>\n",
       "      <td>...</td>\n",
       "      <td>...</td>\n",
       "      <td>...</td>\n",
       "      <td>...</td>\n",
       "      <td>...</td>\n",
       "      <td>...</td>\n",
       "      <td>...</td>\n",
       "      <td>...</td>\n",
       "      <td>...</td>\n",
       "    </tr>\n",
       "    <tr>\n",
       "      <th>1681</th>\n",
       "      <td>NZDUSD</td>\n",
       "      <td>2018.08.15</td>\n",
       "      <td>23:38:24</td>\n",
       "      <td>2018.08.15</td>\n",
       "      <td>23:57:56</td>\n",
       "      <td>0.0518</td>\n",
       "      <td>0.0152</td>\n",
       "      <td>0.0365</td>\n",
       "      <td>0</td>\n",
       "    </tr>\n",
       "    <tr>\n",
       "      <th>1682</th>\n",
       "      <td>NZDUSD</td>\n",
       "      <td>2018.08.17</td>\n",
       "      <td>01:04:05</td>\n",
       "      <td>2018.08.17</td>\n",
       "      <td>01:36:55</td>\n",
       "      <td>0.0349</td>\n",
       "      <td>-0.0015</td>\n",
       "      <td>0.0365</td>\n",
       "      <td>0</td>\n",
       "    </tr>\n",
       "    <tr>\n",
       "      <th>1683</th>\n",
       "      <td>NZDUSD</td>\n",
       "      <td>2018.08.17</td>\n",
       "      <td>23:55:06</td>\n",
       "      <td>2018.08.20</td>\n",
       "      <td>00:40:04</td>\n",
       "      <td>0.0513</td>\n",
       "      <td>-0.0030</td>\n",
       "      <td>0.0543</td>\n",
       "      <td>1</td>\n",
       "    </tr>\n",
       "    <tr>\n",
       "      <th>1684</th>\n",
       "      <td>NZDUSD</td>\n",
       "      <td>2018.08.21</td>\n",
       "      <td>23:48:39</td>\n",
       "      <td>2018.08.22</td>\n",
       "      <td>00:21:52</td>\n",
       "      <td>0.1180</td>\n",
       "      <td>0.0045</td>\n",
       "      <td>0.1135</td>\n",
       "      <td>0</td>\n",
       "    </tr>\n",
       "    <tr>\n",
       "      <th>1685</th>\n",
       "      <td>NZDUSD</td>\n",
       "      <td>2018.08.23</td>\n",
       "      <td>00:25:00</td>\n",
       "      <td>2018.08.23</td>\n",
       "      <td>01:43:02</td>\n",
       "      <td>0.0837</td>\n",
       "      <td>0.0508</td>\n",
       "      <td>0.0329</td>\n",
       "      <td>1</td>\n",
       "    </tr>\n",
       "    <tr>\n",
       "      <th>1686</th>\n",
       "      <td>NZDUSD</td>\n",
       "      <td>2018.08.29</td>\n",
       "      <td>00:08:42</td>\n",
       "      <td>2018.08.29</td>\n",
       "      <td>00:53:20</td>\n",
       "      <td>0.0388</td>\n",
       "      <td>-0.0045</td>\n",
       "      <td>0.0433</td>\n",
       "      <td>2</td>\n",
       "    </tr>\n",
       "    <tr>\n",
       "      <th>1687</th>\n",
       "      <td>NZDUSD</td>\n",
       "      <td>2018.09.05</td>\n",
       "      <td>00:10:14</td>\n",
       "      <td>2018.09.05</td>\n",
       "      <td>00:17:51</td>\n",
       "      <td>0.0565</td>\n",
       "      <td>-0.0397</td>\n",
       "      <td>0.0962</td>\n",
       "      <td>0</td>\n",
       "    </tr>\n",
       "    <tr>\n",
       "      <th>1688</th>\n",
       "      <td>NZDUSD</td>\n",
       "      <td>2018.09.14</td>\n",
       "      <td>00:09:13</td>\n",
       "      <td>2018.09.14</td>\n",
       "      <td>00:53:36</td>\n",
       "      <td>0.1586</td>\n",
       "      <td>0.0794</td>\n",
       "      <td>0.0792</td>\n",
       "      <td>2</td>\n",
       "    </tr>\n",
       "    <tr>\n",
       "      <th>1689</th>\n",
       "      <td>NZDUSD</td>\n",
       "      <td>2018.09.18</td>\n",
       "      <td>00:08:32</td>\n",
       "      <td>2018.09.18</td>\n",
       "      <td>01:02:10</td>\n",
       "      <td>0.1994</td>\n",
       "      <td>0.1583</td>\n",
       "      <td>0.0411</td>\n",
       "      <td>1</td>\n",
       "    </tr>\n",
       "    <tr>\n",
       "      <th>1690</th>\n",
       "      <td>NZDUSD</td>\n",
       "      <td>2018.09.18</td>\n",
       "      <td>23:40:24</td>\n",
       "      <td>2018.09.19</td>\n",
       "      <td>01:20:38</td>\n",
       "      <td>-0.0790</td>\n",
       "      <td>-0.1124</td>\n",
       "      <td>0.0334</td>\n",
       "      <td>0</td>\n",
       "    </tr>\n",
       "    <tr>\n",
       "      <th>1691</th>\n",
       "      <td>NZDUSD</td>\n",
       "      <td>2018.09.19</td>\n",
       "      <td>01:45:18</td>\n",
       "      <td>2018.09.19</td>\n",
       "      <td>02:21:37</td>\n",
       "      <td>0.0380</td>\n",
       "      <td>0.0046</td>\n",
       "      <td>0.0334</td>\n",
       "      <td>0</td>\n",
       "    </tr>\n",
       "    <tr>\n",
       "      <th>1692</th>\n",
       "      <td>NZDUSD</td>\n",
       "      <td>2018.09.20</td>\n",
       "      <td>00:21:35</td>\n",
       "      <td>2018.09.20</td>\n",
       "      <td>01:19:24</td>\n",
       "      <td>-0.1467</td>\n",
       "      <td>-0.1800</td>\n",
       "      <td>0.0333</td>\n",
       "      <td>2</td>\n",
       "    </tr>\n",
       "    <tr>\n",
       "      <th>1693</th>\n",
       "      <td>NZDUSD</td>\n",
       "      <td>2018.09.21</td>\n",
       "      <td>00:31:12</td>\n",
       "      <td>2018.09.21</td>\n",
       "      <td>01:04:28</td>\n",
       "      <td>0.0898</td>\n",
       "      <td>0.0569</td>\n",
       "      <td>0.0329</td>\n",
       "      <td>1</td>\n",
       "    </tr>\n",
       "    <tr>\n",
       "      <th>1694</th>\n",
       "      <td>NZDUSD</td>\n",
       "      <td>2018.09.24</td>\n",
       "      <td>00:07:58</td>\n",
       "      <td>2018.09.24</td>\n",
       "      <td>01:20:09</td>\n",
       "      <td>0.0120</td>\n",
       "      <td>-0.0195</td>\n",
       "      <td>0.0315</td>\n",
       "      <td>1</td>\n",
       "    </tr>\n",
       "    <tr>\n",
       "      <th>1695</th>\n",
       "      <td>NZDUSD</td>\n",
       "      <td>2018.09.26</td>\n",
       "      <td>00:48:10</td>\n",
       "      <td>2018.09.26</td>\n",
       "      <td>02:06:52</td>\n",
       "      <td>-0.0738</td>\n",
       "      <td>-0.1069</td>\n",
       "      <td>0.0331</td>\n",
       "      <td>0</td>\n",
       "    </tr>\n",
       "    <tr>\n",
       "      <th>1696</th>\n",
       "      <td>NZDUSD</td>\n",
       "      <td>2018.09.27</td>\n",
       "      <td>00:36:55</td>\n",
       "      <td>2018.09.27</td>\n",
       "      <td>01:17:58</td>\n",
       "      <td>0.0135</td>\n",
       "      <td>-0.0165</td>\n",
       "      <td>0.0300</td>\n",
       "      <td>0</td>\n",
       "    </tr>\n",
       "    <tr>\n",
       "      <th>1697</th>\n",
       "      <td>NZDUSD</td>\n",
       "      <td>2018.09.28</td>\n",
       "      <td>00:37:25</td>\n",
       "      <td>2018.09.28</td>\n",
       "      <td>01:41:53</td>\n",
       "      <td>-0.0439</td>\n",
       "      <td>-0.0938</td>\n",
       "      <td>0.0499</td>\n",
       "      <td>0</td>\n",
       "    </tr>\n",
       "    <tr>\n",
       "      <th>1698</th>\n",
       "      <td>NZDUSD</td>\n",
       "      <td>2018.10.01</td>\n",
       "      <td>00:22:18</td>\n",
       "      <td>2018.10.01</td>\n",
       "      <td>02:01:01</td>\n",
       "      <td>0.1239</td>\n",
       "      <td>0.0665</td>\n",
       "      <td>0.0575</td>\n",
       "      <td>4</td>\n",
       "    </tr>\n",
       "    <tr>\n",
       "      <th>1699</th>\n",
       "      <td>NZDUSD</td>\n",
       "      <td>2018.10.02</td>\n",
       "      <td>00:08:26</td>\n",
       "      <td>2018.10.02</td>\n",
       "      <td>01:25:28</td>\n",
       "      <td>-0.2103</td>\n",
       "      <td>-0.2648</td>\n",
       "      <td>0.0545</td>\n",
       "      <td>3</td>\n",
       "    </tr>\n",
       "    <tr>\n",
       "      <th>1700</th>\n",
       "      <td>NZDUSD</td>\n",
       "      <td>2018.10.03</td>\n",
       "      <td>00:22:46</td>\n",
       "      <td>2018.10.03</td>\n",
       "      <td>02:08:00</td>\n",
       "      <td>-0.0304</td>\n",
       "      <td>-0.0850</td>\n",
       "      <td>0.0546</td>\n",
       "      <td>5</td>\n",
       "    </tr>\n",
       "    <tr>\n",
       "      <th>1701</th>\n",
       "      <td>NZDUSD</td>\n",
       "      <td>2018.10.09</td>\n",
       "      <td>00:20:40</td>\n",
       "      <td>2018.10.09</td>\n",
       "      <td>01:26:05</td>\n",
       "      <td>0.0589</td>\n",
       "      <td>0.0093</td>\n",
       "      <td>0.0496</td>\n",
       "      <td>1</td>\n",
       "    </tr>\n",
       "    <tr>\n",
       "      <th>1702</th>\n",
       "      <td>NZDUSD</td>\n",
       "      <td>2018.10.09</td>\n",
       "      <td>22:58:27</td>\n",
       "      <td>2018.10.10</td>\n",
       "      <td>01:30:54</td>\n",
       "      <td>-0.1577</td>\n",
       "      <td>-0.2040</td>\n",
       "      <td>0.0464</td>\n",
       "      <td>3</td>\n",
       "    </tr>\n",
       "    <tr>\n",
       "      <th>1703</th>\n",
       "      <td>NZDUSD</td>\n",
       "      <td>2018.10.10</td>\n",
       "      <td>23:51:28</td>\n",
       "      <td>2018.10.11</td>\n",
       "      <td>00:35:16</td>\n",
       "      <td>0.0714</td>\n",
       "      <td>0.0124</td>\n",
       "      <td>0.0589</td>\n",
       "      <td>0</td>\n",
       "    </tr>\n",
       "    <tr>\n",
       "      <th>1704</th>\n",
       "      <td>NZDUSD</td>\n",
       "      <td>2018.10.11</td>\n",
       "      <td>23:49:00</td>\n",
       "      <td>2018.10.12</td>\n",
       "      <td>00:45:16</td>\n",
       "      <td>0.0092</td>\n",
       "      <td>-0.0490</td>\n",
       "      <td>0.0582</td>\n",
       "      <td>1</td>\n",
       "    </tr>\n",
       "    <tr>\n",
       "      <th>1705</th>\n",
       "      <td>NZDUSD</td>\n",
       "      <td>2018.10.12</td>\n",
       "      <td>23:54:20</td>\n",
       "      <td>2018.10.15</td>\n",
       "      <td>01:35:50</td>\n",
       "      <td>0.1460</td>\n",
       "      <td>0.0937</td>\n",
       "      <td>0.0523</td>\n",
       "      <td>1</td>\n",
       "    </tr>\n",
       "    <tr>\n",
       "      <th>1706</th>\n",
       "      <td>NZDUSD</td>\n",
       "      <td>2018.10.16</td>\n",
       "      <td>00:44:29</td>\n",
       "      <td>2018.10.16</td>\n",
       "      <td>00:57:35</td>\n",
       "      <td>0.7122</td>\n",
       "      <td>0.6602</td>\n",
       "      <td>0.0520</td>\n",
       "      <td>0</td>\n",
       "    </tr>\n",
       "    <tr>\n",
       "      <th>1707</th>\n",
       "      <td>NZDUSD</td>\n",
       "      <td>2018.10.17</td>\n",
       "      <td>00:10:17</td>\n",
       "      <td>2018.10.17</td>\n",
       "      <td>02:00:17</td>\n",
       "      <td>0.0152</td>\n",
       "      <td>-0.0365</td>\n",
       "      <td>0.0517</td>\n",
       "      <td>1</td>\n",
       "    </tr>\n",
       "    <tr>\n",
       "      <th>1708</th>\n",
       "      <td>NZDUSD</td>\n",
       "      <td>2018.10.23</td>\n",
       "      <td>23:59:57</td>\n",
       "      <td>2018.10.24</td>\n",
       "      <td>02:06:00</td>\n",
       "      <td>0.0107</td>\n",
       "      <td>-0.0428</td>\n",
       "      <td>0.0535</td>\n",
       "      <td>3</td>\n",
       "    </tr>\n",
       "    <tr>\n",
       "      <th>1709</th>\n",
       "      <td>NZDUSD</td>\n",
       "      <td>2018.10.31</td>\n",
       "      <td>00:51:35</td>\n",
       "      <td>2018.10.31</td>\n",
       "      <td>01:52:30</td>\n",
       "      <td>0.1114</td>\n",
       "      <td>0.0626</td>\n",
       "      <td>0.0488</td>\n",
       "      <td>0</td>\n",
       "    </tr>\n",
       "    <tr>\n",
       "      <th>1710</th>\n",
       "      <td>NZDUSD</td>\n",
       "      <td>2018.11.05</td>\n",
       "      <td>00:05:33</td>\n",
       "      <td>2018.11.05</td>\n",
       "      <td>00:31:11</td>\n",
       "      <td>0.1658</td>\n",
       "      <td>0.1175</td>\n",
       "      <td>0.0482</td>\n",
       "      <td>3</td>\n",
       "    </tr>\n",
       "  </tbody>\n",
       "</table>\n",
       "<p>1711 rows × 9 columns</p>\n",
       "</div>"
      ],
      "text/plain": [
       "       Asset          Di        Ti          Do        To    GROI     ROI  \\\n",
       "0     AUDCAD  2018.03.19  00:57:38  2018.03.19  01:36:09  0.0337  0.0079   \n",
       "1     AUDCAD  2018.03.20  02:51:09  2018.03.20  03:11:27  0.0407  0.0179   \n",
       "2     AUDCAD  2018.03.22  00:59:23  2018.03.22  01:30:28  0.0929  0.0679   \n",
       "3     AUDCAD  2018.03.22  02:30:14  2018.03.22  02:42:32 -0.1387 -0.1636   \n",
       "4     AUDCAD  2018.03.23  01:00:56  2018.03.23  01:13:22 -0.0392 -0.0643   \n",
       "5     AUDCAD  2018.03.26  00:13:48  2018.03.26  01:01:16  0.0413  0.0111   \n",
       "6     AUDCAD  2018.03.28  23:43:57  2018.03.29  01:00:00  0.0808  0.0262   \n",
       "7     AUDCAD  2018.03.30  02:16:01  2018.03.30  02:26:22  0.0718 -0.0071   \n",
       "8     AUDCAD  2018.03.30  23:53:50  2018.04.02  01:53:14  0.0505  0.0212   \n",
       "9     AUDCAD  2018.04.03  00:14:29  2018.04.03  00:38:47  0.0253 -0.0162   \n",
       "10    AUDCAD  2018.04.05  00:08:52  2018.04.05  00:27:33  0.0843  0.0183   \n",
       "11    AUDCAD  2018.04.05  00:53:15  2018.04.05  01:03:06  0.0244 -0.0061   \n",
       "12    AUDCAD  2018.04.06  00:05:32  2018.04.06  00:37:16  0.0460  0.0133   \n",
       "13    AUDCAD  2018.04.09  00:33:45  2018.04.09  01:06:08  0.0337  0.0102   \n",
       "14    AUDCAD  2018.04.12  00:06:02  2018.04.12  00:29:32  0.1149  0.0410   \n",
       "15    AUDCAD  2018.04.13  00:09:27  2018.04.13  00:52:06  0.0338 -0.0533   \n",
       "16    AUDCAD  2018.04.16  00:06:47  2018.04.16  01:05:37  0.0327 -0.0296   \n",
       "17    AUDCAD  2018.04.17  00:10:28  2018.04.17  01:00:16  0.0471  0.0143   \n",
       "18    AUDCAD  2018.04.18  00:41:06  2018.04.18  01:29:19  0.0616  0.0339   \n",
       "19    AUDCAD  2018.04.20  23:43:42  2018.04.23  00:21:39 -0.0470 -0.2003   \n",
       "20    AUDCAD  2018.04.24  00:13:51  2018.04.24  00:52:30  0.0123 -0.0297   \n",
       "21    AUDCAD  2018.04.25  00:29:51  2018.04.25  00:53:25  0.0236 -0.0308   \n",
       "22    AUDCAD  2018.04.26  00:05:31  2018.04.26  00:41:49  0.0402 -0.0062   \n",
       "23    AUDCAD  2018.04.27  00:31:53  2018.04.27  01:17:43  0.0813  0.0556   \n",
       "24    AUDCAD  2018.04.30  00:54:23  2018.04.30  01:07:44  0.0411 -0.0062   \n",
       "25    AUDCAD  2018.05.03  00:05:48  2018.05.03  00:59:34  0.0280 -0.0176   \n",
       "26    AUDCAD  2018.05.03  02:17:37  2018.05.03  02:58:46  0.0207 -0.0031   \n",
       "27    AUDCAD  2018.05.04  00:08:30  2018.05.04  00:29:44  0.0455  0.0000   \n",
       "28    AUDCAD  2018.05.08  00:08:32  2018.05.08  00:29:55 -0.0010 -0.0413   \n",
       "29    AUDCAD  2018.05.14  01:00:05  2018.05.14  01:39:24  0.0021 -0.0259   \n",
       "...      ...         ...       ...         ...       ...     ...     ...   \n",
       "1681  NZDUSD  2018.08.15  23:38:24  2018.08.15  23:57:56  0.0518  0.0152   \n",
       "1682  NZDUSD  2018.08.17  01:04:05  2018.08.17  01:36:55  0.0349 -0.0015   \n",
       "1683  NZDUSD  2018.08.17  23:55:06  2018.08.20  00:40:04  0.0513 -0.0030   \n",
       "1684  NZDUSD  2018.08.21  23:48:39  2018.08.22  00:21:52  0.1180  0.0045   \n",
       "1685  NZDUSD  2018.08.23  00:25:00  2018.08.23  01:43:02  0.0837  0.0508   \n",
       "1686  NZDUSD  2018.08.29  00:08:42  2018.08.29  00:53:20  0.0388 -0.0045   \n",
       "1687  NZDUSD  2018.09.05  00:10:14  2018.09.05  00:17:51  0.0565 -0.0397   \n",
       "1688  NZDUSD  2018.09.14  00:09:13  2018.09.14  00:53:36  0.1586  0.0794   \n",
       "1689  NZDUSD  2018.09.18  00:08:32  2018.09.18  01:02:10  0.1994  0.1583   \n",
       "1690  NZDUSD  2018.09.18  23:40:24  2018.09.19  01:20:38 -0.0790 -0.1124   \n",
       "1691  NZDUSD  2018.09.19  01:45:18  2018.09.19  02:21:37  0.0380  0.0046   \n",
       "1692  NZDUSD  2018.09.20  00:21:35  2018.09.20  01:19:24 -0.1467 -0.1800   \n",
       "1693  NZDUSD  2018.09.21  00:31:12  2018.09.21  01:04:28  0.0898  0.0569   \n",
       "1694  NZDUSD  2018.09.24  00:07:58  2018.09.24  01:20:09  0.0120 -0.0195   \n",
       "1695  NZDUSD  2018.09.26  00:48:10  2018.09.26  02:06:52 -0.0738 -0.1069   \n",
       "1696  NZDUSD  2018.09.27  00:36:55  2018.09.27  01:17:58  0.0135 -0.0165   \n",
       "1697  NZDUSD  2018.09.28  00:37:25  2018.09.28  01:41:53 -0.0439 -0.0938   \n",
       "1698  NZDUSD  2018.10.01  00:22:18  2018.10.01  02:01:01  0.1239  0.0665   \n",
       "1699  NZDUSD  2018.10.02  00:08:26  2018.10.02  01:25:28 -0.2103 -0.2648   \n",
       "1700  NZDUSD  2018.10.03  00:22:46  2018.10.03  02:08:00 -0.0304 -0.0850   \n",
       "1701  NZDUSD  2018.10.09  00:20:40  2018.10.09  01:26:05  0.0589  0.0093   \n",
       "1702  NZDUSD  2018.10.09  22:58:27  2018.10.10  01:30:54 -0.1577 -0.2040   \n",
       "1703  NZDUSD  2018.10.10  23:51:28  2018.10.11  00:35:16  0.0714  0.0124   \n",
       "1704  NZDUSD  2018.10.11  23:49:00  2018.10.12  00:45:16  0.0092 -0.0490   \n",
       "1705  NZDUSD  2018.10.12  23:54:20  2018.10.15  01:35:50  0.1460  0.0937   \n",
       "1706  NZDUSD  2018.10.16  00:44:29  2018.10.16  00:57:35  0.7122  0.6602   \n",
       "1707  NZDUSD  2018.10.17  00:10:17  2018.10.17  02:00:17  0.0152 -0.0365   \n",
       "1708  NZDUSD  2018.10.23  23:59:57  2018.10.24  02:06:00  0.0107 -0.0428   \n",
       "1709  NZDUSD  2018.10.31  00:51:35  2018.10.31  01:52:30  0.1114  0.0626   \n",
       "1710  NZDUSD  2018.11.05  00:05:33  2018.11.05  00:31:11  0.1658  0.1175   \n",
       "\n",
       "      spread  ext  \n",
       "0     0.0257    0  \n",
       "1     0.0228    0  \n",
       "2     0.0250    0  \n",
       "3     0.0249    0  \n",
       "4     0.0251    0  \n",
       "5     0.0302    0  \n",
       "6     0.0546    3  \n",
       "7     0.0789    0  \n",
       "8     0.0293    1  \n",
       "9     0.0415    1  \n",
       "10    0.0660    2  \n",
       "11    0.0305    0  \n",
       "12    0.0327    0  \n",
       "13    0.0235    1  \n",
       "14    0.0739    0  \n",
       "15    0.0871    1  \n",
       "16    0.0624    1  \n",
       "17    0.0327    0  \n",
       "18    0.0277    0  \n",
       "19    0.1533    1  \n",
       "20    0.0420    0  \n",
       "21    0.0544    0  \n",
       "22    0.0463    1  \n",
       "23    0.0257    0  \n",
       "24    0.0473    0  \n",
       "25    0.0456    2  \n",
       "26    0.0239    0  \n",
       "27    0.0455    0  \n",
       "28    0.0403    1  \n",
       "29    0.0280    0  \n",
       "...      ...  ...  \n",
       "1681  0.0365    0  \n",
       "1682  0.0365    0  \n",
       "1683  0.0543    1  \n",
       "1684  0.1135    0  \n",
       "1685  0.0329    1  \n",
       "1686  0.0433    2  \n",
       "1687  0.0962    0  \n",
       "1688  0.0792    2  \n",
       "1689  0.0411    1  \n",
       "1690  0.0334    0  \n",
       "1691  0.0334    0  \n",
       "1692  0.0333    2  \n",
       "1693  0.0329    1  \n",
       "1694  0.0315    1  \n",
       "1695  0.0331    0  \n",
       "1696  0.0300    0  \n",
       "1697  0.0499    0  \n",
       "1698  0.0575    4  \n",
       "1699  0.0545    3  \n",
       "1700  0.0546    5  \n",
       "1701  0.0496    1  \n",
       "1702  0.0464    3  \n",
       "1703  0.0589    0  \n",
       "1704  0.0582    1  \n",
       "1705  0.0523    1  \n",
       "1706  0.0520    0  \n",
       "1707  0.0517    1  \n",
       "1708  0.0535    3  \n",
       "1709  0.0488    0  \n",
       "1710  0.0482    3  \n",
       "\n",
       "[1711 rows x 9 columns]"
      ]
     },
     "execution_count": 26,
     "metadata": {},
     "output_type": "execute_result"
    }
   ],
   "source": [
    "import pandas as pd\n",
    "positions = pd.read_csv('../../RNN/results/100318R20/positions/P_E29TI0MC0.5MD0.75.csv',sep='\\t')\n",
    "#positions = pd.read_csv('../../RNN/results/100318INVO/positions/P_E15TI1MC0.7MD0.7.csv',sep='\\t')\n",
    "positions"
   ]
  },
  {
   "cell_type": "code",
   "execution_count": 90,
   "metadata": {},
   "outputs": [
    {
     "name": "stdout",
     "output_type": "stream",
     "text": [
      "34\n",
      "1.9871420222092344\n",
      "82.46639392168322\n",
      "61.76470588235294\n",
      "37.697253068381066\n",
      "52.94117647058823\n",
      "0.06059999999999997\n",
      "25.48230000000001\n",
      "['EURCAD' 'EURCHF' 'EURGBP' 'EURUSD' 'GBPUSD' 'USDCAD' 'USDCHF' 'USDJPY'\n",
      " 'EURJPY' 'GBPJPY']\n"
     ]
    }
   ],
   "source": [
    "positions = pd.read_csv('../../RNN/results/100318R20/positions/P_E29TI0MC0.5MD0.75.csv',sep='\\t')\n",
    "pos_under_2p = positions['spread']<0.01\n",
    "per_under_2p = 100*sum(pos_under_2p)/positions.shape[0]\n",
    "tgsr = 100*sum(positions['GROI']>0)/positions.shape[0]\n",
    "gsr = 100*sum(positions[pos_under_2p]['GROI']>0)/sum(pos_under_2p)\n",
    "tsr = 100*sum(positions['ROI']>0)/positions.shape[0]\n",
    "sr = 100*sum(positions[pos_under_2p]['ROI']>0)/sum(pos_under_2p)\n",
    "print(positions[pos_under_2p].shape[0])\n",
    "print(per_under_2p)\n",
    "print(tgsr)\n",
    "print(gsr)\n",
    "print(tsr)\n",
    "print(sr)\n",
    "print(positions[pos_under_2p]['ROI'].sum())\n",
    "print(positions['GROI'].sum()-0.02*positions['GROI'].shape[0])\n",
    "print(positions['Asset'][pos_under_2p].unique())"
   ]
  },
  {
   "cell_type": "code",
   "execution_count": 194,
   "metadata": {},
   "outputs": [
    {
     "name": "stdout",
     "output_type": "stream",
     "text": [
      "Config file ../../config/C0318INVO.config loaded from disk\n",
      "IDresults: 100318NROI\n",
      "INFO:tensorflow:Restoring parameters from ../../RNN/weights/000318INVO/000000/000000\n",
      "Parameters loaded. Epoch 0\n",
      "Epoch 0 of 37. Getting output...\n"
     ]
    },
    {
     "name": "stderr",
     "output_type": "stream",
     "text": [
      "100%|██████████████████████████████████████████████████████████████████████████████████| 70/70 [05:08<00:00,  3.62s/it]\n"
     ]
    },
    {
     "name": "stdout",
     "output_type": "stream",
     "text": [
      "Getting results\n",
      "Epoch 0, J_train = 1.6275092499392205, J_test = 6.21778084891183\n"
     ]
    },
    {
     "name": "stderr",
     "output_type": "stream",
     "text": [
      "0it [00:00, ?it/s]\n"
     ]
    },
    {
     "name": "stdout",
     "output_type": "stream",
     "text": [
      "count_dif_dir\n",
      "0\n"
     ]
    },
    {
     "name": "stderr",
     "output_type": "stream",
     "text": [
      "C:\\ProgramData\\Anaconda3\\envs\\py35\\lib\\site-packages\\numpy\\core\\fromnumeric.py:3194: RuntimeWarning: Degrees of freedom <= 0 for slice\n",
      "  **kwargs)\n",
      "C:\\ProgramData\\Anaconda3\\envs\\py35\\lib\\site-packages\\numpy\\core\\_methods.py:105: RuntimeWarning: invalid value encountered in true_divide\n",
      "  arrmean, rcount, out=arrmean, casting='unsafe', subok=False)\n",
      "C:\\ProgramData\\Anaconda3\\envs\\py35\\lib\\site-packages\\numpy\\core\\_methods.py:127: RuntimeWarning: invalid value encountered in double_scalars\n",
      "  ret = ret.dtype.type(ret / rcount)\n"
     ]
    },
    {
     "name": "stdout",
     "output_type": "stream",
     "text": [
      "Epoch = 0. Time index = 0. Threshold MC = 0.5. Threshold MD = 0.5\n",
      "J_test = 6.21778084891183, J_train = 1.6275092499392205, Accuracy=0.5611276364273623\n",
      "RD = 710855 NZ = 1356206 NZA = 2550090 pNZ = 39.219% pNZA = 73.745% AD = 52.41% ADA = 27.88% NO = 1 GSP = 0.00% NSP = 0.00%\n",
      "SI2 = -0.55 SI = -0.55 eGROI = 0.00% eROI = 0.00% eROI2 = 0.00% eROI3 = 0.00% mSpread = 0.0000%\n"
     ]
    },
    {
     "name": "stderr",
     "output_type": "stream",
     "text": [
      "0it [00:00, ?it/s]\n"
     ]
    },
    {
     "name": "stdout",
     "output_type": "stream",
     "text": [
      "count_dif_dir\n",
      "0\n",
      "Epoch = 0. Time index = 0. Threshold MC = 0.5. Threshold MD = 0.6\n",
      "RD = 0 NZ = 0 NZA = 0 pNZ = 0.000% pNZA = 0.000% AD = 0.00% ADA = 0.00% NO = 1 GSP = 0.00% NSP = 0.00%\n",
      "SI2 = -0.55 SI = -0.55 eGROI = 0.00% eROI = 0.00% eROI2 = 0.00% eROI3 = 0.00% mSpread = 0.0000%\n"
     ]
    },
    {
     "name": "stderr",
     "output_type": "stream",
     "text": [
      "0it [00:00, ?it/s]\n"
     ]
    },
    {
     "name": "stdout",
     "output_type": "stream",
     "text": [
      "count_dif_dir\n",
      "0\n",
      "Epoch = 0. Time index = 0. Threshold MC = 0.5. Threshold MD = 0.7\n",
      "RD = 0 NZ = 0 NZA = 0 pNZ = 0.000% pNZA = 0.000% AD = 0.00% ADA = 0.00% NO = 1 GSP = 0.00% NSP = 0.00%\n",
      "SI2 = -0.55 SI = -0.55 eGROI = 0.00% eROI = 0.00% eROI2 = 0.00% eROI3 = 0.00% mSpread = 0.0000%\n"
     ]
    },
    {
     "name": "stderr",
     "output_type": "stream",
     "text": [
      "0it [00:00, ?it/s]\n"
     ]
    },
    {
     "name": "stdout",
     "output_type": "stream",
     "text": [
      "count_dif_dir\n",
      "0\n",
      "Epoch = 0. Time index = 0. Threshold MC = 0.5. Threshold MD = 0.8\n",
      "RD = 0 NZ = 0 NZA = 0 pNZ = 0.000% pNZA = 0.000% AD = 0.00% ADA = 0.00% NO = 1 GSP = 0.00% NSP = 0.00%\n",
      "SI2 = -0.55 SI = -0.55 eGROI = 0.00% eROI = 0.00% eROI2 = 0.00% eROI3 = 0.00% mSpread = 0.0000%\n"
     ]
    },
    {
     "name": "stderr",
     "output_type": "stream",
     "text": [
      "0it [00:00, ?it/s]\n"
     ]
    },
    {
     "name": "stdout",
     "output_type": "stream",
     "text": [
      "count_dif_dir\n",
      "0\n",
      "Epoch = 0. Time index = 0. Threshold MC = 0.5. Threshold MD = 0.9\n",
      "RD = 0 NZ = 0 NZA = 0 pNZ = 0.000% pNZA = 0.000% AD = 0.00% ADA = 0.00% NO = 1 GSP = 0.00% NSP = 0.00%\n",
      "SI2 = -0.55 SI = -0.55 eGROI = 0.00% eROI = 0.00% eROI2 = 0.00% eROI3 = 0.00% mSpread = 0.0000%\n",
      "\n"
     ]
    },
    {
     "name": "stderr",
     "output_type": "stream",
     "text": [
      "0it [00:00, ?it/s]\n"
     ]
    },
    {
     "name": "stdout",
     "output_type": "stream",
     "text": [
      "count_dif_dir\n",
      "0\n",
      "Epoch = 0. Time index = 0. Threshold MC = 0.6. Threshold MD = 0.5\n",
      "RD = 178285 NZ = 333046 NZA = 523094 pNZ = 9.631% pNZA = 15.127% AD = 53.53% ADA = 34.08% NO = 1 GSP = 0.00% NSP = 0.00%\n",
      "SI2 = -0.55 SI = -0.55 eGROI = 0.00% eROI = 0.00% eROI2 = 0.00% eROI3 = 0.00% mSpread = 0.0000%\n"
     ]
    },
    {
     "name": "stderr",
     "output_type": "stream",
     "text": [
      "0it [00:00, ?it/s]\n"
     ]
    },
    {
     "name": "stdout",
     "output_type": "stream",
     "text": [
      "count_dif_dir\n",
      "0\n",
      "Epoch = 0. Time index = 0. Threshold MC = 0.6. Threshold MD = 0.6\n",
      "RD = 0 NZ = 0 NZA = 0 pNZ = 0.000% pNZA = 0.000% AD = 0.00% ADA = 0.00% NO = 1 GSP = 0.00% NSP = 0.00%\n",
      "SI2 = -0.55 SI = -0.55 eGROI = 0.00% eROI = 0.00% eROI2 = 0.00% eROI3 = 0.00% mSpread = 0.0000%\n"
     ]
    },
    {
     "name": "stderr",
     "output_type": "stream",
     "text": [
      "0it [00:00, ?it/s]\n"
     ]
    },
    {
     "name": "stdout",
     "output_type": "stream",
     "text": [
      "count_dif_dir\n",
      "0\n",
      "Epoch = 0. Time index = 0. Threshold MC = 0.6. Threshold MD = 0.7\n",
      "RD = 0 NZ = 0 NZA = 0 pNZ = 0.000% pNZA = 0.000% AD = 0.00% ADA = 0.00% NO = 1 GSP = 0.00% NSP = 0.00%\n",
      "SI2 = -0.55 SI = -0.55 eGROI = 0.00% eROI = 0.00% eROI2 = 0.00% eROI3 = 0.00% mSpread = 0.0000%\n"
     ]
    },
    {
     "name": "stderr",
     "output_type": "stream",
     "text": [
      "0it [00:00, ?it/s]\n"
     ]
    },
    {
     "name": "stdout",
     "output_type": "stream",
     "text": [
      "count_dif_dir\n",
      "0\n",
      "Epoch = 0. Time index = 0. Threshold MC = 0.6. Threshold MD = 0.8\n",
      "RD = 0 NZ = 0 NZA = 0 pNZ = 0.000% pNZA = 0.000% AD = 0.00% ADA = 0.00% NO = 1 GSP = 0.00% NSP = 0.00%\n",
      "SI2 = -0.55 SI = -0.55 eGROI = 0.00% eROI = 0.00% eROI2 = 0.00% eROI3 = 0.00% mSpread = 0.0000%\n"
     ]
    },
    {
     "name": "stderr",
     "output_type": "stream",
     "text": [
      "0it [00:00, ?it/s]\n"
     ]
    },
    {
     "name": "stdout",
     "output_type": "stream",
     "text": [
      "count_dif_dir\n",
      "0\n",
      "Epoch = 0. Time index = 0. Threshold MC = 0.6. Threshold MD = 0.9\n",
      "RD = 0 NZ = 0 NZA = 0 pNZ = 0.000% pNZA = 0.000% AD = 0.00% ADA = 0.00% NO = 1 GSP = 0.00% NSP = 0.00%\n",
      "SI2 = -0.55 SI = -0.55 eGROI = 0.00% eROI = 0.00% eROI2 = 0.00% eROI3 = 0.00% mSpread = 0.0000%\n",
      "\n"
     ]
    },
    {
     "name": "stderr",
     "output_type": "stream",
     "text": [
      "100%|██████████████████████████████████████████████████████████████████████████| 39874/39874 [00:05<00:00, 6649.45it/s]\n"
     ]
    },
    {
     "name": "stdout",
     "output_type": "stream",
     "text": [
      "count_dif_dir\n",
      "286\n",
      "Epoch = 0. Time index = 0. Threshold MC = 0.7. Threshold MD = 0.5\n",
      "RD = 16165 NZ = 29661 NZA = 39875 pNZ = 0.858% pNZA = 1.153% AD = 54.50% ADA = 40.54% NO = 5633 GSP = 58.96% NSP = 43.69%\n",
      "SI2 = -378.15 SI = -637.15 eGROI = 45.70% eROI = -115.30% eROI2 = -66.96% eROI3 = -123.29% mSpread = 0.0286%\n"
     ]
    },
    {
     "name": "stderr",
     "output_type": "stream",
     "text": [
      "0it [00:00, ?it/s]\n"
     ]
    },
    {
     "name": "stdout",
     "output_type": "stream",
     "text": [
      "count_dif_dir\n",
      "0\n",
      "Epoch = 0. Time index = 0. Threshold MC = 0.7. Threshold MD = 0.6\n",
      "RD = 0 NZ = 0 NZA = 0 pNZ = 0.000% pNZA = 0.000% AD = 0.00% ADA = 0.00% NO = 1 GSP = 0.00% NSP = 0.00%\n",
      "SI2 = -0.55 SI = -0.55 eGROI = 0.00% eROI = 0.00% eROI2 = 0.00% eROI3 = 0.00% mSpread = 0.0000%\n"
     ]
    },
    {
     "name": "stderr",
     "output_type": "stream",
     "text": [
      "0it [00:00, ?it/s]\n"
     ]
    },
    {
     "name": "stdout",
     "output_type": "stream",
     "text": [
      "count_dif_dir\n",
      "0\n",
      "Epoch = 0. Time index = 0. Threshold MC = 0.7. Threshold MD = 0.7\n",
      "RD = 0 NZ = 0 NZA = 0 pNZ = 0.000% pNZA = 0.000% AD = 0.00% ADA = 0.00% NO = 1 GSP = 0.00% NSP = 0.00%\n",
      "SI2 = -0.55 SI = -0.55 eGROI = 0.00% eROI = 0.00% eROI2 = 0.00% eROI3 = 0.00% mSpread = 0.0000%\n"
     ]
    },
    {
     "name": "stderr",
     "output_type": "stream",
     "text": [
      "0it [00:00, ?it/s]\n"
     ]
    },
    {
     "name": "stdout",
     "output_type": "stream",
     "text": [
      "count_dif_dir\n",
      "0\n",
      "Epoch = 0. Time index = 0. Threshold MC = 0.7. Threshold MD = 0.8\n",
      "RD = 0 NZ = 0 NZA = 0 pNZ = 0.000% pNZA = 0.000% AD = 0.00% ADA = 0.00% NO = 1 GSP = 0.00% NSP = 0.00%\n",
      "SI2 = -0.55 SI = -0.55 eGROI = 0.00% eROI = 0.00% eROI2 = 0.00% eROI3 = 0.00% mSpread = 0.0000%\n"
     ]
    },
    {
     "name": "stderr",
     "output_type": "stream",
     "text": [
      "0it [00:00, ?it/s]\n"
     ]
    },
    {
     "name": "stdout",
     "output_type": "stream",
     "text": [
      "count_dif_dir\n",
      "0\n",
      "Epoch = 0. Time index = 0. Threshold MC = 0.7. Threshold MD = 0.9\n",
      "RD = 0 NZ = 0 NZA = 0 pNZ = 0.000% pNZA = 0.000% AD = 0.00% ADA = 0.00% NO = 1 GSP = 0.00% NSP = 0.00%\n",
      "SI2 = -0.55 SI = -0.55 eGROI = 0.00% eROI = 0.00% eROI2 = 0.00% eROI3 = 0.00% mSpread = 0.0000%\n",
      "\n"
     ]
    },
    {
     "name": "stderr",
     "output_type": "stream",
     "text": [
      "0it [00:00, ?it/s]\n"
     ]
    },
    {
     "name": "stdout",
     "output_type": "stream",
     "text": [
      "count_dif_dir\n",
      "0\n",
      "Epoch = 0. Time index = 0. Threshold MC = 0.8. Threshold MD = 0.5\n",
      "RD = 0 NZ = 0 NZA = 0 pNZ = 0.000% pNZA = 0.000% AD = 0.00% ADA = 0.00% NO = 1 GSP = 0.00% NSP = 0.00%\n",
      "SI2 = -0.55 SI = -0.55 eGROI = 0.00% eROI = 0.00% eROI2 = 0.00% eROI3 = 0.00% mSpread = 0.0000%\n"
     ]
    },
    {
     "name": "stderr",
     "output_type": "stream",
     "text": [
      "0it [00:00, ?it/s]\n"
     ]
    },
    {
     "name": "stdout",
     "output_type": "stream",
     "text": [
      "count_dif_dir\n",
      "0\n",
      "Epoch = 0. Time index = 0. Threshold MC = 0.8. Threshold MD = 0.6\n",
      "RD = 0 NZ = 0 NZA = 0 pNZ = 0.000% pNZA = 0.000% AD = 0.00% ADA = 0.00% NO = 1 GSP = 0.00% NSP = 0.00%\n",
      "SI2 = -0.55 SI = -0.55 eGROI = 0.00% eROI = 0.00% eROI2 = 0.00% eROI3 = 0.00% mSpread = 0.0000%\n"
     ]
    },
    {
     "name": "stderr",
     "output_type": "stream",
     "text": [
      "0it [00:00, ?it/s]\n"
     ]
    },
    {
     "name": "stdout",
     "output_type": "stream",
     "text": [
      "count_dif_dir\n",
      "0\n",
      "Epoch = 0. Time index = 0. Threshold MC = 0.8. Threshold MD = 0.7\n",
      "RD = 0 NZ = 0 NZA = 0 pNZ = 0.000% pNZA = 0.000% AD = 0.00% ADA = 0.00% NO = 1 GSP = 0.00% NSP = 0.00%\n",
      "SI2 = -0.55 SI = -0.55 eGROI = 0.00% eROI = 0.00% eROI2 = 0.00% eROI3 = 0.00% mSpread = 0.0000%\n"
     ]
    },
    {
     "name": "stderr",
     "output_type": "stream",
     "text": [
      "0it [00:00, ?it/s]\n"
     ]
    },
    {
     "name": "stdout",
     "output_type": "stream",
     "text": [
      "count_dif_dir\n",
      "0\n",
      "Epoch = 0. Time index = 0. Threshold MC = 0.8. Threshold MD = 0.8\n",
      "RD = 0 NZ = 0 NZA = 0 pNZ = 0.000% pNZA = 0.000% AD = 0.00% ADA = 0.00% NO = 1 GSP = 0.00% NSP = 0.00%\n",
      "SI2 = -0.55 SI = -0.55 eGROI = 0.00% eROI = 0.00% eROI2 = 0.00% eROI3 = 0.00% mSpread = 0.0000%\n"
     ]
    },
    {
     "name": "stderr",
     "output_type": "stream",
     "text": [
      "0it [00:00, ?it/s]\n"
     ]
    },
    {
     "name": "stdout",
     "output_type": "stream",
     "text": [
      "count_dif_dir\n",
      "0\n",
      "Epoch = 0. Time index = 0. Threshold MC = 0.8. Threshold MD = 0.9\n",
      "RD = 0 NZ = 0 NZA = 0 pNZ = 0.000% pNZA = 0.000% AD = 0.00% ADA = 0.00% NO = 1 GSP = 0.00% NSP = 0.00%\n",
      "SI2 = -0.55 SI = -0.55 eGROI = 0.00% eROI = 0.00% eROI2 = 0.00% eROI3 = 0.00% mSpread = 0.0000%\n",
      "\n"
     ]
    },
    {
     "name": "stderr",
     "output_type": "stream",
     "text": [
      "0it [00:00, ?it/s]\n"
     ]
    },
    {
     "name": "stdout",
     "output_type": "stream",
     "text": [
      "count_dif_dir\n",
      "0\n",
      "Epoch = 0. Time index = 0. Threshold MC = 0.9. Threshold MD = 0.5\n",
      "RD = 0 NZ = 0 NZA = 0 pNZ = 0.000% pNZA = 0.000% AD = 0.00% ADA = 0.00% NO = 1 GSP = 0.00% NSP = 0.00%\n",
      "SI2 = -0.55 SI = -0.55 eGROI = 0.00% eROI = 0.00% eROI2 = 0.00% eROI3 = 0.00% mSpread = 0.0000%\n"
     ]
    },
    {
     "name": "stderr",
     "output_type": "stream",
     "text": [
      "0it [00:00, ?it/s]\n"
     ]
    },
    {
     "name": "stdout",
     "output_type": "stream",
     "text": [
      "count_dif_dir\n",
      "0\n",
      "Epoch = 0. Time index = 0. Threshold MC = 0.9. Threshold MD = 0.6\n",
      "RD = 0 NZ = 0 NZA = 0 pNZ = 0.000% pNZA = 0.000% AD = 0.00% ADA = 0.00% NO = 1 GSP = 0.00% NSP = 0.00%\n",
      "SI2 = -0.55 SI = -0.55 eGROI = 0.00% eROI = 0.00% eROI2 = 0.00% eROI3 = 0.00% mSpread = 0.0000%\n"
     ]
    },
    {
     "name": "stderr",
     "output_type": "stream",
     "text": [
      "0it [00:00, ?it/s]\n"
     ]
    },
    {
     "name": "stdout",
     "output_type": "stream",
     "text": [
      "count_dif_dir\n",
      "0\n",
      "Epoch = 0. Time index = 0. Threshold MC = 0.9. Threshold MD = 0.7\n",
      "RD = 0 NZ = 0 NZA = 0 pNZ = 0.000% pNZA = 0.000% AD = 0.00% ADA = 0.00% NO = 1 GSP = 0.00% NSP = 0.00%\n",
      "SI2 = -0.55 SI = -0.55 eGROI = 0.00% eROI = 0.00% eROI2 = 0.00% eROI3 = 0.00% mSpread = 0.0000%\n"
     ]
    },
    {
     "name": "stderr",
     "output_type": "stream",
     "text": [
      "0it [00:00, ?it/s]\n"
     ]
    },
    {
     "name": "stdout",
     "output_type": "stream",
     "text": [
      "count_dif_dir\n",
      "0\n",
      "Epoch = 0. Time index = 0. Threshold MC = 0.9. Threshold MD = 0.8\n",
      "RD = 0 NZ = 0 NZA = 0 pNZ = 0.000% pNZA = 0.000% AD = 0.00% ADA = 0.00% NO = 1 GSP = 0.00% NSP = 0.00%\n",
      "SI2 = -0.55 SI = -0.55 eGROI = 0.00% eROI = 0.00% eROI2 = 0.00% eROI3 = 0.00% mSpread = 0.0000%\n"
     ]
    },
    {
     "name": "stderr",
     "output_type": "stream",
     "text": [
      "0it [00:00, ?it/s]\n"
     ]
    },
    {
     "name": "stdout",
     "output_type": "stream",
     "text": [
      "count_dif_dir\n",
      "0\n",
      "Epoch = 0. Time index = 0. Threshold MC = 0.9. Threshold MD = 0.9\n",
      "RD = 0 NZ = 0 NZA = 0 pNZ = 0.000% pNZA = 0.000% AD = 0.00% ADA = 0.00% NO = 1 GSP = 0.00% NSP = 0.00%\n",
      "SI2 = -0.55 SI = -0.55 eGROI = 0.00% eROI = 0.00% eROI2 = 0.00% eROI3 = 0.00% mSpread = 0.0000%\n",
      "\n"
     ]
    },
    {
     "name": "stderr",
     "output_type": "stream",
     "text": [
      "0it [00:00, ?it/s]\n"
     ]
    },
    {
     "name": "stdout",
     "output_type": "stream",
     "text": [
      "count_dif_dir\n",
      "0\n",
      "Epoch = 0. Time index = 1. Threshold MC = 0.5. Threshold MD = 0.5\n",
      "J_test = 6.21778084891183, J_train = 1.6275092499392205, Accuracy=0.5533063388773953\n",
      "RD = 752187 NZ = 1439454 NZA = 2743632 pNZ = 41.627% pNZA = 79.342% AD = 52.26% ADA = 27.42% NO = 1 GSP = 0.00% NSP = 0.00%\n",
      "SI2 = -0.55 SI = -0.55 eGROI = 0.00% eROI = 0.00% eROI2 = 0.00% eROI3 = 0.00% mSpread = 0.0000%\n"
     ]
    },
    {
     "name": "stderr",
     "output_type": "stream",
     "text": [
      "100%|██████████████████████████████████████████████████████████████████████████████████| 1/1 [00:00<00:00, 1043.10it/s]\n"
     ]
    },
    {
     "name": "stdout",
     "output_type": "stream",
     "text": [
      "count_dif_dir\n",
      "0\n",
      "Epoch = 0. Time index = 1. Threshold MC = 0.5. Threshold MD = 0.6\n",
      "RD = 1 NZ = 1 NZA = 2 pNZ = 0.000% pNZA = 0.000% AD = 100.00% ADA = 50.00% NO = 2 GSP = 50.00% NSP = 0.00%\n",
      "SI2 = -0.10 SI = -1.10 eGROI = 0.06% eROI = -0.10% eROI2 = 0.02% eROI3 = -0.00% mSpread = 0.0772%\n"
     ]
    },
    {
     "name": "stderr",
     "output_type": "stream",
     "text": [
      "0it [00:00, ?it/s]\n"
     ]
    },
    {
     "name": "stdout",
     "output_type": "stream",
     "text": [
      "count_dif_dir\n",
      "0\n",
      "Epoch = 0. Time index = 1. Threshold MC = 0.5. Threshold MD = 0.7\n",
      "RD = 0 NZ = 0 NZA = 0 pNZ = 0.000% pNZA = 0.000% AD = 0.00% ADA = 0.00% NO = 1 GSP = 0.00% NSP = 0.00%\n",
      "SI2 = -0.55 SI = -0.55 eGROI = 0.00% eROI = 0.00% eROI2 = 0.00% eROI3 = 0.00% mSpread = 0.0000%\n"
     ]
    },
    {
     "name": "stderr",
     "output_type": "stream",
     "text": [
      "0it [00:00, ?it/s]\n"
     ]
    },
    {
     "name": "stdout",
     "output_type": "stream",
     "text": [
      "count_dif_dir\n",
      "0\n",
      "Epoch = 0. Time index = 1. Threshold MC = 0.5. Threshold MD = 0.8\n",
      "RD = 0 NZ = 0 NZA = 0 pNZ = 0.000% pNZA = 0.000% AD = 0.00% ADA = 0.00% NO = 1 GSP = 0.00% NSP = 0.00%\n",
      "SI2 = -0.55 SI = -0.55 eGROI = 0.00% eROI = 0.00% eROI2 = 0.00% eROI3 = 0.00% mSpread = 0.0000%\n"
     ]
    },
    {
     "name": "stderr",
     "output_type": "stream",
     "text": [
      "0it [00:00, ?it/s]\n"
     ]
    },
    {
     "name": "stdout",
     "output_type": "stream",
     "text": [
      "count_dif_dir\n",
      "0\n",
      "Epoch = 0. Time index = 1. Threshold MC = 0.5. Threshold MD = 0.9\n",
      "RD = 0 NZ = 0 NZA = 0 pNZ = 0.000% pNZA = 0.000% AD = 0.00% ADA = 0.00% NO = 1 GSP = 0.00% NSP = 0.00%\n",
      "SI2 = -0.55 SI = -0.55 eGROI = 0.00% eROI = 0.00% eROI2 = 0.00% eROI3 = 0.00% mSpread = 0.0000%\n",
      "\n"
     ]
    },
    {
     "name": "stderr",
     "output_type": "stream",
     "text": [
      "100%|████████████████████████████████████████████████████████████████████████| 317233/317233 [00:45<00:00, 6938.71it/s]\n"
     ]
    },
    {
     "name": "stdout",
     "output_type": "stream",
     "text": [
      "count_dif_dir\n",
      "944\n",
      "Epoch = 0. Time index = 1. Threshold MC = 0.6. Threshold MD = 0.5\n",
      "RD = 113300 NZ = 210035 NZA = 317234 pNZ = 6.074% pNZA = 9.174% AD = 53.94% ADA = 35.71% NO = 24956 GSP = 57.12% NSP = 40.12%\n",
      "SI2 = -3034.80 SI = -3713.80 eGROI = 122.08% eROI = -483.54% eROI2 = -377.04% eROI3 = -626.60% mSpread = 0.0243%\n"
     ]
    },
    {
     "name": "stderr",
     "output_type": "stream",
     "text": [
      "0it [00:00, ?it/s]\n"
     ]
    },
    {
     "name": "stdout",
     "output_type": "stream",
     "text": [
      "count_dif_dir\n",
      "0\n",
      "Epoch = 0. Time index = 1. Threshold MC = 0.6. Threshold MD = 0.6\n",
      "RD = 0 NZ = 0 NZA = 0 pNZ = 0.000% pNZA = 0.000% AD = 0.00% ADA = 0.00% NO = 1 GSP = 0.00% NSP = 0.00%\n",
      "SI2 = -0.55 SI = -0.55 eGROI = 0.00% eROI = 0.00% eROI2 = 0.00% eROI3 = 0.00% mSpread = 0.0000%\n"
     ]
    },
    {
     "name": "stderr",
     "output_type": "stream",
     "text": [
      "0it [00:00, ?it/s]\n"
     ]
    },
    {
     "name": "stdout",
     "output_type": "stream",
     "text": [
      "count_dif_dir\n",
      "0\n",
      "Epoch = 0. Time index = 1. Threshold MC = 0.6. Threshold MD = 0.7\n",
      "RD = 0 NZ = 0 NZA = 0 pNZ = 0.000% pNZA = 0.000% AD = 0.00% ADA = 0.00% NO = 1 GSP = 0.00% NSP = 0.00%\n",
      "SI2 = -0.55 SI = -0.55 eGROI = 0.00% eROI = 0.00% eROI2 = 0.00% eROI3 = 0.00% mSpread = 0.0000%\n"
     ]
    },
    {
     "name": "stderr",
     "output_type": "stream",
     "text": [
      "0it [00:00, ?it/s]\n"
     ]
    },
    {
     "name": "stdout",
     "output_type": "stream",
     "text": [
      "count_dif_dir\n",
      "0\n",
      "Epoch = 0. Time index = 1. Threshold MC = 0.6. Threshold MD = 0.8\n",
      "RD = 0 NZ = 0 NZA = 0 pNZ = 0.000% pNZA = 0.000% AD = 0.00% ADA = 0.00% NO = 1 GSP = 0.00% NSP = 0.00%\n",
      "SI2 = -0.55 SI = -0.55 eGROI = 0.00% eROI = 0.00% eROI2 = 0.00% eROI3 = 0.00% mSpread = 0.0000%\n"
     ]
    },
    {
     "name": "stderr",
     "output_type": "stream",
     "text": [
      "0it [00:00, ?it/s]\n"
     ]
    },
    {
     "name": "stdout",
     "output_type": "stream",
     "text": [
      "count_dif_dir\n",
      "0\n",
      "Epoch = 0. Time index = 1. Threshold MC = 0.6. Threshold MD = 0.9\n",
      "RD = 0 NZ = 0 NZA = 0 pNZ = 0.000% pNZA = 0.000% AD = 0.00% ADA = 0.00% NO = 1 GSP = 0.00% NSP = 0.00%\n",
      "SI2 = -0.55 SI = -0.55 eGROI = 0.00% eROI = 0.00% eROI2 = 0.00% eROI3 = 0.00% mSpread = 0.0000%\n",
      "\n"
     ]
    },
    {
     "name": "stderr",
     "output_type": "stream",
     "text": [
      "100%|██████████████████████████████████████████████████████████████████████████| 26292/26292 [00:04<00:00, 6533.28it/s]\n"
     ]
    },
    {
     "name": "stdout",
     "output_type": "stream",
     "text": [
      "count_dif_dir\n",
      "193\n",
      "Epoch = 0. Time index = 1. Threshold MC = 0.7. Threshold MD = 0.5\n",
      "RD = 10874 NZ = 20044 NZA = 26293 pNZ = 0.580% pNZA = 0.760% AD = 54.25% ADA = 41.36% NO = 3942 GSP = 59.08% NSP = 44.27%\n",
      "SI2 = -223.10 SI = -423.10 eGROI = 33.86% eROI = -81.66% eROI2 = -44.98% eROI3 = -84.40% mSpread = 0.0293%\n"
     ]
    },
    {
     "name": "stderr",
     "output_type": "stream",
     "text": [
      "0it [00:00, ?it/s]\n"
     ]
    },
    {
     "name": "stdout",
     "output_type": "stream",
     "text": [
      "count_dif_dir\n",
      "0\n",
      "Epoch = 0. Time index = 1. Threshold MC = 0.7. Threshold MD = 0.6\n",
      "RD = 0 NZ = 0 NZA = 0 pNZ = 0.000% pNZA = 0.000% AD = 0.00% ADA = 0.00% NO = 1 GSP = 0.00% NSP = 0.00%\n",
      "SI2 = -0.55 SI = -0.55 eGROI = 0.00% eROI = 0.00% eROI2 = 0.00% eROI3 = 0.00% mSpread = 0.0000%\n"
     ]
    },
    {
     "name": "stderr",
     "output_type": "stream",
     "text": [
      "0it [00:00, ?it/s]\n"
     ]
    },
    {
     "name": "stdout",
     "output_type": "stream",
     "text": [
      "count_dif_dir\n",
      "0\n",
      "Epoch = 0. Time index = 1. Threshold MC = 0.7. Threshold MD = 0.7\n",
      "RD = 0 NZ = 0 NZA = 0 pNZ = 0.000% pNZA = 0.000% AD = 0.00% ADA = 0.00% NO = 1 GSP = 0.00% NSP = 0.00%\n",
      "SI2 = -0.55 SI = -0.55 eGROI = 0.00% eROI = 0.00% eROI2 = 0.00% eROI3 = 0.00% mSpread = 0.0000%\n"
     ]
    },
    {
     "name": "stderr",
     "output_type": "stream",
     "text": [
      "0it [00:00, ?it/s]\n"
     ]
    },
    {
     "name": "stdout",
     "output_type": "stream",
     "text": [
      "count_dif_dir\n",
      "0\n",
      "Epoch = 0. Time index = 1. Threshold MC = 0.7. Threshold MD = 0.8\n",
      "RD = 0 NZ = 0 NZA = 0 pNZ = 0.000% pNZA = 0.000% AD = 0.00% ADA = 0.00% NO = 1 GSP = 0.00% NSP = 0.00%\n",
      "SI2 = -0.55 SI = -0.55 eGROI = 0.00% eROI = 0.00% eROI2 = 0.00% eROI3 = 0.00% mSpread = 0.0000%\n"
     ]
    },
    {
     "name": "stderr",
     "output_type": "stream",
     "text": [
      "0it [00:00, ?it/s]\n"
     ]
    },
    {
     "name": "stdout",
     "output_type": "stream",
     "text": [
      "count_dif_dir\n",
      "0\n",
      "Epoch = 0. Time index = 1. Threshold MC = 0.7. Threshold MD = 0.9\n",
      "RD = 0 NZ = 0 NZA = 0 pNZ = 0.000% pNZA = 0.000% AD = 0.00% ADA = 0.00% NO = 1 GSP = 0.00% NSP = 0.00%\n",
      "SI2 = -0.55 SI = -0.55 eGROI = 0.00% eROI = 0.00% eROI2 = 0.00% eROI3 = 0.00% mSpread = 0.0000%\n",
      "\n"
     ]
    },
    {
     "name": "stderr",
     "output_type": "stream",
     "text": [
      "100%|██████████████████████████████████████████████████████████████████████████████| 603/603 [00:00<00:00, 4954.14it/s]\n"
     ]
    },
    {
     "name": "stdout",
     "output_type": "stream",
     "text": [
      "count_dif_dir\n",
      "10\n",
      "Epoch = 0. Time index = 1. Threshold MC = 0.8. Threshold MD = 0.5\n",
      "RD = 261 NZ = 507 NZA = 604 pNZ = 0.015% pNZA = 0.017% AD = 51.48% ADA = 43.21% NO = 225 GSP = 58.22% NSP = 44.00%\n",
      "SI2 = -12.75 SI = -24.75 eGROI = 4.48% eROI = -3.42% eROI2 = -0.02% eROI3 = -2.27% mSpread = 0.0351%\n"
     ]
    },
    {
     "name": "stderr",
     "output_type": "stream",
     "text": [
      "0it [00:00, ?it/s]\n"
     ]
    },
    {
     "name": "stdout",
     "output_type": "stream",
     "text": [
      "count_dif_dir\n",
      "0\n",
      "Epoch = 0. Time index = 1. Threshold MC = 0.8. Threshold MD = 0.6\n",
      "RD = 0 NZ = 0 NZA = 0 pNZ = 0.000% pNZA = 0.000% AD = 0.00% ADA = 0.00% NO = 1 GSP = 0.00% NSP = 0.00%\n",
      "SI2 = -0.55 SI = -0.55 eGROI = 0.00% eROI = 0.00% eROI2 = 0.00% eROI3 = 0.00% mSpread = 0.0000%\n"
     ]
    },
    {
     "name": "stderr",
     "output_type": "stream",
     "text": [
      "0it [00:00, ?it/s]\n"
     ]
    },
    {
     "name": "stdout",
     "output_type": "stream",
     "text": [
      "count_dif_dir\n",
      "0\n",
      "Epoch = 0. Time index = 1. Threshold MC = 0.8. Threshold MD = 0.7\n",
      "RD = 0 NZ = 0 NZA = 0 pNZ = 0.000% pNZA = 0.000% AD = 0.00% ADA = 0.00% NO = 1 GSP = 0.00% NSP = 0.00%\n",
      "SI2 = -0.55 SI = -0.55 eGROI = 0.00% eROI = 0.00% eROI2 = 0.00% eROI3 = 0.00% mSpread = 0.0000%\n"
     ]
    },
    {
     "name": "stderr",
     "output_type": "stream",
     "text": [
      "0it [00:00, ?it/s]\n"
     ]
    },
    {
     "name": "stdout",
     "output_type": "stream",
     "text": [
      "count_dif_dir\n",
      "0\n",
      "Epoch = 0. Time index = 1. Threshold MC = 0.8. Threshold MD = 0.8\n",
      "RD = 0 NZ = 0 NZA = 0 pNZ = 0.000% pNZA = 0.000% AD = 0.00% ADA = 0.00% NO = 1 GSP = 0.00% NSP = 0.00%\n",
      "SI2 = -0.55 SI = -0.55 eGROI = 0.00% eROI = 0.00% eROI2 = 0.00% eROI3 = 0.00% mSpread = 0.0000%\n"
     ]
    },
    {
     "name": "stderr",
     "output_type": "stream",
     "text": [
      "0it [00:00, ?it/s]\n"
     ]
    },
    {
     "name": "stdout",
     "output_type": "stream",
     "text": [
      "count_dif_dir\n",
      "0\n",
      "Epoch = 0. Time index = 1. Threshold MC = 0.8. Threshold MD = 0.9\n",
      "RD = 0 NZ = 0 NZA = 0 pNZ = 0.000% pNZA = 0.000% AD = 0.00% ADA = 0.00% NO = 1 GSP = 0.00% NSP = 0.00%\n",
      "SI2 = -0.55 SI = -0.55 eGROI = 0.00% eROI = 0.00% eROI2 = 0.00% eROI3 = 0.00% mSpread = 0.0000%\n",
      "\n"
     ]
    },
    {
     "name": "stderr",
     "output_type": "stream",
     "text": [
      "0it [00:00, ?it/s]\n"
     ]
    },
    {
     "name": "stdout",
     "output_type": "stream",
     "text": [
      "count_dif_dir\n",
      "0\n",
      "Epoch = 0. Time index = 1. Threshold MC = 0.9. Threshold MD = 0.5\n",
      "RD = 0 NZ = 0 NZA = 0 pNZ = 0.000% pNZA = 0.000% AD = 0.00% ADA = 0.00% NO = 1 GSP = 0.00% NSP = 0.00%\n",
      "SI2 = -0.55 SI = -0.55 eGROI = 0.00% eROI = 0.00% eROI2 = 0.00% eROI3 = 0.00% mSpread = 0.0000%\n"
     ]
    },
    {
     "name": "stderr",
     "output_type": "stream",
     "text": [
      "0it [00:00, ?it/s]\n"
     ]
    },
    {
     "name": "stdout",
     "output_type": "stream",
     "text": [
      "count_dif_dir\n",
      "0\n",
      "Epoch = 0. Time index = 1. Threshold MC = 0.9. Threshold MD = 0.6\n",
      "RD = 0 NZ = 0 NZA = 0 pNZ = 0.000% pNZA = 0.000% AD = 0.00% ADA = 0.00% NO = 1 GSP = 0.00% NSP = 0.00%\n",
      "SI2 = -0.55 SI = -0.55 eGROI = 0.00% eROI = 0.00% eROI2 = 0.00% eROI3 = 0.00% mSpread = 0.0000%\n"
     ]
    },
    {
     "name": "stderr",
     "output_type": "stream",
     "text": [
      "0it [00:00, ?it/s]\n"
     ]
    },
    {
     "name": "stdout",
     "output_type": "stream",
     "text": [
      "count_dif_dir\n",
      "0\n",
      "Epoch = 0. Time index = 1. Threshold MC = 0.9. Threshold MD = 0.7\n",
      "RD = 0 NZ = 0 NZA = 0 pNZ = 0.000% pNZA = 0.000% AD = 0.00% ADA = 0.00% NO = 1 GSP = 0.00% NSP = 0.00%\n",
      "SI2 = -0.55 SI = -0.55 eGROI = 0.00% eROI = 0.00% eROI2 = 0.00% eROI3 = 0.00% mSpread = 0.0000%\n"
     ]
    },
    {
     "name": "stderr",
     "output_type": "stream",
     "text": [
      "0it [00:00, ?it/s]\n"
     ]
    },
    {
     "name": "stdout",
     "output_type": "stream",
     "text": [
      "count_dif_dir\n",
      "0\n",
      "Epoch = 0. Time index = 1. Threshold MC = 0.9. Threshold MD = 0.8\n",
      "RD = 0 NZ = 0 NZA = 0 pNZ = 0.000% pNZA = 0.000% AD = 0.00% ADA = 0.00% NO = 1 GSP = 0.00% NSP = 0.00%\n",
      "SI2 = -0.55 SI = -0.55 eGROI = 0.00% eROI = 0.00% eROI2 = 0.00% eROI3 = 0.00% mSpread = 0.0000%\n"
     ]
    },
    {
     "name": "stderr",
     "output_type": "stream",
     "text": [
      "0it [00:00, ?it/s]\n"
     ]
    },
    {
     "name": "stdout",
     "output_type": "stream",
     "text": [
      "count_dif_dir\n",
      "0\n",
      "Epoch = 0. Time index = 1. Threshold MC = 0.9. Threshold MD = 0.9\n",
      "RD = 0 NZ = 0 NZA = 0 pNZ = 0.000% pNZA = 0.000% AD = 0.00% ADA = 0.00% NO = 1 GSP = 0.00% NSP = 0.00%\n",
      "SI2 = -0.55 SI = -0.55 eGROI = 0.00% eROI = 0.00% eROI2 = 0.00% eROI3 = 0.00% mSpread = 0.0000%\n",
      "\n"
     ]
    },
    {
     "name": "stderr",
     "output_type": "stream",
     "text": [
      "0it [00:00, ?it/s]\n"
     ]
    },
    {
     "name": "stdout",
     "output_type": "stream",
     "text": [
      "count_dif_dir\n",
      "0\n",
      "Epoch = 0. Time index = 2. Threshold MC = 0.5. Threshold MD = 0.5\n",
      "J_test = 6.21778084891183, J_train = 1.6275092499392205, Accuracy=0.5528797910002157\n",
      "RD = 754919 NZ = 1446070 NZA = 2758340 pNZ = 41.818% pNZA = 79.767% AD = 52.20% ADA = 27.37% NO = 1 GSP = 0.00% NSP = 0.00%\n",
      "SI2 = -0.55 SI = -0.55 eGROI = 0.00% eROI = 0.00% eROI2 = 0.00% eROI3 = 0.00% mSpread = 0.0000%\n"
     ]
    },
    {
     "name": "stderr",
     "output_type": "stream",
     "text": [
      "100%|██████████████████████████████████████████████████████████████████████████████████| 3/3 [00:00<00:00, 3016.76it/s]\n"
     ]
    },
    {
     "name": "stdout",
     "output_type": "stream",
     "text": [
      "count_dif_dir\n",
      "1\n",
      "Epoch = 0. Time index = 2. Threshold MC = 0.5. Threshold MD = 0.6\n",
      "RD = 3 NZ = 3 NZA = 4 pNZ = 0.000% pNZA = 0.000% AD = 100.00% ADA = 75.00% NO = 3 GSP = 66.67% NSP = 0.00%\n",
      "SI2 = 0.35 SI = -1.65 eGROI = 0.10% eROI = -0.16% eROI2 = 0.04% eROI3 = 0.01% mSpread = 0.0872%\n"
     ]
    },
    {
     "name": "stderr",
     "output_type": "stream",
     "text": [
      "0it [00:00, ?it/s]\n"
     ]
    },
    {
     "name": "stdout",
     "output_type": "stream",
     "text": [
      "count_dif_dir\n",
      "0\n",
      "Epoch = 0. Time index = 2. Threshold MC = 0.5. Threshold MD = 0.7\n",
      "RD = 0 NZ = 0 NZA = 0 pNZ = 0.000% pNZA = 0.000% AD = 0.00% ADA = 0.00% NO = 1 GSP = 0.00% NSP = 0.00%\n",
      "SI2 = -0.55 SI = -0.55 eGROI = 0.00% eROI = 0.00% eROI2 = 0.00% eROI3 = 0.00% mSpread = 0.0000%\n"
     ]
    },
    {
     "name": "stderr",
     "output_type": "stream",
     "text": [
      "0it [00:00, ?it/s]\n"
     ]
    },
    {
     "name": "stdout",
     "output_type": "stream",
     "text": [
      "count_dif_dir\n",
      "0\n",
      "Epoch = 0. Time index = 2. Threshold MC = 0.5. Threshold MD = 0.8\n",
      "RD = 0 NZ = 0 NZA = 0 pNZ = 0.000% pNZA = 0.000% AD = 0.00% ADA = 0.00% NO = 1 GSP = 0.00% NSP = 0.00%\n",
      "SI2 = -0.55 SI = -0.55 eGROI = 0.00% eROI = 0.00% eROI2 = 0.00% eROI3 = 0.00% mSpread = 0.0000%\n"
     ]
    },
    {
     "name": "stderr",
     "output_type": "stream",
     "text": [
      "0it [00:00, ?it/s]\n"
     ]
    },
    {
     "name": "stdout",
     "output_type": "stream",
     "text": [
      "count_dif_dir\n",
      "0\n",
      "Epoch = 0. Time index = 2. Threshold MC = 0.5. Threshold MD = 0.9\n",
      "RD = 0 NZ = 0 NZA = 0 pNZ = 0.000% pNZA = 0.000% AD = 0.00% ADA = 0.00% NO = 1 GSP = 0.00% NSP = 0.00%\n",
      "SI2 = -0.55 SI = -0.55 eGROI = 0.00% eROI = 0.00% eROI2 = 0.00% eROI3 = 0.00% mSpread = 0.0000%\n",
      "\n"
     ]
    },
    {
     "name": "stderr",
     "output_type": "stream",
     "text": [
      "100%|████████████████████████████████████████████████████████████████████████| 288369/288369 [00:40<00:00, 7129.77it/s]\n"
     ]
    },
    {
     "name": "stdout",
     "output_type": "stream",
     "text": [
      "count_dif_dir\n",
      "821\n",
      "Epoch = 0. Time index = 2. Threshold MC = 0.6. Threshold MD = 0.5\n",
      "RD = 103936 NZ = 192436 NZA = 288370 pNZ = 5.565% pNZA = 8.339% AD = 54.01% ADA = 36.04% NO = 21954 GSP = 57.07% NSP = 40.51%\n",
      "SI2 = -2585.70 SI = -3181.70 eGROI = 110.12% eROI = -418.79% eROI2 = -328.96% eROI3 = -548.50% mSpread = 0.0241%\n"
     ]
    },
    {
     "name": "stderr",
     "output_type": "stream",
     "text": [
      "0it [00:00, ?it/s]\n"
     ]
    },
    {
     "name": "stdout",
     "output_type": "stream",
     "text": [
      "count_dif_dir\n",
      "1\n",
      "Epoch = 0. Time index = 2. Threshold MC = 0.6. Threshold MD = 0.6\n",
      "RD = 1 NZ = 1 NZA = 1 pNZ = 0.000% pNZA = 0.000% AD = 100.00% ADA = 100.00% NO = 1 GSP = 0.00% NSP = 0.00%\n",
      "SI2 = -0.55 SI = -0.55 eGROI = -0.03% eROI = -0.07% eROI2 = -0.05% eROI3 = -0.06% mSpread = 0.0435%\n"
     ]
    },
    {
     "name": "stderr",
     "output_type": "stream",
     "text": [
      "0it [00:00, ?it/s]\n"
     ]
    },
    {
     "name": "stdout",
     "output_type": "stream",
     "text": [
      "count_dif_dir\n",
      "0\n",
      "Epoch = 0. Time index = 2. Threshold MC = 0.6. Threshold MD = 0.7\n",
      "RD = 0 NZ = 0 NZA = 0 pNZ = 0.000% pNZA = 0.000% AD = 0.00% ADA = 0.00% NO = 1 GSP = 0.00% NSP = 0.00%\n",
      "SI2 = -0.55 SI = -0.55 eGROI = 0.00% eROI = 0.00% eROI2 = 0.00% eROI3 = 0.00% mSpread = 0.0000%\n"
     ]
    },
    {
     "name": "stderr",
     "output_type": "stream",
     "text": [
      "0it [00:00, ?it/s]\n"
     ]
    },
    {
     "name": "stdout",
     "output_type": "stream",
     "text": [
      "count_dif_dir\n",
      "0\n",
      "Epoch = 0. Time index = 2. Threshold MC = 0.6. Threshold MD = 0.8\n",
      "RD = 0 NZ = 0 NZA = 0 pNZ = 0.000% pNZA = 0.000% AD = 0.00% ADA = 0.00% NO = 1 GSP = 0.00% NSP = 0.00%\n",
      "SI2 = -0.55 SI = -0.55 eGROI = 0.00% eROI = 0.00% eROI2 = 0.00% eROI3 = 0.00% mSpread = 0.0000%\n"
     ]
    },
    {
     "name": "stderr",
     "output_type": "stream",
     "text": [
      "0it [00:00, ?it/s]\n"
     ]
    },
    {
     "name": "stdout",
     "output_type": "stream",
     "text": [
      "count_dif_dir\n",
      "0\n",
      "Epoch = 0. Time index = 2. Threshold MC = 0.6. Threshold MD = 0.9\n",
      "RD = 0 NZ = 0 NZA = 0 pNZ = 0.000% pNZA = 0.000% AD = 0.00% ADA = 0.00% NO = 1 GSP = 0.00% NSP = 0.00%\n",
      "SI2 = -0.55 SI = -0.55 eGROI = 0.00% eROI = 0.00% eROI2 = 0.00% eROI3 = 0.00% mSpread = 0.0000%\n",
      "\n"
     ]
    },
    {
     "name": "stderr",
     "output_type": "stream",
     "text": [
      "100%|██████████████████████████████████████████████████████████████████████████| 28167/28167 [00:04<00:00, 6549.64it/s]\n"
     ]
    },
    {
     "name": "stdout",
     "output_type": "stream",
     "text": [
      "count_dif_dir\n",
      "187\n",
      "Epoch = 0. Time index = 2. Threshold MC = 0.7. Threshold MD = 0.5\n",
      "RD = 11523 NZ = 21389 NZA = 28168 pNZ = 0.619% pNZA = 0.815% AD = 53.87% ADA = 40.91% NO = 3708 GSP = 59.41% NSP = 45.31%\n",
      "SI2 = -197.40 SI = -359.40 eGROI = 33.62% eROI = -70.16% eROI2 = -40.54% eROI3 = -77.62% mSpread = 0.0280%\n"
     ]
    },
    {
     "name": "stderr",
     "output_type": "stream",
     "text": [
      "0it [00:00, ?it/s]\n"
     ]
    },
    {
     "name": "stdout",
     "output_type": "stream",
     "text": [
      "count_dif_dir\n",
      "0\n",
      "Epoch = 0. Time index = 2. Threshold MC = 0.7. Threshold MD = 0.6\n",
      "RD = 0 NZ = 0 NZA = 0 pNZ = 0.000% pNZA = 0.000% AD = 0.00% ADA = 0.00% NO = 1 GSP = 0.00% NSP = 0.00%\n",
      "SI2 = -0.55 SI = -0.55 eGROI = 0.00% eROI = 0.00% eROI2 = 0.00% eROI3 = 0.00% mSpread = 0.0000%\n"
     ]
    },
    {
     "name": "stderr",
     "output_type": "stream",
     "text": [
      "0it [00:00, ?it/s]\n"
     ]
    },
    {
     "name": "stdout",
     "output_type": "stream",
     "text": [
      "count_dif_dir\n",
      "0\n",
      "Epoch = 0. Time index = 2. Threshold MC = 0.7. Threshold MD = 0.7\n",
      "RD = 0 NZ = 0 NZA = 0 pNZ = 0.000% pNZA = 0.000% AD = 0.00% ADA = 0.00% NO = 1 GSP = 0.00% NSP = 0.00%\n",
      "SI2 = -0.55 SI = -0.55 eGROI = 0.00% eROI = 0.00% eROI2 = 0.00% eROI3 = 0.00% mSpread = 0.0000%\n"
     ]
    },
    {
     "name": "stderr",
     "output_type": "stream",
     "text": [
      "0it [00:00, ?it/s]\n"
     ]
    },
    {
     "name": "stdout",
     "output_type": "stream",
     "text": [
      "count_dif_dir\n",
      "0\n",
      "Epoch = 0. Time index = 2. Threshold MC = 0.7. Threshold MD = 0.8\n",
      "RD = 0 NZ = 0 NZA = 0 pNZ = 0.000% pNZA = 0.000% AD = 0.00% ADA = 0.00% NO = 1 GSP = 0.00% NSP = 0.00%\n",
      "SI2 = -0.55 SI = -0.55 eGROI = 0.00% eROI = 0.00% eROI2 = 0.00% eROI3 = 0.00% mSpread = 0.0000%\n"
     ]
    },
    {
     "name": "stderr",
     "output_type": "stream",
     "text": [
      "0it [00:00, ?it/s]\n"
     ]
    },
    {
     "name": "stdout",
     "output_type": "stream",
     "text": [
      "count_dif_dir\n",
      "0\n",
      "Epoch = 0. Time index = 2. Threshold MC = 0.7. Threshold MD = 0.9\n",
      "RD = 0 NZ = 0 NZA = 0 pNZ = 0.000% pNZA = 0.000% AD = 0.00% ADA = 0.00% NO = 1 GSP = 0.00% NSP = 0.00%\n",
      "SI2 = -0.55 SI = -0.55 eGROI = 0.00% eROI = 0.00% eROI2 = 0.00% eROI3 = 0.00% mSpread = 0.0000%\n",
      "\n"
     ]
    },
    {
     "name": "stderr",
     "output_type": "stream",
     "text": [
      "100%|████████████████████████████████████████████████████████████████████████████| 1772/1772 [00:00<00:00, 5713.45it/s]\n"
     ]
    },
    {
     "name": "stdout",
     "output_type": "stream",
     "text": [
      "count_dif_dir\n",
      "27\n",
      "Epoch = 0. Time index = 2. Threshold MC = 0.8. Threshold MD = 0.5\n",
      "RD = 714 NZ = 1453 NZA = 1773 pNZ = 0.042% pNZA = 0.051% AD = 49.14% ADA = 40.27% NO = 475 GSP = 54.74% NSP = 41.89%\n",
      "SI2 = -35.25 SI = -62.25 eGROI = 7.70% eROI = -6.55% eROI2 = -1.80% eROI3 = -6.55% mSpread = 0.0300%\n"
     ]
    },
    {
     "name": "stderr",
     "output_type": "stream",
     "text": [
      "0it [00:00, ?it/s]\n"
     ]
    },
    {
     "name": "stdout",
     "output_type": "stream",
     "text": [
      "count_dif_dir\n",
      "0\n",
      "Epoch = 0. Time index = 2. Threshold MC = 0.8. Threshold MD = 0.6\n",
      "RD = 0 NZ = 0 NZA = 0 pNZ = 0.000% pNZA = 0.000% AD = 0.00% ADA = 0.00% NO = 1 GSP = 0.00% NSP = 0.00%\n",
      "SI2 = -0.55 SI = -0.55 eGROI = 0.00% eROI = 0.00% eROI2 = 0.00% eROI3 = 0.00% mSpread = 0.0000%\n"
     ]
    },
    {
     "name": "stderr",
     "output_type": "stream",
     "text": [
      "0it [00:00, ?it/s]\n"
     ]
    },
    {
     "name": "stdout",
     "output_type": "stream",
     "text": [
      "count_dif_dir\n",
      "0\n",
      "Epoch = 0. Time index = 2. Threshold MC = 0.8. Threshold MD = 0.7\n",
      "RD = 0 NZ = 0 NZA = 0 pNZ = 0.000% pNZA = 0.000% AD = 0.00% ADA = 0.00% NO = 1 GSP = 0.00% NSP = 0.00%\n",
      "SI2 = -0.55 SI = -0.55 eGROI = 0.00% eROI = 0.00% eROI2 = 0.00% eROI3 = 0.00% mSpread = 0.0000%\n"
     ]
    },
    {
     "name": "stderr",
     "output_type": "stream",
     "text": [
      "0it [00:00, ?it/s]\n"
     ]
    },
    {
     "name": "stdout",
     "output_type": "stream",
     "text": [
      "count_dif_dir\n",
      "0\n",
      "Epoch = 0. Time index = 2. Threshold MC = 0.8. Threshold MD = 0.8\n",
      "RD = 0 NZ = 0 NZA = 0 pNZ = 0.000% pNZA = 0.000% AD = 0.00% ADA = 0.00% NO = 1 GSP = 0.00% NSP = 0.00%\n",
      "SI2 = -0.55 SI = -0.55 eGROI = 0.00% eROI = 0.00% eROI2 = 0.00% eROI3 = 0.00% mSpread = 0.0000%\n"
     ]
    },
    {
     "name": "stderr",
     "output_type": "stream",
     "text": [
      "0it [00:00, ?it/s]\n"
     ]
    },
    {
     "name": "stdout",
     "output_type": "stream",
     "text": [
      "count_dif_dir\n",
      "0\n",
      "Epoch = 0. Time index = 2. Threshold MC = 0.8. Threshold MD = 0.9\n",
      "RD = 0 NZ = 0 NZA = 0 pNZ = 0.000% pNZA = 0.000% AD = 0.00% ADA = 0.00% NO = 1 GSP = 0.00% NSP = 0.00%\n",
      "SI2 = -0.55 SI = -0.55 eGROI = 0.00% eROI = 0.00% eROI2 = 0.00% eROI3 = 0.00% mSpread = 0.0000%\n",
      "\n"
     ]
    },
    {
     "name": "stderr",
     "output_type": "stream",
     "text": [
      "0it [00:00, ?it/s]\n"
     ]
    },
    {
     "name": "stdout",
     "output_type": "stream",
     "text": [
      "count_dif_dir\n",
      "0\n",
      "Epoch = 0. Time index = 2. Threshold MC = 0.9. Threshold MD = 0.5\n",
      "RD = 0 NZ = 0 NZA = 0 pNZ = 0.000% pNZA = 0.000% AD = 0.00% ADA = 0.00% NO = 1 GSP = 0.00% NSP = 0.00%\n",
      "SI2 = -0.55 SI = -0.55 eGROI = 0.00% eROI = 0.00% eROI2 = 0.00% eROI3 = 0.00% mSpread = 0.0000%\n"
     ]
    },
    {
     "name": "stderr",
     "output_type": "stream",
     "text": [
      "0it [00:00, ?it/s]\n"
     ]
    },
    {
     "name": "stdout",
     "output_type": "stream",
     "text": [
      "count_dif_dir\n",
      "0\n",
      "Epoch = 0. Time index = 2. Threshold MC = 0.9. Threshold MD = 0.6\n",
      "RD = 0 NZ = 0 NZA = 0 pNZ = 0.000% pNZA = 0.000% AD = 0.00% ADA = 0.00% NO = 1 GSP = 0.00% NSP = 0.00%\n",
      "SI2 = -0.55 SI = -0.55 eGROI = 0.00% eROI = 0.00% eROI2 = 0.00% eROI3 = 0.00% mSpread = 0.0000%\n"
     ]
    },
    {
     "name": "stderr",
     "output_type": "stream",
     "text": [
      "0it [00:00, ?it/s]\n"
     ]
    },
    {
     "name": "stdout",
     "output_type": "stream",
     "text": [
      "count_dif_dir\n",
      "0\n",
      "Epoch = 0. Time index = 2. Threshold MC = 0.9. Threshold MD = 0.7\n",
      "RD = 0 NZ = 0 NZA = 0 pNZ = 0.000% pNZA = 0.000% AD = 0.00% ADA = 0.00% NO = 1 GSP = 0.00% NSP = 0.00%\n",
      "SI2 = -0.55 SI = -0.55 eGROI = 0.00% eROI = 0.00% eROI2 = 0.00% eROI3 = 0.00% mSpread = 0.0000%\n"
     ]
    },
    {
     "name": "stderr",
     "output_type": "stream",
     "text": [
      "0it [00:00, ?it/s]\n"
     ]
    },
    {
     "name": "stdout",
     "output_type": "stream",
     "text": [
      "count_dif_dir\n",
      "0\n",
      "Epoch = 0. Time index = 2. Threshold MC = 0.9. Threshold MD = 0.8\n",
      "RD = 0 NZ = 0 NZA = 0 pNZ = 0.000% pNZA = 0.000% AD = 0.00% ADA = 0.00% NO = 1 GSP = 0.00% NSP = 0.00%\n",
      "SI2 = -0.55 SI = -0.55 eGROI = 0.00% eROI = 0.00% eROI2 = 0.00% eROI3 = 0.00% mSpread = 0.0000%\n"
     ]
    },
    {
     "name": "stderr",
     "output_type": "stream",
     "text": [
      "0it [00:00, ?it/s]\n"
     ]
    },
    {
     "name": "stdout",
     "output_type": "stream",
     "text": [
      "count_dif_dir\n",
      "0\n",
      "Epoch = 0. Time index = 2. Threshold MC = 0.9. Threshold MD = 0.9\n",
      "RD = 0 NZ = 0 NZA = 0 pNZ = 0.000% pNZA = 0.000% AD = 0.00% ADA = 0.00% NO = 1 GSP = 0.00% NSP = 0.00%\n",
      "SI2 = -0.55 SI = -0.55 eGROI = 0.00% eROI = 0.00% eROI2 = 0.00% eROI3 = 0.00% mSpread = 0.0000%\n",
      "\n"
     ]
    },
    {
     "name": "stderr",
     "output_type": "stream",
     "text": [
      "0it [00:00, ?it/s]\n"
     ]
    },
    {
     "name": "stdout",
     "output_type": "stream",
     "text": [
      "count_dif_dir\n",
      "0\n",
      "Epoch = 0. Time index = 3. Threshold MC = 0.5. Threshold MD = 0.5\n",
      "J_test = 6.21778084891183, J_train = 1.6275092499392205, Accuracy=0.5540035639159582\n",
      "RD = 752290 NZ = 1440907 NZA = 2744127 pNZ = 41.669% pNZA = 79.356% AD = 52.21% ADA = 27.41% NO = 1 GSP = 0.00% NSP = 0.00%\n",
      "SI2 = -0.55 SI = -0.55 eGROI = 0.00% eROI = 0.00% eROI2 = 0.00% eROI3 = 0.00% mSpread = 0.0000%\n"
     ]
    },
    {
     "name": "stderr",
     "output_type": "stream",
     "text": [
      "100%|██████████████████████████████████████████████████████████████████████████████████| 6/6 [00:00<00:00, 2004.13it/s]\n"
     ]
    },
    {
     "name": "stdout",
     "output_type": "stream",
     "text": [
      "count_dif_dir\n",
      "1\n",
      "Epoch = 0. Time index = 3. Threshold MC = 0.5. Threshold MD = 0.6\n",
      "RD = 3 NZ = 4 NZA = 7 pNZ = 0.000% pNZA = 0.000% AD = 75.00% ADA = 42.86% NO = 5 GSP = 60.00% NSP = 20.00%\n",
      "SI2 = -0.75 SI = -1.75 eGROI = 0.02% eROI = -0.28% eROI2 = -0.08% eROI3 = -0.13% mSpread = 0.0610%\n"
     ]
    },
    {
     "name": "stderr",
     "output_type": "stream",
     "text": [
      "0it [00:00, ?it/s]\n"
     ]
    },
    {
     "name": "stdout",
     "output_type": "stream",
     "text": [
      "count_dif_dir\n",
      "0\n",
      "Epoch = 0. Time index = 3. Threshold MC = 0.5. Threshold MD = 0.7\n",
      "RD = 0 NZ = 0 NZA = 0 pNZ = 0.000% pNZA = 0.000% AD = 0.00% ADA = 0.00% NO = 1 GSP = 0.00% NSP = 0.00%\n",
      "SI2 = -0.55 SI = -0.55 eGROI = 0.00% eROI = 0.00% eROI2 = 0.00% eROI3 = 0.00% mSpread = 0.0000%\n"
     ]
    },
    {
     "name": "stderr",
     "output_type": "stream",
     "text": [
      "0it [00:00, ?it/s]\n"
     ]
    },
    {
     "name": "stdout",
     "output_type": "stream",
     "text": [
      "count_dif_dir\n",
      "0\n",
      "Epoch = 0. Time index = 3. Threshold MC = 0.5. Threshold MD = 0.8\n",
      "RD = 0 NZ = 0 NZA = 0 pNZ = 0.000% pNZA = 0.000% AD = 0.00% ADA = 0.00% NO = 1 GSP = 0.00% NSP = 0.00%\n",
      "SI2 = -0.55 SI = -0.55 eGROI = 0.00% eROI = 0.00% eROI2 = 0.00% eROI3 = 0.00% mSpread = 0.0000%\n"
     ]
    },
    {
     "name": "stderr",
     "output_type": "stream",
     "text": [
      "0it [00:00, ?it/s]\n"
     ]
    },
    {
     "name": "stdout",
     "output_type": "stream",
     "text": [
      "count_dif_dir\n",
      "0\n",
      "Epoch = 0. Time index = 3. Threshold MC = 0.5. Threshold MD = 0.9\n",
      "RD = 0 NZ = 0 NZA = 0 pNZ = 0.000% pNZA = 0.000% AD = 0.00% ADA = 0.00% NO = 1 GSP = 0.00% NSP = 0.00%\n",
      "SI2 = -0.55 SI = -0.55 eGROI = 0.00% eROI = 0.00% eROI2 = 0.00% eROI3 = 0.00% mSpread = 0.0000%\n",
      "\n"
     ]
    },
    {
     "name": "stderr",
     "output_type": "stream",
     "text": [
      "100%|████████████████████████████████████████████████████████████████████████| 265994/265994 [00:37<00:00, 7056.36it/s]\n"
     ]
    },
    {
     "name": "stdout",
     "output_type": "stream",
     "text": [
      "count_dif_dir\n",
      "703\n",
      "Epoch = 0. Time index = 3. Threshold MC = 0.6. Threshold MD = 0.5\n",
      "RD = 96489 NZ = 178922 NZA = 265995 pNZ = 5.174% pNZA = 7.692% AD = 53.93% ADA = 36.27% NO = 19317 GSP = 57.32% NSP = 41.67%\n",
      "SI2 = -2078.35 SI = -2574.35 eGROI = 101.53% eROI = -364.00% eROI2 = -284.81% eROI3 = -477.98% mSpread = 0.0241%\n"
     ]
    },
    {
     "name": "stderr",
     "output_type": "stream",
     "text": [
      "0it [00:00, ?it/s]\n"
     ]
    },
    {
     "name": "stdout",
     "output_type": "stream",
     "text": [
      "count_dif_dir\n",
      "1\n",
      "Epoch = 0. Time index = 3. Threshold MC = 0.6. Threshold MD = 0.6\n",
      "RD = 1 NZ = 1 NZA = 1 pNZ = 0.000% pNZA = 0.000% AD = 100.00% ADA = 100.00% NO = 1 GSP = 0.00% NSP = 0.00%\n",
      "SI2 = -0.55 SI = -0.55 eGROI = -0.03% eROI = -0.07% eROI2 = -0.05% eROI3 = -0.06% mSpread = 0.0435%\n"
     ]
    },
    {
     "name": "stderr",
     "output_type": "stream",
     "text": [
      "0it [00:00, ?it/s]\n"
     ]
    },
    {
     "name": "stdout",
     "output_type": "stream",
     "text": [
      "count_dif_dir\n",
      "0\n",
      "Epoch = 0. Time index = 3. Threshold MC = 0.6. Threshold MD = 0.7\n",
      "RD = 0 NZ = 0 NZA = 0 pNZ = 0.000% pNZA = 0.000% AD = 0.00% ADA = 0.00% NO = 1 GSP = 0.00% NSP = 0.00%\n",
      "SI2 = -0.55 SI = -0.55 eGROI = 0.00% eROI = 0.00% eROI2 = 0.00% eROI3 = 0.00% mSpread = 0.0000%\n"
     ]
    },
    {
     "name": "stderr",
     "output_type": "stream",
     "text": [
      "0it [00:00, ?it/s]\n"
     ]
    },
    {
     "name": "stdout",
     "output_type": "stream",
     "text": [
      "count_dif_dir\n",
      "0\n",
      "Epoch = 0. Time index = 3. Threshold MC = 0.6. Threshold MD = 0.8\n",
      "RD = 0 NZ = 0 NZA = 0 pNZ = 0.000% pNZA = 0.000% AD = 0.00% ADA = 0.00% NO = 1 GSP = 0.00% NSP = 0.00%\n",
      "SI2 = -0.55 SI = -0.55 eGROI = 0.00% eROI = 0.00% eROI2 = 0.00% eROI3 = 0.00% mSpread = 0.0000%\n"
     ]
    },
    {
     "name": "stderr",
     "output_type": "stream",
     "text": [
      "0it [00:00, ?it/s]\n"
     ]
    },
    {
     "name": "stdout",
     "output_type": "stream",
     "text": [
      "count_dif_dir\n",
      "0\n",
      "Epoch = 0. Time index = 3. Threshold MC = 0.6. Threshold MD = 0.9\n",
      "RD = 0 NZ = 0 NZA = 0 pNZ = 0.000% pNZA = 0.000% AD = 0.00% ADA = 0.00% NO = 1 GSP = 0.00% NSP = 0.00%\n",
      "SI2 = -0.55 SI = -0.55 eGROI = 0.00% eROI = 0.00% eROI2 = 0.00% eROI3 = 0.00% mSpread = 0.0000%\n",
      "\n"
     ]
    },
    {
     "name": "stderr",
     "output_type": "stream",
     "text": [
      "100%|██████████████████████████████████████████████████████████████████████████| 28012/28012 [00:04<00:00, 6813.42it/s]\n"
     ]
    },
    {
     "name": "stdout",
     "output_type": "stream",
     "text": [
      "count_dif_dir\n",
      "165\n",
      "Epoch = 0. Time index = 3. Threshold MC = 0.7. Threshold MD = 0.5\n",
      "RD = 11300 NZ = 21313 NZA = 28013 pNZ = 0.616% pNZA = 0.810% AD = 53.02% ADA = 40.34% NO = 3410 GSP = 58.80% NSP = 45.34%\n",
      "SI2 = -216.50 SI = -329.50 eGROI = 34.32% eROI = -58.22% eROI2 = -33.88% eROI3 = -67.98% mSpread = 0.0271%\n"
     ]
    },
    {
     "name": "stderr",
     "output_type": "stream",
     "text": [
      "0it [00:00, ?it/s]\n"
     ]
    },
    {
     "name": "stdout",
     "output_type": "stream",
     "text": [
      "count_dif_dir\n",
      "0\n",
      "Epoch = 0. Time index = 3. Threshold MC = 0.7. Threshold MD = 0.6\n",
      "RD = 0 NZ = 0 NZA = 0 pNZ = 0.000% pNZA = 0.000% AD = 0.00% ADA = 0.00% NO = 1 GSP = 0.00% NSP = 0.00%\n",
      "SI2 = -0.55 SI = -0.55 eGROI = 0.00% eROI = 0.00% eROI2 = 0.00% eROI3 = 0.00% mSpread = 0.0000%\n"
     ]
    },
    {
     "name": "stderr",
     "output_type": "stream",
     "text": [
      "0it [00:00, ?it/s]\n"
     ]
    },
    {
     "name": "stdout",
     "output_type": "stream",
     "text": [
      "count_dif_dir\n",
      "0\n",
      "Epoch = 0. Time index = 3. Threshold MC = 0.7. Threshold MD = 0.7\n",
      "RD = 0 NZ = 0 NZA = 0 pNZ = 0.000% pNZA = 0.000% AD = 0.00% ADA = 0.00% NO = 1 GSP = 0.00% NSP = 0.00%\n",
      "SI2 = -0.55 SI = -0.55 eGROI = 0.00% eROI = 0.00% eROI2 = 0.00% eROI3 = 0.00% mSpread = 0.0000%\n"
     ]
    },
    {
     "name": "stderr",
     "output_type": "stream",
     "text": [
      "0it [00:00, ?it/s]\n"
     ]
    },
    {
     "name": "stdout",
     "output_type": "stream",
     "text": [
      "count_dif_dir\n",
      "0\n",
      "Epoch = 0. Time index = 3. Threshold MC = 0.7. Threshold MD = 0.8\n",
      "RD = 0 NZ = 0 NZA = 0 pNZ = 0.000% pNZA = 0.000% AD = 0.00% ADA = 0.00% NO = 1 GSP = 0.00% NSP = 0.00%\n",
      "SI2 = -0.55 SI = -0.55 eGROI = 0.00% eROI = 0.00% eROI2 = 0.00% eROI3 = 0.00% mSpread = 0.0000%\n"
     ]
    },
    {
     "name": "stderr",
     "output_type": "stream",
     "text": [
      "0it [00:00, ?it/s]\n"
     ]
    },
    {
     "name": "stdout",
     "output_type": "stream",
     "text": [
      "count_dif_dir\n",
      "0\n",
      "Epoch = 0. Time index = 3. Threshold MC = 0.7. Threshold MD = 0.9\n",
      "RD = 0 NZ = 0 NZA = 0 pNZ = 0.000% pNZA = 0.000% AD = 0.00% ADA = 0.00% NO = 1 GSP = 0.00% NSP = 0.00%\n",
      "SI2 = -0.55 SI = -0.55 eGROI = 0.00% eROI = 0.00% eROI2 = 0.00% eROI3 = 0.00% mSpread = 0.0000%\n",
      "\n"
     ]
    },
    {
     "name": "stderr",
     "output_type": "stream",
     "text": [
      "100%|████████████████████████████████████████████████████████████████████████████| 2182/2182 [00:00<00:00, 5881.16it/s]\n"
     ]
    },
    {
     "name": "stdout",
     "output_type": "stream",
     "text": [
      "count_dif_dir\n",
      "26\n",
      "Epoch = 0. Time index = 3. Threshold MC = 0.8. Threshold MD = 0.5\n",
      "RD = 869 NZ = 1802 NZA = 2183 pNZ = 0.052% pNZA = 0.063% AD = 48.22% ADA = 39.81% NO = 528 GSP = 52.84% NSP = 42.61%\n",
      "SI2 = -43.40 SI = -65.40 eGROI = 7.29% eROI = -8.06% eROI2 = -3.27% eROI3 = -8.55% mSpread = 0.0291%\n"
     ]
    },
    {
     "name": "stderr",
     "output_type": "stream",
     "text": [
      "0it [00:00, ?it/s]\n"
     ]
    },
    {
     "name": "stdout",
     "output_type": "stream",
     "text": [
      "count_dif_dir\n",
      "0\n",
      "Epoch = 0. Time index = 3. Threshold MC = 0.8. Threshold MD = 0.6\n",
      "RD = 0 NZ = 0 NZA = 0 pNZ = 0.000% pNZA = 0.000% AD = 0.00% ADA = 0.00% NO = 1 GSP = 0.00% NSP = 0.00%\n",
      "SI2 = -0.55 SI = -0.55 eGROI = 0.00% eROI = 0.00% eROI2 = 0.00% eROI3 = 0.00% mSpread = 0.0000%\n"
     ]
    },
    {
     "name": "stderr",
     "output_type": "stream",
     "text": [
      "0it [00:00, ?it/s]\n"
     ]
    },
    {
     "name": "stdout",
     "output_type": "stream",
     "text": [
      "count_dif_dir\n",
      "0\n",
      "Epoch = 0. Time index = 3. Threshold MC = 0.8. Threshold MD = 0.7\n",
      "RD = 0 NZ = 0 NZA = 0 pNZ = 0.000% pNZA = 0.000% AD = 0.00% ADA = 0.00% NO = 1 GSP = 0.00% NSP = 0.00%\n",
      "SI2 = -0.55 SI = -0.55 eGROI = 0.00% eROI = 0.00% eROI2 = 0.00% eROI3 = 0.00% mSpread = 0.0000%\n"
     ]
    },
    {
     "name": "stderr",
     "output_type": "stream",
     "text": [
      "0it [00:00, ?it/s]\n"
     ]
    },
    {
     "name": "stdout",
     "output_type": "stream",
     "text": [
      "count_dif_dir\n",
      "0\n",
      "Epoch = 0. Time index = 3. Threshold MC = 0.8. Threshold MD = 0.8\n",
      "RD = 0 NZ = 0 NZA = 0 pNZ = 0.000% pNZA = 0.000% AD = 0.00% ADA = 0.00% NO = 1 GSP = 0.00% NSP = 0.00%\n",
      "SI2 = -0.55 SI = -0.55 eGROI = 0.00% eROI = 0.00% eROI2 = 0.00% eROI3 = 0.00% mSpread = 0.0000%\n"
     ]
    },
    {
     "name": "stderr",
     "output_type": "stream",
     "text": [
      "0it [00:00, ?it/s]\n"
     ]
    },
    {
     "name": "stdout",
     "output_type": "stream",
     "text": [
      "count_dif_dir\n",
      "0\n",
      "Epoch = 0. Time index = 3. Threshold MC = 0.8. Threshold MD = 0.9\n",
      "RD = 0 NZ = 0 NZA = 0 pNZ = 0.000% pNZA = 0.000% AD = 0.00% ADA = 0.00% NO = 1 GSP = 0.00% NSP = 0.00%\n",
      "SI2 = -0.55 SI = -0.55 eGROI = 0.00% eROI = 0.00% eROI2 = 0.00% eROI3 = 0.00% mSpread = 0.0000%\n",
      "\n"
     ]
    },
    {
     "name": "stderr",
     "output_type": "stream",
     "text": [
      "0it [00:00, ?it/s]\n"
     ]
    },
    {
     "name": "stdout",
     "output_type": "stream",
     "text": [
      "count_dif_dir\n",
      "0\n",
      "Epoch = 0. Time index = 3. Threshold MC = 0.9. Threshold MD = 0.5\n",
      "RD = 0 NZ = 0 NZA = 0 pNZ = 0.000% pNZA = 0.000% AD = 0.00% ADA = 0.00% NO = 1 GSP = 0.00% NSP = 0.00%\n",
      "SI2 = -0.55 SI = -0.55 eGROI = 0.00% eROI = 0.00% eROI2 = 0.00% eROI3 = 0.00% mSpread = 0.0000%\n"
     ]
    },
    {
     "name": "stderr",
     "output_type": "stream",
     "text": [
      "0it [00:00, ?it/s]\n"
     ]
    },
    {
     "name": "stdout",
     "output_type": "stream",
     "text": [
      "count_dif_dir\n",
      "0\n",
      "Epoch = 0. Time index = 3. Threshold MC = 0.9. Threshold MD = 0.6\n",
      "RD = 0 NZ = 0 NZA = 0 pNZ = 0.000% pNZA = 0.000% AD = 0.00% ADA = 0.00% NO = 1 GSP = 0.00% NSP = 0.00%\n",
      "SI2 = -0.55 SI = -0.55 eGROI = 0.00% eROI = 0.00% eROI2 = 0.00% eROI3 = 0.00% mSpread = 0.0000%\n"
     ]
    },
    {
     "name": "stderr",
     "output_type": "stream",
     "text": [
      "0it [00:00, ?it/s]\n"
     ]
    },
    {
     "name": "stdout",
     "output_type": "stream",
     "text": [
      "count_dif_dir\n",
      "0\n",
      "Epoch = 0. Time index = 3. Threshold MC = 0.9. Threshold MD = 0.7\n",
      "RD = 0 NZ = 0 NZA = 0 pNZ = 0.000% pNZA = 0.000% AD = 0.00% ADA = 0.00% NO = 1 GSP = 0.00% NSP = 0.00%\n",
      "SI2 = -0.55 SI = -0.55 eGROI = 0.00% eROI = 0.00% eROI2 = 0.00% eROI3 = 0.00% mSpread = 0.0000%\n"
     ]
    },
    {
     "name": "stderr",
     "output_type": "stream",
     "text": [
      "0it [00:00, ?it/s]\n"
     ]
    },
    {
     "name": "stdout",
     "output_type": "stream",
     "text": [
      "count_dif_dir\n",
      "0\n",
      "Epoch = 0. Time index = 3. Threshold MC = 0.9. Threshold MD = 0.8\n",
      "RD = 0 NZ = 0 NZA = 0 pNZ = 0.000% pNZA = 0.000% AD = 0.00% ADA = 0.00% NO = 1 GSP = 0.00% NSP = 0.00%\n",
      "SI2 = -0.55 SI = -0.55 eGROI = 0.00% eROI = 0.00% eROI2 = 0.00% eROI3 = 0.00% mSpread = 0.0000%\n"
     ]
    },
    {
     "name": "stderr",
     "output_type": "stream",
     "text": [
      "0it [00:00, ?it/s]\n"
     ]
    },
    {
     "name": "stdout",
     "output_type": "stream",
     "text": [
      "count_dif_dir\n",
      "0\n",
      "Epoch = 0. Time index = 3. Threshold MC = 0.9. Threshold MD = 0.9\n",
      "RD = 0 NZ = 0 NZA = 0 pNZ = 0.000% pNZA = 0.000% AD = 0.00% ADA = 0.00% NO = 1 GSP = 0.00% NSP = 0.00%\n",
      "SI2 = -0.55 SI = -0.55 eGROI = 0.00% eROI = 0.00% eROI2 = 0.00% eROI3 = 0.00% mSpread = 0.0000%\n",
      "\n",
      "Best eGROI = 122.08 t_index 1 thr_mc 0.6 thr_md 0.5 epoch 0\n",
      "Best eROI = 0.00 t_index 0 thr_mc 0.5 thr_md 0.5 epoch 0\n",
      "Best eROI.5 = 17.54 t_index 0 thr_mc 0.7 thr_md 0.5 epoch 0\n",
      "Best eROI1 = 2.95 t_index 2 thr_mc 0.8 thr_md 0.5 epoch 0\n",
      "Best eROI2 = 0.04 t_index 2 thr_mc 0.5 thr_md 0.6 epoch 0\n",
      "Best eROI3 = 0.01 t_index 2 thr_mc 0.5 thr_md 0.6 epoch 0\n",
      "Best eROI4 = 0.00 t_index 0 thr_mc 0.5 thr_md 0.5 epoch 0\n",
      "Best eROI5 = 0.00 t_index 0 thr_mc 0.5 thr_md 0.5 epoch 0\n",
      "Best SI = -0.55 t_index 0 thr_mc 0.5 thr_md 0.5 epoch 0\n",
      "Best SI.5 = 85.60 t_index 2 thr_mc 0.7 thr_md 0.5 epoch 0\n",
      "Best SI1 = 0.35 t_index 2 thr_mc 0.5 thr_md 0.6 epoch 0\n",
      "Best SI2 = 0.35 t_index 2 thr_mc 0.5 thr_md 0.6 epoch 0\n",
      "Best SI3 = 0.35 t_index 2 thr_mc 0.5 thr_md 0.6 epoch 0\n",
      "Best SI4 = -0.10 t_index 1 thr_mc 0.5 thr_md 0.6 epoch 0\n",
      "Best SI5 = -0.10 t_index 1 thr_mc 0.5 thr_md 0.6 epoch 0\n",
      "Time=271.91 secs\n",
      "INFO:tensorflow:Restoring parameters from ../../RNN/weights/000318INVO/000001/000001\n",
      "Parameters loaded. Epoch 1\n",
      "Epoch 1 of 37. Getting output...\n"
     ]
    },
    {
     "name": "stderr",
     "output_type": "stream",
     "text": [
      "100%|██████████████████████████████████████████████████████████████████████████████████| 70/70 [05:21<00:00,  4.19s/it]\n"
     ]
    },
    {
     "name": "stdout",
     "output_type": "stream",
     "text": [
      "Getting results\n",
      "Epoch 1, J_train = 1.6192655121396213, J_test = 6.218795967102051\n"
     ]
    },
    {
     "name": "stderr",
     "output_type": "stream",
     "text": [
      "0it [00:00, ?it/s]\n"
     ]
    },
    {
     "name": "stdout",
     "output_type": "stream",
     "text": [
      "count_dif_dir\n",
      "0\n",
      "Epoch = 1. Time index = 0. Threshold MC = 0.5. Threshold MD = 0.5\n",
      "J_test = 6.218795967102051, J_train = 1.6192655121396213, Accuracy=0.5552881236925223\n",
      "RD = 742418 NZ = 1421157 NZA = 2700185 pNZ = 41.098% pNZA = 78.085% AD = 52.24% ADA = 27.50% NO = 1 GSP = 0.00% NSP = 0.00%\n",
      "SI2 = -0.55 SI = -0.55 eGROI = 0.00% eROI = 0.00% eROI2 = 0.00% eROI3 = 0.00% mSpread = 0.0000%\n"
     ]
    },
    {
     "name": "stderr",
     "output_type": "stream",
     "text": [
      "100%|██████████████████████████████████████████████████████████████████████████████| 958/958 [00:00<00:00, 4052.98it/s]\n"
     ]
    },
    {
     "name": "stdout",
     "output_type": "stream",
     "text": [
      "count_dif_dir\n",
      "167\n",
      "Epoch = 1. Time index = 0. Threshold MC = 0.5. Threshold MD = 0.6\n",
      "RD = 462 NZ = 580 NZA = 959 pNZ = 0.017% pNZA = 0.028% AD = 79.66% ADA = 48.18% NO = 647 GSP = 71.56% NSP = 20.09%\n",
      "SI2 = -10.85 SI = -225.85 eGROI = 15.22% eROI = -26.48% eROI2 = 2.28% eROI3 = -4.19% mSpread = 0.0645%\n"
     ]
    },
    {
     "name": "stderr",
     "output_type": "stream",
     "text": [
      "0it [00:00, ?it/s]\n"
     ]
    },
    {
     "name": "stdout",
     "output_type": "stream",
     "text": [
      "count_dif_dir\n",
      "0\n",
      "Epoch = 1. Time index = 0. Threshold MC = 0.5. Threshold MD = 0.7\n",
      "RD = 0 NZ = 0 NZA = 0 pNZ = 0.000% pNZA = 0.000% AD = 0.00% ADA = 0.00% NO = 1 GSP = 0.00% NSP = 0.00%\n",
      "SI2 = -0.55 SI = -0.55 eGROI = 0.00% eROI = 0.00% eROI2 = 0.00% eROI3 = 0.00% mSpread = 0.0000%\n"
     ]
    },
    {
     "name": "stderr",
     "output_type": "stream",
     "text": [
      "0it [00:00, ?it/s]\n"
     ]
    },
    {
     "name": "stdout",
     "output_type": "stream",
     "text": [
      "count_dif_dir\n",
      "0\n",
      "Epoch = 1. Time index = 0. Threshold MC = 0.5. Threshold MD = 0.8\n",
      "RD = 0 NZ = 0 NZA = 0 pNZ = 0.000% pNZA = 0.000% AD = 0.00% ADA = 0.00% NO = 1 GSP = 0.00% NSP = 0.00%\n",
      "SI2 = -0.55 SI = -0.55 eGROI = 0.00% eROI = 0.00% eROI2 = 0.00% eROI3 = 0.00% mSpread = 0.0000%\n"
     ]
    },
    {
     "name": "stderr",
     "output_type": "stream",
     "text": [
      "0it [00:00, ?it/s]\n"
     ]
    },
    {
     "name": "stdout",
     "output_type": "stream",
     "text": [
      "count_dif_dir\n",
      "0\n",
      "Epoch = 1. Time index = 0. Threshold MC = 0.5. Threshold MD = 0.9\n",
      "RD = 0 NZ = 0 NZA = 0 pNZ = 0.000% pNZA = 0.000% AD = 0.00% ADA = 0.00% NO = 1 GSP = 0.00% NSP = 0.00%\n",
      "SI2 = -0.55 SI = -0.55 eGROI = 0.00% eROI = 0.00% eROI2 = 0.00% eROI3 = 0.00% mSpread = 0.0000%\n",
      "\n"
     ]
    },
    {
     "name": "stderr",
     "output_type": "stream",
     "text": [
      "0it [00:00, ?it/s]\n"
     ]
    },
    {
     "name": "stdout",
     "output_type": "stream",
     "text": [
      "count_dif_dir\n",
      "0\n",
      "Epoch = 1. Time index = 0. Threshold MC = 0.6. Threshold MD = 0.5\n",
      "RD = 190322 NZ = 355469 NZA = 560148 pNZ = 10.280% pNZA = 16.199% AD = 53.54% ADA = 33.98% NO = 1 GSP = 0.00% NSP = 0.00%\n",
      "SI2 = -0.55 SI = -0.55 eGROI = 0.00% eROI = 0.00% eROI2 = 0.00% eROI3 = 0.00% mSpread = 0.0000%\n"
     ]
    },
    {
     "name": "stderr",
     "output_type": "stream",
     "text": [
      "100%|██████████████████████████████████████████████████████████████████████████████| 556/556 [00:00<00:00, 3619.14it/s]\n"
     ]
    },
    {
     "name": "stdout",
     "output_type": "stream",
     "text": [
      "count_dif_dir\n",
      "92\n",
      "Epoch = 1. Time index = 0. Threshold MC = 0.6. Threshold MD = 0.6\n",
      "RD = 289 NZ = 363 NZA = 557 pNZ = 0.010% pNZA = 0.016% AD = 79.61% ADA = 51.89% NO = 421 GSP = 71.02% NSP = 23.75%\n",
      "SI2 = 2.45 SI = -131.55 eGROI = 10.63% eROI = -16.26% eROI2 = 2.21% eROI3 = -2.00% mSpread = 0.0639%\n"
     ]
    },
    {
     "name": "stderr",
     "output_type": "stream",
     "text": [
      "0it [00:00, ?it/s]\n"
     ]
    },
    {
     "name": "stdout",
     "output_type": "stream",
     "text": [
      "count_dif_dir\n",
      "0\n",
      "Epoch = 1. Time index = 0. Threshold MC = 0.6. Threshold MD = 0.7\n",
      "RD = 0 NZ = 0 NZA = 0 pNZ = 0.000% pNZA = 0.000% AD = 0.00% ADA = 0.00% NO = 1 GSP = 0.00% NSP = 0.00%\n",
      "SI2 = -0.55 SI = -0.55 eGROI = 0.00% eROI = 0.00% eROI2 = 0.00% eROI3 = 0.00% mSpread = 0.0000%\n"
     ]
    },
    {
     "name": "stderr",
     "output_type": "stream",
     "text": [
      "0it [00:00, ?it/s]\n"
     ]
    },
    {
     "name": "stdout",
     "output_type": "stream",
     "text": [
      "count_dif_dir\n",
      "0\n",
      "Epoch = 1. Time index = 0. Threshold MC = 0.6. Threshold MD = 0.8\n",
      "RD = 0 NZ = 0 NZA = 0 pNZ = 0.000% pNZA = 0.000% AD = 0.00% ADA = 0.00% NO = 1 GSP = 0.00% NSP = 0.00%\n",
      "SI2 = -0.55 SI = -0.55 eGROI = 0.00% eROI = 0.00% eROI2 = 0.00% eROI3 = 0.00% mSpread = 0.0000%\n"
     ]
    },
    {
     "name": "stderr",
     "output_type": "stream",
     "text": [
      "0it [00:00, ?it/s]\n"
     ]
    },
    {
     "name": "stdout",
     "output_type": "stream",
     "text": [
      "count_dif_dir\n",
      "0\n",
      "Epoch = 1. Time index = 0. Threshold MC = 0.6. Threshold MD = 0.9\n",
      "RD = 0 NZ = 0 NZA = 0 pNZ = 0.000% pNZA = 0.000% AD = 0.00% ADA = 0.00% NO = 1 GSP = 0.00% NSP = 0.00%\n",
      "SI2 = -0.55 SI = -0.55 eGROI = 0.00% eROI = 0.00% eROI2 = 0.00% eROI3 = 0.00% mSpread = 0.0000%\n",
      "\n"
     ]
    },
    {
     "name": "stderr",
     "output_type": "stream",
     "text": [
      "100%|██████████████████████████████████████████████████████████████████████████| 50080/50080 [00:08<00:00, 5607.78it/s]\n"
     ]
    },
    {
     "name": "stdout",
     "output_type": "stream",
     "text": [
      "count_dif_dir\n",
      "384\n",
      "Epoch = 1. Time index = 0. Threshold MC = 0.7. Threshold MD = 0.5\n",
      "RD = 20095 NZ = 36897 NZA = 50081 pNZ = 1.067% pNZA = 1.448% AD = 54.46% ADA = 40.12% NO = 7160 GSP = 58.62% NSP = 43.09%\n",
      "SI2 = -520.00 SI = -853.00 eGROI = 59.15% eROI = -142.15% eROI2 = -84.05% eROI3 = -155.65% mSpread = 0.0281%\n"
     ]
    },
    {
     "name": "stderr",
     "output_type": "stream",
     "text": [
      "100%|████████████████████████████████████████████████████████████████████████████████| 35/35 [00:00<00:00, 2064.10it/s]\n"
     ]
    },
    {
     "name": "stdout",
     "output_type": "stream",
     "text": [
      "count_dif_dir\n",
      "10\n",
      "Epoch = 1. Time index = 0. Threshold MC = 0.7. Threshold MD = 0.6\n",
      "RD = 24 NZ = 27 NZA = 36 pNZ = 0.001% pNZA = 0.001% AD = 88.89% ADA = 66.67% NO = 35 GSP = 80.00% NSP = 31.43%\n",
      "SI2 = 2.75 SI = -8.25 eGROI = 1.45% eROI = -1.06% eROI2 = 0.75% eROI3 = 0.40% mSpread = 0.0716%\n"
     ]
    },
    {
     "name": "stderr",
     "output_type": "stream",
     "text": [
      "0it [00:00, ?it/s]\n"
     ]
    },
    {
     "name": "stdout",
     "output_type": "stream",
     "text": [
      "count_dif_dir\n",
      "0\n",
      "Epoch = 1. Time index = 0. Threshold MC = 0.7. Threshold MD = 0.7\n",
      "RD = 0 NZ = 0 NZA = 0 pNZ = 0.000% pNZA = 0.000% AD = 0.00% ADA = 0.00% NO = 1 GSP = 0.00% NSP = 0.00%\n",
      "SI2 = -0.55 SI = -0.55 eGROI = 0.00% eROI = 0.00% eROI2 = 0.00% eROI3 = 0.00% mSpread = 0.0000%\n"
     ]
    },
    {
     "name": "stderr",
     "output_type": "stream",
     "text": [
      "0it [00:00, ?it/s]\n"
     ]
    },
    {
     "name": "stdout",
     "output_type": "stream",
     "text": [
      "count_dif_dir\n",
      "0\n",
      "Epoch = 1. Time index = 0. Threshold MC = 0.7. Threshold MD = 0.8\n",
      "RD = 0 NZ = 0 NZA = 0 pNZ = 0.000% pNZA = 0.000% AD = 0.00% ADA = 0.00% NO = 1 GSP = 0.00% NSP = 0.00%\n",
      "SI2 = -0.55 SI = -0.55 eGROI = 0.00% eROI = 0.00% eROI2 = 0.00% eROI3 = 0.00% mSpread = 0.0000%\n"
     ]
    },
    {
     "name": "stderr",
     "output_type": "stream",
     "text": [
      "0it [00:00, ?it/s]\n"
     ]
    },
    {
     "name": "stdout",
     "output_type": "stream",
     "text": [
      "count_dif_dir\n",
      "0\n",
      "Epoch = 1. Time index = 0. Threshold MC = 0.7. Threshold MD = 0.9\n",
      "RD = 0 NZ = 0 NZA = 0 pNZ = 0.000% pNZA = 0.000% AD = 0.00% ADA = 0.00% NO = 1 GSP = 0.00% NSP = 0.00%\n",
      "SI2 = -0.55 SI = -0.55 eGROI = 0.00% eROI = 0.00% eROI2 = 0.00% eROI3 = 0.00% mSpread = 0.0000%\n",
      "\n"
     ]
    },
    {
     "name": "stderr",
     "output_type": "stream",
     "text": [
      "100%|██████████████████████████████████████████████████████████████████████████████| 620/620 [00:00<00:00, 4503.40it/s]\n"
     ]
    },
    {
     "name": "stdout",
     "output_type": "stream",
     "text": [
      "count_dif_dir\n",
      "15\n",
      "Epoch = 1. Time index = 0. Threshold MC = 0.8. Threshold MD = 0.5\n",
      "RD = 266 NZ = 507 NZA = 621 pNZ = 0.015% pNZA = 0.018% AD = 52.47% ADA = 42.83% NO = 238 GSP = 59.24% NSP = 44.12%\n",
      "SI2 = -6.90 SI = -25.90 eGROI = 2.64% eROI = -5.29% eROI2 = -2.12% eROI3 = -4.50% mSpread = 0.0333%\n"
     ]
    },
    {
     "name": "stderr",
     "output_type": "stream",
     "text": [
      "0it [00:00, ?it/s]\n"
     ]
    },
    {
     "name": "stdout",
     "output_type": "stream",
     "text": [
      "count_dif_dir\n",
      "0\n",
      "Epoch = 1. Time index = 0. Threshold MC = 0.8. Threshold MD = 0.6\n",
      "RD = 0 NZ = 0 NZA = 0 pNZ = 0.000% pNZA = 0.000% AD = 0.00% ADA = 0.00% NO = 1 GSP = 0.00% NSP = 0.00%\n",
      "SI2 = -0.55 SI = -0.55 eGROI = 0.00% eROI = 0.00% eROI2 = 0.00% eROI3 = 0.00% mSpread = 0.0000%\n"
     ]
    },
    {
     "name": "stderr",
     "output_type": "stream",
     "text": [
      "0it [00:00, ?it/s]\n"
     ]
    },
    {
     "name": "stdout",
     "output_type": "stream",
     "text": [
      "count_dif_dir\n",
      "0\n",
      "Epoch = 1. Time index = 0. Threshold MC = 0.8. Threshold MD = 0.7\n",
      "RD = 0 NZ = 0 NZA = 0 pNZ = 0.000% pNZA = 0.000% AD = 0.00% ADA = 0.00% NO = 1 GSP = 0.00% NSP = 0.00%\n",
      "SI2 = -0.55 SI = -0.55 eGROI = 0.00% eROI = 0.00% eROI2 = 0.00% eROI3 = 0.00% mSpread = 0.0000%\n"
     ]
    },
    {
     "name": "stderr",
     "output_type": "stream",
     "text": [
      "0it [00:00, ?it/s]\n"
     ]
    },
    {
     "name": "stdout",
     "output_type": "stream",
     "text": [
      "count_dif_dir\n",
      "0\n",
      "Epoch = 1. Time index = 0. Threshold MC = 0.8. Threshold MD = 0.8\n",
      "RD = 0 NZ = 0 NZA = 0 pNZ = 0.000% pNZA = 0.000% AD = 0.00% ADA = 0.00% NO = 1 GSP = 0.00% NSP = 0.00%\n",
      "SI2 = -0.55 SI = -0.55 eGROI = 0.00% eROI = 0.00% eROI2 = 0.00% eROI3 = 0.00% mSpread = 0.0000%\n"
     ]
    },
    {
     "name": "stderr",
     "output_type": "stream",
     "text": [
      "0it [00:00, ?it/s]\n"
     ]
    },
    {
     "name": "stdout",
     "output_type": "stream",
     "text": [
      "count_dif_dir\n",
      "0\n",
      "Epoch = 1. Time index = 0. Threshold MC = 0.8. Threshold MD = 0.9\n",
      "RD = 0 NZ = 0 NZA = 0 pNZ = 0.000% pNZA = 0.000% AD = 0.00% ADA = 0.00% NO = 1 GSP = 0.00% NSP = 0.00%\n",
      "SI2 = -0.55 SI = -0.55 eGROI = 0.00% eROI = 0.00% eROI2 = 0.00% eROI3 = 0.00% mSpread = 0.0000%\n",
      "\n"
     ]
    },
    {
     "name": "stderr",
     "output_type": "stream",
     "text": [
      "0it [00:00, ?it/s]\n"
     ]
    },
    {
     "name": "stdout",
     "output_type": "stream",
     "text": [
      "count_dif_dir\n",
      "0\n",
      "Epoch = 1. Time index = 0. Threshold MC = 0.9. Threshold MD = 0.5\n",
      "RD = 0 NZ = 0 NZA = 0 pNZ = 0.000% pNZA = 0.000% AD = 0.00% ADA = 0.00% NO = 1 GSP = 0.00% NSP = 0.00%\n",
      "SI2 = -0.55 SI = -0.55 eGROI = 0.00% eROI = 0.00% eROI2 = 0.00% eROI3 = 0.00% mSpread = 0.0000%\n"
     ]
    },
    {
     "name": "stderr",
     "output_type": "stream",
     "text": [
      "0it [00:00, ?it/s]\n"
     ]
    },
    {
     "name": "stdout",
     "output_type": "stream",
     "text": [
      "count_dif_dir\n",
      "0\n",
      "Epoch = 1. Time index = 0. Threshold MC = 0.9. Threshold MD = 0.6\n",
      "RD = 0 NZ = 0 NZA = 0 pNZ = 0.000% pNZA = 0.000% AD = 0.00% ADA = 0.00% NO = 1 GSP = 0.00% NSP = 0.00%\n",
      "SI2 = -0.55 SI = -0.55 eGROI = 0.00% eROI = 0.00% eROI2 = 0.00% eROI3 = 0.00% mSpread = 0.0000%\n"
     ]
    },
    {
     "name": "stderr",
     "output_type": "stream",
     "text": [
      "0it [00:00, ?it/s]\n"
     ]
    },
    {
     "name": "stdout",
     "output_type": "stream",
     "text": [
      "count_dif_dir\n",
      "0\n",
      "Epoch = 1. Time index = 0. Threshold MC = 0.9. Threshold MD = 0.7\n",
      "RD = 0 NZ = 0 NZA = 0 pNZ = 0.000% pNZA = 0.000% AD = 0.00% ADA = 0.00% NO = 1 GSP = 0.00% NSP = 0.00%\n",
      "SI2 = -0.55 SI = -0.55 eGROI = 0.00% eROI = 0.00% eROI2 = 0.00% eROI3 = 0.00% mSpread = 0.0000%\n"
     ]
    },
    {
     "name": "stderr",
     "output_type": "stream",
     "text": [
      "0it [00:00, ?it/s]\n"
     ]
    },
    {
     "name": "stdout",
     "output_type": "stream",
     "text": [
      "count_dif_dir\n",
      "0\n",
      "Epoch = 1. Time index = 0. Threshold MC = 0.9. Threshold MD = 0.8\n",
      "RD = 0 NZ = 0 NZA = 0 pNZ = 0.000% pNZA = 0.000% AD = 0.00% ADA = 0.00% NO = 1 GSP = 0.00% NSP = 0.00%\n",
      "SI2 = -0.55 SI = -0.55 eGROI = 0.00% eROI = 0.00% eROI2 = 0.00% eROI3 = 0.00% mSpread = 0.0000%\n"
     ]
    },
    {
     "name": "stderr",
     "output_type": "stream",
     "text": [
      "0it [00:00, ?it/s]\n"
     ]
    },
    {
     "name": "stdout",
     "output_type": "stream",
     "text": [
      "count_dif_dir\n",
      "0\n",
      "Epoch = 1. Time index = 0. Threshold MC = 0.9. Threshold MD = 0.9\n",
      "RD = 0 NZ = 0 NZA = 0 pNZ = 0.000% pNZA = 0.000% AD = 0.00% ADA = 0.00% NO = 1 GSP = 0.00% NSP = 0.00%\n",
      "SI2 = -0.55 SI = -0.55 eGROI = 0.00% eROI = 0.00% eROI2 = 0.00% eROI3 = 0.00% mSpread = 0.0000%\n",
      "\n"
     ]
    },
    {
     "name": "stderr",
     "output_type": "stream",
     "text": [
      "0it [00:00, ?it/s]\n"
     ]
    },
    {
     "name": "stdout",
     "output_type": "stream",
     "text": [
      "count_dif_dir\n",
      "0\n",
      "Epoch = 1. Time index = 1. Threshold MC = 0.5. Threshold MD = 0.5\n",
      "J_test = 6.218795967102051, J_train = 1.6192655121396213, Accuracy=0.5496944182089385\n",
      "RD = 772951 NZ = 1481037 NZA = 2839289 pNZ = 42.829% pNZA = 82.108% AD = 52.19% ADA = 27.22% NO = 1 GSP = 0.00% NSP = 0.00%\n",
      "SI2 = -0.55 SI = -0.55 eGROI = 0.00% eROI = 0.00% eROI2 = 0.00% eROI3 = 0.00% mSpread = 0.0000%\n"
     ]
    },
    {
     "name": "stderr",
     "output_type": "stream",
     "text": [
      "100%|████████████████████████████████████████████████████████████████████████████| 6130/6130 [00:01<00:00, 4175.51it/s]\n"
     ]
    },
    {
     "name": "stdout",
     "output_type": "stream",
     "text": [
      "count_dif_dir\n",
      "605\n",
      "Epoch = 1. Time index = 1. Threshold MC = 0.5. Threshold MD = 0.6\n",
      "RD = 2626 NZ = 3453 NZA = 6131 pNZ = 0.100% pNZA = 0.177% AD = 76.05% ADA = 42.83% NO = 2743 GSP = 68.76% NSP = 24.90%\n",
      "SI2 = -125.65 SI = -825.65 eGROI = 51.38% eROI = -96.43% eROI2 = -3.48% eROI3 = -30.91% mSpread = 0.0539%\n"
     ]
    },
    {
     "name": "stderr",
     "output_type": "stream",
     "text": [
      "0it [00:00, ?it/s]\n"
     ]
    },
    {
     "name": "stdout",
     "output_type": "stream",
     "text": [
      "count_dif_dir\n",
      "0\n",
      "Epoch = 1. Time index = 1. Threshold MC = 0.5. Threshold MD = 0.7\n",
      "RD = 0 NZ = 0 NZA = 0 pNZ = 0.000% pNZA = 0.000% AD = 0.00% ADA = 0.00% NO = 1 GSP = 0.00% NSP = 0.00%\n",
      "SI2 = -0.55 SI = -0.55 eGROI = 0.00% eROI = 0.00% eROI2 = 0.00% eROI3 = 0.00% mSpread = 0.0000%\n"
     ]
    },
    {
     "name": "stderr",
     "output_type": "stream",
     "text": [
      "0it [00:00, ?it/s]\n"
     ]
    },
    {
     "name": "stdout",
     "output_type": "stream",
     "text": [
      "count_dif_dir\n",
      "0\n",
      "Epoch = 1. Time index = 1. Threshold MC = 0.5. Threshold MD = 0.8\n",
      "RD = 0 NZ = 0 NZA = 0 pNZ = 0.000% pNZA = 0.000% AD = 0.00% ADA = 0.00% NO = 1 GSP = 0.00% NSP = 0.00%\n",
      "SI2 = -0.55 SI = -0.55 eGROI = 0.00% eROI = 0.00% eROI2 = 0.00% eROI3 = 0.00% mSpread = 0.0000%\n"
     ]
    },
    {
     "name": "stderr",
     "output_type": "stream",
     "text": [
      "0it [00:00, ?it/s]\n"
     ]
    },
    {
     "name": "stdout",
     "output_type": "stream",
     "text": [
      "count_dif_dir\n",
      "0\n",
      "Epoch = 1. Time index = 1. Threshold MC = 0.5. Threshold MD = 0.9\n",
      "RD = 0 NZ = 0 NZA = 0 pNZ = 0.000% pNZA = 0.000% AD = 0.00% ADA = 0.00% NO = 1 GSP = 0.00% NSP = 0.00%\n",
      "SI2 = -0.55 SI = -0.55 eGROI = 0.00% eROI = 0.00% eROI2 = 0.00% eROI3 = 0.00% mSpread = 0.0000%\n",
      "\n"
     ]
    },
    {
     "name": "stderr",
     "output_type": "stream",
     "text": [
      "0it [00:00, ?it/s]\n"
     ]
    },
    {
     "name": "stdout",
     "output_type": "stream",
     "text": [
      "count_dif_dir\n",
      "0\n",
      "Epoch = 1. Time index = 1. Threshold MC = 0.6. Threshold MD = 0.5\n",
      "RD = 144586 NZ = 267853 NZA = 411453 pNZ = 7.746% pNZA = 11.899% AD = 53.98% ADA = 35.14% NO = 1 GSP = 0.00% NSP = 0.00%\n",
      "SI2 = -0.55 SI = -0.55 eGROI = 0.00% eROI = 0.00% eROI2 = 0.00% eROI3 = 0.00% mSpread = 0.0000%\n"
     ]
    },
    {
     "name": "stderr",
     "output_type": "stream",
     "text": [
      "100%|████████████████████████████████████████████████████████████████████████████| 3408/3408 [00:00<00:00, 4039.14it/s]\n"
     ]
    },
    {
     "name": "stdout",
     "output_type": "stream",
     "text": [
      "count_dif_dir\n",
      "428\n",
      "Epoch = 1. Time index = 1. Threshold MC = 0.6. Threshold MD = 0.6\n",
      "RD = 1627 NZ = 2104 NZA = 3409 pNZ = 0.061% pNZA = 0.099% AD = 77.33% ADA = 47.73% NO = 1860 GSP = 70.48% NSP = 26.18%\n",
      "SI2 = -8.00 SI = -536.00 eGROI = 41.99% eROI = -68.28% eROI2 = 4.79% eROI3 = -13.81% mSpread = 0.0593%\n"
     ]
    },
    {
     "name": "stderr",
     "output_type": "stream",
     "text": [
      "0it [00:00, ?it/s]\n"
     ]
    },
    {
     "name": "stdout",
     "output_type": "stream",
     "text": [
      "count_dif_dir\n",
      "0\n",
      "Epoch = 1. Time index = 1. Threshold MC = 0.6. Threshold MD = 0.7\n",
      "RD = 0 NZ = 0 NZA = 0 pNZ = 0.000% pNZA = 0.000% AD = 0.00% ADA = 0.00% NO = 1 GSP = 0.00% NSP = 0.00%\n",
      "SI2 = -0.55 SI = -0.55 eGROI = 0.00% eROI = 0.00% eROI2 = 0.00% eROI3 = 0.00% mSpread = 0.0000%\n"
     ]
    },
    {
     "name": "stderr",
     "output_type": "stream",
     "text": [
      "0it [00:00, ?it/s]\n"
     ]
    },
    {
     "name": "stdout",
     "output_type": "stream",
     "text": [
      "count_dif_dir\n",
      "0\n",
      "Epoch = 1. Time index = 1. Threshold MC = 0.6. Threshold MD = 0.8\n",
      "RD = 0 NZ = 0 NZA = 0 pNZ = 0.000% pNZA = 0.000% AD = 0.00% ADA = 0.00% NO = 1 GSP = 0.00% NSP = 0.00%\n",
      "SI2 = -0.55 SI = -0.55 eGROI = 0.00% eROI = 0.00% eROI2 = 0.00% eROI3 = 0.00% mSpread = 0.0000%\n"
     ]
    },
    {
     "name": "stderr",
     "output_type": "stream",
     "text": [
      "0it [00:00, ?it/s]\n"
     ]
    },
    {
     "name": "stdout",
     "output_type": "stream",
     "text": [
      "count_dif_dir\n",
      "0\n",
      "Epoch = 1. Time index = 1. Threshold MC = 0.6. Threshold MD = 0.9\n",
      "RD = 0 NZ = 0 NZA = 0 pNZ = 0.000% pNZA = 0.000% AD = 0.00% ADA = 0.00% NO = 1 GSP = 0.00% NSP = 0.00%\n",
      "SI2 = -0.55 SI = -0.55 eGROI = 0.00% eROI = 0.00% eROI2 = 0.00% eROI3 = 0.00% mSpread = 0.0000%\n",
      "\n"
     ]
    },
    {
     "name": "stderr",
     "output_type": "stream",
     "text": [
      "100%|██████████████████████████████████████████████████████████████████████████| 35647/35647 [00:06<00:00, 5668.85it/s]\n"
     ]
    },
    {
     "name": "stdout",
     "output_type": "stream",
     "text": [
      "count_dif_dir\n",
      "348\n",
      "Epoch = 1. Time index = 1. Threshold MC = 0.7. Threshold MD = 0.5\n",
      "RD = 14663 NZ = 26766 NZA = 35648 pNZ = 0.774% pNZA = 1.031% AD = 54.78% ADA = 41.13% NO = 5398 GSP = 58.80% NSP = 42.15%\n",
      "SI2 = -354.90 SI = -693.90 eGROI = 45.52% eROI = -120.01% eROI2 = -62.44% eROI3 = -116.42% mSpread = 0.0307%\n"
     ]
    },
    {
     "name": "stderr",
     "output_type": "stream",
     "text": [
      "100%|██████████████████████████████████████████████████████████████████████████████| 545/545 [00:00<00:00, 3195.64it/s]\n"
     ]
    },
    {
     "name": "stdout",
     "output_type": "stream",
     "text": [
      "count_dif_dir\n",
      "138\n",
      "Epoch = 1. Time index = 1. Threshold MC = 0.7. Threshold MD = 0.6\n",
      "RD = 297 NZ = 385 NZA = 546 pNZ = 0.011% pNZA = 0.016% AD = 77.14% ADA = 54.40% NO = 477 GSP = 75.05% NSP = 22.85%\n",
      "SI2 = 19.65 SI = -153.35 eGROI = 13.63% eROI = -25.09% eROI2 = 4.09% eROI3 = -0.68% mSpread = 0.0812%\n"
     ]
    },
    {
     "name": "stderr",
     "output_type": "stream",
     "text": [
      "0it [00:00, ?it/s]\n"
     ]
    },
    {
     "name": "stdout",
     "output_type": "stream",
     "text": [
      "count_dif_dir\n",
      "0\n",
      "Epoch = 1. Time index = 1. Threshold MC = 0.7. Threshold MD = 0.7\n",
      "RD = 0 NZ = 0 NZA = 0 pNZ = 0.000% pNZA = 0.000% AD = 0.00% ADA = 0.00% NO = 1 GSP = 0.00% NSP = 0.00%\n",
      "SI2 = -0.55 SI = -0.55 eGROI = 0.00% eROI = 0.00% eROI2 = 0.00% eROI3 = 0.00% mSpread = 0.0000%\n"
     ]
    },
    {
     "name": "stderr",
     "output_type": "stream",
     "text": [
      "0it [00:00, ?it/s]\n"
     ]
    },
    {
     "name": "stdout",
     "output_type": "stream",
     "text": [
      "count_dif_dir\n",
      "0\n",
      "Epoch = 1. Time index = 1. Threshold MC = 0.7. Threshold MD = 0.8\n",
      "RD = 0 NZ = 0 NZA = 0 pNZ = 0.000% pNZA = 0.000% AD = 0.00% ADA = 0.00% NO = 1 GSP = 0.00% NSP = 0.00%\n",
      "SI2 = -0.55 SI = -0.55 eGROI = 0.00% eROI = 0.00% eROI2 = 0.00% eROI3 = 0.00% mSpread = 0.0000%\n"
     ]
    },
    {
     "name": "stderr",
     "output_type": "stream",
     "text": [
      "0it [00:00, ?it/s]\n"
     ]
    },
    {
     "name": "stdout",
     "output_type": "stream",
     "text": [
      "count_dif_dir\n",
      "0\n",
      "Epoch = 1. Time index = 1. Threshold MC = 0.7. Threshold MD = 0.9\n",
      "RD = 0 NZ = 0 NZA = 0 pNZ = 0.000% pNZA = 0.000% AD = 0.00% ADA = 0.00% NO = 1 GSP = 0.00% NSP = 0.00%\n",
      "SI2 = -0.55 SI = -0.55 eGROI = 0.00% eROI = 0.00% eROI2 = 0.00% eROI3 = 0.00% mSpread = 0.0000%\n",
      "\n"
     ]
    },
    {
     "name": "stderr",
     "output_type": "stream",
     "text": [
      "100%|████████████████████████████████████████████████████████████████████████████| 1820/1820 [00:00<00:00, 5139.90it/s]\n"
     ]
    },
    {
     "name": "stdout",
     "output_type": "stream",
     "text": [
      "count_dif_dir\n",
      "29\n",
      "Epoch = 1. Time index = 1. Threshold MC = 0.8. Threshold MD = 0.5\n",
      "RD = 773 NZ = 1500 NZA = 1821 pNZ = 0.043% pNZA = 0.053% AD = 51.53% ADA = 42.45% NO = 561 GSP = 57.04% NSP = 45.28%\n",
      "SI2 = -26.55 SI = -54.55 eGROI = 12.25% eROI = -6.67% eROI2 = 1.03% eROI3 = -4.58% mSpread = 0.0337%\n"
     ]
    },
    {
     "name": "stderr",
     "output_type": "stream",
     "text": [
      "0it [00:00, ?it/s]\n"
     ]
    },
    {
     "name": "stdout",
     "output_type": "stream",
     "text": [
      "count_dif_dir\n",
      "0\n",
      "Epoch = 1. Time index = 1. Threshold MC = 0.8. Threshold MD = 0.6\n",
      "RD = 0 NZ = 0 NZA = 0 pNZ = 0.000% pNZA = 0.000% AD = 0.00% ADA = 0.00% NO = 1 GSP = 0.00% NSP = 0.00%\n",
      "SI2 = -0.55 SI = -0.55 eGROI = 0.00% eROI = 0.00% eROI2 = 0.00% eROI3 = 0.00% mSpread = 0.0000%\n"
     ]
    },
    {
     "name": "stderr",
     "output_type": "stream",
     "text": [
      "0it [00:00, ?it/s]\n"
     ]
    },
    {
     "name": "stdout",
     "output_type": "stream",
     "text": [
      "count_dif_dir\n",
      "0\n",
      "Epoch = 1. Time index = 1. Threshold MC = 0.8. Threshold MD = 0.7\n",
      "RD = 0 NZ = 0 NZA = 0 pNZ = 0.000% pNZA = 0.000% AD = 0.00% ADA = 0.00% NO = 1 GSP = 0.00% NSP = 0.00%\n",
      "SI2 = -0.55 SI = -0.55 eGROI = 0.00% eROI = 0.00% eROI2 = 0.00% eROI3 = 0.00% mSpread = 0.0000%\n"
     ]
    },
    {
     "name": "stderr",
     "output_type": "stream",
     "text": [
      "0it [00:00, ?it/s]\n"
     ]
    },
    {
     "name": "stdout",
     "output_type": "stream",
     "text": [
      "count_dif_dir\n",
      "0\n",
      "Epoch = 1. Time index = 1. Threshold MC = 0.8. Threshold MD = 0.8\n",
      "RD = 0 NZ = 0 NZA = 0 pNZ = 0.000% pNZA = 0.000% AD = 0.00% ADA = 0.00% NO = 1 GSP = 0.00% NSP = 0.00%\n",
      "SI2 = -0.55 SI = -0.55 eGROI = 0.00% eROI = 0.00% eROI2 = 0.00% eROI3 = 0.00% mSpread = 0.0000%\n"
     ]
    },
    {
     "name": "stderr",
     "output_type": "stream",
     "text": [
      "0it [00:00, ?it/s]\n"
     ]
    },
    {
     "name": "stdout",
     "output_type": "stream",
     "text": [
      "count_dif_dir\n",
      "0\n",
      "Epoch = 1. Time index = 1. Threshold MC = 0.8. Threshold MD = 0.9\n",
      "RD = 0 NZ = 0 NZA = 0 pNZ = 0.000% pNZA = 0.000% AD = 0.00% ADA = 0.00% NO = 1 GSP = 0.00% NSP = 0.00%\n",
      "SI2 = -0.55 SI = -0.55 eGROI = 0.00% eROI = 0.00% eROI2 = 0.00% eROI3 = 0.00% mSpread = 0.0000%\n",
      "\n"
     ]
    },
    {
     "name": "stderr",
     "output_type": "stream",
     "text": [
      "0it [00:00, ?it/s]\n"
     ]
    },
    {
     "name": "stdout",
     "output_type": "stream",
     "text": [
      "count_dif_dir\n",
      "0\n",
      "Epoch = 1. Time index = 1. Threshold MC = 0.9. Threshold MD = 0.5\n",
      "RD = 0 NZ = 0 NZA = 0 pNZ = 0.000% pNZA = 0.000% AD = 0.00% ADA = 0.00% NO = 1 GSP = 0.00% NSP = 0.00%\n",
      "SI2 = -0.55 SI = -0.55 eGROI = 0.00% eROI = 0.00% eROI2 = 0.00% eROI3 = 0.00% mSpread = 0.0000%\n"
     ]
    },
    {
     "name": "stderr",
     "output_type": "stream",
     "text": [
      "0it [00:00, ?it/s]\n"
     ]
    },
    {
     "name": "stdout",
     "output_type": "stream",
     "text": [
      "count_dif_dir\n",
      "0\n",
      "Epoch = 1. Time index = 1. Threshold MC = 0.9. Threshold MD = 0.6\n",
      "RD = 0 NZ = 0 NZA = 0 pNZ = 0.000% pNZA = 0.000% AD = 0.00% ADA = 0.00% NO = 1 GSP = 0.00% NSP = 0.00%\n",
      "SI2 = -0.55 SI = -0.55 eGROI = 0.00% eROI = 0.00% eROI2 = 0.00% eROI3 = 0.00% mSpread = 0.0000%\n"
     ]
    },
    {
     "name": "stderr",
     "output_type": "stream",
     "text": [
      "0it [00:00, ?it/s]\n"
     ]
    },
    {
     "name": "stdout",
     "output_type": "stream",
     "text": [
      "count_dif_dir\n",
      "0\n",
      "Epoch = 1. Time index = 1. Threshold MC = 0.9. Threshold MD = 0.7\n",
      "RD = 0 NZ = 0 NZA = 0 pNZ = 0.000% pNZA = 0.000% AD = 0.00% ADA = 0.00% NO = 1 GSP = 0.00% NSP = 0.00%\n",
      "SI2 = -0.55 SI = -0.55 eGROI = 0.00% eROI = 0.00% eROI2 = 0.00% eROI3 = 0.00% mSpread = 0.0000%\n"
     ]
    },
    {
     "name": "stderr",
     "output_type": "stream",
     "text": [
      "0it [00:00, ?it/s]\n"
     ]
    },
    {
     "name": "stdout",
     "output_type": "stream",
     "text": [
      "count_dif_dir\n",
      "0\n",
      "Epoch = 1. Time index = 1. Threshold MC = 0.9. Threshold MD = 0.8\n",
      "RD = 0 NZ = 0 NZA = 0 pNZ = 0.000% pNZA = 0.000% AD = 0.00% ADA = 0.00% NO = 1 GSP = 0.00% NSP = 0.00%\n",
      "SI2 = -0.55 SI = -0.55 eGROI = 0.00% eROI = 0.00% eROI2 = 0.00% eROI3 = 0.00% mSpread = 0.0000%\n"
     ]
    },
    {
     "name": "stderr",
     "output_type": "stream",
     "text": [
      "0it [00:00, ?it/s]\n"
     ]
    },
    {
     "name": "stdout",
     "output_type": "stream",
     "text": [
      "count_dif_dir\n",
      "0\n",
      "Epoch = 1. Time index = 1. Threshold MC = 0.9. Threshold MD = 0.9\n",
      "RD = 0 NZ = 0 NZA = 0 pNZ = 0.000% pNZA = 0.000% AD = 0.00% ADA = 0.00% NO = 1 GSP = 0.00% NSP = 0.00%\n",
      "SI2 = -0.55 SI = -0.55 eGROI = 0.00% eROI = 0.00% eROI2 = 0.00% eROI3 = 0.00% mSpread = 0.0000%\n",
      "\n"
     ]
    },
    {
     "name": "stderr",
     "output_type": "stream",
     "text": [
      "0it [00:00, ?it/s]\n"
     ]
    },
    {
     "name": "stdout",
     "output_type": "stream",
     "text": [
      "count_dif_dir\n",
      "0\n",
      "Epoch = 1. Time index = 2. Threshold MC = 0.5. Threshold MD = 0.5\n",
      "J_test = 6.218795967102051, J_train = 1.6192655121396213, Accuracy=0.5471290580608295\n",
      "RD = 778643 NZ = 1491079 NZA = 2868242 pNZ = 43.120% pNZA = 82.945% AD = 52.22% ADA = 27.15% NO = 1 GSP = 0.00% NSP = 0.00%\n",
      "SI2 = -0.55 SI = -0.55 eGROI = 0.00% eROI = 0.00% eROI2 = 0.00% eROI3 = 0.00% mSpread = 0.0000%\n"
     ]
    },
    {
     "name": "stderr",
     "output_type": "stream",
     "text": [
      "100%|██████████████████████████████████████████████████████████████████████████| 14696/14696 [00:02<00:00, 5045.66it/s]\n"
     ]
    },
    {
     "name": "stdout",
     "output_type": "stream",
     "text": [
      "count_dif_dir\n",
      "789\n",
      "Epoch = 1. Time index = 2. Threshold MC = 0.5. Threshold MD = 0.6\n",
      "RD = 5901 NZ = 8168 NZA = 14697 pNZ = 0.236% pNZA = 0.425% AD = 72.25% ADA = 40.15% NO = 4711 GSP = 65.49% NSP = 28.95%\n",
      "SI2 = -338.05 SI = -1227.05 eGROI = 70.42% eROI = -136.31% eROI2 = -23.80% eROI3 = -70.91% mSpread = 0.0439%\n"
     ]
    },
    {
     "name": "stderr",
     "output_type": "stream",
     "text": [
      "100%|███████████████████████████████████████████████████████████████████████████████████| 2/2 [00:00<00:00, 667.94it/s]\n"
     ]
    },
    {
     "name": "stdout",
     "output_type": "stream",
     "text": [
      "count_dif_dir\n",
      "1\n",
      "Epoch = 1. Time index = 2. Threshold MC = 0.5. Threshold MD = 0.7\n",
      "RD = 0 NZ = 0 NZA = 3 pNZ = 0.000% pNZA = 0.000% AD = 0.00% ADA = 0.00% NO = 3 GSP = 66.67% NSP = 33.33%\n",
      "SI2 = -1.65 SI = -0.65 eGROI = -0.00% eROI = -0.22% eROI2 = -0.06% eROI3 = -0.09% mSpread = 0.0712%\n"
     ]
    },
    {
     "name": "stderr",
     "output_type": "stream",
     "text": [
      "0it [00:00, ?it/s]\n"
     ]
    },
    {
     "name": "stdout",
     "output_type": "stream",
     "text": [
      "count_dif_dir\n",
      "0\n",
      "Epoch = 1. Time index = 2. Threshold MC = 0.5. Threshold MD = 0.8\n",
      "RD = 0 NZ = 0 NZA = 0 pNZ = 0.000% pNZA = 0.000% AD = 0.00% ADA = 0.00% NO = 1 GSP = 0.00% NSP = 0.00%\n",
      "SI2 = -0.55 SI = -0.55 eGROI = 0.00% eROI = 0.00% eROI2 = 0.00% eROI3 = 0.00% mSpread = 0.0000%\n"
     ]
    },
    {
     "name": "stderr",
     "output_type": "stream",
     "text": [
      "0it [00:00, ?it/s]\n"
     ]
    },
    {
     "name": "stdout",
     "output_type": "stream",
     "text": [
      "count_dif_dir\n",
      "0\n",
      "Epoch = 1. Time index = 2. Threshold MC = 0.5. Threshold MD = 0.9\n",
      "RD = 0 NZ = 0 NZA = 0 pNZ = 0.000% pNZA = 0.000% AD = 0.00% ADA = 0.00% NO = 1 GSP = 0.00% NSP = 0.00%\n",
      "SI2 = -0.55 SI = -0.55 eGROI = 0.00% eROI = 0.00% eROI2 = 0.00% eROI3 = 0.00% mSpread = 0.0000%\n",
      "\n"
     ]
    },
    {
     "name": "stderr",
     "output_type": "stream",
     "text": [
      "0it [00:00, ?it/s]\n"
     ]
    },
    {
     "name": "stdout",
     "output_type": "stream",
     "text": [
      "count_dif_dir\n",
      "0\n",
      "Epoch = 1. Time index = 2. Threshold MC = 0.6. Threshold MD = 0.5\n",
      "RD = 135538 NZ = 250103 NZA = 382695 pNZ = 7.233% pNZA = 11.067% AD = 54.19% ADA = 35.42% NO = 1 GSP = 0.00% NSP = 0.00%\n",
      "SI2 = -0.55 SI = -0.55 eGROI = 0.00% eROI = 0.00% eROI2 = 0.00% eROI3 = 0.00% mSpread = 0.0000%\n"
     ]
    },
    {
     "name": "stderr",
     "output_type": "stream",
     "text": [
      "100%|████████████████████████████████████████████████████████████████████████████| 8118/8118 [00:01<00:00, 4082.08it/s]\n"
     ]
    },
    {
     "name": "stdout",
     "output_type": "stream",
     "text": [
      "count_dif_dir\n",
      "577\n",
      "Epoch = 1. Time index = 2. Threshold MC = 0.6. Threshold MD = 0.6\n",
      "RD = 3755 NZ = 5159 NZA = 8119 pNZ = 0.149% pNZA = 0.235% AD = 72.79% ADA = 46.25% NO = 3207 GSP = 67.23% NSP = 30.90%\n",
      "SI2 = -82.85 SI = -772.85 eGROI = 62.20% eROI = -95.26% eROI2 = -1.94% eROI3 = -34.01% mSpread = 0.0491%\n"
     ]
    },
    {
     "name": "stderr",
     "output_type": "stream",
     "text": [
      "0it [00:00, ?it/s]\n"
     ]
    },
    {
     "name": "stdout",
     "output_type": "stream",
     "text": [
      "count_dif_dir\n",
      "0\n",
      "Epoch = 1. Time index = 2. Threshold MC = 0.6. Threshold MD = 0.7\n",
      "RD = 0 NZ = 0 NZA = 0 pNZ = 0.000% pNZA = 0.000% AD = 0.00% ADA = 0.00% NO = 1 GSP = 0.00% NSP = 0.00%\n",
      "SI2 = -0.55 SI = -0.55 eGROI = 0.00% eROI = 0.00% eROI2 = 0.00% eROI3 = 0.00% mSpread = 0.0000%\n"
     ]
    },
    {
     "name": "stderr",
     "output_type": "stream",
     "text": [
      "0it [00:00, ?it/s]\n"
     ]
    },
    {
     "name": "stdout",
     "output_type": "stream",
     "text": [
      "count_dif_dir\n",
      "0\n",
      "Epoch = 1. Time index = 2. Threshold MC = 0.6. Threshold MD = 0.8\n",
      "RD = 0 NZ = 0 NZA = 0 pNZ = 0.000% pNZA = 0.000% AD = 0.00% ADA = 0.00% NO = 1 GSP = 0.00% NSP = 0.00%\n",
      "SI2 = -0.55 SI = -0.55 eGROI = 0.00% eROI = 0.00% eROI2 = 0.00% eROI3 = 0.00% mSpread = 0.0000%\n"
     ]
    },
    {
     "name": "stderr",
     "output_type": "stream",
     "text": [
      "0it [00:00, ?it/s]\n"
     ]
    },
    {
     "name": "stdout",
     "output_type": "stream",
     "text": [
      "count_dif_dir\n",
      "0\n",
      "Epoch = 1. Time index = 2. Threshold MC = 0.6. Threshold MD = 0.9\n",
      "RD = 0 NZ = 0 NZA = 0 pNZ = 0.000% pNZA = 0.000% AD = 0.00% ADA = 0.00% NO = 1 GSP = 0.00% NSP = 0.00%\n",
      "SI2 = -0.55 SI = -0.55 eGROI = 0.00% eROI = 0.00% eROI2 = 0.00% eROI3 = 0.00% mSpread = 0.0000%\n",
      "\n"
     ]
    },
    {
     "name": "stderr",
     "output_type": "stream",
     "text": [
      "100%|██████████████████████████████████████████████████████████████████████████| 34461/34461 [00:06<00:00, 5582.05it/s]\n"
     ]
    },
    {
     "name": "stdout",
     "output_type": "stream",
     "text": [
      "count_dif_dir\n",
      "310\n",
      "Epoch = 1. Time index = 2. Threshold MC = 0.7. Threshold MD = 0.5\n",
      "RD = 14272 NZ = 25917 NZA = 34462 pNZ = 0.749% pNZA = 0.997% AD = 55.07% ADA = 41.41% NO = 4725 GSP = 60.40% NSP = 42.71%\n",
      "SI2 = -230.75 SI = -580.75 eGROI = 43.89% eROI = -108.82% eROI2 = -50.61% eROI3 = -97.86% mSpread = 0.0323%\n"
     ]
    },
    {
     "name": "stderr",
     "output_type": "stream",
     "text": [
      "100%|████████████████████████████████████████████████████████████████████████████| 1860/1860 [00:00<00:00, 4010.68it/s]\n"
     ]
    },
    {
     "name": "stdout",
     "output_type": "stream",
     "text": [
      "count_dif_dir\n",
      "204\n",
      "Epoch = 1. Time index = 2. Threshold MC = 0.7. Threshold MD = 0.6\n",
      "RD = 1017 NZ = 1415 NZA = 1861 pNZ = 0.041% pNZA = 0.054% AD = 71.87% ADA = 54.65% NO = 1112 GSP = 72.39% NSP = 34.80%\n",
      "SI2 = 68.40 SI = -224.60 eGROI = 31.44% eROI = -38.96% eROI2 = 9.20% eROI3 = -1.92% mSpread = 0.0633%\n"
     ]
    },
    {
     "name": "stderr",
     "output_type": "stream",
     "text": [
      "0it [00:00, ?it/s]\n"
     ]
    },
    {
     "name": "stdout",
     "output_type": "stream",
     "text": [
      "count_dif_dir\n",
      "0\n",
      "Epoch = 1. Time index = 2. Threshold MC = 0.7. Threshold MD = 0.7\n",
      "RD = 0 NZ = 0 NZA = 0 pNZ = 0.000% pNZA = 0.000% AD = 0.00% ADA = 0.00% NO = 1 GSP = 0.00% NSP = 0.00%\n",
      "SI2 = -0.55 SI = -0.55 eGROI = 0.00% eROI = 0.00% eROI2 = 0.00% eROI3 = 0.00% mSpread = 0.0000%\n"
     ]
    },
    {
     "name": "stderr",
     "output_type": "stream",
     "text": [
      "0it [00:00, ?it/s]\n"
     ]
    },
    {
     "name": "stdout",
     "output_type": "stream",
     "text": [
      "count_dif_dir\n",
      "0\n",
      "Epoch = 1. Time index = 2. Threshold MC = 0.7. Threshold MD = 0.8\n",
      "RD = 0 NZ = 0 NZA = 0 pNZ = 0.000% pNZA = 0.000% AD = 0.00% ADA = 0.00% NO = 1 GSP = 0.00% NSP = 0.00%\n",
      "SI2 = -0.55 SI = -0.55 eGROI = 0.00% eROI = 0.00% eROI2 = 0.00% eROI3 = 0.00% mSpread = 0.0000%\n"
     ]
    },
    {
     "name": "stderr",
     "output_type": "stream",
     "text": [
      "0it [00:00, ?it/s]\n"
     ]
    },
    {
     "name": "stdout",
     "output_type": "stream",
     "text": [
      "count_dif_dir\n",
      "0\n",
      "Epoch = 1. Time index = 2. Threshold MC = 0.7. Threshold MD = 0.9\n",
      "RD = 0 NZ = 0 NZA = 0 pNZ = 0.000% pNZA = 0.000% AD = 0.00% ADA = 0.00% NO = 1 GSP = 0.00% NSP = 0.00%\n",
      "SI2 = -0.55 SI = -0.55 eGROI = 0.00% eROI = 0.00% eROI2 = 0.00% eROI3 = 0.00% mSpread = 0.0000%\n",
      "\n"
     ]
    },
    {
     "name": "stderr",
     "output_type": "stream",
     "text": [
      "100%|████████████████████████████████████████████████████████████████████████████| 2272/2272 [00:00<00:00, 4815.76it/s]\n"
     ]
    },
    {
     "name": "stdout",
     "output_type": "stream",
     "text": [
      "count_dif_dir\n",
      "43\n",
      "Epoch = 1. Time index = 2. Threshold MC = 0.8. Threshold MD = 0.5\n",
      "RD = 963 NZ = 1873 NZA = 2273 pNZ = 0.054% pNZA = 0.066% AD = 51.41% ADA = 42.37% NO = 628 GSP = 57.48% NSP = 44.27%\n",
      "SI2 = -33.40 SI = -67.40 eGROI = 14.37% eROI = -6.43% eROI2 = 1.81% eROI3 = -4.47% mSpread = 0.0331%\n"
     ]
    },
    {
     "name": "stderr",
     "output_type": "stream",
     "text": [
      "100%|████████████████████████████████████████████████████████████████████████████████| 48/48 [00:00<00:00, 2005.30it/s]\n"
     ]
    },
    {
     "name": "stdout",
     "output_type": "stream",
     "text": [
      "count_dif_dir\n",
      "8\n",
      "Epoch = 1. Time index = 2. Threshold MC = 0.8. Threshold MD = 0.6\n",
      "RD = 35 NZ = 46 NZA = 49 pNZ = 0.001% pNZA = 0.001% AD = 76.09% ADA = 71.43% NO = 43 GSP = 72.09% NSP = 48.84%\n",
      "SI2 = 6.35 SI = -2.65 eGROI = 2.45% eROI = -0.75% eROI2 = 1.59% eROI3 = 1.16% mSpread = 0.0745%\n"
     ]
    },
    {
     "name": "stderr",
     "output_type": "stream",
     "text": [
      "0it [00:00, ?it/s]\n"
     ]
    },
    {
     "name": "stdout",
     "output_type": "stream",
     "text": [
      "count_dif_dir\n",
      "0\n",
      "Epoch = 1. Time index = 2. Threshold MC = 0.8. Threshold MD = 0.7\n",
      "RD = 0 NZ = 0 NZA = 0 pNZ = 0.000% pNZA = 0.000% AD = 0.00% ADA = 0.00% NO = 1 GSP = 0.00% NSP = 0.00%\n",
      "SI2 = -0.55 SI = -0.55 eGROI = 0.00% eROI = 0.00% eROI2 = 0.00% eROI3 = 0.00% mSpread = 0.0000%\n"
     ]
    },
    {
     "name": "stderr",
     "output_type": "stream",
     "text": [
      "0it [00:00, ?it/s]\n"
     ]
    },
    {
     "name": "stdout",
     "output_type": "stream",
     "text": [
      "count_dif_dir\n",
      "0\n",
      "Epoch = 1. Time index = 2. Threshold MC = 0.8. Threshold MD = 0.8\n",
      "RD = 0 NZ = 0 NZA = 0 pNZ = 0.000% pNZA = 0.000% AD = 0.00% ADA = 0.00% NO = 1 GSP = 0.00% NSP = 0.00%\n",
      "SI2 = -0.55 SI = -0.55 eGROI = 0.00% eROI = 0.00% eROI2 = 0.00% eROI3 = 0.00% mSpread = 0.0000%\n"
     ]
    },
    {
     "name": "stderr",
     "output_type": "stream",
     "text": [
      "0it [00:00, ?it/s]\n"
     ]
    },
    {
     "name": "stdout",
     "output_type": "stream",
     "text": [
      "count_dif_dir\n",
      "0\n",
      "Epoch = 1. Time index = 2. Threshold MC = 0.8. Threshold MD = 0.9\n",
      "RD = 0 NZ = 0 NZA = 0 pNZ = 0.000% pNZA = 0.000% AD = 0.00% ADA = 0.00% NO = 1 GSP = 0.00% NSP = 0.00%\n",
      "SI2 = -0.55 SI = -0.55 eGROI = 0.00% eROI = 0.00% eROI2 = 0.00% eROI3 = 0.00% mSpread = 0.0000%\n",
      "\n"
     ]
    },
    {
     "name": "stderr",
     "output_type": "stream",
     "text": [
      "0it [00:00, ?it/s]\n"
     ]
    },
    {
     "name": "stdout",
     "output_type": "stream",
     "text": [
      "count_dif_dir\n",
      "0\n",
      "Epoch = 1. Time index = 2. Threshold MC = 0.9. Threshold MD = 0.5\n",
      "RD = 0 NZ = 0 NZA = 0 pNZ = 0.000% pNZA = 0.000% AD = 0.00% ADA = 0.00% NO = 1 GSP = 0.00% NSP = 0.00%\n",
      "SI2 = -0.55 SI = -0.55 eGROI = 0.00% eROI = 0.00% eROI2 = 0.00% eROI3 = 0.00% mSpread = 0.0000%\n"
     ]
    },
    {
     "name": "stderr",
     "output_type": "stream",
     "text": [
      "0it [00:00, ?it/s]\n"
     ]
    },
    {
     "name": "stdout",
     "output_type": "stream",
     "text": [
      "count_dif_dir\n",
      "0\n",
      "Epoch = 1. Time index = 2. Threshold MC = 0.9. Threshold MD = 0.6\n",
      "RD = 0 NZ = 0 NZA = 0 pNZ = 0.000% pNZA = 0.000% AD = 0.00% ADA = 0.00% NO = 1 GSP = 0.00% NSP = 0.00%\n",
      "SI2 = -0.55 SI = -0.55 eGROI = 0.00% eROI = 0.00% eROI2 = 0.00% eROI3 = 0.00% mSpread = 0.0000%\n"
     ]
    },
    {
     "name": "stderr",
     "output_type": "stream",
     "text": [
      "0it [00:00, ?it/s]\n"
     ]
    },
    {
     "name": "stdout",
     "output_type": "stream",
     "text": [
      "count_dif_dir\n",
      "0\n",
      "Epoch = 1. Time index = 2. Threshold MC = 0.9. Threshold MD = 0.7\n",
      "RD = 0 NZ = 0 NZA = 0 pNZ = 0.000% pNZA = 0.000% AD = 0.00% ADA = 0.00% NO = 1 GSP = 0.00% NSP = 0.00%\n",
      "SI2 = -0.55 SI = -0.55 eGROI = 0.00% eROI = 0.00% eROI2 = 0.00% eROI3 = 0.00% mSpread = 0.0000%\n"
     ]
    },
    {
     "name": "stderr",
     "output_type": "stream",
     "text": [
      "0it [00:00, ?it/s]\n"
     ]
    },
    {
     "name": "stdout",
     "output_type": "stream",
     "text": [
      "count_dif_dir\n",
      "0\n",
      "Epoch = 1. Time index = 2. Threshold MC = 0.9. Threshold MD = 0.8\n",
      "RD = 0 NZ = 0 NZA = 0 pNZ = 0.000% pNZA = 0.000% AD = 0.00% ADA = 0.00% NO = 1 GSP = 0.00% NSP = 0.00%\n",
      "SI2 = -0.55 SI = -0.55 eGROI = 0.00% eROI = 0.00% eROI2 = 0.00% eROI3 = 0.00% mSpread = 0.0000%\n"
     ]
    },
    {
     "name": "stderr",
     "output_type": "stream",
     "text": [
      "0it [00:00, ?it/s]\n"
     ]
    },
    {
     "name": "stdout",
     "output_type": "stream",
     "text": [
      "count_dif_dir\n",
      "0\n",
      "Epoch = 1. Time index = 2. Threshold MC = 0.9. Threshold MD = 0.9\n",
      "RD = 0 NZ = 0 NZA = 0 pNZ = 0.000% pNZA = 0.000% AD = 0.00% ADA = 0.00% NO = 1 GSP = 0.00% NSP = 0.00%\n",
      "SI2 = -0.55 SI = -0.55 eGROI = 0.00% eROI = 0.00% eROI2 = 0.00% eROI3 = 0.00% mSpread = 0.0000%\n",
      "\n"
     ]
    },
    {
     "name": "stderr",
     "output_type": "stream",
     "text": [
      "0it [00:00, ?it/s]\n"
     ]
    },
    {
     "name": "stdout",
     "output_type": "stream",
     "text": [
      "count_dif_dir\n",
      "0\n",
      "Epoch = 1. Time index = 3. Threshold MC = 0.5. Threshold MD = 0.5\n",
      "J_test = 6.218795967102051, J_train = 1.6192655121396213, Accuracy=0.5442441484860876\n",
      "RD = 784743 NZ = 1502501 NZA = 2901064 pNZ = 43.450% pNZA = 83.894% AD = 52.23% ADA = 27.05% NO = 1 GSP = 0.00% NSP = 0.00%\n",
      "SI2 = -0.55 SI = -0.55 eGROI = 0.00% eROI = 0.00% eROI2 = 0.00% eROI3 = 0.00% mSpread = 0.0000%\n"
     ]
    },
    {
     "name": "stderr",
     "output_type": "stream",
     "text": [
      "100%|██████████████████████████████████████████████████████████████████████████| 24773/24773 [00:04<00:00, 5105.67it/s]\n"
     ]
    },
    {
     "name": "stdout",
     "output_type": "stream",
     "text": [
      "count_dif_dir\n",
      "887\n",
      "Epoch = 1. Time index = 3. Threshold MC = 0.5. Threshold MD = 0.6\n",
      "RD = 9346 NZ = 13450 NZA = 24774 pNZ = 0.389% pNZA = 0.716% AD = 69.49% ADA = 37.73% NO = 6309 GSP = 64.07% NSP = 30.64%\n",
      "SI2 = -534.95 SI = -1536.95 eGROI = 78.82% eROI = -172.40% eROI2 = -47.36% eROI3 = -110.45% mSpread = 0.0398%\n"
     ]
    },
    {
     "name": "stderr",
     "output_type": "stream",
     "text": [
      "100%|████████████████████████████████████████████████████████████████████████████████| 14/14 [00:00<00:00, 1559.92it/s]\n"
     ]
    },
    {
     "name": "stdout",
     "output_type": "stream",
     "text": [
      "count_dif_dir\n",
      "3\n",
      "Epoch = 1. Time index = 3. Threshold MC = 0.5. Threshold MD = 0.7\n",
      "RD = 5 NZ = 5 NZA = 15 pNZ = 0.000% pNZA = 0.000% AD = 100.00% ADA = 33.33% NO = 14 GSP = 64.29% NSP = 7.14%\n",
      "SI2 = -1.70 SI = -6.70 eGROI = 0.22% eROI = -0.76% eROI2 = -0.06% eROI3 = -0.20% mSpread = 0.0706%\n"
     ]
    },
    {
     "name": "stderr",
     "output_type": "stream",
     "text": [
      "0it [00:00, ?it/s]\n"
     ]
    },
    {
     "name": "stdout",
     "output_type": "stream",
     "text": [
      "count_dif_dir\n",
      "0\n",
      "Epoch = 1. Time index = 3. Threshold MC = 0.5. Threshold MD = 0.8\n",
      "RD = 0 NZ = 0 NZA = 0 pNZ = 0.000% pNZA = 0.000% AD = 0.00% ADA = 0.00% NO = 1 GSP = 0.00% NSP = 0.00%\n",
      "SI2 = -0.55 SI = -0.55 eGROI = 0.00% eROI = 0.00% eROI2 = 0.00% eROI3 = 0.00% mSpread = 0.0000%\n"
     ]
    },
    {
     "name": "stderr",
     "output_type": "stream",
     "text": [
      "0it [00:00, ?it/s]\n"
     ]
    },
    {
     "name": "stdout",
     "output_type": "stream",
     "text": [
      "count_dif_dir\n",
      "0\n",
      "Epoch = 1. Time index = 3. Threshold MC = 0.5. Threshold MD = 0.9\n",
      "RD = 0 NZ = 0 NZA = 0 pNZ = 0.000% pNZA = 0.000% AD = 0.00% ADA = 0.00% NO = 1 GSP = 0.00% NSP = 0.00%\n",
      "SI2 = -0.55 SI = -0.55 eGROI = 0.00% eROI = 0.00% eROI2 = 0.00% eROI3 = 0.00% mSpread = 0.0000%\n",
      "\n"
     ]
    },
    {
     "name": "stderr",
     "output_type": "stream",
     "text": [
      "0it [00:00, ?it/s]\n"
     ]
    },
    {
     "name": "stdout",
     "output_type": "stream",
     "text": [
      "count_dif_dir\n",
      "0\n",
      "Epoch = 1. Time index = 3. Threshold MC = 0.6. Threshold MD = 0.5\n",
      "RD = 131762 NZ = 242750 NZA = 371252 pNZ = 7.020% pNZA = 10.736% AD = 54.28% ADA = 35.49% NO = 1 GSP = 0.00% NSP = 0.00%\n",
      "SI2 = -0.55 SI = -0.55 eGROI = 0.00% eROI = 0.00% eROI2 = 0.00% eROI3 = 0.00% mSpread = 0.0000%\n"
     ]
    },
    {
     "name": "stderr",
     "output_type": "stream",
     "text": [
      "100%|██████████████████████████████████████████████████████████████████████████| 13436/13436 [00:02<00:00, 5004.39it/s]\n"
     ]
    },
    {
     "name": "stdout",
     "output_type": "stream",
     "text": [
      "count_dif_dir\n",
      "648\n",
      "Epoch = 1. Time index = 3. Threshold MC = 0.6. Threshold MD = 0.6\n",
      "RD = 5875 NZ = 8455 NZA = 13437 pNZ = 0.245% pNZA = 0.389% AD = 69.49% ADA = 43.72% NO = 4137 GSP = 65.87% NSP = 32.83%\n",
      "SI2 = -142.35 SI = -917.35 eGROI = 70.21% eROI = -115.33% eROI2 = -12.53% eROI3 = -53.90% mSpread = 0.0448%\n"
     ]
    },
    {
     "name": "stderr",
     "output_type": "stream",
     "text": [
      "100%|███████████████████████████████████████████████████████████████████████████████████| 2/2 [00:00<00:00, 668.04it/s]\n"
     ]
    },
    {
     "name": "stdout",
     "output_type": "stream",
     "text": [
      "count_dif_dir\n",
      "0\n",
      "Epoch = 1. Time index = 3. Threshold MC = 0.6. Threshold MD = 0.7\n",
      "RD = 3 NZ = 3 NZA = 3 pNZ = 0.000% pNZA = 0.000% AD = 100.00% ADA = 100.00% NO = 3 GSP = 100.00% NSP = 0.00%\n",
      "SI2 = 0.35 SI = -1.65 eGROI = 0.13% eROI = -0.10% eROI2 = 0.07% eROI3 = 0.04% mSpread = 0.0747%\n"
     ]
    },
    {
     "name": "stderr",
     "output_type": "stream",
     "text": [
      "0it [00:00, ?it/s]\n"
     ]
    },
    {
     "name": "stdout",
     "output_type": "stream",
     "text": [
      "count_dif_dir\n",
      "0\n",
      "Epoch = 1. Time index = 3. Threshold MC = 0.6. Threshold MD = 0.8\n",
      "RD = 0 NZ = 0 NZA = 0 pNZ = 0.000% pNZA = 0.000% AD = 0.00% ADA = 0.00% NO = 1 GSP = 0.00% NSP = 0.00%\n",
      "SI2 = -0.55 SI = -0.55 eGROI = 0.00% eROI = 0.00% eROI2 = 0.00% eROI3 = 0.00% mSpread = 0.0000%\n"
     ]
    },
    {
     "name": "stderr",
     "output_type": "stream",
     "text": [
      "0it [00:00, ?it/s]\n"
     ]
    },
    {
     "name": "stdout",
     "output_type": "stream",
     "text": [
      "count_dif_dir\n",
      "0\n",
      "Epoch = 1. Time index = 3. Threshold MC = 0.6. Threshold MD = 0.9\n",
      "RD = 0 NZ = 0 NZA = 0 pNZ = 0.000% pNZA = 0.000% AD = 0.00% ADA = 0.00% NO = 1 GSP = 0.00% NSP = 0.00%\n",
      "SI2 = -0.55 SI = -0.55 eGROI = 0.00% eROI = 0.00% eROI2 = 0.00% eROI3 = 0.00% mSpread = 0.0000%\n",
      "\n"
     ]
    },
    {
     "name": "stderr",
     "output_type": "stream",
     "text": [
      "100%|██████████████████████████████████████████████████████████████████████████| 33734/33734 [00:05<00:00, 5694.12it/s]\n"
     ]
    },
    {
     "name": "stdout",
     "output_type": "stream",
     "text": [
      "count_dif_dir\n",
      "313\n",
      "Epoch = 1. Time index = 3. Threshold MC = 0.7. Threshold MD = 0.5\n",
      "RD = 13910 NZ = 25371 NZA = 33735 pNZ = 0.734% pNZA = 0.976% AD = 54.83% ADA = 41.23% NO = 4266 GSP = 61.09% NSP = 42.90%\n",
      "SI2 = -200.30 SI = -516.30 eGROI = 48.16% eROI = -93.32% eROI2 = -37.16% eROI3 = -79.82% mSpread = 0.0332%\n"
     ]
    },
    {
     "name": "stderr",
     "output_type": "stream",
     "text": [
      "100%|████████████████████████████████████████████████████████████████████████████| 3537/3537 [00:00<00:00, 4740.98it/s]\n"
     ]
    },
    {
     "name": "stdout",
     "output_type": "stream",
     "text": [
      "count_dif_dir\n",
      "222\n",
      "Epoch = 1. Time index = 3. Threshold MC = 0.7. Threshold MD = 0.6\n",
      "RD = 1786 NZ = 2647 NZA = 3538 pNZ = 0.077% pNZA = 0.102% AD = 67.47% ADA = 50.48% NO = 1524 GSP = 68.57% NSP = 37.53%\n",
      "SI2 = 42.80 SI = -266.20 eGROI = 36.22% eROI = -46.16% eROI2 = 5.74% eROI3 = -9.50% mSpread = 0.0540%\n"
     ]
    },
    {
     "name": "stderr",
     "output_type": "stream",
     "text": [
      "0it [00:00, ?it/s]\n"
     ]
    },
    {
     "name": "stdout",
     "output_type": "stream",
     "text": [
      "count_dif_dir\n",
      "0\n",
      "Epoch = 1. Time index = 3. Threshold MC = 0.7. Threshold MD = 0.7\n",
      "RD = 0 NZ = 0 NZA = 0 pNZ = 0.000% pNZA = 0.000% AD = 0.00% ADA = 0.00% NO = 1 GSP = 0.00% NSP = 0.00%\n",
      "SI2 = -0.55 SI = -0.55 eGROI = 0.00% eROI = 0.00% eROI2 = 0.00% eROI3 = 0.00% mSpread = 0.0000%\n"
     ]
    },
    {
     "name": "stderr",
     "output_type": "stream",
     "text": [
      "0it [00:00, ?it/s]\n"
     ]
    },
    {
     "name": "stdout",
     "output_type": "stream",
     "text": [
      "count_dif_dir\n",
      "0\n",
      "Epoch = 1. Time index = 3. Threshold MC = 0.7. Threshold MD = 0.8\n",
      "RD = 0 NZ = 0 NZA = 0 pNZ = 0.000% pNZA = 0.000% AD = 0.00% ADA = 0.00% NO = 1 GSP = 0.00% NSP = 0.00%\n",
      "SI2 = -0.55 SI = -0.55 eGROI = 0.00% eROI = 0.00% eROI2 = 0.00% eROI3 = 0.00% mSpread = 0.0000%\n"
     ]
    },
    {
     "name": "stderr",
     "output_type": "stream",
     "text": [
      "0it [00:00, ?it/s]\n"
     ]
    },
    {
     "name": "stdout",
     "output_type": "stream",
     "text": [
      "count_dif_dir\n",
      "0\n",
      "Epoch = 1. Time index = 3. Threshold MC = 0.7. Threshold MD = 0.9\n",
      "RD = 0 NZ = 0 NZA = 0 pNZ = 0.000% pNZA = 0.000% AD = 0.00% ADA = 0.00% NO = 1 GSP = 0.00% NSP = 0.00%\n",
      "SI2 = -0.55 SI = -0.55 eGROI = 0.00% eROI = 0.00% eROI2 = 0.00% eROI3 = 0.00% mSpread = 0.0000%\n",
      "\n"
     ]
    },
    {
     "name": "stderr",
     "output_type": "stream",
     "text": [
      "100%|████████████████████████████████████████████████████████████████████████████| 2242/2242 [00:00<00:00, 4854.84it/s]\n"
     ]
    },
    {
     "name": "stdout",
     "output_type": "stream",
     "text": [
      "count_dif_dir\n",
      "32\n",
      "Epoch = 1. Time index = 3. Threshold MC = 0.8. Threshold MD = 0.5\n",
      "RD = 941 NZ = 1857 NZA = 2243 pNZ = 0.054% pNZA = 0.065% AD = 50.67% ADA = 41.95% NO = 598 GSP = 54.68% NSP = 43.48%\n",
      "SI2 = -41.90 SI = -68.90 eGROI = 9.32% eROI = -9.32% eROI2 = -2.64% eROI3 = -8.62% mSpread = 0.0312%\n"
     ]
    },
    {
     "name": "stderr",
     "output_type": "stream",
     "text": [
      "100%|██████████████████████████████████████████████████████████████████████████████| 163/163 [00:00<00:00, 3140.56it/s]\n"
     ]
    },
    {
     "name": "stdout",
     "output_type": "stream",
     "text": [
      "count_dif_dir\n",
      "10\n",
      "Epoch = 1. Time index = 3. Threshold MC = 0.8. Threshold MD = 0.6\n",
      "RD = 85 NZ = 142 NZA = 164 pNZ = 0.004% pNZA = 0.005% AD = 59.86% ADA = 51.83% NO = 128 GSP = 60.16% NSP = 43.75%\n",
      "SI2 = 0.60 SI = -14.40 eGROI = 3.08% eROI = -2.64% eROI2 = 0.52% eROI3 = -0.76% mSpread = 0.0447%\n"
     ]
    },
    {
     "name": "stderr",
     "output_type": "stream",
     "text": [
      "0it [00:00, ?it/s]\n"
     ]
    },
    {
     "name": "stdout",
     "output_type": "stream",
     "text": [
      "count_dif_dir\n",
      "0\n",
      "Epoch = 1. Time index = 3. Threshold MC = 0.8. Threshold MD = 0.7\n",
      "RD = 0 NZ = 0 NZA = 0 pNZ = 0.000% pNZA = 0.000% AD = 0.00% ADA = 0.00% NO = 1 GSP = 0.00% NSP = 0.00%\n",
      "SI2 = -0.55 SI = -0.55 eGROI = 0.00% eROI = 0.00% eROI2 = 0.00% eROI3 = 0.00% mSpread = 0.0000%\n"
     ]
    },
    {
     "name": "stderr",
     "output_type": "stream",
     "text": [
      "0it [00:00, ?it/s]\n"
     ]
    },
    {
     "name": "stdout",
     "output_type": "stream",
     "text": [
      "count_dif_dir\n",
      "0\n",
      "Epoch = 1. Time index = 3. Threshold MC = 0.8. Threshold MD = 0.8\n",
      "RD = 0 NZ = 0 NZA = 0 pNZ = 0.000% pNZA = 0.000% AD = 0.00% ADA = 0.00% NO = 1 GSP = 0.00% NSP = 0.00%\n",
      "SI2 = -0.55 SI = -0.55 eGROI = 0.00% eROI = 0.00% eROI2 = 0.00% eROI3 = 0.00% mSpread = 0.0000%\n"
     ]
    },
    {
     "name": "stderr",
     "output_type": "stream",
     "text": [
      "0it [00:00, ?it/s]\n"
     ]
    },
    {
     "name": "stdout",
     "output_type": "stream",
     "text": [
      "count_dif_dir\n",
      "0\n",
      "Epoch = 1. Time index = 3. Threshold MC = 0.8. Threshold MD = 0.9\n",
      "RD = 0 NZ = 0 NZA = 0 pNZ = 0.000% pNZA = 0.000% AD = 0.00% ADA = 0.00% NO = 1 GSP = 0.00% NSP = 0.00%\n",
      "SI2 = -0.55 SI = -0.55 eGROI = 0.00% eROI = 0.00% eROI2 = 0.00% eROI3 = 0.00% mSpread = 0.0000%\n",
      "\n"
     ]
    },
    {
     "name": "stderr",
     "output_type": "stream",
     "text": [
      "0it [00:00, ?it/s]\n"
     ]
    },
    {
     "name": "stdout",
     "output_type": "stream",
     "text": [
      "count_dif_dir\n",
      "0\n",
      "Epoch = 1. Time index = 3. Threshold MC = 0.9. Threshold MD = 0.5\n",
      "RD = 0 NZ = 0 NZA = 0 pNZ = 0.000% pNZA = 0.000% AD = 0.00% ADA = 0.00% NO = 1 GSP = 0.00% NSP = 0.00%\n",
      "SI2 = -0.55 SI = -0.55 eGROI = 0.00% eROI = 0.00% eROI2 = 0.00% eROI3 = 0.00% mSpread = 0.0000%\n"
     ]
    },
    {
     "name": "stderr",
     "output_type": "stream",
     "text": [
      "0it [00:00, ?it/s]\n"
     ]
    },
    {
     "name": "stdout",
     "output_type": "stream",
     "text": [
      "count_dif_dir\n",
      "0\n",
      "Epoch = 1. Time index = 3. Threshold MC = 0.9. Threshold MD = 0.6\n",
      "RD = 0 NZ = 0 NZA = 0 pNZ = 0.000% pNZA = 0.000% AD = 0.00% ADA = 0.00% NO = 1 GSP = 0.00% NSP = 0.00%\n",
      "SI2 = -0.55 SI = -0.55 eGROI = 0.00% eROI = 0.00% eROI2 = 0.00% eROI3 = 0.00% mSpread = 0.0000%\n"
     ]
    },
    {
     "name": "stderr",
     "output_type": "stream",
     "text": [
      "0it [00:00, ?it/s]\n"
     ]
    },
    {
     "name": "stdout",
     "output_type": "stream",
     "text": [
      "count_dif_dir\n",
      "0\n",
      "Epoch = 1. Time index = 3. Threshold MC = 0.9. Threshold MD = 0.7\n",
      "RD = 0 NZ = 0 NZA = 0 pNZ = 0.000% pNZA = 0.000% AD = 0.00% ADA = 0.00% NO = 1 GSP = 0.00% NSP = 0.00%\n",
      "SI2 = -0.55 SI = -0.55 eGROI = 0.00% eROI = 0.00% eROI2 = 0.00% eROI3 = 0.00% mSpread = 0.0000%\n"
     ]
    },
    {
     "name": "stderr",
     "output_type": "stream",
     "text": [
      "0it [00:00, ?it/s]\n"
     ]
    },
    {
     "name": "stdout",
     "output_type": "stream",
     "text": [
      "count_dif_dir\n",
      "0\n",
      "Epoch = 1. Time index = 3. Threshold MC = 0.9. Threshold MD = 0.8\n",
      "RD = 0 NZ = 0 NZA = 0 pNZ = 0.000% pNZA = 0.000% AD = 0.00% ADA = 0.00% NO = 1 GSP = 0.00% NSP = 0.00%\n",
      "SI2 = -0.55 SI = -0.55 eGROI = 0.00% eROI = 0.00% eROI2 = 0.00% eROI3 = 0.00% mSpread = 0.0000%\n"
     ]
    },
    {
     "name": "stderr",
     "output_type": "stream",
     "text": [
      "0it [00:00, ?it/s]\n"
     ]
    },
    {
     "name": "stdout",
     "output_type": "stream",
     "text": [
      "count_dif_dir\n",
      "0\n",
      "Epoch = 1. Time index = 3. Threshold MC = 0.9. Threshold MD = 0.9\n",
      "RD = 0 NZ = 0 NZA = 0 pNZ = 0.000% pNZA = 0.000% AD = 0.00% ADA = 0.00% NO = 1 GSP = 0.00% NSP = 0.00%\n",
      "SI2 = -0.55 SI = -0.55 eGROI = 0.00% eROI = 0.00% eROI2 = 0.00% eROI3 = 0.00% mSpread = 0.0000%\n",
      "\n",
      "Best eGROI = 78.82 t_index 3 thr_mc 0.5 thr_md 0.6 epoch 1\n",
      "Best eROI = 0.00 t_index 0 thr_mc 0.5 thr_md 0.5 epoch 1\n",
      "Best eROI.5 = 49.53 t_index 3 thr_mc 0.6 thr_md 0.6 epoch 1\n",
      "Best eROI1 = 30.13 t_index 2 thr_mc 0.6 thr_md 0.6 epoch 1\n",
      "Best eROI2 = 9.20 t_index 2 thr_mc 0.7 thr_md 0.6 epoch 1\n",
      "Best eROI3 = 1.16 t_index 2 thr_mc 0.8 thr_md 0.6 epoch 1\n",
      "Best eROI4 = 0.73 t_index 2 thr_mc 0.8 thr_md 0.6 epoch 1\n",
      "Best eROI5 = 0.30 t_index 2 thr_mc 0.8 thr_md 0.6 epoch 1\n",
      "Best SI = -0.55 t_index 0 thr_mc 0.5 thr_md 0.5 epoch 1\n",
      "Best SI.5 = 352.05 t_index 3 thr_mc 0.5 thr_md 0.6 epoch 1\n",
      "Best SI1 = 183.15 t_index 2 thr_mc 0.6 thr_md 0.6 epoch 1\n",
      "Best SI2 = 68.40 t_index 2 thr_mc 0.7 thr_md 0.6 epoch 1\n",
      "Best SI3 = 5.35 t_index 2 thr_mc 0.8 thr_md 0.6 epoch 1\n",
      "Best SI4 = 2.35 t_index 2 thr_mc 0.8 thr_md 0.6 epoch 1\n",
      "Best SI5 = -0.55 t_index 0 thr_mc 0.5 thr_md 0.5 epoch 1\n",
      "Time=184.51 secs\n",
      "INFO:tensorflow:Restoring parameters from ../../RNN/weights/000318INVO/000002/000002\n",
      "Parameters loaded. Epoch 2\n",
      "Epoch 2 of 37. Getting output...\n"
     ]
    },
    {
     "name": "stderr",
     "output_type": "stream",
     "text": [
      " 20%|████████████████▍                                                                 | 14/70 [01:13<05:36,  6.01s/it]"
     ]
    },
    {
     "ename": "KeyboardInterrupt",
     "evalue": "",
     "output_type": "error",
     "traceback": [
      "\u001b[1;31m---------------------------------------------------------------------------\u001b[0m",
      "\u001b[1;31mKeyboardInterrupt\u001b[0m                         Traceback (most recent call last)",
      "\u001b[1;32m<ipython-input-194-15bfd0ee7341>\u001b[0m in \u001b[0;36m<module>\u001b[1;34m()\u001b[0m\n\u001b[0;32m     12\u001b[0m \u001b[0mconfig\u001b[0m\u001b[1;33m[\u001b[0m\u001b[1;34m'thresholds_md'\u001b[0m\u001b[1;33m]\u001b[0m \u001b[1;33m=\u001b[0m \u001b[1;33m[\u001b[0m\u001b[1;36m.5\u001b[0m\u001b[1;33m+\u001b[0m\u001b[0mi\u001b[0m\u001b[1;33m/\u001b[0m\u001b[0mresolution\u001b[0m \u001b[1;32mfor\u001b[0m \u001b[0mi\u001b[0m \u001b[1;32min\u001b[0m \u001b[0mrange\u001b[0m\u001b[1;33m(\u001b[0m\u001b[0mint\u001b[0m\u001b[1;33m(\u001b[0m\u001b[0mresolution\u001b[0m\u001b[1;33m/\u001b[0m\u001b[1;36m2\u001b[0m\u001b[1;33m)\u001b[0m\u001b[1;33m)\u001b[0m\u001b[1;33m]\u001b[0m\u001b[1;33m\u001b[0m\u001b[0m\n\u001b[0;32m     13\u001b[0m \u001b[0mconfig\u001b[0m\u001b[1;33m[\u001b[0m\u001b[1;34m'cost_name'\u001b[0m\u001b[1;33m]\u001b[0m \u001b[1;33m=\u001b[0m \u001b[1;34m'000318TI02'\u001b[0m\u001b[1;33m\u001b[0m\u001b[0m\n\u001b[1;32m---> 14\u001b[1;33m \u001b[0mtest_RNN\u001b[0m\u001b[1;33m(\u001b[0m\u001b[0mconfig\u001b[0m\u001b[1;33m)\u001b[0m\u001b[1;33m\u001b[0m\u001b[0m\n\u001b[0m",
      "\u001b[1;32m~\\root\\Projects\\SDC\\py\\kaissandra\\kaissandra\\testRNN.py\u001b[0m in \u001b[0;36mtest_RNN\u001b[1;34m(*ins)\u001b[0m\n\u001b[0;32m    346\u001b[0m         \u001b[1;31m# run test RNN\u001b[0m\u001b[1;33m\u001b[0m\u001b[1;33m\u001b[0m\u001b[0m\n\u001b[0;32m    347\u001b[0m         \u001b[0mprint\u001b[0m\u001b[1;33m(\u001b[0m\u001b[1;34m\"IDresults: \"\u001b[0m\u001b[1;33m+\u001b[0m\u001b[0mIDresults\u001b[0m\u001b[1;33m)\u001b[0m\u001b[1;33m\u001b[0m\u001b[0m\n\u001b[1;32m--> 348\u001b[1;33m         \u001b[0mmodel\u001b[0m\u001b[1;33m.\u001b[0m\u001b[0mtest2\u001b[0m\u001b[1;33m(\u001b[0m\u001b[0msess\u001b[0m\u001b[1;33m,\u001b[0m \u001b[0mconfig\u001b[0m\u001b[1;33m,\u001b[0m \u001b[0malloc\u001b[0m\u001b[1;33m,\u001b[0m \u001b[0mfilename_IO\u001b[0m\u001b[1;33m,\u001b[0m \u001b[0mDTA\u001b[0m\u001b[1;33m=\u001b[0m\u001b[0mDTA\u001b[0m\u001b[1;33m)\u001b[0m\u001b[1;33m\u001b[0m\u001b[0m\n\u001b[0m\u001b[0;32m    349\u001b[0m         \u001b[1;31m# TEMP: GRE calculation not implemented in test2 yet. Use old test\u001b[0m\u001b[1;33m\u001b[0m\u001b[1;33m\u001b[0m\u001b[0m\n\u001b[0;32m    350\u001b[0m \u001b[1;31m#        if save_journal:\u001b[0m\u001b[1;33m\u001b[0m\u001b[1;33m\u001b[0m\u001b[0m\n",
      "\u001b[1;32m~\\root\\Projects\\SDC\\py\\kaissandra\\kaissandra\\RNN.py\u001b[0m in \u001b[0;36mtest2\u001b[1;34m(self, sess, config, alloc, filename_IO, startFrom, data_format, DTA, from_var)\u001b[0m\n\u001b[0;32m    425\u001b[0m                     \u001b[0mself\u001b[0m\u001b[1;33m.\u001b[0m\u001b[0m_dropout\u001b[0m\u001b[1;33m:\u001b[0m \u001b[1;36m1.0\u001b[0m\u001b[1;33m\u001b[0m\u001b[0m\n\u001b[0;32m    426\u001b[0m                 }\n\u001b[1;32m--> 427\u001b[1;33m                 \u001b[0mJ_test\u001b[0m\u001b[1;33m,\u001b[0m \u001b[0msmo\u001b[0m \u001b[1;33m=\u001b[0m \u001b[0mself\u001b[0m\u001b[1;33m.\u001b[0m\u001b[0m_sess\u001b[0m\u001b[1;33m.\u001b[0m\u001b[0mrun\u001b[0m\u001b[1;33m(\u001b[0m\u001b[1;33m[\u001b[0m\u001b[0mself\u001b[0m\u001b[1;33m.\u001b[0m\u001b[0m_error\u001b[0m\u001b[1;33m,\u001b[0m\u001b[0mself\u001b[0m\u001b[1;33m.\u001b[0m\u001b[0m_pred\u001b[0m\u001b[1;33m]\u001b[0m\u001b[1;33m,\u001b[0m \u001b[0mtest_data_feed\u001b[0m\u001b[1;33m)\u001b[0m\u001b[1;33m\u001b[0m\u001b[0m\n\u001b[0m\u001b[0;32m    428\u001b[0m                 \u001b[0mt_J_test\u001b[0m \u001b[1;33m+=\u001b[0m \u001b[0mJ_test\u001b[0m\u001b[1;33m\u001b[0m\u001b[0m\n\u001b[0;32m    429\u001b[0m                 \u001b[0msoftMaxOut\u001b[0m \u001b[1;33m=\u001b[0m \u001b[0mnp\u001b[0m\u001b[1;33m.\u001b[0m\u001b[0mappend\u001b[0m\u001b[1;33m(\u001b[0m\u001b[0msoftMaxOut\u001b[0m\u001b[1;33m,\u001b[0m\u001b[0msmo\u001b[0m\u001b[1;33m,\u001b[0m\u001b[0maxis\u001b[0m\u001b[1;33m=\u001b[0m\u001b[1;36m0\u001b[0m\u001b[1;33m)\u001b[0m\u001b[1;33m\u001b[0m\u001b[0m\n",
      "\u001b[1;32mC:\\ProgramData\\Anaconda3\\envs\\py35\\lib\\site-packages\\tensorflow\\python\\client\\session.py\u001b[0m in \u001b[0;36mrun\u001b[1;34m(self, fetches, feed_dict, options, run_metadata)\u001b[0m\n\u001b[0;32m    927\u001b[0m     \u001b[1;32mtry\u001b[0m\u001b[1;33m:\u001b[0m\u001b[1;33m\u001b[0m\u001b[0m\n\u001b[0;32m    928\u001b[0m       result = self._run(None, fetches, feed_dict, options_ptr,\n\u001b[1;32m--> 929\u001b[1;33m                          run_metadata_ptr)\n\u001b[0m\u001b[0;32m    930\u001b[0m       \u001b[1;32mif\u001b[0m \u001b[0mrun_metadata\u001b[0m\u001b[1;33m:\u001b[0m\u001b[1;33m\u001b[0m\u001b[0m\n\u001b[0;32m    931\u001b[0m         \u001b[0mproto_data\u001b[0m \u001b[1;33m=\u001b[0m \u001b[0mtf_session\u001b[0m\u001b[1;33m.\u001b[0m\u001b[0mTF_GetBuffer\u001b[0m\u001b[1;33m(\u001b[0m\u001b[0mrun_metadata_ptr\u001b[0m\u001b[1;33m)\u001b[0m\u001b[1;33m\u001b[0m\u001b[0m\n",
      "\u001b[1;32mC:\\ProgramData\\Anaconda3\\envs\\py35\\lib\\site-packages\\tensorflow\\python\\client\\session.py\u001b[0m in \u001b[0;36m_run\u001b[1;34m(self, handle, fetches, feed_dict, options, run_metadata)\u001b[0m\n\u001b[0;32m   1150\u001b[0m     \u001b[1;32mif\u001b[0m \u001b[0mfinal_fetches\u001b[0m \u001b[1;32mor\u001b[0m \u001b[0mfinal_targets\u001b[0m \u001b[1;32mor\u001b[0m \u001b[1;33m(\u001b[0m\u001b[0mhandle\u001b[0m \u001b[1;32mand\u001b[0m \u001b[0mfeed_dict_tensor\u001b[0m\u001b[1;33m)\u001b[0m\u001b[1;33m:\u001b[0m\u001b[1;33m\u001b[0m\u001b[0m\n\u001b[0;32m   1151\u001b[0m       results = self._do_run(handle, final_targets, final_fetches,\n\u001b[1;32m-> 1152\u001b[1;33m                              feed_dict_tensor, options, run_metadata)\n\u001b[0m\u001b[0;32m   1153\u001b[0m     \u001b[1;32melse\u001b[0m\u001b[1;33m:\u001b[0m\u001b[1;33m\u001b[0m\u001b[0m\n\u001b[0;32m   1154\u001b[0m       \u001b[0mresults\u001b[0m \u001b[1;33m=\u001b[0m \u001b[1;33m[\u001b[0m\u001b[1;33m]\u001b[0m\u001b[1;33m\u001b[0m\u001b[0m\n",
      "\u001b[1;32mC:\\ProgramData\\Anaconda3\\envs\\py35\\lib\\site-packages\\tensorflow\\python\\client\\session.py\u001b[0m in \u001b[0;36m_do_run\u001b[1;34m(self, handle, target_list, fetch_list, feed_dict, options, run_metadata)\u001b[0m\n\u001b[0;32m   1326\u001b[0m     \u001b[1;32mif\u001b[0m \u001b[0mhandle\u001b[0m \u001b[1;32mis\u001b[0m \u001b[1;32mNone\u001b[0m\u001b[1;33m:\u001b[0m\u001b[1;33m\u001b[0m\u001b[0m\n\u001b[0;32m   1327\u001b[0m       return self._do_call(_run_fn, feeds, fetches, targets, options,\n\u001b[1;32m-> 1328\u001b[1;33m                            run_metadata)\n\u001b[0m\u001b[0;32m   1329\u001b[0m     \u001b[1;32melse\u001b[0m\u001b[1;33m:\u001b[0m\u001b[1;33m\u001b[0m\u001b[0m\n\u001b[0;32m   1330\u001b[0m       \u001b[1;32mreturn\u001b[0m \u001b[0mself\u001b[0m\u001b[1;33m.\u001b[0m\u001b[0m_do_call\u001b[0m\u001b[1;33m(\u001b[0m\u001b[0m_prun_fn\u001b[0m\u001b[1;33m,\u001b[0m \u001b[0mhandle\u001b[0m\u001b[1;33m,\u001b[0m \u001b[0mfeeds\u001b[0m\u001b[1;33m,\u001b[0m \u001b[0mfetches\u001b[0m\u001b[1;33m)\u001b[0m\u001b[1;33m\u001b[0m\u001b[0m\n",
      "\u001b[1;32mC:\\ProgramData\\Anaconda3\\envs\\py35\\lib\\site-packages\\tensorflow\\python\\client\\session.py\u001b[0m in \u001b[0;36m_do_call\u001b[1;34m(self, fn, *args)\u001b[0m\n\u001b[0;32m   1332\u001b[0m   \u001b[1;32mdef\u001b[0m \u001b[0m_do_call\u001b[0m\u001b[1;33m(\u001b[0m\u001b[0mself\u001b[0m\u001b[1;33m,\u001b[0m \u001b[0mfn\u001b[0m\u001b[1;33m,\u001b[0m \u001b[1;33m*\u001b[0m\u001b[0margs\u001b[0m\u001b[1;33m)\u001b[0m\u001b[1;33m:\u001b[0m\u001b[1;33m\u001b[0m\u001b[0m\n\u001b[0;32m   1333\u001b[0m     \u001b[1;32mtry\u001b[0m\u001b[1;33m:\u001b[0m\u001b[1;33m\u001b[0m\u001b[0m\n\u001b[1;32m-> 1334\u001b[1;33m       \u001b[1;32mreturn\u001b[0m \u001b[0mfn\u001b[0m\u001b[1;33m(\u001b[0m\u001b[1;33m*\u001b[0m\u001b[0margs\u001b[0m\u001b[1;33m)\u001b[0m\u001b[1;33m\u001b[0m\u001b[0m\n\u001b[0m\u001b[0;32m   1335\u001b[0m     \u001b[1;32mexcept\u001b[0m \u001b[0merrors\u001b[0m\u001b[1;33m.\u001b[0m\u001b[0mOpError\u001b[0m \u001b[1;32mas\u001b[0m \u001b[0me\u001b[0m\u001b[1;33m:\u001b[0m\u001b[1;33m\u001b[0m\u001b[0m\n\u001b[0;32m   1336\u001b[0m       \u001b[0mmessage\u001b[0m \u001b[1;33m=\u001b[0m \u001b[0mcompat\u001b[0m\u001b[1;33m.\u001b[0m\u001b[0mas_text\u001b[0m\u001b[1;33m(\u001b[0m\u001b[0me\u001b[0m\u001b[1;33m.\u001b[0m\u001b[0mmessage\u001b[0m\u001b[1;33m)\u001b[0m\u001b[1;33m\u001b[0m\u001b[0m\n",
      "\u001b[1;32mC:\\ProgramData\\Anaconda3\\envs\\py35\\lib\\site-packages\\tensorflow\\python\\client\\session.py\u001b[0m in \u001b[0;36m_run_fn\u001b[1;34m(feed_dict, fetch_list, target_list, options, run_metadata)\u001b[0m\n\u001b[0;32m   1317\u001b[0m       \u001b[0mself\u001b[0m\u001b[1;33m.\u001b[0m\u001b[0m_extend_graph\u001b[0m\u001b[1;33m(\u001b[0m\u001b[1;33m)\u001b[0m\u001b[1;33m\u001b[0m\u001b[0m\n\u001b[0;32m   1318\u001b[0m       return self._call_tf_sessionrun(\n\u001b[1;32m-> 1319\u001b[1;33m           options, feed_dict, fetch_list, target_list, run_metadata)\n\u001b[0m\u001b[0;32m   1320\u001b[0m \u001b[1;33m\u001b[0m\u001b[0m\n\u001b[0;32m   1321\u001b[0m     \u001b[1;32mdef\u001b[0m \u001b[0m_prun_fn\u001b[0m\u001b[1;33m(\u001b[0m\u001b[0mhandle\u001b[0m\u001b[1;33m,\u001b[0m \u001b[0mfeed_dict\u001b[0m\u001b[1;33m,\u001b[0m \u001b[0mfetch_list\u001b[0m\u001b[1;33m)\u001b[0m\u001b[1;33m:\u001b[0m\u001b[1;33m\u001b[0m\u001b[0m\n",
      "\u001b[1;32mC:\\ProgramData\\Anaconda3\\envs\\py35\\lib\\site-packages\\tensorflow\\python\\client\\session.py\u001b[0m in \u001b[0;36m_call_tf_sessionrun\u001b[1;34m(self, options, feed_dict, fetch_list, target_list, run_metadata)\u001b[0m\n\u001b[0;32m   1405\u001b[0m     return tf_session.TF_SessionRun_wrapper(\n\u001b[0;32m   1406\u001b[0m         \u001b[0mself\u001b[0m\u001b[1;33m.\u001b[0m\u001b[0m_session\u001b[0m\u001b[1;33m,\u001b[0m \u001b[0moptions\u001b[0m\u001b[1;33m,\u001b[0m \u001b[0mfeed_dict\u001b[0m\u001b[1;33m,\u001b[0m \u001b[0mfetch_list\u001b[0m\u001b[1;33m,\u001b[0m \u001b[0mtarget_list\u001b[0m\u001b[1;33m,\u001b[0m\u001b[1;33m\u001b[0m\u001b[0m\n\u001b[1;32m-> 1407\u001b[1;33m         run_metadata)\n\u001b[0m\u001b[0;32m   1408\u001b[0m \u001b[1;33m\u001b[0m\u001b[0m\n\u001b[0;32m   1409\u001b[0m   \u001b[1;32mdef\u001b[0m \u001b[0m_call_tf_sessionprun\u001b[0m\u001b[1;33m(\u001b[0m\u001b[0mself\u001b[0m\u001b[1;33m,\u001b[0m \u001b[0mhandle\u001b[0m\u001b[1;33m,\u001b[0m \u001b[0mfeed_dict\u001b[0m\u001b[1;33m,\u001b[0m \u001b[0mfetch_list\u001b[0m\u001b[1;33m)\u001b[0m\u001b[1;33m:\u001b[0m\u001b[1;33m\u001b[0m\u001b[0m\n",
      "\u001b[1;31mKeyboardInterrupt\u001b[0m: "
     ]
    }
   ],
   "source": [
    "# edit config without saving for test purposes\n",
    "from kaissandra.testRNN import test_RNN\n",
    "from kaissandra.config import *\n",
    "config=retrieve_config('C0318INVO')\n",
    "config['IDresults']='100318NROI'\n",
    "config['save_journal']=False\n",
    "config['startFrom']=0\n",
    "config['endAt']=37\n",
    "resolution = 10\n",
    "config['resolution'] = resolution\n",
    "config['thresholds_mc'] = [.5+i/resolution for i in range(int(resolution/2))]\n",
    "config['thresholds_md'] = [.5+i/resolution for i in range(int(resolution/2))]\n",
    "config['cost_name'] = '000318TI02'\n",
    "test_RNN(config)"
   ]
  },
  {
   "cell_type": "code",
   "execution_count": 193,
   "metadata": {},
   "outputs": [
    {
     "name": "stdout",
     "output_type": "stream",
     "text": [
      "000318TI0217\n",
      "000318TI0223\n",
      "000318TI0221\n",
      "000318TI0210\n",
      "000318TI0232\n",
      "000318TI023\n",
      "000318TI0216\n",
      "000318TI0233\n",
      "000318TI0227\n",
      "000318TI0230\n",
      "000318TI0234\n",
      "000318TI0228\n",
      "000318TI0229\n",
      "000318TI0215\n",
      "000318TI020\n",
      "000318TI0213\n",
      "000318TI0236\n",
      "000318TI0237\n",
      "000318TI029\n",
      "000318TI0211\n",
      "000318TI0226\n",
      "000318TI022\n",
      "000318TI0218\n",
      "000318TI0214\n",
      "000318TI026\n",
      "000318TI0231\n",
      "000318TI025\n",
      "000318TI024\n",
      "000318TI0224\n",
      "000318TI0225\n",
      "000318TI0220\n",
      "000318TI0212\n",
      "000318TI0219\n",
      "000318TI021\n",
      "000318TI027\n",
      "000318TI0235\n",
      "000318TI0222\n",
      "000318TI028\n"
     ]
    }
   ],
   "source": [
    "cost=pickle.load( open( \"../../RNN/weights/000318INVO/cost.p\", \"rb\" ))\n",
    "for key in cost.keys():\n",
    "    print(key)"
   ]
  },
  {
   "cell_type": "code",
   "execution_count": 196,
   "metadata": {},
   "outputs": [
    {
     "name": "stdout",
     "output_type": "stream",
     "text": [
      "../../RNN/results/100318R20/journal/J_E29TI0MC0.5MD0.75.csv\n"
     ]
    }
   ],
   "source": [
    "import pandas as pd\n",
    "from kaissandra.results2 import get_extended_results\n",
    "\n",
    "list_results_names = ['100318R20']\n",
    "results_dir  = '../../RNN/results/'\n",
    "ext = '.csv'\n",
    "list_epochs = [29]\n",
    "list_tis = [0]\n",
    "list_mcs = [.5]\n",
    "list_mds = [.75]\n",
    "Journal = pd.DataFrame()\n",
    "for l,name in enumerate(list_results_names):\n",
    "    journal_filename = results_dir+name+'/journal/J_E'+str(list_epochs[l])+'TI'+str(list_tis[l])+'MC'+str(list_mcs[l])+'MD'+str(list_mds[l])+ext\n",
    "    Journal = Journal.append(pd.read_csv(journal_filename,sep='\\t')).sort_values(by=['Asset','DTi']).reset_index().drop(labels='level_0',axis=1)\n",
    "    print(journal_filename)\n",
    "#res_ext, log = get_extended_results(Journal,\n",
    "#                                    5,\n",
    "#                                    n_days, resultsDir, IDresults,\n",
    "#                                    epoch, t_index, thr_mc, thr_md,\n",
    "#                                    get_positions=False,pNZA=1)"
   ]
  },
  {
   "cell_type": "code",
   "execution_count": 203,
   "metadata": {},
   "outputs": [
    {
     "name": "stdout",
     "output_type": "stream",
     "text": [
      "../../RNN/results/100327R20/journal/J_E9TI1MC0.65MD0.7.csv\n"
     ]
    }
   ],
   "source": [
    "import pandas as pd\n",
    "from kaissandra.results2 import get_extended_results\n",
    "\n",
    "results_dir  = '../../RNN/results/'\n",
    "ext = '.csv'\n",
    "list_results_names = ['100327R20']#+['100327R20']#['100326R20']+\n",
    "list_epochs = [9]#+[9]#[51]+#[9]+\n",
    "list_tis = [1]#+[1]#+[1]+\n",
    "list_mcs = [.65]#+[.5]#[.5]#+\n",
    "list_mds = [.7]#+[.7]#[.8]#+\n",
    "Journal = pd.DataFrame()\n",
    "for l,name in enumerate(list_results_names):\n",
    "    journal_filename = results_dir+name+'/journal/J_E'+str(list_epochs[l])+'TI'+str(list_tis[l])+'MC'+str(list_mcs[l])+'MD'+str(list_mds[l])+ext\n",
    "    Journal = Journal.append(pd.read_csv(journal_filename,sep='\\t')).sort_values(by=['Asset','DTi']).reset_index().drop(labels='level_0',axis=1)\n",
    "    print(journal_filename)\n",
    "#res_ext, log = get_extended_results(Journal,\n",
    "#                                    5,\n",
    "#                                    n_days, resultsDir, IDresults,\n",
    "#                                    epoch, t_index, thr_mc, thr_md,\n",
    "#                                    get_positions=False,pNZA=1)"
   ]
  },
  {
   "cell_type": "code",
   "execution_count": 204,
   "metadata": {},
   "outputs": [
    {
     "name": "stdout",
     "output_type": "stream",
     "text": [
      "shape\n",
      "1289\n"
     ]
    },
    {
     "name": "stderr",
     "output_type": "stream",
     "text": [
      "\n",
      "  0%|                                                                                         | 0/1288 [00:00<?, ?it/s]\n",
      "100%|████████████████████████████████████████████████████████████████████████████| 1288/1288 [00:00<00:00, 3461.91it/s]"
     ]
    },
    {
     "name": "stdout",
     "output_type": "stream",
     "text": [
      "count_dif_dir\n",
      "213\n"
     ]
    },
    {
     "data": {
      "text/plain": [
       "{'GSP': 80.13157894736842,\n",
       " 'NO': 760,\n",
       " 'NOl1': 606.0,\n",
       " 'NOl2': 154.0,\n",
       " 'NSP': 32.631578947368425,\n",
       " 'NSP.5': 77.63157894736842,\n",
       " 'NSP1': 75.26315789473685,\n",
       " 'NSP2': 68.55263157894737,\n",
       " 'NSP3': 60.526315789473685,\n",
       " 'NSP4': 52.23684210526316,\n",
       " 'NSP5': 45.78947368421053,\n",
       " 'SI': -170.00000000000003,\n",
       " 'SI.5': 171.99999999999994,\n",
       " 'SI1': 153.99999999999997,\n",
       " 'SI2': 102.99999999999994,\n",
       " 'SI3': 41.999999999999964,\n",
       " 'SI4': -21.00000000000002,\n",
       " 'SI5': -70.00000000000004,\n",
       " 'eGROI': 36.33329148129202,\n",
       " 'eGl1': 27.783566110401452,\n",
       " 'eGl2': 8.549725370890567,\n",
       " 'eROI': -19.362295256637385,\n",
       " 'eROI.5': 32.533291481292345,\n",
       " 'eROI1': 28.73329148129243,\n",
       " 'eROI2': 21.13329148129172,\n",
       " 'eROI3': 13.533291481292192,\n",
       " 'eROI4': 5.933291481292104,\n",
       " 'eROI5': -1.6667085187079889,\n",
       " 'eRl1': -16.415169156022856,\n",
       " 'eRl2': -2.947126100614565,\n",
       " 'mSpread': 0.07328366676043353,\n",
       " 'sharpe': -7.672074442445461}"
      ]
     },
     "execution_count": 204,
     "metadata": {},
     "output_type": "execute_result"
    }
   ],
   "source": [
    "print(\"shape\")\n",
    "print(Journal.shape[0])\n",
    "#print(Journal)\n",
    "n_days = 33*5+1\n",
    "pos_dirname = '../../RNN/results/MERGED/positions/'\n",
    "pos_filename = '_'.join([entry for entry in list_results_names])+'.csv'\n",
    "res_ext, log = get_extended_results(Journal,\n",
    "                                    5,\n",
    "                                    n_days,\n",
    "                                   get_positions=True,pos_dirname=pos_dirname,\n",
    "                                   pos_filename=pos_filename)\n",
    "res_ext\n"
   ]
  },
  {
   "cell_type": "code",
   "execution_count": 149,
   "metadata": {},
   "outputs": [
    {
     "data": {
      "text/plain": [
       "0.03504676801726555"
      ]
     },
     "execution_count": 149,
     "metadata": {},
     "output_type": "execute_result"
    }
   ],
   "source": [
    "63.82016455944056/1821"
   ]
  },
  {
   "cell_type": "code",
   "execution_count": 211,
   "metadata": {},
   "outputs": [
    {
     "name": "stdout",
     "output_type": "stream",
     "text": [
      "total mean GROI\n",
      "0.04780671052631573\n",
      "mean GROI of selected\n",
      "0.034288961038961084\n",
      "mean_spread of selected\n",
      "0.026624350649350644\n",
      "Number of pos under 0.05\n",
      "308\n",
      "per under pip_limit\n",
      "40.526315789473685\n",
      "total gross success rate\n",
      "80.13157894736842\n",
      "gross success rate\n",
      "70.12987012987013\n",
      "total success rate\n",
      "32.63157894736842\n",
      "success rate\n",
      "50.64935064935065\n",
      "GROI for positions under 0.05\n",
      "10.561000000000002\n",
      "ROI for positions under 0.05\n",
      "2.3611999999999997\n",
      "positions['GROI'].sum()-pip_limit*positions['GROI'].shape[0]\n",
      "-1.6668999999999983\n",
      "# Assets\n",
      "21\n"
     ]
    }
   ],
   "source": [
    "positions = pd.read_csv(pos_dirname+pos_filename,sep='\\t')\n",
    "#print(positions)\n",
    "pip_limit = 0.05\n",
    "pos_under_2p = positions['spread']<pip_limit\n",
    "per_under_2p = 100*sum(pos_under_2p)/positions.shape[0]\n",
    "tgsr = 100*sum(positions['GROI']>0)/positions.shape[0]\n",
    "gsr = 100*sum(positions[pos_under_2p]['GROI']>0)/sum(pos_under_2p)\n",
    "tsr = 100*sum(positions['ROI']>0)/positions.shape[0]\n",
    "sr = 100*sum(positions[pos_under_2p]['ROI']>0)/sum(pos_under_2p)\n",
    "mean_spread = positions[pos_under_2p]['spread'].mean()\n",
    "print(\"total mean GROI\")\n",
    "print(positions['GROI'].mean())\n",
    "print(\"mean GROI of selected\")\n",
    "print(positions[pos_under_2p]['GROI'].mean())\n",
    "print(\"mean_spread of selected\")\n",
    "print(mean_spread)\n",
    "print(\"Number of pos under \"+str(pip_limit))\n",
    "print(positions[pos_under_2p].shape[0])\n",
    "print(\"per under pip_limit\")\n",
    "print(per_under_2p)\n",
    "print(\"total gross success rate\")\n",
    "print(tgsr)\n",
    "print(\"gross success rate\")\n",
    "print(gsr)\n",
    "print(\"total success rate\")\n",
    "print(tsr)\n",
    "print(\"success rate\")\n",
    "print(sr)\n",
    "print(\"GROI for positions under \"+str(pip_limit))\n",
    "print(positions[pos_under_2p]['GROI'].sum())\n",
    "print(\"ROI for positions under \"+str(pip_limit))\n",
    "print(positions[pos_under_2p]['ROI'].sum())\n",
    "print(\"positions['GROI'].sum()-pip_limit*positions['GROI'].shape[0]\")\n",
    "print(positions['GROI'].sum()-pip_limit*positions['GROI'].shape[0])\n",
    "print(\"# Assets\")\n",
    "print(positions['Asset'][pos_under_2p].unique().shape[0])"
   ]
  },
  {
   "cell_type": "code",
   "execution_count": 199,
   "metadata": {},
   "outputs": [
    {
     "data": {
      "text/plain": [
       "49      0.0194\n",
       "59      0.0144\n",
       "337     0.0182\n",
       "338     0.0150\n",
       "357     0.0151\n",
       "449     0.0139\n",
       "450     0.0125\n",
       "506     0.0188\n",
       "546     0.0156\n",
       "597     0.0192\n",
       "628     0.0195\n",
       "694     0.0091\n",
       "703     0.0154\n",
       "706     0.0153\n",
       "710     0.0174\n",
       "713     0.0150\n",
       "719     0.0184\n",
       "721     0.0138\n",
       "726     0.0179\n",
       "727     0.0170\n",
       "731     0.0163\n",
       "732     0.0071\n",
       "735     0.0094\n",
       "737     0.0116\n",
       "745     0.0115\n",
       "747     0.0118\n",
       "748     0.0135\n",
       "749     0.0119\n",
       "751     0.0142\n",
       "752     0.0150\n",
       "         ...  \n",
       "1539    0.0123\n",
       "1544    0.0196\n",
       "1545    0.0195\n",
       "1546    0.0114\n",
       "1550    0.0138\n",
       "1561    0.0199\n",
       "1562    0.0198\n",
       "1662    0.0199\n",
       "1669    0.0132\n",
       "1670    0.0153\n",
       "1675    0.0127\n",
       "1676    0.0146\n",
       "1679    0.0118\n",
       "1680    0.0190\n",
       "1681    0.0136\n",
       "1682    0.0182\n",
       "1685    0.0090\n",
       "1687    0.0135\n",
       "1688    0.0099\n",
       "1690    0.0099\n",
       "1694    0.0133\n",
       "1695    0.0151\n",
       "1698    0.0177\n",
       "1699    0.0159\n",
       "1700    0.0114\n",
       "1703    0.0150\n",
       "1704    0.0134\n",
       "1705    0.0116\n",
       "1707    0.0142\n",
       "1710    0.0159\n",
       "Name: spread, Length: 120, dtype: float64"
      ]
     },
     "execution_count": 199,
     "metadata": {},
     "output_type": "execute_result"
    }
   ],
   "source": [
    "positions[pos_under_2p]['spread']"
   ]
  },
  {
   "cell_type": "code",
   "execution_count": 212,
   "metadata": {},
   "outputs": [
    {
     "name": "stdout",
     "output_type": "stream",
     "text": [
      "(308,)\n"
     ]
    },
    {
     "data": {
      "image/png": "[encoded data removed]",
      "text/plain": [
       "<Figure size 432x288 with 1 Axes>"
      ]
     },
     "metadata": {},
     "output_type": "display_data"
    },
    {
     "data": {
      "image/png": "[encoded data removed]",
      "text/plain": [
       "<Figure size 432x288 with 1 Axes>"
      ]
     },
     "metadata": {},
     "output_type": "display_data"
    },
    {
     "data": {
      "image/png": "[encoded data removed]",
      "text/plain": [
       "<Figure size 432x288 with 1 Axes>"
      ]
     },
     "metadata": {},
     "output_type": "display_data"
    }
   ],
   "source": [
    "import matplotlib.pyplot as plt\n",
    "\n",
    "plt.figure(0)\n",
    "bins = [i/100 for i in range(-50,50)]\n",
    "histG = plt.hist(positions[pos_under_2p]['GROI'], bins=bins)\n",
    "histR = plt.hist(positions[pos_under_2p]['ROI'], bins=bins)\n",
    "plt.grid()\n",
    "\n",
    "pos_under_thr = positions[pos_under_2p]\n",
    "#pos_under_thr.index = range(pos_under_thr.shape[0])\n",
    "plt.figure(1)\n",
    "plt.plot(range(pos_under_thr.shape[0]),pos_under_thr['GROI'].cumsum())\n",
    "plt.plot(range(pos_under_thr.shape[0]),pos_under_thr['ROI'].cumsum())\n",
    "plt.grid()\n",
    "\n",
    "plt.figure(2)\n",
    "#print(pos_under_thr['ROI'])\n",
    "print(positions[pos_under_2p]['GROI'].shape)\n",
    "cumG = plt.plot(positions['GROI'].cumsum())#, bins=bins\n",
    "cumR = plt.plot(positions['ROI'].cumsum())\n",
    "plt.grid()"
   ]
  },
  {
   "cell_type": "code",
   "execution_count": 214,
   "metadata": {},
   "outputs": [
    {
     "name": "stdout",
     "output_type": "stream",
     "text": [
      "Di\n",
      "11   -0.1238\n",
      "12   -0.0484\n",
      "13    0.7162\n",
      "14   -0.0283\n",
      "15   -0.1758\n",
      "16   -0.0304\n",
      "17   -0.0886\n",
      "18    0.1331\n",
      "19    0.3527\n",
      "20   -0.1181\n",
      "21    0.6812\n",
      "22    0.2556\n",
      "23    0.6136\n",
      "24   -0.0638\n",
      "25   -0.1430\n",
      "26    0.3539\n",
      "27   -0.3579\n",
      "28    0.7094\n",
      "31   -0.1142\n",
      "32    0.1715\n",
      "33    0.2438\n",
      "34   -0.2778\n",
      "35   -0.2746\n",
      "36   -0.7419\n",
      "37   -0.0909\n",
      "38    0.3210\n",
      "39   -0.1950\n",
      "40    0.2973\n",
      "41   -0.1490\n",
      "42    0.6102\n",
      "43   -0.1534\n",
      "44    0.2523\n",
      "45   -0.1757\n",
      "Name: ROI, dtype: float64\n",
      "Di\n",
      "11   -0.0823\n",
      "12    0.1746\n",
      "13    0.9831\n",
      "14   -0.0061\n",
      "15    0.1361\n",
      "16    0.0704\n",
      "17    0.0415\n",
      "18    0.2259\n",
      "19    0.5111\n",
      "20    0.2032\n",
      "21    0.9120\n",
      "22    0.5060\n",
      "23    1.0582\n",
      "24    0.0520\n",
      "25    0.2226\n",
      "26    0.7339\n",
      "27   -0.1593\n",
      "28    0.9302\n",
      "31    0.0127\n",
      "32    0.3338\n",
      "33    0.4859\n",
      "34   -0.0826\n",
      "35   -0.0562\n",
      "36   -0.2759\n",
      "37    0.2914\n",
      "38    0.6153\n",
      "39    0.0268\n",
      "40    0.6934\n",
      "41    0.3318\n",
      "42    1.0443\n",
      "43    0.0097\n",
      "44    0.4846\n",
      "45    0.1329\n",
      "Name: GROI, dtype: float64\n",
      "Di\n",
      "11     1\n",
      "12     6\n",
      "13     8\n",
      "14     1\n",
      "15     8\n",
      "16     4\n",
      "17     4\n",
      "18     4\n",
      "19     5\n",
      "20    10\n",
      "21     8\n",
      "22    10\n",
      "23    22\n",
      "24     6\n",
      "25    18\n",
      "26    20\n",
      "27     8\n",
      "28     8\n",
      "31     4\n",
      "32     7\n",
      "33     8\n",
      "34    10\n",
      "35     8\n",
      "36    15\n",
      "37    14\n",
      "38    11\n",
      "39     8\n",
      "40    16\n",
      "41    15\n",
      "42    15\n",
      "43     6\n",
      "44     8\n",
      "45    12\n",
      "Name: ROI, dtype: int64\n"
     ]
    },
    {
     "data": {
      "text/plain": [
       "(array([ 6., 14.,  6.,  6.]),\n",
       " array([ 0,  5, 10, 15, 20]),\n",
       " <a list of 4 Patch objects>)"
      ]
     },
     "execution_count": 214,
     "metadata": {},
     "output_type": "execute_result"
    },
    {
     "data": {
      "image/png": "[encoded data removed]",
      "text/plain": [
       "<Figure size 432x288 with 1 Axes>"
      ]
     },
     "metadata": {},
     "output_type": "display_data"
    },
    {
     "data": {
      "image/png": "[encoded data removed]",
      "text/plain": [
       "<Figure size 432x288 with 1 Axes>"
      ]
     },
     "metadata": {},
     "output_type": "display_data"
    }
   ],
   "source": [
    "#positions\n",
    "#grouped = pos_format.groupby(['asset'])\n",
    "weekly_group = positions[pos_under_2p].groupby([pd.to_datetime(positions[pos_under_2p]['Di']).dt.strftime('%W')])['ROI']\n",
    "weekly_group_G = positions[pos_under_2p].groupby([pd.to_datetime(positions[pos_under_2p]['Di']).dt.strftime('%W')])['GROI']\n",
    "weekly_sum = weekly_group.sum()\n",
    "weekly_sum_G = weekly_group_G.sum()\n",
    "weekly_count = weekly_group.count()\n",
    "#weekly_sum.cumsum()\n",
    "plt.figure(0)\n",
    "plt.plot(weekly_sum_G.cumsum())\n",
    "plt.plot(weekly_sum.cumsum())\n",
    "plt.grid()\n",
    "print(weekly_sum)\n",
    "print(positions[pos_under_2p].groupby([pd.to_datetime(positions[pos_under_2p]['Di']).dt.strftime('%W')])['GROI'].sum())\n",
    "print(weekly_count)\n",
    "plt.figure(1)\n",
    "plt.grid()\n",
    "plt.hist(weekly_count, bins=range(0,max(weekly_count),5))\n",
    "\n",
    "#for name, group in weekly_group:\n",
    "#    print(name)\n",
    "#    print(group.to_string())\n",
    "#pd.to_datetime(positions['Di']).dt.strftime('%W')\n",
    "#pd.to_datetime(positions['Di'])#.groupby('Name').resample('W-Mon', on='Date').sum().reset_index().sort_values(by='Date')"
   ]
  },
  {
   "cell_type": "code",
   "execution_count": 212,
   "metadata": {},
   "outputs": [
    {
     "data": {
      "text/plain": [
       "-5.5287999999999995"
      ]
     },
     "execution_count": 212,
     "metadata": {},
     "output_type": "execute_result"
    }
   ],
   "source": [
    "positions[positions['ROI']<-.2]['ROI'].sum()"
   ]
  },
  {
   "cell_type": "code",
   "execution_count": 91,
   "metadata": {},
   "outputs": [
    {
     "data": {
      "text/plain": [
       "-0.5216"
      ]
     },
     "execution_count": 91,
     "metadata": {},
     "output_type": "execute_result"
    }
   ],
   "source": [
    "positions['GROI'].min()"
   ]
  },
  {
   "cell_type": "code",
   "execution_count": 144,
   "metadata": {},
   "outputs": [
    {
     "name": "stdout",
     "output_type": "stream",
     "text": [
      "0.035496947809999325\n"
     ]
    },
    {
     "data": {
      "text/plain": [
       "[<matplotlib.lines.Line2D at 0x1d66e347dd8>]"
      ]
     },
     "execution_count": 144,
     "metadata": {},
     "output_type": "execute_result"
    },
    {
     "data": {
      "image/png": "[encoded data removed]",
      "text/plain": [
       "<Figure size 432x288 with 1 Axes>"
      ]
     },
     "metadata": {},
     "output_type": "display_data"
    }
   ],
   "source": [
    "abs_B = (positions['Bo']-positions['Ao'])\n",
    "abs_A = (positions['Bi']-positions['Ai'])\n",
    "dif = 100*abs(abs_A-abs_B)/positions['Ai']\n",
    "print(np.mean(dif))\n",
    "plt.plot(dif)"
   ]
  },
  {
   "cell_type": "code",
   "execution_count": null,
   "metadata": {},
   "outputs": [],
   "source": []
  }
 ],
 "metadata": {
  "kernelspec": {
   "display_name": "Python 3",
   "language": "python",
   "name": "python3"
  },
  "language_info": {
   "codemirror_mode": {
    "name": "ipython",
    "version": 3
   },
   "file_extension": ".py",
   "mimetype": "text/x-python",
   "name": "python",
   "nbconvert_exporter": "python",
   "pygments_lexer": "ipython3",
   "version": "3.5.5"
  }
 },
 "nbformat": 4,
 "nbformat_minor": 2
}
