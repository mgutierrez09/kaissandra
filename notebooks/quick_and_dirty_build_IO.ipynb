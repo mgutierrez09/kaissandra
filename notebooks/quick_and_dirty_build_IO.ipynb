{
 "cells": [
  {
   "cell_type": "code",
   "execution_count": 2,
   "metadata": {},
   "outputs": [
    {
     "name": "stdout",
     "output_type": "stream",
     "text": [
      "C:\\Users\\mgutierrez\\root\\Projects\\SDC\\py\\kaissandra\\ added to python path\n"
     ]
    }
   ],
   "source": [
    "import sys\n",
    "import os\n",
    "\n",
    "this_path = os.getcwd()\n",
    "path = '\\\\'.join(this_path.split('\\\\')[:-1])+'\\\\'\n",
    "if path not in sys.path:\n",
    "    sys.path.insert(0, path)\n",
    "    print(path+\" added to python path\")\n",
    "else:\n",
    "    print(path+\" already in python path\")\n",
    "\n",
    "%load_ext autoreload\n",
    "%autoreload 2"
   ]
  },
  {
   "cell_type": "code",
   "execution_count": null,
   "metadata": {},
   "outputs": [],
   "source": [
    "# Train/Test RNN\n",
    "import h5py\n",
    "import numpy as np\n",
    "import pickle\n",
    "from inputs import Data, load_separators, _build_bin_output, build_IO_from_var, build_DTA_from_var\n",
    "from RNN import modelRNN\n",
    "from features import get_init_end_dates, get_group_name\n",
    "\n",
    "dateTest = ([                                                       '2018.03.09',\n",
    "                '2018.03.12','2018.03.13','2018.03.14','2018.03.15','2018.03.16',\n",
    "                '2018.03.19','2018.03.20','2018.03.21','2018.03.22','2018.03.23',\n",
    "                '2018.03.26','2018.03.27','2018.03.28','2018.03.29','2018.03.30',\n",
    "                '2018.04.02','2018.04.03','2018.04.04','2018.04.05','2018.04.06',\n",
    "                '2018.04.09','2018.04.10','2018.04.11','2018.04.12','2018.04.13',\n",
    "                '2018.04.16','2018.04.17','2018.04.18','2018.04.19','2018.04.20',\n",
    "                '2018.04.23','2018.04.24','2018.04.25','2018.04.26','2018.04.27',\n",
    "                '2018.04.30','2018.05.01','2018.05.02','2018.05.03','2018.05.04',\n",
    "                '2018.05.07','2018.05.08','2018.05.09','2018.05.10','2018.05.11',\n",
    "                '2018.05.14','2018.05.15','2018.05.16','2018.05.17','2018.05.18',\n",
    "                '2018.05.21','2018.05.22','2018.05.23','2018.05.24','2018.05.25',\n",
    "                '2018.05.28','2018.05.29','2018.05.30','2018.05.31','2018.06.01',\n",
    "                '2018.06.04','2018.06.05','2018.06.06','2018.06.07','2018.06.08',\n",
    "                '2018.06.11','2018.06.12','2018.06.13','2018.06.14','2018.06.15',\n",
    "                '2018.06.18','2018.06.19','2018.06.20','2018.06.21','2018.06.22',\n",
    "                '2018.06.25','2018.06.26','2018.06.27','2018.06.28','2018.06.29',\n",
    "                '2018.07.02','2018.07.03','2018.07.04','2018.07.05','2018.07.06',\n",
    "                '2018.07.09','2018.07.10','2018.07.11','2018.07.12','2018.07.13',\n",
    "                '2018.07.30','2018.07.31','2018.08.01','2018.08.02','2018.08.03',\n",
    "                '2018.08.06','2018.08.07','2018.08.08','2018.08.09','2018.08.10']+\n",
    "               ['2018.08.13','2018.08.14','2018.08.15','2018.08.16','2018.08.17',\n",
    "                '2018.08.20','2018.08.21','2018.08.22','2018.08.23','2018.08.24',\n",
    "                '2018.08.27','2018.08.28','2018.08.29','2018.08.30','2018.08.31',\n",
    "                '2018.09.03','2018.09.04','2018.09.05','2018.09.06','2018.09.07',\n",
    "                '2018.09.10','2018.09.11','2018.09.12','2018.09.13','2018.09.14',\n",
    "                '2018.09.17','2018.09.18','2018.09.19','2018.09.20','2018.09.21',\n",
    "                '2018.09.24','2018.09.25','2018.09.26','2018.09.27']+['2018.09.28',\n",
    "                '2018.10.01','2018.10.02','2018.10.03','2018.10.04','2018.10.05',\n",
    "                '2018.10.08','2018.10.09','2018.10.10','2018.10.11','2018.10.12',\n",
    "                '2018.10.15','2018.10.16','2018.10.17','2018.10.18','2018.10.19',\n",
    "                '2018.10.22','2018.10.23','2018.10.24','2018.10.25','2018.10.26',\n",
    "                '2018.10.29','2018.10.30','2018.10.31','2018.11.01','2018.11.02',\n",
    "                '2018.11.05','2018.11.06','2018.11.07','2018.11.08','2018.11.09'])\n",
    "\n",
    "data=Data(movingWindow=100,\n",
    "          nEventsPerStat=1000,\n",
    "          lB=1300, \n",
    "          dateTest=dateTest,\n",
    "          assets=[1,2,3,4,7,8,10,11,12,13,14,15,16,17,19,27,28,29,30,31,32],\n",
    "          channels=[0],\n",
    "          max_var=10,\n",
    "          feature_keys_manual=[],\n",
    "          feature_keys_tsfresh=[],#[i for i in range(37,48)]+[49,50]+[i for i in range(52,68)],\n",
    "          var_feat_keys=[i for i in range(68,93)])\n",
    "\n",
    "model=modelRNN(data,\n",
    "               size_hidden_layer=100,\n",
    "               L=3,\n",
    "               size_output_layer=5,\n",
    "               keep_prob_dropout=1,\n",
    "               miniBatchSize=32,\n",
    "               outputGain=.6,\n",
    "               commonY=3,\n",
    "               lR0=0.0001,\n",
    "               num_epochs=20)\n",
    "\n",
    "tOt = 'tr' # tr->train te->test\n",
    "if tOt == 'tr':\n",
    "    calculate_roi = False\n",
    "else:\n",
    "    calculate_roi = True\n",
    "if_build_IO = False\n",
    "from_stats_file = False\n",
    "\n",
    "IDweights = '000400'\n",
    "IDresults = '100400'\n",
    "IO_results_name = IDresults\n",
    "hdf5_directory = 'D:/SDC/py/HDF5/'\n",
    "feats_var_directory = hdf5_directory+'feats_var/'\n",
    "IO_directory = '../RNN/IO/'\n",
    "if tOt=='tr':\n",
    "    filename_IO = IO_directory+'IO_'+IDweights+'.hdf5'\n",
    "else:\n",
    "    filename_IO = IO_directory+'IO_'+IO_results_name+'.hdf5'\n",
    "separators_directory = hdf5_directory+'separators/'\n",
    "\n",
    "# if IO structures have to be built \n",
    "if if_build_IO:\n",
    "    # init dictionary containing IO structures\n",
    "    IO = {}\n",
    "    # open IO file for writting\n",
    "    f_IO = h5py.File(filename_IO,'w')\n",
    "    # init IO data sets\n",
    "    X = f_IO.create_dataset('X',\n",
    "                            (0, model.seq_len, model.nFeatures), \n",
    "                            maxshape=(None,model.seq_len, model.nFeatures), \n",
    "                            dtype=float)\n",
    "    Y = f_IO.create_dataset('Y',\n",
    "                            (0,model.seq_len,model.commonY+model.size_output_layer),\n",
    "                            maxshape=(None,model.seq_len,model.commonY+\n",
    "                            model.size_output_layer),\n",
    "                            dtype=float)\n",
    "    if calculate_roi:\n",
    "        D = f_IO.create_dataset('D', (0,2),\n",
    "                                    maxshape=(None,2),dtype='S19')\n",
    "        B = f_IO.create_dataset('B', (0,2),\n",
    "                                    maxshape=(None,2),dtype=float)\n",
    "        A = f_IO.create_dataset('A', (0,2),\n",
    "                                    maxshape=(None,2),dtype=float)\n",
    "        IO['D'] = D\n",
    "        IO['B'] = B\n",
    "        IO['A'] = A\n",
    "    # attributes to track asset-IO belonging\n",
    "    ass_IO_ass = np.zeros((len(data.assets))).astype(int)\n",
    "    # structure that tracks the number of samples per level\n",
    "    totalSampsPerLevel = np.zeros((model.size_output_layer))\n",
    "    # save IO structures in dictionary\n",
    "    IO['X'] = X\n",
    "    IO['Y'] = Y\n",
    "    IO['pointer'] = 0\n",
    "    \n",
    "for ass_idx, ass in enumerate(data.assets):\n",
    "    thisAsset = data.AllAssets[str(ass)]\n",
    "    print(str(ass)+\" \"+thisAsset)\n",
    "    #thisAsset = 'EURUSD'\n",
    "    # load separators\n",
    "    separators = load_separators(data, \n",
    "                                 thisAsset, \n",
    "                                 separators_directory, \n",
    "                                 tOt='tr', \n",
    "                                 from_txt=1)\n",
    "    aloc = 2**20\n",
    "    # index asset\n",
    "    #ass_idx = 0\n",
    "\n",
    "    filename_features = (feats_var_directory+thisAsset+'_feats_var_mW'+str(data.movingWindow)+'_nE'+\n",
    "                                str(data.nEventsPerStat)+'.hdf5')\n",
    "    file_features = h5py.File(filename_features,'r')\n",
    "    filename_returns = (feats_var_directory+thisAsset+'_rets_var_mW'+str(data.movingWindow)+'_nE'+\n",
    "                                str(data.nEventsPerStat)+'.hdf5')\n",
    "    file_returns = h5py.File(filename_returns,'r')\n",
    "    filename_symbols = (feats_var_directory+thisAsset+'_symbols_mW'+str(data.movingWindow)+'_nE'+\n",
    "                                str(data.nEventsPerStat)+'.hdf5')\n",
    "    file_symbols = h5py.File(filename_symbols,'r')\n",
    "    filename_stats = (feats_var_directory+thisAsset+'_stats_mW'+str(data.movingWindow)+'_nE'+\n",
    "                                    str(data.nEventsPerStat)+'.p')\n",
    "    # init or load total stats\n",
    "    if not from_stats_file:\n",
    "        stats = {}\n",
    "        # load stats in\n",
    "        stats[\"means_in\"] = file_features[thisAsset].attrs.get(\"means_in\")\n",
    "        stats[\"stds_in\"] = file_features[thisAsset].attrs.get(\"stds_in\")\n",
    "        stats[\"m_in\"] = file_features[thisAsset].attrs.get(\"m_in\")\n",
    "        # load stats out\n",
    "        stats[\"means_out\"] = file_returns[thisAsset].attrs.get(\"means_out\")\n",
    "        stats[\"stds_out\"] = file_returns[thisAsset].attrs.get(\"stds_out\")\n",
    "        stats[\"m_out\"] = file_returns[thisAsset].attrs.get(\"m_out\")\n",
    "    elif from_stats_file:\n",
    "        stats = pickle.load( open( filename_stats, \"rb\" ))\n",
    "    print(stats)\n",
    "\n",
    "    nExS = data.nEventsPerStat\n",
    "    mW = data.movingWindow\n",
    "    if if_build_IO:\n",
    "        for s in range(0,len(separators)-1,2):#\n",
    "            print(\"\\ts {0:d} of {1:d}\".format(int(s/2),int(len(separators)/2-1))+\n",
    "                  \". From \"+separators.DateTime.iloc[s]+\" to \"+\n",
    "                  separators.DateTime.iloc[s+1])\n",
    "\n",
    "            # number of events within this separator chunk\n",
    "            nE = separators.index[s+1]-separators.index[s]+1\n",
    "            # get first day after separator\n",
    "            day_s = separators.DateTime.iloc[s][0:10]\n",
    "            # check if number of events is not enough to build two features and one return\n",
    "            if nE-nExS>=2*nExS:\n",
    "                if (tOt == 'tr' and (day_s not in data.dateTest and day_s<=data.dateTest[-1])) or \\\n",
    "                    (tOt == 'te' and (day_s in data.dateTest and day_s<=data.dateTest[-1])):\n",
    "                    # init and end dates\n",
    "                    init_date, end_date = get_init_end_dates(separators, s)\n",
    "                    #print(\"init_date\")\n",
    "                    #print(init_date)\n",
    "                    #print(\"end_date\")\n",
    "                    #print(end_date)\n",
    "                    # get group name\n",
    "                    group_name = get_group_name(thisAsset, init_date, end_date)\n",
    "                    #print(\"group_name\")\n",
    "                    #print(group_name)\n",
    "                    # load features\n",
    "                    if group_name in file_features:\n",
    "                        features = file_features[group_name][\"features\"]\n",
    "                    else:\n",
    "                        raise ValueError(group_name+\" not in \"+filename_features)\n",
    "                    #print(\"features\")\n",
    "                    #print(features)\n",
    "                    # load returns\n",
    "                    if group_name in file_returns:\n",
    "                        returns = file_returns[group_name][\"returns\"]\n",
    "                    else:\n",
    "                        raise ValueError(group_name+\" not in \"+filename_features)\n",
    "                    #print(returns)\n",
    "                    # load Symbols if calculate_roi is true\n",
    "                    #TODO: Implement Symbol loading for test\n",
    "                    if calculate_roi:\n",
    "                        DT = file_symbols[group_name][\"DT\"]\n",
    "                        B = file_symbols[group_name][\"B\"]\n",
    "                        A = file_symbols[group_name][\"A\"]\n",
    "                        # build dict w. symbols\n",
    "                        symbols = {'DT':DT,\n",
    "                                  'B':B,\n",
    "                                  'A':A}\n",
    "                    else:\n",
    "                        symbols = {}\n",
    "                    # build IO\n",
    "                    IO, totalSampsPerLevel = build_IO_from_var_notebook(data, model, stats, IO, totalSampsPerLevel, \n",
    "                                                                        features, returns, symbols, calculate_roi)\n",
    "                    print(totalSampsPerLevel)\n",
    "                else:\n",
    "                    print(\"\\tNot in the set. Skipped.\")\n",
    "\n",
    "            else:\n",
    "                print(\"\\ts {0:d} of {1:d}. Not enough entries. Skipped.\".format(\n",
    "                    int(s/2),int(len(separators)/2-1)))\n",
    "        # end of for s in range(0,len(separators)-1,2):\n",
    "    if if_build_IO:\n",
    "        ass_IO_ass[ass_idx] = IO['pointer']\n",
    "        #print(\"\\tTime for \"+thisAsset+\":\"+str(np.floor(time.time()-tic))+\"s\"+\n",
    "        #          \". Total time:\"+str(np.floor(time.time()-ticTotal))+\"s\")\n",
    "# end of for ass_idx, ass in enumerate(data.assets):\n",
    "if if_build_IO:\n",
    "    print(\"Samples to RNN: \"+str(max(ass_IO_ass))+\".\\nPercent per level:\"+\n",
    "            str(totalSampsPerLevel/max(ass_IO_ass)))\n",
    "    f_IO.attrs.create('ass_IO_ass', ass_IO_ass, dtype=int)\n",
    "    \n",
    "    \n",
    "    if calculate_roi:\n",
    "        print(\"Building DTA...\")\n",
    "        DTA = build_DTA_from_var(data, IO['D'], IO['B'], IO['A'], ass_IO_ass)\n",
    "        pickle.dump( DTA, open( \"../RNN/IO/DTA\"+\"_\"+IO_results_name+\".p\", \"wb\" ))\n",
    "        f_IO.attrs.create('ass_IO_ass', ass_IO_ass, dtype=int)\n",
    "        \n",
    "    f_IO.close()\n",
    "else:\n",
    "    if calculate_roi:\n",
    "        DTA = pickle.load( open( \"../RNN/IO/DTA\"+\"_\"+IO_results_name+\".p\", \"rb\" ))\n",
    "    # get ass_IO_ass from disk\n",
    "    f_IO = h5py.File(filename_IO,'r')\n",
    "    ass_IO_ass = f_IO.attrs.get(\"ass_IO_ass\")\n",
    "    f_IO.close()\n",
    "m_t = max(ass_IO_ass)\n",
    "print(\"DONE\")"
   ]
  },
  {
   "cell_type": "code",
   "execution_count": 8,
   "metadata": {},
   "outputs": [
    {
     "data": {
      "text/plain": [
       "733966"
      ]
     },
     "execution_count": 8,
     "metadata": {},
     "output_type": "execute_result"
    }
   ],
   "source": [
    "m_t"
   ]
  },
  {
   "cell_type": "code",
   "execution_count": null,
   "metadata": {},
   "outputs": [],
   "source": [
    "# Train\n",
    "import tensorflow as tf\n",
    "# reset graph\n",
    "alloc = 2**20\n",
    "tf.reset_default_graph()\n",
    "# start session\n",
    "with tf.Session() as sess:    \n",
    "    model.train(sess, int(np.ceil(m_t/aloc)), ID=IDweights, IDIO=IDweights, \n",
    "                data_format='hdf5', filename_IO=filename_IO, aloc=alloc)"
   ]
  },
  {
   "cell_type": "code",
   "execution_count": null,
   "metadata": {},
   "outputs": [],
   "source": [
    "# Test\n",
    "import tensorflow as tf\n",
    "\n",
    "alloc = 200000\n",
    "save_journal = False\n",
    "startFrom = -1\n",
    "endAt = -1\n",
    "# reset graph\n",
    "tf.reset_default_graph()\n",
    "# start session\n",
    "with tf.Session() as sess:\n",
    "    # run test RNN\n",
    "    print(\"IDresults: \"+IDresults)\n",
    "    # TEMP: GRE calculation not implemented in test2 yet. Use old test\n",
    "    if save_journal:\n",
    "        model.test(sess, data, IDresults, IDweights, \n",
    "                    alloc, 'test', startFrom=startFrom,\n",
    "                    IDIO=IO_results_name, data_format='hdf5', DTA=DTA, \n",
    "                    save_journal=save_journal, endAt=endAt)\n",
    "    else:\n",
    "        model.test2(sess, data, IDresults, IDweights, \n",
    "                    alloc, 'test', startFrom=startFrom,\n",
    "                    IDIO=IO_results_name, data_format='hdf5', DTA=DTA, \n",
    "                    save_journal=save_journal, endAt=endAt, from_var=True)\n",
    "print(\"DONE\")"
   ]
  },
  {
   "cell_type": "code",
   "execution_count": 1,
   "metadata": {},
   "outputs": [],
   "source": [
    "# Function Build IO from var\n",
    "def build_IO_from_var_notebook(data, model, stats, IO, totalSampsPerLevel, features, returns, symbols, calculate_roi):\n",
    "    # total number of possible channels\n",
    "    nExS = data.nEventsPerStat\n",
    "    mW = data.movingWindow\n",
    "    nChannels = int(nExS/mW)\n",
    "    # sequence length\n",
    "    seq_len = model.seq_len#int((data.lB-data.nEventsPerStat)/data.movingWindow)\n",
    "    # samples allocation per batch\n",
    "    aloc = 2**20\n",
    "    # extract means and stats\n",
    "    means_in = stats['means_in']\n",
    "    stds_in = stats['stds_in']\n",
    "    #m_in = stats['m_in']\n",
    "    stds_out = stats['stds_out']\n",
    "    #m_out = stats['m_out']\n",
    "    #print(\"m_in\")\n",
    "    #print(m_in)\n",
    "    #print(\"m_out\")\n",
    "    #print(m_out)\n",
    "    # add dateTimes, bids and asks if are included in file\n",
    "    if calculate_roi:\n",
    "        dts = symbols['DT']\n",
    "        bids = symbols['B']\n",
    "        asks = symbols['A']\n",
    "\n",
    "        D = IO['D']\n",
    "        B = IO['B']\n",
    "        A = IO['A']\n",
    "\n",
    "    # extract IO structures\n",
    "    X = IO['X']\n",
    "    Y = IO['Y']\n",
    "    #I = IO['I']\n",
    "    pointer = IO['pointer']\n",
    "\n",
    "    feats_var_normed = np.minimum(np.maximum((features-means_in)/\\\n",
    "                         stds_in,-data.max_var),data.max_var)\n",
    "    # get some scalars\n",
    "    nSamps = feats_var_normed.shape[0]\n",
    "    print(\"features.shape\")\n",
    "    print(features.shape)\n",
    "    print(\"nSamps\")\n",
    "    print(nSamps)\n",
    "    samp_remaining = nSamps-2*nChannels-seq_len+1\n",
    "    print(\"samp_remaining\")\n",
    "    print(samp_remaining)\n",
    "    print(\"returns.shape\")\n",
    "    print(returns.shape)\n",
    "    chunks = int(np.ceil(samp_remaining/aloc))\n",
    "    # init counter of samps processed\n",
    "    offset = 0\n",
    "    # loop over chunks\n",
    "    for i in range(chunks):\n",
    "        # this batch length\n",
    "        batch = np.min([samp_remaining, aloc])\n",
    "        # create support numpy vectors to speed up iterations\n",
    "        v_support = feats_var_normed[offset:offset+batch+seq_len, :]\n",
    "        # get init and end indexes for returns\n",
    "        init_idx_rets = nChannels+offset+seq_len-1\n",
    "        print(\"init_idx_rets\")\n",
    "        print(init_idx_rets)\n",
    "        end_idx_rets = nChannels+offset+batch+seq_len-1#+2*seq_len-1\n",
    "        print(\"end_idx_rets\")\n",
    "        print(end_idx_rets)\n",
    "        r_support = returns[init_idx_rets:end_idx_rets, data.lookAheadIndex]\n",
    "        print(\"r_support.shape\")\n",
    "        print(r_support.shape)\n",
    "        assert(r_support.shape[0]==end_idx_rets-init_idx_rets)\n",
    "        # we only take here the entry time index, and later at DTA building the \n",
    "        # exit time index is derived from the entry time and the number of events to\n",
    "        # look ahead\n",
    "        if calculate_roi:\n",
    "            dt_support = dts[init_idx_rets:end_idx_rets, [0,data.lookAheadIndex+1]]\n",
    "            b_support = bids[init_idx_rets:end_idx_rets, [0,data.lookAheadIndex+1]]\n",
    "            a_support = asks[init_idx_rets:end_idx_rets, [0,data.lookAheadIndex+1]]\n",
    "        # update remaining samps to proceed\n",
    "        samp_remaining = samp_remaining-batch\n",
    "        # init formatted input and output\n",
    "        X_i = np.zeros((batch, seq_len, features.shape[1]))\n",
    "        # real-valued output\n",
    "        O_i = np.zeros((batch, seq_len, 1))    \n",
    "        if calculate_roi:\n",
    "            # last dimension is to incorporate in and out symbols\n",
    "            D_i = np.chararray((batch, 2),itemsize=19)\n",
    "            B_i = np.zeros((batch, 2))\n",
    "            A_i = np.zeros((batch, 2))\n",
    "\n",
    "        for nI in range(batch):\n",
    "            # get input\n",
    "            v_s_s = v_support[nI:nI+seq_len, :]\n",
    "            X_i[nI,:,:] = v_s_s[::-1,:]#v_support[nI:nI+seq_len, :]            \n",
    "            # due to substraction of features for variation, output gets the \n",
    "            # feature one entry later\n",
    "            O_i[nI,:,0] = r_support[nI]\n",
    "            if calculate_roi:\n",
    "                D_i[nI,:] = dt_support[nI,:]\n",
    "                B_i[nI,:] = b_support[nI,:]\n",
    "                A_i[nI,:] = a_support[nI,:]\n",
    "\n",
    "        # normalize output\n",
    "        O_i = O_i/stds_out[data.lookAheadIndex]\n",
    "        # update counters\n",
    "        offset = offset+batch\n",
    "        # get decimal and binary outputs\n",
    "        Y_i, y_dec = _build_bin_output(model, O_i, batch)\n",
    "        # get samples per level\n",
    "        for l in range(model.size_output_layer):\n",
    "            totalSampsPerLevel[l] = totalSampsPerLevel[l]+np.sum(y_dec[:,-1,0]==l)\n",
    "        # resize IO structures\n",
    "        X.resize((pointer+batch, seq_len,features.shape[1]))\n",
    "        Y.resize((pointer+batch, seq_len,model.commonY+model.size_output_layer))\n",
    "        # update IO structures\n",
    "        X[pointer:pointer+batch,:,:] = X_i\n",
    "        Y[pointer:pointer+batch,:,:] = Y_i\n",
    "        if calculate_roi:\n",
    "            # resize\n",
    "            D.resize((pointer+batch, 2))\n",
    "            B.resize((pointer+batch, 2))\n",
    "            A.resize((pointer+batch, 2))\n",
    "            # update\n",
    "            D[pointer:pointer+batch,:] = D_i\n",
    "            B[pointer:pointer+batch,:] = B_i\n",
    "            A[pointer:pointer+batch,:] = A_i\n",
    "    #        save_as_matfile('X_h_n_'+str(int(s/2)),'X_h_n'+str(int(s/2)),X_i)\n",
    "    #        save_as_matfile('O_h_n_'+str(int(s/2)),'O_h_n'+str(int(s/2)),O_i)\n",
    "\n",
    "        # uodate pointer\n",
    "        pointer += batch\n",
    "    # end of for i in range(chunks):\n",
    "    # update dictionary\n",
    "    IO['X'] = X\n",
    "    IO['Y'] = Y\n",
    "    IO['pointer'] = pointer\n",
    "    if calculate_roi:\n",
    "        IO['D'] = D\n",
    "        IO['B'] = B\n",
    "        IO['A'] = A\n",
    "    \n",
    "    return IO, totalSampsPerLevel\n",
    "    "
   ]
  },
  {
   "cell_type": "code",
   "execution_count": null,
   "metadata": {},
   "outputs": [],
   "source": [
    "# Snippet Build IO from var\n",
    "\n",
    "# total number of possible channels\n",
    "nChannels = int(nExS/mW)\n",
    "# sequence length\n",
    "seq_len = model.seq_len#int((data.lB-data.nEventsPerStat)/data.movingWindow)\n",
    "# samples allocation per batch\n",
    "aloc = 2**20\n",
    "# extract means and stats\n",
    "means_in = stats['means_in']\n",
    "stds_in = stats['stds_in']\n",
    "m_in = stats['m_in']\n",
    "stds_out = stats['stds_out']\n",
    "m_out = stats['m_out']\n",
    "#print(\"m_in\")\n",
    "#print(m_in)\n",
    "#print(\"m_out\")\n",
    "#print(m_out)\n",
    "# add dateTimes, bids and asks if are included in file\n",
    "all_info = 0\n",
    "if calculate_roi:\n",
    "    all_info = 1\n",
    "    dts = symbols['DT']\n",
    "    bids = symbols['B']\n",
    "    asks = symbols['A']\n",
    "        \n",
    "    D = IO['D']\n",
    "    B = IO['B']\n",
    "    A = IO['A']\n",
    "\n",
    "# extract IO structures\n",
    "X = IO['X']\n",
    "Y = IO['Y']\n",
    "#I = IO['I']\n",
    "pointer = IO['pointer']\n",
    "\n",
    "feats_var_normed = np.minimum(np.maximum((features-means_in)/\\\n",
    "                     stds_in,-data.max_var),data.max_var)\n",
    "# get some scalars\n",
    "nSamps = feats_var_normed.shape[0]\n",
    "samp_remaining = nSamps-nChannels-seq_len-1\n",
    "print(\"samp_remaining\")\n",
    "print(samp_remaining)\n",
    "chunks = int(np.ceil(samp_remaining/aloc))\n",
    "# init counter of samps processed\n",
    "offset = 0\n",
    "# loop over chunks\n",
    "for i in range(chunks):\n",
    "    # this batch length\n",
    "    batch = np.min([samp_remaining,aloc])\n",
    "    print(\"batch\")\n",
    "    print(batch)\n",
    "    # create support numpy vectors to speed up iterations\n",
    "    v_support = feats_var_normed[offset:offset+batch+seq_len, :]\n",
    "    # get init and end indexes for returns\n",
    "    init_idx_rets = nChannels+offset+seq_len-1\n",
    "    end_idx_rets = nChannels+offset+batch+2*seq_len-1\n",
    "    r_support = returns[init_idx_rets:end_idx_rets, data.lookAheadIndex]\n",
    "    print(\"returns.shape\")\n",
    "    print(returns.shape)\n",
    "    print(\"nChannels+offset+2\")\n",
    "    print(nChannels+offset+2)\n",
    "    print(\"nChannels+offset+batch+seq_len+2\")\n",
    "    print(nChannels+offset+batch+seq_len+2)\n",
    "    print(\"r_support.shape\")\n",
    "    print(r_support.shape)\n",
    "    print(\"nChannels+offset+batch+seq_len+2-(nChannels+offset+2)\")\n",
    "    print(nChannels+offset+batch+seq_len+2-(nChannels+offset+2))\n",
    "    print(\"returns[-1,data.lookAheadIndex]\")\n",
    "    print(returns[-1,data.lookAheadIndex])\n",
    "    print(\"r_support[-1]\")\n",
    "    print(r_support[-1])\n",
    "    # we only take here the entry time index, and later at DTA building the \n",
    "    # exit time index is derived from the entry time and the number of events to\n",
    "    # look ahead\n",
    "    if calculate_roi:\n",
    "        dt_support = dts[init_idx_rets:end_idx_rets, [0,data.lookAheadIndex+1]]\n",
    "        b_support = bids[init_idx_rets:end_idx_rets, [0,data.lookAheadIndex+1]]\n",
    "        a_support = asks[init_idx_rets:end_idx_rets, [0,data.lookAheadIndex+1]]\n",
    "    # update remaining samps to proceed\n",
    "    samp_remaining = samp_remaining-batch\n",
    "    # init formatted input and output\n",
    "    X_i = np.zeros((batch, seq_len, features.shape[1]))\n",
    "    # real-valued output\n",
    "    O_i = np.zeros((batch, seq_len, 1))    \n",
    "    if calculate_roi:\n",
    "        # last dimension is to incorporate in and out symbols\n",
    "        D_i = np.chararray((batch, 2),itemsize=19)\n",
    "        B_i = np.zeros((batch, 2))\n",
    "        A_i = np.zeros((batch, 2))\n",
    "    \n",
    "    for nI in range(batch):\n",
    "        # get input\n",
    "        v_s_s = v_support[nI:nI+seq_len, :]\n",
    "        X_i[nI,:,:] = v_s_s[::-1,:]#v_support[nI:nI+seq_len, :]            \n",
    "        # due to substraction of features for variation, output gets the \n",
    "        # feature one entry later\n",
    "        O_i[nI,:,0] = r_support[nI]\n",
    "        if calculate_roi:\n",
    "            D_i[nI,:] = dt_support[nI,:]\n",
    "            B_i[nI,:] = b_support[nI,:]\n",
    "            A_i[nI,:] = a_support[nI,:]\n",
    "    \n",
    "    # normalize output\n",
    "    print(\"stds_out.shape\")\n",
    "    print(stds_out.shape)\n",
    "    O_i = O_i/stds_out[data.lookAheadIndex]\n",
    "    # update counters\n",
    "    offset = offset+batch\n",
    "    # get decimal and binary outputs\n",
    "    Y_i, y_dec = _build_bin_output(model, O_i, batch)\n",
    "    # get samples per level\n",
    "    for l in range(model.size_output_layer):\n",
    "        totalSampsPerLevel[l] = totalSampsPerLevel[l]+np.sum(y_dec[:,-1,0]==l)\n",
    "    # resize IO structures\n",
    "    X.resize((pointer+batch, seq_len,features.shape[1]))\n",
    "    Y.resize((pointer+batch, seq_len,model.commonY+model.size_output_layer))\n",
    "    # update IO structures\n",
    "    X[pointer:pointer+batch,:,:] = X_i\n",
    "    Y[pointer:pointer+batch,:,:] = Y_i\n",
    "    if calculate_roi:\n",
    "        # resize\n",
    "        D.resize((pointer+batch, 2))\n",
    "        B.resize((pointer+batch, 2))\n",
    "        A.resize((pointer+batch, 2))\n",
    "        # update\n",
    "        D[pointer:pointer+batch,:] = D_i\n",
    "        B[pointer:pointer+batch,:] = B_i\n",
    "        A[pointer:pointer+batch,:] = A_i\n",
    "#        save_as_matfile('X_h_n_'+str(int(s/2)),'X_h_n'+str(int(s/2)),X_i)\n",
    "#        save_as_matfile('O_h_n_'+str(int(s/2)),'O_h_n'+str(int(s/2)),O_i)\n",
    "        \n",
    "    # uodate pointer\n",
    "    pointer += batch\n",
    "# end of for i in range(chunks):\n",
    "# update dictionary\n",
    "IO['X'] = X\n",
    "IO['Y'] = Y\n",
    "IO['pointer'] = pointer\n",
    "if calculate_roi:\n",
    "    IO['D'] = D\n",
    "    IO['B'] = B\n",
    "    IO['A'] = A\n",
    "print(\"totalSampsPerLevel\")\n",
    "print(totalSampsPerLevel)\n",
    "\n",
    "if if_build_IO:\n",
    "    ass_IO_ass[ass_idx] = IO['pointer']\n",
    "    #print(\"\\tTime for \"+thisAsset+\":\"+str(np.floor(time.time()-tic))+\"s\"+\n",
    "    #          \". Total time:\"+str(np.floor(time.time()-ticTotal))+\"s\")\n",
    "# end of assets loop?\n",
    "if if_build_IO:\n",
    "    f_IO.attrs.create('ass_IO_ass', ass_IO_ass, dtype=int)\n",
    "    f_IO.close()\n",
    "else:\n",
    "    # get ass_IO_ass from disk\n",
    "    f_IO = h5py.File(filename_IO,'r')\n",
    "    ass_IO_ass = f_IO.attrs.get(\"ass_IO_ass\")\n",
    "    f_IO.close()\n",
    "m_t = IO['pointer']\n",
    "print(\"m_t\")\n",
    "print(m_t)\n",
    "print(\"IO['pointer']\")\n",
    "print(IO['pointer'])"
   ]
  },
  {
   "cell_type": "code",
   "execution_count": 5,
   "metadata": {},
   "outputs": [],
   "source": [
    "f_IO.close()"
   ]
  },
  {
   "cell_type": "code",
   "execution_count": 6,
   "metadata": {},
   "outputs": [
    {
     "data": {
      "text/plain": [
       "(42319, 3, 1)"
      ]
     },
     "execution_count": 6,
     "metadata": {},
     "output_type": "execute_result"
    }
   ],
   "source": [
    "O_i.shape"
   ]
  },
  {
   "cell_type": "code",
   "execution_count": 20,
   "metadata": {},
   "outputs": [],
   "source": [
    "\n"
   ]
  },
  {
   "cell_type": "code",
   "execution_count": 19,
   "metadata": {},
   "outputs": [
    {
     "name": "stdout",
     "output_type": "stream",
     "text": [
      "The autoreload extension is already loaded. To reload it, use:\n",
      "  %reload_ext autoreload\n"
     ]
    }
   ],
   "source": [
    "# Test\n"
   ]
  },
  {
   "cell_type": "code",
   "execution_count": 18,
   "metadata": {},
   "outputs": [],
   "source": []
  },
  {
   "cell_type": "code",
   "execution_count": 4,
   "metadata": {},
   "outputs": [
    {
     "name": "stdout",
     "output_type": "stream",
     "text": [
      "WARNING! Arguments not taken into consideration\n",
      "Config file ../config/C0400.config exists. Loaded from disk\n"
     ]
    }
   ],
   "source": [
    "from config import configuration\n",
    "# define config structure\n",
    "entries = {'config_name':'C0400',\n",
    "          \n",
    "          'movingWindow':100,\n",
    "          'nEventsPerStat':1000,\n",
    "          'lB':1300,\n",
    "          'feature_keys_manual':[],\n",
    "          'feature_keys_tsfresh':[],\n",
    "           'var_feat_keys':[i for i in range(68,93)],\n",
    "          \n",
    "          'if_build_IO':False,\n",
    "          'from_stats_file':False,\n",
    "          'IDweights':'000400',\n",
    "          'inverse_load':True,\n",
    "          \n",
    "          'IDresults':'100400',\n",
    "          'startFrom':-1,\n",
    "          'endAt':-1,\n",
    "          'save_journal':False}\n",
    "\n",
    "config = configuration(entries)"
   ]
  },
  {
   "cell_type": "code",
   "execution_count": null,
   "metadata": {},
   "outputs": [],
   "source": []
  },
  {
   "cell_type": "code",
   "execution_count": null,
   "metadata": {},
   "outputs": [],
   "source": [
    "build_and_test(config)"
   ]
  },
  {
   "cell_type": "code",
   "execution_count": 16,
   "metadata": {},
   "outputs": [
    {
     "name": "stderr",
     "output_type": "stream",
     "text": [
      "[autoreload of inputs failed: Traceback (most recent call last):\n",
      "  File \"C:\\ProgramData\\Anaconda3\\envs\\py35\\lib\\site-packages\\IPython\\extensions\\autoreload.py\", line 245, in check\n",
      "    superreload(m, reload, self.old_objects)\n",
      "  File \"C:\\ProgramData\\Anaconda3\\envs\\py35\\lib\\site-packages\\IPython\\extensions\\autoreload.py\", line 384, in superreload\n",
      "    update_generic(old_obj, new_obj)\n",
      "  File \"C:\\ProgramData\\Anaconda3\\envs\\py35\\lib\\site-packages\\IPython\\extensions\\autoreload.py\", line 323, in update_generic\n",
      "    update(a, b)\n",
      "  File \"C:\\ProgramData\\Anaconda3\\envs\\py35\\lib\\site-packages\\IPython\\extensions\\autoreload.py\", line 278, in update_class\n",
      "    if old_obj == new_obj:\n",
      "ValueError: The truth value of an array with more than one element is ambiguous. Use a.any() or a.all()\n",
      "]\n"
     ]
    },
    {
     "name": "stdout",
     "output_type": "stream",
     "text": [
      "Config file ../config/C0400.config saved\n",
      "Config file ../config/C0400.config loaded from disk\n"
     ]
    }
   ],
   "source": [
    "from config import modify_config\n",
    "\n",
    "modify_config(config['config_name'],'if_build_IO',False)\n",
    "config = retrieve_config(config['config_name'])"
   ]
  },
  {
   "cell_type": "code",
   "execution_count": null,
   "metadata": {},
   "outputs": [],
   "source": [
    "build_and_train(config)"
   ]
  },
  {
   "cell_type": "code",
   "execution_count": 26,
   "metadata": {},
   "outputs": [
    {
     "data": {
      "text/html": [
       "<div>\n",
       "<style scoped>\n",
       "    .dataframe tbody tr th:only-of-type {\n",
       "        vertical-align: middle;\n",
       "    }\n",
       "\n",
       "    .dataframe tbody tr th {\n",
       "        vertical-align: top;\n",
       "    }\n",
       "\n",
       "    .dataframe thead th {\n",
       "        text-align: right;\n",
       "    }\n",
       "</style>\n",
       "<table border=\"1\" class=\"dataframe\">\n",
       "  <thead>\n",
       "    <tr style=\"text-align: right;\">\n",
       "      <th></th>\n",
       "      <th>Asset</th>\n",
       "      <th>Di</th>\n",
       "      <th>Ti</th>\n",
       "      <th>Do</th>\n",
       "      <th>To</th>\n",
       "      <th>GROI</th>\n",
       "      <th>ROI</th>\n",
       "      <th>spread</th>\n",
       "      <th>ext</th>\n",
       "    </tr>\n",
       "  </thead>\n",
       "  <tbody>\n",
       "    <tr>\n",
       "      <th>0</th>\n",
       "      <td>AUDCAD</td>\n",
       "      <td>2018.03.19</td>\n",
       "      <td>00:57:38</td>\n",
       "      <td>2018.03.19</td>\n",
       "      <td>01:36:09</td>\n",
       "      <td>0.0337</td>\n",
       "      <td>0.0079</td>\n",
       "      <td>0.0257</td>\n",
       "      <td>0</td>\n",
       "    </tr>\n",
       "    <tr>\n",
       "      <th>1</th>\n",
       "      <td>AUDCAD</td>\n",
       "      <td>2018.03.20</td>\n",
       "      <td>02:51:09</td>\n",
       "      <td>2018.03.20</td>\n",
       "      <td>03:11:27</td>\n",
       "      <td>0.0407</td>\n",
       "      <td>0.0179</td>\n",
       "      <td>0.0228</td>\n",
       "      <td>0</td>\n",
       "    </tr>\n",
       "    <tr>\n",
       "      <th>2</th>\n",
       "      <td>AUDCAD</td>\n",
       "      <td>2018.03.22</td>\n",
       "      <td>00:59:23</td>\n",
       "      <td>2018.03.22</td>\n",
       "      <td>01:30:28</td>\n",
       "      <td>0.0929</td>\n",
       "      <td>0.0679</td>\n",
       "      <td>0.0250</td>\n",
       "      <td>0</td>\n",
       "    </tr>\n",
       "    <tr>\n",
       "      <th>3</th>\n",
       "      <td>AUDCAD</td>\n",
       "      <td>2018.03.22</td>\n",
       "      <td>02:30:14</td>\n",
       "      <td>2018.03.22</td>\n",
       "      <td>02:42:32</td>\n",
       "      <td>-0.1387</td>\n",
       "      <td>-0.1636</td>\n",
       "      <td>0.0249</td>\n",
       "      <td>0</td>\n",
       "    </tr>\n",
       "    <tr>\n",
       "      <th>4</th>\n",
       "      <td>AUDCAD</td>\n",
       "      <td>2018.03.23</td>\n",
       "      <td>01:00:56</td>\n",
       "      <td>2018.03.23</td>\n",
       "      <td>01:13:22</td>\n",
       "      <td>-0.0392</td>\n",
       "      <td>-0.0643</td>\n",
       "      <td>0.0251</td>\n",
       "      <td>0</td>\n",
       "    </tr>\n",
       "    <tr>\n",
       "      <th>5</th>\n",
       "      <td>AUDCAD</td>\n",
       "      <td>2018.03.26</td>\n",
       "      <td>00:13:48</td>\n",
       "      <td>2018.03.26</td>\n",
       "      <td>01:01:16</td>\n",
       "      <td>0.0413</td>\n",
       "      <td>0.0111</td>\n",
       "      <td>0.0302</td>\n",
       "      <td>0</td>\n",
       "    </tr>\n",
       "    <tr>\n",
       "      <th>6</th>\n",
       "      <td>AUDCAD</td>\n",
       "      <td>2018.03.28</td>\n",
       "      <td>23:43:57</td>\n",
       "      <td>2018.03.29</td>\n",
       "      <td>01:00:00</td>\n",
       "      <td>0.0808</td>\n",
       "      <td>0.0262</td>\n",
       "      <td>0.0546</td>\n",
       "      <td>3</td>\n",
       "    </tr>\n",
       "    <tr>\n",
       "      <th>7</th>\n",
       "      <td>AUDCAD</td>\n",
       "      <td>2018.03.30</td>\n",
       "      <td>02:16:01</td>\n",
       "      <td>2018.03.30</td>\n",
       "      <td>02:26:22</td>\n",
       "      <td>0.0718</td>\n",
       "      <td>-0.0071</td>\n",
       "      <td>0.0789</td>\n",
       "      <td>0</td>\n",
       "    </tr>\n",
       "    <tr>\n",
       "      <th>8</th>\n",
       "      <td>AUDCAD</td>\n",
       "      <td>2018.03.30</td>\n",
       "      <td>23:53:50</td>\n",
       "      <td>2018.04.02</td>\n",
       "      <td>01:53:14</td>\n",
       "      <td>0.0505</td>\n",
       "      <td>0.0212</td>\n",
       "      <td>0.0293</td>\n",
       "      <td>1</td>\n",
       "    </tr>\n",
       "    <tr>\n",
       "      <th>9</th>\n",
       "      <td>AUDCAD</td>\n",
       "      <td>2018.04.03</td>\n",
       "      <td>00:14:29</td>\n",
       "      <td>2018.04.03</td>\n",
       "      <td>00:38:47</td>\n",
       "      <td>0.0253</td>\n",
       "      <td>-0.0162</td>\n",
       "      <td>0.0415</td>\n",
       "      <td>1</td>\n",
       "    </tr>\n",
       "    <tr>\n",
       "      <th>10</th>\n",
       "      <td>AUDCAD</td>\n",
       "      <td>2018.04.05</td>\n",
       "      <td>00:08:52</td>\n",
       "      <td>2018.04.05</td>\n",
       "      <td>00:27:33</td>\n",
       "      <td>0.0843</td>\n",
       "      <td>0.0183</td>\n",
       "      <td>0.0660</td>\n",
       "      <td>2</td>\n",
       "    </tr>\n",
       "    <tr>\n",
       "      <th>11</th>\n",
       "      <td>AUDCAD</td>\n",
       "      <td>2018.04.05</td>\n",
       "      <td>00:53:15</td>\n",
       "      <td>2018.04.05</td>\n",
       "      <td>01:03:06</td>\n",
       "      <td>0.0244</td>\n",
       "      <td>-0.0061</td>\n",
       "      <td>0.0305</td>\n",
       "      <td>0</td>\n",
       "    </tr>\n",
       "    <tr>\n",
       "      <th>12</th>\n",
       "      <td>AUDCAD</td>\n",
       "      <td>2018.04.06</td>\n",
       "      <td>00:05:32</td>\n",
       "      <td>2018.04.06</td>\n",
       "      <td>00:37:16</td>\n",
       "      <td>0.0460</td>\n",
       "      <td>0.0133</td>\n",
       "      <td>0.0327</td>\n",
       "      <td>0</td>\n",
       "    </tr>\n",
       "    <tr>\n",
       "      <th>13</th>\n",
       "      <td>AUDCAD</td>\n",
       "      <td>2018.04.09</td>\n",
       "      <td>00:33:45</td>\n",
       "      <td>2018.04.09</td>\n",
       "      <td>01:06:08</td>\n",
       "      <td>0.0337</td>\n",
       "      <td>0.0102</td>\n",
       "      <td>0.0235</td>\n",
       "      <td>1</td>\n",
       "    </tr>\n",
       "    <tr>\n",
       "      <th>14</th>\n",
       "      <td>AUDCAD</td>\n",
       "      <td>2018.04.12</td>\n",
       "      <td>00:06:02</td>\n",
       "      <td>2018.04.12</td>\n",
       "      <td>00:29:32</td>\n",
       "      <td>0.1149</td>\n",
       "      <td>0.0410</td>\n",
       "      <td>0.0739</td>\n",
       "      <td>0</td>\n",
       "    </tr>\n",
       "    <tr>\n",
       "      <th>15</th>\n",
       "      <td>AUDCAD</td>\n",
       "      <td>2018.04.13</td>\n",
       "      <td>00:09:27</td>\n",
       "      <td>2018.04.13</td>\n",
       "      <td>00:52:06</td>\n",
       "      <td>0.0338</td>\n",
       "      <td>-0.0533</td>\n",
       "      <td>0.0871</td>\n",
       "      <td>1</td>\n",
       "    </tr>\n",
       "    <tr>\n",
       "      <th>16</th>\n",
       "      <td>AUDCAD</td>\n",
       "      <td>2018.04.16</td>\n",
       "      <td>00:06:47</td>\n",
       "      <td>2018.04.16</td>\n",
       "      <td>01:05:37</td>\n",
       "      <td>0.0327</td>\n",
       "      <td>-0.0296</td>\n",
       "      <td>0.0624</td>\n",
       "      <td>1</td>\n",
       "    </tr>\n",
       "    <tr>\n",
       "      <th>17</th>\n",
       "      <td>AUDCAD</td>\n",
       "      <td>2018.04.17</td>\n",
       "      <td>00:10:28</td>\n",
       "      <td>2018.04.17</td>\n",
       "      <td>01:00:16</td>\n",
       "      <td>0.0471</td>\n",
       "      <td>0.0143</td>\n",
       "      <td>0.0327</td>\n",
       "      <td>0</td>\n",
       "    </tr>\n",
       "    <tr>\n",
       "      <th>18</th>\n",
       "      <td>AUDCAD</td>\n",
       "      <td>2018.04.18</td>\n",
       "      <td>00:41:06</td>\n",
       "      <td>2018.04.18</td>\n",
       "      <td>01:29:19</td>\n",
       "      <td>0.0616</td>\n",
       "      <td>0.0339</td>\n",
       "      <td>0.0277</td>\n",
       "      <td>0</td>\n",
       "    </tr>\n",
       "    <tr>\n",
       "      <th>19</th>\n",
       "      <td>AUDCAD</td>\n",
       "      <td>2018.04.20</td>\n",
       "      <td>23:43:42</td>\n",
       "      <td>2018.04.23</td>\n",
       "      <td>00:21:39</td>\n",
       "      <td>-0.0470</td>\n",
       "      <td>-0.2003</td>\n",
       "      <td>0.1533</td>\n",
       "      <td>1</td>\n",
       "    </tr>\n",
       "    <tr>\n",
       "      <th>20</th>\n",
       "      <td>AUDCAD</td>\n",
       "      <td>2018.04.24</td>\n",
       "      <td>00:13:51</td>\n",
       "      <td>2018.04.24</td>\n",
       "      <td>00:52:30</td>\n",
       "      <td>0.0123</td>\n",
       "      <td>-0.0297</td>\n",
       "      <td>0.0420</td>\n",
       "      <td>0</td>\n",
       "    </tr>\n",
       "    <tr>\n",
       "      <th>21</th>\n",
       "      <td>AUDCAD</td>\n",
       "      <td>2018.04.25</td>\n",
       "      <td>00:29:51</td>\n",
       "      <td>2018.04.25</td>\n",
       "      <td>00:53:25</td>\n",
       "      <td>0.0236</td>\n",
       "      <td>-0.0308</td>\n",
       "      <td>0.0544</td>\n",
       "      <td>0</td>\n",
       "    </tr>\n",
       "    <tr>\n",
       "      <th>22</th>\n",
       "      <td>AUDCAD</td>\n",
       "      <td>2018.04.26</td>\n",
       "      <td>00:05:31</td>\n",
       "      <td>2018.04.26</td>\n",
       "      <td>00:41:49</td>\n",
       "      <td>0.0402</td>\n",
       "      <td>-0.0062</td>\n",
       "      <td>0.0463</td>\n",
       "      <td>1</td>\n",
       "    </tr>\n",
       "    <tr>\n",
       "      <th>23</th>\n",
       "      <td>AUDCAD</td>\n",
       "      <td>2018.04.27</td>\n",
       "      <td>00:31:53</td>\n",
       "      <td>2018.04.27</td>\n",
       "      <td>01:17:43</td>\n",
       "      <td>0.0813</td>\n",
       "      <td>0.0556</td>\n",
       "      <td>0.0257</td>\n",
       "      <td>0</td>\n",
       "    </tr>\n",
       "    <tr>\n",
       "      <th>24</th>\n",
       "      <td>AUDCAD</td>\n",
       "      <td>2018.04.30</td>\n",
       "      <td>00:54:23</td>\n",
       "      <td>2018.04.30</td>\n",
       "      <td>01:07:44</td>\n",
       "      <td>0.0411</td>\n",
       "      <td>-0.0062</td>\n",
       "      <td>0.0473</td>\n",
       "      <td>0</td>\n",
       "    </tr>\n",
       "    <tr>\n",
       "      <th>25</th>\n",
       "      <td>AUDCAD</td>\n",
       "      <td>2018.05.03</td>\n",
       "      <td>00:05:48</td>\n",
       "      <td>2018.05.03</td>\n",
       "      <td>00:59:34</td>\n",
       "      <td>0.0280</td>\n",
       "      <td>-0.0176</td>\n",
       "      <td>0.0456</td>\n",
       "      <td>2</td>\n",
       "    </tr>\n",
       "    <tr>\n",
       "      <th>26</th>\n",
       "      <td>AUDCAD</td>\n",
       "      <td>2018.05.03</td>\n",
       "      <td>02:17:37</td>\n",
       "      <td>2018.05.03</td>\n",
       "      <td>02:58:46</td>\n",
       "      <td>0.0207</td>\n",
       "      <td>-0.0031</td>\n",
       "      <td>0.0239</td>\n",
       "      <td>0</td>\n",
       "    </tr>\n",
       "    <tr>\n",
       "      <th>27</th>\n",
       "      <td>AUDCAD</td>\n",
       "      <td>2018.05.04</td>\n",
       "      <td>00:08:30</td>\n",
       "      <td>2018.05.04</td>\n",
       "      <td>00:29:44</td>\n",
       "      <td>0.0455</td>\n",
       "      <td>0.0000</td>\n",
       "      <td>0.0455</td>\n",
       "      <td>0</td>\n",
       "    </tr>\n",
       "    <tr>\n",
       "      <th>28</th>\n",
       "      <td>AUDCAD</td>\n",
       "      <td>2018.05.08</td>\n",
       "      <td>00:08:32</td>\n",
       "      <td>2018.05.08</td>\n",
       "      <td>00:29:55</td>\n",
       "      <td>-0.0010</td>\n",
       "      <td>-0.0413</td>\n",
       "      <td>0.0403</td>\n",
       "      <td>1</td>\n",
       "    </tr>\n",
       "    <tr>\n",
       "      <th>29</th>\n",
       "      <td>AUDCAD</td>\n",
       "      <td>2018.05.14</td>\n",
       "      <td>01:00:05</td>\n",
       "      <td>2018.05.14</td>\n",
       "      <td>01:39:24</td>\n",
       "      <td>0.0021</td>\n",
       "      <td>-0.0259</td>\n",
       "      <td>0.0280</td>\n",
       "      <td>0</td>\n",
       "    </tr>\n",
       "    <tr>\n",
       "      <th>...</th>\n",
       "      <td>...</td>\n",
       "      <td>...</td>\n",
       "      <td>...</td>\n",
       "      <td>...</td>\n",
       "      <td>...</td>\n",
       "      <td>...</td>\n",
       "      <td>...</td>\n",
       "      <td>...</td>\n",
       "      <td>...</td>\n",
       "    </tr>\n",
       "    <tr>\n",
       "      <th>1681</th>\n",
       "      <td>NZDUSD</td>\n",
       "      <td>2018.08.15</td>\n",
       "      <td>23:38:24</td>\n",
       "      <td>2018.08.15</td>\n",
       "      <td>23:57:56</td>\n",
       "      <td>0.0518</td>\n",
       "      <td>0.0152</td>\n",
       "      <td>0.0365</td>\n",
       "      <td>0</td>\n",
       "    </tr>\n",
       "    <tr>\n",
       "      <th>1682</th>\n",
       "      <td>NZDUSD</td>\n",
       "      <td>2018.08.17</td>\n",
       "      <td>01:04:05</td>\n",
       "      <td>2018.08.17</td>\n",
       "      <td>01:36:55</td>\n",
       "      <td>0.0349</td>\n",
       "      <td>-0.0015</td>\n",
       "      <td>0.0365</td>\n",
       "      <td>0</td>\n",
       "    </tr>\n",
       "    <tr>\n",
       "      <th>1683</th>\n",
       "      <td>NZDUSD</td>\n",
       "      <td>2018.08.17</td>\n",
       "      <td>23:55:06</td>\n",
       "      <td>2018.08.20</td>\n",
       "      <td>00:40:04</td>\n",
       "      <td>0.0513</td>\n",
       "      <td>-0.0030</td>\n",
       "      <td>0.0543</td>\n",
       "      <td>1</td>\n",
       "    </tr>\n",
       "    <tr>\n",
       "      <th>1684</th>\n",
       "      <td>NZDUSD</td>\n",
       "      <td>2018.08.21</td>\n",
       "      <td>23:48:39</td>\n",
       "      <td>2018.08.22</td>\n",
       "      <td>00:21:52</td>\n",
       "      <td>0.1180</td>\n",
       "      <td>0.0045</td>\n",
       "      <td>0.1135</td>\n",
       "      <td>0</td>\n",
       "    </tr>\n",
       "    <tr>\n",
       "      <th>1685</th>\n",
       "      <td>NZDUSD</td>\n",
       "      <td>2018.08.23</td>\n",
       "      <td>00:25:00</td>\n",
       "      <td>2018.08.23</td>\n",
       "      <td>01:43:02</td>\n",
       "      <td>0.0837</td>\n",
       "      <td>0.0508</td>\n",
       "      <td>0.0329</td>\n",
       "      <td>1</td>\n",
       "    </tr>\n",
       "    <tr>\n",
       "      <th>1686</th>\n",
       "      <td>NZDUSD</td>\n",
       "      <td>2018.08.29</td>\n",
       "      <td>00:08:42</td>\n",
       "      <td>2018.08.29</td>\n",
       "      <td>00:53:20</td>\n",
       "      <td>0.0388</td>\n",
       "      <td>-0.0045</td>\n",
       "      <td>0.0433</td>\n",
       "      <td>2</td>\n",
       "    </tr>\n",
       "    <tr>\n",
       "      <th>1687</th>\n",
       "      <td>NZDUSD</td>\n",
       "      <td>2018.09.05</td>\n",
       "      <td>00:10:14</td>\n",
       "      <td>2018.09.05</td>\n",
       "      <td>00:17:51</td>\n",
       "      <td>0.0565</td>\n",
       "      <td>-0.0397</td>\n",
       "      <td>0.0962</td>\n",
       "      <td>0</td>\n",
       "    </tr>\n",
       "    <tr>\n",
       "      <th>1688</th>\n",
       "      <td>NZDUSD</td>\n",
       "      <td>2018.09.14</td>\n",
       "      <td>00:09:13</td>\n",
       "      <td>2018.09.14</td>\n",
       "      <td>00:53:36</td>\n",
       "      <td>0.1586</td>\n",
       "      <td>0.0794</td>\n",
       "      <td>0.0792</td>\n",
       "      <td>2</td>\n",
       "    </tr>\n",
       "    <tr>\n",
       "      <th>1689</th>\n",
       "      <td>NZDUSD</td>\n",
       "      <td>2018.09.18</td>\n",
       "      <td>00:08:32</td>\n",
       "      <td>2018.09.18</td>\n",
       "      <td>01:02:10</td>\n",
       "      <td>0.1994</td>\n",
       "      <td>0.1583</td>\n",
       "      <td>0.0411</td>\n",
       "      <td>1</td>\n",
       "    </tr>\n",
       "    <tr>\n",
       "      <th>1690</th>\n",
       "      <td>NZDUSD</td>\n",
       "      <td>2018.09.18</td>\n",
       "      <td>23:40:24</td>\n",
       "      <td>2018.09.19</td>\n",
       "      <td>01:20:38</td>\n",
       "      <td>-0.0790</td>\n",
       "      <td>-0.1124</td>\n",
       "      <td>0.0334</td>\n",
       "      <td>0</td>\n",
       "    </tr>\n",
       "    <tr>\n",
       "      <th>1691</th>\n",
       "      <td>NZDUSD</td>\n",
       "      <td>2018.09.19</td>\n",
       "      <td>01:45:18</td>\n",
       "      <td>2018.09.19</td>\n",
       "      <td>02:21:37</td>\n",
       "      <td>0.0380</td>\n",
       "      <td>0.0046</td>\n",
       "      <td>0.0334</td>\n",
       "      <td>0</td>\n",
       "    </tr>\n",
       "    <tr>\n",
       "      <th>1692</th>\n",
       "      <td>NZDUSD</td>\n",
       "      <td>2018.09.20</td>\n",
       "      <td>00:21:35</td>\n",
       "      <td>2018.09.20</td>\n",
       "      <td>01:19:24</td>\n",
       "      <td>-0.1467</td>\n",
       "      <td>-0.1800</td>\n",
       "      <td>0.0333</td>\n",
       "      <td>2</td>\n",
       "    </tr>\n",
       "    <tr>\n",
       "      <th>1693</th>\n",
       "      <td>NZDUSD</td>\n",
       "      <td>2018.09.21</td>\n",
       "      <td>00:31:12</td>\n",
       "      <td>2018.09.21</td>\n",
       "      <td>01:04:28</td>\n",
       "      <td>0.0898</td>\n",
       "      <td>0.0569</td>\n",
       "      <td>0.0329</td>\n",
       "      <td>1</td>\n",
       "    </tr>\n",
       "    <tr>\n",
       "      <th>1694</th>\n",
       "      <td>NZDUSD</td>\n",
       "      <td>2018.09.24</td>\n",
       "      <td>00:07:58</td>\n",
       "      <td>2018.09.24</td>\n",
       "      <td>01:20:09</td>\n",
       "      <td>0.0120</td>\n",
       "      <td>-0.0195</td>\n",
       "      <td>0.0315</td>\n",
       "      <td>1</td>\n",
       "    </tr>\n",
       "    <tr>\n",
       "      <th>1695</th>\n",
       "      <td>NZDUSD</td>\n",
       "      <td>2018.09.26</td>\n",
       "      <td>00:48:10</td>\n",
       "      <td>2018.09.26</td>\n",
       "      <td>02:06:52</td>\n",
       "      <td>-0.0738</td>\n",
       "      <td>-0.1069</td>\n",
       "      <td>0.0331</td>\n",
       "      <td>0</td>\n",
       "    </tr>\n",
       "    <tr>\n",
       "      <th>1696</th>\n",
       "      <td>NZDUSD</td>\n",
       "      <td>2018.09.27</td>\n",
       "      <td>00:36:55</td>\n",
       "      <td>2018.09.27</td>\n",
       "      <td>01:17:58</td>\n",
       "      <td>0.0135</td>\n",
       "      <td>-0.0165</td>\n",
       "      <td>0.0300</td>\n",
       "      <td>0</td>\n",
       "    </tr>\n",
       "    <tr>\n",
       "      <th>1697</th>\n",
       "      <td>NZDUSD</td>\n",
       "      <td>2018.09.28</td>\n",
       "      <td>00:37:25</td>\n",
       "      <td>2018.09.28</td>\n",
       "      <td>01:41:53</td>\n",
       "      <td>-0.0439</td>\n",
       "      <td>-0.0938</td>\n",
       "      <td>0.0499</td>\n",
       "      <td>0</td>\n",
       "    </tr>\n",
       "    <tr>\n",
       "      <th>1698</th>\n",
       "      <td>NZDUSD</td>\n",
       "      <td>2018.10.01</td>\n",
       "      <td>00:22:18</td>\n",
       "      <td>2018.10.01</td>\n",
       "      <td>02:01:01</td>\n",
       "      <td>0.1239</td>\n",
       "      <td>0.0665</td>\n",
       "      <td>0.0575</td>\n",
       "      <td>4</td>\n",
       "    </tr>\n",
       "    <tr>\n",
       "      <th>1699</th>\n",
       "      <td>NZDUSD</td>\n",
       "      <td>2018.10.02</td>\n",
       "      <td>00:08:26</td>\n",
       "      <td>2018.10.02</td>\n",
       "      <td>01:25:28</td>\n",
       "      <td>-0.2103</td>\n",
       "      <td>-0.2648</td>\n",
       "      <td>0.0545</td>\n",
       "      <td>3</td>\n",
       "    </tr>\n",
       "    <tr>\n",
       "      <th>1700</th>\n",
       "      <td>NZDUSD</td>\n",
       "      <td>2018.10.03</td>\n",
       "      <td>00:22:46</td>\n",
       "      <td>2018.10.03</td>\n",
       "      <td>02:08:00</td>\n",
       "      <td>-0.0304</td>\n",
       "      <td>-0.0850</td>\n",
       "      <td>0.0546</td>\n",
       "      <td>5</td>\n",
       "    </tr>\n",
       "    <tr>\n",
       "      <th>1701</th>\n",
       "      <td>NZDUSD</td>\n",
       "      <td>2018.10.09</td>\n",
       "      <td>00:20:40</td>\n",
       "      <td>2018.10.09</td>\n",
       "      <td>01:26:05</td>\n",
       "      <td>0.0589</td>\n",
       "      <td>0.0093</td>\n",
       "      <td>0.0496</td>\n",
       "      <td>1</td>\n",
       "    </tr>\n",
       "    <tr>\n",
       "      <th>1702</th>\n",
       "      <td>NZDUSD</td>\n",
       "      <td>2018.10.09</td>\n",
       "      <td>22:58:27</td>\n",
       "      <td>2018.10.10</td>\n",
       "      <td>01:30:54</td>\n",
       "      <td>-0.1577</td>\n",
       "      <td>-0.2040</td>\n",
       "      <td>0.0464</td>\n",
       "      <td>3</td>\n",
       "    </tr>\n",
       "    <tr>\n",
       "      <th>1703</th>\n",
       "      <td>NZDUSD</td>\n",
       "      <td>2018.10.10</td>\n",
       "      <td>23:51:28</td>\n",
       "      <td>2018.10.11</td>\n",
       "      <td>00:35:16</td>\n",
       "      <td>0.0714</td>\n",
       "      <td>0.0124</td>\n",
       "      <td>0.0589</td>\n",
       "      <td>0</td>\n",
       "    </tr>\n",
       "    <tr>\n",
       "      <th>1704</th>\n",
       "      <td>NZDUSD</td>\n",
       "      <td>2018.10.11</td>\n",
       "      <td>23:49:00</td>\n",
       "      <td>2018.10.12</td>\n",
       "      <td>00:45:16</td>\n",
       "      <td>0.0092</td>\n",
       "      <td>-0.0490</td>\n",
       "      <td>0.0582</td>\n",
       "      <td>1</td>\n",
       "    </tr>\n",
       "    <tr>\n",
       "      <th>1705</th>\n",
       "      <td>NZDUSD</td>\n",
       "      <td>2018.10.12</td>\n",
       "      <td>23:54:20</td>\n",
       "      <td>2018.10.15</td>\n",
       "      <td>01:35:50</td>\n",
       "      <td>0.1460</td>\n",
       "      <td>0.0937</td>\n",
       "      <td>0.0523</td>\n",
       "      <td>1</td>\n",
       "    </tr>\n",
       "    <tr>\n",
       "      <th>1706</th>\n",
       "      <td>NZDUSD</td>\n",
       "      <td>2018.10.16</td>\n",
       "      <td>00:44:29</td>\n",
       "      <td>2018.10.16</td>\n",
       "      <td>00:57:35</td>\n",
       "      <td>0.7122</td>\n",
       "      <td>0.6602</td>\n",
       "      <td>0.0520</td>\n",
       "      <td>0</td>\n",
       "    </tr>\n",
       "    <tr>\n",
       "      <th>1707</th>\n",
       "      <td>NZDUSD</td>\n",
       "      <td>2018.10.17</td>\n",
       "      <td>00:10:17</td>\n",
       "      <td>2018.10.17</td>\n",
       "      <td>02:00:17</td>\n",
       "      <td>0.0152</td>\n",
       "      <td>-0.0365</td>\n",
       "      <td>0.0517</td>\n",
       "      <td>1</td>\n",
       "    </tr>\n",
       "    <tr>\n",
       "      <th>1708</th>\n",
       "      <td>NZDUSD</td>\n",
       "      <td>2018.10.23</td>\n",
       "      <td>23:59:57</td>\n",
       "      <td>2018.10.24</td>\n",
       "      <td>02:06:00</td>\n",
       "      <td>0.0107</td>\n",
       "      <td>-0.0428</td>\n",
       "      <td>0.0535</td>\n",
       "      <td>3</td>\n",
       "    </tr>\n",
       "    <tr>\n",
       "      <th>1709</th>\n",
       "      <td>NZDUSD</td>\n",
       "      <td>2018.10.31</td>\n",
       "      <td>00:51:35</td>\n",
       "      <td>2018.10.31</td>\n",
       "      <td>01:52:30</td>\n",
       "      <td>0.1114</td>\n",
       "      <td>0.0626</td>\n",
       "      <td>0.0488</td>\n",
       "      <td>0</td>\n",
       "    </tr>\n",
       "    <tr>\n",
       "      <th>1710</th>\n",
       "      <td>NZDUSD</td>\n",
       "      <td>2018.11.05</td>\n",
       "      <td>00:05:33</td>\n",
       "      <td>2018.11.05</td>\n",
       "      <td>00:31:11</td>\n",
       "      <td>0.1658</td>\n",
       "      <td>0.1175</td>\n",
       "      <td>0.0482</td>\n",
       "      <td>3</td>\n",
       "    </tr>\n",
       "  </tbody>\n",
       "</table>\n",
       "<p>1711 rows × 9 columns</p>\n",
       "</div>"
      ],
      "text/plain": [
       "       Asset          Di        Ti          Do        To    GROI     ROI  \\\n",
       "0     AUDCAD  2018.03.19  00:57:38  2018.03.19  01:36:09  0.0337  0.0079   \n",
       "1     AUDCAD  2018.03.20  02:51:09  2018.03.20  03:11:27  0.0407  0.0179   \n",
       "2     AUDCAD  2018.03.22  00:59:23  2018.03.22  01:30:28  0.0929  0.0679   \n",
       "3     AUDCAD  2018.03.22  02:30:14  2018.03.22  02:42:32 -0.1387 -0.1636   \n",
       "4     AUDCAD  2018.03.23  01:00:56  2018.03.23  01:13:22 -0.0392 -0.0643   \n",
       "5     AUDCAD  2018.03.26  00:13:48  2018.03.26  01:01:16  0.0413  0.0111   \n",
       "6     AUDCAD  2018.03.28  23:43:57  2018.03.29  01:00:00  0.0808  0.0262   \n",
       "7     AUDCAD  2018.03.30  02:16:01  2018.03.30  02:26:22  0.0718 -0.0071   \n",
       "8     AUDCAD  2018.03.30  23:53:50  2018.04.02  01:53:14  0.0505  0.0212   \n",
       "9     AUDCAD  2018.04.03  00:14:29  2018.04.03  00:38:47  0.0253 -0.0162   \n",
       "10    AUDCAD  2018.04.05  00:08:52  2018.04.05  00:27:33  0.0843  0.0183   \n",
       "11    AUDCAD  2018.04.05  00:53:15  2018.04.05  01:03:06  0.0244 -0.0061   \n",
       "12    AUDCAD  2018.04.06  00:05:32  2018.04.06  00:37:16  0.0460  0.0133   \n",
       "13    AUDCAD  2018.04.09  00:33:45  2018.04.09  01:06:08  0.0337  0.0102   \n",
       "14    AUDCAD  2018.04.12  00:06:02  2018.04.12  00:29:32  0.1149  0.0410   \n",
       "15    AUDCAD  2018.04.13  00:09:27  2018.04.13  00:52:06  0.0338 -0.0533   \n",
       "16    AUDCAD  2018.04.16  00:06:47  2018.04.16  01:05:37  0.0327 -0.0296   \n",
       "17    AUDCAD  2018.04.17  00:10:28  2018.04.17  01:00:16  0.0471  0.0143   \n",
       "18    AUDCAD  2018.04.18  00:41:06  2018.04.18  01:29:19  0.0616  0.0339   \n",
       "19    AUDCAD  2018.04.20  23:43:42  2018.04.23  00:21:39 -0.0470 -0.2003   \n",
       "20    AUDCAD  2018.04.24  00:13:51  2018.04.24  00:52:30  0.0123 -0.0297   \n",
       "21    AUDCAD  2018.04.25  00:29:51  2018.04.25  00:53:25  0.0236 -0.0308   \n",
       "22    AUDCAD  2018.04.26  00:05:31  2018.04.26  00:41:49  0.0402 -0.0062   \n",
       "23    AUDCAD  2018.04.27  00:31:53  2018.04.27  01:17:43  0.0813  0.0556   \n",
       "24    AUDCAD  2018.04.30  00:54:23  2018.04.30  01:07:44  0.0411 -0.0062   \n",
       "25    AUDCAD  2018.05.03  00:05:48  2018.05.03  00:59:34  0.0280 -0.0176   \n",
       "26    AUDCAD  2018.05.03  02:17:37  2018.05.03  02:58:46  0.0207 -0.0031   \n",
       "27    AUDCAD  2018.05.04  00:08:30  2018.05.04  00:29:44  0.0455  0.0000   \n",
       "28    AUDCAD  2018.05.08  00:08:32  2018.05.08  00:29:55 -0.0010 -0.0413   \n",
       "29    AUDCAD  2018.05.14  01:00:05  2018.05.14  01:39:24  0.0021 -0.0259   \n",
       "...      ...         ...       ...         ...       ...     ...     ...   \n",
       "1681  NZDUSD  2018.08.15  23:38:24  2018.08.15  23:57:56  0.0518  0.0152   \n",
       "1682  NZDUSD  2018.08.17  01:04:05  2018.08.17  01:36:55  0.0349 -0.0015   \n",
       "1683  NZDUSD  2018.08.17  23:55:06  2018.08.20  00:40:04  0.0513 -0.0030   \n",
       "1684  NZDUSD  2018.08.21  23:48:39  2018.08.22  00:21:52  0.1180  0.0045   \n",
       "1685  NZDUSD  2018.08.23  00:25:00  2018.08.23  01:43:02  0.0837  0.0508   \n",
       "1686  NZDUSD  2018.08.29  00:08:42  2018.08.29  00:53:20  0.0388 -0.0045   \n",
       "1687  NZDUSD  2018.09.05  00:10:14  2018.09.05  00:17:51  0.0565 -0.0397   \n",
       "1688  NZDUSD  2018.09.14  00:09:13  2018.09.14  00:53:36  0.1586  0.0794   \n",
       "1689  NZDUSD  2018.09.18  00:08:32  2018.09.18  01:02:10  0.1994  0.1583   \n",
       "1690  NZDUSD  2018.09.18  23:40:24  2018.09.19  01:20:38 -0.0790 -0.1124   \n",
       "1691  NZDUSD  2018.09.19  01:45:18  2018.09.19  02:21:37  0.0380  0.0046   \n",
       "1692  NZDUSD  2018.09.20  00:21:35  2018.09.20  01:19:24 -0.1467 -0.1800   \n",
       "1693  NZDUSD  2018.09.21  00:31:12  2018.09.21  01:04:28  0.0898  0.0569   \n",
       "1694  NZDUSD  2018.09.24  00:07:58  2018.09.24  01:20:09  0.0120 -0.0195   \n",
       "1695  NZDUSD  2018.09.26  00:48:10  2018.09.26  02:06:52 -0.0738 -0.1069   \n",
       "1696  NZDUSD  2018.09.27  00:36:55  2018.09.27  01:17:58  0.0135 -0.0165   \n",
       "1697  NZDUSD  2018.09.28  00:37:25  2018.09.28  01:41:53 -0.0439 -0.0938   \n",
       "1698  NZDUSD  2018.10.01  00:22:18  2018.10.01  02:01:01  0.1239  0.0665   \n",
       "1699  NZDUSD  2018.10.02  00:08:26  2018.10.02  01:25:28 -0.2103 -0.2648   \n",
       "1700  NZDUSD  2018.10.03  00:22:46  2018.10.03  02:08:00 -0.0304 -0.0850   \n",
       "1701  NZDUSD  2018.10.09  00:20:40  2018.10.09  01:26:05  0.0589  0.0093   \n",
       "1702  NZDUSD  2018.10.09  22:58:27  2018.10.10  01:30:54 -0.1577 -0.2040   \n",
       "1703  NZDUSD  2018.10.10  23:51:28  2018.10.11  00:35:16  0.0714  0.0124   \n",
       "1704  NZDUSD  2018.10.11  23:49:00  2018.10.12  00:45:16  0.0092 -0.0490   \n",
       "1705  NZDUSD  2018.10.12  23:54:20  2018.10.15  01:35:50  0.1460  0.0937   \n",
       "1706  NZDUSD  2018.10.16  00:44:29  2018.10.16  00:57:35  0.7122  0.6602   \n",
       "1707  NZDUSD  2018.10.17  00:10:17  2018.10.17  02:00:17  0.0152 -0.0365   \n",
       "1708  NZDUSD  2018.10.23  23:59:57  2018.10.24  02:06:00  0.0107 -0.0428   \n",
       "1709  NZDUSD  2018.10.31  00:51:35  2018.10.31  01:52:30  0.1114  0.0626   \n",
       "1710  NZDUSD  2018.11.05  00:05:33  2018.11.05  00:31:11  0.1658  0.1175   \n",
       "\n",
       "      spread  ext  \n",
       "0     0.0257    0  \n",
       "1     0.0228    0  \n",
       "2     0.0250    0  \n",
       "3     0.0249    0  \n",
       "4     0.0251    0  \n",
       "5     0.0302    0  \n",
       "6     0.0546    3  \n",
       "7     0.0789    0  \n",
       "8     0.0293    1  \n",
       "9     0.0415    1  \n",
       "10    0.0660    2  \n",
       "11    0.0305    0  \n",
       "12    0.0327    0  \n",
       "13    0.0235    1  \n",
       "14    0.0739    0  \n",
       "15    0.0871    1  \n",
       "16    0.0624    1  \n",
       "17    0.0327    0  \n",
       "18    0.0277    0  \n",
       "19    0.1533    1  \n",
       "20    0.0420    0  \n",
       "21    0.0544    0  \n",
       "22    0.0463    1  \n",
       "23    0.0257    0  \n",
       "24    0.0473    0  \n",
       "25    0.0456    2  \n",
       "26    0.0239    0  \n",
       "27    0.0455    0  \n",
       "28    0.0403    1  \n",
       "29    0.0280    0  \n",
       "...      ...  ...  \n",
       "1681  0.0365    0  \n",
       "1682  0.0365    0  \n",
       "1683  0.0543    1  \n",
       "1684  0.1135    0  \n",
       "1685  0.0329    1  \n",
       "1686  0.0433    2  \n",
       "1687  0.0962    0  \n",
       "1688  0.0792    2  \n",
       "1689  0.0411    1  \n",
       "1690  0.0334    0  \n",
       "1691  0.0334    0  \n",
       "1692  0.0333    2  \n",
       "1693  0.0329    1  \n",
       "1694  0.0315    1  \n",
       "1695  0.0331    0  \n",
       "1696  0.0300    0  \n",
       "1697  0.0499    0  \n",
       "1698  0.0575    4  \n",
       "1699  0.0545    3  \n",
       "1700  0.0546    5  \n",
       "1701  0.0496    1  \n",
       "1702  0.0464    3  \n",
       "1703  0.0589    0  \n",
       "1704  0.0582    1  \n",
       "1705  0.0523    1  \n",
       "1706  0.0520    0  \n",
       "1707  0.0517    1  \n",
       "1708  0.0535    3  \n",
       "1709  0.0488    0  \n",
       "1710  0.0482    3  \n",
       "\n",
       "[1711 rows x 9 columns]"
      ]
     },
     "execution_count": 26,
     "metadata": {},
     "output_type": "execute_result"
    }
   ],
   "source": [
    "import pandas as pd\n",
    "positions = pd.read_csv('../../RNN/results/100318R20/positions/P_E29TI0MC0.5MD0.75.csv',sep='\\t')\n",
    "#positions = pd.read_csv('../../RNN/results/100318INVO/positions/P_E15TI1MC0.7MD0.7.csv',sep='\\t')\n",
    "positions"
   ]
  },
  {
   "cell_type": "code",
   "execution_count": 90,
   "metadata": {},
   "outputs": [
    {
     "name": "stdout",
     "output_type": "stream",
     "text": [
      "34\n",
      "1.9871420222092344\n",
      "82.46639392168322\n",
      "61.76470588235294\n",
      "37.697253068381066\n",
      "52.94117647058823\n",
      "0.06059999999999997\n",
      "25.48230000000001\n",
      "['EURCAD' 'EURCHF' 'EURGBP' 'EURUSD' 'GBPUSD' 'USDCAD' 'USDCHF' 'USDJPY'\n",
      " 'EURJPY' 'GBPJPY']\n"
     ]
    }
   ],
   "source": [
    "positions = pd.read_csv('../../RNN/results/100318R20/positions/P_E29TI0MC0.5MD0.75.csv',sep='\\t')\n",
    "pos_under_2p = positions['spread']<0.01\n",
    "per_under_2p = 100*sum(pos_under_2p)/positions.shape[0]\n",
    "tgsr = 100*sum(positions['GROI']>0)/positions.shape[0]\n",
    "gsr = 100*sum(positions[pos_under_2p]['GROI']>0)/sum(pos_under_2p)\n",
    "tsr = 100*sum(positions['ROI']>0)/positions.shape[0]\n",
    "sr = 100*sum(positions[pos_under_2p]['ROI']>0)/sum(pos_under_2p)\n",
    "print(positions[pos_under_2p].shape[0])\n",
    "print(per_under_2p)\n",
    "print(tgsr)\n",
    "print(gsr)\n",
    "print(tsr)\n",
    "print(sr)\n",
    "print(positions[pos_under_2p]['ROI'].sum())\n",
    "print(positions['GROI'].sum()-0.02*positions['GROI'].shape[0])\n",
    "print(positions['Asset'][pos_under_2p].unique())"
   ]
  },
  {
   "cell_type": "code",
   "execution_count": 3,
   "metadata": {},
   "outputs": [
    {
     "name": "stderr",
     "output_type": "stream",
     "text": [
      "C:\\ProgramData\\Anaconda3\\envs\\py35\\lib\\site-packages\\h5py\\__init__.py:36: FutureWarning: Conversion of the second argument of issubdtype from `float` to `np.floating` is deprecated. In future, it will be treated as `np.float64 == np.dtype(float).type`.\n",
      "  from ._conv import register_converters as _register_converters\n"
     ]
    },
    {
     "name": "stdout",
     "output_type": "stream",
     "text": [
      "Config file ../../config/C0350.config loaded from disk\n",
      "1. AUDCAD\n",
      "\ts 0 of 21. From 2016.01.04 00:00:08 to 2016.10.13 15:41:59\n",
      "\tNot in the set. Skipped.\n",
      "\ts 1 of 21. From 2016.10.13 17:52:00 to 2016.12.23 23:59:59\n",
      "\tNot in the set. Skipped.\n",
      "\ts 2 of 21. From 2016.12.26 06:00:00 to 2016.12.30 23:58:30\n",
      "\tNot in the set. Skipped.\n",
      "\ts 3 of 21. From 2017.01.02 09:00:00 to 2017.01.26 23:59:59\n",
      "\tNot in the set. Skipped.\n",
      "\ts 4 of 21. From 2017.01.30 00:05:00 to 2017.09.05 23:59:59\n",
      "\tNot in the set. Skipped.\n",
      "\ts 5 of 21. From 2017.09.06 20:25:01 to 2017.11.10 09:38:15\n",
      "\tNot in the set. Skipped.\n",
      "\ts 6 of 21. From 2017.11.10 10:05:52 to 2017.11.24 23:58:59\n",
      "\tNot in the set. Skipped.\n",
      "\ts 7 of 21. From 2017.11.27 00:05:00 to 2017.12.08 23:58:59\n",
      "\tNot in the set. Skipped.\n",
      "\ts 8 of 21. From 2017.12.11 00:05:00 to 2017.12.12 04:13:07\n",
      "\tNot in the set. Skipped.\n",
      "\ts 9 of 21. From 2017.12.12 09:55:53 to 2017.12.22 23:58:59\n",
      "\tNot in the set. Skipped.\n",
      "\ts 10 of 21. From 2017.12.26 03:00:00 to 2017.12.29 23:58:42\n",
      "\tNot in the set. Skipped.\n",
      "\ts 11 of 21. From 2018.01.02 03:00:00 to 2018.01.10 21:25:25\n",
      "\tNot in the set. Skipped.\n",
      "\ts 12 of 21. From 2018.01.11 14:39:34 to 2018.01.25 08:17:37\n",
      "\tNot in the set. Skipped.\n",
      "\ts 13 of 21. From 2018.01.25 08:53:48 to 2018.03.08 23:58:59\n",
      "\tNot in the set. Skipped.\n",
      "\ts 14 of 21. From 2018.03.09 00:05:00 to 2018.03.20 05:04:47\n",
      "\ts 15 of 21. From 2018.03.20 05:44:39 to 2018.04.12 09:26:13\n",
      "\ts 16 of 21. From 2018.04.12 10:00:43 to 2018.05.08 03:27:47\n",
      "\ts 17 of 21. From 2018.05.08 04:24:14 to 2018.07.13 23:59:56\n",
      "\ts 18 of 21. From 2018.07.30 00:05:00 to 2018.08.10 23:58:59\n",
      "\ts 19 of 21. From 2018.08.13 07:37:02 to 2018.08.23 12:52:32\n",
      "\ts 20 of 21. From 2018.08.23 13:14:34 to 2018.08.24 23:58:59\n",
      "\ts 21 of 21. From 2018.08.27 19:03:29 to 2018.11.09 23:59:57\n",
      "\tTime for AUDCAD:2.0s. Total time:2.0s\n",
      "2. EURAUD\n",
      "\ts 0 of 31. From 2016.01.04 00:02:59 to 2016.04.22 23:59:59\n",
      "\tNot in the set. Skipped.\n",
      "\ts 1 of 31. From 2016.04.25 03:00:00 to 2016.06.09 11:59:59\n",
      "\tNot in the set. Skipped.\n",
      "\ts 2 of 31. From 2016.06.09 12:22:30 to 2016.11.04 22:54:59\n",
      "\tNot in the set. Skipped.\n",
      "\ts 3 of 31. From 2016.11.07 01:27:12 to 2016.11.07 23:59:59\n",
      "\tNot in the set. Skipped.\n",
      "\ts 4 of 31. From 2016.11.09 13:29:47 to 2016.11.11 23:54:59\n",
      "\tNot in the set. Skipped.\n",
      "\ts 5 of 31. From 2016.11.18 00:05:14 to 2016.12.23 23:54:59\n",
      "\tNot in the set. Skipped.\n",
      "\ts 6 of 31.. Not enough entries. Skipped\n",
      "\ts 7 of 31.. Not enough entries. Skipped\n",
      "\ts 8 of 31.. Not enough entries. Skipped\n",
      "\ts 9 of 31. From 2016.12.26 19:42:30 to 2016.12.29 23:59:59\n",
      "\tNot in the set. Skipped.\n",
      "\ts 10 of 31. From 2017.01.02 00:02:30 to 2017.04.25 16:55:09\n",
      "\tNot in the set. Skipped.\n",
      "\ts 11 of 31. From 2017.04.27 12:00:16 to 2017.07.20 00:03:59\n",
      "\tNot in the set. Skipped.\n",
      "\ts 12 of 31. From 2017.07.20 00:25:00 to 2017.09.05 02:36:00\n",
      "\tNot in the set. Skipped.\n",
      "\ts 13 of 31.. Not enough entries. Skipped\n",
      "\ts 14 of 31.. Not enough entries. Skipped\n",
      "\ts 15 of 31. From 2017.09.05 09:45:50 to 2017.11.10 09:38:15\n",
      "\tNot in the set. Skipped.\n",
      "\ts 16 of 31. From 2017.11.10 10:05:51 to 2017.11.24 23:58:59\n",
      "\tNot in the set. Skipped.\n",
      "\ts 17 of 31. From 2017.11.27 00:05:00 to 2017.12.08 23:58:59\n",
      "\tNot in the set. Skipped.\n",
      "\ts 18 of 31. From 2017.12.11 00:05:00 to 2017.12.12 04:13:03\n",
      "\tNot in the set. Skipped.\n",
      "\ts 19 of 31. From 2017.12.12 10:13:34 to 2017.12.22 23:58:59\n",
      "\tNot in the set. Skipped.\n",
      "\ts 20 of 31. From 2017.12.26 03:00:00 to 2017.12.29 23:58:59\n",
      "\tNot in the set. Skipped.\n",
      "\ts 21 of 31. From 2018.01.02 03:00:00 to 2018.01.10 21:30:14\n",
      "\tNot in the set. Skipped.\n",
      "\ts 22 of 31. From 2018.01.11 14:39:29 to 2018.01.25 08:17:38\n",
      "\tNot in the set. Skipped.\n",
      "\ts 23 of 31. From 2018.01.25 08:49:52 to 2018.03.08 07:51:45\n",
      "\tNot in the set. Skipped.\n",
      "\ts 24 of 31. From 2018.03.09 00:05:00 to 2018.03.20 05:04:46\n",
      "\ts 25 of 31. From 2018.03.20 05:44:29 to 2018.04.12 09:26:15\n",
      "\ts 26 of 31. From 2018.04.12 09:59:08 to 2018.05.08 03:27:55\n",
      "\ts 27 of 31. From 2018.05.08 04:24:14 to 2018.07.13 23:59:57\n",
      "\ts 28 of 31. From 2018.07.30 00:05:00 to 2018.08.10 23:58:59\n",
      "\ts 29 of 31. From 2018.08.13 07:37:02 to 2018.08.23 12:52:28\n",
      "\ts 30 of 31. From 2018.08.23 13:14:34 to 2018.08.24 23:58:59\n",
      "\ts 31 of 31. From 2018.08.27 19:03:32 to 2018.11.09 23:59:07\n",
      "\tTime for EURAUD:2.0s. Total time:4.0s\n",
      "3. EURCAD\n",
      "\ts 0 of 23. From 2016.01.04 00:00:00 to 2016.01.11 00:17:59\n",
      "\tNot in the set. Skipped.\n",
      "\ts 1 of 23. From 2016.01.11 01:00:00 to 2016.10.13 15:41:59\n",
      "\tNot in the set. Skipped.\n",
      "\ts 2 of 23. From 2016.10.13 17:52:00 to 2016.12.23 23:59:59\n",
      "\tNot in the set. Skipped.\n",
      "\ts 3 of 23. From 2016.12.26 06:00:00 to 2016.12.29 23:59:59\n",
      "\tNot in the set. Skipped.\n",
      "\ts 4 of 23. From 2017.01.02 00:01:00 to 2017.08.24 23:44:59\n",
      "\tNot in the set. Skipped.\n",
      "\ts 5 of 23. From 2017.08.28 00:05:02 to 2017.09.05 02:35:52\n",
      "\tNot in the set. Skipped.\n",
      "\ts 6 of 23.. Not enough entries. Skipped\n",
      "\ts 7 of 23. From 2017.09.05 09:45:51 to 2017.11.10 09:38:15\n",
      "\tNot in the set. Skipped.\n",
      "\ts 8 of 23. From 2017.11.10 10:05:52 to 2017.11.24 23:58:59\n",
      "\tNot in the set. Skipped.\n",
      "\ts 9 of 23. From 2017.11.27 00:05:00 to 2017.12.08 23:58:59\n",
      "\tNot in the set. Skipped.\n",
      "\ts 10 of 23. From 2017.12.11 00:05:00 to 2017.12.12 04:13:04\n",
      "\tNot in the set. Skipped.\n",
      "\ts 11 of 23. From 2017.12.12 10:13:34 to 2017.12.22 23:58:59\n",
      "\tNot in the set. Skipped.\n",
      "\ts 12 of 23. From 2017.12.26 03:00:00 to 2017.12.29 23:58:59\n",
      "\tNot in the set. Skipped.\n",
      "\ts 13 of 23. From 2018.01.02 03:00:00 to 2018.01.10 21:19:40\n",
      "\tNot in the set. Skipped.\n",
      "\ts 14 of 23. From 2018.01.11 14:39:29 to 2018.01.25 08:17:38\n",
      "\tNot in the set. Skipped.\n",
      "\ts 15 of 23. From 2018.01.25 09:10:26 to 2018.03.07 23:58:59\n",
      "\tNot in the set. Skipped.\n",
      "\ts 16 of 23. From 2018.03.09 00:05:00 to 2018.03.20 05:04:47\n",
      "\ts 17 of 23. From 2018.03.20 05:44:30 to 2018.04.12 09:26:16\n",
      "\ts 18 of 23. From 2018.04.12 09:59:08 to 2018.05.08 03:27:46\n",
      "\ts 19 of 23. From 2018.05.08 04:24:14 to 2018.07.13 23:59:55\n",
      "\ts 20 of 23. From 2018.07.30 00:05:00 to 2018.08.10 23:58:59\n",
      "\ts 21 of 23. From 2018.08.13 07:37:02 to 2018.08.23 12:52:32\n",
      "\ts 22 of 23. From 2018.08.23 13:14:34 to 2018.08.24 23:58:59\n",
      "\ts 23 of 23. From 2018.08.27 19:03:29 to 2018.11.09 23:59:08\n",
      "\tTime for EURCAD:2.0s. Total time:6.0s\n",
      "4. EURCHF\n",
      "\ts 0 of 28. From 2016.01.04 00:00:00 to 2016.01.11 00:20:59\n",
      "\tNot in the set. Skipped.\n",
      "\ts 1 of 28. From 2016.01.11 01:00:00 to 2016.08.15 00:08:59\n",
      "\tNot in the set. Skipped.\n",
      "\ts 2 of 28. From 2016.08.15 00:29:00 to 2016.10.13 15:41:59\n",
      "\tNot in the set. Skipped.\n",
      "\ts 3 of 28. From 2016.10.13 17:52:00 to 2016.12.23 23:59:59\n",
      "\tNot in the set. Skipped.\n",
      "\ts 4 of 28. From 2016.12.26 06:00:00 to 2017.08.11 23:59:59\n",
      "\tNot in the set. Skipped.\n",
      "\ts 5 of 28. From 2017.08.14 19:30:49 to 2017.08.14 23:58:59\n",
      "\tNot in the set. Skipped.\n",
      "\ts 6 of 28. From 2017.08.15 02:21:35 to 2017.08.15 20:17:18\n",
      "\tNot in the set. Skipped.\n",
      "\ts 7 of 28. From 2017.08.15 05:00:06 to 2017.08.15 12:51:32\n",
      "\tNot in the set. Skipped.\n",
      "\ts 8 of 28. From 2017.08.15 20:17:22 to 2017.08.17 23:58:50\n",
      "\tNot in the set. Skipped.\n",
      "\ts 9 of 28. From 2017.08.21 00:05:08 to 2017.08.25 19:54:33\n",
      "\tNot in the set. Skipped.\n",
      "\ts 10 of 28. From 2017.08.28 00:05:02 to 2017.09.05 02:35:52\n",
      "\tNot in the set. Skipped.\n",
      "\ts 11 of 28.. Not enough entries. Skipped\n",
      "\ts 12 of 28. From 2017.09.05 09:45:51 to 2017.11.10 09:38:15\n",
      "\tNot in the set. Skipped.\n",
      "\ts 13 of 28. From 2017.11.10 10:05:51 to 2017.11.24 23:58:59\n",
      "\tNot in the set. Skipped.\n",
      "\ts 14 of 28. From 2017.11.27 00:05:00 to 2017.12.08 23:58:59\n",
      "\tNot in the set. Skipped.\n",
      "\ts 15 of 28. From 2017.12.11 00:05:00 to 2017.12.12 04:12:53\n",
      "\tNot in the set. Skipped.\n",
      "\ts 16 of 28. From 2017.12.12 10:13:34 to 2017.12.22 23:58:52\n",
      "\tNot in the set. Skipped.\n",
      "\ts 17 of 28. From 2017.12.26 03:00:01 to 2017.12.29 23:58:59\n",
      "\tNot in the set. Skipped.\n",
      "\ts 18 of 28. From 2018.01.02 03:00:00 to 2018.01.10 20:51:51\n",
      "\tNot in the set. Skipped.\n",
      "\ts 19 of 28. From 2018.01.11 14:39:29 to 2018.01.25 08:17:38\n",
      "\tNot in the set. Skipped.\n",
      "\ts 20 of 28. From 2018.01.25 09:10:27 to 2018.03.07 23:58:59\n",
      "\tNot in the set. Skipped.\n",
      "\ts 21 of 28. From 2018.03.09 00:05:00 to 2018.03.20 05:04:42\n",
      "\ts 22 of 28. From 2018.03.20 05:44:29 to 2018.04.12 09:26:15\n",
      "\ts 23 of 28. From 2018.04.12 09:59:09 to 2018.05.08 03:27:51\n",
      "\ts 24 of 28. From 2018.05.08 04:24:15 to 2018.07.13 23:59:04\n",
      "\ts 25 of 28. From 2018.07.30 00:05:00 to 2018.08.10 23:58:59\n",
      "\ts 26 of 28. From 2018.08.13 07:37:02 to 2018.08.23 12:52:32\n",
      "\ts 27 of 28. From 2018.08.23 13:14:34 to 2018.08.24 23:58:59\n",
      "\ts 28 of 28. From 2018.08.27 19:03:32 to 2018.11.09 23:59:57\n",
      "\tTime for EURCHF:1.0s. Total time:7.0s\n",
      "7. EURGBP\n",
      "\ts 0 of 21. From 2017.01.02 00:00:30 to 2017.08.14 23:45:59\n",
      "\tNot in the set. Skipped.\n",
      "\ts 1 of 21. From 2017.08.15 02:30:32 to 2017.08.17 23:58:59\n",
      "\tNot in the set. Skipped.\n",
      "\ts 2 of 21. From 2017.08.21 00:05:08 to 2017.08.25 19:58:59\n",
      "\tNot in the set. Skipped.\n",
      "\ts 3 of 21. From 2017.08.28 00:05:01 to 2017.09.05 02:36:00\n",
      "\tNot in the set. Skipped.\n",
      "\ts 4 of 21.. Not enough entries. Skipped\n",
      "\ts 5 of 21. From 2017.09.05 09:45:50 to 2017.11.10 09:38:15\n",
      "\tNot in the set. Skipped.\n",
      "\ts 6 of 21. From 2017.11.10 10:05:52 to 2017.11.24 23:58:59\n",
      "\tNot in the set. Skipped.\n",
      "\ts 7 of 21. From 2017.11.27 00:05:00 to 2017.12.08 23:58:59\n",
      "\tNot in the set. Skipped.\n",
      "\ts 8 of 21. From 2017.12.11 00:05:00 to 2017.12.12 04:13:09\n",
      "\tNot in the set. Skipped.\n",
      "\ts 9 of 21. From 2017.12.12 10:13:34 to 2017.12.22 23:58:50\n",
      "\tNot in the set. Skipped.\n",
      "\ts 10 of 21. From 2017.12.26 03:00:01 to 2017.12.29 23:58:57\n",
      "\tNot in the set. Skipped.\n",
      "\ts 11 of 21. From 2018.01.02 03:00:00 to 2018.01.10 21:29:03\n",
      "\tNot in the set. Skipped.\n",
      "\ts 12 of 21. From 2018.01.11 14:39:29 to 2018.01.25 08:17:38\n",
      "\tNot in the set. Skipped.\n",
      "\ts 13 of 21. From 2018.01.25 09:10:26 to 2018.03.07 23:58:59\n",
      "\tNot in the set. Skipped.\n",
      "\ts 14 of 21. From 2018.03.09 00:05:00 to 2018.03.20 05:04:41\n",
      "\ts 15 of 21. From 2018.03.20 05:44:30 to 2018.04.12 09:26:16\n",
      "\ts 16 of 21. From 2018.04.12 09:59:08 to 2018.05.08 03:27:48\n",
      "\ts 17 of 21. From 2018.05.08 04:24:15 to 2018.07.13 23:59:06\n",
      "\ts 18 of 21. From 2018.07.30 00:05:00 to 2018.08.10 23:58:59\n",
      "\ts 19 of 21. From 2018.08.13 07:37:02 to 2018.08.23 12:52:32\n",
      "\ts 20 of 21. From 2018.08.23 13:14:34 to 2018.08.24 23:58:59\n",
      "\ts 21 of 21. From 2018.08.27 19:03:32 to 2018.11.09 23:59:06\n",
      "\tTime for EURGBP:1.0s. Total time:9.0s\n",
      "8. EURNZD\n",
      "\ts 0 of 29. From 2016.01.04 00:00:00 to 2016.10.13 15:41:59\n",
      "\tNot in the set. Skipped.\n",
      "\ts 1 of 29. From 2016.10.13 17:52:00 to 2016.12.23 23:59:59\n",
      "\tNot in the set. Skipped.\n",
      "\ts 2 of 29. From 2016.12.26 06:00:00 to 2016.12.30 23:58:02\n",
      "\tNot in the set. Skipped.\n",
      "\ts 3 of 29. From 2017.03.08 00:01:00 to 2017.03.17 22:54:59\n",
      "\tNot in the set. Skipped.\n",
      "\ts 4 of 29. From 2017.03.20 01:08:01 to 2017.03.24 22:59:59\n",
      "\tNot in the set. Skipped.\n",
      "\ts 5 of 29. From 2017.03.27 01:18:09 to 2017.03.27 23:59:59\n",
      "\tNot in the set. Skipped.\n",
      "\ts 6 of 29. From 2017.03.28 02:31:26 to 2017.03.28 23:59:59\n",
      "\tNot in the set. Skipped.\n",
      "\ts 7 of 29. From 2017.03.29 02:09:06 to 2017.03.30 23:59:59\n",
      "\tNot in the set. Skipped.\n",
      "\ts 8 of 29. From 2017.03.31 02:39:18 to 2017.03.31 23:59:59\n",
      "\tNot in the set. Skipped.\n",
      "\ts 9 of 29. From 2017.04.03 02:27:33 to 2017.04.03 23:59:59\n",
      "\tNot in the set. Skipped.\n",
      "\ts 10 of 29. From 2017.04.04 02:32:37 to 2017.07.14 00:04:30\n",
      "\tNot in the set. Skipped.\n",
      "\ts 11 of 29. From 2017.07.14 00:27:00 to 2017.09.05 02:36:00\n",
      "\tNot in the set. Skipped.\n",
      "\ts 12 of 29.. Not enough entries. Skipped\n",
      "\ts 13 of 29. From 2017.09.05 09:45:50 to 2017.11.10 09:38:15\n",
      "\tNot in the set. Skipped.\n",
      "\ts 14 of 29. From 2017.11.10 10:05:51 to 2017.11.24 23:58:57\n",
      "\tNot in the set. Skipped.\n",
      "\ts 15 of 29. From 2017.11.27 00:05:00 to 2017.12.08 23:58:59\n",
      "\tNot in the set. Skipped.\n",
      "\ts 16 of 29. From 2017.12.11 00:05:00 to 2017.12.12 04:13:10\n",
      "\tNot in the set. Skipped.\n",
      "\ts 17 of 29. From 2017.12.12 10:13:34 to 2017.12.22 23:58:59\n",
      "\tNot in the set. Skipped.\n",
      "\ts 18 of 29. From 2017.12.26 03:00:01 to 2017.12.29 23:58:59\n",
      "\tNot in the set. Skipped.\n",
      "\ts 19 of 29. From 2018.01.02 03:00:00 to 2018.01.10 21:13:01\n",
      "\tNot in the set. Skipped.\n",
      "\ts 20 of 29. From 2018.01.11 14:39:29 to 2018.01.25 08:17:38\n",
      "\tNot in the set. Skipped.\n",
      "\ts 21 of 29. From 2018.01.25 09:10:27 to 2018.03.07 23:58:59\n",
      "\tNot in the set. Skipped.\n",
      "\ts 22 of 29. From 2018.03.09 00:05:00 to 2018.03.20 05:04:48\n",
      "\ts 23 of 29. From 2018.03.20 05:44:28 to 2018.04.12 09:26:15\n",
      "\ts 24 of 29. From 2018.04.12 09:59:09 to 2018.05.08 03:27:49\n",
      "\ts 25 of 29. From 2018.05.08 04:24:15 to 2018.07.13 23:59:10\n",
      "\ts 26 of 29. From 2018.07.30 00:05:00 to 2018.08.10 23:58:59\n",
      "\ts 27 of 29. From 2018.08.13 07:37:02 to 2018.08.23 12:52:28\n",
      "\ts 28 of 29. From 2018.08.23 13:14:34 to 2018.08.24 23:58:51\n",
      "\ts 29 of 29. From 2018.08.27 19:03:32 to 2018.11.09 23:59:06\n",
      "\tTime for EURNZD:1.0s. Total time:11.0s\n",
      "10. EURUSD\n",
      "\ts 0 of 27. From 2016.01.04 00:03:00 to 2016.04.22 23:59:59\n",
      "\tNot in the set. Skipped.\n",
      "\ts 1 of 27. From 2016.04.25 03:00:00 to 2016.06.09 11:59:59\n",
      "\tNot in the set. Skipped.\n",
      "\ts 2 of 27. From 2016.06.09 12:22:00 to 2016.12.23 23:54:59\n",
      "\tNot in the set. Skipped.\n",
      "\ts 3 of 27. From 2016.12.26 09:00:59 to 2017.01.11 18:42:20\n",
      "\tNot in the set. Skipped.\n",
      "\ts 4 of 27. From 2017.01.12 00:00:00 to 2017.01.26 23:59:59\n",
      "\tNot in the set. Skipped.\n",
      "\ts 5 of 27. From 2017.03.01 00:00:00 to 2017.08.11 23:59:59\n",
      "\tNot in the set. Skipped.\n",
      "\ts 6 of 27. From 2017.08.14 12:28:53 to 2017.08.14 23:58:59\n",
      "\tNot in the set. Skipped.\n",
      "\ts 7 of 27. From 2017.08.15 14:07:41 to 2017.08.25 20:06:23\n",
      "\tNot in the set. Skipped.\n",
      "\ts 8 of 27. From 2017.08.28 00:05:02 to 2017.09.05 02:36:01\n",
      "\tNot in the set. Skipped.\n",
      "\ts 9 of 27.. Not enough entries. Skipped\n",
      "\ts 10 of 27. From 2017.09.05 09:45:50 to 2017.10.23 01:59:34\n",
      "\tNot in the set. Skipped.\n",
      "\ts 11 of 27. From 2017.10.23 02:33:26 to 2017.11.10 09:38:15\n",
      "\tNot in the set. Skipped.\n",
      "\ts 12 of 27. From 2017.11.10 10:05:52 to 2017.11.24 23:58:33\n",
      "\tNot in the set. Skipped.\n",
      "\ts 13 of 27. From 2017.11.27 00:05:00 to 2017.12.08 23:58:59\n",
      "\tNot in the set. Skipped.\n",
      "\ts 14 of 27. From 2017.12.11 00:05:00 to 2017.12.12 04:13:10\n",
      "\tNot in the set. Skipped.\n",
      "\ts 15 of 27. From 2017.12.12 10:13:34 to 2017.12.22 23:58:58\n",
      "\tNot in the set. Skipped.\n",
      "\ts 16 of 27. From 2017.12.26 03:00:00 to 2017.12.29 23:58:57\n",
      "\tNot in the set. Skipped.\n",
      "\ts 17 of 27. From 2018.01.02 03:00:00 to 2018.01.10 21:08:57\n",
      "\tNot in the set. Skipped.\n",
      "\ts 18 of 27. From 2018.01.11 14:39:29 to 2018.01.25 08:17:37\n",
      "\tNot in the set. Skipped.\n",
      "\ts 19 of 27. From 2018.01.25 08:49:52 to 2018.03.08 23:58:59\n",
      "\tNot in the set. Skipped.\n",
      "\ts 20 of 27. From 2018.03.09 00:05:00 to 2018.03.20 05:04:41\n",
      "\ts 21 of 27. From 2018.03.20 05:44:29 to 2018.04.12 09:26:15\n",
      "\ts 22 of 27. From 2018.04.12 09:59:08 to 2018.05.08 03:27:51\n",
      "\ts 23 of 27. From 2018.05.08 04:24:15 to 2018.07.13 23:59:56\n",
      "\ts 24 of 27. From 2018.07.30 00:05:00 to 2018.08.10 23:58:59\n",
      "\ts 25 of 27. From 2018.08.13 07:37:02 to 2018.08.23 12:52:32\n",
      "\ts 26 of 27. From 2018.08.23 13:14:34 to 2018.08.24 23:58:59\n",
      "\ts 27 of 27. From 2018.08.27 19:03:31 to 2018.11.09 23:59:07\n",
      "\tTime for EURUSD:1.0s. Total time:12.0s\n",
      "11. GBPAUD\n",
      "\ts 0 of 21. From 2016.01.04 00:00:30 to 2016.10.13 15:41:59\n",
      "\tNot in the set. Skipped.\n",
      "\ts 1 of 21. From 2016.10.13 17:52:00 to 2016.12.23 23:59:59\n",
      "\tNot in the set. Skipped.\n",
      "\ts 2 of 21. From 2016.12.26 06:00:00 to 2017.06.08 23:59:59\n",
      "\tNot in the set. Skipped.\n",
      "\ts 3 of 21. From 2017.06.12 00:05:00 to 2017.07.20 00:03:59\n",
      "\tNot in the set. Skipped.\n",
      "\ts 4 of 21. From 2017.07.20 00:24:30 to 2017.09.05 23:44:35\n",
      "\tNot in the set. Skipped.\n",
      "\ts 5 of 21. From 2017.09.05 10:03:57 to 2017.11.10 09:38:15\n",
      "\tNot in the set. Skipped.\n",
      "\ts 6 of 21. From 2017.11.10 10:05:54 to 2017.11.24 23:58:59\n",
      "\tNot in the set. Skipped.\n",
      "\ts 7 of 21. From 2017.11.27 00:05:00 to 2017.12.08 23:58:59\n",
      "\tNot in the set. Skipped.\n",
      "\ts 8 of 21. From 2017.12.11 00:05:00 to 2017.12.12 04:12:53\n",
      "\tNot in the set. Skipped.\n",
      "\ts 9 of 21. From 2017.12.12 10:13:38 to 2017.12.22 23:58:59\n",
      "\tNot in the set. Skipped.\n",
      "\ts 10 of 21. From 2017.12.26 03:00:00 to 2017.12.29 23:58:59\n",
      "\tNot in the set. Skipped.\n",
      "\ts 11 of 21. From 2018.01.02 03:00:00 to 2018.01.10 21:09:22\n",
      "\tNot in the set. Skipped.\n",
      "\ts 12 of 21. From 2018.01.11 14:39:29 to 2018.01.25 08:17:38\n",
      "\tNot in the set. Skipped.\n",
      "\ts 13 of 21. From 2018.01.25 09:10:26 to 2018.03.08 23:58:59\n",
      "\tNot in the set. Skipped.\n",
      "\ts 14 of 21. From 2018.03.09 00:05:00 to 2018.03.20 05:04:47\n",
      "\ts 15 of 21. From 2018.03.20 05:44:32 to 2018.04.12 09:26:16\n",
      "\ts 16 of 21. From 2018.04.12 09:59:08 to 2018.05.08 03:27:53\n",
      "\ts 17 of 21. From 2018.05.08 04:24:12 to 2018.07.13 23:59:11\n",
      "\ts 18 of 21. From 2018.07.30 00:05:00 to 2018.08.10 23:58:59\n",
      "\ts 19 of 21. From 2018.08.13 07:37:02 to 2018.08.23 12:52:32\n",
      "\ts 20 of 21. From 2018.08.23 13:14:34 to 2018.08.24 23:58:59\n",
      "\ts 21 of 21. From 2018.08.27 19:03:29 to 2018.11.09 23:59:57\n",
      "\tTime for GBPAUD:2.0s. Total time:15.0s\n",
      "12. GBPCAD\n",
      "\ts 0 of 23. From 2016.01.04 00:00:00 to 2016.10.13 15:41:59\n",
      "\tNot in the set. Skipped.\n",
      "\ts 1 of 23. From 2016.10.13 17:52:00 to 2016.12.23 23:59:59\n",
      "\tNot in the set. Skipped.\n",
      "\ts 2 of 23. From 2016.12.26 06:00:00 to 2016.12.29 23:59:59\n",
      "\tNot in the set. Skipped.\n",
      "\ts 3 of 23. From 2017.01.02 00:01:00 to 2017.06.08 23:59:59\n",
      "\tNot in the set. Skipped.\n",
      "\ts 4 of 23. From 2017.06.12 00:03:00 to 2017.09.04 23:45:30\n",
      "\tNot in the set. Skipped.\n",
      "\ts 5 of 23. From 2017.09.05 10:04:17 to 2017.11.10 09:38:15\n",
      "\tNot in the set. Skipped.\n",
      "\ts 6 of 23. From 2017.11.10 10:05:53 to 2017.11.24 23:58:59\n",
      "\tNot in the set. Skipped.\n",
      "\ts 7 of 23. From 2017.11.27 00:05:00 to 2017.12.08 23:58:58\n",
      "\tNot in the set. Skipped.\n",
      "\ts 8 of 23. From 2017.12.11 00:05:00 to 2017.12.12 04:13:10\n",
      "\tNot in the set. Skipped.\n",
      "\ts 9 of 23. From 2017.12.12 10:13:38 to 2017.12.22 23:58:59\n",
      "\tNot in the set. Skipped.\n",
      "\ts 10 of 23. From 2017.12.26 03:00:00 to 2017.12.29 23:58:55\n",
      "\tNot in the set. Skipped.\n",
      "\ts 11 of 23. From 2018.01.02 03:00:00 to 2018.01.10 21:17:35\n",
      "\tNot in the set. Skipped.\n",
      "\ts 12 of 23. From 2018.01.11 14:39:29 to 2018.01.25 08:17:37\n",
      "\tNot in the set. Skipped.\n",
      "\ts 13 of 23. From 2018.01.25 09:10:27 to 2018.03.08 23:58:59\n",
      "\tNot in the set. Skipped.\n",
      "\ts 14 of 23. From 2018.03.09 00:05:00 to 2018.03.20 05:04:47\n",
      "\ts 15 of 23. From 2018.03.20 05:44:33 to 2018.04.12 09:26:16\n",
      "\ts 16 of 23. From 2018.04.12 09:59:08 to 2018.05.08 03:27:47\n",
      "\ts 17 of 23. From 2018.05.08 04:24:14 to 2018.06.22 15:30:01\n",
      "\ts 18 of 23. From 2018.06.22 16:46:00 to 2018.07.13 23:59:10\n",
      "\ts 19 of 23. From 2018.07.30 00:05:00 to 2018.08.10 23:58:59\n",
      "\ts 20 of 23. From 2018.08.13 07:37:02 to 2018.08.23 12:52:32\n",
      "\ts 21 of 23. From 2018.08.23 13:14:34 to 2018.08.24 23:58:59\n",
      "\ts 22 of 23. From 2018.08.27 19:03:29 to 2018.10.19 15:30:00\n",
      "\ts 23 of 23. From 2018.10.19 18:09:29 to 2018.11.09 23:59:08\n",
      "\tTime for GBPCAD:1.0s. Total time:17.0s\n",
      "13. GBPCHF\n",
      "\ts 0 of 21. From 2016.01.04 00:00:30 to 2016.10.13 15:41:59\n",
      "\tNot in the set. Skipped.\n",
      "\ts 1 of 21. From 2016.10.13 17:52:00 to 2016.12.23 23:58:59\n",
      "\tNot in the set. Skipped.\n",
      "\ts 2 of 21. From 2016.12.26 06:00:00 to 2017.07.17 18:51:04\n",
      "\tNot in the set. Skipped.\n",
      "\ts 3 of 21. From 2017.07.18 08:25:27 to 2017.07.18 23:45:30\n",
      "\tNot in the set. Skipped.\n",
      "\ts 4 of 21. From 2017.07.19 02:07:47 to 2017.09.04 23:45:59\n",
      "\tNot in the set. Skipped.\n",
      "\ts 5 of 21. From 2017.09.05 10:04:57 to 2017.11.10 09:38:15\n",
      "\tNot in the set. Skipped.\n",
      "\ts 6 of 21. From 2017.11.10 10:05:53 to 2017.11.24 23:58:59\n",
      "\tNot in the set. Skipped.\n",
      "\ts 7 of 21. From 2017.11.27 00:05:00 to 2017.12.08 23:58:59\n",
      "\tNot in the set. Skipped.\n",
      "\ts 8 of 21. From 2017.12.11 00:05:00 to 2017.12.12 04:13:02\n",
      "\tNot in the set. Skipped.\n",
      "\ts 9 of 21. From 2017.12.12 10:13:40 to 2017.12.22 23:58:59\n",
      "\tNot in the set. Skipped.\n",
      "\ts 10 of 21. From 2017.12.26 03:00:01 to 2017.12.29 23:58:59\n",
      "\tNot in the set. Skipped.\n",
      "\ts 11 of 21. From 2018.01.02 03:00:00 to 2018.01.10 21:16:30\n",
      "\tNot in the set. Skipped.\n",
      "\ts 12 of 21. From 2018.01.11 14:39:29 to 2018.01.25 08:17:38\n",
      "\tNot in the set. Skipped.\n",
      "\ts 13 of 21. From 2018.01.25 08:51:08 to 2018.03.08 23:58:59\n",
      "\tNot in the set. Skipped.\n",
      "\ts 14 of 21. From 2018.03.09 00:05:00 to 2018.03.20 05:04:44\n",
      "\ts 15 of 21. From 2018.03.20 05:44:29 to 2018.04.12 09:26:16\n",
      "\ts 16 of 21. From 2018.04.12 09:59:10 to 2018.05.08 03:27:54\n",
      "\ts 17 of 21. From 2018.05.08 04:24:15 to 2018.07.13 23:58:58\n",
      "\ts 18 of 21. From 2018.07.30 00:05:00 to 2018.08.10 23:58:59\n",
      "\ts 19 of 21. From 2018.08.13 07:37:02 to 2018.08.23 12:52:32\n",
      "\ts 20 of 21. From 2018.08.23 13:14:34 to 2018.08.24 23:58:59\n",
      "\ts 21 of 21. From 2018.08.27 19:03:29 to 2018.11.09 23:58:59\n",
      "\tTime for GBPCHF:2.0s. Total time:19.0s\n",
      "14. GBPUSD\n",
      "\ts 0 of 26. From 2016.01.04 00:00:30 to 2016.10.13 15:41:59\n",
      "\tNot in the set. Skipped.\n",
      "\ts 1 of 26. From 2016.10.13 17:52:00 to 2016.12.23 23:59:59\n",
      "\tNot in the set. Skipped.\n",
      "\ts 2 of 26. From 2016.12.26 06:00:00 to 2016.12.29 23:59:59\n",
      "\tNot in the set. Skipped.\n",
      "\ts 3 of 26. From 2017.01.02 00:01:30 to 2017.04.10 02:14:15\n",
      "\tNot in the set. Skipped.\n",
      "\ts 4 of 26. From 2017.07.10 00:03:00 to 2017.08.11 23:59:59\n",
      "\tNot in the set. Skipped.\n",
      "\ts 5 of 26. From 2017.08.14 19:30:24 to 2017.08.14 23:58:59\n",
      "\tNot in the set. Skipped.\n",
      "\ts 6 of 26. From 2017.08.15 04:16:31 to 2017.08.17 23:58:59\n",
      "\tNot in the set. Skipped.\n",
      "\ts 7 of 26. From 2017.08.23 00:05:18 to 2017.08.25 20:08:31\n",
      "\tNot in the set. Skipped.\n",
      "\ts 8 of 26. From 2017.08.28 00:05:02 to 2017.09.05 02:36:00\n",
      "\tNot in the set. Skipped.\n",
      "\ts 9 of 26.. Not enough entries. Skipped\n",
      "\ts 10 of 26. From 2017.09.05 09:45:50 to 2017.11.10 09:38:15\n",
      "\tNot in the set. Skipped.\n",
      "\ts 11 of 26. From 2017.11.10 10:05:51 to 2017.11.24 23:58:59\n",
      "\tNot in the set. Skipped.\n",
      "\ts 12 of 26. From 2017.11.27 00:05:00 to 2017.12.08 23:58:59\n",
      "\tNot in the set. Skipped.\n",
      "\ts 13 of 26. From 2017.12.11 00:05:00 to 2017.12.12 04:13:07\n",
      "\tNot in the set. Skipped.\n",
      "\ts 14 of 26. From 2017.12.12 10:13:34 to 2017.12.22 23:58:59\n",
      "\tNot in the set. Skipped.\n",
      "\ts 15 of 26. From 2017.12.26 03:00:01 to 2017.12.29 23:58:59\n",
      "\tNot in the set. Skipped.\n",
      "\ts 16 of 26. From 2018.01.02 03:00:00 to 2018.01.10 21:13:19\n",
      "\tNot in the set. Skipped.\n",
      "\ts 17 of 26. From 2018.01.11 14:39:29 to 2018.01.25 08:17:38\n",
      "\tNot in the set. Skipped.\n",
      "\ts 18 of 26. From 2018.01.25 08:53:48 to 2018.03.08 23:58:58\n",
      "\tNot in the set. Skipped.\n",
      "\ts 19 of 26. From 2018.03.09 00:05:00 to 2018.03.20 05:04:43\n",
      "\ts 20 of 26. From 2018.03.20 05:44:30 to 2018.04.12 09:26:16\n",
      "\ts 21 of 26. From 2018.04.12 09:59:08 to 2018.05.08 03:27:55\n",
      "\ts 22 of 26. From 2018.05.08 04:24:12 to 2018.07.13 23:59:57\n",
      "\ts 23 of 26. From 2018.07.30 00:05:00 to 2018.08.10 23:58:59\n",
      "\ts 24 of 26. From 2018.08.13 07:37:02 to 2018.08.23 12:52:32\n",
      "\ts 25 of 26. From 2018.08.23 13:14:34 to 2018.08.24 23:58:59\n",
      "\ts 26 of 26. From 2018.08.27 19:03:29 to 2018.11.09 23:59:57\n",
      "\tTime for GBPUSD:1.0s. Total time:21.0s\n",
      "15. GOLD\n",
      "\ts 0 of 20. From 2017.09.13 19:06:47 to 2017.11.03 22:58:52\n",
      "\tNot in the set. Skipped.\n",
      "\ts 1 of 20. From 2017.11.06 01:01:00 to 2017.11.10 09:38:15\n",
      "\tNot in the set. Skipped.\n",
      "\ts 2 of 20. From 2017.11.10 10:05:54 to 2017.11.23 19:45:52\n",
      "\tNot in the set. Skipped.\n",
      "\ts 3 of 20. From 2017.11.24 01:00:03 to 2017.11.24 19:29:59\n",
      "\tNot in the set. Skipped.\n",
      "\ts 4 of 20. From 2017.11.27 01:01:00 to 2017.12.08 23:58:57\n",
      "\tNot in the set. Skipped.\n",
      "\ts 5 of 20. From 2017.12.11 01:00:59 to 2017.12.12 04:13:05\n",
      "\tNot in the set. Skipped.\n",
      "\ts 6 of 20. From 2017.12.12 09:49:50 to 2017.12.22 23:58:58\n",
      "\tNot in the set. Skipped.\n",
      "\ts 7 of 20. From 2017.12.26 03:00:00 to 2017.12.29 23:58:49\n",
      "\tNot in the set. Skipped.\n",
      "\ts 8 of 20. From 2018.01.02 03:00:00 to 2018.01.10 21:10:22\n",
      "\tNot in the set. Skipped.\n",
      "\ts 9 of 20. From 2018.01.11 14:39:29 to 2018.01.15 19:59:58\n",
      "\tNot in the set. Skipped.\n",
      "\ts 10 of 20. From 2018.01.16 01:00:02 to 2018.01.25 08:17:38\n",
      "\tNot in the set. Skipped.\n",
      "\ts 11 of 20. From 2018.01.25 09:10:27 to 2018.02.19 19:59:59\n",
      "\tNot in the set. Skipped.\n",
      "\ts 12 of 20. From 2018.02.20 01:00:04 to 2018.03.08 23:58:52\n",
      "\tNot in the set. Skipped.\n",
      "\ts 13 of 20. From 2018.03.09 01:00:00 to 2018.03.16 22:58:57\n",
      "\ts 14 of 20. From 2018.03.19 01:00:00 to 2018.03.20 05:04:41\n",
      "\ts 15 of 20. From 2018.03.20 05:44:33 to 2018.03.23 22:58:57\n",
      "\ts 16 of 20. From 2018.03.26 01:00:59 to 2018.03.29 23:58:56\n",
      "\ts 17 of 20. From 2018.04.02 01:01:00 to 2018.04.12 09:26:16\n",
      "\ts 18 of 20. From 2018.04.12 09:59:09 to 2018.05.08 03:27:53\n",
      "\ts 19 of 20. From 2018.05.08 04:24:13 to 2018.05.28 19:59:59\n",
      "\ts 20 of 20. From 2018.05.29 01:00:00 to 2018.05.31 23:58:37\n",
      "\tTime for GOLD:0.0s. Total time:22.0s\n",
      "16. USDCAD\n",
      "\ts 0 of 19. From 2016.01.04 00:00:00 to 2016.10.13 15:41:59\n",
      "\tNot in the set. Skipped.\n",
      "\ts 1 of 19. From 2016.10.13 17:52:00 to 2016.12.23 23:59:59\n",
      "\tNot in the set. Skipped.\n",
      "\ts 2 of 19. From 2016.12.26 06:00:00 to 2017.09.04 23:45:30\n",
      "\tNot in the set. Skipped.\n",
      "\ts 3 of 19. From 2017.09.05 10:05:21 to 2017.11.10 09:38:14\n",
      "\tNot in the set. Skipped.\n",
      "\ts 4 of 19. From 2017.11.10 10:05:53 to 2017.11.24 23:58:59\n",
      "\tNot in the set. Skipped.\n",
      "\ts 5 of 19. From 2017.11.27 00:05:00 to 2017.12.08 23:58:58\n",
      "\tNot in the set. Skipped.\n",
      "\ts 6 of 19. From 2017.12.11 00:05:00 to 2017.12.12 04:13:01\n",
      "\tNot in the set. Skipped.\n",
      "\ts 7 of 19. From 2017.12.12 10:13:39 to 2017.12.22 23:58:59\n",
      "\tNot in the set. Skipped.\n",
      "\ts 8 of 19. From 2017.12.26 03:00:00 to 2017.12.29 23:58:59\n",
      "\tNot in the set. Skipped.\n",
      "\ts 9 of 19. From 2018.01.02 03:00:00 to 2018.01.10 21:19:38\n",
      "\tNot in the set. Skipped.\n",
      "\ts 10 of 19. From 2018.01.11 14:39:38 to 2018.01.25 08:17:38\n",
      "\tNot in the set. Skipped.\n",
      "\ts 11 of 19. From 2018.01.25 09:10:26 to 2018.03.08 23:58:59\n",
      "\tNot in the set. Skipped.\n",
      "\ts 12 of 19. From 2018.03.09 00:05:00 to 2018.03.20 05:04:47\n",
      "\ts 13 of 19. From 2018.03.20 05:44:34 to 2018.04.12 09:26:07\n",
      "\ts 14 of 19. From 2018.04.12 09:59:08 to 2018.05.08 03:27:47\n",
      "\ts 15 of 19. From 2018.05.08 04:24:14 to 2018.07.13 23:59:56\n",
      "\ts 16 of 19. From 2018.07.30 00:05:00 to 2018.08.10 23:58:59\n",
      "\ts 17 of 19. From 2018.08.13 07:37:02 to 2018.08.23 12:52:32\n",
      "\ts 18 of 19. From 2018.08.23 13:14:34 to 2018.08.24 23:58:59\n",
      "\ts 19 of 19. From 2018.08.27 19:03:29 to 2018.11.09 23:59:57\n",
      "\tTime for USDCAD:1.0s. Total time:23.0s\n",
      "17. USDCHF\n",
      "\ts 0 of 25. From 2016.01.04 00:00:59 to 2016.01.11 00:30:59\n",
      "\tNot in the set. Skipped.\n",
      "\ts 1 of 25. From 2016.01.11 01:00:00 to 2016.10.13 15:41:59\n",
      "\tNot in the set. Skipped.\n",
      "\ts 2 of 25. From 2016.10.13 17:52:00 to 2016.12.23 23:59:59\n",
      "\tNot in the set. Skipped.\n",
      "\ts 3 of 25. From 2016.12.26 06:00:00 to 2016.12.30 23:58:08\n",
      "\tNot in the set. Skipped.\n",
      "\ts 4 of 25. From 2017.01.02 09:00:00 to 2017.08.11 23:54:59\n",
      "\tNot in the set. Skipped.\n",
      "\ts 5 of 25. From 2017.08.14 19:30:37 to 2017.08.14 23:58:59\n",
      "\tNot in the set. Skipped.\n",
      "\ts 6 of 25. From 2017.08.15 15:13:26 to 2017.08.17 23:58:48\n",
      "\tNot in the set. Skipped.\n",
      "\ts 7 of 25. From 2017.08.21 00:05:07 to 2017.08.25 19:45:45\n",
      "\tNot in the set. Skipped.\n",
      "\ts 8 of 25. From 2017.08.28 00:05:01 to 2017.09.05 02:35:52\n",
      "\tNot in the set. Skipped.\n",
      "\ts 9 of 25.. Not enough entries. Skipped\n",
      "\ts 10 of 25. From 2017.09.05 09:45:55 to 2017.11.10 09:38:15\n",
      "\tNot in the set. Skipped.\n",
      "\ts 11 of 25. From 2017.11.10 10:05:52 to 2017.11.24 23:58:59\n",
      "\tNot in the set. Skipped.\n",
      "\ts 12 of 25. From 2017.11.27 00:05:00 to 2017.12.08 23:58:59\n",
      "\tNot in the set. Skipped.\n",
      "\ts 13 of 25. From 2017.12.11 00:05:00 to 2017.12.22 23:58:59\n",
      "\tNot in the set. Skipped.\n",
      "\ts 14 of 25. From 2017.12.26 03:00:00 to 2017.12.29 23:58:59\n",
      "\tNot in the set. Skipped.\n",
      "\ts 15 of 25. From 2018.01.02 03:00:00 to 2018.01.10 21:17:59\n",
      "\tNot in the set. Skipped.\n",
      "\ts 16 of 25. From 2018.01.11 14:39:29 to 2018.01.25 08:17:38\n",
      "\tNot in the set. Skipped.\n",
      "\ts 17 of 25. From 2018.01.25 09:08:40 to 2018.03.08 23:58:59\n",
      "\tNot in the set. Skipped.\n",
      "\ts 18 of 25. From 2018.03.09 00:05:00 to 2018.03.20 05:04:49\n",
      "\ts 19 of 25. From 2018.03.20 05:44:30 to 2018.04.12 09:26:15\n",
      "\ts 20 of 25. From 2018.04.12 09:59:08 to 2018.05.08 03:27:52\n",
      "\ts 21 of 25. From 2018.05.08 04:24:15 to 2018.07.13 23:59:00\n",
      "\ts 22 of 25. From 2018.07.30 00:05:00 to 2018.08.10 23:58:59\n",
      "\ts 23 of 25. From 2018.08.13 07:37:02 to 2018.08.23 12:52:32\n",
      "\ts 24 of 25. From 2018.08.23 13:14:34 to 2018.08.24 23:58:59\n",
      "\ts 25 of 25. From 2018.08.27 19:03:29 to 2018.11.09 23:59:01\n",
      "\tTime for USDCHF:1.0s. Total time:24.0s\n",
      "19. USDJPY\n",
      "\ts 0 of 27. From 2016.01.05 00:02:00 to 2016.01.19 16:54:08\n",
      "\tNot in the set. Skipped.\n",
      "\ts 1 of 27. From 2016.01.20 00:00:00 to 2016.10.13 15:41:59\n",
      "\tNot in the set. Skipped.\n",
      "\ts 2 of 27. From 2016.10.13 17:52:00 to 2016.12.23 23:59:59\n",
      "\tNot in the set. Skipped.\n",
      "\ts 3 of 27. From 2016.12.26 06:00:00 to 2016.12.29 23:59:59\n",
      "\tNot in the set. Skipped.\n",
      "\ts 4 of 27. From 2017.01.02 00:01:59 to 2017.07.14 00:05:30\n",
      "\tNot in the set. Skipped.\n",
      "\ts 5 of 27. From 2017.07.14 00:27:00 to 2017.08.11 23:59:59\n",
      "\tNot in the set. Skipped.\n",
      "\ts 6 of 27. From 2017.08.14 19:30:40 to 2017.08.14 23:58:59\n",
      "\tNot in the set. Skipped.\n",
      "\ts 7 of 27. From 2017.08.15 03:32:14 to 2017.08.17 23:58:59\n",
      "\tNot in the set. Skipped.\n",
      "\ts 8 of 27. From 2017.08.21 00:05:07 to 2017.08.25 19:55:41\n",
      "\tNot in the set. Skipped.\n",
      "\ts 9 of 27. From 2017.08.28 00:05:01 to 2017.09.05 02:36:00\n",
      "\tNot in the set. Skipped.\n",
      "\ts 10 of 27.. Not enough entries. Skipped\n",
      "\ts 11 of 27. From 2017.09.05 09:45:51 to 2017.11.10 09:38:15\n",
      "\tNot in the set. Skipped.\n",
      "\ts 12 of 27. From 2017.11.10 10:05:51 to 2017.11.24 23:58:45\n",
      "\tNot in the set. Skipped.\n",
      "\ts 13 of 27. From 2017.11.27 00:05:00 to 2017.12.08 23:58:59\n",
      "\tNot in the set. Skipped.\n",
      "\ts 14 of 27. From 2017.12.11 00:05:00 to 2017.12.12 04:13:06\n",
      "\tNot in the set. Skipped.\n",
      "\ts 15 of 27. From 2017.12.12 10:13:34 to 2017.12.22 23:58:59\n",
      "\tNot in the set. Skipped.\n",
      "\ts 16 of 27. From 2017.12.26 03:00:00 to 2017.12.29 23:58:59\n",
      "\tNot in the set. Skipped.\n",
      "\ts 17 of 27. From 2018.01.02 03:00:00 to 2018.01.10 21:27:56\n",
      "\tNot in the set. Skipped.\n",
      "\ts 18 of 27. From 2018.01.11 14:39:29 to 2018.01.25 08:17:36\n",
      "\tNot in the set. Skipped.\n",
      "\ts 19 of 27. From 2018.01.25 09:10:27 to 2018.03.08 23:58:52\n",
      "\tNot in the set. Skipped.\n",
      "\ts 20 of 27. From 2018.03.09 00:05:00 to 2018.03.20 05:04:47\n",
      "\ts 21 of 27. From 2018.03.20 05:44:29 to 2018.04.12 09:26:16\n",
      "\ts 22 of 27. From 2018.04.12 10:00:38 to 2018.05.08 03:27:53\n",
      "\ts 23 of 27. From 2018.05.08 04:24:16 to 2018.07.13 23:59:02\n",
      "\ts 24 of 27. From 2018.07.30 00:05:00 to 2018.08.10 23:58:59\n",
      "\ts 25 of 27. From 2018.08.13 07:37:02 to 2018.08.23 12:52:32\n",
      "\ts 26 of 27. From 2018.08.23 13:14:34 to 2018.08.24 23:58:59\n",
      "\ts 27 of 27. From 2018.08.27 19:03:31 to 2018.11.09 23:59:06\n",
      "\tTime for USDJPY:1.0s. Total time:26.0s\n",
      "27. CADJPY\n",
      "\ts 0 of 22. From 2016.01.04 00:00:00 to 2016.01.15 23:59:59\n",
      "\tNot in the set. Skipped.\n",
      "\ts 1 of 22. From 2016.01.19 00:00:00 to 2016.10.13 15:41:59\n",
      "\tNot in the set. Skipped.\n",
      "\ts 2 of 22. From 2016.10.13 17:52:00 to 2016.12.23 23:59:59\n",
      "\tNot in the set. Skipped.\n",
      "\ts 3 of 22. From 2016.12.26 06:00:00 to 2017.09.11 23:01:59\n",
      "\tNot in the set. Skipped.\n",
      "\ts 4 of 22. From 2017.09.11 23:28:00 to 2017.09.18 23:59:59\n",
      "\tNot in the set. Skipped.\n",
      "\ts 5 of 22. From 2017.09.19 23:45:43 to 2017.10.23 01:18:29\n",
      "\tNot in the set. Skipped.\n",
      "\ts 6 of 22. From 2017.10.23 02:02:38 to 2017.11.10 09:38:15\n",
      "\tNot in the set. Skipped.\n",
      "\ts 7 of 22. From 2017.11.10 10:05:52 to 2017.11.24 23:58:59\n",
      "\tNot in the set. Skipped.\n",
      "\ts 8 of 22. From 2017.11.27 00:05:00 to 2017.12.08 23:58:59\n",
      "\tNot in the set. Skipped.\n",
      "\ts 9 of 22. From 2017.12.11 00:05:00 to 2017.12.12 04:13:05\n",
      "\tNot in the set. Skipped.\n",
      "\ts 10 of 22. From 2017.12.12 10:13:38 to 2017.12.22 23:58:59\n",
      "\tNot in the set. Skipped.\n",
      "\ts 11 of 22. From 2017.12.26 03:00:00 to 2017.12.29 23:58:59\n",
      "\tNot in the set. Skipped.\n",
      "\ts 12 of 22. From 2018.01.02 03:00:00 to 2018.01.10 21:17:53\n",
      "\tNot in the set. Skipped.\n",
      "\ts 13 of 22. From 2018.01.11 14:39:29 to 2018.01.25 08:17:37\n",
      "\tNot in the set. Skipped.\n",
      "\ts 14 of 22. From 2018.01.25 09:10:28 to 2018.03.08 23:58:59\n",
      "\tNot in the set. Skipped.\n",
      "\ts 15 of 22. From 2018.03.09 00:05:00 to 2018.03.20 05:04:48\n",
      "\ts 16 of 22. From 2018.03.20 05:44:32 to 2018.04.12 09:26:16\n",
      "\ts 17 of 22. From 2018.04.12 10:00:39 to 2018.05.08 03:27:53\n",
      "\ts 18 of 22. From 2018.05.08 04:24:16 to 2018.05.31 23:58:58\n",
      "\ts 19 of 22. From 2018.07.30 00:05:00 to 2018.08.10 23:58:59\n",
      "\ts 20 of 22. From 2018.08.13 07:37:02 to 2018.08.23 12:52:28\n",
      "\ts 21 of 22. From 2018.08.23 13:14:34 to 2018.08.24 23:58:59\n",
      "\ts 22 of 22. From 2018.08.27 19:03:31 to 2018.11.09 23:59:08\n",
      "\tTime for CADJPY:1.0s. Total time:27.0s\n",
      "28. EURJPY\n",
      "\ts 0 of 24. From 2016.01.04 00:00:00 to 2016.01.11 00:29:59\n",
      "\tNot in the set. Skipped.\n",
      "\ts 1 of 24. From 2016.01.11 01:00:00 to 2016.10.13 15:41:59\n",
      "\tNot in the set. Skipped.\n",
      "\ts 2 of 24. From 2016.10.13 17:52:00 to 2016.12.23 23:59:59\n",
      "\tNot in the set. Skipped.\n",
      "\ts 3 of 24. From 2016.12.26 06:00:00 to 2017.07.10 00:04:59\n",
      "\tNot in the set. Skipped.\n",
      "\ts 4 of 24. From 2017.07.10 00:30:00 to 2017.07.14 00:04:59\n",
      "\tNot in the set. Skipped.\n",
      "\ts 5 of 24. From 2017.07.14 00:27:00 to 2017.09.11 23:01:59\n",
      "\tNot in the set. Skipped.\n",
      "\ts 6 of 24.. Not enough entries. Skipped\n",
      "\ts 7 of 24. From 2017.09.11 23:47:00 to 2017.09.19 23:59:59\n",
      "\tNot in the set. Skipped.\n",
      "\ts 8 of 24. From 2017.09.21 08:10:57 to 2017.11.10 09:38:15\n",
      "\tNot in the set. Skipped.\n",
      "\ts 9 of 24. From 2017.11.10 10:05:53 to 2017.11.24 23:58:59\n",
      "\tNot in the set. Skipped.\n",
      "\ts 10 of 24. From 2017.11.27 00:05:00 to 2017.12.08 23:58:59\n",
      "\tNot in the set. Skipped.\n",
      "\ts 11 of 24. From 2017.12.11 00:05:00 to 2017.12.12 04:12:51\n",
      "\tNot in the set. Skipped.\n",
      "\ts 12 of 24. From 2017.12.12 10:13:36 to 2017.12.22 23:58:59\n",
      "\tNot in the set. Skipped.\n",
      "\ts 13 of 24. From 2017.12.26 03:00:00 to 2017.12.29 23:58:59\n",
      "\tNot in the set. Skipped.\n",
      "\ts 14 of 24. From 2018.01.02 03:00:00 to 2018.01.10 21:26:10\n",
      "\tNot in the set. Skipped.\n",
      "\ts 15 of 24. From 2018.01.11 14:39:33 to 2018.01.25 08:17:38\n",
      "\tNot in the set. Skipped.\n",
      "\ts 16 of 24. From 2018.01.25 09:08:40 to 2018.03.08 23:58:59\n",
      "\tNot in the set. Skipped.\n",
      "\ts 17 of 24. From 2018.03.09 00:05:00 to 2018.03.20 05:04:48\n",
      "\ts 18 of 24. From 2018.03.20 05:44:30 to 2018.04.12 09:26:16\n",
      "\ts 19 of 24. From 2018.04.12 09:59:08 to 2018.05.08 03:27:54\n",
      "\ts 20 of 24. From 2018.05.08 04:24:13 to 2018.07.13 23:59:56\n",
      "\ts 21 of 24. From 2018.07.30 00:05:00 to 2018.08.10 23:58:59\n",
      "\ts 22 of 24. From 2018.08.13 07:37:02 to 2018.08.23 12:52:32\n",
      "\ts 23 of 24. From 2018.08.23 13:14:34 to 2018.08.24 23:58:59\n",
      "\ts 24 of 24. From 2018.08.27 19:03:31 to 2018.11.09 23:59:56\n",
      "\tTime for EURJPY:2.0s. Total time:29.0s\n",
      "29. AUDJPY\n",
      "\ts 0 of 21. From 2016.01.04 00:00:00 to 2016.01.11 00:24:59\n",
      "\tNot in the set. Skipped.\n",
      "\ts 1 of 21. From 2016.01.11 01:00:00 to 2016.10.13 15:41:59\n",
      "\tNot in the set. Skipped.\n",
      "\ts 2 of 21. From 2016.10.13 17:52:00 to 2016.12.23 23:59:59\n",
      "\tNot in the set. Skipped.\n",
      "\ts 3 of 21. From 2016.12.26 06:00:00 to 2016.12.29 23:59:59\n",
      "\tNot in the set. Skipped.\n",
      "\ts 4 of 21. From 2017.01.02 09:00:00 to 2017.01.27 23:54:59\n",
      "\tNot in the set. Skipped.\n",
      "\ts 5 of 21. From 2017.01.31 00:12:00 to 2017.11.09 23:59:59\n",
      "\tNot in the set. Skipped.\n",
      "\ts 6 of 21. From 2017.11.20 00:05:00 to 2017.11.24 23:58:59\n",
      "\tNot in the set. Skipped.\n",
      "\ts 7 of 21. From 2017.11.27 00:05:00 to 2017.12.08 23:58:54\n",
      "\tNot in the set. Skipped.\n",
      "\ts 8 of 21. From 2017.12.11 00:05:00 to 2017.12.12 04:13:10\n",
      "\tNot in the set. Skipped.\n",
      "\ts 9 of 21. From 2017.12.12 10:13:40 to 2017.12.22 23:58:58\n",
      "\tNot in the set. Skipped.\n",
      "\ts 10 of 21. From 2017.12.26 03:00:00 to 2017.12.29 23:58:59\n",
      "\tNot in the set. Skipped.\n",
      "\ts 11 of 21. From 2018.01.02 02:59:59 to 2018.01.10 21:13:01\n",
      "\tNot in the set. Skipped.\n",
      "\ts 12 of 21. From 2018.01.11 14:39:33 to 2018.01.25 08:17:37\n",
      "\tNot in the set. Skipped.\n",
      "\ts 13 of 21. From 2018.01.25 09:10:26 to 2018.03.08 23:58:54\n",
      "\tNot in the set. Skipped.\n",
      "\ts 14 of 21. From 2018.03.09 00:05:00 to 2018.03.20 05:04:48\n",
      "\ts 15 of 21. From 2018.03.20 05:44:29 to 2018.04.12 09:26:16\n",
      "\ts 16 of 21. From 2018.04.12 10:00:38 to 2018.05.08 03:27:55\n",
      "\ts 17 of 21. From 2018.05.08 04:24:13 to 2018.07.13 23:59:08\n",
      "\ts 18 of 21. From 2018.07.30 00:05:00 to 2018.08.10 23:58:59\n",
      "\ts 19 of 21. From 2018.08.13 07:37:02 to 2018.08.23 12:52:28\n",
      "\ts 20 of 21. From 2018.08.23 13:14:34 to 2018.08.24 23:58:59\n",
      "\ts 21 of 21. From 2018.08.27 19:03:36 to 2018.11.09 23:59:56\n",
      "\tTime for AUDJPY:1.0s. Total time:31.0s\n",
      "30. CHFJPY\n",
      "\ts 0 of 21. From 2016.01.04 01:00:00 to 2016.01.11 00:19:59\n",
      "\tNot in the set. Skipped.\n",
      "\ts 1 of 21. From 2016.01.11 01:00:00 to 2016.03.18 22:59:59\n",
      "\tNot in the set. Skipped.\n",
      "\ts 2 of 21. From 2016.03.21 01:00:00 to 2016.10.13 15:41:59\n",
      "\tNot in the set. Skipped.\n",
      "\ts 3 of 21. From 2016.10.13 17:52:00 to 2016.10.18 00:01:34\n",
      "\tNot in the set. Skipped.\n",
      "\ts 4 of 21. From 2016.10.18 02:28:18 to 2016.12.23 23:59:59\n",
      "\tNot in the set. Skipped.\n",
      "\ts 5 of 21. From 2016.12.26 06:00:00 to 2016.12.29 23:59:59\n",
      "\tNot in the set. Skipped.\n",
      "\ts 6 of 21. From 2017.01.02 09:00:00 to 2017.11.24 23:58:59\n",
      "\tNot in the set. Skipped.\n",
      "\ts 7 of 21. From 2017.11.27 00:05:00 to 2017.12.08 23:58:56\n",
      "\tNot in the set. Skipped.\n",
      "\ts 8 of 21. From 2017.12.11 00:05:00 to 2017.12.12 04:13:07\n",
      "\tNot in the set. Skipped.\n",
      "\ts 9 of 21. From 2017.12.12 10:13:40 to 2017.12.22 23:58:58\n",
      "\tNot in the set. Skipped.\n",
      "\ts 10 of 21. From 2017.12.26 03:00:00 to 2017.12.29 23:58:58\n",
      "\tNot in the set. Skipped.\n",
      "\ts 11 of 21. From 2018.01.02 03:00:00 to 2018.01.10 21:09:34\n",
      "\tNot in the set. Skipped.\n",
      "\ts 12 of 21. From 2018.01.15 11:16:28 to 2018.01.25 08:17:38\n",
      "\tNot in the set. Skipped.\n",
      "\ts 13 of 21. From 2018.01.25 09:10:26 to 2018.03.08 23:58:59\n",
      "\tNot in the set. Skipped.\n",
      "\ts 14 of 21. From 2018.03.09 00:05:00 to 2018.03.20 05:04:48\n",
      "\ts 15 of 21. From 2018.03.20 05:44:30 to 2018.04.12 09:26:16\n",
      "\ts 16 of 21. From 2018.04.12 09:59:08 to 2018.05.08 03:27:53\n",
      "\ts 17 of 21. From 2018.05.08 04:24:15 to 2018.07.13 23:59:56\n",
      "\ts 18 of 21. From 2018.07.30 00:05:00 to 2018.08.10 23:58:59\n",
      "\ts 19 of 21. From 2018.08.13 07:37:02 to 2018.08.23 12:52:32\n",
      "\ts 20 of 21. From 2018.08.23 13:14:34 to 2018.08.24 23:58:59\n",
      "\ts 21 of 21. From 2018.08.27 19:03:31 to 2018.11.09 23:59:56\n",
      "\tTime for CHFJPY:1.0s. Total time:33.0s\n",
      "31. GBPJPY\n",
      "\ts 0 of 23. From 2016.01.04 00:00:30 to 2016.01.11 00:17:59\n",
      "\tNot in the set. Skipped.\n",
      "\ts 1 of 23. From 2016.01.11 01:00:00 to 2016.10.13 15:41:59\n",
      "\tNot in the set. Skipped.\n",
      "\ts 2 of 23. From 2016.10.13 17:52:00 to 2016.12.23 23:59:59\n",
      "\tNot in the set. Skipped.\n",
      "\ts 3 of 23. From 2016.12.26 06:00:00 to 2017.08.14 00:41:30\n",
      "\tNot in the set. Skipped.\n",
      "\ts 4 of 23.. Not enough entries. Skipped\n",
      "\ts 5 of 23. From 2017.08.14 15:07:00 to 2017.09.18 23:59:59\n",
      "\tNot in the set. Skipped.\n",
      "\ts 6 of 23. From 2017.09.19 23:46:08 to 2017.11.10 09:38:15\n",
      "\tNot in the set. Skipped.\n",
      "\ts 7 of 23. From 2017.11.10 10:05:53 to 2017.11.24 23:58:59\n",
      "\tNot in the set. Skipped.\n",
      "\ts 8 of 23. From 2017.11.27 00:05:00 to 2017.12.08 23:58:59\n",
      "\tNot in the set. Skipped.\n",
      "\ts 9 of 23. From 2017.12.11 00:05:00 to 2017.12.12 04:13:09\n",
      "\tNot in the set. Skipped.\n",
      "\ts 10 of 23. From 2017.12.12 10:13:39 to 2017.12.22 23:58:59\n",
      "\tNot in the set. Skipped.\n",
      "\ts 11 of 23. From 2017.12.26 03:00:01 to 2017.12.29 23:58:59\n",
      "\tNot in the set. Skipped.\n",
      "\ts 12 of 23. From 2018.01.02 03:00:00 to 2018.01.10 21:28:58\n",
      "\tNot in the set. Skipped.\n",
      "\ts 13 of 23. From 2018.01.11 14:39:32 to 2018.01.25 08:17:38\n",
      "\tNot in the set. Skipped.\n",
      "\ts 14 of 23. From 2018.01.25 08:49:51 to 2018.03.08 23:58:59\n",
      "\tNot in the set. Skipped.\n",
      "\ts 15 of 23. From 2018.03.09 00:05:00 to 2018.03.20 05:04:48\n",
      "\ts 16 of 23. From 2018.03.20 05:44:29 to 2018.04.12 09:26:16\n",
      "\ts 17 of 23. From 2018.04.12 09:59:09 to 2018.05.08 03:27:56\n",
      "\ts 18 of 23. From 2018.05.08 04:24:15 to 2018.07.13 23:59:56\n",
      "\ts 19 of 23. From 2018.07.30 00:05:00 to 2018.08.10 23:58:59\n",
      "\ts 20 of 23. From 2018.08.13 07:37:02 to 2018.08.23 12:52:32\n",
      "\ts 21 of 23. From 2018.08.23 13:14:34 to 2018.08.24 23:58:59\n",
      "\ts 22 of 23. From 2018.08.27 19:03:31 to 2018.09.06 04:36:04\n",
      "\ts 23 of 23. From 2018.09.07 00:05:02 to 2018.11.09 23:59:06\n",
      "\tTime for GBPJPY:2.0s. Total time:35.0s\n",
      "32. NZDUSD\n",
      "\ts 0 of 22. From 2016.01.04 00:00:30 to 2016.10.13 00:01:05\n",
      "\tNot in the set. Skipped.\n",
      "\ts 1 of 22. From 2016.10.13 01:47:11 to 2016.10.13 15:41:59\n",
      "\tNot in the set. Skipped.\n",
      "\ts 2 of 22. From 2016.10.13 17:52:00 to 2016.12.23 23:59:59\n",
      "\tNot in the set. Skipped.\n",
      "\ts 3 of 22. From 2016.12.26 06:00:00 to 2017.09.11 23:01:59\n",
      "\tNot in the set. Skipped.\n",
      "\ts 4 of 22. From 2017.09.11 23:47:00 to 2017.09.28 13:45:59\n",
      "\tNot in the set. Skipped.\n",
      "\ts 5 of 22. From 2017.09.28 14:10:00 to 2017.11.16 23:59:59\n",
      "\tNot in the set. Skipped.\n",
      "\ts 6 of 22. From 2017.11.20 00:05:01 to 2017.11.24 23:58:59\n",
      "\tNot in the set. Skipped.\n",
      "\ts 7 of 22. From 2017.11.27 00:05:00 to 2017.12.08 23:58:57\n",
      "\tNot in the set. Skipped.\n",
      "\ts 8 of 22. From 2017.12.11 00:05:00 to 2017.12.12 04:13:10\n",
      "\tNot in the set. Skipped.\n",
      "\ts 9 of 22. From 2017.12.12 10:13:36 to 2017.12.22 23:58:59\n",
      "\tNot in the set. Skipped.\n",
      "\ts 10 of 22. From 2017.12.26 03:00:01 to 2017.12.29 23:58:59\n",
      "\tNot in the set. Skipped.\n",
      "\ts 11 of 22. From 2018.01.02 03:00:00 to 2018.01.10 21:10:40\n",
      "\tNot in the set. Skipped.\n",
      "\ts 12 of 22. From 2018.01.11 14:39:33 to 2018.01.23 08:12:03\n",
      "\tNot in the set. Skipped.\n",
      "\ts 13 of 22. From 2018.01.24 00:05:18 to 2018.01.25 08:17:37\n",
      "\tNot in the set. Skipped.\n",
      "\ts 14 of 22. From 2018.01.25 09:10:33 to 2018.03.08 23:58:59\n",
      "\tNot in the set. Skipped.\n",
      "\ts 15 of 22. From 2018.03.09 00:05:00 to 2018.03.20 05:04:46\n",
      "\ts 16 of 22. From 2018.03.20 05:44:40 to 2018.04.12 09:26:11\n",
      "\ts 17 of 22. From 2018.04.12 09:59:08 to 2018.05.08 03:27:56\n",
      "\ts 18 of 22. From 2018.05.08 04:24:16 to 2018.07.13 23:59:00\n",
      "\ts 19 of 22. From 2018.07.30 00:05:00 to 2018.08.10 23:58:59\n",
      "\ts 20 of 22. From 2018.08.13 07:37:02 to 2018.08.23 12:52:28\n",
      "\ts 21 of 22. From 2018.08.23 13:14:34 to 2018.08.24 23:58:59\n",
      "\ts 22 of 22. From 2018.08.27 19:03:32 to 2018.11.09 23:59:02\n",
      "\tTime for NZDUSD:1.0s. Total time:37.0s\n",
      "Building DTA...\n",
      "AUDCAD\n",
      "2018.03.09 03:46:44\n",
      "2018.11.09 21:41:30\n",
      "EURAUD\n",
      "2018.03.09 02:05:08\n",
      "2018.11.09 21:49:58\n",
      "EURCAD\n",
      "2018.03.09 02:27:59\n",
      "2018.11.09 21:34:58\n",
      "EURCHF\n",
      "2018.03.09 04:09:04\n",
      "2018.11.09 19:56:57\n",
      "EURGBP\n",
      "2018.03.09 03:04:22\n",
      "2018.11.09 21:06:46\n",
      "EURNZD\n",
      "2018.03.09 02:47:54\n",
      "2018.11.09 20:29:16\n",
      "EURUSD\n",
      "2018.03.09 03:34:31\n",
      "2018.11.09 20:27:08\n",
      "GBPAUD\n",
      "2018.03.09 02:24:59\n",
      "2018.11.09 21:45:29\n",
      "GBPCAD\n",
      "2018.03.09 03:35:07\n",
      "2018.11.09 21:52:31\n",
      "GBPCHF\n",
      "2018.03.09 03:01:09\n",
      "2018.11.09 21:26:02\n",
      "GBPUSD\n",
      "2018.03.09 03:04:50\n",
      "2018.11.09 21:27:50\n",
      "GOLD\n",
      "2018.03.09 04:16:10\n",
      "2018.05.31 21:30:59\n",
      "USDCAD\n",
      "2018.03.09 04:03:12\n",
      "2018.11.09 20:55:45\n",
      "USDCHF\n",
      "2018.03.09 04:00:02\n",
      "2018.11.09 19:27:08\n",
      "USDJPY\n",
      "2018.03.09 02:17:26\n",
      "2018.11.09 20:28:50\n",
      "CADJPY\n",
      "2018.03.09 02:08:37\n",
      "2018.11.09 21:21:12\n",
      "EURJPY\n",
      "2018.03.09 01:57:57\n",
      "2018.11.09 21:46:57\n",
      "AUDJPY\n",
      "2018.03.09 02:03:43\n",
      "2018.11.09 21:21:12\n",
      "CHFJPY\n",
      "2018.03.09 02:48:17\n",
      "2018.11.09 21:09:49\n",
      "GBPJPY\n",
      "2018.03.09 01:14:47\n",
      "2018.11.09 21:37:25\n",
      "NZDUSD\n",
      "2018.03.09 03:57:18\n",
      "2018.11.09 19:28:10\n",
      "Samples to RNN: 686880.\n",
      "Percent per level:[0.04261152 0.2075166  0.5005343  0.20773206 0.04160552]\n",
      "IDresults: 100350NROI\n",
      "INFO:tensorflow:Restoring parameters from ../../RNN/weights/000350/000013/000013\n",
      "Parameters loaded. Epoch 13\n",
      "Epoch 13 of 13. Getting output...\n"
     ]
    },
    {
     "name": "stderr",
     "output_type": "stream",
     "text": [
      "100%|██████████████████████████████████████████████████████████████████████████████████| 14/14 [00:56<00:00,  4.13s/it]\n"
     ]
    },
    {
     "name": "stdout",
     "output_type": "stream",
     "text": [
      "Getting results\n",
      "Epoch 13, J_train = 6.560549366499607, J_test = 6.392173324312482\n"
     ]
    },
    {
     "name": "stderr",
     "output_type": "stream",
     "text": [
      "0it [00:00, ?it/s]\n"
     ]
    },
    {
     "name": "stdout",
     "output_type": "stream",
     "text": [
      "count_dif_dir\n",
      "0\n",
      "percent_dif_dir\n",
      "0.0\n"
     ]
    },
    {
     "name": "stderr",
     "output_type": "stream",
     "text": [
      "C:\\ProgramData\\Anaconda3\\envs\\py35\\lib\\site-packages\\numpy\\core\\fromnumeric.py:3194: RuntimeWarning: Degrees of freedom <= 0 for slice\n",
      "  **kwargs)\n",
      "C:\\ProgramData\\Anaconda3\\envs\\py35\\lib\\site-packages\\numpy\\core\\_methods.py:105: RuntimeWarning: invalid value encountered in true_divide\n",
      "  arrmean, rcount, out=arrmean, casting='unsafe', subok=False)\n",
      "C:\\ProgramData\\Anaconda3\\envs\\py35\\lib\\site-packages\\numpy\\core\\_methods.py:127: RuntimeWarning: invalid value encountered in double_scalars\n",
      "  ret = ret.dtype.type(ret / rcount)\n"
     ]
    },
    {
     "name": "stdout",
     "output_type": "stream",
     "text": [
      "Epoch = 13. Time index = 0. Threshold MC = 0.5. Threshold MD = 0.5\n",
      "J_test = 6.392173324312482, J_train = 6.560549366499607, Accuracy=0.5600541579315164\n",
      "RD = 149027 NZ = 288389 NZA = 535895 pNZ = 41.985% pNZA = 78.019% AD = 51.68% ADA = 27.81% NO = 1 GSP = 0.00% NSP = 0.00%\n",
      "SI2 = -0.55 SI = -0.55 eGROI = 0.00% eROI = 0.00% eROI2 = 0.00% eROI3 = 0.00% mSpread = 0.0000%\n"
     ]
    },
    {
     "name": "stderr",
     "output_type": "stream",
     "text": [
      "100%|██████████████████████████████████████████████████████████████████████████| 43393/43393 [00:11<00:00, 3717.11it/s]\n"
     ]
    },
    {
     "name": "stdout",
     "output_type": "stream",
     "text": [
      "count_dif_dir\n",
      "358\n",
      "percent_dif_dir\n",
      "2.769397385317552\n",
      "Epoch = 13. Time index = 0. Threshold MC = 0.5. Threshold MD = 0.55\n",
      "RD = 13500 NZ = 24039 NZA = 43394 pNZ = 3.500% pNZA = 6.318% AD = 56.16% ADA = 31.11% NO = 12927 GSP = 56.47% NSP = 46.04%\n",
      "SI2 = -949.85 SI = -1158.85 eGROI = 74.88% eROI = -212.62% eROI2 = -183.66% eROI3 = -312.93% mSpread = 0.0222%\n"
     ]
    },
    {
     "name": "stderr",
     "output_type": "stream",
     "text": [
      "100%|████████████████████████████████████████████████████████████████████████████| 3469/3469 [00:01<00:00, 2950.03it/s]\n"
     ]
    },
    {
     "name": "stdout",
     "output_type": "stream",
     "text": [
      "count_dif_dir\n",
      "243\n",
      "percent_dif_dir\n",
      "11.560418648905804\n",
      "Epoch = 13. Time index = 0. Threshold MC = 0.5. Threshold MD = 0.6\n",
      "RD = 1199 NZ = 1921 NZA = 3470 pNZ = 0.280% pNZA = 0.505% AD = 62.42% ADA = 34.55% NO = 2102 GSP = 52.81% NSP = 40.29%\n",
      "SI2 = -260.10 SI = -309.10 eGROI = 6.12% eROI = -46.04% eROI2 = -35.92% eROI3 = -56.94% mSpread = 0.0248%\n"
     ]
    },
    {
     "name": "stderr",
     "output_type": "stream",
     "text": [
      "100%|██████████████████████████████████████████████████████████████████████████████| 557/557 [00:00<00:00, 2597.49it/s]\n"
     ]
    },
    {
     "name": "stdout",
     "output_type": "stream",
     "text": [
      "count_dif_dir\n",
      "112\n",
      "percent_dif_dir\n",
      "22.355289421157686\n",
      "Epoch = 13. Time index = 0. Threshold MC = 0.5. Threshold MD = 0.65\n",
      "RD = 228 NZ = 310 NZA = 558 pNZ = 0.045% pNZA = 0.081% AD = 73.55% ADA = 40.86% NO = 501 GSP = 50.50% NSP = 35.33%\n",
      "SI2 = -86.55 SI = -98.55 eGROI = -0.81% eROI = -14.60% eROI2 = -10.83% eROI3 = -15.84% mSpread = 0.0275%\n"
     ]
    },
    {
     "name": "stderr",
     "output_type": "stream",
     "text": [
      "100%|████████████████████████████████████████████████████████████████████████████████| 76/76 [00:00<00:00, 1858.56it/s]\n"
     ]
    },
    {
     "name": "stdout",
     "output_type": "stream",
     "text": [
      "count_dif_dir\n",
      "26\n",
      "percent_dif_dir\n",
      "34.21052631578947\n",
      "Epoch = 13. Time index = 0. Threshold MC = 0.5. Threshold MD = 0.7\n",
      "RD = 49 NZ = 54 NZA = 77 pNZ = 0.008% pNZA = 0.011% AD = 90.74% ADA = 63.64% NO = 76 GSP = 53.95% NSP = 42.11%\n",
      "SI2 = -7.80 SI = -9.80 eGROI = 1.37% eROI = -0.84% eROI2 = -0.15% eROI3 = -0.91% mSpread = 0.0290%\n"
     ]
    },
    {
     "name": "stderr",
     "output_type": "stream",
     "text": [
      "0it [00:00, ?it/s]\n"
     ]
    },
    {
     "name": "stdout",
     "output_type": "stream",
     "text": [
      "count_dif_dir\n",
      "1\n",
      "percent_dif_dir\n",
      "100.0\n",
      "Epoch = 13. Time index = 0. Threshold MC = 0.5. Threshold MD = 0.75\n",
      "RD = 0 NZ = 0 NZA = 1 pNZ = 0.000% pNZA = 0.000% AD = 0.00% ADA = 0.00% NO = 1 GSP = 0.00% NSP = 0.00%\n",
      "SI2 = -0.55 SI = -0.55 eGROI = -0.09% eROI = -0.11% eROI2 = -0.11% eROI3 = -0.12% mSpread = 0.0245%\n"
     ]
    },
    {
     "name": "stderr",
     "output_type": "stream",
     "text": [
      "0it [00:00, ?it/s]\n"
     ]
    },
    {
     "name": "stdout",
     "output_type": "stream",
     "text": [
      "count_dif_dir\n",
      "0\n",
      "percent_dif_dir\n",
      "0.0\n",
      "Epoch = 13. Time index = 0. Threshold MC = 0.5. Threshold MD = 0.8\n",
      "RD = 0 NZ = 0 NZA = 0 pNZ = 0.000% pNZA = 0.000% AD = 0.00% ADA = 0.00% NO = 1 GSP = 0.00% NSP = 0.00%\n",
      "SI2 = -0.55 SI = -0.55 eGROI = 0.00% eROI = 0.00% eROI2 = 0.00% eROI3 = 0.00% mSpread = 0.0000%\n"
     ]
    },
    {
     "name": "stderr",
     "output_type": "stream",
     "text": [
      "0it [00:00, ?it/s]\n"
     ]
    },
    {
     "name": "stdout",
     "output_type": "stream",
     "text": [
      "count_dif_dir\n",
      "0\n",
      "percent_dif_dir\n",
      "0.0\n",
      "Epoch = 13. Time index = 0. Threshold MC = 0.5. Threshold MD = 0.85\n",
      "RD = 0 NZ = 0 NZA = 0 pNZ = 0.000% pNZA = 0.000% AD = 0.00% ADA = 0.00% NO = 1 GSP = 0.00% NSP = 0.00%\n",
      "SI2 = -0.55 SI = -0.55 eGROI = 0.00% eROI = 0.00% eROI2 = 0.00% eROI3 = 0.00% mSpread = 0.0000%\n"
     ]
    },
    {
     "name": "stderr",
     "output_type": "stream",
     "text": [
      "0it [00:00, ?it/s]\n"
     ]
    },
    {
     "name": "stdout",
     "output_type": "stream",
     "text": [
      "count_dif_dir\n",
      "0\n",
      "percent_dif_dir\n",
      "0.0\n",
      "Epoch = 13. Time index = 0. Threshold MC = 0.5. Threshold MD = 0.9\n",
      "RD = 0 NZ = 0 NZA = 0 pNZ = 0.000% pNZA = 0.000% AD = 0.00% ADA = 0.00% NO = 1 GSP = 0.00% NSP = 0.00%\n",
      "SI2 = -0.55 SI = -0.55 eGROI = 0.00% eROI = 0.00% eROI2 = 0.00% eROI3 = 0.00% mSpread = 0.0000%\n"
     ]
    },
    {
     "name": "stderr",
     "output_type": "stream",
     "text": [
      "0it [00:00, ?it/s]\n"
     ]
    },
    {
     "name": "stdout",
     "output_type": "stream",
     "text": [
      "count_dif_dir\n",
      "0\n",
      "percent_dif_dir\n",
      "0.0\n",
      "Epoch = 13. Time index = 0. Threshold MC = 0.5. Threshold MD = 0.95\n",
      "RD = 0 NZ = 0 NZA = 0 pNZ = 0.000% pNZA = 0.000% AD = 0.00% ADA = 0.00% NO = 1 GSP = 0.00% NSP = 0.00%\n",
      "SI2 = -0.55 SI = -0.55 eGROI = 0.00% eROI = 0.00% eROI2 = 0.00% eROI3 = 0.00% mSpread = 0.0000%\n",
      "\n"
     ]
    },
    {
     "name": "stderr",
     "output_type": "stream",
     "text": [
      "0it [00:00, ?it/s]\n"
     ]
    },
    {
     "name": "stdout",
     "output_type": "stream",
     "text": [
      "count_dif_dir\n",
      "0\n",
      "percent_dif_dir\n",
      "0.0\n",
      "Epoch = 13. Time index = 0. Threshold MC = 0.55. Threshold MD = 0.5\n",
      "RD = 103049 NZ = 198399 NZA = 345917 pNZ = 28.884% pNZA = 50.361% AD = 51.94% ADA = 29.79% NO = 1 GSP = 0.00% NSP = 0.00%\n",
      "SI2 = -0.55 SI = -0.55 eGROI = 0.00% eROI = 0.00% eROI2 = 0.00% eROI3 = 0.00% mSpread = 0.0000%\n"
     ]
    },
    {
     "name": "stderr",
     "output_type": "stream",
     "text": [
      "100%|██████████████████████████████████████████████████████████████████████████| 31618/31618 [00:08<00:00, 3801.96it/s]\n"
     ]
    },
    {
     "name": "stdout",
     "output_type": "stream",
     "text": [
      "count_dif_dir\n",
      "322\n",
      "percent_dif_dir\n",
      "3.1624435277941467\n",
      "Epoch = 13. Time index = 0. Threshold MC = 0.55. Threshold MD = 0.55\n",
      "RD = 10509 NZ = 18675 NZA = 31619 pNZ = 2.719% pNZA = 4.603% AD = 56.27% ADA = 33.24% NO = 10182 GSP = 56.20% NSP = 46.67%\n",
      "SI2 = -706.10 SI = -848.10 eGROI = 62.68% eROI = -160.57% eROI2 = -140.96% eROI3 = -242.78% mSpread = 0.0219%\n"
     ]
    },
    {
     "name": "stderr",
     "output_type": "stream",
     "text": [
      "100%|████████████████████████████████████████████████████████████████████████████| 2361/2361 [00:00<00:00, 3023.22it/s]\n"
     ]
    },
    {
     "name": "stdout",
     "output_type": "stream",
     "text": [
      "count_dif_dir\n",
      "166\n",
      "percent_dif_dir\n",
      "11.185983827493262\n",
      "Epoch = 13. Time index = 0. Threshold MC = 0.55. Threshold MD = 0.6\n",
      "RD = 904 NZ = 1429 NZA = 2362 pNZ = 0.208% pNZA = 0.344% AD = 63.26% ADA = 38.27% NO = 1484 GSP = 54.31% NSP = 42.25%\n",
      "SI2 = -153.20 SI = -189.20 eGROI = 8.74% eROI = -27.95% eROI2 = -20.94% eROI3 = -35.78% mSpread = 0.0247%\n"
     ]
    },
    {
     "name": "stderr",
     "output_type": "stream",
     "text": [
      "100%|██████████████████████████████████████████████████████████████████████████████| 402/402 [00:00<00:00, 2428.01it/s]\n"
     ]
    },
    {
     "name": "stdout",
     "output_type": "stream",
     "text": [
      "count_dif_dir\n",
      "82\n",
      "percent_dif_dir\n",
      "22.16216216216216\n",
      "Epoch = 13. Time index = 0. Threshold MC = 0.55. Threshold MD = 0.65\n",
      "RD = 179 NZ = 240 NZA = 403 pNZ = 0.035% pNZA = 0.059% AD = 74.58% ADA = 44.42% NO = 370 GSP = 50.81% NSP = 36.76%\n",
      "SI2 = -56.50 SI = -67.50 eGROI = 0.58% eROI = -9.86% eROI2 = -6.82% eROI3 = -10.52% mSpread = 0.0282%\n"
     ]
    },
    {
     "name": "stderr",
     "output_type": "stream",
     "text": [
      "100%|████████████████████████████████████████████████████████████████████████████████| 62/62 [00:00<00:00, 1445.62it/s]\n"
     ]
    },
    {
     "name": "stdout",
     "output_type": "stream",
     "text": [
      "count_dif_dir\n",
      "22\n",
      "percent_dif_dir\n",
      "35.483870967741936\n",
      "Epoch = 13. Time index = 0. Threshold MC = 0.55. Threshold MD = 0.7\n",
      "RD = 43 NZ = 47 NZA = 63 pNZ = 0.007% pNZA = 0.009% AD = 91.49% ADA = 68.25% NO = 62 GSP = 53.23% NSP = 41.94%\n",
      "SI2 = -6.10 SI = -8.10 eGROI = 1.10% eROI = -0.76% eROI2 = -0.14% eROI3 = -0.76% mSpread = 0.0300%\n"
     ]
    },
    {
     "name": "stderr",
     "output_type": "stream",
     "text": [
      "0it [00:00, ?it/s]\n"
     ]
    },
    {
     "name": "stdout",
     "output_type": "stream",
     "text": [
      "count_dif_dir\n",
      "1\n",
      "percent_dif_dir\n",
      "100.0\n",
      "Epoch = 13. Time index = 0. Threshold MC = 0.55. Threshold MD = 0.75\n",
      "RD = 0 NZ = 0 NZA = 1 pNZ = 0.000% pNZA = 0.000% AD = 0.00% ADA = 0.00% NO = 1 GSP = 0.00% NSP = 0.00%\n",
      "SI2 = -0.55 SI = -0.55 eGROI = -0.09% eROI = -0.11% eROI2 = -0.11% eROI3 = -0.12% mSpread = 0.0245%\n"
     ]
    },
    {
     "name": "stderr",
     "output_type": "stream",
     "text": [
      "0it [00:00, ?it/s]\n"
     ]
    },
    {
     "name": "stdout",
     "output_type": "stream",
     "text": [
      "count_dif_dir\n",
      "0\n",
      "percent_dif_dir\n",
      "0.0\n",
      "Epoch = 13. Time index = 0. Threshold MC = 0.55. Threshold MD = 0.8\n",
      "RD = 0 NZ = 0 NZA = 0 pNZ = 0.000% pNZA = 0.000% AD = 0.00% ADA = 0.00% NO = 1 GSP = 0.00% NSP = 0.00%\n",
      "SI2 = -0.55 SI = -0.55 eGROI = 0.00% eROI = 0.00% eROI2 = 0.00% eROI3 = 0.00% mSpread = 0.0000%\n"
     ]
    },
    {
     "name": "stderr",
     "output_type": "stream",
     "text": [
      "0it [00:00, ?it/s]\n"
     ]
    },
    {
     "name": "stdout",
     "output_type": "stream",
     "text": [
      "count_dif_dir\n",
      "0\n",
      "percent_dif_dir\n",
      "0.0\n",
      "Epoch = 13. Time index = 0. Threshold MC = 0.55. Threshold MD = 0.85\n",
      "RD = 0 NZ = 0 NZA = 0 pNZ = 0.000% pNZA = 0.000% AD = 0.00% ADA = 0.00% NO = 1 GSP = 0.00% NSP = 0.00%\n",
      "SI2 = -0.55 SI = -0.55 eGROI = 0.00% eROI = 0.00% eROI2 = 0.00% eROI3 = 0.00% mSpread = 0.0000%\n"
     ]
    },
    {
     "name": "stderr",
     "output_type": "stream",
     "text": [
      "0it [00:00, ?it/s]\n"
     ]
    },
    {
     "name": "stdout",
     "output_type": "stream",
     "text": [
      "count_dif_dir\n",
      "0\n",
      "percent_dif_dir\n",
      "0.0\n",
      "Epoch = 13. Time index = 0. Threshold MC = 0.55. Threshold MD = 0.9\n",
      "RD = 0 NZ = 0 NZA = 0 pNZ = 0.000% pNZA = 0.000% AD = 0.00% ADA = 0.00% NO = 1 GSP = 0.00% NSP = 0.00%\n",
      "SI2 = -0.55 SI = -0.55 eGROI = 0.00% eROI = 0.00% eROI2 = 0.00% eROI3 = 0.00% mSpread = 0.0000%\n"
     ]
    },
    {
     "name": "stderr",
     "output_type": "stream",
     "text": [
      "0it [00:00, ?it/s]\n"
     ]
    },
    {
     "name": "stdout",
     "output_type": "stream",
     "text": [
      "count_dif_dir\n",
      "0\n",
      "percent_dif_dir\n",
      "0.0\n",
      "Epoch = 13. Time index = 0. Threshold MC = 0.55. Threshold MD = 0.95\n",
      "RD = 0 NZ = 0 NZA = 0 pNZ = 0.000% pNZA = 0.000% AD = 0.00% ADA = 0.00% NO = 1 GSP = 0.00% NSP = 0.00%\n",
      "SI2 = -0.55 SI = -0.55 eGROI = 0.00% eROI = 0.00% eROI2 = 0.00% eROI3 = 0.00% mSpread = 0.0000%\n",
      "\n"
     ]
    },
    {
     "name": "stderr",
     "output_type": "stream",
     "text": [
      "0it [00:00, ?it/s]\n"
     ]
    },
    {
     "name": "stdout",
     "output_type": "stream",
     "text": [
      "count_dif_dir\n",
      "0\n",
      "percent_dif_dir\n",
      "0.0\n",
      "Epoch = 13. Time index = 0. Threshold MC = 0.6. Threshold MD = 0.5\n",
      "RD = 44053 NZ = 83464 NZA = 134017 pNZ = 12.151% pNZA = 19.511% AD = 52.78% ADA = 32.87% NO = 1 GSP = 0.00% NSP = 0.00%\n",
      "SI2 = -0.55 SI = -0.55 eGROI = 0.00% eROI = 0.00% eROI2 = 0.00% eROI3 = 0.00% mSpread = 0.0000%\n"
     ]
    },
    {
     "name": "stderr",
     "output_type": "stream",
     "text": [
      "100%|██████████████████████████████████████████████████████████████████████████| 17764/17764 [00:04<00:00, 3625.18it/s]\n"
     ]
    },
    {
     "name": "stdout",
     "output_type": "stream",
     "text": [
      "count_dif_dir\n",
      "171\n",
      "percent_dif_dir\n",
      "2.7549540840985984\n",
      "Epoch = 13. Time index = 0. Threshold MC = 0.6. Threshold MD = 0.55\n",
      "RD = 6454 NZ = 11187 NZA = 17765 pNZ = 1.629% pNZA = 2.586% AD = 57.69% ADA = 36.33% NO = 6207 GSP = 56.34% NSP = 48.20%\n",
      "SI2 = -351.85 SI = -421.85 eGROI = 65.90% eROI = -65.21% eROI2 = -58.24% eROI3 = -120.31% mSpread = 0.0211%\n"
     ]
    },
    {
     "name": "stderr",
     "output_type": "stream",
     "text": [
      "100%|████████████████████████████████████████████████████████████████████████████| 1338/1338 [00:00<00:00, 2531.16it/s]\n"
     ]
    },
    {
     "name": "stdout",
     "output_type": "stream",
     "text": [
      "count_dif_dir\n",
      "92\n",
      "percent_dif_dir\n",
      "10.7981220657277\n",
      "Epoch = 13. Time index = 0. Threshold MC = 0.6. Threshold MD = 0.6\n",
      "RD = 574 NZ = 880 NZA = 1339 pNZ = 0.128% pNZA = 0.195% AD = 65.23% ADA = 42.87% NO = 852 GSP = 57.28% NSP = 46.83%\n",
      "SI2 = -57.60 SI = -69.60 eGROI = 11.95% eROI = -8.40% eROI2 = -5.09% eROI3 = -13.61% mSpread = 0.0239%\n"
     ]
    },
    {
     "name": "stderr",
     "output_type": "stream",
     "text": [
      "100%|██████████████████████████████████████████████████████████████████████████████| 217/217 [00:00<00:00, 1543.04it/s]\n"
     ]
    },
    {
     "name": "stdout",
     "output_type": "stream",
     "text": [
      "count_dif_dir\n",
      "47\n",
      "percent_dif_dir\n",
      "23.26732673267327\n",
      "Epoch = 13. Time index = 0. Threshold MC = 0.6. Threshold MD = 0.65\n",
      "RD = 112 NZ = 139 NZA = 218 pNZ = 0.020% pNZA = 0.032% AD = 80.58% ADA = 51.38% NO = 202 GSP = 53.96% NSP = 40.59%\n",
      "SI2 = -24.10 SI = -29.10 eGROI = 2.30% eROI = -3.27% eROI2 = -1.74% eROI3 = -3.76% mSpread = 0.0276%\n"
     ]
    },
    {
     "name": "stderr",
     "output_type": "stream",
     "text": [
      "100%|████████████████████████████████████████████████████████████████████████████████| 42/42 [00:00<00:00, 1559.66it/s]\n"
     ]
    },
    {
     "name": "stdout",
     "output_type": "stream",
     "text": [
      "count_dif_dir\n",
      "19\n",
      "percent_dif_dir\n",
      "44.18604651162791\n",
      "Epoch = 13. Time index = 0. Threshold MC = 0.6. Threshold MD = 0.7\n",
      "RD = 28 NZ = 31 NZA = 43 pNZ = 0.005% pNZA = 0.006% AD = 90.32% ADA = 65.12% NO = 43 GSP = 44.19% NSP = 34.88%\n",
      "SI2 = -7.65 SI = -8.65 eGROI = 0.20% eROI = -1.13% eROI2 = -0.66% eROI3 = -1.09% mSpread = 0.0311%\n"
     ]
    },
    {
     "name": "stderr",
     "output_type": "stream",
     "text": [
      "0it [00:00, ?it/s]\n"
     ]
    },
    {
     "name": "stdout",
     "output_type": "stream",
     "text": [
      "count_dif_dir\n",
      "1\n",
      "percent_dif_dir\n",
      "100.0\n",
      "Epoch = 13. Time index = 0. Threshold MC = 0.6. Threshold MD = 0.75\n",
      "RD = 0 NZ = 0 NZA = 1 pNZ = 0.000% pNZA = 0.000% AD = 0.00% ADA = 0.00% NO = 1 GSP = 0.00% NSP = 0.00%\n",
      "SI2 = -0.55 SI = -0.55 eGROI = -0.09% eROI = -0.11% eROI2 = -0.11% eROI3 = -0.12% mSpread = 0.0245%\n"
     ]
    },
    {
     "name": "stderr",
     "output_type": "stream",
     "text": [
      "0it [00:00, ?it/s]\n"
     ]
    },
    {
     "name": "stdout",
     "output_type": "stream",
     "text": [
      "count_dif_dir\n",
      "0\n",
      "percent_dif_dir\n",
      "0.0\n",
      "Epoch = 13. Time index = 0. Threshold MC = 0.6. Threshold MD = 0.8\n",
      "RD = 0 NZ = 0 NZA = 0 pNZ = 0.000% pNZA = 0.000% AD = 0.00% ADA = 0.00% NO = 1 GSP = 0.00% NSP = 0.00%\n",
      "SI2 = -0.55 SI = -0.55 eGROI = 0.00% eROI = 0.00% eROI2 = 0.00% eROI3 = 0.00% mSpread = 0.0000%\n"
     ]
    },
    {
     "name": "stderr",
     "output_type": "stream",
     "text": [
      "0it [00:00, ?it/s]\n"
     ]
    },
    {
     "name": "stdout",
     "output_type": "stream",
     "text": [
      "count_dif_dir\n",
      "0\n",
      "percent_dif_dir\n",
      "0.0\n",
      "Epoch = 13. Time index = 0. Threshold MC = 0.6. Threshold MD = 0.85\n",
      "RD = 0 NZ = 0 NZA = 0 pNZ = 0.000% pNZA = 0.000% AD = 0.00% ADA = 0.00% NO = 1 GSP = 0.00% NSP = 0.00%\n",
      "SI2 = -0.55 SI = -0.55 eGROI = 0.00% eROI = 0.00% eROI2 = 0.00% eROI3 = 0.00% mSpread = 0.0000%\n"
     ]
    },
    {
     "name": "stderr",
     "output_type": "stream",
     "text": [
      "0it [00:00, ?it/s]\n"
     ]
    },
    {
     "name": "stdout",
     "output_type": "stream",
     "text": [
      "count_dif_dir\n",
      "0\n",
      "percent_dif_dir\n",
      "0.0\n",
      "Epoch = 13. Time index = 0. Threshold MC = 0.6. Threshold MD = 0.9\n",
      "RD = 0 NZ = 0 NZA = 0 pNZ = 0.000% pNZA = 0.000% AD = 0.00% ADA = 0.00% NO = 1 GSP = 0.00% NSP = 0.00%\n",
      "SI2 = -0.55 SI = -0.55 eGROI = 0.00% eROI = 0.00% eROI2 = 0.00% eROI3 = 0.00% mSpread = 0.0000%\n"
     ]
    },
    {
     "name": "stderr",
     "output_type": "stream",
     "text": [
      "0it [00:00, ?it/s]\n"
     ]
    },
    {
     "name": "stdout",
     "output_type": "stream",
     "text": [
      "count_dif_dir\n",
      "0\n",
      "percent_dif_dir\n",
      "0.0\n",
      "Epoch = 13. Time index = 0. Threshold MC = 0.6. Threshold MD = 0.95\n",
      "RD = 0 NZ = 0 NZA = 0 pNZ = 0.000% pNZA = 0.000% AD = 0.00% ADA = 0.00% NO = 1 GSP = 0.00% NSP = 0.00%\n",
      "SI2 = -0.55 SI = -0.55 eGROI = 0.00% eROI = 0.00% eROI2 = 0.00% eROI3 = 0.00% mSpread = 0.0000%\n",
      "\n"
     ]
    },
    {
     "name": "stderr",
     "output_type": "stream",
     "text": [
      "100%|██████████████████████████████████████████████████████████████████████████| 35022/35022 [00:08<00:00, 4179.14it/s]\n"
     ]
    },
    {
     "name": "stdout",
     "output_type": "stream",
     "text": [
      "count_dif_dir\n",
      "83\n",
      "percent_dif_dir\n",
      "1.8971428571428572\n",
      "Epoch = 13. Time index = 0. Threshold MC = 0.65. Threshold MD = 0.5\n",
      "RD = 12651 NZ = 23420 NZA = 35023 pNZ = 3.410% pNZA = 5.099% AD = 54.02% ADA = 36.12% NO = 4375 GSP = 52.41% NSP = 45.26%\n",
      "SI2 = -403.25 SI = -426.25 eGROI = 16.35% eROI = -72.77% eROI2 = -71.15% eROI3 = -114.90% mSpread = 0.0204%\n"
     ]
    },
    {
     "name": "stderr",
     "output_type": "stream",
     "text": [
      "100%|████████████████████████████████████████████████████████████████████████████| 7056/7056 [00:02<00:00, 3305.83it/s]\n"
     ]
    },
    {
     "name": "stdout",
     "output_type": "stream",
     "text": [
      "count_dif_dir\n",
      "76\n",
      "percent_dif_dir\n",
      "2.7446731672083784\n",
      "Epoch = 13. Time index = 0. Threshold MC = 0.65. Threshold MD = 0.55\n",
      "RD = 2797 NZ = 4681 NZA = 7057 pNZ = 0.681% pNZA = 1.027% AD = 59.75% ADA = 39.63% NO = 2769 GSP = 56.59% NSP = 49.44%\n",
      "SI2 = -144.95 SI = -153.95 eGROI = 37.92% eROI = -17.41% eROI2 = -17.46% eROI3 = -45.15% mSpread = 0.0200%\n"
     ]
    },
    {
     "name": "stderr",
     "output_type": "stream",
     "text": [
      "100%|██████████████████████████████████████████████████████████████████████████████| 667/667 [00:00<00:00, 2602.11it/s]\n"
     ]
    },
    {
     "name": "stdout",
     "output_type": "stream",
     "text": [
      "count_dif_dir\n",
      "42\n",
      "percent_dif_dir\n",
      "9.545454545454545\n",
      "Epoch = 13. Time index = 0. Threshold MC = 0.65. Threshold MD = 0.6\n",
      "RD = 306 NZ = 453 NZA = 668 pNZ = 0.066% pNZA = 0.097% AD = 67.55% ADA = 45.81% NO = 440 GSP = 57.27% NSP = 49.09%\n",
      "SI2 = -23.00 SI = -26.00 eGROI = 9.95% eROI = -0.33% eROI2 = 1.15% eROI3 = -3.25% mSpread = 0.0233%\n"
     ]
    },
    {
     "name": "stderr",
     "output_type": "stream",
     "text": [
      "100%|██████████████████████████████████████████████████████████████████████████████| 114/114 [00:00<00:00, 1178.34it/s]\n"
     ]
    },
    {
     "name": "stdout",
     "output_type": "stream",
     "text": [
      "count_dif_dir\n",
      "22\n",
      "percent_dif_dir\n",
      "20.560747663551403\n",
      "Epoch = 13. Time index = 0. Threshold MC = 0.65. Threshold MD = 0.65\n",
      "RD = 62 NZ = 75 NZA = 115 pNZ = 0.011% pNZA = 0.017% AD = 82.67% ADA = 53.91% NO = 107 GSP = 57.01% NSP = 42.06%\n",
      "SI2 = -9.85 SI = -13.85 eGROI = 1.96% eROI = -1.12% eROI2 = -0.18% eROI3 = -1.25% mSpread = 0.0288%\n"
     ]
    },
    {
     "name": "stderr",
     "output_type": "stream",
     "text": [
      "100%|████████████████████████████████████████████████████████████████████████████████| 17/17 [00:00<00:00, 1217.36it/s]\n"
     ]
    },
    {
     "name": "stdout",
     "output_type": "stream",
     "text": [
      "count_dif_dir\n",
      "7\n",
      "percent_dif_dir\n",
      "38.888888888888886\n",
      "Epoch = 13. Time index = 0. Threshold MC = 0.65. Threshold MD = 0.7\n",
      "RD = 14 NZ = 14 NZA = 18 pNZ = 0.002% pNZA = 0.003% AD = 100.00% ADA = 77.78% NO = 18 GSP = 55.56% NSP = 38.89%\n",
      "SI2 = -2.90 SI = -2.90 eGROI = 0.32% eROI = -0.33% eROI2 = -0.04% eROI3 = -0.22% mSpread = 0.0361%\n"
     ]
    },
    {
     "name": "stderr",
     "output_type": "stream",
     "text": [
      "0it [00:00, ?it/s]\n"
     ]
    },
    {
     "name": "stdout",
     "output_type": "stream",
     "text": [
      "count_dif_dir\n",
      "0\n",
      "percent_dif_dir\n",
      "0.0\n",
      "Epoch = 13. Time index = 0. Threshold MC = 0.65. Threshold MD = 0.75\n",
      "RD = 0 NZ = 0 NZA = 0 pNZ = 0.000% pNZA = 0.000% AD = 0.00% ADA = 0.00% NO = 1 GSP = 0.00% NSP = 0.00%\n",
      "SI2 = -0.55 SI = -0.55 eGROI = 0.00% eROI = 0.00% eROI2 = 0.00% eROI3 = 0.00% mSpread = 0.0000%\n"
     ]
    },
    {
     "name": "stderr",
     "output_type": "stream",
     "text": [
      "0it [00:00, ?it/s]\n"
     ]
    },
    {
     "name": "stdout",
     "output_type": "stream",
     "text": [
      "count_dif_dir\n",
      "0\n",
      "percent_dif_dir\n",
      "0.0\n",
      "Epoch = 13. Time index = 0. Threshold MC = 0.65. Threshold MD = 0.8\n",
      "RD = 0 NZ = 0 NZA = 0 pNZ = 0.000% pNZA = 0.000% AD = 0.00% ADA = 0.00% NO = 1 GSP = 0.00% NSP = 0.00%\n",
      "SI2 = -0.55 SI = -0.55 eGROI = 0.00% eROI = 0.00% eROI2 = 0.00% eROI3 = 0.00% mSpread = 0.0000%\n"
     ]
    },
    {
     "name": "stderr",
     "output_type": "stream",
     "text": [
      "0it [00:00, ?it/s]\n"
     ]
    },
    {
     "name": "stdout",
     "output_type": "stream",
     "text": [
      "count_dif_dir\n",
      "0\n",
      "percent_dif_dir\n",
      "0.0\n",
      "Epoch = 13. Time index = 0. Threshold MC = 0.65. Threshold MD = 0.85\n",
      "RD = 0 NZ = 0 NZA = 0 pNZ = 0.000% pNZA = 0.000% AD = 0.00% ADA = 0.00% NO = 1 GSP = 0.00% NSP = 0.00%\n",
      "SI2 = -0.55 SI = -0.55 eGROI = 0.00% eROI = 0.00% eROI2 = 0.00% eROI3 = 0.00% mSpread = 0.0000%\n"
     ]
    },
    {
     "name": "stderr",
     "output_type": "stream",
     "text": [
      "0it [00:00, ?it/s]\n"
     ]
    },
    {
     "name": "stdout",
     "output_type": "stream",
     "text": [
      "count_dif_dir\n",
      "0\n",
      "percent_dif_dir\n",
      "0.0\n",
      "Epoch = 13. Time index = 0. Threshold MC = 0.65. Threshold MD = 0.9\n",
      "RD = 0 NZ = 0 NZA = 0 pNZ = 0.000% pNZA = 0.000% AD = 0.00% ADA = 0.00% NO = 1 GSP = 0.00% NSP = 0.00%\n",
      "SI2 = -0.55 SI = -0.55 eGROI = 0.00% eROI = 0.00% eROI2 = 0.00% eROI3 = 0.00% mSpread = 0.0000%\n"
     ]
    },
    {
     "name": "stderr",
     "output_type": "stream",
     "text": [
      "0it [00:00, ?it/s]\n"
     ]
    },
    {
     "name": "stdout",
     "output_type": "stream",
     "text": [
      "count_dif_dir\n",
      "0\n",
      "percent_dif_dir\n",
      "0.0\n",
      "Epoch = 13. Time index = 0. Threshold MC = 0.65. Threshold MD = 0.95\n",
      "RD = 0 NZ = 0 NZA = 0 pNZ = 0.000% pNZA = 0.000% AD = 0.00% ADA = 0.00% NO = 1 GSP = 0.00% NSP = 0.00%\n",
      "SI2 = -0.55 SI = -0.55 eGROI = 0.00% eROI = 0.00% eROI2 = 0.00% eROI3 = 0.00% mSpread = 0.0000%\n",
      "\n"
     ]
    },
    {
     "name": "stderr",
     "output_type": "stream",
     "text": [
      "100%|████████████████████████████████████████████████████████████████████████████| 8583/8583 [00:02<00:00, 4279.20it/s]\n"
     ]
    },
    {
     "name": "stdout",
     "output_type": "stream",
     "text": [
      "count_dif_dir\n",
      "57\n",
      "percent_dif_dir\n",
      "3.494788473329246\n",
      "Epoch = 13. Time index = 0. Threshold MC = 0.7. Threshold MD = 0.5\n",
      "RD = 3295 NZ = 6115 NZA = 8584 pNZ = 0.890% pNZA = 1.250% AD = 53.88% ADA = 38.39% NO = 1631 GSP = 50.83% NSP = 45.13%\n",
      "SI2 = -160.05 SI = -161.05 eGROI = -5.14% eROI = -37.65% eROI2 = -37.76% eROI3 = -54.07% mSpread = 0.0199%\n"
     ]
    },
    {
     "name": "stderr",
     "output_type": "stream",
     "text": [
      "100%|████████████████████████████████████████████████████████████████████████████| 2206/2206 [00:00<00:00, 3033.98it/s]\n"
     ]
    },
    {
     "name": "stdout",
     "output_type": "stream",
     "text": [
      "count_dif_dir\n",
      "37\n",
      "percent_dif_dir\n",
      "3.5339063992359123\n",
      "Epoch = 13. Time index = 0. Threshold MC = 0.7. Threshold MD = 0.55\n",
      "RD = 881 NZ = 1535 NZA = 2207 pNZ = 0.223% pNZA = 0.321% AD = 57.39% ADA = 39.92% NO = 1047 GSP = 53.49% NSP = 47.85%\n",
      "SI2 = -80.85 SI = -74.85 eGROI = 9.11% eROI = -11.00% eROI2 = -11.83% eROI3 = -22.30% mSpread = 0.0192%\n"
     ]
    },
    {
     "name": "stderr",
     "output_type": "stream",
     "text": [
      "100%|██████████████████████████████████████████████████████████████████████████████| 263/263 [00:00<00:00, 1890.13it/s]\n"
     ]
    },
    {
     "name": "stdout",
     "output_type": "stream",
     "text": [
      "count_dif_dir\n",
      "20\n",
      "percent_dif_dir\n",
      "10.75268817204301\n",
      "Epoch = 13. Time index = 0. Threshold MC = 0.7. Threshold MD = 0.6\n",
      "RD = 118 NZ = 175 NZA = 264 pNZ = 0.025% pNZA = 0.038% AD = 67.43% ADA = 44.70% NO = 186 GSP = 56.99% NSP = 47.85%\n",
      "SI2 = -13.30 SI = -13.30 eGROI = 5.05% eROI = 0.74% eROI2 = 1.33% eROI3 = -0.53% mSpread = 0.0232%\n"
     ]
    },
    {
     "name": "stderr",
     "output_type": "stream",
     "text": [
      "100%|████████████████████████████████████████████████████████████████████████████████| 44/44 [00:00<00:00, 1838.12it/s]\n"
     ]
    },
    {
     "name": "stdout",
     "output_type": "stream",
     "text": [
      "count_dif_dir\n",
      "7\n",
      "percent_dif_dir\n",
      "17.073170731707318\n",
      "Epoch = 13. Time index = 0. Threshold MC = 0.7. Threshold MD = 0.65\n",
      "RD = 26 NZ = 31 NZA = 45 pNZ = 0.005% pNZA = 0.007% AD = 83.87% ADA = 57.78% NO = 41 GSP = 63.41% NSP = 48.78%\n",
      "SI2 = -1.55 SI = -2.55 eGROI = 1.71% eROI = 0.39% eROI2 = 0.89% eROI3 = 0.48% mSpread = 0.0321%\n"
     ]
    },
    {
     "name": "stderr",
     "output_type": "stream",
     "text": [
      "100%|██████████████████████████████████████████████████████████████████████████████████| 6/6 [00:00<00:00, 1002.66it/s]\n"
     ]
    },
    {
     "name": "stdout",
     "output_type": "stream",
     "text": [
      "count_dif_dir\n",
      "3\n",
      "percent_dif_dir\n",
      "42.857142857142854\n",
      "Epoch = 13. Time index = 0. Threshold MC = 0.7. Threshold MD = 0.7\n",
      "RD = 5 NZ = 5 NZA = 7 pNZ = 0.001% pNZA = 0.001% AD = 100.00% ADA = 71.43% NO = 7 GSP = 57.14% NSP = 28.57%\n",
      "SI2 = -1.85 SI = -1.85 eGROI = 0.22% eROI = -0.14% eROI2 = 0.08% eROI3 = 0.01% mSpread = 0.0516%\n"
     ]
    },
    {
     "name": "stderr",
     "output_type": "stream",
     "text": [
      "0it [00:00, ?it/s]\n"
     ]
    },
    {
     "name": "stdout",
     "output_type": "stream",
     "text": [
      "count_dif_dir\n",
      "0\n",
      "percent_dif_dir\n",
      "0.0\n",
      "Epoch = 13. Time index = 0. Threshold MC = 0.7. Threshold MD = 0.75\n",
      "RD = 0 NZ = 0 NZA = 0 pNZ = 0.000% pNZA = 0.000% AD = 0.00% ADA = 0.00% NO = 1 GSP = 0.00% NSP = 0.00%\n",
      "SI2 = -0.55 SI = -0.55 eGROI = 0.00% eROI = 0.00% eROI2 = 0.00% eROI3 = 0.00% mSpread = 0.0000%\n"
     ]
    },
    {
     "name": "stderr",
     "output_type": "stream",
     "text": [
      "0it [00:00, ?it/s]\n"
     ]
    },
    {
     "name": "stdout",
     "output_type": "stream",
     "text": [
      "count_dif_dir\n",
      "0\n",
      "percent_dif_dir\n",
      "0.0\n",
      "Epoch = 13. Time index = 0. Threshold MC = 0.7. Threshold MD = 0.8\n",
      "RD = 0 NZ = 0 NZA = 0 pNZ = 0.000% pNZA = 0.000% AD = 0.00% ADA = 0.00% NO = 1 GSP = 0.00% NSP = 0.00%\n",
      "SI2 = -0.55 SI = -0.55 eGROI = 0.00% eROI = 0.00% eROI2 = 0.00% eROI3 = 0.00% mSpread = 0.0000%\n"
     ]
    },
    {
     "name": "stderr",
     "output_type": "stream",
     "text": [
      "0it [00:00, ?it/s]\n"
     ]
    },
    {
     "name": "stdout",
     "output_type": "stream",
     "text": [
      "count_dif_dir\n",
      "0\n",
      "percent_dif_dir\n",
      "0.0\n",
      "Epoch = 13. Time index = 0. Threshold MC = 0.7. Threshold MD = 0.85\n",
      "RD = 0 NZ = 0 NZA = 0 pNZ = 0.000% pNZA = 0.000% AD = 0.00% ADA = 0.00% NO = 1 GSP = 0.00% NSP = 0.00%\n",
      "SI2 = -0.55 SI = -0.55 eGROI = 0.00% eROI = 0.00% eROI2 = 0.00% eROI3 = 0.00% mSpread = 0.0000%\n"
     ]
    },
    {
     "name": "stderr",
     "output_type": "stream",
     "text": [
      "0it [00:00, ?it/s]\n"
     ]
    },
    {
     "name": "stdout",
     "output_type": "stream",
     "text": [
      "count_dif_dir\n",
      "0\n",
      "percent_dif_dir\n",
      "0.0\n",
      "Epoch = 13. Time index = 0. Threshold MC = 0.7. Threshold MD = 0.9\n",
      "RD = 0 NZ = 0 NZA = 0 pNZ = 0.000% pNZA = 0.000% AD = 0.00% ADA = 0.00% NO = 1 GSP = 0.00% NSP = 0.00%\n",
      "SI2 = -0.55 SI = -0.55 eGROI = 0.00% eROI = 0.00% eROI2 = 0.00% eROI3 = 0.00% mSpread = 0.0000%\n"
     ]
    },
    {
     "name": "stderr",
     "output_type": "stream",
     "text": [
      "0it [00:00, ?it/s]\n"
     ]
    },
    {
     "name": "stdout",
     "output_type": "stream",
     "text": [
      "count_dif_dir\n",
      "0\n",
      "percent_dif_dir\n",
      "0.0\n",
      "Epoch = 13. Time index = 0. Threshold MC = 0.7. Threshold MD = 0.95\n",
      "RD = 0 NZ = 0 NZA = 0 pNZ = 0.000% pNZA = 0.000% AD = 0.00% ADA = 0.00% NO = 1 GSP = 0.00% NSP = 0.00%\n",
      "SI2 = -0.55 SI = -0.55 eGROI = 0.00% eROI = 0.00% eROI2 = 0.00% eROI3 = 0.00% mSpread = 0.0000%\n",
      "\n"
     ]
    },
    {
     "name": "stderr",
     "output_type": "stream",
     "text": [
      "100%|████████████████████████████████████████████████████████████████████████████| 1776/1776 [00:00<00:00, 3879.42it/s]\n"
     ]
    },
    {
     "name": "stdout",
     "output_type": "stream",
     "text": [
      "count_dif_dir\n",
      "11\n",
      "percent_dif_dir\n",
      "1.7944535073409462\n",
      "Epoch = 13. Time index = 0. Threshold MC = 0.75. Threshold MD = 0.5\n",
      "RD = 725 NZ = 1321 NZA = 1777 pNZ = 0.192% pNZA = 0.259% AD = 54.88% ADA = 40.80% NO = 613 GSP = 52.04% NSP = 47.47%\n",
      "SI2 = -48.15 SI = -46.15 eGROI = 2.03% eROI = -9.90% eROI2 = -10.23% eROI3 = -16.36% mSpread = 0.0195%\n"
     ]
    },
    {
     "name": "stderr",
     "output_type": "stream",
     "text": [
      "100%|██████████████████████████████████████████████████████████████████████████████| 547/547 [00:00<00:00, 2948.56it/s]\n"
     ]
    },
    {
     "name": "stdout",
     "output_type": "stream",
     "text": [
      "count_dif_dir\n",
      "9\n",
      "percent_dif_dir\n",
      "2.5714285714285716\n",
      "Epoch = 13. Time index = 0. Threshold MC = 0.75. Threshold MD = 0.55\n",
      "RD = 237 NZ = 405 NZA = 548 pNZ = 0.059% pNZA = 0.080% AD = 58.52% ADA = 43.25% NO = 350 GSP = 53.71% NSP = 49.71%\n",
      "SI2 = -21.50 SI = -18.50 eGROI = 2.92% eROI = -3.88% eROI2 = -4.08% eROI3 = -7.58% mSpread = 0.0194%\n"
     ]
    },
    {
     "name": "stderr",
     "output_type": "stream",
     "text": [
      "100%|████████████████████████████████████████████████████████████████████████████████| 95/95 [00:00<00:00, 1797.14it/s]\n"
     ]
    },
    {
     "name": "stdout",
     "output_type": "stream",
     "text": [
      "count_dif_dir\n",
      "6\n",
      "percent_dif_dir\n",
      "8.571428571428571\n",
      "Epoch = 13. Time index = 0. Threshold MC = 0.75. Threshold MD = 0.6\n",
      "RD = 46 NZ = 67 NZA = 96 pNZ = 0.010% pNZA = 0.014% AD = 68.66% ADA = 47.92% NO = 70 GSP = 58.57% NSP = 51.43%\n",
      "SI2 = -1.50 SI = -2.50 eGROI = 1.99% eROI = 0.44% eROI2 = 0.59% eROI3 = -0.11% mSpread = 0.0222%\n"
     ]
    },
    {
     "name": "stderr",
     "output_type": "stream",
     "text": [
      "100%|████████████████████████████████████████████████████████████████████████████████| 13/13 [00:00<00:00, 1086.00it/s]\n"
     ]
    },
    {
     "name": "stdout",
     "output_type": "stream",
     "text": [
      "count_dif_dir\n",
      "1\n",
      "percent_dif_dir\n",
      "7.6923076923076925\n",
      "Epoch = 13. Time index = 0. Threshold MC = 0.75. Threshold MD = 0.65\n",
      "RD = 10 NZ = 11 NZA = 14 pNZ = 0.002% pNZA = 0.002% AD = 90.91% ADA = 71.43% NO = 13 GSP = 69.23% NSP = 61.54%\n",
      "SI2 = 0.85 SI = 0.85 eGROI = 0.67% eROI = 0.27% eROI2 = 0.41% eROI3 = 0.28% mSpread = 0.0308%\n"
     ]
    },
    {
     "name": "stderr",
     "output_type": "stream",
     "text": [
      "0it [00:00, ?it/s]\n"
     ]
    },
    {
     "name": "stdout",
     "output_type": "stream",
     "text": [
      "count_dif_dir\n",
      "0\n",
      "percent_dif_dir\n",
      "0.0\n",
      "Epoch = 13. Time index = 0. Threshold MC = 0.75. Threshold MD = 0.7\n",
      "RD = 0 NZ = 0 NZA = 0 pNZ = 0.000% pNZA = 0.000% AD = 0.00% ADA = 0.00% NO = 1 GSP = 0.00% NSP = 0.00%\n",
      "SI2 = -0.55 SI = -0.55 eGROI = 0.00% eROI = 0.00% eROI2 = 0.00% eROI3 = 0.00% mSpread = 0.0000%\n"
     ]
    },
    {
     "name": "stderr",
     "output_type": "stream",
     "text": [
      "0it [00:00, ?it/s]\n"
     ]
    },
    {
     "name": "stdout",
     "output_type": "stream",
     "text": [
      "count_dif_dir\n",
      "0\n",
      "percent_dif_dir\n",
      "0.0\n",
      "Epoch = 13. Time index = 0. Threshold MC = 0.75. Threshold MD = 0.75\n",
      "RD = 0 NZ = 0 NZA = 0 pNZ = 0.000% pNZA = 0.000% AD = 0.00% ADA = 0.00% NO = 1 GSP = 0.00% NSP = 0.00%\n",
      "SI2 = -0.55 SI = -0.55 eGROI = 0.00% eROI = 0.00% eROI2 = 0.00% eROI3 = 0.00% mSpread = 0.0000%\n"
     ]
    },
    {
     "name": "stderr",
     "output_type": "stream",
     "text": [
      "0it [00:00, ?it/s]\n"
     ]
    },
    {
     "name": "stdout",
     "output_type": "stream",
     "text": [
      "count_dif_dir\n",
      "0\n",
      "percent_dif_dir\n",
      "0.0\n",
      "Epoch = 13. Time index = 0. Threshold MC = 0.75. Threshold MD = 0.8\n",
      "RD = 0 NZ = 0 NZA = 0 pNZ = 0.000% pNZA = 0.000% AD = 0.00% ADA = 0.00% NO = 1 GSP = 0.00% NSP = 0.00%\n",
      "SI2 = -0.55 SI = -0.55 eGROI = 0.00% eROI = 0.00% eROI2 = 0.00% eROI3 = 0.00% mSpread = 0.0000%\n"
     ]
    },
    {
     "name": "stderr",
     "output_type": "stream",
     "text": [
      "0it [00:00, ?it/s]\n"
     ]
    },
    {
     "name": "stdout",
     "output_type": "stream",
     "text": [
      "count_dif_dir\n",
      "0\n",
      "percent_dif_dir\n",
      "0.0\n",
      "Epoch = 13. Time index = 0. Threshold MC = 0.75. Threshold MD = 0.85\n",
      "RD = 0 NZ = 0 NZA = 0 pNZ = 0.000% pNZA = 0.000% AD = 0.00% ADA = 0.00% NO = 1 GSP = 0.00% NSP = 0.00%\n",
      "SI2 = -0.55 SI = -0.55 eGROI = 0.00% eROI = 0.00% eROI2 = 0.00% eROI3 = 0.00% mSpread = 0.0000%\n"
     ]
    },
    {
     "name": "stderr",
     "output_type": "stream",
     "text": [
      "0it [00:00, ?it/s]\n"
     ]
    },
    {
     "name": "stdout",
     "output_type": "stream",
     "text": [
      "count_dif_dir\n",
      "0\n",
      "percent_dif_dir\n",
      "0.0\n",
      "Epoch = 13. Time index = 0. Threshold MC = 0.75. Threshold MD = 0.9\n",
      "RD = 0 NZ = 0 NZA = 0 pNZ = 0.000% pNZA = 0.000% AD = 0.00% ADA = 0.00% NO = 1 GSP = 0.00% NSP = 0.00%\n",
      "SI2 = -0.55 SI = -0.55 eGROI = 0.00% eROI = 0.00% eROI2 = 0.00% eROI3 = 0.00% mSpread = 0.0000%\n"
     ]
    },
    {
     "name": "stderr",
     "output_type": "stream",
     "text": [
      "0it [00:00, ?it/s]\n"
     ]
    },
    {
     "name": "stdout",
     "output_type": "stream",
     "text": [
      "count_dif_dir\n",
      "0\n",
      "percent_dif_dir\n",
      "0.0\n",
      "Epoch = 13. Time index = 0. Threshold MC = 0.75. Threshold MD = 0.95\n",
      "RD = 0 NZ = 0 NZA = 0 pNZ = 0.000% pNZA = 0.000% AD = 0.00% ADA = 0.00% NO = 1 GSP = 0.00% NSP = 0.00%\n",
      "SI2 = -0.55 SI = -0.55 eGROI = 0.00% eROI = 0.00% eROI2 = 0.00% eROI3 = 0.00% mSpread = 0.0000%\n",
      "\n"
     ]
    },
    {
     "name": "stderr",
     "output_type": "stream",
     "text": [
      "100%|██████████████████████████████████████████████████████████████████████████████| 260/260 [00:00<00:00, 2530.90it/s]\n"
     ]
    },
    {
     "name": "stdout",
     "output_type": "stream",
     "text": [
      "count_dif_dir\n",
      "7\n",
      "percent_dif_dir\n",
      "4.093567251461988\n",
      "Epoch = 13. Time index = 0. Threshold MC = 0.8. Threshold MD = 0.5\n",
      "RD = 111 NZ = 199 NZA = 261 pNZ = 0.029% pNZA = 0.038% AD = 55.78% ADA = 42.53% NO = 171 GSP = 50.29% NSP = 45.03%\n",
      "SI2 = -16.05 SI = -17.05 eGROI = -1.41% eROI = -4.78% eROI2 = -4.83% eROI3 = -6.54% mSpread = 0.0197%\n"
     ]
    },
    {
     "name": "stderr",
     "output_type": "stream",
     "text": [
      "100%|████████████████████████████████████████████████████████████████████████████████| 88/88 [00:00<00:00, 1192.27it/s]\n"
     ]
    },
    {
     "name": "stdout",
     "output_type": "stream",
     "text": [
      "count_dif_dir\n",
      "3\n",
      "percent_dif_dir\n",
      "4.0\n",
      "Epoch = 13. Time index = 0. Threshold MC = 0.8. Threshold MD = 0.55\n",
      "RD = 41 NZ = 65 NZA = 89 pNZ = 0.009% pNZA = 0.013% AD = 63.08% ADA = 46.07% NO = 75 GSP = 52.00% NSP = 46.67%\n",
      "SI2 = -6.25 SI = -6.25 eGROI = -0.17% eROI = -1.68% eROI2 = -1.67% eROI3 = -2.42% mSpread = 0.0202%\n"
     ]
    },
    {
     "name": "stderr",
     "output_type": "stream",
     "text": [
      "100%|████████████████████████████████████████████████████████████████████████████████| 19/19 [00:00<00:00, 1120.56it/s]\n"
     ]
    },
    {
     "name": "stdout",
     "output_type": "stream",
     "text": [
      "count_dif_dir\n",
      "2\n",
      "percent_dif_dir\n",
      "11.11111111111111\n",
      "Epoch = 13. Time index = 0. Threshold MC = 0.8. Threshold MD = 0.6\n",
      "RD = 8 NZ = 14 NZA = 20 pNZ = 0.002% pNZA = 0.003% AD = 57.14% ADA = 40.00% NO = 18 GSP = 44.44% NSP = 33.33%\n",
      "SI2 = -2.90 SI = -3.90 eGROI = -0.26% eROI = -0.80% eROI2 = -0.62% eROI3 = -0.80% mSpread = 0.0300%\n"
     ]
    },
    {
     "name": "stderr",
     "output_type": "stream",
     "text": [
      "100%|██████████████████████████████████████████████████████████████████████████████████| 4/4 [00:00<00:00, 1004.74it/s]\n"
     ]
    },
    {
     "name": "stdout",
     "output_type": "stream",
     "text": [
      "count_dif_dir\n",
      "1\n",
      "percent_dif_dir\n",
      "20.0\n",
      "Epoch = 13. Time index = 0. Threshold MC = 0.8. Threshold MD = 0.65\n",
      "RD = 5 NZ = 5 NZA = 5 pNZ = 0.001% pNZA = 0.001% AD = 100.00% ADA = 100.00% NO = 5 GSP = 80.00% NSP = 60.00%\n",
      "SI2 = 0.25 SI = 0.25 eGROI = 0.23% eROI = -0.03% eROI2 = 0.13% eROI3 = 0.08% mSpread = 0.0519%\n"
     ]
    },
    {
     "name": "stderr",
     "output_type": "stream",
     "text": [
      "0it [00:00, ?it/s]\n"
     ]
    },
    {
     "name": "stdout",
     "output_type": "stream",
     "text": [
      "count_dif_dir\n",
      "0\n",
      "percent_dif_dir\n",
      "0.0\n",
      "Epoch = 13. Time index = 0. Threshold MC = 0.8. Threshold MD = 0.7\n",
      "RD = 0 NZ = 0 NZA = 0 pNZ = 0.000% pNZA = 0.000% AD = 0.00% ADA = 0.00% NO = 1 GSP = 0.00% NSP = 0.00%\n",
      "SI2 = -0.55 SI = -0.55 eGROI = 0.00% eROI = 0.00% eROI2 = 0.00% eROI3 = 0.00% mSpread = 0.0000%\n"
     ]
    },
    {
     "name": "stderr",
     "output_type": "stream",
     "text": [
      "0it [00:00, ?it/s]\n"
     ]
    },
    {
     "name": "stdout",
     "output_type": "stream",
     "text": [
      "count_dif_dir\n",
      "0\n",
      "percent_dif_dir\n",
      "0.0\n",
      "Epoch = 13. Time index = 0. Threshold MC = 0.8. Threshold MD = 0.75\n",
      "RD = 0 NZ = 0 NZA = 0 pNZ = 0.000% pNZA = 0.000% AD = 0.00% ADA = 0.00% NO = 1 GSP = 0.00% NSP = 0.00%\n",
      "SI2 = -0.55 SI = -0.55 eGROI = 0.00% eROI = 0.00% eROI2 = 0.00% eROI3 = 0.00% mSpread = 0.0000%\n"
     ]
    },
    {
     "name": "stderr",
     "output_type": "stream",
     "text": [
      "0it [00:00, ?it/s]\n"
     ]
    },
    {
     "name": "stdout",
     "output_type": "stream",
     "text": [
      "count_dif_dir\n",
      "0\n",
      "percent_dif_dir\n",
      "0.0\n",
      "Epoch = 13. Time index = 0. Threshold MC = 0.8. Threshold MD = 0.8\n",
      "RD = 0 NZ = 0 NZA = 0 pNZ = 0.000% pNZA = 0.000% AD = 0.00% ADA = 0.00% NO = 1 GSP = 0.00% NSP = 0.00%\n",
      "SI2 = -0.55 SI = -0.55 eGROI = 0.00% eROI = 0.00% eROI2 = 0.00% eROI3 = 0.00% mSpread = 0.0000%\n"
     ]
    },
    {
     "name": "stderr",
     "output_type": "stream",
     "text": [
      "0it [00:00, ?it/s]\n"
     ]
    },
    {
     "name": "stdout",
     "output_type": "stream",
     "text": [
      "count_dif_dir\n",
      "0\n",
      "percent_dif_dir\n",
      "0.0\n",
      "Epoch = 13. Time index = 0. Threshold MC = 0.8. Threshold MD = 0.85\n",
      "RD = 0 NZ = 0 NZA = 0 pNZ = 0.000% pNZA = 0.000% AD = 0.00% ADA = 0.00% NO = 1 GSP = 0.00% NSP = 0.00%\n",
      "SI2 = -0.55 SI = -0.55 eGROI = 0.00% eROI = 0.00% eROI2 = 0.00% eROI3 = 0.00% mSpread = 0.0000%\n"
     ]
    },
    {
     "name": "stderr",
     "output_type": "stream",
     "text": [
      "0it [00:00, ?it/s]\n"
     ]
    },
    {
     "name": "stdout",
     "output_type": "stream",
     "text": [
      "count_dif_dir\n",
      "0\n",
      "percent_dif_dir\n",
      "0.0\n",
      "Epoch = 13. Time index = 0. Threshold MC = 0.8. Threshold MD = 0.9\n",
      "RD = 0 NZ = 0 NZA = 0 pNZ = 0.000% pNZA = 0.000% AD = 0.00% ADA = 0.00% NO = 1 GSP = 0.00% NSP = 0.00%\n",
      "SI2 = -0.55 SI = -0.55 eGROI = 0.00% eROI = 0.00% eROI2 = 0.00% eROI3 = 0.00% mSpread = 0.0000%\n"
     ]
    },
    {
     "name": "stderr",
     "output_type": "stream",
     "text": [
      "0it [00:00, ?it/s]\n"
     ]
    },
    {
     "name": "stdout",
     "output_type": "stream",
     "text": [
      "count_dif_dir\n",
      "0\n",
      "percent_dif_dir\n",
      "0.0\n",
      "Epoch = 13. Time index = 0. Threshold MC = 0.8. Threshold MD = 0.95\n",
      "RD = 0 NZ = 0 NZA = 0 pNZ = 0.000% pNZA = 0.000% AD = 0.00% ADA = 0.00% NO = 1 GSP = 0.00% NSP = 0.00%\n",
      "SI2 = -0.55 SI = -0.55 eGROI = 0.00% eROI = 0.00% eROI2 = 0.00% eROI3 = 0.00% mSpread = 0.0000%\n",
      "\n"
     ]
    },
    {
     "name": "stderr",
     "output_type": "stream",
     "text": [
      "100%|████████████████████████████████████████████████████████████████████████████████| 15/15 [00:00<00:00, 1074.78it/s]\n"
     ]
    },
    {
     "name": "stdout",
     "output_type": "stream",
     "text": [
      "count_dif_dir\n",
      "1\n",
      "percent_dif_dir\n",
      "6.25\n",
      "Epoch = 13. Time index = 0. Threshold MC = 0.85. Threshold MD = 0.5\n",
      "RD = 5 NZ = 6 NZA = 16 pNZ = 0.001% pNZA = 0.002% AD = 83.33% ADA = 31.25% NO = 16 GSP = 43.75% NSP = 31.25%\n",
      "SI2 = -4.80 SI = -3.80 eGROI = 0.51% eROI = 0.20% eROI2 = 0.19% eROI3 = 0.03% mSpread = 0.0196%\n"
     ]
    },
    {
     "name": "stderr",
     "output_type": "stream",
     "text": [
      "100%|████████████████████████████████████████████████████████████████████████████████| 10/10 [00:00<00:00, 1114.41it/s]\n"
     ]
    },
    {
     "name": "stdout",
     "output_type": "stream",
     "text": [
      "count_dif_dir\n",
      "1\n",
      "percent_dif_dir\n",
      "9.090909090909092\n",
      "Epoch = 13. Time index = 0. Threshold MC = 0.85. Threshold MD = 0.55\n",
      "RD = 3 NZ = 4 NZA = 11 pNZ = 0.001% pNZA = 0.002% AD = 75.00% ADA = 27.27% NO = 11 GSP = 27.27% NSP = 27.27%\n",
      "SI2 = -4.05 SI = -3.05 eGROI = -0.09% eROI = -0.29% eROI2 = -0.31% eROI3 = -0.42% mSpread = 0.0179%\n"
     ]
    },
    {
     "name": "stderr",
     "output_type": "stream",
     "text": [
      "100%|███████████████████████████████████████████████████████████████████████████████████| 3/3 [00:00<00:00, 601.48it/s]\n"
     ]
    },
    {
     "name": "stdout",
     "output_type": "stream",
     "text": [
      "count_dif_dir\n",
      "0\n",
      "percent_dif_dir\n",
      "0.0\n",
      "Epoch = 13. Time index = 0. Threshold MC = 0.85. Threshold MD = 0.6\n",
      "RD = 0 NZ = 1 NZA = 4 pNZ = 0.000% pNZA = 0.001% AD = 0.00% ADA = 0.00% NO = 4 GSP = 0.00% NSP = 0.00%\n",
      "SI2 = -2.20 SI = -2.20 eGROI = -0.37% eROI = -0.44% eROI2 = -0.45% eROI3 = -0.49% mSpread = 0.0182%\n"
     ]
    },
    {
     "name": "stderr",
     "output_type": "stream",
     "text": [
      "0it [00:00, ?it/s]\n"
     ]
    },
    {
     "name": "stdout",
     "output_type": "stream",
     "text": [
      "count_dif_dir\n",
      "0\n",
      "percent_dif_dir\n",
      "0.0\n",
      "Epoch = 13. Time index = 0. Threshold MC = 0.85. Threshold MD = 0.65\n",
      "RD = 0 NZ = 0 NZA = 0 pNZ = 0.000% pNZA = 0.000% AD = 0.00% ADA = 0.00% NO = 1 GSP = 0.00% NSP = 0.00%\n",
      "SI2 = -0.55 SI = -0.55 eGROI = 0.00% eROI = 0.00% eROI2 = 0.00% eROI3 = 0.00% mSpread = 0.0000%\n"
     ]
    },
    {
     "name": "stderr",
     "output_type": "stream",
     "text": [
      "0it [00:00, ?it/s]\n"
     ]
    },
    {
     "name": "stdout",
     "output_type": "stream",
     "text": [
      "count_dif_dir\n",
      "0\n",
      "percent_dif_dir\n",
      "0.0\n",
      "Epoch = 13. Time index = 0. Threshold MC = 0.85. Threshold MD = 0.7\n",
      "RD = 0 NZ = 0 NZA = 0 pNZ = 0.000% pNZA = 0.000% AD = 0.00% ADA = 0.00% NO = 1 GSP = 0.00% NSP = 0.00%\n",
      "SI2 = -0.55 SI = -0.55 eGROI = 0.00% eROI = 0.00% eROI2 = 0.00% eROI3 = 0.00% mSpread = 0.0000%\n"
     ]
    },
    {
     "name": "stderr",
     "output_type": "stream",
     "text": [
      "0it [00:00, ?it/s]\n"
     ]
    },
    {
     "name": "stdout",
     "output_type": "stream",
     "text": [
      "count_dif_dir\n",
      "0\n",
      "percent_dif_dir\n",
      "0.0\n",
      "Epoch = 13. Time index = 0. Threshold MC = 0.85. Threshold MD = 0.75\n",
      "RD = 0 NZ = 0 NZA = 0 pNZ = 0.000% pNZA = 0.000% AD = 0.00% ADA = 0.00% NO = 1 GSP = 0.00% NSP = 0.00%\n",
      "SI2 = -0.55 SI = -0.55 eGROI = 0.00% eROI = 0.00% eROI2 = 0.00% eROI3 = 0.00% mSpread = 0.0000%\n"
     ]
    },
    {
     "name": "stderr",
     "output_type": "stream",
     "text": [
      "0it [00:00, ?it/s]\n"
     ]
    },
    {
     "name": "stdout",
     "output_type": "stream",
     "text": [
      "count_dif_dir\n",
      "0\n",
      "percent_dif_dir\n",
      "0.0\n",
      "Epoch = 13. Time index = 0. Threshold MC = 0.85. Threshold MD = 0.8\n",
      "RD = 0 NZ = 0 NZA = 0 pNZ = 0.000% pNZA = 0.000% AD = 0.00% ADA = 0.00% NO = 1 GSP = 0.00% NSP = 0.00%\n",
      "SI2 = -0.55 SI = -0.55 eGROI = 0.00% eROI = 0.00% eROI2 = 0.00% eROI3 = 0.00% mSpread = 0.0000%\n"
     ]
    },
    {
     "name": "stderr",
     "output_type": "stream",
     "text": [
      "0it [00:00, ?it/s]\n"
     ]
    },
    {
     "name": "stdout",
     "output_type": "stream",
     "text": [
      "count_dif_dir\n",
      "0\n",
      "percent_dif_dir\n",
      "0.0\n",
      "Epoch = 13. Time index = 0. Threshold MC = 0.85. Threshold MD = 0.85\n",
      "RD = 0 NZ = 0 NZA = 0 pNZ = 0.000% pNZA = 0.000% AD = 0.00% ADA = 0.00% NO = 1 GSP = 0.00% NSP = 0.00%\n",
      "SI2 = -0.55 SI = -0.55 eGROI = 0.00% eROI = 0.00% eROI2 = 0.00% eROI3 = 0.00% mSpread = 0.0000%\n"
     ]
    },
    {
     "name": "stderr",
     "output_type": "stream",
     "text": [
      "0it [00:00, ?it/s]\n"
     ]
    },
    {
     "name": "stdout",
     "output_type": "stream",
     "text": [
      "count_dif_dir\n",
      "0\n",
      "percent_dif_dir\n",
      "0.0\n",
      "Epoch = 13. Time index = 0. Threshold MC = 0.85. Threshold MD = 0.9\n",
      "RD = 0 NZ = 0 NZA = 0 pNZ = 0.000% pNZA = 0.000% AD = 0.00% ADA = 0.00% NO = 1 GSP = 0.00% NSP = 0.00%\n",
      "SI2 = -0.55 SI = -0.55 eGROI = 0.00% eROI = 0.00% eROI2 = 0.00% eROI3 = 0.00% mSpread = 0.0000%\n"
     ]
    },
    {
     "name": "stderr",
     "output_type": "stream",
     "text": [
      "0it [00:00, ?it/s]\n"
     ]
    },
    {
     "name": "stdout",
     "output_type": "stream",
     "text": [
      "count_dif_dir\n",
      "0\n",
      "percent_dif_dir\n",
      "0.0\n",
      "Epoch = 13. Time index = 0. Threshold MC = 0.85. Threshold MD = 0.95\n",
      "RD = 0 NZ = 0 NZA = 0 pNZ = 0.000% pNZA = 0.000% AD = 0.00% ADA = 0.00% NO = 1 GSP = 0.00% NSP = 0.00%\n",
      "SI2 = -0.55 SI = -0.55 eGROI = 0.00% eROI = 0.00% eROI2 = 0.00% eROI3 = 0.00% mSpread = 0.0000%\n",
      "\n"
     ]
    },
    {
     "name": "stderr",
     "output_type": "stream",
     "text": [
      "0it [00:00, ?it/s]\n"
     ]
    },
    {
     "name": "stdout",
     "output_type": "stream",
     "text": [
      "count_dif_dir\n",
      "0\n",
      "percent_dif_dir\n",
      "0.0\n",
      "Epoch = 13. Time index = 0. Threshold MC = 0.9. Threshold MD = 0.5\n",
      "RD = 0 NZ = 0 NZA = 0 pNZ = 0.000% pNZA = 0.000% AD = 0.00% ADA = 0.00% NO = 1 GSP = 0.00% NSP = 0.00%\n",
      "SI2 = -0.55 SI = -0.55 eGROI = 0.00% eROI = 0.00% eROI2 = 0.00% eROI3 = 0.00% mSpread = 0.0000%\n"
     ]
    },
    {
     "name": "stderr",
     "output_type": "stream",
     "text": [
      "0it [00:00, ?it/s]\n"
     ]
    },
    {
     "name": "stdout",
     "output_type": "stream",
     "text": [
      "count_dif_dir\n",
      "0\n",
      "percent_dif_dir\n",
      "0.0\n",
      "Epoch = 13. Time index = 0. Threshold MC = 0.9. Threshold MD = 0.55\n",
      "RD = 0 NZ = 0 NZA = 0 pNZ = 0.000% pNZA = 0.000% AD = 0.00% ADA = 0.00% NO = 1 GSP = 0.00% NSP = 0.00%\n",
      "SI2 = -0.55 SI = -0.55 eGROI = 0.00% eROI = 0.00% eROI2 = 0.00% eROI3 = 0.00% mSpread = 0.0000%\n"
     ]
    },
    {
     "name": "stderr",
     "output_type": "stream",
     "text": [
      "0it [00:00, ?it/s]\n"
     ]
    },
    {
     "name": "stdout",
     "output_type": "stream",
     "text": [
      "count_dif_dir\n",
      "0\n",
      "percent_dif_dir\n",
      "0.0\n",
      "Epoch = 13. Time index = 0. Threshold MC = 0.9. Threshold MD = 0.6\n",
      "RD = 0 NZ = 0 NZA = 0 pNZ = 0.000% pNZA = 0.000% AD = 0.00% ADA = 0.00% NO = 1 GSP = 0.00% NSP = 0.00%\n",
      "SI2 = -0.55 SI = -0.55 eGROI = 0.00% eROI = 0.00% eROI2 = 0.00% eROI3 = 0.00% mSpread = 0.0000%\n"
     ]
    },
    {
     "name": "stderr",
     "output_type": "stream",
     "text": [
      "0it [00:00, ?it/s]\n"
     ]
    },
    {
     "name": "stdout",
     "output_type": "stream",
     "text": [
      "count_dif_dir\n",
      "0\n",
      "percent_dif_dir\n",
      "0.0\n",
      "Epoch = 13. Time index = 0. Threshold MC = 0.9. Threshold MD = 0.65\n",
      "RD = 0 NZ = 0 NZA = 0 pNZ = 0.000% pNZA = 0.000% AD = 0.00% ADA = 0.00% NO = 1 GSP = 0.00% NSP = 0.00%\n",
      "SI2 = -0.55 SI = -0.55 eGROI = 0.00% eROI = 0.00% eROI2 = 0.00% eROI3 = 0.00% mSpread = 0.0000%\n"
     ]
    },
    {
     "name": "stderr",
     "output_type": "stream",
     "text": [
      "0it [00:00, ?it/s]\n"
     ]
    },
    {
     "name": "stdout",
     "output_type": "stream",
     "text": [
      "count_dif_dir\n",
      "0\n",
      "percent_dif_dir\n",
      "0.0\n",
      "Epoch = 13. Time index = 0. Threshold MC = 0.9. Threshold MD = 0.7\n",
      "RD = 0 NZ = 0 NZA = 0 pNZ = 0.000% pNZA = 0.000% AD = 0.00% ADA = 0.00% NO = 1 GSP = 0.00% NSP = 0.00%\n",
      "SI2 = -0.55 SI = -0.55 eGROI = 0.00% eROI = 0.00% eROI2 = 0.00% eROI3 = 0.00% mSpread = 0.0000%\n"
     ]
    },
    {
     "name": "stderr",
     "output_type": "stream",
     "text": [
      "0it [00:00, ?it/s]\n"
     ]
    },
    {
     "name": "stdout",
     "output_type": "stream",
     "text": [
      "count_dif_dir\n",
      "0\n",
      "percent_dif_dir\n",
      "0.0\n",
      "Epoch = 13. Time index = 0. Threshold MC = 0.9. Threshold MD = 0.75\n",
      "RD = 0 NZ = 0 NZA = 0 pNZ = 0.000% pNZA = 0.000% AD = 0.00% ADA = 0.00% NO = 1 GSP = 0.00% NSP = 0.00%\n",
      "SI2 = -0.55 SI = -0.55 eGROI = 0.00% eROI = 0.00% eROI2 = 0.00% eROI3 = 0.00% mSpread = 0.0000%\n"
     ]
    },
    {
     "name": "stderr",
     "output_type": "stream",
     "text": [
      "0it [00:00, ?it/s]\n"
     ]
    },
    {
     "name": "stdout",
     "output_type": "stream",
     "text": [
      "count_dif_dir\n",
      "0\n",
      "percent_dif_dir\n",
      "0.0\n",
      "Epoch = 13. Time index = 0. Threshold MC = 0.9. Threshold MD = 0.8\n",
      "RD = 0 NZ = 0 NZA = 0 pNZ = 0.000% pNZA = 0.000% AD = 0.00% ADA = 0.00% NO = 1 GSP = 0.00% NSP = 0.00%\n",
      "SI2 = -0.55 SI = -0.55 eGROI = 0.00% eROI = 0.00% eROI2 = 0.00% eROI3 = 0.00% mSpread = 0.0000%\n"
     ]
    },
    {
     "name": "stderr",
     "output_type": "stream",
     "text": [
      "0it [00:00, ?it/s]\n"
     ]
    },
    {
     "name": "stdout",
     "output_type": "stream",
     "text": [
      "count_dif_dir\n",
      "0\n",
      "percent_dif_dir\n",
      "0.0\n",
      "Epoch = 13. Time index = 0. Threshold MC = 0.9. Threshold MD = 0.85\n",
      "RD = 0 NZ = 0 NZA = 0 pNZ = 0.000% pNZA = 0.000% AD = 0.00% ADA = 0.00% NO = 1 GSP = 0.00% NSP = 0.00%\n",
      "SI2 = -0.55 SI = -0.55 eGROI = 0.00% eROI = 0.00% eROI2 = 0.00% eROI3 = 0.00% mSpread = 0.0000%\n"
     ]
    },
    {
     "name": "stderr",
     "output_type": "stream",
     "text": [
      "0it [00:00, ?it/s]\n"
     ]
    },
    {
     "name": "stdout",
     "output_type": "stream",
     "text": [
      "count_dif_dir\n",
      "0\n",
      "percent_dif_dir\n",
      "0.0\n",
      "Epoch = 13. Time index = 0. Threshold MC = 0.9. Threshold MD = 0.9\n",
      "RD = 0 NZ = 0 NZA = 0 pNZ = 0.000% pNZA = 0.000% AD = 0.00% ADA = 0.00% NO = 1 GSP = 0.00% NSP = 0.00%\n",
      "SI2 = -0.55 SI = -0.55 eGROI = 0.00% eROI = 0.00% eROI2 = 0.00% eROI3 = 0.00% mSpread = 0.0000%\n"
     ]
    },
    {
     "name": "stderr",
     "output_type": "stream",
     "text": [
      "0it [00:00, ?it/s]\n"
     ]
    },
    {
     "name": "stdout",
     "output_type": "stream",
     "text": [
      "count_dif_dir\n",
      "0\n",
      "percent_dif_dir\n",
      "0.0\n",
      "Epoch = 13. Time index = 0. Threshold MC = 0.9. Threshold MD = 0.95\n",
      "RD = 0 NZ = 0 NZA = 0 pNZ = 0.000% pNZA = 0.000% AD = 0.00% ADA = 0.00% NO = 1 GSP = 0.00% NSP = 0.00%\n",
      "SI2 = -0.55 SI = -0.55 eGROI = 0.00% eROI = 0.00% eROI2 = 0.00% eROI3 = 0.00% mSpread = 0.0000%\n",
      "\n"
     ]
    },
    {
     "name": "stderr",
     "output_type": "stream",
     "text": [
      "0it [00:00, ?it/s]\n"
     ]
    },
    {
     "name": "stdout",
     "output_type": "stream",
     "text": [
      "count_dif_dir\n",
      "0\n",
      "percent_dif_dir\n",
      "0.0\n",
      "Epoch = 13. Time index = 0. Threshold MC = 0.95. Threshold MD = 0.5\n",
      "RD = 0 NZ = 0 NZA = 0 pNZ = 0.000% pNZA = 0.000% AD = 0.00% ADA = 0.00% NO = 1 GSP = 0.00% NSP = 0.00%\n",
      "SI2 = -0.55 SI = -0.55 eGROI = 0.00% eROI = 0.00% eROI2 = 0.00% eROI3 = 0.00% mSpread = 0.0000%\n"
     ]
    },
    {
     "name": "stderr",
     "output_type": "stream",
     "text": [
      "0it [00:00, ?it/s]\n"
     ]
    },
    {
     "name": "stdout",
     "output_type": "stream",
     "text": [
      "count_dif_dir\n",
      "0\n",
      "percent_dif_dir\n",
      "0.0\n",
      "Epoch = 13. Time index = 0. Threshold MC = 0.95. Threshold MD = 0.55\n",
      "RD = 0 NZ = 0 NZA = 0 pNZ = 0.000% pNZA = 0.000% AD = 0.00% ADA = 0.00% NO = 1 GSP = 0.00% NSP = 0.00%\n",
      "SI2 = -0.55 SI = -0.55 eGROI = 0.00% eROI = 0.00% eROI2 = 0.00% eROI3 = 0.00% mSpread = 0.0000%\n"
     ]
    },
    {
     "name": "stderr",
     "output_type": "stream",
     "text": [
      "0it [00:00, ?it/s]\n"
     ]
    },
    {
     "name": "stdout",
     "output_type": "stream",
     "text": [
      "count_dif_dir\n",
      "0\n",
      "percent_dif_dir\n",
      "0.0\n",
      "Epoch = 13. Time index = 0. Threshold MC = 0.95. Threshold MD = 0.6\n",
      "RD = 0 NZ = 0 NZA = 0 pNZ = 0.000% pNZA = 0.000% AD = 0.00% ADA = 0.00% NO = 1 GSP = 0.00% NSP = 0.00%\n",
      "SI2 = -0.55 SI = -0.55 eGROI = 0.00% eROI = 0.00% eROI2 = 0.00% eROI3 = 0.00% mSpread = 0.0000%\n"
     ]
    },
    {
     "name": "stderr",
     "output_type": "stream",
     "text": [
      "0it [00:00, ?it/s]\n"
     ]
    },
    {
     "name": "stdout",
     "output_type": "stream",
     "text": [
      "count_dif_dir\n",
      "0\n",
      "percent_dif_dir\n",
      "0.0\n",
      "Epoch = 13. Time index = 0. Threshold MC = 0.95. Threshold MD = 0.65\n",
      "RD = 0 NZ = 0 NZA = 0 pNZ = 0.000% pNZA = 0.000% AD = 0.00% ADA = 0.00% NO = 1 GSP = 0.00% NSP = 0.00%\n",
      "SI2 = -0.55 SI = -0.55 eGROI = 0.00% eROI = 0.00% eROI2 = 0.00% eROI3 = 0.00% mSpread = 0.0000%\n"
     ]
    },
    {
     "name": "stderr",
     "output_type": "stream",
     "text": [
      "0it [00:00, ?it/s]\n"
     ]
    },
    {
     "name": "stdout",
     "output_type": "stream",
     "text": [
      "count_dif_dir\n",
      "0\n",
      "percent_dif_dir\n",
      "0.0\n",
      "Epoch = 13. Time index = 0. Threshold MC = 0.95. Threshold MD = 0.7\n",
      "RD = 0 NZ = 0 NZA = 0 pNZ = 0.000% pNZA = 0.000% AD = 0.00% ADA = 0.00% NO = 1 GSP = 0.00% NSP = 0.00%\n",
      "SI2 = -0.55 SI = -0.55 eGROI = 0.00% eROI = 0.00% eROI2 = 0.00% eROI3 = 0.00% mSpread = 0.0000%\n"
     ]
    },
    {
     "name": "stderr",
     "output_type": "stream",
     "text": [
      "0it [00:00, ?it/s]\n"
     ]
    },
    {
     "name": "stdout",
     "output_type": "stream",
     "text": [
      "count_dif_dir\n",
      "0\n",
      "percent_dif_dir\n",
      "0.0\n",
      "Epoch = 13. Time index = 0. Threshold MC = 0.95. Threshold MD = 0.75\n",
      "RD = 0 NZ = 0 NZA = 0 pNZ = 0.000% pNZA = 0.000% AD = 0.00% ADA = 0.00% NO = 1 GSP = 0.00% NSP = 0.00%\n",
      "SI2 = -0.55 SI = -0.55 eGROI = 0.00% eROI = 0.00% eROI2 = 0.00% eROI3 = 0.00% mSpread = 0.0000%\n"
     ]
    },
    {
     "name": "stderr",
     "output_type": "stream",
     "text": [
      "0it [00:00, ?it/s]\n"
     ]
    },
    {
     "name": "stdout",
     "output_type": "stream",
     "text": [
      "count_dif_dir\n",
      "0\n",
      "percent_dif_dir\n",
      "0.0\n",
      "Epoch = 13. Time index = 0. Threshold MC = 0.95. Threshold MD = 0.8\n",
      "RD = 0 NZ = 0 NZA = 0 pNZ = 0.000% pNZA = 0.000% AD = 0.00% ADA = 0.00% NO = 1 GSP = 0.00% NSP = 0.00%\n",
      "SI2 = -0.55 SI = -0.55 eGROI = 0.00% eROI = 0.00% eROI2 = 0.00% eROI3 = 0.00% mSpread = 0.0000%\n"
     ]
    },
    {
     "name": "stderr",
     "output_type": "stream",
     "text": [
      "0it [00:00, ?it/s]\n"
     ]
    },
    {
     "name": "stdout",
     "output_type": "stream",
     "text": [
      "count_dif_dir\n",
      "0\n",
      "percent_dif_dir\n",
      "0.0\n",
      "Epoch = 13. Time index = 0. Threshold MC = 0.95. Threshold MD = 0.85\n",
      "RD = 0 NZ = 0 NZA = 0 pNZ = 0.000% pNZA = 0.000% AD = 0.00% ADA = 0.00% NO = 1 GSP = 0.00% NSP = 0.00%\n",
      "SI2 = -0.55 SI = -0.55 eGROI = 0.00% eROI = 0.00% eROI2 = 0.00% eROI3 = 0.00% mSpread = 0.0000%\n"
     ]
    },
    {
     "name": "stderr",
     "output_type": "stream",
     "text": [
      "0it [00:00, ?it/s]\n"
     ]
    },
    {
     "name": "stdout",
     "output_type": "stream",
     "text": [
      "count_dif_dir\n",
      "0\n",
      "percent_dif_dir\n",
      "0.0\n",
      "Epoch = 13. Time index = 0. Threshold MC = 0.95. Threshold MD = 0.9\n",
      "RD = 0 NZ = 0 NZA = 0 pNZ = 0.000% pNZA = 0.000% AD = 0.00% ADA = 0.00% NO = 1 GSP = 0.00% NSP = 0.00%\n",
      "SI2 = -0.55 SI = -0.55 eGROI = 0.00% eROI = 0.00% eROI2 = 0.00% eROI3 = 0.00% mSpread = 0.0000%\n"
     ]
    },
    {
     "name": "stderr",
     "output_type": "stream",
     "text": [
      "0it [00:00, ?it/s]\n"
     ]
    },
    {
     "name": "stdout",
     "output_type": "stream",
     "text": [
      "count_dif_dir\n",
      "0\n",
      "percent_dif_dir\n",
      "0.0\n",
      "Epoch = 13. Time index = 0. Threshold MC = 0.95. Threshold MD = 0.95\n",
      "RD = 0 NZ = 0 NZA = 0 pNZ = 0.000% pNZA = 0.000% AD = 0.00% ADA = 0.00% NO = 1 GSP = 0.00% NSP = 0.00%\n",
      "SI2 = -0.55 SI = -0.55 eGROI = 0.00% eROI = 0.00% eROI2 = 0.00% eROI3 = 0.00% mSpread = 0.0000%\n",
      "\n"
     ]
    },
    {
     "name": "stderr",
     "output_type": "stream",
     "text": [
      "0it [00:00, ?it/s]\n"
     ]
    },
    {
     "name": "stdout",
     "output_type": "stream",
     "text": [
      "count_dif_dir\n",
      "0\n",
      "percent_dif_dir\n",
      "0.0\n",
      "Epoch = 13. Time index = 1. Threshold MC = 0.5. Threshold MD = 0.5\n",
      "J_test = 6.392173324312482, J_train = 6.560549366499607, Accuracy=0.5352172140694154\n",
      "RD = 167364 NZ = 322939 NZA = 622055 pNZ = 47.015% pNZA = 90.562% AD = 51.83% ADA = 26.91% NO = 1 GSP = 0.00% NSP = 0.00%\n",
      "SI2 = -0.55 SI = -0.55 eGROI = 0.00% eROI = 0.00% eROI2 = 0.00% eROI3 = 0.00% mSpread = 0.0000%\n"
     ]
    },
    {
     "name": "stderr",
     "output_type": "stream",
     "text": [
      "100%|██████████████████████████████████████████████████████████████████████████| 54798/54798 [00:14<00:00, 3696.52it/s]\n"
     ]
    },
    {
     "name": "stdout",
     "output_type": "stream",
     "text": [
      "count_dif_dir\n",
      "341\n",
      "percent_dif_dir\n",
      "2.688426363923053\n",
      "Epoch = 13. Time index = 1. Threshold MC = 0.5. Threshold MD = 0.55\n",
      "RD = 16359 NZ = 28714 NZA = 54799 pNZ = 4.180% pNZA = 7.978% AD = 56.97% ADA = 29.85% NO = 12684 GSP = 56.17% NSP = 46.46%\n",
      "SI2 = -925.20 SI = -1083.20 eGROI = 79.17% eROI = -201.58% eROI2 = -174.51% eROI3 = -301.35% mSpread = 0.0221%\n"
     ]
    },
    {
     "name": "stderr",
     "output_type": "stream",
     "text": [
      "100%|████████████████████████████████████████████████████████████████████████████| 6348/6348 [00:02<00:00, 2947.95it/s]\n"
     ]
    },
    {
     "name": "stdout",
     "output_type": "stream",
     "text": [
      "count_dif_dir\n",
      "314\n",
      "percent_dif_dir\n",
      "11.138701667257893\n",
      "Epoch = 13. Time index = 1. Threshold MC = 0.5. Threshold MD = 0.6\n",
      "RD = 2059 NZ = 3252 NZA = 6349 pNZ = 0.473% pNZA = 0.924% AD = 63.31% ADA = 32.43% NO = 2819 GSP = 52.96% NSP = 41.68%\n",
      "SI2 = -321.45 SI = -375.45 eGROI = 15.33% eROI = -52.89% eROI2 = -41.05% eROI3 = -69.24% mSpread = 0.0242%\n"
     ]
    },
    {
     "name": "stderr",
     "output_type": "stream",
     "text": [
      "100%|████████████████████████████████████████████████████████████████████████████| 1276/1276 [00:00<00:00, 2579.32it/s]\n"
     ]
    },
    {
     "name": "stdout",
     "output_type": "stream",
     "text": [
      "count_dif_dir\n",
      "190\n",
      "percent_dif_dir\n",
      "21.27659574468085\n",
      "Epoch = 13. Time index = 1. Threshold MC = 0.5. Threshold MD = 0.65\n",
      "RD = 459 NZ = 649 NZA = 1277 pNZ = 0.094% pNZA = 0.186% AD = 70.72% ADA = 35.94% NO = 893 GSP = 48.94% NSP = 35.61%\n",
      "SI2 = -150.15 SI = -173.15 eGROI = -1.35% eROI = -25.46% eROI2 = -19.21% eROI3 = -28.14% mSpread = 0.0270%\n"
     ]
    },
    {
     "name": "stderr",
     "output_type": "stream",
     "text": [
      "100%|██████████████████████████████████████████████████████████████████████████████| 246/246 [00:00<00:00, 1326.05it/s]\n"
     ]
    },
    {
     "name": "stdout",
     "output_type": "stream",
     "text": [
      "count_dif_dir\n",
      "57\n",
      "percent_dif_dir\n",
      "26.635514018691588\n",
      "Epoch = 13. Time index = 1. Threshold MC = 0.5. Threshold MD = 0.7\n",
      "RD = 100 NZ = 130 NZA = 247 pNZ = 0.019% pNZA = 0.036% AD = 76.92% ADA = 40.49% NO = 214 GSP = 47.20% NSP = 32.71%\n",
      "SI2 = -40.70 SI = -47.70 eGROI = -0.85% eROI = -6.78% eROI2 = -5.13% eROI3 = -7.27% mSpread = 0.0277%\n"
     ]
    },
    {
     "name": "stderr",
     "output_type": "stream",
     "text": [
      "100%|█████████████████████████████████████████████████████████████████████████████████| 14/14 [00:00<00:00, 738.81it/s]\n"
     ]
    },
    {
     "name": "stdout",
     "output_type": "stream",
     "text": [
      "count_dif_dir\n",
      "3\n",
      "percent_dif_dir\n",
      "20.0\n",
      "Epoch = 13. Time index = 1. Threshold MC = 0.5. Threshold MD = 0.75\n",
      "RD = 8 NZ = 10 NZA = 15 pNZ = 0.001% pNZA = 0.002% AD = 80.00% ADA = 53.33% NO = 15 GSP = 53.33% NSP = 46.67%\n",
      "SI2 = -2.25 SI = -1.25 eGROI = 0.19% eROI = -0.14% eROI2 = -0.11% eROI3 = -0.26% mSpread = 0.0224%\n"
     ]
    },
    {
     "name": "stderr",
     "output_type": "stream",
     "text": [
      "0it [00:00, ?it/s]\n"
     ]
    },
    {
     "name": "stdout",
     "output_type": "stream",
     "text": [
      "count_dif_dir\n",
      "0\n",
      "percent_dif_dir\n",
      "0.0\n",
      "Epoch = 13. Time index = 1. Threshold MC = 0.5. Threshold MD = 0.8\n",
      "RD = 0 NZ = 0 NZA = 0 pNZ = 0.000% pNZA = 0.000% AD = 0.00% ADA = 0.00% NO = 1 GSP = 0.00% NSP = 0.00%\n",
      "SI2 = -0.55 SI = -0.55 eGROI = 0.00% eROI = 0.00% eROI2 = 0.00% eROI3 = 0.00% mSpread = 0.0000%\n"
     ]
    },
    {
     "name": "stderr",
     "output_type": "stream",
     "text": [
      "0it [00:00, ?it/s]\n"
     ]
    },
    {
     "name": "stdout",
     "output_type": "stream",
     "text": [
      "count_dif_dir\n",
      "0\n",
      "percent_dif_dir\n",
      "0.0\n",
      "Epoch = 13. Time index = 1. Threshold MC = 0.5. Threshold MD = 0.85\n",
      "RD = 0 NZ = 0 NZA = 0 pNZ = 0.000% pNZA = 0.000% AD = 0.00% ADA = 0.00% NO = 1 GSP = 0.00% NSP = 0.00%\n",
      "SI2 = -0.55 SI = -0.55 eGROI = 0.00% eROI = 0.00% eROI2 = 0.00% eROI3 = 0.00% mSpread = 0.0000%\n"
     ]
    },
    {
     "name": "stderr",
     "output_type": "stream",
     "text": [
      "0it [00:00, ?it/s]\n"
     ]
    },
    {
     "name": "stdout",
     "output_type": "stream",
     "text": [
      "count_dif_dir\n",
      "0\n",
      "percent_dif_dir\n",
      "0.0\n",
      "Epoch = 13. Time index = 1. Threshold MC = 0.5. Threshold MD = 0.9\n",
      "RD = 0 NZ = 0 NZA = 0 pNZ = 0.000% pNZA = 0.000% AD = 0.00% ADA = 0.00% NO = 1 GSP = 0.00% NSP = 0.00%\n",
      "SI2 = -0.55 SI = -0.55 eGROI = 0.00% eROI = 0.00% eROI2 = 0.00% eROI3 = 0.00% mSpread = 0.0000%\n"
     ]
    },
    {
     "name": "stderr",
     "output_type": "stream",
     "text": [
      "0it [00:00, ?it/s]\n"
     ]
    },
    {
     "name": "stdout",
     "output_type": "stream",
     "text": [
      "count_dif_dir\n",
      "0\n",
      "percent_dif_dir\n",
      "0.0\n",
      "Epoch = 13. Time index = 1. Threshold MC = 0.5. Threshold MD = 0.95\n",
      "RD = 0 NZ = 0 NZA = 0 pNZ = 0.000% pNZA = 0.000% AD = 0.00% ADA = 0.00% NO = 1 GSP = 0.00% NSP = 0.00%\n",
      "SI2 = -0.55 SI = -0.55 eGROI = 0.00% eROI = 0.00% eROI2 = 0.00% eROI3 = 0.00% mSpread = 0.0000%\n",
      "\n"
     ]
    },
    {
     "name": "stderr",
     "output_type": "stream",
     "text": [
      "0it [00:00, ?it/s]\n"
     ]
    },
    {
     "name": "stdout",
     "output_type": "stream",
     "text": [
      "count_dif_dir\n",
      "0\n",
      "percent_dif_dir\n",
      "0.0\n",
      "Epoch = 13. Time index = 1. Threshold MC = 0.55. Threshold MD = 0.5\n",
      "RD = 126521 NZ = 243675 NZA = 438901 pNZ = 35.476% pNZA = 63.898% AD = 51.92% ADA = 28.83% NO = 1 GSP = 0.00% NSP = 0.00%\n",
      "SI2 = -0.55 SI = -0.55 eGROI = 0.00% eROI = 0.00% eROI2 = 0.00% eROI3 = 0.00% mSpread = 0.0000%\n"
     ]
    },
    {
     "name": "stderr",
     "output_type": "stream",
     "text": [
      "100%|██████████████████████████████████████████████████████████████████████████| 39306/39306 [00:10<00:00, 3701.39it/s]\n"
     ]
    },
    {
     "name": "stdout",
     "output_type": "stream",
     "text": [
      "count_dif_dir\n",
      "353\n",
      "percent_dif_dir\n",
      "3.3469232957239026\n",
      "Epoch = 13. Time index = 1. Threshold MC = 0.55. Threshold MD = 0.55\n",
      "RD = 12906 NZ = 22629 NZA = 39307 pNZ = 3.294% pNZA = 5.723% AD = 57.03% ADA = 32.83% NO = 10547 GSP = 56.12% NSP = 46.53%\n",
      "SI2 = -783.85 SI = -892.85 eGROI = 65.78% eROI = -166.74% eROI2 = -145.16% eROI3 = -250.63% mSpread = 0.0220%\n"
     ]
    },
    {
     "name": "stderr",
     "output_type": "stream",
     "text": [
      "100%|████████████████████████████████████████████████████████████████████████████| 4121/4121 [00:01<00:00, 2684.72it/s]\n"
     ]
    },
    {
     "name": "stdout",
     "output_type": "stream",
     "text": [
      "count_dif_dir\n",
      "214\n",
      "percent_dif_dir\n",
      "10.7\n",
      "Epoch = 13. Time index = 1. Threshold MC = 0.55. Threshold MD = 0.6\n",
      "RD = 1525 NZ = 2375 NZA = 4122 pNZ = 0.346% pNZA = 0.600% AD = 64.21% ADA = 37.00% NO = 2000 GSP = 54.90% NSP = 43.50%\n",
      "SI2 = -185.00 SI = -230.00 eGROI = 16.06% eROI = -32.74% eROI2 = -23.94% eROI3 = -43.94% mSpread = 0.0244%\n"
     ]
    },
    {
     "name": "stderr",
     "output_type": "stream",
     "text": [
      "100%|███████████████████████████████████████████████████████████████████████████████| 930/930 [00:01<00:00, 897.43it/s]\n"
     ]
    },
    {
     "name": "stdout",
     "output_type": "stream",
     "text": [
      "count_dif_dir\n",
      "148\n",
      "percent_dif_dir\n",
      "21.925925925925927\n",
      "Epoch = 13. Time index = 1. Threshold MC = 0.55. Threshold MD = 0.65\n",
      "RD = 356 NZ = 497 NZA = 931 pNZ = 0.072% pNZA = 0.136% AD = 71.63% ADA = 38.24% NO = 675 GSP = 48.74% NSP = 35.41%\n",
      "SI2 = -116.25 SI = -132.25 eGROI = -1.40% eROI = -20.02% eROI2 = -14.90% eROI3 = -21.65% mSpread = 0.0276%\n"
     ]
    },
    {
     "name": "stderr",
     "output_type": "stream",
     "text": [
      "100%|███████████████████████████████████████████████████████████████████████████████| 211/211 [00:00<00:00, 859.98it/s]\n"
     ]
    },
    {
     "name": "stdout",
     "output_type": "stream",
     "text": [
      "count_dif_dir\n",
      "50\n",
      "percent_dif_dir\n",
      "27.17391304347826\n",
      "Epoch = 13. Time index = 1. Threshold MC = 0.55. Threshold MD = 0.7\n",
      "RD = 91 NZ = 115 NZA = 212 pNZ = 0.017% pNZA = 0.031% AD = 79.13% ADA = 42.92% NO = 184 GSP = 47.83% NSP = 34.24%\n",
      "SI2 = -33.20 SI = -38.20 eGROI = -0.24% eROI = -5.33% eROI2 = -3.92% eROI3 = -5.76% mSpread = 0.0277%\n"
     ]
    },
    {
     "name": "stderr",
     "output_type": "stream",
     "text": [
      "100%|█████████████████████████████████████████████████████████████████████████████████| 14/14 [00:00<00:00, 779.84it/s]\n"
     ]
    },
    {
     "name": "stdout",
     "output_type": "stream",
     "text": [
      "count_dif_dir\n",
      "3\n",
      "percent_dif_dir\n",
      "20.0\n",
      "Epoch = 13. Time index = 1. Threshold MC = 0.55. Threshold MD = 0.75\n",
      "RD = 8 NZ = 10 NZA = 15 pNZ = 0.001% pNZA = 0.002% AD = 80.00% ADA = 53.33% NO = 15 GSP = 53.33% NSP = 46.67%\n",
      "SI2 = -2.25 SI = -1.25 eGROI = 0.19% eROI = -0.14% eROI2 = -0.11% eROI3 = -0.26% mSpread = 0.0224%\n"
     ]
    },
    {
     "name": "stderr",
     "output_type": "stream",
     "text": [
      "0it [00:00, ?it/s]\n"
     ]
    },
    {
     "name": "stdout",
     "output_type": "stream",
     "text": [
      "count_dif_dir\n",
      "0\n",
      "percent_dif_dir\n",
      "0.0\n",
      "Epoch = 13. Time index = 1. Threshold MC = 0.55. Threshold MD = 0.8\n",
      "RD = 0 NZ = 0 NZA = 0 pNZ = 0.000% pNZA = 0.000% AD = 0.00% ADA = 0.00% NO = 1 GSP = 0.00% NSP = 0.00%\n",
      "SI2 = -0.55 SI = -0.55 eGROI = 0.00% eROI = 0.00% eROI2 = 0.00% eROI3 = 0.00% mSpread = 0.0000%\n"
     ]
    },
    {
     "name": "stderr",
     "output_type": "stream",
     "text": [
      "0it [00:00, ?it/s]\n"
     ]
    },
    {
     "name": "stdout",
     "output_type": "stream",
     "text": [
      "count_dif_dir\n",
      "0\n",
      "percent_dif_dir\n",
      "0.0\n",
      "Epoch = 13. Time index = 1. Threshold MC = 0.55. Threshold MD = 0.85\n",
      "RD = 0 NZ = 0 NZA = 0 pNZ = 0.000% pNZA = 0.000% AD = 0.00% ADA = 0.00% NO = 1 GSP = 0.00% NSP = 0.00%\n",
      "SI2 = -0.55 SI = -0.55 eGROI = 0.00% eROI = 0.00% eROI2 = 0.00% eROI3 = 0.00% mSpread = 0.0000%\n"
     ]
    },
    {
     "name": "stderr",
     "output_type": "stream",
     "text": [
      "0it [00:00, ?it/s]\n"
     ]
    },
    {
     "name": "stdout",
     "output_type": "stream",
     "text": [
      "count_dif_dir\n",
      "0\n",
      "percent_dif_dir\n",
      "0.0\n",
      "Epoch = 13. Time index = 1. Threshold MC = 0.55. Threshold MD = 0.9\n",
      "RD = 0 NZ = 0 NZA = 0 pNZ = 0.000% pNZA = 0.000% AD = 0.00% ADA = 0.00% NO = 1 GSP = 0.00% NSP = 0.00%\n",
      "SI2 = -0.55 SI = -0.55 eGROI = 0.00% eROI = 0.00% eROI2 = 0.00% eROI3 = 0.00% mSpread = 0.0000%\n"
     ]
    },
    {
     "name": "stderr",
     "output_type": "stream",
     "text": [
      "0it [00:00, ?it/s]\n"
     ]
    },
    {
     "name": "stdout",
     "output_type": "stream",
     "text": [
      "count_dif_dir\n",
      "0\n",
      "percent_dif_dir\n",
      "0.0\n",
      "Epoch = 13. Time index = 1. Threshold MC = 0.55. Threshold MD = 0.95\n",
      "RD = 0 NZ = 0 NZA = 0 pNZ = 0.000% pNZA = 0.000% AD = 0.00% ADA = 0.00% NO = 1 GSP = 0.00% NSP = 0.00%\n",
      "SI2 = -0.55 SI = -0.55 eGROI = 0.00% eROI = 0.00% eROI2 = 0.00% eROI3 = 0.00% mSpread = 0.0000%\n",
      "\n"
     ]
    },
    {
     "name": "stderr",
     "output_type": "stream",
     "text": [
      "0it [00:00, ?it/s]\n"
     ]
    },
    {
     "name": "stdout",
     "output_type": "stream",
     "text": [
      "count_dif_dir\n",
      "0\n",
      "percent_dif_dir\n",
      "0.0\n",
      "Epoch = 13. Time index = 1. Threshold MC = 0.6. Threshold MD = 0.5\n",
      "RD = 48613 NZ = 92139 NZA = 149364 pNZ = 13.414% pNZA = 21.745% AD = 52.76% ADA = 32.55% NO = 1 GSP = 0.00% NSP = 0.00%\n",
      "SI2 = -0.55 SI = -0.55 eGROI = 0.00% eROI = 0.00% eROI2 = 0.00% eROI3 = 0.00% mSpread = 0.0000%\n"
     ]
    },
    {
     "name": "stderr",
     "output_type": "stream",
     "text": [
      "100%|██████████████████████████████████████████████████████████████████████████| 22574/22574 [00:10<00:00, 2015.09it/s]\n"
     ]
    },
    {
     "name": "stdout",
     "output_type": "stream",
     "text": [
      "count_dif_dir\n",
      "214\n",
      "percent_dif_dir\n",
      "3.301959574139793\n",
      "Epoch = 13. Time index = 1. Threshold MC = 0.6. Threshold MD = 0.55\n",
      "RD = 8151 NZ = 14201 NZA = 22575 pNZ = 2.067% pNZA = 3.287% AD = 57.40% ADA = 36.11% NO = 6481 GSP = 56.40% NSP = 48.14%\n",
      "SI2 = -416.55 SI = -444.55 eGROI = 55.39% eROI = -81.98% eROI2 = -74.23% eROI3 = -139.04% mSpread = 0.0212%\n"
     ]
    },
    {
     "name": "stderr",
     "output_type": "stream",
     "text": [
      "100%|████████████████████████████████████████████████████████████████████████████| 2313/2313 [00:01<00:00, 1841.98it/s]\n"
     ]
    },
    {
     "name": "stdout",
     "output_type": "stream",
     "text": [
      "count_dif_dir\n",
      "128\n",
      "percent_dif_dir\n",
      "10.893617021276595\n",
      "Epoch = 13. Time index = 1. Threshold MC = 0.6. Threshold MD = 0.6\n",
      "RD = 978 NZ = 1487 NZA = 2314 pNZ = 0.216% pNZA = 0.337% AD = 65.77% ADA = 42.26% NO = 1175 GSP = 57.53% NSP = 48.17%\n",
      "SI2 = -67.25 SI = -80.25 eGROI = 20.75% eROI = -7.16% eROI2 = -2.75% eROI3 = -14.50% mSpread = 0.0238%\n"
     ]
    },
    {
     "name": "stderr",
     "output_type": "stream",
     "text": [
      "100%|██████████████████████████████████████████████████████████████████████████████| 496/496 [00:00<00:00, 1322.59it/s]\n"
     ]
    },
    {
     "name": "stdout",
     "output_type": "stream",
     "text": [
      "count_dif_dir\n",
      "89\n",
      "percent_dif_dir\n",
      "23.98921832884097\n",
      "Epoch = 13. Time index = 1. Threshold MC = 0.6. Threshold MD = 0.65\n",
      "RD = 223 NZ = 296 NZA = 497 pNZ = 0.043% pNZA = 0.072% AD = 75.34% ADA = 44.87% NO = 371 GSP = 48.79% NSP = 36.93%\n",
      "SI2 = -58.05 SI = -67.05 eGROI = 0.09% eROI = -10.37% eROI2 = -7.33% eROI3 = -11.04% mSpread = 0.0282%\n"
     ]
    },
    {
     "name": "stderr",
     "output_type": "stream",
     "text": [
      "100%|██████████████████████████████████████████████████████████████████████████████| 129/129 [00:00<00:00, 1197.56it/s]\n"
     ]
    },
    {
     "name": "stdout",
     "output_type": "stream",
     "text": [
      "count_dif_dir\n",
      "34\n",
      "percent_dif_dir\n",
      "28.8135593220339\n",
      "Epoch = 13. Time index = 1. Threshold MC = 0.6. Threshold MD = 0.7\n",
      "RD = 67 NZ = 80 NZA = 130 pNZ = 0.012% pNZA = 0.019% AD = 83.75% ADA = 51.54% NO = 118 GSP = 50.00% NSP = 36.44%\n",
      "SI2 = -15.90 SI = -21.90 eGROI = 0.31% eROI = -2.96% eROI2 = -2.05% eROI3 = -3.23% mSpread = 0.0277%\n"
     ]
    },
    {
     "name": "stderr",
     "output_type": "stream",
     "text": [
      "100%|█████████████████████████████████████████████████████████████████████████████████| 11/11 [00:00<00:00, 918.91it/s]\n"
     ]
    },
    {
     "name": "stdout",
     "output_type": "stream",
     "text": [
      "count_dif_dir\n",
      "3\n",
      "percent_dif_dir\n",
      "25.0\n",
      "Epoch = 13. Time index = 1. Threshold MC = 0.6. Threshold MD = 0.75\n",
      "RD = 6 NZ = 7 NZA = 12 pNZ = 0.001% pNZA = 0.002% AD = 85.71% ADA = 50.00% NO = 12 GSP = 50.00% NSP = 41.67%\n",
      "SI2 = -2.60 SI = -1.60 eGROI = 0.03% eROI = -0.23% eROI2 = -0.21% eROI3 = -0.33% mSpread = 0.0217%\n"
     ]
    },
    {
     "name": "stderr",
     "output_type": "stream",
     "text": [
      "0it [00:00, ?it/s]\n"
     ]
    },
    {
     "name": "stdout",
     "output_type": "stream",
     "text": [
      "count_dif_dir\n",
      "0\n",
      "percent_dif_dir\n",
      "0.0\n",
      "Epoch = 13. Time index = 1. Threshold MC = 0.6. Threshold MD = 0.8\n",
      "RD = 0 NZ = 0 NZA = 0 pNZ = 0.000% pNZA = 0.000% AD = 0.00% ADA = 0.00% NO = 1 GSP = 0.00% NSP = 0.00%\n",
      "SI2 = -0.55 SI = -0.55 eGROI = 0.00% eROI = 0.00% eROI2 = 0.00% eROI3 = 0.00% mSpread = 0.0000%\n"
     ]
    },
    {
     "name": "stderr",
     "output_type": "stream",
     "text": [
      "0it [00:00, ?it/s]\n"
     ]
    },
    {
     "name": "stdout",
     "output_type": "stream",
     "text": [
      "count_dif_dir\n",
      "0\n",
      "percent_dif_dir\n",
      "0.0\n",
      "Epoch = 13. Time index = 1. Threshold MC = 0.6. Threshold MD = 0.85\n",
      "RD = 0 NZ = 0 NZA = 0 pNZ = 0.000% pNZA = 0.000% AD = 0.00% ADA = 0.00% NO = 1 GSP = 0.00% NSP = 0.00%\n",
      "SI2 = -0.55 SI = -0.55 eGROI = 0.00% eROI = 0.00% eROI2 = 0.00% eROI3 = 0.00% mSpread = 0.0000%\n"
     ]
    },
    {
     "name": "stderr",
     "output_type": "stream",
     "text": [
      "0it [00:00, ?it/s]\n"
     ]
    },
    {
     "name": "stdout",
     "output_type": "stream",
     "text": [
      "count_dif_dir\n",
      "0\n",
      "percent_dif_dir\n",
      "0.0\n",
      "Epoch = 13. Time index = 1. Threshold MC = 0.6. Threshold MD = 0.9\n",
      "RD = 0 NZ = 0 NZA = 0 pNZ = 0.000% pNZA = 0.000% AD = 0.00% ADA = 0.00% NO = 1 GSP = 0.00% NSP = 0.00%\n",
      "SI2 = -0.55 SI = -0.55 eGROI = 0.00% eROI = 0.00% eROI2 = 0.00% eROI3 = 0.00% mSpread = 0.0000%\n"
     ]
    },
    {
     "name": "stderr",
     "output_type": "stream",
     "text": [
      "0it [00:00, ?it/s]\n"
     ]
    },
    {
     "name": "stdout",
     "output_type": "stream",
     "text": [
      "count_dif_dir\n",
      "0\n",
      "percent_dif_dir\n",
      "0.0\n",
      "Epoch = 13. Time index = 1. Threshold MC = 0.6. Threshold MD = 0.95\n",
      "RD = 0 NZ = 0 NZA = 0 pNZ = 0.000% pNZA = 0.000% AD = 0.00% ADA = 0.00% NO = 1 GSP = 0.00% NSP = 0.00%\n",
      "SI2 = -0.55 SI = -0.55 eGROI = 0.00% eROI = 0.00% eROI2 = 0.00% eROI3 = 0.00% mSpread = 0.0000%\n",
      "\n"
     ]
    },
    {
     "name": "stderr",
     "output_type": "stream",
     "text": [
      "100%|██████████████████████████████████████████████████████████████████████████| 30293/30293 [00:07<00:00, 3936.27it/s]\n"
     ]
    },
    {
     "name": "stdout",
     "output_type": "stream",
     "text": [
      "count_dif_dir\n",
      "86\n",
      "percent_dif_dir\n",
      "2.3875624652970573\n",
      "Epoch = 13. Time index = 1. Threshold MC = 0.65. Threshold MD = 0.5\n",
      "RD = 10998 NZ = 20411 NZA = 30294 pNZ = 2.972% pNZA = 4.410% AD = 53.88% ADA = 36.30% NO = 3602 GSP = 52.69% NSP = 46.25%\n",
      "SI2 = -301.10 SI = -315.10 eGROI = 11.98% eROI = -60.74% eROI2 = -60.06% eROI3 = -96.08% mSpread = 0.0202%\n"
     ]
    },
    {
     "name": "stderr",
     "output_type": "stream",
     "text": [
      "100%|████████████████████████████████████████████████████████████████████████████| 8164/8164 [00:02<00:00, 2922.30it/s]\n"
     ]
    },
    {
     "name": "stdout",
     "output_type": "stream",
     "text": [
      "count_dif_dir\n",
      "71\n",
      "percent_dif_dir\n",
      "2.741312741312741\n",
      "Epoch = 13. Time index = 1. Threshold MC = 0.65. Threshold MD = 0.55\n",
      "RD = 3226 NZ = 5489 NZA = 8165 pNZ = 0.799% pNZA = 1.189% AD = 58.77% ADA = 39.51% NO = 2590 GSP = 55.37% NSP = 49.11%\n",
      "SI2 = -151.50 SI = -152.50 eGROI = 29.69% eROI = -22.06% eROI2 = -22.11% eROI3 = -48.01% mSpread = 0.0200%\n"
     ]
    },
    {
     "name": "stderr",
     "output_type": "stream",
     "text": [
      "100%|████████████████████████████████████████████████████████████████████████████| 1102/1102 [00:00<00:00, 2599.72it/s]\n"
     ]
    },
    {
     "name": "stdout",
     "output_type": "stream",
     "text": [
      "count_dif_dir\n",
      "45\n",
      "percent_dif_dir\n",
      "7.880910683012259\n",
      "Epoch = 13. Time index = 1. Threshold MC = 0.65. Threshold MD = 0.6\n",
      "RD = 505 NZ = 750 NZA = 1103 pNZ = 0.109% pNZA = 0.161% AD = 67.33% ADA = 45.78% NO = 571 GSP = 59.02% NSP = 51.31%\n",
      "SI2 = -17.05 SI = -21.05 eGROI = 17.09% eROI = 4.44% eROI2 = 5.67% eROI3 = -0.04% mSpread = 0.0222%\n"
     ]
    },
    {
     "name": "stderr",
     "output_type": "stream",
     "text": [
      "100%|██████████████████████████████████████████████████████████████████████████████| 232/232 [00:00<00:00, 1817.19it/s]\n"
     ]
    },
    {
     "name": "stdout",
     "output_type": "stream",
     "text": [
      "count_dif_dir\n",
      "31\n",
      "percent_dif_dir\n",
      "18.452380952380953\n",
      "Epoch = 13. Time index = 1. Threshold MC = 0.65. Threshold MD = 0.65\n",
      "RD = 119 NZ = 153 NZA = 233 pNZ = 0.022% pNZA = 0.034% AD = 77.78% ADA = 51.07% NO = 168 GSP = 57.14% NSP = 44.64%\n",
      "SI2 = -11.40 SI = -17.40 eGROI = 3.43% eROI = -1.04% eROI2 = 0.07% eROI3 = -1.61% mSpread = 0.0266%\n"
     ]
    },
    {
     "name": "stderr",
     "output_type": "stream",
     "text": [
      "100%|████████████████████████████████████████████████████████████████████████████████| 49/49 [00:00<00:00, 1198.30it/s]\n"
     ]
    },
    {
     "name": "stdout",
     "output_type": "stream",
     "text": [
      "count_dif_dir\n",
      "14\n",
      "percent_dif_dir\n",
      "29.166666666666668\n",
      "Epoch = 13. Time index = 1. Threshold MC = 0.65. Threshold MD = 0.7\n",
      "RD = 32 NZ = 34 NZA = 50 pNZ = 0.005% pNZA = 0.007% AD = 94.12% ADA = 64.00% NO = 48 GSP = 58.33% NSP = 41.67%\n",
      "SI2 = -5.40 SI = -6.40 eGROI = 0.42% eROI = -0.78% eROI2 = -0.54% eROI3 = -1.02% mSpread = 0.0248%\n"
     ]
    },
    {
     "name": "stderr",
     "output_type": "stream",
     "text": [
      "100%|███████████████████████████████████████████████████████████████████████████████████| 5/5 [00:00<00:00, 455.69it/s]\n"
     ]
    },
    {
     "name": "stdout",
     "output_type": "stream",
     "text": [
      "count_dif_dir\n",
      "2\n",
      "percent_dif_dir\n",
      "33.333333333333336\n",
      "Epoch = 13. Time index = 1. Threshold MC = 0.65. Threshold MD = 0.75\n",
      "RD = 4 NZ = 4 NZA = 6 pNZ = 0.001% pNZA = 0.001% AD = 100.00% ADA = 66.67% NO = 6 GSP = 66.67% NSP = 66.67%\n",
      "SI2 = -0.30 SI = 0.70 eGROI = 0.26% eROI = 0.11% eROI2 = 0.14% eROI3 = 0.08% mSpread = 0.0252%\n"
     ]
    },
    {
     "name": "stderr",
     "output_type": "stream",
     "text": [
      "0it [00:00, ?it/s]\n"
     ]
    },
    {
     "name": "stdout",
     "output_type": "stream",
     "text": [
      "count_dif_dir\n",
      "0\n",
      "percent_dif_dir\n",
      "0.0\n",
      "Epoch = 13. Time index = 1. Threshold MC = 0.65. Threshold MD = 0.8\n",
      "RD = 0 NZ = 0 NZA = 0 pNZ = 0.000% pNZA = 0.000% AD = 0.00% ADA = 0.00% NO = 1 GSP = 0.00% NSP = 0.00%\n",
      "SI2 = -0.55 SI = -0.55 eGROI = 0.00% eROI = 0.00% eROI2 = 0.00% eROI3 = 0.00% mSpread = 0.0000%\n"
     ]
    },
    {
     "name": "stderr",
     "output_type": "stream",
     "text": [
      "0it [00:00, ?it/s]\n"
     ]
    },
    {
     "name": "stdout",
     "output_type": "stream",
     "text": [
      "count_dif_dir\n",
      "0\n",
      "percent_dif_dir\n",
      "0.0\n",
      "Epoch = 13. Time index = 1. Threshold MC = 0.65. Threshold MD = 0.85\n",
      "RD = 0 NZ = 0 NZA = 0 pNZ = 0.000% pNZA = 0.000% AD = 0.00% ADA = 0.00% NO = 1 GSP = 0.00% NSP = 0.00%\n",
      "SI2 = -0.55 SI = -0.55 eGROI = 0.00% eROI = 0.00% eROI2 = 0.00% eROI3 = 0.00% mSpread = 0.0000%\n"
     ]
    },
    {
     "name": "stderr",
     "output_type": "stream",
     "text": [
      "0it [00:00, ?it/s]\n"
     ]
    },
    {
     "name": "stdout",
     "output_type": "stream",
     "text": [
      "count_dif_dir\n",
      "0\n",
      "percent_dif_dir\n",
      "0.0\n",
      "Epoch = 13. Time index = 1. Threshold MC = 0.65. Threshold MD = 0.9\n",
      "RD = 0 NZ = 0 NZA = 0 pNZ = 0.000% pNZA = 0.000% AD = 0.00% ADA = 0.00% NO = 1 GSP = 0.00% NSP = 0.00%\n",
      "SI2 = -0.55 SI = -0.55 eGROI = 0.00% eROI = 0.00% eROI2 = 0.00% eROI3 = 0.00% mSpread = 0.0000%\n"
     ]
    },
    {
     "name": "stderr",
     "output_type": "stream",
     "text": [
      "0it [00:00, ?it/s]\n"
     ]
    },
    {
     "name": "stdout",
     "output_type": "stream",
     "text": [
      "count_dif_dir\n",
      "0\n",
      "percent_dif_dir\n",
      "0.0\n",
      "Epoch = 13. Time index = 1. Threshold MC = 0.65. Threshold MD = 0.95\n",
      "RD = 0 NZ = 0 NZA = 0 pNZ = 0.000% pNZA = 0.000% AD = 0.00% ADA = 0.00% NO = 1 GSP = 0.00% NSP = 0.00%\n",
      "SI2 = -0.55 SI = -0.55 eGROI = 0.00% eROI = 0.00% eROI2 = 0.00% eROI3 = 0.00% mSpread = 0.0000%\n",
      "\n"
     ]
    },
    {
     "name": "stderr",
     "output_type": "stream",
     "text": [
      "100%|████████████████████████████████████████████████████████████████████████████| 6667/6667 [00:02<00:00, 3096.09it/s]\n"
     ]
    },
    {
     "name": "stdout",
     "output_type": "stream",
     "text": [
      "count_dif_dir\n",
      "35\n",
      "percent_dif_dir\n",
      "3.0120481927710845\n",
      "Epoch = 13. Time index = 1. Threshold MC = 0.7. Threshold MD = 0.5\n",
      "RD = 2586 NZ = 4816 NZA = 6668 pNZ = 0.701% pNZA = 0.971% AD = 53.70% ADA = 38.78% NO = 1162 GSP = 49.05% NSP = 43.20%\n",
      "SI2 = -135.10 SI = -137.10 eGROI = -11.56% eROI = -34.28% eROI2 = -34.80% eROI3 = -46.42% mSpread = 0.0196%\n"
     ]
    },
    {
     "name": "stderr",
     "output_type": "stream",
     "text": [
      "100%|████████████████████████████████████████████████████████████████████████████| 2338/2338 [00:00<00:00, 3052.24it/s]\n"
     ]
    },
    {
     "name": "stdout",
     "output_type": "stream",
     "text": [
      "count_dif_dir\n",
      "27\n",
      "percent_dif_dir\n",
      "3.199052132701422\n",
      "Epoch = 13. Time index = 1. Threshold MC = 0.7. Threshold MD = 0.55\n",
      "RD = 964 NZ = 1673 NZA = 2339 pNZ = 0.244% pNZA = 0.341% AD = 57.62% ADA = 41.21% NO = 844 GSP = 52.13% NSP = 46.45%\n",
      "SI2 = -73.20 SI = -72.20 eGROI = 6.43% eROI = -9.54% eROI2 = -10.45% eROI3 = -18.89% mSpread = 0.0189%\n"
     ]
    },
    {
     "name": "stderr",
     "output_type": "stream",
     "text": [
      "100%|██████████████████████████████████████████████████████████████████████████████| 422/422 [00:00<00:00, 1706.06it/s]\n"
     ]
    },
    {
     "name": "stdout",
     "output_type": "stream",
     "text": [
      "count_dif_dir\n",
      "12\n",
      "percent_dif_dir\n",
      "5.633802816901408\n",
      "Epoch = 13. Time index = 1. Threshold MC = 0.7. Threshold MD = 0.6\n",
      "RD = 178 NZ = 297 NZA = 423 pNZ = 0.043% pNZA = 0.062% AD = 59.93% ADA = 42.08% NO = 213 GSP = 56.81% NSP = 50.70%\n",
      "SI2 = -9.15 SI = -9.15 eGROI = 6.12% eROI = 1.86% eROI2 = 1.86% eROI3 = -0.27% mSpread = 0.0200%\n"
     ]
    },
    {
     "name": "stderr",
     "output_type": "stream",
     "text": [
      "100%|████████████████████████████████████████████████████████████████████████████████| 71/71 [00:00<00:00, 1294.32it/s]\n"
     ]
    },
    {
     "name": "stdout",
     "output_type": "stream",
     "text": [
      "count_dif_dir\n",
      "6\n",
      "percent_dif_dir\n",
      "12.0\n",
      "Epoch = 13. Time index = 1. Threshold MC = 0.7. Threshold MD = 0.65\n",
      "RD = 32 NZ = 50 NZA = 72 pNZ = 0.007% pNZA = 0.010% AD = 64.00% ADA = 44.44% NO = 50 GSP = 52.00% NSP = 44.00%\n",
      "SI2 = -2.50 SI = -5.50 eGROI = 0.38% eROI = -0.98% eROI2 = -0.62% eROI3 = -1.12% mSpread = 0.0272%\n"
     ]
    },
    {
     "name": "stderr",
     "output_type": "stream",
     "text": [
      "100%|█████████████████████████████████████████████████████████████████████████████████| 11/11 [00:00<00:00, 689.32it/s]\n"
     ]
    },
    {
     "name": "stdout",
     "output_type": "stream",
     "text": [
      "count_dif_dir\n",
      "2\n",
      "percent_dif_dir\n",
      "18.181818181818183\n",
      "Epoch = 13. Time index = 1. Threshold MC = 0.7. Threshold MD = 0.7\n",
      "RD = 7 NZ = 9 NZA = 12 pNZ = 0.001% pNZA = 0.002% AD = 77.78% ADA = 58.33% NO = 11 GSP = 63.64% NSP = 54.55%\n",
      "SI2 = -0.05 SI = -0.05 eGROI = -0.05% eROI = -0.26% eROI2 = -0.27% eROI3 = -0.38% mSpread = 0.0192%\n"
     ]
    },
    {
     "name": "stderr",
     "output_type": "stream",
     "text": [
      "0it [00:00, ?it/s]\n"
     ]
    },
    {
     "name": "stdout",
     "output_type": "stream",
     "text": [
      "count_dif_dir\n",
      "0\n",
      "percent_dif_dir\n",
      "0.0\n",
      "Epoch = 13. Time index = 1. Threshold MC = 0.7. Threshold MD = 0.75\n",
      "RD = 1 NZ = 1 NZA = 1 pNZ = 0.000% pNZA = 0.000% AD = 100.00% ADA = 100.00% NO = 1 GSP = 100.00% NSP = 100.00%\n",
      "SI2 = -0.55 SI = 0.45 eGROI = 0.08% eROI = 0.06% eROI2 = 0.06% eROI3 = 0.05% mSpread = 0.0215%\n"
     ]
    },
    {
     "name": "stderr",
     "output_type": "stream",
     "text": [
      "0it [00:00, ?it/s]\n"
     ]
    },
    {
     "name": "stdout",
     "output_type": "stream",
     "text": [
      "count_dif_dir\n",
      "0\n",
      "percent_dif_dir\n",
      "0.0\n",
      "Epoch = 13. Time index = 1. Threshold MC = 0.7. Threshold MD = 0.8\n",
      "RD = 0 NZ = 0 NZA = 0 pNZ = 0.000% pNZA = 0.000% AD = 0.00% ADA = 0.00% NO = 1 GSP = 0.00% NSP = 0.00%\n",
      "SI2 = -0.55 SI = -0.55 eGROI = 0.00% eROI = 0.00% eROI2 = 0.00% eROI3 = 0.00% mSpread = 0.0000%\n"
     ]
    },
    {
     "name": "stderr",
     "output_type": "stream",
     "text": [
      "0it [00:00, ?it/s]\n"
     ]
    },
    {
     "name": "stdout",
     "output_type": "stream",
     "text": [
      "count_dif_dir\n",
      "0\n",
      "percent_dif_dir\n",
      "0.0\n",
      "Epoch = 13. Time index = 1. Threshold MC = 0.7. Threshold MD = 0.85\n",
      "RD = 0 NZ = 0 NZA = 0 pNZ = 0.000% pNZA = 0.000% AD = 0.00% ADA = 0.00% NO = 1 GSP = 0.00% NSP = 0.00%\n",
      "SI2 = -0.55 SI = -0.55 eGROI = 0.00% eROI = 0.00% eROI2 = 0.00% eROI3 = 0.00% mSpread = 0.0000%\n"
     ]
    },
    {
     "name": "stderr",
     "output_type": "stream",
     "text": [
      "0it [00:00, ?it/s]\n"
     ]
    },
    {
     "name": "stdout",
     "output_type": "stream",
     "text": [
      "count_dif_dir\n",
      "0\n",
      "percent_dif_dir\n",
      "0.0\n",
      "Epoch = 13. Time index = 1. Threshold MC = 0.7. Threshold MD = 0.9\n",
      "RD = 0 NZ = 0 NZA = 0 pNZ = 0.000% pNZA = 0.000% AD = 0.00% ADA = 0.00% NO = 1 GSP = 0.00% NSP = 0.00%\n",
      "SI2 = -0.55 SI = -0.55 eGROI = 0.00% eROI = 0.00% eROI2 = 0.00% eROI3 = 0.00% mSpread = 0.0000%\n"
     ]
    },
    {
     "name": "stderr",
     "output_type": "stream",
     "text": [
      "0it [00:00, ?it/s]\n"
     ]
    },
    {
     "name": "stdout",
     "output_type": "stream",
     "text": [
      "count_dif_dir\n",
      "0\n",
      "percent_dif_dir\n",
      "0.0\n",
      "Epoch = 13. Time index = 1. Threshold MC = 0.7. Threshold MD = 0.95\n",
      "RD = 0 NZ = 0 NZA = 0 pNZ = 0.000% pNZA = 0.000% AD = 0.00% ADA = 0.00% NO = 1 GSP = 0.00% NSP = 0.00%\n",
      "SI2 = -0.55 SI = -0.55 eGROI = 0.00% eROI = 0.00% eROI2 = 0.00% eROI3 = 0.00% mSpread = 0.0000%\n",
      "\n"
     ]
    },
    {
     "name": "stderr",
     "output_type": "stream",
     "text": [
      "100%|████████████████████████████████████████████████████████████████████████████| 1191/1191 [00:00<00:00, 2816.32it/s]\n"
     ]
    },
    {
     "name": "stdout",
     "output_type": "stream",
     "text": [
      "count_dif_dir\n",
      "8\n",
      "percent_dif_dir\n",
      "2.1164021164021163\n",
      "Epoch = 13. Time index = 1. Threshold MC = 0.75. Threshold MD = 0.5\n",
      "RD = 500 NZ = 888 NZA = 1192 pNZ = 0.129% pNZA = 0.174% AD = 56.31% ADA = 41.95% NO = 378 GSP = 52.65% NSP = 48.94%\n",
      "SI2 = -19.90 SI = -22.90 eGROI = 1.35% eROI = -5.90% eROI2 = -6.21% eROI3 = -9.99% mSpread = 0.0192%\n"
     ]
    },
    {
     "name": "stderr",
     "output_type": "stream",
     "text": [
      "100%|██████████████████████████████████████████████████████████████████████████████| 457/457 [00:00<00:00, 1328.11it/s]\n"
     ]
    },
    {
     "name": "stdout",
     "output_type": "stream",
     "text": [
      "count_dif_dir\n",
      "9\n",
      "percent_dif_dir\n",
      "3.7974683544303796\n",
      "Epoch = 13. Time index = 1. Threshold MC = 0.75. Threshold MD = 0.55\n",
      "RD = 201 NZ = 345 NZA = 458 pNZ = 0.050% pNZA = 0.067% AD = 58.26% ADA = 43.89% NO = 237 GSP = 48.95% NSP = 45.57%\n",
      "SI2 = -23.35 SI = -22.35 eGROI = 2.64% eROI = -1.86% eROI2 = -2.10% eROI3 = -4.47% mSpread = 0.0190%\n"
     ]
    },
    {
     "name": "stderr",
     "output_type": "stream",
     "text": [
      "100%|████████████████████████████████████████████████████████████████████████████████| 87/87 [00:00<00:00, 1453.83it/s]\n"
     ]
    },
    {
     "name": "stdout",
     "output_type": "stream",
     "text": [
      "count_dif_dir\n",
      "3\n",
      "percent_dif_dir\n",
      "5.357142857142857\n",
      "Epoch = 13. Time index = 1. Threshold MC = 0.75. Threshold MD = 0.6\n",
      "RD = 42 NZ = 66 NZA = 88 pNZ = 0.010% pNZA = 0.013% AD = 63.64% ADA = 47.73% NO = 56 GSP = 57.14% NSP = 53.57%\n",
      "SI2 = 0.20 SI = -0.80 eGROI = 2.45% eROI = 1.24% eROI2 = 1.33% eROI3 = 0.77% mSpread = 0.0216%\n"
     ]
    },
    {
     "name": "stderr",
     "output_type": "stream",
     "text": [
      "100%|████████████████████████████████████████████████████████████████████████████████| 20/20 [00:00<00:00, 1253.23it/s]\n"
     ]
    },
    {
     "name": "stdout",
     "output_type": "stream",
     "text": [
      "count_dif_dir\n",
      "1\n",
      "percent_dif_dir\n",
      "5.882352941176471\n",
      "Epoch = 13. Time index = 1. Threshold MC = 0.75. Threshold MD = 0.65\n",
      "RD = 9 NZ = 16 NZA = 21 pNZ = 0.002% pNZA = 0.003% AD = 56.25% ADA = 42.86% NO = 17 GSP = 52.94% NSP = 41.18%\n",
      "SI2 = -1.35 SI = -2.35 eGROI = -0.28% eROI = -0.83% eROI2 = -0.62% eROI3 = -0.79% mSpread = 0.0324%\n"
     ]
    },
    {
     "name": "stderr",
     "output_type": "stream",
     "text": [
      "100%|███████████████████████████████████████████████████████████████████████████████████| 3/3 [00:00<00:00, 751.53it/s]\n"
     ]
    },
    {
     "name": "stdout",
     "output_type": "stream",
     "text": [
      "count_dif_dir\n",
      "1\n",
      "percent_dif_dir\n",
      "25.0\n",
      "Epoch = 13. Time index = 1. Threshold MC = 0.75. Threshold MD = 0.7\n",
      "RD = 3 NZ = 4 NZA = 4 pNZ = 0.001% pNZA = 0.001% AD = 75.00% ADA = 75.00% NO = 4 GSP = 50.00% NSP = 50.00%\n",
      "SI2 = -0.20 SI = -0.20 eGROI = -0.19% eROI = -0.30% eROI2 = -0.27% eROI3 = -0.31% mSpread = 0.0265%\n"
     ]
    },
    {
     "name": "stderr",
     "output_type": "stream",
     "text": [
      "0it [00:00, ?it/s]\n"
     ]
    },
    {
     "name": "stdout",
     "output_type": "stream",
     "text": [
      "count_dif_dir\n",
      "0\n",
      "percent_dif_dir\n",
      "0.0\n",
      "Epoch = 13. Time index = 1. Threshold MC = 0.75. Threshold MD = 0.75\n",
      "RD = 0 NZ = 0 NZA = 0 pNZ = 0.000% pNZA = 0.000% AD = 0.00% ADA = 0.00% NO = 1 GSP = 0.00% NSP = 0.00%\n",
      "SI2 = -0.55 SI = -0.55 eGROI = 0.00% eROI = 0.00% eROI2 = 0.00% eROI3 = 0.00% mSpread = 0.0000%\n"
     ]
    },
    {
     "name": "stderr",
     "output_type": "stream",
     "text": [
      "0it [00:00, ?it/s]\n"
     ]
    },
    {
     "name": "stdout",
     "output_type": "stream",
     "text": [
      "count_dif_dir\n",
      "0\n",
      "percent_dif_dir\n",
      "0.0\n",
      "Epoch = 13. Time index = 1. Threshold MC = 0.75. Threshold MD = 0.8\n",
      "RD = 0 NZ = 0 NZA = 0 pNZ = 0.000% pNZA = 0.000% AD = 0.00% ADA = 0.00% NO = 1 GSP = 0.00% NSP = 0.00%\n",
      "SI2 = -0.55 SI = -0.55 eGROI = 0.00% eROI = 0.00% eROI2 = 0.00% eROI3 = 0.00% mSpread = 0.0000%\n"
     ]
    },
    {
     "name": "stderr",
     "output_type": "stream",
     "text": [
      "0it [00:00, ?it/s]\n"
     ]
    },
    {
     "name": "stdout",
     "output_type": "stream",
     "text": [
      "count_dif_dir\n",
      "0\n",
      "percent_dif_dir\n",
      "0.0\n",
      "Epoch = 13. Time index = 1. Threshold MC = 0.75. Threshold MD = 0.85\n",
      "RD = 0 NZ = 0 NZA = 0 pNZ = 0.000% pNZA = 0.000% AD = 0.00% ADA = 0.00% NO = 1 GSP = 0.00% NSP = 0.00%\n",
      "SI2 = -0.55 SI = -0.55 eGROI = 0.00% eROI = 0.00% eROI2 = 0.00% eROI3 = 0.00% mSpread = 0.0000%\n"
     ]
    },
    {
     "name": "stderr",
     "output_type": "stream",
     "text": [
      "0it [00:00, ?it/s]\n"
     ]
    },
    {
     "name": "stdout",
     "output_type": "stream",
     "text": [
      "count_dif_dir\n",
      "0\n",
      "percent_dif_dir\n",
      "0.0\n",
      "Epoch = 13. Time index = 1. Threshold MC = 0.75. Threshold MD = 0.9\n",
      "RD = 0 NZ = 0 NZA = 0 pNZ = 0.000% pNZA = 0.000% AD = 0.00% ADA = 0.00% NO = 1 GSP = 0.00% NSP = 0.00%\n",
      "SI2 = -0.55 SI = -0.55 eGROI = 0.00% eROI = 0.00% eROI2 = 0.00% eROI3 = 0.00% mSpread = 0.0000%\n"
     ]
    },
    {
     "name": "stderr",
     "output_type": "stream",
     "text": [
      "0it [00:00, ?it/s]\n"
     ]
    },
    {
     "name": "stdout",
     "output_type": "stream",
     "text": [
      "count_dif_dir\n",
      "0\n",
      "percent_dif_dir\n",
      "0.0\n",
      "Epoch = 13. Time index = 1. Threshold MC = 0.75. Threshold MD = 0.95\n",
      "RD = 0 NZ = 0 NZA = 0 pNZ = 0.000% pNZA = 0.000% AD = 0.00% ADA = 0.00% NO = 1 GSP = 0.00% NSP = 0.00%\n",
      "SI2 = -0.55 SI = -0.55 eGROI = 0.00% eROI = 0.00% eROI2 = 0.00% eROI3 = 0.00% mSpread = 0.0000%\n",
      "\n"
     ]
    },
    {
     "name": "stderr",
     "output_type": "stream",
     "text": [
      "100%|██████████████████████████████████████████████████████████████████████████████| 127/127 [00:00<00:00, 1480.69it/s]\n"
     ]
    },
    {
     "name": "stdout",
     "output_type": "stream",
     "text": [
      "count_dif_dir\n",
      "2\n",
      "percent_dif_dir\n",
      "2.6666666666666665\n",
      "Epoch = 13. Time index = 1. Threshold MC = 0.8. Threshold MD = 0.5\n",
      "RD = 60 NZ = 92 NZA = 128 pNZ = 0.013% pNZA = 0.019% AD = 65.22% ADA = 46.88% NO = 75 GSP = 60.00% NSP = 54.67%\n",
      "SI2 = -1.25 SI = -0.25 eGROI = 5.07% eROI = 3.74% eROI2 = 3.57% eROI3 = 2.82% mSpread = 0.0177%\n"
     ]
    },
    {
     "name": "stderr",
     "output_type": "stream",
     "text": [
      "100%|████████████████████████████████████████████████████████████████████████████████| 49/49 [00:00<00:00, 1169.73it/s]\n"
     ]
    },
    {
     "name": "stdout",
     "output_type": "stream",
     "text": [
      "count_dif_dir\n",
      "1\n",
      "percent_dif_dir\n",
      "2.7777777777777777\n",
      "Epoch = 13. Time index = 1. Threshold MC = 0.8. Threshold MD = 0.55\n",
      "RD = 27 NZ = 37 NZA = 50 pNZ = 0.005% pNZA = 0.007% AD = 72.97% ADA = 54.00% NO = 36 GSP = 61.11% NSP = 55.56%\n",
      "SI2 = -0.80 SI = 0.20 eGROI = 2.15% eROI = 1.45% eROI2 = 1.43% eROI3 = 1.07% mSpread = 0.0195%\n"
     ]
    },
    {
     "name": "stderr",
     "output_type": "stream",
     "text": [
      "100%|████████████████████████████████████████████████████████████████████████████████| 13/13 [00:00<00:00, 1184.14it/s]\n"
     ]
    },
    {
     "name": "stdout",
     "output_type": "stream",
     "text": [
      "count_dif_dir\n",
      "1\n",
      "percent_dif_dir\n",
      "11.11111111111111\n",
      "Epoch = 13. Time index = 1. Threshold MC = 0.8. Threshold MD = 0.6\n",
      "RD = 10 NZ = 11 NZA = 14 pNZ = 0.002% pNZA = 0.002% AD = 90.91% ADA = 71.43% NO = 9 GSP = 55.56% NSP = 55.56%\n",
      "SI2 = 0.05 SI = 0.05 eGROI = 0.94% eROI = 0.78% eROI2 = 0.76% eROI3 = 0.67% mSpread = 0.0178%\n"
     ]
    },
    {
     "name": "stderr",
     "output_type": "stream",
     "text": [
      "100%|██████████████████████████████████████████████████████████████████████████████████| 2/2 [00:00<00:00, 1003.30it/s]\n"
     ]
    },
    {
     "name": "stdout",
     "output_type": "stream",
     "text": [
      "count_dif_dir\n",
      "0\n",
      "percent_dif_dir\n",
      "0.0\n",
      "Epoch = 13. Time index = 1. Threshold MC = 0.8. Threshold MD = 0.65\n",
      "RD = 1 NZ = 1 NZA = 3 pNZ = 0.000% pNZA = 0.000% AD = 100.00% ADA = 33.33% NO = 2 GSP = 50.00% NSP = 50.00%\n",
      "SI2 = -0.10 SI = -0.10 eGROI = 0.02% eROI = -0.05% eROI2 = -0.02% eROI3 = -0.04% mSpread = 0.0353%\n"
     ]
    },
    {
     "name": "stderr",
     "output_type": "stream",
     "text": [
      "0it [00:00, ?it/s]\n"
     ]
    },
    {
     "name": "stdout",
     "output_type": "stream",
     "text": [
      "count_dif_dir\n",
      "0\n",
      "percent_dif_dir\n",
      "0.0\n",
      "Epoch = 13. Time index = 1. Threshold MC = 0.8. Threshold MD = 0.7\n",
      "RD = 0 NZ = 0 NZA = 0 pNZ = 0.000% pNZA = 0.000% AD = 0.00% ADA = 0.00% NO = 1 GSP = 0.00% NSP = 0.00%\n",
      "SI2 = -0.55 SI = -0.55 eGROI = 0.00% eROI = 0.00% eROI2 = 0.00% eROI3 = 0.00% mSpread = 0.0000%\n"
     ]
    },
    {
     "name": "stderr",
     "output_type": "stream",
     "text": [
      "0it [00:00, ?it/s]\n"
     ]
    },
    {
     "name": "stdout",
     "output_type": "stream",
     "text": [
      "count_dif_dir\n",
      "0\n",
      "percent_dif_dir\n",
      "0.0\n",
      "Epoch = 13. Time index = 1. Threshold MC = 0.8. Threshold MD = 0.75\n",
      "RD = 0 NZ = 0 NZA = 0 pNZ = 0.000% pNZA = 0.000% AD = 0.00% ADA = 0.00% NO = 1 GSP = 0.00% NSP = 0.00%\n",
      "SI2 = -0.55 SI = -0.55 eGROI = 0.00% eROI = 0.00% eROI2 = 0.00% eROI3 = 0.00% mSpread = 0.0000%\n"
     ]
    },
    {
     "name": "stderr",
     "output_type": "stream",
     "text": [
      "0it [00:00, ?it/s]\n"
     ]
    },
    {
     "name": "stdout",
     "output_type": "stream",
     "text": [
      "count_dif_dir\n",
      "0\n",
      "percent_dif_dir\n",
      "0.0\n",
      "Epoch = 13. Time index = 1. Threshold MC = 0.8. Threshold MD = 0.8\n",
      "RD = 0 NZ = 0 NZA = 0 pNZ = 0.000% pNZA = 0.000% AD = 0.00% ADA = 0.00% NO = 1 GSP = 0.00% NSP = 0.00%\n",
      "SI2 = -0.55 SI = -0.55 eGROI = 0.00% eROI = 0.00% eROI2 = 0.00% eROI3 = 0.00% mSpread = 0.0000%\n"
     ]
    },
    {
     "name": "stderr",
     "output_type": "stream",
     "text": [
      "0it [00:00, ?it/s]\n"
     ]
    },
    {
     "name": "stdout",
     "output_type": "stream",
     "text": [
      "count_dif_dir\n",
      "0\n",
      "percent_dif_dir\n",
      "0.0\n",
      "Epoch = 13. Time index = 1. Threshold MC = 0.8. Threshold MD = 0.85\n",
      "RD = 0 NZ = 0 NZA = 0 pNZ = 0.000% pNZA = 0.000% AD = 0.00% ADA = 0.00% NO = 1 GSP = 0.00% NSP = 0.00%\n",
      "SI2 = -0.55 SI = -0.55 eGROI = 0.00% eROI = 0.00% eROI2 = 0.00% eROI3 = 0.00% mSpread = 0.0000%\n"
     ]
    },
    {
     "name": "stderr",
     "output_type": "stream",
     "text": [
      "0it [00:00, ?it/s]\n"
     ]
    },
    {
     "name": "stdout",
     "output_type": "stream",
     "text": [
      "count_dif_dir\n",
      "0\n",
      "percent_dif_dir\n",
      "0.0\n",
      "Epoch = 13. Time index = 1. Threshold MC = 0.8. Threshold MD = 0.9\n",
      "RD = 0 NZ = 0 NZA = 0 pNZ = 0.000% pNZA = 0.000% AD = 0.00% ADA = 0.00% NO = 1 GSP = 0.00% NSP = 0.00%\n",
      "SI2 = -0.55 SI = -0.55 eGROI = 0.00% eROI = 0.00% eROI2 = 0.00% eROI3 = 0.00% mSpread = 0.0000%\n"
     ]
    },
    {
     "name": "stderr",
     "output_type": "stream",
     "text": [
      "0it [00:00, ?it/s]\n"
     ]
    },
    {
     "name": "stdout",
     "output_type": "stream",
     "text": [
      "count_dif_dir\n",
      "0\n",
      "percent_dif_dir\n",
      "0.0\n",
      "Epoch = 13. Time index = 1. Threshold MC = 0.8. Threshold MD = 0.95\n",
      "RD = 0 NZ = 0 NZA = 0 pNZ = 0.000% pNZA = 0.000% AD = 0.00% ADA = 0.00% NO = 1 GSP = 0.00% NSP = 0.00%\n",
      "SI2 = -0.55 SI = -0.55 eGROI = 0.00% eROI = 0.00% eROI2 = 0.00% eROI3 = 0.00% mSpread = 0.0000%\n",
      "\n"
     ]
    },
    {
     "name": "stderr",
     "output_type": "stream",
     "text": [
      "0it [00:00, ?it/s]\n"
     ]
    },
    {
     "name": "stdout",
     "output_type": "stream",
     "text": [
      "count_dif_dir\n",
      "0\n",
      "percent_dif_dir\n",
      "0.0\n",
      "Epoch = 13. Time index = 1. Threshold MC = 0.85. Threshold MD = 0.5\n",
      "RD = 0 NZ = 0 NZA = 0 pNZ = 0.000% pNZA = 0.000% AD = 0.00% ADA = 0.00% NO = 1 GSP = 0.00% NSP = 0.00%\n",
      "SI2 = -0.55 SI = -0.55 eGROI = 0.00% eROI = 0.00% eROI2 = 0.00% eROI3 = 0.00% mSpread = 0.0000%\n"
     ]
    },
    {
     "name": "stderr",
     "output_type": "stream",
     "text": [
      "0it [00:00, ?it/s]\n"
     ]
    },
    {
     "name": "stdout",
     "output_type": "stream",
     "text": [
      "count_dif_dir\n",
      "0\n",
      "percent_dif_dir\n",
      "0.0\n",
      "Epoch = 13. Time index = 1. Threshold MC = 0.85. Threshold MD = 0.55\n",
      "RD = 0 NZ = 0 NZA = 0 pNZ = 0.000% pNZA = 0.000% AD = 0.00% ADA = 0.00% NO = 1 GSP = 0.00% NSP = 0.00%\n",
      "SI2 = -0.55 SI = -0.55 eGROI = 0.00% eROI = 0.00% eROI2 = 0.00% eROI3 = 0.00% mSpread = 0.0000%\n"
     ]
    },
    {
     "name": "stderr",
     "output_type": "stream",
     "text": [
      "0it [00:00, ?it/s]\n"
     ]
    },
    {
     "name": "stdout",
     "output_type": "stream",
     "text": [
      "count_dif_dir\n",
      "0\n",
      "percent_dif_dir\n",
      "0.0\n",
      "Epoch = 13. Time index = 1. Threshold MC = 0.85. Threshold MD = 0.6\n",
      "RD = 0 NZ = 0 NZA = 0 pNZ = 0.000% pNZA = 0.000% AD = 0.00% ADA = 0.00% NO = 1 GSP = 0.00% NSP = 0.00%\n",
      "SI2 = -0.55 SI = -0.55 eGROI = 0.00% eROI = 0.00% eROI2 = 0.00% eROI3 = 0.00% mSpread = 0.0000%\n"
     ]
    },
    {
     "name": "stderr",
     "output_type": "stream",
     "text": [
      "0it [00:00, ?it/s]\n"
     ]
    },
    {
     "name": "stdout",
     "output_type": "stream",
     "text": [
      "count_dif_dir\n",
      "0\n",
      "percent_dif_dir\n",
      "0.0\n",
      "Epoch = 13. Time index = 1. Threshold MC = 0.85. Threshold MD = 0.65\n",
      "RD = 0 NZ = 0 NZA = 0 pNZ = 0.000% pNZA = 0.000% AD = 0.00% ADA = 0.00% NO = 1 GSP = 0.00% NSP = 0.00%\n",
      "SI2 = -0.55 SI = -0.55 eGROI = 0.00% eROI = 0.00% eROI2 = 0.00% eROI3 = 0.00% mSpread = 0.0000%\n"
     ]
    },
    {
     "name": "stderr",
     "output_type": "stream",
     "text": [
      "0it [00:00, ?it/s]\n"
     ]
    },
    {
     "name": "stdout",
     "output_type": "stream",
     "text": [
      "count_dif_dir\n",
      "0\n",
      "percent_dif_dir\n",
      "0.0\n",
      "Epoch = 13. Time index = 1. Threshold MC = 0.85. Threshold MD = 0.7\n",
      "RD = 0 NZ = 0 NZA = 0 pNZ = 0.000% pNZA = 0.000% AD = 0.00% ADA = 0.00% NO = 1 GSP = 0.00% NSP = 0.00%\n",
      "SI2 = -0.55 SI = -0.55 eGROI = 0.00% eROI = 0.00% eROI2 = 0.00% eROI3 = 0.00% mSpread = 0.0000%\n"
     ]
    },
    {
     "name": "stderr",
     "output_type": "stream",
     "text": [
      "0it [00:00, ?it/s]\n"
     ]
    },
    {
     "name": "stdout",
     "output_type": "stream",
     "text": [
      "count_dif_dir\n",
      "0\n",
      "percent_dif_dir\n",
      "0.0\n",
      "Epoch = 13. Time index = 1. Threshold MC = 0.85. Threshold MD = 0.75\n",
      "RD = 0 NZ = 0 NZA = 0 pNZ = 0.000% pNZA = 0.000% AD = 0.00% ADA = 0.00% NO = 1 GSP = 0.00% NSP = 0.00%\n",
      "SI2 = -0.55 SI = -0.55 eGROI = 0.00% eROI = 0.00% eROI2 = 0.00% eROI3 = 0.00% mSpread = 0.0000%\n"
     ]
    },
    {
     "name": "stderr",
     "output_type": "stream",
     "text": [
      "0it [00:00, ?it/s]\n"
     ]
    },
    {
     "name": "stdout",
     "output_type": "stream",
     "text": [
      "count_dif_dir\n",
      "0\n",
      "percent_dif_dir\n",
      "0.0\n",
      "Epoch = 13. Time index = 1. Threshold MC = 0.85. Threshold MD = 0.8\n",
      "RD = 0 NZ = 0 NZA = 0 pNZ = 0.000% pNZA = 0.000% AD = 0.00% ADA = 0.00% NO = 1 GSP = 0.00% NSP = 0.00%\n",
      "SI2 = -0.55 SI = -0.55 eGROI = 0.00% eROI = 0.00% eROI2 = 0.00% eROI3 = 0.00% mSpread = 0.0000%\n"
     ]
    },
    {
     "name": "stderr",
     "output_type": "stream",
     "text": [
      "0it [00:00, ?it/s]\n"
     ]
    },
    {
     "name": "stdout",
     "output_type": "stream",
     "text": [
      "count_dif_dir\n",
      "0\n",
      "percent_dif_dir\n",
      "0.0\n",
      "Epoch = 13. Time index = 1. Threshold MC = 0.85. Threshold MD = 0.85\n",
      "RD = 0 NZ = 0 NZA = 0 pNZ = 0.000% pNZA = 0.000% AD = 0.00% ADA = 0.00% NO = 1 GSP = 0.00% NSP = 0.00%\n",
      "SI2 = -0.55 SI = -0.55 eGROI = 0.00% eROI = 0.00% eROI2 = 0.00% eROI3 = 0.00% mSpread = 0.0000%\n"
     ]
    },
    {
     "name": "stderr",
     "output_type": "stream",
     "text": [
      "0it [00:00, ?it/s]\n"
     ]
    },
    {
     "name": "stdout",
     "output_type": "stream",
     "text": [
      "count_dif_dir\n",
      "0\n",
      "percent_dif_dir\n",
      "0.0\n",
      "Epoch = 13. Time index = 1. Threshold MC = 0.85. Threshold MD = 0.9\n",
      "RD = 0 NZ = 0 NZA = 0 pNZ = 0.000% pNZA = 0.000% AD = 0.00% ADA = 0.00% NO = 1 GSP = 0.00% NSP = 0.00%\n",
      "SI2 = -0.55 SI = -0.55 eGROI = 0.00% eROI = 0.00% eROI2 = 0.00% eROI3 = 0.00% mSpread = 0.0000%\n"
     ]
    },
    {
     "name": "stderr",
     "output_type": "stream",
     "text": [
      "0it [00:00, ?it/s]\n"
     ]
    },
    {
     "name": "stdout",
     "output_type": "stream",
     "text": [
      "count_dif_dir\n",
      "0\n",
      "percent_dif_dir\n",
      "0.0\n",
      "Epoch = 13. Time index = 1. Threshold MC = 0.85. Threshold MD = 0.95\n",
      "RD = 0 NZ = 0 NZA = 0 pNZ = 0.000% pNZA = 0.000% AD = 0.00% ADA = 0.00% NO = 1 GSP = 0.00% NSP = 0.00%\n",
      "SI2 = -0.55 SI = -0.55 eGROI = 0.00% eROI = 0.00% eROI2 = 0.00% eROI3 = 0.00% mSpread = 0.0000%\n",
      "\n"
     ]
    },
    {
     "name": "stderr",
     "output_type": "stream",
     "text": [
      "0it [00:00, ?it/s]\n"
     ]
    },
    {
     "name": "stdout",
     "output_type": "stream",
     "text": [
      "count_dif_dir\n",
      "0\n",
      "percent_dif_dir\n",
      "0.0\n",
      "Epoch = 13. Time index = 1. Threshold MC = 0.9. Threshold MD = 0.5\n",
      "RD = 0 NZ = 0 NZA = 0 pNZ = 0.000% pNZA = 0.000% AD = 0.00% ADA = 0.00% NO = 1 GSP = 0.00% NSP = 0.00%\n",
      "SI2 = -0.55 SI = -0.55 eGROI = 0.00% eROI = 0.00% eROI2 = 0.00% eROI3 = 0.00% mSpread = 0.0000%\n"
     ]
    },
    {
     "name": "stderr",
     "output_type": "stream",
     "text": [
      "0it [00:00, ?it/s]\n"
     ]
    },
    {
     "name": "stdout",
     "output_type": "stream",
     "text": [
      "count_dif_dir\n",
      "0\n",
      "percent_dif_dir\n",
      "0.0\n",
      "Epoch = 13. Time index = 1. Threshold MC = 0.9. Threshold MD = 0.55\n",
      "RD = 0 NZ = 0 NZA = 0 pNZ = 0.000% pNZA = 0.000% AD = 0.00% ADA = 0.00% NO = 1 GSP = 0.00% NSP = 0.00%\n",
      "SI2 = -0.55 SI = -0.55 eGROI = 0.00% eROI = 0.00% eROI2 = 0.00% eROI3 = 0.00% mSpread = 0.0000%\n"
     ]
    },
    {
     "name": "stderr",
     "output_type": "stream",
     "text": [
      "0it [00:00, ?it/s]\n"
     ]
    },
    {
     "name": "stdout",
     "output_type": "stream",
     "text": [
      "count_dif_dir\n",
      "0\n",
      "percent_dif_dir\n",
      "0.0\n",
      "Epoch = 13. Time index = 1. Threshold MC = 0.9. Threshold MD = 0.6\n",
      "RD = 0 NZ = 0 NZA = 0 pNZ = 0.000% pNZA = 0.000% AD = 0.00% ADA = 0.00% NO = 1 GSP = 0.00% NSP = 0.00%\n",
      "SI2 = -0.55 SI = -0.55 eGROI = 0.00% eROI = 0.00% eROI2 = 0.00% eROI3 = 0.00% mSpread = 0.0000%\n"
     ]
    },
    {
     "name": "stderr",
     "output_type": "stream",
     "text": [
      "0it [00:00, ?it/s]\n"
     ]
    },
    {
     "name": "stdout",
     "output_type": "stream",
     "text": [
      "count_dif_dir\n",
      "0\n",
      "percent_dif_dir\n",
      "0.0\n",
      "Epoch = 13. Time index = 1. Threshold MC = 0.9. Threshold MD = 0.65\n",
      "RD = 0 NZ = 0 NZA = 0 pNZ = 0.000% pNZA = 0.000% AD = 0.00% ADA = 0.00% NO = 1 GSP = 0.00% NSP = 0.00%\n",
      "SI2 = -0.55 SI = -0.55 eGROI = 0.00% eROI = 0.00% eROI2 = 0.00% eROI3 = 0.00% mSpread = 0.0000%\n"
     ]
    },
    {
     "name": "stderr",
     "output_type": "stream",
     "text": [
      "0it [00:00, ?it/s]\n"
     ]
    },
    {
     "name": "stdout",
     "output_type": "stream",
     "text": [
      "count_dif_dir\n",
      "0\n",
      "percent_dif_dir\n",
      "0.0\n",
      "Epoch = 13. Time index = 1. Threshold MC = 0.9. Threshold MD = 0.7\n",
      "RD = 0 NZ = 0 NZA = 0 pNZ = 0.000% pNZA = 0.000% AD = 0.00% ADA = 0.00% NO = 1 GSP = 0.00% NSP = 0.00%\n",
      "SI2 = -0.55 SI = -0.55 eGROI = 0.00% eROI = 0.00% eROI2 = 0.00% eROI3 = 0.00% mSpread = 0.0000%\n"
     ]
    },
    {
     "name": "stderr",
     "output_type": "stream",
     "text": [
      "0it [00:00, ?it/s]\n"
     ]
    },
    {
     "name": "stdout",
     "output_type": "stream",
     "text": [
      "count_dif_dir\n",
      "0\n",
      "percent_dif_dir\n",
      "0.0\n",
      "Epoch = 13. Time index = 1. Threshold MC = 0.9. Threshold MD = 0.75\n",
      "RD = 0 NZ = 0 NZA = 0 pNZ = 0.000% pNZA = 0.000% AD = 0.00% ADA = 0.00% NO = 1 GSP = 0.00% NSP = 0.00%\n",
      "SI2 = -0.55 SI = -0.55 eGROI = 0.00% eROI = 0.00% eROI2 = 0.00% eROI3 = 0.00% mSpread = 0.0000%\n"
     ]
    },
    {
     "name": "stderr",
     "output_type": "stream",
     "text": [
      "0it [00:00, ?it/s]\n"
     ]
    },
    {
     "name": "stdout",
     "output_type": "stream",
     "text": [
      "count_dif_dir\n",
      "0\n",
      "percent_dif_dir\n",
      "0.0\n",
      "Epoch = 13. Time index = 1. Threshold MC = 0.9. Threshold MD = 0.8\n",
      "RD = 0 NZ = 0 NZA = 0 pNZ = 0.000% pNZA = 0.000% AD = 0.00% ADA = 0.00% NO = 1 GSP = 0.00% NSP = 0.00%\n",
      "SI2 = -0.55 SI = -0.55 eGROI = 0.00% eROI = 0.00% eROI2 = 0.00% eROI3 = 0.00% mSpread = 0.0000%\n"
     ]
    },
    {
     "name": "stderr",
     "output_type": "stream",
     "text": [
      "0it [00:00, ?it/s]\n"
     ]
    },
    {
     "name": "stdout",
     "output_type": "stream",
     "text": [
      "count_dif_dir\n",
      "0\n",
      "percent_dif_dir\n",
      "0.0\n",
      "Epoch = 13. Time index = 1. Threshold MC = 0.9. Threshold MD = 0.85\n",
      "RD = 0 NZ = 0 NZA = 0 pNZ = 0.000% pNZA = 0.000% AD = 0.00% ADA = 0.00% NO = 1 GSP = 0.00% NSP = 0.00%\n",
      "SI2 = -0.55 SI = -0.55 eGROI = 0.00% eROI = 0.00% eROI2 = 0.00% eROI3 = 0.00% mSpread = 0.0000%\n"
     ]
    },
    {
     "name": "stderr",
     "output_type": "stream",
     "text": [
      "0it [00:00, ?it/s]\n"
     ]
    },
    {
     "name": "stdout",
     "output_type": "stream",
     "text": [
      "count_dif_dir\n",
      "0\n",
      "percent_dif_dir\n",
      "0.0\n",
      "Epoch = 13. Time index = 1. Threshold MC = 0.9. Threshold MD = 0.9\n",
      "RD = 0 NZ = 0 NZA = 0 pNZ = 0.000% pNZA = 0.000% AD = 0.00% ADA = 0.00% NO = 1 GSP = 0.00% NSP = 0.00%\n",
      "SI2 = -0.55 SI = -0.55 eGROI = 0.00% eROI = 0.00% eROI2 = 0.00% eROI3 = 0.00% mSpread = 0.0000%\n"
     ]
    },
    {
     "name": "stderr",
     "output_type": "stream",
     "text": [
      "0it [00:00, ?it/s]\n"
     ]
    },
    {
     "name": "stdout",
     "output_type": "stream",
     "text": [
      "count_dif_dir\n",
      "0\n",
      "percent_dif_dir\n",
      "0.0\n",
      "Epoch = 13. Time index = 1. Threshold MC = 0.9. Threshold MD = 0.95\n",
      "RD = 0 NZ = 0 NZA = 0 pNZ = 0.000% pNZA = 0.000% AD = 0.00% ADA = 0.00% NO = 1 GSP = 0.00% NSP = 0.00%\n",
      "SI2 = -0.55 SI = -0.55 eGROI = 0.00% eROI = 0.00% eROI2 = 0.00% eROI3 = 0.00% mSpread = 0.0000%\n",
      "\n"
     ]
    },
    {
     "name": "stderr",
     "output_type": "stream",
     "text": [
      "0it [00:00, ?it/s]\n"
     ]
    },
    {
     "name": "stdout",
     "output_type": "stream",
     "text": [
      "count_dif_dir\n",
      "0\n",
      "percent_dif_dir\n",
      "0.0\n",
      "Epoch = 13. Time index = 1. Threshold MC = 0.95. Threshold MD = 0.5\n",
      "RD = 0 NZ = 0 NZA = 0 pNZ = 0.000% pNZA = 0.000% AD = 0.00% ADA = 0.00% NO = 1 GSP = 0.00% NSP = 0.00%\n",
      "SI2 = -0.55 SI = -0.55 eGROI = 0.00% eROI = 0.00% eROI2 = 0.00% eROI3 = 0.00% mSpread = 0.0000%\n"
     ]
    },
    {
     "name": "stderr",
     "output_type": "stream",
     "text": [
      "0it [00:00, ?it/s]\n"
     ]
    },
    {
     "name": "stdout",
     "output_type": "stream",
     "text": [
      "count_dif_dir\n",
      "0\n",
      "percent_dif_dir\n",
      "0.0\n",
      "Epoch = 13. Time index = 1. Threshold MC = 0.95. Threshold MD = 0.55\n",
      "RD = 0 NZ = 0 NZA = 0 pNZ = 0.000% pNZA = 0.000% AD = 0.00% ADA = 0.00% NO = 1 GSP = 0.00% NSP = 0.00%\n",
      "SI2 = -0.55 SI = -0.55 eGROI = 0.00% eROI = 0.00% eROI2 = 0.00% eROI3 = 0.00% mSpread = 0.0000%\n"
     ]
    },
    {
     "name": "stderr",
     "output_type": "stream",
     "text": [
      "0it [00:00, ?it/s]\n"
     ]
    },
    {
     "name": "stdout",
     "output_type": "stream",
     "text": [
      "count_dif_dir\n",
      "0\n",
      "percent_dif_dir\n",
      "0.0\n",
      "Epoch = 13. Time index = 1. Threshold MC = 0.95. Threshold MD = 0.6\n",
      "RD = 0 NZ = 0 NZA = 0 pNZ = 0.000% pNZA = 0.000% AD = 0.00% ADA = 0.00% NO = 1 GSP = 0.00% NSP = 0.00%\n",
      "SI2 = -0.55 SI = -0.55 eGROI = 0.00% eROI = 0.00% eROI2 = 0.00% eROI3 = 0.00% mSpread = 0.0000%\n"
     ]
    },
    {
     "name": "stderr",
     "output_type": "stream",
     "text": [
      "0it [00:00, ?it/s]\n"
     ]
    },
    {
     "name": "stdout",
     "output_type": "stream",
     "text": [
      "count_dif_dir\n",
      "0\n",
      "percent_dif_dir\n",
      "0.0\n",
      "Epoch = 13. Time index = 1. Threshold MC = 0.95. Threshold MD = 0.65\n",
      "RD = 0 NZ = 0 NZA = 0 pNZ = 0.000% pNZA = 0.000% AD = 0.00% ADA = 0.00% NO = 1 GSP = 0.00% NSP = 0.00%\n",
      "SI2 = -0.55 SI = -0.55 eGROI = 0.00% eROI = 0.00% eROI2 = 0.00% eROI3 = 0.00% mSpread = 0.0000%\n"
     ]
    },
    {
     "name": "stderr",
     "output_type": "stream",
     "text": [
      "0it [00:00, ?it/s]\n"
     ]
    },
    {
     "name": "stdout",
     "output_type": "stream",
     "text": [
      "count_dif_dir\n",
      "0\n",
      "percent_dif_dir\n",
      "0.0\n",
      "Epoch = 13. Time index = 1. Threshold MC = 0.95. Threshold MD = 0.7\n",
      "RD = 0 NZ = 0 NZA = 0 pNZ = 0.000% pNZA = 0.000% AD = 0.00% ADA = 0.00% NO = 1 GSP = 0.00% NSP = 0.00%\n",
      "SI2 = -0.55 SI = -0.55 eGROI = 0.00% eROI = 0.00% eROI2 = 0.00% eROI3 = 0.00% mSpread = 0.0000%\n"
     ]
    },
    {
     "name": "stderr",
     "output_type": "stream",
     "text": [
      "0it [00:00, ?it/s]\n"
     ]
    },
    {
     "name": "stdout",
     "output_type": "stream",
     "text": [
      "count_dif_dir\n",
      "0\n",
      "percent_dif_dir\n",
      "0.0\n",
      "Epoch = 13. Time index = 1. Threshold MC = 0.95. Threshold MD = 0.75\n",
      "RD = 0 NZ = 0 NZA = 0 pNZ = 0.000% pNZA = 0.000% AD = 0.00% ADA = 0.00% NO = 1 GSP = 0.00% NSP = 0.00%\n",
      "SI2 = -0.55 SI = -0.55 eGROI = 0.00% eROI = 0.00% eROI2 = 0.00% eROI3 = 0.00% mSpread = 0.0000%\n"
     ]
    },
    {
     "name": "stderr",
     "output_type": "stream",
     "text": [
      "0it [00:00, ?it/s]\n"
     ]
    },
    {
     "name": "stdout",
     "output_type": "stream",
     "text": [
      "count_dif_dir\n",
      "0\n",
      "percent_dif_dir\n",
      "0.0\n",
      "Epoch = 13. Time index = 1. Threshold MC = 0.95. Threshold MD = 0.8\n",
      "RD = 0 NZ = 0 NZA = 0 pNZ = 0.000% pNZA = 0.000% AD = 0.00% ADA = 0.00% NO = 1 GSP = 0.00% NSP = 0.00%\n",
      "SI2 = -0.55 SI = -0.55 eGROI = 0.00% eROI = 0.00% eROI2 = 0.00% eROI3 = 0.00% mSpread = 0.0000%\n"
     ]
    },
    {
     "name": "stderr",
     "output_type": "stream",
     "text": [
      "0it [00:00, ?it/s]\n"
     ]
    },
    {
     "name": "stdout",
     "output_type": "stream",
     "text": [
      "count_dif_dir\n",
      "0\n",
      "percent_dif_dir\n",
      "0.0\n",
      "Epoch = 13. Time index = 1. Threshold MC = 0.95. Threshold MD = 0.85\n",
      "RD = 0 NZ = 0 NZA = 0 pNZ = 0.000% pNZA = 0.000% AD = 0.00% ADA = 0.00% NO = 1 GSP = 0.00% NSP = 0.00%\n",
      "SI2 = -0.55 SI = -0.55 eGROI = 0.00% eROI = 0.00% eROI2 = 0.00% eROI3 = 0.00% mSpread = 0.0000%\n"
     ]
    },
    {
     "name": "stderr",
     "output_type": "stream",
     "text": [
      "0it [00:00, ?it/s]\n"
     ]
    },
    {
     "name": "stdout",
     "output_type": "stream",
     "text": [
      "count_dif_dir\n",
      "0\n",
      "percent_dif_dir\n",
      "0.0\n",
      "Epoch = 13. Time index = 1. Threshold MC = 0.95. Threshold MD = 0.9\n",
      "RD = 0 NZ = 0 NZA = 0 pNZ = 0.000% pNZA = 0.000% AD = 0.00% ADA = 0.00% NO = 1 GSP = 0.00% NSP = 0.00%\n",
      "SI2 = -0.55 SI = -0.55 eGROI = 0.00% eROI = 0.00% eROI2 = 0.00% eROI3 = 0.00% mSpread = 0.0000%\n"
     ]
    },
    {
     "name": "stderr",
     "output_type": "stream",
     "text": [
      "0it [00:00, ?it/s]\n"
     ]
    },
    {
     "name": "stdout",
     "output_type": "stream",
     "text": [
      "count_dif_dir\n",
      "0\n",
      "percent_dif_dir\n",
      "0.0\n",
      "Epoch = 13. Time index = 1. Threshold MC = 0.95. Threshold MD = 0.95\n",
      "RD = 0 NZ = 0 NZA = 0 pNZ = 0.000% pNZA = 0.000% AD = 0.00% ADA = 0.00% NO = 1 GSP = 0.00% NSP = 0.00%\n",
      "SI2 = -0.55 SI = -0.55 eGROI = 0.00% eROI = 0.00% eROI2 = 0.00% eROI3 = 0.00% mSpread = 0.0000%\n",
      "\n"
     ]
    },
    {
     "name": "stderr",
     "output_type": "stream",
     "text": [
      "0it [00:00, ?it/s]\n"
     ]
    },
    {
     "name": "stdout",
     "output_type": "stream",
     "text": [
      "count_dif_dir\n",
      "0\n",
      "percent_dif_dir\n",
      "0.0\n",
      "Epoch = 13. Time index = 2. Threshold MC = 0.5. Threshold MD = 0.5\n",
      "J_test = 6.392173324312482, J_train = 6.560549366499607, Accuracy=0.5364823549965059\n",
      "RD = 166648 NZ = 321666 NZA = 618640 pNZ = 46.830% pNZA = 90.065% AD = 51.81% ADA = 26.94% NO = 1 GSP = 0.00% NSP = 0.00%\n",
      "SI2 = -0.55 SI = -0.55 eGROI = 0.00% eROI = 0.00% eROI2 = 0.00% eROI3 = 0.00% mSpread = 0.0000%\n"
     ]
    },
    {
     "name": "stderr",
     "output_type": "stream",
     "text": [
      "100%|██████████████████████████████████████████████████████████████████████████| 56776/56776 [00:13<00:00, 4170.62it/s]\n"
     ]
    },
    {
     "name": "stdout",
     "output_type": "stream",
     "text": [
      "count_dif_dir\n",
      "320\n",
      "percent_dif_dir\n",
      "2.669336002669336\n",
      "Epoch = 13. Time index = 2. Threshold MC = 0.5. Threshold MD = 0.55\n",
      "RD = 16945 NZ = 29823 NZA = 56777 pNZ = 4.342% pNZA = 8.266% AD = 56.82% ADA = 29.84% NO = 11988 GSP = 55.83% NSP = 46.01%\n",
      "SI2 = -931.40 SI = -1077.40 eGROI = 80.26% eROI = -184.49% eROI2 = -159.50% eROI3 = -279.38% mSpread = 0.0221%\n"
     ]
    },
    {
     "name": "stderr",
     "output_type": "stream",
     "text": [
      "100%|████████████████████████████████████████████████████████████████████████████| 7549/7549 [00:02<00:00, 2965.64it/s]\n"
     ]
    },
    {
     "name": "stdout",
     "output_type": "stream",
     "text": [
      "count_dif_dir\n",
      "292\n",
      "percent_dif_dir\n",
      "9.959072305593452\n",
      "Epoch = 13. Time index = 2. Threshold MC = 0.5. Threshold MD = 0.6\n",
      "RD = 2470 NZ = 3838 NZA = 7550 pNZ = 0.559% pNZA = 1.099% AD = 64.36% ADA = 32.72% NO = 2932 GSP = 54.23% NSP = 42.53%\n",
      "SI2 = -301.60 SI = -365.60 eGROI = 27.66% eROI = -42.54% eROI2 = -30.98% eROI3 = -60.30% mSpread = 0.0239%\n"
     ]
    },
    {
     "name": "stderr",
     "output_type": "stream",
     "text": [
      "100%|████████████████████████████████████████████████████████████████████████████| 1699/1699 [00:00<00:00, 1964.77it/s]\n"
     ]
    },
    {
     "name": "stdout",
     "output_type": "stream",
     "text": [
      "count_dif_dir\n",
      "206\n",
      "percent_dif_dir\n",
      "20.47713717693837\n",
      "Epoch = 13. Time index = 2. Threshold MC = 0.5. Threshold MD = 0.65\n",
      "RD = 595 NZ = 839 NZA = 1700 pNZ = 0.122% pNZA = 0.247% AD = 70.92% ADA = 35.00% NO = 1006 GSP = 49.80% NSP = 35.49%\n",
      "SI2 = -166.30 SI = -196.30 eGROI = 2.14% eROI = -24.69% eROI2 = -17.98% eROI3 = -28.04% mSpread = 0.0267%\n"
     ]
    },
    {
     "name": "stderr",
     "output_type": "stream",
     "text": [
      "100%|██████████████████████████████████████████████████████████████████████████████| 390/390 [00:00<00:00, 1343.72it/s]\n"
     ]
    },
    {
     "name": "stdout",
     "output_type": "stream",
     "text": [
      "count_dif_dir\n",
      "80\n",
      "percent_dif_dir\n",
      "26.143790849673202\n",
      "Epoch = 13. Time index = 2. Threshold MC = 0.5. Threshold MD = 0.7\n",
      "RD = 151 NZ = 196 NZA = 391 pNZ = 0.029% pNZA = 0.057% AD = 77.04% ADA = 38.62% NO = 306 GSP = 46.73% NSP = 32.35%\n",
      "SI2 = -61.30 SI = -69.30 eGROI = -2.71% eROI = -11.56% eROI2 = -8.83% eROI3 = -11.89% mSpread = 0.0289%\n"
     ]
    },
    {
     "name": "stderr",
     "output_type": "stream",
     "text": [
      "100%|████████████████████████████████████████████████████████████████████████████████| 44/44 [00:00<00:00, 1260.41it/s]\n"
     ]
    },
    {
     "name": "stdout",
     "output_type": "stream",
     "text": [
      "count_dif_dir\n",
      "7\n",
      "percent_dif_dir\n",
      "17.5\n",
      "Epoch = 13. Time index = 2. Threshold MC = 0.5. Threshold MD = 0.75\n",
      "RD = 20 NZ = 29 NZA = 45 pNZ = 0.004% pNZA = 0.007% AD = 68.97% ADA = 44.44% NO = 40 GSP = 55.00% NSP = 47.50%\n",
      "SI2 = -3.00 SI = -3.00 eGROI = 0.27% eROI = -0.68% eROI2 = -0.53% eROI3 = -0.93% mSpread = 0.0238%\n"
     ]
    },
    {
     "name": "stderr",
     "output_type": "stream",
     "text": [
      "0it [00:00, ?it/s]\n"
     ]
    },
    {
     "name": "stdout",
     "output_type": "stream",
     "text": [
      "count_dif_dir\n",
      "1\n",
      "percent_dif_dir\n",
      "100.0\n",
      "Epoch = 13. Time index = 2. Threshold MC = 0.5. Threshold MD = 0.8\n",
      "RD = 0 NZ = 0 NZA = 1 pNZ = 0.000% pNZA = 0.000% AD = 0.00% ADA = 0.00% NO = 1 GSP = 0.00% NSP = 0.00%\n",
      "SI2 = -0.55 SI = -0.55 eGROI = -0.09% eROI = -0.11% eROI2 = -0.11% eROI3 = -0.12% mSpread = 0.0245%\n"
     ]
    },
    {
     "name": "stderr",
     "output_type": "stream",
     "text": [
      "0it [00:00, ?it/s]\n"
     ]
    },
    {
     "name": "stdout",
     "output_type": "stream",
     "text": [
      "count_dif_dir\n",
      "0\n",
      "percent_dif_dir\n",
      "0.0\n",
      "Epoch = 13. Time index = 2. Threshold MC = 0.5. Threshold MD = 0.85\n",
      "RD = 0 NZ = 0 NZA = 0 pNZ = 0.000% pNZA = 0.000% AD = 0.00% ADA = 0.00% NO = 1 GSP = 0.00% NSP = 0.00%\n",
      "SI2 = -0.55 SI = -0.55 eGROI = 0.00% eROI = 0.00% eROI2 = 0.00% eROI3 = 0.00% mSpread = 0.0000%\n"
     ]
    },
    {
     "name": "stderr",
     "output_type": "stream",
     "text": [
      "0it [00:00, ?it/s]\n"
     ]
    },
    {
     "name": "stdout",
     "output_type": "stream",
     "text": [
      "count_dif_dir\n",
      "0\n",
      "percent_dif_dir\n",
      "0.0\n",
      "Epoch = 13. Time index = 2. Threshold MC = 0.5. Threshold MD = 0.9\n",
      "RD = 0 NZ = 0 NZA = 0 pNZ = 0.000% pNZA = 0.000% AD = 0.00% ADA = 0.00% NO = 1 GSP = 0.00% NSP = 0.00%\n",
      "SI2 = -0.55 SI = -0.55 eGROI = 0.00% eROI = 0.00% eROI2 = 0.00% eROI3 = 0.00% mSpread = 0.0000%\n"
     ]
    },
    {
     "name": "stderr",
     "output_type": "stream",
     "text": [
      "0it [00:00, ?it/s]\n"
     ]
    },
    {
     "name": "stdout",
     "output_type": "stream",
     "text": [
      "count_dif_dir\n",
      "0\n",
      "percent_dif_dir\n",
      "0.0\n",
      "Epoch = 13. Time index = 2. Threshold MC = 0.5. Threshold MD = 0.95\n",
      "RD = 0 NZ = 0 NZA = 0 pNZ = 0.000% pNZA = 0.000% AD = 0.00% ADA = 0.00% NO = 1 GSP = 0.00% NSP = 0.00%\n",
      "SI2 = -0.55 SI = -0.55 eGROI = 0.00% eROI = 0.00% eROI2 = 0.00% eROI3 = 0.00% mSpread = 0.0000%\n",
      "\n"
     ]
    },
    {
     "name": "stderr",
     "output_type": "stream",
     "text": [
      "0it [00:00, ?it/s]\n"
     ]
    },
    {
     "name": "stdout",
     "output_type": "stream",
     "text": [
      "count_dif_dir\n",
      "0\n",
      "percent_dif_dir\n",
      "0.0\n",
      "Epoch = 13. Time index = 2. Threshold MC = 0.55. Threshold MD = 0.5\n",
      "RD = 126761 NZ = 244493 NZA = 440443 pNZ = 35.595% pNZA = 64.122% AD = 51.85% ADA = 28.78% NO = 1 GSP = 0.00% NSP = 0.00%\n",
      "SI2 = -0.55 SI = -0.55 eGROI = 0.00% eROI = 0.00% eROI2 = 0.00% eROI3 = 0.00% mSpread = 0.0000%\n"
     ]
    },
    {
     "name": "stderr",
     "output_type": "stream",
     "text": [
      "100%|██████████████████████████████████████████████████████████████████████████| 41421/41421 [00:11<00:00, 3690.38it/s]\n"
     ]
    },
    {
     "name": "stdout",
     "output_type": "stream",
     "text": [
      "count_dif_dir\n",
      "366\n",
      "percent_dif_dir\n",
      "3.6494166915943764\n",
      "Epoch = 13. Time index = 2. Threshold MC = 0.55. Threshold MD = 0.55\n",
      "RD = 13498 NZ = 23836 NZA = 41422 pNZ = 3.470% pNZA = 6.030% AD = 56.63% ADA = 32.59% NO = 10029 GSP = 55.36% NSP = 45.75%\n",
      "SI2 = -820.95 SI = -927.95 eGROI = 58.27% eROI = -162.64% eROI2 = -142.31% eROI3 = -242.60% mSpread = 0.0220%\n"
     ]
    },
    {
     "name": "stderr",
     "output_type": "stream",
     "text": [
      "100%|████████████████████████████████████████████████████████████████████████████| 4994/4994 [00:01<00:00, 3016.32it/s]\n"
     ]
    },
    {
     "name": "stdout",
     "output_type": "stream",
     "text": [
      "count_dif_dir\n",
      "222\n",
      "percent_dif_dir\n",
      "10.335195530726256\n",
      "Epoch = 13. Time index = 2. Threshold MC = 0.55. Threshold MD = 0.6\n",
      "RD = 1851 NZ = 2875 NZA = 4995 pNZ = 0.419% pNZA = 0.727% AD = 64.38% ADA = 37.06% NO = 2148 GSP = 55.35% NSP = 44.32%\n",
      "SI2 = -176.40 SI = -229.40 eGROI = 25.15% eROI = -26.33% eROI2 = -17.81% eROI3 = -39.29% mSpread = 0.0240%\n"
     ]
    },
    {
     "name": "stderr",
     "output_type": "stream",
     "text": [
      "100%|████████████████████████████████████████████████████████████████████████████| 1219/1219 [00:00<00:00, 1685.79it/s]\n"
     ]
    },
    {
     "name": "stdout",
     "output_type": "stream",
     "text": [
      "count_dif_dir\n",
      "164\n",
      "percent_dif_dir\n",
      "21.721854304635762\n",
      "Epoch = 13. Time index = 2. Threshold MC = 0.55. Threshold MD = 0.65\n",
      "RD = 449 NZ = 640 NZA = 1220 pNZ = 0.093% pNZA = 0.178% AD = 70.16% ADA = 36.80% NO = 755 GSP = 49.40% NSP = 34.83%\n",
      "SI2 = -131.25 SI = -152.25 eGROI = -0.31% eROI = -20.95% eROI2 = -15.41% eROI3 = -22.96% mSpread = 0.0273%\n"
     ]
    },
    {
     "name": "stderr",
     "output_type": "stream",
     "text": [
      "100%|██████████████████████████████████████████████████████████████████████████████| 322/322 [00:00<00:00, 1855.44it/s]\n"
     ]
    },
    {
     "name": "stdout",
     "output_type": "stream",
     "text": [
      "count_dif_dir\n",
      "71\n",
      "percent_dif_dir\n",
      "27.626459143968873\n",
      "Epoch = 13. Time index = 2. Threshold MC = 0.55. Threshold MD = 0.7\n",
      "RD = 133 NZ = 170 NZA = 323 pNZ = 0.025% pNZA = 0.047% AD = 78.24% ADA = 41.18% NO = 257 GSP = 45.53% NSP = 32.68%\n",
      "SI2 = -51.35 SI = -57.35 eGROI = -2.48% eROI = -10.13% eROI2 = -7.62% eROI3 = -10.19% mSpread = 0.0298%\n"
     ]
    },
    {
     "name": "stderr",
     "output_type": "stream",
     "text": [
      "100%|████████████████████████████████████████████████████████████████████████████████| 38/38 [00:00<00:00, 1411.14it/s]\n"
     ]
    },
    {
     "name": "stdout",
     "output_type": "stream",
     "text": [
      "count_dif_dir\n",
      "7\n",
      "percent_dif_dir\n",
      "20.0\n",
      "Epoch = 13. Time index = 2. Threshold MC = 0.55. Threshold MD = 0.75\n",
      "RD = 18 NZ = 24 NZA = 39 pNZ = 0.003% pNZA = 0.006% AD = 75.00% ADA = 46.15% NO = 35 GSP = 60.00% NSP = 51.43%\n",
      "SI2 = -1.25 SI = -1.25 eGROI = 0.72% eROI = -0.12% eROI2 = 0.02% eROI3 = -0.33% mSpread = 0.0240%\n"
     ]
    },
    {
     "name": "stderr",
     "output_type": "stream",
     "text": [
      "0it [00:00, ?it/s]\n"
     ]
    },
    {
     "name": "stdout",
     "output_type": "stream",
     "text": [
      "count_dif_dir\n",
      "1\n",
      "percent_dif_dir\n",
      "100.0\n",
      "Epoch = 13. Time index = 2. Threshold MC = 0.55. Threshold MD = 0.8\n",
      "RD = 0 NZ = 0 NZA = 1 pNZ = 0.000% pNZA = 0.000% AD = 0.00% ADA = 0.00% NO = 1 GSP = 0.00% NSP = 0.00%\n",
      "SI2 = -0.55 SI = -0.55 eGROI = -0.09% eROI = -0.11% eROI2 = -0.11% eROI3 = -0.12% mSpread = 0.0245%\n"
     ]
    },
    {
     "name": "stderr",
     "output_type": "stream",
     "text": [
      "0it [00:00, ?it/s]\n"
     ]
    },
    {
     "name": "stdout",
     "output_type": "stream",
     "text": [
      "count_dif_dir\n",
      "0\n",
      "percent_dif_dir\n",
      "0.0\n",
      "Epoch = 13. Time index = 2. Threshold MC = 0.55. Threshold MD = 0.85\n",
      "RD = 0 NZ = 0 NZA = 0 pNZ = 0.000% pNZA = 0.000% AD = 0.00% ADA = 0.00% NO = 1 GSP = 0.00% NSP = 0.00%\n",
      "SI2 = -0.55 SI = -0.55 eGROI = 0.00% eROI = 0.00% eROI2 = 0.00% eROI3 = 0.00% mSpread = 0.0000%\n"
     ]
    },
    {
     "name": "stderr",
     "output_type": "stream",
     "text": [
      "0it [00:00, ?it/s]\n"
     ]
    },
    {
     "name": "stdout",
     "output_type": "stream",
     "text": [
      "count_dif_dir\n",
      "0\n",
      "percent_dif_dir\n",
      "0.0\n",
      "Epoch = 13. Time index = 2. Threshold MC = 0.55. Threshold MD = 0.9\n",
      "RD = 0 NZ = 0 NZA = 0 pNZ = 0.000% pNZA = 0.000% AD = 0.00% ADA = 0.00% NO = 1 GSP = 0.00% NSP = 0.00%\n",
      "SI2 = -0.55 SI = -0.55 eGROI = 0.00% eROI = 0.00% eROI2 = 0.00% eROI3 = 0.00% mSpread = 0.0000%\n"
     ]
    },
    {
     "name": "stderr",
     "output_type": "stream",
     "text": [
      "0it [00:00, ?it/s]\n"
     ]
    },
    {
     "name": "stdout",
     "output_type": "stream",
     "text": [
      "count_dif_dir\n",
      "0\n",
      "percent_dif_dir\n",
      "0.0\n",
      "Epoch = 13. Time index = 2. Threshold MC = 0.55. Threshold MD = 0.95\n",
      "RD = 0 NZ = 0 NZA = 0 pNZ = 0.000% pNZA = 0.000% AD = 0.00% ADA = 0.00% NO = 1 GSP = 0.00% NSP = 0.00%\n",
      "SI2 = -0.55 SI = -0.55 eGROI = 0.00% eROI = 0.00% eROI2 = 0.00% eROI3 = 0.00% mSpread = 0.0000%\n",
      "\n"
     ]
    },
    {
     "name": "stderr",
     "output_type": "stream",
     "text": [
      "0it [00:00, ?it/s]\n"
     ]
    },
    {
     "name": "stdout",
     "output_type": "stream",
     "text": [
      "count_dif_dir\n",
      "0\n",
      "percent_dif_dir\n",
      "0.0\n",
      "Epoch = 13. Time index = 2. Threshold MC = 0.6. Threshold MD = 0.5\n",
      "RD = 48635 NZ = 92678 NZA = 150792 pNZ = 13.493% pNZA = 21.953% AD = 52.48% ADA = 32.25% NO = 1 GSP = 0.00% NSP = 0.00%\n",
      "SI2 = -0.55 SI = -0.55 eGROI = 0.00% eROI = 0.00% eROI2 = 0.00% eROI3 = 0.00% mSpread = 0.0000%\n"
     ]
    },
    {
     "name": "stderr",
     "output_type": "stream",
     "text": [
      "100%|██████████████████████████████████████████████████████████████████████████| 25143/25143 [00:07<00:00, 3440.76it/s]\n"
     ]
    },
    {
     "name": "stdout",
     "output_type": "stream",
     "text": [
      "count_dif_dir\n",
      "209\n",
      "percent_dif_dir\n",
      "3.2153846153846155\n",
      "Epoch = 13. Time index = 2. Threshold MC = 0.6. Threshold MD = 0.55\n",
      "RD = 8920 NZ = 15680 NZA = 25144 pNZ = 2.283% pNZA = 3.661% AD = 56.89% ADA = 35.48% NO = 6500 GSP = 56.35% NSP = 48.25%\n",
      "SI2 = -424.00 SI = -439.00 eGROI = 50.85% eROI = -86.50% eROI2 = -79.15% eROI3 = -144.15% mSpread = 0.0211%\n"
     ]
    },
    {
     "name": "stderr",
     "output_type": "stream",
     "text": [
      "100%|████████████████████████████████████████████████████████████████████████████| 3058/3058 [00:00<00:00, 3193.77it/s]\n"
     ]
    },
    {
     "name": "stdout",
     "output_type": "stream",
     "text": [
      "count_dif_dir\n",
      "135\n",
      "percent_dif_dir\n",
      "9.796806966618288\n",
      "Epoch = 13. Time index = 2. Threshold MC = 0.6. Threshold MD = 0.6\n",
      "RD = 1298 NZ = 1966 NZA = 3059 pNZ = 0.286% pNZA = 0.445% AD = 66.02% ADA = 42.43% NO = 1378 GSP = 58.35% NSP = 48.69%\n",
      "SI2 = -62.90 SI = -86.90 eGROI = 27.30% eROI = -4.63% eROI2 = -0.26% eROI3 = -14.04% mSpread = 0.0232%\n"
     ]
    },
    {
     "name": "stderr",
     "output_type": "stream",
     "text": [
      "100%|██████████████████████████████████████████████████████████████████████████████| 694/694 [00:00<00:00, 1709.66it/s]\n"
     ]
    },
    {
     "name": "stdout",
     "output_type": "stream",
     "text": [
      "count_dif_dir\n",
      "102\n",
      "percent_dif_dir\n",
      "23.12925170068027\n",
      "Epoch = 13. Time index = 2. Threshold MC = 0.6. Threshold MD = 0.65\n",
      "RD = 303 NZ = 411 NZA = 695 pNZ = 0.060% pNZA = 0.101% AD = 73.72% ADA = 43.60% NO = 441 GSP = 49.66% NSP = 36.51%\n",
      "SI2 = -68.55 SI = -81.55 eGROI = 0.77% eROI = -11.80% eROI2 = -8.05% eROI3 = -12.46% mSpread = 0.0285%\n"
     ]
    },
    {
     "name": "stderr",
     "output_type": "stream",
     "text": [
      "100%|██████████████████████████████████████████████████████████████████████████████| 210/210 [00:00<00:00, 1725.94it/s]\n"
     ]
    },
    {
     "name": "stdout",
     "output_type": "stream",
     "text": [
      "count_dif_dir\n",
      "50\n",
      "percent_dif_dir\n",
      "28.90173410404624\n",
      "Epoch = 13. Time index = 2. Threshold MC = 0.6. Threshold MD = 0.7\n",
      "RD = 107 NZ = 131 NZA = 211 pNZ = 0.019% pNZA = 0.031% AD = 81.68% ADA = 50.71% NO = 173 GSP = 47.98% NSP = 34.68%\n",
      "SI2 = -28.15 SI = -35.15 eGROI = -0.91% eROI = -6.34% eROI2 = -4.37% eROI3 = -6.10% mSpread = 0.0314%\n"
     ]
    },
    {
     "name": "stderr",
     "output_type": "stream",
     "text": [
      "100%|████████████████████████████████████████████████████████████████████████████████| 32/32 [00:00<00:00, 1069.48it/s]\n"
     ]
    },
    {
     "name": "stdout",
     "output_type": "stream",
     "text": [
      "count_dif_dir\n",
      "6\n",
      "percent_dif_dir\n",
      "20.689655172413794\n",
      "Epoch = 13. Time index = 2. Threshold MC = 0.6. Threshold MD = 0.75\n",
      "RD = 16 NZ = 22 NZA = 33 pNZ = 0.003% pNZA = 0.005% AD = 72.73% ADA = 48.48% NO = 29 GSP = 58.62% NSP = 48.28%\n",
      "SI2 = -0.95 SI = -1.95 eGROI = 0.55% eROI = -0.21% eROI2 = -0.03% eROI3 = -0.32% mSpread = 0.0263%\n"
     ]
    },
    {
     "name": "stderr",
     "output_type": "stream",
     "text": [
      "0it [00:00, ?it/s]\n"
     ]
    },
    {
     "name": "stdout",
     "output_type": "stream",
     "text": [
      "count_dif_dir\n",
      "1\n",
      "percent_dif_dir\n",
      "100.0\n",
      "Epoch = 13. Time index = 2. Threshold MC = 0.6. Threshold MD = 0.8\n",
      "RD = 0 NZ = 0 NZA = 1 pNZ = 0.000% pNZA = 0.000% AD = 0.00% ADA = 0.00% NO = 1 GSP = 0.00% NSP = 0.00%\n",
      "SI2 = -0.55 SI = -0.55 eGROI = -0.09% eROI = -0.11% eROI2 = -0.11% eROI3 = -0.12% mSpread = 0.0245%\n"
     ]
    },
    {
     "name": "stderr",
     "output_type": "stream",
     "text": [
      "0it [00:00, ?it/s]\n"
     ]
    },
    {
     "name": "stdout",
     "output_type": "stream",
     "text": [
      "count_dif_dir\n",
      "0\n",
      "percent_dif_dir\n",
      "0.0\n",
      "Epoch = 13. Time index = 2. Threshold MC = 0.6. Threshold MD = 0.85\n",
      "RD = 0 NZ = 0 NZA = 0 pNZ = 0.000% pNZA = 0.000% AD = 0.00% ADA = 0.00% NO = 1 GSP = 0.00% NSP = 0.00%\n",
      "SI2 = -0.55 SI = -0.55 eGROI = 0.00% eROI = 0.00% eROI2 = 0.00% eROI3 = 0.00% mSpread = 0.0000%\n"
     ]
    },
    {
     "name": "stderr",
     "output_type": "stream",
     "text": [
      "0it [00:00, ?it/s]\n"
     ]
    },
    {
     "name": "stdout",
     "output_type": "stream",
     "text": [
      "count_dif_dir\n",
      "0\n",
      "percent_dif_dir\n",
      "0.0\n",
      "Epoch = 13. Time index = 2. Threshold MC = 0.6. Threshold MD = 0.9\n",
      "RD = 0 NZ = 0 NZA = 0 pNZ = 0.000% pNZA = 0.000% AD = 0.00% ADA = 0.00% NO = 1 GSP = 0.00% NSP = 0.00%\n",
      "SI2 = -0.55 SI = -0.55 eGROI = 0.00% eROI = 0.00% eROI2 = 0.00% eROI3 = 0.00% mSpread = 0.0000%\n"
     ]
    },
    {
     "name": "stderr",
     "output_type": "stream",
     "text": [
      "0it [00:00, ?it/s]\n"
     ]
    },
    {
     "name": "stdout",
     "output_type": "stream",
     "text": [
      "count_dif_dir\n",
      "0\n",
      "percent_dif_dir\n",
      "0.0\n",
      "Epoch = 13. Time index = 2. Threshold MC = 0.6. Threshold MD = 0.95\n",
      "RD = 0 NZ = 0 NZA = 0 pNZ = 0.000% pNZA = 0.000% AD = 0.00% ADA = 0.00% NO = 1 GSP = 0.00% NSP = 0.00%\n",
      "SI2 = -0.55 SI = -0.55 eGROI = 0.00% eROI = 0.00% eROI2 = 0.00% eROI3 = 0.00% mSpread = 0.0000%\n",
      "\n"
     ]
    },
    {
     "name": "stderr",
     "output_type": "stream",
     "text": [
      "100%|██████████████████████████████████████████████████████████████████████████| 29532/29532 [00:06<00:00, 4534.25it/s]\n"
     ]
    },
    {
     "name": "stdout",
     "output_type": "stream",
     "text": [
      "count_dif_dir\n",
      "103\n",
      "percent_dif_dir\n",
      "2.850027670171555\n",
      "Epoch = 13. Time index = 2. Threshold MC = 0.65. Threshold MD = 0.5\n",
      "RD = 10709 NZ = 19863 NZA = 29533 pNZ = 2.892% pNZA = 4.300% AD = 53.91% ADA = 36.26% NO = 3614 GSP = 52.05% NSP = 46.24%\n",
      "SI2 = -307.70 SI = -316.70 eGROI = 14.88% eROI = -57.63% eROI2 = -57.40% eROI3 = -93.54% mSpread = 0.0201%\n"
     ]
    },
    {
     "name": "stderr",
     "output_type": "stream",
     "text": [
      "100%|████████████████████████████████████████████████████████████████████████████| 9237/9237 [00:02<00:00, 3804.94it/s]\n"
     ]
    },
    {
     "name": "stdout",
     "output_type": "stream",
     "text": [
      "count_dif_dir\n",
      "91\n",
      "percent_dif_dir\n",
      "3.3480500367917587\n",
      "Epoch = 13. Time index = 2. Threshold MC = 0.65. Threshold MD = 0.55\n",
      "RD = 3601 NZ = 6210 NZA = 9238 pNZ = 0.904% pNZA = 1.345% AD = 57.99% ADA = 38.98% NO = 2718 GSP = 55.59% NSP = 48.64%\n",
      "SI2 = -173.90 SI = -172.90 eGROI = 32.34% eROI = -22.15% eROI2 = -22.02% eROI3 = -49.20% mSpread = 0.0200%\n"
     ]
    },
    {
     "name": "stderr",
     "output_type": "stream",
     "text": [
      "100%|████████████████████████████████████████████████████████████████████████████| 1627/1627 [00:00<00:00, 2793.27it/s]\n"
     ]
    },
    {
     "name": "stdout",
     "output_type": "stream",
     "text": [
      "count_dif_dir\n",
      "58\n",
      "percent_dif_dir\n",
      "7.591623036649215\n",
      "Epoch = 13. Time index = 2. Threshold MC = 0.65. Threshold MD = 0.6\n",
      "RD = 731 NZ = 1098 NZA = 1628 pNZ = 0.160% pNZA = 0.237% AD = 66.58% ADA = 44.90% NO = 764 GSP = 58.51% NSP = 50.52%\n",
      "SI2 = -29.20 SI = -34.20 eGROI = 22.81% eROI = 6.53% eROI2 = 7.53% eROI3 = -0.11% mSpread = 0.0213%\n"
     ]
    },
    {
     "name": "stderr",
     "output_type": "stream",
     "text": [
      "100%|██████████████████████████████████████████████████████████████████████████████| 326/326 [00:00<00:00, 2005.27it/s]\n"
     ]
    },
    {
     "name": "stdout",
     "output_type": "stream",
     "text": [
      "count_dif_dir\n",
      "43\n",
      "percent_dif_dir\n",
      "20.77294685990338\n",
      "Epoch = 13. Time index = 2. Threshold MC = 0.65. Threshold MD = 0.65\n",
      "RD = 156 NZ = 209 NZA = 327 pNZ = 0.030% pNZA = 0.048% AD = 74.64% ADA = 47.71% NO = 207 GSP = 54.11% NSP = 41.55%\n",
      "SI2 = -23.85 SI = -27.85 eGROI = 2.82% eROI = -2.70% eROI2 = -1.32% eROI3 = -3.39% mSpread = 0.0266%\n"
     ]
    },
    {
     "name": "stderr",
     "output_type": "stream",
     "text": [
      "100%|█████████████████████████████████████████████████████████████████████████████████| 89/89 [00:00<00:00, 719.62it/s]\n"
     ]
    },
    {
     "name": "stdout",
     "output_type": "stream",
     "text": [
      "count_dif_dir\n",
      "28\n",
      "percent_dif_dir\n",
      "35.44303797468354\n",
      "Epoch = 13. Time index = 2. Threshold MC = 0.65. Threshold MD = 0.7\n",
      "RD = 53 NZ = 60 NZA = 90 pNZ = 0.009% pNZA = 0.013% AD = 88.33% ADA = 58.89% NO = 79 GSP = 51.90% NSP = 37.97%\n",
      "SI2 = -12.45 SI = -13.45 eGROI = 0.21% eROI = -2.09% eROI2 = -1.37% eROI3 = -2.16% mSpread = 0.0291%\n"
     ]
    },
    {
     "name": "stderr",
     "output_type": "stream",
     "text": [
      "100%|████████████████████████████████████████████████████████████████████████████████| 13/13 [00:00<00:00, 1184.93it/s]\n"
     ]
    },
    {
     "name": "stdout",
     "output_type": "stream",
     "text": [
      "count_dif_dir\n",
      "4\n",
      "percent_dif_dir\n",
      "28.571428571428573\n",
      "Epoch = 13. Time index = 2. Threshold MC = 0.65. Threshold MD = 0.75\n",
      "RD = 10 NZ = 10 NZA = 14 pNZ = 0.001% pNZA = 0.002% AD = 100.00% ADA = 71.43% NO = 14 GSP = 71.43% NSP = 64.29%\n",
      "SI2 = 0.30 SI = 1.30 eGROI = 0.57% eROI = 0.20% eROI2 = 0.29% eROI3 = 0.15% mSpread = 0.0266%\n"
     ]
    },
    {
     "name": "stderr",
     "output_type": "stream",
     "text": [
      "0it [00:00, ?it/s]\n"
     ]
    },
    {
     "name": "stdout",
     "output_type": "stream",
     "text": [
      "count_dif_dir\n",
      "1\n",
      "percent_dif_dir\n",
      "100.0\n",
      "Epoch = 13. Time index = 2. Threshold MC = 0.65. Threshold MD = 0.8\n",
      "RD = 0 NZ = 0 NZA = 1 pNZ = 0.000% pNZA = 0.000% AD = 0.00% ADA = 0.00% NO = 1 GSP = 0.00% NSP = 0.00%\n",
      "SI2 = -0.55 SI = -0.55 eGROI = -0.09% eROI = -0.11% eROI2 = -0.11% eROI3 = -0.12% mSpread = 0.0245%\n"
     ]
    },
    {
     "name": "stderr",
     "output_type": "stream",
     "text": [
      "0it [00:00, ?it/s]\n"
     ]
    },
    {
     "name": "stdout",
     "output_type": "stream",
     "text": [
      "count_dif_dir\n",
      "0\n",
      "percent_dif_dir\n",
      "0.0\n",
      "Epoch = 13. Time index = 2. Threshold MC = 0.65. Threshold MD = 0.85\n",
      "RD = 0 NZ = 0 NZA = 0 pNZ = 0.000% pNZA = 0.000% AD = 0.00% ADA = 0.00% NO = 1 GSP = 0.00% NSP = 0.00%\n",
      "SI2 = -0.55 SI = -0.55 eGROI = 0.00% eROI = 0.00% eROI2 = 0.00% eROI3 = 0.00% mSpread = 0.0000%\n"
     ]
    },
    {
     "name": "stderr",
     "output_type": "stream",
     "text": [
      "0it [00:00, ?it/s]\n"
     ]
    },
    {
     "name": "stdout",
     "output_type": "stream",
     "text": [
      "count_dif_dir\n",
      "0\n",
      "percent_dif_dir\n",
      "0.0\n",
      "Epoch = 13. Time index = 2. Threshold MC = 0.65. Threshold MD = 0.9\n",
      "RD = 0 NZ = 0 NZA = 0 pNZ = 0.000% pNZA = 0.000% AD = 0.00% ADA = 0.00% NO = 1 GSP = 0.00% NSP = 0.00%\n",
      "SI2 = -0.55 SI = -0.55 eGROI = 0.00% eROI = 0.00% eROI2 = 0.00% eROI3 = 0.00% mSpread = 0.0000%\n"
     ]
    },
    {
     "name": "stderr",
     "output_type": "stream",
     "text": [
      "0it [00:00, ?it/s]\n"
     ]
    },
    {
     "name": "stdout",
     "output_type": "stream",
     "text": [
      "count_dif_dir\n",
      "0\n",
      "percent_dif_dir\n",
      "0.0\n",
      "Epoch = 13. Time index = 2. Threshold MC = 0.65. Threshold MD = 0.95\n",
      "RD = 0 NZ = 0 NZA = 0 pNZ = 0.000% pNZA = 0.000% AD = 0.00% ADA = 0.00% NO = 1 GSP = 0.00% NSP = 0.00%\n",
      "SI2 = -0.55 SI = -0.55 eGROI = 0.00% eROI = 0.00% eROI2 = 0.00% eROI3 = 0.00% mSpread = 0.0000%\n",
      "\n"
     ]
    },
    {
     "name": "stderr",
     "output_type": "stream",
     "text": [
      "100%|████████████████████████████████████████████████████████████████████████████| 6209/6209 [00:02<00:00, 2604.72it/s]\n"
     ]
    },
    {
     "name": "stdout",
     "output_type": "stream",
     "text": [
      "count_dif_dir\n",
      "37\n",
      "percent_dif_dir\n",
      "3.4676663542642925\n",
      "Epoch = 13. Time index = 2. Threshold MC = 0.7. Threshold MD = 0.5\n",
      "RD = 2400 NZ = 4474 NZA = 6210 pNZ = 0.651% pNZA = 0.904% AD = 53.64% ADA = 38.65% NO = 1067 GSP = 49.86% NSP = 44.80%\n",
      "SI2 = -108.85 SI = -108.85 eGROI = -1.78% eROI = -22.72% eROI2 = -23.12% eROI3 = -33.79% mSpread = 0.0196%\n"
     ]
    },
    {
     "name": "stderr",
     "output_type": "stream",
     "text": [
      "100%|████████████████████████████████████████████████████████████████████████████| 2588/2588 [00:00<00:00, 2883.10it/s]\n"
     ]
    },
    {
     "name": "stdout",
     "output_type": "stream",
     "text": [
      "count_dif_dir\n",
      "34\n",
      "percent_dif_dir\n",
      "4.086538461538462\n",
      "Epoch = 13. Time index = 2. Threshold MC = 0.7. Threshold MD = 0.55\n",
      "RD = 1057 NZ = 1855 NZA = 2589 pNZ = 0.270% pNZA = 0.377% AD = 56.98% ADA = 40.83% NO = 832 GSP = 50.60% NSP = 45.43%\n",
      "SI2 = -79.60 SI = -79.60 eGROI = 5.85% eROI = -10.10% eROI2 = -10.79% eROI3 = -19.11% mSpread = 0.0192%\n"
     ]
    },
    {
     "name": "stderr",
     "output_type": "stream",
     "text": [
      "100%|██████████████████████████████████████████████████████████████████████████████| 662/662 [00:00<00:00, 2127.32it/s]\n"
     ]
    },
    {
     "name": "stdout",
     "output_type": "stream",
     "text": [
      "count_dif_dir\n",
      "15\n",
      "percent_dif_dir\n",
      "5.05050505050505\n",
      "Epoch = 13. Time index = 2. Threshold MC = 0.7. Threshold MD = 0.6\n",
      "RD = 289 NZ = 462 NZA = 663 pNZ = 0.067% pNZA = 0.097% AD = 62.55% ADA = 43.59% NO = 297 GSP = 56.23% NSP = 50.51%\n",
      "SI2 = -14.35 SI = -13.35 eGROI = 10.22% eROI = 4.20% eROI2 = 4.28% eROI3 = 1.31% mSpread = 0.0203%\n"
     ]
    },
    {
     "name": "stderr",
     "output_type": "stream",
     "text": [
      "100%|██████████████████████████████████████████████████████████████████████████████| 109/109 [00:00<00:00, 1951.53it/s]\n"
     ]
    },
    {
     "name": "stdout",
     "output_type": "stream",
     "text": [
      "count_dif_dir\n",
      "8\n",
      "percent_dif_dir\n",
      "12.5\n",
      "Epoch = 13. Time index = 2. Threshold MC = 0.7. Threshold MD = 0.65\n",
      "RD = 45 NZ = 77 NZA = 110 pNZ = 0.011% pNZA = 0.016% AD = 58.44% ADA = 40.91% NO = 64 GSP = 51.56% NSP = 40.62%\n",
      "SI2 = -7.20 SI = -9.20 eGROI = -0.17% eROI = -1.98% eROI2 = -1.45% eROI3 = -2.09% mSpread = 0.0283%\n"
     ]
    },
    {
     "name": "stderr",
     "output_type": "stream",
     "text": [
      "100%|████████████████████████████████████████████████████████████████████████████████| 32/32 [00:00<00:00, 1394.96it/s]\n"
     ]
    },
    {
     "name": "stdout",
     "output_type": "stream",
     "text": [
      "count_dif_dir\n",
      "7\n",
      "percent_dif_dir\n",
      "25.925925925925927\n",
      "Epoch = 13. Time index = 2. Threshold MC = 0.7. Threshold MD = 0.7\n",
      "RD = 16 NZ = 22 NZA = 33 pNZ = 0.003% pNZA = 0.005% AD = 72.73% ADA = 48.48% NO = 27 GSP = 51.85% NSP = 40.74%\n",
      "SI2 = -2.85 SI = -3.85 eGROI = -0.35% eROI = -1.38% eROI2 = -0.89% eROI3 = -1.16% mSpread = 0.0379%\n"
     ]
    },
    {
     "name": "stderr",
     "output_type": "stream",
     "text": [
      "100%|███████████████████████████████████████████████████████████████████████████████████| 3/3 [00:00<00:00, 751.94it/s]\n"
     ]
    },
    {
     "name": "stdout",
     "output_type": "stream",
     "text": [
      "count_dif_dir\n",
      "0\n",
      "percent_dif_dir\n",
      "0.0\n",
      "Epoch = 13. Time index = 2. Threshold MC = 0.7. Threshold MD = 0.75\n",
      "RD = 4 NZ = 4 NZA = 4 pNZ = 0.001% pNZA = 0.001% AD = 100.00% ADA = 100.00% NO = 4 GSP = 100.00% NSP = 100.00%\n",
      "SI2 = 0.80 SI = 1.80 eGROI = 0.35% eROI = 0.25% eROI2 = 0.27% eROI3 = 0.23% mSpread = 0.0247%\n"
     ]
    },
    {
     "name": "stderr",
     "output_type": "stream",
     "text": [
      "0it [00:00, ?it/s]\n"
     ]
    },
    {
     "name": "stdout",
     "output_type": "stream",
     "text": [
      "count_dif_dir\n",
      "0\n",
      "percent_dif_dir\n",
      "0.0\n",
      "Epoch = 13. Time index = 2. Threshold MC = 0.7. Threshold MD = 0.8\n",
      "RD = 0 NZ = 0 NZA = 0 pNZ = 0.000% pNZA = 0.000% AD = 0.00% ADA = 0.00% NO = 1 GSP = 0.00% NSP = 0.00%\n",
      "SI2 = -0.55 SI = -0.55 eGROI = 0.00% eROI = 0.00% eROI2 = 0.00% eROI3 = 0.00% mSpread = 0.0000%\n"
     ]
    },
    {
     "name": "stderr",
     "output_type": "stream",
     "text": [
      "0it [00:00, ?it/s]\n"
     ]
    },
    {
     "name": "stdout",
     "output_type": "stream",
     "text": [
      "count_dif_dir\n",
      "0\n",
      "percent_dif_dir\n",
      "0.0\n",
      "Epoch = 13. Time index = 2. Threshold MC = 0.7. Threshold MD = 0.85\n",
      "RD = 0 NZ = 0 NZA = 0 pNZ = 0.000% pNZA = 0.000% AD = 0.00% ADA = 0.00% NO = 1 GSP = 0.00% NSP = 0.00%\n",
      "SI2 = -0.55 SI = -0.55 eGROI = 0.00% eROI = 0.00% eROI2 = 0.00% eROI3 = 0.00% mSpread = 0.0000%\n"
     ]
    },
    {
     "name": "stderr",
     "output_type": "stream",
     "text": [
      "0it [00:00, ?it/s]\n"
     ]
    },
    {
     "name": "stdout",
     "output_type": "stream",
     "text": [
      "count_dif_dir\n",
      "0\n",
      "percent_dif_dir\n",
      "0.0\n",
      "Epoch = 13. Time index = 2. Threshold MC = 0.7. Threshold MD = 0.9\n",
      "RD = 0 NZ = 0 NZA = 0 pNZ = 0.000% pNZA = 0.000% AD = 0.00% ADA = 0.00% NO = 1 GSP = 0.00% NSP = 0.00%\n",
      "SI2 = -0.55 SI = -0.55 eGROI = 0.00% eROI = 0.00% eROI2 = 0.00% eROI3 = 0.00% mSpread = 0.0000%\n"
     ]
    },
    {
     "name": "stderr",
     "output_type": "stream",
     "text": [
      "0it [00:00, ?it/s]\n"
     ]
    },
    {
     "name": "stdout",
     "output_type": "stream",
     "text": [
      "count_dif_dir\n",
      "0\n",
      "percent_dif_dir\n",
      "0.0\n",
      "Epoch = 13. Time index = 2. Threshold MC = 0.7. Threshold MD = 0.95\n",
      "RD = 0 NZ = 0 NZA = 0 pNZ = 0.000% pNZA = 0.000% AD = 0.00% ADA = 0.00% NO = 1 GSP = 0.00% NSP = 0.00%\n",
      "SI2 = -0.55 SI = -0.55 eGROI = 0.00% eROI = 0.00% eROI2 = 0.00% eROI3 = 0.00% mSpread = 0.0000%\n",
      "\n"
     ]
    },
    {
     "name": "stderr",
     "output_type": "stream",
     "text": [
      "100%|████████████████████████████████████████████████████████████████████████████| 1091/1091 [00:00<00:00, 2274.13it/s]\n"
     ]
    },
    {
     "name": "stdout",
     "output_type": "stream",
     "text": [
      "count_dif_dir\n",
      "8\n",
      "percent_dif_dir\n",
      "2.4464831804281344\n",
      "Epoch = 13. Time index = 2. Threshold MC = 0.75. Threshold MD = 0.5\n",
      "RD = 469 NZ = 831 NZA = 1092 pNZ = 0.121% pNZA = 0.159% AD = 56.44% ADA = 42.95% NO = 327 GSP = 54.13% NSP = 50.15%\n",
      "SI2 = -13.85 SI = -15.85 eGROI = 4.66% eROI = -1.75% eROI2 = -1.88% eROI3 = -5.15% mSpread = 0.0196%\n"
     ]
    },
    {
     "name": "stderr",
     "output_type": "stream",
     "text": [
      "100%|██████████████████████████████████████████████████████████████████████████████| 514/514 [00:00<00:00, 1752.88it/s]\n"
     ]
    },
    {
     "name": "stdout",
     "output_type": "stream",
     "text": [
      "count_dif_dir\n",
      "7\n",
      "percent_dif_dir\n",
      "3.0303030303030303\n",
      "Epoch = 13. Time index = 2. Threshold MC = 0.75. Threshold MD = 0.55\n",
      "RD = 238 NZ = 395 NZA = 515 pNZ = 0.058% pNZA = 0.075% AD = 60.25% ADA = 46.21% NO = 231 GSP = 52.81% NSP = 48.48%\n",
      "SI2 = -15.05 SI = -15.05 eGROI = 3.37% eROI = -1.15% eROI2 = -1.25% eROI3 = -3.56% mSpread = 0.0196%\n"
     ]
    },
    {
     "name": "stderr",
     "output_type": "stream",
     "text": [
      "100%|██████████████████████████████████████████████████████████████████████████████| 164/164 [00:00<00:00, 2192.42it/s]\n"
     ]
    },
    {
     "name": "stdout",
     "output_type": "stream",
     "text": [
      "count_dif_dir\n",
      "4\n",
      "percent_dif_dir\n",
      "4.878048780487805\n",
      "Epoch = 13. Time index = 2. Threshold MC = 0.75. Threshold MD = 0.6\n",
      "RD = 86 NZ = 123 NZA = 165 pNZ = 0.018% pNZA = 0.024% AD = 69.92% ADA = 52.12% NO = 82 GSP = 65.85% NSP = 56.10%\n",
      "SI2 = 1.90 SI = 0.90 eGROI = 4.14% eROI = 2.44% eROI2 = 2.50% eROI3 = 1.68% mSpread = 0.0208%\n"
     ]
    },
    {
     "name": "stderr",
     "output_type": "stream",
     "text": [
      "100%|████████████████████████████████████████████████████████████████████████████████| 34/34 [00:00<00:00, 1310.89it/s]\n"
     ]
    },
    {
     "name": "stdout",
     "output_type": "stream",
     "text": [
      "count_dif_dir\n",
      "1\n",
      "percent_dif_dir\n",
      "4.3478260869565215\n",
      "Epoch = 13. Time index = 2. Threshold MC = 0.75. Threshold MD = 0.65\n",
      "RD = 16 NZ = 28 NZA = 35 pNZ = 0.004% pNZA = 0.005% AD = 57.14% ADA = 45.71% NO = 23 GSP = 60.87% NSP = 47.83%\n",
      "SI2 = -0.65 SI = -1.65 eGROI = 0.14% eROI = -0.57% eROI2 = -0.32% eROI3 = -0.55% mSpread = 0.0310%\n"
     ]
    },
    {
     "name": "stderr",
     "output_type": "stream",
     "text": [
      "100%|██████████████████████████████████████████████████████████████████████████████████| 8/8 [00:00<00:00, 1145.75it/s]\n"
     ]
    },
    {
     "name": "stdout",
     "output_type": "stream",
     "text": [
      "count_dif_dir\n",
      "1\n",
      "percent_dif_dir\n",
      "14.285714285714286\n",
      "Epoch = 13. Time index = 2. Threshold MC = 0.75. Threshold MD = 0.7\n",
      "RD = 5 NZ = 6 NZA = 9 pNZ = 0.001% pNZA = 0.001% AD = 83.33% ADA = 55.56% NO = 7 GSP = 57.14% NSP = 42.86%\n",
      "SI2 = 0.15 SI = -0.85 eGROI = -0.15% eROI = -0.46% eROI2 = -0.29% eROI3 = -0.36% mSpread = 0.0440%\n"
     ]
    },
    {
     "name": "stderr",
     "output_type": "stream",
     "text": [
      "100%|███████████████████████████████████████████████████████████████████████████████████| 1/1 [00:00<00:00, 250.57it/s]\n"
     ]
    },
    {
     "name": "stdout",
     "output_type": "stream",
     "text": [
      "count_dif_dir\n",
      "0\n",
      "percent_dif_dir\n",
      "0.0\n",
      "Epoch = 13. Time index = 2. Threshold MC = 0.75. Threshold MD = 0.75\n",
      "RD = 2 NZ = 2 NZA = 2 pNZ = 0.000% pNZA = 0.000% AD = 100.00% ADA = 100.00% NO = 2 GSP = 100.00% NSP = 100.00%\n",
      "SI2 = -0.10 SI = 0.90 eGROI = 0.23% eROI = 0.17% eROI2 = 0.19% eROI3 = 0.17% mSpread = 0.0276%\n"
     ]
    },
    {
     "name": "stderr",
     "output_type": "stream",
     "text": [
      "0it [00:00, ?it/s]\n"
     ]
    },
    {
     "name": "stdout",
     "output_type": "stream",
     "text": [
      "count_dif_dir\n",
      "0\n",
      "percent_dif_dir\n",
      "0.0\n",
      "Epoch = 13. Time index = 2. Threshold MC = 0.75. Threshold MD = 0.8\n",
      "RD = 0 NZ = 0 NZA = 0 pNZ = 0.000% pNZA = 0.000% AD = 0.00% ADA = 0.00% NO = 1 GSP = 0.00% NSP = 0.00%\n",
      "SI2 = -0.55 SI = -0.55 eGROI = 0.00% eROI = 0.00% eROI2 = 0.00% eROI3 = 0.00% mSpread = 0.0000%\n"
     ]
    },
    {
     "name": "stderr",
     "output_type": "stream",
     "text": [
      "0it [00:00, ?it/s]\n"
     ]
    },
    {
     "name": "stdout",
     "output_type": "stream",
     "text": [
      "count_dif_dir\n",
      "0\n",
      "percent_dif_dir\n",
      "0.0\n",
      "Epoch = 13. Time index = 2. Threshold MC = 0.75. Threshold MD = 0.85\n",
      "RD = 0 NZ = 0 NZA = 0 pNZ = 0.000% pNZA = 0.000% AD = 0.00% ADA = 0.00% NO = 1 GSP = 0.00% NSP = 0.00%\n",
      "SI2 = -0.55 SI = -0.55 eGROI = 0.00% eROI = 0.00% eROI2 = 0.00% eROI3 = 0.00% mSpread = 0.0000%\n"
     ]
    },
    {
     "name": "stderr",
     "output_type": "stream",
     "text": [
      "0it [00:00, ?it/s]\n"
     ]
    },
    {
     "name": "stdout",
     "output_type": "stream",
     "text": [
      "count_dif_dir\n",
      "0\n",
      "percent_dif_dir\n",
      "0.0\n",
      "Epoch = 13. Time index = 2. Threshold MC = 0.75. Threshold MD = 0.9\n",
      "RD = 0 NZ = 0 NZA = 0 pNZ = 0.000% pNZA = 0.000% AD = 0.00% ADA = 0.00% NO = 1 GSP = 0.00% NSP = 0.00%\n",
      "SI2 = -0.55 SI = -0.55 eGROI = 0.00% eROI = 0.00% eROI2 = 0.00% eROI3 = 0.00% mSpread = 0.0000%\n"
     ]
    },
    {
     "name": "stderr",
     "output_type": "stream",
     "text": [
      "0it [00:00, ?it/s]\n"
     ]
    },
    {
     "name": "stdout",
     "output_type": "stream",
     "text": [
      "count_dif_dir\n",
      "0\n",
      "percent_dif_dir\n",
      "0.0\n",
      "Epoch = 13. Time index = 2. Threshold MC = 0.75. Threshold MD = 0.95\n",
      "RD = 0 NZ = 0 NZA = 0 pNZ = 0.000% pNZA = 0.000% AD = 0.00% ADA = 0.00% NO = 1 GSP = 0.00% NSP = 0.00%\n",
      "SI2 = -0.55 SI = -0.55 eGROI = 0.00% eROI = 0.00% eROI2 = 0.00% eROI3 = 0.00% mSpread = 0.0000%\n",
      "\n"
     ]
    },
    {
     "name": "stderr",
     "output_type": "stream",
     "text": [
      "100%|██████████████████████████████████████████████████████████████████████████████| 109/109 [00:00<00:00, 1607.12it/s]\n"
     ]
    },
    {
     "name": "stdout",
     "output_type": "stream",
     "text": [
      "count_dif_dir\n",
      "4\n",
      "percent_dif_dir\n",
      "7.2727272727272725\n",
      "Epoch = 13. Time index = 2. Threshold MC = 0.8. Threshold MD = 0.5\n",
      "RD = 59 NZ = 80 NZA = 110 pNZ = 0.012% pNZA = 0.016% AD = 73.75% ADA = 53.64% NO = 55 GSP = 60.00% NSP = 58.18%\n",
      "SI2 = 0.75 SI = 1.75 eGROI = 4.45% eROI = 3.37% eROI2 = 3.35% eROI3 = 2.80% mSpread = 0.0195%\n"
     ]
    },
    {
     "name": "stderr",
     "output_type": "stream",
     "text": [
      "100%|████████████████████████████████████████████████████████████████████████████████| 55/55 [00:00<00:00, 1621.85it/s]\n"
     ]
    },
    {
     "name": "stdout",
     "output_type": "stream",
     "text": [
      "count_dif_dir\n",
      "2\n",
      "percent_dif_dir\n",
      "6.0606060606060606\n",
      "Epoch = 13. Time index = 2. Threshold MC = 0.8. Threshold MD = 0.55\n",
      "RD = 32 NZ = 40 NZA = 56 pNZ = 0.006% pNZA = 0.008% AD = 80.00% ADA = 57.14% NO = 33 GSP = 66.67% NSP = 63.64%\n",
      "SI2 = 2.85 SI = 2.85 eGROI = 3.27% eROI = 2.65% eROI2 = 2.61% eROI3 = 2.28% mSpread = 0.0186%\n"
     ]
    },
    {
     "name": "stderr",
     "output_type": "stream",
     "text": [
      "100%|████████████████████████████████████████████████████████████████████████████████| 22/22 [00:00<00:00, 1378.59it/s]\n"
     ]
    },
    {
     "name": "stdout",
     "output_type": "stream",
     "text": [
      "count_dif_dir\n",
      "2\n",
      "percent_dif_dir\n",
      "16.666666666666668\n",
      "Epoch = 13. Time index = 2. Threshold MC = 0.8. Threshold MD = 0.6\n",
      "RD = 15 NZ = 15 NZA = 23 pNZ = 0.002% pNZA = 0.003% AD = 100.00% ADA = 65.22% NO = 12 GSP = 58.33% NSP = 50.00%\n",
      "SI2 = -0.60 SI = -0.60 eGROI = 1.16% eROI = 0.90% eROI2 = 0.92% eROI3 = 0.80% mSpread = 0.0217%\n"
     ]
    },
    {
     "name": "stderr",
     "output_type": "stream",
     "text": [
      "100%|███████████████████████████████████████████████████████████████████████████████████| 6/6 [00:00<00:00, 859.46it/s]\n"
     ]
    },
    {
     "name": "stdout",
     "output_type": "stream",
     "text": [
      "count_dif_dir\n",
      "1\n",
      "percent_dif_dir\n",
      "20.0\n",
      "Epoch = 13. Time index = 2. Threshold MC = 0.8. Threshold MD = 0.65\n",
      "RD = 4 NZ = 4 NZA = 7 pNZ = 0.001% pNZA = 0.001% AD = 100.00% ADA = 57.14% NO = 5 GSP = 60.00% NSP = 40.00%\n",
      "SI2 = -0.75 SI = -0.75 eGROI = 0.03% eROI = -0.12% eROI2 = -0.07% eROI3 = -0.12% mSpread = 0.0289%\n"
     ]
    },
    {
     "name": "stderr",
     "output_type": "stream",
     "text": [
      "100%|███████████████████████████████████████████████████████████████████████████████████| 2/2 [00:00<00:00, 668.26it/s]\n"
     ]
    },
    {
     "name": "stdout",
     "output_type": "stream",
     "text": [
      "count_dif_dir\n",
      "1\n",
      "percent_dif_dir\n",
      "50.0\n",
      "Epoch = 13. Time index = 2. Threshold MC = 0.8. Threshold MD = 0.7\n",
      "RD = 2 NZ = 2 NZA = 3 pNZ = 0.000% pNZA = 0.000% AD = 100.00% ADA = 66.67% NO = 2 GSP = 50.00% NSP = 50.00%\n",
      "SI2 = -0.10 SI = -0.10 eGROI = -0.03% eROI = -0.08% eROI2 = -0.07% eROI3 = -0.09% mSpread = 0.0258%\n"
     ]
    },
    {
     "name": "stderr",
     "output_type": "stream",
     "text": [
      "0it [00:00, ?it/s]\n"
     ]
    },
    {
     "name": "stdout",
     "output_type": "stream",
     "text": [
      "count_dif_dir\n",
      "0\n",
      "percent_dif_dir\n",
      "0.0\n",
      "Epoch = 13. Time index = 2. Threshold MC = 0.8. Threshold MD = 0.75\n",
      "RD = 0 NZ = 0 NZA = 0 pNZ = 0.000% pNZA = 0.000% AD = 0.00% ADA = 0.00% NO = 1 GSP = 0.00% NSP = 0.00%\n",
      "SI2 = -0.55 SI = -0.55 eGROI = 0.00% eROI = 0.00% eROI2 = 0.00% eROI3 = 0.00% mSpread = 0.0000%\n"
     ]
    },
    {
     "name": "stderr",
     "output_type": "stream",
     "text": [
      "0it [00:00, ?it/s]\n"
     ]
    },
    {
     "name": "stdout",
     "output_type": "stream",
     "text": [
      "count_dif_dir\n",
      "0\n",
      "percent_dif_dir\n",
      "0.0\n",
      "Epoch = 13. Time index = 2. Threshold MC = 0.8. Threshold MD = 0.8\n",
      "RD = 0 NZ = 0 NZA = 0 pNZ = 0.000% pNZA = 0.000% AD = 0.00% ADA = 0.00% NO = 1 GSP = 0.00% NSP = 0.00%\n",
      "SI2 = -0.55 SI = -0.55 eGROI = 0.00% eROI = 0.00% eROI2 = 0.00% eROI3 = 0.00% mSpread = 0.0000%\n"
     ]
    },
    {
     "name": "stderr",
     "output_type": "stream",
     "text": [
      "0it [00:00, ?it/s]\n"
     ]
    },
    {
     "name": "stdout",
     "output_type": "stream",
     "text": [
      "count_dif_dir\n",
      "0\n",
      "percent_dif_dir\n",
      "0.0\n",
      "Epoch = 13. Time index = 2. Threshold MC = 0.8. Threshold MD = 0.85\n",
      "RD = 0 NZ = 0 NZA = 0 pNZ = 0.000% pNZA = 0.000% AD = 0.00% ADA = 0.00% NO = 1 GSP = 0.00% NSP = 0.00%\n",
      "SI2 = -0.55 SI = -0.55 eGROI = 0.00% eROI = 0.00% eROI2 = 0.00% eROI3 = 0.00% mSpread = 0.0000%\n"
     ]
    },
    {
     "name": "stderr",
     "output_type": "stream",
     "text": [
      "0it [00:00, ?it/s]\n"
     ]
    },
    {
     "name": "stdout",
     "output_type": "stream",
     "text": [
      "count_dif_dir\n",
      "0\n",
      "percent_dif_dir\n",
      "0.0\n",
      "Epoch = 13. Time index = 2. Threshold MC = 0.8. Threshold MD = 0.9\n",
      "RD = 0 NZ = 0 NZA = 0 pNZ = 0.000% pNZA = 0.000% AD = 0.00% ADA = 0.00% NO = 1 GSP = 0.00% NSP = 0.00%\n",
      "SI2 = -0.55 SI = -0.55 eGROI = 0.00% eROI = 0.00% eROI2 = 0.00% eROI3 = 0.00% mSpread = 0.0000%\n"
     ]
    },
    {
     "name": "stderr",
     "output_type": "stream",
     "text": [
      "0it [00:00, ?it/s]\n"
     ]
    },
    {
     "name": "stdout",
     "output_type": "stream",
     "text": [
      "count_dif_dir\n",
      "0\n",
      "percent_dif_dir\n",
      "0.0\n",
      "Epoch = 13. Time index = 2. Threshold MC = 0.8. Threshold MD = 0.95\n",
      "RD = 0 NZ = 0 NZA = 0 pNZ = 0.000% pNZA = 0.000% AD = 0.00% ADA = 0.00% NO = 1 GSP = 0.00% NSP = 0.00%\n",
      "SI2 = -0.55 SI = -0.55 eGROI = 0.00% eROI = 0.00% eROI2 = 0.00% eROI3 = 0.00% mSpread = 0.0000%\n",
      "\n"
     ]
    },
    {
     "name": "stderr",
     "output_type": "stream",
     "text": [
      "100%|███████████████████████████████████████████████████████████████████████████████████| 2/2 [00:00<00:00, 668.47it/s]\n"
     ]
    },
    {
     "name": "stdout",
     "output_type": "stream",
     "text": [
      "count_dif_dir\n",
      "0\n",
      "percent_dif_dir\n",
      "0.0\n",
      "Epoch = 13. Time index = 2. Threshold MC = 0.85. Threshold MD = 0.5\n",
      "RD = 1 NZ = 1 NZA = 3 pNZ = 0.000% pNZA = 0.000% AD = 100.00% ADA = 33.33% NO = 3 GSP = 100.00% NSP = 33.33%\n",
      "SI2 = 0.35 SI = -0.65 eGROI = 0.35% eROI = 0.27% eROI2 = 0.29% eROI3 = 0.26% mSpread = 0.0256%\n"
     ]
    },
    {
     "name": "stderr",
     "output_type": "stream",
     "text": [
      "100%|███████████████████████████████████████████████████████████████████████████████████| 1/1 [00:00<00:00, 502.07it/s]\n"
     ]
    },
    {
     "name": "stdout",
     "output_type": "stream",
     "text": [
      "count_dif_dir\n",
      "0\n",
      "percent_dif_dir\n",
      "0.0\n",
      "Epoch = 13. Time index = 2. Threshold MC = 0.85. Threshold MD = 0.55\n",
      "RD = 1 NZ = 1 NZA = 2 pNZ = 0.000% pNZA = 0.000% AD = 100.00% ADA = 50.00% NO = 2 GSP = 100.00% NSP = 50.00%\n",
      "SI2 = -0.10 SI = -0.10 eGROI = 0.34% eROI = 0.27% eROI2 = 0.30% eROI3 = 0.28% mSpread = 0.0318%\n"
     ]
    },
    {
     "name": "stderr",
     "output_type": "stream",
     "text": [
      "0it [00:00, ?it/s]\n"
     ]
    },
    {
     "name": "stdout",
     "output_type": "stream",
     "text": [
      "count_dif_dir\n",
      "0\n",
      "percent_dif_dir\n",
      "0.0\n",
      "Epoch = 13. Time index = 2. Threshold MC = 0.85. Threshold MD = 0.6\n",
      "RD = 1 NZ = 1 NZA = 1 pNZ = 0.000% pNZA = 0.000% AD = 100.00% ADA = 100.00% NO = 1 GSP = 100.00% NSP = 100.00%\n",
      "SI2 = -0.55 SI = 0.45 eGROI = 0.31% eROI = 0.28% eROI2 = 0.29% eROI3 = 0.28% mSpread = 0.0307%\n"
     ]
    },
    {
     "name": "stderr",
     "output_type": "stream",
     "text": [
      "0it [00:00, ?it/s]\n"
     ]
    },
    {
     "name": "stdout",
     "output_type": "stream",
     "text": [
      "count_dif_dir\n",
      "0\n",
      "percent_dif_dir\n",
      "0.0\n",
      "Epoch = 13. Time index = 2. Threshold MC = 0.85. Threshold MD = 0.65\n",
      "RD = 0 NZ = 0 NZA = 0 pNZ = 0.000% pNZA = 0.000% AD = 0.00% ADA = 0.00% NO = 1 GSP = 0.00% NSP = 0.00%\n",
      "SI2 = -0.55 SI = -0.55 eGROI = 0.00% eROI = 0.00% eROI2 = 0.00% eROI3 = 0.00% mSpread = 0.0000%\n"
     ]
    },
    {
     "name": "stderr",
     "output_type": "stream",
     "text": [
      "0it [00:00, ?it/s]\n"
     ]
    },
    {
     "name": "stdout",
     "output_type": "stream",
     "text": [
      "count_dif_dir\n",
      "0\n",
      "percent_dif_dir\n",
      "0.0\n",
      "Epoch = 13. Time index = 2. Threshold MC = 0.85. Threshold MD = 0.7\n",
      "RD = 0 NZ = 0 NZA = 0 pNZ = 0.000% pNZA = 0.000% AD = 0.00% ADA = 0.00% NO = 1 GSP = 0.00% NSP = 0.00%\n",
      "SI2 = -0.55 SI = -0.55 eGROI = 0.00% eROI = 0.00% eROI2 = 0.00% eROI3 = 0.00% mSpread = 0.0000%\n"
     ]
    },
    {
     "name": "stderr",
     "output_type": "stream",
     "text": [
      "0it [00:00, ?it/s]\n"
     ]
    },
    {
     "name": "stdout",
     "output_type": "stream",
     "text": [
      "count_dif_dir\n",
      "0\n",
      "percent_dif_dir\n",
      "0.0\n",
      "Epoch = 13. Time index = 2. Threshold MC = 0.85. Threshold MD = 0.75\n",
      "RD = 0 NZ = 0 NZA = 0 pNZ = 0.000% pNZA = 0.000% AD = 0.00% ADA = 0.00% NO = 1 GSP = 0.00% NSP = 0.00%\n",
      "SI2 = -0.55 SI = -0.55 eGROI = 0.00% eROI = 0.00% eROI2 = 0.00% eROI3 = 0.00% mSpread = 0.0000%\n"
     ]
    },
    {
     "name": "stderr",
     "output_type": "stream",
     "text": [
      "0it [00:00, ?it/s]\n"
     ]
    },
    {
     "name": "stdout",
     "output_type": "stream",
     "text": [
      "count_dif_dir\n",
      "0\n",
      "percent_dif_dir\n",
      "0.0\n",
      "Epoch = 13. Time index = 2. Threshold MC = 0.85. Threshold MD = 0.8\n",
      "RD = 0 NZ = 0 NZA = 0 pNZ = 0.000% pNZA = 0.000% AD = 0.00% ADA = 0.00% NO = 1 GSP = 0.00% NSP = 0.00%\n",
      "SI2 = -0.55 SI = -0.55 eGROI = 0.00% eROI = 0.00% eROI2 = 0.00% eROI3 = 0.00% mSpread = 0.0000%\n"
     ]
    },
    {
     "name": "stderr",
     "output_type": "stream",
     "text": [
      "0it [00:00, ?it/s]\n"
     ]
    },
    {
     "name": "stdout",
     "output_type": "stream",
     "text": [
      "count_dif_dir\n",
      "0\n",
      "percent_dif_dir\n",
      "0.0\n",
      "Epoch = 13. Time index = 2. Threshold MC = 0.85. Threshold MD = 0.85\n",
      "RD = 0 NZ = 0 NZA = 0 pNZ = 0.000% pNZA = 0.000% AD = 0.00% ADA = 0.00% NO = 1 GSP = 0.00% NSP = 0.00%\n",
      "SI2 = -0.55 SI = -0.55 eGROI = 0.00% eROI = 0.00% eROI2 = 0.00% eROI3 = 0.00% mSpread = 0.0000%\n"
     ]
    },
    {
     "name": "stderr",
     "output_type": "stream",
     "text": [
      "0it [00:00, ?it/s]\n"
     ]
    },
    {
     "name": "stdout",
     "output_type": "stream",
     "text": [
      "count_dif_dir\n",
      "0\n",
      "percent_dif_dir\n",
      "0.0\n",
      "Epoch = 13. Time index = 2. Threshold MC = 0.85. Threshold MD = 0.9\n",
      "RD = 0 NZ = 0 NZA = 0 pNZ = 0.000% pNZA = 0.000% AD = 0.00% ADA = 0.00% NO = 1 GSP = 0.00% NSP = 0.00%\n",
      "SI2 = -0.55 SI = -0.55 eGROI = 0.00% eROI = 0.00% eROI2 = 0.00% eROI3 = 0.00% mSpread = 0.0000%\n"
     ]
    },
    {
     "name": "stderr",
     "output_type": "stream",
     "text": [
      "0it [00:00, ?it/s]\n"
     ]
    },
    {
     "name": "stdout",
     "output_type": "stream",
     "text": [
      "count_dif_dir\n",
      "0\n",
      "percent_dif_dir\n",
      "0.0\n",
      "Epoch = 13. Time index = 2. Threshold MC = 0.85. Threshold MD = 0.95\n",
      "RD = 0 NZ = 0 NZA = 0 pNZ = 0.000% pNZA = 0.000% AD = 0.00% ADA = 0.00% NO = 1 GSP = 0.00% NSP = 0.00%\n",
      "SI2 = -0.55 SI = -0.55 eGROI = 0.00% eROI = 0.00% eROI2 = 0.00% eROI3 = 0.00% mSpread = 0.0000%\n",
      "\n"
     ]
    },
    {
     "name": "stderr",
     "output_type": "stream",
     "text": [
      "0it [00:00, ?it/s]\n"
     ]
    },
    {
     "name": "stdout",
     "output_type": "stream",
     "text": [
      "count_dif_dir\n",
      "0\n",
      "percent_dif_dir\n",
      "0.0\n",
      "Epoch = 13. Time index = 2. Threshold MC = 0.9. Threshold MD = 0.5\n",
      "RD = 0 NZ = 0 NZA = 0 pNZ = 0.000% pNZA = 0.000% AD = 0.00% ADA = 0.00% NO = 1 GSP = 0.00% NSP = 0.00%\n",
      "SI2 = -0.55 SI = -0.55 eGROI = 0.00% eROI = 0.00% eROI2 = 0.00% eROI3 = 0.00% mSpread = 0.0000%\n"
     ]
    },
    {
     "name": "stderr",
     "output_type": "stream",
     "text": [
      "0it [00:00, ?it/s]\n"
     ]
    },
    {
     "name": "stdout",
     "output_type": "stream",
     "text": [
      "count_dif_dir\n",
      "0\n",
      "percent_dif_dir\n",
      "0.0\n",
      "Epoch = 13. Time index = 2. Threshold MC = 0.9. Threshold MD = 0.55\n",
      "RD = 0 NZ = 0 NZA = 0 pNZ = 0.000% pNZA = 0.000% AD = 0.00% ADA = 0.00% NO = 1 GSP = 0.00% NSP = 0.00%\n",
      "SI2 = -0.55 SI = -0.55 eGROI = 0.00% eROI = 0.00% eROI2 = 0.00% eROI3 = 0.00% mSpread = 0.0000%\n"
     ]
    },
    {
     "name": "stderr",
     "output_type": "stream",
     "text": [
      "0it [00:00, ?it/s]\n"
     ]
    },
    {
     "name": "stdout",
     "output_type": "stream",
     "text": [
      "count_dif_dir\n",
      "0\n",
      "percent_dif_dir\n",
      "0.0\n",
      "Epoch = 13. Time index = 2. Threshold MC = 0.9. Threshold MD = 0.6\n",
      "RD = 0 NZ = 0 NZA = 0 pNZ = 0.000% pNZA = 0.000% AD = 0.00% ADA = 0.00% NO = 1 GSP = 0.00% NSP = 0.00%\n",
      "SI2 = -0.55 SI = -0.55 eGROI = 0.00% eROI = 0.00% eROI2 = 0.00% eROI3 = 0.00% mSpread = 0.0000%\n"
     ]
    },
    {
     "name": "stderr",
     "output_type": "stream",
     "text": [
      "0it [00:00, ?it/s]\n"
     ]
    },
    {
     "name": "stdout",
     "output_type": "stream",
     "text": [
      "count_dif_dir\n",
      "0\n",
      "percent_dif_dir\n",
      "0.0\n",
      "Epoch = 13. Time index = 2. Threshold MC = 0.9. Threshold MD = 0.65\n",
      "RD = 0 NZ = 0 NZA = 0 pNZ = 0.000% pNZA = 0.000% AD = 0.00% ADA = 0.00% NO = 1 GSP = 0.00% NSP = 0.00%\n",
      "SI2 = -0.55 SI = -0.55 eGROI = 0.00% eROI = 0.00% eROI2 = 0.00% eROI3 = 0.00% mSpread = 0.0000%\n"
     ]
    },
    {
     "name": "stderr",
     "output_type": "stream",
     "text": [
      "0it [00:00, ?it/s]\n"
     ]
    },
    {
     "name": "stdout",
     "output_type": "stream",
     "text": [
      "count_dif_dir\n",
      "0\n",
      "percent_dif_dir\n",
      "0.0\n",
      "Epoch = 13. Time index = 2. Threshold MC = 0.9. Threshold MD = 0.7\n",
      "RD = 0 NZ = 0 NZA = 0 pNZ = 0.000% pNZA = 0.000% AD = 0.00% ADA = 0.00% NO = 1 GSP = 0.00% NSP = 0.00%\n",
      "SI2 = -0.55 SI = -0.55 eGROI = 0.00% eROI = 0.00% eROI2 = 0.00% eROI3 = 0.00% mSpread = 0.0000%\n"
     ]
    },
    {
     "name": "stderr",
     "output_type": "stream",
     "text": [
      "0it [00:00, ?it/s]\n"
     ]
    },
    {
     "name": "stdout",
     "output_type": "stream",
     "text": [
      "count_dif_dir\n",
      "0\n",
      "percent_dif_dir\n",
      "0.0\n",
      "Epoch = 13. Time index = 2. Threshold MC = 0.9. Threshold MD = 0.75\n",
      "RD = 0 NZ = 0 NZA = 0 pNZ = 0.000% pNZA = 0.000% AD = 0.00% ADA = 0.00% NO = 1 GSP = 0.00% NSP = 0.00%\n",
      "SI2 = -0.55 SI = -0.55 eGROI = 0.00% eROI = 0.00% eROI2 = 0.00% eROI3 = 0.00% mSpread = 0.0000%\n"
     ]
    },
    {
     "name": "stderr",
     "output_type": "stream",
     "text": [
      "0it [00:00, ?it/s]\n"
     ]
    },
    {
     "name": "stdout",
     "output_type": "stream",
     "text": [
      "count_dif_dir\n",
      "0\n",
      "percent_dif_dir\n",
      "0.0\n",
      "Epoch = 13. Time index = 2. Threshold MC = 0.9. Threshold MD = 0.8\n",
      "RD = 0 NZ = 0 NZA = 0 pNZ = 0.000% pNZA = 0.000% AD = 0.00% ADA = 0.00% NO = 1 GSP = 0.00% NSP = 0.00%\n",
      "SI2 = -0.55 SI = -0.55 eGROI = 0.00% eROI = 0.00% eROI2 = 0.00% eROI3 = 0.00% mSpread = 0.0000%\n"
     ]
    },
    {
     "name": "stderr",
     "output_type": "stream",
     "text": [
      "0it [00:00, ?it/s]\n"
     ]
    },
    {
     "name": "stdout",
     "output_type": "stream",
     "text": [
      "count_dif_dir\n",
      "0\n",
      "percent_dif_dir\n",
      "0.0\n",
      "Epoch = 13. Time index = 2. Threshold MC = 0.9. Threshold MD = 0.85\n",
      "RD = 0 NZ = 0 NZA = 0 pNZ = 0.000% pNZA = 0.000% AD = 0.00% ADA = 0.00% NO = 1 GSP = 0.00% NSP = 0.00%\n",
      "SI2 = -0.55 SI = -0.55 eGROI = 0.00% eROI = 0.00% eROI2 = 0.00% eROI3 = 0.00% mSpread = 0.0000%\n"
     ]
    },
    {
     "name": "stderr",
     "output_type": "stream",
     "text": [
      "0it [00:00, ?it/s]\n"
     ]
    },
    {
     "name": "stdout",
     "output_type": "stream",
     "text": [
      "count_dif_dir\n",
      "0\n",
      "percent_dif_dir\n",
      "0.0\n",
      "Epoch = 13. Time index = 2. Threshold MC = 0.9. Threshold MD = 0.9\n",
      "RD = 0 NZ = 0 NZA = 0 pNZ = 0.000% pNZA = 0.000% AD = 0.00% ADA = 0.00% NO = 1 GSP = 0.00% NSP = 0.00%\n",
      "SI2 = -0.55 SI = -0.55 eGROI = 0.00% eROI = 0.00% eROI2 = 0.00% eROI3 = 0.00% mSpread = 0.0000%\n"
     ]
    },
    {
     "name": "stderr",
     "output_type": "stream",
     "text": [
      "0it [00:00, ?it/s]\n"
     ]
    },
    {
     "name": "stdout",
     "output_type": "stream",
     "text": [
      "count_dif_dir\n",
      "0\n",
      "percent_dif_dir\n",
      "0.0\n",
      "Epoch = 13. Time index = 2. Threshold MC = 0.9. Threshold MD = 0.95\n",
      "RD = 0 NZ = 0 NZA = 0 pNZ = 0.000% pNZA = 0.000% AD = 0.00% ADA = 0.00% NO = 1 GSP = 0.00% NSP = 0.00%\n",
      "SI2 = -0.55 SI = -0.55 eGROI = 0.00% eROI = 0.00% eROI2 = 0.00% eROI3 = 0.00% mSpread = 0.0000%\n",
      "\n"
     ]
    },
    {
     "name": "stderr",
     "output_type": "stream",
     "text": [
      "0it [00:00, ?it/s]\n"
     ]
    },
    {
     "name": "stdout",
     "output_type": "stream",
     "text": [
      "count_dif_dir\n",
      "0\n",
      "percent_dif_dir\n",
      "0.0\n",
      "Epoch = 13. Time index = 2. Threshold MC = 0.95. Threshold MD = 0.5\n",
      "RD = 0 NZ = 0 NZA = 0 pNZ = 0.000% pNZA = 0.000% AD = 0.00% ADA = 0.00% NO = 1 GSP = 0.00% NSP = 0.00%\n",
      "SI2 = -0.55 SI = -0.55 eGROI = 0.00% eROI = 0.00% eROI2 = 0.00% eROI3 = 0.00% mSpread = 0.0000%\n"
     ]
    },
    {
     "name": "stderr",
     "output_type": "stream",
     "text": [
      "0it [00:00, ?it/s]\n"
     ]
    },
    {
     "name": "stdout",
     "output_type": "stream",
     "text": [
      "count_dif_dir\n",
      "0\n",
      "percent_dif_dir\n",
      "0.0\n",
      "Epoch = 13. Time index = 2. Threshold MC = 0.95. Threshold MD = 0.55\n",
      "RD = 0 NZ = 0 NZA = 0 pNZ = 0.000% pNZA = 0.000% AD = 0.00% ADA = 0.00% NO = 1 GSP = 0.00% NSP = 0.00%\n",
      "SI2 = -0.55 SI = -0.55 eGROI = 0.00% eROI = 0.00% eROI2 = 0.00% eROI3 = 0.00% mSpread = 0.0000%\n"
     ]
    },
    {
     "name": "stderr",
     "output_type": "stream",
     "text": [
      "0it [00:00, ?it/s]\n"
     ]
    },
    {
     "name": "stdout",
     "output_type": "stream",
     "text": [
      "count_dif_dir\n",
      "0\n",
      "percent_dif_dir\n",
      "0.0\n",
      "Epoch = 13. Time index = 2. Threshold MC = 0.95. Threshold MD = 0.6\n",
      "RD = 0 NZ = 0 NZA = 0 pNZ = 0.000% pNZA = 0.000% AD = 0.00% ADA = 0.00% NO = 1 GSP = 0.00% NSP = 0.00%\n",
      "SI2 = -0.55 SI = -0.55 eGROI = 0.00% eROI = 0.00% eROI2 = 0.00% eROI3 = 0.00% mSpread = 0.0000%\n"
     ]
    },
    {
     "name": "stderr",
     "output_type": "stream",
     "text": [
      "0it [00:00, ?it/s]\n"
     ]
    },
    {
     "name": "stdout",
     "output_type": "stream",
     "text": [
      "count_dif_dir\n",
      "0\n",
      "percent_dif_dir\n",
      "0.0\n",
      "Epoch = 13. Time index = 2. Threshold MC = 0.95. Threshold MD = 0.65\n",
      "RD = 0 NZ = 0 NZA = 0 pNZ = 0.000% pNZA = 0.000% AD = 0.00% ADA = 0.00% NO = 1 GSP = 0.00% NSP = 0.00%\n",
      "SI2 = -0.55 SI = -0.55 eGROI = 0.00% eROI = 0.00% eROI2 = 0.00% eROI3 = 0.00% mSpread = 0.0000%\n"
     ]
    },
    {
     "name": "stderr",
     "output_type": "stream",
     "text": [
      "0it [00:00, ?it/s]\n"
     ]
    },
    {
     "name": "stdout",
     "output_type": "stream",
     "text": [
      "count_dif_dir\n",
      "0\n",
      "percent_dif_dir\n",
      "0.0\n",
      "Epoch = 13. Time index = 2. Threshold MC = 0.95. Threshold MD = 0.7\n",
      "RD = 0 NZ = 0 NZA = 0 pNZ = 0.000% pNZA = 0.000% AD = 0.00% ADA = 0.00% NO = 1 GSP = 0.00% NSP = 0.00%\n",
      "SI2 = -0.55 SI = -0.55 eGROI = 0.00% eROI = 0.00% eROI2 = 0.00% eROI3 = 0.00% mSpread = 0.0000%\n"
     ]
    },
    {
     "name": "stderr",
     "output_type": "stream",
     "text": [
      "0it [00:00, ?it/s]\n"
     ]
    },
    {
     "name": "stdout",
     "output_type": "stream",
     "text": [
      "count_dif_dir\n",
      "0\n",
      "percent_dif_dir\n",
      "0.0\n",
      "Epoch = 13. Time index = 2. Threshold MC = 0.95. Threshold MD = 0.75\n",
      "RD = 0 NZ = 0 NZA = 0 pNZ = 0.000% pNZA = 0.000% AD = 0.00% ADA = 0.00% NO = 1 GSP = 0.00% NSP = 0.00%\n",
      "SI2 = -0.55 SI = -0.55 eGROI = 0.00% eROI = 0.00% eROI2 = 0.00% eROI3 = 0.00% mSpread = 0.0000%\n"
     ]
    },
    {
     "name": "stderr",
     "output_type": "stream",
     "text": [
      "0it [00:00, ?it/s]\n"
     ]
    },
    {
     "name": "stdout",
     "output_type": "stream",
     "text": [
      "count_dif_dir\n",
      "0\n",
      "percent_dif_dir\n",
      "0.0\n",
      "Epoch = 13. Time index = 2. Threshold MC = 0.95. Threshold MD = 0.8\n",
      "RD = 0 NZ = 0 NZA = 0 pNZ = 0.000% pNZA = 0.000% AD = 0.00% ADA = 0.00% NO = 1 GSP = 0.00% NSP = 0.00%\n",
      "SI2 = -0.55 SI = -0.55 eGROI = 0.00% eROI = 0.00% eROI2 = 0.00% eROI3 = 0.00% mSpread = 0.0000%\n"
     ]
    },
    {
     "name": "stderr",
     "output_type": "stream",
     "text": [
      "0it [00:00, ?it/s]\n"
     ]
    },
    {
     "name": "stdout",
     "output_type": "stream",
     "text": [
      "count_dif_dir\n",
      "0\n",
      "percent_dif_dir\n",
      "0.0\n",
      "Epoch = 13. Time index = 2. Threshold MC = 0.95. Threshold MD = 0.85\n",
      "RD = 0 NZ = 0 NZA = 0 pNZ = 0.000% pNZA = 0.000% AD = 0.00% ADA = 0.00% NO = 1 GSP = 0.00% NSP = 0.00%\n",
      "SI2 = -0.55 SI = -0.55 eGROI = 0.00% eROI = 0.00% eROI2 = 0.00% eROI3 = 0.00% mSpread = 0.0000%\n"
     ]
    },
    {
     "name": "stderr",
     "output_type": "stream",
     "text": [
      "0it [00:00, ?it/s]\n"
     ]
    },
    {
     "name": "stdout",
     "output_type": "stream",
     "text": [
      "count_dif_dir\n",
      "0\n",
      "percent_dif_dir\n",
      "0.0\n",
      "Epoch = 13. Time index = 2. Threshold MC = 0.95. Threshold MD = 0.9\n",
      "RD = 0 NZ = 0 NZA = 0 pNZ = 0.000% pNZA = 0.000% AD = 0.00% ADA = 0.00% NO = 1 GSP = 0.00% NSP = 0.00%\n",
      "SI2 = -0.55 SI = -0.55 eGROI = 0.00% eROI = 0.00% eROI2 = 0.00% eROI3 = 0.00% mSpread = 0.0000%\n"
     ]
    },
    {
     "name": "stderr",
     "output_type": "stream",
     "text": [
      "0it [00:00, ?it/s]\n"
     ]
    },
    {
     "name": "stdout",
     "output_type": "stream",
     "text": [
      "count_dif_dir\n",
      "0\n",
      "percent_dif_dir\n",
      "0.0\n",
      "Epoch = 13. Time index = 2. Threshold MC = 0.95. Threshold MD = 0.95\n",
      "RD = 0 NZ = 0 NZA = 0 pNZ = 0.000% pNZA = 0.000% AD = 0.00% ADA = 0.00% NO = 1 GSP = 0.00% NSP = 0.00%\n",
      "SI2 = -0.55 SI = -0.55 eGROI = 0.00% eROI = 0.00% eROI2 = 0.00% eROI3 = 0.00% mSpread = 0.0000%\n",
      "\n"
     ]
    },
    {
     "name": "stderr",
     "output_type": "stream",
     "text": [
      "0it [00:00, ?it/s]\n"
     ]
    },
    {
     "name": "stdout",
     "output_type": "stream",
     "text": [
      "count_dif_dir\n",
      "0\n",
      "percent_dif_dir\n",
      "0.0\n",
      "Epoch = 13. Time index = 3. Threshold MC = 0.5. Threshold MD = 0.5\n",
      "J_test = 6.392173324312482, J_train = 6.560549366499607, Accuracy=0.5365056487304916\n",
      "RD = 166517 NZ = 321766 NZA = 618824 pNZ = 46.845% pNZA = 90.092% AD = 51.75% ADA = 26.91% NO = 1 GSP = 0.00% NSP = 0.00%\n",
      "SI2 = -0.55 SI = -0.55 eGROI = 0.00% eROI = 0.00% eROI2 = 0.00% eROI3 = 0.00% mSpread = 0.0000%\n"
     ]
    },
    {
     "name": "stderr",
     "output_type": "stream",
     "text": [
      "100%|██████████████████████████████████████████████████████████████████████████| 53640/53640 [00:13<00:00, 3915.87it/s]\n"
     ]
    },
    {
     "name": "stdout",
     "output_type": "stream",
     "text": [
      "count_dif_dir\n",
      "312\n",
      "percent_dif_dir\n",
      "2.84412032816773\n",
      "Epoch = 13. Time index = 3. Threshold MC = 0.5. Threshold MD = 0.55\n",
      "RD = 16095 NZ = 28384 NZA = 53641 pNZ = 4.132% pNZA = 7.809% AD = 56.70% ADA = 30.01% NO = 10970 GSP = 55.86% NSP = 46.24%\n",
      "SI2 = -830.50 SI = -961.50 eGROI = 79.36% eROI = -163.66% eROI2 = -140.04% eROI3 = -249.74% mSpread = 0.0222%\n"
     ]
    },
    {
     "name": "stderr",
     "output_type": "stream",
     "text": [
      "100%|████████████████████████████████████████████████████████████████████████████| 7103/7103 [00:02<00:00, 3410.74it/s]\n"
     ]
    },
    {
     "name": "stdout",
     "output_type": "stream",
     "text": [
      "count_dif_dir\n",
      "275\n",
      "percent_dif_dir\n",
      "10.56879323597233\n",
      "Epoch = 13. Time index = 3. Threshold MC = 0.5. Threshold MD = 0.6\n",
      "RD = 2360 NZ = 3586 NZA = 7104 pNZ = 0.522% pNZA = 1.034% AD = 65.81% ADA = 33.22% NO = 2602 GSP = 53.92% NSP = 43.24%\n",
      "SI2 = -247.10 SI = -306.10 eGROI = 29.72% eROI = -32.61% eROI2 = -22.32% eROI3 = -48.34% mSpread = 0.0240%\n"
     ]
    },
    {
     "name": "stderr",
     "output_type": "stream",
     "text": [
      "100%|████████████████████████████████████████████████████████████████████████████| 1627/1627 [00:00<00:00, 2204.30it/s]\n"
     ]
    },
    {
     "name": "stdout",
     "output_type": "stream",
     "text": [
      "count_dif_dir\n",
      "188\n",
      "percent_dif_dir\n",
      "21.05263157894737\n",
      "Epoch = 13. Time index = 3. Threshold MC = 0.5. Threshold MD = 0.65\n",
      "RD = 556 NZ = 789 NZA = 1628 pNZ = 0.115% pNZA = 0.237% AD = 70.47% ADA = 34.15% NO = 893 GSP = 48.60% NSP = 35.05%\n",
      "SI2 = -146.15 SI = -178.15 eGROI = 1.51% eROI = -22.27% eROI2 = -16.35% eROI3 = -25.28% mSpread = 0.0266%\n"
     ]
    },
    {
     "name": "stderr",
     "output_type": "stream",
     "text": [
      "100%|██████████████████████████████████████████████████████████████████████████████| 377/377 [00:00<00:00, 1679.94it/s]\n"
     ]
    },
    {
     "name": "stdout",
     "output_type": "stream",
     "text": [
      "count_dif_dir\n",
      "80\n",
      "percent_dif_dir\n",
      "29.739776951672862\n",
      "Epoch = 13. Time index = 3. Threshold MC = 0.5. Threshold MD = 0.7\n",
      "RD = 143 NZ = 188 NZA = 378 pNZ = 0.027% pNZA = 0.055% AD = 76.06% ADA = 37.83% NO = 269 GSP = 43.49% NSP = 30.86%\n",
      "SI2 = -56.95 SI = -64.95 eGROI = -2.73% eROI = -10.58% eROI2 = -8.11% eROI3 = -10.80% mSpread = 0.0292%\n"
     ]
    },
    {
     "name": "stderr",
     "output_type": "stream",
     "text": [
      "100%|████████████████████████████████████████████████████████████████████████████████| 47/47 [00:00<00:00, 1002.50it/s]\n"
     ]
    },
    {
     "name": "stdout",
     "output_type": "stream",
     "text": [
      "count_dif_dir\n",
      "16\n",
      "percent_dif_dir\n",
      "39.02439024390244\n",
      "Epoch = 13. Time index = 3. Threshold MC = 0.5. Threshold MD = 0.75\n",
      "RD = 15 NZ = 24 NZA = 48 pNZ = 0.003% pNZA = 0.007% AD = 62.50% ADA = 31.25% NO = 41 GSP = 36.59% NSP = 29.27%\n",
      "SI2 = -10.55 SI = -10.55 eGROI = -1.04% eROI = -2.26% eROI2 = -1.86% eROI3 = -2.27% mSpread = 0.0297%\n"
     ]
    },
    {
     "name": "stderr",
     "output_type": "stream",
     "text": [
      "100%|███████████████████████████████████████████████████████████████████████████████████| 1/1 [00:00<00:00, 501.35it/s]\n"
     ]
    },
    {
     "name": "stdout",
     "output_type": "stream",
     "text": [
      "count_dif_dir\n",
      "1\n",
      "percent_dif_dir\n",
      "50.0\n",
      "Epoch = 13. Time index = 3. Threshold MC = 0.5. Threshold MD = 0.8\n",
      "RD = 0 NZ = 0 NZA = 2 pNZ = 0.000% pNZA = 0.000% AD = 0.00% ADA = 0.00% NO = 2 GSP = 0.00% NSP = 0.00%\n",
      "SI2 = -1.10 SI = -1.10 eGROI = -0.11% eROI = -0.15% eROI2 = -0.15% eROI3 = -0.17% mSpread = 0.0193%\n"
     ]
    },
    {
     "name": "stderr",
     "output_type": "stream",
     "text": [
      "0it [00:00, ?it/s]\n"
     ]
    },
    {
     "name": "stdout",
     "output_type": "stream",
     "text": [
      "count_dif_dir\n",
      "0\n",
      "percent_dif_dir\n",
      "0.0\n",
      "Epoch = 13. Time index = 3. Threshold MC = 0.5. Threshold MD = 0.85\n",
      "RD = 0 NZ = 0 NZA = 0 pNZ = 0.000% pNZA = 0.000% AD = 0.00% ADA = 0.00% NO = 1 GSP = 0.00% NSP = 0.00%\n",
      "SI2 = -0.55 SI = -0.55 eGROI = 0.00% eROI = 0.00% eROI2 = 0.00% eROI3 = 0.00% mSpread = 0.0000%\n"
     ]
    },
    {
     "name": "stderr",
     "output_type": "stream",
     "text": [
      "0it [00:00, ?it/s]\n"
     ]
    },
    {
     "name": "stdout",
     "output_type": "stream",
     "text": [
      "count_dif_dir\n",
      "0\n",
      "percent_dif_dir\n",
      "0.0\n",
      "Epoch = 13. Time index = 3. Threshold MC = 0.5. Threshold MD = 0.9\n",
      "RD = 0 NZ = 0 NZA = 0 pNZ = 0.000% pNZA = 0.000% AD = 0.00% ADA = 0.00% NO = 1 GSP = 0.00% NSP = 0.00%\n",
      "SI2 = -0.55 SI = -0.55 eGROI = 0.00% eROI = 0.00% eROI2 = 0.00% eROI3 = 0.00% mSpread = 0.0000%\n"
     ]
    },
    {
     "name": "stderr",
     "output_type": "stream",
     "text": [
      "0it [00:00, ?it/s]\n"
     ]
    },
    {
     "name": "stdout",
     "output_type": "stream",
     "text": [
      "count_dif_dir\n",
      "0\n",
      "percent_dif_dir\n",
      "0.0\n",
      "Epoch = 13. Time index = 3. Threshold MC = 0.5. Threshold MD = 0.95\n",
      "RD = 0 NZ = 0 NZA = 0 pNZ = 0.000% pNZA = 0.000% AD = 0.00% ADA = 0.00% NO = 1 GSP = 0.00% NSP = 0.00%\n",
      "SI2 = -0.55 SI = -0.55 eGROI = 0.00% eROI = 0.00% eROI2 = 0.00% eROI3 = 0.00% mSpread = 0.0000%\n",
      "\n"
     ]
    },
    {
     "name": "stderr",
     "output_type": "stream",
     "text": [
      "0it [00:00, ?it/s]\n"
     ]
    },
    {
     "name": "stdout",
     "output_type": "stream",
     "text": [
      "count_dif_dir\n",
      "0\n",
      "percent_dif_dir\n",
      "0.0\n",
      "Epoch = 13. Time index = 3. Threshold MC = 0.55. Threshold MD = 0.5\n",
      "RD = 128243 NZ = 247760 NZA = 447504 pNZ = 36.070% pNZA = 65.150% AD = 51.76% ADA = 28.66% NO = 1 GSP = 0.00% NSP = 0.00%\n",
      "SI2 = -0.55 SI = -0.55 eGROI = 0.00% eROI = 0.00% eROI2 = 0.00% eROI3 = 0.00% mSpread = 0.0000%\n"
     ]
    },
    {
     "name": "stderr",
     "output_type": "stream",
     "text": [
      "100%|██████████████████████████████████████████████████████████████████████████| 40137/40137 [00:12<00:00, 3197.57it/s]\n"
     ]
    },
    {
     "name": "stdout",
     "output_type": "stream",
     "text": [
      "count_dif_dir\n",
      "333\n",
      "percent_dif_dir\n",
      "3.636562192857923\n",
      "Epoch = 13. Time index = 3. Threshold MC = 0.55. Threshold MD = 0.55\n",
      "RD = 13037 NZ = 23107 NZA = 40138 pNZ = 3.364% pNZA = 5.844% AD = 56.42% ADA = 32.48% NO = 9157 GSP = 56.09% NSP = 46.47%\n",
      "SI2 = -662.35 SI = -781.35 eGROI = 65.06% eROI = -136.74% eROI2 = -118.08% eROI3 = -209.65% mSpread = 0.0220%\n"
     ]
    },
    {
     "name": "stderr",
     "output_type": "stream",
     "text": [
      "100%|████████████████████████████████████████████████████████████████████████████| 4841/4841 [00:02<00:00, 2369.97it/s]\n"
     ]
    },
    {
     "name": "stdout",
     "output_type": "stream",
     "text": [
      "count_dif_dir\n",
      "223\n",
      "percent_dif_dir\n",
      "11.536471805483703\n",
      "Epoch = 13. Time index = 3. Threshold MC = 0.55. Threshold MD = 0.6\n",
      "RD = 1795 NZ = 2736 NZA = 4842 pNZ = 0.398% pNZA = 0.705% AD = 65.61% ADA = 37.07% NO = 1933 GSP = 54.47% NSP = 43.40%\n",
      "SI2 = -171.15 SI = -224.15 eGROI = 24.47% eROI = -21.86% eROI2 = -14.19% eROI3 = -33.52% mSpread = 0.0240%\n"
     ]
    },
    {
     "name": "stderr",
     "output_type": "stream",
     "text": [
      "100%|████████████████████████████████████████████████████████████████████████████| 1149/1149 [00:00<00:00, 2068.26it/s]\n"
     ]
    },
    {
     "name": "stdout",
     "output_type": "stream",
     "text": [
      "count_dif_dir\n",
      "155\n",
      "percent_dif_dir\n",
      "22.727272727272727\n",
      "Epoch = 13. Time index = 3. Threshold MC = 0.55. Threshold MD = 0.65\n",
      "RD = 424 NZ = 603 NZA = 1150 pNZ = 0.088% pNZA = 0.167% AD = 70.32% ADA = 36.87% NO = 682 GSP = 48.09% NSP = 33.58%\n",
      "SI2 = -125.10 SI = -146.10 eGROI = -0.73% eROI = -19.23% eROI2 = -14.37% eROI3 = -21.19% mSpread = 0.0271%\n"
     ]
    },
    {
     "name": "stderr",
     "output_type": "stream",
     "text": [
      "100%|██████████████████████████████████████████████████████████████████████████████| 297/297 [00:00<00:00, 1783.16it/s]\n"
     ]
    },
    {
     "name": "stdout",
     "output_type": "stream",
     "text": [
      "count_dif_dir\n",
      "69\n",
      "percent_dif_dir\n",
      "31.506849315068493\n",
      "Epoch = 13. Time index = 3. Threshold MC = 0.55. Threshold MD = 0.7\n",
      "RD = 122 NZ = 155 NZA = 298 pNZ = 0.023% pNZA = 0.043% AD = 78.71% ADA = 40.94% NO = 219 GSP = 41.55% NSP = 29.68%\n",
      "SI2 = -48.45 SI = -55.45 eGROI = -2.69% eROI = -9.33% eROI2 = -7.07% eROI3 = -9.26% mSpread = 0.0303%\n"
     ]
    },
    {
     "name": "stderr",
     "output_type": "stream",
     "text": [
      "100%|████████████████████████████████████████████████████████████████████████████████| 37/37 [00:00<00:00, 1124.16it/s]\n"
     ]
    },
    {
     "name": "stdout",
     "output_type": "stream",
     "text": [
      "count_dif_dir\n",
      "12\n",
      "percent_dif_dir\n",
      "36.36363636363637\n",
      "Epoch = 13. Time index = 3. Threshold MC = 0.55. Threshold MD = 0.75\n",
      "RD = 14 NZ = 21 NZA = 38 pNZ = 0.003% pNZA = 0.006% AD = 66.67% ADA = 36.84% NO = 33 GSP = 39.39% NSP = 36.36%\n",
      "SI2 = -7.15 SI = -6.15 eGROI = -0.53% eROI = -1.52% eROI2 = -1.19% eROI3 = -1.52% mSpread = 0.0301%\n"
     ]
    },
    {
     "name": "stderr",
     "output_type": "stream",
     "text": [
      "100%|███████████████████████████████████████████████████████████████████████████████████| 1/1 [00:00<00:00, 501.65it/s]\n"
     ]
    },
    {
     "name": "stdout",
     "output_type": "stream",
     "text": [
      "count_dif_dir\n",
      "1\n",
      "percent_dif_dir\n",
      "50.0\n",
      "Epoch = 13. Time index = 3. Threshold MC = 0.55. Threshold MD = 0.8\n",
      "RD = 0 NZ = 0 NZA = 2 pNZ = 0.000% pNZA = 0.000% AD = 0.00% ADA = 0.00% NO = 2 GSP = 0.00% NSP = 0.00%\n",
      "SI2 = -1.10 SI = -1.10 eGROI = -0.11% eROI = -0.15% eROI2 = -0.15% eROI3 = -0.17% mSpread = 0.0193%\n"
     ]
    },
    {
     "name": "stderr",
     "output_type": "stream",
     "text": [
      "0it [00:00, ?it/s]\n"
     ]
    },
    {
     "name": "stdout",
     "output_type": "stream",
     "text": [
      "count_dif_dir\n",
      "0\n",
      "percent_dif_dir\n",
      "0.0\n",
      "Epoch = 13. Time index = 3. Threshold MC = 0.55. Threshold MD = 0.85\n",
      "RD = 0 NZ = 0 NZA = 0 pNZ = 0.000% pNZA = 0.000% AD = 0.00% ADA = 0.00% NO = 1 GSP = 0.00% NSP = 0.00%\n",
      "SI2 = -0.55 SI = -0.55 eGROI = 0.00% eROI = 0.00% eROI2 = 0.00% eROI3 = 0.00% mSpread = 0.0000%\n"
     ]
    },
    {
     "name": "stderr",
     "output_type": "stream",
     "text": [
      "0it [00:00, ?it/s]\n"
     ]
    },
    {
     "name": "stdout",
     "output_type": "stream",
     "text": [
      "count_dif_dir\n",
      "0\n",
      "percent_dif_dir\n",
      "0.0\n",
      "Epoch = 13. Time index = 3. Threshold MC = 0.55. Threshold MD = 0.9\n",
      "RD = 0 NZ = 0 NZA = 0 pNZ = 0.000% pNZA = 0.000% AD = 0.00% ADA = 0.00% NO = 1 GSP = 0.00% NSP = 0.00%\n",
      "SI2 = -0.55 SI = -0.55 eGROI = 0.00% eROI = 0.00% eROI2 = 0.00% eROI3 = 0.00% mSpread = 0.0000%\n"
     ]
    },
    {
     "name": "stderr",
     "output_type": "stream",
     "text": [
      "0it [00:00, ?it/s]\n"
     ]
    },
    {
     "name": "stdout",
     "output_type": "stream",
     "text": [
      "count_dif_dir\n",
      "0\n",
      "percent_dif_dir\n",
      "0.0\n",
      "Epoch = 13. Time index = 3. Threshold MC = 0.55. Threshold MD = 0.95\n",
      "RD = 0 NZ = 0 NZA = 0 pNZ = 0.000% pNZA = 0.000% AD = 0.00% ADA = 0.00% NO = 1 GSP = 0.00% NSP = 0.00%\n",
      "SI2 = -0.55 SI = -0.55 eGROI = 0.00% eROI = 0.00% eROI2 = 0.00% eROI3 = 0.00% mSpread = 0.0000%\n",
      "\n"
     ]
    },
    {
     "name": "stderr",
     "output_type": "stream",
     "text": [
      "0it [00:00, ?it/s]\n"
     ]
    },
    {
     "name": "stdout",
     "output_type": "stream",
     "text": [
      "count_dif_dir\n",
      "0\n",
      "percent_dif_dir\n",
      "0.0\n",
      "Epoch = 13. Time index = 3. Threshold MC = 0.6. Threshold MD = 0.5\n",
      "RD = 46530 NZ = 89154 NZA = 144960 pNZ = 12.980% pNZA = 21.104% AD = 52.19% ADA = 32.10% NO = 1 GSP = 0.00% NSP = 0.00%\n",
      "SI2 = -0.55 SI = -0.55 eGROI = 0.00% eROI = 0.00% eROI2 = 0.00% eROI3 = 0.00% mSpread = 0.0000%\n"
     ]
    },
    {
     "name": "stderr",
     "output_type": "stream",
     "text": [
      "100%|██████████████████████████████████████████████████████████████████████████| 25130/25130 [00:06<00:00, 3882.17it/s]\n"
     ]
    },
    {
     "name": "stdout",
     "output_type": "stream",
     "text": [
      "count_dif_dir\n",
      "198\n",
      "percent_dif_dir\n",
      "3.2237056333441876\n",
      "Epoch = 13. Time index = 3. Threshold MC = 0.6. Threshold MD = 0.55\n",
      "RD = 8839 NZ = 15614 NZA = 25131 pNZ = 2.273% pNZA = 3.659% AD = 56.61% ADA = 35.17% NO = 6142 GSP = 55.83% NSP = 47.79%\n",
      "SI2 = -397.10 SI = -443.10 eGROI = 43.97% eROI = -86.76% eROI2 = -78.87% eROI3 = -140.29% mSpread = 0.0213%\n"
     ]
    },
    {
     "name": "stderr",
     "output_type": "stream",
     "text": [
      "100%|████████████████████████████████████████████████████████████████████████████| 3098/3098 [00:00<00:00, 3189.04it/s]\n"
     ]
    },
    {
     "name": "stdout",
     "output_type": "stream",
     "text": [
      "count_dif_dir\n",
      "125\n",
      "percent_dif_dir\n",
      "9.720062208398133\n",
      "Epoch = 13. Time index = 3. Threshold MC = 0.6. Threshold MD = 0.6\n",
      "RD = 1297 NZ = 1943 NZA = 3099 pNZ = 0.283% pNZA = 0.451% AD = 66.75% ADA = 41.85% NO = 1286 GSP = 56.53% NSP = 47.74%\n",
      "SI2 = -67.30 SI = -93.30 eGROI = 24.47% eROI = -6.03% eROI2 = -1.25% eROI3 = -14.11% mSpread = 0.0237%\n"
     ]
    },
    {
     "name": "stderr",
     "output_type": "stream",
     "text": [
      "100%|██████████████████████████████████████████████████████████████████████████████| 681/681 [00:00<00:00, 1896.62it/s]\n"
     ]
    },
    {
     "name": "stdout",
     "output_type": "stream",
     "text": [
      "count_dif_dir\n",
      "94\n",
      "percent_dif_dir\n",
      "23.15270935960591\n",
      "Epoch = 13. Time index = 3. Threshold MC = 0.6. Threshold MD = 0.65\n",
      "RD = 281 NZ = 394 NZA = 682 pNZ = 0.057% pNZA = 0.099% AD = 71.32% ADA = 41.20% NO = 406 GSP = 47.29% NSP = 34.98%\n",
      "SI2 = -68.30 SI = -81.30 eGROI = 0.64% eROI = -10.87% eROI2 = -7.48% eROI3 = -11.54% mSpread = 0.0283%\n"
     ]
    },
    {
     "name": "stderr",
     "output_type": "stream",
     "text": [
      "100%|██████████████████████████████████████████████████████████████████████████████| 201/201 [00:00<00:00, 1693.51it/s]\n"
     ]
    },
    {
     "name": "stdout",
     "output_type": "stream",
     "text": [
      "count_dif_dir\n",
      "46\n",
      "percent_dif_dir\n",
      "30.065359477124183\n",
      "Epoch = 13. Time index = 3. Threshold MC = 0.6. Threshold MD = 0.7\n",
      "RD = 92 NZ = 118 NZA = 202 pNZ = 0.017% pNZA = 0.029% AD = 77.97% ADA = 45.54% NO = 153 GSP = 42.48% NSP = 30.72%\n",
      "SI2 = -30.15 SI = -37.15 eGROI = -1.83% eROI = -6.79% eROI2 = -4.89% eROI3 = -6.42% mSpread = 0.0324%\n"
     ]
    },
    {
     "name": "stderr",
     "output_type": "stream",
     "text": [
      "100%|█████████████████████████████████████████████████████████████████████████████████| 28/28 [00:00<00:00, 935.80it/s]\n"
     ]
    },
    {
     "name": "stdout",
     "output_type": "stream",
     "text": [
      "count_dif_dir\n",
      "8\n",
      "percent_dif_dir\n",
      "32.0\n",
      "Epoch = 13. Time index = 3. Threshold MC = 0.6. Threshold MD = 0.75\n",
      "RD = 13 NZ = 19 NZA = 29 pNZ = 0.003% pNZA = 0.004% AD = 68.42% ADA = 44.83% NO = 25 GSP = 44.00% NSP = 40.00%\n",
      "SI2 = -4.75 SI = -3.75 eGROI = -0.38% eROI = -1.21% eROI2 = -0.88% eROI3 = -1.13% mSpread = 0.0329%\n"
     ]
    },
    {
     "name": "stderr",
     "output_type": "stream",
     "text": [
      "100%|███████████████████████████████████████████████████████████████████████████████████| 1/1 [00:00<00:00, 501.29it/s]\n"
     ]
    },
    {
     "name": "stdout",
     "output_type": "stream",
     "text": [
      "count_dif_dir\n",
      "1\n",
      "percent_dif_dir\n",
      "50.0\n",
      "Epoch = 13. Time index = 3. Threshold MC = 0.6. Threshold MD = 0.8\n",
      "RD = 0 NZ = 0 NZA = 2 pNZ = 0.000% pNZA = 0.000% AD = 0.00% ADA = 0.00% NO = 2 GSP = 0.00% NSP = 0.00%\n",
      "SI2 = -1.10 SI = -1.10 eGROI = -0.11% eROI = -0.15% eROI2 = -0.15% eROI3 = -0.17% mSpread = 0.0193%\n"
     ]
    },
    {
     "name": "stderr",
     "output_type": "stream",
     "text": [
      "0it [00:00, ?it/s]\n"
     ]
    },
    {
     "name": "stdout",
     "output_type": "stream",
     "text": [
      "count_dif_dir\n",
      "0\n",
      "percent_dif_dir\n",
      "0.0\n",
      "Epoch = 13. Time index = 3. Threshold MC = 0.6. Threshold MD = 0.85\n",
      "RD = 0 NZ = 0 NZA = 0 pNZ = 0.000% pNZA = 0.000% AD = 0.00% ADA = 0.00% NO = 1 GSP = 0.00% NSP = 0.00%\n",
      "SI2 = -0.55 SI = -0.55 eGROI = 0.00% eROI = 0.00% eROI2 = 0.00% eROI3 = 0.00% mSpread = 0.0000%\n"
     ]
    },
    {
     "name": "stderr",
     "output_type": "stream",
     "text": [
      "0it [00:00, ?it/s]\n"
     ]
    },
    {
     "name": "stdout",
     "output_type": "stream",
     "text": [
      "count_dif_dir\n",
      "0\n",
      "percent_dif_dir\n",
      "0.0\n",
      "Epoch = 13. Time index = 3. Threshold MC = 0.6. Threshold MD = 0.9\n",
      "RD = 0 NZ = 0 NZA = 0 pNZ = 0.000% pNZA = 0.000% AD = 0.00% ADA = 0.00% NO = 1 GSP = 0.00% NSP = 0.00%\n",
      "SI2 = -0.55 SI = -0.55 eGROI = 0.00% eROI = 0.00% eROI2 = 0.00% eROI3 = 0.00% mSpread = 0.0000%\n"
     ]
    },
    {
     "name": "stderr",
     "output_type": "stream",
     "text": [
      "0it [00:00, ?it/s]\n"
     ]
    },
    {
     "name": "stdout",
     "output_type": "stream",
     "text": [
      "count_dif_dir\n",
      "0\n",
      "percent_dif_dir\n",
      "0.0\n",
      "Epoch = 13. Time index = 3. Threshold MC = 0.6. Threshold MD = 0.95\n",
      "RD = 0 NZ = 0 NZA = 0 pNZ = 0.000% pNZA = 0.000% AD = 0.00% ADA = 0.00% NO = 1 GSP = 0.00% NSP = 0.00%\n",
      "SI2 = -0.55 SI = -0.55 eGROI = 0.00% eROI = 0.00% eROI2 = 0.00% eROI3 = 0.00% mSpread = 0.0000%\n",
      "\n"
     ]
    },
    {
     "name": "stderr",
     "output_type": "stream",
     "text": [
      "100%|██████████████████████████████████████████████████████████████████████████| 24905/24905 [00:07<00:00, 3518.43it/s]\n"
     ]
    },
    {
     "name": "stdout",
     "output_type": "stream",
     "text": [
      "count_dif_dir\n",
      "102\n",
      "percent_dif_dir\n",
      "3.225806451612903\n",
      "Epoch = 13. Time index = 3. Threshold MC = 0.65. Threshold MD = 0.5\n",
      "RD = 9027 NZ = 16851 NZA = 24906 pNZ = 2.453% pNZA = 3.626% AD = 53.57% ADA = 36.24% NO = 3162 GSP = 51.96% NSP = 46.17%\n",
      "SI2 = -280.10 SI = -279.10 eGROI = 10.69% eROI = -52.13% eROI2 = -52.55% eROI3 = -84.17% mSpread = 0.0199%\n"
     ]
    },
    {
     "name": "stderr",
     "output_type": "stream",
     "text": [
      "100%|████████████████████████████████████████████████████████████████████████████| 8480/8480 [00:02<00:00, 3573.87it/s]\n"
     ]
    },
    {
     "name": "stdout",
     "output_type": "stream",
     "text": [
      "count_dif_dir\n",
      "84\n",
      "percent_dif_dir\n",
      "3.5383319292333613\n",
      "Epoch = 13. Time index = 3. Threshold MC = 0.65. Threshold MD = 0.55\n",
      "RD = 3280 NZ = 5719 NZA = 8481 pNZ = 0.833% pNZA = 1.235% AD = 57.35% ADA = 38.67% NO = 2374 GSP = 54.55% NSP = 47.94%\n",
      "SI2 = -159.70 SI = -167.70 eGROI = 23.05% eROI = -24.49% eROI2 = -24.43% eROI3 = -48.17% mSpread = 0.0200%\n"
     ]
    },
    {
     "name": "stderr",
     "output_type": "stream",
     "text": [
      "100%|████████████████████████████████████████████████████████████████████████████| 1747/1747 [00:00<00:00, 2370.20it/s]\n"
     ]
    },
    {
     "name": "stdout",
     "output_type": "stream",
     "text": [
      "count_dif_dir\n",
      "54\n",
      "percent_dif_dir\n",
      "7.228915662650603\n",
      "Epoch = 13. Time index = 3. Threshold MC = 0.65. Threshold MD = 0.6\n",
      "RD = 776 NZ = 1169 NZA = 1748 pNZ = 0.170% pNZA = 0.254% AD = 66.38% ADA = 44.39% NO = 747 GSP = 57.83% NSP = 51.27%\n",
      "SI2 = -19.85 SI = -27.85 eGROI = 22.03% eROI = 5.91% eROI2 = 7.09% eROI3 = -0.38% mSpread = 0.0216%\n"
     ]
    },
    {
     "name": "stderr",
     "output_type": "stream",
     "text": [
      "100%|██████████████████████████████████████████████████████████████████████████████| 291/291 [00:00<00:00, 1639.13it/s]\n"
     ]
    },
    {
     "name": "stdout",
     "output_type": "stream",
     "text": [
      "count_dif_dir\n",
      "38\n",
      "percent_dif_dir\n",
      "20.21276595744681\n",
      "Epoch = 13. Time index = 3. Threshold MC = 0.65. Threshold MD = 0.65\n",
      "RD = 138 NZ = 190 NZA = 292 pNZ = 0.028% pNZA = 0.043% AD = 72.63% ADA = 47.26% NO = 188 GSP = 52.13% NSP = 41.49%\n",
      "SI2 = -18.40 SI = -25.40 eGROI = 2.23% eROI = -2.99% eROI2 = -1.53% eROI3 = -3.41% mSpread = 0.0278%\n"
     ]
    },
    {
     "name": "stderr",
     "output_type": "stream",
     "text": [
      "100%|████████████████████████████████████████████████████████████████████████████████| 82/82 [00:00<00:00, 1347.80it/s]\n"
     ]
    },
    {
     "name": "stdout",
     "output_type": "stream",
     "text": [
      "count_dif_dir\n",
      "24\n",
      "percent_dif_dir\n",
      "33.80281690140845\n",
      "Epoch = 13. Time index = 3. Threshold MC = 0.65. Threshold MD = 0.7\n",
      "RD = 46 NZ = 53 NZA = 83 pNZ = 0.008% pNZA = 0.012% AD = 86.79% ADA = 55.42% NO = 71 GSP = 46.48% NSP = 38.03%\n",
      "SI2 = -9.05 SI = -12.05 eGROI = 0.10% eROI = -2.31% eROI2 = -1.32% eROI3 = -2.03% mSpread = 0.0340%\n"
     ]
    },
    {
     "name": "stderr",
     "output_type": "stream",
     "text": [
      "100%|█████████████████████████████████████████████████████████████████████████████████| 14/14 [00:00<00:00, 935.74it/s]\n"
     ]
    },
    {
     "name": "stdout",
     "output_type": "stream",
     "text": [
      "count_dif_dir\n",
      "6\n",
      "percent_dif_dir\n",
      "40.0\n",
      "Epoch = 13. Time index = 3. Threshold MC = 0.65. Threshold MD = 0.75\n",
      "RD = 7 NZ = 8 NZA = 15 pNZ = 0.001% pNZA = 0.002% AD = 87.50% ADA = 46.67% NO = 15 GSP = 40.00% NSP = 33.33%\n",
      "SI2 = -4.25 SI = -3.25 eGROI = -0.38% eROI = -0.95% eROI2 = -0.68% eROI3 = -0.83% mSpread = 0.0381%\n"
     ]
    },
    {
     "name": "stderr",
     "output_type": "stream",
     "text": [
      "100%|███████████████████████████████████████████████████████████████████████████████████| 1/1 [00:00<00:00, 501.05it/s]\n"
     ]
    },
    {
     "name": "stdout",
     "output_type": "stream",
     "text": [
      "count_dif_dir\n",
      "1\n",
      "percent_dif_dir\n",
      "50.0\n",
      "Epoch = 13. Time index = 3. Threshold MC = 0.65. Threshold MD = 0.8\n",
      "RD = 0 NZ = 0 NZA = 2 pNZ = 0.000% pNZA = 0.000% AD = 0.00% ADA = 0.00% NO = 2 GSP = 0.00% NSP = 0.00%\n",
      "SI2 = -1.10 SI = -1.10 eGROI = -0.11% eROI = -0.15% eROI2 = -0.15% eROI3 = -0.17% mSpread = 0.0193%\n"
     ]
    },
    {
     "name": "stderr",
     "output_type": "stream",
     "text": [
      "0it [00:00, ?it/s]\n"
     ]
    },
    {
     "name": "stdout",
     "output_type": "stream",
     "text": [
      "count_dif_dir\n",
      "0\n",
      "percent_dif_dir\n",
      "0.0\n",
      "Epoch = 13. Time index = 3. Threshold MC = 0.65. Threshold MD = 0.85\n",
      "RD = 0 NZ = 0 NZA = 0 pNZ = 0.000% pNZA = 0.000% AD = 0.00% ADA = 0.00% NO = 1 GSP = 0.00% NSP = 0.00%\n",
      "SI2 = -0.55 SI = -0.55 eGROI = 0.00% eROI = 0.00% eROI2 = 0.00% eROI3 = 0.00% mSpread = 0.0000%\n"
     ]
    },
    {
     "name": "stderr",
     "output_type": "stream",
     "text": [
      "0it [00:00, ?it/s]\n"
     ]
    },
    {
     "name": "stdout",
     "output_type": "stream",
     "text": [
      "count_dif_dir\n",
      "0\n",
      "percent_dif_dir\n",
      "0.0\n",
      "Epoch = 13. Time index = 3. Threshold MC = 0.65. Threshold MD = 0.9\n",
      "RD = 0 NZ = 0 NZA = 0 pNZ = 0.000% pNZA = 0.000% AD = 0.00% ADA = 0.00% NO = 1 GSP = 0.00% NSP = 0.00%\n",
      "SI2 = -0.55 SI = -0.55 eGROI = 0.00% eROI = 0.00% eROI2 = 0.00% eROI3 = 0.00% mSpread = 0.0000%\n"
     ]
    },
    {
     "name": "stderr",
     "output_type": "stream",
     "text": [
      "0it [00:00, ?it/s]\n"
     ]
    },
    {
     "name": "stdout",
     "output_type": "stream",
     "text": [
      "count_dif_dir\n",
      "0\n",
      "percent_dif_dir\n",
      "0.0\n",
      "Epoch = 13. Time index = 3. Threshold MC = 0.65. Threshold MD = 0.95\n",
      "RD = 0 NZ = 0 NZA = 0 pNZ = 0.000% pNZA = 0.000% AD = 0.00% ADA = 0.00% NO = 1 GSP = 0.00% NSP = 0.00%\n",
      "SI2 = -0.55 SI = -0.55 eGROI = 0.00% eROI = 0.00% eROI2 = 0.00% eROI3 = 0.00% mSpread = 0.0000%\n",
      "\n"
     ]
    },
    {
     "name": "stderr",
     "output_type": "stream",
     "text": [
      "100%|████████████████████████████████████████████████████████████████████████████| 4622/4622 [00:01<00:00, 2702.11it/s]\n"
     ]
    },
    {
     "name": "stdout",
     "output_type": "stream",
     "text": [
      "count_dif_dir\n",
      "31\n",
      "percent_dif_dir\n",
      "3.803680981595092\n",
      "Epoch = 13. Time index = 3. Threshold MC = 0.7. Threshold MD = 0.5\n",
      "RD = 1831 NZ = 3371 NZA = 4623 pNZ = 0.491% pNZA = 0.673% AD = 54.32% ADA = 39.61% NO = 815 GSP = 51.29% NSP = 46.87%\n",
      "SI2 = -71.25 SI = -66.25 eGROI = 2.79% eROI = -12.84% eROI2 = -13.51% eROI3 = -21.66% mSpread = 0.0192%\n"
     ]
    },
    {
     "name": "stderr",
     "output_type": "stream",
     "text": [
      "100%|████████████████████████████████████████████████████████████████████████████| 2118/2118 [00:00<00:00, 2519.04it/s]\n"
     ]
    },
    {
     "name": "stdout",
     "output_type": "stream",
     "text": [
      "count_dif_dir\n",
      "27\n",
      "percent_dif_dir\n",
      "4.2586750788643535\n",
      "Epoch = 13. Time index = 3. Threshold MC = 0.7. Threshold MD = 0.55\n",
      "RD = 887 NZ = 1544 NZA = 2119 pNZ = 0.225% pNZA = 0.308% AD = 57.45% ADA = 41.86% NO = 634 GSP = 51.26% NSP = 46.21%\n",
      "SI2 = -59.70 SI = -55.70 eGROI = 7.30% eROI = -4.74% eROI2 = -5.38% eROI3 = -11.72% mSpread = 0.0190%\n"
     ]
    },
    {
     "name": "stderr",
     "output_type": "stream",
     "text": [
      "100%|██████████████████████████████████████████████████████████████████████████████| 663/663 [00:00<00:00, 1949.38it/s]\n"
     ]
    },
    {
     "name": "stdout",
     "output_type": "stream",
     "text": [
      "count_dif_dir\n",
      "13\n",
      "percent_dif_dir\n",
      "4.942965779467681\n",
      "Epoch = 13. Time index = 3. Threshold MC = 0.7. Threshold MD = 0.6\n",
      "RD = 296 NZ = 467 NZA = 664 pNZ = 0.068% pNZA = 0.097% AD = 63.38% ADA = 44.58% NO = 263 GSP = 54.37% NSP = 49.81%\n",
      "SI2 = -14.65 SI = -13.65 eGROI = 8.13% eROI = 2.93% eROI2 = 2.87% eROI3 = 0.24% mSpread = 0.0198%\n"
     ]
    },
    {
     "name": "stderr",
     "output_type": "stream",
     "text": [
      "100%|██████████████████████████████████████████████████████████████████████████████| 107/107 [00:00<00:00, 2332.25it/s]\n"
     ]
    },
    {
     "name": "stdout",
     "output_type": "stream",
     "text": [
      "count_dif_dir\n",
      "8\n",
      "percent_dif_dir\n",
      "13.333333333333334\n",
      "Epoch = 13. Time index = 3. Threshold MC = 0.7. Threshold MD = 0.65\n",
      "RD = 42 NZ = 76 NZA = 108 pNZ = 0.011% pNZA = 0.016% AD = 55.26% ADA = 38.89% NO = 60 GSP = 51.67% NSP = 46.67%\n",
      "SI2 = -4.00 SI = -5.00 eGROI = -0.16% eROI = -1.67% eROI2 = -1.36% eROI3 = -1.96% mSpread = 0.0251%\n"
     ]
    },
    {
     "name": "stderr",
     "output_type": "stream",
     "text": [
      "100%|████████████████████████████████████████████████████████████████████████████████| 27/27 [00:00<00:00, 1504.03it/s]\n"
     ]
    },
    {
     "name": "stdout",
     "output_type": "stream",
     "text": [
      "count_dif_dir\n",
      "5\n",
      "percent_dif_dir\n",
      "23.80952380952381\n",
      "Epoch = 13. Time index = 3. Threshold MC = 0.7. Threshold MD = 0.7\n",
      "RD = 15 NZ = 21 NZA = 28 pNZ = 0.003% pNZA = 0.004% AD = 71.43% ADA = 53.57% NO = 21 GSP = 47.62% NSP = 42.86%\n",
      "SI2 = -1.55 SI = -2.55 eGROI = -0.24% eROI = -1.01% eROI2 = -0.66% eROI3 = -0.87% mSpread = 0.0363%\n"
     ]
    },
    {
     "name": "stderr",
     "output_type": "stream",
     "text": [
      "100%|██████████████████████████████████████████████████████████████████████████████████| 2/2 [00:00<00:00, 1001.98it/s]\n"
     ]
    },
    {
     "name": "stdout",
     "output_type": "stream",
     "text": [
      "count_dif_dir\n",
      "1\n",
      "percent_dif_dir\n",
      "33.333333333333336\n",
      "Epoch = 13. Time index = 3. Threshold MC = 0.7. Threshold MD = 0.75\n",
      "RD = 2 NZ = 3 NZA = 3 pNZ = 0.000% pNZA = 0.000% AD = 66.67% ADA = 66.67% NO = 3 GSP = 33.33% NSP = 33.33%\n",
      "SI2 = -1.65 SI = -0.65 eGROI = -0.24% eROI = -0.44% eROI2 = -0.30% eROI3 = -0.33% mSpread = 0.0687%\n"
     ]
    },
    {
     "name": "stderr",
     "output_type": "stream",
     "text": [
      "0it [00:00, ?it/s]\n"
     ]
    },
    {
     "name": "stdout",
     "output_type": "stream",
     "text": [
      "count_dif_dir\n",
      "0\n",
      "percent_dif_dir\n",
      "0.0\n",
      "Epoch = 13. Time index = 3. Threshold MC = 0.7. Threshold MD = 0.8\n",
      "RD = 0 NZ = 0 NZA = 0 pNZ = 0.000% pNZA = 0.000% AD = 0.00% ADA = 0.00% NO = 1 GSP = 0.00% NSP = 0.00%\n",
      "SI2 = -0.55 SI = -0.55 eGROI = 0.00% eROI = 0.00% eROI2 = 0.00% eROI3 = 0.00% mSpread = 0.0000%\n"
     ]
    },
    {
     "name": "stderr",
     "output_type": "stream",
     "text": [
      "0it [00:00, ?it/s]\n"
     ]
    },
    {
     "name": "stdout",
     "output_type": "stream",
     "text": [
      "count_dif_dir\n",
      "0\n",
      "percent_dif_dir\n",
      "0.0\n",
      "Epoch = 13. Time index = 3. Threshold MC = 0.7. Threshold MD = 0.85\n",
      "RD = 0 NZ = 0 NZA = 0 pNZ = 0.000% pNZA = 0.000% AD = 0.00% ADA = 0.00% NO = 1 GSP = 0.00% NSP = 0.00%\n",
      "SI2 = -0.55 SI = -0.55 eGROI = 0.00% eROI = 0.00% eROI2 = 0.00% eROI3 = 0.00% mSpread = 0.0000%\n"
     ]
    },
    {
     "name": "stderr",
     "output_type": "stream",
     "text": [
      "0it [00:00, ?it/s]\n"
     ]
    },
    {
     "name": "stdout",
     "output_type": "stream",
     "text": [
      "count_dif_dir\n",
      "0\n",
      "percent_dif_dir\n",
      "0.0\n",
      "Epoch = 13. Time index = 3. Threshold MC = 0.7. Threshold MD = 0.9\n",
      "RD = 0 NZ = 0 NZA = 0 pNZ = 0.000% pNZA = 0.000% AD = 0.00% ADA = 0.00% NO = 1 GSP = 0.00% NSP = 0.00%\n",
      "SI2 = -0.55 SI = -0.55 eGROI = 0.00% eROI = 0.00% eROI2 = 0.00% eROI3 = 0.00% mSpread = 0.0000%\n"
     ]
    },
    {
     "name": "stderr",
     "output_type": "stream",
     "text": [
      "0it [00:00, ?it/s]\n"
     ]
    },
    {
     "name": "stdout",
     "output_type": "stream",
     "text": [
      "count_dif_dir\n",
      "0\n",
      "percent_dif_dir\n",
      "0.0\n",
      "Epoch = 13. Time index = 3. Threshold MC = 0.7. Threshold MD = 0.95\n",
      "RD = 0 NZ = 0 NZA = 0 pNZ = 0.000% pNZA = 0.000% AD = 0.00% ADA = 0.00% NO = 1 GSP = 0.00% NSP = 0.00%\n",
      "SI2 = -0.55 SI = -0.55 eGROI = 0.00% eROI = 0.00% eROI2 = 0.00% eROI3 = 0.00% mSpread = 0.0000%\n",
      "\n"
     ]
    },
    {
     "name": "stderr",
     "output_type": "stream",
     "text": [
      "100%|██████████████████████████████████████████████████████████████████████████████| 708/708 [00:00<00:00, 2933.29it/s]\n"
     ]
    },
    {
     "name": "stdout",
     "output_type": "stream",
     "text": [
      "count_dif_dir\n",
      "5\n",
      "percent_dif_dir\n",
      "2.487562189054726\n",
      "Epoch = 13. Time index = 3. Threshold MC = 0.75. Threshold MD = 0.5\n",
      "RD = 312 NZ = 534 NZA = 709 pNZ = 0.078% pNZA = 0.103% AD = 58.43% ADA = 44.01% NO = 201 GSP = 54.73% NSP = 52.74%\n",
      "SI2 = -5.55 SI = -4.55 eGROI = 5.66% eROI = 2.09% eROI2 = 1.64% eROI3 = -0.37% mSpread = 0.0177%\n"
     ]
    },
    {
     "name": "stderr",
     "output_type": "stream",
     "text": [
      "100%|██████████████████████████████████████████████████████████████████████████████| 367/367 [00:00<00:00, 2537.63it/s]\n"
     ]
    },
    {
     "name": "stdout",
     "output_type": "stream",
     "text": [
      "count_dif_dir\n",
      "4\n",
      "percent_dif_dir\n",
      "2.7586206896551726\n",
      "Epoch = 13. Time index = 3. Threshold MC = 0.75. Threshold MD = 0.55\n",
      "RD = 177 NZ = 279 NZA = 368 pNZ = 0.041% pNZA = 0.054% AD = 63.44% ADA = 48.10% NO = 145 GSP = 53.79% NSP = 51.03%\n",
      "SI2 = -6.75 SI = -5.75 eGROI = 4.84% eROI = 2.31% eROI2 = 1.94% eROI3 = 0.49% mSpread = 0.0174%\n"
     ]
    },
    {
     "name": "stderr",
     "output_type": "stream",
     "text": [
      "100%|██████████████████████████████████████████████████████████████████████████████| 152/152 [00:00<00:00, 2116.66it/s]\n"
     ]
    },
    {
     "name": "stdout",
     "output_type": "stream",
     "text": [
      "count_dif_dir\n",
      "3\n",
      "percent_dif_dir\n",
      "4.3478260869565215\n",
      "Epoch = 13. Time index = 3. Threshold MC = 0.75. Threshold MD = 0.6\n",
      "RD = 82 NZ = 111 NZA = 153 pNZ = 0.016% pNZA = 0.022% AD = 73.87% ADA = 53.59% NO = 69 GSP = 66.67% NSP = 59.42%\n",
      "SI2 = 3.05 SI = 3.05 eGROI = 5.54% eROI = 4.33% eROI2 = 4.16% eROI3 = 3.47% mSpread = 0.0175%\n"
     ]
    },
    {
     "name": "stderr",
     "output_type": "stream",
     "text": [
      "100%|████████████████████████████████████████████████████████████████████████████████| 26/26 [00:00<00:00, 1629.27it/s]\n"
     ]
    },
    {
     "name": "stdout",
     "output_type": "stream",
     "text": [
      "count_dif_dir\n",
      "1\n",
      "percent_dif_dir\n",
      "6.666666666666667\n",
      "Epoch = 13. Time index = 3. Threshold MC = 0.75. Threshold MD = 0.65\n",
      "RD = 12 NZ = 22 NZA = 27 pNZ = 0.003% pNZA = 0.004% AD = 54.55% ADA = 44.44% NO = 15 GSP = 66.67% NSP = 66.67%\n",
      "SI2 = 0.75 SI = 1.75 eGROI = 0.57% eROI = 0.24% eROI2 = 0.27% eROI3 = 0.12% mSpread = 0.0218%\n"
     ]
    },
    {
     "name": "stderr",
     "output_type": "stream",
     "text": [
      "100%|██████████████████████████████████████████████████████████████████████████████████| 5/5 [00:00<00:00, 1002.61it/s]\n"
     ]
    },
    {
     "name": "stdout",
     "output_type": "stream",
     "text": [
      "count_dif_dir\n",
      "0\n",
      "percent_dif_dir\n",
      "0.0\n",
      "Epoch = 13. Time index = 3. Threshold MC = 0.75. Threshold MD = 0.7\n",
      "RD = 3 NZ = 4 NZA = 6 pNZ = 0.001% pNZA = 0.001% AD = 75.00% ADA = 50.00% NO = 5 GSP = 80.00% NSP = 80.00%\n",
      "SI2 = -0.75 SI = 1.25 eGROI = 0.23% eROI = 0.12% eROI2 = 0.13% eROI3 = 0.08% mSpread = 0.0223%\n"
     ]
    },
    {
     "name": "stderr",
     "output_type": "stream",
     "text": [
      "0it [00:00, ?it/s]\n"
     ]
    },
    {
     "name": "stdout",
     "output_type": "stream",
     "text": [
      "count_dif_dir\n",
      "0\n",
      "percent_dif_dir\n",
      "0.0\n",
      "Epoch = 13. Time index = 3. Threshold MC = 0.75. Threshold MD = 0.75\n",
      "RD = 1 NZ = 1 NZA = 1 pNZ = 0.000% pNZA = 0.000% AD = 100.00% ADA = 100.00% NO = 1 GSP = 100.00% NSP = 100.00%\n",
      "SI2 = -0.55 SI = 0.45 eGROI = 0.08% eROI = 0.06% eROI2 = 0.06% eROI3 = 0.05% mSpread = 0.0286%\n"
     ]
    },
    {
     "name": "stderr",
     "output_type": "stream",
     "text": [
      "0it [00:00, ?it/s]\n"
     ]
    },
    {
     "name": "stdout",
     "output_type": "stream",
     "text": [
      "count_dif_dir\n",
      "0\n",
      "percent_dif_dir\n",
      "0.0\n",
      "Epoch = 13. Time index = 3. Threshold MC = 0.75. Threshold MD = 0.8\n",
      "RD = 0 NZ = 0 NZA = 0 pNZ = 0.000% pNZA = 0.000% AD = 0.00% ADA = 0.00% NO = 1 GSP = 0.00% NSP = 0.00%\n",
      "SI2 = -0.55 SI = -0.55 eGROI = 0.00% eROI = 0.00% eROI2 = 0.00% eROI3 = 0.00% mSpread = 0.0000%\n"
     ]
    },
    {
     "name": "stderr",
     "output_type": "stream",
     "text": [
      "0it [00:00, ?it/s]\n"
     ]
    },
    {
     "name": "stdout",
     "output_type": "stream",
     "text": [
      "count_dif_dir\n",
      "0\n",
      "percent_dif_dir\n",
      "0.0\n",
      "Epoch = 13. Time index = 3. Threshold MC = 0.75. Threshold MD = 0.85\n",
      "RD = 0 NZ = 0 NZA = 0 pNZ = 0.000% pNZA = 0.000% AD = 0.00% ADA = 0.00% NO = 1 GSP = 0.00% NSP = 0.00%\n",
      "SI2 = -0.55 SI = -0.55 eGROI = 0.00% eROI = 0.00% eROI2 = 0.00% eROI3 = 0.00% mSpread = 0.0000%\n"
     ]
    },
    {
     "name": "stderr",
     "output_type": "stream",
     "text": [
      "0it [00:00, ?it/s]\n"
     ]
    },
    {
     "name": "stdout",
     "output_type": "stream",
     "text": [
      "count_dif_dir\n",
      "0\n",
      "percent_dif_dir\n",
      "0.0\n",
      "Epoch = 13. Time index = 3. Threshold MC = 0.75. Threshold MD = 0.9\n",
      "RD = 0 NZ = 0 NZA = 0 pNZ = 0.000% pNZA = 0.000% AD = 0.00% ADA = 0.00% NO = 1 GSP = 0.00% NSP = 0.00%\n",
      "SI2 = -0.55 SI = -0.55 eGROI = 0.00% eROI = 0.00% eROI2 = 0.00% eROI3 = 0.00% mSpread = 0.0000%\n"
     ]
    },
    {
     "name": "stderr",
     "output_type": "stream",
     "text": [
      "0it [00:00, ?it/s]\n"
     ]
    },
    {
     "name": "stdout",
     "output_type": "stream",
     "text": [
      "count_dif_dir\n",
      "0\n",
      "percent_dif_dir\n",
      "0.0\n",
      "Epoch = 13. Time index = 3. Threshold MC = 0.75. Threshold MD = 0.95\n",
      "RD = 0 NZ = 0 NZA = 0 pNZ = 0.000% pNZA = 0.000% AD = 0.00% ADA = 0.00% NO = 1 GSP = 0.00% NSP = 0.00%\n",
      "SI2 = -0.55 SI = -0.55 eGROI = 0.00% eROI = 0.00% eROI2 = 0.00% eROI3 = 0.00% mSpread = 0.0000%\n",
      "\n"
     ]
    },
    {
     "name": "stderr",
     "output_type": "stream",
     "text": [
      "100%|████████████████████████████████████████████████████████████████████████████████| 59/59 [00:00<00:00, 2275.32it/s]\n"
     ]
    },
    {
     "name": "stdout",
     "output_type": "stream",
     "text": [
      "count_dif_dir\n",
      "1\n",
      "percent_dif_dir\n",
      "4.166666666666667\n",
      "Epoch = 13. Time index = 3. Threshold MC = 0.8. Threshold MD = 0.5\n",
      "RD = 32 NZ = 45 NZA = 60 pNZ = 0.007% pNZA = 0.009% AD = 71.11% ADA = 53.33% NO = 24 GSP = 75.00% NSP = 70.83%\n",
      "SI2 = 2.80 SI = 3.80 eGROI = 2.71% eROI = 2.26% eROI2 = 2.23% eROI3 = 1.99% mSpread = 0.0186%\n"
     ]
    },
    {
     "name": "stderr",
     "output_type": "stream",
     "text": [
      "100%|████████████████████████████████████████████████████████████████████████████████| 35/35 [00:00<00:00, 2339.53it/s]\n"
     ]
    },
    {
     "name": "stdout",
     "output_type": "stream",
     "text": [
      "count_dif_dir\n",
      "0\n",
      "percent_dif_dir\n",
      "0.0\n",
      "Epoch = 13. Time index = 3. Threshold MC = 0.8. Threshold MD = 0.55\n",
      "RD = 22 NZ = 26 NZA = 36 pNZ = 0.004% pNZA = 0.005% AD = 84.62% ADA = 61.11% NO = 14 GSP = 78.57% NSP = 71.43%\n",
      "SI2 = 3.30 SI = 2.30 eGROI = 1.65% eROI = 1.40% eROI2 = 1.37% eROI3 = 1.23% mSpread = 0.0180%\n"
     ]
    },
    {
     "name": "stderr",
     "output_type": "stream",
     "text": [
      "100%|████████████████████████████████████████████████████████████████████████████████| 19/19 [00:00<00:00, 2383.20it/s]\n"
     ]
    },
    {
     "name": "stdout",
     "output_type": "stream",
     "text": [
      "count_dif_dir\n",
      "0\n",
      "percent_dif_dir\n",
      "0.0\n",
      "Epoch = 13. Time index = 3. Threshold MC = 0.8. Threshold MD = 0.6\n",
      "RD = 15 NZ = 16 NZA = 20 pNZ = 0.002% pNZA = 0.003% AD = 93.75% ADA = 75.00% NO = 5 GSP = 80.00% NSP = 80.00%\n",
      "SI2 = 0.25 SI = 1.25 eGROI = 1.45% eROI = 1.39% eROI2 = 1.35% eROI3 = 1.30% mSpread = 0.0135%\n"
     ]
    },
    {
     "name": "stderr",
     "output_type": "stream",
     "text": [
      "100%|██████████████████████████████████████████████████████████████████████████████████| 2/2 [00:00<00:00, 1994.44it/s]\n"
     ]
    },
    {
     "name": "stdout",
     "output_type": "stream",
     "text": [
      "count_dif_dir\n",
      "0\n",
      "percent_dif_dir\n",
      "0.0\n",
      "Epoch = 13. Time index = 3. Threshold MC = 0.8. Threshold MD = 0.65\n",
      "RD = 2 NZ = 2 NZA = 3 pNZ = 0.000% pNZA = 0.000% AD = 100.00% ADA = 66.67% NO = 1 GSP = 100.00% NSP = 100.00%\n",
      "SI2 = -0.55 SI = 0.45 eGROI = 0.10% eROI = 0.07% eROI2 = 0.08% eROI3 = 0.07% mSpread = 0.0263%\n"
     ]
    },
    {
     "name": "stderr",
     "output_type": "stream",
     "text": [
      "100%|███████████████████████████████████████████████████████████████████████████████████| 1/1 [00:00<00:00, 501.41it/s]\n"
     ]
    },
    {
     "name": "stdout",
     "output_type": "stream",
     "text": [
      "count_dif_dir\n",
      "0\n",
      "percent_dif_dir\n",
      "0.0\n",
      "Epoch = 13. Time index = 3. Threshold MC = 0.8. Threshold MD = 0.7\n",
      "RD = 1 NZ = 1 NZA = 2 pNZ = 0.000% pNZA = 0.000% AD = 100.00% ADA = 50.00% NO = 1 GSP = 100.00% NSP = 100.00%\n",
      "SI2 = -0.55 SI = 0.45 eGROI = 0.09% eROI = 0.06% eROI2 = 0.07% eROI3 = 0.06% mSpread = 0.0307%\n"
     ]
    },
    {
     "name": "stderr",
     "output_type": "stream",
     "text": [
      "0it [00:00, ?it/s]\n"
     ]
    },
    {
     "name": "stdout",
     "output_type": "stream",
     "text": [
      "count_dif_dir\n",
      "0\n",
      "percent_dif_dir\n",
      "0.0\n",
      "Epoch = 13. Time index = 3. Threshold MC = 0.8. Threshold MD = 0.75\n",
      "RD = 0 NZ = 0 NZA = 0 pNZ = 0.000% pNZA = 0.000% AD = 0.00% ADA = 0.00% NO = 1 GSP = 0.00% NSP = 0.00%\n",
      "SI2 = -0.55 SI = -0.55 eGROI = 0.00% eROI = 0.00% eROI2 = 0.00% eROI3 = 0.00% mSpread = 0.0000%\n"
     ]
    },
    {
     "name": "stderr",
     "output_type": "stream",
     "text": [
      "0it [00:00, ?it/s]\n"
     ]
    },
    {
     "name": "stdout",
     "output_type": "stream",
     "text": [
      "count_dif_dir\n",
      "0\n",
      "percent_dif_dir\n",
      "0.0\n",
      "Epoch = 13. Time index = 3. Threshold MC = 0.8. Threshold MD = 0.8\n",
      "RD = 0 NZ = 0 NZA = 0 pNZ = 0.000% pNZA = 0.000% AD = 0.00% ADA = 0.00% NO = 1 GSP = 0.00% NSP = 0.00%\n",
      "SI2 = -0.55 SI = -0.55 eGROI = 0.00% eROI = 0.00% eROI2 = 0.00% eROI3 = 0.00% mSpread = 0.0000%\n"
     ]
    },
    {
     "name": "stderr",
     "output_type": "stream",
     "text": [
      "0it [00:00, ?it/s]\n"
     ]
    },
    {
     "name": "stdout",
     "output_type": "stream",
     "text": [
      "count_dif_dir\n",
      "0\n",
      "percent_dif_dir\n",
      "0.0\n",
      "Epoch = 13. Time index = 3. Threshold MC = 0.8. Threshold MD = 0.85\n",
      "RD = 0 NZ = 0 NZA = 0 pNZ = 0.000% pNZA = 0.000% AD = 0.00% ADA = 0.00% NO = 1 GSP = 0.00% NSP = 0.00%\n",
      "SI2 = -0.55 SI = -0.55 eGROI = 0.00% eROI = 0.00% eROI2 = 0.00% eROI3 = 0.00% mSpread = 0.0000%\n"
     ]
    },
    {
     "name": "stderr",
     "output_type": "stream",
     "text": [
      "0it [00:00, ?it/s]\n"
     ]
    },
    {
     "name": "stdout",
     "output_type": "stream",
     "text": [
      "count_dif_dir\n",
      "0\n",
      "percent_dif_dir\n",
      "0.0\n",
      "Epoch = 13. Time index = 3. Threshold MC = 0.8. Threshold MD = 0.9\n",
      "RD = 0 NZ = 0 NZA = 0 pNZ = 0.000% pNZA = 0.000% AD = 0.00% ADA = 0.00% NO = 1 GSP = 0.00% NSP = 0.00%\n",
      "SI2 = -0.55 SI = -0.55 eGROI = 0.00% eROI = 0.00% eROI2 = 0.00% eROI3 = 0.00% mSpread = 0.0000%\n"
     ]
    },
    {
     "name": "stderr",
     "output_type": "stream",
     "text": [
      "0it [00:00, ?it/s]\n"
     ]
    },
    {
     "name": "stdout",
     "output_type": "stream",
     "text": [
      "count_dif_dir\n",
      "0\n",
      "percent_dif_dir\n",
      "0.0\n",
      "Epoch = 13. Time index = 3. Threshold MC = 0.8. Threshold MD = 0.95\n",
      "RD = 0 NZ = 0 NZA = 0 pNZ = 0.000% pNZA = 0.000% AD = 0.00% ADA = 0.00% NO = 1 GSP = 0.00% NSP = 0.00%\n",
      "SI2 = -0.55 SI = -0.55 eGROI = 0.00% eROI = 0.00% eROI2 = 0.00% eROI3 = 0.00% mSpread = 0.0000%\n",
      "\n"
     ]
    },
    {
     "name": "stderr",
     "output_type": "stream",
     "text": [
      "0it [00:00, ?it/s]\n"
     ]
    },
    {
     "name": "stdout",
     "output_type": "stream",
     "text": [
      "count_dif_dir\n",
      "0\n",
      "percent_dif_dir\n",
      "0.0\n",
      "Epoch = 13. Time index = 3. Threshold MC = 0.85. Threshold MD = 0.5\n",
      "RD = 0 NZ = 0 NZA = 0 pNZ = 0.000% pNZA = 0.000% AD = 0.00% ADA = 0.00% NO = 1 GSP = 0.00% NSP = 0.00%\n",
      "SI2 = -0.55 SI = -0.55 eGROI = 0.00% eROI = 0.00% eROI2 = 0.00% eROI3 = 0.00% mSpread = 0.0000%\n"
     ]
    },
    {
     "name": "stderr",
     "output_type": "stream",
     "text": [
      "0it [00:00, ?it/s]\n"
     ]
    },
    {
     "name": "stdout",
     "output_type": "stream",
     "text": [
      "count_dif_dir\n",
      "0\n",
      "percent_dif_dir\n",
      "0.0\n",
      "Epoch = 13. Time index = 3. Threshold MC = 0.85. Threshold MD = 0.55\n",
      "RD = 0 NZ = 0 NZA = 0 pNZ = 0.000% pNZA = 0.000% AD = 0.00% ADA = 0.00% NO = 1 GSP = 0.00% NSP = 0.00%\n",
      "SI2 = -0.55 SI = -0.55 eGROI = 0.00% eROI = 0.00% eROI2 = 0.00% eROI3 = 0.00% mSpread = 0.0000%\n"
     ]
    },
    {
     "name": "stderr",
     "output_type": "stream",
     "text": [
      "0it [00:00, ?it/s]\n"
     ]
    },
    {
     "name": "stdout",
     "output_type": "stream",
     "text": [
      "count_dif_dir\n",
      "0\n",
      "percent_dif_dir\n",
      "0.0\n",
      "Epoch = 13. Time index = 3. Threshold MC = 0.85. Threshold MD = 0.6\n",
      "RD = 0 NZ = 0 NZA = 0 pNZ = 0.000% pNZA = 0.000% AD = 0.00% ADA = 0.00% NO = 1 GSP = 0.00% NSP = 0.00%\n",
      "SI2 = -0.55 SI = -0.55 eGROI = 0.00% eROI = 0.00% eROI2 = 0.00% eROI3 = 0.00% mSpread = 0.0000%\n"
     ]
    },
    {
     "name": "stderr",
     "output_type": "stream",
     "text": [
      "0it [00:00, ?it/s]\n"
     ]
    },
    {
     "name": "stdout",
     "output_type": "stream",
     "text": [
      "count_dif_dir\n",
      "0\n",
      "percent_dif_dir\n",
      "0.0\n",
      "Epoch = 13. Time index = 3. Threshold MC = 0.85. Threshold MD = 0.65\n",
      "RD = 0 NZ = 0 NZA = 0 pNZ = 0.000% pNZA = 0.000% AD = 0.00% ADA = 0.00% NO = 1 GSP = 0.00% NSP = 0.00%\n",
      "SI2 = -0.55 SI = -0.55 eGROI = 0.00% eROI = 0.00% eROI2 = 0.00% eROI3 = 0.00% mSpread = 0.0000%\n"
     ]
    },
    {
     "name": "stderr",
     "output_type": "stream",
     "text": [
      "0it [00:00, ?it/s]\n"
     ]
    },
    {
     "name": "stdout",
     "output_type": "stream",
     "text": [
      "count_dif_dir\n",
      "0\n",
      "percent_dif_dir\n",
      "0.0\n",
      "Epoch = 13. Time index = 3. Threshold MC = 0.85. Threshold MD = 0.7\n",
      "RD = 0 NZ = 0 NZA = 0 pNZ = 0.000% pNZA = 0.000% AD = 0.00% ADA = 0.00% NO = 1 GSP = 0.00% NSP = 0.00%\n",
      "SI2 = -0.55 SI = -0.55 eGROI = 0.00% eROI = 0.00% eROI2 = 0.00% eROI3 = 0.00% mSpread = 0.0000%\n"
     ]
    },
    {
     "name": "stderr",
     "output_type": "stream",
     "text": [
      "0it [00:00, ?it/s]\n"
     ]
    },
    {
     "name": "stdout",
     "output_type": "stream",
     "text": [
      "count_dif_dir\n",
      "0\n",
      "percent_dif_dir\n",
      "0.0\n",
      "Epoch = 13. Time index = 3. Threshold MC = 0.85. Threshold MD = 0.75\n",
      "RD = 0 NZ = 0 NZA = 0 pNZ = 0.000% pNZA = 0.000% AD = 0.00% ADA = 0.00% NO = 1 GSP = 0.00% NSP = 0.00%\n",
      "SI2 = -0.55 SI = -0.55 eGROI = 0.00% eROI = 0.00% eROI2 = 0.00% eROI3 = 0.00% mSpread = 0.0000%\n"
     ]
    },
    {
     "name": "stderr",
     "output_type": "stream",
     "text": [
      "0it [00:00, ?it/s]\n"
     ]
    },
    {
     "name": "stdout",
     "output_type": "stream",
     "text": [
      "count_dif_dir\n",
      "0\n",
      "percent_dif_dir\n",
      "0.0\n",
      "Epoch = 13. Time index = 3. Threshold MC = 0.85. Threshold MD = 0.8\n",
      "RD = 0 NZ = 0 NZA = 0 pNZ = 0.000% pNZA = 0.000% AD = 0.00% ADA = 0.00% NO = 1 GSP = 0.00% NSP = 0.00%\n",
      "SI2 = -0.55 SI = -0.55 eGROI = 0.00% eROI = 0.00% eROI2 = 0.00% eROI3 = 0.00% mSpread = 0.0000%\n"
     ]
    },
    {
     "name": "stderr",
     "output_type": "stream",
     "text": [
      "0it [00:00, ?it/s]\n"
     ]
    },
    {
     "name": "stdout",
     "output_type": "stream",
     "text": [
      "count_dif_dir\n",
      "0\n",
      "percent_dif_dir\n",
      "0.0\n",
      "Epoch = 13. Time index = 3. Threshold MC = 0.85. Threshold MD = 0.85\n",
      "RD = 0 NZ = 0 NZA = 0 pNZ = 0.000% pNZA = 0.000% AD = 0.00% ADA = 0.00% NO = 1 GSP = 0.00% NSP = 0.00%\n",
      "SI2 = -0.55 SI = -0.55 eGROI = 0.00% eROI = 0.00% eROI2 = 0.00% eROI3 = 0.00% mSpread = 0.0000%\n"
     ]
    },
    {
     "name": "stderr",
     "output_type": "stream",
     "text": [
      "0it [00:00, ?it/s]\n"
     ]
    },
    {
     "name": "stdout",
     "output_type": "stream",
     "text": [
      "count_dif_dir\n",
      "0\n",
      "percent_dif_dir\n",
      "0.0\n",
      "Epoch = 13. Time index = 3. Threshold MC = 0.85. Threshold MD = 0.9\n",
      "RD = 0 NZ = 0 NZA = 0 pNZ = 0.000% pNZA = 0.000% AD = 0.00% ADA = 0.00% NO = 1 GSP = 0.00% NSP = 0.00%\n",
      "SI2 = -0.55 SI = -0.55 eGROI = 0.00% eROI = 0.00% eROI2 = 0.00% eROI3 = 0.00% mSpread = 0.0000%\n"
     ]
    },
    {
     "name": "stderr",
     "output_type": "stream",
     "text": [
      "0it [00:00, ?it/s]\n"
     ]
    },
    {
     "name": "stdout",
     "output_type": "stream",
     "text": [
      "count_dif_dir\n",
      "0\n",
      "percent_dif_dir\n",
      "0.0\n",
      "Epoch = 13. Time index = 3. Threshold MC = 0.85. Threshold MD = 0.95\n",
      "RD = 0 NZ = 0 NZA = 0 pNZ = 0.000% pNZA = 0.000% AD = 0.00% ADA = 0.00% NO = 1 GSP = 0.00% NSP = 0.00%\n",
      "SI2 = -0.55 SI = -0.55 eGROI = 0.00% eROI = 0.00% eROI2 = 0.00% eROI3 = 0.00% mSpread = 0.0000%\n",
      "\n"
     ]
    },
    {
     "name": "stderr",
     "output_type": "stream",
     "text": [
      "0it [00:00, ?it/s]\n"
     ]
    },
    {
     "name": "stdout",
     "output_type": "stream",
     "text": [
      "count_dif_dir\n",
      "0\n",
      "percent_dif_dir\n",
      "0.0\n",
      "Epoch = 13. Time index = 3. Threshold MC = 0.9. Threshold MD = 0.5\n",
      "RD = 0 NZ = 0 NZA = 0 pNZ = 0.000% pNZA = 0.000% AD = 0.00% ADA = 0.00% NO = 1 GSP = 0.00% NSP = 0.00%\n",
      "SI2 = -0.55 SI = -0.55 eGROI = 0.00% eROI = 0.00% eROI2 = 0.00% eROI3 = 0.00% mSpread = 0.0000%\n"
     ]
    },
    {
     "name": "stderr",
     "output_type": "stream",
     "text": [
      "0it [00:00, ?it/s]\n"
     ]
    },
    {
     "name": "stdout",
     "output_type": "stream",
     "text": [
      "count_dif_dir\n",
      "0\n",
      "percent_dif_dir\n",
      "0.0\n",
      "Epoch = 13. Time index = 3. Threshold MC = 0.9. Threshold MD = 0.55\n",
      "RD = 0 NZ = 0 NZA = 0 pNZ = 0.000% pNZA = 0.000% AD = 0.00% ADA = 0.00% NO = 1 GSP = 0.00% NSP = 0.00%\n",
      "SI2 = -0.55 SI = -0.55 eGROI = 0.00% eROI = 0.00% eROI2 = 0.00% eROI3 = 0.00% mSpread = 0.0000%\n"
     ]
    },
    {
     "name": "stderr",
     "output_type": "stream",
     "text": [
      "0it [00:00, ?it/s]\n"
     ]
    },
    {
     "name": "stdout",
     "output_type": "stream",
     "text": [
      "count_dif_dir\n",
      "0\n",
      "percent_dif_dir\n",
      "0.0\n",
      "Epoch = 13. Time index = 3. Threshold MC = 0.9. Threshold MD = 0.6\n",
      "RD = 0 NZ = 0 NZA = 0 pNZ = 0.000% pNZA = 0.000% AD = 0.00% ADA = 0.00% NO = 1 GSP = 0.00% NSP = 0.00%\n",
      "SI2 = -0.55 SI = -0.55 eGROI = 0.00% eROI = 0.00% eROI2 = 0.00% eROI3 = 0.00% mSpread = 0.0000%\n"
     ]
    },
    {
     "name": "stderr",
     "output_type": "stream",
     "text": [
      "0it [00:00, ?it/s]\n"
     ]
    },
    {
     "name": "stdout",
     "output_type": "stream",
     "text": [
      "count_dif_dir\n",
      "0\n",
      "percent_dif_dir\n",
      "0.0\n",
      "Epoch = 13. Time index = 3. Threshold MC = 0.9. Threshold MD = 0.65\n",
      "RD = 0 NZ = 0 NZA = 0 pNZ = 0.000% pNZA = 0.000% AD = 0.00% ADA = 0.00% NO = 1 GSP = 0.00% NSP = 0.00%\n",
      "SI2 = -0.55 SI = -0.55 eGROI = 0.00% eROI = 0.00% eROI2 = 0.00% eROI3 = 0.00% mSpread = 0.0000%\n"
     ]
    },
    {
     "name": "stderr",
     "output_type": "stream",
     "text": [
      "0it [00:00, ?it/s]\n"
     ]
    },
    {
     "name": "stdout",
     "output_type": "stream",
     "text": [
      "count_dif_dir\n",
      "0\n",
      "percent_dif_dir\n",
      "0.0\n",
      "Epoch = 13. Time index = 3. Threshold MC = 0.9. Threshold MD = 0.7\n",
      "RD = 0 NZ = 0 NZA = 0 pNZ = 0.000% pNZA = 0.000% AD = 0.00% ADA = 0.00% NO = 1 GSP = 0.00% NSP = 0.00%\n",
      "SI2 = -0.55 SI = -0.55 eGROI = 0.00% eROI = 0.00% eROI2 = 0.00% eROI3 = 0.00% mSpread = 0.0000%\n"
     ]
    },
    {
     "name": "stderr",
     "output_type": "stream",
     "text": [
      "0it [00:00, ?it/s]\n"
     ]
    },
    {
     "name": "stdout",
     "output_type": "stream",
     "text": [
      "count_dif_dir\n",
      "0\n",
      "percent_dif_dir\n",
      "0.0\n",
      "Epoch = 13. Time index = 3. Threshold MC = 0.9. Threshold MD = 0.75\n",
      "RD = 0 NZ = 0 NZA = 0 pNZ = 0.000% pNZA = 0.000% AD = 0.00% ADA = 0.00% NO = 1 GSP = 0.00% NSP = 0.00%\n",
      "SI2 = -0.55 SI = -0.55 eGROI = 0.00% eROI = 0.00% eROI2 = 0.00% eROI3 = 0.00% mSpread = 0.0000%\n"
     ]
    },
    {
     "name": "stderr",
     "output_type": "stream",
     "text": [
      "0it [00:00, ?it/s]\n"
     ]
    },
    {
     "name": "stdout",
     "output_type": "stream",
     "text": [
      "count_dif_dir\n",
      "0\n",
      "percent_dif_dir\n",
      "0.0\n",
      "Epoch = 13. Time index = 3. Threshold MC = 0.9. Threshold MD = 0.8\n",
      "RD = 0 NZ = 0 NZA = 0 pNZ = 0.000% pNZA = 0.000% AD = 0.00% ADA = 0.00% NO = 1 GSP = 0.00% NSP = 0.00%\n",
      "SI2 = -0.55 SI = -0.55 eGROI = 0.00% eROI = 0.00% eROI2 = 0.00% eROI3 = 0.00% mSpread = 0.0000%\n"
     ]
    },
    {
     "name": "stderr",
     "output_type": "stream",
     "text": [
      "0it [00:00, ?it/s]\n"
     ]
    },
    {
     "name": "stdout",
     "output_type": "stream",
     "text": [
      "count_dif_dir\n",
      "0\n",
      "percent_dif_dir\n",
      "0.0\n",
      "Epoch = 13. Time index = 3. Threshold MC = 0.9. Threshold MD = 0.85\n",
      "RD = 0 NZ = 0 NZA = 0 pNZ = 0.000% pNZA = 0.000% AD = 0.00% ADA = 0.00% NO = 1 GSP = 0.00% NSP = 0.00%\n",
      "SI2 = -0.55 SI = -0.55 eGROI = 0.00% eROI = 0.00% eROI2 = 0.00% eROI3 = 0.00% mSpread = 0.0000%\n"
     ]
    },
    {
     "name": "stderr",
     "output_type": "stream",
     "text": [
      "0it [00:00, ?it/s]\n"
     ]
    },
    {
     "name": "stdout",
     "output_type": "stream",
     "text": [
      "count_dif_dir\n",
      "0\n",
      "percent_dif_dir\n",
      "0.0\n",
      "Epoch = 13. Time index = 3. Threshold MC = 0.9. Threshold MD = 0.9\n",
      "RD = 0 NZ = 0 NZA = 0 pNZ = 0.000% pNZA = 0.000% AD = 0.00% ADA = 0.00% NO = 1 GSP = 0.00% NSP = 0.00%\n",
      "SI2 = -0.55 SI = -0.55 eGROI = 0.00% eROI = 0.00% eROI2 = 0.00% eROI3 = 0.00% mSpread = 0.0000%\n"
     ]
    },
    {
     "name": "stderr",
     "output_type": "stream",
     "text": [
      "0it [00:00, ?it/s]\n"
     ]
    },
    {
     "name": "stdout",
     "output_type": "stream",
     "text": [
      "count_dif_dir\n",
      "0\n",
      "percent_dif_dir\n",
      "0.0\n",
      "Epoch = 13. Time index = 3. Threshold MC = 0.9. Threshold MD = 0.95\n",
      "RD = 0 NZ = 0 NZA = 0 pNZ = 0.000% pNZA = 0.000% AD = 0.00% ADA = 0.00% NO = 1 GSP = 0.00% NSP = 0.00%\n",
      "SI2 = -0.55 SI = -0.55 eGROI = 0.00% eROI = 0.00% eROI2 = 0.00% eROI3 = 0.00% mSpread = 0.0000%\n",
      "\n"
     ]
    },
    {
     "name": "stderr",
     "output_type": "stream",
     "text": [
      "0it [00:00, ?it/s]\n"
     ]
    },
    {
     "name": "stdout",
     "output_type": "stream",
     "text": [
      "count_dif_dir\n",
      "0\n",
      "percent_dif_dir\n",
      "0.0\n",
      "Epoch = 13. Time index = 3. Threshold MC = 0.95. Threshold MD = 0.5\n",
      "RD = 0 NZ = 0 NZA = 0 pNZ = 0.000% pNZA = 0.000% AD = 0.00% ADA = 0.00% NO = 1 GSP = 0.00% NSP = 0.00%\n",
      "SI2 = -0.55 SI = -0.55 eGROI = 0.00% eROI = 0.00% eROI2 = 0.00% eROI3 = 0.00% mSpread = 0.0000%\n"
     ]
    },
    {
     "name": "stderr",
     "output_type": "stream",
     "text": [
      "0it [00:00, ?it/s]\n"
     ]
    },
    {
     "name": "stdout",
     "output_type": "stream",
     "text": [
      "count_dif_dir\n",
      "0\n",
      "percent_dif_dir\n",
      "0.0\n",
      "Epoch = 13. Time index = 3. Threshold MC = 0.95. Threshold MD = 0.55\n",
      "RD = 0 NZ = 0 NZA = 0 pNZ = 0.000% pNZA = 0.000% AD = 0.00% ADA = 0.00% NO = 1 GSP = 0.00% NSP = 0.00%\n",
      "SI2 = -0.55 SI = -0.55 eGROI = 0.00% eROI = 0.00% eROI2 = 0.00% eROI3 = 0.00% mSpread = 0.0000%\n"
     ]
    },
    {
     "name": "stderr",
     "output_type": "stream",
     "text": [
      "0it [00:00, ?it/s]\n"
     ]
    },
    {
     "name": "stdout",
     "output_type": "stream",
     "text": [
      "count_dif_dir\n",
      "0\n",
      "percent_dif_dir\n",
      "0.0\n",
      "Epoch = 13. Time index = 3. Threshold MC = 0.95. Threshold MD = 0.6\n",
      "RD = 0 NZ = 0 NZA = 0 pNZ = 0.000% pNZA = 0.000% AD = 0.00% ADA = 0.00% NO = 1 GSP = 0.00% NSP = 0.00%\n",
      "SI2 = -0.55 SI = -0.55 eGROI = 0.00% eROI = 0.00% eROI2 = 0.00% eROI3 = 0.00% mSpread = 0.0000%\n"
     ]
    },
    {
     "name": "stderr",
     "output_type": "stream",
     "text": [
      "0it [00:00, ?it/s]\n"
     ]
    },
    {
     "name": "stdout",
     "output_type": "stream",
     "text": [
      "count_dif_dir\n",
      "0\n",
      "percent_dif_dir\n",
      "0.0\n",
      "Epoch = 13. Time index = 3. Threshold MC = 0.95. Threshold MD = 0.65\n",
      "RD = 0 NZ = 0 NZA = 0 pNZ = 0.000% pNZA = 0.000% AD = 0.00% ADA = 0.00% NO = 1 GSP = 0.00% NSP = 0.00%\n",
      "SI2 = -0.55 SI = -0.55 eGROI = 0.00% eROI = 0.00% eROI2 = 0.00% eROI3 = 0.00% mSpread = 0.0000%\n"
     ]
    },
    {
     "name": "stderr",
     "output_type": "stream",
     "text": [
      "0it [00:00, ?it/s]\n"
     ]
    },
    {
     "name": "stdout",
     "output_type": "stream",
     "text": [
      "count_dif_dir\n",
      "0\n",
      "percent_dif_dir\n",
      "0.0\n",
      "Epoch = 13. Time index = 3. Threshold MC = 0.95. Threshold MD = 0.7\n",
      "RD = 0 NZ = 0 NZA = 0 pNZ = 0.000% pNZA = 0.000% AD = 0.00% ADA = 0.00% NO = 1 GSP = 0.00% NSP = 0.00%\n",
      "SI2 = -0.55 SI = -0.55 eGROI = 0.00% eROI = 0.00% eROI2 = 0.00% eROI3 = 0.00% mSpread = 0.0000%\n"
     ]
    },
    {
     "name": "stderr",
     "output_type": "stream",
     "text": [
      "0it [00:00, ?it/s]\n"
     ]
    },
    {
     "name": "stdout",
     "output_type": "stream",
     "text": [
      "count_dif_dir\n",
      "0\n",
      "percent_dif_dir\n",
      "0.0\n",
      "Epoch = 13. Time index = 3. Threshold MC = 0.95. Threshold MD = 0.75\n",
      "RD = 0 NZ = 0 NZA = 0 pNZ = 0.000% pNZA = 0.000% AD = 0.00% ADA = 0.00% NO = 1 GSP = 0.00% NSP = 0.00%\n",
      "SI2 = -0.55 SI = -0.55 eGROI = 0.00% eROI = 0.00% eROI2 = 0.00% eROI3 = 0.00% mSpread = 0.0000%\n"
     ]
    },
    {
     "name": "stderr",
     "output_type": "stream",
     "text": [
      "0it [00:00, ?it/s]\n"
     ]
    },
    {
     "name": "stdout",
     "output_type": "stream",
     "text": [
      "count_dif_dir\n",
      "0\n",
      "percent_dif_dir\n",
      "0.0\n",
      "Epoch = 13. Time index = 3. Threshold MC = 0.95. Threshold MD = 0.8\n",
      "RD = 0 NZ = 0 NZA = 0 pNZ = 0.000% pNZA = 0.000% AD = 0.00% ADA = 0.00% NO = 1 GSP = 0.00% NSP = 0.00%\n",
      "SI2 = -0.55 SI = -0.55 eGROI = 0.00% eROI = 0.00% eROI2 = 0.00% eROI3 = 0.00% mSpread = 0.0000%\n"
     ]
    },
    {
     "name": "stderr",
     "output_type": "stream",
     "text": [
      "0it [00:00, ?it/s]\n"
     ]
    },
    {
     "name": "stdout",
     "output_type": "stream",
     "text": [
      "count_dif_dir\n",
      "0\n",
      "percent_dif_dir\n",
      "0.0\n",
      "Epoch = 13. Time index = 3. Threshold MC = 0.95. Threshold MD = 0.85\n",
      "RD = 0 NZ = 0 NZA = 0 pNZ = 0.000% pNZA = 0.000% AD = 0.00% ADA = 0.00% NO = 1 GSP = 0.00% NSP = 0.00%\n",
      "SI2 = -0.55 SI = -0.55 eGROI = 0.00% eROI = 0.00% eROI2 = 0.00% eROI3 = 0.00% mSpread = 0.0000%\n"
     ]
    },
    {
     "name": "stderr",
     "output_type": "stream",
     "text": [
      "0it [00:00, ?it/s]\n"
     ]
    },
    {
     "name": "stdout",
     "output_type": "stream",
     "text": [
      "count_dif_dir\n",
      "0\n",
      "percent_dif_dir\n",
      "0.0\n",
      "Epoch = 13. Time index = 3. Threshold MC = 0.95. Threshold MD = 0.9\n",
      "RD = 0 NZ = 0 NZA = 0 pNZ = 0.000% pNZA = 0.000% AD = 0.00% ADA = 0.00% NO = 1 GSP = 0.00% NSP = 0.00%\n",
      "SI2 = -0.55 SI = -0.55 eGROI = 0.00% eROI = 0.00% eROI2 = 0.00% eROI3 = 0.00% mSpread = 0.0000%\n"
     ]
    },
    {
     "name": "stderr",
     "output_type": "stream",
     "text": [
      "0it [00:00, ?it/s]\n"
     ]
    },
    {
     "name": "stdout",
     "output_type": "stream",
     "text": [
      "count_dif_dir\n",
      "0\n",
      "percent_dif_dir\n",
      "0.0\n",
      "Epoch = 13. Time index = 3. Threshold MC = 0.95. Threshold MD = 0.95\n",
      "RD = 0 NZ = 0 NZA = 0 pNZ = 0.000% pNZA = 0.000% AD = 0.00% ADA = 0.00% NO = 1 GSP = 0.00% NSP = 0.00%\n",
      "SI2 = -0.55 SI = -0.55 eGROI = 0.00% eROI = 0.00% eROI2 = 0.00% eROI3 = 0.00% mSpread = 0.0000%\n",
      "\n"
     ]
    },
    {
     "ename": "ParserError",
     "evalue": "Error tokenizing data. C error: Expected 45 fields in line 2402, saw 49\n",
     "output_type": "error",
     "traceback": [
      "\u001b[1;31m---------------------------------------------------------------------------\u001b[0m",
      "\u001b[1;31mParserError\u001b[0m                               Traceback (most recent call last)",
      "\u001b[1;32m<ipython-input-3-1939e10c7cab>\u001b[0m in \u001b[0;36m<module>\u001b[1;34m()\u001b[0m\n\u001b[0;32m     12\u001b[0m \u001b[0mconfig\u001b[0m\u001b[1;33m[\u001b[0m\u001b[1;34m'thresholds_md'\u001b[0m\u001b[1;33m]\u001b[0m \u001b[1;33m=\u001b[0m \u001b[1;33m[\u001b[0m\u001b[1;36m.5\u001b[0m\u001b[1;33m+\u001b[0m\u001b[0mi\u001b[0m\u001b[1;33m/\u001b[0m\u001b[0mresolution\u001b[0m \u001b[1;32mfor\u001b[0m \u001b[0mi\u001b[0m \u001b[1;32min\u001b[0m \u001b[0mrange\u001b[0m\u001b[1;33m(\u001b[0m\u001b[0mint\u001b[0m\u001b[1;33m(\u001b[0m\u001b[0mresolution\u001b[0m\u001b[1;33m/\u001b[0m\u001b[1;36m2\u001b[0m\u001b[1;33m)\u001b[0m\u001b[1;33m)\u001b[0m\u001b[1;33m]\u001b[0m\u001b[1;33m\u001b[0m\u001b[0m\n\u001b[0;32m     13\u001b[0m \u001b[1;31m#config['cost_name'] = '000318TI02'\u001b[0m\u001b[1;33m\u001b[0m\u001b[1;33m\u001b[0m\u001b[0m\n\u001b[1;32m---> 14\u001b[1;33m \u001b[0mtest_RNN\u001b[0m\u001b[1;33m(\u001b[0m\u001b[0mconfig\u001b[0m\u001b[1;33m)\u001b[0m\u001b[1;33m\u001b[0m\u001b[0m\n\u001b[0m",
      "\u001b[1;32m~\\root\\Projects\\SDC\\py\\kaissandra\\kaissandra\\testRNN.py\u001b[0m in \u001b[0;36mtest_RNN\u001b[1;34m(*ins)\u001b[0m\n\u001b[0;32m    346\u001b[0m         \u001b[1;31m# run test RNN\u001b[0m\u001b[1;33m\u001b[0m\u001b[1;33m\u001b[0m\u001b[0m\n\u001b[0;32m    347\u001b[0m         \u001b[0mprint\u001b[0m\u001b[1;33m(\u001b[0m\u001b[1;34m\"IDresults: \"\u001b[0m\u001b[1;33m+\u001b[0m\u001b[0mIDresults\u001b[0m\u001b[1;33m)\u001b[0m\u001b[1;33m\u001b[0m\u001b[0m\n\u001b[1;32m--> 348\u001b[1;33m         \u001b[0mmodel\u001b[0m\u001b[1;33m.\u001b[0m\u001b[0mtest2\u001b[0m\u001b[1;33m(\u001b[0m\u001b[0msess\u001b[0m\u001b[1;33m,\u001b[0m \u001b[0mconfig\u001b[0m\u001b[1;33m,\u001b[0m \u001b[0malloc\u001b[0m\u001b[1;33m,\u001b[0m \u001b[0mfilename_IO\u001b[0m\u001b[1;33m,\u001b[0m \u001b[0mDTA\u001b[0m\u001b[1;33m=\u001b[0m\u001b[0mDTA\u001b[0m\u001b[1;33m)\u001b[0m\u001b[1;33m\u001b[0m\u001b[0m\n\u001b[0m\u001b[0;32m    349\u001b[0m         \u001b[1;31m# TEMP: GRE calculation not implemented in test2 yet. Use old test\u001b[0m\u001b[1;33m\u001b[0m\u001b[1;33m\u001b[0m\u001b[0m\n\u001b[0;32m    350\u001b[0m \u001b[1;31m#        if save_journal:\u001b[0m\u001b[1;33m\u001b[0m\u001b[1;33m\u001b[0m\u001b[0m\n",
      "\u001b[1;32m~\\root\\Projects\\SDC\\py\\kaissandra\\kaissandra\\RNN.py\u001b[0m in \u001b[0;36mtest2\u001b[1;34m(self, sess, config, alloc, filename_IO, startFrom, data_format, DTA, from_var)\u001b[0m\n\u001b[0;32m    434\u001b[0m                         \u001b[0mt_J_test\u001b[0m\u001b[1;33m,\u001b[0m \u001b[0msoftMaxOut\u001b[0m\u001b[1;33m,\u001b[0m \u001b[0mcosts\u001b[0m\u001b[1;33m,\u001b[0m \u001b[0mepoch\u001b[0m\u001b[1;33m,\u001b[0m \u001b[0mlastTrained\u001b[0m\u001b[1;33m,\u001b[0m \u001b[0mresults_filename\u001b[0m\u001b[1;33m,\u001b[0m\u001b[1;33m\u001b[0m\u001b[0m\n\u001b[0;32m    435\u001b[0m                         \u001b[0mcosts_filename\u001b[0m\u001b[1;33m,\u001b[0m\u001b[1;33m\u001b[0m\u001b[0m\n\u001b[1;32m--> 436\u001b[1;33m                         from_var=from_var)\n\u001b[0m\u001b[0;32m    437\u001b[0m \u001b[1;33m\u001b[0m\u001b[0m\n\u001b[0;32m    438\u001b[0m \u001b[1;31m#        if resolution>0:\u001b[0m\u001b[1;33m\u001b[0m\u001b[1;33m\u001b[0m\u001b[0m\n",
      "\u001b[1;32m~\\root\\Projects\\SDC\\py\\kaissandra\\kaissandra\\results2.py\u001b[0m in \u001b[0;36mget_results\u001b[1;34m(config, model, y, DTA, J_test, soft_tilde, costs, epoch, lastTrained, results_filename, costs_filename, from_var)\u001b[0m\n\u001b[0;32m    417\u001b[0m     \u001b[1;31m# extract best result this epoch\u001b[0m\u001b[1;33m\u001b[0m\u001b[1;33m\u001b[0m\u001b[0m\n\u001b[0;32m    418\u001b[0m     \u001b[1;32mif\u001b[0m \u001b[0mresolution\u001b[0m\u001b[1;33m>\u001b[0m\u001b[1;36m0\u001b[0m\u001b[1;33m:\u001b[0m\u001b[1;33m\u001b[0m\u001b[0m\n\u001b[1;32m--> 419\u001b[1;33m         \u001b[0mTR\u001b[0m \u001b[1;33m=\u001b[0m \u001b[0mpd\u001b[0m\u001b[1;33m.\u001b[0m\u001b[0mread_csv\u001b[0m\u001b[1;33m(\u001b[0m\u001b[0mresults_filename\u001b[0m\u001b[1;33m+\u001b[0m\u001b[1;34m'.csv'\u001b[0m\u001b[1;33m,\u001b[0m \u001b[0msep\u001b[0m\u001b[1;33m=\u001b[0m\u001b[1;34m'\\t'\u001b[0m\u001b[1;33m)\u001b[0m\u001b[1;33m\u001b[0m\u001b[0m\n\u001b[0m\u001b[0;32m    420\u001b[0m         \u001b[0mTR\u001b[0m \u001b[1;33m=\u001b[0m \u001b[0mTR\u001b[0m\u001b[1;33m[\u001b[0m\u001b[0mTR\u001b[0m\u001b[1;33m.\u001b[0m\u001b[0mepoch\u001b[0m\u001b[1;33m==\u001b[0m\u001b[0mepoch\u001b[0m\u001b[1;33m]\u001b[0m\u001b[1;33m\u001b[0m\u001b[0m\n\u001b[0;32m    421\u001b[0m         \u001b[0mget_best_results\u001b[0m\u001b[1;33m(\u001b[0m\u001b[0mTR\u001b[0m\u001b[1;33m,\u001b[0m \u001b[0mresults_filename\u001b[0m\u001b[1;33m,\u001b[0m \u001b[0mresultsDir\u001b[0m\u001b[1;33m,\u001b[0m \u001b[0mIDresults\u001b[0m\u001b[1;33m,\u001b[0m \u001b[0msave\u001b[0m\u001b[1;33m=\u001b[0m\u001b[1;36m1\u001b[0m\u001b[1;33m)\u001b[0m\u001b[1;33m\u001b[0m\u001b[0m\n",
      "\u001b[1;32mC:\\ProgramData\\Anaconda3\\envs\\py35\\lib\\site-packages\\pandas\\io\\parsers.py\u001b[0m in \u001b[0;36mparser_f\u001b[1;34m(filepath_or_buffer, sep, delimiter, header, names, index_col, usecols, squeeze, prefix, mangle_dupe_cols, dtype, engine, converters, true_values, false_values, skipinitialspace, skiprows, nrows, na_values, keep_default_na, na_filter, verbose, skip_blank_lines, parse_dates, infer_datetime_format, keep_date_col, date_parser, dayfirst, iterator, chunksize, compression, thousands, decimal, lineterminator, quotechar, quoting, escapechar, comment, encoding, dialect, tupleize_cols, error_bad_lines, warn_bad_lines, skipfooter, doublequote, delim_whitespace, low_memory, memory_map, float_precision)\u001b[0m\n\u001b[0;32m    676\u001b[0m                     skip_blank_lines=skip_blank_lines)\n\u001b[0;32m    677\u001b[0m \u001b[1;33m\u001b[0m\u001b[0m\n\u001b[1;32m--> 678\u001b[1;33m         \u001b[1;32mreturn\u001b[0m \u001b[0m_read\u001b[0m\u001b[1;33m(\u001b[0m\u001b[0mfilepath_or_buffer\u001b[0m\u001b[1;33m,\u001b[0m \u001b[0mkwds\u001b[0m\u001b[1;33m)\u001b[0m\u001b[1;33m\u001b[0m\u001b[0m\n\u001b[0m\u001b[0;32m    679\u001b[0m \u001b[1;33m\u001b[0m\u001b[0m\n\u001b[0;32m    680\u001b[0m     \u001b[0mparser_f\u001b[0m\u001b[1;33m.\u001b[0m\u001b[0m__name__\u001b[0m \u001b[1;33m=\u001b[0m \u001b[0mname\u001b[0m\u001b[1;33m\u001b[0m\u001b[0m\n",
      "\u001b[1;32mC:\\ProgramData\\Anaconda3\\envs\\py35\\lib\\site-packages\\pandas\\io\\parsers.py\u001b[0m in \u001b[0;36m_read\u001b[1;34m(filepath_or_buffer, kwds)\u001b[0m\n\u001b[0;32m    444\u001b[0m \u001b[1;33m\u001b[0m\u001b[0m\n\u001b[0;32m    445\u001b[0m     \u001b[1;32mtry\u001b[0m\u001b[1;33m:\u001b[0m\u001b[1;33m\u001b[0m\u001b[0m\n\u001b[1;32m--> 446\u001b[1;33m         \u001b[0mdata\u001b[0m \u001b[1;33m=\u001b[0m \u001b[0mparser\u001b[0m\u001b[1;33m.\u001b[0m\u001b[0mread\u001b[0m\u001b[1;33m(\u001b[0m\u001b[0mnrows\u001b[0m\u001b[1;33m)\u001b[0m\u001b[1;33m\u001b[0m\u001b[0m\n\u001b[0m\u001b[0;32m    447\u001b[0m     \u001b[1;32mfinally\u001b[0m\u001b[1;33m:\u001b[0m\u001b[1;33m\u001b[0m\u001b[0m\n\u001b[0;32m    448\u001b[0m         \u001b[0mparser\u001b[0m\u001b[1;33m.\u001b[0m\u001b[0mclose\u001b[0m\u001b[1;33m(\u001b[0m\u001b[1;33m)\u001b[0m\u001b[1;33m\u001b[0m\u001b[0m\n",
      "\u001b[1;32mC:\\ProgramData\\Anaconda3\\envs\\py35\\lib\\site-packages\\pandas\\io\\parsers.py\u001b[0m in \u001b[0;36mread\u001b[1;34m(self, nrows)\u001b[0m\n\u001b[0;32m   1034\u001b[0m                 \u001b[1;32mraise\u001b[0m \u001b[0mValueError\u001b[0m\u001b[1;33m(\u001b[0m\u001b[1;34m'skipfooter not supported for iteration'\u001b[0m\u001b[1;33m)\u001b[0m\u001b[1;33m\u001b[0m\u001b[0m\n\u001b[0;32m   1035\u001b[0m \u001b[1;33m\u001b[0m\u001b[0m\n\u001b[1;32m-> 1036\u001b[1;33m         \u001b[0mret\u001b[0m \u001b[1;33m=\u001b[0m \u001b[0mself\u001b[0m\u001b[1;33m.\u001b[0m\u001b[0m_engine\u001b[0m\u001b[1;33m.\u001b[0m\u001b[0mread\u001b[0m\u001b[1;33m(\u001b[0m\u001b[0mnrows\u001b[0m\u001b[1;33m)\u001b[0m\u001b[1;33m\u001b[0m\u001b[0m\n\u001b[0m\u001b[0;32m   1037\u001b[0m \u001b[1;33m\u001b[0m\u001b[0m\n\u001b[0;32m   1038\u001b[0m         \u001b[1;31m# May alter columns / col_dict\u001b[0m\u001b[1;33m\u001b[0m\u001b[1;33m\u001b[0m\u001b[0m\n",
      "\u001b[1;32mC:\\ProgramData\\Anaconda3\\envs\\py35\\lib\\site-packages\\pandas\\io\\parsers.py\u001b[0m in \u001b[0;36mread\u001b[1;34m(self, nrows)\u001b[0m\n\u001b[0;32m   1846\u001b[0m     \u001b[1;32mdef\u001b[0m \u001b[0mread\u001b[0m\u001b[1;33m(\u001b[0m\u001b[0mself\u001b[0m\u001b[1;33m,\u001b[0m \u001b[0mnrows\u001b[0m\u001b[1;33m=\u001b[0m\u001b[1;32mNone\u001b[0m\u001b[1;33m)\u001b[0m\u001b[1;33m:\u001b[0m\u001b[1;33m\u001b[0m\u001b[0m\n\u001b[0;32m   1847\u001b[0m         \u001b[1;32mtry\u001b[0m\u001b[1;33m:\u001b[0m\u001b[1;33m\u001b[0m\u001b[0m\n\u001b[1;32m-> 1848\u001b[1;33m             \u001b[0mdata\u001b[0m \u001b[1;33m=\u001b[0m \u001b[0mself\u001b[0m\u001b[1;33m.\u001b[0m\u001b[0m_reader\u001b[0m\u001b[1;33m.\u001b[0m\u001b[0mread\u001b[0m\u001b[1;33m(\u001b[0m\u001b[0mnrows\u001b[0m\u001b[1;33m)\u001b[0m\u001b[1;33m\u001b[0m\u001b[0m\n\u001b[0m\u001b[0;32m   1849\u001b[0m         \u001b[1;32mexcept\u001b[0m \u001b[0mStopIteration\u001b[0m\u001b[1;33m:\u001b[0m\u001b[1;33m\u001b[0m\u001b[0m\n\u001b[0;32m   1850\u001b[0m             \u001b[1;32mif\u001b[0m \u001b[0mself\u001b[0m\u001b[1;33m.\u001b[0m\u001b[0m_first_chunk\u001b[0m\u001b[1;33m:\u001b[0m\u001b[1;33m\u001b[0m\u001b[0m\n",
      "\u001b[1;32mpandas\\_libs\\parsers.pyx\u001b[0m in \u001b[0;36mpandas._libs.parsers.TextReader.read\u001b[1;34m()\u001b[0m\n",
      "\u001b[1;32mpandas\\_libs\\parsers.pyx\u001b[0m in \u001b[0;36mpandas._libs.parsers.TextReader._read_low_memory\u001b[1;34m()\u001b[0m\n",
      "\u001b[1;32mpandas\\_libs\\parsers.pyx\u001b[0m in \u001b[0;36mpandas._libs.parsers.TextReader._read_rows\u001b[1;34m()\u001b[0m\n",
      "\u001b[1;32mpandas\\_libs\\parsers.pyx\u001b[0m in \u001b[0;36mpandas._libs.parsers.TextReader._tokenize_rows\u001b[1;34m()\u001b[0m\n",
      "\u001b[1;32mpandas\\_libs\\parsers.pyx\u001b[0m in \u001b[0;36mpandas._libs.parsers.raise_parser_error\u001b[1;34m()\u001b[0m\n",
      "\u001b[1;31mParserError\u001b[0m: Error tokenizing data. C error: Expected 45 fields in line 2402, saw 49\n"
     ]
    }
   ],
   "source": [
    "# edit config without saving for test purposes\n",
    "from kaissandra.testRNN import test_RNN\n",
    "from kaissandra.config import *\n",
    "config=retrieve_config('C0350')\n",
    "config['IDresults']='100350NROI'\n",
    "config['save_journal']=True\n",
    "config['startFrom']=13\n",
    "config['endAt']=13\n",
    "resolution = 20\n",
    "config['resolution'] = resolution\n",
    "config['thresholds_mc'] = [.5+i/resolution for i in range(int(resolution/2))]\n",
    "config['thresholds_md'] = [.5+i/resolution for i in range(int(resolution/2))]\n",
    "#config['cost_name'] = '000318TI02'\n",
    "test_RNN(config)"
   ]
  },
  {
   "cell_type": "code",
   "execution_count": 193,
   "metadata": {},
   "outputs": [
    {
     "name": "stdout",
     "output_type": "stream",
     "text": [
      "000318TI0217\n",
      "000318TI0223\n",
      "000318TI0221\n",
      "000318TI0210\n",
      "000318TI0232\n",
      "000318TI023\n",
      "000318TI0216\n",
      "000318TI0233\n",
      "000318TI0227\n",
      "000318TI0230\n",
      "000318TI0234\n",
      "000318TI0228\n",
      "000318TI0229\n",
      "000318TI0215\n",
      "000318TI020\n",
      "000318TI0213\n",
      "000318TI0236\n",
      "000318TI0237\n",
      "000318TI029\n",
      "000318TI0211\n",
      "000318TI0226\n",
      "000318TI022\n",
      "000318TI0218\n",
      "000318TI0214\n",
      "000318TI026\n",
      "000318TI0231\n",
      "000318TI025\n",
      "000318TI024\n",
      "000318TI0224\n",
      "000318TI0225\n",
      "000318TI0220\n",
      "000318TI0212\n",
      "000318TI0219\n",
      "000318TI021\n",
      "000318TI027\n",
      "000318TI0235\n",
      "000318TI0222\n",
      "000318TI028\n"
     ]
    }
   ],
   "source": [
    "cost=pickle.load( open( \"../../RNN/weights/000318INVO/cost.p\", \"rb\" ))\n",
    "for key in cost.keys():\n",
    "    print(key)"
   ]
  },
  {
   "cell_type": "code",
   "execution_count": 63,
   "metadata": {},
   "outputs": [
    {
     "name": "stdout",
     "output_type": "stream",
     "text": [
      "../../RNN/results/100318R20/journal/J_E29TI0MC0.5MD0.75.csv\n"
     ]
    }
   ],
   "source": [
    "import pandas as pd\n",
    "from kaissandra.results2 import get_extended_results\n",
    "\n",
    "list_results_names = ['100318R20']\n",
    "results_dir  = '../../RNN/results/'\n",
    "ext = '.csv'\n",
    "list_epochs = [29]\n",
    "list_tis = [0]\n",
    "list_mcs = [.5]\n",
    "list_mds = [.75]\n",
    "Journal = pd.DataFrame()\n",
    "for l,name in enumerate(list_results_names):\n",
    "    journal_filename = results_dir+name+'/journal/J_E'+str(list_epochs[l])+'TI'+str(list_tis[l])+'MC'+str(list_mcs[l])+'MD'+str(list_mds[l])+ext\n",
    "    Journal = Journal.append(pd.read_csv(journal_filename,sep='\\t')).sort_values(by=['Asset','DTi']).reset_index().drop(labels='level_0',axis=1)\n",
    "    print(journal_filename)\n",
    "#res_ext, log = get_extended_results(Journal,\n",
    "#                                    5,\n",
    "#                                    n_days, resultsDir, IDresults,\n",
    "#                                    epoch, t_index, thr_mc, thr_md,\n",
    "#                                    get_positions=False,pNZA=1)"
   ]
  },
  {
   "cell_type": "code",
   "execution_count": 70,
   "metadata": {},
   "outputs": [
    {
     "name": "stdout",
     "output_type": "stream",
     "text": [
      "../../RNN/results/100327R20/journal/J_E9TI1MC0.5MD0.8.csv\n"
     ]
    }
   ],
   "source": [
    "import pandas as pd\n",
    "from kaissandra.results2 import get_extended_results\n",
    "\n",
    "results_dir  = '../../RNN/results/'\n",
    "ext = '.csv'\n",
    "list_results_names = ['100327R20']#+['100327R20']#['100326R20']+\n",
    "list_epochs = [9]#+[9]#[51]+#[9]+\n",
    "list_tis = [1]#+[1]#+[1]+\n",
    "list_mcs = [.5]#+[.5]#[.5]#+\n",
    "list_mds = [.8]#+[.7]#[.8]#+\n",
    "Journal = pd.DataFrame()\n",
    "for l,name in enumerate(list_results_names):\n",
    "    journal_filename = results_dir+name+'/journal/J_E'+str(list_epochs[l])+'TI'+str(list_tis[l])+'MC'+str(list_mcs[l])+'MD'+str(list_mds[l])+ext\n",
    "    Journal = Journal.append(pd.read_csv(journal_filename,sep='\\t')).sort_values(by=['Asset','DTi']).reset_index().drop(labels='level_0',axis=1)\n",
    "    print(journal_filename)"
   ]
  },
  {
   "cell_type": "code",
   "execution_count": 126,
   "metadata": {},
   "outputs": [
    {
     "name": "stdout",
     "output_type": "stream",
     "text": [
      "../../RNN/results/100350NROI/journal/J_E13TI2MC0.6MD0.6.csv\n"
     ]
    }
   ],
   "source": [
    "import pandas as pd\n",
    "\n",
    "\n",
    "results_dir  = '../../RNN/results/'\n",
    "ext = '.csv'\n",
    "list_results_names = ['100350NROI']\n",
    "list_epochs = [13]\n",
    "list_tis = [2]\n",
    "list_mcs = [.6]\n",
    "list_mds = [.6]\n",
    "Journal = pd.DataFrame()\n",
    "for l,name in enumerate(list_results_names):\n",
    "    journal_filename = results_dir+name+'/journal/J_E'+str(list_epochs[l])+'TI'+str(list_tis[l])+'MC'+str(list_mcs[l])+'MD'+str(list_mds[l])+ext\n",
    "    Journal = Journal.append(pd.read_csv(journal_filename,sep='\\t')).sort_values(by=['Asset','DTi']).reset_index().drop(labels='level_0',axis=1)\n",
    "    print(journal_filename)"
   ]
  },
  {
   "cell_type": "code",
   "execution_count": 127,
   "metadata": {},
   "outputs": [
    {
     "name": "stdout",
     "output_type": "stream",
     "text": [
      "shape\n",
      "3059\n"
     ]
    },
    {
     "name": "stderr",
     "output_type": "stream",
     "text": [
      "100%|████████████████████████████████████████████████████████████████████████████| 3058/3058 [00:01<00:00, 2982.65it/s]\n"
     ]
    },
    {
     "name": "stdout",
     "output_type": "stream",
     "text": [
      "count_dif_dir\n",
      "135\n",
      "percent_dif_dir\n",
      "9.796806966618288\n"
     ]
    },
    {
     "data": {
      "text/plain": [
       "{'GSP': 65.96516690856313,\n",
       " 'NO': 1378,\n",
       " 'NOL': 1000,\n",
       " 'NOS': 378,\n",
       " 'NOl1': 1354.0,\n",
       " 'NOl2': 24.0,\n",
       " 'NSP': 56.53120464441219,\n",
       " 'NSP.5': 64.51378809869375,\n",
       " 'NSP1': 62.11901306240929,\n",
       " 'NSP2': 58.563134978229314,\n",
       " 'NSP3': 54.862119013062404,\n",
       " 'NSP4': 50.943396226415096,\n",
       " 'NSP5': 46.37155297532656,\n",
       " 'SI': 21.09999999999994,\n",
       " 'SI.5': 131.09999999999994,\n",
       " 'SI1': 98.09999999999995,\n",
       " 'SI2': 49.09999999999989,\n",
       " 'SI3': -1.9000000000001231,\n",
       " 'SI4': -55.90000000000006,\n",
       " 'SI5': -118.90000000000009,\n",
       " 'eGROI': 46.37244208281967,\n",
       " 'eGROIL': 31.95301321919885,\n",
       " 'eGROIS': 14.419428863620837,\n",
       " 'eGl1': 43.1110564012298,\n",
       " 'eGl2': 3.261385681589864,\n",
       " 'eROI': 14.443320762822886,\n",
       " 'eROI.5': 39.482442082820285,\n",
       " 'eROI1': 32.592442082820554,\n",
       " 'eROI2': 18.812442082819214,\n",
       " 'eROI3': 5.032442082819671,\n",
       " 'eROI4': -8.747557917180055,\n",
       " 'eROI5': -22.527557917180342,\n",
       " 'eRl1': 11.720452756363578,\n",
       " 'eRl2': 2.722868006459301,\n",
       " 'mSpread': 0.023170625050796017,\n",
       " 'sharpe': 2.7768354660002372}"
      ]
     },
     "execution_count": 127,
     "metadata": {},
     "output_type": "execute_result"
    }
   ],
   "source": [
    "from kaissandra.results2 import get_extended_results\n",
    "print(\"shape\")\n",
    "print(Journal.shape[0])\n",
    "#print(Journal)\n",
    "n_days = 33*5+1\n",
    "pos_dirname = '../../RNN/results/MERGED/positions/'\n",
    "pos_filename = '_'.join([entry for entry in list_results_names])+'.csv'\n",
    "res_ext, log = get_extended_results(Journal,\n",
    "                                    5,\n",
    "                                    n_days,\n",
    "                                   get_positions=True,pos_dirname=pos_dirname,\n",
    "                                   pos_filename=pos_filename)\n",
    "res_ext\n"
   ]
  },
  {
   "cell_type": "code",
   "execution_count": 114,
   "metadata": {},
   "outputs": [
    {
     "name": "stdout",
     "output_type": "stream",
     "text": [
      "0.038146637205346126\n",
      "52.56606606896696\n",
      "25.00606606896696\n",
      "../../RNN/results/100350NROI/journal/J_E13TI2MC0.6MD0.6.csv\n"
     ]
    }
   ],
   "source": [
    "winrate=res_ext['eGROIS']/res_ext['NOS']\n",
    "wbGROI=res_ext['NOL']*winrate+res_ext['eGROIS']\n",
    "wbROI2p = wbGROI-0.02*res_ext['NO']\n",
    "print(winrate)\n",
    "print(wbGROI)\n",
    "print(wbROI2p)\n",
    "print(journal_filename)\n",
    "#print(res_ext['eGROIL']/res_ext['NOL'])"
   ]
  },
  {
   "cell_type": "code",
   "execution_count": 133,
   "metadata": {},
   "outputs": [
    {
     "name": "stdout",
     "output_type": "stream",
     "text": [
      "total mean GROI\n",
      "0.03365188679245278\n",
      "mean GROI of selected\n",
      "0.035224081632653\n",
      "mean_spread of selected\n",
      "0.018827673469387737\n",
      "Number of pos under 0.04\n",
      "1225\n",
      "per under pip_limit\n",
      "88.89695210449928\n",
      "total gross success rate\n",
      "65.96516690856313\n",
      "gross success rate\n",
      "66.12244897959184\n",
      "total success rate\n",
      "56.45863570391872\n",
      "success rate\n",
      "59.02040816326531\n",
      "GROI for positions under 0.04\n",
      "43.149499999999996\n",
      "ROI for positions under 0.04\n",
      "20.084\n",
      "positions['GROI'].sum()-pip_limit*positions['GROI'].shape[0]\n",
      "-8.747700000000002\n",
      "# Assets\n",
      "21\n"
     ]
    }
   ],
   "source": [
    "positions = pd.read_csv(pos_dirname+pos_filename,sep='\\t')\n",
    "#print(positions)\n",
    "pip_limit = 0.04\n",
    "pos_under_2p = positions['spread']<pip_limit\n",
    "positions['DTi'] = positions[\"Di\"] + positions[\"Ti\"]\n",
    "pos_under_thr = positions[pos_under_2p].sort_values(by=['DTi'])\n",
    "per_under_2p = 100*sum(pos_under_2p)/positions.shape[0]\n",
    "tgsr = 100*sum(positions['GROI']>0)/positions.shape[0]\n",
    "gsr = 100*sum(pos_under_thr['GROI']>0)/sum(pos_under_2p)\n",
    "tsr = 100*sum(positions['ROI']>0)/positions.shape[0]\n",
    "sr = 100*sum(positions[pos_under_2p]['ROI']>0)/sum(pos_under_2p)\n",
    "mean_spread = positions[pos_under_2p]['spread'].mean()\n",
    "print(\"total mean GROI\")\n",
    "print(positions['GROI'].mean())\n",
    "print(\"mean GROI of selected\")\n",
    "print(positions[pos_under_2p]['GROI'].mean())\n",
    "print(\"mean_spread of selected\")\n",
    "print(mean_spread)\n",
    "print(\"Number of pos under \"+str(pip_limit))\n",
    "print(positions[pos_under_2p].shape[0])\n",
    "print(\"per under pip_limit\")\n",
    "print(per_under_2p)\n",
    "print(\"total gross success rate\")\n",
    "print(tgsr)\n",
    "print(\"gross success rate\")\n",
    "print(gsr)\n",
    "print(\"total success rate\")\n",
    "print(tsr)\n",
    "print(\"success rate\")\n",
    "print(sr)\n",
    "print(\"GROI for positions under \"+str(pip_limit))\n",
    "print(positions[pos_under_2p]['GROI'].sum())\n",
    "print(\"ROI for positions under \"+str(pip_limit))\n",
    "print(positions[pos_under_2p]['ROI'].sum())\n",
    "print(\"positions['GROI'].sum()-pip_limit*positions['GROI'].shape[0]\")\n",
    "print(positions['GROI'].sum()-pip_limit*positions['GROI'].shape[0])\n",
    "print(\"# Assets\")\n",
    "print(positions['Asset'][pos_under_2p].unique().shape[0])"
   ]
  },
  {
   "cell_type": "code",
   "execution_count": 137,
   "metadata": {},
   "outputs": [
    {
     "name": "stdout",
     "output_type": "stream",
     "text": [
      "nt\n"
     ]
    },
    {
     "data": {
      "text/plain": [
       "1"
      ]
     },
     "execution_count": 137,
     "metadata": {},
     "output_type": "execute_result"
    }
   ],
   "source": [
    "#positions[pos_under_2p].agg(positions[pos_under_2p]['Di']+positions[pos_under_2p]['Ti'])#.sort_values(by=[entry_time_column])\n",
    "#positions['DTi'] = positions[\"Di\"] + positions[\"Ti\"]\n",
    "#positions\n",
    "print (os.name)\n",
    "L = [1,2,3]\n",
    "iter(L).__next__()"
   ]
  },
  {
   "cell_type": "code",
   "execution_count": 130,
   "metadata": {},
   "outputs": [
    {
     "name": "stdout",
     "output_type": "stream",
     "text": [
      "(1048,)\n"
     ]
    },
    {
     "data": {
      "image/png": "[encoded data removed]",
      "text/plain": [
       "<Figure size 432x288 with 1 Axes>"
      ]
     },
     "metadata": {},
     "output_type": "display_data"
    },
    {
     "data": {
      "image/png": "[encoded data removed]",
      "text/plain": [
       "<Figure size 432x288 with 1 Axes>"
      ]
     },
     "metadata": {},
     "output_type": "display_data"
    },
    {
     "data": {
      "image/png": "[encoded data removed]",
      "text/plain": [
       "<Figure size 432x288 with 1 Axes>"
      ]
     },
     "metadata": {},
     "output_type": "display_data"
    }
   ],
   "source": [
    "import matplotlib.pyplot as plt\n",
    "\n",
    "plt.figure(0)\n",
    "bins = [i/100 for i in range(-50,50)]\n",
    "histG = plt.hist(pos_under_thr['GROI'], bins=bins)\n",
    "histR = plt.hist(pos_under_thr['ROI'], bins=bins)\n",
    "plt.grid()\n",
    "\n",
    "#pos_under_thr.index = range(pos_under_thr.shape[0])\n",
    "plt.figure(1)\n",
    "plt.plot(range(pos_under_thr.shape[0]),pos_under_thr['GROI'].cumsum())\n",
    "plt.plot(range(pos_under_thr.shape[0]),pos_under_thr['ROI'].cumsum())\n",
    "plt.grid()\n",
    "\n",
    "plt.figure(2)\n",
    "#print(pos_under_thr['ROI'])\n",
    "print(positions[pos_under_2p]['GROI'].shape)\n",
    "cumG = plt.plot(positions['GROI'].cumsum())#, bins=bins\n",
    "cumR = plt.plot(positions['ROI'].cumsum())\n",
    "plt.grid()"
   ]
  },
  {
   "cell_type": "code",
   "execution_count": 131,
   "metadata": {},
   "outputs": [
    {
     "name": "stdout",
     "output_type": "stream",
     "text": [
      "Asset\n",
      "AUDCAD    2.2044\n",
      "AUDJPY    2.5554\n",
      "CADJPY    0.3829\n",
      "CHFJPY    1.0913\n",
      "EURAUD    2.0903\n",
      "EURCAD    2.6922\n",
      "EURCHF    2.0072\n",
      "EURGBP    0.8443\n",
      "EURJPY    2.3308\n",
      "EURNZD    4.2177\n",
      "EURUSD    3.0007\n",
      "GBPAUD    3.0194\n",
      "GBPCAD    1.0098\n",
      "GBPCHF    0.6177\n",
      "GBPJPY    0.6514\n",
      "GBPUSD    1.0984\n",
      "GOLD      1.5586\n",
      "NZDUSD    0.3728\n",
      "USDCAD    2.3758\n",
      "USDCHF    2.0563\n",
      "USDJPY    0.4132\n",
      "Name: GROI, dtype: float64\n",
      "Asset\n",
      "AUDCAD    0.5628\n",
      "AUDJPY    0.9067\n",
      "CADJPY    0.2175\n",
      "CHFJPY    0.6582\n",
      "EURAUD    1.4279\n",
      "EURCAD    1.2485\n",
      "EURCHF    0.3317\n",
      "EURGBP   -0.1733\n",
      "EURJPY    0.9905\n",
      "EURNZD    3.4348\n",
      "EURUSD    2.5244\n",
      "GBPAUD    2.1706\n",
      "GBPCAD    0.2789\n",
      "GBPCHF    0.3914\n",
      "GBPJPY    0.0782\n",
      "GBPUSD    0.7755\n",
      "GOLD      1.0084\n",
      "NZDUSD   -0.0637\n",
      "USDCAD    1.5148\n",
      "USDCHF    1.0084\n",
      "USDJPY    0.1344\n",
      "Name: ROI, dtype: float64\n"
     ]
    },
    {
     "data": {
      "text/plain": [
       "(array([1., 1., 3., 6., 3., 3., 4., 6., 1., 1., 1., 1., 2., 0., 0.]),\n",
       " array([ 0,  5, 10, 15, 20, 25, 30, 35, 40, 45, 50, 55, 60, 65, 70, 75]),\n",
       " <a list of 15 Patch objects>)"
      ]
     },
     "execution_count": 131,
     "metadata": {},
     "output_type": "execute_result"
    },
    {
     "data": {
      "image/png": "[encoded data removed]",
      "text/plain": [
       "<Figure size 432x288 with 1 Axes>"
      ]
     },
     "metadata": {},
     "output_type": "display_data"
    },
    {
     "data": {
      "image/png": "[encoded data removed]",
      "text/plain": [
       "<Figure size 432x288 with 1 Axes>"
      ]
     },
     "metadata": {},
     "output_type": "display_data"
    }
   ],
   "source": [
    "#positions\n",
    "#grouped = pos_format.groupby(['asset'])\n",
    "weekly_group = pos_under_thr.groupby([pd.to_datetime(pos_under_thr['Di']).dt.strftime('%W')])['ROI']\n",
    "weekly_group_G = pos_under_thr.groupby([pd.to_datetime(pos_under_thr['Di']).dt.strftime('%W')])['GROI']\n",
    "asset_group = pos_under_thr.groupby(['Asset'])\n",
    "weekly_sum = weekly_group.sum()\n",
    "weekly_sum_G = weekly_group_G.sum()\n",
    "weekly_count = weekly_group.count()\n",
    "#weekly_sum.cumsum()\n",
    "print(asset_group['GROI'].sum())\n",
    "print(asset_group['ROI'].sum())\n",
    "plt.figure(0)\n",
    "plt.plot(weekly_sum_G.cumsum())\n",
    "plt.plot(weekly_sum.cumsum())\n",
    "plt.grid()\n",
    "#print(weekly_sum)\n",
    "#print(pos_under_thr.groupby([pd.to_datetime(pos_under_thr['Di']).dt.strftime('%W')])['GROI'].sum())\n",
    "#print(weekly_count)\n",
    "plt.figure(1)\n",
    "plt.grid()\n",
    "plt.hist(weekly_count, bins=range(0,max(weekly_count),5))\n",
    "\n",
    "#for name, group in asset_group:\n",
    "#    print(name)\n",
    "#    print(group.to_string())\n",
    "#pd.to_datetime(positions['Di']).dt.strftime('%W')\n",
    "#pd.to_datetime(positions['Di'])#.groupby('Name').resample('W-Mon', on='Date').sum().reset_index().sort_values(by='Date')"
   ]
  },
  {
   "cell_type": "code",
   "execution_count": 132,
   "metadata": {},
   "outputs": [
    {
     "data": {
      "text/plain": [
       "-25.2909"
      ]
     },
     "execution_count": 132,
     "metadata": {},
     "output_type": "execute_result"
    }
   ],
   "source": [
    "positions[positions['ROI']<-.2]['ROI'].sum()"
   ]
  },
  {
   "cell_type": "code",
   "execution_count": 91,
   "metadata": {},
   "outputs": [
    {
     "data": {
      "text/plain": [
       "-0.5216"
      ]
     },
     "execution_count": 91,
     "metadata": {},
     "output_type": "execute_result"
    }
   ],
   "source": [
    "positions['GROI'].min()"
   ]
  },
  {
   "cell_type": "code",
   "execution_count": 144,
   "metadata": {},
   "outputs": [
    {
     "name": "stdout",
     "output_type": "stream",
     "text": [
      "0.035496947809999325\n"
     ]
    },
    {
     "data": {
      "text/plain": [
       "[<matplotlib.lines.Line2D at 0x1d66e347dd8>]"
      ]
     },
     "execution_count": 144,
     "metadata": {},
     "output_type": "execute_result"
    },
    {
     "data": {
      "image/png": "[encoded data removed]",
      "text/plain": [
       "<Figure size 432x288 with 1 Axes>"
      ]
     },
     "metadata": {},
     "output_type": "display_data"
    }
   ],
   "source": [
    "abs_B = (positions['Bo']-positions['Ao'])\n",
    "abs_A = (positions['Bi']-positions['Ai'])\n",
    "dif = 100*abs(abs_A-abs_B)/positions['Ai']\n",
    "print(np.mean(dif))\n",
    "plt.plot(dif)"
   ]
  },
  {
   "cell_type": "code",
   "execution_count": null,
   "metadata": {},
   "outputs": [],
   "source": []
  }
 ],
 "metadata": {
  "kernelspec": {
   "display_name": "Python 3",
   "language": "python",
   "name": "python3"
  },
  "language_info": {
   "codemirror_mode": {
    "name": "ipython",
    "version": 3
   },
   "file_extension": ".py",
   "mimetype": "text/x-python",
   "name": "python",
   "nbconvert_exporter": "python",
   "pygments_lexer": "ipython3",
   "version": "3.5.5"
  }
 },
 "nbformat": 4,
 "nbformat_minor": 2
}
