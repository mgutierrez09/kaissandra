{
 "cells": [
  {
   "cell_type": "markdown",
   "metadata": {},
   "source": [
    "(https://upload.wikimedia.org/wikipedia/commons/thumb/4/42/Cassandra1.jpeg/800px-Cassandra1.jpeg)\n",
    "## Notebook to run batch Kaissandra methods\n",
    "\n",
    "With this notebook you can run train, test or alternated train and test methods\n"
   ]
  },
  {
   "cell_type": "code",
   "execution_count": 1,
   "metadata": {},
   "outputs": [
    {
     "name": "stdout",
     "output_type": "stream",
     "text": [
      "C:\\Users\\mgutierrez\\root\\Projects\\SDC\\py\\kaissandra\\ added to python path\n"
     ]
    }
   ],
   "source": [
    "import sys\n",
    "import os\n",
    "\n",
    "this_path = os.getcwd()\n",
    "path = '\\\\'.join(this_path.split('\\\\')[:-1])+'\\\\'\n",
    "if path not in sys.path:\n",
    "    sys.path.insert(0, path)\n",
    "    print(path+\" added to python path\")\n",
    "else:\n",
    "    print(path+\" already in python path\")\n",
    "    \n",
    "%load_ext autoreload\n",
    "%autoreload 2"
   ]
  },
  {
   "cell_type": "code",
   "execution_count": 2,
   "metadata": {},
   "outputs": [
    {
     "name": "stderr",
     "output_type": "stream",
     "text": [
      "C:\\ProgramData\\Anaconda3\\envs\\py35\\lib\\site-packages\\h5py\\__init__.py:36: FutureWarning: Conversion of the second argument of issubdtype from `float` to `np.floating` is deprecated. In future, it will be treated as `np.float64 == np.dtype(float).type`.\n",
      "  from ._conv import register_converters as _register_converters\n"
     ]
    }
   ],
   "source": [
    "# Import modules\n",
    "import time\n",
    "\n",
    "from kaissandra.config import configuration, retrieve_config\n",
    "from kaissandra.testRNN import test_RNN\n",
    "from kaissandra.trainRNN import train_RNN\n",
    "from kaissandra.inputs import Data, run_train_test, build_and_test, build_and_train\n",
    "\n",
    "\n",
    "#%reload_ext autoreload"
   ]
  },
  {
   "cell_type": "markdown",
   "metadata": {},
   "source": [
    "## Get config structure"
   ]
  },
  {
   "cell_type": "code",
   "execution_count": 18,
   "metadata": {},
   "outputs": [
    {
     "name": "stdout",
     "output_type": "stream",
     "text": [
      "WARNING! Config values have been overwritten with entries values\n",
      "Config file ../../config/CRNN02010.config exists. Loaded from disk\n"
     ]
    }
   ],
   "source": [
    "params = {'config_name':'CRNN02010',\n",
    "          \n",
    "          'movingWindow':500,\n",
    "          'nEventsPerStat':5000,\n",
    "          'feature_keys_manual':[],\n",
    "          'feature_keys_tsfresh':[i for i in range(37,48)]+[49,50]+[i for i in range(52,68)],\n",
    "           'var_feat_keys':[i for i in range(68,93)],\n",
    "          'L':1,\n",
    "          'size_hidden_layer':1024,\n",
    "          'if_build_IO':True,\n",
    "          'from_stats_file':False,\n",
    "          'IDweights':'WRNN02010',\n",
    "          'inverse_load':True,\n",
    "          \n",
    "          'IDresults':'RRNN02010',\n",
    "          'startFrom':-1,\n",
    "          'endAt':-1,\n",
    "          'save_journal':False}\n",
    "combine_ts = {'if_combine':False,'params_combine':[{'alg':'mean'}]}\n",
    "params['combine_ts'] = combine_ts\n",
    "config = configuration(params)"
   ]
  },
  {
   "cell_type": "markdown",
   "metadata": {},
   "source": [
    "## Build inputs/outputs and train Network from Variations"
   ]
  },
  {
   "cell_type": "code",
   "execution_count": null,
   "metadata": {},
   "outputs": [],
   "source": [
    "from kaissandra.inputs import Data, run_train_test, build_and_test, build_and_train\n",
    "build_and_train(config)"
   ]
  },
  {
   "cell_type": "markdown",
   "metadata": {},
   "source": [
    "## Build inputs/outputs and test Network from Variations"
   ]
  },
  {
   "cell_type": "code",
   "execution_count": null,
   "metadata": {},
   "outputs": [],
   "source": [
    "from kaissandra.inputs import Data, run_train_test, build_and_test, build_and_train\n",
    "build_and_test(config)"
   ]
  },
  {
   "cell_type": "markdown",
   "metadata": {},
   "source": [
    "## Automately Train and Test from Variations"
   ]
  },
  {
   "cell_type": "code",
   "execution_count": null,
   "metadata": {},
   "outputs": [],
   "source": [
    "# Automate train/test from variation features\n",
    "from kaissandra.inputs import Data, run_train_test\n",
    "\n",
    "if_train = True\n",
    "if_test = True\n",
    "its = 20\n",
    "#configs = [config['config_name']]\n",
    "\n",
    "#configs_list = []\n",
    "# load configuration files\n",
    "#for config_name in configs:\n",
    "#    configs_list.append(retrieve_config(config_name))\n",
    "# run train/test\n",
    "#for config in configs_list:\n",
    "# set automation-specific config fields\n",
    "config['num_epochs'] = 1\n",
    "config['startFrom'] = -1\n",
    "config['endAt'] = -1\n",
    "run_train_test(config, its, if_train, if_test)"
   ]
  },
  {
   "cell_type": "code",
   "execution_count": 22,
   "metadata": {},
   "outputs": [
    {
     "data": {
      "text/plain": [
       "{'if_combine': False, 'params_combine': [{'alg': 'mean'}]}"
      ]
     },
     "execution_count": 22,
     "metadata": {},
     "output_type": "execute_result"
    }
   ],
   "source": [
    "config['combine_ts']"
   ]
  },
  {
   "cell_type": "code",
   "execution_count": 7,
   "metadata": {},
   "outputs": [
    {
     "name": "stdout",
     "output_type": "stream",
     "text": [
      "[]\n",
      "54\n",
      "25\n",
      "99\n",
      "99\n"
     ]
    }
   ],
   "source": [
    "from kaissandra.RNN import modelRNN\n",
    "\n",
    "data=Data(movingWindow=config['movingWindow'],\n",
    "              nEventsPerStat=config['nEventsPerStat'],\n",
    "              lB=config['lB'], \n",
    "              dateTest=config['dateTest'],\n",
    "              assets=config['assets'],\n",
    "              channels=config['channels'],\n",
    "              max_var=config['max_var'],\n",
    "              feature_keys_manual=config['feature_keys_manual'],\n",
    "              feature_keys_tsfresh=config['feature_keys_tsfresh'],\n",
    "              var_feat_keys=config['var_feat_keys'])\n",
    "    \n",
    "model=modelRNN(data,\n",
    "                   size_hidden_layer=config['size_hidden_layer'],\n",
    "                   L=config['L'],\n",
    "                   size_output_layer=config['size_output_layer'],\n",
    "                   keep_prob_dropout=config['keep_prob_dropout'],\n",
    "                   miniBatchSize=config['miniBatchSize'],\n",
    "                   outputGain=config['outputGain'],\n",
    "                   commonY=config['commonY'],\n",
    "                   lR0=config['lR0'],\n",
    "                   num_epochs=config['num_epochs'])\n",
    "print(data.feature_keys_manual)\n",
    "print(len(data.feature_keys_tsfresh)+len(data.var_feat_keys))\n",
    "print(len(data.var_feat_keys))\n",
    "print(data.n_feats_tsfresh+len(data.var_feat_keys))\n",
    "print(data.nFeatures)"
   ]
  },
  {
   "cell_type": "code",
   "execution_count": null,
   "metadata": {},
   "outputs": [],
   "source": [
    "# test individual assets\n",
    "assets = [16,17,27,29,30,32]\n",
    "for asset in assets:\n",
    "    ass_name = Data().AllAssets[str(asset)]\n",
    "    try:\n",
    "        config = configuration({'config_name':'C287INVO_'+ass_name,\n",
    "                               'assets':[asset],\n",
    "                               'IDresults':'C287INVO_'+ass_name})\n",
    "    except OSError:\n",
    "        config = retrieve_config('C287INVO_'+ass_name)\n",
    "    test_RNN(config)"
   ]
  },
  {
   "cell_type": "code",
   "execution_count": null,
   "metadata": {},
   "outputs": [],
   "source": []
  },
  {
   "cell_type": "markdown",
   "metadata": {},
   "source": [
    "## Evaluate Results"
   ]
  },
  {
   "cell_type": "code",
   "execution_count": 68,
   "metadata": {},
   "outputs": [
    {
     "name": "stdout",
     "output_type": "stream",
     "text": [
      "../../RNN/results/100318INVO/journal/J_E15TI1MC0.7MD0.7.csv\n",
      "../../RNN/results/100318R20/journal/J_E29TI0MC0.5MD0.75.csv\n",
      "../../RNN/results/100318R20/journal/J_E28TI0MC0.5MD0.75.csv\n"
     ]
    }
   ],
   "source": [
    "import pandas as pd\n",
    "from kaissandra.results2 import get_extended_results\n",
    "\n",
    "list_results_names = ['100318INVO','100318R20','100318R20']\n",
    "results_dir  = '../../RNN/results/'\n",
    "ext = '.csv'\n",
    "list_epochs = [15,29,28]\n",
    "list_tis = [1,0,0]\n",
    "list_mcs = [.7,.5,.5]\n",
    "list_mds = [.7,.75,.75]\n",
    "Journal = pd.DataFrame()\n",
    "for l,name in enumerate(list_results_names):\n",
    "    journal_filename = results_dir+name+'/journal/J_E'+str(list_epochs[l])+'TI'+str(list_tis[l])+'MC'+str(list_mcs[l])+'MD'+str(list_mds[l])+ext\n",
    "    Journal = Journal.append(pd.read_csv(journal_filename,sep='\\t')).sort_values(by=['Asset','DTi']).reset_index().drop(labels='level_0',axis=1)\n",
    "    print(journal_filename)\n",
    "#res_ext, log = get_extended_results(Journal,\n",
    "#                                    5,\n",
    "#                                    n_days, resultsDir, IDresults,\n",
    "#                                    epoch, t_index, thr_mc, thr_md,\n",
    "#                                    get_positions=False,pNZA=1)"
   ]
  },
  {
   "cell_type": "code",
   "execution_count": 69,
   "metadata": {},
   "outputs": [
    {
     "name": "stdout",
     "output_type": "stream",
     "text": [
      "shape\n",
      "9619\n"
     ]
    },
    {
     "name": "stderr",
     "output_type": "stream",
     "text": [
      "100%|████████████████████████████████████████████████████████████████████████████| 9618/9618 [00:02<00:00, 4061.70it/s]\n"
     ]
    },
    {
     "name": "stdout",
     "output_type": "stream",
     "text": [
      "{'NSP': 39.795421334632245, 'SI1': 385.84999999999985, 'eROI4': -13.359543175662777, 'eROI2': 27.700456824336644, 'eROI5': -33.88954317566317, 'SI2': 178.84999999999985, 'NO': 2053, 'mSpread': 0.04760583652411108, 'NSP3': 52.362396492937165, 'sharpe': -8.929004845609478, 'SI4': -282.1500000000001, 'GSP': 80.71115440818315, 'eGROI': 68.76045682433703, 'eROI': -28.974325559663345, 'NOl2': 396.0, 'NSP5': 31.612274719922066, 'eGl1': 49.33477347201489, 'NOl1': 1657.0, 'SI3': -54.15000000000001, 'eRl1': -30.91222244225491, 'SI5': -480.15000000000003, 'eGl2': 19.42568335232196, 'SI': -312.15000000000003, 'NSP.5': 77.69118363370677, 'eRl2': 1.937896882591518, 'NSP4': 41.256697515830496, 'SI.5': 465.84999999999997, 'eROI3': 7.17045682433702, 'eROI.5': 58.495456824337964, 'NSP1': 73.79444715051144, 'eROI1': 48.23045682433843, 'NSP2': 63.711641500243545}\n"
     ]
    }
   ],
   "source": [
    "print(\"shape\")\n",
    "print(Journal.shape[0])\n",
    "#print(Journal)\n",
    "n_days = 33*5+1\n",
    "pos_dirname = '../../RNN/results/MERGED/positions/'\n",
    "pos_filename = 'P_100318INVO_100318R20.csv'\n",
    "res_ext, log = get_extended_results(Journal,\n",
    "                                    5,\n",
    "                                    n_days,\n",
    "                                   get_positions=True,pos_dirname=pos_dirname,\n",
    "                                   pos_filename=pos_filename)\n",
    "print(res_ext)\n"
   ]
  },
  {
   "cell_type": "code",
   "execution_count": 41,
   "metadata": {},
   "outputs": [
    {
     "name": "stdout",
     "output_type": "stream",
     "text": [
      "shape\n",
      "9414\n"
     ]
    },
    {
     "name": "stderr",
     "output_type": "stream",
     "text": [
      "100%|████████████████████████████████████████████████████████████████████████████| 9413/9413 [00:01<00:00, 5046.32it/s]\n"
     ]
    },
    {
     "name": "stdout",
     "output_type": "stream",
     "text": [
      "{'NSP': 40.32863849765258, 'SI1': 384.49999999999983, 'eROI4': -14.557696423722136, 'eROI2': 28.04230357627778, 'eROI5': -35.85769642372226, 'SI2': 163.50000000000003, 'NO': 2130, 'mSpread': 0.046841578435802673, 'NSP3': 51.97183098591549, 'sharpe': -8.905498923930248, 'SI4': -303.50000000000017, 'GSP': 80.46948356807512, 'eGROI': 70.64230357627794, 'eROI': -29.130258491982087, 'NOl2': 396.0, 'NSP5': 31.314553990610328, 'eGl1': 51.051955418111156, 'NOl1': 1734.0, 'SI3': -64.50000000000016, 'eRl1': -31.337225493286535, 'SI5': -504.5000000000001, 'eGl2': 19.590348158166634, 'SI': -312.5000000000001, 'NSP.5': 77.1830985915493, 'eRl2': 2.2069670013043896, 'NSP4': 40.751173708920184, 'SI.5': 472.49999999999983, 'eROI3': 6.742303576277957, 'eROI.5': 59.99230357627901, 'NSP1': 73.05164319248826, 'eROI1': 49.34230357627945, 'NSP2': 62.676056338028175}\n"
     ]
    }
   ],
   "source": [
    "print(\"shape\")\n",
    "print(Journal.shape[0])\n",
    "#print(Journal)\n",
    "n_days = 33*5+1\n",
    "pos_dirname = '../../RNN/results/MERGED/positions/'\n",
    "pos_filename = 'P_100318INVO_100318R20_100318R20.csv'\n",
    "res_ext, log = get_extended_results(Journal,5,n_days,\n",
    "                                   get_positions=True,pos_dirname=pos_dirname,\n",
    "                                   pos_filename=pos_filename)\n",
    "print(res_ext)"
   ]
  },
  {
   "cell_type": "code",
   "execution_count": 76,
   "metadata": {},
   "outputs": [
    {
     "name": "stdout",
     "output_type": "stream",
     "text": [
      "mean_spread\n",
      "1.3893650793650802\n",
      "Number of pos under 0.02\n",
      "378\n",
      "per under pip_limit\n",
      "18.412079883097906\n",
      "total gross success rate\n",
      "80.71115440818315\n",
      "gross success rate\n",
      "76.19047619047619\n",
      "total success rate\n",
      "39.405747686312715\n",
      "success rate\n",
      "64.55026455026454\n",
      "ROI for positions under 0.02\n",
      "6.5178\n",
      "positions['GROI'].sum()-pip_limit*positions['GROI'].shape[0]\n",
      "27.698800000000006\n"
     ]
    }
   ],
   "source": [
    "positions = pd.read_csv(pos_dirname+pos_filename,sep='\\t')\n",
    "#print(positions)\n",
    "pip_limit = 0.02\n",
    "pos_under_2p = positions['spread']<pip_limit\n",
    "per_under_2p = 100*sum(pos_under_2p)/positions.shape[0]\n",
    "tgsr = 100*sum(positions['GROI']>0)/positions.shape[0]\n",
    "gsr = 100*sum(positions[pos_under_2p]['GROI']>0)/sum(pos_under_2p)\n",
    "tsr = 100*sum(positions['ROI']>0)/positions.shape[0]\n",
    "sr = 100*sum(positions[pos_under_2p]['ROI']>0)/sum(pos_under_2p)\n",
    "mean_spread = 100*positions[pos_under_2p]['spread'].mean()\n",
    "print(\"mean_spread\")\n",
    "print(mean_spread)\n",
    "print(\"Number of pos under \"+str(pip_limit))\n",
    "print(positions[pos_under_2p].shape[0])\n",
    "print(\"per under pip_limit\")\n",
    "print(per_under_2p)\n",
    "print(\"total gross success rate\")\n",
    "print(tgsr)\n",
    "print(\"gross success rate\")\n",
    "print(gsr)\n",
    "print(\"total success rate\")\n",
    "print(tsr)\n",
    "print(\"success rate\")\n",
    "print(sr)\n",
    "print(\"ROI for positions under \"+str(pip_limit))\n",
    "print(positions[pos_under_2p]['ROI'].sum())\n",
    "print(\"positions['GROI'].sum()-pip_limit*positions['GROI'].shape[0]\")\n",
    "print(positions['GROI'].sum()-pip_limit*positions['GROI'].shape[0])"
   ]
  },
  {
   "cell_type": "code",
   "execution_count": 40,
   "metadata": {},
   "outputs": [
    {
     "name": "stdout",
     "output_type": "stream",
     "text": [
      "mean_spread\n",
      "1.9215471698113193\n",
      "positions[pos_under_2p].shape[0]\n",
      "795\n",
      "per under pip_limit\n",
      "37.32394366197183\n",
      "tgsr\n",
      "80.46948356807512\n",
      "gsr\n",
      "76.60377358490567\n",
      "tsr\n",
      "39.906103286384976\n",
      "sr\n",
      "58.61635220125786\n",
      "ROI for positions under 0.03\n",
      "8.3522\n",
      "positions['GROI'].sum()-pip_limit*positions['GROI'].shape[0]\n",
      "6.741400000000006\n"
     ]
    }
   ],
   "source": [
    "positions = pd.read_csv(pos_dirname+pos_filename,sep='\\t')\n",
    "#print(positions)\n",
    "pip_limit = 0.03\n",
    "pos_under_2p = positions['spread']<pip_limit\n",
    "per_under_2p = 100*sum(pos_under_2p)/positions.shape[0]\n",
    "tgsr = 100*sum(positions['GROI']>0)/positions.shape[0]\n",
    "gsr = 100*sum(positions[pos_under_2p]['GROI']>0)/sum(pos_under_2p)\n",
    "tsr = 100*sum(positions['ROI']>0)/positions.shape[0]\n",
    "sr = 100*sum(positions[pos_under_2p]['ROI']>0)/sum(pos_under_2p)\n",
    "mean_spread = 100*positions[pos_under_2p]['spread'].mean()\n",
    "print(\"mean_spread\")\n",
    "print(mean_spread)\n",
    "print(\"positions[pos_under_2p].shape[0]\")\n",
    "print(positions[pos_under_2p].shape[0])\n",
    "print(\"per under pip_limit\")\n",
    "print(per_under_2p)\n",
    "print(\"tgsr\")\n",
    "print(tgsr)\n",
    "print(\"gsr\")\n",
    "print(gsr)\n",
    "print(\"tsr\")\n",
    "print(tsr)\n",
    "print(\"sr\")\n",
    "print(sr)\n",
    "print(\"ROI for positions under \"+str(pip_limit))\n",
    "print(positions[pos_under_2p]['ROI'].sum())\n",
    "print(\"positions['GROI'].sum()-pip_limit*positions['GROI'].shape[0]\")\n",
    "print(positions['GROI'].sum()-pip_limit*positions['GROI'].shape[0])"
   ]
  },
  {
   "cell_type": "code",
   "execution_count": 4,
   "metadata": {},
   "outputs": [
    {
     "name": "stdout",
     "output_type": "stream",
     "text": [
      "total mean GROI\n",
      "0.039668888255834374\n",
      "mean GROI of selected\n",
      "0.039668888255834374\n",
      "mean_spread of selected\n",
      "0.015740596095842375\n",
      "Number of pos under 0.025\n",
      "728\n",
      "per under pip_limit\n",
      "100.0\n",
      "total gross success rate\n",
      "63.46153846153846\n",
      "gross success rate\n",
      "63.46153846153846\n",
      "total success rate\n",
      "57.82967032967033\n",
      "success rate\n",
      "57.82967032967033\n",
      "GROI for positions under 0.025\n",
      "28.87895065024742\n",
      "ROI for positions under 0.025\n",
      "17.419796692474172\n",
      "positions['GROI'].sum()-pip_limit*positions['GROI'].shape[0]\n",
      "10.678950650247419\n",
      "# Assets\n",
      "21\n"
     ]
    }
   ],
   "source": []
  },
  {
   "cell_type": "code",
   "execution_count": 7,
   "metadata": {},
   "outputs": [
    {
     "name": "stdout",
     "output_type": "stream",
     "text": [
      "(728,)\n"
     ]
    },
    {
     "data": {
      "image/png": "[encoded data removed]",
      "text/plain": [
       "<Figure size 432x288 with 1 Axes>"
      ]
     },
     "metadata": {},
     "output_type": "display_data"
    },
    {
     "data": {
      "image/png": "[encoded data removed]",
      "text/plain": [
       "<Figure size 432x288 with 1 Axes>"
      ]
     },
     "metadata": {},
     "output_type": "display_data"
    },
    {
     "data": {
      "image/png": "[encoded data removed]",
      "text/plain": [
       "<Figure size 432x288 with 1 Axes>"
      ]
     },
     "metadata": {},
     "output_type": "display_data"
    }
   ],
   "source": [
    "import matplotlib.pyplot as plt\n",
    "\n",
    "plt.figure(0)\n",
    "bins = [i/100 for i in range(-100,100,2)]\n",
    "histG = plt.hist(pos_under_thr['GROI'], bins=bins)\n",
    "histR = plt.hist(pos_under_thr['ROI'], bins=bins)\n",
    "plt.grid()\n",
    "\n",
    "#pos_under_thr.index = range(pos_under_thr.shape[0])\n",
    "plt.figure(1)\n",
    "plt.plot(range(pos_under_thr.shape[0]),pos_under_thr['GROI'].cumsum())\n",
    "plt.plot(range(pos_under_thr.shape[0]),pos_under_thr['ROI'].cumsum())\n",
    "plt.grid()\n",
    "\n",
    "plt.figure(2)\n",
    "#print(pos_under_thr['ROI'])\n",
    "print(positions[pos_under_2p]['GROI'].shape)\n",
    "cumG = plt.plot(positions['GROI'].cumsum())#, bins=bins\n",
    "cumR = plt.plot(positions['ROI'].cumsum())\n",
    "plt.grid()"
   ]
  },
  {
   "cell_type": "code",
   "execution_count": 8,
   "metadata": {},
   "outputs": [
    {
     "name": "stdout",
     "output_type": "stream",
     "text": [
      "Asset\n",
      "AUDCAD    0.258453\n",
      "AUDJPY    2.561115\n",
      "CADJPY    0.115273\n",
      "CHFJPY    0.083253\n",
      "EURAUD    0.158090\n",
      "EURCAD    1.241721\n",
      "EURCHF   -0.073826\n",
      "EURGBP    1.211509\n",
      "EURJPY    2.397916\n",
      "EURNZD    0.702530\n",
      "EURUSD    1.688039\n",
      "GBPAUD    1.507690\n",
      "GBPCAD    1.516838\n",
      "GBPCHF    0.165534\n",
      "GBPJPY    0.272567\n",
      "GBPUSD    1.458380\n",
      "GOLD      0.552830\n",
      "NZDUSD    0.979884\n",
      "USDCAD    0.844591\n",
      "USDCHF   -0.267375\n",
      "USDJPY    0.044785\n",
      "Name: ROI, dtype: float64\n",
      "Di\n",
      "10    0.144522\n",
      "11    0.110953\n",
      "12    2.161010\n",
      "13   -0.039431\n",
      "14    0.879686\n",
      "15    0.051816\n",
      "16   -0.652849\n",
      "17   -0.067202\n",
      "18    0.176842\n",
      "19   -0.119154\n",
      "20   -0.317240\n",
      "21    1.165438\n",
      "22    2.495202\n",
      "23    1.459122\n",
      "24    2.835595\n",
      "25    3.475579\n",
      "26    1.168712\n",
      "27    1.010950\n",
      "28    0.509897\n",
      "31    0.220126\n",
      "32    1.348528\n",
      "33    0.036238\n",
      "34   -0.013157\n",
      "35    2.175946\n",
      "36    0.991580\n",
      "37    1.141514\n",
      "38    1.322031\n",
      "39    0.439963\n",
      "40    1.563934\n",
      "41    0.048359\n",
      "42    0.543656\n",
      "43    1.076231\n",
      "44    0.581999\n",
      "45    0.952553\n",
      "Name: GROI, dtype: float64\n",
      "Di\n",
      "10    0.082639\n",
      "11    0.031734\n",
      "12    1.589541\n",
      "13   -0.152400\n",
      "14    0.708385\n",
      "15   -0.057384\n",
      "16   -0.875586\n",
      "17   -0.188740\n",
      "18    0.008972\n",
      "19   -0.308506\n",
      "20   -0.396870\n",
      "21    0.753396\n",
      "22    1.674075\n",
      "23    0.930725\n",
      "24    2.158501\n",
      "25    3.011337\n",
      "26    0.614923\n",
      "27    0.651301\n",
      "28    0.291269\n",
      "31    0.132739\n",
      "32    0.909659\n",
      "33   -0.152798\n",
      "34   -0.132516\n",
      "35    1.768070\n",
      "36    0.523010\n",
      "37    0.517724\n",
      "38    0.949492\n",
      "39   -0.088311\n",
      "40    0.949749\n",
      "41   -0.323648\n",
      "42    0.176141\n",
      "43    0.653550\n",
      "44    0.376080\n",
      "45    0.633544\n",
      "Name: ROI, dtype: float64\n",
      "Di\n",
      "10     4\n",
      "11     5\n",
      "12    34\n",
      "13     6\n",
      "14    11\n",
      "15     6\n",
      "16    13\n",
      "17     7\n",
      "18    12\n",
      "19    10\n",
      "20     6\n",
      "21    19\n",
      "22    61\n",
      "23    42\n",
      "24    53\n",
      "25    48\n",
      "26    47\n",
      "27    20\n",
      "28    17\n",
      "31     5\n",
      "32    26\n",
      "33    11\n",
      "34     9\n",
      "35    21\n",
      "36    29\n",
      "37    26\n",
      "38    20\n",
      "39    27\n",
      "40    39\n",
      "41    19\n",
      "42    21\n",
      "43    24\n",
      "44    14\n",
      "45    16\n",
      "Name: ROI, dtype: int64\n",
      "Di\n",
      "10     0.082639\n",
      "11     0.114374\n",
      "12     1.703914\n",
      "13     1.551515\n",
      "14     2.259900\n",
      "15     2.202515\n",
      "16     1.326930\n",
      "17     1.138190\n",
      "18     1.147161\n",
      "19     0.838656\n",
      "20     0.441786\n",
      "21     1.195181\n",
      "22     2.869256\n",
      "23     3.799981\n",
      "24     5.958482\n",
      "25     8.969819\n",
      "26     9.584742\n",
      "27    10.236043\n",
      "28    10.527312\n",
      "31    10.660050\n",
      "32    11.569709\n",
      "33    11.416911\n",
      "34    11.284396\n",
      "35    13.052466\n",
      "36    13.575476\n",
      "37    14.093200\n",
      "38    15.042692\n",
      "39    14.954381\n",
      "40    15.904129\n",
      "41    15.580482\n",
      "42    15.756622\n",
      "43    16.410173\n",
      "44    16.786253\n",
      "45    17.419797\n",
      "Name: ROI, dtype: float64\n",
      "(34,)\n"
     ]
    },
    {
     "data": {
      "text/plain": [
       "(array([1., 7., 6., 4., 5., 4., 1., 1., 1., 2., 1., 0.]),\n",
       " array([ 0,  5, 10, 15, 20, 25, 30, 35, 40, 45, 50, 55, 60]),\n",
       " <a list of 12 Patch objects>)"
      ]
     },
     "execution_count": 8,
     "metadata": {},
     "output_type": "execute_result"
    },
    {
     "data": {
      "image/png": "[encoded data removed]",
      "text/plain": [
       "<Figure size 432x288 with 1 Axes>"
      ]
     },
     "metadata": {},
     "output_type": "display_data"
    },
    {
     "data": {
      "image/png": "[encoded data removed]",
      "text/plain": [
       "<Figure size 432x288 with 1 Axes>"
      ]
     },
     "metadata": {},
     "output_type": "display_data"
    }
   ],
   "source": [
    "#positions\n",
    "#grouped = pos_format.groupby(['asset'])\n",
    "weekly_group = pos_under_thr.groupby([pd.to_datetime(pos_under_thr['Di']).dt.strftime('%W')])['ROI']\n",
    "weekly_group_G = pos_under_thr.groupby([pd.to_datetime(pos_under_thr['Di']).dt.strftime('%W')])['GROI']\n",
    "asset_group = pos_under_thr.groupby(['Asset'])\n",
    "weekly_sum = weekly_group.sum()\n",
    "weekly_sum_G = weekly_group_G.sum()\n",
    "weekly_count = weekly_group.count()\n",
    "#weekly_sum.cumsum()\n",
    "#print(asset_group['GROI'].sum())\n",
    "print(asset_group['ROI'].sum())\n",
    "plt.figure(0)\n",
    "plt.plot(weekly_sum_G.cumsum())\n",
    "plt.plot(range(weekly_sum.shape[0]), weekly_sum.cumsum())\n",
    "plt.grid()\n",
    "print(weekly_sum_G)\n",
    "print(weekly_sum)#.cumsum()\n",
    "print(weekly_count)\n",
    "print(weekly_sum.cumsum())\n",
    "print(weekly_count.shape)\n",
    "#print(pos_under_thr.groupby([pd.to_datetime(pos_under_thr['Di']).dt.strftime('%W')])['GROI'].sum())\n",
    "#print(weekly_count)\n",
    "plt.figure(1)\n",
    "plt.grid()\n",
    "plt.hist(weekly_count, bins=range(0,max(weekly_count),5))\n",
    "\n",
    "#for name, group in asset_group:\n",
    "#    print(name)\n",
    "#    print(group.to_string())\n",
    "#pd.to_datetime(positions['Di']).dt.strftime('%W')\n",
    "#pd.to_datetime(positions['Di'])#.groupby('Name').resample('W-Mon', on='Date').sum().reset_index().sort_values(by='Date')"
   ]
  },
  {
   "cell_type": "code",
   "execution_count": null,
   "metadata": {},
   "outputs": [],
   "source": [
    "# edit config without saving for test purposes\n",
    "from kaissandra.testRNN import test_RNN\n",
    "from kaissandra.config import *\n",
    "config=retrieve_config('C0318INVO')\n",
    "config['IDresults']='100318SR20'\n",
    "config['save_journal'] = True\n",
    "config['startFrom'] = 21\n",
    "config['endAt']= 21\n",
    "config['feats_from_bids'] = 'SHORT'\n",
    "resolution = 20\n",
    "config['resolution'] = resolution\n",
    "config['thresholds_mc'] = [.5+i/resolution for i in range(int(resolution/2))]\n",
    "config['thresholds_md'] = [.5+i/resolution for i in range(int(resolution/2))]\n",
    "\n",
    "config['cost_name'] = '000318TI02'\n",
    "\n",
    "test_RNN(config)"
   ]
  },
  {
   "cell_type": "code",
   "execution_count": 36,
   "metadata": {},
   "outputs": [
    {
     "name": "stdout",
     "output_type": "stream",
     "text": [
      "../../RNN/results/100318SR20/journal/J_E21TI3MC0.7MD0.75.csv\n"
     ]
    }
   ],
   "source": [
    "import pandas as pd\n",
    "\n",
    "results_dir  = '../../RNN/results/'\n",
    "ext = '.csv'\n",
    "list_results_names = ['100318SR20']\n",
    "list_epochs = [21]\n",
    "list_tis = [3]\n",
    "list_mcs = [.7]\n",
    "list_mds = [.75]\n",
    "Journal = pd.DataFrame()\n",
    "for l,name in enumerate(list_results_names):\n",
    "    journal_filename = results_dir+name+'/journal/J_E'+str(list_epochs[l])+'TI'+str(list_tis[l])+'MC'+str(list_mcs[l])+'MD'+str(list_mds[l])+ext\n",
    "    new_journal = pd.read_csv(journal_filename,sep='\\t')\n",
    "    #if list_results_names[l]=='100350NROI':\n",
    "    #    new_journal = new_journal[new_journal['Bet']<0]\n",
    "    Journal = Journal.append(new_journal).sort_values(by=['Asset','DTi']).reset_index().drop(labels='level_0',axis=1)\n",
    "    print(journal_filename)"
   ]
  },
  {
   "cell_type": "code",
   "execution_count": 37,
   "metadata": {},
   "outputs": [
    {
     "name": "stdout",
     "output_type": "stream",
     "text": [
      "shape\n",
      "562\n",
      "../../RNN/results/100318SR20/journal/J_E21TI3MC0.7MD0.75.csv\n"
     ]
    },
    {
     "name": "stderr",
     "output_type": "stream",
     "text": [
      "100%|██████████████████████████████████████████████████████████████████████████████| 561/561 [00:00<00:00, 1152.65it/s]\n"
     ]
    },
    {
     "data": {
      "text/plain": [
       "{'GSP': 76.82926829268293,\n",
       " 'GSPl': 0,\n",
       " 'GSPs': 76.42276422764228,\n",
       " 'NO': 246,\n",
       " 'NOL': 0,\n",
       " 'NOS': 246,\n",
       " 'NOl1': 165.0,\n",
       " 'NOl2': 81.0,\n",
       " 'NSP': 43.90243902439025,\n",
       " 'NSP.5': 73.98373983739837,\n",
       " 'NSP1': 69.91869918699187,\n",
       " 'NSP2': 63.82113821138211,\n",
       " 'NSP3': 52.4390243902439,\n",
       " 'NSP4': 42.68292682926829,\n",
       " 'NSP5': 37.80487804878049,\n",
       " 'SI': -19.920000000000005,\n",
       " 'SI.5': 54.080000000000005,\n",
       " 'SI1': 44.080000000000005,\n",
       " 'SI2': 29.07999999999999,\n",
       " 'SI3': 1.080000000000001,\n",
       " 'SI4': -22.920000000000005,\n",
       " 'SI5': -34.92,\n",
       " 'eGROI': 8.705961121224655,\n",
       " 'eGROIL': 0.0,\n",
       " 'eGROIS': 8.705961121224655,\n",
       " 'eGl1': 5.484269773860614,\n",
       " 'eGl2': 3.221691347364038,\n",
       " 'eROI': -2.745666932873803,\n",
       " 'eROI.5': 7.475961121224666,\n",
       " 'eROI1': 6.2459611212246235,\n",
       " 'eROI2': 3.785961121224675,\n",
       " 'eROI3': 1.325961121224653,\n",
       " 'eROI4': -1.1340388787753464,\n",
       " 'eROI5': -3.594038878775356,\n",
       " 'eRl1': -2.5832372327342425,\n",
       " 'eRl2': -0.16242970013956007,\n",
       " 'mSpread': 0.04655133355324576,\n",
       " 'sharpe': -2.197853786580406}"
      ]
     },
     "execution_count": 37,
     "metadata": {},
     "output_type": "execute_result"
    }
   ],
   "source": [
    "from kaissandra.results2 import get_extended_results\n",
    "\n",
    "print(\"shape\")\n",
    "print(Journal.shape[0])\n",
    "print(journal_filename)\n",
    "n_days = 33*5+1\n",
    "pos_dirname = '../../RNN/results/MERGED/positions/'\n",
    "pos_filename = '_'.join([entry for entry in list_results_names])\n",
    "positions_summary, log = get_extended_results(Journal,\n",
    "                                    5,\n",
    "                                    n_days,\n",
    "                                   get_positions=True,pos_dirname=pos_dirname,\n",
    "                                   pos_filename=pos_filename+'.csv')\n",
    "positions_summary\n"
   ]
  },
  {
   "cell_type": "code",
   "execution_count": 40,
   "metadata": {},
   "outputs": [
    {
     "name": "stdout",
     "output_type": "stream",
     "text": [
      "total mean GROI\n",
      "0.03539008585863684\n",
      "mean GROI of selected\n",
      "0.040017539477768295\n",
      "mean_spread of selected\n",
      "0.012332439919195807\n",
      "Number of pos under 0.02\n",
      "106\n",
      "per under pip_limit\n",
      "43.08943089430894\n",
      "total gross success rate\n",
      "76.82926829268293\n",
      "gross success rate\n",
      "78.30188679245283\n",
      "total success rate\n",
      "43.90243902439025\n",
      "success rate\n",
      "51.886792452830186\n",
      "GROI for positions under 0.02\n",
      "4.241859184643438\n",
      "ROI for positions under 0.02\n",
      "0.8177324713933549\n",
      "positions['GROI'].sum()-pip_limit*positions['GROI'].shape[0]\n",
      "3.785961121224654\n",
      "# Assets\n",
      "19\n"
     ]
    }
   ],
   "source": [
    "positions = pd.read_csv(pos_dirname+pos_filename+'.csv',sep='\\t')\n",
    "#print(positions)\n",
    "pip_limit = 0.02\n",
    "pos_under_2p = positions['espread']<pip_limit\n",
    "#positions['DTo'] = positions[\"Do\"] + positions[\"To\"]\n",
    "pos_under_thr = positions[pos_under_2p]#.sort_values(by=['DTo'])\n",
    "per_under_2p = 100*sum(pos_under_2p)/positions.shape[0]\n",
    "tgsr = 100*sum(positions['GROI']>0)/positions.shape[0]\n",
    "gsr = 100*sum(pos_under_thr['GROI']>0)/sum(pos_under_2p)\n",
    "tsr = 100*sum(positions['ROI']>0)/positions.shape[0]\n",
    "sr = 100*sum(positions[pos_under_2p]['ROI']>0)/sum(pos_under_2p)\n",
    "mean_spread = positions[pos_under_2p]['espread'].mean()\n",
    "print(\"total mean GROI\")\n",
    "print(positions['GROI'].mean())\n",
    "print(\"mean GROI of selected\")\n",
    "print(positions[pos_under_2p]['GROI'].mean())\n",
    "print(\"mean_spread of selected\")\n",
    "print(mean_spread)\n",
    "print(\"Number of pos under \"+str(pip_limit))\n",
    "print(positions[pos_under_2p].shape[0])\n",
    "print(\"per under pip_limit\")\n",
    "print(per_under_2p)\n",
    "print(\"total gross success rate\")\n",
    "print(tgsr)\n",
    "print(\"gross success rate\")\n",
    "print(gsr)\n",
    "print(\"total success rate\")\n",
    "print(tsr)\n",
    "print(\"success rate\")\n",
    "print(sr)\n",
    "print(\"GROI for positions under \"+str(pip_limit))\n",
    "print(positions[pos_under_2p]['GROI'].sum())\n",
    "print(\"ROI for positions under \"+str(pip_limit))\n",
    "print(positions[pos_under_2p]['ROI'].sum())\n",
    "print(\"positions['GROI'].sum()-pip_limit*positions['GROI'].shape[0]\")\n",
    "print(positions['GROI'].sum()-pip_limit*positions['GROI'].shape[0])\n",
    "print(\"# Assets\")\n",
    "print(positions['Asset'][pos_under_2p].unique().shape[0])\n",
    "pos_under_thr.to_csv(pos_dirname+pos_filename+str(100*pip_limit)+'pFilt.csv', index=False, sep='\\t')"
   ]
  },
  {
   "cell_type": "code",
   "execution_count": null,
   "metadata": {},
   "outputs": [],
   "source": []
  }
 ],
 "metadata": {
  "kernelspec": {
   "display_name": "Python 3",
   "language": "python",
   "name": "python3"
  },
  "language_info": {
   "codemirror_mode": {
    "name": "ipython",
    "version": 3
   },
   "file_extension": ".py",
   "mimetype": "text/x-python",
   "name": "python",
   "nbconvert_exporter": "python",
   "pygments_lexer": "ipython3",
   "version": "3.5.5"
  }
 },
 "nbformat": 4,
 "nbformat_minor": 2
}
