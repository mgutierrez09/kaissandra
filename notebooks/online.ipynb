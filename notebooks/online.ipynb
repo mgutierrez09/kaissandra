{
 "cells": [
  {
   "cell_type": "markdown",
   "metadata": {},
   "source": [
    "(https://upload.wikimedia.org/wikipedia/commons/thumb/4/42/Cassandra1.jpeg/800px-Cassandra1.jpeg)\n",
    "## Notebook to run serial methods\n",
    "\n",
    "With this notebook you can run live/backtest Kaissandra, plot live results and much more"
   ]
  },
  {
   "cell_type": "code",
   "execution_count": 142,
   "metadata": {},
   "outputs": [
    {
     "name": "stdout",
     "output_type": "stream",
     "text": [
      "C:\\Users\\mgutierrez\\root\\Projects\\SDC\\py\\kaissandra\\ already in python path\n",
      "The autoreload extension is already loaded. To reload it, use:\n",
      "  %reload_ext autoreload\n"
     ]
    }
   ],
   "source": [
    "import sys\n",
    "import os\n",
    "\n",
    "this_path = os.getcwd()\n",
    "path = '\\\\'.join(this_path.split('\\\\')[:-1])+'\\\\'\n",
    "if path not in sys.path:\n",
    "    sys.path.insert(0, path)\n",
    "    print(path+\" added to python path\")\n",
    "else:\n",
    "    print(path+\" already in python path\")\n",
    "    \n",
    "import pandas as pd\n",
    "import datetime as dt\n",
    "import pickle\n",
    "import numpy as np\n",
    "import matplotlib.pyplot as plt\n",
    "\n",
    "%matplotlib inline\n",
    "%load_ext autoreload\n",
    "%autoreload 2\n"
   ]
  },
  {
   "cell_type": "markdown",
   "metadata": {},
   "source": [
    "## Init Util Functions and Constants "
   ]
  },
  {
   "cell_type": "code",
   "execution_count": 13,
   "metadata": {},
   "outputs": [],
   "source": [
    "def get_positions_filename(asset, open_dt, close_dt):\n",
    "    \"\"\"  \"\"\"\n",
    "    \n",
    "    dt_open = dt.datetime.strftime(dt.datetime.strptime(\n",
    "            open_dt,'%Y.%m.%d %H:%M:%S'),'%y%m%d%H%M%S')\n",
    "    dt_close = dt.datetime.strftime(dt.datetime.strptime(\n",
    "            close_dt,'%Y.%m.%d %H:%M:%S'),'%y%m%d%H%M%S')\n",
    "    filename = 'O'+dt_open+'C'+dt_close+asset\n",
    "    return filename"
   ]
  },
  {
   "cell_type": "code",
   "execution_count": 115,
   "metadata": {},
   "outputs": [],
   "source": [
    "live = False\n",
    "\n",
    "if live:\n",
    "    ext = '_LI_'\n",
    "    directory = 'kaissandra_live/live'\n",
    "    start_time = '19_01_27_23_18_41'\n",
    "else:\n",
    "    ext = '_BT_'\n",
    "    directory = 'back_test'\n",
    "    start_time = '19_02_15_17_30_37'\n",
    "results_dir = '../../RNN/resultsLive/'+directory+'/trader/'\n",
    "pos_dirname = results_dir\n",
    "pos_filename = start_time+ext+\"positions_soll.log\"\n",
    "positions_dir = '../../RNN/resultsLive/'+directory+'/positions/'+start_time+'/'\n",
    "filename = results_dir+start_time+ext+\"positions_soll.log\"\n",
    "positions = pd.read_csv(filename).sort_values(by=['Entry Time']).reset_index().drop(labels='index',axis=1)\n",
    "#print(positions)"
   ]
  },
  {
   "cell_type": "code",
   "execution_count": 141,
   "metadata": {},
   "outputs": [
    {
     "name": "stdout",
     "output_type": "stream",
     "text": [
      "32.5677227348494\n",
      "19.771873515411812\n"
     ]
    },
    {
     "ename": "AttributeError",
     "evalue": "'DataFrame' object has no attribute 'Profit'",
     "output_type": "error",
     "traceback": [
      "\u001b[1;31m---------------------------------------------------------------------------\u001b[0m",
      "\u001b[1;31mAttributeError\u001b[0m                            Traceback (most recent call last)",
      "\u001b[1;32m<ipython-input-141-b3a67a82ca7a>\u001b[0m in \u001b[0;36m<module>\u001b[1;34m()\u001b[0m\n\u001b[0;32m      8\u001b[0m \u001b[0mprint\u001b[0m\u001b[1;33m(\u001b[0m\u001b[0mpositions\u001b[0m\u001b[1;33m.\u001b[0m\u001b[0mGROI\u001b[0m\u001b[1;33m.\u001b[0m\u001b[0msum\u001b[0m\u001b[1;33m(\u001b[0m\u001b[1;33m)\u001b[0m\u001b[1;33m)\u001b[0m\u001b[1;33m\u001b[0m\u001b[0m\n\u001b[0;32m      9\u001b[0m \u001b[0mprint\u001b[0m\u001b[1;33m(\u001b[0m\u001b[0mpositions\u001b[0m\u001b[1;33m.\u001b[0m\u001b[0mROI\u001b[0m\u001b[1;33m.\u001b[0m\u001b[0msum\u001b[0m\u001b[1;33m(\u001b[0m\u001b[1;33m)\u001b[0m\u001b[1;33m)\u001b[0m\u001b[1;33m\u001b[0m\u001b[0m\n\u001b[1;32m---> 10\u001b[1;33m \u001b[0mprint\u001b[0m\u001b[1;33m(\u001b[0m\u001b[0mpositions\u001b[0m\u001b[1;33m.\u001b[0m\u001b[0mProfit\u001b[0m\u001b[1;33m.\u001b[0m\u001b[0msum\u001b[0m\u001b[1;33m(\u001b[0m\u001b[1;33m)\u001b[0m\u001b[1;33m)\u001b[0m\u001b[1;33m\u001b[0m\u001b[0m\n\u001b[0m\u001b[0;32m     11\u001b[0m \u001b[0mprint\u001b[0m\u001b[1;33m(\u001b[0m\u001b[0mpositions\u001b[0m\u001b[1;33m.\u001b[0m\u001b[0mProfit\u001b[0m\u001b[1;33m)\u001b[0m\u001b[1;33m\u001b[0m\u001b[0m\n\u001b[0;32m     12\u001b[0m \u001b[1;33m\u001b[0m\u001b[0m\n",
      "\u001b[1;32mC:\\ProgramData\\Anaconda3\\envs\\py35\\lib\\site-packages\\pandas\\core\\generic.py\u001b[0m in \u001b[0;36m__getattr__\u001b[1;34m(self, name)\u001b[0m\n\u001b[0;32m   4370\u001b[0m             \u001b[1;32mif\u001b[0m \u001b[0mself\u001b[0m\u001b[1;33m.\u001b[0m\u001b[0m_info_axis\u001b[0m\u001b[1;33m.\u001b[0m\u001b[0m_can_hold_identifiers_and_holds_name\u001b[0m\u001b[1;33m(\u001b[0m\u001b[0mname\u001b[0m\u001b[1;33m)\u001b[0m\u001b[1;33m:\u001b[0m\u001b[1;33m\u001b[0m\u001b[0m\n\u001b[0;32m   4371\u001b[0m                 \u001b[1;32mreturn\u001b[0m \u001b[0mself\u001b[0m\u001b[1;33m[\u001b[0m\u001b[0mname\u001b[0m\u001b[1;33m]\u001b[0m\u001b[1;33m\u001b[0m\u001b[0m\n\u001b[1;32m-> 4372\u001b[1;33m             \u001b[1;32mreturn\u001b[0m \u001b[0mobject\u001b[0m\u001b[1;33m.\u001b[0m\u001b[0m__getattribute__\u001b[0m\u001b[1;33m(\u001b[0m\u001b[0mself\u001b[0m\u001b[1;33m,\u001b[0m \u001b[0mname\u001b[0m\u001b[1;33m)\u001b[0m\u001b[1;33m\u001b[0m\u001b[0m\n\u001b[0m\u001b[0;32m   4373\u001b[0m \u001b[1;33m\u001b[0m\u001b[0m\n\u001b[0;32m   4374\u001b[0m     \u001b[1;32mdef\u001b[0m \u001b[0m__setattr__\u001b[0m\u001b[1;33m(\u001b[0m\u001b[0mself\u001b[0m\u001b[1;33m,\u001b[0m \u001b[0mname\u001b[0m\u001b[1;33m,\u001b[0m \u001b[0mvalue\u001b[0m\u001b[1;33m)\u001b[0m\u001b[1;33m:\u001b[0m\u001b[1;33m\u001b[0m\u001b[0m\n",
      "\u001b[1;31mAttributeError\u001b[0m: 'DataFrame' object has no attribute 'Profit'"
     ]
    }
   ],
   "source": [
    "import matplotlib\n",
    "import matplotlib.pyplot as plt\n",
    "import datetime as dt\n",
    "\n",
    "\n",
    "import pandas as pd\n",
    "\n",
    "print(positions.GROI.sum())\n",
    "print(positions.ROI.sum())\n",
    "print(positions.Profit.sum())\n",
    "print(positions.Profit)\n",
    "\n",
    "tgroi = positions['GROI'].sum()\n",
    "troi = positions['ROI'].sum()\n",
    "tprofit = positions['Profit'].sum()\n",
    "mspread = positions['Spread'].mean()\n",
    "emspread = positions['E_spread'].mean()\n",
    "SIs = positions.agg({'GROI': lambda x: 100*np.sum(x>0)/len(x),\n",
    "                      'ROI': lambda x: 100*np.sum(x>0)/len(x)})\n",
    "av_win = sum(positions[positions['GROI']>0]['GROI'])/len(positions[positions['GROI']>0]['GROI'])\n",
    "av_lose = sum(positions[positions['GROI']<0]['GROI'])/len(positions[positions['GROI']<0]['GROI'])\n",
    "per_under_2p = 100*positions[positions['Spread']<0.02].shape[0]/pos_format.shape[0]\n",
    "\n",
    "print(\"Total GROI = {0:.2f}% \".format(tgroi)+\"Total ROI = {0:.2f}% \".format(troi)+\"total profit = {0:.2f}e \".format(tprofit)+\"mean spread = {0:.2f} pips \".format(100*mspread)+\n",
    "      \"expected mean spread = {0:.2f} pips \".format(100*emspread))\n",
    "print(\"Number entries \"+str(positions.shape[0])+\" GSP = {0:.2f}% \".format(SIs['GROI'])+\" NSP = {0:.2f}% \".format(SIs['ROI'])+\" av win = {0:.3f}% \".format(av_win)+\" av lose = {0:.3f}% \".format(av_lose))\n",
    "print(\"Percent below 2p {0:.2f}%\".format(per_under_2p))\n",
    "#print(pd.DataFrame(prob_rois))\n",
    "grouped = positions.groupby(['Asset'])\n",
    "#print(grouped.get_group(('GBPJPY',1)).to_string())\n",
    "#grouped.aggregate(np.sum)\n",
    "#grouped['groi'].describe()\n",
    "#grouped.get_group('GBPJPY')\n",
    "SI = grouped.agg({'GROI': lambda x: np.sum(x>0)/len(x),\n",
    "             'ROI': lambda x: np.sum(x>0)/len(x)})#.rename(['GSI','NSI'])\n",
    "grouped.agg({'E_spread': lambda x: 100*np.sum(x<0.02)/len(x)})\n",
    "#print(SI)\n",
    "#print(grouped.describe())\n",
    "#for name, group in grouped:\n",
    "    #print(name)\n",
    "#    print(group.to_string())\n",
    "\n",
    "plt.figure(0)\n",
    "bins = [i/100 for i in range(-200,200,2)]\n",
    "histG = plt.hist(positions['GROI'], bins=bins)\n",
    "histR = plt.hist(positions['ROI'], bins=bins)\n",
    "plt.grid()\n",
    "\n",
    "#pos_under_thr.index = range(pos_under_thr.shape[0])\n",
    "plt.figure(1)\n",
    "plt.plot(range(positions.shape[0]),positions['GROI'].cumsum())\n",
    "plt.plot(range(positions.shape[0]),positions['ROI'].cumsum())\n",
    "plt.grid()\n",
    "\n",
    "list_dates = [dt.datetime.strptime(date, '%Y.%m.%d %H:%M:%S') for date in positions['Entry Time']]\n",
    "dates = matplotlib.dates.date2num(list_dates)\n",
    "plt.figure(2)\n",
    "plt.plot_date(list_dates, positions['GROI'].cumsum(),fmt='-')\n",
    "plt.plot_date(list_dates, positions['ROI'].cumsum(),fmt='-')\n",
    "plt.gcf().autofmt_xdate()\n",
    "plt.grid()"
   ]
  },
  {
   "cell_type": "markdown",
   "metadata": {},
   "source": [
    "## Build Stats File and Plot Positions"
   ]
  },
  {
   "cell_type": "code",
   "execution_count": 117,
   "metadata": {},
   "outputs": [
    {
     "name": "stderr",
     "output_type": "stream",
     "text": [
      "C:\\ProgramData\\Anaconda3\\envs\\py35\\lib\\site-packages\\pandas\\core\\indexing.py:189: SettingWithCopyWarning: \n",
      "A value is trying to be set on a copy of a slice from a DataFrame\n",
      "\n",
      "See the caveats in the documentation: http://pandas.pydata.org/pandas-docs/stable/indexing.html#indexing-view-versus-copy\n",
      "  self._setitem_with_indexer(indexer, value)\n"
     ]
    },
    {
     "ename": "KeyboardInterrupt",
     "evalue": "",
     "output_type": "error",
     "traceback": [
      "\u001b[1;31m---------------------------------------------------------------------------\u001b[0m",
      "\u001b[1;31mKeyboardInterrupt\u001b[0m                         Traceback (most recent call last)",
      "\u001b[1;32m<ipython-input-117-cd8e3cad413f>\u001b[0m in \u001b[0;36m<module>\u001b[1;34m()\u001b[0m\n\u001b[0;32m     11\u001b[0m     \u001b[0mpos_format\u001b[0m\u001b[1;33m[\u001b[0m\u001b[1;34m'groi'\u001b[0m\u001b[1;33m]\u001b[0m\u001b[1;33m.\u001b[0m\u001b[0miloc\u001b[0m\u001b[1;33m[\u001b[0m\u001b[0mp\u001b[0m\u001b[1;33m]\u001b[0m \u001b[1;33m=\u001b[0m \u001b[0mpositions\u001b[0m\u001b[1;33m[\u001b[0m\u001b[1;34m'GROI'\u001b[0m\u001b[1;33m]\u001b[0m\u001b[1;33m.\u001b[0m\u001b[0miloc\u001b[0m\u001b[1;33m[\u001b[0m\u001b[0mp\u001b[0m\u001b[1;33m]\u001b[0m\u001b[1;33m\u001b[0m\u001b[0m\n\u001b[0;32m     12\u001b[0m     \u001b[0mpos_format\u001b[0m\u001b[1;33m[\u001b[0m\u001b[1;34m'roi'\u001b[0m\u001b[1;33m]\u001b[0m\u001b[1;33m.\u001b[0m\u001b[0miloc\u001b[0m\u001b[1;33m[\u001b[0m\u001b[0mp\u001b[0m\u001b[1;33m]\u001b[0m \u001b[1;33m=\u001b[0m \u001b[0mpositions\u001b[0m\u001b[1;33m[\u001b[0m\u001b[1;34m'ROI'\u001b[0m\u001b[1;33m]\u001b[0m\u001b[1;33m.\u001b[0m\u001b[0miloc\u001b[0m\u001b[1;33m[\u001b[0m\u001b[0mp\u001b[0m\u001b[1;33m]\u001b[0m\u001b[1;33m\u001b[0m\u001b[0m\n\u001b[1;32m---> 13\u001b[1;33m     \u001b[0mpos_format\u001b[0m\u001b[1;33m[\u001b[0m\u001b[1;34m'e_spread'\u001b[0m\u001b[1;33m]\u001b[0m\u001b[1;33m.\u001b[0m\u001b[0miloc\u001b[0m\u001b[1;33m[\u001b[0m\u001b[0mp\u001b[0m\u001b[1;33m]\u001b[0m \u001b[1;33m=\u001b[0m \u001b[0mpositions\u001b[0m\u001b[1;33m[\u001b[0m\u001b[1;34m'E_spread'\u001b[0m\u001b[1;33m]\u001b[0m\u001b[1;33m.\u001b[0m\u001b[0miloc\u001b[0m\u001b[1;33m[\u001b[0m\u001b[0mp\u001b[0m\u001b[1;33m]\u001b[0m\u001b[1;33m\u001b[0m\u001b[0m\n\u001b[0m\u001b[0;32m     14\u001b[0m     \u001b[0mpos_format\u001b[0m\u001b[1;33m[\u001b[0m\u001b[1;34m'spread'\u001b[0m\u001b[1;33m]\u001b[0m\u001b[1;33m.\u001b[0m\u001b[0miloc\u001b[0m\u001b[1;33m[\u001b[0m\u001b[0mp\u001b[0m\u001b[1;33m]\u001b[0m \u001b[1;33m=\u001b[0m \u001b[0mpositions\u001b[0m\u001b[1;33m[\u001b[0m\u001b[1;34m'Spread'\u001b[0m\u001b[1;33m]\u001b[0m\u001b[1;33m.\u001b[0m\u001b[0miloc\u001b[0m\u001b[1;33m[\u001b[0m\u001b[0mp\u001b[0m\u001b[1;33m]\u001b[0m\u001b[1;33m\u001b[0m\u001b[0m\n\u001b[0;32m     15\u001b[0m     \u001b[0mpos_format\u001b[0m\u001b[1;33m[\u001b[0m\u001b[1;34m'profit'\u001b[0m\u001b[1;33m]\u001b[0m\u001b[1;33m.\u001b[0m\u001b[0miloc\u001b[0m\u001b[1;33m[\u001b[0m\u001b[0mp\u001b[0m\u001b[1;33m]\u001b[0m \u001b[1;33m=\u001b[0m \u001b[0mpositions\u001b[0m\u001b[1;33m[\u001b[0m\u001b[1;34m'Profit'\u001b[0m\u001b[1;33m]\u001b[0m\u001b[1;33m.\u001b[0m\u001b[0miloc\u001b[0m\u001b[1;33m[\u001b[0m\u001b[0mp\u001b[0m\u001b[1;33m]\u001b[0m\u001b[1;33m\u001b[0m\u001b[0m\n",
      "\u001b[1;32mC:\\ProgramData\\Anaconda3\\envs\\py35\\lib\\site-packages\\pandas\\core\\indexing.py\u001b[0m in \u001b[0;36m__setitem__\u001b[1;34m(self, key, value)\u001b[0m\n\u001b[0;32m    187\u001b[0m             \u001b[0mkey\u001b[0m \u001b[1;33m=\u001b[0m \u001b[0mcom\u001b[0m\u001b[1;33m.\u001b[0m\u001b[0m_apply_if_callable\u001b[0m\u001b[1;33m(\u001b[0m\u001b[0mkey\u001b[0m\u001b[1;33m,\u001b[0m \u001b[0mself\u001b[0m\u001b[1;33m.\u001b[0m\u001b[0mobj\u001b[0m\u001b[1;33m)\u001b[0m\u001b[1;33m\u001b[0m\u001b[0m\n\u001b[0;32m    188\u001b[0m         \u001b[0mindexer\u001b[0m \u001b[1;33m=\u001b[0m \u001b[0mself\u001b[0m\u001b[1;33m.\u001b[0m\u001b[0m_get_setitem_indexer\u001b[0m\u001b[1;33m(\u001b[0m\u001b[0mkey\u001b[0m\u001b[1;33m)\u001b[0m\u001b[1;33m\u001b[0m\u001b[0m\n\u001b[1;32m--> 189\u001b[1;33m         \u001b[0mself\u001b[0m\u001b[1;33m.\u001b[0m\u001b[0m_setitem_with_indexer\u001b[0m\u001b[1;33m(\u001b[0m\u001b[0mindexer\u001b[0m\u001b[1;33m,\u001b[0m \u001b[0mvalue\u001b[0m\u001b[1;33m)\u001b[0m\u001b[1;33m\u001b[0m\u001b[0m\n\u001b[0m\u001b[0;32m    190\u001b[0m \u001b[1;33m\u001b[0m\u001b[0m\n\u001b[0;32m    191\u001b[0m     \u001b[1;32mdef\u001b[0m \u001b[0m_validate_key\u001b[0m\u001b[1;33m(\u001b[0m\u001b[0mself\u001b[0m\u001b[1;33m,\u001b[0m \u001b[0mkey\u001b[0m\u001b[1;33m,\u001b[0m \u001b[0maxis\u001b[0m\u001b[1;33m)\u001b[0m\u001b[1;33m:\u001b[0m\u001b[1;33m\u001b[0m\u001b[0m\n",
      "\u001b[1;32mC:\\ProgramData\\Anaconda3\\envs\\py35\\lib\\site-packages\\pandas\\core\\indexing.py\u001b[0m in \u001b[0;36m_setitem_with_indexer\u001b[1;34m(self, indexer, value)\u001b[0m\n\u001b[0;32m    644\u001b[0m \u001b[1;33m\u001b[0m\u001b[0m\n\u001b[0;32m    645\u001b[0m             \u001b[1;31m# check for chained assignment\u001b[0m\u001b[1;33m\u001b[0m\u001b[1;33m\u001b[0m\u001b[0m\n\u001b[1;32m--> 646\u001b[1;33m             \u001b[0mself\u001b[0m\u001b[1;33m.\u001b[0m\u001b[0mobj\u001b[0m\u001b[1;33m.\u001b[0m\u001b[0m_check_is_chained_assignment_possible\u001b[0m\u001b[1;33m(\u001b[0m\u001b[1;33m)\u001b[0m\u001b[1;33m\u001b[0m\u001b[0m\n\u001b[0m\u001b[0;32m    647\u001b[0m \u001b[1;33m\u001b[0m\u001b[0m\n\u001b[0;32m    648\u001b[0m             \u001b[1;31m# actually do the set\u001b[0m\u001b[1;33m\u001b[0m\u001b[1;33m\u001b[0m\u001b[0m\n",
      "\u001b[1;32mC:\\ProgramData\\Anaconda3\\envs\\py35\\lib\\site-packages\\pandas\\core\\generic.py\u001b[0m in \u001b[0;36m_check_is_chained_assignment_possible\u001b[1;34m(self)\u001b[0m\n\u001b[0;32m   2622\u001b[0m             \u001b[1;32mif\u001b[0m \u001b[0mref\u001b[0m \u001b[1;32mis\u001b[0m \u001b[1;32mnot\u001b[0m \u001b[1;32mNone\u001b[0m \u001b[1;32mand\u001b[0m \u001b[0mref\u001b[0m\u001b[1;33m.\u001b[0m\u001b[0m_is_mixed_type\u001b[0m\u001b[1;33m:\u001b[0m\u001b[1;33m\u001b[0m\u001b[0m\n\u001b[0;32m   2623\u001b[0m                 self._check_setitem_copy(stacklevel=4, t='referant',\n\u001b[1;32m-> 2624\u001b[1;33m                                          force=True)\n\u001b[0m\u001b[0;32m   2625\u001b[0m             \u001b[1;32mreturn\u001b[0m \u001b[1;32mTrue\u001b[0m\u001b[1;33m\u001b[0m\u001b[0m\n\u001b[0;32m   2626\u001b[0m         \u001b[1;32melif\u001b[0m \u001b[0mself\u001b[0m\u001b[1;33m.\u001b[0m\u001b[0m_is_copy\u001b[0m\u001b[1;33m:\u001b[0m\u001b[1;33m\u001b[0m\u001b[0m\n",
      "\u001b[1;32mC:\\ProgramData\\Anaconda3\\envs\\py35\\lib\\site-packages\\pandas\\core\\generic.py\u001b[0m in \u001b[0;36m_check_setitem_copy\u001b[1;34m(self, stacklevel, t, force)\u001b[0m\n\u001b[0;32m   2669\u001b[0m             \u001b[1;32mtry\u001b[0m\u001b[1;33m:\u001b[0m\u001b[1;33m\u001b[0m\u001b[0m\n\u001b[0;32m   2670\u001b[0m                 \u001b[0mgc\u001b[0m\u001b[1;33m.\u001b[0m\u001b[0mcollect\u001b[0m\u001b[1;33m(\u001b[0m\u001b[1;36m2\u001b[0m\u001b[1;33m)\u001b[0m\u001b[1;33m\u001b[0m\u001b[0m\n\u001b[1;32m-> 2671\u001b[1;33m                 \u001b[1;32mif\u001b[0m \u001b[1;32mnot\u001b[0m \u001b[0mgc\u001b[0m\u001b[1;33m.\u001b[0m\u001b[0mget_referents\u001b[0m\u001b[1;33m(\u001b[0m\u001b[0mself\u001b[0m\u001b[1;33m.\u001b[0m\u001b[0m_is_copy\u001b[0m\u001b[1;33m(\u001b[0m\u001b[1;33m)\u001b[0m\u001b[1;33m)\u001b[0m\u001b[1;33m:\u001b[0m\u001b[1;33m\u001b[0m\u001b[0m\n\u001b[0m\u001b[0;32m   2672\u001b[0m                     \u001b[0mself\u001b[0m\u001b[1;33m.\u001b[0m\u001b[0m_is_copy\u001b[0m \u001b[1;33m=\u001b[0m \u001b[1;32mNone\u001b[0m\u001b[1;33m\u001b[0m\u001b[0m\n\u001b[0;32m   2673\u001b[0m                     \u001b[1;32mreturn\u001b[0m\u001b[1;33m\u001b[0m\u001b[0m\n",
      "\u001b[1;31mKeyboardInterrupt\u001b[0m: "
     ]
    }
   ],
   "source": [
    "columns = ['asset','Di','Ti','Do','To','direction','groi','roi','profit','e_spread','spread','max','min','argmax','argmin','samples','extensions','stoploss','file']\n",
    "pos_format = pd.DataFrame(data=0,columns=columns,index=range(positions.shape[0]))\n",
    "plt_index = 0\n",
    "for p in range(positions.shape[0]):\n",
    "    #print(positions.iloc[p])\n",
    "    pos_format['asset'].iloc[p] = positions['Asset'].iloc[p]\n",
    "    pos_format['Di'].iloc[p] = positions['Entry Time'].iloc[p][:10]\n",
    "    pos_format['Ti'].iloc[p] = positions['Entry Time'].iloc[p][11:]\n",
    "    pos_format['Do'].iloc[p] = positions['Exit Time'].iloc[p][:10]\n",
    "    pos_format['To'].iloc[p] = positions['Exit Time'].iloc[p][11:]\n",
    "    pos_format['groi'].iloc[p] = positions['GROI'].iloc[p]\n",
    "    pos_format['roi'].iloc[p] = positions['ROI'].iloc[p]\n",
    "    pos_format['e_spread'].iloc[p] = positions['E_spread'].iloc[p]\n",
    "    pos_format['spread'].iloc[p] = positions['Spread'].iloc[p]\n",
    "    pos_format['profit'].iloc[p] = positions['Profit'].iloc[p]\n",
    "    pos_format['stoploss'].iloc[p] = positions['stoploss'].iloc[p]\n",
    "    direction = positions['Position'].iloc[p]\n",
    "    pos_format['direction'].iloc[p] = direction\n",
    "    filename_pos = get_positions_filename(positions['Asset'].iloc[p], positions['Entry Time'].iloc[p], positions['Exit Time'].iloc[p])\n",
    "    pos_format['file'].iloc[p] = filename_pos\n",
    "    pos_ev = pd.read_csv(positions_dir+filename_pos+'.txt', sep=',')\n",
    "    pos_track = pickle.load( open( positions_dir+filename_pos+\".p\", \"rb\" ))\n",
    "    pos_format['extensions'].iloc[p] = pos_track['n_ext']\n",
    "    pos_format['samples'].iloc[p] = pos_ev.shape[0]\n",
    "    #print(pos_ev.columns)\n",
    "    maxBid = pos_ev['SymbolBid'].max()\n",
    "    minBid = pos_ev['SymbolBid'].min()\n",
    "    maxAsk = pos_ev['SymbolAsk'].max()\n",
    "    minAsk = pos_ev['SymbolAsk'].min()\n",
    "    Bi = positions['Bi'].iloc[p]\n",
    "    Ai = positions['Ai'].iloc[p]\n",
    "    #if direction>0:\n",
    "    #        GROI_live = roi_ratio*(Ao-Ai)/Ai\n",
    "    #        spread = (Ao-Bo)/Ai\n",
    "    #        \n",
    "    #    else:\n",
    "    #        GROI_live = roi_ratio*(Bi-Bo)/Ao\n",
    "    if direction>0:\n",
    "        pos_format['max'].iloc[p] = 100*(maxAsk-positions['Ai'].iloc[p])/positions['Ai'].iloc[p]\n",
    "        pos_format['min'].iloc[p] = 100*(minAsk-positions['Ai'].iloc[p])/positions['Ai'].iloc[p]\n",
    "        pos_format['argmax'].iloc[p] = pos_ev['SymbolAsk'].idxmax()\n",
    "        pos_format['argmin'].iloc[p] = pos_ev['SymbolAsk'].idxmin()\n",
    "        groi_ev = 100*(pos_ev['SymbolAsk'].iloc[:]-positions['Ai'].iloc[p])/positions['Ai'].iloc[p]\n",
    "        label = 'long'\n",
    "    else:\n",
    "        pos_format['max'].iloc[p] = 100*(positions['Bi'].iloc[p]-minBid)/maxAsk\n",
    "        pos_format['min'].iloc[p] = 100*(positions['Bi'].iloc[p]-maxBid)/maxAsk\n",
    "        pos_format['argmax'].iloc[p] = pos_ev['SymbolBid'].idxmax()\n",
    "        pos_format['argmin'].iloc[p] = pos_ev['SymbolBid'].idxmin()\n",
    "        groi_ev = 100*(positions['Bi'].iloc[p]-pos_ev['SymbolBid'].iloc[:])/pos_ev['SymbolAsk'].iloc[:]\n",
    "        label = 'short'\n",
    "    if positions['GROI'].iloc[p]>0:\n",
    "        color = 'green'\n",
    "    else:\n",
    "        color = 'red'\n",
    "    #plt.figure(plt_index)\n",
    "    #plt.plot(groi_ev, color=color, label=label)\n",
    "    #for e in range(pos_track['n_ext']):\n",
    "    #    plt.plot([pos_track['@tick#'][e+1] for i in range(2)],[pos_format['min'].iloc[p], pos_format['max'].iloc[p]])\n",
    "    #plt.legend()\n",
    "    #plt.title(filename_pos)\n",
    "    plt_index += 1\n",
    "print(pos_format.to_string())\n",
    "pos_format.to_csv(positions_dir+'stats.csv', index=False, sep='\\t', float_format='%.5f')\n",
    "print(\"Positions summary saved\")"
   ]
  },
  {
   "cell_type": "markdown",
   "metadata": {},
   "source": [
    "## Get Summary from Position Stats"
   ]
  },
  {
   "cell_type": "code",
   "execution_count": 17,
   "metadata": {},
   "outputs": [
    {
     "name": "stdout",
     "output_type": "stream",
     "text": [
      "Total GROI = 3.20% Total ROI = 0.67% total profit = 67.35e mean spread = 1.89 pips expected mean spread = 1.85 pips \n",
      "Number entries 134 GSP = 58.96%  NSP = 50.75%  av win = 0.130%  av lose = -0.129% \n",
      "Percent below 2p 76.87%\n"
     ]
    },
    {
     "data": {
      "text/html": [
       "<div>\n",
       "<style scoped>\n",
       "    .dataframe tbody tr th:only-of-type {\n",
       "        vertical-align: middle;\n",
       "    }\n",
       "\n",
       "    .dataframe tbody tr th {\n",
       "        vertical-align: top;\n",
       "    }\n",
       "\n",
       "    .dataframe thead th {\n",
       "        text-align: right;\n",
       "    }\n",
       "</style>\n",
       "<table border=\"1\" class=\"dataframe\">\n",
       "  <thead>\n",
       "    <tr style=\"text-align: right;\">\n",
       "      <th></th>\n",
       "      <th>e_spread</th>\n",
       "    </tr>\n",
       "    <tr>\n",
       "      <th>asset</th>\n",
       "      <th></th>\n",
       "    </tr>\n",
       "  </thead>\n",
       "  <tbody>\n",
       "    <tr>\n",
       "      <th>AUDCAD</th>\n",
       "      <td>0.000000</td>\n",
       "    </tr>\n",
       "    <tr>\n",
       "      <th>AUDJPY</th>\n",
       "      <td>0.000000</td>\n",
       "    </tr>\n",
       "    <tr>\n",
       "      <th>CHFJPY</th>\n",
       "      <td>0.000000</td>\n",
       "    </tr>\n",
       "    <tr>\n",
       "      <th>EURAUD</th>\n",
       "      <td>66.666667</td>\n",
       "    </tr>\n",
       "    <tr>\n",
       "      <th>EURCAD</th>\n",
       "      <td>25.000000</td>\n",
       "    </tr>\n",
       "    <tr>\n",
       "      <th>EURCHF</th>\n",
       "      <td>44.444444</td>\n",
       "    </tr>\n",
       "    <tr>\n",
       "      <th>EURGBP</th>\n",
       "      <td>91.666667</td>\n",
       "    </tr>\n",
       "    <tr>\n",
       "      <th>EURJPY</th>\n",
       "      <td>100.000000</td>\n",
       "    </tr>\n",
       "    <tr>\n",
       "      <th>EURUSD</th>\n",
       "      <td>100.000000</td>\n",
       "    </tr>\n",
       "    <tr>\n",
       "      <th>GBPAUD</th>\n",
       "      <td>0.000000</td>\n",
       "    </tr>\n",
       "    <tr>\n",
       "      <th>GBPCAD</th>\n",
       "      <td>66.666667</td>\n",
       "    </tr>\n",
       "    <tr>\n",
       "      <th>GBPJPY</th>\n",
       "      <td>100.000000</td>\n",
       "    </tr>\n",
       "    <tr>\n",
       "      <th>GBPUSD</th>\n",
       "      <td>100.000000</td>\n",
       "    </tr>\n",
       "    <tr>\n",
       "      <th>USDCAD</th>\n",
       "      <td>87.500000</td>\n",
       "    </tr>\n",
       "    <tr>\n",
       "      <th>USDCHF</th>\n",
       "      <td>72.727273</td>\n",
       "    </tr>\n",
       "    <tr>\n",
       "      <th>USDJPY</th>\n",
       "      <td>100.000000</td>\n",
       "    </tr>\n",
       "  </tbody>\n",
       "</table>\n",
       "</div>"
      ],
      "text/plain": [
       "          e_spread\n",
       "asset             \n",
       "AUDCAD    0.000000\n",
       "AUDJPY    0.000000\n",
       "CHFJPY    0.000000\n",
       "EURAUD   66.666667\n",
       "EURCAD   25.000000\n",
       "EURCHF   44.444444\n",
       "EURGBP   91.666667\n",
       "EURJPY  100.000000\n",
       "EURUSD  100.000000\n",
       "GBPAUD    0.000000\n",
       "GBPCAD   66.666667\n",
       "GBPJPY  100.000000\n",
       "GBPUSD  100.000000\n",
       "USDCAD   87.500000\n",
       "USDCHF   72.727273\n",
       "USDJPY  100.000000"
      ]
     },
     "execution_count": 17,
     "metadata": {},
     "output_type": "execute_result"
    }
   ],
   "source": [
    "tgroi = pos_format['groi'].sum()\n",
    "troi = pos_format['roi'].sum()\n",
    "tprofit = pos_format['profit'].sum()\n",
    "mspread = pos_format['spread'].mean()\n",
    "emspread = pos_format['e_spread'].mean()\n",
    "SIs = pos_format.agg({'groi': lambda x: 100*np.sum(x>0)/len(x),\n",
    "                      'roi': lambda x: 100*np.sum(x>0)/len(x)})\n",
    "av_win = sum(pos_format[pos_format['groi']>0]['groi'])/len(pos_format[pos_format['groi']>0]['groi'])\n",
    "av_lose = sum(pos_format[pos_format['groi']<0]['groi'])/len(pos_format[pos_format['groi']<0]['groi'])\n",
    "per_under_2p = 100*pos_format[pos_format['e_spread']<0.02].shape[0]/pos_format.shape[0]\n",
    "\n",
    "print(\"Total GROI = {0:.2f}% \".format(tgroi)+\"Total ROI = {0:.2f}% \".format(troi)+\"total profit = {0:.2f}e \".format(tprofit)+\"mean spread = {0:.2f} pips \".format(100*mspread)+\n",
    "      \"expected mean spread = {0:.2f} pips \".format(100*emspread))\n",
    "print(\"Number entries \"+str(pos_format.shape[0])+\" GSP = {0:.2f}% \".format(SIs['groi'])+\" NSP = {0:.2f}% \".format(SIs['roi'])+\" av win = {0:.3f}% \".format(av_win)+\" av lose = {0:.3f}% \".format(av_lose))\n",
    "print(\"Percent below 2p {0:.2f}%\".format(per_under_2p))\n",
    "#print(pd.DataFrame(prob_rois))\n",
    "grouped = pos_format.groupby(['asset'])\n",
    "#print(grouped.get_group(('GBPJPY',1)).to_string())\n",
    "#grouped.aggregate(np.sum)\n",
    "#grouped['groi'].describe()\n",
    "#grouped.get_group('GBPJPY')\n",
    "SI = grouped.agg({'groi': lambda x: np.sum(x>0)/len(x),\n",
    "             'roi': lambda x: np.sum(x>0)/len(x)})#.rename(['GSI','NSI'])\n",
    "grouped.agg({'e_spread': lambda x: 100*np.sum(x<0.02)/len(x)})\n",
    "#print(SI)\n",
    "#print(grouped.describe())\n",
    "#for name, group in grouped:\n",
    "    #print(name)\n",
    "#    print(group.to_string())"
   ]
  },
  {
   "cell_type": "markdown",
   "metadata": {},
   "source": [
    "## Run KaissandOnline"
   ]
  },
  {
   "cell_type": "code",
   "execution_count": 156,
   "metadata": {},
   "outputs": [
    {
     "name": "stdout",
     "output_type": "stream",
     "text": [
      "Config file ../../config/T0004.config loaded from disk\n",
      "Config file ../../config/T0005.config loaded from disk\n",
      "Config file ../../config/T0006.config loaded from disk\n",
      "Config file ../../config/T0007.config loaded from disk\n",
      "Config file ../../config/T0008.config loaded from disk\n",
      "../../RNN/IOlive/AUDCAD/ Directiory renewed\n",
      "C:/Users/mgutierrez/AppData/Roaming/MetaQuotes/Terminal/D0E8209F77C8CF37AD8BF550E51FF075/MQL5/Files/IOlive/AUDCAD/ Directiory created\n",
      "../../RNN/IOlive/AUDCAD/ Directiory created\n",
      "../../RNN/IOlive/EURAUD/ Directiory renewed\n",
      "C:/Users/mgutierrez/AppData/Roaming/MetaQuotes/Terminal/D0E8209F77C8CF37AD8BF550E51FF075/MQL5/Files/IOlive/EURAUD/ Directiory created\n",
      "../../RNN/IOlive/EURAUD/ Directiory created\n",
      "../../RNN/IOlive/EURCAD/ Directiory renewed\n",
      "C:/Users/mgutierrez/AppData/Roaming/MetaQuotes/Terminal/D0E8209F77C8CF37AD8BF550E51FF075/MQL5/Files/IOlive/EURCAD/ Directiory created\n",
      "../../RNN/IOlive/EURCAD/ Directiory created\n",
      "../../RNN/IOlive/EURCHF/ Directiory renewed\n",
      "C:/Users/mgutierrez/AppData/Roaming/MetaQuotes/Terminal/D0E8209F77C8CF37AD8BF550E51FF075/MQL5/Files/IOlive/EURCHF/ Directiory created\n",
      "../../RNN/IOlive/EURCHF/ Directiory created\n",
      "../../RNN/IOlive/EURGBP/ Directiory renewed\n",
      "C:/Users/mgutierrez/AppData/Roaming/MetaQuotes/Terminal/D0E8209F77C8CF37AD8BF550E51FF075/MQL5/Files/IOlive/EURGBP/ Directiory created\n",
      "../../RNN/IOlive/EURGBP/ Directiory created\n",
      "../../RNN/IOlive/EURNZD/ Directiory renewed\n",
      "C:/Users/mgutierrez/AppData/Roaming/MetaQuotes/Terminal/D0E8209F77C8CF37AD8BF550E51FF075/MQL5/Files/IOlive/EURNZD/ Directiory created\n",
      "../../RNN/IOlive/EURNZD/ Directiory created\n",
      "../../RNN/IOlive/EURUSD/ Directiory renewed\n",
      "C:/Users/mgutierrez/AppData/Roaming/MetaQuotes/Terminal/D0E8209F77C8CF37AD8BF550E51FF075/MQL5/Files/IOlive/EURUSD/ Directiory created\n",
      "../../RNN/IOlive/EURUSD/ Directiory created\n",
      "../../RNN/IOlive/GBPAUD/ Directiory renewed\n",
      "C:/Users/mgutierrez/AppData/Roaming/MetaQuotes/Terminal/D0E8209F77C8CF37AD8BF550E51FF075/MQL5/Files/IOlive/GBPAUD/ Directiory created\n",
      "../../RNN/IOlive/GBPAUD/ Directiory created\n",
      "../../RNN/IOlive/GBPCAD/ Directiory renewed\n",
      "C:/Users/mgutierrez/AppData/Roaming/MetaQuotes/Terminal/D0E8209F77C8CF37AD8BF550E51FF075/MQL5/Files/IOlive/GBPCAD/ Directiory created\n",
      "../../RNN/IOlive/GBPCAD/ Directiory created\n",
      "../../RNN/IOlive/GBPCHF/ Directiory renewed\n",
      "C:/Users/mgutierrez/AppData/Roaming/MetaQuotes/Terminal/D0E8209F77C8CF37AD8BF550E51FF075/MQL5/Files/IOlive/GBPCHF/ Directiory created\n",
      "../../RNN/IOlive/GBPCHF/ Directiory created\n",
      "../../RNN/IOlive/GBPUSD/ Directiory renewed\n",
      "C:/Users/mgutierrez/AppData/Roaming/MetaQuotes/Terminal/D0E8209F77C8CF37AD8BF550E51FF075/MQL5/Files/IOlive/GBPUSD/ Directiory created\n",
      "../../RNN/IOlive/GBPUSD/ Directiory created\n",
      "../../RNN/IOlive/USDCAD/ Directiory renewed\n",
      "C:/Users/mgutierrez/AppData/Roaming/MetaQuotes/Terminal/D0E8209F77C8CF37AD8BF550E51FF075/MQL5/Files/IOlive/USDCAD/ Directiory created\n",
      "../../RNN/IOlive/USDCAD/ Directiory created\n",
      "../../RNN/IOlive/USDCHF/ Directiory renewed\n",
      "C:/Users/mgutierrez/AppData/Roaming/MetaQuotes/Terminal/D0E8209F77C8CF37AD8BF550E51FF075/MQL5/Files/IOlive/USDCHF/ Directiory created\n",
      "../../RNN/IOlive/USDCHF/ Directiory created\n",
      "../../RNN/IOlive/USDJPY/ Directiory renewed\n",
      "C:/Users/mgutierrez/AppData/Roaming/MetaQuotes/Terminal/D0E8209F77C8CF37AD8BF550E51FF075/MQL5/Files/IOlive/USDJPY/ Directiory created\n",
      "../../RNN/IOlive/USDJPY/ Directiory created\n",
      "../../RNN/IOlive/CADJPY/ Directiory renewed\n",
      "C:/Users/mgutierrez/AppData/Roaming/MetaQuotes/Terminal/D0E8209F77C8CF37AD8BF550E51FF075/MQL5/Files/IOlive/CADJPY/ Directiory created\n",
      "../../RNN/IOlive/CADJPY/ Directiory created\n",
      "../../RNN/IOlive/EURJPY/ Directiory renewed\n",
      "C:/Users/mgutierrez/AppData/Roaming/MetaQuotes/Terminal/D0E8209F77C8CF37AD8BF550E51FF075/MQL5/Files/IOlive/EURJPY/ Directiory created\n",
      "../../RNN/IOlive/EURJPY/ Directiory created\n",
      "../../RNN/IOlive/AUDJPY/ Directiory renewed\n",
      "C:/Users/mgutierrez/AppData/Roaming/MetaQuotes/Terminal/D0E8209F77C8CF37AD8BF550E51FF075/MQL5/Files/IOlive/AUDJPY/ Directiory created\n",
      "../../RNN/IOlive/AUDJPY/ Directiory created\n",
      "../../RNN/IOlive/CHFJPY/ Directiory renewed\n",
      "C:/Users/mgutierrez/AppData/Roaming/MetaQuotes/Terminal/D0E8209F77C8CF37AD8BF550E51FF075/MQL5/Files/IOlive/CHFJPY/ Directiory created\n",
      "../../RNN/IOlive/CHFJPY/ Directiory created\n",
      "../../RNN/IOlive/GBPJPY/ Directiory renewed\n",
      "C:/Users/mgutierrez/AppData/Roaming/MetaQuotes/Terminal/D0E8209F77C8CF37AD8BF550E51FF075/MQL5/Files/IOlive/GBPJPY/ Directiory created\n",
      "../../RNN/IOlive/GBPJPY/ Directiory created\n",
      "../../RNN/IOlive/NZDUSD/ Directiory renewed\n",
      "C:/Users/mgutierrez/AppData/Roaming/MetaQuotes/Terminal/D0E8209F77C8CF37AD8BF550E51FF075/MQL5/Files/IOlive/NZDUSD/ Directiory created\n",
      "../../RNN/IOlive/NZDUSD/ Directiory created\n",
      "All RNNs launched\n"
     ]
    }
   ],
   "source": [
    "from kaissandra.runLive import launch\n",
    "launch()"
   ]
  },
  {
   "cell_type": "code",
   "execution_count": 107,
   "metadata": {},
   "outputs": [
    {
     "name": "stdout",
     "output_type": "stream",
     "text": [
      "USDSGD\n",
      "Asset not running\n",
      "EURJPY\n",
      "GBPJPY\n",
      "EURDKK\n",
      "Asset not running\n",
      "EURCZK\n",
      "Asset not running\n",
      "EURUSD\n",
      "GBPUSD\n",
      "GBPCAD\n",
      "GBPCHF\n",
      "NZDUSD\n",
      "USDCAD\n",
      "USDHKD\n",
      "Asset not running\n",
      "USDPLN\n",
      "Asset not running\n",
      "XAUUSD\n",
      "Asset not running\n",
      "CADJPY\n",
      "CHFJPY\n",
      "EURPLN\n",
      "Asset not running\n",
      "XAGUSD\n",
      "Asset not running\n",
      "USDCHF\n",
      "USDRUB\n",
      "Asset not running\n",
      "EURGBP\n",
      "EURAUD\n",
      "USDJPY\n",
      "USDMXN\n",
      "Asset not running\n",
      "EURCHF\n",
      "USDNOK\n",
      "Asset not running\n",
      "GBPAUD\n",
      "[USDX]\n",
      "Asset not running\n",
      "GOLD\n",
      "Asset not running\n",
      "EURCAD\n",
      "EURNZD\n",
      "AUDJPY\n",
      "AUDCAD\n"
     ]
    }
   ],
   "source": [
    "import kaissandra.control as ct\n",
    "ct.pause()"
   ]
  },
  {
   "cell_type": "code",
   "execution_count": 108,
   "metadata": {},
   "outputs": [
    {
     "name": "stdout",
     "output_type": "stream",
     "text": [
      "USDSGD\n",
      "FileNotFoundError\n",
      "EURJPY\n",
      "GBPJPY\n",
      "EURDKK\n",
      "FileNotFoundError\n",
      "EURCZK\n",
      "FileNotFoundError\n",
      "EURUSD\n",
      "GBPUSD\n",
      "GBPCAD\n",
      "GBPCHF\n",
      "NZDUSD\n",
      "USDCAD\n",
      "USDHKD\n",
      "FileNotFoundError\n",
      "USDPLN\n",
      "FileNotFoundError\n",
      "XAUUSD\n",
      "FileNotFoundError\n",
      "CADJPY\n",
      "CHFJPY\n",
      "EURPLN\n",
      "FileNotFoundError\n",
      "XAGUSD\n",
      "FileNotFoundError\n",
      "USDCHF\n",
      "USDRUB\n",
      "FileNotFoundError\n",
      "EURGBP\n",
      "EURAUD\n",
      "USDJPY\n",
      "USDMXN\n",
      "FileNotFoundError\n",
      "EURCHF\n",
      "USDNOK\n",
      "FileNotFoundError\n",
      "GBPAUD\n",
      "[USDX]\n",
      "FileNotFoundError\n",
      "GOLD\n",
      "FileNotFoundError\n",
      "EURCAD\n",
      "EURNZD\n",
      "AUDJPY\n",
      "AUDCAD\n"
     ]
    }
   ],
   "source": [
    "import kaissandra.control as ct\n",
    "ct.resume()"
   ]
  },
  {
   "cell_type": "code",
   "execution_count": 157,
   "metadata": {},
   "outputs": [
    {
     "name": "stdout",
     "output_type": "stream",
     "text": [
      "USDSGD\n",
      "FileNotFoundError\n",
      "EURJPY\n",
      "GBPJPY\n",
      "EURDKK\n",
      "FileNotFoundError\n",
      "EURCZK\n",
      "FileNotFoundError\n",
      "EURUSD\n",
      "GBPUSD\n",
      "GBPCAD\n",
      "GBPCHF\n",
      "NZDUSD\n",
      "USDCAD\n",
      "USDHKD\n",
      "FileNotFoundError\n",
      "USDPLN\n",
      "FileNotFoundError\n",
      "XAUUSD\n",
      "FileNotFoundError\n",
      "CADJPY\n",
      "CHFJPY\n",
      "EURPLN\n",
      "FileNotFoundError\n",
      "XAGUSD\n",
      "FileNotFoundError\n",
      "USDCHF\n",
      "USDRUB\n",
      "FileNotFoundError\n",
      "EURGBP\n",
      "EURAUD\n",
      "USDJPY\n",
      "USDMXN\n",
      "FileNotFoundError\n",
      "EURCHF\n",
      "USDNOK\n",
      "FileNotFoundError\n",
      "GBPAUD\n",
      "[USDX]\n",
      "FileNotFoundError\n",
      "GOLD\n",
      "FileNotFoundError\n",
      "EURCAD\n",
      "EURNZD\n",
      "AUDJPY\n",
      "AUDCAD\n"
     ]
    }
   ],
   "source": [
    "import kaissandra.control as ct\n",
    "ct.shutdown()"
   ]
  },
  {
   "cell_type": "code",
   "execution_count": 4,
   "metadata": {},
   "outputs": [
    {
     "name": "stdout",
     "output_type": "stream",
     "text": [
      "The autoreload extension is already loaded. To reload it, use:\n",
      "  %reload_ext autoreload\n"
     ]
    }
   ],
   "source": [
    "# runLive in multiple processes\n",
    "from multiprocessing import Process\n",
    "import datetime as dt\n",
    "import time\n",
    "%load_ext autoreload\n",
    "%autoreload 2\n",
    "\n",
    "from kaissandra.runLive import run\n",
    "\n",
    "assets = [1, 2, 3, 4, 7, 8, 10, 11, 12, 13, 14, 16, 17, 19, 27, 28, 29, 30, 31, 32]#\n",
    "running_assets = assets#[7, 14]\n",
    "start_time = dt.datetime.strftime(dt.datetime.now(),'%y_%m_%d_%H_%M_%S')\n",
    "#disp = Process(target=run, args=[running_assets,start_time])\n",
    "#disp.start()\n",
    "for ass_idx in range(len(running_assets)):\n",
    "    disp = Process(target=run, args=[running_assets[ass_idx:ass_idx+1],start_time])\n",
    "    disp.start()\n",
    "    time.sleep(2)"
   ]
  },
  {
   "cell_type": "markdown",
   "metadata": {},
   "source": [
    "## Get total returns"
   ]
  },
  {
   "cell_type": "code",
   "execution_count": 53,
   "metadata": {},
   "outputs": [
    {
     "name": "stdout",
     "output_type": "stream",
     "text": [
      "3.398874679876486\n",
      "0.4184642357582783\n",
      "41.8464235758278\n",
      "0       3.815473\n",
      "1       2.964165\n",
      "2      -1.956519\n",
      "3     -14.279463\n",
      "4       9.640899\n",
      "5     -12.911705\n",
      "6      -5.424496\n",
      "7       2.455852\n",
      "8      22.604604\n",
      "9      -4.191491\n",
      "10      3.090262\n",
      "11     -2.402467\n",
      "12     30.873762\n",
      "13      7.252401\n",
      "14     22.614306\n",
      "15     -0.114359\n",
      "16    -38.652868\n",
      "17     13.927206\n",
      "18     20.341320\n",
      "19     -3.853639\n",
      "20      4.603808\n",
      "21     -3.660071\n",
      "22      9.101076\n",
      "23     -9.470053\n",
      "24     -4.326061\n",
      "25     17.753662\n",
      "26     14.498259\n",
      "27    -74.676760\n",
      "28     -2.078666\n",
      "29      5.082671\n",
      "         ...    \n",
      "125     8.850928\n",
      "126    -0.883861\n",
      "127    -5.620702\n",
      "128   -33.522304\n",
      "129   -37.970560\n",
      "130    -4.176478\n",
      "131    -5.179482\n",
      "132     3.986393\n",
      "133    -2.004445\n",
      "134     4.159402\n",
      "135   -15.732055\n",
      "136     3.669212\n",
      "137     0.787870\n",
      "138    -5.328455\n",
      "139     6.416255\n",
      "140    13.262017\n",
      "141     8.228611\n",
      "142    -4.666511\n",
      "143    -7.889931\n",
      "144     6.305498\n",
      "145   -31.740476\n",
      "146    -9.869035\n",
      "147    24.870848\n",
      "148    13.601523\n",
      "149    -0.480411\n",
      "150    -6.558320\n",
      "151    -1.760099\n",
      "152    -0.748961\n",
      "153    -9.321319\n",
      "154   -12.710821\n",
      "Name: Profit, Length: 155, dtype: float64\n"
     ]
    }
   ],
   "source": [
    "import pandas as pd\n",
    "start_time = '19_02_15_17_30_37'\n",
    "results_dir = '../../RNN/resultsLive/back_test/trader/'\n",
    "filename = results_dir+start_time+'_BT_'+\"positions_soll.log\"\n",
    "positions = pd.read_csv(filename)\n",
    "print(positions.GROI.sum())\n",
    "print(positions.ROI.sum())\n",
    "print(positions.Profit.sum())\n",
    "print(positions.Profit)"
   ]
  },
  {
   "cell_type": "markdown",
   "metadata": {},
   "source": [
    "## Retrieve Positions from Trader Simulation"
   ]
  },
  {
   "cell_type": "code",
   "execution_count": 1,
   "metadata": {},
   "outputs": [
    {
     "name": "stdout",
     "output_type": "stream",
     "text": [
      "190212144049_100350NJLSE13TI3MC0.65MD0.6_100327SE21TI0MC0.75MD0.7_100500LE29TI2MC0.7MD0.6\n"
     ]
    }
   ],
   "source": [
    "# Positions file from trader simulation\n",
    "pos_dirname = '../../RNN/resultsLive/simulate/trader/positions/'\n",
    "numberNetwors = 3\n",
    "start_time = '190212144049'\n",
    "list_IDresults = ['100350NJLS','100327S','100500L']#\n",
    "list_IDgre = [None for i in range(numberNetwors)]\n",
    "list_name = ['100350NJLS_13_3_.65_.6','100327S_21_0_.75_.7','100500L_29_3_.7_.6']\n",
    "list_epoch_gre = [None for i in range(numberNetwors)]\n",
    "list_epoch_journal = [13,21,29]\n",
    "list_t_index = [3,0,2]\n",
    "list_spread_ranges = [{'sp':[2.5],'th':[(.65,.6)]},{'sp':[2.5],'th':[(.75,.7)]},{'sp':[2.5],'th':[(.7,.6)]}]\n",
    "pos_filename = start_time+'_'+'_'.join([list_IDresults[i]+'E'+str(list_epoch_journal[i])+'TI'+\n",
    "                         str(list_t_index[i])+'MC'+str(list_spread_ranges[i]['th'][0][0])+'MD'+\n",
    "                         str(list_spread_ranges[i]['th'][0][1])\n",
    "                         for i in range(numberNetwors)])\n",
    "print(pos_filename)\n"
   ]
  },
  {
   "cell_type": "code",
   "execution_count": 7,
   "metadata": {},
   "outputs": [
    {
     "name": "stdout",
     "output_type": "stream",
     "text": [
      "190213090034_100327SE21TI0MC0.75MD0.7_100500LE29TI2MC0.7MD0.6\n"
     ]
    }
   ],
   "source": [
    "# Positions file from trader simulation\n",
    "pos_dirname = '../../RNN/resultsLive/simulate/trader/positions/'\n",
    "numberNetwors = 2\n",
    "start_time = '190213090034'\n",
    "list_IDresults = ['100327S','100500L']#\n",
    "list_IDgre = [None for i in range(numberNetwors)]\n",
    "list_name = ['100327S_21_0_.75_.7','100500L_29_3_.7_.6']\n",
    "list_epoch_gre = [None for i in range(numberNetwors)]\n",
    "list_epoch_journal = [21,29]\n",
    "list_t_index = [0,2]\n",
    "list_spread_ranges = [{'sp':[2.5],'th':[(.75,.7)]},{'sp':[2.5],'th':[(.7,.6)]}]\n",
    "pos_filename = start_time+'_'+'_'.join([list_IDresults[i]+'E'+str(list_epoch_journal[i])+'TI'+\n",
    "                         str(list_t_index[i])+'MC'+str(list_spread_ranges[i]['th'][0][0])+'MD'+\n",
    "                         str(list_spread_ranges[i]['th'][0][1])\n",
    "                         for i in range(numberNetwors)])\n",
    "print(pos_filename)\n"
   ]
  },
  {
   "cell_type": "code",
   "execution_count": 12,
   "metadata": {},
   "outputs": [
    {
     "name": "stdout",
     "output_type": "stream",
     "text": [
      "190213095021_100350NJLSE13TI3MC0.65MD0.6\n"
     ]
    }
   ],
   "source": [
    "# Positions file from trader simulation\n",
    "pos_dirname = '../../RNN/resultsLive/simulate/trader/positions/'\n",
    "numberNetwors = 1\n",
    "start_time = '190213095021'\n",
    "#E13TI3MC0.65MD0.6\n",
    "list_IDresults = ['100350NJLS']#\n",
    "list_IDgre = [None for i in range(numberNetwors)]\n",
    "#list_name = ['100327S_21_0_.75_.7','100500L_29_3_.7_.6']\n",
    "list_epoch_gre = [None for i in range(numberNetwors)]\n",
    "list_epoch_journal = [13]\n",
    "list_t_index = [3]\n",
    "list_spread_ranges = [{'sp':[2.5],'th':[(.65,.6)]}]\n",
    "pos_filename = start_time+'_'+'_'.join([list_IDresults[i]+'E'+str(list_epoch_journal[i])+'TI'+\n",
    "                         str(list_t_index[i])+'MC'+str(list_spread_ranges[i]['th'][0][0])+'MD'+\n",
    "                         str(list_spread_ranges[i]['th'][0][1])\n",
    "                         for i in range(numberNetwors)])\n",
    "print(pos_filename)\n"
   ]
  },
  {
   "cell_type": "code",
   "execution_count": 28,
   "metadata": {},
   "outputs": [
    {
     "name": "stdout",
     "output_type": "stream",
     "text": [
      "190213103037_100350SE13TI3MC0.55MD0.6_100350LE6TI1MC0.65MD0.65\n"
     ]
    }
   ],
   "source": [
    "\n",
    "pos_dirname = '../../RNN/resultsLive/simulate/trader/positions/'\n",
    "numberNetwors = 2\n",
    "start_time = '190213103037'\n",
    "#E13TI3MC0.65MD0.6\n",
    "list_IDresults = ['100350S','100350L']#\n",
    "list_IDgre = [None for i in range(numberNetwors)]\n",
    "#list_name = ['100327S_21_0_.75_.7','100500L_29_3_.7_.6']\n",
    "list_epoch_gre = [None for i in range(numberNetwors)]\n",
    "list_epoch_journal = [13,6]\n",
    "list_t_index = [3,1]\n",
    "list_spread_ranges = [{'sp':[2.5],'th':[(.55,.6)]},{'sp':[2.5],'th':[(.65,.65)]}]\n",
    "pos_filename = start_time+'_'+'_'.join([list_IDresults[i]+'E'+str(list_epoch_journal[i])+'TI'+\n",
    "                         str(list_t_index[i])+'MC'+str(list_spread_ranges[i]['th'][0][0])+'MD'+\n",
    "                         str(list_spread_ranges[i]['th'][0][1])\n",
    "                         for i in range(numberNetwors)])\n",
    "print(pos_filename)"
   ]
  },
  {
   "cell_type": "code",
   "execution_count": 121,
   "metadata": {},
   "outputs": [
    {
     "name": "stdout",
     "output_type": "stream",
     "text": [
      "190213121736_100350SE13TI3MC0.55MD0.6_100350LE6TI1MC0.65MD0.65_100327SE21TI0MC0.75MD0.7_100500LE29TI2MC0.7MD0.6\n"
     ]
    }
   ],
   "source": [
    "pos_dirname = '../../RNN/resultsLive/simulate/trader/positions/'\n",
    "numberNetwors = 4\n",
    "start_time = '190213121736'\n",
    "#E13TI3MC0.65MD0.6\n",
    "list_IDresults = ['100350S','100350L']+['100327S','100500L']#\n",
    "list_IDgre = [None for i in range(numberNetwors)]\n",
    "#list_name = ['100327S_21_0_.75_.7','100500L_29_3_.7_.6']\n",
    "list_epoch_gre = [None for i in range(numberNetwors)]\n",
    "list_epoch_journal = [13,6]+[21,29]\n",
    "list_t_index = [3,1]+[0,2]\n",
    "list_spread_ranges = [{'sp':[2.5],'th':[(.55,.6)]},{'sp':[2.5],'th':[(.65,.65)]}]+[{'sp':[2.5],'th':[(.75,.7)]},{'sp':[2.5],'th':[(.7,.6)]}]\n",
    "pos_filename = start_time+'_'+'_'.join([list_IDresults[i]+'E'+str(list_epoch_journal[i])+'TI'+\n",
    "                         str(list_t_index[i])+'MC'+str(list_spread_ranges[i]['th'][0][0])+'MD'+\n",
    "                         str(list_spread_ranges[i]['th'][0][1])\n",
    "                         for i in range(numberNetwors)])\n",
    "print(pos_filename)"
   ]
  },
  {
   "cell_type": "code",
   "execution_count": 131,
   "metadata": {},
   "outputs": [
    {
     "name": "stdout",
     "output_type": "stream",
     "text": [
      "total mean GROI\n",
      "0.03938055953427978\n",
      "mean GROI of selected\n",
      "0.03938055953427978\n",
      "mean_spread of selected\n",
      "0.015472610906212323\n",
      "Number of pos under 0.1\n",
      "827\n",
      "per under pip_limit\n",
      "100.0\n",
      "total gross success rate\n",
      "61.668681983071345\n",
      "gross success rate\n",
      "61.668681983071345\n",
      "total success rate\n",
      "57.194679564691654\n",
      "success rate\n",
      "57.194679564691654\n",
      "GROI for positions under 0.1\n",
      "32.5677227348494\n",
      "ROI for positions under 0.1\n",
      "19.771873515411812\n",
      "positions['GROI'].sum()-pip_limit*positions['GROI'].shape[0]\n",
      "-50.132277265150606\n",
      "# Assets\n",
      "21\n"
     ]
    }
   ],
   "source": [
    "import pandas as pd\n",
    "\n",
    "positions = pd.read_csv(pos_dirname+pos_filename+'.csv',sep='\\t')#\n",
    "#print(positions)\n",
    "pip_limit = 0.1\n",
    "pos_under_2p = positions['espread']<pip_limit\n",
    "positions['DTo'] = positions[\"Do\"] + \" \"+ positions[\"To\"]\n",
    "pos_under_thr = positions[pos_under_2p]#.sort_values(by=['DTo'])\n",
    "per_under_2p = 100*sum(pos_under_2p)/positions.shape[0]\n",
    "tgsr = 100*sum(positions['GROI']>0)/positions.shape[0]\n",
    "gsr = 100*sum(pos_under_thr['GROI']>0)/sum(pos_under_2p)\n",
    "tsr = 100*sum(positions['ROI']>0)/positions.shape[0]\n",
    "sr = 100*sum(positions[pos_under_2p]['ROI']>0)/sum(pos_under_2p)\n",
    "mean_spread = positions[pos_under_2p]['spread'].mean()\n",
    "print(\"total mean GROI\")\n",
    "print(positions['GROI'].mean())\n",
    "print(\"mean GROI of selected\")\n",
    "print(positions[pos_under_2p]['GROI'].mean())\n",
    "print(\"mean_spread of selected\")\n",
    "print(mean_spread)\n",
    "print(\"Number of pos under \"+str(pip_limit))\n",
    "print(positions[pos_under_2p].shape[0])\n",
    "print(\"per under pip_limit\")\n",
    "print(per_under_2p)\n",
    "print(\"total gross success rate\")\n",
    "print(tgsr)\n",
    "print(\"gross success rate\")\n",
    "print(gsr)\n",
    "print(\"total success rate\")\n",
    "print(tsr)\n",
    "print(\"success rate\")\n",
    "print(sr)\n",
    "print(\"GROI for positions under \"+str(pip_limit))\n",
    "print(positions[pos_under_2p]['GROI'].sum())\n",
    "print(\"ROI for positions under \"+str(pip_limit))\n",
    "print(positions[pos_under_2p]['ROI'].sum())\n",
    "print(\"positions['GROI'].sum()-pip_limit*positions['GROI'].shape[0]\")\n",
    "print(positions['GROI'].sum()-pip_limit*positions['GROI'].shape[0])\n",
    "print(\"# Assets\")\n",
    "print(positions['Asset'][pos_under_2p].unique().shape[0])\n",
    "pos_under_thr.to_csv(pos_dirname+pos_filename+str(100*pip_limit)+'pFilt.csv', index=False, sep='\\t')"
   ]
  },
  {
   "cell_type": "code",
   "execution_count": 134,
   "metadata": {},
   "outputs": [
    {
     "name": "stdout",
     "output_type": "stream",
     "text": [
      "25.060606060606062\n",
      "22.666666666666668\n"
     ]
    }
   ],
   "source": [
    "print(827/33)\n",
    "print(272/12)"
   ]
  },
  {
   "cell_type": "code",
   "execution_count": 132,
   "metadata": {},
   "outputs": [
    {
     "data": {
      "image/png": "[encoded data removed]",
      "text/plain": [
       "<Figure size 432x288 with 1 Axes>"
      ]
     },
     "metadata": {},
     "output_type": "display_data"
    },
    {
     "data": {
      "image/png": "[encoded data removed]",
      "text/plain": [
       "<Figure size 432x288 with 1 Axes>"
      ]
     },
     "metadata": {},
     "output_type": "display_data"
    },
    {
     "data": {
      "image/png": "[encoded data removed]",
      "text/plain": [
       "<Figure size 432x288 with 1 Axes>"
      ]
     },
     "metadata": {},
     "output_type": "display_data"
    }
   ],
   "source": [
    "import matplotlib\n",
    "import matplotlib.pyplot as plt\n",
    "import datetime as dt\n",
    "\n",
    "plt.figure(0)\n",
    "bins = [i/100 for i in range(-100,100,2)]\n",
    "histG = plt.hist(pos_under_thr['GROI'], bins=bins)\n",
    "histR = plt.hist(pos_under_thr['ROI'], bins=bins)\n",
    "plt.grid()\n",
    "\n",
    "#pos_under_thr.index = range(pos_under_thr.shape[0])\n",
    "plt.figure(1)\n",
    "plt.plot(range(pos_under_thr.shape[0]),pos_under_thr['GROI'].cumsum())\n",
    "plt.plot(range(pos_under_thr.shape[0]),pos_under_thr['ROI'].cumsum())\n",
    "plt.grid()\n",
    "\n",
    "list_dates = [dt.datetime.strptime(date, '%Y.%m.%d %H:%M:%S') for date in positions['DTo']]\n",
    "dates = matplotlib.dates.date2num(list_dates)\n",
    "plt.figure(2)\n",
    "plt.plot_date(list_dates, pos_under_thr['GROI'].cumsum(),fmt='-')\n",
    "plt.plot_date(list_dates, pos_under_thr['ROI'].cumsum(),fmt='-')\n",
    "plt.gcf().autofmt_xdate()\n",
    "plt.grid()"
   ]
  },
  {
   "cell_type": "code",
   "execution_count": 37,
   "metadata": {},
   "outputs": [
    {
     "name": "stdout",
     "output_type": "stream",
     "text": [
      "Asset\n",
      "AUDCAD    0.542359\n",
      "AUDJPY    4.152853\n",
      "CADJPY    0.115273\n",
      "CHFJPY    0.067865\n",
      "EURAUD   -0.192700\n",
      "EURCAD    0.974623\n",
      "EURCHF   -0.121282\n",
      "EURGBP    0.617676\n",
      "EURJPY    1.537915\n",
      "EURNZD    1.112103\n",
      "EURUSD    1.527521\n",
      "GBPAUD    1.596829\n",
      "GBPCAD    1.356418\n",
      "GBPCHF    0.236248\n",
      "GBPJPY    0.958917\n",
      "GBPUSD    1.845176\n",
      "GOLD      1.367162\n",
      "NZDUSD    1.098908\n",
      "USDCAD    0.587564\n",
      "USDCHF    0.573920\n",
      "USDJPY   -0.183477\n",
      "Name: ROI, dtype: float64\n"
     ]
    },
    {
     "ename": "AttributeError",
     "evalue": "'Figure' object has no attribute 'autofmt'",
     "output_type": "error",
     "traceback": [
      "\u001b[1;31m---------------------------------------------------------------------------\u001b[0m",
      "\u001b[1;31mAttributeError\u001b[0m                            Traceback (most recent call last)",
      "\u001b[1;32m<ipython-input-37-6eb7a0939a24>\u001b[0m in \u001b[0;36m<module>\u001b[1;34m()\u001b[0m\n\u001b[0;32m     13\u001b[0m \u001b[0mplt\u001b[0m\u001b[1;33m.\u001b[0m\u001b[0mplot\u001b[0m\u001b[1;33m(\u001b[0m\u001b[0mweekly_sum_G\u001b[0m\u001b[1;33m.\u001b[0m\u001b[0mcumsum\u001b[0m\u001b[1;33m(\u001b[0m\u001b[1;33m)\u001b[0m\u001b[1;33m)\u001b[0m\u001b[1;33m\u001b[0m\u001b[0m\n\u001b[0;32m     14\u001b[0m \u001b[0mplt\u001b[0m\u001b[1;33m.\u001b[0m\u001b[0mplot\u001b[0m\u001b[1;33m(\u001b[0m\u001b[0mrange\u001b[0m\u001b[1;33m(\u001b[0m\u001b[0mweekly_sum\u001b[0m\u001b[1;33m.\u001b[0m\u001b[0mshape\u001b[0m\u001b[1;33m[\u001b[0m\u001b[1;36m0\u001b[0m\u001b[1;33m]\u001b[0m\u001b[1;33m)\u001b[0m\u001b[1;33m,\u001b[0m \u001b[0mweekly_sum\u001b[0m\u001b[1;33m.\u001b[0m\u001b[0mcumsum\u001b[0m\u001b[1;33m(\u001b[0m\u001b[1;33m)\u001b[0m\u001b[1;33m)\u001b[0m\u001b[1;33m\u001b[0m\u001b[0m\n\u001b[1;32m---> 15\u001b[1;33m \u001b[0mplt\u001b[0m\u001b[1;33m.\u001b[0m\u001b[0mgcf\u001b[0m\u001b[1;33m(\u001b[0m\u001b[1;33m)\u001b[0m\u001b[1;33m.\u001b[0m\u001b[0mautofmt\u001b[0m\u001b[1;33m(\u001b[0m\u001b[1;33m)\u001b[0m\u001b[1;33m\u001b[0m\u001b[0m\n\u001b[0m\u001b[0;32m     16\u001b[0m \u001b[0mplt\u001b[0m\u001b[1;33m.\u001b[0m\u001b[0mgrid\u001b[0m\u001b[1;33m(\u001b[0m\u001b[1;33m)\u001b[0m\u001b[1;33m\u001b[0m\u001b[0m\n\u001b[0;32m     17\u001b[0m \u001b[0mprint\u001b[0m\u001b[1;33m(\u001b[0m\u001b[0mweekly_sum_G\u001b[0m\u001b[1;33m)\u001b[0m\u001b[1;33m\u001b[0m\u001b[0m\n",
      "\u001b[1;31mAttributeError\u001b[0m: 'Figure' object has no attribute 'autofmt'"
     ]
    },
    {
     "data": {
      "image/png": "[encoded data removed]",
      "text/plain": [
       "<Figure size 432x288 with 1 Axes>"
      ]
     },
     "metadata": {},
     "output_type": "display_data"
    }
   ],
   "source": [
    "#positions\n",
    "#grouped = pos_format.groupby(['asset'])\n",
    "weekly_group = pos_under_thr.groupby([pd.to_datetime(pos_under_thr['Di']).dt.strftime('%W')])['ROI']\n",
    "weekly_group_G = pos_under_thr.groupby([pd.to_datetime(pos_under_thr['Di']).dt.strftime('%W')])['GROI']\n",
    "asset_group = pos_under_thr.groupby(['Asset'])\n",
    "weekly_sum = weekly_group.sum()\n",
    "weekly_sum_G = weekly_group_G.sum()\n",
    "weekly_count = weekly_group.count()\n",
    "#weekly_sum.cumsum()\n",
    "#print(asset_group['GROI'].sum())\n",
    "print(asset_group['ROI'].sum())\n",
    "plt.figure(0)\n",
    "plt.plot(weekly_sum_G.cumsum())\n",
    "plt.plot(range(weekly_sum.shape[0]), weekly_sum.cumsum())\n",
    "plt.gcf().autofmt_xdate()\n",
    "plt.grid()\n",
    "print(weekly_sum_G)\n",
    "print(weekly_sum)#.cumsum()\n",
    "print(weekly_count)\n",
    "print(weekly_sum.cumsum())\n",
    "print(weekly_count.shape)\n",
    "#print(pos_under_thr.groupby([pd.to_datetime(pos_under_thr['Di']).dt.strftime('%W')])['GROI'].sum())\n",
    "#print(weekly_count)\n",
    "plt.figure(1)\n",
    "plt.grid()\n",
    "plt.hist(weekly_count, bins=range(0,max(weekly_count),5))\n",
    "\n",
    "#for name, group in asset_group:\n",
    "#    print(name)\n",
    "#    print(group.to_string())\n",
    "#pd.to_datetime(positions['Di']).dt.strftime('%W')\n",
    "#pd.to_datetime(positions['Di'])#.groupby('Name').resample('W-Mon', on='Date').sum().reset_index().sort_values(by='Date')"
   ]
  },
  {
   "cell_type": "code",
   "execution_count": null,
   "metadata": {},
   "outputs": [],
   "source": []
  }
 ],
 "metadata": {
  "kernelspec": {
   "display_name": "Python 3",
   "language": "python",
   "name": "python3"
  },
  "language_info": {
   "codemirror_mode": {
    "name": "ipython",
    "version": 3
   },
   "file_extension": ".py",
   "mimetype": "text/x-python",
   "name": "python",
   "nbconvert_exporter": "python",
   "pygments_lexer": "ipython3",
   "version": "3.5.5"
  }
 },
 "nbformat": 4,
 "nbformat_minor": 2
}
