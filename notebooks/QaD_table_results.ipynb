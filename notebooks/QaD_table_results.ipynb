{
 "cells": [
  {
   "cell_type": "code",
   "execution_count": 1,
   "metadata": {},
   "outputs": [
    {
     "name": "stdout",
     "output_type": "stream",
     "text": [
      "C:\\Users\\mgutierrez\\root\\Projects\\SDC\\py\\kaissandra\\ added to python path\n"
     ]
    }
   ],
   "source": [
    "import sys\n",
    "import os\n",
    "\n",
    "this_path = os.getcwd()\n",
    "path = '\\\\'.join(this_path.split('\\\\')[:-1])+'\\\\'\n",
    "if path not in sys.path:\n",
    "    sys.path.insert(0, path)\n",
    "    print(path+\" added to python path\")\n",
    "else:\n",
    "    print(path+\" already in python path\")\n",
    "    \n",
    "import pandas as pd\n",
    "import datetime as dt\n",
    "import pickle\n",
    "import math\n",
    "import numpy as np\n",
    "import matplotlib.pyplot as plt\n",
    "\n",
    "%matplotlib inline\n",
    "%load_ext autoreload\n",
    "%autoreload 2\n"
   ]
  },
  {
   "cell_type": "code",
   "execution_count": null,
   "metadata": {},
   "outputs": [],
   "source": []
  },
  {
   "cell_type": "markdown",
   "metadata": {},
   "source": [
    "## Find candidate"
   ]
  },
  {
   "cell_type": "code",
   "execution_count": 2,
   "metadata": {},
   "outputs": [],
   "source": [
    "from kaissandra.local_config import local_vars\n",
    "\n",
    "results_filename = local_vars.results_directory\n",
    "IDresults = 'RRNN01020k1K5AC'#'RRNN00000K5ACNR'\n",
    "results_table_filename = results_filename+IDresults+'/performance.csv'\n",
    "TR = pd.read_csv(results_table_filename, sep='\\t')"
   ]
  },
  {
   "cell_type": "code",
   "execution_count": 3,
   "metadata": {},
   "outputs": [],
   "source": [
    "def extract_result(dict_inputs, list_kpis):\n",
    "    \"\"\" Extract single results \"\"\"\n",
    "    # init idxs to Trues\n",
    "    idxs = TR['epoch']>=0\n",
    "    for key,func in dict_inputs.items():\n",
    "        idxs = idxs & (TR[key].apply(func))\n",
    "    dict_out = {}\n",
    "    for kpi in list_kpis:\n",
    "        maxidx = TR[kpi][idxs].idxmax()\n",
    "        dict_out[kpi] = TR.iloc[maxidx]\n",
    "        print(kpi)\n",
    "        print(dict_out[kpi].to_string())"
   ]
  },
  {
   "cell_type": "code",
   "execution_count": 16,
   "metadata": {},
   "outputs": [
    {
     "name": "stdout",
     "output_type": "stream",
     "text": [
      "eROI1\n",
      "epoch         8.000000\n",
      "t_index       3.000000\n",
      "thr_mc        0.500000\n",
      "thr_md        0.900000\n",
      "AD           88.235294\n",
      "ADA          78.947368\n",
      "GSP          77.777778\n",
      "NSP          66.666667\n",
      "NO            9.000000\n",
      "NZ           17.000000\n",
      "NZA          19.000000\n",
      "RD           15.000000\n",
      "NSP.5        77.777778\n",
      "NSP1         77.777778\n",
      "NSP1.5       66.666667\n",
      "NSP2         66.666667\n",
      "NSP3         66.666667\n",
      "NSP4         55.555556\n",
      "NSP5         55.555556\n",
      "SI.5          2.230000\n",
      "SI1           2.230000\n",
      "SI1.5         1.230000\n",
      "SI2           1.230000\n",
      "SI3           1.230000\n",
      "SI4           0.230000\n",
      "SI5           0.230000\n",
      "SI            1.230000\n",
      "eGROI         0.482183\n",
      "eROI.5        0.437183\n",
      "eROI1         0.392183\n",
      "eROI1.5       0.347183\n",
      "eROI2         0.302183\n",
      "eROI3         0.212183\n",
      "eROI4         0.122183\n",
      "eROI5         0.032183\n",
      "eROI          0.226645\n",
      "mSpread       0.028393\n",
      "pNZ           0.001162\n",
      "pNZA          0.001298\n",
      "tGROI         1.055813\n",
      "tROI          0.452431\n",
      "eRl1          0.000000\n",
      "eRl2          0.226645\n",
      "eGl1          0.000000\n",
      "eGl2          0.482183\n",
      "sharpe        1.274906\n",
      "NOl1          0.000000\n",
      "NOl2          9.000000\n",
      "eGROIL        0.482183\n",
      "eGROIS        0.000000\n",
      "NOL           9.000000\n",
      "NOS           0.000000\n",
      "GSPl         77.777778\n",
      "GSPs          0.000000\n",
      "99eGROI       0.518532\n",
      "99eROI        0.293918\n",
      "99eROI.5      0.478532\n",
      "99eROI1       0.438532\n",
      "99eROI1.5     0.398532\n",
      "99eROI2       0.358532\n",
      "99eROI3       0.278532\n",
      "99eROI4       0.198532\n",
      "99eROI5       0.118532\n"
     ]
    }
   ],
   "source": [
    "func1 = lambda x:x==3\n",
    "func2 = lambda x:x>=60\n",
    "func3 = lambda x:x==12\n",
    "func_mc = lambda x:x==0.7\n",
    "func_md = lambda x:x==0.6\n",
    "extract_result({'t_index':func1,'NSP':func2}, ['eROI1'])#,"
   ]
  },
  {
   "cell_type": "markdown",
   "metadata": {},
   "source": [
    "## Get Positions Candidate"
   ]
  },
  {
   "cell_type": "code",
   "execution_count": 4,
   "metadata": {},
   "outputs": [
    {
     "name": "stderr",
     "output_type": "stream",
     "text": [
      "C:\\ProgramData\\Anaconda3\\envs\\py35\\lib\\site-packages\\h5py\\__init__.py:36: FutureWarning: Conversion of the second argument of issubdtype from `float` to `np.floating` is deprecated. In future, it will be treated as `np.float64 == np.dtype(float).type`.\n",
      "  from ._conv import register_converters as _register_converters\n"
     ]
    }
   ],
   "source": [
    "from kaissandra.automate import automate_Kfold\n",
    "\n",
    "rootname_config = 'RNN01040'\n",
    "extR = 'AC'\n",
    "sufix=''\n",
    "K = 5\n",
    "k_end = 2\n",
    "resolution = 20\n",
    "k_init = 1\n",
    "outputGain = 1\n",
    "movingWindow = 400\n",
    "nEventsPerStat = 4000\n",
    "results_from = 'COMB'\n",
    "feats_from_bids = False\n",
    "save_journal = False\n",
    "t_indexes = [0,1,2,3]\n",
    "thresholds_mc = [int(np.round((.5+i/resolution)*100))/100 for i in range(int(resolution/2))]\n",
    "thresholds_md = [int(np.round((.5+i/resolution)*100))/100 for i in range(int(resolution/2))]\n",
    "IDrs=['R'+rootname_config+'k'+str(fold_idx+1)+'K'+str(K)+extR+sufix for fold_idx in range(k_end)]\n",
    "IDr_merged=rootname_config+'k'+str(k_init+1)+'-'+str(k_end)+'K'+str(K)+extR+sufix"
   ]
  },
  {
   "cell_type": "code",
   "execution_count": null,
   "metadata": {},
   "outputs": [
    {
     "name": "stdout",
     "output_type": "stream",
     "text": [
      "k 2 of 5\n",
      "IDresults:\n",
      "RRNN01040k2K5AC\n",
      "WARNING! Config values have been overwritten with entries values\n",
      "Config file C:/Users/mgutierrez/root/Projects/SDC/py/RNN/config/CRNN01040k2K5.config exists. Loaded from disk\n",
      "RRNN01040k2K5AC\n",
      "loss_funcs\n",
      "['cross_entropy']\n",
      "Getting dataset edges...\n",
      "C:/Users/mgutierrez/root/Projects/SDC/py/RNN/IO/DTA_RRNN01040k2K5AC.p\n",
      "Edges:\n",
      "[datetime.date(2016, 8, 2), datetime.date(2017, 3, 6), datetime.date(2017, 9, 27), datetime.date(2018, 4, 10)]\n",
      "C:/Users/mgutierrez/root/Projects/SDC/py/RNN/IO/IOKFWRNN01040k2K5AC.hdf5\n",
      "C:/Users/mgutierrez/root/Projects/SDC/py/RNN/IO/IOKFRRNN01040k2K5AC.hdf5\n",
      "C:/Users/mgutierrez/root/Projects/SDC/py/RNN/IO/DTA_RRNN01040k2K5AC.p\n",
      "Samples for fitting: 3862623\n",
      "Samples for cross-validation: 897307\n",
      "Total samples: 4759930\n",
      "totalSampsPerLevel not in IO :(\n",
      "DONE building IO\n",
      "Iteration 0 of 0\n",
      "INFO:tensorflow:Restoring parameters from C:/Users/mgutierrez/root/Projects/SDC/py/RNN/weights/WRNN01040k2K5A/000010/000010\n",
      "Parameters loaded. Epoch 10\n",
      "Epoch 10 of 14. Getting output...\n"
     ]
    },
    {
     "name": "stderr",
     "output_type": "stream",
     "text": [
      "100%|████████████████████████████████████████████████████████████████████████████████| 877/877 [01:08<00:00, 12.75it/s]\n"
     ]
    },
    {
     "name": "stdout",
     "output_type": "stream",
     "text": [
      "J_test = 6.240390\n",
      "Epoch 10, J_train = 4.741746073306845, J_test = 6.240390109635269\n",
      "Getting extended results...\n"
     ]
    },
    {
     "name": "stderr",
     "output_type": "stream",
     "text": [
      "0it [00:00, ?it/s]\n",
      "C:\\ProgramData\\Anaconda3\\envs\\py35\\lib\\site-packages\\numpy\\core\\fromnumeric.py:3194: RuntimeWarning: Degrees of freedom <= 0 for slice\n",
      "  **kwargs)\n",
      "C:\\ProgramData\\Anaconda3\\envs\\py35\\lib\\site-packages\\numpy\\core\\_methods.py:105: RuntimeWarning: invalid value encountered in true_divide\n",
      "  arrmean, rcount, out=arrmean, casting='unsafe', subok=False)\n",
      "C:\\ProgramData\\Anaconda3\\envs\\py35\\lib\\site-packages\\numpy\\core\\_methods.py:127: RuntimeWarning: invalid value encountered in double_scalars\n",
      "  ret = ret.dtype.type(ret / rcount)\n"
     ]
    },
    {
     "name": "stdout",
     "output_type": "stream",
     "text": [
      "Epoch = 10. Time index = 0. Threshold MC = 0.5. Threshold MD = 0.5\n",
      "J_test = 6.240390109635269, J_train = 4.741746073306845, Accuracy=0.8014235930400633\n",
      "RD = 374671 NZ = 719087 NZA = 897212 pNZ = 80.138% pNZA = 99.989% AD = 52.10% ADA = 41.76% NO = 1 GSP = 0.00% NSP = 0.00%\n",
      "SI2 = 0.00 SI = -1.00 eGROI = 0.00% eROI = 0.00% eROI2 = 0.00% eROI3 = 0.00% mSpread = 0.0000%\n",
      "Getting extended results...\n"
     ]
    },
    {
     "name": "stderr",
     "output_type": "stream",
     "text": [
      "0it [00:00, ?it/s]\n"
     ]
    },
    {
     "name": "stdout",
     "output_type": "stream",
     "text": [
      "Epoch = 10. Time index = 0. Threshold MC = 0.5. Threshold MD = 0.55\n",
      "RD = 57282 NZ = 101879 NZA = 129580 pNZ = 11.354% pNZA = 14.441% AD = 56.23% ADA = 44.21% NO = 1 GSP = 0.00% NSP = 0.00%\n",
      "SI2 = 0.00 SI = -1.00 eGROI = 0.00% eROI = 0.00% eROI2 = 0.00% eROI3 = 0.00% mSpread = 0.0000%\n",
      "Getting extended results...\n"
     ]
    },
    {
     "name": "stderr",
     "output_type": "stream",
     "text": [
      "100%|██████████████████████████████████████████████████████████████████████████| 18612/18612 [00:04<00:00, 4567.07it/s]\n"
     ]
    },
    {
     "name": "stdout",
     "output_type": "stream",
     "text": [
      "Epoch = 10. Time index = 0. Threshold MC = 0.5. Threshold MD = 0.6\n",
      "RD = 8993 NZ = 14463 NZA = 18613 pNZ = 1.612% pNZA = 2.074% AD = 62.18% ADA = 48.32% NO = 4974 GSP = 57.22% NSP = 41.21%\n",
      "SI2 = -5.30 SI = -41.45 eGROI = 46.34% eROI = -91.68% eROI2 = -53.14% eROI3 = -102.88% mSpread = 0.0277%\n",
      "Getting extended results...\n"
     ]
    },
    {
     "name": "stderr",
     "output_type": "stream",
     "text": [
      "100%|████████████████████████████████████████████████████████████████████████████| 2897/2897 [00:01<00:00, 2364.36it/s]\n"
     ]
    },
    {
     "name": "stdout",
     "output_type": "stream",
     "text": [
      "Epoch = 10. Time index = 0. Threshold MC = 0.5. Threshold MD = 0.65\n",
      "RD = 1547 NZ = 2288 NZA = 2898 pNZ = 0.255% pNZA = 0.323% AD = 67.61% ADA = 53.38% NO = 1532 GSP = 61.16% NSP = 43.21%\n",
      "SI2 = -0.82 SI = -22.22 eGROI = 30.22% eROI = -16.74% eROI2 = -0.42% eROI3 = -15.74% mSpread = 0.0307%\n",
      "Getting extended results...\n"
     ]
    },
    {
     "name": "stderr",
     "output_type": "stream",
     "text": [
      "100%|██████████████████████████████████████████████████████████████████████████████| 314/314 [00:00<00:00, 2538.32it/s]\n"
     ]
    },
    {
     "name": "stdout",
     "output_type": "stream",
     "text": [
      "Epoch = 10. Time index = 0. Threshold MC = 0.5. Threshold MD = 0.7\n",
      "RD = 208 NZ = 277 NZA = 315 pNZ = 0.031% pNZA = 0.035% AD = 75.09% ADA = 66.03% NO = 276 GSP = 63.41% NSP = 44.93%\n",
      "SI2 = 1.32 SI = -9.12 eGROI = 4.66% eROI = -4.44% eROI2 = -0.86% eROI3 = -3.62% mSpread = 0.0330%\n",
      "Getting extended results...\n"
     ]
    },
    {
     "name": "stderr",
     "output_type": "stream",
     "text": [
      "100%|████████████████████████████████████████████████████████████████████████████████| 36/36 [00:00<00:00, 1804.84it/s]\n"
     ]
    },
    {
     "name": "stdout",
     "output_type": "stream",
     "text": [
      "Epoch = 10. Time index = 0. Threshold MC = 0.5. Threshold MD = 0.75\n",
      "RD = 27 NZ = 35 NZA = 37 pNZ = 0.004% pNZA = 0.004% AD = 77.14% ADA = 72.97% NO = 36 GSP = 61.11% NSP = 47.22%\n",
      "SI2 = 0.67 SI = -3.09 eGROI = 0.63% eROI = -0.65% eROI2 = -0.09% eROI3 = -0.45% mSpread = 0.0354%\n",
      "Getting extended results...\n"
     ]
    },
    {
     "name": "stderr",
     "output_type": "stream",
     "text": [
      "100%|██████████████████████████████████████████████████████████████████████████████████| 3/3 [00:00<00:00, 1002.38it/s]\n"
     ]
    },
    {
     "name": "stdout",
     "output_type": "stream",
     "text": [
      "Epoch = 10. Time index = 0. Threshold MC = 0.5. Threshold MD = 0.8\n",
      "RD = 3 NZ = 4 NZA = 4 pNZ = 0.000% pNZA = 0.000% AD = 75.00% ADA = 75.00% NO = 4 GSP = 50.00% NSP = 50.00%\n",
      "SI2 = 0.00 SI = -0.75 eGROI = 0.21% eROI = 0.02% eROI2 = 0.13% eROI3 = 0.09% mSpread = 0.0482%\n",
      "Getting extended results...\n"
     ]
    },
    {
     "name": "stderr",
     "output_type": "stream",
     "text": [
      "0it [00:00, ?it/s]\n"
     ]
    },
    {
     "name": "stdout",
     "output_type": "stream",
     "text": [
      "Epoch = 10. Time index = 0. Threshold MC = 0.5. Threshold MD = 0.85\n",
      "RD = 0 NZ = 0 NZA = 0 pNZ = 0.000% pNZA = 0.000% AD = 0.00% ADA = 0.00% NO = 1 GSP = 0.00% NSP = 0.00%\n",
      "SI2 = 0.00 SI = -1.00 eGROI = 0.00% eROI = 0.00% eROI2 = 0.00% eROI3 = 0.00% mSpread = 0.0000%\n",
      "Getting extended results...\n"
     ]
    },
    {
     "name": "stderr",
     "output_type": "stream",
     "text": [
      "0it [00:00, ?it/s]\n"
     ]
    },
    {
     "name": "stdout",
     "output_type": "stream",
     "text": [
      "Epoch = 10. Time index = 0. Threshold MC = 0.5. Threshold MD = 0.9\n",
      "RD = 0 NZ = 0 NZA = 0 pNZ = 0.000% pNZA = 0.000% AD = 0.00% ADA = 0.00% NO = 1 GSP = 0.00% NSP = 0.00%\n",
      "SI2 = 0.00 SI = -1.00 eGROI = 0.00% eROI = 0.00% eROI2 = 0.00% eROI3 = 0.00% mSpread = 0.0000%\n",
      "Getting extended results...\n"
     ]
    },
    {
     "name": "stderr",
     "output_type": "stream",
     "text": [
      "0it [00:00, ?it/s]\n"
     ]
    },
    {
     "name": "stdout",
     "output_type": "stream",
     "text": [
      "Epoch = 10. Time index = 0. Threshold MC = 0.5. Threshold MD = 0.95\n",
      "RD = 0 NZ = 0 NZA = 0 pNZ = 0.000% pNZA = 0.000% AD = 0.00% ADA = 0.00% NO = 1 GSP = 0.00% NSP = 0.00%\n",
      "SI2 = 0.00 SI = -1.00 eGROI = 0.00% eROI = 0.00% eROI2 = 0.00% eROI3 = 0.00% mSpread = 0.0000%\n",
      "\n",
      "Getting extended results...\n"
     ]
    },
    {
     "name": "stderr",
     "output_type": "stream",
     "text": [
      "0it [00:00, ?it/s]\n"
     ]
    },
    {
     "name": "stdout",
     "output_type": "stream",
     "text": [
      "Epoch = 10. Time index = 0. Threshold MC = 0.55. Threshold MD = 0.5\n",
      "RD = 374500 NZ = 718731 NZA = 896626 pNZ = 80.099% pNZA = 99.924% AD = 52.11% ADA = 41.77% NO = 1 GSP = 0.00% NSP = 0.00%\n",
      "SI2 = 0.00 SI = -1.00 eGROI = 0.00% eROI = 0.00% eROI2 = 0.00% eROI3 = 0.00% mSpread = 0.0000%\n",
      "Getting extended results...\n"
     ]
    },
    {
     "name": "stderr",
     "output_type": "stream",
     "text": [
      "0it [00:00, ?it/s]\n"
     ]
    },
    {
     "name": "stdout",
     "output_type": "stream",
     "text": [
      "Epoch = 10. Time index = 0. Threshold MC = 0.55. Threshold MD = 0.55\n",
      "RD = 57222 NZ = 101748 NZA = 129358 pNZ = 11.339% pNZA = 14.416% AD = 56.24% ADA = 44.24% NO = 1 GSP = 0.00% NSP = 0.00%\n",
      "SI2 = 0.00 SI = -1.00 eGROI = 0.00% eROI = 0.00% eROI2 = 0.00% eROI3 = 0.00% mSpread = 0.0000%\n",
      "Getting extended results...\n"
     ]
    },
    {
     "name": "stderr",
     "output_type": "stream",
     "text": [
      "100%|██████████████████████████████████████████████████████████████████████████| 18586/18586 [00:03<00:00, 4753.83it/s]\n"
     ]
    },
    {
     "name": "stdout",
     "output_type": "stream",
     "text": [
      "Epoch = 10. Time index = 0. Threshold MC = 0.55. Threshold MD = 0.6\n",
      "RD = 8981 NZ = 14446 NZA = 18587 pNZ = 1.610% pNZA = 2.071% AD = 62.17% ADA = 48.32% NO = 4969 GSP = 57.25% NSP = 41.20%\n",
      "SI2 = -5.18 SI = -41.45 eGROI = 46.46% eROI = -91.46% eROI2 = -52.92% eROI3 = -102.61% mSpread = 0.0278%\n",
      "Getting extended results...\n"
     ]
    },
    {
     "name": "stderr",
     "output_type": "stream",
     "text": [
      "100%|████████████████████████████████████████████████████████████████████████████| 2897/2897 [00:00<00:00, 3557.12it/s]\n"
     ]
    },
    {
     "name": "stdout",
     "output_type": "stream",
     "text": [
      "Epoch = 10. Time index = 0. Threshold MC = 0.55. Threshold MD = 0.65\n",
      "RD = 1547 NZ = 2288 NZA = 2898 pNZ = 0.255% pNZA = 0.323% AD = 67.61% ADA = 53.38% NO = 1532 GSP = 61.16% NSP = 43.21%\n",
      "SI2 = -0.82 SI = -22.22 eGROI = 30.22% eROI = -16.74% eROI2 = -0.42% eROI3 = -15.74% mSpread = 0.0307%\n",
      "Getting extended results...\n"
     ]
    },
    {
     "name": "stderr",
     "output_type": "stream",
     "text": [
      "100%|██████████████████████████████████████████████████████████████████████████████| 314/314 [00:00<00:00, 2232.80it/s]\n"
     ]
    },
    {
     "name": "stdout",
     "output_type": "stream",
     "text": [
      "Epoch = 10. Time index = 0. Threshold MC = 0.55. Threshold MD = 0.7\n",
      "RD = 208 NZ = 277 NZA = 315 pNZ = 0.031% pNZA = 0.035% AD = 75.09% ADA = 66.03% NO = 276 GSP = 63.41% NSP = 44.93%\n",
      "SI2 = 1.32 SI = -9.12 eGROI = 4.66% eROI = -4.44% eROI2 = -0.86% eROI3 = -3.62% mSpread = 0.0330%\n",
      "Getting extended results...\n"
     ]
    },
    {
     "name": "stderr",
     "output_type": "stream",
     "text": [
      "100%|█████████████████████████████████████████████████████████████████████████████████| 36/36 [00:00<00:00, 949.95it/s]\n"
     ]
    },
    {
     "name": "stdout",
     "output_type": "stream",
     "text": [
      "Epoch = 10. Time index = 0. Threshold MC = 0.55. Threshold MD = 0.75\n",
      "RD = 27 NZ = 35 NZA = 37 pNZ = 0.004% pNZA = 0.004% AD = 77.14% ADA = 72.97% NO = 36 GSP = 61.11% NSP = 47.22%\n",
      "SI2 = 0.67 SI = -3.09 eGROI = 0.63% eROI = -0.65% eROI2 = -0.09% eROI3 = -0.45% mSpread = 0.0354%\n",
      "Getting extended results...\n"
     ]
    },
    {
     "name": "stderr",
     "output_type": "stream",
     "text": [
      "100%|███████████████████████████████████████████████████████████████████████████████████| 3/3 [00:00<00:00, 752.03it/s]\n"
     ]
    },
    {
     "name": "stdout",
     "output_type": "stream",
     "text": [
      "Epoch = 10. Time index = 0. Threshold MC = 0.55. Threshold MD = 0.8\n",
      "RD = 3 NZ = 4 NZA = 4 pNZ = 0.000% pNZA = 0.000% AD = 75.00% ADA = 75.00% NO = 4 GSP = 50.00% NSP = 50.00%\n",
      "SI2 = 0.00 SI = -0.75 eGROI = 0.21% eROI = 0.02% eROI2 = 0.13% eROI3 = 0.09% mSpread = 0.0482%\n",
      "Getting extended results...\n"
     ]
    },
    {
     "name": "stderr",
     "output_type": "stream",
     "text": [
      "0it [00:00, ?it/s]\n"
     ]
    },
    {
     "name": "stdout",
     "output_type": "stream",
     "text": [
      "Epoch = 10. Time index = 0. Threshold MC = 0.55. Threshold MD = 0.85\n",
      "RD = 0 NZ = 0 NZA = 0 pNZ = 0.000% pNZA = 0.000% AD = 0.00% ADA = 0.00% NO = 1 GSP = 0.00% NSP = 0.00%\n",
      "SI2 = 0.00 SI = -1.00 eGROI = 0.00% eROI = 0.00% eROI2 = 0.00% eROI3 = 0.00% mSpread = 0.0000%\n",
      "Getting extended results...\n"
     ]
    },
    {
     "name": "stderr",
     "output_type": "stream",
     "text": [
      "0it [00:00, ?it/s]\n"
     ]
    },
    {
     "name": "stdout",
     "output_type": "stream",
     "text": [
      "Epoch = 10. Time index = 0. Threshold MC = 0.55. Threshold MD = 0.9\n",
      "RD = 0 NZ = 0 NZA = 0 pNZ = 0.000% pNZA = 0.000% AD = 0.00% ADA = 0.00% NO = 1 GSP = 0.00% NSP = 0.00%\n",
      "SI2 = 0.00 SI = -1.00 eGROI = 0.00% eROI = 0.00% eROI2 = 0.00% eROI3 = 0.00% mSpread = 0.0000%\n",
      "Getting extended results...\n"
     ]
    },
    {
     "name": "stderr",
     "output_type": "stream",
     "text": [
      "0it [00:00, ?it/s]\n"
     ]
    },
    {
     "name": "stdout",
     "output_type": "stream",
     "text": [
      "Epoch = 10. Time index = 0. Threshold MC = 0.55. Threshold MD = 0.95\n",
      "RD = 0 NZ = 0 NZA = 0 pNZ = 0.000% pNZA = 0.000% AD = 0.00% ADA = 0.00% NO = 1 GSP = 0.00% NSP = 0.00%\n",
      "SI2 = 0.00 SI = -1.00 eGROI = 0.00% eROI = 0.00% eROI2 = 0.00% eROI3 = 0.00% mSpread = 0.0000%\n",
      "\n",
      "Getting extended results...\n"
     ]
    },
    {
     "name": "stderr",
     "output_type": "stream",
     "text": [
      "0it [00:00, ?it/s]\n"
     ]
    },
    {
     "name": "stdout",
     "output_type": "stream",
     "text": [
      "Epoch = 10. Time index = 0. Threshold MC = 0.6. Threshold MD = 0.5\n",
      "RD = 373828 NZ = 717411 NZA = 894415 pNZ = 79.952% pNZA = 99.678% AD = 52.11% ADA = 41.80% NO = 1 GSP = 0.00% NSP = 0.00%\n",
      "SI2 = 0.00 SI = -1.00 eGROI = 0.00% eROI = 0.00% eROI2 = 0.00% eROI3 = 0.00% mSpread = 0.0000%\n",
      "Getting extended results...\n"
     ]
    },
    {
     "name": "stderr",
     "output_type": "stream",
     "text": [
      "0it [00:00, ?it/s]\n"
     ]
    },
    {
     "name": "stdout",
     "output_type": "stream",
     "text": [
      "Epoch = 10. Time index = 0. Threshold MC = 0.6. Threshold MD = 0.55\n",
      "RD = 56984 NZ = 101312 NZA = 128648 pNZ = 11.291% pNZA = 14.337% AD = 56.25% ADA = 44.29% NO = 1 GSP = 0.00% NSP = 0.00%\n",
      "SI2 = 0.00 SI = -1.00 eGROI = 0.00% eROI = 0.00% eROI2 = 0.00% eROI3 = 0.00% mSpread = 0.0000%\n",
      "Getting extended results...\n"
     ]
    },
    {
     "name": "stderr",
     "output_type": "stream",
     "text": [
      "100%|██████████████████████████████████████████████████████████████████████████| 18454/18454 [00:03<00:00, 4756.46it/s]\n"
     ]
    },
    {
     "name": "stdout",
     "output_type": "stream",
     "text": [
      "Epoch = 10. Time index = 0. Threshold MC = 0.6. Threshold MD = 0.6\n",
      "RD = 8930 NZ = 14367 NZA = 18455 pNZ = 1.601% pNZA = 2.057% AD = 62.16% ADA = 48.39% NO = 4953 GSP = 57.32% NSP = 41.39%\n",
      "SI2 = -5.07 SI = -41.24 eGROI = 47.20% eROI = -90.31% eROI2 = -51.86% eROI3 = -101.39% mSpread = 0.0278%\n",
      "Getting extended results...\n"
     ]
    },
    {
     "name": "stderr",
     "output_type": "stream",
     "text": [
      "100%|████████████████████████████████████████████████████████████████████████████| 2892/2892 [00:00<00:00, 3601.82it/s]\n"
     ]
    },
    {
     "name": "stdout",
     "output_type": "stream",
     "text": [
      "Epoch = 10. Time index = 0. Threshold MC = 0.6. Threshold MD = 0.65\n",
      "RD = 1543 NZ = 2284 NZA = 2893 pNZ = 0.255% pNZA = 0.322% AD = 67.56% ADA = 53.34% NO = 1530 GSP = 61.18% NSP = 43.20%\n",
      "SI2 = -0.87 SI = -22.21 eGROI = 30.15% eROI = -16.71% eROI2 = -0.45% eROI3 = -15.75% mSpread = 0.0306%\n",
      "Getting extended results...\n"
     ]
    },
    {
     "name": "stderr",
     "output_type": "stream",
     "text": [
      "100%|██████████████████████████████████████████████████████████████████████████████| 314/314 [00:00<00:00, 2332.08it/s]\n"
     ]
    },
    {
     "name": "stdout",
     "output_type": "stream",
     "text": [
      "Epoch = 10. Time index = 0. Threshold MC = 0.6. Threshold MD = 0.7\n",
      "RD = 208 NZ = 277 NZA = 315 pNZ = 0.031% pNZA = 0.035% AD = 75.09% ADA = 66.03% NO = 276 GSP = 63.41% NSP = 44.93%\n",
      "SI2 = 1.32 SI = -9.12 eGROI = 4.66% eROI = -4.44% eROI2 = -0.86% eROI3 = -3.62% mSpread = 0.0330%\n",
      "Getting extended results...\n"
     ]
    },
    {
     "name": "stderr",
     "output_type": "stream",
     "text": [
      "100%|████████████████████████████████████████████████████████████████████████████████| 36/36 [00:00<00:00, 1503.98it/s]\n"
     ]
    },
    {
     "name": "stdout",
     "output_type": "stream",
     "text": [
      "Epoch = 10. Time index = 0. Threshold MC = 0.6. Threshold MD = 0.75\n",
      "RD = 27 NZ = 35 NZA = 37 pNZ = 0.004% pNZA = 0.004% AD = 77.14% ADA = 72.97% NO = 36 GSP = 61.11% NSP = 47.22%\n",
      "SI2 = 0.67 SI = -3.09 eGROI = 0.63% eROI = -0.65% eROI2 = -0.09% eROI3 = -0.45% mSpread = 0.0354%\n",
      "Getting extended results...\n"
     ]
    },
    {
     "name": "stderr",
     "output_type": "stream",
     "text": [
      "100%|██████████████████████████████████████████████████████████████████████████████████| 3/3 [00:00<00:00, 1503.16it/s]\n"
     ]
    },
    {
     "name": "stdout",
     "output_type": "stream",
     "text": [
      "Epoch = 10. Time index = 0. Threshold MC = 0.6. Threshold MD = 0.8\n",
      "RD = 3 NZ = 4 NZA = 4 pNZ = 0.000% pNZA = 0.000% AD = 75.00% ADA = 75.00% NO = 4 GSP = 50.00% NSP = 50.00%\n",
      "SI2 = 0.00 SI = -0.75 eGROI = 0.21% eROI = 0.02% eROI2 = 0.13% eROI3 = 0.09% mSpread = 0.0482%\n",
      "Getting extended results...\n"
     ]
    },
    {
     "name": "stderr",
     "output_type": "stream",
     "text": [
      "0it [00:00, ?it/s]\n"
     ]
    },
    {
     "name": "stdout",
     "output_type": "stream",
     "text": [
      "Epoch = 10. Time index = 0. Threshold MC = 0.6. Threshold MD = 0.85\n",
      "RD = 0 NZ = 0 NZA = 0 pNZ = 0.000% pNZA = 0.000% AD = 0.00% ADA = 0.00% NO = 1 GSP = 0.00% NSP = 0.00%\n",
      "SI2 = 0.00 SI = -1.00 eGROI = 0.00% eROI = 0.00% eROI2 = 0.00% eROI3 = 0.00% mSpread = 0.0000%\n",
      "Getting extended results...\n"
     ]
    },
    {
     "name": "stderr",
     "output_type": "stream",
     "text": [
      "0it [00:00, ?it/s]\n"
     ]
    },
    {
     "name": "stdout",
     "output_type": "stream",
     "text": [
      "Epoch = 10. Time index = 0. Threshold MC = 0.6. Threshold MD = 0.9\n",
      "RD = 0 NZ = 0 NZA = 0 pNZ = 0.000% pNZA = 0.000% AD = 0.00% ADA = 0.00% NO = 1 GSP = 0.00% NSP = 0.00%\n",
      "SI2 = 0.00 SI = -1.00 eGROI = 0.00% eROI = 0.00% eROI2 = 0.00% eROI3 = 0.00% mSpread = 0.0000%\n",
      "Getting extended results...\n"
     ]
    },
    {
     "name": "stderr",
     "output_type": "stream",
     "text": [
      "0it [00:00, ?it/s]\n"
     ]
    },
    {
     "name": "stdout",
     "output_type": "stream",
     "text": [
      "Epoch = 10. Time index = 0. Threshold MC = 0.6. Threshold MD = 0.95\n",
      "RD = 0 NZ = 0 NZA = 0 pNZ = 0.000% pNZA = 0.000% AD = 0.00% ADA = 0.00% NO = 1 GSP = 0.00% NSP = 0.00%\n",
      "SI2 = 0.00 SI = -1.00 eGROI = 0.00% eROI = 0.00% eROI2 = 0.00% eROI3 = 0.00% mSpread = 0.0000%\n",
      "\n",
      "Getting extended results...\n"
     ]
    },
    {
     "name": "stderr",
     "output_type": "stream",
     "text": [
      "0it [00:00, ?it/s]\n"
     ]
    },
    {
     "name": "stdout",
     "output_type": "stream",
     "text": [
      "Epoch = 10. Time index = 0. Threshold MC = 0.65. Threshold MD = 0.5\n",
      "RD = 371145 NZ = 712419 NZA = 886275 pNZ = 79.395% pNZA = 98.771% AD = 52.10% ADA = 41.88% NO = 1 GSP = 0.00% NSP = 0.00%\n",
      "SI2 = 0.00 SI = -1.00 eGROI = 0.00% eROI = 0.00% eROI2 = 0.00% eROI3 = 0.00% mSpread = 0.0000%\n",
      "Getting extended results...\n"
     ]
    },
    {
     "name": "stderr",
     "output_type": "stream",
     "text": [
      "0it [00:00, ?it/s]\n"
     ]
    },
    {
     "name": "stdout",
     "output_type": "stream",
     "text": [
      "Epoch = 10. Time index = 0. Threshold MC = 0.65. Threshold MD = 0.55\n",
      "RD = 55912 NZ = 99501 NZA = 125828 pNZ = 11.089% pNZA = 14.023% AD = 56.19% ADA = 44.44% NO = 1 GSP = 0.00% NSP = 0.00%\n",
      "SI2 = 0.00 SI = -1.00 eGROI = 0.00% eROI = 0.00% eROI2 = 0.00% eROI3 = 0.00% mSpread = 0.0000%\n",
      "Getting extended results...\n"
     ]
    },
    {
     "name": "stderr",
     "output_type": "stream",
     "text": [
      "100%|██████████████████████████████████████████████████████████████████████████| 17782/17782 [00:04<00:00, 4272.44it/s]\n"
     ]
    },
    {
     "name": "stdout",
     "output_type": "stream",
     "text": [
      "Epoch = 10. Time index = 0. Threshold MC = 0.65. Threshold MD = 0.6\n",
      "RD = 8657 NZ = 13927 NZA = 17783 pNZ = 1.552% pNZA = 1.982% AD = 62.16% ADA = 48.68% NO = 4894 GSP = 57.52% NSP = 41.70%\n",
      "SI2 = -4.55 SI = -40.78 eGROI = 48.35% eROI = -87.81% eROI2 = -49.53% eROI3 = -98.47% mSpread = 0.0278%\n",
      "Getting extended results...\n"
     ]
    },
    {
     "name": "stderr",
     "output_type": "stream",
     "text": [
      "100%|████████████████████████████████████████████████████████████████████████████| 2822/2822 [00:00<00:00, 3787.74it/s]\n"
     ]
    },
    {
     "name": "stdout",
     "output_type": "stream",
     "text": [
      "Epoch = 10. Time index = 0. Threshold MC = 0.65. Threshold MD = 0.65\n",
      "RD = 1512 NZ = 2240 NZA = 2823 pNZ = 0.250% pNZA = 0.315% AD = 67.50% ADA = 53.56% NO = 1507 GSP = 61.38% NSP = 43.33%\n",
      "SI2 = -0.64 SI = -21.99 eGROI = 30.19% eROI = -16.02% eROI2 = 0.05% eROI3 = -15.02% mSpread = 0.0307%\n",
      "Getting extended results...\n"
     ]
    },
    {
     "name": "stderr",
     "output_type": "stream",
     "text": [
      "100%|██████████████████████████████████████████████████████████████████████████████| 314/314 [00:00<00:00, 2667.98it/s]\n"
     ]
    },
    {
     "name": "stdout",
     "output_type": "stream",
     "text": [
      "Epoch = 10. Time index = 0. Threshold MC = 0.65. Threshold MD = 0.7\n",
      "RD = 208 NZ = 277 NZA = 315 pNZ = 0.031% pNZA = 0.035% AD = 75.09% ADA = 66.03% NO = 276 GSP = 63.41% NSP = 44.93%\n",
      "SI2 = 1.32 SI = -9.12 eGROI = 4.66% eROI = -4.44% eROI2 = -0.86% eROI3 = -3.62% mSpread = 0.0330%\n",
      "Getting extended results...\n"
     ]
    },
    {
     "name": "stderr",
     "output_type": "stream",
     "text": [
      "100%|████████████████████████████████████████████████████████████████████████████████| 36/36 [00:00<00:00, 1899.67it/s]\n"
     ]
    },
    {
     "name": "stdout",
     "output_type": "stream",
     "text": [
      "Epoch = 10. Time index = 0. Threshold MC = 0.65. Threshold MD = 0.75\n",
      "RD = 27 NZ = 35 NZA = 37 pNZ = 0.004% pNZA = 0.004% AD = 77.14% ADA = 72.97% NO = 36 GSP = 61.11% NSP = 47.22%\n",
      "SI2 = 0.67 SI = -3.09 eGROI = 0.63% eROI = -0.65% eROI2 = -0.09% eROI3 = -0.45% mSpread = 0.0354%\n",
      "Getting extended results...\n"
     ]
    },
    {
     "name": "stderr",
     "output_type": "stream",
     "text": [
      "100%|██████████████████████████████████████████████████████████████████████████████████| 3/3 [00:00<00:00, 1002.22it/s]\n"
     ]
    },
    {
     "name": "stdout",
     "output_type": "stream",
     "text": [
      "Epoch = 10. Time index = 0. Threshold MC = 0.65. Threshold MD = 0.8\n",
      "RD = 3 NZ = 4 NZA = 4 pNZ = 0.000% pNZA = 0.000% AD = 75.00% ADA = 75.00% NO = 4 GSP = 50.00% NSP = 50.00%\n",
      "SI2 = 0.00 SI = -0.75 eGROI = 0.21% eROI = 0.02% eROI2 = 0.13% eROI3 = 0.09% mSpread = 0.0482%\n",
      "Getting extended results...\n"
     ]
    },
    {
     "name": "stderr",
     "output_type": "stream",
     "text": [
      "0it [00:00, ?it/s]\n"
     ]
    },
    {
     "name": "stdout",
     "output_type": "stream",
     "text": [
      "Epoch = 10. Time index = 0. Threshold MC = 0.65. Threshold MD = 0.85\n",
      "RD = 0 NZ = 0 NZA = 0 pNZ = 0.000% pNZA = 0.000% AD = 0.00% ADA = 0.00% NO = 1 GSP = 0.00% NSP = 0.00%\n",
      "SI2 = 0.00 SI = -1.00 eGROI = 0.00% eROI = 0.00% eROI2 = 0.00% eROI3 = 0.00% mSpread = 0.0000%\n",
      "Getting extended results...\n"
     ]
    },
    {
     "name": "stderr",
     "output_type": "stream",
     "text": [
      "0it [00:00, ?it/s]\n"
     ]
    },
    {
     "name": "stdout",
     "output_type": "stream",
     "text": [
      "Epoch = 10. Time index = 0. Threshold MC = 0.65. Threshold MD = 0.9\n",
      "RD = 0 NZ = 0 NZA = 0 pNZ = 0.000% pNZA = 0.000% AD = 0.00% ADA = 0.00% NO = 1 GSP = 0.00% NSP = 0.00%\n",
      "SI2 = 0.00 SI = -1.00 eGROI = 0.00% eROI = 0.00% eROI2 = 0.00% eROI3 = 0.00% mSpread = 0.0000%\n",
      "Getting extended results...\n"
     ]
    },
    {
     "name": "stderr",
     "output_type": "stream",
     "text": [
      "0it [00:00, ?it/s]\n"
     ]
    },
    {
     "name": "stdout",
     "output_type": "stream",
     "text": [
      "Epoch = 10. Time index = 0. Threshold MC = 0.65. Threshold MD = 0.95\n",
      "RD = 0 NZ = 0 NZA = 0 pNZ = 0.000% pNZA = 0.000% AD = 0.00% ADA = 0.00% NO = 1 GSP = 0.00% NSP = 0.00%\n",
      "SI2 = 0.00 SI = -1.00 eGROI = 0.00% eROI = 0.00% eROI2 = 0.00% eROI3 = 0.00% mSpread = 0.0000%\n",
      "\n",
      "Getting extended results...\n"
     ]
    },
    {
     "name": "stderr",
     "output_type": "stream",
     "text": [
      "0it [00:00, ?it/s]\n"
     ]
    },
    {
     "name": "stdout",
     "output_type": "stream",
     "text": [
      "Epoch = 10. Time index = 0. Threshold MC = 0.7. Threshold MD = 0.5\n",
      "RD = 362601 NZ = 696731 NZA = 862150 pNZ = 77.647% pNZA = 96.082% AD = 52.04% ADA = 42.06% NO = 1 GSP = 0.00% NSP = 0.00%\n",
      "SI2 = 0.00 SI = -1.00 eGROI = 0.00% eROI = 0.00% eROI2 = 0.00% eROI3 = 0.00% mSpread = 0.0000%\n",
      "Getting extended results...\n"
     ]
    },
    {
     "name": "stderr",
     "output_type": "stream",
     "text": [
      "0it [00:00, ?it/s]\n"
     ]
    },
    {
     "name": "stdout",
     "output_type": "stream",
     "text": [
      "Epoch = 10. Time index = 0. Threshold MC = 0.7. Threshold MD = 0.55\n",
      "RD = 52693 NZ = 94000 NZA = 117548 pNZ = 10.476% pNZA = 13.100% AD = 56.06% ADA = 44.83% NO = 1 GSP = 0.00% NSP = 0.00%\n",
      "SI2 = 0.00 SI = -1.00 eGROI = 0.00% eROI = 0.00% eROI2 = 0.00% eROI3 = 0.00% mSpread = 0.0000%\n",
      "Getting extended results...\n"
     ]
    },
    {
     "name": "stderr",
     "output_type": "stream",
     "text": [
      "100%|██████████████████████████████████████████████████████████████████████████| 15661/15661 [00:03<00:00, 4539.49it/s]\n"
     ]
    },
    {
     "name": "stdout",
     "output_type": "stream",
     "text": [
      "Epoch = 10. Time index = 0. Threshold MC = 0.7. Threshold MD = 0.6\n",
      "RD = 7738 NZ = 12514 NZA = 15662 pNZ = 1.395% pNZA = 1.745% AD = 61.83% ADA = 49.41% NO = 4724 GSP = 57.81% NSP = 41.57%\n",
      "SI2 = -4.77 SI = -40.15 eGROI = 47.46% eROI = -84.74% eROI2 = -47.02% eROI3 = -94.26% mSpread = 0.0280%\n",
      "Getting extended results...\n"
     ]
    },
    {
     "name": "stderr",
     "output_type": "stream",
     "text": [
      "100%|████████████████████████████████████████████████████████████████████████████| 2507/2507 [00:00<00:00, 3797.00it/s]\n"
     ]
    },
    {
     "name": "stdout",
     "output_type": "stream",
     "text": [
      "Epoch = 10. Time index = 0. Threshold MC = 0.7. Threshold MD = 0.65\n",
      "RD = 1373 NZ = 2034 NZA = 2508 pNZ = 0.227% pNZA = 0.280% AD = 67.50% ADA = 54.74% NO = 1381 GSP = 61.33% NSP = 42.94%\n",
      "SI2 = -0.62 SI = -21.19 eGROI = 28.75% eROI = -13.91% eROI2 = 1.13% eROI3 = -12.68% mSpread = 0.0309%\n",
      "Getting extended results...\n"
     ]
    },
    {
     "name": "stderr",
     "output_type": "stream",
     "text": [
      "100%|██████████████████████████████████████████████████████████████████████████████| 308/308 [00:00<00:00, 2968.24it/s]\n"
     ]
    },
    {
     "name": "stdout",
     "output_type": "stream",
     "text": [
      "Epoch = 10. Time index = 0. Threshold MC = 0.7. Threshold MD = 0.7\n",
      "RD = 204 NZ = 272 NZA = 309 pNZ = 0.030% pNZA = 0.034% AD = 75.00% ADA = 66.02% NO = 270 GSP = 63.33% NSP = 44.44%\n",
      "SI2 = 1.22 SI = -9.10 eGROI = 4.46% eROI = -4.50% eROI2 = -0.94% eROI3 = -3.64% mSpread = 0.0332%\n",
      "Getting extended results...\n"
     ]
    },
    {
     "name": "stderr",
     "output_type": "stream",
     "text": [
      "100%|████████████████████████████████████████████████████████████████████████████████| 36/36 [00:00<00:00, 1718.94it/s]\n"
     ]
    },
    {
     "name": "stdout",
     "output_type": "stream",
     "text": [
      "Epoch = 10. Time index = 0. Threshold MC = 0.7. Threshold MD = 0.75\n",
      "RD = 27 NZ = 35 NZA = 37 pNZ = 0.004% pNZA = 0.004% AD = 77.14% ADA = 72.97% NO = 36 GSP = 61.11% NSP = 47.22%\n",
      "SI2 = 0.67 SI = -3.09 eGROI = 0.63% eROI = -0.65% eROI2 = -0.09% eROI3 = -0.45% mSpread = 0.0354%\n",
      "Getting extended results...\n"
     ]
    },
    {
     "name": "stderr",
     "output_type": "stream",
     "text": [
      "100%|███████████████████████████████████████████████████████████████████████████████████| 3/3 [00:00<00:00, 751.94it/s]\n"
     ]
    },
    {
     "name": "stdout",
     "output_type": "stream",
     "text": [
      "Epoch = 10. Time index = 0. Threshold MC = 0.7. Threshold MD = 0.8\n",
      "RD = 3 NZ = 4 NZA = 4 pNZ = 0.000% pNZA = 0.000% AD = 75.00% ADA = 75.00% NO = 4 GSP = 50.00% NSP = 50.00%\n",
      "SI2 = 0.00 SI = -0.75 eGROI = 0.21% eROI = 0.02% eROI2 = 0.13% eROI3 = 0.09% mSpread = 0.0482%\n",
      "Getting extended results...\n"
     ]
    },
    {
     "name": "stderr",
     "output_type": "stream",
     "text": [
      "0it [00:00, ?it/s]\n"
     ]
    },
    {
     "name": "stdout",
     "output_type": "stream",
     "text": [
      "Epoch = 10. Time index = 0. Threshold MC = 0.7. Threshold MD = 0.85\n",
      "RD = 0 NZ = 0 NZA = 0 pNZ = 0.000% pNZA = 0.000% AD = 0.00% ADA = 0.00% NO = 1 GSP = 0.00% NSP = 0.00%\n",
      "SI2 = 0.00 SI = -1.00 eGROI = 0.00% eROI = 0.00% eROI2 = 0.00% eROI3 = 0.00% mSpread = 0.0000%\n",
      "Getting extended results...\n"
     ]
    },
    {
     "name": "stderr",
     "output_type": "stream",
     "text": [
      "0it [00:00, ?it/s]\n"
     ]
    },
    {
     "name": "stdout",
     "output_type": "stream",
     "text": [
      "Epoch = 10. Time index = 0. Threshold MC = 0.7. Threshold MD = 0.9\n",
      "RD = 0 NZ = 0 NZA = 0 pNZ = 0.000% pNZA = 0.000% AD = 0.00% ADA = 0.00% NO = 1 GSP = 0.00% NSP = 0.00%\n",
      "SI2 = 0.00 SI = -1.00 eGROI = 0.00% eROI = 0.00% eROI2 = 0.00% eROI3 = 0.00% mSpread = 0.0000%\n",
      "Getting extended results...\n"
     ]
    },
    {
     "name": "stderr",
     "output_type": "stream",
     "text": [
      "0it [00:00, ?it/s]\n"
     ]
    },
    {
     "name": "stdout",
     "output_type": "stream",
     "text": [
      "Epoch = 10. Time index = 0. Threshold MC = 0.7. Threshold MD = 0.95\n",
      "RD = 0 NZ = 0 NZA = 0 pNZ = 0.000% pNZA = 0.000% AD = 0.00% ADA = 0.00% NO = 1 GSP = 0.00% NSP = 0.00%\n",
      "SI2 = 0.00 SI = -1.00 eGROI = 0.00% eROI = 0.00% eROI2 = 0.00% eROI3 = 0.00% mSpread = 0.0000%\n",
      "\n",
      "Getting extended results...\n"
     ]
    },
    {
     "name": "stderr",
     "output_type": "stream",
     "text": [
      "0it [00:00, ?it/s]\n"
     ]
    },
    {
     "name": "stdout",
     "output_type": "stream",
     "text": [
      "Epoch = 10. Time index = 0. Threshold MC = 0.75. Threshold MD = 0.5\n",
      "RD = 340014 NZ = 654114 NZA = 801147 pNZ = 72.897% pNZA = 89.283% AD = 51.98% ADA = 42.44% NO = 1 GSP = 0.00% NSP = 0.00%\n",
      "SI2 = 0.00 SI = -1.00 eGROI = 0.00% eROI = 0.00% eROI2 = 0.00% eROI3 = 0.00% mSpread = 0.0000%\n",
      "Getting extended results...\n"
     ]
    },
    {
     "name": "stderr",
     "output_type": "stream",
     "text": [
      "0it [00:00, ?it/s]\n"
     ]
    },
    {
     "name": "stdout",
     "output_type": "stream",
     "text": [
      "Epoch = 10. Time index = 0. Threshold MC = 0.75. Threshold MD = 0.55\n",
      "RD = 45410 NZ = 81056 NZA = 99369 pNZ = 9.033% pNZA = 11.074% AD = 56.02% ADA = 45.70% NO = 1 GSP = 0.00% NSP = 0.00%\n",
      "SI2 = 0.00 SI = -1.00 eGROI = 0.00% eROI = 0.00% eROI2 = 0.00% eROI3 = 0.00% mSpread = 0.0000%\n",
      "Getting extended results...\n"
     ]
    },
    {
     "name": "stderr",
     "output_type": "stream",
     "text": [
      "100%|██████████████████████████████████████████████████████████████████████████| 11771/11771 [00:02<00:00, 4391.05it/s]\n"
     ]
    },
    {
     "name": "stdout",
     "output_type": "stream",
     "text": [
      "Epoch = 10. Time index = 0. Threshold MC = 0.75. Threshold MD = 0.6\n",
      "RD = 6007 NZ = 9684 NZA = 11772 pNZ = 1.079% pNZA = 1.312% AD = 62.03% ADA = 51.03% NO = 4108 GSP = 57.30% NSP = 41.99%\n",
      "SI2 = -3.99 SI = -37.17 eGROI = 42.62% eROI = -72.26% eROI2 = -39.54% eROI3 = -80.62% mSpread = 0.0280%\n",
      "Getting extended results...\n"
     ]
    },
    {
     "name": "stderr",
     "output_type": "stream",
     "text": [
      "100%|████████████████████████████████████████████████████████████████████████████| 1906/1906 [00:00<00:00, 2400.81it/s]\n"
     ]
    },
    {
     "name": "stdout",
     "output_type": "stream",
     "text": [
      "Epoch = 10. Time index = 0. Threshold MC = 0.75. Threshold MD = 0.65\n",
      "RD = 1080 NZ = 1587 NZA = 1907 pNZ = 0.177% pNZA = 0.213% AD = 68.05% ADA = 56.63% NO = 1134 GSP = 61.90% NSP = 44.80%\n",
      "SI2 = 0.36 SI = -18.58 eGROI = 25.63% eROI = -9.01% eROI2 = 2.95% eROI3 = -8.39% mSpread = 0.0306%\n",
      "Getting extended results...\n"
     ]
    },
    {
     "name": "stderr",
     "output_type": "stream",
     "text": [
      "100%|██████████████████████████████████████████████████████████████████████████████| 272/272 [00:00<00:00, 2552.68it/s]\n"
     ]
    },
    {
     "name": "stdout",
     "output_type": "stream",
     "text": [
      "Epoch = 10. Time index = 0. Threshold MC = 0.75. Threshold MD = 0.7\n",
      "RD = 181 NZ = 242 NZA = 273 pNZ = 0.027% pNZA = 0.030% AD = 74.79% ADA = 66.30% NO = 244 GSP = 63.11% NSP = 45.90%\n",
      "SI2 = 1.15 SI = -8.42 eGROI = 3.83% eROI = -4.20% eROI2 = -1.05% eROI3 = -3.49% mSpread = 0.0329%\n",
      "Getting extended results...\n"
     ]
    },
    {
     "name": "stderr",
     "output_type": "stream",
     "text": [
      "100%|████████████████████████████████████████████████████████████████████████████████| 35/35 [00:00<00:00, 1754.56it/s]\n"
     ]
    },
    {
     "name": "stdout",
     "output_type": "stream",
     "text": [
      "Epoch = 10. Time index = 0. Threshold MC = 0.75. Threshold MD = 0.75\n",
      "RD = 27 NZ = 34 NZA = 36 pNZ = 0.004% pNZA = 0.004% AD = 79.41% ADA = 75.00% NO = 36 GSP = 61.11% NSP = 47.22%\n",
      "SI2 = 0.67 SI = -3.09 eGROI = 0.60% eROI = -0.67% eROI2 = -0.12% eROI3 = -0.48% mSpread = 0.0354%\n",
      "Getting extended results...\n"
     ]
    },
    {
     "name": "stderr",
     "output_type": "stream",
     "text": [
      "100%|██████████████████████████████████████████████████████████████████████████████████| 3/3 [00:00<00:00, 1503.87it/s]\n"
     ]
    },
    {
     "name": "stdout",
     "output_type": "stream",
     "text": [
      "Epoch = 10. Time index = 0. Threshold MC = 0.75. Threshold MD = 0.8\n",
      "RD = 3 NZ = 4 NZA = 4 pNZ = 0.000% pNZA = 0.000% AD = 75.00% ADA = 75.00% NO = 4 GSP = 50.00% NSP = 50.00%\n",
      "SI2 = 0.00 SI = -0.75 eGROI = 0.21% eROI = 0.02% eROI2 = 0.13% eROI3 = 0.09% mSpread = 0.0482%\n",
      "Getting extended results...\n"
     ]
    },
    {
     "name": "stderr",
     "output_type": "stream",
     "text": [
      "0it [00:00, ?it/s]\n"
     ]
    },
    {
     "name": "stdout",
     "output_type": "stream",
     "text": [
      "Epoch = 10. Time index = 0. Threshold MC = 0.75. Threshold MD = 0.85\n",
      "RD = 0 NZ = 0 NZA = 0 pNZ = 0.000% pNZA = 0.000% AD = 0.00% ADA = 0.00% NO = 1 GSP = 0.00% NSP = 0.00%\n",
      "SI2 = 0.00 SI = -1.00 eGROI = 0.00% eROI = 0.00% eROI2 = 0.00% eROI3 = 0.00% mSpread = 0.0000%\n",
      "Getting extended results...\n"
     ]
    },
    {
     "name": "stderr",
     "output_type": "stream",
     "text": [
      "0it [00:00, ?it/s]\n"
     ]
    },
    {
     "name": "stdout",
     "output_type": "stream",
     "text": [
      "Epoch = 10. Time index = 0. Threshold MC = 0.75. Threshold MD = 0.9\n",
      "RD = 0 NZ = 0 NZA = 0 pNZ = 0.000% pNZA = 0.000% AD = 0.00% ADA = 0.00% NO = 1 GSP = 0.00% NSP = 0.00%\n",
      "SI2 = 0.00 SI = -1.00 eGROI = 0.00% eROI = 0.00% eROI2 = 0.00% eROI3 = 0.00% mSpread = 0.0000%\n",
      "Getting extended results...\n"
     ]
    },
    {
     "name": "stderr",
     "output_type": "stream",
     "text": [
      "0it [00:00, ?it/s]\n"
     ]
    },
    {
     "name": "stdout",
     "output_type": "stream",
     "text": [
      "Epoch = 10. Time index = 0. Threshold MC = 0.75. Threshold MD = 0.95\n",
      "RD = 0 NZ = 0 NZA = 0 pNZ = 0.000% pNZA = 0.000% AD = 0.00% ADA = 0.00% NO = 1 GSP = 0.00% NSP = 0.00%\n",
      "SI2 = 0.00 SI = -1.00 eGROI = 0.00% eROI = 0.00% eROI2 = 0.00% eROI3 = 0.00% mSpread = 0.0000%\n",
      "\n",
      "Getting extended results...\n"
     ]
    },
    {
     "name": "stderr",
     "output_type": "stream",
     "text": [
      "0it [00:00, ?it/s]\n"
     ]
    },
    {
     "name": "stdout",
     "output_type": "stream",
     "text": [
      "Epoch = 10. Time index = 0. Threshold MC = 0.8. Threshold MD = 0.5\n",
      "RD = 276226 NZ = 532954 NZA = 641508 pNZ = 59.395% pNZA = 71.493% AD = 51.83% ADA = 43.06% NO = 1 GSP = 0.00% NSP = 0.00%\n",
      "SI2 = 0.00 SI = -1.00 eGROI = 0.00% eROI = 0.00% eROI2 = 0.00% eROI3 = 0.00% mSpread = 0.0000%\n",
      "Getting extended results...\n"
     ]
    },
    {
     "name": "stderr",
     "output_type": "stream",
     "text": [
      "100%|██████████████████████████████████████████████████████████████████████████| 68983/68983 [00:13<00:00, 5181.71it/s]\n"
     ]
    },
    {
     "name": "stdout",
     "output_type": "stream",
     "text": [
      "Epoch = 10. Time index = 0. Threshold MC = 0.8. Threshold MD = 0.55\n",
      "RD = 32478 NZ = 57939 NZA = 68984 pNZ = 6.457% pNZA = 7.688% AD = 56.06% ADA = 47.08% NO = 15310 GSP = 57.42% NSP = 45.10%\n",
      "SI2 = -5.37 SI = -67.92 eGROI = 118.81% eROI = -263.98% eROI2 = -187.39% eROI3 = -340.49% mSpread = 0.0250%\n",
      "Getting extended results...\n"
     ]
    },
    {
     "name": "stderr",
     "output_type": "stream",
     "text": [
      "100%|████████████████████████████████████████████████████████████████████████████| 7066/7066 [00:01<00:00, 4202.08it/s]\n"
     ]
    },
    {
     "name": "stdout",
     "output_type": "stream",
     "text": [
      "Epoch = 10. Time index = 0. Threshold MC = 0.8. Threshold MD = 0.6\n",
      "RD = 3767 NZ = 6048 NZA = 7067 pNZ = 0.674% pNZA = 0.788% AD = 62.29% ADA = 53.30% NO = 2951 GSP = 57.71% NSP = 43.54%\n",
      "SI2 = -1.82 SI = -30.66 eGROI = 31.22% eROI = -50.61% eROI2 = -27.80% eROI3 = -57.31% mSpread = 0.0277%\n",
      "Getting extended results...\n"
     ]
    },
    {
     "name": "stderr",
     "output_type": "stream",
     "text": [
      "100%|████████████████████████████████████████████████████████████████████████████| 1112/1112 [00:00<00:00, 3495.13it/s]\n"
     ]
    },
    {
     "name": "stdout",
     "output_type": "stream",
     "text": [
      "Epoch = 10. Time index = 0. Threshold MC = 0.8. Threshold MD = 0.65\n",
      "RD = 671 NZ = 966 NZA = 1113 pNZ = 0.108% pNZA = 0.124% AD = 69.46% ADA = 60.29% NO = 729 GSP = 61.87% NSP = 47.87%\n",
      "SI2 = 0.93 SI = -14.06 eGROI = 18.51% eROI = -3.55% eROI2 = 3.93% eROI3 = -3.36% mSpread = 0.0303%\n",
      "Getting extended results...\n"
     ]
    },
    {
     "name": "stderr",
     "output_type": "stream",
     "text": [
      "100%|██████████████████████████████████████████████████████████████████████████████| 201/201 [00:00<00:00, 1831.45it/s]\n"
     ]
    },
    {
     "name": "stdout",
     "output_type": "stream",
     "text": [
      "Epoch = 10. Time index = 0. Threshold MC = 0.8. Threshold MD = 0.7\n",
      "RD = 138 NZ = 184 NZA = 202 pNZ = 0.021% pNZA = 0.023% AD = 75.00% ADA = 68.32% NO = 186 GSP = 62.90% NSP = 46.24%\n",
      "SI2 = 1.32 SI = -7.30 eGROI = 2.29% eROI = -3.63% eROI2 = -1.43% eROI3 = -3.29% mSpread = 0.0318%\n",
      "Getting extended results...\n"
     ]
    },
    {
     "name": "stderr",
     "output_type": "stream",
     "text": [
      "100%|████████████████████████████████████████████████████████████████████████████████| 34/34 [00:00<00:00, 1623.35it/s]\n"
     ]
    },
    {
     "name": "stdout",
     "output_type": "stream",
     "text": [
      "Epoch = 10. Time index = 0. Threshold MC = 0.8. Threshold MD = 0.75\n",
      "RD = 26 NZ = 33 NZA = 35 pNZ = 0.004% pNZA = 0.004% AD = 78.79% ADA = 74.29% NO = 35 GSP = 62.86% NSP = 48.57%\n",
      "SI2 = 0.85 SI = -2.96 eGROI = 0.62% eROI = -0.60% eROI2 = -0.08% eROI3 = -0.43% mSpread = 0.0347%\n",
      "Getting extended results...\n"
     ]
    },
    {
     "name": "stderr",
     "output_type": "stream",
     "text": [
      "100%|██████████████████████████████████████████████████████████████████████████████████| 3/3 [00:00<00:00, 1506.39it/s]\n"
     ]
    },
    {
     "name": "stdout",
     "output_type": "stream",
     "text": [
      "Epoch = 10. Time index = 0. Threshold MC = 0.8. Threshold MD = 0.8\n",
      "RD = 3 NZ = 4 NZA = 4 pNZ = 0.000% pNZA = 0.000% AD = 75.00% ADA = 75.00% NO = 4 GSP = 50.00% NSP = 50.00%\n",
      "SI2 = 0.00 SI = -0.75 eGROI = 0.21% eROI = 0.02% eROI2 = 0.13% eROI3 = 0.09% mSpread = 0.0482%\n",
      "Getting extended results...\n"
     ]
    },
    {
     "name": "stderr",
     "output_type": "stream",
     "text": [
      "0it [00:00, ?it/s]\n"
     ]
    },
    {
     "name": "stdout",
     "output_type": "stream",
     "text": [
      "Epoch = 10. Time index = 0. Threshold MC = 0.8. Threshold MD = 0.85\n",
      "RD = 0 NZ = 0 NZA = 0 pNZ = 0.000% pNZA = 0.000% AD = 0.00% ADA = 0.00% NO = 1 GSP = 0.00% NSP = 0.00%\n",
      "SI2 = 0.00 SI = -1.00 eGROI = 0.00% eROI = 0.00% eROI2 = 0.00% eROI3 = 0.00% mSpread = 0.0000%\n",
      "Getting extended results...\n"
     ]
    },
    {
     "name": "stderr",
     "output_type": "stream",
     "text": [
      "0it [00:00, ?it/s]\n"
     ]
    },
    {
     "name": "stdout",
     "output_type": "stream",
     "text": [
      "Epoch = 10. Time index = 0. Threshold MC = 0.8. Threshold MD = 0.9\n",
      "RD = 0 NZ = 0 NZA = 0 pNZ = 0.000% pNZA = 0.000% AD = 0.00% ADA = 0.00% NO = 1 GSP = 0.00% NSP = 0.00%\n",
      "SI2 = 0.00 SI = -1.00 eGROI = 0.00% eROI = 0.00% eROI2 = 0.00% eROI3 = 0.00% mSpread = 0.0000%\n",
      "Getting extended results...\n"
     ]
    },
    {
     "name": "stderr",
     "output_type": "stream",
     "text": [
      "0it [00:00, ?it/s]\n"
     ]
    },
    {
     "name": "stdout",
     "output_type": "stream",
     "text": [
      "Epoch = 10. Time index = 0. Threshold MC = 0.8. Threshold MD = 0.95\n",
      "RD = 0 NZ = 0 NZA = 0 pNZ = 0.000% pNZA = 0.000% AD = 0.00% ADA = 0.00% NO = 1 GSP = 0.00% NSP = 0.00%\n",
      "SI2 = 0.00 SI = -1.00 eGROI = 0.00% eROI = 0.00% eROI2 = 0.00% eROI3 = 0.00% mSpread = 0.0000%\n",
      "\n",
      "Getting extended results...\n"
     ]
    },
    {
     "name": "stderr",
     "output_type": "stream",
     "text": [
      "0it [00:00, ?it/s]\n"
     ]
    },
    {
     "name": "stdout",
     "output_type": "stream",
     "text": [
      "Epoch = 10. Time index = 0. Threshold MC = 0.85. Threshold MD = 0.5\n",
      "RD = 96682 NZ = 186177 NZA = 216281 pNZ = 20.748% pNZA = 24.103% AD = 51.93% ADA = 44.70% NO = 1 GSP = 0.00% NSP = 0.00%\n",
      "SI2 = 0.00 SI = -1.00 eGROI = 0.00% eROI = 0.00% eROI2 = 0.00% eROI3 = 0.00% mSpread = 0.0000%\n",
      "Getting extended results...\n"
     ]
    },
    {
     "name": "stderr",
     "output_type": "stream",
     "text": [
      "100%|██████████████████████████████████████████████████████████████████████████| 32767/32767 [00:07<00:00, 4454.50it/s]\n"
     ]
    },
    {
     "name": "stdout",
     "output_type": "stream",
     "text": [
      "Epoch = 10. Time index = 0. Threshold MC = 0.85. Threshold MD = 0.55\n",
      "RD = 15945 NZ = 28545 NZA = 32768 pNZ = 3.181% pNZA = 3.652% AD = 55.86% ADA = 48.66% NO = 8314 GSP = 56.76% NSP = 46.32%\n",
      "SI2 = -2.52 SI = -48.94 eGROI = 64.97% eROI = -140.05% eROI2 = -101.31% eROI3 = -184.45% mSpread = 0.0247%\n",
      "Getting extended results...\n"
     ]
    },
    {
     "name": "stderr",
     "output_type": "stream",
     "text": [
      "100%|████████████████████████████████████████████████████████████████████████████| 3679/3679 [00:00<00:00, 3878.81it/s]\n"
     ]
    },
    {
     "name": "stdout",
     "output_type": "stream",
     "text": [
      "Epoch = 10. Time index = 0. Threshold MC = 0.85. Threshold MD = 0.6\n",
      "RD = 2054 NZ = 3295 NZA = 3680 pNZ = 0.367% pNZA = 0.410% AD = 62.34% ADA = 55.82% NO = 1650 GSP = 58.48% NSP = 49.09%\n",
      "SI2 = 1.58 SI = -20.67 eGROI = 26.79% eROI = -16.39% eROI2 = -6.21% eROI3 = -22.71% mSpread = 0.0262%\n",
      "Getting extended results...\n"
     ]
    },
    {
     "name": "stderr",
     "output_type": "stream",
     "text": [
      "100%|██████████████████████████████████████████████████████████████████████████████| 576/576 [00:00<00:00, 2445.01it/s]\n"
     ]
    },
    {
     "name": "stdout",
     "output_type": "stream",
     "text": [
      "Epoch = 10. Time index = 0. Threshold MC = 0.85. Threshold MD = 0.65\n",
      "RD = 366 NZ = 523 NZA = 577 pNZ = 0.058% pNZA = 0.064% AD = 69.98% ADA = 63.43% NO = 407 GSP = 64.86% NSP = 55.53%\n",
      "SI2 = 3.02 SI = -8.94 eGROI = 13.82% eROI = 2.24% eROI2 = 5.68% eROI3 = 1.61% mSpread = 0.0285%\n",
      "Getting extended results...\n"
     ]
    },
    {
     "name": "stderr",
     "output_type": "stream",
     "text": [
      "100%|██████████████████████████████████████████████████████████████████████████████| 111/111 [00:00<00:00, 1795.02it/s]\n"
     ]
    },
    {
     "name": "stdout",
     "output_type": "stream",
     "text": [
      "Epoch = 10. Time index = 0. Threshold MC = 0.85. Threshold MD = 0.7\n",
      "RD = 77 NZ = 101 NZA = 112 pNZ = 0.011% pNZA = 0.012% AD = 76.24% ADA = 68.75% NO = 109 GSP = 68.81% NSP = 55.96%\n",
      "SI2 = 2.39 SI = -4.54 eGROI = 2.31% eROI = -0.92% eROI2 = 0.13% eROI3 = -0.96% mSpread = 0.0297%\n",
      "Getting extended results...\n"
     ]
    },
    {
     "name": "stderr",
     "output_type": "stream",
     "text": [
      "100%|████████████████████████████████████████████████████████████████████████████████| 24/24 [00:00<00:00, 1203.21it/s]\n"
     ]
    },
    {
     "name": "stdout",
     "output_type": "stream",
     "text": [
      "Epoch = 10. Time index = 0. Threshold MC = 0.85. Threshold MD = 0.75\n",
      "RD = 20 NZ = 24 NZA = 25 pNZ = 0.003% pNZA = 0.003% AD = 83.33% ADA = 80.00% NO = 25 GSP = 72.00% NSP = 56.00%\n",
      "SI2 = 1.40 SI = -2.09 eGROI = 0.71% eROI = -0.12% eROI2 = 0.21% eROI3 = -0.04% mSpread = 0.0330%\n",
      "Getting extended results...\n"
     ]
    },
    {
     "name": "stderr",
     "output_type": "stream",
     "text": [
      "100%|███████████████████████████████████████████████████████████████████████████████████| 2/2 [00:00<00:00, 669.48it/s]\n"
     ]
    },
    {
     "name": "stdout",
     "output_type": "stream",
     "text": [
      "Epoch = 10. Time index = 0. Threshold MC = 0.85. Threshold MD = 0.8\n",
      "RD = 2 NZ = 3 NZA = 3 pNZ = 0.000% pNZA = 0.000% AD = 66.67% ADA = 66.67% NO = 3 GSP = 66.67% NSP = 66.67%\n",
      "SI2 = 0.58 SI = -0.19 eGROI = 0.21% eROI = 0.12% eROI2 = 0.15% eROI3 = 0.12% mSpread = 0.0301%\n",
      "Getting extended results...\n"
     ]
    },
    {
     "name": "stderr",
     "output_type": "stream",
     "text": [
      "0it [00:00, ?it/s]\n"
     ]
    },
    {
     "name": "stdout",
     "output_type": "stream",
     "text": [
      "Epoch = 10. Time index = 0. Threshold MC = 0.85. Threshold MD = 0.85\n",
      "RD = 0 NZ = 0 NZA = 0 pNZ = 0.000% pNZA = 0.000% AD = 0.00% ADA = 0.00% NO = 1 GSP = 0.00% NSP = 0.00%\n",
      "SI2 = 0.00 SI = -1.00 eGROI = 0.00% eROI = 0.00% eROI2 = 0.00% eROI3 = 0.00% mSpread = 0.0000%\n",
      "Getting extended results...\n"
     ]
    },
    {
     "name": "stderr",
     "output_type": "stream",
     "text": [
      "0it [00:00, ?it/s]\n"
     ]
    },
    {
     "name": "stdout",
     "output_type": "stream",
     "text": [
      "Epoch = 10. Time index = 0. Threshold MC = 0.85. Threshold MD = 0.9\n",
      "RD = 0 NZ = 0 NZA = 0 pNZ = 0.000% pNZA = 0.000% AD = 0.00% ADA = 0.00% NO = 1 GSP = 0.00% NSP = 0.00%\n",
      "SI2 = 0.00 SI = -1.00 eGROI = 0.00% eROI = 0.00% eROI2 = 0.00% eROI3 = 0.00% mSpread = 0.0000%\n",
      "Getting extended results...\n"
     ]
    },
    {
     "name": "stderr",
     "output_type": "stream",
     "text": [
      "0it [00:00, ?it/s]\n"
     ]
    },
    {
     "name": "stdout",
     "output_type": "stream",
     "text": [
      "Epoch = 10. Time index = 0. Threshold MC = 0.85. Threshold MD = 0.95\n",
      "RD = 0 NZ = 0 NZA = 0 pNZ = 0.000% pNZA = 0.000% AD = 0.00% ADA = 0.00% NO = 1 GSP = 0.00% NSP = 0.00%\n",
      "SI2 = 0.00 SI = -1.00 eGROI = 0.00% eROI = 0.00% eROI2 = 0.00% eROI3 = 0.00% mSpread = 0.0000%\n",
      "\n",
      "Getting extended results...\n"
     ]
    },
    {
     "name": "stderr",
     "output_type": "stream",
     "text": [
      "100%|██████████████████████████████████████████████████████████████████████████| 12320/12320 [00:02<00:00, 5391.79it/s]\n"
     ]
    },
    {
     "name": "stdout",
     "output_type": "stream",
     "text": [
      "Epoch = 10. Time index = 0. Threshold MC = 0.9. Threshold MD = 0.5\n",
      "RD = 6108 NZ = 11206 NZA = 12321 pNZ = 1.249% pNZA = 1.373% AD = 54.51% ADA = 49.57% NO = 1758 GSP = 53.98% NSP = 46.36%\n",
      "SI2 = -1.14 SI = -22.48 eGROI = -2.67% eROI = -45.16% eROI2 = -37.83% eROI3 = -55.41% mSpread = 0.0242%\n",
      "Getting extended results...\n"
     ]
    },
    {
     "name": "stderr",
     "output_type": "stream",
     "text": [
      "100%|████████████████████████████████████████████████████████████████████████████| 5566/5566 [00:01<00:00, 4869.58it/s]\n"
     ]
    },
    {
     "name": "stdout",
     "output_type": "stream",
     "text": [
      "Epoch = 10. Time index = 0. Threshold MC = 0.9. Threshold MD = 0.55\n",
      "RD = 2918 NZ = 5089 NZA = 5567 pNZ = 0.567% pNZA = 0.620% AD = 57.34% ADA = 52.42% NO = 1409 GSP = 57.70% NSP = 50.25%\n",
      "SI2 = 1.25 SI = -18.66 eGROI = 14.79% eROI = -19.66% eROI2 = -13.39% eROI3 = -27.48% mSpread = 0.0245%\n",
      "Getting extended results...\n"
     ]
    },
    {
     "name": "stderr",
     "output_type": "stream",
     "text": [
      "100%|████████████████████████████████████████████████████████████████████████████| 1652/1652 [00:00<00:00, 3943.75it/s]\n"
     ]
    },
    {
     "name": "stdout",
     "output_type": "stream",
     "text": [
      "Epoch = 10. Time index = 0. Threshold MC = 0.9. Threshold MD = 0.6\n",
      "RD = 952 NZ = 1496 NZA = 1653 pNZ = 0.167% pNZA = 0.184% AD = 63.64% ADA = 57.59% NO = 722 GSP = 58.31% NSP = 49.03%\n",
      "SI2 = 0.67 SI = -13.68 eGROI = 11.54% eROI = -6.38% eROI2 = -2.90% eROI3 = -10.12% mSpread = 0.0248%\n",
      "Getting extended results...\n"
     ]
    },
    {
     "name": "stderr",
     "output_type": "stream",
     "text": [
      "100%|██████████████████████████████████████████████████████████████████████████████| 314/314 [00:00<00:00, 3027.20it/s]\n"
     ]
    },
    {
     "name": "stdout",
     "output_type": "stream",
     "text": [
      "Epoch = 10. Time index = 0. Threshold MC = 0.9. Threshold MD = 0.65\n",
      "RD = 201 NZ = 288 NZA = 315 pNZ = 0.032% pNZA = 0.035% AD = 69.79% ADA = 63.81% NO = 212 GSP = 66.04% NSP = 60.85%\n",
      "SI2 = 2.88 SI = -5.66 eGROI = 10.17% eROI = 4.71% eROI2 = 5.93% eROI3 = 3.81% mSpread = 0.0258%\n",
      "Getting extended results...\n"
     ]
    },
    {
     "name": "stderr",
     "output_type": "stream",
     "text": [
      "100%|████████████████████████████████████████████████████████████████████████████████| 48/48 [00:00<00:00, 1604.20it/s]\n"
     ]
    },
    {
     "name": "stdout",
     "output_type": "stream",
     "text": [
      "Epoch = 10. Time index = 0. Threshold MC = 0.9. Threshold MD = 0.7\n",
      "RD = 32 NZ = 45 NZA = 49 pNZ = 0.005% pNZA = 0.005% AD = 71.11% ADA = 65.31% NO = 49 GSP = 65.31% NSP = 61.22%\n",
      "SI2 = 1.86 SI = -2.63 eGROI = 1.37% eROI = -0.04% eROI2 = 0.39% eROI3 = -0.10% mSpread = 0.0287%\n",
      "Getting extended results...\n"
     ]
    },
    {
     "name": "stderr",
     "output_type": "stream",
     "text": [
      "100%|██████████████████████████████████████████████████████████████████████████████████| 8/8 [00:00<00:00, 1604.02it/s]\n"
     ]
    },
    {
     "name": "stdout",
     "output_type": "stream",
     "text": [
      "Epoch = 10. Time index = 0. Threshold MC = 0.9. Threshold MD = 0.75\n",
      "RD = 5 NZ = 8 NZA = 9 pNZ = 0.001% pNZA = 0.001% AD = 62.50% ADA = 55.56% NO = 9 GSP = 55.56% NSP = 55.56%\n",
      "SI2 = 0.33 SI = -1.15 eGROI = -0.27% eROI = -0.53% eROI2 = -0.45% eROI3 = -0.54% mSpread = 0.0288%\n",
      "Getting extended results...\n"
     ]
    },
    {
     "name": "stderr",
     "output_type": "stream",
     "text": [
      "0it [00:00, ?it/s]\n"
     ]
    },
    {
     "name": "stdout",
     "output_type": "stream",
     "text": [
      "Epoch = 10. Time index = 0. Threshold MC = 0.9. Threshold MD = 0.8\n",
      "RD = 1 NZ = 1 NZA = 1 pNZ = 0.000% pNZA = 0.000% AD = 100.00% ADA = 100.00% NO = 1 GSP = 100.00% NSP = 100.00%\n",
      "SI2 = 1.00 SI = 1.00 eGROI = 0.16% eROI = 0.14% eROI2 = 0.14% eROI3 = 0.13% mSpread = 0.0196%\n",
      "Getting extended results...\n"
     ]
    },
    {
     "name": "stderr",
     "output_type": "stream",
     "text": [
      "0it [00:00, ?it/s]\n"
     ]
    },
    {
     "name": "stdout",
     "output_type": "stream",
     "text": [
      "Epoch = 10. Time index = 0. Threshold MC = 0.9. Threshold MD = 0.85\n",
      "RD = 0 NZ = 0 NZA = 0 pNZ = 0.000% pNZA = 0.000% AD = 0.00% ADA = 0.00% NO = 1 GSP = 0.00% NSP = 0.00%\n",
      "SI2 = 0.00 SI = -1.00 eGROI = 0.00% eROI = 0.00% eROI2 = 0.00% eROI3 = 0.00% mSpread = 0.0000%\n",
      "Getting extended results...\n"
     ]
    },
    {
     "name": "stderr",
     "output_type": "stream",
     "text": [
      "0it [00:00, ?it/s]\n"
     ]
    },
    {
     "name": "stdout",
     "output_type": "stream",
     "text": [
      "Epoch = 10. Time index = 0. Threshold MC = 0.9. Threshold MD = 0.9\n",
      "RD = 0 NZ = 0 NZA = 0 pNZ = 0.000% pNZA = 0.000% AD = 0.00% ADA = 0.00% NO = 1 GSP = 0.00% NSP = 0.00%\n",
      "SI2 = 0.00 SI = -1.00 eGROI = 0.00% eROI = 0.00% eROI2 = 0.00% eROI3 = 0.00% mSpread = 0.0000%\n",
      "Getting extended results...\n"
     ]
    },
    {
     "name": "stderr",
     "output_type": "stream",
     "text": [
      "0it [00:00, ?it/s]\n"
     ]
    },
    {
     "name": "stdout",
     "output_type": "stream",
     "text": [
      "Epoch = 10. Time index = 0. Threshold MC = 0.9. Threshold MD = 0.95\n",
      "RD = 0 NZ = 0 NZA = 0 pNZ = 0.000% pNZA = 0.000% AD = 0.00% ADA = 0.00% NO = 1 GSP = 0.00% NSP = 0.00%\n",
      "SI2 = 0.00 SI = -1.00 eGROI = 0.00% eROI = 0.00% eROI2 = 0.00% eROI3 = 0.00% mSpread = 0.0000%\n",
      "\n",
      "Getting extended results...\n"
     ]
    },
    {
     "name": "stderr",
     "output_type": "stream",
     "text": [
      "100%|██████████████████████████████████████████████████████████████████████████████| 122/122 [00:00<00:00, 2659.26it/s]\n"
     ]
    },
    {
     "name": "stdout",
     "output_type": "stream",
     "text": [
      "Epoch = 10. Time index = 0. Threshold MC = 0.95. Threshold MD = 0.5\n",
      "RD = 66 NZ = 118 NZA = 123 pNZ = 0.013% pNZA = 0.014% AD = 55.93% ADA = 53.66% NO = 64 GSP = 53.12% NSP = 53.12%\n",
      "SI2 = 0.50 SI = -3.68 eGROI = 0.87% eROI = -0.71% eROI2 = -0.41% eROI3 = -1.05% mSpread = 0.0247%\n",
      "Getting extended results...\n"
     ]
    },
    {
     "name": "stderr",
     "output_type": "stream",
     "text": [
      "100%|████████████████████████████████████████████████████████████████████████████████| 58/58 [00:00<00:00, 2076.88it/s]\n"
     ]
    },
    {
     "name": "stdout",
     "output_type": "stream",
     "text": [
      "Epoch = 10. Time index = 0. Threshold MC = 0.95. Threshold MD = 0.55\n",
      "RD = 36 NZ = 58 NZA = 59 pNZ = 0.006% pNZA = 0.007% AD = 62.07% ADA = 61.02% NO = 45 GSP = 60.00% NSP = 60.00%\n",
      "SI2 = 1.34 SI = -2.59 eGROI = 2.95% eROI = 1.83% eROI2 = 2.05% eROI3 = 1.60% mSpread = 0.0248%\n",
      "Getting extended results...\n"
     ]
    },
    {
     "name": "stderr",
     "output_type": "stream",
     "text": [
      "100%|████████████████████████████████████████████████████████████████████████████████| 24/24 [00:00<00:00, 1718.68it/s]\n"
     ]
    },
    {
     "name": "stdout",
     "output_type": "stream",
     "text": [
      "Epoch = 10. Time index = 0. Threshold MC = 0.95. Threshold MD = 0.6\n",
      "RD = 12 NZ = 25 NZA = 25 pNZ = 0.003% pNZA = 0.003% AD = 48.00% ADA = 48.00% NO = 23 GSP = 52.17% NSP = 52.17%\n",
      "SI2 = 0.21 SI = -2.18 eGROI = 0.52% eROI = -0.00% eROI2 = 0.06% eROI3 = -0.17% mSpread = 0.0227%\n",
      "Getting extended results...\n"
     ]
    },
    {
     "name": "stderr",
     "output_type": "stream",
     "text": [
      "100%|██████████████████████████████████████████████████████████████████████████████████| 8/8 [00:00<00:00, 1604.17it/s]\n"
     ]
    },
    {
     "name": "stdout",
     "output_type": "stream",
     "text": [
      "Epoch = 10. Time index = 0. Threshold MC = 0.95. Threshold MD = 0.65\n",
      "RD = 3 NZ = 9 NZA = 9 pNZ = 0.001% pNZA = 0.001% AD = 33.33% ADA = 33.33% NO = 8 GSP = 37.50% NSP = 37.50%\n",
      "SI2 = -0.71 SI = -1.64 eGROI = -0.71% eROI = -0.93% eROI2 = -0.87% eROI3 = -0.95% mSpread = 0.0267%\n",
      "Getting extended results...\n"
     ]
    },
    {
     "name": "stderr",
     "output_type": "stream",
     "text": [
      "100%|██████████████████████████████████████████████████████████████████████████████████| 3/3 [00:00<00:00, 1002.62it/s]\n"
     ]
    },
    {
     "name": "stdout",
     "output_type": "stream",
     "text": [
      "Epoch = 10. Time index = 0. Threshold MC = 0.95. Threshold MD = 0.7\n",
      "RD = 1 NZ = 4 NZA = 4 pNZ = 0.000% pNZA = 0.000% AD = 25.00% ADA = 25.00% NO = 4 GSP = 25.00% NSP = 25.00%\n",
      "SI2 = -1.00 SI = -1.38 eGROI = -0.72% eROI = -0.84% eROI2 = -0.80% eROI3 = -0.84% mSpread = 0.0276%\n",
      "Getting extended results...\n"
     ]
    },
    {
     "name": "stderr",
     "output_type": "stream",
     "text": [
      "0it [00:00, ?it/s]\n"
     ]
    },
    {
     "name": "stdout",
     "output_type": "stream",
     "text": [
      "Epoch = 10. Time index = 0. Threshold MC = 0.95. Threshold MD = 0.75\n",
      "RD = 0 NZ = 0 NZA = 0 pNZ = 0.000% pNZA = 0.000% AD = 0.00% ADA = 0.00% NO = 1 GSP = 0.00% NSP = 0.00%\n",
      "SI2 = 0.00 SI = -1.00 eGROI = 0.00% eROI = 0.00% eROI2 = 0.00% eROI3 = 0.00% mSpread = 0.0000%\n",
      "Getting extended results...\n"
     ]
    },
    {
     "name": "stderr",
     "output_type": "stream",
     "text": [
      "0it [00:00, ?it/s]\n"
     ]
    },
    {
     "name": "stdout",
     "output_type": "stream",
     "text": [
      "Epoch = 10. Time index = 0. Threshold MC = 0.95. Threshold MD = 0.8\n",
      "RD = 0 NZ = 0 NZA = 0 pNZ = 0.000% pNZA = 0.000% AD = 0.00% ADA = 0.00% NO = 1 GSP = 0.00% NSP = 0.00%\n",
      "SI2 = 0.00 SI = -1.00 eGROI = 0.00% eROI = 0.00% eROI2 = 0.00% eROI3 = 0.00% mSpread = 0.0000%\n",
      "Getting extended results...\n"
     ]
    },
    {
     "name": "stderr",
     "output_type": "stream",
     "text": [
      "0it [00:00, ?it/s]\n"
     ]
    },
    {
     "name": "stdout",
     "output_type": "stream",
     "text": [
      "Epoch = 10. Time index = 0. Threshold MC = 0.95. Threshold MD = 0.85\n",
      "RD = 0 NZ = 0 NZA = 0 pNZ = 0.000% pNZA = 0.000% AD = 0.00% ADA = 0.00% NO = 1 GSP = 0.00% NSP = 0.00%\n",
      "SI2 = 0.00 SI = -1.00 eGROI = 0.00% eROI = 0.00% eROI2 = 0.00% eROI3 = 0.00% mSpread = 0.0000%\n",
      "Getting extended results...\n"
     ]
    },
    {
     "name": "stderr",
     "output_type": "stream",
     "text": [
      "0it [00:00, ?it/s]\n"
     ]
    },
    {
     "name": "stdout",
     "output_type": "stream",
     "text": [
      "Epoch = 10. Time index = 0. Threshold MC = 0.95. Threshold MD = 0.9\n",
      "RD = 0 NZ = 0 NZA = 0 pNZ = 0.000% pNZA = 0.000% AD = 0.00% ADA = 0.00% NO = 1 GSP = 0.00% NSP = 0.00%\n",
      "SI2 = 0.00 SI = -1.00 eGROI = 0.00% eROI = 0.00% eROI2 = 0.00% eROI3 = 0.00% mSpread = 0.0000%\n",
      "Getting extended results...\n"
     ]
    },
    {
     "name": "stderr",
     "output_type": "stream",
     "text": [
      "0it [00:00, ?it/s]\n"
     ]
    },
    {
     "name": "stdout",
     "output_type": "stream",
     "text": [
      "Epoch = 10. Time index = 0. Threshold MC = 0.95. Threshold MD = 0.95\n",
      "RD = 0 NZ = 0 NZA = 0 pNZ = 0.000% pNZA = 0.000% AD = 0.00% ADA = 0.00% NO = 1 GSP = 0.00% NSP = 0.00%\n",
      "SI2 = 0.00 SI = -1.00 eGROI = 0.00% eROI = 0.00% eROI2 = 0.00% eROI3 = 0.00% mSpread = 0.0000%\n",
      "\n",
      "Getting extended results...\n"
     ]
    },
    {
     "name": "stderr",
     "output_type": "stream",
     "text": [
      "0it [00:00, ?it/s]\n"
     ]
    },
    {
     "name": "stdout",
     "output_type": "stream",
     "text": [
      "Epoch = 10. Time index = 1. Threshold MC = 0.5. Threshold MD = 0.5\n",
      "J_test = 6.240390109635269, J_train = 4.741746073306845, Accuracy=0.8014191352569411\n",
      "RD = 374692 NZ = 719081 NZA = 897204 pNZ = 80.138% pNZA = 99.989% AD = 52.11% ADA = 41.76% NO = 1 GSP = 0.00% NSP = 0.00%\n",
      "SI2 = 0.00 SI = -1.00 eGROI = 0.00% eROI = 0.00% eROI2 = 0.00% eROI3 = 0.00% mSpread = 0.0000%\n",
      "Getting extended results...\n"
     ]
    },
    {
     "name": "stderr",
     "output_type": "stream",
     "text": [
      "0it [00:00, ?it/s]\n"
     ]
    },
    {
     "name": "stdout",
     "output_type": "stream",
     "text": [
      "Epoch = 10. Time index = 1. Threshold MC = 0.5. Threshold MD = 0.55\n",
      "RD = 74874 NZ = 135657 NZA = 173980 pNZ = 15.118% pNZA = 19.389% AD = 55.19% ADA = 43.04% NO = 1 GSP = 0.00% NSP = 0.00%\n",
      "SI2 = 0.00 SI = -1.00 eGROI = 0.00% eROI = 0.00% eROI2 = 0.00% eROI3 = 0.00% mSpread = 0.0000%\n",
      "Getting extended results...\n"
     ]
    },
    {
     "name": "stderr",
     "output_type": "stream",
     "text": [
      "100%|██████████████████████████████████████████████████████████████████████████| 34959/34959 [00:06<00:00, 5235.47it/s]\n"
     ]
    },
    {
     "name": "stdout",
     "output_type": "stream",
     "text": [
      "Epoch = 10. Time index = 1. Threshold MC = 0.5. Threshold MD = 0.6\n",
      "RD = 15996 NZ = 26602 NZA = 34960 pNZ = 2.965% pNZA = 3.896% AD = 60.13% ADA = 45.76% NO = 6336 GSP = 56.96% NSP = 42.01%\n",
      "SI2 = -6.46 SI = -46.15 eGROI = 67.26% eROI = -102.53% eROI2 = -59.46% eROI3 = -122.82% mSpread = 0.0268%\n",
      "Getting extended results...\n"
     ]
    },
    {
     "name": "stderr",
     "output_type": "stream",
     "text": [
      "100%|████████████████████████████████████████████████████████████████████████████| 9916/9916 [00:02<00:00, 4139.15it/s]\n"
     ]
    },
    {
     "name": "stdout",
     "output_type": "stream",
     "text": [
      "Epoch = 10. Time index = 1. Threshold MC = 0.5. Threshold MD = 0.65\n",
      "RD = 4840 NZ = 7494 NZA = 9917 pNZ = 0.835% pNZA = 1.105% AD = 64.59% ADA = 48.81% NO = 2868 GSP = 58.33% NSP = 40.45%\n",
      "SI2 = -3.96 SI = -31.89 eGROI = 44.04% eROI = -38.88% eROI2 = -13.32% eROI3 = -42.00% mSpread = 0.0289%\n",
      "Getting extended results...\n"
     ]
    },
    {
     "name": "stderr",
     "output_type": "stream",
     "text": [
      "100%|████████████████████████████████████████████████████████████████████████████| 2603/2603 [00:00<00:00, 3838.06it/s]\n"
     ]
    },
    {
     "name": "stdout",
     "output_type": "stream",
     "text": [
      "Epoch = 10. Time index = 1. Threshold MC = 0.5. Threshold MD = 0.7\n",
      "RD = 1371 NZ = 2001 NZA = 2604 pNZ = 0.223% pNZA = 0.290% AD = 68.52% ADA = 52.65% NO = 1197 GSP = 58.81% NSP = 38.26%\n",
      "SI2 = -3.96 SI = -21.35 eGROI = 13.40% eROI = -23.09% eROI2 = -10.54% eROI3 = -22.51% mSpread = 0.0305%\n",
      "Getting extended results...\n"
     ]
    },
    {
     "name": "stderr",
     "output_type": "stream",
     "text": [
      "100%|██████████████████████████████████████████████████████████████████████████████| 450/450 [00:00<00:00, 3133.29it/s]\n"
     ]
    },
    {
     "name": "stdout",
     "output_type": "stream",
     "text": [
      "Epoch = 10. Time index = 1. Threshold MC = 0.5. Threshold MD = 0.75\n",
      "RD = 276 NZ = 382 NZA = 451 pNZ = 0.043% pNZA = 0.050% AD = 72.25% ADA = 61.20% NO = 293 GSP = 57.68% NSP = 38.23%\n",
      "SI2 = -1.34 SI = -10.55 eGROI = 2.51% eROI = -7.14% eROI2 = -3.35% eROI3 = -6.28% mSpread = 0.0329%\n",
      "Getting extended results...\n"
     ]
    },
    {
     "name": "stderr",
     "output_type": "stream",
     "text": [
      "100%|████████████████████████████████████████████████████████████████████████████████| 51/51 [00:00<00:00, 1649.56it/s]\n"
     ]
    },
    {
     "name": "stdout",
     "output_type": "stream",
     "text": [
      "Epoch = 10. Time index = 1. Threshold MC = 0.5. Threshold MD = 0.8\n",
      "RD = 35 NZ = 45 NZA = 52 pNZ = 0.005% pNZA = 0.006% AD = 77.78% ADA = 67.31% NO = 42 GSP = 57.14% NSP = 38.10%\n",
      "SI2 = -0.93 SI = -3.95 eGROI = -0.02% eROI = -1.76% eROI2 = -0.86% eROI3 = -1.28% mSpread = 0.0416%\n",
      "Getting extended results...\n"
     ]
    },
    {
     "name": "stderr",
     "output_type": "stream",
     "text": [
      "100%|██████████████████████████████████████████████████████████████████████████████████| 3/3 [00:00<00:00, 1002.22it/s]\n"
     ]
    },
    {
     "name": "stdout",
     "output_type": "stream",
     "text": [
      "Epoch = 10. Time index = 1. Threshold MC = 0.5. Threshold MD = 0.85\n",
      "RD = 2 NZ = 4 NZA = 4 pNZ = 0.000% pNZA = 0.000% AD = 50.00% ADA = 50.00% NO = 4 GSP = 25.00% NSP = 0.00%\n",
      "SI2 = -2.00 SI = -2.00 eGROI = -0.16% eROI = -0.35% eROI2 = -0.24% eROI3 = -0.28% mSpread = 0.0477%\n",
      "Getting extended results...\n"
     ]
    },
    {
     "name": "stderr",
     "output_type": "stream",
     "text": [
      "0it [00:00, ?it/s]\n"
     ]
    },
    {
     "name": "stdout",
     "output_type": "stream",
     "text": [
      "Epoch = 10. Time index = 1. Threshold MC = 0.5. Threshold MD = 0.9\n",
      "RD = 0 NZ = 0 NZA = 0 pNZ = 0.000% pNZA = 0.000% AD = 0.00% ADA = 0.00% NO = 1 GSP = 0.00% NSP = 0.00%\n",
      "SI2 = 0.00 SI = -1.00 eGROI = 0.00% eROI = 0.00% eROI2 = 0.00% eROI3 = 0.00% mSpread = 0.0000%\n",
      "Getting extended results...\n"
     ]
    },
    {
     "name": "stderr",
     "output_type": "stream",
     "text": [
      "0it [00:00, ?it/s]\n"
     ]
    },
    {
     "name": "stdout",
     "output_type": "stream",
     "text": [
      "Epoch = 10. Time index = 1. Threshold MC = 0.5. Threshold MD = 0.95\n",
      "RD = 0 NZ = 0 NZA = 0 pNZ = 0.000% pNZA = 0.000% AD = 0.00% ADA = 0.00% NO = 1 GSP = 0.00% NSP = 0.00%\n",
      "SI2 = 0.00 SI = -1.00 eGROI = 0.00% eROI = 0.00% eROI2 = 0.00% eROI3 = 0.00% mSpread = 0.0000%\n",
      "\n",
      "Getting extended results...\n"
     ]
    },
    {
     "name": "stderr",
     "output_type": "stream",
     "text": [
      "0it [00:00, ?it/s]\n"
     ]
    },
    {
     "name": "stdout",
     "output_type": "stream",
     "text": [
      "Epoch = 10. Time index = 1. Threshold MC = 0.55. Threshold MD = 0.5\n",
      "RD = 374515 NZ = 718755 NZA = 896634 pNZ = 80.101% pNZA = 99.925% AD = 52.11% ADA = 41.77% NO = 1 GSP = 0.00% NSP = 0.00%\n",
      "SI2 = 0.00 SI = -1.00 eGROI = 0.00% eROI = 0.00% eROI2 = 0.00% eROI3 = 0.00% mSpread = 0.0000%\n",
      "Getting extended results...\n"
     ]
    },
    {
     "name": "stderr",
     "output_type": "stream",
     "text": [
      "0it [00:00, ?it/s]\n"
     ]
    },
    {
     "name": "stdout",
     "output_type": "stream",
     "text": [
      "Epoch = 10. Time index = 1. Threshold MC = 0.55. Threshold MD = 0.55\n",
      "RD = 74771 NZ = 135477 NZA = 173662 pNZ = 15.098% pNZA = 19.354% AD = 55.19% ADA = 43.06% NO = 1 GSP = 0.00% NSP = 0.00%\n",
      "SI2 = 0.00 SI = -1.00 eGROI = 0.00% eROI = 0.00% eROI2 = 0.00% eROI3 = 0.00% mSpread = 0.0000%\n",
      "Getting extended results...\n"
     ]
    },
    {
     "name": "stderr",
     "output_type": "stream",
     "text": [
      "100%|██████████████████████████████████████████████████████████████████████████| 34786/34786 [00:07<00:00, 4675.34it/s]\n"
     ]
    },
    {
     "name": "stdout",
     "output_type": "stream",
     "text": [
      "Epoch = 10. Time index = 1. Threshold MC = 0.55. Threshold MD = 0.6\n",
      "RD = 15949 NZ = 26509 NZA = 34787 pNZ = 2.954% pNZA = 3.877% AD = 60.16% ADA = 45.85% NO = 6334 GSP = 57.12% NSP = 42.03%\n",
      "SI2 = -6.33 SI = -46.13 eGROI = 67.84% eROI = -101.95% eROI2 = -58.84% eROI3 = -122.18% mSpread = 0.0268%\n",
      "Getting extended results...\n"
     ]
    },
    {
     "name": "stderr",
     "output_type": "stream",
     "text": [
      "100%|████████████████████████████████████████████████████████████████████████████| 9851/9851 [00:02<00:00, 4637.12it/s]\n"
     ]
    },
    {
     "name": "stdout",
     "output_type": "stream",
     "text": [
      "Epoch = 10. Time index = 1. Threshold MC = 0.55. Threshold MD = 0.65\n",
      "RD = 4817 NZ = 7457 NZA = 9852 pNZ = 0.831% pNZA = 1.098% AD = 64.60% ADA = 48.89% NO = 2858 GSP = 58.22% NSP = 40.62%\n",
      "SI2 = -3.82 SI = -31.74 eGROI = 44.27% eROI = -38.38% eROI2 = -12.89% eROI3 = -41.47% mSpread = 0.0289%\n",
      "Getting extended results...\n"
     ]
    },
    {
     "name": "stderr",
     "output_type": "stream",
     "text": [
      "100%|████████████████████████████████████████████████████████████████████████████| 2590/2590 [00:00<00:00, 4148.34it/s]\n"
     ]
    },
    {
     "name": "stdout",
     "output_type": "stream",
     "text": [
      "Epoch = 10. Time index = 1. Threshold MC = 0.55. Threshold MD = 0.7\n",
      "RD = 1366 NZ = 1992 NZA = 2591 pNZ = 0.222% pNZA = 0.289% AD = 68.57% ADA = 52.72% NO = 1193 GSP = 58.84% NSP = 38.31%\n",
      "SI2 = -3.97 SI = -21.30 eGROI = 13.45% eROI = -22.91% eROI2 = -10.41% eROI3 = -22.34% mSpread = 0.0305%\n",
      "Getting extended results...\n"
     ]
    },
    {
     "name": "stderr",
     "output_type": "stream",
     "text": [
      "100%|██████████████████████████████████████████████████████████████████████████████| 450/450 [00:00<00:00, 3367.09it/s]\n"
     ]
    },
    {
     "name": "stdout",
     "output_type": "stream",
     "text": [
      "Epoch = 10. Time index = 1. Threshold MC = 0.55. Threshold MD = 0.75\n",
      "RD = 276 NZ = 382 NZA = 451 pNZ = 0.043% pNZA = 0.050% AD = 72.25% ADA = 61.20% NO = 293 GSP = 57.68% NSP = 38.23%\n",
      "SI2 = -1.34 SI = -10.55 eGROI = 2.51% eROI = -7.14% eROI2 = -3.35% eROI3 = -6.28% mSpread = 0.0329%\n",
      "Getting extended results...\n"
     ]
    },
    {
     "name": "stderr",
     "output_type": "stream",
     "text": [
      "100%|████████████████████████████████████████████████████████████████████████████████| 51/51 [00:00<00:00, 2324.35it/s]\n"
     ]
    },
    {
     "name": "stdout",
     "output_type": "stream",
     "text": [
      "Epoch = 10. Time index = 1. Threshold MC = 0.55. Threshold MD = 0.8\n",
      "RD = 35 NZ = 45 NZA = 52 pNZ = 0.005% pNZA = 0.006% AD = 77.78% ADA = 67.31% NO = 42 GSP = 57.14% NSP = 38.10%\n",
      "SI2 = -0.93 SI = -3.95 eGROI = -0.02% eROI = -1.76% eROI2 = -0.86% eROI3 = -1.28% mSpread = 0.0416%\n",
      "Getting extended results...\n"
     ]
    },
    {
     "name": "stderr",
     "output_type": "stream",
     "text": [
      "100%|███████████████████████████████████████████████████████████████████████████████████| 3/3 [00:00<00:00, 990.94it/s]\n"
     ]
    },
    {
     "name": "stdout",
     "output_type": "stream",
     "text": [
      "Epoch = 10. Time index = 1. Threshold MC = 0.55. Threshold MD = 0.85\n",
      "RD = 2 NZ = 4 NZA = 4 pNZ = 0.000% pNZA = 0.000% AD = 50.00% ADA = 50.00% NO = 4 GSP = 25.00% NSP = 0.00%\n",
      "SI2 = -2.00 SI = -2.00 eGROI = -0.16% eROI = -0.35% eROI2 = -0.24% eROI3 = -0.28% mSpread = 0.0477%\n",
      "Getting extended results...\n"
     ]
    },
    {
     "name": "stderr",
     "output_type": "stream",
     "text": [
      "0it [00:00, ?it/s]\n"
     ]
    },
    {
     "name": "stdout",
     "output_type": "stream",
     "text": [
      "Epoch = 10. Time index = 1. Threshold MC = 0.55. Threshold MD = 0.9\n",
      "RD = 0 NZ = 0 NZA = 0 pNZ = 0.000% pNZA = 0.000% AD = 0.00% ADA = 0.00% NO = 1 GSP = 0.00% NSP = 0.00%\n",
      "SI2 = 0.00 SI = -1.00 eGROI = 0.00% eROI = 0.00% eROI2 = 0.00% eROI3 = 0.00% mSpread = 0.0000%\n",
      "Getting extended results...\n"
     ]
    },
    {
     "name": "stderr",
     "output_type": "stream",
     "text": [
      "0it [00:00, ?it/s]\n"
     ]
    },
    {
     "name": "stdout",
     "output_type": "stream",
     "text": [
      "Epoch = 10. Time index = 1. Threshold MC = 0.55. Threshold MD = 0.95\n",
      "RD = 0 NZ = 0 NZA = 0 pNZ = 0.000% pNZA = 0.000% AD = 0.00% ADA = 0.00% NO = 1 GSP = 0.00% NSP = 0.00%\n",
      "SI2 = 0.00 SI = -1.00 eGROI = 0.00% eROI = 0.00% eROI2 = 0.00% eROI3 = 0.00% mSpread = 0.0000%\n",
      "\n",
      "Getting extended results...\n"
     ]
    },
    {
     "name": "stderr",
     "output_type": "stream",
     "text": [
      "0it [00:00, ?it/s]\n"
     ]
    },
    {
     "name": "stdout",
     "output_type": "stream",
     "text": [
      "Epoch = 10. Time index = 1. Threshold MC = 0.6. Threshold MD = 0.5\n",
      "RD = 373842 NZ = 717474 NZA = 894394 pNZ = 79.959% pNZA = 99.675% AD = 52.11% ADA = 41.80% NO = 1 GSP = 0.00% NSP = 0.00%\n",
      "SI2 = 0.00 SI = -1.00 eGROI = 0.00% eROI = 0.00% eROI2 = 0.00% eROI3 = 0.00% mSpread = 0.0000%\n",
      "Getting extended results...\n"
     ]
    },
    {
     "name": "stderr",
     "output_type": "stream",
     "text": [
      "0it [00:00, ?it/s]\n"
     ]
    },
    {
     "name": "stdout",
     "output_type": "stream",
     "text": [
      "Epoch = 10. Time index = 1. Threshold MC = 0.6. Threshold MD = 0.55\n",
      "RD = 74384 NZ = 134738 NZA = 172388 pNZ = 15.016% pNZA = 19.212% AD = 55.21% ADA = 43.15% NO = 1 GSP = 0.00% NSP = 0.00%\n",
      "SI2 = 0.00 SI = -1.00 eGROI = 0.00% eROI = 0.00% eROI2 = 0.00% eROI3 = 0.00% mSpread = 0.0000%\n",
      "Getting extended results...\n"
     ]
    },
    {
     "name": "stderr",
     "output_type": "stream",
     "text": [
      "100%|██████████████████████████████████████████████████████████████████████████| 34167/34167 [00:06<00:00, 4884.12it/s]\n"
     ]
    },
    {
     "name": "stdout",
     "output_type": "stream",
     "text": [
      "Epoch = 10. Time index = 1. Threshold MC = 0.6. Threshold MD = 0.6\n",
      "RD = 15738 NZ = 26132 NZA = 34168 pNZ = 2.912% pNZA = 3.808% AD = 60.23% ADA = 46.06% NO = 6328 GSP = 57.19% NSP = 41.99%\n",
      "SI2 = -6.41 SI = -46.14 eGROI = 68.41% eROI = -101.22% eROI2 = -58.15% eROI3 = -121.43% mSpread = 0.0268%\n",
      "Getting extended results...\n"
     ]
    },
    {
     "name": "stderr",
     "output_type": "stream",
     "text": [
      "100%|████████████████████████████████████████████████████████████████████████████| 9618/9618 [00:02<00:00, 4373.45it/s]\n"
     ]
    },
    {
     "name": "stdout",
     "output_type": "stream",
     "text": [
      "Epoch = 10. Time index = 1. Threshold MC = 0.6. Threshold MD = 0.65\n",
      "RD = 4742 NZ = 7323 NZA = 9619 pNZ = 0.816% pNZA = 1.072% AD = 64.75% ADA = 49.30% NO = 2835 GSP = 58.34% NSP = 40.85%\n",
      "SI2 = -3.47 SI = -31.49 eGROI = 44.74% eROI = -37.23% eROI2 = -11.96% eROI3 = -40.31% mSpread = 0.0289%\n",
      "Getting extended results...\n"
     ]
    },
    {
     "name": "stderr",
     "output_type": "stream",
     "text": [
      "100%|████████████████████████████████████████████████████████████████████████████| 2552/2552 [00:00<00:00, 4004.05it/s]\n"
     ]
    },
    {
     "name": "stdout",
     "output_type": "stream",
     "text": [
      "Epoch = 10. Time index = 1. Threshold MC = 0.6. Threshold MD = 0.7\n",
      "RD = 1350 NZ = 1971 NZA = 2553 pNZ = 0.220% pNZA = 0.285% AD = 68.49% ADA = 52.88% NO = 1179 GSP = 59.20% NSP = 38.68%\n",
      "SI2 = -3.52 SI = -21.05 eGROI = 13.55% eROI = -22.36% eROI2 = -10.03% eROI3 = -21.82% mSpread = 0.0305%\n",
      "Getting extended results...\n"
     ]
    },
    {
     "name": "stderr",
     "output_type": "stream",
     "text": [
      "100%|██████████████████████████████████████████████████████████████████████████████| 447/447 [00:00<00:00, 3247.56it/s]\n"
     ]
    },
    {
     "name": "stdout",
     "output_type": "stream",
     "text": [
      "Epoch = 10. Time index = 1. Threshold MC = 0.6. Threshold MD = 0.75\n",
      "RD = 274 NZ = 380 NZA = 448 pNZ = 0.042% pNZA = 0.050% AD = 72.11% ADA = 61.16% NO = 290 GSP = 57.59% NSP = 38.62%\n",
      "SI2 = -1.29 SI = -10.43 eGROI = 2.47% eROI = -7.10% eROI2 = -3.33% eROI3 = -6.23% mSpread = 0.0330%\n",
      "Getting extended results...\n"
     ]
    },
    {
     "name": "stderr",
     "output_type": "stream",
     "text": [
      "100%|████████████████████████████████████████████████████████████████████████████████| 51/51 [00:00<00:00, 2045.47it/s]\n"
     ]
    },
    {
     "name": "stdout",
     "output_type": "stream",
     "text": [
      "Epoch = 10. Time index = 1. Threshold MC = 0.6. Threshold MD = 0.8\n",
      "RD = 35 NZ = 45 NZA = 52 pNZ = 0.005% pNZA = 0.006% AD = 77.78% ADA = 67.31% NO = 42 GSP = 57.14% NSP = 38.10%\n",
      "SI2 = -0.93 SI = -3.95 eGROI = -0.02% eROI = -1.76% eROI2 = -0.86% eROI3 = -1.28% mSpread = 0.0416%\n",
      "Getting extended results...\n"
     ]
    },
    {
     "name": "stderr",
     "output_type": "stream",
     "text": [
      "100%|██████████████████████████████████████████████████████████████████████████████████| 3/3 [00:00<00:00, 1002.86it/s]\n"
     ]
    },
    {
     "name": "stdout",
     "output_type": "stream",
     "text": [
      "Epoch = 10. Time index = 1. Threshold MC = 0.6. Threshold MD = 0.85\n",
      "RD = 2 NZ = 4 NZA = 4 pNZ = 0.000% pNZA = 0.000% AD = 50.00% ADA = 50.00% NO = 4 GSP = 25.00% NSP = 0.00%\n",
      "SI2 = -2.00 SI = -2.00 eGROI = -0.16% eROI = -0.35% eROI2 = -0.24% eROI3 = -0.28% mSpread = 0.0477%\n",
      "Getting extended results...\n"
     ]
    },
    {
     "name": "stderr",
     "output_type": "stream",
     "text": [
      "0it [00:00, ?it/s]\n"
     ]
    },
    {
     "name": "stdout",
     "output_type": "stream",
     "text": [
      "Epoch = 10. Time index = 1. Threshold MC = 0.6. Threshold MD = 0.9\n",
      "RD = 0 NZ = 0 NZA = 0 pNZ = 0.000% pNZA = 0.000% AD = 0.00% ADA = 0.00% NO = 1 GSP = 0.00% NSP = 0.00%\n",
      "SI2 = 0.00 SI = -1.00 eGROI = 0.00% eROI = 0.00% eROI2 = 0.00% eROI3 = 0.00% mSpread = 0.0000%\n",
      "Getting extended results...\n"
     ]
    },
    {
     "name": "stderr",
     "output_type": "stream",
     "text": [
      "0it [00:00, ?it/s]\n"
     ]
    },
    {
     "name": "stdout",
     "output_type": "stream",
     "text": [
      "Epoch = 10. Time index = 1. Threshold MC = 0.6. Threshold MD = 0.95\n",
      "RD = 0 NZ = 0 NZA = 0 pNZ = 0.000% pNZA = 0.000% AD = 0.00% ADA = 0.00% NO = 1 GSP = 0.00% NSP = 0.00%\n",
      "SI2 = 0.00 SI = -1.00 eGROI = 0.00% eROI = 0.00% eROI2 = 0.00% eROI3 = 0.00% mSpread = 0.0000%\n",
      "\n",
      "Getting extended results...\n"
     ]
    },
    {
     "name": "stderr",
     "output_type": "stream",
     "text": [
      "0it [00:00, ?it/s]\n"
     ]
    },
    {
     "name": "stdout",
     "output_type": "stream",
     "text": [
      "Epoch = 10. Time index = 1. Threshold MC = 0.65. Threshold MD = 0.5\n",
      "RD = 371594 NZ = 713121 NZA = 887100 pNZ = 79.473% pNZA = 98.862% AD = 52.11% ADA = 41.89% NO = 1 GSP = 0.00% NSP = 0.00%\n",
      "SI2 = 0.00 SI = -1.00 eGROI = 0.00% eROI = 0.00% eROI2 = 0.00% eROI3 = 0.00% mSpread = 0.0000%\n",
      "Getting extended results...\n"
     ]
    },
    {
     "name": "stderr",
     "output_type": "stream",
     "text": [
      "0it [00:00, ?it/s]\n"
     ]
    },
    {
     "name": "stdout",
     "output_type": "stream",
     "text": [
      "Epoch = 10. Time index = 1. Threshold MC = 0.65. Threshold MD = 0.55\n",
      "RD = 73192 NZ = 132420 NZA = 168575 pNZ = 14.757% pNZA = 18.787% AD = 55.27% ADA = 43.42% NO = 1 GSP = 0.00% NSP = 0.00%\n",
      "SI2 = 0.00 SI = -1.00 eGROI = 0.00% eROI = 0.00% eROI2 = 0.00% eROI3 = 0.00% mSpread = 0.0000%\n",
      "Getting extended results...\n"
     ]
    },
    {
     "name": "stderr",
     "output_type": "stream",
     "text": [
      "100%|██████████████████████████████████████████████████████████████████████████| 32566/32566 [00:06<00:00, 4791.22it/s]\n"
     ]
    },
    {
     "name": "stdout",
     "output_type": "stream",
     "text": [
      "Epoch = 10. Time index = 1. Threshold MC = 0.65. Threshold MD = 0.6\n",
      "RD = 15148 NZ = 25107 NZA = 32567 pNZ = 2.798% pNZA = 3.629% AD = 60.33% ADA = 46.51% NO = 6325 GSP = 57.19% NSP = 41.91%\n",
      "SI2 = -6.58 SI = -46.19 eGROI = 68.80% eROI = -101.22% eROI2 = -57.70% eROI3 = -120.95% mSpread = 0.0269%\n",
      "Getting extended results...\n"
     ]
    },
    {
     "name": "stderr",
     "output_type": "stream",
     "text": [
      "100%|████████████████████████████████████████████████████████████████████████████| 8974/8974 [00:02<00:00, 4027.64it/s]\n"
     ]
    },
    {
     "name": "stdout",
     "output_type": "stream",
     "text": [
      "Epoch = 10. Time index = 1. Threshold MC = 0.65. Threshold MD = 0.65\n",
      "RD = 4502 NZ = 6920 NZA = 8975 pNZ = 0.771% pNZA = 1.000% AD = 65.06% ADA = 50.16% NO = 2766 GSP = 58.50% NSP = 41.14%\n",
      "SI2 = -3.16 SI = -30.95 eGROI = 45.68% eROI = -34.44% eROI2 = -9.64% eROI3 = -37.30% mSpread = 0.0290%\n",
      "Getting extended results...\n"
     ]
    },
    {
     "name": "stderr",
     "output_type": "stream",
     "text": [
      "100%|████████████████████████████████████████████████████████████████████████████| 2408/2408 [00:00<00:00, 3997.30it/s]\n"
     ]
    },
    {
     "name": "stdout",
     "output_type": "stream",
     "text": [
      "Epoch = 10. Time index = 1. Threshold MC = 0.65. Threshold MD = 0.7\n",
      "RD = 1295 NZ = 1881 NZA = 2409 pNZ = 0.210% pNZA = 0.268% AD = 68.85% ADA = 53.76% NO = 1134 GSP = 59.52% NSP = 39.42%\n",
      "SI2 = -3.21 SI = -20.39 eGROI = 14.07% eROI = -20.61% eROI2 = -8.61% eROI3 = -19.95% mSpread = 0.0306%\n",
      "Getting extended results...\n"
     ]
    },
    {
     "name": "stderr",
     "output_type": "stream",
     "text": [
      "100%|██████████████████████████████████████████████████████████████████████████████| 440/440 [00:00<00:00, 2321.91it/s]\n"
     ]
    },
    {
     "name": "stdout",
     "output_type": "stream",
     "text": [
      "Epoch = 10. Time index = 1. Threshold MC = 0.65. Threshold MD = 0.75\n",
      "RD = 272 NZ = 376 NZA = 441 pNZ = 0.042% pNZA = 0.049% AD = 72.34% ADA = 61.68% NO = 285 GSP = 57.89% NSP = 38.95%\n",
      "SI2 = -1.24 SI = -10.28 eGROI = 2.63% eROI = -6.77% eROI2 = -3.07% eROI3 = -5.92% mSpread = 0.0330%\n",
      "Getting extended results...\n"
     ]
    },
    {
     "name": "stderr",
     "output_type": "stream",
     "text": [
      "100%|████████████████████████████████████████████████████████████████████████████████| 51/51 [00:00<00:00, 2324.17it/s]\n"
     ]
    },
    {
     "name": "stdout",
     "output_type": "stream",
     "text": [
      "Epoch = 10. Time index = 1. Threshold MC = 0.65. Threshold MD = 0.8\n",
      "RD = 35 NZ = 45 NZA = 52 pNZ = 0.005% pNZA = 0.006% AD = 77.78% ADA = 67.31% NO = 42 GSP = 57.14% NSP = 38.10%\n",
      "SI2 = -0.93 SI = -3.95 eGROI = -0.02% eROI = -1.76% eROI2 = -0.86% eROI3 = -1.28% mSpread = 0.0416%\n",
      "Getting extended results...\n"
     ]
    },
    {
     "name": "stderr",
     "output_type": "stream",
     "text": [
      "100%|██████████████████████████████████████████████████████████████████████████████████| 3/3 [00:00<00:00, 1003.66it/s]\n"
     ]
    },
    {
     "name": "stdout",
     "output_type": "stream",
     "text": [
      "Epoch = 10. Time index = 1. Threshold MC = 0.65. Threshold MD = 0.85\n",
      "RD = 2 NZ = 4 NZA = 4 pNZ = 0.000% pNZA = 0.000% AD = 50.00% ADA = 50.00% NO = 4 GSP = 25.00% NSP = 0.00%\n",
      "SI2 = -2.00 SI = -2.00 eGROI = -0.16% eROI = -0.35% eROI2 = -0.24% eROI3 = -0.28% mSpread = 0.0477%\n",
      "Getting extended results...\n"
     ]
    },
    {
     "name": "stderr",
     "output_type": "stream",
     "text": [
      "0it [00:00, ?it/s]\n"
     ]
    },
    {
     "name": "stdout",
     "output_type": "stream",
     "text": [
      "Epoch = 10. Time index = 1. Threshold MC = 0.65. Threshold MD = 0.9\n",
      "RD = 0 NZ = 0 NZA = 0 pNZ = 0.000% pNZA = 0.000% AD = 0.00% ADA = 0.00% NO = 1 GSP = 0.00% NSP = 0.00%\n",
      "SI2 = 0.00 SI = -1.00 eGROI = 0.00% eROI = 0.00% eROI2 = 0.00% eROI3 = 0.00% mSpread = 0.0000%\n",
      "Getting extended results...\n"
     ]
    },
    {
     "name": "stderr",
     "output_type": "stream",
     "text": [
      "0it [00:00, ?it/s]\n"
     ]
    },
    {
     "name": "stdout",
     "output_type": "stream",
     "text": [
      "Epoch = 10. Time index = 1. Threshold MC = 0.65. Threshold MD = 0.95\n",
      "RD = 0 NZ = 0 NZA = 0 pNZ = 0.000% pNZA = 0.000% AD = 0.00% ADA = 0.00% NO = 1 GSP = 0.00% NSP = 0.00%\n",
      "SI2 = 0.00 SI = -1.00 eGROI = 0.00% eROI = 0.00% eROI2 = 0.00% eROI3 = 0.00% mSpread = 0.0000%\n",
      "\n",
      "Getting extended results...\n"
     ]
    },
    {
     "name": "stderr",
     "output_type": "stream",
     "text": [
      "0it [00:00, ?it/s]\n"
     ]
    },
    {
     "name": "stdout",
     "output_type": "stream",
     "text": [
      "Epoch = 10. Time index = 1. Threshold MC = 0.7. Threshold MD = 0.5\n",
      "RD = 364397 NZ = 699720 NZA = 866353 pNZ = 77.980% pNZA = 96.550% AD = 52.08% ADA = 42.06% NO = 1 GSP = 0.00% NSP = 0.00%\n",
      "SI2 = 0.00 SI = -1.00 eGROI = 0.00% eROI = 0.00% eROI2 = 0.00% eROI3 = 0.00% mSpread = 0.0000%\n",
      "Getting extended results...\n"
     ]
    },
    {
     "name": "stderr",
     "output_type": "stream",
     "text": [
      "0it [00:00, ?it/s]\n"
     ]
    },
    {
     "name": "stdout",
     "output_type": "stream",
     "text": [
      "Epoch = 10. Time index = 1. Threshold MC = 0.7. Threshold MD = 0.55\n",
      "RD = 69754 NZ = 126280 NZA = 159107 pNZ = 14.073% pNZA = 17.732% AD = 55.24% ADA = 43.84% NO = 1 GSP = 0.00% NSP = 0.00%\n",
      "SI2 = 0.00 SI = -1.00 eGROI = 0.00% eROI = 0.00% eROI2 = 0.00% eROI3 = 0.00% mSpread = 0.0000%\n",
      "Getting extended results...\n"
     ]
    },
    {
     "name": "stderr",
     "output_type": "stream",
     "text": [
      "100%|██████████████████████████████████████████████████████████████████████████| 29058/29058 [00:07<00:00, 4044.26it/s]\n"
     ]
    },
    {
     "name": "stdout",
     "output_type": "stream",
     "text": [
      "Epoch = 10. Time index = 1. Threshold MC = 0.7. Threshold MD = 0.6\n",
      "RD = 13754 NZ = 22795 NZA = 29059 pNZ = 2.540% pNZA = 3.238% AD = 60.34% ADA = 47.33% NO = 6177 GSP = 57.31% NSP = 42.25%\n",
      "SI2 = -5.99 SI = -45.38 eGROI = 70.14% eROI = -96.53% eROI2 = -53.40% eROI3 = -115.17% mSpread = 0.0270%\n",
      "Getting extended results...\n"
     ]
    },
    {
     "name": "stderr",
     "output_type": "stream",
     "text": [
      "100%|████████████████████████████████████████████████████████████████████████████| 7697/7697 [00:01<00:00, 4350.26it/s]\n"
     ]
    },
    {
     "name": "stdout",
     "output_type": "stream",
     "text": [
      "Epoch = 10. Time index = 1. Threshold MC = 0.7. Threshold MD = 0.65\n",
      "RD = 3931 NZ = 6080 NZA = 7698 pNZ = 0.678% pNZA = 0.858% AD = 64.65% ADA = 51.07% NO = 2600 GSP = 59.23% NSP = 41.65%\n",
      "SI2 = -2.43 SI = -29.74 eGROI = 45.60% eROI = -30.24% eROI2 = -6.40% eROI3 = -32.40% mSpread = 0.0292%\n",
      "Getting extended results...\n"
     ]
    },
    {
     "name": "stderr",
     "output_type": "stream",
     "text": [
      "100%|████████████████████████████████████████████████████████████████████████████| 2079/2079 [00:00<00:00, 3985.38it/s]\n"
     ]
    },
    {
     "name": "stdout",
     "output_type": "stream",
     "text": [
      "Epoch = 10. Time index = 1. Threshold MC = 0.7. Threshold MD = 0.7\n",
      "RD = 1137 NZ = 1665 NZA = 2080 pNZ = 0.186% pNZA = 0.232% AD = 68.29% ADA = 54.66% NO = 1040 GSP = 60.29% NSP = 39.52%\n",
      "SI2 = -2.60 SI = -19.49 eGROI = 13.41% eROI = -18.84% eROI2 = -7.39% eROI3 = -17.79% mSpread = 0.0310%\n",
      "Getting extended results...\n"
     ]
    },
    {
     "name": "stderr",
     "output_type": "stream",
     "text": [
      "100%|██████████████████████████████████████████████████████████████████████████████| 409/409 [00:00<00:00, 2993.36it/s]\n"
     ]
    },
    {
     "name": "stdout",
     "output_type": "stream",
     "text": [
      "Epoch = 10. Time index = 1. Threshold MC = 0.7. Threshold MD = 0.75\n",
      "RD = 255 NZ = 355 NZA = 410 pNZ = 0.040% pNZA = 0.046% AD = 71.83% ADA = 62.20% NO = 267 GSP = 57.30% NSP = 38.58%\n",
      "SI2 = -1.16 SI = -10.01 eGROI = 2.20% eROI = -6.62% eROI2 = -3.14% eROI3 = -5.81% mSpread = 0.0330%\n",
      "Getting extended results...\n"
     ]
    },
    {
     "name": "stderr",
     "output_type": "stream",
     "text": [
      "100%|████████████████████████████████████████████████████████████████████████████████| 50/50 [00:00<00:00, 1790.48it/s]\n"
     ]
    },
    {
     "name": "stdout",
     "output_type": "stream",
     "text": [
      "Epoch = 10. Time index = 1. Threshold MC = 0.7. Threshold MD = 0.8\n",
      "RD = 34 NZ = 44 NZA = 51 pNZ = 0.005% pNZA = 0.006% AD = 77.27% ADA = 66.67% NO = 41 GSP = 56.10% NSP = 36.59%\n",
      "SI2 = -1.09 SI = -4.00 eGROI = -0.05% eROI = -1.77% eROI2 = -0.87% eROI3 = -1.28% mSpread = 0.0419%\n",
      "Getting extended results...\n"
     ]
    },
    {
     "name": "stderr",
     "output_type": "stream",
     "text": [
      "100%|██████████████████████████████████████████████████████████████████████████████████| 3/3 [00:00<00:00, 1002.14it/s]\n"
     ]
    },
    {
     "name": "stdout",
     "output_type": "stream",
     "text": [
      "Epoch = 10. Time index = 1. Threshold MC = 0.7. Threshold MD = 0.85\n",
      "RD = 2 NZ = 4 NZA = 4 pNZ = 0.000% pNZA = 0.000% AD = 50.00% ADA = 50.00% NO = 4 GSP = 25.00% NSP = 0.00%\n",
      "SI2 = -2.00 SI = -2.00 eGROI = -0.16% eROI = -0.35% eROI2 = -0.24% eROI3 = -0.28% mSpread = 0.0477%\n",
      "Getting extended results...\n"
     ]
    },
    {
     "name": "stderr",
     "output_type": "stream",
     "text": [
      "0it [00:00, ?it/s]\n"
     ]
    },
    {
     "name": "stdout",
     "output_type": "stream",
     "text": [
      "Epoch = 10. Time index = 1. Threshold MC = 0.7. Threshold MD = 0.9\n",
      "RD = 0 NZ = 0 NZA = 0 pNZ = 0.000% pNZA = 0.000% AD = 0.00% ADA = 0.00% NO = 1 GSP = 0.00% NSP = 0.00%\n",
      "SI2 = 0.00 SI = -1.00 eGROI = 0.00% eROI = 0.00% eROI2 = 0.00% eROI3 = 0.00% mSpread = 0.0000%\n",
      "Getting extended results...\n"
     ]
    },
    {
     "name": "stderr",
     "output_type": "stream",
     "text": [
      "0it [00:00, ?it/s]\n"
     ]
    },
    {
     "name": "stdout",
     "output_type": "stream",
     "text": [
      "Epoch = 10. Time index = 1. Threshold MC = 0.7. Threshold MD = 0.95\n",
      "RD = 0 NZ = 0 NZA = 0 pNZ = 0.000% pNZA = 0.000% AD = 0.00% ADA = 0.00% NO = 1 GSP = 0.00% NSP = 0.00%\n",
      "SI2 = 0.00 SI = -1.00 eGROI = 0.00% eROI = 0.00% eROI2 = 0.00% eROI3 = 0.00% mSpread = 0.0000%\n",
      "\n",
      "Getting extended results...\n"
     ]
    },
    {
     "name": "stderr",
     "output_type": "stream",
     "text": [
      "0it [00:00, ?it/s]\n"
     ]
    },
    {
     "name": "stdout",
     "output_type": "stream",
     "text": [
      "Epoch = 10. Time index = 1. Threshold MC = 0.75. Threshold MD = 0.5\n",
      "RD = 343704 NZ = 660872 NZA = 810219 pNZ = 73.651% pNZA = 90.295% AD = 52.01% ADA = 42.42% NO = 1 GSP = 0.00% NSP = 0.00%\n",
      "SI2 = 0.00 SI = -1.00 eGROI = 0.00% eROI = 0.00% eROI2 = 0.00% eROI3 = 0.00% mSpread = 0.0000%\n",
      "Getting extended results...\n"
     ]
    },
    {
     "name": "stderr",
     "output_type": "stream",
     "text": [
      "0it [00:00, ?it/s]\n"
     ]
    },
    {
     "name": "stdout",
     "output_type": "stream",
     "text": [
      "Epoch = 10. Time index = 1. Threshold MC = 0.75. Threshold MD = 0.55\n",
      "RD = 61080 NZ = 110719 NZA = 136796 pNZ = 12.339% pNZA = 15.245% AD = 55.17% ADA = 44.65% NO = 1 GSP = 0.00% NSP = 0.00%\n",
      "SI2 = 0.00 SI = -1.00 eGROI = 0.00% eROI = 0.00% eROI2 = 0.00% eROI3 = 0.00% mSpread = 0.0000%\n",
      "Getting extended results...\n"
     ]
    },
    {
     "name": "stderr",
     "output_type": "stream",
     "text": [
      "100%|██████████████████████████████████████████████████████████████████████████| 22619/22619 [00:04<00:00, 4718.86it/s]\n"
     ]
    },
    {
     "name": "stdout",
     "output_type": "stream",
     "text": [
      "Epoch = 10. Time index = 1. Threshold MC = 0.75. Threshold MD = 0.6\n",
      "RD = 11048 NZ = 18255 NZA = 22620 pNZ = 2.034% pNZA = 2.521% AD = 60.52% ADA = 48.84% NO = 5637 GSP = 57.16% NSP = 42.31%\n",
      "SI2 = -5.93 SI = -43.31 eGROI = 64.57% eROI = -87.26% eROI2 = -48.17% eROI3 = -104.54% mSpread = 0.0269%\n",
      "Getting extended results...\n"
     ]
    },
    {
     "name": "stderr",
     "output_type": "stream",
     "text": [
      "100%|████████████████████████████████████████████████████████████████████████████| 5759/5759 [00:01<00:00, 4354.62it/s]\n"
     ]
    },
    {
     "name": "stdout",
     "output_type": "stream",
     "text": [
      "Epoch = 10. Time index = 1. Threshold MC = 0.75. Threshold MD = 0.65\n",
      "RD = 3057 NZ = 4705 NZA = 5760 pNZ = 0.524% pNZA = 0.642% AD = 64.97% ADA = 53.07% NO = 2180 GSP = 59.31% NSP = 42.16%\n",
      "SI2 = -2.53 SI = -27.00 eGROI = 41.58% eROI = -22.23% eROI2 = -2.02% eROI3 = -23.82% mSpread = 0.0293%\n",
      "Getting extended results...\n"
     ]
    },
    {
     "name": "stderr",
     "output_type": "stream",
     "text": [
      "100%|████████████████████████████████████████████████████████████████████████████| 1607/1607 [00:00<00:00, 3958.41it/s]\n"
     ]
    },
    {
     "name": "stdout",
     "output_type": "stream",
     "text": [
      "Epoch = 10. Time index = 1. Threshold MC = 0.75. Threshold MD = 0.7\n",
      "RD = 923 NZ = 1336 NZA = 1608 pNZ = 0.149% pNZA = 0.179% AD = 69.09% ADA = 57.40% NO = 851 GSP = 60.05% NSP = 40.31%\n",
      "SI2 = -2.09 SI = -17.40 eGROI = 12.35% eROI = -14.10% eROI2 = -4.67% eROI3 = -13.18% mSpread = 0.0311%\n",
      "Getting extended results...\n"
     ]
    },
    {
     "name": "stderr",
     "output_type": "stream",
     "text": [
      "100%|██████████████████████████████████████████████████████████████████████████████| 354/354 [00:00<00:00, 3379.09it/s]\n"
     ]
    },
    {
     "name": "stdout",
     "output_type": "stream",
     "text": [
      "Epoch = 10. Time index = 1. Threshold MC = 0.75. Threshold MD = 0.75\n",
      "RD = 222 NZ = 312 NZA = 355 pNZ = 0.035% pNZA = 0.040% AD = 71.15% ADA = 62.54% NO = 224 GSP = 56.70% NSP = 38.39%\n",
      "SI2 = -0.80 SI = -9.19 eGROI = 1.82% eROI = -5.65% eROI2 = -2.66% eROI3 = -4.90% mSpread = 0.0334%\n",
      "Getting extended results...\n"
     ]
    },
    {
     "name": "stderr",
     "output_type": "stream",
     "text": [
      "100%|████████████████████████████████████████████████████████████████████████████████| 48/48 [00:00<00:00, 1925.00it/s]\n"
     ]
    },
    {
     "name": "stdout",
     "output_type": "stream",
     "text": [
      "Epoch = 10. Time index = 1. Threshold MC = 0.75. Threshold MD = 0.8\n",
      "RD = 33 NZ = 43 NZA = 49 pNZ = 0.005% pNZA = 0.005% AD = 76.74% ADA = 67.35% NO = 39 GSP = 58.97% NSP = 38.46%\n",
      "SI2 = -0.80 SI = -3.78 eGROI = -0.00% eROI = -1.66% eROI2 = -0.78% eROI3 = -1.17% mSpread = 0.0425%\n",
      "Getting extended results...\n"
     ]
    },
    {
     "name": "stderr",
     "output_type": "stream",
     "text": [
      "100%|███████████████████████████████████████████████████████████████████████████████████| 3/3 [00:00<00:00, 752.21it/s]\n"
     ]
    },
    {
     "name": "stdout",
     "output_type": "stream",
     "text": [
      "Epoch = 10. Time index = 1. Threshold MC = 0.75. Threshold MD = 0.85\n",
      "RD = 2 NZ = 4 NZA = 4 pNZ = 0.000% pNZA = 0.000% AD = 50.00% ADA = 50.00% NO = 4 GSP = 25.00% NSP = 0.00%\n",
      "SI2 = -2.00 SI = -2.00 eGROI = -0.16% eROI = -0.35% eROI2 = -0.24% eROI3 = -0.28% mSpread = 0.0477%\n",
      "Getting extended results...\n"
     ]
    },
    {
     "name": "stderr",
     "output_type": "stream",
     "text": [
      "0it [00:00, ?it/s]\n"
     ]
    },
    {
     "name": "stdout",
     "output_type": "stream",
     "text": [
      "Epoch = 10. Time index = 1. Threshold MC = 0.75. Threshold MD = 0.9\n",
      "RD = 0 NZ = 0 NZA = 0 pNZ = 0.000% pNZA = 0.000% AD = 0.00% ADA = 0.00% NO = 1 GSP = 0.00% NSP = 0.00%\n",
      "SI2 = 0.00 SI = -1.00 eGROI = 0.00% eROI = 0.00% eROI2 = 0.00% eROI3 = 0.00% mSpread = 0.0000%\n",
      "Getting extended results...\n"
     ]
    },
    {
     "name": "stderr",
     "output_type": "stream",
     "text": [
      "0it [00:00, ?it/s]\n"
     ]
    },
    {
     "name": "stdout",
     "output_type": "stream",
     "text": [
      "Epoch = 10. Time index = 1. Threshold MC = 0.75. Threshold MD = 0.95\n",
      "RD = 0 NZ = 0 NZA = 0 pNZ = 0.000% pNZA = 0.000% AD = 0.00% ADA = 0.00% NO = 1 GSP = 0.00% NSP = 0.00%\n",
      "SI2 = 0.00 SI = -1.00 eGROI = 0.00% eROI = 0.00% eROI2 = 0.00% eROI3 = 0.00% mSpread = 0.0000%\n",
      "\n",
      "Getting extended results...\n"
     ]
    },
    {
     "name": "stderr",
     "output_type": "stream",
     "text": [
      "0it [00:00, ?it/s]\n"
     ]
    },
    {
     "name": "stdout",
     "output_type": "stream",
     "text": [
      "Epoch = 10. Time index = 1. Threshold MC = 0.8. Threshold MD = 0.5\n",
      "RD = 275621 NZ = 530172 NZA = 638233 pNZ = 59.085% pNZA = 71.128% AD = 51.99% ADA = 43.19% NO = 1 GSP = 0.00% NSP = 0.00%\n",
      "SI2 = 0.00 SI = -1.00 eGROI = 0.00% eROI = 0.00% eROI2 = 0.00% eROI3 = 0.00% mSpread = 0.0000%\n",
      "Getting extended results...\n"
     ]
    },
    {
     "name": "stderr",
     "output_type": "stream",
     "text": [
      "0it [00:00, ?it/s]\n"
     ]
    },
    {
     "name": "stdout",
     "output_type": "stream",
     "text": [
      "Epoch = 10. Time index = 1. Threshold MC = 0.8. Threshold MD = 0.55\n",
      "RD = 44069 NZ = 79474 NZA = 95131 pNZ = 8.857% pNZA = 10.602% AD = 55.45% ADA = 46.32% NO = 1 GSP = 0.00% NSP = 0.00%\n",
      "SI2 = 0.00 SI = -1.00 eGROI = 0.00% eROI = 0.00% eROI2 = 0.00% eROI3 = 0.00% mSpread = 0.0000%\n",
      "Getting extended results...\n"
     ]
    },
    {
     "name": "stderr",
     "output_type": "stream",
     "text": [
      "100%|██████████████████████████████████████████████████████████████████████████| 13861/13861 [00:03<00:00, 4269.65it/s]\n"
     ]
    },
    {
     "name": "stdout",
     "output_type": "stream",
     "text": [
      "Epoch = 10. Time index = 1. Threshold MC = 0.8. Threshold MD = 0.6\n",
      "RD = 7116 NZ = 11684 NZA = 13862 pNZ = 1.302% pNZA = 1.545% AD = 60.90% ADA = 51.33% NO = 4111 GSP = 57.87% NSP = 44.39%\n",
      "SI2 = -2.54 SI = -35.65 eGROI = 54.33% eROI = -56.93% eROI2 = -27.89% eROI3 = -69.00% mSpread = 0.0271%\n",
      "Getting extended results...\n"
     ]
    },
    {
     "name": "stderr",
     "output_type": "stream",
     "text": [
      "100%|████████████████████████████████████████████████████████████████████████████| 3545/3545 [00:00<00:00, 3927.50it/s]\n"
     ]
    },
    {
     "name": "stdout",
     "output_type": "stream",
     "text": [
      "Epoch = 10. Time index = 1. Threshold MC = 0.8. Threshold MD = 0.65\n",
      "RD = 1973 NZ = 3005 NZA = 3546 pNZ = 0.335% pNZA = 0.395% AD = 65.66% ADA = 55.64% NO = 1515 GSP = 60.07% NSP = 44.49%\n",
      "SI2 = -0.64 SI = -21.60 eGROI = 31.85% eROI = -12.48% eROI2 = 1.55% eROI3 = -13.60% mSpread = 0.0293%\n",
      "Getting extended results...\n"
     ]
    },
    {
     "name": "stderr",
     "output_type": "stream",
     "text": [
      "100%|████████████████████████████████████████████████████████████████████████████| 1001/1001 [00:00<00:00, 3623.26it/s]\n"
     ]
    },
    {
     "name": "stdout",
     "output_type": "stream",
     "text": [
      "Epoch = 10. Time index = 1. Threshold MC = 0.8. Threshold MD = 0.7\n",
      "RD = 584 NZ = 858 NZA = 1002 pNZ = 0.096% pNZA = 0.112% AD = 68.07% ADA = 58.28% NO = 564 GSP = 59.22% NSP = 43.09%\n",
      "SI2 = -1.26 SI = -13.50 eGROI = 9.32% eROI = -7.83% eROI2 = -1.96% eROI3 = -7.60% mSpread = 0.0304%\n",
      "Getting extended results...\n"
     ]
    },
    {
     "name": "stderr",
     "output_type": "stream",
     "text": [
      "100%|██████████████████████████████████████████████████████████████████████████████| 259/259 [00:00<00:00, 3055.11it/s]\n"
     ]
    },
    {
     "name": "stdout",
     "output_type": "stream",
     "text": [
      "Epoch = 10. Time index = 1. Threshold MC = 0.8. Threshold MD = 0.75\n",
      "RD = 166 NZ = 236 NZA = 260 pNZ = 0.026% pNZA = 0.029% AD = 70.34% ADA = 63.85% NO = 166 GSP = 55.42% NSP = 40.36%\n",
      "SI2 = -0.47 SI = -7.65 eGROI = 1.53% eROI = -3.88% eROI2 = -1.79% eROI3 = -3.45% mSpread = 0.0326%\n",
      "Getting extended results...\n"
     ]
    },
    {
     "name": "stderr",
     "output_type": "stream",
     "text": [
      "100%|████████████████████████████████████████████████████████████████████████████████| 39/39 [00:00<00:00, 1629.26it/s]\n"
     ]
    },
    {
     "name": "stdout",
     "output_type": "stream",
     "text": [
      "Epoch = 10. Time index = 1. Threshold MC = 0.8. Threshold MD = 0.8\n",
      "RD = 29 NZ = 37 NZA = 40 pNZ = 0.004% pNZA = 0.004% AD = 78.38% ADA = 72.50% NO = 33 GSP = 66.67% NSP = 42.42%\n",
      "SI2 = 0.17 SI = -3.23 eGROI = 0.16% eROI = -1.20% eROI2 = -0.50% eROI3 = -0.83% mSpread = 0.0412%\n",
      "Getting extended results...\n"
     ]
    },
    {
     "name": "stderr",
     "output_type": "stream",
     "text": [
      "100%|███████████████████████████████████████████████████████████████████████████████████| 3/3 [00:00<00:00, 751.89it/s]\n"
     ]
    },
    {
     "name": "stdout",
     "output_type": "stream",
     "text": [
      "Epoch = 10. Time index = 1. Threshold MC = 0.8. Threshold MD = 0.85\n",
      "RD = 2 NZ = 4 NZA = 4 pNZ = 0.000% pNZA = 0.000% AD = 50.00% ADA = 50.00% NO = 4 GSP = 25.00% NSP = 0.00%\n",
      "SI2 = -2.00 SI = -2.00 eGROI = -0.16% eROI = -0.35% eROI2 = -0.24% eROI3 = -0.28% mSpread = 0.0477%\n",
      "Getting extended results...\n"
     ]
    },
    {
     "name": "stderr",
     "output_type": "stream",
     "text": [
      "0it [00:00, ?it/s]\n"
     ]
    },
    {
     "name": "stdout",
     "output_type": "stream",
     "text": [
      "Epoch = 10. Time index = 1. Threshold MC = 0.8. Threshold MD = 0.9\n",
      "RD = 0 NZ = 0 NZA = 0 pNZ = 0.000% pNZA = 0.000% AD = 0.00% ADA = 0.00% NO = 1 GSP = 0.00% NSP = 0.00%\n",
      "SI2 = 0.00 SI = -1.00 eGROI = 0.00% eROI = 0.00% eROI2 = 0.00% eROI3 = 0.00% mSpread = 0.0000%\n",
      "Getting extended results...\n"
     ]
    },
    {
     "name": "stderr",
     "output_type": "stream",
     "text": [
      "0it [00:00, ?it/s]\n"
     ]
    },
    {
     "name": "stdout",
     "output_type": "stream",
     "text": [
      "Epoch = 10. Time index = 1. Threshold MC = 0.8. Threshold MD = 0.95\n",
      "RD = 0 NZ = 0 NZA = 0 pNZ = 0.000% pNZA = 0.000% AD = 0.00% ADA = 0.00% NO = 1 GSP = 0.00% NSP = 0.00%\n",
      "SI2 = 0.00 SI = -1.00 eGROI = 0.00% eROI = 0.00% eROI2 = 0.00% eROI3 = 0.00% mSpread = 0.0000%\n",
      "\n",
      "Getting extended results...\n"
     ]
    },
    {
     "name": "stderr",
     "output_type": "stream",
     "text": [
      "0it [00:00, ?it/s]\n"
     ]
    },
    {
     "name": "stdout",
     "output_type": "stream",
     "text": [
      "Epoch = 10. Time index = 1. Threshold MC = 0.85. Threshold MD = 0.5\n",
      "RD = 97505 NZ = 187458 NZA = 217717 pNZ = 20.891% pNZA = 24.263% AD = 52.01% ADA = 44.79% NO = 1 GSP = 0.00% NSP = 0.00%\n",
      "SI2 = 0.00 SI = -1.00 eGROI = 0.00% eROI = 0.00% eROI2 = 0.00% eROI3 = 0.00% mSpread = 0.0000%\n",
      "Getting extended results...\n"
     ]
    },
    {
     "name": "stderr",
     "output_type": "stream",
     "text": [
      "100%|██████████████████████████████████████████████████████████████████████████| 44720/44720 [00:09<00:00, 4880.88it/s]\n"
     ]
    },
    {
     "name": "stdout",
     "output_type": "stream",
     "text": [
      "Epoch = 10. Time index = 1. Threshold MC = 0.85. Threshold MD = 0.55\n",
      "RD = 21370 NZ = 38788 NZA = 44721 pNZ = 4.323% pNZA = 4.984% AD = 55.09% ADA = 47.79% NO = 8865 GSP = 56.77% NSP = 46.38%\n",
      "SI2 = -2.73 SI = -50.48 eGROI = 87.16% eROI = -130.08% eROI2 = -90.14% eROI3 = -178.79% mSpread = 0.0245%\n",
      "Getting extended results...\n"
     ]
    },
    {
     "name": "stderr",
     "output_type": "stream",
     "text": [
      "100%|████████████████████████████████████████████████████████████████████████████| 7114/7114 [00:01<00:00, 4149.32it/s]\n"
     ]
    },
    {
     "name": "stdout",
     "output_type": "stream",
     "text": [
      "Epoch = 10. Time index = 1. Threshold MC = 0.85. Threshold MD = 0.6\n",
      "RD = 3807 NZ = 6304 NZA = 7115 pNZ = 0.703% pNZA = 0.793% AD = 60.39% ADA = 53.51% NO = 2200 GSP = 59.86% NSP = 48.91%\n",
      "SI2 = 1.66 SI = -23.95 eGROI = 45.98% eROI = -11.07% eROI2 = 1.98% eROI3 = -20.02% mSpread = 0.0259%\n",
      "Getting extended results...\n"
     ]
    },
    {
     "name": "stderr",
     "output_type": "stream",
     "text": [
      "100%|████████████████████████████████████████████████████████████████████████████| 1689/1689 [00:00<00:00, 4090.17it/s]\n"
     ]
    },
    {
     "name": "stdout",
     "output_type": "stream",
     "text": [
      "Epoch = 10. Time index = 1. Threshold MC = 0.85. Threshold MD = 0.65\n",
      "RD = 1005 NZ = 1525 NZA = 1690 pNZ = 0.170% pNZA = 0.188% AD = 65.90% ADA = 59.47% NO = 739 GSP = 61.57% NSP = 51.42%\n",
      "SI2 = 2.91 SI = -13.19 eGROI = 24.21% eROI = 3.46% eROI2 = 9.43% eROI3 = 2.04% mSpread = 0.0281%\n",
      "Getting extended results...\n"
     ]
    },
    {
     "name": "stderr",
     "output_type": "stream",
     "text": [
      "100%|██████████████████████████████████████████████████████████████████████████████| 459/459 [00:00<00:00, 2691.31it/s]\n"
     ]
    },
    {
     "name": "stdout",
     "output_type": "stream",
     "text": [
      "Epoch = 10. Time index = 1. Threshold MC = 0.85. Threshold MD = 0.7\n",
      "RD = 286 NZ = 418 NZA = 460 pNZ = 0.047% pNZA = 0.051% AD = 68.42% ADA = 62.17% NO = 283 GSP = 59.36% NSP = 48.76%\n",
      "SI2 = 0.89 SI = -8.59 eGROI = 6.26% eROI = -2.05% eROI2 = 0.60% eROI3 = -2.23% mSpread = 0.0294%\n",
      "Getting extended results...\n"
     ]
    },
    {
     "name": "stderr",
     "output_type": "stream",
     "text": [
      "100%|████████████████████████████████████████████████████████████████████████████████| 98/98 [00:00<00:00, 2339.36it/s]\n"
     ]
    },
    {
     "name": "stdout",
     "output_type": "stream",
     "text": [
      "Epoch = 10. Time index = 1. Threshold MC = 0.85. Threshold MD = 0.75\n",
      "RD = 69 NZ = 94 NZA = 99 pNZ = 0.010% pNZA = 0.011% AD = 73.40% ADA = 69.70% NO = 88 GSP = 56.82% NSP = 46.59%\n",
      "SI2 = 0.43 SI = -4.96 eGROI = 1.52% eROI = -1.36% eROI2 = -0.24% eROI3 = -1.12% mSpread = 0.0327%\n",
      "Getting extended results...\n"
     ]
    },
    {
     "name": "stderr",
     "output_type": "stream",
     "text": [
      "100%|████████████████████████████████████████████████████████████████████████████████| 17/17 [00:00<00:00, 2130.42it/s]\n"
     ]
    },
    {
     "name": "stdout",
     "output_type": "stream",
     "text": [
      "Epoch = 10. Time index = 1. Threshold MC = 0.85. Threshold MD = 0.8\n",
      "RD = 14 NZ = 17 NZA = 18 pNZ = 0.002% pNZA = 0.002% AD = 82.35% ADA = 77.78% NO = 18 GSP = 66.67% NSP = 55.56%\n",
      "SI2 = 0.47 SI = -1.75 eGROI = 0.14% eROI = -0.57% eROI2 = -0.22% eROI3 = -0.40% mSpread = 0.0399%\n",
      "Getting extended results...\n"
     ]
    },
    {
     "name": "stderr",
     "output_type": "stream",
     "text": [
      "100%|███████████████████████████████████████████████████████████████████████████████████| 2/2 [00:00<00:00, 668.31it/s]\n"
     ]
    },
    {
     "name": "stdout",
     "output_type": "stream",
     "text": [
      "Epoch = 10. Time index = 1. Threshold MC = 0.85. Threshold MD = 0.85\n",
      "RD = 2 NZ = 3 NZA = 3 pNZ = 0.000% pNZA = 0.000% AD = 66.67% ADA = 66.67% NO = 3 GSP = 33.33% NSP = 0.00%\n",
      "SI2 = -1.73 SI = -1.73 eGROI = -0.04% eROI = -0.18% eROI2 = -0.10% eROI3 = -0.13% mSpread = 0.0453%\n",
      "Getting extended results...\n"
     ]
    },
    {
     "name": "stderr",
     "output_type": "stream",
     "text": [
      "0it [00:00, ?it/s]\n"
     ]
    },
    {
     "name": "stdout",
     "output_type": "stream",
     "text": [
      "Epoch = 10. Time index = 1. Threshold MC = 0.85. Threshold MD = 0.9\n",
      "RD = 0 NZ = 0 NZA = 0 pNZ = 0.000% pNZA = 0.000% AD = 0.00% ADA = 0.00% NO = 1 GSP = 0.00% NSP = 0.00%\n",
      "SI2 = 0.00 SI = -1.00 eGROI = 0.00% eROI = 0.00% eROI2 = 0.00% eROI3 = 0.00% mSpread = 0.0000%\n",
      "Getting extended results...\n"
     ]
    },
    {
     "name": "stderr",
     "output_type": "stream",
     "text": [
      "0it [00:00, ?it/s]\n"
     ]
    },
    {
     "name": "stdout",
     "output_type": "stream",
     "text": [
      "Epoch = 10. Time index = 1. Threshold MC = 0.85. Threshold MD = 0.95\n",
      "RD = 0 NZ = 0 NZA = 0 pNZ = 0.000% pNZA = 0.000% AD = 0.00% ADA = 0.00% NO = 1 GSP = 0.00% NSP = 0.00%\n",
      "SI2 = 0.00 SI = -1.00 eGROI = 0.00% eROI = 0.00% eROI2 = 0.00% eROI3 = 0.00% mSpread = 0.0000%\n",
      "\n",
      "Getting extended results...\n"
     ]
    },
    {
     "name": "stderr",
     "output_type": "stream",
     "text": [
      "100%|██████████████████████████████████████████████████████████████████████████| 13083/13083 [00:02<00:00, 5103.85it/s]\n"
     ]
    },
    {
     "name": "stdout",
     "output_type": "stream",
     "text": [
      "Epoch = 10. Time index = 1. Threshold MC = 0.9. Threshold MD = 0.5\n",
      "RD = 6549 NZ = 11891 NZA = 13084 pNZ = 1.325% pNZA = 1.458% AD = 55.08% ADA = 50.05% NO = 1684 GSP = 54.22% NSP = 46.67%\n",
      "SI2 = -1.17 SI = -21.87 eGROI = 9.00% eROI = -31.40% eROI2 = -24.68% eROI3 = -41.52% mSpread = 0.0240%\n",
      "Getting extended results...\n"
     ]
    },
    {
     "name": "stderr",
     "output_type": "stream",
     "text": [
      "100%|████████████████████████████████████████████████████████████████████████████| 7042/7042 [00:01<00:00, 4865.47it/s]\n"
     ]
    },
    {
     "name": "stdout",
     "output_type": "stream",
     "text": [
      "Epoch = 10. Time index = 1. Threshold MC = 0.9. Threshold MD = 0.55\n",
      "RD = 3667 NZ = 6419 NZA = 7043 pNZ = 0.715% pNZA = 0.785% AD = 57.13% ADA = 52.07% NO = 1339 GSP = 56.76% NSP = 49.59%\n",
      "SI2 = 0.79 SI = -18.43 eGROI = 19.77% eROI = -12.48% eROI2 = -7.01% eROI3 = -20.40% mSpread = 0.0241%\n",
      "Getting extended results...\n"
     ]
    },
    {
     "name": "stderr",
     "output_type": "stream",
     "text": [
      "100%|████████████████████████████████████████████████████████████████████████████| 2825/2825 [00:00<00:00, 4291.66it/s]\n"
     ]
    },
    {
     "name": "stdout",
     "output_type": "stream",
     "text": [
      "Epoch = 10. Time index = 1. Threshold MC = 0.9. Threshold MD = 0.6\n",
      "RD = 1601 NZ = 2577 NZA = 2826 pNZ = 0.287% pNZA = 0.315% AD = 62.13% ADA = 56.65% NO = 783 GSP = 61.94% NSP = 54.15%\n",
      "SI2 = 3.40 SI = -12.81 eGROI = 29.28% eROI = 9.98% eROI2 = 13.62% eROI3 = 5.79% mSpread = 0.0246%\n",
      "Getting extended results...\n"
     ]
    },
    {
     "name": "stderr",
     "output_type": "stream",
     "text": [
      "100%|██████████████████████████████████████████████████████████████████████████████| 905/905 [00:00<00:00, 3734.14it/s]\n"
     ]
    },
    {
     "name": "stdout",
     "output_type": "stream",
     "text": [
      "Epoch = 10. Time index = 1. Threshold MC = 0.9. Threshold MD = 0.65\n",
      "RD = 552 NZ = 833 NZA = 906 pNZ = 0.093% pNZA = 0.101% AD = 66.27% ADA = 60.93% NO = 342 GSP = 66.96% NSP = 59.94%\n",
      "SI2 = 4.54 SI = -7.38 eGROI = 17.44% eROI = 8.77% eROI2 = 10.60% eROI3 = 7.18% mSpread = 0.0253%\n",
      "Getting extended results...\n"
     ]
    },
    {
     "name": "stderr",
     "output_type": "stream",
     "text": [
      "100%|██████████████████████████████████████████████████████████████████████████████| 236/236 [00:00<00:00, 2719.77it/s]\n"
     ]
    },
    {
     "name": "stdout",
     "output_type": "stream",
     "text": [
      "Epoch = 10. Time index = 1. Threshold MC = 0.9. Threshold MD = 0.7\n",
      "RD = 143 NZ = 220 NZA = 237 pNZ = 0.025% pNZA = 0.026% AD = 65.00% ADA = 60.34% NO = 132 GSP = 59.85% NSP = 53.79%\n",
      "SI2 = 1.39 SI = -5.26 eGROI = 4.16% eROI = 0.91% eROI2 = 1.52% eROI3 = 0.20% mSpread = 0.0246%\n",
      "Getting extended results...\n"
     ]
    },
    {
     "name": "stderr",
     "output_type": "stream",
     "text": [
      "100%|████████████████████████████████████████████████████████████████████████████████| 43/43 [00:00<00:00, 1959.72it/s]\n"
     ]
    },
    {
     "name": "stdout",
     "output_type": "stream",
     "text": [
      "Epoch = 10. Time index = 1. Threshold MC = 0.9. Threshold MD = 0.75\n",
      "RD = 30 NZ = 42 NZA = 44 pNZ = 0.005% pNZA = 0.005% AD = 71.43% ADA = 68.18% NO = 40 GSP = 67.50% NSP = 62.50%\n",
      "SI2 = 1.58 SI = -2.27 eGROI = 1.05% eROI = -0.00% eROI2 = 0.25% eROI3 = -0.15% mSpread = 0.0264%\n",
      "Getting extended results...\n"
     ]
    },
    {
     "name": "stderr",
     "output_type": "stream",
     "text": [
      "100%|██████████████████████████████████████████████████████████████████████████████████| 5/5 [00:00<00:00, 1002.99it/s]\n"
     ]
    },
    {
     "name": "stdout",
     "output_type": "stream",
     "text": [
      "Epoch = 10. Time index = 1. Threshold MC = 0.9. Threshold MD = 0.8\n",
      "RD = 3 NZ = 5 NZA = 6 pNZ = 0.001% pNZA = 0.001% AD = 60.00% ADA = 50.00% NO = 6 GSP = 50.00% NSP = 50.00%\n",
      "SI2 = 0.00 SI = -1.02 eGROI = -0.60% eROI = -0.79% eROI2 = -0.72% eROI3 = -0.78% mSpread = 0.0314%\n",
      "Getting extended results...\n"
     ]
    },
    {
     "name": "stderr",
     "output_type": "stream",
     "text": [
      "0it [00:00, ?it/s]\n"
     ]
    },
    {
     "name": "stdout",
     "output_type": "stream",
     "text": [
      "Epoch = 10. Time index = 1. Threshold MC = 0.9. Threshold MD = 0.85\n",
      "RD = 0 NZ = 0 NZA = 0 pNZ = 0.000% pNZA = 0.000% AD = 0.00% ADA = 0.00% NO = 1 GSP = 0.00% NSP = 0.00%\n",
      "SI2 = 0.00 SI = -1.00 eGROI = 0.00% eROI = 0.00% eROI2 = 0.00% eROI3 = 0.00% mSpread = 0.0000%\n",
      "Getting extended results...\n"
     ]
    },
    {
     "name": "stderr",
     "output_type": "stream",
     "text": [
      "0it [00:00, ?it/s]\n"
     ]
    },
    {
     "name": "stdout",
     "output_type": "stream",
     "text": [
      "Epoch = 10. Time index = 1. Threshold MC = 0.9. Threshold MD = 0.9\n",
      "RD = 0 NZ = 0 NZA = 0 pNZ = 0.000% pNZA = 0.000% AD = 0.00% ADA = 0.00% NO = 1 GSP = 0.00% NSP = 0.00%\n",
      "SI2 = 0.00 SI = -1.00 eGROI = 0.00% eROI = 0.00% eROI2 = 0.00% eROI3 = 0.00% mSpread = 0.0000%\n",
      "Getting extended results...\n"
     ]
    },
    {
     "name": "stderr",
     "output_type": "stream",
     "text": [
      "0it [00:00, ?it/s]\n"
     ]
    },
    {
     "name": "stdout",
     "output_type": "stream",
     "text": [
      "Epoch = 10. Time index = 1. Threshold MC = 0.9. Threshold MD = 0.95\n",
      "RD = 0 NZ = 0 NZA = 0 pNZ = 0.000% pNZA = 0.000% AD = 0.00% ADA = 0.00% NO = 1 GSP = 0.00% NSP = 0.00%\n",
      "SI2 = 0.00 SI = -1.00 eGROI = 0.00% eROI = 0.00% eROI2 = 0.00% eROI3 = 0.00% mSpread = 0.0000%\n",
      "\n",
      "Getting extended results...\n"
     ]
    },
    {
     "name": "stderr",
     "output_type": "stream",
     "text": [
      "100%|████████████████████████████████████████████████████████████████████████████████| 82/82 [00:00<00:00, 2653.27it/s]\n"
     ]
    },
    {
     "name": "stdout",
     "output_type": "stream",
     "text": [
      "Epoch = 10. Time index = 1. Threshold MC = 0.95. Threshold MD = 0.5\n",
      "RD = 44 NZ = 82 NZA = 83 pNZ = 0.009% pNZA = 0.009% AD = 53.66% ADA = 53.01% NO = 42 GSP = 52.38% NSP = 50.00%\n",
      "SI2 = 0.31 SI = -3.16 eGROI = 0.70% eROI = -0.30% eROI2 = -0.14% eROI3 = -0.56% mSpread = 0.0238%\n",
      "Getting extended results...\n"
     ]
    },
    {
     "name": "stderr",
     "output_type": "stream",
     "text": [
      "100%|████████████████████████████████████████████████████████████████████████████████| 54/54 [00:00<00:00, 3384.37it/s]\n"
     ]
    },
    {
     "name": "stdout",
     "output_type": "stream",
     "text": [
      "Epoch = 10. Time index = 1. Threshold MC = 0.95. Threshold MD = 0.55\n",
      "RD = 28 NZ = 54 NZA = 55 pNZ = 0.006% pNZA = 0.006% AD = 51.85% ADA = 50.91% NO = 35 GSP = 54.29% NSP = 51.43%\n",
      "SI2 = 0.17 SI = -2.79 eGROI = 1.38% eROI = 0.57% eROI2 = 0.68% eROI3 = 0.33% mSpread = 0.0232%\n",
      "Getting extended results...\n"
     ]
    },
    {
     "name": "stderr",
     "output_type": "stream",
     "text": [
      "100%|████████████████████████████████████████████████████████████████████████████████| 27/27 [00:00<00:00, 1504.45it/s]\n"
     ]
    },
    {
     "name": "stdout",
     "output_type": "stream",
     "text": [
      "Epoch = 10. Time index = 1. Threshold MC = 0.95. Threshold MD = 0.6\n",
      "RD = 15 NZ = 28 NZA = 28 pNZ = 0.003% pNZA = 0.003% AD = 53.57% ADA = 53.57% NO = 25 GSP = 60.00% NSP = 60.00%\n",
      "SI2 = 1.00 SI = -1.88 eGROI = 2.22% eROI = 1.64% eROI2 = 1.72% eROI3 = 1.47% mSpread = 0.0229%\n",
      "Getting extended results...\n"
     ]
    },
    {
     "name": "stderr",
     "output_type": "stream",
     "text": [
      "100%|████████████████████████████████████████████████████████████████████████████████| 13/13 [00:00<00:00, 1629.34it/s]\n"
     ]
    },
    {
     "name": "stdout",
     "output_type": "stream",
     "text": [
      "Epoch = 10. Time index = 1. Threshold MC = 0.95. Threshold MD = 0.65\n",
      "RD = 6 NZ = 14 NZA = 14 pNZ = 0.002% pNZA = 0.002% AD = 42.86% ADA = 42.86% NO = 13 GSP = 46.15% NSP = 46.15%\n",
      "SI2 = -0.28 SI = -1.81 eGROI = -0.31% eROI = -0.59% eROI2 = -0.57% eROI3 = -0.70% mSpread = 0.0217%\n",
      "Getting extended results...\n"
     ]
    },
    {
     "name": "stderr",
     "output_type": "stream",
     "text": [
      "100%|██████████████████████████████████████████████████████████████████████████████████| 5/5 [00:00<00:00, 1671.30it/s]\n"
     ]
    },
    {
     "name": "stdout",
     "output_type": "stream",
     "text": [
      "Epoch = 10. Time index = 1. Threshold MC = 0.95. Threshold MD = 0.7\n",
      "RD = 1 NZ = 6 NZA = 6 pNZ = 0.001% pNZA = 0.001% AD = 16.67% ADA = 16.67% NO = 6 GSP = 16.67% NSP = 16.67%\n",
      "SI2 = -1.63 SI = -1.97 eGROI = -1.14% eROI = -1.30% eROI2 = -1.26% eROI3 = -1.32% mSpread = 0.0267%\n",
      "Getting extended results...\n"
     ]
    },
    {
     "name": "stderr",
     "output_type": "stream",
     "text": [
      "0it [00:00, ?it/s]\n"
     ]
    },
    {
     "name": "stdout",
     "output_type": "stream",
     "text": [
      "Epoch = 10. Time index = 1. Threshold MC = 0.95. Threshold MD = 0.75\n",
      "RD = 1 NZ = 1 NZA = 1 pNZ = 0.000% pNZA = 0.000% AD = 100.00% ADA = 100.00% NO = 1 GSP = 100.00% NSP = 100.00%\n",
      "SI2 = 1.00 SI = 1.00 eGROI = 0.26% eROI = 0.23% eROI2 = 0.24% eROI3 = 0.23% mSpread = 0.0384%\n",
      "Getting extended results...\n"
     ]
    },
    {
     "name": "stderr",
     "output_type": "stream",
     "text": [
      "0it [00:00, ?it/s]\n"
     ]
    },
    {
     "name": "stdout",
     "output_type": "stream",
     "text": [
      "Epoch = 10. Time index = 1. Threshold MC = 0.95. Threshold MD = 0.8\n",
      "RD = 1 NZ = 1 NZA = 1 pNZ = 0.000% pNZA = 0.000% AD = 100.00% ADA = 100.00% NO = 1 GSP = 100.00% NSP = 100.00%\n",
      "SI2 = 1.00 SI = 1.00 eGROI = 0.26% eROI = 0.23% eROI2 = 0.24% eROI3 = 0.23% mSpread = 0.0384%\n",
      "Getting extended results...\n"
     ]
    },
    {
     "name": "stderr",
     "output_type": "stream",
     "text": [
      "0it [00:00, ?it/s]\n"
     ]
    },
    {
     "name": "stdout",
     "output_type": "stream",
     "text": [
      "Epoch = 10. Time index = 1. Threshold MC = 0.95. Threshold MD = 0.85\n",
      "RD = 0 NZ = 0 NZA = 0 pNZ = 0.000% pNZA = 0.000% AD = 0.00% ADA = 0.00% NO = 1 GSP = 0.00% NSP = 0.00%\n",
      "SI2 = 0.00 SI = -1.00 eGROI = 0.00% eROI = 0.00% eROI2 = 0.00% eROI3 = 0.00% mSpread = 0.0000%\n",
      "Getting extended results...\n"
     ]
    },
    {
     "name": "stderr",
     "output_type": "stream",
     "text": [
      "0it [00:00, ?it/s]\n"
     ]
    },
    {
     "name": "stdout",
     "output_type": "stream",
     "text": [
      "Epoch = 10. Time index = 1. Threshold MC = 0.95. Threshold MD = 0.9\n",
      "RD = 0 NZ = 0 NZA = 0 pNZ = 0.000% pNZA = 0.000% AD = 0.00% ADA = 0.00% NO = 1 GSP = 0.00% NSP = 0.00%\n",
      "SI2 = 0.00 SI = -1.00 eGROI = 0.00% eROI = 0.00% eROI2 = 0.00% eROI3 = 0.00% mSpread = 0.0000%\n",
      "Getting extended results...\n"
     ]
    },
    {
     "name": "stderr",
     "output_type": "stream",
     "text": [
      "0it [00:00, ?it/s]\n"
     ]
    },
    {
     "name": "stdout",
     "output_type": "stream",
     "text": [
      "Epoch = 10. Time index = 1. Threshold MC = 0.95. Threshold MD = 0.95\n",
      "RD = 0 NZ = 0 NZA = 0 pNZ = 0.000% pNZA = 0.000% AD = 0.00% ADA = 0.00% NO = 1 GSP = 0.00% NSP = 0.00%\n",
      "SI2 = 0.00 SI = -1.00 eGROI = 0.00% eROI = 0.00% eROI2 = 0.00% eROI3 = 0.00% mSpread = 0.0000%\n",
      "\n",
      "Getting extended results...\n"
     ]
    },
    {
     "name": "stderr",
     "output_type": "stream",
     "text": [
      "0it [00:00, ?it/s]\n"
     ]
    },
    {
     "name": "stdout",
     "output_type": "stream",
     "text": [
      "Epoch = 10. Time index = 2. Threshold MC = 0.5. Threshold MD = 0.5\n",
      "J_test = 6.240390109635269, J_train = 4.741746073306845, Accuracy=0.8014403097267713\n",
      "RD = 374223 NZ = 719099 NZA = 897222 pNZ = 80.140% pNZA = 99.991% AD = 52.04% ADA = 41.71% NO = 1 GSP = 0.00% NSP = 0.00%\n",
      "SI2 = 0.00 SI = -1.00 eGROI = 0.00% eROI = 0.00% eROI2 = 0.00% eROI3 = 0.00% mSpread = 0.0000%\n",
      "Getting extended results...\n"
     ]
    },
    {
     "name": "stderr",
     "output_type": "stream",
     "text": [
      "0it [00:00, ?it/s]\n"
     ]
    },
    {
     "name": "stdout",
     "output_type": "stream",
     "text": [
      "Epoch = 10. Time index = 2. Threshold MC = 0.5. Threshold MD = 0.55\n",
      "RD = 84636 NZ = 154865 NZA = 198744 pNZ = 17.259% pNZA = 22.149% AD = 54.65% ADA = 42.59% NO = 1 GSP = 0.00% NSP = 0.00%\n",
      "SI2 = 0.00 SI = -1.00 eGROI = 0.00% eROI = 0.00% eROI2 = 0.00% eROI3 = 0.00% mSpread = 0.0000%\n",
      "Getting extended results...\n"
     ]
    },
    {
     "name": "stderr",
     "output_type": "stream",
     "text": [
      "100%|██████████████████████████████████████████████████████████████████████████| 42997/42997 [00:08<00:00, 4813.53it/s]\n"
     ]
    },
    {
     "name": "stdout",
     "output_type": "stream",
     "text": [
      "Epoch = 10. Time index = 2. Threshold MC = 0.5. Threshold MD = 0.6\n",
      "RD = 19082 NZ = 32591 NZA = 42998 pNZ = 3.632% pNZA = 4.792% AD = 58.55% ADA = 44.38% NO = 6766 GSP = 56.10% NSP = 42.43%\n",
      "SI2 = -5.84 SI = -47.35 eGROI = 62.78% eROI = -118.10% eROI2 = -72.54% eROI3 = -140.20% mSpread = 0.0267%\n",
      "Getting extended results...\n"
     ]
    },
    {
     "name": "stderr",
     "output_type": "stream",
     "text": [
      "100%|██████████████████████████████████████████████████████████████████████████| 12645/12645 [00:03<00:00, 4017.26it/s]\n"
     ]
    },
    {
     "name": "stdout",
     "output_type": "stream",
     "text": [
      "Epoch = 10. Time index = 2. Threshold MC = 0.5. Threshold MD = 0.65\n",
      "RD = 6015 NZ = 9525 NZA = 12646 pNZ = 1.062% pNZA = 1.409% AD = 63.15% ADA = 47.56% NO = 3150 GSP = 58.25% NSP = 40.67%\n",
      "SI2 = -4.17 SI = -33.29 eGROI = 51.55% eROI = -38.39% eROI2 = -11.45% eROI3 = -42.95% mSpread = 0.0286%\n",
      "Getting extended results...\n"
     ]
    },
    {
     "name": "stderr",
     "output_type": "stream",
     "text": [
      "100%|████████████████████████████████████████████████████████████████████████████| 4484/4484 [00:01<00:00, 2580.87it/s]\n"
     ]
    },
    {
     "name": "stdout",
     "output_type": "stream",
     "text": [
      "Epoch = 10. Time index = 2. Threshold MC = 0.5. Threshold MD = 0.7\n",
      "RD = 2257 NZ = 3410 NZA = 4485 pNZ = 0.380% pNZA = 0.500% AD = 66.19% ADA = 50.32% NO = 1561 GSP = 57.66% NSP = 39.21%\n",
      "SI2 = -4.02 SI = -24.01 eGROI = 21.51% eROI = -24.52% eROI2 = -9.71% eROI3 = -25.32% mSpread = 0.0295%\n",
      "Getting extended results...\n"
     ]
    },
    {
     "name": "stderr",
     "output_type": "stream",
     "text": [
      "100%|████████████████████████████████████████████████████████████████████████████| 1322/1322 [00:00<00:00, 2235.25it/s]\n"
     ]
    },
    {
     "name": "stdout",
     "output_type": "stream",
     "text": [
      "Epoch = 10. Time index = 2. Threshold MC = 0.5. Threshold MD = 0.75\n",
      "RD = 737 NZ = 1054 NZA = 1323 pNZ = 0.117% pNZA = 0.147% AD = 69.92% ADA = 55.71% NO = 596 GSP = 58.22% NSP = 39.09%\n",
      "SI2 = -2.46 SI = -14.85 eGROI = 7.12% eROI = -11.20% eROI2 = -4.80% eROI3 = -10.76% mSpread = 0.0307%\n",
      "Getting extended results...\n"
     ]
    },
    {
     "name": "stderr",
     "output_type": "stream",
     "text": [
      "100%|██████████████████████████████████████████████████████████████████████████████| 325/325 [00:00<00:00, 2832.70it/s]\n"
     ]
    },
    {
     "name": "stdout",
     "output_type": "stream",
     "text": [
      "Epoch = 10. Time index = 2. Threshold MC = 0.5. Threshold MD = 0.8\n",
      "RD = 183 NZ = 262 NZA = 326 pNZ = 0.029% pNZA = 0.036% AD = 69.85% ADA = 56.13% NO = 157 GSP = 47.13% NSP = 31.21%\n",
      "SI2 = -3.27 SI = -8.59 eGROI = -1.04% eROI = -6.25% eROI2 = -4.18% eROI3 = -5.75% mSpread = 0.0332%\n",
      "Getting extended results...\n"
     ]
    },
    {
     "name": "stderr",
     "output_type": "stream",
     "text": [
      "100%|████████████████████████████████████████████████████████████████████████████████| 52/52 [00:00<00:00, 2482.49it/s]\n"
     ]
    },
    {
     "name": "stdout",
     "output_type": "stream",
     "text": [
      "Epoch = 10. Time index = 2. Threshold MC = 0.5. Threshold MD = 0.85\n",
      "RD = 30 NZ = 44 NZA = 53 pNZ = 0.005% pNZA = 0.006% AD = 68.18% ADA = 56.60% NO = 31 GSP = 41.94% NSP = 29.03%\n",
      "SI2 = -3.05 SI = -3.90 eGROI = -0.30% eROI = -1.37% eROI2 = -0.92% eROI3 = -1.23% mSpread = 0.0344%\n",
      "Getting extended results...\n"
     ]
    },
    {
     "name": "stderr",
     "output_type": "stream",
     "text": [
      "0it [00:00, ?it/s]\n"
     ]
    },
    {
     "name": "stdout",
     "output_type": "stream",
     "text": [
      "Epoch = 10. Time index = 2. Threshold MC = 0.5. Threshold MD = 0.9\n",
      "RD = 0 NZ = 0 NZA = 0 pNZ = 0.000% pNZA = 0.000% AD = 0.00% ADA = 0.00% NO = 1 GSP = 0.00% NSP = 0.00%\n",
      "SI2 = 0.00 SI = -1.00 eGROI = 0.00% eROI = 0.00% eROI2 = 0.00% eROI3 = 0.00% mSpread = 0.0000%\n",
      "Getting extended results...\n"
     ]
    },
    {
     "name": "stderr",
     "output_type": "stream",
     "text": [
      "0it [00:00, ?it/s]\n"
     ]
    },
    {
     "name": "stdout",
     "output_type": "stream",
     "text": [
      "Epoch = 10. Time index = 2. Threshold MC = 0.5. Threshold MD = 0.95\n",
      "RD = 0 NZ = 0 NZA = 0 pNZ = 0.000% pNZA = 0.000% AD = 0.00% ADA = 0.00% NO = 1 GSP = 0.00% NSP = 0.00%\n",
      "SI2 = 0.00 SI = -1.00 eGROI = 0.00% eROI = 0.00% eROI2 = 0.00% eROI3 = 0.00% mSpread = 0.0000%\n",
      "\n",
      "Getting extended results...\n"
     ]
    },
    {
     "name": "stderr",
     "output_type": "stream",
     "text": [
      "0it [00:00, ?it/s]\n"
     ]
    },
    {
     "name": "stdout",
     "output_type": "stream",
     "text": [
      "Epoch = 10. Time index = 2. Threshold MC = 0.55. Threshold MD = 0.5\n",
      "RD = 374058 NZ = 718801 NZA = 896685 pNZ = 80.106% pNZA = 99.931% AD = 52.04% ADA = 41.72% NO = 1 GSP = 0.00% NSP = 0.00%\n",
      "SI2 = 0.00 SI = -1.00 eGROI = 0.00% eROI = 0.00% eROI2 = 0.00% eROI3 = 0.00% mSpread = 0.0000%\n",
      "Getting extended results...\n"
     ]
    },
    {
     "name": "stderr",
     "output_type": "stream",
     "text": [
      "0it [00:00, ?it/s]\n"
     ]
    },
    {
     "name": "stdout",
     "output_type": "stream",
     "text": [
      "Epoch = 10. Time index = 2. Threshold MC = 0.55. Threshold MD = 0.55\n",
      "RD = 84517 NZ = 154669 NZA = 198382 pNZ = 17.237% pNZA = 22.109% AD = 54.64% ADA = 42.60% NO = 1 GSP = 0.00% NSP = 0.00%\n",
      "SI2 = 0.00 SI = -1.00 eGROI = 0.00% eROI = 0.00% eROI2 = 0.00% eROI3 = 0.00% mSpread = 0.0000%\n",
      "Getting extended results...\n"
     ]
    },
    {
     "name": "stderr",
     "output_type": "stream",
     "text": [
      "100%|██████████████████████████████████████████████████████████████████████████| 42757/42757 [00:08<00:00, 5164.28it/s]\n"
     ]
    },
    {
     "name": "stdout",
     "output_type": "stream",
     "text": [
      "Epoch = 10. Time index = 2. Threshold MC = 0.55. Threshold MD = 0.6\n",
      "RD = 19011 NZ = 32465 NZA = 42758 pNZ = 3.618% pNZA = 4.765% AD = 58.56% ADA = 44.46% NO = 6764 GSP = 56.12% NSP = 42.43%\n",
      "SI2 = -5.76 SI = -47.34 eGROI = 62.82% eROI = -118.09% eROI2 = -72.46% eROI3 = -140.10% mSpread = 0.0267%\n",
      "Getting extended results...\n"
     ]
    },
    {
     "name": "stderr",
     "output_type": "stream",
     "text": [
      "100%|██████████████████████████████████████████████████████████████████████████| 12514/12514 [00:02<00:00, 4328.08it/s]\n"
     ]
    },
    {
     "name": "stdout",
     "output_type": "stream",
     "text": [
      "Epoch = 10. Time index = 2. Threshold MC = 0.55. Threshold MD = 0.65\n",
      "RD = 5979 NZ = 9457 NZA = 12515 pNZ = 1.054% pNZA = 1.395% AD = 63.22% ADA = 47.77% NO = 3143 GSP = 58.26% NSP = 40.82%\n",
      "SI2 = -4.08 SI = -33.17 eGROI = 51.74% eROI = -38.03% eROI2 = -11.12% eROI3 = -42.55% mSpread = 0.0286%\n",
      "Getting extended results...\n"
     ]
    },
    {
     "name": "stderr",
     "output_type": "stream",
     "text": [
      "100%|████████████████████████████████████████████████████████████████████████████| 4443/4443 [00:01<00:00, 2722.96it/s]\n"
     ]
    },
    {
     "name": "stdout",
     "output_type": "stream",
     "text": [
      "Epoch = 10. Time index = 2. Threshold MC = 0.55. Threshold MD = 0.7\n",
      "RD = 2247 NZ = 3396 NZA = 4444 pNZ = 0.378% pNZA = 0.495% AD = 66.17% ADA = 50.56% NO = 1556 GSP = 57.52% NSP = 39.33%\n",
      "SI2 = -3.95 SI = -23.92 eGROI = 21.37% eROI = -24.53% eROI2 = -9.75% eROI3 = -25.31% mSpread = 0.0295%\n",
      "Getting extended results...\n"
     ]
    },
    {
     "name": "stderr",
     "output_type": "stream",
     "text": [
      "100%|████████████████████████████████████████████████████████████████████████████| 1313/1313 [00:00<00:00, 2632.95it/s]\n"
     ]
    },
    {
     "name": "stdout",
     "output_type": "stream",
     "text": [
      "Epoch = 10. Time index = 2. Threshold MC = 0.55. Threshold MD = 0.75\n",
      "RD = 733 NZ = 1048 NZA = 1314 pNZ = 0.117% pNZA = 0.146% AD = 69.94% ADA = 55.78% NO = 593 GSP = 57.67% NSP = 38.95%\n",
      "SI2 = -2.50 SI = -14.85 eGROI = 6.99% eROI = -11.22% eROI2 = -4.87% eROI3 = -10.80% mSpread = 0.0307%\n",
      "Getting extended results...\n"
     ]
    },
    {
     "name": "stderr",
     "output_type": "stream",
     "text": [
      "100%|██████████████████████████████████████████████████████████████████████████████| 324/324 [00:00<00:00, 2082.41it/s]\n"
     ]
    },
    {
     "name": "stdout",
     "output_type": "stream",
     "text": [
      "Epoch = 10. Time index = 2. Threshold MC = 0.55. Threshold MD = 0.8\n",
      "RD = 183 NZ = 261 NZA = 325 pNZ = 0.029% pNZA = 0.036% AD = 70.11% ADA = 56.31% NO = 157 GSP = 47.13% NSP = 31.21%\n",
      "SI2 = -3.27 SI = -8.59 eGROI = -1.03% eROI = -6.24% eROI2 = -4.17% eROI3 = -5.74% mSpread = 0.0332%\n",
      "Getting extended results...\n"
     ]
    },
    {
     "name": "stderr",
     "output_type": "stream",
     "text": [
      "100%|████████████████████████████████████████████████████████████████████████████████| 52/52 [00:00<00:00, 1271.65it/s]\n"
     ]
    },
    {
     "name": "stdout",
     "output_type": "stream",
     "text": [
      "Epoch = 10. Time index = 2. Threshold MC = 0.55. Threshold MD = 0.85\n",
      "RD = 30 NZ = 44 NZA = 53 pNZ = 0.005% pNZA = 0.006% AD = 68.18% ADA = 56.60% NO = 31 GSP = 41.94% NSP = 29.03%\n",
      "SI2 = -3.05 SI = -3.90 eGROI = -0.30% eROI = -1.37% eROI2 = -0.92% eROI3 = -1.23% mSpread = 0.0344%\n",
      "Getting extended results...\n"
     ]
    },
    {
     "name": "stderr",
     "output_type": "stream",
     "text": [
      "0it [00:00, ?it/s]\n"
     ]
    },
    {
     "name": "stdout",
     "output_type": "stream",
     "text": [
      "Epoch = 10. Time index = 2. Threshold MC = 0.55. Threshold MD = 0.9\n",
      "RD = 0 NZ = 0 NZA = 0 pNZ = 0.000% pNZA = 0.000% AD = 0.00% ADA = 0.00% NO = 1 GSP = 0.00% NSP = 0.00%\n",
      "SI2 = 0.00 SI = -1.00 eGROI = 0.00% eROI = 0.00% eROI2 = 0.00% eROI3 = 0.00% mSpread = 0.0000%\n",
      "Getting extended results...\n"
     ]
    },
    {
     "name": "stderr",
     "output_type": "stream",
     "text": [
      "0it [00:00, ?it/s]\n"
     ]
    },
    {
     "name": "stdout",
     "output_type": "stream",
     "text": [
      "Epoch = 10. Time index = 2. Threshold MC = 0.55. Threshold MD = 0.95\n",
      "RD = 0 NZ = 0 NZA = 0 pNZ = 0.000% pNZA = 0.000% AD = 0.00% ADA = 0.00% NO = 1 GSP = 0.00% NSP = 0.00%\n",
      "SI2 = 0.00 SI = -1.00 eGROI = 0.00% eROI = 0.00% eROI2 = 0.00% eROI3 = 0.00% mSpread = 0.0000%\n",
      "\n",
      "Getting extended results...\n"
     ]
    },
    {
     "name": "stderr",
     "output_type": "stream",
     "text": [
      "0it [00:00, ?it/s]\n"
     ]
    },
    {
     "name": "stdout",
     "output_type": "stream",
     "text": [
      "Epoch = 10. Time index = 2. Threshold MC = 0.6. Threshold MD = 0.5\n",
      "RD = 373329 NZ = 717402 NZA = 894274 pNZ = 79.951% pNZA = 99.662% AD = 52.04% ADA = 41.75% NO = 1 GSP = 0.00% NSP = 0.00%\n",
      "SI2 = 0.00 SI = -1.00 eGROI = 0.00% eROI = 0.00% eROI2 = 0.00% eROI3 = 0.00% mSpread = 0.0000%\n",
      "Getting extended results...\n"
     ]
    },
    {
     "name": "stderr",
     "output_type": "stream",
     "text": [
      "0it [00:00, ?it/s]\n"
     ]
    },
    {
     "name": "stdout",
     "output_type": "stream",
     "text": [
      "Epoch = 10. Time index = 2. Threshold MC = 0.6. Threshold MD = 0.55\n",
      "RD = 84061 NZ = 153777 NZA = 196866 pNZ = 17.138% pNZA = 21.940% AD = 54.66% ADA = 42.70% NO = 1 GSP = 0.00% NSP = 0.00%\n",
      "SI2 = 0.00 SI = -1.00 eGROI = 0.00% eROI = 0.00% eROI2 = 0.00% eROI3 = 0.00% mSpread = 0.0000%\n",
      "Getting extended results...\n"
     ]
    },
    {
     "name": "stderr",
     "output_type": "stream",
     "text": [
      "100%|██████████████████████████████████████████████████████████████████████████| 41860/41860 [00:08<00:00, 4915.66it/s]\n"
     ]
    },
    {
     "name": "stdout",
     "output_type": "stream",
     "text": [
      "Epoch = 10. Time index = 2. Threshold MC = 0.6. Threshold MD = 0.6\n",
      "RD = 18720 NZ = 31928 NZA = 41861 pNZ = 3.558% pNZA = 4.665% AD = 58.63% ADA = 44.72% NO = 6774 GSP = 56.24% NSP = 42.46%\n",
      "SI2 = -5.83 SI = -47.36 eGROI = 63.00% eROI = -118.29% eROI2 = -72.48% eROI3 = -140.22% mSpread = 0.0268%\n",
      "Getting extended results...\n"
     ]
    },
    {
     "name": "stderr",
     "output_type": "stream",
     "text": [
      "100%|██████████████████████████████████████████████████████████████████████████| 12063/12063 [00:02<00:00, 4713.97it/s]\n"
     ]
    },
    {
     "name": "stdout",
     "output_type": "stream",
     "text": [
      "Epoch = 10. Time index = 2. Threshold MC = 0.6. Threshold MD = 0.65\n",
      "RD = 5832 NZ = 9188 NZA = 12064 pNZ = 1.024% pNZA = 1.344% AD = 63.47% ADA = 48.34% NO = 3120 GSP = 58.46% NSP = 40.96%\n",
      "SI2 = -3.94 SI = -32.97 eGROI = 52.56% eROI = -36.58% eROI2 = -9.84% eROI3 = -41.04% mSpread = 0.0286%\n",
      "Getting extended results...\n"
     ]
    },
    {
     "name": "stderr",
     "output_type": "stream",
     "text": [
      "100%|████████████████████████████████████████████████████████████████████████████| 4324/4324 [00:00<00:00, 4335.38it/s]\n"
     ]
    },
    {
     "name": "stdout",
     "output_type": "stream",
     "text": [
      "Epoch = 10. Time index = 2. Threshold MC = 0.6. Threshold MD = 0.7\n",
      "RD = 2200 NZ = 3321 NZA = 4325 pNZ = 0.370% pNZA = 0.482% AD = 66.25% ADA = 50.87% NO = 1536 GSP = 57.94% NSP = 39.45%\n",
      "SI2 = -3.62 SI = -23.72 eGROI = 21.47% eROI = -23.80% eROI2 = -9.25% eROI3 = -24.61% mSpread = 0.0295%\n",
      "Getting extended results...\n"
     ]
    },
    {
     "name": "stderr",
     "output_type": "stream",
     "text": [
      "100%|████████████████████████████████████████████████████████████████████████████| 1285/1285 [00:00<00:00, 3904.27it/s]\n"
     ]
    },
    {
     "name": "stdout",
     "output_type": "stream",
     "text": [
      "Epoch = 10. Time index = 2. Threshold MC = 0.6. Threshold MD = 0.75\n",
      "RD = 725 NZ = 1032 NZA = 1286 pNZ = 0.115% pNZA = 0.143% AD = 70.25% ADA = 56.38% NO = 588 GSP = 58.16% NSP = 38.95%\n",
      "SI2 = -2.39 SI = -14.79 eGROI = 7.02% eROI = -11.04% eROI2 = -4.74% eROI3 = -10.62% mSpread = 0.0307%\n",
      "Getting extended results...\n"
     ]
    },
    {
     "name": "stderr",
     "output_type": "stream",
     "text": [
      "100%|██████████████████████████████████████████████████████████████████████████████| 319/319 [00:00<00:00, 3402.69it/s]\n"
     ]
    },
    {
     "name": "stdout",
     "output_type": "stream",
     "text": [
      "Epoch = 10. Time index = 2. Threshold MC = 0.6. Threshold MD = 0.8\n",
      "RD = 182 NZ = 257 NZA = 320 pNZ = 0.029% pNZA = 0.036% AD = 70.82% ADA = 56.88% NO = 156 GSP = 47.44% NSP = 31.41%\n",
      "SI2 = -3.20 SI = -8.54 eGROI = -0.96% eROI = -6.14% eROI2 = -4.08% eROI3 = -5.64% mSpread = 0.0332%\n",
      "Getting extended results...\n"
     ]
    },
    {
     "name": "stderr",
     "output_type": "stream",
     "text": [
      "100%|████████████████████████████████████████████████████████████████████████████████| 52/52 [00:00<00:00, 2266.72it/s]\n"
     ]
    },
    {
     "name": "stdout",
     "output_type": "stream",
     "text": [
      "Epoch = 10. Time index = 2. Threshold MC = 0.6. Threshold MD = 0.85\n",
      "RD = 30 NZ = 44 NZA = 53 pNZ = 0.005% pNZA = 0.006% AD = 68.18% ADA = 56.60% NO = 31 GSP = 41.94% NSP = 29.03%\n",
      "SI2 = -3.05 SI = -3.90 eGROI = -0.30% eROI = -1.37% eROI2 = -0.92% eROI3 = -1.23% mSpread = 0.0344%\n",
      "Getting extended results...\n"
     ]
    },
    {
     "name": "stderr",
     "output_type": "stream",
     "text": [
      "0it [00:00, ?it/s]\n"
     ]
    },
    {
     "name": "stdout",
     "output_type": "stream",
     "text": [
      "Epoch = 10. Time index = 2. Threshold MC = 0.6. Threshold MD = 0.9\n",
      "RD = 0 NZ = 0 NZA = 0 pNZ = 0.000% pNZA = 0.000% AD = 0.00% ADA = 0.00% NO = 1 GSP = 0.00% NSP = 0.00%\n",
      "SI2 = 0.00 SI = -1.00 eGROI = 0.00% eROI = 0.00% eROI2 = 0.00% eROI3 = 0.00% mSpread = 0.0000%\n",
      "Getting extended results...\n"
     ]
    },
    {
     "name": "stderr",
     "output_type": "stream",
     "text": [
      "0it [00:00, ?it/s]\n"
     ]
    },
    {
     "name": "stdout",
     "output_type": "stream",
     "text": [
      "Epoch = 10. Time index = 2. Threshold MC = 0.6. Threshold MD = 0.95\n",
      "RD = 0 NZ = 0 NZA = 0 pNZ = 0.000% pNZA = 0.000% AD = 0.00% ADA = 0.00% NO = 1 GSP = 0.00% NSP = 0.00%\n",
      "SI2 = 0.00 SI = -1.00 eGROI = 0.00% eROI = 0.00% eROI2 = 0.00% eROI3 = 0.00% mSpread = 0.0000%\n",
      "\n",
      "Getting extended results...\n"
     ]
    },
    {
     "name": "stderr",
     "output_type": "stream",
     "text": [
      "0it [00:00, ?it/s]\n"
     ]
    },
    {
     "name": "stdout",
     "output_type": "stream",
     "text": [
      "Epoch = 10. Time index = 2. Threshold MC = 0.65. Threshold MD = 0.5\n",
      "RD = 370998 NZ = 712880 NZA = 886647 pNZ = 79.447% pNZA = 98.812% AD = 52.04% ADA = 41.84% NO = 1 GSP = 0.00% NSP = 0.00%\n",
      "SI2 = 0.00 SI = -1.00 eGROI = 0.00% eROI = 0.00% eROI2 = 0.00% eROI3 = 0.00% mSpread = 0.0000%\n",
      "Getting extended results...\n"
     ]
    },
    {
     "name": "stderr",
     "output_type": "stream",
     "text": [
      "0it [00:00, ?it/s]\n"
     ]
    },
    {
     "name": "stdout",
     "output_type": "stream",
     "text": [
      "Epoch = 10. Time index = 2. Threshold MC = 0.65. Threshold MD = 0.55\n",
      "RD = 82741 NZ = 151201 NZA = 192613 pNZ = 16.851% pNZA = 21.466% AD = 54.72% ADA = 42.96% NO = 1 GSP = 0.00% NSP = 0.00%\n",
      "SI2 = 0.00 SI = -1.00 eGROI = 0.00% eROI = 0.00% eROI2 = 0.00% eROI3 = 0.00% mSpread = 0.0000%\n",
      "Getting extended results...\n"
     ]
    },
    {
     "name": "stderr",
     "output_type": "stream",
     "text": [
      "100%|██████████████████████████████████████████████████████████████████████████| 40012/40012 [00:07<00:00, 5088.07it/s]\n"
     ]
    },
    {
     "name": "stdout",
     "output_type": "stream",
     "text": [
      "Epoch = 10. Time index = 2. Threshold MC = 0.65. Threshold MD = 0.6\n",
      "RD = 18087 NZ = 30791 NZA = 40013 pNZ = 3.431% pNZA = 4.459% AD = 58.74% ADA = 45.20% NO = 6742 GSP = 56.48% NSP = 42.60%\n",
      "SI2 = -5.63 SI = -47.13 eGROI = 62.71% eROI = -117.69% eROI2 = -72.13% eROI3 = -139.55% mSpread = 0.0268%\n",
      "Getting extended results...\n"
     ]
    },
    {
     "name": "stderr",
     "output_type": "stream",
     "text": [
      "100%|██████████████████████████████████████████████████████████████████████████| 11242/11242 [00:02<00:00, 4515.93it/s]\n"
     ]
    },
    {
     "name": "stdout",
     "output_type": "stream",
     "text": [
      "Epoch = 10. Time index = 2. Threshold MC = 0.65. Threshold MD = 0.65\n",
      "RD = 5535 NZ = 8692 NZA = 11243 pNZ = 0.969% pNZA = 1.253% AD = 63.68% ADA = 49.23% NO = 3036 GSP = 58.23% NSP = 41.40%\n",
      "SI2 = -3.92 SI = -32.28 eGROI = 52.49% eROI = -34.00% eROI2 = -8.23% eROI3 = -38.59% mSpread = 0.0285%\n",
      "Getting extended results...\n"
     ]
    },
    {
     "name": "stderr",
     "output_type": "stream",
     "text": [
      "100%|████████████████████████████████████████████████████████████████████████████| 4041/4041 [00:01<00:00, 3595.12it/s]\n"
     ]
    },
    {
     "name": "stdout",
     "output_type": "stream",
     "text": [
      "Epoch = 10. Time index = 2. Threshold MC = 0.65. Threshold MD = 0.7\n",
      "RD = 2101 NZ = 3149 NZA = 4042 pNZ = 0.351% pNZA = 0.450% AD = 66.72% ADA = 51.98% NO = 1482 GSP = 57.96% NSP = 39.61%\n",
      "SI2 = -3.32 SI = -23.24 eGROI = 21.79% eROI = -22.17% eROI2 = -7.85% eROI3 = -22.67% mSpread = 0.0297%\n",
      "Getting extended results...\n"
     ]
    },
    {
     "name": "stderr",
     "output_type": "stream",
     "text": [
      "100%|████████████████████████████████████████████████████████████████████████████| 1243/1243 [00:00<00:00, 1733.36it/s]\n"
     ]
    },
    {
     "name": "stdout",
     "output_type": "stream",
     "text": [
      "Epoch = 10. Time index = 2. Threshold MC = 0.65. Threshold MD = 0.75\n",
      "RD = 708 NZ = 1010 NZA = 1244 pNZ = 0.113% pNZA = 0.139% AD = 70.10% ADA = 56.91% NO = 565 GSP = 58.05% NSP = 39.65%\n",
      "SI2 = -1.98 SI = -14.33 eGROI = 7.02% eROI = -10.35% eROI2 = -4.28% eROI3 = -9.93% mSpread = 0.0307%\n",
      "Getting extended results...\n"
     ]
    },
    {
     "name": "stderr",
     "output_type": "stream",
     "text": [
      "100%|██████████████████████████████████████████████████████████████████████████████| 318/318 [00:00<00:00, 2310.50it/s]\n"
     ]
    },
    {
     "name": "stdout",
     "output_type": "stream",
     "text": [
      "Epoch = 10. Time index = 2. Threshold MC = 0.65. Threshold MD = 0.8\n",
      "RD = 181 NZ = 256 NZA = 319 pNZ = 0.029% pNZA = 0.036% AD = 70.70% ADA = 56.74% NO = 155 GSP = 47.10% NSP = 31.61%\n",
      "SI2 = -3.13 SI = -8.49 eGROI = -0.97% eROI = -6.13% eROI2 = -4.07% eROI3 = -5.62% mSpread = 0.0333%\n",
      "Getting extended results...\n"
     ]
    },
    {
     "name": "stderr",
     "output_type": "stream",
     "text": [
      "100%|████████████████████████████████████████████████████████████████████████████████| 52/52 [00:00<00:00, 2172.48it/s]\n"
     ]
    },
    {
     "name": "stdout",
     "output_type": "stream",
     "text": [
      "Epoch = 10. Time index = 2. Threshold MC = 0.65. Threshold MD = 0.85\n",
      "RD = 30 NZ = 44 NZA = 53 pNZ = 0.005% pNZA = 0.006% AD = 68.18% ADA = 56.60% NO = 31 GSP = 41.94% NSP = 29.03%\n",
      "SI2 = -3.05 SI = -3.90 eGROI = -0.30% eROI = -1.37% eROI2 = -0.92% eROI3 = -1.23% mSpread = 0.0344%\n",
      "Getting extended results...\n"
     ]
    },
    {
     "name": "stderr",
     "output_type": "stream",
     "text": [
      "0it [00:00, ?it/s]\n"
     ]
    },
    {
     "name": "stdout",
     "output_type": "stream",
     "text": [
      "Epoch = 10. Time index = 2. Threshold MC = 0.65. Threshold MD = 0.9\n",
      "RD = 0 NZ = 0 NZA = 0 pNZ = 0.000% pNZA = 0.000% AD = 0.00% ADA = 0.00% NO = 1 GSP = 0.00% NSP = 0.00%\n",
      "SI2 = 0.00 SI = -1.00 eGROI = 0.00% eROI = 0.00% eROI2 = 0.00% eROI3 = 0.00% mSpread = 0.0000%\n",
      "Getting extended results...\n"
     ]
    },
    {
     "name": "stderr",
     "output_type": "stream",
     "text": [
      "0it [00:00, ?it/s]\n"
     ]
    },
    {
     "name": "stdout",
     "output_type": "stream",
     "text": [
      "Epoch = 10. Time index = 2. Threshold MC = 0.65. Threshold MD = 0.95\n",
      "RD = 0 NZ = 0 NZA = 0 pNZ = 0.000% pNZA = 0.000% AD = 0.00% ADA = 0.00% NO = 1 GSP = 0.00% NSP = 0.00%\n",
      "SI2 = 0.00 SI = -1.00 eGROI = 0.00% eROI = 0.00% eROI2 = 0.00% eROI3 = 0.00% mSpread = 0.0000%\n",
      "\n",
      "Getting extended results...\n"
     ]
    },
    {
     "name": "stderr",
     "output_type": "stream",
     "text": [
      "0it [00:00, ?it/s]\n"
     ]
    },
    {
     "name": "stdout",
     "output_type": "stream",
     "text": [
      "Epoch = 10. Time index = 2. Threshold MC = 0.7. Threshold MD = 0.5\n",
      "RD = 364268 NZ = 700209 NZA = 867191 pNZ = 78.034% pNZA = 96.644% AD = 52.02% ADA = 42.01% NO = 1 GSP = 0.00% NSP = 0.00%\n",
      "SI2 = 0.00 SI = -1.00 eGROI = 0.00% eROI = 0.00% eROI2 = 0.00% eROI3 = 0.00% mSpread = 0.0000%\n",
      "Getting extended results...\n"
     ]
    },
    {
     "name": "stderr",
     "output_type": "stream",
     "text": [
      "0it [00:00, ?it/s]\n"
     ]
    },
    {
     "name": "stdout",
     "output_type": "stream",
     "text": [
      "Epoch = 10. Time index = 2. Threshold MC = 0.7. Threshold MD = 0.55\n",
      "RD = 79196 NZ = 144710 NZA = 182699 pNZ = 16.127% pNZA = 20.361% AD = 54.73% ADA = 43.35% NO = 1 GSP = 0.00% NSP = 0.00%\n",
      "SI2 = 0.00 SI = -1.00 eGROI = 0.00% eROI = 0.00% eROI2 = 0.00% eROI3 = 0.00% mSpread = 0.0000%\n",
      "Getting extended results...\n"
     ]
    },
    {
     "name": "stderr",
     "output_type": "stream",
     "text": [
      "100%|██████████████████████████████████████████████████████████████████████████| 36498/36498 [00:07<00:00, 5009.04it/s]\n"
     ]
    },
    {
     "name": "stdout",
     "output_type": "stream",
     "text": [
      "Epoch = 10. Time index = 2. Threshold MC = 0.7. Threshold MD = 0.6\n",
      "RD = 16728 NZ = 28472 NZA = 36499 pNZ = 3.173% pNZA = 4.068% AD = 58.75% ADA = 45.83% NO = 6656 GSP = 56.69% NSP = 42.74%\n",
      "SI2 = -4.93 SI = -46.71 eGROI = 66.17% eROI = -112.41% eROI2 = -66.95% eROI3 = -133.51% mSpread = 0.0268%\n",
      "Getting extended results...\n"
     ]
    },
    {
     "name": "stderr",
     "output_type": "stream",
     "text": [
      "100%|████████████████████████████████████████████████████████████████████████████| 9989/9989 [00:02<00:00, 3777.94it/s]\n"
     ]
    },
    {
     "name": "stdout",
     "output_type": "stream",
     "text": [
      "Epoch = 10. Time index = 2. Threshold MC = 0.7. Threshold MD = 0.65\n",
      "RD = 4999 NZ = 7868 NZA = 9990 pNZ = 0.877% pNZA = 1.113% AD = 63.54% ADA = 50.04% NO = 2905 GSP = 58.59% NSP = 42.10%\n",
      "SI2 = -2.73 SI = -31.20 eGROI = 53.64% eROI = -29.88% eROI2 = -4.46% eROI3 = -33.51% mSpread = 0.0288%\n",
      "Getting extended results...\n"
     ]
    },
    {
     "name": "stderr",
     "output_type": "stream",
     "text": [
      "100%|████████████████████████████████████████████████████████████████████████████| 3600/3600 [00:00<00:00, 4192.25it/s]\n"
     ]
    },
    {
     "name": "stdout",
     "output_type": "stream",
     "text": [
      "Epoch = 10. Time index = 2. Threshold MC = 0.7. Threshold MD = 0.7\n",
      "RD = 1898 NZ = 2856 NZA = 3601 pNZ = 0.318% pNZA = 0.401% AD = 66.46% ADA = 52.71% NO = 1363 GSP = 58.77% NSP = 40.35%\n",
      "SI2 = -2.63 SI = -22.01 eGROI = 22.05% eROI = -18.74% eROI2 = -5.21% eROI3 = -18.84% mSpread = 0.0299%\n",
      "Getting extended results...\n"
     ]
    },
    {
     "name": "stderr",
     "output_type": "stream",
     "text": [
      "100%|████████████████████████████████████████████████████████████████████████████| 1156/1156 [00:00<00:00, 3928.97it/s]\n"
     ]
    },
    {
     "name": "stdout",
     "output_type": "stream",
     "text": [
      "Epoch = 10. Time index = 2. Threshold MC = 0.7. Threshold MD = 0.75\n",
      "RD = 666 NZ = 953 NZA = 1157 pNZ = 0.106% pNZA = 0.129% AD = 69.88% ADA = 57.56% NO = 531 GSP = 59.70% NSP = 39.74%\n",
      "SI2 = -1.61 SI = -13.87 eGROI = 7.05% eROI = -9.37% eROI2 = -3.57% eROI3 = -8.88% mSpread = 0.0309%\n",
      "Getting extended results...\n"
     ]
    },
    {
     "name": "stderr",
     "output_type": "stream",
     "text": [
      "100%|██████████████████████████████████████████████████████████████████████████████| 308/308 [00:00<00:00, 3285.35it/s]\n"
     ]
    },
    {
     "name": "stdout",
     "output_type": "stream",
     "text": [
      "Epoch = 10. Time index = 2. Threshold MC = 0.7. Threshold MD = 0.8\n",
      "RD = 173 NZ = 248 NZA = 309 pNZ = 0.028% pNZA = 0.034% AD = 69.76% ADA = 55.99% NO = 150 GSP = 48.00% NSP = 30.67%\n",
      "SI2 = -3.27 SI = -8.47 eGROI = -1.06% eROI = -6.07% eROI2 = -4.06% eROI3 = -5.56% mSpread = 0.0334%\n",
      "Getting extended results...\n"
     ]
    },
    {
     "name": "stderr",
     "output_type": "stream",
     "text": [
      "100%|████████████████████████████████████████████████████████████████████████████████| 51/51 [00:00<00:00, 2223.24it/s]\n"
     ]
    },
    {
     "name": "stdout",
     "output_type": "stream",
     "text": [
      "Epoch = 10. Time index = 2. Threshold MC = 0.7. Threshold MD = 0.85\n",
      "RD = 29 NZ = 43 NZA = 52 pNZ = 0.005% pNZA = 0.006% AD = 67.44% ADA = 55.77% NO = 30 GSP = 40.00% NSP = 26.67%\n",
      "SI2 = -2.92 SI = -3.97 eGROI = -0.32% eROI = -1.38% eROI2 = -0.92% eROI3 = -1.22% mSpread = 0.0351%\n",
      "Getting extended results...\n"
     ]
    },
    {
     "name": "stderr",
     "output_type": "stream",
     "text": [
      "0it [00:00, ?it/s]\n"
     ]
    },
    {
     "name": "stdout",
     "output_type": "stream",
     "text": [
      "Epoch = 10. Time index = 2. Threshold MC = 0.7. Threshold MD = 0.9\n",
      "RD = 0 NZ = 0 NZA = 0 pNZ = 0.000% pNZA = 0.000% AD = 0.00% ADA = 0.00% NO = 1 GSP = 0.00% NSP = 0.00%\n",
      "SI2 = 0.00 SI = -1.00 eGROI = 0.00% eROI = 0.00% eROI2 = 0.00% eROI3 = 0.00% mSpread = 0.0000%\n",
      "Getting extended results...\n"
     ]
    },
    {
     "name": "stderr",
     "output_type": "stream",
     "text": [
      "0it [00:00, ?it/s]\n"
     ]
    },
    {
     "name": "stdout",
     "output_type": "stream",
     "text": [
      "Epoch = 10. Time index = 2. Threshold MC = 0.7. Threshold MD = 0.95\n",
      "RD = 0 NZ = 0 NZA = 0 pNZ = 0.000% pNZA = 0.000% AD = 0.00% ADA = 0.00% NO = 1 GSP = 0.00% NSP = 0.00%\n",
      "SI2 = 0.00 SI = -1.00 eGROI = 0.00% eROI = 0.00% eROI2 = 0.00% eROI3 = 0.00% mSpread = 0.0000%\n",
      "\n",
      "Getting extended results...\n"
     ]
    },
    {
     "name": "stderr",
     "output_type": "stream",
     "text": [
      "0it [00:00, ?it/s]\n"
     ]
    },
    {
     "name": "stdout",
     "output_type": "stream",
     "text": [
      "Epoch = 10. Time index = 2. Threshold MC = 0.75. Threshold MD = 0.5\n",
      "RD = 344718 NZ = 663188 NZA = 813370 pNZ = 73.909% pNZA = 90.646% AD = 51.98% ADA = 42.38% NO = 1 GSP = 0.00% NSP = 0.00%\n",
      "SI2 = 0.00 SI = -1.00 eGROI = 0.00% eROI = 0.00% eROI2 = 0.00% eROI3 = 0.00% mSpread = 0.0000%\n",
      "Getting extended results...\n"
     ]
    },
    {
     "name": "stderr",
     "output_type": "stream",
     "text": [
      "0it [00:00, ?it/s]\n"
     ]
    },
    {
     "name": "stdout",
     "output_type": "stream",
     "text": [
      "Epoch = 10. Time index = 2. Threshold MC = 0.75. Threshold MD = 0.55\n",
      "RD = 69808 NZ = 127749 NZA = 158029 pNZ = 14.237% pNZA = 17.611% AD = 54.64% ADA = 44.17% NO = 1 GSP = 0.00% NSP = 0.00%\n",
      "SI2 = 0.00 SI = -1.00 eGROI = 0.00% eROI = 0.00% eROI2 = 0.00% eROI3 = 0.00% mSpread = 0.0000%\n",
      "Getting extended results...\n"
     ]
    },
    {
     "name": "stderr",
     "output_type": "stream",
     "text": [
      "100%|██████████████████████████████████████████████████████████████████████████| 29106/29106 [00:07<00:00, 3995.48it/s]\n"
     ]
    },
    {
     "name": "stdout",
     "output_type": "stream",
     "text": [
      "Epoch = 10. Time index = 2. Threshold MC = 0.75. Threshold MD = 0.6\n",
      "RD = 13747 NZ = 23379 NZA = 29107 pNZ = 2.605% pNZA = 3.244% AD = 58.80% ADA = 47.23% NO = 6228 GSP = 56.90% NSP = 42.36%\n",
      "SI2 = -5.17 SI = -45.49 eGROI = 61.93% eROI = -105.17% eROI2 = -62.63% eROI3 = -124.91% mSpread = 0.0268%\n",
      "Getting extended results...\n"
     ]
    },
    {
     "name": "stderr",
     "output_type": "stream",
     "text": [
      "100%|████████████████████████████████████████████████████████████████████████████| 7954/7954 [00:02<00:00, 3500.90it/s]\n"
     ]
    },
    {
     "name": "stdout",
     "output_type": "stream",
     "text": [
      "Epoch = 10. Time index = 2. Threshold MC = 0.75. Threshold MD = 0.65\n",
      "RD = 4111 NZ = 6461 NZA = 7955 pNZ = 0.720% pNZA = 0.887% AD = 63.63% ADA = 51.68% NO = 2551 GSP = 59.78% NSP = 42.57%\n",
      "SI2 = -2.28 SI = -29.00 eGROI = 52.28% eROI = -21.57% eROI2 = 1.26% eROI3 = -24.25% mSpread = 0.0289%\n",
      "Getting extended results...\n"
     ]
    },
    {
     "name": "stderr",
     "output_type": "stream",
     "text": [
      "100%|████████████████████████████████████████████████████████████████████████████| 2879/2879 [00:00<00:00, 3635.39it/s]\n"
     ]
    },
    {
     "name": "stdout",
     "output_type": "stream",
     "text": [
      "Epoch = 10. Time index = 2. Threshold MC = 0.75. Threshold MD = 0.7\n",
      "RD = 1567 NZ = 2355 NZA = 2880 pNZ = 0.262% pNZA = 0.321% AD = 66.54% ADA = 54.41% NO = 1162 GSP = 59.55% NSP = 41.05%\n",
      "SI2 = -1.82 SI = -20.08 eGROI = 21.40% eROI = -13.83% eROI2 = -1.84% eROI3 = -13.46% mSpread = 0.0303%\n",
      "Getting extended results...\n"
     ]
    },
    {
     "name": "stderr",
     "output_type": "stream",
     "text": [
      "100%|██████████████████████████████████████████████████████████████████████████████| 995/995 [00:00<00:00, 3680.87it/s]\n"
     ]
    },
    {
     "name": "stdout",
     "output_type": "stream",
     "text": [
      "Epoch = 10. Time index = 2. Threshold MC = 0.75. Threshold MD = 0.75\n",
      "RD = 583 NZ = 836 NZA = 996 pNZ = 0.093% pNZA = 0.111% AD = 69.74% ADA = 58.53% NO = 451 GSP = 59.65% NSP = 40.58%\n",
      "SI2 = -1.27 SI = -12.60 eGROI = 6.43% eROI = -7.44% eROI2 = -2.59% eROI3 = -7.10% mSpread = 0.0307%\n",
      "Getting extended results...\n"
     ]
    },
    {
     "name": "stderr",
     "output_type": "stream",
     "text": [
      "100%|██████████████████████████████████████████████████████████████████████████████| 277/277 [00:00<00:00, 2645.10it/s]\n"
     ]
    },
    {
     "name": "stdout",
     "output_type": "stream",
     "text": [
      "Epoch = 10. Time index = 2. Threshold MC = 0.75. Threshold MD = 0.8\n",
      "RD = 161 NZ = 227 NZA = 278 pNZ = 0.025% pNZA = 0.031% AD = 70.93% ADA = 57.91% NO = 134 GSP = 48.51% NSP = 32.84%\n",
      "SI2 = -2.59 SI = -7.75 eGROI = -0.78% eROI = -5.33% eROI2 = -3.46% eROI3 = -4.80% mSpread = 0.0340%\n",
      "Getting extended results...\n"
     ]
    },
    {
     "name": "stderr",
     "output_type": "stream",
     "text": [
      "100%|████████████████████████████████████████████████████████████████████████████████| 49/49 [00:00<00:00, 1965.09it/s]\n"
     ]
    },
    {
     "name": "stdout",
     "output_type": "stream",
     "text": [
      "Epoch = 10. Time index = 2. Threshold MC = 0.75. Threshold MD = 0.85\n",
      "RD = 28 NZ = 42 NZA = 50 pNZ = 0.005% pNZA = 0.006% AD = 66.67% ADA = 56.00% NO = 28 GSP = 39.29% NSP = 28.57%\n",
      "SI2 = -2.65 SI = -3.73 eGROI = -0.32% eROI = -1.31% eROI2 = -0.88% eROI3 = -1.16% mSpread = 0.0354%\n",
      "Getting extended results...\n"
     ]
    },
    {
     "name": "stderr",
     "output_type": "stream",
     "text": [
      "0it [00:00, ?it/s]\n"
     ]
    },
    {
     "name": "stdout",
     "output_type": "stream",
     "text": [
      "Epoch = 10. Time index = 2. Threshold MC = 0.75. Threshold MD = 0.9\n",
      "RD = 0 NZ = 0 NZA = 0 pNZ = 0.000% pNZA = 0.000% AD = 0.00% ADA = 0.00% NO = 1 GSP = 0.00% NSP = 0.00%\n",
      "SI2 = 0.00 SI = -1.00 eGROI = 0.00% eROI = 0.00% eROI2 = 0.00% eROI3 = 0.00% mSpread = 0.0000%\n",
      "Getting extended results...\n"
     ]
    },
    {
     "name": "stderr",
     "output_type": "stream",
     "text": [
      "0it [00:00, ?it/s]\n"
     ]
    },
    {
     "name": "stdout",
     "output_type": "stream",
     "text": [
      "Epoch = 10. Time index = 2. Threshold MC = 0.75. Threshold MD = 0.95\n",
      "RD = 0 NZ = 0 NZA = 0 pNZ = 0.000% pNZA = 0.000% AD = 0.00% ADA = 0.00% NO = 1 GSP = 0.00% NSP = 0.00%\n",
      "SI2 = 0.00 SI = -1.00 eGROI = 0.00% eROI = 0.00% eROI2 = 0.00% eROI3 = 0.00% mSpread = 0.0000%\n",
      "\n",
      "Getting extended results...\n"
     ]
    },
    {
     "name": "stderr",
     "output_type": "stream",
     "text": [
      "0it [00:00, ?it/s]\n"
     ]
    },
    {
     "name": "stdout",
     "output_type": "stream",
     "text": [
      "Epoch = 10. Time index = 2. Threshold MC = 0.8. Threshold MD = 0.5\n",
      "RD = 278310 NZ = 535819 NZA = 645163 pNZ = 59.714% pNZA = 71.900% AD = 51.94% ADA = 43.14% NO = 1 GSP = 0.00% NSP = 0.00%\n",
      "SI2 = 0.00 SI = -1.00 eGROI = 0.00% eROI = 0.00% eROI2 = 0.00% eROI3 = 0.00% mSpread = 0.0000%\n",
      "Getting extended results...\n"
     ]
    },
    {
     "name": "stderr",
     "output_type": "stream",
     "text": [
      "0it [00:00, ?it/s]\n"
     ]
    },
    {
     "name": "stdout",
     "output_type": "stream",
     "text": [
      "Epoch = 10. Time index = 2. Threshold MC = 0.8. Threshold MD = 0.55\n",
      "RD = 51370 NZ = 93619 NZA = 112286 pNZ = 10.433% pNZA = 12.514% AD = 54.87% ADA = 45.75% NO = 1 GSP = 0.00% NSP = 0.00%\n",
      "SI2 = 0.00 SI = -1.00 eGROI = 0.00% eROI = 0.00% eROI2 = 0.00% eROI3 = 0.00% mSpread = 0.0000%\n",
      "Getting extended results...\n"
     ]
    },
    {
     "name": "stderr",
     "output_type": "stream",
     "text": [
      "100%|██████████████████████████████████████████████████████████████████████████| 18452/18452 [00:04<00:00, 4092.20it/s]\n"
     ]
    },
    {
     "name": "stdout",
     "output_type": "stream",
     "text": [
      "Epoch = 10. Time index = 2. Threshold MC = 0.8. Threshold MD = 0.6\n",
      "RD = 9203 NZ = 15516 NZA = 18453 pNZ = 1.729% pNZA = 2.056% AD = 59.31% ADA = 49.87% NO = 4774 GSP = 57.79% NSP = 44.32%\n",
      "SI2 = -2.14 SI = -38.46 eGROI = 55.69% eROI = -72.05% eROI2 = -39.79% eROI3 = -87.53% mSpread = 0.0268%\n",
      "Getting extended results...\n"
     ]
    },
    {
     "name": "stderr",
     "output_type": "stream",
     "text": [
      "100%|████████████████████████████████████████████████████████████████████████████| 5349/5349 [00:01<00:00, 3721.83it/s]\n"
     ]
    },
    {
     "name": "stdout",
     "output_type": "stream",
     "text": [
      "Epoch = 10. Time index = 2. Threshold MC = 0.8. Threshold MD = 0.65\n",
      "RD = 2866 NZ = 4499 NZA = 5350 pNZ = 0.501% pNZA = 0.596% AD = 63.70% ADA = 53.57% NO = 1889 GSP = 58.44% NSP = 42.99%\n",
      "SI2 = -1.50 SI = -24.77 eGROI = 39.93% eROI = -14.57% eROI2 = 2.15% eROI3 = -16.74% mSpread = 0.0289%\n",
      "Getting extended results...\n"
     ]
    },
    {
     "name": "stderr",
     "output_type": "stream",
     "text": [
      "100%|████████████████████████████████████████████████████████████████████████████| 1947/1947 [00:00<00:00, 3280.93it/s]\n"
     ]
    },
    {
     "name": "stdout",
     "output_type": "stream",
     "text": [
      "Epoch = 10. Time index = 2. Threshold MC = 0.8. Threshold MD = 0.7\n",
      "RD = 1101 NZ = 1656 NZA = 1948 pNZ = 0.185% pNZA = 0.217% AD = 66.49% ADA = 56.52% NO = 850 GSP = 57.65% NSP = 42.71%\n",
      "SI2 = -1.23 SI = -16.69 eGROI = 17.26% eROI = -8.11% eROI2 = 0.26% eROI3 = -8.24% mSpread = 0.0299%\n",
      "Getting extended results...\n"
     ]
    },
    {
     "name": "stderr",
     "output_type": "stream",
     "text": [
      "100%|██████████████████████████████████████████████████████████████████████████████| 726/726 [00:00<00:00, 3293.77it/s]\n"
     ]
    },
    {
     "name": "stdout",
     "output_type": "stream",
     "text": [
      "Epoch = 10. Time index = 2. Threshold MC = 0.8. Threshold MD = 0.75\n",
      "RD = 432 NZ = 630 NZA = 727 pNZ = 0.070% pNZA = 0.081% AD = 68.57% ADA = 59.42% NO = 344 GSP = 58.72% NSP = 41.86%\n",
      "SI2 = -0.75 SI = -10.76 eGROI = 5.79% eROI = -4.79% eROI2 = -1.09% eROI3 = -4.53% mSpread = 0.0307%\n",
      "Getting extended results...\n"
     ]
    },
    {
     "name": "stderr",
     "output_type": "stream",
     "text": [
      "100%|██████████████████████████████████████████████████████████████████████████████| 215/215 [00:00<00:00, 2874.18it/s]\n"
     ]
    },
    {
     "name": "stdout",
     "output_type": "stream",
     "text": [
      "Epoch = 10. Time index = 2. Threshold MC = 0.8. Threshold MD = 0.8\n",
      "RD = 127 NZ = 186 NZA = 216 pNZ = 0.021% pNZA = 0.024% AD = 68.28% ADA = 58.80% NO = 106 GSP = 43.40% NSP = 31.13%\n",
      "SI2 = -2.72 SI = -7.06 eGROI = -1.32% eROI = -4.90% eROI2 = -3.44% eROI3 = -4.50% mSpread = 0.0338%\n",
      "Getting extended results...\n"
     ]
    },
    {
     "name": "stderr",
     "output_type": "stream",
     "text": [
      "100%|████████████████████████████████████████████████████████████████████████████████| 42/42 [00:00<00:00, 2631.94it/s]\n"
     ]
    },
    {
     "name": "stdout",
     "output_type": "stream",
     "text": [
      "Epoch = 10. Time index = 2. Threshold MC = 0.8. Threshold MD = 0.85\n",
      "RD = 25 NZ = 39 NZA = 43 pNZ = 0.004% pNZA = 0.005% AD = 64.10% ADA = 58.14% NO = 23 GSP = 43.48% NSP = 30.43%\n",
      "SI2 = -1.88 SI = -3.27 eGROI = -0.17% eROI = -1.02% eROI2 = -0.63% eROI3 = -0.86% mSpread = 0.0370%\n",
      "Getting extended results...\n"
     ]
    },
    {
     "name": "stderr",
     "output_type": "stream",
     "text": [
      "0it [00:00, ?it/s]\n"
     ]
    },
    {
     "name": "stdout",
     "output_type": "stream",
     "text": [
      "Epoch = 10. Time index = 2. Threshold MC = 0.8. Threshold MD = 0.9\n",
      "RD = 0 NZ = 0 NZA = 0 pNZ = 0.000% pNZA = 0.000% AD = 0.00% ADA = 0.00% NO = 1 GSP = 0.00% NSP = 0.00%\n",
      "SI2 = 0.00 SI = -1.00 eGROI = 0.00% eROI = 0.00% eROI2 = 0.00% eROI3 = 0.00% mSpread = 0.0000%\n",
      "Getting extended results...\n"
     ]
    },
    {
     "name": "stderr",
     "output_type": "stream",
     "text": [
      "0it [00:00, ?it/s]\n"
     ]
    },
    {
     "name": "stdout",
     "output_type": "stream",
     "text": [
      "Epoch = 10. Time index = 2. Threshold MC = 0.8. Threshold MD = 0.95\n",
      "RD = 0 NZ = 0 NZA = 0 pNZ = 0.000% pNZA = 0.000% AD = 0.00% ADA = 0.00% NO = 1 GSP = 0.00% NSP = 0.00%\n",
      "SI2 = 0.00 SI = -1.00 eGROI = 0.00% eROI = 0.00% eROI2 = 0.00% eROI3 = 0.00% mSpread = 0.0000%\n",
      "\n",
      "Getting extended results...\n"
     ]
    },
    {
     "name": "stderr",
     "output_type": "stream",
     "text": [
      "0it [00:00, ?it/s]\n"
     ]
    },
    {
     "name": "stdout",
     "output_type": "stream",
     "text": [
      "Epoch = 10. Time index = 2. Threshold MC = 0.85. Threshold MD = 0.5\n",
      "RD = 98640 NZ = 189820 NZA = 220586 pNZ = 21.154% pNZA = 24.583% AD = 51.97% ADA = 44.72% NO = 1 GSP = 0.00% NSP = 0.00%\n",
      "SI2 = 0.00 SI = -1.00 eGROI = 0.00% eROI = 0.00% eROI2 = 0.00% eROI3 = 0.00% mSpread = 0.0000%\n",
      "Getting extended results...\n"
     ]
    },
    {
     "name": "stderr",
     "output_type": "stream",
     "text": [
      "100%|██████████████████████████████████████████████████████████████████████████| 52781/52781 [00:10<00:00, 4954.73it/s]\n"
     ]
    },
    {
     "name": "stdout",
     "output_type": "stream",
     "text": [
      "Epoch = 10. Time index = 2. Threshold MC = 0.85. Threshold MD = 0.55\n",
      "RD = 24902 NZ = 45645 NZA = 52782 pNZ = 5.087% pNZA = 5.882% AD = 54.56% ADA = 47.18% NO = 9819 GSP = 56.19% NSP = 46.09%\n",
      "SI2 = -3.80 SI = -53.41 eGROI = 84.08% eROI = -157.01% eROI2 = -112.30% eROI3 = -210.49% mSpread = 0.0246%\n",
      "Getting extended results...\n"
     ]
    },
    {
     "name": "stderr",
     "output_type": "stream",
     "text": [
      "100%|████████████████████████████████████████████████████████████████████████████| 9448/9448 [00:01<00:00, 4734.17it/s]\n"
     ]
    },
    {
     "name": "stdout",
     "output_type": "stream",
     "text": [
      "Epoch = 10. Time index = 2. Threshold MC = 0.85. Threshold MD = 0.6\n",
      "RD = 4946 NZ = 8337 NZA = 9449 pNZ = 0.929% pNZA = 1.053% AD = 59.33% ADA = 52.34% NO = 2617 GSP = 58.35% NSP = 47.99%\n",
      "SI2 = 1.11 SI = -26.60 eGROI = 47.72% eROI = -21.03% eROI2 = -4.62% eROI3 = -30.79% mSpread = 0.0263%\n",
      "Getting extended results...\n"
     ]
    },
    {
     "name": "stderr",
     "output_type": "stream",
     "text": [
      "100%|████████████████████████████████████████████████████████████████████████████| 2780/2780 [00:00<00:00, 4396.49it/s]\n"
     ]
    },
    {
     "name": "stdout",
     "output_type": "stream",
     "text": [
      "Epoch = 10. Time index = 2. Threshold MC = 0.85. Threshold MD = 0.65\n",
      "RD = 1565 NZ = 2473 NZA = 2781 pNZ = 0.276% pNZA = 0.310% AD = 63.28% ADA = 56.27% NO = 977 GSP = 61.00% NSP = 48.62%\n",
      "SI2 = 2.02 SI = -16.04 eGROI = 32.45% eROI = 5.51% eROI2 = 12.91% eROI3 = 3.14% mSpread = 0.0276%\n",
      "Getting extended results...\n"
     ]
    },
    {
     "name": "stderr",
     "output_type": "stream",
     "text": [
      "100%|████████████████████████████████████████████████████████████████████████████| 1007/1007 [00:00<00:00, 3883.36it/s]\n"
     ]
    },
    {
     "name": "stdout",
     "output_type": "stream",
     "text": [
      "Epoch = 10. Time index = 2. Threshold MC = 0.85. Threshold MD = 0.7\n",
      "RD = 585 NZ = 890 NZA = 1008 pNZ = 0.099% pNZA = 0.112% AD = 65.73% ADA = 58.04% NO = 429 GSP = 61.07% NSP = 49.88%\n",
      "SI2 = 1.59 SI = -10.36 eGROI = 15.16% eROI = 2.95% eROI2 = 6.58% eROI3 = 2.29% mSpread = 0.0285%\n",
      "Getting extended results...\n"
     ]
    },
    {
     "name": "stderr",
     "output_type": "stream",
     "text": [
      "100%|██████████████████████████████████████████████████████████████████████████████| 372/372 [00:00<00:00, 1742.94it/s]\n"
     ]
    },
    {
     "name": "stdout",
     "output_type": "stream",
     "text": [
      "Epoch = 10. Time index = 2. Threshold MC = 0.85. Threshold MD = 0.75\n",
      "RD = 217 NZ = 330 NZA = 373 pNZ = 0.037% pNZA = 0.042% AD = 65.76% ADA = 58.18% NO = 198 GSP = 60.10% NSP = 46.46%\n",
      "SI2 = 0.57 SI = -7.50 eGROI = 4.20% eROI = -1.63% eROI2 = 0.24% eROI3 = -1.74% mSpread = 0.0294%\n",
      "Getting extended results...\n"
     ]
    },
    {
     "name": "stderr",
     "output_type": "stream",
     "text": [
      "100%|██████████████████████████████████████████████████████████████████████████████| 106/106 [00:00<00:00, 2083.99it/s]\n"
     ]
    },
    {
     "name": "stdout",
     "output_type": "stream",
     "text": [
      "Epoch = 10. Time index = 2. Threshold MC = 0.85. Threshold MD = 0.8\n",
      "RD = 63 NZ = 93 NZA = 107 pNZ = 0.010% pNZA = 0.012% AD = 67.74% ADA = 58.88% NO = 64 GSP = 48.44% NSP = 32.81%\n",
      "SI2 = -2.50 SI = -5.33 eGROI = -0.62% eROI = -2.80% eROI2 = -1.90% eROI3 = -2.54% mSpread = 0.0341%\n",
      "Getting extended results...\n"
     ]
    },
    {
     "name": "stderr",
     "output_type": "stream",
     "text": [
      "100%|████████████████████████████████████████████████████████████████████████████████| 24/24 [00:00<00:00, 2408.90it/s]\n"
     ]
    },
    {
     "name": "stdout",
     "output_type": "stream",
     "text": [
      "Epoch = 10. Time index = 2. Threshold MC = 0.85. Threshold MD = 0.85\n",
      "RD = 14 NZ = 22 NZA = 25 pNZ = 0.002% pNZA = 0.003% AD = 63.64% ADA = 56.00% NO = 16 GSP = 50.00% NSP = 31.25%\n",
      "SI2 = -1.50 SI = -2.67 eGROI = 0.09% eROI = -0.53% eROI2 = -0.23% eROI3 = -0.39% mSpread = 0.0385%\n",
      "Getting extended results...\n"
     ]
    },
    {
     "name": "stderr",
     "output_type": "stream",
     "text": [
      "0it [00:00, ?it/s]\n"
     ]
    },
    {
     "name": "stdout",
     "output_type": "stream",
     "text": [
      "Epoch = 10. Time index = 2. Threshold MC = 0.85. Threshold MD = 0.9\n",
      "RD = 0 NZ = 0 NZA = 0 pNZ = 0.000% pNZA = 0.000% AD = 0.00% ADA = 0.00% NO = 1 GSP = 0.00% NSP = 0.00%\n",
      "SI2 = 0.00 SI = -1.00 eGROI = 0.00% eROI = 0.00% eROI2 = 0.00% eROI3 = 0.00% mSpread = 0.0000%\n",
      "Getting extended results...\n"
     ]
    },
    {
     "name": "stderr",
     "output_type": "stream",
     "text": [
      "0it [00:00, ?it/s]\n"
     ]
    },
    {
     "name": "stdout",
     "output_type": "stream",
     "text": [
      "Epoch = 10. Time index = 2. Threshold MC = 0.85. Threshold MD = 0.95\n",
      "RD = 0 NZ = 0 NZA = 0 pNZ = 0.000% pNZA = 0.000% AD = 0.00% ADA = 0.00% NO = 1 GSP = 0.00% NSP = 0.00%\n",
      "SI2 = 0.00 SI = -1.00 eGROI = 0.00% eROI = 0.00% eROI2 = 0.00% eROI3 = 0.00% mSpread = 0.0000%\n",
      "\n",
      "Getting extended results...\n"
     ]
    },
    {
     "name": "stderr",
     "output_type": "stream",
     "text": [
      "100%|██████████████████████████████████████████████████████████████████████████| 14119/14119 [00:03<00:00, 4634.12it/s]\n"
     ]
    },
    {
     "name": "stdout",
     "output_type": "stream",
     "text": [
      "Epoch = 10. Time index = 2. Threshold MC = 0.9. Threshold MD = 0.5\n",
      "RD = 7031 NZ = 12795 NZA = 14120 pNZ = 1.426% pNZA = 1.574% AD = 54.95% ADA = 49.79% NO = 1716 GSP = 55.19% NSP = 47.20%\n",
      "SI2 = -0.58 SI = -21.86 eGROI = 18.13% eROI = -23.49% eROI2 = -16.19% eROI3 = -33.35% mSpread = 0.0243%\n",
      "Getting extended results...\n"
     ]
    },
    {
     "name": "stderr",
     "output_type": "stream",
     "text": [
      "100%|████████████████████████████████████████████████████████████████████████████| 7720/7720 [00:01<00:00, 5089.15it/s]\n"
     ]
    },
    {
     "name": "stdout",
     "output_type": "stream",
     "text": [
      "Epoch = 10. Time index = 2. Threshold MC = 0.9. Threshold MD = 0.55\n",
      "RD = 3967 NZ = 6995 NZA = 7721 pNZ = 0.780% pNZA = 0.860% AD = 56.71% ADA = 51.38% NO = 1384 GSP = 57.80% NSP = 51.01%\n",
      "SI2 = 1.72 SI = -18.21 eGROI = 33.27% eROI = -0.53% eROI2 = 5.59% eROI3 = -8.25% mSpread = 0.0244%\n",
      "Getting extended results...\n"
     ]
    },
    {
     "name": "stderr",
     "output_type": "stream",
     "text": [
      "100%|████████████████████████████████████████████████████████████████████████████| 3435/3435 [00:00<00:00, 4496.24it/s]\n"
     ]
    },
    {
     "name": "stdout",
     "output_type": "stream",
     "text": [
      "Epoch = 10. Time index = 2. Threshold MC = 0.9. Threshold MD = 0.6\n",
      "RD = 1876 NZ = 3129 NZA = 3436 pNZ = 0.349% pNZA = 0.383% AD = 59.96% ADA = 54.60% NO = 848 GSP = 60.50% NSP = 54.13%\n",
      "SI2 = 3.30 SI = -13.34 eGROI = 28.90% eROI = 8.09% eROI2 = 11.94% eROI3 = 3.46% mSpread = 0.0245%\n",
      "Getting extended results...\n"
     ]
    },
    {
     "name": "stderr",
     "output_type": "stream",
     "text": [
      "100%|████████████████████████████████████████████████████████████████████████████| 1346/1346 [00:00<00:00, 4114.56it/s]\n"
     ]
    },
    {
     "name": "stdout",
     "output_type": "stream",
     "text": [
      "Epoch = 10. Time index = 2. Threshold MC = 0.9. Threshold MD = 0.65\n",
      "RD = 776 NZ = 1240 NZA = 1347 pNZ = 0.138% pNZA = 0.150% AD = 62.58% ADA = 57.61% NO = 401 GSP = 63.34% NSP = 55.86%\n",
      "SI2 = 3.15 SI = -8.81 eGROI = 21.23% eROI = 11.08% eROI2 = 13.21% eROI3 = 9.20% mSpread = 0.0253%\n",
      "Getting extended results...\n"
     ]
    },
    {
     "name": "stderr",
     "output_type": "stream",
     "text": [
      "100%|██████████████████████████████████████████████████████████████████████████████| 499/499 [00:00<00:00, 3498.53it/s]\n"
     ]
    },
    {
     "name": "stdout",
     "output_type": "stream",
     "text": [
      "Epoch = 10. Time index = 2. Threshold MC = 0.9. Threshold MD = 0.7\n",
      "RD = 307 NZ = 461 NZA = 500 pNZ = 0.051% pNZA = 0.056% AD = 66.59% ADA = 61.40% NO = 199 GSP = 64.32% NSP = 60.30%\n",
      "SI2 = 3.05 SI = -5.56 eGROI = 11.96% eROI = 6.80% eROI2 = 7.98% eROI3 = 5.99% mSpread = 0.0259%\n",
      "Getting extended results...\n"
     ]
    },
    {
     "name": "stderr",
     "output_type": "stream",
     "text": [
      "100%|██████████████████████████████████████████████████████████████████████████████| 163/163 [00:00<00:00, 2476.25it/s]\n"
     ]
    },
    {
     "name": "stdout",
     "output_type": "stream",
     "text": [
      "Epoch = 10. Time index = 2. Threshold MC = 0.9. Threshold MD = 0.75\n",
      "RD = 94 NZ = 147 NZA = 164 pNZ = 0.016% pNZA = 0.018% AD = 63.95% ADA = 57.32% NO = 99 GSP = 59.60% NSP = 53.54%\n",
      "SI2 = 0.70 SI = -4.57 eGROI = 2.52% eROI = 0.04% eROI2 = 0.54% eROI3 = -0.45% mSpread = 0.0250%\n",
      "Getting extended results...\n"
     ]
    },
    {
     "name": "stderr",
     "output_type": "stream",
     "text": [
      "100%|████████████████████████████████████████████████████████████████████████████████| 25/25 [00:00<00:00, 1671.09it/s]\n"
     ]
    },
    {
     "name": "stdout",
     "output_type": "stream",
     "text": [
      "Epoch = 10. Time index = 2. Threshold MC = 0.9. Threshold MD = 0.8\n",
      "RD = 12 NZ = 23 NZA = 26 pNZ = 0.003% pNZA = 0.003% AD = 52.17% ADA = 46.15% NO = 23 GSP = 39.13% NSP = 34.78%\n",
      "SI2 = -1.46 SI = -3.06 eGROI = -0.55% eROI = -1.28% eROI2 = -1.01% eROI3 = -1.24% mSpread = 0.0315%\n",
      "Getting extended results...\n"
     ]
    },
    {
     "name": "stderr",
     "output_type": "stream",
     "text": [
      "100%|██████████████████████████████████████████████████████████████████████████████████| 3/3 [00:00<00:00, 1002.06it/s]\n"
     ]
    },
    {
     "name": "stdout",
     "output_type": "stream",
     "text": [
      "Epoch = 10. Time index = 2. Threshold MC = 0.9. Threshold MD = 0.85\n",
      "RD = 1 NZ = 2 NZA = 4 pNZ = 0.000% pNZA = 0.000% AD = 50.00% ADA = 25.00% NO = 4 GSP = 25.00% NSP = 25.00%\n",
      "SI2 = -1.00 SI = -1.38 eGROI = 0.04% eROI = -0.13% eROI2 = -0.04% eROI3 = -0.08% mSpread = 0.0420%\n",
      "Getting extended results...\n"
     ]
    },
    {
     "name": "stderr",
     "output_type": "stream",
     "text": [
      "0it [00:00, ?it/s]\n"
     ]
    },
    {
     "name": "stdout",
     "output_type": "stream",
     "text": [
      "Epoch = 10. Time index = 2. Threshold MC = 0.9. Threshold MD = 0.9\n",
      "RD = 0 NZ = 0 NZA = 0 pNZ = 0.000% pNZA = 0.000% AD = 0.00% ADA = 0.00% NO = 1 GSP = 0.00% NSP = 0.00%\n",
      "SI2 = 0.00 SI = -1.00 eGROI = 0.00% eROI = 0.00% eROI2 = 0.00% eROI3 = 0.00% mSpread = 0.0000%\n",
      "Getting extended results...\n"
     ]
    },
    {
     "name": "stderr",
     "output_type": "stream",
     "text": [
      "0it [00:00, ?it/s]\n"
     ]
    },
    {
     "name": "stdout",
     "output_type": "stream",
     "text": [
      "Epoch = 10. Time index = 2. Threshold MC = 0.9. Threshold MD = 0.95\n",
      "RD = 0 NZ = 0 NZA = 0 pNZ = 0.000% pNZA = 0.000% AD = 0.00% ADA = 0.00% NO = 1 GSP = 0.00% NSP = 0.00%\n",
      "SI2 = 0.00 SI = -1.00 eGROI = 0.00% eROI = 0.00% eROI2 = 0.00% eROI3 = 0.00% mSpread = 0.0000%\n",
      "\n",
      "Getting extended results...\n"
     ]
    },
    {
     "name": "stderr",
     "output_type": "stream",
     "text": [
      "100%|██████████████████████████████████████████████████████████████████████████████| 119/119 [00:00<00:00, 2840.81it/s]\n"
     ]
    },
    {
     "name": "stdout",
     "output_type": "stream",
     "text": [
      "Epoch = 10. Time index = 2. Threshold MC = 0.95. Threshold MD = 0.5\n",
      "RD = 61 NZ = 111 NZA = 120 pNZ = 0.012% pNZA = 0.013% AD = 54.95% ADA = 50.83% NO = 38 GSP = 52.63% NSP = 52.63%\n",
      "SI2 = 0.32 SI = -2.83 eGROI = -0.27% eROI = -1.21% eROI2 = -1.03% eROI3 = -1.41% mSpread = 0.0248%\n",
      "Getting extended results...\n"
     ]
    },
    {
     "name": "stderr",
     "output_type": "stream",
     "text": [
      "100%|████████████████████████████████████████████████████████████████████████████████| 81/81 [00:00<00:00, 2800.01it/s]\n"
     ]
    },
    {
     "name": "stdout",
     "output_type": "stream",
     "text": [
      "Epoch = 10. Time index = 2. Threshold MC = 0.95. Threshold MD = 0.55\n",
      "RD = 40 NZ = 74 NZA = 82 pNZ = 0.008% pNZA = 0.009% AD = 54.05% ADA = 48.78% NO = 33 GSP = 57.58% NSP = 57.58%\n",
      "SI2 = 0.87 SI = -2.34 eGROI = 1.08% eROI = 0.26% eROI2 = 0.42% eROI3 = 0.09% mSpread = 0.0250%\n",
      "Getting extended results...\n"
     ]
    },
    {
     "name": "stderr",
     "output_type": "stream",
     "text": [
      "100%|████████████████████████████████████████████████████████████████████████████████| 48/48 [00:00<00:00, 2532.82it/s]\n"
     ]
    },
    {
     "name": "stdout",
     "output_type": "stream",
     "text": [
      "Epoch = 10. Time index = 2. Threshold MC = 0.95. Threshold MD = 0.6\n",
      "RD = 26 NZ = 42 NZA = 49 pNZ = 0.005% pNZA = 0.005% AD = 61.90% ADA = 53.06% NO = 27 GSP = 59.26% NSP = 55.56%\n",
      "SI2 = 0.58 SI = -2.20 eGROI = 0.86% eROI = 0.17% eROI2 = 0.32% eROI3 = 0.05% mSpread = 0.0256%\n",
      "Getting extended results...\n"
     ]
    },
    {
     "name": "stderr",
     "output_type": "stream",
     "text": [
      "100%|████████████████████████████████████████████████████████████████████████████████| 22/22 [00:00<00:00, 1838.14it/s]\n"
     ]
    },
    {
     "name": "stdout",
     "output_type": "stream",
     "text": [
      "Epoch = 10. Time index = 2. Threshold MC = 0.95. Threshold MD = 0.65\n",
      "RD = 12 NZ = 21 NZA = 23 pNZ = 0.002% pNZA = 0.003% AD = 57.14% ADA = 52.17% NO = 16 GSP = 56.25% NSP = 56.25%\n",
      "SI2 = 0.50 SI = -1.61 eGROI = 0.55% eROI = 0.13% eROI2 = 0.23% eROI3 = 0.07% mSpread = 0.0259%\n",
      "Getting extended results...\n"
     ]
    },
    {
     "name": "stderr",
     "output_type": "stream",
     "text": [
      "100%|██████████████████████████████████████████████████████████████████████████████████| 8/8 [00:00<00:00, 1604.02it/s]\n"
     ]
    },
    {
     "name": "stdout",
     "output_type": "stream",
     "text": [
      "Epoch = 10. Time index = 2. Threshold MC = 0.95. Threshold MD = 0.7\n",
      "RD = 4 NZ = 7 NZA = 9 pNZ = 0.001% pNZA = 0.001% AD = 57.14% ADA = 44.44% NO = 8 GSP = 50.00% NSP = 37.50%\n",
      "SI2 = -0.71 SI = -1.64 eGROI = 0.33% eROI = 0.11% eROI2 = 0.17% eROI3 = 0.09% mSpread = 0.0277%\n",
      "Getting extended results...\n"
     ]
    },
    {
     "name": "stderr",
     "output_type": "stream",
     "text": [
      "100%|██████████████████████████████████████████████████████████████████████████████████| 5/5 [00:00<00:00, 1252.70it/s]\n"
     ]
    },
    {
     "name": "stdout",
     "output_type": "stream",
     "text": [
      "Epoch = 10. Time index = 2. Threshold MC = 0.95. Threshold MD = 0.75\n",
      "RD = 3 NZ = 4 NZA = 6 pNZ = 0.000% pNZA = 0.001% AD = 75.00% ADA = 50.00% NO = 6 GSP = 66.67% NSP = 50.00%\n",
      "SI2 = 0.00 SI = -1.02 eGROI = 0.36% eROI = 0.18% eROI2 = 0.24% eROI3 = 0.18% mSpread = 0.0301%\n",
      "Getting extended results...\n"
     ]
    },
    {
     "name": "stderr",
     "output_type": "stream",
     "text": [
      "100%|███████████████████████████████████████████████████████████████████████████████████| 1/1 [00:00<00:00, 499.14it/s]\n"
     ]
    },
    {
     "name": "stdout",
     "output_type": "stream",
     "text": [
      "Epoch = 10. Time index = 2. Threshold MC = 0.95. Threshold MD = 0.8\n",
      "RD = 0 NZ = 1 NZA = 2 pNZ = 0.000% pNZA = 0.000% AD = 0.00% ADA = 0.00% NO = 2 GSP = 0.00% NSP = 0.00%\n",
      "SI2 = -1.41 SI = -1.41 eGROI = -0.13% eROI = -0.23% eROI2 = -0.17% eROI3 = -0.19% mSpread = 0.0480%\n",
      "Getting extended results...\n"
     ]
    },
    {
     "name": "stderr",
     "output_type": "stream",
     "text": [
      "0it [00:00, ?it/s]\n"
     ]
    },
    {
     "name": "stdout",
     "output_type": "stream",
     "text": [
      "Epoch = 10. Time index = 2. Threshold MC = 0.95. Threshold MD = 0.85\n",
      "RD = 0 NZ = 0 NZA = 1 pNZ = 0.000% pNZA = 0.000% AD = 0.00% ADA = 0.00% NO = 1 GSP = 0.00% NSP = 0.00%\n",
      "SI2 = -1.00 SI = -1.00 eGROI = 0.00% eROI = -0.07% eROI2 = -0.02% eROI3 = -0.03% mSpread = 0.0678%\n",
      "Getting extended results...\n"
     ]
    },
    {
     "name": "stderr",
     "output_type": "stream",
     "text": [
      "0it [00:00, ?it/s]\n"
     ]
    },
    {
     "name": "stdout",
     "output_type": "stream",
     "text": [
      "Epoch = 10. Time index = 2. Threshold MC = 0.95. Threshold MD = 0.9\n",
      "RD = 0 NZ = 0 NZA = 0 pNZ = 0.000% pNZA = 0.000% AD = 0.00% ADA = 0.00% NO = 1 GSP = 0.00% NSP = 0.00%\n",
      "SI2 = 0.00 SI = -1.00 eGROI = 0.00% eROI = 0.00% eROI2 = 0.00% eROI3 = 0.00% mSpread = 0.0000%\n",
      "Getting extended results...\n"
     ]
    },
    {
     "name": "stderr",
     "output_type": "stream",
     "text": [
      "0it [00:00, ?it/s]\n"
     ]
    },
    {
     "name": "stdout",
     "output_type": "stream",
     "text": [
      "Epoch = 10. Time index = 2. Threshold MC = 0.95. Threshold MD = 0.95\n",
      "RD = 0 NZ = 0 NZA = 0 pNZ = 0.000% pNZA = 0.000% AD = 0.00% ADA = 0.00% NO = 1 GSP = 0.00% NSP = 0.00%\n",
      "SI2 = 0.00 SI = -1.00 eGROI = 0.00% eROI = 0.00% eROI2 = 0.00% eROI3 = 0.00% mSpread = 0.0000%\n",
      "\n",
      "Getting extended results...\n"
     ]
    },
    {
     "name": "stderr",
     "output_type": "stream",
     "text": [
      "0it [00:00, ?it/s]\n"
     ]
    },
    {
     "name": "stdout",
     "output_type": "stream",
     "text": [
      "Epoch = 10. Time index = 3. Threshold MC = 0.5. Threshold MD = 0.5\n",
      "J_test = 6.240390109635269, J_train = 4.741746073306845, Accuracy=0.8014280508231854\n",
      "RD = 373685 NZ = 719076 NZA = 897186 pNZ = 80.137% pNZA = 99.987% AD = 51.97% ADA = 41.65% NO = 1 GSP = 0.00% NSP = 0.00%\n",
      "SI2 = 0.00 SI = -1.00 eGROI = 0.00% eROI = 0.00% eROI2 = 0.00% eROI3 = 0.00% mSpread = 0.0000%\n",
      "Getting extended results...\n"
     ]
    },
    {
     "name": "stderr",
     "output_type": "stream",
     "text": [
      "0it [00:00, ?it/s]\n"
     ]
    },
    {
     "name": "stdout",
     "output_type": "stream",
     "text": [
      "Epoch = 10. Time index = 3. Threshold MC = 0.5. Threshold MD = 0.55\n",
      "RD = 91893 NZ = 169330 NZA = 217242 pNZ = 18.871% pNZA = 24.210% AD = 54.27% ADA = 42.30% NO = 1 GSP = 0.00% NSP = 0.00%\n",
      "SI2 = 0.00 SI = -1.00 eGROI = 0.00% eROI = 0.00% eROI2 = 0.00% eROI3 = 0.00% mSpread = 0.0000%\n",
      "Getting extended results...\n"
     ]
    },
    {
     "name": "stderr",
     "output_type": "stream",
     "text": [
      "100%|██████████████████████████████████████████████████████████████████████████| 52125/52125 [00:09<00:00, 5439.74it/s]\n"
     ]
    },
    {
     "name": "stdout",
     "output_type": "stream",
     "text": [
      "Epoch = 10. Time index = 3. Threshold MC = 0.5. Threshold MD = 0.6\n",
      "RD = 22611 NZ = 39217 NZA = 52126 pNZ = 4.371% pNZA = 5.809% AD = 57.66% ADA = 43.38% NO = 7239 GSP = 55.02% NSP = 41.83%\n",
      "SI2 = -7.46 SI = -49.49 eGROI = 70.19% eROI = -121.37% eROI2 = -74.59% eROI3 = -146.98% mSpread = 0.0265%\n",
      "Getting extended results...\n"
     ]
    },
    {
     "name": "stderr",
     "output_type": "stream",
     "text": [
      "100%|██████████████████████████████████████████████████████████████████████████| 15621/15621 [00:03<00:00, 5029.69it/s]\n"
     ]
    },
    {
     "name": "stdout",
     "output_type": "stream",
     "text": [
      "Epoch = 10. Time index = 3. Threshold MC = 0.5. Threshold MD = 0.65\n",
      "RD = 7225 NZ = 11704 NZA = 15622 pNZ = 1.304% pNZA = 1.741% AD = 61.73% ADA = 46.25% NO = 3453 GSP = 57.75% NSP = 39.68%\n",
      "SI2 = -5.16 SI = -35.44 eGROI = 49.07% eROI = -48.21% eROI2 = -19.99% eROI3 = -54.52% mSpread = 0.0282%\n",
      "Getting extended results...\n"
     ]
    },
    {
     "name": "stderr",
     "output_type": "stream",
     "text": [
      "100%|████████████████████████████████████████████████████████████████████████████| 6350/6350 [00:01<00:00, 4762.04it/s]\n"
     ]
    },
    {
     "name": "stdout",
     "output_type": "stream",
     "text": [
      "Epoch = 10. Time index = 3. Threshold MC = 0.5. Threshold MD = 0.7\n",
      "RD = 3099 NZ = 4793 NZA = 6351 pNZ = 0.534% pNZA = 0.708% AD = 64.66% ADA = 48.80% NO = 1855 GSP = 56.77% NSP = 37.74%\n",
      "SI2 = -4.81 SI = -26.81 eGROI = 21.01% eROI = -33.57% eROI2 = -16.09% eROI3 = -34.64% mSpread = 0.0294%\n",
      "Getting extended results...\n"
     ]
    },
    {
     "name": "stderr",
     "output_type": "stream",
     "text": [
      "100%|████████████████████████████████████████████████████████████████████████████| 2320/2320 [00:00<00:00, 4147.78it/s]\n"
     ]
    },
    {
     "name": "stdout",
     "output_type": "stream",
     "text": [
      "Epoch = 10. Time index = 3. Threshold MC = 0.5. Threshold MD = 0.75\n",
      "RD = 1178 NZ = 1786 NZA = 2321 pNZ = 0.199% pNZA = 0.259% AD = 65.96% ADA = 50.75% NO = 821 GSP = 55.91% NSP = 37.15%\n",
      "SI2 = -4.08 SI = -18.00 eGROI = 8.73% eROI = -15.25% eROI2 = -7.69% eROI3 = -15.90% mSpread = 0.0292%\n",
      "Getting extended results...\n"
     ]
    },
    {
     "name": "stderr",
     "output_type": "stream",
     "text": [
      "100%|██████████████████████████████████████████████████████████████████████████████| 769/769 [00:00<00:00, 3520.74it/s]\n"
     ]
    },
    {
     "name": "stdout",
     "output_type": "stream",
     "text": [
      "Epoch = 10. Time index = 3. Threshold MC = 0.5. Threshold MD = 0.8\n",
      "RD = 406 NZ = 607 NZA = 770 pNZ = 0.068% pNZA = 0.086% AD = 66.89% ADA = 52.73% NO = 289 GSP = 51.56% NSP = 32.53%\n",
      "SI2 = -4.41 SI = -11.45 eGROI = -0.09% eROI = -9.21% eROI2 = -5.87% eROI3 = -8.76% mSpread = 0.0316%\n",
      "Getting extended results...\n"
     ]
    },
    {
     "name": "stderr",
     "output_type": "stream",
     "text": [
      "100%|██████████████████████████████████████████████████████████████████████████████| 182/182 [00:00<00:00, 3443.18it/s]\n"
     ]
    },
    {
     "name": "stdout",
     "output_type": "stream",
     "text": [
      "Epoch = 10. Time index = 3. Threshold MC = 0.5. Threshold MD = 0.85\n",
      "RD = 97 NZ = 147 NZA = 183 pNZ = 0.016% pNZA = 0.020% AD = 65.99% ADA = 53.01% NO = 78 GSP = 47.44% NSP = 29.49%\n",
      "SI2 = -3.62 SI = -6.19 eGROI = -0.57% eROI = -2.92% eROI2 = -2.13% eROI3 = -2.91% mSpread = 0.0302%\n",
      "Getting extended results...\n"
     ]
    },
    {
     "name": "stderr",
     "output_type": "stream",
     "text": [
      "100%|████████████████████████████████████████████████████████████████████████████████| 15/15 [00:00<00:00, 2507.06it/s]\n"
     ]
    },
    {
     "name": "stdout",
     "output_type": "stream",
     "text": [
      "Epoch = 10. Time index = 3. Threshold MC = 0.5. Threshold MD = 0.9\n",
      "RD = 11 NZ = 13 NZA = 16 pNZ = 0.001% pNZA = 0.002% AD = 84.62% ADA = 68.75% NO = 6 GSP = 50.00% NSP = 50.00%\n",
      "SI2 = 0.00 SI = -1.02 eGROI = 0.22% eROI = 0.07% eROI2 = 0.10% eROI3 = 0.04% mSpread = 0.0254%\n",
      "Getting extended results...\n"
     ]
    },
    {
     "name": "stderr",
     "output_type": "stream",
     "text": [
      "0it [00:00, ?it/s]\n"
     ]
    },
    {
     "name": "stdout",
     "output_type": "stream",
     "text": [
      "Epoch = 10. Time index = 3. Threshold MC = 0.5. Threshold MD = 0.95\n",
      "RD = 0 NZ = 0 NZA = 0 pNZ = 0.000% pNZA = 0.000% AD = 0.00% ADA = 0.00% NO = 1 GSP = 0.00% NSP = 0.00%\n",
      "SI2 = 0.00 SI = -1.00 eGROI = 0.00% eROI = 0.00% eROI2 = 0.00% eROI3 = 0.00% mSpread = 0.0000%\n",
      "\n",
      "Getting extended results...\n"
     ]
    },
    {
     "name": "stderr",
     "output_type": "stream",
     "text": [
      "0it [00:00, ?it/s]\n"
     ]
    },
    {
     "name": "stdout",
     "output_type": "stream",
     "text": [
      "Epoch = 10. Time index = 3. Threshold MC = 0.55. Threshold MD = 0.5\n",
      "RD = 373526 NZ = 718765 NZA = 896627 pNZ = 80.102% pNZA = 99.924% AD = 51.97% ADA = 41.66% NO = 1 GSP = 0.00% NSP = 0.00%\n",
      "SI2 = 0.00 SI = -1.00 eGROI = 0.00% eROI = 0.00% eROI2 = 0.00% eROI3 = 0.00% mSpread = 0.0000%\n",
      "Getting extended results...\n"
     ]
    },
    {
     "name": "stderr",
     "output_type": "stream",
     "text": [
      "0it [00:00, ?it/s]\n"
     ]
    },
    {
     "name": "stdout",
     "output_type": "stream",
     "text": [
      "Epoch = 10. Time index = 3. Threshold MC = 0.55. Threshold MD = 0.55\n",
      "RD = 91771 NZ = 169111 NZA = 216838 pNZ = 18.847% pNZA = 24.165% AD = 54.27% ADA = 42.32% NO = 1 GSP = 0.00% NSP = 0.00%\n",
      "SI2 = 0.00 SI = -1.00 eGROI = 0.00% eROI = 0.00% eROI2 = 0.00% eROI3 = 0.00% mSpread = 0.0000%\n",
      "Getting extended results...\n"
     ]
    },
    {
     "name": "stderr",
     "output_type": "stream",
     "text": [
      "100%|██████████████████████████████████████████████████████████████████████████| 51858/51858 [00:09<00:00, 5430.50it/s]\n"
     ]
    },
    {
     "name": "stdout",
     "output_type": "stream",
     "text": [
      "Epoch = 10. Time index = 3. Threshold MC = 0.55. Threshold MD = 0.6\n",
      "RD = 22529 NZ = 39076 NZA = 51859 pNZ = 4.355% pNZA = 5.779% AD = 57.65% ADA = 43.44% NO = 7239 GSP = 55.10% NSP = 41.88%\n",
      "SI2 = -7.39 SI = -49.44 eGROI = 71.07% eROI = -120.47% eROI2 = -73.71% eROI3 = -146.10% mSpread = 0.0265%\n",
      "Getting extended results...\n"
     ]
    },
    {
     "name": "stderr",
     "output_type": "stream",
     "text": [
      "100%|██████████████████████████████████████████████████████████████████████████| 15467/15467 [00:02<00:00, 5449.08it/s]\n"
     ]
    },
    {
     "name": "stdout",
     "output_type": "stream",
     "text": [
      "Epoch = 10. Time index = 3. Threshold MC = 0.55. Threshold MD = 0.65\n",
      "RD = 7187 NZ = 11627 NZA = 15468 pNZ = 1.296% pNZA = 1.724% AD = 61.81% ADA = 46.46% NO = 3445 GSP = 57.79% NSP = 39.71%\n",
      "SI2 = -5.06 SI = -35.38 eGROI = 49.05% eROI = -47.92% eROI2 = -19.85% eROI3 = -54.30% mSpread = 0.0281%\n",
      "Getting extended results...\n"
     ]
    },
    {
     "name": "stderr",
     "output_type": "stream",
     "text": [
      "100%|████████████████████████████████████████████████████████████████████████████| 6290/6290 [00:01<00:00, 4593.21it/s]\n"
     ]
    },
    {
     "name": "stdout",
     "output_type": "stream",
     "text": [
      "Epoch = 10. Time index = 3. Threshold MC = 0.55. Threshold MD = 0.7\n",
      "RD = 3087 NZ = 4767 NZA = 6291 pNZ = 0.531% pNZA = 0.701% AD = 64.76% ADA = 49.07% NO = 1851 GSP = 56.89% NSP = 37.82%\n",
      "SI2 = -4.72 SI = -26.74 eGROI = 21.21% eROI = -33.33% eROI2 = -15.81% eROI3 = -34.32% mSpread = 0.0295%\n",
      "Getting extended results...\n"
     ]
    },
    {
     "name": "stderr",
     "output_type": "stream",
     "text": [
      "100%|████████████████████████████████████████████████████████████████████████████| 2294/2294 [00:00<00:00, 4299.22it/s]\n"
     ]
    },
    {
     "name": "stdout",
     "output_type": "stream",
     "text": [
      "Epoch = 10. Time index = 3. Threshold MC = 0.55. Threshold MD = 0.75\n",
      "RD = 1173 NZ = 1777 NZA = 2295 pNZ = 0.198% pNZA = 0.256% AD = 66.01% ADA = 51.11% NO = 818 GSP = 56.23% NSP = 37.41%\n",
      "SI2 = -3.92 SI = -17.89 eGROI = 8.94% eROI = -14.90% eROI2 = -7.42% eROI3 = -15.60% mSpread = 0.0291%\n",
      "Getting extended results...\n"
     ]
    },
    {
     "name": "stderr",
     "output_type": "stream",
     "text": [
      "100%|██████████████████████████████████████████████████████████████████████████████| 763/763 [00:00<00:00, 3557.62it/s]\n"
     ]
    },
    {
     "name": "stdout",
     "output_type": "stream",
     "text": [
      "Epoch = 10. Time index = 3. Threshold MC = 0.55. Threshold MD = 0.8\n",
      "RD = 404 NZ = 604 NZA = 764 pNZ = 0.067% pNZA = 0.085% AD = 66.89% ADA = 52.88% NO = 288 GSP = 51.04% NSP = 32.29%\n",
      "SI2 = -4.48 SI = -11.47 eGROI = -0.13% eROI = -9.25% eROI2 = -5.89% eROI3 = -8.77% mSpread = 0.0316%\n",
      "Getting extended results...\n"
     ]
    },
    {
     "name": "stderr",
     "output_type": "stream",
     "text": [
      "100%|██████████████████████████████████████████████████████████████████████████████| 182/182 [00:00<00:00, 2896.63it/s]\n"
     ]
    },
    {
     "name": "stdout",
     "output_type": "stream",
     "text": [
      "Epoch = 10. Time index = 3. Threshold MC = 0.55. Threshold MD = 0.85\n",
      "RD = 97 NZ = 147 NZA = 183 pNZ = 0.016% pNZA = 0.020% AD = 65.99% ADA = 53.01% NO = 78 GSP = 47.44% NSP = 29.49%\n",
      "SI2 = -3.62 SI = -6.19 eGROI = -0.57% eROI = -2.92% eROI2 = -2.13% eROI3 = -2.91% mSpread = 0.0302%\n",
      "Getting extended results...\n"
     ]
    },
    {
     "name": "stderr",
     "output_type": "stream",
     "text": [
      "100%|████████████████████████████████████████████████████████████████████████████████| 15/15 [00:00<00:00, 1879.73it/s]\n"
     ]
    },
    {
     "name": "stdout",
     "output_type": "stream",
     "text": [
      "Epoch = 10. Time index = 3. Threshold MC = 0.55. Threshold MD = 0.9\n",
      "RD = 11 NZ = 13 NZA = 16 pNZ = 0.001% pNZA = 0.002% AD = 84.62% ADA = 68.75% NO = 6 GSP = 50.00% NSP = 50.00%\n",
      "SI2 = 0.00 SI = -1.02 eGROI = 0.22% eROI = 0.07% eROI2 = 0.10% eROI3 = 0.04% mSpread = 0.0254%\n",
      "Getting extended results...\n"
     ]
    },
    {
     "name": "stderr",
     "output_type": "stream",
     "text": [
      "0it [00:00, ?it/s]\n"
     ]
    },
    {
     "name": "stdout",
     "output_type": "stream",
     "text": [
      "Epoch = 10. Time index = 3. Threshold MC = 0.55. Threshold MD = 0.95\n",
      "RD = 0 NZ = 0 NZA = 0 pNZ = 0.000% pNZA = 0.000% AD = 0.00% ADA = 0.00% NO = 1 GSP = 0.00% NSP = 0.00%\n",
      "SI2 = 0.00 SI = -1.00 eGROI = 0.00% eROI = 0.00% eROI2 = 0.00% eROI3 = 0.00% mSpread = 0.0000%\n",
      "\n",
      "Getting extended results...\n"
     ]
    },
    {
     "name": "stderr",
     "output_type": "stream",
     "text": [
      "0it [00:00, ?it/s]\n"
     ]
    },
    {
     "name": "stdout",
     "output_type": "stream",
     "text": [
      "Epoch = 10. Time index = 3. Threshold MC = 0.6. Threshold MD = 0.5\n",
      "RD = 372823 NZ = 717392 NZA = 894241 pNZ = 79.949% pNZA = 99.658% AD = 51.97% ADA = 41.69% NO = 1 GSP = 0.00% NSP = 0.00%\n",
      "SI2 = 0.00 SI = -1.00 eGROI = 0.00% eROI = 0.00% eROI2 = 0.00% eROI3 = 0.00% mSpread = 0.0000%\n",
      "Getting extended results...\n"
     ]
    },
    {
     "name": "stderr",
     "output_type": "stream",
     "text": [
      "0it [00:00, ?it/s]\n"
     ]
    },
    {
     "name": "stdout",
     "output_type": "stream",
     "text": [
      "Epoch = 10. Time index = 3. Threshold MC = 0.6. Threshold MD = 0.55\n",
      "RD = 91326 NZ = 168211 NZA = 215303 pNZ = 18.746% pNZA = 23.994% AD = 54.29% ADA = 42.42% NO = 1 GSP = 0.00% NSP = 0.00%\n",
      "SI2 = 0.00 SI = -1.00 eGROI = 0.00% eROI = 0.00% eROI2 = 0.00% eROI3 = 0.00% mSpread = 0.0000%\n",
      "Getting extended results...\n"
     ]
    },
    {
     "name": "stderr",
     "output_type": "stream",
     "text": [
      "100%|██████████████████████████████████████████████████████████████████████████| 50863/50863 [00:09<00:00, 5233.61it/s]\n"
     ]
    },
    {
     "name": "stdout",
     "output_type": "stream",
     "text": [
      "Epoch = 10. Time index = 3. Threshold MC = 0.6. Threshold MD = 0.6\n",
      "RD = 22226 NZ = 38486 NZA = 50864 pNZ = 4.289% pNZA = 5.669% AD = 57.75% ADA = 43.70% NO = 7242 GSP = 55.26% NSP = 41.88%\n",
      "SI2 = -7.36 SI = -49.45 eGROI = 71.27% eROI = -120.50% eROI2 = -73.57% eROI3 = -145.99% mSpread = 0.0265%\n",
      "Getting extended results...\n"
     ]
    },
    {
     "name": "stderr",
     "output_type": "stream",
     "text": [
      "100%|██████████████████████████████████████████████████████████████████████████| 14871/14871 [00:03<00:00, 4065.01it/s]\n"
     ]
    },
    {
     "name": "stdout",
     "output_type": "stream",
     "text": [
      "Epoch = 10. Time index = 3. Threshold MC = 0.6. Threshold MD = 0.65\n",
      "RD = 6989 NZ = 11265 NZA = 14872 pNZ = 1.255% pNZA = 1.657% AD = 62.04% ADA = 46.99% NO = 3425 GSP = 58.07% NSP = 39.68%\n",
      "SI2 = -4.87 SI = -35.30 eGROI = 49.68% eROI = -46.81% eROI2 = -18.82% eROI3 = -53.07% mSpread = 0.0282%\n",
      "Getting extended results...\n"
     ]
    },
    {
     "name": "stderr",
     "output_type": "stream",
     "text": [
      "100%|████████████████████████████████████████████████████████████████████████████| 6043/6043 [00:01<00:00, 4091.18it/s]\n"
     ]
    },
    {
     "name": "stdout",
     "output_type": "stream",
     "text": [
      "Epoch = 10. Time index = 3. Threshold MC = 0.6. Threshold MD = 0.7\n",
      "RD = 2997 NZ = 4622 NZA = 6044 pNZ = 0.515% pNZA = 0.674% AD = 64.84% ADA = 49.59% NO = 1814 GSP = 56.84% NSP = 37.98%\n",
      "SI2 = -4.60 SI = -26.41 eGROI = 20.71% eROI = -32.68% eROI2 = -15.57% eROI3 = -33.71% mSpread = 0.0294%\n",
      "Getting extended results...\n"
     ]
    },
    {
     "name": "stderr",
     "output_type": "stream",
     "text": [
      "100%|████████████████████████████████████████████████████████████████████████████| 2233/2233 [00:00<00:00, 3407.79it/s]\n"
     ]
    },
    {
     "name": "stdout",
     "output_type": "stream",
     "text": [
      "Epoch = 10. Time index = 3. Threshold MC = 0.6. Threshold MD = 0.75\n",
      "RD = 1148 NZ = 1744 NZA = 2234 pNZ = 0.194% pNZA = 0.249% AD = 65.83% ADA = 51.39% NO = 797 GSP = 56.21% NSP = 37.77%\n",
      "SI2 = -3.65 SI = -17.56 eGROI = 8.68% eROI = -14.51% eROI2 = -7.26% eROI3 = -15.23% mSpread = 0.0291%\n",
      "Getting extended results...\n"
     ]
    },
    {
     "name": "stderr",
     "output_type": "stream",
     "text": [
      "100%|██████████████████████████████████████████████████████████████████████████████| 753/753 [00:00<00:00, 1200.32it/s]\n"
     ]
    },
    {
     "name": "stdout",
     "output_type": "stream",
     "text": [
      "Epoch = 10. Time index = 3. Threshold MC = 0.6. Threshold MD = 0.8\n",
      "RD = 401 NZ = 599 NZA = 754 pNZ = 0.067% pNZA = 0.084% AD = 66.94% ADA = 53.18% NO = 283 GSP = 50.88% NSP = 32.51%\n",
      "SI2 = -4.34 SI = -11.33 eGROI = -0.12% eROI = -9.07% eROI2 = -5.78% eROI3 = -8.61% mSpread = 0.0316%\n",
      "Getting extended results...\n"
     ]
    },
    {
     "name": "stderr",
     "output_type": "stream",
     "text": [
      "100%|███████████████████████████████████████████████████████████████████████████████| 180/180 [00:00<00:00, 906.92it/s]\n"
     ]
    },
    {
     "name": "stdout",
     "output_type": "stream",
     "text": [
      "Epoch = 10. Time index = 3. Threshold MC = 0.6. Threshold MD = 0.85\n",
      "RD = 96 NZ = 146 NZA = 181 pNZ = 0.016% pNZA = 0.020% AD = 65.75% ADA = 53.04% NO = 77 GSP = 46.75% NSP = 29.87%\n",
      "SI2 = -3.53 SI = -6.12 eGROI = -0.56% eROI = -2.90% eROI2 = -2.10% eROI3 = -2.87% mSpread = 0.0303%\n",
      "Getting extended results...\n"
     ]
    },
    {
     "name": "stderr",
     "output_type": "stream",
     "text": [
      "100%|█████████████████████████████████████████████████████████████████████████████████| 15/15 [00:00<00:00, 653.90it/s]\n"
     ]
    },
    {
     "name": "stdout",
     "output_type": "stream",
     "text": [
      "Epoch = 10. Time index = 3. Threshold MC = 0.6. Threshold MD = 0.9\n",
      "RD = 11 NZ = 13 NZA = 16 pNZ = 0.001% pNZA = 0.002% AD = 84.62% ADA = 68.75% NO = 6 GSP = 50.00% NSP = 50.00%\n",
      "SI2 = 0.00 SI = -1.02 eGROI = 0.22% eROI = 0.07% eROI2 = 0.10% eROI3 = 0.04% mSpread = 0.0254%\n",
      "Getting extended results...\n"
     ]
    },
    {
     "name": "stderr",
     "output_type": "stream",
     "text": [
      "0it [00:00, ?it/s]\n"
     ]
    },
    {
     "name": "stdout",
     "output_type": "stream",
     "text": [
      "Epoch = 10. Time index = 3. Threshold MC = 0.6. Threshold MD = 0.95\n",
      "RD = 0 NZ = 0 NZA = 0 pNZ = 0.000% pNZA = 0.000% AD = 0.00% ADA = 0.00% NO = 1 GSP = 0.00% NSP = 0.00%\n",
      "SI2 = 0.00 SI = -1.00 eGROI = 0.00% eROI = 0.00% eROI2 = 0.00% eROI3 = 0.00% mSpread = 0.0000%\n",
      "\n",
      "Getting extended results...\n"
     ]
    },
    {
     "name": "stderr",
     "output_type": "stream",
     "text": [
      "0it [00:00, ?it/s]\n"
     ]
    },
    {
     "name": "stdout",
     "output_type": "stream",
     "text": [
      "Epoch = 10. Time index = 3. Threshold MC = 0.65. Threshold MD = 0.5\n",
      "RD = 370589 NZ = 713036 NZA = 887000 pNZ = 79.464% pNZA = 98.851% AD = 51.97% ADA = 41.78% NO = 1 GSP = 0.00% NSP = 0.00%\n",
      "SI2 = 0.00 SI = -1.00 eGROI = 0.00% eROI = 0.00% eROI2 = 0.00% eROI3 = 0.00% mSpread = 0.0000%\n",
      "Getting extended results...\n"
     ]
    },
    {
     "name": "stderr",
     "output_type": "stream",
     "text": [
      "0it [00:00, ?it/s]\n"
     ]
    },
    {
     "name": "stdout",
     "output_type": "stream",
     "text": [
      "Epoch = 10. Time index = 3. Threshold MC = 0.65. Threshold MD = 0.55\n",
      "RD = 90025 NZ = 165613 NZA = 210979 pNZ = 18.457% pNZA = 23.512% AD = 54.36% ADA = 42.67% NO = 1 GSP = 0.00% NSP = 0.00%\n",
      "SI2 = 0.00 SI = -1.00 eGROI = 0.00% eROI = 0.00% eROI2 = 0.00% eROI3 = 0.00% mSpread = 0.0000%\n",
      "Getting extended results...\n"
     ]
    },
    {
     "name": "stderr",
     "output_type": "stream",
     "text": [
      "100%|██████████████████████████████████████████████████████████████████████████| 48883/48883 [00:10<00:00, 4786.86it/s]\n"
     ]
    },
    {
     "name": "stdout",
     "output_type": "stream",
     "text": [
      "Epoch = 10. Time index = 3. Threshold MC = 0.65. Threshold MD = 0.6\n",
      "RD = 21587 NZ = 37294 NZA = 48884 pNZ = 4.156% pNZA = 5.448% AD = 57.88% ADA = 44.16% NO = 7247 GSP = 55.60% NSP = 42.04%\n",
      "SI2 = -7.06 SI = -49.33 eGROI = 73.25% eROI = -118.62% eROI2 = -71.69% eROI3 = -144.16% mSpread = 0.0265%\n",
      "Getting extended results...\n"
     ]
    },
    {
     "name": "stderr",
     "output_type": "stream",
     "text": [
      "100%|██████████████████████████████████████████████████████████████████████████| 13904/13904 [00:03<00:00, 4418.66it/s]\n"
     ]
    },
    {
     "name": "stdout",
     "output_type": "stream",
     "text": [
      "Epoch = 10. Time index = 3. Threshold MC = 0.65. Threshold MD = 0.65\n",
      "RD = 6654 NZ = 10665 NZA = 13905 pNZ = 1.189% pNZA = 1.550% AD = 62.39% ADA = 47.85% NO = 3382 GSP = 58.10% NSP = 40.01%\n",
      "SI2 = -4.37 SI = -34.88 eGROI = 51.22% eROI = -44.13% eROI2 = -16.42% eROI3 = -50.24% mSpread = 0.0282%\n",
      "Getting extended results...\n"
     ]
    },
    {
     "name": "stderr",
     "output_type": "stream",
     "text": [
      "100%|████████████████████████████████████████████████████████████████████████████| 5622/5622 [00:01<00:00, 3785.71it/s]\n"
     ]
    },
    {
     "name": "stdout",
     "output_type": "stream",
     "text": [
      "Epoch = 10. Time index = 3. Threshold MC = 0.65. Threshold MD = 0.7\n",
      "RD = 2844 NZ = 4347 NZA = 5623 pNZ = 0.484% pNZA = 0.627% AD = 65.42% ADA = 50.58% NO = 1761 GSP = 57.52% NSP = 38.44%\n",
      "SI2 = -4.17 SI = -25.82 eGROI = 21.40% eROI = -30.67% eROI2 = -13.82% eROI3 = -31.43% mSpread = 0.0296%\n",
      "Getting extended results...\n"
     ]
    },
    {
     "name": "stderr",
     "output_type": "stream",
     "text": [
      "100%|████████████████████████████████████████████████████████████████████████████| 2125/2125 [00:00<00:00, 3605.07it/s]\n"
     ]
    },
    {
     "name": "stdout",
     "output_type": "stream",
     "text": [
      "Epoch = 10. Time index = 3. Threshold MC = 0.65. Threshold MD = 0.75\n",
      "RD = 1101 NZ = 1664 NZA = 2126 pNZ = 0.185% pNZA = 0.237% AD = 66.17% ADA = 51.79% NO = 771 GSP = 55.90% NSP = 37.22%\n",
      "SI2 = -3.78 SI = -17.42 eGROI = 8.57% eROI = -14.10% eROI2 = -6.85% eROI3 = -14.56% mSpread = 0.0294%\n",
      "Getting extended results...\n"
     ]
    },
    {
     "name": "stderr",
     "output_type": "stream",
     "text": [
      "100%|██████████████████████████████████████████████████████████████████████████████| 731/731 [00:00<00:00, 3409.07it/s]\n"
     ]
    },
    {
     "name": "stdout",
     "output_type": "stream",
     "text": [
      "Epoch = 10. Time index = 3. Threshold MC = 0.65. Threshold MD = 0.8\n",
      "RD = 394 NZ = 587 NZA = 732 pNZ = 0.065% pNZA = 0.082% AD = 67.12% ADA = 53.83% NO = 276 GSP = 51.09% NSP = 32.61%\n",
      "SI2 = -4.33 SI = -11.18 eGROI = -0.02% eROI = -8.68% eROI2 = -5.54% eROI3 = -8.30% mSpread = 0.0314%\n",
      "Getting extended results...\n"
     ]
    },
    {
     "name": "stderr",
     "output_type": "stream",
     "text": [
      "100%|██████████████████████████████████████████████████████████████████████████████| 178/178 [00:00<00:00, 2704.18it/s]\n"
     ]
    },
    {
     "name": "stdout",
     "output_type": "stream",
     "text": [
      "Epoch = 10. Time index = 3. Threshold MC = 0.65. Threshold MD = 0.85\n",
      "RD = 96 NZ = 144 NZA = 179 pNZ = 0.016% pNZA = 0.020% AD = 66.67% ADA = 53.63% NO = 76 GSP = 47.37% NSP = 30.26%\n",
      "SI2 = -3.44 SI = -6.04 eGROI = -0.52% eROI = -2.84% eROI2 = -2.04% eROI3 = -2.80% mSpread = 0.0305%\n",
      "Getting extended results...\n"
     ]
    },
    {
     "name": "stderr",
     "output_type": "stream",
     "text": [
      "100%|████████████████████████████████████████████████████████████████████████████████| 15/15 [00:00<00:00, 2148.65it/s]\n"
     ]
    },
    {
     "name": "stdout",
     "output_type": "stream",
     "text": [
      "Epoch = 10. Time index = 3. Threshold MC = 0.65. Threshold MD = 0.9\n",
      "RD = 11 NZ = 13 NZA = 16 pNZ = 0.001% pNZA = 0.002% AD = 84.62% ADA = 68.75% NO = 6 GSP = 50.00% NSP = 50.00%\n",
      "SI2 = 0.00 SI = -1.02 eGROI = 0.22% eROI = 0.07% eROI2 = 0.10% eROI3 = 0.04% mSpread = 0.0254%\n",
      "Getting extended results...\n"
     ]
    },
    {
     "name": "stderr",
     "output_type": "stream",
     "text": [
      "0it [00:00, ?it/s]\n"
     ]
    },
    {
     "name": "stdout",
     "output_type": "stream",
     "text": [
      "Epoch = 10. Time index = 3. Threshold MC = 0.65. Threshold MD = 0.95\n",
      "RD = 0 NZ = 0 NZA = 0 pNZ = 0.000% pNZA = 0.000% AD = 0.00% ADA = 0.00% NO = 1 GSP = 0.00% NSP = 0.00%\n",
      "SI2 = 0.00 SI = -1.00 eGROI = 0.00% eROI = 0.00% eROI2 = 0.00% eROI3 = 0.00% mSpread = 0.0000%\n",
      "\n",
      "Getting extended results...\n"
     ]
    },
    {
     "name": "stderr",
     "output_type": "stream",
     "text": [
      "0it [00:00, ?it/s]\n"
     ]
    },
    {
     "name": "stdout",
     "output_type": "stream",
     "text": [
      "Epoch = 10. Time index = 3. Threshold MC = 0.7. Threshold MD = 0.5\n",
      "RD = 364403 NZ = 701436 NZA = 869097 pNZ = 78.171% pNZA = 96.856% AD = 51.95% ADA = 41.93% NO = 1 GSP = 0.00% NSP = 0.00%\n",
      "SI2 = 0.00 SI = -1.00 eGROI = 0.00% eROI = 0.00% eROI2 = 0.00% eROI3 = 0.00% mSpread = 0.0000%\n",
      "Getting extended results...\n"
     ]
    },
    {
     "name": "stderr",
     "output_type": "stream",
     "text": [
      "0it [00:00, ?it/s]\n"
     ]
    },
    {
     "name": "stdout",
     "output_type": "stream",
     "text": [
      "Epoch = 10. Time index = 3. Threshold MC = 0.7. Threshold MD = 0.55\n",
      "RD = 86463 NZ = 159091 NZA = 200992 pNZ = 17.730% pNZA = 22.399% AD = 54.35% ADA = 43.02% NO = 1 GSP = 0.00% NSP = 0.00%\n",
      "SI2 = 0.00 SI = -1.00 eGROI = 0.00% eROI = 0.00% eROI2 = 0.00% eROI3 = 0.00% mSpread = 0.0000%\n",
      "Getting extended results...\n"
     ]
    },
    {
     "name": "stderr",
     "output_type": "stream",
     "text": [
      "100%|██████████████████████████████████████████████████████████████████████████| 45087/45087 [00:09<00:00, 4817.93it/s]\n"
     ]
    },
    {
     "name": "stdout",
     "output_type": "stream",
     "text": [
      "Epoch = 10. Time index = 3. Threshold MC = 0.7. Threshold MD = 0.6\n",
      "RD = 20160 NZ = 34827 NZA = 45088 pNZ = 3.881% pNZA = 5.025% AD = 57.89% ADA = 44.71% NO = 7183 GSP = 55.76% NSP = 42.17%\n",
      "SI2 = -6.90 SI = -49.01 eGROI = 72.63% eROI = -117.85% eROI2 = -71.03% eROI3 = -142.86% mSpread = 0.0265%\n",
      "Getting extended results...\n"
     ]
    },
    {
     "name": "stderr",
     "output_type": "stream",
     "text": [
      "100%|██████████████████████████████████████████████████████████████████████████| 12498/12498 [00:02<00:00, 4424.79it/s]\n"
     ]
    },
    {
     "name": "stdout",
     "output_type": "stream",
     "text": [
      "Epoch = 10. Time index = 3. Threshold MC = 0.7. Threshold MD = 0.65\n",
      "RD = 6072 NZ = 9743 NZA = 12499 pNZ = 1.086% pNZA = 1.393% AD = 62.32% ADA = 48.58% NO = 3238 GSP = 58.06% NSP = 40.67%\n",
      "SI2 = -3.76 SI = -33.75 eGROI = 52.27% eROI = -39.01% eROI2 = -12.49% eROI3 = -44.87% mSpread = 0.0282%\n",
      "Getting extended results...\n"
     ]
    },
    {
     "name": "stderr",
     "output_type": "stream",
     "text": [
      "100%|████████████████████████████████████████████████████████████████████████████| 5021/5021 [00:01<00:00, 4237.65it/s]\n"
     ]
    },
    {
     "name": "stdout",
     "output_type": "stream",
     "text": [
      "Epoch = 10. Time index = 3. Threshold MC = 0.7. Threshold MD = 0.7\n",
      "RD = 2572 NZ = 3948 NZA = 5022 pNZ = 0.440% pNZA = 0.560% AD = 65.15% ADA = 51.21% NO = 1640 GSP = 57.44% NSP = 39.02%\n",
      "SI2 = -3.65 SI = -24.68 eGROI = 21.51% eROI = -27.04% eROI2 = -11.29% eROI3 = -27.69% mSpread = 0.0296%\n",
      "Getting extended results...\n"
     ]
    },
    {
     "name": "stderr",
     "output_type": "stream",
     "text": [
      "100%|████████████████████████████████████████████████████████████████████████████| 1931/1931 [00:00<00:00, 4274.00it/s]\n"
     ]
    },
    {
     "name": "stdout",
     "output_type": "stream",
     "text": [
      "Epoch = 10. Time index = 3. Threshold MC = 0.7. Threshold MD = 0.75\n",
      "RD = 1017 NZ = 1538 NZA = 1932 pNZ = 0.171% pNZA = 0.215% AD = 66.12% ADA = 52.64% NO = 705 GSP = 57.30% NSP = 38.16%\n",
      "SI2 = -3.05 SI = -16.41 eGROI = 9.06% eROI = -11.60% eROI2 = -5.04% eROI3 = -12.09% mSpread = 0.0293%\n",
      "Getting extended results...\n"
     ]
    },
    {
     "name": "stderr",
     "output_type": "stream",
     "text": [
      "100%|██████████████████████████████████████████████████████████████████████████████| 689/689 [00:00<00:00, 3402.92it/s]\n"
     ]
    },
    {
     "name": "stdout",
     "output_type": "stream",
     "text": [
      "Epoch = 10. Time index = 3. Threshold MC = 0.7. Threshold MD = 0.8\n",
      "RD = 376 NZ = 561 NZA = 690 pNZ = 0.063% pNZA = 0.077% AD = 67.02% ADA = 54.49% NO = 259 GSP = 52.12% NSP = 33.59%\n",
      "SI2 = -3.67 SI = -10.67 eGROI = 0.35% eROI = -7.84% eROI2 = -4.83% eROI3 = -7.42% mSpread = 0.0316%\n",
      "Getting extended results...\n"
     ]
    },
    {
     "name": "stderr",
     "output_type": "stream",
     "text": [
      "100%|██████████████████████████████████████████████████████████████████████████████| 172/172 [00:00<00:00, 3592.86it/s]\n"
     ]
    },
    {
     "name": "stdout",
     "output_type": "stream",
     "text": [
      "Epoch = 10. Time index = 3. Threshold MC = 0.7. Threshold MD = 0.85\n",
      "RD = 92 NZ = 138 NZA = 173 pNZ = 0.015% pNZA = 0.019% AD = 66.67% ADA = 53.18% NO = 72 GSP = 47.22% NSP = 29.17%\n",
      "SI2 = -3.54 SI = -5.98 eGROI = -0.60% eROI = -2.82% eROI2 = -2.04% eROI3 = -2.76% mSpread = 0.0309%\n",
      "Getting extended results...\n"
     ]
    },
    {
     "name": "stderr",
     "output_type": "stream",
     "text": [
      "100%|████████████████████████████████████████████████████████████████████████████████| 15/15 [00:00<00:00, 3008.11it/s]\n"
     ]
    },
    {
     "name": "stdout",
     "output_type": "stream",
     "text": [
      "Epoch = 10. Time index = 3. Threshold MC = 0.7. Threshold MD = 0.9\n",
      "RD = 11 NZ = 13 NZA = 16 pNZ = 0.001% pNZA = 0.002% AD = 84.62% ADA = 68.75% NO = 6 GSP = 50.00% NSP = 50.00%\n",
      "SI2 = 0.00 SI = -1.02 eGROI = 0.22% eROI = 0.07% eROI2 = 0.10% eROI3 = 0.04% mSpread = 0.0254%\n",
      "Getting extended results...\n"
     ]
    },
    {
     "name": "stderr",
     "output_type": "stream",
     "text": [
      "0it [00:00, ?it/s]\n"
     ]
    },
    {
     "name": "stdout",
     "output_type": "stream",
     "text": [
      "Epoch = 10. Time index = 3. Threshold MC = 0.7. Threshold MD = 0.95\n",
      "RD = 0 NZ = 0 NZA = 0 pNZ = 0.000% pNZA = 0.000% AD = 0.00% ADA = 0.00% NO = 1 GSP = 0.00% NSP = 0.00%\n",
      "SI2 = 0.00 SI = -1.00 eGROI = 0.00% eROI = 0.00% eROI2 = 0.00% eROI3 = 0.00% mSpread = 0.0000%\n",
      "\n",
      "Getting extended results...\n"
     ]
    },
    {
     "name": "stderr",
     "output_type": "stream",
     "text": [
      "0it [00:00, ?it/s]\n"
     ]
    },
    {
     "name": "stdout",
     "output_type": "stream",
     "text": [
      "Epoch = 10. Time index = 3. Threshold MC = 0.75. Threshold MD = 0.5\n",
      "RD = 345440 NZ = 665541 NZA = 816854 pNZ = 74.171% pNZA = 91.034% AD = 51.90% ADA = 42.29% NO = 1 GSP = 0.00% NSP = 0.00%\n",
      "SI2 = 0.00 SI = -1.00 eGROI = 0.00% eROI = 0.00% eROI2 = 0.00% eROI3 = 0.00% mSpread = 0.0000%\n",
      "Getting extended results...\n"
     ]
    },
    {
     "name": "stderr",
     "output_type": "stream",
     "text": [
      "0it [00:00, ?it/s]\n"
     ]
    },
    {
     "name": "stdout",
     "output_type": "stream",
     "text": [
      "Epoch = 10. Time index = 3. Threshold MC = 0.75. Threshold MD = 0.55\n",
      "RD = 76746 NZ = 141366 NZA = 175103 pNZ = 15.754% pNZA = 19.514% AD = 54.29% ADA = 43.83% NO = 1 GSP = 0.00% NSP = 0.00%\n",
      "SI2 = 0.00 SI = -1.00 eGROI = 0.00% eROI = 0.00% eROI2 = 0.00% eROI3 = 0.00% mSpread = 0.0000%\n",
      "Getting extended results...\n"
     ]
    },
    {
     "name": "stderr",
     "output_type": "stream",
     "text": [
      "100%|██████████████████████████████████████████████████████████████████████████| 36315/36315 [00:08<00:00, 4425.97it/s]\n"
     ]
    },
    {
     "name": "stdout",
     "output_type": "stream",
     "text": [
      "Epoch = 10. Time index = 3. Threshold MC = 0.75. Threshold MD = 0.6\n",
      "RD = 16695 NZ = 28848 NZA = 36316 pNZ = 3.215% pNZA = 4.047% AD = 57.87% ADA = 45.97% NO = 6898 GSP = 56.02% NSP = 41.85%\n",
      "SI2 = -6.60 SI = -48.29 eGROI = 74.33% eROI = -109.18% eROI2 = -63.63% eROI3 = -132.61% mSpread = 0.0266%\n",
      "Getting extended results...\n"
     ]
    },
    {
     "name": "stderr",
     "output_type": "stream",
     "text": [
      "100%|██████████████████████████████████████████████████████████████████████████| 10177/10177 [00:02<00:00, 4329.23it/s]\n"
     ]
    },
    {
     "name": "stdout",
     "output_type": "stream",
     "text": [
      "Epoch = 10. Time index = 3. Threshold MC = 0.75. Threshold MD = 0.65\n",
      "RD = 5073 NZ = 8153 NZA = 10178 pNZ = 0.909% pNZA = 1.134% AD = 62.22% ADA = 49.84% NO = 2919 GSP = 58.92% NSP = 40.90%\n",
      "SI2 = -3.02 SI = -31.92 eGROI = 50.32% eROI = -33.01% eROI2 = -8.06% eROI3 = -37.25% mSpread = 0.0285%\n",
      "Getting extended results...\n"
     ]
    },
    {
     "name": "stderr",
     "output_type": "stream",
     "text": [
      "100%|████████████████████████████████████████████████████████████████████████████| 4061/4061 [00:01<00:00, 3759.72it/s]\n"
     ]
    },
    {
     "name": "stdout",
     "output_type": "stream",
     "text": [
      "Epoch = 10. Time index = 3. Threshold MC = 0.75. Threshold MD = 0.7\n",
      "RD = 2118 NZ = 3276 NZA = 4062 pNZ = 0.365% pNZA = 0.453% AD = 64.65% ADA = 52.14% NO = 1408 GSP = 58.24% NSP = 39.20%\n",
      "SI2 = -3.09 SI = -22.80 eGROI = 19.64% eROI = -22.56% eROI2 = -8.52% eROI3 = -22.60% mSpread = 0.0300%\n",
      "Getting extended results...\n"
     ]
    },
    {
     "name": "stderr",
     "output_type": "stream",
     "text": [
      "100%|████████████████████████████████████████████████████████████████████████████| 1626/1626 [00:00<00:00, 3411.81it/s]\n"
     ]
    },
    {
     "name": "stdout",
     "output_type": "stream",
     "text": [
      "Epoch = 10. Time index = 3. Threshold MC = 0.75. Threshold MD = 0.75\n",
      "RD = 878 NZ = 1328 NZA = 1627 pNZ = 0.148% pNZA = 0.181% AD = 66.11% ADA = 53.96% NO = 595 GSP = 57.31% NSP = 40.17%\n",
      "SI2 = -1.68 SI = -14.58 eGROI = 8.64% eROI = -8.88% eROI2 = -3.26% eROI3 = -9.21% mSpread = 0.0294%\n",
      "Getting extended results...\n"
     ]
    },
    {
     "name": "stderr",
     "output_type": "stream",
     "text": [
      "100%|██████████████████████████████████████████████████████████████████████████████| 604/604 [00:00<00:00, 4176.58it/s]\n"
     ]
    },
    {
     "name": "stdout",
     "output_type": "stream",
     "text": [
      "Epoch = 10. Time index = 3. Threshold MC = 0.75. Threshold MD = 0.8\n",
      "RD = 333 NZ = 499 NZA = 605 pNZ = 0.056% pNZA = 0.067% AD = 66.73% ADA = 55.04% NO = 229 GSP = 51.97% NSP = 33.62%\n",
      "SI2 = -3.63 SI = -10.02 eGROI = 0.45% eROI = -6.83% eROI2 = -4.13% eROI3 = -6.42% mSpread = 0.0318%\n",
      "Getting extended results...\n"
     ]
    },
    {
     "name": "stderr",
     "output_type": "stream",
     "text": [
      "100%|██████████████████████████████████████████████████████████████████████████████| 161/161 [00:00<00:00, 1992.96it/s]\n"
     ]
    },
    {
     "name": "stdout",
     "output_type": "stream",
     "text": [
      "Epoch = 10. Time index = 3. Threshold MC = 0.75. Threshold MD = 0.85\n",
      "RD = 89 NZ = 132 NZA = 162 pNZ = 0.015% pNZA = 0.018% AD = 67.42% ADA = 54.94% NO = 68 GSP = 52.94% NSP = 30.88%\n",
      "SI2 = -2.91 SI = -5.66 eGROI = -0.21% eROI = -2.35% eROI2 = -1.57% eROI3 = -2.25% mSpread = 0.0314%\n",
      "Getting extended results...\n"
     ]
    },
    {
     "name": "stderr",
     "output_type": "stream",
     "text": [
      "100%|████████████████████████████████████████████████████████████████████████████████| 14/14 [00:00<00:00, 2342.25it/s]\n"
     ]
    },
    {
     "name": "stdout",
     "output_type": "stream",
     "text": [
      "Epoch = 10. Time index = 3. Threshold MC = 0.75. Threshold MD = 0.9\n",
      "RD = 11 NZ = 13 NZA = 15 pNZ = 0.001% pNZA = 0.002% AD = 84.62% ADA = 73.33% NO = 6 GSP = 66.67% NSP = 50.00%\n",
      "SI2 = 0.00 SI = -1.02 eGROI = 0.24% eROI = 0.09% eROI2 = 0.12% eROI3 = 0.06% mSpread = 0.0256%\n",
      "Getting extended results...\n"
     ]
    },
    {
     "name": "stderr",
     "output_type": "stream",
     "text": [
      "0it [00:00, ?it/s]\n"
     ]
    },
    {
     "name": "stdout",
     "output_type": "stream",
     "text": [
      "Epoch = 10. Time index = 3. Threshold MC = 0.75. Threshold MD = 0.95\n",
      "RD = 0 NZ = 0 NZA = 0 pNZ = 0.000% pNZA = 0.000% AD = 0.00% ADA = 0.00% NO = 1 GSP = 0.00% NSP = 0.00%\n",
      "SI2 = 0.00 SI = -1.00 eGROI = 0.00% eROI = 0.00% eROI2 = 0.00% eROI3 = 0.00% mSpread = 0.0000%\n",
      "\n",
      "Getting extended results...\n"
     ]
    },
    {
     "name": "stderr",
     "output_type": "stream",
     "text": [
      "0it [00:00, ?it/s]\n"
     ]
    },
    {
     "name": "stdout",
     "output_type": "stream",
     "text": [
      "Epoch = 10. Time index = 3. Threshold MC = 0.8. Threshold MD = 0.5\n",
      "RD = 277635 NZ = 535064 NZA = 644307 pNZ = 59.630% pNZA = 71.805% AD = 51.89% ADA = 43.09% NO = 1 GSP = 0.00% NSP = 0.00%\n",
      "SI2 = 0.00 SI = -1.00 eGROI = 0.00% eROI = 0.00% eROI2 = 0.00% eROI3 = 0.00% mSpread = 0.0000%\n",
      "Getting extended results...\n"
     ]
    },
    {
     "name": "stderr",
     "output_type": "stream",
     "text": [
      "0it [00:00, ?it/s]\n"
     ]
    },
    {
     "name": "stdout",
     "output_type": "stream",
     "text": [
      "Epoch = 10. Time index = 3. Threshold MC = 0.8. Threshold MD = 0.55\n",
      "RD = 56941 NZ = 104448 NZA = 125442 pNZ = 11.640% pNZA = 13.980% AD = 54.52% ADA = 45.39% NO = 1 GSP = 0.00% NSP = 0.00%\n",
      "SI2 = 0.00 SI = -1.00 eGROI = 0.00% eROI = 0.00% eROI2 = 0.00% eROI3 = 0.00% mSpread = 0.0000%\n",
      "Getting extended results...\n"
     ]
    },
    {
     "name": "stderr",
     "output_type": "stream",
     "text": [
      "100%|██████████████████████████████████████████████████████████████████████████| 22701/22701 [00:05<00:00, 4261.60it/s]\n"
     ]
    },
    {
     "name": "stdout",
     "output_type": "stream",
     "text": [
      "Epoch = 10. Time index = 3. Threshold MC = 0.8. Threshold MD = 0.6\n",
      "RD = 11013 NZ = 18904 NZA = 22702 pNZ = 2.107% pNZA = 2.530% AD = 58.26% ADA = 48.51% NO = 5395 GSP = 56.79% NSP = 43.48%\n",
      "SI2 = -3.61 SI = -41.50 eGROI = 68.56% eROI = -75.14% eROI2 = -39.34% eROI3 = -93.29% mSpread = 0.0266%\n",
      "Getting extended results...\n"
     ]
    },
    {
     "name": "stderr",
     "output_type": "stream",
     "text": [
      "100%|████████████████████████████████████████████████████████████████████████████| 6722/6722 [00:01<00:00, 4460.51it/s]\n"
     ]
    },
    {
     "name": "stdout",
     "output_type": "stream",
     "text": [
      "Epoch = 10. Time index = 3. Threshold MC = 0.8. Threshold MD = 0.65\n",
      "RD = 3515 NZ = 5610 NZA = 6723 pNZ = 0.625% pNZA = 0.749% AD = 62.66% ADA = 52.28% NO = 2137 GSP = 58.49% NSP = 42.26%\n",
      "SI2 = -1.97 SI = -26.68 eGROI = 42.82% eROI = -17.98% eROI2 = 0.08% eROI3 = -21.29% mSpread = 0.0284%\n",
      "Getting extended results...\n"
     ]
    },
    {
     "name": "stderr",
     "output_type": "stream",
     "text": [
      "100%|████████████████████████████████████████████████████████████████████████████| 2688/2688 [00:00<00:00, 4425.51it/s]\n"
     ]
    },
    {
     "name": "stdout",
     "output_type": "stream",
     "text": [
      "Epoch = 10. Time index = 3. Threshold MC = 0.8. Threshold MD = 0.7\n",
      "RD = 1447 NZ = 2258 NZA = 2689 pNZ = 0.252% pNZA = 0.300% AD = 64.08% ADA = 53.81% NO = 977 GSP = 57.01% NSP = 40.43%\n",
      "SI2 = -1.82 SI = -18.61 eGROI = 18.06% eROI = -10.75% eROI2 = -1.48% eROI3 = -11.25% mSpread = 0.0295%\n",
      "Getting extended results...\n"
     ]
    },
    {
     "name": "stderr",
     "output_type": "stream",
     "text": [
      "100%|████████████████████████████████████████████████████████████████████████████| 1148/1148 [00:00<00:00, 4185.07it/s]\n"
     ]
    },
    {
     "name": "stdout",
     "output_type": "stream",
     "text": [
      "Epoch = 10. Time index = 3. Threshold MC = 0.8. Threshold MD = 0.75\n",
      "RD = 640 NZ = 977 NZA = 1149 pNZ = 0.109% pNZA = 0.128% AD = 65.51% ADA = 55.70% NO = 432 GSP = 57.87% NSP = 42.59%\n",
      "SI2 = -0.38 SI = -11.91 eGROI = 8.71% eROI = -3.94% eROI2 = 0.07% eROI3 = -4.25% mSpread = 0.0293%\n",
      "Getting extended results...\n"
     ]
    },
    {
     "name": "stderr",
     "output_type": "stream",
     "text": [
      "100%|██████████████████████████████████████████████████████████████████████████████| 437/437 [00:00<00:00, 3947.41it/s]\n"
     ]
    },
    {
     "name": "stdout",
     "output_type": "stream",
     "text": [
      "Epoch = 10. Time index = 3. Threshold MC = 0.8. Threshold MD = 0.8\n",
      "RD = 244 NZ = 376 NZA = 438 pNZ = 0.042% pNZA = 0.049% AD = 64.89% ADA = 55.71% NO = 169 GSP = 50.30% NSP = 33.14%\n",
      "SI2 = -3.46 SI = -8.67 eGROI = 0.24% eROI = -5.05% eROI2 = -3.14% eROI3 = -4.83% mSpread = 0.0313%\n",
      "Getting extended results...\n"
     ]
    },
    {
     "name": "stderr",
     "output_type": "stream",
     "text": [
      "100%|██████████████████████████████████████████████████████████████████████████████| 137/137 [00:00<00:00, 4039.65it/s]\n"
     ]
    },
    {
     "name": "stdout",
     "output_type": "stream",
     "text": [
      "Epoch = 10. Time index = 3. Threshold MC = 0.8. Threshold MD = 0.85\n",
      "RD = 77 NZ = 116 NZA = 138 pNZ = 0.013% pNZA = 0.015% AD = 66.38% ADA = 55.80% NO = 57 GSP = 47.37% NSP = 28.07%\n",
      "SI2 = -3.31 SI = -5.39 eGROI = -0.21% eROI = -2.06% eROI2 = -1.35% eROI3 = -1.92% mSpread = 0.0326%\n",
      "Getting extended results...\n"
     ]
    },
    {
     "name": "stderr",
     "output_type": "stream",
     "text": [
      "100%|████████████████████████████████████████████████████████████████████████████████| 12/12 [00:00<00:00, 1719.04it/s]\n"
     ]
    },
    {
     "name": "stdout",
     "output_type": "stream",
     "text": [
      "Epoch = 10. Time index = 3. Threshold MC = 0.8. Threshold MD = 0.9\n",
      "RD = 11 NZ = 13 NZA = 13 pNZ = 0.001% pNZA = 0.001% AD = 84.62% ADA = 84.62% NO = 4 GSP = 75.00% NSP = 75.00%\n",
      "SI2 = 1.00 SI = -0.12 eGROI = 0.27% eROI = 0.17% eROI2 = 0.19% eROI3 = 0.15% mSpread = 0.0231%\n",
      "Getting extended results...\n"
     ]
    },
    {
     "name": "stderr",
     "output_type": "stream",
     "text": [
      "0it [00:00, ?it/s]\n"
     ]
    },
    {
     "name": "stdout",
     "output_type": "stream",
     "text": [
      "Epoch = 10. Time index = 3. Threshold MC = 0.8. Threshold MD = 0.95\n",
      "RD = 0 NZ = 0 NZA = 0 pNZ = 0.000% pNZA = 0.000% AD = 0.00% ADA = 0.00% NO = 1 GSP = 0.00% NSP = 0.00%\n",
      "SI2 = 0.00 SI = -1.00 eGROI = 0.00% eROI = 0.00% eROI2 = 0.00% eROI3 = 0.00% mSpread = 0.0000%\n",
      "\n",
      "Getting extended results...\n"
     ]
    },
    {
     "name": "stderr",
     "output_type": "stream",
     "text": [
      "0it [00:00, ?it/s]\n"
     ]
    },
    {
     "name": "stdout",
     "output_type": "stream",
     "text": [
      "Epoch = 10. Time index = 3. Threshold MC = 0.85. Threshold MD = 0.5\n",
      "RD = 98542 NZ = 189821 NZA = 220682 pNZ = 21.155% pNZA = 24.594% AD = 51.91% ADA = 44.65% NO = 1 GSP = 0.00% NSP = 0.00%\n",
      "SI2 = 0.00 SI = -1.00 eGROI = 0.00% eROI = 0.00% eROI2 = 0.00% eROI3 = 0.00% mSpread = 0.0000%\n",
      "Getting extended results...\n"
     ]
    },
    {
     "name": "stderr",
     "output_type": "stream",
     "text": [
      "100%|██████████████████████████████████████████████████████████████████████████| 57815/57815 [00:12<00:00, 4577.76it/s]\n"
     ]
    },
    {
     "name": "stdout",
     "output_type": "stream",
     "text": [
      "Epoch = 10. Time index = 3. Threshold MC = 0.85. Threshold MD = 0.55\n",
      "RD = 27102 NZ = 49921 NZA = 57816 pNZ = 5.563% pNZA = 6.443% AD = 54.29% ADA = 46.88% NO = 9794 GSP = 55.29% NSP = 45.09%\n",
      "SI2 = -5.52 SI = -54.34 eGROI = 68.18% eROI = -171.26% eROI2 = -127.70% eROI3 = -225.64% mSpread = 0.0244%\n",
      "Getting extended results...\n"
     ]
    },
    {
     "name": "stderr",
     "output_type": "stream",
     "text": [
      "100%|██████████████████████████████████████████████████████████████████████████| 11100/11100 [00:02<00:00, 4527.85it/s]\n"
     ]
    },
    {
     "name": "stdout",
     "output_type": "stream",
     "text": [
      "Epoch = 10. Time index = 3. Threshold MC = 0.85. Threshold MD = 0.6\n",
      "RD = 5662 NZ = 9713 NZA = 11101 pNZ = 1.082% pNZA = 1.237% AD = 58.29% ADA = 51.00% NO = 2938 GSP = 57.15% NSP = 46.32%\n",
      "SI2 = -0.59 SI = -29.09 eGROI = 50.49% eROI = -26.65% eROI2 = -8.27% eROI3 = -37.65% mSpread = 0.0263%\n",
      "Getting extended results...\n"
     ]
    },
    {
     "name": "stderr",
     "output_type": "stream",
     "text": [
      "100%|████████████████████████████████████████████████████████████████████████████| 3357/3357 [00:00<00:00, 4337.34it/s]\n"
     ]
    },
    {
     "name": "stdout",
     "output_type": "stream",
     "text": [
      "Epoch = 10. Time index = 3. Threshold MC = 0.85. Threshold MD = 0.65\n",
      "RD = 1843 NZ = 2947 NZA = 3358 pNZ = 0.328% pNZA = 0.374% AD = 62.54% ADA = 54.88% NO = 1085 GSP = 62.12% NSP = 49.12%\n",
      "SI2 = 2.58 SI = -16.74 eGROI = 36.25% eROI = 6.72% eROI2 = 14.55% eROI3 = 3.70% mSpread = 0.0272%\n",
      "Getting extended results...\n"
     ]
    },
    {
     "name": "stderr",
     "output_type": "stream",
     "text": [
      "100%|████████████████████████████████████████████████████████████████████████████| 1389/1389 [00:00<00:00, 4156.83it/s]\n"
     ]
    },
    {
     "name": "stdout",
     "output_type": "stream",
     "text": [
      "Epoch = 10. Time index = 3. Threshold MC = 0.85. Threshold MD = 0.7\n",
      "RD = 750 NZ = 1217 NZA = 1390 pNZ = 0.136% pNZA = 0.155% AD = 61.63% ADA = 53.96% NO = 502 GSP = 58.37% NSP = 47.01%\n",
      "SI2 = 0.54 SI = -11.85 eGROI = 12.58% eROI = -1.32% eROI2 = 2.54% eROI3 = -2.48% mSpread = 0.0277%\n",
      "Getting extended results...\n"
     ]
    },
    {
     "name": "stderr",
     "output_type": "stream",
     "text": [
      "100%|██████████████████████████████████████████████████████████████████████████████| 614/614 [00:00<00:00, 3537.47it/s]\n"
     ]
    },
    {
     "name": "stdout",
     "output_type": "stream",
     "text": [
      "Epoch = 10. Time index = 3. Threshold MC = 0.85. Threshold MD = 0.75\n",
      "RD = 336 NZ = 535 NZA = 615 pNZ = 0.060% pNZA = 0.069% AD = 62.80% ADA = 54.63% NO = 249 GSP = 58.23% NSP = 46.18%\n",
      "SI2 = 0.19 SI = -8.46 eGROI = 6.11% eROI = -0.82% eROI2 = 1.13% eROI3 = -1.36% mSpread = 0.0278%\n",
      "Getting extended results...\n"
     ]
    },
    {
     "name": "stderr",
     "output_type": "stream",
     "text": [
      "100%|██████████████████████████████████████████████████████████████████████████████| 225/225 [00:00<00:00, 3418.15it/s]\n"
     ]
    },
    {
     "name": "stdout",
     "output_type": "stream",
     "text": [
      "Epoch = 10. Time index = 3. Threshold MC = 0.85. Threshold MD = 0.8\n",
      "RD = 115 NZ = 196 NZA = 226 pNZ = 0.022% pNZA = 0.025% AD = 58.67% ADA = 50.88% NO = 95 GSP = 46.32% NSP = 34.74%\n",
      "SI2 = -1.95 SI = -6.33 eGROI = -0.61% eROI = -3.58% eROI2 = -2.51% eROI3 = -3.46% mSpread = 0.0312%\n",
      "Getting extended results...\n"
     ]
    },
    {
     "name": "stderr",
     "output_type": "stream",
     "text": [
      "100%|████████████████████████████████████████████████████████████████████████████████| 76/76 [00:00<00:00, 2540.00it/s]\n"
     ]
    },
    {
     "name": "stdout",
     "output_type": "stream",
     "text": [
      "Epoch = 10. Time index = 3. Threshold MC = 0.85. Threshold MD = 0.85\n",
      "RD = 39 NZ = 65 NZA = 77 pNZ = 0.007% pNZA = 0.009% AD = 60.00% ADA = 50.65% NO = 35 GSP = 42.86% NSP = 25.71%\n",
      "SI2 = -3.21 SI = -4.35 eGROI = -0.41% eROI = -1.51% eROI2 = -1.11% eROI3 = -1.46% mSpread = 0.0315%\n",
      "Getting extended results...\n"
     ]
    },
    {
     "name": "stderr",
     "output_type": "stream",
     "text": [
      "100%|██████████████████████████████████████████████████████████████████████████████████| 8/8 [00:00<00:00, 1604.40it/s]\n"
     ]
    },
    {
     "name": "stdout",
     "output_type": "stream",
     "text": [
      "Epoch = 10. Time index = 3. Threshold MC = 0.85. Threshold MD = 0.9\n",
      "RD = 7 NZ = 9 NZA = 9 pNZ = 0.001% pNZA = 0.001% AD = 77.78% ADA = 77.78% NO = 4 GSP = 75.00% NSP = 75.00%\n",
      "SI2 = 1.00 SI = -0.12 eGROI = 0.25% eROI = 0.15% eROI2 = 0.17% eROI3 = 0.13% mSpread = 0.0229%\n",
      "Getting extended results...\n"
     ]
    },
    {
     "name": "stderr",
     "output_type": "stream",
     "text": [
      "0it [00:00, ?it/s]\n"
     ]
    },
    {
     "name": "stdout",
     "output_type": "stream",
     "text": [
      "Epoch = 10. Time index = 3. Threshold MC = 0.85. Threshold MD = 0.95\n",
      "RD = 0 NZ = 0 NZA = 0 pNZ = 0.000% pNZA = 0.000% AD = 0.00% ADA = 0.00% NO = 1 GSP = 0.00% NSP = 0.00%\n",
      "SI2 = 0.00 SI = -1.00 eGROI = 0.00% eROI = 0.00% eROI2 = 0.00% eROI3 = 0.00% mSpread = 0.0000%\n",
      "\n",
      "Getting extended results...\n"
     ]
    },
    {
     "name": "stderr",
     "output_type": "stream",
     "text": [
      "100%|██████████████████████████████████████████████████████████████████████████| 14308/14308 [00:02<00:00, 5081.79it/s]\n"
     ]
    },
    {
     "name": "stdout",
     "output_type": "stream",
     "text": [
      "Epoch = 10. Time index = 3. Threshold MC = 0.9. Threshold MD = 0.5\n",
      "RD = 7106 NZ = 12977 NZA = 14309 pNZ = 1.446% pNZA = 1.595% AD = 54.76% ADA = 49.66% NO = 1605 GSP = 54.89% NSP = 47.10%\n",
      "SI2 = -0.87 SI = -21.18 eGROI = 13.20% eROI = -25.40% eROI2 = -18.90% eROI3 = -34.95% mSpread = 0.0241%\n",
      "Getting extended results...\n"
     ]
    },
    {
     "name": "stderr",
     "output_type": "stream",
     "text": [
      "100%|████████████████████████████████████████████████████████████████████████████| 7726/7726 [00:01<00:00, 4477.74it/s]\n"
     ]
    },
    {
     "name": "stdout",
     "output_type": "stream",
     "text": [
      "Epoch = 10. Time index = 3. Threshold MC = 0.9. Threshold MD = 0.55\n",
      "RD = 3957 NZ = 7001 NZA = 7727 pNZ = 0.780% pNZA = 0.861% AD = 56.52% ADA = 51.21% NO = 1291 GSP = 58.17% NSP = 50.50%\n",
      "SI2 = 1.86 SI = -17.77 eGROI = 27.20% eROI = -3.75% eROI2 = 1.38% eROI3 = -11.53% mSpread = 0.0240%\n",
      "Getting extended results...\n"
     ]
    },
    {
     "name": "stderr",
     "output_type": "stream",
     "text": [
      "100%|████████████████████████████████████████████████████████████████████████████| 3504/3504 [00:00<00:00, 4177.35it/s]\n"
     ]
    },
    {
     "name": "stdout",
     "output_type": "stream",
     "text": [
      "Epoch = 10. Time index = 3. Threshold MC = 0.9. Threshold MD = 0.6\n",
      "RD = 1904 NZ = 3185 NZA = 3505 pNZ = 0.355% pNZA = 0.391% AD = 59.78% ADA = 54.32% NO = 819 GSP = 62.15% NSP = 54.82%\n",
      "SI2 = 4.02 SI = -12.91 eGROI = 30.92% eROI = 10.81% eROI2 = 14.54% eROI3 = 6.35% mSpread = 0.0246%\n",
      "Getting extended results...\n"
     ]
    },
    {
     "name": "stderr",
     "output_type": "stream",
     "text": [
      "100%|████████████████████████████████████████████████████████████████████████████| 1402/1402 [00:00<00:00, 4462.66it/s]\n"
     ]
    },
    {
     "name": "stdout",
     "output_type": "stream",
     "text": [
      "Epoch = 10. Time index = 3. Threshold MC = 0.9. Threshold MD = 0.65\n",
      "RD = 808 NZ = 1286 NZA = 1403 pNZ = 0.143% pNZA = 0.156% AD = 62.83% ADA = 57.59% NO = 392 GSP = 65.31% NSP = 56.12%\n",
      "SI2 = 3.64 SI = -8.66 eGROI = 21.33% eROI = 11.66% eROI2 = 13.49% eROI3 = 9.57% mSpread = 0.0247%\n",
      "Getting extended results...\n"
     ]
    },
    {
     "name": "stderr",
     "output_type": "stream",
     "text": [
      "100%|██████████████████████████████████████████████████████████████████████████████| 614/614 [00:00<00:00, 3664.40it/s]\n"
     ]
    },
    {
     "name": "stdout",
     "output_type": "stream",
     "text": [
      "Epoch = 10. Time index = 3. Threshold MC = 0.9. Threshold MD = 0.7\n",
      "RD = 346 NZ = 568 NZA = 615 pNZ = 0.063% pNZA = 0.069% AD = 60.92% ADA = 56.26% NO = 197 GSP = 59.39% NSP = 53.30%\n",
      "SI2 = 1.64 SI = -6.52 eGROI = 7.77% eROI = 2.82% eROI2 = 3.83% eROI3 = 1.86% mSpread = 0.0251%\n",
      "Getting extended results...\n"
     ]
    },
    {
     "name": "stderr",
     "output_type": "stream",
     "text": [
      "100%|██████████████████████████████████████████████████████████████████████████████| 259/259 [00:00<00:00, 2984.88it/s]\n"
     ]
    },
    {
     "name": "stdout",
     "output_type": "stream",
     "text": [
      "Epoch = 10. Time index = 3. Threshold MC = 0.9. Threshold MD = 0.75\n",
      "RD = 151 NZ = 237 NZA = 260 pNZ = 0.026% pNZA = 0.029% AD = 63.71% ADA = 58.08% NO = 114 GSP = 60.53% NSP = 53.51%\n",
      "SI2 = 1.31 SI = -4.91 eGROI = 4.60% eROI = 1.82% eROI2 = 2.32% eROI3 = 1.18% mSpread = 0.0243%\n",
      "Getting extended results...\n"
     ]
    },
    {
     "name": "stderr",
     "output_type": "stream",
     "text": [
      "100%|████████████████████████████████████████████████████████████████████████████████| 54/54 [00:00<00:00, 2460.96it/s]\n"
     ]
    },
    {
     "name": "stdout",
     "output_type": "stream",
     "text": [
      "Epoch = 10. Time index = 3. Threshold MC = 0.9. Threshold MD = 0.8\n",
      "RD = 28 NZ = 49 NZA = 55 pNZ = 0.005% pNZA = 0.006% AD = 57.14% ADA = 50.91% NO = 33 GSP = 45.45% NSP = 36.36%\n",
      "SI2 = -1.57 SI = -3.59 eGROI = -0.65% eROI = -1.60% eROI2 = -1.31% eROI3 = -1.64% mSpread = 0.0290%\n",
      "Getting extended results...\n"
     ]
    },
    {
     "name": "stderr",
     "output_type": "stream",
     "text": [
      "100%|██████████████████████████████████████████████████████████████████████████████████| 9/9 [00:00<00:00, 2256.89it/s]\n"
     ]
    },
    {
     "name": "stdout",
     "output_type": "stream",
     "text": [
      "Epoch = 10. Time index = 3. Threshold MC = 0.9. Threshold MD = 0.85\n",
      "RD = 6 NZ = 8 NZA = 10 pNZ = 0.001% pNZA = 0.001% AD = 75.00% ADA = 60.00% NO = 4 GSP = 50.00% NSP = 25.00%\n",
      "SI2 = -1.00 SI = -1.38 eGROI = -0.06% eROI = -0.18% eROI2 = -0.14% eROI3 = -0.18% mSpread = 0.0294%\n",
      "Getting extended results...\n"
     ]
    },
    {
     "name": "stderr",
     "output_type": "stream",
     "text": [
      "100%|██████████████████████████████████████████████████████████████████████████████████| 1/1 [00:00<00:00, 1011.65it/s]\n"
     ]
    },
    {
     "name": "stdout",
     "output_type": "stream",
     "text": [
      "Epoch = 10. Time index = 3. Threshold MC = 0.9. Threshold MD = 0.9\n",
      "RD = 2 NZ = 2 NZA = 2 pNZ = 0.000% pNZA = 0.000% AD = 100.00% ADA = 100.00% NO = 1 GSP = 0.00% NSP = 0.00%\n",
      "SI2 = -1.00 SI = -1.00 eGROI = -0.00% eROI = -0.03% eROI2 = -0.02% eROI3 = -0.03% mSpread = 0.0237%\n",
      "Getting extended results...\n"
     ]
    },
    {
     "name": "stderr",
     "output_type": "stream",
     "text": [
      "0it [00:00, ?it/s]\n"
     ]
    },
    {
     "name": "stdout",
     "output_type": "stream",
     "text": [
      "Epoch = 10. Time index = 3. Threshold MC = 0.9. Threshold MD = 0.95\n",
      "RD = 0 NZ = 0 NZA = 0 pNZ = 0.000% pNZA = 0.000% AD = 0.00% ADA = 0.00% NO = 1 GSP = 0.00% NSP = 0.00%\n",
      "SI2 = 0.00 SI = -1.00 eGROI = 0.00% eROI = 0.00% eROI2 = 0.00% eROI3 = 0.00% mSpread = 0.0000%\n",
      "\n",
      "Getting extended results...\n"
     ]
    },
    {
     "name": "stderr",
     "output_type": "stream",
     "text": [
      "100%|██████████████████████████████████████████████████████████████████████████████| 103/103 [00:00<00:00, 2294.94it/s]\n"
     ]
    },
    {
     "name": "stdout",
     "output_type": "stream",
     "text": [
      "Epoch = 10. Time index = 3. Threshold MC = 0.95. Threshold MD = 0.5\n",
      "RD = 52 NZ = 95 NZA = 104 pNZ = 0.011% pNZA = 0.012% AD = 54.74% ADA = 50.00% NO = 32 GSP = 56.25% NSP = 56.25%\n",
      "SI2 = 0.35 SI = -2.38 eGROI = 0.60% eROI = -0.18% eROI2 = -0.04% eROI3 = -0.36% mSpread = 0.0243%\n",
      "Getting extended results...\n"
     ]
    },
    {
     "name": "stderr",
     "output_type": "stream",
     "text": [
      "100%|████████████████████████████████████████████████████████████████████████████████| 69/69 [00:00<00:00, 3843.49it/s]\n"
     ]
    },
    {
     "name": "stdout",
     "output_type": "stream",
     "text": [
      "Epoch = 10. Time index = 3. Threshold MC = 0.95. Threshold MD = 0.55\n",
      "RD = 33 NZ = 63 NZA = 70 pNZ = 0.007% pNZA = 0.008% AD = 52.38% ADA = 47.14% NO = 30 GSP = 56.67% NSP = 56.67%\n",
      "SI2 = 0.37 SI = -2.27 eGROI = 0.90% eROI = 0.19% eROI2 = 0.30% eROI3 = 0.00% mSpread = 0.0239%\n",
      "Getting extended results...\n"
     ]
    },
    {
     "name": "stderr",
     "output_type": "stream",
     "text": [
      "100%|████████████████████████████████████████████████████████████████████████████████| 47/47 [00:00<00:00, 2243.89it/s]\n"
     ]
    },
    {
     "name": "stdout",
     "output_type": "stream",
     "text": [
      "Epoch = 10. Time index = 3. Threshold MC = 0.95. Threshold MD = 0.6\n",
      "RD = 22 NZ = 42 NZA = 48 pNZ = 0.005% pNZA = 0.005% AD = 52.38% ADA = 45.83% NO = 23 GSP = 52.17% NSP = 52.17%\n",
      "SI2 = -0.21 SI = -2.18 eGROI = 0.23% eROI = -0.31% eROI2 = -0.23% eROI3 = -0.46% mSpread = 0.0235%\n",
      "Getting extended results...\n"
     ]
    },
    {
     "name": "stderr",
     "output_type": "stream",
     "text": [
      "100%|████████████████████████████████████████████████████████████████████████████████| 23/23 [00:00<00:00, 2882.60it/s]\n"
     ]
    },
    {
     "name": "stdout",
     "output_type": "stream",
     "text": [
      "Epoch = 10. Time index = 3. Threshold MC = 0.95. Threshold MD = 0.65\n",
      "RD = 9 NZ = 20 NZA = 24 pNZ = 0.002% pNZA = 0.003% AD = 45.00% ADA = 37.50% NO = 15 GSP = 53.33% NSP = 53.33%\n",
      "SI2 = -0.26 SI = -1.67 eGROI = 0.29% eROI = -0.08% eROI2 = -0.01% eROI3 = -0.16% mSpread = 0.0246%\n",
      "Getting extended results...\n"
     ]
    },
    {
     "name": "stderr",
     "output_type": "stream",
     "text": [
      "100%|████████████████████████████████████████████████████████████████████████████████| 15/15 [00:00<00:00, 1504.16it/s]\n"
     ]
    },
    {
     "name": "stdout",
     "output_type": "stream",
     "text": [
      "Epoch = 10. Time index = 3. Threshold MC = 0.95. Threshold MD = 0.7\n",
      "RD = 6 NZ = 13 NZA = 16 pNZ = 0.001% pNZA = 0.002% AD = 46.15% ADA = 37.50% NO = 11 GSP = 45.45% NSP = 45.45%\n",
      "SI2 = -0.90 SI = -1.67 eGROI = -0.13% eROI = -0.41% eROI2 = -0.35% eROI3 = -0.46% mSpread = 0.0249%\n",
      "Getting extended results...\n"
     ]
    },
    {
     "name": "stderr",
     "output_type": "stream",
     "text": [
      "100%|██████████████████████████████████████████████████████████████████████████████████| 8/8 [00:00<00:00, 1601.64it/s]\n"
     ]
    },
    {
     "name": "stdout",
     "output_type": "stream",
     "text": [
      "Epoch = 10. Time index = 3. Threshold MC = 0.95. Threshold MD = 0.75\n",
      "RD = 4 NZ = 6 NZA = 9 pNZ = 0.001% pNZA = 0.001% AD = 66.67% ADA = 44.44% NO = 7 GSP = 57.14% NSP = 42.86%\n",
      "SI2 = -0.38 SI = -1.35 eGROI = 0.07% eROI = -0.12% eROI2 = -0.07% eROI3 = -0.14% mSpread = 0.0275%\n",
      "Getting extended results...\n"
     ]
    },
    {
     "name": "stderr",
     "output_type": "stream",
     "text": [
      "100%|███████████████████████████████████████████████████████████████████████████████████| 1/1 [00:00<00:00, 513.57it/s]\n"
     ]
    },
    {
     "name": "stdout",
     "output_type": "stream",
     "text": [
      "Epoch = 10. Time index = 3. Threshold MC = 0.95. Threshold MD = 0.8\n",
      "RD = 1 NZ = 1 NZA = 2 pNZ = 0.000% pNZA = 0.000% AD = 100.00% ADA = 50.00% NO = 2 GSP = 50.00% NSP = 50.00%\n",
      "SI2 = 0.00 SI = -0.35 eGROI = 0.03% eROI = -0.05% eROI2 = -0.01% eROI3 = -0.03% mSpread = 0.0394%\n",
      "Getting extended results...\n"
     ]
    },
    {
     "name": "stderr",
     "output_type": "stream",
     "text": [
      "0it [00:00, ?it/s]\n"
     ]
    },
    {
     "name": "stdout",
     "output_type": "stream",
     "text": [
      "Epoch = 10. Time index = 3. Threshold MC = 0.95. Threshold MD = 0.85\n",
      "RD = 0 NZ = 0 NZA = 0 pNZ = 0.000% pNZA = 0.000% AD = 0.00% ADA = 0.00% NO = 1 GSP = 0.00% NSP = 0.00%\n",
      "SI2 = 0.00 SI = -1.00 eGROI = 0.00% eROI = 0.00% eROI2 = 0.00% eROI3 = 0.00% mSpread = 0.0000%\n",
      "Getting extended results...\n"
     ]
    },
    {
     "name": "stderr",
     "output_type": "stream",
     "text": [
      "0it [00:00, ?it/s]\n"
     ]
    },
    {
     "name": "stdout",
     "output_type": "stream",
     "text": [
      "Epoch = 10. Time index = 3. Threshold MC = 0.95. Threshold MD = 0.9\n",
      "RD = 0 NZ = 0 NZA = 0 pNZ = 0.000% pNZA = 0.000% AD = 0.00% ADA = 0.00% NO = 1 GSP = 0.00% NSP = 0.00%\n",
      "SI2 = 0.00 SI = -1.00 eGROI = 0.00% eROI = 0.00% eROI2 = 0.00% eROI3 = 0.00% mSpread = 0.0000%\n",
      "Getting extended results...\n"
     ]
    },
    {
     "name": "stderr",
     "output_type": "stream",
     "text": [
      "0it [00:00, ?it/s]\n"
     ]
    },
    {
     "name": "stdout",
     "output_type": "stream",
     "text": [
      "Epoch = 10. Time index = 3. Threshold MC = 0.95. Threshold MD = 0.95\n",
      "RD = 0 NZ = 0 NZA = 0 pNZ = 0.000% pNZA = 0.000% AD = 0.00% ADA = 0.00% NO = 1 GSP = 0.00% NSP = 0.00%\n",
      "SI2 = 0.00 SI = -1.00 eGROI = 0.00% eROI = 0.00% eROI2 = 0.00% eROI3 = 0.00% mSpread = 0.0000%\n",
      "\n",
      "Getting extended results...\n"
     ]
    },
    {
     "name": "stderr",
     "output_type": "stream",
     "text": [
      "0it [00:00, ?it/s]\n"
     ]
    },
    {
     "name": "stdout",
     "output_type": "stream",
     "text": [
      "Epoch = 10. Time index = mean. Threshold MC = 0.5. Threshold MD = 0.5\n",
      "J_test = 6.240390109635269, J_train = 4.741746073306845, Accuracy=0.8014403097267713\n",
      "RD = 374581 NZ = 719117 NZA = 897257 pNZ = 80.142% pNZA = 99.994% AD = 52.09% ADA = 41.75% NO = 1 GSP = 0.00% NSP = 0.00%\n",
      "SI2 = 0.00 SI = -1.00 eGROI = 0.00% eROI = 0.00% eROI2 = 0.00% eROI3 = 0.00% mSpread = 0.0000%\n",
      "Getting extended results...\n"
     ]
    },
    {
     "name": "stderr",
     "output_type": "stream",
     "text": [
      "0it [00:00, ?it/s]\n"
     ]
    },
    {
     "name": "stdout",
     "output_type": "stream",
     "text": [
      "Epoch = 10. Time index = mean. Threshold MC = 0.5. Threshold MD = 0.55\n",
      "RD = 73673 NZ = 133508 NZA = 171540 pNZ = 14.879% pNZA = 19.117% AD = 55.18% ADA = 42.95% NO = 1 GSP = 0.00% NSP = 0.00%\n",
      "SI2 = 0.00 SI = -1.00 eGROI = 0.00% eROI = 0.00% eROI2 = 0.00% eROI3 = 0.00% mSpread = 0.0000%\n",
      "Getting extended results...\n"
     ]
    },
    {
     "name": "stderr",
     "output_type": "stream",
     "text": [
      "100%|██████████████████████████████████████████████████████████████████████████| 33507/33507 [00:07<00:00, 4472.89it/s]\n"
     ]
    },
    {
     "name": "stdout",
     "output_type": "stream",
     "text": [
      "Epoch = 10. Time index = mean. Threshold MC = 0.5. Threshold MD = 0.6\n",
      "RD = 15207 NZ = 25337 NZA = 33508 pNZ = 2.824% pNZA = 3.734% AD = 60.02% ADA = 45.38% NO = 5942 GSP = 56.63% NSP = 41.97%\n",
      "SI2 = -6.02 SI = -44.72 eGROI = 62.68% eROI = -97.83% eROI2 = -56.16% eROI3 = -115.58% mSpread = 0.0270%\n",
      "Getting extended results...\n"
     ]
    },
    {
     "name": "stderr",
     "output_type": "stream",
     "text": [
      "100%|████████████████████████████████████████████████████████████████████████████| 9037/9037 [00:02<00:00, 4019.89it/s]\n"
     ]
    },
    {
     "name": "stdout",
     "output_type": "stream",
     "text": [
      "Epoch = 10. Time index = mean. Threshold MC = 0.5. Threshold MD = 0.65\n",
      "RD = 4431 NZ = 6843 NZA = 9038 pNZ = 0.763% pNZA = 1.007% AD = 64.75% ADA = 49.03% NO = 2589 GSP = 58.79% NSP = 40.63%\n",
      "SI2 = -3.71 SI = -30.20 eGROI = 39.01% eROI = -36.81% eROI2 = -12.77% eROI3 = -38.66% mSpread = 0.0293%\n",
      "Getting extended results...\n"
     ]
    },
    {
     "name": "stderr",
     "output_type": "stream",
     "text": [
      "100%|████████████████████████████████████████████████████████████████████████████| 2498/2498 [00:00<00:00, 3907.38it/s]\n"
     ]
    },
    {
     "name": "stdout",
     "output_type": "stream",
     "text": [
      "Epoch = 10. Time index = mean. Threshold MC = 0.5. Threshold MD = 0.7\n",
      "RD = 1321 NZ = 1924 NZA = 2499 pNZ = 0.214% pNZA = 0.279% AD = 68.66% ADA = 52.86% NO = 1093 GSP = 58.65% NSP = 38.15%\n",
      "SI2 = -3.72 SI = -20.44 eGROI = 11.53% eROI = -21.77% eROI2 = -10.33% eROI3 = -21.26% mSpread = 0.0305%\n",
      "Getting extended results...\n"
     ]
    },
    {
     "name": "stderr",
     "output_type": "stream",
     "text": [
      "100%|██████████████████████████████████████████████████████████████████████████████| 422/422 [00:00<00:00, 3254.47it/s]\n"
     ]
    },
    {
     "name": "stdout",
     "output_type": "stream",
     "text": [
      "Epoch = 10. Time index = mean. Threshold MC = 0.5. Threshold MD = 0.75\n",
      "RD = 253 NZ = 358 NZA = 423 pNZ = 0.040% pNZA = 0.047% AD = 70.67% ADA = 59.81% NO = 237 GSP = 56.12% NSP = 40.51%\n",
      "SI2 = -1.23 SI = -9.13 eGROI = 1.93% eROI = -5.92% eROI2 = -2.81% eROI3 = -5.18% mSpread = 0.0331%\n",
      "Getting extended results...\n"
     ]
    },
    {
     "name": "stderr",
     "output_type": "stream",
     "text": [
      "100%|████████████████████████████████████████████████████████████████████████████████| 51/51 [00:00<00:00, 2324.60it/s]\n"
     ]
    },
    {
     "name": "stdout",
     "output_type": "stream",
     "text": [
      "Epoch = 10. Time index = mean. Threshold MC = 0.5. Threshold MD = 0.8\n",
      "RD = 32 NZ = 44 NZA = 52 pNZ = 0.005% pNZA = 0.006% AD = 72.73% ADA = 61.54% NO = 32 GSP = 43.75% NSP = 28.12%\n",
      "SI2 = -1.41 SI = -4.02 eGROI = 0.14% eROI = -1.10% eROI2 = -0.50% eROI3 = -0.82% mSpread = 0.0389%\n",
      "Getting extended results...\n"
     ]
    },
    {
     "name": "stderr",
     "output_type": "stream",
     "text": [
      "100%|███████████████████████████████████████████████████████████████████████████████████| 1/1 [00:00<00:00, 994.15it/s]\n"
     ]
    },
    {
     "name": "stdout",
     "output_type": "stream",
     "text": [
      "Epoch = 10. Time index = mean. Threshold MC = 0.5. Threshold MD = 0.85\n",
      "RD = 0 NZ = 2 NZA = 2 pNZ = 0.000% pNZA = 0.000% AD = 0.00% ADA = 0.00% NO = 2 GSP = 0.00% NSP = 0.00%\n",
      "SI2 = -1.41 SI = -1.41 eGROI = -0.14% eROI = -0.23% eROI2 = -0.18% eROI3 = -0.20% mSpread = 0.0487%\n",
      "Getting extended results...\n"
     ]
    },
    {
     "name": "stderr",
     "output_type": "stream",
     "text": [
      "0it [00:00, ?it/s]\n"
     ]
    },
    {
     "name": "stdout",
     "output_type": "stream",
     "text": [
      "Epoch = 10. Time index = mean. Threshold MC = 0.5. Threshold MD = 0.9\n",
      "RD = 0 NZ = 0 NZA = 0 pNZ = 0.000% pNZA = 0.000% AD = 0.00% ADA = 0.00% NO = 1 GSP = 0.00% NSP = 0.00%\n",
      "SI2 = 0.00 SI = -1.00 eGROI = 0.00% eROI = 0.00% eROI2 = 0.00% eROI3 = 0.00% mSpread = 0.0000%\n",
      "Getting extended results...\n"
     ]
    },
    {
     "name": "stderr",
     "output_type": "stream",
     "text": [
      "0it [00:00, ?it/s]\n"
     ]
    },
    {
     "name": "stdout",
     "output_type": "stream",
     "text": [
      "Epoch = 10. Time index = mean. Threshold MC = 0.5. Threshold MD = 0.95\n",
      "RD = 0 NZ = 0 NZA = 0 pNZ = 0.000% pNZA = 0.000% AD = 0.00% ADA = 0.00% NO = 1 GSP = 0.00% NSP = 0.00%\n",
      "SI2 = 0.00 SI = -1.00 eGROI = 0.00% eROI = 0.00% eROI2 = 0.00% eROI3 = 0.00% mSpread = 0.0000%\n",
      "\n",
      "Getting extended results...\n"
     ]
    },
    {
     "name": "stderr",
     "output_type": "stream",
     "text": [
      "0it [00:00, ?it/s]\n"
     ]
    },
    {
     "name": "stdout",
     "output_type": "stream",
     "text": [
      "Epoch = 10. Time index = mean. Threshold MC = 0.55. Threshold MD = 0.5\n",
      "RD = 374465 NZ = 718897 NZA = 896869 pNZ = 80.117% pNZA = 99.951% AD = 52.09% ADA = 41.75% NO = 1 GSP = 0.00% NSP = 0.00%\n",
      "SI2 = 0.00 SI = -1.00 eGROI = 0.00% eROI = 0.00% eROI2 = 0.00% eROI3 = 0.00% mSpread = 0.0000%\n",
      "Getting extended results...\n"
     ]
    },
    {
     "name": "stderr",
     "output_type": "stream",
     "text": [
      "0it [00:00, ?it/s]\n"
     ]
    },
    {
     "name": "stdout",
     "output_type": "stream",
     "text": [
      "Epoch = 10. Time index = mean. Threshold MC = 0.55. Threshold MD = 0.55\n",
      "RD = 73593 NZ = 133360 NZA = 171273 pNZ = 14.862% pNZA = 19.087% AD = 55.18% ADA = 42.97% NO = 1 GSP = 0.00% NSP = 0.00%\n",
      "SI2 = 0.00 SI = -1.00 eGROI = 0.00% eROI = 0.00% eROI2 = 0.00% eROI3 = 0.00% mSpread = 0.0000%\n",
      "Getting extended results...\n"
     ]
    },
    {
     "name": "stderr",
     "output_type": "stream",
     "text": [
      "100%|██████████████████████████████████████████████████████████████████████████| 33327/33327 [00:07<00:00, 4490.09it/s]\n"
     ]
    },
    {
     "name": "stdout",
     "output_type": "stream",
     "text": [
      "Epoch = 10. Time index = mean. Threshold MC = 0.55. Threshold MD = 0.6\n",
      "RD = 15155 NZ = 25238 NZA = 33328 pNZ = 2.813% pNZA = 3.714% AD = 60.05% ADA = 45.47% NO = 5941 GSP = 56.71% NSP = 42.00%\n",
      "SI2 = -5.93 SI = -44.70 eGROI = 63.24% eROI = -97.26% eROI2 = -55.58% eROI3 = -114.99% mSpread = 0.0270%\n",
      "Getting extended results...\n"
     ]
    },
    {
     "name": "stderr",
     "output_type": "stream",
     "text": [
      "100%|████████████████████████████████████████████████████████████████████████████| 8955/8955 [00:02<00:00, 4475.93it/s]\n"
     ]
    },
    {
     "name": "stdout",
     "output_type": "stream",
     "text": [
      "Epoch = 10. Time index = mean. Threshold MC = 0.55. Threshold MD = 0.65\n",
      "RD = 4403 NZ = 6799 NZA = 8956 pNZ = 0.758% pNZA = 0.998% AD = 64.76% ADA = 49.16% NO = 2579 GSP = 58.82% NSP = 40.83%\n",
      "SI2 = -3.52 SI = -30.04 eGROI = 39.27% eROI = -36.21% eROI2 = -12.31% eROI3 = -38.10% mSpread = 0.0293%\n",
      "Getting extended results...\n"
     ]
    },
    {
     "name": "stderr",
     "output_type": "stream",
     "text": [
      "100%|████████████████████████████████████████████████████████████████████████████| 2475/2475 [00:00<00:00, 3681.85it/s]\n"
     ]
    },
    {
     "name": "stdout",
     "output_type": "stream",
     "text": [
      "Epoch = 10. Time index = mean. Threshold MC = 0.55. Threshold MD = 0.7\n",
      "RD = 1312 NZ = 1910 NZA = 2476 pNZ = 0.213% pNZA = 0.276% AD = 68.69% ADA = 52.99% NO = 1086 GSP = 58.47% NSP = 38.03%\n",
      "SI2 = -3.82 SI = -20.41 eGROI = 11.41% eROI = -21.71% eROI2 = -10.31% eROI3 = -21.17% mSpread = 0.0305%\n",
      "Getting extended results...\n"
     ]
    },
    {
     "name": "stderr",
     "output_type": "stream",
     "text": [
      "100%|██████████████████████████████████████████████████████████████████████████████| 421/421 [00:00<00:00, 2972.49it/s]\n"
     ]
    },
    {
     "name": "stdout",
     "output_type": "stream",
     "text": [
      "Epoch = 10. Time index = mean. Threshold MC = 0.55. Threshold MD = 0.75\n",
      "RD = 252 NZ = 357 NZA = 422 pNZ = 0.040% pNZA = 0.047% AD = 70.59% ADA = 59.72% NO = 237 GSP = 56.12% NSP = 40.51%\n",
      "SI2 = -1.23 SI = -9.13 eGROI = 1.93% eROI = -5.92% eROI2 = -2.81% eROI3 = -5.18% mSpread = 0.0331%\n",
      "Getting extended results...\n"
     ]
    },
    {
     "name": "stderr",
     "output_type": "stream",
     "text": [
      "100%|████████████████████████████████████████████████████████████████████████████████| 51/51 [00:00<00:00, 2691.57it/s]\n"
     ]
    },
    {
     "name": "stdout",
     "output_type": "stream",
     "text": [
      "Epoch = 10. Time index = mean. Threshold MC = 0.55. Threshold MD = 0.8\n",
      "RD = 32 NZ = 44 NZA = 52 pNZ = 0.005% pNZA = 0.006% AD = 72.73% ADA = 61.54% NO = 32 GSP = 43.75% NSP = 28.12%\n",
      "SI2 = -1.41 SI = -4.02 eGROI = 0.14% eROI = -1.10% eROI2 = -0.50% eROI3 = -0.82% mSpread = 0.0389%\n",
      "Getting extended results...\n"
     ]
    },
    {
     "name": "stderr",
     "output_type": "stream",
     "text": [
      "100%|███████████████████████████████████████████████████████████████████████████████████| 1/1 [00:00<00:00, 332.99it/s]\n"
     ]
    },
    {
     "name": "stdout",
     "output_type": "stream",
     "text": [
      "Epoch = 10. Time index = mean. Threshold MC = 0.55. Threshold MD = 0.85\n",
      "RD = 0 NZ = 2 NZA = 2 pNZ = 0.000% pNZA = 0.000% AD = 0.00% ADA = 0.00% NO = 2 GSP = 0.00% NSP = 0.00%\n",
      "SI2 = -1.41 SI = -1.41 eGROI = -0.14% eROI = -0.23% eROI2 = -0.18% eROI3 = -0.20% mSpread = 0.0487%\n",
      "Getting extended results...\n"
     ]
    },
    {
     "name": "stderr",
     "output_type": "stream",
     "text": [
      "0it [00:00, ?it/s]\n"
     ]
    },
    {
     "name": "stdout",
     "output_type": "stream",
     "text": [
      "Epoch = 10. Time index = mean. Threshold MC = 0.55. Threshold MD = 0.9\n",
      "RD = 0 NZ = 0 NZA = 0 pNZ = 0.000% pNZA = 0.000% AD = 0.00% ADA = 0.00% NO = 1 GSP = 0.00% NSP = 0.00%\n",
      "SI2 = 0.00 SI = -1.00 eGROI = 0.00% eROI = 0.00% eROI2 = 0.00% eROI3 = 0.00% mSpread = 0.0000%\n",
      "Getting extended results...\n"
     ]
    },
    {
     "name": "stderr",
     "output_type": "stream",
     "text": [
      "0it [00:00, ?it/s]\n"
     ]
    },
    {
     "name": "stdout",
     "output_type": "stream",
     "text": [
      "Epoch = 10. Time index = mean. Threshold MC = 0.55. Threshold MD = 0.95\n",
      "RD = 0 NZ = 0 NZA = 0 pNZ = 0.000% pNZA = 0.000% AD = 0.00% ADA = 0.00% NO = 1 GSP = 0.00% NSP = 0.00%\n",
      "SI2 = 0.00 SI = -1.00 eGROI = 0.00% eROI = 0.00% eROI2 = 0.00% eROI3 = 0.00% mSpread = 0.0000%\n",
      "\n",
      "Getting extended results...\n"
     ]
    },
    {
     "name": "stderr",
     "output_type": "stream",
     "text": [
      "0it [00:00, ?it/s]\n"
     ]
    },
    {
     "name": "stdout",
     "output_type": "stream",
     "text": [
      "Epoch = 10. Time index = mean. Threshold MC = 0.6. Threshold MD = 0.5\n",
      "RD = 373838 NZ = 717710 NZA = 894812 pNZ = 79.985% pNZA = 99.722% AD = 52.09% ADA = 41.78% NO = 1 GSP = 0.00% NSP = 0.00%\n",
      "SI2 = 0.00 SI = -1.00 eGROI = 0.00% eROI = 0.00% eROI2 = 0.00% eROI3 = 0.00% mSpread = 0.0000%\n",
      "Getting extended results...\n"
     ]
    },
    {
     "name": "stderr",
     "output_type": "stream",
     "text": [
      "0it [00:00, ?it/s]\n"
     ]
    },
    {
     "name": "stdout",
     "output_type": "stream",
     "text": [
      "Epoch = 10. Time index = mean. Threshold MC = 0.6. Threshold MD = 0.55\n",
      "RD = 73209 NZ = 132643 NZA = 170064 pNZ = 14.782% pNZA = 18.953% AD = 55.19% ADA = 43.05% NO = 1 GSP = 0.00% NSP = 0.00%\n",
      "SI2 = 0.00 SI = -1.00 eGROI = 0.00% eROI = 0.00% eROI2 = 0.00% eROI3 = 0.00% mSpread = 0.0000%\n",
      "Getting extended results...\n"
     ]
    },
    {
     "name": "stderr",
     "output_type": "stream",
     "text": [
      "100%|██████████████████████████████████████████████████████████████████████████| 32670/32670 [00:06<00:00, 4998.70it/s]\n"
     ]
    },
    {
     "name": "stdout",
     "output_type": "stream",
     "text": [
      "Epoch = 10. Time index = mean. Threshold MC = 0.6. Threshold MD = 0.6\n",
      "RD = 14941 NZ = 24838 NZA = 32671 pNZ = 2.768% pNZA = 3.641% AD = 60.15% ADA = 45.73% NO = 5934 GSP = 57.06% NSP = 42.08%\n",
      "SI2 = -5.76 SI = -44.61 eGROI = 64.23% eROI = -96.19% eROI2 = -54.45% eROI3 = -113.79% mSpread = 0.0270%\n",
      "Getting extended results...\n"
     ]
    },
    {
     "name": "stderr",
     "output_type": "stream",
     "text": [
      "100%|████████████████████████████████████████████████████████████████████████████| 8709/8709 [00:02<00:00, 4276.25it/s]\n"
     ]
    },
    {
     "name": "stdout",
     "output_type": "stream",
     "text": [
      "Epoch = 10. Time index = mean. Threshold MC = 0.6. Threshold MD = 0.65\n",
      "RD = 4320 NZ = 6646 NZA = 8710 pNZ = 0.741% pNZA = 0.971% AD = 65.00% ADA = 49.60% NO = 2556 GSP = 58.84% NSP = 40.96%\n",
      "SI2 = -3.36 SI = -29.84 eGROI = 39.35% eROI = -35.47% eROI2 = -11.77% eROI3 = -37.33% mSpread = 0.0293%\n",
      "Getting extended results...\n"
     ]
    },
    {
     "name": "stderr",
     "output_type": "stream",
     "text": [
      "100%|████████████████████████████████████████████████████████████████████████████| 2432/2432 [00:00<00:00, 3852.22it/s]\n"
     ]
    },
    {
     "name": "stdout",
     "output_type": "stream",
     "text": [
      "Epoch = 10. Time index = mean. Threshold MC = 0.6. Threshold MD = 0.7\n",
      "RD = 1295 NZ = 1886 NZA = 2433 pNZ = 0.210% pNZA = 0.271% AD = 68.66% ADA = 53.23% NO = 1067 GSP = 58.86% NSP = 38.24%\n",
      "SI2 = -3.52 SI = -20.16 eGROI = 11.34% eROI = -21.25% eROI2 = -10.00% eROI3 = -20.67% mSpread = 0.0305%\n",
      "Getting extended results...\n"
     ]
    },
    {
     "name": "stderr",
     "output_type": "stream",
     "text": [
      "100%|██████████████████████████████████████████████████████████████████████████████| 418/418 [00:00<00:00, 2524.78it/s]\n"
     ]
    },
    {
     "name": "stdout",
     "output_type": "stream",
     "text": [
      "Epoch = 10. Time index = mean. Threshold MC = 0.6. Threshold MD = 0.75\n",
      "RD = 250 NZ = 354 NZA = 419 pNZ = 0.039% pNZA = 0.047% AD = 70.62% ADA = 59.67% NO = 234 GSP = 55.98% NSP = 40.60%\n",
      "SI2 = -1.18 SI = -9.06 eGROI = 1.93% eROI = -5.84% eROI2 = -2.75% eROI3 = -5.09% mSpread = 0.0332%\n",
      "Getting extended results...\n"
     ]
    },
    {
     "name": "stderr",
     "output_type": "stream",
     "text": [
      "100%|████████████████████████████████████████████████████████████████████████████████| 51/51 [00:00<00:00, 2841.37it/s]\n"
     ]
    },
    {
     "name": "stdout",
     "output_type": "stream",
     "text": [
      "Epoch = 10. Time index = mean. Threshold MC = 0.6. Threshold MD = 0.8\n",
      "RD = 32 NZ = 44 NZA = 52 pNZ = 0.005% pNZA = 0.006% AD = 72.73% ADA = 61.54% NO = 32 GSP = 43.75% NSP = 28.12%\n",
      "SI2 = -1.41 SI = -4.02 eGROI = 0.14% eROI = -1.10% eROI2 = -0.50% eROI3 = -0.82% mSpread = 0.0389%\n",
      "Getting extended results...\n"
     ]
    },
    {
     "name": "stderr",
     "output_type": "stream",
     "text": [
      "100%|███████████████████████████████████████████████████████████████████████████████████| 1/1 [00:00<00:00, 501.47it/s]\n"
     ]
    },
    {
     "name": "stdout",
     "output_type": "stream",
     "text": [
      "Epoch = 10. Time index = mean. Threshold MC = 0.6. Threshold MD = 0.85\n",
      "RD = 0 NZ = 2 NZA = 2 pNZ = 0.000% pNZA = 0.000% AD = 0.00% ADA = 0.00% NO = 2 GSP = 0.00% NSP = 0.00%\n",
      "SI2 = -1.41 SI = -1.41 eGROI = -0.14% eROI = -0.23% eROI2 = -0.18% eROI3 = -0.20% mSpread = 0.0487%\n",
      "Getting extended results...\n"
     ]
    },
    {
     "name": "stderr",
     "output_type": "stream",
     "text": [
      "0it [00:00, ?it/s]\n"
     ]
    },
    {
     "name": "stdout",
     "output_type": "stream",
     "text": [
      "Epoch = 10. Time index = mean. Threshold MC = 0.6. Threshold MD = 0.9\n",
      "RD = 0 NZ = 0 NZA = 0 pNZ = 0.000% pNZA = 0.000% AD = 0.00% ADA = 0.00% NO = 1 GSP = 0.00% NSP = 0.00%\n",
      "SI2 = 0.00 SI = -1.00 eGROI = 0.00% eROI = 0.00% eROI2 = 0.00% eROI3 = 0.00% mSpread = 0.0000%\n",
      "Getting extended results...\n"
     ]
    },
    {
     "name": "stderr",
     "output_type": "stream",
     "text": [
      "0it [00:00, ?it/s]\n"
     ]
    },
    {
     "name": "stdout",
     "output_type": "stream",
     "text": [
      "Epoch = 10. Time index = mean. Threshold MC = 0.6. Threshold MD = 0.95\n",
      "RD = 0 NZ = 0 NZA = 0 pNZ = 0.000% pNZA = 0.000% AD = 0.00% ADA = 0.00% NO = 1 GSP = 0.00% NSP = 0.00%\n",
      "SI2 = 0.00 SI = -1.00 eGROI = 0.00% eROI = 0.00% eROI2 = 0.00% eROI3 = 0.00% mSpread = 0.0000%\n",
      "\n",
      "Getting extended results...\n"
     ]
    },
    {
     "name": "stderr",
     "output_type": "stream",
     "text": [
      "0it [00:00, ?it/s]\n"
     ]
    },
    {
     "name": "stdout",
     "output_type": "stream",
     "text": [
      "Epoch = 10. Time index = mean. Threshold MC = 0.65. Threshold MD = 0.5\n",
      "RD = 371560 NZ = 713309 NZA = 887423 pNZ = 79.494% pNZA = 98.898% AD = 52.09% ADA = 41.87% NO = 1 GSP = 0.00% NSP = 0.00%\n",
      "SI2 = 0.00 SI = -1.00 eGROI = 0.00% eROI = 0.00% eROI2 = 0.00% eROI3 = 0.00% mSpread = 0.0000%\n",
      "Getting extended results...\n"
     ]
    },
    {
     "name": "stderr",
     "output_type": "stream",
     "text": [
      "0it [00:00, ?it/s]\n"
     ]
    },
    {
     "name": "stdout",
     "output_type": "stream",
     "text": [
      "Epoch = 10. Time index = mean. Threshold MC = 0.65. Threshold MD = 0.55\n",
      "RD = 72009 NZ = 130326 NZA = 166256 pNZ = 14.524% pNZA = 18.528% AD = 55.25% ADA = 43.31% NO = 1 GSP = 0.00% NSP = 0.00%\n",
      "SI2 = 0.00 SI = -1.00 eGROI = 0.00% eROI = 0.00% eROI2 = 0.00% eROI3 = 0.00% mSpread = 0.0000%\n",
      "Getting extended results...\n"
     ]
    },
    {
     "name": "stderr",
     "output_type": "stream",
     "text": [
      "100%|██████████████████████████████████████████████████████████████████████████| 31079/31079 [00:06<00:00, 4799.98it/s]\n"
     ]
    },
    {
     "name": "stdout",
     "output_type": "stream",
     "text": [
      "Epoch = 10. Time index = mean. Threshold MC = 0.65. Threshold MD = 0.6\n",
      "RD = 14375 NZ = 23859 NZA = 31080 pNZ = 2.659% pNZA = 3.464% AD = 60.25% ADA = 46.25% NO = 5910 GSP = 57.02% NSP = 42.22%\n",
      "SI2 = -5.88 SI = -44.42 eGROI = 65.47% eROI = -94.59% eROI2 = -52.73% eROI3 = -111.83% mSpread = 0.0271%\n",
      "Getting extended results...\n"
     ]
    },
    {
     "name": "stderr",
     "output_type": "stream",
     "text": [
      "100%|████████████████████████████████████████████████████████████████████████████| 8133/8133 [00:01<00:00, 4356.08it/s]\n"
     ]
    },
    {
     "name": "stdout",
     "output_type": "stream",
     "text": [
      "Epoch = 10. Time index = mean. Threshold MC = 0.65. Threshold MD = 0.65\n",
      "RD = 4109 NZ = 6295 NZA = 8134 pNZ = 0.702% pNZA = 0.906% AD = 65.27% ADA = 50.52% NO = 2477 GSP = 59.10% NSP = 41.58%\n",
      "SI2 = -2.75 SI = -29.07 eGROI = 40.69% eROI = -32.21% eROI2 = -8.85% eROI3 = -33.62% mSpread = 0.0294%\n",
      "Getting extended results...\n"
     ]
    },
    {
     "name": "stderr",
     "output_type": "stream",
     "text": [
      "100%|████████████████████████████████████████████████████████████████████████████| 2331/2331 [00:00<00:00, 2874.64it/s]\n"
     ]
    },
    {
     "name": "stdout",
     "output_type": "stream",
     "text": [
      "Epoch = 10. Time index = mean. Threshold MC = 0.65. Threshold MD = 0.7\n",
      "RD = 1258 NZ = 1828 NZA = 2332 pNZ = 0.204% pNZA = 0.260% AD = 68.82% ADA = 53.95% NO = 1036 GSP = 59.36% NSP = 38.51%\n",
      "SI2 = -3.17 SI = -19.78 eGROI = 11.69% eROI = -20.16% eROI2 = -9.03% eROI3 = -19.39% mSpread = 0.0307%\n",
      "Getting extended results...\n"
     ]
    },
    {
     "name": "stderr",
     "output_type": "stream",
     "text": [
      "100%|██████████████████████████████████████████████████████████████████████████████| 415/415 [00:00<00:00, 2568.48it/s]\n"
     ]
    },
    {
     "name": "stdout",
     "output_type": "stream",
     "text": [
      "Epoch = 10. Time index = mean. Threshold MC = 0.65. Threshold MD = 0.75\n",
      "RD = 249 NZ = 353 NZA = 416 pNZ = 0.039% pNZA = 0.046% AD = 70.54% ADA = 59.86% NO = 232 GSP = 56.03% NSP = 40.95%\n",
      "SI2 = -1.05 SI = -8.97 eGROI = 1.95% eROI = -5.76% eROI2 = -2.69% eROI3 = -5.01% mSpread = 0.0332%\n",
      "Getting extended results...\n"
     ]
    },
    {
     "name": "stderr",
     "output_type": "stream",
     "text": [
      "100%|████████████████████████████████████████████████████████████████████████████████| 51/51 [00:00<00:00, 2045.43it/s]\n"
     ]
    },
    {
     "name": "stdout",
     "output_type": "stream",
     "text": [
      "Epoch = 10. Time index = mean. Threshold MC = 0.65. Threshold MD = 0.8\n",
      "RD = 32 NZ = 44 NZA = 52 pNZ = 0.005% pNZA = 0.006% AD = 72.73% ADA = 61.54% NO = 32 GSP = 43.75% NSP = 28.12%\n",
      "SI2 = -1.41 SI = -4.02 eGROI = 0.14% eROI = -1.10% eROI2 = -0.50% eROI3 = -0.82% mSpread = 0.0389%\n",
      "Getting extended results...\n"
     ]
    },
    {
     "name": "stderr",
     "output_type": "stream",
     "text": [
      "100%|███████████████████████████████████████████████████████████████████████████████████| 1/1 [00:00<00:00, 501.89it/s]\n"
     ]
    },
    {
     "name": "stdout",
     "output_type": "stream",
     "text": [
      "Epoch = 10. Time index = mean. Threshold MC = 0.65. Threshold MD = 0.85\n",
      "RD = 0 NZ = 2 NZA = 2 pNZ = 0.000% pNZA = 0.000% AD = 0.00% ADA = 0.00% NO = 2 GSP = 0.00% NSP = 0.00%\n",
      "SI2 = -1.41 SI = -1.41 eGROI = -0.14% eROI = -0.23% eROI2 = -0.18% eROI3 = -0.20% mSpread = 0.0487%\n",
      "Getting extended results...\n"
     ]
    },
    {
     "name": "stderr",
     "output_type": "stream",
     "text": [
      "0it [00:00, ?it/s]\n"
     ]
    },
    {
     "name": "stdout",
     "output_type": "stream",
     "text": [
      "Epoch = 10. Time index = mean. Threshold MC = 0.65. Threshold MD = 0.9\n",
      "RD = 0 NZ = 0 NZA = 0 pNZ = 0.000% pNZA = 0.000% AD = 0.00% ADA = 0.00% NO = 1 GSP = 0.00% NSP = 0.00%\n",
      "SI2 = 0.00 SI = -1.00 eGROI = 0.00% eROI = 0.00% eROI2 = 0.00% eROI3 = 0.00% mSpread = 0.0000%\n",
      "Getting extended results...\n"
     ]
    },
    {
     "name": "stderr",
     "output_type": "stream",
     "text": [
      "0it [00:00, ?it/s]\n"
     ]
    },
    {
     "name": "stdout",
     "output_type": "stream",
     "text": [
      "Epoch = 10. Time index = mean. Threshold MC = 0.65. Threshold MD = 0.95\n",
      "RD = 0 NZ = 0 NZA = 0 pNZ = 0.000% pNZA = 0.000% AD = 0.00% ADA = 0.00% NO = 1 GSP = 0.00% NSP = 0.00%\n",
      "SI2 = 0.00 SI = -1.00 eGROI = 0.00% eROI = 0.00% eROI2 = 0.00% eROI3 = 0.00% mSpread = 0.0000%\n",
      "\n",
      "Getting extended results...\n"
     ]
    },
    {
     "name": "stderr",
     "output_type": "stream",
     "text": [
      "0it [00:00, ?it/s]\n"
     ]
    },
    {
     "name": "stdout",
     "output_type": "stream",
     "text": [
      "Epoch = 10. Time index = mean. Threshold MC = 0.7. Threshold MD = 0.5\n",
      "RD = 364650 NZ = 700405 NZA = 867443 pNZ = 78.056% pNZA = 96.672% AD = 52.06% ADA = 42.04% NO = 1 GSP = 0.00% NSP = 0.00%\n",
      "SI2 = 0.00 SI = -1.00 eGROI = 0.00% eROI = 0.00% eROI2 = 0.00% eROI3 = 0.00% mSpread = 0.0000%\n",
      "Getting extended results...\n"
     ]
    },
    {
     "name": "stderr",
     "output_type": "stream",
     "text": [
      "0it [00:00, ?it/s]\n"
     ]
    },
    {
     "name": "stdout",
     "output_type": "stream",
     "text": [
      "Epoch = 10. Time index = mean. Threshold MC = 0.7. Threshold MD = 0.55\n",
      "RD = 68670 NZ = 124363 NZA = 157121 pNZ = 13.860% pNZA = 17.510% AD = 55.22% ADA = 43.71% NO = 1 GSP = 0.00% NSP = 0.00%\n",
      "SI2 = 0.00 SI = -1.00 eGROI = 0.00% eROI = 0.00% eROI2 = 0.00% eROI3 = 0.00% mSpread = 0.0000%\n",
      "Getting extended results...\n"
     ]
    },
    {
     "name": "stderr",
     "output_type": "stream",
     "text": [
      "100%|██████████████████████████████████████████████████████████████████████████| 27959/27959 [00:06<00:00, 4321.02it/s]\n"
     ]
    },
    {
     "name": "stdout",
     "output_type": "stream",
     "text": [
      "Epoch = 10. Time index = mean. Threshold MC = 0.7. Threshold MD = 0.6\n",
      "RD = 13119 NZ = 21767 NZA = 27960 pNZ = 2.426% pNZA = 3.116% AD = 60.27% ADA = 46.92% NO = 5788 GSP = 57.55% NSP = 42.19%\n",
      "SI2 = -5.18 SI = -43.98 eGROI = 66.93% eROI = -90.73% eROI2 = -48.83% eROI3 = -106.71% mSpread = 0.0272%\n",
      "Getting extended results...\n"
     ]
    },
    {
     "name": "stderr",
     "output_type": "stream",
     "text": [
      "100%|████████████████████████████████████████████████████████████████████████████| 7089/7089 [00:01<00:00, 3796.91it/s]\n"
     ]
    },
    {
     "name": "stdout",
     "output_type": "stream",
     "text": [
      "Epoch = 10. Time index = mean. Threshold MC = 0.7. Threshold MD = 0.65\n",
      "RD = 3632 NZ = 5583 NZA = 7090 pNZ = 0.622% pNZA = 0.790% AD = 65.05% ADA = 51.23% NO = 2346 GSP = 59.76% NSP = 41.94%\n",
      "SI2 = -2.11 SI = -28.11 eGROI = 40.33% eROI = -29.01% eROI2 = -6.59% eROI3 = -30.05% mSpread = 0.0296%\n",
      "Getting extended results...\n"
     ]
    },
    {
     "name": "stderr",
     "output_type": "stream",
     "text": [
      "100%|████████████████████████████████████████████████████████████████████████████| 2057/2057 [00:00<00:00, 3580.65it/s]\n"
     ]
    },
    {
     "name": "stdout",
     "output_type": "stream",
     "text": [
      "Epoch = 10. Time index = mean. Threshold MC = 0.7. Threshold MD = 0.7\n",
      "RD = 1120 NZ = 1639 NZA = 2058 pNZ = 0.183% pNZA = 0.229% AD = 68.33% ADA = 54.42% NO = 953 GSP = 59.81% NSP = 38.61%\n",
      "SI2 = -2.75 SI = -18.94 eGROI = 11.57% eROI = -18.01% eROI2 = -7.49% eROI3 = -17.02% mSpread = 0.0310%\n",
      "Getting extended results...\n"
     ]
    },
    {
     "name": "stderr",
     "output_type": "stream",
     "text": [
      "100%|██████████████████████████████████████████████████████████████████████████████| 400/400 [00:00<00:00, 2747.01it/s]\n"
     ]
    },
    {
     "name": "stdout",
     "output_type": "stream",
     "text": [
      "Epoch = 10. Time index = mean. Threshold MC = 0.7. Threshold MD = 0.75\n",
      "RD = 239 NZ = 342 NZA = 401 pNZ = 0.038% pNZA = 0.045% AD = 69.88% ADA = 59.60% NO = 224 GSP = 56.25% NSP = 41.07%\n",
      "SI2 = -1.07 SI = -8.79 eGROI = 1.90% eROI = -5.56% eROI2 = -2.58% eROI3 = -4.82% mSpread = 0.0333%\n",
      "Getting extended results...\n"
     ]
    },
    {
     "name": "stderr",
     "output_type": "stream",
     "text": [
      "100%|████████████████████████████████████████████████████████████████████████████████| 50/50 [00:00<00:00, 1856.74it/s]\n"
     ]
    },
    {
     "name": "stdout",
     "output_type": "stream",
     "text": [
      "Epoch = 10. Time index = mean. Threshold MC = 0.7. Threshold MD = 0.8\n",
      "RD = 32 NZ = 44 NZA = 51 pNZ = 0.005% pNZA = 0.006% AD = 72.73% ADA = 62.75% NO = 31 GSP = 45.16% NSP = 29.03%\n",
      "SI2 = -1.26 SI = -3.90 eGROI = 0.15% eROI = -1.06% eROI2 = -0.47% eROI3 = -0.78% mSpread = 0.0393%\n",
      "Getting extended results...\n"
     ]
    },
    {
     "name": "stderr",
     "output_type": "stream",
     "text": [
      "100%|███████████████████████████████████████████████████████████████████████████████████| 1/1 [00:00<00:00, 501.11it/s]\n"
     ]
    },
    {
     "name": "stdout",
     "output_type": "stream",
     "text": [
      "Epoch = 10. Time index = mean. Threshold MC = 0.7. Threshold MD = 0.85\n",
      "RD = 0 NZ = 2 NZA = 2 pNZ = 0.000% pNZA = 0.000% AD = 0.00% ADA = 0.00% NO = 2 GSP = 0.00% NSP = 0.00%\n",
      "SI2 = -1.41 SI = -1.41 eGROI = -0.14% eROI = -0.23% eROI2 = -0.18% eROI3 = -0.20% mSpread = 0.0487%\n",
      "Getting extended results...\n"
     ]
    },
    {
     "name": "stderr",
     "output_type": "stream",
     "text": [
      "0it [00:00, ?it/s]\n"
     ]
    },
    {
     "name": "stdout",
     "output_type": "stream",
     "text": [
      "Epoch = 10. Time index = mean. Threshold MC = 0.7. Threshold MD = 0.9\n",
      "RD = 0 NZ = 0 NZA = 0 pNZ = 0.000% pNZA = 0.000% AD = 0.00% ADA = 0.00% NO = 1 GSP = 0.00% NSP = 0.00%\n",
      "SI2 = 0.00 SI = -1.00 eGROI = 0.00% eROI = 0.00% eROI2 = 0.00% eROI3 = 0.00% mSpread = 0.0000%\n",
      "Getting extended results...\n"
     ]
    },
    {
     "name": "stderr",
     "output_type": "stream",
     "text": [
      "0it [00:00, ?it/s]\n"
     ]
    },
    {
     "name": "stdout",
     "output_type": "stream",
     "text": [
      "Epoch = 10. Time index = mean. Threshold MC = 0.7. Threshold MD = 0.95\n",
      "RD = 0 NZ = 0 NZA = 0 pNZ = 0.000% pNZA = 0.000% AD = 0.00% ADA = 0.00% NO = 1 GSP = 0.00% NSP = 0.00%\n",
      "SI2 = 0.00 SI = -1.00 eGROI = 0.00% eROI = 0.00% eROI2 = 0.00% eROI3 = 0.00% mSpread = 0.0000%\n",
      "\n",
      "Getting extended results...\n"
     ]
    },
    {
     "name": "stderr",
     "output_type": "stream",
     "text": [
      "0it [00:00, ?it/s]\n"
     ]
    },
    {
     "name": "stdout",
     "output_type": "stream",
     "text": [
      "Epoch = 10. Time index = mean. Threshold MC = 0.75. Threshold MD = 0.5\n",
      "RD = 344099 NZ = 661719 NZA = 811263 pNZ = 73.745% pNZA = 90.411% AD = 52.00% ADA = 42.42% NO = 1 GSP = 0.00% NSP = 0.00%\n",
      "SI2 = 0.00 SI = -1.00 eGROI = 0.00% eROI = 0.00% eROI2 = 0.00% eROI3 = 0.00% mSpread = 0.0000%\n",
      "Getting extended results...\n"
     ]
    },
    {
     "name": "stderr",
     "output_type": "stream",
     "text": [
      "0it [00:00, ?it/s]\n"
     ]
    },
    {
     "name": "stdout",
     "output_type": "stream",
     "text": [
      "Epoch = 10. Time index = mean. Threshold MC = 0.75. Threshold MD = 0.55\n",
      "RD = 59852 NZ = 108532 NZA = 134206 pNZ = 12.095% pNZA = 14.957% AD = 55.15% ADA = 44.60% NO = 1 GSP = 0.00% NSP = 0.00%\n",
      "SI2 = 0.00 SI = -1.00 eGROI = 0.00% eROI = 0.00% eROI2 = 0.00% eROI3 = 0.00% mSpread = 0.0000%\n",
      "Getting extended results...\n"
     ]
    },
    {
     "name": "stderr",
     "output_type": "stream",
     "text": [
      "100%|██████████████████████████████████████████████████████████████████████████| 21681/21681 [00:05<00:00, 4253.25it/s]\n"
     ]
    },
    {
     "name": "stdout",
     "output_type": "stream",
     "text": [
      "Epoch = 10. Time index = mean. Threshold MC = 0.75. Threshold MD = 0.6\n",
      "RD = 10530 NZ = 17434 NZA = 21682 pNZ = 1.943% pNZA = 2.416% AD = 60.40% ADA = 48.57% NO = 5296 GSP = 57.55% NSP = 42.26%\n",
      "SI2 = -4.97 SI = -42.01 eGROI = 64.42% eROI = -79.31% eROI2 = -41.50% eROI3 = -94.46% mSpread = 0.0271%\n",
      "Getting extended results...\n"
     ]
    },
    {
     "name": "stderr",
     "output_type": "stream",
     "text": [
      "100%|████████████████████████████████████████████████████████████████████████████| 5429/5429 [00:01<00:00, 3590.72it/s]\n"
     ]
    },
    {
     "name": "stdout",
     "output_type": "stream",
     "text": [
      "Epoch = 10. Time index = mean. Threshold MC = 0.75. Threshold MD = 0.65\n",
      "RD = 2884 NZ = 4426 NZA = 5430 pNZ = 0.493% pNZA = 0.605% AD = 65.16% ADA = 53.11% NO = 1987 GSP = 59.94% NSP = 42.73%\n",
      "SI2 = -1.55 SI = -25.52 eGROI = 38.78% eROI = -20.05% eROI2 = -0.96% eROI3 = -20.83% mSpread = 0.0296%\n",
      "Getting extended results...\n"
     ]
    },
    {
     "name": "stderr",
     "output_type": "stream",
     "text": [
      "100%|████████████████████████████████████████████████████████████████████████████| 1615/1615 [00:00<00:00, 2707.84it/s]\n"
     ]
    },
    {
     "name": "stdout",
     "output_type": "stream",
     "text": [
      "Epoch = 10. Time index = mean. Threshold MC = 0.75. Threshold MD = 0.7\n",
      "RD = 911 NZ = 1329 NZA = 1616 pNZ = 0.148% pNZA = 0.180% AD = 68.55% ADA = 56.37% NO = 779 GSP = 59.18% NSP = 39.28%\n",
      "SI2 = -2.47 SI = -16.93 eGROI = 10.28% eROI = -13.82% eROI2 = -5.30% eROI3 = -13.09% mSpread = 0.0309%\n",
      "Getting extended results...\n"
     ]
    },
    {
     "name": "stderr",
     "output_type": "stream",
     "text": [
      "100%|██████████████████████████████████████████████████████████████████████████████| 357/357 [00:00<00:00, 1903.97it/s]\n"
     ]
    },
    {
     "name": "stdout",
     "output_type": "stream",
     "text": [
      "Epoch = 10. Time index = mean. Threshold MC = 0.75. Threshold MD = 0.75\n",
      "RD = 217 NZ = 309 NZA = 358 pNZ = 0.034% pNZA = 0.040% AD = 70.23% ADA = 60.61% NO = 194 GSP = 57.22% NSP = 43.30%\n",
      "SI2 = -0.14 SI = -7.87 eGROI = 2.16% eROI = -4.38% eROI2 = -1.72% eROI3 = -3.66% mSpread = 0.0337%\n",
      "Getting extended results...\n"
     ]
    },
    {
     "name": "stderr",
     "output_type": "stream",
     "text": [
      "100%|████████████████████████████████████████████████████████████████████████████████| 48/48 [00:00<00:00, 1552.48it/s]\n"
     ]
    },
    {
     "name": "stdout",
     "output_type": "stream",
     "text": [
      "Epoch = 10. Time index = mean. Threshold MC = 0.75. Threshold MD = 0.8\n",
      "RD = 30 NZ = 42 NZA = 49 pNZ = 0.005% pNZA = 0.005% AD = 71.43% ADA = 61.22% NO = 29 GSP = 48.28% NSP = 31.03%\n",
      "SI2 = -0.93 SI = -3.66 eGROI = 0.18% eROI = -0.96% eROI2 = -0.40% eROI3 = -0.69% mSpread = 0.0393%\n",
      "Getting extended results...\n"
     ]
    },
    {
     "name": "stderr",
     "output_type": "stream",
     "text": [
      "100%|███████████████████████████████████████████████████████████████████████████████████| 1/1 [00:00<00:00, 334.31it/s]\n"
     ]
    },
    {
     "name": "stdout",
     "output_type": "stream",
     "text": [
      "Epoch = 10. Time index = mean. Threshold MC = 0.75. Threshold MD = 0.85\n",
      "RD = 0 NZ = 2 NZA = 2 pNZ = 0.000% pNZA = 0.000% AD = 0.00% ADA = 0.00% NO = 2 GSP = 0.00% NSP = 0.00%\n",
      "SI2 = -1.41 SI = -1.41 eGROI = -0.14% eROI = -0.23% eROI2 = -0.18% eROI3 = -0.20% mSpread = 0.0487%\n",
      "Getting extended results...\n"
     ]
    },
    {
     "name": "stderr",
     "output_type": "stream",
     "text": [
      "0it [00:00, ?it/s]\n"
     ]
    },
    {
     "name": "stdout",
     "output_type": "stream",
     "text": [
      "Epoch = 10. Time index = mean. Threshold MC = 0.75. Threshold MD = 0.9\n",
      "RD = 0 NZ = 0 NZA = 0 pNZ = 0.000% pNZA = 0.000% AD = 0.00% ADA = 0.00% NO = 1 GSP = 0.00% NSP = 0.00%\n",
      "SI2 = 0.00 SI = -1.00 eGROI = 0.00% eROI = 0.00% eROI2 = 0.00% eROI3 = 0.00% mSpread = 0.0000%\n",
      "Getting extended results...\n"
     ]
    },
    {
     "name": "stderr",
     "output_type": "stream",
     "text": [
      "0it [00:00, ?it/s]\n"
     ]
    },
    {
     "name": "stdout",
     "output_type": "stream",
     "text": [
      "Epoch = 10. Time index = mean. Threshold MC = 0.75. Threshold MD = 0.95\n",
      "RD = 0 NZ = 0 NZA = 0 pNZ = 0.000% pNZA = 0.000% AD = 0.00% ADA = 0.00% NO = 1 GSP = 0.00% NSP = 0.00%\n",
      "SI2 = 0.00 SI = -1.00 eGROI = 0.00% eROI = 0.00% eROI2 = 0.00% eROI3 = 0.00% mSpread = 0.0000%\n",
      "\n",
      "Getting extended results...\n"
     ]
    },
    {
     "name": "stderr",
     "output_type": "stream",
     "text": [
      "0it [00:00, ?it/s]\n"
     ]
    },
    {
     "name": "stdout",
     "output_type": "stream",
     "text": [
      "Epoch = 10. Time index = mean. Threshold MC = 0.8. Threshold MD = 0.5\n",
      "RD = 277332 NZ = 533751 NZA = 642380 pNZ = 59.484% pNZA = 71.590% AD = 51.96% ADA = 43.17% NO = 1 GSP = 0.00% NSP = 0.00%\n",
      "SI2 = 0.00 SI = -1.00 eGROI = 0.00% eROI = 0.00% eROI2 = 0.00% eROI3 = 0.00% mSpread = 0.0000%\n",
      "Getting extended results...\n"
     ]
    },
    {
     "name": "stderr",
     "output_type": "stream",
     "text": [
      "0it [00:00, ?it/s]\n"
     ]
    },
    {
     "name": "stdout",
     "output_type": "stream",
     "text": [
      "Epoch = 10. Time index = mean. Threshold MC = 0.8. Threshold MD = 0.55\n",
      "RD = 42914 NZ = 77538 NZA = 92818 pNZ = 8.641% pNZA = 10.344% AD = 55.35% ADA = 46.23% NO = 1 GSP = 0.00% NSP = 0.00%\n",
      "SI2 = 0.00 SI = -1.00 eGROI = 0.00% eROI = 0.00% eROI2 = 0.00% eROI3 = 0.00% mSpread = 0.0000%\n",
      "Getting extended results...\n"
     ]
    },
    {
     "name": "stderr",
     "output_type": "stream",
     "text": [
      "100%|██████████████████████████████████████████████████████████████████████████| 13035/13035 [00:03<00:00, 4103.48it/s]\n"
     ]
    },
    {
     "name": "stdout",
     "output_type": "stream",
     "text": [
      "Epoch = 10. Time index = mean. Threshold MC = 0.8. Threshold MD = 0.6\n",
      "RD = 6709 NZ = 10988 NZA = 13036 pNZ = 1.225% pNZA = 1.453% AD = 61.06% ADA = 51.47% NO = 3816 GSP = 58.33% NSP = 44.10%\n",
      "SI2 = -1.97 SI = -34.52 eGROI = 53.12% eROI = -50.62% eROI2 = -23.20% eROI3 = -61.36% mSpread = 0.0272%\n",
      "Getting extended results...\n"
     ]
    },
    {
     "name": "stderr",
     "output_type": "stream",
     "text": [
      "100%|████████████████████████████████████████████████████████████████████████████| 3306/3306 [00:00<00:00, 3695.40it/s]\n"
     ]
    },
    {
     "name": "stdout",
     "output_type": "stream",
     "text": [
      "Epoch = 10. Time index = mean. Threshold MC = 0.8. Threshold MD = 0.65\n",
      "RD = 1840 NZ = 2798 NZA = 3307 pNZ = 0.312% pNZA = 0.369% AD = 65.76% ADA = 55.64% NO = 1351 GSP = 59.73% NSP = 43.60%\n",
      "SI2 = 0.14 SI = -20.72 eGROI = 31.82% eROI = -7.99% eROI2 = 4.80% eROI3 = -8.71% mSpread = 0.0295%\n",
      "Getting extended results...\n"
     ]
    },
    {
     "name": "stderr",
     "output_type": "stream",
     "text": [
      "100%|████████████████████████████████████████████████████████████████████████████| 1024/1024 [00:00<00:00, 3249.11it/s]\n"
     ]
    },
    {
     "name": "stdout",
     "output_type": "stream",
     "text": [
      "Epoch = 10. Time index = mean. Threshold MC = 0.8. Threshold MD = 0.7\n",
      "RD = 596 NZ = 877 NZA = 1025 pNZ = 0.098% pNZA = 0.114% AD = 67.96% ADA = 58.15% NO = 520 GSP = 60.38% NSP = 42.88%\n",
      "SI2 = -0.70 SI = -13.01 eGROI = 7.70% eROI = -8.06% eROI2 = -2.70% eROI3 = -7.90% mSpread = 0.0303%\n",
      "Getting extended results...\n"
     ]
    },
    {
     "name": "stderr",
     "output_type": "stream",
     "text": [
      "100%|██████████████████████████████████████████████████████████████████████████████| 268/268 [00:00<00:00, 3161.26it/s]\n"
     ]
    },
    {
     "name": "stdout",
     "output_type": "stream",
     "text": [
      "Epoch = 10. Time index = mean. Threshold MC = 0.8. Threshold MD = 0.75\n",
      "RD = 162 NZ = 240 NZA = 269 pNZ = 0.027% pNZA = 0.030% AD = 67.50% ADA = 60.22% NO = 147 GSP = 53.74% NSP = 44.22%\n",
      "SI2 = -0.25 SI = -6.73 eGROI = 1.23% eROI = -3.51% eROI2 = -1.71% eROI3 = -3.18% mSpread = 0.0323%\n",
      "Getting extended results...\n"
     ]
    },
    {
     "name": "stderr",
     "output_type": "stream",
     "text": [
      "100%|████████████████████████████████████████████████████████████████████████████████| 40/40 [00:00<00:00, 1542.52it/s]\n"
     ]
    },
    {
     "name": "stdout",
     "output_type": "stream",
     "text": [
      "Epoch = 10. Time index = mean. Threshold MC = 0.8. Threshold MD = 0.8\n",
      "RD = 25 NZ = 36 NZA = 41 pNZ = 0.004% pNZA = 0.005% AD = 69.44% ADA = 60.98% NO = 24 GSP = 54.17% NSP = 33.33%\n",
      "SI2 = -0.41 SI = -3.20 eGROI = 0.18% eROI = -0.80% eROI2 = -0.30% eROI3 = -0.54% mSpread = 0.0405%\n",
      "Getting extended results...\n"
     ]
    },
    {
     "name": "stderr",
     "output_type": "stream",
     "text": [
      "100%|███████████████████████████████████████████████████████████████████████████████████| 1/1 [00:00<00:00, 334.47it/s]\n"
     ]
    },
    {
     "name": "stdout",
     "output_type": "stream",
     "text": [
      "Epoch = 10. Time index = mean. Threshold MC = 0.8. Threshold MD = 0.85\n",
      "RD = 0 NZ = 2 NZA = 2 pNZ = 0.000% pNZA = 0.000% AD = 0.00% ADA = 0.00% NO = 2 GSP = 0.00% NSP = 0.00%\n",
      "SI2 = -1.41 SI = -1.41 eGROI = -0.14% eROI = -0.23% eROI2 = -0.18% eROI3 = -0.20% mSpread = 0.0487%\n",
      "Getting extended results...\n"
     ]
    },
    {
     "name": "stderr",
     "output_type": "stream",
     "text": [
      "0it [00:00, ?it/s]\n"
     ]
    },
    {
     "name": "stdout",
     "output_type": "stream",
     "text": [
      "Epoch = 10. Time index = mean. Threshold MC = 0.8. Threshold MD = 0.9\n",
      "RD = 0 NZ = 0 NZA = 0 pNZ = 0.000% pNZA = 0.000% AD = 0.00% ADA = 0.00% NO = 1 GSP = 0.00% NSP = 0.00%\n",
      "SI2 = 0.00 SI = -1.00 eGROI = 0.00% eROI = 0.00% eROI2 = 0.00% eROI3 = 0.00% mSpread = 0.0000%\n",
      "Getting extended results...\n"
     ]
    },
    {
     "name": "stderr",
     "output_type": "stream",
     "text": [
      "0it [00:00, ?it/s]\n"
     ]
    },
    {
     "name": "stdout",
     "output_type": "stream",
     "text": [
      "Epoch = 10. Time index = mean. Threshold MC = 0.8. Threshold MD = 0.95\n",
      "RD = 0 NZ = 0 NZA = 0 pNZ = 0.000% pNZA = 0.000% AD = 0.00% ADA = 0.00% NO = 1 GSP = 0.00% NSP = 0.00%\n",
      "SI2 = 0.00 SI = -1.00 eGROI = 0.00% eROI = 0.00% eROI2 = 0.00% eROI3 = 0.00% mSpread = 0.0000%\n",
      "\n",
      "Getting extended results...\n"
     ]
    },
    {
     "name": "stderr",
     "output_type": "stream",
     "text": [
      "0it [00:00, ?it/s]\n"
     ]
    },
    {
     "name": "stdout",
     "output_type": "stream",
     "text": [
      "Epoch = 10. Time index = mean. Threshold MC = 0.85. Threshold MD = 0.5\n",
      "RD = 96551 NZ = 185729 NZA = 215576 pNZ = 20.698% pNZA = 24.025% AD = 51.98% ADA = 44.79% NO = 1 GSP = 0.00% NSP = 0.00%\n",
      "SI2 = 0.00 SI = -1.00 eGROI = 0.00% eROI = 0.00% eROI2 = 0.00% eROI3 = 0.00% mSpread = 0.0000%\n",
      "Getting extended results...\n"
     ]
    },
    {
     "name": "stderr",
     "output_type": "stream",
     "text": [
      "100%|██████████████████████████████████████████████████████████████████████████| 43852/43852 [00:08<00:00, 4941.48it/s]\n"
     ]
    },
    {
     "name": "stdout",
     "output_type": "stream",
     "text": [
      "Epoch = 10. Time index = mean. Threshold MC = 0.85. Threshold MD = 0.55\n",
      "RD = 20946 NZ = 37981 NZA = 43853 pNZ = 4.233% pNZA = 4.887% AD = 55.15% ADA = 47.76% NO = 8627 GSP = 56.82% NSP = 46.69%\n",
      "SI2 = -2.83 SI = -49.51 eGROI = 86.30% eROI = -124.64% eROI2 = -86.24% eROI3 = -172.51% mSpread = 0.0245%\n",
      "Getting extended results...\n"
     ]
    },
    {
     "name": "stderr",
     "output_type": "stream",
     "text": [
      "100%|████████████████████████████████████████████████████████████████████████████| 6490/6490 [00:01<00:00, 4420.66it/s]\n"
     ]
    },
    {
     "name": "stdout",
     "output_type": "stream",
     "text": [
      "Epoch = 10. Time index = mean. Threshold MC = 0.85. Threshold MD = 0.6\n",
      "RD = 3539 NZ = 5761 NZA = 6491 pNZ = 0.642% pNZA = 0.723% AD = 61.43% ADA = 54.52% NO = 2022 GSP = 59.25% NSP = 49.26%\n",
      "SI2 = 1.78 SI = -22.81 eGROI = 48.12% eROI = -4.50% eROI2 = 7.68% eROI3 = -12.54% mSpread = 0.0260%\n",
      "Getting extended results...\n"
     ]
    },
    {
     "name": "stderr",
     "output_type": "stream",
     "text": [
      "100%|████████████████████████████████████████████████████████████████████████████| 1550/1550 [00:00<00:00, 3700.26it/s]\n"
     ]
    },
    {
     "name": "stdout",
     "output_type": "stream",
     "text": [
      "Epoch = 10. Time index = mean. Threshold MC = 0.85. Threshold MD = 0.65\n",
      "RD = 915 NZ = 1390 NZA = 1551 pNZ = 0.155% pNZA = 0.173% AD = 65.83% ADA = 58.99% NO = 642 GSP = 62.77% NSP = 51.09%\n",
      "SI2 = 2.92 SI = -12.37 eGROI = 23.67% eROI = 5.62% eROI2 = 10.83% eROI3 = 4.41% mSpread = 0.0281%\n",
      "Getting extended results...\n"
     ]
    },
    {
     "name": "stderr",
     "output_type": "stream",
     "text": [
      "100%|██████████████████████████████████████████████████████████████████████████████| 447/447 [00:00<00:00, 2371.38it/s]\n"
     ]
    },
    {
     "name": "stdout",
     "output_type": "stream",
     "text": [
      "Epoch = 10. Time index = mean. Threshold MC = 0.85. Threshold MD = 0.7\n",
      "RD = 272 NZ = 394 NZA = 448 pNZ = 0.044% pNZA = 0.050% AD = 69.04% ADA = 60.71% NO = 248 GSP = 60.08% NSP = 47.98%\n",
      "SI2 = 0.64 SI = -8.16 eGROI = 5.94% eROI = -1.10% eROI2 = 0.98% eROI3 = -1.50% mSpread = 0.0284%\n",
      "Getting extended results...\n"
     ]
    },
    {
     "name": "stderr",
     "output_type": "stream",
     "text": [
      "100%|██████████████████████████████████████████████████████████████████████████████| 106/106 [00:00<00:00, 2471.64it/s]\n"
     ]
    },
    {
     "name": "stdout",
     "output_type": "stream",
     "text": [
      "Epoch = 10. Time index = mean. Threshold MC = 0.85. Threshold MD = 0.75\n",
      "RD = 71 NZ = 98 NZA = 107 pNZ = 0.011% pNZA = 0.012% AD = 72.45% ADA = 66.36% NO = 80 GSP = 60.00% NSP = 48.75%\n",
      "SI2 = 0.89 SI = -4.53 eGROI = 1.39% eROI = -1.20% eROI2 = -0.21% eROI3 = -1.01% mSpread = 0.0323%\n",
      "Getting extended results...\n"
     ]
    },
    {
     "name": "stderr",
     "output_type": "stream",
     "text": [
      "100%|████████████████████████████████████████████████████████████████████████████████| 14/14 [00:00<00:00, 1559.59it/s]\n"
     ]
    },
    {
     "name": "stdout",
     "output_type": "stream",
     "text": [
      "Epoch = 10. Time index = mean. Threshold MC = 0.85. Threshold MD = 0.8\n",
      "RD = 11 NZ = 13 NZA = 15 pNZ = 0.001% pNZA = 0.002% AD = 84.62% ADA = 73.33% NO = 14 GSP = 50.00% NSP = 42.86%\n",
      "SI2 = -0.53 SI = -2.02 eGROI = 0.17% eROI = -0.43% eROI2 = -0.11% eROI3 = -0.25% mSpread = 0.0427%\n",
      "Getting extended results...\n"
     ]
    },
    {
     "name": "stderr",
     "output_type": "stream",
     "text": [
      "0it [00:00, ?it/s]\n"
     ]
    },
    {
     "name": "stdout",
     "output_type": "stream",
     "text": [
      "Epoch = 10. Time index = mean. Threshold MC = 0.85. Threshold MD = 0.85\n",
      "RD = 0 NZ = 1 NZA = 1 pNZ = 0.000% pNZA = 0.000% AD = 0.00% ADA = 0.00% NO = 1 GSP = 0.00% NSP = 0.00%\n",
      "SI2 = -1.00 SI = -1.00 eGROI = -0.02% eROI = -0.07% eROI2 = -0.04% eROI3 = -0.05% mSpread = 0.0427%\n",
      "Getting extended results...\n"
     ]
    },
    {
     "name": "stderr",
     "output_type": "stream",
     "text": [
      "0it [00:00, ?it/s]\n"
     ]
    },
    {
     "name": "stdout",
     "output_type": "stream",
     "text": [
      "Epoch = 10. Time index = mean. Threshold MC = 0.85. Threshold MD = 0.9\n",
      "RD = 0 NZ = 0 NZA = 0 pNZ = 0.000% pNZA = 0.000% AD = 0.00% ADA = 0.00% NO = 1 GSP = 0.00% NSP = 0.00%\n",
      "SI2 = 0.00 SI = -1.00 eGROI = 0.00% eROI = 0.00% eROI2 = 0.00% eROI3 = 0.00% mSpread = 0.0000%\n",
      "Getting extended results...\n"
     ]
    },
    {
     "name": "stderr",
     "output_type": "stream",
     "text": [
      "0it [00:00, ?it/s]\n"
     ]
    },
    {
     "name": "stdout",
     "output_type": "stream",
     "text": [
      "Epoch = 10. Time index = mean. Threshold MC = 0.85. Threshold MD = 0.95\n",
      "RD = 0 NZ = 0 NZA = 0 pNZ = 0.000% pNZA = 0.000% AD = 0.00% ADA = 0.00% NO = 1 GSP = 0.00% NSP = 0.00%\n",
      "SI2 = 0.00 SI = -1.00 eGROI = 0.00% eROI = 0.00% eROI2 = 0.00% eROI3 = 0.00% mSpread = 0.0000%\n",
      "\n",
      "Getting extended results...\n"
     ]
    },
    {
     "name": "stderr",
     "output_type": "stream",
     "text": [
      "100%|██████████████████████████████████████████████████████████████████████████| 12977/12977 [00:02<00:00, 5138.81it/s]\n"
     ]
    },
    {
     "name": "stdout",
     "output_type": "stream",
     "text": [
      "Epoch = 10. Time index = mean. Threshold MC = 0.9. Threshold MD = 0.5\n",
      "RD = 6505 NZ = 11805 NZA = 12978 pNZ = 1.316% pNZA = 1.446% AD = 55.10% ADA = 50.12% NO = 1578 GSP = 56.02% NSP = 48.16%\n",
      "SI2 = 0.15 SI = -20.58 eGROI = 12.99% eROI = -25.12% eROI2 = -18.57% eROI3 = -34.35% mSpread = 0.0242%\n",
      "Getting extended results...\n"
     ]
    },
    {
     "name": "stderr",
     "output_type": "stream",
     "text": [
      "100%|████████████████████████████████████████████████████████████████████████████| 6722/6722 [00:01<00:00, 4985.88it/s]\n"
     ]
    },
    {
     "name": "stdout",
     "output_type": "stream",
     "text": [
      "Epoch = 10. Time index = mean. Threshold MC = 0.9. Threshold MD = 0.55\n",
      "RD = 3495 NZ = 6102 NZA = 6723 pNZ = 0.680% pNZA = 0.749% AD = 57.28% ADA = 51.99% NO = 1275 GSP = 57.33% NSP = 50.51%\n",
      "SI2 = 1.26 SI = -17.66 eGROI = 25.26% eROI = -5.79% eROI2 = -0.24% eROI3 = -12.99% mSpread = 0.0244%\n",
      "Getting extended results...\n"
     ]
    },
    {
     "name": "stderr",
     "output_type": "stream",
     "text": [
      "100%|████████████████████████████████████████████████████████████████████████████| 2504/2504 [00:00<00:00, 3775.42it/s]\n"
     ]
    },
    {
     "name": "stdout",
     "output_type": "stream",
     "text": [
      "Epoch = 10. Time index = mean. Threshold MC = 0.9. Threshold MD = 0.6\n",
      "RD = 1445 NZ = 2293 NZA = 2505 pNZ = 0.256% pNZA = 0.279% AD = 63.02% ADA = 57.68% NO = 711 GSP = 64.14% NSP = 56.96%\n",
      "SI2 = 4.54 SI = -11.45 eGROI = 32.29% eROI = 14.74% eROI2 = 18.07% eROI3 = 10.96% mSpread = 0.0247%\n",
      "Getting extended results...\n"
     ]
    },
    {
     "name": "stderr",
     "output_type": "stream",
     "text": [
      "100%|██████████████████████████████████████████████████████████████████████████████| 772/772 [00:00<00:00, 3534.48it/s]\n"
     ]
    },
    {
     "name": "stdout",
     "output_type": "stream",
     "text": [
      "Epoch = 10. Time index = mean. Threshold MC = 0.9. Threshold MD = 0.65\n",
      "RD = 464 NZ = 710 NZA = 773 pNZ = 0.079% pNZA = 0.086% AD = 65.35% ADA = 60.03% NO = 279 GSP = 63.44% NSP = 58.06%\n",
      "SI2 = 3.17 SI = -6.97 eGROI = 14.54% eROI = 7.46% eROI2 = 8.96% eROI3 = 6.17% mSpread = 0.0254%\n",
      "Getting extended results...\n"
     ]
    },
    {
     "name": "stderr",
     "output_type": "stream",
     "text": [
      "100%|██████████████████████████████████████████████████████████████████████████████| 219/219 [00:00<00:00, 2889.23it/s]\n"
     ]
    },
    {
     "name": "stdout",
     "output_type": "stream",
     "text": [
      "Epoch = 10. Time index = mean. Threshold MC = 0.9. Threshold MD = 0.7\n",
      "RD = 134 NZ = 198 NZA = 220 pNZ = 0.022% pNZA = 0.025% AD = 67.68% ADA = 60.91% NO = 116 GSP = 56.90% NSP = 53.45%\n",
      "SI2 = 0.74 SI = -4.96 eGROI = 4.28% eROI = 1.34% eROI2 = 1.96% eROI3 = 0.80% mSpread = 0.0254%\n",
      "Getting extended results...\n"
     ]
    },
    {
     "name": "stderr",
     "output_type": "stream",
     "text": [
      "100%|████████████████████████████████████████████████████████████████████████████████| 37/37 [00:00<00:00, 1854.84it/s]\n"
     ]
    },
    {
     "name": "stdout",
     "output_type": "stream",
     "text": [
      "Epoch = 10. Time index = mean. Threshold MC = 0.9. Threshold MD = 0.75\n",
      "RD = 22 NZ = 34 NZA = 38 pNZ = 0.004% pNZA = 0.004% AD = 64.71% ADA = 57.89% NO = 35 GSP = 60.00% NSP = 57.14%\n",
      "SI2 = 0.85 SI = -2.44 eGROI = 0.78% eROI = -0.21% eROI2 = 0.08% eROI3 = -0.27% mSpread = 0.0283%\n",
      "Getting extended results...\n"
     ]
    },
    {
     "name": "stderr",
     "output_type": "stream",
     "text": [
      "100%|██████████████████████████████████████████████████████████████████████████████████| 3/3 [00:00<00:00, 1003.02it/s]\n"
     ]
    },
    {
     "name": "stdout",
     "output_type": "stream",
     "text": [
      "Epoch = 10. Time index = mean. Threshold MC = 0.9. Threshold MD = 0.8\n",
      "RD = 2 NZ = 3 NZA = 4 pNZ = 0.000% pNZA = 0.000% AD = 66.67% ADA = 50.00% NO = 4 GSP = 50.00% NSP = 50.00%\n",
      "SI2 = 0.00 SI = -0.75 eGROI = -0.16% eROI = -0.32% eROI2 = -0.24% eROI3 = -0.28% mSpread = 0.0388%\n",
      "Getting extended results...\n"
     ]
    },
    {
     "name": "stderr",
     "output_type": "stream",
     "text": [
      "0it [00:00, ?it/s]\n"
     ]
    },
    {
     "name": "stdout",
     "output_type": "stream",
     "text": [
      "Epoch = 10. Time index = mean. Threshold MC = 0.9. Threshold MD = 0.85\n",
      "RD = 0 NZ = 0 NZA = 0 pNZ = 0.000% pNZA = 0.000% AD = 0.00% ADA = 0.00% NO = 1 GSP = 0.00% NSP = 0.00%\n",
      "SI2 = 0.00 SI = -1.00 eGROI = 0.00% eROI = 0.00% eROI2 = 0.00% eROI3 = 0.00% mSpread = 0.0000%\n",
      "Getting extended results...\n"
     ]
    },
    {
     "name": "stderr",
     "output_type": "stream",
     "text": [
      "0it [00:00, ?it/s]\n"
     ]
    },
    {
     "name": "stdout",
     "output_type": "stream",
     "text": [
      "Epoch = 10. Time index = mean. Threshold MC = 0.9. Threshold MD = 0.9\n",
      "RD = 0 NZ = 0 NZA = 0 pNZ = 0.000% pNZA = 0.000% AD = 0.00% ADA = 0.00% NO = 1 GSP = 0.00% NSP = 0.00%\n",
      "SI2 = 0.00 SI = -1.00 eGROI = 0.00% eROI = 0.00% eROI2 = 0.00% eROI3 = 0.00% mSpread = 0.0000%\n",
      "Getting extended results...\n"
     ]
    },
    {
     "name": "stderr",
     "output_type": "stream",
     "text": [
      "0it [00:00, ?it/s]\n"
     ]
    },
    {
     "name": "stdout",
     "output_type": "stream",
     "text": [
      "Epoch = 10. Time index = mean. Threshold MC = 0.9. Threshold MD = 0.95\n",
      "RD = 0 NZ = 0 NZA = 0 pNZ = 0.000% pNZA = 0.000% AD = 0.00% ADA = 0.00% NO = 1 GSP = 0.00% NSP = 0.00%\n",
      "SI2 = 0.00 SI = -1.00 eGROI = 0.00% eROI = 0.00% eROI2 = 0.00% eROI3 = 0.00% mSpread = 0.0000%\n",
      "\n",
      "Getting extended results...\n"
     ]
    },
    {
     "name": "stderr",
     "output_type": "stream",
     "text": [
      "100%|████████████████████████████████████████████████████████████████████████████████| 79/79 [00:00<00:00, 2731.34it/s]\n"
     ]
    },
    {
     "name": "stdout",
     "output_type": "stream",
     "text": [
      "Epoch = 10. Time index = mean. Threshold MC = 0.95. Threshold MD = 0.5\n",
      "RD = 39 NZ = 76 NZA = 80 pNZ = 0.008% pNZA = 0.009% AD = 51.32% ADA = 48.75% NO = 31 GSP = 51.61% NSP = 51.61%\n",
      "SI2 = 0.18 SI = -2.60 eGROI = 1.18% eROI = 0.43% eROI2 = 0.56% eROI3 = 0.25% mSpread = 0.0242%\n",
      "Getting extended results...\n"
     ]
    },
    {
     "name": "stderr",
     "output_type": "stream",
     "text": [
      "100%|████████████████████████████████████████████████████████████████████████████████| 45/45 [00:00<00:00, 2148.77it/s]\n"
     ]
    },
    {
     "name": "stdout",
     "output_type": "stream",
     "text": [
      "Epoch = 10. Time index = mean. Threshold MC = 0.95. Threshold MD = 0.55\n",
      "RD = 23 NZ = 42 NZA = 46 pNZ = 0.005% pNZA = 0.005% AD = 54.76% ADA = 50.00% NO = 25 GSP = 60.00% NSP = 56.00%\n",
      "SI2 = 1.00 SI = -2.09 eGROI = 2.46% eROI = 1.84% eROI2 = 1.96% eROI3 = 1.71% mSpread = 0.0247%\n",
      "Getting extended results...\n"
     ]
    },
    {
     "name": "stderr",
     "output_type": "stream",
     "text": [
      "100%|████████████████████████████████████████████████████████████████████████████████| 18/18 [00:00<00:00, 1388.33it/s]\n"
     ]
    },
    {
     "name": "stdout",
     "output_type": "stream",
     "text": [
      "Epoch = 10. Time index = mean. Threshold MC = 0.95. Threshold MD = 0.6\n",
      "RD = 10 NZ = 17 NZA = 19 pNZ = 0.002% pNZA = 0.002% AD = 58.82% ADA = 52.63% NO = 17 GSP = 52.94% NSP = 52.94%\n",
      "SI2 = 0.24 SI = -1.81 eGROI = 1.89% eROI = 1.48% eROI2 = 1.55% eROI3 = 1.38% mSpread = 0.0246%\n",
      "Getting extended results...\n"
     ]
    },
    {
     "name": "stderr",
     "output_type": "stream",
     "text": [
      "100%|██████████████████████████████████████████████████████████████████████████████████| 4/4 [00:00<00:00, 1003.60it/s]\n"
     ]
    },
    {
     "name": "stdout",
     "output_type": "stream",
     "text": [
      "Epoch = 10. Time index = mean. Threshold MC = 0.95. Threshold MD = 0.65\n",
      "RD = 2 NZ = 5 NZA = 5 pNZ = 0.001% pNZA = 0.001% AD = 40.00% ADA = 40.00% NO = 5 GSP = 40.00% NSP = 40.00%\n",
      "SI2 = -0.45 SI = -1.16 eGROI = -0.30% eROI = -0.43% eROI2 = -0.40% eROI3 = -0.45% mSpread = 0.0264%\n",
      "Getting extended results...\n"
     ]
    },
    {
     "name": "stderr",
     "output_type": "stream",
     "text": [
      "0it [00:00, ?it/s]\n"
     ]
    },
    {
     "name": "stdout",
     "output_type": "stream",
     "text": [
      "Epoch = 10. Time index = mean. Threshold MC = 0.95. Threshold MD = 0.7\n",
      "RD = 1 NZ = 1 NZA = 1 pNZ = 0.000% pNZA = 0.000% AD = 100.00% ADA = 100.00% NO = 1 GSP = 100.00% NSP = 100.00%\n",
      "SI2 = 1.00 SI = 1.00 eGROI = 0.26% eROI = 0.23% eROI2 = 0.24% eROI3 = 0.23% mSpread = 0.0384%\n",
      "Getting extended results...\n"
     ]
    },
    {
     "name": "stderr",
     "output_type": "stream",
     "text": [
      "0it [00:00, ?it/s]\n"
     ]
    },
    {
     "name": "stdout",
     "output_type": "stream",
     "text": [
      "Epoch = 10. Time index = mean. Threshold MC = 0.95. Threshold MD = 0.75\n",
      "RD = 1 NZ = 1 NZA = 1 pNZ = 0.000% pNZA = 0.000% AD = 100.00% ADA = 100.00% NO = 1 GSP = 100.00% NSP = 100.00%\n",
      "SI2 = 1.00 SI = 1.00 eGROI = 0.26% eROI = 0.23% eROI2 = 0.24% eROI3 = 0.23% mSpread = 0.0384%\n",
      "Getting extended results...\n"
     ]
    },
    {
     "name": "stderr",
     "output_type": "stream",
     "text": [
      "0it [00:00, ?it/s]\n"
     ]
    },
    {
     "name": "stdout",
     "output_type": "stream",
     "text": [
      "Epoch = 10. Time index = mean. Threshold MC = 0.95. Threshold MD = 0.8\n",
      "RD = 0 NZ = 0 NZA = 0 pNZ = 0.000% pNZA = 0.000% AD = 0.00% ADA = 0.00% NO = 1 GSP = 0.00% NSP = 0.00%\n",
      "SI2 = 0.00 SI = -1.00 eGROI = 0.00% eROI = 0.00% eROI2 = 0.00% eROI3 = 0.00% mSpread = 0.0000%\n",
      "Getting extended results...\n"
     ]
    },
    {
     "name": "stderr",
     "output_type": "stream",
     "text": [
      "0it [00:00, ?it/s]\n"
     ]
    },
    {
     "name": "stdout",
     "output_type": "stream",
     "text": [
      "Epoch = 10. Time index = mean. Threshold MC = 0.95. Threshold MD = 0.85\n",
      "RD = 0 NZ = 0 NZA = 0 pNZ = 0.000% pNZA = 0.000% AD = 0.00% ADA = 0.00% NO = 1 GSP = 0.00% NSP = 0.00%\n",
      "SI2 = 0.00 SI = -1.00 eGROI = 0.00% eROI = 0.00% eROI2 = 0.00% eROI3 = 0.00% mSpread = 0.0000%\n",
      "Getting extended results...\n"
     ]
    },
    {
     "name": "stderr",
     "output_type": "stream",
     "text": [
      "0it [00:00, ?it/s]\n"
     ]
    },
    {
     "name": "stdout",
     "output_type": "stream",
     "text": [
      "Epoch = 10. Time index = mean. Threshold MC = 0.95. Threshold MD = 0.9\n",
      "RD = 0 NZ = 0 NZA = 0 pNZ = 0.000% pNZA = 0.000% AD = 0.00% ADA = 0.00% NO = 1 GSP = 0.00% NSP = 0.00%\n",
      "SI2 = 0.00 SI = -1.00 eGROI = 0.00% eROI = 0.00% eROI2 = 0.00% eROI3 = 0.00% mSpread = 0.0000%\n",
      "Getting extended results...\n"
     ]
    },
    {
     "name": "stderr",
     "output_type": "stream",
     "text": [
      "0it [00:00, ?it/s]\n"
     ]
    },
    {
     "name": "stdout",
     "output_type": "stream",
     "text": [
      "Epoch = 10. Time index = mean. Threshold MC = 0.95. Threshold MD = 0.95\n",
      "RD = 0 NZ = 0 NZA = 0 pNZ = 0.000% pNZA = 0.000% AD = 0.00% ADA = 0.00% NO = 1 GSP = 0.00% NSP = 0.00%\n",
      "SI2 = 0.00 SI = -1.00 eGROI = 0.00% eROI = 0.00% eROI2 = 0.00% eROI3 = 0.00% mSpread = 0.0000%\n",
      "\n",
      "Best eGROI = 118.81 t_index 0 thr_mc 0.8 thr_md 0.55 epoch 10 in 15310 GSP 57.42 ADA 47.08 AD 56.06\n",
      "Best eROI = 14.74 t_index mean thr_mc 0.9 thr_md 0.6 epoch 10 in 711 GSP 64.14 ADA 57.68 AD 63.02\n",
      "Best eROI.5 = 43.16 t_index mean thr_mc 0.85 thr_md 0.55 epoch 10 in 8627 GSP 56.82 ADA 47.76 AD 55.15\n",
      "Best eROI1 = 27.90 t_index mean thr_mc 0.85 thr_md 0.6 epoch 10 in 2022 GSP 59.25 ADA 54.52 AD 61.43\n",
      "Best eROI1.5 = 21.63 t_index mean thr_mc 0.9 thr_md 0.6 epoch 10 in 711 GSP 64.14 ADA 57.68 AD 63.02\n",
      "Best eROI2 = 18.07 t_index mean thr_mc 0.9 thr_md 0.6 epoch 10 in 711 GSP 64.14 ADA 57.68 AD 63.02\n",
      "Best eROI3 = 10.96 t_index mean thr_mc 0.9 thr_md 0.6 epoch 10 in 711 GSP 64.14 ADA 57.68 AD 63.02\n",
      "Best eROI4 = 5.65 t_index 3 thr_mc 0.9 thr_md 0.65 epoch 10 in 392 GSP 65.31 ADA 57.59 AD 62.83\n",
      "Best eROI5 = 2.01 t_index 2 thr_mc 0.9 thr_md 0.7 epoch 10 in 199 GSP 64.32 ADA 61.40 AD 66.59\n",
      "Best SI = 1.00 t_index 0 thr_mc 0.9 thr_md 0.8 epoch 10 in 1 GSP 100.00 ADA 100.00 AD 100.00\n",
      "Best SI.5 = 13.01 t_index 0 thr_mc 0.8 thr_md 0.55 epoch 10 in 15310 GSP 57.42 ADA 47.08 AD 56.06\n",
      "Best SI1 = 6.80 t_index 0 thr_mc 0.8 thr_md 0.55 epoch 10 in 15310 GSP 57.42 ADA 47.08 AD 56.06\n",
      "Best SI1.5 = 5.51 t_index mean thr_mc 0.9 thr_md 0.6 epoch 10 in 711 GSP 64.14 ADA 57.68 AD 63.02\n",
      "Best SI2 = 4.54 t_index 1 thr_mc 0.9 thr_md 0.65 epoch 10 in 342 GSP 66.96 ADA 60.93 AD 66.27\n",
      "Best SI3 = 3.24 t_index 1 thr_mc 0.9 thr_md 0.65 epoch 10 in 342 GSP 66.96 ADA 60.93 AD 66.27\n",
      "Best SI4 = 1.73 t_index 1 thr_mc 0.9 thr_md 0.65 epoch 10 in 342 GSP 66.96 ADA 60.93 AD 66.27\n",
      "Best SI5 = 1.00 t_index 0 thr_mc 0.9 thr_md 0.7 epoch 10 in 49 GSP 65.31 ADA 65.31 AD 71.11\n",
      "Best 99eGROI = 162.23 t_index 0 thr_mc 0.8 thr_md 0.55 epoch 10 in 15310 GSP 57.42 ADA 47.08 AD 56.06\n",
      "Best 99eROI = 15.67 t_index mean thr_mc 0.9 thr_md 0.6 epoch 10 in 711 GSP 64.14 ADA 57.68 AD 63.02\n",
      "Best 99eROI.5 = 93.33 t_index 0 thr_mc 0.8 thr_md 0.55 epoch 10 in 15310 GSP 57.42 ADA 47.08 AD 56.06\n",
      "Best 99eROI1 = 30.07 t_index mean thr_mc 0.85 thr_md 0.55 epoch 10 in 8627 GSP 56.82 ADA 47.76 AD 55.15\n",
      "Best 99eROI1.5 = 21.86 t_index mean thr_mc 0.9 thr_md 0.6 epoch 10 in 711 GSP 64.14 ADA 57.68 AD 63.02\n",
      "Best 99eROI2 = 18.65 t_index mean thr_mc 0.9 thr_md 0.6 epoch 10 in 711 GSP 64.14 ADA 57.68 AD 63.02\n",
      "Best 99eROI3 = 12.24 t_index mean thr_mc 0.9 thr_md 0.6 epoch 10 in 711 GSP 64.14 ADA 57.68 AD 63.02\n",
      "Best 99eROI4 = 5.83 t_index mean thr_mc 0.9 thr_md 0.6 epoch 10 in 711 GSP 64.14 ADA 57.68 AD 63.02\n",
      "Best 99eROI5 = 2.74 t_index 2 thr_mc 0.9 thr_md 0.7 epoch 10 in 199 GSP 64.32 ADA 61.40 AD 66.59\n",
      "\n",
      "The very best:\n",
      "Best eGROI = 118.81 t_index 0 thr_mc 0.8 thr_md 0.55 epoch 10 in 15310 GSP 57.42 ADA 47.08 AD 56.06\n",
      "Best eROI = 14.74 t_index mean thr_mc 0.9 thr_md 0.6 epoch 10 in 711 GSP 64.14 ADA 57.68 AD 63.02\n",
      "Best eROI.5 = 43.16 t_index mean thr_mc 0.85 thr_md 0.55 epoch 10 in 8627 GSP 56.82 ADA 47.76 AD 55.15\n",
      "Best eROI1 = 27.90 t_index mean thr_mc 0.85 thr_md 0.6 epoch 10 in 2022 GSP 59.25 ADA 54.52 AD 61.43\n",
      "Best eROI1.5 = 21.63 t_index mean thr_mc 0.9 thr_md 0.6 epoch 10 in 711 GSP 64.14 ADA 57.68 AD 63.02\n",
      "Best eROI2 = 18.07 t_index mean thr_mc 0.9 thr_md 0.6 epoch 10 in 711 GSP 64.14 ADA 57.68 AD 63.02\n",
      "Best eROI3 = 10.96 t_index mean thr_mc 0.9 thr_md 0.6 epoch 10 in 711 GSP 64.14 ADA 57.68 AD 63.02\n",
      "Best eROI4 = 5.65 t_index 3 thr_mc 0.9 thr_md 0.65 epoch 10 in 392 GSP 65.31 ADA 57.59 AD 62.83\n",
      "Best eROI5 = 2.01 t_index 2 thr_mc 0.9 thr_md 0.7 epoch 10 in 199 GSP 64.32 ADA 61.40 AD 66.59\n",
      "Best SI = 1.00 t_index 0 thr_mc 0.9 thr_md 0.8 epoch 10 in 1 GSP 100.00 ADA 100.00 AD 100.00\n",
      "Best SI.5 = 13.01 t_index 0 thr_mc 0.8 thr_md 0.55 epoch 10 in 15310 GSP 57.42 ADA 47.08 AD 56.06\n",
      "Best SI1 = 6.80 t_index 0 thr_mc 0.8 thr_md 0.55 epoch 10 in 15310 GSP 57.42 ADA 47.08 AD 56.06\n",
      "Best SI1.5 = 5.51 t_index mean thr_mc 0.9 thr_md 0.6 epoch 10 in 711 GSP 64.14 ADA 57.68 AD 63.02\n",
      "Best SI2 = 4.54 t_index 1 thr_mc 0.9 thr_md 0.65 epoch 10 in 342 GSP 66.96 ADA 60.93 AD 66.27\n",
      "Best SI3 = 3.24 t_index 1 thr_mc 0.9 thr_md 0.65 epoch 10 in 342 GSP 66.96 ADA 60.93 AD 66.27\n",
      "Best SI4 = 1.73 t_index 1 thr_mc 0.9 thr_md 0.65 epoch 10 in 342 GSP 66.96 ADA 60.93 AD 66.27\n",
      "Best SI5 = 1.00 t_index 0 thr_mc 0.9 thr_md 0.7 epoch 10 in 49 GSP 65.31 ADA 65.31 AD 71.11\n",
      "Best 99eGROI = 162.23 t_index 0 thr_mc 0.8 thr_md 0.55 epoch 10 in 15310 GSP 57.42 ADA 47.08 AD 56.06\n",
      "Best 99eROI = 15.67 t_index mean thr_mc 0.9 thr_md 0.6 epoch 10 in 711 GSP 64.14 ADA 57.68 AD 63.02\n",
      "Best 99eROI.5 = 93.33 t_index 0 thr_mc 0.8 thr_md 0.55 epoch 10 in 15310 GSP 57.42 ADA 47.08 AD 56.06\n",
      "Best 99eROI1 = 30.07 t_index mean thr_mc 0.85 thr_md 0.55 epoch 10 in 8627 GSP 56.82 ADA 47.76 AD 55.15\n",
      "Best 99eROI1.5 = 21.86 t_index mean thr_mc 0.9 thr_md 0.6 epoch 10 in 711 GSP 64.14 ADA 57.68 AD 63.02\n",
      "Best 99eROI2 = 18.65 t_index mean thr_mc 0.9 thr_md 0.6 epoch 10 in 711 GSP 64.14 ADA 57.68 AD 63.02\n",
      "Best 99eROI3 = 12.24 t_index mean thr_mc 0.9 thr_md 0.6 epoch 10 in 711 GSP 64.14 ADA 57.68 AD 63.02\n",
      "Best 99eROI4 = 5.83 t_index mean thr_mc 0.9 thr_md 0.6 epoch 10 in 711 GSP 64.14 ADA 57.68 AD 63.02\n",
      "Best 99eROI5 = 2.74 t_index 2 thr_mc 0.9 thr_md 0.7 epoch 10 in 199 GSP 64.32 ADA 61.40 AD 66.59\n",
      "Time=663.63 secs\n",
      "INFO:tensorflow:Restoring parameters from C:/Users/mgutierrez/root/Projects/SDC/py/RNN/weights/WRNN01040k2K5A/000011/000011\n",
      "Parameters loaded. Epoch 11\n",
      "Epoch 11 of 14. Getting output...\n"
     ]
    },
    {
     "name": "stderr",
     "output_type": "stream",
     "text": [
      " 76%|█████████████████████████████████████████████████████████████                   | 669/877 [01:01<00:21,  9.68it/s]"
     ]
    }
   ],
   "source": [
    "entries = {'thresholds_mc':thresholds_mc,'thresholds_md':thresholds_md,'resolution':resolution,'results_from':results_from,'startFrom':10,\n",
    "           'endAt':-1,'save_journal':save_journal,'feats_from_bids':feats_from_bids,'size_output_layer':8,'n_bits_outputs':[1,2,5],\n",
    "           'combine_ts':{'if_combine':True,'params_combine':[{'alg':'mean'}]},'outputGain':outputGain,'movingWindow':movingWindow,\n",
    "           'nEventsPerStat':nEventsPerStat,'t_indexes':t_indexes}\n",
    "automate_Kfold(rootname_config, entries=entries, K=K, tAt='Te', IDrs=IDrs, build_IDrs=False,\n",
    "            its=1, sufix=sufix, IDr_merged=IDr_merged,k_init=k_init, k_end=k_end,if_merge_results=False)"
   ]
  },
  {
   "cell_type": "code",
   "execution_count": null,
   "metadata": {},
   "outputs": [],
   "source": [
    "from kaissandra.automate import automate_Kfold\n",
    "\n",
    "rootname_config = 'RNN01021'\n",
    "extR = 'AL'\n",
    "sufix='R20'\n",
    "K = 5\n",
    "k_end = 2\n",
    "resolution = 20\n",
    "k_init = 1\n",
    "outputGain = 0.8\n",
    "movingWindow = 200\n",
    "nEventsPerStat = 2000\n",
    "results_from = 'ASKS'\n",
    "feats_from_bids = False\n",
    "save_journal = True\n",
    "thresholds_mc = [int(np.round((.5+i/resolution)*100))/100 for i in range(int(resolution/2))]\n",
    "thresholds_md = [int(np.round((.5+i/resolution)*100))/100 for i in range(int(resolution/2))]\n",
    "IDrs=['R'+rootname_config+'k'+str(fold_idx+1)+'K'+str(K)+extR+sufix for fold_idx in range(k_end)]\n",
    "IDr_merged=rootname_config+'k'+str(k_init+1)+'-'+str(k_end)+'K'+str(K)+extR+sufix"
   ]
  },
  {
   "cell_type": "code",
   "execution_count": null,
   "metadata": {},
   "outputs": [],
   "source": [
    "entries = {'thresholds_mc':thresholds_mc,'thresholds_md':thresholds_md,'resolution':resolution,'results_from':results_from,'startFrom':9,\n",
    "           'endAt':9,'save_journal':save_journal,'feats_from_bids':feats_from_bids,'size_output_layer':8,'n_bits_outputs':[1,2,5],\n",
    "           'combine_ts':{'if_combine':False,'params_combine':[{'alg':'mean'}]},'outputGain':outputGain,\n",
    "           'movingWindow':movingWindow,'nEventsPerStat':nEventsPerStat}\n",
    "automate_Kfold(rootname_config, entries=entries, K=K, tAt='Te', IDrs=IDrs, build_IDrs=False,\n",
    "            its=1, sufix=sufix, IDr_merged=IDr_merged,k_init=k_init, k_end=k_end,if_merge_results=False)"
   ]
  },
  {
   "cell_type": "code",
   "execution_count": null,
   "metadata": {},
   "outputs": [],
   "source": [
    "from kaissandra.results2 import merge_results\n",
    "merge_results(IDrs, IDr_merged)"
   ]
  },
  {
   "cell_type": "markdown",
   "metadata": {},
   "source": [
    "## Test unseen dataset"
   ]
  },
  {
   "cell_type": "code",
   "execution_count": null,
   "metadata": {},
   "outputs": [],
   "source": [
    "from kaissandra.automate import automate_fixedEdges\n",
    "\n",
    "\n",
    "rootname_config = 'RNN01010'\n",
    "k = 1\n",
    "outputGain = 1\n",
    "movingWindow = 500\n",
    "nEventsPerStat = 5000\n",
    "results_from = 'ASKS'\n",
    "feats_from_bids = False\n",
    "save_journal = True\n",
    "resolution = 10\n",
    "thresholds_mc = [.6]#[int(np.round((.5+i/resolution)*100))/100 for i in range(int(resolution/2))]\n",
    "thresholds_md = [.7]#[int(np.round((.5+i/resolution)*100))/100 for i in range(int(resolution/2))]\n",
    "startFrom = 12\n",
    "endAt = 12\n",
    "sufix='testk'+str(k)+'E'+str(startFrom)+'TmeanC6D6'\n",
    "t_indexes = [0,1,2,3]\n",
    "if feats_from_bids:\n",
    "    ext = 'B'\n",
    "else:\n",
    "    ext = 'A'\n",
    "IDweights = 'W'+rootname_config+'k'+str(k)+'K5'+ext\n",
    "first_day = '2018.11.12'\n",
    "last_day = '2019.03.29'\n",
    "list_index2sets = ['Cv']\n",
    "edge_dates = []\n",
    "combine_ts = {'if_combine':True,'params_combine':[{'alg':'mean'}]}\n",
    "\n",
    "entries = {'thresholds_mc':thresholds_mc,'thresholds_md':thresholds_md,'resolution':resolution,'results_from':results_from,'startFrom':startFrom,\n",
    "           'endAt':endAt,'save_journal':save_journal,'feats_from_bids':feats_from_bids,'size_output_layer':8,'n_bits_outputs':[1,2,5],\n",
    "           'combine_ts':{'if_combine':True,'params_combine':[{'alg':'mean'}]},'outputGain':outputGain,'movingWindow':movingWindow,\n",
    "           'nEventsPerStat':nEventsPerStat,'first_day':first_day,'last_day':last_day,'list_index2sets':list_index2sets,'edge_dates':edge_dates,\n",
    "          'build_test_db':True,'save_stats':False,'t_indexes':t_indexes,'combine_ts':combine_ts}\n",
    "\n",
    "automate_fixedEdges(rootname_config,entries=entries,its=1,tAt='Te',sufix=sufix,IDweights=IDweights)"
   ]
  },
  {
   "cell_type": "code",
   "execution_count": null,
   "metadata": {},
   "outputs": [],
   "source": [
    "entries['feats_from_bids']"
   ]
  },
  {
   "cell_type": "markdown",
   "metadata": {},
   "source": [
    "## Combine Models"
   ]
  },
  {
   "cell_type": "code",
   "execution_count": 21,
   "metadata": {},
   "outputs": [
    {
     "name": "stdout",
     "output_type": "stream",
     "text": [
      "C:\\Users\\mgutierrez\\root\\Projects\\SDC\\py\\kaissandra\\ already in python path\n",
      "The autoreload extension is already loaded. To reload it, use:\n",
      "  %reload_ext autoreload\n",
      "WARNING! Config values have been overwritten with entries values\n",
      "Config file C:/Users/mgutierrez/root/Projects/SDC/py/RNN/config/CRNN01010CMF181112T190426.config exists. Loaded from disk\n",
      "Getting dataset edges...\n",
      "C:/Users/mgutierrez/root/Projects/SDC/py/RNN/IO/DTA_RRNN01010CMF181112T190426A.p\n",
      "Edges:\n",
      "[]\n",
      "C:/Users/mgutierrez/root/Projects/SDC/py/RNN/IO/IOKFWRNN01010CMF181112T190426A.hdf5\n",
      "C:/Users/mgutierrez/root/Projects/SDC/py/RNN/IO/IOKFRRNN01010CMF181112T190426A.hdf5\n",
      "C:/Users/mgutierrez/root/Projects/SDC/py/RNN/IO/DTA_RRNN01010CMF181112T190426A.p\n",
      "Samples for fitting: 0\n",
      "Samples for cross-validation: 389033\n",
      "Total samples: 389033\n",
      "totalSampsPerLevel not in IO :(\n",
      "DONE building IO\n",
      "INFO:tensorflow:Restoring parameters from C:/Users/mgutierrez/root/Projects/SDC/py/RNN/weights/WRNN01010k1K5A/000012/000012\n",
      "Parameters loaded. Epoch 12\n",
      "Epoch 12 of 12. Getting output...\n"
     ]
    },
    {
     "name": "stderr",
     "output_type": "stream",
     "text": [
      "100%|███████████████████████████████████████████████████████████████████████████████████████████████████████████████████████████████████| 380/380 [00:33<00:00, 11.21it/s]\n"
     ]
    },
    {
     "name": "stdout",
     "output_type": "stream",
     "text": [
      "J_test = 13.284653\n",
      "Total time for CV: 0.571993092695872 mins.\n",
      "\n",
      "INFO:tensorflow:Restoring parameters from C:/Users/mgutierrez/root/Projects/SDC/py/RNN/weights/WRNN01010k2K5A/000014/000014\n",
      "Parameters loaded. Epoch 14\n",
      "Epoch 14 of 14. Getting output...\n"
     ]
    },
    {
     "name": "stderr",
     "output_type": "stream",
     "text": [
      "100%|███████████████████████████████████████████████████████████████████████████████████████████████████████████████████████████████████| 380/380 [00:31<00:00, 11.88it/s]\n"
     ]
    },
    {
     "name": "stdout",
     "output_type": "stream",
     "text": [
      "J_test = 12.323366\n",
      "Total time for CV: 0.5412746071815491 mins.\n",
      "\n",
      "INFO:tensorflow:Restoring parameters from C:/Users/mgutierrez/root/Projects/SDC/py/RNN/weights/WRNN01010k3K5A/000013/000013\n",
      "Parameters loaded. Epoch 13\n",
      "Epoch 13 of 13. Getting output...\n"
     ]
    },
    {
     "name": "stderr",
     "output_type": "stream",
     "text": [
      "100%|███████████████████████████████████████████████████████████████████████████████████████████████████████████████████████████████████| 380/380 [00:31<00:00, 11.94it/s]\n"
     ]
    },
    {
     "name": "stdout",
     "output_type": "stream",
     "text": [
      "J_test = 12.870936\n",
      "Total time for CV: 0.5365616917610169 mins.\n",
      "\n",
      "INFO:tensorflow:Restoring parameters from C:/Users/mgutierrez/root/Projects/SDC/py/RNN/weights/WRNN01010k4K5A/000011/000011\n",
      "Parameters loaded. Epoch 11\n",
      "Epoch 11 of 11. Getting output...\n"
     ]
    },
    {
     "name": "stderr",
     "output_type": "stream",
     "text": [
      "100%|███████████████████████████████████████████████████████████████████████████████████████████████████████████████████████████████████| 380/380 [00:31<00:00, 12.09it/s]\n"
     ]
    },
    {
     "name": "stdout",
     "output_type": "stream",
     "text": [
      "J_test = 12.641410\n",
      "Total time for CV: 0.5333674311637878 mins.\n",
      "\n",
      "INFO:tensorflow:Restoring parameters from C:/Users/mgutierrez/root/Projects/SDC/py/RNN/weights/WRNN01010k5K5A/000009/000009\n",
      "Parameters loaded. Epoch 9\n",
      "Epoch 9 of 9. Getting output...\n"
     ]
    },
    {
     "name": "stderr",
     "output_type": "stream",
     "text": [
      "100%|███████████████████████████████████████████████████████████████████████████████████████████████████████████████████████████████████| 380/380 [00:30<00:00, 12.49it/s]\n"
     ]
    },
    {
     "name": "stdout",
     "output_type": "stream",
     "text": [
      "J_test = 12.202218\n",
      "Total time for CV: 0.5156976898511251 mins.\n",
      "\n",
      "Epoch 0, J_train = 0.0, J_test = 12.202218072037947\n",
      "Getting extended results...\n"
     ]
    },
    {
     "name": "stderr",
     "output_type": "stream",
     "text": [
      "100%|███████████████████████████████████████████████████████████████████████████████████████████████████████████████████████████████| 1160/1160 [00:00<00:00, 3294.52it/s]\n"
     ]
    },
    {
     "name": "stdout",
     "output_type": "stream",
     "text": [
      "Epoch = 0. Time index = 0. Threshold MC = 0.7. Threshold MD = 0.6\n",
      "RD = 574 NZ = 878 NZA = 1161 pNZ = 0.226% pNZA = 0.298% AD = 65.38% ADA = 49.44% NO = 330 GSP = 61.21% NSP = 53.94%\n",
      "SI2 = 1.54 SI = -8.34 eGROI = 12.83% eROI = 3.86% eROI2 = 6.23% eROI3 = 2.93% mSpread = 0.0272%\n",
      "\n",
      "Best eGROI = 12.83 t_index 0 thr_mc 0.7 thr_md 0.6 epoch 0 in 330 GSP 61.21 ADA 49.44 AD 65.38\n",
      "Best eROI = 3.86 t_index 0 thr_mc 0.7 thr_md 0.6 epoch 0 in 330 GSP 61.21 ADA 49.44 AD 65.38\n",
      "Best eROI.5 = 11.18 t_index 0 thr_mc 0.7 thr_md 0.6 epoch 0 in 330 GSP 61.21 ADA 49.44 AD 65.38\n",
      "Best eROI1 = 9.53 t_index 0 thr_mc 0.7 thr_md 0.6 epoch 0 in 330 GSP 61.21 ADA 49.44 AD 65.38\n",
      "Best eROI1.5 = 7.88 t_index 0 thr_mc 0.7 thr_md 0.6 epoch 0 in 330 GSP 61.21 ADA 49.44 AD 65.38\n",
      "Best eROI2 = 6.23 t_index 0 thr_mc 0.7 thr_md 0.6 epoch 0 in 330 GSP 61.21 ADA 49.44 AD 65.38\n",
      "Best eROI3 = 2.93 t_index 0 thr_mc 0.7 thr_md 0.6 epoch 0 in 330 GSP 61.21 ADA 49.44 AD 65.38\n",
      "Best eROI4 = -0.37 t_index 0 thr_mc 0.7 thr_md 0.6 epoch 0 in 330 GSP 61.21 ADA 49.44 AD 65.38\n",
      "Best eROI5 = -3.67 t_index 0 thr_mc 0.7 thr_md 0.6 epoch 0 in 330 GSP 61.21 ADA 49.44 AD 65.38\n",
      "Best SI = -8.34 t_index 0 thr_mc 0.7 thr_md 0.6 epoch 0 in 330 GSP 61.21 ADA 49.44 AD 65.38\n",
      "Best SI.5 = 3.85 t_index 0 thr_mc 0.7 thr_md 0.6 epoch 0 in 330 GSP 61.21 ADA 49.44 AD 65.38\n",
      "Best SI1 = 3.19 t_index 0 thr_mc 0.7 thr_md 0.6 epoch 0 in 330 GSP 61.21 ADA 49.44 AD 65.38\n",
      "Best SI1.5 = 2.53 t_index 0 thr_mc 0.7 thr_md 0.6 epoch 0 in 330 GSP 61.21 ADA 49.44 AD 65.38\n",
      "Best SI2 = 1.54 t_index 0 thr_mc 0.7 thr_md 0.6 epoch 0 in 330 GSP 61.21 ADA 49.44 AD 65.38\n",
      "Best SI3 = 0.99 t_index 0 thr_mc 0.7 thr_md 0.6 epoch 0 in 330 GSP 61.21 ADA 49.44 AD 65.38\n",
      "Best SI4 = 0.00 t_index 0 thr_mc 0.7 thr_md 0.6 epoch 0 in 330 GSP 61.21 ADA 49.44 AD 65.38\n",
      "Best SI5 = -0.66 t_index 0 thr_mc 0.7 thr_md 0.6 epoch 0 in 330 GSP 61.21 ADA 49.44 AD 65.38\n",
      "Best 99eGROI = 11.40 t_index 0 thr_mc 0.7 thr_md 0.6 epoch 0 in 330 GSP 61.21 ADA 49.44 AD 65.38\n",
      "Best 99eROI = 3.33 t_index 0 thr_mc 0.7 thr_md 0.6 epoch 0 in 330 GSP 61.21 ADA 49.44 AD 65.38\n",
      "Best 99eROI.5 = 9.91 t_index 0 thr_mc 0.7 thr_md 0.6 epoch 0 in 330 GSP 61.21 ADA 49.44 AD 65.38\n",
      "Best 99eROI1 = 8.42 t_index 0 thr_mc 0.7 thr_md 0.6 epoch 0 in 330 GSP 61.21 ADA 49.44 AD 65.38\n",
      "Best 99eROI1.5 = 6.93 t_index 0 thr_mc 0.7 thr_md 0.6 epoch 0 in 330 GSP 61.21 ADA 49.44 AD 65.38\n",
      "Best 99eROI2 = 5.44 t_index 0 thr_mc 0.7 thr_md 0.6 epoch 0 in 330 GSP 61.21 ADA 49.44 AD 65.38\n",
      "Best 99eROI3 = 2.46 t_index 0 thr_mc 0.7 thr_md 0.6 epoch 0 in 330 GSP 61.21 ADA 49.44 AD 65.38\n",
      "Best 99eROI4 = -0.52 t_index 0 thr_mc 0.7 thr_md 0.6 epoch 0 in 330 GSP 61.21 ADA 49.44 AD 65.38\n",
      "Best 99eROI5 = -3.50 t_index 0 thr_mc 0.7 thr_md 0.6 epoch 0 in 330 GSP 61.21 ADA 49.44 AD 65.38\n",
      "\n",
      "The very best:\n",
      "Best eGROI = 12.83 t_index 0 thr_mc 0.7 thr_md 0.6 epoch 0 in 330 GSP 61.21 ADA 49.44 AD 65.38\n",
      "Best eROI = 3.86 t_index 0 thr_mc 0.7 thr_md 0.6 epoch 0 in 330 GSP 61.21 ADA 49.44 AD 65.38\n",
      "Best eROI.5 = 11.18 t_index 0 thr_mc 0.7 thr_md 0.6 epoch 0 in 330 GSP 61.21 ADA 49.44 AD 65.38\n",
      "Best eROI1 = 9.53 t_index 0 thr_mc 0.7 thr_md 0.6 epoch 0 in 330 GSP 61.21 ADA 49.44 AD 65.38\n",
      "Best eROI1.5 = 7.88 t_index 0 thr_mc 0.7 thr_md 0.6 epoch 0 in 330 GSP 61.21 ADA 49.44 AD 65.38\n",
      "Best eROI2 = 6.23 t_index 0 thr_mc 0.7 thr_md 0.6 epoch 0 in 330 GSP 61.21 ADA 49.44 AD 65.38\n",
      "Best eROI3 = 2.93 t_index 0 thr_mc 0.7 thr_md 0.6 epoch 0 in 330 GSP 61.21 ADA 49.44 AD 65.38\n",
      "Best eROI4 = -0.37 t_index 0 thr_mc 0.7 thr_md 0.6 epoch 0 in 330 GSP 61.21 ADA 49.44 AD 65.38\n",
      "Best eROI5 = -3.67 t_index 0 thr_mc 0.7 thr_md 0.6 epoch 0 in 330 GSP 61.21 ADA 49.44 AD 65.38\n",
      "Best SI = -8.34 t_index 0 thr_mc 0.7 thr_md 0.6 epoch 0 in 330 GSP 61.21 ADA 49.44 AD 65.38\n",
      "Best SI.5 = 3.85 t_index 0 thr_mc 0.7 thr_md 0.6 epoch 0 in 330 GSP 61.21 ADA 49.44 AD 65.38\n",
      "Best SI1 = 3.19 t_index 0 thr_mc 0.7 thr_md 0.6 epoch 0 in 330 GSP 61.21 ADA 49.44 AD 65.38\n",
      "Best SI1.5 = 2.53 t_index 0 thr_mc 0.7 thr_md 0.6 epoch 0 in 330 GSP 61.21 ADA 49.44 AD 65.38\n",
      "Best SI2 = 1.54 t_index 0 thr_mc 0.7 thr_md 0.6 epoch 0 in 330 GSP 61.21 ADA 49.44 AD 65.38\n",
      "Best SI3 = 0.99 t_index 0 thr_mc 0.7 thr_md 0.6 epoch 0 in 330 GSP 61.21 ADA 49.44 AD 65.38\n",
      "Best SI4 = 0.00 t_index 0 thr_mc 0.7 thr_md 0.6 epoch 0 in 330 GSP 61.21 ADA 49.44 AD 65.38\n",
      "Best SI5 = -0.66 t_index 0 thr_mc 0.7 thr_md 0.6 epoch 0 in 330 GSP 61.21 ADA 49.44 AD 65.38\n",
      "Best 99eGROI = 11.40 t_index 0 thr_mc 0.7 thr_md 0.6 epoch 0 in 330 GSP 61.21 ADA 49.44 AD 65.38\n",
      "Best 99eROI = 3.33 t_index 0 thr_mc 0.7 thr_md 0.6 epoch 0 in 330 GSP 61.21 ADA 49.44 AD 65.38\n",
      "Best 99eROI.5 = 9.91 t_index 0 thr_mc 0.7 thr_md 0.6 epoch 0 in 330 GSP 61.21 ADA 49.44 AD 65.38\n",
      "Best 99eROI1 = 8.42 t_index 0 thr_mc 0.7 thr_md 0.6 epoch 0 in 330 GSP 61.21 ADA 49.44 AD 65.38\n",
      "Best 99eROI1.5 = 6.93 t_index 0 thr_mc 0.7 thr_md 0.6 epoch 0 in 330 GSP 61.21 ADA 49.44 AD 65.38\n",
      "Best 99eROI2 = 5.44 t_index 0 thr_mc 0.7 thr_md 0.6 epoch 0 in 330 GSP 61.21 ADA 49.44 AD 65.38\n",
      "Best 99eROI3 = 2.46 t_index 0 thr_mc 0.7 thr_md 0.6 epoch 0 in 330 GSP 61.21 ADA 49.44 AD 65.38\n",
      "Best 99eROI4 = -0.52 t_index 0 thr_mc 0.7 thr_md 0.6 epoch 0 in 330 GSP 61.21 ADA 49.44 AD 65.38\n",
      "Best 99eROI5 = -3.50 t_index 0 thr_mc 0.7 thr_md 0.6 epoch 0 in 330 GSP 61.21 ADA 49.44 AD 65.38\n",
      "Time=2.23 secs\n"
     ]
    }
   ],
   "source": [
    "import sys\n",
    "import os\n",
    "\n",
    "this_path = os.getcwd()\n",
    "path = '\\\\'.join(this_path.split('\\\\')[:-1])+'\\\\'\n",
    "if path not in sys.path:\n",
    "    sys.path.insert(0, path)\n",
    "    print(path+\" added to python path\")\n",
    "else:\n",
    "    print(path+\" already in python path\")\n",
    "    \n",
    "import pandas as pd\n",
    "import datetime as dt\n",
    "import pickle\n",
    "import math\n",
    "import numpy as np\n",
    "import matplotlib.pyplot as plt\n",
    "\n",
    "%matplotlib inline\n",
    "%load_ext autoreload\n",
    "%autoreload 2\n",
    "#######################################\n",
    "# For test dataset\n",
    "\n",
    "from kaissandra.automate import combine_models\n",
    "import numpy as np\n",
    "\n",
    "rootname_config = 'RNN01010'\n",
    "outputGain = 1\n",
    "movingWindow = 500\n",
    "nEventsPerStat = 5000\n",
    "results_from = 'COMB'\n",
    "feats_from_bids = False\n",
    "save_journal = True\n",
    "resolution = 20\n",
    "thresholds_mc = [.7]#[int(np.round((.5+i/resolution)*100))/100 for i in range(int(resolution/2))]#\n",
    "thresholds_md = [.6]#[int(np.round((.5+i/resolution)*100))/100 for i in range(int(resolution/2))]#\n",
    "epochs = [12,14,13,11,9]#[9,11,6,8,6]\n",
    "sufix='k1-5'+'E1214131109'#'k1k2E12E14'#\n",
    "t_indexes = [0]\n",
    "if feats_from_bids:\n",
    "    ext = 'B'\n",
    "else:\n",
    "    ext = 'A'\n",
    "first_day = '2018.11.12'#'2016.01.01'#\n",
    "last_day = '2019.05.01'#'2018.11.09'#\n",
    "list_index2sets = ['Cv']#['No','Cv','No']#['No','Cv']#\n",
    "edge_dates = []#['2019.04.01']#['2017.9.27','2018.4.10']#['2018.4.10']#\n",
    "combine_ts = {'if_combine':False,'params_combine':[{'alg':'mean'}]}\n",
    "\n",
    "entries = {'thresholds_mc':thresholds_mc,'thresholds_md':thresholds_md,'resolution':resolution,'results_from':results_from,\n",
    "           'save_journal':save_journal,'feats_from_bids':feats_from_bids,'size_output_layer':8,'n_bits_outputs':[1,2,5],\n",
    "           'combine_ts':combine_ts,'outputGain':outputGain,'movingWindow':movingWindow,\n",
    "          'nEventsPerStat':nEventsPerStat,'first_day':first_day,'last_day':last_day,'list_index2sets':list_index2sets,'edge_dates':edge_dates,\n",
    "          'build_test_db':True,'save_stats':False,'t_indexes':t_indexes,'combine_ts':combine_ts}\n",
    "\n",
    "model_names = ['WRNN01010k1K5A','WRNN01010k2K5A','WRNN01010k3K5A','WRNN01010k4K5A','WRNN01010k5K5A']#\n",
    "\n",
    "tag_from_till = 'F181112T190426'#''F190401T190426'#F170927T180410'#'F180410T181109'#\n",
    "combine_models(entries, model_names, epochs, rootname_config, sufix=sufix, melting_func='mean', tag_from_till=tag_from_till,log='')"
   ]
  },
  {
   "cell_type": "code",
   "execution_count": null,
   "metadata": {},
   "outputs": [],
   "source": [
    "# For Tr/Cv dataset\n",
    "\n",
    "from kaissandra.automate import combine_models\n",
    "import numpy as np\n",
    "\n",
    "rootname_config = 'RNN01011'\n",
    "outputGain = .8\n",
    "movingWindow = 500\n",
    "nEventsPerStat = 5000\n",
    "results_from = 'COMB'\n",
    "feats_from_bids = False\n",
    "save_journal = True\n",
    "resolution = 20\n",
    "thresholds_mc = [.5]#[int(np.round((.5+i/resolution)*100))/100 for i in range(int(resolution/2))]#[.7]#\n",
    "thresholds_md = [.5]#[int(np.round((.5+i/resolution)*100))/100 for i in range(int(resolution/2))]#[.6]#\n",
    "epochs = [14,14]#[9,11,6,8,6]\n",
    "sufix='k1k2'+'E14E14'+'NYdec'\n",
    "t_indexes = [0]\n",
    "if feats_from_bids:\n",
    "    ext = 'B'\n",
    "else:\n",
    "    ext = 'A'\n",
    "first_day = '2016.01.01'#'2018.11.12'#\n",
    "last_day = '2018.11.09'#'2019.03.29'#\n",
    "list_index2sets = ['No','Cv']#['No','Cv']#['No','Cv','No']#\n",
    "edge_dates = ['2017.9.27']#['2018.4.10']#['2017.9.27','2018.4.10']#\n",
    "combine_ts = {'if_combine':False,'params_combine':[{'alg':'mean'}]}\n",
    "\n",
    "entries = {'thresholds_mc':thresholds_mc,'thresholds_md':thresholds_md,'resolution':resolution,'results_from':results_from,\n",
    "           'save_journal':save_journal,'feats_from_bids':feats_from_bids,'size_output_layer':8,'n_bits_outputs':[1,2,5],\n",
    "           'combine_ts':combine_ts,'outputGain':outputGain,'movingWindow':movingWindow,\n",
    "          'nEventsPerStat':nEventsPerStat,'first_day':first_day,'last_day':last_day,'list_index2sets':list_index2sets,'edge_dates':edge_dates,\n",
    "          'build_test_db':False,'save_stats':False,'t_indexes':t_indexes,'combine_ts':combine_ts}\n",
    "\n",
    "model_names = ['WRNN01020k1K5A','WRNN01011k2K5A']\n",
    "\n",
    "tag_from_till = 'F170927T181109'#'F180410T181109'#'F170927T180410'#\n",
    "combine_models(entries, model_names, epochs, rootname_config, sufix=sufix, melting_func='mean', tag_from_till=tag_from_till,log='')"
   ]
  },
  {
   "cell_type": "code",
   "execution_count": null,
   "metadata": {},
   "outputs": [],
   "source": [
    "from kaissandra.results2 import merge_results\n",
    "\n",
    "IDrs=['RRNN01010CMF180410T181109ACk1K5E12R100','RRNN01010CMF170927T180410ACk2K5E14R100']#['R'+rootname_config+tag+extR+sufix for fold_idx in range(k_end)]\n",
    "IDr_merged='RRNN01010MEF170927T181109ACk1k2K5E12E14R100'\n",
    "merge_results(IDrs, IDr_merged)"
   ]
  },
  {
   "cell_type": "markdown",
   "metadata": {},
   "source": [
    "## Get Info from Candidate"
   ]
  },
  {
   "cell_type": "code",
   "execution_count": null,
   "metadata": {},
   "outputs": [],
   "source": [
    "start_date = dt.date(2018, 11, 12)\n",
    "start_date_monday = (start_date - dt.timedelta(days=start_date.weekday()))\n",
    "end_date = dt.date(2019, 3, 29)\n",
    "num_of_weeks = math.ceil((end_date - start_date_monday).days / 7.0)\n",
    "print(num_of_weeks)"
   ]
  },
  {
   "cell_type": "code",
   "execution_count": null,
   "metadata": {},
   "outputs": [],
   "source": [
    "from kaissandra.local_config import local_vars\n",
    "from kaissandra.results2 import get_extended_results,remove_outliers\n",
    "\n",
    "results_dir  = local_vars.results_directory\n",
    "extfile = '.csv'"
   ]
  },
  {
   "cell_type": "code",
   "execution_count": null,
   "metadata": {},
   "outputs": [],
   "source": [
    "rootname_config = 'RNN00010'\n",
    "extR = 'AC'\n",
    "sufix='R100'\n",
    "K = 5\n",
    "k_end = 2\n",
    "k_init = 0\n",
    "list_results_names=['R'+rootname_config+'k'+str(fold_idx+1)+'K'+str(K)+extR+sufix for fold_idx in range(k_init, k_end)]\n",
    "list_epochs = [14 for _ in range(k_init, k_end)]\n",
    "list_tis = ['mean' for _ in range(k_init, k_end)]\n",
    "list_mgs = ['0.5','0.5','0.5']#for _ in range(k_end) "
   ]
  },
  {
   "cell_type": "code",
   "execution_count": null,
   "metadata": {},
   "outputs": [],
   "source": [
    "rootname_config = 'RNN00010'\n",
    "extR_L = 'AL'\n",
    "extR_S = 'BS'\n",
    "sufix='R100'\n",
    "K = 5\n",
    "k_end = 2\n",
    "k_init = 0\n",
    "IDLs=['R'+rootname_config+'k'+str(fold_idx+1)+'K'+str(K)+extR_L+sufix for fold_idx in range(k_init, k_end)]\n",
    "IDSs=['R'+rootname_config+'k'+str(fold_idx+1)+'K'+str(K)+extR_S+sufix for fold_idx in range(k_init, k_end)]\n",
    "list_results_names = IDLs+IDSs\n",
    "list_epochs = [14 for _ in range(k_init, k_end)]+[12 for _ in range(k_init, k_end)]\n",
    "list_tis = ['2' for _ in range(k_init, k_end)]+['1' for _ in range(k_init, k_end)]\n",
    "list_mgs = ['0.5','0.5']+['0.5','0.5']"
   ]
  },
  {
   "cell_type": "code",
   "execution_count": null,
   "metadata": {},
   "outputs": [],
   "source": [
    "rootname_config = 'RNN01010'\n",
    "extR = 'AC'\n",
    "sufix='R20'\n",
    "K = 5\n",
    "k_end = 2\n",
    "k_init = 0\n",
    "list_results_names=['R'+rootname_config+'k'+str(fold_idx+1)+'K'+str(K)+extR+sufix for fold_idx in range(k_init, k_end)]\n",
    "list_epochs = [11 for _ in range(k_init, k_end)]\n",
    "list_tis = ['2' for _ in range(k_init, k_end)]\n",
    "list_mcs = ['0.75' for _ in range(k_init, k_end)]#for _ in range(k_end) \n",
    "list_mds = ['0.6' for _ in range(k_init, k_end)]"
   ]
  },
  {
   "cell_type": "code",
   "execution_count": null,
   "metadata": {},
   "outputs": [],
   "source": [
    "rootname_config = 'RNN01010'\n",
    "extR_L = 'AL'\n",
    "extR_S = 'BS'\n",
    "sufix='R20'\n",
    "K = 5\n",
    "k_end = 2\n",
    "k_init = 0\n",
    "IDLs=['R'+rootname_config+'k'+str(fold_idx+1)+'K'+str(K)+extR_L+sufix for fold_idx in range(k_init, k_end)]\n",
    "IDSs=['R'+rootname_config+'k'+str(fold_idx+1)+'K'+str(K)+extR_S+sufix for fold_idx in range(k_init, k_end)]\n",
    "list_results_names = IDLs+IDSs\n",
    "list_epochs = [9 for _ in range(k_init, k_end)]+[10 for _ in range(k_init, k_end)]\n",
    "list_tis = ['2' for _ in range(k_init, k_end)]+['2' for _ in range(k_init, k_end)]\n",
    "list_mcs = ['0.7' for _ in range(k_init, k_end)]+['0.6' for _ in range(k_init, k_end)]\n",
    "list_mds = ['0.6' for _ in range(k_init, k_end)]+['0.6' for _ in range(k_init, k_end)]"
   ]
  },
  {
   "cell_type": "code",
   "execution_count": null,
   "metadata": {},
   "outputs": [],
   "source": [
    "rootname_config = 'RNN01040'\n",
    "extR_L = 'AL'\n",
    "extR_S = 'BS'\n",
    "sufix='R20'\n",
    "K = 5\n",
    "k_end = 2\n",
    "k_init = 0\n",
    "IDLs=['R'+rootname_config+'k'+str(fold_idx+1)+'K'+str(K)+extR_L+sufix for fold_idx in range(k_init, k_end)]\n",
    "IDSs=['R'+rootname_config+'k'+str(fold_idx+1)+'K'+str(K)+extR_S+sufix for fold_idx in range(k_init, k_end)]\n",
    "list_results_names = IDLs+IDSs\n",
    "list_epochs = [8 for _ in range(k_init, k_end)]+[9 for _ in range(k_init, k_end)]\n",
    "list_tis = ['2' for _ in range(k_init, k_end)]+['2' for _ in range(k_init, k_end)]\n",
    "list_mcs = ['0.9' for _ in range(k_init, k_end)]+['0.9' for _ in range(k_init, k_end)]\n",
    "list_mds = ['0.6' for _ in range(k_init, k_end)]+['0.6' for _ in range(k_init, k_end)]"
   ]
  },
  {
   "cell_type": "code",
   "execution_count": null,
   "metadata": {},
   "outputs": [],
   "source": [
    "rootname_config = 'RNN01011'\n",
    "extR_L = 'AL'\n",
    "extR_S = 'BS'\n",
    "sufix='R20bis'\n",
    "K = 5\n",
    "k_end = 2\n",
    "k_init = 0\n",
    "IDLs=['R'+rootname_config+'k'+str(fold_idx+1)+'K'+str(K)+extR_L+sufix for fold_idx in range(k_init, k_end)]\n",
    "IDSs=['R'+rootname_config+'k'+str(fold_idx+1)+'K'+str(K)+extR_S+sufix for fold_idx in range(k_init, k_end)]\n",
    "list_results_names = IDLs+IDSs\n",
    "list_epochs = [12 for _ in range(k_init, k_end)]+[12 for _ in range(k_init, k_end)]\n",
    "list_tis = ['1' for _ in range(k_init, k_end)]+['1' for _ in range(k_init, k_end)]\n",
    "list_mcs = ['0.65' for _ in range(k_init, k_end)]+['0.5' for _ in range(k_init, k_end)]\n",
    "list_mds = ['0.55' for _ in range(k_init, k_end)]+['0.65' for _ in range(k_init, k_end)]"
   ]
  },
  {
   "cell_type": "code",
   "execution_count": null,
   "metadata": {},
   "outputs": [],
   "source": [
    "rootname_config = 'RNN01021'\n",
    "extR = 'AL'\n",
    "sufix='R20'\n",
    "K = 5\n",
    "k_end = 2\n",
    "k_init = 0\n",
    "list_results_names=['R'+rootname_config+'k'+str(fold_idx+1)+'K'+str(K)+extR+sufix for fold_idx in range(k_init, k_end)]\n",
    "list_epochs = [9 for _ in range(k_init, k_end)]\n",
    "list_tis = ['2' for _ in range(k_init, k_end)]\n",
    "list_mcs = ['0.7' for _ in range(k_init, k_end)]#for _ in range(k_end) \n",
    "list_mds = ['0.7' for _ in range(k_init, k_end)]\n",
    "#epoch            9.000000\n",
    "#t_index          2.000000\n",
    "#thr_mc           0.600000\n",
    "#thr_md           0.700000"
   ]
  },
  {
   "cell_type": "code",
   "execution_count": null,
   "metadata": {},
   "outputs": [],
   "source": [
    "rootname_config = 'RNN01010'\n",
    "extR = 'AL'\n",
    "epoch = 12\n",
    "t_index = 'mean'\n",
    "thr_mc = .7\n",
    "thr_md = .6\n",
    "K = 5\n",
    "k_end = 1\n",
    "k_init = 0\n",
    "sufix='testk'+str(k_end)+'E'+str(epoch)+'TmeanC7D6'\n",
    "list_results_names=['R'+rootname_config+'FE'+extR+sufix for fold_idx in range(k_init, k_end)]\n",
    "list_epochs = [epoch for _ in range(k_init, k_end)]\n",
    "list_tis = [t_index for _ in range(k_init, k_end)]\n",
    "list_mcs = [str(thr_mc) for _ in range(k_init, k_end)]#for _ in range(k_end) \n",
    "list_mds = [str(thr_md) for _ in range(k_init, k_end)]"
   ]
  },
  {
   "cell_type": "code",
   "execution_count": null,
   "metadata": {},
   "outputs": [],
   "source": [
    "rootname_config = 'RNN01010'\n",
    "extR = 'BS'\n",
    "epoch = 7\n",
    "t_index = 'mean'\n",
    "thr_mc = .8\n",
    "thr_md = .5\n",
    "K = 5\n",
    "k_end = 1\n",
    "k_init = 0\n",
    "sufix='testk'+str(k_end)+'E'+str(epoch)+'TmeanC8D5'\n",
    "list_results_names=['R'+rootname_config+'FE'+extR+sufix for fold_idx in range(k_init, k_end)]\n",
    "list_epochs = [epoch for _ in range(k_init, k_end)]\n",
    "list_tis = [t_index for _ in range(k_init, k_end)]\n",
    "list_mcs = [str(thr_mc) for _ in range(k_init, k_end)]#for _ in range(k_end) \n",
    "list_mds = [str(thr_md) for _ in range(k_init, k_end)]"
   ]
  },
  {
   "cell_type": "code",
   "execution_count": null,
   "metadata": {},
   "outputs": [],
   "source": [
    "rootname_config = 'RNN01010'\n",
    "extRs = ['AC']\n",
    "epoch = 0\n",
    "t_index = '0'\n",
    "thr_mc = .75\n",
    "thr_md = .6\n",
    "K = 5\n",
    "k_end = 1\n",
    "k_init = 0\n",
    "sufix='R100'\n",
    "tag_from_till='F181112T190329'\n",
    "models_tag = 'k1k2k3k4k5K5'\n",
    "epoch_tag = 'E9E11E6E8E6'\n",
    "list_results_names=['R'+rootname_config+'CM'+tag_from_till+extR+models_tag+epoch_tag+sufix for extR in extRs]\n",
    "list_epochs = [epoch for _ in extRs]\n",
    "list_tis = [t_index for _ in extRs]\n",
    "list_mcs = [str(thr_mc) for _ in extRs]#for _ in range(k_end) \n",
    "list_mds = [str(thr_md) for _ in extRs]"
   ]
  },
  {
   "cell_type": "markdown",
   "metadata": {},
   "source": [
    "## Test Dataset"
   ]
  },
  {
   "cell_type": "code",
   "execution_count": null,
   "metadata": {},
   "outputs": [],
   "source": [
    "rootname_config = 'RNN01011'\n",
    "extRs = ['AC']\n",
    "epoch = 0\n",
    "t_index = '0'\n",
    "thr_mc = .7\n",
    "thr_md = .54\n",
    "K = 5\n",
    "k_end = 1\n",
    "k_init = 0\n",
    "sufix=''\n",
    "tag_from_till='F181112T190329'\n",
    "models_tag = 'k1k2'\n",
    "epoch_tag = 'E14E14'\n",
    "list_results_names=['R'+rootname_config+'CM'+tag_from_till+extR+models_tag+epoch_tag+sufix for extR in extRs]\n",
    "list_epochs = [epoch for _ in extRs]\n",
    "list_tis = [t_index for _ in extRs]\n",
    "list_mcs = [str(thr_mc) for _ in extRs]#for _ in range(k_end) \n",
    "list_mds = [str(thr_md) for _ in extRs]"
   ]
  },
  {
   "cell_type": "code",
   "execution_count": null,
   "metadata": {},
   "outputs": [],
   "source": [
    "rootname_config = 'RNN01010'\n",
    "extRs = ['AC']\n",
    "epoch = 0\n",
    "t_index = '0'\n",
    "thr_mc = .7\n",
    "thr_md = .6\n",
    "K = 5\n",
    "k_end = 1\n",
    "k_init = 0\n",
    "sufix='R100'\n",
    "tag_from_till='F181112T190329'\n",
    "models_tag = 'k1k2'\n",
    "epoch_tag = 'E12E14'\n",
    "list_results_names=['R'+rootname_config+'CM'+tag_from_till+extR+models_tag+epoch_tag+sufix for extR in extRs]\n",
    "list_epochs = [epoch for _ in extRs]\n",
    "list_tis = [t_index for _ in extRs]\n",
    "list_mcs = [str(thr_mc) for _ in extRs]#for _ in range(k_end) \n",
    "list_mds = [str(thr_md) for _ in extRs]"
   ]
  },
  {
   "cell_type": "code",
   "execution_count": null,
   "metadata": {},
   "outputs": [],
   "source": [
    "# Combine 01010 and 01011\n",
    "rootname_config = ['RNN01010','RNN01011']\n",
    "extRs = ['AC','AC']\n",
    "epoch = 0\n",
    "t_index = '0'\n",
    "thr_mc = [.7,.65]\n",
    "thr_md = [.6,.6]\n",
    "K = 5\n",
    "k_end = 1\n",
    "k_init = 0\n",
    "sufix=['','']\n",
    "tag_from_till='F181112T190329'\n",
    "models_tag = 'k1k2'\n",
    "epoch_tag = ['E12E14','E14E14']\n",
    "list_results_names=['R'+rootname_config[i]+'CM'+tag_from_till+extR+models_tag+epoch_tag[i]+sufix[i] for i,extR in enumerate(extRs)]\n",
    "list_epochs = [epoch for _ in extRs]\n",
    "list_tis = [t_index for _ in extRs]\n",
    "list_mcs = [str(thr_mc[i]) for i,_ in enumerate(extRs)]#for _ in range(k_end) \n",
    "list_mds = [str(thr_md[i]) for i,_ in enumerate(extRs)]"
   ]
  },
  {
   "cell_type": "markdown",
   "metadata": {},
   "source": [
    "## Tr/Cv Dataset"
   ]
  },
  {
   "cell_type": "code",
   "execution_count": null,
   "metadata": {},
   "outputs": [],
   "source": [
    "rootname_config = 'RNN01011'\n",
    "extRs = ['AC','AC']\n",
    "epoch = 0\n",
    "t_index = '0'\n",
    "thr_mc = [.7,.65]\n",
    "thr_md = [.65,.6]\n",
    "K = 5\n",
    "k_end = 1\n",
    "k_init = 0\n",
    "sufix=''\n",
    "tag_from_till = ['F180410T181109','F170927T180410']\n",
    "models_tag = ['k1','k2']\n",
    "epoch_tag = 'E14'\n",
    "list_results_names=['R'+rootname_config+'CM'+tag_from_till[i]+extR+models_tag[i]+epoch_tag+sufix for i,extR in enumerate(extRs)]\n",
    "list_epochs = [epoch for _ in extRs]\n",
    "list_tis = [t_index for _ in extRs]\n",
    "list_mcs = [str(thr_mc[i]) for i,_ in enumerate(extRs)]#for _ in range(k_end) \n",
    "list_mds = [str(thr_md[i]) for i,_ in enumerate(extRs)]"
   ]
  },
  {
   "cell_type": "code",
   "execution_count": null,
   "metadata": {},
   "outputs": [],
   "source": [
    "rootname_config = 'RNN01010'\n",
    "extRs = ['AC','AC']\n",
    "epoch = 0\n",
    "t_index = '0'\n",
    "thr_mc = [.7,.7]\n",
    "thr_md = [.6,.6]\n",
    "K = 5\n",
    "k_end = 1\n",
    "k_init = 0\n",
    "sufix=''\n",
    "tag_from_till = ['F180410T181109','F170927T180410']\n",
    "models_tag = ['k1','k2']\n",
    "epoch_tag = ['E14','E14']\n",
    "list_results_names=['R'+rootname_config+'CM'+tag_from_till[i]+extR+models_tag[i]+epoch_tag[i]+sufix for i,extR in enumerate(extRs)]\n",
    "list_epochs = [epoch for _ in extRs]\n",
    "list_tis = [t_index for _ in extRs]\n",
    "list_mcs = [str(thr_mc[i]) for i,_ in enumerate(extRs)]#for _ in range(k_end) \n",
    "list_mds = [str(thr_md[i]) for i,_ in enumerate(extRs)]"
   ]
  },
  {
   "cell_type": "code",
   "execution_count": null,
   "metadata": {},
   "outputs": [],
   "source": [
    "rootname_config = ['RNN01010','RNN01010','RNN01011','RNN01011']\n",
    "extRs = ['AC','AC','AC','AC']\n",
    "epoch = 0\n",
    "t_index = '0'\n",
    "thr_mc = [.7,.7,.7,.7]\n",
    "thr_md = [.6,.6,.6,.6]\n",
    "K = 5\n",
    "k_end = 1\n",
    "k_init = 0\n",
    "sufix=['','','','']\n",
    "tag_from_till = ['F180410T181109','F170927T180410','F180410T181109','F170927T180410']\n",
    "models_tag = ['k1','k2','k1','k2']\n",
    "epoch_tag = ['E12','E14','E14','E14']\n",
    "list_results_names=['R'+rootname_config[i]+'CM'+tag_from_till[i]+extR+models_tag[i]+epoch_tag[i]+sufix[i] for i,extR in enumerate(extRs)]\n",
    "list_epochs = [epoch for _ in extRs]\n",
    "list_tis = [t_index for _ in extRs]\n",
    "list_mcs = [str(thr_mc[i]) for i,_ in enumerate(extRs)]#for _ in range(k_end) \n",
    "list_mds = [str(thr_md[i]) for i,_ in enumerate(extRs)]"
   ]
  },
  {
   "cell_type": "code",
   "execution_count": null,
   "metadata": {},
   "outputs": [],
   "source": [
    "# Combine 01010 k1 and k2\n",
    "rootname_config = ['RNN01010']\n",
    "extRs = ['AC']\n",
    "epoch = 0\n",
    "t_index = '0'\n",
    "thr_mc = .7\n",
    "thr_md = .6\n",
    "K = 5\n",
    "k_end = 1\n",
    "k_init = 0\n",
    "sufix=['']\n",
    "tag_from_till='170927T181109'\n",
    "models_tag = 'k1k2'\n",
    "epoch_tag = ['E12E14']\n",
    "list_results_names=['R'+rootname_config[i]+'CMF'+tag_from_till+extR+models_tag+epoch_tag[i]+sufix[i] for i,extR in enumerate(extRs)]\n",
    "list_epochs = [epoch for _ in extRs]\n",
    "list_tis = [t_index for _ in extRs]\n",
    "list_mcs = [str(thr_mc) for _ in extRs]#for _ in range(k_end) \n",
    "list_mds = [str(thr_md) for _ in extRs]"
   ]
  },
  {
   "cell_type": "code",
   "execution_count": null,
   "metadata": {},
   "outputs": [],
   "source": [
    "# Combine 01011 k1 and k2\n",
    "rootname_config = ['RNN01011']\n",
    "extRs = ['AC']\n",
    "epoch = 0\n",
    "t_index = '0'\n",
    "thr_mc = .65\n",
    "thr_md = .6\n",
    "K = 5\n",
    "k_end = 1\n",
    "k_init = 0\n",
    "sufix=['']\n",
    "tag_from_till='170927T181109'\n",
    "models_tag = 'k1k2'\n",
    "epoch_tag = ['E14E14']\n",
    "list_results_names=['R'+rootname_config[i]+'CMF'+tag_from_till+extR+models_tag+epoch_tag[i]+sufix[i] for i,extR in enumerate(extRs)]\n",
    "list_epochs = [epoch for _ in extRs]\n",
    "list_tis = [t_index for _ in extRs]\n",
    "list_mcs = [str(thr_mc) for _ in extRs]#for _ in range(k_end) \n",
    "list_mds = [str(thr_md) for _ in extRs]"
   ]
  },
  {
   "cell_type": "code",
   "execution_count": null,
   "metadata": {},
   "outputs": [],
   "source": [
    "# Combine 01001/01011 and k1/k2\n",
    "rootname_config = ['RNN01010']+['RNN01011']\n",
    "extRs = ['AC','AC']#['AC']+['AC']\n",
    "epoch = 0\n",
    "t_index = '0'\n",
    "thr_mc = [.7,.65]\n",
    "thr_md = [.6,.6]\n",
    "K = 5\n",
    "k_end = 1\n",
    "k_init = 0\n",
    "sufix=['','']\n",
    "tag_from_till='170927T181109'\n",
    "models_tag = 'k1k2'\n",
    "epoch_tag = ['E12E14','E14E14']\n",
    "list_results_names=['R'+rootname_config[i]+'CMF'+tag_from_till+extR+models_tag+epoch_tag[i]+sufix[i] for i,extR in enumerate(extRs)]\n",
    "list_epochs = [epoch for _ in extRs]\n",
    "list_tis = [t_index for _ in extRs]\n",
    "list_mcs = [str(thr_mc[i]) for i,_ in enumerate(extRs)]#for _ in range(k_end) \n",
    "list_mds = [str(thr_md[i]) for i,_ in enumerate(extRs)]"
   ]
  },
  {
   "cell_type": "code",
   "execution_count": null,
   "metadata": {},
   "outputs": [],
   "source": [
    "print(list_results_names)"
   ]
  },
  {
   "cell_type": "code",
   "execution_count": null,
   "metadata": {},
   "outputs": [],
   "source": [
    "pip_limit = 0.05\n",
    "    \n",
    "#Journal = pd.DataFrame()\n",
    "#for l,name in enumerate(list_results_names):\n",
    "#    journal_filename = results_dir+name+'/journal/J_E'+str(list_epochs[l])+'TI'+list_tis[l]+'MG'+list_mgs[l]+ext\n",
    "#    new_journal = pd.read_csv(journal_filename,sep='\\t')\n",
    "#    Journal = Journal.append(new_journal).sort_values(by=['Asset','DTi']).reset_index().drop(labels='level_0',axis=1)\n",
    "#    print(journal_filename)\n",
    "\n",
    "Journal = pd.DataFrame()\n",
    "for l,name in enumerate(list_results_names):\n",
    "    journal_filename = results_dir+name+'/journal/J_E'+str(list_epochs[l])+'TI'+str(list_tis[l])+'MC'+str(list_mcs[l])+'MD'+str(list_mds[l])+extfile\n",
    "    new_journal = pd.read_csv(journal_filename,sep='\\t')\n",
    "    Journal = Journal.append(new_journal).sort_values(by=['Asset','DTi']).reset_index().drop(labels='level_0',axis=1)\n",
    "    print(journal_filename)\n",
    "\n",
    "# filter journal\n",
    "#pip_limit = 0.02\n",
    "#pos_under_2p = positions['espread']<pip_limit\n",
    "print(\"shape\")\n",
    "print(Journal.shape[0])\n",
    "print(journal_filename)\n",
    "n_days = num_of_weeks*5+1\n",
    "pos_dirname = '../../RNN/results/MERGED/positions/'\n",
    "pos_filename = '_'.join([entry for entry in list_results_names])\n",
    "positions_summary, log = get_extended_results(Journal,\n",
    "                                    5,\n",
    "                                    n_days,\n",
    "                                   get_positions=True,pos_dirname=pos_dirname,\n",
    "                                   pos_filename=pos_filename+'.csv')\n",
    "#print(positions_summary)\n",
    "\n",
    "positions = pd.read_csv(pos_dirname+pos_filename+'.csv',sep='\\t')\n",
    "#print(positions)\n",
    "GROIS99, ROIS99, idx_sorted, low_arg_goi, high_arg_goi = remove_outliers(np.array(positions.GROI),\n",
    "                                                                         np.array(positions.spread), thr=.99)\n",
    "\n",
    "pos_under_2p = positions['espread']<pip_limit\n",
    "#pos_under_thr_99 = positions['espread']<pip_limit\n",
    "#GROIS99 = GROIS99[pos_under_2p]\n",
    "#ROIS99 = ROIS99[pos_under_2p]\n",
    "positions['DTo'] = positions[\"Do\"] +\" \"+ positions[\"To\"]\n",
    "pos_under_thr = positions[pos_under_2p]#.sort_values(by=['DTo'])\n",
    "per_under_2p = 100*sum(pos_under_2p)/positions.shape[0]\n",
    "tgsr = 100*sum(positions['GROI']>0)/positions.shape[0]\n",
    "gsr = 100*sum(pos_under_thr['GROI']>0)/sum(pos_under_2p)\n",
    "tsr = 100*sum(positions['ROI']>0)/positions.shape[0]\n",
    "sr = 100*sum(positions[pos_under_2p]['ROI']>0)/sum(pos_under_2p)\n",
    "mean_spread = positions[pos_under_2p]['spread'].mean()\n",
    "print(\"total mean GROI\")\n",
    "print(positions['GROI'].mean())\n",
    "print(\"mean GROI of selected\")\n",
    "print(positions[pos_under_2p]['GROI'].mean())\n",
    "print(\"mean_spread of selected\")\n",
    "print(mean_spread)\n",
    "print(\"Number of pos under \"+str(pip_limit))\n",
    "print(positions[pos_under_2p].shape[0])\n",
    "print(\"per under pip_limit\")\n",
    "print(per_under_2p)\n",
    "print(\"total gross success rate\")\n",
    "print(tgsr)\n",
    "print(\"gross success rate\")\n",
    "print(gsr)\n",
    "print(\"total success rate\")\n",
    "print(tsr)\n",
    "print(\"success rate\")\n",
    "print(sr)\n",
    "print(\"GROI for positions under \"+str(pip_limit))\n",
    "print(positions[pos_under_2p]['GROI'].sum())\n",
    "print(\"ROI for positions under \"+str(pip_limit))\n",
    "print(positions[pos_under_2p]['ROI'].sum())\n",
    "print(\"positions['GROI'].sum()-pip_limit*positions['GROI'].shape[0]\")\n",
    "print(positions['GROI'].sum()-pip_limit*positions['GROI'].shape[0])\n",
    "print(\"# Assets\")\n",
    "print(positions['Asset'][pos_under_2p].unique().shape[0])\n",
    "pos_under_thr.to_csv(pos_dirname+pos_filename+str(100*pip_limit)+'pFilt.csv', index=False, sep='\\t')\n",
    "#pos_under_ALBS = pos_under_thr\n"
   ]
  },
  {
   "cell_type": "code",
   "execution_count": null,
   "metadata": {},
   "outputs": [],
   "source": [
    "RRNN01010CMF180410T181109ACk1E9R20\n",
    "RRNN01010CMF170927T180410ACk2K5E14"
   ]
  },
  {
   "cell_type": "markdown",
   "metadata": {},
   "source": [
    "## Plot Results Candidate"
   ]
  },
  {
   "cell_type": "code",
   "execution_count": null,
   "metadata": {},
   "outputs": [],
   "source": [
    "import matplotlib.pyplot as plt\n",
    "import matplotlib\n",
    "\n",
    "print(pos_dirname+pos_filename+str(100*pip_limit)+'pFilt.csv')\n",
    "plt.rcParams['figure.figsize'] = [10, 5]\n",
    "plt.figure(0)\n",
    "mx = int(np.ceil(max(pos_under_thr['GROI'])))\n",
    "mn = int(np.floor(min(pos_under_thr['ROI'])))\n",
    "bins = [i/20 for i in range(20*mn,20*mx)]\n",
    "histG = plt.hist(pos_under_thr['GROI'], bins=bins)\n",
    "histR = plt.hist(pos_under_thr['ROI'], bins=bins)\n",
    "plt.grid()\n",
    "\n",
    "#pos_under_thr.index = range(pos_under_thr.shape[0])\n",
    "plt.figure(1)\n",
    "plt.plot(range(pos_under_thr.shape[0]),pos_under_thr['GROI'].cumsum())\n",
    "plt.plot(range(pos_under_thr.shape[0]),pos_under_thr['ROI'].cumsum())\n",
    "plt.grid()\n",
    "\n",
    "plt.figure(2)\n",
    "#print(pos_under_thr['ROI'])\n",
    "print(positions[pos_under_2p]['GROI'].shape)\n",
    "cumG = plt.plot(positions['GROI'].cumsum())#, bins=bins\n",
    "cumR = plt.plot(positions['ROI'].cumsum())\n",
    "plt.plot(np.cumsum(positions.GROI[(positions.GROI>=low_arg_goi) & (positions.GROI<=high_arg_goi)]))\n",
    "plt.plot(np.cumsum(positions.ROI[(positions.GROI>=low_arg_goi) & (positions.GROI<=high_arg_goi)]))\n",
    "plt.grid()\n",
    "\n",
    "\n",
    "#positions\n",
    "#grouped = pos_format.groupby(['asset'])\n",
    "weekly_group = pos_under_thr.groupby([pd.to_datetime(pos_under_thr['Di']).dt.strftime('%W')])['ROI']\n",
    "weekly_group_G = pos_under_thr.groupby([pd.to_datetime(pos_under_thr['Di']).dt.strftime('%W')])['GROI']\n",
    "asset_group = pos_under_thr.groupby(['Asset'])\n",
    "weekly_sum = weekly_group.sum()\n",
    "weekly_sum_G = weekly_group_G.sum()\n",
    "weekly_count = weekly_group.count()\n",
    "#weekly_sum.cumsum()\n",
    "#print(asset_group['GROI'].sum())\n",
    "#print(asset_group['ROI'].sum())\n",
    "#print(asset_group['ROI'].count())\n",
    "plt.figure(3)\n",
    "plt.plot(weekly_sum_G.cumsum())\n",
    "plt.plot(range(weekly_sum.shape[0]), weekly_sum.cumsum())\n",
    "plt.grid()\n",
    "#print(weekly_sum_G)\n",
    "#print(weekly_sum)#.cumsum()\n",
    "print(weekly_sum_G.cumsum()[-1])\n",
    "print(weekly_sum.cumsum()[-1])\n",
    "#print(weekly_count)\n",
    "#print(weekly_sum.cumsum())\n",
    "#print(weekly_count.shape)\n",
    "#print(pos_under_thr.groupby([pd.to_datetime(pos_under_thr['Di']).dt.strftime('%W')])['GROI'].sum())\n",
    "#print(weekly_count)\n",
    "plt.figure(4)\n",
    "plt.grid()\n",
    "plt.hist(weekly_count, bins=range(0,max(weekly_count),5))\n",
    "\n",
    "#for name, group in asset_group:\n",
    "#    print(name)\n",
    "#    print(group.to_string())\n",
    "#pd.to_datetime(positions['Di']).dt.strftime('%W')\n",
    "#pd.to_datetime(positions['Di'])#.groupby('Name').resample('W-Mon', on='Date').sum().reset_index().sort_values(by='Date')\n",
    "\n",
    "\n",
    "\n",
    "list_dates = [dt.datetime.strptime(date, '%Y.%m.%d %H:%M:%S') for date in pos_under_thr['DTo']]\n",
    "dates = matplotlib.dates.date2num(list_dates)\n",
    "plt.figure(5)\n",
    "plt.plot_date(list_dates, pos_under_thr['GROI'].cumsum(),fmt='-')\n",
    "plt.plot_date(list_dates, pos_under_thr['ROI'].cumsum(),fmt='-')\n",
    "#plt.xticks(np.arange(min(list_dates), max(list_dates), 1000000))\n",
    "plt.gcf().autofmt_xdate()\n",
    "plt.grid()"
   ]
  },
  {
   "cell_type": "code",
   "execution_count": null,
   "metadata": {},
   "outputs": [],
   "source": [
    "ind=pos_under_thr[pos_under_thr['Di']=='2018.10.26'].index[-1]\n",
    "print(pos_under_thr['Di'].loc[ind])\n",
    "print('GROI@checkpoint')\n",
    "print(pos_under_thr['GROI'].loc[:ind].cumsum().iloc[-1])\n",
    "print('ROI@checkpoint')\n",
    "print(pos_under_thr['ROI'].loc[:ind].cumsum().iloc[-1])\n"
   ]
  },
  {
   "cell_type": "code",
   "execution_count": null,
   "metadata": {},
   "outputs": [],
   "source": [
    "import matplotlib.pyplot as plt\n",
    "import matplotlib\n",
    "\n",
    "print(pos_dirname+pos_filename+str(100*pip_limit)+'pFilt.csv')\n",
    "plt.rcParams['figure.figsize'] = [10, 5]\n",
    "plt.figure(0)\n",
    "mx = int(np.ceil(max(pos_under_thr['GROI'])))\n",
    "mn = int(np.floor(min(pos_under_thr['ROI'])))\n",
    "bins = [i/20 for i in range(20*mn,20*mx)]\n",
    "histG = plt.hist(pos_under_thr['GROI'], bins=bins)\n",
    "histR = plt.hist(pos_under_thr['ROI'], bins=bins)\n",
    "plt.grid()\n",
    "\n",
    "#pos_under_thr.index = range(pos_under_thr.shape[0])\n",
    "plt.figure(1)\n",
    "plt.plot(range(pos_under_thr.shape[0]),pos_under_thr['GROI'].cumsum())\n",
    "plt.plot(range(pos_under_thr.shape[0]),pos_under_thr['ROI'].cumsum())\n",
    "#plt.plot(range(pos_under_03.shape[0]),pos_under_03['ROI'].cumsum())\n",
    "plt.grid()\n",
    "\n",
    "plt.figure(2)\n",
    "#print(pos_under_thr['ROI'])\n",
    "print(positions[pos_under_2p]['GROI'].shape)\n",
    "cumG = plt.plot(positions['GROI'].cumsum())#, bins=bins\n",
    "cumR = plt.plot(positions['ROI'].cumsum())\n",
    "plt.plot(np.cumsum(positions.GROI[(positions.GROI>=low_arg_goi) & (positions.GROI<=high_arg_goi)]))\n",
    "plt.plot(np.cumsum(positions.ROI[(positions.GROI>=low_arg_goi) & (positions.GROI<=high_arg_goi)]))\n",
    "plt.grid()\n",
    "\n",
    "\n",
    "#positions\n",
    "#grouped = pos_format.groupby(['asset'])\n",
    "weekly_group = pos_under_thr.groupby([pd.to_datetime(pos_under_thr['Di']).dt.strftime('%W')])['ROI']\n",
    "weekly_group_G = pos_under_thr.groupby([pd.to_datetime(pos_under_thr['Di']).dt.strftime('%W')])['GROI']\n",
    "asset_group = pos_under_thr.groupby(['Asset'])\n",
    "weekly_sum = weekly_group.sum()\n",
    "weekly_sum_G = weekly_group_G.sum()\n",
    "weekly_count = weekly_group.count()\n",
    "#weekly_sum.cumsum()\n",
    "#print(asset_group['GROI'].sum())\n",
    "#print(asset_group['ROI'].sum())\n",
    "#print(asset_group['ROI'].count())\n",
    "plt.figure(3)\n",
    "plt.plot(weekly_sum_G.cumsum())\n",
    "plt.plot(range(weekly_sum.shape[0]), weekly_sum.cumsum())\n",
    "plt.grid()\n",
    "#print(weekly_sum_G)\n",
    "#print(weekly_sum)#.cumsum()\n",
    "print(weekly_sum_G.cumsum()[-1])\n",
    "print(weekly_sum.cumsum()[-1])\n",
    "#print(weekly_count)\n",
    "#print(weekly_sum.cumsum())\n",
    "#print(weekly_count.shape)\n",
    "#print(pos_under_thr.groupby([pd.to_datetime(pos_under_thr['Di']).dt.strftime('%W')])['GROI'].sum())\n",
    "#print(weekly_count)\n",
    "plt.figure(4)\n",
    "plt.grid()\n",
    "plt.hist(weekly_count, bins=range(0,max(weekly_count),5))\n",
    "\n",
    "#for name, group in asset_group:\n",
    "#    print(name)\n",
    "#    print(group.to_string())\n",
    "#pd.to_datetime(positions['Di']).dt.strftime('%W')\n",
    "#pd.to_datetime(positions['Di'])#.groupby('Name').resample('W-Mon', on='Date').sum().reset_index().sort_values(by='Date')\n",
    "\n",
    "\n",
    "\n",
    "list_dates = [dt.datetime.strptime(date, '%Y.%m.%d %H:%M:%S') for date in pos_under_thr['DTo']]\n",
    "dates = matplotlib.dates.date2num(list_dates)\n",
    "plt.figure(5)\n",
    "plt.plot_date(list_dates, pos_under_thr['GROI'].cumsum(),fmt='-')\n",
    "plt.plot_date(list_dates, pos_under_thr['ROI'].cumsum(),fmt='-')\n",
    "#plt.plot_date([dt.datetime.strptime(date, '%Y.%m.%d %H:%M:%S') for date in pos_under_ALBS['DTo']],pos_under_ALBS['ROI'].cumsum(),fmt='*-')\n",
    "#plt.xticks(np.arange(min(list_dates), max(list_dates), 1000000))\n",
    "plt.gcf().autofmt_xdate()\n",
    "plt.grid()"
   ]
  },
  {
   "cell_type": "code",
   "execution_count": null,
   "metadata": {},
   "outputs": [],
   "source": [
    "pos_under_thr.sort_values(by=['ROI'],ascending=True).reset_index().drop('index',1)"
   ]
  },
  {
   "cell_type": "code",
   "execution_count": null,
   "metadata": {},
   "outputs": [],
   "source": []
  }
 ],
 "metadata": {
  "kernelspec": {
   "display_name": "Python 3",
   "language": "python",
   "name": "python3"
  },
  "language_info": {
   "codemirror_mode": {
    "name": "ipython",
    "version": 3
   },
   "file_extension": ".py",
   "mimetype": "text/x-python",
   "name": "python",
   "nbconvert_exporter": "python",
   "pygments_lexer": "ipython3",
   "version": "3.5.5"
  }
 },
 "nbformat": 4,
 "nbformat_minor": 2
}
