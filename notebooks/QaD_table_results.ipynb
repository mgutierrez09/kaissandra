{
 "cells": [
  {
   "cell_type": "code",
   "execution_count": 4,
   "metadata": {},
   "outputs": [
    {
     "name": "stdout",
     "output_type": "stream",
     "text": [
      "C:\\Users\\mgutierrez\\root\\Projects\\SDC\\py\\kaissandra\\ already in python path\n",
      "The autoreload extension is already loaded. To reload it, use:\n",
      "  %reload_ext autoreload\n"
     ]
    }
   ],
   "source": [
    "import sys\n",
    "import os\n",
    "\n",
    "this_path = os.getcwd()\n",
    "path = '\\\\'.join(this_path.split('\\\\')[:-1])+'\\\\'\n",
    "if path not in sys.path:\n",
    "    sys.path.insert(0, path)\n",
    "    print(path+\" added to python path\")\n",
    "else:\n",
    "    print(path+\" already in python path\")\n",
    "    \n",
    "import pandas as pd\n",
    "import datetime as dt\n",
    "import pickle\n",
    "import math\n",
    "import numpy as np\n",
    "import matplotlib.pyplot as plt\n",
    "\n",
    "%matplotlib inline\n",
    "%load_ext autoreload\n",
    "%autoreload 2\n"
   ]
  },
  {
   "cell_type": "code",
   "execution_count": null,
   "metadata": {},
   "outputs": [],
   "source": []
  },
  {
   "cell_type": "markdown",
   "metadata": {},
   "source": [
    "## Find candidate"
   ]
  },
  {
   "cell_type": "code",
   "execution_count": 18,
   "metadata": {},
   "outputs": [],
   "source": [
    "from kaissandra.local_config import local_vars\n",
    "\n",
    "results_filename = local_vars.results_directory\n",
    "IDresults = 'RRNN01010k5K5AC'#'RRNN00000K5ACNR'\n",
    "results_table_filename = results_filename+IDresults+'/performance.csv'\n",
    "TR = pd.read_csv(results_table_filename, sep='\\t')"
   ]
  },
  {
   "cell_type": "code",
   "execution_count": 19,
   "metadata": {},
   "outputs": [],
   "source": [
    "def extract_result(dict_inputs, list_kpis):\n",
    "    \"\"\" Extract single results \"\"\"\n",
    "    # init idxs to Trues\n",
    "    idxs = TR['epoch']>=0\n",
    "    for key,func in dict_inputs.items():\n",
    "        idxs = idxs & (TR[key].apply(func))\n",
    "    dict_out = {}\n",
    "    for kpi in list_kpis:\n",
    "        maxidx = TR[kpi][idxs].idxmax()\n",
    "        dict_out[kpi] = TR.iloc[maxidx]\n",
    "        print(kpi)\n",
    "        print(dict_out[kpi].to_string())"
   ]
  },
  {
   "cell_type": "code",
   "execution_count": 20,
   "metadata": {},
   "outputs": [
    {
     "name": "stdout",
     "output_type": "stream",
     "text": [
      "eROI2\n",
      "epoch                9\n",
      "t_index           mean\n",
      "thr_mc             0.7\n",
      "thr_md             0.6\n",
      "AD             57.5772\n",
      "ADA            44.4644\n",
      "GSP            59.3803\n",
      "NSP            54.5915\n",
      "NO                1775\n",
      "NZ                8189\n",
      "NZA              10604\n",
      "RD                4715\n",
      "NSP.5          58.4225\n",
      "NSP1           57.5775\n",
      "NSP1.5         56.7324\n",
      "NSP2            55.831\n",
      "NSP3           53.5211\n",
      "NSP4            51.493\n",
      "NSP5           48.9014\n",
      "SI.5           7.09695\n",
      "SI1            6.38489\n",
      "SI1.5          5.67282\n",
      "SI2            4.91328\n",
      "SI3            2.96695\n",
      "SI4            1.25799\n",
      "SI5           -0.92569\n",
      "SI             -19.118\n",
      "eGROI          77.4995\n",
      "eROI.5         68.6245\n",
      "eROI1          59.7495\n",
      "eROI1.5        50.8745\n",
      "eROI2          41.9995\n",
      "eROI3          24.2495\n",
      "eROI4          6.49945\n",
      "eROI5         -11.2505\n",
      "eROI           34.1878\n",
      "mSpread      0.0244009\n",
      "pNZ           0.919492\n",
      "pNZA           1.19066\n",
      "tGROI          246.823\n",
      "tROI          -31.4662\n",
      "eRl1           34.1878\n",
      "eRl2                 0\n",
      "eGl1           77.4995\n",
      "eGl2                 0\n",
      "sharpe         2.23883\n",
      "NOl1              1775\n",
      "NOl2                 0\n",
      "eGROIL         64.3996\n",
      "eGROIS         13.0998\n",
      "NOL               1481\n",
      "NOS                294\n",
      "GSPl           59.1492\n",
      "GSPs           60.5442\n",
      "99eGROI        67.2228\n",
      "99eROI         28.6021\n",
      "99eROI.5       59.2278\n",
      "99eROI1        51.2328\n",
      "99eROI1.5      43.2378\n",
      "99eROI2        35.2428\n",
      "99eROI3        19.2528\n",
      "99eROI4        3.26282\n",
      "99eROI5       -12.7272\n"
     ]
    }
   ],
   "source": [
    "func1 = lambda x:x=='mean'\n",
    "func2 = lambda x:x>=60\n",
    "func3 = lambda x:x==12\n",
    "func_mc = lambda x:x==0.7\n",
    "func_md = lambda x:x==0.6\n",
    "extract_result({'thr_mc':func_mc,'thr_md':func_md,'t_index':func1}, ['eROI2'])#,"
   ]
  },
  {
   "cell_type": "markdown",
   "metadata": {},
   "source": [
    "## Get Positions Candidate"
   ]
  },
  {
   "cell_type": "code",
   "execution_count": 11,
   "metadata": {},
   "outputs": [],
   "source": [
    "from kaissandra.automate import automate_Kfold\n",
    "\n",
    "rootname_config = 'RNN01010'\n",
    "extR = 'AC'\n",
    "sufix=''\n",
    "K = 5\n",
    "k_end = 5\n",
    "resolution = 10\n",
    "k_init = 2\n",
    "outputGain = 1\n",
    "movingWindow = 500\n",
    "nEventsPerStat = 5000\n",
    "results_from = 'COMB'\n",
    "feats_from_bids = False\n",
    "save_journal = False\n",
    "t_indexes = [0,1,2,3]\n",
    "thresholds_mc = [.7]#[int(np.round((.5+i/resolution)*100))/100 for i in range(int(resolution/2))]\n",
    "thresholds_md = [.6]#[int(np.round((.5+i/resolution)*100))/100 for i in range(int(resolution/2))]\n",
    "IDrs=['R'+rootname_config+'k'+str(fold_idx+1)+'K'+str(K)+extR+sufix for fold_idx in range(k_end)]\n",
    "IDr_merged=rootname_config+'k'+str(k_init+1)+'-'+str(k_end)+'K'+str(K)+extR+sufix"
   ]
  },
  {
   "cell_type": "code",
   "execution_count": 12,
   "metadata": {},
   "outputs": [
    {
     "name": "stdout",
     "output_type": "stream",
     "text": [
      "k 3 of 5\n",
      "IDresults:\n",
      "RRNN01010k3K5AC\n",
      "WARNING! Config values have been overwritten with entries values\n",
      "Config file C:/Users/mgutierrez/root/Projects/SDC/py/RNN/config/CRNN01010k3K5.config exists. Loaded from disk\n",
      "RRNN01010k3K5AC\n",
      "Getting dataset edges...\n",
      "C:/Users/mgutierrez/root/Projects/SDC/py/RNN/IO/DTA_RRNN01010k3K5AC.p\n",
      "Edges:\n",
      "[datetime.date(2016, 8, 2), datetime.date(2017, 3, 6), datetime.date(2017, 9, 27), datetime.date(2018, 4, 10)]\n",
      "C:/Users/mgutierrez/root/Projects/SDC/py/RNN/IO/IOKFWRNN01010k3K5AC.hdf5\n",
      "C:/Users/mgutierrez/root/Projects/SDC/py/RNN/IO/IOKFRRNN01010k3K5AC.hdf5\n",
      "C:/Users/mgutierrez/root/Projects/SDC/py/RNN/IO/DTA_RRNN01010k3K5AC.p\n",
      "Samples for fitting: 3051829\n",
      "Samples for cross-validation: 752867\n",
      "Total samples: 3804696\n",
      "totalSampsPerLevel not in IO :(\n",
      "DONE building IO\n",
      "Iteration 0 of 0\n",
      "INFO:tensorflow:Restoring parameters from C:/Users/mgutierrez/root/Projects/SDC/py/RNN/weights/WRNN01010k3K5A/000005/000005\n",
      "Parameters loaded. Epoch 5\n",
      "Epoch 5 of 14. Getting output...\n"
     ]
    },
    {
     "name": "stderr",
     "output_type": "stream",
     "text": [
      "100%|███████████████████████████████████████████████████████████████████████████████████████████████████████████████████████████████████| 736/736 [01:02<00:00, 11.70it/s]\n"
     ]
    },
    {
     "name": "stdout",
     "output_type": "stream",
     "text": [
      "J_test = 1.556141\n",
      "Epoch 5, J_train = 1.6490453079910292, J_test = 1.556140737041183\n",
      "Getting extended results...\n"
     ]
    },
    {
     "name": "stderr",
     "output_type": "stream",
     "text": [
      "100%|███████████████████████████████████████████████████████████████████████████████████████████████████████████████████████████████████| 62/62 [00:00<00:00, 1480.03it/s]\n"
     ]
    },
    {
     "name": "stdout",
     "output_type": "stream",
     "text": [
      "Epoch = 5. Time index = 0. Threshold MC = 0.7. Threshold MD = 0.6\n",
      "RD = 30 NZ = 46 NZA = 63 pNZ = 0.006% pNZA = 0.008% AD = 65.22% ADA = 47.62% NO = 60 GSP = 58.33% NSP = 53.33%\n",
      "SI2 = 1.03 SI = -3.55 eGROI = 2.38% eROI = 0.95% eROI2 = 1.18% eROI3 = 0.58% mSpread = 0.0237%\n",
      "\n",
      "Getting extended results...\n"
     ]
    },
    {
     "name": "stderr",
     "output_type": "stream",
     "text": [
      "100%|█████████████████████████████████████████████████████████████████████████████████████████████████████████████████████████████████| 255/255 [00:00<00:00, 1578.20it/s]\n"
     ]
    },
    {
     "name": "stdout",
     "output_type": "stream",
     "text": [
      "Epoch = 5. Time index = 1. Threshold MC = 0.7. Threshold MD = 0.6\n",
      "RD = 138 NZ = 204 NZA = 256 pNZ = 0.027% pNZA = 0.034% AD = 67.65% ADA = 53.91% NO = 164 GSP = 62.20% NSP = 59.15%\n",
      "SI2 = 2.65 SI = -5.19 eGROI = 5.76% eROI = 2.49% eROI2 = 2.48% eROI3 = 0.84% mSpread = 0.0199%\n",
      "\n",
      "Getting extended results...\n"
     ]
    },
    {
     "name": "stderr",
     "output_type": "stream",
     "text": [
      "100%|█████████████████████████████████████████████████████████████████████████████████████████████████████████████████████████████████| 393/393 [00:00<00:00, 1894.38it/s]\n"
     ]
    },
    {
     "name": "stdout",
     "output_type": "stream",
     "text": [
      "Epoch = 5. Time index = 2. Threshold MC = 0.7. Threshold MD = 0.6\n",
      "RD = 215 NZ = 305 NZA = 394 pNZ = 0.041% pNZA = 0.052% AD = 70.49% ADA = 54.57% NO = 172 GSP = 69.77% NSP = 63.37%\n",
      "SI2 = 3.81 SI = -4.76 eGROI = 12.89% eROI = 9.20% eROI2 = 9.45% eROI3 = 7.73% mSpread = 0.0215%\n",
      "\n",
      "Getting extended results...\n"
     ]
    },
    {
     "name": "stderr",
     "output_type": "stream",
     "text": [
      "100%|█████████████████████████████████████████████████████████████████████████████████████████████████████████████████████████████████| 541/541 [00:00<00:00, 3545.25it/s]\n"
     ]
    },
    {
     "name": "stdout",
     "output_type": "stream",
     "text": [
      "Epoch = 5. Time index = 3. Threshold MC = 0.7. Threshold MD = 0.6\n",
      "RD = 273 NZ = 423 NZA = 542 pNZ = 0.056% pNZA = 0.072% AD = 64.54% ADA = 50.37% NO = 183 GSP = 65.57% NSP = 61.20%\n",
      "SI2 = 3.03 SI = -5.20 eGROI = 12.27% eROI = 8.50% eROI2 = 8.61% eROI3 = 6.78% mSpread = 0.0206%\n",
      "\n",
      "Getting extended results...\n"
     ]
    },
    {
     "name": "stderr",
     "output_type": "stream",
     "text": [
      "100%|█████████████████████████████████████████████████████████████████████████████████████████████████████████████████████████████████| 179/179 [00:00<00:00, 2162.29it/s]\n"
     ]
    },
    {
     "name": "stdout",
     "output_type": "stream",
     "text": [
      "Epoch = 5. Time index = mean. Threshold MC = 0.7. Threshold MD = 0.6\n",
      "RD = 100 NZ = 139 NZA = 180 pNZ = 0.018% pNZA = 0.024% AD = 71.94% ADA = 55.56% NO = 101 GSP = 66.34% NSP = 61.39%\n",
      "SI2 = 2.69 SI = -3.82 eGROI = 7.17% eROI = 5.11% eROI2 = 5.15% eROI3 = 4.14% mSpread = 0.0204%\n",
      "\n",
      "Best eGROI = 27.31 t_index 2 thr_mc 0.5 thr_md 0.6 epoch 5 in 1334 GSP 59.22 ADA 37.83 AD 63.28\n",
      "Best eROI = 9.20 t_index 2 thr_mc 0.7 thr_md 0.6 epoch 5 in 172 GSP 69.77 ADA 54.57 AD 70.49\n",
      "Best eROI.5 = 20.64 t_index 2 thr_mc 0.5 thr_md 0.6 epoch 5 in 1334 GSP 59.22 ADA 37.83 AD 63.28\n",
      "Best eROI1 = 14.33 t_index 2 thr_mc 0.6 thr_md 0.6 epoch 5 in 574 GSP 62.02 ADA 44.82 AD 64.23\n",
      "Best eROI1.5 = 11.46 t_index 2 thr_mc 0.6 thr_md 0.6 epoch 5 in 574 GSP 62.02 ADA 44.82 AD 64.23\n",
      "Best eROI2 = 9.45 t_index 2 thr_mc 0.7 thr_md 0.6 epoch 5 in 172 GSP 69.77 ADA 54.57 AD 70.49\n",
      "Best eROI3 = 7.73 t_index 2 thr_mc 0.7 thr_md 0.6 epoch 5 in 172 GSP 69.77 ADA 54.57 AD 70.49\n",
      "Best eROI4 = 6.01 t_index 2 thr_mc 0.7 thr_md 0.6 epoch 5 in 172 GSP 69.77 ADA 54.57 AD 70.49\n",
      "Best eROI5 = 4.29 t_index 2 thr_mc 0.7 thr_md 0.6 epoch 5 in 172 GSP 69.77 ADA 54.57 AD 70.49\n",
      "Best SI = 17.84 t_index 2 thr_mc 0.7 thr_md 0.6 epoch 5 in 172 GSP 69.77 ADA 54.57 AD 70.49\n",
      "Best SI.5 = 60.98 t_index 2 thr_mc 0.5 thr_md 0.6 epoch 5 in 1334 GSP 59.22 ADA 37.83 AD 63.28\n",
      "Best SI1 = 35.78 t_index 2 thr_mc 0.6 thr_md 0.6 epoch 5 in 574 GSP 62.02 ADA 44.82 AD 64.23\n",
      "Best SI1.5 = 30.78 t_index 2 thr_mc 0.6 thr_md 0.6 epoch 5 in 574 GSP 62.02 ADA 44.82 AD 64.23\n",
      "Best SI2 = 19.84 t_index 2 thr_mc 0.7 thr_md 0.6 epoch 5 in 172 GSP 69.77 ADA 54.57 AD 70.49\n",
      "Best SI3 = 11.84 t_index 2 thr_mc 0.7 thr_md 0.6 epoch 5 in 172 GSP 69.77 ADA 54.57 AD 70.49\n",
      "Best SI4 = 7.91 t_index 2 thr_mc 0.8 thr_md 0.6 epoch 5 in 53 GSP 77.36 ADA 67.05 AD 83.10\n",
      "Best SI5 = 6.91 t_index 2 thr_mc 0.8 thr_md 0.6 epoch 5 in 53 GSP 77.36 ADA 67.05 AD 83.10\n",
      "Best 99eGROI = 28.85 t_index 2 thr_mc 0.5 thr_md 0.6 epoch 5 in 1334 GSP 59.22 ADA 37.83 AD 63.28\n",
      "Best 99eROI = 10.55 t_index 2 thr_mc 0.7 thr_md 0.6 epoch 5 in 172 GSP 69.77 ADA 54.57 AD 70.49\n",
      "Best 99eROI.5 = 22.31 t_index 2 thr_mc 0.5 thr_md 0.6 epoch 5 in 1334 GSP 59.22 ADA 37.83 AD 63.28\n",
      "Best 99eROI1 = 15.77 t_index 2 thr_mc 0.5 thr_md 0.6 epoch 5 in 1334 GSP 59.22 ADA 37.83 AD 63.28\n",
      "Best 99eROI1.5 = 11.67 t_index 2 thr_mc 0.7 thr_md 0.6 epoch 5 in 172 GSP 69.77 ADA 54.57 AD 70.49\n",
      "Best 99eROI2 = 10.82 t_index 2 thr_mc 0.7 thr_md 0.6 epoch 5 in 172 GSP 69.77 ADA 54.57 AD 70.49\n",
      "Best 99eROI3 = 9.12 t_index 2 thr_mc 0.7 thr_md 0.6 epoch 5 in 172 GSP 69.77 ADA 54.57 AD 70.49\n",
      "Best 99eROI4 = 7.42 t_index 2 thr_mc 0.7 thr_md 0.6 epoch 5 in 172 GSP 69.77 ADA 54.57 AD 70.49\n",
      "Best 99eROI5 = 5.72 t_index 2 thr_mc 0.7 thr_md 0.6 epoch 5 in 172 GSP 69.77 ADA 54.57 AD 70.49\n",
      "\n",
      "The very best:\n",
      "Best eGROI = 67.85 t_index 1 thr_mc 0.5 thr_md 0.6 epoch 14 in 4083 GSP 55.99 ADA 33.53 AD 56.66\n",
      "Best eROI = 32.05 t_index 2 thr_mc 0.7 thr_md 0.6 epoch 14 in 680 GSP 57.94 ADA 41.81 AD 57.88\n",
      "Best eROI.5 = 51.61 t_index 2 thr_mc 0.6 thr_md 0.6 epoch 14 in 2090 GSP 57.85 ADA 37.69 AD 57.30\n",
      "Best eROI1 = 41.16 t_index 2 thr_mc 0.6 thr_md 0.6 epoch 14 in 2090 GSP 57.85 ADA 37.69 AD 57.30\n",
      "Best eROI1.5 = 35.21 t_index 2 thr_mc 0.7 thr_md 0.6 epoch 14 in 680 GSP 57.94 ADA 41.81 AD 57.88\n",
      "Best eROI2 = 31.81 t_index 2 thr_mc 0.7 thr_md 0.6 epoch 14 in 680 GSP 57.94 ADA 41.81 AD 57.88\n",
      "Best eROI3 = 25.01 t_index 2 thr_mc 0.7 thr_md 0.6 epoch 14 in 680 GSP 57.94 ADA 41.81 AD 57.88\n",
      "Best eROI4 = 18.21 t_index 2 thr_mc 0.7 thr_md 0.6 epoch 14 in 680 GSP 57.94 ADA 41.81 AD 57.88\n",
      "Best eROI5 = 11.41 t_index 2 thr_mc 0.7 thr_md 0.6 epoch 14 in 680 GSP 57.94 ADA 41.81 AD 57.88\n",
      "Best SI = 19.75 t_index 0 thr_mc 0.7 thr_md 0.6 epoch 12 in 525 GSP 61.52 ADA 43.92 AD 58.13\n",
      "Best SI.5 = 105.61 t_index 0 thr_mc 0.5 thr_md 0.6 epoch 10 in 2463 GSP 58.95 ADA 36.23 AD 60.19\n",
      "Best SI1 = 61.61 t_index 0 thr_mc 0.5 thr_md 0.6 epoch 10 in 2463 GSP 58.95 ADA 36.23 AD 60.19\n",
      "Best SI1.5 = 34.96 t_index 0 thr_mc 0.6 thr_md 0.6 epoch 10 in 1268 GSP 60.02 ADA 40.33 AD 60.19\n",
      "Best SI2 = 19.84 t_index 2 thr_mc 0.7 thr_md 0.6 epoch 5 in 172 GSP 69.77 ADA 54.57 AD 70.49\n",
      "Best SI3 = 11.84 t_index 2 thr_mc 0.7 thr_md 0.6 epoch 5 in 172 GSP 69.77 ADA 54.57 AD 70.49\n",
      "Best SI4 = 8.66 t_index 1 thr_mc 0.8 thr_md 0.6 epoch 6 in 78 GSP 69.23 ADA 61.54 AD 76.19\n",
      "Best SI5 = 7.66 t_index 1 thr_mc 0.8 thr_md 0.6 epoch 6 in 78 GSP 69.23 ADA 61.54 AD 76.19\n",
      "Best 99eGROI = 58.04 t_index 0 thr_mc 0.5 thr_md 0.6 epoch 14 in 3552 GSP 57.52 ADA 34.10 AD 57.76\n",
      "Best 99eROI = 15.42 t_index 2 thr_mc 0.7 thr_md 0.6 epoch 14 in 680 GSP 57.94 ADA 41.81 AD 57.88\n",
      "Best 99eROI.5 = 40.63 t_index 0 thr_mc 0.5 thr_md 0.6 epoch 14 in 3552 GSP 57.52 ADA 34.10 AD 57.76\n",
      "Best 99eROI1 = 25.04 t_index 2 thr_mc 0.6 thr_md 0.6 epoch 14 in 2090 GSP 57.85 ADA 37.69 AD 57.30\n",
      "Best 99eROI1.5 = 18.55 t_index 2 thr_mc 0.7 thr_md 0.6 epoch 14 in 680 GSP 57.94 ADA 41.81 AD 57.88\n",
      "Best 99eROI2 = 15.21 t_index 2 thr_mc 0.7 thr_md 0.6 epoch 14 in 680 GSP 57.94 ADA 41.81 AD 57.88\n",
      "Best 99eROI3 = 9.12 t_index 2 thr_mc 0.7 thr_md 0.6 epoch 5 in 172 GSP 69.77 ADA 54.57 AD 70.49\n",
      "Best 99eROI4 = 7.42 t_index 2 thr_mc 0.7 thr_md 0.6 epoch 5 in 172 GSP 69.77 ADA 54.57 AD 70.49\n",
      "Best 99eROI5 = 5.72 t_index 2 thr_mc 0.7 thr_md 0.6 epoch 5 in 172 GSP 69.77 ADA 54.57 AD 70.49\n",
      "Time=8.43 secs\n",
      "INFO:tensorflow:Restoring parameters from C:/Users/mgutierrez/root/Projects/SDC/py/RNN/weights/WRNN01010k3K5A/000006/000006\n",
      "Parameters loaded. Epoch 6\n",
      "Epoch 6 of 14. Getting output...\n"
     ]
    },
    {
     "name": "stderr",
     "output_type": "stream",
     "text": [
      "100%|███████████████████████████████████████████████████████████████████████████████████████████████████████████████████████████████████| 736/736 [01:10<00:00, 10.38it/s]\n"
     ]
    },
    {
     "name": "stdout",
     "output_type": "stream",
     "text": [
      "J_test = 1.556068\n",
      "Epoch 6, J_train = 1.6482232549590086, J_test = 1.556068356756283\n",
      "Getting extended results...\n"
     ]
    },
    {
     "name": "stderr",
     "output_type": "stream",
     "text": [
      "100%|█████████████████████████████████████████████████████████████████████████████████████████████████████████████████████████████████| 131/131 [00:00<00:00, 1527.27it/s]\n"
     ]
    },
    {
     "name": "stdout",
     "output_type": "stream",
     "text": [
      "Epoch = 6. Time index = 0. Threshold MC = 0.7. Threshold MD = 0.6\n",
      "RD = 68 NZ = 103 NZA = 132 pNZ = 0.014% pNZA = 0.018% AD = 66.02% ADA = 51.52% NO = 112 GSP = 56.25% NSP = 50.89%\n",
      "SI2 = 0.94 SI = -5.15 eGROI = 2.57% eROI = 0.08% eROI2 = 0.33% eROI3 = -0.79% mSpread = 0.0222%\n",
      "\n",
      "Getting extended results...\n"
     ]
    },
    {
     "name": "stderr",
     "output_type": "stream",
     "text": [
      "100%|█████████████████████████████████████████████████████████████████████████████████████████████████████████████████████████████████| 629/629 [00:00<00:00, 2718.31it/s]\n"
     ]
    },
    {
     "name": "stdout",
     "output_type": "stream",
     "text": [
      "Epoch = 6. Time index = 1. Threshold MC = 0.7. Threshold MD = 0.6\n",
      "RD = 326 NZ = 499 NZA = 630 pNZ = 0.066% pNZA = 0.084% AD = 65.33% ADA = 51.75% NO = 289 GSP = 61.25% NSP = 57.09%\n",
      "SI2 = 2.53 SI = -7.26 eGROI = 10.42% eROI = 4.45% eROI2 = 4.64% eROI3 = 1.75% mSpread = 0.0206%\n",
      "\n",
      "Getting extended results...\n"
     ]
    },
    {
     "name": "stderr",
     "output_type": "stream",
     "text": [
      "100%|█████████████████████████████████████████████████████████████████████████████████████████████████████████████████████████████████| 880/880 [00:00<00:00, 3601.32it/s]\n"
     ]
    },
    {
     "name": "stdout",
     "output_type": "stream",
     "text": [
      "Epoch = 6. Time index = 2. Threshold MC = 0.7. Threshold MD = 0.6\n",
      "RD = 402 NZ = 679 NZA = 881 pNZ = 0.090% pNZA = 0.117% AD = 59.20% ADA = 45.63% NO = 293 GSP = 59.39% NSP = 56.31%\n",
      "SI2 = 2.51 SI = -7.44 eGROI = 11.43% eROI = 5.41% eROI2 = 5.57% eROI3 = 2.64% mSpread = 0.0206%\n",
      "\n",
      "Getting extended results...\n"
     ]
    },
    {
     "name": "stderr",
     "output_type": "stream",
     "text": [
      "100%|███████████████████████████████████████████████████████████████████████████████████████████████████████████████████████████████| 1092/1092 [00:00<00:00, 3400.21it/s]\n"
     ]
    },
    {
     "name": "stdout",
     "output_type": "stream",
     "text": [
      "Epoch = 6. Time index = 3. Threshold MC = 0.7. Threshold MD = 0.6\n",
      "RD = 492 NZ = 832 NZA = 1093 pNZ = 0.111% pNZA = 0.145% AD = 59.13% ADA = 45.01% NO = 306 GSP = 61.44% NSP = 55.56%\n",
      "SI2 = 2.06 SI = -7.74 eGROI = 14.07% eROI = 7.95% eROI2 = 7.95% eROI3 = 4.89% mSpread = 0.0200%\n",
      "\n",
      "Getting extended results...\n"
     ]
    },
    {
     "name": "stderr",
     "output_type": "stream",
     "text": [
      "100%|█████████████████████████████████████████████████████████████████████████████████████████████████████████████████████████████████| 547/547 [00:00<00:00, 2886.48it/s]\n"
     ]
    },
    {
     "name": "stdout",
     "output_type": "stream",
     "text": [
      "Epoch = 6. Time index = mean. Threshold MC = 0.7. Threshold MD = 0.6\n",
      "RD = 268 NZ = 420 NZA = 548 pNZ = 0.056% pNZA = 0.073% AD = 63.81% ADA = 48.91% NO = 216 GSP = 59.26% NSP = 54.17%\n",
      "SI2 = 1.22 SI = -6.70 eGROI = 8.24% eROI = 3.73% eROI2 = 3.92% eROI3 = 1.76% mSpread = 0.0209%\n",
      "\n",
      "Getting extended results...\n"
     ]
    },
    {
     "name": "stderr",
     "output_type": "stream",
     "text": [
      "100%|█████████████████████████████████████████████████████████████████████████████████████████████████████████████████████████████████| 547/547 [00:00<00:00, 2046.37it/s]\n"
     ]
    },
    {
     "name": "stdout",
     "output_type": "stream",
     "text": [
      "Epoch = 6. Time index = mean. Threshold MC = 0.7. Threshold MD = 0.6\n",
      "RD = 268 NZ = 420 NZA = 548 pNZ = 0.056% pNZA = 0.073% AD = 63.81% ADA = 48.91% NO = 216 GSP = 59.26% NSP = 54.17%\n",
      "SI2 = 1.22 SI = -6.70 eGROI = 8.24% eROI = 3.73% eROI2 = 3.92% eROI3 = 1.76% mSpread = 0.0209%\n",
      "\n",
      "Best eGROI = 26.83 t_index 3 thr_mc 0.5 thr_md 0.6 epoch 6 in 2499 GSP 57.26 ADA 33.12 AD 57.90\n",
      "Best eROI = 7.95 t_index 3 thr_mc 0.7 thr_md 0.6 epoch 6 in 306 GSP 61.44 ADA 45.01 AD 59.13\n",
      "Best eROI.5 = 16.56 t_index 3 thr_mc 0.6 thr_md 0.6 epoch 6 in 1036 GSP 59.36 ADA 39.58 AD 58.97\n",
      "Best eROI1 = 11.38 t_index 3 thr_mc 0.6 thr_md 0.6 epoch 6 in 1036 GSP 59.36 ADA 39.58 AD 58.97\n",
      "Best eROI1.5 = 9.48 t_index 3 thr_mc 0.7 thr_md 0.6 epoch 6 in 306 GSP 61.44 ADA 45.01 AD 59.13\n",
      "Best eROI2 = 7.95 t_index 3 thr_mc 0.7 thr_md 0.6 epoch 6 in 306 GSP 61.44 ADA 45.01 AD 59.13\n",
      "Best eROI3 = 4.89 t_index 3 thr_mc 0.7 thr_md 0.6 epoch 6 in 306 GSP 61.44 ADA 45.01 AD 59.13\n",
      "Best eROI4 = 3.68 t_index 3 thr_mc 0.8 thr_md 0.6 epoch 6 in 94 GSP 64.89 ADA 49.35 AD 61.63\n",
      "Best eROI5 = 2.74 t_index 3 thr_mc 0.8 thr_md 0.6 epoch 6 in 94 GSP 64.89 ADA 49.35 AD 61.63\n",
      "Best SI = 11.83 t_index 1 thr_mc 0.7 thr_md 0.6 epoch 6 in 289 GSP 61.25 ADA 51.75 AD 65.33\n",
      "Best SI.5 = 60.53 t_index 3 thr_mc 0.5 thr_md 0.6 epoch 6 in 2499 GSP 57.26 ADA 33.12 AD 57.90\n",
      "Best SI1 = 35.92 t_index 3 thr_mc 0.6 thr_md 0.6 epoch 6 in 1036 GSP 59.36 ADA 39.58 AD 58.97\n",
      "Best SI1.5 = 19.92 t_index 3 thr_mc 0.6 thr_md 0.6 epoch 6 in 1036 GSP 59.36 ADA 39.58 AD 58.97\n",
      "Best SI2 = 12.83 t_index 1 thr_mc 0.7 thr_md 0.6 epoch 6 in 289 GSP 61.25 ADA 51.75 AD 65.33\n",
      "Best SI3 = 10.66 t_index 1 thr_mc 0.8 thr_md 0.6 epoch 6 in 78 GSP 69.23 ADA 61.54 AD 76.19\n",
      "Best SI4 = 8.66 t_index 1 thr_mc 0.8 thr_md 0.6 epoch 6 in 78 GSP 69.23 ADA 61.54 AD 76.19\n",
      "Best SI5 = 7.66 t_index 1 thr_mc 0.8 thr_md 0.6 epoch 6 in 78 GSP 69.23 ADA 61.54 AD 76.19\n",
      "Best 99eGROI = 32.17 t_index 3 thr_mc 0.5 thr_md 0.6 epoch 6 in 2499 GSP 57.26 ADA 33.12 AD 57.90\n",
      "Best 99eROI = 8.40 t_index 3 thr_mc 0.7 thr_md 0.6 epoch 6 in 306 GSP 61.44 ADA 45.01 AD 59.13\n",
      "Best 99eROI.5 = 19.92 t_index 3 thr_mc 0.5 thr_md 0.6 epoch 6 in 2499 GSP 57.26 ADA 33.12 AD 57.90\n",
      "Best 99eROI1 = 12.38 t_index 3 thr_mc 0.6 thr_md 0.6 epoch 6 in 1036 GSP 59.36 ADA 39.58 AD 58.97\n",
      "Best 99eROI1.5 = 9.90 t_index 3 thr_mc 0.7 thr_md 0.6 epoch 6 in 306 GSP 61.44 ADA 45.01 AD 59.13\n",
      "Best 99eROI2 = 8.40 t_index 3 thr_mc 0.7 thr_md 0.6 epoch 6 in 306 GSP 61.44 ADA 45.01 AD 59.13\n",
      "Best 99eROI3 = 5.40 t_index 3 thr_mc 0.7 thr_md 0.6 epoch 6 in 306 GSP 61.44 ADA 45.01 AD 59.13\n",
      "Best 99eROI4 = 4.19 t_index 3 thr_mc 0.8 thr_md 0.6 epoch 6 in 94 GSP 64.89 ADA 49.35 AD 61.63\n",
      "Best 99eROI5 = 3.26 t_index 3 thr_mc 0.8 thr_md 0.6 epoch 6 in 94 GSP 64.89 ADA 49.35 AD 61.63\n",
      "\n",
      "The very best:\n",
      "Best eGROI = 67.85 t_index 1 thr_mc 0.5 thr_md 0.6 epoch 14 in 4083 GSP 55.99 ADA 33.53 AD 56.66\n",
      "Best eROI = 32.05 t_index 2 thr_mc 0.7 thr_md 0.6 epoch 14 in 680 GSP 57.94 ADA 41.81 AD 57.88\n",
      "Best eROI.5 = 51.61 t_index 2 thr_mc 0.6 thr_md 0.6 epoch 14 in 2090 GSP 57.85 ADA 37.69 AD 57.30\n",
      "Best eROI1 = 41.16 t_index 2 thr_mc 0.6 thr_md 0.6 epoch 14 in 2090 GSP 57.85 ADA 37.69 AD 57.30\n",
      "Best eROI1.5 = 35.21 t_index 2 thr_mc 0.7 thr_md 0.6 epoch 14 in 680 GSP 57.94 ADA 41.81 AD 57.88\n",
      "Best eROI2 = 31.81 t_index 2 thr_mc 0.7 thr_md 0.6 epoch 14 in 680 GSP 57.94 ADA 41.81 AD 57.88\n",
      "Best eROI3 = 25.01 t_index 2 thr_mc 0.7 thr_md 0.6 epoch 14 in 680 GSP 57.94 ADA 41.81 AD 57.88\n",
      "Best eROI4 = 18.21 t_index 2 thr_mc 0.7 thr_md 0.6 epoch 14 in 680 GSP 57.94 ADA 41.81 AD 57.88\n",
      "Best eROI5 = 11.41 t_index 2 thr_mc 0.7 thr_md 0.6 epoch 14 in 680 GSP 57.94 ADA 41.81 AD 57.88\n",
      "Best SI = 19.75 t_index 0 thr_mc 0.7 thr_md 0.6 epoch 12 in 525 GSP 61.52 ADA 43.92 AD 58.13\n",
      "Best SI.5 = 105.61 t_index 0 thr_mc 0.5 thr_md 0.6 epoch 10 in 2463 GSP 58.95 ADA 36.23 AD 60.19\n",
      "Best SI1 = 61.61 t_index 0 thr_mc 0.5 thr_md 0.6 epoch 10 in 2463 GSP 58.95 ADA 36.23 AD 60.19\n",
      "Best SI1.5 = 34.96 t_index 0 thr_mc 0.6 thr_md 0.6 epoch 10 in 1268 GSP 60.02 ADA 40.33 AD 60.19\n",
      "Best SI2 = 19.84 t_index 2 thr_mc 0.7 thr_md 0.6 epoch 5 in 172 GSP 69.77 ADA 54.57 AD 70.49\n",
      "Best SI3 = 11.84 t_index 2 thr_mc 0.7 thr_md 0.6 epoch 5 in 172 GSP 69.77 ADA 54.57 AD 70.49\n",
      "Best SI4 = 8.66 t_index 1 thr_mc 0.8 thr_md 0.6 epoch 6 in 78 GSP 69.23 ADA 61.54 AD 76.19\n",
      "Best SI5 = 7.66 t_index 1 thr_mc 0.8 thr_md 0.6 epoch 6 in 78 GSP 69.23 ADA 61.54 AD 76.19\n",
      "Best 99eGROI = 58.04 t_index 0 thr_mc 0.5 thr_md 0.6 epoch 14 in 3552 GSP 57.52 ADA 34.10 AD 57.76\n",
      "Best 99eROI = 15.42 t_index 2 thr_mc 0.7 thr_md 0.6 epoch 14 in 680 GSP 57.94 ADA 41.81 AD 57.88\n",
      "Best 99eROI.5 = 40.63 t_index 0 thr_mc 0.5 thr_md 0.6 epoch 14 in 3552 GSP 57.52 ADA 34.10 AD 57.76\n",
      "Best 99eROI1 = 25.04 t_index 2 thr_mc 0.6 thr_md 0.6 epoch 14 in 2090 GSP 57.85 ADA 37.69 AD 57.30\n",
      "Best 99eROI1.5 = 18.55 t_index 2 thr_mc 0.7 thr_md 0.6 epoch 14 in 680 GSP 57.94 ADA 41.81 AD 57.88\n",
      "Best 99eROI2 = 15.21 t_index 2 thr_mc 0.7 thr_md 0.6 epoch 14 in 680 GSP 57.94 ADA 41.81 AD 57.88\n",
      "Best 99eROI3 = 9.12 t_index 2 thr_mc 0.7 thr_md 0.6 epoch 5 in 172 GSP 69.77 ADA 54.57 AD 70.49\n",
      "Best 99eROI4 = 7.42 t_index 2 thr_mc 0.7 thr_md 0.6 epoch 5 in 172 GSP 69.77 ADA 54.57 AD 70.49\n",
      "Best 99eROI5 = 5.72 t_index 2 thr_mc 0.7 thr_md 0.6 epoch 5 in 172 GSP 69.77 ADA 54.57 AD 70.49\n",
      "Time=10.72 secs\n",
      "INFO:tensorflow:Restoring parameters from C:/Users/mgutierrez/root/Projects/SDC/py/RNN/weights/WRNN01010k3K5A/000007/000007\n",
      "Parameters loaded. Epoch 7\n",
      "Epoch 7 of 14. Getting output...\n"
     ]
    },
    {
     "name": "stderr",
     "output_type": "stream",
     "text": [
      "100%|███████████████████████████████████████████████████████████████████████████████████████████████████████████████████████████████████| 736/736 [01:03<00:00, 11.52it/s]\n"
     ]
    },
    {
     "name": "stdout",
     "output_type": "stream",
     "text": [
      "J_test = 1.556082\n",
      "Epoch 7, J_train = 1.6474823072800158, J_test = 1.5560815091366353\n",
      "Getting extended results...\n"
     ]
    },
    {
     "name": "stderr",
     "output_type": "stream",
     "text": [
      "100%|█████████████████████████████████████████████████████████████████████████████████████████████████████████████████████████████████| 278/278 [00:00<00:00, 2533.93it/s]\n"
     ]
    },
    {
     "name": "stdout",
     "output_type": "stream",
     "text": [
      "Epoch = 7. Time index = 0. Threshold MC = 0.7. Threshold MD = 0.6\n",
      "RD = 148 NZ = 220 NZA = 279 pNZ = 0.029% pNZA = 0.037% AD = 67.27% ADA = 53.05% NO = 188 GSP = 63.30% NSP = 54.79%\n",
      "SI2 = 2.04 SI = -6.16 eGROI = 5.77% eROI = 1.58% eROI2 = 2.01% eROI3 = 0.13% mSpread = 0.0223%\n",
      "\n",
      "Getting extended results...\n"
     ]
    },
    {
     "name": "stderr",
     "output_type": "stream",
     "text": [
      "100%|███████████████████████████████████████████████████████████████████████████████████████████████████████████████████████████████| 1041/1041 [00:00<00:00, 3880.04it/s]\n"
     ]
    },
    {
     "name": "stdout",
     "output_type": "stream",
     "text": [
      "Epoch = 7. Time index = 1. Threshold MC = 0.7. Threshold MD = 0.6\n",
      "RD = 472 NZ = 807 NZA = 1042 pNZ = 0.107% pNZA = 0.138% AD = 58.49% ADA = 45.30% NO = 384 GSP = 58.33% NSP = 54.43%\n",
      "SI2 = 1.94 SI = -8.90 eGROI = 9.71% eROI = 1.95% eROI2 = 2.03% eROI3 = -1.81% mSpread = 0.0202%\n",
      "\n",
      "Getting extended results...\n"
     ]
    },
    {
     "name": "stderr",
     "output_type": "stream",
     "text": [
      "100%|███████████████████████████████████████████████████████████████████████████████████████████████████████████████████████████████| 1296/1296 [00:00<00:00, 4218.83it/s]\n"
     ]
    },
    {
     "name": "stdout",
     "output_type": "stream",
     "text": [
      "Epoch = 7. Time index = 2. Threshold MC = 0.7. Threshold MD = 0.6\n",
      "RD = 559 NZ = 991 NZA = 1297 pNZ = 0.132% pNZA = 0.172% AD = 56.41% ADA = 43.10% NO = 360 GSP = 58.33% NSP = 54.72%\n",
      "SI2 = 1.90 SI = -8.56 eGROI = 12.55% eROI = 5.37% eROI2 = 5.35% eROI3 = 1.75% mSpread = 0.0199%\n",
      "\n",
      "Getting extended results...\n"
     ]
    },
    {
     "name": "stderr",
     "output_type": "stream",
     "text": [
      "100%|███████████████████████████████████████████████████████████████████████████████████████████████████████████████████████████████| 1559/1559 [00:00<00:00, 3473.69it/s]\n"
     ]
    },
    {
     "name": "stdout",
     "output_type": "stream",
     "text": [
      "Epoch = 7. Time index = 3. Threshold MC = 0.7. Threshold MD = 0.6\n",
      "RD = 682 NZ = 1187 NZA = 1560 pNZ = 0.158% pNZA = 0.207% AD = 57.46% ADA = 43.72% NO = 372 GSP = 61.02% NSP = 55.91%\n",
      "SI2 = 2.28 SI = -8.47 eGROI = 14.14% eROI = 6.75% eROI2 = 6.70% eROI3 = 2.98% mSpread = 0.0199%\n",
      "\n",
      "Getting extended results...\n"
     ]
    },
    {
     "name": "stderr",
     "output_type": "stream",
     "text": [
      "100%|█████████████████████████████████████████████████████████████████████████████████████████████████████████████████████████████████| 978/978 [00:00<00:00, 3502.01it/s]\n"
     ]
    },
    {
     "name": "stdout",
     "output_type": "stream",
     "text": [
      "Epoch = 7. Time index = mean. Threshold MC = 0.7. Threshold MD = 0.6\n",
      "RD = 430 NZ = 738 NZA = 979 pNZ = 0.098% pNZA = 0.130% AD = 58.27% ADA = 43.92% NO = 321 GSP = 58.57% NSP = 53.89%\n",
      "SI2 = 1.62 SI = -8.23 eGROI = 10.36% eROI = 3.74% eROI2 = 3.94% eROI3 = 0.73% mSpread = 0.0206%\n",
      "\n",
      "Getting extended results...\n"
     ]
    },
    {
     "name": "stderr",
     "output_type": "stream",
     "text": [
      "100%|█████████████████████████████████████████████████████████████████████████████████████████████████████████████████████████████████| 978/978 [00:00<00:00, 3875.77it/s]\n"
     ]
    },
    {
     "name": "stdout",
     "output_type": "stream",
     "text": [
      "Epoch = 7. Time index = mean. Threshold MC = 0.7. Threshold MD = 0.6\n",
      "RD = 430 NZ = 738 NZA = 979 pNZ = 0.098% pNZA = 0.130% AD = 58.27% ADA = 43.92% NO = 321 GSP = 58.57% NSP = 53.89%\n",
      "SI2 = 1.62 SI = -8.23 eGROI = 10.36% eROI = 3.74% eROI2 = 3.94% eROI3 = 0.73% mSpread = 0.0206%\n",
      "\n",
      "Getting extended results...\n"
     ]
    },
    {
     "name": "stderr",
     "output_type": "stream",
     "text": [
      "100%|█████████████████████████████████████████████████████████████████████████████████████████████████████████████████████████████████| 978/978 [00:00<00:00, 2809.65it/s]\n"
     ]
    },
    {
     "name": "stdout",
     "output_type": "stream",
     "text": [
      "Epoch = 7. Time index = mean. Threshold MC = 0.7. Threshold MD = 0.6\n",
      "RD = 430 NZ = 738 NZA = 979 pNZ = 0.098% pNZA = 0.130% AD = 58.27% ADA = 43.92% NO = 321 GSP = 58.57% NSP = 53.89%\n",
      "SI2 = 1.62 SI = -8.23 eGROI = 10.36% eROI = 3.74% eROI2 = 3.94% eROI3 = 0.73% mSpread = 0.0206%\n",
      "\n",
      "Best eGROI = 32.64 t_index 3 thr_mc 0.5 thr_md 0.6 epoch 7 in 2976 GSP 56.96 ADA 32.75 AD 57.22\n",
      "Best eROI = 6.75 t_index 3 thr_mc 0.7 thr_md 0.6 epoch 7 in 372 GSP 61.02 ADA 43.72 AD 57.46\n",
      "Best eROI.5 = 17.76 t_index 3 thr_mc 0.5 thr_md 0.6 epoch 7 in 2976 GSP 56.96 ADA 32.75 AD 57.22\n",
      "Best eROI1 = 10.50 t_index 3 thr_mc 0.6 thr_md 0.6 epoch 7 in 1253 GSP 58.18 ADA 38.60 AD 57.52\n",
      "Best eROI1.5 = 8.56 t_index 3 thr_mc 0.7 thr_md 0.6 epoch 7 in 372 GSP 61.02 ADA 43.72 AD 57.46\n",
      "Best eROI2 = 6.70 t_index 3 thr_mc 0.7 thr_md 0.6 epoch 7 in 372 GSP 61.02 ADA 43.72 AD 57.46\n",
      "Best eROI3 = 2.98 t_index 3 thr_mc 0.7 thr_md 0.6 epoch 7 in 372 GSP 61.02 ADA 43.72 AD 57.46\n",
      "Best eROI4 = 1.96 t_index 1 thr_mc 0.8 thr_md 0.6 epoch 7 in 102 GSP 65.69 ADA 53.25 AD 65.08\n",
      "Best eROI5 = 1.07 t_index 3 thr_mc 0.7 thr_md 0.7 epoch 7 in 23 GSP 69.57 ADA 64.29 AD 81.82\n",
      "Best SI = 10.84 t_index 3 thr_mc 0.7 thr_md 0.6 epoch 7 in 372 GSP 61.02 ADA 43.72 AD 57.46\n",
      "Best SI.5 = 58.72 t_index 3 thr_mc 0.5 thr_md 0.6 epoch 7 in 2976 GSP 56.96 ADA 32.75 AD 57.22\n",
      "Best SI1 = 34.63 t_index 2 thr_mc 0.6 thr_md 0.6 epoch 7 in 1129 GSP 58.64 ADA 39.31 AD 58.07\n",
      "Best SI1.5 = 17.70 t_index 0 thr_mc 0.6 thr_md 0.6 epoch 7 in 610 GSP 59.18 ADA 46.02 AD 66.07\n",
      "Best SI2 = 9.84 t_index 3 thr_mc 0.7 thr_md 0.6 epoch 7 in 372 GSP 61.02 ADA 43.72 AD 57.46\n",
      "Best SI3 = 7.94 t_index 1 thr_mc 0.8 thr_md 0.6 epoch 7 in 102 GSP 65.69 ADA 53.25 AD 65.08\n",
      "Best SI4 = 3.52 t_index 3 thr_mc 0.8 thr_md 0.7 epoch 7 in 16 GSP 81.25 ADA 71.43 AD 83.33\n",
      "Best SI5 = 3.52 t_index 3 thr_mc 0.8 thr_md 0.7 epoch 7 in 16 GSP 81.25 ADA 71.43 AD 83.33\n",
      "Best 99eGROI = 37.82 t_index 3 thr_mc 0.5 thr_md 0.6 epoch 7 in 2976 GSP 56.96 ADA 32.75 AD 57.22\n",
      "Best 99eROI = 7.08 t_index 3 thr_mc 0.7 thr_md 0.6 epoch 7 in 372 GSP 61.02 ADA 43.72 AD 57.46\n",
      "Best 99eROI.5 = 23.23 t_index 3 thr_mc 0.5 thr_md 0.6 epoch 7 in 2976 GSP 56.96 ADA 32.75 AD 57.22\n",
      "Best 99eROI1 = 11.52 t_index 3 thr_mc 0.6 thr_md 0.6 epoch 7 in 1253 GSP 58.18 ADA 38.60 AD 57.52\n",
      "Best 99eROI1.5 = 8.90 t_index 3 thr_mc 0.7 thr_md 0.6 epoch 7 in 372 GSP 61.02 ADA 43.72 AD 57.46\n",
      "Best 99eROI2 = 7.07 t_index 3 thr_mc 0.7 thr_md 0.6 epoch 7 in 372 GSP 61.02 ADA 43.72 AD 57.46\n",
      "Best 99eROI3 = 4.07 t_index 1 thr_mc 0.8 thr_md 0.6 epoch 7 in 102 GSP 65.69 ADA 53.25 AD 65.08\n",
      "Best 99eROI4 = 3.07 t_index 1 thr_mc 0.8 thr_md 0.6 epoch 7 in 102 GSP 65.69 ADA 53.25 AD 65.08\n",
      "Best 99eROI5 = 2.07 t_index 1 thr_mc 0.8 thr_md 0.6 epoch 7 in 102 GSP 65.69 ADA 53.25 AD 65.08\n",
      "\n",
      "The very best:\n",
      "Best eGROI = 67.85 t_index 1 thr_mc 0.5 thr_md 0.6 epoch 14 in 4083 GSP 55.99 ADA 33.53 AD 56.66\n",
      "Best eROI = 32.05 t_index 2 thr_mc 0.7 thr_md 0.6 epoch 14 in 680 GSP 57.94 ADA 41.81 AD 57.88\n",
      "Best eROI.5 = 51.61 t_index 2 thr_mc 0.6 thr_md 0.6 epoch 14 in 2090 GSP 57.85 ADA 37.69 AD 57.30\n",
      "Best eROI1 = 41.16 t_index 2 thr_mc 0.6 thr_md 0.6 epoch 14 in 2090 GSP 57.85 ADA 37.69 AD 57.30\n",
      "Best eROI1.5 = 35.21 t_index 2 thr_mc 0.7 thr_md 0.6 epoch 14 in 680 GSP 57.94 ADA 41.81 AD 57.88\n",
      "Best eROI2 = 31.81 t_index 2 thr_mc 0.7 thr_md 0.6 epoch 14 in 680 GSP 57.94 ADA 41.81 AD 57.88\n",
      "Best eROI3 = 25.01 t_index 2 thr_mc 0.7 thr_md 0.6 epoch 14 in 680 GSP 57.94 ADA 41.81 AD 57.88\n",
      "Best eROI4 = 18.21 t_index 2 thr_mc 0.7 thr_md 0.6 epoch 14 in 680 GSP 57.94 ADA 41.81 AD 57.88\n",
      "Best eROI5 = 11.41 t_index 2 thr_mc 0.7 thr_md 0.6 epoch 14 in 680 GSP 57.94 ADA 41.81 AD 57.88\n",
      "Best SI = 19.75 t_index 0 thr_mc 0.7 thr_md 0.6 epoch 12 in 525 GSP 61.52 ADA 43.92 AD 58.13\n",
      "Best SI.5 = 105.61 t_index 0 thr_mc 0.5 thr_md 0.6 epoch 10 in 2463 GSP 58.95 ADA 36.23 AD 60.19\n",
      "Best SI1 = 61.61 t_index 0 thr_mc 0.5 thr_md 0.6 epoch 10 in 2463 GSP 58.95 ADA 36.23 AD 60.19\n",
      "Best SI1.5 = 34.96 t_index 0 thr_mc 0.6 thr_md 0.6 epoch 10 in 1268 GSP 60.02 ADA 40.33 AD 60.19\n",
      "Best SI2 = 19.84 t_index 2 thr_mc 0.7 thr_md 0.6 epoch 5 in 172 GSP 69.77 ADA 54.57 AD 70.49\n",
      "Best SI3 = 11.84 t_index 2 thr_mc 0.7 thr_md 0.6 epoch 5 in 172 GSP 69.77 ADA 54.57 AD 70.49\n",
      "Best SI4 = 8.66 t_index 1 thr_mc 0.8 thr_md 0.6 epoch 6 in 78 GSP 69.23 ADA 61.54 AD 76.19\n",
      "Best SI5 = 7.66 t_index 1 thr_mc 0.8 thr_md 0.6 epoch 6 in 78 GSP 69.23 ADA 61.54 AD 76.19\n",
      "Best 99eGROI = 58.04 t_index 0 thr_mc 0.5 thr_md 0.6 epoch 14 in 3552 GSP 57.52 ADA 34.10 AD 57.76\n",
      "Best 99eROI = 15.42 t_index 2 thr_mc 0.7 thr_md 0.6 epoch 14 in 680 GSP 57.94 ADA 41.81 AD 57.88\n",
      "Best 99eROI.5 = 40.63 t_index 0 thr_mc 0.5 thr_md 0.6 epoch 14 in 3552 GSP 57.52 ADA 34.10 AD 57.76\n",
      "Best 99eROI1 = 25.04 t_index 2 thr_mc 0.6 thr_md 0.6 epoch 14 in 2090 GSP 57.85 ADA 37.69 AD 57.30\n",
      "Best 99eROI1.5 = 18.55 t_index 2 thr_mc 0.7 thr_md 0.6 epoch 14 in 680 GSP 57.94 ADA 41.81 AD 57.88\n",
      "Best 99eROI2 = 15.21 t_index 2 thr_mc 0.7 thr_md 0.6 epoch 14 in 680 GSP 57.94 ADA 41.81 AD 57.88\n",
      "Best 99eROI3 = 9.12 t_index 2 thr_mc 0.7 thr_md 0.6 epoch 5 in 172 GSP 69.77 ADA 54.57 AD 70.49\n",
      "Best 99eROI4 = 7.42 t_index 2 thr_mc 0.7 thr_md 0.6 epoch 5 in 172 GSP 69.77 ADA 54.57 AD 70.49\n",
      "Best 99eROI5 = 5.72 t_index 2 thr_mc 0.7 thr_md 0.6 epoch 5 in 172 GSP 69.77 ADA 54.57 AD 70.49\n",
      "Time=9.86 secs\n",
      "INFO:tensorflow:Restoring parameters from C:/Users/mgutierrez/root/Projects/SDC/py/RNN/weights/WRNN01010k3K5A/000008/000008\n",
      "Parameters loaded. Epoch 8\n",
      "Epoch 8 of 14. Getting output...\n"
     ]
    },
    {
     "name": "stderr",
     "output_type": "stream",
     "text": [
      "100%|███████████████████████████████████████████████████████████████████████████████████████████████████████████████████████████████████| 736/736 [01:09<00:00, 10.56it/s]\n"
     ]
    },
    {
     "name": "stdout",
     "output_type": "stream",
     "text": [
      "J_test = 1.556135\n",
      "Epoch 8, J_train = 1.64679124000948, J_test = 1.5561354349812735\n",
      "Getting extended results...\n"
     ]
    },
    {
     "name": "stderr",
     "output_type": "stream",
     "text": [
      "100%|█████████████████████████████████████████████████████████████████████████████████████████████████████████████████████████████████| 482/482 [00:00<00:00, 3058.70it/s]\n"
     ]
    },
    {
     "name": "stdout",
     "output_type": "stream",
     "text": [
      "Epoch = 8. Time index = 0. Threshold MC = 0.7. Threshold MD = 0.6\n",
      "RD = 235 NZ = 381 NZA = 483 pNZ = 0.051% pNZA = 0.064% AD = 61.68% ADA = 48.65% NO = 263 GSP = 61.60% NSP = 56.65%\n",
      "SI2 = 2.16 SI = -6.99 eGROI = 6.64% eROI = 1.14% eROI2 = 1.38% eROI3 = -1.25% mSpread = 0.0209%\n",
      "\n",
      "Getting extended results...\n"
     ]
    },
    {
     "name": "stderr",
     "output_type": "stream",
     "text": [
      "100%|███████████████████████████████████████████████████████████████████████████████████████████████████████████████████████████████| 1422/1422 [00:00<00:00, 3196.75it/s]\n"
     ]
    },
    {
     "name": "stdout",
     "output_type": "stream",
     "text": [
      "Epoch = 8. Time index = 1. Threshold MC = 0.7. Threshold MD = 0.6\n",
      "RD = 633 NZ = 1101 NZA = 1423 pNZ = 0.146% pNZA = 0.189% AD = 57.49% ADA = 44.48% NO = 454 GSP = 59.25% NSP = 55.73%\n",
      "SI2 = 2.63 SI = -9.41 eGROI = 13.02% eROI = 4.22% eROI2 = 3.94% eROI3 = -0.60% mSpread = 0.0194%\n",
      "\n",
      "Getting extended results...\n"
     ]
    },
    {
     "name": "stderr",
     "output_type": "stream",
     "text": [
      "100%|███████████████████████████████████████████████████████████████████████████████████████████████████████████████████████████████| 1630/1630 [00:00<00:00, 4137.47it/s]\n"
     ]
    },
    {
     "name": "stdout",
     "output_type": "stream",
     "text": [
      "Epoch = 8. Time index = 2. Threshold MC = 0.7. Threshold MD = 0.6\n",
      "RD = 702 NZ = 1245 NZA = 1631 pNZ = 0.165% pNZA = 0.217% AD = 56.39% ADA = 43.04% NO = 426 GSP = 57.98% NSP = 53.99%\n",
      "SI2 = 1.94 SI = -9.47 eGROI = 17.40% eROI = 8.95% eROI2 = 8.88% eROI3 = 4.62% mSpread = 0.0198%\n",
      "\n",
      "Getting extended results...\n"
     ]
    },
    {
     "name": "stderr",
     "output_type": "stream",
     "text": [
      "100%|███████████████████████████████████████████████████████████████████████████████████████████████████████████████████████████████| 1838/1838 [00:00<00:00, 4094.80it/s]\n"
     ]
    },
    {
     "name": "stdout",
     "output_type": "stream",
     "text": [
      "Epoch = 8. Time index = 3. Threshold MC = 0.7. Threshold MD = 0.6\n",
      "RD = 782 NZ = 1387 NZA = 1839 pNZ = 0.184% pNZA = 0.244% AD = 56.38% ADA = 42.52% NO = 423 GSP = 58.63% NSP = 54.14%\n",
      "SI2 = 1.41 SI = -9.41 eGROI = 17.52% eROI = 9.22% eROI2 = 9.06% eROI3 = 4.83% mSpread = 0.0196%\n",
      "\n",
      "Getting extended results...\n"
     ]
    },
    {
     "name": "stderr",
     "output_type": "stream",
     "text": [
      "100%|███████████████████████████████████████████████████████████████████████████████████████████████████████████████████████████████| 1297/1297 [00:00<00:00, 3802.40it/s]\n"
     ]
    },
    {
     "name": "stdout",
     "output_type": "stream",
     "text": [
      "Epoch = 8. Time index = mean. Threshold MC = 0.7. Threshold MD = 0.6\n",
      "RD = 564 NZ = 992 NZA = 1298 pNZ = 0.132% pNZA = 0.172% AD = 56.85% ADA = 43.45% NO = 373 GSP = 58.98% NSP = 55.76%\n",
      "SI2 = 2.12 SI = -8.51 eGROI = 10.89% eROI = 3.35% eROI2 = 3.43% eROI3 = -0.30% mSpread = 0.0202%\n",
      "\n",
      "Getting extended results...\n"
     ]
    },
    {
     "name": "stderr",
     "output_type": "stream",
     "text": [
      "100%|███████████████████████████████████████████████████████████████████████████████████████████████████████████████████████████████| 1297/1297 [00:00<00:00, 4393.30it/s]\n"
     ]
    },
    {
     "name": "stdout",
     "output_type": "stream",
     "text": [
      "Epoch = 8. Time index = mean. Threshold MC = 0.7. Threshold MD = 0.6\n",
      "RD = 564 NZ = 992 NZA = 1298 pNZ = 0.132% pNZA = 0.172% AD = 56.85% ADA = 43.45% NO = 373 GSP = 58.98% NSP = 55.76%\n",
      "SI2 = 2.12 SI = -8.51 eGROI = 10.89% eROI = 3.35% eROI2 = 3.43% eROI3 = -0.30% mSpread = 0.0202%\n",
      "\n",
      "Getting extended results...\n"
     ]
    },
    {
     "name": "stderr",
     "output_type": "stream",
     "text": [
      "100%|███████████████████████████████████████████████████████████████████████████████████████████████████████████████████████████████| 1297/1297 [00:00<00:00, 4249.74it/s]\n"
     ]
    },
    {
     "name": "stdout",
     "output_type": "stream",
     "text": [
      "Epoch = 8. Time index = mean. Threshold MC = 0.7. Threshold MD = 0.6\n",
      "RD = 564 NZ = 992 NZA = 1298 pNZ = 0.132% pNZA = 0.172% AD = 56.85% ADA = 43.45% NO = 373 GSP = 58.98% NSP = 55.76%\n",
      "SI2 = 2.12 SI = -8.51 eGROI = 10.89% eROI = 3.35% eROI2 = 3.43% eROI3 = -0.30% mSpread = 0.0202%\n",
      "\n",
      "Getting extended results...\n"
     ]
    },
    {
     "name": "stderr",
     "output_type": "stream",
     "text": [
      "100%|███████████████████████████████████████████████████████████████████████████████████████████████████████████████████████████████| 1297/1297 [00:00<00:00, 3916.91it/s]\n"
     ]
    },
    {
     "name": "stdout",
     "output_type": "stream",
     "text": [
      "Epoch = 8. Time index = mean. Threshold MC = 0.7. Threshold MD = 0.6\n",
      "RD = 564 NZ = 992 NZA = 1298 pNZ = 0.132% pNZA = 0.172% AD = 56.85% ADA = 43.45% NO = 373 GSP = 58.98% NSP = 55.76%\n",
      "SI2 = 2.12 SI = -8.51 eGROI = 10.89% eROI = 3.35% eROI2 = 3.43% eROI3 = -0.30% mSpread = 0.0202%\n",
      "\n",
      "Best eGROI = 37.27 t_index 3 thr_mc 0.5 thr_md 0.6 epoch 8 in 3320 GSP 56.66 ADA 32.47 AD 56.75\n",
      "Best eROI = 9.22 t_index 3 thr_mc 0.7 thr_md 0.6 epoch 8 in 423 GSP 58.63 ADA 42.52 AD 56.38\n",
      "Best eROI.5 = 22.37 t_index 3 thr_mc 0.6 thr_md 0.6 epoch 8 in 1390 GSP 57.99 ADA 38.00 AD 57.06\n",
      "Best eROI1 = 15.42 t_index 3 thr_mc 0.6 thr_md 0.6 epoch 8 in 1390 GSP 57.99 ADA 38.00 AD 57.06\n",
      "Best eROI1.5 = 11.18 t_index 3 thr_mc 0.7 thr_md 0.6 epoch 8 in 423 GSP 58.63 ADA 42.52 AD 56.38\n",
      "Best eROI2 = 9.06 t_index 3 thr_mc 0.7 thr_md 0.6 epoch 8 in 423 GSP 58.63 ADA 42.52 AD 56.38\n",
      "Best eROI3 = 4.83 t_index 3 thr_mc 0.7 thr_md 0.6 epoch 8 in 423 GSP 58.63 ADA 42.52 AD 56.38\n",
      "Best eROI4 = 1.98 t_index 2 thr_mc 0.8 thr_md 0.7 epoch 8 in 38 GSP 73.68 ADA 57.58 AD 76.00\n",
      "Best eROI5 = 1.60 t_index 2 thr_mc 0.8 thr_md 0.7 epoch 8 in 38 GSP 73.68 ADA 57.58 AD 76.00\n",
      "Best SI = 12.62 t_index 0 thr_mc 0.6 thr_md 0.6 epoch 8 in 846 GSP 60.87 ADA 43.09 AD 61.63\n",
      "Best SI.5 = 61.40 t_index 3 thr_mc 0.5 thr_md 0.6 epoch 8 in 3320 GSP 56.66 ADA 32.47 AD 56.75\n",
      "Best SI1 = 45.62 t_index 0 thr_mc 0.6 thr_md 0.6 epoch 8 in 846 GSP 60.87 ADA 43.09 AD 61.63\n",
      "Best SI1.5 = 33.62 t_index 0 thr_mc 0.6 thr_md 0.6 epoch 8 in 846 GSP 60.87 ADA 43.09 AD 61.63\n",
      "Best SI2 = 13.38 t_index 1 thr_mc 0.7 thr_md 0.6 epoch 8 in 454 GSP 59.25 ADA 44.48 AD 57.49\n",
      "Best SI3 = 6.38 t_index 1 thr_mc 0.7 thr_md 0.6 epoch 8 in 454 GSP 59.25 ADA 44.48 AD 57.49\n",
      "Best SI4 = 3.86 t_index 2 thr_mc 0.8 thr_md 0.7 epoch 8 in 38 GSP 73.68 ADA 57.58 AD 76.00\n",
      "Best SI5 = 2.86 t_index 2 thr_mc 0.8 thr_md 0.7 epoch 8 in 38 GSP 73.68 ADA 57.58 AD 76.00\n",
      "Best 99eGROI = 43.36 t_index 3 thr_mc 0.5 thr_md 0.6 epoch 8 in 3320 GSP 56.66 ADA 32.47 AD 56.75\n",
      "Best 99eROI = 9.49 t_index 3 thr_mc 0.7 thr_md 0.6 epoch 8 in 423 GSP 58.63 ADA 42.52 AD 56.38\n",
      "Best 99eROI.5 = 27.09 t_index 3 thr_mc 0.5 thr_md 0.6 epoch 8 in 3320 GSP 56.66 ADA 32.47 AD 56.75\n",
      "Best 99eROI1 = 15.96 t_index 3 thr_mc 0.6 thr_md 0.6 epoch 8 in 1390 GSP 57.99 ADA 38.00 AD 57.06\n",
      "Best 99eROI1.5 = 11.40 t_index 3 thr_mc 0.7 thr_md 0.6 epoch 8 in 423 GSP 58.63 ADA 42.52 AD 56.38\n",
      "Best 99eROI2 = 9.32 t_index 3 thr_mc 0.7 thr_md 0.6 epoch 8 in 423 GSP 58.63 ADA 42.52 AD 56.38\n",
      "Best 99eROI3 = 5.17 t_index 3 thr_mc 0.7 thr_md 0.6 epoch 8 in 423 GSP 58.63 ADA 42.52 AD 56.38\n",
      "Best 99eROI4 = 2.16 t_index 2 thr_mc 0.8 thr_md 0.7 epoch 8 in 38 GSP 73.68 ADA 57.58 AD 76.00\n",
      "Best 99eROI5 = 1.79 t_index 2 thr_mc 0.8 thr_md 0.7 epoch 8 in 38 GSP 73.68 ADA 57.58 AD 76.00\n",
      "\n",
      "The very best:\n",
      "Best eGROI = 67.85 t_index 1 thr_mc 0.5 thr_md 0.6 epoch 14 in 4083 GSP 55.99 ADA 33.53 AD 56.66\n",
      "Best eROI = 32.05 t_index 2 thr_mc 0.7 thr_md 0.6 epoch 14 in 680 GSP 57.94 ADA 41.81 AD 57.88\n",
      "Best eROI.5 = 51.61 t_index 2 thr_mc 0.6 thr_md 0.6 epoch 14 in 2090 GSP 57.85 ADA 37.69 AD 57.30\n",
      "Best eROI1 = 41.16 t_index 2 thr_mc 0.6 thr_md 0.6 epoch 14 in 2090 GSP 57.85 ADA 37.69 AD 57.30\n",
      "Best eROI1.5 = 35.21 t_index 2 thr_mc 0.7 thr_md 0.6 epoch 14 in 680 GSP 57.94 ADA 41.81 AD 57.88\n",
      "Best eROI2 = 31.81 t_index 2 thr_mc 0.7 thr_md 0.6 epoch 14 in 680 GSP 57.94 ADA 41.81 AD 57.88\n",
      "Best eROI3 = 25.01 t_index 2 thr_mc 0.7 thr_md 0.6 epoch 14 in 680 GSP 57.94 ADA 41.81 AD 57.88\n",
      "Best eROI4 = 18.21 t_index 2 thr_mc 0.7 thr_md 0.6 epoch 14 in 680 GSP 57.94 ADA 41.81 AD 57.88\n",
      "Best eROI5 = 11.41 t_index 2 thr_mc 0.7 thr_md 0.6 epoch 14 in 680 GSP 57.94 ADA 41.81 AD 57.88\n",
      "Best SI = 19.75 t_index 0 thr_mc 0.7 thr_md 0.6 epoch 12 in 525 GSP 61.52 ADA 43.92 AD 58.13\n",
      "Best SI.5 = 105.61 t_index 0 thr_mc 0.5 thr_md 0.6 epoch 10 in 2463 GSP 58.95 ADA 36.23 AD 60.19\n",
      "Best SI1 = 61.61 t_index 0 thr_mc 0.5 thr_md 0.6 epoch 10 in 2463 GSP 58.95 ADA 36.23 AD 60.19\n",
      "Best SI1.5 = 34.96 t_index 0 thr_mc 0.6 thr_md 0.6 epoch 10 in 1268 GSP 60.02 ADA 40.33 AD 60.19\n",
      "Best SI2 = 19.84 t_index 2 thr_mc 0.7 thr_md 0.6 epoch 5 in 172 GSP 69.77 ADA 54.57 AD 70.49\n",
      "Best SI3 = 11.84 t_index 2 thr_mc 0.7 thr_md 0.6 epoch 5 in 172 GSP 69.77 ADA 54.57 AD 70.49\n",
      "Best SI4 = 8.66 t_index 1 thr_mc 0.8 thr_md 0.6 epoch 6 in 78 GSP 69.23 ADA 61.54 AD 76.19\n",
      "Best SI5 = 7.66 t_index 1 thr_mc 0.8 thr_md 0.6 epoch 6 in 78 GSP 69.23 ADA 61.54 AD 76.19\n",
      "Best 99eGROI = 58.04 t_index 0 thr_mc 0.5 thr_md 0.6 epoch 14 in 3552 GSP 57.52 ADA 34.10 AD 57.76\n",
      "Best 99eROI = 15.42 t_index 2 thr_mc 0.7 thr_md 0.6 epoch 14 in 680 GSP 57.94 ADA 41.81 AD 57.88\n",
      "Best 99eROI.5 = 40.63 t_index 0 thr_mc 0.5 thr_md 0.6 epoch 14 in 3552 GSP 57.52 ADA 34.10 AD 57.76\n",
      "Best 99eROI1 = 25.04 t_index 2 thr_mc 0.6 thr_md 0.6 epoch 14 in 2090 GSP 57.85 ADA 37.69 AD 57.30\n",
      "Best 99eROI1.5 = 18.55 t_index 2 thr_mc 0.7 thr_md 0.6 epoch 14 in 680 GSP 57.94 ADA 41.81 AD 57.88\n",
      "Best 99eROI2 = 15.21 t_index 2 thr_mc 0.7 thr_md 0.6 epoch 14 in 680 GSP 57.94 ADA 41.81 AD 57.88\n",
      "Best 99eROI3 = 9.12 t_index 2 thr_mc 0.7 thr_md 0.6 epoch 5 in 172 GSP 69.77 ADA 54.57 AD 70.49\n",
      "Best 99eROI4 = 7.42 t_index 2 thr_mc 0.7 thr_md 0.6 epoch 5 in 172 GSP 69.77 ADA 54.57 AD 70.49\n",
      "Best 99eROI5 = 5.72 t_index 2 thr_mc 0.7 thr_md 0.6 epoch 5 in 172 GSP 69.77 ADA 54.57 AD 70.49\n",
      "Time=11.87 secs\n",
      "INFO:tensorflow:Restoring parameters from C:/Users/mgutierrez/root/Projects/SDC/py/RNN/weights/WRNN01010k3K5A/000009/000009\n",
      "Parameters loaded. Epoch 9\n",
      "Epoch 9 of 14. Getting output...\n"
     ]
    },
    {
     "name": "stderr",
     "output_type": "stream",
     "text": [
      "100%|███████████████████████████████████████████████████████████████████████████████████████████████████████████████████████████████████| 736/736 [01:07<00:00, 10.93it/s]\n"
     ]
    },
    {
     "name": "stdout",
     "output_type": "stream",
     "text": [
      "J_test = 1.556235\n",
      "Epoch 9, J_train = 1.6461336953170826, J_test = 1.5562349037955636\n",
      "Getting extended results...\n"
     ]
    },
    {
     "name": "stderr",
     "output_type": "stream",
     "text": [
      "100%|█████████████████████████████████████████████████████████████████████████████████████████████████████████████████████████████████| 708/708 [00:00<00:00, 2897.43it/s]\n"
     ]
    },
    {
     "name": "stdout",
     "output_type": "stream",
     "text": [
      "Epoch = 9. Time index = 0. Threshold MC = 0.7. Threshold MD = 0.6\n",
      "RD = 347 NZ = 560 NZA = 709 pNZ = 0.074% pNZA = 0.094% AD = 61.96% ADA = 48.94% NO = 346 GSP = 60.40% NSP = 56.07%\n",
      "SI2 = 2.26 SI = -8.14 eGROI = 9.76% eROI = 2.68% eROI2 = 2.84% eROI3 = -0.62% mSpread = 0.0205%\n",
      "\n",
      "Getting extended results...\n"
     ]
    },
    {
     "name": "stderr",
     "output_type": "stream",
     "text": [
      "100%|███████████████████████████████████████████████████████████████████████████████████████████████████████████████████████████████| 1765/1765 [00:00<00:00, 3199.88it/s]\n"
     ]
    },
    {
     "name": "stdout",
     "output_type": "stream",
     "text": [
      "Epoch = 9. Time index = 1. Threshold MC = 0.7. Threshold MD = 0.6\n",
      "RD = 767 NZ = 1343 NZA = 1766 pNZ = 0.178% pNZA = 0.235% AD = 57.11% ADA = 43.43% NO = 511 GSP = 57.14% NSP = 54.60%\n",
      "SI2 = 1.81 SI = -10.24 eGROI = 15.12% eROI = 5.31% eROI2 = 4.90% eROI3 = -0.21% mSpread = 0.0192%\n",
      "\n",
      "Getting extended results...\n"
     ]
    },
    {
     "name": "stderr",
     "output_type": "stream",
     "text": [
      "100%|███████████████████████████████████████████████████████████████████████████████████████████████████████████████████████████████| 1997/1997 [00:00<00:00, 4343.31it/s]\n"
     ]
    },
    {
     "name": "stdout",
     "output_type": "stream",
     "text": [
      "Epoch = 9. Time index = 2. Threshold MC = 0.7. Threshold MD = 0.6\n",
      "RD = 858 NZ = 1496 NZA = 1998 pNZ = 0.199% pNZA = 0.265% AD = 57.35% ADA = 42.94% NO = 477 GSP = 59.75% NSP = 55.97%\n",
      "SI2 = 2.70 SI = -9.59 eGROI = 21.41% eROI = 12.05% eROI2 = 11.87% eROI3 = 7.10% mSpread = 0.0196%\n",
      "\n",
      "Getting extended results...\n"
     ]
    },
    {
     "name": "stderr",
     "output_type": "stream",
     "text": [
      "100%|███████████████████████████████████████████████████████████████████████████████████████████████████████████████████████████████| 2198/2198 [00:00<00:00, 3548.78it/s]\n"
     ]
    },
    {
     "name": "stdout",
     "output_type": "stream",
     "text": [
      "Epoch = 9. Time index = 3. Threshold MC = 0.7. Threshold MD = 0.6\n",
      "RD = 924 NZ = 1626 NZA = 2199 pNZ = 0.216% pNZA = 0.292% AD = 56.83% ADA = 42.02% NO = 465 GSP = 59.35% NSP = 54.84%\n",
      "SI2 = 1.90 SI = -9.71 eGROI = 19.18% eROI = 9.89% eROI2 = 9.88% eROI3 = 5.23% mSpread = 0.0200%\n",
      "\n",
      "Getting extended results...\n"
     ]
    },
    {
     "name": "stderr",
     "output_type": "stream",
     "text": [
      "100%|███████████████████████████████████████████████████████████████████████████████████████████████████████████████████████████████| 1639/1639 [00:00<00:00, 2043.93it/s]\n"
     ]
    },
    {
     "name": "stdout",
     "output_type": "stream",
     "text": [
      "Epoch = 9. Time index = mean. Threshold MC = 0.7. Threshold MD = 0.6\n",
      "RD = 704 NZ = 1241 NZA = 1640 pNZ = 0.165% pNZA = 0.218% AD = 56.73% ADA = 42.93% NO = 429 GSP = 59.67% NSP = 55.48%\n",
      "SI2 = 2.08 SI = -9.19 eGROI = 16.17% eROI = 7.57% eROI2 = 7.59% eROI3 = 3.30% mSpread = 0.0200%\n",
      "\n",
      "Getting extended results...\n"
     ]
    },
    {
     "name": "stderr",
     "output_type": "stream",
     "text": [
      "100%|███████████████████████████████████████████████████████████████████████████████████████████████████████████████████████████████| 1639/1639 [00:00<00:00, 2512.73it/s]\n"
     ]
    },
    {
     "name": "stdout",
     "output_type": "stream",
     "text": [
      "Epoch = 9. Time index = mean. Threshold MC = 0.7. Threshold MD = 0.6\n",
      "RD = 704 NZ = 1241 NZA = 1640 pNZ = 0.165% pNZA = 0.218% AD = 56.73% ADA = 42.93% NO = 429 GSP = 59.67% NSP = 55.48%\n",
      "SI2 = 2.08 SI = -9.19 eGROI = 16.17% eROI = 7.57% eROI2 = 7.59% eROI3 = 3.30% mSpread = 0.0200%\n",
      "\n",
      "Getting extended results...\n"
     ]
    },
    {
     "name": "stderr",
     "output_type": "stream",
     "text": [
      "100%|███████████████████████████████████████████████████████████████████████████████████████████████████████████████████████████████| 1639/1639 [00:00<00:00, 4139.35it/s]\n"
     ]
    },
    {
     "name": "stdout",
     "output_type": "stream",
     "text": [
      "Epoch = 9. Time index = mean. Threshold MC = 0.7. Threshold MD = 0.6\n",
      "RD = 704 NZ = 1241 NZA = 1640 pNZ = 0.165% pNZA = 0.218% AD = 56.73% ADA = 42.93% NO = 429 GSP = 59.67% NSP = 55.48%\n",
      "SI2 = 2.08 SI = -9.19 eGROI = 16.17% eROI = 7.57% eROI2 = 7.59% eROI3 = 3.30% mSpread = 0.0200%\n",
      "\n",
      "Getting extended results...\n"
     ]
    },
    {
     "name": "stderr",
     "output_type": "stream",
     "text": [
      "100%|███████████████████████████████████████████████████████████████████████████████████████████████████████████████████████████████| 1639/1639 [00:00<00:00, 4008.11it/s]\n"
     ]
    },
    {
     "name": "stdout",
     "output_type": "stream",
     "text": [
      "Epoch = 9. Time index = mean. Threshold MC = 0.7. Threshold MD = 0.6\n",
      "RD = 704 NZ = 1241 NZA = 1640 pNZ = 0.165% pNZA = 0.218% AD = 56.73% ADA = 42.93% NO = 429 GSP = 59.67% NSP = 55.48%\n",
      "SI2 = 2.08 SI = -9.19 eGROI = 16.17% eROI = 7.57% eROI2 = 7.59% eROI3 = 3.30% mSpread = 0.0200%\n",
      "\n",
      "Getting extended results...\n"
     ]
    },
    {
     "name": "stderr",
     "output_type": "stream",
     "text": [
      "100%|███████████████████████████████████████████████████████████████████████████████████████████████████████████████████████████████| 1639/1639 [00:00<00:00, 2512.72it/s]\n"
     ]
    },
    {
     "name": "stdout",
     "output_type": "stream",
     "text": [
      "Epoch = 9. Time index = mean. Threshold MC = 0.7. Threshold MD = 0.6\n",
      "RD = 704 NZ = 1241 NZA = 1640 pNZ = 0.165% pNZA = 0.218% AD = 56.73% ADA = 42.93% NO = 429 GSP = 59.67% NSP = 55.48%\n",
      "SI2 = 2.08 SI = -9.19 eGROI = 16.17% eROI = 7.57% eROI2 = 7.59% eROI3 = 3.30% mSpread = 0.0200%\n",
      "\n",
      "Best eGROI = 38.90 t_index 3 thr_mc 0.5 thr_md 0.6 epoch 9 in 3615 GSP 55.80 ADA 32.79 AD 57.02\n",
      "Best eROI = 12.05 t_index 2 thr_mc 0.7 thr_md 0.6 epoch 9 in 477 GSP 59.75 ADA 42.94 AD 57.35\n",
      "Best eROI.5 = 27.37 t_index 2 thr_mc 0.6 thr_md 0.6 epoch 9 in 1444 GSP 59.00 ADA 39.12 AD 58.42\n",
      "Best eROI1 = 20.15 t_index 2 thr_mc 0.6 thr_md 0.6 epoch 9 in 1444 GSP 59.00 ADA 39.12 AD 58.42\n",
      "Best eROI1.5 = 14.26 t_index 2 thr_mc 0.7 thr_md 0.6 epoch 9 in 477 GSP 59.75 ADA 42.94 AD 57.35\n",
      "Best eROI2 = 11.87 t_index 2 thr_mc 0.7 thr_md 0.6 epoch 9 in 477 GSP 59.75 ADA 42.94 AD 57.35\n",
      "Best eROI3 = 7.10 t_index 2 thr_mc 0.7 thr_md 0.6 epoch 9 in 477 GSP 59.75 ADA 42.94 AD 57.35\n",
      "Best eROI4 = 2.41 t_index 1 thr_mc 0.7 thr_md 0.7 epoch 9 in 61 GSP 63.93 ADA 56.73 AD 74.68\n",
      "Best eROI5 = 1.80 t_index 1 thr_mc 0.7 thr_md 0.7 epoch 9 in 61 GSP 63.93 ADA 56.73 AD 74.68\n",
      "Best SI = 14.19 t_index 2 thr_mc 0.7 thr_md 0.6 epoch 9 in 477 GSP 59.75 ADA 42.94 AD 57.35\n",
      "Best SI.5 = 77.21 t_index 0 thr_mc 0.5 thr_md 0.6 epoch 9 in 2043 GSP 58.35 ADA 37.72 AD 61.41\n",
      "Best SI1 = 48.67 t_index 0 thr_mc 0.6 thr_md 0.6 epoch 9 in 1061 GSP 60.13 ADA 42.02 AD 60.92\n",
      "Best SI1.5 = 27.67 t_index 0 thr_mc 0.6 thr_md 0.6 epoch 9 in 1061 GSP 60.13 ADA 42.02 AD 60.92\n",
      "Best SI2 = 15.19 t_index 2 thr_mc 0.7 thr_md 0.6 epoch 9 in 477 GSP 59.75 ADA 42.94 AD 57.35\n",
      "Best SI3 = 6.41 t_index 2 thr_mc 0.7 thr_md 0.7 epoch 9 in 103 GSP 66.99 ADA 55.56 AD 69.82\n",
      "Best SI4 = 4.26 t_index 2 thr_mc 0.8 thr_md 0.7 epoch 9 in 58 GSP 70.69 ADA 59.87 AD 74.59\n",
      "Best SI5 = 0.88 t_index 3 thr_mc 0.9 thr_md 0.7 epoch 9 in 4 GSP 75.00 ADA 81.82 AD 81.82\n",
      "Best 99eGROI = 45.28 t_index 3 thr_mc 0.5 thr_md 0.6 epoch 9 in 3615 GSP 55.80 ADA 32.79 AD 57.02\n",
      "Best 99eROI = 12.52 t_index 2 thr_mc 0.7 thr_md 0.6 epoch 9 in 477 GSP 59.75 ADA 42.94 AD 57.35\n",
      "Best 99eROI.5 = 27.57 t_index 3 thr_mc 0.5 thr_md 0.6 epoch 9 in 3615 GSP 55.80 ADA 32.79 AD 57.02\n",
      "Best 99eROI1 = 19.82 t_index 2 thr_mc 0.6 thr_md 0.6 epoch 9 in 1444 GSP 59.00 ADA 39.12 AD 58.42\n",
      "Best 99eROI1.5 = 14.76 t_index 2 thr_mc 0.7 thr_md 0.6 epoch 9 in 477 GSP 59.75 ADA 42.94 AD 57.35\n",
      "Best 99eROI2 = 12.42 t_index 2 thr_mc 0.7 thr_md 0.6 epoch 9 in 477 GSP 59.75 ADA 42.94 AD 57.35\n",
      "Best 99eROI3 = 7.73 t_index 2 thr_mc 0.7 thr_md 0.6 epoch 9 in 477 GSP 59.75 ADA 42.94 AD 57.35\n",
      "Best 99eROI4 = 3.04 t_index 2 thr_mc 0.7 thr_md 0.6 epoch 9 in 477 GSP 59.75 ADA 42.94 AD 57.35\n",
      "Best 99eROI5 = 2.06 t_index 1 thr_mc 0.7 thr_md 0.7 epoch 9 in 61 GSP 63.93 ADA 56.73 AD 74.68\n",
      "\n",
      "The very best:\n",
      "Best eGROI = 67.85 t_index 1 thr_mc 0.5 thr_md 0.6 epoch 14 in 4083 GSP 55.99 ADA 33.53 AD 56.66\n",
      "Best eROI = 32.05 t_index 2 thr_mc 0.7 thr_md 0.6 epoch 14 in 680 GSP 57.94 ADA 41.81 AD 57.88\n",
      "Best eROI.5 = 51.61 t_index 2 thr_mc 0.6 thr_md 0.6 epoch 14 in 2090 GSP 57.85 ADA 37.69 AD 57.30\n",
      "Best eROI1 = 41.16 t_index 2 thr_mc 0.6 thr_md 0.6 epoch 14 in 2090 GSP 57.85 ADA 37.69 AD 57.30\n",
      "Best eROI1.5 = 35.21 t_index 2 thr_mc 0.7 thr_md 0.6 epoch 14 in 680 GSP 57.94 ADA 41.81 AD 57.88\n",
      "Best eROI2 = 31.81 t_index 2 thr_mc 0.7 thr_md 0.6 epoch 14 in 680 GSP 57.94 ADA 41.81 AD 57.88\n",
      "Best eROI3 = 25.01 t_index 2 thr_mc 0.7 thr_md 0.6 epoch 14 in 680 GSP 57.94 ADA 41.81 AD 57.88\n",
      "Best eROI4 = 18.21 t_index 2 thr_mc 0.7 thr_md 0.6 epoch 14 in 680 GSP 57.94 ADA 41.81 AD 57.88\n",
      "Best eROI5 = 11.41 t_index 2 thr_mc 0.7 thr_md 0.6 epoch 14 in 680 GSP 57.94 ADA 41.81 AD 57.88\n",
      "Best SI = 19.75 t_index 0 thr_mc 0.7 thr_md 0.6 epoch 12 in 525 GSP 61.52 ADA 43.92 AD 58.13\n",
      "Best SI.5 = 105.61 t_index 0 thr_mc 0.5 thr_md 0.6 epoch 10 in 2463 GSP 58.95 ADA 36.23 AD 60.19\n",
      "Best SI1 = 61.61 t_index 0 thr_mc 0.5 thr_md 0.6 epoch 10 in 2463 GSP 58.95 ADA 36.23 AD 60.19\n",
      "Best SI1.5 = 34.96 t_index 0 thr_mc 0.6 thr_md 0.6 epoch 10 in 1268 GSP 60.02 ADA 40.33 AD 60.19\n",
      "Best SI2 = 19.84 t_index 2 thr_mc 0.7 thr_md 0.6 epoch 5 in 172 GSP 69.77 ADA 54.57 AD 70.49\n",
      "Best SI3 = 11.84 t_index 2 thr_mc 0.7 thr_md 0.6 epoch 5 in 172 GSP 69.77 ADA 54.57 AD 70.49\n",
      "Best SI4 = 8.66 t_index 1 thr_mc 0.8 thr_md 0.6 epoch 6 in 78 GSP 69.23 ADA 61.54 AD 76.19\n",
      "Best SI5 = 7.66 t_index 1 thr_mc 0.8 thr_md 0.6 epoch 6 in 78 GSP 69.23 ADA 61.54 AD 76.19\n",
      "Best 99eGROI = 58.04 t_index 0 thr_mc 0.5 thr_md 0.6 epoch 14 in 3552 GSP 57.52 ADA 34.10 AD 57.76\n",
      "Best 99eROI = 15.42 t_index 2 thr_mc 0.7 thr_md 0.6 epoch 14 in 680 GSP 57.94 ADA 41.81 AD 57.88\n",
      "Best 99eROI.5 = 40.63 t_index 0 thr_mc 0.5 thr_md 0.6 epoch 14 in 3552 GSP 57.52 ADA 34.10 AD 57.76\n",
      "Best 99eROI1 = 25.04 t_index 2 thr_mc 0.6 thr_md 0.6 epoch 14 in 2090 GSP 57.85 ADA 37.69 AD 57.30\n",
      "Best 99eROI1.5 = 18.55 t_index 2 thr_mc 0.7 thr_md 0.6 epoch 14 in 680 GSP 57.94 ADA 41.81 AD 57.88\n",
      "Best 99eROI2 = 15.21 t_index 2 thr_mc 0.7 thr_md 0.6 epoch 14 in 680 GSP 57.94 ADA 41.81 AD 57.88\n",
      "Best 99eROI3 = 9.12 t_index 2 thr_mc 0.7 thr_md 0.6 epoch 5 in 172 GSP 69.77 ADA 54.57 AD 70.49\n",
      "Best 99eROI4 = 7.42 t_index 2 thr_mc 0.7 thr_md 0.6 epoch 5 in 172 GSP 69.77 ADA 54.57 AD 70.49\n",
      "Best 99eROI5 = 5.72 t_index 2 thr_mc 0.7 thr_md 0.6 epoch 5 in 172 GSP 69.77 ADA 54.57 AD 70.49\n",
      "Time=15.77 secs\n",
      "INFO:tensorflow:Restoring parameters from C:/Users/mgutierrez/root/Projects/SDC/py/RNN/weights/WRNN01010k3K5A/000010/000010\n",
      "Parameters loaded. Epoch 10\n",
      "Epoch 10 of 14. Getting output...\n"
     ]
    },
    {
     "name": "stderr",
     "output_type": "stream",
     "text": [
      "100%|███████████████████████████████████████████████████████████████████████████████████████████████████████████████████████████████████| 736/736 [01:05<00:00, 11.16it/s]\n"
     ]
    },
    {
     "name": "stdout",
     "output_type": "stream",
     "text": [
      "J_test = 1.556367\n",
      "Epoch 10, J_train = 1.6454965805891395, J_test = 1.5563667657906595\n",
      "Getting extended results...\n"
     ]
    },
    {
     "name": "stderr",
     "output_type": "stream",
     "text": [
      "100%|█████████████████████████████████████████████████████████████████████████████████████████████████████████████████████████████████| 964/964 [00:00<00:00, 3593.12it/s]\n"
     ]
    },
    {
     "name": "stdout",
     "output_type": "stream",
     "text": [
      "Epoch = 10. Time index = 0. Threshold MC = 0.7. Threshold MD = 0.6\n",
      "RD = 451 NZ = 741 NZA = 965 pNZ = 0.098% pNZA = 0.128% AD = 60.86% ADA = 46.74% NO = 431 GSP = 60.32% NSP = 56.15%\n",
      "SI2 = 2.17 SI = -9.08 eGROI = 14.54% eROI = 5.86% eROI2 = 5.92% eROI3 = 1.61% mSpread = 0.0201%\n",
      "\n",
      "Getting extended results...\n"
     ]
    },
    {
     "name": "stderr",
     "output_type": "stream",
     "text": [
      "100%|███████████████████████████████████████████████████████████████████████████████████████████████████████████████████████████████| 2092/2092 [00:00<00:00, 2937.70it/s]\n"
     ]
    },
    {
     "name": "stdout",
     "output_type": "stream",
     "text": [
      "Epoch = 10. Time index = 1. Threshold MC = 0.7. Threshold MD = 0.6\n",
      "RD = 911 NZ = 1591 NZA = 2093 pNZ = 0.211% pNZA = 0.278% AD = 57.26% ADA = 43.53% NO = 567 GSP = 58.20% NSP = 56.26%\n",
      "SI2 = 2.73 SI = -10.39 eGROI = 20.18% eROI = 9.39% eROI2 = 8.84% eROI3 = 3.17% mSpread = 0.0190%\n",
      "\n",
      "Getting extended results...\n"
     ]
    },
    {
     "name": "stderr",
     "output_type": "stream",
     "text": [
      "100%|███████████████████████████████████████████████████████████████████████████████████████████████████████████████████████████████| 2325/2325 [00:00<00:00, 3306.57it/s]\n"
     ]
    },
    {
     "name": "stdout",
     "output_type": "stream",
     "text": [
      "Epoch = 10. Time index = 2. Threshold MC = 0.7. Threshold MD = 0.6\n",
      "RD = 990 NZ = 1721 NZA = 2326 pNZ = 0.229% pNZA = 0.309% AD = 57.52% ADA = 42.56% NO = 526 GSP = 59.89% NSP = 55.70%\n",
      "SI2 = 2.62 SI = -10.13 eGROI = 21.30% eROI = 10.97% eROI2 = 10.78% eROI3 = 5.52% mSpread = 0.0196%\n",
      "\n",
      "Getting extended results...\n"
     ]
    },
    {
     "name": "stderr",
     "output_type": "stream",
     "text": [
      "100%|███████████████████████████████████████████████████████████████████████████████████████████████████████████████████████████████| 2511/2511 [00:00<00:00, 4021.72it/s]\n"
     ]
    },
    {
     "name": "stdout",
     "output_type": "stream",
     "text": [
      "Epoch = 10. Time index = 3. Threshold MC = 0.7. Threshold MD = 0.6\n",
      "RD = 1039 NZ = 1835 NZA = 2512 pNZ = 0.244% pNZA = 0.334% AD = 56.62% ADA = 41.36% NO = 482 GSP = 60.79% NSP = 56.22%\n",
      "SI2 = 2.64 SI = -9.59 eGROI = 19.34% eROI = 9.69% eROI2 = 9.70% eROI3 = 4.88% mSpread = 0.0200%\n",
      "\n",
      "Getting extended results...\n"
     ]
    },
    {
     "name": "stderr",
     "output_type": "stream",
     "text": [
      "100%|███████████████████████████████████████████████████████████████████████████████████████████████████████████████████████████████| 1911/1911 [00:00<00:00, 3642.67it/s]\n"
     ]
    },
    {
     "name": "stdout",
     "output_type": "stream",
     "text": [
      "Epoch = 10. Time index = mean. Threshold MC = 0.7. Threshold MD = 0.6\n",
      "RD = 820 NZ = 1426 NZA = 1912 pNZ = 0.189% pNZA = 0.254% AD = 57.50% ADA = 42.89% NO = 476 GSP = 60.29% NSP = 56.72%\n",
      "SI2 = 2.75 SI = -9.42 eGROI = 20.38% eROI = 10.93% eROI2 = 10.86% eROI3 = 6.10% mSpread = 0.0199%\n",
      "\n",
      "Getting extended results...\n"
     ]
    },
    {
     "name": "stderr",
     "output_type": "stream",
     "text": [
      "100%|███████████████████████████████████████████████████████████████████████████████████████████████████████████████████████████████| 1911/1911 [00:00<00:00, 3622.00it/s]\n"
     ]
    },
    {
     "name": "stdout",
     "output_type": "stream",
     "text": [
      "Epoch = 10. Time index = mean. Threshold MC = 0.7. Threshold MD = 0.6\n",
      "RD = 820 NZ = 1426 NZA = 1912 pNZ = 0.189% pNZA = 0.254% AD = 57.50% ADA = 42.89% NO = 476 GSP = 60.29% NSP = 56.72%\n",
      "SI2 = 2.75 SI = -9.42 eGROI = 20.38% eROI = 10.93% eROI2 = 10.86% eROI3 = 6.10% mSpread = 0.0199%\n",
      "\n",
      "Getting extended results...\n"
     ]
    },
    {
     "name": "stderr",
     "output_type": "stream",
     "text": [
      "100%|███████████████████████████████████████████████████████████████████████████████████████████████████████████████████████████████| 1911/1911 [00:00<00:00, 3942.51it/s]\n"
     ]
    },
    {
     "name": "stdout",
     "output_type": "stream",
     "text": [
      "Epoch = 10. Time index = mean. Threshold MC = 0.7. Threshold MD = 0.6\n",
      "RD = 820 NZ = 1426 NZA = 1912 pNZ = 0.189% pNZA = 0.254% AD = 57.50% ADA = 42.89% NO = 476 GSP = 60.29% NSP = 56.72%\n",
      "SI2 = 2.75 SI = -9.42 eGROI = 20.38% eROI = 10.93% eROI2 = 10.86% eROI3 = 6.10% mSpread = 0.0199%\n",
      "\n",
      "Getting extended results...\n"
     ]
    },
    {
     "name": "stderr",
     "output_type": "stream",
     "text": [
      "100%|███████████████████████████████████████████████████████████████████████████████████████████████████████████████████████████████| 1911/1911 [00:00<00:00, 3870.79it/s]\n"
     ]
    },
    {
     "name": "stdout",
     "output_type": "stream",
     "text": [
      "Epoch = 10. Time index = mean. Threshold MC = 0.7. Threshold MD = 0.6\n",
      "RD = 820 NZ = 1426 NZA = 1912 pNZ = 0.189% pNZA = 0.254% AD = 57.50% ADA = 42.89% NO = 476 GSP = 60.29% NSP = 56.72%\n",
      "SI2 = 2.75 SI = -9.42 eGROI = 20.38% eROI = 10.93% eROI2 = 10.86% eROI3 = 6.10% mSpread = 0.0199%\n",
      "\n",
      "Getting extended results...\n"
     ]
    },
    {
     "name": "stderr",
     "output_type": "stream",
     "text": [
      "100%|███████████████████████████████████████████████████████████████████████████████████████████████████████████████████████████████| 1911/1911 [00:00<00:00, 3684.68it/s]\n"
     ]
    },
    {
     "name": "stdout",
     "output_type": "stream",
     "text": [
      "Epoch = 10. Time index = mean. Threshold MC = 0.7. Threshold MD = 0.6\n",
      "RD = 820 NZ = 1426 NZA = 1912 pNZ = 0.189% pNZA = 0.254% AD = 57.50% ADA = 42.89% NO = 476 GSP = 60.29% NSP = 56.72%\n",
      "SI2 = 2.75 SI = -9.42 eGROI = 20.38% eROI = 10.93% eROI2 = 10.86% eROI3 = 6.10% mSpread = 0.0199%\n",
      "\n",
      "Getting extended results...\n"
     ]
    },
    {
     "name": "stderr",
     "output_type": "stream",
     "text": [
      "100%|███████████████████████████████████████████████████████████████████████████████████████████████████████████████████████████████| 1911/1911 [00:00<00:00, 4008.44it/s]\n"
     ]
    },
    {
     "name": "stdout",
     "output_type": "stream",
     "text": [
      "Epoch = 10. Time index = mean. Threshold MC = 0.7. Threshold MD = 0.6\n",
      "RD = 820 NZ = 1426 NZA = 1912 pNZ = 0.189% pNZA = 0.254% AD = 57.50% ADA = 42.89% NO = 476 GSP = 60.29% NSP = 56.72%\n",
      "SI2 = 2.75 SI = -9.42 eGROI = 20.38% eROI = 10.93% eROI2 = 10.86% eROI3 = 6.10% mSpread = 0.0199%\n",
      "\n",
      "Best eGROI = 39.40 t_index 3 thr_mc 0.5 thr_md 0.6 epoch 10 in 3881 GSP 55.17 ADA 32.84 AD 56.76\n",
      "Best eROI = 10.97 t_index 2 thr_mc 0.7 thr_md 0.6 epoch 10 in 526 GSP 59.89 ADA 42.56 AD 57.52\n",
      "Best eROI.5 = 26.55 t_index 3 thr_mc 0.6 thr_md 0.6 epoch 10 in 1642 GSP 58.59 ADA 37.84 AD 57.51\n",
      "Best eROI1 = 18.34 t_index 3 thr_mc 0.6 thr_md 0.6 epoch 10 in 1642 GSP 58.59 ADA 37.84 AD 57.51\n",
      "Best eROI1.5 = 13.41 t_index 2 thr_mc 0.7 thr_md 0.6 epoch 10 in 526 GSP 59.89 ADA 42.56 AD 57.52\n",
      "Best eROI2 = 10.86 t_index mean thr_mc 0.7 thr_md 0.6 epoch 10 in 476 GSP 60.29 ADA 42.89 AD 57.50\n",
      "Best eROI3 = 6.10 t_index mean thr_mc 0.7 thr_md 0.6 epoch 10 in 476 GSP 60.29 ADA 42.89 AD 57.50\n",
      "Best eROI4 = 1.43 t_index 1 thr_mc 0.7 thr_md 0.7 epoch 10 in 95 GSP 64.21 ADA 58.54 AD 73.17\n",
      "Best eROI5 = 0.68 t_index 1 thr_mc 0.8 thr_md 0.7 epoch 10 in 49 GSP 69.39 ADA 60.00 AD 77.03\n",
      "Best SI = 18.49 t_index 1 thr_mc 0.7 thr_md 0.6 epoch 10 in 567 GSP 58.20 ADA 43.53 AD 57.26\n",
      "Best SI.5 = 105.61 t_index 0 thr_mc 0.5 thr_md 0.6 epoch 10 in 2463 GSP 58.95 ADA 36.23 AD 60.19\n",
      "Best SI1 = 61.61 t_index 0 thr_mc 0.5 thr_md 0.6 epoch 10 in 2463 GSP 58.95 ADA 36.23 AD 60.19\n",
      "Best SI1.5 = 34.96 t_index 0 thr_mc 0.6 thr_md 0.6 epoch 10 in 1268 GSP 60.02 ADA 40.33 AD 60.19\n",
      "Best SI2 = 15.49 t_index 1 thr_mc 0.7 thr_md 0.6 epoch 10 in 567 GSP 58.20 ADA 43.53 AD 57.26\n",
      "Best SI3 = 7.65 t_index 1 thr_mc 0.7 thr_md 0.7 epoch 10 in 95 GSP 64.21 ADA 58.54 AD 73.17\n",
      "Best SI4 = 5.65 t_index 1 thr_mc 0.7 thr_md 0.7 epoch 10 in 95 GSP 64.21 ADA 58.54 AD 73.17\n",
      "Best SI5 = 1.73 t_index 0 thr_mc 0.8 thr_md 0.6 epoch 10 in 59 GSP 64.41 ADA 51.76 AD 63.77\n",
      "Best 99eGROI = 45.65 t_index 3 thr_mc 0.5 thr_md 0.6 epoch 10 in 3881 GSP 55.17 ADA 32.84 AD 56.76\n",
      "Best 99eROI = 11.75 t_index 2 thr_mc 0.7 thr_md 0.6 epoch 10 in 526 GSP 59.89 ADA 42.56 AD 57.52\n",
      "Best 99eROI.5 = 26.72 t_index 3 thr_mc 0.6 thr_md 0.6 epoch 10 in 1642 GSP 58.59 ADA 37.84 AD 57.51\n",
      "Best 99eROI1 = 18.67 t_index 3 thr_mc 0.6 thr_md 0.6 epoch 10 in 1642 GSP 58.59 ADA 37.84 AD 57.51\n",
      "Best 99eROI1.5 = 14.16 t_index 2 thr_mc 0.7 thr_md 0.6 epoch 10 in 526 GSP 59.89 ADA 42.56 AD 57.52\n",
      "Best 99eROI2 = 11.58 t_index 2 thr_mc 0.7 thr_md 0.6 epoch 10 in 526 GSP 59.89 ADA 42.56 AD 57.52\n",
      "Best 99eROI3 = 7.00 t_index mean thr_mc 0.7 thr_md 0.6 epoch 10 in 476 GSP 60.29 ADA 42.89 AD 57.50\n",
      "Best 99eROI4 = 2.70 t_index mean thr_mc 0.7 thr_md 0.6 epoch 10 in 476 GSP 60.29 ADA 42.89 AD 57.50\n",
      "Best 99eROI5 = 1.30 t_index 1 thr_mc 0.8 thr_md 0.7 epoch 10 in 49 GSP 69.39 ADA 60.00 AD 77.03\n",
      "\n",
      "The very best:\n",
      "Best eGROI = 67.85 t_index 1 thr_mc 0.5 thr_md 0.6 epoch 14 in 4083 GSP 55.99 ADA 33.53 AD 56.66\n",
      "Best eROI = 32.05 t_index 2 thr_mc 0.7 thr_md 0.6 epoch 14 in 680 GSP 57.94 ADA 41.81 AD 57.88\n",
      "Best eROI.5 = 51.61 t_index 2 thr_mc 0.6 thr_md 0.6 epoch 14 in 2090 GSP 57.85 ADA 37.69 AD 57.30\n",
      "Best eROI1 = 41.16 t_index 2 thr_mc 0.6 thr_md 0.6 epoch 14 in 2090 GSP 57.85 ADA 37.69 AD 57.30\n",
      "Best eROI1.5 = 35.21 t_index 2 thr_mc 0.7 thr_md 0.6 epoch 14 in 680 GSP 57.94 ADA 41.81 AD 57.88\n",
      "Best eROI2 = 31.81 t_index 2 thr_mc 0.7 thr_md 0.6 epoch 14 in 680 GSP 57.94 ADA 41.81 AD 57.88\n",
      "Best eROI3 = 25.01 t_index 2 thr_mc 0.7 thr_md 0.6 epoch 14 in 680 GSP 57.94 ADA 41.81 AD 57.88\n",
      "Best eROI4 = 18.21 t_index 2 thr_mc 0.7 thr_md 0.6 epoch 14 in 680 GSP 57.94 ADA 41.81 AD 57.88\n",
      "Best eROI5 = 11.41 t_index 2 thr_mc 0.7 thr_md 0.6 epoch 14 in 680 GSP 57.94 ADA 41.81 AD 57.88\n",
      "Best SI = 19.75 t_index 0 thr_mc 0.7 thr_md 0.6 epoch 12 in 525 GSP 61.52 ADA 43.92 AD 58.13\n",
      "Best SI.5 = 105.61 t_index 0 thr_mc 0.5 thr_md 0.6 epoch 10 in 2463 GSP 58.95 ADA 36.23 AD 60.19\n",
      "Best SI1 = 61.61 t_index 0 thr_mc 0.5 thr_md 0.6 epoch 10 in 2463 GSP 58.95 ADA 36.23 AD 60.19\n",
      "Best SI1.5 = 34.96 t_index 0 thr_mc 0.6 thr_md 0.6 epoch 10 in 1268 GSP 60.02 ADA 40.33 AD 60.19\n",
      "Best SI2 = 19.84 t_index 2 thr_mc 0.7 thr_md 0.6 epoch 5 in 172 GSP 69.77 ADA 54.57 AD 70.49\n",
      "Best SI3 = 11.84 t_index 2 thr_mc 0.7 thr_md 0.6 epoch 5 in 172 GSP 69.77 ADA 54.57 AD 70.49\n",
      "Best SI4 = 8.66 t_index 1 thr_mc 0.8 thr_md 0.6 epoch 6 in 78 GSP 69.23 ADA 61.54 AD 76.19\n",
      "Best SI5 = 7.66 t_index 1 thr_mc 0.8 thr_md 0.6 epoch 6 in 78 GSP 69.23 ADA 61.54 AD 76.19\n",
      "Best 99eGROI = 58.04 t_index 0 thr_mc 0.5 thr_md 0.6 epoch 14 in 3552 GSP 57.52 ADA 34.10 AD 57.76\n",
      "Best 99eROI = 15.42 t_index 2 thr_mc 0.7 thr_md 0.6 epoch 14 in 680 GSP 57.94 ADA 41.81 AD 57.88\n",
      "Best 99eROI.5 = 40.63 t_index 0 thr_mc 0.5 thr_md 0.6 epoch 14 in 3552 GSP 57.52 ADA 34.10 AD 57.76\n",
      "Best 99eROI1 = 25.04 t_index 2 thr_mc 0.6 thr_md 0.6 epoch 14 in 2090 GSP 57.85 ADA 37.69 AD 57.30\n",
      "Best 99eROI1.5 = 18.55 t_index 2 thr_mc 0.7 thr_md 0.6 epoch 14 in 680 GSP 57.94 ADA 41.81 AD 57.88\n",
      "Best 99eROI2 = 15.21 t_index 2 thr_mc 0.7 thr_md 0.6 epoch 14 in 680 GSP 57.94 ADA 41.81 AD 57.88\n",
      "Best 99eROI3 = 9.12 t_index 2 thr_mc 0.7 thr_md 0.6 epoch 5 in 172 GSP 69.77 ADA 54.57 AD 70.49\n",
      "Best 99eROI4 = 7.42 t_index 2 thr_mc 0.7 thr_md 0.6 epoch 5 in 172 GSP 69.77 ADA 54.57 AD 70.49\n",
      "Best 99eROI5 = 5.72 t_index 2 thr_mc 0.7 thr_md 0.6 epoch 5 in 172 GSP 69.77 ADA 54.57 AD 70.49\n",
      "Time=15.77 secs\n",
      "INFO:tensorflow:Restoring parameters from C:/Users/mgutierrez/root/Projects/SDC/py/RNN/weights/WRNN01010k3K5A/000011/000011\n",
      "Parameters loaded. Epoch 11\n",
      "Epoch 11 of 14. Getting output...\n"
     ]
    },
    {
     "name": "stderr",
     "output_type": "stream",
     "text": [
      "100%|███████████████████████████████████████████████████████████████████████████████████████████████████████████████████████████████████| 736/736 [01:06<00:00, 11.12it/s]\n"
     ]
    },
    {
     "name": "stdout",
     "output_type": "stream",
     "text": [
      "J_test = 1.556525\n",
      "Epoch 11, J_train = 1.6448692844090416, J_test = 1.5565248395761717\n",
      "Getting extended results...\n"
     ]
    },
    {
     "name": "stderr",
     "output_type": "stream",
     "text": [
      "100%|███████████████████████████████████████████████████████████████████████████████████████████████████████████████████████████████| 1239/1239 [00:00<00:00, 3137.03it/s]\n"
     ]
    },
    {
     "name": "stdout",
     "output_type": "stream",
     "text": [
      "Epoch = 11. Time index = 0. Threshold MC = 0.7. Threshold MD = 0.6\n",
      "RD = 562 NZ = 950 NZA = 1240 pNZ = 0.126% pNZA = 0.165% AD = 59.16% ADA = 45.32% NO = 489 GSP = 60.12% NSP = 55.83%\n",
      "SI2 = 2.22 SI = -9.74 eGROI = 18.75% eROI = 8.75% eROI2 = 8.97% eROI3 = 4.08% mSpread = 0.0205%\n",
      "\n",
      "Getting extended results...\n"
     ]
    },
    {
     "name": "stderr",
     "output_type": "stream",
     "text": [
      "100%|███████████████████████████████████████████████████████████████████████████████████████████████████████████████████████████████| 2351/2351 [00:00<00:00, 4309.30it/s]\n"
     ]
    },
    {
     "name": "stdout",
     "output_type": "stream",
     "text": [
      "Epoch = 11. Time index = 1. Threshold MC = 0.7. Threshold MD = 0.6\n",
      "RD = 1017 NZ = 1768 NZA = 2352 pNZ = 0.235% pNZA = 0.312% AD = 57.52% ADA = 43.24% NO = 608 GSP = 59.21% NSP = 56.09%\n",
      "SI2 = 2.84 SI = -10.81 eGROI = 24.40% eROI = 12.77% eROI2 = 12.24% eROI3 = 6.16% mSpread = 0.0191%\n",
      "\n",
      "Getting extended results...\n"
     ]
    },
    {
     "name": "stderr",
     "output_type": "stream",
     "text": [
      "100%|███████████████████████████████████████████████████████████████████████████████████████████████████████████████████████████████| 2631/2631 [00:00<00:00, 3856.63it/s]\n"
     ]
    },
    {
     "name": "stdout",
     "output_type": "stream",
     "text": [
      "Epoch = 11. Time index = 2. Threshold MC = 0.7. Threshold MD = 0.6\n",
      "RD = 1104 NZ = 1932 NZA = 2632 pNZ = 0.257% pNZA = 0.350% AD = 57.14% ADA = 41.95% NO = 568 GSP = 58.27% NSP = 54.05%\n",
      "SI2 = 2.01 SI = -10.93 eGROI = 22.60% eROI = 11.35% eROI2 = 11.24% eROI3 = 5.56% mSpread = 0.0198%\n",
      "\n",
      "Getting extended results...\n"
     ]
    },
    {
     "name": "stderr",
     "output_type": "stream",
     "text": [
      "100%|███████████████████████████████████████████████████████████████████████████████████████████████████████████████████████████████| 2873/2873 [00:00<00:00, 4162.68it/s]\n"
     ]
    },
    {
     "name": "stdout",
     "output_type": "stream",
     "text": [
      "Epoch = 11. Time index = 3. Threshold MC = 0.7. Threshold MD = 0.6\n",
      "RD = 1188 NZ = 2087 NZA = 2874 pNZ = 0.277% pNZA = 0.382% AD = 56.92% ADA = 41.34% NO = 541 GSP = 59.70% NSP = 55.45%\n",
      "SI2 = 2.19 SI = -10.34 eGROI = 20.19% eROI = 9.43% eROI2 = 9.37% eROI3 = 3.96% mSpread = 0.0199%\n",
      "\n",
      "Getting extended results...\n"
     ]
    },
    {
     "name": "stderr",
     "output_type": "stream",
     "text": [
      "100%|███████████████████████████████████████████████████████████████████████████████████████████████████████████████████████████████| 2186/2186 [00:00<00:00, 2621.72it/s]\n"
     ]
    },
    {
     "name": "stdout",
     "output_type": "stream",
     "text": [
      "Epoch = 11. Time index = mean. Threshold MC = 0.7. Threshold MD = 0.6\n",
      "RD = 919 NZ = 1618 NZA = 2187 pNZ = 0.215% pNZA = 0.290% AD = 56.80% ADA = 42.02% NO = 506 GSP = 60.08% NSP = 56.72%\n",
      "SI2 = 2.58 SI = -9.71 eGROI = 20.97% eROI = 11.05% eROI2 = 10.85% eROI3 = 5.79% mSpread = 0.0196%\n",
      "\n",
      "Getting extended results...\n"
     ]
    },
    {
     "name": "stderr",
     "output_type": "stream",
     "text": [
      "100%|███████████████████████████████████████████████████████████████████████████████████████████████████████████████████████████████| 2186/2186 [00:00<00:00, 3336.01it/s]\n"
     ]
    },
    {
     "name": "stdout",
     "output_type": "stream",
     "text": [
      "Epoch = 11. Time index = mean. Threshold MC = 0.7. Threshold MD = 0.6\n",
      "RD = 919 NZ = 1618 NZA = 2187 pNZ = 0.215% pNZA = 0.290% AD = 56.80% ADA = 42.02% NO = 506 GSP = 60.08% NSP = 56.72%\n",
      "SI2 = 2.58 SI = -9.71 eGROI = 20.97% eROI = 11.05% eROI2 = 10.85% eROI3 = 5.79% mSpread = 0.0196%\n",
      "\n",
      "Getting extended results...\n"
     ]
    },
    {
     "name": "stderr",
     "output_type": "stream",
     "text": [
      "100%|███████████████████████████████████████████████████████████████████████████████████████████████████████████████████████████████| 2186/2186 [00:00<00:00, 4058.92it/s]\n"
     ]
    },
    {
     "name": "stdout",
     "output_type": "stream",
     "text": [
      "Epoch = 11. Time index = mean. Threshold MC = 0.7. Threshold MD = 0.6\n",
      "RD = 919 NZ = 1618 NZA = 2187 pNZ = 0.215% pNZA = 0.290% AD = 56.80% ADA = 42.02% NO = 506 GSP = 60.08% NSP = 56.72%\n",
      "SI2 = 2.58 SI = -9.71 eGROI = 20.97% eROI = 11.05% eROI2 = 10.85% eROI3 = 5.79% mSpread = 0.0196%\n",
      "\n",
      "Getting extended results...\n"
     ]
    },
    {
     "name": "stderr",
     "output_type": "stream",
     "text": [
      "100%|███████████████████████████████████████████████████████████████████████████████████████████████████████████████████████████████| 2186/2186 [00:00<00:00, 3082.66it/s]\n"
     ]
    },
    {
     "name": "stdout",
     "output_type": "stream",
     "text": [
      "Epoch = 11. Time index = mean. Threshold MC = 0.7. Threshold MD = 0.6\n",
      "RD = 919 NZ = 1618 NZA = 2187 pNZ = 0.215% pNZA = 0.290% AD = 56.80% ADA = 42.02% NO = 506 GSP = 60.08% NSP = 56.72%\n",
      "SI2 = 2.58 SI = -9.71 eGROI = 20.97% eROI = 11.05% eROI2 = 10.85% eROI3 = 5.79% mSpread = 0.0196%\n",
      "\n",
      "Getting extended results...\n"
     ]
    },
    {
     "name": "stderr",
     "output_type": "stream",
     "text": [
      "100%|███████████████████████████████████████████████████████████████████████████████████████████████████████████████████████████████| 2186/2186 [00:00<00:00, 2781.43it/s]\n"
     ]
    },
    {
     "name": "stdout",
     "output_type": "stream",
     "text": [
      "Epoch = 11. Time index = mean. Threshold MC = 0.7. Threshold MD = 0.6\n",
      "RD = 919 NZ = 1618 NZA = 2187 pNZ = 0.215% pNZA = 0.290% AD = 56.80% ADA = 42.02% NO = 506 GSP = 60.08% NSP = 56.72%\n",
      "SI2 = 2.58 SI = -9.71 eGROI = 20.97% eROI = 11.05% eROI2 = 10.85% eROI3 = 5.79% mSpread = 0.0196%\n",
      "\n",
      "Getting extended results...\n"
     ]
    },
    {
     "name": "stderr",
     "output_type": "stream",
     "text": [
      "100%|███████████████████████████████████████████████████████████████████████████████████████████████████████████████████████████████| 2186/2186 [00:00<00:00, 2994.21it/s]\n"
     ]
    },
    {
     "name": "stdout",
     "output_type": "stream",
     "text": [
      "Epoch = 11. Time index = mean. Threshold MC = 0.7. Threshold MD = 0.6\n",
      "RD = 919 NZ = 1618 NZA = 2187 pNZ = 0.215% pNZA = 0.290% AD = 56.80% ADA = 42.02% NO = 506 GSP = 60.08% NSP = 56.72%\n",
      "SI2 = 2.58 SI = -9.71 eGROI = 20.97% eROI = 11.05% eROI2 = 10.85% eROI3 = 5.79% mSpread = 0.0196%\n",
      "\n",
      "Getting extended results...\n"
     ]
    },
    {
     "name": "stderr",
     "output_type": "stream",
     "text": [
      "100%|███████████████████████████████████████████████████████████████████████████████████████████████████████████████████████████████| 2186/2186 [00:00<00:00, 3113.30it/s]\n"
     ]
    },
    {
     "name": "stdout",
     "output_type": "stream",
     "text": [
      "Epoch = 11. Time index = mean. Threshold MC = 0.7. Threshold MD = 0.6\n",
      "RD = 919 NZ = 1618 NZA = 2187 pNZ = 0.215% pNZA = 0.290% AD = 56.80% ADA = 42.02% NO = 506 GSP = 60.08% NSP = 56.72%\n",
      "SI2 = 2.58 SI = -9.71 eGROI = 20.97% eROI = 11.05% eROI2 = 10.85% eROI3 = 5.79% mSpread = 0.0196%\n",
      "\n",
      "Best eGROI = 55.62 t_index 0 thr_mc 0.5 thr_md 0.6 epoch 11 in 2861 GSP 57.85 ADA 35.24 AD 59.06\n",
      "Best eROI = 14.64 t_index 0 thr_mc 0.6 thr_md 0.6 epoch 11 in 1458 GSP 59.26 ADA 39.65 AD 59.24\n",
      "Best eROI.5 = 41.32 t_index 0 thr_mc 0.5 thr_md 0.6 epoch 11 in 2861 GSP 57.85 ADA 35.24 AD 59.06\n",
      "Best eROI1 = 30.91 t_index 0 thr_mc 0.6 thr_md 0.6 epoch 11 in 1458 GSP 59.26 ADA 39.65 AD 59.24\n",
      "Best eROI1.5 = 23.62 t_index 0 thr_mc 0.6 thr_md 0.6 epoch 11 in 1458 GSP 59.26 ADA 39.65 AD 59.24\n",
      "Best eROI2 = 16.33 t_index 0 thr_mc 0.6 thr_md 0.6 epoch 11 in 1458 GSP 59.26 ADA 39.65 AD 59.24\n",
      "Best eROI3 = 6.16 t_index 1 thr_mc 0.7 thr_md 0.6 epoch 11 in 608 GSP 59.21 ADA 43.24 AD 57.52\n",
      "Best eROI4 = 2.04 t_index 3 thr_mc 0.7 thr_md 0.8 epoch 11 in 52 GSP 71.15 ADA 47.71 AD 65.18\n",
      "Best eROI5 = 1.52 t_index 3 thr_mc 0.7 thr_md 0.8 epoch 11 in 52 GSP 71.15 ADA 47.71 AD 65.18\n",
      "Best SI = 18.76 t_index 1 thr_mc 0.7 thr_md 0.6 epoch 11 in 608 GSP 59.21 ADA 43.24 AD 57.52\n",
      "Best SI.5 = 85.67 t_index 0 thr_mc 0.5 thr_md 0.6 epoch 11 in 2861 GSP 57.85 ADA 35.24 AD 59.06\n",
      "Best SI1 = 55.26 t_index 0 thr_mc 0.6 thr_md 0.6 epoch 11 in 1458 GSP 59.26 ADA 39.65 AD 59.24\n",
      "Best SI1.5 = 29.26 t_index 0 thr_mc 0.6 thr_md 0.6 epoch 11 in 1458 GSP 59.26 ADA 39.65 AD 59.24\n",
      "Best SI2 = 16.76 t_index 1 thr_mc 0.7 thr_md 0.6 epoch 11 in 608 GSP 59.21 ADA 43.24 AD 57.52\n",
      "Best SI3 = 6.44 t_index 3 thr_mc 0.7 thr_md 0.8 epoch 11 in 52 GSP 71.15 ADA 47.71 AD 65.18\n",
      "Best SI4 = 5.44 t_index 3 thr_mc 0.7 thr_md 0.8 epoch 11 in 52 GSP 71.15 ADA 47.71 AD 65.18\n",
      "Best SI5 = 3.44 t_index 3 thr_mc 0.7 thr_md 0.8 epoch 11 in 52 GSP 71.15 ADA 47.71 AD 65.18\n",
      "Best 99eGROI = 44.76 t_index 2 thr_mc 0.5 thr_md 0.6 epoch 11 in 3913 GSP 54.92 ADA 33.23 AD 56.75\n",
      "Best 99eROI = 13.41 t_index 1 thr_mc 0.7 thr_md 0.6 epoch 11 in 608 GSP 59.21 ADA 43.24 AD 57.52\n",
      "Best 99eROI.5 = 29.79 t_index 0 thr_mc 0.5 thr_md 0.6 epoch 11 in 2861 GSP 57.85 ADA 35.24 AD 59.06\n",
      "Best 99eROI1 = 19.41 t_index 3 thr_mc 0.6 thr_md 0.6 epoch 11 in 1772 GSP 58.52 ADA 37.68 AD 57.47\n",
      "Best 99eROI1.5 = 15.91 t_index 1 thr_mc 0.7 thr_md 0.6 epoch 11 in 608 GSP 59.21 ADA 43.24 AD 57.52\n",
      "Best 99eROI2 = 12.93 t_index 1 thr_mc 0.7 thr_md 0.6 epoch 11 in 608 GSP 59.21 ADA 43.24 AD 57.52\n",
      "Best 99eROI3 = 7.37 t_index 1 thr_mc 0.7 thr_md 0.6 epoch 11 in 608 GSP 59.21 ADA 43.24 AD 57.52\n",
      "Best 99eROI4 = 2.57 t_index 1 thr_mc 0.7 thr_md 0.7 epoch 11 in 122 GSP 62.30 ADA 54.03 AD 68.05\n",
      "Best 99eROI5 = 1.90 t_index 3 thr_mc 0.7 thr_md 0.8 epoch 11 in 52 GSP 71.15 ADA 47.71 AD 65.18\n",
      "\n",
      "The very best:\n",
      "Best eGROI = 67.85 t_index 1 thr_mc 0.5 thr_md 0.6 epoch 14 in 4083 GSP 55.99 ADA 33.53 AD 56.66\n",
      "Best eROI = 32.05 t_index 2 thr_mc 0.7 thr_md 0.6 epoch 14 in 680 GSP 57.94 ADA 41.81 AD 57.88\n",
      "Best eROI.5 = 51.61 t_index 2 thr_mc 0.6 thr_md 0.6 epoch 14 in 2090 GSP 57.85 ADA 37.69 AD 57.30\n",
      "Best eROI1 = 41.16 t_index 2 thr_mc 0.6 thr_md 0.6 epoch 14 in 2090 GSP 57.85 ADA 37.69 AD 57.30\n",
      "Best eROI1.5 = 35.21 t_index 2 thr_mc 0.7 thr_md 0.6 epoch 14 in 680 GSP 57.94 ADA 41.81 AD 57.88\n",
      "Best eROI2 = 31.81 t_index 2 thr_mc 0.7 thr_md 0.6 epoch 14 in 680 GSP 57.94 ADA 41.81 AD 57.88\n",
      "Best eROI3 = 25.01 t_index 2 thr_mc 0.7 thr_md 0.6 epoch 14 in 680 GSP 57.94 ADA 41.81 AD 57.88\n",
      "Best eROI4 = 18.21 t_index 2 thr_mc 0.7 thr_md 0.6 epoch 14 in 680 GSP 57.94 ADA 41.81 AD 57.88\n",
      "Best eROI5 = 11.41 t_index 2 thr_mc 0.7 thr_md 0.6 epoch 14 in 680 GSP 57.94 ADA 41.81 AD 57.88\n",
      "Best SI = 19.75 t_index 0 thr_mc 0.7 thr_md 0.6 epoch 12 in 525 GSP 61.52 ADA 43.92 AD 58.13\n",
      "Best SI.5 = 105.61 t_index 0 thr_mc 0.5 thr_md 0.6 epoch 10 in 2463 GSP 58.95 ADA 36.23 AD 60.19\n",
      "Best SI1 = 61.61 t_index 0 thr_mc 0.5 thr_md 0.6 epoch 10 in 2463 GSP 58.95 ADA 36.23 AD 60.19\n",
      "Best SI1.5 = 34.96 t_index 0 thr_mc 0.6 thr_md 0.6 epoch 10 in 1268 GSP 60.02 ADA 40.33 AD 60.19\n",
      "Best SI2 = 19.84 t_index 2 thr_mc 0.7 thr_md 0.6 epoch 5 in 172 GSP 69.77 ADA 54.57 AD 70.49\n",
      "Best SI3 = 11.84 t_index 2 thr_mc 0.7 thr_md 0.6 epoch 5 in 172 GSP 69.77 ADA 54.57 AD 70.49\n",
      "Best SI4 = 8.66 t_index 1 thr_mc 0.8 thr_md 0.6 epoch 6 in 78 GSP 69.23 ADA 61.54 AD 76.19\n",
      "Best SI5 = 7.66 t_index 1 thr_mc 0.8 thr_md 0.6 epoch 6 in 78 GSP 69.23 ADA 61.54 AD 76.19\n",
      "Best 99eGROI = 58.04 t_index 0 thr_mc 0.5 thr_md 0.6 epoch 14 in 3552 GSP 57.52 ADA 34.10 AD 57.76\n",
      "Best 99eROI = 15.42 t_index 2 thr_mc 0.7 thr_md 0.6 epoch 14 in 680 GSP 57.94 ADA 41.81 AD 57.88\n",
      "Best 99eROI.5 = 40.63 t_index 0 thr_mc 0.5 thr_md 0.6 epoch 14 in 3552 GSP 57.52 ADA 34.10 AD 57.76\n",
      "Best 99eROI1 = 25.04 t_index 2 thr_mc 0.6 thr_md 0.6 epoch 14 in 2090 GSP 57.85 ADA 37.69 AD 57.30\n",
      "Best 99eROI1.5 = 18.55 t_index 2 thr_mc 0.7 thr_md 0.6 epoch 14 in 680 GSP 57.94 ADA 41.81 AD 57.88\n",
      "Best 99eROI2 = 15.21 t_index 2 thr_mc 0.7 thr_md 0.6 epoch 14 in 680 GSP 57.94 ADA 41.81 AD 57.88\n",
      "Best 99eROI3 = 9.12 t_index 2 thr_mc 0.7 thr_md 0.6 epoch 5 in 172 GSP 69.77 ADA 54.57 AD 70.49\n",
      "Best 99eROI4 = 7.42 t_index 2 thr_mc 0.7 thr_md 0.6 epoch 5 in 172 GSP 69.77 ADA 54.57 AD 70.49\n",
      "Best 99eROI5 = 5.72 t_index 2 thr_mc 0.7 thr_md 0.6 epoch 5 in 172 GSP 69.77 ADA 54.57 AD 70.49\n",
      "Time=18.30 secs\n",
      "INFO:tensorflow:Restoring parameters from C:/Users/mgutierrez/root/Projects/SDC/py/RNN/weights/WRNN01010k3K5A/000012/000012\n",
      "Parameters loaded. Epoch 12\n",
      "Epoch 12 of 14. Getting output...\n"
     ]
    },
    {
     "name": "stderr",
     "output_type": "stream",
     "text": [
      "100%|███████████████████████████████████████████████████████████████████████████████████████████████████████████████████████████████████| 736/736 [01:06<00:00, 11.05it/s]\n"
     ]
    },
    {
     "name": "stdout",
     "output_type": "stream",
     "text": [
      "J_test = 1.556707\n",
      "Epoch 12, J_train = 1.644245166473392, J_test = 1.5567067011219005\n",
      "Getting extended results...\n"
     ]
    },
    {
     "name": "stderr",
     "output_type": "stream",
     "text": [
      "100%|███████████████████████████████████████████████████████████████████████████████████████████████████████████████████████████████| 1513/1513 [00:00<00:00, 4201.78it/s]\n"
     ]
    },
    {
     "name": "stdout",
     "output_type": "stream",
     "text": [
      "Epoch = 12. Time index = 0. Threshold MC = 0.7. Threshold MD = 0.6\n",
      "RD = 665 NZ = 1144 NZA = 1514 pNZ = 0.152% pNZA = 0.201% AD = 58.13% ADA = 43.92% NO = 525 GSP = 61.52% NSP = 56.76%\n",
      "SI2 = 2.84 SI = -9.88 eGROI = 19.00% eROI = 8.38% eROI2 = 8.50% eROI3 = 3.25% mSpread = 0.0202%\n",
      "\n",
      "Getting extended results...\n"
     ]
    },
    {
     "name": "stderr",
     "output_type": "stream",
     "text": [
      "100%|███████████████████████████████████████████████████████████████████████████████████████████████████████████████████████████████| 2591/2591 [00:00<00:00, 4117.04it/s]\n"
     ]
    },
    {
     "name": "stdout",
     "output_type": "stream",
     "text": [
      "Epoch = 12. Time index = 1. Threshold MC = 0.7. Threshold MD = 0.6\n",
      "RD = 1111 NZ = 1937 NZA = 2592 pNZ = 0.257% pNZA = 0.344% AD = 57.36% ADA = 42.86% NO = 632 GSP = 59.02% NSP = 55.85%\n",
      "SI2 = 2.55 SI = -11.08 eGROI = 25.28% eROI = 13.13% eROI2 = 12.64% eROI3 = 6.32% mSpread = 0.0192%\n",
      "\n",
      "Getting extended results...\n"
     ]
    },
    {
     "name": "stderr",
     "output_type": "stream",
     "text": [
      "100%|███████████████████████████████████████████████████████████████████████████████████████████████████████████████████████████████| 2926/2926 [00:00<00:00, 4513.46it/s]\n"
     ]
    },
    {
     "name": "stdout",
     "output_type": "stream",
     "text": [
      "Epoch = 12. Time index = 2. Threshold MC = 0.7. Threshold MD = 0.6\n",
      "RD = 1223 NZ = 2141 NZA = 2927 pNZ = 0.284% pNZA = 0.389% AD = 57.12% ADA = 41.78% NO = 605 GSP = 59.17% NSP = 54.38%\n",
      "SI2 = 1.91 SI = -11.20 eGROI = 23.68% eROI = 11.76% eROI2 = 11.58% eROI3 = 5.53% mSpread = 0.0197%\n",
      "\n",
      "Getting extended results...\n"
     ]
    },
    {
     "name": "stderr",
     "output_type": "stream",
     "text": [
      "100%|███████████████████████████████████████████████████████████████████████████████████████████████████████████████████████████████| 3196/3196 [00:00<00:00, 4818.73it/s]\n"
     ]
    },
    {
     "name": "stdout",
     "output_type": "stream",
     "text": [
      "Epoch = 12. Time index = 3. Threshold MC = 0.7. Threshold MD = 0.6\n",
      "RD = 1331 NZ = 2303 NZA = 3197 pNZ = 0.306% pNZA = 0.425% AD = 57.79% ADA = 41.63% NO = 585 GSP = 58.97% NSP = 55.21%\n",
      "SI2 = 1.94 SI = -10.81 eGROI = 21.25% eROI = 9.61% eROI2 = 9.55% eROI3 = 3.70% mSpread = 0.0199%\n",
      "\n",
      "Getting extended results...\n"
     ]
    },
    {
     "name": "stderr",
     "output_type": "stream",
     "text": [
      "100%|███████████████████████████████████████████████████████████████████████████████████████████████████████████████████████████████| 2481/2481 [00:00<00:00, 3735.10it/s]\n"
     ]
    },
    {
     "name": "stdout",
     "output_type": "stream",
     "text": [
      "Epoch = 12. Time index = mean. Threshold MC = 0.7. Threshold MD = 0.6\n",
      "RD = 1041 NZ = 1830 NZA = 2482 pNZ = 0.243% pNZA = 0.330% AD = 56.89% ADA = 41.94% NO = 550 GSP = 60.00% NSP = 55.27%\n",
      "SI2 = 2.13 SI = -10.47 eGROI = 21.62% eROI = 10.91% eROI2 = 10.62% eROI3 = 5.12% mSpread = 0.0195%\n",
      "\n",
      "Getting extended results...\n"
     ]
    },
    {
     "name": "stderr",
     "output_type": "stream",
     "text": [
      "100%|███████████████████████████████████████████████████████████████████████████████████████████████████████████████████████████████| 2481/2481 [00:00<00:00, 3886.82it/s]\n"
     ]
    },
    {
     "name": "stdout",
     "output_type": "stream",
     "text": [
      "Epoch = 12. Time index = mean. Threshold MC = 0.7. Threshold MD = 0.6\n",
      "RD = 1041 NZ = 1830 NZA = 2482 pNZ = 0.243% pNZA = 0.330% AD = 56.89% ADA = 41.94% NO = 550 GSP = 60.00% NSP = 55.27%\n",
      "SI2 = 2.13 SI = -10.47 eGROI = 21.62% eROI = 10.91% eROI2 = 10.62% eROI3 = 5.12% mSpread = 0.0195%\n",
      "\n",
      "Getting extended results...\n"
     ]
    },
    {
     "name": "stderr",
     "output_type": "stream",
     "text": [
      "100%|███████████████████████████████████████████████████████████████████████████████████████████████████████████████████████████████| 2481/2481 [00:00<00:00, 3948.52it/s]\n"
     ]
    },
    {
     "name": "stdout",
     "output_type": "stream",
     "text": [
      "Epoch = 12. Time index = mean. Threshold MC = 0.7. Threshold MD = 0.6\n",
      "RD = 1041 NZ = 1830 NZA = 2482 pNZ = 0.243% pNZA = 0.330% AD = 56.89% ADA = 41.94% NO = 550 GSP = 60.00% NSP = 55.27%\n",
      "SI2 = 2.13 SI = -10.47 eGROI = 21.62% eROI = 10.91% eROI2 = 10.62% eROI3 = 5.12% mSpread = 0.0195%\n",
      "\n",
      "Getting extended results...\n"
     ]
    },
    {
     "name": "stderr",
     "output_type": "stream",
     "text": [
      "100%|███████████████████████████████████████████████████████████████████████████████████████████████████████████████████████████████| 2481/2481 [00:00<00:00, 5097.41it/s]\n"
     ]
    },
    {
     "name": "stdout",
     "output_type": "stream",
     "text": [
      "Epoch = 12. Time index = mean. Threshold MC = 0.7. Threshold MD = 0.6\n",
      "RD = 1041 NZ = 1830 NZA = 2482 pNZ = 0.243% pNZA = 0.330% AD = 56.89% ADA = 41.94% NO = 550 GSP = 60.00% NSP = 55.27%\n",
      "SI2 = 2.13 SI = -10.47 eGROI = 21.62% eROI = 10.91% eROI2 = 10.62% eROI3 = 5.12% mSpread = 0.0195%\n",
      "\n",
      "Getting extended results...\n"
     ]
    },
    {
     "name": "stderr",
     "output_type": "stream",
     "text": [
      "100%|███████████████████████████████████████████████████████████████████████████████████████████████████████████████████████████████| 2481/2481 [00:00<00:00, 3769.03it/s]\n"
     ]
    },
    {
     "name": "stdout",
     "output_type": "stream",
     "text": [
      "Epoch = 12. Time index = mean. Threshold MC = 0.7. Threshold MD = 0.6\n",
      "RD = 1041 NZ = 1830 NZA = 2482 pNZ = 0.243% pNZA = 0.330% AD = 56.89% ADA = 41.94% NO = 550 GSP = 60.00% NSP = 55.27%\n",
      "SI2 = 2.13 SI = -10.47 eGROI = 21.62% eROI = 10.91% eROI2 = 10.62% eROI3 = 5.12% mSpread = 0.0195%\n",
      "\n",
      "Getting extended results...\n"
     ]
    },
    {
     "name": "stderr",
     "output_type": "stream",
     "text": [
      "100%|███████████████████████████████████████████████████████████████████████████████████████████████████████████████████████████████| 2481/2481 [00:00<00:00, 3780.50it/s]\n"
     ]
    },
    {
     "name": "stdout",
     "output_type": "stream",
     "text": [
      "Epoch = 12. Time index = mean. Threshold MC = 0.7. Threshold MD = 0.6\n",
      "RD = 1041 NZ = 1830 NZA = 2482 pNZ = 0.243% pNZA = 0.330% AD = 56.89% ADA = 41.94% NO = 550 GSP = 60.00% NSP = 55.27%\n",
      "SI2 = 2.13 SI = -10.47 eGROI = 21.62% eROI = 10.91% eROI2 = 10.62% eROI3 = 5.12% mSpread = 0.0195%\n",
      "\n",
      "Getting extended results...\n"
     ]
    },
    {
     "name": "stderr",
     "output_type": "stream",
     "text": [
      "100%|███████████████████████████████████████████████████████████████████████████████████████████████████████████████████████████████| 2481/2481 [00:00<00:00, 4091.39it/s]\n"
     ]
    },
    {
     "name": "stdout",
     "output_type": "stream",
     "text": [
      "Epoch = 12. Time index = mean. Threshold MC = 0.7. Threshold MD = 0.6\n",
      "RD = 1041 NZ = 1830 NZA = 2482 pNZ = 0.243% pNZA = 0.330% AD = 56.89% ADA = 41.94% NO = 550 GSP = 60.00% NSP = 55.27%\n",
      "SI2 = 2.13 SI = -10.47 eGROI = 21.62% eROI = 10.91% eROI2 = 10.62% eROI3 = 5.12% mSpread = 0.0195%\n",
      "\n",
      "Getting extended results...\n"
     ]
    },
    {
     "name": "stderr",
     "output_type": "stream",
     "text": [
      "100%|███████████████████████████████████████████████████████████████████████████████████████████████████████████████████████████████| 2481/2481 [00:00<00:00, 3729.49it/s]\n"
     ]
    },
    {
     "name": "stdout",
     "output_type": "stream",
     "text": [
      "Epoch = 12. Time index = mean. Threshold MC = 0.7. Threshold MD = 0.6\n",
      "RD = 1041 NZ = 1830 NZA = 2482 pNZ = 0.243% pNZA = 0.330% AD = 56.89% ADA = 41.94% NO = 550 GSP = 60.00% NSP = 55.27%\n",
      "SI2 = 2.13 SI = -10.47 eGROI = 21.62% eROI = 10.91% eROI2 = 10.62% eROI3 = 5.12% mSpread = 0.0195%\n",
      "\n",
      "Best eGROI = 54.17 t_index 0 thr_mc 0.5 thr_md 0.6 epoch 12 in 3130 GSP 56.81 ADA 34.69 AD 58.39\n",
      "Best eROI = 13.13 t_index 1 thr_mc 0.7 thr_md 0.6 epoch 12 in 632 GSP 59.02 ADA 42.86 AD 57.36\n",
      "Best eROI.5 = 38.52 t_index 0 thr_mc 0.5 thr_md 0.6 epoch 12 in 3130 GSP 56.81 ADA 34.69 AD 58.39\n",
      "Best eROI1 = 28.15 t_index 0 thr_mc 0.6 thr_md 0.6 epoch 12 in 1564 GSP 58.82 ADA 39.50 AD 58.95\n",
      "Best eROI1.5 = 20.33 t_index 0 thr_mc 0.6 thr_md 0.6 epoch 12 in 1564 GSP 58.82 ADA 39.50 AD 58.95\n",
      "Best eROI2 = 12.64 t_index 1 thr_mc 0.7 thr_md 0.6 epoch 12 in 632 GSP 59.02 ADA 42.86 AD 57.36\n",
      "Best eROI3 = 6.32 t_index 1 thr_mc 0.7 thr_md 0.6 epoch 12 in 632 GSP 59.02 ADA 42.86 AD 57.36\n",
      "Best eROI4 = 2.82 t_index 3 thr_mc 0.7 thr_md 0.8 epoch 12 in 72 GSP 66.67 ADA 47.06 AD 64.00\n",
      "Best eROI5 = 2.10 t_index 3 thr_mc 0.7 thr_md 0.8 epoch 12 in 72 GSP 66.67 ADA 47.06 AD 64.00\n",
      "Best SI = 19.75 t_index 0 thr_mc 0.7 thr_md 0.6 epoch 12 in 525 GSP 61.52 ADA 43.92 AD 58.13\n",
      "Best SI.5 = 74.08 t_index 0 thr_mc 0.6 thr_md 0.6 epoch 12 in 1564 GSP 58.82 ADA 39.50 AD 58.95\n",
      "Best SI1 = 53.08 t_index 0 thr_mc 0.6 thr_md 0.6 epoch 12 in 1564 GSP 58.82 ADA 39.50 AD 58.95\n",
      "Best SI1.5 = 29.08 t_index 0 thr_mc 0.6 thr_md 0.6 epoch 12 in 1564 GSP 58.82 ADA 39.50 AD 58.95\n",
      "Best SI2 = 16.75 t_index 0 thr_mc 0.7 thr_md 0.6 epoch 12 in 525 GSP 61.52 ADA 43.92 AD 58.13\n",
      "Best SI3 = 6.84 t_index 3 thr_mc 0.7 thr_md 0.8 epoch 12 in 72 GSP 66.67 ADA 47.06 AD 64.00\n",
      "Best SI4 = 3.84 t_index 3 thr_mc 0.7 thr_md 0.8 epoch 12 in 72 GSP 66.67 ADA 47.06 AD 64.00\n",
      "Best SI5 = 3.84 t_index 3 thr_mc 0.7 thr_md 0.8 epoch 12 in 72 GSP 66.67 ADA 47.06 AD 64.00\n",
      "Best 99eGROI = 48.04 t_index 1 thr_mc 0.5 thr_md 0.6 epoch 12 in 3682 GSP 55.95 ADA 33.93 AD 57.02\n",
      "Best 99eROI = 13.74 t_index 1 thr_mc 0.7 thr_md 0.6 epoch 12 in 632 GSP 59.02 ADA 42.86 AD 57.36\n",
      "Best 99eROI.5 = 29.99 t_index 1 thr_mc 0.5 thr_md 0.6 epoch 12 in 3682 GSP 55.95 ADA 33.93 AD 57.02\n",
      "Best 99eROI1 = 19.50 t_index 1 thr_mc 0.7 thr_md 0.6 epoch 12 in 632 GSP 59.02 ADA 42.86 AD 57.36\n",
      "Best 99eROI1.5 = 16.40 t_index 1 thr_mc 0.7 thr_md 0.6 epoch 12 in 632 GSP 59.02 ADA 42.86 AD 57.36\n",
      "Best 99eROI2 = 13.30 t_index 1 thr_mc 0.7 thr_md 0.6 epoch 12 in 632 GSP 59.02 ADA 42.86 AD 57.36\n",
      "Best 99eROI3 = 7.35 t_index 1 thr_mc 0.7 thr_md 0.6 epoch 12 in 632 GSP 59.02 ADA 42.86 AD 57.36\n",
      "Best 99eROI4 = 3.58 t_index 3 thr_mc 0.7 thr_md 0.8 epoch 12 in 72 GSP 66.67 ADA 47.06 AD 64.00\n",
      "Best 99eROI5 = 2.87 t_index 3 thr_mc 0.7 thr_md 0.8 epoch 12 in 72 GSP 66.67 ADA 47.06 AD 64.00\n",
      "\n",
      "The very best:\n",
      "Best eGROI = 67.85 t_index 1 thr_mc 0.5 thr_md 0.6 epoch 14 in 4083 GSP 55.99 ADA 33.53 AD 56.66\n",
      "Best eROI = 32.05 t_index 2 thr_mc 0.7 thr_md 0.6 epoch 14 in 680 GSP 57.94 ADA 41.81 AD 57.88\n",
      "Best eROI.5 = 51.61 t_index 2 thr_mc 0.6 thr_md 0.6 epoch 14 in 2090 GSP 57.85 ADA 37.69 AD 57.30\n",
      "Best eROI1 = 41.16 t_index 2 thr_mc 0.6 thr_md 0.6 epoch 14 in 2090 GSP 57.85 ADA 37.69 AD 57.30\n",
      "Best eROI1.5 = 35.21 t_index 2 thr_mc 0.7 thr_md 0.6 epoch 14 in 680 GSP 57.94 ADA 41.81 AD 57.88\n",
      "Best eROI2 = 31.81 t_index 2 thr_mc 0.7 thr_md 0.6 epoch 14 in 680 GSP 57.94 ADA 41.81 AD 57.88\n",
      "Best eROI3 = 25.01 t_index 2 thr_mc 0.7 thr_md 0.6 epoch 14 in 680 GSP 57.94 ADA 41.81 AD 57.88\n",
      "Best eROI4 = 18.21 t_index 2 thr_mc 0.7 thr_md 0.6 epoch 14 in 680 GSP 57.94 ADA 41.81 AD 57.88\n",
      "Best eROI5 = 11.41 t_index 2 thr_mc 0.7 thr_md 0.6 epoch 14 in 680 GSP 57.94 ADA 41.81 AD 57.88\n",
      "Best SI = 19.75 t_index 0 thr_mc 0.7 thr_md 0.6 epoch 12 in 525 GSP 61.52 ADA 43.92 AD 58.13\n",
      "Best SI.5 = 105.61 t_index 0 thr_mc 0.5 thr_md 0.6 epoch 10 in 2463 GSP 58.95 ADA 36.23 AD 60.19\n",
      "Best SI1 = 61.61 t_index 0 thr_mc 0.5 thr_md 0.6 epoch 10 in 2463 GSP 58.95 ADA 36.23 AD 60.19\n",
      "Best SI1.5 = 34.96 t_index 0 thr_mc 0.6 thr_md 0.6 epoch 10 in 1268 GSP 60.02 ADA 40.33 AD 60.19\n",
      "Best SI2 = 19.84 t_index 2 thr_mc 0.7 thr_md 0.6 epoch 5 in 172 GSP 69.77 ADA 54.57 AD 70.49\n",
      "Best SI3 = 11.84 t_index 2 thr_mc 0.7 thr_md 0.6 epoch 5 in 172 GSP 69.77 ADA 54.57 AD 70.49\n",
      "Best SI4 = 8.66 t_index 1 thr_mc 0.8 thr_md 0.6 epoch 6 in 78 GSP 69.23 ADA 61.54 AD 76.19\n",
      "Best SI5 = 7.66 t_index 1 thr_mc 0.8 thr_md 0.6 epoch 6 in 78 GSP 69.23 ADA 61.54 AD 76.19\n",
      "Best 99eGROI = 58.04 t_index 0 thr_mc 0.5 thr_md 0.6 epoch 14 in 3552 GSP 57.52 ADA 34.10 AD 57.76\n",
      "Best 99eROI = 15.42 t_index 2 thr_mc 0.7 thr_md 0.6 epoch 14 in 680 GSP 57.94 ADA 41.81 AD 57.88\n",
      "Best 99eROI.5 = 40.63 t_index 0 thr_mc 0.5 thr_md 0.6 epoch 14 in 3552 GSP 57.52 ADA 34.10 AD 57.76\n",
      "Best 99eROI1 = 25.04 t_index 2 thr_mc 0.6 thr_md 0.6 epoch 14 in 2090 GSP 57.85 ADA 37.69 AD 57.30\n",
      "Best 99eROI1.5 = 18.55 t_index 2 thr_mc 0.7 thr_md 0.6 epoch 14 in 680 GSP 57.94 ADA 41.81 AD 57.88\n",
      "Best 99eROI2 = 15.21 t_index 2 thr_mc 0.7 thr_md 0.6 epoch 14 in 680 GSP 57.94 ADA 41.81 AD 57.88\n",
      "Best 99eROI3 = 9.12 t_index 2 thr_mc 0.7 thr_md 0.6 epoch 5 in 172 GSP 69.77 ADA 54.57 AD 70.49\n",
      "Best 99eROI4 = 7.42 t_index 2 thr_mc 0.7 thr_md 0.6 epoch 5 in 172 GSP 69.77 ADA 54.57 AD 70.49\n",
      "Best 99eROI5 = 5.72 t_index 2 thr_mc 0.7 thr_md 0.6 epoch 5 in 172 GSP 69.77 ADA 54.57 AD 70.49\n",
      "Time=17.40 secs\n",
      "INFO:tensorflow:Restoring parameters from C:/Users/mgutierrez/root/Projects/SDC/py/RNN/weights/WRNN01010k3K5A/000013/000013\n",
      "Parameters loaded. Epoch 13\n",
      "Epoch 13 of 14. Getting output...\n"
     ]
    },
    {
     "name": "stderr",
     "output_type": "stream",
     "text": [
      "100%|███████████████████████████████████████████████████████████████████████████████████████████████████████████████████████████████████| 736/736 [01:07<00:00, 10.93it/s]\n"
     ]
    },
    {
     "name": "stdout",
     "output_type": "stream",
     "text": [
      "J_test = 1.556916\n",
      "Epoch 13, J_train = 1.6436231943349513, J_test = 1.556915973353645\n",
      "Getting extended results...\n"
     ]
    },
    {
     "name": "stderr",
     "output_type": "stream",
     "text": [
      "100%|███████████████████████████████████████████████████████████████████████████████████████████████████████████████████████████████| 1728/1728 [00:00<00:00, 3493.09it/s]\n"
     ]
    },
    {
     "name": "stdout",
     "output_type": "stream",
     "text": [
      "Epoch = 13. Time index = 0. Threshold MC = 0.7. Threshold MD = 0.6\n",
      "RD = 768 NZ = 1301 NZA = 1729 pNZ = 0.173% pNZA = 0.230% AD = 59.03% ADA = 44.42% NO = 567 GSP = 60.67% NSP = 55.91%\n",
      "SI2 = 2.65 SI = -10.48 eGROI = 22.15% eROI = 10.94% eROI2 = 10.81% eROI3 = 5.14% mSpread = 0.0198%\n",
      "\n",
      "Getting extended results...\n"
     ]
    },
    {
     "name": "stderr",
     "output_type": "stream",
     "text": [
      "100%|███████████████████████████████████████████████████████████████████████████████████████████████████████████████████████████████| 2817/2817 [00:00<00:00, 2861.66it/s]\n"
     ]
    },
    {
     "name": "stdout",
     "output_type": "stream",
     "text": [
      "Epoch = 13. Time index = 1. Threshold MC = 0.7. Threshold MD = 0.6\n",
      "RD = 1199 NZ = 2092 NZA = 2818 pNZ = 0.278% pNZA = 0.374% AD = 57.31% ADA = 42.55% NO = 649 GSP = 57.63% NSP = 54.08%\n",
      "SI2 = 1.77 SI = -11.68 eGROI = 23.55% eROI = 11.00% eROI2 = 10.57% eROI3 = 4.08% mSpread = 0.0193%\n",
      "\n",
      "Getting extended results...\n"
     ]
    },
    {
     "name": "stderr",
     "output_type": "stream",
     "text": [
      "100%|███████████████████████████████████████████████████████████████████████████████████████████████████████████████████████████████| 3179/3179 [00:00<00:00, 4199.49it/s]\n"
     ]
    },
    {
     "name": "stdout",
     "output_type": "stream",
     "text": [
      "Epoch = 13. Time index = 2. Threshold MC = 0.7. Threshold MD = 0.6\n",
      "RD = 1331 NZ = 2305 NZA = 3180 pNZ = 0.306% pNZA = 0.422% AD = 57.74% ADA = 41.86% NO = 627 GSP = 59.01% NSP = 54.70%\n",
      "SI2 = 1.80 SI = -11.32 eGROI = 25.07% eROI = 12.60% eROI2 = 12.53% eROI3 = 6.26% mSpread = 0.0199%\n",
      "\n",
      "Getting extended results...\n"
     ]
    },
    {
     "name": "stderr",
     "output_type": "stream",
     "text": [
      "100%|███████████████████████████████████████████████████████████████████████████████████████████████████████████████████████████████| 3509/3509 [00:00<00:00, 4754.21it/s]\n"
     ]
    },
    {
     "name": "stdout",
     "output_type": "stream",
     "text": [
      "Epoch = 13. Time index = 3. Threshold MC = 0.7. Threshold MD = 0.6\n",
      "RD = 1450 NZ = 2517 NZA = 3510 pNZ = 0.334% pNZA = 0.466% AD = 57.61% ADA = 41.31% NO = 615 GSP = 57.56% NSP = 53.66%\n",
      "SI2 = 1.49 SI = -11.47 eGROI = 39.42% eROI = 27.07% eROI2 = 27.12% eROI3 = 20.97% mSpread = 0.0201%\n",
      "\n",
      "Getting extended results...\n"
     ]
    },
    {
     "name": "stderr",
     "output_type": "stream",
     "text": [
      "100%|███████████████████████████████████████████████████████████████████████████████████████████████████████████████████████████████| 2685/2685 [00:00<00:00, 4633.55it/s]\n"
     ]
    },
    {
     "name": "stdout",
     "output_type": "stream",
     "text": [
      "Epoch = 13. Time index = mean. Threshold MC = 0.7. Threshold MD = 0.6\n",
      "RD = 1129 NZ = 1960 NZA = 2686 pNZ = 0.260% pNZA = 0.357% AD = 57.60% ADA = 42.03% NO = 575 GSP = 60.35% NSP = 55.48%\n",
      "SI2 = 1.79 SI = -10.65 eGROI = 25.27% eROI = 14.26% eROI2 = 13.77% eROI3 = 8.02% mSpread = 0.0191%\n",
      "\n",
      "Getting extended results...\n"
     ]
    },
    {
     "name": "stderr",
     "output_type": "stream",
     "text": [
      "100%|███████████████████████████████████████████████████████████████████████████████████████████████████████████████████████████████| 2685/2685 [00:00<00:00, 4259.66it/s]\n"
     ]
    },
    {
     "name": "stdout",
     "output_type": "stream",
     "text": [
      "Epoch = 13. Time index = mean. Threshold MC = 0.7. Threshold MD = 0.6\n",
      "RD = 1129 NZ = 1960 NZA = 2686 pNZ = 0.260% pNZA = 0.357% AD = 57.60% ADA = 42.03% NO = 575 GSP = 60.35% NSP = 55.48%\n",
      "SI2 = 1.79 SI = -10.65 eGROI = 25.27% eROI = 14.26% eROI2 = 13.77% eROI3 = 8.02% mSpread = 0.0191%\n",
      "\n",
      "Getting extended results...\n"
     ]
    },
    {
     "name": "stderr",
     "output_type": "stream",
     "text": [
      "100%|███████████████████████████████████████████████████████████████████████████████████████████████████████████████████████████████| 2685/2685 [00:00<00:00, 3818.59it/s]\n"
     ]
    },
    {
     "name": "stdout",
     "output_type": "stream",
     "text": [
      "Epoch = 13. Time index = mean. Threshold MC = 0.7. Threshold MD = 0.6\n",
      "RD = 1129 NZ = 1960 NZA = 2686 pNZ = 0.260% pNZA = 0.357% AD = 57.60% ADA = 42.03% NO = 575 GSP = 60.35% NSP = 55.48%\n",
      "SI2 = 1.79 SI = -10.65 eGROI = 25.27% eROI = 14.26% eROI2 = 13.77% eROI3 = 8.02% mSpread = 0.0191%\n",
      "\n",
      "Getting extended results...\n"
     ]
    },
    {
     "name": "stderr",
     "output_type": "stream",
     "text": [
      "100%|███████████████████████████████████████████████████████████████████████████████████████████████████████████████████████████████| 2685/2685 [00:00<00:00, 3703.03it/s]\n"
     ]
    },
    {
     "name": "stdout",
     "output_type": "stream",
     "text": [
      "Epoch = 13. Time index = mean. Threshold MC = 0.7. Threshold MD = 0.6\n",
      "RD = 1129 NZ = 1960 NZA = 2686 pNZ = 0.260% pNZA = 0.357% AD = 57.60% ADA = 42.03% NO = 575 GSP = 60.35% NSP = 55.48%\n",
      "SI2 = 1.79 SI = -10.65 eGROI = 25.27% eROI = 14.26% eROI2 = 13.77% eROI3 = 8.02% mSpread = 0.0191%\n",
      "\n",
      "Getting extended results...\n"
     ]
    },
    {
     "name": "stderr",
     "output_type": "stream",
     "text": [
      "100%|███████████████████████████████████████████████████████████████████████████████████████████████████████████████████████████████| 2685/2685 [00:00<00:00, 4085.14it/s]\n"
     ]
    },
    {
     "name": "stdout",
     "output_type": "stream",
     "text": [
      "Epoch = 13. Time index = mean. Threshold MC = 0.7. Threshold MD = 0.6\n",
      "RD = 1129 NZ = 1960 NZA = 2686 pNZ = 0.260% pNZA = 0.357% AD = 57.60% ADA = 42.03% NO = 575 GSP = 60.35% NSP = 55.48%\n",
      "SI2 = 1.79 SI = -10.65 eGROI = 25.27% eROI = 14.26% eROI2 = 13.77% eROI3 = 8.02% mSpread = 0.0191%\n",
      "\n",
      "Getting extended results...\n"
     ]
    },
    {
     "name": "stderr",
     "output_type": "stream",
     "text": [
      "100%|███████████████████████████████████████████████████████████████████████████████████████████████████████████████████████████████| 2685/2685 [00:00<00:00, 3930.09it/s]\n"
     ]
    },
    {
     "name": "stdout",
     "output_type": "stream",
     "text": [
      "Epoch = 13. Time index = mean. Threshold MC = 0.7. Threshold MD = 0.6\n",
      "RD = 1129 NZ = 1960 NZA = 2686 pNZ = 0.260% pNZA = 0.357% AD = 57.60% ADA = 42.03% NO = 575 GSP = 60.35% NSP = 55.48%\n",
      "SI2 = 1.79 SI = -10.65 eGROI = 25.27% eROI = 14.26% eROI2 = 13.77% eROI3 = 8.02% mSpread = 0.0191%\n",
      "\n",
      "Getting extended results...\n"
     ]
    },
    {
     "name": "stderr",
     "output_type": "stream",
     "text": [
      "100%|███████████████████████████████████████████████████████████████████████████████████████████████████████████████████████████████| 2685/2685 [00:00<00:00, 4193.31it/s]\n"
     ]
    },
    {
     "name": "stdout",
     "output_type": "stream",
     "text": [
      "Epoch = 13. Time index = mean. Threshold MC = 0.7. Threshold MD = 0.6\n",
      "RD = 1129 NZ = 1960 NZA = 2686 pNZ = 0.260% pNZA = 0.357% AD = 57.60% ADA = 42.03% NO = 575 GSP = 60.35% NSP = 55.48%\n",
      "SI2 = 1.79 SI = -10.65 eGROI = 25.27% eROI = 14.26% eROI2 = 13.77% eROI3 = 8.02% mSpread = 0.0191%\n",
      "\n",
      "Getting extended results...\n"
     ]
    },
    {
     "name": "stderr",
     "output_type": "stream",
     "text": [
      "100%|███████████████████████████████████████████████████████████████████████████████████████████████████████████████████████████████| 2685/2685 [00:00<00:00, 4391.70it/s]\n"
     ]
    },
    {
     "name": "stdout",
     "output_type": "stream",
     "text": [
      "Epoch = 13. Time index = mean. Threshold MC = 0.7. Threshold MD = 0.6\n",
      "RD = 1129 NZ = 1960 NZA = 2686 pNZ = 0.260% pNZA = 0.357% AD = 57.60% ADA = 42.03% NO = 575 GSP = 60.35% NSP = 55.48%\n",
      "SI2 = 1.79 SI = -10.65 eGROI = 25.27% eROI = 14.26% eROI2 = 13.77% eROI3 = 8.02% mSpread = 0.0191%\n",
      "\n",
      "Getting extended results...\n"
     ]
    },
    {
     "name": "stderr",
     "output_type": "stream",
     "text": [
      "100%|███████████████████████████████████████████████████████████████████████████████████████████████████████████████████████████████| 2685/2685 [00:00<00:00, 4141.48it/s]\n"
     ]
    },
    {
     "name": "stdout",
     "output_type": "stream",
     "text": [
      "Epoch = 13. Time index = mean. Threshold MC = 0.7. Threshold MD = 0.6\n",
      "RD = 1129 NZ = 1960 NZA = 2686 pNZ = 0.260% pNZA = 0.357% AD = 57.60% ADA = 42.03% NO = 575 GSP = 60.35% NSP = 55.48%\n",
      "SI2 = 1.79 SI = -10.65 eGROI = 25.27% eROI = 14.26% eROI2 = 13.77% eROI3 = 8.02% mSpread = 0.0191%\n",
      "\n",
      "Best eGROI = 65.30 t_index 1 thr_mc 0.5 thr_md 0.6 epoch 13 in 3883 GSP 55.94 ADA 33.77 AD 56.90\n",
      "Best eROI = 27.07 t_index 3 thr_mc 0.7 thr_md 0.6 epoch 13 in 615 GSP 57.56 ADA 41.31 AD 57.61\n",
      "Best eROI.5 = 45.89 t_index 1 thr_mc 0.5 thr_md 0.6 epoch 13 in 3883 GSP 55.94 ADA 33.77 AD 56.90\n",
      "Best eROI1 = 34.55 t_index 1 thr_mc 0.6 thr_md 0.6 epoch 13 in 1836 GSP 57.08 ADA 38.65 AD 57.84\n",
      "Best eROI1.5 = 30.20 t_index 3 thr_mc 0.7 thr_md 0.6 epoch 13 in 615 GSP 57.56 ADA 41.31 AD 57.61\n",
      "Best eROI2 = 27.12 t_index 3 thr_mc 0.7 thr_md 0.6 epoch 13 in 615 GSP 57.56 ADA 41.31 AD 57.61\n",
      "Best eROI3 = 20.97 t_index 3 thr_mc 0.7 thr_md 0.6 epoch 13 in 615 GSP 57.56 ADA 41.31 AD 57.61\n",
      "Best eROI4 = 14.82 t_index 3 thr_mc 0.7 thr_md 0.6 epoch 13 in 615 GSP 57.56 ADA 41.31 AD 57.61\n",
      "Best eROI5 = 8.67 t_index 3 thr_mc 0.7 thr_md 0.6 epoch 13 in 615 GSP 57.56 ADA 41.31 AD 57.61\n",
      "Best SI = 16.49 t_index 0 thr_mc 0.7 thr_md 0.6 epoch 13 in 567 GSP 60.67 ADA 44.42 AD 59.03\n",
      "Best SI.5 = 100.13 t_index 0 thr_mc 0.5 thr_md 0.6 epoch 13 in 3379 GSP 57.44 ADA 34.60 AD 58.50\n",
      "Best SI1 = 53.96 t_index 0 thr_mc 0.6 thr_md 0.6 epoch 13 in 1668 GSP 58.99 ADA 39.95 AD 59.99\n",
      "Best SI1.5 = 28.96 t_index 0 thr_mc 0.6 thr_md 0.6 epoch 13 in 1668 GSP 58.99 ADA 39.95 AD 59.99\n",
      "Best SI2 = 14.49 t_index 0 thr_mc 0.7 thr_md 0.6 epoch 13 in 567 GSP 60.67 ADA 44.42 AD 59.03\n",
      "Best SI3 = 9.77 t_index 3 thr_mc 0.7 thr_md 0.8 epoch 13 in 91 GSP 70.33 ADA 46.58 AD 63.67\n",
      "Best SI4 = 6.77 t_index 3 thr_mc 0.7 thr_md 0.8 epoch 13 in 91 GSP 70.33 ADA 46.58 AD 63.67\n",
      "Best SI5 = 5.31 t_index 2 thr_mc 0.7 thr_md 0.8 epoch 13 in 73 GSP 72.60 ADA 47.49 AD 64.60\n",
      "Best 99eGROI = 52.02 t_index 0 thr_mc 0.5 thr_md 0.6 epoch 13 in 3379 GSP 57.44 ADA 34.60 AD 58.50\n",
      "Best 99eROI = 13.24 t_index mean thr_mc 0.7 thr_md 0.6 epoch 13 in 575 GSP 60.35 ADA 42.03 AD 57.60\n",
      "Best 99eROI.5 = 35.46 t_index 0 thr_mc 0.5 thr_md 0.6 epoch 13 in 3379 GSP 57.44 ADA 34.60 AD 58.50\n",
      "Best 99eROI1 = 23.85 t_index 2 thr_mc 0.6 thr_md 0.6 epoch 13 in 1966 GSP 58.29 ADA 38.06 AD 57.38\n",
      "Best 99eROI1.5 = 16.22 t_index 2 thr_mc 0.7 thr_md 0.6 epoch 13 in 627 GSP 59.01 ADA 41.86 AD 57.74\n",
      "Best 99eROI2 = 13.15 t_index 2 thr_mc 0.7 thr_md 0.6 epoch 13 in 627 GSP 59.01 ADA 41.86 AD 57.74\n",
      "Best 99eROI3 = 7.59 t_index mean thr_mc 0.7 thr_md 0.6 epoch 13 in 575 GSP 60.35 ADA 42.03 AD 57.60\n",
      "Best 99eROI4 = 3.33 t_index 2 thr_mc 0.7 thr_md 0.8 epoch 13 in 73 GSP 72.60 ADA 47.49 AD 64.60\n",
      "Best 99eROI5 = 2.61 t_index 2 thr_mc 0.7 thr_md 0.8 epoch 13 in 73 GSP 72.60 ADA 47.49 AD 64.60\n",
      "\n",
      "The very best:\n",
      "Best eGROI = 67.85 t_index 1 thr_mc 0.5 thr_md 0.6 epoch 14 in 4083 GSP 55.99 ADA 33.53 AD 56.66\n",
      "Best eROI = 32.05 t_index 2 thr_mc 0.7 thr_md 0.6 epoch 14 in 680 GSP 57.94 ADA 41.81 AD 57.88\n",
      "Best eROI.5 = 51.61 t_index 2 thr_mc 0.6 thr_md 0.6 epoch 14 in 2090 GSP 57.85 ADA 37.69 AD 57.30\n",
      "Best eROI1 = 41.16 t_index 2 thr_mc 0.6 thr_md 0.6 epoch 14 in 2090 GSP 57.85 ADA 37.69 AD 57.30\n",
      "Best eROI1.5 = 35.21 t_index 2 thr_mc 0.7 thr_md 0.6 epoch 14 in 680 GSP 57.94 ADA 41.81 AD 57.88\n",
      "Best eROI2 = 31.81 t_index 2 thr_mc 0.7 thr_md 0.6 epoch 14 in 680 GSP 57.94 ADA 41.81 AD 57.88\n",
      "Best eROI3 = 25.01 t_index 2 thr_mc 0.7 thr_md 0.6 epoch 14 in 680 GSP 57.94 ADA 41.81 AD 57.88\n",
      "Best eROI4 = 18.21 t_index 2 thr_mc 0.7 thr_md 0.6 epoch 14 in 680 GSP 57.94 ADA 41.81 AD 57.88\n",
      "Best eROI5 = 11.41 t_index 2 thr_mc 0.7 thr_md 0.6 epoch 14 in 680 GSP 57.94 ADA 41.81 AD 57.88\n",
      "Best SI = 19.75 t_index 0 thr_mc 0.7 thr_md 0.6 epoch 12 in 525 GSP 61.52 ADA 43.92 AD 58.13\n",
      "Best SI.5 = 105.61 t_index 0 thr_mc 0.5 thr_md 0.6 epoch 10 in 2463 GSP 58.95 ADA 36.23 AD 60.19\n",
      "Best SI1 = 61.61 t_index 0 thr_mc 0.5 thr_md 0.6 epoch 10 in 2463 GSP 58.95 ADA 36.23 AD 60.19\n",
      "Best SI1.5 = 34.96 t_index 0 thr_mc 0.6 thr_md 0.6 epoch 10 in 1268 GSP 60.02 ADA 40.33 AD 60.19\n",
      "Best SI2 = 19.84 t_index 2 thr_mc 0.7 thr_md 0.6 epoch 5 in 172 GSP 69.77 ADA 54.57 AD 70.49\n",
      "Best SI3 = 11.84 t_index 2 thr_mc 0.7 thr_md 0.6 epoch 5 in 172 GSP 69.77 ADA 54.57 AD 70.49\n",
      "Best SI4 = 8.66 t_index 1 thr_mc 0.8 thr_md 0.6 epoch 6 in 78 GSP 69.23 ADA 61.54 AD 76.19\n",
      "Best SI5 = 7.66 t_index 1 thr_mc 0.8 thr_md 0.6 epoch 6 in 78 GSP 69.23 ADA 61.54 AD 76.19\n",
      "Best 99eGROI = 58.04 t_index 0 thr_mc 0.5 thr_md 0.6 epoch 14 in 3552 GSP 57.52 ADA 34.10 AD 57.76\n",
      "Best 99eROI = 15.42 t_index 2 thr_mc 0.7 thr_md 0.6 epoch 14 in 680 GSP 57.94 ADA 41.81 AD 57.88\n",
      "Best 99eROI.5 = 40.63 t_index 0 thr_mc 0.5 thr_md 0.6 epoch 14 in 3552 GSP 57.52 ADA 34.10 AD 57.76\n",
      "Best 99eROI1 = 25.04 t_index 2 thr_mc 0.6 thr_md 0.6 epoch 14 in 2090 GSP 57.85 ADA 37.69 AD 57.30\n",
      "Best 99eROI1.5 = 18.55 t_index 2 thr_mc 0.7 thr_md 0.6 epoch 14 in 680 GSP 57.94 ADA 41.81 AD 57.88\n",
      "Best 99eROI2 = 15.21 t_index 2 thr_mc 0.7 thr_md 0.6 epoch 14 in 680 GSP 57.94 ADA 41.81 AD 57.88\n",
      "Best 99eROI3 = 9.12 t_index 2 thr_mc 0.7 thr_md 0.6 epoch 5 in 172 GSP 69.77 ADA 54.57 AD 70.49\n",
      "Best 99eROI4 = 7.42 t_index 2 thr_mc 0.7 thr_md 0.6 epoch 5 in 172 GSP 69.77 ADA 54.57 AD 70.49\n",
      "Best 99eROI5 = 5.72 t_index 2 thr_mc 0.7 thr_md 0.6 epoch 5 in 172 GSP 69.77 ADA 54.57 AD 70.49\n",
      "Time=20.29 secs\n",
      "INFO:tensorflow:Restoring parameters from C:/Users/mgutierrez/root/Projects/SDC/py/RNN/weights/WRNN01010k3K5A/000014/000014\n",
      "Parameters loaded. Epoch 14\n",
      "Epoch 14 of 14. Getting output...\n"
     ]
    },
    {
     "name": "stderr",
     "output_type": "stream",
     "text": [
      "100%|███████████████████████████████████████████████████████████████████████████████████████████████████████████████████████████████████| 736/736 [01:04<00:00, 11.48it/s]\n"
     ]
    },
    {
     "name": "stdout",
     "output_type": "stream",
     "text": [
      "J_test = 1.557158\n",
      "Epoch 14, J_train = 1.643001372672991, J_test = 1.5571580815898336\n",
      "Getting extended results...\n"
     ]
    },
    {
     "name": "stderr",
     "output_type": "stream",
     "text": [
      "100%|███████████████████████████████████████████████████████████████████████████████████████████████████████████████████████████████| 1941/1941 [00:00<00:00, 4413.02it/s]\n"
     ]
    },
    {
     "name": "stdout",
     "output_type": "stream",
     "text": [
      "Epoch = 14. Time index = 0. Threshold MC = 0.7. Threshold MD = 0.6\n",
      "RD = 842 NZ = 1454 NZA = 1942 pNZ = 0.193% pNZA = 0.258% AD = 57.91% ADA = 43.36% NO = 598 GSP = 59.36% NSP = 55.02%\n",
      "SI2 = 2.21 SI = -10.98 eGROI = 22.71% eROI = 10.94% eROI2 = 10.75% eROI3 = 4.77% mSpread = 0.0197%\n",
      "\n",
      "Getting extended results...\n"
     ]
    },
    {
     "name": "stderr",
     "output_type": "stream",
     "text": [
      "100%|███████████████████████████████████████████████████████████████████████████████████████████████████████████████████████████████| 3009/3009 [00:00<00:00, 4231.32it/s]\n"
     ]
    },
    {
     "name": "stdout",
     "output_type": "stream",
     "text": [
      "Epoch = 14. Time index = 1. Threshold MC = 0.7. Threshold MD = 0.6\n",
      "RD = 1265 NZ = 2210 NZA = 3010 pNZ = 0.294% pNZA = 0.400% AD = 57.24% ADA = 42.03% NO = 673 GSP = 57.95% NSP = 53.94%\n",
      "SI2 = 1.66 SI = -11.93 eGROI = 24.83% eROI = 11.65% eROI2 = 11.37% eROI3 = 4.64% mSpread = 0.0196%\n",
      "\n",
      "Getting extended results...\n"
     ]
    },
    {
     "name": "stderr",
     "output_type": "stream",
     "text": [
      "100%|███████████████████████████████████████████████████████████████████████████████████████████████████████████████████████████████| 3496/3496 [00:00<00:00, 4493.87it/s]\n"
     ]
    },
    {
     "name": "stdout",
     "output_type": "stream",
     "text": [
      "Epoch = 14. Time index = 2. Threshold MC = 0.7. Threshold MD = 0.6\n",
      "RD = 1462 NZ = 2526 NZA = 3497 pNZ = 0.336% pNZA = 0.464% AD = 57.88% ADA = 41.81% NO = 680 GSP = 57.94% NSP = 54.56%\n",
      "SI2 = 1.61 SI = -11.83 eGROI = 45.41% eROI = 32.05% eROI2 = 31.81% eROI3 = 25.01% mSpread = 0.0196%\n",
      "\n",
      "Getting extended results...\n"
     ]
    },
    {
     "name": "stderr",
     "output_type": "stream",
     "text": [
      "100%|███████████████████████████████████████████████████████████████████████████████████████████████████████████████████████████████| 3846/3846 [00:00<00:00, 4754.85it/s]\n"
     ]
    },
    {
     "name": "stdout",
     "output_type": "stream",
     "text": [
      "Epoch = 14. Time index = 3. Threshold MC = 0.7. Threshold MD = 0.6\n",
      "RD = 1583 NZ = 2771 NZA = 3847 pNZ = 0.368% pNZA = 0.511% AD = 57.13% ADA = 41.15% NO = 656 GSP = 55.34% NSP = 51.83%\n",
      "SI2 = 0.62 SI = -12.32 eGROI = 37.24% eROI = 24.33% eROI2 = 24.12% eROI3 = 17.56% mSpread = 0.0197%\n",
      "\n",
      "Getting extended results...\n"
     ]
    },
    {
     "name": "stderr",
     "output_type": "stream",
     "text": [
      "100%|███████████████████████████████████████████████████████████████████████████████████████████████████████████████████████████████| 2928/2928 [00:00<00:00, 3339.88it/s]\n"
     ]
    },
    {
     "name": "stdout",
     "output_type": "stream",
     "text": [
      "Epoch = 14. Time index = mean. Threshold MC = 0.7. Threshold MD = 0.6\n",
      "RD = 1239 NZ = 2133 NZA = 2929 pNZ = 0.283% pNZA = 0.389% AD = 58.09% ADA = 42.30% NO = 591 GSP = 59.39% NSP = 53.81%\n",
      "SI2 = 1.60 SI = -11.21 eGROI = 23.80% eROI = 12.41% eROI2 = 11.98% eROI3 = 6.07% mSpread = 0.0193%\n",
      "\n",
      "Getting extended results...\n"
     ]
    },
    {
     "name": "stderr",
     "output_type": "stream",
     "text": [
      "100%|███████████████████████████████████████████████████████████████████████████████████████████████████████████████████████████████| 2928/2928 [00:00<00:00, 4523.50it/s]\n"
     ]
    },
    {
     "name": "stdout",
     "output_type": "stream",
     "text": [
      "Epoch = 14. Time index = mean. Threshold MC = 0.7. Threshold MD = 0.6\n",
      "RD = 1239 NZ = 2133 NZA = 2929 pNZ = 0.283% pNZA = 0.389% AD = 58.09% ADA = 42.30% NO = 591 GSP = 59.39% NSP = 53.81%\n",
      "SI2 = 1.60 SI = -11.21 eGROI = 23.80% eROI = 12.41% eROI2 = 11.98% eROI3 = 6.07% mSpread = 0.0193%\n",
      "\n",
      "Getting extended results...\n"
     ]
    },
    {
     "name": "stderr",
     "output_type": "stream",
     "text": [
      "100%|███████████████████████████████████████████████████████████████████████████████████████████████████████████████████████████████| 2928/2928 [00:00<00:00, 3977.99it/s]\n"
     ]
    },
    {
     "name": "stdout",
     "output_type": "stream",
     "text": [
      "Epoch = 14. Time index = mean. Threshold MC = 0.7. Threshold MD = 0.6\n",
      "RD = 1239 NZ = 2133 NZA = 2929 pNZ = 0.283% pNZA = 0.389% AD = 58.09% ADA = 42.30% NO = 591 GSP = 59.39% NSP = 53.81%\n",
      "SI2 = 1.60 SI = -11.21 eGROI = 23.80% eROI = 12.41% eROI2 = 11.98% eROI3 = 6.07% mSpread = 0.0193%\n",
      "\n",
      "Getting extended results...\n"
     ]
    },
    {
     "name": "stderr",
     "output_type": "stream",
     "text": [
      "100%|███████████████████████████████████████████████████████████████████████████████████████████████████████████████████████████████| 2928/2928 [00:00<00:00, 3597.57it/s]\n"
     ]
    },
    {
     "name": "stdout",
     "output_type": "stream",
     "text": [
      "Epoch = 14. Time index = mean. Threshold MC = 0.7. Threshold MD = 0.6\n",
      "RD = 1239 NZ = 2133 NZA = 2929 pNZ = 0.283% pNZA = 0.389% AD = 58.09% ADA = 42.30% NO = 591 GSP = 59.39% NSP = 53.81%\n",
      "SI2 = 1.60 SI = -11.21 eGROI = 23.80% eROI = 12.41% eROI2 = 11.98% eROI3 = 6.07% mSpread = 0.0193%\n",
      "\n",
      "Getting extended results...\n"
     ]
    },
    {
     "name": "stderr",
     "output_type": "stream",
     "text": [
      "100%|███████████████████████████████████████████████████████████████████████████████████████████████████████████████████████████████| 2928/2928 [00:00<00:00, 4523.50it/s]\n"
     ]
    },
    {
     "name": "stdout",
     "output_type": "stream",
     "text": [
      "Epoch = 14. Time index = mean. Threshold MC = 0.7. Threshold MD = 0.6\n",
      "RD = 1239 NZ = 2133 NZA = 2929 pNZ = 0.283% pNZA = 0.389% AD = 58.09% ADA = 42.30% NO = 591 GSP = 59.39% NSP = 53.81%\n",
      "SI2 = 1.60 SI = -11.21 eGROI = 23.80% eROI = 12.41% eROI2 = 11.98% eROI3 = 6.07% mSpread = 0.0193%\n",
      "\n",
      "Getting extended results...\n"
     ]
    },
    {
     "name": "stderr",
     "output_type": "stream",
     "text": [
      "100%|███████████████████████████████████████████████████████████████████████████████████████████████████████████████████████████████| 2928/2928 [00:00<00:00, 4111.68it/s]\n"
     ]
    },
    {
     "name": "stdout",
     "output_type": "stream",
     "text": [
      "Epoch = 14. Time index = mean. Threshold MC = 0.7. Threshold MD = 0.6\n",
      "RD = 1239 NZ = 2133 NZA = 2929 pNZ = 0.283% pNZA = 0.389% AD = 58.09% ADA = 42.30% NO = 591 GSP = 59.39% NSP = 53.81%\n",
      "SI2 = 1.60 SI = -11.21 eGROI = 23.80% eROI = 12.41% eROI2 = 11.98% eROI3 = 6.07% mSpread = 0.0193%\n",
      "\n",
      "Getting extended results...\n"
     ]
    },
    {
     "name": "stderr",
     "output_type": "stream",
     "text": [
      "100%|███████████████████████████████████████████████████████████████████████████████████████████████████████████████████████████████| 2928/2928 [00:00<00:00, 4021.58it/s]\n"
     ]
    },
    {
     "name": "stdout",
     "output_type": "stream",
     "text": [
      "Epoch = 14. Time index = mean. Threshold MC = 0.7. Threshold MD = 0.6\n",
      "RD = 1239 NZ = 2133 NZA = 2929 pNZ = 0.283% pNZA = 0.389% AD = 58.09% ADA = 42.30% NO = 591 GSP = 59.39% NSP = 53.81%\n",
      "SI2 = 1.60 SI = -11.21 eGROI = 23.80% eROI = 12.41% eROI2 = 11.98% eROI3 = 6.07% mSpread = 0.0193%\n",
      "\n",
      "Getting extended results...\n"
     ]
    },
    {
     "name": "stderr",
     "output_type": "stream",
     "text": [
      "100%|███████████████████████████████████████████████████████████████████████████████████████████████████████████████████████████████| 2928/2928 [00:00<00:00, 4146.52it/s]\n"
     ]
    },
    {
     "name": "stdout",
     "output_type": "stream",
     "text": [
      "Epoch = 14. Time index = mean. Threshold MC = 0.7. Threshold MD = 0.6\n",
      "RD = 1239 NZ = 2133 NZA = 2929 pNZ = 0.283% pNZA = 0.389% AD = 58.09% ADA = 42.30% NO = 591 GSP = 59.39% NSP = 53.81%\n",
      "SI2 = 1.60 SI = -11.21 eGROI = 23.80% eROI = 12.41% eROI2 = 11.98% eROI3 = 6.07% mSpread = 0.0193%\n",
      "\n",
      "Getting extended results...\n"
     ]
    },
    {
     "name": "stderr",
     "output_type": "stream",
     "text": [
      "100%|███████████████████████████████████████████████████████████████████████████████████████████████████████████████████████████████| 2928/2928 [00:00<00:00, 4152.41it/s]\n"
     ]
    },
    {
     "name": "stdout",
     "output_type": "stream",
     "text": [
      "Epoch = 14. Time index = mean. Threshold MC = 0.7. Threshold MD = 0.6\n",
      "RD = 1239 NZ = 2133 NZA = 2929 pNZ = 0.283% pNZA = 0.389% AD = 58.09% ADA = 42.30% NO = 591 GSP = 59.39% NSP = 53.81%\n",
      "SI2 = 1.60 SI = -11.21 eGROI = 23.80% eROI = 12.41% eROI2 = 11.98% eROI3 = 6.07% mSpread = 0.0193%\n",
      "\n",
      "Getting extended results...\n"
     ]
    },
    {
     "name": "stderr",
     "output_type": "stream",
     "text": [
      "100%|███████████████████████████████████████████████████████████████████████████████████████████████████████████████████████████████| 2928/2928 [00:00<00:00, 3593.34it/s]\n"
     ]
    },
    {
     "name": "stdout",
     "output_type": "stream",
     "text": [
      "Epoch = 14. Time index = mean. Threshold MC = 0.7. Threshold MD = 0.6\n",
      "RD = 1239 NZ = 2133 NZA = 2929 pNZ = 0.283% pNZA = 0.389% AD = 58.09% ADA = 42.30% NO = 591 GSP = 59.39% NSP = 53.81%\n",
      "SI2 = 1.60 SI = -11.21 eGROI = 23.80% eROI = 12.41% eROI2 = 11.98% eROI3 = 6.07% mSpread = 0.0193%\n",
      "\n",
      "Best eGROI = 67.85 t_index 1 thr_mc 0.5 thr_md 0.6 epoch 14 in 4083 GSP 55.99 ADA 33.53 AD 56.66\n",
      "Best eROI = 32.05 t_index 2 thr_mc 0.7 thr_md 0.6 epoch 14 in 680 GSP 57.94 ADA 41.81 AD 57.88\n",
      "Best eROI.5 = 51.61 t_index 2 thr_mc 0.6 thr_md 0.6 epoch 14 in 2090 GSP 57.85 ADA 37.69 AD 57.30\n",
      "Best eROI1 = 41.16 t_index 2 thr_mc 0.6 thr_md 0.6 epoch 14 in 2090 GSP 57.85 ADA 37.69 AD 57.30\n",
      "Best eROI1.5 = 35.21 t_index 2 thr_mc 0.7 thr_md 0.6 epoch 14 in 680 GSP 57.94 ADA 41.81 AD 57.88\n",
      "Best eROI2 = 31.81 t_index 2 thr_mc 0.7 thr_md 0.6 epoch 14 in 680 GSP 57.94 ADA 41.81 AD 57.88\n",
      "Best eROI3 = 25.01 t_index 2 thr_mc 0.7 thr_md 0.6 epoch 14 in 680 GSP 57.94 ADA 41.81 AD 57.88\n",
      "Best eROI4 = 18.21 t_index 2 thr_mc 0.7 thr_md 0.6 epoch 14 in 680 GSP 57.94 ADA 41.81 AD 57.88\n",
      "Best eROI5 = 11.41 t_index 2 thr_mc 0.7 thr_md 0.6 epoch 14 in 680 GSP 57.94 ADA 41.81 AD 57.88\n",
      "Best SI = 12.06 t_index 0 thr_mc 0.7 thr_md 0.6 epoch 14 in 598 GSP 59.36 ADA 43.36 AD 57.91\n",
      "Best SI.5 = 104.44 t_index 0 thr_mc 0.5 thr_md 0.6 epoch 14 in 3552 GSP 57.52 ADA 34.10 AD 57.76\n",
      "Best SI1 = 52.30 t_index 2 thr_mc 0.6 thr_md 0.6 epoch 14 in 2090 GSP 57.85 ADA 37.69 AD 57.30\n",
      "Best SI1.5 = 18.62 t_index 0 thr_mc 0.6 thr_md 0.6 epoch 14 in 1746 GSP 58.42 ADA 39.28 AD 59.16\n",
      "Best SI2 = 10.28 t_index 0 thr_mc 0.8 thr_md 0.6 epoch 14 in 124 GSP 64.52 ADA 44.23 AD 56.65\n",
      "Best SI3 = 8.28 t_index 0 thr_mc 0.8 thr_md 0.6 epoch 14 in 124 GSP 64.52 ADA 44.23 AD 56.65\n",
      "Best SI4 = 3.44 t_index 0 thr_mc 0.7 thr_md 0.7 epoch 14 in 52 GSP 63.46 ADA 56.99 AD 71.62\n",
      "Best SI5 = 2.44 t_index 0 thr_mc 0.7 thr_md 0.7 epoch 14 in 52 GSP 63.46 ADA 56.99 AD 71.62\n",
      "Best 99eGROI = 58.04 t_index 0 thr_mc 0.5 thr_md 0.6 epoch 14 in 3552 GSP 57.52 ADA 34.10 AD 57.76\n",
      "Best 99eROI = 15.42 t_index 2 thr_mc 0.7 thr_md 0.6 epoch 14 in 680 GSP 57.94 ADA 41.81 AD 57.88\n",
      "Best 99eROI.5 = 40.63 t_index 0 thr_mc 0.5 thr_md 0.6 epoch 14 in 3552 GSP 57.52 ADA 34.10 AD 57.76\n",
      "Best 99eROI1 = 25.04 t_index 2 thr_mc 0.6 thr_md 0.6 epoch 14 in 2090 GSP 57.85 ADA 37.69 AD 57.30\n",
      "Best 99eROI1.5 = 18.55 t_index 2 thr_mc 0.7 thr_md 0.6 epoch 14 in 680 GSP 57.94 ADA 41.81 AD 57.88\n",
      "Best 99eROI2 = 15.21 t_index 2 thr_mc 0.7 thr_md 0.6 epoch 14 in 680 GSP 57.94 ADA 41.81 AD 57.88\n",
      "Best 99eROI3 = 8.53 t_index 2 thr_mc 0.7 thr_md 0.6 epoch 14 in 680 GSP 57.94 ADA 41.81 AD 57.88\n",
      "Best 99eROI4 = 3.20 t_index 3 thr_mc 0.8 thr_md 0.7 epoch 14 in 128 GSP 57.03 ADA 46.21 AD 61.41\n",
      "Best 99eROI5 = 1.94 t_index 3 thr_mc 0.8 thr_md 0.7 epoch 14 in 128 GSP 57.03 ADA 46.21 AD 61.41\n",
      "\n",
      "The very best:\n",
      "Best eGROI = 67.85 t_index 1 thr_mc 0.5 thr_md 0.6 epoch 14 in 4083 GSP 55.99 ADA 33.53 AD 56.66\n",
      "Best eROI = 32.05 t_index 2 thr_mc 0.7 thr_md 0.6 epoch 14 in 680 GSP 57.94 ADA 41.81 AD 57.88\n",
      "Best eROI.5 = 51.61 t_index 2 thr_mc 0.6 thr_md 0.6 epoch 14 in 2090 GSP 57.85 ADA 37.69 AD 57.30\n",
      "Best eROI1 = 41.16 t_index 2 thr_mc 0.6 thr_md 0.6 epoch 14 in 2090 GSP 57.85 ADA 37.69 AD 57.30\n",
      "Best eROI1.5 = 35.21 t_index 2 thr_mc 0.7 thr_md 0.6 epoch 14 in 680 GSP 57.94 ADA 41.81 AD 57.88\n",
      "Best eROI2 = 31.81 t_index 2 thr_mc 0.7 thr_md 0.6 epoch 14 in 680 GSP 57.94 ADA 41.81 AD 57.88\n",
      "Best eROI3 = 25.01 t_index 2 thr_mc 0.7 thr_md 0.6 epoch 14 in 680 GSP 57.94 ADA 41.81 AD 57.88\n",
      "Best eROI4 = 18.21 t_index 2 thr_mc 0.7 thr_md 0.6 epoch 14 in 680 GSP 57.94 ADA 41.81 AD 57.88\n",
      "Best eROI5 = 11.41 t_index 2 thr_mc 0.7 thr_md 0.6 epoch 14 in 680 GSP 57.94 ADA 41.81 AD 57.88\n",
      "Best SI = 19.75 t_index 0 thr_mc 0.7 thr_md 0.6 epoch 12 in 525 GSP 61.52 ADA 43.92 AD 58.13\n",
      "Best SI.5 = 105.61 t_index 0 thr_mc 0.5 thr_md 0.6 epoch 10 in 2463 GSP 58.95 ADA 36.23 AD 60.19\n",
      "Best SI1 = 61.61 t_index 0 thr_mc 0.5 thr_md 0.6 epoch 10 in 2463 GSP 58.95 ADA 36.23 AD 60.19\n",
      "Best SI1.5 = 34.96 t_index 0 thr_mc 0.6 thr_md 0.6 epoch 10 in 1268 GSP 60.02 ADA 40.33 AD 60.19\n",
      "Best SI2 = 19.84 t_index 2 thr_mc 0.7 thr_md 0.6 epoch 5 in 172 GSP 69.77 ADA 54.57 AD 70.49\n",
      "Best SI3 = 11.84 t_index 2 thr_mc 0.7 thr_md 0.6 epoch 5 in 172 GSP 69.77 ADA 54.57 AD 70.49\n",
      "Best SI4 = 8.66 t_index 1 thr_mc 0.8 thr_md 0.6 epoch 6 in 78 GSP 69.23 ADA 61.54 AD 76.19\n",
      "Best SI5 = 7.66 t_index 1 thr_mc 0.8 thr_md 0.6 epoch 6 in 78 GSP 69.23 ADA 61.54 AD 76.19\n",
      "Best 99eGROI = 58.04 t_index 0 thr_mc 0.5 thr_md 0.6 epoch 14 in 3552 GSP 57.52 ADA 34.10 AD 57.76\n",
      "Best 99eROI = 15.42 t_index 2 thr_mc 0.7 thr_md 0.6 epoch 14 in 680 GSP 57.94 ADA 41.81 AD 57.88\n",
      "Best 99eROI.5 = 40.63 t_index 0 thr_mc 0.5 thr_md 0.6 epoch 14 in 3552 GSP 57.52 ADA 34.10 AD 57.76\n",
      "Best 99eROI1 = 25.04 t_index 2 thr_mc 0.6 thr_md 0.6 epoch 14 in 2090 GSP 57.85 ADA 37.69 AD 57.30\n",
      "Best 99eROI1.5 = 18.55 t_index 2 thr_mc 0.7 thr_md 0.6 epoch 14 in 680 GSP 57.94 ADA 41.81 AD 57.88\n",
      "Best 99eROI2 = 15.21 t_index 2 thr_mc 0.7 thr_md 0.6 epoch 14 in 680 GSP 57.94 ADA 41.81 AD 57.88\n",
      "Best 99eROI3 = 9.12 t_index 2 thr_mc 0.7 thr_md 0.6 epoch 5 in 172 GSP 69.77 ADA 54.57 AD 70.49\n",
      "Best 99eROI4 = 7.42 t_index 2 thr_mc 0.7 thr_md 0.6 epoch 5 in 172 GSP 69.77 ADA 54.57 AD 70.49\n",
      "Best 99eROI5 = 5.72 t_index 2 thr_mc 0.7 thr_md 0.6 epoch 5 in 172 GSP 69.77 ADA 54.57 AD 70.49\n",
      "Time=22.12 secs\n",
      "Total time for CV: 13.658594528834024 mins.\n",
      "\n",
      "k 4 of 5\n",
      "IDresults:\n",
      "RRNN01010k4K5AC\n",
      "WARNING! Config values have been overwritten with entries values\n",
      "Config file C:/Users/mgutierrez/root/Projects/SDC/py/RNN/config/CRNN01010k4K5.config exists. Loaded from disk\n",
      "RRNN01010k4K5AC\n",
      "Getting dataset edges...\n",
      "Tag = IOA_mW\n",
      "C:/Users/mgutierrez/root/Projects/SDC/py/RNN/IO/DTA_RRNN01010k4K5AC.p\n",
      "1. AUDCAD\n",
      "\ts 0 of 21. From 2016.01.04 00:00:08 to 2016.10.13 15:41:59\n",
      "\ts 1 of 21. From 2016.10.13 17:52:00 to 2016.12.23 23:59:59\n",
      "\ts 2 of 21. From 2016.12.26 06:00:00 to 2016.12.30 23:58:30\n",
      "\ts 3 of 21. From 2017.01.02 09:00:00 to 2017.01.26 23:59:59\n",
      "\ts 4 of 21. From 2017.01.30 00:05:00 to 2017.09.05 23:59:59\n",
      "\ts 5 of 21. From 2017.09.06 20:25:01 to 2017.11.10 09:38:15\n",
      "\ts 6 of 21. From 2017.11.10 10:05:52 to 2017.11.24 23:58:59\n",
      "\ts 7 of 21. From 2017.11.27 00:05:00 to 2017.12.08 23:58:59\n",
      "\ts 8 of 21. From 2017.12.11 00:05:00 to 2017.12.12 04:13:07\n",
      "\ts 9 of 21. From 2017.12.12 09:55:53 to 2017.12.22 23:58:59\n",
      "\ts 10 of 21. From 2017.12.26 03:00:00 to 2017.12.29 23:58:42\n",
      "\ts 11 of 21. From 2018.01.02 03:00:00 to 2018.01.10 21:25:25\n",
      "\ts 12 of 21. From 2018.01.11 14:39:34 to 2018.01.25 08:17:37\n",
      "\ts 13 of 21. From 2018.01.25 08:53:48 to 2018.03.08 23:58:59\n",
      "\ts 14 of 21. From 2018.03.09 00:05:00 to 2018.03.20 05:04:47\n",
      "\ts 15 of 21. From 2018.03.20 05:44:39 to 2018.04.12 09:26:13\n",
      "\ts 16 of 21. From 2018.04.12 10:00:43 to 2018.05.08 03:27:47\n",
      "\ts 17 of 21. From 2018.05.08 04:24:14 to 2018.07.13 23:59:56\n",
      "\ts 18 of 21. From 2018.07.30 00:05:00 to 2018.08.10 23:58:59\n",
      "\ts 19 of 21. From 2018.08.13 07:37:02 to 2018.08.23 12:52:32\n",
      "\ts 20 of 21. From 2018.08.23 13:14:34 to 2018.08.24 23:58:59\n",
      "\ts 21 of 21. From 2018.08.27 19:03:29 to 2018.11.09 23:59:57\n",
      "\tTime for AUDCAD:7.0s. Total time:8.0s\n",
      "2. EURAUD\n",
      "\ts 0 of 31. From 2016.01.04 00:02:59 to 2016.04.22 23:59:59\n",
      "\ts 1 of 31. From 2016.04.25 03:00:00 to 2016.06.09 11:59:59\n",
      "\ts 2 of 31. From 2016.06.09 12:22:30 to 2016.11.04 22:54:59\n",
      "\ts 3 of 31. From 2016.11.07 01:27:12 to 2016.11.07 23:59:59\n",
      "\ts 4 of 31. From 2016.11.09 13:29:47 to 2016.11.11 23:54:59\n",
      "\ts 5 of 31. From 2016.11.18 00:05:14 to 2016.12.23 23:54:59\n",
      "\ts 6 of 31. From 2016.12.26 09:00:00 to 2016.12.26 11:40:30\n",
      "\ts 6 of 31. Not enough entries. Skipped.\n",
      "\ts 7 of 31. From 2016.12.26 12:06:59 to 2016.12.26 15:17:59\n",
      "\ts 7 of 31. Not enough entries. Skipped.\n",
      "\ts 8 of 31. From 2016.12.26 16:25:30 to 2016.12.26 19:07:30\n",
      "\ts 8 of 31. Not enough entries. Skipped.\n",
      "\ts 9 of 31. From 2016.12.26 19:42:30 to 2016.12.29 23:59:59\n",
      "\ts 10 of 31. From 2017.01.02 00:02:30 to 2017.04.25 16:55:09\n",
      "\ts 11 of 31. From 2017.04.27 12:00:16 to 2017.07.20 00:03:59\n",
      "\ts 12 of 31. From 2017.07.20 00:25:00 to 2017.09.05 02:36:00\n",
      "\ts 13 of 31. From 2017.09.05 03:27:54 to 2017.09.05 03:41:21\n",
      "\ts 13 of 31. Not enough entries. Skipped.\n",
      "\ts 14 of 31. From 2017.09.05 05:23:12 to 2017.09.05 05:38:16\n",
      "\ts 14 of 31. Not enough entries. Skipped.\n",
      "\ts 15 of 31. From 2017.09.05 09:45:50 to 2017.11.10 09:38:15\n",
      "\ts 16 of 31. From 2017.11.10 10:05:51 to 2017.11.24 23:58:59\n",
      "\ts 17 of 31. From 2017.11.27 00:05:00 to 2017.12.08 23:58:59\n",
      "\ts 18 of 31. From 2017.12.11 00:05:00 to 2017.12.12 04:13:03\n",
      "\ts 19 of 31. From 2017.12.12 10:13:34 to 2017.12.22 23:58:59\n",
      "\ts 20 of 31. From 2017.12.26 03:00:00 to 2017.12.29 23:58:59\n",
      "\ts 21 of 31. From 2018.01.02 03:00:00 to 2018.01.10 21:30:14\n",
      "\ts 22 of 31. From 2018.01.11 14:39:29 to 2018.01.25 08:17:38\n",
      "\ts 23 of 31. From 2018.01.25 08:49:52 to 2018.03.08 07:51:45\n",
      "\ts 24 of 31. From 2018.03.09 00:05:00 to 2018.03.20 05:04:46\n",
      "\ts 25 of 31. From 2018.03.20 05:44:29 to 2018.04.12 09:26:15\n",
      "\ts 26 of 31. From 2018.04.12 09:59:08 to 2018.05.08 03:27:55\n",
      "\ts 27 of 31. From 2018.05.08 04:24:14 to 2018.07.13 23:59:57\n",
      "\ts 28 of 31. From 2018.07.30 00:05:00 to 2018.08.10 23:58:59\n",
      "\ts 29 of 31. From 2018.08.13 07:37:02 to 2018.08.23 12:52:28\n",
      "\ts 30 of 31. From 2018.08.23 13:14:34 to 2018.08.24 23:58:59\n",
      "\ts 31 of 31. From 2018.08.27 19:03:32 to 2018.11.09 23:59:07\n",
      "\tTime for EURAUD:11.0s. Total time:20.0s\n",
      "3. EURCAD\n",
      "\ts 0 of 23. From 2016.01.04 00:00:00 to 2016.01.11 00:17:59\n",
      "\ts 1 of 23. From 2016.01.11 01:00:00 to 2016.10.13 15:41:59\n",
      "\ts 2 of 23. From 2016.10.13 17:52:00 to 2016.12.23 23:59:59\n",
      "\ts 3 of 23. From 2016.12.26 06:00:00 to 2016.12.29 23:59:59\n",
      "\ts 4 of 23. From 2017.01.02 00:01:00 to 2017.08.24 23:44:59\n",
      "\ts 5 of 23. From 2017.08.28 00:05:02 to 2017.09.05 02:35:52\n",
      "\ts 6 of 23. From 2017.09.05 05:23:12 to 2017.09.05 05:38:16\n",
      "\ts 6 of 23. Not enough entries. Skipped.\n",
      "\ts 7 of 23. From 2017.09.05 09:45:51 to 2017.11.10 09:38:15\n",
      "\ts 8 of 23. From 2017.11.10 10:05:52 to 2017.11.24 23:58:59\n",
      "\ts 9 of 23. From 2017.11.27 00:05:00 to 2017.12.08 23:58:59\n",
      "\ts 10 of 23. From 2017.12.11 00:05:00 to 2017.12.12 04:13:04\n",
      "\ts 11 of 23. From 2017.12.12 10:13:34 to 2017.12.22 23:58:59\n",
      "\ts 12 of 23. From 2017.12.26 03:00:00 to 2017.12.29 23:58:59\n",
      "\ts 13 of 23. From 2018.01.02 03:00:00 to 2018.01.10 21:19:40\n",
      "\ts 14 of 23. From 2018.01.11 14:39:29 to 2018.01.25 08:17:38\n",
      "\ts 15 of 23. From 2018.01.25 09:10:26 to 2018.03.07 23:58:59\n",
      "\ts 16 of 23. From 2018.03.09 00:05:00 to 2018.03.20 05:04:47\n",
      "\ts 17 of 23. From 2018.03.20 05:44:30 to 2018.04.12 09:26:16\n",
      "\ts 18 of 23. From 2018.04.12 09:59:08 to 2018.05.08 03:27:46\n",
      "\ts 19 of 23. From 2018.05.08 04:24:14 to 2018.07.13 23:59:55\n",
      "\ts 20 of 23. From 2018.07.30 00:05:00 to 2018.08.10 23:58:59\n",
      "\ts 21 of 23. From 2018.08.13 07:37:02 to 2018.08.23 12:52:32\n",
      "\ts 22 of 23. From 2018.08.23 13:14:34 to 2018.08.24 23:58:59\n",
      "\ts 23 of 23. From 2018.08.27 19:03:29 to 2018.11.09 23:59:08\n",
      "\tTime for EURCAD:10.0s. Total time:30.0s\n",
      "4. EURCHF\n",
      "\ts 0 of 28. From 2016.01.04 00:00:00 to 2016.01.11 00:20:59\n",
      "\ts 1 of 28. From 2016.01.11 01:00:00 to 2016.08.15 00:08:59\n",
      "\ts 2 of 28. From 2016.08.15 00:29:00 to 2016.10.13 15:41:59\n",
      "\ts 3 of 28. From 2016.10.13 17:52:00 to 2016.12.23 23:59:59\n",
      "\ts 4 of 28. From 2016.12.26 06:00:00 to 2017.08.11 23:59:59\n",
      "\ts 5 of 28. From 2017.08.14 19:30:49 to 2017.08.14 23:58:59\n",
      "\ts 5 of 28. Not enough entries. Skipped.\n",
      "\ts 6 of 28. From 2017.08.15 02:21:35 to 2017.08.15 20:17:18\n",
      "\ts 7 of 28. From 2017.08.15 05:00:06 to 2017.08.15 12:51:32\n",
      "\ts 8 of 28. From 2017.08.15 20:17:22 to 2017.08.17 23:58:50\n",
      "\ts 9 of 28. From 2017.08.21 00:05:08 to 2017.08.25 19:54:33\n",
      "\ts 10 of 28. From 2017.08.28 00:05:02 to 2017.09.05 02:35:52\n",
      "\ts 11 of 28. From 2017.09.05 05:23:12 to 2017.09.05 05:38:16\n",
      "\ts 11 of 28. Not enough entries. Skipped.\n",
      "\ts 12 of 28. From 2017.09.05 09:45:51 to 2017.11.10 09:38:15\n",
      "\ts 13 of 28. From 2017.11.10 10:05:51 to 2017.11.24 23:58:59\n",
      "\ts 14 of 28. From 2017.11.27 00:05:00 to 2017.12.08 23:58:59\n",
      "\ts 15 of 28. From 2017.12.11 00:05:00 to 2017.12.12 04:12:53\n",
      "\ts 16 of 28. From 2017.12.12 10:13:34 to 2017.12.22 23:58:52\n",
      "\ts 17 of 28. From 2017.12.26 03:00:01 to 2017.12.29 23:58:59\n",
      "\ts 18 of 28. From 2018.01.02 03:00:00 to 2018.01.10 20:51:51\n",
      "\ts 19 of 28. From 2018.01.11 14:39:29 to 2018.01.25 08:17:38\n",
      "\ts 20 of 28. From 2018.01.25 09:10:27 to 2018.03.07 23:58:59\n",
      "\ts 21 of 28. From 2018.03.09 00:05:00 to 2018.03.20 05:04:42\n",
      "\ts 22 of 28. From 2018.03.20 05:44:29 to 2018.04.12 09:26:15\n",
      "\ts 23 of 28. From 2018.04.12 09:59:09 to 2018.05.08 03:27:51\n",
      "\ts 24 of 28. From 2018.05.08 04:24:15 to 2018.07.13 23:59:04\n",
      "\ts 25 of 28. From 2018.07.30 00:05:00 to 2018.08.10 23:58:59\n",
      "\ts 26 of 28. From 2018.08.13 07:37:02 to 2018.08.23 12:52:32\n",
      "\ts 27 of 28. From 2018.08.23 13:14:34 to 2018.08.24 23:58:59\n",
      "\ts 28 of 28. From 2018.08.27 19:03:32 to 2018.11.09 23:59:57\n",
      "\tTime for EURCHF:7.0s. Total time:38.0s\n",
      "7. EURGBP\n",
      "\ts 0 of 21. From 2017.01.02 00:00:30 to 2017.08.14 23:45:59\n",
      "\ts 1 of 21. From 2017.08.15 02:30:32 to 2017.08.17 23:58:59\n",
      "\ts 2 of 21. From 2017.08.21 00:05:08 to 2017.08.25 19:58:59\n",
      "\ts 3 of 21. From 2017.08.28 00:05:01 to 2017.09.05 02:36:00\n",
      "\ts 4 of 21. From 2017.09.05 05:23:12 to 2017.09.05 05:38:16\n",
      "\ts 4 of 21. Not enough entries. Skipped.\n",
      "\ts 5 of 21. From 2017.09.05 09:45:50 to 2017.11.10 09:38:15\n",
      "\ts 6 of 21. From 2017.11.10 10:05:52 to 2017.11.24 23:58:59\n",
      "\ts 7 of 21. From 2017.11.27 00:05:00 to 2017.12.08 23:58:59\n",
      "\ts 8 of 21. From 2017.12.11 00:05:00 to 2017.12.12 04:13:09\n",
      "\ts 9 of 21. From 2017.12.12 10:13:34 to 2017.12.22 23:58:50\n",
      "\ts 10 of 21. From 2017.12.26 03:00:01 to 2017.12.29 23:58:57\n",
      "\ts 11 of 21. From 2018.01.02 03:00:00 to 2018.01.10 21:29:03\n",
      "\ts 12 of 21. From 2018.01.11 14:39:29 to 2018.01.25 08:17:38\n",
      "\ts 13 of 21. From 2018.01.25 09:10:26 to 2018.03.07 23:58:59\n",
      "\ts 14 of 21. From 2018.03.09 00:05:00 to 2018.03.20 05:04:41\n",
      "\ts 15 of 21. From 2018.03.20 05:44:30 to 2018.04.12 09:26:16\n",
      "\ts 16 of 21. From 2018.04.12 09:59:08 to 2018.05.08 03:27:48\n",
      "\ts 17 of 21. From 2018.05.08 04:24:15 to 2018.07.13 23:59:06\n",
      "\ts 18 of 21. From 2018.07.30 00:05:00 to 2018.08.10 23:58:59\n",
      "\ts 19 of 21. From 2018.08.13 07:37:02 to 2018.08.23 12:52:32\n",
      "\ts 20 of 21. From 2018.08.23 13:14:34 to 2018.08.24 23:58:59\n",
      "\ts 21 of 21. From 2018.08.27 19:03:32 to 2018.11.09 23:59:06\n",
      "\tTime for EURGBP:6.0s. Total time:45.0s\n",
      "8. EURNZD\n",
      "\ts 0 of 29. From 2016.01.04 00:00:00 to 2016.10.13 15:41:59\n",
      "\ts 1 of 29. From 2016.10.13 17:52:00 to 2016.12.23 23:59:59\n",
      "\ts 2 of 29. From 2016.12.26 06:00:00 to 2016.12.30 23:58:02\n",
      "\ts 3 of 29. From 2017.03.08 00:01:00 to 2017.03.17 22:54:59\n",
      "\ts 4 of 29. From 2017.03.20 01:08:01 to 2017.03.24 22:59:59\n",
      "\ts 5 of 29. From 2017.03.27 01:18:09 to 2017.03.27 23:59:59\n",
      "\ts 6 of 29. From 2017.03.28 02:31:26 to 2017.03.28 23:59:59\n",
      "\ts 7 of 29. From 2017.03.29 02:09:06 to 2017.03.30 23:59:59\n",
      "\ts 8 of 29. From 2017.03.31 02:39:18 to 2017.03.31 23:59:59\n",
      "\ts 9 of 29. From 2017.04.03 02:27:33 to 2017.04.03 23:59:59\n",
      "\ts 10 of 29. From 2017.04.04 02:32:37 to 2017.07.14 00:04:30\n",
      "\ts 11 of 29. From 2017.07.14 00:27:00 to 2017.09.05 02:36:00\n",
      "\ts 12 of 29. From 2017.09.05 05:23:12 to 2017.09.05 05:38:16\n",
      "\ts 12 of 29. Not enough entries. Skipped.\n",
      "\ts 13 of 29. From 2017.09.05 09:45:50 to 2017.11.10 09:38:15\n",
      "\ts 14 of 29. From 2017.11.10 10:05:51 to 2017.11.24 23:58:57\n",
      "\ts 15 of 29. From 2017.11.27 00:05:00 to 2017.12.08 23:58:59\n",
      "\ts 16 of 29. From 2017.12.11 00:05:00 to 2017.12.12 04:13:10\n",
      "\ts 17 of 29. From 2017.12.12 10:13:34 to 2017.12.22 23:58:59\n",
      "\ts 18 of 29. From 2017.12.26 03:00:01 to 2017.12.29 23:58:59\n",
      "\ts 19 of 29. From 2018.01.02 03:00:00 to 2018.01.10 21:13:01\n",
      "\ts 20 of 29. From 2018.01.11 14:39:29 to 2018.01.25 08:17:38\n",
      "\ts 21 of 29. From 2018.01.25 09:10:27 to 2018.03.07 23:58:59\n",
      "\ts 22 of 29. From 2018.03.09 00:05:00 to 2018.03.20 05:04:48\n",
      "\ts 23 of 29. From 2018.03.20 05:44:28 to 2018.04.12 09:26:15\n",
      "\ts 24 of 29. From 2018.04.12 09:59:09 to 2018.05.08 03:27:49\n",
      "\ts 25 of 29. From 2018.05.08 04:24:15 to 2018.07.13 23:59:10\n",
      "\ts 26 of 29. From 2018.07.30 00:05:00 to 2018.08.10 23:58:59\n",
      "\ts 27 of 29. From 2018.08.13 07:37:02 to 2018.08.23 12:52:28\n",
      "\ts 28 of 29. From 2018.08.23 13:14:34 to 2018.08.24 23:58:51\n",
      "\ts 29 of 29. From 2018.08.27 19:03:32 to 2018.11.09 23:59:06\n",
      "\tTime for EURNZD:10.0s. Total time:55.0s\n",
      "10. EURUSD\n",
      "\ts 0 of 27. From 2016.01.04 00:03:00 to 2016.04.22 23:59:59\n",
      "\ts 1 of 27. From 2016.04.25 03:00:00 to 2016.06.09 11:59:59\n",
      "\ts 2 of 27. From 2016.06.09 12:22:00 to 2016.12.23 23:54:59\n",
      "\ts 3 of 27. From 2016.12.26 09:00:59 to 2017.01.11 18:42:20\n",
      "\ts 4 of 27. From 2017.01.12 00:00:00 to 2017.01.26 23:59:59\n",
      "\ts 5 of 27. From 2017.03.01 00:00:00 to 2017.08.11 23:59:59\n",
      "\ts 6 of 27. From 2017.08.14 12:28:53 to 2017.08.14 23:58:59\n",
      "\ts 7 of 27. From 2017.08.15 14:07:41 to 2017.08.25 20:06:23\n",
      "\ts 8 of 27. From 2017.08.28 00:05:02 to 2017.09.05 02:36:01\n",
      "\ts 9 of 27. From 2017.09.05 05:23:12 to 2017.09.05 05:38:16\n",
      "\ts 9 of 27. Not enough entries. Skipped.\n",
      "\ts 10 of 27. From 2017.09.05 09:45:50 to 2017.10.23 01:59:34\n",
      "\ts 11 of 27. From 2017.10.23 02:33:26 to 2017.11.10 09:38:15\n",
      "\ts 12 of 27. From 2017.11.10 10:05:52 to 2017.11.24 23:58:33\n",
      "\ts 13 of 27. From 2017.11.27 00:05:00 to 2017.12.08 23:58:59\n",
      "\ts 14 of 27. From 2017.12.11 00:05:00 to 2017.12.12 04:13:10\n",
      "\ts 15 of 27. From 2017.12.12 10:13:34 to 2017.12.22 23:58:58\n",
      "\ts 16 of 27. From 2017.12.26 03:00:00 to 2017.12.29 23:58:57\n",
      "\ts 17 of 27. From 2018.01.02 03:00:00 to 2018.01.10 21:08:57\n",
      "\ts 18 of 27. From 2018.01.11 14:39:29 to 2018.01.25 08:17:37\n",
      "\ts 19 of 27. From 2018.01.25 08:49:52 to 2018.03.08 23:58:59\n",
      "\ts 20 of 27. From 2018.03.09 00:05:00 to 2018.03.20 05:04:41\n",
      "\ts 21 of 27. From 2018.03.20 05:44:29 to 2018.04.12 09:26:15\n",
      "\ts 22 of 27. From 2018.04.12 09:59:08 to 2018.05.08 03:27:51\n",
      "\ts 23 of 27. From 2018.05.08 04:24:15 to 2018.07.13 23:59:56\n",
      "\ts 24 of 27. From 2018.07.30 00:05:00 to 2018.08.10 23:58:59\n",
      "\ts 25 of 27. From 2018.08.13 07:37:02 to 2018.08.23 12:52:32\n",
      "\ts 26 of 27. From 2018.08.23 13:14:34 to 2018.08.24 23:58:59\n",
      "\ts 27 of 27. From 2018.08.27 19:03:31 to 2018.11.09 23:59:07\n",
      "\tTime for EURUSD:7.0s. Total time:62.0s\n",
      "11. GBPAUD\n",
      "\ts 0 of 21. From 2016.01.04 00:00:30 to 2016.10.13 15:41:59\n",
      "\ts 1 of 21. From 2016.10.13 17:52:00 to 2016.12.23 23:59:59\n",
      "\ts 2 of 21. From 2016.12.26 06:00:00 to 2017.06.08 23:59:59\n",
      "\ts 3 of 21. From 2017.06.12 00:05:00 to 2017.07.20 00:03:59\n",
      "\ts 4 of 21. From 2017.07.20 00:24:30 to 2017.09.05 23:44:35\n",
      "\ts 5 of 21. From 2017.09.05 10:03:57 to 2017.11.10 09:38:15\n",
      "\ts 6 of 21. From 2017.11.10 10:05:54 to 2017.11.24 23:58:59\n",
      "\ts 7 of 21. From 2017.11.27 00:05:00 to 2017.12.08 23:58:59\n",
      "\ts 8 of 21. From 2017.12.11 00:05:00 to 2017.12.12 04:12:53\n",
      "\ts 9 of 21. From 2017.12.12 10:13:38 to 2017.12.22 23:58:59\n",
      "\ts 10 of 21. From 2017.12.26 03:00:00 to 2017.12.29 23:58:59\n",
      "\ts 11 of 21. From 2018.01.02 03:00:00 to 2018.01.10 21:09:22\n",
      "\ts 12 of 21. From 2018.01.11 14:39:29 to 2018.01.25 08:17:38\n",
      "\ts 13 of 21. From 2018.01.25 09:10:26 to 2018.03.08 23:58:59\n",
      "\ts 14 of 21. From 2018.03.09 00:05:00 to 2018.03.20 05:04:47\n",
      "\ts 15 of 21. From 2018.03.20 05:44:32 to 2018.04.12 09:26:16\n",
      "\ts 16 of 21. From 2018.04.12 09:59:08 to 2018.05.08 03:27:53\n",
      "\ts 17 of 21. From 2018.05.08 04:24:12 to 2018.07.13 23:59:11\n",
      "\ts 18 of 21. From 2018.07.30 00:05:00 to 2018.08.10 23:58:59\n",
      "\ts 19 of 21. From 2018.08.13 07:37:02 to 2018.08.23 12:52:32\n",
      "\ts 20 of 21. From 2018.08.23 13:14:34 to 2018.08.24 23:58:59\n",
      "\ts 21 of 21. From 2018.08.27 19:03:29 to 2018.11.09 23:59:57\n",
      "\tTime for GBPAUD:9.0s. Total time:71.0s\n",
      "12. GBPCAD\n",
      "\ts 0 of 23. From 2016.01.04 00:00:00 to 2016.10.13 15:41:59\n",
      "\ts 1 of 23. From 2016.10.13 17:52:00 to 2016.12.23 23:59:59\n",
      "\ts 2 of 23. From 2016.12.26 06:00:00 to 2016.12.29 23:59:59\n",
      "\ts 3 of 23. From 2017.01.02 00:01:00 to 2017.06.08 23:59:59\n",
      "\ts 4 of 23. From 2017.06.12 00:03:00 to 2017.09.04 23:45:30\n",
      "\ts 5 of 23. From 2017.09.05 10:04:17 to 2017.11.10 09:38:15\n",
      "\ts 6 of 23. From 2017.11.10 10:05:53 to 2017.11.24 23:58:59\n",
      "\ts 7 of 23. From 2017.11.27 00:05:00 to 2017.12.08 23:58:58\n",
      "\ts 8 of 23. From 2017.12.11 00:05:00 to 2017.12.12 04:13:10\n",
      "\ts 9 of 23. From 2017.12.12 10:13:38 to 2017.12.22 23:58:59\n",
      "\ts 10 of 23. From 2017.12.26 03:00:00 to 2017.12.29 23:58:55\n",
      "\ts 11 of 23. From 2018.01.02 03:00:00 to 2018.01.10 21:17:35\n",
      "\ts 12 of 23. From 2018.01.11 14:39:29 to 2018.01.25 08:17:37\n",
      "\ts 13 of 23. From 2018.01.25 09:10:27 to 2018.03.08 23:58:59\n",
      "\ts 14 of 23. From 2018.03.09 00:05:00 to 2018.03.20 05:04:47\n",
      "\ts 15 of 23. From 2018.03.20 05:44:33 to 2018.04.12 09:26:16\n",
      "\ts 16 of 23. From 2018.04.12 09:59:08 to 2018.05.08 03:27:47\n",
      "\ts 17 of 23. From 2018.05.08 04:24:14 to 2018.06.22 15:30:01\n",
      "\ts 18 of 23. From 2018.06.22 16:46:00 to 2018.07.13 23:59:10\n",
      "\ts 19 of 23. From 2018.07.30 00:05:00 to 2018.08.10 23:58:59\n",
      "\ts 20 of 23. From 2018.08.13 07:37:02 to 2018.08.23 12:52:32\n",
      "\ts 21 of 23. From 2018.08.23 13:14:34 to 2018.08.24 23:58:59\n",
      "\ts 22 of 23. From 2018.08.27 19:03:29 to 2018.10.19 15:30:00\n",
      "\ts 23 of 23. From 2018.10.19 18:09:29 to 2018.11.09 23:59:08\n",
      "\tTime for GBPCAD:9.0s. Total time:80.0s\n",
      "13. GBPCHF\n",
      "\ts 0 of 21. From 2016.01.04 00:00:30 to 2016.10.13 15:41:59\n",
      "\ts 1 of 21. From 2016.10.13 17:52:00 to 2016.12.23 23:58:59\n",
      "\ts 2 of 21. From 2016.12.26 06:00:00 to 2017.07.17 18:51:04\n",
      "\ts 3 of 21. From 2017.07.18 08:25:27 to 2017.07.18 23:45:30\n",
      "\ts 4 of 21. From 2017.07.19 02:07:47 to 2017.09.04 23:45:59\n",
      "\ts 5 of 21. From 2017.09.05 10:04:57 to 2017.11.10 09:38:15\n",
      "\ts 6 of 21. From 2017.11.10 10:05:53 to 2017.11.24 23:58:59\n",
      "\ts 7 of 21. From 2017.11.27 00:05:00 to 2017.12.08 23:58:59\n",
      "\ts 8 of 21. From 2017.12.11 00:05:00 to 2017.12.12 04:13:02\n",
      "\ts 9 of 21. From 2017.12.12 10:13:40 to 2017.12.22 23:58:59\n",
      "\ts 10 of 21. From 2017.12.26 03:00:01 to 2017.12.29 23:58:59\n",
      "\ts 11 of 21. From 2018.01.02 03:00:00 to 2018.01.10 21:16:30\n",
      "\ts 12 of 21. From 2018.01.11 14:39:29 to 2018.01.25 08:17:38\n",
      "\ts 13 of 21. From 2018.01.25 08:51:08 to 2018.03.08 23:58:59\n",
      "\ts 14 of 21. From 2018.03.09 00:05:00 to 2018.03.20 05:04:44\n",
      "\ts 15 of 21. From 2018.03.20 05:44:29 to 2018.04.12 09:26:16\n",
      "\ts 16 of 21. From 2018.04.12 09:59:10 to 2018.05.08 03:27:54\n",
      "\ts 17 of 21. From 2018.05.08 04:24:15 to 2018.07.13 23:58:58\n",
      "\ts 18 of 21. From 2018.07.30 00:05:00 to 2018.08.10 23:58:59\n",
      "\ts 19 of 21. From 2018.08.13 07:37:02 to 2018.08.23 12:52:32\n",
      "\ts 20 of 21. From 2018.08.23 13:14:34 to 2018.08.24 23:58:59\n",
      "\ts 21 of 21. From 2018.08.27 19:03:29 to 2018.11.09 23:58:59\n",
      "\tTime for GBPCHF:7.0s. Total time:88.0s\n",
      "14. GBPUSD\n",
      "\ts 0 of 26. From 2016.01.04 00:00:30 to 2016.10.13 15:41:59\n",
      "\ts 1 of 26. From 2016.10.13 17:52:00 to 2016.12.23 23:59:59\n",
      "\ts 2 of 26. From 2016.12.26 06:00:00 to 2016.12.29 23:59:59\n",
      "\ts 3 of 26. From 2017.01.02 00:01:30 to 2017.04.10 02:14:15\n",
      "\ts 4 of 26. From 2017.07.10 00:03:00 to 2017.08.11 23:59:59\n",
      "\ts 5 of 26. From 2017.08.14 19:30:24 to 2017.08.14 23:58:59\n",
      "\ts 5 of 26. Not enough entries. Skipped.\n",
      "\ts 6 of 26. From 2017.08.15 04:16:31 to 2017.08.17 23:58:59\n",
      "\ts 7 of 26. From 2017.08.23 00:05:18 to 2017.08.25 20:08:31\n",
      "\ts 8 of 26. From 2017.08.28 00:05:02 to 2017.09.05 02:36:00\n",
      "\ts 9 of 26. From 2017.09.05 05:23:12 to 2017.09.05 05:38:16\n",
      "\ts 9 of 26. Not enough entries. Skipped.\n",
      "\ts 10 of 26. From 2017.09.05 09:45:50 to 2017.11.10 09:38:15\n",
      "\ts 11 of 26. From 2017.11.10 10:05:51 to 2017.11.24 23:58:59\n",
      "\ts 12 of 26. From 2017.11.27 00:05:00 to 2017.12.08 23:58:59\n",
      "\ts 13 of 26. From 2017.12.11 00:05:00 to 2017.12.12 04:13:07\n",
      "\ts 14 of 26. From 2017.12.12 10:13:34 to 2017.12.22 23:58:59\n",
      "\ts 15 of 26. From 2017.12.26 03:00:01 to 2017.12.29 23:58:59\n",
      "\ts 16 of 26. From 2018.01.02 03:00:00 to 2018.01.10 21:13:19\n",
      "\ts 17 of 26. From 2018.01.11 14:39:29 to 2018.01.25 08:17:38\n",
      "\ts 18 of 26. From 2018.01.25 08:53:48 to 2018.03.08 23:58:58\n",
      "\ts 19 of 26. From 2018.03.09 00:05:00 to 2018.03.20 05:04:43\n",
      "\ts 20 of 26. From 2018.03.20 05:44:30 to 2018.04.12 09:26:16\n",
      "\ts 21 of 26. From 2018.04.12 09:59:08 to 2018.05.08 03:27:55\n",
      "\ts 22 of 26. From 2018.05.08 04:24:12 to 2018.07.13 23:59:57\n",
      "\ts 23 of 26. From 2018.07.30 00:05:00 to 2018.08.10 23:58:59\n",
      "\ts 24 of 26. From 2018.08.13 07:37:02 to 2018.08.23 12:52:32\n",
      "\ts 25 of 26. From 2018.08.23 13:14:34 to 2018.08.24 23:58:59\n",
      "\ts 26 of 26. From 2018.08.27 19:03:29 to 2018.11.09 23:59:57\n",
      "\tTime for GBPUSD:7.0s. Total time:95.0s\n",
      "15. GOLD\n",
      "\ts 0 of 20. From 2017.09.13 19:06:47 to 2017.11.03 22:58:52\n",
      "\ts 1 of 20. From 2017.11.06 01:01:00 to 2017.11.10 09:38:15\n",
      "\ts 2 of 20. From 2017.11.10 10:05:54 to 2017.11.23 19:45:52\n",
      "\ts 3 of 20. From 2017.11.24 01:00:03 to 2017.11.24 19:29:59\n",
      "\ts 4 of 20. From 2017.11.27 01:01:00 to 2017.12.08 23:58:57\n",
      "\ts 5 of 20. From 2017.12.11 01:00:59 to 2017.12.12 04:13:05\n",
      "\ts 6 of 20. From 2017.12.12 09:49:50 to 2017.12.22 23:58:58\n",
      "\ts 7 of 20. From 2017.12.26 03:00:00 to 2017.12.29 23:58:49\n",
      "\ts 8 of 20. From 2018.01.02 03:00:00 to 2018.01.10 21:10:22\n",
      "\ts 9 of 20. From 2018.01.11 14:39:29 to 2018.01.15 19:59:58\n",
      "\ts 10 of 20. From 2018.01.16 01:00:02 to 2018.01.25 08:17:38\n",
      "\ts 11 of 20. From 2018.01.25 09:10:27 to 2018.02.19 19:59:59\n",
      "\ts 12 of 20. From 2018.02.20 01:00:04 to 2018.03.08 23:58:52\n",
      "\ts 13 of 20. From 2018.03.09 01:00:00 to 2018.03.16 22:58:57\n",
      "\ts 14 of 20. From 2018.03.19 01:00:00 to 2018.03.20 05:04:41\n",
      "\ts 15 of 20. From 2018.03.20 05:44:33 to 2018.03.23 22:58:57\n",
      "\ts 16 of 20. From 2018.03.26 01:00:59 to 2018.03.29 23:58:56\n",
      "\ts 17 of 20. From 2018.04.02 01:01:00 to 2018.04.12 09:26:16\n",
      "\ts 18 of 20. From 2018.04.12 09:59:09 to 2018.05.08 03:27:53\n",
      "\ts 19 of 20. From 2018.05.08 04:24:13 to 2018.05.28 19:59:59\n",
      "\ts 20 of 20. From 2018.05.29 01:00:00 to 2018.05.31 23:58:37\n",
      "\tTime for GOLD:1.0s. Total time:97.0s\n",
      "16. USDCAD\n",
      "\ts 0 of 19. From 2016.01.04 00:00:00 to 2016.10.13 15:41:59\n",
      "\ts 1 of 19. From 2016.10.13 17:52:00 to 2016.12.23 23:59:59\n",
      "\ts 2 of 19. From 2016.12.26 06:00:00 to 2017.09.04 23:45:30\n",
      "\ts 3 of 19. From 2017.09.05 10:05:21 to 2017.11.10 09:38:14\n",
      "\ts 4 of 19. From 2017.11.10 10:05:53 to 2017.11.24 23:58:59\n",
      "\ts 5 of 19. From 2017.11.27 00:05:00 to 2017.12.08 23:58:58\n",
      "\ts 6 of 19. From 2017.12.11 00:05:00 to 2017.12.12 04:13:01\n",
      "\ts 7 of 19. From 2017.12.12 10:13:39 to 2017.12.22 23:58:59\n",
      "\ts 8 of 19. From 2017.12.26 03:00:00 to 2017.12.29 23:58:59\n",
      "\ts 9 of 19. From 2018.01.02 03:00:00 to 2018.01.10 21:19:38\n",
      "\ts 10 of 19. From 2018.01.11 14:39:38 to 2018.01.25 08:17:38\n",
      "\ts 11 of 19. From 2018.01.25 09:10:26 to 2018.03.08 23:58:59\n",
      "\ts 12 of 19. From 2018.03.09 00:05:00 to 2018.03.20 05:04:47\n",
      "\ts 13 of 19. From 2018.03.20 05:44:34 to 2018.04.12 09:26:07\n",
      "\ts 14 of 19. From 2018.04.12 09:59:08 to 2018.05.08 03:27:47\n",
      "\ts 15 of 19. From 2018.05.08 04:24:14 to 2018.07.13 23:59:56\n",
      "\ts 16 of 19. From 2018.07.30 00:05:00 to 2018.08.10 23:58:59\n",
      "\ts 17 of 19. From 2018.08.13 07:37:02 to 2018.08.23 12:52:32\n",
      "\ts 18 of 19. From 2018.08.23 13:14:34 to 2018.08.24 23:58:59\n",
      "\ts 19 of 19. From 2018.08.27 19:03:29 to 2018.11.09 23:59:57\n",
      "\tTime for USDCAD:6.0s. Total time:103.0s\n",
      "17. USDCHF\n",
      "\ts 0 of 25. From 2016.01.04 00:00:59 to 2016.01.11 00:30:59\n",
      "\ts 1 of 25. From 2016.01.11 01:00:00 to 2016.10.13 15:41:59\n",
      "\ts 2 of 25. From 2016.10.13 17:52:00 to 2016.12.23 23:59:59\n",
      "\ts 3 of 25. From 2016.12.26 06:00:00 to 2016.12.30 23:58:08\n",
      "\ts 4 of 25. From 2017.01.02 09:00:00 to 2017.08.11 23:54:59\n",
      "\ts 5 of 25. From 2017.08.14 19:30:37 to 2017.08.14 23:58:59\n",
      "\ts 5 of 25. Not enough entries. Skipped.\n",
      "\ts 6 of 25. From 2017.08.15 15:13:26 to 2017.08.17 23:58:48\n",
      "\ts 7 of 25. From 2017.08.21 00:05:07 to 2017.08.25 19:45:45\n",
      "\ts 8 of 25. From 2017.08.28 00:05:01 to 2017.09.05 02:35:52\n",
      "\ts 9 of 25. From 2017.09.05 05:23:12 to 2017.09.05 05:38:16\n",
      "\ts 9 of 25. Not enough entries. Skipped.\n",
      "\ts 10 of 25. From 2017.09.05 09:45:55 to 2017.11.10 09:38:15\n",
      "\ts 11 of 25. From 2017.11.10 10:05:52 to 2017.11.24 23:58:59\n",
      "\ts 12 of 25. From 2017.11.27 00:05:00 to 2017.12.08 23:58:59\n",
      "\ts 13 of 25. From 2017.12.11 00:05:00 to 2017.12.22 23:58:59\n",
      "\ts 14 of 25. From 2017.12.26 03:00:00 to 2017.12.29 23:58:59\n",
      "\ts 15 of 25. From 2018.01.02 03:00:00 to 2018.01.10 21:17:59\n",
      "\ts 16 of 25. From 2018.01.11 14:39:29 to 2018.01.25 08:17:38\n",
      "\ts 17 of 25. From 2018.01.25 09:08:40 to 2018.03.08 23:58:59\n",
      "\ts 18 of 25. From 2018.03.09 00:05:00 to 2018.03.20 05:04:49\n",
      "\ts 19 of 25. From 2018.03.20 05:44:30 to 2018.04.12 09:26:15\n",
      "\ts 20 of 25. From 2018.04.12 09:59:08 to 2018.05.08 03:27:52\n",
      "\ts 21 of 25. From 2018.05.08 04:24:15 to 2018.07.13 23:59:00\n",
      "\ts 22 of 25. From 2018.07.30 00:05:00 to 2018.08.10 23:58:59\n",
      "\ts 23 of 25. From 2018.08.13 07:37:02 to 2018.08.23 12:52:32\n",
      "\ts 24 of 25. From 2018.08.23 13:14:34 to 2018.08.24 23:58:59\n",
      "\ts 25 of 25. From 2018.08.27 19:03:29 to 2018.11.09 23:59:01\n",
      "\tTime for USDCHF:5.0s. Total time:109.0s\n",
      "19. USDJPY\n",
      "\ts 0 of 27. From 2016.01.05 00:02:00 to 2016.01.19 16:54:08\n",
      "\ts 1 of 27. From 2016.01.20 00:00:00 to 2016.10.13 15:41:59\n",
      "\ts 2 of 27. From 2016.10.13 17:52:00 to 2016.12.23 23:59:59\n",
      "\ts 3 of 27. From 2016.12.26 06:00:00 to 2016.12.29 23:59:59\n",
      "\ts 4 of 27. From 2017.01.02 00:01:59 to 2017.07.14 00:05:30\n",
      "\ts 5 of 27. From 2017.07.14 00:27:00 to 2017.08.11 23:59:59\n",
      "\ts 6 of 27. From 2017.08.14 19:30:40 to 2017.08.14 23:58:59\n",
      "\ts 7 of 27. From 2017.08.15 03:32:14 to 2017.08.17 23:58:59\n",
      "\ts 8 of 27. From 2017.08.21 00:05:07 to 2017.08.25 19:55:41\n",
      "\ts 9 of 27. From 2017.08.28 00:05:01 to 2017.09.05 02:36:00\n",
      "\ts 10 of 27. From 2017.09.05 05:23:12 to 2017.09.05 05:38:16\n",
      "\ts 10 of 27. Not enough entries. Skipped.\n",
      "\ts 11 of 27. From 2017.09.05 09:45:51 to 2017.11.10 09:38:15\n",
      "\ts 12 of 27. From 2017.11.10 10:05:51 to 2017.11.24 23:58:45\n",
      "\ts 13 of 27. From 2017.11.27 00:05:00 to 2017.12.08 23:58:59\n",
      "\ts 14 of 27. From 2017.12.11 00:05:00 to 2017.12.12 04:13:06\n",
      "\ts 15 of 27. From 2017.12.12 10:13:34 to 2017.12.22 23:58:59\n",
      "\ts 16 of 27. From 2017.12.26 03:00:00 to 2017.12.29 23:58:59\n",
      "\ts 17 of 27. From 2018.01.02 03:00:00 to 2018.01.10 21:27:56\n",
      "\ts 18 of 27. From 2018.01.11 14:39:29 to 2018.01.25 08:17:36\n",
      "\ts 19 of 27. From 2018.01.25 09:10:27 to 2018.03.08 23:58:52\n",
      "\ts 20 of 27. From 2018.03.09 00:05:00 to 2018.03.20 05:04:47\n",
      "\ts 21 of 27. From 2018.03.20 05:44:29 to 2018.04.12 09:26:16\n",
      "\ts 22 of 27. From 2018.04.12 10:00:38 to 2018.05.08 03:27:53\n",
      "\ts 23 of 27. From 2018.05.08 04:24:16 to 2018.07.13 23:59:02\n",
      "\ts 24 of 27. From 2018.07.30 00:05:00 to 2018.08.10 23:58:59\n",
      "\ts 25 of 27. From 2018.08.13 07:37:02 to 2018.08.23 12:52:32\n",
      "\ts 26 of 27. From 2018.08.23 13:14:34 to 2018.08.24 23:58:59\n",
      "\ts 27 of 27. From 2018.08.27 19:03:31 to 2018.11.09 23:59:06\n",
      "\tTime for USDJPY:10.0s. Total time:119.0s\n",
      "27. CADJPY\n",
      "\ts 0 of 22. From 2016.01.04 00:00:00 to 2016.01.15 23:59:59\n",
      "\ts 1 of 22. From 2016.01.19 00:00:00 to 2016.10.13 15:41:59\n",
      "\ts 2 of 22. From 2016.10.13 17:52:00 to 2016.12.23 23:59:59\n",
      "\ts 3 of 22. From 2016.12.26 06:00:00 to 2017.09.11 23:01:59\n",
      "\ts 4 of 22. From 2017.09.11 23:28:00 to 2017.09.18 23:59:59\n",
      "\ts 5 of 22. From 2017.09.19 23:45:43 to 2017.10.23 01:18:29\n",
      "\ts 6 of 22. From 2017.10.23 02:02:38 to 2017.11.10 09:38:15\n",
      "\ts 7 of 22. From 2017.11.10 10:05:52 to 2017.11.24 23:58:59\n",
      "\ts 8 of 22. From 2017.11.27 00:05:00 to 2017.12.08 23:58:59\n",
      "\ts 9 of 22. From 2017.12.11 00:05:00 to 2017.12.12 04:13:05\n",
      "\ts 10 of 22. From 2017.12.12 10:13:38 to 2017.12.22 23:58:59\n",
      "\ts 11 of 22. From 2017.12.26 03:00:00 to 2017.12.29 23:58:59\n",
      "\ts 12 of 22. From 2018.01.02 03:00:00 to 2018.01.10 21:17:53\n",
      "\ts 13 of 22. From 2018.01.11 14:39:29 to 2018.01.25 08:17:37\n",
      "\ts 14 of 22. From 2018.01.25 09:10:28 to 2018.03.08 23:58:59\n",
      "\ts 15 of 22. From 2018.03.09 00:05:00 to 2018.03.20 05:04:48\n",
      "\ts 16 of 22. From 2018.03.20 05:44:32 to 2018.04.12 09:26:16\n",
      "\ts 17 of 22. From 2018.04.12 10:00:39 to 2018.05.08 03:27:53\n",
      "\ts 18 of 22. From 2018.05.08 04:24:16 to 2018.05.31 23:58:58\n",
      "\ts 19 of 22. From 2018.07.30 00:05:00 to 2018.08.10 23:58:59\n",
      "\ts 20 of 22. From 2018.08.13 07:37:02 to 2018.08.23 12:52:28\n",
      "\ts 21 of 22. From 2018.08.23 13:14:34 to 2018.08.24 23:58:59\n",
      "\ts 22 of 22. From 2018.08.27 19:03:31 to 2018.11.09 23:59:08\n",
      "\tTime for CADJPY:11.0s. Total time:131.0s\n",
      "28. EURJPY\n",
      "\ts 0 of 24. From 2016.01.04 00:00:00 to 2016.01.11 00:29:59\n",
      "\ts 1 of 24. From 2016.01.11 01:00:00 to 2016.10.13 15:41:59\n",
      "\ts 2 of 24. From 2016.10.13 17:52:00 to 2016.12.23 23:59:59\n",
      "\ts 3 of 24. From 2016.12.26 06:00:00 to 2017.07.10 00:04:59\n",
      "\ts 4 of 24. From 2017.07.10 00:30:00 to 2017.07.14 00:04:59\n",
      "\ts 5 of 24. From 2017.07.14 00:27:00 to 2017.09.11 23:01:59\n",
      "\ts 6 of 24. From 2017.09.11 23:23:00 to 2017.09.11 23:23:59\n",
      "\ts 6 of 24. Not enough entries. Skipped.\n",
      "\ts 7 of 24. From 2017.09.11 23:47:00 to 2017.09.19 23:59:59\n",
      "\ts 8 of 24. From 2017.09.21 08:10:57 to 2017.11.10 09:38:15\n",
      "\ts 9 of 24. From 2017.11.10 10:05:53 to 2017.11.24 23:58:59\n",
      "\ts 10 of 24. From 2017.11.27 00:05:00 to 2017.12.08 23:58:59\n",
      "\ts 11 of 24. From 2017.12.11 00:05:00 to 2017.12.12 04:12:51\n",
      "\ts 12 of 24. From 2017.12.12 10:13:36 to 2017.12.22 23:58:59\n",
      "\ts 13 of 24. From 2017.12.26 03:00:00 to 2017.12.29 23:58:59\n",
      "\ts 14 of 24. From 2018.01.02 03:00:00 to 2018.01.10 21:26:10\n",
      "\ts 15 of 24. From 2018.01.11 14:39:33 to 2018.01.25 08:17:38\n",
      "\ts 16 of 24. From 2018.01.25 09:08:40 to 2018.03.08 23:58:59\n",
      "\ts 17 of 24. From 2018.03.09 00:05:00 to 2018.03.20 05:04:48\n",
      "\ts 18 of 24. From 2018.03.20 05:44:30 to 2018.04.12 09:26:16\n",
      "\ts 19 of 24. From 2018.04.12 09:59:08 to 2018.05.08 03:27:54\n",
      "\ts 20 of 24. From 2018.05.08 04:24:13 to 2018.07.13 23:59:56\n",
      "\ts 21 of 24. From 2018.07.30 00:05:00 to 2018.08.10 23:58:59\n",
      "\ts 22 of 24. From 2018.08.13 07:37:02 to 2018.08.23 12:52:32\n",
      "\ts 23 of 24. From 2018.08.23 13:14:34 to 2018.08.24 23:58:59\n",
      "\ts 24 of 24. From 2018.08.27 19:03:31 to 2018.11.09 23:59:56\n",
      "\tTime for EURJPY:11.0s. Total time:142.0s\n",
      "29. AUDJPY\n",
      "\ts 0 of 21. From 2016.01.04 00:00:00 to 2016.01.11 00:24:59\n",
      "\ts 1 of 21. From 2016.01.11 01:00:00 to 2016.10.13 15:41:59\n",
      "\ts 2 of 21. From 2016.10.13 17:52:00 to 2016.12.23 23:59:59\n",
      "\ts 3 of 21. From 2016.12.26 06:00:00 to 2016.12.29 23:59:59\n",
      "\ts 4 of 21. From 2017.01.02 09:00:00 to 2017.01.27 23:54:59\n",
      "\ts 5 of 21. From 2017.01.31 00:12:00 to 2017.11.09 23:59:59\n",
      "\ts 6 of 21. From 2017.11.20 00:05:00 to 2017.11.24 23:58:59\n",
      "\ts 7 of 21. From 2017.11.27 00:05:00 to 2017.12.08 23:58:54\n",
      "\ts 8 of 21. From 2017.12.11 00:05:00 to 2017.12.12 04:13:10\n",
      "\ts 9 of 21. From 2017.12.12 10:13:40 to 2017.12.22 23:58:58\n",
      "\ts 10 of 21. From 2017.12.26 03:00:00 to 2017.12.29 23:58:59\n",
      "\ts 11 of 21. From 2018.01.02 02:59:59 to 2018.01.10 21:13:01\n",
      "\ts 12 of 21. From 2018.01.11 14:39:33 to 2018.01.25 08:17:37\n",
      "\ts 13 of 21. From 2018.01.25 09:10:26 to 2018.03.08 23:58:54\n",
      "\ts 14 of 21. From 2018.03.09 00:05:00 to 2018.03.20 05:04:48\n",
      "\ts 15 of 21. From 2018.03.20 05:44:29 to 2018.04.12 09:26:16\n",
      "\ts 16 of 21. From 2018.04.12 10:00:38 to 2018.05.08 03:27:55\n",
      "\ts 17 of 21. From 2018.05.08 04:24:13 to 2018.07.13 23:59:08\n",
      "\ts 18 of 21. From 2018.07.30 00:05:00 to 2018.08.10 23:58:59\n",
      "\ts 19 of 21. From 2018.08.13 07:37:02 to 2018.08.23 12:52:28\n",
      "\ts 20 of 21. From 2018.08.23 13:14:34 to 2018.08.24 23:58:59\n",
      "\ts 21 of 21. From 2018.08.27 19:03:36 to 2018.11.09 23:59:56\n",
      "\tTime for AUDJPY:9.0s. Total time:152.0s\n",
      "30. CHFJPY\n",
      "\ts 0 of 21. From 2016.01.04 01:00:00 to 2016.01.11 00:19:59\n",
      "\ts 1 of 21. From 2016.01.11 01:00:00 to 2016.03.18 22:59:59\n",
      "\ts 2 of 21. From 2016.03.21 01:00:00 to 2016.10.13 15:41:59\n",
      "\ts 3 of 21. From 2016.10.13 17:52:00 to 2016.10.18 00:01:34\n",
      "\ts 4 of 21. From 2016.10.18 02:28:18 to 2016.12.23 23:59:59\n",
      "\ts 5 of 21. From 2016.12.26 06:00:00 to 2016.12.29 23:59:59\n",
      "\ts 6 of 21. From 2017.01.02 09:00:00 to 2017.11.24 23:58:59\n",
      "\ts 7 of 21. From 2017.11.27 00:05:00 to 2017.12.08 23:58:56\n",
      "\ts 8 of 21. From 2017.12.11 00:05:00 to 2017.12.12 04:13:07\n",
      "\ts 9 of 21. From 2017.12.12 10:13:40 to 2017.12.22 23:58:58\n",
      "\ts 10 of 21. From 2017.12.26 03:00:00 to 2017.12.29 23:58:58\n",
      "\ts 11 of 21. From 2018.01.02 03:00:00 to 2018.01.10 21:09:34\n",
      "\ts 12 of 21. From 2018.01.15 11:16:28 to 2018.01.25 08:17:38\n",
      "\ts 13 of 21. From 2018.01.25 09:10:26 to 2018.03.08 23:58:59\n",
      "\ts 14 of 21. From 2018.03.09 00:05:00 to 2018.03.20 05:04:48\n",
      "\ts 15 of 21. From 2018.03.20 05:44:30 to 2018.04.12 09:26:16\n",
      "\ts 16 of 21. From 2018.04.12 09:59:08 to 2018.05.08 03:27:53\n",
      "\ts 17 of 21. From 2018.05.08 04:24:15 to 2018.07.13 23:59:56\n",
      "\ts 18 of 21. From 2018.07.30 00:05:00 to 2018.08.10 23:58:59\n",
      "\ts 19 of 21. From 2018.08.13 07:37:02 to 2018.08.23 12:52:32\n",
      "\ts 20 of 21. From 2018.08.23 13:14:34 to 2018.08.24 23:58:59\n",
      "\ts 21 of 21. From 2018.08.27 19:03:31 to 2018.11.09 23:59:56\n",
      "\tTime for CHFJPY:8.0s. Total time:160.0s\n",
      "31. GBPJPY\n",
      "\ts 0 of 23. From 2016.01.04 00:00:30 to 2016.01.11 00:17:59\n",
      "\ts 1 of 23. From 2016.01.11 01:00:00 to 2016.10.13 15:41:59\n",
      "\ts 2 of 23. From 2016.10.13 17:52:00 to 2016.12.23 23:59:59\n",
      "\ts 3 of 23. From 2016.12.26 06:00:00 to 2017.08.14 00:41:30\n",
      "\ts 4 of 23. From 2017.08.14 01:22:00 to 2017.08.14 01:22:59\n",
      "\ts 4 of 23. Not enough entries. Skipped.\n",
      "\ts 5 of 23. From 2017.08.14 15:07:00 to 2017.09.18 23:59:59\n",
      "\ts 6 of 23. From 2017.09.19 23:46:08 to 2017.11.10 09:38:15\n",
      "\ts 7 of 23. From 2017.11.10 10:05:53 to 2017.11.24 23:58:59\n",
      "\ts 8 of 23. From 2017.11.27 00:05:00 to 2017.12.08 23:58:59\n",
      "\ts 9 of 23. From 2017.12.11 00:05:00 to 2017.12.12 04:13:09\n",
      "\ts 10 of 23. From 2017.12.12 10:13:39 to 2017.12.22 23:58:59\n",
      "\ts 11 of 23. From 2017.12.26 03:00:01 to 2017.12.29 23:58:59\n",
      "\ts 12 of 23. From 2018.01.02 03:00:00 to 2018.01.10 21:28:58\n",
      "\ts 13 of 23. From 2018.01.11 14:39:32 to 2018.01.25 08:17:38\n",
      "\ts 14 of 23. From 2018.01.25 08:49:51 to 2018.03.08 23:58:59\n",
      "\ts 15 of 23. From 2018.03.09 00:05:00 to 2018.03.20 05:04:48\n",
      "\ts 16 of 23. From 2018.03.20 05:44:29 to 2018.04.12 09:26:16\n",
      "\ts 17 of 23. From 2018.04.12 09:59:09 to 2018.05.08 03:27:56\n",
      "\ts 18 of 23. From 2018.05.08 04:24:15 to 2018.07.13 23:59:56\n",
      "\ts 19 of 23. From 2018.07.30 00:05:00 to 2018.08.10 23:58:59\n",
      "\ts 20 of 23. From 2018.08.13 07:37:02 to 2018.08.23 12:52:32\n",
      "\ts 21 of 23. From 2018.08.23 13:14:34 to 2018.08.24 23:58:59\n",
      "\ts 22 of 23. From 2018.08.27 19:03:31 to 2018.09.06 04:36:04\n",
      "\ts 23 of 23. From 2018.09.07 00:05:02 to 2018.11.09 23:59:06\n",
      "\tTime for GBPJPY:11.0s. Total time:172.0s\n",
      "32. NZDUSD\n",
      "\ts 0 of 22. From 2016.01.04 00:00:30 to 2016.10.13 00:01:05\n",
      "\ts 1 of 22. From 2016.10.13 01:47:11 to 2016.10.13 15:41:59\n",
      "\ts 2 of 22. From 2016.10.13 17:52:00 to 2016.12.23 23:59:59\n",
      "\ts 3 of 22. From 2016.12.26 06:00:00 to 2017.09.11 23:01:59\n",
      "\ts 4 of 22. From 2017.09.11 23:47:00 to 2017.09.28 13:45:59\n",
      "\ts 5 of 22. From 2017.09.28 14:10:00 to 2017.11.16 23:59:59\n",
      "\ts 6 of 22. From 2017.11.20 00:05:01 to 2017.11.24 23:58:59\n",
      "\ts 7 of 22. From 2017.11.27 00:05:00 to 2017.12.08 23:58:57\n",
      "\ts 8 of 22. From 2017.12.11 00:05:00 to 2017.12.12 04:13:10\n",
      "\ts 9 of 22. From 2017.12.12 10:13:36 to 2017.12.22 23:58:59\n",
      "\ts 10 of 22. From 2017.12.26 03:00:01 to 2017.12.29 23:58:59\n",
      "\ts 11 of 22. From 2018.01.02 03:00:00 to 2018.01.10 21:10:40\n",
      "\ts 12 of 22. From 2018.01.11 14:39:33 to 2018.01.23 08:12:03\n",
      "\ts 13 of 22. From 2018.01.24 00:05:18 to 2018.01.25 08:17:37\n",
      "\ts 14 of 22. From 2018.01.25 09:10:33 to 2018.03.08 23:58:59\n",
      "\ts 15 of 22. From 2018.03.09 00:05:00 to 2018.03.20 05:04:46\n",
      "\ts 16 of 22. From 2018.03.20 05:44:40 to 2018.04.12 09:26:11\n",
      "\ts 17 of 22. From 2018.04.12 09:59:08 to 2018.05.08 03:27:56\n",
      "\ts 18 of 22. From 2018.05.08 04:24:16 to 2018.07.13 23:59:00\n",
      "\ts 19 of 22. From 2018.07.30 00:05:00 to 2018.08.10 23:58:59\n",
      "\ts 20 of 22. From 2018.08.13 07:37:02 to 2018.08.23 12:52:28\n",
      "\ts 21 of 22. From 2018.08.23 13:14:34 to 2018.08.24 23:58:59\n",
      "\ts 22 of 22. From 2018.08.27 19:03:32 to 2018.11.09 23:59:02\n",
      "\tTime for NZDUSD:4.0s. Total time:176.0s\n",
      "Building DTA...\n",
      "AUDCAD\n",
      "2016.08.02 00:19:31\n",
      "2017.03.03 23:46:01\n",
      "EURAUD\n",
      "2016.08.02 00:30:10\n",
      "2017.03.03 23:58:45\n",
      "EURCAD\n",
      "2016.08.02 00:07:47\n",
      "2017.03.03 23:49:40\n",
      "EURCHF\n",
      "2016.08.02 00:19:46\n",
      "2017.03.03 23:48:38\n",
      "EURGBP\n",
      "2017.01.02 10:57:18\n",
      "2017.03.03 23:52:47\n",
      "EURNZD\n",
      "2016.08.02 00:05:00\n",
      "2016.12.30 22:19:12\n",
      "EURUSD\n",
      "2016.08.02 00:10:38\n",
      "2017.03.03 23:56:07\n",
      "GBPAUD\n",
      "2016.08.02 00:19:59\n",
      "2017.03.03 23:52:27\n",
      "GBPCAD\n",
      "2016.08.02 00:15:35\n",
      "2017.03.03 23:49:35\n",
      "GBPCHF\n",
      "2016.08.02 00:18:09\n",
      "2017.03.03 23:45:10\n",
      "GBPUSD\n",
      "2016.08.02 00:49:24\n",
      "2017.03.03 23:51:06\n",
      "GOLD\n",
      "USDCAD\n",
      "2016.08.02 00:10:00\n",
      "2017.03.03 23:49:22\n",
      "USDCHF\n",
      "2016.08.02 00:19:37\n",
      "2017.03.03 23:45:37\n",
      "USDJPY\n",
      "2016.08.02 00:31:12\n",
      "2017.03.03 23:54:42\n",
      "CADJPY\n",
      "2016.08.02 00:31:14\n",
      "2017.03.03 23:50:36\n",
      "EURJPY\n",
      "2016.08.02 00:31:45\n",
      "2017.03.03 23:56:54\n",
      "AUDJPY\n",
      "2016.08.02 00:00:04\n",
      "2017.03.03 23:51:51\n",
      "CHFJPY\n",
      "2016.08.02 00:06:15\n",
      "2017.03.03 23:49:35\n",
      "GBPJPY\n",
      "2016.08.02 00:19:42\n",
      "2017.03.03 23:54:07\n",
      "NZDUSD\n",
      "2016.08.02 00:11:25\n",
      "2017.03.03 23:51:14\n",
      "Edges:\n",
      "[datetime.date(2016, 8, 2), datetime.date(2017, 3, 6), datetime.date(2017, 9, 27), datetime.date(2018, 4, 10)]\n",
      "C:/Users/mgutierrez/root/Projects/SDC/py/RNN/IO/IOKFWRNN01010k4K5AC.hdf5\n",
      "C:/Users/mgutierrez/root/Projects/SDC/py/RNN/IO/IOKFRRNN01010k4K5AC.hdf5\n",
      "C:/Users/mgutierrez/root/Projects/SDC/py/RNN/IO/DTA_RRNN01010k4K5AC.p\n",
      "Samples for fitting: 2925574\n",
      "Samples for cross-validation: 879122\n",
      "Total samples: 3804696\n",
      "Percent per level:[0.05152606 0.2082056  0.47881697 0.21120768 0.0502437 ]\n",
      "DONE building IO\n",
      "Iteration 0 of 0\n",
      "INFO:tensorflow:Restoring parameters from C:/Users/mgutierrez/root/Projects/SDC/py/RNN/weights/WRNN01010k4K5A/000005/000005\n",
      "Parameters loaded. Epoch 5\n",
      "Epoch 5 of 14. Getting output...\n"
     ]
    },
    {
     "name": "stderr",
     "output_type": "stream",
     "text": [
      "100%|███████████████████████████████████████████████████████████████████████████████████████████████████████████████████████████████████| 859/859 [01:15<00:00, 11.39it/s]\n"
     ]
    },
    {
     "name": "stdout",
     "output_type": "stream",
     "text": [
      "J_test = 1.590804\n",
      "Epoch 5, J_train = 1.6435628817435877, J_test = 1.5908040394605385\n",
      "Getting extended results...\n"
     ]
    },
    {
     "name": "stderr",
     "output_type": "stream",
     "text": [
      "100%|█████████████████████████████████████████████████████████████████████████████████████████████████████████████████████████████████████| 7/7 [00:00<00:00, 1410.53it/s]\n"
     ]
    },
    {
     "name": "stdout",
     "output_type": "stream",
     "text": [
      "Epoch = 5. Time index = 0. Threshold MC = 0.7. Threshold MD = 0.6\n",
      "RD = 5 NZ = 8 NZA = 8 pNZ = 0.001% pNZA = 0.001% AD = 62.50% ADA = 62.50% NO = 8 GSP = 62.50% NSP = 62.50%\n",
      "SI2 = 0.71 SI = -0.84 eGROI = 0.67% eROI = 0.35% eROI2 = 0.51% eROI3 = 0.43% mSpread = 0.0392%\n",
      "\n",
      "Getting extended results...\n"
     ]
    },
    {
     "name": "stderr",
     "output_type": "stream",
     "text": [
      "100%|█████████████████████████████████████████████████████████████████████████████████████████████████████████████████████████████████| 340/340 [00:00<00:00, 2367.38it/s]\n"
     ]
    },
    {
     "name": "stdout",
     "output_type": "stream",
     "text": [
      "Epoch = 5. Time index = 1. Threshold MC = 0.7. Threshold MD = 0.6\n",
      "RD = 145 NZ = 255 NZA = 341 pNZ = 0.029% pNZA = 0.039% AD = 56.86% ADA = 42.52% NO = 213 GSP = 51.17% NSP = 46.95%\n",
      "SI2 = -0.62 SI = -7.71 eGROI = -1.95% eROI = -7.33% eROI2 = -6.21% eROI3 = -8.34% mSpread = 0.0253%\n",
      "\n",
      "Getting extended results...\n"
     ]
    },
    {
     "name": "stderr",
     "output_type": "stream",
     "text": [
      "100%|█████████████████████████████████████████████████████████████████████████████████████████████████████████████████████████████████| 746/746 [00:00<00:00, 2570.38it/s]\n"
     ]
    },
    {
     "name": "stdout",
     "output_type": "stream",
     "text": [
      "Epoch = 5. Time index = 2. Threshold MC = 0.7. Threshold MD = 0.6\n",
      "RD = 328 NZ = 561 NZA = 747 pNZ = 0.064% pNZA = 0.085% AD = 58.47% ADA = 43.91% NO = 342 GSP = 56.43% NSP = 50.88%\n",
      "SI2 = 0.54 SI = -9.06 eGROI = 12.18% eROI = 4.03% eROI2 = 5.34% eROI3 = 1.92% mSpread = 0.0239%\n",
      "\n",
      "Getting extended results...\n"
     ]
    },
    {
     "name": "stderr",
     "output_type": "stream",
     "text": [
      "100%|█████████████████████████████████████████████████████████████████████████████████████████████████████████████████████████████████| 915/915 [00:00<00:00, 2439.96it/s]\n"
     ]
    },
    {
     "name": "stdout",
     "output_type": "stream",
     "text": [
      "Epoch = 5. Time index = 3. Threshold MC = 0.7. Threshold MD = 0.6\n",
      "RD = 396 NZ = 686 NZA = 916 pNZ = 0.078% pNZA = 0.104% AD = 57.73% ADA = 43.23% NO = 345 GSP = 59.42% NSP = 54.78%\n",
      "SI2 = 1.35 SI = -8.37 eGROI = 12.60% eROI = 4.54% eROI2 = 5.70% eROI3 = 2.25% mSpread = 0.0234%\n",
      "\n",
      "Getting extended results...\n"
     ]
    },
    {
     "name": "stderr",
     "output_type": "stream",
     "text": [
      "100%|█████████████████████████████████████████████████████████████████████████████████████████████████████████████████████████████████| 271/271 [00:00<00:00, 3439.46it/s]\n"
     ]
    },
    {
     "name": "stdout",
     "output_type": "stream",
     "text": [
      "Epoch = 5. Time index = mean. Threshold MC = 0.7. Threshold MD = 0.6\n",
      "RD = 117 NZ = 203 NZA = 272 pNZ = 0.023% pNZA = 0.031% AD = 57.64% ADA = 43.01% NO = 163 GSP = 53.37% NSP = 49.08%\n",
      "SI2 = 0.08 SI = -6.46 eGROI = 0.69% eROI = -3.20% eROI2 = -2.57% eROI3 = -4.20% mSpread = 0.0239%\n",
      "\n",
      "Getting extended results...\n"
     ]
    },
    {
     "name": "stderr",
     "output_type": "stream",
     "text": [
      "100%|█████████████████████████████████████████████████████████████████████████████████████████████████████████████████████████████████| 271/271 [00:00<00:00, 2859.07it/s]\n"
     ]
    },
    {
     "name": "stdout",
     "output_type": "stream",
     "text": [
      "Epoch = 5. Time index = mean. Threshold MC = 0.7. Threshold MD = 0.6\n",
      "RD = 117 NZ = 203 NZA = 272 pNZ = 0.023% pNZA = 0.031% AD = 57.64% ADA = 43.01% NO = 163 GSP = 53.37% NSP = 49.08%\n",
      "SI2 = 0.08 SI = -6.46 eGROI = 0.69% eROI = -3.20% eROI2 = -2.57% eROI3 = -4.20% mSpread = 0.0239%\n",
      "\n",
      "Getting extended results...\n"
     ]
    },
    {
     "name": "stderr",
     "output_type": "stream",
     "text": [
      "100%|█████████████████████████████████████████████████████████████████████████████████████████████████████████████████████████████████| 271/271 [00:00<00:00, 3353.03it/s]\n"
     ]
    },
    {
     "name": "stdout",
     "output_type": "stream",
     "text": [
      "Epoch = 5. Time index = mean. Threshold MC = 0.7. Threshold MD = 0.6\n",
      "RD = 117 NZ = 203 NZA = 272 pNZ = 0.023% pNZA = 0.031% AD = 57.64% ADA = 43.01% NO = 163 GSP = 53.37% NSP = 49.08%\n",
      "SI2 = 0.08 SI = -6.46 eGROI = 0.69% eROI = -3.20% eROI2 = -2.57% eROI3 = -4.20% mSpread = 0.0239%\n",
      "\n",
      "Getting extended results...\n"
     ]
    },
    {
     "name": "stderr",
     "output_type": "stream",
     "text": [
      "100%|█████████████████████████████████████████████████████████████████████████████████████████████████████████████████████████████████| 271/271 [00:00<00:00, 2515.91it/s]\n"
     ]
    },
    {
     "name": "stdout",
     "output_type": "stream",
     "text": [
      "Epoch = 5. Time index = mean. Threshold MC = 0.7. Threshold MD = 0.6\n",
      "RD = 117 NZ = 203 NZA = 272 pNZ = 0.023% pNZA = 0.031% AD = 57.64% ADA = 43.01% NO = 163 GSP = 53.37% NSP = 49.08%\n",
      "SI2 = 0.08 SI = -6.46 eGROI = 0.69% eROI = -3.20% eROI2 = -2.57% eROI3 = -4.20% mSpread = 0.0239%\n",
      "\n",
      "Getting extended results...\n"
     ]
    },
    {
     "name": "stderr",
     "output_type": "stream",
     "text": [
      "100%|█████████████████████████████████████████████████████████████████████████████████████████████████████████████████████████████████| 271/271 [00:00<00:00, 2953.46it/s]\n"
     ]
    },
    {
     "name": "stdout",
     "output_type": "stream",
     "text": [
      "Epoch = 5. Time index = mean. Threshold MC = 0.7. Threshold MD = 0.6\n",
      "RD = 117 NZ = 203 NZA = 272 pNZ = 0.023% pNZA = 0.031% AD = 57.64% ADA = 43.01% NO = 163 GSP = 53.37% NSP = 49.08%\n",
      "SI2 = 0.08 SI = -6.46 eGROI = 0.69% eROI = -3.20% eROI2 = -2.57% eROI3 = -4.20% mSpread = 0.0239%\n",
      "\n",
      "Getting extended results...\n"
     ]
    },
    {
     "name": "stderr",
     "output_type": "stream",
     "text": [
      "100%|█████████████████████████████████████████████████████████████████████████████████████████████████████████████████████████████████| 271/271 [00:00<00:00, 2830.45it/s]\n"
     ]
    },
    {
     "name": "stdout",
     "output_type": "stream",
     "text": [
      "Epoch = 5. Time index = mean. Threshold MC = 0.7. Threshold MD = 0.6\n",
      "RD = 117 NZ = 203 NZA = 272 pNZ = 0.023% pNZA = 0.031% AD = 57.64% ADA = 43.01% NO = 163 GSP = 53.37% NSP = 49.08%\n",
      "SI2 = 0.08 SI = -6.46 eGROI = 0.69% eROI = -3.20% eROI2 = -2.57% eROI3 = -4.20% mSpread = 0.0239%\n",
      "\n",
      "Getting extended results...\n"
     ]
    },
    {
     "name": "stderr",
     "output_type": "stream",
     "text": [
      "100%|█████████████████████████████████████████████████████████████████████████████████████████████████████████████████████████████████| 271/271 [00:00<00:00, 2921.70it/s]\n"
     ]
    },
    {
     "name": "stdout",
     "output_type": "stream",
     "text": [
      "Epoch = 5. Time index = mean. Threshold MC = 0.7. Threshold MD = 0.6\n",
      "RD = 117 NZ = 203 NZA = 272 pNZ = 0.023% pNZA = 0.031% AD = 57.64% ADA = 43.01% NO = 163 GSP = 53.37% NSP = 49.08%\n",
      "SI2 = 0.08 SI = -6.46 eGROI = 0.69% eROI = -3.20% eROI2 = -2.57% eROI3 = -4.20% mSpread = 0.0239%\n",
      "\n",
      "Getting extended results...\n"
     ]
    },
    {
     "name": "stderr",
     "output_type": "stream",
     "text": [
      "100%|█████████████████████████████████████████████████████████████████████████████████████████████████████████████████████████████████| 271/271 [00:00<00:00, 2362.78it/s]\n"
     ]
    },
    {
     "name": "stdout",
     "output_type": "stream",
     "text": [
      "Epoch = 5. Time index = mean. Threshold MC = 0.7. Threshold MD = 0.6\n",
      "RD = 117 NZ = 203 NZA = 272 pNZ = 0.023% pNZA = 0.031% AD = 57.64% ADA = 43.01% NO = 163 GSP = 53.37% NSP = 49.08%\n",
      "SI2 = 0.08 SI = -6.46 eGROI = 0.69% eROI = -3.20% eROI2 = -2.57% eROI3 = -4.20% mSpread = 0.0239%\n",
      "\n",
      "Getting extended results...\n"
     ]
    },
    {
     "name": "stderr",
     "output_type": "stream",
     "text": [
      "100%|█████████████████████████████████████████████████████████████████████████████████████████████████████████████████████████████████| 271/271 [00:00<00:00, 2090.17it/s]\n"
     ]
    },
    {
     "name": "stdout",
     "output_type": "stream",
     "text": [
      "Epoch = 5. Time index = mean. Threshold MC = 0.7. Threshold MD = 0.6\n",
      "RD = 117 NZ = 203 NZA = 272 pNZ = 0.023% pNZA = 0.031% AD = 57.64% ADA = 43.01% NO = 163 GSP = 53.37% NSP = 49.08%\n",
      "SI2 = 0.08 SI = -6.46 eGROI = 0.69% eROI = -3.20% eROI2 = -2.57% eROI3 = -4.20% mSpread = 0.0239%\n",
      "\n",
      "Getting extended results...\n"
     ]
    },
    {
     "name": "stderr",
     "output_type": "stream",
     "text": [
      "100%|█████████████████████████████████████████████████████████████████████████████████████████████████████████████████████████████████| 271/271 [00:00<00:00, 2264.34it/s]\n"
     ]
    },
    {
     "name": "stdout",
     "output_type": "stream",
     "text": [
      "Epoch = 5. Time index = mean. Threshold MC = 0.7. Threshold MD = 0.6\n",
      "RD = 117 NZ = 203 NZA = 272 pNZ = 0.023% pNZA = 0.031% AD = 57.64% ADA = 43.01% NO = 163 GSP = 53.37% NSP = 49.08%\n",
      "SI2 = 0.08 SI = -6.46 eGROI = 0.69% eROI = -3.20% eROI2 = -2.57% eROI3 = -4.20% mSpread = 0.0239%\n",
      "\n",
      "Getting extended results...\n"
     ]
    },
    {
     "name": "stderr",
     "output_type": "stream",
     "text": [
      "100%|█████████████████████████████████████████████████████████████████████████████████████████████████████████████████████████████████| 271/271 [00:00<00:00, 1900.15it/s]\n"
     ]
    },
    {
     "name": "stdout",
     "output_type": "stream",
     "text": [
      "Epoch = 5. Time index = mean. Threshold MC = 0.7. Threshold MD = 0.6\n",
      "RD = 117 NZ = 203 NZA = 272 pNZ = 0.023% pNZA = 0.031% AD = 57.64% ADA = 43.01% NO = 163 GSP = 53.37% NSP = 49.08%\n",
      "SI2 = 0.08 SI = -6.46 eGROI = 0.69% eROI = -3.20% eROI2 = -2.57% eROI3 = -4.20% mSpread = 0.0239%\n",
      "\n",
      "Best eGROI = 64.01 t_index 3 thr_mc 0.7 thr_md 0.5 epoch 5 in 1499 GSP 57.51 ADA 38.79 AD 51.43\n",
      "Best eROI = 30.31 t_index 3 thr_mc 0.7 thr_md 0.5 epoch 5 in 1499 GSP 57.51 ADA 38.79 AD 51.43\n",
      "Best eROI.5 = 56.51 t_index 3 thr_mc 0.7 thr_md 0.5 epoch 5 in 1499 GSP 57.51 ADA 38.79 AD 51.43\n",
      "Best eROI1 = 49.02 t_index 3 thr_mc 0.7 thr_md 0.5 epoch 5 in 1499 GSP 57.51 ADA 38.79 AD 51.43\n",
      "Best eROI1.5 = 41.52 t_index 3 thr_mc 0.7 thr_md 0.5 epoch 5 in 1499 GSP 57.51 ADA 38.79 AD 51.43\n",
      "Best eROI2 = 34.03 t_index 3 thr_mc 0.7 thr_md 0.5 epoch 5 in 1499 GSP 57.51 ADA 38.79 AD 51.43\n",
      "Best eROI3 = 25.11 t_index 0 thr_mc 0.8 thr_md 0.5 epoch 5 in 310 GSP 58.39 ADA 43.84 AD 51.94\n",
      "Best eROI4 = 22.01 t_index 0 thr_mc 0.8 thr_md 0.5 epoch 5 in 310 GSP 58.39 ADA 43.84 AD 51.94\n",
      "Best eROI5 = 18.91 t_index 0 thr_mc 0.8 thr_md 0.5 epoch 5 in 310 GSP 58.39 ADA 43.84 AD 51.94\n",
      "Best SI = 9.72 t_index 3 thr_mc 0.8 thr_md 0.6 epoch 5 in 76 GSP 67.11 ADA 56.67 AD 66.11\n",
      "Best SI.5 = 139.01 t_index 3 thr_mc 0.5 thr_md 0.6 epoch 5 in 3283 GSP 58.97 ADA 35.47 AD 57.21\n",
      "Best SI1 = 85.01 t_index 3 thr_mc 0.5 thr_md 0.6 epoch 5 in 3283 GSP 58.97 ADA 35.47 AD 57.21\n",
      "Best SI1.5 = 33.80 t_index 2 thr_mc 0.6 thr_md 0.6 epoch 5 in 1540 GSP 59.09 ADA 38.02 AD 56.38\n",
      "Best SI2 = 14.80 t_index 2 thr_mc 0.6 thr_md 0.6 epoch 5 in 1540 GSP 59.09 ADA 38.02 AD 56.38\n",
      "Best SI3 = 8.72 t_index 3 thr_mc 0.8 thr_md 0.6 epoch 5 in 76 GSP 67.11 ADA 56.67 AD 66.11\n",
      "Best SI4 = 7.72 t_index 3 thr_mc 0.8 thr_md 0.6 epoch 5 in 76 GSP 67.11 ADA 56.67 AD 66.11\n",
      "Best SI5 = 7.72 t_index 3 thr_mc 0.8 thr_md 0.6 epoch 5 in 76 GSP 67.11 ADA 56.67 AD 66.11\n",
      "Best 99eGROI = 53.84 t_index 3 thr_mc 0.5 thr_md 0.6 epoch 5 in 3283 GSP 58.97 ADA 35.47 AD 57.21\n",
      "Best 99eROI = 29.25 t_index 0 thr_mc 0.8 thr_md 0.5 epoch 5 in 310 GSP 58.39 ADA 43.84 AD 51.94\n",
      "Best 99eROI.5 = 40.25 t_index 3 thr_mc 0.7 thr_md 0.5 epoch 5 in 1499 GSP 57.51 ADA 38.79 AD 51.43\n",
      "Best 99eROI1 = 33.84 t_index 0 thr_mc 0.8 thr_md 0.5 epoch 5 in 310 GSP 58.39 ADA 43.84 AD 51.94\n",
      "Best 99eROI1.5 = 32.32 t_index 0 thr_mc 0.8 thr_md 0.5 epoch 5 in 310 GSP 58.39 ADA 43.84 AD 51.94\n",
      "Best 99eROI2 = 30.80 t_index 0 thr_mc 0.8 thr_md 0.5 epoch 5 in 310 GSP 58.39 ADA 43.84 AD 51.94\n",
      "Best 99eROI3 = 27.76 t_index 0 thr_mc 0.8 thr_md 0.5 epoch 5 in 310 GSP 58.39 ADA 43.84 AD 51.94\n",
      "Best 99eROI4 = 24.72 t_index 0 thr_mc 0.8 thr_md 0.5 epoch 5 in 310 GSP 58.39 ADA 43.84 AD 51.94\n",
      "Best 99eROI5 = 21.68 t_index 0 thr_mc 0.8 thr_md 0.5 epoch 5 in 310 GSP 58.39 ADA 43.84 AD 51.94\n",
      "\n",
      "The very best:\n",
      "Best eGROI = 107.37 t_index 2 thr_mc 0.5 thr_md 0.6 epoch 14 in 5603 GSP 59.16 ADA 37.40 AD 57.47\n",
      "Best eROI = 30.31 t_index 3 thr_mc 0.7 thr_md 0.5 epoch 5 in 1499 GSP 57.51 ADA 38.79 AD 51.43\n",
      "Best eROI.5 = 79.36 t_index 2 thr_mc 0.5 thr_md 0.6 epoch 14 in 5603 GSP 59.16 ADA 37.40 AD 57.47\n",
      "Best eROI1 = 52.65 t_index 3 thr_mc 0.5 thr_md 0.6 epoch 13 in 5249 GSP 59.19 ADA 37.62 AD 57.70\n",
      "Best eROI1.5 = 41.52 t_index 3 thr_mc 0.7 thr_md 0.5 epoch 5 in 1499 GSP 57.51 ADA 38.79 AD 51.43\n",
      "Best eROI2 = 34.03 t_index 3 thr_mc 0.7 thr_md 0.5 epoch 5 in 1499 GSP 57.51 ADA 38.79 AD 51.43\n",
      "Best eROI3 = 25.11 t_index 0 thr_mc 0.8 thr_md 0.5 epoch 5 in 310 GSP 58.39 ADA 43.84 AD 51.94\n",
      "Best eROI4 = 22.44 t_index 0 thr_mc 0.8 thr_md 0.5 epoch 1 in 245 GSP 56.33 ADA 42.04 AD 48.92\n",
      "Best eROI5 = 20.25 t_index 0 thr_mc 0.6 thr_md 0.7 epoch 14 in 148 GSP 64.86 ADA 53.31 AD 70.98\n",
      "Best SI = 19.99 t_index 2 thr_mc 0.6 thr_md 0.7 epoch 10 in 317 GSP 62.78 ADA 50.27 AD 63.01\n",
      "Best SI.5 = 248.41 t_index 2 thr_mc 0.5 thr_md 0.6 epoch 14 in 5603 GSP 59.16 ADA 37.40 AD 57.47\n",
      "Best SI1 = 156.03 t_index 3 thr_mc 0.5 thr_md 0.6 epoch 13 in 5249 GSP 59.19 ADA 37.62 AD 57.70\n",
      "Best SI1.5 = 84.18 t_index 3 thr_mc 0.6 thr_md 0.6 epoch 12 in 2894 GSP 59.92 ADA 40.73 AD 57.38\n",
      "Best SI2 = 33.18 t_index 3 thr_mc 0.6 thr_md 0.6 epoch 12 in 2894 GSP 59.92 ADA 40.73 AD 57.38\n",
      "Best SI3 = 18.99 t_index 2 thr_mc 0.6 thr_md 0.7 epoch 10 in 317 GSP 62.78 ADA 50.27 AD 63.01\n",
      "Best SI4 = 12.33 t_index 2 thr_mc 0.7 thr_md 0.7 epoch 10 in 239 GSP 62.76 ADA 50.89 AD 62.15\n",
      "Best SI5 = 8.33 t_index 2 thr_mc 0.7 thr_md 0.7 epoch 10 in 239 GSP 62.76 ADA 50.89 AD 62.15\n",
      "Best 99eGROI = 101.86 t_index 2 thr_mc 0.5 thr_md 0.6 epoch 14 in 5603 GSP 59.16 ADA 37.40 AD 57.47\n",
      "Best 99eROI = 29.77 t_index 0 thr_mc 0.8 thr_md 0.5 epoch 1 in 245 GSP 56.33 ADA 42.04 AD 48.92\n",
      "Best 99eROI.5 = 74.59 t_index 3 thr_mc 0.5 thr_md 0.6 epoch 13 in 5249 GSP 59.19 ADA 37.62 AD 57.70\n",
      "Best 99eROI1 = 48.86 t_index 3 thr_mc 0.5 thr_md 0.6 epoch 13 in 5249 GSP 59.19 ADA 37.62 AD 57.70\n",
      "Best 99eROI1.5 = 32.68 t_index 0 thr_mc 0.8 thr_md 0.5 epoch 1 in 245 GSP 56.33 ADA 42.04 AD 48.92\n",
      "Best 99eROI2 = 31.48 t_index 0 thr_mc 0.8 thr_md 0.5 epoch 1 in 245 GSP 56.33 ADA 42.04 AD 48.92\n",
      "Best 99eROI3 = 29.07 t_index 0 thr_mc 0.8 thr_md 0.5 epoch 1 in 245 GSP 56.33 ADA 42.04 AD 48.92\n",
      "Best 99eROI4 = 26.66 t_index 0 thr_mc 0.8 thr_md 0.5 epoch 1 in 245 GSP 56.33 ADA 42.04 AD 48.92\n",
      "Best 99eROI5 = 24.25 t_index 0 thr_mc 0.8 thr_md 0.5 epoch 1 in 245 GSP 56.33 ADA 42.04 AD 48.92\n",
      "Time=16.74 secs\n",
      "INFO:tensorflow:Restoring parameters from C:/Users/mgutierrez/root/Projects/SDC/py/RNN/weights/WRNN01010k4K5A/000006/000006\n",
      "Parameters loaded. Epoch 6\n",
      "Epoch 6 of 14. Getting output...\n"
     ]
    },
    {
     "name": "stderr",
     "output_type": "stream",
     "text": [
      "100%|███████████████████████████████████████████████████████████████████████████████████████████████████████████████████████████████████| 859/859 [01:14<00:00, 11.57it/s]\n"
     ]
    },
    {
     "name": "stdout",
     "output_type": "stream",
     "text": [
      "J_test = 1.590508\n",
      "Epoch 6, J_train = 1.6428371325431195, J_test = 1.5905076054394314\n",
      "Getting extended results...\n"
     ]
    },
    {
     "name": "stderr",
     "output_type": "stream",
     "text": [
      "100%|█████████████████████████████████████████████████████████████████████████████████████████████████████████████████████████████████| 105/105 [00:00<00:00, 2448.43it/s]\n"
     ]
    },
    {
     "name": "stdout",
     "output_type": "stream",
     "text": [
      "Epoch = 6. Time index = 0. Threshold MC = 0.7. Threshold MD = 0.6\n",
      "RD = 44 NZ = 81 NZA = 106 pNZ = 0.009% pNZA = 0.012% AD = 54.32% ADA = 41.51% NO = 95 GSP = 49.47% NSP = 43.16%\n",
      "SI2 = -1.33 SI = -5.50 eGROI = -2.22% eROI = -4.52% eROI2 = -4.12% eROI3 = -5.07% mSpread = 0.0242%\n",
      "\n",
      "Getting extended results...\n"
     ]
    },
    {
     "name": "stderr",
     "output_type": "stream",
     "text": [
      "100%|███████████████████████████████████████████████████████████████████████████████████████████████████████████████████████████████| 1039/1039 [00:00<00:00, 3816.01it/s]\n"
     ]
    },
    {
     "name": "stdout",
     "output_type": "stream",
     "text": [
      "Epoch = 6. Time index = 1. Threshold MC = 0.7. Threshold MD = 0.6\n",
      "RD = 473 NZ = 813 NZA = 1040 pNZ = 0.092% pNZA = 0.118% AD = 58.18% ADA = 45.48% NO = 513 GSP = 56.92% NSP = 52.05%\n",
      "SI2 = 1.37 SI = -10.84 eGROI = 16.88% eROI = 4.57% eROI2 = 6.62% eROI3 = 1.49% mSpread = 0.0240%\n",
      "\n",
      "Getting extended results...\n"
     ]
    },
    {
     "name": "stderr",
     "output_type": "stream",
     "text": [
      "100%|███████████████████████████████████████████████████████████████████████████████████████████████████████████████████████████████| 1693/1693 [00:00<00:00, 4090.37it/s]\n"
     ]
    },
    {
     "name": "stdout",
     "output_type": "stream",
     "text": [
      "Epoch = 6. Time index = 2. Threshold MC = 0.7. Threshold MD = 0.6\n",
      "RD = 743 NZ = 1296 NZA = 1694 pNZ = 0.147% pNZA = 0.193% AD = 57.33% ADA = 43.86% NO = 605 GSP = 56.86% NSP = 51.07%\n",
      "SI2 = 0.85 SI = -12.01 eGROI = 15.54% eROI = 0.78% eROI2 = 3.44% eROI3 = -2.61% mSpread = 0.0244%\n",
      "\n",
      "Getting extended results...\n"
     ]
    },
    {
     "name": "stderr",
     "output_type": "stream",
     "text": [
      "100%|███████████████████████████████████████████████████████████████████████████████████████████████████████████████████████████████| 2033/2033 [00:00<00:00, 3514.48it/s]\n"
     ]
    },
    {
     "name": "stdout",
     "output_type": "stream",
     "text": [
      "Epoch = 6. Time index = 3. Threshold MC = 0.7. Threshold MD = 0.6\n",
      "RD = 878 NZ = 1569 NZA = 2034 pNZ = 0.178% pNZA = 0.231% AD = 55.96% ADA = 43.17% NO = 595 GSP = 54.96% NSP = 49.08%\n",
      "SI2 = -0.12 SI = -12.40 eGROI = 16.04% eROI = 1.85% eROI2 = 4.14% eROI3 = -1.81% mSpread = 0.0239%\n",
      "\n",
      "Getting extended results...\n"
     ]
    },
    {
     "name": "stderr",
     "output_type": "stream",
     "text": [
      "100%|█████████████████████████████████████████████████████████████████████████████████████████████████████████████████████████████████| 982/982 [00:00<00:00, 4119.06it/s]\n"
     ]
    },
    {
     "name": "stdout",
     "output_type": "stream",
     "text": [
      "Epoch = 6. Time index = mean. Threshold MC = 0.7. Threshold MD = 0.6\n",
      "RD = 441 NZ = 755 NZA = 983 pNZ = 0.086% pNZA = 0.112% AD = 58.41% ADA = 44.86% NO = 416 GSP = 56.49% NSP = 50.00%\n",
      "SI2 = 0.29 SI = -10.17 eGROI = 9.82% eROI = -0.14% eROI2 = 1.50% eROI3 = -2.66% mSpread = 0.0239%\n",
      "\n",
      "Getting extended results...\n"
     ]
    },
    {
     "name": "stderr",
     "output_type": "stream",
     "text": [
      "100%|█████████████████████████████████████████████████████████████████████████████████████████████████████████████████████████████████| 982/982 [00:00<00:00, 3701.58it/s]\n"
     ]
    },
    {
     "name": "stdout",
     "output_type": "stream",
     "text": [
      "Epoch = 6. Time index = mean. Threshold MC = 0.7. Threshold MD = 0.6\n",
      "RD = 441 NZ = 755 NZA = 983 pNZ = 0.086% pNZA = 0.112% AD = 58.41% ADA = 44.86% NO = 416 GSP = 56.49% NSP = 50.00%\n",
      "SI2 = 0.29 SI = -10.17 eGROI = 9.82% eROI = -0.14% eROI2 = 1.50% eROI3 = -2.66% mSpread = 0.0239%\n",
      "\n",
      "Getting extended results...\n"
     ]
    },
    {
     "name": "stderr",
     "output_type": "stream",
     "text": [
      "100%|█████████████████████████████████████████████████████████████████████████████████████████████████████████████████████████████████| 982/982 [00:00<00:00, 3673.93it/s]\n"
     ]
    },
    {
     "name": "stdout",
     "output_type": "stream",
     "text": [
      "Epoch = 6. Time index = mean. Threshold MC = 0.7. Threshold MD = 0.6\n",
      "RD = 441 NZ = 755 NZA = 983 pNZ = 0.086% pNZA = 0.112% AD = 58.41% ADA = 44.86% NO = 416 GSP = 56.49% NSP = 50.00%\n",
      "SI2 = 0.29 SI = -10.17 eGROI = 9.82% eROI = -0.14% eROI2 = 1.50% eROI3 = -2.66% mSpread = 0.0239%\n",
      "\n",
      "Getting extended results...\n"
     ]
    },
    {
     "name": "stderr",
     "output_type": "stream",
     "text": [
      "100%|█████████████████████████████████████████████████████████████████████████████████████████████████████████████████████████████████| 982/982 [00:00<00:00, 2862.25it/s]\n"
     ]
    },
    {
     "name": "stdout",
     "output_type": "stream",
     "text": [
      "Epoch = 6. Time index = mean. Threshold MC = 0.7. Threshold MD = 0.6\n",
      "RD = 441 NZ = 755 NZA = 983 pNZ = 0.086% pNZA = 0.112% AD = 58.41% ADA = 44.86% NO = 416 GSP = 56.49% NSP = 50.00%\n",
      "SI2 = 0.29 SI = -10.17 eGROI = 9.82% eROI = -0.14% eROI2 = 1.50% eROI3 = -2.66% mSpread = 0.0239%\n",
      "\n",
      "Getting extended results...\n"
     ]
    },
    {
     "name": "stderr",
     "output_type": "stream",
     "text": [
      "100%|█████████████████████████████████████████████████████████████████████████████████████████████████████████████████████████████████| 982/982 [00:00<00:00, 4068.68it/s]\n"
     ]
    },
    {
     "name": "stdout",
     "output_type": "stream",
     "text": [
      "Epoch = 6. Time index = mean. Threshold MC = 0.7. Threshold MD = 0.6\n",
      "RD = 441 NZ = 755 NZA = 983 pNZ = 0.086% pNZA = 0.112% AD = 58.41% ADA = 44.86% NO = 416 GSP = 56.49% NSP = 50.00%\n",
      "SI2 = 0.29 SI = -10.17 eGROI = 9.82% eROI = -0.14% eROI2 = 1.50% eROI3 = -2.66% mSpread = 0.0239%\n",
      "\n",
      "Getting extended results...\n"
     ]
    },
    {
     "name": "stderr",
     "output_type": "stream",
     "text": [
      "100%|█████████████████████████████████████████████████████████████████████████████████████████████████████████████████████████████████| 982/982 [00:00<00:00, 3922.77it/s]\n"
     ]
    },
    {
     "name": "stdout",
     "output_type": "stream",
     "text": [
      "Epoch = 6. Time index = mean. Threshold MC = 0.7. Threshold MD = 0.6\n",
      "RD = 441 NZ = 755 NZA = 983 pNZ = 0.086% pNZA = 0.112% AD = 58.41% ADA = 44.86% NO = 416 GSP = 56.49% NSP = 50.00%\n",
      "SI2 = 0.29 SI = -10.17 eGROI = 9.82% eROI = -0.14% eROI2 = 1.50% eROI3 = -2.66% mSpread = 0.0239%\n",
      "\n",
      "Getting extended results...\n"
     ]
    },
    {
     "name": "stderr",
     "output_type": "stream",
     "text": [
      "100%|█████████████████████████████████████████████████████████████████████████████████████████████████████████████████████████████████| 982/982 [00:00<00:00, 2837.50it/s]\n"
     ]
    },
    {
     "name": "stdout",
     "output_type": "stream",
     "text": [
      "Epoch = 6. Time index = mean. Threshold MC = 0.7. Threshold MD = 0.6\n",
      "RD = 441 NZ = 755 NZA = 983 pNZ = 0.086% pNZA = 0.112% AD = 58.41% ADA = 44.86% NO = 416 GSP = 56.49% NSP = 50.00%\n",
      "SI2 = 0.29 SI = -10.17 eGROI = 9.82% eROI = -0.14% eROI2 = 1.50% eROI3 = -2.66% mSpread = 0.0239%\n",
      "\n",
      "Getting extended results...\n"
     ]
    },
    {
     "name": "stderr",
     "output_type": "stream",
     "text": [
      "100%|█████████████████████████████████████████████████████████████████████████████████████████████████████████████████████████████████| 982/982 [00:00<00:00, 3106.05it/s]\n"
     ]
    },
    {
     "name": "stdout",
     "output_type": "stream",
     "text": [
      "Epoch = 6. Time index = mean. Threshold MC = 0.7. Threshold MD = 0.6\n",
      "RD = 441 NZ = 755 NZA = 983 pNZ = 0.086% pNZA = 0.112% AD = 58.41% ADA = 44.86% NO = 416 GSP = 56.49% NSP = 50.00%\n",
      "SI2 = 0.29 SI = -10.17 eGROI = 9.82% eROI = -0.14% eROI2 = 1.50% eROI3 = -2.66% mSpread = 0.0239%\n",
      "\n",
      "Getting extended results...\n"
     ]
    },
    {
     "name": "stderr",
     "output_type": "stream",
     "text": [
      "100%|█████████████████████████████████████████████████████████████████████████████████████████████████████████████████████████████████| 982/982 [00:00<00:00, 2965.72it/s]\n"
     ]
    },
    {
     "name": "stdout",
     "output_type": "stream",
     "text": [
      "Epoch = 6. Time index = mean. Threshold MC = 0.7. Threshold MD = 0.6\n",
      "RD = 441 NZ = 755 NZA = 983 pNZ = 0.086% pNZA = 0.112% AD = 58.41% ADA = 44.86% NO = 416 GSP = 56.49% NSP = 50.00%\n",
      "SI2 = 0.29 SI = -10.17 eGROI = 9.82% eROI = -0.14% eROI2 = 1.50% eROI3 = -2.66% mSpread = 0.0239%\n",
      "\n",
      "Getting extended results...\n"
     ]
    },
    {
     "name": "stderr",
     "output_type": "stream",
     "text": [
      "100%|█████████████████████████████████████████████████████████████████████████████████████████████████████████████████████████████████| 982/982 [00:00<00:00, 2550.81it/s]\n"
     ]
    },
    {
     "name": "stdout",
     "output_type": "stream",
     "text": [
      "Epoch = 6. Time index = mean. Threshold MC = 0.7. Threshold MD = 0.6\n",
      "RD = 441 NZ = 755 NZA = 983 pNZ = 0.086% pNZA = 0.112% AD = 58.41% ADA = 44.86% NO = 416 GSP = 56.49% NSP = 50.00%\n",
      "SI2 = 0.29 SI = -10.17 eGROI = 9.82% eROI = -0.14% eROI2 = 1.50% eROI3 = -2.66% mSpread = 0.0239%\n",
      "\n",
      "Getting extended results...\n"
     ]
    },
    {
     "name": "stderr",
     "output_type": "stream",
     "text": [
      "100%|█████████████████████████████████████████████████████████████████████████████████████████████████████████████████████████████████| 982/982 [00:00<00:00, 2653.94it/s]\n"
     ]
    },
    {
     "name": "stdout",
     "output_type": "stream",
     "text": [
      "Epoch = 6. Time index = mean. Threshold MC = 0.7. Threshold MD = 0.6\n",
      "RD = 441 NZ = 755 NZA = 983 pNZ = 0.086% pNZA = 0.112% AD = 58.41% ADA = 44.86% NO = 416 GSP = 56.49% NSP = 50.00%\n",
      "SI2 = 0.29 SI = -10.17 eGROI = 9.82% eROI = -0.14% eROI2 = 1.50% eROI3 = -2.66% mSpread = 0.0239%\n",
      "\n",
      "Getting extended results...\n"
     ]
    },
    {
     "name": "stderr",
     "output_type": "stream",
     "text": [
      "100%|█████████████████████████████████████████████████████████████████████████████████████████████████████████████████████████████████| 982/982 [00:00<00:00, 3846.13it/s]\n"
     ]
    },
    {
     "name": "stdout",
     "output_type": "stream",
     "text": [
      "Epoch = 6. Time index = mean. Threshold MC = 0.7. Threshold MD = 0.6\n",
      "RD = 441 NZ = 755 NZA = 983 pNZ = 0.086% pNZA = 0.112% AD = 58.41% ADA = 44.86% NO = 416 GSP = 56.49% NSP = 50.00%\n",
      "SI2 = 0.29 SI = -10.17 eGROI = 9.82% eROI = -0.14% eROI2 = 1.50% eROI3 = -2.66% mSpread = 0.0239%\n",
      "\n",
      "Best eGROI = 62.21 t_index 2 thr_mc 0.7 thr_md 0.5 epoch 6 in 1577 GSP 56.69 ADA 39.35 AD 51.91\n",
      "Best eROI = 26.43 t_index 3 thr_mc 0.7 thr_md 0.5 epoch 6 in 1490 GSP 56.44 ADA 39.16 AD 51.85\n",
      "Best eROI.5 = 54.33 t_index 2 thr_mc 0.7 thr_md 0.5 epoch 6 in 1577 GSP 56.69 ADA 39.35 AD 51.91\n",
      "Best eROI1 = 46.44 t_index 2 thr_mc 0.7 thr_md 0.5 epoch 6 in 1577 GSP 56.69 ADA 39.35 AD 51.91\n",
      "Best eROI1.5 = 38.56 t_index 2 thr_mc 0.7 thr_md 0.5 epoch 6 in 1577 GSP 56.69 ADA 39.35 AD 51.91\n",
      "Best eROI2 = 30.67 t_index 2 thr_mc 0.7 thr_md 0.5 epoch 6 in 1577 GSP 56.69 ADA 39.35 AD 51.91\n",
      "Best eROI3 = 21.41 t_index 1 thr_mc 0.8 thr_md 0.5 epoch 6 in 331 GSP 58.01 ADA 43.11 AD 52.07\n",
      "Best eROI4 = 18.10 t_index 1 thr_mc 0.8 thr_md 0.5 epoch 6 in 331 GSP 58.01 ADA 43.11 AD 52.07\n",
      "Best eROI5 = 14.79 t_index 1 thr_mc 0.8 thr_md 0.5 epoch 6 in 331 GSP 58.01 ADA 43.11 AD 52.07\n",
      "Best SI = 11.91 t_index 2 thr_mc 0.8 thr_md 0.6 epoch 6 in 153 GSP 63.40 ADA 52.20 AD 59.21\n",
      "Best SI.5 = 149.49 t_index 2 thr_mc 0.5 thr_md 0.6 epoch 6 in 3467 GSP 59.19 ADA 36.51 AD 57.58\n",
      "Best SI1 = 102.49 t_index 2 thr_mc 0.5 thr_md 0.6 epoch 6 in 3467 GSP 59.19 ADA 36.51 AD 57.58\n",
      "Best SI1.5 = 33.49 t_index 2 thr_mc 0.5 thr_md 0.6 epoch 6 in 3467 GSP 59.19 ADA 36.51 AD 57.58\n",
      "Best SI2 = 11.91 t_index 2 thr_mc 0.8 thr_md 0.6 epoch 6 in 153 GSP 63.40 ADA 52.20 AD 59.21\n",
      "Best SI3 = 10.91 t_index 2 thr_mc 0.8 thr_md 0.6 epoch 6 in 153 GSP 63.40 ADA 52.20 AD 59.21\n",
      "Best SI4 = 8.91 t_index 2 thr_mc 0.8 thr_md 0.6 epoch 6 in 153 GSP 63.40 ADA 52.20 AD 59.21\n",
      "Best SI5 = 7.91 t_index 2 thr_mc 0.8 thr_md 0.6 epoch 6 in 153 GSP 63.40 ADA 52.20 AD 59.21\n",
      "Best 99eGROI = 62.41 t_index 3 thr_mc 0.5 thr_md 0.6 epoch 6 in 3796 GSP 58.48 ADA 36.38 AD 57.37\n",
      "Best 99eROI = 29.29 t_index 1 thr_mc 0.8 thr_md 0.5 epoch 6 in 331 GSP 58.01 ADA 43.11 AD 52.07\n",
      "Best 99eROI.5 = 43.80 t_index 3 thr_mc 0.5 thr_md 0.6 epoch 6 in 3796 GSP 58.48 ADA 36.38 AD 57.37\n",
      "Best 99eROI1 = 34.22 t_index 1 thr_mc 0.8 thr_md 0.5 epoch 6 in 331 GSP 58.01 ADA 43.11 AD 52.07\n",
      "Best 99eROI1.5 = 32.60 t_index 1 thr_mc 0.8 thr_md 0.5 epoch 6 in 331 GSP 58.01 ADA 43.11 AD 52.07\n",
      "Best 99eROI2 = 30.97 t_index 1 thr_mc 0.8 thr_md 0.5 epoch 6 in 331 GSP 58.01 ADA 43.11 AD 52.07\n",
      "Best 99eROI3 = 27.72 t_index 1 thr_mc 0.8 thr_md 0.5 epoch 6 in 331 GSP 58.01 ADA 43.11 AD 52.07\n",
      "Best 99eROI4 = 24.47 t_index 1 thr_mc 0.8 thr_md 0.5 epoch 6 in 331 GSP 58.01 ADA 43.11 AD 52.07\n",
      "Best 99eROI5 = 21.22 t_index 1 thr_mc 0.8 thr_md 0.5 epoch 6 in 331 GSP 58.01 ADA 43.11 AD 52.07\n",
      "\n",
      "The very best:\n",
      "Best eGROI = 107.37 t_index 2 thr_mc 0.5 thr_md 0.6 epoch 14 in 5603 GSP 59.16 ADA 37.40 AD 57.47\n",
      "Best eROI = 30.31 t_index 3 thr_mc 0.7 thr_md 0.5 epoch 5 in 1499 GSP 57.51 ADA 38.79 AD 51.43\n",
      "Best eROI.5 = 79.36 t_index 2 thr_mc 0.5 thr_md 0.6 epoch 14 in 5603 GSP 59.16 ADA 37.40 AD 57.47\n",
      "Best eROI1 = 52.65 t_index 3 thr_mc 0.5 thr_md 0.6 epoch 13 in 5249 GSP 59.19 ADA 37.62 AD 57.70\n",
      "Best eROI1.5 = 41.52 t_index 3 thr_mc 0.7 thr_md 0.5 epoch 5 in 1499 GSP 57.51 ADA 38.79 AD 51.43\n",
      "Best eROI2 = 34.03 t_index 3 thr_mc 0.7 thr_md 0.5 epoch 5 in 1499 GSP 57.51 ADA 38.79 AD 51.43\n",
      "Best eROI3 = 25.11 t_index 0 thr_mc 0.8 thr_md 0.5 epoch 5 in 310 GSP 58.39 ADA 43.84 AD 51.94\n",
      "Best eROI4 = 22.44 t_index 0 thr_mc 0.8 thr_md 0.5 epoch 1 in 245 GSP 56.33 ADA 42.04 AD 48.92\n",
      "Best eROI5 = 20.25 t_index 0 thr_mc 0.6 thr_md 0.7 epoch 14 in 148 GSP 64.86 ADA 53.31 AD 70.98\n",
      "Best SI = 19.99 t_index 2 thr_mc 0.6 thr_md 0.7 epoch 10 in 317 GSP 62.78 ADA 50.27 AD 63.01\n",
      "Best SI.5 = 248.41 t_index 2 thr_mc 0.5 thr_md 0.6 epoch 14 in 5603 GSP 59.16 ADA 37.40 AD 57.47\n",
      "Best SI1 = 156.03 t_index 3 thr_mc 0.5 thr_md 0.6 epoch 13 in 5249 GSP 59.19 ADA 37.62 AD 57.70\n",
      "Best SI1.5 = 84.18 t_index 3 thr_mc 0.6 thr_md 0.6 epoch 12 in 2894 GSP 59.92 ADA 40.73 AD 57.38\n",
      "Best SI2 = 33.18 t_index 3 thr_mc 0.6 thr_md 0.6 epoch 12 in 2894 GSP 59.92 ADA 40.73 AD 57.38\n",
      "Best SI3 = 18.99 t_index 2 thr_mc 0.6 thr_md 0.7 epoch 10 in 317 GSP 62.78 ADA 50.27 AD 63.01\n",
      "Best SI4 = 12.33 t_index 2 thr_mc 0.7 thr_md 0.7 epoch 10 in 239 GSP 62.76 ADA 50.89 AD 62.15\n",
      "Best SI5 = 8.33 t_index 2 thr_mc 0.7 thr_md 0.7 epoch 10 in 239 GSP 62.76 ADA 50.89 AD 62.15\n",
      "Best 99eGROI = 101.86 t_index 2 thr_mc 0.5 thr_md 0.6 epoch 14 in 5603 GSP 59.16 ADA 37.40 AD 57.47\n",
      "Best 99eROI = 29.77 t_index 0 thr_mc 0.8 thr_md 0.5 epoch 1 in 245 GSP 56.33 ADA 42.04 AD 48.92\n",
      "Best 99eROI.5 = 74.59 t_index 3 thr_mc 0.5 thr_md 0.6 epoch 13 in 5249 GSP 59.19 ADA 37.62 AD 57.70\n",
      "Best 99eROI1 = 48.86 t_index 3 thr_mc 0.5 thr_md 0.6 epoch 13 in 5249 GSP 59.19 ADA 37.62 AD 57.70\n",
      "Best 99eROI1.5 = 32.68 t_index 0 thr_mc 0.8 thr_md 0.5 epoch 1 in 245 GSP 56.33 ADA 42.04 AD 48.92\n",
      "Best 99eROI2 = 31.48 t_index 0 thr_mc 0.8 thr_md 0.5 epoch 1 in 245 GSP 56.33 ADA 42.04 AD 48.92\n",
      "Best 99eROI3 = 29.07 t_index 0 thr_mc 0.8 thr_md 0.5 epoch 1 in 245 GSP 56.33 ADA 42.04 AD 48.92\n",
      "Best 99eROI4 = 26.66 t_index 0 thr_mc 0.8 thr_md 0.5 epoch 1 in 245 GSP 56.33 ADA 42.04 AD 48.92\n",
      "Best 99eROI5 = 24.25 t_index 0 thr_mc 0.8 thr_md 0.5 epoch 1 in 245 GSP 56.33 ADA 42.04 AD 48.92\n",
      "Time=19.71 secs\n",
      "INFO:tensorflow:Restoring parameters from C:/Users/mgutierrez/root/Projects/SDC/py/RNN/weights/WRNN01010k4K5A/000007/000007\n",
      "Parameters loaded. Epoch 7\n",
      "Epoch 7 of 14. Getting output...\n"
     ]
    },
    {
     "name": "stderr",
     "output_type": "stream",
     "text": [
      "100%|███████████████████████████████████████████████████████████████████████████████████████████████████████████████████████████████████| 859/859 [01:13<00:00, 11.68it/s]\n"
     ]
    },
    {
     "name": "stdout",
     "output_type": "stream",
     "text": [
      "J_test = 1.590294\n",
      "Epoch 7, J_train = 1.6421787725762023, J_test = 1.590293641209741\n",
      "Getting extended results...\n"
     ]
    },
    {
     "name": "stderr",
     "output_type": "stream",
     "text": [
      "100%|█████████████████████████████████████████████████████████████████████████████████████████████████████████████████████████████████| 420/420 [00:00<00:00, 2716.90it/s]\n"
     ]
    },
    {
     "name": "stdout",
     "output_type": "stream",
     "text": [
      "Epoch = 7. Time index = 0. Threshold MC = 0.7. Threshold MD = 0.6\n",
      "RD = 188 NZ = 315 NZA = 421 pNZ = 0.036% pNZA = 0.048% AD = 59.68% ADA = 44.66% NO = 280 GSP = 54.29% NSP = 47.50%\n",
      "SI2 = 0.00 SI = -8.76 eGROI = 2.88% eROI = -4.53% eROI2 = -2.72% eROI3 = -5.52% mSpread = 0.0265%\n",
      "\n",
      "Getting extended results...\n"
     ]
    },
    {
     "name": "stderr",
     "output_type": "stream",
     "text": [
      "100%|███████████████████████████████████████████████████████████████████████████████████████████████████████████████████████████████| 1777/1777 [00:00<00:00, 3221.96it/s]\n"
     ]
    },
    {
     "name": "stdout",
     "output_type": "stream",
     "text": [
      "Epoch = 7. Time index = 1. Threshold MC = 0.7. Threshold MD = 0.6\n",
      "RD = 780 NZ = 1394 NZA = 1778 pNZ = 0.159% pNZA = 0.202% AD = 55.95% ADA = 43.87% NO = 692 GSP = 55.06% NSP = 49.71%\n",
      "SI2 = 0.23 SI = -13.21 eGROI = 21.89% eROI = 4.94% eROI2 = 8.05% eROI3 = 1.13% mSpread = 0.0245%\n",
      "\n",
      "Getting extended results...\n"
     ]
    },
    {
     "name": "stderr",
     "output_type": "stream",
     "text": [
      "100%|███████████████████████████████████████████████████████████████████████████████████████████████████████████████████████████████| 2553/2553 [00:00<00:00, 4554.55it/s]\n"
     ]
    },
    {
     "name": "stdout",
     "output_type": "stream",
     "text": [
      "Epoch = 7. Time index = 2. Threshold MC = 0.7. Threshold MD = 0.6\n",
      "RD = 1119 NZ = 1985 NZA = 2554 pNZ = 0.226% pNZA = 0.291% AD = 56.37% ADA = 43.81% NO = 732 GSP = 53.96% NSP = 48.50%\n",
      "SI2 = -0.15 SI = -13.92 eGROI = 12.82% eROI = -5.20% eROI2 = -1.82% eROI3 = -9.14% mSpread = 0.0246%\n",
      "\n",
      "Getting extended results...\n"
     ]
    },
    {
     "name": "stderr",
     "output_type": "stream",
     "text": [
      "100%|███████████████████████████████████████████████████████████████████████████████████████████████████████████████████████████████| 2997/2997 [00:00<00:00, 4001.30it/s]\n"
     ]
    },
    {
     "name": "stdout",
     "output_type": "stream",
     "text": [
      "Epoch = 7. Time index = 3. Threshold MC = 0.7. Threshold MD = 0.6\n",
      "RD = 1335 NZ = 2347 NZA = 2998 pNZ = 0.267% pNZA = 0.341% AD = 56.88% ADA = 44.53% NO = 711 GSP = 54.01% NSP = 48.24%\n",
      "SI2 = -0.49 SI = -13.78 eGROI = 22.66% eROI = 5.67% eROI2 = 8.44% eROI3 = 1.33% mSpread = 0.0239%\n",
      "\n",
      "Getting extended results...\n"
     ]
    },
    {
     "name": "stderr",
     "output_type": "stream",
     "text": [
      "100%|███████████████████████████████████████████████████████████████████████████████████████████████████████████████████████████████| 1735/1735 [00:00<00:00, 3757.27it/s]\n"
     ]
    },
    {
     "name": "stdout",
     "output_type": "stream",
     "text": [
      "Epoch = 7. Time index = mean. Threshold MC = 0.7. Threshold MD = 0.6\n",
      "RD = 779 NZ = 1358 NZA = 1736 pNZ = 0.154% pNZA = 0.197% AD = 57.36% ADA = 44.87% NO = 608 GSP = 56.74% NSP = 50.66%\n",
      "SI2 = 0.32 SI = -12.15 eGROI = 15.21% eROI = 0.45% eROI2 = 3.05% eROI3 = -3.03% mSpread = 0.0243%\n",
      "\n",
      "Getting extended results...\n"
     ]
    },
    {
     "name": "stderr",
     "output_type": "stream",
     "text": [
      "100%|███████████████████████████████████████████████████████████████████████████████████████████████████████████████████████████████| 1735/1735 [00:00<00:00, 3245.32it/s]\n"
     ]
    },
    {
     "name": "stdout",
     "output_type": "stream",
     "text": [
      "Epoch = 7. Time index = mean. Threshold MC = 0.7. Threshold MD = 0.6\n",
      "RD = 779 NZ = 1358 NZA = 1736 pNZ = 0.154% pNZA = 0.197% AD = 57.36% ADA = 44.87% NO = 608 GSP = 56.74% NSP = 50.66%\n",
      "SI2 = 0.32 SI = -12.15 eGROI = 15.21% eROI = 0.45% eROI2 = 3.05% eROI3 = -3.03% mSpread = 0.0243%\n",
      "\n",
      "Getting extended results...\n"
     ]
    },
    {
     "name": "stderr",
     "output_type": "stream",
     "text": [
      "100%|███████████████████████████████████████████████████████████████████████████████████████████████████████████████████████████████| 1735/1735 [00:00<00:00, 3693.44it/s]\n"
     ]
    },
    {
     "name": "stdout",
     "output_type": "stream",
     "text": [
      "Epoch = 7. Time index = mean. Threshold MC = 0.7. Threshold MD = 0.6\n",
      "RD = 779 NZ = 1358 NZA = 1736 pNZ = 0.154% pNZA = 0.197% AD = 57.36% ADA = 44.87% NO = 608 GSP = 56.74% NSP = 50.66%\n",
      "SI2 = 0.32 SI = -12.15 eGROI = 15.21% eROI = 0.45% eROI2 = 3.05% eROI3 = -3.03% mSpread = 0.0243%\n",
      "\n",
      "Getting extended results...\n"
     ]
    },
    {
     "name": "stderr",
     "output_type": "stream",
     "text": [
      "100%|███████████████████████████████████████████████████████████████████████████████████████████████████████████████████████████████| 1735/1735 [00:00<00:00, 3391.07it/s]\n"
     ]
    },
    {
     "name": "stdout",
     "output_type": "stream",
     "text": [
      "Epoch = 7. Time index = mean. Threshold MC = 0.7. Threshold MD = 0.6\n",
      "RD = 779 NZ = 1358 NZA = 1736 pNZ = 0.154% pNZA = 0.197% AD = 57.36% ADA = 44.87% NO = 608 GSP = 56.74% NSP = 50.66%\n",
      "SI2 = 0.32 SI = -12.15 eGROI = 15.21% eROI = 0.45% eROI2 = 3.05% eROI3 = -3.03% mSpread = 0.0243%\n",
      "\n",
      "Getting extended results...\n"
     ]
    },
    {
     "name": "stderr",
     "output_type": "stream",
     "text": [
      "100%|███████████████████████████████████████████████████████████████████████████████████████████████████████████████████████████████| 1735/1735 [00:00<00:00, 3586.83it/s]\n"
     ]
    },
    {
     "name": "stdout",
     "output_type": "stream",
     "text": [
      "Epoch = 7. Time index = mean. Threshold MC = 0.7. Threshold MD = 0.6\n",
      "RD = 779 NZ = 1358 NZA = 1736 pNZ = 0.154% pNZA = 0.197% AD = 57.36% ADA = 44.87% NO = 608 GSP = 56.74% NSP = 50.66%\n",
      "SI2 = 0.32 SI = -12.15 eGROI = 15.21% eROI = 0.45% eROI2 = 3.05% eROI3 = -3.03% mSpread = 0.0243%\n",
      "\n",
      "Getting extended results...\n"
     ]
    },
    {
     "name": "stderr",
     "output_type": "stream",
     "text": [
      "100%|███████████████████████████████████████████████████████████████████████████████████████████████████████████████████████████████| 1735/1735 [00:00<00:00, 3062.70it/s]\n"
     ]
    },
    {
     "name": "stdout",
     "output_type": "stream",
     "text": [
      "Epoch = 7. Time index = mean. Threshold MC = 0.7. Threshold MD = 0.6\n",
      "RD = 779 NZ = 1358 NZA = 1736 pNZ = 0.154% pNZA = 0.197% AD = 57.36% ADA = 44.87% NO = 608 GSP = 56.74% NSP = 50.66%\n",
      "SI2 = 0.32 SI = -12.15 eGROI = 15.21% eROI = 0.45% eROI2 = 3.05% eROI3 = -3.03% mSpread = 0.0243%\n",
      "\n",
      "Getting extended results...\n"
     ]
    },
    {
     "name": "stderr",
     "output_type": "stream",
     "text": [
      "100%|███████████████████████████████████████████████████████████████████████████████████████████████████████████████████████████████| 1735/1735 [00:00<00:00, 2884.93it/s]\n"
     ]
    },
    {
     "name": "stdout",
     "output_type": "stream",
     "text": [
      "Epoch = 7. Time index = mean. Threshold MC = 0.7. Threshold MD = 0.6\n",
      "RD = 779 NZ = 1358 NZA = 1736 pNZ = 0.154% pNZA = 0.197% AD = 57.36% ADA = 44.87% NO = 608 GSP = 56.74% NSP = 50.66%\n",
      "SI2 = 0.32 SI = -12.15 eGROI = 15.21% eROI = 0.45% eROI2 = 3.05% eROI3 = -3.03% mSpread = 0.0243%\n",
      "\n",
      "Getting extended results...\n"
     ]
    },
    {
     "name": "stderr",
     "output_type": "stream",
     "text": [
      "100%|███████████████████████████████████████████████████████████████████████████████████████████████████████████████████████████████| 1735/1735 [00:00<00:00, 3891.76it/s]\n"
     ]
    },
    {
     "name": "stdout",
     "output_type": "stream",
     "text": [
      "Epoch = 7. Time index = mean. Threshold MC = 0.7. Threshold MD = 0.6\n",
      "RD = 779 NZ = 1358 NZA = 1736 pNZ = 0.154% pNZA = 0.197% AD = 57.36% ADA = 44.87% NO = 608 GSP = 56.74% NSP = 50.66%\n",
      "SI2 = 0.32 SI = -12.15 eGROI = 15.21% eROI = 0.45% eROI2 = 3.05% eROI3 = -3.03% mSpread = 0.0243%\n",
      "\n",
      "Getting extended results...\n"
     ]
    },
    {
     "name": "stderr",
     "output_type": "stream",
     "text": [
      "100%|███████████████████████████████████████████████████████████████████████████████████████████████████████████████████████████████| 1735/1735 [00:00<00:00, 3883.13it/s]\n"
     ]
    },
    {
     "name": "stdout",
     "output_type": "stream",
     "text": [
      "Epoch = 7. Time index = mean. Threshold MC = 0.7. Threshold MD = 0.6\n",
      "RD = 779 NZ = 1358 NZA = 1736 pNZ = 0.154% pNZA = 0.197% AD = 57.36% ADA = 44.87% NO = 608 GSP = 56.74% NSP = 50.66%\n",
      "SI2 = 0.32 SI = -12.15 eGROI = 15.21% eROI = 0.45% eROI2 = 3.05% eROI3 = -3.03% mSpread = 0.0243%\n",
      "\n",
      "Getting extended results...\n"
     ]
    },
    {
     "name": "stderr",
     "output_type": "stream",
     "text": [
      "100%|███████████████████████████████████████████████████████████████████████████████████████████████████████████████████████████████| 1735/1735 [00:00<00:00, 3848.71it/s]\n"
     ]
    },
    {
     "name": "stdout",
     "output_type": "stream",
     "text": [
      "Epoch = 7. Time index = mean. Threshold MC = 0.7. Threshold MD = 0.6\n",
      "RD = 779 NZ = 1358 NZA = 1736 pNZ = 0.154% pNZA = 0.197% AD = 57.36% ADA = 44.87% NO = 608 GSP = 56.74% NSP = 50.66%\n",
      "SI2 = 0.32 SI = -12.15 eGROI = 15.21% eROI = 0.45% eROI2 = 3.05% eROI3 = -3.03% mSpread = 0.0243%\n",
      "\n",
      "Getting extended results...\n"
     ]
    },
    {
     "name": "stderr",
     "output_type": "stream",
     "text": [
      "100%|███████████████████████████████████████████████████████████████████████████████████████████████████████████████████████████████| 1735/1735 [00:00<00:00, 3550.23it/s]\n"
     ]
    },
    {
     "name": "stdout",
     "output_type": "stream",
     "text": [
      "Epoch = 7. Time index = mean. Threshold MC = 0.7. Threshold MD = 0.6\n",
      "RD = 779 NZ = 1358 NZA = 1736 pNZ = 0.154% pNZA = 0.197% AD = 57.36% ADA = 44.87% NO = 608 GSP = 56.74% NSP = 50.66%\n",
      "SI2 = 0.32 SI = -12.15 eGROI = 15.21% eROI = 0.45% eROI2 = 3.05% eROI3 = -3.03% mSpread = 0.0243%\n",
      "\n",
      "Getting extended results...\n"
     ]
    },
    {
     "name": "stderr",
     "output_type": "stream",
     "text": [
      "100%|███████████████████████████████████████████████████████████████████████████████████████████████████████████████████████████████| 1735/1735 [00:00<00:00, 3953.66it/s]\n"
     ]
    },
    {
     "name": "stdout",
     "output_type": "stream",
     "text": [
      "Epoch = 7. Time index = mean. Threshold MC = 0.7. Threshold MD = 0.6\n",
      "RD = 779 NZ = 1358 NZA = 1736 pNZ = 0.154% pNZA = 0.197% AD = 57.36% ADA = 44.87% NO = 608 GSP = 56.74% NSP = 50.66%\n",
      "SI2 = 0.32 SI = -12.15 eGROI = 15.21% eROI = 0.45% eROI2 = 3.05% eROI3 = -3.03% mSpread = 0.0243%\n",
      "\n",
      "Getting extended results...\n"
     ]
    },
    {
     "name": "stderr",
     "output_type": "stream",
     "text": [
      "100%|███████████████████████████████████████████████████████████████████████████████████████████████████████████████████████████████| 1735/1735 [00:00<00:00, 3724.91it/s]\n"
     ]
    },
    {
     "name": "stdout",
     "output_type": "stream",
     "text": [
      "Epoch = 7. Time index = mean. Threshold MC = 0.7. Threshold MD = 0.6\n",
      "RD = 779 NZ = 1358 NZA = 1736 pNZ = 0.154% pNZA = 0.197% AD = 57.36% ADA = 44.87% NO = 608 GSP = 56.74% NSP = 50.66%\n",
      "SI2 = 0.32 SI = -12.15 eGROI = 15.21% eROI = 0.45% eROI2 = 3.05% eROI3 = -3.03% mSpread = 0.0243%\n",
      "\n",
      "Best eGROI = 81.68 t_index 3 thr_mc 0.5 thr_md 0.6 epoch 7 in 3937 GSP 58.93 ADA 37.41 AD 58.25\n",
      "Best eROI = 25.41 t_index 3 thr_mc 0.7 thr_md 0.5 epoch 7 in 1520 GSP 56.84 ADA 39.68 AD 52.59\n",
      "Best eROI.5 = 62.00 t_index 3 thr_mc 0.5 thr_md 0.6 epoch 7 in 3937 GSP 58.93 ADA 37.41 AD 58.25\n",
      "Best eROI1 = 44.83 t_index 3 thr_mc 0.7 thr_md 0.5 epoch 7 in 1520 GSP 56.84 ADA 39.68 AD 52.59\n",
      "Best eROI1.5 = 37.23 t_index 3 thr_mc 0.7 thr_md 0.5 epoch 7 in 1520 GSP 56.84 ADA 39.68 AD 52.59\n",
      "Best eROI2 = 29.63 t_index 3 thr_mc 0.7 thr_md 0.5 epoch 7 in 1520 GSP 56.84 ADA 39.68 AD 52.59\n",
      "Best eROI3 = 17.33 t_index 3 thr_mc 0.8 thr_md 0.6 epoch 7 in 224 GSP 57.14 ADA 48.37 AD 56.21\n",
      "Best eROI4 = 15.09 t_index 3 thr_mc 0.8 thr_md 0.6 epoch 7 in 224 GSP 57.14 ADA 48.37 AD 56.21\n",
      "Best eROI5 = 12.85 t_index 3 thr_mc 0.8 thr_md 0.6 epoch 7 in 224 GSP 57.14 ADA 48.37 AD 56.21\n",
      "Best SI = 4.28 t_index 3 thr_mc 0.8 thr_md 0.6 epoch 7 in 224 GSP 57.14 ADA 48.37 AD 56.21\n",
      "Best SI.5 = 167.39 t_index 3 thr_mc 0.5 thr_md 0.6 epoch 7 in 3937 GSP 58.93 ADA 37.41 AD 58.25\n",
      "Best SI1 = 108.39 t_index 3 thr_mc 0.5 thr_md 0.6 epoch 7 in 3937 GSP 58.93 ADA 37.41 AD 58.25\n",
      "Best SI1.5 = 42.89 t_index 3 thr_mc 0.6 thr_md 0.6 epoch 7 in 2287 GSP 58.90 ADA 40.04 AD 57.28\n",
      "Best SI2 = 7.82 t_index 3 thr_mc 0.5 thr_md 0.7 epoch 7 in 106 GSP 71.70 ADA 45.59 AD 81.58\n",
      "Best SI3 = 2.28 t_index 3 thr_mc 0.8 thr_md 0.6 epoch 7 in 224 GSP 57.14 ADA 48.37 AD 56.21\n",
      "Best SI4 = 0.81 t_index 3 thr_mc 0.6 thr_md 0.7 epoch 7 in 23 GSP 73.91 ADA 48.28 AD 63.64\n",
      "Best SI5 = 0.81 t_index 3 thr_mc 0.6 thr_md 0.7 epoch 7 in 23 GSP 73.91 ADA 48.28 AD 63.64\n",
      "Best 99eGROI = 75.20 t_index 3 thr_mc 0.5 thr_md 0.6 epoch 7 in 3937 GSP 58.93 ADA 37.41 AD 58.25\n",
      "Best 99eROI = 24.14 t_index 2 thr_mc 0.8 thr_md 0.5 epoch 7 in 293 GSP 55.29 ADA 43.15 AD 51.96\n",
      "Best 99eROI.5 = 55.90 t_index 3 thr_mc 0.5 thr_md 0.6 epoch 7 in 3937 GSP 58.93 ADA 37.41 AD 58.25\n",
      "Best 99eROI1 = 36.61 t_index 3 thr_mc 0.5 thr_md 0.6 epoch 7 in 3937 GSP 58.93 ADA 37.41 AD 58.25\n",
      "Best 99eROI1.5 = 27.21 t_index 2 thr_mc 0.8 thr_md 0.5 epoch 7 in 293 GSP 55.29 ADA 43.15 AD 51.96\n",
      "Best 99eROI2 = 25.76 t_index 2 thr_mc 0.8 thr_md 0.5 epoch 7 in 293 GSP 55.29 ADA 43.15 AD 51.96\n",
      "Best 99eROI3 = 22.87 t_index 2 thr_mc 0.8 thr_md 0.5 epoch 7 in 293 GSP 55.29 ADA 43.15 AD 51.96\n",
      "Best 99eROI4 = 19.98 t_index 2 thr_mc 0.8 thr_md 0.5 epoch 7 in 293 GSP 55.29 ADA 43.15 AD 51.96\n",
      "Best 99eROI5 = 17.09 t_index 2 thr_mc 0.8 thr_md 0.5 epoch 7 in 293 GSP 55.29 ADA 43.15 AD 51.96\n",
      "\n",
      "The very best:\n",
      "Best eGROI = 107.37 t_index 2 thr_mc 0.5 thr_md 0.6 epoch 14 in 5603 GSP 59.16 ADA 37.40 AD 57.47\n",
      "Best eROI = 30.31 t_index 3 thr_mc 0.7 thr_md 0.5 epoch 5 in 1499 GSP 57.51 ADA 38.79 AD 51.43\n",
      "Best eROI.5 = 79.36 t_index 2 thr_mc 0.5 thr_md 0.6 epoch 14 in 5603 GSP 59.16 ADA 37.40 AD 57.47\n",
      "Best eROI1 = 52.65 t_index 3 thr_mc 0.5 thr_md 0.6 epoch 13 in 5249 GSP 59.19 ADA 37.62 AD 57.70\n",
      "Best eROI1.5 = 41.52 t_index 3 thr_mc 0.7 thr_md 0.5 epoch 5 in 1499 GSP 57.51 ADA 38.79 AD 51.43\n",
      "Best eROI2 = 34.03 t_index 3 thr_mc 0.7 thr_md 0.5 epoch 5 in 1499 GSP 57.51 ADA 38.79 AD 51.43\n",
      "Best eROI3 = 25.11 t_index 0 thr_mc 0.8 thr_md 0.5 epoch 5 in 310 GSP 58.39 ADA 43.84 AD 51.94\n",
      "Best eROI4 = 22.44 t_index 0 thr_mc 0.8 thr_md 0.5 epoch 1 in 245 GSP 56.33 ADA 42.04 AD 48.92\n",
      "Best eROI5 = 20.25 t_index 0 thr_mc 0.6 thr_md 0.7 epoch 14 in 148 GSP 64.86 ADA 53.31 AD 70.98\n",
      "Best SI = 19.99 t_index 2 thr_mc 0.6 thr_md 0.7 epoch 10 in 317 GSP 62.78 ADA 50.27 AD 63.01\n",
      "Best SI.5 = 248.41 t_index 2 thr_mc 0.5 thr_md 0.6 epoch 14 in 5603 GSP 59.16 ADA 37.40 AD 57.47\n",
      "Best SI1 = 156.03 t_index 3 thr_mc 0.5 thr_md 0.6 epoch 13 in 5249 GSP 59.19 ADA 37.62 AD 57.70\n",
      "Best SI1.5 = 84.18 t_index 3 thr_mc 0.6 thr_md 0.6 epoch 12 in 2894 GSP 59.92 ADA 40.73 AD 57.38\n",
      "Best SI2 = 33.18 t_index 3 thr_mc 0.6 thr_md 0.6 epoch 12 in 2894 GSP 59.92 ADA 40.73 AD 57.38\n",
      "Best SI3 = 18.99 t_index 2 thr_mc 0.6 thr_md 0.7 epoch 10 in 317 GSP 62.78 ADA 50.27 AD 63.01\n",
      "Best SI4 = 12.33 t_index 2 thr_mc 0.7 thr_md 0.7 epoch 10 in 239 GSP 62.76 ADA 50.89 AD 62.15\n",
      "Best SI5 = 8.33 t_index 2 thr_mc 0.7 thr_md 0.7 epoch 10 in 239 GSP 62.76 ADA 50.89 AD 62.15\n",
      "Best 99eGROI = 101.86 t_index 2 thr_mc 0.5 thr_md 0.6 epoch 14 in 5603 GSP 59.16 ADA 37.40 AD 57.47\n",
      "Best 99eROI = 29.77 t_index 0 thr_mc 0.8 thr_md 0.5 epoch 1 in 245 GSP 56.33 ADA 42.04 AD 48.92\n",
      "Best 99eROI.5 = 74.59 t_index 3 thr_mc 0.5 thr_md 0.6 epoch 13 in 5249 GSP 59.19 ADA 37.62 AD 57.70\n",
      "Best 99eROI1 = 48.86 t_index 3 thr_mc 0.5 thr_md 0.6 epoch 13 in 5249 GSP 59.19 ADA 37.62 AD 57.70\n",
      "Best 99eROI1.5 = 32.68 t_index 0 thr_mc 0.8 thr_md 0.5 epoch 1 in 245 GSP 56.33 ADA 42.04 AD 48.92\n",
      "Best 99eROI2 = 31.48 t_index 0 thr_mc 0.8 thr_md 0.5 epoch 1 in 245 GSP 56.33 ADA 42.04 AD 48.92\n",
      "Best 99eROI3 = 29.07 t_index 0 thr_mc 0.8 thr_md 0.5 epoch 1 in 245 GSP 56.33 ADA 42.04 AD 48.92\n",
      "Best 99eROI4 = 26.66 t_index 0 thr_mc 0.8 thr_md 0.5 epoch 1 in 245 GSP 56.33 ADA 42.04 AD 48.92\n",
      "Best 99eROI5 = 24.25 t_index 0 thr_mc 0.8 thr_md 0.5 epoch 1 in 245 GSP 56.33 ADA 42.04 AD 48.92\n",
      "Time=23.83 secs\n",
      "INFO:tensorflow:Restoring parameters from C:/Users/mgutierrez/root/Projects/SDC/py/RNN/weights/WRNN01010k4K5A/000008/000008\n",
      "Parameters loaded. Epoch 8\n",
      "Epoch 8 of 14. Getting output...\n"
     ]
    },
    {
     "name": "stderr",
     "output_type": "stream",
     "text": [
      "100%|███████████████████████████████████████████████████████████████████████████████████████████████████████████████████████████████████| 859/859 [01:13<00:00, 11.75it/s]\n"
     ]
    },
    {
     "name": "stdout",
     "output_type": "stream",
     "text": [
      "J_test = 1.590152\n",
      "Epoch 8, J_train = 1.6415609131857358, J_test = 1.590152382850647\n",
      "Getting extended results...\n"
     ]
    },
    {
     "name": "stderr",
     "output_type": "stream",
     "text": [
      "100%|█████████████████████████████████████████████████████████████████████████████████████████████████████████████████████████████████| 854/854 [00:00<00:00, 3331.81it/s]\n"
     ]
    },
    {
     "name": "stdout",
     "output_type": "stream",
     "text": [
      "Epoch = 8. Time index = 0. Threshold MC = 0.7. Threshold MD = 0.6\n",
      "RD = 380 NZ = 647 NZA = 855 pNZ = 0.074% pNZA = 0.097% AD = 58.73% ADA = 44.44% NO = 447 GSP = 53.47% NSP = 46.98%\n",
      "SI2 = -0.90 SI = -11.19 eGROI = 14.93% eROI = 3.46% eROI2 = 5.99% eROI3 = 1.52% mSpread = 0.0257%\n",
      "\n",
      "Getting extended results...\n"
     ]
    },
    {
     "name": "stderr",
     "output_type": "stream",
     "text": [
      "100%|███████████████████████████████████████████████████████████████████████████████████████████████████████████████████████████████| 2555/2555 [00:00<00:00, 4227.12it/s]\n"
     ]
    },
    {
     "name": "stdout",
     "output_type": "stream",
     "text": [
      "Epoch = 8. Time index = 1. Threshold MC = 0.7. Threshold MD = 0.6\n",
      "RD = 1124 NZ = 1993 NZA = 2556 pNZ = 0.227% pNZA = 0.291% AD = 56.40% ADA = 43.97% NO = 844 GSP = 55.33% NSP = 49.41%\n",
      "SI2 = 0.21 SI = -14.68 eGROI = 25.19% eROI = 4.19% eROI2 = 8.31% eROI3 = -0.13% mSpread = 0.0249%\n",
      "\n",
      "Getting extended results...\n"
     ]
    },
    {
     "name": "stderr",
     "output_type": "stream",
     "text": [
      "100%|███████████████████████████████████████████████████████████████████████████████████████████████████████████████████████████████| 3356/3356 [00:00<00:00, 4421.52it/s]\n"
     ]
    },
    {
     "name": "stdout",
     "output_type": "stream",
     "text": [
      "Epoch = 8. Time index = 2. Threshold MC = 0.7. Threshold MD = 0.6\n",
      "RD = 1497 NZ = 2625 NZA = 3357 pNZ = 0.299% pNZA = 0.382% AD = 57.03% ADA = 44.59% NO = 816 GSP = 56.50% NSP = 51.35%\n",
      "SI2 = 1.47 SI = -13.88 eGROI = 33.39% eROI = 13.46% eROI2 = 17.07% eROI3 = 8.91% mSpread = 0.0244%\n",
      "\n",
      "Getting extended results...\n"
     ]
    },
    {
     "name": "stderr",
     "output_type": "stream",
     "text": [
      "100%|███████████████████████████████████████████████████████████████████████████████████████████████████████████████████████████████| 3876/3876 [00:00<00:00, 4643.15it/s]\n"
     ]
    },
    {
     "name": "stdout",
     "output_type": "stream",
     "text": [
      "Epoch = 8. Time index = 3. Threshold MC = 0.7. Threshold MD = 0.6\n",
      "RD = 1742 NZ = 3039 NZA = 3877 pNZ = 0.346% pNZA = 0.441% AD = 57.32% ADA = 44.93% NO = 800 GSP = 54.37% NSP = 49.12%\n",
      "SI2 = -0.14 SI = -14.37 eGROI = 21.54% eROI = 2.13% eROI2 = 5.54% eROI3 = -2.46% mSpread = 0.0243%\n",
      "\n",
      "Getting extended results...\n"
     ]
    },
    {
     "name": "stderr",
     "output_type": "stream",
     "text": [
      "100%|███████████████████████████████████████████████████████████████████████████████████████████████████████████████████████████████| 2502/2502 [00:00<00:00, 3988.33it/s]\n"
     ]
    },
    {
     "name": "stdout",
     "output_type": "stream",
     "text": [
      "Epoch = 8. Time index = mean. Threshold MC = 0.7. Threshold MD = 0.6\n",
      "RD = 1124 NZ = 1960 NZA = 2503 pNZ = 0.223% pNZA = 0.285% AD = 57.35% ADA = 44.91% NO = 729 GSP = 57.34% NSP = 50.62%\n",
      "SI2 = 0.63 SI = -13.31 eGROI = 19.50% eROI = 1.11% eROI2 = 4.92% eROI3 = -2.37% mSpread = 0.0252%\n",
      "\n",
      "Getting extended results...\n"
     ]
    },
    {
     "name": "stderr",
     "output_type": "stream",
     "text": [
      "100%|███████████████████████████████████████████████████████████████████████████████████████████████████████████████████████████████| 2502/2502 [00:00<00:00, 4487.74it/s]\n"
     ]
    },
    {
     "name": "stdout",
     "output_type": "stream",
     "text": [
      "Epoch = 8. Time index = mean. Threshold MC = 0.7. Threshold MD = 0.6\n",
      "RD = 1124 NZ = 1960 NZA = 2503 pNZ = 0.223% pNZA = 0.285% AD = 57.35% ADA = 44.91% NO = 729 GSP = 57.34% NSP = 50.62%\n",
      "SI2 = 0.63 SI = -13.31 eGROI = 19.50% eROI = 1.11% eROI2 = 4.92% eROI3 = -2.37% mSpread = 0.0252%\n",
      "\n",
      "Getting extended results...\n"
     ]
    },
    {
     "name": "stderr",
     "output_type": "stream",
     "text": [
      "100%|███████████████████████████████████████████████████████████████████████████████████████████████████████████████████████████████| 2502/2502 [00:00<00:00, 4577.84it/s]\n"
     ]
    },
    {
     "name": "stdout",
     "output_type": "stream",
     "text": [
      "Epoch = 8. Time index = mean. Threshold MC = 0.7. Threshold MD = 0.6\n",
      "RD = 1124 NZ = 1960 NZA = 2503 pNZ = 0.223% pNZA = 0.285% AD = 57.35% ADA = 44.91% NO = 729 GSP = 57.34% NSP = 50.62%\n",
      "SI2 = 0.63 SI = -13.31 eGROI = 19.50% eROI = 1.11% eROI2 = 4.92% eROI3 = -2.37% mSpread = 0.0252%\n",
      "\n",
      "Getting extended results...\n"
     ]
    },
    {
     "name": "stderr",
     "output_type": "stream",
     "text": [
      "100%|███████████████████████████████████████████████████████████████████████████████████████████████████████████████████████████████| 2502/2502 [00:00<00:00, 4105.80it/s]\n"
     ]
    },
    {
     "name": "stdout",
     "output_type": "stream",
     "text": [
      "Epoch = 8. Time index = mean. Threshold MC = 0.7. Threshold MD = 0.6\n",
      "RD = 1124 NZ = 1960 NZA = 2503 pNZ = 0.223% pNZA = 0.285% AD = 57.35% ADA = 44.91% NO = 729 GSP = 57.34% NSP = 50.62%\n",
      "SI2 = 0.63 SI = -13.31 eGROI = 19.50% eROI = 1.11% eROI2 = 4.92% eROI3 = -2.37% mSpread = 0.0252%\n",
      "\n",
      "Getting extended results...\n"
     ]
    },
    {
     "name": "stderr",
     "output_type": "stream",
     "text": [
      "100%|███████████████████████████████████████████████████████████████████████████████████████████████████████████████████████████████| 2502/2502 [00:00<00:00, 3022.48it/s]\n"
     ]
    },
    {
     "name": "stdout",
     "output_type": "stream",
     "text": [
      "Epoch = 8. Time index = mean. Threshold MC = 0.7. Threshold MD = 0.6\n",
      "RD = 1124 NZ = 1960 NZA = 2503 pNZ = 0.223% pNZA = 0.285% AD = 57.35% ADA = 44.91% NO = 729 GSP = 57.34% NSP = 50.62%\n",
      "SI2 = 0.63 SI = -13.31 eGROI = 19.50% eROI = 1.11% eROI2 = 4.92% eROI3 = -2.37% mSpread = 0.0252%\n",
      "\n",
      "Getting extended results...\n"
     ]
    },
    {
     "name": "stderr",
     "output_type": "stream",
     "text": [
      "100%|███████████████████████████████████████████████████████████████████████████████████████████████████████████████████████████████| 2502/2502 [00:00<00:00, 3187.62it/s]\n"
     ]
    },
    {
     "name": "stdout",
     "output_type": "stream",
     "text": [
      "Epoch = 8. Time index = mean. Threshold MC = 0.7. Threshold MD = 0.6\n",
      "RD = 1124 NZ = 1960 NZA = 2503 pNZ = 0.223% pNZA = 0.285% AD = 57.35% ADA = 44.91% NO = 729 GSP = 57.34% NSP = 50.62%\n",
      "SI2 = 0.63 SI = -13.31 eGROI = 19.50% eROI = 1.11% eROI2 = 4.92% eROI3 = -2.37% mSpread = 0.0252%\n",
      "\n",
      "Getting extended results...\n"
     ]
    },
    {
     "name": "stderr",
     "output_type": "stream",
     "text": [
      "100%|███████████████████████████████████████████████████████████████████████████████████████████████████████████████████████████████| 2502/2502 [00:00<00:00, 3783.80it/s]\n"
     ]
    },
    {
     "name": "stdout",
     "output_type": "stream",
     "text": [
      "Epoch = 8. Time index = mean. Threshold MC = 0.7. Threshold MD = 0.6\n",
      "RD = 1124 NZ = 1960 NZA = 2503 pNZ = 0.223% pNZA = 0.285% AD = 57.35% ADA = 44.91% NO = 729 GSP = 57.34% NSP = 50.62%\n",
      "SI2 = 0.63 SI = -13.31 eGROI = 19.50% eROI = 1.11% eROI2 = 4.92% eROI3 = -2.37% mSpread = 0.0252%\n",
      "\n",
      "Getting extended results...\n"
     ]
    },
    {
     "name": "stderr",
     "output_type": "stream",
     "text": [
      "100%|███████████████████████████████████████████████████████████████████████████████████████████████████████████████████████████████| 2502/2502 [00:00<00:00, 4039.45it/s]\n"
     ]
    },
    {
     "name": "stdout",
     "output_type": "stream",
     "text": [
      "Epoch = 8. Time index = mean. Threshold MC = 0.7. Threshold MD = 0.6\n",
      "RD = 1124 NZ = 1960 NZA = 2503 pNZ = 0.223% pNZA = 0.285% AD = 57.35% ADA = 44.91% NO = 729 GSP = 57.34% NSP = 50.62%\n",
      "SI2 = 0.63 SI = -13.31 eGROI = 19.50% eROI = 1.11% eROI2 = 4.92% eROI3 = -2.37% mSpread = 0.0252%\n",
      "\n",
      "Getting extended results...\n"
     ]
    },
    {
     "name": "stderr",
     "output_type": "stream",
     "text": [
      "100%|███████████████████████████████████████████████████████████████████████████████████████████████████████████████████████████████| 2502/2502 [00:00<00:00, 4216.22it/s]\n"
     ]
    },
    {
     "name": "stdout",
     "output_type": "stream",
     "text": [
      "Epoch = 8. Time index = mean. Threshold MC = 0.7. Threshold MD = 0.6\n",
      "RD = 1124 NZ = 1960 NZA = 2503 pNZ = 0.223% pNZA = 0.285% AD = 57.35% ADA = 44.91% NO = 729 GSP = 57.34% NSP = 50.62%\n",
      "SI2 = 0.63 SI = -13.31 eGROI = 19.50% eROI = 1.11% eROI2 = 4.92% eROI3 = -2.37% mSpread = 0.0252%\n",
      "\n",
      "Getting extended results...\n"
     ]
    },
    {
     "name": "stderr",
     "output_type": "stream",
     "text": [
      "100%|███████████████████████████████████████████████████████████████████████████████████████████████████████████████████████████████| 2502/2502 [00:00<00:00, 4340.22it/s]\n"
     ]
    },
    {
     "name": "stdout",
     "output_type": "stream",
     "text": [
      "Epoch = 8. Time index = mean. Threshold MC = 0.7. Threshold MD = 0.6\n",
      "RD = 1124 NZ = 1960 NZA = 2503 pNZ = 0.223% pNZA = 0.285% AD = 57.35% ADA = 44.91% NO = 729 GSP = 57.34% NSP = 50.62%\n",
      "SI2 = 0.63 SI = -13.31 eGROI = 19.50% eROI = 1.11% eROI2 = 4.92% eROI3 = -2.37% mSpread = 0.0252%\n",
      "\n",
      "Getting extended results...\n"
     ]
    },
    {
     "name": "stderr",
     "output_type": "stream",
     "text": [
      "100%|███████████████████████████████████████████████████████████████████████████████████████████████████████████████████████████████| 2502/2502 [00:00<00:00, 4393.44it/s]\n"
     ]
    },
    {
     "name": "stdout",
     "output_type": "stream",
     "text": [
      "Epoch = 8. Time index = mean. Threshold MC = 0.7. Threshold MD = 0.6\n",
      "RD = 1124 NZ = 1960 NZA = 2503 pNZ = 0.223% pNZA = 0.285% AD = 57.35% ADA = 44.91% NO = 729 GSP = 57.34% NSP = 50.62%\n",
      "SI2 = 0.63 SI = -13.31 eGROI = 19.50% eROI = 1.11% eROI2 = 4.92% eROI3 = -2.37% mSpread = 0.0252%\n",
      "\n",
      "Getting extended results...\n"
     ]
    },
    {
     "name": "stderr",
     "output_type": "stream",
     "text": [
      "100%|███████████████████████████████████████████████████████████████████████████████████████████████████████████████████████████████| 2502/2502 [00:00<00:00, 4181.13it/s]\n"
     ]
    },
    {
     "name": "stdout",
     "output_type": "stream",
     "text": [
      "Epoch = 8. Time index = mean. Threshold MC = 0.7. Threshold MD = 0.6\n",
      "RD = 1124 NZ = 1960 NZA = 2503 pNZ = 0.223% pNZA = 0.285% AD = 57.35% ADA = 44.91% NO = 729 GSP = 57.34% NSP = 50.62%\n",
      "SI2 = 0.63 SI = -13.31 eGROI = 19.50% eROI = 1.11% eROI2 = 4.92% eROI3 = -2.37% mSpread = 0.0252%\n",
      "\n",
      "Getting extended results...\n"
     ]
    },
    {
     "name": "stderr",
     "output_type": "stream",
     "text": [
      "100%|███████████████████████████████████████████████████████████████████████████████████████████████████████████████████████████████| 2502/2502 [00:00<00:00, 4577.84it/s]\n"
     ]
    },
    {
     "name": "stdout",
     "output_type": "stream",
     "text": [
      "Epoch = 8. Time index = mean. Threshold MC = 0.7. Threshold MD = 0.6\n",
      "RD = 1124 NZ = 1960 NZA = 2503 pNZ = 0.223% pNZA = 0.285% AD = 57.35% ADA = 44.91% NO = 729 GSP = 57.34% NSP = 50.62%\n",
      "SI2 = 0.63 SI = -13.31 eGROI = 19.50% eROI = 1.11% eROI2 = 4.92% eROI3 = -2.37% mSpread = 0.0252%\n",
      "\n",
      "Getting extended results...\n"
     ]
    },
    {
     "name": "stderr",
     "output_type": "stream",
     "text": [
      "100%|███████████████████████████████████████████████████████████████████████████████████████████████████████████████████████████████| 2502/2502 [00:00<00:00, 4511.95it/s]\n"
     ]
    },
    {
     "name": "stdout",
     "output_type": "stream",
     "text": [
      "Epoch = 8. Time index = mean. Threshold MC = 0.7. Threshold MD = 0.6\n",
      "RD = 1124 NZ = 1960 NZA = 2503 pNZ = 0.223% pNZA = 0.285% AD = 57.35% ADA = 44.91% NO = 729 GSP = 57.34% NSP = 50.62%\n",
      "SI2 = 0.63 SI = -13.31 eGROI = 19.50% eROI = 1.11% eROI2 = 4.92% eROI3 = -2.37% mSpread = 0.0252%\n",
      "\n",
      "Best eGROI = 89.39 t_index 2 thr_mc 0.5 thr_md 0.6 epoch 8 in 4137 GSP 59.17 ADA 37.89 AD 58.38\n",
      "Best eROI = 23.22 t_index 3 thr_mc 0.7 thr_md 0.5 epoch 8 in 1540 GSP 56.56 ADA 39.91 AD 52.94\n",
      "Best eROI.5 = 68.70 t_index 2 thr_mc 0.5 thr_md 0.6 epoch 8 in 4137 GSP 59.17 ADA 37.89 AD 58.38\n",
      "Best eROI1 = 48.02 t_index 2 thr_mc 0.5 thr_md 0.6 epoch 8 in 4137 GSP 59.17 ADA 37.89 AD 58.38\n",
      "Best eROI1.5 = 34.96 t_index 3 thr_mc 0.7 thr_md 0.5 epoch 8 in 1540 GSP 56.56 ADA 39.91 AD 52.94\n",
      "Best eROI2 = 27.26 t_index 3 thr_mc 0.7 thr_md 0.5 epoch 8 in 1540 GSP 56.56 ADA 39.91 AD 52.94\n",
      "Best eROI3 = 17.20 t_index 2 thr_mc 0.8 thr_md 0.6 epoch 8 in 244 GSP 54.10 ADA 47.54 AD 55.36\n",
      "Best eROI4 = 14.76 t_index 2 thr_mc 0.8 thr_md 0.6 epoch 8 in 244 GSP 54.10 ADA 47.54 AD 55.36\n",
      "Best eROI5 = 12.32 t_index 2 thr_mc 0.8 thr_md 0.6 epoch 8 in 244 GSP 54.10 ADA 47.54 AD 55.36\n",
      "Best SI = 7.02 t_index 3 thr_mc 0.7 thr_md 0.7 epoch 8 in 66 GSP 66.67 ADA 59.52 AD 69.93\n",
      "Best SI.5 = 188.39 t_index 2 thr_mc 0.5 thr_md 0.6 epoch 8 in 4137 GSP 59.17 ADA 37.89 AD 58.38\n",
      "Best SI1 = 122.39 t_index 2 thr_mc 0.5 thr_md 0.6 epoch 8 in 4137 GSP 59.17 ADA 37.89 AD 58.38\n",
      "Best SI1.5 = 47.39 t_index 2 thr_mc 0.5 thr_md 0.6 epoch 8 in 4137 GSP 59.17 ADA 37.89 AD 58.38\n",
      "Best SI2 = 11.73 t_index 3 thr_mc 0.5 thr_md 0.7 epoch 8 in 259 GSP 65.64 ADA 48.88 AD 73.49\n",
      "Best SI3 = 7.02 t_index 3 thr_mc 0.7 thr_md 0.7 epoch 8 in 66 GSP 66.67 ADA 59.52 AD 69.93\n",
      "Best SI4 = 6.02 t_index 3 thr_mc 0.7 thr_md 0.7 epoch 8 in 66 GSP 66.67 ADA 59.52 AD 69.93\n",
      "Best SI5 = 6.02 t_index 3 thr_mc 0.7 thr_md 0.7 epoch 8 in 66 GSP 66.67 ADA 59.52 AD 69.93\n",
      "Best 99eGROI = 79.18 t_index 2 thr_mc 0.5 thr_md 0.6 epoch 8 in 4137 GSP 59.17 ADA 37.89 AD 58.38\n",
      "Best 99eROI = 21.41 t_index 2 thr_mc 0.8 thr_md 0.6 epoch 8 in 244 GSP 54.10 ADA 47.54 AD 55.36\n",
      "Best 99eROI.5 = 58.91 t_index 2 thr_mc 0.5 thr_md 0.6 epoch 8 in 4137 GSP 59.17 ADA 37.89 AD 58.38\n",
      "Best 99eROI1 = 38.63 t_index 2 thr_mc 0.5 thr_md 0.6 epoch 8 in 4137 GSP 59.17 ADA 37.89 AD 58.38\n",
      "Best 99eROI1.5 = 24.17 t_index 2 thr_mc 0.8 thr_md 0.6 epoch 8 in 244 GSP 54.10 ADA 47.54 AD 55.36\n",
      "Best 99eROI2 = 22.97 t_index 2 thr_mc 0.8 thr_md 0.6 epoch 8 in 244 GSP 54.10 ADA 47.54 AD 55.36\n",
      "Best 99eROI3 = 20.57 t_index 2 thr_mc 0.8 thr_md 0.6 epoch 8 in 244 GSP 54.10 ADA 47.54 AD 55.36\n",
      "Best 99eROI4 = 18.17 t_index 2 thr_mc 0.8 thr_md 0.6 epoch 8 in 244 GSP 54.10 ADA 47.54 AD 55.36\n",
      "Best 99eROI5 = 15.77 t_index 2 thr_mc 0.8 thr_md 0.6 epoch 8 in 244 GSP 54.10 ADA 47.54 AD 55.36\n",
      "\n",
      "The very best:\n",
      "Best eGROI = 107.37 t_index 2 thr_mc 0.5 thr_md 0.6 epoch 14 in 5603 GSP 59.16 ADA 37.40 AD 57.47\n",
      "Best eROI = 30.31 t_index 3 thr_mc 0.7 thr_md 0.5 epoch 5 in 1499 GSP 57.51 ADA 38.79 AD 51.43\n",
      "Best eROI.5 = 79.36 t_index 2 thr_mc 0.5 thr_md 0.6 epoch 14 in 5603 GSP 59.16 ADA 37.40 AD 57.47\n",
      "Best eROI1 = 52.65 t_index 3 thr_mc 0.5 thr_md 0.6 epoch 13 in 5249 GSP 59.19 ADA 37.62 AD 57.70\n",
      "Best eROI1.5 = 41.52 t_index 3 thr_mc 0.7 thr_md 0.5 epoch 5 in 1499 GSP 57.51 ADA 38.79 AD 51.43\n",
      "Best eROI2 = 34.03 t_index 3 thr_mc 0.7 thr_md 0.5 epoch 5 in 1499 GSP 57.51 ADA 38.79 AD 51.43\n",
      "Best eROI3 = 25.11 t_index 0 thr_mc 0.8 thr_md 0.5 epoch 5 in 310 GSP 58.39 ADA 43.84 AD 51.94\n",
      "Best eROI4 = 22.44 t_index 0 thr_mc 0.8 thr_md 0.5 epoch 1 in 245 GSP 56.33 ADA 42.04 AD 48.92\n",
      "Best eROI5 = 20.25 t_index 0 thr_mc 0.6 thr_md 0.7 epoch 14 in 148 GSP 64.86 ADA 53.31 AD 70.98\n",
      "Best SI = 19.99 t_index 2 thr_mc 0.6 thr_md 0.7 epoch 10 in 317 GSP 62.78 ADA 50.27 AD 63.01\n",
      "Best SI.5 = 248.41 t_index 2 thr_mc 0.5 thr_md 0.6 epoch 14 in 5603 GSP 59.16 ADA 37.40 AD 57.47\n",
      "Best SI1 = 156.03 t_index 3 thr_mc 0.5 thr_md 0.6 epoch 13 in 5249 GSP 59.19 ADA 37.62 AD 57.70\n",
      "Best SI1.5 = 84.18 t_index 3 thr_mc 0.6 thr_md 0.6 epoch 12 in 2894 GSP 59.92 ADA 40.73 AD 57.38\n",
      "Best SI2 = 33.18 t_index 3 thr_mc 0.6 thr_md 0.6 epoch 12 in 2894 GSP 59.92 ADA 40.73 AD 57.38\n",
      "Best SI3 = 18.99 t_index 2 thr_mc 0.6 thr_md 0.7 epoch 10 in 317 GSP 62.78 ADA 50.27 AD 63.01\n",
      "Best SI4 = 12.33 t_index 2 thr_mc 0.7 thr_md 0.7 epoch 10 in 239 GSP 62.76 ADA 50.89 AD 62.15\n",
      "Best SI5 = 8.33 t_index 2 thr_mc 0.7 thr_md 0.7 epoch 10 in 239 GSP 62.76 ADA 50.89 AD 62.15\n",
      "Best 99eGROI = 101.86 t_index 2 thr_mc 0.5 thr_md 0.6 epoch 14 in 5603 GSP 59.16 ADA 37.40 AD 57.47\n",
      "Best 99eROI = 29.77 t_index 0 thr_mc 0.8 thr_md 0.5 epoch 1 in 245 GSP 56.33 ADA 42.04 AD 48.92\n",
      "Best 99eROI.5 = 74.59 t_index 3 thr_mc 0.5 thr_md 0.6 epoch 13 in 5249 GSP 59.19 ADA 37.62 AD 57.70\n",
      "Best 99eROI1 = 48.86 t_index 3 thr_mc 0.5 thr_md 0.6 epoch 13 in 5249 GSP 59.19 ADA 37.62 AD 57.70\n",
      "Best 99eROI1.5 = 32.68 t_index 0 thr_mc 0.8 thr_md 0.5 epoch 1 in 245 GSP 56.33 ADA 42.04 AD 48.92\n",
      "Best 99eROI2 = 31.48 t_index 0 thr_mc 0.8 thr_md 0.5 epoch 1 in 245 GSP 56.33 ADA 42.04 AD 48.92\n",
      "Best 99eROI3 = 29.07 t_index 0 thr_mc 0.8 thr_md 0.5 epoch 1 in 245 GSP 56.33 ADA 42.04 AD 48.92\n",
      "Best 99eROI4 = 26.66 t_index 0 thr_mc 0.8 thr_md 0.5 epoch 1 in 245 GSP 56.33 ADA 42.04 AD 48.92\n",
      "Best 99eROI5 = 24.25 t_index 0 thr_mc 0.8 thr_md 0.5 epoch 1 in 245 GSP 56.33 ADA 42.04 AD 48.92\n",
      "Time=26.90 secs\n",
      "INFO:tensorflow:Restoring parameters from C:/Users/mgutierrez/root/Projects/SDC/py/RNN/weights/WRNN01010k4K5A/000009/000009\n",
      "Parameters loaded. Epoch 9\n",
      "Epoch 9 of 14. Getting output...\n"
     ]
    },
    {
     "name": "stderr",
     "output_type": "stream",
     "text": [
      "100%|███████████████████████████████████████████████████████████████████████████████████████████████████████████████████████████████████| 859/859 [01:15<00:00, 11.36it/s]\n"
     ]
    },
    {
     "name": "stdout",
     "output_type": "stream",
     "text": [
      "J_test = 1.590073\n",
      "Epoch 9, J_train = 1.640957237948415, J_test = 1.5900731013873126\n",
      "Getting extended results...\n"
     ]
    },
    {
     "name": "stderr",
     "output_type": "stream",
     "text": [
      "100%|███████████████████████████████████████████████████████████████████████████████████████████████████████████████████████████████| 1291/1291 [00:00<00:00, 3451.52it/s]\n"
     ]
    },
    {
     "name": "stdout",
     "output_type": "stream",
     "text": [
      "Epoch = 9. Time index = 0. Threshold MC = 0.7. Threshold MD = 0.6\n",
      "RD = 564 NZ = 976 NZA = 1292 pNZ = 0.111% pNZA = 0.147% AD = 57.79% ADA = 43.65% NO = 595 GSP = 53.28% NSP = 45.55%\n",
      "SI2 = -1.68 SI = -13.26 eGROI = 15.72% eROI = 0.84% eROI2 = 3.82% eROI3 = -2.13% mSpread = 0.0250%\n",
      "\n",
      "Getting extended results...\n"
     ]
    },
    {
     "name": "stderr",
     "output_type": "stream",
     "text": [
      "100%|███████████████████████████████████████████████████████████████████████████████████████████████████████████████████████████████| 3295/3295 [00:00<00:00, 4434.60it/s]\n"
     ]
    },
    {
     "name": "stdout",
     "output_type": "stream",
     "text": [
      "Epoch = 9. Time index = 1. Threshold MC = 0.7. Threshold MD = 0.6\n",
      "RD = 1427 NZ = 2565 NZA = 3296 pNZ = 0.292% pNZA = 0.375% AD = 55.63% ADA = 43.29% NO = 932 GSP = 55.58% NSP = 49.79%\n",
      "SI2 = 0.59 SI = -15.31 eGROI = 28.83% eROI = 5.63% eROI2 = 10.19% eROI3 = 0.87% mSpread = 0.0249%\n",
      "\n",
      "Getting extended results...\n"
     ]
    },
    {
     "name": "stderr",
     "output_type": "stream",
     "text": [
      "100%|███████████████████████████████████████████████████████████████████████████████████████████████████████████████████████████████| 4134/4134 [00:00<00:00, 4987.98it/s]\n"
     ]
    },
    {
     "name": "stdout",
     "output_type": "stream",
     "text": [
      "Epoch = 9. Time index = 2. Threshold MC = 0.7. Threshold MD = 0.6\n",
      "RD = 1855 NZ = 3240 NZA = 4135 pNZ = 0.369% pNZA = 0.470% AD = 57.25% ADA = 44.86% NO = 873 GSP = 56.59% NSP = 51.20%\n",
      "SI2 = 1.25 SI = -14.40 eGROI = 28.05% eROI = 7.09% eROI2 = 10.59% eROI3 = 1.86% mSpread = 0.0240%\n",
      "\n",
      "Getting extended results...\n"
     ]
    },
    {
     "name": "stderr",
     "output_type": "stream",
     "text": [
      "100%|███████████████████████████████████████████████████████████████████████████████████████████████████████████████████████████████| 4737/4737 [00:01<00:00, 4341.52it/s]\n"
     ]
    },
    {
     "name": "stdout",
     "output_type": "stream",
     "text": [
      "Epoch = 9. Time index = 3. Threshold MC = 0.7. Threshold MD = 0.6\n",
      "RD = 2099 NZ = 3677 NZA = 4738 pNZ = 0.418% pNZA = 0.539% AD = 57.08% ADA = 44.30% NO = 862 GSP = 56.96% NSP = 51.74%\n",
      "SI2 = 1.29 SI = -14.15 eGROI = 32.61% eROI = 11.86% eROI2 = 15.37% eROI3 = 6.75% mSpread = 0.0241%\n",
      "\n",
      "Getting extended results...\n"
     ]
    },
    {
     "name": "stderr",
     "output_type": "stream",
     "text": [
      "100%|███████████████████████████████████████████████████████████████████████████████████████████████████████████████████████████████| 3205/3205 [00:00<00:00, 3881.09it/s]\n"
     ]
    },
    {
     "name": "stdout",
     "output_type": "stream",
     "text": [
      "Epoch = 9. Time index = mean. Threshold MC = 0.7. Threshold MD = 0.6\n",
      "RD = 1433 NZ = 2508 NZA = 3206 pNZ = 0.285% pNZA = 0.365% AD = 57.14% ADA = 44.70% NO = 816 GSP = 56.00% NSP = 49.88%\n",
      "SI2 = 0.56 SI = -14.30 eGROI = 24.29% eROI = 4.20% eROI2 = 7.97% eROI3 = -0.19% mSpread = 0.0246%\n",
      "\n",
      "Getting extended results...\n"
     ]
    },
    {
     "name": "stderr",
     "output_type": "stream",
     "text": [
      "100%|███████████████████████████████████████████████████████████████████████████████████████████████████████████████████████████████| 3205/3205 [00:00<00:00, 4571.28it/s]\n"
     ]
    },
    {
     "name": "stdout",
     "output_type": "stream",
     "text": [
      "Epoch = 9. Time index = mean. Threshold MC = 0.7. Threshold MD = 0.6\n",
      "RD = 1433 NZ = 2508 NZA = 3206 pNZ = 0.285% pNZA = 0.365% AD = 57.14% ADA = 44.70% NO = 816 GSP = 56.00% NSP = 49.88%\n",
      "SI2 = 0.56 SI = -14.30 eGROI = 24.29% eROI = 4.20% eROI2 = 7.97% eROI3 = -0.19% mSpread = 0.0246%\n",
      "\n",
      "Getting extended results...\n"
     ]
    },
    {
     "name": "stderr",
     "output_type": "stream",
     "text": [
      "100%|███████████████████████████████████████████████████████████████████████████████████████████████████████████████████████████████| 3205/3205 [00:00<00:00, 4228.34it/s]\n"
     ]
    },
    {
     "name": "stdout",
     "output_type": "stream",
     "text": [
      "Epoch = 9. Time index = mean. Threshold MC = 0.7. Threshold MD = 0.6\n",
      "RD = 1433 NZ = 2508 NZA = 3206 pNZ = 0.285% pNZA = 0.365% AD = 57.14% ADA = 44.70% NO = 816 GSP = 56.00% NSP = 49.88%\n",
      "SI2 = 0.56 SI = -14.30 eGROI = 24.29% eROI = 4.20% eROI2 = 7.97% eROI3 = -0.19% mSpread = 0.0246%\n",
      "\n",
      "Getting extended results...\n"
     ]
    },
    {
     "name": "stderr",
     "output_type": "stream",
     "text": [
      "100%|███████████████████████████████████████████████████████████████████████████████████████████████████████████████████████████████| 3205/3205 [00:00<00:00, 4746.57it/s]\n"
     ]
    },
    {
     "name": "stdout",
     "output_type": "stream",
     "text": [
      "Epoch = 9. Time index = mean. Threshold MC = 0.7. Threshold MD = 0.6\n",
      "RD = 1433 NZ = 2508 NZA = 3206 pNZ = 0.285% pNZA = 0.365% AD = 57.14% ADA = 44.70% NO = 816 GSP = 56.00% NSP = 49.88%\n",
      "SI2 = 0.56 SI = -14.30 eGROI = 24.29% eROI = 4.20% eROI2 = 7.97% eROI3 = -0.19% mSpread = 0.0246%\n",
      "\n",
      "Getting extended results...\n"
     ]
    },
    {
     "name": "stderr",
     "output_type": "stream",
     "text": [
      "100%|███████████████████████████████████████████████████████████████████████████████████████████████████████████████████████████████| 3205/3205 [00:00<00:00, 3512.07it/s]\n"
     ]
    },
    {
     "name": "stdout",
     "output_type": "stream",
     "text": [
      "Epoch = 9. Time index = mean. Threshold MC = 0.7. Threshold MD = 0.6\n",
      "RD = 1433 NZ = 2508 NZA = 3206 pNZ = 0.285% pNZA = 0.365% AD = 57.14% ADA = 44.70% NO = 816 GSP = 56.00% NSP = 49.88%\n",
      "SI2 = 0.56 SI = -14.30 eGROI = 24.29% eROI = 4.20% eROI2 = 7.97% eROI3 = -0.19% mSpread = 0.0246%\n",
      "\n",
      "Getting extended results...\n"
     ]
    },
    {
     "name": "stderr",
     "output_type": "stream",
     "text": [
      "100%|███████████████████████████████████████████████████████████████████████████████████████████████████████████████████████████████| 3205/3205 [00:00<00:00, 3213.56it/s]\n"
     ]
    },
    {
     "name": "stdout",
     "output_type": "stream",
     "text": [
      "Epoch = 9. Time index = mean. Threshold MC = 0.7. Threshold MD = 0.6\n",
      "RD = 1433 NZ = 2508 NZA = 3206 pNZ = 0.285% pNZA = 0.365% AD = 57.14% ADA = 44.70% NO = 816 GSP = 56.00% NSP = 49.88%\n",
      "SI2 = 0.56 SI = -14.30 eGROI = 24.29% eROI = 4.20% eROI2 = 7.97% eROI3 = -0.19% mSpread = 0.0246%\n",
      "\n",
      "Getting extended results...\n"
     ]
    },
    {
     "name": "stderr",
     "output_type": "stream",
     "text": [
      "100%|███████████████████████████████████████████████████████████████████████████████████████████████████████████████████████████████| 3205/3205 [00:00<00:00, 4354.37it/s]\n"
     ]
    },
    {
     "name": "stdout",
     "output_type": "stream",
     "text": [
      "Epoch = 9. Time index = mean. Threshold MC = 0.7. Threshold MD = 0.6\n",
      "RD = 1433 NZ = 2508 NZA = 3206 pNZ = 0.285% pNZA = 0.365% AD = 57.14% ADA = 44.70% NO = 816 GSP = 56.00% NSP = 49.88%\n",
      "SI2 = 0.56 SI = -14.30 eGROI = 24.29% eROI = 4.20% eROI2 = 7.97% eROI3 = -0.19% mSpread = 0.0246%\n",
      "\n",
      "Getting extended results...\n"
     ]
    },
    {
     "name": "stderr",
     "output_type": "stream",
     "text": [
      "100%|███████████████████████████████████████████████████████████████████████████████████████████████████████████████████████████████| 3205/3205 [00:00<00:00, 4372.23it/s]\n"
     ]
    },
    {
     "name": "stdout",
     "output_type": "stream",
     "text": [
      "Epoch = 9. Time index = mean. Threshold MC = 0.7. Threshold MD = 0.6\n",
      "RD = 1433 NZ = 2508 NZA = 3206 pNZ = 0.285% pNZA = 0.365% AD = 57.14% ADA = 44.70% NO = 816 GSP = 56.00% NSP = 49.88%\n",
      "SI2 = 0.56 SI = -14.30 eGROI = 24.29% eROI = 4.20% eROI2 = 7.97% eROI3 = -0.19% mSpread = 0.0246%\n",
      "\n",
      "Getting extended results...\n"
     ]
    },
    {
     "name": "stderr",
     "output_type": "stream",
     "text": [
      "100%|███████████████████████████████████████████████████████████████████████████████████████████████████████████████████████████████| 3205/3205 [00:00<00:00, 4083.28it/s]\n"
     ]
    },
    {
     "name": "stdout",
     "output_type": "stream",
     "text": [
      "Epoch = 9. Time index = mean. Threshold MC = 0.7. Threshold MD = 0.6\n",
      "RD = 1433 NZ = 2508 NZA = 3206 pNZ = 0.285% pNZA = 0.365% AD = 57.14% ADA = 44.70% NO = 816 GSP = 56.00% NSP = 49.88%\n",
      "SI2 = 0.56 SI = -14.30 eGROI = 24.29% eROI = 4.20% eROI2 = 7.97% eROI3 = -0.19% mSpread = 0.0246%\n",
      "\n",
      "Getting extended results...\n"
     ]
    },
    {
     "name": "stderr",
     "output_type": "stream",
     "text": [
      "100%|███████████████████████████████████████████████████████████████████████████████████████████████████████████████████████████████| 3205/3205 [00:00<00:00, 4691.30it/s]\n"
     ]
    },
    {
     "name": "stdout",
     "output_type": "stream",
     "text": [
      "Epoch = 9. Time index = mean. Threshold MC = 0.7. Threshold MD = 0.6\n",
      "RD = 1433 NZ = 2508 NZA = 3206 pNZ = 0.285% pNZA = 0.365% AD = 57.14% ADA = 44.70% NO = 816 GSP = 56.00% NSP = 49.88%\n",
      "SI2 = 0.56 SI = -14.30 eGROI = 24.29% eROI = 4.20% eROI2 = 7.97% eROI3 = -0.19% mSpread = 0.0246%\n",
      "\n",
      "Getting extended results...\n"
     ]
    },
    {
     "name": "stderr",
     "output_type": "stream",
     "text": [
      "100%|███████████████████████████████████████████████████████████████████████████████████████████████████████████████████████████████| 3205/3205 [00:00<00:00, 4746.75it/s]\n"
     ]
    },
    {
     "name": "stdout",
     "output_type": "stream",
     "text": [
      "Epoch = 9. Time index = mean. Threshold MC = 0.7. Threshold MD = 0.6\n",
      "RD = 1433 NZ = 2508 NZA = 3206 pNZ = 0.285% pNZA = 0.365% AD = 57.14% ADA = 44.70% NO = 816 GSP = 56.00% NSP = 49.88%\n",
      "SI2 = 0.56 SI = -14.30 eGROI = 24.29% eROI = 4.20% eROI2 = 7.97% eROI3 = -0.19% mSpread = 0.0246%\n",
      "\n",
      "Getting extended results...\n"
     ]
    },
    {
     "name": "stderr",
     "output_type": "stream",
     "text": [
      "100%|███████████████████████████████████████████████████████████████████████████████████████████████████████████████████████████████| 3205/3205 [00:00<00:00, 4408.14it/s]\n"
     ]
    },
    {
     "name": "stdout",
     "output_type": "stream",
     "text": [
      "Epoch = 9. Time index = mean. Threshold MC = 0.7. Threshold MD = 0.6\n",
      "RD = 1433 NZ = 2508 NZA = 3206 pNZ = 0.285% pNZA = 0.365% AD = 57.14% ADA = 44.70% NO = 816 GSP = 56.00% NSP = 49.88%\n",
      "SI2 = 0.56 SI = -14.30 eGROI = 24.29% eROI = 4.20% eROI2 = 7.97% eROI3 = -0.19% mSpread = 0.0246%\n",
      "\n",
      "Getting extended results...\n"
     ]
    },
    {
     "name": "stderr",
     "output_type": "stream",
     "text": [
      "100%|███████████████████████████████████████████████████████████████████████████████████████████████████████████████████████████████| 3205/3205 [00:00<00:00, 4414.20it/s]\n"
     ]
    },
    {
     "name": "stdout",
     "output_type": "stream",
     "text": [
      "Epoch = 9. Time index = mean. Threshold MC = 0.7. Threshold MD = 0.6\n",
      "RD = 1433 NZ = 2508 NZA = 3206 pNZ = 0.285% pNZA = 0.365% AD = 57.14% ADA = 44.70% NO = 816 GSP = 56.00% NSP = 49.88%\n",
      "SI2 = 0.56 SI = -14.30 eGROI = 24.29% eROI = 4.20% eROI2 = 7.97% eROI3 = -0.19% mSpread = 0.0246%\n",
      "\n",
      "Getting extended results...\n"
     ]
    },
    {
     "name": "stderr",
     "output_type": "stream",
     "text": [
      "100%|███████████████████████████████████████████████████████████████████████████████████████████████████████████████████████████████| 3205/3205 [00:00<00:00, 4691.29it/s]\n"
     ]
    },
    {
     "name": "stdout",
     "output_type": "stream",
     "text": [
      "Epoch = 9. Time index = mean. Threshold MC = 0.7. Threshold MD = 0.6\n",
      "RD = 1433 NZ = 2508 NZA = 3206 pNZ = 0.285% pNZA = 0.365% AD = 57.14% ADA = 44.70% NO = 816 GSP = 56.00% NSP = 49.88%\n",
      "SI2 = 0.56 SI = -14.30 eGROI = 24.29% eROI = 4.20% eROI2 = 7.97% eROI3 = -0.19% mSpread = 0.0246%\n",
      "\n",
      "Getting extended results...\n"
     ]
    },
    {
     "name": "stderr",
     "output_type": "stream",
     "text": [
      "100%|███████████████████████████████████████████████████████████████████████████████████████████████████████████████████████████████| 3205/3205 [00:00<00:00, 4290.43it/s]\n"
     ]
    },
    {
     "name": "stdout",
     "output_type": "stream",
     "text": [
      "Epoch = 9. Time index = mean. Threshold MC = 0.7. Threshold MD = 0.6\n",
      "RD = 1433 NZ = 2508 NZA = 3206 pNZ = 0.285% pNZA = 0.365% AD = 57.14% ADA = 44.70% NO = 816 GSP = 56.00% NSP = 49.88%\n",
      "SI2 = 0.56 SI = -14.30 eGROI = 24.29% eROI = 4.20% eROI2 = 7.97% eROI3 = -0.19% mSpread = 0.0246%\n",
      "\n",
      "Best eGROI = 81.71 t_index 2 thr_mc 0.5 thr_md 0.6 epoch 9 in 4397 GSP 59.15 ADA 38.16 AD 58.79\n",
      "Best eROI = 21.55 t_index 2 thr_mc 0.8 thr_md 0.6 epoch 9 in 252 GSP 55.16 ADA 47.99 AD 56.11\n",
      "Best eROI.5 = 59.72 t_index 2 thr_mc 0.5 thr_md 0.6 epoch 9 in 4397 GSP 59.15 ADA 38.16 AD 58.79\n",
      "Best eROI1 = 38.47 t_index 1 thr_mc 0.7 thr_md 0.5 epoch 9 in 1780 GSP 55.06 ADA 39.65 AD 52.45\n",
      "Best eROI1.5 = 29.57 t_index 1 thr_mc 0.7 thr_md 0.5 epoch 9 in 1780 GSP 55.06 ADA 39.65 AD 52.45\n",
      "Best eROI2 = 23.02 t_index 2 thr_mc 0.8 thr_md 0.6 epoch 9 in 252 GSP 55.16 ADA 47.99 AD 56.11\n",
      "Best eROI3 = 20.50 t_index 2 thr_mc 0.8 thr_md 0.6 epoch 9 in 252 GSP 55.16 ADA 47.99 AD 56.11\n",
      "Best eROI4 = 17.98 t_index 2 thr_mc 0.8 thr_md 0.6 epoch 9 in 252 GSP 55.16 ADA 47.99 AD 56.11\n",
      "Best eROI5 = 15.46 t_index 2 thr_mc 0.8 thr_md 0.6 epoch 9 in 252 GSP 55.16 ADA 47.99 AD 56.11\n",
      "Best SI = 12.85 t_index 3 thr_mc 0.6 thr_md 0.7 epoch 9 in 255 GSP 63.53 ADA 49.81 AD 63.82\n",
      "Best SI.5 = 188.59 t_index 2 thr_mc 0.5 thr_md 0.6 epoch 9 in 4397 GSP 59.15 ADA 38.16 AD 58.79\n",
      "Best SI1 = 120.59 t_index 2 thr_mc 0.5 thr_md 0.6 epoch 9 in 4397 GSP 59.15 ADA 38.16 AD 58.79\n",
      "Best SI1.5 = 61.83 t_index 2 thr_mc 0.6 thr_md 0.6 epoch 9 in 2689 GSP 59.32 ADA 40.80 AD 58.04\n",
      "Best SI2 = 26.13 t_index 3 thr_mc 0.5 thr_md 0.7 epoch 9 in 479 GSP 65.34 ADA 47.56 AD 66.46\n",
      "Best SI3 = 16.13 t_index 3 thr_mc 0.5 thr_md 0.7 epoch 9 in 479 GSP 65.34 ADA 47.56 AD 66.46\n",
      "Best SI4 = 7.85 t_index 3 thr_mc 0.6 thr_md 0.7 epoch 9 in 255 GSP 63.53 ADA 49.81 AD 63.82\n",
      "Best SI5 = 3.85 t_index 3 thr_mc 0.6 thr_md 0.7 epoch 9 in 255 GSP 63.53 ADA 49.81 AD 63.82\n",
      "Best 99eGROI = 77.40 t_index 2 thr_mc 0.5 thr_md 0.6 epoch 9 in 4397 GSP 59.15 ADA 38.16 AD 58.79\n",
      "Best 99eROI = 25.61 t_index 2 thr_mc 0.8 thr_md 0.6 epoch 9 in 252 GSP 55.16 ADA 47.99 AD 56.11\n",
      "Best 99eROI.5 = 55.85 t_index 2 thr_mc 0.5 thr_md 0.6 epoch 9 in 4397 GSP 59.15 ADA 38.16 AD 58.79\n",
      "Best 99eROI1 = 34.29 t_index 2 thr_mc 0.5 thr_md 0.6 epoch 9 in 4397 GSP 59.15 ADA 38.16 AD 58.79\n",
      "Best 99eROI1.5 = 28.29 t_index 2 thr_mc 0.8 thr_md 0.6 epoch 9 in 252 GSP 55.16 ADA 47.99 AD 56.11\n",
      "Best 99eROI2 = 27.05 t_index 2 thr_mc 0.8 thr_md 0.6 epoch 9 in 252 GSP 55.16 ADA 47.99 AD 56.11\n",
      "Best 99eROI3 = 24.57 t_index 2 thr_mc 0.8 thr_md 0.6 epoch 9 in 252 GSP 55.16 ADA 47.99 AD 56.11\n",
      "Best 99eROI4 = 22.09 t_index 2 thr_mc 0.8 thr_md 0.6 epoch 9 in 252 GSP 55.16 ADA 47.99 AD 56.11\n",
      "Best 99eROI5 = 19.61 t_index 2 thr_mc 0.8 thr_md 0.6 epoch 9 in 252 GSP 55.16 ADA 47.99 AD 56.11\n",
      "\n",
      "The very best:\n",
      "Best eGROI = 107.37 t_index 2 thr_mc 0.5 thr_md 0.6 epoch 14 in 5603 GSP 59.16 ADA 37.40 AD 57.47\n",
      "Best eROI = 30.31 t_index 3 thr_mc 0.7 thr_md 0.5 epoch 5 in 1499 GSP 57.51 ADA 38.79 AD 51.43\n",
      "Best eROI.5 = 79.36 t_index 2 thr_mc 0.5 thr_md 0.6 epoch 14 in 5603 GSP 59.16 ADA 37.40 AD 57.47\n",
      "Best eROI1 = 52.65 t_index 3 thr_mc 0.5 thr_md 0.6 epoch 13 in 5249 GSP 59.19 ADA 37.62 AD 57.70\n",
      "Best eROI1.5 = 41.52 t_index 3 thr_mc 0.7 thr_md 0.5 epoch 5 in 1499 GSP 57.51 ADA 38.79 AD 51.43\n",
      "Best eROI2 = 34.03 t_index 3 thr_mc 0.7 thr_md 0.5 epoch 5 in 1499 GSP 57.51 ADA 38.79 AD 51.43\n",
      "Best eROI3 = 25.11 t_index 0 thr_mc 0.8 thr_md 0.5 epoch 5 in 310 GSP 58.39 ADA 43.84 AD 51.94\n",
      "Best eROI4 = 22.44 t_index 0 thr_mc 0.8 thr_md 0.5 epoch 1 in 245 GSP 56.33 ADA 42.04 AD 48.92\n",
      "Best eROI5 = 20.25 t_index 0 thr_mc 0.6 thr_md 0.7 epoch 14 in 148 GSP 64.86 ADA 53.31 AD 70.98\n",
      "Best SI = 19.99 t_index 2 thr_mc 0.6 thr_md 0.7 epoch 10 in 317 GSP 62.78 ADA 50.27 AD 63.01\n",
      "Best SI.5 = 248.41 t_index 2 thr_mc 0.5 thr_md 0.6 epoch 14 in 5603 GSP 59.16 ADA 37.40 AD 57.47\n",
      "Best SI1 = 156.03 t_index 3 thr_mc 0.5 thr_md 0.6 epoch 13 in 5249 GSP 59.19 ADA 37.62 AD 57.70\n",
      "Best SI1.5 = 84.18 t_index 3 thr_mc 0.6 thr_md 0.6 epoch 12 in 2894 GSP 59.92 ADA 40.73 AD 57.38\n",
      "Best SI2 = 33.18 t_index 3 thr_mc 0.6 thr_md 0.6 epoch 12 in 2894 GSP 59.92 ADA 40.73 AD 57.38\n",
      "Best SI3 = 18.99 t_index 2 thr_mc 0.6 thr_md 0.7 epoch 10 in 317 GSP 62.78 ADA 50.27 AD 63.01\n",
      "Best SI4 = 12.33 t_index 2 thr_mc 0.7 thr_md 0.7 epoch 10 in 239 GSP 62.76 ADA 50.89 AD 62.15\n",
      "Best SI5 = 8.33 t_index 2 thr_mc 0.7 thr_md 0.7 epoch 10 in 239 GSP 62.76 ADA 50.89 AD 62.15\n",
      "Best 99eGROI = 101.86 t_index 2 thr_mc 0.5 thr_md 0.6 epoch 14 in 5603 GSP 59.16 ADA 37.40 AD 57.47\n",
      "Best 99eROI = 29.77 t_index 0 thr_mc 0.8 thr_md 0.5 epoch 1 in 245 GSP 56.33 ADA 42.04 AD 48.92\n",
      "Best 99eROI.5 = 74.59 t_index 3 thr_mc 0.5 thr_md 0.6 epoch 13 in 5249 GSP 59.19 ADA 37.62 AD 57.70\n",
      "Best 99eROI1 = 48.86 t_index 3 thr_mc 0.5 thr_md 0.6 epoch 13 in 5249 GSP 59.19 ADA 37.62 AD 57.70\n",
      "Best 99eROI1.5 = 32.68 t_index 0 thr_mc 0.8 thr_md 0.5 epoch 1 in 245 GSP 56.33 ADA 42.04 AD 48.92\n",
      "Best 99eROI2 = 31.48 t_index 0 thr_mc 0.8 thr_md 0.5 epoch 1 in 245 GSP 56.33 ADA 42.04 AD 48.92\n",
      "Best 99eROI3 = 29.07 t_index 0 thr_mc 0.8 thr_md 0.5 epoch 1 in 245 GSP 56.33 ADA 42.04 AD 48.92\n",
      "Best 99eROI4 = 26.66 t_index 0 thr_mc 0.8 thr_md 0.5 epoch 1 in 245 GSP 56.33 ADA 42.04 AD 48.92\n",
      "Best 99eROI5 = 24.25 t_index 0 thr_mc 0.8 thr_md 0.5 epoch 1 in 245 GSP 56.33 ADA 42.04 AD 48.92\n",
      "Time=30.62 secs\n",
      "INFO:tensorflow:Restoring parameters from C:/Users/mgutierrez/root/Projects/SDC/py/RNN/weights/WRNN01010k4K5A/000010/000010\n",
      "Parameters loaded. Epoch 10\n",
      "Epoch 10 of 14. Getting output...\n"
     ]
    },
    {
     "name": "stderr",
     "output_type": "stream",
     "text": [
      "100%|███████████████████████████████████████████████████████████████████████████████████████████████████████████████████████████████████| 859/859 [01:16<00:00,  9.76it/s]\n"
     ]
    },
    {
     "name": "stdout",
     "output_type": "stream",
     "text": [
      "J_test = 1.590053\n",
      "Epoch 10, J_train = 1.6403502601058122, J_test = 1.590053090949275\n",
      "Getting extended results...\n"
     ]
    },
    {
     "name": "stderr",
     "output_type": "stream",
     "text": [
      "100%|███████████████████████████████████████████████████████████████████████████████████████████████████████████████████████████████| 1703/1703 [00:00<00:00, 3863.21it/s]\n"
     ]
    },
    {
     "name": "stdout",
     "output_type": "stream",
     "text": [
      "Epoch = 10. Time index = 0. Threshold MC = 0.7. Threshold MD = 0.6\n",
      "RD = 726 NZ = 1278 NZA = 1704 pNZ = 0.145% pNZA = 0.194% AD = 56.81% ADA = 42.61% NO = 695 GSP = 54.82% NSP = 47.34%\n",
      "SI2 = -0.95 SI = -13.87 eGROI = 14.25% eROI = -3.25% eROI2 = 0.35% eROI3 = -6.60% mSpread = 0.0252%\n",
      "\n",
      "Getting extended results...\n"
     ]
    },
    {
     "name": "stderr",
     "output_type": "stream",
     "text": [
      "100%|███████████████████████████████████████████████████████████████████████████████████████████████████████████████████████████████| 4021/4021 [00:01<00:00, 3448.85it/s]\n"
     ]
    },
    {
     "name": "stdout",
     "output_type": "stream",
     "text": [
      "Epoch = 10. Time index = 1. Threshold MC = 0.7. Threshold MD = 0.6\n",
      "RD = 1747 NZ = 3108 NZA = 4022 pNZ = 0.354% pNZA = 0.458% AD = 56.21% ADA = 43.44% NO = 998 GSP = 56.31% NSP = 49.50%\n",
      "SI2 = 0.95 SI = -15.94 eGROI = 22.04% eROI = -2.62% eROI2 = 2.08% eROI3 = -7.90% mSpread = 0.0247%\n",
      "\n",
      "Getting extended results...\n"
     ]
    },
    {
     "name": "stderr",
     "output_type": "stream",
     "text": [
      "100%|███████████████████████████████████████████████████████████████████████████████████████████████████████████████████████████████| 4909/4909 [00:01<00:00, 3937.67it/s]\n"
     ]
    },
    {
     "name": "stdout",
     "output_type": "stream",
     "text": [
      "Epoch = 10. Time index = 2. Threshold MC = 0.7. Threshold MD = 0.6\n",
      "RD = 2172 NZ = 3841 NZA = 4910 pNZ = 0.437% pNZA = 0.559% AD = 56.55% ADA = 44.24% NO = 926 GSP = 56.70% NSP = 51.62%\n",
      "SI2 = 1.45 SI = -14.71 eGROI = 33.63% eROI = 11.40% eROI2 = 15.11% eROI3 = 5.85% mSpread = 0.0240%\n",
      "\n",
      "Getting extended results...\n"
     ]
    },
    {
     "name": "stderr",
     "output_type": "stream",
     "text": [
      "100%|███████████████████████████████████████████████████████████████████████████████████████████████████████████████████████████████| 5566/5566 [00:01<00:00, 4471.82it/s]\n"
     ]
    },
    {
     "name": "stdout",
     "output_type": "stream",
     "text": [
      "Epoch = 10. Time index = 3. Threshold MC = 0.7. Threshold MD = 0.6\n",
      "RD = 2451 NZ = 4355 NZA = 5567 pNZ = 0.495% pNZA = 0.633% AD = 56.28% ADA = 44.03% NO = 902 GSP = 57.21% NSP = 52.44%\n",
      "SI2 = 1.80 SI = -14.27 eGROI = 20.14% eROI = -1.55% eROI2 = 2.10% eROI3 = -6.92% mSpread = 0.0241%\n",
      "\n",
      "Getting extended results...\n"
     ]
    },
    {
     "name": "stderr",
     "output_type": "stream",
     "text": [
      "100%|███████████████████████████████████████████████████████████████████████████████████████████████████████████████████████████████| 3908/3908 [00:01<00:00, 2806.88it/s]\n"
     ]
    },
    {
     "name": "stdout",
     "output_type": "stream",
     "text": [
      "Epoch = 10. Time index = mean. Threshold MC = 0.7. Threshold MD = 0.6\n",
      "RD = 1731 NZ = 3048 NZA = 3909 pNZ = 0.347% pNZA = 0.445% AD = 56.79% ADA = 44.28% NO = 865 GSP = 55.49% NSP = 49.48%\n",
      "SI2 = 0.24 SI = -14.84 eGROI = 20.82% eROI = -0.22% eROI2 = 3.52% eROI3 = -5.13% mSpread = 0.0243%\n",
      "\n",
      "Getting extended results...\n"
     ]
    },
    {
     "name": "stderr",
     "output_type": "stream",
     "text": [
      "100%|███████████████████████████████████████████████████████████████████████████████████████████████████████████████████████████████| 3908/3908 [00:01<00:00, 3343.35it/s]\n"
     ]
    },
    {
     "name": "stdout",
     "output_type": "stream",
     "text": [
      "Epoch = 10. Time index = mean. Threshold MC = 0.7. Threshold MD = 0.6\n",
      "RD = 1731 NZ = 3048 NZA = 3909 pNZ = 0.347% pNZA = 0.445% AD = 56.79% ADA = 44.28% NO = 865 GSP = 55.49% NSP = 49.48%\n",
      "SI2 = 0.24 SI = -14.84 eGROI = 20.82% eROI = -0.22% eROI2 = 3.52% eROI3 = -5.13% mSpread = 0.0243%\n",
      "\n",
      "Getting extended results...\n"
     ]
    },
    {
     "name": "stderr",
     "output_type": "stream",
     "text": [
      "100%|███████████████████████████████████████████████████████████████████████████████████████████████████████████████████████████████| 3908/3908 [00:00<00:00, 4609.89it/s]\n"
     ]
    },
    {
     "name": "stdout",
     "output_type": "stream",
     "text": [
      "Epoch = 10. Time index = mean. Threshold MC = 0.7. Threshold MD = 0.6\n",
      "RD = 1731 NZ = 3048 NZA = 3909 pNZ = 0.347% pNZA = 0.445% AD = 56.79% ADA = 44.28% NO = 865 GSP = 55.49% NSP = 49.48%\n",
      "SI2 = 0.24 SI = -14.84 eGROI = 20.82% eROI = -0.22% eROI2 = 3.52% eROI3 = -5.13% mSpread = 0.0243%\n",
      "\n",
      "Getting extended results...\n"
     ]
    },
    {
     "name": "stderr",
     "output_type": "stream",
     "text": [
      "100%|███████████████████████████████████████████████████████████████████████████████████████████████████████████████████████████████| 3908/3908 [00:00<00:00, 3978.08it/s]\n"
     ]
    },
    {
     "name": "stdout",
     "output_type": "stream",
     "text": [
      "Epoch = 10. Time index = mean. Threshold MC = 0.7. Threshold MD = 0.6\n",
      "RD = 1731 NZ = 3048 NZA = 3909 pNZ = 0.347% pNZA = 0.445% AD = 56.79% ADA = 44.28% NO = 865 GSP = 55.49% NSP = 49.48%\n",
      "SI2 = 0.24 SI = -14.84 eGROI = 20.82% eROI = -0.22% eROI2 = 3.52% eROI3 = -5.13% mSpread = 0.0243%\n",
      "\n",
      "Getting extended results...\n"
     ]
    },
    {
     "name": "stderr",
     "output_type": "stream",
     "text": [
      "100%|███████████████████████████████████████████████████████████████████████████████████████████████████████████████████████████████| 3908/3908 [00:01<00:00, 3871.95it/s]\n"
     ]
    },
    {
     "name": "stdout",
     "output_type": "stream",
     "text": [
      "Epoch = 10. Time index = mean. Threshold MC = 0.7. Threshold MD = 0.6\n",
      "RD = 1731 NZ = 3048 NZA = 3909 pNZ = 0.347% pNZA = 0.445% AD = 56.79% ADA = 44.28% NO = 865 GSP = 55.49% NSP = 49.48%\n",
      "SI2 = 0.24 SI = -14.84 eGROI = 20.82% eROI = -0.22% eROI2 = 3.52% eROI3 = -5.13% mSpread = 0.0243%\n",
      "\n",
      "Getting extended results...\n"
     ]
    },
    {
     "name": "stderr",
     "output_type": "stream",
     "text": [
      "100%|███████████████████████████████████████████████████████████████████████████████████████████████████████████████████████████████| 3908/3908 [00:00<00:00, 4427.58it/s]\n"
     ]
    },
    {
     "name": "stdout",
     "output_type": "stream",
     "text": [
      "Epoch = 10. Time index = mean. Threshold MC = 0.7. Threshold MD = 0.6\n",
      "RD = 1731 NZ = 3048 NZA = 3909 pNZ = 0.347% pNZA = 0.445% AD = 56.79% ADA = 44.28% NO = 865 GSP = 55.49% NSP = 49.48%\n",
      "SI2 = 0.24 SI = -14.84 eGROI = 20.82% eROI = -0.22% eROI2 = 3.52% eROI3 = -5.13% mSpread = 0.0243%\n",
      "\n",
      "Getting extended results...\n"
     ]
    },
    {
     "name": "stderr",
     "output_type": "stream",
     "text": [
      "100%|███████████████████████████████████████████████████████████████████████████████████████████████████████████████████████████████| 3908/3908 [00:00<00:00, 4186.34it/s]\n"
     ]
    },
    {
     "name": "stdout",
     "output_type": "stream",
     "text": [
      "Epoch = 10. Time index = mean. Threshold MC = 0.7. Threshold MD = 0.6\n",
      "RD = 1731 NZ = 3048 NZA = 3909 pNZ = 0.347% pNZA = 0.445% AD = 56.79% ADA = 44.28% NO = 865 GSP = 55.49% NSP = 49.48%\n",
      "SI2 = 0.24 SI = -14.84 eGROI = 20.82% eROI = -0.22% eROI2 = 3.52% eROI3 = -5.13% mSpread = 0.0243%\n",
      "\n",
      "Getting extended results...\n"
     ]
    },
    {
     "name": "stderr",
     "output_type": "stream",
     "text": [
      "100%|███████████████████████████████████████████████████████████████████████████████████████████████████████████████████████████████| 3908/3908 [00:01<00:00, 3144.79it/s]\n"
     ]
    },
    {
     "name": "stdout",
     "output_type": "stream",
     "text": [
      "Epoch = 10. Time index = mean. Threshold MC = 0.7. Threshold MD = 0.6\n",
      "RD = 1731 NZ = 3048 NZA = 3909 pNZ = 0.347% pNZA = 0.445% AD = 56.79% ADA = 44.28% NO = 865 GSP = 55.49% NSP = 49.48%\n",
      "SI2 = 0.24 SI = -14.84 eGROI = 20.82% eROI = -0.22% eROI2 = 3.52% eROI3 = -5.13% mSpread = 0.0243%\n",
      "\n",
      "Getting extended results...\n"
     ]
    },
    {
     "name": "stderr",
     "output_type": "stream",
     "text": [
      "100%|███████████████████████████████████████████████████████████████████████████████████████████████████████████████████████████████| 3908/3908 [00:00<00:00, 4213.19it/s]\n"
     ]
    },
    {
     "name": "stdout",
     "output_type": "stream",
     "text": [
      "Epoch = 10. Time index = mean. Threshold MC = 0.7. Threshold MD = 0.6\n",
      "RD = 1731 NZ = 3048 NZA = 3909 pNZ = 0.347% pNZA = 0.445% AD = 56.79% ADA = 44.28% NO = 865 GSP = 55.49% NSP = 49.48%\n",
      "SI2 = 0.24 SI = -14.84 eGROI = 20.82% eROI = -0.22% eROI2 = 3.52% eROI3 = -5.13% mSpread = 0.0243%\n",
      "\n",
      "Getting extended results...\n"
     ]
    },
    {
     "name": "stderr",
     "output_type": "stream",
     "text": [
      "100%|███████████████████████████████████████████████████████████████████████████████████████████████████████████████████████████████| 3908/3908 [00:01<00:00, 3449.31it/s]\n"
     ]
    },
    {
     "name": "stdout",
     "output_type": "stream",
     "text": [
      "Epoch = 10. Time index = mean. Threshold MC = 0.7. Threshold MD = 0.6\n",
      "RD = 1731 NZ = 3048 NZA = 3909 pNZ = 0.347% pNZA = 0.445% AD = 56.79% ADA = 44.28% NO = 865 GSP = 55.49% NSP = 49.48%\n",
      "SI2 = 0.24 SI = -14.84 eGROI = 20.82% eROI = -0.22% eROI2 = 3.52% eROI3 = -5.13% mSpread = 0.0243%\n",
      "\n",
      "Getting extended results...\n"
     ]
    },
    {
     "name": "stderr",
     "output_type": "stream",
     "text": [
      "100%|███████████████████████████████████████████████████████████████████████████████████████████████████████████████████████████████| 3908/3908 [00:01<00:00, 3764.08it/s]\n"
     ]
    },
    {
     "name": "stdout",
     "output_type": "stream",
     "text": [
      "Epoch = 10. Time index = mean. Threshold MC = 0.7. Threshold MD = 0.6\n",
      "RD = 1731 NZ = 3048 NZA = 3909 pNZ = 0.347% pNZA = 0.445% AD = 56.79% ADA = 44.28% NO = 865 GSP = 55.49% NSP = 49.48%\n",
      "SI2 = 0.24 SI = -14.84 eGROI = 20.82% eROI = -0.22% eROI2 = 3.52% eROI3 = -5.13% mSpread = 0.0243%\n",
      "\n",
      "Getting extended results...\n"
     ]
    },
    {
     "name": "stderr",
     "output_type": "stream",
     "text": [
      "100%|███████████████████████████████████████████████████████████████████████████████████████████████████████████████████████████████| 3908/3908 [00:01<00:00, 3351.93it/s]\n"
     ]
    },
    {
     "name": "stdout",
     "output_type": "stream",
     "text": [
      "Epoch = 10. Time index = mean. Threshold MC = 0.7. Threshold MD = 0.6\n",
      "RD = 1731 NZ = 3048 NZA = 3909 pNZ = 0.347% pNZA = 0.445% AD = 56.79% ADA = 44.28% NO = 865 GSP = 55.49% NSP = 49.48%\n",
      "SI2 = 0.24 SI = -14.84 eGROI = 20.82% eROI = -0.22% eROI2 = 3.52% eROI3 = -5.13% mSpread = 0.0243%\n",
      "\n",
      "Getting extended results...\n"
     ]
    },
    {
     "name": "stderr",
     "output_type": "stream",
     "text": [
      "100%|███████████████████████████████████████████████████████████████████████████████████████████████████████████████████████████████| 3908/3908 [00:01<00:00, 3329.15it/s]\n"
     ]
    },
    {
     "name": "stdout",
     "output_type": "stream",
     "text": [
      "Epoch = 10. Time index = mean. Threshold MC = 0.7. Threshold MD = 0.6\n",
      "RD = 1731 NZ = 3048 NZA = 3909 pNZ = 0.347% pNZA = 0.445% AD = 56.79% ADA = 44.28% NO = 865 GSP = 55.49% NSP = 49.48%\n",
      "SI2 = 0.24 SI = -14.84 eGROI = 20.82% eROI = -0.22% eROI2 = 3.52% eROI3 = -5.13% mSpread = 0.0243%\n",
      "\n",
      "Getting extended results...\n"
     ]
    },
    {
     "name": "stderr",
     "output_type": "stream",
     "text": [
      "100%|███████████████████████████████████████████████████████████████████████████████████████████████████████████████████████████████| 3908/3908 [00:01<00:00, 1963.13it/s]\n"
     ]
    },
    {
     "name": "stdout",
     "output_type": "stream",
     "text": [
      "Epoch = 10. Time index = mean. Threshold MC = 0.7. Threshold MD = 0.6\n",
      "RD = 1731 NZ = 3048 NZA = 3909 pNZ = 0.347% pNZA = 0.445% AD = 56.79% ADA = 44.28% NO = 865 GSP = 55.49% NSP = 49.48%\n",
      "SI2 = 0.24 SI = -14.84 eGROI = 20.82% eROI = -0.22% eROI2 = 3.52% eROI3 = -5.13% mSpread = 0.0243%\n",
      "\n",
      "Getting extended results...\n"
     ]
    },
    {
     "name": "stderr",
     "output_type": "stream",
     "text": [
      "100%|███████████████████████████████████████████████████████████████████████████████████████████████████████████████████████████████| 3908/3908 [00:01<00:00, 2881.18it/s]\n"
     ]
    },
    {
     "name": "stdout",
     "output_type": "stream",
     "text": [
      "Epoch = 10. Time index = mean. Threshold MC = 0.7. Threshold MD = 0.6\n",
      "RD = 1731 NZ = 3048 NZA = 3909 pNZ = 0.347% pNZA = 0.445% AD = 56.79% ADA = 44.28% NO = 865 GSP = 55.49% NSP = 49.48%\n",
      "SI2 = 0.24 SI = -14.84 eGROI = 20.82% eROI = -0.22% eROI2 = 3.52% eROI3 = -5.13% mSpread = 0.0243%\n",
      "\n",
      "Getting extended results...\n"
     ]
    },
    {
     "name": "stderr",
     "output_type": "stream",
     "text": [
      "100%|███████████████████████████████████████████████████████████████████████████████████████████████████████████████████████████████| 3908/3908 [00:00<00:00, 4749.59it/s]\n"
     ]
    },
    {
     "name": "stdout",
     "output_type": "stream",
     "text": [
      "Epoch = 10. Time index = mean. Threshold MC = 0.7. Threshold MD = 0.6\n",
      "RD = 1731 NZ = 3048 NZA = 3909 pNZ = 0.347% pNZA = 0.445% AD = 56.79% ADA = 44.28% NO = 865 GSP = 55.49% NSP = 49.48%\n",
      "SI2 = 0.24 SI = -14.84 eGROI = 20.82% eROI = -0.22% eROI2 = 3.52% eROI3 = -5.13% mSpread = 0.0243%\n",
      "\n",
      "Best eGROI = 86.54 t_index 2 thr_mc 0.5 thr_md 0.6 epoch 10 in 4607 GSP 59.30 ADA 38.03 AD 58.50\n",
      "Best eROI = 22.17 t_index 2 thr_mc 0.7 thr_md 0.7 epoch 10 in 239 GSP 62.76 ADA 50.89 AD 62.15\n",
      "Best eROI.5 = 63.51 t_index 2 thr_mc 0.5 thr_md 0.6 epoch 10 in 4607 GSP 59.30 ADA 38.03 AD 58.50\n",
      "Best eROI1 = 43.89 t_index 1 thr_mc 0.7 thr_md 0.5 epoch 10 in 1794 GSP 56.02 ADA 39.89 AD 52.82\n",
      "Best eROI1.5 = 34.92 t_index 1 thr_mc 0.7 thr_md 0.5 epoch 10 in 1794 GSP 56.02 ADA 39.89 AD 52.82\n",
      "Best eROI2 = 26.59 t_index 2 thr_mc 0.5 thr_md 0.7 epoch 10 in 484 GSP 63.22 ADA 49.13 AD 64.47\n",
      "Best eROI3 = 21.75 t_index 2 thr_mc 0.5 thr_md 0.7 epoch 10 in 484 GSP 63.22 ADA 49.13 AD 64.47\n",
      "Best eROI4 = 19.16 t_index 2 thr_mc 0.7 thr_md 0.7 epoch 10 in 239 GSP 62.76 ADA 50.89 AD 62.15\n",
      "Best eROI5 = 16.77 t_index 2 thr_mc 0.7 thr_md 0.7 epoch 10 in 239 GSP 62.76 ADA 50.89 AD 62.15\n",
      "Best SI = 19.99 t_index 2 thr_mc 0.6 thr_md 0.7 epoch 10 in 317 GSP 62.78 ADA 50.27 AD 63.01\n",
      "Best SI.5 = 208.29 t_index 2 thr_mc 0.5 thr_md 0.6 epoch 10 in 4607 GSP 59.30 ADA 38.03 AD 58.50\n",
      "Best SI1 = 132.29 t_index 2 thr_mc 0.5 thr_md 0.6 epoch 10 in 4607 GSP 59.30 ADA 38.03 AD 58.50\n",
      "Best SI1.5 = 64.05 t_index 2 thr_mc 0.6 thr_md 0.6 epoch 10 in 2815 GSP 59.43 ADA 40.85 AD 57.91\n",
      "Best SI2 = 26.48 t_index 2 thr_mc 0.5 thr_md 0.7 epoch 10 in 484 GSP 63.22 ADA 49.13 AD 64.47\n",
      "Best SI3 = 18.99 t_index 2 thr_mc 0.6 thr_md 0.7 epoch 10 in 317 GSP 62.78 ADA 50.27 AD 63.01\n",
      "Best SI4 = 12.33 t_index 2 thr_mc 0.7 thr_md 0.7 epoch 10 in 239 GSP 62.76 ADA 50.89 AD 62.15\n",
      "Best SI5 = 8.33 t_index 2 thr_mc 0.7 thr_md 0.7 epoch 10 in 239 GSP 62.76 ADA 50.89 AD 62.15\n",
      "Best 99eGROI = 79.32 t_index 2 thr_mc 0.5 thr_md 0.6 epoch 10 in 4607 GSP 59.30 ADA 38.03 AD 58.50\n",
      "Best 99eROI = 20.88 t_index 2 thr_mc 0.8 thr_md 0.6 epoch 10 in 269 GSP 52.79 ADA 47.00 AD 55.30\n",
      "Best 99eROI.5 = 56.74 t_index 2 thr_mc 0.5 thr_md 0.6 epoch 10 in 4607 GSP 59.30 ADA 38.03 AD 58.50\n",
      "Best 99eROI1 = 34.17 t_index 2 thr_mc 0.5 thr_md 0.6 epoch 10 in 4607 GSP 59.30 ADA 38.03 AD 58.50\n",
      "Best 99eROI1.5 = 23.47 t_index 2 thr_mc 0.8 thr_md 0.6 epoch 10 in 269 GSP 52.79 ADA 47.00 AD 55.30\n",
      "Best 99eROI2 = 22.15 t_index 2 thr_mc 0.8 thr_md 0.6 epoch 10 in 269 GSP 52.79 ADA 47.00 AD 55.30\n",
      "Best 99eROI3 = 19.50 t_index 2 thr_mc 0.7 thr_md 0.7 epoch 10 in 239 GSP 62.76 ADA 50.89 AD 62.15\n",
      "Best 99eROI4 = 17.17 t_index 2 thr_mc 0.8 thr_md 0.7 epoch 10 in 137 GSP 59.12 ADA 49.69 AD 57.01\n",
      "Best 99eROI5 = 15.82 t_index 2 thr_mc 0.8 thr_md 0.7 epoch 10 in 137 GSP 59.12 ADA 49.69 AD 57.01\n",
      "\n",
      "The very best:\n",
      "Best eGROI = 107.37 t_index 2 thr_mc 0.5 thr_md 0.6 epoch 14 in 5603 GSP 59.16 ADA 37.40 AD 57.47\n",
      "Best eROI = 30.31 t_index 3 thr_mc 0.7 thr_md 0.5 epoch 5 in 1499 GSP 57.51 ADA 38.79 AD 51.43\n",
      "Best eROI.5 = 79.36 t_index 2 thr_mc 0.5 thr_md 0.6 epoch 14 in 5603 GSP 59.16 ADA 37.40 AD 57.47\n",
      "Best eROI1 = 52.65 t_index 3 thr_mc 0.5 thr_md 0.6 epoch 13 in 5249 GSP 59.19 ADA 37.62 AD 57.70\n",
      "Best eROI1.5 = 41.52 t_index 3 thr_mc 0.7 thr_md 0.5 epoch 5 in 1499 GSP 57.51 ADA 38.79 AD 51.43\n",
      "Best eROI2 = 34.03 t_index 3 thr_mc 0.7 thr_md 0.5 epoch 5 in 1499 GSP 57.51 ADA 38.79 AD 51.43\n",
      "Best eROI3 = 25.11 t_index 0 thr_mc 0.8 thr_md 0.5 epoch 5 in 310 GSP 58.39 ADA 43.84 AD 51.94\n",
      "Best eROI4 = 22.44 t_index 0 thr_mc 0.8 thr_md 0.5 epoch 1 in 245 GSP 56.33 ADA 42.04 AD 48.92\n",
      "Best eROI5 = 20.25 t_index 0 thr_mc 0.6 thr_md 0.7 epoch 14 in 148 GSP 64.86 ADA 53.31 AD 70.98\n",
      "Best SI = 19.99 t_index 2 thr_mc 0.6 thr_md 0.7 epoch 10 in 317 GSP 62.78 ADA 50.27 AD 63.01\n",
      "Best SI.5 = 248.41 t_index 2 thr_mc 0.5 thr_md 0.6 epoch 14 in 5603 GSP 59.16 ADA 37.40 AD 57.47\n",
      "Best SI1 = 156.03 t_index 3 thr_mc 0.5 thr_md 0.6 epoch 13 in 5249 GSP 59.19 ADA 37.62 AD 57.70\n",
      "Best SI1.5 = 84.18 t_index 3 thr_mc 0.6 thr_md 0.6 epoch 12 in 2894 GSP 59.92 ADA 40.73 AD 57.38\n",
      "Best SI2 = 33.18 t_index 3 thr_mc 0.6 thr_md 0.6 epoch 12 in 2894 GSP 59.92 ADA 40.73 AD 57.38\n",
      "Best SI3 = 18.99 t_index 2 thr_mc 0.6 thr_md 0.7 epoch 10 in 317 GSP 62.78 ADA 50.27 AD 63.01\n",
      "Best SI4 = 12.33 t_index 2 thr_mc 0.7 thr_md 0.7 epoch 10 in 239 GSP 62.76 ADA 50.89 AD 62.15\n",
      "Best SI5 = 8.33 t_index 2 thr_mc 0.7 thr_md 0.7 epoch 10 in 239 GSP 62.76 ADA 50.89 AD 62.15\n",
      "Best 99eGROI = 101.86 t_index 2 thr_mc 0.5 thr_md 0.6 epoch 14 in 5603 GSP 59.16 ADA 37.40 AD 57.47\n",
      "Best 99eROI = 29.77 t_index 0 thr_mc 0.8 thr_md 0.5 epoch 1 in 245 GSP 56.33 ADA 42.04 AD 48.92\n",
      "Best 99eROI.5 = 74.59 t_index 3 thr_mc 0.5 thr_md 0.6 epoch 13 in 5249 GSP 59.19 ADA 37.62 AD 57.70\n",
      "Best 99eROI1 = 48.86 t_index 3 thr_mc 0.5 thr_md 0.6 epoch 13 in 5249 GSP 59.19 ADA 37.62 AD 57.70\n",
      "Best 99eROI1.5 = 32.68 t_index 0 thr_mc 0.8 thr_md 0.5 epoch 1 in 245 GSP 56.33 ADA 42.04 AD 48.92\n",
      "Best 99eROI2 = 31.48 t_index 0 thr_mc 0.8 thr_md 0.5 epoch 1 in 245 GSP 56.33 ADA 42.04 AD 48.92\n",
      "Best 99eROI3 = 29.07 t_index 0 thr_mc 0.8 thr_md 0.5 epoch 1 in 245 GSP 56.33 ADA 42.04 AD 48.92\n",
      "Best 99eROI4 = 26.66 t_index 0 thr_mc 0.8 thr_md 0.5 epoch 1 in 245 GSP 56.33 ADA 42.04 AD 48.92\n",
      "Best 99eROI5 = 24.25 t_index 0 thr_mc 0.8 thr_md 0.5 epoch 1 in 245 GSP 56.33 ADA 42.04 AD 48.92\n",
      "Time=41.66 secs\n",
      "INFO:tensorflow:Restoring parameters from C:/Users/mgutierrez/root/Projects/SDC/py/RNN/weights/WRNN01010k4K5A/000011/000011\n",
      "Parameters loaded. Epoch 11\n",
      "Epoch 11 of 14. Getting output...\n"
     ]
    },
    {
     "name": "stderr",
     "output_type": "stream",
     "text": [
      "100%|███████████████████████████████████████████████████████████████████████████████████████████████████████████████████████████████████| 859/859 [01:16<00:00, 11.28it/s]\n"
     ]
    },
    {
     "name": "stdout",
     "output_type": "stream",
     "text": [
      "J_test = 1.590098\n",
      "Epoch 11, J_train = 1.6397365528889054, J_test = 1.5900979957286359\n",
      "Getting extended results...\n"
     ]
    },
    {
     "name": "stderr",
     "output_type": "stream",
     "text": [
      "100%|███████████████████████████████████████████████████████████████████████████████████████████████████████████████████████████████| 2086/2086 [00:00<00:00, 3866.10it/s]\n"
     ]
    },
    {
     "name": "stdout",
     "output_type": "stream",
     "text": [
      "Epoch = 11. Time index = 0. Threshold MC = 0.7. Threshold MD = 0.6\n",
      "RD = 901 NZ = 1575 NZA = 2087 pNZ = 0.179% pNZA = 0.237% AD = 57.21% ADA = 43.17% NO = 782 GSP = 56.01% NSP = 49.36%\n",
      "SI2 = 0.07 SI = -14.14 eGROI = 18.58% eROI = -1.03% eROI2 = 2.94% eROI3 = -4.88% mSpread = 0.0251%\n",
      "\n",
      "Getting extended results...\n"
     ]
    },
    {
     "name": "stderr",
     "output_type": "stream",
     "text": [
      "100%|███████████████████████████████████████████████████████████████████████████████████████████████████████████████████████████████| 4661/4661 [00:01<00:00, 4618.02it/s]\n"
     ]
    },
    {
     "name": "stdout",
     "output_type": "stream",
     "text": [
      "Epoch = 11. Time index = 1. Threshold MC = 0.7. Threshold MD = 0.6\n",
      "RD = 2029 NZ = 3602 NZA = 4662 pNZ = 0.410% pNZA = 0.530% AD = 56.33% ADA = 43.52% NO = 1035 GSP = 55.65% NSP = 49.28%\n",
      "SI2 = 0.78 SI = -16.30 eGROI = 26.90% eROI = 1.32% eROI2 = 6.20% eROI3 = -4.15% mSpread = 0.0247%\n",
      "\n",
      "Getting extended results...\n"
     ]
    },
    {
     "name": "stderr",
     "output_type": "stream",
     "text": [
      "100%|███████████████████████████████████████████████████████████████████████████████████████████████████████████████████████████████| 5619/5619 [00:01<00:00, 4633.19it/s]\n"
     ]
    },
    {
     "name": "stdout",
     "output_type": "stream",
     "text": [
      "Epoch = 11. Time index = 2. Threshold MC = 0.7. Threshold MD = 0.6\n",
      "RD = 2455 NZ = 4382 NZA = 5620 pNZ = 0.498% pNZA = 0.639% AD = 56.02% ADA = 43.68% NO = 973 GSP = 56.53% NSP = 52.00%\n",
      "SI2 = 1.57 SI = -14.95 eGROI = 29.65% eROI = 6.43% eROI2 = 10.19% eROI3 = 0.46% mSpread = 0.0239%\n",
      "\n",
      "Getting extended results...\n"
     ]
    },
    {
     "name": "stderr",
     "output_type": "stream",
     "text": [
      "100%|███████████████████████████████████████████████████████████████████████████████████████████████████████████████████████████████| 6274/6274 [00:01<00:00, 3812.57it/s]\n"
     ]
    },
    {
     "name": "stdout",
     "output_type": "stream",
     "text": [
      "Epoch = 11. Time index = 3. Threshold MC = 0.7. Threshold MD = 0.6\n",
      "RD = 2756 NZ = 4902 NZA = 6275 pNZ = 0.558% pNZA = 0.714% AD = 56.22% ADA = 43.92% NO = 927 GSP = 57.28% NSP = 52.32%\n",
      "SI2 = 1.87 SI = -14.50 eGROI = 19.86% eROI = -2.53% eROI2 = 1.32% eROI3 = -7.95% mSpread = 0.0242%\n",
      "\n",
      "Getting extended results...\n"
     ]
    },
    {
     "name": "stderr",
     "output_type": "stream",
     "text": [
      "100%|███████████████████████████████████████████████████████████████████████████████████████████████████████████████████████████████| 4556/4556 [00:01<00:00, 3784.70it/s]\n"
     ]
    },
    {
     "name": "stdout",
     "output_type": "stream",
     "text": [
      "Epoch = 11. Time index = mean. Threshold MC = 0.7. Threshold MD = 0.6\n",
      "RD = 2006 NZ = 3568 NZA = 4557 pNZ = 0.406% pNZA = 0.518% AD = 56.22% ADA = 44.02% NO = 910 GSP = 55.49% NSP = 50.55%\n",
      "SI2 = 0.53 SI = -14.90 eGROI = 26.86% eROI = 5.18% eROI2 = 8.66% eROI3 = -0.44% mSpread = 0.0238%\n",
      "\n",
      "Getting extended results...\n"
     ]
    },
    {
     "name": "stderr",
     "output_type": "stream",
     "text": [
      "100%|███████████████████████████████████████████████████████████████████████████████████████████████████████████████████████████████| 4556/4556 [00:02<00:00, 1905.77it/s]\n"
     ]
    },
    {
     "name": "stdout",
     "output_type": "stream",
     "text": [
      "Epoch = 11. Time index = mean. Threshold MC = 0.7. Threshold MD = 0.6\n",
      "RD = 2006 NZ = 3568 NZA = 4557 pNZ = 0.406% pNZA = 0.518% AD = 56.22% ADA = 44.02% NO = 910 GSP = 55.49% NSP = 50.55%\n",
      "SI2 = 0.53 SI = -14.90 eGROI = 26.86% eROI = 5.18% eROI2 = 8.66% eROI3 = -0.44% mSpread = 0.0238%\n",
      "\n",
      "Getting extended results...\n"
     ]
    },
    {
     "name": "stderr",
     "output_type": "stream",
     "text": [
      "100%|███████████████████████████████████████████████████████████████████████████████████████████████████████████████████████████████| 4556/4556 [00:01<00:00, 3660.37it/s]\n"
     ]
    },
    {
     "name": "stdout",
     "output_type": "stream",
     "text": [
      "Epoch = 11. Time index = mean. Threshold MC = 0.7. Threshold MD = 0.6\n",
      "RD = 2006 NZ = 3568 NZA = 4557 pNZ = 0.406% pNZA = 0.518% AD = 56.22% ADA = 44.02% NO = 910 GSP = 55.49% NSP = 50.55%\n",
      "SI2 = 0.53 SI = -14.90 eGROI = 26.86% eROI = 5.18% eROI2 = 8.66% eROI3 = -0.44% mSpread = 0.0238%\n",
      "\n",
      "Getting extended results...\n"
     ]
    },
    {
     "name": "stderr",
     "output_type": "stream",
     "text": [
      "100%|███████████████████████████████████████████████████████████████████████████████████████████████████████████████████████████████| 4556/4556 [00:01<00:00, 4168.01it/s]\n"
     ]
    },
    {
     "name": "stdout",
     "output_type": "stream",
     "text": [
      "Epoch = 11. Time index = mean. Threshold MC = 0.7. Threshold MD = 0.6\n",
      "RD = 2006 NZ = 3568 NZA = 4557 pNZ = 0.406% pNZA = 0.518% AD = 56.22% ADA = 44.02% NO = 910 GSP = 55.49% NSP = 50.55%\n",
      "SI2 = 0.53 SI = -14.90 eGROI = 26.86% eROI = 5.18% eROI2 = 8.66% eROI3 = -0.44% mSpread = 0.0238%\n",
      "\n",
      "Getting extended results...\n"
     ]
    },
    {
     "name": "stderr",
     "output_type": "stream",
     "text": [
      "100%|███████████████████████████████████████████████████████████████████████████████████████████████████████████████████████████████| 4556/4556 [00:02<00:00, 2159.87it/s]\n"
     ]
    },
    {
     "name": "stdout",
     "output_type": "stream",
     "text": [
      "Epoch = 11. Time index = mean. Threshold MC = 0.7. Threshold MD = 0.6\n",
      "RD = 2006 NZ = 3568 NZA = 4557 pNZ = 0.406% pNZA = 0.518% AD = 56.22% ADA = 44.02% NO = 910 GSP = 55.49% NSP = 50.55%\n",
      "SI2 = 0.53 SI = -14.90 eGROI = 26.86% eROI = 5.18% eROI2 = 8.66% eROI3 = -0.44% mSpread = 0.0238%\n",
      "\n",
      "Getting extended results...\n"
     ]
    },
    {
     "name": "stderr",
     "output_type": "stream",
     "text": [
      "100%|███████████████████████████████████████████████████████████████████████████████████████████████████████████████████████████████| 4556/4556 [00:01<00:00, 3053.56it/s]\n"
     ]
    },
    {
     "name": "stdout",
     "output_type": "stream",
     "text": [
      "Epoch = 11. Time index = mean. Threshold MC = 0.7. Threshold MD = 0.6\n",
      "RD = 2006 NZ = 3568 NZA = 4557 pNZ = 0.406% pNZA = 0.518% AD = 56.22% ADA = 44.02% NO = 910 GSP = 55.49% NSP = 50.55%\n",
      "SI2 = 0.53 SI = -14.90 eGROI = 26.86% eROI = 5.18% eROI2 = 8.66% eROI3 = -0.44% mSpread = 0.0238%\n",
      "\n",
      "Getting extended results...\n"
     ]
    },
    {
     "name": "stderr",
     "output_type": "stream",
     "text": [
      "100%|███████████████████████████████████████████████████████████████████████████████████████████████████████████████████████████████| 4556/4556 [00:00<00:00, 4642.47it/s]\n"
     ]
    },
    {
     "name": "stdout",
     "output_type": "stream",
     "text": [
      "Epoch = 11. Time index = mean. Threshold MC = 0.7. Threshold MD = 0.6\n",
      "RD = 2006 NZ = 3568 NZA = 4557 pNZ = 0.406% pNZA = 0.518% AD = 56.22% ADA = 44.02% NO = 910 GSP = 55.49% NSP = 50.55%\n",
      "SI2 = 0.53 SI = -14.90 eGROI = 26.86% eROI = 5.18% eROI2 = 8.66% eROI3 = -0.44% mSpread = 0.0238%\n",
      "\n",
      "Getting extended results...\n"
     ]
    },
    {
     "name": "stderr",
     "output_type": "stream",
     "text": [
      "100%|███████████████████████████████████████████████████████████████████████████████████████████████████████████████████████████████| 4556/4556 [00:01<00:00, 3982.67it/s]\n"
     ]
    },
    {
     "name": "stdout",
     "output_type": "stream",
     "text": [
      "Epoch = 11. Time index = mean. Threshold MC = 0.7. Threshold MD = 0.6\n",
      "RD = 2006 NZ = 3568 NZA = 4557 pNZ = 0.406% pNZA = 0.518% AD = 56.22% ADA = 44.02% NO = 910 GSP = 55.49% NSP = 50.55%\n",
      "SI2 = 0.53 SI = -14.90 eGROI = 26.86% eROI = 5.18% eROI2 = 8.66% eROI3 = -0.44% mSpread = 0.0238%\n",
      "\n",
      "Getting extended results...\n"
     ]
    },
    {
     "name": "stderr",
     "output_type": "stream",
     "text": [
      "100%|███████████████████████████████████████████████████████████████████████████████████████████████████████████████████████████████| 4556/4556 [00:00<00:00, 5030.99it/s]\n"
     ]
    },
    {
     "name": "stdout",
     "output_type": "stream",
     "text": [
      "Epoch = 11. Time index = mean. Threshold MC = 0.7. Threshold MD = 0.6\n",
      "RD = 2006 NZ = 3568 NZA = 4557 pNZ = 0.406% pNZA = 0.518% AD = 56.22% ADA = 44.02% NO = 910 GSP = 55.49% NSP = 50.55%\n",
      "SI2 = 0.53 SI = -14.90 eGROI = 26.86% eROI = 5.18% eROI2 = 8.66% eROI3 = -0.44% mSpread = 0.0238%\n",
      "\n",
      "Getting extended results...\n"
     ]
    },
    {
     "name": "stderr",
     "output_type": "stream",
     "text": [
      "100%|███████████████████████████████████████████████████████████████████████████████████████████████████████████████████████████████| 4556/4556 [00:01<00:00, 4505.05it/s]\n"
     ]
    },
    {
     "name": "stdout",
     "output_type": "stream",
     "text": [
      "Epoch = 11. Time index = mean. Threshold MC = 0.7. Threshold MD = 0.6\n",
      "RD = 2006 NZ = 3568 NZA = 4557 pNZ = 0.406% pNZA = 0.518% AD = 56.22% ADA = 44.02% NO = 910 GSP = 55.49% NSP = 50.55%\n",
      "SI2 = 0.53 SI = -14.90 eGROI = 26.86% eROI = 5.18% eROI2 = 8.66% eROI3 = -0.44% mSpread = 0.0238%\n",
      "\n",
      "Getting extended results...\n"
     ]
    },
    {
     "name": "stderr",
     "output_type": "stream",
     "text": [
      "100%|███████████████████████████████████████████████████████████████████████████████████████████████████████████████████████████████| 4556/4556 [00:00<00:00, 4778.38it/s]\n"
     ]
    },
    {
     "name": "stdout",
     "output_type": "stream",
     "text": [
      "Epoch = 11. Time index = mean. Threshold MC = 0.7. Threshold MD = 0.6\n",
      "RD = 2006 NZ = 3568 NZA = 4557 pNZ = 0.406% pNZA = 0.518% AD = 56.22% ADA = 44.02% NO = 910 GSP = 55.49% NSP = 50.55%\n",
      "SI2 = 0.53 SI = -14.90 eGROI = 26.86% eROI = 5.18% eROI2 = 8.66% eROI3 = -0.44% mSpread = 0.0238%\n",
      "\n",
      "Getting extended results...\n"
     ]
    },
    {
     "name": "stderr",
     "output_type": "stream",
     "text": [
      "100%|███████████████████████████████████████████████████████████████████████████████████████████████████████████████████████████████| 4556/4556 [00:01<00:00, 4443.70it/s]\n"
     ]
    },
    {
     "name": "stdout",
     "output_type": "stream",
     "text": [
      "Epoch = 11. Time index = mean. Threshold MC = 0.7. Threshold MD = 0.6\n",
      "RD = 2006 NZ = 3568 NZA = 4557 pNZ = 0.406% pNZA = 0.518% AD = 56.22% ADA = 44.02% NO = 910 GSP = 55.49% NSP = 50.55%\n",
      "SI2 = 0.53 SI = -14.90 eGROI = 26.86% eROI = 5.18% eROI2 = 8.66% eROI3 = -0.44% mSpread = 0.0238%\n",
      "\n",
      "Getting extended results...\n"
     ]
    },
    {
     "name": "stderr",
     "output_type": "stream",
     "text": [
      "100%|███████████████████████████████████████████████████████████████████████████████████████████████████████████████████████████████| 4556/4556 [00:01<00:00, 3822.71it/s]\n"
     ]
    },
    {
     "name": "stdout",
     "output_type": "stream",
     "text": [
      "Epoch = 11. Time index = mean. Threshold MC = 0.7. Threshold MD = 0.6\n",
      "RD = 2006 NZ = 3568 NZA = 4557 pNZ = 0.406% pNZA = 0.518% AD = 56.22% ADA = 44.02% NO = 910 GSP = 55.49% NSP = 50.55%\n",
      "SI2 = 0.53 SI = -14.90 eGROI = 26.86% eROI = 5.18% eROI2 = 8.66% eROI3 = -0.44% mSpread = 0.0238%\n",
      "\n",
      "Getting extended results...\n"
     ]
    },
    {
     "name": "stderr",
     "output_type": "stream",
     "text": [
      "100%|███████████████████████████████████████████████████████████████████████████████████████████████████████████████████████████████| 4556/4556 [00:01<00:00, 4496.21it/s]\n"
     ]
    },
    {
     "name": "stdout",
     "output_type": "stream",
     "text": [
      "Epoch = 11. Time index = mean. Threshold MC = 0.7. Threshold MD = 0.6\n",
      "RD = 2006 NZ = 3568 NZA = 4557 pNZ = 0.406% pNZA = 0.518% AD = 56.22% ADA = 44.02% NO = 910 GSP = 55.49% NSP = 50.55%\n",
      "SI2 = 0.53 SI = -14.90 eGROI = 26.86% eROI = 5.18% eROI2 = 8.66% eROI3 = -0.44% mSpread = 0.0238%\n",
      "\n",
      "Getting extended results...\n"
     ]
    },
    {
     "name": "stderr",
     "output_type": "stream",
     "text": [
      "100%|███████████████████████████████████████████████████████████████████████████████████████████████████████████████████████████████| 4556/4556 [00:01<00:00, 4400.91it/s]\n"
     ]
    },
    {
     "name": "stdout",
     "output_type": "stream",
     "text": [
      "Epoch = 11. Time index = mean. Threshold MC = 0.7. Threshold MD = 0.6\n",
      "RD = 2006 NZ = 3568 NZA = 4557 pNZ = 0.406% pNZA = 0.518% AD = 56.22% ADA = 44.02% NO = 910 GSP = 55.49% NSP = 50.55%\n",
      "SI2 = 0.53 SI = -14.90 eGROI = 26.86% eROI = 5.18% eROI2 = 8.66% eROI3 = -0.44% mSpread = 0.0238%\n",
      "\n",
      "Getting extended results...\n"
     ]
    },
    {
     "name": "stderr",
     "output_type": "stream",
     "text": [
      "100%|███████████████████████████████████████████████████████████████████████████████████████████████████████████████████████████████| 4556/4556 [00:00<00:00, 4906.71it/s]\n"
     ]
    },
    {
     "name": "stdout",
     "output_type": "stream",
     "text": [
      "Epoch = 11. Time index = mean. Threshold MC = 0.7. Threshold MD = 0.6\n",
      "RD = 2006 NZ = 3568 NZA = 4557 pNZ = 0.406% pNZA = 0.518% AD = 56.22% ADA = 44.02% NO = 910 GSP = 55.49% NSP = 50.55%\n",
      "SI2 = 0.53 SI = -14.90 eGROI = 26.86% eROI = 5.18% eROI2 = 8.66% eROI3 = -0.44% mSpread = 0.0238%\n",
      "\n",
      "Getting extended results...\n"
     ]
    },
    {
     "name": "stderr",
     "output_type": "stream",
     "text": [
      "100%|███████████████████████████████████████████████████████████████████████████████████████████████████████████████████████████████| 4556/4556 [00:01<00:00, 4277.29it/s]\n"
     ]
    },
    {
     "name": "stdout",
     "output_type": "stream",
     "text": [
      "Epoch = 11. Time index = mean. Threshold MC = 0.7. Threshold MD = 0.6\n",
      "RD = 2006 NZ = 3568 NZA = 4557 pNZ = 0.406% pNZA = 0.518% AD = 56.22% ADA = 44.02% NO = 910 GSP = 55.49% NSP = 50.55%\n",
      "SI2 = 0.53 SI = -14.90 eGROI = 26.86% eROI = 5.18% eROI2 = 8.66% eROI3 = -0.44% mSpread = 0.0238%\n",
      "\n",
      "Best eGROI = 83.16 t_index 2 thr_mc 0.5 thr_md 0.6 epoch 11 in 4823 GSP 58.88 ADA 37.89 AD 58.13\n",
      "Best eROI = 24.64 t_index 2 thr_mc 0.7 thr_md 0.7 epoch 11 in 337 GSP 60.24 ADA 50.29 AD 60.86\n",
      "Best eROI.5 = 59.04 t_index 2 thr_mc 0.5 thr_md 0.6 epoch 11 in 4823 GSP 58.88 ADA 37.89 AD 58.13\n",
      "Best eROI1 = 43.49 t_index 1 thr_mc 0.7 thr_md 0.5 epoch 11 in 1806 GSP 56.37 ADA 39.83 AD 52.84\n",
      "Best eROI1.5 = 34.46 t_index 1 thr_mc 0.7 thr_md 0.5 epoch 11 in 1806 GSP 56.37 ADA 39.83 AD 52.84\n",
      "Best eROI2 = 28.07 t_index 2 thr_mc 0.5 thr_md 0.7 epoch 11 in 688 GSP 61.19 ADA 48.80 AD 63.83\n",
      "Best eROI3 = 23.44 t_index 2 thr_mc 0.7 thr_md 0.7 epoch 11 in 337 GSP 60.24 ADA 50.29 AD 60.86\n",
      "Best eROI4 = 20.07 t_index 2 thr_mc 0.7 thr_md 0.7 epoch 11 in 337 GSP 60.24 ADA 50.29 AD 60.86\n",
      "Best eROI5 = 16.70 t_index 2 thr_mc 0.7 thr_md 0.7 epoch 11 in 337 GSP 60.24 ADA 50.29 AD 60.86\n",
      "Best SI = 14.20 t_index 2 thr_mc 0.6 thr_md 0.7 epoch 11 in 460 GSP 60.43 ADA 49.89 AD 62.04\n",
      "Best SI.5 = 218.83 t_index 3 thr_mc 0.5 thr_md 0.6 epoch 11 in 4689 GSP 59.03 ADA 37.78 AD 58.12\n",
      "Best SI1 = 142.83 t_index 3 thr_mc 0.5 thr_md 0.6 epoch 11 in 4689 GSP 59.03 ADA 37.78 AD 58.12\n",
      "Best SI1.5 = 69.80 t_index 3 thr_mc 0.6 thr_md 0.6 epoch 11 in 2740 GSP 59.60 ADA 40.74 AD 57.45\n",
      "Best SI2 = 28.80 t_index 3 thr_mc 0.6 thr_md 0.6 epoch 11 in 2740 GSP 59.60 ADA 40.74 AD 57.45\n",
      "Best SI3 = 13.20 t_index 2 thr_mc 0.6 thr_md 0.7 epoch 11 in 460 GSP 60.43 ADA 49.89 AD 62.04\n",
      "Best SI4 = 8.39 t_index 2 thr_mc 0.7 thr_md 0.7 epoch 11 in 337 GSP 60.24 ADA 50.29 AD 60.86\n",
      "Best SI5 = 2.35 t_index 1 thr_mc 0.8 thr_md 0.7 epoch 11 in 105 GSP 61.90 ADA 52.38 AD 59.23\n",
      "Best 99eGROI = 85.30 t_index 3 thr_mc 0.5 thr_md 0.6 epoch 11 in 4689 GSP 59.03 ADA 37.78 AD 58.12\n",
      "Best 99eROI = 19.85 t_index 2 thr_mc 0.7 thr_md 0.7 epoch 11 in 337 GSP 60.24 ADA 50.29 AD 60.86\n",
      "Best 99eROI.5 = 62.31 t_index 3 thr_mc 0.5 thr_md 0.6 epoch 11 in 4689 GSP 59.03 ADA 37.78 AD 58.12\n",
      "Best 99eROI1 = 39.33 t_index 3 thr_mc 0.5 thr_md 0.6 epoch 11 in 4689 GSP 59.03 ADA 37.78 AD 58.12\n",
      "Best 99eROI1.5 = 23.64 t_index 2 thr_mc 0.7 thr_md 0.7 epoch 11 in 337 GSP 60.24 ADA 50.29 AD 60.86\n",
      "Best 99eROI2 = 21.98 t_index 2 thr_mc 0.7 thr_md 0.7 epoch 11 in 337 GSP 60.24 ADA 50.29 AD 60.86\n",
      "Best 99eROI3 = 18.67 t_index 2 thr_mc 0.7 thr_md 0.7 epoch 11 in 337 GSP 60.24 ADA 50.29 AD 60.86\n",
      "Best 99eROI4 = 15.36 t_index 2 thr_mc 0.7 thr_md 0.7 epoch 11 in 337 GSP 60.24 ADA 50.29 AD 60.86\n",
      "Best 99eROI5 = 13.79 t_index 1 thr_mc 0.8 thr_md 0.7 epoch 11 in 105 GSP 61.90 ADA 52.38 AD 59.23\n",
      "\n",
      "The very best:\n",
      "Best eGROI = 107.37 t_index 2 thr_mc 0.5 thr_md 0.6 epoch 14 in 5603 GSP 59.16 ADA 37.40 AD 57.47\n",
      "Best eROI = 30.31 t_index 3 thr_mc 0.7 thr_md 0.5 epoch 5 in 1499 GSP 57.51 ADA 38.79 AD 51.43\n",
      "Best eROI.5 = 79.36 t_index 2 thr_mc 0.5 thr_md 0.6 epoch 14 in 5603 GSP 59.16 ADA 37.40 AD 57.47\n",
      "Best eROI1 = 52.65 t_index 3 thr_mc 0.5 thr_md 0.6 epoch 13 in 5249 GSP 59.19 ADA 37.62 AD 57.70\n",
      "Best eROI1.5 = 41.52 t_index 3 thr_mc 0.7 thr_md 0.5 epoch 5 in 1499 GSP 57.51 ADA 38.79 AD 51.43\n",
      "Best eROI2 = 34.03 t_index 3 thr_mc 0.7 thr_md 0.5 epoch 5 in 1499 GSP 57.51 ADA 38.79 AD 51.43\n",
      "Best eROI3 = 25.11 t_index 0 thr_mc 0.8 thr_md 0.5 epoch 5 in 310 GSP 58.39 ADA 43.84 AD 51.94\n",
      "Best eROI4 = 22.44 t_index 0 thr_mc 0.8 thr_md 0.5 epoch 1 in 245 GSP 56.33 ADA 42.04 AD 48.92\n",
      "Best eROI5 = 20.25 t_index 0 thr_mc 0.6 thr_md 0.7 epoch 14 in 148 GSP 64.86 ADA 53.31 AD 70.98\n",
      "Best SI = 19.99 t_index 2 thr_mc 0.6 thr_md 0.7 epoch 10 in 317 GSP 62.78 ADA 50.27 AD 63.01\n",
      "Best SI.5 = 248.41 t_index 2 thr_mc 0.5 thr_md 0.6 epoch 14 in 5603 GSP 59.16 ADA 37.40 AD 57.47\n",
      "Best SI1 = 156.03 t_index 3 thr_mc 0.5 thr_md 0.6 epoch 13 in 5249 GSP 59.19 ADA 37.62 AD 57.70\n",
      "Best SI1.5 = 84.18 t_index 3 thr_mc 0.6 thr_md 0.6 epoch 12 in 2894 GSP 59.92 ADA 40.73 AD 57.38\n",
      "Best SI2 = 33.18 t_index 3 thr_mc 0.6 thr_md 0.6 epoch 12 in 2894 GSP 59.92 ADA 40.73 AD 57.38\n",
      "Best SI3 = 18.99 t_index 2 thr_mc 0.6 thr_md 0.7 epoch 10 in 317 GSP 62.78 ADA 50.27 AD 63.01\n",
      "Best SI4 = 12.33 t_index 2 thr_mc 0.7 thr_md 0.7 epoch 10 in 239 GSP 62.76 ADA 50.89 AD 62.15\n",
      "Best SI5 = 8.33 t_index 2 thr_mc 0.7 thr_md 0.7 epoch 10 in 239 GSP 62.76 ADA 50.89 AD 62.15\n",
      "Best 99eGROI = 101.86 t_index 2 thr_mc 0.5 thr_md 0.6 epoch 14 in 5603 GSP 59.16 ADA 37.40 AD 57.47\n",
      "Best 99eROI = 29.77 t_index 0 thr_mc 0.8 thr_md 0.5 epoch 1 in 245 GSP 56.33 ADA 42.04 AD 48.92\n",
      "Best 99eROI.5 = 74.59 t_index 3 thr_mc 0.5 thr_md 0.6 epoch 13 in 5249 GSP 59.19 ADA 37.62 AD 57.70\n",
      "Best 99eROI1 = 48.86 t_index 3 thr_mc 0.5 thr_md 0.6 epoch 13 in 5249 GSP 59.19 ADA 37.62 AD 57.70\n",
      "Best 99eROI1.5 = 32.68 t_index 0 thr_mc 0.8 thr_md 0.5 epoch 1 in 245 GSP 56.33 ADA 42.04 AD 48.92\n",
      "Best 99eROI2 = 31.48 t_index 0 thr_mc 0.8 thr_md 0.5 epoch 1 in 245 GSP 56.33 ADA 42.04 AD 48.92\n",
      "Best 99eROI3 = 29.07 t_index 0 thr_mc 0.8 thr_md 0.5 epoch 1 in 245 GSP 56.33 ADA 42.04 AD 48.92\n",
      "Best 99eROI4 = 26.66 t_index 0 thr_mc 0.8 thr_md 0.5 epoch 1 in 245 GSP 56.33 ADA 42.04 AD 48.92\n",
      "Best 99eROI5 = 24.25 t_index 0 thr_mc 0.8 thr_md 0.5 epoch 1 in 245 GSP 56.33 ADA 42.04 AD 48.92\n",
      "Time=43.55 secs\n",
      "INFO:tensorflow:Restoring parameters from C:/Users/mgutierrez/root/Projects/SDC/py/RNN/weights/WRNN01010k4K5A/000012/000012\n",
      "Parameters loaded. Epoch 12\n",
      "Epoch 12 of 14. Getting output...\n"
     ]
    },
    {
     "name": "stderr",
     "output_type": "stream",
     "text": [
      "100%|███████████████████████████████████████████████████████████████████████████████████████████████████████████████████████████████████| 859/859 [01:18<00:00, 10.97it/s]\n"
     ]
    },
    {
     "name": "stdout",
     "output_type": "stream",
     "text": [
      "J_test = 1.590186\n",
      "Epoch 12, J_train = 1.639119536599855, J_test = 1.5901861347613706\n",
      "Getting extended results...\n"
     ]
    },
    {
     "name": "stderr",
     "output_type": "stream",
     "text": [
      "100%|███████████████████████████████████████████████████████████████████████████████████████████████████████████████████████████████| 2506/2506 [00:01<00:00, 2465.83it/s]\n"
     ]
    },
    {
     "name": "stdout",
     "output_type": "stream",
     "text": [
      "Epoch = 12. Time index = 0. Threshold MC = 0.7. Threshold MD = 0.6\n",
      "RD = 1082 NZ = 1880 NZA = 2507 pNZ = 0.214% pNZA = 0.285% AD = 57.55% ADA = 43.16% NO = 849 GSP = 55.83% NSP = 49.35%\n",
      "SI2 = -0.10 SI = -14.74 eGROI = 20.38% eROI = -0.72% eROI2 = 3.40% eROI3 = -5.09% mSpread = 0.0249%\n",
      "\n",
      "Getting extended results...\n"
     ]
    },
    {
     "name": "stderr",
     "output_type": "stream",
     "text": [
      "100%|███████████████████████████████████████████████████████████████████████████████████████████████████████████████████████████████| 5303/5303 [00:01<00:00, 3667.01it/s]\n"
     ]
    },
    {
     "name": "stdout",
     "output_type": "stream",
     "text": [
      "Epoch = 12. Time index = 1. Threshold MC = 0.7. Threshold MD = 0.6\n",
      "RD = 2285 NZ = 4091 NZA = 5304 pNZ = 0.465% pNZA = 0.603% AD = 55.85% ADA = 43.08% NO = 1072 GSP = 56.06% NSP = 49.72%\n",
      "SI2 = 0.86 SI = -16.45 eGROI = 21.24% eROI = -4.89% eROI2 = -0.20% eROI3 = -10.92% mSpread = 0.0244%\n",
      "\n",
      "Getting extended results...\n"
     ]
    },
    {
     "name": "stderr",
     "output_type": "stream",
     "text": [
      "100%|███████████████████████████████████████████████████████████████████████████████████████████████████████████████████████████████| 6255/6255 [00:02<00:00, 3105.69it/s]\n"
     ]
    },
    {
     "name": "stdout",
     "output_type": "stream",
     "text": [
      "Epoch = 12. Time index = 2. Threshold MC = 0.7. Threshold MD = 0.6\n",
      "RD = 2724 NZ = 4889 NZA = 6256 pNZ = 0.556% pNZA = 0.712% AD = 55.72% ADA = 43.54% NO = 999 GSP = 56.56% NSP = 51.85%\n",
      "SI2 = 1.61 SI = -15.20 eGROI = 23.60% eROI = 0.14% eROI2 = 3.62% eROI3 = -6.37% mSpread = 0.0235%\n",
      "\n",
      "Getting extended results...\n"
     ]
    },
    {
     "name": "stderr",
     "output_type": "stream",
     "text": [
      "100%|███████████████████████████████████████████████████████████████████████████████████████████████████████████████████████████████| 6876/6876 [00:01<00:00, 4188.53it/s]\n"
     ]
    },
    {
     "name": "stdout",
     "output_type": "stream",
     "text": [
      "Epoch = 12. Time index = 3. Threshold MC = 0.7. Threshold MD = 0.6\n",
      "RD = 2996 NZ = 5360 NZA = 6877 pNZ = 0.610% pNZA = 0.782% AD = 55.90% ADA = 43.57% NO = 979 GSP = 57.51% NSP = 51.38%\n",
      "SI2 = 1.82 SI = -15.20 eGROI = 27.77% eROI = 4.42% eROI2 = 8.19% eROI3 = -1.60% mSpread = 0.0239%\n",
      "\n",
      "Getting extended results...\n"
     ]
    },
    {
     "name": "stderr",
     "output_type": "stream",
     "text": [
      "100%|███████████████████████████████████████████████████████████████████████████████████████████████████████████████████████████████| 5191/5191 [00:01<00:00, 4121.02it/s]\n"
     ]
    },
    {
     "name": "stdout",
     "output_type": "stream",
     "text": [
      "Epoch = 12. Time index = mean. Threshold MC = 0.7. Threshold MD = 0.6\n",
      "RD = 2259 NZ = 4063 NZA = 5192 pNZ = 0.462% pNZA = 0.591% AD = 55.60% ADA = 43.51% NO = 941 GSP = 55.26% NSP = 49.63%\n",
      "SI2 = 0.10 SI = -15.44 eGROI = 20.98% eROI = -1.55% eROI2 = 2.16% eROI3 = -7.25% mSpread = 0.0239%\n",
      "\n",
      "Getting extended results...\n"
     ]
    },
    {
     "name": "stderr",
     "output_type": "stream",
     "text": [
      "100%|███████████████████████████████████████████████████████████████████████████████████████████████████████████████████████████████| 5191/5191 [00:01<00:00, 4526.00it/s]\n"
     ]
    },
    {
     "name": "stdout",
     "output_type": "stream",
     "text": [
      "Epoch = 12. Time index = mean. Threshold MC = 0.7. Threshold MD = 0.6\n",
      "RD = 2259 NZ = 4063 NZA = 5192 pNZ = 0.462% pNZA = 0.591% AD = 55.60% ADA = 43.51% NO = 941 GSP = 55.26% NSP = 49.63%\n",
      "SI2 = 0.10 SI = -15.44 eGROI = 20.98% eROI = -1.55% eROI2 = 2.16% eROI3 = -7.25% mSpread = 0.0239%\n",
      "\n",
      "Getting extended results...\n"
     ]
    },
    {
     "name": "stderr",
     "output_type": "stream",
     "text": [
      "100%|███████████████████████████████████████████████████████████████████████████████████████████████████████████████████████████████| 5191/5191 [00:01<00:00, 4626.52it/s]\n"
     ]
    },
    {
     "name": "stdout",
     "output_type": "stream",
     "text": [
      "Epoch = 12. Time index = mean. Threshold MC = 0.7. Threshold MD = 0.6\n",
      "RD = 2259 NZ = 4063 NZA = 5192 pNZ = 0.462% pNZA = 0.591% AD = 55.60% ADA = 43.51% NO = 941 GSP = 55.26% NSP = 49.63%\n",
      "SI2 = 0.10 SI = -15.44 eGROI = 20.98% eROI = -1.55% eROI2 = 2.16% eROI3 = -7.25% mSpread = 0.0239%\n",
      "\n",
      "Getting extended results...\n"
     ]
    },
    {
     "name": "stderr",
     "output_type": "stream",
     "text": [
      "100%|███████████████████████████████████████████████████████████████████████████████████████████████████████████████████████████████| 5191/5191 [00:01<00:00, 4124.28it/s]\n"
     ]
    },
    {
     "name": "stdout",
     "output_type": "stream",
     "text": [
      "Epoch = 12. Time index = mean. Threshold MC = 0.7. Threshold MD = 0.6\n",
      "RD = 2259 NZ = 4063 NZA = 5192 pNZ = 0.462% pNZA = 0.591% AD = 55.60% ADA = 43.51% NO = 941 GSP = 55.26% NSP = 49.63%\n",
      "SI2 = 0.10 SI = -15.44 eGROI = 20.98% eROI = -1.55% eROI2 = 2.16% eROI3 = -7.25% mSpread = 0.0239%\n",
      "\n",
      "Getting extended results...\n"
     ]
    },
    {
     "name": "stderr",
     "output_type": "stream",
     "text": [
      "100%|███████████████████████████████████████████████████████████████████████████████████████████████████████████████████████████████| 5191/5191 [00:01<00:00, 3415.27it/s]\n"
     ]
    },
    {
     "name": "stdout",
     "output_type": "stream",
     "text": [
      "Epoch = 12. Time index = mean. Threshold MC = 0.7. Threshold MD = 0.6\n",
      "RD = 2259 NZ = 4063 NZA = 5192 pNZ = 0.462% pNZA = 0.591% AD = 55.60% ADA = 43.51% NO = 941 GSP = 55.26% NSP = 49.63%\n",
      "SI2 = 0.10 SI = -15.44 eGROI = 20.98% eROI = -1.55% eROI2 = 2.16% eROI3 = -7.25% mSpread = 0.0239%\n",
      "\n",
      "Getting extended results...\n"
     ]
    },
    {
     "name": "stderr",
     "output_type": "stream",
     "text": [
      "100%|███████████████████████████████████████████████████████████████████████████████████████████████████████████████████████████████| 5191/5191 [00:01<00:00, 3810.28it/s]\n"
     ]
    },
    {
     "name": "stdout",
     "output_type": "stream",
     "text": [
      "Epoch = 12. Time index = mean. Threshold MC = 0.7. Threshold MD = 0.6\n",
      "RD = 2259 NZ = 4063 NZA = 5192 pNZ = 0.462% pNZA = 0.591% AD = 55.60% ADA = 43.51% NO = 941 GSP = 55.26% NSP = 49.63%\n",
      "SI2 = 0.10 SI = -15.44 eGROI = 20.98% eROI = -1.55% eROI2 = 2.16% eROI3 = -7.25% mSpread = 0.0239%\n",
      "\n",
      "Getting extended results...\n"
     ]
    },
    {
     "name": "stderr",
     "output_type": "stream",
     "text": [
      "100%|███████████████████████████████████████████████████████████████████████████████████████████████████████████████████████████████| 5191/5191 [00:01<00:00, 3177.56it/s]\n"
     ]
    },
    {
     "name": "stdout",
     "output_type": "stream",
     "text": [
      "Epoch = 12. Time index = mean. Threshold MC = 0.7. Threshold MD = 0.6\n",
      "RD = 2259 NZ = 4063 NZA = 5192 pNZ = 0.462% pNZA = 0.591% AD = 55.60% ADA = 43.51% NO = 941 GSP = 55.26% NSP = 49.63%\n",
      "SI2 = 0.10 SI = -15.44 eGROI = 20.98% eROI = -1.55% eROI2 = 2.16% eROI3 = -7.25% mSpread = 0.0239%\n",
      "\n",
      "Getting extended results...\n"
     ]
    },
    {
     "name": "stderr",
     "output_type": "stream",
     "text": [
      "100%|███████████████████████████████████████████████████████████████████████████████████████████████████████████████████████████████| 5191/5191 [00:01<00:00, 4140.68it/s]\n"
     ]
    },
    {
     "name": "stdout",
     "output_type": "stream",
     "text": [
      "Epoch = 12. Time index = mean. Threshold MC = 0.7. Threshold MD = 0.6\n",
      "RD = 2259 NZ = 4063 NZA = 5192 pNZ = 0.462% pNZA = 0.591% AD = 55.60% ADA = 43.51% NO = 941 GSP = 55.26% NSP = 49.63%\n",
      "SI2 = 0.10 SI = -15.44 eGROI = 20.98% eROI = -1.55% eROI2 = 2.16% eROI3 = -7.25% mSpread = 0.0239%\n",
      "\n",
      "Getting extended results...\n"
     ]
    },
    {
     "name": "stderr",
     "output_type": "stream",
     "text": [
      "100%|███████████████████████████████████████████████████████████████████████████████████████████████████████████████████████████████| 5191/5191 [00:01<00:00, 4744.63it/s]\n"
     ]
    },
    {
     "name": "stdout",
     "output_type": "stream",
     "text": [
      "Epoch = 12. Time index = mean. Threshold MC = 0.7. Threshold MD = 0.6\n",
      "RD = 2259 NZ = 4063 NZA = 5192 pNZ = 0.462% pNZA = 0.591% AD = 55.60% ADA = 43.51% NO = 941 GSP = 55.26% NSP = 49.63%\n",
      "SI2 = 0.10 SI = -15.44 eGROI = 20.98% eROI = -1.55% eROI2 = 2.16% eROI3 = -7.25% mSpread = 0.0239%\n",
      "\n",
      "Getting extended results...\n"
     ]
    },
    {
     "name": "stderr",
     "output_type": "stream",
     "text": [
      "100%|███████████████████████████████████████████████████████████████████████████████████████████████████████████████████████████████| 5191/5191 [00:01<00:00, 4037.89it/s]\n"
     ]
    },
    {
     "name": "stdout",
     "output_type": "stream",
     "text": [
      "Epoch = 12. Time index = mean. Threshold MC = 0.7. Threshold MD = 0.6\n",
      "RD = 2259 NZ = 4063 NZA = 5192 pNZ = 0.462% pNZA = 0.591% AD = 55.60% ADA = 43.51% NO = 941 GSP = 55.26% NSP = 49.63%\n",
      "SI2 = 0.10 SI = -15.44 eGROI = 20.98% eROI = -1.55% eROI2 = 2.16% eROI3 = -7.25% mSpread = 0.0239%\n",
      "\n",
      "Getting extended results...\n"
     ]
    },
    {
     "name": "stderr",
     "output_type": "stream",
     "text": [
      "100%|███████████████████████████████████████████████████████████████████████████████████████████████████████████████████████████████| 5191/5191 [00:01<00:00, 4130.82it/s]\n"
     ]
    },
    {
     "name": "stdout",
     "output_type": "stream",
     "text": [
      "Epoch = 12. Time index = mean. Threshold MC = 0.7. Threshold MD = 0.6\n",
      "RD = 2259 NZ = 4063 NZA = 5192 pNZ = 0.462% pNZA = 0.591% AD = 55.60% ADA = 43.51% NO = 941 GSP = 55.26% NSP = 49.63%\n",
      "SI2 = 0.10 SI = -15.44 eGROI = 20.98% eROI = -1.55% eROI2 = 2.16% eROI3 = -7.25% mSpread = 0.0239%\n",
      "\n",
      "Getting extended results...\n"
     ]
    },
    {
     "name": "stderr",
     "output_type": "stream",
     "text": [
      "100%|███████████████████████████████████████████████████████████████████████████████████████████████████████████████████████████████| 5191/5191 [00:01<00:00, 4914.86it/s]\n"
     ]
    },
    {
     "name": "stdout",
     "output_type": "stream",
     "text": [
      "Epoch = 12. Time index = mean. Threshold MC = 0.7. Threshold MD = 0.6\n",
      "RD = 2259 NZ = 4063 NZA = 5192 pNZ = 0.462% pNZA = 0.591% AD = 55.60% ADA = 43.51% NO = 941 GSP = 55.26% NSP = 49.63%\n",
      "SI2 = 0.10 SI = -15.44 eGROI = 20.98% eROI = -1.55% eROI2 = 2.16% eROI3 = -7.25% mSpread = 0.0239%\n",
      "\n",
      "Getting extended results...\n"
     ]
    },
    {
     "name": "stderr",
     "output_type": "stream",
     "text": [
      "100%|███████████████████████████████████████████████████████████████████████████████████████████████████████████████████████████████| 5191/5191 [00:01<00:00, 3483.83it/s]\n"
     ]
    },
    {
     "name": "stdout",
     "output_type": "stream",
     "text": [
      "Epoch = 12. Time index = mean. Threshold MC = 0.7. Threshold MD = 0.6\n",
      "RD = 2259 NZ = 4063 NZA = 5192 pNZ = 0.462% pNZA = 0.591% AD = 55.60% ADA = 43.51% NO = 941 GSP = 55.26% NSP = 49.63%\n",
      "SI2 = 0.10 SI = -15.44 eGROI = 20.98% eROI = -1.55% eROI2 = 2.16% eROI3 = -7.25% mSpread = 0.0239%\n",
      "\n",
      "Getting extended results...\n"
     ]
    },
    {
     "name": "stderr",
     "output_type": "stream",
     "text": [
      "100%|███████████████████████████████████████████████████████████████████████████████████████████████████████████████████████████████| 5191/5191 [00:01<00:00, 3942.97it/s]\n"
     ]
    },
    {
     "name": "stdout",
     "output_type": "stream",
     "text": [
      "Epoch = 12. Time index = mean. Threshold MC = 0.7. Threshold MD = 0.6\n",
      "RD = 2259 NZ = 4063 NZA = 5192 pNZ = 0.462% pNZA = 0.591% AD = 55.60% ADA = 43.51% NO = 941 GSP = 55.26% NSP = 49.63%\n",
      "SI2 = 0.10 SI = -15.44 eGROI = 20.98% eROI = -1.55% eROI2 = 2.16% eROI3 = -7.25% mSpread = 0.0239%\n",
      "\n",
      "Getting extended results...\n"
     ]
    },
    {
     "name": "stderr",
     "output_type": "stream",
     "text": [
      "100%|███████████████████████████████████████████████████████████████████████████████████████████████████████████████████████████████| 5191/5191 [00:01<00:00, 3766.18it/s]\n"
     ]
    },
    {
     "name": "stdout",
     "output_type": "stream",
     "text": [
      "Epoch = 12. Time index = mean. Threshold MC = 0.7. Threshold MD = 0.6\n",
      "RD = 2259 NZ = 4063 NZA = 5192 pNZ = 0.462% pNZA = 0.591% AD = 55.60% ADA = 43.51% NO = 941 GSP = 55.26% NSP = 49.63%\n",
      "SI2 = 0.10 SI = -15.44 eGROI = 20.98% eROI = -1.55% eROI2 = 2.16% eROI3 = -7.25% mSpread = 0.0239%\n",
      "\n",
      "Getting extended results...\n"
     ]
    },
    {
     "name": "stderr",
     "output_type": "stream",
     "text": [
      "100%|███████████████████████████████████████████████████████████████████████████████████████████████████████████████████████████████| 5191/5191 [00:01<00:00, 4475.37it/s]\n"
     ]
    },
    {
     "name": "stdout",
     "output_type": "stream",
     "text": [
      "Epoch = 12. Time index = mean. Threshold MC = 0.7. Threshold MD = 0.6\n",
      "RD = 2259 NZ = 4063 NZA = 5192 pNZ = 0.462% pNZA = 0.591% AD = 55.60% ADA = 43.51% NO = 941 GSP = 55.26% NSP = 49.63%\n",
      "SI2 = 0.10 SI = -15.44 eGROI = 20.98% eROI = -1.55% eROI2 = 2.16% eROI3 = -7.25% mSpread = 0.0239%\n",
      "\n",
      "Getting extended results...\n"
     ]
    },
    {
     "name": "stderr",
     "output_type": "stream",
     "text": [
      "100%|███████████████████████████████████████████████████████████████████████████████████████████████████████████████████████████████| 5191/5191 [00:01<00:00, 4630.64it/s]\n"
     ]
    },
    {
     "name": "stdout",
     "output_type": "stream",
     "text": [
      "Epoch = 12. Time index = mean. Threshold MC = 0.7. Threshold MD = 0.6\n",
      "RD = 2259 NZ = 4063 NZA = 5192 pNZ = 0.462% pNZA = 0.591% AD = 55.60% ADA = 43.51% NO = 941 GSP = 55.26% NSP = 49.63%\n",
      "SI2 = 0.10 SI = -15.44 eGROI = 20.98% eROI = -1.55% eROI2 = 2.16% eROI3 = -7.25% mSpread = 0.0239%\n",
      "\n",
      "Getting extended results...\n"
     ]
    },
    {
     "name": "stderr",
     "output_type": "stream",
     "text": [
      "100%|███████████████████████████████████████████████████████████████████████████████████████████████████████████████████████████████| 5191/5191 [00:01<00:00, 4197.44it/s]\n"
     ]
    },
    {
     "name": "stdout",
     "output_type": "stream",
     "text": [
      "Epoch = 12. Time index = mean. Threshold MC = 0.7. Threshold MD = 0.6\n",
      "RD = 2259 NZ = 4063 NZA = 5192 pNZ = 0.462% pNZA = 0.591% AD = 55.60% ADA = 43.51% NO = 941 GSP = 55.26% NSP = 49.63%\n",
      "SI2 = 0.10 SI = -15.44 eGROI = 20.98% eROI = -1.55% eROI2 = 2.16% eROI3 = -7.25% mSpread = 0.0239%\n",
      "\n",
      "Best eGROI = 95.60 t_index 3 thr_mc 0.5 thr_md 0.6 epoch 12 in 4978 GSP 59.14 ADA 37.81 AD 58.09\n",
      "Best eROI = 16.09 t_index 0 thr_mc 0.5 thr_md 0.7 epoch 12 in 55 GSP 65.45 ADA 60.29 AD 74.55\n",
      "Best eROI.5 = 70.71 t_index 3 thr_mc 0.5 thr_md 0.6 epoch 12 in 4978 GSP 59.14 ADA 37.81 AD 58.09\n",
      "Best eROI1 = 45.82 t_index 3 thr_mc 0.5 thr_md 0.6 epoch 12 in 4978 GSP 59.14 ADA 37.81 AD 58.09\n",
      "Best eROI1.5 = 23.64 t_index 2 thr_mc 0.7 thr_md 0.5 epoch 12 in 1684 GSP 55.94 ADA 39.55 AD 52.51\n",
      "Best eROI2 = 16.99 t_index 2 thr_mc 0.5 thr_md 0.7 epoch 12 in 859 GSP 59.37 ADA 46.92 AD 62.36\n",
      "Best eROI3 = 16.40 t_index 0 thr_mc 0.5 thr_md 0.7 epoch 12 in 55 GSP 65.45 ADA 60.29 AD 74.55\n",
      "Best eROI4 = 15.85 t_index 0 thr_mc 0.5 thr_md 0.7 epoch 12 in 55 GSP 65.45 ADA 60.29 AD 74.55\n",
      "Best eROI5 = 15.30 t_index 0 thr_mc 0.5 thr_md 0.7 epoch 12 in 55 GSP 65.45 ADA 60.29 AD 74.55\n",
      "Best SI = 3.85 t_index 0 thr_mc 0.5 thr_md 0.7 epoch 12 in 55 GSP 65.45 ADA 60.29 AD 74.55\n",
      "Best SI.5 = 226.66 t_index 3 thr_mc 0.5 thr_md 0.6 epoch 12 in 4978 GSP 59.14 ADA 37.81 AD 58.09\n",
      "Best SI1 = 149.66 t_index 3 thr_mc 0.5 thr_md 0.6 epoch 12 in 4978 GSP 59.14 ADA 37.81 AD 58.09\n",
      "Best SI1.5 = 84.18 t_index 3 thr_mc 0.6 thr_md 0.6 epoch 12 in 2894 GSP 59.92 ADA 40.73 AD 57.38\n",
      "Best SI2 = 33.18 t_index 3 thr_mc 0.6 thr_md 0.6 epoch 12 in 2894 GSP 59.92 ADA 40.73 AD 57.38\n",
      "Best SI3 = 1.85 t_index 0 thr_mc 0.5 thr_md 0.7 epoch 12 in 55 GSP 65.45 ADA 60.29 AD 74.55\n",
      "Best SI4 = 1.85 t_index 0 thr_mc 0.5 thr_md 0.7 epoch 12 in 55 GSP 65.45 ADA 60.29 AD 74.55\n",
      "Best SI5 = 1.85 t_index 0 thr_mc 0.5 thr_md 0.7 epoch 12 in 55 GSP 65.45 ADA 60.29 AD 74.55\n",
      "Best 99eGROI = 92.39 t_index 3 thr_mc 0.5 thr_md 0.6 epoch 12 in 4978 GSP 59.14 ADA 37.81 AD 58.09\n",
      "Best 99eROI = 16.56 t_index 0 thr_mc 0.5 thr_md 0.7 epoch 12 in 55 GSP 65.45 ADA 60.29 AD 74.55\n",
      "Best 99eROI.5 = 67.99 t_index 3 thr_mc 0.5 thr_md 0.6 epoch 12 in 4978 GSP 59.14 ADA 37.81 AD 58.09\n",
      "Best 99eROI1 = 43.59 t_index 3 thr_mc 0.5 thr_md 0.6 epoch 12 in 4978 GSP 59.14 ADA 37.81 AD 58.09\n",
      "Best 99eROI1.5 = 19.19 t_index 3 thr_mc 0.5 thr_md 0.6 epoch 12 in 4978 GSP 59.14 ADA 37.81 AD 58.09\n",
      "Best 99eROI2 = 17.41 t_index 0 thr_mc 0.5 thr_md 0.7 epoch 12 in 55 GSP 65.45 ADA 60.29 AD 74.55\n",
      "Best 99eROI3 = 16.87 t_index 0 thr_mc 0.5 thr_md 0.7 epoch 12 in 55 GSP 65.45 ADA 60.29 AD 74.55\n",
      "Best 99eROI4 = 16.33 t_index 0 thr_mc 0.5 thr_md 0.7 epoch 12 in 55 GSP 65.45 ADA 60.29 AD 74.55\n",
      "Best 99eROI5 = 15.79 t_index 0 thr_mc 0.5 thr_md 0.7 epoch 12 in 55 GSP 65.45 ADA 60.29 AD 74.55\n",
      "\n",
      "The very best:\n",
      "Best eGROI = 107.37 t_index 2 thr_mc 0.5 thr_md 0.6 epoch 14 in 5603 GSP 59.16 ADA 37.40 AD 57.47\n",
      "Best eROI = 30.31 t_index 3 thr_mc 0.7 thr_md 0.5 epoch 5 in 1499 GSP 57.51 ADA 38.79 AD 51.43\n",
      "Best eROI.5 = 79.36 t_index 2 thr_mc 0.5 thr_md 0.6 epoch 14 in 5603 GSP 59.16 ADA 37.40 AD 57.47\n",
      "Best eROI1 = 52.65 t_index 3 thr_mc 0.5 thr_md 0.6 epoch 13 in 5249 GSP 59.19 ADA 37.62 AD 57.70\n",
      "Best eROI1.5 = 41.52 t_index 3 thr_mc 0.7 thr_md 0.5 epoch 5 in 1499 GSP 57.51 ADA 38.79 AD 51.43\n",
      "Best eROI2 = 34.03 t_index 3 thr_mc 0.7 thr_md 0.5 epoch 5 in 1499 GSP 57.51 ADA 38.79 AD 51.43\n",
      "Best eROI3 = 25.11 t_index 0 thr_mc 0.8 thr_md 0.5 epoch 5 in 310 GSP 58.39 ADA 43.84 AD 51.94\n",
      "Best eROI4 = 22.44 t_index 0 thr_mc 0.8 thr_md 0.5 epoch 1 in 245 GSP 56.33 ADA 42.04 AD 48.92\n",
      "Best eROI5 = 20.25 t_index 0 thr_mc 0.6 thr_md 0.7 epoch 14 in 148 GSP 64.86 ADA 53.31 AD 70.98\n",
      "Best SI = 19.99 t_index 2 thr_mc 0.6 thr_md 0.7 epoch 10 in 317 GSP 62.78 ADA 50.27 AD 63.01\n",
      "Best SI.5 = 248.41 t_index 2 thr_mc 0.5 thr_md 0.6 epoch 14 in 5603 GSP 59.16 ADA 37.40 AD 57.47\n",
      "Best SI1 = 156.03 t_index 3 thr_mc 0.5 thr_md 0.6 epoch 13 in 5249 GSP 59.19 ADA 37.62 AD 57.70\n",
      "Best SI1.5 = 84.18 t_index 3 thr_mc 0.6 thr_md 0.6 epoch 12 in 2894 GSP 59.92 ADA 40.73 AD 57.38\n",
      "Best SI2 = 33.18 t_index 3 thr_mc 0.6 thr_md 0.6 epoch 12 in 2894 GSP 59.92 ADA 40.73 AD 57.38\n",
      "Best SI3 = 18.99 t_index 2 thr_mc 0.6 thr_md 0.7 epoch 10 in 317 GSP 62.78 ADA 50.27 AD 63.01\n",
      "Best SI4 = 12.33 t_index 2 thr_mc 0.7 thr_md 0.7 epoch 10 in 239 GSP 62.76 ADA 50.89 AD 62.15\n",
      "Best SI5 = 8.33 t_index 2 thr_mc 0.7 thr_md 0.7 epoch 10 in 239 GSP 62.76 ADA 50.89 AD 62.15\n",
      "Best 99eGROI = 101.86 t_index 2 thr_mc 0.5 thr_md 0.6 epoch 14 in 5603 GSP 59.16 ADA 37.40 AD 57.47\n",
      "Best 99eROI = 29.77 t_index 0 thr_mc 0.8 thr_md 0.5 epoch 1 in 245 GSP 56.33 ADA 42.04 AD 48.92\n",
      "Best 99eROI.5 = 74.59 t_index 3 thr_mc 0.5 thr_md 0.6 epoch 13 in 5249 GSP 59.19 ADA 37.62 AD 57.70\n",
      "Best 99eROI1 = 48.86 t_index 3 thr_mc 0.5 thr_md 0.6 epoch 13 in 5249 GSP 59.19 ADA 37.62 AD 57.70\n",
      "Best 99eROI1.5 = 32.68 t_index 0 thr_mc 0.8 thr_md 0.5 epoch 1 in 245 GSP 56.33 ADA 42.04 AD 48.92\n",
      "Best 99eROI2 = 31.48 t_index 0 thr_mc 0.8 thr_md 0.5 epoch 1 in 245 GSP 56.33 ADA 42.04 AD 48.92\n",
      "Best 99eROI3 = 29.07 t_index 0 thr_mc 0.8 thr_md 0.5 epoch 1 in 245 GSP 56.33 ADA 42.04 AD 48.92\n",
      "Best 99eROI4 = 26.66 t_index 0 thr_mc 0.8 thr_md 0.5 epoch 1 in 245 GSP 56.33 ADA 42.04 AD 48.92\n",
      "Best 99eROI5 = 24.25 t_index 0 thr_mc 0.8 thr_md 0.5 epoch 1 in 245 GSP 56.33 ADA 42.04 AD 48.92\n",
      "Time=50.29 secs\n",
      "INFO:tensorflow:Restoring parameters from C:/Users/mgutierrez/root/Projects/SDC/py/RNN/weights/WRNN01010k4K5A/000013/000013\n",
      "Parameters loaded. Epoch 13\n",
      "Epoch 13 of 14. Getting output...\n"
     ]
    },
    {
     "name": "stderr",
     "output_type": "stream",
     "text": [
      "100%|███████████████████████████████████████████████████████████████████████████████████████████████████████████████████████████████████| 859/859 [01:17<00:00, 11.14it/s]\n"
     ]
    },
    {
     "name": "stdout",
     "output_type": "stream",
     "text": [
      "J_test = 1.590306\n",
      "Epoch 13, J_train = 1.638502318482145, J_test = 1.590305695086891\n",
      "Getting extended results...\n"
     ]
    },
    {
     "name": "stderr",
     "output_type": "stream",
     "text": [
      "100%|███████████████████████████████████████████████████████████████████████████████████████████████████████████████████████████████| 2960/2960 [00:01<00:00, 2887.05it/s]\n"
     ]
    },
    {
     "name": "stdout",
     "output_type": "stream",
     "text": [
      "Epoch = 13. Time index = 0. Threshold MC = 0.7. Threshold MD = 0.6\n",
      "RD = 1283 NZ = 2226 NZA = 2961 pNZ = 0.253% pNZA = 0.337% AD = 57.64% ADA = 43.33% NO = 932 GSP = 55.58% NSP = 49.03%\n",
      "SI2 = -0.26 SI = -15.54 eGROI = 18.05% eROI = -4.72% eROI2 = -0.59% eROI3 = -9.91% mSpread = 0.0244%\n",
      "\n",
      "Getting extended results...\n"
     ]
    },
    {
     "name": "stderr",
     "output_type": "stream",
     "text": [
      "100%|███████████████████████████████████████████████████████████████████████████████████████████████████████████████████████████████| 5899/5899 [00:01<00:00, 3364.47it/s]\n"
     ]
    },
    {
     "name": "stdout",
     "output_type": "stream",
     "text": [
      "Epoch = 13. Time index = 1. Threshold MC = 0.7. Threshold MD = 0.6\n",
      "RD = 2532 NZ = 4562 NZA = 5900 pNZ = 0.519% pNZA = 0.671% AD = 55.50% ADA = 42.92% NO = 1088 GSP = 56.25% NSP = 50.46%\n",
      "SI2 = 1.09 SI = -16.33 eGROI = 22.25% eROI = -4.05% eROI2 = 0.49% eROI3 = -10.39% mSpread = 0.0242%\n",
      "\n",
      "Getting extended results...\n"
     ]
    },
    {
     "name": "stderr",
     "output_type": "stream",
     "text": [
      "100%|███████████████████████████████████████████████████████████████████████████████████████████████████████████████████████████████| 6793/6793 [00:01<00:00, 4957.13it/s]\n"
     ]
    },
    {
     "name": "stdout",
     "output_type": "stream",
     "text": [
      "Epoch = 13. Time index = 2. Threshold MC = 0.7. Threshold MD = 0.6\n",
      "RD = 2924 NZ = 5287 NZA = 6794 pNZ = 0.601% pNZA = 0.773% AD = 55.31% ADA = 43.04% NO = 1030 GSP = 56.70% NSP = 51.07%\n",
      "SI2 = 1.50 SI = -15.69 eGROI = 29.28% eROI = 4.93% eROI2 = 8.68% eROI3 = -1.62% mSpread = 0.0236%\n",
      "\n",
      "Getting extended results...\n"
     ]
    },
    {
     "name": "stderr",
     "output_type": "stream",
     "text": [
      "100%|███████████████████████████████████████████████████████████████████████████████████████████████████████████████████████████████| 7395/7395 [00:01<00:00, 5596.00it/s]\n"
     ]
    },
    {
     "name": "stdout",
     "output_type": "stream",
     "text": [
      "Epoch = 13. Time index = 3. Threshold MC = 0.7. Threshold MD = 0.6\n",
      "RD = 3184 NZ = 5757 NZA = 7396 pNZ = 0.655% pNZA = 0.841% AD = 55.31% ADA = 43.05% NO = 1026 GSP = 56.82% NSP = 50.58%\n",
      "SI2 = 1.25 SI = -15.81 eGROI = 31.01% eROI = 6.50% eROI2 = 10.49% eROI3 = 0.23% mSpread = 0.0239%\n",
      "\n",
      "Getting extended results...\n"
     ]
    },
    {
     "name": "stderr",
     "output_type": "stream",
     "text": [
      "100%|███████████████████████████████████████████████████████████████████████████████████████████████████████████████████████████████| 5750/5750 [00:01<00:00, 4675.74it/s]\n"
     ]
    },
    {
     "name": "stdout",
     "output_type": "stream",
     "text": [
      "Epoch = 13. Time index = mean. Threshold MC = 0.7. Threshold MD = 0.6\n",
      "RD = 2494 NZ = 4499 NZA = 5751 pNZ = 0.512% pNZA = 0.654% AD = 55.43% ADA = 43.37% NO = 979 GSP = 57.10% NSP = 50.87%\n",
      "SI2 = 0.86 SI = -15.36 eGROI = 23.48% eROI = -0.39% eROI2 = 3.90% eROI3 = -5.89% mSpread = 0.0244%\n",
      "\n",
      "Getting extended results...\n"
     ]
    },
    {
     "name": "stderr",
     "output_type": "stream",
     "text": [
      "100%|███████████████████████████████████████████████████████████████████████████████████████████████████████████████████████████████| 5750/5750 [00:01<00:00, 4180.69it/s]\n"
     ]
    },
    {
     "name": "stdout",
     "output_type": "stream",
     "text": [
      "Epoch = 13. Time index = mean. Threshold MC = 0.7. Threshold MD = 0.6\n",
      "RD = 2494 NZ = 4499 NZA = 5751 pNZ = 0.512% pNZA = 0.654% AD = 55.43% ADA = 43.37% NO = 979 GSP = 57.10% NSP = 50.87%\n",
      "SI2 = 0.86 SI = -15.36 eGROI = 23.48% eROI = -0.39% eROI2 = 3.90% eROI3 = -5.89% mSpread = 0.0244%\n",
      "\n",
      "Getting extended results...\n"
     ]
    },
    {
     "name": "stderr",
     "output_type": "stream",
     "text": [
      "100%|███████████████████████████████████████████████████████████████████████████████████████████████████████████████████████████████| 5750/5750 [00:01<00:00, 4645.69it/s]\n"
     ]
    },
    {
     "name": "stdout",
     "output_type": "stream",
     "text": [
      "Epoch = 13. Time index = mean. Threshold MC = 0.7. Threshold MD = 0.6\n",
      "RD = 2494 NZ = 4499 NZA = 5751 pNZ = 0.512% pNZA = 0.654% AD = 55.43% ADA = 43.37% NO = 979 GSP = 57.10% NSP = 50.87%\n",
      "SI2 = 0.86 SI = -15.36 eGROI = 23.48% eROI = -0.39% eROI2 = 3.90% eROI3 = -5.89% mSpread = 0.0244%\n",
      "\n",
      "Getting extended results...\n"
     ]
    },
    {
     "name": "stderr",
     "output_type": "stream",
     "text": [
      "100%|███████████████████████████████████████████████████████████████████████████████████████████████████████████████████████████████| 5750/5750 [00:01<00:00, 4579.29it/s]\n"
     ]
    },
    {
     "name": "stdout",
     "output_type": "stream",
     "text": [
      "Epoch = 13. Time index = mean. Threshold MC = 0.7. Threshold MD = 0.6\n",
      "RD = 2494 NZ = 4499 NZA = 5751 pNZ = 0.512% pNZA = 0.654% AD = 55.43% ADA = 43.37% NO = 979 GSP = 57.10% NSP = 50.87%\n",
      "SI2 = 0.86 SI = -15.36 eGROI = 23.48% eROI = -0.39% eROI2 = 3.90% eROI3 = -5.89% mSpread = 0.0244%\n",
      "\n",
      "Getting extended results...\n"
     ]
    },
    {
     "name": "stderr",
     "output_type": "stream",
     "text": [
      "100%|███████████████████████████████████████████████████████████████████████████████████████████████████████████████████████████████| 5750/5750 [00:01<00:00, 4679.65it/s]\n"
     ]
    },
    {
     "name": "stdout",
     "output_type": "stream",
     "text": [
      "Epoch = 13. Time index = mean. Threshold MC = 0.7. Threshold MD = 0.6\n",
      "RD = 2494 NZ = 4499 NZA = 5751 pNZ = 0.512% pNZA = 0.654% AD = 55.43% ADA = 43.37% NO = 979 GSP = 57.10% NSP = 50.87%\n",
      "SI2 = 0.86 SI = -15.36 eGROI = 23.48% eROI = -0.39% eROI2 = 3.90% eROI3 = -5.89% mSpread = 0.0244%\n",
      "\n",
      "Getting extended results...\n"
     ]
    },
    {
     "name": "stderr",
     "output_type": "stream",
     "text": [
      "100%|███████████████████████████████████████████████████████████████████████████████████████████████████████████████████████████████| 5750/5750 [00:01<00:00, 4653.21it/s]\n"
     ]
    },
    {
     "name": "stdout",
     "output_type": "stream",
     "text": [
      "Epoch = 13. Time index = mean. Threshold MC = 0.7. Threshold MD = 0.6\n",
      "RD = 2494 NZ = 4499 NZA = 5751 pNZ = 0.512% pNZA = 0.654% AD = 55.43% ADA = 43.37% NO = 979 GSP = 57.10% NSP = 50.87%\n",
      "SI2 = 0.86 SI = -15.36 eGROI = 23.48% eROI = -0.39% eROI2 = 3.90% eROI3 = -5.89% mSpread = 0.0244%\n",
      "\n",
      "Getting extended results...\n"
     ]
    },
    {
     "name": "stderr",
     "output_type": "stream",
     "text": [
      "100%|███████████████████████████████████████████████████████████████████████████████████████████████████████████████████████████████| 5750/5750 [00:01<00:00, 4848.89it/s]\n"
     ]
    },
    {
     "name": "stdout",
     "output_type": "stream",
     "text": [
      "Epoch = 13. Time index = mean. Threshold MC = 0.7. Threshold MD = 0.6\n",
      "RD = 2494 NZ = 4499 NZA = 5751 pNZ = 0.512% pNZA = 0.654% AD = 55.43% ADA = 43.37% NO = 979 GSP = 57.10% NSP = 50.87%\n",
      "SI2 = 0.86 SI = -15.36 eGROI = 23.48% eROI = -0.39% eROI2 = 3.90% eROI3 = -5.89% mSpread = 0.0244%\n",
      "\n",
      "Getting extended results...\n"
     ]
    },
    {
     "name": "stderr",
     "output_type": "stream",
     "text": [
      "100%|███████████████████████████████████████████████████████████████████████████████████████████████████████████████████████████████| 5750/5750 [00:01<00:00, 4623.37it/s]\n"
     ]
    },
    {
     "name": "stdout",
     "output_type": "stream",
     "text": [
      "Epoch = 13. Time index = mean. Threshold MC = 0.7. Threshold MD = 0.6\n",
      "RD = 2494 NZ = 4499 NZA = 5751 pNZ = 0.512% pNZA = 0.654% AD = 55.43% ADA = 43.37% NO = 979 GSP = 57.10% NSP = 50.87%\n",
      "SI2 = 0.86 SI = -15.36 eGROI = 23.48% eROI = -0.39% eROI2 = 3.90% eROI3 = -5.89% mSpread = 0.0244%\n",
      "\n",
      "Getting extended results...\n"
     ]
    },
    {
     "name": "stderr",
     "output_type": "stream",
     "text": [
      "100%|███████████████████████████████████████████████████████████████████████████████████████████████████████████████████████████████| 5750/5750 [00:01<00:00, 4796.45it/s]\n"
     ]
    },
    {
     "name": "stdout",
     "output_type": "stream",
     "text": [
      "Epoch = 13. Time index = mean. Threshold MC = 0.7. Threshold MD = 0.6\n",
      "RD = 2494 NZ = 4499 NZA = 5751 pNZ = 0.512% pNZA = 0.654% AD = 55.43% ADA = 43.37% NO = 979 GSP = 57.10% NSP = 50.87%\n",
      "SI2 = 0.86 SI = -15.36 eGROI = 23.48% eROI = -0.39% eROI2 = 3.90% eROI3 = -5.89% mSpread = 0.0244%\n",
      "\n",
      "Getting extended results...\n"
     ]
    },
    {
     "name": "stderr",
     "output_type": "stream",
     "text": [
      "100%|███████████████████████████████████████████████████████████████████████████████████████████████████████████████████████████████| 5750/5750 [00:01<00:00, 4768.68it/s]\n"
     ]
    },
    {
     "name": "stdout",
     "output_type": "stream",
     "text": [
      "Epoch = 13. Time index = mean. Threshold MC = 0.7. Threshold MD = 0.6\n",
      "RD = 2494 NZ = 4499 NZA = 5751 pNZ = 0.512% pNZA = 0.654% AD = 55.43% ADA = 43.37% NO = 979 GSP = 57.10% NSP = 50.87%\n",
      "SI2 = 0.86 SI = -15.36 eGROI = 23.48% eROI = -0.39% eROI2 = 3.90% eROI3 = -5.89% mSpread = 0.0244%\n",
      "\n",
      "Getting extended results...\n"
     ]
    },
    {
     "name": "stderr",
     "output_type": "stream",
     "text": [
      "100%|███████████████████████████████████████████████████████████████████████████████████████████████████████████████████████████████| 5750/5750 [00:01<00:00, 5207.89it/s]\n"
     ]
    },
    {
     "name": "stdout",
     "output_type": "stream",
     "text": [
      "Epoch = 13. Time index = mean. Threshold MC = 0.7. Threshold MD = 0.6\n",
      "RD = 2494 NZ = 4499 NZA = 5751 pNZ = 0.512% pNZA = 0.654% AD = 55.43% ADA = 43.37% NO = 979 GSP = 57.10% NSP = 50.87%\n",
      "SI2 = 0.86 SI = -15.36 eGROI = 23.48% eROI = -0.39% eROI2 = 3.90% eROI3 = -5.89% mSpread = 0.0244%\n",
      "\n",
      "Getting extended results...\n"
     ]
    },
    {
     "name": "stderr",
     "output_type": "stream",
     "text": [
      "100%|███████████████████████████████████████████████████████████████████████████████████████████████████████████████████████████████| 5750/5750 [00:01<00:00, 4927.48it/s]\n"
     ]
    },
    {
     "name": "stdout",
     "output_type": "stream",
     "text": [
      "Epoch = 13. Time index = mean. Threshold MC = 0.7. Threshold MD = 0.6\n",
      "RD = 2494 NZ = 4499 NZA = 5751 pNZ = 0.512% pNZA = 0.654% AD = 55.43% ADA = 43.37% NO = 979 GSP = 57.10% NSP = 50.87%\n",
      "SI2 = 0.86 SI = -15.36 eGROI = 23.48% eROI = -0.39% eROI2 = 3.90% eROI3 = -5.89% mSpread = 0.0244%\n",
      "\n",
      "Getting extended results...\n"
     ]
    },
    {
     "name": "stderr",
     "output_type": "stream",
     "text": [
      "100%|███████████████████████████████████████████████████████████████████████████████████████████████████████████████████████████████| 5750/5750 [00:01<00:00, 5161.60it/s]\n"
     ]
    },
    {
     "name": "stdout",
     "output_type": "stream",
     "text": [
      "Epoch = 13. Time index = mean. Threshold MC = 0.7. Threshold MD = 0.6\n",
      "RD = 2494 NZ = 4499 NZA = 5751 pNZ = 0.512% pNZA = 0.654% AD = 55.43% ADA = 43.37% NO = 979 GSP = 57.10% NSP = 50.87%\n",
      "SI2 = 0.86 SI = -15.36 eGROI = 23.48% eROI = -0.39% eROI2 = 3.90% eROI3 = -5.89% mSpread = 0.0244%\n",
      "\n",
      "Getting extended results...\n"
     ]
    },
    {
     "name": "stderr",
     "output_type": "stream",
     "text": [
      "100%|███████████████████████████████████████████████████████████████████████████████████████████████████████████████████████████████| 5750/5750 [00:01<00:00, 4331.47it/s]\n"
     ]
    },
    {
     "name": "stdout",
     "output_type": "stream",
     "text": [
      "Epoch = 13. Time index = mean. Threshold MC = 0.7. Threshold MD = 0.6\n",
      "RD = 2494 NZ = 4499 NZA = 5751 pNZ = 0.512% pNZA = 0.654% AD = 55.43% ADA = 43.37% NO = 979 GSP = 57.10% NSP = 50.87%\n",
      "SI2 = 0.86 SI = -15.36 eGROI = 23.48% eROI = -0.39% eROI2 = 3.90% eROI3 = -5.89% mSpread = 0.0244%\n",
      "\n",
      "Getting extended results...\n"
     ]
    },
    {
     "name": "stderr",
     "output_type": "stream",
     "text": [
      "100%|███████████████████████████████████████████████████████████████████████████████████████████████████████████████████████████████| 5750/5750 [00:01<00:00, 3383.41it/s]\n"
     ]
    },
    {
     "name": "stdout",
     "output_type": "stream",
     "text": [
      "Epoch = 13. Time index = mean. Threshold MC = 0.7. Threshold MD = 0.6\n",
      "RD = 2494 NZ = 4499 NZA = 5751 pNZ = 0.512% pNZA = 0.654% AD = 55.43% ADA = 43.37% NO = 979 GSP = 57.10% NSP = 50.87%\n",
      "SI2 = 0.86 SI = -15.36 eGROI = 23.48% eROI = -0.39% eROI2 = 3.90% eROI3 = -5.89% mSpread = 0.0244%\n",
      "\n",
      "Getting extended results...\n"
     ]
    },
    {
     "name": "stderr",
     "output_type": "stream",
     "text": [
      "100%|███████████████████████████████████████████████████████████████████████████████████████████████████████████████████████████████| 5750/5750 [00:01<00:00, 4023.26it/s]\n"
     ]
    },
    {
     "name": "stdout",
     "output_type": "stream",
     "text": [
      "Epoch = 13. Time index = mean. Threshold MC = 0.7. Threshold MD = 0.6\n",
      "RD = 2494 NZ = 4499 NZA = 5751 pNZ = 0.512% pNZA = 0.654% AD = 55.43% ADA = 43.37% NO = 979 GSP = 57.10% NSP = 50.87%\n",
      "SI2 = 0.86 SI = -15.36 eGROI = 23.48% eROI = -0.39% eROI2 = 3.90% eROI3 = -5.89% mSpread = 0.0244%\n",
      "\n",
      "Getting extended results...\n"
     ]
    },
    {
     "name": "stderr",
     "output_type": "stream",
     "text": [
      "100%|███████████████████████████████████████████████████████████████████████████████████████████████████████████████████████████████| 5750/5750 [00:01<00:00, 4354.48it/s]\n"
     ]
    },
    {
     "name": "stdout",
     "output_type": "stream",
     "text": [
      "Epoch = 13. Time index = mean. Threshold MC = 0.7. Threshold MD = 0.6\n",
      "RD = 2494 NZ = 4499 NZA = 5751 pNZ = 0.512% pNZA = 0.654% AD = 55.43% ADA = 43.37% NO = 979 GSP = 57.10% NSP = 50.87%\n",
      "SI2 = 0.86 SI = -15.36 eGROI = 23.48% eROI = -0.39% eROI2 = 3.90% eROI3 = -5.89% mSpread = 0.0244%\n",
      "\n",
      "Getting extended results...\n"
     ]
    },
    {
     "name": "stderr",
     "output_type": "stream",
     "text": [
      "100%|███████████████████████████████████████████████████████████████████████████████████████████████████████████████████████████████| 5750/5750 [00:01<00:00, 5030.83it/s]\n"
     ]
    },
    {
     "name": "stdout",
     "output_type": "stream",
     "text": [
      "Epoch = 13. Time index = mean. Threshold MC = 0.7. Threshold MD = 0.6\n",
      "RD = 2494 NZ = 4499 NZA = 5751 pNZ = 0.512% pNZA = 0.654% AD = 55.43% ADA = 43.37% NO = 979 GSP = 57.10% NSP = 50.87%\n",
      "SI2 = 0.86 SI = -15.36 eGROI = 23.48% eROI = -0.39% eROI2 = 3.90% eROI3 = -5.89% mSpread = 0.0244%\n",
      "\n",
      "Getting extended results...\n"
     ]
    },
    {
     "name": "stderr",
     "output_type": "stream",
     "text": [
      "100%|███████████████████████████████████████████████████████████████████████████████████████████████████████████████████████████████| 5750/5750 [00:01<00:00, 4915.02it/s]\n"
     ]
    },
    {
     "name": "stdout",
     "output_type": "stream",
     "text": [
      "Epoch = 13. Time index = mean. Threshold MC = 0.7. Threshold MD = 0.6\n",
      "RD = 2494 NZ = 4499 NZA = 5751 pNZ = 0.512% pNZA = 0.654% AD = 55.43% ADA = 43.37% NO = 979 GSP = 57.10% NSP = 50.87%\n",
      "SI2 = 0.86 SI = -15.36 eGROI = 23.48% eROI = -0.39% eROI2 = 3.90% eROI3 = -5.89% mSpread = 0.0244%\n",
      "\n",
      "Best eGROI = 105.14 t_index 3 thr_mc 0.5 thr_md 0.6 epoch 13 in 5249 GSP 59.19 ADA 37.62 AD 57.70\n",
      "Best eROI = 17.07 t_index 0 thr_mc 0.6 thr_md 0.7 epoch 13 in 91 GSP 63.74 ADA 52.55 AD 71.29\n",
      "Best eROI.5 = 78.89 t_index 3 thr_mc 0.5 thr_md 0.6 epoch 13 in 5249 GSP 59.19 ADA 37.62 AD 57.70\n",
      "Best eROI1 = 52.65 t_index 3 thr_mc 0.5 thr_md 0.6 epoch 13 in 5249 GSP 59.19 ADA 37.62 AD 57.70\n",
      "Best eROI1.5 = 26.40 t_index 3 thr_mc 0.5 thr_md 0.6 epoch 13 in 5249 GSP 59.19 ADA 37.62 AD 57.70\n",
      "Best eROI2 = 18.21 t_index 0 thr_mc 0.6 thr_md 0.7 epoch 13 in 91 GSP 63.74 ADA 52.55 AD 71.29\n",
      "Best eROI3 = 17.30 t_index 0 thr_mc 0.6 thr_md 0.7 epoch 13 in 91 GSP 63.74 ADA 52.55 AD 71.29\n",
      "Best eROI4 = 16.39 t_index 0 thr_mc 0.6 thr_md 0.7 epoch 13 in 91 GSP 63.74 ADA 52.55 AD 71.29\n",
      "Best eROI5 = 15.48 t_index 0 thr_mc 0.6 thr_md 0.7 epoch 13 in 91 GSP 63.74 ADA 52.55 AD 71.29\n",
      "Best SI = 4.60 t_index 2 thr_mc 0.7 thr_md 0.8 epoch 13 in 80 GSP 61.25 ADA 50.68 AD 61.33\n",
      "Best SI.5 = 242.03 t_index 3 thr_mc 0.5 thr_md 0.6 epoch 13 in 5249 GSP 59.19 ADA 37.62 AD 57.70\n",
      "Best SI1 = 156.03 t_index 3 thr_mc 0.5 thr_md 0.6 epoch 13 in 5249 GSP 59.19 ADA 37.62 AD 57.70\n",
      "Best SI1.5 = 66.03 t_index 3 thr_mc 0.5 thr_md 0.6 epoch 13 in 5249 GSP 59.19 ADA 37.62 AD 57.70\n",
      "Best SI2 = 16.39 t_index 3 thr_mc 0.6 thr_md 0.6 epoch 13 in 3037 GSP 59.53 ADA 40.34 AD 56.93\n",
      "Best SI3 = 3.60 t_index 2 thr_mc 0.7 thr_md 0.8 epoch 13 in 80 GSP 61.25 ADA 50.68 AD 61.33\n",
      "Best SI4 = 2.34 t_index 1 thr_mc 0.7 thr_md 0.8 epoch 13 in 22 GSP 68.18 ADA 54.76 AD 63.89\n",
      "Best SI5 = 2.34 t_index 1 thr_mc 0.7 thr_md 0.8 epoch 13 in 22 GSP 68.18 ADA 54.76 AD 63.89\n",
      "Best 99eGROI = 100.31 t_index 3 thr_mc 0.5 thr_md 0.6 epoch 13 in 5249 GSP 59.19 ADA 37.62 AD 57.70\n",
      "Best 99eROI = 17.82 t_index 0 thr_mc 0.6 thr_md 0.7 epoch 13 in 91 GSP 63.74 ADA 52.55 AD 71.29\n",
      "Best 99eROI.5 = 74.59 t_index 3 thr_mc 0.5 thr_md 0.6 epoch 13 in 5249 GSP 59.19 ADA 37.62 AD 57.70\n",
      "Best 99eROI1 = 48.86 t_index 3 thr_mc 0.5 thr_md 0.6 epoch 13 in 5249 GSP 59.19 ADA 37.62 AD 57.70\n",
      "Best 99eROI1.5 = 23.14 t_index 3 thr_mc 0.5 thr_md 0.6 epoch 13 in 5249 GSP 59.19 ADA 37.62 AD 57.70\n",
      "Best 99eROI2 = 19.40 t_index 0 thr_mc 0.5 thr_md 0.7 epoch 13 in 106 GSP 62.26 ADA 54.14 AD 72.65\n",
      "Best 99eROI3 = 18.36 t_index 0 thr_mc 0.5 thr_md 0.7 epoch 13 in 106 GSP 62.26 ADA 54.14 AD 72.65\n",
      "Best 99eROI4 = 17.32 t_index 0 thr_mc 0.5 thr_md 0.7 epoch 13 in 106 GSP 62.26 ADA 54.14 AD 72.65\n",
      "Best 99eROI5 = 16.28 t_index 0 thr_mc 0.5 thr_md 0.7 epoch 13 in 106 GSP 62.26 ADA 54.14 AD 72.65\n",
      "\n",
      "The very best:\n",
      "Best eGROI = 107.37 t_index 2 thr_mc 0.5 thr_md 0.6 epoch 14 in 5603 GSP 59.16 ADA 37.40 AD 57.47\n",
      "Best eROI = 30.31 t_index 3 thr_mc 0.7 thr_md 0.5 epoch 5 in 1499 GSP 57.51 ADA 38.79 AD 51.43\n",
      "Best eROI.5 = 79.36 t_index 2 thr_mc 0.5 thr_md 0.6 epoch 14 in 5603 GSP 59.16 ADA 37.40 AD 57.47\n",
      "Best eROI1 = 52.65 t_index 3 thr_mc 0.5 thr_md 0.6 epoch 13 in 5249 GSP 59.19 ADA 37.62 AD 57.70\n",
      "Best eROI1.5 = 41.52 t_index 3 thr_mc 0.7 thr_md 0.5 epoch 5 in 1499 GSP 57.51 ADA 38.79 AD 51.43\n",
      "Best eROI2 = 34.03 t_index 3 thr_mc 0.7 thr_md 0.5 epoch 5 in 1499 GSP 57.51 ADA 38.79 AD 51.43\n",
      "Best eROI3 = 25.11 t_index 0 thr_mc 0.8 thr_md 0.5 epoch 5 in 310 GSP 58.39 ADA 43.84 AD 51.94\n",
      "Best eROI4 = 22.44 t_index 0 thr_mc 0.8 thr_md 0.5 epoch 1 in 245 GSP 56.33 ADA 42.04 AD 48.92\n",
      "Best eROI5 = 20.25 t_index 0 thr_mc 0.6 thr_md 0.7 epoch 14 in 148 GSP 64.86 ADA 53.31 AD 70.98\n",
      "Best SI = 19.99 t_index 2 thr_mc 0.6 thr_md 0.7 epoch 10 in 317 GSP 62.78 ADA 50.27 AD 63.01\n",
      "Best SI.5 = 248.41 t_index 2 thr_mc 0.5 thr_md 0.6 epoch 14 in 5603 GSP 59.16 ADA 37.40 AD 57.47\n",
      "Best SI1 = 156.03 t_index 3 thr_mc 0.5 thr_md 0.6 epoch 13 in 5249 GSP 59.19 ADA 37.62 AD 57.70\n",
      "Best SI1.5 = 84.18 t_index 3 thr_mc 0.6 thr_md 0.6 epoch 12 in 2894 GSP 59.92 ADA 40.73 AD 57.38\n",
      "Best SI2 = 33.18 t_index 3 thr_mc 0.6 thr_md 0.6 epoch 12 in 2894 GSP 59.92 ADA 40.73 AD 57.38\n",
      "Best SI3 = 18.99 t_index 2 thr_mc 0.6 thr_md 0.7 epoch 10 in 317 GSP 62.78 ADA 50.27 AD 63.01\n",
      "Best SI4 = 12.33 t_index 2 thr_mc 0.7 thr_md 0.7 epoch 10 in 239 GSP 62.76 ADA 50.89 AD 62.15\n",
      "Best SI5 = 8.33 t_index 2 thr_mc 0.7 thr_md 0.7 epoch 10 in 239 GSP 62.76 ADA 50.89 AD 62.15\n",
      "Best 99eGROI = 101.86 t_index 2 thr_mc 0.5 thr_md 0.6 epoch 14 in 5603 GSP 59.16 ADA 37.40 AD 57.47\n",
      "Best 99eROI = 29.77 t_index 0 thr_mc 0.8 thr_md 0.5 epoch 1 in 245 GSP 56.33 ADA 42.04 AD 48.92\n",
      "Best 99eROI.5 = 74.59 t_index 3 thr_mc 0.5 thr_md 0.6 epoch 13 in 5249 GSP 59.19 ADA 37.62 AD 57.70\n",
      "Best 99eROI1 = 48.86 t_index 3 thr_mc 0.5 thr_md 0.6 epoch 13 in 5249 GSP 59.19 ADA 37.62 AD 57.70\n",
      "Best 99eROI1.5 = 32.68 t_index 0 thr_mc 0.8 thr_md 0.5 epoch 1 in 245 GSP 56.33 ADA 42.04 AD 48.92\n",
      "Best 99eROI2 = 31.48 t_index 0 thr_mc 0.8 thr_md 0.5 epoch 1 in 245 GSP 56.33 ADA 42.04 AD 48.92\n",
      "Best 99eROI3 = 29.07 t_index 0 thr_mc 0.8 thr_md 0.5 epoch 1 in 245 GSP 56.33 ADA 42.04 AD 48.92\n",
      "Best 99eROI4 = 26.66 t_index 0 thr_mc 0.8 thr_md 0.5 epoch 1 in 245 GSP 56.33 ADA 42.04 AD 48.92\n",
      "Best 99eROI5 = 24.25 t_index 0 thr_mc 0.8 thr_md 0.5 epoch 1 in 245 GSP 56.33 ADA 42.04 AD 48.92\n",
      "Time=48.78 secs\n",
      "INFO:tensorflow:Restoring parameters from C:/Users/mgutierrez/root/Projects/SDC/py/RNN/weights/WRNN01010k4K5A/000014/000014\n",
      "Parameters loaded. Epoch 14\n",
      "Epoch 14 of 14. Getting output...\n"
     ]
    },
    {
     "name": "stderr",
     "output_type": "stream",
     "text": [
      "100%|███████████████████████████████████████████████████████████████████████████████████████████████████████████████████████████████████| 859/859 [01:14<00:00, 11.51it/s]\n"
     ]
    },
    {
     "name": "stdout",
     "output_type": "stream",
     "text": [
      "J_test = 1.590463\n",
      "Epoch 14, J_train = 1.637887841625282, J_test = 1.5904629698177155\n",
      "Getting extended results...\n"
     ]
    },
    {
     "name": "stderr",
     "output_type": "stream",
     "text": [
      "100%|███████████████████████████████████████████████████████████████████████████████████████████████████████████████████████████████| 3422/3422 [00:00<00:00, 4648.99it/s]\n"
     ]
    },
    {
     "name": "stdout",
     "output_type": "stream",
     "text": [
      "Epoch = 14. Time index = 0. Threshold MC = 0.7. Threshold MD = 0.6\n",
      "RD = 1483 NZ = 2584 NZA = 3423 pNZ = 0.294% pNZA = 0.389% AD = 57.39% ADA = 43.32% NO = 986 GSP = 55.78% NSP = 49.59%\n",
      "SI2 = 0.13 SI = -15.81 eGROI = 18.63% eROI = -5.17% eROI2 = -1.09% eROI3 = -10.95% mSpread = 0.0241%\n",
      "\n",
      "Getting extended results...\n"
     ]
    },
    {
     "name": "stderr",
     "output_type": "stream",
     "text": [
      "100%|███████████████████████████████████████████████████████████████████████████████████████████████████████████████████████████████| 6389/6389 [00:01<00:00, 5008.49it/s]\n"
     ]
    },
    {
     "name": "stdout",
     "output_type": "stream",
     "text": [
      "Epoch = 14. Time index = 1. Threshold MC = 0.7. Threshold MD = 0.6\n",
      "RD = 2730 NZ = 4927 NZA = 6390 pNZ = 0.560% pNZA = 0.727% AD = 55.41% ADA = 42.72% NO = 1115 GSP = 55.87% NSP = 50.04%\n",
      "SI2 = 1.05 SI = -16.67 eGROI = 17.14% eROI = -9.30% eROI2 = -5.16% eROI3 = -16.31% mSpread = 0.0237%\n",
      "\n",
      "Getting extended results...\n"
     ]
    },
    {
     "name": "stderr",
     "output_type": "stream",
     "text": [
      "100%|███████████████████████████████████████████████████████████████████████████████████████████████████████████████████████████████| 7325/7325 [00:01<00:00, 4784.71it/s]\n"
     ]
    },
    {
     "name": "stdout",
     "output_type": "stream",
     "text": [
      "Epoch = 14. Time index = 2. Threshold MC = 0.7. Threshold MD = 0.6\n",
      "RD = 3146 NZ = 5684 NZA = 7326 pNZ = 0.647% pNZA = 0.833% AD = 55.35% ADA = 42.94% NO = 1071 GSP = 57.33% NSP = 50.98%\n",
      "SI2 = 1.56 SI = -16.03 eGROI = 32.90% eROI = 7.35% eROI2 = 11.48% eROI3 = 0.77% mSpread = 0.0239%\n",
      "\n",
      "Getting extended results...\n"
     ]
    },
    {
     "name": "stderr",
     "output_type": "stream",
     "text": [
      "100%|███████████████████████████████████████████████████████████████████████████████████████████████████████████████████████████████| 7932/7932 [00:01<00:00, 5114.61it/s]\n"
     ]
    },
    {
     "name": "stdout",
     "output_type": "stream",
     "text": [
      "Epoch = 14. Time index = 3. Threshold MC = 0.7. Threshold MD = 0.6\n",
      "RD = 3400 NZ = 6180 NZA = 7933 pNZ = 0.703% pNZA = 0.902% AD = 55.02% ADA = 42.86% NO = 1089 GSP = 57.30% NSP = 50.96%\n",
      "SI2 = 1.55 SI = -16.17 eGROI = 32.11% eROI = 6.27% eROI2 = 10.33% eROI3 = -0.56% mSpread = 0.0237%\n",
      "\n",
      "Getting extended results...\n"
     ]
    },
    {
     "name": "stderr",
     "output_type": "stream",
     "text": [
      "100%|███████████████████████████████████████████████████████████████████████████████████████████████████████████████████████████████| 6226/6226 [00:01<00:00, 3536.89it/s]\n"
     ]
    },
    {
     "name": "stdout",
     "output_type": "stream",
     "text": [
      "Epoch = 14. Time index = mean. Threshold MC = 0.7. Threshold MD = 0.6\n",
      "RD = 2698 NZ = 4857 NZA = 6227 pNZ = 0.552% pNZA = 0.708% AD = 55.55% ADA = 43.33% NO = 1014 GSP = 56.80% NSP = 50.49%\n",
      "SI2 = 0.94 SI = -15.75 eGROI = 23.40% eROI = -1.25% eROI2 = 3.12% eROI3 = -7.02% mSpread = 0.0243%\n",
      "\n",
      "Getting extended results...\n"
     ]
    },
    {
     "name": "stderr",
     "output_type": "stream",
     "text": [
      "100%|███████████████████████████████████████████████████████████████████████████████████████████████████████████████████████████████| 6226/6226 [00:01<00:00, 4272.83it/s]\n"
     ]
    },
    {
     "name": "stdout",
     "output_type": "stream",
     "text": [
      "Epoch = 14. Time index = mean. Threshold MC = 0.7. Threshold MD = 0.6\n",
      "RD = 2698 NZ = 4857 NZA = 6227 pNZ = 0.552% pNZA = 0.708% AD = 55.55% ADA = 43.33% NO = 1014 GSP = 56.80% NSP = 50.49%\n",
      "SI2 = 0.94 SI = -15.75 eGROI = 23.40% eROI = -1.25% eROI2 = 3.12% eROI3 = -7.02% mSpread = 0.0243%\n",
      "\n",
      "Getting extended results...\n"
     ]
    },
    {
     "name": "stderr",
     "output_type": "stream",
     "text": [
      "100%|███████████████████████████████████████████████████████████████████████████████████████████████████████████████████████████████| 6226/6226 [00:01<00:00, 4707.85it/s]\n"
     ]
    },
    {
     "name": "stdout",
     "output_type": "stream",
     "text": [
      "Epoch = 14. Time index = mean. Threshold MC = 0.7. Threshold MD = 0.6\n",
      "RD = 2698 NZ = 4857 NZA = 6227 pNZ = 0.552% pNZA = 0.708% AD = 55.55% ADA = 43.33% NO = 1014 GSP = 56.80% NSP = 50.49%\n",
      "SI2 = 0.94 SI = -15.75 eGROI = 23.40% eROI = -1.25% eROI2 = 3.12% eROI3 = -7.02% mSpread = 0.0243%\n",
      "\n",
      "Getting extended results...\n"
     ]
    },
    {
     "name": "stderr",
     "output_type": "stream",
     "text": [
      "100%|███████████████████████████████████████████████████████████████████████████████████████████████████████████████████████████████| 6226/6226 [00:01<00:00, 4938.62it/s]\n"
     ]
    },
    {
     "name": "stdout",
     "output_type": "stream",
     "text": [
      "Epoch = 14. Time index = mean. Threshold MC = 0.7. Threshold MD = 0.6\n",
      "RD = 2698 NZ = 4857 NZA = 6227 pNZ = 0.552% pNZA = 0.708% AD = 55.55% ADA = 43.33% NO = 1014 GSP = 56.80% NSP = 50.49%\n",
      "SI2 = 0.94 SI = -15.75 eGROI = 23.40% eROI = -1.25% eROI2 = 3.12% eROI3 = -7.02% mSpread = 0.0243%\n",
      "\n",
      "Getting extended results...\n"
     ]
    },
    {
     "name": "stderr",
     "output_type": "stream",
     "text": [
      "100%|███████████████████████████████████████████████████████████████████████████████████████████████████████████████████████████████| 6226/6226 [00:01<00:00, 4974.19it/s]\n"
     ]
    },
    {
     "name": "stdout",
     "output_type": "stream",
     "text": [
      "Epoch = 14. Time index = mean. Threshold MC = 0.7. Threshold MD = 0.6\n",
      "RD = 2698 NZ = 4857 NZA = 6227 pNZ = 0.552% pNZA = 0.708% AD = 55.55% ADA = 43.33% NO = 1014 GSP = 56.80% NSP = 50.49%\n",
      "SI2 = 0.94 SI = -15.75 eGROI = 23.40% eROI = -1.25% eROI2 = 3.12% eROI3 = -7.02% mSpread = 0.0243%\n",
      "\n",
      "Getting extended results...\n"
     ]
    },
    {
     "name": "stderr",
     "output_type": "stream",
     "text": [
      "100%|███████████████████████████████████████████████████████████████████████████████████████████████████████████████████████████████| 6226/6226 [00:01<00:00, 3398.26it/s]\n"
     ]
    },
    {
     "name": "stdout",
     "output_type": "stream",
     "text": [
      "Epoch = 14. Time index = mean. Threshold MC = 0.7. Threshold MD = 0.6\n",
      "RD = 2698 NZ = 4857 NZA = 6227 pNZ = 0.552% pNZA = 0.708% AD = 55.55% ADA = 43.33% NO = 1014 GSP = 56.80% NSP = 50.49%\n",
      "SI2 = 0.94 SI = -15.75 eGROI = 23.40% eROI = -1.25% eROI2 = 3.12% eROI3 = -7.02% mSpread = 0.0243%\n",
      "\n",
      "Getting extended results...\n"
     ]
    },
    {
     "name": "stderr",
     "output_type": "stream",
     "text": [
      "100%|███████████████████████████████████████████████████████████████████████████████████████████████████████████████████████████████| 6226/6226 [00:01<00:00, 4491.08it/s]\n"
     ]
    },
    {
     "name": "stdout",
     "output_type": "stream",
     "text": [
      "Epoch = 14. Time index = mean. Threshold MC = 0.7. Threshold MD = 0.6\n",
      "RD = 2698 NZ = 4857 NZA = 6227 pNZ = 0.552% pNZA = 0.708% AD = 55.55% ADA = 43.33% NO = 1014 GSP = 56.80% NSP = 50.49%\n",
      "SI2 = 0.94 SI = -15.75 eGROI = 23.40% eROI = -1.25% eROI2 = 3.12% eROI3 = -7.02% mSpread = 0.0243%\n",
      "\n",
      "Getting extended results...\n"
     ]
    },
    {
     "name": "stderr",
     "output_type": "stream",
     "text": [
      "100%|███████████████████████████████████████████████████████████████████████████████████████████████████████████████████████████████| 6226/6226 [00:01<00:00, 4776.15it/s]\n"
     ]
    },
    {
     "name": "stdout",
     "output_type": "stream",
     "text": [
      "Epoch = 14. Time index = mean. Threshold MC = 0.7. Threshold MD = 0.6\n",
      "RD = 2698 NZ = 4857 NZA = 6227 pNZ = 0.552% pNZA = 0.708% AD = 55.55% ADA = 43.33% NO = 1014 GSP = 56.80% NSP = 50.49%\n",
      "SI2 = 0.94 SI = -15.75 eGROI = 23.40% eROI = -1.25% eROI2 = 3.12% eROI3 = -7.02% mSpread = 0.0243%\n",
      "\n",
      "Getting extended results...\n"
     ]
    },
    {
     "name": "stderr",
     "output_type": "stream",
     "text": [
      "100%|███████████████████████████████████████████████████████████████████████████████████████████████████████████████████████████████| 6226/6226 [00:01<00:00, 4688.34it/s]\n"
     ]
    },
    {
     "name": "stdout",
     "output_type": "stream",
     "text": [
      "Epoch = 14. Time index = mean. Threshold MC = 0.7. Threshold MD = 0.6\n",
      "RD = 2698 NZ = 4857 NZA = 6227 pNZ = 0.552% pNZA = 0.708% AD = 55.55% ADA = 43.33% NO = 1014 GSP = 56.80% NSP = 50.49%\n",
      "SI2 = 0.94 SI = -15.75 eGROI = 23.40% eROI = -1.25% eROI2 = 3.12% eROI3 = -7.02% mSpread = 0.0243%\n",
      "\n",
      "Getting extended results...\n"
     ]
    },
    {
     "name": "stderr",
     "output_type": "stream",
     "text": [
      "100%|███████████████████████████████████████████████████████████████████████████████████████████████████████████████████████████████| 6226/6226 [00:01<00:00, 4842.99it/s]\n"
     ]
    },
    {
     "name": "stdout",
     "output_type": "stream",
     "text": [
      "Epoch = 14. Time index = mean. Threshold MC = 0.7. Threshold MD = 0.6\n",
      "RD = 2698 NZ = 4857 NZA = 6227 pNZ = 0.552% pNZA = 0.708% AD = 55.55% ADA = 43.33% NO = 1014 GSP = 56.80% NSP = 50.49%\n",
      "SI2 = 0.94 SI = -15.75 eGROI = 23.40% eROI = -1.25% eROI2 = 3.12% eROI3 = -7.02% mSpread = 0.0243%\n",
      "\n",
      "Getting extended results...\n"
     ]
    },
    {
     "name": "stderr",
     "output_type": "stream",
     "text": [
      "100%|███████████████████████████████████████████████████████████████████████████████████████████████████████████████████████████████| 6226/6226 [00:01<00:00, 4421.12it/s]\n"
     ]
    },
    {
     "name": "stdout",
     "output_type": "stream",
     "text": [
      "Epoch = 14. Time index = mean. Threshold MC = 0.7. Threshold MD = 0.6\n",
      "RD = 2698 NZ = 4857 NZA = 6227 pNZ = 0.552% pNZA = 0.708% AD = 55.55% ADA = 43.33% NO = 1014 GSP = 56.80% NSP = 50.49%\n",
      "SI2 = 0.94 SI = -15.75 eGROI = 23.40% eROI = -1.25% eROI2 = 3.12% eROI3 = -7.02% mSpread = 0.0243%\n",
      "\n",
      "Getting extended results...\n"
     ]
    },
    {
     "name": "stderr",
     "output_type": "stream",
     "text": [
      "100%|███████████████████████████████████████████████████████████████████████████████████████████████████████████████████████████████| 6226/6226 [00:01<00:00, 4624.15it/s]\n"
     ]
    },
    {
     "name": "stdout",
     "output_type": "stream",
     "text": [
      "Epoch = 14. Time index = mean. Threshold MC = 0.7. Threshold MD = 0.6\n",
      "RD = 2698 NZ = 4857 NZA = 6227 pNZ = 0.552% pNZA = 0.708% AD = 55.55% ADA = 43.33% NO = 1014 GSP = 56.80% NSP = 50.49%\n",
      "SI2 = 0.94 SI = -15.75 eGROI = 23.40% eROI = -1.25% eROI2 = 3.12% eROI3 = -7.02% mSpread = 0.0243%\n",
      "\n",
      "Getting extended results...\n"
     ]
    },
    {
     "name": "stderr",
     "output_type": "stream",
     "text": [
      "100%|███████████████████████████████████████████████████████████████████████████████████████████████████████████████████████████████| 6226/6226 [00:01<00:00, 4147.97it/s]\n"
     ]
    },
    {
     "name": "stdout",
     "output_type": "stream",
     "text": [
      "Epoch = 14. Time index = mean. Threshold MC = 0.7. Threshold MD = 0.6\n",
      "RD = 2698 NZ = 4857 NZA = 6227 pNZ = 0.552% pNZA = 0.708% AD = 55.55% ADA = 43.33% NO = 1014 GSP = 56.80% NSP = 50.49%\n",
      "SI2 = 0.94 SI = -15.75 eGROI = 23.40% eROI = -1.25% eROI2 = 3.12% eROI3 = -7.02% mSpread = 0.0243%\n",
      "\n",
      "Getting extended results...\n"
     ]
    },
    {
     "name": "stderr",
     "output_type": "stream",
     "text": [
      "100%|███████████████████████████████████████████████████████████████████████████████████████████████████████████████████████████████| 6226/6226 [00:01<00:00, 4556.65it/s]\n"
     ]
    },
    {
     "name": "stdout",
     "output_type": "stream",
     "text": [
      "Epoch = 14. Time index = mean. Threshold MC = 0.7. Threshold MD = 0.6\n",
      "RD = 2698 NZ = 4857 NZA = 6227 pNZ = 0.552% pNZA = 0.708% AD = 55.55% ADA = 43.33% NO = 1014 GSP = 56.80% NSP = 50.49%\n",
      "SI2 = 0.94 SI = -15.75 eGROI = 23.40% eROI = -1.25% eROI2 = 3.12% eROI3 = -7.02% mSpread = 0.0243%\n",
      "\n",
      "Getting extended results...\n"
     ]
    },
    {
     "name": "stderr",
     "output_type": "stream",
     "text": [
      "100%|███████████████████████████████████████████████████████████████████████████████████████████████████████████████████████████████| 6226/6226 [00:01<00:00, 4787.14it/s]\n"
     ]
    },
    {
     "name": "stdout",
     "output_type": "stream",
     "text": [
      "Epoch = 14. Time index = mean. Threshold MC = 0.7. Threshold MD = 0.6\n",
      "RD = 2698 NZ = 4857 NZA = 6227 pNZ = 0.552% pNZA = 0.708% AD = 55.55% ADA = 43.33% NO = 1014 GSP = 56.80% NSP = 50.49%\n",
      "SI2 = 0.94 SI = -15.75 eGROI = 23.40% eROI = -1.25% eROI2 = 3.12% eROI3 = -7.02% mSpread = 0.0243%\n",
      "\n",
      "Getting extended results...\n"
     ]
    },
    {
     "name": "stderr",
     "output_type": "stream",
     "text": [
      "100%|███████████████████████████████████████████████████████████████████████████████████████████████████████████████████████████████| 6226/6226 [00:01<00:00, 4596.92it/s]\n"
     ]
    },
    {
     "name": "stdout",
     "output_type": "stream",
     "text": [
      "Epoch = 14. Time index = mean. Threshold MC = 0.7. Threshold MD = 0.6\n",
      "RD = 2698 NZ = 4857 NZA = 6227 pNZ = 0.552% pNZA = 0.708% AD = 55.55% ADA = 43.33% NO = 1014 GSP = 56.80% NSP = 50.49%\n",
      "SI2 = 0.94 SI = -15.75 eGROI = 23.40% eROI = -1.25% eROI2 = 3.12% eROI3 = -7.02% mSpread = 0.0243%\n",
      "\n",
      "Getting extended results...\n"
     ]
    },
    {
     "name": "stderr",
     "output_type": "stream",
     "text": [
      "100%|███████████████████████████████████████████████████████████████████████████████████████████████████████████████████████████████| 6226/6226 [00:01<00:00, 4828.00it/s]\n"
     ]
    },
    {
     "name": "stdout",
     "output_type": "stream",
     "text": [
      "Epoch = 14. Time index = mean. Threshold MC = 0.7. Threshold MD = 0.6\n",
      "RD = 2698 NZ = 4857 NZA = 6227 pNZ = 0.552% pNZA = 0.708% AD = 55.55% ADA = 43.33% NO = 1014 GSP = 56.80% NSP = 50.49%\n",
      "SI2 = 0.94 SI = -15.75 eGROI = 23.40% eROI = -1.25% eROI2 = 3.12% eROI3 = -7.02% mSpread = 0.0243%\n",
      "\n",
      "Getting extended results...\n"
     ]
    },
    {
     "name": "stderr",
     "output_type": "stream",
     "text": [
      "100%|███████████████████████████████████████████████████████████████████████████████████████████████████████████████████████████████| 6226/6226 [00:01<00:00, 4338.16it/s]\n"
     ]
    },
    {
     "name": "stdout",
     "output_type": "stream",
     "text": [
      "Epoch = 14. Time index = mean. Threshold MC = 0.7. Threshold MD = 0.6\n",
      "RD = 2698 NZ = 4857 NZA = 6227 pNZ = 0.552% pNZA = 0.708% AD = 55.55% ADA = 43.33% NO = 1014 GSP = 56.80% NSP = 50.49%\n",
      "SI2 = 0.94 SI = -15.75 eGROI = 23.40% eROI = -1.25% eROI2 = 3.12% eROI3 = -7.02% mSpread = 0.0243%\n",
      "\n",
      "Getting extended results...\n"
     ]
    },
    {
     "name": "stderr",
     "output_type": "stream",
     "text": [
      "100%|███████████████████████████████████████████████████████████████████████████████████████████████████████████████████████████████| 6226/6226 [00:01<00:00, 3654.93it/s]\n"
     ]
    },
    {
     "name": "stdout",
     "output_type": "stream",
     "text": [
      "Epoch = 14. Time index = mean. Threshold MC = 0.7. Threshold MD = 0.6\n",
      "RD = 2698 NZ = 4857 NZA = 6227 pNZ = 0.552% pNZA = 0.708% AD = 55.55% ADA = 43.33% NO = 1014 GSP = 56.80% NSP = 50.49%\n",
      "SI2 = 0.94 SI = -15.75 eGROI = 23.40% eROI = -1.25% eROI2 = 3.12% eROI3 = -7.02% mSpread = 0.0243%\n",
      "\n",
      "Getting extended results...\n"
     ]
    },
    {
     "name": "stderr",
     "output_type": "stream",
     "text": [
      "100%|███████████████████████████████████████████████████████████████████████████████████████████████████████████████████████████████| 6226/6226 [00:01<00:00, 4820.55it/s]\n"
     ]
    },
    {
     "name": "stdout",
     "output_type": "stream",
     "text": [
      "Epoch = 14. Time index = mean. Threshold MC = 0.7. Threshold MD = 0.6\n",
      "RD = 2698 NZ = 4857 NZA = 6227 pNZ = 0.552% pNZA = 0.708% AD = 55.55% ADA = 43.33% NO = 1014 GSP = 56.80% NSP = 50.49%\n",
      "SI2 = 0.94 SI = -15.75 eGROI = 23.40% eROI = -1.25% eROI2 = 3.12% eROI3 = -7.02% mSpread = 0.0243%\n",
      "\n",
      "Best eGROI = 107.37 t_index 2 thr_mc 0.5 thr_md 0.6 epoch 14 in 5603 GSP 59.16 ADA 37.40 AD 57.47\n",
      "Best eROI = 23.42 t_index 0 thr_mc 0.6 thr_md 0.7 epoch 14 in 148 GSP 64.86 ADA 53.31 AD 70.98\n",
      "Best eROI.5 = 79.36 t_index 2 thr_mc 0.5 thr_md 0.6 epoch 14 in 5603 GSP 59.16 ADA 37.40 AD 57.47\n",
      "Best eROI1 = 51.34 t_index 2 thr_mc 0.5 thr_md 0.6 epoch 14 in 5603 GSP 59.16 ADA 37.40 AD 57.47\n",
      "Best eROI1.5 = 25.43 t_index 0 thr_mc 0.6 thr_md 0.7 epoch 14 in 148 GSP 64.86 ADA 53.31 AD 70.98\n",
      "Best eROI2 = 24.69 t_index 0 thr_mc 0.6 thr_md 0.7 epoch 14 in 148 GSP 64.86 ADA 53.31 AD 70.98\n",
      "Best eROI3 = 23.21 t_index 0 thr_mc 0.6 thr_md 0.7 epoch 14 in 148 GSP 64.86 ADA 53.31 AD 70.98\n",
      "Best eROI4 = 21.73 t_index 0 thr_mc 0.6 thr_md 0.7 epoch 14 in 148 GSP 64.86 ADA 53.31 AD 70.98\n",
      "Best eROI5 = 20.25 t_index 0 thr_mc 0.6 thr_md 0.7 epoch 14 in 148 GSP 64.86 ADA 53.31 AD 70.98\n",
      "Best SI = 11.56 t_index 0 thr_mc 0.6 thr_md 0.7 epoch 14 in 148 GSP 64.86 ADA 53.31 AD 70.98\n",
      "Best SI.5 = 248.41 t_index 2 thr_mc 0.5 thr_md 0.6 epoch 14 in 5603 GSP 59.16 ADA 37.40 AD 57.47\n",
      "Best SI1 = 146.41 t_index 2 thr_mc 0.5 thr_md 0.6 epoch 14 in 5603 GSP 59.16 ADA 37.40 AD 57.47\n",
      "Best SI1.5 = 60.52 t_index 2 thr_mc 0.6 thr_md 0.6 epoch 14 in 3316 GSP 59.05 ADA 40.39 AD 57.01\n",
      "Best SI2 = 14.52 t_index 2 thr_mc 0.6 thr_md 0.6 epoch 14 in 3316 GSP 59.05 ADA 40.39 AD 57.01\n",
      "Best SI3 = 8.56 t_index 0 thr_mc 0.6 thr_md 0.7 epoch 14 in 148 GSP 64.86 ADA 53.31 AD 70.98\n",
      "Best SI4 = 5.56 t_index 0 thr_mc 0.6 thr_md 0.7 epoch 14 in 148 GSP 64.86 ADA 53.31 AD 70.98\n",
      "Best SI5 = 4.56 t_index 0 thr_mc 0.6 thr_md 0.7 epoch 14 in 148 GSP 64.86 ADA 53.31 AD 70.98\n",
      "Best 99eGROI = 101.86 t_index 2 thr_mc 0.5 thr_md 0.6 epoch 14 in 5603 GSP 59.16 ADA 37.40 AD 57.47\n",
      "Best 99eROI = 25.19 t_index 0 thr_mc 0.6 thr_md 0.7 epoch 14 in 148 GSP 64.86 ADA 53.31 AD 70.98\n",
      "Best 99eROI.5 = 74.41 t_index 2 thr_mc 0.5 thr_md 0.6 epoch 14 in 5603 GSP 59.16 ADA 37.40 AD 57.47\n",
      "Best 99eROI1 = 46.95 t_index 2 thr_mc 0.5 thr_md 0.6 epoch 14 in 5603 GSP 59.16 ADA 37.40 AD 57.47\n",
      "Best 99eROI1.5 = 27.18 t_index 0 thr_mc 0.6 thr_md 0.7 epoch 14 in 148 GSP 64.86 ADA 53.31 AD 70.98\n",
      "Best 99eROI2 = 26.45 t_index 0 thr_mc 0.6 thr_md 0.7 epoch 14 in 148 GSP 64.86 ADA 53.31 AD 70.98\n",
      "Best 99eROI3 = 24.99 t_index 0 thr_mc 0.6 thr_md 0.7 epoch 14 in 148 GSP 64.86 ADA 53.31 AD 70.98\n",
      "Best 99eROI4 = 23.53 t_index 0 thr_mc 0.6 thr_md 0.7 epoch 14 in 148 GSP 64.86 ADA 53.31 AD 70.98\n",
      "Best 99eROI5 = 22.07 t_index 0 thr_mc 0.6 thr_md 0.7 epoch 14 in 148 GSP 64.86 ADA 53.31 AD 70.98\n",
      "\n",
      "The very best:\n",
      "Best eGROI = 107.37 t_index 2 thr_mc 0.5 thr_md 0.6 epoch 14 in 5603 GSP 59.16 ADA 37.40 AD 57.47\n",
      "Best eROI = 30.31 t_index 3 thr_mc 0.7 thr_md 0.5 epoch 5 in 1499 GSP 57.51 ADA 38.79 AD 51.43\n",
      "Best eROI.5 = 79.36 t_index 2 thr_mc 0.5 thr_md 0.6 epoch 14 in 5603 GSP 59.16 ADA 37.40 AD 57.47\n",
      "Best eROI1 = 52.65 t_index 3 thr_mc 0.5 thr_md 0.6 epoch 13 in 5249 GSP 59.19 ADA 37.62 AD 57.70\n",
      "Best eROI1.5 = 41.52 t_index 3 thr_mc 0.7 thr_md 0.5 epoch 5 in 1499 GSP 57.51 ADA 38.79 AD 51.43\n",
      "Best eROI2 = 34.03 t_index 3 thr_mc 0.7 thr_md 0.5 epoch 5 in 1499 GSP 57.51 ADA 38.79 AD 51.43\n",
      "Best eROI3 = 25.11 t_index 0 thr_mc 0.8 thr_md 0.5 epoch 5 in 310 GSP 58.39 ADA 43.84 AD 51.94\n",
      "Best eROI4 = 22.44 t_index 0 thr_mc 0.8 thr_md 0.5 epoch 1 in 245 GSP 56.33 ADA 42.04 AD 48.92\n",
      "Best eROI5 = 20.25 t_index 0 thr_mc 0.6 thr_md 0.7 epoch 14 in 148 GSP 64.86 ADA 53.31 AD 70.98\n",
      "Best SI = 19.99 t_index 2 thr_mc 0.6 thr_md 0.7 epoch 10 in 317 GSP 62.78 ADA 50.27 AD 63.01\n",
      "Best SI.5 = 248.41 t_index 2 thr_mc 0.5 thr_md 0.6 epoch 14 in 5603 GSP 59.16 ADA 37.40 AD 57.47\n",
      "Best SI1 = 156.03 t_index 3 thr_mc 0.5 thr_md 0.6 epoch 13 in 5249 GSP 59.19 ADA 37.62 AD 57.70\n",
      "Best SI1.5 = 84.18 t_index 3 thr_mc 0.6 thr_md 0.6 epoch 12 in 2894 GSP 59.92 ADA 40.73 AD 57.38\n",
      "Best SI2 = 33.18 t_index 3 thr_mc 0.6 thr_md 0.6 epoch 12 in 2894 GSP 59.92 ADA 40.73 AD 57.38\n",
      "Best SI3 = 18.99 t_index 2 thr_mc 0.6 thr_md 0.7 epoch 10 in 317 GSP 62.78 ADA 50.27 AD 63.01\n",
      "Best SI4 = 12.33 t_index 2 thr_mc 0.7 thr_md 0.7 epoch 10 in 239 GSP 62.76 ADA 50.89 AD 62.15\n",
      "Best SI5 = 8.33 t_index 2 thr_mc 0.7 thr_md 0.7 epoch 10 in 239 GSP 62.76 ADA 50.89 AD 62.15\n",
      "Best 99eGROI = 101.86 t_index 2 thr_mc 0.5 thr_md 0.6 epoch 14 in 5603 GSP 59.16 ADA 37.40 AD 57.47\n",
      "Best 99eROI = 29.77 t_index 0 thr_mc 0.8 thr_md 0.5 epoch 1 in 245 GSP 56.33 ADA 42.04 AD 48.92\n",
      "Best 99eROI.5 = 74.59 t_index 3 thr_mc 0.5 thr_md 0.6 epoch 13 in 5249 GSP 59.19 ADA 37.62 AD 57.70\n",
      "Best 99eROI1 = 48.86 t_index 3 thr_mc 0.5 thr_md 0.6 epoch 13 in 5249 GSP 59.19 ADA 37.62 AD 57.70\n",
      "Best 99eROI1.5 = 32.68 t_index 0 thr_mc 0.8 thr_md 0.5 epoch 1 in 245 GSP 56.33 ADA 42.04 AD 48.92\n",
      "Best 99eROI2 = 31.48 t_index 0 thr_mc 0.8 thr_md 0.5 epoch 1 in 245 GSP 56.33 ADA 42.04 AD 48.92\n",
      "Best 99eROI3 = 29.07 t_index 0 thr_mc 0.8 thr_md 0.5 epoch 1 in 245 GSP 56.33 ADA 42.04 AD 48.92\n",
      "Best 99eROI4 = 26.66 t_index 0 thr_mc 0.8 thr_md 0.5 epoch 1 in 245 GSP 56.33 ADA 42.04 AD 48.92\n",
      "Best 99eROI5 = 24.25 t_index 0 thr_mc 0.8 thr_md 0.5 epoch 1 in 245 GSP 56.33 ADA 42.04 AD 48.92\n",
      "Time=52.92 secs\n",
      "Total time for CV: 18.53976716597875 mins.\n",
      "\n",
      "k 5 of 5\n",
      "IDresults:\n",
      "RRNN01010k5K5AC\n",
      "WARNING! Config values have been overwritten with entries values\n",
      "Config file C:/Users/mgutierrez/root/Projects/SDC/py/RNN/config/CRNN01010k5K5.config exists. Loaded from disk\n",
      "RRNN01010k5K5AC\n",
      "Getting dataset edges...\n",
      "Tag = IOA_mW\n",
      "C:/Users/mgutierrez/root/Projects/SDC/py/RNN/IO/DTA_RRNN01010k5K5AC.p\n",
      "1. AUDCAD\n",
      "\ts 0 of 21. From 2016.01.04 00:00:08 to 2016.10.13 15:41:59\n",
      "\ts 1 of 21. From 2016.10.13 17:52:00 to 2016.12.23 23:59:59\n",
      "\ts 2 of 21. From 2016.12.26 06:00:00 to 2016.12.30 23:58:30\n",
      "\ts 3 of 21. From 2017.01.02 09:00:00 to 2017.01.26 23:59:59\n",
      "\ts 4 of 21. From 2017.01.30 00:05:00 to 2017.09.05 23:59:59\n",
      "\ts 5 of 21. From 2017.09.06 20:25:01 to 2017.11.10 09:38:15\n",
      "\ts 6 of 21. From 2017.11.10 10:05:52 to 2017.11.24 23:58:59\n",
      "\ts 7 of 21. From 2017.11.27 00:05:00 to 2017.12.08 23:58:59\n",
      "\ts 8 of 21. From 2017.12.11 00:05:00 to 2017.12.12 04:13:07\n",
      "\ts 9 of 21. From 2017.12.12 09:55:53 to 2017.12.22 23:58:59\n",
      "\ts 10 of 21. From 2017.12.26 03:00:00 to 2017.12.29 23:58:42\n",
      "\ts 11 of 21. From 2018.01.02 03:00:00 to 2018.01.10 21:25:25\n",
      "\ts 12 of 21. From 2018.01.11 14:39:34 to 2018.01.25 08:17:37\n",
      "\ts 13 of 21. From 2018.01.25 08:53:48 to 2018.03.08 23:58:59\n",
      "\ts 14 of 21. From 2018.03.09 00:05:00 to 2018.03.20 05:04:47\n",
      "\ts 15 of 21. From 2018.03.20 05:44:39 to 2018.04.12 09:26:13\n",
      "\ts 16 of 21. From 2018.04.12 10:00:43 to 2018.05.08 03:27:47\n",
      "\ts 17 of 21. From 2018.05.08 04:24:14 to 2018.07.13 23:59:56\n",
      "\ts 18 of 21. From 2018.07.30 00:05:00 to 2018.08.10 23:58:59\n",
      "\ts 19 of 21. From 2018.08.13 07:37:02 to 2018.08.23 12:52:32\n",
      "\ts 20 of 21. From 2018.08.23 13:14:34 to 2018.08.24 23:58:59\n",
      "\ts 21 of 21. From 2018.08.27 19:03:29 to 2018.11.09 23:59:57\n",
      "\tTime for AUDCAD:7.0s. Total time:14.0s\n",
      "2. EURAUD\n",
      "\ts 0 of 31. From 2016.01.04 00:02:59 to 2016.04.22 23:59:59\n",
      "\ts 1 of 31. From 2016.04.25 03:00:00 to 2016.06.09 11:59:59\n",
      "\ts 2 of 31. From 2016.06.09 12:22:30 to 2016.11.04 22:54:59\n",
      "\ts 3 of 31. From 2016.11.07 01:27:12 to 2016.11.07 23:59:59\n",
      "\ts 4 of 31. From 2016.11.09 13:29:47 to 2016.11.11 23:54:59\n",
      "\ts 5 of 31. From 2016.11.18 00:05:14 to 2016.12.23 23:54:59\n",
      "\ts 6 of 31. From 2016.12.26 09:00:00 to 2016.12.26 11:40:30\n",
      "\ts 6 of 31. Not enough entries. Skipped.\n",
      "\ts 7 of 31. From 2016.12.26 12:06:59 to 2016.12.26 15:17:59\n",
      "\ts 7 of 31. Not enough entries. Skipped.\n",
      "\ts 8 of 31. From 2016.12.26 16:25:30 to 2016.12.26 19:07:30\n",
      "\ts 8 of 31. Not enough entries. Skipped.\n",
      "\ts 9 of 31. From 2016.12.26 19:42:30 to 2016.12.29 23:59:59\n",
      "\ts 10 of 31. From 2017.01.02 00:02:30 to 2017.04.25 16:55:09\n",
      "\ts 11 of 31. From 2017.04.27 12:00:16 to 2017.07.20 00:03:59\n",
      "\ts 12 of 31. From 2017.07.20 00:25:00 to 2017.09.05 02:36:00\n",
      "\ts 13 of 31. From 2017.09.05 03:27:54 to 2017.09.05 03:41:21\n",
      "\ts 13 of 31. Not enough entries. Skipped.\n",
      "\ts 14 of 31. From 2017.09.05 05:23:12 to 2017.09.05 05:38:16\n",
      "\ts 14 of 31. Not enough entries. Skipped.\n",
      "\ts 15 of 31. From 2017.09.05 09:45:50 to 2017.11.10 09:38:15\n",
      "\ts 16 of 31. From 2017.11.10 10:05:51 to 2017.11.24 23:58:59\n",
      "\ts 17 of 31. From 2017.11.27 00:05:00 to 2017.12.08 23:58:59\n",
      "\ts 18 of 31. From 2017.12.11 00:05:00 to 2017.12.12 04:13:03\n",
      "\ts 19 of 31. From 2017.12.12 10:13:34 to 2017.12.22 23:58:59\n",
      "\ts 20 of 31. From 2017.12.26 03:00:00 to 2017.12.29 23:58:59\n",
      "\ts 21 of 31. From 2018.01.02 03:00:00 to 2018.01.10 21:30:14\n",
      "\ts 22 of 31. From 2018.01.11 14:39:29 to 2018.01.25 08:17:38\n",
      "\ts 23 of 31. From 2018.01.25 08:49:52 to 2018.03.08 07:51:45\n",
      "\ts 24 of 31. From 2018.03.09 00:05:00 to 2018.03.20 05:04:46\n",
      "\ts 25 of 31. From 2018.03.20 05:44:29 to 2018.04.12 09:26:15\n",
      "\ts 26 of 31. From 2018.04.12 09:59:08 to 2018.05.08 03:27:55\n",
      "\ts 27 of 31. From 2018.05.08 04:24:14 to 2018.07.13 23:59:57\n",
      "\ts 28 of 31. From 2018.07.30 00:05:00 to 2018.08.10 23:58:59\n",
      "\ts 29 of 31. From 2018.08.13 07:37:02 to 2018.08.23 12:52:28\n",
      "\ts 30 of 31. From 2018.08.23 13:14:34 to 2018.08.24 23:58:59\n",
      "\ts 31 of 31. From 2018.08.27 19:03:32 to 2018.11.09 23:59:07\n",
      "\tTime for EURAUD:10.0s. Total time:24.0s\n",
      "3. EURCAD\n",
      "\ts 0 of 23. From 2016.01.04 00:00:00 to 2016.01.11 00:17:59\n",
      "\ts 1 of 23. From 2016.01.11 01:00:00 to 2016.10.13 15:41:59\n",
      "\ts 2 of 23. From 2016.10.13 17:52:00 to 2016.12.23 23:59:59\n",
      "\ts 3 of 23. From 2016.12.26 06:00:00 to 2016.12.29 23:59:59\n",
      "\ts 4 of 23. From 2017.01.02 00:01:00 to 2017.08.24 23:44:59\n",
      "\ts 5 of 23. From 2017.08.28 00:05:02 to 2017.09.05 02:35:52\n",
      "\ts 6 of 23. From 2017.09.05 05:23:12 to 2017.09.05 05:38:16\n",
      "\ts 6 of 23. Not enough entries. Skipped.\n",
      "\ts 7 of 23. From 2017.09.05 09:45:51 to 2017.11.10 09:38:15\n",
      "\ts 8 of 23. From 2017.11.10 10:05:52 to 2017.11.24 23:58:59\n",
      "\ts 9 of 23. From 2017.11.27 00:05:00 to 2017.12.08 23:58:59\n",
      "\ts 10 of 23. From 2017.12.11 00:05:00 to 2017.12.12 04:13:04\n",
      "\ts 11 of 23. From 2017.12.12 10:13:34 to 2017.12.22 23:58:59\n",
      "\ts 12 of 23. From 2017.12.26 03:00:00 to 2017.12.29 23:58:59\n",
      "\ts 13 of 23. From 2018.01.02 03:00:00 to 2018.01.10 21:19:40\n",
      "\ts 14 of 23. From 2018.01.11 14:39:29 to 2018.01.25 08:17:38\n",
      "\ts 15 of 23. From 2018.01.25 09:10:26 to 2018.03.07 23:58:59\n",
      "\ts 16 of 23. From 2018.03.09 00:05:00 to 2018.03.20 05:04:47\n",
      "\ts 17 of 23. From 2018.03.20 05:44:30 to 2018.04.12 09:26:16\n",
      "\ts 18 of 23. From 2018.04.12 09:59:08 to 2018.05.08 03:27:46\n",
      "\ts 19 of 23. From 2018.05.08 04:24:14 to 2018.07.13 23:59:55\n",
      "\ts 20 of 23. From 2018.07.30 00:05:00 to 2018.08.10 23:58:59\n",
      "\ts 21 of 23. From 2018.08.13 07:37:02 to 2018.08.23 12:52:32\n",
      "\ts 22 of 23. From 2018.08.23 13:14:34 to 2018.08.24 23:58:59\n",
      "\ts 23 of 23. From 2018.08.27 19:03:29 to 2018.11.09 23:59:08\n",
      "\tTime for EURCAD:10.0s. Total time:34.0s\n",
      "4. EURCHF\n",
      "\ts 0 of 28. From 2016.01.04 00:00:00 to 2016.01.11 00:20:59\n",
      "\ts 1 of 28. From 2016.01.11 01:00:00 to 2016.08.15 00:08:59\n",
      "\ts 2 of 28. From 2016.08.15 00:29:00 to 2016.10.13 15:41:59\n",
      "\ts 3 of 28. From 2016.10.13 17:52:00 to 2016.12.23 23:59:59\n",
      "\ts 4 of 28. From 2016.12.26 06:00:00 to 2017.08.11 23:59:59\n",
      "\ts 5 of 28. From 2017.08.14 19:30:49 to 2017.08.14 23:58:59\n",
      "\ts 5 of 28. Not enough entries. Skipped.\n",
      "\ts 6 of 28. From 2017.08.15 02:21:35 to 2017.08.15 20:17:18\n",
      "\ts 7 of 28. From 2017.08.15 05:00:06 to 2017.08.15 12:51:32\n",
      "\ts 8 of 28. From 2017.08.15 20:17:22 to 2017.08.17 23:58:50\n",
      "\ts 9 of 28. From 2017.08.21 00:05:08 to 2017.08.25 19:54:33\n",
      "\ts 10 of 28. From 2017.08.28 00:05:02 to 2017.09.05 02:35:52\n",
      "\ts 11 of 28. From 2017.09.05 05:23:12 to 2017.09.05 05:38:16\n",
      "\ts 11 of 28. Not enough entries. Skipped.\n",
      "\ts 12 of 28. From 2017.09.05 09:45:51 to 2017.11.10 09:38:15\n",
      "\ts 13 of 28. From 2017.11.10 10:05:51 to 2017.11.24 23:58:59\n",
      "\ts 14 of 28. From 2017.11.27 00:05:00 to 2017.12.08 23:58:59\n",
      "\ts 15 of 28. From 2017.12.11 00:05:00 to 2017.12.12 04:12:53\n",
      "\ts 16 of 28. From 2017.12.12 10:13:34 to 2017.12.22 23:58:52\n",
      "\ts 17 of 28. From 2017.12.26 03:00:01 to 2017.12.29 23:58:59\n",
      "\ts 18 of 28. From 2018.01.02 03:00:00 to 2018.01.10 20:51:51\n",
      "\ts 19 of 28. From 2018.01.11 14:39:29 to 2018.01.25 08:17:38\n",
      "\ts 20 of 28. From 2018.01.25 09:10:27 to 2018.03.07 23:58:59\n",
      "\ts 21 of 28. From 2018.03.09 00:05:00 to 2018.03.20 05:04:42\n",
      "\ts 22 of 28. From 2018.03.20 05:44:29 to 2018.04.12 09:26:15\n",
      "\ts 23 of 28. From 2018.04.12 09:59:09 to 2018.05.08 03:27:51\n",
      "\ts 24 of 28. From 2018.05.08 04:24:15 to 2018.07.13 23:59:04\n",
      "\ts 25 of 28. From 2018.07.30 00:05:00 to 2018.08.10 23:58:59\n",
      "\ts 26 of 28. From 2018.08.13 07:37:02 to 2018.08.23 12:52:32\n",
      "\ts 27 of 28. From 2018.08.23 13:14:34 to 2018.08.24 23:58:59\n",
      "\ts 28 of 28. From 2018.08.27 19:03:32 to 2018.11.09 23:59:57\n",
      "\tTime for EURCHF:9.0s. Total time:44.0s\n",
      "7. EURGBP\n",
      "\ts 0 of 21. From 2017.01.02 00:00:30 to 2017.08.14 23:45:59\n",
      "\ts 1 of 21. From 2017.08.15 02:30:32 to 2017.08.17 23:58:59\n",
      "\ts 2 of 21. From 2017.08.21 00:05:08 to 2017.08.25 19:58:59\n",
      "\ts 3 of 21. From 2017.08.28 00:05:01 to 2017.09.05 02:36:00\n",
      "\ts 4 of 21. From 2017.09.05 05:23:12 to 2017.09.05 05:38:16\n",
      "\ts 4 of 21. Not enough entries. Skipped.\n",
      "\ts 5 of 21. From 2017.09.05 09:45:50 to 2017.11.10 09:38:15\n",
      "\ts 6 of 21. From 2017.11.10 10:05:52 to 2017.11.24 23:58:59\n",
      "\ts 7 of 21. From 2017.11.27 00:05:00 to 2017.12.08 23:58:59\n",
      "\ts 8 of 21. From 2017.12.11 00:05:00 to 2017.12.12 04:13:09\n",
      "\ts 9 of 21. From 2017.12.12 10:13:34 to 2017.12.22 23:58:50\n",
      "\ts 10 of 21. From 2017.12.26 03:00:01 to 2017.12.29 23:58:57\n",
      "\ts 11 of 21. From 2018.01.02 03:00:00 to 2018.01.10 21:29:03\n",
      "\ts 12 of 21. From 2018.01.11 14:39:29 to 2018.01.25 08:17:38\n",
      "\ts 13 of 21. From 2018.01.25 09:10:26 to 2018.03.07 23:58:59\n",
      "\ts 14 of 21. From 2018.03.09 00:05:00 to 2018.03.20 05:04:41\n",
      "\ts 15 of 21. From 2018.03.20 05:44:30 to 2018.04.12 09:26:16\n",
      "\ts 16 of 21. From 2018.04.12 09:59:08 to 2018.05.08 03:27:48\n",
      "\ts 17 of 21. From 2018.05.08 04:24:15 to 2018.07.13 23:59:06\n",
      "\ts 18 of 21. From 2018.07.30 00:05:00 to 2018.08.10 23:58:59\n",
      "\ts 19 of 21. From 2018.08.13 07:37:02 to 2018.08.23 12:52:32\n",
      "\ts 20 of 21. From 2018.08.23 13:14:34 to 2018.08.24 23:58:59\n",
      "\ts 21 of 21. From 2018.08.27 19:03:32 to 2018.11.09 23:59:06\n",
      "\tTime for EURGBP:5.0s. Total time:49.0s\n",
      "8. EURNZD\n",
      "\ts 0 of 29. From 2016.01.04 00:00:00 to 2016.10.13 15:41:59\n",
      "\ts 1 of 29. From 2016.10.13 17:52:00 to 2016.12.23 23:59:59\n",
      "\ts 2 of 29. From 2016.12.26 06:00:00 to 2016.12.30 23:58:02\n",
      "\ts 3 of 29. From 2017.03.08 00:01:00 to 2017.03.17 22:54:59\n",
      "\ts 4 of 29. From 2017.03.20 01:08:01 to 2017.03.24 22:59:59\n",
      "\ts 5 of 29. From 2017.03.27 01:18:09 to 2017.03.27 23:59:59\n",
      "\ts 6 of 29. From 2017.03.28 02:31:26 to 2017.03.28 23:59:59\n",
      "\ts 7 of 29. From 2017.03.29 02:09:06 to 2017.03.30 23:59:59\n",
      "\ts 8 of 29. From 2017.03.31 02:39:18 to 2017.03.31 23:59:59\n",
      "\ts 9 of 29. From 2017.04.03 02:27:33 to 2017.04.03 23:59:59\n",
      "\ts 10 of 29. From 2017.04.04 02:32:37 to 2017.07.14 00:04:30\n",
      "\ts 11 of 29. From 2017.07.14 00:27:00 to 2017.09.05 02:36:00\n",
      "\ts 12 of 29. From 2017.09.05 05:23:12 to 2017.09.05 05:38:16\n",
      "\ts 12 of 29. Not enough entries. Skipped.\n",
      "\ts 13 of 29. From 2017.09.05 09:45:50 to 2017.11.10 09:38:15\n",
      "\ts 14 of 29. From 2017.11.10 10:05:51 to 2017.11.24 23:58:57\n",
      "\ts 15 of 29. From 2017.11.27 00:05:00 to 2017.12.08 23:58:59\n",
      "\ts 16 of 29. From 2017.12.11 00:05:00 to 2017.12.12 04:13:10\n",
      "\ts 17 of 29. From 2017.12.12 10:13:34 to 2017.12.22 23:58:59\n",
      "\ts 18 of 29. From 2017.12.26 03:00:01 to 2017.12.29 23:58:59\n",
      "\ts 19 of 29. From 2018.01.02 03:00:00 to 2018.01.10 21:13:01\n",
      "\ts 20 of 29. From 2018.01.11 14:39:29 to 2018.01.25 08:17:38\n",
      "\ts 21 of 29. From 2018.01.25 09:10:27 to 2018.03.07 23:58:59\n",
      "\ts 22 of 29. From 2018.03.09 00:05:00 to 2018.03.20 05:04:48\n",
      "\ts 23 of 29. From 2018.03.20 05:44:28 to 2018.04.12 09:26:15\n",
      "\ts 24 of 29. From 2018.04.12 09:59:09 to 2018.05.08 03:27:49\n",
      "\ts 25 of 29. From 2018.05.08 04:24:15 to 2018.07.13 23:59:10\n",
      "\ts 26 of 29. From 2018.07.30 00:05:00 to 2018.08.10 23:58:59\n",
      "\ts 27 of 29. From 2018.08.13 07:37:02 to 2018.08.23 12:52:28\n",
      "\ts 28 of 29. From 2018.08.23 13:14:34 to 2018.08.24 23:58:51\n",
      "\ts 29 of 29. From 2018.08.27 19:03:32 to 2018.11.09 23:59:06\n",
      "\tTime for EURNZD:8.0s. Total time:58.0s\n",
      "10. EURUSD\n",
      "\ts 0 of 27. From 2016.01.04 00:03:00 to 2016.04.22 23:59:59\n",
      "\ts 1 of 27. From 2016.04.25 03:00:00 to 2016.06.09 11:59:59\n",
      "\ts 2 of 27. From 2016.06.09 12:22:00 to 2016.12.23 23:54:59\n",
      "\ts 3 of 27. From 2016.12.26 09:00:59 to 2017.01.11 18:42:20\n",
      "\ts 4 of 27. From 2017.01.12 00:00:00 to 2017.01.26 23:59:59\n",
      "\ts 5 of 27. From 2017.03.01 00:00:00 to 2017.08.11 23:59:59\n",
      "\ts 6 of 27. From 2017.08.14 12:28:53 to 2017.08.14 23:58:59\n",
      "\ts 7 of 27. From 2017.08.15 14:07:41 to 2017.08.25 20:06:23\n",
      "\ts 8 of 27. From 2017.08.28 00:05:02 to 2017.09.05 02:36:01\n",
      "\ts 9 of 27. From 2017.09.05 05:23:12 to 2017.09.05 05:38:16\n",
      "\ts 9 of 27. Not enough entries. Skipped.\n",
      "\ts 10 of 27. From 2017.09.05 09:45:50 to 2017.10.23 01:59:34\n",
      "\ts 11 of 27. From 2017.10.23 02:33:26 to 2017.11.10 09:38:15\n",
      "\ts 12 of 27. From 2017.11.10 10:05:52 to 2017.11.24 23:58:33\n",
      "\ts 13 of 27. From 2017.11.27 00:05:00 to 2017.12.08 23:58:59\n",
      "\ts 14 of 27. From 2017.12.11 00:05:00 to 2017.12.12 04:13:10\n",
      "\ts 15 of 27. From 2017.12.12 10:13:34 to 2017.12.22 23:58:58\n",
      "\ts 16 of 27. From 2017.12.26 03:00:00 to 2017.12.29 23:58:57\n",
      "\ts 17 of 27. From 2018.01.02 03:00:00 to 2018.01.10 21:08:57\n",
      "\ts 18 of 27. From 2018.01.11 14:39:29 to 2018.01.25 08:17:37\n",
      "\ts 19 of 27. From 2018.01.25 08:49:52 to 2018.03.08 23:58:59\n",
      "\ts 20 of 27. From 2018.03.09 00:05:00 to 2018.03.20 05:04:41\n",
      "\ts 21 of 27. From 2018.03.20 05:44:29 to 2018.04.12 09:26:15\n",
      "\ts 22 of 27. From 2018.04.12 09:59:08 to 2018.05.08 03:27:51\n",
      "\ts 23 of 27. From 2018.05.08 04:24:15 to 2018.07.13 23:59:56\n",
      "\ts 24 of 27. From 2018.07.30 00:05:00 to 2018.08.10 23:58:59\n",
      "\ts 25 of 27. From 2018.08.13 07:37:02 to 2018.08.23 12:52:32\n",
      "\ts 26 of 27. From 2018.08.23 13:14:34 to 2018.08.24 23:58:59\n",
      "\ts 27 of 27. From 2018.08.27 19:03:31 to 2018.11.09 23:59:07\n",
      "\tTime for EURUSD:7.0s. Total time:66.0s\n",
      "11. GBPAUD\n",
      "\ts 0 of 21. From 2016.01.04 00:00:30 to 2016.10.13 15:41:59\n",
      "\ts 1 of 21. From 2016.10.13 17:52:00 to 2016.12.23 23:59:59\n",
      "\ts 2 of 21. From 2016.12.26 06:00:00 to 2017.06.08 23:59:59\n",
      "\ts 3 of 21. From 2017.06.12 00:05:00 to 2017.07.20 00:03:59\n",
      "\ts 4 of 21. From 2017.07.20 00:24:30 to 2017.09.05 23:44:35\n",
      "\ts 5 of 21. From 2017.09.05 10:03:57 to 2017.11.10 09:38:15\n",
      "\ts 6 of 21. From 2017.11.10 10:05:54 to 2017.11.24 23:58:59\n",
      "\ts 7 of 21. From 2017.11.27 00:05:00 to 2017.12.08 23:58:59\n",
      "\ts 8 of 21. From 2017.12.11 00:05:00 to 2017.12.12 04:12:53\n",
      "\ts 9 of 21. From 2017.12.12 10:13:38 to 2017.12.22 23:58:59\n",
      "\ts 10 of 21. From 2017.12.26 03:00:00 to 2017.12.29 23:58:59\n",
      "\ts 11 of 21. From 2018.01.02 03:00:00 to 2018.01.10 21:09:22\n",
      "\ts 12 of 21. From 2018.01.11 14:39:29 to 2018.01.25 08:17:38\n",
      "\ts 13 of 21. From 2018.01.25 09:10:26 to 2018.03.08 23:58:59\n",
      "\ts 14 of 21. From 2018.03.09 00:05:00 to 2018.03.20 05:04:47\n",
      "\ts 15 of 21. From 2018.03.20 05:44:32 to 2018.04.12 09:26:16\n",
      "\ts 16 of 21. From 2018.04.12 09:59:08 to 2018.05.08 03:27:53\n",
      "\ts 17 of 21. From 2018.05.08 04:24:12 to 2018.07.13 23:59:11\n",
      "\ts 18 of 21. From 2018.07.30 00:05:00 to 2018.08.10 23:58:59\n",
      "\ts 19 of 21. From 2018.08.13 07:37:02 to 2018.08.23 12:52:32\n",
      "\ts 20 of 21. From 2018.08.23 13:14:34 to 2018.08.24 23:58:59\n",
      "\ts 21 of 21. From 2018.08.27 19:03:29 to 2018.11.09 23:59:57\n",
      "\tTime for GBPAUD:9.0s. Total time:76.0s\n",
      "12. GBPCAD\n",
      "\ts 0 of 23. From 2016.01.04 00:00:00 to 2016.10.13 15:41:59\n",
      "\ts 1 of 23. From 2016.10.13 17:52:00 to 2016.12.23 23:59:59\n",
      "\ts 2 of 23. From 2016.12.26 06:00:00 to 2016.12.29 23:59:59\n",
      "\ts 3 of 23. From 2017.01.02 00:01:00 to 2017.06.08 23:59:59\n",
      "\ts 4 of 23. From 2017.06.12 00:03:00 to 2017.09.04 23:45:30\n",
      "\ts 5 of 23. From 2017.09.05 10:04:17 to 2017.11.10 09:38:15\n",
      "\ts 6 of 23. From 2017.11.10 10:05:53 to 2017.11.24 23:58:59\n",
      "\ts 7 of 23. From 2017.11.27 00:05:00 to 2017.12.08 23:58:58\n",
      "\ts 8 of 23. From 2017.12.11 00:05:00 to 2017.12.12 04:13:10\n",
      "\ts 9 of 23. From 2017.12.12 10:13:38 to 2017.12.22 23:58:59\n",
      "\ts 10 of 23. From 2017.12.26 03:00:00 to 2017.12.29 23:58:55\n",
      "\ts 11 of 23. From 2018.01.02 03:00:00 to 2018.01.10 21:17:35\n",
      "\ts 12 of 23. From 2018.01.11 14:39:29 to 2018.01.25 08:17:37\n",
      "\ts 13 of 23. From 2018.01.25 09:10:27 to 2018.03.08 23:58:59\n",
      "\ts 14 of 23. From 2018.03.09 00:05:00 to 2018.03.20 05:04:47\n",
      "\ts 15 of 23. From 2018.03.20 05:44:33 to 2018.04.12 09:26:16\n",
      "\ts 16 of 23. From 2018.04.12 09:59:08 to 2018.05.08 03:27:47\n",
      "\ts 17 of 23. From 2018.05.08 04:24:14 to 2018.06.22 15:30:01\n",
      "\ts 18 of 23. From 2018.06.22 16:46:00 to 2018.07.13 23:59:10\n",
      "\ts 19 of 23. From 2018.07.30 00:05:00 to 2018.08.10 23:58:59\n",
      "\ts 20 of 23. From 2018.08.13 07:37:02 to 2018.08.23 12:52:32\n",
      "\ts 21 of 23. From 2018.08.23 13:14:34 to 2018.08.24 23:58:59\n",
      "\ts 22 of 23. From 2018.08.27 19:03:29 to 2018.10.19 15:30:00\n",
      "\ts 23 of 23. From 2018.10.19 18:09:29 to 2018.11.09 23:59:08\n",
      "\tTime for GBPCAD:8.0s. Total time:84.0s\n",
      "13. GBPCHF\n",
      "\ts 0 of 21. From 2016.01.04 00:00:30 to 2016.10.13 15:41:59\n",
      "\ts 1 of 21. From 2016.10.13 17:52:00 to 2016.12.23 23:58:59\n",
      "\ts 2 of 21. From 2016.12.26 06:00:00 to 2017.07.17 18:51:04\n",
      "\ts 3 of 21. From 2017.07.18 08:25:27 to 2017.07.18 23:45:30\n",
      "\ts 4 of 21. From 2017.07.19 02:07:47 to 2017.09.04 23:45:59\n",
      "\ts 5 of 21. From 2017.09.05 10:04:57 to 2017.11.10 09:38:15\n",
      "\ts 6 of 21. From 2017.11.10 10:05:53 to 2017.11.24 23:58:59\n",
      "\ts 7 of 21. From 2017.11.27 00:05:00 to 2017.12.08 23:58:59\n",
      "\ts 8 of 21. From 2017.12.11 00:05:00 to 2017.12.12 04:13:02\n",
      "\ts 9 of 21. From 2017.12.12 10:13:40 to 2017.12.22 23:58:59\n",
      "\ts 10 of 21. From 2017.12.26 03:00:01 to 2017.12.29 23:58:59\n",
      "\ts 11 of 21. From 2018.01.02 03:00:00 to 2018.01.10 21:16:30\n",
      "\ts 12 of 21. From 2018.01.11 14:39:29 to 2018.01.25 08:17:38\n",
      "\ts 13 of 21. From 2018.01.25 08:51:08 to 2018.03.08 23:58:59\n",
      "\ts 14 of 21. From 2018.03.09 00:05:00 to 2018.03.20 05:04:44\n",
      "\ts 15 of 21. From 2018.03.20 05:44:29 to 2018.04.12 09:26:16\n",
      "\ts 16 of 21. From 2018.04.12 09:59:10 to 2018.05.08 03:27:54\n",
      "\ts 17 of 21. From 2018.05.08 04:24:15 to 2018.07.13 23:58:58\n",
      "\ts 18 of 21. From 2018.07.30 00:05:00 to 2018.08.10 23:58:59\n",
      "\ts 19 of 21. From 2018.08.13 07:37:02 to 2018.08.23 12:52:32\n",
      "\ts 20 of 21. From 2018.08.23 13:14:34 to 2018.08.24 23:58:59\n",
      "\ts 21 of 21. From 2018.08.27 19:03:29 to 2018.11.09 23:58:59\n",
      "\tTime for GBPCHF:7.0s. Total time:92.0s\n",
      "14. GBPUSD\n",
      "\ts 0 of 26. From 2016.01.04 00:00:30 to 2016.10.13 15:41:59\n",
      "\ts 1 of 26. From 2016.10.13 17:52:00 to 2016.12.23 23:59:59\n",
      "\ts 2 of 26. From 2016.12.26 06:00:00 to 2016.12.29 23:59:59\n",
      "\ts 3 of 26. From 2017.01.02 00:01:30 to 2017.04.10 02:14:15\n",
      "\ts 4 of 26. From 2017.07.10 00:03:00 to 2017.08.11 23:59:59\n",
      "\ts 5 of 26. From 2017.08.14 19:30:24 to 2017.08.14 23:58:59\n",
      "\ts 5 of 26. Not enough entries. Skipped.\n",
      "\ts 6 of 26. From 2017.08.15 04:16:31 to 2017.08.17 23:58:59\n",
      "\ts 7 of 26. From 2017.08.23 00:05:18 to 2017.08.25 20:08:31\n",
      "\ts 8 of 26. From 2017.08.28 00:05:02 to 2017.09.05 02:36:00\n",
      "\ts 9 of 26. From 2017.09.05 05:23:12 to 2017.09.05 05:38:16\n",
      "\ts 9 of 26. Not enough entries. Skipped.\n",
      "\ts 10 of 26. From 2017.09.05 09:45:50 to 2017.11.10 09:38:15\n",
      "\ts 11 of 26. From 2017.11.10 10:05:51 to 2017.11.24 23:58:59\n",
      "\ts 12 of 26. From 2017.11.27 00:05:00 to 2017.12.08 23:58:59\n",
      "\ts 13 of 26. From 2017.12.11 00:05:00 to 2017.12.12 04:13:07\n",
      "\ts 14 of 26. From 2017.12.12 10:13:34 to 2017.12.22 23:58:59\n",
      "\ts 15 of 26. From 2017.12.26 03:00:01 to 2017.12.29 23:58:59\n",
      "\ts 16 of 26. From 2018.01.02 03:00:00 to 2018.01.10 21:13:19\n",
      "\ts 17 of 26. From 2018.01.11 14:39:29 to 2018.01.25 08:17:38\n",
      "\ts 18 of 26. From 2018.01.25 08:53:48 to 2018.03.08 23:58:58\n",
      "\ts 19 of 26. From 2018.03.09 00:05:00 to 2018.03.20 05:04:43\n",
      "\ts 20 of 26. From 2018.03.20 05:44:30 to 2018.04.12 09:26:16\n",
      "\ts 21 of 26. From 2018.04.12 09:59:08 to 2018.05.08 03:27:55\n",
      "\ts 22 of 26. From 2018.05.08 04:24:12 to 2018.07.13 23:59:57\n",
      "\ts 23 of 26. From 2018.07.30 00:05:00 to 2018.08.10 23:58:59\n",
      "\ts 24 of 26. From 2018.08.13 07:37:02 to 2018.08.23 12:52:32\n",
      "\ts 25 of 26. From 2018.08.23 13:14:34 to 2018.08.24 23:58:59\n",
      "\ts 26 of 26. From 2018.08.27 19:03:29 to 2018.11.09 23:59:57\n",
      "\tTime for GBPUSD:8.0s. Total time:100.0s\n",
      "15. GOLD\n",
      "\ts 0 of 20. From 2017.09.13 19:06:47 to 2017.11.03 22:58:52\n",
      "\ts 1 of 20. From 2017.11.06 01:01:00 to 2017.11.10 09:38:15\n",
      "\ts 2 of 20. From 2017.11.10 10:05:54 to 2017.11.23 19:45:52\n",
      "\ts 3 of 20. From 2017.11.24 01:00:03 to 2017.11.24 19:29:59\n",
      "\ts 4 of 20. From 2017.11.27 01:01:00 to 2017.12.08 23:58:57\n",
      "\ts 5 of 20. From 2017.12.11 01:00:59 to 2017.12.12 04:13:05\n",
      "\ts 6 of 20. From 2017.12.12 09:49:50 to 2017.12.22 23:58:58\n",
      "\ts 7 of 20. From 2017.12.26 03:00:00 to 2017.12.29 23:58:49\n",
      "\ts 8 of 20. From 2018.01.02 03:00:00 to 2018.01.10 21:10:22\n",
      "\ts 9 of 20. From 2018.01.11 14:39:29 to 2018.01.15 19:59:58\n",
      "\ts 10 of 20. From 2018.01.16 01:00:02 to 2018.01.25 08:17:38\n",
      "\ts 11 of 20. From 2018.01.25 09:10:27 to 2018.02.19 19:59:59\n",
      "\ts 12 of 20. From 2018.02.20 01:00:04 to 2018.03.08 23:58:52\n",
      "\ts 13 of 20. From 2018.03.09 01:00:00 to 2018.03.16 22:58:57\n",
      "\ts 14 of 20. From 2018.03.19 01:00:00 to 2018.03.20 05:04:41\n",
      "\ts 15 of 20. From 2018.03.20 05:44:33 to 2018.03.23 22:58:57\n",
      "\ts 16 of 20. From 2018.03.26 01:00:59 to 2018.03.29 23:58:56\n",
      "\ts 17 of 20. From 2018.04.02 01:01:00 to 2018.04.12 09:26:16\n",
      "\ts 18 of 20. From 2018.04.12 09:59:09 to 2018.05.08 03:27:53\n",
      "\ts 19 of 20. From 2018.05.08 04:24:13 to 2018.05.28 19:59:59\n",
      "\ts 20 of 20. From 2018.05.29 01:00:00 to 2018.05.31 23:58:37\n",
      "\tTime for GOLD:5.0s. Total time:106.0s\n",
      "16. USDCAD\n",
      "\ts 0 of 19. From 2016.01.04 00:00:00 to 2016.10.13 15:41:59\n",
      "\ts 1 of 19. From 2016.10.13 17:52:00 to 2016.12.23 23:59:59\n",
      "\ts 2 of 19. From 2016.12.26 06:00:00 to 2017.09.04 23:45:30\n",
      "\ts 3 of 19. From 2017.09.05 10:05:21 to 2017.11.10 09:38:14\n",
      "\ts 4 of 19. From 2017.11.10 10:05:53 to 2017.11.24 23:58:59\n",
      "\ts 5 of 19. From 2017.11.27 00:05:00 to 2017.12.08 23:58:58\n",
      "\ts 6 of 19. From 2017.12.11 00:05:00 to 2017.12.12 04:13:01\n",
      "\ts 7 of 19. From 2017.12.12 10:13:39 to 2017.12.22 23:58:59\n",
      "\ts 8 of 19. From 2017.12.26 03:00:00 to 2017.12.29 23:58:59\n",
      "\ts 9 of 19. From 2018.01.02 03:00:00 to 2018.01.10 21:19:38\n",
      "\ts 10 of 19. From 2018.01.11 14:39:38 to 2018.01.25 08:17:38\n",
      "\ts 11 of 19. From 2018.01.25 09:10:26 to 2018.03.08 23:58:59\n",
      "\ts 12 of 19. From 2018.03.09 00:05:00 to 2018.03.20 05:04:47\n",
      "\ts 13 of 19. From 2018.03.20 05:44:34 to 2018.04.12 09:26:07\n",
      "\ts 14 of 19. From 2018.04.12 09:59:08 to 2018.05.08 03:27:47\n",
      "\ts 15 of 19. From 2018.05.08 04:24:14 to 2018.07.13 23:59:56\n",
      "\ts 16 of 19. From 2018.07.30 00:05:00 to 2018.08.10 23:58:59\n",
      "\ts 17 of 19. From 2018.08.13 07:37:02 to 2018.08.23 12:52:32\n",
      "\ts 18 of 19. From 2018.08.23 13:14:34 to 2018.08.24 23:58:59\n",
      "\ts 19 of 19. From 2018.08.27 19:03:29 to 2018.11.09 23:59:57\n",
      "\tTime for USDCAD:7.0s. Total time:113.0s\n",
      "17. USDCHF\n",
      "\ts 0 of 25. From 2016.01.04 00:00:59 to 2016.01.11 00:30:59\n",
      "\ts 1 of 25. From 2016.01.11 01:00:00 to 2016.10.13 15:41:59\n",
      "\ts 2 of 25. From 2016.10.13 17:52:00 to 2016.12.23 23:59:59\n",
      "\ts 3 of 25. From 2016.12.26 06:00:00 to 2016.12.30 23:58:08\n",
      "\ts 4 of 25. From 2017.01.02 09:00:00 to 2017.08.11 23:54:59\n",
      "\ts 5 of 25. From 2017.08.14 19:30:37 to 2017.08.14 23:58:59\n",
      "\ts 5 of 25. Not enough entries. Skipped.\n",
      "\ts 6 of 25. From 2017.08.15 15:13:26 to 2017.08.17 23:58:48\n",
      "\ts 7 of 25. From 2017.08.21 00:05:07 to 2017.08.25 19:45:45\n",
      "\ts 8 of 25. From 2017.08.28 00:05:01 to 2017.09.05 02:35:52\n",
      "\ts 9 of 25. From 2017.09.05 05:23:12 to 2017.09.05 05:38:16\n",
      "\ts 9 of 25. Not enough entries. Skipped.\n",
      "\ts 10 of 25. From 2017.09.05 09:45:55 to 2017.11.10 09:38:15\n",
      "\ts 11 of 25. From 2017.11.10 10:05:52 to 2017.11.24 23:58:59\n",
      "\ts 12 of 25. From 2017.11.27 00:05:00 to 2017.12.08 23:58:59\n",
      "\ts 13 of 25. From 2017.12.11 00:05:00 to 2017.12.22 23:58:59\n",
      "\ts 14 of 25. From 2017.12.26 03:00:00 to 2017.12.29 23:58:59\n",
      "\ts 15 of 25. From 2018.01.02 03:00:00 to 2018.01.10 21:17:59\n",
      "\ts 16 of 25. From 2018.01.11 14:39:29 to 2018.01.25 08:17:38\n",
      "\ts 17 of 25. From 2018.01.25 09:08:40 to 2018.03.08 23:58:59\n",
      "\ts 18 of 25. From 2018.03.09 00:05:00 to 2018.03.20 05:04:49\n",
      "\ts 19 of 25. From 2018.03.20 05:44:30 to 2018.04.12 09:26:15\n",
      "\ts 20 of 25. From 2018.04.12 09:59:08 to 2018.05.08 03:27:52\n",
      "\ts 21 of 25. From 2018.05.08 04:24:15 to 2018.07.13 23:59:00\n",
      "\ts 22 of 25. From 2018.07.30 00:05:00 to 2018.08.10 23:58:59\n",
      "\ts 23 of 25. From 2018.08.13 07:37:02 to 2018.08.23 12:52:32\n",
      "\ts 24 of 25. From 2018.08.23 13:14:34 to 2018.08.24 23:58:59\n",
      "\ts 25 of 25. From 2018.08.27 19:03:29 to 2018.11.09 23:59:01\n",
      "\tTime for USDCHF:5.0s. Total time:119.0s\n",
      "19. USDJPY\n",
      "\ts 0 of 27. From 2016.01.05 00:02:00 to 2016.01.19 16:54:08\n",
      "\ts 1 of 27. From 2016.01.20 00:00:00 to 2016.10.13 15:41:59\n",
      "\ts 2 of 27. From 2016.10.13 17:52:00 to 2016.12.23 23:59:59\n",
      "\ts 3 of 27. From 2016.12.26 06:00:00 to 2016.12.29 23:59:59\n",
      "\ts 4 of 27. From 2017.01.02 00:01:59 to 2017.07.14 00:05:30\n",
      "\ts 5 of 27. From 2017.07.14 00:27:00 to 2017.08.11 23:59:59\n",
      "\ts 6 of 27. From 2017.08.14 19:30:40 to 2017.08.14 23:58:59\n",
      "\ts 7 of 27. From 2017.08.15 03:32:14 to 2017.08.17 23:58:59\n",
      "\ts 8 of 27. From 2017.08.21 00:05:07 to 2017.08.25 19:55:41\n",
      "\ts 9 of 27. From 2017.08.28 00:05:01 to 2017.09.05 02:36:00\n",
      "\ts 10 of 27. From 2017.09.05 05:23:12 to 2017.09.05 05:38:16\n",
      "\ts 10 of 27. Not enough entries. Skipped.\n",
      "\ts 11 of 27. From 2017.09.05 09:45:51 to 2017.11.10 09:38:15\n",
      "\ts 12 of 27. From 2017.11.10 10:05:51 to 2017.11.24 23:58:45\n",
      "\ts 13 of 27. From 2017.11.27 00:05:00 to 2017.12.08 23:58:59\n",
      "\ts 14 of 27. From 2017.12.11 00:05:00 to 2017.12.12 04:13:06\n",
      "\ts 15 of 27. From 2017.12.12 10:13:34 to 2017.12.22 23:58:59\n",
      "\ts 16 of 27. From 2017.12.26 03:00:00 to 2017.12.29 23:58:59\n",
      "\ts 17 of 27. From 2018.01.02 03:00:00 to 2018.01.10 21:27:56\n",
      "\ts 18 of 27. From 2018.01.11 14:39:29 to 2018.01.25 08:17:36\n",
      "\ts 19 of 27. From 2018.01.25 09:10:27 to 2018.03.08 23:58:52\n",
      "\ts 20 of 27. From 2018.03.09 00:05:00 to 2018.03.20 05:04:47\n",
      "\ts 21 of 27. From 2018.03.20 05:44:29 to 2018.04.12 09:26:16\n",
      "\ts 22 of 27. From 2018.04.12 10:00:38 to 2018.05.08 03:27:53\n",
      "\ts 23 of 27. From 2018.05.08 04:24:16 to 2018.07.13 23:59:02\n",
      "\ts 24 of 27. From 2018.07.30 00:05:00 to 2018.08.10 23:58:59\n",
      "\ts 25 of 27. From 2018.08.13 07:37:02 to 2018.08.23 12:52:32\n",
      "\ts 26 of 27. From 2018.08.23 13:14:34 to 2018.08.24 23:58:59\n",
      "\ts 27 of 27. From 2018.08.27 19:03:31 to 2018.11.09 23:59:06\n",
      "\tTime for USDJPY:9.0s. Total time:129.0s\n",
      "27. CADJPY\n",
      "\ts 0 of 22. From 2016.01.04 00:00:00 to 2016.01.15 23:59:59\n",
      "\ts 1 of 22. From 2016.01.19 00:00:00 to 2016.10.13 15:41:59\n",
      "\ts 2 of 22. From 2016.10.13 17:52:00 to 2016.12.23 23:59:59\n",
      "\ts 3 of 22. From 2016.12.26 06:00:00 to 2017.09.11 23:01:59\n",
      "\ts 4 of 22. From 2017.09.11 23:28:00 to 2017.09.18 23:59:59\n",
      "\ts 5 of 22. From 2017.09.19 23:45:43 to 2017.10.23 01:18:29\n",
      "\ts 6 of 22. From 2017.10.23 02:02:38 to 2017.11.10 09:38:15\n",
      "\ts 7 of 22. From 2017.11.10 10:05:52 to 2017.11.24 23:58:59\n",
      "\ts 8 of 22. From 2017.11.27 00:05:00 to 2017.12.08 23:58:59\n",
      "\ts 9 of 22. From 2017.12.11 00:05:00 to 2017.12.12 04:13:05\n",
      "\ts 10 of 22. From 2017.12.12 10:13:38 to 2017.12.22 23:58:59\n",
      "\ts 11 of 22. From 2017.12.26 03:00:00 to 2017.12.29 23:58:59\n",
      "\ts 12 of 22. From 2018.01.02 03:00:00 to 2018.01.10 21:17:53\n",
      "\ts 13 of 22. From 2018.01.11 14:39:29 to 2018.01.25 08:17:37\n",
      "\ts 14 of 22. From 2018.01.25 09:10:28 to 2018.03.08 23:58:59\n",
      "\ts 15 of 22. From 2018.03.09 00:05:00 to 2018.03.20 05:04:48\n",
      "\ts 16 of 22. From 2018.03.20 05:44:32 to 2018.04.12 09:26:16\n",
      "\ts 17 of 22. From 2018.04.12 10:00:39 to 2018.05.08 03:27:53\n",
      "\ts 18 of 22. From 2018.05.08 04:24:16 to 2018.05.31 23:58:58\n",
      "\ts 19 of 22. From 2018.07.30 00:05:00 to 2018.08.10 23:58:59\n",
      "\ts 20 of 22. From 2018.08.13 07:37:02 to 2018.08.23 12:52:28\n",
      "\ts 21 of 22. From 2018.08.23 13:14:34 to 2018.08.24 23:58:59\n",
      "\ts 22 of 22. From 2018.08.27 19:03:31 to 2018.11.09 23:59:08\n",
      "\tTime for CADJPY:10.0s. Total time:139.0s\n",
      "28. EURJPY\n",
      "\ts 0 of 24. From 2016.01.04 00:00:00 to 2016.01.11 00:29:59\n",
      "\ts 1 of 24. From 2016.01.11 01:00:00 to 2016.10.13 15:41:59\n",
      "\ts 2 of 24. From 2016.10.13 17:52:00 to 2016.12.23 23:59:59\n",
      "\ts 3 of 24. From 2016.12.26 06:00:00 to 2017.07.10 00:04:59\n",
      "\ts 4 of 24. From 2017.07.10 00:30:00 to 2017.07.14 00:04:59\n",
      "\ts 5 of 24. From 2017.07.14 00:27:00 to 2017.09.11 23:01:59\n",
      "\ts 6 of 24. From 2017.09.11 23:23:00 to 2017.09.11 23:23:59\n",
      "\ts 6 of 24. Not enough entries. Skipped.\n",
      "\ts 7 of 24. From 2017.09.11 23:47:00 to 2017.09.19 23:59:59\n",
      "\ts 8 of 24. From 2017.09.21 08:10:57 to 2017.11.10 09:38:15\n",
      "\ts 9 of 24. From 2017.11.10 10:05:53 to 2017.11.24 23:58:59\n",
      "\ts 10 of 24. From 2017.11.27 00:05:00 to 2017.12.08 23:58:59\n",
      "\ts 11 of 24. From 2017.12.11 00:05:00 to 2017.12.12 04:12:51\n",
      "\ts 12 of 24. From 2017.12.12 10:13:36 to 2017.12.22 23:58:59\n",
      "\ts 13 of 24. From 2017.12.26 03:00:00 to 2017.12.29 23:58:59\n",
      "\ts 14 of 24. From 2018.01.02 03:00:00 to 2018.01.10 21:26:10\n",
      "\ts 15 of 24. From 2018.01.11 14:39:33 to 2018.01.25 08:17:38\n",
      "\ts 16 of 24. From 2018.01.25 09:08:40 to 2018.03.08 23:58:59\n",
      "\ts 17 of 24. From 2018.03.09 00:05:00 to 2018.03.20 05:04:48\n",
      "\ts 18 of 24. From 2018.03.20 05:44:30 to 2018.04.12 09:26:16\n",
      "\ts 19 of 24. From 2018.04.12 09:59:08 to 2018.05.08 03:27:54\n",
      "\ts 20 of 24. From 2018.05.08 04:24:13 to 2018.07.13 23:59:56\n",
      "\ts 21 of 24. From 2018.07.30 00:05:00 to 2018.08.10 23:58:59\n",
      "\ts 22 of 24. From 2018.08.13 07:37:02 to 2018.08.23 12:52:32\n",
      "\ts 23 of 24. From 2018.08.23 13:14:34 to 2018.08.24 23:58:59\n",
      "\ts 24 of 24. From 2018.08.27 19:03:31 to 2018.11.09 23:59:56\n",
      "\tTime for EURJPY:11.0s. Total time:151.0s\n",
      "29. AUDJPY\n",
      "\ts 0 of 21. From 2016.01.04 00:00:00 to 2016.01.11 00:24:59\n",
      "\ts 1 of 21. From 2016.01.11 01:00:00 to 2016.10.13 15:41:59\n",
      "\ts 2 of 21. From 2016.10.13 17:52:00 to 2016.12.23 23:59:59\n",
      "\ts 3 of 21. From 2016.12.26 06:00:00 to 2016.12.29 23:59:59\n",
      "\ts 4 of 21. From 2017.01.02 09:00:00 to 2017.01.27 23:54:59\n",
      "\ts 5 of 21. From 2017.01.31 00:12:00 to 2017.11.09 23:59:59\n",
      "\ts 6 of 21. From 2017.11.20 00:05:00 to 2017.11.24 23:58:59\n",
      "\ts 7 of 21. From 2017.11.27 00:05:00 to 2017.12.08 23:58:54\n",
      "\ts 8 of 21. From 2017.12.11 00:05:00 to 2017.12.12 04:13:10\n",
      "\ts 9 of 21. From 2017.12.12 10:13:40 to 2017.12.22 23:58:58\n",
      "\ts 10 of 21. From 2017.12.26 03:00:00 to 2017.12.29 23:58:59\n",
      "\ts 11 of 21. From 2018.01.02 02:59:59 to 2018.01.10 21:13:01\n",
      "\ts 12 of 21. From 2018.01.11 14:39:33 to 2018.01.25 08:17:37\n",
      "\ts 13 of 21. From 2018.01.25 09:10:26 to 2018.03.08 23:58:54\n",
      "\ts 14 of 21. From 2018.03.09 00:05:00 to 2018.03.20 05:04:48\n",
      "\ts 15 of 21. From 2018.03.20 05:44:29 to 2018.04.12 09:26:16\n",
      "\ts 16 of 21. From 2018.04.12 10:00:38 to 2018.05.08 03:27:55\n",
      "\ts 17 of 21. From 2018.05.08 04:24:13 to 2018.07.13 23:59:08\n",
      "\ts 18 of 21. From 2018.07.30 00:05:00 to 2018.08.10 23:58:59\n",
      "\ts 19 of 21. From 2018.08.13 07:37:02 to 2018.08.23 12:52:28\n",
      "\ts 20 of 21. From 2018.08.23 13:14:34 to 2018.08.24 23:58:59\n",
      "\ts 21 of 21. From 2018.08.27 19:03:36 to 2018.11.09 23:59:56\n",
      "\tTime for AUDJPY:9.0s. Total time:161.0s\n",
      "30. CHFJPY\n",
      "\ts 0 of 21. From 2016.01.04 01:00:00 to 2016.01.11 00:19:59\n",
      "\ts 1 of 21. From 2016.01.11 01:00:00 to 2016.03.18 22:59:59\n",
      "\ts 2 of 21. From 2016.03.21 01:00:00 to 2016.10.13 15:41:59\n",
      "\ts 3 of 21. From 2016.10.13 17:52:00 to 2016.10.18 00:01:34\n",
      "\ts 4 of 21. From 2016.10.18 02:28:18 to 2016.12.23 23:59:59\n",
      "\ts 5 of 21. From 2016.12.26 06:00:00 to 2016.12.29 23:59:59\n",
      "\ts 6 of 21. From 2017.01.02 09:00:00 to 2017.11.24 23:58:59\n",
      "\ts 7 of 21. From 2017.11.27 00:05:00 to 2017.12.08 23:58:56\n",
      "\ts 8 of 21. From 2017.12.11 00:05:00 to 2017.12.12 04:13:07\n",
      "\ts 9 of 21. From 2017.12.12 10:13:40 to 2017.12.22 23:58:58\n",
      "\ts 10 of 21. From 2017.12.26 03:00:00 to 2017.12.29 23:58:58\n",
      "\ts 11 of 21. From 2018.01.02 03:00:00 to 2018.01.10 21:09:34\n",
      "\ts 12 of 21. From 2018.01.15 11:16:28 to 2018.01.25 08:17:38\n",
      "\ts 13 of 21. From 2018.01.25 09:10:26 to 2018.03.08 23:58:59\n",
      "\ts 14 of 21. From 2018.03.09 00:05:00 to 2018.03.20 05:04:48\n",
      "\ts 15 of 21. From 2018.03.20 05:44:30 to 2018.04.12 09:26:16\n",
      "\ts 16 of 21. From 2018.04.12 09:59:08 to 2018.05.08 03:27:53\n",
      "\ts 17 of 21. From 2018.05.08 04:24:15 to 2018.07.13 23:59:56\n",
      "\ts 18 of 21. From 2018.07.30 00:05:00 to 2018.08.10 23:58:59\n",
      "\ts 19 of 21. From 2018.08.13 07:37:02 to 2018.08.23 12:52:32\n",
      "\ts 20 of 21. From 2018.08.23 13:14:34 to 2018.08.24 23:58:59\n",
      "\ts 21 of 21. From 2018.08.27 19:03:31 to 2018.11.09 23:59:56\n",
      "\tTime for CHFJPY:9.0s. Total time:171.0s\n",
      "31. GBPJPY\n",
      "\ts 0 of 23. From 2016.01.04 00:00:30 to 2016.01.11 00:17:59\n",
      "\ts 1 of 23. From 2016.01.11 01:00:00 to 2016.10.13 15:41:59\n",
      "\ts 2 of 23. From 2016.10.13 17:52:00 to 2016.12.23 23:59:59\n",
      "\ts 3 of 23. From 2016.12.26 06:00:00 to 2017.08.14 00:41:30\n",
      "\ts 4 of 23. From 2017.08.14 01:22:00 to 2017.08.14 01:22:59\n",
      "\ts 4 of 23. Not enough entries. Skipped.\n",
      "\ts 5 of 23. From 2017.08.14 15:07:00 to 2017.09.18 23:59:59\n",
      "\ts 6 of 23. From 2017.09.19 23:46:08 to 2017.11.10 09:38:15\n",
      "\ts 7 of 23. From 2017.11.10 10:05:53 to 2017.11.24 23:58:59\n",
      "\ts 8 of 23. From 2017.11.27 00:05:00 to 2017.12.08 23:58:59\n",
      "\ts 9 of 23. From 2017.12.11 00:05:00 to 2017.12.12 04:13:09\n",
      "\ts 10 of 23. From 2017.12.12 10:13:39 to 2017.12.22 23:58:59\n",
      "\ts 11 of 23. From 2017.12.26 03:00:01 to 2017.12.29 23:58:59\n",
      "\ts 12 of 23. From 2018.01.02 03:00:00 to 2018.01.10 21:28:58\n",
      "\ts 13 of 23. From 2018.01.11 14:39:32 to 2018.01.25 08:17:38\n",
      "\ts 14 of 23. From 2018.01.25 08:49:51 to 2018.03.08 23:58:59\n",
      "\ts 15 of 23. From 2018.03.09 00:05:00 to 2018.03.20 05:04:48\n",
      "\ts 16 of 23. From 2018.03.20 05:44:29 to 2018.04.12 09:26:16\n",
      "\ts 17 of 23. From 2018.04.12 09:59:09 to 2018.05.08 03:27:56\n",
      "\ts 18 of 23. From 2018.05.08 04:24:15 to 2018.07.13 23:59:56\n",
      "\ts 19 of 23. From 2018.07.30 00:05:00 to 2018.08.10 23:58:59\n",
      "\ts 20 of 23. From 2018.08.13 07:37:02 to 2018.08.23 12:52:32\n",
      "\ts 21 of 23. From 2018.08.23 13:14:34 to 2018.08.24 23:58:59\n",
      "\ts 22 of 23. From 2018.08.27 19:03:31 to 2018.09.06 04:36:04\n",
      "\ts 23 of 23. From 2018.09.07 00:05:02 to 2018.11.09 23:59:06\n",
      "\tTime for GBPJPY:11.0s. Total time:182.0s\n",
      "32. NZDUSD\n",
      "\ts 0 of 22. From 2016.01.04 00:00:30 to 2016.10.13 00:01:05\n",
      "\ts 1 of 22. From 2016.10.13 01:47:11 to 2016.10.13 15:41:59\n",
      "\ts 2 of 22. From 2016.10.13 17:52:00 to 2016.12.23 23:59:59\n",
      "\ts 3 of 22. From 2016.12.26 06:00:00 to 2017.09.11 23:01:59\n",
      "\ts 4 of 22. From 2017.09.11 23:47:00 to 2017.09.28 13:45:59\n",
      "\ts 5 of 22. From 2017.09.28 14:10:00 to 2017.11.16 23:59:59\n",
      "\ts 6 of 22. From 2017.11.20 00:05:01 to 2017.11.24 23:58:59\n",
      "\ts 7 of 22. From 2017.11.27 00:05:00 to 2017.12.08 23:58:57\n",
      "\ts 8 of 22. From 2017.12.11 00:05:00 to 2017.12.12 04:13:10\n",
      "\ts 9 of 22. From 2017.12.12 10:13:36 to 2017.12.22 23:58:59\n",
      "\ts 10 of 22. From 2017.12.26 03:00:01 to 2017.12.29 23:58:59\n",
      "\ts 11 of 22. From 2018.01.02 03:00:00 to 2018.01.10 21:10:40\n",
      "\ts 12 of 22. From 2018.01.11 14:39:33 to 2018.01.23 08:12:03\n",
      "\ts 13 of 22. From 2018.01.24 00:05:18 to 2018.01.25 08:17:37\n",
      "\ts 14 of 22. From 2018.01.25 09:10:33 to 2018.03.08 23:58:59\n",
      "\ts 15 of 22. From 2018.03.09 00:05:00 to 2018.03.20 05:04:46\n",
      "\ts 16 of 22. From 2018.03.20 05:44:40 to 2018.04.12 09:26:11\n",
      "\ts 17 of 22. From 2018.04.12 09:59:08 to 2018.05.08 03:27:56\n",
      "\ts 18 of 22. From 2018.05.08 04:24:16 to 2018.07.13 23:59:00\n",
      "\ts 19 of 22. From 2018.07.30 00:05:00 to 2018.08.10 23:58:59\n",
      "\ts 20 of 22. From 2018.08.13 07:37:02 to 2018.08.23 12:52:28\n",
      "\ts 21 of 22. From 2018.08.23 13:14:34 to 2018.08.24 23:58:59\n",
      "\ts 22 of 22. From 2018.08.27 19:03:32 to 2018.11.09 23:59:02\n",
      "\tTime for NZDUSD:4.0s. Total time:187.0s\n",
      "Building DTA...\n",
      "AUDCAD\n",
      "2016.01.04 03:12:09\n",
      "2016.08.01 23:54:52\n",
      "EURAUD\n",
      "2016.01.04 03:13:12\n",
      "2016.08.01 23:57:50\n",
      "EURCAD\n",
      "2016.01.04 03:23:06\n",
      "2016.08.01 23:53:21\n",
      "EURCHF\n",
      "2016.01.04 04:05:05\n",
      "2016.08.01 23:56:30\n",
      "EURGBP\n",
      "EURNZD\n",
      "2016.01.04 03:16:05\n",
      "2016.08.01 23:48:32\n",
      "EURUSD\n",
      "2016.01.04 03:50:55\n",
      "2016.08.01 23:52:08\n",
      "GBPAUD\n",
      "2016.01.04 03:00:07\n",
      "2016.08.01 23:56:40\n",
      "GBPCAD\n",
      "2016.01.04 03:29:40\n",
      "2016.08.01 23:53:20\n",
      "GBPCHF\n",
      "2016.01.04 04:36:15\n",
      "2016.08.01 23:55:49\n",
      "GBPUSD\n",
      "2016.01.04 04:04:16\n",
      "2016.08.01 23:58:18\n",
      "GOLD\n",
      "USDCAD\n",
      "2016.01.04 04:01:16\n",
      "2016.08.01 23:49:53\n",
      "USDCHF\n",
      "2016.01.04 08:31:13\n",
      "2016.08.01 23:55:51\n",
      "USDJPY\n",
      "2016.01.05 02:45:40\n",
      "2016.08.01 23:57:29\n",
      "CADJPY\n",
      "2016.01.04 03:00:50\n",
      "2016.08.01 23:58:39\n",
      "EURJPY\n",
      "2016.01.04 02:42:41\n",
      "2016.08.01 23:58:32\n",
      "AUDJPY\n",
      "2016.01.04 03:01:23\n",
      "2016.08.01 23:52:39\n",
      "CHFJPY\n",
      "2016.01.04 02:44:56\n",
      "2016.08.01 23:54:08\n",
      "GBPJPY\n",
      "2016.01.04 03:30:12\n",
      "2016.08.01 23:52:47\n",
      "NZDUSD\n",
      "2016.01.04 03:33:49\n",
      "2016.08.01 23:48:51\n",
      "Edges:\n",
      "[datetime.date(2016, 8, 2), datetime.date(2017, 3, 6), datetime.date(2017, 9, 27), datetime.date(2018, 4, 10)]\n",
      "C:/Users/mgutierrez/root/Projects/SDC/py/RNN/IO/IOKFWRNN01010k5K5AC.hdf5\n",
      "C:/Users/mgutierrez/root/Projects/SDC/py/RNN/IO/IOKFRRNN01010k5K5AC.hdf5\n",
      "C:/Users/mgutierrez/root/Projects/SDC/py/RNN/IO/DTA_RRNN01010k5K5AC.p\n",
      "Samples for fitting: 2914096\n",
      "Samples for cross-validation: 890600\n",
      "Total samples: 3804696\n",
      "Percent per level:[0.05152606 0.2082056  0.47881697 0.21120768 0.0502437 ]\n",
      "DONE building IO\n",
      "Iteration 0 of 0\n",
      "INFO:tensorflow:Restoring parameters from C:/Users/mgutierrez/root/Projects/SDC/py/RNN/weights/WRNN01010k5K5A/000005/000005\n",
      "Parameters loaded. Epoch 5\n",
      "Epoch 5 of 14. Getting output...\n"
     ]
    },
    {
     "name": "stderr",
     "output_type": "stream",
     "text": [
      "100%|███████████████████████████████████████████████████████████████████████████████████████████████████████████████████████████████████| 870/870 [01:18<00:00, 11.10it/s]\n"
     ]
    },
    {
     "name": "stdout",
     "output_type": "stream",
     "text": [
      "J_test = 1.852065\n",
      "Epoch 5, J_train = 1.56535625694423, J_test = 1.8520645662285815\n",
      "Getting extended results...\n"
     ]
    },
    {
     "name": "stderr",
     "output_type": "stream",
     "text": [
      "100%|█████████████████████████████████████████████████████████████████████████████████████████████████████████████████████████████████████| 1/1 [00:00<00:00, 1001.98it/s]\n"
     ]
    },
    {
     "name": "stdout",
     "output_type": "stream",
     "text": [
      "Epoch = 5. Time index = 0. Threshold MC = 0.7. Threshold MD = 0.6\n",
      "RD = 2 NZ = 2 NZA = 2 pNZ = 0.000% pNZA = 0.000% AD = 100.00% ADA = 100.00% NO = 2 GSP = 100.00% NSP = 100.00%\n",
      "SI2 = 1.41 SI = 0.71 eGROI = 0.15% eROI = 0.08% eROI2 = 0.11% eROI3 = 0.09% mSpread = 0.0331%\n",
      "\n",
      "Getting extended results...\n"
     ]
    },
    {
     "name": "stderr",
     "output_type": "stream",
     "text": [
      "100%|█████████████████████████████████████████████████████████████████████████████████████████████████████████████████████████████████| 166/166 [00:00<00:00, 3396.84it/s]\n"
     ]
    },
    {
     "name": "stdout",
     "output_type": "stream",
     "text": [
      "Epoch = 5. Time index = 1. Threshold MC = 0.7. Threshold MD = 0.6\n",
      "RD = 82 NZ = 125 NZA = 167 pNZ = 0.014% pNZA = 0.019% AD = 65.60% ADA = 49.10% NO = 124 GSP = 61.29% NSP = 60.48%\n",
      "SI2 = 2.33 SI = -4.35 eGROI = 4.52% eROI = 1.17% eROI2 = 2.04% eROI3 = 0.80% mSpread = 0.0270%\n",
      "\n",
      "Getting extended results...\n"
     ]
    },
    {
     "name": "stderr",
     "output_type": "stream",
     "text": [
      "100%|█████████████████████████████████████████████████████████████████████████████████████████████████████████████████████████████████| 764/764 [00:00<00:00, 3948.85it/s]\n"
     ]
    },
    {
     "name": "stdout",
     "output_type": "stream",
     "text": [
      "Epoch = 5. Time index = 2. Threshold MC = 0.7. Threshold MD = 0.6\n",
      "RD = 331 NZ = 560 NZA = 765 pNZ = 0.063% pNZA = 0.086% AD = 59.11% ADA = 43.27% NO = 389 GSP = 58.35% NSP = 54.24%\n",
      "SI2 = 1.67 SI = -9.00 eGROI = 11.19% eROI = 1.63% eROI2 = 3.41% eROI3 = -0.48% mSpread = 0.0246%\n",
      "\n",
      "Getting extended results...\n"
     ]
    },
    {
     "name": "stderr",
     "output_type": "stream",
     "text": [
      "100%|███████████████████████████████████████████████████████████████████████████████████████████████████████████████████████████████| 1508/1508 [00:00<00:00, 2754.14it/s]\n"
     ]
    },
    {
     "name": "stdout",
     "output_type": "stream",
     "text": [
      "Epoch = 5. Time index = 3. Threshold MC = 0.7. Threshold MD = 0.6\n",
      "RD = 670 NZ = 1095 NZA = 1509 pNZ = 0.123% pNZA = 0.169% AD = 61.19% ADA = 44.40% NO = 592 GSP = 61.66% NSP = 57.77%\n",
      "SI2 = 3.70 SI = -10.25 eGROI = 26.15% eROI = 11.80% eROI2 = 14.31% eROI3 = 8.39% mSpread = 0.0242%\n",
      "\n",
      "Getting extended results...\n"
     ]
    },
    {
     "name": "stderr",
     "output_type": "stream",
     "text": [
      "100%|█████████████████████████████████████████████████████████████████████████████████████████████████████████████████████████████████| 208/208 [00:00<00:00, 1668.46it/s]\n"
     ]
    },
    {
     "name": "stdout",
     "output_type": "stream",
     "text": [
      "Epoch = 5. Time index = mean. Threshold MC = 0.7. Threshold MD = 0.6\n",
      "RD = 92 NZ = 153 NZA = 209 pNZ = 0.017% pNZA = 0.023% AD = 60.13% ADA = 44.02% NO = 148 GSP = 58.78% NSP = 55.41%\n",
      "SI2 = 1.81 SI = -5.38 eGROI = 4.16% eROI = 0.41% eROI2 = 1.20% eROI3 = -0.28% mSpread = 0.0253%\n",
      "\n",
      "Getting extended results...\n"
     ]
    },
    {
     "name": "stderr",
     "output_type": "stream",
     "text": [
      "100%|█████████████████████████████████████████████████████████████████████████████████████████████████████████████████████████████████| 208/208 [00:00<00:00, 2242.54it/s]\n"
     ]
    },
    {
     "name": "stdout",
     "output_type": "stream",
     "text": [
      "Epoch = 5. Time index = mean. Threshold MC = 0.7. Threshold MD = 0.6\n",
      "RD = 92 NZ = 153 NZA = 209 pNZ = 0.017% pNZA = 0.023% AD = 60.13% ADA = 44.02% NO = 148 GSP = 58.78% NSP = 55.41%\n",
      "SI2 = 1.81 SI = -5.38 eGROI = 4.16% eROI = 0.41% eROI2 = 1.20% eROI3 = -0.28% mSpread = 0.0253%\n",
      "\n",
      "Getting extended results...\n"
     ]
    },
    {
     "name": "stderr",
     "output_type": "stream",
     "text": [
      "100%|█████████████████████████████████████████████████████████████████████████████████████████████████████████████████████████████████| 208/208 [00:00<00:00, 1986.27it/s]\n"
     ]
    },
    {
     "name": "stdout",
     "output_type": "stream",
     "text": [
      "Epoch = 5. Time index = mean. Threshold MC = 0.7. Threshold MD = 0.6\n",
      "RD = 92 NZ = 153 NZA = 209 pNZ = 0.017% pNZA = 0.023% AD = 60.13% ADA = 44.02% NO = 148 GSP = 58.78% NSP = 55.41%\n",
      "SI2 = 1.81 SI = -5.38 eGROI = 4.16% eROI = 0.41% eROI2 = 1.20% eROI3 = -0.28% mSpread = 0.0253%\n",
      "\n",
      "Getting extended results...\n"
     ]
    },
    {
     "name": "stderr",
     "output_type": "stream",
     "text": [
      "100%|█████████████████████████████████████████████████████████████████████████████████████████████████████████████████████████████████| 208/208 [00:00<00:00, 2266.93it/s]\n"
     ]
    },
    {
     "name": "stdout",
     "output_type": "stream",
     "text": [
      "Epoch = 5. Time index = mean. Threshold MC = 0.7. Threshold MD = 0.6\n",
      "RD = 92 NZ = 153 NZA = 209 pNZ = 0.017% pNZA = 0.023% AD = 60.13% ADA = 44.02% NO = 148 GSP = 58.78% NSP = 55.41%\n",
      "SI2 = 1.81 SI = -5.38 eGROI = 4.16% eROI = 0.41% eROI2 = 1.20% eROI3 = -0.28% mSpread = 0.0253%\n",
      "\n",
      "Getting extended results...\n"
     ]
    },
    {
     "name": "stderr",
     "output_type": "stream",
     "text": [
      "100%|█████████████████████████████████████████████████████████████████████████████████████████████████████████████████████████████████| 208/208 [00:00<00:00, 2937.41it/s]\n"
     ]
    },
    {
     "name": "stdout",
     "output_type": "stream",
     "text": [
      "Epoch = 5. Time index = mean. Threshold MC = 0.7. Threshold MD = 0.6\n",
      "RD = 92 NZ = 153 NZA = 209 pNZ = 0.017% pNZA = 0.023% AD = 60.13% ADA = 44.02% NO = 148 GSP = 58.78% NSP = 55.41%\n",
      "SI2 = 1.81 SI = -5.38 eGROI = 4.16% eROI = 0.41% eROI2 = 1.20% eROI3 = -0.28% mSpread = 0.0253%\n",
      "\n",
      "Getting extended results...\n"
     ]
    },
    {
     "name": "stderr",
     "output_type": "stream",
     "text": [
      "100%|█████████████████████████████████████████████████████████████████████████████████████████████████████████████████████████████████| 208/208 [00:00<00:00, 2172.48it/s]\n"
     ]
    },
    {
     "name": "stdout",
     "output_type": "stream",
     "text": [
      "Epoch = 5. Time index = mean. Threshold MC = 0.7. Threshold MD = 0.6\n",
      "RD = 92 NZ = 153 NZA = 209 pNZ = 0.017% pNZA = 0.023% AD = 60.13% ADA = 44.02% NO = 148 GSP = 58.78% NSP = 55.41%\n",
      "SI2 = 1.81 SI = -5.38 eGROI = 4.16% eROI = 0.41% eROI2 = 1.20% eROI3 = -0.28% mSpread = 0.0253%\n",
      "\n",
      "Getting extended results...\n"
     ]
    },
    {
     "name": "stderr",
     "output_type": "stream",
     "text": [
      "100%|█████████████████████████████████████████████████████████████████████████████████████████████████████████████████████████████████| 208/208 [00:00<00:00, 3112.93it/s]\n"
     ]
    },
    {
     "name": "stdout",
     "output_type": "stream",
     "text": [
      "Epoch = 5. Time index = mean. Threshold MC = 0.7. Threshold MD = 0.6\n",
      "RD = 92 NZ = 153 NZA = 209 pNZ = 0.017% pNZA = 0.023% AD = 60.13% ADA = 44.02% NO = 148 GSP = 58.78% NSP = 55.41%\n",
      "SI2 = 1.81 SI = -5.38 eGROI = 4.16% eROI = 0.41% eROI2 = 1.20% eROI3 = -0.28% mSpread = 0.0253%\n",
      "\n",
      "Getting extended results...\n"
     ]
    },
    {
     "name": "stderr",
     "output_type": "stream",
     "text": [
      "100%|█████████████████████████████████████████████████████████████████████████████████████████████████████████████████████████████████| 208/208 [00:00<00:00, 1458.44it/s]\n"
     ]
    },
    {
     "name": "stdout",
     "output_type": "stream",
     "text": [
      "Epoch = 5. Time index = mean. Threshold MC = 0.7. Threshold MD = 0.6\n",
      "RD = 92 NZ = 153 NZA = 209 pNZ = 0.017% pNZA = 0.023% AD = 60.13% ADA = 44.02% NO = 148 GSP = 58.78% NSP = 55.41%\n",
      "SI2 = 1.81 SI = -5.38 eGROI = 4.16% eROI = 0.41% eROI2 = 1.20% eROI3 = -0.28% mSpread = 0.0253%\n",
      "\n",
      "Getting extended results...\n"
     ]
    },
    {
     "name": "stderr",
     "output_type": "stream",
     "text": [
      "100%|█████████████████████████████████████████████████████████████████████████████████████████████████████████████████████████████████| 208/208 [00:00<00:00, 2195.33it/s]\n"
     ]
    },
    {
     "name": "stdout",
     "output_type": "stream",
     "text": [
      "Epoch = 5. Time index = mean. Threshold MC = 0.7. Threshold MD = 0.6\n",
      "RD = 92 NZ = 153 NZA = 209 pNZ = 0.017% pNZA = 0.023% AD = 60.13% ADA = 44.02% NO = 148 GSP = 58.78% NSP = 55.41%\n",
      "SI2 = 1.81 SI = -5.38 eGROI = 4.16% eROI = 0.41% eROI2 = 1.20% eROI3 = -0.28% mSpread = 0.0253%\n",
      "\n",
      "Getting extended results...\n"
     ]
    },
    {
     "name": "stderr",
     "output_type": "stream",
     "text": [
      "100%|█████████████████████████████████████████████████████████████████████████████████████████████████████████████████████████████████| 208/208 [00:00<00:00, 2896.60it/s]\n"
     ]
    },
    {
     "name": "stdout",
     "output_type": "stream",
     "text": [
      "Epoch = 5. Time index = mean. Threshold MC = 0.7. Threshold MD = 0.6\n",
      "RD = 92 NZ = 153 NZA = 209 pNZ = 0.017% pNZA = 0.023% AD = 60.13% ADA = 44.02% NO = 148 GSP = 58.78% NSP = 55.41%\n",
      "SI2 = 1.81 SI = -5.38 eGROI = 4.16% eROI = 0.41% eROI2 = 1.20% eROI3 = -0.28% mSpread = 0.0253%\n",
      "\n",
      "Getting extended results...\n"
     ]
    },
    {
     "name": "stderr",
     "output_type": "stream",
     "text": [
      "100%|█████████████████████████████████████████████████████████████████████████████████████████████████████████████████████████████████| 208/208 [00:00<00:00, 2044.66it/s]\n"
     ]
    },
    {
     "name": "stdout",
     "output_type": "stream",
     "text": [
      "Epoch = 5. Time index = mean. Threshold MC = 0.7. Threshold MD = 0.6\n",
      "RD = 92 NZ = 153 NZA = 209 pNZ = 0.017% pNZA = 0.023% AD = 60.13% ADA = 44.02% NO = 148 GSP = 58.78% NSP = 55.41%\n",
      "SI2 = 1.81 SI = -5.38 eGROI = 4.16% eROI = 0.41% eROI2 = 1.20% eROI3 = -0.28% mSpread = 0.0253%\n",
      "\n",
      "Getting extended results...\n"
     ]
    },
    {
     "name": "stderr",
     "output_type": "stream",
     "text": [
      "100%|█████████████████████████████████████████████████████████████████████████████████████████████████████████████████████████████████| 208/208 [00:00<00:00, 3160.33it/s]\n"
     ]
    },
    {
     "name": "stdout",
     "output_type": "stream",
     "text": [
      "Epoch = 5. Time index = mean. Threshold MC = 0.7. Threshold MD = 0.6\n",
      "RD = 92 NZ = 153 NZA = 209 pNZ = 0.017% pNZA = 0.023% AD = 60.13% ADA = 44.02% NO = 148 GSP = 58.78% NSP = 55.41%\n",
      "SI2 = 1.81 SI = -5.38 eGROI = 4.16% eROI = 0.41% eROI2 = 1.20% eROI3 = -0.28% mSpread = 0.0253%\n",
      "\n",
      "Getting extended results...\n"
     ]
    },
    {
     "name": "stderr",
     "output_type": "stream",
     "text": [
      "100%|█████████████████████████████████████████████████████████████████████████████████████████████████████████████████████████████████| 208/208 [00:00<00:00, 2979.35it/s]\n"
     ]
    },
    {
     "name": "stdout",
     "output_type": "stream",
     "text": [
      "Epoch = 5. Time index = mean. Threshold MC = 0.7. Threshold MD = 0.6\n",
      "RD = 92 NZ = 153 NZA = 209 pNZ = 0.017% pNZA = 0.023% AD = 60.13% ADA = 44.02% NO = 148 GSP = 58.78% NSP = 55.41%\n",
      "SI2 = 1.81 SI = -5.38 eGROI = 4.16% eROI = 0.41% eROI2 = 1.20% eROI3 = -0.28% mSpread = 0.0253%\n",
      "\n",
      "Getting extended results...\n"
     ]
    },
    {
     "name": "stderr",
     "output_type": "stream",
     "text": [
      "100%|█████████████████████████████████████████████████████████████████████████████████████████████████████████████████████████████████| 208/208 [00:00<00:00, 3363.84it/s]\n"
     ]
    },
    {
     "name": "stdout",
     "output_type": "stream",
     "text": [
      "Epoch = 5. Time index = mean. Threshold MC = 0.7. Threshold MD = 0.6\n",
      "RD = 92 NZ = 153 NZA = 209 pNZ = 0.017% pNZA = 0.023% AD = 60.13% ADA = 44.02% NO = 148 GSP = 58.78% NSP = 55.41%\n",
      "SI2 = 1.81 SI = -5.38 eGROI = 4.16% eROI = 0.41% eROI2 = 1.20% eROI3 = -0.28% mSpread = 0.0253%\n",
      "\n",
      "Getting extended results...\n"
     ]
    },
    {
     "name": "stderr",
     "output_type": "stream",
     "text": [
      "100%|█████████████████████████████████████████████████████████████████████████████████████████████████████████████████████████████████| 208/208 [00:00<00:00, 3310.48it/s]\n"
     ]
    },
    {
     "name": "stdout",
     "output_type": "stream",
     "text": [
      "Epoch = 5. Time index = mean. Threshold MC = 0.7. Threshold MD = 0.6\n",
      "RD = 92 NZ = 153 NZA = 209 pNZ = 0.017% pNZA = 0.023% AD = 60.13% ADA = 44.02% NO = 148 GSP = 58.78% NSP = 55.41%\n",
      "SI2 = 1.81 SI = -5.38 eGROI = 4.16% eROI = 0.41% eROI2 = 1.20% eROI3 = -0.28% mSpread = 0.0253%\n",
      "\n",
      "Getting extended results...\n"
     ]
    },
    {
     "name": "stderr",
     "output_type": "stream",
     "text": [
      "100%|█████████████████████████████████████████████████████████████████████████████████████████████████████████████████████████████████| 208/208 [00:00<00:00, 2425.11it/s]\n"
     ]
    },
    {
     "name": "stdout",
     "output_type": "stream",
     "text": [
      "Epoch = 5. Time index = mean. Threshold MC = 0.7. Threshold MD = 0.6\n",
      "RD = 92 NZ = 153 NZA = 209 pNZ = 0.017% pNZA = 0.023% AD = 60.13% ADA = 44.02% NO = 148 GSP = 58.78% NSP = 55.41%\n",
      "SI2 = 1.81 SI = -5.38 eGROI = 4.16% eROI = 0.41% eROI2 = 1.20% eROI3 = -0.28% mSpread = 0.0253%\n",
      "\n",
      "Getting extended results...\n"
     ]
    },
    {
     "name": "stderr",
     "output_type": "stream",
     "text": [
      "100%|█████████████████████████████████████████████████████████████████████████████████████████████████████████████████████████████████| 208/208 [00:00<00:00, 2841.90it/s]\n"
     ]
    },
    {
     "name": "stdout",
     "output_type": "stream",
     "text": [
      "Epoch = 5. Time index = mean. Threshold MC = 0.7. Threshold MD = 0.6\n",
      "RD = 92 NZ = 153 NZA = 209 pNZ = 0.017% pNZA = 0.023% AD = 60.13% ADA = 44.02% NO = 148 GSP = 58.78% NSP = 55.41%\n",
      "SI2 = 1.81 SI = -5.38 eGROI = 4.16% eROI = 0.41% eROI2 = 1.20% eROI3 = -0.28% mSpread = 0.0253%\n",
      "\n",
      "Getting extended results...\n"
     ]
    },
    {
     "name": "stderr",
     "output_type": "stream",
     "text": [
      "100%|█████████████████████████████████████████████████████████████████████████████████████████████████████████████████████████████████| 208/208 [00:00<00:00, 1967.96it/s]\n"
     ]
    },
    {
     "name": "stdout",
     "output_type": "stream",
     "text": [
      "Epoch = 5. Time index = mean. Threshold MC = 0.7. Threshold MD = 0.6\n",
      "RD = 92 NZ = 153 NZA = 209 pNZ = 0.017% pNZA = 0.023% AD = 60.13% ADA = 44.02% NO = 148 GSP = 58.78% NSP = 55.41%\n",
      "SI2 = 1.81 SI = -5.38 eGROI = 4.16% eROI = 0.41% eROI2 = 1.20% eROI3 = -0.28% mSpread = 0.0253%\n",
      "\n",
      "Getting extended results...\n"
     ]
    },
    {
     "name": "stderr",
     "output_type": "stream",
     "text": [
      "100%|█████████████████████████████████████████████████████████████████████████████████████████████████████████████████████████████████| 208/208 [00:00<00:00, 2397.21it/s]\n"
     ]
    },
    {
     "name": "stdout",
     "output_type": "stream",
     "text": [
      "Epoch = 5. Time index = mean. Threshold MC = 0.7. Threshold MD = 0.6\n",
      "RD = 92 NZ = 153 NZA = 209 pNZ = 0.017% pNZA = 0.023% AD = 60.13% ADA = 44.02% NO = 148 GSP = 58.78% NSP = 55.41%\n",
      "SI2 = 1.81 SI = -5.38 eGROI = 4.16% eROI = 0.41% eROI2 = 1.20% eROI3 = -0.28% mSpread = 0.0253%\n",
      "\n",
      "Getting extended results...\n"
     ]
    },
    {
     "name": "stderr",
     "output_type": "stream",
     "text": [
      "100%|█████████████████████████████████████████████████████████████████████████████████████████████████████████████████████████████████| 208/208 [00:00<00:00, 2818.37it/s]\n"
     ]
    },
    {
     "name": "stdout",
     "output_type": "stream",
     "text": [
      "Epoch = 5. Time index = mean. Threshold MC = 0.7. Threshold MD = 0.6\n",
      "RD = 92 NZ = 153 NZA = 209 pNZ = 0.017% pNZA = 0.023% AD = 60.13% ADA = 44.02% NO = 148 GSP = 58.78% NSP = 55.41%\n",
      "SI2 = 1.81 SI = -5.38 eGROI = 4.16% eROI = 0.41% eROI2 = 1.20% eROI3 = -0.28% mSpread = 0.0253%\n",
      "\n",
      "Getting extended results...\n"
     ]
    },
    {
     "name": "stderr",
     "output_type": "stream",
     "text": [
      "100%|█████████████████████████████████████████████████████████████████████████████████████████████████████████████████████████████████| 208/208 [00:00<00:00, 2744.14it/s]\n"
     ]
    },
    {
     "name": "stdout",
     "output_type": "stream",
     "text": [
      "Epoch = 5. Time index = mean. Threshold MC = 0.7. Threshold MD = 0.6\n",
      "RD = 92 NZ = 153 NZA = 209 pNZ = 0.017% pNZA = 0.023% AD = 60.13% ADA = 44.02% NO = 148 GSP = 58.78% NSP = 55.41%\n",
      "SI2 = 1.81 SI = -5.38 eGROI = 4.16% eROI = 0.41% eROI2 = 1.20% eROI3 = -0.28% mSpread = 0.0253%\n",
      "\n",
      "Best eGROI = 107.03 t_index 3 thr_mc 0.5 thr_md 0.6 epoch 5 in 7159 GSP 58.54 ADA 36.90 AD 57.52\n",
      "Best eROI = 15.69 t_index 3 thr_mc 0.8 thr_md 0.6 epoch 5 in 67 GSP 82.09 ADA 62.60 AD 81.91\n",
      "Best eROI.5 = 71.23 t_index 3 thr_mc 0.5 thr_md 0.6 epoch 5 in 7159 GSP 58.54 ADA 36.90 AD 57.52\n",
      "Best eROI1 = 40.60 t_index 0 thr_mc 0.7 thr_md 0.5 epoch 5 in 5637 GSP 53.77 ADA 40.29 AD 53.14\n",
      "Best eROI1.5 = 19.35 t_index 1 thr_mc 0.5 thr_md 0.6 epoch 5 in 2236 GSP 60.20 ADA 39.85 AD 62.81\n",
      "Best eROI2 = 16.03 t_index 3 thr_mc 0.8 thr_md 0.6 epoch 5 in 67 GSP 82.09 ADA 62.60 AD 81.91\n",
      "Best eROI3 = 15.36 t_index 3 thr_mc 0.8 thr_md 0.6 epoch 5 in 67 GSP 82.09 ADA 62.60 AD 81.91\n",
      "Best eROI4 = 14.69 t_index 3 thr_mc 0.8 thr_md 0.6 epoch 5 in 67 GSP 82.09 ADA 62.60 AD 81.91\n",
      "Best eROI5 = 14.02 t_index 3 thr_mc 0.8 thr_md 0.6 epoch 5 in 67 GSP 82.09 ADA 62.60 AD 81.91\n",
      "Best SI = 28.24 t_index 3 thr_mc 0.7 thr_md 0.6 epoch 5 in 592 GSP 61.66 ADA 44.40 AD 61.19\n",
      "Best SI.5 = 299.73 t_index 3 thr_mc 0.5 thr_md 0.6 epoch 5 in 7159 GSP 58.54 ADA 36.90 AD 57.52\n",
      "Best SI1 = 172.73 t_index 3 thr_mc 0.5 thr_md 0.6 epoch 5 in 7159 GSP 58.54 ADA 36.90 AD 57.52\n",
      "Best SI1.5 = 97.08 t_index 3 thr_mc 0.6 thr_md 0.6 epoch 5 in 4564 GSP 59.07 ADA 39.25 AD 58.41\n",
      "Best SI2 = 40.22 t_index 1 thr_mc 0.6 thr_md 0.6 epoch 5 in 926 GSP 62.74 ADA 44.05 AD 63.91\n",
      "Best SI3 = 17.24 t_index 3 thr_mc 0.7 thr_md 0.6 epoch 5 in 592 GSP 61.66 ADA 44.40 AD 61.19\n",
      "Best SI4 = 15.49 t_index 3 thr_mc 0.8 thr_md 0.6 epoch 5 in 67 GSP 82.09 ADA 62.60 AD 81.91\n",
      "Best SI5 = 14.49 t_index 3 thr_mc 0.8 thr_md 0.6 epoch 5 in 67 GSP 82.09 ADA 62.60 AD 81.91\n",
      "Best 99eGROI = 112.48 t_index 3 thr_mc 0.5 thr_md 0.6 epoch 5 in 7159 GSP 58.54 ADA 36.90 AD 57.52\n",
      "Best 99eROI = 16.76 t_index 3 thr_mc 0.8 thr_md 0.6 epoch 5 in 67 GSP 82.09 ADA 62.60 AD 81.91\n",
      "Best 99eROI.5 = 77.40 t_index 3 thr_mc 0.5 thr_md 0.6 epoch 5 in 7159 GSP 58.54 ADA 36.90 AD 57.52\n",
      "Best 99eROI1 = 42.31 t_index 3 thr_mc 0.5 thr_md 0.6 epoch 5 in 7159 GSP 58.54 ADA 36.90 AD 57.52\n",
      "Best 99eROI1.5 = 20.57 t_index 1 thr_mc 0.5 thr_md 0.6 epoch 5 in 2236 GSP 60.20 ADA 39.85 AD 62.81\n",
      "Best 99eROI2 = 17.12 t_index 3 thr_mc 0.8 thr_md 0.6 epoch 5 in 67 GSP 82.09 ADA 62.60 AD 81.91\n",
      "Best 99eROI3 = 16.46 t_index 3 thr_mc 0.8 thr_md 0.6 epoch 5 in 67 GSP 82.09 ADA 62.60 AD 81.91\n",
      "Best 99eROI4 = 15.80 t_index 3 thr_mc 0.8 thr_md 0.6 epoch 5 in 67 GSP 82.09 ADA 62.60 AD 81.91\n",
      "Best 99eROI5 = 15.14 t_index 3 thr_mc 0.8 thr_md 0.6 epoch 5 in 67 GSP 82.09 ADA 62.60 AD 81.91\n",
      "\n",
      "The very best:\n",
      "Best eGROI = 208.66 t_index 2 thr_mc 0.5 thr_md 0.6 epoch 13 in 12745 GSP 56.74 ADA 38.20 AD 55.17\n",
      "Best eROI = 79.35 t_index 0 thr_mc 0.7 thr_md 0.5 epoch 0 in 2226 GSP 57.01 ADA 45.10 AD 54.12\n",
      "Best eROI.5 = 170.60 t_index 1 thr_mc 0.7 thr_md 0.5 epoch 0 in 5217 GSP 57.14 ADA 41.43 AD 53.99\n",
      "Best eROI1 = 144.52 t_index 1 thr_mc 0.7 thr_md 0.5 epoch 0 in 5217 GSP 57.14 ADA 41.43 AD 53.99\n",
      "Best eROI1.5 = 118.43 t_index 1 thr_mc 0.7 thr_md 0.5 epoch 0 in 5217 GSP 57.14 ADA 41.43 AD 53.99\n",
      "Best eROI2 = 92.35 t_index 1 thr_mc 0.7 thr_md 0.5 epoch 0 in 5217 GSP 57.14 ADA 41.43 AD 53.99\n",
      "Best eROI3 = 64.46 t_index 0 thr_mc 0.7 thr_md 0.5 epoch 0 in 2226 GSP 57.01 ADA 45.10 AD 54.12\n",
      "Best eROI4 = 42.20 t_index 0 thr_mc 0.7 thr_md 0.5 epoch 0 in 2226 GSP 57.01 ADA 45.10 AD 54.12\n",
      "Best eROI5 = 27.62 t_index 3 thr_mc 0.9 thr_md 0.5 epoch 14 in 184 GSP 55.43 ADA 49.93 AD 55.90\n",
      "Best SI = 37.77 t_index 0 thr_mc 0.7 thr_md 0.6 epoch 9 in 891 GSP 61.05 ADA 46.19 AD 61.14\n",
      "Best SI.5 = 411.04 t_index 3 thr_mc 0.5 thr_md 0.6 epoch 8 in 10432 GSP 58.26 ADA 38.17 AD 56.26\n",
      "Best SI1 = 234.15 t_index 3 thr_mc 0.5 thr_md 0.6 epoch 9 in 11345 GSP 57.96 ADA 38.28 AD 55.82\n",
      "Best SI1.5 = 134.23 t_index 2 thr_mc 0.6 thr_md 0.6 epoch 7 in 5509 GSP 59.21 ADA 40.40 AD 57.89\n",
      "Best SI2 = 80.55 t_index 3 thr_mc 0.5 thr_md 0.7 epoch 14 in 3365 GSP 60.77 ADA 42.78 AD 57.60\n",
      "Best SI3 = 26.77 t_index 0 thr_mc 0.7 thr_md 0.6 epoch 9 in 891 GSP 61.05 ADA 46.19 AD 61.14\n",
      "Best SI4 = 15.49 t_index 3 thr_mc 0.8 thr_md 0.6 epoch 5 in 67 GSP 82.09 ADA 62.60 AD 81.91\n",
      "Best SI5 = 14.49 t_index 3 thr_mc 0.8 thr_md 0.6 epoch 5 in 67 GSP 82.09 ADA 62.60 AD 81.91\n",
      "Best 99eGROI = 199.25 t_index 3 thr_mc 0.5 thr_md 0.6 epoch 10 in 12161 GSP 57.14 ADA 38.16 AD 55.40\n",
      "Best 99eROI = 37.00 t_index 3 thr_mc 0.9 thr_md 0.5 epoch 14 in 184 GSP 55.43 ADA 49.93 AD 55.90\n",
      "Best 99eROI.5 = 139.65 t_index 3 thr_mc 0.5 thr_md 0.6 epoch 10 in 12161 GSP 57.14 ADA 38.16 AD 55.40\n",
      "Best 99eROI1 = 87.49 t_index 1 thr_mc 0.6 thr_md 0.6 epoch 11 in 7915 GSP 57.71 ADA 40.70 AD 56.52\n",
      "Best 99eROI1.5 = 64.81 t_index 3 thr_mc 0.5 thr_md 0.7 epoch 14 in 3365 GSP 60.77 ADA 42.78 AD 57.60\n",
      "Best 99eROI2 = 48.32 t_index 3 thr_mc 0.5 thr_md 0.7 epoch 14 in 3365 GSP 60.77 ADA 42.78 AD 57.60\n",
      "Best 99eROI3 = 36.83 t_index 3 thr_mc 0.9 thr_md 0.5 epoch 14 in 184 GSP 55.43 ADA 49.93 AD 55.90\n",
      "Best 99eROI4 = 35.01 t_index 3 thr_mc 0.9 thr_md 0.5 epoch 14 in 184 GSP 55.43 ADA 49.93 AD 55.90\n",
      "Best 99eROI5 = 33.19 t_index 3 thr_mc 0.9 thr_md 0.5 epoch 14 in 184 GSP 55.43 ADA 49.93 AD 55.90\n",
      "Time=23.77 secs\n",
      "INFO:tensorflow:Restoring parameters from C:/Users/mgutierrez/root/Projects/SDC/py/RNN/weights/WRNN01010k5K5A/000006/000006\n",
      "Parameters loaded. Epoch 6\n",
      "Epoch 6 of 14. Getting output...\n"
     ]
    },
    {
     "name": "stderr",
     "output_type": "stream",
     "text": [
      "100%|███████████████████████████████████████████████████████████████████████████████████████████████████████████████████████████████████| 870/870 [01:14<00:00, 11.62it/s]\n"
     ]
    },
    {
     "name": "stdout",
     "output_type": "stream",
     "text": [
      "J_test = 1.852070\n",
      "Epoch 6, J_train = 1.5646387426809618, J_test = 1.8520704662662812\n",
      "Getting extended results...\n"
     ]
    },
    {
     "name": "stderr",
     "output_type": "stream",
     "text": [
      "100%|███████████████████████████████████████████████████████████████████████████████████████████████████████████████████████████████████| 21/21 [00:00<00:00, 1914.08it/s]\n"
     ]
    },
    {
     "name": "stdout",
     "output_type": "stream",
     "text": [
      "Epoch = 6. Time index = 0. Threshold MC = 0.7. Threshold MD = 0.6\n",
      "RD = 10 NZ = 19 NZA = 22 pNZ = 0.002% pNZA = 0.002% AD = 52.63% ADA = 45.45% NO = 20 GSP = 65.00% NSP = 55.00%\n",
      "SI2 = 0.89 SI = -1.89 eGROI = 2.66% eROI = 2.01% eROI2 = 2.26% eROI3 = 2.06% mSpread = 0.0328%\n",
      "\n",
      "Getting extended results...\n"
     ]
    },
    {
     "name": "stderr",
     "output_type": "stream",
     "text": [
      "100%|███████████████████████████████████████████████████████████████████████████████████████████████████████████████████████████████| 1111/1111 [00:00<00:00, 3628.54it/s]\n"
     ]
    },
    {
     "name": "stdout",
     "output_type": "stream",
     "text": [
      "Epoch = 6. Time index = 1. Threshold MC = 0.7. Threshold MD = 0.6\n",
      "RD = 482 NZ = 837 NZA = 1112 pNZ = 0.094% pNZA = 0.125% AD = 57.59% ADA = 43.35% NO = 512 GSP = 58.79% NSP = 55.27%\n",
      "SI2 = 2.30 SI = -10.10 eGROI = 14.20% eROI = 1.10% eROI2 = 3.96% eROI3 = -1.16% mSpread = 0.0256%\n",
      "\n",
      "Getting extended results...\n"
     ]
    },
    {
     "name": "stderr",
     "output_type": "stream",
     "text": [
      "100%|███████████████████████████████████████████████████████████████████████████████████████████████████████████████████████████████| 2570/2570 [00:00<00:00, 3857.58it/s]\n"
     ]
    },
    {
     "name": "stdout",
     "output_type": "stream",
     "text": [
      "Epoch = 6. Time index = 2. Threshold MC = 0.7. Threshold MD = 0.6\n",
      "RD = 1151 NZ = 1931 NZA = 2571 pNZ = 0.217% pNZA = 0.289% AD = 59.61% ADA = 44.77% NO = 866 GSP = 60.28% NSP = 56.70%\n",
      "SI2 = 3.87 SI = -12.72 eGROI = 38.60% eROI = 17.21% eROI2 = 21.28% eROI3 = 12.62% mSpread = 0.0247%\n",
      "\n",
      "Getting extended results...\n"
     ]
    },
    {
     "name": "stderr",
     "output_type": "stream",
     "text": [
      "100%|███████████████████████████████████████████████████████████████████████████████████████████████████████████████████████████████| 4447/4447 [00:01<00:00, 3970.54it/s]\n"
     ]
    },
    {
     "name": "stdout",
     "output_type": "stream",
     "text": [
      "Epoch = 6. Time index = 3. Threshold MC = 0.7. Threshold MD = 0.6\n",
      "RD = 1963 NZ = 3300 NZA = 4448 pNZ = 0.371% pNZA = 0.499% AD = 59.48% ADA = 44.13% NO = 1159 GSP = 59.79% NSP = 56.26%\n",
      "SI2 = 3.97 SI = -14.88 eGROI = 46.80% eROI = 17.61% eROI2 = 23.62% eROI3 = 12.03% mSpread = 0.0252%\n",
      "\n",
      "Getting extended results...\n"
     ]
    },
    {
     "name": "stderr",
     "output_type": "stream",
     "text": [
      "100%|███████████████████████████████████████████████████████████████████████████████████████████████████████████████████████████████| 1188/1188 [00:00<00:00, 3272.56it/s]\n"
     ]
    },
    {
     "name": "stdout",
     "output_type": "stream",
     "text": [
      "Epoch = 6. Time index = mean. Threshold MC = 0.7. Threshold MD = 0.6\n",
      "RD = 531 NZ = 880 NZA = 1189 pNZ = 0.099% pNZA = 0.134% AD = 60.34% ADA = 44.66% NO = 479 GSP = 61.80% NSP = 57.62%\n",
      "SI2 = 3.52 SI = -9.25 eGROI = 24.92% eROI = 12.80% eROI2 = 15.34% eROI3 = 10.55% mSpread = 0.0253%\n",
      "\n",
      "Getting extended results...\n"
     ]
    },
    {
     "name": "stderr",
     "output_type": "stream",
     "text": [
      "100%|███████████████████████████████████████████████████████████████████████████████████████████████████████████████████████████████| 1188/1188 [00:00<00:00, 3598.71it/s]\n"
     ]
    },
    {
     "name": "stdout",
     "output_type": "stream",
     "text": [
      "Epoch = 6. Time index = mean. Threshold MC = 0.7. Threshold MD = 0.6\n",
      "RD = 531 NZ = 880 NZA = 1189 pNZ = 0.099% pNZA = 0.134% AD = 60.34% ADA = 44.66% NO = 479 GSP = 61.80% NSP = 57.62%\n",
      "SI2 = 3.52 SI = -9.25 eGROI = 24.92% eROI = 12.80% eROI2 = 15.34% eROI3 = 10.55% mSpread = 0.0253%\n",
      "\n",
      "Getting extended results...\n"
     ]
    },
    {
     "name": "stderr",
     "output_type": "stream",
     "text": [
      "100%|███████████████████████████████████████████████████████████████████████████████████████████████████████████████████████████████| 1188/1188 [00:00<00:00, 2898.22it/s]\n"
     ]
    },
    {
     "name": "stdout",
     "output_type": "stream",
     "text": [
      "Epoch = 6. Time index = mean. Threshold MC = 0.7. Threshold MD = 0.6\n",
      "RD = 531 NZ = 880 NZA = 1189 pNZ = 0.099% pNZA = 0.134% AD = 60.34% ADA = 44.66% NO = 479 GSP = 61.80% NSP = 57.62%\n",
      "SI2 = 3.52 SI = -9.25 eGROI = 24.92% eROI = 12.80% eROI2 = 15.34% eROI3 = 10.55% mSpread = 0.0253%\n",
      "\n",
      "Getting extended results...\n"
     ]
    },
    {
     "name": "stderr",
     "output_type": "stream",
     "text": [
      "100%|███████████████████████████████████████████████████████████████████████████████████████████████████████████████████████████████| 1188/1188 [00:00<00:00, 3272.47it/s]\n"
     ]
    },
    {
     "name": "stdout",
     "output_type": "stream",
     "text": [
      "Epoch = 6. Time index = mean. Threshold MC = 0.7. Threshold MD = 0.6\n",
      "RD = 531 NZ = 880 NZA = 1189 pNZ = 0.099% pNZA = 0.134% AD = 60.34% ADA = 44.66% NO = 479 GSP = 61.80% NSP = 57.62%\n",
      "SI2 = 3.52 SI = -9.25 eGROI = 24.92% eROI = 12.80% eROI2 = 15.34% eROI3 = 10.55% mSpread = 0.0253%\n",
      "\n",
      "Getting extended results...\n"
     ]
    },
    {
     "name": "stderr",
     "output_type": "stream",
     "text": [
      "100%|███████████████████████████████████████████████████████████████████████████████████████████████████████████████████████████████| 1188/1188 [00:00<00:00, 2870.29it/s]\n"
     ]
    },
    {
     "name": "stdout",
     "output_type": "stream",
     "text": [
      "Epoch = 6. Time index = mean. Threshold MC = 0.7. Threshold MD = 0.6\n",
      "RD = 531 NZ = 880 NZA = 1189 pNZ = 0.099% pNZA = 0.134% AD = 60.34% ADA = 44.66% NO = 479 GSP = 61.80% NSP = 57.62%\n",
      "SI2 = 3.52 SI = -9.25 eGROI = 24.92% eROI = 12.80% eROI2 = 15.34% eROI3 = 10.55% mSpread = 0.0253%\n",
      "\n",
      "Getting extended results...\n"
     ]
    },
    {
     "name": "stderr",
     "output_type": "stream",
     "text": [
      "100%|███████████████████████████████████████████████████████████████████████████████████████████████████████████████████████████████| 1188/1188 [00:00<00:00, 3263.50it/s]\n"
     ]
    },
    {
     "name": "stdout",
     "output_type": "stream",
     "text": [
      "Epoch = 6. Time index = mean. Threshold MC = 0.7. Threshold MD = 0.6\n",
      "RD = 531 NZ = 880 NZA = 1189 pNZ = 0.099% pNZA = 0.134% AD = 60.34% ADA = 44.66% NO = 479 GSP = 61.80% NSP = 57.62%\n",
      "SI2 = 3.52 SI = -9.25 eGROI = 24.92% eROI = 12.80% eROI2 = 15.34% eROI3 = 10.55% mSpread = 0.0253%\n",
      "\n",
      "Getting extended results...\n"
     ]
    },
    {
     "name": "stderr",
     "output_type": "stream",
     "text": [
      "100%|███████████████████████████████████████████████████████████████████████████████████████████████████████████████████████████████| 1188/1188 [00:00<00:00, 2583.89it/s]\n"
     ]
    },
    {
     "name": "stdout",
     "output_type": "stream",
     "text": [
      "Epoch = 6. Time index = mean. Threshold MC = 0.7. Threshold MD = 0.6\n",
      "RD = 531 NZ = 880 NZA = 1189 pNZ = 0.099% pNZA = 0.134% AD = 60.34% ADA = 44.66% NO = 479 GSP = 61.80% NSP = 57.62%\n",
      "SI2 = 3.52 SI = -9.25 eGROI = 24.92% eROI = 12.80% eROI2 = 15.34% eROI3 = 10.55% mSpread = 0.0253%\n",
      "\n",
      "Getting extended results...\n"
     ]
    },
    {
     "name": "stderr",
     "output_type": "stream",
     "text": [
      "100%|███████████████████████████████████████████████████████████████████████████████████████████████████████████████████████████████| 1188/1188 [00:00<00:00, 2513.02it/s]\n"
     ]
    },
    {
     "name": "stdout",
     "output_type": "stream",
     "text": [
      "Epoch = 6. Time index = mean. Threshold MC = 0.7. Threshold MD = 0.6\n",
      "RD = 531 NZ = 880 NZA = 1189 pNZ = 0.099% pNZA = 0.134% AD = 60.34% ADA = 44.66% NO = 479 GSP = 61.80% NSP = 57.62%\n",
      "SI2 = 3.52 SI = -9.25 eGROI = 24.92% eROI = 12.80% eROI2 = 15.34% eROI3 = 10.55% mSpread = 0.0253%\n",
      "\n",
      "Getting extended results...\n"
     ]
    },
    {
     "name": "stderr",
     "output_type": "stream",
     "text": [
      "100%|███████████████████████████████████████████████████████████████████████████████████████████████████████████████████████████████| 1188/1188 [00:00<00:00, 3524.18it/s]\n"
     ]
    },
    {
     "name": "stdout",
     "output_type": "stream",
     "text": [
      "Epoch = 6. Time index = mean. Threshold MC = 0.7. Threshold MD = 0.6\n",
      "RD = 531 NZ = 880 NZA = 1189 pNZ = 0.099% pNZA = 0.134% AD = 60.34% ADA = 44.66% NO = 479 GSP = 61.80% NSP = 57.62%\n",
      "SI2 = 3.52 SI = -9.25 eGROI = 24.92% eROI = 12.80% eROI2 = 15.34% eROI3 = 10.55% mSpread = 0.0253%\n",
      "\n",
      "Getting extended results...\n"
     ]
    },
    {
     "name": "stderr",
     "output_type": "stream",
     "text": [
      "100%|███████████████████████████████████████████████████████████████████████████████████████████████████████████████████████████████| 1188/1188 [00:00<00:00, 3769.52it/s]\n"
     ]
    },
    {
     "name": "stdout",
     "output_type": "stream",
     "text": [
      "Epoch = 6. Time index = mean. Threshold MC = 0.7. Threshold MD = 0.6\n",
      "RD = 531 NZ = 880 NZA = 1189 pNZ = 0.099% pNZA = 0.134% AD = 60.34% ADA = 44.66% NO = 479 GSP = 61.80% NSP = 57.62%\n",
      "SI2 = 3.52 SI = -9.25 eGROI = 24.92% eROI = 12.80% eROI2 = 15.34% eROI3 = 10.55% mSpread = 0.0253%\n",
      "\n",
      "Getting extended results...\n"
     ]
    },
    {
     "name": "stderr",
     "output_type": "stream",
     "text": [
      "100%|███████████████████████████████████████████████████████████████████████████████████████████████████████████████████████████████| 1188/1188 [00:00<00:00, 3722.42it/s]\n"
     ]
    },
    {
     "name": "stdout",
     "output_type": "stream",
     "text": [
      "Epoch = 6. Time index = mean. Threshold MC = 0.7. Threshold MD = 0.6\n",
      "RD = 531 NZ = 880 NZA = 1189 pNZ = 0.099% pNZA = 0.134% AD = 60.34% ADA = 44.66% NO = 479 GSP = 61.80% NSP = 57.62%\n",
      "SI2 = 3.52 SI = -9.25 eGROI = 24.92% eROI = 12.80% eROI2 = 15.34% eROI3 = 10.55% mSpread = 0.0253%\n",
      "\n",
      "Getting extended results...\n"
     ]
    },
    {
     "name": "stderr",
     "output_type": "stream",
     "text": [
      "100%|███████████████████████████████████████████████████████████████████████████████████████████████████████████████████████████████| 1188/1188 [00:00<00:00, 3513.76it/s]\n"
     ]
    },
    {
     "name": "stdout",
     "output_type": "stream",
     "text": [
      "Epoch = 6. Time index = mean. Threshold MC = 0.7. Threshold MD = 0.6\n",
      "RD = 531 NZ = 880 NZA = 1189 pNZ = 0.099% pNZA = 0.134% AD = 60.34% ADA = 44.66% NO = 479 GSP = 61.80% NSP = 57.62%\n",
      "SI2 = 3.52 SI = -9.25 eGROI = 24.92% eROI = 12.80% eROI2 = 15.34% eROI3 = 10.55% mSpread = 0.0253%\n",
      "\n",
      "Getting extended results...\n"
     ]
    },
    {
     "name": "stderr",
     "output_type": "stream",
     "text": [
      "100%|███████████████████████████████████████████████████████████████████████████████████████████████████████████████████████████████| 1188/1188 [00:00<00:00, 3422.94it/s]\n"
     ]
    },
    {
     "name": "stdout",
     "output_type": "stream",
     "text": [
      "Epoch = 6. Time index = mean. Threshold MC = 0.7. Threshold MD = 0.6\n",
      "RD = 531 NZ = 880 NZA = 1189 pNZ = 0.099% pNZA = 0.134% AD = 60.34% ADA = 44.66% NO = 479 GSP = 61.80% NSP = 57.62%\n",
      "SI2 = 3.52 SI = -9.25 eGROI = 24.92% eROI = 12.80% eROI2 = 15.34% eROI3 = 10.55% mSpread = 0.0253%\n",
      "\n",
      "Getting extended results...\n"
     ]
    },
    {
     "name": "stderr",
     "output_type": "stream",
     "text": [
      "100%|███████████████████████████████████████████████████████████████████████████████████████████████████████████████████████████████| 1188/1188 [00:00<00:00, 3263.49it/s]\n"
     ]
    },
    {
     "name": "stdout",
     "output_type": "stream",
     "text": [
      "Epoch = 6. Time index = mean. Threshold MC = 0.7. Threshold MD = 0.6\n",
      "RD = 531 NZ = 880 NZA = 1189 pNZ = 0.099% pNZA = 0.134% AD = 60.34% ADA = 44.66% NO = 479 GSP = 61.80% NSP = 57.62%\n",
      "SI2 = 3.52 SI = -9.25 eGROI = 24.92% eROI = 12.80% eROI2 = 15.34% eROI3 = 10.55% mSpread = 0.0253%\n",
      "\n",
      "Getting extended results...\n"
     ]
    },
    {
     "name": "stderr",
     "output_type": "stream",
     "text": [
      "100%|███████████████████████████████████████████████████████████████████████████████████████████████████████████████████████████████| 1188/1188 [00:00<00:00, 3254.66it/s]\n"
     ]
    },
    {
     "name": "stdout",
     "output_type": "stream",
     "text": [
      "Epoch = 6. Time index = mean. Threshold MC = 0.7. Threshold MD = 0.6\n",
      "RD = 531 NZ = 880 NZA = 1189 pNZ = 0.099% pNZA = 0.134% AD = 60.34% ADA = 44.66% NO = 479 GSP = 61.80% NSP = 57.62%\n",
      "SI2 = 3.52 SI = -9.25 eGROI = 24.92% eROI = 12.80% eROI2 = 15.34% eROI3 = 10.55% mSpread = 0.0253%\n",
      "\n",
      "Getting extended results...\n"
     ]
    },
    {
     "name": "stderr",
     "output_type": "stream",
     "text": [
      "100%|███████████████████████████████████████████████████████████████████████████████████████████████████████████████████████████████| 1188/1188 [00:00<00:00, 3093.96it/s]\n"
     ]
    },
    {
     "name": "stdout",
     "output_type": "stream",
     "text": [
      "Epoch = 6. Time index = mean. Threshold MC = 0.7. Threshold MD = 0.6\n",
      "RD = 531 NZ = 880 NZA = 1189 pNZ = 0.099% pNZA = 0.134% AD = 60.34% ADA = 44.66% NO = 479 GSP = 61.80% NSP = 57.62%\n",
      "SI2 = 3.52 SI = -9.25 eGROI = 24.92% eROI = 12.80% eROI2 = 15.34% eROI3 = 10.55% mSpread = 0.0253%\n",
      "\n",
      "Getting extended results...\n"
     ]
    },
    {
     "name": "stderr",
     "output_type": "stream",
     "text": [
      "100%|███████████████████████████████████████████████████████████████████████████████████████████████████████████████████████████████| 1188/1188 [00:00<00:00, 3176.45it/s]\n"
     ]
    },
    {
     "name": "stdout",
     "output_type": "stream",
     "text": [
      "Epoch = 6. Time index = mean. Threshold MC = 0.7. Threshold MD = 0.6\n",
      "RD = 531 NZ = 880 NZA = 1189 pNZ = 0.099% pNZA = 0.134% AD = 60.34% ADA = 44.66% NO = 479 GSP = 61.80% NSP = 57.62%\n",
      "SI2 = 3.52 SI = -9.25 eGROI = 24.92% eROI = 12.80% eROI2 = 15.34% eROI3 = 10.55% mSpread = 0.0253%\n",
      "\n",
      "Getting extended results...\n"
     ]
    },
    {
     "name": "stderr",
     "output_type": "stream",
     "text": [
      "100%|███████████████████████████████████████████████████████████████████████████████████████████████████████████████████████████████| 1188/1188 [00:00<00:00, 3336.61it/s]\n"
     ]
    },
    {
     "name": "stdout",
     "output_type": "stream",
     "text": [
      "Epoch = 6. Time index = mean. Threshold MC = 0.7. Threshold MD = 0.6\n",
      "RD = 531 NZ = 880 NZA = 1189 pNZ = 0.099% pNZA = 0.134% AD = 60.34% ADA = 44.66% NO = 479 GSP = 61.80% NSP = 57.62%\n",
      "SI2 = 3.52 SI = -9.25 eGROI = 24.92% eROI = 12.80% eROI2 = 15.34% eROI3 = 10.55% mSpread = 0.0253%\n",
      "\n",
      "Getting extended results...\n"
     ]
    },
    {
     "name": "stderr",
     "output_type": "stream",
     "text": [
      "100%|███████████████████████████████████████████████████████████████████████████████████████████████████████████████████████████████| 1188/1188 [00:00<00:00, 2641.18it/s]\n"
     ]
    },
    {
     "name": "stdout",
     "output_type": "stream",
     "text": [
      "Epoch = 6. Time index = mean. Threshold MC = 0.7. Threshold MD = 0.6\n",
      "RD = 531 NZ = 880 NZA = 1189 pNZ = 0.099% pNZA = 0.134% AD = 60.34% ADA = 44.66% NO = 479 GSP = 61.80% NSP = 57.62%\n",
      "SI2 = 3.52 SI = -9.25 eGROI = 24.92% eROI = 12.80% eROI2 = 15.34% eROI3 = 10.55% mSpread = 0.0253%\n",
      "\n",
      "Getting extended results...\n"
     ]
    },
    {
     "name": "stderr",
     "output_type": "stream",
     "text": [
      "100%|███████████████████████████████████████████████████████████████████████████████████████████████████████████████████████████████| 1188/1188 [00:00<00:00, 3023.00it/s]\n"
     ]
    },
    {
     "name": "stdout",
     "output_type": "stream",
     "text": [
      "Epoch = 6. Time index = mean. Threshold MC = 0.7. Threshold MD = 0.6\n",
      "RD = 531 NZ = 880 NZA = 1189 pNZ = 0.099% pNZA = 0.134% AD = 60.34% ADA = 44.66% NO = 479 GSP = 61.80% NSP = 57.62%\n",
      "SI2 = 3.52 SI = -9.25 eGROI = 24.92% eROI = 12.80% eROI2 = 15.34% eROI3 = 10.55% mSpread = 0.0253%\n",
      "\n",
      "Getting extended results...\n"
     ]
    },
    {
     "name": "stderr",
     "output_type": "stream",
     "text": [
      "100%|███████████████████████████████████████████████████████████████████████████████████████████████████████████████████████████████| 1188/1188 [00:00<00:00, 3631.60it/s]\n"
     ]
    },
    {
     "name": "stdout",
     "output_type": "stream",
     "text": [
      "Epoch = 6. Time index = mean. Threshold MC = 0.7. Threshold MD = 0.6\n",
      "RD = 531 NZ = 880 NZA = 1189 pNZ = 0.099% pNZA = 0.134% AD = 60.34% ADA = 44.66% NO = 479 GSP = 61.80% NSP = 57.62%\n",
      "SI2 = 3.52 SI = -9.25 eGROI = 24.92% eROI = 12.80% eROI2 = 15.34% eROI3 = 10.55% mSpread = 0.0253%\n",
      "\n",
      "Getting extended results...\n"
     ]
    },
    {
     "name": "stderr",
     "output_type": "stream",
     "text": [
      "100%|███████████████████████████████████████████████████████████████████████████████████████████████████████████████████████████████| 1188/1188 [00:00<00:00, 3403.34it/s]\n"
     ]
    },
    {
     "name": "stdout",
     "output_type": "stream",
     "text": [
      "Epoch = 6. Time index = mean. Threshold MC = 0.7. Threshold MD = 0.6\n",
      "RD = 531 NZ = 880 NZA = 1189 pNZ = 0.099% pNZA = 0.134% AD = 60.34% ADA = 44.66% NO = 479 GSP = 61.80% NSP = 57.62%\n",
      "SI2 = 3.52 SI = -9.25 eGROI = 24.92% eROI = 12.80% eROI2 = 15.34% eROI3 = 10.55% mSpread = 0.0253%\n",
      "\n",
      "Best eGROI = 142.36 t_index 3 thr_mc 0.5 thr_md 0.6 epoch 6 in 8599 GSP 58.50 ADA 37.43 AD 57.29\n",
      "Best eROI = 24.02 t_index 2 thr_mc 0.8 thr_md 0.6 epoch 6 in 164 GSP 67.68 ADA 57.30 AD 70.10\n",
      "Best eROI.5 = 99.36 t_index 3 thr_mc 0.5 thr_md 0.6 epoch 6 in 8599 GSP 58.50 ADA 37.43 AD 57.29\n",
      "Best eROI1 = 56.57 t_index 2 thr_mc 0.5 thr_md 0.6 epoch 6 in 6759 GSP 58.93 ADA 37.95 AD 58.16\n",
      "Best eROI1.5 = 29.42 t_index 3 thr_mc 0.7 thr_md 0.6 epoch 6 in 1159 GSP 59.79 ADA 44.13 AD 59.48\n",
      "Best eROI2 = 25.91 t_index 3 thr_mc 0.8 thr_md 0.6 epoch 6 in 296 GSP 64.19 ADA 50.78 AD 63.27\n",
      "Best eROI3 = 23.58 t_index 2 thr_mc 0.8 thr_md 0.6 epoch 6 in 164 GSP 67.68 ADA 57.30 AD 70.10\n",
      "Best eROI4 = 21.94 t_index 2 thr_mc 0.8 thr_md 0.6 epoch 6 in 164 GSP 67.68 ADA 57.30 AD 70.10\n",
      "Best eROI5 = 20.30 t_index 2 thr_mc 0.8 thr_md 0.6 epoch 6 in 164 GSP 67.68 ADA 57.30 AD 70.10\n",
      "Best SI = 37.73 t_index 3 thr_mc 0.7 thr_md 0.6 epoch 6 in 1159 GSP 59.79 ADA 44.13 AD 59.48\n",
      "Best SI.5 = 337.53 t_index 3 thr_mc 0.5 thr_md 0.6 epoch 6 in 8599 GSP 58.50 ADA 37.43 AD 57.29\n",
      "Best SI1 = 191.18 t_index 2 thr_mc 0.6 thr_md 0.6 epoch 6 in 4394 GSP 59.92 ADA 40.43 AD 58.52\n",
      "Best SI1.5 = 124.18 t_index 2 thr_mc 0.6 thr_md 0.6 epoch 6 in 4394 GSP 59.92 ADA 40.43 AD 58.52\n",
      "Best SI2 = 40.18 t_index 2 thr_mc 0.6 thr_md 0.6 epoch 6 in 4394 GSP 59.92 ADA 40.43 AD 58.52\n",
      "Best SI3 = 17.08 t_index 2 thr_mc 0.8 thr_md 0.6 epoch 6 in 164 GSP 67.68 ADA 57.30 AD 70.10\n",
      "Best SI4 = 14.08 t_index 2 thr_mc 0.8 thr_md 0.6 epoch 6 in 164 GSP 67.68 ADA 57.30 AD 70.10\n",
      "Best SI5 = 9.08 t_index 2 thr_mc 0.8 thr_md 0.6 epoch 6 in 164 GSP 67.68 ADA 57.30 AD 70.10\n",
      "Best 99eGROI = 143.47 t_index 3 thr_mc 0.5 thr_md 0.6 epoch 6 in 8599 GSP 58.50 ADA 37.43 AD 57.29\n",
      "Best 99eROI = 30.06 t_index 2 thr_mc 0.8 thr_md 0.6 epoch 6 in 164 GSP 67.68 ADA 57.30 AD 70.10\n",
      "Best 99eROI.5 = 101.32 t_index 3 thr_mc 0.5 thr_md 0.6 epoch 6 in 8599 GSP 58.50 ADA 37.43 AD 57.29\n",
      "Best 99eROI1 = 59.18 t_index 3 thr_mc 0.5 thr_md 0.6 epoch 6 in 8599 GSP 58.50 ADA 37.43 AD 57.29\n",
      "Best 99eROI1.5 = 32.62 t_index 3 thr_mc 0.7 thr_md 0.6 epoch 6 in 1159 GSP 59.79 ADA 44.13 AD 59.48\n",
      "Best 99eROI2 = 31.16 t_index 2 thr_mc 0.8 thr_md 0.6 epoch 6 in 164 GSP 67.68 ADA 57.30 AD 70.10\n",
      "Best 99eROI3 = 29.54 t_index 2 thr_mc 0.8 thr_md 0.6 epoch 6 in 164 GSP 67.68 ADA 57.30 AD 70.10\n",
      "Best 99eROI4 = 27.92 t_index 2 thr_mc 0.8 thr_md 0.6 epoch 6 in 164 GSP 67.68 ADA 57.30 AD 70.10\n",
      "Best 99eROI5 = 26.30 t_index 2 thr_mc 0.8 thr_md 0.6 epoch 6 in 164 GSP 67.68 ADA 57.30 AD 70.10\n",
      "\n",
      "The very best:\n",
      "Best eGROI = 208.66 t_index 2 thr_mc 0.5 thr_md 0.6 epoch 13 in 12745 GSP 56.74 ADA 38.20 AD 55.17\n",
      "Best eROI = 79.35 t_index 0 thr_mc 0.7 thr_md 0.5 epoch 0 in 2226 GSP 57.01 ADA 45.10 AD 54.12\n",
      "Best eROI.5 = 170.60 t_index 1 thr_mc 0.7 thr_md 0.5 epoch 0 in 5217 GSP 57.14 ADA 41.43 AD 53.99\n",
      "Best eROI1 = 144.52 t_index 1 thr_mc 0.7 thr_md 0.5 epoch 0 in 5217 GSP 57.14 ADA 41.43 AD 53.99\n",
      "Best eROI1.5 = 118.43 t_index 1 thr_mc 0.7 thr_md 0.5 epoch 0 in 5217 GSP 57.14 ADA 41.43 AD 53.99\n",
      "Best eROI2 = 92.35 t_index 1 thr_mc 0.7 thr_md 0.5 epoch 0 in 5217 GSP 57.14 ADA 41.43 AD 53.99\n",
      "Best eROI3 = 64.46 t_index 0 thr_mc 0.7 thr_md 0.5 epoch 0 in 2226 GSP 57.01 ADA 45.10 AD 54.12\n",
      "Best eROI4 = 42.20 t_index 0 thr_mc 0.7 thr_md 0.5 epoch 0 in 2226 GSP 57.01 ADA 45.10 AD 54.12\n",
      "Best eROI5 = 27.62 t_index 3 thr_mc 0.9 thr_md 0.5 epoch 14 in 184 GSP 55.43 ADA 49.93 AD 55.90\n",
      "Best SI = 37.77 t_index 0 thr_mc 0.7 thr_md 0.6 epoch 9 in 891 GSP 61.05 ADA 46.19 AD 61.14\n",
      "Best SI.5 = 411.04 t_index 3 thr_mc 0.5 thr_md 0.6 epoch 8 in 10432 GSP 58.26 ADA 38.17 AD 56.26\n",
      "Best SI1 = 234.15 t_index 3 thr_mc 0.5 thr_md 0.6 epoch 9 in 11345 GSP 57.96 ADA 38.28 AD 55.82\n",
      "Best SI1.5 = 134.23 t_index 2 thr_mc 0.6 thr_md 0.6 epoch 7 in 5509 GSP 59.21 ADA 40.40 AD 57.89\n",
      "Best SI2 = 80.55 t_index 3 thr_mc 0.5 thr_md 0.7 epoch 14 in 3365 GSP 60.77 ADA 42.78 AD 57.60\n",
      "Best SI3 = 26.77 t_index 0 thr_mc 0.7 thr_md 0.6 epoch 9 in 891 GSP 61.05 ADA 46.19 AD 61.14\n",
      "Best SI4 = 15.49 t_index 3 thr_mc 0.8 thr_md 0.6 epoch 5 in 67 GSP 82.09 ADA 62.60 AD 81.91\n",
      "Best SI5 = 14.49 t_index 3 thr_mc 0.8 thr_md 0.6 epoch 5 in 67 GSP 82.09 ADA 62.60 AD 81.91\n",
      "Best 99eGROI = 199.25 t_index 3 thr_mc 0.5 thr_md 0.6 epoch 10 in 12161 GSP 57.14 ADA 38.16 AD 55.40\n",
      "Best 99eROI = 37.00 t_index 3 thr_mc 0.9 thr_md 0.5 epoch 14 in 184 GSP 55.43 ADA 49.93 AD 55.90\n",
      "Best 99eROI.5 = 139.65 t_index 3 thr_mc 0.5 thr_md 0.6 epoch 10 in 12161 GSP 57.14 ADA 38.16 AD 55.40\n",
      "Best 99eROI1 = 87.49 t_index 1 thr_mc 0.6 thr_md 0.6 epoch 11 in 7915 GSP 57.71 ADA 40.70 AD 56.52\n",
      "Best 99eROI1.5 = 64.81 t_index 3 thr_mc 0.5 thr_md 0.7 epoch 14 in 3365 GSP 60.77 ADA 42.78 AD 57.60\n",
      "Best 99eROI2 = 48.32 t_index 3 thr_mc 0.5 thr_md 0.7 epoch 14 in 3365 GSP 60.77 ADA 42.78 AD 57.60\n",
      "Best 99eROI3 = 36.83 t_index 3 thr_mc 0.9 thr_md 0.5 epoch 14 in 184 GSP 55.43 ADA 49.93 AD 55.90\n",
      "Best 99eROI4 = 35.01 t_index 3 thr_mc 0.9 thr_md 0.5 epoch 14 in 184 GSP 55.43 ADA 49.93 AD 55.90\n",
      "Best 99eROI5 = 33.19 t_index 3 thr_mc 0.9 thr_md 0.5 epoch 14 in 184 GSP 55.43 ADA 49.93 AD 55.90\n",
      "Time=33.64 secs\n",
      "INFO:tensorflow:Restoring parameters from C:/Users/mgutierrez/root/Projects/SDC/py/RNN/weights/WRNN01010k5K5A/000007/000007\n",
      "Parameters loaded. Epoch 7\n",
      "Epoch 7 of 14. Getting output...\n"
     ]
    },
    {
     "name": "stderr",
     "output_type": "stream",
     "text": [
      "100%|███████████████████████████████████████████████████████████████████████████████████████████████████████████████████████████████████| 870/870 [01:16<00:00, 11.33it/s]\n"
     ]
    },
    {
     "name": "stdout",
     "output_type": "stream",
     "text": [
      "J_test = 1.852225\n",
      "Epoch 7, J_train = 1.5639888641705249, J_test = 1.8522251895104331\n",
      "Getting extended results...\n"
     ]
    },
    {
     "name": "stderr",
     "output_type": "stream",
     "text": [
      "100%|█████████████████████████████████████████████████████████████████████████████████████████████████████████████████████████████████| 221/221 [00:00<00:00, 2839.29it/s]\n"
     ]
    },
    {
     "name": "stdout",
     "output_type": "stream",
     "text": [
      "Epoch = 7. Time index = 0. Threshold MC = 0.7. Threshold MD = 0.6\n",
      "RD = 109 NZ = 170 NZA = 222 pNZ = 0.019% pNZA = 0.025% AD = 64.12% ADA = 49.10% NO = 165 GSP = 63.64% NSP = 58.79%\n",
      "SI2 = 2.41 SI = -5.25 eGROI = 13.52% eROI = 9.34% eROI2 = 10.22% eROI3 = 8.57% mSpread = 0.0254%\n",
      "\n",
      "Getting extended results...\n"
     ]
    },
    {
     "name": "stderr",
     "output_type": "stream",
     "text": [
      "100%|███████████████████████████████████████████████████████████████████████████████████████████████████████████████████████████████| 3138/3138 [00:00<00:00, 4123.69it/s]\n"
     ]
    },
    {
     "name": "stdout",
     "output_type": "stream",
     "text": [
      "Epoch = 7. Time index = 1. Threshold MC = 0.7. Threshold MD = 0.6\n",
      "RD = 1400 NZ = 2381 NZA = 3139 pNZ = 0.267% pNZA = 0.352% AD = 58.80% ADA = 44.60% NO = 1092 GSP = 60.44% NSP = 56.41%\n",
      "SI2 = 4.36 SI = -14.39 eGROI = 40.82% eROI = 13.81% eROI2 = 18.98% eROI3 = 8.06% mSpread = 0.0247%\n",
      "\n",
      "Getting extended results...\n"
     ]
    },
    {
     "name": "stderr",
     "output_type": "stream",
     "text": [
      "100%|███████████████████████████████████████████████████████████████████████████████████████████████████████████████████████████████| 6690/6690 [00:01<00:00, 4730.50it/s]\n"
     ]
    },
    {
     "name": "stdout",
     "output_type": "stream",
     "text": [
      "Epoch = 7. Time index = 2. Threshold MC = 0.7. Threshold MD = 0.6\n",
      "RD = 2913 NZ = 5021 NZA = 6691 pNZ = 0.564% pNZA = 0.751% AD = 58.02% ADA = 43.54% NO = 1425 GSP = 58.60% NSP = 54.67%\n",
      "SI2 = 3.95 SI = -17.10 eGROI = 62.73% eROI = 27.77% eROI2 = 34.23% eROI3 = 19.98% mSpread = 0.0245%\n",
      "\n",
      "Getting extended results...\n"
     ]
    },
    {
     "name": "stderr",
     "output_type": "stream",
     "text": [
      "100%|█████████████████████████████████████████████████████████████████████████████████████████████████████████████████████████████| 10577/10577 [00:02<00:00, 4694.66it/s]\n"
     ]
    },
    {
     "name": "stdout",
     "output_type": "stream",
     "text": [
      "Epoch = 7. Time index = 3. Threshold MC = 0.7. Threshold MD = 0.6\n",
      "RD = 4570 NZ = 8020 NZA = 10578 pNZ = 0.901% pNZA = 1.188% AD = 56.98% ADA = 43.20% NO = 1676 GSP = 57.76% NSP = 53.64%\n",
      "SI2 = 3.03 SI = -18.97 eGROI = 49.74% eROI = 9.14% eROI2 = 16.22% eROI3 = -0.54% mSpread = 0.0242%\n",
      "\n",
      "Getting extended results...\n"
     ]
    },
    {
     "name": "stderr",
     "output_type": "stream",
     "text": [
      "100%|███████████████████████████████████████████████████████████████████████████████████████████████████████████████████████████████| 3013/3013 [00:00<00:00, 4321.96it/s]\n"
     ]
    },
    {
     "name": "stdout",
     "output_type": "stream",
     "text": [
      "Epoch = 7. Time index = mean. Threshold MC = 0.7. Threshold MD = 0.6\n",
      "RD = 1371 NZ = 2292 NZA = 3014 pNZ = 0.257% pNZA = 0.338% AD = 59.82% ADA = 45.49% NO = 902 GSP = 61.53% NSP = 55.99%\n",
      "SI2 = 4.06 SI = -13.20 eGROI = 46.58% eROI = 23.04% eROI2 = 28.54% eROI3 = 19.52% mSpread = 0.0261%\n",
      "\n",
      "Getting extended results...\n"
     ]
    },
    {
     "name": "stderr",
     "output_type": "stream",
     "text": [
      "100%|███████████████████████████████████████████████████████████████████████████████████████████████████████████████████████████████| 3013/3013 [00:00<00:00, 4353.08it/s]\n"
     ]
    },
    {
     "name": "stdout",
     "output_type": "stream",
     "text": [
      "Epoch = 7. Time index = mean. Threshold MC = 0.7. Threshold MD = 0.6\n",
      "RD = 1371 NZ = 2292 NZA = 3014 pNZ = 0.257% pNZA = 0.338% AD = 59.82% ADA = 45.49% NO = 902 GSP = 61.53% NSP = 55.99%\n",
      "SI2 = 4.06 SI = -13.20 eGROI = 46.58% eROI = 23.04% eROI2 = 28.54% eROI3 = 19.52% mSpread = 0.0261%\n",
      "\n",
      "Getting extended results...\n"
     ]
    },
    {
     "name": "stderr",
     "output_type": "stream",
     "text": [
      "100%|███████████████████████████████████████████████████████████████████████████████████████████████████████████████████████████████| 3013/3013 [00:00<00:00, 4502.29it/s]\n"
     ]
    },
    {
     "name": "stdout",
     "output_type": "stream",
     "text": [
      "Epoch = 7. Time index = mean. Threshold MC = 0.7. Threshold MD = 0.6\n",
      "RD = 1371 NZ = 2292 NZA = 3014 pNZ = 0.257% pNZA = 0.338% AD = 59.82% ADA = 45.49% NO = 902 GSP = 61.53% NSP = 55.99%\n",
      "SI2 = 4.06 SI = -13.20 eGROI = 46.58% eROI = 23.04% eROI2 = 28.54% eROI3 = 19.52% mSpread = 0.0261%\n",
      "\n",
      "Getting extended results...\n"
     ]
    },
    {
     "name": "stderr",
     "output_type": "stream",
     "text": [
      "100%|███████████████████████████████████████████████████████████████████████████████████████████████████████████████████████████████| 3013/3013 [00:00<00:00, 4121.49it/s]\n"
     ]
    },
    {
     "name": "stdout",
     "output_type": "stream",
     "text": [
      "Epoch = 7. Time index = mean. Threshold MC = 0.7. Threshold MD = 0.6\n",
      "RD = 1371 NZ = 2292 NZA = 3014 pNZ = 0.257% pNZA = 0.338% AD = 59.82% ADA = 45.49% NO = 902 GSP = 61.53% NSP = 55.99%\n",
      "SI2 = 4.06 SI = -13.20 eGROI = 46.58% eROI = 23.04% eROI2 = 28.54% eROI3 = 19.52% mSpread = 0.0261%\n",
      "\n",
      "Getting extended results...\n"
     ]
    },
    {
     "name": "stderr",
     "output_type": "stream",
     "text": [
      "100%|███████████████████████████████████████████████████████████████████████████████████████████████████████████████████████████████| 3013/3013 [00:00<00:00, 3290.89it/s]\n"
     ]
    },
    {
     "name": "stdout",
     "output_type": "stream",
     "text": [
      "Epoch = 7. Time index = mean. Threshold MC = 0.7. Threshold MD = 0.6\n",
      "RD = 1371 NZ = 2292 NZA = 3014 pNZ = 0.257% pNZA = 0.338% AD = 59.82% ADA = 45.49% NO = 902 GSP = 61.53% NSP = 55.99%\n",
      "SI2 = 4.06 SI = -13.20 eGROI = 46.58% eROI = 23.04% eROI2 = 28.54% eROI3 = 19.52% mSpread = 0.0261%\n",
      "\n",
      "Getting extended results...\n"
     ]
    },
    {
     "name": "stderr",
     "output_type": "stream",
     "text": [
      "100%|███████████████████████████████████████████████████████████████████████████████████████████████████████████████████████████████| 3013/3013 [00:01<00:00, 2797.28it/s]\n"
     ]
    },
    {
     "name": "stdout",
     "output_type": "stream",
     "text": [
      "Epoch = 7. Time index = mean. Threshold MC = 0.7. Threshold MD = 0.6\n",
      "RD = 1371 NZ = 2292 NZA = 3014 pNZ = 0.257% pNZA = 0.338% AD = 59.82% ADA = 45.49% NO = 902 GSP = 61.53% NSP = 55.99%\n",
      "SI2 = 4.06 SI = -13.20 eGROI = 46.58% eROI = 23.04% eROI2 = 28.54% eROI3 = 19.52% mSpread = 0.0261%\n",
      "\n",
      "Getting extended results...\n"
     ]
    },
    {
     "name": "stderr",
     "output_type": "stream",
     "text": [
      "100%|███████████████████████████████████████████████████████████████████████████████████████████████████████████████████████████████| 3013/3013 [00:00<00:00, 4195.89it/s]\n"
     ]
    },
    {
     "name": "stdout",
     "output_type": "stream",
     "text": [
      "Epoch = 7. Time index = mean. Threshold MC = 0.7. Threshold MD = 0.6\n",
      "RD = 1371 NZ = 2292 NZA = 3014 pNZ = 0.257% pNZA = 0.338% AD = 59.82% ADA = 45.49% NO = 902 GSP = 61.53% NSP = 55.99%\n",
      "SI2 = 4.06 SI = -13.20 eGROI = 46.58% eROI = 23.04% eROI2 = 28.54% eROI3 = 19.52% mSpread = 0.0261%\n",
      "\n",
      "Getting extended results...\n"
     ]
    },
    {
     "name": "stderr",
     "output_type": "stream",
     "text": [
      "100%|███████████████████████████████████████████████████████████████████████████████████████████████████████████████████████████████| 3013/3013 [00:00<00:00, 4647.59it/s]\n"
     ]
    },
    {
     "name": "stdout",
     "output_type": "stream",
     "text": [
      "Epoch = 7. Time index = mean. Threshold MC = 0.7. Threshold MD = 0.6\n",
      "RD = 1371 NZ = 2292 NZA = 3014 pNZ = 0.257% pNZA = 0.338% AD = 59.82% ADA = 45.49% NO = 902 GSP = 61.53% NSP = 55.99%\n",
      "SI2 = 4.06 SI = -13.20 eGROI = 46.58% eROI = 23.04% eROI2 = 28.54% eROI3 = 19.52% mSpread = 0.0261%\n",
      "\n",
      "Getting extended results...\n"
     ]
    },
    {
     "name": "stderr",
     "output_type": "stream",
     "text": [
      "100%|███████████████████████████████████████████████████████████████████████████████████████████████████████████████████████████████| 3013/3013 [00:00<00:00, 4372.34it/s]\n"
     ]
    },
    {
     "name": "stdout",
     "output_type": "stream",
     "text": [
      "Epoch = 7. Time index = mean. Threshold MC = 0.7. Threshold MD = 0.6\n",
      "RD = 1371 NZ = 2292 NZA = 3014 pNZ = 0.257% pNZA = 0.338% AD = 59.82% ADA = 45.49% NO = 902 GSP = 61.53% NSP = 55.99%\n",
      "SI2 = 4.06 SI = -13.20 eGROI = 46.58% eROI = 23.04% eROI2 = 28.54% eROI3 = 19.52% mSpread = 0.0261%\n",
      "\n",
      "Getting extended results...\n"
     ]
    },
    {
     "name": "stderr",
     "output_type": "stream",
     "text": [
      "100%|███████████████████████████████████████████████████████████████████████████████████████████████████████████████████████████████| 3013/3013 [00:00<00:00, 3888.13it/s]\n"
     ]
    },
    {
     "name": "stdout",
     "output_type": "stream",
     "text": [
      "Epoch = 7. Time index = mean. Threshold MC = 0.7. Threshold MD = 0.6\n",
      "RD = 1371 NZ = 2292 NZA = 3014 pNZ = 0.257% pNZA = 0.338% AD = 59.82% ADA = 45.49% NO = 902 GSP = 61.53% NSP = 55.99%\n",
      "SI2 = 4.06 SI = -13.20 eGROI = 46.58% eROI = 23.04% eROI2 = 28.54% eROI3 = 19.52% mSpread = 0.0261%\n",
      "\n",
      "Getting extended results...\n"
     ]
    },
    {
     "name": "stderr",
     "output_type": "stream",
     "text": [
      "100%|███████████████████████████████████████████████████████████████████████████████████████████████████████████████████████████████| 3013/3013 [00:00<00:00, 4251.17it/s]\n"
     ]
    },
    {
     "name": "stdout",
     "output_type": "stream",
     "text": [
      "Epoch = 7. Time index = mean. Threshold MC = 0.7. Threshold MD = 0.6\n",
      "RD = 1371 NZ = 2292 NZA = 3014 pNZ = 0.257% pNZA = 0.338% AD = 59.82% ADA = 45.49% NO = 902 GSP = 61.53% NSP = 55.99%\n",
      "SI2 = 4.06 SI = -13.20 eGROI = 46.58% eROI = 23.04% eROI2 = 28.54% eROI3 = 19.52% mSpread = 0.0261%\n",
      "\n",
      "Getting extended results...\n"
     ]
    },
    {
     "name": "stderr",
     "output_type": "stream",
     "text": [
      "100%|███████████████████████████████████████████████████████████████████████████████████████████████████████████████████████████████| 3013/3013 [00:00<00:00, 4397.45it/s]\n"
     ]
    },
    {
     "name": "stdout",
     "output_type": "stream",
     "text": [
      "Epoch = 7. Time index = mean. Threshold MC = 0.7. Threshold MD = 0.6\n",
      "RD = 1371 NZ = 2292 NZA = 3014 pNZ = 0.257% pNZA = 0.338% AD = 59.82% ADA = 45.49% NO = 902 GSP = 61.53% NSP = 55.99%\n",
      "SI2 = 4.06 SI = -13.20 eGROI = 46.58% eROI = 23.04% eROI2 = 28.54% eROI3 = 19.52% mSpread = 0.0261%\n",
      "\n",
      "Getting extended results...\n"
     ]
    },
    {
     "name": "stderr",
     "output_type": "stream",
     "text": [
      "100%|███████████████████████████████████████████████████████████████████████████████████████████████████████████████████████████████| 3013/3013 [00:00<00:00, 3345.56it/s]\n"
     ]
    },
    {
     "name": "stdout",
     "output_type": "stream",
     "text": [
      "Epoch = 7. Time index = mean. Threshold MC = 0.7. Threshold MD = 0.6\n",
      "RD = 1371 NZ = 2292 NZA = 3014 pNZ = 0.257% pNZA = 0.338% AD = 59.82% ADA = 45.49% NO = 902 GSP = 61.53% NSP = 55.99%\n",
      "SI2 = 4.06 SI = -13.20 eGROI = 46.58% eROI = 23.04% eROI2 = 28.54% eROI3 = 19.52% mSpread = 0.0261%\n",
      "\n",
      "Getting extended results...\n"
     ]
    },
    {
     "name": "stderr",
     "output_type": "stream",
     "text": [
      "100%|███████████████████████████████████████████████████████████████████████████████████████████████████████████████████████████████| 3013/3013 [00:00<00:00, 3938.78it/s]\n"
     ]
    },
    {
     "name": "stdout",
     "output_type": "stream",
     "text": [
      "Epoch = 7. Time index = mean. Threshold MC = 0.7. Threshold MD = 0.6\n",
      "RD = 1371 NZ = 2292 NZA = 3014 pNZ = 0.257% pNZA = 0.338% AD = 59.82% ADA = 45.49% NO = 902 GSP = 61.53% NSP = 55.99%\n",
      "SI2 = 4.06 SI = -13.20 eGROI = 46.58% eROI = 23.04% eROI2 = 28.54% eROI3 = 19.52% mSpread = 0.0261%\n",
      "\n",
      "Getting extended results...\n"
     ]
    },
    {
     "name": "stderr",
     "output_type": "stream",
     "text": [
      "100%|███████████████████████████████████████████████████████████████████████████████████████████████████████████████████████████████| 3013/3013 [00:00<00:00, 3918.35it/s]\n"
     ]
    },
    {
     "name": "stdout",
     "output_type": "stream",
     "text": [
      "Epoch = 7. Time index = mean. Threshold MC = 0.7. Threshold MD = 0.6\n",
      "RD = 1371 NZ = 2292 NZA = 3014 pNZ = 0.257% pNZA = 0.338% AD = 59.82% ADA = 45.49% NO = 902 GSP = 61.53% NSP = 55.99%\n",
      "SI2 = 4.06 SI = -13.20 eGROI = 46.58% eROI = 23.04% eROI2 = 28.54% eROI3 = 19.52% mSpread = 0.0261%\n",
      "\n",
      "Getting extended results...\n"
     ]
    },
    {
     "name": "stderr",
     "output_type": "stream",
     "text": [
      "100%|███████████████████████████████████████████████████████████████████████████████████████████████████████████████████████████████| 3013/3013 [00:00<00:00, 4071.28it/s]\n"
     ]
    },
    {
     "name": "stdout",
     "output_type": "stream",
     "text": [
      "Epoch = 7. Time index = mean. Threshold MC = 0.7. Threshold MD = 0.6\n",
      "RD = 1371 NZ = 2292 NZA = 3014 pNZ = 0.257% pNZA = 0.338% AD = 59.82% ADA = 45.49% NO = 902 GSP = 61.53% NSP = 55.99%\n",
      "SI2 = 4.06 SI = -13.20 eGROI = 46.58% eROI = 23.04% eROI2 = 28.54% eROI3 = 19.52% mSpread = 0.0261%\n",
      "\n",
      "Getting extended results...\n"
     ]
    },
    {
     "name": "stderr",
     "output_type": "stream",
     "text": [
      "100%|███████████████████████████████████████████████████████████████████████████████████████████████████████████████████████████████| 3013/3013 [00:00<00:00, 4391.05it/s]\n"
     ]
    },
    {
     "name": "stdout",
     "output_type": "stream",
     "text": [
      "Epoch = 7. Time index = mean. Threshold MC = 0.7. Threshold MD = 0.6\n",
      "RD = 1371 NZ = 2292 NZA = 3014 pNZ = 0.257% pNZA = 0.338% AD = 59.82% ADA = 45.49% NO = 902 GSP = 61.53% NSP = 55.99%\n",
      "SI2 = 4.06 SI = -13.20 eGROI = 46.58% eROI = 23.04% eROI2 = 28.54% eROI3 = 19.52% mSpread = 0.0261%\n",
      "\n",
      "Getting extended results...\n"
     ]
    },
    {
     "name": "stderr",
     "output_type": "stream",
     "text": [
      "100%|███████████████████████████████████████████████████████████████████████████████████████████████████████████████████████████████| 3013/3013 [00:00<00:00, 4144.10it/s]\n"
     ]
    },
    {
     "name": "stdout",
     "output_type": "stream",
     "text": [
      "Epoch = 7. Time index = mean. Threshold MC = 0.7. Threshold MD = 0.6\n",
      "RD = 1371 NZ = 2292 NZA = 3014 pNZ = 0.257% pNZA = 0.338% AD = 59.82% ADA = 45.49% NO = 902 GSP = 61.53% NSP = 55.99%\n",
      "SI2 = 4.06 SI = -13.20 eGROI = 46.58% eROI = 23.04% eROI2 = 28.54% eROI3 = 19.52% mSpread = 0.0261%\n",
      "\n",
      "Getting extended results...\n"
     ]
    },
    {
     "name": "stderr",
     "output_type": "stream",
     "text": [
      "100%|███████████████████████████████████████████████████████████████████████████████████████████████████████████████████████████████| 3013/3013 [00:00<00:00, 3838.68it/s]\n"
     ]
    },
    {
     "name": "stdout",
     "output_type": "stream",
     "text": [
      "Epoch = 7. Time index = mean. Threshold MC = 0.7. Threshold MD = 0.6\n",
      "RD = 1371 NZ = 2292 NZA = 3014 pNZ = 0.257% pNZA = 0.338% AD = 59.82% ADA = 45.49% NO = 902 GSP = 61.53% NSP = 55.99%\n",
      "SI2 = 4.06 SI = -13.20 eGROI = 46.58% eROI = 23.04% eROI2 = 28.54% eROI3 = 19.52% mSpread = 0.0261%\n",
      "\n",
      "Getting extended results...\n"
     ]
    },
    {
     "name": "stderr",
     "output_type": "stream",
     "text": [
      "100%|███████████████████████████████████████████████████████████████████████████████████████████████████████████████████████████████| 3013/3013 [00:00<00:00, 3913.26it/s]\n"
     ]
    },
    {
     "name": "stdout",
     "output_type": "stream",
     "text": [
      "Epoch = 7. Time index = mean. Threshold MC = 0.7. Threshold MD = 0.6\n",
      "RD = 1371 NZ = 2292 NZA = 3014 pNZ = 0.257% pNZA = 0.338% AD = 59.82% ADA = 45.49% NO = 902 GSP = 61.53% NSP = 55.99%\n",
      "SI2 = 4.06 SI = -13.20 eGROI = 46.58% eROI = 23.04% eROI2 = 28.54% eROI3 = 19.52% mSpread = 0.0261%\n",
      "\n",
      "Getting extended results...\n"
     ]
    },
    {
     "name": "stderr",
     "output_type": "stream",
     "text": [
      "100%|███████████████████████████████████████████████████████████████████████████████████████████████████████████████████████████████| 3013/3013 [00:00<00:00, 4017.34it/s]\n"
     ]
    },
    {
     "name": "stdout",
     "output_type": "stream",
     "text": [
      "Epoch = 7. Time index = mean. Threshold MC = 0.7. Threshold MD = 0.6\n",
      "RD = 1371 NZ = 2292 NZA = 3014 pNZ = 0.257% pNZA = 0.338% AD = 59.82% ADA = 45.49% NO = 902 GSP = 61.53% NSP = 55.99%\n",
      "SI2 = 4.06 SI = -13.20 eGROI = 46.58% eROI = 23.04% eROI2 = 28.54% eROI3 = 19.52% mSpread = 0.0261%\n",
      "\n",
      "Getting extended results...\n"
     ]
    },
    {
     "name": "stderr",
     "output_type": "stream",
     "text": [
      "100%|███████████████████████████████████████████████████████████████████████████████████████████████████████████████████████████████| 3013/3013 [00:01<00:00, 2904.84it/s]\n"
     ]
    },
    {
     "name": "stdout",
     "output_type": "stream",
     "text": [
      "Epoch = 7. Time index = mean. Threshold MC = 0.7. Threshold MD = 0.6\n",
      "RD = 1371 NZ = 2292 NZA = 3014 pNZ = 0.257% pNZA = 0.338% AD = 59.82% ADA = 45.49% NO = 902 GSP = 61.53% NSP = 55.99%\n",
      "SI2 = 4.06 SI = -13.20 eGROI = 46.58% eROI = 23.04% eROI2 = 28.54% eROI3 = 19.52% mSpread = 0.0261%\n",
      "\n",
      "Getting extended results...\n"
     ]
    },
    {
     "name": "stderr",
     "output_type": "stream",
     "text": [
      "100%|███████████████████████████████████████████████████████████████████████████████████████████████████████████████████████████████| 3013/3013 [00:00<00:00, 4683.85it/s]\n"
     ]
    },
    {
     "name": "stdout",
     "output_type": "stream",
     "text": [
      "Epoch = 7. Time index = mean. Threshold MC = 0.7. Threshold MD = 0.6\n",
      "RD = 1371 NZ = 2292 NZA = 3014 pNZ = 0.257% pNZA = 0.338% AD = 59.82% ADA = 45.49% NO = 902 GSP = 61.53% NSP = 55.99%\n",
      "SI2 = 4.06 SI = -13.20 eGROI = 46.58% eROI = 23.04% eROI2 = 28.54% eROI3 = 19.52% mSpread = 0.0261%\n",
      "\n",
      "Best eGROI = 158.92 t_index 2 thr_mc 0.5 thr_md 0.6 epoch 7 in 8039 GSP 58.71 ADA 38.32 AD 57.81\n",
      "Best eROI = 28.67 t_index 2 thr_mc 0.8 thr_md 0.6 epoch 7 in 358 GSP 57.54 ADA 47.11 AD 58.44\n",
      "Best eROI.5 = 118.73 t_index 2 thr_mc 0.5 thr_md 0.6 epoch 7 in 8039 GSP 58.71 ADA 38.32 AD 57.81\n",
      "Best eROI1 = 78.53 t_index 2 thr_mc 0.5 thr_md 0.6 epoch 7 in 8039 GSP 58.71 ADA 38.32 AD 57.81\n",
      "Best eROI1.5 = 41.36 t_index 2 thr_mc 0.7 thr_md 0.6 epoch 7 in 1425 GSP 58.60 ADA 43.54 AD 58.02\n",
      "Best eROI2 = 34.23 t_index 2 thr_mc 0.7 thr_md 0.6 epoch 7 in 1425 GSP 58.60 ADA 43.54 AD 58.02\n",
      "Best eROI3 = 27.50 t_index 2 thr_mc 0.8 thr_md 0.6 epoch 7 in 358 GSP 57.54 ADA 47.11 AD 58.44\n",
      "Best eROI4 = 23.92 t_index 2 thr_mc 0.8 thr_md 0.6 epoch 7 in 358 GSP 57.54 ADA 47.11 AD 58.44\n",
      "Best eROI5 = 20.34 t_index 2 thr_mc 0.8 thr_md 0.6 epoch 7 in 358 GSP 57.54 ADA 47.11 AD 58.44\n",
      "Best SI = 37.24 t_index 1 thr_mc 0.7 thr_md 0.6 epoch 7 in 1092 GSP 60.44 ADA 44.60 AD 58.80\n",
      "Best SI.5 = 362.38 t_index 3 thr_mc 0.5 thr_md 0.6 epoch 7 in 9554 GSP 58.29 ADA 37.90 AD 56.69\n",
      "Best SI1 = 214.33 t_index 2 thr_mc 0.5 thr_md 0.6 epoch 7 in 8039 GSP 58.71 ADA 38.32 AD 57.81\n",
      "Best SI1.5 = 134.23 t_index 2 thr_mc 0.6 thr_md 0.6 epoch 7 in 5509 GSP 59.21 ADA 40.40 AD 57.89\n",
      "Best SI2 = 59.70 t_index 1 thr_mc 0.6 thr_md 0.6 epoch 7 in 3610 GSP 60.30 ADA 42.07 AD 58.96\n",
      "Best SI3 = 15.24 t_index 1 thr_mc 0.7 thr_md 0.6 epoch 7 in 1092 GSP 60.44 ADA 44.60 AD 58.80\n",
      "Best SI4 = 5.49 t_index 1 thr_mc 0.8 thr_md 0.6 epoch 7 in 267 GSP 61.80 ADA 51.28 AD 62.87\n",
      "Best SI5 = 0.76 t_index 2 thr_mc 0.6 thr_md 0.7 epoch 7 in 8 GSP 75.00 ADA 75.00 AD 100.00\n",
      "Best 99eGROI = 155.82 t_index 2 thr_mc 0.5 thr_md 0.6 epoch 7 in 8039 GSP 58.71 ADA 38.32 AD 57.81\n",
      "Best 99eROI = 29.35 t_index 2 thr_mc 0.8 thr_md 0.6 epoch 7 in 358 GSP 57.54 ADA 47.11 AD 58.44\n",
      "Best 99eROI.5 = 116.43 t_index 2 thr_mc 0.5 thr_md 0.6 epoch 7 in 8039 GSP 58.71 ADA 38.32 AD 57.81\n",
      "Best 99eROI1 = 77.03 t_index 2 thr_mc 0.5 thr_md 0.6 epoch 7 in 8039 GSP 58.71 ADA 38.32 AD 57.81\n",
      "Best 99eROI1.5 = 37.64 t_index 2 thr_mc 0.5 thr_md 0.6 epoch 7 in 8039 GSP 58.71 ADA 38.32 AD 57.81\n",
      "Best 99eROI2 = 31.66 t_index 2 thr_mc 0.8 thr_md 0.6 epoch 7 in 358 GSP 57.54 ADA 47.11 AD 58.44\n",
      "Best 99eROI3 = 28.14 t_index 2 thr_mc 0.8 thr_md 0.6 epoch 7 in 358 GSP 57.54 ADA 47.11 AD 58.44\n",
      "Best 99eROI4 = 24.62 t_index 2 thr_mc 0.8 thr_md 0.6 epoch 7 in 358 GSP 57.54 ADA 47.11 AD 58.44\n",
      "Best 99eROI5 = 21.10 t_index 2 thr_mc 0.8 thr_md 0.6 epoch 7 in 358 GSP 57.54 ADA 47.11 AD 58.44\n",
      "\n",
      "The very best:\n",
      "Best eGROI = 208.66 t_index 2 thr_mc 0.5 thr_md 0.6 epoch 13 in 12745 GSP 56.74 ADA 38.20 AD 55.17\n",
      "Best eROI = 79.35 t_index 0 thr_mc 0.7 thr_md 0.5 epoch 0 in 2226 GSP 57.01 ADA 45.10 AD 54.12\n",
      "Best eROI.5 = 170.60 t_index 1 thr_mc 0.7 thr_md 0.5 epoch 0 in 5217 GSP 57.14 ADA 41.43 AD 53.99\n",
      "Best eROI1 = 144.52 t_index 1 thr_mc 0.7 thr_md 0.5 epoch 0 in 5217 GSP 57.14 ADA 41.43 AD 53.99\n",
      "Best eROI1.5 = 118.43 t_index 1 thr_mc 0.7 thr_md 0.5 epoch 0 in 5217 GSP 57.14 ADA 41.43 AD 53.99\n",
      "Best eROI2 = 92.35 t_index 1 thr_mc 0.7 thr_md 0.5 epoch 0 in 5217 GSP 57.14 ADA 41.43 AD 53.99\n",
      "Best eROI3 = 64.46 t_index 0 thr_mc 0.7 thr_md 0.5 epoch 0 in 2226 GSP 57.01 ADA 45.10 AD 54.12\n",
      "Best eROI4 = 42.20 t_index 0 thr_mc 0.7 thr_md 0.5 epoch 0 in 2226 GSP 57.01 ADA 45.10 AD 54.12\n",
      "Best eROI5 = 27.62 t_index 3 thr_mc 0.9 thr_md 0.5 epoch 14 in 184 GSP 55.43 ADA 49.93 AD 55.90\n",
      "Best SI = 37.77 t_index 0 thr_mc 0.7 thr_md 0.6 epoch 9 in 891 GSP 61.05 ADA 46.19 AD 61.14\n",
      "Best SI.5 = 411.04 t_index 3 thr_mc 0.5 thr_md 0.6 epoch 8 in 10432 GSP 58.26 ADA 38.17 AD 56.26\n",
      "Best SI1 = 234.15 t_index 3 thr_mc 0.5 thr_md 0.6 epoch 9 in 11345 GSP 57.96 ADA 38.28 AD 55.82\n",
      "Best SI1.5 = 134.23 t_index 2 thr_mc 0.6 thr_md 0.6 epoch 7 in 5509 GSP 59.21 ADA 40.40 AD 57.89\n",
      "Best SI2 = 80.55 t_index 3 thr_mc 0.5 thr_md 0.7 epoch 14 in 3365 GSP 60.77 ADA 42.78 AD 57.60\n",
      "Best SI3 = 26.77 t_index 0 thr_mc 0.7 thr_md 0.6 epoch 9 in 891 GSP 61.05 ADA 46.19 AD 61.14\n",
      "Best SI4 = 15.49 t_index 3 thr_mc 0.8 thr_md 0.6 epoch 5 in 67 GSP 82.09 ADA 62.60 AD 81.91\n",
      "Best SI5 = 14.49 t_index 3 thr_mc 0.8 thr_md 0.6 epoch 5 in 67 GSP 82.09 ADA 62.60 AD 81.91\n",
      "Best 99eGROI = 199.25 t_index 3 thr_mc 0.5 thr_md 0.6 epoch 10 in 12161 GSP 57.14 ADA 38.16 AD 55.40\n",
      "Best 99eROI = 37.00 t_index 3 thr_mc 0.9 thr_md 0.5 epoch 14 in 184 GSP 55.43 ADA 49.93 AD 55.90\n",
      "Best 99eROI.5 = 139.65 t_index 3 thr_mc 0.5 thr_md 0.6 epoch 10 in 12161 GSP 57.14 ADA 38.16 AD 55.40\n",
      "Best 99eROI1 = 87.49 t_index 1 thr_mc 0.6 thr_md 0.6 epoch 11 in 7915 GSP 57.71 ADA 40.70 AD 56.52\n",
      "Best 99eROI1.5 = 64.81 t_index 3 thr_mc 0.5 thr_md 0.7 epoch 14 in 3365 GSP 60.77 ADA 42.78 AD 57.60\n",
      "Best 99eROI2 = 48.32 t_index 3 thr_mc 0.5 thr_md 0.7 epoch 14 in 3365 GSP 60.77 ADA 42.78 AD 57.60\n",
      "Best 99eROI3 = 36.83 t_index 3 thr_mc 0.9 thr_md 0.5 epoch 14 in 184 GSP 55.43 ADA 49.93 AD 55.90\n",
      "Best 99eROI4 = 35.01 t_index 3 thr_mc 0.9 thr_md 0.5 epoch 14 in 184 GSP 55.43 ADA 49.93 AD 55.90\n",
      "Best 99eROI5 = 33.19 t_index 3 thr_mc 0.9 thr_md 0.5 epoch 14 in 184 GSP 55.43 ADA 49.93 AD 55.90\n",
      "Time=44.06 secs\n",
      "INFO:tensorflow:Restoring parameters from C:/Users/mgutierrez/root/Projects/SDC/py/RNN/weights/WRNN01010k5K5A/000008/000008\n",
      "Parameters loaded. Epoch 8\n",
      "Epoch 8 of 14. Getting output...\n"
     ]
    },
    {
     "name": "stderr",
     "output_type": "stream",
     "text": [
      "100%|███████████████████████████████████████████████████████████████████████████████████████████████████████████████████████████████████| 870/870 [01:17<00:00, 11.20it/s]\n"
     ]
    },
    {
     "name": "stdout",
     "output_type": "stream",
     "text": [
      "J_test = 1.852468\n",
      "Epoch 8, J_train = 1.5633785566099077, J_test = 1.8524683164454054\n",
      "Getting extended results...\n"
     ]
    },
    {
     "name": "stderr",
     "output_type": "stream",
     "text": [
      "100%|█████████████████████████████████████████████████████████████████████████████████████████████████████████████████████████████████| 902/902 [00:00<00:00, 3400.25it/s]\n"
     ]
    },
    {
     "name": "stdout",
     "output_type": "stream",
     "text": [
      "Epoch = 8. Time index = 0. Threshold MC = 0.7. Threshold MD = 0.6\n",
      "RD = 398 NZ = 669 NZA = 903 pNZ = 0.075% pNZA = 0.101% AD = 59.49% ADA = 44.08% NO = 471 GSP = 59.24% NSP = 53.72%\n",
      "SI2 = 1.80 SI = -10.02 eGROI = 13.57% eROI = 0.93% eROI2 = 4.15% eROI3 = -0.56% mSpread = 0.0268%\n",
      "\n",
      "Getting extended results...\n"
     ]
    },
    {
     "name": "stderr",
     "output_type": "stream",
     "text": [
      "100%|███████████████████████████████████████████████████████████████████████████████████████████████████████████████████████████████| 6597/6597 [00:01<00:00, 4631.30it/s]\n"
     ]
    },
    {
     "name": "stdout",
     "output_type": "stream",
     "text": [
      "Epoch = 8. Time index = 1. Threshold MC = 0.7. Threshold MD = 0.6\n",
      "RD = 2941 NZ = 5013 NZA = 6598 pNZ = 0.563% pNZA = 0.741% AD = 58.67% ADA = 44.57% NO = 1527 GSP = 59.20% NSP = 54.29%\n",
      "SI2 = 3.56 SI = -17.85 eGROI = 48.45% eROI = 11.30% eROI2 = 17.91% eROI3 = 2.64% mSpread = 0.0243%\n",
      "\n",
      "Getting extended results...\n"
     ]
    },
    {
     "name": "stderr",
     "output_type": "stream",
     "text": [
      "100%|█████████████████████████████████████████████████████████████████████████████████████████████████████████████████████████████| 11567/11567 [00:02<00:00, 5134.08it/s]\n"
     ]
    },
    {
     "name": "stdout",
     "output_type": "stream",
     "text": [
      "Epoch = 8. Time index = 2. Threshold MC = 0.7. Threshold MD = 0.6\n",
      "RD = 5021 NZ = 8827 NZA = 11568 pNZ = 0.991% pNZA = 1.299% AD = 56.88% ADA = 43.40% NO = 1880 GSP = 57.39% NSP = 52.71%\n",
      "SI2 = 3.04 SI = -20.49 eGROI = 57.53% eROI = 12.32% eROI2 = 19.93% eROI3 = 1.13% mSpread = 0.0240%\n",
      "\n",
      "Getting extended results...\n"
     ]
    },
    {
     "name": "stderr",
     "output_type": "stream",
     "text": [
      "100%|█████████████████████████████████████████████████████████████████████████████████████████████████████████████████████████████| 15753/15753 [00:03<00:00, 4540.06it/s]\n"
     ]
    },
    {
     "name": "stdout",
     "output_type": "stream",
     "text": [
      "Epoch = 8. Time index = 3. Threshold MC = 0.7. Threshold MD = 0.6\n",
      "RD = 6731 NZ = 12045 NZA = 15754 pNZ = 1.352% pNZA = 1.769% AD = 55.88% ADA = 42.73% NO = 2260 GSP = 56.73% NSP = 52.04%\n",
      "SI2 = 3.03 SI = -22.79 eGROI = 50.62% eROI = -4.67% eROI2 = 5.42% eROI3 = -17.18% mSpread = 0.0245%\n",
      "\n",
      "Getting extended results...\n"
     ]
    },
    {
     "name": "stderr",
     "output_type": "stream",
     "text": [
      "100%|███████████████████████████████████████████████████████████████████████████████████████████████████████████████████████████████| 6768/6768 [00:01<00:00, 4964.07it/s]\n"
     ]
    },
    {
     "name": "stdout",
     "output_type": "stream",
     "text": [
      "Epoch = 8. Time index = mean. Threshold MC = 0.7. Threshold MD = 0.6\n",
      "RD = 3031 NZ = 5178 NZA = 6769 pNZ = 0.581% pNZA = 0.760% AD = 58.54% ADA = 44.78% NO = 1297 GSP = 59.83% NSP = 55.20%\n",
      "SI2 = 4.19 SI = -16.12 eGROI = 56.11% eROI = 23.77% eROI2 = 30.17% eROI3 = 17.20% mSpread = 0.0249%\n",
      "\n",
      "Getting extended results...\n"
     ]
    },
    {
     "name": "stderr",
     "output_type": "stream",
     "text": [
      "100%|███████████████████████████████████████████████████████████████████████████████████████████████████████████████████████████████| 6768/6768 [00:01<00:00, 4585.21it/s]\n"
     ]
    },
    {
     "name": "stdout",
     "output_type": "stream",
     "text": [
      "Epoch = 8. Time index = mean. Threshold MC = 0.7. Threshold MD = 0.6\n",
      "RD = 3031 NZ = 5178 NZA = 6769 pNZ = 0.581% pNZA = 0.760% AD = 58.54% ADA = 44.78% NO = 1297 GSP = 59.83% NSP = 55.20%\n",
      "SI2 = 4.19 SI = -16.12 eGROI = 56.11% eROI = 23.77% eROI2 = 30.17% eROI3 = 17.20% mSpread = 0.0249%\n",
      "\n",
      "Getting extended results...\n"
     ]
    },
    {
     "name": "stderr",
     "output_type": "stream",
     "text": [
      "100%|███████████████████████████████████████████████████████████████████████████████████████████████████████████████████████████████| 6768/6768 [00:01<00:00, 4738.73it/s]\n"
     ]
    },
    {
     "name": "stdout",
     "output_type": "stream",
     "text": [
      "Epoch = 8. Time index = mean. Threshold MC = 0.7. Threshold MD = 0.6\n",
      "RD = 3031 NZ = 5178 NZA = 6769 pNZ = 0.581% pNZA = 0.760% AD = 58.54% ADA = 44.78% NO = 1297 GSP = 59.83% NSP = 55.20%\n",
      "SI2 = 4.19 SI = -16.12 eGROI = 56.11% eROI = 23.77% eROI2 = 30.17% eROI3 = 17.20% mSpread = 0.0249%\n",
      "\n",
      "Getting extended results...\n"
     ]
    },
    {
     "name": "stderr",
     "output_type": "stream",
     "text": [
      "100%|███████████████████████████████████████████████████████████████████████████████████████████████████████████████████████████████| 6768/6768 [00:01<00:00, 4494.09it/s]\n"
     ]
    },
    {
     "name": "stdout",
     "output_type": "stream",
     "text": [
      "Epoch = 8. Time index = mean. Threshold MC = 0.7. Threshold MD = 0.6\n",
      "RD = 3031 NZ = 5178 NZA = 6769 pNZ = 0.581% pNZA = 0.760% AD = 58.54% ADA = 44.78% NO = 1297 GSP = 59.83% NSP = 55.20%\n",
      "SI2 = 4.19 SI = -16.12 eGROI = 56.11% eROI = 23.77% eROI2 = 30.17% eROI3 = 17.20% mSpread = 0.0249%\n",
      "\n",
      "Getting extended results...\n"
     ]
    },
    {
     "name": "stderr",
     "output_type": "stream",
     "text": [
      "100%|███████████████████████████████████████████████████████████████████████████████████████████████████████████████████████████████| 6768/6768 [00:01<00:00, 4635.29it/s]\n"
     ]
    },
    {
     "name": "stdout",
     "output_type": "stream",
     "text": [
      "Epoch = 8. Time index = mean. Threshold MC = 0.7. Threshold MD = 0.6\n",
      "RD = 3031 NZ = 5178 NZA = 6769 pNZ = 0.581% pNZA = 0.760% AD = 58.54% ADA = 44.78% NO = 1297 GSP = 59.83% NSP = 55.20%\n",
      "SI2 = 4.19 SI = -16.12 eGROI = 56.11% eROI = 23.77% eROI2 = 30.17% eROI3 = 17.20% mSpread = 0.0249%\n",
      "\n",
      "Getting extended results...\n"
     ]
    },
    {
     "name": "stderr",
     "output_type": "stream",
     "text": [
      "100%|███████████████████████████████████████████████████████████████████████████████████████████████████████████████████████████████| 6768/6768 [00:01<00:00, 4967.84it/s]\n"
     ]
    },
    {
     "name": "stdout",
     "output_type": "stream",
     "text": [
      "Epoch = 8. Time index = mean. Threshold MC = 0.7. Threshold MD = 0.6\n",
      "RD = 3031 NZ = 5178 NZA = 6769 pNZ = 0.581% pNZA = 0.760% AD = 58.54% ADA = 44.78% NO = 1297 GSP = 59.83% NSP = 55.20%\n",
      "SI2 = 4.19 SI = -16.12 eGROI = 56.11% eROI = 23.77% eROI2 = 30.17% eROI3 = 17.20% mSpread = 0.0249%\n",
      "\n",
      "Getting extended results...\n"
     ]
    },
    {
     "name": "stderr",
     "output_type": "stream",
     "text": [
      "100%|███████████████████████████████████████████████████████████████████████████████████████████████████████████████████████████████| 6768/6768 [00:01<00:00, 4742.19it/s]\n"
     ]
    },
    {
     "name": "stdout",
     "output_type": "stream",
     "text": [
      "Epoch = 8. Time index = mean. Threshold MC = 0.7. Threshold MD = 0.6\n",
      "RD = 3031 NZ = 5178 NZA = 6769 pNZ = 0.581% pNZA = 0.760% AD = 58.54% ADA = 44.78% NO = 1297 GSP = 59.83% NSP = 55.20%\n",
      "SI2 = 4.19 SI = -16.12 eGROI = 56.11% eROI = 23.77% eROI2 = 30.17% eROI3 = 17.20% mSpread = 0.0249%\n",
      "\n",
      "Getting extended results...\n"
     ]
    },
    {
     "name": "stderr",
     "output_type": "stream",
     "text": [
      "100%|███████████████████████████████████████████████████████████████████████████████████████████████████████████████████████████████| 6768/6768 [00:01<00:00, 4657.56it/s]\n"
     ]
    },
    {
     "name": "stdout",
     "output_type": "stream",
     "text": [
      "Epoch = 8. Time index = mean. Threshold MC = 0.7. Threshold MD = 0.6\n",
      "RD = 3031 NZ = 5178 NZA = 6769 pNZ = 0.581% pNZA = 0.760% AD = 58.54% ADA = 44.78% NO = 1297 GSP = 59.83% NSP = 55.20%\n",
      "SI2 = 4.19 SI = -16.12 eGROI = 56.11% eROI = 23.77% eROI2 = 30.17% eROI3 = 17.20% mSpread = 0.0249%\n",
      "\n",
      "Getting extended results...\n"
     ]
    },
    {
     "name": "stderr",
     "output_type": "stream",
     "text": [
      "100%|███████████████████████████████████████████████████████████████████████████████████████████████████████████████████████████████| 6768/6768 [00:01<00:00, 4921.01it/s]\n"
     ]
    },
    {
     "name": "stdout",
     "output_type": "stream",
     "text": [
      "Epoch = 8. Time index = mean. Threshold MC = 0.7. Threshold MD = 0.6\n",
      "RD = 3031 NZ = 5178 NZA = 6769 pNZ = 0.581% pNZA = 0.760% AD = 58.54% ADA = 44.78% NO = 1297 GSP = 59.83% NSP = 55.20%\n",
      "SI2 = 4.19 SI = -16.12 eGROI = 56.11% eROI = 23.77% eROI2 = 30.17% eROI3 = 17.20% mSpread = 0.0249%\n",
      "\n",
      "Getting extended results...\n"
     ]
    },
    {
     "name": "stderr",
     "output_type": "stream",
     "text": [
      "100%|███████████████████████████████████████████████████████████████████████████████████████████████████████████████████████████████| 6768/6768 [00:01<00:00, 4327.84it/s]\n"
     ]
    },
    {
     "name": "stdout",
     "output_type": "stream",
     "text": [
      "Epoch = 8. Time index = mean. Threshold MC = 0.7. Threshold MD = 0.6\n",
      "RD = 3031 NZ = 5178 NZA = 6769 pNZ = 0.581% pNZA = 0.760% AD = 58.54% ADA = 44.78% NO = 1297 GSP = 59.83% NSP = 55.20%\n",
      "SI2 = 4.19 SI = -16.12 eGROI = 56.11% eROI = 23.77% eROI2 = 30.17% eROI3 = 17.20% mSpread = 0.0249%\n",
      "\n",
      "Getting extended results...\n"
     ]
    },
    {
     "name": "stderr",
     "output_type": "stream",
     "text": [
      "100%|███████████████████████████████████████████████████████████████████████████████████████████████████████████████████████████████| 6768/6768 [00:01<00:00, 3384.57it/s]\n"
     ]
    },
    {
     "name": "stdout",
     "output_type": "stream",
     "text": [
      "Epoch = 8. Time index = mean. Threshold MC = 0.7. Threshold MD = 0.6\n",
      "RD = 3031 NZ = 5178 NZA = 6769 pNZ = 0.581% pNZA = 0.760% AD = 58.54% ADA = 44.78% NO = 1297 GSP = 59.83% NSP = 55.20%\n",
      "SI2 = 4.19 SI = -16.12 eGROI = 56.11% eROI = 23.77% eROI2 = 30.17% eROI3 = 17.20% mSpread = 0.0249%\n",
      "\n",
      "Getting extended results...\n"
     ]
    },
    {
     "name": "stderr",
     "output_type": "stream",
     "text": [
      "100%|███████████████████████████████████████████████████████████████████████████████████████████████████████████████████████████████| 6768/6768 [00:01<00:00, 4917.31it/s]\n"
     ]
    },
    {
     "name": "stdout",
     "output_type": "stream",
     "text": [
      "Epoch = 8. Time index = mean. Threshold MC = 0.7. Threshold MD = 0.6\n",
      "RD = 3031 NZ = 5178 NZA = 6769 pNZ = 0.581% pNZA = 0.760% AD = 58.54% ADA = 44.78% NO = 1297 GSP = 59.83% NSP = 55.20%\n",
      "SI2 = 4.19 SI = -16.12 eGROI = 56.11% eROI = 23.77% eROI2 = 30.17% eROI3 = 17.20% mSpread = 0.0249%\n",
      "\n",
      "Getting extended results...\n"
     ]
    },
    {
     "name": "stderr",
     "output_type": "stream",
     "text": [
      "100%|███████████████████████████████████████████████████████████████████████████████████████████████████████████████████████████████| 6768/6768 [00:01<00:00, 3704.19it/s]\n"
     ]
    },
    {
     "name": "stdout",
     "output_type": "stream",
     "text": [
      "Epoch = 8. Time index = mean. Threshold MC = 0.7. Threshold MD = 0.6\n",
      "RD = 3031 NZ = 5178 NZA = 6769 pNZ = 0.581% pNZA = 0.760% AD = 58.54% ADA = 44.78% NO = 1297 GSP = 59.83% NSP = 55.20%\n",
      "SI2 = 4.19 SI = -16.12 eGROI = 56.11% eROI = 23.77% eROI2 = 30.17% eROI3 = 17.20% mSpread = 0.0249%\n",
      "\n",
      "Getting extended results...\n"
     ]
    },
    {
     "name": "stderr",
     "output_type": "stream",
     "text": [
      "100%|███████████████████████████████████████████████████████████████████████████████████████████████████████████████████████████████| 6768/6768 [00:01<00:00, 4778.92it/s]\n"
     ]
    },
    {
     "name": "stdout",
     "output_type": "stream",
     "text": [
      "Epoch = 8. Time index = mean. Threshold MC = 0.7. Threshold MD = 0.6\n",
      "RD = 3031 NZ = 5178 NZA = 6769 pNZ = 0.581% pNZA = 0.760% AD = 58.54% ADA = 44.78% NO = 1297 GSP = 59.83% NSP = 55.20%\n",
      "SI2 = 4.19 SI = -16.12 eGROI = 56.11% eROI = 23.77% eROI2 = 30.17% eROI3 = 17.20% mSpread = 0.0249%\n",
      "\n",
      "Getting extended results...\n"
     ]
    },
    {
     "name": "stderr",
     "output_type": "stream",
     "text": [
      "100%|███████████████████████████████████████████████████████████████████████████████████████████████████████████████████████████████| 6768/6768 [00:02<00:00, 3302.21it/s]\n"
     ]
    },
    {
     "name": "stdout",
     "output_type": "stream",
     "text": [
      "Epoch = 8. Time index = mean. Threshold MC = 0.7. Threshold MD = 0.6\n",
      "RD = 3031 NZ = 5178 NZA = 6769 pNZ = 0.581% pNZA = 0.760% AD = 58.54% ADA = 44.78% NO = 1297 GSP = 59.83% NSP = 55.20%\n",
      "SI2 = 4.19 SI = -16.12 eGROI = 56.11% eROI = 23.77% eROI2 = 30.17% eROI3 = 17.20% mSpread = 0.0249%\n",
      "\n",
      "Getting extended results...\n"
     ]
    },
    {
     "name": "stderr",
     "output_type": "stream",
     "text": [
      "100%|███████████████████████████████████████████████████████████████████████████████████████████████████████████████████████████████| 6768/6768 [00:01<00:00, 4286.84it/s]\n"
     ]
    },
    {
     "name": "stdout",
     "output_type": "stream",
     "text": [
      "Epoch = 8. Time index = mean. Threshold MC = 0.7. Threshold MD = 0.6\n",
      "RD = 3031 NZ = 5178 NZA = 6769 pNZ = 0.581% pNZA = 0.760% AD = 58.54% ADA = 44.78% NO = 1297 GSP = 59.83% NSP = 55.20%\n",
      "SI2 = 4.19 SI = -16.12 eGROI = 56.11% eROI = 23.77% eROI2 = 30.17% eROI3 = 17.20% mSpread = 0.0249%\n",
      "\n",
      "Getting extended results...\n"
     ]
    },
    {
     "name": "stderr",
     "output_type": "stream",
     "text": [
      "100%|███████████████████████████████████████████████████████████████████████████████████████████████████████████████████████████████| 6768/6768 [00:02<00:00, 2577.31it/s]\n"
     ]
    },
    {
     "name": "stdout",
     "output_type": "stream",
     "text": [
      "Epoch = 8. Time index = mean. Threshold MC = 0.7. Threshold MD = 0.6\n",
      "RD = 3031 NZ = 5178 NZA = 6769 pNZ = 0.581% pNZA = 0.760% AD = 58.54% ADA = 44.78% NO = 1297 GSP = 59.83% NSP = 55.20%\n",
      "SI2 = 4.19 SI = -16.12 eGROI = 56.11% eROI = 23.77% eROI2 = 30.17% eROI3 = 17.20% mSpread = 0.0249%\n",
      "\n",
      "Getting extended results...\n"
     ]
    },
    {
     "name": "stderr",
     "output_type": "stream",
     "text": [
      "100%|███████████████████████████████████████████████████████████████████████████████████████████████████████████████████████████████| 6768/6768 [00:01<00:00, 4728.99it/s]\n"
     ]
    },
    {
     "name": "stdout",
     "output_type": "stream",
     "text": [
      "Epoch = 8. Time index = mean. Threshold MC = 0.7. Threshold MD = 0.6\n",
      "RD = 3031 NZ = 5178 NZA = 6769 pNZ = 0.581% pNZA = 0.760% AD = 58.54% ADA = 44.78% NO = 1297 GSP = 59.83% NSP = 55.20%\n",
      "SI2 = 4.19 SI = -16.12 eGROI = 56.11% eROI = 23.77% eROI2 = 30.17% eROI3 = 17.20% mSpread = 0.0249%\n",
      "\n",
      "Getting extended results...\n"
     ]
    },
    {
     "name": "stderr",
     "output_type": "stream",
     "text": [
      "100%|███████████████████████████████████████████████████████████████████████████████████████████████████████████████████████████████| 6768/6768 [00:01<00:00, 4243.95it/s]\n"
     ]
    },
    {
     "name": "stdout",
     "output_type": "stream",
     "text": [
      "Epoch = 8. Time index = mean. Threshold MC = 0.7. Threshold MD = 0.6\n",
      "RD = 3031 NZ = 5178 NZA = 6769 pNZ = 0.581% pNZA = 0.760% AD = 58.54% ADA = 44.78% NO = 1297 GSP = 59.83% NSP = 55.20%\n",
      "SI2 = 4.19 SI = -16.12 eGROI = 56.11% eROI = 23.77% eROI2 = 30.17% eROI3 = 17.20% mSpread = 0.0249%\n",
      "\n",
      "Getting extended results...\n"
     ]
    },
    {
     "name": "stderr",
     "output_type": "stream",
     "text": [
      "100%|███████████████████████████████████████████████████████████████████████████████████████████████████████████████████████████████| 6768/6768 [00:01<00:00, 4046.55it/s]\n"
     ]
    },
    {
     "name": "stdout",
     "output_type": "stream",
     "text": [
      "Epoch = 8. Time index = mean. Threshold MC = 0.7. Threshold MD = 0.6\n",
      "RD = 3031 NZ = 5178 NZA = 6769 pNZ = 0.581% pNZA = 0.760% AD = 58.54% ADA = 44.78% NO = 1297 GSP = 59.83% NSP = 55.20%\n",
      "SI2 = 4.19 SI = -16.12 eGROI = 56.11% eROI = 23.77% eROI2 = 30.17% eROI3 = 17.20% mSpread = 0.0249%\n",
      "\n",
      "Getting extended results...\n"
     ]
    },
    {
     "name": "stderr",
     "output_type": "stream",
     "text": [
      "100%|███████████████████████████████████████████████████████████████████████████████████████████████████████████████████████████████| 6768/6768 [00:01<00:00, 4758.82it/s]\n"
     ]
    },
    {
     "name": "stdout",
     "output_type": "stream",
     "text": [
      "Epoch = 8. Time index = mean. Threshold MC = 0.7. Threshold MD = 0.6\n",
      "RD = 3031 NZ = 5178 NZA = 6769 pNZ = 0.581% pNZA = 0.760% AD = 58.54% ADA = 44.78% NO = 1297 GSP = 59.83% NSP = 55.20%\n",
      "SI2 = 4.19 SI = -16.12 eGROI = 56.11% eROI = 23.77% eROI2 = 30.17% eROI3 = 17.20% mSpread = 0.0249%\n",
      "\n",
      "Getting extended results...\n"
     ]
    },
    {
     "name": "stderr",
     "output_type": "stream",
     "text": [
      "100%|███████████████████████████████████████████████████████████████████████████████████████████████████████████████████████████████| 6768/6768 [00:01<00:00, 3521.50it/s]\n"
     ]
    },
    {
     "name": "stdout",
     "output_type": "stream",
     "text": [
      "Epoch = 8. Time index = mean. Threshold MC = 0.7. Threshold MD = 0.6\n",
      "RD = 3031 NZ = 5178 NZA = 6769 pNZ = 0.581% pNZA = 0.760% AD = 58.54% ADA = 44.78% NO = 1297 GSP = 59.83% NSP = 55.20%\n",
      "SI2 = 4.19 SI = -16.12 eGROI = 56.11% eROI = 23.77% eROI2 = 30.17% eROI3 = 17.20% mSpread = 0.0249%\n",
      "\n",
      "Getting extended results...\n"
     ]
    },
    {
     "name": "stderr",
     "output_type": "stream",
     "text": [
      "100%|███████████████████████████████████████████████████████████████████████████████████████████████████████████████████████████████| 6768/6768 [00:01<00:00, 4548.30it/s]\n"
     ]
    },
    {
     "name": "stdout",
     "output_type": "stream",
     "text": [
      "Epoch = 8. Time index = mean. Threshold MC = 0.7. Threshold MD = 0.6\n",
      "RD = 3031 NZ = 5178 NZA = 6769 pNZ = 0.581% pNZA = 0.760% AD = 58.54% ADA = 44.78% NO = 1297 GSP = 59.83% NSP = 55.20%\n",
      "SI2 = 4.19 SI = -16.12 eGROI = 56.11% eROI = 23.77% eROI2 = 30.17% eROI3 = 17.20% mSpread = 0.0249%\n",
      "\n",
      "Getting extended results...\n"
     ]
    },
    {
     "name": "stderr",
     "output_type": "stream",
     "text": [
      "100%|███████████████████████████████████████████████████████████████████████████████████████████████████████████████████████████████| 6768/6768 [00:01<00:00, 3949.99it/s]\n"
     ]
    },
    {
     "name": "stdout",
     "output_type": "stream",
     "text": [
      "Epoch = 8. Time index = mean. Threshold MC = 0.7. Threshold MD = 0.6\n",
      "RD = 3031 NZ = 5178 NZA = 6769 pNZ = 0.581% pNZA = 0.760% AD = 58.54% ADA = 44.78% NO = 1297 GSP = 59.83% NSP = 55.20%\n",
      "SI2 = 4.19 SI = -16.12 eGROI = 56.11% eROI = 23.77% eROI2 = 30.17% eROI3 = 17.20% mSpread = 0.0249%\n",
      "\n",
      "Best eGROI = 169.58 t_index 3 thr_mc 0.5 thr_md 0.6 epoch 8 in 10432 GSP 58.26 ADA 38.17 AD 56.26\n",
      "Best eROI = 23.77 t_index mean thr_mc 0.7 thr_md 0.6 epoch 8 in 1297 GSP 59.83 ADA 44.78 AD 58.54\n",
      "Best eROI.5 = 117.42 t_index 3 thr_mc 0.5 thr_md 0.6 epoch 8 in 10432 GSP 58.26 ADA 38.17 AD 56.26\n",
      "Best eROI1 = 71.55 t_index 2 thr_mc 0.5 thr_md 0.6 epoch 8 in 8946 GSP 58.58 ADA 38.75 AD 57.23\n",
      "Best eROI1.5 = 36.65 t_index mean thr_mc 0.7 thr_md 0.6 epoch 8 in 1297 GSP 59.83 ADA 44.78 AD 58.54\n",
      "Best eROI2 = 30.17 t_index mean thr_mc 0.7 thr_md 0.6 epoch 8 in 1297 GSP 59.83 ADA 44.78 AD 58.54\n",
      "Best eROI3 = 17.20 t_index mean thr_mc 0.7 thr_md 0.6 epoch 8 in 1297 GSP 59.83 ADA 44.78 AD 58.54\n",
      "Best eROI4 = 8.57 t_index 2 thr_mc 0.8 thr_md 0.6 epoch 8 in 472 GSP 58.69 ADA 46.32 AD 56.41\n",
      "Best eROI5 = 4.52 t_index 1 thr_mc 0.8 thr_md 0.6 epoch 8 in 345 GSP 57.10 ADA 48.03 AD 59.05\n",
      "Best SI = 19.69 t_index 1 thr_mc 0.7 thr_md 0.6 epoch 8 in 1527 GSP 59.20 ADA 44.57 AD 58.67\n",
      "Best SI.5 = 411.04 t_index 3 thr_mc 0.5 thr_md 0.6 epoch 8 in 10432 GSP 58.26 ADA 38.17 AD 56.26\n",
      "Best SI1 = 233.04 t_index 3 thr_mc 0.5 thr_md 0.6 epoch 8 in 10432 GSP 58.26 ADA 38.17 AD 56.26\n",
      "Best SI1.5 = 98.27 t_index 2 thr_mc 0.6 thr_md 0.6 epoch 8 in 6341 GSP 58.63 ADA 40.69 AD 57.24\n",
      "Best SI2 = 47.37 t_index 0 thr_mc 0.6 thr_md 0.6 epoch 8 in 1371 GSP 61.20 ADA 43.92 AD 61.07\n",
      "Best SI3 = 9.37 t_index 0 thr_mc 0.6 thr_md 0.6 epoch 8 in 1371 GSP 61.20 ADA 43.92 AD 61.07\n",
      "Best SI4 = 2.39 t_index 1 thr_mc 0.5 thr_md 0.7 epoch 8 in 37 GSP 72.97 ADA 44.74 AD 80.95\n",
      "Best SI5 = 0.76 t_index 1 thr_mc 0.6 thr_md 0.7 epoch 8 in 8 GSP 75.00 ADA 66.67 AD 100.00\n",
      "Best 99eGROI = 170.95 t_index 3 thr_mc 0.5 thr_md 0.6 epoch 8 in 10432 GSP 58.26 ADA 38.17 AD 56.26\n",
      "Best 99eROI = 19.57 t_index mean thr_mc 0.7 thr_md 0.6 epoch 8 in 1297 GSP 59.83 ADA 44.78 AD 58.54\n",
      "Best 99eROI.5 = 119.83 t_index 3 thr_mc 0.5 thr_md 0.6 epoch 8 in 10432 GSP 58.26 ADA 38.17 AD 56.26\n",
      "Best 99eROI1 = 72.40 t_index 2 thr_mc 0.5 thr_md 0.6 epoch 8 in 8946 GSP 58.58 ADA 38.75 AD 57.23\n",
      "Best 99eROI1.5 = 37.44 t_index 2 thr_mc 0.6 thr_md 0.6 epoch 8 in 6341 GSP 58.63 ADA 40.69 AD 57.24\n",
      "Best 99eROI2 = 24.79 t_index mean thr_mc 0.7 thr_md 0.6 epoch 8 in 1297 GSP 59.83 ADA 44.78 AD 58.54\n",
      "Best 99eROI3 = 14.98 t_index 2 thr_mc 0.8 thr_md 0.6 epoch 8 in 472 GSP 58.69 ADA 46.32 AD 56.41\n",
      "Best 99eROI4 = 10.34 t_index 2 thr_mc 0.8 thr_md 0.6 epoch 8 in 472 GSP 58.69 ADA 46.32 AD 56.41\n",
      "Best 99eROI5 = 6.60 t_index 1 thr_mc 0.8 thr_md 0.6 epoch 8 in 345 GSP 57.10 ADA 48.03 AD 59.05\n",
      "\n",
      "The very best:\n",
      "Best eGROI = 208.66 t_index 2 thr_mc 0.5 thr_md 0.6 epoch 13 in 12745 GSP 56.74 ADA 38.20 AD 55.17\n",
      "Best eROI = 79.35 t_index 0 thr_mc 0.7 thr_md 0.5 epoch 0 in 2226 GSP 57.01 ADA 45.10 AD 54.12\n",
      "Best eROI.5 = 170.60 t_index 1 thr_mc 0.7 thr_md 0.5 epoch 0 in 5217 GSP 57.14 ADA 41.43 AD 53.99\n",
      "Best eROI1 = 144.52 t_index 1 thr_mc 0.7 thr_md 0.5 epoch 0 in 5217 GSP 57.14 ADA 41.43 AD 53.99\n",
      "Best eROI1.5 = 118.43 t_index 1 thr_mc 0.7 thr_md 0.5 epoch 0 in 5217 GSP 57.14 ADA 41.43 AD 53.99\n",
      "Best eROI2 = 92.35 t_index 1 thr_mc 0.7 thr_md 0.5 epoch 0 in 5217 GSP 57.14 ADA 41.43 AD 53.99\n",
      "Best eROI3 = 64.46 t_index 0 thr_mc 0.7 thr_md 0.5 epoch 0 in 2226 GSP 57.01 ADA 45.10 AD 54.12\n",
      "Best eROI4 = 42.20 t_index 0 thr_mc 0.7 thr_md 0.5 epoch 0 in 2226 GSP 57.01 ADA 45.10 AD 54.12\n",
      "Best eROI5 = 27.62 t_index 3 thr_mc 0.9 thr_md 0.5 epoch 14 in 184 GSP 55.43 ADA 49.93 AD 55.90\n",
      "Best SI = 37.77 t_index 0 thr_mc 0.7 thr_md 0.6 epoch 9 in 891 GSP 61.05 ADA 46.19 AD 61.14\n",
      "Best SI.5 = 411.04 t_index 3 thr_mc 0.5 thr_md 0.6 epoch 8 in 10432 GSP 58.26 ADA 38.17 AD 56.26\n",
      "Best SI1 = 234.15 t_index 3 thr_mc 0.5 thr_md 0.6 epoch 9 in 11345 GSP 57.96 ADA 38.28 AD 55.82\n",
      "Best SI1.5 = 134.23 t_index 2 thr_mc 0.6 thr_md 0.6 epoch 7 in 5509 GSP 59.21 ADA 40.40 AD 57.89\n",
      "Best SI2 = 80.55 t_index 3 thr_mc 0.5 thr_md 0.7 epoch 14 in 3365 GSP 60.77 ADA 42.78 AD 57.60\n",
      "Best SI3 = 26.77 t_index 0 thr_mc 0.7 thr_md 0.6 epoch 9 in 891 GSP 61.05 ADA 46.19 AD 61.14\n",
      "Best SI4 = 15.49 t_index 3 thr_mc 0.8 thr_md 0.6 epoch 5 in 67 GSP 82.09 ADA 62.60 AD 81.91\n",
      "Best SI5 = 14.49 t_index 3 thr_mc 0.8 thr_md 0.6 epoch 5 in 67 GSP 82.09 ADA 62.60 AD 81.91\n",
      "Best 99eGROI = 199.25 t_index 3 thr_mc 0.5 thr_md 0.6 epoch 10 in 12161 GSP 57.14 ADA 38.16 AD 55.40\n",
      "Best 99eROI = 37.00 t_index 3 thr_mc 0.9 thr_md 0.5 epoch 14 in 184 GSP 55.43 ADA 49.93 AD 55.90\n",
      "Best 99eROI.5 = 139.65 t_index 3 thr_mc 0.5 thr_md 0.6 epoch 10 in 12161 GSP 57.14 ADA 38.16 AD 55.40\n",
      "Best 99eROI1 = 87.49 t_index 1 thr_mc 0.6 thr_md 0.6 epoch 11 in 7915 GSP 57.71 ADA 40.70 AD 56.52\n",
      "Best 99eROI1.5 = 64.81 t_index 3 thr_mc 0.5 thr_md 0.7 epoch 14 in 3365 GSP 60.77 ADA 42.78 AD 57.60\n",
      "Best 99eROI2 = 48.32 t_index 3 thr_mc 0.5 thr_md 0.7 epoch 14 in 3365 GSP 60.77 ADA 42.78 AD 57.60\n",
      "Best 99eROI3 = 36.83 t_index 3 thr_mc 0.9 thr_md 0.5 epoch 14 in 184 GSP 55.43 ADA 49.93 AD 55.90\n",
      "Best 99eROI4 = 35.01 t_index 3 thr_mc 0.9 thr_md 0.5 epoch 14 in 184 GSP 55.43 ADA 49.93 AD 55.90\n",
      "Best 99eROI5 = 33.19 t_index 3 thr_mc 0.9 thr_md 0.5 epoch 14 in 184 GSP 55.43 ADA 49.93 AD 55.90\n",
      "Time=67.90 secs\n",
      "INFO:tensorflow:Restoring parameters from C:/Users/mgutierrez/root/Projects/SDC/py/RNN/weights/WRNN01010k5K5A/000009/000009\n",
      "Parameters loaded. Epoch 9\n",
      "Epoch 9 of 14. Getting output...\n"
     ]
    },
    {
     "name": "stderr",
     "output_type": "stream",
     "text": [
      "100%|███████████████████████████████████████████████████████████████████████████████████████████████████████████████████████████████████| 870/870 [01:17<00:00, 11.22it/s]\n"
     ]
    },
    {
     "name": "stdout",
     "output_type": "stream",
     "text": [
      "J_test = 1.852805\n",
      "Epoch 9, J_train = 1.5627935121198482, J_test = 1.8528052151888266\n",
      "Getting extended results...\n"
     ]
    },
    {
     "name": "stderr",
     "output_type": "stream",
     "text": [
      "100%|███████████████████████████████████████████████████████████████████████████████████████████████████████████████████████████████| 2060/2060 [00:00<00:00, 2553.15it/s]\n"
     ]
    },
    {
     "name": "stdout",
     "output_type": "stream",
     "text": [
      "Epoch = 9. Time index = 0. Threshold MC = 0.7. Threshold MD = 0.6\n",
      "RD = 952 NZ = 1557 NZA = 2061 pNZ = 0.175% pNZA = 0.231% AD = 61.14% ADA = 46.19% NO = 891 GSP = 61.05% NSP = 57.24%\n",
      "SI2 = 4.59 SI = -12.74 eGROI = 31.51% eROI = 8.59% eROI2 = 13.69% eROI3 = 4.78% mSpread = 0.0257%\n",
      "\n",
      "Getting extended results...\n"
     ]
    },
    {
     "name": "stderr",
     "output_type": "stream",
     "text": [
      "100%|█████████████████████████████████████████████████████████████████████████████████████████████████████████████████████████████| 10375/10375 [00:02<00:00, 4108.49it/s]\n"
     ]
    },
    {
     "name": "stdout",
     "output_type": "stream",
     "text": [
      "Epoch = 9. Time index = 1. Threshold MC = 0.7. Threshold MD = 0.6\n",
      "RD = 4565 NZ = 7928 NZA = 10376 pNZ = 0.890% pNZA = 1.165% AD = 57.58% ADA = 44.00% NO = 2045 GSP = 56.09% NSP = 51.69%\n",
      "SI2 = 2.10 SI = -21.84 eGROI = 55.56% eROI = 6.05% eROI2 = 14.66% eROI3 = -5.79% mSpread = 0.0242%\n",
      "\n",
      "Getting extended results...\n"
     ]
    },
    {
     "name": "stderr",
     "output_type": "stream",
     "text": [
      "100%|█████████████████████████████████████████████████████████████████████████████████████████████████████████████████████████████| 15978/15978 [00:03<00:00, 4431.71it/s]\n"
     ]
    },
    {
     "name": "stdout",
     "output_type": "stream",
     "text": [
      "Epoch = 9. Time index = 2. Threshold MC = 0.7. Threshold MD = 0.6\n",
      "RD = 6847 NZ = 12285 NZA = 15979 pNZ = 1.379% pNZA = 1.794% AD = 55.73% ADA = 42.85% NO = 2570 GSP = 56.34% NSP = 52.02%\n",
      "SI2 = 2.64 SI = -24.31 eGROI = 59.29% eROI = -2.21% eROI2 = 7.89% eROI3 = -17.81% mSpread = 0.0239%\n",
      "\n",
      "Getting extended results...\n"
     ]
    },
    {
     "name": "stderr",
     "output_type": "stream",
     "text": [
      "100%|█████████████████████████████████████████████████████████████████████████████████████████████████████████████████████████████| 20871/20871 [00:04<00:00, 4529.59it/s]\n"
     ]
    },
    {
     "name": "stdout",
     "output_type": "stream",
     "text": [
      "Epoch = 9. Time index = 3. Threshold MC = 0.7. Threshold MD = 0.6\n",
      "RD = 8831 NZ = 16046 NZA = 20872 pNZ = 1.802% pNZA = 2.344% AD = 55.04% ADA = 42.31% NO = 3073 GSP = 56.36% NSP = 51.51%\n",
      "SI2 = 2.83 SI = -26.87 eGROI = 64.03% eROI = -9.69% eROI2 = 2.57% eROI3 = -28.16% mSpread = 0.0240%\n",
      "\n",
      "Getting extended results...\n"
     ]
    },
    {
     "name": "stderr",
     "output_type": "stream",
     "text": [
      "100%|█████████████████████████████████████████████████████████████████████████████████████████████████████████████████████████████| 10603/10603 [00:02<00:00, 4192.16it/s]\n"
     ]
    },
    {
     "name": "stdout",
     "output_type": "stream",
     "text": [
      "Epoch = 9. Time index = mean. Threshold MC = 0.7. Threshold MD = 0.6\n",
      "RD = 4715 NZ = 8189 NZA = 10604 pNZ = 0.919% pNZA = 1.191% AD = 57.58% ADA = 44.46% NO = 1775 GSP = 59.38% NSP = 54.59%\n",
      "SI2 = 4.91 SI = -19.12 eGROI = 77.50% eROI = 34.19% eROI2 = 42.00% eROI3 = 24.25% mSpread = 0.0244%\n",
      "\n",
      "Getting extended results...\n"
     ]
    },
    {
     "name": "stderr",
     "output_type": "stream",
     "text": [
      "100%|█████████████████████████████████████████████████████████████████████████████████████████████████████████████████████████████| 10603/10603 [00:02<00:00, 4060.86it/s]\n"
     ]
    },
    {
     "name": "stdout",
     "output_type": "stream",
     "text": [
      "Epoch = 9. Time index = mean. Threshold MC = 0.7. Threshold MD = 0.6\n",
      "RD = 4715 NZ = 8189 NZA = 10604 pNZ = 0.919% pNZA = 1.191% AD = 57.58% ADA = 44.46% NO = 1775 GSP = 59.38% NSP = 54.59%\n",
      "SI2 = 4.91 SI = -19.12 eGROI = 77.50% eROI = 34.19% eROI2 = 42.00% eROI3 = 24.25% mSpread = 0.0244%\n",
      "\n",
      "Getting extended results...\n"
     ]
    },
    {
     "name": "stderr",
     "output_type": "stream",
     "text": [
      "100%|█████████████████████████████████████████████████████████████████████████████████████████████████████████████████████████████| 10603/10603 [00:02<00:00, 4620.30it/s]\n"
     ]
    },
    {
     "name": "stdout",
     "output_type": "stream",
     "text": [
      "Epoch = 9. Time index = mean. Threshold MC = 0.7. Threshold MD = 0.6\n",
      "RD = 4715 NZ = 8189 NZA = 10604 pNZ = 0.919% pNZA = 1.191% AD = 57.58% ADA = 44.46% NO = 1775 GSP = 59.38% NSP = 54.59%\n",
      "SI2 = 4.91 SI = -19.12 eGROI = 77.50% eROI = 34.19% eROI2 = 42.00% eROI3 = 24.25% mSpread = 0.0244%\n",
      "\n",
      "Getting extended results...\n"
     ]
    },
    {
     "name": "stderr",
     "output_type": "stream",
     "text": [
      "100%|█████████████████████████████████████████████████████████████████████████████████████████████████████████████████████████████| 10603/10603 [00:02<00:00, 4729.14it/s]\n"
     ]
    },
    {
     "name": "stdout",
     "output_type": "stream",
     "text": [
      "Epoch = 9. Time index = mean. Threshold MC = 0.7. Threshold MD = 0.6\n",
      "RD = 4715 NZ = 8189 NZA = 10604 pNZ = 0.919% pNZA = 1.191% AD = 57.58% ADA = 44.46% NO = 1775 GSP = 59.38% NSP = 54.59%\n",
      "SI2 = 4.91 SI = -19.12 eGROI = 77.50% eROI = 34.19% eROI2 = 42.00% eROI3 = 24.25% mSpread = 0.0244%\n",
      "\n",
      "Getting extended results...\n"
     ]
    },
    {
     "name": "stderr",
     "output_type": "stream",
     "text": [
      "100%|█████████████████████████████████████████████████████████████████████████████████████████████████████████████████████████████| 10603/10603 [00:02<00:00, 4832.41it/s]\n"
     ]
    },
    {
     "name": "stdout",
     "output_type": "stream",
     "text": [
      "Epoch = 9. Time index = mean. Threshold MC = 0.7. Threshold MD = 0.6\n",
      "RD = 4715 NZ = 8189 NZA = 10604 pNZ = 0.919% pNZA = 1.191% AD = 57.58% ADA = 44.46% NO = 1775 GSP = 59.38% NSP = 54.59%\n",
      "SI2 = 4.91 SI = -19.12 eGROI = 77.50% eROI = 34.19% eROI2 = 42.00% eROI3 = 24.25% mSpread = 0.0244%\n",
      "\n",
      "Getting extended results...\n"
     ]
    },
    {
     "name": "stderr",
     "output_type": "stream",
     "text": [
      "100%|█████████████████████████████████████████████████████████████████████████████████████████████████████████████████████████████| 10603/10603 [00:02<00:00, 4675.16it/s]\n"
     ]
    },
    {
     "name": "stdout",
     "output_type": "stream",
     "text": [
      "Epoch = 9. Time index = mean. Threshold MC = 0.7. Threshold MD = 0.6\n",
      "RD = 4715 NZ = 8189 NZA = 10604 pNZ = 0.919% pNZA = 1.191% AD = 57.58% ADA = 44.46% NO = 1775 GSP = 59.38% NSP = 54.59%\n",
      "SI2 = 4.91 SI = -19.12 eGROI = 77.50% eROI = 34.19% eROI2 = 42.00% eROI3 = 24.25% mSpread = 0.0244%\n",
      "\n",
      "Getting extended results...\n"
     ]
    },
    {
     "name": "stderr",
     "output_type": "stream",
     "text": [
      "100%|█████████████████████████████████████████████████████████████████████████████████████████████████████████████████████████████| 10603/10603 [00:02<00:00, 3654.65it/s]\n"
     ]
    },
    {
     "name": "stdout",
     "output_type": "stream",
     "text": [
      "Epoch = 9. Time index = mean. Threshold MC = 0.7. Threshold MD = 0.6\n",
      "RD = 4715 NZ = 8189 NZA = 10604 pNZ = 0.919% pNZA = 1.191% AD = 57.58% ADA = 44.46% NO = 1775 GSP = 59.38% NSP = 54.59%\n",
      "SI2 = 4.91 SI = -19.12 eGROI = 77.50% eROI = 34.19% eROI2 = 42.00% eROI3 = 24.25% mSpread = 0.0244%\n",
      "\n",
      "Getting extended results...\n"
     ]
    },
    {
     "name": "stderr",
     "output_type": "stream",
     "text": [
      "100%|█████████████████████████████████████████████████████████████████████████████████████████████████████████████████████████████| 10603/10603 [00:02<00:00, 4646.55it/s]\n"
     ]
    },
    {
     "name": "stdout",
     "output_type": "stream",
     "text": [
      "Epoch = 9. Time index = mean. Threshold MC = 0.7. Threshold MD = 0.6\n",
      "RD = 4715 NZ = 8189 NZA = 10604 pNZ = 0.919% pNZA = 1.191% AD = 57.58% ADA = 44.46% NO = 1775 GSP = 59.38% NSP = 54.59%\n",
      "SI2 = 4.91 SI = -19.12 eGROI = 77.50% eROI = 34.19% eROI2 = 42.00% eROI3 = 24.25% mSpread = 0.0244%\n",
      "\n",
      "Getting extended results...\n"
     ]
    },
    {
     "name": "stderr",
     "output_type": "stream",
     "text": [
      "100%|█████████████████████████████████████████████████████████████████████████████████████████████████████████████████████████████| 10603/10603 [00:02<00:00, 4915.08it/s]\n"
     ]
    },
    {
     "name": "stdout",
     "output_type": "stream",
     "text": [
      "Epoch = 9. Time index = mean. Threshold MC = 0.7. Threshold MD = 0.6\n",
      "RD = 4715 NZ = 8189 NZA = 10604 pNZ = 0.919% pNZA = 1.191% AD = 57.58% ADA = 44.46% NO = 1775 GSP = 59.38% NSP = 54.59%\n",
      "SI2 = 4.91 SI = -19.12 eGROI = 77.50% eROI = 34.19% eROI2 = 42.00% eROI3 = 24.25% mSpread = 0.0244%\n",
      "\n",
      "Getting extended results...\n"
     ]
    },
    {
     "name": "stderr",
     "output_type": "stream",
     "text": [
      "100%|█████████████████████████████████████████████████████████████████████████████████████████████████████████████████████████████| 10603/10603 [00:02<00:00, 4393.11it/s]\n"
     ]
    },
    {
     "name": "stdout",
     "output_type": "stream",
     "text": [
      "Epoch = 9. Time index = mean. Threshold MC = 0.7. Threshold MD = 0.6\n",
      "RD = 4715 NZ = 8189 NZA = 10604 pNZ = 0.919% pNZA = 1.191% AD = 57.58% ADA = 44.46% NO = 1775 GSP = 59.38% NSP = 54.59%\n",
      "SI2 = 4.91 SI = -19.12 eGROI = 77.50% eROI = 34.19% eROI2 = 42.00% eROI3 = 24.25% mSpread = 0.0244%\n",
      "\n",
      "Getting extended results...\n"
     ]
    },
    {
     "name": "stderr",
     "output_type": "stream",
     "text": [
      "100%|█████████████████████████████████████████████████████████████████████████████████████████████████████████████████████████████| 10603/10603 [00:02<00:00, 4292.01it/s]\n"
     ]
    },
    {
     "name": "stdout",
     "output_type": "stream",
     "text": [
      "Epoch = 9. Time index = mean. Threshold MC = 0.7. Threshold MD = 0.6\n",
      "RD = 4715 NZ = 8189 NZA = 10604 pNZ = 0.919% pNZA = 1.191% AD = 57.58% ADA = 44.46% NO = 1775 GSP = 59.38% NSP = 54.59%\n",
      "SI2 = 4.91 SI = -19.12 eGROI = 77.50% eROI = 34.19% eROI2 = 42.00% eROI3 = 24.25% mSpread = 0.0244%\n",
      "\n",
      "Getting extended results...\n"
     ]
    },
    {
     "name": "stderr",
     "output_type": "stream",
     "text": [
      "100%|█████████████████████████████████████████████████████████████████████████████████████████████████████████████████████████████| 10603/10603 [00:02<00:00, 4491.48it/s]\n"
     ]
    },
    {
     "name": "stdout",
     "output_type": "stream",
     "text": [
      "Epoch = 9. Time index = mean. Threshold MC = 0.7. Threshold MD = 0.6\n",
      "RD = 4715 NZ = 8189 NZA = 10604 pNZ = 0.919% pNZA = 1.191% AD = 57.58% ADA = 44.46% NO = 1775 GSP = 59.38% NSP = 54.59%\n",
      "SI2 = 4.91 SI = -19.12 eGROI = 77.50% eROI = 34.19% eROI2 = 42.00% eROI3 = 24.25% mSpread = 0.0244%\n",
      "\n",
      "Getting extended results...\n"
     ]
    },
    {
     "name": "stderr",
     "output_type": "stream",
     "text": [
      "100%|█████████████████████████████████████████████████████████████████████████████████████████████████████████████████████████████| 10603/10603 [00:02<00:00, 4836.81it/s]\n"
     ]
    },
    {
     "name": "stdout",
     "output_type": "stream",
     "text": [
      "Epoch = 9. Time index = mean. Threshold MC = 0.7. Threshold MD = 0.6\n",
      "RD = 4715 NZ = 8189 NZA = 10604 pNZ = 0.919% pNZA = 1.191% AD = 57.58% ADA = 44.46% NO = 1775 GSP = 59.38% NSP = 54.59%\n",
      "SI2 = 4.91 SI = -19.12 eGROI = 77.50% eROI = 34.19% eROI2 = 42.00% eROI3 = 24.25% mSpread = 0.0244%\n",
      "\n",
      "Getting extended results...\n"
     ]
    },
    {
     "name": "stderr",
     "output_type": "stream",
     "text": [
      "100%|█████████████████████████████████████████████████████████████████████████████████████████████████████████████████████████████| 10603/10603 [00:02<00:00, 5021.88it/s]\n"
     ]
    },
    {
     "name": "stdout",
     "output_type": "stream",
     "text": [
      "Epoch = 9. Time index = mean. Threshold MC = 0.7. Threshold MD = 0.6\n",
      "RD = 4715 NZ = 8189 NZA = 10604 pNZ = 0.919% pNZA = 1.191% AD = 57.58% ADA = 44.46% NO = 1775 GSP = 59.38% NSP = 54.59%\n",
      "SI2 = 4.91 SI = -19.12 eGROI = 77.50% eROI = 34.19% eROI2 = 42.00% eROI3 = 24.25% mSpread = 0.0244%\n",
      "\n",
      "Getting extended results...\n"
     ]
    },
    {
     "name": "stderr",
     "output_type": "stream",
     "text": [
      "100%|█████████████████████████████████████████████████████████████████████████████████████████████████████████████████████████████| 10603/10603 [00:02<00:00, 4710.37it/s]\n"
     ]
    },
    {
     "name": "stdout",
     "output_type": "stream",
     "text": [
      "Epoch = 9. Time index = mean. Threshold MC = 0.7. Threshold MD = 0.6\n",
      "RD = 4715 NZ = 8189 NZA = 10604 pNZ = 0.919% pNZA = 1.191% AD = 57.58% ADA = 44.46% NO = 1775 GSP = 59.38% NSP = 54.59%\n",
      "SI2 = 4.91 SI = -19.12 eGROI = 77.50% eROI = 34.19% eROI2 = 42.00% eROI3 = 24.25% mSpread = 0.0244%\n",
      "\n",
      "Getting extended results...\n"
     ]
    },
    {
     "name": "stderr",
     "output_type": "stream",
     "text": [
      "100%|█████████████████████████████████████████████████████████████████████████████████████████████████████████████████████████████| 10603/10603 [00:02<00:00, 4981.88it/s]\n"
     ]
    },
    {
     "name": "stdout",
     "output_type": "stream",
     "text": [
      "Epoch = 9. Time index = mean. Threshold MC = 0.7. Threshold MD = 0.6\n",
      "RD = 4715 NZ = 8189 NZA = 10604 pNZ = 0.919% pNZA = 1.191% AD = 57.58% ADA = 44.46% NO = 1775 GSP = 59.38% NSP = 54.59%\n",
      "SI2 = 4.91 SI = -19.12 eGROI = 77.50% eROI = 34.19% eROI2 = 42.00% eROI3 = 24.25% mSpread = 0.0244%\n",
      "\n",
      "Getting extended results...\n"
     ]
    },
    {
     "name": "stderr",
     "output_type": "stream",
     "text": [
      "100%|█████████████████████████████████████████████████████████████████████████████████████████████████████████████████████████████| 10603/10603 [00:02<00:00, 4843.42it/s]\n"
     ]
    },
    {
     "name": "stdout",
     "output_type": "stream",
     "text": [
      "Epoch = 9. Time index = mean. Threshold MC = 0.7. Threshold MD = 0.6\n",
      "RD = 4715 NZ = 8189 NZA = 10604 pNZ = 0.919% pNZA = 1.191% AD = 57.58% ADA = 44.46% NO = 1775 GSP = 59.38% NSP = 54.59%\n",
      "SI2 = 4.91 SI = -19.12 eGROI = 77.50% eROI = 34.19% eROI2 = 42.00% eROI3 = 24.25% mSpread = 0.0244%\n",
      "\n",
      "Getting extended results...\n"
     ]
    },
    {
     "name": "stderr",
     "output_type": "stream",
     "text": [
      "100%|█████████████████████████████████████████████████████████████████████████████████████████████████████████████████████████████| 10603/10603 [00:02<00:00, 4683.40it/s]\n"
     ]
    },
    {
     "name": "stdout",
     "output_type": "stream",
     "text": [
      "Epoch = 9. Time index = mean. Threshold MC = 0.7. Threshold MD = 0.6\n",
      "RD = 4715 NZ = 8189 NZA = 10604 pNZ = 0.919% pNZA = 1.191% AD = 57.58% ADA = 44.46% NO = 1775 GSP = 59.38% NSP = 54.59%\n",
      "SI2 = 4.91 SI = -19.12 eGROI = 77.50% eROI = 34.19% eROI2 = 42.00% eROI3 = 24.25% mSpread = 0.0244%\n",
      "\n",
      "Getting extended results...\n"
     ]
    },
    {
     "name": "stderr",
     "output_type": "stream",
     "text": [
      "100%|█████████████████████████████████████████████████████████████████████████████████████████████████████████████████████████████| 10603/10603 [00:02<00:00, 4883.47it/s]\n"
     ]
    },
    {
     "name": "stdout",
     "output_type": "stream",
     "text": [
      "Epoch = 9. Time index = mean. Threshold MC = 0.7. Threshold MD = 0.6\n",
      "RD = 4715 NZ = 8189 NZA = 10604 pNZ = 0.919% pNZA = 1.191% AD = 57.58% ADA = 44.46% NO = 1775 GSP = 59.38% NSP = 54.59%\n",
      "SI2 = 4.91 SI = -19.12 eGROI = 77.50% eROI = 34.19% eROI2 = 42.00% eROI3 = 24.25% mSpread = 0.0244%\n",
      "\n",
      "Getting extended results...\n"
     ]
    },
    {
     "name": "stderr",
     "output_type": "stream",
     "text": [
      "100%|█████████████████████████████████████████████████████████████████████████████████████████████████████████████████████████████| 10603/10603 [00:03<00:00, 3451.73it/s]\n"
     ]
    },
    {
     "name": "stdout",
     "output_type": "stream",
     "text": [
      "Epoch = 9. Time index = mean. Threshold MC = 0.7. Threshold MD = 0.6\n",
      "RD = 4715 NZ = 8189 NZA = 10604 pNZ = 0.919% pNZA = 1.191% AD = 57.58% ADA = 44.46% NO = 1775 GSP = 59.38% NSP = 54.59%\n",
      "SI2 = 4.91 SI = -19.12 eGROI = 77.50% eROI = 34.19% eROI2 = 42.00% eROI3 = 24.25% mSpread = 0.0244%\n",
      "\n",
      "Getting extended results...\n"
     ]
    },
    {
     "name": "stderr",
     "output_type": "stream",
     "text": [
      "100%|█████████████████████████████████████████████████████████████████████████████████████████████████████████████████████████████| 10603/10603 [00:02<00:00, 4666.95it/s]\n"
     ]
    },
    {
     "name": "stdout",
     "output_type": "stream",
     "text": [
      "Epoch = 9. Time index = mean. Threshold MC = 0.7. Threshold MD = 0.6\n",
      "RD = 4715 NZ = 8189 NZA = 10604 pNZ = 0.919% pNZA = 1.191% AD = 57.58% ADA = 44.46% NO = 1775 GSP = 59.38% NSP = 54.59%\n",
      "SI2 = 4.91 SI = -19.12 eGROI = 77.50% eROI = 34.19% eROI2 = 42.00% eROI3 = 24.25% mSpread = 0.0244%\n",
      "\n",
      "Getting extended results...\n"
     ]
    },
    {
     "name": "stderr",
     "output_type": "stream",
     "text": [
      "100%|█████████████████████████████████████████████████████████████████████████████████████████████████████████████████████████████| 10603/10603 [00:02<00:00, 4594.34it/s]\n"
     ]
    },
    {
     "name": "stdout",
     "output_type": "stream",
     "text": [
      "Epoch = 9. Time index = mean. Threshold MC = 0.7. Threshold MD = 0.6\n",
      "RD = 4715 NZ = 8189 NZA = 10604 pNZ = 0.919% pNZA = 1.191% AD = 57.58% ADA = 44.46% NO = 1775 GSP = 59.38% NSP = 54.59%\n",
      "SI2 = 4.91 SI = -19.12 eGROI = 77.50% eROI = 34.19% eROI2 = 42.00% eROI3 = 24.25% mSpread = 0.0244%\n",
      "\n",
      "Getting extended results...\n"
     ]
    },
    {
     "name": "stderr",
     "output_type": "stream",
     "text": [
      "100%|█████████████████████████████████████████████████████████████████████████████████████████████████████████████████████████████| 10603/10603 [00:02<00:00, 4568.68it/s]\n"
     ]
    },
    {
     "name": "stdout",
     "output_type": "stream",
     "text": [
      "Epoch = 9. Time index = mean. Threshold MC = 0.7. Threshold MD = 0.6\n",
      "RD = 4715 NZ = 8189 NZA = 10604 pNZ = 0.919% pNZA = 1.191% AD = 57.58% ADA = 44.46% NO = 1775 GSP = 59.38% NSP = 54.59%\n",
      "SI2 = 4.91 SI = -19.12 eGROI = 77.50% eROI = 34.19% eROI2 = 42.00% eROI3 = 24.25% mSpread = 0.0244%\n",
      "\n",
      "Getting extended results...\n"
     ]
    },
    {
     "name": "stderr",
     "output_type": "stream",
     "text": [
      "100%|█████████████████████████████████████████████████████████████████████████████████████████████████████████████████████████████| 10603/10603 [00:02<00:00, 4489.22it/s]\n"
     ]
    },
    {
     "name": "stdout",
     "output_type": "stream",
     "text": [
      "Epoch = 9. Time index = mean. Threshold MC = 0.7. Threshold MD = 0.6\n",
      "RD = 4715 NZ = 8189 NZA = 10604 pNZ = 0.919% pNZA = 1.191% AD = 57.58% ADA = 44.46% NO = 1775 GSP = 59.38% NSP = 54.59%\n",
      "SI2 = 4.91 SI = -19.12 eGROI = 77.50% eROI = 34.19% eROI2 = 42.00% eROI3 = 24.25% mSpread = 0.0244%\n",
      "\n",
      "Getting extended results...\n"
     ]
    },
    {
     "name": "stderr",
     "output_type": "stream",
     "text": [
      "100%|█████████████████████████████████████████████████████████████████████████████████████████████████████████████████████████████| 10603/10603 [00:02<00:00, 4014.85it/s]\n"
     ]
    },
    {
     "name": "stdout",
     "output_type": "stream",
     "text": [
      "Epoch = 9. Time index = mean. Threshold MC = 0.7. Threshold MD = 0.6\n",
      "RD = 4715 NZ = 8189 NZA = 10604 pNZ = 0.919% pNZA = 1.191% AD = 57.58% ADA = 44.46% NO = 1775 GSP = 59.38% NSP = 54.59%\n",
      "SI2 = 4.91 SI = -19.12 eGROI = 77.50% eROI = 34.19% eROI2 = 42.00% eROI3 = 24.25% mSpread = 0.0244%\n",
      "\n",
      "Best eGROI = 192.85 t_index 3 thr_mc 0.5 thr_md 0.6 epoch 9 in 11345 GSP 57.96 ADA 38.28 AD 55.82\n",
      "Best eROI = 38.55 t_index 1 thr_mc 0.8 thr_md 0.5 epoch 9 in 1579 GSP 54.27 ADA 43.03 AD 52.33\n",
      "Best eROI.5 = 136.13 t_index 3 thr_mc 0.5 thr_md 0.6 epoch 9 in 11345 GSP 57.96 ADA 38.28 AD 55.82\n",
      "Best eROI1 = 79.40 t_index 3 thr_mc 0.5 thr_md 0.6 epoch 9 in 11345 GSP 57.96 ADA 38.28 AD 55.82\n",
      "Best eROI1.5 = 51.30 t_index 1 thr_mc 0.8 thr_md 0.5 epoch 9 in 1579 GSP 54.27 ADA 43.03 AD 52.33\n",
      "Best eROI2 = 43.40 t_index 1 thr_mc 0.8 thr_md 0.5 epoch 9 in 1579 GSP 54.27 ADA 43.03 AD 52.33\n",
      "Best eROI3 = 27.61 t_index 1 thr_mc 0.8 thr_md 0.5 epoch 9 in 1579 GSP 54.27 ADA 43.03 AD 52.33\n",
      "Best eROI4 = 11.82 t_index 1 thr_mc 0.8 thr_md 0.5 epoch 9 in 1579 GSP 54.27 ADA 43.03 AD 52.33\n",
      "Best eROI5 = 3.61 t_index 1 thr_mc 0.8 thr_md 0.6 epoch 9 in 418 GSP 59.57 ADA 47.04 AD 57.34\n",
      "Best SI = 37.77 t_index 0 thr_mc 0.7 thr_md 0.6 epoch 9 in 891 GSP 61.05 ADA 46.19 AD 61.14\n",
      "Best SI.5 = 410.15 t_index 3 thr_mc 0.5 thr_md 0.6 epoch 9 in 11345 GSP 57.96 ADA 38.28 AD 55.82\n",
      "Best SI1 = 234.15 t_index 3 thr_mc 0.5 thr_md 0.6 epoch 9 in 11345 GSP 57.96 ADA 38.28 AD 55.82\n",
      "Best SI1.5 = 103.12 t_index 2 thr_mc 0.6 thr_md 0.6 epoch 9 in 7296 GSP 58.18 ADA 40.50 AD 56.40\n",
      "Best SI2 = 61.59 t_index 0 thr_mc 0.6 thr_md 0.6 epoch 9 in 2497 GSP 60.23 ADA 44.05 AD 60.96\n",
      "Best SI3 = 26.77 t_index 0 thr_mc 0.7 thr_md 0.6 epoch 9 in 891 GSP 61.05 ADA 46.19 AD 61.14\n",
      "Best SI4 = 10.77 t_index 0 thr_mc 0.7 thr_md 0.6 epoch 9 in 891 GSP 61.05 ADA 46.19 AD 61.14\n",
      "Best SI5 = 0.90 t_index 0 thr_mc 0.7 thr_md 0.6 epoch 9 in 891 GSP 61.05 ADA 46.19 AD 61.14\n",
      "Best 99eGROI = 189.73 t_index 3 thr_mc 0.5 thr_md 0.6 epoch 9 in 11345 GSP 57.96 ADA 38.28 AD 55.82\n",
      "Best 99eROI = 28.60 t_index mean thr_mc 0.7 thr_md 0.6 epoch 9 in 1775 GSP 59.38 ADA 44.46 AD 57.58\n",
      "Best 99eROI.5 = 134.13 t_index 3 thr_mc 0.5 thr_md 0.6 epoch 9 in 11345 GSP 57.96 ADA 38.28 AD 55.82\n",
      "Best 99eROI1 = 78.54 t_index 3 thr_mc 0.5 thr_md 0.6 epoch 9 in 11345 GSP 57.96 ADA 38.28 AD 55.82\n",
      "Best 99eROI1.5 = 43.24 t_index mean thr_mc 0.7 thr_md 0.6 epoch 9 in 1775 GSP 59.38 ADA 44.46 AD 57.58\n",
      "Best 99eROI2 = 35.24 t_index mean thr_mc 0.7 thr_md 0.6 epoch 9 in 1775 GSP 59.38 ADA 44.46 AD 57.58\n",
      "Best 99eROI3 = 19.25 t_index mean thr_mc 0.7 thr_md 0.6 epoch 9 in 1775 GSP 59.38 ADA 44.46 AD 57.58\n",
      "Best 99eROI4 = 11.91 t_index 1 thr_mc 0.8 thr_md 0.6 epoch 9 in 418 GSP 59.57 ADA 47.04 AD 57.34\n",
      "Best 99eROI5 = 7.81 t_index 1 thr_mc 0.8 thr_md 0.6 epoch 9 in 418 GSP 59.57 ADA 47.04 AD 57.34\n",
      "\n",
      "The very best:\n",
      "Best eGROI = 208.66 t_index 2 thr_mc 0.5 thr_md 0.6 epoch 13 in 12745 GSP 56.74 ADA 38.20 AD 55.17\n",
      "Best eROI = 79.35 t_index 0 thr_mc 0.7 thr_md 0.5 epoch 0 in 2226 GSP 57.01 ADA 45.10 AD 54.12\n",
      "Best eROI.5 = 170.60 t_index 1 thr_mc 0.7 thr_md 0.5 epoch 0 in 5217 GSP 57.14 ADA 41.43 AD 53.99\n",
      "Best eROI1 = 144.52 t_index 1 thr_mc 0.7 thr_md 0.5 epoch 0 in 5217 GSP 57.14 ADA 41.43 AD 53.99\n",
      "Best eROI1.5 = 118.43 t_index 1 thr_mc 0.7 thr_md 0.5 epoch 0 in 5217 GSP 57.14 ADA 41.43 AD 53.99\n",
      "Best eROI2 = 92.35 t_index 1 thr_mc 0.7 thr_md 0.5 epoch 0 in 5217 GSP 57.14 ADA 41.43 AD 53.99\n",
      "Best eROI3 = 64.46 t_index 0 thr_mc 0.7 thr_md 0.5 epoch 0 in 2226 GSP 57.01 ADA 45.10 AD 54.12\n",
      "Best eROI4 = 42.20 t_index 0 thr_mc 0.7 thr_md 0.5 epoch 0 in 2226 GSP 57.01 ADA 45.10 AD 54.12\n",
      "Best eROI5 = 27.62 t_index 3 thr_mc 0.9 thr_md 0.5 epoch 14 in 184 GSP 55.43 ADA 49.93 AD 55.90\n",
      "Best SI = 37.77 t_index 0 thr_mc 0.7 thr_md 0.6 epoch 9 in 891 GSP 61.05 ADA 46.19 AD 61.14\n",
      "Best SI.5 = 411.04 t_index 3 thr_mc 0.5 thr_md 0.6 epoch 8 in 10432 GSP 58.26 ADA 38.17 AD 56.26\n",
      "Best SI1 = 234.15 t_index 3 thr_mc 0.5 thr_md 0.6 epoch 9 in 11345 GSP 57.96 ADA 38.28 AD 55.82\n",
      "Best SI1.5 = 134.23 t_index 2 thr_mc 0.6 thr_md 0.6 epoch 7 in 5509 GSP 59.21 ADA 40.40 AD 57.89\n",
      "Best SI2 = 80.55 t_index 3 thr_mc 0.5 thr_md 0.7 epoch 14 in 3365 GSP 60.77 ADA 42.78 AD 57.60\n",
      "Best SI3 = 26.77 t_index 0 thr_mc 0.7 thr_md 0.6 epoch 9 in 891 GSP 61.05 ADA 46.19 AD 61.14\n",
      "Best SI4 = 15.49 t_index 3 thr_mc 0.8 thr_md 0.6 epoch 5 in 67 GSP 82.09 ADA 62.60 AD 81.91\n",
      "Best SI5 = 14.49 t_index 3 thr_mc 0.8 thr_md 0.6 epoch 5 in 67 GSP 82.09 ADA 62.60 AD 81.91\n",
      "Best 99eGROI = 199.25 t_index 3 thr_mc 0.5 thr_md 0.6 epoch 10 in 12161 GSP 57.14 ADA 38.16 AD 55.40\n",
      "Best 99eROI = 37.00 t_index 3 thr_mc 0.9 thr_md 0.5 epoch 14 in 184 GSP 55.43 ADA 49.93 AD 55.90\n",
      "Best 99eROI.5 = 139.65 t_index 3 thr_mc 0.5 thr_md 0.6 epoch 10 in 12161 GSP 57.14 ADA 38.16 AD 55.40\n",
      "Best 99eROI1 = 87.49 t_index 1 thr_mc 0.6 thr_md 0.6 epoch 11 in 7915 GSP 57.71 ADA 40.70 AD 56.52\n",
      "Best 99eROI1.5 = 64.81 t_index 3 thr_mc 0.5 thr_md 0.7 epoch 14 in 3365 GSP 60.77 ADA 42.78 AD 57.60\n",
      "Best 99eROI2 = 48.32 t_index 3 thr_mc 0.5 thr_md 0.7 epoch 14 in 3365 GSP 60.77 ADA 42.78 AD 57.60\n",
      "Best 99eROI3 = 36.83 t_index 3 thr_mc 0.9 thr_md 0.5 epoch 14 in 184 GSP 55.43 ADA 49.93 AD 55.90\n",
      "Best 99eROI4 = 35.01 t_index 3 thr_mc 0.9 thr_md 0.5 epoch 14 in 184 GSP 55.43 ADA 49.93 AD 55.90\n",
      "Best 99eROI5 = 33.19 t_index 3 thr_mc 0.9 thr_md 0.5 epoch 14 in 184 GSP 55.43 ADA 49.93 AD 55.90\n",
      "Time=93.71 secs\n",
      "INFO:tensorflow:Restoring parameters from C:/Users/mgutierrez/root/Projects/SDC/py/RNN/weights/WRNN01010k5K5A/000010/000010\n",
      "Parameters loaded. Epoch 10\n",
      "Epoch 10 of 14. Getting output...\n"
     ]
    },
    {
     "name": "stderr",
     "output_type": "stream",
     "text": [
      "100%|███████████████████████████████████████████████████████████████████████████████████████████████████████████████████████████████████| 870/870 [01:19<00:00, 10.99it/s]\n"
     ]
    },
    {
     "name": "stdout",
     "output_type": "stream",
     "text": [
      "J_test = 1.853228\n",
      "Epoch 10, J_train = 1.5622252274150172, J_test = 1.8532279010476738\n",
      "Getting extended results...\n"
     ]
    },
    {
     "name": "stderr",
     "output_type": "stream",
     "text": [
      "100%|███████████████████████████████████████████████████████████████████████████████████████████████████████████████████████████████| 3725/3725 [00:00<00:00, 4249.09it/s]\n"
     ]
    },
    {
     "name": "stdout",
     "output_type": "stream",
     "text": [
      "Epoch = 10. Time index = 0. Threshold MC = 0.7. Threshold MD = 0.6\n",
      "RD = 1756 NZ = 2875 NZA = 3726 pNZ = 0.323% pNZA = 0.418% AD = 61.08% ADA = 47.13% NO = 1299 GSP = 60.05% NSP = 55.81%\n",
      "SI2 = 4.30 SI = -15.91 eGROI = 66.81% eROI = 34.43% eROI2 = 40.83% eROI3 = 27.84% mSpread = 0.0249%\n",
      "\n",
      "Getting extended results...\n"
     ]
    },
    {
     "name": "stderr",
     "output_type": "stream",
     "text": [
      "100%|█████████████████████████████████████████████████████████████████████████████████████████████████████████████████████████████| 14046/14046 [00:02<00:00, 4694.50it/s]\n"
     ]
    },
    {
     "name": "stdout",
     "output_type": "stream",
     "text": [
      "Epoch = 10. Time index = 1. Threshold MC = 0.7. Threshold MD = 0.6\n",
      "RD = 6135 NZ = 10783 NZA = 14047 pNZ = 1.211% pNZA = 1.577% AD = 56.90% ADA = 43.67% NO = 2693 GSP = 56.78% NSP = 52.10%\n",
      "SI2 = 3.10 SI = -24.85 eGROI = 72.86% eROI = 7.92% eROI2 = 19.00% eROI3 = -7.93% mSpread = 0.0241%\n",
      "\n",
      "Getting extended results...\n"
     ]
    },
    {
     "name": "stderr",
     "output_type": "stream",
     "text": [
      "100%|█████████████████████████████████████████████████████████████████████████████████████████████████████████████████████████████| 20242/20242 [00:06<00:00, 3195.72it/s]\n"
     ]
    },
    {
     "name": "stdout",
     "output_type": "stream",
     "text": [
      "Epoch = 10. Time index = 2. Threshold MC = 0.7. Threshold MD = 0.6\n",
      "RD = 8662 NZ = 15581 NZA = 20243 pNZ = 1.749% pNZA = 2.273% AD = 55.59% ADA = 42.79% NO = 3288 GSP = 56.11% NSP = 51.98%\n",
      "SI2 = 2.86 SI = -27.53 eGROI = 74.44% eROI = -3.73% eROI2 = 8.68% eROI3 = -24.20% mSpread = 0.0238%\n",
      "\n",
      "Getting extended results...\n"
     ]
    },
    {
     "name": "stderr",
     "output_type": "stream",
     "text": [
      "100%|█████████████████████████████████████████████████████████████████████████████████████████████████████████████████████████████| 25697/25697 [00:05<00:00, 4922.74it/s]\n"
     ]
    },
    {
     "name": "stdout",
     "output_type": "stream",
     "text": [
      "Epoch = 10. Time index = 3. Threshold MC = 0.7. Threshold MD = 0.6\n",
      "RD = 10766 NZ = 19735 NZA = 25698 pNZ = 2.216% pNZA = 2.885% AD = 54.55% ADA = 41.89% NO = 3753 GSP = 55.13% NSP = 50.81%\n",
      "SI2 = 1.81 SI = -30.12 eGROI = 66.83% eROI = -21.87% eROI2 = -8.23% eROI3 = -45.76% mSpread = 0.0236%\n",
      "\n",
      "Getting extended results...\n"
     ]
    },
    {
     "name": "stderr",
     "output_type": "stream",
     "text": [
      "100%|█████████████████████████████████████████████████████████████████████████████████████████████████████████████████████████████| 13910/13910 [00:02<00:00, 4892.02it/s]\n"
     ]
    },
    {
     "name": "stdout",
     "output_type": "stream",
     "text": [
      "Epoch = 10. Time index = mean. Threshold MC = 0.7. Threshold MD = 0.6\n",
      "RD = 6105 NZ = 10770 NZA = 13911 pNZ = 1.209% pNZA = 1.562% AD = 56.69% ADA = 43.89% NO = 2286 GSP = 57.17% NSP = 52.71%\n",
      "SI2 = 3.43 SI = -22.60 eGROI = 69.22% eROI = 13.93% eROI2 = 23.50% eROI3 = 0.64% mSpread = 0.0242%\n",
      "\n",
      "Getting extended results...\n"
     ]
    },
    {
     "name": "stderr",
     "output_type": "stream",
     "text": [
      "100%|█████████████████████████████████████████████████████████████████████████████████████████████████████████████████████████████| 13910/13910 [00:03<00:00, 4528.29it/s]\n"
     ]
    },
    {
     "name": "stdout",
     "output_type": "stream",
     "text": [
      "Epoch = 10. Time index = mean. Threshold MC = 0.7. Threshold MD = 0.6\n",
      "RD = 6105 NZ = 10770 NZA = 13911 pNZ = 1.209% pNZA = 1.562% AD = 56.69% ADA = 43.89% NO = 2286 GSP = 57.17% NSP = 52.71%\n",
      "SI2 = 3.43 SI = -22.60 eGROI = 69.22% eROI = 13.93% eROI2 = 23.50% eROI3 = 0.64% mSpread = 0.0242%\n",
      "\n",
      "Getting extended results...\n"
     ]
    },
    {
     "name": "stderr",
     "output_type": "stream",
     "text": [
      "100%|█████████████████████████████████████████████████████████████████████████████████████████████████████████████████████████████| 13910/13910 [00:03<00:00, 4436.06it/s]\n"
     ]
    },
    {
     "name": "stdout",
     "output_type": "stream",
     "text": [
      "Epoch = 10. Time index = mean. Threshold MC = 0.7. Threshold MD = 0.6\n",
      "RD = 6105 NZ = 10770 NZA = 13911 pNZ = 1.209% pNZA = 1.562% AD = 56.69% ADA = 43.89% NO = 2286 GSP = 57.17% NSP = 52.71%\n",
      "SI2 = 3.43 SI = -22.60 eGROI = 69.22% eROI = 13.93% eROI2 = 23.50% eROI3 = 0.64% mSpread = 0.0242%\n",
      "\n",
      "Getting extended results...\n"
     ]
    },
    {
     "name": "stderr",
     "output_type": "stream",
     "text": [
      "100%|█████████████████████████████████████████████████████████████████████████████████████████████████████████████████████████████| 13910/13910 [00:03<00:00, 4621.32it/s]\n"
     ]
    },
    {
     "name": "stdout",
     "output_type": "stream",
     "text": [
      "Epoch = 10. Time index = mean. Threshold MC = 0.7. Threshold MD = 0.6\n",
      "RD = 6105 NZ = 10770 NZA = 13911 pNZ = 1.209% pNZA = 1.562% AD = 56.69% ADA = 43.89% NO = 2286 GSP = 57.17% NSP = 52.71%\n",
      "SI2 = 3.43 SI = -22.60 eGROI = 69.22% eROI = 13.93% eROI2 = 23.50% eROI3 = 0.64% mSpread = 0.0242%\n",
      "\n",
      "Getting extended results...\n"
     ]
    },
    {
     "name": "stderr",
     "output_type": "stream",
     "text": [
      "100%|█████████████████████████████████████████████████████████████████████████████████████████████████████████████████████████████| 13910/13910 [00:02<00:00, 4645.95it/s]\n"
     ]
    },
    {
     "name": "stdout",
     "output_type": "stream",
     "text": [
      "Epoch = 10. Time index = mean. Threshold MC = 0.7. Threshold MD = 0.6\n",
      "RD = 6105 NZ = 10770 NZA = 13911 pNZ = 1.209% pNZA = 1.562% AD = 56.69% ADA = 43.89% NO = 2286 GSP = 57.17% NSP = 52.71%\n",
      "SI2 = 3.43 SI = -22.60 eGROI = 69.22% eROI = 13.93% eROI2 = 23.50% eROI3 = 0.64% mSpread = 0.0242%\n",
      "\n",
      "Getting extended results...\n"
     ]
    },
    {
     "name": "stderr",
     "output_type": "stream",
     "text": [
      "100%|█████████████████████████████████████████████████████████████████████████████████████████████████████████████████████████████| 13910/13910 [00:02<00:00, 4866.42it/s]\n"
     ]
    },
    {
     "name": "stdout",
     "output_type": "stream",
     "text": [
      "Epoch = 10. Time index = mean. Threshold MC = 0.7. Threshold MD = 0.6\n",
      "RD = 6105 NZ = 10770 NZA = 13911 pNZ = 1.209% pNZA = 1.562% AD = 56.69% ADA = 43.89% NO = 2286 GSP = 57.17% NSP = 52.71%\n",
      "SI2 = 3.43 SI = -22.60 eGROI = 69.22% eROI = 13.93% eROI2 = 23.50% eROI3 = 0.64% mSpread = 0.0242%\n",
      "\n",
      "Getting extended results...\n"
     ]
    },
    {
     "name": "stderr",
     "output_type": "stream",
     "text": [
      "100%|█████████████████████████████████████████████████████████████████████████████████████████████████████████████████████████████| 13910/13910 [00:03<00:00, 4526.82it/s]\n"
     ]
    },
    {
     "name": "stdout",
     "output_type": "stream",
     "text": [
      "Epoch = 10. Time index = mean. Threshold MC = 0.7. Threshold MD = 0.6\n",
      "RD = 6105 NZ = 10770 NZA = 13911 pNZ = 1.209% pNZA = 1.562% AD = 56.69% ADA = 43.89% NO = 2286 GSP = 57.17% NSP = 52.71%\n",
      "SI2 = 3.43 SI = -22.60 eGROI = 69.22% eROI = 13.93% eROI2 = 23.50% eROI3 = 0.64% mSpread = 0.0242%\n",
      "\n",
      "Getting extended results...\n"
     ]
    },
    {
     "name": "stderr",
     "output_type": "stream",
     "text": [
      "100%|█████████████████████████████████████████████████████████████████████████████████████████████████████████████████████████████| 13910/13910 [00:02<00:00, 4869.81it/s]\n"
     ]
    },
    {
     "name": "stdout",
     "output_type": "stream",
     "text": [
      "Epoch = 10. Time index = mean. Threshold MC = 0.7. Threshold MD = 0.6\n",
      "RD = 6105 NZ = 10770 NZA = 13911 pNZ = 1.209% pNZA = 1.562% AD = 56.69% ADA = 43.89% NO = 2286 GSP = 57.17% NSP = 52.71%\n",
      "SI2 = 3.43 SI = -22.60 eGROI = 69.22% eROI = 13.93% eROI2 = 23.50% eROI3 = 0.64% mSpread = 0.0242%\n",
      "\n",
      "Getting extended results...\n"
     ]
    },
    {
     "name": "stderr",
     "output_type": "stream",
     "text": [
      "100%|█████████████████████████████████████████████████████████████████████████████████████████████████████████████████████████████| 13910/13910 [00:03<00:00, 3748.23it/s]\n"
     ]
    },
    {
     "name": "stdout",
     "output_type": "stream",
     "text": [
      "Epoch = 10. Time index = mean. Threshold MC = 0.7. Threshold MD = 0.6\n",
      "RD = 6105 NZ = 10770 NZA = 13911 pNZ = 1.209% pNZA = 1.562% AD = 56.69% ADA = 43.89% NO = 2286 GSP = 57.17% NSP = 52.71%\n",
      "SI2 = 3.43 SI = -22.60 eGROI = 69.22% eROI = 13.93% eROI2 = 23.50% eROI3 = 0.64% mSpread = 0.0242%\n",
      "\n",
      "Getting extended results...\n"
     ]
    },
    {
     "name": "stderr",
     "output_type": "stream",
     "text": [
      "100%|█████████████████████████████████████████████████████████████████████████████████████████████████████████████████████████████| 13910/13910 [00:02<00:00, 4755.19it/s]\n"
     ]
    },
    {
     "name": "stdout",
     "output_type": "stream",
     "text": [
      "Epoch = 10. Time index = mean. Threshold MC = 0.7. Threshold MD = 0.6\n",
      "RD = 6105 NZ = 10770 NZA = 13911 pNZ = 1.209% pNZA = 1.562% AD = 56.69% ADA = 43.89% NO = 2286 GSP = 57.17% NSP = 52.71%\n",
      "SI2 = 3.43 SI = -22.60 eGROI = 69.22% eROI = 13.93% eROI2 = 23.50% eROI3 = 0.64% mSpread = 0.0242%\n",
      "\n",
      "Getting extended results...\n"
     ]
    },
    {
     "name": "stderr",
     "output_type": "stream",
     "text": [
      "100%|█████████████████████████████████████████████████████████████████████████████████████████████████████████████████████████████| 13910/13910 [00:03<00:00, 3895.50it/s]\n"
     ]
    },
    {
     "name": "stdout",
     "output_type": "stream",
     "text": [
      "Epoch = 10. Time index = mean. Threshold MC = 0.7. Threshold MD = 0.6\n",
      "RD = 6105 NZ = 10770 NZA = 13911 pNZ = 1.209% pNZA = 1.562% AD = 56.69% ADA = 43.89% NO = 2286 GSP = 57.17% NSP = 52.71%\n",
      "SI2 = 3.43 SI = -22.60 eGROI = 69.22% eROI = 13.93% eROI2 = 23.50% eROI3 = 0.64% mSpread = 0.0242%\n",
      "\n",
      "Getting extended results...\n"
     ]
    },
    {
     "name": "stderr",
     "output_type": "stream",
     "text": [
      "100%|█████████████████████████████████████████████████████████████████████████████████████████████████████████████████████████████| 13910/13910 [00:02<00:00, 4885.17it/s]\n"
     ]
    },
    {
     "name": "stdout",
     "output_type": "stream",
     "text": [
      "Epoch = 10. Time index = mean. Threshold MC = 0.7. Threshold MD = 0.6\n",
      "RD = 6105 NZ = 10770 NZA = 13911 pNZ = 1.209% pNZA = 1.562% AD = 56.69% ADA = 43.89% NO = 2286 GSP = 57.17% NSP = 52.71%\n",
      "SI2 = 3.43 SI = -22.60 eGROI = 69.22% eROI = 13.93% eROI2 = 23.50% eROI3 = 0.64% mSpread = 0.0242%\n",
      "\n",
      "Getting extended results...\n"
     ]
    },
    {
     "name": "stderr",
     "output_type": "stream",
     "text": [
      "100%|█████████████████████████████████████████████████████████████████████████████████████████████████████████████████████████████| 13910/13910 [00:02<00:00, 4923.10it/s]\n"
     ]
    },
    {
     "name": "stdout",
     "output_type": "stream",
     "text": [
      "Epoch = 10. Time index = mean. Threshold MC = 0.7. Threshold MD = 0.6\n",
      "RD = 6105 NZ = 10770 NZA = 13911 pNZ = 1.209% pNZA = 1.562% AD = 56.69% ADA = 43.89% NO = 2286 GSP = 57.17% NSP = 52.71%\n",
      "SI2 = 3.43 SI = -22.60 eGROI = 69.22% eROI = 13.93% eROI2 = 23.50% eROI3 = 0.64% mSpread = 0.0242%\n",
      "\n",
      "Getting extended results...\n"
     ]
    },
    {
     "name": "stderr",
     "output_type": "stream",
     "text": [
      "100%|█████████████████████████████████████████████████████████████████████████████████████████████████████████████████████████████| 13910/13910 [00:02<00:00, 4975.80it/s]\n"
     ]
    },
    {
     "name": "stdout",
     "output_type": "stream",
     "text": [
      "Epoch = 10. Time index = mean. Threshold MC = 0.7. Threshold MD = 0.6\n",
      "RD = 6105 NZ = 10770 NZA = 13911 pNZ = 1.209% pNZA = 1.562% AD = 56.69% ADA = 43.89% NO = 2286 GSP = 57.17% NSP = 52.71%\n",
      "SI2 = 3.43 SI = -22.60 eGROI = 69.22% eROI = 13.93% eROI2 = 23.50% eROI3 = 0.64% mSpread = 0.0242%\n",
      "\n",
      "Getting extended results...\n"
     ]
    },
    {
     "name": "stderr",
     "output_type": "stream",
     "text": [
      "100%|█████████████████████████████████████████████████████████████████████████████████████████████████████████████████████████████| 13910/13910 [00:03<00:00, 4347.61it/s]\n"
     ]
    },
    {
     "name": "stdout",
     "output_type": "stream",
     "text": [
      "Epoch = 10. Time index = mean. Threshold MC = 0.7. Threshold MD = 0.6\n",
      "RD = 6105 NZ = 10770 NZA = 13911 pNZ = 1.209% pNZA = 1.562% AD = 56.69% ADA = 43.89% NO = 2286 GSP = 57.17% NSP = 52.71%\n",
      "SI2 = 3.43 SI = -22.60 eGROI = 69.22% eROI = 13.93% eROI2 = 23.50% eROI3 = 0.64% mSpread = 0.0242%\n",
      "\n",
      "Getting extended results...\n"
     ]
    },
    {
     "name": "stderr",
     "output_type": "stream",
     "text": [
      "100%|█████████████████████████████████████████████████████████████████████████████████████████████████████████████████████████████| 13910/13910 [00:02<00:00, 4705.46it/s]\n"
     ]
    },
    {
     "name": "stdout",
     "output_type": "stream",
     "text": [
      "Epoch = 10. Time index = mean. Threshold MC = 0.7. Threshold MD = 0.6\n",
      "RD = 6105 NZ = 10770 NZA = 13911 pNZ = 1.209% pNZA = 1.562% AD = 56.69% ADA = 43.89% NO = 2286 GSP = 57.17% NSP = 52.71%\n",
      "SI2 = 3.43 SI = -22.60 eGROI = 69.22% eROI = 13.93% eROI2 = 23.50% eROI3 = 0.64% mSpread = 0.0242%\n",
      "\n",
      "Getting extended results...\n"
     ]
    },
    {
     "name": "stderr",
     "output_type": "stream",
     "text": [
      "100%|█████████████████████████████████████████████████████████████████████████████████████████████████████████████████████████████| 13910/13910 [00:02<00:00, 4659.92it/s]\n"
     ]
    },
    {
     "name": "stdout",
     "output_type": "stream",
     "text": [
      "Epoch = 10. Time index = mean. Threshold MC = 0.7. Threshold MD = 0.6\n",
      "RD = 6105 NZ = 10770 NZA = 13911 pNZ = 1.209% pNZA = 1.562% AD = 56.69% ADA = 43.89% NO = 2286 GSP = 57.17% NSP = 52.71%\n",
      "SI2 = 3.43 SI = -22.60 eGROI = 69.22% eROI = 13.93% eROI2 = 23.50% eROI3 = 0.64% mSpread = 0.0242%\n",
      "\n",
      "Getting extended results...\n"
     ]
    },
    {
     "name": "stderr",
     "output_type": "stream",
     "text": [
      "100%|█████████████████████████████████████████████████████████████████████████████████████████████████████████████████████████████| 13910/13910 [00:03<00:00, 4509.22it/s]\n"
     ]
    },
    {
     "name": "stdout",
     "output_type": "stream",
     "text": [
      "Epoch = 10. Time index = mean. Threshold MC = 0.7. Threshold MD = 0.6\n",
      "RD = 6105 NZ = 10770 NZA = 13911 pNZ = 1.209% pNZA = 1.562% AD = 56.69% ADA = 43.89% NO = 2286 GSP = 57.17% NSP = 52.71%\n",
      "SI2 = 3.43 SI = -22.60 eGROI = 69.22% eROI = 13.93% eROI2 = 23.50% eROI3 = 0.64% mSpread = 0.0242%\n",
      "\n",
      "Getting extended results...\n"
     ]
    },
    {
     "name": "stderr",
     "output_type": "stream",
     "text": [
      "100%|█████████████████████████████████████████████████████████████████████████████████████████████████████████████████████████████| 13910/13910 [00:03<00:00, 3509.60it/s]\n"
     ]
    },
    {
     "name": "stdout",
     "output_type": "stream",
     "text": [
      "Epoch = 10. Time index = mean. Threshold MC = 0.7. Threshold MD = 0.6\n",
      "RD = 6105 NZ = 10770 NZA = 13911 pNZ = 1.209% pNZA = 1.562% AD = 56.69% ADA = 43.89% NO = 2286 GSP = 57.17% NSP = 52.71%\n",
      "SI2 = 3.43 SI = -22.60 eGROI = 69.22% eROI = 13.93% eROI2 = 23.50% eROI3 = 0.64% mSpread = 0.0242%\n",
      "\n",
      "Getting extended results...\n"
     ]
    },
    {
     "name": "stderr",
     "output_type": "stream",
     "text": [
      "100%|█████████████████████████████████████████████████████████████████████████████████████████████████████████████████████████████| 13910/13910 [00:02<00:00, 4700.69it/s]\n"
     ]
    },
    {
     "name": "stdout",
     "output_type": "stream",
     "text": [
      "Epoch = 10. Time index = mean. Threshold MC = 0.7. Threshold MD = 0.6\n",
      "RD = 6105 NZ = 10770 NZA = 13911 pNZ = 1.209% pNZA = 1.562% AD = 56.69% ADA = 43.89% NO = 2286 GSP = 57.17% NSP = 52.71%\n",
      "SI2 = 3.43 SI = -22.60 eGROI = 69.22% eROI = 13.93% eROI2 = 23.50% eROI3 = 0.64% mSpread = 0.0242%\n",
      "\n",
      "Getting extended results...\n"
     ]
    },
    {
     "name": "stderr",
     "output_type": "stream",
     "text": [
      "100%|█████████████████████████████████████████████████████████████████████████████████████████████████████████████████████████████| 13910/13910 [00:02<00:00, 4727.78it/s]\n"
     ]
    },
    {
     "name": "stdout",
     "output_type": "stream",
     "text": [
      "Epoch = 10. Time index = mean. Threshold MC = 0.7. Threshold MD = 0.6\n",
      "RD = 6105 NZ = 10770 NZA = 13911 pNZ = 1.209% pNZA = 1.562% AD = 56.69% ADA = 43.89% NO = 2286 GSP = 57.17% NSP = 52.71%\n",
      "SI2 = 3.43 SI = -22.60 eGROI = 69.22% eROI = 13.93% eROI2 = 23.50% eROI3 = 0.64% mSpread = 0.0242%\n",
      "\n",
      "Getting extended results...\n"
     ]
    },
    {
     "name": "stderr",
     "output_type": "stream",
     "text": [
      "100%|█████████████████████████████████████████████████████████████████████████████████████████████████████████████████████████████| 13910/13910 [00:02<00:00, 4681.82it/s]\n"
     ]
    },
    {
     "name": "stdout",
     "output_type": "stream",
     "text": [
      "Epoch = 10. Time index = mean. Threshold MC = 0.7. Threshold MD = 0.6\n",
      "RD = 6105 NZ = 10770 NZA = 13911 pNZ = 1.209% pNZA = 1.562% AD = 56.69% ADA = 43.89% NO = 2286 GSP = 57.17% NSP = 52.71%\n",
      "SI2 = 3.43 SI = -22.60 eGROI = 69.22% eROI = 13.93% eROI2 = 23.50% eROI3 = 0.64% mSpread = 0.0242%\n",
      "\n",
      "Getting extended results...\n"
     ]
    },
    {
     "name": "stderr",
     "output_type": "stream",
     "text": [
      "100%|█████████████████████████████████████████████████████████████████████████████████████████████████████████████████████████████| 13910/13910 [00:02<00:00, 4811.02it/s]\n"
     ]
    },
    {
     "name": "stdout",
     "output_type": "stream",
     "text": [
      "Epoch = 10. Time index = mean. Threshold MC = 0.7. Threshold MD = 0.6\n",
      "RD = 6105 NZ = 10770 NZA = 13911 pNZ = 1.209% pNZA = 1.562% AD = 56.69% ADA = 43.89% NO = 2286 GSP = 57.17% NSP = 52.71%\n",
      "SI2 = 3.43 SI = -22.60 eGROI = 69.22% eROI = 13.93% eROI2 = 23.50% eROI3 = 0.64% mSpread = 0.0242%\n",
      "\n",
      "Getting extended results...\n"
     ]
    },
    {
     "name": "stderr",
     "output_type": "stream",
     "text": [
      "100%|█████████████████████████████████████████████████████████████████████████████████████████████████████████████████████████████| 13910/13910 [00:02<00:00, 4837.71it/s]\n"
     ]
    },
    {
     "name": "stdout",
     "output_type": "stream",
     "text": [
      "Epoch = 10. Time index = mean. Threshold MC = 0.7. Threshold MD = 0.6\n",
      "RD = 6105 NZ = 10770 NZA = 13911 pNZ = 1.209% pNZA = 1.562% AD = 56.69% ADA = 43.89% NO = 2286 GSP = 57.17% NSP = 52.71%\n",
      "SI2 = 3.43 SI = -22.60 eGROI = 69.22% eROI = 13.93% eROI2 = 23.50% eROI3 = 0.64% mSpread = 0.0242%\n",
      "\n",
      "Getting extended results...\n"
     ]
    },
    {
     "name": "stderr",
     "output_type": "stream",
     "text": [
      "100%|█████████████████████████████████████████████████████████████████████████████████████████████████████████████████████████████| 13910/13910 [00:02<00:00, 4981.08it/s]\n"
     ]
    },
    {
     "name": "stdout",
     "output_type": "stream",
     "text": [
      "Epoch = 10. Time index = mean. Threshold MC = 0.7. Threshold MD = 0.6\n",
      "RD = 6105 NZ = 10770 NZA = 13911 pNZ = 1.209% pNZA = 1.562% AD = 56.69% ADA = 43.89% NO = 2286 GSP = 57.17% NSP = 52.71%\n",
      "SI2 = 3.43 SI = -22.60 eGROI = 69.22% eROI = 13.93% eROI2 = 23.50% eROI3 = 0.64% mSpread = 0.0242%\n",
      "\n",
      "Getting extended results...\n"
     ]
    },
    {
     "name": "stderr",
     "output_type": "stream",
     "text": [
      "100%|█████████████████████████████████████████████████████████████████████████████████████████████████████████████████████████████| 13910/13910 [00:02<00:00, 4769.89it/s]\n"
     ]
    },
    {
     "name": "stdout",
     "output_type": "stream",
     "text": [
      "Epoch = 10. Time index = mean. Threshold MC = 0.7. Threshold MD = 0.6\n",
      "RD = 6105 NZ = 10770 NZA = 13911 pNZ = 1.209% pNZA = 1.562% AD = 56.69% ADA = 43.89% NO = 2286 GSP = 57.17% NSP = 52.71%\n",
      "SI2 = 3.43 SI = -22.60 eGROI = 69.22% eROI = 13.93% eROI2 = 23.50% eROI3 = 0.64% mSpread = 0.0242%\n",
      "\n",
      "Best eGROI = 195.52 t_index 3 thr_mc 0.5 thr_md 0.6 epoch 10 in 12161 GSP 57.14 ADA 38.16 AD 55.40\n",
      "Best eROI = 34.43 t_index 0 thr_mc 0.7 thr_md 0.6 epoch 10 in 1299 GSP 60.05 ADA 47.13 AD 61.08\n",
      "Best eROI.5 = 134.72 t_index 3 thr_mc 0.5 thr_md 0.6 epoch 10 in 12161 GSP 57.14 ADA 38.16 AD 55.40\n",
      "Best eROI1 = 79.03 t_index 2 thr_mc 0.5 thr_md 0.6 epoch 10 in 10955 GSP 57.74 ADA 38.69 AD 56.18\n",
      "Best eROI1.5 = 50.86 t_index 0 thr_mc 0.6 thr_md 0.6 epoch 10 in 3657 GSP 59.20 ADA 43.83 AD 60.04\n",
      "Best eROI2 = 40.83 t_index 0 thr_mc 0.7 thr_md 0.6 epoch 10 in 1299 GSP 60.05 ADA 47.13 AD 61.08\n",
      "Best eROI3 = 27.84 t_index 0 thr_mc 0.7 thr_md 0.6 epoch 10 in 1299 GSP 60.05 ADA 47.13 AD 61.08\n",
      "Best eROI4 = 24.48 t_index 0 thr_mc 0.8 thr_md 0.6 epoch 10 in 212 GSP 64.15 ADA 55.03 AD 64.73\n",
      "Best eROI5 = 22.36 t_index 0 thr_mc 0.8 thr_md 0.6 epoch 10 in 212 GSP 64.15 ADA 55.03 AD 64.73\n",
      "Best SI = 36.53 t_index 0 thr_mc 0.7 thr_md 0.6 epoch 10 in 1299 GSP 60.05 ADA 47.13 AD 61.08\n",
      "Best SI.5 = 389.85 t_index 2 thr_mc 0.5 thr_md 0.6 epoch 10 in 10955 GSP 57.74 ADA 38.69 AD 56.18\n",
      "Best SI1 = 226.85 t_index 2 thr_mc 0.5 thr_md 0.6 epoch 10 in 10955 GSP 57.74 ADA 38.69 AD 56.18\n",
      "Best SI1.5 = 90.19 t_index 2 thr_mc 0.6 thr_md 0.6 epoch 10 in 8277 GSP 57.68 ADA 40.44 AD 56.12\n",
      "Best SI2 = 37.79 t_index 0 thr_mc 0.6 thr_md 0.6 epoch 10 in 3657 GSP 59.20 ADA 43.83 AD 60.04\n",
      "Best SI3 = 18.53 t_index 0 thr_mc 0.7 thr_md 0.6 epoch 10 in 1299 GSP 60.05 ADA 47.13 AD 61.08\n",
      "Best SI4 = 7.64 t_index 0 thr_mc 0.8 thr_md 0.6 epoch 10 in 212 GSP 64.15 ADA 55.03 AD 64.73\n",
      "Best SI5 = 5.64 t_index 0 thr_mc 0.8 thr_md 0.6 epoch 10 in 212 GSP 64.15 ADA 55.03 AD 64.73\n",
      "Best 99eGROI = 199.25 t_index 3 thr_mc 0.5 thr_md 0.6 epoch 10 in 12161 GSP 57.14 ADA 38.16 AD 55.40\n",
      "Best 99eROI = 36.96 t_index 0 thr_mc 0.7 thr_md 0.6 epoch 10 in 1299 GSP 60.05 ADA 47.13 AD 61.08\n",
      "Best 99eROI.5 = 139.65 t_index 3 thr_mc 0.5 thr_md 0.6 epoch 10 in 12161 GSP 57.14 ADA 38.16 AD 55.40\n",
      "Best 99eROI1 = 83.29 t_index 2 thr_mc 0.6 thr_md 0.6 epoch 10 in 8277 GSP 57.68 ADA 40.44 AD 56.12\n",
      "Best 99eROI1.5 = 48.90 t_index 0 thr_mc 0.7 thr_md 0.6 epoch 10 in 1299 GSP 60.05 ADA 47.13 AD 61.08\n",
      "Best 99eROI2 = 42.52 t_index 0 thr_mc 0.7 thr_md 0.6 epoch 10 in 1299 GSP 60.05 ADA 47.13 AD 61.08\n",
      "Best 99eROI3 = 31.34 t_index 0 thr_mc 0.8 thr_md 0.6 epoch 10 in 212 GSP 64.15 ADA 55.03 AD 64.73\n",
      "Best 99eROI4 = 29.26 t_index 0 thr_mc 0.8 thr_md 0.6 epoch 10 in 212 GSP 64.15 ADA 55.03 AD 64.73\n",
      "Best 99eROI5 = 27.18 t_index 0 thr_mc 0.8 thr_md 0.6 epoch 10 in 212 GSP 64.15 ADA 55.03 AD 64.73\n",
      "\n",
      "The very best:\n",
      "Best eGROI = 208.66 t_index 2 thr_mc 0.5 thr_md 0.6 epoch 13 in 12745 GSP 56.74 ADA 38.20 AD 55.17\n",
      "Best eROI = 79.35 t_index 0 thr_mc 0.7 thr_md 0.5 epoch 0 in 2226 GSP 57.01 ADA 45.10 AD 54.12\n",
      "Best eROI.5 = 170.60 t_index 1 thr_mc 0.7 thr_md 0.5 epoch 0 in 5217 GSP 57.14 ADA 41.43 AD 53.99\n",
      "Best eROI1 = 144.52 t_index 1 thr_mc 0.7 thr_md 0.5 epoch 0 in 5217 GSP 57.14 ADA 41.43 AD 53.99\n",
      "Best eROI1.5 = 118.43 t_index 1 thr_mc 0.7 thr_md 0.5 epoch 0 in 5217 GSP 57.14 ADA 41.43 AD 53.99\n",
      "Best eROI2 = 92.35 t_index 1 thr_mc 0.7 thr_md 0.5 epoch 0 in 5217 GSP 57.14 ADA 41.43 AD 53.99\n",
      "Best eROI3 = 64.46 t_index 0 thr_mc 0.7 thr_md 0.5 epoch 0 in 2226 GSP 57.01 ADA 45.10 AD 54.12\n",
      "Best eROI4 = 42.20 t_index 0 thr_mc 0.7 thr_md 0.5 epoch 0 in 2226 GSP 57.01 ADA 45.10 AD 54.12\n",
      "Best eROI5 = 27.62 t_index 3 thr_mc 0.9 thr_md 0.5 epoch 14 in 184 GSP 55.43 ADA 49.93 AD 55.90\n",
      "Best SI = 37.77 t_index 0 thr_mc 0.7 thr_md 0.6 epoch 9 in 891 GSP 61.05 ADA 46.19 AD 61.14\n",
      "Best SI.5 = 411.04 t_index 3 thr_mc 0.5 thr_md 0.6 epoch 8 in 10432 GSP 58.26 ADA 38.17 AD 56.26\n",
      "Best SI1 = 234.15 t_index 3 thr_mc 0.5 thr_md 0.6 epoch 9 in 11345 GSP 57.96 ADA 38.28 AD 55.82\n",
      "Best SI1.5 = 134.23 t_index 2 thr_mc 0.6 thr_md 0.6 epoch 7 in 5509 GSP 59.21 ADA 40.40 AD 57.89\n",
      "Best SI2 = 80.55 t_index 3 thr_mc 0.5 thr_md 0.7 epoch 14 in 3365 GSP 60.77 ADA 42.78 AD 57.60\n",
      "Best SI3 = 26.77 t_index 0 thr_mc 0.7 thr_md 0.6 epoch 9 in 891 GSP 61.05 ADA 46.19 AD 61.14\n",
      "Best SI4 = 15.49 t_index 3 thr_mc 0.8 thr_md 0.6 epoch 5 in 67 GSP 82.09 ADA 62.60 AD 81.91\n",
      "Best SI5 = 14.49 t_index 3 thr_mc 0.8 thr_md 0.6 epoch 5 in 67 GSP 82.09 ADA 62.60 AD 81.91\n",
      "Best 99eGROI = 199.25 t_index 3 thr_mc 0.5 thr_md 0.6 epoch 10 in 12161 GSP 57.14 ADA 38.16 AD 55.40\n",
      "Best 99eROI = 37.00 t_index 3 thr_mc 0.9 thr_md 0.5 epoch 14 in 184 GSP 55.43 ADA 49.93 AD 55.90\n",
      "Best 99eROI.5 = 139.65 t_index 3 thr_mc 0.5 thr_md 0.6 epoch 10 in 12161 GSP 57.14 ADA 38.16 AD 55.40\n",
      "Best 99eROI1 = 87.49 t_index 1 thr_mc 0.6 thr_md 0.6 epoch 11 in 7915 GSP 57.71 ADA 40.70 AD 56.52\n",
      "Best 99eROI1.5 = 64.81 t_index 3 thr_mc 0.5 thr_md 0.7 epoch 14 in 3365 GSP 60.77 ADA 42.78 AD 57.60\n",
      "Best 99eROI2 = 48.32 t_index 3 thr_mc 0.5 thr_md 0.7 epoch 14 in 3365 GSP 60.77 ADA 42.78 AD 57.60\n",
      "Best 99eROI3 = 36.83 t_index 3 thr_mc 0.9 thr_md 0.5 epoch 14 in 184 GSP 55.43 ADA 49.93 AD 55.90\n",
      "Best 99eROI4 = 35.01 t_index 3 thr_mc 0.9 thr_md 0.5 epoch 14 in 184 GSP 55.43 ADA 49.93 AD 55.90\n",
      "Best 99eROI5 = 33.19 t_index 3 thr_mc 0.9 thr_md 0.5 epoch 14 in 184 GSP 55.43 ADA 49.93 AD 55.90\n",
      "Time=117.86 secs\n",
      "INFO:tensorflow:Restoring parameters from C:/Users/mgutierrez/root/Projects/SDC/py/RNN/weights/WRNN01010k5K5A/000011/000011\n",
      "Parameters loaded. Epoch 11\n",
      "Epoch 11 of 14. Getting output...\n"
     ]
    },
    {
     "name": "stderr",
     "output_type": "stream",
     "text": [
      "100%|███████████████████████████████████████████████████████████████████████████████████████████████████████████████████████████████████| 870/870 [01:14<00:00, 11.75it/s]\n"
     ]
    },
    {
     "name": "stdout",
     "output_type": "stream",
     "text": [
      "J_test = 1.853726\n",
      "Epoch 11, J_train = 1.5616700229767084, J_test = 1.8537264044257415\n",
      "Getting extended results...\n"
     ]
    },
    {
     "name": "stderr",
     "output_type": "stream",
     "text": [
      "100%|███████████████████████████████████████████████████████████████████████████████████████████████████████████████████████████████| 5726/5726 [00:01<00:00, 3566.02it/s]\n"
     ]
    },
    {
     "name": "stdout",
     "output_type": "stream",
     "text": [
      "Epoch = 11. Time index = 0. Threshold MC = 0.7. Threshold MD = 0.6\n",
      "RD = 2626 NZ = 4398 NZA = 5727 pNZ = 0.494% pNZA = 0.643% AD = 59.71% ADA = 45.85% NO = 1668 GSP = 59.53% NSP = 55.04%\n",
      "SI2 = 4.99 SI = -18.35 eGROI = 65.62% eROI = 23.93% eROI2 = 32.26% eROI3 = 15.58% mSpread = 0.0250%\n",
      "\n",
      "Getting extended results...\n"
     ]
    },
    {
     "name": "stderr",
     "output_type": "stream",
     "text": [
      "100%|█████████████████████████████████████████████████████████████████████████████████████████████████████████████████████████████| 17485/17485 [00:03<00:00, 4844.35it/s]\n"
     ]
    },
    {
     "name": "stdout",
     "output_type": "stream",
     "text": [
      "Epoch = 11. Time index = 1. Threshold MC = 0.7. Threshold MD = 0.6\n",
      "RD = 7521 NZ = 13408 NZA = 17486 pNZ = 1.506% pNZA = 1.963% AD = 56.09% ADA = 43.01% NO = 3264 GSP = 55.73% NSP = 51.72%\n",
      "SI2 = 2.56 SI = -27.58 eGROI = 76.26% eROI = -2.57% eROI2 = 10.98% eROI3 = -21.66% mSpread = 0.0242%\n",
      "\n",
      "Getting extended results...\n"
     ]
    },
    {
     "name": "stderr",
     "output_type": "stream",
     "text": [
      "100%|█████████████████████████████████████████████████████████████████████████████████████████████████████████████████████████████| 24274/24274 [00:05<00:00, 4838.73it/s]\n"
     ]
    },
    {
     "name": "stdout",
     "output_type": "stream",
     "text": [
      "Epoch = 11. Time index = 2. Threshold MC = 0.7. Threshold MD = 0.6\n",
      "RD = 10279 NZ = 18693 NZA = 24275 pNZ = 2.099% pNZA = 2.726% AD = 54.99% ADA = 42.34% NO = 3773 GSP = 54.94% NSP = 50.68%\n",
      "SI2 = 1.32 SI = -30.29 eGROI = 61.73% eROI = -27.05% eROI2 = -13.73% eROI3 = -51.46% mSpread = 0.0235%\n",
      "\n",
      "Getting extended results...\n"
     ]
    },
    {
     "name": "stderr",
     "output_type": "stream",
     "text": [
      "100%|█████████████████████████████████████████████████████████████████████████████████████████████████████████████████████████████| 29810/29810 [00:06<00:00, 4654.98it/s]\n"
     ]
    },
    {
     "name": "stdout",
     "output_type": "stream",
     "text": [
      "Epoch = 11. Time index = 3. Threshold MC = 0.7. Threshold MD = 0.6\n",
      "RD = 12372 NZ = 22872 NZA = 29811 pNZ = 2.568% pNZA = 3.347% AD = 54.09% ADA = 41.50% NO = 4249 GSP = 54.51% NSP = 49.99%\n",
      "SI2 = 0.63 SI = -32.59 eGROI = 75.28% eROI = -24.42% eROI2 = -9.70% eROI3 = -52.19% mSpread = 0.0235%\n",
      "\n",
      "Getting extended results...\n"
     ]
    },
    {
     "name": "stderr",
     "output_type": "stream",
     "text": [
      "100%|█████████████████████████████████████████████████████████████████████████████████████████████████████████████████████████████| 16998/16998 [00:03<00:00, 4524.40it/s]\n"
     ]
    },
    {
     "name": "stdout",
     "output_type": "stream",
     "text": [
      "Epoch = 11. Time index = mean. Threshold MC = 0.7. Threshold MD = 0.6\n",
      "RD = 7397 NZ = 13103 NZA = 16999 pNZ = 1.471% pNZA = 1.909% AD = 56.45% ADA = 43.51% NO = 2843 GSP = 56.91% NSP = 52.80%\n",
      "SI2 = 3.54 SI = -25.16 eGROI = 81.46% eROI = 13.39% eROI2 = 24.60% eROI3 = -3.83% mSpread = 0.0239%\n",
      "\n",
      "Getting extended results...\n"
     ]
    },
    {
     "name": "stderr",
     "output_type": "stream",
     "text": [
      "100%|█████████████████████████████████████████████████████████████████████████████████████████████████████████████████████████████| 16998/16998 [00:03<00:00, 4770.05it/s]\n"
     ]
    },
    {
     "name": "stdout",
     "output_type": "stream",
     "text": [
      "Epoch = 11. Time index = mean. Threshold MC = 0.7. Threshold MD = 0.6\n",
      "RD = 7397 NZ = 13103 NZA = 16999 pNZ = 1.471% pNZA = 1.909% AD = 56.45% ADA = 43.51% NO = 2843 GSP = 56.91% NSP = 52.80%\n",
      "SI2 = 3.54 SI = -25.16 eGROI = 81.46% eROI = 13.39% eROI2 = 24.60% eROI3 = -3.83% mSpread = 0.0239%\n",
      "\n",
      "Getting extended results...\n"
     ]
    },
    {
     "name": "stderr",
     "output_type": "stream",
     "text": [
      "100%|█████████████████████████████████████████████████████████████████████████████████████████████████████████████████████████████| 16998/16998 [00:03<00:00, 4883.49it/s]\n"
     ]
    },
    {
     "name": "stdout",
     "output_type": "stream",
     "text": [
      "Epoch = 11. Time index = mean. Threshold MC = 0.7. Threshold MD = 0.6\n",
      "RD = 7397 NZ = 13103 NZA = 16999 pNZ = 1.471% pNZA = 1.909% AD = 56.45% ADA = 43.51% NO = 2843 GSP = 56.91% NSP = 52.80%\n",
      "SI2 = 3.54 SI = -25.16 eGROI = 81.46% eROI = 13.39% eROI2 = 24.60% eROI3 = -3.83% mSpread = 0.0239%\n",
      "\n",
      "Getting extended results...\n"
     ]
    },
    {
     "name": "stderr",
     "output_type": "stream",
     "text": [
      "100%|█████████████████████████████████████████████████████████████████████████████████████████████████████████████████████████████| 16998/16998 [00:04<00:00, 4118.75it/s]\n"
     ]
    },
    {
     "name": "stdout",
     "output_type": "stream",
     "text": [
      "Epoch = 11. Time index = mean. Threshold MC = 0.7. Threshold MD = 0.6\n",
      "RD = 7397 NZ = 13103 NZA = 16999 pNZ = 1.471% pNZA = 1.909% AD = 56.45% ADA = 43.51% NO = 2843 GSP = 56.91% NSP = 52.80%\n",
      "SI2 = 3.54 SI = -25.16 eGROI = 81.46% eROI = 13.39% eROI2 = 24.60% eROI3 = -3.83% mSpread = 0.0239%\n",
      "\n",
      "Getting extended results...\n"
     ]
    },
    {
     "name": "stderr",
     "output_type": "stream",
     "text": [
      "100%|█████████████████████████████████████████████████████████████████████████████████████████████████████████████████████████████| 16998/16998 [00:03<00:00, 4927.26it/s]\n"
     ]
    },
    {
     "name": "stdout",
     "output_type": "stream",
     "text": [
      "Epoch = 11. Time index = mean. Threshold MC = 0.7. Threshold MD = 0.6\n",
      "RD = 7397 NZ = 13103 NZA = 16999 pNZ = 1.471% pNZA = 1.909% AD = 56.45% ADA = 43.51% NO = 2843 GSP = 56.91% NSP = 52.80%\n",
      "SI2 = 3.54 SI = -25.16 eGROI = 81.46% eROI = 13.39% eROI2 = 24.60% eROI3 = -3.83% mSpread = 0.0239%\n",
      "\n",
      "Getting extended results...\n"
     ]
    },
    {
     "name": "stderr",
     "output_type": "stream",
     "text": [
      "100%|█████████████████████████████████████████████████████████████████████████████████████████████████████████████████████████████| 16998/16998 [00:03<00:00, 4967.48it/s]\n"
     ]
    },
    {
     "name": "stdout",
     "output_type": "stream",
     "text": [
      "Epoch = 11. Time index = mean. Threshold MC = 0.7. Threshold MD = 0.6\n",
      "RD = 7397 NZ = 13103 NZA = 16999 pNZ = 1.471% pNZA = 1.909% AD = 56.45% ADA = 43.51% NO = 2843 GSP = 56.91% NSP = 52.80%\n",
      "SI2 = 3.54 SI = -25.16 eGROI = 81.46% eROI = 13.39% eROI2 = 24.60% eROI3 = -3.83% mSpread = 0.0239%\n",
      "\n",
      "Getting extended results...\n"
     ]
    },
    {
     "name": "stderr",
     "output_type": "stream",
     "text": [
      "100%|█████████████████████████████████████████████████████████████████████████████████████████████████████████████████████████████| 16998/16998 [00:03<00:00, 5092.14it/s]\n"
     ]
    },
    {
     "name": "stdout",
     "output_type": "stream",
     "text": [
      "Epoch = 11. Time index = mean. Threshold MC = 0.7. Threshold MD = 0.6\n",
      "RD = 7397 NZ = 13103 NZA = 16999 pNZ = 1.471% pNZA = 1.909% AD = 56.45% ADA = 43.51% NO = 2843 GSP = 56.91% NSP = 52.80%\n",
      "SI2 = 3.54 SI = -25.16 eGROI = 81.46% eROI = 13.39% eROI2 = 24.60% eROI3 = -3.83% mSpread = 0.0239%\n",
      "\n",
      "Getting extended results...\n"
     ]
    },
    {
     "name": "stderr",
     "output_type": "stream",
     "text": [
      "100%|█████████████████████████████████████████████████████████████████████████████████████████████████████████████████████████████| 16998/16998 [00:03<00:00, 5139.75it/s]\n"
     ]
    },
    {
     "name": "stdout",
     "output_type": "stream",
     "text": [
      "Epoch = 11. Time index = mean. Threshold MC = 0.7. Threshold MD = 0.6\n",
      "RD = 7397 NZ = 13103 NZA = 16999 pNZ = 1.471% pNZA = 1.909% AD = 56.45% ADA = 43.51% NO = 2843 GSP = 56.91% NSP = 52.80%\n",
      "SI2 = 3.54 SI = -25.16 eGROI = 81.46% eROI = 13.39% eROI2 = 24.60% eROI3 = -3.83% mSpread = 0.0239%\n",
      "\n",
      "Getting extended results...\n"
     ]
    },
    {
     "name": "stderr",
     "output_type": "stream",
     "text": [
      "100%|█████████████████████████████████████████████████████████████████████████████████████████████████████████████████████████████| 16998/16998 [00:03<00:00, 4951.60it/s]\n"
     ]
    },
    {
     "name": "stdout",
     "output_type": "stream",
     "text": [
      "Epoch = 11. Time index = mean. Threshold MC = 0.7. Threshold MD = 0.6\n",
      "RD = 7397 NZ = 13103 NZA = 16999 pNZ = 1.471% pNZA = 1.909% AD = 56.45% ADA = 43.51% NO = 2843 GSP = 56.91% NSP = 52.80%\n",
      "SI2 = 3.54 SI = -25.16 eGROI = 81.46% eROI = 13.39% eROI2 = 24.60% eROI3 = -3.83% mSpread = 0.0239%\n",
      "\n",
      "Getting extended results...\n"
     ]
    },
    {
     "name": "stderr",
     "output_type": "stream",
     "text": [
      "100%|█████████████████████████████████████████████████████████████████████████████████████████████████████████████████████████████| 16998/16998 [00:03<00:00, 4960.24it/s]\n"
     ]
    },
    {
     "name": "stdout",
     "output_type": "stream",
     "text": [
      "Epoch = 11. Time index = mean. Threshold MC = 0.7. Threshold MD = 0.6\n",
      "RD = 7397 NZ = 13103 NZA = 16999 pNZ = 1.471% pNZA = 1.909% AD = 56.45% ADA = 43.51% NO = 2843 GSP = 56.91% NSP = 52.80%\n",
      "SI2 = 3.54 SI = -25.16 eGROI = 81.46% eROI = 13.39% eROI2 = 24.60% eROI3 = -3.83% mSpread = 0.0239%\n",
      "\n",
      "Getting extended results...\n"
     ]
    },
    {
     "name": "stderr",
     "output_type": "stream",
     "text": [
      "100%|█████████████████████████████████████████████████████████████████████████████████████████████████████████████████████████████| 16998/16998 [00:03<00:00, 4848.76it/s]\n"
     ]
    },
    {
     "name": "stdout",
     "output_type": "stream",
     "text": [
      "Epoch = 11. Time index = mean. Threshold MC = 0.7. Threshold MD = 0.6\n",
      "RD = 7397 NZ = 13103 NZA = 16999 pNZ = 1.471% pNZA = 1.909% AD = 56.45% ADA = 43.51% NO = 2843 GSP = 56.91% NSP = 52.80%\n",
      "SI2 = 3.54 SI = -25.16 eGROI = 81.46% eROI = 13.39% eROI2 = 24.60% eROI3 = -3.83% mSpread = 0.0239%\n",
      "\n",
      "Getting extended results...\n"
     ]
    },
    {
     "name": "stderr",
     "output_type": "stream",
     "text": [
      "100%|█████████████████████████████████████████████████████████████████████████████████████████████████████████████████████████████| 16998/16998 [00:03<00:00, 4930.11it/s]\n"
     ]
    },
    {
     "name": "stdout",
     "output_type": "stream",
     "text": [
      "Epoch = 11. Time index = mean. Threshold MC = 0.7. Threshold MD = 0.6\n",
      "RD = 7397 NZ = 13103 NZA = 16999 pNZ = 1.471% pNZA = 1.909% AD = 56.45% ADA = 43.51% NO = 2843 GSP = 56.91% NSP = 52.80%\n",
      "SI2 = 3.54 SI = -25.16 eGROI = 81.46% eROI = 13.39% eROI2 = 24.60% eROI3 = -3.83% mSpread = 0.0239%\n",
      "\n",
      "Getting extended results...\n"
     ]
    },
    {
     "name": "stderr",
     "output_type": "stream",
     "text": [
      "100%|█████████████████████████████████████████████████████████████████████████████████████████████████████████████████████████████| 16998/16998 [00:04<00:00, 3806.03it/s]\n"
     ]
    },
    {
     "name": "stdout",
     "output_type": "stream",
     "text": [
      "Epoch = 11. Time index = mean. Threshold MC = 0.7. Threshold MD = 0.6\n",
      "RD = 7397 NZ = 13103 NZA = 16999 pNZ = 1.471% pNZA = 1.909% AD = 56.45% ADA = 43.51% NO = 2843 GSP = 56.91% NSP = 52.80%\n",
      "SI2 = 3.54 SI = -25.16 eGROI = 81.46% eROI = 13.39% eROI2 = 24.60% eROI3 = -3.83% mSpread = 0.0239%\n",
      "\n",
      "Getting extended results...\n"
     ]
    },
    {
     "name": "stderr",
     "output_type": "stream",
     "text": [
      "100%|█████████████████████████████████████████████████████████████████████████████████████████████████████████████████████████████| 16998/16998 [00:03<00:00, 4643.98it/s]\n"
     ]
    },
    {
     "name": "stdout",
     "output_type": "stream",
     "text": [
      "Epoch = 11. Time index = mean. Threshold MC = 0.7. Threshold MD = 0.6\n",
      "RD = 7397 NZ = 13103 NZA = 16999 pNZ = 1.471% pNZA = 1.909% AD = 56.45% ADA = 43.51% NO = 2843 GSP = 56.91% NSP = 52.80%\n",
      "SI2 = 3.54 SI = -25.16 eGROI = 81.46% eROI = 13.39% eROI2 = 24.60% eROI3 = -3.83% mSpread = 0.0239%\n",
      "\n",
      "Getting extended results...\n"
     ]
    },
    {
     "name": "stderr",
     "output_type": "stream",
     "text": [
      "100%|█████████████████████████████████████████████████████████████████████████████████████████████████████████████████████████████| 16998/16998 [00:03<00:00, 4829.53it/s]\n"
     ]
    },
    {
     "name": "stdout",
     "output_type": "stream",
     "text": [
      "Epoch = 11. Time index = mean. Threshold MC = 0.7. Threshold MD = 0.6\n",
      "RD = 7397 NZ = 13103 NZA = 16999 pNZ = 1.471% pNZA = 1.909% AD = 56.45% ADA = 43.51% NO = 2843 GSP = 56.91% NSP = 52.80%\n",
      "SI2 = 3.54 SI = -25.16 eGROI = 81.46% eROI = 13.39% eROI2 = 24.60% eROI3 = -3.83% mSpread = 0.0239%\n",
      "\n",
      "Getting extended results...\n"
     ]
    },
    {
     "name": "stderr",
     "output_type": "stream",
     "text": [
      "100%|█████████████████████████████████████████████████████████████████████████████████████████████████████████████████████████████| 16998/16998 [00:03<00:00, 5141.30it/s]\n"
     ]
    },
    {
     "name": "stdout",
     "output_type": "stream",
     "text": [
      "Epoch = 11. Time index = mean. Threshold MC = 0.7. Threshold MD = 0.6\n",
      "RD = 7397 NZ = 13103 NZA = 16999 pNZ = 1.471% pNZA = 1.909% AD = 56.45% ADA = 43.51% NO = 2843 GSP = 56.91% NSP = 52.80%\n",
      "SI2 = 3.54 SI = -25.16 eGROI = 81.46% eROI = 13.39% eROI2 = 24.60% eROI3 = -3.83% mSpread = 0.0239%\n",
      "\n",
      "Getting extended results...\n"
     ]
    },
    {
     "name": "stderr",
     "output_type": "stream",
     "text": [
      "100%|█████████████████████████████████████████████████████████████████████████████████████████████████████████████████████████████| 16998/16998 [00:03<00:00, 4674.55it/s]\n"
     ]
    },
    {
     "name": "stdout",
     "output_type": "stream",
     "text": [
      "Epoch = 11. Time index = mean. Threshold MC = 0.7. Threshold MD = 0.6\n",
      "RD = 7397 NZ = 13103 NZA = 16999 pNZ = 1.471% pNZA = 1.909% AD = 56.45% ADA = 43.51% NO = 2843 GSP = 56.91% NSP = 52.80%\n",
      "SI2 = 3.54 SI = -25.16 eGROI = 81.46% eROI = 13.39% eROI2 = 24.60% eROI3 = -3.83% mSpread = 0.0239%\n",
      "\n",
      "Getting extended results...\n"
     ]
    },
    {
     "name": "stderr",
     "output_type": "stream",
     "text": [
      "100%|█████████████████████████████████████████████████████████████████████████████████████████████████████████████████████████████| 16998/16998 [00:03<00:00, 4907.40it/s]\n"
     ]
    },
    {
     "name": "stdout",
     "output_type": "stream",
     "text": [
      "Epoch = 11. Time index = mean. Threshold MC = 0.7. Threshold MD = 0.6\n",
      "RD = 7397 NZ = 13103 NZA = 16999 pNZ = 1.471% pNZA = 1.909% AD = 56.45% ADA = 43.51% NO = 2843 GSP = 56.91% NSP = 52.80%\n",
      "SI2 = 3.54 SI = -25.16 eGROI = 81.46% eROI = 13.39% eROI2 = 24.60% eROI3 = -3.83% mSpread = 0.0239%\n",
      "\n",
      "Getting extended results...\n"
     ]
    },
    {
     "name": "stderr",
     "output_type": "stream",
     "text": [
      "100%|█████████████████████████████████████████████████████████████████████████████████████████████████████████████████████████████| 16998/16998 [00:03<00:00, 4993.67it/s]\n"
     ]
    },
    {
     "name": "stdout",
     "output_type": "stream",
     "text": [
      "Epoch = 11. Time index = mean. Threshold MC = 0.7. Threshold MD = 0.6\n",
      "RD = 7397 NZ = 13103 NZA = 16999 pNZ = 1.471% pNZA = 1.909% AD = 56.45% ADA = 43.51% NO = 2843 GSP = 56.91% NSP = 52.80%\n",
      "SI2 = 3.54 SI = -25.16 eGROI = 81.46% eROI = 13.39% eROI2 = 24.60% eROI3 = -3.83% mSpread = 0.0239%\n",
      "\n",
      "Getting extended results...\n"
     ]
    },
    {
     "name": "stderr",
     "output_type": "stream",
     "text": [
      "100%|█████████████████████████████████████████████████████████████████████████████████████████████████████████████████████████████| 16998/16998 [00:03<00:00, 4738.22it/s]\n"
     ]
    },
    {
     "name": "stdout",
     "output_type": "stream",
     "text": [
      "Epoch = 11. Time index = mean. Threshold MC = 0.7. Threshold MD = 0.6\n",
      "RD = 7397 NZ = 13103 NZA = 16999 pNZ = 1.471% pNZA = 1.909% AD = 56.45% ADA = 43.51% NO = 2843 GSP = 56.91% NSP = 52.80%\n",
      "SI2 = 3.54 SI = -25.16 eGROI = 81.46% eROI = 13.39% eROI2 = 24.60% eROI3 = -3.83% mSpread = 0.0239%\n",
      "\n",
      "Getting extended results...\n"
     ]
    },
    {
     "name": "stderr",
     "output_type": "stream",
     "text": [
      "100%|█████████████████████████████████████████████████████████████████████████████████████████████████████████████████████████████| 16998/16998 [00:03<00:00, 4852.90it/s]\n"
     ]
    },
    {
     "name": "stdout",
     "output_type": "stream",
     "text": [
      "Epoch = 11. Time index = mean. Threshold MC = 0.7. Threshold MD = 0.6\n",
      "RD = 7397 NZ = 13103 NZA = 16999 pNZ = 1.471% pNZA = 1.909% AD = 56.45% ADA = 43.51% NO = 2843 GSP = 56.91% NSP = 52.80%\n",
      "SI2 = 3.54 SI = -25.16 eGROI = 81.46% eROI = 13.39% eROI2 = 24.60% eROI3 = -3.83% mSpread = 0.0239%\n",
      "\n",
      "Getting extended results...\n"
     ]
    },
    {
     "name": "stderr",
     "output_type": "stream",
     "text": [
      "100%|█████████████████████████████████████████████████████████████████████████████████████████████████████████████████████████████| 16998/16998 [00:03<00:00, 4333.44it/s]\n"
     ]
    },
    {
     "name": "stdout",
     "output_type": "stream",
     "text": [
      "Epoch = 11. Time index = mean. Threshold MC = 0.7. Threshold MD = 0.6\n",
      "RD = 7397 NZ = 13103 NZA = 16999 pNZ = 1.471% pNZA = 1.909% AD = 56.45% ADA = 43.51% NO = 2843 GSP = 56.91% NSP = 52.80%\n",
      "SI2 = 3.54 SI = -25.16 eGROI = 81.46% eROI = 13.39% eROI2 = 24.60% eROI3 = -3.83% mSpread = 0.0239%\n",
      "\n",
      "Getting extended results...\n"
     ]
    },
    {
     "name": "stderr",
     "output_type": "stream",
     "text": [
      "100%|█████████████████████████████████████████████████████████████████████████████████████████████████████████████████████████████| 16998/16998 [00:03<00:00, 4297.38it/s]\n"
     ]
    },
    {
     "name": "stdout",
     "output_type": "stream",
     "text": [
      "Epoch = 11. Time index = mean. Threshold MC = 0.7. Threshold MD = 0.6\n",
      "RD = 7397 NZ = 13103 NZA = 16999 pNZ = 1.471% pNZA = 1.909% AD = 56.45% ADA = 43.51% NO = 2843 GSP = 56.91% NSP = 52.80%\n",
      "SI2 = 3.54 SI = -25.16 eGROI = 81.46% eROI = 13.39% eROI2 = 24.60% eROI3 = -3.83% mSpread = 0.0239%\n",
      "\n",
      "Getting extended results...\n"
     ]
    },
    {
     "name": "stderr",
     "output_type": "stream",
     "text": [
      "100%|█████████████████████████████████████████████████████████████████████████████████████████████████████████████████████████████| 16998/16998 [00:03<00:00, 4657.94it/s]\n"
     ]
    },
    {
     "name": "stdout",
     "output_type": "stream",
     "text": [
      "Epoch = 11. Time index = mean. Threshold MC = 0.7. Threshold MD = 0.6\n",
      "RD = 7397 NZ = 13103 NZA = 16999 pNZ = 1.471% pNZA = 1.909% AD = 56.45% ADA = 43.51% NO = 2843 GSP = 56.91% NSP = 52.80%\n",
      "SI2 = 3.54 SI = -25.16 eGROI = 81.46% eROI = 13.39% eROI2 = 24.60% eROI3 = -3.83% mSpread = 0.0239%\n",
      "\n",
      "Getting extended results...\n"
     ]
    },
    {
     "name": "stderr",
     "output_type": "stream",
     "text": [
      "100%|█████████████████████████████████████████████████████████████████████████████████████████████████████████████████████████████| 16998/16998 [00:03<00:00, 4635.14it/s]\n"
     ]
    },
    {
     "name": "stdout",
     "output_type": "stream",
     "text": [
      "Epoch = 11. Time index = mean. Threshold MC = 0.7. Threshold MD = 0.6\n",
      "RD = 7397 NZ = 13103 NZA = 16999 pNZ = 1.471% pNZA = 1.909% AD = 56.45% ADA = 43.51% NO = 2843 GSP = 56.91% NSP = 52.80%\n",
      "SI2 = 3.54 SI = -25.16 eGROI = 81.46% eROI = 13.39% eROI2 = 24.60% eROI3 = -3.83% mSpread = 0.0239%\n",
      "\n",
      "Getting extended results...\n"
     ]
    },
    {
     "name": "stderr",
     "output_type": "stream",
     "text": [
      "100%|█████████████████████████████████████████████████████████████████████████████████████████████████████████████████████████████| 16998/16998 [00:03<00:00, 4901.78it/s]\n"
     ]
    },
    {
     "name": "stdout",
     "output_type": "stream",
     "text": [
      "Epoch = 11. Time index = mean. Threshold MC = 0.7. Threshold MD = 0.6\n",
      "RD = 7397 NZ = 13103 NZA = 16999 pNZ = 1.471% pNZA = 1.909% AD = 56.45% ADA = 43.51% NO = 2843 GSP = 56.91% NSP = 52.80%\n",
      "SI2 = 3.54 SI = -25.16 eGROI = 81.46% eROI = 13.39% eROI2 = 24.60% eROI3 = -3.83% mSpread = 0.0239%\n",
      "\n",
      "Getting extended results...\n"
     ]
    },
    {
     "name": "stderr",
     "output_type": "stream",
     "text": [
      "100%|█████████████████████████████████████████████████████████████████████████████████████████████████████████████████████████████| 16998/16998 [00:03<00:00, 4674.77it/s]\n"
     ]
    },
    {
     "name": "stdout",
     "output_type": "stream",
     "text": [
      "Epoch = 11. Time index = mean. Threshold MC = 0.7. Threshold MD = 0.6\n",
      "RD = 7397 NZ = 13103 NZA = 16999 pNZ = 1.471% pNZA = 1.909% AD = 56.45% ADA = 43.51% NO = 2843 GSP = 56.91% NSP = 52.80%\n",
      "SI2 = 3.54 SI = -25.16 eGROI = 81.46% eROI = 13.39% eROI2 = 24.60% eROI3 = -3.83% mSpread = 0.0239%\n",
      "\n",
      "Best eGROI = 183.36 t_index 3 thr_mc 0.5 thr_md 0.6 epoch 11 in 12687 GSP 56.71 ADA 38.05 AD 55.09\n",
      "Best eROI = 23.93 t_index 0 thr_mc 0.7 thr_md 0.6 epoch 11 in 1668 GSP 59.53 ADA 45.85 AD 59.71\n",
      "Best eROI.5 = 123.58 t_index 1 thr_mc 0.5 thr_md 0.6 epoch 11 in 10632 GSP 57.88 ADA 38.71 AD 56.52\n",
      "Best eROI1 = 79.86 t_index 1 thr_mc 0.6 thr_md 0.6 epoch 11 in 7915 GSP 57.71 ADA 40.70 AD 56.52\n",
      "Best eROI1.5 = 44.24 t_index 0 thr_mc 0.6 thr_md 0.6 epoch 11 in 4612 GSP 58.65 ADA 43.03 AD 59.28\n",
      "Best eROI2 = 32.26 t_index 0 thr_mc 0.7 thr_md 0.6 epoch 11 in 1668 GSP 59.53 ADA 45.85 AD 59.71\n",
      "Best eROI3 = 15.58 t_index 0 thr_mc 0.7 thr_md 0.6 epoch 11 in 1668 GSP 59.53 ADA 45.85 AD 59.71\n",
      "Best eROI4 = 11.59 t_index 0 thr_mc 0.8 thr_md 0.6 epoch 11 in 266 GSP 56.02 ADA 49.95 AD 58.90\n",
      "Best eROI5 = 8.93 t_index 0 thr_mc 0.8 thr_md 0.6 epoch 11 in 266 GSP 56.02 ADA 49.95 AD 58.90\n",
      "Best SI = 33.96 t_index 0 thr_mc 0.7 thr_md 0.6 epoch 11 in 1668 GSP 59.53 ADA 45.85 AD 59.71\n",
      "Best SI.5 = 369.04 t_index 1 thr_mc 0.5 thr_md 0.6 epoch 11 in 10632 GSP 57.88 ADA 38.71 AD 56.52\n",
      "Best SI1 = 189.04 t_index 1 thr_mc 0.5 thr_md 0.6 epoch 11 in 10632 GSP 57.88 ADA 38.71 AD 56.52\n",
      "Best SI1.5 = 94.64 t_index 0 thr_mc 0.6 thr_md 0.6 epoch 11 in 4612 GSP 58.65 ADA 43.03 AD 59.28\n",
      "Best SI2 = 50.96 t_index 0 thr_mc 0.7 thr_md 0.6 epoch 11 in 1668 GSP 59.53 ADA 45.85 AD 59.71\n",
      "Best SI3 = 12.96 t_index 0 thr_mc 0.7 thr_md 0.6 epoch 11 in 1668 GSP 59.53 ADA 45.85 AD 59.71\n",
      "Best SI4 = 3.11 t_index 0 thr_mc 0.6 thr_md 0.7 epoch 11 in 13 GSP 84.62 ADA 69.23 AD 90.00\n",
      "Best SI5 = 3.11 t_index 0 thr_mc 0.6 thr_md 0.7 epoch 11 in 13 GSP 84.62 ADA 69.23 AD 90.00\n",
      "Best 99eGROI = 186.27 t_index 3 thr_mc 0.5 thr_md 0.6 epoch 11 in 12687 GSP 56.71 ADA 38.05 AD 55.09\n",
      "Best 99eROI = 28.93 t_index 0 thr_mc 0.7 thr_md 0.6 epoch 11 in 1668 GSP 59.53 ADA 45.85 AD 59.71\n",
      "Best 99eROI.5 = 128.84 t_index 1 thr_mc 0.5 thr_md 0.6 epoch 11 in 10632 GSP 57.88 ADA 38.71 AD 56.52\n",
      "Best 99eROI1 = 87.49 t_index 1 thr_mc 0.6 thr_md 0.6 epoch 11 in 7915 GSP 57.71 ADA 40.70 AD 56.52\n",
      "Best 99eROI1.5 = 48.70 t_index 1 thr_mc 0.6 thr_md 0.6 epoch 11 in 7915 GSP 57.71 ADA 40.70 AD 56.52\n",
      "Best 99eROI2 = 36.52 t_index 0 thr_mc 0.7 thr_md 0.6 epoch 11 in 1668 GSP 59.53 ADA 45.85 AD 59.71\n",
      "Best 99eROI3 = 20.35 t_index 0 thr_mc 0.8 thr_md 0.6 epoch 11 in 266 GSP 56.02 ADA 49.95 AD 58.90\n",
      "Best 99eROI4 = 17.73 t_index 0 thr_mc 0.8 thr_md 0.6 epoch 11 in 266 GSP 56.02 ADA 49.95 AD 58.90\n",
      "Best 99eROI5 = 15.11 t_index 0 thr_mc 0.8 thr_md 0.6 epoch 11 in 266 GSP 56.02 ADA 49.95 AD 58.90\n",
      "\n",
      "The very best:\n",
      "Best eGROI = 208.66 t_index 2 thr_mc 0.5 thr_md 0.6 epoch 13 in 12745 GSP 56.74 ADA 38.20 AD 55.17\n",
      "Best eROI = 79.35 t_index 0 thr_mc 0.7 thr_md 0.5 epoch 0 in 2226 GSP 57.01 ADA 45.10 AD 54.12\n",
      "Best eROI.5 = 170.60 t_index 1 thr_mc 0.7 thr_md 0.5 epoch 0 in 5217 GSP 57.14 ADA 41.43 AD 53.99\n",
      "Best eROI1 = 144.52 t_index 1 thr_mc 0.7 thr_md 0.5 epoch 0 in 5217 GSP 57.14 ADA 41.43 AD 53.99\n",
      "Best eROI1.5 = 118.43 t_index 1 thr_mc 0.7 thr_md 0.5 epoch 0 in 5217 GSP 57.14 ADA 41.43 AD 53.99\n",
      "Best eROI2 = 92.35 t_index 1 thr_mc 0.7 thr_md 0.5 epoch 0 in 5217 GSP 57.14 ADA 41.43 AD 53.99\n",
      "Best eROI3 = 64.46 t_index 0 thr_mc 0.7 thr_md 0.5 epoch 0 in 2226 GSP 57.01 ADA 45.10 AD 54.12\n",
      "Best eROI4 = 42.20 t_index 0 thr_mc 0.7 thr_md 0.5 epoch 0 in 2226 GSP 57.01 ADA 45.10 AD 54.12\n",
      "Best eROI5 = 27.62 t_index 3 thr_mc 0.9 thr_md 0.5 epoch 14 in 184 GSP 55.43 ADA 49.93 AD 55.90\n",
      "Best SI = 37.77 t_index 0 thr_mc 0.7 thr_md 0.6 epoch 9 in 891 GSP 61.05 ADA 46.19 AD 61.14\n",
      "Best SI.5 = 411.04 t_index 3 thr_mc 0.5 thr_md 0.6 epoch 8 in 10432 GSP 58.26 ADA 38.17 AD 56.26\n",
      "Best SI1 = 234.15 t_index 3 thr_mc 0.5 thr_md 0.6 epoch 9 in 11345 GSP 57.96 ADA 38.28 AD 55.82\n",
      "Best SI1.5 = 134.23 t_index 2 thr_mc 0.6 thr_md 0.6 epoch 7 in 5509 GSP 59.21 ADA 40.40 AD 57.89\n",
      "Best SI2 = 80.55 t_index 3 thr_mc 0.5 thr_md 0.7 epoch 14 in 3365 GSP 60.77 ADA 42.78 AD 57.60\n",
      "Best SI3 = 26.77 t_index 0 thr_mc 0.7 thr_md 0.6 epoch 9 in 891 GSP 61.05 ADA 46.19 AD 61.14\n",
      "Best SI4 = 15.49 t_index 3 thr_mc 0.8 thr_md 0.6 epoch 5 in 67 GSP 82.09 ADA 62.60 AD 81.91\n",
      "Best SI5 = 14.49 t_index 3 thr_mc 0.8 thr_md 0.6 epoch 5 in 67 GSP 82.09 ADA 62.60 AD 81.91\n",
      "Best 99eGROI = 199.25 t_index 3 thr_mc 0.5 thr_md 0.6 epoch 10 in 12161 GSP 57.14 ADA 38.16 AD 55.40\n",
      "Best 99eROI = 37.00 t_index 3 thr_mc 0.9 thr_md 0.5 epoch 14 in 184 GSP 55.43 ADA 49.93 AD 55.90\n",
      "Best 99eROI.5 = 139.65 t_index 3 thr_mc 0.5 thr_md 0.6 epoch 10 in 12161 GSP 57.14 ADA 38.16 AD 55.40\n",
      "Best 99eROI1 = 87.49 t_index 1 thr_mc 0.6 thr_md 0.6 epoch 11 in 7915 GSP 57.71 ADA 40.70 AD 56.52\n",
      "Best 99eROI1.5 = 64.81 t_index 3 thr_mc 0.5 thr_md 0.7 epoch 14 in 3365 GSP 60.77 ADA 42.78 AD 57.60\n",
      "Best 99eROI2 = 48.32 t_index 3 thr_mc 0.5 thr_md 0.7 epoch 14 in 3365 GSP 60.77 ADA 42.78 AD 57.60\n",
      "Best 99eROI3 = 36.83 t_index 3 thr_mc 0.9 thr_md 0.5 epoch 14 in 184 GSP 55.43 ADA 49.93 AD 55.90\n",
      "Best 99eROI4 = 35.01 t_index 3 thr_mc 0.9 thr_md 0.5 epoch 14 in 184 GSP 55.43 ADA 49.93 AD 55.90\n",
      "Best 99eROI5 = 33.19 t_index 3 thr_mc 0.9 thr_md 0.5 epoch 14 in 184 GSP 55.43 ADA 49.93 AD 55.90\n",
      "Time=137.50 secs\n",
      "INFO:tensorflow:Restoring parameters from C:/Users/mgutierrez/root/Projects/SDC/py/RNN/weights/WRNN01010k5K5A/000012/000012\n",
      "Parameters loaded. Epoch 12\n",
      "Epoch 12 of 14. Getting output...\n"
     ]
    },
    {
     "name": "stderr",
     "output_type": "stream",
     "text": [
      "100%|███████████████████████████████████████████████████████████████████████████████████████████████████████████████████████████████████| 870/870 [01:16<00:00, 11.44it/s]\n"
     ]
    },
    {
     "name": "stdout",
     "output_type": "stream",
     "text": [
      "J_test = 1.854296\n",
      "Epoch 12, J_train = 1.5611250570707562, J_test = 1.8542963069060754\n",
      "Getting extended results...\n"
     ]
    },
    {
     "name": "stderr",
     "output_type": "stream",
     "text": [
      "100%|███████████████████████████████████████████████████████████████████████████████████████████████████████████████████████████████| 7646/7646 [00:01<00:00, 4560.63it/s]\n"
     ]
    },
    {
     "name": "stdout",
     "output_type": "stream",
     "text": [
      "Epoch = 12. Time index = 0. Threshold MC = 0.7. Threshold MD = 0.6\n",
      "RD = 3459 NZ = 5833 NZA = 7647 pNZ = 0.655% pNZA = 0.859% AD = 59.30% ADA = 45.23% NO = 1990 GSP = 59.50% NSP = 54.47%\n",
      "SI2 = 5.20 SI = -20.30 eGROI = 68.05% eROI = 18.82% eROI2 = 28.25% eROI3 = 8.35% mSpread = 0.0247%\n",
      "\n",
      "Getting extended results...\n"
     ]
    },
    {
     "name": "stderr",
     "output_type": "stream",
     "text": [
      "100%|█████████████████████████████████████████████████████████████████████████████████████████████████████████████████████████████| 20679/20679 [00:04<00:00, 4996.20it/s]\n"
     ]
    },
    {
     "name": "stdout",
     "output_type": "stream",
     "text": [
      "Epoch = 12. Time index = 1. Threshold MC = 0.7. Threshold MD = 0.6\n",
      "RD = 8826 NZ = 15840 NZA = 20680 pNZ = 1.779% pNZA = 2.322% AD = 55.72% ADA = 42.68% NO = 3719 GSP = 55.23% NSP = 51.17%\n",
      "SI2 = 2.21 SI = -29.77 eGROI = 79.84% eROI = -8.12% eROI2 = 5.46% eROI3 = -31.73% mSpread = 0.0237%\n",
      "\n",
      "Getting extended results...\n"
     ]
    },
    {
     "name": "stderr",
     "output_type": "stream",
     "text": [
      "100%|█████████████████████████████████████████████████████████████████████████████████████████████████████████████████████████████| 27812/27812 [00:05<00:00, 5124.27it/s]\n"
     ]
    },
    {
     "name": "stdout",
     "output_type": "stream",
     "text": [
      "Epoch = 12. Time index = 2. Threshold MC = 0.7. Threshold MD = 0.6\n",
      "RD = 11676 NZ = 21349 NZA = 27813 pNZ = 2.397% pNZA = 3.123% AD = 54.69% ADA = 41.98% NO = 4153 GSP = 54.23% NSP = 49.99%\n",
      "SI2 = 0.61 SI = -32.22 eGROI = 69.07% eROI = -28.15% eROI2 = -13.99% eROI3 = -55.52% mSpread = 0.0234%\n",
      "\n",
      "Getting extended results...\n"
     ]
    },
    {
     "name": "stderr",
     "output_type": "stream",
     "text": [
      "100%|█████████████████████████████████████████████████████████████████████████████████████████████████████████████████████████████| 33063/33063 [00:06<00:00, 5207.16it/s]\n"
     ]
    },
    {
     "name": "stdout",
     "output_type": "stream",
     "text": [
      "Epoch = 12. Time index = 3. Threshold MC = 0.7. Threshold MD = 0.6\n",
      "RD = 13664 NZ = 25347 NZA = 33064 pNZ = 2.846% pNZA = 3.713% AD = 53.91% ADA = 41.33% NO = 4522 GSP = 53.60% NSP = 49.38%\n",
      "SI2 = -0.39 SI = -34.03 eGROI = 81.25% eROI = -24.07% eROI2 = -9.19% eROI3 = -54.41% mSpread = 0.0233%\n",
      "\n",
      "Getting extended results...\n"
     ]
    },
    {
     "name": "stderr",
     "output_type": "stream",
     "text": [
      "100%|█████████████████████████████████████████████████████████████████████████████████████████████████████████████████████████████| 19994/19994 [00:03<00:00, 5025.68it/s]\n"
     ]
    },
    {
     "name": "stdout",
     "output_type": "stream",
     "text": [
      "Epoch = 12. Time index = mean. Threshold MC = 0.7. Threshold MD = 0.6\n",
      "RD = 8655 NZ = 15462 NZA = 19995 pNZ = 1.736% pNZA = 2.245% AD = 55.98% ADA = 43.29% NO = 3317 GSP = 56.53% NSP = 52.13%\n",
      "SI2 = 3.00 SI = -27.56 eGROI = 85.45% eROI = 6.80% eROI2 = 19.11% eROI3 = -14.06% mSpread = 0.0237%\n",
      "\n",
      "Getting extended results...\n"
     ]
    },
    {
     "name": "stderr",
     "output_type": "stream",
     "text": [
      "100%|█████████████████████████████████████████████████████████████████████████████████████████████████████████████████████████████| 19994/19994 [00:04<00:00, 4990.64it/s]\n"
     ]
    },
    {
     "name": "stdout",
     "output_type": "stream",
     "text": [
      "Epoch = 12. Time index = mean. Threshold MC = 0.7. Threshold MD = 0.6\n",
      "RD = 8655 NZ = 15462 NZA = 19995 pNZ = 1.736% pNZA = 2.245% AD = 55.98% ADA = 43.29% NO = 3317 GSP = 56.53% NSP = 52.13%\n",
      "SI2 = 3.00 SI = -27.56 eGROI = 85.45% eROI = 6.80% eROI2 = 19.11% eROI3 = -14.06% mSpread = 0.0237%\n",
      "\n",
      "Getting extended results...\n"
     ]
    },
    {
     "name": "stderr",
     "output_type": "stream",
     "text": [
      "100%|█████████████████████████████████████████████████████████████████████████████████████████████████████████████████████████████| 19994/19994 [00:03<00:00, 5075.24it/s]\n"
     ]
    },
    {
     "name": "stdout",
     "output_type": "stream",
     "text": [
      "Epoch = 12. Time index = mean. Threshold MC = 0.7. Threshold MD = 0.6\n",
      "RD = 8655 NZ = 15462 NZA = 19995 pNZ = 1.736% pNZA = 2.245% AD = 55.98% ADA = 43.29% NO = 3317 GSP = 56.53% NSP = 52.13%\n",
      "SI2 = 3.00 SI = -27.56 eGROI = 85.45% eROI = 6.80% eROI2 = 19.11% eROI3 = -14.06% mSpread = 0.0237%\n",
      "\n",
      "Getting extended results...\n"
     ]
    },
    {
     "name": "stderr",
     "output_type": "stream",
     "text": [
      "100%|█████████████████████████████████████████████████████████████████████████████████████████████████████████████████████████████| 19994/19994 [00:04<00:00, 4190.51it/s]\n"
     ]
    },
    {
     "name": "stdout",
     "output_type": "stream",
     "text": [
      "Epoch = 12. Time index = mean. Threshold MC = 0.7. Threshold MD = 0.6\n",
      "RD = 8655 NZ = 15462 NZA = 19995 pNZ = 1.736% pNZA = 2.245% AD = 55.98% ADA = 43.29% NO = 3317 GSP = 56.53% NSP = 52.13%\n",
      "SI2 = 3.00 SI = -27.56 eGROI = 85.45% eROI = 6.80% eROI2 = 19.11% eROI3 = -14.06% mSpread = 0.0237%\n",
      "\n",
      "Getting extended results...\n"
     ]
    },
    {
     "name": "stderr",
     "output_type": "stream",
     "text": [
      "100%|█████████████████████████████████████████████████████████████████████████████████████████████████████████████████████████████| 19994/19994 [00:03<00:00, 5079.10it/s]\n"
     ]
    },
    {
     "name": "stdout",
     "output_type": "stream",
     "text": [
      "Epoch = 12. Time index = mean. Threshold MC = 0.7. Threshold MD = 0.6\n",
      "RD = 8655 NZ = 15462 NZA = 19995 pNZ = 1.736% pNZA = 2.245% AD = 55.98% ADA = 43.29% NO = 3317 GSP = 56.53% NSP = 52.13%\n",
      "SI2 = 3.00 SI = -27.56 eGROI = 85.45% eROI = 6.80% eROI2 = 19.11% eROI3 = -14.06% mSpread = 0.0237%\n",
      "\n",
      "Getting extended results...\n"
     ]
    },
    {
     "name": "stderr",
     "output_type": "stream",
     "text": [
      "100%|█████████████████████████████████████████████████████████████████████████████████████████████████████████████████████████████| 19994/19994 [00:04<00:00, 4858.80it/s]\n"
     ]
    },
    {
     "name": "stdout",
     "output_type": "stream",
     "text": [
      "Epoch = 12. Time index = mean. Threshold MC = 0.7. Threshold MD = 0.6\n",
      "RD = 8655 NZ = 15462 NZA = 19995 pNZ = 1.736% pNZA = 2.245% AD = 55.98% ADA = 43.29% NO = 3317 GSP = 56.53% NSP = 52.13%\n",
      "SI2 = 3.00 SI = -27.56 eGROI = 85.45% eROI = 6.80% eROI2 = 19.11% eROI3 = -14.06% mSpread = 0.0237%\n",
      "\n",
      "Getting extended results...\n"
     ]
    },
    {
     "name": "stderr",
     "output_type": "stream",
     "text": [
      "100%|█████████████████████████████████████████████████████████████████████████████████████████████████████████████████████████████| 19994/19994 [00:04<00:00, 4219.62it/s]\n"
     ]
    },
    {
     "name": "stdout",
     "output_type": "stream",
     "text": [
      "Epoch = 12. Time index = mean. Threshold MC = 0.7. Threshold MD = 0.6\n",
      "RD = 8655 NZ = 15462 NZA = 19995 pNZ = 1.736% pNZA = 2.245% AD = 55.98% ADA = 43.29% NO = 3317 GSP = 56.53% NSP = 52.13%\n",
      "SI2 = 3.00 SI = -27.56 eGROI = 85.45% eROI = 6.80% eROI2 = 19.11% eROI3 = -14.06% mSpread = 0.0237%\n",
      "\n",
      "Getting extended results...\n"
     ]
    },
    {
     "name": "stderr",
     "output_type": "stream",
     "text": [
      "100%|█████████████████████████████████████████████████████████████████████████████████████████████████████████████████████████████| 19994/19994 [00:04<00:00, 4958.55it/s]\n"
     ]
    },
    {
     "name": "stdout",
     "output_type": "stream",
     "text": [
      "Epoch = 12. Time index = mean. Threshold MC = 0.7. Threshold MD = 0.6\n",
      "RD = 8655 NZ = 15462 NZA = 19995 pNZ = 1.736% pNZA = 2.245% AD = 55.98% ADA = 43.29% NO = 3317 GSP = 56.53% NSP = 52.13%\n",
      "SI2 = 3.00 SI = -27.56 eGROI = 85.45% eROI = 6.80% eROI2 = 19.11% eROI3 = -14.06% mSpread = 0.0237%\n",
      "\n",
      "Getting extended results...\n"
     ]
    },
    {
     "name": "stderr",
     "output_type": "stream",
     "text": [
      "100%|█████████████████████████████████████████████████████████████████████████████████████████████████████████████████████████████| 19994/19994 [00:04<00:00, 4785.39it/s]\n"
     ]
    },
    {
     "name": "stdout",
     "output_type": "stream",
     "text": [
      "Epoch = 12. Time index = mean. Threshold MC = 0.7. Threshold MD = 0.6\n",
      "RD = 8655 NZ = 15462 NZA = 19995 pNZ = 1.736% pNZA = 2.245% AD = 55.98% ADA = 43.29% NO = 3317 GSP = 56.53% NSP = 52.13%\n",
      "SI2 = 3.00 SI = -27.56 eGROI = 85.45% eROI = 6.80% eROI2 = 19.11% eROI3 = -14.06% mSpread = 0.0237%\n",
      "\n",
      "Getting extended results...\n"
     ]
    },
    {
     "name": "stderr",
     "output_type": "stream",
     "text": [
      "100%|█████████████████████████████████████████████████████████████████████████████████████████████████████████████████████████████| 19994/19994 [00:05<00:00, 3835.35it/s]\n"
     ]
    },
    {
     "name": "stdout",
     "output_type": "stream",
     "text": [
      "Epoch = 12. Time index = mean. Threshold MC = 0.7. Threshold MD = 0.6\n",
      "RD = 8655 NZ = 15462 NZA = 19995 pNZ = 1.736% pNZA = 2.245% AD = 55.98% ADA = 43.29% NO = 3317 GSP = 56.53% NSP = 52.13%\n",
      "SI2 = 3.00 SI = -27.56 eGROI = 85.45% eROI = 6.80% eROI2 = 19.11% eROI3 = -14.06% mSpread = 0.0237%\n",
      "\n",
      "Getting extended results...\n"
     ]
    },
    {
     "name": "stderr",
     "output_type": "stream",
     "text": [
      "100%|█████████████████████████████████████████████████████████████████████████████████████████████████████████████████████████████| 19994/19994 [00:03<00:00, 5004.34it/s]\n"
     ]
    },
    {
     "name": "stdout",
     "output_type": "stream",
     "text": [
      "Epoch = 12. Time index = mean. Threshold MC = 0.7. Threshold MD = 0.6\n",
      "RD = 8655 NZ = 15462 NZA = 19995 pNZ = 1.736% pNZA = 2.245% AD = 55.98% ADA = 43.29% NO = 3317 GSP = 56.53% NSP = 52.13%\n",
      "SI2 = 3.00 SI = -27.56 eGROI = 85.45% eROI = 6.80% eROI2 = 19.11% eROI3 = -14.06% mSpread = 0.0237%\n",
      "\n",
      "Getting extended results...\n"
     ]
    },
    {
     "name": "stderr",
     "output_type": "stream",
     "text": [
      "100%|█████████████████████████████████████████████████████████████████████████████████████████████████████████████████████████████| 19994/19994 [00:04<00:00, 4679.60it/s]\n"
     ]
    },
    {
     "name": "stdout",
     "output_type": "stream",
     "text": [
      "Epoch = 12. Time index = mean. Threshold MC = 0.7. Threshold MD = 0.6\n",
      "RD = 8655 NZ = 15462 NZA = 19995 pNZ = 1.736% pNZA = 2.245% AD = 55.98% ADA = 43.29% NO = 3317 GSP = 56.53% NSP = 52.13%\n",
      "SI2 = 3.00 SI = -27.56 eGROI = 85.45% eROI = 6.80% eROI2 = 19.11% eROI3 = -14.06% mSpread = 0.0237%\n",
      "\n",
      "Getting extended results...\n"
     ]
    },
    {
     "name": "stderr",
     "output_type": "stream",
     "text": [
      "100%|█████████████████████████████████████████████████████████████████████████████████████████████████████████████████████████████| 19994/19994 [00:04<00:00, 4303.87it/s]\n"
     ]
    },
    {
     "name": "stdout",
     "output_type": "stream",
     "text": [
      "Epoch = 12. Time index = mean. Threshold MC = 0.7. Threshold MD = 0.6\n",
      "RD = 8655 NZ = 15462 NZA = 19995 pNZ = 1.736% pNZA = 2.245% AD = 55.98% ADA = 43.29% NO = 3317 GSP = 56.53% NSP = 52.13%\n",
      "SI2 = 3.00 SI = -27.56 eGROI = 85.45% eROI = 6.80% eROI2 = 19.11% eROI3 = -14.06% mSpread = 0.0237%\n",
      "\n",
      "Getting extended results...\n"
     ]
    },
    {
     "name": "stderr",
     "output_type": "stream",
     "text": [
      "100%|█████████████████████████████████████████████████████████████████████████████████████████████████████████████████████████████| 19994/19994 [00:04<00:00, 4541.77it/s]\n"
     ]
    },
    {
     "name": "stdout",
     "output_type": "stream",
     "text": [
      "Epoch = 12. Time index = mean. Threshold MC = 0.7. Threshold MD = 0.6\n",
      "RD = 8655 NZ = 15462 NZA = 19995 pNZ = 1.736% pNZA = 2.245% AD = 55.98% ADA = 43.29% NO = 3317 GSP = 56.53% NSP = 52.13%\n",
      "SI2 = 3.00 SI = -27.56 eGROI = 85.45% eROI = 6.80% eROI2 = 19.11% eROI3 = -14.06% mSpread = 0.0237%\n",
      "\n",
      "Getting extended results...\n"
     ]
    },
    {
     "name": "stderr",
     "output_type": "stream",
     "text": [
      "100%|█████████████████████████████████████████████████████████████████████████████████████████████████████████████████████████████| 19994/19994 [00:04<00:00, 4558.30it/s]\n"
     ]
    },
    {
     "name": "stdout",
     "output_type": "stream",
     "text": [
      "Epoch = 12. Time index = mean. Threshold MC = 0.7. Threshold MD = 0.6\n",
      "RD = 8655 NZ = 15462 NZA = 19995 pNZ = 1.736% pNZA = 2.245% AD = 55.98% ADA = 43.29% NO = 3317 GSP = 56.53% NSP = 52.13%\n",
      "SI2 = 3.00 SI = -27.56 eGROI = 85.45% eROI = 6.80% eROI2 = 19.11% eROI3 = -14.06% mSpread = 0.0237%\n",
      "\n",
      "Getting extended results...\n"
     ]
    },
    {
     "name": "stderr",
     "output_type": "stream",
     "text": [
      "100%|█████████████████████████████████████████████████████████████████████████████████████████████████████████████████████████████| 19994/19994 [00:04<00:00, 4774.29it/s]\n"
     ]
    },
    {
     "name": "stdout",
     "output_type": "stream",
     "text": [
      "Epoch = 12. Time index = mean. Threshold MC = 0.7. Threshold MD = 0.6\n",
      "RD = 8655 NZ = 15462 NZA = 19995 pNZ = 1.736% pNZA = 2.245% AD = 55.98% ADA = 43.29% NO = 3317 GSP = 56.53% NSP = 52.13%\n",
      "SI2 = 3.00 SI = -27.56 eGROI = 85.45% eROI = 6.80% eROI2 = 19.11% eROI3 = -14.06% mSpread = 0.0237%\n",
      "\n",
      "Getting extended results...\n"
     ]
    },
    {
     "name": "stderr",
     "output_type": "stream",
     "text": [
      "100%|█████████████████████████████████████████████████████████████████████████████████████████████████████████████████████████████| 19994/19994 [00:04<00:00, 4369.49it/s]\n"
     ]
    },
    {
     "name": "stdout",
     "output_type": "stream",
     "text": [
      "Epoch = 12. Time index = mean. Threshold MC = 0.7. Threshold MD = 0.6\n",
      "RD = 8655 NZ = 15462 NZA = 19995 pNZ = 1.736% pNZA = 2.245% AD = 55.98% ADA = 43.29% NO = 3317 GSP = 56.53% NSP = 52.13%\n",
      "SI2 = 3.00 SI = -27.56 eGROI = 85.45% eROI = 6.80% eROI2 = 19.11% eROI3 = -14.06% mSpread = 0.0237%\n",
      "\n",
      "Getting extended results...\n"
     ]
    },
    {
     "name": "stderr",
     "output_type": "stream",
     "text": [
      "100%|█████████████████████████████████████████████████████████████████████████████████████████████████████████████████████████████| 19994/19994 [00:04<00:00, 4118.20it/s]\n"
     ]
    },
    {
     "name": "stdout",
     "output_type": "stream",
     "text": [
      "Epoch = 12. Time index = mean. Threshold MC = 0.7. Threshold MD = 0.6\n",
      "RD = 8655 NZ = 15462 NZA = 19995 pNZ = 1.736% pNZA = 2.245% AD = 55.98% ADA = 43.29% NO = 3317 GSP = 56.53% NSP = 52.13%\n",
      "SI2 = 3.00 SI = -27.56 eGROI = 85.45% eROI = 6.80% eROI2 = 19.11% eROI3 = -14.06% mSpread = 0.0237%\n",
      "\n",
      "Getting extended results...\n"
     ]
    },
    {
     "name": "stderr",
     "output_type": "stream",
     "text": [
      "100%|█████████████████████████████████████████████████████████████████████████████████████████████████████████████████████████████| 19994/19994 [00:04<00:00, 4627.75it/s]\n"
     ]
    },
    {
     "name": "stdout",
     "output_type": "stream",
     "text": [
      "Epoch = 12. Time index = mean. Threshold MC = 0.7. Threshold MD = 0.6\n",
      "RD = 8655 NZ = 15462 NZA = 19995 pNZ = 1.736% pNZA = 2.245% AD = 55.98% ADA = 43.29% NO = 3317 GSP = 56.53% NSP = 52.13%\n",
      "SI2 = 3.00 SI = -27.56 eGROI = 85.45% eROI = 6.80% eROI2 = 19.11% eROI3 = -14.06% mSpread = 0.0237%\n",
      "\n",
      "Getting extended results...\n"
     ]
    },
    {
     "name": "stderr",
     "output_type": "stream",
     "text": [
      "100%|█████████████████████████████████████████████████████████████████████████████████████████████████████████████████████████████| 19994/19994 [00:04<00:00, 4947.49it/s]\n"
     ]
    },
    {
     "name": "stdout",
     "output_type": "stream",
     "text": [
      "Epoch = 12. Time index = mean. Threshold MC = 0.7. Threshold MD = 0.6\n",
      "RD = 8655 NZ = 15462 NZA = 19995 pNZ = 1.736% pNZA = 2.245% AD = 55.98% ADA = 43.29% NO = 3317 GSP = 56.53% NSP = 52.13%\n",
      "SI2 = 3.00 SI = -27.56 eGROI = 85.45% eROI = 6.80% eROI2 = 19.11% eROI3 = -14.06% mSpread = 0.0237%\n",
      "\n",
      "Getting extended results...\n"
     ]
    },
    {
     "name": "stderr",
     "output_type": "stream",
     "text": [
      "100%|█████████████████████████████████████████████████████████████████████████████████████████████████████████████████████████████| 19994/19994 [00:04<00:00, 4901.52it/s]\n"
     ]
    },
    {
     "name": "stdout",
     "output_type": "stream",
     "text": [
      "Epoch = 12. Time index = mean. Threshold MC = 0.7. Threshold MD = 0.6\n",
      "RD = 8655 NZ = 15462 NZA = 19995 pNZ = 1.736% pNZA = 2.245% AD = 55.98% ADA = 43.29% NO = 3317 GSP = 56.53% NSP = 52.13%\n",
      "SI2 = 3.00 SI = -27.56 eGROI = 85.45% eROI = 6.80% eROI2 = 19.11% eROI3 = -14.06% mSpread = 0.0237%\n",
      "\n",
      "Getting extended results...\n"
     ]
    },
    {
     "name": "stderr",
     "output_type": "stream",
     "text": [
      "100%|█████████████████████████████████████████████████████████████████████████████████████████████████████████████████████████████| 19994/19994 [00:04<00:00, 4604.33it/s]\n"
     ]
    },
    {
     "name": "stdout",
     "output_type": "stream",
     "text": [
      "Epoch = 12. Time index = mean. Threshold MC = 0.7. Threshold MD = 0.6\n",
      "RD = 8655 NZ = 15462 NZA = 19995 pNZ = 1.736% pNZA = 2.245% AD = 55.98% ADA = 43.29% NO = 3317 GSP = 56.53% NSP = 52.13%\n",
      "SI2 = 3.00 SI = -27.56 eGROI = 85.45% eROI = 6.80% eROI2 = 19.11% eROI3 = -14.06% mSpread = 0.0237%\n",
      "\n",
      "Getting extended results...\n"
     ]
    },
    {
     "name": "stderr",
     "output_type": "stream",
     "text": [
      "100%|█████████████████████████████████████████████████████████████████████████████████████████████████████████████████████████████| 19994/19994 [00:04<00:00, 4859.98it/s]\n"
     ]
    },
    {
     "name": "stdout",
     "output_type": "stream",
     "text": [
      "Epoch = 12. Time index = mean. Threshold MC = 0.7. Threshold MD = 0.6\n",
      "RD = 8655 NZ = 15462 NZA = 19995 pNZ = 1.736% pNZA = 2.245% AD = 55.98% ADA = 43.29% NO = 3317 GSP = 56.53% NSP = 52.13%\n",
      "SI2 = 3.00 SI = -27.56 eGROI = 85.45% eROI = 6.80% eROI2 = 19.11% eROI3 = -14.06% mSpread = 0.0237%\n",
      "\n",
      "Getting extended results...\n"
     ]
    },
    {
     "name": "stderr",
     "output_type": "stream",
     "text": [
      "100%|█████████████████████████████████████████████████████████████████████████████████████████████████████████████████████████████| 19994/19994 [00:05<00:00, 3765.48it/s]\n"
     ]
    },
    {
     "name": "stdout",
     "output_type": "stream",
     "text": [
      "Epoch = 12. Time index = mean. Threshold MC = 0.7. Threshold MD = 0.6\n",
      "RD = 8655 NZ = 15462 NZA = 19995 pNZ = 1.736% pNZA = 2.245% AD = 55.98% ADA = 43.29% NO = 3317 GSP = 56.53% NSP = 52.13%\n",
      "SI2 = 3.00 SI = -27.56 eGROI = 85.45% eROI = 6.80% eROI2 = 19.11% eROI3 = -14.06% mSpread = 0.0237%\n",
      "\n",
      "Getting extended results...\n"
     ]
    },
    {
     "name": "stderr",
     "output_type": "stream",
     "text": [
      "100%|█████████████████████████████████████████████████████████████████████████████████████████████████████████████████████████████| 19994/19994 [00:05<00:00, 3771.01it/s]\n"
     ]
    },
    {
     "name": "stdout",
     "output_type": "stream",
     "text": [
      "Epoch = 12. Time index = mean. Threshold MC = 0.7. Threshold MD = 0.6\n",
      "RD = 8655 NZ = 15462 NZA = 19995 pNZ = 1.736% pNZA = 2.245% AD = 55.98% ADA = 43.29% NO = 3317 GSP = 56.53% NSP = 52.13%\n",
      "SI2 = 3.00 SI = -27.56 eGROI = 85.45% eROI = 6.80% eROI2 = 19.11% eROI3 = -14.06% mSpread = 0.0237%\n",
      "\n",
      "Getting extended results...\n"
     ]
    },
    {
     "name": "stderr",
     "output_type": "stream",
     "text": [
      "100%|█████████████████████████████████████████████████████████████████████████████████████████████████████████████████████████████| 19994/19994 [00:04<00:00, 4442.15it/s]\n"
     ]
    },
    {
     "name": "stdout",
     "output_type": "stream",
     "text": [
      "Epoch = 12. Time index = mean. Threshold MC = 0.7. Threshold MD = 0.6\n",
      "RD = 8655 NZ = 15462 NZA = 19995 pNZ = 1.736% pNZA = 2.245% AD = 55.98% ADA = 43.29% NO = 3317 GSP = 56.53% NSP = 52.13%\n",
      "SI2 = 3.00 SI = -27.56 eGROI = 85.45% eROI = 6.80% eROI2 = 19.11% eROI3 = -14.06% mSpread = 0.0237%\n",
      "\n",
      "Getting extended results...\n"
     ]
    },
    {
     "name": "stderr",
     "output_type": "stream",
     "text": [
      "100%|█████████████████████████████████████████████████████████████████████████████████████████████████████████████████████████████| 19994/19994 [00:04<00:00, 4674.14it/s]\n"
     ]
    },
    {
     "name": "stdout",
     "output_type": "stream",
     "text": [
      "Epoch = 12. Time index = mean. Threshold MC = 0.7. Threshold MD = 0.6\n",
      "RD = 8655 NZ = 15462 NZA = 19995 pNZ = 1.736% pNZA = 2.245% AD = 55.98% ADA = 43.29% NO = 3317 GSP = 56.53% NSP = 52.13%\n",
      "SI2 = 3.00 SI = -27.56 eGROI = 85.45% eROI = 6.80% eROI2 = 19.11% eROI3 = -14.06% mSpread = 0.0237%\n",
      "\n",
      "Getting extended results...\n"
     ]
    },
    {
     "name": "stderr",
     "output_type": "stream",
     "text": [
      "100%|█████████████████████████████████████████████████████████████████████████████████████████████████████████████████████████████| 19994/19994 [00:04<00:00, 4437.23it/s]\n"
     ]
    },
    {
     "name": "stdout",
     "output_type": "stream",
     "text": [
      "Epoch = 12. Time index = mean. Threshold MC = 0.7. Threshold MD = 0.6\n",
      "RD = 8655 NZ = 15462 NZA = 19995 pNZ = 1.736% pNZA = 2.245% AD = 55.98% ADA = 43.29% NO = 3317 GSP = 56.53% NSP = 52.13%\n",
      "SI2 = 3.00 SI = -27.56 eGROI = 85.45% eROI = 6.80% eROI2 = 19.11% eROI3 = -14.06% mSpread = 0.0237%\n",
      "\n",
      "Best eGROI = 191.42 t_index 2 thr_mc 0.5 thr_md 0.6 epoch 12 in 12286 GSP 56.95 ADA 38.39 AD 55.50\n",
      "Best eROI = 18.82 t_index 0 thr_mc 0.7 thr_md 0.6 epoch 12 in 1990 GSP 59.50 ADA 45.23 AD 59.30\n",
      "Best eROI.5 = 130.63 t_index 1 thr_mc 0.5 thr_md 0.6 epoch 12 in 11331 GSP 57.71 ADA 38.66 AD 56.23\n",
      "Best eROI1 = 73.98 t_index 1 thr_mc 0.5 thr_md 0.6 epoch 12 in 11331 GSP 57.71 ADA 38.66 AD 56.23\n",
      "Best eROI1.5 = 39.67 t_index 0 thr_mc 0.7 thr_md 0.5 epoch 12 in 5610 GSP 53.98 ADA 39.84 AD 52.76\n",
      "Best eROI2 = 28.64 t_index 2 thr_mc 0.5 thr_md 0.7 epoch 12 in 1623 GSP 60.20 ADA 44.18 AD 58.69\n",
      "Best eROI3 = 15.84 t_index 2 thr_mc 0.9 thr_md 0.5 epoch 12 in 85 GSP 64.71 ADA 50.59 AD 56.21\n",
      "Best eROI4 = 14.99 t_index 2 thr_mc 0.9 thr_md 0.5 epoch 12 in 85 GSP 64.71 ADA 50.59 AD 56.21\n",
      "Best eROI5 = 14.14 t_index 2 thr_mc 0.9 thr_md 0.5 epoch 12 in 85 GSP 64.71 ADA 50.59 AD 56.21\n",
      "Best SI = 29.30 t_index 0 thr_mc 0.7 thr_md 0.6 epoch 12 in 1990 GSP 59.50 ADA 45.23 AD 59.30\n",
      "Best SI.5 = 373.57 t_index 1 thr_mc 0.5 thr_md 0.6 epoch 12 in 11331 GSP 57.71 ADA 38.66 AD 56.23\n",
      "Best SI1 = 199.57 t_index 1 thr_mc 0.5 thr_md 0.6 epoch 12 in 11331 GSP 57.71 ADA 38.66 AD 56.23\n",
      "Best SI1.5 = 99.87 t_index 0 thr_mc 0.6 thr_md 0.6 epoch 12 in 5421 GSP 58.59 ADA 42.42 AD 58.93\n",
      "Best SI2 = 55.30 t_index 0 thr_mc 0.7 thr_md 0.6 epoch 12 in 1990 GSP 59.50 ADA 45.23 AD 59.30\n",
      "Best SI3 = 7.95 t_index 2 thr_mc 0.9 thr_md 0.5 epoch 12 in 85 GSP 64.71 ADA 50.59 AD 56.21\n",
      "Best SI4 = 7.95 t_index 2 thr_mc 0.9 thr_md 0.5 epoch 12 in 85 GSP 64.71 ADA 50.59 AD 56.21\n",
      "Best SI5 = 5.95 t_index 2 thr_mc 0.9 thr_md 0.5 epoch 12 in 85 GSP 64.71 ADA 50.59 AD 56.21\n",
      "Best 99eGROI = 193.63 t_index 2 thr_mc 0.5 thr_md 0.6 epoch 12 in 12286 GSP 56.95 ADA 38.39 AD 55.50\n",
      "Best 99eROI = 23.43 t_index 2 thr_mc 0.5 thr_md 0.7 epoch 12 in 1623 GSP 60.20 ADA 44.18 AD 58.69\n",
      "Best 99eROI.5 = 136.21 t_index 1 thr_mc 0.5 thr_md 0.6 epoch 12 in 11331 GSP 57.71 ADA 38.66 AD 56.23\n",
      "Best 99eROI1 = 80.68 t_index 1 thr_mc 0.5 thr_md 0.6 epoch 12 in 11331 GSP 57.71 ADA 38.66 AD 56.23\n",
      "Best 99eROI1.5 = 44.43 t_index 2 thr_mc 0.5 thr_md 0.7 epoch 12 in 1623 GSP 60.20 ADA 44.18 AD 58.69\n",
      "Best 99eROI2 = 36.48 t_index 2 thr_mc 0.5 thr_md 0.7 epoch 12 in 1623 GSP 60.20 ADA 44.18 AD 58.69\n",
      "Best 99eROI3 = 20.57 t_index 2 thr_mc 0.5 thr_md 0.7 epoch 12 in 1623 GSP 60.20 ADA 44.18 AD 58.69\n",
      "Best 99eROI4 = 18.22 t_index 2 thr_mc 0.9 thr_md 0.5 epoch 12 in 85 GSP 64.71 ADA 50.59 AD 56.21\n",
      "Best 99eROI5 = 17.38 t_index 2 thr_mc 0.9 thr_md 0.5 epoch 12 in 85 GSP 64.71 ADA 50.59 AD 56.21\n",
      "\n",
      "The very best:\n",
      "Best eGROI = 208.66 t_index 2 thr_mc 0.5 thr_md 0.6 epoch 13 in 12745 GSP 56.74 ADA 38.20 AD 55.17\n",
      "Best eROI = 79.35 t_index 0 thr_mc 0.7 thr_md 0.5 epoch 0 in 2226 GSP 57.01 ADA 45.10 AD 54.12\n",
      "Best eROI.5 = 170.60 t_index 1 thr_mc 0.7 thr_md 0.5 epoch 0 in 5217 GSP 57.14 ADA 41.43 AD 53.99\n",
      "Best eROI1 = 144.52 t_index 1 thr_mc 0.7 thr_md 0.5 epoch 0 in 5217 GSP 57.14 ADA 41.43 AD 53.99\n",
      "Best eROI1.5 = 118.43 t_index 1 thr_mc 0.7 thr_md 0.5 epoch 0 in 5217 GSP 57.14 ADA 41.43 AD 53.99\n",
      "Best eROI2 = 92.35 t_index 1 thr_mc 0.7 thr_md 0.5 epoch 0 in 5217 GSP 57.14 ADA 41.43 AD 53.99\n",
      "Best eROI3 = 64.46 t_index 0 thr_mc 0.7 thr_md 0.5 epoch 0 in 2226 GSP 57.01 ADA 45.10 AD 54.12\n",
      "Best eROI4 = 42.20 t_index 0 thr_mc 0.7 thr_md 0.5 epoch 0 in 2226 GSP 57.01 ADA 45.10 AD 54.12\n",
      "Best eROI5 = 27.62 t_index 3 thr_mc 0.9 thr_md 0.5 epoch 14 in 184 GSP 55.43 ADA 49.93 AD 55.90\n",
      "Best SI = 37.77 t_index 0 thr_mc 0.7 thr_md 0.6 epoch 9 in 891 GSP 61.05 ADA 46.19 AD 61.14\n",
      "Best SI.5 = 411.04 t_index 3 thr_mc 0.5 thr_md 0.6 epoch 8 in 10432 GSP 58.26 ADA 38.17 AD 56.26\n",
      "Best SI1 = 234.15 t_index 3 thr_mc 0.5 thr_md 0.6 epoch 9 in 11345 GSP 57.96 ADA 38.28 AD 55.82\n",
      "Best SI1.5 = 134.23 t_index 2 thr_mc 0.6 thr_md 0.6 epoch 7 in 5509 GSP 59.21 ADA 40.40 AD 57.89\n",
      "Best SI2 = 80.55 t_index 3 thr_mc 0.5 thr_md 0.7 epoch 14 in 3365 GSP 60.77 ADA 42.78 AD 57.60\n",
      "Best SI3 = 26.77 t_index 0 thr_mc 0.7 thr_md 0.6 epoch 9 in 891 GSP 61.05 ADA 46.19 AD 61.14\n",
      "Best SI4 = 15.49 t_index 3 thr_mc 0.8 thr_md 0.6 epoch 5 in 67 GSP 82.09 ADA 62.60 AD 81.91\n",
      "Best SI5 = 14.49 t_index 3 thr_mc 0.8 thr_md 0.6 epoch 5 in 67 GSP 82.09 ADA 62.60 AD 81.91\n",
      "Best 99eGROI = 199.25 t_index 3 thr_mc 0.5 thr_md 0.6 epoch 10 in 12161 GSP 57.14 ADA 38.16 AD 55.40\n",
      "Best 99eROI = 37.00 t_index 3 thr_mc 0.9 thr_md 0.5 epoch 14 in 184 GSP 55.43 ADA 49.93 AD 55.90\n",
      "Best 99eROI.5 = 139.65 t_index 3 thr_mc 0.5 thr_md 0.6 epoch 10 in 12161 GSP 57.14 ADA 38.16 AD 55.40\n",
      "Best 99eROI1 = 87.49 t_index 1 thr_mc 0.6 thr_md 0.6 epoch 11 in 7915 GSP 57.71 ADA 40.70 AD 56.52\n",
      "Best 99eROI1.5 = 64.81 t_index 3 thr_mc 0.5 thr_md 0.7 epoch 14 in 3365 GSP 60.77 ADA 42.78 AD 57.60\n",
      "Best 99eROI2 = 48.32 t_index 3 thr_mc 0.5 thr_md 0.7 epoch 14 in 3365 GSP 60.77 ADA 42.78 AD 57.60\n",
      "Best 99eROI3 = 36.83 t_index 3 thr_mc 0.9 thr_md 0.5 epoch 14 in 184 GSP 55.43 ADA 49.93 AD 55.90\n",
      "Best 99eROI4 = 35.01 t_index 3 thr_mc 0.9 thr_md 0.5 epoch 14 in 184 GSP 55.43 ADA 49.93 AD 55.90\n",
      "Best 99eROI5 = 33.19 t_index 3 thr_mc 0.9 thr_md 0.5 epoch 14 in 184 GSP 55.43 ADA 49.93 AD 55.90\n",
      "Time=165.44 secs\n",
      "INFO:tensorflow:Restoring parameters from C:/Users/mgutierrez/root/Projects/SDC/py/RNN/weights/WRNN01010k5K5A/000013/000013\n",
      "Parameters loaded. Epoch 13\n",
      "Epoch 13 of 14. Getting output...\n"
     ]
    },
    {
     "name": "stderr",
     "output_type": "stream",
     "text": [
      "100%|███████████████████████████████████████████████████████████████████████████████████████████████████████████████████████████████████| 870/870 [01:17<00:00, 11.17it/s]\n"
     ]
    },
    {
     "name": "stdout",
     "output_type": "stream",
     "text": [
      "J_test = 1.854959\n",
      "Epoch 13, J_train = 1.5605856283232098, J_test = 1.8549590623241732\n",
      "Getting extended results...\n"
     ]
    },
    {
     "name": "stderr",
     "output_type": "stream",
     "text": [
      "100%|███████████████████████████████████████████████████████████████████████████████████████████████████████████████████████████████| 9683/9683 [00:03<00:00, 2855.55it/s]\n"
     ]
    },
    {
     "name": "stdout",
     "output_type": "stream",
     "text": [
      "Epoch = 13. Time index = 0. Threshold MC = 0.7. Threshold MD = 0.6\n",
      "RD = 4328 NZ = 7392 NZA = 9684 pNZ = 0.830% pNZA = 1.087% AD = 58.55% ADA = 44.69% NO = 2306 GSP = 57.59% NSP = 53.08%\n",
      "SI2 = 3.83 SI = -22.52 eGROI = 65.54% eROI = 8.56% eROI2 = 19.42% eROI3 = -3.64% mSpread = 0.0247%\n",
      "\n",
      "Getting extended results...\n"
     ]
    },
    {
     "name": "stderr",
     "output_type": "stream",
     "text": [
      "100%|█████████████████████████████████████████████████████████████████████████████████████████████████████████████████████████████| 23915/23915 [00:05<00:00, 4636.29it/s]\n"
     ]
    },
    {
     "name": "stdout",
     "output_type": "stream",
     "text": [
      "Epoch = 13. Time index = 1. Threshold MC = 0.7. Threshold MD = 0.6\n",
      "RD = 10161 NZ = 18336 NZA = 23916 pNZ = 2.059% pNZA = 2.685% AD = 55.42% ADA = 42.49% NO = 4019 GSP = 55.19% NSP = 50.53%\n",
      "SI2 = 1.88 SI = -31.35 eGROI = 102.26% eROI = 7.98% eROI2 = 21.88% eROI3 = -18.31% mSpread = 0.0235%\n",
      "\n",
      "Getting extended results...\n"
     ]
    },
    {
     "name": "stderr",
     "output_type": "stream",
     "text": [
      "100%|█████████████████████████████████████████████████████████████████████████████████████████████████████████████████████████████| 31021/31021 [00:08<00:00, 3664.02it/s]\n"
     ]
    },
    {
     "name": "stdout",
     "output_type": "stream",
     "text": [
      "Epoch = 13. Time index = 2. Threshold MC = 0.7. Threshold MD = 0.6\n",
      "RD = 12881 NZ = 23751 NZA = 31022 pNZ = 2.667% pNZA = 3.483% AD = 54.23% ADA = 41.52% NO = 4473 GSP = 54.24% NSP = 49.97%\n",
      "SI2 = 0.61 SI = -33.46 eGROI = 88.44% eROI = -15.27% eROI2 = -1.02% eROI3 = -45.75% mSpread = 0.0232%\n",
      "\n",
      "Getting extended results...\n"
     ]
    },
    {
     "name": "stderr",
     "output_type": "stream",
     "text": [
      "100%|█████████████████████████████████████████████████████████████████████████████████████████████████████████████████████████████| 36202/36202 [00:08<00:00, 4325.91it/s]\n"
     ]
    },
    {
     "name": "stdout",
     "output_type": "stream",
     "text": [
      "Epoch = 13. Time index = 3. Threshold MC = 0.7. Threshold MD = 0.6\n",
      "RD = 14938 NZ = 27740 NZA = 36203 pNZ = 3.115% pNZA = 4.065% AD = 53.85% ADA = 41.26% NO = 4794 GSP = 53.65% NSP = 49.17%\n",
      "SI2 = -0.66 SI = -35.19 eGROI = 104.69% eROI = -5.95% eROI2 = 8.81% eROI3 = -39.13% mSpread = 0.0231%\n",
      "\n",
      "Getting extended results...\n"
     ]
    },
    {
     "name": "stderr",
     "output_type": "stream",
     "text": [
      "100%|█████████████████████████████████████████████████████████████████████████████████████████████████████████████████████████████| 22869/22869 [00:04<00:00, 4753.34it/s]\n"
     ]
    },
    {
     "name": "stdout",
     "output_type": "stream",
     "text": [
      "Epoch = 13. Time index = mean. Threshold MC = 0.7. Threshold MD = 0.6\n",
      "RD = 9850 NZ = 17665 NZA = 22870 pNZ = 1.983% pNZA = 2.568% AD = 55.76% ADA = 43.07% NO = 3696 GSP = 55.68% NSP = 51.27%\n",
      "SI2 = 2.37 SI = -29.62 eGROI = 89.25% eROI = 2.42% eROI2 = 15.33% eROI3 = -21.63% mSpread = 0.0235%\n",
      "\n",
      "Getting extended results...\n"
     ]
    },
    {
     "name": "stderr",
     "output_type": "stream",
     "text": [
      "100%|█████████████████████████████████████████████████████████████████████████████████████████████████████████████████████████████| 22869/22869 [00:05<00:00, 4388.53it/s]\n"
     ]
    },
    {
     "name": "stdout",
     "output_type": "stream",
     "text": [
      "Epoch = 13. Time index = mean. Threshold MC = 0.7. Threshold MD = 0.6\n",
      "RD = 9850 NZ = 17665 NZA = 22870 pNZ = 1.983% pNZA = 2.568% AD = 55.76% ADA = 43.07% NO = 3696 GSP = 55.68% NSP = 51.27%\n",
      "SI2 = 2.37 SI = -29.62 eGROI = 89.25% eROI = 2.42% eROI2 = 15.33% eROI3 = -21.63% mSpread = 0.0235%\n",
      "\n",
      "Getting extended results...\n"
     ]
    },
    {
     "name": "stderr",
     "output_type": "stream",
     "text": [
      "100%|█████████████████████████████████████████████████████████████████████████████████████████████████████████████████████████████| 22869/22869 [00:04<00:00, 4689.18it/s]\n"
     ]
    },
    {
     "name": "stdout",
     "output_type": "stream",
     "text": [
      "Epoch = 13. Time index = mean. Threshold MC = 0.7. Threshold MD = 0.6\n",
      "RD = 9850 NZ = 17665 NZA = 22870 pNZ = 1.983% pNZA = 2.568% AD = 55.76% ADA = 43.07% NO = 3696 GSP = 55.68% NSP = 51.27%\n",
      "SI2 = 2.37 SI = -29.62 eGROI = 89.25% eROI = 2.42% eROI2 = 15.33% eROI3 = -21.63% mSpread = 0.0235%\n",
      "\n",
      "Getting extended results...\n"
     ]
    },
    {
     "name": "stderr",
     "output_type": "stream",
     "text": [
      "100%|█████████████████████████████████████████████████████████████████████████████████████████████████████████████████████████████| 22869/22869 [00:05<00:00, 4523.30it/s]\n"
     ]
    },
    {
     "name": "stdout",
     "output_type": "stream",
     "text": [
      "Epoch = 13. Time index = mean. Threshold MC = 0.7. Threshold MD = 0.6\n",
      "RD = 9850 NZ = 17665 NZA = 22870 pNZ = 1.983% pNZA = 2.568% AD = 55.76% ADA = 43.07% NO = 3696 GSP = 55.68% NSP = 51.27%\n",
      "SI2 = 2.37 SI = -29.62 eGROI = 89.25% eROI = 2.42% eROI2 = 15.33% eROI3 = -21.63% mSpread = 0.0235%\n",
      "\n",
      "Getting extended results...\n"
     ]
    },
    {
     "name": "stderr",
     "output_type": "stream",
     "text": [
      "100%|█████████████████████████████████████████████████████████████████████████████████████████████████████████████████████████████| 22869/22869 [00:06<00:00, 3427.80it/s]\n"
     ]
    },
    {
     "name": "stdout",
     "output_type": "stream",
     "text": [
      "Epoch = 13. Time index = mean. Threshold MC = 0.7. Threshold MD = 0.6\n",
      "RD = 9850 NZ = 17665 NZA = 22870 pNZ = 1.983% pNZA = 2.568% AD = 55.76% ADA = 43.07% NO = 3696 GSP = 55.68% NSP = 51.27%\n",
      "SI2 = 2.37 SI = -29.62 eGROI = 89.25% eROI = 2.42% eROI2 = 15.33% eROI3 = -21.63% mSpread = 0.0235%\n",
      "\n",
      "Getting extended results...\n"
     ]
    },
    {
     "name": "stderr",
     "output_type": "stream",
     "text": [
      "100%|█████████████████████████████████████████████████████████████████████████████████████████████████████████████████████████████| 22869/22869 [00:04<00:00, 4685.03it/s]\n"
     ]
    },
    {
     "name": "stdout",
     "output_type": "stream",
     "text": [
      "Epoch = 13. Time index = mean. Threshold MC = 0.7. Threshold MD = 0.6\n",
      "RD = 9850 NZ = 17665 NZA = 22870 pNZ = 1.983% pNZA = 2.568% AD = 55.76% ADA = 43.07% NO = 3696 GSP = 55.68% NSP = 51.27%\n",
      "SI2 = 2.37 SI = -29.62 eGROI = 89.25% eROI = 2.42% eROI2 = 15.33% eROI3 = -21.63% mSpread = 0.0235%\n",
      "\n",
      "Getting extended results...\n"
     ]
    },
    {
     "name": "stderr",
     "output_type": "stream",
     "text": [
      "100%|█████████████████████████████████████████████████████████████████████████████████████████████████████████████████████████████| 22869/22869 [00:04<00:00, 4683.12it/s]\n"
     ]
    },
    {
     "name": "stdout",
     "output_type": "stream",
     "text": [
      "Epoch = 13. Time index = mean. Threshold MC = 0.7. Threshold MD = 0.6\n",
      "RD = 9850 NZ = 17665 NZA = 22870 pNZ = 1.983% pNZA = 2.568% AD = 55.76% ADA = 43.07% NO = 3696 GSP = 55.68% NSP = 51.27%\n",
      "SI2 = 2.37 SI = -29.62 eGROI = 89.25% eROI = 2.42% eROI2 = 15.33% eROI3 = -21.63% mSpread = 0.0235%\n",
      "\n",
      "Getting extended results...\n"
     ]
    },
    {
     "name": "stderr",
     "output_type": "stream",
     "text": [
      "100%|█████████████████████████████████████████████████████████████████████████████████████████████████████████████████████████████| 22869/22869 [00:04<00:00, 5009.52it/s]\n"
     ]
    },
    {
     "name": "stdout",
     "output_type": "stream",
     "text": [
      "Epoch = 13. Time index = mean. Threshold MC = 0.7. Threshold MD = 0.6\n",
      "RD = 9850 NZ = 17665 NZA = 22870 pNZ = 1.983% pNZA = 2.568% AD = 55.76% ADA = 43.07% NO = 3696 GSP = 55.68% NSP = 51.27%\n",
      "SI2 = 2.37 SI = -29.62 eGROI = 89.25% eROI = 2.42% eROI2 = 15.33% eROI3 = -21.63% mSpread = 0.0235%\n",
      "\n",
      "Getting extended results...\n"
     ]
    },
    {
     "name": "stderr",
     "output_type": "stream",
     "text": [
      "100%|█████████████████████████████████████████████████████████████████████████████████████████████████████████████████████████████| 22869/22869 [00:04<00:00, 4958.38it/s]\n"
     ]
    },
    {
     "name": "stdout",
     "output_type": "stream",
     "text": [
      "Epoch = 13. Time index = mean. Threshold MC = 0.7. Threshold MD = 0.6\n",
      "RD = 9850 NZ = 17665 NZA = 22870 pNZ = 1.983% pNZA = 2.568% AD = 55.76% ADA = 43.07% NO = 3696 GSP = 55.68% NSP = 51.27%\n",
      "SI2 = 2.37 SI = -29.62 eGROI = 89.25% eROI = 2.42% eROI2 = 15.33% eROI3 = -21.63% mSpread = 0.0235%\n",
      "\n",
      "Getting extended results...\n"
     ]
    },
    {
     "name": "stderr",
     "output_type": "stream",
     "text": [
      "100%|█████████████████████████████████████████████████████████████████████████████████████████████████████████████████████████████| 22869/22869 [00:05<00:00, 4397.50it/s]\n"
     ]
    },
    {
     "name": "stdout",
     "output_type": "stream",
     "text": [
      "Epoch = 13. Time index = mean. Threshold MC = 0.7. Threshold MD = 0.6\n",
      "RD = 9850 NZ = 17665 NZA = 22870 pNZ = 1.983% pNZA = 2.568% AD = 55.76% ADA = 43.07% NO = 3696 GSP = 55.68% NSP = 51.27%\n",
      "SI2 = 2.37 SI = -29.62 eGROI = 89.25% eROI = 2.42% eROI2 = 15.33% eROI3 = -21.63% mSpread = 0.0235%\n",
      "\n",
      "Getting extended results...\n"
     ]
    },
    {
     "name": "stderr",
     "output_type": "stream",
     "text": [
      "100%|█████████████████████████████████████████████████████████████████████████████████████████████████████████████████████████████| 22869/22869 [00:05<00:00, 4231.14it/s]\n"
     ]
    },
    {
     "name": "stdout",
     "output_type": "stream",
     "text": [
      "Epoch = 13. Time index = mean. Threshold MC = 0.7. Threshold MD = 0.6\n",
      "RD = 9850 NZ = 17665 NZA = 22870 pNZ = 1.983% pNZA = 2.568% AD = 55.76% ADA = 43.07% NO = 3696 GSP = 55.68% NSP = 51.27%\n",
      "SI2 = 2.37 SI = -29.62 eGROI = 89.25% eROI = 2.42% eROI2 = 15.33% eROI3 = -21.63% mSpread = 0.0235%\n",
      "\n",
      "Getting extended results...\n"
     ]
    },
    {
     "name": "stderr",
     "output_type": "stream",
     "text": [
      "100%|█████████████████████████████████████████████████████████████████████████████████████████████████████████████████████████████| 22869/22869 [00:04<00:00, 4741.18it/s]\n"
     ]
    },
    {
     "name": "stdout",
     "output_type": "stream",
     "text": [
      "Epoch = 13. Time index = mean. Threshold MC = 0.7. Threshold MD = 0.6\n",
      "RD = 9850 NZ = 17665 NZA = 22870 pNZ = 1.983% pNZA = 2.568% AD = 55.76% ADA = 43.07% NO = 3696 GSP = 55.68% NSP = 51.27%\n",
      "SI2 = 2.37 SI = -29.62 eGROI = 89.25% eROI = 2.42% eROI2 = 15.33% eROI3 = -21.63% mSpread = 0.0235%\n",
      "\n",
      "Getting extended results...\n"
     ]
    },
    {
     "name": "stderr",
     "output_type": "stream",
     "text": [
      "100%|█████████████████████████████████████████████████████████████████████████████████████████████████████████████████████████████| 22869/22869 [00:04<00:00, 4882.56it/s]\n"
     ]
    },
    {
     "name": "stdout",
     "output_type": "stream",
     "text": [
      "Epoch = 13. Time index = mean. Threshold MC = 0.7. Threshold MD = 0.6\n",
      "RD = 9850 NZ = 17665 NZA = 22870 pNZ = 1.983% pNZA = 2.568% AD = 55.76% ADA = 43.07% NO = 3696 GSP = 55.68% NSP = 51.27%\n",
      "SI2 = 2.37 SI = -29.62 eGROI = 89.25% eROI = 2.42% eROI2 = 15.33% eROI3 = -21.63% mSpread = 0.0235%\n",
      "\n",
      "Getting extended results...\n"
     ]
    },
    {
     "name": "stderr",
     "output_type": "stream",
     "text": [
      "100%|█████████████████████████████████████████████████████████████████████████████████████████████████████████████████████████████| 22869/22869 [00:05<00:00, 4320.57it/s]\n"
     ]
    },
    {
     "name": "stdout",
     "output_type": "stream",
     "text": [
      "Epoch = 13. Time index = mean. Threshold MC = 0.7. Threshold MD = 0.6\n",
      "RD = 9850 NZ = 17665 NZA = 22870 pNZ = 1.983% pNZA = 2.568% AD = 55.76% ADA = 43.07% NO = 3696 GSP = 55.68% NSP = 51.27%\n",
      "SI2 = 2.37 SI = -29.62 eGROI = 89.25% eROI = 2.42% eROI2 = 15.33% eROI3 = -21.63% mSpread = 0.0235%\n",
      "\n",
      "Getting extended results...\n"
     ]
    },
    {
     "name": "stderr",
     "output_type": "stream",
     "text": [
      "100%|█████████████████████████████████████████████████████████████████████████████████████████████████████████████████████████████| 22869/22869 [00:05<00:00, 4346.64it/s]\n"
     ]
    },
    {
     "name": "stdout",
     "output_type": "stream",
     "text": [
      "Epoch = 13. Time index = mean. Threshold MC = 0.7. Threshold MD = 0.6\n",
      "RD = 9850 NZ = 17665 NZA = 22870 pNZ = 1.983% pNZA = 2.568% AD = 55.76% ADA = 43.07% NO = 3696 GSP = 55.68% NSP = 51.27%\n",
      "SI2 = 2.37 SI = -29.62 eGROI = 89.25% eROI = 2.42% eROI2 = 15.33% eROI3 = -21.63% mSpread = 0.0235%\n",
      "\n",
      "Getting extended results...\n"
     ]
    },
    {
     "name": "stderr",
     "output_type": "stream",
     "text": [
      "100%|█████████████████████████████████████████████████████████████████████████████████████████████████████████████████████████████| 22869/22869 [00:04<00:00, 4844.40it/s]\n"
     ]
    },
    {
     "name": "stdout",
     "output_type": "stream",
     "text": [
      "Epoch = 13. Time index = mean. Threshold MC = 0.7. Threshold MD = 0.6\n",
      "RD = 9850 NZ = 17665 NZA = 22870 pNZ = 1.983% pNZA = 2.568% AD = 55.76% ADA = 43.07% NO = 3696 GSP = 55.68% NSP = 51.27%\n",
      "SI2 = 2.37 SI = -29.62 eGROI = 89.25% eROI = 2.42% eROI2 = 15.33% eROI3 = -21.63% mSpread = 0.0235%\n",
      "\n",
      "Getting extended results...\n"
     ]
    },
    {
     "name": "stderr",
     "output_type": "stream",
     "text": [
      "100%|█████████████████████████████████████████████████████████████████████████████████████████████████████████████████████████████| 22869/22869 [00:06<00:00, 3777.98it/s]\n"
     ]
    },
    {
     "name": "stdout",
     "output_type": "stream",
     "text": [
      "Epoch = 13. Time index = mean. Threshold MC = 0.7. Threshold MD = 0.6\n",
      "RD = 9850 NZ = 17665 NZA = 22870 pNZ = 1.983% pNZA = 2.568% AD = 55.76% ADA = 43.07% NO = 3696 GSP = 55.68% NSP = 51.27%\n",
      "SI2 = 2.37 SI = -29.62 eGROI = 89.25% eROI = 2.42% eROI2 = 15.33% eROI3 = -21.63% mSpread = 0.0235%\n",
      "\n",
      "Getting extended results...\n"
     ]
    },
    {
     "name": "stderr",
     "output_type": "stream",
     "text": [
      "100%|█████████████████████████████████████████████████████████████████████████████████████████████████████████████████████████████| 22869/22869 [00:05<00:00, 4265.56it/s]\n"
     ]
    },
    {
     "name": "stdout",
     "output_type": "stream",
     "text": [
      "Epoch = 13. Time index = mean. Threshold MC = 0.7. Threshold MD = 0.6\n",
      "RD = 9850 NZ = 17665 NZA = 22870 pNZ = 1.983% pNZA = 2.568% AD = 55.76% ADA = 43.07% NO = 3696 GSP = 55.68% NSP = 51.27%\n",
      "SI2 = 2.37 SI = -29.62 eGROI = 89.25% eROI = 2.42% eROI2 = 15.33% eROI3 = -21.63% mSpread = 0.0235%\n",
      "\n",
      "Getting extended results...\n"
     ]
    },
    {
     "name": "stderr",
     "output_type": "stream",
     "text": [
      "100%|█████████████████████████████████████████████████████████████████████████████████████████████████████████████████████████████| 22869/22869 [00:04<00:00, 4736.33it/s]\n"
     ]
    },
    {
     "name": "stdout",
     "output_type": "stream",
     "text": [
      "Epoch = 13. Time index = mean. Threshold MC = 0.7. Threshold MD = 0.6\n",
      "RD = 9850 NZ = 17665 NZA = 22870 pNZ = 1.983% pNZA = 2.568% AD = 55.76% ADA = 43.07% NO = 3696 GSP = 55.68% NSP = 51.27%\n",
      "SI2 = 2.37 SI = -29.62 eGROI = 89.25% eROI = 2.42% eROI2 = 15.33% eROI3 = -21.63% mSpread = 0.0235%\n",
      "\n",
      "Getting extended results...\n"
     ]
    },
    {
     "name": "stderr",
     "output_type": "stream",
     "text": [
      "100%|█████████████████████████████████████████████████████████████████████████████████████████████████████████████████████████████| 22869/22869 [00:04<00:00, 4679.29it/s]\n"
     ]
    },
    {
     "name": "stdout",
     "output_type": "stream",
     "text": [
      "Epoch = 13. Time index = mean. Threshold MC = 0.7. Threshold MD = 0.6\n",
      "RD = 9850 NZ = 17665 NZA = 22870 pNZ = 1.983% pNZA = 2.568% AD = 55.76% ADA = 43.07% NO = 3696 GSP = 55.68% NSP = 51.27%\n",
      "SI2 = 2.37 SI = -29.62 eGROI = 89.25% eROI = 2.42% eROI2 = 15.33% eROI3 = -21.63% mSpread = 0.0235%\n",
      "\n",
      "Getting extended results...\n"
     ]
    },
    {
     "name": "stderr",
     "output_type": "stream",
     "text": [
      "100%|█████████████████████████████████████████████████████████████████████████████████████████████████████████████████████████████| 22869/22869 [00:04<00:00, 4947.90it/s]\n"
     ]
    },
    {
     "name": "stdout",
     "output_type": "stream",
     "text": [
      "Epoch = 13. Time index = mean. Threshold MC = 0.7. Threshold MD = 0.6\n",
      "RD = 9850 NZ = 17665 NZA = 22870 pNZ = 1.983% pNZA = 2.568% AD = 55.76% ADA = 43.07% NO = 3696 GSP = 55.68% NSP = 51.27%\n",
      "SI2 = 2.37 SI = -29.62 eGROI = 89.25% eROI = 2.42% eROI2 = 15.33% eROI3 = -21.63% mSpread = 0.0235%\n",
      "\n",
      "Getting extended results...\n"
     ]
    },
    {
     "name": "stderr",
     "output_type": "stream",
     "text": [
      "100%|█████████████████████████████████████████████████████████████████████████████████████████████████████████████████████████████| 22869/22869 [00:04<00:00, 4944.69it/s]\n"
     ]
    },
    {
     "name": "stdout",
     "output_type": "stream",
     "text": [
      "Epoch = 13. Time index = mean. Threshold MC = 0.7. Threshold MD = 0.6\n",
      "RD = 9850 NZ = 17665 NZA = 22870 pNZ = 1.983% pNZA = 2.568% AD = 55.76% ADA = 43.07% NO = 3696 GSP = 55.68% NSP = 51.27%\n",
      "SI2 = 2.37 SI = -29.62 eGROI = 89.25% eROI = 2.42% eROI2 = 15.33% eROI3 = -21.63% mSpread = 0.0235%\n",
      "\n",
      "Getting extended results...\n"
     ]
    },
    {
     "name": "stderr",
     "output_type": "stream",
     "text": [
      "100%|█████████████████████████████████████████████████████████████████████████████████████████████████████████████████████████████| 22869/22869 [00:04<00:00, 4724.61it/s]\n"
     ]
    },
    {
     "name": "stdout",
     "output_type": "stream",
     "text": [
      "Epoch = 13. Time index = mean. Threshold MC = 0.7. Threshold MD = 0.6\n",
      "RD = 9850 NZ = 17665 NZA = 22870 pNZ = 1.983% pNZA = 2.568% AD = 55.76% ADA = 43.07% NO = 3696 GSP = 55.68% NSP = 51.27%\n",
      "SI2 = 2.37 SI = -29.62 eGROI = 89.25% eROI = 2.42% eROI2 = 15.33% eROI3 = -21.63% mSpread = 0.0235%\n",
      "\n",
      "Getting extended results...\n"
     ]
    },
    {
     "name": "stderr",
     "output_type": "stream",
     "text": [
      "100%|█████████████████████████████████████████████████████████████████████████████████████████████████████████████████████████████| 22869/22869 [00:04<00:00, 4664.97it/s]\n"
     ]
    },
    {
     "name": "stdout",
     "output_type": "stream",
     "text": [
      "Epoch = 13. Time index = mean. Threshold MC = 0.7. Threshold MD = 0.6\n",
      "RD = 9850 NZ = 17665 NZA = 22870 pNZ = 1.983% pNZA = 2.568% AD = 55.76% ADA = 43.07% NO = 3696 GSP = 55.68% NSP = 51.27%\n",
      "SI2 = 2.37 SI = -29.62 eGROI = 89.25% eROI = 2.42% eROI2 = 15.33% eROI3 = -21.63% mSpread = 0.0235%\n",
      "\n",
      "Getting extended results...\n"
     ]
    },
    {
     "name": "stderr",
     "output_type": "stream",
     "text": [
      "100%|█████████████████████████████████████████████████████████████████████████████████████████████████████████████████████████████| 22869/22869 [00:05<00:00, 4533.10it/s]\n"
     ]
    },
    {
     "name": "stdout",
     "output_type": "stream",
     "text": [
      "Epoch = 13. Time index = mean. Threshold MC = 0.7. Threshold MD = 0.6\n",
      "RD = 9850 NZ = 17665 NZA = 22870 pNZ = 1.983% pNZA = 2.568% AD = 55.76% ADA = 43.07% NO = 3696 GSP = 55.68% NSP = 51.27%\n",
      "SI2 = 2.37 SI = -29.62 eGROI = 89.25% eROI = 2.42% eROI2 = 15.33% eROI3 = -21.63% mSpread = 0.0235%\n",
      "\n",
      "Getting extended results...\n"
     ]
    },
    {
     "name": "stderr",
     "output_type": "stream",
     "text": [
      "100%|█████████████████████████████████████████████████████████████████████████████████████████████████████████████████████████████| 22869/22869 [00:05<00:00, 4338.42it/s]\n"
     ]
    },
    {
     "name": "stdout",
     "output_type": "stream",
     "text": [
      "Epoch = 13. Time index = mean. Threshold MC = 0.7. Threshold MD = 0.6\n",
      "RD = 9850 NZ = 17665 NZA = 22870 pNZ = 1.983% pNZA = 2.568% AD = 55.76% ADA = 43.07% NO = 3696 GSP = 55.68% NSP = 51.27%\n",
      "SI2 = 2.37 SI = -29.62 eGROI = 89.25% eROI = 2.42% eROI2 = 15.33% eROI3 = -21.63% mSpread = 0.0235%\n",
      "\n",
      "Getting extended results...\n"
     ]
    },
    {
     "name": "stderr",
     "output_type": "stream",
     "text": [
      "100%|█████████████████████████████████████████████████████████████████████████████████████████████████████████████████████████████| 22869/22869 [00:06<00:00, 3806.20it/s]\n"
     ]
    },
    {
     "name": "stdout",
     "output_type": "stream",
     "text": [
      "Epoch = 13. Time index = mean. Threshold MC = 0.7. Threshold MD = 0.6\n",
      "RD = 9850 NZ = 17665 NZA = 22870 pNZ = 1.983% pNZA = 2.568% AD = 55.76% ADA = 43.07% NO = 3696 GSP = 55.68% NSP = 51.27%\n",
      "SI2 = 2.37 SI = -29.62 eGROI = 89.25% eROI = 2.42% eROI2 = 15.33% eROI3 = -21.63% mSpread = 0.0235%\n",
      "\n",
      "Getting extended results...\n"
     ]
    },
    {
     "name": "stderr",
     "output_type": "stream",
     "text": [
      "100%|█████████████████████████████████████████████████████████████████████████████████████████████████████████████████████████████| 22869/22869 [00:05<00:00, 4564.71it/s]\n"
     ]
    },
    {
     "name": "stdout",
     "output_type": "stream",
     "text": [
      "Epoch = 13. Time index = mean. Threshold MC = 0.7. Threshold MD = 0.6\n",
      "RD = 9850 NZ = 17665 NZA = 22870 pNZ = 1.983% pNZA = 2.568% AD = 55.76% ADA = 43.07% NO = 3696 GSP = 55.68% NSP = 51.27%\n",
      "SI2 = 2.37 SI = -29.62 eGROI = 89.25% eROI = 2.42% eROI2 = 15.33% eROI3 = -21.63% mSpread = 0.0235%\n",
      "\n",
      "Getting extended results...\n"
     ]
    },
    {
     "name": "stderr",
     "output_type": "stream",
     "text": [
      "100%|█████████████████████████████████████████████████████████████████████████████████████████████████████████████████████████████| 22869/22869 [00:05<00:00, 4048.84it/s]\n"
     ]
    },
    {
     "name": "stdout",
     "output_type": "stream",
     "text": [
      "Epoch = 13. Time index = mean. Threshold MC = 0.7. Threshold MD = 0.6\n",
      "RD = 9850 NZ = 17665 NZA = 22870 pNZ = 1.983% pNZA = 2.568% AD = 55.76% ADA = 43.07% NO = 3696 GSP = 55.68% NSP = 51.27%\n",
      "SI2 = 2.37 SI = -29.62 eGROI = 89.25% eROI = 2.42% eROI2 = 15.33% eROI3 = -21.63% mSpread = 0.0235%\n",
      "\n",
      "Best eGROI = 208.66 t_index 2 thr_mc 0.5 thr_md 0.6 epoch 13 in 12745 GSP 56.74 ADA 38.20 AD 55.17\n",
      "Best eROI = 26.44 t_index 2 thr_mc 0.8 thr_md 0.6 epoch 13 in 1412 GSP 54.18 ADA 43.69 AD 53.62\n",
      "Best eROI.5 = 144.94 t_index 2 thr_mc 0.5 thr_md 0.6 epoch 13 in 12745 GSP 56.74 ADA 38.20 AD 55.17\n",
      "Best eROI1 = 81.21 t_index 2 thr_mc 0.5 thr_md 0.6 epoch 13 in 12745 GSP 56.74 ADA 38.20 AD 55.17\n",
      "Best eROI1.5 = 41.98 t_index 1 thr_mc 0.7 thr_md 0.6 epoch 13 in 4019 GSP 55.19 ADA 42.49 AD 55.42\n",
      "Best eROI2 = 30.92 t_index 2 thr_mc 0.8 thr_md 0.6 epoch 13 in 1412 GSP 54.18 ADA 43.69 AD 53.62\n",
      "Best eROI3 = 16.99 t_index 2 thr_mc 0.9 thr_md 0.5 epoch 13 in 124 GSP 58.06 ADA 51.86 AD 56.74\n",
      "Best eROI4 = 15.75 t_index 2 thr_mc 0.9 thr_md 0.5 epoch 13 in 124 GSP 58.06 ADA 51.86 AD 56.74\n",
      "Best eROI5 = 14.51 t_index 2 thr_mc 0.9 thr_md 0.5 epoch 13 in 124 GSP 58.06 ADA 51.86 AD 56.74\n",
      "Best SI = 15.08 t_index 1 thr_mc 0.7 thr_md 0.7 epoch 13 in 664 GSP 59.64 ADA 45.36 AD 57.30\n",
      "Best SI.5 = 339.15 t_index 2 thr_mc 0.5 thr_md 0.6 epoch 13 in 12745 GSP 56.74 ADA 38.20 AD 55.17\n",
      "Best SI1 = 181.34 t_index 0 thr_mc 0.5 thr_md 0.6 epoch 13 in 9122 GSP 57.76 ADA 39.50 AD 58.03\n",
      "Best SI1.5 = 93.86 t_index 3 thr_mc 0.5 thr_md 0.7 epoch 13 in 2738 GSP 59.86 ADA 42.81 AD 57.32\n",
      "Best SI2 = 56.86 t_index 3 thr_mc 0.5 thr_md 0.7 epoch 13 in 2738 GSP 59.86 ADA 42.81 AD 57.32\n",
      "Best SI3 = 8.08 t_index 1 thr_mc 0.7 thr_md 0.7 epoch 13 in 664 GSP 59.64 ADA 45.36 AD 57.30\n",
      "Best SI4 = 1.56 t_index 0 thr_mc 0.8 thr_md 0.6 epoch 13 in 348 GSP 59.48 ADA 49.08 AD 58.34\n",
      "Best SI5 = 0.51 t_index 2 thr_mc 0.6 thr_md 0.8 epoch 13 in 133 GSP 58.65 ADA 41.27 AD 50.94\n",
      "Best 99eGROI = 197.17 t_index 2 thr_mc 0.5 thr_md 0.6 epoch 13 in 12745 GSP 56.74 ADA 38.20 AD 55.17\n",
      "Best 99eROI = 27.54 t_index 1 thr_mc 0.7 thr_md 0.7 epoch 13 in 664 GSP 59.64 ADA 45.36 AD 57.30\n",
      "Best 99eROI.5 = 134.71 t_index 2 thr_mc 0.5 thr_md 0.6 epoch 13 in 12745 GSP 56.74 ADA 38.20 AD 55.17\n",
      "Best 99eROI1 = 72.26 t_index 2 thr_mc 0.5 thr_md 0.6 epoch 13 in 12745 GSP 56.74 ADA 38.20 AD 55.17\n",
      "Best 99eROI1.5 = 43.33 t_index 1 thr_mc 0.5 thr_md 0.7 epoch 13 in 1298 GSP 59.55 ADA 44.44 AD 59.23\n",
      "Best 99eROI2 = 36.96 t_index 1 thr_mc 0.5 thr_md 0.7 epoch 13 in 1298 GSP 59.55 ADA 44.44 AD 59.23\n",
      "Best 99eROI3 = 25.04 t_index 1 thr_mc 0.7 thr_md 0.7 epoch 13 in 664 GSP 59.64 ADA 45.36 AD 57.30\n",
      "Best 99eROI4 = 22.27 t_index 2 thr_mc 0.9 thr_md 0.5 epoch 13 in 124 GSP 58.06 ADA 51.86 AD 56.74\n",
      "Best 99eROI5 = 21.05 t_index 2 thr_mc 0.9 thr_md 0.5 epoch 13 in 124 GSP 58.06 ADA 51.86 AD 56.74\n",
      "\n",
      "The very best:\n",
      "Best eGROI = 208.66 t_index 2 thr_mc 0.5 thr_md 0.6 epoch 13 in 12745 GSP 56.74 ADA 38.20 AD 55.17\n",
      "Best eROI = 79.35 t_index 0 thr_mc 0.7 thr_md 0.5 epoch 0 in 2226 GSP 57.01 ADA 45.10 AD 54.12\n",
      "Best eROI.5 = 170.60 t_index 1 thr_mc 0.7 thr_md 0.5 epoch 0 in 5217 GSP 57.14 ADA 41.43 AD 53.99\n",
      "Best eROI1 = 144.52 t_index 1 thr_mc 0.7 thr_md 0.5 epoch 0 in 5217 GSP 57.14 ADA 41.43 AD 53.99\n",
      "Best eROI1.5 = 118.43 t_index 1 thr_mc 0.7 thr_md 0.5 epoch 0 in 5217 GSP 57.14 ADA 41.43 AD 53.99\n",
      "Best eROI2 = 92.35 t_index 1 thr_mc 0.7 thr_md 0.5 epoch 0 in 5217 GSP 57.14 ADA 41.43 AD 53.99\n",
      "Best eROI3 = 64.46 t_index 0 thr_mc 0.7 thr_md 0.5 epoch 0 in 2226 GSP 57.01 ADA 45.10 AD 54.12\n",
      "Best eROI4 = 42.20 t_index 0 thr_mc 0.7 thr_md 0.5 epoch 0 in 2226 GSP 57.01 ADA 45.10 AD 54.12\n",
      "Best eROI5 = 27.62 t_index 3 thr_mc 0.9 thr_md 0.5 epoch 14 in 184 GSP 55.43 ADA 49.93 AD 55.90\n",
      "Best SI = 37.77 t_index 0 thr_mc 0.7 thr_md 0.6 epoch 9 in 891 GSP 61.05 ADA 46.19 AD 61.14\n",
      "Best SI.5 = 411.04 t_index 3 thr_mc 0.5 thr_md 0.6 epoch 8 in 10432 GSP 58.26 ADA 38.17 AD 56.26\n",
      "Best SI1 = 234.15 t_index 3 thr_mc 0.5 thr_md 0.6 epoch 9 in 11345 GSP 57.96 ADA 38.28 AD 55.82\n",
      "Best SI1.5 = 134.23 t_index 2 thr_mc 0.6 thr_md 0.6 epoch 7 in 5509 GSP 59.21 ADA 40.40 AD 57.89\n",
      "Best SI2 = 80.55 t_index 3 thr_mc 0.5 thr_md 0.7 epoch 14 in 3365 GSP 60.77 ADA 42.78 AD 57.60\n",
      "Best SI3 = 26.77 t_index 0 thr_mc 0.7 thr_md 0.6 epoch 9 in 891 GSP 61.05 ADA 46.19 AD 61.14\n",
      "Best SI4 = 15.49 t_index 3 thr_mc 0.8 thr_md 0.6 epoch 5 in 67 GSP 82.09 ADA 62.60 AD 81.91\n",
      "Best SI5 = 14.49 t_index 3 thr_mc 0.8 thr_md 0.6 epoch 5 in 67 GSP 82.09 ADA 62.60 AD 81.91\n",
      "Best 99eGROI = 199.25 t_index 3 thr_mc 0.5 thr_md 0.6 epoch 10 in 12161 GSP 57.14 ADA 38.16 AD 55.40\n",
      "Best 99eROI = 37.00 t_index 3 thr_mc 0.9 thr_md 0.5 epoch 14 in 184 GSP 55.43 ADA 49.93 AD 55.90\n",
      "Best 99eROI.5 = 139.65 t_index 3 thr_mc 0.5 thr_md 0.6 epoch 10 in 12161 GSP 57.14 ADA 38.16 AD 55.40\n",
      "Best 99eROI1 = 87.49 t_index 1 thr_mc 0.6 thr_md 0.6 epoch 11 in 7915 GSP 57.71 ADA 40.70 AD 56.52\n",
      "Best 99eROI1.5 = 64.81 t_index 3 thr_mc 0.5 thr_md 0.7 epoch 14 in 3365 GSP 60.77 ADA 42.78 AD 57.60\n",
      "Best 99eROI2 = 48.32 t_index 3 thr_mc 0.5 thr_md 0.7 epoch 14 in 3365 GSP 60.77 ADA 42.78 AD 57.60\n",
      "Best 99eROI3 = 36.83 t_index 3 thr_mc 0.9 thr_md 0.5 epoch 14 in 184 GSP 55.43 ADA 49.93 AD 55.90\n",
      "Best 99eROI4 = 35.01 t_index 3 thr_mc 0.9 thr_md 0.5 epoch 14 in 184 GSP 55.43 ADA 49.93 AD 55.90\n",
      "Best 99eROI5 = 33.19 t_index 3 thr_mc 0.9 thr_md 0.5 epoch 14 in 184 GSP 55.43 ADA 49.93 AD 55.90\n",
      "Time=201.87 secs\n",
      "INFO:tensorflow:Restoring parameters from C:/Users/mgutierrez/root/Projects/SDC/py/RNN/weights/WRNN01010k5K5A/000014/000014\n",
      "Parameters loaded. Epoch 14\n",
      "Epoch 14 of 14. Getting output...\n"
     ]
    },
    {
     "name": "stderr",
     "output_type": "stream",
     "text": [
      "100%|███████████████████████████████████████████████████████████████████████████████████████████████████████████████████████████████████| 870/870 [01:15<00:00, 11.55it/s]\n"
     ]
    },
    {
     "name": "stdout",
     "output_type": "stream",
     "text": [
      "J_test = 1.855721\n",
      "Epoch 14, J_train = 1.5600464366119844, J_test = 1.8557212096521225\n",
      "Getting extended results...\n"
     ]
    },
    {
     "name": "stderr",
     "output_type": "stream",
     "text": [
      "100%|█████████████████████████████████████████████████████████████████████████████████████████████████████████████████████████████| 11601/11601 [00:02<00:00, 4206.59it/s]\n"
     ]
    },
    {
     "name": "stdout",
     "output_type": "stream",
     "text": [
      "Epoch = 14. Time index = 0. Threshold MC = 0.7. Threshold MD = 0.6\n",
      "RD = 5104 NZ = 8867 NZA = 11602 pNZ = 0.996% pNZA = 1.303% AD = 57.56% ADA = 43.99% NO = 2603 GSP = 57.09% NSP = 53.25%\n",
      "SI2 = 4.14 SI = -23.84 eGROI = 65.97% eROI = 1.79% eROI2 = 13.91% eROI3 = -12.12% mSpread = 0.0247%\n",
      "\n",
      "Getting extended results...\n"
     ]
    },
    {
     "name": "stderr",
     "output_type": "stream",
     "text": [
      "100%|█████████████████████████████████████████████████████████████████████████████████████████████████████████████████████████████| 26811/26811 [00:05<00:00, 4625.09it/s]\n"
     ]
    },
    {
     "name": "stdout",
     "output_type": "stream",
     "text": [
      "Epoch = 14. Time index = 1. Threshold MC = 0.7. Threshold MD = 0.6\n",
      "RD = 11300 NZ = 20551 NZA = 26812 pNZ = 2.308% pNZA = 3.011% AD = 54.99% ADA = 42.15% NO = 4273 GSP = 55.28% NSP = 50.55%\n",
      "SI2 = 1.79 SI = -32.32 eGROI = 93.91% eROI = -6.09% eROI2 = 8.45% eROI3 = -34.28% mSpread = 0.0234%\n",
      "\n",
      "Getting extended results...\n"
     ]
    },
    {
     "name": "stderr",
     "output_type": "stream",
     "text": [
      "100%|█████████████████████████████████████████████████████████████████████████████████████████████████████████████████████████████| 33917/33917 [00:06<00:00, 5161.70it/s]\n"
     ]
    },
    {
     "name": "stdout",
     "output_type": "stream",
     "text": [
      "Epoch = 14. Time index = 2. Threshold MC = 0.7. Threshold MD = 0.6\n",
      "RD = 14040 NZ = 25980 NZA = 33918 pNZ = 2.917% pNZA = 3.808% AD = 54.04% ADA = 41.39% NO = 4669 GSP = 53.67% NSP = 49.56%\n",
      "SI2 = 0.13 SI = -34.46 eGROI = 92.14% eROI = -15.30% eROI2 = -1.24% eROI3 = -47.93% mSpread = 0.0230%\n",
      "\n",
      "Getting extended results...\n"
     ]
    },
    {
     "name": "stderr",
     "output_type": "stream",
     "text": [
      "100%|█████████████████████████████████████████████████████████████████████████████████████████████████████████████████████████████| 38934/38934 [00:08<00:00, 4738.48it/s]\n"
     ]
    },
    {
     "name": "stdout",
     "output_type": "stream",
     "text": [
      "Epoch = 14. Time index = 3. Threshold MC = 0.7. Threshold MD = 0.6\n",
      "RD = 16064 NZ = 29826 NZA = 38935 pNZ = 3.349% pNZA = 4.372% AD = 53.86% ADA = 41.26% NO = 4997 GSP = 53.73% NSP = 49.19%\n",
      "SI2 = -0.41 SI = -35.91 eGROI = 122.03% eROI = 6.85% eROI2 = 22.09% eROI3 = -27.88% mSpread = 0.0231%\n",
      "\n",
      "Getting extended results...\n"
     ]
    },
    {
     "name": "stderr",
     "output_type": "stream",
     "text": [
      "100%|█████████████████████████████████████████████████████████████████████████████████████████████████████████████████████████████| 25547/25547 [00:05<00:00, 4978.33it/s]\n"
     ]
    },
    {
     "name": "stdout",
     "output_type": "stream",
     "text": [
      "Epoch = 14. Time index = mean. Threshold MC = 0.7. Threshold MD = 0.6\n",
      "RD = 10904 NZ = 19709 NZA = 25548 pNZ = 2.213% pNZA = 2.869% AD = 55.32% ADA = 42.68% NO = 3939 GSP = 54.89% NSP = 50.57%\n",
      "SI2 = 1.48 SI = -31.01 eGROI = 98.21% eROI = 5.67% eROI2 = 19.43% eROI3 = -19.96% mSpread = 0.0235%\n",
      "\n",
      "Getting extended results...\n"
     ]
    },
    {
     "name": "stderr",
     "output_type": "stream",
     "text": [
      "100%|█████████████████████████████████████████████████████████████████████████████████████████████████████████████████████████████| 25547/25547 [00:05<00:00, 4468.51it/s]\n"
     ]
    },
    {
     "name": "stdout",
     "output_type": "stream",
     "text": [
      "Epoch = 14. Time index = mean. Threshold MC = 0.7. Threshold MD = 0.6\n",
      "RD = 10904 NZ = 19709 NZA = 25548 pNZ = 2.213% pNZA = 2.869% AD = 55.32% ADA = 42.68% NO = 3939 GSP = 54.89% NSP = 50.57%\n",
      "SI2 = 1.48 SI = -31.01 eGROI = 98.21% eROI = 5.67% eROI2 = 19.43% eROI3 = -19.96% mSpread = 0.0235%\n",
      "\n",
      "Getting extended results...\n"
     ]
    },
    {
     "name": "stderr",
     "output_type": "stream",
     "text": [
      "100%|█████████████████████████████████████████████████████████████████████████████████████████████████████████████████████████████| 25547/25547 [00:05<00:00, 5064.96it/s]\n"
     ]
    },
    {
     "name": "stdout",
     "output_type": "stream",
     "text": [
      "Epoch = 14. Time index = mean. Threshold MC = 0.7. Threshold MD = 0.6\n",
      "RD = 10904 NZ = 19709 NZA = 25548 pNZ = 2.213% pNZA = 2.869% AD = 55.32% ADA = 42.68% NO = 3939 GSP = 54.89% NSP = 50.57%\n",
      "SI2 = 1.48 SI = -31.01 eGROI = 98.21% eROI = 5.67% eROI2 = 19.43% eROI3 = -19.96% mSpread = 0.0235%\n",
      "\n",
      "Getting extended results...\n"
     ]
    },
    {
     "name": "stderr",
     "output_type": "stream",
     "text": [
      "100%|█████████████████████████████████████████████████████████████████████████████████████████████████████████████████████████████| 25547/25547 [00:05<00:00, 4878.76it/s]\n"
     ]
    },
    {
     "name": "stdout",
     "output_type": "stream",
     "text": [
      "Epoch = 14. Time index = mean. Threshold MC = 0.7. Threshold MD = 0.6\n",
      "RD = 10904 NZ = 19709 NZA = 25548 pNZ = 2.213% pNZA = 2.869% AD = 55.32% ADA = 42.68% NO = 3939 GSP = 54.89% NSP = 50.57%\n",
      "SI2 = 1.48 SI = -31.01 eGROI = 98.21% eROI = 5.67% eROI2 = 19.43% eROI3 = -19.96% mSpread = 0.0235%\n",
      "\n",
      "Getting extended results...\n"
     ]
    },
    {
     "name": "stderr",
     "output_type": "stream",
     "text": [
      "100%|█████████████████████████████████████████████████████████████████████████████████████████████████████████████████████████████| 25547/25547 [00:05<00:00, 4929.47it/s]\n"
     ]
    },
    {
     "name": "stdout",
     "output_type": "stream",
     "text": [
      "Epoch = 14. Time index = mean. Threshold MC = 0.7. Threshold MD = 0.6\n",
      "RD = 10904 NZ = 19709 NZA = 25548 pNZ = 2.213% pNZA = 2.869% AD = 55.32% ADA = 42.68% NO = 3939 GSP = 54.89% NSP = 50.57%\n",
      "SI2 = 1.48 SI = -31.01 eGROI = 98.21% eROI = 5.67% eROI2 = 19.43% eROI3 = -19.96% mSpread = 0.0235%\n",
      "\n",
      "Getting extended results...\n"
     ]
    },
    {
     "name": "stderr",
     "output_type": "stream",
     "text": [
      "100%|█████████████████████████████████████████████████████████████████████████████████████████████████████████████████████████████| 25547/25547 [00:05<00:00, 4951.22it/s]\n"
     ]
    },
    {
     "name": "stdout",
     "output_type": "stream",
     "text": [
      "Epoch = 14. Time index = mean. Threshold MC = 0.7. Threshold MD = 0.6\n",
      "RD = 10904 NZ = 19709 NZA = 25548 pNZ = 2.213% pNZA = 2.869% AD = 55.32% ADA = 42.68% NO = 3939 GSP = 54.89% NSP = 50.57%\n",
      "SI2 = 1.48 SI = -31.01 eGROI = 98.21% eROI = 5.67% eROI2 = 19.43% eROI3 = -19.96% mSpread = 0.0235%\n",
      "\n",
      "Getting extended results...\n"
     ]
    },
    {
     "name": "stderr",
     "output_type": "stream",
     "text": [
      "100%|█████████████████████████████████████████████████████████████████████████████████████████████████████████████████████████████| 25547/25547 [00:05<00:00, 4830.92it/s]\n"
     ]
    },
    {
     "name": "stdout",
     "output_type": "stream",
     "text": [
      "Epoch = 14. Time index = mean. Threshold MC = 0.7. Threshold MD = 0.6\n",
      "RD = 10904 NZ = 19709 NZA = 25548 pNZ = 2.213% pNZA = 2.869% AD = 55.32% ADA = 42.68% NO = 3939 GSP = 54.89% NSP = 50.57%\n",
      "SI2 = 1.48 SI = -31.01 eGROI = 98.21% eROI = 5.67% eROI2 = 19.43% eROI3 = -19.96% mSpread = 0.0235%\n",
      "\n",
      "Getting extended results...\n"
     ]
    },
    {
     "name": "stderr",
     "output_type": "stream",
     "text": [
      "100%|█████████████████████████████████████████████████████████████████████████████████████████████████████████████████████████████| 25547/25547 [00:05<00:00, 4365.01it/s]\n"
     ]
    },
    {
     "name": "stdout",
     "output_type": "stream",
     "text": [
      "Epoch = 14. Time index = mean. Threshold MC = 0.7. Threshold MD = 0.6\n",
      "RD = 10904 NZ = 19709 NZA = 25548 pNZ = 2.213% pNZA = 2.869% AD = 55.32% ADA = 42.68% NO = 3939 GSP = 54.89% NSP = 50.57%\n",
      "SI2 = 1.48 SI = -31.01 eGROI = 98.21% eROI = 5.67% eROI2 = 19.43% eROI3 = -19.96% mSpread = 0.0235%\n",
      "\n",
      "Getting extended results...\n"
     ]
    },
    {
     "name": "stderr",
     "output_type": "stream",
     "text": [
      "100%|█████████████████████████████████████████████████████████████████████████████████████████████████████████████████████████████| 25547/25547 [00:05<00:00, 4820.10it/s]\n"
     ]
    },
    {
     "name": "stdout",
     "output_type": "stream",
     "text": [
      "Epoch = 14. Time index = mean. Threshold MC = 0.7. Threshold MD = 0.6\n",
      "RD = 10904 NZ = 19709 NZA = 25548 pNZ = 2.213% pNZA = 2.869% AD = 55.32% ADA = 42.68% NO = 3939 GSP = 54.89% NSP = 50.57%\n",
      "SI2 = 1.48 SI = -31.01 eGROI = 98.21% eROI = 5.67% eROI2 = 19.43% eROI3 = -19.96% mSpread = 0.0235%\n",
      "\n",
      "Getting extended results...\n"
     ]
    },
    {
     "name": "stderr",
     "output_type": "stream",
     "text": [
      "100%|█████████████████████████████████████████████████████████████████████████████████████████████████████████████████████████████| 25547/25547 [00:05<00:00, 4974.56it/s]\n"
     ]
    },
    {
     "name": "stdout",
     "output_type": "stream",
     "text": [
      "Epoch = 14. Time index = mean. Threshold MC = 0.7. Threshold MD = 0.6\n",
      "RD = 10904 NZ = 19709 NZA = 25548 pNZ = 2.213% pNZA = 2.869% AD = 55.32% ADA = 42.68% NO = 3939 GSP = 54.89% NSP = 50.57%\n",
      "SI2 = 1.48 SI = -31.01 eGROI = 98.21% eROI = 5.67% eROI2 = 19.43% eROI3 = -19.96% mSpread = 0.0235%\n",
      "\n",
      "Getting extended results...\n"
     ]
    },
    {
     "name": "stderr",
     "output_type": "stream",
     "text": [
      "100%|█████████████████████████████████████████████████████████████████████████████████████████████████████████████████████████████| 25547/25547 [00:05<00:00, 5031.67it/s]\n"
     ]
    },
    {
     "name": "stdout",
     "output_type": "stream",
     "text": [
      "Epoch = 14. Time index = mean. Threshold MC = 0.7. Threshold MD = 0.6\n",
      "RD = 10904 NZ = 19709 NZA = 25548 pNZ = 2.213% pNZA = 2.869% AD = 55.32% ADA = 42.68% NO = 3939 GSP = 54.89% NSP = 50.57%\n",
      "SI2 = 1.48 SI = -31.01 eGROI = 98.21% eROI = 5.67% eROI2 = 19.43% eROI3 = -19.96% mSpread = 0.0235%\n",
      "\n",
      "Getting extended results...\n"
     ]
    },
    {
     "name": "stderr",
     "output_type": "stream",
     "text": [
      "100%|█████████████████████████████████████████████████████████████████████████████████████████████████████████████████████████████| 25547/25547 [00:04<00:00, 5148.55it/s]\n"
     ]
    },
    {
     "name": "stdout",
     "output_type": "stream",
     "text": [
      "Epoch = 14. Time index = mean. Threshold MC = 0.7. Threshold MD = 0.6\n",
      "RD = 10904 NZ = 19709 NZA = 25548 pNZ = 2.213% pNZA = 2.869% AD = 55.32% ADA = 42.68% NO = 3939 GSP = 54.89% NSP = 50.57%\n",
      "SI2 = 1.48 SI = -31.01 eGROI = 98.21% eROI = 5.67% eROI2 = 19.43% eROI3 = -19.96% mSpread = 0.0235%\n",
      "\n",
      "Getting extended results...\n"
     ]
    },
    {
     "name": "stderr",
     "output_type": "stream",
     "text": [
      "100%|█████████████████████████████████████████████████████████████████████████████████████████████████████████████████████████████| 25547/25547 [00:05<00:00, 4860.31it/s]\n"
     ]
    },
    {
     "name": "stdout",
     "output_type": "stream",
     "text": [
      "Epoch = 14. Time index = mean. Threshold MC = 0.7. Threshold MD = 0.6\n",
      "RD = 10904 NZ = 19709 NZA = 25548 pNZ = 2.213% pNZA = 2.869% AD = 55.32% ADA = 42.68% NO = 3939 GSP = 54.89% NSP = 50.57%\n",
      "SI2 = 1.48 SI = -31.01 eGROI = 98.21% eROI = 5.67% eROI2 = 19.43% eROI3 = -19.96% mSpread = 0.0235%\n",
      "\n",
      "Getting extended results...\n"
     ]
    },
    {
     "name": "stderr",
     "output_type": "stream",
     "text": [
      "100%|█████████████████████████████████████████████████████████████████████████████████████████████████████████████████████████████| 25547/25547 [00:05<00:00, 4373.20it/s]\n"
     ]
    },
    {
     "name": "stdout",
     "output_type": "stream",
     "text": [
      "Epoch = 14. Time index = mean. Threshold MC = 0.7. Threshold MD = 0.6\n",
      "RD = 10904 NZ = 19709 NZA = 25548 pNZ = 2.213% pNZA = 2.869% AD = 55.32% ADA = 42.68% NO = 3939 GSP = 54.89% NSP = 50.57%\n",
      "SI2 = 1.48 SI = -31.01 eGROI = 98.21% eROI = 5.67% eROI2 = 19.43% eROI3 = -19.96% mSpread = 0.0235%\n",
      "\n",
      "Getting extended results...\n"
     ]
    },
    {
     "name": "stderr",
     "output_type": "stream",
     "text": [
      "100%|█████████████████████████████████████████████████████████████████████████████████████████████████████████████████████████████| 25547/25547 [00:05<00:00, 5036.18it/s]\n"
     ]
    },
    {
     "name": "stdout",
     "output_type": "stream",
     "text": [
      "Epoch = 14. Time index = mean. Threshold MC = 0.7. Threshold MD = 0.6\n",
      "RD = 10904 NZ = 19709 NZA = 25548 pNZ = 2.213% pNZA = 2.869% AD = 55.32% ADA = 42.68% NO = 3939 GSP = 54.89% NSP = 50.57%\n",
      "SI2 = 1.48 SI = -31.01 eGROI = 98.21% eROI = 5.67% eROI2 = 19.43% eROI3 = -19.96% mSpread = 0.0235%\n",
      "\n",
      "Getting extended results...\n"
     ]
    },
    {
     "name": "stderr",
     "output_type": "stream",
     "text": [
      "100%|█████████████████████████████████████████████████████████████████████████████████████████████████████████████████████████████| 25547/25547 [00:05<00:00, 4852.96it/s]\n"
     ]
    },
    {
     "name": "stdout",
     "output_type": "stream",
     "text": [
      "Epoch = 14. Time index = mean. Threshold MC = 0.7. Threshold MD = 0.6\n",
      "RD = 10904 NZ = 19709 NZA = 25548 pNZ = 2.213% pNZA = 2.869% AD = 55.32% ADA = 42.68% NO = 3939 GSP = 54.89% NSP = 50.57%\n",
      "SI2 = 1.48 SI = -31.01 eGROI = 98.21% eROI = 5.67% eROI2 = 19.43% eROI3 = -19.96% mSpread = 0.0235%\n",
      "\n",
      "Getting extended results...\n"
     ]
    },
    {
     "name": "stderr",
     "output_type": "stream",
     "text": [
      "100%|█████████████████████████████████████████████████████████████████████████████████████████████████████████████████████████████| 25547/25547 [00:05<00:00, 5102.40it/s]\n"
     ]
    },
    {
     "name": "stdout",
     "output_type": "stream",
     "text": [
      "Epoch = 14. Time index = mean. Threshold MC = 0.7. Threshold MD = 0.6\n",
      "RD = 10904 NZ = 19709 NZA = 25548 pNZ = 2.213% pNZA = 2.869% AD = 55.32% ADA = 42.68% NO = 3939 GSP = 54.89% NSP = 50.57%\n",
      "SI2 = 1.48 SI = -31.01 eGROI = 98.21% eROI = 5.67% eROI2 = 19.43% eROI3 = -19.96% mSpread = 0.0235%\n",
      "\n",
      "Getting extended results...\n"
     ]
    },
    {
     "name": "stderr",
     "output_type": "stream",
     "text": [
      "100%|█████████████████████████████████████████████████████████████████████████████████████████████████████████████████████████████| 25547/25547 [00:06<00:00, 4221.16it/s]\n"
     ]
    },
    {
     "name": "stdout",
     "output_type": "stream",
     "text": [
      "Epoch = 14. Time index = mean. Threshold MC = 0.7. Threshold MD = 0.6\n",
      "RD = 10904 NZ = 19709 NZA = 25548 pNZ = 2.213% pNZA = 2.869% AD = 55.32% ADA = 42.68% NO = 3939 GSP = 54.89% NSP = 50.57%\n",
      "SI2 = 1.48 SI = -31.01 eGROI = 98.21% eROI = 5.67% eROI2 = 19.43% eROI3 = -19.96% mSpread = 0.0235%\n",
      "\n",
      "Getting extended results...\n"
     ]
    },
    {
     "name": "stderr",
     "output_type": "stream",
     "text": [
      "100%|█████████████████████████████████████████████████████████████████████████████████████████████████████████████████████████████| 25547/25547 [00:07<00:00, 3580.38it/s]\n"
     ]
    },
    {
     "name": "stdout",
     "output_type": "stream",
     "text": [
      "Epoch = 14. Time index = mean. Threshold MC = 0.7. Threshold MD = 0.6\n",
      "RD = 10904 NZ = 19709 NZA = 25548 pNZ = 2.213% pNZA = 2.869% AD = 55.32% ADA = 42.68% NO = 3939 GSP = 54.89% NSP = 50.57%\n",
      "SI2 = 1.48 SI = -31.01 eGROI = 98.21% eROI = 5.67% eROI2 = 19.43% eROI3 = -19.96% mSpread = 0.0235%\n",
      "\n",
      "Getting extended results...\n"
     ]
    },
    {
     "name": "stderr",
     "output_type": "stream",
     "text": [
      "100%|█████████████████████████████████████████████████████████████████████████████████████████████████████████████████████████████| 25547/25547 [00:07<00:00, 3387.20it/s]\n"
     ]
    },
    {
     "name": "stdout",
     "output_type": "stream",
     "text": [
      "Epoch = 14. Time index = mean. Threshold MC = 0.7. Threshold MD = 0.6\n",
      "RD = 10904 NZ = 19709 NZA = 25548 pNZ = 2.213% pNZA = 2.869% AD = 55.32% ADA = 42.68% NO = 3939 GSP = 54.89% NSP = 50.57%\n",
      "SI2 = 1.48 SI = -31.01 eGROI = 98.21% eROI = 5.67% eROI2 = 19.43% eROI3 = -19.96% mSpread = 0.0235%\n",
      "\n",
      "Getting extended results...\n"
     ]
    },
    {
     "name": "stderr",
     "output_type": "stream",
     "text": [
      "100%|█████████████████████████████████████████████████████████████████████████████████████████████████████████████████████████████| 25547/25547 [00:05<00:00, 4515.84it/s]\n"
     ]
    },
    {
     "name": "stdout",
     "output_type": "stream",
     "text": [
      "Epoch = 14. Time index = mean. Threshold MC = 0.7. Threshold MD = 0.6\n",
      "RD = 10904 NZ = 19709 NZA = 25548 pNZ = 2.213% pNZA = 2.869% AD = 55.32% ADA = 42.68% NO = 3939 GSP = 54.89% NSP = 50.57%\n",
      "SI2 = 1.48 SI = -31.01 eGROI = 98.21% eROI = 5.67% eROI2 = 19.43% eROI3 = -19.96% mSpread = 0.0235%\n",
      "\n",
      "Getting extended results...\n"
     ]
    },
    {
     "name": "stderr",
     "output_type": "stream",
     "text": [
      "100%|█████████████████████████████████████████████████████████████████████████████████████████████████████████████████████████████| 25547/25547 [00:05<00:00, 4756.55it/s]\n"
     ]
    },
    {
     "name": "stdout",
     "output_type": "stream",
     "text": [
      "Epoch = 14. Time index = mean. Threshold MC = 0.7. Threshold MD = 0.6\n",
      "RD = 10904 NZ = 19709 NZA = 25548 pNZ = 2.213% pNZA = 2.869% AD = 55.32% ADA = 42.68% NO = 3939 GSP = 54.89% NSP = 50.57%\n",
      "SI2 = 1.48 SI = -31.01 eGROI = 98.21% eROI = 5.67% eROI2 = 19.43% eROI3 = -19.96% mSpread = 0.0235%\n",
      "\n",
      "Getting extended results...\n"
     ]
    },
    {
     "name": "stderr",
     "output_type": "stream",
     "text": [
      "100%|█████████████████████████████████████████████████████████████████████████████████████████████████████████████████████████████| 25547/25547 [00:05<00:00, 4930.51it/s]\n"
     ]
    },
    {
     "name": "stdout",
     "output_type": "stream",
     "text": [
      "Epoch = 14. Time index = mean. Threshold MC = 0.7. Threshold MD = 0.6\n",
      "RD = 10904 NZ = 19709 NZA = 25548 pNZ = 2.213% pNZA = 2.869% AD = 55.32% ADA = 42.68% NO = 3939 GSP = 54.89% NSP = 50.57%\n",
      "SI2 = 1.48 SI = -31.01 eGROI = 98.21% eROI = 5.67% eROI2 = 19.43% eROI3 = -19.96% mSpread = 0.0235%\n",
      "\n",
      "Getting extended results...\n"
     ]
    },
    {
     "name": "stderr",
     "output_type": "stream",
     "text": [
      "100%|█████████████████████████████████████████████████████████████████████████████████████████████████████████████████████████████| 25547/25547 [00:05<00:00, 5058.02it/s]\n"
     ]
    },
    {
     "name": "stdout",
     "output_type": "stream",
     "text": [
      "Epoch = 14. Time index = mean. Threshold MC = 0.7. Threshold MD = 0.6\n",
      "RD = 10904 NZ = 19709 NZA = 25548 pNZ = 2.213% pNZA = 2.869% AD = 55.32% ADA = 42.68% NO = 3939 GSP = 54.89% NSP = 50.57%\n",
      "SI2 = 1.48 SI = -31.01 eGROI = 98.21% eROI = 5.67% eROI2 = 19.43% eROI3 = -19.96% mSpread = 0.0235%\n",
      "\n",
      "Getting extended results...\n"
     ]
    },
    {
     "name": "stderr",
     "output_type": "stream",
     "text": [
      "100%|█████████████████████████████████████████████████████████████████████████████████████████████████████████████████████████████| 25547/25547 [00:05<00:00, 4933.36it/s]\n"
     ]
    },
    {
     "name": "stdout",
     "output_type": "stream",
     "text": [
      "Epoch = 14. Time index = mean. Threshold MC = 0.7. Threshold MD = 0.6\n",
      "RD = 10904 NZ = 19709 NZA = 25548 pNZ = 2.213% pNZA = 2.869% AD = 55.32% ADA = 42.68% NO = 3939 GSP = 54.89% NSP = 50.57%\n",
      "SI2 = 1.48 SI = -31.01 eGROI = 98.21% eROI = 5.67% eROI2 = 19.43% eROI3 = -19.96% mSpread = 0.0235%\n",
      "\n",
      "Getting extended results...\n"
     ]
    },
    {
     "name": "stderr",
     "output_type": "stream",
     "text": [
      "100%|█████████████████████████████████████████████████████████████████████████████████████████████████████████████████████████████| 25547/25547 [00:07<00:00, 3505.64it/s]\n"
     ]
    },
    {
     "name": "stdout",
     "output_type": "stream",
     "text": [
      "Epoch = 14. Time index = mean. Threshold MC = 0.7. Threshold MD = 0.6\n",
      "RD = 10904 NZ = 19709 NZA = 25548 pNZ = 2.213% pNZA = 2.869% AD = 55.32% ADA = 42.68% NO = 3939 GSP = 54.89% NSP = 50.57%\n",
      "SI2 = 1.48 SI = -31.01 eGROI = 98.21% eROI = 5.67% eROI2 = 19.43% eROI3 = -19.96% mSpread = 0.0235%\n",
      "\n",
      "Getting extended results...\n"
     ]
    },
    {
     "name": "stderr",
     "output_type": "stream",
     "text": [
      "100%|█████████████████████████████████████████████████████████████████████████████████████████████████████████████████████████████| 25547/25547 [00:06<00:00, 4188.72it/s]\n"
     ]
    },
    {
     "name": "stdout",
     "output_type": "stream",
     "text": [
      "Epoch = 14. Time index = mean. Threshold MC = 0.7. Threshold MD = 0.6\n",
      "RD = 10904 NZ = 19709 NZA = 25548 pNZ = 2.213% pNZA = 2.869% AD = 55.32% ADA = 42.68% NO = 3939 GSP = 54.89% NSP = 50.57%\n",
      "SI2 = 1.48 SI = -31.01 eGROI = 98.21% eROI = 5.67% eROI2 = 19.43% eROI3 = -19.96% mSpread = 0.0235%\n",
      "\n",
      "Getting extended results...\n"
     ]
    },
    {
     "name": "stderr",
     "output_type": "stream",
     "text": [
      "100%|█████████████████████████████████████████████████████████████████████████████████████████████████████████████████████████████| 25547/25547 [00:06<00:00, 3988.48it/s]\n"
     ]
    },
    {
     "name": "stdout",
     "output_type": "stream",
     "text": [
      "Epoch = 14. Time index = mean. Threshold MC = 0.7. Threshold MD = 0.6\n",
      "RD = 10904 NZ = 19709 NZA = 25548 pNZ = 2.213% pNZA = 2.869% AD = 55.32% ADA = 42.68% NO = 3939 GSP = 54.89% NSP = 50.57%\n",
      "SI2 = 1.48 SI = -31.01 eGROI = 98.21% eROI = 5.67% eROI2 = 19.43% eROI3 = -19.96% mSpread = 0.0235%\n",
      "\n",
      "Getting extended results...\n"
     ]
    },
    {
     "name": "stderr",
     "output_type": "stream",
     "text": [
      "100%|█████████████████████████████████████████████████████████████████████████████████████████████████████████████████████████████| 25547/25547 [00:05<00:00, 4608.50it/s]\n"
     ]
    },
    {
     "name": "stdout",
     "output_type": "stream",
     "text": [
      "Epoch = 14. Time index = mean. Threshold MC = 0.7. Threshold MD = 0.6\n",
      "RD = 10904 NZ = 19709 NZA = 25548 pNZ = 2.213% pNZA = 2.869% AD = 55.32% ADA = 42.68% NO = 3939 GSP = 54.89% NSP = 50.57%\n",
      "SI2 = 1.48 SI = -31.01 eGROI = 98.21% eROI = 5.67% eROI2 = 19.43% eROI3 = -19.96% mSpread = 0.0235%\n",
      "\n",
      "Getting extended results...\n"
     ]
    },
    {
     "name": "stderr",
     "output_type": "stream",
     "text": [
      "100%|█████████████████████████████████████████████████████████████████████████████████████████████████████████████████████████████| 25547/25547 [00:05<00:00, 4748.61it/s]\n"
     ]
    },
    {
     "name": "stdout",
     "output_type": "stream",
     "text": [
      "Epoch = 14. Time index = mean. Threshold MC = 0.7. Threshold MD = 0.6\n",
      "RD = 10904 NZ = 19709 NZA = 25548 pNZ = 2.213% pNZA = 2.869% AD = 55.32% ADA = 42.68% NO = 3939 GSP = 54.89% NSP = 50.57%\n",
      "SI2 = 1.48 SI = -31.01 eGROI = 98.21% eROI = 5.67% eROI2 = 19.43% eROI3 = -19.96% mSpread = 0.0235%\n",
      "\n",
      "Best eGROI = 182.74 t_index 1 thr_mc 0.5 thr_md 0.6 epoch 14 in 12364 GSP 56.94 ADA 38.43 AD 55.64\n",
      "Best eROI = 31.47 t_index 3 thr_mc 0.9 thr_md 0.5 epoch 14 in 184 GSP 55.43 ADA 49.93 AD 55.90\n",
      "Best eROI.5 = 120.92 t_index 1 thr_mc 0.5 thr_md 0.6 epoch 14 in 12364 GSP 56.94 ADA 38.43 AD 55.64\n",
      "Best eROI1 = 76.50 t_index 3 thr_mc 0.5 thr_md 0.7 epoch 14 in 3365 GSP 60.77 ADA 42.78 AD 57.60\n",
      "Best eROI1.5 = 59.68 t_index 3 thr_mc 0.5 thr_md 0.7 epoch 14 in 3365 GSP 60.77 ADA 42.78 AD 57.60\n",
      "Best eROI2 = 42.85 t_index 3 thr_mc 0.5 thr_md 0.7 epoch 14 in 3365 GSP 60.77 ADA 42.78 AD 57.60\n",
      "Best eROI3 = 31.30 t_index 3 thr_mc 0.9 thr_md 0.5 epoch 14 in 184 GSP 55.43 ADA 49.93 AD 55.90\n",
      "Best eROI4 = 29.46 t_index 3 thr_mc 0.9 thr_md 0.5 epoch 14 in 184 GSP 55.43 ADA 49.93 AD 55.90\n",
      "Best eROI5 = 27.62 t_index 3 thr_mc 0.9 thr_md 0.5 epoch 14 in 184 GSP 55.43 ADA 49.93 AD 55.90\n",
      "Best SI = 31.47 t_index 3 thr_mc 0.7 thr_md 0.7 epoch 14 in 1601 GSP 59.96 ADA 44.42 AD 55.83\n",
      "Best SI.5 = 323.98 t_index 0 thr_mc 0.5 thr_md 0.6 epoch 14 in 9834 GSP 57.45 ADA 39.16 AD 57.44\n",
      "Best SI1 = 175.77 t_index 0 thr_mc 0.6 thr_md 0.6 epoch 14 in 6791 GSP 58.12 ADA 41.60 AD 57.70\n",
      "Best SI1.5 = 123.55 t_index 3 thr_mc 0.5 thr_md 0.7 epoch 14 in 3365 GSP 60.77 ADA 42.78 AD 57.60\n",
      "Best SI2 = 80.55 t_index 3 thr_mc 0.5 thr_md 0.7 epoch 14 in 3365 GSP 60.77 ADA 42.78 AD 57.60\n",
      "Best SI3 = 9.47 t_index 3 thr_mc 0.7 thr_md 0.7 epoch 14 in 1601 GSP 59.96 ADA 44.42 AD 55.83\n",
      "Best SI4 = 1.09 t_index 0 thr_mc 0.6 thr_md 0.7 epoch 14 in 147 GSP 65.31 ADA 49.07 AD 70.00\n",
      "Best SI5 = 0.61 t_index 1 thr_mc 0.5 thr_md 0.8 epoch 14 in 63 GSP 58.73 ADA 44.76 AD 58.75\n",
      "Best 99eGROI = 178.04 t_index 1 thr_mc 0.5 thr_md 0.6 epoch 14 in 12364 GSP 56.94 ADA 38.43 AD 55.64\n",
      "Best 99eROI = 37.00 t_index 3 thr_mc 0.9 thr_md 0.5 epoch 14 in 184 GSP 55.43 ADA 49.93 AD 55.90\n",
      "Best 99eROI.5 = 117.45 t_index 1 thr_mc 0.5 thr_md 0.6 epoch 14 in 12364 GSP 56.94 ADA 38.43 AD 55.64\n",
      "Best 99eROI1 = 81.31 t_index 3 thr_mc 0.5 thr_md 0.7 epoch 14 in 3365 GSP 60.77 ADA 42.78 AD 57.60\n",
      "Best 99eROI1.5 = 64.81 t_index 3 thr_mc 0.5 thr_md 0.7 epoch 14 in 3365 GSP 60.77 ADA 42.78 AD 57.60\n",
      "Best 99eROI2 = 48.32 t_index 3 thr_mc 0.5 thr_md 0.7 epoch 14 in 3365 GSP 60.77 ADA 42.78 AD 57.60\n",
      "Best 99eROI3 = 36.83 t_index 3 thr_mc 0.9 thr_md 0.5 epoch 14 in 184 GSP 55.43 ADA 49.93 AD 55.90\n",
      "Best 99eROI4 = 35.01 t_index 3 thr_mc 0.9 thr_md 0.5 epoch 14 in 184 GSP 55.43 ADA 49.93 AD 55.90\n",
      "Best 99eROI5 = 33.19 t_index 3 thr_mc 0.9 thr_md 0.5 epoch 14 in 184 GSP 55.43 ADA 49.93 AD 55.90\n",
      "\n",
      "The very best:\n",
      "Best eGROI = 208.66 t_index 2 thr_mc 0.5 thr_md 0.6 epoch 13 in 12745 GSP 56.74 ADA 38.20 AD 55.17\n",
      "Best eROI = 79.35 t_index 0 thr_mc 0.7 thr_md 0.5 epoch 0 in 2226 GSP 57.01 ADA 45.10 AD 54.12\n",
      "Best eROI.5 = 170.60 t_index 1 thr_mc 0.7 thr_md 0.5 epoch 0 in 5217 GSP 57.14 ADA 41.43 AD 53.99\n",
      "Best eROI1 = 144.52 t_index 1 thr_mc 0.7 thr_md 0.5 epoch 0 in 5217 GSP 57.14 ADA 41.43 AD 53.99\n",
      "Best eROI1.5 = 118.43 t_index 1 thr_mc 0.7 thr_md 0.5 epoch 0 in 5217 GSP 57.14 ADA 41.43 AD 53.99\n",
      "Best eROI2 = 92.35 t_index 1 thr_mc 0.7 thr_md 0.5 epoch 0 in 5217 GSP 57.14 ADA 41.43 AD 53.99\n",
      "Best eROI3 = 64.46 t_index 0 thr_mc 0.7 thr_md 0.5 epoch 0 in 2226 GSP 57.01 ADA 45.10 AD 54.12\n",
      "Best eROI4 = 42.20 t_index 0 thr_mc 0.7 thr_md 0.5 epoch 0 in 2226 GSP 57.01 ADA 45.10 AD 54.12\n",
      "Best eROI5 = 27.62 t_index 3 thr_mc 0.9 thr_md 0.5 epoch 14 in 184 GSP 55.43 ADA 49.93 AD 55.90\n",
      "Best SI = 37.77 t_index 0 thr_mc 0.7 thr_md 0.6 epoch 9 in 891 GSP 61.05 ADA 46.19 AD 61.14\n",
      "Best SI.5 = 411.04 t_index 3 thr_mc 0.5 thr_md 0.6 epoch 8 in 10432 GSP 58.26 ADA 38.17 AD 56.26\n",
      "Best SI1 = 234.15 t_index 3 thr_mc 0.5 thr_md 0.6 epoch 9 in 11345 GSP 57.96 ADA 38.28 AD 55.82\n",
      "Best SI1.5 = 134.23 t_index 2 thr_mc 0.6 thr_md 0.6 epoch 7 in 5509 GSP 59.21 ADA 40.40 AD 57.89\n",
      "Best SI2 = 80.55 t_index 3 thr_mc 0.5 thr_md 0.7 epoch 14 in 3365 GSP 60.77 ADA 42.78 AD 57.60\n",
      "Best SI3 = 26.77 t_index 0 thr_mc 0.7 thr_md 0.6 epoch 9 in 891 GSP 61.05 ADA 46.19 AD 61.14\n",
      "Best SI4 = 15.49 t_index 3 thr_mc 0.8 thr_md 0.6 epoch 5 in 67 GSP 82.09 ADA 62.60 AD 81.91\n",
      "Best SI5 = 14.49 t_index 3 thr_mc 0.8 thr_md 0.6 epoch 5 in 67 GSP 82.09 ADA 62.60 AD 81.91\n",
      "Best 99eGROI = 199.25 t_index 3 thr_mc 0.5 thr_md 0.6 epoch 10 in 12161 GSP 57.14 ADA 38.16 AD 55.40\n",
      "Best 99eROI = 37.00 t_index 3 thr_mc 0.9 thr_md 0.5 epoch 14 in 184 GSP 55.43 ADA 49.93 AD 55.90\n",
      "Best 99eROI.5 = 139.65 t_index 3 thr_mc 0.5 thr_md 0.6 epoch 10 in 12161 GSP 57.14 ADA 38.16 AD 55.40\n",
      "Best 99eROI1 = 87.49 t_index 1 thr_mc 0.6 thr_md 0.6 epoch 11 in 7915 GSP 57.71 ADA 40.70 AD 56.52\n",
      "Best 99eROI1.5 = 64.81 t_index 3 thr_mc 0.5 thr_md 0.7 epoch 14 in 3365 GSP 60.77 ADA 42.78 AD 57.60\n",
      "Best 99eROI2 = 48.32 t_index 3 thr_mc 0.5 thr_md 0.7 epoch 14 in 3365 GSP 60.77 ADA 42.78 AD 57.60\n",
      "Best 99eROI3 = 36.83 t_index 3 thr_mc 0.9 thr_md 0.5 epoch 14 in 184 GSP 55.43 ADA 49.93 AD 55.90\n",
      "Best 99eROI4 = 35.01 t_index 3 thr_mc 0.9 thr_md 0.5 epoch 14 in 184 GSP 55.43 ADA 49.93 AD 55.90\n",
      "Best 99eROI5 = 33.19 t_index 3 thr_mc 0.9 thr_md 0.5 epoch 14 in 184 GSP 55.43 ADA 49.93 AD 55.90\n",
      "Time=218.16 secs\n",
      "Total time for CV: 31.246115684509277 mins.\n",
      "\n"
     ]
    }
   ],
   "source": [
    "entries = {'thresholds_mc':thresholds_mc,'thresholds_md':thresholds_md,'resolution':resolution,'results_from':results_from,'startFrom':5,\n",
    "           'endAt':-1,'save_journal':save_journal,'feats_from_bids':feats_from_bids,'size_output_layer':8,'n_bits_outputs':[1,2,5],\n",
    "           'combine_ts':{'if_combine':True,'params_combine':[{'alg':'mean'}]},'outputGain':outputGain,'movingWindow':movingWindow,\n",
    "           'nEventsPerStat':nEventsPerStat,'t_indexes':t_indexes}\n",
    "automate_Kfold(rootname_config, entries=entries, K=K, tAt='Te', IDrs=IDrs, build_IDrs=False,\n",
    "            its=1, sufix=sufix, IDr_merged=IDr_merged,k_init=k_init, k_end=k_end,if_merge_results=False)"
   ]
  },
  {
   "cell_type": "code",
   "execution_count": null,
   "metadata": {},
   "outputs": [],
   "source": [
    "from kaissandra.automate import automate_Kfold\n",
    "\n",
    "rootname_config = 'RNN01021'\n",
    "extR = 'AL'\n",
    "sufix='R20'\n",
    "K = 5\n",
    "k_end = 2\n",
    "resolution = 20\n",
    "k_init = 1\n",
    "outputGain = 0.8\n",
    "movingWindow = 200\n",
    "nEventsPerStat = 2000\n",
    "results_from = 'ASKS'\n",
    "feats_from_bids = False\n",
    "save_journal = True\n",
    "thresholds_mc = [int(np.round((.5+i/resolution)*100))/100 for i in range(int(resolution/2))]\n",
    "thresholds_md = [int(np.round((.5+i/resolution)*100))/100 for i in range(int(resolution/2))]\n",
    "IDrs=['R'+rootname_config+'k'+str(fold_idx+1)+'K'+str(K)+extR+sufix for fold_idx in range(k_end)]\n",
    "IDr_merged=rootname_config+'k'+str(k_init+1)+'-'+str(k_end)+'K'+str(K)+extR+sufix"
   ]
  },
  {
   "cell_type": "code",
   "execution_count": null,
   "metadata": {},
   "outputs": [],
   "source": [
    "entries = {'thresholds_mc':thresholds_mc,'thresholds_md':thresholds_md,'resolution':resolution,'results_from':results_from,'startFrom':9,\n",
    "           'endAt':9,'save_journal':save_journal,'feats_from_bids':feats_from_bids,'size_output_layer':8,'n_bits_outputs':[1,2,5],\n",
    "           'combine_ts':{'if_combine':False,'params_combine':[{'alg':'mean'}]},'outputGain':outputGain,\n",
    "           'movingWindow':movingWindow,'nEventsPerStat':nEventsPerStat}\n",
    "automate_Kfold(rootname_config, entries=entries, K=K, tAt='Te', IDrs=IDrs, build_IDrs=False,\n",
    "            its=1, sufix=sufix, IDr_merged=IDr_merged,k_init=k_init, k_end=k_end,if_merge_results=False)"
   ]
  },
  {
   "cell_type": "code",
   "execution_count": null,
   "metadata": {},
   "outputs": [],
   "source": [
    "from kaissandra.results2 import merge_results\n",
    "merge_results(IDrs, IDr_merged)"
   ]
  },
  {
   "cell_type": "markdown",
   "metadata": {},
   "source": [
    "## Test unseen dataset"
   ]
  },
  {
   "cell_type": "code",
   "execution_count": null,
   "metadata": {},
   "outputs": [],
   "source": [
    "from kaissandra.automate import automate_fixedEdges\n",
    "\n",
    "\n",
    "rootname_config = 'RNN01010'\n",
    "k = 1\n",
    "outputGain = 1\n",
    "movingWindow = 500\n",
    "nEventsPerStat = 5000\n",
    "results_from = 'ASKS'\n",
    "feats_from_bids = False\n",
    "save_journal = True\n",
    "resolution = 10\n",
    "thresholds_mc = [.6]#[int(np.round((.5+i/resolution)*100))/100 for i in range(int(resolution/2))]\n",
    "thresholds_md = [.7]#[int(np.round((.5+i/resolution)*100))/100 for i in range(int(resolution/2))]\n",
    "startFrom = 12\n",
    "endAt = 12\n",
    "sufix='testk'+str(k)+'E'+str(startFrom)+'TmeanC6D6'\n",
    "t_indexes = [0,1,2,3]\n",
    "if feats_from_bids:\n",
    "    ext = 'B'\n",
    "else:\n",
    "    ext = 'A'\n",
    "IDweights = 'W'+rootname_config+'k'+str(k)+'K5'+ext\n",
    "first_day = '2018.11.12'\n",
    "last_day = '2019.03.29'\n",
    "list_index2sets = ['Cv']\n",
    "edge_dates = []\n",
    "combine_ts = {'if_combine':True,'params_combine':[{'alg':'mean'}]}\n",
    "\n",
    "entries = {'thresholds_mc':thresholds_mc,'thresholds_md':thresholds_md,'resolution':resolution,'results_from':results_from,'startFrom':startFrom,\n",
    "           'endAt':endAt,'save_journal':save_journal,'feats_from_bids':feats_from_bids,'size_output_layer':8,'n_bits_outputs':[1,2,5],\n",
    "           'combine_ts':{'if_combine':True,'params_combine':[{'alg':'mean'}]},'outputGain':outputGain,'movingWindow':movingWindow,\n",
    "           'nEventsPerStat':nEventsPerStat,'first_day':first_day,'last_day':last_day,'list_index2sets':list_index2sets,'edge_dates':edge_dates,\n",
    "          'build_test_db':True,'save_stats':False,'t_indexes':t_indexes,'combine_ts':combine_ts}\n",
    "\n",
    "automate_fixedEdges(rootname_config,entries=entries,its=1,tAt='Te',sufix=sufix,IDweights=IDweights)"
   ]
  },
  {
   "cell_type": "code",
   "execution_count": null,
   "metadata": {},
   "outputs": [],
   "source": [
    "entries['feats_from_bids']"
   ]
  },
  {
   "cell_type": "markdown",
   "metadata": {},
   "source": [
    "## Combine Models"
   ]
  },
  {
   "cell_type": "code",
   "execution_count": 21,
   "metadata": {},
   "outputs": [
    {
     "name": "stdout",
     "output_type": "stream",
     "text": [
      "C:\\Users\\mgutierrez\\root\\Projects\\SDC\\py\\kaissandra\\ already in python path\n",
      "The autoreload extension is already loaded. To reload it, use:\n",
      "  %reload_ext autoreload\n",
      "WARNING! Config values have been overwritten with entries values\n",
      "Config file C:/Users/mgutierrez/root/Projects/SDC/py/RNN/config/CRNN01010CMF181112T190426.config exists. Loaded from disk\n",
      "Getting dataset edges...\n",
      "C:/Users/mgutierrez/root/Projects/SDC/py/RNN/IO/DTA_RRNN01010CMF181112T190426A.p\n",
      "Edges:\n",
      "[]\n",
      "C:/Users/mgutierrez/root/Projects/SDC/py/RNN/IO/IOKFWRNN01010CMF181112T190426A.hdf5\n",
      "C:/Users/mgutierrez/root/Projects/SDC/py/RNN/IO/IOKFRRNN01010CMF181112T190426A.hdf5\n",
      "C:/Users/mgutierrez/root/Projects/SDC/py/RNN/IO/DTA_RRNN01010CMF181112T190426A.p\n",
      "Samples for fitting: 0\n",
      "Samples for cross-validation: 389033\n",
      "Total samples: 389033\n",
      "totalSampsPerLevel not in IO :(\n",
      "DONE building IO\n",
      "INFO:tensorflow:Restoring parameters from C:/Users/mgutierrez/root/Projects/SDC/py/RNN/weights/WRNN01010k1K5A/000012/000012\n",
      "Parameters loaded. Epoch 12\n",
      "Epoch 12 of 12. Getting output...\n"
     ]
    },
    {
     "name": "stderr",
     "output_type": "stream",
     "text": [
      "100%|███████████████████████████████████████████████████████████████████████████████████████████████████████████████████████████████████| 380/380 [00:33<00:00, 11.21it/s]\n"
     ]
    },
    {
     "name": "stdout",
     "output_type": "stream",
     "text": [
      "J_test = 13.284653\n",
      "Total time for CV: 0.571993092695872 mins.\n",
      "\n",
      "INFO:tensorflow:Restoring parameters from C:/Users/mgutierrez/root/Projects/SDC/py/RNN/weights/WRNN01010k2K5A/000014/000014\n",
      "Parameters loaded. Epoch 14\n",
      "Epoch 14 of 14. Getting output...\n"
     ]
    },
    {
     "name": "stderr",
     "output_type": "stream",
     "text": [
      "100%|███████████████████████████████████████████████████████████████████████████████████████████████████████████████████████████████████| 380/380 [00:31<00:00, 11.88it/s]\n"
     ]
    },
    {
     "name": "stdout",
     "output_type": "stream",
     "text": [
      "J_test = 12.323366\n",
      "Total time for CV: 0.5412746071815491 mins.\n",
      "\n",
      "INFO:tensorflow:Restoring parameters from C:/Users/mgutierrez/root/Projects/SDC/py/RNN/weights/WRNN01010k3K5A/000013/000013\n",
      "Parameters loaded. Epoch 13\n",
      "Epoch 13 of 13. Getting output...\n"
     ]
    },
    {
     "name": "stderr",
     "output_type": "stream",
     "text": [
      "100%|███████████████████████████████████████████████████████████████████████████████████████████████████████████████████████████████████| 380/380 [00:31<00:00, 11.94it/s]\n"
     ]
    },
    {
     "name": "stdout",
     "output_type": "stream",
     "text": [
      "J_test = 12.870936\n",
      "Total time for CV: 0.5365616917610169 mins.\n",
      "\n",
      "INFO:tensorflow:Restoring parameters from C:/Users/mgutierrez/root/Projects/SDC/py/RNN/weights/WRNN01010k4K5A/000011/000011\n",
      "Parameters loaded. Epoch 11\n",
      "Epoch 11 of 11. Getting output...\n"
     ]
    },
    {
     "name": "stderr",
     "output_type": "stream",
     "text": [
      "100%|███████████████████████████████████████████████████████████████████████████████████████████████████████████████████████████████████| 380/380 [00:31<00:00, 12.09it/s]\n"
     ]
    },
    {
     "name": "stdout",
     "output_type": "stream",
     "text": [
      "J_test = 12.641410\n",
      "Total time for CV: 0.5333674311637878 mins.\n",
      "\n",
      "INFO:tensorflow:Restoring parameters from C:/Users/mgutierrez/root/Projects/SDC/py/RNN/weights/WRNN01010k5K5A/000009/000009\n",
      "Parameters loaded. Epoch 9\n",
      "Epoch 9 of 9. Getting output...\n"
     ]
    },
    {
     "name": "stderr",
     "output_type": "stream",
     "text": [
      "100%|███████████████████████████████████████████████████████████████████████████████████████████████████████████████████████████████████| 380/380 [00:30<00:00, 12.49it/s]\n"
     ]
    },
    {
     "name": "stdout",
     "output_type": "stream",
     "text": [
      "J_test = 12.202218\n",
      "Total time for CV: 0.5156976898511251 mins.\n",
      "\n",
      "Epoch 0, J_train = 0.0, J_test = 12.202218072037947\n",
      "Getting extended results...\n"
     ]
    },
    {
     "name": "stderr",
     "output_type": "stream",
     "text": [
      "100%|███████████████████████████████████████████████████████████████████████████████████████████████████████████████████████████████| 1160/1160 [00:00<00:00, 3294.52it/s]\n"
     ]
    },
    {
     "name": "stdout",
     "output_type": "stream",
     "text": [
      "Epoch = 0. Time index = 0. Threshold MC = 0.7. Threshold MD = 0.6\n",
      "RD = 574 NZ = 878 NZA = 1161 pNZ = 0.226% pNZA = 0.298% AD = 65.38% ADA = 49.44% NO = 330 GSP = 61.21% NSP = 53.94%\n",
      "SI2 = 1.54 SI = -8.34 eGROI = 12.83% eROI = 3.86% eROI2 = 6.23% eROI3 = 2.93% mSpread = 0.0272%\n",
      "\n",
      "Best eGROI = 12.83 t_index 0 thr_mc 0.7 thr_md 0.6 epoch 0 in 330 GSP 61.21 ADA 49.44 AD 65.38\n",
      "Best eROI = 3.86 t_index 0 thr_mc 0.7 thr_md 0.6 epoch 0 in 330 GSP 61.21 ADA 49.44 AD 65.38\n",
      "Best eROI.5 = 11.18 t_index 0 thr_mc 0.7 thr_md 0.6 epoch 0 in 330 GSP 61.21 ADA 49.44 AD 65.38\n",
      "Best eROI1 = 9.53 t_index 0 thr_mc 0.7 thr_md 0.6 epoch 0 in 330 GSP 61.21 ADA 49.44 AD 65.38\n",
      "Best eROI1.5 = 7.88 t_index 0 thr_mc 0.7 thr_md 0.6 epoch 0 in 330 GSP 61.21 ADA 49.44 AD 65.38\n",
      "Best eROI2 = 6.23 t_index 0 thr_mc 0.7 thr_md 0.6 epoch 0 in 330 GSP 61.21 ADA 49.44 AD 65.38\n",
      "Best eROI3 = 2.93 t_index 0 thr_mc 0.7 thr_md 0.6 epoch 0 in 330 GSP 61.21 ADA 49.44 AD 65.38\n",
      "Best eROI4 = -0.37 t_index 0 thr_mc 0.7 thr_md 0.6 epoch 0 in 330 GSP 61.21 ADA 49.44 AD 65.38\n",
      "Best eROI5 = -3.67 t_index 0 thr_mc 0.7 thr_md 0.6 epoch 0 in 330 GSP 61.21 ADA 49.44 AD 65.38\n",
      "Best SI = -8.34 t_index 0 thr_mc 0.7 thr_md 0.6 epoch 0 in 330 GSP 61.21 ADA 49.44 AD 65.38\n",
      "Best SI.5 = 3.85 t_index 0 thr_mc 0.7 thr_md 0.6 epoch 0 in 330 GSP 61.21 ADA 49.44 AD 65.38\n",
      "Best SI1 = 3.19 t_index 0 thr_mc 0.7 thr_md 0.6 epoch 0 in 330 GSP 61.21 ADA 49.44 AD 65.38\n",
      "Best SI1.5 = 2.53 t_index 0 thr_mc 0.7 thr_md 0.6 epoch 0 in 330 GSP 61.21 ADA 49.44 AD 65.38\n",
      "Best SI2 = 1.54 t_index 0 thr_mc 0.7 thr_md 0.6 epoch 0 in 330 GSP 61.21 ADA 49.44 AD 65.38\n",
      "Best SI3 = 0.99 t_index 0 thr_mc 0.7 thr_md 0.6 epoch 0 in 330 GSP 61.21 ADA 49.44 AD 65.38\n",
      "Best SI4 = 0.00 t_index 0 thr_mc 0.7 thr_md 0.6 epoch 0 in 330 GSP 61.21 ADA 49.44 AD 65.38\n",
      "Best SI5 = -0.66 t_index 0 thr_mc 0.7 thr_md 0.6 epoch 0 in 330 GSP 61.21 ADA 49.44 AD 65.38\n",
      "Best 99eGROI = 11.40 t_index 0 thr_mc 0.7 thr_md 0.6 epoch 0 in 330 GSP 61.21 ADA 49.44 AD 65.38\n",
      "Best 99eROI = 3.33 t_index 0 thr_mc 0.7 thr_md 0.6 epoch 0 in 330 GSP 61.21 ADA 49.44 AD 65.38\n",
      "Best 99eROI.5 = 9.91 t_index 0 thr_mc 0.7 thr_md 0.6 epoch 0 in 330 GSP 61.21 ADA 49.44 AD 65.38\n",
      "Best 99eROI1 = 8.42 t_index 0 thr_mc 0.7 thr_md 0.6 epoch 0 in 330 GSP 61.21 ADA 49.44 AD 65.38\n",
      "Best 99eROI1.5 = 6.93 t_index 0 thr_mc 0.7 thr_md 0.6 epoch 0 in 330 GSP 61.21 ADA 49.44 AD 65.38\n",
      "Best 99eROI2 = 5.44 t_index 0 thr_mc 0.7 thr_md 0.6 epoch 0 in 330 GSP 61.21 ADA 49.44 AD 65.38\n",
      "Best 99eROI3 = 2.46 t_index 0 thr_mc 0.7 thr_md 0.6 epoch 0 in 330 GSP 61.21 ADA 49.44 AD 65.38\n",
      "Best 99eROI4 = -0.52 t_index 0 thr_mc 0.7 thr_md 0.6 epoch 0 in 330 GSP 61.21 ADA 49.44 AD 65.38\n",
      "Best 99eROI5 = -3.50 t_index 0 thr_mc 0.7 thr_md 0.6 epoch 0 in 330 GSP 61.21 ADA 49.44 AD 65.38\n",
      "\n",
      "The very best:\n",
      "Best eGROI = 12.83 t_index 0 thr_mc 0.7 thr_md 0.6 epoch 0 in 330 GSP 61.21 ADA 49.44 AD 65.38\n",
      "Best eROI = 3.86 t_index 0 thr_mc 0.7 thr_md 0.6 epoch 0 in 330 GSP 61.21 ADA 49.44 AD 65.38\n",
      "Best eROI.5 = 11.18 t_index 0 thr_mc 0.7 thr_md 0.6 epoch 0 in 330 GSP 61.21 ADA 49.44 AD 65.38\n",
      "Best eROI1 = 9.53 t_index 0 thr_mc 0.7 thr_md 0.6 epoch 0 in 330 GSP 61.21 ADA 49.44 AD 65.38\n",
      "Best eROI1.5 = 7.88 t_index 0 thr_mc 0.7 thr_md 0.6 epoch 0 in 330 GSP 61.21 ADA 49.44 AD 65.38\n",
      "Best eROI2 = 6.23 t_index 0 thr_mc 0.7 thr_md 0.6 epoch 0 in 330 GSP 61.21 ADA 49.44 AD 65.38\n",
      "Best eROI3 = 2.93 t_index 0 thr_mc 0.7 thr_md 0.6 epoch 0 in 330 GSP 61.21 ADA 49.44 AD 65.38\n",
      "Best eROI4 = -0.37 t_index 0 thr_mc 0.7 thr_md 0.6 epoch 0 in 330 GSP 61.21 ADA 49.44 AD 65.38\n",
      "Best eROI5 = -3.67 t_index 0 thr_mc 0.7 thr_md 0.6 epoch 0 in 330 GSP 61.21 ADA 49.44 AD 65.38\n",
      "Best SI = -8.34 t_index 0 thr_mc 0.7 thr_md 0.6 epoch 0 in 330 GSP 61.21 ADA 49.44 AD 65.38\n",
      "Best SI.5 = 3.85 t_index 0 thr_mc 0.7 thr_md 0.6 epoch 0 in 330 GSP 61.21 ADA 49.44 AD 65.38\n",
      "Best SI1 = 3.19 t_index 0 thr_mc 0.7 thr_md 0.6 epoch 0 in 330 GSP 61.21 ADA 49.44 AD 65.38\n",
      "Best SI1.5 = 2.53 t_index 0 thr_mc 0.7 thr_md 0.6 epoch 0 in 330 GSP 61.21 ADA 49.44 AD 65.38\n",
      "Best SI2 = 1.54 t_index 0 thr_mc 0.7 thr_md 0.6 epoch 0 in 330 GSP 61.21 ADA 49.44 AD 65.38\n",
      "Best SI3 = 0.99 t_index 0 thr_mc 0.7 thr_md 0.6 epoch 0 in 330 GSP 61.21 ADA 49.44 AD 65.38\n",
      "Best SI4 = 0.00 t_index 0 thr_mc 0.7 thr_md 0.6 epoch 0 in 330 GSP 61.21 ADA 49.44 AD 65.38\n",
      "Best SI5 = -0.66 t_index 0 thr_mc 0.7 thr_md 0.6 epoch 0 in 330 GSP 61.21 ADA 49.44 AD 65.38\n",
      "Best 99eGROI = 11.40 t_index 0 thr_mc 0.7 thr_md 0.6 epoch 0 in 330 GSP 61.21 ADA 49.44 AD 65.38\n",
      "Best 99eROI = 3.33 t_index 0 thr_mc 0.7 thr_md 0.6 epoch 0 in 330 GSP 61.21 ADA 49.44 AD 65.38\n",
      "Best 99eROI.5 = 9.91 t_index 0 thr_mc 0.7 thr_md 0.6 epoch 0 in 330 GSP 61.21 ADA 49.44 AD 65.38\n",
      "Best 99eROI1 = 8.42 t_index 0 thr_mc 0.7 thr_md 0.6 epoch 0 in 330 GSP 61.21 ADA 49.44 AD 65.38\n",
      "Best 99eROI1.5 = 6.93 t_index 0 thr_mc 0.7 thr_md 0.6 epoch 0 in 330 GSP 61.21 ADA 49.44 AD 65.38\n",
      "Best 99eROI2 = 5.44 t_index 0 thr_mc 0.7 thr_md 0.6 epoch 0 in 330 GSP 61.21 ADA 49.44 AD 65.38\n",
      "Best 99eROI3 = 2.46 t_index 0 thr_mc 0.7 thr_md 0.6 epoch 0 in 330 GSP 61.21 ADA 49.44 AD 65.38\n",
      "Best 99eROI4 = -0.52 t_index 0 thr_mc 0.7 thr_md 0.6 epoch 0 in 330 GSP 61.21 ADA 49.44 AD 65.38\n",
      "Best 99eROI5 = -3.50 t_index 0 thr_mc 0.7 thr_md 0.6 epoch 0 in 330 GSP 61.21 ADA 49.44 AD 65.38\n",
      "Time=2.23 secs\n"
     ]
    }
   ],
   "source": [
    "import sys\n",
    "import os\n",
    "\n",
    "this_path = os.getcwd()\n",
    "path = '\\\\'.join(this_path.split('\\\\')[:-1])+'\\\\'\n",
    "if path not in sys.path:\n",
    "    sys.path.insert(0, path)\n",
    "    print(path+\" added to python path\")\n",
    "else:\n",
    "    print(path+\" already in python path\")\n",
    "    \n",
    "import pandas as pd\n",
    "import datetime as dt\n",
    "import pickle\n",
    "import math\n",
    "import numpy as np\n",
    "import matplotlib.pyplot as plt\n",
    "\n",
    "%matplotlib inline\n",
    "%load_ext autoreload\n",
    "%autoreload 2\n",
    "#######################################\n",
    "# For test dataset\n",
    "\n",
    "from kaissandra.automate import combine_models\n",
    "import numpy as np\n",
    "\n",
    "rootname_config = 'RNN01010'\n",
    "outputGain = 1\n",
    "movingWindow = 500\n",
    "nEventsPerStat = 5000\n",
    "results_from = 'COMB'\n",
    "feats_from_bids = False\n",
    "save_journal = True\n",
    "resolution = 20\n",
    "thresholds_mc = [.7]#[int(np.round((.5+i/resolution)*100))/100 for i in range(int(resolution/2))]#\n",
    "thresholds_md = [.6]#[int(np.round((.5+i/resolution)*100))/100 for i in range(int(resolution/2))]#\n",
    "epochs = [12,14,13,11,9]#[9,11,6,8,6]\n",
    "sufix='k1-5'+'E1214131109'#'k1k2E12E14'#\n",
    "t_indexes = [0]\n",
    "if feats_from_bids:\n",
    "    ext = 'B'\n",
    "else:\n",
    "    ext = 'A'\n",
    "first_day = '2018.11.12'#'2016.01.01'#\n",
    "last_day = '2019.05.01'#'2018.11.09'#\n",
    "list_index2sets = ['Cv']#['No','Cv','No']#['No','Cv']#\n",
    "edge_dates = []#['2019.04.01']#['2017.9.27','2018.4.10']#['2018.4.10']#\n",
    "combine_ts = {'if_combine':False,'params_combine':[{'alg':'mean'}]}\n",
    "\n",
    "entries = {'thresholds_mc':thresholds_mc,'thresholds_md':thresholds_md,'resolution':resolution,'results_from':results_from,\n",
    "           'save_journal':save_journal,'feats_from_bids':feats_from_bids,'size_output_layer':8,'n_bits_outputs':[1,2,5],\n",
    "           'combine_ts':combine_ts,'outputGain':outputGain,'movingWindow':movingWindow,\n",
    "          'nEventsPerStat':nEventsPerStat,'first_day':first_day,'last_day':last_day,'list_index2sets':list_index2sets,'edge_dates':edge_dates,\n",
    "          'build_test_db':True,'save_stats':False,'t_indexes':t_indexes,'combine_ts':combine_ts}\n",
    "\n",
    "model_names = ['WRNN01010k1K5A','WRNN01010k2K5A','WRNN01010k3K5A','WRNN01010k4K5A','WRNN01010k5K5A']#\n",
    "\n",
    "tag_from_till = 'F181112T190426'#''F190401T190426'#F170927T180410'#'F180410T181109'#\n",
    "combine_models(entries, model_names, epochs, rootname_config, sufix=sufix, melting_func='mean', tag_from_till=tag_from_till,log='')"
   ]
  },
  {
   "cell_type": "code",
   "execution_count": null,
   "metadata": {},
   "outputs": [],
   "source": [
    "# For Tr/Cv dataset\n",
    "\n",
    "from kaissandra.automate import combine_models\n",
    "import numpy as np\n",
    "\n",
    "rootname_config = 'RNN01011'\n",
    "outputGain = .8\n",
    "movingWindow = 500\n",
    "nEventsPerStat = 5000\n",
    "results_from = 'COMB'\n",
    "feats_from_bids = False\n",
    "save_journal = True\n",
    "resolution = 20\n",
    "thresholds_mc = [.5]#[int(np.round((.5+i/resolution)*100))/100 for i in range(int(resolution/2))]#[.7]#\n",
    "thresholds_md = [.5]#[int(np.round((.5+i/resolution)*100))/100 for i in range(int(resolution/2))]#[.6]#\n",
    "epochs = [14,14]#[9,11,6,8,6]\n",
    "sufix='k1k2'+'E14E14'+'NYdec'\n",
    "t_indexes = [0]\n",
    "if feats_from_bids:\n",
    "    ext = 'B'\n",
    "else:\n",
    "    ext = 'A'\n",
    "first_day = '2016.01.01'#'2018.11.12'#\n",
    "last_day = '2018.11.09'#'2019.03.29'#\n",
    "list_index2sets = ['No','Cv']#['No','Cv']#['No','Cv','No']#\n",
    "edge_dates = ['2017.9.27']#['2018.4.10']#['2017.9.27','2018.4.10']#\n",
    "combine_ts = {'if_combine':False,'params_combine':[{'alg':'mean'}]}\n",
    "\n",
    "entries = {'thresholds_mc':thresholds_mc,'thresholds_md':thresholds_md,'resolution':resolution,'results_from':results_from,\n",
    "           'save_journal':save_journal,'feats_from_bids':feats_from_bids,'size_output_layer':8,'n_bits_outputs':[1,2,5],\n",
    "           'combine_ts':combine_ts,'outputGain':outputGain,'movingWindow':movingWindow,\n",
    "          'nEventsPerStat':nEventsPerStat,'first_day':first_day,'last_day':last_day,'list_index2sets':list_index2sets,'edge_dates':edge_dates,\n",
    "          'build_test_db':False,'save_stats':False,'t_indexes':t_indexes,'combine_ts':combine_ts}\n",
    "\n",
    "model_names = ['WRNN01011k1K5A','WRNN01011k2K5A']\n",
    "\n",
    "tag_from_till = 'F170927T181109'#'F180410T181109'#'F170927T180410'#\n",
    "combine_models(entries, model_names, epochs, rootname_config, sufix=sufix, melting_func='mean', tag_from_till=tag_from_till,log='')"
   ]
  },
  {
   "cell_type": "code",
   "execution_count": null,
   "metadata": {},
   "outputs": [],
   "source": [
    "from kaissandra.results2 import merge_results\n",
    "\n",
    "IDrs=['RRNN01010CMF180410T181109ACk1K5E12R100','RRNN01010CMF170927T180410ACk2K5E14R100']#['R'+rootname_config+tag+extR+sufix for fold_idx in range(k_end)]\n",
    "IDr_merged='RRNN01010MEF170927T181109ACk1k2K5E12E14R100'\n",
    "merge_results(IDrs, IDr_merged)"
   ]
  },
  {
   "cell_type": "markdown",
   "metadata": {},
   "source": [
    "## Get Info from Candidate"
   ]
  },
  {
   "cell_type": "code",
   "execution_count": null,
   "metadata": {},
   "outputs": [],
   "source": [
    "start_date = dt.date(2018, 11, 12)\n",
    "start_date_monday = (start_date - dt.timedelta(days=start_date.weekday()))\n",
    "end_date = dt.date(2019, 3, 29)\n",
    "num_of_weeks = math.ceil((end_date - start_date_monday).days / 7.0)\n",
    "print(num_of_weeks)"
   ]
  },
  {
   "cell_type": "code",
   "execution_count": null,
   "metadata": {},
   "outputs": [],
   "source": [
    "from kaissandra.local_config import local_vars\n",
    "from kaissandra.results2 import get_extended_results,remove_outliers\n",
    "\n",
    "results_dir  = local_vars.results_directory\n",
    "extfile = '.csv'"
   ]
  },
  {
   "cell_type": "code",
   "execution_count": null,
   "metadata": {},
   "outputs": [],
   "source": [
    "rootname_config = 'RNN00010'\n",
    "extR = 'AC'\n",
    "sufix='R100'\n",
    "K = 5\n",
    "k_end = 2\n",
    "k_init = 0\n",
    "list_results_names=['R'+rootname_config+'k'+str(fold_idx+1)+'K'+str(K)+extR+sufix for fold_idx in range(k_init, k_end)]\n",
    "list_epochs = [14 for _ in range(k_init, k_end)]\n",
    "list_tis = ['mean' for _ in range(k_init, k_end)]\n",
    "list_mgs = ['0.5','0.5','0.5']#for _ in range(k_end) "
   ]
  },
  {
   "cell_type": "code",
   "execution_count": null,
   "metadata": {},
   "outputs": [],
   "source": [
    "rootname_config = 'RNN00010'\n",
    "extR_L = 'AL'\n",
    "extR_S = 'BS'\n",
    "sufix='R100'\n",
    "K = 5\n",
    "k_end = 2\n",
    "k_init = 0\n",
    "IDLs=['R'+rootname_config+'k'+str(fold_idx+1)+'K'+str(K)+extR_L+sufix for fold_idx in range(k_init, k_end)]\n",
    "IDSs=['R'+rootname_config+'k'+str(fold_idx+1)+'K'+str(K)+extR_S+sufix for fold_idx in range(k_init, k_end)]\n",
    "list_results_names = IDLs+IDSs\n",
    "list_epochs = [14 for _ in range(k_init, k_end)]+[12 for _ in range(k_init, k_end)]\n",
    "list_tis = ['2' for _ in range(k_init, k_end)]+['1' for _ in range(k_init, k_end)]\n",
    "list_mgs = ['0.5','0.5']+['0.5','0.5']"
   ]
  },
  {
   "cell_type": "code",
   "execution_count": null,
   "metadata": {},
   "outputs": [],
   "source": [
    "rootname_config = 'RNN01010'\n",
    "extR = 'AC'\n",
    "sufix='R20'\n",
    "K = 5\n",
    "k_end = 2\n",
    "k_init = 0\n",
    "list_results_names=['R'+rootname_config+'k'+str(fold_idx+1)+'K'+str(K)+extR+sufix for fold_idx in range(k_init, k_end)]\n",
    "list_epochs = [11 for _ in range(k_init, k_end)]\n",
    "list_tis = ['2' for _ in range(k_init, k_end)]\n",
    "list_mcs = ['0.75' for _ in range(k_init, k_end)]#for _ in range(k_end) \n",
    "list_mds = ['0.6' for _ in range(k_init, k_end)]"
   ]
  },
  {
   "cell_type": "code",
   "execution_count": null,
   "metadata": {},
   "outputs": [],
   "source": [
    "rootname_config = 'RNN01010'\n",
    "extR_L = 'AL'\n",
    "extR_S = 'BS'\n",
    "sufix='R20'\n",
    "K = 5\n",
    "k_end = 2\n",
    "k_init = 0\n",
    "IDLs=['R'+rootname_config+'k'+str(fold_idx+1)+'K'+str(K)+extR_L+sufix for fold_idx in range(k_init, k_end)]\n",
    "IDSs=['R'+rootname_config+'k'+str(fold_idx+1)+'K'+str(K)+extR_S+sufix for fold_idx in range(k_init, k_end)]\n",
    "list_results_names = IDLs+IDSs\n",
    "list_epochs = [9 for _ in range(k_init, k_end)]+[10 for _ in range(k_init, k_end)]\n",
    "list_tis = ['2' for _ in range(k_init, k_end)]+['2' for _ in range(k_init, k_end)]\n",
    "list_mcs = ['0.7' for _ in range(k_init, k_end)]+['0.6' for _ in range(k_init, k_end)]\n",
    "list_mds = ['0.6' for _ in range(k_init, k_end)]+['0.6' for _ in range(k_init, k_end)]"
   ]
  },
  {
   "cell_type": "code",
   "execution_count": null,
   "metadata": {},
   "outputs": [],
   "source": [
    "rootname_config = 'RNN01040'\n",
    "extR_L = 'AL'\n",
    "extR_S = 'BS'\n",
    "sufix='R20'\n",
    "K = 5\n",
    "k_end = 2\n",
    "k_init = 0\n",
    "IDLs=['R'+rootname_config+'k'+str(fold_idx+1)+'K'+str(K)+extR_L+sufix for fold_idx in range(k_init, k_end)]\n",
    "IDSs=['R'+rootname_config+'k'+str(fold_idx+1)+'K'+str(K)+extR_S+sufix for fold_idx in range(k_init, k_end)]\n",
    "list_results_names = IDLs+IDSs\n",
    "list_epochs = [8 for _ in range(k_init, k_end)]+[9 for _ in range(k_init, k_end)]\n",
    "list_tis = ['2' for _ in range(k_init, k_end)]+['2' for _ in range(k_init, k_end)]\n",
    "list_mcs = ['0.9' for _ in range(k_init, k_end)]+['0.9' for _ in range(k_init, k_end)]\n",
    "list_mds = ['0.6' for _ in range(k_init, k_end)]+['0.6' for _ in range(k_init, k_end)]"
   ]
  },
  {
   "cell_type": "code",
   "execution_count": null,
   "metadata": {},
   "outputs": [],
   "source": [
    "rootname_config = 'RNN01011'\n",
    "extR_L = 'AL'\n",
    "extR_S = 'BS'\n",
    "sufix='R20bis'\n",
    "K = 5\n",
    "k_end = 2\n",
    "k_init = 0\n",
    "IDLs=['R'+rootname_config+'k'+str(fold_idx+1)+'K'+str(K)+extR_L+sufix for fold_idx in range(k_init, k_end)]\n",
    "IDSs=['R'+rootname_config+'k'+str(fold_idx+1)+'K'+str(K)+extR_S+sufix for fold_idx in range(k_init, k_end)]\n",
    "list_results_names = IDLs+IDSs\n",
    "list_epochs = [12 for _ in range(k_init, k_end)]+[12 for _ in range(k_init, k_end)]\n",
    "list_tis = ['1' for _ in range(k_init, k_end)]+['1' for _ in range(k_init, k_end)]\n",
    "list_mcs = ['0.65' for _ in range(k_init, k_end)]+['0.5' for _ in range(k_init, k_end)]\n",
    "list_mds = ['0.55' for _ in range(k_init, k_end)]+['0.65' for _ in range(k_init, k_end)]"
   ]
  },
  {
   "cell_type": "code",
   "execution_count": null,
   "metadata": {},
   "outputs": [],
   "source": [
    "rootname_config = 'RNN01021'\n",
    "extR = 'AL'\n",
    "sufix='R20'\n",
    "K = 5\n",
    "k_end = 2\n",
    "k_init = 0\n",
    "list_results_names=['R'+rootname_config+'k'+str(fold_idx+1)+'K'+str(K)+extR+sufix for fold_idx in range(k_init, k_end)]\n",
    "list_epochs = [9 for _ in range(k_init, k_end)]\n",
    "list_tis = ['2' for _ in range(k_init, k_end)]\n",
    "list_mcs = ['0.7' for _ in range(k_init, k_end)]#for _ in range(k_end) \n",
    "list_mds = ['0.7' for _ in range(k_init, k_end)]\n",
    "#epoch            9.000000\n",
    "#t_index          2.000000\n",
    "#thr_mc           0.600000\n",
    "#thr_md           0.700000"
   ]
  },
  {
   "cell_type": "code",
   "execution_count": null,
   "metadata": {},
   "outputs": [],
   "source": [
    "rootname_config = 'RNN01010'\n",
    "extR = 'AL'\n",
    "epoch = 12\n",
    "t_index = 'mean'\n",
    "thr_mc = .7\n",
    "thr_md = .6\n",
    "K = 5\n",
    "k_end = 1\n",
    "k_init = 0\n",
    "sufix='testk'+str(k_end)+'E'+str(epoch)+'TmeanC7D6'\n",
    "list_results_names=['R'+rootname_config+'FE'+extR+sufix for fold_idx in range(k_init, k_end)]\n",
    "list_epochs = [epoch for _ in range(k_init, k_end)]\n",
    "list_tis = [t_index for _ in range(k_init, k_end)]\n",
    "list_mcs = [str(thr_mc) for _ in range(k_init, k_end)]#for _ in range(k_end) \n",
    "list_mds = [str(thr_md) for _ in range(k_init, k_end)]"
   ]
  },
  {
   "cell_type": "code",
   "execution_count": null,
   "metadata": {},
   "outputs": [],
   "source": [
    "rootname_config = 'RNN01010'\n",
    "extR = 'BS'\n",
    "epoch = 7\n",
    "t_index = 'mean'\n",
    "thr_mc = .8\n",
    "thr_md = .5\n",
    "K = 5\n",
    "k_end = 1\n",
    "k_init = 0\n",
    "sufix='testk'+str(k_end)+'E'+str(epoch)+'TmeanC8D5'\n",
    "list_results_names=['R'+rootname_config+'FE'+extR+sufix for fold_idx in range(k_init, k_end)]\n",
    "list_epochs = [epoch for _ in range(k_init, k_end)]\n",
    "list_tis = [t_index for _ in range(k_init, k_end)]\n",
    "list_mcs = [str(thr_mc) for _ in range(k_init, k_end)]#for _ in range(k_end) \n",
    "list_mds = [str(thr_md) for _ in range(k_init, k_end)]"
   ]
  },
  {
   "cell_type": "code",
   "execution_count": null,
   "metadata": {},
   "outputs": [],
   "source": [
    "rootname_config = 'RNN01010'\n",
    "extRs = ['AC']\n",
    "epoch = 0\n",
    "t_index = '0'\n",
    "thr_mc = .75\n",
    "thr_md = .6\n",
    "K = 5\n",
    "k_end = 1\n",
    "k_init = 0\n",
    "sufix='R100'\n",
    "tag_from_till='F181112T190329'\n",
    "models_tag = 'k1k2k3k4k5K5'\n",
    "epoch_tag = 'E9E11E6E8E6'\n",
    "list_results_names=['R'+rootname_config+'CM'+tag_from_till+extR+models_tag+epoch_tag+sufix for extR in extRs]\n",
    "list_epochs = [epoch for _ in extRs]\n",
    "list_tis = [t_index for _ in extRs]\n",
    "list_mcs = [str(thr_mc) for _ in extRs]#for _ in range(k_end) \n",
    "list_mds = [str(thr_md) for _ in extRs]"
   ]
  },
  {
   "cell_type": "markdown",
   "metadata": {},
   "source": [
    "## Test Dataset"
   ]
  },
  {
   "cell_type": "code",
   "execution_count": null,
   "metadata": {},
   "outputs": [],
   "source": [
    "rootname_config = 'RNN01011'\n",
    "extRs = ['AC']\n",
    "epoch = 0\n",
    "t_index = '0'\n",
    "thr_mc = .7\n",
    "thr_md = .54\n",
    "K = 5\n",
    "k_end = 1\n",
    "k_init = 0\n",
    "sufix=''\n",
    "tag_from_till='F181112T190329'\n",
    "models_tag = 'k1k2'\n",
    "epoch_tag = 'E14E14'\n",
    "list_results_names=['R'+rootname_config+'CM'+tag_from_till+extR+models_tag+epoch_tag+sufix for extR in extRs]\n",
    "list_epochs = [epoch for _ in extRs]\n",
    "list_tis = [t_index for _ in extRs]\n",
    "list_mcs = [str(thr_mc) for _ in extRs]#for _ in range(k_end) \n",
    "list_mds = [str(thr_md) for _ in extRs]"
   ]
  },
  {
   "cell_type": "code",
   "execution_count": null,
   "metadata": {},
   "outputs": [],
   "source": [
    "rootname_config = 'RNN01010'\n",
    "extRs = ['AC']\n",
    "epoch = 0\n",
    "t_index = '0'\n",
    "thr_mc = .7\n",
    "thr_md = .6\n",
    "K = 5\n",
    "k_end = 1\n",
    "k_init = 0\n",
    "sufix='R100'\n",
    "tag_from_till='F181112T190329'\n",
    "models_tag = 'k1k2'\n",
    "epoch_tag = 'E12E14'\n",
    "list_results_names=['R'+rootname_config+'CM'+tag_from_till+extR+models_tag+epoch_tag+sufix for extR in extRs]\n",
    "list_epochs = [epoch for _ in extRs]\n",
    "list_tis = [t_index for _ in extRs]\n",
    "list_mcs = [str(thr_mc) for _ in extRs]#for _ in range(k_end) \n",
    "list_mds = [str(thr_md) for _ in extRs]"
   ]
  },
  {
   "cell_type": "code",
   "execution_count": null,
   "metadata": {},
   "outputs": [],
   "source": [
    "# Combine 01010 and 01011\n",
    "rootname_config = ['RNN01010','RNN01011']\n",
    "extRs = ['AC','AC']\n",
    "epoch = 0\n",
    "t_index = '0'\n",
    "thr_mc = [.7,.65]\n",
    "thr_md = [.6,.6]\n",
    "K = 5\n",
    "k_end = 1\n",
    "k_init = 0\n",
    "sufix=['','']\n",
    "tag_from_till='F181112T190329'\n",
    "models_tag = 'k1k2'\n",
    "epoch_tag = ['E12E14','E14E14']\n",
    "list_results_names=['R'+rootname_config[i]+'CM'+tag_from_till+extR+models_tag+epoch_tag[i]+sufix[i] for i,extR in enumerate(extRs)]\n",
    "list_epochs = [epoch for _ in extRs]\n",
    "list_tis = [t_index for _ in extRs]\n",
    "list_mcs = [str(thr_mc[i]) for i,_ in enumerate(extRs)]#for _ in range(k_end) \n",
    "list_mds = [str(thr_md[i]) for i,_ in enumerate(extRs)]"
   ]
  },
  {
   "cell_type": "markdown",
   "metadata": {},
   "source": [
    "## Tr/Cv Dataset"
   ]
  },
  {
   "cell_type": "code",
   "execution_count": null,
   "metadata": {},
   "outputs": [],
   "source": [
    "rootname_config = 'RNN01011'\n",
    "extRs = ['AC','AC']\n",
    "epoch = 0\n",
    "t_index = '0'\n",
    "thr_mc = [.7,.65]\n",
    "thr_md = [.65,.6]\n",
    "K = 5\n",
    "k_end = 1\n",
    "k_init = 0\n",
    "sufix=''\n",
    "tag_from_till = ['F180410T181109','F170927T180410']\n",
    "models_tag = ['k1','k2']\n",
    "epoch_tag = 'E14'\n",
    "list_results_names=['R'+rootname_config+'CM'+tag_from_till[i]+extR+models_tag[i]+epoch_tag+sufix for i,extR in enumerate(extRs)]\n",
    "list_epochs = [epoch for _ in extRs]\n",
    "list_tis = [t_index for _ in extRs]\n",
    "list_mcs = [str(thr_mc[i]) for i,_ in enumerate(extRs)]#for _ in range(k_end) \n",
    "list_mds = [str(thr_md[i]) for i,_ in enumerate(extRs)]"
   ]
  },
  {
   "cell_type": "code",
   "execution_count": null,
   "metadata": {},
   "outputs": [],
   "source": [
    "rootname_config = 'RNN01010'\n",
    "extRs = ['AC','AC']\n",
    "epoch = 0\n",
    "t_index = '0'\n",
    "thr_mc = [.7,.7]\n",
    "thr_md = [.6,.6]\n",
    "K = 5\n",
    "k_end = 1\n",
    "k_init = 0\n",
    "sufix=''\n",
    "tag_from_till = ['F180410T181109','F170927T180410']\n",
    "models_tag = ['k1','k2']\n",
    "epoch_tag = ['E14','E14']\n",
    "list_results_names=['R'+rootname_config+'CM'+tag_from_till[i]+extR+models_tag[i]+epoch_tag[i]+sufix for i,extR in enumerate(extRs)]\n",
    "list_epochs = [epoch for _ in extRs]\n",
    "list_tis = [t_index for _ in extRs]\n",
    "list_mcs = [str(thr_mc[i]) for i,_ in enumerate(extRs)]#for _ in range(k_end) \n",
    "list_mds = [str(thr_md[i]) for i,_ in enumerate(extRs)]"
   ]
  },
  {
   "cell_type": "code",
   "execution_count": null,
   "metadata": {},
   "outputs": [],
   "source": [
    "rootname_config = ['RNN01010','RNN01010','RNN01011','RNN01011']\n",
    "extRs = ['AC','AC','AC','AC']\n",
    "epoch = 0\n",
    "t_index = '0'\n",
    "thr_mc = [.7,.7,.7,.7]\n",
    "thr_md = [.6,.6,.6,.6]\n",
    "K = 5\n",
    "k_end = 1\n",
    "k_init = 0\n",
    "sufix=['','','','']\n",
    "tag_from_till = ['F180410T181109','F170927T180410','F180410T181109','F170927T180410']\n",
    "models_tag = ['k1','k2','k1','k2']\n",
    "epoch_tag = ['E12','E14','E14','E14']\n",
    "list_results_names=['R'+rootname_config[i]+'CM'+tag_from_till[i]+extR+models_tag[i]+epoch_tag[i]+sufix[i] for i,extR in enumerate(extRs)]\n",
    "list_epochs = [epoch for _ in extRs]\n",
    "list_tis = [t_index for _ in extRs]\n",
    "list_mcs = [str(thr_mc[i]) for i,_ in enumerate(extRs)]#for _ in range(k_end) \n",
    "list_mds = [str(thr_md[i]) for i,_ in enumerate(extRs)]"
   ]
  },
  {
   "cell_type": "code",
   "execution_count": null,
   "metadata": {},
   "outputs": [],
   "source": [
    "# Combine 01010 k1 and k2\n",
    "rootname_config = ['RNN01010']\n",
    "extRs = ['AC']\n",
    "epoch = 0\n",
    "t_index = '0'\n",
    "thr_mc = .7\n",
    "thr_md = .6\n",
    "K = 5\n",
    "k_end = 1\n",
    "k_init = 0\n",
    "sufix=['']\n",
    "tag_from_till='170927T181109'\n",
    "models_tag = 'k1k2'\n",
    "epoch_tag = ['E12E14']\n",
    "list_results_names=['R'+rootname_config[i]+'CMF'+tag_from_till+extR+models_tag+epoch_tag[i]+sufix[i] for i,extR in enumerate(extRs)]\n",
    "list_epochs = [epoch for _ in extRs]\n",
    "list_tis = [t_index for _ in extRs]\n",
    "list_mcs = [str(thr_mc) for _ in extRs]#for _ in range(k_end) \n",
    "list_mds = [str(thr_md) for _ in extRs]"
   ]
  },
  {
   "cell_type": "code",
   "execution_count": null,
   "metadata": {},
   "outputs": [],
   "source": [
    "# Combine 01011 k1 and k2\n",
    "rootname_config = ['RNN01011']\n",
    "extRs = ['AC']\n",
    "epoch = 0\n",
    "t_index = '0'\n",
    "thr_mc = .65\n",
    "thr_md = .6\n",
    "K = 5\n",
    "k_end = 1\n",
    "k_init = 0\n",
    "sufix=['']\n",
    "tag_from_till='170927T181109'\n",
    "models_tag = 'k1k2'\n",
    "epoch_tag = ['E14E14']\n",
    "list_results_names=['R'+rootname_config[i]+'CMF'+tag_from_till+extR+models_tag+epoch_tag[i]+sufix[i] for i,extR in enumerate(extRs)]\n",
    "list_epochs = [epoch for _ in extRs]\n",
    "list_tis = [t_index for _ in extRs]\n",
    "list_mcs = [str(thr_mc) for _ in extRs]#for _ in range(k_end) \n",
    "list_mds = [str(thr_md) for _ in extRs]"
   ]
  },
  {
   "cell_type": "code",
   "execution_count": null,
   "metadata": {},
   "outputs": [],
   "source": [
    "# Combine 01001/01011 and k1/k2\n",
    "rootname_config = ['RNN01010']+['RNN01011']\n",
    "extRs = ['AC','AC']#['AC']+['AC']\n",
    "epoch = 0\n",
    "t_index = '0'\n",
    "thr_mc = [.7,.65]\n",
    "thr_md = [.6,.6]\n",
    "K = 5\n",
    "k_end = 1\n",
    "k_init = 0\n",
    "sufix=['','']\n",
    "tag_from_till='170927T181109'\n",
    "models_tag = 'k1k2'\n",
    "epoch_tag = ['E12E14','E14E14']\n",
    "list_results_names=['R'+rootname_config[i]+'CMF'+tag_from_till+extR+models_tag+epoch_tag[i]+sufix[i] for i,extR in enumerate(extRs)]\n",
    "list_epochs = [epoch for _ in extRs]\n",
    "list_tis = [t_index for _ in extRs]\n",
    "list_mcs = [str(thr_mc[i]) for i,_ in enumerate(extRs)]#for _ in range(k_end) \n",
    "list_mds = [str(thr_md[i]) for i,_ in enumerate(extRs)]"
   ]
  },
  {
   "cell_type": "code",
   "execution_count": null,
   "metadata": {},
   "outputs": [],
   "source": [
    "print(list_results_names)"
   ]
  },
  {
   "cell_type": "code",
   "execution_count": null,
   "metadata": {},
   "outputs": [],
   "source": [
    "pip_limit = 0.05\n",
    "    \n",
    "#Journal = pd.DataFrame()\n",
    "#for l,name in enumerate(list_results_names):\n",
    "#    journal_filename = results_dir+name+'/journal/J_E'+str(list_epochs[l])+'TI'+list_tis[l]+'MG'+list_mgs[l]+ext\n",
    "#    new_journal = pd.read_csv(journal_filename,sep='\\t')\n",
    "#    Journal = Journal.append(new_journal).sort_values(by=['Asset','DTi']).reset_index().drop(labels='level_0',axis=1)\n",
    "#    print(journal_filename)\n",
    "\n",
    "Journal = pd.DataFrame()\n",
    "for l,name in enumerate(list_results_names):\n",
    "    journal_filename = results_dir+name+'/journal/J_E'+str(list_epochs[l])+'TI'+str(list_tis[l])+'MC'+str(list_mcs[l])+'MD'+str(list_mds[l])+extfile\n",
    "    new_journal = pd.read_csv(journal_filename,sep='\\t')\n",
    "    Journal = Journal.append(new_journal).sort_values(by=['Asset','DTi']).reset_index().drop(labels='level_0',axis=1)\n",
    "    print(journal_filename)\n",
    "\n",
    "# filter journal\n",
    "#pip_limit = 0.02\n",
    "#pos_under_2p = positions['espread']<pip_limit\n",
    "print(\"shape\")\n",
    "print(Journal.shape[0])\n",
    "print(journal_filename)\n",
    "n_days = num_of_weeks*5+1\n",
    "pos_dirname = '../../RNN/results/MERGED/positions/'\n",
    "pos_filename = '_'.join([entry for entry in list_results_names])\n",
    "positions_summary, log = get_extended_results(Journal,\n",
    "                                    5,\n",
    "                                    n_days,\n",
    "                                   get_positions=True,pos_dirname=pos_dirname,\n",
    "                                   pos_filename=pos_filename+'.csv')\n",
    "#print(positions_summary)\n",
    "\n",
    "positions = pd.read_csv(pos_dirname+pos_filename+'.csv',sep='\\t')\n",
    "#print(positions)\n",
    "GROIS99, ROIS99, idx_sorted, low_arg_goi, high_arg_goi = remove_outliers(np.array(positions.GROI),\n",
    "                                                                         np.array(positions.spread), thr=.99)\n",
    "\n",
    "pos_under_2p = positions['espread']<pip_limit\n",
    "#pos_under_thr_99 = positions['espread']<pip_limit\n",
    "#GROIS99 = GROIS99[pos_under_2p]\n",
    "#ROIS99 = ROIS99[pos_under_2p]\n",
    "positions['DTo'] = positions[\"Do\"] +\" \"+ positions[\"To\"]\n",
    "pos_under_thr = positions[pos_under_2p]#.sort_values(by=['DTo'])\n",
    "per_under_2p = 100*sum(pos_under_2p)/positions.shape[0]\n",
    "tgsr = 100*sum(positions['GROI']>0)/positions.shape[0]\n",
    "gsr = 100*sum(pos_under_thr['GROI']>0)/sum(pos_under_2p)\n",
    "tsr = 100*sum(positions['ROI']>0)/positions.shape[0]\n",
    "sr = 100*sum(positions[pos_under_2p]['ROI']>0)/sum(pos_under_2p)\n",
    "mean_spread = positions[pos_under_2p]['spread'].mean()\n",
    "print(\"total mean GROI\")\n",
    "print(positions['GROI'].mean())\n",
    "print(\"mean GROI of selected\")\n",
    "print(positions[pos_under_2p]['GROI'].mean())\n",
    "print(\"mean_spread of selected\")\n",
    "print(mean_spread)\n",
    "print(\"Number of pos under \"+str(pip_limit))\n",
    "print(positions[pos_under_2p].shape[0])\n",
    "print(\"per under pip_limit\")\n",
    "print(per_under_2p)\n",
    "print(\"total gross success rate\")\n",
    "print(tgsr)\n",
    "print(\"gross success rate\")\n",
    "print(gsr)\n",
    "print(\"total success rate\")\n",
    "print(tsr)\n",
    "print(\"success rate\")\n",
    "print(sr)\n",
    "print(\"GROI for positions under \"+str(pip_limit))\n",
    "print(positions[pos_under_2p]['GROI'].sum())\n",
    "print(\"ROI for positions under \"+str(pip_limit))\n",
    "print(positions[pos_under_2p]['ROI'].sum())\n",
    "print(\"positions['GROI'].sum()-pip_limit*positions['GROI'].shape[0]\")\n",
    "print(positions['GROI'].sum()-pip_limit*positions['GROI'].shape[0])\n",
    "print(\"# Assets\")\n",
    "print(positions['Asset'][pos_under_2p].unique().shape[0])\n",
    "pos_under_thr.to_csv(pos_dirname+pos_filename+str(100*pip_limit)+'pFilt.csv', index=False, sep='\\t')\n",
    "#pos_under_ALBS = pos_under_thr\n"
   ]
  },
  {
   "cell_type": "code",
   "execution_count": null,
   "metadata": {},
   "outputs": [],
   "source": [
    "RRNN01010CMF180410T181109ACk1E9R20\n",
    "RRNN01010CMF170927T180410ACk2K5E14"
   ]
  },
  {
   "cell_type": "markdown",
   "metadata": {},
   "source": [
    "## Plot Results Candidate"
   ]
  },
  {
   "cell_type": "code",
   "execution_count": null,
   "metadata": {},
   "outputs": [],
   "source": [
    "import matplotlib.pyplot as plt\n",
    "import matplotlib\n",
    "\n",
    "print(pos_dirname+pos_filename+str(100*pip_limit)+'pFilt.csv')\n",
    "plt.rcParams['figure.figsize'] = [10, 5]\n",
    "plt.figure(0)\n",
    "mx = int(np.ceil(max(pos_under_thr['GROI'])))\n",
    "mn = int(np.floor(min(pos_under_thr['ROI'])))\n",
    "bins = [i/20 for i in range(20*mn,20*mx)]\n",
    "histG = plt.hist(pos_under_thr['GROI'], bins=bins)\n",
    "histR = plt.hist(pos_under_thr['ROI'], bins=bins)\n",
    "plt.grid()\n",
    "\n",
    "#pos_under_thr.index = range(pos_under_thr.shape[0])\n",
    "plt.figure(1)\n",
    "plt.plot(range(pos_under_thr.shape[0]),pos_under_thr['GROI'].cumsum())\n",
    "plt.plot(range(pos_under_thr.shape[0]),pos_under_thr['ROI'].cumsum())\n",
    "plt.grid()\n",
    "\n",
    "plt.figure(2)\n",
    "#print(pos_under_thr['ROI'])\n",
    "print(positions[pos_under_2p]['GROI'].shape)\n",
    "cumG = plt.plot(positions['GROI'].cumsum())#, bins=bins\n",
    "cumR = plt.plot(positions['ROI'].cumsum())\n",
    "plt.plot(np.cumsum(positions.GROI[(positions.GROI>=low_arg_goi) & (positions.GROI<=high_arg_goi)]))\n",
    "plt.plot(np.cumsum(positions.ROI[(positions.GROI>=low_arg_goi) & (positions.GROI<=high_arg_goi)]))\n",
    "plt.grid()\n",
    "\n",
    "\n",
    "#positions\n",
    "#grouped = pos_format.groupby(['asset'])\n",
    "weekly_group = pos_under_thr.groupby([pd.to_datetime(pos_under_thr['Di']).dt.strftime('%W')])['ROI']\n",
    "weekly_group_G = pos_under_thr.groupby([pd.to_datetime(pos_under_thr['Di']).dt.strftime('%W')])['GROI']\n",
    "asset_group = pos_under_thr.groupby(['Asset'])\n",
    "weekly_sum = weekly_group.sum()\n",
    "weekly_sum_G = weekly_group_G.sum()\n",
    "weekly_count = weekly_group.count()\n",
    "#weekly_sum.cumsum()\n",
    "#print(asset_group['GROI'].sum())\n",
    "#print(asset_group['ROI'].sum())\n",
    "#print(asset_group['ROI'].count())\n",
    "plt.figure(3)\n",
    "plt.plot(weekly_sum_G.cumsum())\n",
    "plt.plot(range(weekly_sum.shape[0]), weekly_sum.cumsum())\n",
    "plt.grid()\n",
    "#print(weekly_sum_G)\n",
    "#print(weekly_sum)#.cumsum()\n",
    "print(weekly_sum_G.cumsum()[-1])\n",
    "print(weekly_sum.cumsum()[-1])\n",
    "#print(weekly_count)\n",
    "#print(weekly_sum.cumsum())\n",
    "#print(weekly_count.shape)\n",
    "#print(pos_under_thr.groupby([pd.to_datetime(pos_under_thr['Di']).dt.strftime('%W')])['GROI'].sum())\n",
    "#print(weekly_count)\n",
    "plt.figure(4)\n",
    "plt.grid()\n",
    "plt.hist(weekly_count, bins=range(0,max(weekly_count),5))\n",
    "\n",
    "#for name, group in asset_group:\n",
    "#    print(name)\n",
    "#    print(group.to_string())\n",
    "#pd.to_datetime(positions['Di']).dt.strftime('%W')\n",
    "#pd.to_datetime(positions['Di'])#.groupby('Name').resample('W-Mon', on='Date').sum().reset_index().sort_values(by='Date')\n",
    "\n",
    "\n",
    "\n",
    "list_dates = [dt.datetime.strptime(date, '%Y.%m.%d %H:%M:%S') for date in pos_under_thr['DTo']]\n",
    "dates = matplotlib.dates.date2num(list_dates)\n",
    "plt.figure(5)\n",
    "plt.plot_date(list_dates, pos_under_thr['GROI'].cumsum(),fmt='-')\n",
    "plt.plot_date(list_dates, pos_under_thr['ROI'].cumsum(),fmt='-')\n",
    "#plt.xticks(np.arange(min(list_dates), max(list_dates), 1000000))\n",
    "plt.gcf().autofmt_xdate()\n",
    "plt.grid()"
   ]
  },
  {
   "cell_type": "code",
   "execution_count": null,
   "metadata": {},
   "outputs": [],
   "source": [
    "ind=pos_under_thr[pos_under_thr['Di']=='2018.10.26'].index[-1]\n",
    "print(pos_under_thr['Di'].loc[ind])\n",
    "print('GROI@checkpoint')\n",
    "print(pos_under_thr['GROI'].loc[:ind].cumsum().iloc[-1])\n",
    "print('ROI@checkpoint')\n",
    "print(pos_under_thr['ROI'].loc[:ind].cumsum().iloc[-1])\n"
   ]
  },
  {
   "cell_type": "code",
   "execution_count": null,
   "metadata": {},
   "outputs": [],
   "source": [
    "import matplotlib.pyplot as plt\n",
    "import matplotlib\n",
    "\n",
    "print(pos_dirname+pos_filename+str(100*pip_limit)+'pFilt.csv')\n",
    "plt.rcParams['figure.figsize'] = [10, 5]\n",
    "plt.figure(0)\n",
    "mx = int(np.ceil(max(pos_under_thr['GROI'])))\n",
    "mn = int(np.floor(min(pos_under_thr['ROI'])))\n",
    "bins = [i/20 for i in range(20*mn,20*mx)]\n",
    "histG = plt.hist(pos_under_thr['GROI'], bins=bins)\n",
    "histR = plt.hist(pos_under_thr['ROI'], bins=bins)\n",
    "plt.grid()\n",
    "\n",
    "#pos_under_thr.index = range(pos_under_thr.shape[0])\n",
    "plt.figure(1)\n",
    "plt.plot(range(pos_under_thr.shape[0]),pos_under_thr['GROI'].cumsum())\n",
    "plt.plot(range(pos_under_thr.shape[0]),pos_under_thr['ROI'].cumsum())\n",
    "#plt.plot(range(pos_under_03.shape[0]),pos_under_03['ROI'].cumsum())\n",
    "plt.grid()\n",
    "\n",
    "plt.figure(2)\n",
    "#print(pos_under_thr['ROI'])\n",
    "print(positions[pos_under_2p]['GROI'].shape)\n",
    "cumG = plt.plot(positions['GROI'].cumsum())#, bins=bins\n",
    "cumR = plt.plot(positions['ROI'].cumsum())\n",
    "plt.plot(np.cumsum(positions.GROI[(positions.GROI>=low_arg_goi) & (positions.GROI<=high_arg_goi)]))\n",
    "plt.plot(np.cumsum(positions.ROI[(positions.GROI>=low_arg_goi) & (positions.GROI<=high_arg_goi)]))\n",
    "plt.grid()\n",
    "\n",
    "\n",
    "#positions\n",
    "#grouped = pos_format.groupby(['asset'])\n",
    "weekly_group = pos_under_thr.groupby([pd.to_datetime(pos_under_thr['Di']).dt.strftime('%W')])['ROI']\n",
    "weekly_group_G = pos_under_thr.groupby([pd.to_datetime(pos_under_thr['Di']).dt.strftime('%W')])['GROI']\n",
    "asset_group = pos_under_thr.groupby(['Asset'])\n",
    "weekly_sum = weekly_group.sum()\n",
    "weekly_sum_G = weekly_group_G.sum()\n",
    "weekly_count = weekly_group.count()\n",
    "#weekly_sum.cumsum()\n",
    "#print(asset_group['GROI'].sum())\n",
    "#print(asset_group['ROI'].sum())\n",
    "#print(asset_group['ROI'].count())\n",
    "plt.figure(3)\n",
    "plt.plot(weekly_sum_G.cumsum())\n",
    "plt.plot(range(weekly_sum.shape[0]), weekly_sum.cumsum())\n",
    "plt.grid()\n",
    "#print(weekly_sum_G)\n",
    "#print(weekly_sum)#.cumsum()\n",
    "print(weekly_sum_G.cumsum()[-1])\n",
    "print(weekly_sum.cumsum()[-1])\n",
    "#print(weekly_count)\n",
    "#print(weekly_sum.cumsum())\n",
    "#print(weekly_count.shape)\n",
    "#print(pos_under_thr.groupby([pd.to_datetime(pos_under_thr['Di']).dt.strftime('%W')])['GROI'].sum())\n",
    "#print(weekly_count)\n",
    "plt.figure(4)\n",
    "plt.grid()\n",
    "plt.hist(weekly_count, bins=range(0,max(weekly_count),5))\n",
    "\n",
    "#for name, group in asset_group:\n",
    "#    print(name)\n",
    "#    print(group.to_string())\n",
    "#pd.to_datetime(positions['Di']).dt.strftime('%W')\n",
    "#pd.to_datetime(positions['Di'])#.groupby('Name').resample('W-Mon', on='Date').sum().reset_index().sort_values(by='Date')\n",
    "\n",
    "\n",
    "\n",
    "list_dates = [dt.datetime.strptime(date, '%Y.%m.%d %H:%M:%S') for date in pos_under_thr['DTo']]\n",
    "dates = matplotlib.dates.date2num(list_dates)\n",
    "plt.figure(5)\n",
    "plt.plot_date(list_dates, pos_under_thr['GROI'].cumsum(),fmt='-')\n",
    "plt.plot_date(list_dates, pos_under_thr['ROI'].cumsum(),fmt='-')\n",
    "#plt.plot_date([dt.datetime.strptime(date, '%Y.%m.%d %H:%M:%S') for date in pos_under_ALBS['DTo']],pos_under_ALBS['ROI'].cumsum(),fmt='*-')\n",
    "#plt.xticks(np.arange(min(list_dates), max(list_dates), 1000000))\n",
    "plt.gcf().autofmt_xdate()\n",
    "plt.grid()"
   ]
  },
  {
   "cell_type": "code",
   "execution_count": null,
   "metadata": {},
   "outputs": [],
   "source": [
    "pos_under_thr.sort_values(by=['ROI'],ascending=True).reset_index().drop('index',1)"
   ]
  },
  {
   "cell_type": "code",
   "execution_count": null,
   "metadata": {},
   "outputs": [],
   "source": []
  }
 ],
 "metadata": {
  "kernelspec": {
   "display_name": "Python 3",
   "language": "python",
   "name": "python3"
  },
  "language_info": {
   "codemirror_mode": {
    "name": "ipython",
    "version": 3
   },
   "file_extension": ".py",
   "mimetype": "text/x-python",
   "name": "python",
   "nbconvert_exporter": "python",
   "pygments_lexer": "ipython3",
   "version": "3.5.5"
  }
 },
 "nbformat": 4,
 "nbformat_minor": 2
}
